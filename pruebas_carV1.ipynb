{
 "cells": [
  {
   "cell_type": "code",
   "execution_count": null,
   "metadata": {},
   "outputs": [],
   "source": [
    "from langchain.chat_models import init_chat_model\n",
    "\n",
    "# LLM base\n",
    "llm = init_chat_model(\"openai:gpt-4o-mini\", temperature=0.2)\n",
    "print(llm.invoke(\"Hola, ¿quién eres?\").content)\n",
    "\n",
    "from config.llm import llm_validacion\n",
    "\n",
    "print(llm_validacion.invoke(\"Hola, ¿quién eres?\").content)"
   ]
  },
  {
   "cell_type": "code",
   "execution_count": null,
   "metadata": {},
   "outputs": [],
   "source": [
    "from config.llm import llm_validacion , prompt_validacion\n",
    "from langchain_core.messages import SystemMessage, HumanMessage\n",
    "\n",
    "respuesta = llm_validacion.invoke([\n",
    "    SystemMessage(content=prompt_validacion),\n",
    "    HumanMessage(content=\"Hola, ¿quién eres?\")\n",
    "])\n",
    "print(respuesta.content)\n",
    "\n",
    "\n"
   ]
  },
  {
   "cell_type": "code",
   "execution_count": null,
   "metadata": {},
   "outputs": [],
   "source": [
    "from config.llm import prompt_validacion\n",
    "\n",
    "print(prompt_validacion)"
   ]
  },
  {
   "cell_type": "code",
   "execution_count": null,
   "metadata": {},
   "outputs": [],
   "source": [
    "from utils.enums import TipoMecanica # Ajusta la ruta\n",
    "\n",
    "valores_mecanica = \", \".join([f\"'{e.value}'\" for e in TipoMecanica]) \n",
    "print(valores_mecanica)\n",
    "# Ejemplo de salida: 'BEV', 'GASOLINA', 'DIESEL', 'HIBRIDO', ..."
   ]
  },
  {
   "cell_type": "code",
   "execution_count": null,
   "metadata": {},
   "outputs": [],
   "source": [
    "from graph.perfil.state import ResultadoEconomia,ResultadoSoloFiltros,ResultadoSoloPerfil, ResultadoPasajeros # Ajusta la ruta,\n",
    "import json\n",
    "\n",
    "schema = ResultadoSoloPerfil.model_json_schema()\n",
    "print(json.dumps(schema, indent=2))\n",
    "\n"
   ]
  },
  {
   "cell_type": "code",
   "execution_count": null,
   "metadata": {},
   "outputs": [],
   "source": [
    "from utils.conversion import get_enum_names\n",
    "from utils.enums import TipoCarroceria, TipoMecanica\n",
    "\n",
    "#get_enum_names([TipoCarroceria.COMERCIAL, TipoCarroceria.PICKUP])\n",
    "\n",
    "#Dos maneras de obtener los nombres de las clases enums\n",
    "print(\"totalidad tipo carroceria:\" , list(TipoCarroceria))\n",
    "print(\"totalidad mecanica\" , get_enum_names(list(TipoMecanica)))\n",
    "print(\"totalidad mecanica\" ,(list(TipoMecanica)))\n"
   ]
  },
  {
   "cell_type": "markdown",
   "metadata": {},
   "source": [
    "# Creacion del Grafo"
   ]
  },
  {
   "cell_type": "code",
   "execution_count": 1,
   "metadata": {},
   "outputs": [
    {
     "name": "stdout",
     "output_type": "stream",
     "text": [
      "INFO ► Compilando el grafo...\n",
      "INFO ► Grafo compilado exitosamente.\n"
     ]
    }
   ],
   "source": [
    "from langchain_core.messages import SystemMessage, HumanMessage\n",
    "# Importar el constructor del grafo\n",
    "from IPython.display import Image, display\n",
    "from graph.perfil.builder import build_sequential_agent_graph\n",
    "# Construir el grafo\n",
    "graph = build_sequential_agent_graph()\n",
    "#display(Image(graph.get_graph(xray=True).draw_mermaid_png()))\n"
   ]
  },
  {
   "cell_type": "markdown",
   "metadata": {},
   "source": [
    "## Prueba 1"
   ]
  },
  {
   "cell_type": "code",
   "execution_count": 2,
   "metadata": {},
   "outputs": [
    {
     "name": "stdout",
     "output_type": "stream",
     "text": [
      "--- Ejecutando Nodo: route_based_on_state_node ---\n",
      "\n",
      "--- DEBUG: Evaluating Routing Decision ---\n",
      "--- DEBUG CHECK PERFIL ---\n",
      "Input prefs object: None\n",
      "Input prefs type: <class 'NoneType'>\n",
      "DEBUG Router: Prefs OK? False\n",
      "--- DEBUG CHECK PASAJEROS ---\n",
      "Input info pasajeros: None\n",
      "DEBUG (Validation Pasajeros) ► Objeto InfoPasajeros es None.\n",
      "DEBUG Router: Pasajeros OK? False\n",
      "DEBUG (Validation Filtros) ► Objeto FiltrosInferidos es None.\n",
      "DEBUG Router: Filtros OK? False\n",
      "--- DEBUG CHECK ECONOMIA (Manual) ---\n",
      "Input econ object: None\n",
      "DEBUG (Validation Economía Manual) ► Objeto EconomiaUsuario es None.\n",
      "DEBUG Router: Economía OK? False\n",
      "DEBUG Router: Pesos Calculados? False\n",
      "DEBUG Router: Coches Buscados? False\n",
      "--- DEBUG CHECK PERFIL ---\n",
      "Input prefs object: None\n",
      "Input prefs type: <class 'NoneType'>\n",
      "DEBUG Router: Decisión -> recopilar_preferencias\n",
      "--- Ejecutando Nodo: recopilar_preferencias_node ---\n",
      "DEBUG (Perfil) ► Último mensaje es HumanMessage o historial vacío, llamando a llm_solo_perfil...\n"
     ]
    },
    {
     "name": "stderr",
     "output_type": "stream",
     "text": [
      "INFO (RAG): HTTP Request: POST https://api.openai.com/v1/chat/completions \"HTTP/1.1 200 OK\"\n"
     ]
    },
    {
     "name": "stdout",
     "output_type": "stream",
     "text": [
      "DEBUG (Perfil) ► Respuesta llm_solo_perfil: preferencias_usuario=PerfilUsuario(apasionado_motor=None, valora_estetica=None, coche_principal_hogar=None, uso_profesional=None, tipo_uso_profesional=None, prefiere_diseno_exclusivo=None, aventura=None, transporta_carga_voluminosa=None, necesita_espacio_objetos_especiales=None, altura_mayor_190='sí', peso_mayor_100='no', solo_electricos=None, transmision_preferida=None, rating_fiabilidad_durabilidad=None, rating_seguridad=None, rating_comodidad=None, rating_impacto_ambiental=None, rating_costes_uso=None, rating_tecnologia_conectividad=None, prioriza_baja_depreciacion=None) tipo_mensaje='PREGUNTA' contenido_mensaje='¡Hola! Soy CarBlau, tu asistente para encontrar el coche ideal. Para comenzar, ¿eres un apasionado del mundo automotriz?'\n",
      "DEBUG (Perfil) ► Preferencias TRAS post-procesamiento: apasionado_motor=None valora_estetica=None coche_principal_hogar=None uso_profesional=None tipo_uso_profesional=None prefiere_diseno_exclusivo=None aventura=None transporta_carga_voluminosa=None necesita_espacio_objetos_especiales=None altura_mayor_190='sí' peso_mayor_100='no' solo_electricos=None transmision_preferida=None rating_fiabilidad_durabilidad=None rating_seguridad=None rating_comodidad=None rating_impacto_ambiental=None rating_costes_uso=None rating_tecnologia_conectividad=None prioriza_baja_depreciacion=None\n",
      "DEBUG (Perfil) ► Estado preferencias_usuario actualizado: apasionado_motor=None valora_estetica=None coche_principal_hogar=None uso_profesional=None tipo_uso_profesional=None prefiere_diseno_exclusivo=None aventura=None transporta_carga_voluminosa=None necesita_espacio_objetos_especiales=None altura_mayor_190='sí' peso_mayor_100='no' solo_electricos=None transmision_preferida=None rating_fiabilidad_durabilidad=None rating_seguridad=None rating_comodidad=None rating_impacto_ambiental=None rating_costes_uso=None rating_tecnologia_conectividad=None prioriza_baja_depreciacion=None\n",
      "DEBUG (Perfil) ► Guardando mensaje pendiente: ¡Hola! Soy CarBlau, tu asistente para encontrar el coche ideal. Para comenzar, ¿eres un apasionado del mundo automotriz?\n",
      "--- Ejecutando Nodo: validar_preferencias_node ---\n",
      "--- DEBUG CHECK PERFIL ---\n",
      "Input prefs object: apasionado_motor=None valora_estetica=None coche_principal_hogar=None uso_profesional=None tipo_uso_profesional=None prefiere_diseno_exclusivo=None aventura=None transporta_carga_voluminosa=None necesita_espacio_objetos_especiales=None altura_mayor_190='sí' peso_mayor_100='no' solo_electricos=None transmision_preferida=None rating_fiabilidad_durabilidad=None rating_seguridad=None rating_comodidad=None rating_impacto_ambiental=None rating_costes_uso=None rating_tecnologia_conectividad=None prioriza_baja_depreciacion=None\n",
      "Input prefs type: <class 'graph.perfil.state.PerfilUsuario'>\n",
      "DEBUG (Validation Perfil) ► Campo 'apasionado_motor' está vacío/None.\n",
      "DEBUG (Perfil) ► Validación: PerfilUsuario considerado INCOMPLETO.\n",
      "--- Evaluando Condición: ruta_decision_perfil ---\n",
      "DEBUG (Condición Perfil) ► Estado 'preferencias_usuario' recibido: apasionado_motor=None valora_estetica=None coche_principal_hogar=None uso_profesional=None tipo_uso_profesional=None prefiere_diseno_exclusivo=None aventura=None transporta_carga_voluminosa=None necesita_espacio_objetos_especiales=None altura_mayor_190='sí' peso_mayor_100='no' solo_electricos=None transmision_preferida=None rating_fiabilidad_durabilidad=None rating_seguridad=None rating_comodidad=None rating_impacto_ambiental=None rating_costes_uso=None rating_tecnologia_conectividad=None prioriza_baja_depreciacion=None\n",
      "DEBUG (Condición Perfil) ► Tipo de 'preferencias_usuario': <class 'graph.perfil.state.PerfilUsuario'>\n",
      "--- DEBUG CHECK PERFIL ---\n",
      "Input prefs object: apasionado_motor=None valora_estetica=None coche_principal_hogar=None uso_profesional=None tipo_uso_profesional=None prefiere_diseno_exclusivo=None aventura=None transporta_carga_voluminosa=None necesita_espacio_objetos_especiales=None altura_mayor_190='sí' peso_mayor_100='no' solo_electricos=None transmision_preferida=None rating_fiabilidad_durabilidad=None rating_seguridad=None rating_comodidad=None rating_impacto_ambiental=None rating_costes_uso=None rating_tecnologia_conectividad=None prioriza_baja_depreciacion=None\n",
      "Input prefs type: <class 'graph.perfil.state.PerfilUsuario'>\n",
      "DEBUG (Validation Perfil) ► Campo 'apasionado_motor' está vacío/None.\n",
      "DEBUG (Condición Perfil) ► Perfil INCOMPLETO. Se necesita pregunta.\n",
      "--- Ejecutando Nodo: preguntar_preferencias_node ---\n",
      "--- DEBUG CHECK PERFIL ---\n",
      "Input prefs object: apasionado_motor=None valora_estetica=None coche_principal_hogar=None uso_profesional=None tipo_uso_profesional=None prefiere_diseno_exclusivo=None aventura=None transporta_carga_voluminosa=None necesita_espacio_objetos_especiales=None altura_mayor_190='sí' peso_mayor_100='no' solo_electricos=None transmision_preferida=None rating_fiabilidad_durabilidad=None rating_seguridad=None rating_comodidad=None rating_impacto_ambiental=None rating_costes_uso=None rating_tecnologia_conectividad=None prioriza_baja_depreciacion=None\n",
      "Input prefs type: <class 'graph.perfil.state.PerfilUsuario'>\n",
      "DEBUG (Validation Perfil) ► Campo 'apasionado_motor' está vacío/None.\n",
      "DEBUG (Preguntar Perfil) ► Perfil aún INCOMPLETO según checker.\n",
      "DEBUG (Preguntar Perfil) ► Pregunta fallback generada: ¿Te consideras una persona entusiasta del mundo del motor y la tecnología automotriz?\n",
      "DEBUG (Preguntar Perfil) ► Usando mensaje pendiente (pregunta LLM): ¡Hola! Soy CarBlau, tu asistente para encontrar el coche ideal. Para comenzar, ¿eres un apasionado del mundo automotriz?\n",
      "DEBUG (Preguntar Perfil) ► Mensaje final añadido: ¡Hola! Soy CarBlau, tu asistente para encontrar el coche ideal. Para comenzar, ¿eres un apasionado del mundo automotriz?\n",
      "==================================\u001b[1m Ai Message \u001b[0m==================================\n",
      "\n",
      "¡Hola! Soy CarBlau, tu asistente para encontrar el coche ideal. Para comenzar, ¿eres un apasionado del mundo automotriz?\n"
     ]
    }
   ],
   "source": [
    "from langchain_core.messages import HumanMessage, SystemMessage\n",
    "\n",
    "# Create a thread\n",
    "config = {\"configurable\": {\"thread_id\": \"1\"}}\n",
    "\n",
    "# Start conversation\n",
    "input_message = HumanMessage(content=\"quiero un coche, mido 1.95 y peso 70 kg\")\n",
    "output = graph.invoke({\"messages\": [input_message]}, config) \n",
    "for m in output['messages'][-1:]:\n",
    "    m.pretty_print()\n"
   ]
  },
  {
   "cell_type": "code",
   "execution_count": null,
   "metadata": {},
   "outputs": [],
   "source": [
    "print(output['preferencias_usuario'])\n",
    "print('-----------------------')\n",
    "# print(output['filtros_inferidos'])\n",
    "# print('-----------------------')\n",
    "# print(output['economia'])"
   ]
  },
  {
   "cell_type": "code",
   "execution_count": 3,
   "metadata": {},
   "outputs": [
    {
     "name": "stdout",
     "output_type": "stream",
     "text": [
      "--- Ejecutando Nodo: route_based_on_state_node ---\n",
      "\n",
      "--- DEBUG: Evaluating Routing Decision ---\n",
      "--- DEBUG CHECK PERFIL ---\n",
      "Input prefs object: apasionado_motor=None valora_estetica=None coche_principal_hogar=None uso_profesional=None tipo_uso_profesional=None prefiere_diseno_exclusivo=None aventura=None transporta_carga_voluminosa=None necesita_espacio_objetos_especiales=None altura_mayor_190='sí' peso_mayor_100='no' solo_electricos=None transmision_preferida=None rating_fiabilidad_durabilidad=None rating_seguridad=None rating_comodidad=None rating_impacto_ambiental=None rating_costes_uso=None rating_tecnologia_conectividad=None prioriza_baja_depreciacion=None\n",
      "Input prefs type: <class 'graph.perfil.state.PerfilUsuario'>\n",
      "DEBUG (Validation Perfil) ► Campo 'apasionado_motor' está vacío/None.\n",
      "DEBUG Router: Prefs OK? False\n",
      "--- DEBUG CHECK PASAJEROS ---\n",
      "Input info pasajeros: None\n",
      "DEBUG (Validation Pasajeros) ► Objeto InfoPasajeros es None.\n",
      "DEBUG Router: Pasajeros OK? False\n",
      "DEBUG (Validation Filtros) ► Objeto FiltrosInferidos es None.\n",
      "DEBUG Router: Filtros OK? False\n",
      "--- DEBUG CHECK ECONOMIA (Manual) ---\n",
      "Input econ object: None\n",
      "DEBUG (Validation Economía Manual) ► Objeto EconomiaUsuario es None.\n",
      "DEBUG Router: Economía OK? False\n",
      "DEBUG Router: Pesos Calculados? False\n",
      "DEBUG Router: Coches Buscados? False\n",
      "--- DEBUG CHECK PERFIL ---\n",
      "Input prefs object: apasionado_motor=None valora_estetica=None coche_principal_hogar=None uso_profesional=None tipo_uso_profesional=None prefiere_diseno_exclusivo=None aventura=None transporta_carga_voluminosa=None necesita_espacio_objetos_especiales=None altura_mayor_190='sí' peso_mayor_100='no' solo_electricos=None transmision_preferida=None rating_fiabilidad_durabilidad=None rating_seguridad=None rating_comodidad=None rating_impacto_ambiental=None rating_costes_uso=None rating_tecnologia_conectividad=None prioriza_baja_depreciacion=None\n",
      "Input prefs type: <class 'graph.perfil.state.PerfilUsuario'>\n",
      "DEBUG (Validation Perfil) ► Campo 'apasionado_motor' está vacío/None.\n",
      "DEBUG Router: Decisión -> recopilar_preferencias\n",
      "--- Ejecutando Nodo: recopilar_preferencias_node ---\n",
      "DEBUG (Perfil) ► Último mensaje es HumanMessage o historial vacío, llamando a llm_solo_perfil...\n"
     ]
    },
    {
     "name": "stderr",
     "output_type": "stream",
     "text": [
      "INFO (RAG): HTTP Request: POST https://api.openai.com/v1/chat/completions \"HTTP/1.1 200 OK\"\n"
     ]
    },
    {
     "name": "stdout",
     "output_type": "stream",
     "text": [
      "DEBUG (Perfil) ► Respuesta llm_solo_perfil: preferencias_usuario=PerfilUsuario(apasionado_motor='no', valora_estetica=None, coche_principal_hogar=None, uso_profesional=None, tipo_uso_profesional=None, prefiere_diseno_exclusivo=None, aventura=None, transporta_carga_voluminosa=None, necesita_espacio_objetos_especiales=None, altura_mayor_190='sí', peso_mayor_100='no', solo_electricos=None, transmision_preferida=None, rating_fiabilidad_durabilidad=None, rating_seguridad=None, rating_comodidad=None, rating_impacto_ambiental=None, rating_costes_uso=None, rating_tecnologia_conectividad=None, prioriza_baja_depreciacion=None) tipo_mensaje='PREGUNTA' contenido_mensaje='¿Valoras especialmente la estética del coche?'\n",
      "DEBUG (Perfil) ► Preferencias TRAS post-procesamiento: apasionado_motor='no' valora_estetica=None coche_principal_hogar=None uso_profesional=None tipo_uso_profesional=None prefiere_diseno_exclusivo=None aventura=None transporta_carga_voluminosa=None necesita_espacio_objetos_especiales=None altura_mayor_190='sí' peso_mayor_100='no' solo_electricos=None transmision_preferida=None rating_fiabilidad_durabilidad=None rating_seguridad=None rating_comodidad=None rating_impacto_ambiental=None rating_costes_uso=None rating_tecnologia_conectividad=None prioriza_baja_depreciacion=None\n",
      "DEBUG (Perfil) ► Estado preferencias_usuario actualizado: apasionado_motor='no' valora_estetica=None coche_principal_hogar=None uso_profesional=None tipo_uso_profesional=None prefiere_diseno_exclusivo=None aventura=None transporta_carga_voluminosa=None necesita_espacio_objetos_especiales=None altura_mayor_190='sí' peso_mayor_100='no' solo_electricos=None transmision_preferida=None rating_fiabilidad_durabilidad=None rating_seguridad=None rating_comodidad=None rating_impacto_ambiental=None rating_costes_uso=None rating_tecnologia_conectividad=None prioriza_baja_depreciacion=None\n",
      "DEBUG (Perfil) ► Guardando mensaje pendiente: ¿Valoras especialmente la estética del coche?\n",
      "--- Ejecutando Nodo: validar_preferencias_node ---\n",
      "--- DEBUG CHECK PERFIL ---\n",
      "Input prefs object: apasionado_motor='no' valora_estetica=None coche_principal_hogar=None uso_profesional=None tipo_uso_profesional=None prefiere_diseno_exclusivo=None aventura=None transporta_carga_voluminosa=None necesita_espacio_objetos_especiales=None altura_mayor_190='sí' peso_mayor_100='no' solo_electricos=None transmision_preferida=None rating_fiabilidad_durabilidad=None rating_seguridad=None rating_comodidad=None rating_impacto_ambiental=None rating_costes_uso=None rating_tecnologia_conectividad=None prioriza_baja_depreciacion=None\n",
      "Input prefs type: <class 'graph.perfil.state.PerfilUsuario'>\n",
      "DEBUG (Validation Perfil) ► Campo 'valora_estetica' está vacío/None.\n",
      "DEBUG (Perfil) ► Validación: PerfilUsuario considerado INCOMPLETO.\n",
      "--- Evaluando Condición: ruta_decision_perfil ---\n",
      "DEBUG (Condición Perfil) ► Estado 'preferencias_usuario' recibido: apasionado_motor='no' valora_estetica=None coche_principal_hogar=None uso_profesional=None tipo_uso_profesional=None prefiere_diseno_exclusivo=None aventura=None transporta_carga_voluminosa=None necesita_espacio_objetos_especiales=None altura_mayor_190='sí' peso_mayor_100='no' solo_electricos=None transmision_preferida=None rating_fiabilidad_durabilidad=None rating_seguridad=None rating_comodidad=None rating_impacto_ambiental=None rating_costes_uso=None rating_tecnologia_conectividad=None prioriza_baja_depreciacion=None\n",
      "DEBUG (Condición Perfil) ► Tipo de 'preferencias_usuario': <class 'graph.perfil.state.PerfilUsuario'>\n",
      "--- DEBUG CHECK PERFIL ---\n",
      "Input prefs object: apasionado_motor='no' valora_estetica=None coche_principal_hogar=None uso_profesional=None tipo_uso_profesional=None prefiere_diseno_exclusivo=None aventura=None transporta_carga_voluminosa=None necesita_espacio_objetos_especiales=None altura_mayor_190='sí' peso_mayor_100='no' solo_electricos=None transmision_preferida=None rating_fiabilidad_durabilidad=None rating_seguridad=None rating_comodidad=None rating_impacto_ambiental=None rating_costes_uso=None rating_tecnologia_conectividad=None prioriza_baja_depreciacion=None\n",
      "Input prefs type: <class 'graph.perfil.state.PerfilUsuario'>\n",
      "DEBUG (Validation Perfil) ► Campo 'valora_estetica' está vacío/None.\n",
      "DEBUG (Condición Perfil) ► Perfil INCOMPLETO. Se necesita pregunta.\n",
      "--- Ejecutando Nodo: preguntar_preferencias_node ---\n",
      "--- DEBUG CHECK PERFIL ---\n",
      "Input prefs object: apasionado_motor='no' valora_estetica=None coche_principal_hogar=None uso_profesional=None tipo_uso_profesional=None prefiere_diseno_exclusivo=None aventura=None transporta_carga_voluminosa=None necesita_espacio_objetos_especiales=None altura_mayor_190='sí' peso_mayor_100='no' solo_electricos=None transmision_preferida=None rating_fiabilidad_durabilidad=None rating_seguridad=None rating_comodidad=None rating_impacto_ambiental=None rating_costes_uso=None rating_tecnologia_conectividad=None prioriza_baja_depreciacion=None\n",
      "Input prefs type: <class 'graph.perfil.state.PerfilUsuario'>\n",
      "DEBUG (Validation Perfil) ► Campo 'valora_estetica' está vacío/None.\n",
      "DEBUG (Preguntar Perfil) ► Perfil aún INCOMPLETO según checker.\n",
      "DEBUG (Preguntar Perfil) ► Pregunta fallback generada: ¿La Estética es importante para ti o crees que hay factores más importantes?\n",
      "DEBUG (Preguntar Perfil) ► Usando mensaje pendiente (pregunta LLM): ¿Valoras especialmente la estética del coche?\n",
      "DEBUG (Preguntar Perfil) ► Mensaje final añadido: ¿Valoras especialmente la estética del coche?\n",
      "==================================\u001b[1m Ai Message \u001b[0m==================================\n",
      "\n",
      "¿Valoras especialmente la estética del coche?\n"
     ]
    }
   ],
   "source": [
    "# Start conversation\n",
    "input_message = HumanMessage(content=\"no\")\n",
    "output = graph.invoke({\"messages\": [input_message]}, config) \n",
    "for m in output['messages'][-1:]:\n",
    "    m.pretty_print()"
   ]
  },
  {
   "cell_type": "code",
   "execution_count": 4,
   "metadata": {},
   "outputs": [
    {
     "name": "stdout",
     "output_type": "stream",
     "text": [
      "--- Ejecutando Nodo: route_based_on_state_node ---\n",
      "\n",
      "--- DEBUG: Evaluating Routing Decision ---\n",
      "--- DEBUG CHECK PERFIL ---\n",
      "Input prefs object: apasionado_motor='no' valora_estetica=None coche_principal_hogar=None uso_profesional=None tipo_uso_profesional=None prefiere_diseno_exclusivo=None aventura=None transporta_carga_voluminosa=None necesita_espacio_objetos_especiales=None altura_mayor_190='sí' peso_mayor_100='no' solo_electricos=None transmision_preferida=None rating_fiabilidad_durabilidad=None rating_seguridad=None rating_comodidad=None rating_impacto_ambiental=None rating_costes_uso=None rating_tecnologia_conectividad=None prioriza_baja_depreciacion=None\n",
      "Input prefs type: <class 'graph.perfil.state.PerfilUsuario'>\n",
      "DEBUG (Validation Perfil) ► Campo 'valora_estetica' está vacío/None.\n",
      "DEBUG Router: Prefs OK? False\n",
      "--- DEBUG CHECK PASAJEROS ---\n",
      "Input info pasajeros: None\n",
      "DEBUG (Validation Pasajeros) ► Objeto InfoPasajeros es None.\n",
      "DEBUG Router: Pasajeros OK? False\n",
      "DEBUG (Validation Filtros) ► Objeto FiltrosInferidos es None.\n",
      "DEBUG Router: Filtros OK? False\n",
      "--- DEBUG CHECK ECONOMIA (Manual) ---\n",
      "Input econ object: None\n",
      "DEBUG (Validation Economía Manual) ► Objeto EconomiaUsuario es None.\n",
      "DEBUG Router: Economía OK? False\n",
      "DEBUG Router: Pesos Calculados? False\n",
      "DEBUG Router: Coches Buscados? False\n",
      "--- DEBUG CHECK PERFIL ---\n",
      "Input prefs object: apasionado_motor='no' valora_estetica=None coche_principal_hogar=None uso_profesional=None tipo_uso_profesional=None prefiere_diseno_exclusivo=None aventura=None transporta_carga_voluminosa=None necesita_espacio_objetos_especiales=None altura_mayor_190='sí' peso_mayor_100='no' solo_electricos=None transmision_preferida=None rating_fiabilidad_durabilidad=None rating_seguridad=None rating_comodidad=None rating_impacto_ambiental=None rating_costes_uso=None rating_tecnologia_conectividad=None prioriza_baja_depreciacion=None\n",
      "Input prefs type: <class 'graph.perfil.state.PerfilUsuario'>\n",
      "DEBUG (Validation Perfil) ► Campo 'valora_estetica' está vacío/None.\n",
      "DEBUG Router: Decisión -> recopilar_preferencias\n",
      "--- Ejecutando Nodo: recopilar_preferencias_node ---\n",
      "DEBUG (Perfil) ► Último mensaje es HumanMessage o historial vacío, llamando a llm_solo_perfil...\n"
     ]
    },
    {
     "name": "stderr",
     "output_type": "stream",
     "text": [
      "INFO (RAG): HTTP Request: POST https://api.openai.com/v1/chat/completions \"HTTP/1.1 200 OK\"\n"
     ]
    },
    {
     "name": "stdout",
     "output_type": "stream",
     "text": [
      "DEBUG (Perfil) ► Respuesta llm_solo_perfil: preferencias_usuario=PerfilUsuario(apasionado_motor='no', valora_estetica='no', coche_principal_hogar=None, uso_profesional=None, tipo_uso_profesional=None, prefiere_diseno_exclusivo=None, aventura=None, transporta_carga_voluminosa=None, necesita_espacio_objetos_especiales=None, altura_mayor_190='sí', peso_mayor_100='no', solo_electricos=None, transmision_preferida=None, rating_fiabilidad_durabilidad=None, rating_seguridad=None, rating_comodidad=None, rating_impacto_ambiental=None, rating_costes_uso=None, rating_tecnologia_conectividad=None, prioriza_baja_depreciacion=None) tipo_mensaje='PREGUNTA' contenido_mensaje='¿El coche que estamos buscando será el vehículo principal de tu hogar?'\n",
      "DEBUG (Perfil) ► Preferencias TRAS post-procesamiento: apasionado_motor='no' valora_estetica='no' coche_principal_hogar=None uso_profesional=None tipo_uso_profesional=None prefiere_diseno_exclusivo=None aventura=None transporta_carga_voluminosa=None necesita_espacio_objetos_especiales=None altura_mayor_190='sí' peso_mayor_100='no' solo_electricos=None transmision_preferida=None rating_fiabilidad_durabilidad=None rating_seguridad=None rating_comodidad=None rating_impacto_ambiental=None rating_costes_uso=None rating_tecnologia_conectividad=None prioriza_baja_depreciacion=None\n",
      "DEBUG (Perfil) ► Estado preferencias_usuario actualizado: apasionado_motor='no' valora_estetica='no' coche_principal_hogar=None uso_profesional=None tipo_uso_profesional=None prefiere_diseno_exclusivo=None aventura=None transporta_carga_voluminosa=None necesita_espacio_objetos_especiales=None altura_mayor_190='sí' peso_mayor_100='no' solo_electricos=None transmision_preferida=None rating_fiabilidad_durabilidad=None rating_seguridad=None rating_comodidad=None rating_impacto_ambiental=None rating_costes_uso=None rating_tecnologia_conectividad=None prioriza_baja_depreciacion=None\n",
      "DEBUG (Perfil) ► Guardando mensaje pendiente: ¿El coche que estamos buscando será el vehículo principal de tu hogar?\n",
      "--- Ejecutando Nodo: validar_preferencias_node ---\n",
      "--- DEBUG CHECK PERFIL ---\n",
      "Input prefs object: apasionado_motor='no' valora_estetica='no' coche_principal_hogar=None uso_profesional=None tipo_uso_profesional=None prefiere_diseno_exclusivo=None aventura=None transporta_carga_voluminosa=None necesita_espacio_objetos_especiales=None altura_mayor_190='sí' peso_mayor_100='no' solo_electricos=None transmision_preferida=None rating_fiabilidad_durabilidad=None rating_seguridad=None rating_comodidad=None rating_impacto_ambiental=None rating_costes_uso=None rating_tecnologia_conectividad=None prioriza_baja_depreciacion=None\n",
      "Input prefs type: <class 'graph.perfil.state.PerfilUsuario'>\n",
      "DEBUG (Validation Perfil) ► Campo 'coche_principal_hogar' está vacío/None.\n",
      "DEBUG (Perfil) ► Validación: PerfilUsuario considerado INCOMPLETO.\n",
      "--- Evaluando Condición: ruta_decision_perfil ---\n",
      "DEBUG (Condición Perfil) ► Estado 'preferencias_usuario' recibido: apasionado_motor='no' valora_estetica='no' coche_principal_hogar=None uso_profesional=None tipo_uso_profesional=None prefiere_diseno_exclusivo=None aventura=None transporta_carga_voluminosa=None necesita_espacio_objetos_especiales=None altura_mayor_190='sí' peso_mayor_100='no' solo_electricos=None transmision_preferida=None rating_fiabilidad_durabilidad=None rating_seguridad=None rating_comodidad=None rating_impacto_ambiental=None rating_costes_uso=None rating_tecnologia_conectividad=None prioriza_baja_depreciacion=None\n",
      "DEBUG (Condición Perfil) ► Tipo de 'preferencias_usuario': <class 'graph.perfil.state.PerfilUsuario'>\n",
      "--- DEBUG CHECK PERFIL ---\n",
      "Input prefs object: apasionado_motor='no' valora_estetica='no' coche_principal_hogar=None uso_profesional=None tipo_uso_profesional=None prefiere_diseno_exclusivo=None aventura=None transporta_carga_voluminosa=None necesita_espacio_objetos_especiales=None altura_mayor_190='sí' peso_mayor_100='no' solo_electricos=None transmision_preferida=None rating_fiabilidad_durabilidad=None rating_seguridad=None rating_comodidad=None rating_impacto_ambiental=None rating_costes_uso=None rating_tecnologia_conectividad=None prioriza_baja_depreciacion=None\n",
      "Input prefs type: <class 'graph.perfil.state.PerfilUsuario'>\n",
      "DEBUG (Validation Perfil) ► Campo 'coche_principal_hogar' está vacío/None.\n",
      "DEBUG (Condición Perfil) ► Perfil INCOMPLETO. Se necesita pregunta.\n",
      "--- Ejecutando Nodo: preguntar_preferencias_node ---\n",
      "--- DEBUG CHECK PERFIL ---\n",
      "Input prefs object: apasionado_motor='no' valora_estetica='no' coche_principal_hogar=None uso_profesional=None tipo_uso_profesional=None prefiere_diseno_exclusivo=None aventura=None transporta_carga_voluminosa=None necesita_espacio_objetos_especiales=None altura_mayor_190='sí' peso_mayor_100='no' solo_electricos=None transmision_preferida=None rating_fiabilidad_durabilidad=None rating_seguridad=None rating_comodidad=None rating_impacto_ambiental=None rating_costes_uso=None rating_tecnologia_conectividad=None prioriza_baja_depreciacion=None\n",
      "Input prefs type: <class 'graph.perfil.state.PerfilUsuario'>\n",
      "DEBUG (Validation Perfil) ► Campo 'coche_principal_hogar' está vacío/None.\n",
      "DEBUG (Preguntar Perfil) ► Perfil aún INCOMPLETO según checker.\n",
      "DEBUG (Preguntar Perfil) ► Pregunta fallback generada: ¿El coche que estamos buscando será el vehículo principal de tu hogar?.\n",
      "DEBUG (Preguntar Perfil) ► Usando mensaje pendiente (pregunta LLM): ¿El coche que estamos buscando será el vehículo principal de tu hogar?\n",
      "DEBUG (Preguntar Perfil) ► Mensaje final añadido: ¿El coche que estamos buscando será el vehículo principal de tu hogar?\n",
      "==================================\u001b[1m Ai Message \u001b[0m==================================\n",
      "\n",
      "¿El coche que estamos buscando será el vehículo principal de tu hogar?\n"
     ]
    }
   ],
   "source": [
    "config = {\"configurable\": {\"thread_id\": \"1\"}}\n",
    "input_message = HumanMessage(content=\"no\")\n",
    "output = graph.invoke({\"messages\": [input_message]}, config) \n",
    "for m in output['messages'][-1:]:\n",
    "    m.pretty_print()"
   ]
  },
  {
   "cell_type": "code",
   "execution_count": 5,
   "metadata": {},
   "outputs": [
    {
     "name": "stdout",
     "output_type": "stream",
     "text": [
      "--- Ejecutando Nodo: route_based_on_state_node ---\n",
      "\n",
      "--- DEBUG: Evaluating Routing Decision ---\n",
      "--- DEBUG CHECK PERFIL ---\n",
      "Input prefs object: apasionado_motor='no' valora_estetica='no' coche_principal_hogar=None uso_profesional=None tipo_uso_profesional=None prefiere_diseno_exclusivo=None aventura=None transporta_carga_voluminosa=None necesita_espacio_objetos_especiales=None altura_mayor_190='sí' peso_mayor_100='no' solo_electricos=None transmision_preferida=None rating_fiabilidad_durabilidad=None rating_seguridad=None rating_comodidad=None rating_impacto_ambiental=None rating_costes_uso=None rating_tecnologia_conectividad=None prioriza_baja_depreciacion=None\n",
      "Input prefs type: <class 'graph.perfil.state.PerfilUsuario'>\n",
      "DEBUG (Validation Perfil) ► Campo 'coche_principal_hogar' está vacío/None.\n",
      "DEBUG Router: Prefs OK? False\n",
      "--- DEBUG CHECK PASAJEROS ---\n",
      "Input info pasajeros: None\n",
      "DEBUG (Validation Pasajeros) ► Objeto InfoPasajeros es None.\n",
      "DEBUG Router: Pasajeros OK? False\n",
      "DEBUG (Validation Filtros) ► Objeto FiltrosInferidos es None.\n",
      "DEBUG Router: Filtros OK? False\n",
      "--- DEBUG CHECK ECONOMIA (Manual) ---\n",
      "Input econ object: None\n",
      "DEBUG (Validation Economía Manual) ► Objeto EconomiaUsuario es None.\n",
      "DEBUG Router: Economía OK? False\n",
      "DEBUG Router: Pesos Calculados? False\n",
      "DEBUG Router: Coches Buscados? False\n",
      "--- DEBUG CHECK PERFIL ---\n",
      "Input prefs object: apasionado_motor='no' valora_estetica='no' coche_principal_hogar=None uso_profesional=None tipo_uso_profesional=None prefiere_diseno_exclusivo=None aventura=None transporta_carga_voluminosa=None necesita_espacio_objetos_especiales=None altura_mayor_190='sí' peso_mayor_100='no' solo_electricos=None transmision_preferida=None rating_fiabilidad_durabilidad=None rating_seguridad=None rating_comodidad=None rating_impacto_ambiental=None rating_costes_uso=None rating_tecnologia_conectividad=None prioriza_baja_depreciacion=None\n",
      "Input prefs type: <class 'graph.perfil.state.PerfilUsuario'>\n",
      "DEBUG (Validation Perfil) ► Campo 'coche_principal_hogar' está vacío/None.\n",
      "DEBUG Router: Decisión -> recopilar_preferencias\n",
      "--- Ejecutando Nodo: recopilar_preferencias_node ---\n",
      "DEBUG (Perfil) ► Último mensaje es HumanMessage o historial vacío, llamando a llm_solo_perfil...\n"
     ]
    },
    {
     "name": "stderr",
     "output_type": "stream",
     "text": [
      "INFO (RAG): HTTP Request: POST https://api.openai.com/v1/chat/completions \"HTTP/1.1 200 OK\"\n"
     ]
    },
    {
     "name": "stdout",
     "output_type": "stream",
     "text": [
      "DEBUG (Perfil) ► Respuesta llm_solo_perfil: preferencias_usuario=PerfilUsuario(apasionado_motor='no', valora_estetica='no', coche_principal_hogar='sí', uso_profesional=None, tipo_uso_profesional=None, prefiere_diseno_exclusivo=None, aventura=None, transporta_carga_voluminosa=None, necesita_espacio_objetos_especiales=None, altura_mayor_190='sí', peso_mayor_100='no', solo_electricos=None, transmision_preferida=None, rating_fiabilidad_durabilidad=None, rating_seguridad=None, rating_comodidad=None, rating_impacto_ambiental=None, rating_costes_uso=None, rating_tecnologia_conectividad=None, prioriza_baja_depreciacion=None) tipo_mensaje='PREGUNTA' contenido_mensaje='¿Usarás el coche para trabajo?'\n",
      "DEBUG (Perfil) ► Preferencias TRAS post-procesamiento: apasionado_motor='no' valora_estetica='no' coche_principal_hogar='sí' uso_profesional=None tipo_uso_profesional=None prefiere_diseno_exclusivo=None aventura=None transporta_carga_voluminosa=None necesita_espacio_objetos_especiales=None altura_mayor_190='sí' peso_mayor_100='no' solo_electricos=None transmision_preferida=None rating_fiabilidad_durabilidad=None rating_seguridad=None rating_comodidad=None rating_impacto_ambiental=None rating_costes_uso=None rating_tecnologia_conectividad=None prioriza_baja_depreciacion=None\n",
      "DEBUG (Perfil) ► Estado preferencias_usuario actualizado: apasionado_motor='no' valora_estetica='no' coche_principal_hogar='sí' uso_profesional=None tipo_uso_profesional=None prefiere_diseno_exclusivo=None aventura=None transporta_carga_voluminosa=None necesita_espacio_objetos_especiales=None altura_mayor_190='sí' peso_mayor_100='no' solo_electricos=None transmision_preferida=None rating_fiabilidad_durabilidad=None rating_seguridad=None rating_comodidad=None rating_impacto_ambiental=None rating_costes_uso=None rating_tecnologia_conectividad=None prioriza_baja_depreciacion=None\n",
      "DEBUG (Perfil) ► Guardando mensaje pendiente: ¿Usarás el coche para trabajo?\n",
      "--- Ejecutando Nodo: validar_preferencias_node ---\n",
      "--- DEBUG CHECK PERFIL ---\n",
      "Input prefs object: apasionado_motor='no' valora_estetica='no' coche_principal_hogar='sí' uso_profesional=None tipo_uso_profesional=None prefiere_diseno_exclusivo=None aventura=None transporta_carga_voluminosa=None necesita_espacio_objetos_especiales=None altura_mayor_190='sí' peso_mayor_100='no' solo_electricos=None transmision_preferida=None rating_fiabilidad_durabilidad=None rating_seguridad=None rating_comodidad=None rating_impacto_ambiental=None rating_costes_uso=None rating_tecnologia_conectividad=None prioriza_baja_depreciacion=None\n",
      "Input prefs type: <class 'graph.perfil.state.PerfilUsuario'>\n",
      "DEBUG (Validation Perfil) ► Campo 'uso_profesional' está vacío/None.\n",
      "DEBUG (Perfil) ► Validación: PerfilUsuario considerado INCOMPLETO.\n",
      "--- Evaluando Condición: ruta_decision_perfil ---\n",
      "DEBUG (Condición Perfil) ► Estado 'preferencias_usuario' recibido: apasionado_motor='no' valora_estetica='no' coche_principal_hogar='sí' uso_profesional=None tipo_uso_profesional=None prefiere_diseno_exclusivo=None aventura=None transporta_carga_voluminosa=None necesita_espacio_objetos_especiales=None altura_mayor_190='sí' peso_mayor_100='no' solo_electricos=None transmision_preferida=None rating_fiabilidad_durabilidad=None rating_seguridad=None rating_comodidad=None rating_impacto_ambiental=None rating_costes_uso=None rating_tecnologia_conectividad=None prioriza_baja_depreciacion=None\n",
      "DEBUG (Condición Perfil) ► Tipo de 'preferencias_usuario': <class 'graph.perfil.state.PerfilUsuario'>\n",
      "--- DEBUG CHECK PERFIL ---\n",
      "Input prefs object: apasionado_motor='no' valora_estetica='no' coche_principal_hogar='sí' uso_profesional=None tipo_uso_profesional=None prefiere_diseno_exclusivo=None aventura=None transporta_carga_voluminosa=None necesita_espacio_objetos_especiales=None altura_mayor_190='sí' peso_mayor_100='no' solo_electricos=None transmision_preferida=None rating_fiabilidad_durabilidad=None rating_seguridad=None rating_comodidad=None rating_impacto_ambiental=None rating_costes_uso=None rating_tecnologia_conectividad=None prioriza_baja_depreciacion=None\n",
      "Input prefs type: <class 'graph.perfil.state.PerfilUsuario'>\n",
      "DEBUG (Validation Perfil) ► Campo 'uso_profesional' está vacío/None.\n",
      "DEBUG (Condición Perfil) ► Perfil INCOMPLETO. Se necesita pregunta.\n",
      "--- Ejecutando Nodo: preguntar_preferencias_node ---\n",
      "--- DEBUG CHECK PERFIL ---\n",
      "Input prefs object: apasionado_motor='no' valora_estetica='no' coche_principal_hogar='sí' uso_profesional=None tipo_uso_profesional=None prefiere_diseno_exclusivo=None aventura=None transporta_carga_voluminosa=None necesita_espacio_objetos_especiales=None altura_mayor_190='sí' peso_mayor_100='no' solo_electricos=None transmision_preferida=None rating_fiabilidad_durabilidad=None rating_seguridad=None rating_comodidad=None rating_impacto_ambiental=None rating_costes_uso=None rating_tecnologia_conectividad=None prioriza_baja_depreciacion=None\n",
      "Input prefs type: <class 'graph.perfil.state.PerfilUsuario'>\n",
      "DEBUG (Validation Perfil) ► Campo 'uso_profesional' está vacío/None.\n",
      "DEBUG (Preguntar Perfil) ► Perfil aún INCOMPLETO según checker.\n",
      "DEBUG (Preguntar Perfil) ► Pregunta fallback generada: ¿El coche lo destinaras principalmente para uso personal o más para fines profesionales (trabajo)?\n",
      "DEBUG (Preguntar Perfil) ► Usando mensaje pendiente (pregunta LLM): ¿Usarás el coche para trabajo?\n",
      "DEBUG (Preguntar Perfil) ► Mensaje final añadido: ¿Usarás el coche para trabajo?\n",
      "==================================\u001b[1m Ai Message \u001b[0m==================================\n",
      "\n",
      "¿Usarás el coche para trabajo?\n"
     ]
    }
   ],
   "source": [
    "config = {\"configurable\": {\"thread_id\": \"1\"}}\n",
    "input_message = HumanMessage(content=\"si, lo sera \")\n",
    "output = graph.invoke({\"messages\": [input_message]}, config) \n",
    "for m in output['messages'][-1:]:\n",
    "    m.pretty_print()"
   ]
  },
  {
   "cell_type": "code",
   "execution_count": null,
   "metadata": {},
   "outputs": [],
   "source": [
    "print(output['preferencias_usuario'])"
   ]
  },
  {
   "cell_type": "code",
   "execution_count": 6,
   "metadata": {},
   "outputs": [
    {
     "name": "stdout",
     "output_type": "stream",
     "text": [
      "--- Ejecutando Nodo: route_based_on_state_node ---\n",
      "\n",
      "--- DEBUG: Evaluating Routing Decision ---\n",
      "--- DEBUG CHECK PERFIL ---\n",
      "Input prefs object: apasionado_motor='no' valora_estetica='no' coche_principal_hogar='sí' uso_profesional=None tipo_uso_profesional=None prefiere_diseno_exclusivo=None aventura=None transporta_carga_voluminosa=None necesita_espacio_objetos_especiales=None altura_mayor_190='sí' peso_mayor_100='no' solo_electricos=None transmision_preferida=None rating_fiabilidad_durabilidad=None rating_seguridad=None rating_comodidad=None rating_impacto_ambiental=None rating_costes_uso=None rating_tecnologia_conectividad=None prioriza_baja_depreciacion=None\n",
      "Input prefs type: <class 'graph.perfil.state.PerfilUsuario'>\n",
      "DEBUG (Validation Perfil) ► Campo 'uso_profesional' está vacío/None.\n",
      "DEBUG Router: Prefs OK? False\n",
      "--- DEBUG CHECK PASAJEROS ---\n",
      "Input info pasajeros: None\n",
      "DEBUG (Validation Pasajeros) ► Objeto InfoPasajeros es None.\n",
      "DEBUG Router: Pasajeros OK? False\n",
      "DEBUG (Validation Filtros) ► Objeto FiltrosInferidos es None.\n",
      "DEBUG Router: Filtros OK? False\n",
      "--- DEBUG CHECK ECONOMIA (Manual) ---\n",
      "Input econ object: None\n",
      "DEBUG (Validation Economía Manual) ► Objeto EconomiaUsuario es None.\n",
      "DEBUG Router: Economía OK? False\n",
      "DEBUG Router: Pesos Calculados? False\n",
      "DEBUG Router: Coches Buscados? False\n",
      "--- DEBUG CHECK PERFIL ---\n",
      "Input prefs object: apasionado_motor='no' valora_estetica='no' coche_principal_hogar='sí' uso_profesional=None tipo_uso_profesional=None prefiere_diseno_exclusivo=None aventura=None transporta_carga_voluminosa=None necesita_espacio_objetos_especiales=None altura_mayor_190='sí' peso_mayor_100='no' solo_electricos=None transmision_preferida=None rating_fiabilidad_durabilidad=None rating_seguridad=None rating_comodidad=None rating_impacto_ambiental=None rating_costes_uso=None rating_tecnologia_conectividad=None prioriza_baja_depreciacion=None\n",
      "Input prefs type: <class 'graph.perfil.state.PerfilUsuario'>\n",
      "DEBUG (Validation Perfil) ► Campo 'uso_profesional' está vacío/None.\n",
      "DEBUG Router: Decisión -> recopilar_preferencias\n",
      "--- Ejecutando Nodo: recopilar_preferencias_node ---\n",
      "DEBUG (Perfil) ► Último mensaje es HumanMessage o historial vacío, llamando a llm_solo_perfil...\n"
     ]
    },
    {
     "name": "stderr",
     "output_type": "stream",
     "text": [
      "INFO (RAG): HTTP Request: POST https://api.openai.com/v1/chat/completions \"HTTP/1.1 200 OK\"\n"
     ]
    },
    {
     "name": "stdout",
     "output_type": "stream",
     "text": [
      "DEBUG (Perfil) ► Respuesta llm_solo_perfil: preferencias_usuario=PerfilUsuario(apasionado_motor='no', valora_estetica='no', coche_principal_hogar='sí', uso_profesional='no', tipo_uso_profesional=None, prefiere_diseno_exclusivo=None, aventura=None, transporta_carga_voluminosa=None, necesita_espacio_objetos_especiales=None, altura_mayor_190='sí', peso_mayor_100='no', solo_electricos=None, transmision_preferida=None, rating_fiabilidad_durabilidad=None, rating_seguridad=None, rating_comodidad=None, rating_impacto_ambiental=None, rating_costes_uso=None, rating_tecnologia_conectividad=None, prioriza_baja_depreciacion=None) tipo_mensaje='PREGUNTA' contenido_mensaje='¿Transportas con frecuencia equipaje o carga voluminosa?'\n",
      "DEBUG (Perfil) ► Preferencias TRAS post-procesamiento: apasionado_motor='no' valora_estetica='no' coche_principal_hogar='sí' uso_profesional='no' tipo_uso_profesional=None prefiere_diseno_exclusivo=None aventura=None transporta_carga_voluminosa=None necesita_espacio_objetos_especiales=None altura_mayor_190='sí' peso_mayor_100='no' solo_electricos=None transmision_preferida=None rating_fiabilidad_durabilidad=None rating_seguridad=None rating_comodidad=None rating_impacto_ambiental=None rating_costes_uso=None rating_tecnologia_conectividad=None prioriza_baja_depreciacion=None\n",
      "DEBUG (Perfil) ► Estado preferencias_usuario actualizado: apasionado_motor='no' valora_estetica='no' coche_principal_hogar='sí' uso_profesional='no' tipo_uso_profesional=None prefiere_diseno_exclusivo=None aventura=None transporta_carga_voluminosa=None necesita_espacio_objetos_especiales=None altura_mayor_190='sí' peso_mayor_100='no' solo_electricos=None transmision_preferida=None rating_fiabilidad_durabilidad=None rating_seguridad=None rating_comodidad=None rating_impacto_ambiental=None rating_costes_uso=None rating_tecnologia_conectividad=None prioriza_baja_depreciacion=None\n",
      "DEBUG (Perfil) ► Guardando mensaje pendiente: ¿Transportas con frecuencia equipaje o carga voluminosa?\n",
      "--- Ejecutando Nodo: validar_preferencias_node ---\n",
      "--- DEBUG CHECK PERFIL ---\n",
      "Input prefs object: apasionado_motor='no' valora_estetica='no' coche_principal_hogar='sí' uso_profesional='no' tipo_uso_profesional=None prefiere_diseno_exclusivo=None aventura=None transporta_carga_voluminosa=None necesita_espacio_objetos_especiales=None altura_mayor_190='sí' peso_mayor_100='no' solo_electricos=None transmision_preferida=None rating_fiabilidad_durabilidad=None rating_seguridad=None rating_comodidad=None rating_impacto_ambiental=None rating_costes_uso=None rating_tecnologia_conectividad=None prioriza_baja_depreciacion=None\n",
      "Input prefs type: <class 'graph.perfil.state.PerfilUsuario'>\n",
      "DEBUG (Validation Perfil) ► Campo 'prefiere_diseno_exclusivo' está vacío/None.\n",
      "DEBUG (Perfil) ► Validación: PerfilUsuario considerado INCOMPLETO.\n",
      "--- Evaluando Condición: ruta_decision_perfil ---\n",
      "DEBUG (Condición Perfil) ► Estado 'preferencias_usuario' recibido: apasionado_motor='no' valora_estetica='no' coche_principal_hogar='sí' uso_profesional='no' tipo_uso_profesional=None prefiere_diseno_exclusivo=None aventura=None transporta_carga_voluminosa=None necesita_espacio_objetos_especiales=None altura_mayor_190='sí' peso_mayor_100='no' solo_electricos=None transmision_preferida=None rating_fiabilidad_durabilidad=None rating_seguridad=None rating_comodidad=None rating_impacto_ambiental=None rating_costes_uso=None rating_tecnologia_conectividad=None prioriza_baja_depreciacion=None\n",
      "DEBUG (Condición Perfil) ► Tipo de 'preferencias_usuario': <class 'graph.perfil.state.PerfilUsuario'>\n",
      "--- DEBUG CHECK PERFIL ---\n",
      "Input prefs object: apasionado_motor='no' valora_estetica='no' coche_principal_hogar='sí' uso_profesional='no' tipo_uso_profesional=None prefiere_diseno_exclusivo=None aventura=None transporta_carga_voluminosa=None necesita_espacio_objetos_especiales=None altura_mayor_190='sí' peso_mayor_100='no' solo_electricos=None transmision_preferida=None rating_fiabilidad_durabilidad=None rating_seguridad=None rating_comodidad=None rating_impacto_ambiental=None rating_costes_uso=None rating_tecnologia_conectividad=None prioriza_baja_depreciacion=None\n",
      "Input prefs type: <class 'graph.perfil.state.PerfilUsuario'>\n",
      "DEBUG (Validation Perfil) ► Campo 'prefiere_diseno_exclusivo' está vacío/None.\n",
      "DEBUG (Condición Perfil) ► Perfil INCOMPLETO. Se necesita pregunta.\n",
      "--- Ejecutando Nodo: preguntar_preferencias_node ---\n",
      "--- DEBUG CHECK PERFIL ---\n",
      "Input prefs object: apasionado_motor='no' valora_estetica='no' coche_principal_hogar='sí' uso_profesional='no' tipo_uso_profesional=None prefiere_diseno_exclusivo=None aventura=None transporta_carga_voluminosa=None necesita_espacio_objetos_especiales=None altura_mayor_190='sí' peso_mayor_100='no' solo_electricos=None transmision_preferida=None rating_fiabilidad_durabilidad=None rating_seguridad=None rating_comodidad=None rating_impacto_ambiental=None rating_costes_uso=None rating_tecnologia_conectividad=None prioriza_baja_depreciacion=None\n",
      "Input prefs type: <class 'graph.perfil.state.PerfilUsuario'>\n",
      "DEBUG (Validation Perfil) ► Campo 'prefiere_diseno_exclusivo' está vacío/None.\n",
      "DEBUG (Preguntar Perfil) ► Perfil aún INCOMPLETO según checker.\n",
      "DEBUG (Preguntar Perfil) ► Pregunta fallback generada: En cuanto al estilo del coche, ¿te inclinas más por un diseño exclusivo y llamativo, o por algo más discreto y convencional?\n",
      "DEBUG (Preguntar Perfil) ► Usando mensaje pendiente (pregunta LLM): ¿Transportas con frecuencia equipaje o carga voluminosa?\n",
      "DEBUG (Preguntar Perfil) ► Mensaje final añadido: ¿Transportas con frecuencia equipaje o carga voluminosa?\n",
      "==================================\u001b[1m Ai Message \u001b[0m==================================\n",
      "\n",
      "¿Transportas con frecuencia equipaje o carga voluminosa?\n"
     ]
    }
   ],
   "source": [
    "config = {\"configurable\": {\"thread_id\": \"1\"}}\n",
    "input_message = HumanMessage(content=\"no\")\n",
    "output = graph.invoke({\"messages\": [input_message]}, config) \n",
    "for m in output['messages'][-1:]:\n",
    "    m.pretty_print()"
   ]
  },
  {
   "cell_type": "code",
   "execution_count": 7,
   "metadata": {},
   "outputs": [
    {
     "name": "stdout",
     "output_type": "stream",
     "text": [
      "--- Ejecutando Nodo: route_based_on_state_node ---\n",
      "\n",
      "--- DEBUG: Evaluating Routing Decision ---\n",
      "--- DEBUG CHECK PERFIL ---\n",
      "Input prefs object: apasionado_motor='no' valora_estetica='no' coche_principal_hogar='sí' uso_profesional='no' tipo_uso_profesional=None prefiere_diseno_exclusivo=None aventura=None transporta_carga_voluminosa=None necesita_espacio_objetos_especiales=None altura_mayor_190='sí' peso_mayor_100='no' solo_electricos=None transmision_preferida=None rating_fiabilidad_durabilidad=None rating_seguridad=None rating_comodidad=None rating_impacto_ambiental=None rating_costes_uso=None rating_tecnologia_conectividad=None prioriza_baja_depreciacion=None\n",
      "Input prefs type: <class 'graph.perfil.state.PerfilUsuario'>\n",
      "DEBUG (Validation Perfil) ► Campo 'prefiere_diseno_exclusivo' está vacío/None.\n",
      "DEBUG Router: Prefs OK? False\n",
      "--- DEBUG CHECK PASAJEROS ---\n",
      "Input info pasajeros: None\n",
      "DEBUG (Validation Pasajeros) ► Objeto InfoPasajeros es None.\n",
      "DEBUG Router: Pasajeros OK? False\n",
      "DEBUG (Validation Filtros) ► Objeto FiltrosInferidos es None.\n",
      "DEBUG Router: Filtros OK? False\n",
      "--- DEBUG CHECK ECONOMIA (Manual) ---\n",
      "Input econ object: None\n",
      "DEBUG (Validation Economía Manual) ► Objeto EconomiaUsuario es None.\n",
      "DEBUG Router: Economía OK? False\n",
      "DEBUG Router: Pesos Calculados? False\n",
      "DEBUG Router: Coches Buscados? False\n",
      "--- DEBUG CHECK PERFIL ---\n",
      "Input prefs object: apasionado_motor='no' valora_estetica='no' coche_principal_hogar='sí' uso_profesional='no' tipo_uso_profesional=None prefiere_diseno_exclusivo=None aventura=None transporta_carga_voluminosa=None necesita_espacio_objetos_especiales=None altura_mayor_190='sí' peso_mayor_100='no' solo_electricos=None transmision_preferida=None rating_fiabilidad_durabilidad=None rating_seguridad=None rating_comodidad=None rating_impacto_ambiental=None rating_costes_uso=None rating_tecnologia_conectividad=None prioriza_baja_depreciacion=None\n",
      "Input prefs type: <class 'graph.perfil.state.PerfilUsuario'>\n",
      "DEBUG (Validation Perfil) ► Campo 'prefiere_diseno_exclusivo' está vacío/None.\n",
      "DEBUG Router: Decisión -> recopilar_preferencias\n",
      "--- Ejecutando Nodo: recopilar_preferencias_node ---\n",
      "DEBUG (Perfil) ► Último mensaje es HumanMessage o historial vacío, llamando a llm_solo_perfil...\n"
     ]
    },
    {
     "name": "stderr",
     "output_type": "stream",
     "text": [
      "INFO (RAG): HTTP Request: POST https://api.openai.com/v1/chat/completions \"HTTP/1.1 200 OK\"\n"
     ]
    },
    {
     "name": "stdout",
     "output_type": "stream",
     "text": [
      "DEBUG (Perfil) ► Respuesta llm_solo_perfil: preferencias_usuario=PerfilUsuario(apasionado_motor='no', valora_estetica='no', coche_principal_hogar='si', uso_profesional='no', tipo_uso_profesional=None, prefiere_diseno_exclusivo=None, aventura=None, transporta_carga_voluminosa='no', necesita_espacio_objetos_especiales=None, altura_mayor_190='si', peso_mayor_100='no', solo_electricos=None, transmision_preferida=None, rating_fiabilidad_durabilidad=None, rating_seguridad=None, rating_comodidad=None, rating_impacto_ambiental=None, rating_costes_uso=None, rating_tecnologia_conectividad=None, prioriza_baja_depreciacion=None) tipo_mensaje='PREGUNTA' contenido_mensaje=\"¿Prefieres un diseño de coche que sea exclusivo y te diferencie del resto? (Responde 'sí' o 'no')\"\n",
      "DEBUG (Perfil) ► Preferencias TRAS post-procesamiento: apasionado_motor='no' valora_estetica='no' coche_principal_hogar='si' uso_profesional='no' tipo_uso_profesional=None prefiere_diseno_exclusivo=None aventura=None transporta_carga_voluminosa='no' necesita_espacio_objetos_especiales=None altura_mayor_190='si' peso_mayor_100='no' solo_electricos=None transmision_preferida=None rating_fiabilidad_durabilidad=None rating_seguridad=None rating_comodidad=None rating_impacto_ambiental=None rating_costes_uso=None rating_tecnologia_conectividad=None prioriza_baja_depreciacion=None\n",
      "DEBUG (Perfil) ► Estado preferencias_usuario actualizado: apasionado_motor='no' valora_estetica='no' coche_principal_hogar='si' uso_profesional='no' tipo_uso_profesional=None prefiere_diseno_exclusivo=None aventura=None transporta_carga_voluminosa='no' necesita_espacio_objetos_especiales=None altura_mayor_190='si' peso_mayor_100='no' solo_electricos=None transmision_preferida=None rating_fiabilidad_durabilidad=None rating_seguridad=None rating_comodidad=None rating_impacto_ambiental=None rating_costes_uso=None rating_tecnologia_conectividad=None prioriza_baja_depreciacion=None\n",
      "DEBUG (Perfil) ► Guardando mensaje pendiente: ¿Prefieres un diseño de coche que sea exclusivo y te diferencie del resto? (Responde 'sí' o 'no')\n",
      "--- Ejecutando Nodo: validar_preferencias_node ---\n",
      "--- DEBUG CHECK PERFIL ---\n",
      "Input prefs object: apasionado_motor='no' valora_estetica='no' coche_principal_hogar='si' uso_profesional='no' tipo_uso_profesional=None prefiere_diseno_exclusivo=None aventura=None transporta_carga_voluminosa='no' necesita_espacio_objetos_especiales=None altura_mayor_190='si' peso_mayor_100='no' solo_electricos=None transmision_preferida=None rating_fiabilidad_durabilidad=None rating_seguridad=None rating_comodidad=None rating_impacto_ambiental=None rating_costes_uso=None rating_tecnologia_conectividad=None prioriza_baja_depreciacion=None\n",
      "Input prefs type: <class 'graph.perfil.state.PerfilUsuario'>\n",
      "DEBUG (Validation Perfil) ► Campo 'prefiere_diseno_exclusivo' está vacío/None.\n",
      "DEBUG (Perfil) ► Validación: PerfilUsuario considerado INCOMPLETO.\n",
      "--- Evaluando Condición: ruta_decision_perfil ---\n",
      "DEBUG (Condición Perfil) ► Estado 'preferencias_usuario' recibido: apasionado_motor='no' valora_estetica='no' coche_principal_hogar='si' uso_profesional='no' tipo_uso_profesional=None prefiere_diseno_exclusivo=None aventura=None transporta_carga_voluminosa='no' necesita_espacio_objetos_especiales=None altura_mayor_190='si' peso_mayor_100='no' solo_electricos=None transmision_preferida=None rating_fiabilidad_durabilidad=None rating_seguridad=None rating_comodidad=None rating_impacto_ambiental=None rating_costes_uso=None rating_tecnologia_conectividad=None prioriza_baja_depreciacion=None\n",
      "DEBUG (Condición Perfil) ► Tipo de 'preferencias_usuario': <class 'graph.perfil.state.PerfilUsuario'>\n",
      "--- DEBUG CHECK PERFIL ---\n",
      "Input prefs object: apasionado_motor='no' valora_estetica='no' coche_principal_hogar='si' uso_profesional='no' tipo_uso_profesional=None prefiere_diseno_exclusivo=None aventura=None transporta_carga_voluminosa='no' necesita_espacio_objetos_especiales=None altura_mayor_190='si' peso_mayor_100='no' solo_electricos=None transmision_preferida=None rating_fiabilidad_durabilidad=None rating_seguridad=None rating_comodidad=None rating_impacto_ambiental=None rating_costes_uso=None rating_tecnologia_conectividad=None prioriza_baja_depreciacion=None\n",
      "Input prefs type: <class 'graph.perfil.state.PerfilUsuario'>\n",
      "DEBUG (Validation Perfil) ► Campo 'prefiere_diseno_exclusivo' está vacío/None.\n",
      "DEBUG (Condición Perfil) ► Perfil INCOMPLETO. Se necesita pregunta.\n",
      "--- Ejecutando Nodo: preguntar_preferencias_node ---\n",
      "--- DEBUG CHECK PERFIL ---\n",
      "Input prefs object: apasionado_motor='no' valora_estetica='no' coche_principal_hogar='si' uso_profesional='no' tipo_uso_profesional=None prefiere_diseno_exclusivo=None aventura=None transporta_carga_voluminosa='no' necesita_espacio_objetos_especiales=None altura_mayor_190='si' peso_mayor_100='no' solo_electricos=None transmision_preferida=None rating_fiabilidad_durabilidad=None rating_seguridad=None rating_comodidad=None rating_impacto_ambiental=None rating_costes_uso=None rating_tecnologia_conectividad=None prioriza_baja_depreciacion=None\n",
      "Input prefs type: <class 'graph.perfil.state.PerfilUsuario'>\n",
      "DEBUG (Validation Perfil) ► Campo 'prefiere_diseno_exclusivo' está vacío/None.\n",
      "DEBUG (Preguntar Perfil) ► Perfil aún INCOMPLETO según checker.\n",
      "DEBUG (Preguntar Perfil) ► Pregunta fallback generada: En cuanto al estilo del coche, ¿te inclinas más por un diseño exclusivo y llamativo, o por algo más discreto y convencional?\n",
      "DEBUG (Preguntar Perfil) ► Usando mensaje pendiente (pregunta LLM): ¿Prefieres un diseño de coche que sea exclusivo y te diferencie del resto? (Responde 'sí' o 'no')\n",
      "DEBUG (Preguntar Perfil) ► Mensaje final añadido: ¿Prefieres un diseño de coche que sea exclusivo y te diferencie del resto? (Responde 'sí' o 'no')\n",
      "==================================\u001b[1m Ai Message \u001b[0m==================================\n",
      "\n",
      "¿Prefieres un diseño de coche que sea exclusivo y te diferencie del resto? (Responde 'sí' o 'no')\n"
     ]
    }
   ],
   "source": [
    "config = {\"configurable\": {\"thread_id\": \"1\"}}\n",
    "input_message = HumanMessage(content=\"no\")\n",
    "output = graph.invoke({\"messages\": [input_message]}, config) \n",
    "for m in output['messages'][-1:]:\n",
    "    m.pretty_print()"
   ]
  },
  {
   "cell_type": "code",
   "execution_count": null,
   "metadata": {},
   "outputs": [],
   "source": [
    "print(output['preferencias_usuario'])\n"
   ]
  },
  {
   "cell_type": "code",
   "execution_count": 8,
   "metadata": {},
   "outputs": [
    {
     "name": "stdout",
     "output_type": "stream",
     "text": [
      "--- Ejecutando Nodo: route_based_on_state_node ---\n",
      "\n",
      "--- DEBUG: Evaluating Routing Decision ---\n",
      "--- DEBUG CHECK PERFIL ---\n",
      "Input prefs object: apasionado_motor='no' valora_estetica='no' coche_principal_hogar='si' uso_profesional='no' tipo_uso_profesional=None prefiere_diseno_exclusivo=None aventura=None transporta_carga_voluminosa='no' necesita_espacio_objetos_especiales=None altura_mayor_190='si' peso_mayor_100='no' solo_electricos=None transmision_preferida=None rating_fiabilidad_durabilidad=None rating_seguridad=None rating_comodidad=None rating_impacto_ambiental=None rating_costes_uso=None rating_tecnologia_conectividad=None prioriza_baja_depreciacion=None\n",
      "Input prefs type: <class 'graph.perfil.state.PerfilUsuario'>\n",
      "DEBUG (Validation Perfil) ► Campo 'prefiere_diseno_exclusivo' está vacío/None.\n",
      "DEBUG Router: Prefs OK? False\n",
      "--- DEBUG CHECK PASAJEROS ---\n",
      "Input info pasajeros: None\n",
      "DEBUG (Validation Pasajeros) ► Objeto InfoPasajeros es None.\n",
      "DEBUG Router: Pasajeros OK? False\n",
      "DEBUG (Validation Filtros) ► Objeto FiltrosInferidos es None.\n",
      "DEBUG Router: Filtros OK? False\n",
      "--- DEBUG CHECK ECONOMIA (Manual) ---\n",
      "Input econ object: None\n",
      "DEBUG (Validation Economía Manual) ► Objeto EconomiaUsuario es None.\n",
      "DEBUG Router: Economía OK? False\n",
      "DEBUG Router: Pesos Calculados? False\n",
      "DEBUG Router: Coches Buscados? False\n",
      "--- DEBUG CHECK PERFIL ---\n",
      "Input prefs object: apasionado_motor='no' valora_estetica='no' coche_principal_hogar='si' uso_profesional='no' tipo_uso_profesional=None prefiere_diseno_exclusivo=None aventura=None transporta_carga_voluminosa='no' necesita_espacio_objetos_especiales=None altura_mayor_190='si' peso_mayor_100='no' solo_electricos=None transmision_preferida=None rating_fiabilidad_durabilidad=None rating_seguridad=None rating_comodidad=None rating_impacto_ambiental=None rating_costes_uso=None rating_tecnologia_conectividad=None prioriza_baja_depreciacion=None\n",
      "Input prefs type: <class 'graph.perfil.state.PerfilUsuario'>\n",
      "DEBUG (Validation Perfil) ► Campo 'prefiere_diseno_exclusivo' está vacío/None.\n",
      "DEBUG Router: Decisión -> recopilar_preferencias\n",
      "--- Ejecutando Nodo: recopilar_preferencias_node ---\n",
      "DEBUG (Perfil) ► Último mensaje es HumanMessage o historial vacío, llamando a llm_solo_perfil...\n"
     ]
    },
    {
     "name": "stderr",
     "output_type": "stream",
     "text": [
      "INFO (RAG): HTTP Request: POST https://api.openai.com/v1/chat/completions \"HTTP/1.1 200 OK\"\n"
     ]
    },
    {
     "name": "stdout",
     "output_type": "stream",
     "text": [
      "DEBUG (Perfil) ► Respuesta llm_solo_perfil: preferencias_usuario=PerfilUsuario(apasionado_motor='no', valora_estetica='no', coche_principal_hogar='sí', uso_profesional='no', tipo_uso_profesional=None, prefiere_diseno_exclusivo='no', aventura=None, transporta_carga_voluminosa='no', necesita_espacio_objetos_especiales=None, altura_mayor_190='sí', peso_mayor_100='no', solo_electricos=None, transmision_preferida=None, rating_fiabilidad_durabilidad=None, rating_seguridad=None, rating_comodidad=None, rating_impacto_ambiental=None, rating_costes_uso=None, rating_tecnologia_conectividad=None, prioriza_baja_depreciacion=None) tipo_mensaje='PREGUNTA' contenido_mensaje='¿Quieres solo coches eléctricos?'\n",
      "DEBUG (Perfil) ► Preferencias TRAS post-procesamiento: apasionado_motor='no' valora_estetica='no' coche_principal_hogar='sí' uso_profesional='no' tipo_uso_profesional=None prefiere_diseno_exclusivo='no' aventura=None transporta_carga_voluminosa='no' necesita_espacio_objetos_especiales=None altura_mayor_190='sí' peso_mayor_100='no' solo_electricos=None transmision_preferida=None rating_fiabilidad_durabilidad=None rating_seguridad=None rating_comodidad=None rating_impacto_ambiental=None rating_costes_uso=None rating_tecnologia_conectividad=None prioriza_baja_depreciacion=None\n",
      "DEBUG (Perfil) ► Estado preferencias_usuario actualizado: apasionado_motor='no' valora_estetica='no' coche_principal_hogar='sí' uso_profesional='no' tipo_uso_profesional=None prefiere_diseno_exclusivo='no' aventura=None transporta_carga_voluminosa='no' necesita_espacio_objetos_especiales=None altura_mayor_190='sí' peso_mayor_100='no' solo_electricos=None transmision_preferida=None rating_fiabilidad_durabilidad=None rating_seguridad=None rating_comodidad=None rating_impacto_ambiental=None rating_costes_uso=None rating_tecnologia_conectividad=None prioriza_baja_depreciacion=None\n",
      "DEBUG (Perfil) ► Guardando mensaje pendiente: ¿Quieres solo coches eléctricos?\n",
      "--- Ejecutando Nodo: validar_preferencias_node ---\n",
      "--- DEBUG CHECK PERFIL ---\n",
      "Input prefs object: apasionado_motor='no' valora_estetica='no' coche_principal_hogar='sí' uso_profesional='no' tipo_uso_profesional=None prefiere_diseno_exclusivo='no' aventura=None transporta_carga_voluminosa='no' necesita_espacio_objetos_especiales=None altura_mayor_190='sí' peso_mayor_100='no' solo_electricos=None transmision_preferida=None rating_fiabilidad_durabilidad=None rating_seguridad=None rating_comodidad=None rating_impacto_ambiental=None rating_costes_uso=None rating_tecnologia_conectividad=None prioriza_baja_depreciacion=None\n",
      "Input prefs type: <class 'graph.perfil.state.PerfilUsuario'>\n",
      "DEBUG (Validation Perfil) ► Campo 'aventura' está vacío/None.\n",
      "DEBUG (Perfil) ► Validación: PerfilUsuario considerado INCOMPLETO.\n",
      "--- Evaluando Condición: ruta_decision_perfil ---\n",
      "DEBUG (Condición Perfil) ► Estado 'preferencias_usuario' recibido: apasionado_motor='no' valora_estetica='no' coche_principal_hogar='sí' uso_profesional='no' tipo_uso_profesional=None prefiere_diseno_exclusivo='no' aventura=None transporta_carga_voluminosa='no' necesita_espacio_objetos_especiales=None altura_mayor_190='sí' peso_mayor_100='no' solo_electricos=None transmision_preferida=None rating_fiabilidad_durabilidad=None rating_seguridad=None rating_comodidad=None rating_impacto_ambiental=None rating_costes_uso=None rating_tecnologia_conectividad=None prioriza_baja_depreciacion=None\n",
      "DEBUG (Condición Perfil) ► Tipo de 'preferencias_usuario': <class 'graph.perfil.state.PerfilUsuario'>\n",
      "--- DEBUG CHECK PERFIL ---\n",
      "Input prefs object: apasionado_motor='no' valora_estetica='no' coche_principal_hogar='sí' uso_profesional='no' tipo_uso_profesional=None prefiere_diseno_exclusivo='no' aventura=None transporta_carga_voluminosa='no' necesita_espacio_objetos_especiales=None altura_mayor_190='sí' peso_mayor_100='no' solo_electricos=None transmision_preferida=None rating_fiabilidad_durabilidad=None rating_seguridad=None rating_comodidad=None rating_impacto_ambiental=None rating_costes_uso=None rating_tecnologia_conectividad=None prioriza_baja_depreciacion=None\n",
      "Input prefs type: <class 'graph.perfil.state.PerfilUsuario'>\n",
      "DEBUG (Validation Perfil) ► Campo 'aventura' está vacío/None.\n",
      "DEBUG (Condición Perfil) ► Perfil INCOMPLETO. Se necesita pregunta.\n",
      "--- Ejecutando Nodo: preguntar_preferencias_node ---\n",
      "--- DEBUG CHECK PERFIL ---\n",
      "Input prefs object: apasionado_motor='no' valora_estetica='no' coche_principal_hogar='sí' uso_profesional='no' tipo_uso_profesional=None prefiere_diseno_exclusivo='no' aventura=None transporta_carga_voluminosa='no' necesita_espacio_objetos_especiales=None altura_mayor_190='sí' peso_mayor_100='no' solo_electricos=None transmision_preferida=None rating_fiabilidad_durabilidad=None rating_seguridad=None rating_comodidad=None rating_impacto_ambiental=None rating_costes_uso=None rating_tecnologia_conectividad=None prioriza_baja_depreciacion=None\n",
      "Input prefs type: <class 'graph.perfil.state.PerfilUsuario'>\n",
      "DEBUG (Validation Perfil) ► Campo 'aventura' está vacío/None.\n",
      "DEBUG (Preguntar Perfil) ► Perfil aún INCOMPLETO según checker.\n",
      "DEBUG (Preguntar Perfil) ► Pregunta fallback generada: Para conocer tu espíritu aventurero, dime que prefieres:\n",
      " 🛣️ Solo asfalto (ninguna)\n",
      " 🌲 Salidas off‑road de vez en cuando (ocasional)\n",
      " 🏔️ Aventurero extremo en terrenos difíciles (extrema)\n",
      "DEBUG (Preguntar Perfil) ► Usando mensaje pendiente (pregunta LLM): ¿Quieres solo coches eléctricos?\n",
      "DEBUG (Preguntar Perfil) ► Mensaje final añadido: ¿Quieres solo coches eléctricos?\n",
      "==================================\u001b[1m Ai Message \u001b[0m==================================\n",
      "\n",
      "¿Quieres solo coches eléctricos?\n"
     ]
    }
   ],
   "source": [
    "config = {\"configurable\": {\"thread_id\": \"1\"}}\n",
    "input_message = HumanMessage(content=\"NO\")\n",
    "output = graph.invoke({\"messages\": [input_message]}, config) \n",
    "for m in output['messages'][-1:]:\n",
    "    m.pretty_print()"
   ]
  },
  {
   "cell_type": "code",
   "execution_count": null,
   "metadata": {},
   "outputs": [],
   "source": [
    "print(output['preferencias_usuario'])"
   ]
  },
  {
   "cell_type": "code",
   "execution_count": 9,
   "metadata": {},
   "outputs": [
    {
     "name": "stdout",
     "output_type": "stream",
     "text": [
      "--- Ejecutando Nodo: route_based_on_state_node ---\n",
      "\n",
      "--- DEBUG: Evaluating Routing Decision ---\n",
      "--- DEBUG CHECK PERFIL ---\n",
      "Input prefs object: apasionado_motor='no' valora_estetica='no' coche_principal_hogar='sí' uso_profesional='no' tipo_uso_profesional=None prefiere_diseno_exclusivo='no' aventura=None transporta_carga_voluminosa='no' necesita_espacio_objetos_especiales=None altura_mayor_190='sí' peso_mayor_100='no' solo_electricos=None transmision_preferida=None rating_fiabilidad_durabilidad=None rating_seguridad=None rating_comodidad=None rating_impacto_ambiental=None rating_costes_uso=None rating_tecnologia_conectividad=None prioriza_baja_depreciacion=None\n",
      "Input prefs type: <class 'graph.perfil.state.PerfilUsuario'>\n",
      "DEBUG (Validation Perfil) ► Campo 'aventura' está vacío/None.\n",
      "DEBUG Router: Prefs OK? False\n",
      "--- DEBUG CHECK PASAJEROS ---\n",
      "Input info pasajeros: None\n",
      "DEBUG (Validation Pasajeros) ► Objeto InfoPasajeros es None.\n",
      "DEBUG Router: Pasajeros OK? False\n",
      "DEBUG (Validation Filtros) ► Objeto FiltrosInferidos es None.\n",
      "DEBUG Router: Filtros OK? False\n",
      "--- DEBUG CHECK ECONOMIA (Manual) ---\n",
      "Input econ object: None\n",
      "DEBUG (Validation Economía Manual) ► Objeto EconomiaUsuario es None.\n",
      "DEBUG Router: Economía OK? False\n",
      "DEBUG Router: Pesos Calculados? False\n",
      "DEBUG Router: Coches Buscados? False\n",
      "--- DEBUG CHECK PERFIL ---\n",
      "Input prefs object: apasionado_motor='no' valora_estetica='no' coche_principal_hogar='sí' uso_profesional='no' tipo_uso_profesional=None prefiere_diseno_exclusivo='no' aventura=None transporta_carga_voluminosa='no' necesita_espacio_objetos_especiales=None altura_mayor_190='sí' peso_mayor_100='no' solo_electricos=None transmision_preferida=None rating_fiabilidad_durabilidad=None rating_seguridad=None rating_comodidad=None rating_impacto_ambiental=None rating_costes_uso=None rating_tecnologia_conectividad=None prioriza_baja_depreciacion=None\n",
      "Input prefs type: <class 'graph.perfil.state.PerfilUsuario'>\n",
      "DEBUG (Validation Perfil) ► Campo 'aventura' está vacío/None.\n",
      "DEBUG Router: Decisión -> recopilar_preferencias\n",
      "--- Ejecutando Nodo: recopilar_preferencias_node ---\n",
      "DEBUG (Perfil) ► Último mensaje es HumanMessage o historial vacío, llamando a llm_solo_perfil...\n"
     ]
    },
    {
     "name": "stderr",
     "output_type": "stream",
     "text": [
      "INFO (RAG): HTTP Request: POST https://api.openai.com/v1/chat/completions \"HTTP/1.1 200 OK\"\n"
     ]
    },
    {
     "name": "stdout",
     "output_type": "stream",
     "text": [
      "DEBUG (Perfil) ► Respuesta llm_solo_perfil: preferencias_usuario=PerfilUsuario(apasionado_motor='no', valora_estetica='no', coche_principal_hogar='sí', uso_profesional='no', tipo_uso_profesional=None, prefiere_diseno_exclusivo='no', aventura=None, transporta_carga_voluminosa='no', necesita_espacio_objetos_especiales=None, altura_mayor_190='sí', peso_mayor_100='no', solo_electricos='no', transmision_preferida=None, rating_fiabilidad_durabilidad=None, rating_seguridad=None, rating_comodidad=None, rating_impacto_ambiental=None, rating_costes_uso=None, rating_tecnologia_conectividad=None, prioriza_baja_depreciacion=None) tipo_mensaje='PREGUNTA' contenido_mensaje='¿Qué tipo de transmisión prefieres? 1) Automático 2) Manual 3) Ambos'\n",
      "DEBUG (Perfil) ► Preferencias TRAS post-procesamiento: apasionado_motor='no' valora_estetica='no' coche_principal_hogar='sí' uso_profesional='no' tipo_uso_profesional=None prefiere_diseno_exclusivo='no' aventura=None transporta_carga_voluminosa='no' necesita_espacio_objetos_especiales=None altura_mayor_190='sí' peso_mayor_100='no' solo_electricos='no' transmision_preferida=None rating_fiabilidad_durabilidad=None rating_seguridad=None rating_comodidad=None rating_impacto_ambiental=None rating_costes_uso=None rating_tecnologia_conectividad=None prioriza_baja_depreciacion=None\n",
      "DEBUG (Perfil) ► Estado preferencias_usuario actualizado: apasionado_motor='no' valora_estetica='no' coche_principal_hogar='sí' uso_profesional='no' tipo_uso_profesional=None prefiere_diseno_exclusivo='no' aventura=None transporta_carga_voluminosa='no' necesita_espacio_objetos_especiales=None altura_mayor_190='sí' peso_mayor_100='no' solo_electricos='no' transmision_preferida=None rating_fiabilidad_durabilidad=None rating_seguridad=None rating_comodidad=None rating_impacto_ambiental=None rating_costes_uso=None rating_tecnologia_conectividad=None prioriza_baja_depreciacion=None\n",
      "DEBUG (Perfil) ► Guardando mensaje pendiente: ¿Qué tipo de transmisión prefieres? 1) Automático 2) Manual 3) Ambos\n",
      "--- Ejecutando Nodo: validar_preferencias_node ---\n",
      "--- DEBUG CHECK PERFIL ---\n",
      "Input prefs object: apasionado_motor='no' valora_estetica='no' coche_principal_hogar='sí' uso_profesional='no' tipo_uso_profesional=None prefiere_diseno_exclusivo='no' aventura=None transporta_carga_voluminosa='no' necesita_espacio_objetos_especiales=None altura_mayor_190='sí' peso_mayor_100='no' solo_electricos='no' transmision_preferida=None rating_fiabilidad_durabilidad=None rating_seguridad=None rating_comodidad=None rating_impacto_ambiental=None rating_costes_uso=None rating_tecnologia_conectividad=None prioriza_baja_depreciacion=None\n",
      "Input prefs type: <class 'graph.perfil.state.PerfilUsuario'>\n",
      "DEBUG (Validation Perfil) ► Campo 'aventura' está vacío/None.\n",
      "DEBUG (Perfil) ► Validación: PerfilUsuario considerado INCOMPLETO.\n",
      "--- Evaluando Condición: ruta_decision_perfil ---\n",
      "DEBUG (Condición Perfil) ► Estado 'preferencias_usuario' recibido: apasionado_motor='no' valora_estetica='no' coche_principal_hogar='sí' uso_profesional='no' tipo_uso_profesional=None prefiere_diseno_exclusivo='no' aventura=None transporta_carga_voluminosa='no' necesita_espacio_objetos_especiales=None altura_mayor_190='sí' peso_mayor_100='no' solo_electricos='no' transmision_preferida=None rating_fiabilidad_durabilidad=None rating_seguridad=None rating_comodidad=None rating_impacto_ambiental=None rating_costes_uso=None rating_tecnologia_conectividad=None prioriza_baja_depreciacion=None\n",
      "DEBUG (Condición Perfil) ► Tipo de 'preferencias_usuario': <class 'graph.perfil.state.PerfilUsuario'>\n",
      "--- DEBUG CHECK PERFIL ---\n",
      "Input prefs object: apasionado_motor='no' valora_estetica='no' coche_principal_hogar='sí' uso_profesional='no' tipo_uso_profesional=None prefiere_diseno_exclusivo='no' aventura=None transporta_carga_voluminosa='no' necesita_espacio_objetos_especiales=None altura_mayor_190='sí' peso_mayor_100='no' solo_electricos='no' transmision_preferida=None rating_fiabilidad_durabilidad=None rating_seguridad=None rating_comodidad=None rating_impacto_ambiental=None rating_costes_uso=None rating_tecnologia_conectividad=None prioriza_baja_depreciacion=None\n",
      "Input prefs type: <class 'graph.perfil.state.PerfilUsuario'>\n",
      "DEBUG (Validation Perfil) ► Campo 'aventura' está vacío/None.\n",
      "DEBUG (Condición Perfil) ► Perfil INCOMPLETO. Se necesita pregunta.\n",
      "--- Ejecutando Nodo: preguntar_preferencias_node ---\n",
      "--- DEBUG CHECK PERFIL ---\n",
      "Input prefs object: apasionado_motor='no' valora_estetica='no' coche_principal_hogar='sí' uso_profesional='no' tipo_uso_profesional=None prefiere_diseno_exclusivo='no' aventura=None transporta_carga_voluminosa='no' necesita_espacio_objetos_especiales=None altura_mayor_190='sí' peso_mayor_100='no' solo_electricos='no' transmision_preferida=None rating_fiabilidad_durabilidad=None rating_seguridad=None rating_comodidad=None rating_impacto_ambiental=None rating_costes_uso=None rating_tecnologia_conectividad=None prioriza_baja_depreciacion=None\n",
      "Input prefs type: <class 'graph.perfil.state.PerfilUsuario'>\n",
      "DEBUG (Validation Perfil) ► Campo 'aventura' está vacío/None.\n",
      "DEBUG (Preguntar Perfil) ► Perfil aún INCOMPLETO según checker.\n",
      "DEBUG (Preguntar Perfil) ► Pregunta fallback generada: Para conocer tu espíritu aventurero, dime que prefieres:\n",
      " 🛣️ Solo asfalto (ninguna)\n",
      " 🌲 Salidas off‑road de vez en cuando (ocasional)\n",
      " 🏔️ Aventurero extremo en terrenos difíciles (extrema)\n",
      "DEBUG (Preguntar Perfil) ► Usando mensaje pendiente (pregunta LLM): ¿Qué tipo de transmisión prefieres? 1) Automático 2) Manual 3) Ambos\n",
      "DEBUG (Preguntar Perfil) ► Mensaje final añadido: ¿Qué tipo de transmisión prefieres? 1) Automático 2) Manual 3) Ambos\n",
      "==================================\u001b[1m Ai Message \u001b[0m==================================\n",
      "\n",
      "¿Qué tipo de transmisión prefieres? 1) Automático 2) Manual 3) Ambos\n"
     ]
    }
   ],
   "source": [
    "# Create a thread\n",
    "config = {\"configurable\": {\"thread_id\": \"1\"}}\n",
    "\n",
    "# Start conversation\n",
    "input_message = HumanMessage(content=\"no a combustion tambien\")\n",
    "output = graph.invoke({\"messages\": [input_message]}, config) \n",
    "for m in output['messages'][-1:]:\n",
    "    m.pretty_print()"
   ]
  },
  {
   "cell_type": "code",
   "execution_count": 10,
   "metadata": {},
   "outputs": [
    {
     "name": "stdout",
     "output_type": "stream",
     "text": [
      "--- Ejecutando Nodo: route_based_on_state_node ---\n",
      "\n",
      "--- DEBUG: Evaluating Routing Decision ---\n",
      "--- DEBUG CHECK PERFIL ---\n",
      "Input prefs object: apasionado_motor='no' valora_estetica='no' coche_principal_hogar='sí' uso_profesional='no' tipo_uso_profesional=None prefiere_diseno_exclusivo='no' aventura=None transporta_carga_voluminosa='no' necesita_espacio_objetos_especiales=None altura_mayor_190='sí' peso_mayor_100='no' solo_electricos='no' transmision_preferida=None rating_fiabilidad_durabilidad=None rating_seguridad=None rating_comodidad=None rating_impacto_ambiental=None rating_costes_uso=None rating_tecnologia_conectividad=None prioriza_baja_depreciacion=None\n",
      "Input prefs type: <class 'graph.perfil.state.PerfilUsuario'>\n",
      "DEBUG (Validation Perfil) ► Campo 'aventura' está vacío/None.\n",
      "DEBUG Router: Prefs OK? False\n",
      "--- DEBUG CHECK PASAJEROS ---\n",
      "Input info pasajeros: None\n",
      "DEBUG (Validation Pasajeros) ► Objeto InfoPasajeros es None.\n",
      "DEBUG Router: Pasajeros OK? False\n",
      "DEBUG (Validation Filtros) ► Objeto FiltrosInferidos es None.\n",
      "DEBUG Router: Filtros OK? False\n",
      "--- DEBUG CHECK ECONOMIA (Manual) ---\n",
      "Input econ object: None\n",
      "DEBUG (Validation Economía Manual) ► Objeto EconomiaUsuario es None.\n",
      "DEBUG Router: Economía OK? False\n",
      "DEBUG Router: Pesos Calculados? False\n",
      "DEBUG Router: Coches Buscados? False\n",
      "--- DEBUG CHECK PERFIL ---\n",
      "Input prefs object: apasionado_motor='no' valora_estetica='no' coche_principal_hogar='sí' uso_profesional='no' tipo_uso_profesional=None prefiere_diseno_exclusivo='no' aventura=None transporta_carga_voluminosa='no' necesita_espacio_objetos_especiales=None altura_mayor_190='sí' peso_mayor_100='no' solo_electricos='no' transmision_preferida=None rating_fiabilidad_durabilidad=None rating_seguridad=None rating_comodidad=None rating_impacto_ambiental=None rating_costes_uso=None rating_tecnologia_conectividad=None prioriza_baja_depreciacion=None\n",
      "Input prefs type: <class 'graph.perfil.state.PerfilUsuario'>\n",
      "DEBUG (Validation Perfil) ► Campo 'aventura' está vacío/None.\n",
      "DEBUG Router: Decisión -> recopilar_preferencias\n",
      "--- Ejecutando Nodo: recopilar_preferencias_node ---\n",
      "DEBUG (Perfil) ► Último mensaje es HumanMessage o historial vacío, llamando a llm_solo_perfil...\n"
     ]
    },
    {
     "name": "stderr",
     "output_type": "stream",
     "text": [
      "INFO (RAG): HTTP Request: POST https://api.openai.com/v1/chat/completions \"HTTP/1.1 200 OK\"\n"
     ]
    },
    {
     "name": "stdout",
     "output_type": "stream",
     "text": [
      "DEBUG (Perfil) ► Respuesta llm_solo_perfil: preferencias_usuario=PerfilUsuario(apasionado_motor='no', valora_estetica='no', coche_principal_hogar='sí', uso_profesional='no', tipo_uso_profesional=None, prefiere_diseno_exclusivo='no', aventura=None, transporta_carga_voluminosa='no', necesita_espacio_objetos_especiales=None, altura_mayor_190='sí', peso_mayor_100='no', solo_electricos='no', transmision_preferida=<Transmision.AUTOMATICO: 'automático'>, rating_fiabilidad_durabilidad=None, rating_seguridad=None, rating_comodidad=None, rating_impacto_ambiental=None, rating_costes_uso=None, rating_tecnologia_conectividad=None, prioriza_baja_depreciacion=None) tipo_mensaje='PREGUNTA' contenido_mensaje='Para conocer tu espíritu aventurero, dime que prefieres:\\n 🛣️ Solo asfalto (ninguna)\\n 🌲 Salidas off‑road de vez en cuando (ocasional)\\n 🏔️ Aventurero extremo en terrenos difíciles (extrema)'\n",
      "DEBUG (Perfil) ► Preferencias TRAS post-procesamiento: apasionado_motor='no' valora_estetica='no' coche_principal_hogar='sí' uso_profesional='no' tipo_uso_profesional=None prefiere_diseno_exclusivo='no' aventura=None transporta_carga_voluminosa='no' necesita_espacio_objetos_especiales=None altura_mayor_190='sí' peso_mayor_100='no' solo_electricos='no' transmision_preferida=<Transmision.AUTOMATICO: 'automático'> rating_fiabilidad_durabilidad=None rating_seguridad=None rating_comodidad=None rating_impacto_ambiental=None rating_costes_uso=None rating_tecnologia_conectividad=None prioriza_baja_depreciacion=None\n",
      "DEBUG (Perfil) ► Estado preferencias_usuario actualizado: apasionado_motor='no' valora_estetica='no' coche_principal_hogar='sí' uso_profesional='no' tipo_uso_profesional=None prefiere_diseno_exclusivo='no' aventura=None transporta_carga_voluminosa='no' necesita_espacio_objetos_especiales=None altura_mayor_190='sí' peso_mayor_100='no' solo_electricos='no' transmision_preferida=<Transmision.AUTOMATICO: 'automático'> rating_fiabilidad_durabilidad=None rating_seguridad=None rating_comodidad=None rating_impacto_ambiental=None rating_costes_uso=None rating_tecnologia_conectividad=None prioriza_baja_depreciacion=None\n",
      "DEBUG (Perfil) ► Guardando mensaje pendiente: Para conocer tu espíritu aventurero, dime que prefieres:\n",
      " 🛣️ Solo asfalto (ninguna)\n",
      " 🌲 Salidas off‑road de vez en cuando (ocasional)\n",
      " 🏔️ Aventurero extremo en terrenos difíciles (extrema)\n",
      "--- Ejecutando Nodo: validar_preferencias_node ---\n",
      "--- DEBUG CHECK PERFIL ---\n",
      "Input prefs object: apasionado_motor='no' valora_estetica='no' coche_principal_hogar='sí' uso_profesional='no' tipo_uso_profesional=None prefiere_diseno_exclusivo='no' aventura=None transporta_carga_voluminosa='no' necesita_espacio_objetos_especiales=None altura_mayor_190='sí' peso_mayor_100='no' solo_electricos='no' transmision_preferida=<Transmision.AUTOMATICO: 'automático'> rating_fiabilidad_durabilidad=None rating_seguridad=None rating_comodidad=None rating_impacto_ambiental=None rating_costes_uso=None rating_tecnologia_conectividad=None prioriza_baja_depreciacion=None\n",
      "Input prefs type: <class 'graph.perfil.state.PerfilUsuario'>\n",
      "DEBUG (Validation Perfil) ► Campo 'aventura' está vacío/None.\n",
      "DEBUG (Perfil) ► Validación: PerfilUsuario considerado INCOMPLETO.\n",
      "--- Evaluando Condición: ruta_decision_perfil ---\n",
      "DEBUG (Condición Perfil) ► Estado 'preferencias_usuario' recibido: apasionado_motor='no' valora_estetica='no' coche_principal_hogar='sí' uso_profesional='no' tipo_uso_profesional=None prefiere_diseno_exclusivo='no' aventura=None transporta_carga_voluminosa='no' necesita_espacio_objetos_especiales=None altura_mayor_190='sí' peso_mayor_100='no' solo_electricos='no' transmision_preferida=<Transmision.AUTOMATICO: 'automático'> rating_fiabilidad_durabilidad=None rating_seguridad=None rating_comodidad=None rating_impacto_ambiental=None rating_costes_uso=None rating_tecnologia_conectividad=None prioriza_baja_depreciacion=None\n",
      "DEBUG (Condición Perfil) ► Tipo de 'preferencias_usuario': <class 'graph.perfil.state.PerfilUsuario'>\n",
      "--- DEBUG CHECK PERFIL ---\n",
      "Input prefs object: apasionado_motor='no' valora_estetica='no' coche_principal_hogar='sí' uso_profesional='no' tipo_uso_profesional=None prefiere_diseno_exclusivo='no' aventura=None transporta_carga_voluminosa='no' necesita_espacio_objetos_especiales=None altura_mayor_190='sí' peso_mayor_100='no' solo_electricos='no' transmision_preferida=<Transmision.AUTOMATICO: 'automático'> rating_fiabilidad_durabilidad=None rating_seguridad=None rating_comodidad=None rating_impacto_ambiental=None rating_costes_uso=None rating_tecnologia_conectividad=None prioriza_baja_depreciacion=None\n",
      "Input prefs type: <class 'graph.perfil.state.PerfilUsuario'>\n",
      "DEBUG (Validation Perfil) ► Campo 'aventura' está vacío/None.\n",
      "DEBUG (Condición Perfil) ► Perfil INCOMPLETO. Se necesita pregunta.\n",
      "--- Ejecutando Nodo: preguntar_preferencias_node ---\n",
      "--- DEBUG CHECK PERFIL ---\n",
      "Input prefs object: apasionado_motor='no' valora_estetica='no' coche_principal_hogar='sí' uso_profesional='no' tipo_uso_profesional=None prefiere_diseno_exclusivo='no' aventura=None transporta_carga_voluminosa='no' necesita_espacio_objetos_especiales=None altura_mayor_190='sí' peso_mayor_100='no' solo_electricos='no' transmision_preferida=<Transmision.AUTOMATICO: 'automático'> rating_fiabilidad_durabilidad=None rating_seguridad=None rating_comodidad=None rating_impacto_ambiental=None rating_costes_uso=None rating_tecnologia_conectividad=None prioriza_baja_depreciacion=None\n",
      "Input prefs type: <class 'graph.perfil.state.PerfilUsuario'>\n",
      "DEBUG (Validation Perfil) ► Campo 'aventura' está vacío/None.\n",
      "DEBUG (Preguntar Perfil) ► Perfil aún INCOMPLETO según checker.\n",
      "DEBUG (Preguntar Perfil) ► Pregunta fallback generada: Para conocer tu espíritu aventurero, dime que prefieres:\n",
      " 🛣️ Solo asfalto (ninguna)\n",
      " 🌲 Salidas off‑road de vez en cuando (ocasional)\n",
      " 🏔️ Aventurero extremo en terrenos difíciles (extrema)\n",
      "DEBUG (Preguntar Perfil) ► Usando mensaje pendiente (pregunta LLM): Para conocer tu espíritu aventurero, dime que prefieres:\n",
      " 🛣️ Solo asfalto (ninguna)\n",
      " 🌲 Salidas off‑road de vez en cuando (ocasional)\n",
      " 🏔️ Aventurero extremo en terrenos difíciles (extrema)\n",
      "DEBUG (Preguntar Perfil) ► Mensaje final añadido: Para conocer tu espíritu aventurero, dime que prefieres:\n",
      " 🛣️ Solo asfalto (ninguna)\n",
      " 🌲 Salidas off‑road de vez en cuando (ocasional)\n",
      " 🏔️ Aventurero extremo en terrenos difíciles (extrema)\n",
      "==================================\u001b[1m Ai Message \u001b[0m==================================\n",
      "\n",
      "Para conocer tu espíritu aventurero, dime que prefieres:\n",
      " 🛣️ Solo asfalto (ninguna)\n",
      " 🌲 Salidas off‑road de vez en cuando (ocasional)\n",
      " 🏔️ Aventurero extremo en terrenos difíciles (extrema)\n"
     ]
    }
   ],
   "source": [
    "# Create a thread\n",
    "config = {\"configurable\": {\"thread_id\": \"1\"}}\n",
    "\n",
    "# Start conversation\n",
    "input_message = HumanMessage(content=\"la 1\")\n",
    "output = graph.invoke({\"messages\": [input_message]}, config) \n",
    "for m in output['messages'][-1:]:\n",
    "    m.pretty_print()"
   ]
  },
  {
   "cell_type": "code",
   "execution_count": 11,
   "metadata": {},
   "outputs": [
    {
     "name": "stdout",
     "output_type": "stream",
     "text": [
      "--- Ejecutando Nodo: route_based_on_state_node ---\n",
      "\n",
      "--- DEBUG: Evaluating Routing Decision ---\n",
      "--- DEBUG CHECK PERFIL ---\n",
      "Input prefs object: apasionado_motor='no' valora_estetica='no' coche_principal_hogar='sí' uso_profesional='no' tipo_uso_profesional=None prefiere_diseno_exclusivo='no' aventura=None transporta_carga_voluminosa='no' necesita_espacio_objetos_especiales=None altura_mayor_190='sí' peso_mayor_100='no' solo_electricos='no' transmision_preferida=<Transmision.AUTOMATICO: 'automático'> rating_fiabilidad_durabilidad=None rating_seguridad=None rating_comodidad=None rating_impacto_ambiental=None rating_costes_uso=None rating_tecnologia_conectividad=None prioriza_baja_depreciacion=None\n",
      "Input prefs type: <class 'graph.perfil.state.PerfilUsuario'>\n",
      "DEBUG (Validation Perfil) ► Campo 'aventura' está vacío/None.\n",
      "DEBUG Router: Prefs OK? False\n",
      "--- DEBUG CHECK PASAJEROS ---\n",
      "Input info pasajeros: None\n",
      "DEBUG (Validation Pasajeros) ► Objeto InfoPasajeros es None.\n",
      "DEBUG Router: Pasajeros OK? False\n",
      "DEBUG (Validation Filtros) ► Objeto FiltrosInferidos es None.\n",
      "DEBUG Router: Filtros OK? False\n",
      "--- DEBUG CHECK ECONOMIA (Manual) ---\n",
      "Input econ object: None\n",
      "DEBUG (Validation Economía Manual) ► Objeto EconomiaUsuario es None.\n",
      "DEBUG Router: Economía OK? False\n",
      "DEBUG Router: Pesos Calculados? False\n",
      "DEBUG Router: Coches Buscados? False\n",
      "--- DEBUG CHECK PERFIL ---\n",
      "Input prefs object: apasionado_motor='no' valora_estetica='no' coche_principal_hogar='sí' uso_profesional='no' tipo_uso_profesional=None prefiere_diseno_exclusivo='no' aventura=None transporta_carga_voluminosa='no' necesita_espacio_objetos_especiales=None altura_mayor_190='sí' peso_mayor_100='no' solo_electricos='no' transmision_preferida=<Transmision.AUTOMATICO: 'automático'> rating_fiabilidad_durabilidad=None rating_seguridad=None rating_comodidad=None rating_impacto_ambiental=None rating_costes_uso=None rating_tecnologia_conectividad=None prioriza_baja_depreciacion=None\n",
      "Input prefs type: <class 'graph.perfil.state.PerfilUsuario'>\n",
      "DEBUG (Validation Perfil) ► Campo 'aventura' está vacío/None.\n",
      "DEBUG Router: Decisión -> recopilar_preferencias\n",
      "--- Ejecutando Nodo: recopilar_preferencias_node ---\n",
      "DEBUG (Perfil) ► Último mensaje es HumanMessage o historial vacío, llamando a llm_solo_perfil...\n"
     ]
    },
    {
     "name": "stderr",
     "output_type": "stream",
     "text": [
      "INFO (RAG): HTTP Request: POST https://api.openai.com/v1/chat/completions \"HTTP/1.1 200 OK\"\n"
     ]
    },
    {
     "name": "stdout",
     "output_type": "stream",
     "text": [
      "DEBUG (Perfil) ► Respuesta llm_solo_perfil: preferencias_usuario=PerfilUsuario(apasionado_motor='no', valora_estetica='no', coche_principal_hogar='sí', uso_profesional='no', tipo_uso_profesional=None, prefiere_diseno_exclusivo='no', aventura=<NivelAventura.ocasional: 'ocasional'>, transporta_carga_voluminosa='no', necesita_espacio_objetos_especiales=None, altura_mayor_190='sí', peso_mayor_100='no', solo_electricos='no', transmision_preferida=<Transmision.AUTOMATICO: 'automático'>, rating_fiabilidad_durabilidad=None, rating_seguridad=None, rating_comodidad=None, rating_impacto_ambiental=None, rating_costes_uso=None, rating_tecnologia_conectividad=None, prioriza_baja_depreciacion=None) tipo_mensaje='PREGUNTA' contenido_mensaje='Para garantizar tu máxima comodidad, ¿tienes un peso superior a 100 kg?'\n",
      "DEBUG (Perfil) ► Preferencias TRAS post-procesamiento: apasionado_motor='no' valora_estetica='no' coche_principal_hogar='sí' uso_profesional='no' tipo_uso_profesional=None prefiere_diseno_exclusivo='no' aventura=<NivelAventura.ocasional: 'ocasional'> transporta_carga_voluminosa='no' necesita_espacio_objetos_especiales=None altura_mayor_190='sí' peso_mayor_100='no' solo_electricos='no' transmision_preferida=<Transmision.AUTOMATICO: 'automático'> rating_fiabilidad_durabilidad=None rating_seguridad=None rating_comodidad=None rating_impacto_ambiental=None rating_costes_uso=None rating_tecnologia_conectividad=None prioriza_baja_depreciacion=None\n",
      "DEBUG (Perfil) ► Estado preferencias_usuario actualizado: apasionado_motor='no' valora_estetica='no' coche_principal_hogar='sí' uso_profesional='no' tipo_uso_profesional=None prefiere_diseno_exclusivo='no' aventura=<NivelAventura.ocasional: 'ocasional'> transporta_carga_voluminosa='no' necesita_espacio_objetos_especiales=None altura_mayor_190='sí' peso_mayor_100='no' solo_electricos='no' transmision_preferida=<Transmision.AUTOMATICO: 'automático'> rating_fiabilidad_durabilidad=None rating_seguridad=None rating_comodidad=None rating_impacto_ambiental=None rating_costes_uso=None rating_tecnologia_conectividad=None prioriza_baja_depreciacion=None\n",
      "DEBUG (Perfil) ► Guardando mensaje pendiente: Para garantizar tu máxima comodidad, ¿tienes un peso superior a 100 kg?\n",
      "--- Ejecutando Nodo: validar_preferencias_node ---\n",
      "--- DEBUG CHECK PERFIL ---\n",
      "Input prefs object: apasionado_motor='no' valora_estetica='no' coche_principal_hogar='sí' uso_profesional='no' tipo_uso_profesional=None prefiere_diseno_exclusivo='no' aventura=<NivelAventura.ocasional: 'ocasional'> transporta_carga_voluminosa='no' necesita_espacio_objetos_especiales=None altura_mayor_190='sí' peso_mayor_100='no' solo_electricos='no' transmision_preferida=<Transmision.AUTOMATICO: 'automático'> rating_fiabilidad_durabilidad=None rating_seguridad=None rating_comodidad=None rating_impacto_ambiental=None rating_costes_uso=None rating_tecnologia_conectividad=None prioriza_baja_depreciacion=None\n",
      "Input prefs type: <class 'graph.perfil.state.PerfilUsuario'>\n",
      "DEBUG (Validation Perfil) ► Campo 'rating_fiabilidad_durabilidad' está vacío/None.\n",
      "DEBUG (Perfil) ► Validación: PerfilUsuario considerado INCOMPLETO.\n",
      "--- Evaluando Condición: ruta_decision_perfil ---\n",
      "DEBUG (Condición Perfil) ► Estado 'preferencias_usuario' recibido: apasionado_motor='no' valora_estetica='no' coche_principal_hogar='sí' uso_profesional='no' tipo_uso_profesional=None prefiere_diseno_exclusivo='no' aventura=<NivelAventura.ocasional: 'ocasional'> transporta_carga_voluminosa='no' necesita_espacio_objetos_especiales=None altura_mayor_190='sí' peso_mayor_100='no' solo_electricos='no' transmision_preferida=<Transmision.AUTOMATICO: 'automático'> rating_fiabilidad_durabilidad=None rating_seguridad=None rating_comodidad=None rating_impacto_ambiental=None rating_costes_uso=None rating_tecnologia_conectividad=None prioriza_baja_depreciacion=None\n",
      "DEBUG (Condición Perfil) ► Tipo de 'preferencias_usuario': <class 'graph.perfil.state.PerfilUsuario'>\n",
      "--- DEBUG CHECK PERFIL ---\n",
      "Input prefs object: apasionado_motor='no' valora_estetica='no' coche_principal_hogar='sí' uso_profesional='no' tipo_uso_profesional=None prefiere_diseno_exclusivo='no' aventura=<NivelAventura.ocasional: 'ocasional'> transporta_carga_voluminosa='no' necesita_espacio_objetos_especiales=None altura_mayor_190='sí' peso_mayor_100='no' solo_electricos='no' transmision_preferida=<Transmision.AUTOMATICO: 'automático'> rating_fiabilidad_durabilidad=None rating_seguridad=None rating_comodidad=None rating_impacto_ambiental=None rating_costes_uso=None rating_tecnologia_conectividad=None prioriza_baja_depreciacion=None\n",
      "Input prefs type: <class 'graph.perfil.state.PerfilUsuario'>\n",
      "DEBUG (Validation Perfil) ► Campo 'rating_fiabilidad_durabilidad' está vacío/None.\n",
      "DEBUG (Condición Perfil) ► Perfil INCOMPLETO. Se necesita pregunta.\n",
      "--- Ejecutando Nodo: preguntar_preferencias_node ---\n",
      "--- DEBUG CHECK PERFIL ---\n",
      "Input prefs object: apasionado_motor='no' valora_estetica='no' coche_principal_hogar='sí' uso_profesional='no' tipo_uso_profesional=None prefiere_diseno_exclusivo='no' aventura=<NivelAventura.ocasional: 'ocasional'> transporta_carga_voluminosa='no' necesita_espacio_objetos_especiales=None altura_mayor_190='sí' peso_mayor_100='no' solo_electricos='no' transmision_preferida=<Transmision.AUTOMATICO: 'automático'> rating_fiabilidad_durabilidad=None rating_seguridad=None rating_comodidad=None rating_impacto_ambiental=None rating_costes_uso=None rating_tecnologia_conectividad=None prioriza_baja_depreciacion=None\n",
      "Input prefs type: <class 'graph.perfil.state.PerfilUsuario'>\n",
      "DEBUG (Validation Perfil) ► Campo 'rating_fiabilidad_durabilidad' está vacío/None.\n",
      "DEBUG (Preguntar Perfil) ► Perfil aún INCOMPLETO según checker.\n",
      "DEBUG (Preguntar Perfil) ► Pregunta fallback generada: En una escala de 0 (nada importante) a 10 (extremadamente importante), ¿qué tan importante es para ti la Fiabilidad y Durabilidad del coche?\n",
      "DEBUG (Preguntar Perfil) ► Usando mensaje pendiente (pregunta LLM): Para garantizar tu máxima comodidad, ¿tienes un peso superior a 100 kg?\n",
      "DEBUG (Preguntar Perfil) ► Mensaje final añadido: Para garantizar tu máxima comodidad, ¿tienes un peso superior a 100 kg?\n",
      "==================================\u001b[1m Ai Message \u001b[0m==================================\n",
      "\n",
      "Para garantizar tu máxima comodidad, ¿tienes un peso superior a 100 kg?\n"
     ]
    }
   ],
   "source": [
    "# Create a thread\n",
    "config = {\"configurable\": {\"thread_id\": \"1\"}}\n",
    "\n",
    "# Start conversation\n",
    "input_message = HumanMessage(content=\"ocasional\")\n",
    "output = graph.invoke({\"messages\": [input_message]}, config) \n",
    "for m in output['messages'][-1:]:\n",
    "    m.pretty_print()"
   ]
  },
  {
   "cell_type": "code",
   "execution_count": 12,
   "metadata": {},
   "outputs": [
    {
     "name": "stdout",
     "output_type": "stream",
     "text": [
      "--- Ejecutando Nodo: route_based_on_state_node ---\n",
      "\n",
      "--- DEBUG: Evaluating Routing Decision ---\n",
      "--- DEBUG CHECK PERFIL ---\n",
      "Input prefs object: apasionado_motor='no' valora_estetica='no' coche_principal_hogar='sí' uso_profesional='no' tipo_uso_profesional=None prefiere_diseno_exclusivo='no' aventura=<NivelAventura.ocasional: 'ocasional'> transporta_carga_voluminosa='no' necesita_espacio_objetos_especiales=None altura_mayor_190='sí' peso_mayor_100='no' solo_electricos='no' transmision_preferida=<Transmision.AUTOMATICO: 'automático'> rating_fiabilidad_durabilidad=None rating_seguridad=None rating_comodidad=None rating_impacto_ambiental=None rating_costes_uso=None rating_tecnologia_conectividad=None prioriza_baja_depreciacion=None\n",
      "Input prefs type: <class 'graph.perfil.state.PerfilUsuario'>\n",
      "DEBUG (Validation Perfil) ► Campo 'rating_fiabilidad_durabilidad' está vacío/None.\n",
      "DEBUG Router: Prefs OK? False\n",
      "--- DEBUG CHECK PASAJEROS ---\n",
      "Input info pasajeros: None\n",
      "DEBUG (Validation Pasajeros) ► Objeto InfoPasajeros es None.\n",
      "DEBUG Router: Pasajeros OK? False\n",
      "DEBUG (Validation Filtros) ► Objeto FiltrosInferidos es None.\n",
      "DEBUG Router: Filtros OK? False\n",
      "--- DEBUG CHECK ECONOMIA (Manual) ---\n",
      "Input econ object: None\n",
      "DEBUG (Validation Economía Manual) ► Objeto EconomiaUsuario es None.\n",
      "DEBUG Router: Economía OK? False\n",
      "DEBUG Router: Pesos Calculados? False\n",
      "DEBUG Router: Coches Buscados? False\n",
      "--- DEBUG CHECK PERFIL ---\n",
      "Input prefs object: apasionado_motor='no' valora_estetica='no' coche_principal_hogar='sí' uso_profesional='no' tipo_uso_profesional=None prefiere_diseno_exclusivo='no' aventura=<NivelAventura.ocasional: 'ocasional'> transporta_carga_voluminosa='no' necesita_espacio_objetos_especiales=None altura_mayor_190='sí' peso_mayor_100='no' solo_electricos='no' transmision_preferida=<Transmision.AUTOMATICO: 'automático'> rating_fiabilidad_durabilidad=None rating_seguridad=None rating_comodidad=None rating_impacto_ambiental=None rating_costes_uso=None rating_tecnologia_conectividad=None prioriza_baja_depreciacion=None\n",
      "Input prefs type: <class 'graph.perfil.state.PerfilUsuario'>\n",
      "DEBUG (Validation Perfil) ► Campo 'rating_fiabilidad_durabilidad' está vacío/None.\n",
      "DEBUG Router: Decisión -> recopilar_preferencias\n",
      "--- Ejecutando Nodo: recopilar_preferencias_node ---\n",
      "DEBUG (Perfil) ► Último mensaje es HumanMessage o historial vacío, llamando a llm_solo_perfil...\n"
     ]
    },
    {
     "name": "stderr",
     "output_type": "stream",
     "text": [
      "INFO (RAG): HTTP Request: POST https://api.openai.com/v1/chat/completions \"HTTP/1.1 200 OK\"\n"
     ]
    },
    {
     "name": "stdout",
     "output_type": "stream",
     "text": [
      "DEBUG (Perfil) ► Respuesta llm_solo_perfil: preferencias_usuario=PerfilUsuario(apasionado_motor='no', valora_estetica='no', coche_principal_hogar='sí', uso_profesional='no', tipo_uso_profesional=None, prefiere_diseno_exclusivo='no', aventura=<NivelAventura.ocasional: 'ocasional'>, transporta_carga_voluminosa='no', necesita_espacio_objetos_especiales=None, altura_mayor_190='sí', peso_mayor_100='no', solo_electricos='no', transmision_preferida=<Transmision.AUTOMATICO: 'automático'>, rating_fiabilidad_durabilidad=None, rating_seguridad=None, rating_comodidad=None, rating_impacto_ambiental=None, rating_costes_uso=None, rating_tecnologia_conectividad=None, prioriza_baja_depreciacion=None) tipo_mensaje='PREGUNTA' contenido_mensaje=\"¿Es importante para ti que la depreciación del coche sea lo más baja posible? (Responde 'sí' o 'no')\"\n",
      "DEBUG (Perfil) ► Preferencias TRAS post-procesamiento: apasionado_motor='no' valora_estetica='no' coche_principal_hogar='sí' uso_profesional='no' tipo_uso_profesional=None prefiere_diseno_exclusivo='no' aventura=<NivelAventura.ocasional: 'ocasional'> transporta_carga_voluminosa='no' necesita_espacio_objetos_especiales=None altura_mayor_190='sí' peso_mayor_100='no' solo_electricos='no' transmision_preferida=<Transmision.AUTOMATICO: 'automático'> rating_fiabilidad_durabilidad=None rating_seguridad=None rating_comodidad=None rating_impacto_ambiental=None rating_costes_uso=None rating_tecnologia_conectividad=None prioriza_baja_depreciacion=None\n",
      "DEBUG (Perfil) ► Estado preferencias_usuario actualizado: apasionado_motor='no' valora_estetica='no' coche_principal_hogar='sí' uso_profesional='no' tipo_uso_profesional=None prefiere_diseno_exclusivo='no' aventura=<NivelAventura.ocasional: 'ocasional'> transporta_carga_voluminosa='no' necesita_espacio_objetos_especiales=None altura_mayor_190='sí' peso_mayor_100='no' solo_electricos='no' transmision_preferida=<Transmision.AUTOMATICO: 'automático'> rating_fiabilidad_durabilidad=None rating_seguridad=None rating_comodidad=None rating_impacto_ambiental=None rating_costes_uso=None rating_tecnologia_conectividad=None prioriza_baja_depreciacion=None\n",
      "DEBUG (Perfil) ► Guardando mensaje pendiente: ¿Es importante para ti que la depreciación del coche sea lo más baja posible? (Responde 'sí' o 'no')\n",
      "--- Ejecutando Nodo: validar_preferencias_node ---\n",
      "--- DEBUG CHECK PERFIL ---\n",
      "Input prefs object: apasionado_motor='no' valora_estetica='no' coche_principal_hogar='sí' uso_profesional='no' tipo_uso_profesional=None prefiere_diseno_exclusivo='no' aventura=<NivelAventura.ocasional: 'ocasional'> transporta_carga_voluminosa='no' necesita_espacio_objetos_especiales=None altura_mayor_190='sí' peso_mayor_100='no' solo_electricos='no' transmision_preferida=<Transmision.AUTOMATICO: 'automático'> rating_fiabilidad_durabilidad=None rating_seguridad=None rating_comodidad=None rating_impacto_ambiental=None rating_costes_uso=None rating_tecnologia_conectividad=None prioriza_baja_depreciacion=None\n",
      "Input prefs type: <class 'graph.perfil.state.PerfilUsuario'>\n",
      "DEBUG (Validation Perfil) ► Campo 'rating_fiabilidad_durabilidad' está vacío/None.\n",
      "DEBUG (Perfil) ► Validación: PerfilUsuario considerado INCOMPLETO.\n",
      "--- Evaluando Condición: ruta_decision_perfil ---\n",
      "DEBUG (Condición Perfil) ► Estado 'preferencias_usuario' recibido: apasionado_motor='no' valora_estetica='no' coche_principal_hogar='sí' uso_profesional='no' tipo_uso_profesional=None prefiere_diseno_exclusivo='no' aventura=<NivelAventura.ocasional: 'ocasional'> transporta_carga_voluminosa='no' necesita_espacio_objetos_especiales=None altura_mayor_190='sí' peso_mayor_100='no' solo_electricos='no' transmision_preferida=<Transmision.AUTOMATICO: 'automático'> rating_fiabilidad_durabilidad=None rating_seguridad=None rating_comodidad=None rating_impacto_ambiental=None rating_costes_uso=None rating_tecnologia_conectividad=None prioriza_baja_depreciacion=None\n",
      "DEBUG (Condición Perfil) ► Tipo de 'preferencias_usuario': <class 'graph.perfil.state.PerfilUsuario'>\n",
      "--- DEBUG CHECK PERFIL ---\n",
      "Input prefs object: apasionado_motor='no' valora_estetica='no' coche_principal_hogar='sí' uso_profesional='no' tipo_uso_profesional=None prefiere_diseno_exclusivo='no' aventura=<NivelAventura.ocasional: 'ocasional'> transporta_carga_voluminosa='no' necesita_espacio_objetos_especiales=None altura_mayor_190='sí' peso_mayor_100='no' solo_electricos='no' transmision_preferida=<Transmision.AUTOMATICO: 'automático'> rating_fiabilidad_durabilidad=None rating_seguridad=None rating_comodidad=None rating_impacto_ambiental=None rating_costes_uso=None rating_tecnologia_conectividad=None prioriza_baja_depreciacion=None\n",
      "Input prefs type: <class 'graph.perfil.state.PerfilUsuario'>\n",
      "DEBUG (Validation Perfil) ► Campo 'rating_fiabilidad_durabilidad' está vacío/None.\n",
      "DEBUG (Condición Perfil) ► Perfil INCOMPLETO. Se necesita pregunta.\n",
      "--- Ejecutando Nodo: preguntar_preferencias_node ---\n",
      "--- DEBUG CHECK PERFIL ---\n",
      "Input prefs object: apasionado_motor='no' valora_estetica='no' coche_principal_hogar='sí' uso_profesional='no' tipo_uso_profesional=None prefiere_diseno_exclusivo='no' aventura=<NivelAventura.ocasional: 'ocasional'> transporta_carga_voluminosa='no' necesita_espacio_objetos_especiales=None altura_mayor_190='sí' peso_mayor_100='no' solo_electricos='no' transmision_preferida=<Transmision.AUTOMATICO: 'automático'> rating_fiabilidad_durabilidad=None rating_seguridad=None rating_comodidad=None rating_impacto_ambiental=None rating_costes_uso=None rating_tecnologia_conectividad=None prioriza_baja_depreciacion=None\n",
      "Input prefs type: <class 'graph.perfil.state.PerfilUsuario'>\n",
      "DEBUG (Validation Perfil) ► Campo 'rating_fiabilidad_durabilidad' está vacío/None.\n",
      "DEBUG (Preguntar Perfil) ► Perfil aún INCOMPLETO según checker.\n",
      "DEBUG (Preguntar Perfil) ► Pregunta fallback generada: En una escala de 0 (nada importante) a 10 (extremadamente importante), ¿qué tan importante es para ti la Fiabilidad y Durabilidad del coche?\n",
      "DEBUG (Preguntar Perfil) ► Usando mensaje pendiente (pregunta LLM): ¿Es importante para ti que la depreciación del coche sea lo más baja posible? (Responde 'sí' o 'no')\n",
      "DEBUG (Preguntar Perfil) ► Mensaje final añadido: ¿Es importante para ti que la depreciación del coche sea lo más baja posible? (Responde 'sí' o 'no')\n",
      "==================================\u001b[1m Ai Message \u001b[0m==================================\n",
      "\n",
      "¿Es importante para ti que la depreciación del coche sea lo más baja posible? (Responde 'sí' o 'no')\n"
     ]
    }
   ],
   "source": [
    "# Create a thread\n",
    "config = {\"configurable\": {\"thread_id\": \"1\"}}\n",
    "\n",
    "# Start conversation\n",
    "input_message = HumanMessage(content=\"no\")\n",
    "output = graph.invoke({\"messages\": [input_message]}, config) \n",
    "for m in output['messages'][-1:]:\n",
    "    m.pretty_print()"
   ]
  },
  {
   "cell_type": "code",
   "execution_count": 13,
   "metadata": {},
   "outputs": [
    {
     "name": "stdout",
     "output_type": "stream",
     "text": [
      "--- Ejecutando Nodo: route_based_on_state_node ---\n",
      "\n",
      "--- DEBUG: Evaluating Routing Decision ---\n",
      "--- DEBUG CHECK PERFIL ---\n",
      "Input prefs object: apasionado_motor='no' valora_estetica='no' coche_principal_hogar='sí' uso_profesional='no' tipo_uso_profesional=None prefiere_diseno_exclusivo='no' aventura=<NivelAventura.ocasional: 'ocasional'> transporta_carga_voluminosa='no' necesita_espacio_objetos_especiales=None altura_mayor_190='sí' peso_mayor_100='no' solo_electricos='no' transmision_preferida=<Transmision.AUTOMATICO: 'automático'> rating_fiabilidad_durabilidad=None rating_seguridad=None rating_comodidad=None rating_impacto_ambiental=None rating_costes_uso=None rating_tecnologia_conectividad=None prioriza_baja_depreciacion=None\n",
      "Input prefs type: <class 'graph.perfil.state.PerfilUsuario'>\n",
      "DEBUG (Validation Perfil) ► Campo 'rating_fiabilidad_durabilidad' está vacío/None.\n",
      "DEBUG Router: Prefs OK? False\n",
      "--- DEBUG CHECK PASAJEROS ---\n",
      "Input info pasajeros: None\n",
      "DEBUG (Validation Pasajeros) ► Objeto InfoPasajeros es None.\n",
      "DEBUG Router: Pasajeros OK? False\n",
      "DEBUG (Validation Filtros) ► Objeto FiltrosInferidos es None.\n",
      "DEBUG Router: Filtros OK? False\n",
      "--- DEBUG CHECK ECONOMIA (Manual) ---\n",
      "Input econ object: None\n",
      "DEBUG (Validation Economía Manual) ► Objeto EconomiaUsuario es None.\n",
      "DEBUG Router: Economía OK? False\n",
      "DEBUG Router: Pesos Calculados? False\n",
      "DEBUG Router: Coches Buscados? False\n",
      "--- DEBUG CHECK PERFIL ---\n",
      "Input prefs object: apasionado_motor='no' valora_estetica='no' coche_principal_hogar='sí' uso_profesional='no' tipo_uso_profesional=None prefiere_diseno_exclusivo='no' aventura=<NivelAventura.ocasional: 'ocasional'> transporta_carga_voluminosa='no' necesita_espacio_objetos_especiales=None altura_mayor_190='sí' peso_mayor_100='no' solo_electricos='no' transmision_preferida=<Transmision.AUTOMATICO: 'automático'> rating_fiabilidad_durabilidad=None rating_seguridad=None rating_comodidad=None rating_impacto_ambiental=None rating_costes_uso=None rating_tecnologia_conectividad=None prioriza_baja_depreciacion=None\n",
      "Input prefs type: <class 'graph.perfil.state.PerfilUsuario'>\n",
      "DEBUG (Validation Perfil) ► Campo 'rating_fiabilidad_durabilidad' está vacío/None.\n",
      "DEBUG Router: Decisión -> recopilar_preferencias\n",
      "--- Ejecutando Nodo: recopilar_preferencias_node ---\n",
      "DEBUG (Perfil) ► Último mensaje es HumanMessage o historial vacío, llamando a llm_solo_perfil...\n"
     ]
    },
    {
     "name": "stderr",
     "output_type": "stream",
     "text": [
      "INFO (RAG): HTTP Request: POST https://api.openai.com/v1/chat/completions \"HTTP/1.1 200 OK\"\n"
     ]
    },
    {
     "name": "stdout",
     "output_type": "stream",
     "text": [
      "DEBUG (Perfil) ► Respuesta llm_solo_perfil: preferencias_usuario=PerfilUsuario(apasionado_motor='no', valora_estetica='no', coche_principal_hogar='sí', uso_profesional='no', tipo_uso_profesional=None, prefiere_diseno_exclusivo='no', aventura=<NivelAventura.ocasional: 'ocasional'>, transporta_carga_voluminosa='no', necesita_espacio_objetos_especiales=None, altura_mayor_190='sí', peso_mayor_100='no', solo_electricos='no', transmision_preferida=<Transmision.AUTOMATICO: 'automático'>, rating_fiabilidad_durabilidad=None, rating_seguridad=None, rating_comodidad=None, rating_impacto_ambiental=None, rating_costes_uso=None, rating_tecnologia_conectividad=None, prioriza_baja_depreciacion='no') tipo_mensaje='PREGUNTA' contenido_mensaje='En una escala de 0 (nada importante) a 10 (extremadamente importante), ¿qué tan importante es para ti la Fiabilidad y Durabilidad del coche?'\n",
      "DEBUG (Perfil) ► Preferencias TRAS post-procesamiento: apasionado_motor='no' valora_estetica='no' coche_principal_hogar='sí' uso_profesional='no' tipo_uso_profesional=None prefiere_diseno_exclusivo='no' aventura=<NivelAventura.ocasional: 'ocasional'> transporta_carga_voluminosa='no' necesita_espacio_objetos_especiales=None altura_mayor_190='sí' peso_mayor_100='no' solo_electricos='no' transmision_preferida=<Transmision.AUTOMATICO: 'automático'> rating_fiabilidad_durabilidad=None rating_seguridad=None rating_comodidad=None rating_impacto_ambiental=None rating_costes_uso=None rating_tecnologia_conectividad=None prioriza_baja_depreciacion='no'\n",
      "DEBUG (Perfil) ► Estado preferencias_usuario actualizado: apasionado_motor='no' valora_estetica='no' coche_principal_hogar='sí' uso_profesional='no' tipo_uso_profesional=None prefiere_diseno_exclusivo='no' aventura=<NivelAventura.ocasional: 'ocasional'> transporta_carga_voluminosa='no' necesita_espacio_objetos_especiales=None altura_mayor_190='sí' peso_mayor_100='no' solo_electricos='no' transmision_preferida=<Transmision.AUTOMATICO: 'automático'> rating_fiabilidad_durabilidad=None rating_seguridad=None rating_comodidad=None rating_impacto_ambiental=None rating_costes_uso=None rating_tecnologia_conectividad=None prioriza_baja_depreciacion='no'\n",
      "DEBUG (Perfil) ► Guardando mensaje pendiente: En una escala de 0 (nada importante) a 10 (extremadamente importante), ¿qué tan importante es para ti la Fiabilidad y Durabilidad del coche?\n",
      "--- Ejecutando Nodo: validar_preferencias_node ---\n",
      "--- DEBUG CHECK PERFIL ---\n",
      "Input prefs object: apasionado_motor='no' valora_estetica='no' coche_principal_hogar='sí' uso_profesional='no' tipo_uso_profesional=None prefiere_diseno_exclusivo='no' aventura=<NivelAventura.ocasional: 'ocasional'> transporta_carga_voluminosa='no' necesita_espacio_objetos_especiales=None altura_mayor_190='sí' peso_mayor_100='no' solo_electricos='no' transmision_preferida=<Transmision.AUTOMATICO: 'automático'> rating_fiabilidad_durabilidad=None rating_seguridad=None rating_comodidad=None rating_impacto_ambiental=None rating_costes_uso=None rating_tecnologia_conectividad=None prioriza_baja_depreciacion='no'\n",
      "Input prefs type: <class 'graph.perfil.state.PerfilUsuario'>\n",
      "DEBUG (Validation Perfil) ► Campo 'rating_fiabilidad_durabilidad' está vacío/None.\n",
      "DEBUG (Perfil) ► Validación: PerfilUsuario considerado INCOMPLETO.\n",
      "--- Evaluando Condición: ruta_decision_perfil ---\n",
      "DEBUG (Condición Perfil) ► Estado 'preferencias_usuario' recibido: apasionado_motor='no' valora_estetica='no' coche_principal_hogar='sí' uso_profesional='no' tipo_uso_profesional=None prefiere_diseno_exclusivo='no' aventura=<NivelAventura.ocasional: 'ocasional'> transporta_carga_voluminosa='no' necesita_espacio_objetos_especiales=None altura_mayor_190='sí' peso_mayor_100='no' solo_electricos='no' transmision_preferida=<Transmision.AUTOMATICO: 'automático'> rating_fiabilidad_durabilidad=None rating_seguridad=None rating_comodidad=None rating_impacto_ambiental=None rating_costes_uso=None rating_tecnologia_conectividad=None prioriza_baja_depreciacion='no'\n",
      "DEBUG (Condición Perfil) ► Tipo de 'preferencias_usuario': <class 'graph.perfil.state.PerfilUsuario'>\n",
      "--- DEBUG CHECK PERFIL ---\n",
      "Input prefs object: apasionado_motor='no' valora_estetica='no' coche_principal_hogar='sí' uso_profesional='no' tipo_uso_profesional=None prefiere_diseno_exclusivo='no' aventura=<NivelAventura.ocasional: 'ocasional'> transporta_carga_voluminosa='no' necesita_espacio_objetos_especiales=None altura_mayor_190='sí' peso_mayor_100='no' solo_electricos='no' transmision_preferida=<Transmision.AUTOMATICO: 'automático'> rating_fiabilidad_durabilidad=None rating_seguridad=None rating_comodidad=None rating_impacto_ambiental=None rating_costes_uso=None rating_tecnologia_conectividad=None prioriza_baja_depreciacion='no'\n",
      "Input prefs type: <class 'graph.perfil.state.PerfilUsuario'>\n",
      "DEBUG (Validation Perfil) ► Campo 'rating_fiabilidad_durabilidad' está vacío/None.\n",
      "DEBUG (Condición Perfil) ► Perfil INCOMPLETO. Se necesita pregunta.\n",
      "--- Ejecutando Nodo: preguntar_preferencias_node ---\n",
      "--- DEBUG CHECK PERFIL ---\n",
      "Input prefs object: apasionado_motor='no' valora_estetica='no' coche_principal_hogar='sí' uso_profesional='no' tipo_uso_profesional=None prefiere_diseno_exclusivo='no' aventura=<NivelAventura.ocasional: 'ocasional'> transporta_carga_voluminosa='no' necesita_espacio_objetos_especiales=None altura_mayor_190='sí' peso_mayor_100='no' solo_electricos='no' transmision_preferida=<Transmision.AUTOMATICO: 'automático'> rating_fiabilidad_durabilidad=None rating_seguridad=None rating_comodidad=None rating_impacto_ambiental=None rating_costes_uso=None rating_tecnologia_conectividad=None prioriza_baja_depreciacion='no'\n",
      "Input prefs type: <class 'graph.perfil.state.PerfilUsuario'>\n",
      "DEBUG (Validation Perfil) ► Campo 'rating_fiabilidad_durabilidad' está vacío/None.\n",
      "DEBUG (Preguntar Perfil) ► Perfil aún INCOMPLETO según checker.\n",
      "DEBUG (Preguntar Perfil) ► Pregunta fallback generada: En una escala de 0 (nada importante) a 10 (extremadamente importante), ¿qué tan importante es para ti la Fiabilidad y Durabilidad del coche?\n",
      "DEBUG (Preguntar Perfil) ► Usando mensaje pendiente (pregunta LLM): En una escala de 0 (nada importante) a 10 (extremadamente importante), ¿qué tan importante es para ti la Fiabilidad y Durabilidad del coche?\n",
      "DEBUG (Preguntar Perfil) ► Mensaje final añadido: En una escala de 0 (nada importante) a 10 (extremadamente importante), ¿qué tan importante es para ti la Fiabilidad y Durabilidad del coche?\n",
      "==================================\u001b[1m Ai Message \u001b[0m==================================\n",
      "\n",
      "En una escala de 0 (nada importante) a 10 (extremadamente importante), ¿qué tan importante es para ti la Fiabilidad y Durabilidad del coche?\n"
     ]
    }
   ],
   "source": [
    "# Create a thread\n",
    "config = {\"configurable\": {\"thread_id\": \"1\"}}\n",
    "\n",
    "# Start conversation\n",
    "input_message = HumanMessage(content=\"no\")\n",
    "output = graph.invoke({\"messages\": [input_message]}, config) \n",
    "for m in output['messages'][-1:]:\n",
    "    m.pretty_print()"
   ]
  },
  {
   "cell_type": "code",
   "execution_count": 14,
   "metadata": {},
   "outputs": [
    {
     "name": "stdout",
     "output_type": "stream",
     "text": [
      "--- Ejecutando Nodo: route_based_on_state_node ---\n",
      "\n",
      "--- DEBUG: Evaluating Routing Decision ---\n",
      "--- DEBUG CHECK PERFIL ---\n",
      "Input prefs object: apasionado_motor='no' valora_estetica='no' coche_principal_hogar='sí' uso_profesional='no' tipo_uso_profesional=None prefiere_diseno_exclusivo='no' aventura=<NivelAventura.ocasional: 'ocasional'> transporta_carga_voluminosa='no' necesita_espacio_objetos_especiales=None altura_mayor_190='sí' peso_mayor_100='no' solo_electricos='no' transmision_preferida=<Transmision.AUTOMATICO: 'automático'> rating_fiabilidad_durabilidad=None rating_seguridad=None rating_comodidad=None rating_impacto_ambiental=None rating_costes_uso=None rating_tecnologia_conectividad=None prioriza_baja_depreciacion='no'\n",
      "Input prefs type: <class 'graph.perfil.state.PerfilUsuario'>\n",
      "DEBUG (Validation Perfil) ► Campo 'rating_fiabilidad_durabilidad' está vacío/None.\n",
      "DEBUG Router: Prefs OK? False\n",
      "--- DEBUG CHECK PASAJEROS ---\n",
      "Input info pasajeros: None\n",
      "DEBUG (Validation Pasajeros) ► Objeto InfoPasajeros es None.\n",
      "DEBUG Router: Pasajeros OK? False\n",
      "DEBUG (Validation Filtros) ► Objeto FiltrosInferidos es None.\n",
      "DEBUG Router: Filtros OK? False\n",
      "--- DEBUG CHECK ECONOMIA (Manual) ---\n",
      "Input econ object: None\n",
      "DEBUG (Validation Economía Manual) ► Objeto EconomiaUsuario es None.\n",
      "DEBUG Router: Economía OK? False\n",
      "DEBUG Router: Pesos Calculados? False\n",
      "DEBUG Router: Coches Buscados? False\n",
      "--- DEBUG CHECK PERFIL ---\n",
      "Input prefs object: apasionado_motor='no' valora_estetica='no' coche_principal_hogar='sí' uso_profesional='no' tipo_uso_profesional=None prefiere_diseno_exclusivo='no' aventura=<NivelAventura.ocasional: 'ocasional'> transporta_carga_voluminosa='no' necesita_espacio_objetos_especiales=None altura_mayor_190='sí' peso_mayor_100='no' solo_electricos='no' transmision_preferida=<Transmision.AUTOMATICO: 'automático'> rating_fiabilidad_durabilidad=None rating_seguridad=None rating_comodidad=None rating_impacto_ambiental=None rating_costes_uso=None rating_tecnologia_conectividad=None prioriza_baja_depreciacion='no'\n",
      "Input prefs type: <class 'graph.perfil.state.PerfilUsuario'>\n",
      "DEBUG (Validation Perfil) ► Campo 'rating_fiabilidad_durabilidad' está vacío/None.\n",
      "DEBUG Router: Decisión -> recopilar_preferencias\n",
      "--- Ejecutando Nodo: recopilar_preferencias_node ---\n",
      "DEBUG (Perfil) ► Último mensaje es HumanMessage o historial vacío, llamando a llm_solo_perfil...\n"
     ]
    },
    {
     "name": "stderr",
     "output_type": "stream",
     "text": [
      "INFO (RAG): HTTP Request: POST https://api.openai.com/v1/chat/completions \"HTTP/1.1 200 OK\"\n"
     ]
    },
    {
     "name": "stdout",
     "output_type": "stream",
     "text": [
      "DEBUG (Perfil) ► Respuesta llm_solo_perfil: preferencias_usuario=PerfilUsuario(apasionado_motor='no', valora_estetica='no', coche_principal_hogar='sí', uso_profesional='no', tipo_uso_profesional=None, prefiere_diseno_exclusivo='no', aventura=<NivelAventura.ocasional: 'ocasional'>, transporta_carga_voluminosa='no', necesita_espacio_objetos_especiales=None, altura_mayor_190='sí', peso_mayor_100='no', solo_electricos='no', transmision_preferida=<Transmision.AUTOMATICO: 'automático'>, rating_fiabilidad_durabilidad=8, rating_seguridad=None, rating_comodidad=None, rating_impacto_ambiental=None, rating_costes_uso=None, rating_tecnologia_conectividad=None, prioriza_baja_depreciacion='no') tipo_mensaje='PREGUNTA' contenido_mensaje='Pensando en la Seguridad, ¿qué puntuación le darías en importancia (0-10)?'\n",
      "DEBUG (Perfil) ► Preferencias TRAS post-procesamiento: apasionado_motor='no' valora_estetica='no' coche_principal_hogar='sí' uso_profesional='no' tipo_uso_profesional=None prefiere_diseno_exclusivo='no' aventura=<NivelAventura.ocasional: 'ocasional'> transporta_carga_voluminosa='no' necesita_espacio_objetos_especiales=None altura_mayor_190='sí' peso_mayor_100='no' solo_electricos='no' transmision_preferida=<Transmision.AUTOMATICO: 'automático'> rating_fiabilidad_durabilidad=8 rating_seguridad=None rating_comodidad=None rating_impacto_ambiental=None rating_costes_uso=None rating_tecnologia_conectividad=None prioriza_baja_depreciacion='no'\n",
      "DEBUG (Perfil) ► Estado preferencias_usuario actualizado: apasionado_motor='no' valora_estetica='no' coche_principal_hogar='sí' uso_profesional='no' tipo_uso_profesional=None prefiere_diseno_exclusivo='no' aventura=<NivelAventura.ocasional: 'ocasional'> transporta_carga_voluminosa='no' necesita_espacio_objetos_especiales=None altura_mayor_190='sí' peso_mayor_100='no' solo_electricos='no' transmision_preferida=<Transmision.AUTOMATICO: 'automático'> rating_fiabilidad_durabilidad=8 rating_seguridad=None rating_comodidad=None rating_impacto_ambiental=None rating_costes_uso=None rating_tecnologia_conectividad=None prioriza_baja_depreciacion='no'\n",
      "DEBUG (Perfil) ► Guardando mensaje pendiente: Pensando en la Seguridad, ¿qué puntuación le darías en importancia (0-10)?\n",
      "--- Ejecutando Nodo: validar_preferencias_node ---\n",
      "--- DEBUG CHECK PERFIL ---\n",
      "Input prefs object: apasionado_motor='no' valora_estetica='no' coche_principal_hogar='sí' uso_profesional='no' tipo_uso_profesional=None prefiere_diseno_exclusivo='no' aventura=<NivelAventura.ocasional: 'ocasional'> transporta_carga_voluminosa='no' necesita_espacio_objetos_especiales=None altura_mayor_190='sí' peso_mayor_100='no' solo_electricos='no' transmision_preferida=<Transmision.AUTOMATICO: 'automático'> rating_fiabilidad_durabilidad=8 rating_seguridad=None rating_comodidad=None rating_impacto_ambiental=None rating_costes_uso=None rating_tecnologia_conectividad=None prioriza_baja_depreciacion='no'\n",
      "Input prefs type: <class 'graph.perfil.state.PerfilUsuario'>\n",
      "DEBUG (Validation Perfil) ► Campo 'rating_seguridad' está vacío/None.\n",
      "DEBUG (Perfil) ► Validación: PerfilUsuario considerado INCOMPLETO.\n",
      "--- Evaluando Condición: ruta_decision_perfil ---\n",
      "DEBUG (Condición Perfil) ► Estado 'preferencias_usuario' recibido: apasionado_motor='no' valora_estetica='no' coche_principal_hogar='sí' uso_profesional='no' tipo_uso_profesional=None prefiere_diseno_exclusivo='no' aventura=<NivelAventura.ocasional: 'ocasional'> transporta_carga_voluminosa='no' necesita_espacio_objetos_especiales=None altura_mayor_190='sí' peso_mayor_100='no' solo_electricos='no' transmision_preferida=<Transmision.AUTOMATICO: 'automático'> rating_fiabilidad_durabilidad=8 rating_seguridad=None rating_comodidad=None rating_impacto_ambiental=None rating_costes_uso=None rating_tecnologia_conectividad=None prioriza_baja_depreciacion='no'\n",
      "DEBUG (Condición Perfil) ► Tipo de 'preferencias_usuario': <class 'graph.perfil.state.PerfilUsuario'>\n",
      "--- DEBUG CHECK PERFIL ---\n",
      "Input prefs object: apasionado_motor='no' valora_estetica='no' coche_principal_hogar='sí' uso_profesional='no' tipo_uso_profesional=None prefiere_diseno_exclusivo='no' aventura=<NivelAventura.ocasional: 'ocasional'> transporta_carga_voluminosa='no' necesita_espacio_objetos_especiales=None altura_mayor_190='sí' peso_mayor_100='no' solo_electricos='no' transmision_preferida=<Transmision.AUTOMATICO: 'automático'> rating_fiabilidad_durabilidad=8 rating_seguridad=None rating_comodidad=None rating_impacto_ambiental=None rating_costes_uso=None rating_tecnologia_conectividad=None prioriza_baja_depreciacion='no'\n",
      "Input prefs type: <class 'graph.perfil.state.PerfilUsuario'>\n",
      "DEBUG (Validation Perfil) ► Campo 'rating_seguridad' está vacío/None.\n",
      "DEBUG (Condición Perfil) ► Perfil INCOMPLETO. Se necesita pregunta.\n",
      "--- Ejecutando Nodo: preguntar_preferencias_node ---\n",
      "--- DEBUG CHECK PERFIL ---\n",
      "Input prefs object: apasionado_motor='no' valora_estetica='no' coche_principal_hogar='sí' uso_profesional='no' tipo_uso_profesional=None prefiere_diseno_exclusivo='no' aventura=<NivelAventura.ocasional: 'ocasional'> transporta_carga_voluminosa='no' necesita_espacio_objetos_especiales=None altura_mayor_190='sí' peso_mayor_100='no' solo_electricos='no' transmision_preferida=<Transmision.AUTOMATICO: 'automático'> rating_fiabilidad_durabilidad=8 rating_seguridad=None rating_comodidad=None rating_impacto_ambiental=None rating_costes_uso=None rating_tecnologia_conectividad=None prioriza_baja_depreciacion='no'\n",
      "Input prefs type: <class 'graph.perfil.state.PerfilUsuario'>\n",
      "DEBUG (Validation Perfil) ► Campo 'rating_seguridad' está vacío/None.\n",
      "DEBUG (Preguntar Perfil) ► Perfil aún INCOMPLETO según checker.\n",
      "DEBUG (Preguntar Perfil) ► Pregunta fallback generada: Pensando en la Seguridad, ¿qué puntuación le darías en importancia (0-10)?\n",
      "DEBUG (Preguntar Perfil) ► Usando mensaje pendiente (pregunta LLM): Pensando en la Seguridad, ¿qué puntuación le darías en importancia (0-10)?\n",
      "DEBUG (Preguntar Perfil) ► Mensaje final añadido: Pensando en la Seguridad, ¿qué puntuación le darías en importancia (0-10)?\n",
      "==================================\u001b[1m Ai Message \u001b[0m==================================\n",
      "\n",
      "Pensando en la Seguridad, ¿qué puntuación le darías en importancia (0-10)?\n"
     ]
    }
   ],
   "source": [
    "# Create a thread\n",
    "config = {\"configurable\": {\"thread_id\": \"1\"}}\n",
    "\n",
    "# Start conversation\n",
    "input_message = HumanMessage(content=\"8\")\n",
    "output = graph.invoke({\"messages\": [input_message]}, config) \n",
    "for m in output['messages'][-1:]:\n",
    "    m.pretty_print()"
   ]
  },
  {
   "cell_type": "code",
   "execution_count": 15,
   "metadata": {},
   "outputs": [
    {
     "name": "stdout",
     "output_type": "stream",
     "text": [
      "--- Ejecutando Nodo: route_based_on_state_node ---\n",
      "\n",
      "--- DEBUG: Evaluating Routing Decision ---\n",
      "--- DEBUG CHECK PERFIL ---\n",
      "Input prefs object: apasionado_motor='no' valora_estetica='no' coche_principal_hogar='sí' uso_profesional='no' tipo_uso_profesional=None prefiere_diseno_exclusivo='no' aventura=<NivelAventura.ocasional: 'ocasional'> transporta_carga_voluminosa='no' necesita_espacio_objetos_especiales=None altura_mayor_190='sí' peso_mayor_100='no' solo_electricos='no' transmision_preferida=<Transmision.AUTOMATICO: 'automático'> rating_fiabilidad_durabilidad=8 rating_seguridad=None rating_comodidad=None rating_impacto_ambiental=None rating_costes_uso=None rating_tecnologia_conectividad=None prioriza_baja_depreciacion='no'\n",
      "Input prefs type: <class 'graph.perfil.state.PerfilUsuario'>\n",
      "DEBUG (Validation Perfil) ► Campo 'rating_seguridad' está vacío/None.\n",
      "DEBUG Router: Prefs OK? False\n",
      "--- DEBUG CHECK PASAJEROS ---\n",
      "Input info pasajeros: None\n",
      "DEBUG (Validation Pasajeros) ► Objeto InfoPasajeros es None.\n",
      "DEBUG Router: Pasajeros OK? False\n",
      "DEBUG (Validation Filtros) ► Objeto FiltrosInferidos es None.\n",
      "DEBUG Router: Filtros OK? False\n",
      "--- DEBUG CHECK ECONOMIA (Manual) ---\n",
      "Input econ object: None\n",
      "DEBUG (Validation Economía Manual) ► Objeto EconomiaUsuario es None.\n",
      "DEBUG Router: Economía OK? False\n",
      "DEBUG Router: Pesos Calculados? False\n",
      "DEBUG Router: Coches Buscados? False\n",
      "--- DEBUG CHECK PERFIL ---\n",
      "Input prefs object: apasionado_motor='no' valora_estetica='no' coche_principal_hogar='sí' uso_profesional='no' tipo_uso_profesional=None prefiere_diseno_exclusivo='no' aventura=<NivelAventura.ocasional: 'ocasional'> transporta_carga_voluminosa='no' necesita_espacio_objetos_especiales=None altura_mayor_190='sí' peso_mayor_100='no' solo_electricos='no' transmision_preferida=<Transmision.AUTOMATICO: 'automático'> rating_fiabilidad_durabilidad=8 rating_seguridad=None rating_comodidad=None rating_impacto_ambiental=None rating_costes_uso=None rating_tecnologia_conectividad=None prioriza_baja_depreciacion='no'\n",
      "Input prefs type: <class 'graph.perfil.state.PerfilUsuario'>\n",
      "DEBUG (Validation Perfil) ► Campo 'rating_seguridad' está vacío/None.\n",
      "DEBUG Router: Decisión -> recopilar_preferencias\n",
      "--- Ejecutando Nodo: recopilar_preferencias_node ---\n",
      "DEBUG (Perfil) ► Último mensaje es HumanMessage o historial vacío, llamando a llm_solo_perfil...\n"
     ]
    },
    {
     "name": "stderr",
     "output_type": "stream",
     "text": [
      "INFO (RAG): HTTP Request: POST https://api.openai.com/v1/chat/completions \"HTTP/1.1 200 OK\"\n"
     ]
    },
    {
     "name": "stdout",
     "output_type": "stream",
     "text": [
      "DEBUG (Perfil) ► Respuesta llm_solo_perfil: preferencias_usuario=PerfilUsuario(apasionado_motor='no', valora_estetica='no', coche_principal_hogar='sí', uso_profesional='no', tipo_uso_profesional=None, prefiere_diseno_exclusivo='no', aventura=<NivelAventura.ocasional: 'ocasional'>, transporta_carga_voluminosa='no', necesita_espacio_objetos_especiales=None, altura_mayor_190='sí', peso_mayor_100='no', solo_electricos='no', transmision_preferida=<Transmision.AUTOMATICO: 'automático'>, rating_fiabilidad_durabilidad=8, rating_seguridad=7, rating_comodidad=None, rating_impacto_ambiental=None, rating_costes_uso=None, rating_tecnologia_conectividad=None, prioriza_baja_depreciacion='no') tipo_mensaje='PREGUNTA' contenido_mensaje='Y en cuanto a la Comodidad y confort del vehiculo que tan importante es que se maximice? (0-10)'\n",
      "DEBUG (Perfil) ► Preferencias TRAS post-procesamiento: apasionado_motor='no' valora_estetica='no' coche_principal_hogar='sí' uso_profesional='no' tipo_uso_profesional=None prefiere_diseno_exclusivo='no' aventura=<NivelAventura.ocasional: 'ocasional'> transporta_carga_voluminosa='no' necesita_espacio_objetos_especiales=None altura_mayor_190='sí' peso_mayor_100='no' solo_electricos='no' transmision_preferida=<Transmision.AUTOMATICO: 'automático'> rating_fiabilidad_durabilidad=8 rating_seguridad=7 rating_comodidad=None rating_impacto_ambiental=None rating_costes_uso=None rating_tecnologia_conectividad=None prioriza_baja_depreciacion='no'\n",
      "DEBUG (Perfil) ► Estado preferencias_usuario actualizado: apasionado_motor='no' valora_estetica='no' coche_principal_hogar='sí' uso_profesional='no' tipo_uso_profesional=None prefiere_diseno_exclusivo='no' aventura=<NivelAventura.ocasional: 'ocasional'> transporta_carga_voluminosa='no' necesita_espacio_objetos_especiales=None altura_mayor_190='sí' peso_mayor_100='no' solo_electricos='no' transmision_preferida=<Transmision.AUTOMATICO: 'automático'> rating_fiabilidad_durabilidad=8 rating_seguridad=7 rating_comodidad=None rating_impacto_ambiental=None rating_costes_uso=None rating_tecnologia_conectividad=None prioriza_baja_depreciacion='no'\n",
      "DEBUG (Perfil) ► Guardando mensaje pendiente: Y en cuanto a la Comodidad y confort del vehiculo que tan importante es que se maximice? (0-10)\n",
      "--- Ejecutando Nodo: validar_preferencias_node ---\n",
      "--- DEBUG CHECK PERFIL ---\n",
      "Input prefs object: apasionado_motor='no' valora_estetica='no' coche_principal_hogar='sí' uso_profesional='no' tipo_uso_profesional=None prefiere_diseno_exclusivo='no' aventura=<NivelAventura.ocasional: 'ocasional'> transporta_carga_voluminosa='no' necesita_espacio_objetos_especiales=None altura_mayor_190='sí' peso_mayor_100='no' solo_electricos='no' transmision_preferida=<Transmision.AUTOMATICO: 'automático'> rating_fiabilidad_durabilidad=8 rating_seguridad=7 rating_comodidad=None rating_impacto_ambiental=None rating_costes_uso=None rating_tecnologia_conectividad=None prioriza_baja_depreciacion='no'\n",
      "Input prefs type: <class 'graph.perfil.state.PerfilUsuario'>\n",
      "DEBUG (Validation Perfil) ► Campo 'rating_comodidad' está vacío/None.\n",
      "DEBUG (Perfil) ► Validación: PerfilUsuario considerado INCOMPLETO.\n",
      "--- Evaluando Condición: ruta_decision_perfil ---\n",
      "DEBUG (Condición Perfil) ► Estado 'preferencias_usuario' recibido: apasionado_motor='no' valora_estetica='no' coche_principal_hogar='sí' uso_profesional='no' tipo_uso_profesional=None prefiere_diseno_exclusivo='no' aventura=<NivelAventura.ocasional: 'ocasional'> transporta_carga_voluminosa='no' necesita_espacio_objetos_especiales=None altura_mayor_190='sí' peso_mayor_100='no' solo_electricos='no' transmision_preferida=<Transmision.AUTOMATICO: 'automático'> rating_fiabilidad_durabilidad=8 rating_seguridad=7 rating_comodidad=None rating_impacto_ambiental=None rating_costes_uso=None rating_tecnologia_conectividad=None prioriza_baja_depreciacion='no'\n",
      "DEBUG (Condición Perfil) ► Tipo de 'preferencias_usuario': <class 'graph.perfil.state.PerfilUsuario'>\n",
      "--- DEBUG CHECK PERFIL ---\n",
      "Input prefs object: apasionado_motor='no' valora_estetica='no' coche_principal_hogar='sí' uso_profesional='no' tipo_uso_profesional=None prefiere_diseno_exclusivo='no' aventura=<NivelAventura.ocasional: 'ocasional'> transporta_carga_voluminosa='no' necesita_espacio_objetos_especiales=None altura_mayor_190='sí' peso_mayor_100='no' solo_electricos='no' transmision_preferida=<Transmision.AUTOMATICO: 'automático'> rating_fiabilidad_durabilidad=8 rating_seguridad=7 rating_comodidad=None rating_impacto_ambiental=None rating_costes_uso=None rating_tecnologia_conectividad=None prioriza_baja_depreciacion='no'\n",
      "Input prefs type: <class 'graph.perfil.state.PerfilUsuario'>\n",
      "DEBUG (Validation Perfil) ► Campo 'rating_comodidad' está vacío/None.\n",
      "DEBUG (Condición Perfil) ► Perfil INCOMPLETO. Se necesita pregunta.\n",
      "--- Ejecutando Nodo: preguntar_preferencias_node ---\n",
      "--- DEBUG CHECK PERFIL ---\n",
      "Input prefs object: apasionado_motor='no' valora_estetica='no' coche_principal_hogar='sí' uso_profesional='no' tipo_uso_profesional=None prefiere_diseno_exclusivo='no' aventura=<NivelAventura.ocasional: 'ocasional'> transporta_carga_voluminosa='no' necesita_espacio_objetos_especiales=None altura_mayor_190='sí' peso_mayor_100='no' solo_electricos='no' transmision_preferida=<Transmision.AUTOMATICO: 'automático'> rating_fiabilidad_durabilidad=8 rating_seguridad=7 rating_comodidad=None rating_impacto_ambiental=None rating_costes_uso=None rating_tecnologia_conectividad=None prioriza_baja_depreciacion='no'\n",
      "Input prefs type: <class 'graph.perfil.state.PerfilUsuario'>\n",
      "DEBUG (Validation Perfil) ► Campo 'rating_comodidad' está vacío/None.\n",
      "DEBUG (Preguntar Perfil) ► Perfil aún INCOMPLETO según checker.\n",
      "DEBUG (Preguntar Perfil) ► Pregunta fallback generada: Y en cuanto a la comodidad y confort del vehiculo que tan importante es que se maximice? (0-10)\n",
      "DEBUG (Preguntar Perfil) ► Usando mensaje pendiente (pregunta LLM): Y en cuanto a la Comodidad y confort del vehiculo que tan importante es que se maximice? (0-10)\n",
      "DEBUG (Preguntar Perfil) ► Mensaje final añadido: Y en cuanto a la Comodidad y confort del vehiculo que tan importante es que se maximice? (0-10)\n",
      "==================================\u001b[1m Ai Message \u001b[0m==================================\n",
      "\n",
      "Y en cuanto a la Comodidad y confort del vehiculo que tan importante es que se maximice? (0-10)\n"
     ]
    }
   ],
   "source": [
    "# Create a thread\n",
    "config = {\"configurable\": {\"thread_id\": \"1\"}}\n",
    "\n",
    "# Start conversation\n",
    "input_message = HumanMessage(content=\"7\")\n",
    "output = graph.invoke({\"messages\": [input_message]}, config) \n",
    "for m in output['messages'][-1:]:\n",
    "    m.pretty_print()"
   ]
  },
  {
   "cell_type": "code",
   "execution_count": 16,
   "metadata": {},
   "outputs": [
    {
     "name": "stdout",
     "output_type": "stream",
     "text": [
      "--- Ejecutando Nodo: route_based_on_state_node ---\n",
      "\n",
      "--- DEBUG: Evaluating Routing Decision ---\n",
      "--- DEBUG CHECK PERFIL ---\n",
      "Input prefs object: apasionado_motor='no' valora_estetica='no' coche_principal_hogar='sí' uso_profesional='no' tipo_uso_profesional=None prefiere_diseno_exclusivo='no' aventura=<NivelAventura.ocasional: 'ocasional'> transporta_carga_voluminosa='no' necesita_espacio_objetos_especiales=None altura_mayor_190='sí' peso_mayor_100='no' solo_electricos='no' transmision_preferida=<Transmision.AUTOMATICO: 'automático'> rating_fiabilidad_durabilidad=8 rating_seguridad=7 rating_comodidad=None rating_impacto_ambiental=None rating_costes_uso=None rating_tecnologia_conectividad=None prioriza_baja_depreciacion='no'\n",
      "Input prefs type: <class 'graph.perfil.state.PerfilUsuario'>\n",
      "DEBUG (Validation Perfil) ► Campo 'rating_comodidad' está vacío/None.\n",
      "DEBUG Router: Prefs OK? False\n",
      "--- DEBUG CHECK PASAJEROS ---\n",
      "Input info pasajeros: None\n",
      "DEBUG (Validation Pasajeros) ► Objeto InfoPasajeros es None.\n",
      "DEBUG Router: Pasajeros OK? False\n",
      "DEBUG (Validation Filtros) ► Objeto FiltrosInferidos es None.\n",
      "DEBUG Router: Filtros OK? False\n",
      "--- DEBUG CHECK ECONOMIA (Manual) ---\n",
      "Input econ object: None\n",
      "DEBUG (Validation Economía Manual) ► Objeto EconomiaUsuario es None.\n",
      "DEBUG Router: Economía OK? False\n",
      "DEBUG Router: Pesos Calculados? False\n",
      "DEBUG Router: Coches Buscados? False\n",
      "--- DEBUG CHECK PERFIL ---\n",
      "Input prefs object: apasionado_motor='no' valora_estetica='no' coche_principal_hogar='sí' uso_profesional='no' tipo_uso_profesional=None prefiere_diseno_exclusivo='no' aventura=<NivelAventura.ocasional: 'ocasional'> transporta_carga_voluminosa='no' necesita_espacio_objetos_especiales=None altura_mayor_190='sí' peso_mayor_100='no' solo_electricos='no' transmision_preferida=<Transmision.AUTOMATICO: 'automático'> rating_fiabilidad_durabilidad=8 rating_seguridad=7 rating_comodidad=None rating_impacto_ambiental=None rating_costes_uso=None rating_tecnologia_conectividad=None prioriza_baja_depreciacion='no'\n",
      "Input prefs type: <class 'graph.perfil.state.PerfilUsuario'>\n",
      "DEBUG (Validation Perfil) ► Campo 'rating_comodidad' está vacío/None.\n",
      "DEBUG Router: Decisión -> recopilar_preferencias\n",
      "--- Ejecutando Nodo: recopilar_preferencias_node ---\n",
      "DEBUG (Perfil) ► Último mensaje es HumanMessage o historial vacío, llamando a llm_solo_perfil...\n"
     ]
    },
    {
     "name": "stderr",
     "output_type": "stream",
     "text": [
      "INFO (RAG): HTTP Request: POST https://api.openai.com/v1/chat/completions \"HTTP/1.1 200 OK\"\n"
     ]
    },
    {
     "name": "stdout",
     "output_type": "stream",
     "text": [
      "DEBUG (Perfil) ► Respuesta llm_solo_perfil: preferencias_usuario=PerfilUsuario(apasionado_motor='no', valora_estetica='no', coche_principal_hogar='sí', uso_profesional='no', tipo_uso_profesional=None, prefiere_diseno_exclusivo='no', aventura=<NivelAventura.ocasional: 'ocasional'>, transporta_carga_voluminosa='no', necesita_espacio_objetos_especiales=None, altura_mayor_190='sí', peso_mayor_100='no', solo_electricos='no', transmision_preferida=<Transmision.AUTOMATICO: 'automático'>, rating_fiabilidad_durabilidad=8, rating_seguridad=7, rating_comodidad=6, rating_impacto_ambiental=None, rating_costes_uso=None, rating_tecnologia_conectividad=None, prioriza_baja_depreciacion='no') tipo_mensaje='PREGUNTA' contenido_mensaje='Considerando el Bajo Impacto Medioambiental, ¿qué importancia tiene esto para tu elección (0-10)?'\n",
      "DEBUG (Perfil) ► Preferencias TRAS post-procesamiento: apasionado_motor='no' valora_estetica='no' coche_principal_hogar='sí' uso_profesional='no' tipo_uso_profesional=None prefiere_diseno_exclusivo='no' aventura=<NivelAventura.ocasional: 'ocasional'> transporta_carga_voluminosa='no' necesita_espacio_objetos_especiales=None altura_mayor_190='sí' peso_mayor_100='no' solo_electricos='no' transmision_preferida=<Transmision.AUTOMATICO: 'automático'> rating_fiabilidad_durabilidad=8 rating_seguridad=7 rating_comodidad=6 rating_impacto_ambiental=None rating_costes_uso=None rating_tecnologia_conectividad=None prioriza_baja_depreciacion='no'\n",
      "DEBUG (Perfil) ► Estado preferencias_usuario actualizado: apasionado_motor='no' valora_estetica='no' coche_principal_hogar='sí' uso_profesional='no' tipo_uso_profesional=None prefiere_diseno_exclusivo='no' aventura=<NivelAventura.ocasional: 'ocasional'> transporta_carga_voluminosa='no' necesita_espacio_objetos_especiales=None altura_mayor_190='sí' peso_mayor_100='no' solo_electricos='no' transmision_preferida=<Transmision.AUTOMATICO: 'automático'> rating_fiabilidad_durabilidad=8 rating_seguridad=7 rating_comodidad=6 rating_impacto_ambiental=None rating_costes_uso=None rating_tecnologia_conectividad=None prioriza_baja_depreciacion='no'\n",
      "DEBUG (Perfil) ► Guardando mensaje pendiente: Considerando el Bajo Impacto Medioambiental, ¿qué importancia tiene esto para tu elección (0-10)?\n",
      "--- Ejecutando Nodo: validar_preferencias_node ---\n",
      "--- DEBUG CHECK PERFIL ---\n",
      "Input prefs object: apasionado_motor='no' valora_estetica='no' coche_principal_hogar='sí' uso_profesional='no' tipo_uso_profesional=None prefiere_diseno_exclusivo='no' aventura=<NivelAventura.ocasional: 'ocasional'> transporta_carga_voluminosa='no' necesita_espacio_objetos_especiales=None altura_mayor_190='sí' peso_mayor_100='no' solo_electricos='no' transmision_preferida=<Transmision.AUTOMATICO: 'automático'> rating_fiabilidad_durabilidad=8 rating_seguridad=7 rating_comodidad=6 rating_impacto_ambiental=None rating_costes_uso=None rating_tecnologia_conectividad=None prioriza_baja_depreciacion='no'\n",
      "Input prefs type: <class 'graph.perfil.state.PerfilUsuario'>\n",
      "DEBUG (Validation Perfil) ► Campo 'rating_impacto_ambiental' está vacío/None.\n",
      "DEBUG (Perfil) ► Validación: PerfilUsuario considerado INCOMPLETO.\n",
      "--- Evaluando Condición: ruta_decision_perfil ---\n",
      "DEBUG (Condición Perfil) ► Estado 'preferencias_usuario' recibido: apasionado_motor='no' valora_estetica='no' coche_principal_hogar='sí' uso_profesional='no' tipo_uso_profesional=None prefiere_diseno_exclusivo='no' aventura=<NivelAventura.ocasional: 'ocasional'> transporta_carga_voluminosa='no' necesita_espacio_objetos_especiales=None altura_mayor_190='sí' peso_mayor_100='no' solo_electricos='no' transmision_preferida=<Transmision.AUTOMATICO: 'automático'> rating_fiabilidad_durabilidad=8 rating_seguridad=7 rating_comodidad=6 rating_impacto_ambiental=None rating_costes_uso=None rating_tecnologia_conectividad=None prioriza_baja_depreciacion='no'\n",
      "DEBUG (Condición Perfil) ► Tipo de 'preferencias_usuario': <class 'graph.perfil.state.PerfilUsuario'>\n",
      "--- DEBUG CHECK PERFIL ---\n",
      "Input prefs object: apasionado_motor='no' valora_estetica='no' coche_principal_hogar='sí' uso_profesional='no' tipo_uso_profesional=None prefiere_diseno_exclusivo='no' aventura=<NivelAventura.ocasional: 'ocasional'> transporta_carga_voluminosa='no' necesita_espacio_objetos_especiales=None altura_mayor_190='sí' peso_mayor_100='no' solo_electricos='no' transmision_preferida=<Transmision.AUTOMATICO: 'automático'> rating_fiabilidad_durabilidad=8 rating_seguridad=7 rating_comodidad=6 rating_impacto_ambiental=None rating_costes_uso=None rating_tecnologia_conectividad=None prioriza_baja_depreciacion='no'\n",
      "Input prefs type: <class 'graph.perfil.state.PerfilUsuario'>\n",
      "DEBUG (Validation Perfil) ► Campo 'rating_impacto_ambiental' está vacío/None.\n",
      "DEBUG (Condición Perfil) ► Perfil INCOMPLETO. Se necesita pregunta.\n",
      "--- Ejecutando Nodo: preguntar_preferencias_node ---\n",
      "--- DEBUG CHECK PERFIL ---\n",
      "Input prefs object: apasionado_motor='no' valora_estetica='no' coche_principal_hogar='sí' uso_profesional='no' tipo_uso_profesional=None prefiere_diseno_exclusivo='no' aventura=<NivelAventura.ocasional: 'ocasional'> transporta_carga_voluminosa='no' necesita_espacio_objetos_especiales=None altura_mayor_190='sí' peso_mayor_100='no' solo_electricos='no' transmision_preferida=<Transmision.AUTOMATICO: 'automático'> rating_fiabilidad_durabilidad=8 rating_seguridad=7 rating_comodidad=6 rating_impacto_ambiental=None rating_costes_uso=None rating_tecnologia_conectividad=None prioriza_baja_depreciacion='no'\n",
      "Input prefs type: <class 'graph.perfil.state.PerfilUsuario'>\n",
      "DEBUG (Validation Perfil) ► Campo 'rating_impacto_ambiental' está vacío/None.\n",
      "DEBUG (Preguntar Perfil) ► Perfil aún INCOMPLETO según checker.\n",
      "DEBUG (Preguntar Perfil) ► Pregunta fallback generada: Considerando el Bajo Impacto Medioambiental, ¿qué importancia tiene esto para tu elección (0-10)?\n",
      "DEBUG (Preguntar Perfil) ► Usando mensaje pendiente (pregunta LLM): Considerando el Bajo Impacto Medioambiental, ¿qué importancia tiene esto para tu elección (0-10)?\n",
      "DEBUG (Preguntar Perfil) ► Mensaje final añadido: Considerando el Bajo Impacto Medioambiental, ¿qué importancia tiene esto para tu elección (0-10)?\n",
      "==================================\u001b[1m Ai Message \u001b[0m==================================\n",
      "\n",
      "Considerando el Bajo Impacto Medioambiental, ¿qué importancia tiene esto para tu elección (0-10)?\n"
     ]
    }
   ],
   "source": [
    "# Create a thread\n",
    "config = {\"configurable\": {\"thread_id\": \"1\"}}\n",
    "\n",
    "# Start conversation\n",
    "input_message = HumanMessage(content=\"6\")\n",
    "output = graph.invoke({\"messages\": [input_message]}, config) \n",
    "for m in output['messages'][-1:]:\n",
    "    m.pretty_print()"
   ]
  },
  {
   "cell_type": "code",
   "execution_count": 17,
   "metadata": {},
   "outputs": [
    {
     "name": "stdout",
     "output_type": "stream",
     "text": [
      "--- Ejecutando Nodo: route_based_on_state_node ---\n",
      "\n",
      "--- DEBUG: Evaluating Routing Decision ---\n",
      "--- DEBUG CHECK PERFIL ---\n",
      "Input prefs object: apasionado_motor='no' valora_estetica='no' coche_principal_hogar='sí' uso_profesional='no' tipo_uso_profesional=None prefiere_diseno_exclusivo='no' aventura=<NivelAventura.ocasional: 'ocasional'> transporta_carga_voluminosa='no' necesita_espacio_objetos_especiales=None altura_mayor_190='sí' peso_mayor_100='no' solo_electricos='no' transmision_preferida=<Transmision.AUTOMATICO: 'automático'> rating_fiabilidad_durabilidad=8 rating_seguridad=7 rating_comodidad=6 rating_impacto_ambiental=None rating_costes_uso=None rating_tecnologia_conectividad=None prioriza_baja_depreciacion='no'\n",
      "Input prefs type: <class 'graph.perfil.state.PerfilUsuario'>\n",
      "DEBUG (Validation Perfil) ► Campo 'rating_impacto_ambiental' está vacío/None.\n",
      "DEBUG Router: Prefs OK? False\n",
      "--- DEBUG CHECK PASAJEROS ---\n",
      "Input info pasajeros: None\n",
      "DEBUG (Validation Pasajeros) ► Objeto InfoPasajeros es None.\n",
      "DEBUG Router: Pasajeros OK? False\n",
      "DEBUG (Validation Filtros) ► Objeto FiltrosInferidos es None.\n",
      "DEBUG Router: Filtros OK? False\n",
      "--- DEBUG CHECK ECONOMIA (Manual) ---\n",
      "Input econ object: None\n",
      "DEBUG (Validation Economía Manual) ► Objeto EconomiaUsuario es None.\n",
      "DEBUG Router: Economía OK? False\n",
      "DEBUG Router: Pesos Calculados? False\n",
      "DEBUG Router: Coches Buscados? False\n",
      "--- DEBUG CHECK PERFIL ---\n",
      "Input prefs object: apasionado_motor='no' valora_estetica='no' coche_principal_hogar='sí' uso_profesional='no' tipo_uso_profesional=None prefiere_diseno_exclusivo='no' aventura=<NivelAventura.ocasional: 'ocasional'> transporta_carga_voluminosa='no' necesita_espacio_objetos_especiales=None altura_mayor_190='sí' peso_mayor_100='no' solo_electricos='no' transmision_preferida=<Transmision.AUTOMATICO: 'automático'> rating_fiabilidad_durabilidad=8 rating_seguridad=7 rating_comodidad=6 rating_impacto_ambiental=None rating_costes_uso=None rating_tecnologia_conectividad=None prioriza_baja_depreciacion='no'\n",
      "Input prefs type: <class 'graph.perfil.state.PerfilUsuario'>\n",
      "DEBUG (Validation Perfil) ► Campo 'rating_impacto_ambiental' está vacío/None.\n",
      "DEBUG Router: Decisión -> recopilar_preferencias\n",
      "--- Ejecutando Nodo: recopilar_preferencias_node ---\n",
      "DEBUG (Perfil) ► Último mensaje es HumanMessage o historial vacío, llamando a llm_solo_perfil...\n"
     ]
    },
    {
     "name": "stderr",
     "output_type": "stream",
     "text": [
      "INFO (RAG): HTTP Request: POST https://api.openai.com/v1/chat/completions \"HTTP/1.1 200 OK\"\n"
     ]
    },
    {
     "name": "stdout",
     "output_type": "stream",
     "text": [
      "DEBUG (Perfil) ► Respuesta llm_solo_perfil: preferencias_usuario=PerfilUsuario(apasionado_motor='no', valora_estetica='no', coche_principal_hogar='sí', uso_profesional='no', tipo_uso_profesional=None, prefiere_diseno_exclusivo='no', aventura=<NivelAventura.ocasional: 'ocasional'>, transporta_carga_voluminosa='no', necesita_espacio_objetos_especiales=None, altura_mayor_190='sí', peso_mayor_100='no', solo_electricos='no', transmision_preferida=<Transmision.AUTOMATICO: 'automático'>, rating_fiabilidad_durabilidad=8, rating_seguridad=7, rating_comodidad=6, rating_impacto_ambiental=6, rating_costes_uso=None, rating_tecnologia_conectividad=None, prioriza_baja_depreciacion='no') tipo_mensaje='PREGUNTA' contenido_mensaje='Finalmente, para la Tecnología y Conectividad del coche, ¿qué tan relevante es para ti (0-10)?'\n",
      "DEBUG (Perfil) ► Preferencias TRAS post-procesamiento: apasionado_motor='no' valora_estetica='no' coche_principal_hogar='sí' uso_profesional='no' tipo_uso_profesional=None prefiere_diseno_exclusivo='no' aventura=<NivelAventura.ocasional: 'ocasional'> transporta_carga_voluminosa='no' necesita_espacio_objetos_especiales=None altura_mayor_190='sí' peso_mayor_100='no' solo_electricos='no' transmision_preferida=<Transmision.AUTOMATICO: 'automático'> rating_fiabilidad_durabilidad=8 rating_seguridad=7 rating_comodidad=6 rating_impacto_ambiental=6 rating_costes_uso=None rating_tecnologia_conectividad=None prioriza_baja_depreciacion='no'\n",
      "DEBUG (Perfil) ► Estado preferencias_usuario actualizado: apasionado_motor='no' valora_estetica='no' coche_principal_hogar='sí' uso_profesional='no' tipo_uso_profesional=None prefiere_diseno_exclusivo='no' aventura=<NivelAventura.ocasional: 'ocasional'> transporta_carga_voluminosa='no' necesita_espacio_objetos_especiales=None altura_mayor_190='sí' peso_mayor_100='no' solo_electricos='no' transmision_preferida=<Transmision.AUTOMATICO: 'automático'> rating_fiabilidad_durabilidad=8 rating_seguridad=7 rating_comodidad=6 rating_impacto_ambiental=6 rating_costes_uso=None rating_tecnologia_conectividad=None prioriza_baja_depreciacion='no'\n",
      "DEBUG (Perfil) ► Guardando mensaje pendiente: Finalmente, para la Tecnología y Conectividad del coche, ¿qué tan relevante es para ti (0-10)?\n",
      "--- Ejecutando Nodo: validar_preferencias_node ---\n",
      "--- DEBUG CHECK PERFIL ---\n",
      "Input prefs object: apasionado_motor='no' valora_estetica='no' coche_principal_hogar='sí' uso_profesional='no' tipo_uso_profesional=None prefiere_diseno_exclusivo='no' aventura=<NivelAventura.ocasional: 'ocasional'> transporta_carga_voluminosa='no' necesita_espacio_objetos_especiales=None altura_mayor_190='sí' peso_mayor_100='no' solo_electricos='no' transmision_preferida=<Transmision.AUTOMATICO: 'automático'> rating_fiabilidad_durabilidad=8 rating_seguridad=7 rating_comodidad=6 rating_impacto_ambiental=6 rating_costes_uso=None rating_tecnologia_conectividad=None prioriza_baja_depreciacion='no'\n",
      "Input prefs type: <class 'graph.perfil.state.PerfilUsuario'>\n",
      "DEBUG (Validation Perfil) ► Campo 'rating_costes_uso' está vacío/None.\n",
      "DEBUG (Perfil) ► Validación: PerfilUsuario considerado INCOMPLETO.\n",
      "--- Evaluando Condición: ruta_decision_perfil ---\n",
      "DEBUG (Condición Perfil) ► Estado 'preferencias_usuario' recibido: apasionado_motor='no' valora_estetica='no' coche_principal_hogar='sí' uso_profesional='no' tipo_uso_profesional=None prefiere_diseno_exclusivo='no' aventura=<NivelAventura.ocasional: 'ocasional'> transporta_carga_voluminosa='no' necesita_espacio_objetos_especiales=None altura_mayor_190='sí' peso_mayor_100='no' solo_electricos='no' transmision_preferida=<Transmision.AUTOMATICO: 'automático'> rating_fiabilidad_durabilidad=8 rating_seguridad=7 rating_comodidad=6 rating_impacto_ambiental=6 rating_costes_uso=None rating_tecnologia_conectividad=None prioriza_baja_depreciacion='no'\n",
      "DEBUG (Condición Perfil) ► Tipo de 'preferencias_usuario': <class 'graph.perfil.state.PerfilUsuario'>\n",
      "--- DEBUG CHECK PERFIL ---\n",
      "Input prefs object: apasionado_motor='no' valora_estetica='no' coche_principal_hogar='sí' uso_profesional='no' tipo_uso_profesional=None prefiere_diseno_exclusivo='no' aventura=<NivelAventura.ocasional: 'ocasional'> transporta_carga_voluminosa='no' necesita_espacio_objetos_especiales=None altura_mayor_190='sí' peso_mayor_100='no' solo_electricos='no' transmision_preferida=<Transmision.AUTOMATICO: 'automático'> rating_fiabilidad_durabilidad=8 rating_seguridad=7 rating_comodidad=6 rating_impacto_ambiental=6 rating_costes_uso=None rating_tecnologia_conectividad=None prioriza_baja_depreciacion='no'\n",
      "Input prefs type: <class 'graph.perfil.state.PerfilUsuario'>\n",
      "DEBUG (Validation Perfil) ► Campo 'rating_costes_uso' está vacío/None.\n",
      "DEBUG (Condición Perfil) ► Perfil INCOMPLETO. Se necesita pregunta.\n",
      "--- Ejecutando Nodo: preguntar_preferencias_node ---\n",
      "--- DEBUG CHECK PERFIL ---\n",
      "Input prefs object: apasionado_motor='no' valora_estetica='no' coche_principal_hogar='sí' uso_profesional='no' tipo_uso_profesional=None prefiere_diseno_exclusivo='no' aventura=<NivelAventura.ocasional: 'ocasional'> transporta_carga_voluminosa='no' necesita_espacio_objetos_especiales=None altura_mayor_190='sí' peso_mayor_100='no' solo_electricos='no' transmision_preferida=<Transmision.AUTOMATICO: 'automático'> rating_fiabilidad_durabilidad=8 rating_seguridad=7 rating_comodidad=6 rating_impacto_ambiental=6 rating_costes_uso=None rating_tecnologia_conectividad=None prioriza_baja_depreciacion='no'\n",
      "Input prefs type: <class 'graph.perfil.state.PerfilUsuario'>\n",
      "DEBUG (Validation Perfil) ► Campo 'rating_costes_uso' está vacío/None.\n",
      "DEBUG (Preguntar Perfil) ► Perfil aún INCOMPLETO según checker.\n",
      "DEBUG (Preguntar Perfil) ► Pregunta fallback generada: ahora, ¿qué tan importante es para ti que el vehículo sea económico en su uso diario y mantenimiento? (0-10)?\n",
      "DEBUG (Preguntar Perfil) ► Usando mensaje pendiente (pregunta LLM): Finalmente, para la Tecnología y Conectividad del coche, ¿qué tan relevante es para ti (0-10)?\n",
      "DEBUG (Preguntar Perfil) ► Mensaje final añadido: Finalmente, para la Tecnología y Conectividad del coche, ¿qué tan relevante es para ti (0-10)?\n",
      "==================================\u001b[1m Ai Message \u001b[0m==================================\n",
      "\n",
      "Finalmente, para la Tecnología y Conectividad del coche, ¿qué tan relevante es para ti (0-10)?\n"
     ]
    }
   ],
   "source": [
    "# Create a thread\n",
    "config = {\"configurable\": {\"thread_id\": \"1\"}}\n",
    "\n",
    "# Start conversation\n",
    "input_message = HumanMessage(content=\"6\")\n",
    "output = graph.invoke({\"messages\": [input_message]}, config) \n",
    "for m in output['messages'][-1:]:\n",
    "    m.pretty_print()"
   ]
  },
  {
   "cell_type": "code",
   "execution_count": 18,
   "metadata": {},
   "outputs": [
    {
     "name": "stdout",
     "output_type": "stream",
     "text": [
      "--- Ejecutando Nodo: route_based_on_state_node ---\n",
      "\n",
      "--- DEBUG: Evaluating Routing Decision ---\n",
      "--- DEBUG CHECK PERFIL ---\n",
      "Input prefs object: apasionado_motor='no' valora_estetica='no' coche_principal_hogar='sí' uso_profesional='no' tipo_uso_profesional=None prefiere_diseno_exclusivo='no' aventura=<NivelAventura.ocasional: 'ocasional'> transporta_carga_voluminosa='no' necesita_espacio_objetos_especiales=None altura_mayor_190='sí' peso_mayor_100='no' solo_electricos='no' transmision_preferida=<Transmision.AUTOMATICO: 'automático'> rating_fiabilidad_durabilidad=8 rating_seguridad=7 rating_comodidad=6 rating_impacto_ambiental=6 rating_costes_uso=None rating_tecnologia_conectividad=None prioriza_baja_depreciacion='no'\n",
      "Input prefs type: <class 'graph.perfil.state.PerfilUsuario'>\n",
      "DEBUG (Validation Perfil) ► Campo 'rating_costes_uso' está vacío/None.\n",
      "DEBUG Router: Prefs OK? False\n",
      "--- DEBUG CHECK PASAJEROS ---\n",
      "Input info pasajeros: None\n",
      "DEBUG (Validation Pasajeros) ► Objeto InfoPasajeros es None.\n",
      "DEBUG Router: Pasajeros OK? False\n",
      "DEBUG (Validation Filtros) ► Objeto FiltrosInferidos es None.\n",
      "DEBUG Router: Filtros OK? False\n",
      "--- DEBUG CHECK ECONOMIA (Manual) ---\n",
      "Input econ object: None\n",
      "DEBUG (Validation Economía Manual) ► Objeto EconomiaUsuario es None.\n",
      "DEBUG Router: Economía OK? False\n",
      "DEBUG Router: Pesos Calculados? False\n",
      "DEBUG Router: Coches Buscados? False\n",
      "--- DEBUG CHECK PERFIL ---\n",
      "Input prefs object: apasionado_motor='no' valora_estetica='no' coche_principal_hogar='sí' uso_profesional='no' tipo_uso_profesional=None prefiere_diseno_exclusivo='no' aventura=<NivelAventura.ocasional: 'ocasional'> transporta_carga_voluminosa='no' necesita_espacio_objetos_especiales=None altura_mayor_190='sí' peso_mayor_100='no' solo_electricos='no' transmision_preferida=<Transmision.AUTOMATICO: 'automático'> rating_fiabilidad_durabilidad=8 rating_seguridad=7 rating_comodidad=6 rating_impacto_ambiental=6 rating_costes_uso=None rating_tecnologia_conectividad=None prioriza_baja_depreciacion='no'\n",
      "Input prefs type: <class 'graph.perfil.state.PerfilUsuario'>\n",
      "DEBUG (Validation Perfil) ► Campo 'rating_costes_uso' está vacío/None.\n",
      "DEBUG Router: Decisión -> recopilar_preferencias\n",
      "--- Ejecutando Nodo: recopilar_preferencias_node ---\n",
      "DEBUG (Perfil) ► Último mensaje es HumanMessage o historial vacío, llamando a llm_solo_perfil...\n"
     ]
    },
    {
     "name": "stderr",
     "output_type": "stream",
     "text": [
      "INFO (RAG): HTTP Request: POST https://api.openai.com/v1/chat/completions \"HTTP/1.1 200 OK\"\n"
     ]
    },
    {
     "name": "stdout",
     "output_type": "stream",
     "text": [
      "DEBUG (Perfil) ► Respuesta llm_solo_perfil: preferencias_usuario=PerfilUsuario(apasionado_motor='no', valora_estetica='no', coche_principal_hogar='sí', uso_profesional='no', tipo_uso_profesional=None, prefiere_diseno_exclusivo='no', aventura=<NivelAventura.ocasional: 'ocasional'>, transporta_carga_voluminosa='no', necesita_espacio_objetos_especiales=None, altura_mayor_190='sí', peso_mayor_100='no', solo_electricos='no', transmision_preferida=<Transmision.AUTOMATICO: 'automático'>, rating_fiabilidad_durabilidad=8, rating_seguridad=7, rating_comodidad=6, rating_impacto_ambiental=6, rating_costes_uso=None, rating_tecnologia_conectividad=9, prioriza_baja_depreciacion='no') tipo_mensaje='CONFIRMACION' contenido_mensaje=''\n",
      "DEBUG (Perfil) ► Preferencias TRAS post-procesamiento: apasionado_motor='no' valora_estetica='no' coche_principal_hogar='sí' uso_profesional='no' tipo_uso_profesional=None prefiere_diseno_exclusivo='no' aventura=<NivelAventura.ocasional: 'ocasional'> transporta_carga_voluminosa='no' necesita_espacio_objetos_especiales=None altura_mayor_190='sí' peso_mayor_100='no' solo_electricos='no' transmision_preferida=<Transmision.AUTOMATICO: 'automático'> rating_fiabilidad_durabilidad=8 rating_seguridad=7 rating_comodidad=6 rating_impacto_ambiental=6 rating_costes_uso=None rating_tecnologia_conectividad=9 prioriza_baja_depreciacion='no'\n",
      "DEBUG (Perfil) ► Estado preferencias_usuario actualizado: apasionado_motor='no' valora_estetica='no' coche_principal_hogar='sí' uso_profesional='no' tipo_uso_profesional=None prefiere_diseno_exclusivo='no' aventura=<NivelAventura.ocasional: 'ocasional'> transporta_carga_voluminosa='no' necesita_espacio_objetos_especiales=None altura_mayor_190='sí' peso_mayor_100='no' solo_electricos='no' transmision_preferida=<Transmision.AUTOMATICO: 'automático'> rating_fiabilidad_durabilidad=8 rating_seguridad=7 rating_comodidad=6 rating_impacto_ambiental=6 rating_costes_uso=None rating_tecnologia_conectividad=9 prioriza_baja_depreciacion='no'\n",
      "DEBUG (Perfil) ► No hay mensaje pendiente.\n",
      "--- Ejecutando Nodo: validar_preferencias_node ---\n",
      "--- DEBUG CHECK PERFIL ---\n",
      "Input prefs object: apasionado_motor='no' valora_estetica='no' coche_principal_hogar='sí' uso_profesional='no' tipo_uso_profesional=None prefiere_diseno_exclusivo='no' aventura=<NivelAventura.ocasional: 'ocasional'> transporta_carga_voluminosa='no' necesita_espacio_objetos_especiales=None altura_mayor_190='sí' peso_mayor_100='no' solo_electricos='no' transmision_preferida=<Transmision.AUTOMATICO: 'automático'> rating_fiabilidad_durabilidad=8 rating_seguridad=7 rating_comodidad=6 rating_impacto_ambiental=6 rating_costes_uso=None rating_tecnologia_conectividad=9 prioriza_baja_depreciacion='no'\n",
      "Input prefs type: <class 'graph.perfil.state.PerfilUsuario'>\n",
      "DEBUG (Validation Perfil) ► Campo 'rating_costes_uso' está vacío/None.\n",
      "DEBUG (Perfil) ► Validación: PerfilUsuario considerado INCOMPLETO.\n",
      "--- Evaluando Condición: ruta_decision_perfil ---\n",
      "DEBUG (Condición Perfil) ► Estado 'preferencias_usuario' recibido: apasionado_motor='no' valora_estetica='no' coche_principal_hogar='sí' uso_profesional='no' tipo_uso_profesional=None prefiere_diseno_exclusivo='no' aventura=<NivelAventura.ocasional: 'ocasional'> transporta_carga_voluminosa='no' necesita_espacio_objetos_especiales=None altura_mayor_190='sí' peso_mayor_100='no' solo_electricos='no' transmision_preferida=<Transmision.AUTOMATICO: 'automático'> rating_fiabilidad_durabilidad=8 rating_seguridad=7 rating_comodidad=6 rating_impacto_ambiental=6 rating_costes_uso=None rating_tecnologia_conectividad=9 prioriza_baja_depreciacion='no'\n",
      "DEBUG (Condición Perfil) ► Tipo de 'preferencias_usuario': <class 'graph.perfil.state.PerfilUsuario'>\n",
      "--- DEBUG CHECK PERFIL ---\n",
      "Input prefs object: apasionado_motor='no' valora_estetica='no' coche_principal_hogar='sí' uso_profesional='no' tipo_uso_profesional=None prefiere_diseno_exclusivo='no' aventura=<NivelAventura.ocasional: 'ocasional'> transporta_carga_voluminosa='no' necesita_espacio_objetos_especiales=None altura_mayor_190='sí' peso_mayor_100='no' solo_electricos='no' transmision_preferida=<Transmision.AUTOMATICO: 'automático'> rating_fiabilidad_durabilidad=8 rating_seguridad=7 rating_comodidad=6 rating_impacto_ambiental=6 rating_costes_uso=None rating_tecnologia_conectividad=9 prioriza_baja_depreciacion='no'\n",
      "Input prefs type: <class 'graph.perfil.state.PerfilUsuario'>\n",
      "DEBUG (Validation Perfil) ► Campo 'rating_costes_uso' está vacío/None.\n",
      "DEBUG (Condición Perfil) ► Perfil INCOMPLETO. Se necesita pregunta.\n",
      "--- Ejecutando Nodo: preguntar_preferencias_node ---\n",
      "--- DEBUG CHECK PERFIL ---\n",
      "Input prefs object: apasionado_motor='no' valora_estetica='no' coche_principal_hogar='sí' uso_profesional='no' tipo_uso_profesional=None prefiere_diseno_exclusivo='no' aventura=<NivelAventura.ocasional: 'ocasional'> transporta_carga_voluminosa='no' necesita_espacio_objetos_especiales=None altura_mayor_190='sí' peso_mayor_100='no' solo_electricos='no' transmision_preferida=<Transmision.AUTOMATICO: 'automático'> rating_fiabilidad_durabilidad=8 rating_seguridad=7 rating_comodidad=6 rating_impacto_ambiental=6 rating_costes_uso=None rating_tecnologia_conectividad=9 prioriza_baja_depreciacion='no'\n",
      "Input prefs type: <class 'graph.perfil.state.PerfilUsuario'>\n",
      "DEBUG (Validation Perfil) ► Campo 'rating_costes_uso' está vacío/None.\n",
      "DEBUG (Preguntar Perfil) ► Perfil aún INCOMPLETO según checker.\n",
      "DEBUG (Preguntar Perfil) ► Pregunta fallback generada: ahora, ¿qué tan importante es para ti que el vehículo sea económico en su uso diario y mantenimiento? (0-10)?\n",
      "WARN (Preguntar Perfil) ► Nodo ejecutado para preguntar, pero no había mensaje pendiente válido. Generando pregunta fallback.\n",
      "DEBUG (Preguntar Perfil) ► Mensaje final añadido: ahora, ¿qué tan importante es para ti que el vehículo sea económico en su uso diario y mantenimiento? (0-10)?\n",
      "==================================\u001b[1m Ai Message \u001b[0m==================================\n",
      "\n",
      "ahora, ¿qué tan importante es para ti que el vehículo sea económico en su uso diario y mantenimiento? (0-10)?\n"
     ]
    }
   ],
   "source": [
    "# Create a thread\n",
    "config = {\"configurable\": {\"thread_id\": \"1\"}}\n",
    "\n",
    "# Start conversation\n",
    "input_message = HumanMessage(content=\"9\")\n",
    "output = graph.invoke({\"messages\": [input_message]}, config) \n",
    "for m in output['messages'][-1:]:\n",
    "    m.pretty_print()"
   ]
  },
  {
   "cell_type": "code",
   "execution_count": 19,
   "metadata": {},
   "outputs": [
    {
     "name": "stdout",
     "output_type": "stream",
     "text": [
      "--- Ejecutando Nodo: route_based_on_state_node ---\n",
      "\n",
      "--- DEBUG: Evaluating Routing Decision ---\n",
      "--- DEBUG CHECK PERFIL ---\n",
      "Input prefs object: apasionado_motor='no' valora_estetica='no' coche_principal_hogar='sí' uso_profesional='no' tipo_uso_profesional=None prefiere_diseno_exclusivo='no' aventura=<NivelAventura.ocasional: 'ocasional'> transporta_carga_voluminosa='no' necesita_espacio_objetos_especiales=None altura_mayor_190='sí' peso_mayor_100='no' solo_electricos='no' transmision_preferida=<Transmision.AUTOMATICO: 'automático'> rating_fiabilidad_durabilidad=8 rating_seguridad=7 rating_comodidad=6 rating_impacto_ambiental=6 rating_costes_uso=None rating_tecnologia_conectividad=9 prioriza_baja_depreciacion='no'\n",
      "Input prefs type: <class 'graph.perfil.state.PerfilUsuario'>\n",
      "DEBUG (Validation Perfil) ► Campo 'rating_costes_uso' está vacío/None.\n",
      "DEBUG Router: Prefs OK? False\n",
      "--- DEBUG CHECK PASAJEROS ---\n",
      "Input info pasajeros: None\n",
      "DEBUG (Validation Pasajeros) ► Objeto InfoPasajeros es None.\n",
      "DEBUG Router: Pasajeros OK? False\n",
      "DEBUG (Validation Filtros) ► Objeto FiltrosInferidos es None.\n",
      "DEBUG Router: Filtros OK? False\n",
      "--- DEBUG CHECK ECONOMIA (Manual) ---\n",
      "Input econ object: None\n",
      "DEBUG (Validation Economía Manual) ► Objeto EconomiaUsuario es None.\n",
      "DEBUG Router: Economía OK? False\n",
      "DEBUG Router: Pesos Calculados? False\n",
      "DEBUG Router: Coches Buscados? False\n",
      "--- DEBUG CHECK PERFIL ---\n",
      "Input prefs object: apasionado_motor='no' valora_estetica='no' coche_principal_hogar='sí' uso_profesional='no' tipo_uso_profesional=None prefiere_diseno_exclusivo='no' aventura=<NivelAventura.ocasional: 'ocasional'> transporta_carga_voluminosa='no' necesita_espacio_objetos_especiales=None altura_mayor_190='sí' peso_mayor_100='no' solo_electricos='no' transmision_preferida=<Transmision.AUTOMATICO: 'automático'> rating_fiabilidad_durabilidad=8 rating_seguridad=7 rating_comodidad=6 rating_impacto_ambiental=6 rating_costes_uso=None rating_tecnologia_conectividad=9 prioriza_baja_depreciacion='no'\n",
      "Input prefs type: <class 'graph.perfil.state.PerfilUsuario'>\n",
      "DEBUG (Validation Perfil) ► Campo 'rating_costes_uso' está vacío/None.\n",
      "DEBUG Router: Decisión -> recopilar_preferencias\n",
      "--- Ejecutando Nodo: recopilar_preferencias_node ---\n",
      "DEBUG (Perfil) ► Último mensaje es HumanMessage o historial vacío, llamando a llm_solo_perfil...\n"
     ]
    },
    {
     "name": "stderr",
     "output_type": "stream",
     "text": [
      "INFO (RAG): HTTP Request: POST https://api.openai.com/v1/chat/completions \"HTTP/1.1 200 OK\"\n"
     ]
    },
    {
     "name": "stdout",
     "output_type": "stream",
     "text": [
      "DEBUG (Perfil) ► Respuesta llm_solo_perfil: preferencias_usuario=PerfilUsuario(apasionado_motor='no', valora_estetica='no', coche_principal_hogar='sí', uso_profesional='no', tipo_uso_profesional=None, prefiere_diseno_exclusivo='no', aventura=<NivelAventura.ocasional: 'ocasional'>, transporta_carga_voluminosa='no', necesita_espacio_objetos_especiales=None, altura_mayor_190='sí', peso_mayor_100='no', solo_electricos='no', transmision_preferida=<Transmision.AUTOMATICO: 'automático'>, rating_fiabilidad_durabilidad=8, rating_seguridad=7, rating_comodidad=6, rating_impacto_ambiental=6, rating_costes_uso=10, rating_tecnologia_conectividad=9, prioriza_baja_depreciacion='no') tipo_mensaje='CONFIRMACION' contenido_mensaje=''\n",
      "DEBUG (Perfil) ► Preferencias TRAS post-procesamiento: apasionado_motor='no' valora_estetica='no' coche_principal_hogar='sí' uso_profesional='no' tipo_uso_profesional=None prefiere_diseno_exclusivo='no' aventura=<NivelAventura.ocasional: 'ocasional'> transporta_carga_voluminosa='no' necesita_espacio_objetos_especiales=None altura_mayor_190='sí' peso_mayor_100='no' solo_electricos='no' transmision_preferida=<Transmision.AUTOMATICO: 'automático'> rating_fiabilidad_durabilidad=8 rating_seguridad=7 rating_comodidad=6 rating_impacto_ambiental=6 rating_costes_uso=10 rating_tecnologia_conectividad=9 prioriza_baja_depreciacion='no'\n",
      "DEBUG (Perfil) ► Estado preferencias_usuario actualizado: apasionado_motor='no' valora_estetica='no' coche_principal_hogar='sí' uso_profesional='no' tipo_uso_profesional=None prefiere_diseno_exclusivo='no' aventura=<NivelAventura.ocasional: 'ocasional'> transporta_carga_voluminosa='no' necesita_espacio_objetos_especiales=None altura_mayor_190='sí' peso_mayor_100='no' solo_electricos='no' transmision_preferida=<Transmision.AUTOMATICO: 'automático'> rating_fiabilidad_durabilidad=8 rating_seguridad=7 rating_comodidad=6 rating_impacto_ambiental=6 rating_costes_uso=10 rating_tecnologia_conectividad=9 prioriza_baja_depreciacion='no'\n",
      "DEBUG (Perfil) ► No hay mensaje pendiente.\n",
      "--- Ejecutando Nodo: validar_preferencias_node ---\n",
      "--- DEBUG CHECK PERFIL ---\n",
      "Input prefs object: apasionado_motor='no' valora_estetica='no' coche_principal_hogar='sí' uso_profesional='no' tipo_uso_profesional=None prefiere_diseno_exclusivo='no' aventura=<NivelAventura.ocasional: 'ocasional'> transporta_carga_voluminosa='no' necesita_espacio_objetos_especiales=None altura_mayor_190='sí' peso_mayor_100='no' solo_electricos='no' transmision_preferida=<Transmision.AUTOMATICO: 'automático'> rating_fiabilidad_durabilidad=8 rating_seguridad=7 rating_comodidad=6 rating_impacto_ambiental=6 rating_costes_uso=10 rating_tecnologia_conectividad=9 prioriza_baja_depreciacion='no'\n",
      "Input prefs type: <class 'graph.perfil.state.PerfilUsuario'>\n",
      "DEBUG (Validation Perfil) ► Todos los campos obligatorios del perfil están presentes.\n",
      "DEBUG (Perfil) ► Validación: PerfilUsuario considerado COMPLETO.\n",
      "--- Evaluando Condición: ruta_decision_perfil ---\n",
      "DEBUG (Condición Perfil) ► Estado 'preferencias_usuario' recibido: apasionado_motor='no' valora_estetica='no' coche_principal_hogar='sí' uso_profesional='no' tipo_uso_profesional=None prefiere_diseno_exclusivo='no' aventura=<NivelAventura.ocasional: 'ocasional'> transporta_carga_voluminosa='no' necesita_espacio_objetos_especiales=None altura_mayor_190='sí' peso_mayor_100='no' solo_electricos='no' transmision_preferida=<Transmision.AUTOMATICO: 'automático'> rating_fiabilidad_durabilidad=8 rating_seguridad=7 rating_comodidad=6 rating_impacto_ambiental=6 rating_costes_uso=10 rating_tecnologia_conectividad=9 prioriza_baja_depreciacion='no'\n",
      "DEBUG (Condición Perfil) ► Tipo de 'preferencias_usuario': <class 'graph.perfil.state.PerfilUsuario'>\n",
      "--- DEBUG CHECK PERFIL ---\n",
      "Input prefs object: apasionado_motor='no' valora_estetica='no' coche_principal_hogar='sí' uso_profesional='no' tipo_uso_profesional=None prefiere_diseno_exclusivo='no' aventura=<NivelAventura.ocasional: 'ocasional'> transporta_carga_voluminosa='no' necesita_espacio_objetos_especiales=None altura_mayor_190='sí' peso_mayor_100='no' solo_electricos='no' transmision_preferida=<Transmision.AUTOMATICO: 'automático'> rating_fiabilidad_durabilidad=8 rating_seguridad=7 rating_comodidad=6 rating_impacto_ambiental=6 rating_costes_uso=10 rating_tecnologia_conectividad=9 prioriza_baja_depreciacion='no'\n",
      "Input prefs type: <class 'graph.perfil.state.PerfilUsuario'>\n",
      "DEBUG (Validation Perfil) ► Todos los campos obligatorios del perfil están presentes.\n",
      "DEBUG (Condición Perfil) ► Perfil COMPLETO. Avanzando a filtros.\n",
      "--- Ejecutando Nodo: recopilar_info_pasajeros_node ---\n",
      "DEBUG (Pasajeros) ► Último mensaje es HumanMessage o inicio de etapa, llamando a llm_pasajeros...\n"
     ]
    },
    {
     "name": "stderr",
     "output_type": "stream",
     "text": [
      "INFO (RAG): HTTP Request: POST https://api.openai.com/v1/chat/completions \"HTTP/1.1 200 OK\"\n"
     ]
    },
    {
     "name": "stdout",
     "output_type": "stream",
     "text": [
      "DEBUG (Pasajeros) ► Respuesta llm_pasajeros: info_pasajeros=InfoPasajeros(frecuencia=None, num_ninos_silla=None, num_otros_pasajeros=None) tipo_mensaje='PREGUNTA' contenido_mensaje='Cuéntame, ¿sueles viajar con acompañantes en el coche habitualmente? ¿cuantos?'\n",
      "DEBUG (Pasajeros) ► Tipo='PREGUNTA', Contenido='Cuéntame, ¿sueles viajar con acompañantes en el coche habitualmente? ¿cuantos?'\n",
      "DEBUG (Pasajeros) ► Info Pasajeros LLM: frecuencia=None num_ninos_silla=None num_otros_pasajeros=None\n",
      "DEBUG (Pasajeros) ► Estado info_pasajeros actualizado: frecuencia=None num_ninos_silla=None num_otros_pasajeros=None\n",
      "DEBUG (Pasajeros) ► Guardando mensaje pendiente: Cuéntame, ¿sueles viajar con acompañantes en el coche habitualmente? ¿cuantos?\n",
      "--- Ejecutando Nodo: validar_info_pasajeros_node ---\n",
      "--- DEBUG CHECK PASAJEROS ---\n",
      "Input info pasajeros: frecuencia=None num_ninos_silla=None num_otros_pasajeros=None\n",
      "DEBUG (Validation Pasajeros) ► info.frecuencia es None.\n",
      "DEBUG (Pasajeros) ► Validación: Info Pasajeros considerada INCOMPLETA.\n",
      "--- Evaluando Condición: ruta_decision_pasajeros ---\n",
      "--- DEBUG CHECK PASAJEROS ---\n",
      "Input info pasajeros: frecuencia=None num_ninos_silla=None num_otros_pasajeros=None\n",
      "DEBUG (Validation Pasajeros) ► info.frecuencia es None.\n",
      "DEBUG (Condición Pasajeros) ► INCOMPLETO. Se necesita pregunta.\n",
      "--- Ejecutando Nodo: preguntar_info_pasajeros_node ---\n",
      "--- DEBUG CHECK PASAJEROS ---\n",
      "Input info pasajeros: frecuencia=None num_ninos_silla=None num_otros_pasajeros=None\n",
      "DEBUG (Validation Pasajeros) ► info.frecuencia es None.\n",
      "DEBUG (Preguntar Pasajeros) ► Info Pasajeros aún INCOMPLETA según checker.\n",
      "DEBUG (Preguntar Pasajeros) ► Pregunta fallback generada: Cuéntame, ¿quiénes suelen viajar contigo en el coche habitualmente? ¿Llevas pasajeros a menudo?\n",
      "DEBUG (Preguntar Pasajeros) ► Usando mensaje pendiente (pregunta LLM): Cuéntame, ¿sueles viajar con acompañantes en el coche habitualmente? ¿cuantos?\n",
      "DEBUG (Preguntar Pasajeros) ► Mensaje final añadido: Cuéntame, ¿sueles viajar con acompañantes en el coche habitualmente? ¿cuantos?\n",
      "==================================\u001b[1m Ai Message \u001b[0m==================================\n",
      "\n",
      "Cuéntame, ¿sueles viajar con acompañantes en el coche habitualmente? ¿cuantos?\n"
     ]
    }
   ],
   "source": [
    "# Create a thread\n",
    "config = {\"configurable\": {\"thread_id\": \"1\"}}\n",
    "\n",
    "# Start conversation\n",
    "input_message = HumanMessage(content=\"10\")\n",
    "output = graph.invoke({\"messages\": [input_message]}, config) \n",
    "for m in output['messages'][-1:]:\n",
    "    m.pretty_print()"
   ]
  },
  {
   "cell_type": "code",
   "execution_count": 20,
   "metadata": {},
   "outputs": [
    {
     "name": "stdout",
     "output_type": "stream",
     "text": [
      "--- Ejecutando Nodo: route_based_on_state_node ---\n",
      "\n",
      "--- DEBUG: Evaluating Routing Decision ---\n",
      "--- DEBUG CHECK PERFIL ---\n",
      "Input prefs object: apasionado_motor='no' valora_estetica='no' coche_principal_hogar='sí' uso_profesional='no' tipo_uso_profesional=None prefiere_diseno_exclusivo='no' aventura=<NivelAventura.ocasional: 'ocasional'> transporta_carga_voluminosa='no' necesita_espacio_objetos_especiales=None altura_mayor_190='sí' peso_mayor_100='no' solo_electricos='no' transmision_preferida=<Transmision.AUTOMATICO: 'automático'> rating_fiabilidad_durabilidad=8 rating_seguridad=7 rating_comodidad=6 rating_impacto_ambiental=6 rating_costes_uso=10 rating_tecnologia_conectividad=9 prioriza_baja_depreciacion='no'\n",
      "Input prefs type: <class 'graph.perfil.state.PerfilUsuario'>\n",
      "DEBUG (Validation Perfil) ► Todos los campos obligatorios del perfil están presentes.\n",
      "DEBUG Router: Prefs OK? True\n",
      "--- DEBUG CHECK PASAJEROS ---\n",
      "Input info pasajeros: frecuencia=None num_ninos_silla=None num_otros_pasajeros=None\n",
      "DEBUG (Validation Pasajeros) ► info.frecuencia es None.\n",
      "DEBUG Router: Pasajeros OK? False\n",
      "DEBUG (Validation Filtros) ► Objeto FiltrosInferidos es None.\n",
      "DEBUG Router: Filtros OK? False\n",
      "--- DEBUG CHECK ECONOMIA (Manual) ---\n",
      "Input econ object: None\n",
      "DEBUG (Validation Economía Manual) ► Objeto EconomiaUsuario es None.\n",
      "DEBUG Router: Economía OK? False\n",
      "DEBUG Router: Pesos Calculados? False\n",
      "DEBUG Router: Coches Buscados? False\n",
      "--- DEBUG CHECK PERFIL ---\n",
      "Input prefs object: apasionado_motor='no' valora_estetica='no' coche_principal_hogar='sí' uso_profesional='no' tipo_uso_profesional=None prefiere_diseno_exclusivo='no' aventura=<NivelAventura.ocasional: 'ocasional'> transporta_carga_voluminosa='no' necesita_espacio_objetos_especiales=None altura_mayor_190='sí' peso_mayor_100='no' solo_electricos='no' transmision_preferida=<Transmision.AUTOMATICO: 'automático'> rating_fiabilidad_durabilidad=8 rating_seguridad=7 rating_comodidad=6 rating_impacto_ambiental=6 rating_costes_uso=10 rating_tecnologia_conectividad=9 prioriza_baja_depreciacion='no'\n",
      "Input prefs type: <class 'graph.perfil.state.PerfilUsuario'>\n",
      "DEBUG (Validation Perfil) ► Todos los campos obligatorios del perfil están presentes.\n",
      "--- DEBUG CHECK PASAJEROS ---\n",
      "Input info pasajeros: frecuencia=None num_ninos_silla=None num_otros_pasajeros=None\n",
      "DEBUG (Validation Pasajeros) ► info.frecuencia es None.\n",
      "DEBUG Router: Decisión -> recopilar_info_pasajeros\n",
      "--- Ejecutando Nodo: recopilar_info_pasajeros_node ---\n",
      "DEBUG (Pasajeros) ► Último mensaje es HumanMessage o inicio de etapa, llamando a llm_pasajeros...\n"
     ]
    },
    {
     "name": "stderr",
     "output_type": "stream",
     "text": [
      "INFO (RAG): HTTP Request: POST https://api.openai.com/v1/chat/completions \"HTTP/1.1 200 OK\"\n"
     ]
    },
    {
     "name": "stdout",
     "output_type": "stream",
     "text": [
      "DEBUG (Pasajeros) ► Respuesta llm_pasajeros: info_pasajeros=InfoPasajeros(frecuencia='frecuente', num_ninos_silla=None, num_otros_pasajeros=1) tipo_mensaje='CONFIRMACION' contenido_mensaje='¡Perfecto! Ya sé quiénes suelen viajar contigo.'\n",
      "DEBUG (Pasajeros) ► Tipo='CONFIRMACION', Contenido='¡Perfecto! Ya sé quiénes suelen viajar contigo.'\n",
      "DEBUG (Pasajeros) ► Info Pasajeros LLM: frecuencia='frecuente' num_ninos_silla=None num_otros_pasajeros=1\n",
      "DEBUG (Pasajeros) ► Estado info_pasajeros actualizado: frecuencia='frecuente' num_ninos_silla=None num_otros_pasajeros=1\n",
      "DEBUG (Pasajeros) ► Guardando mensaje pendiente: ¡Perfecto! Ya sé quiénes suelen viajar contigo.\n",
      "--- Ejecutando Nodo: validar_info_pasajeros_node ---\n",
      "--- DEBUG CHECK PASAJEROS ---\n",
      "Input info pasajeros: frecuencia='frecuente' num_ninos_silla=None num_otros_pasajeros=1\n",
      "DEBUG (Validation Pasajeros) ► Frecuencia='frecuente'. Faltan datos: num_ninos_silla. Considerado INCOMPLETO.\n",
      "DEBUG (Pasajeros) ► Validación: Info Pasajeros considerada INCOMPLETA.\n",
      "--- Evaluando Condición: ruta_decision_pasajeros ---\n",
      "--- DEBUG CHECK PASAJEROS ---\n",
      "Input info pasajeros: frecuencia='frecuente' num_ninos_silla=None num_otros_pasajeros=1\n",
      "DEBUG (Validation Pasajeros) ► Frecuencia='frecuente'. Faltan datos: num_ninos_silla. Considerado INCOMPLETO.\n",
      "DEBUG (Condición Pasajeros) ► INCOMPLETO. Se necesita pregunta.\n",
      "--- Ejecutando Nodo: preguntar_info_pasajeros_node ---\n",
      "--- DEBUG CHECK PASAJEROS ---\n",
      "Input info pasajeros: frecuencia='frecuente' num_ninos_silla=None num_otros_pasajeros=1\n",
      "DEBUG (Validation Pasajeros) ► Frecuencia='frecuente'. Faltan datos: num_ninos_silla. Considerado INCOMPLETO.\n",
      "DEBUG (Preguntar Pasajeros) ► Info Pasajeros aún INCOMPLETA según checker.\n",
      "DEBUG (Preguntar Pasajeros) ► Pregunta fallback generada: Entendido, con 1. ¿Hay también niños que necesiten sillita de seguridad?\n",
      "WARN (Preguntar Pasajeros) ► Mensaje pendiente ('¡Perfecto! Ya sé quiénes suelen viajar contigo.') parece confirmación, pero pasajeros incompleto. IGNORANDO y usando fallback.\n",
      "DEBUG (Preguntar Pasajeros) ► Mensaje final añadido: Entendido, con 1. ¿Hay también niños que necesiten sillita de seguridad?\n",
      "==================================\u001b[1m Ai Message \u001b[0m==================================\n",
      "\n",
      "Entendido, con 1. ¿Hay también niños que necesiten sillita de seguridad?\n"
     ]
    }
   ],
   "source": [
    "# Create a thread\n",
    "config = {\"configurable\": {\"thread_id\": \"1\"}}\n",
    "\n",
    "# Start conversation\n",
    "input_message = HumanMessage(content=\"con una persona adulta,no ninos\")\n",
    "output = graph.invoke({\"messages\": [input_message]}, config) \n",
    "for m in output['messages'][-1:]:\n",
    "    m.pretty_print()"
   ]
  },
  {
   "cell_type": "code",
   "execution_count": 21,
   "metadata": {},
   "outputs": [
    {
     "name": "stdout",
     "output_type": "stream",
     "text": [
      "--- Ejecutando Nodo: route_based_on_state_node ---\n",
      "\n",
      "--- DEBUG: Evaluating Routing Decision ---\n",
      "--- DEBUG CHECK PERFIL ---\n",
      "Input prefs object: apasionado_motor='no' valora_estetica='no' coche_principal_hogar='sí' uso_profesional='no' tipo_uso_profesional=None prefiere_diseno_exclusivo='no' aventura=<NivelAventura.ocasional: 'ocasional'> transporta_carga_voluminosa='no' necesita_espacio_objetos_especiales=None altura_mayor_190='sí' peso_mayor_100='no' solo_electricos='no' transmision_preferida=<Transmision.AUTOMATICO: 'automático'> rating_fiabilidad_durabilidad=8 rating_seguridad=7 rating_comodidad=6 rating_impacto_ambiental=6 rating_costes_uso=10 rating_tecnologia_conectividad=9 prioriza_baja_depreciacion='no'\n",
      "Input prefs type: <class 'graph.perfil.state.PerfilUsuario'>\n",
      "DEBUG (Validation Perfil) ► Todos los campos obligatorios del perfil están presentes.\n",
      "DEBUG Router: Prefs OK? True\n",
      "--- DEBUG CHECK PASAJEROS ---\n",
      "Input info pasajeros: frecuencia='frecuente' num_ninos_silla=None num_otros_pasajeros=1\n",
      "DEBUG (Validation Pasajeros) ► Frecuencia='frecuente'. Faltan datos: num_ninos_silla. Considerado INCOMPLETO.\n",
      "DEBUG Router: Pasajeros OK? False\n",
      "DEBUG (Validation Filtros) ► Objeto FiltrosInferidos es None.\n",
      "DEBUG Router: Filtros OK? False\n",
      "--- DEBUG CHECK ECONOMIA (Manual) ---\n",
      "Input econ object: None\n",
      "DEBUG (Validation Economía Manual) ► Objeto EconomiaUsuario es None.\n",
      "DEBUG Router: Economía OK? False\n",
      "DEBUG Router: Pesos Calculados? False\n",
      "DEBUG Router: Coches Buscados? False\n",
      "--- DEBUG CHECK PERFIL ---\n",
      "Input prefs object: apasionado_motor='no' valora_estetica='no' coche_principal_hogar='sí' uso_profesional='no' tipo_uso_profesional=None prefiere_diseno_exclusivo='no' aventura=<NivelAventura.ocasional: 'ocasional'> transporta_carga_voluminosa='no' necesita_espacio_objetos_especiales=None altura_mayor_190='sí' peso_mayor_100='no' solo_electricos='no' transmision_preferida=<Transmision.AUTOMATICO: 'automático'> rating_fiabilidad_durabilidad=8 rating_seguridad=7 rating_comodidad=6 rating_impacto_ambiental=6 rating_costes_uso=10 rating_tecnologia_conectividad=9 prioriza_baja_depreciacion='no'\n",
      "Input prefs type: <class 'graph.perfil.state.PerfilUsuario'>\n",
      "DEBUG (Validation Perfil) ► Todos los campos obligatorios del perfil están presentes.\n",
      "--- DEBUG CHECK PASAJEROS ---\n",
      "Input info pasajeros: frecuencia='frecuente' num_ninos_silla=None num_otros_pasajeros=1\n",
      "DEBUG (Validation Pasajeros) ► Frecuencia='frecuente'. Faltan datos: num_ninos_silla. Considerado INCOMPLETO.\n",
      "DEBUG Router: Decisión -> recopilar_info_pasajeros\n",
      "--- Ejecutando Nodo: recopilar_info_pasajeros_node ---\n",
      "DEBUG (Pasajeros) ► Último mensaje es HumanMessage o inicio de etapa, llamando a llm_pasajeros...\n"
     ]
    },
    {
     "name": "stderr",
     "output_type": "stream",
     "text": [
      "INFO (RAG): HTTP Request: POST https://api.openai.com/v1/chat/completions \"HTTP/1.1 200 OK\"\n"
     ]
    },
    {
     "name": "stdout",
     "output_type": "stream",
     "text": [
      "DEBUG (Pasajeros) ► Respuesta llm_pasajeros: info_pasajeros=InfoPasajeros(frecuencia='frecuente', num_ninos_silla=0, num_otros_pasajeros=1) tipo_mensaje='CONFIRMACION' contenido_mensaje=''\n",
      "DEBUG (Pasajeros) ► Tipo='CONFIRMACION', Contenido=''\n",
      "DEBUG (Pasajeros) ► Info Pasajeros LLM: frecuencia='frecuente' num_ninos_silla=0 num_otros_pasajeros=1\n",
      "DEBUG (Pasajeros) ► Estado info_pasajeros actualizado: frecuencia='frecuente' num_ninos_silla=0 num_otros_pasajeros=1\n",
      "DEBUG (Pasajeros) ► No hay mensaje pendiente.\n",
      "--- Ejecutando Nodo: validar_info_pasajeros_node ---\n",
      "--- DEBUG CHECK PASAJEROS ---\n",
      "Input info pasajeros: frecuencia='frecuente' num_ninos_silla=0 num_otros_pasajeros=1\n",
      "DEBUG (Validation Pasajeros) ► Frecuencia='frecuente'. Niños silla y otros pasajeros tienen valor. Considerado COMPLETO.\n",
      "DEBUG (Pasajeros) ► Validación: Info Pasajeros considerada COMPLETA.\n",
      "--- Evaluando Condición: ruta_decision_pasajeros ---\n",
      "--- DEBUG CHECK PASAJEROS ---\n",
      "Input info pasajeros: frecuencia='frecuente' num_ninos_silla=0 num_otros_pasajeros=1\n",
      "DEBUG (Validation Pasajeros) ► Frecuencia='frecuente'. Niños silla y otros pasajeros tienen valor. Considerado COMPLETO.\n",
      "DEBUG (Condición Pasajeros) ► COMPLETO. Aplicando filtros derivados.\n",
      "--- Ejecutando Nodo: aplicar_filtros_pasajeros_node ---\n",
      "DEBUG (Aplicar Filtros Pasajeros) ► Info recibida: freq='frecuente', X=0, Z=1\n",
      "DEBUG (Aplicar Filtros Pasajeros) ► Calculado plazas_min = 2\n",
      "DEBUG (Aplicar Filtros Pasajeros) ► Filtros actualizados (con plazas_min): estetica_min=None tipo_mecanica=None premium_min=None singular_min=None tipo_carroceria=None modo_adquisicion_recomendado=None precio_max_contado_recomendado=None cuota_max_calculada=None plazas_min=2\n",
      "--- Ejecutando Nodo: inferir_filtros_node ---\n",
      "DEBUG (Filtros) ► Preferencias de usuario disponibles. Procediendo...\n",
      "DEBUG (Filtros) ► Prompt para llm_solo_filtros (parcial): <Role>\n",
      "Eres un asistente técnico experto en vehículos. Tu función es traducir las preferencias generales de un usuario en filtros técnicos específicos para la búsqueda de coches. Debes basarte estrictamente en las preferencias proporcionadas y generar una respuesta JSON que SIEMPRE se ajuste al esquema `ResultadoSoloFiltros`.\n",
      "</Role>\n",
      "\n",
      "<Contexto_Preferencias_Usuario>\n",
      "\n",
      "<Esquema_JSON_Requerido>\n",
      "A continuación se detallan las preferencias del usuario recopiladas previamente. Úsalas como base INDISPE...\n"
     ]
    },
    {
     "name": "stderr",
     "output_type": "stream",
     "text": [
      "INFO (RAG): HTTP Request: POST https://api.openai.com/v1/chat/completions \"HTTP/1.1 200 OK\"\n"
     ]
    },
    {
     "name": "stdout",
     "output_type": "stream",
     "text": [
      "DEBUG (Filtros) ► Respuesta llm_solo_filtros: filtros_inferidos=FiltrosInferidos(estetica_min=1.0, tipo_mecanica=[<TipoMecanica.GASOLINA: 'GASOLINA'>, <TipoMecanica.BEV: 'BEV'>, <TipoMecanica.HEVD: 'HEVD'>, <TipoMecanica.HEVG: 'HEVG'>, <TipoMecanica.PHEVD: 'PHEVD'>, <TipoMecanica.PHEVG: 'PHEVG'>], premium_min=1.0, singular_min=1.0, tipo_carroceria=None, modo_adquisicion_recomendado=None, precio_max_contado_recomendado=None, cuota_max_calculada=None, plazas_min=2) mensaje_validacion='Ok, he definido los filtros técnicos basados en tus preferencias.'\n",
      "\n",
      "--- DEBUG DENTRO PostProc Filtros ---\n",
      "Recibido Prefs: apasionado_motor='no' valora_estetica='no' coche_principal_hogar='sí' uso_profesional='no' tipo_uso_profesional=None prefiere_diseno_exclusivo='no' aventura=<NivelAventura.ocasional: 'ocasional'> transporta_carga_voluminosa='no' necesita_espacio_objetos_especiales=None altura_mayor_190='sí' peso_mayor_100='no' solo_electricos='no' transmision_preferida=<Transmision.AUTOMATICO: 'automático'> rating_fiabilidad_durabilidad=8 rating_seguridad=7 rating_comodidad=6 rating_impacto_ambiental=6 rating_costes_uso=10 rating_tecnologia_conectividad=9 prioriza_baja_depreciacion='no'\n",
      "Recibido Filtros (antes): estetica_min=1.0 tipo_mecanica=[<TipoMecanica.GASOLINA: 'GASOLINA'>, <TipoMecanica.BEV: 'BEV'>, <TipoMecanica.HEVD: 'HEVD'>, <TipoMecanica.HEVG: 'HEVG'>, <TipoMecanica.PHEVD: 'PHEVD'>, <TipoMecanica.PHEVG: 'PHEVG'>] premium_min=1.0 singular_min=1.0 tipo_carroceria=None modo_adquisicion_recomendado=None precio_max_contado_recomendado=None cuota_max_calculada=None plazas_min=2\n",
      "DEBUG PostProc Filtros: Evaluando premium_min. apasionado_motor='no'\n",
      "DEBUG PostProc Filtros: Evaluando singular_min. apasionado_motor='no', prefiere_exclusivo='no'\n",
      "DEBUG PostProc Filtros: apasionado_motor!='sí', suma +1.0 a singular_min. Subtotal: 1.0\n",
      "DEBUG PostProc Filtros: prefiere_diseno_exclusivo!='sí', suma +1.0 a singular_min. Total: 2.0\n",
      "DEBUG (PostProc Filtros) ► Aplicando regla singular (aditiva): de 1.0 a 2.0\n",
      "--- FIN DEBUG DENTRO PostProc Filtros --- Filtros actualizados finales: estetica_min=1.0 tipo_mecanica=[<TipoMecanica.GASOLINA: 'GASOLINA'>, <TipoMecanica.BEV: 'BEV'>, <TipoMecanica.HEVD: 'HEVD'>, <TipoMecanica.HEVG: 'HEVG'>, <TipoMecanica.PHEVD: 'PHEVD'>, <TipoMecanica.PHEVG: 'PHEVG'>] premium_min=1.0 singular_min=2.0 tipo_carroceria=None modo_adquisicion_recomendado=None precio_max_contado_recomendado=None cuota_max_calculada=None plazas_min=2\n",
      "DEBUG (Filtros) ► Filtros TRAS post-procesamiento: estetica_min=1.0 tipo_mecanica=[<TipoMecanica.GASOLINA: 'GASOLINA'>, <TipoMecanica.BEV: 'BEV'>, <TipoMecanica.HEVD: 'HEVD'>, <TipoMecanica.HEVG: 'HEVG'>, <TipoMecanica.PHEVD: 'PHEVD'>, <TipoMecanica.PHEVG: 'PHEVG'>] premium_min=1.0 singular_min=2.0 tipo_carroceria=None modo_adquisicion_recomendado=None precio_max_contado_recomendado=None cuota_max_calculada=None plazas_min=2\n",
      "DEBUG (Filtros) ► Estado filtros_inferidos actualizado: estetica_min=1.0 tipo_mecanica=[<TipoMecanica.GASOLINA: 'GASOLINA'>, <TipoMecanica.BEV: 'BEV'>, <TipoMecanica.HEVD: 'HEVD'>, <TipoMecanica.HEVG: 'HEVG'>, <TipoMecanica.PHEVD: 'PHEVD'>, <TipoMecanica.PHEVG: 'PHEVG'>] premium_min=1.0 singular_min=2.0 tipo_carroceria=None modo_adquisicion_recomendado=None precio_max_contado_recomendado=None cuota_max_calculada=None plazas_min=2\n",
      "--- Ejecutando Nodo: validar_filtros_node ---\n",
      "DEBUG (Validation Filtros) ► Todos los campos obligatorios de filtros ('tipo_mecanica') están presentes y válidos.\n",
      "DEBUG (Filtros) ► Validación: FiltrosInferidos considerados COMPLETOS.\n",
      "--- Evaluando Condición: ruta_decision_filtros ---\n",
      "DEBUG (Validation Filtros) ► Todos los campos obligatorios de filtros ('tipo_mecanica') están presentes y válidos.\n",
      "DEBUG (Condición Filtros) ► Filtros COMPLETOS. Avanzando a economía.\n",
      "--- Ejecutando Nodo: recopilar_economia_node ---\n",
      "DEBUG (Economía) ► Llamando a llm_economia...\n"
     ]
    },
    {
     "name": "stderr",
     "output_type": "stream",
     "text": [
      "INFO (RAG): HTTP Request: POST https://api.openai.com/v1/chat/completions \"HTTP/1.1 200 OK\"\n"
     ]
    },
    {
     "name": "stdout",
     "output_type": "stream",
     "text": [
      "DEBUG (Economía) ► Respuesta llm_economia: economia=EconomiaUsuario(modo=None, submodo=None, ingresos=None, ahorro=None, pago_contado=None, cuota_max=None, entrada=None, anos_posesion=None) mensaje_validacion='Con el fin de conocer tus preferencias financieras que opcion prefieres:\\n  1. Prefiero que me aconsejes con criterios de inteligencia financiera.\\n  2. Prefiero indicar yo mismo cuánto y cómo gastar.'\n",
      "DEBUG (Economía) ► Estado economía actualizado: modo=None submodo=None ingresos=None ahorro=None pago_contado=None cuota_max=None entrada=None anos_posesion=None\n",
      "DEBUG (Economía) ► Guardando pregunta pendiente: Con el fin de conocer tus preferencias financieras que opcion prefieres:\n",
      "  1. Prefiero que me aconsejes con criterios de inteligencia financiera.\n",
      "  2. Prefiero indicar yo mismo cuánto y cómo gastar.\n",
      "--- Ejecutando Nodo: validar_economia_node ---\n",
      "--- DEBUG CHECK ECONOMIA (Manual) ---\n",
      "Input econ object: modo=None submodo=None ingresos=None ahorro=None pago_contado=None cuota_max=None entrada=None anos_posesion=None\n",
      "DEBUG (Validation Economía Manual) ► econ.modo es None.\n",
      "DEBUG (Economía) ► Validación: Economía considerada INCOMPLETA.\n",
      "--- Evaluando Condición: ruta_decision_economia ---\n",
      "--- DEBUG CHECK ECONOMIA (Manual) ---\n",
      "Input econ object: modo=None submodo=None ingresos=None ahorro=None pago_contado=None cuota_max=None entrada=None anos_posesion=None\n",
      "DEBUG (Validation Economía Manual) ► econ.modo es None.\n",
      "DEBUG (Condición Economía) ► Economía INCOMPLETA. Se necesita pregunta.\n",
      "--- Ejecutando Nodo: preguntar_economia_node ---\n",
      "DEBUG (Preguntar Economía) ► Usando pregunta guardada: Con el fin de conocer tus preferencias financieras que opcion prefieres:\n",
      "  1. Prefiero que me aconsejes con criterios de inteligencia financiera.\n",
      "  2. Prefiero indicar yo mismo cuánto y cómo gastar.\n",
      "DEBUG (Preguntar Economía) ► Mensaje final añadido: Con el fin de conocer tus preferencias financieras que opcion prefieres:\n",
      "  1. Prefiero que me aconsejes con criterios de inteligencia financiera.\n",
      "  2. Prefiero indicar yo mismo cuánto y cómo gastar.\n",
      "==================================\u001b[1m Ai Message \u001b[0m==================================\n",
      "\n",
      "Con el fin de conocer tus preferencias financieras que opcion prefieres:\n",
      "  1. Prefiero que me aconsejes con criterios de inteligencia financiera.\n",
      "  2. Prefiero indicar yo mismo cuánto y cómo gastar.\n"
     ]
    }
   ],
   "source": [
    "# Create a thread\n",
    "config = {\"configurable\": {\"thread_id\": \"1\"}}\n",
    "\n",
    "# Start conversation\n",
    "input_message = HumanMessage(content=\"no\")\n",
    "output = graph.invoke({\"messages\": [input_message]}, config) \n",
    "for m in output['messages'][-1:]:\n",
    "    m.pretty_print()"
   ]
  },
  {
   "cell_type": "code",
   "execution_count": 22,
   "metadata": {},
   "outputs": [
    {
     "name": "stdout",
     "output_type": "stream",
     "text": [
      "--- Ejecutando Nodo: route_based_on_state_node ---\n",
      "\n",
      "--- DEBUG: Evaluating Routing Decision ---\n",
      "--- DEBUG CHECK PERFIL ---\n",
      "Input prefs object: apasionado_motor='no' valora_estetica='no' coche_principal_hogar='sí' uso_profesional='no' tipo_uso_profesional=None prefiere_diseno_exclusivo='no' aventura=<NivelAventura.ocasional: 'ocasional'> transporta_carga_voluminosa='no' necesita_espacio_objetos_especiales=None altura_mayor_190='sí' peso_mayor_100='no' solo_electricos='no' transmision_preferida=<Transmision.AUTOMATICO: 'automático'> rating_fiabilidad_durabilidad=8 rating_seguridad=7 rating_comodidad=6 rating_impacto_ambiental=6 rating_costes_uso=10 rating_tecnologia_conectividad=9 prioriza_baja_depreciacion='no'\n",
      "Input prefs type: <class 'graph.perfil.state.PerfilUsuario'>\n",
      "DEBUG (Validation Perfil) ► Todos los campos obligatorios del perfil están presentes.\n",
      "DEBUG Router: Prefs OK? True\n",
      "--- DEBUG CHECK PASAJEROS ---\n",
      "Input info pasajeros: frecuencia='frecuente' num_ninos_silla=0 num_otros_pasajeros=1\n",
      "DEBUG (Validation Pasajeros) ► Frecuencia='frecuente'. Niños silla y otros pasajeros tienen valor. Considerado COMPLETO.\n",
      "DEBUG Router: Pasajeros OK? True\n",
      "DEBUG (Validation Filtros) ► Todos los campos obligatorios de filtros ('tipo_mecanica') están presentes y válidos.\n",
      "DEBUG Router: Filtros OK? True\n",
      "--- DEBUG CHECK ECONOMIA (Manual) ---\n",
      "Input econ object: modo=None submodo=None ingresos=None ahorro=None pago_contado=None cuota_max=None entrada=None anos_posesion=None\n",
      "DEBUG (Validation Economía Manual) ► econ.modo es None.\n",
      "DEBUG Router: Economía OK? False\n",
      "DEBUG Router: Pesos Calculados? False\n",
      "DEBUG Router: Coches Buscados? False\n",
      "--- DEBUG CHECK PERFIL ---\n",
      "Input prefs object: apasionado_motor='no' valora_estetica='no' coche_principal_hogar='sí' uso_profesional='no' tipo_uso_profesional=None prefiere_diseno_exclusivo='no' aventura=<NivelAventura.ocasional: 'ocasional'> transporta_carga_voluminosa='no' necesita_espacio_objetos_especiales=None altura_mayor_190='sí' peso_mayor_100='no' solo_electricos='no' transmision_preferida=<Transmision.AUTOMATICO: 'automático'> rating_fiabilidad_durabilidad=8 rating_seguridad=7 rating_comodidad=6 rating_impacto_ambiental=6 rating_costes_uso=10 rating_tecnologia_conectividad=9 prioriza_baja_depreciacion='no'\n",
      "Input prefs type: <class 'graph.perfil.state.PerfilUsuario'>\n",
      "DEBUG (Validation Perfil) ► Todos los campos obligatorios del perfil están presentes.\n",
      "--- DEBUG CHECK PASAJEROS ---\n",
      "Input info pasajeros: frecuencia='frecuente' num_ninos_silla=0 num_otros_pasajeros=1\n",
      "DEBUG (Validation Pasajeros) ► Frecuencia='frecuente'. Niños silla y otros pasajeros tienen valor. Considerado COMPLETO.\n",
      "DEBUG (Validation Filtros) ► Todos los campos obligatorios de filtros ('tipo_mecanica') están presentes y válidos.\n",
      "--- DEBUG CHECK ECONOMIA (Manual) ---\n",
      "Input econ object: modo=None submodo=None ingresos=None ahorro=None pago_contado=None cuota_max=None entrada=None anos_posesion=None\n",
      "DEBUG (Validation Economía Manual) ► econ.modo es None.\n",
      "DEBUG Router: Decisión -> recopilar_economia\n",
      "--- Ejecutando Nodo: recopilar_economia_node ---\n",
      "DEBUG (Economía) ► Llamando a llm_economia...\n"
     ]
    },
    {
     "name": "stderr",
     "output_type": "stream",
     "text": [
      "INFO (RAG): HTTP Request: POST https://api.openai.com/v1/chat/completions \"HTTP/1.1 200 OK\"\n"
     ]
    },
    {
     "name": "stdout",
     "output_type": "stream",
     "text": [
      "DEBUG (Economía) ► Respuesta llm_economia: economia=EconomiaUsuario(modo=2, submodo=None, ingresos=None, ahorro=None, pago_contado=None, cuota_max=None, entrada=None, anos_posesion=None) mensaje_validacion='De acuerdo, tú defines el presupuesto. Que opción prefieres?\\n 1) Tienes pensado pagar el coche al contado\\n 2) prefieres financiarlo en cuotas mensuales'\n",
      "DEBUG (Economía) ► Estado economía actualizado: modo=2 submodo=None ingresos=None ahorro=None pago_contado=None cuota_max=None entrada=None anos_posesion=None\n",
      "DEBUG (Economía) ► Guardando pregunta pendiente: De acuerdo, tú defines el presupuesto. Que opción prefieres?\n",
      " 1) Tienes pensado pagar el coche al contado\n",
      " 2) prefieres financiarlo en cuotas mensuales\n",
      "--- Ejecutando Nodo: validar_economia_node ---\n",
      "--- DEBUG CHECK ECONOMIA (Manual) ---\n",
      "Input econ object: modo=2 submodo=None ingresos=None ahorro=None pago_contado=None cuota_max=None entrada=None anos_posesion=None\n",
      "DEBUG (Validation Economía Manual) ► Modo 2 INCOMPLETO (submodo inválido o None: None).\n",
      "DEBUG (Economía) ► Validación: Economía considerada INCOMPLETA.\n",
      "--- Evaluando Condición: ruta_decision_economia ---\n",
      "--- DEBUG CHECK ECONOMIA (Manual) ---\n",
      "Input econ object: modo=2 submodo=None ingresos=None ahorro=None pago_contado=None cuota_max=None entrada=None anos_posesion=None\n",
      "DEBUG (Validation Economía Manual) ► Modo 2 INCOMPLETO (submodo inválido o None: None).\n",
      "DEBUG (Condición Economía) ► Economía INCOMPLETA. Se necesita pregunta.\n",
      "--- Ejecutando Nodo: preguntar_economia_node ---\n",
      "DEBUG (Preguntar Economía) ► Usando pregunta guardada: De acuerdo, tú defines el presupuesto. Que opción prefieres?\n",
      " 1) Tienes pensado pagar el coche al contado\n",
      " 2) prefieres financiarlo en cuotas mensuales\n",
      "DEBUG (Preguntar Economía) ► Mensaje final añadido: De acuerdo, tú defines el presupuesto. Que opción prefieres?\n",
      " 1) Tienes pensado pagar el coche al contado\n",
      " 2) prefieres financiarlo en cuotas mensuales\n",
      "==================================\u001b[1m Ai Message \u001b[0m==================================\n",
      "\n",
      "De acuerdo, tú defines el presupuesto. Que opción prefieres?\n",
      " 1) Tienes pensado pagar el coche al contado\n",
      " 2) prefieres financiarlo en cuotas mensuales\n"
     ]
    }
   ],
   "source": [
    "# Create a thread\n",
    "config = {\"configurable\": {\"thread_id\": \"1\"}}\n",
    "\n",
    "# Start conversation\n",
    "input_message = HumanMessage(content=\"la 2\")\n",
    "output = graph.invoke({\"messages\": [input_message]}, config) \n",
    "for m in output['messages'][-1:]:\n",
    "    m.pretty_print()"
   ]
  },
  {
   "cell_type": "code",
   "execution_count": 23,
   "metadata": {},
   "outputs": [
    {
     "name": "stdout",
     "output_type": "stream",
     "text": [
      "--- Ejecutando Nodo: route_based_on_state_node ---\n",
      "\n",
      "--- DEBUG: Evaluating Routing Decision ---\n",
      "--- DEBUG CHECK PERFIL ---\n",
      "Input prefs object: apasionado_motor='no' valora_estetica='no' coche_principal_hogar='sí' uso_profesional='no' tipo_uso_profesional=None prefiere_diseno_exclusivo='no' aventura=<NivelAventura.ocasional: 'ocasional'> transporta_carga_voluminosa='no' necesita_espacio_objetos_especiales=None altura_mayor_190='sí' peso_mayor_100='no' solo_electricos='no' transmision_preferida=<Transmision.AUTOMATICO: 'automático'> rating_fiabilidad_durabilidad=8 rating_seguridad=7 rating_comodidad=6 rating_impacto_ambiental=6 rating_costes_uso=10 rating_tecnologia_conectividad=9 prioriza_baja_depreciacion='no'\n",
      "Input prefs type: <class 'graph.perfil.state.PerfilUsuario'>\n",
      "DEBUG (Validation Perfil) ► Todos los campos obligatorios del perfil están presentes.\n",
      "DEBUG Router: Prefs OK? True\n",
      "--- DEBUG CHECK PASAJEROS ---\n",
      "Input info pasajeros: frecuencia='frecuente' num_ninos_silla=0 num_otros_pasajeros=1\n",
      "DEBUG (Validation Pasajeros) ► Frecuencia='frecuente'. Niños silla y otros pasajeros tienen valor. Considerado COMPLETO.\n",
      "DEBUG Router: Pasajeros OK? True\n",
      "DEBUG (Validation Filtros) ► Todos los campos obligatorios de filtros ('tipo_mecanica') están presentes y válidos.\n",
      "DEBUG Router: Filtros OK? True\n",
      "--- DEBUG CHECK ECONOMIA (Manual) ---\n",
      "Input econ object: modo=2 submodo=None ingresos=None ahorro=None pago_contado=None cuota_max=None entrada=None anos_posesion=None\n",
      "DEBUG (Validation Economía Manual) ► Modo 2 INCOMPLETO (submodo inválido o None: None).\n",
      "DEBUG Router: Economía OK? False\n",
      "DEBUG Router: Pesos Calculados? False\n",
      "DEBUG Router: Coches Buscados? False\n",
      "--- DEBUG CHECK PERFIL ---\n",
      "Input prefs object: apasionado_motor='no' valora_estetica='no' coche_principal_hogar='sí' uso_profesional='no' tipo_uso_profesional=None prefiere_diseno_exclusivo='no' aventura=<NivelAventura.ocasional: 'ocasional'> transporta_carga_voluminosa='no' necesita_espacio_objetos_especiales=None altura_mayor_190='sí' peso_mayor_100='no' solo_electricos='no' transmision_preferida=<Transmision.AUTOMATICO: 'automático'> rating_fiabilidad_durabilidad=8 rating_seguridad=7 rating_comodidad=6 rating_impacto_ambiental=6 rating_costes_uso=10 rating_tecnologia_conectividad=9 prioriza_baja_depreciacion='no'\n",
      "Input prefs type: <class 'graph.perfil.state.PerfilUsuario'>\n",
      "DEBUG (Validation Perfil) ► Todos los campos obligatorios del perfil están presentes.\n",
      "--- DEBUG CHECK PASAJEROS ---\n",
      "Input info pasajeros: frecuencia='frecuente' num_ninos_silla=0 num_otros_pasajeros=1\n",
      "DEBUG (Validation Pasajeros) ► Frecuencia='frecuente'. Niños silla y otros pasajeros tienen valor. Considerado COMPLETO.\n",
      "DEBUG (Validation Filtros) ► Todos los campos obligatorios de filtros ('tipo_mecanica') están presentes y válidos.\n",
      "--- DEBUG CHECK ECONOMIA (Manual) ---\n",
      "Input econ object: modo=2 submodo=None ingresos=None ahorro=None pago_contado=None cuota_max=None entrada=None anos_posesion=None\n",
      "DEBUG (Validation Economía Manual) ► Modo 2 INCOMPLETO (submodo inválido o None: None).\n",
      "DEBUG Router: Decisión -> recopilar_economia\n",
      "--- Ejecutando Nodo: recopilar_economia_node ---\n",
      "DEBUG (Economía) ► Llamando a llm_economia...\n"
     ]
    },
    {
     "name": "stderr",
     "output_type": "stream",
     "text": [
      "INFO (RAG): HTTP Request: POST https://api.openai.com/v1/chat/completions \"HTTP/1.1 200 OK\"\n",
      "INFO (RAG): Cargando índice FAISS desde ./faiss_carroceria_index...\n",
      "INFO (RAG): Loading faiss.\n"
     ]
    },
    {
     "name": "stdout",
     "output_type": "stream",
     "text": [
      "DEBUG (Economía) ► Respuesta llm_economia: economia=EconomiaUsuario(modo=2, submodo=1, ingresos=None, ahorro=None, pago_contado=16000.0, cuota_max=None, entrada=None, anos_posesion=None) mensaje_validacion='¡Perfecto! Has indicado que deseas pagar el coche al contado con un máximo de 16,000. ¿Hay algún otro detalle que te gustaría agregar?'\n",
      "DEBUG (Economía) ► Estado economía actualizado: modo=2 submodo=1 ingresos=None ahorro=None pago_contado=16000.0 cuota_max=None entrada=None anos_posesion=None\n",
      "DEBUG (Economía) ► Guardando pregunta pendiente: ¡Perfecto! Has indicado que deseas pagar el coche al contado con un máximo de 16,000. ¿Hay algún otro detalle que te gustaría agregar?\n",
      "--- Ejecutando Nodo: validar_economia_node ---\n",
      "--- DEBUG CHECK ECONOMIA (Manual) ---\n",
      "Input econ object: modo=2 submodo=1 ingresos=None ahorro=None pago_contado=16000.0 cuota_max=None entrada=None anos_posesion=None\n",
      "DEBUG (Validation Economía Manual) ► Modo 2/Submodo 1 completo (pago_contado presente).\n",
      "DEBUG (Economía) ► Validación: Economía considerada COMPLETA.\n",
      "--- Evaluando Condición: ruta_decision_economia ---\n",
      "--- DEBUG CHECK ECONOMIA (Manual) ---\n",
      "Input econ object: modo=2 submodo=1 ingresos=None ahorro=None pago_contado=16000.0 cuota_max=None entrada=None anos_posesion=None\n",
      "DEBUG (Validation Economía Manual) ► Modo 2/Submodo 1 completo (pago_contado presente).\n",
      "DEBUG (Condición Economía) ► Economía COMPLETA. Avanzando a finalizar.\n",
      "--- Ejecutando Nodo: finalizar_y_presentar_node ---\n",
      "DEBUG (Finalizar) ► Verificando si aplica lógica Modo 1...\n",
      "DEBUG (Finalizar) ► Modo no es 1, omitiendo cálculo de recomendación.\n",
      "DEBUG (Finalizar) ► Llamando a RAG...\n"
     ]
    },
    {
     "name": "stderr",
     "output_type": "stream",
     "text": [
      "INFO (RAG): Successfully loaded faiss.\n",
      "INFO (RAG): Failed to load GPU Faiss: name 'GpuIndexIVFFlat' is not defined. Will not load constructor refs for GPU indexes.\n",
      "INFO (RAG): Índice FAISS cargado exitosamente desde disco.\n",
      "INFO (RAG): INFO (RAG) ► Query RAG construida: 'campo ligero fuera de asfalto excursiones profesional versátil' con k=4\n"
     ]
    },
    {
     "name": "stdout",
     "output_type": "stream",
     "text": [
      "DEBUG (RAG Query Construida) ► Partes: ['campo', 'ligero fuera de asfalto', 'excursiones', 'profesional', 'versátil'] -> Query: 'campo ligero fuera de asfalto excursiones profesional versátil'\n"
     ]
    },
    {
     "name": "stderr",
     "output_type": "stream",
     "text": [
      "INFO (RAG): HTTP Request: POST https://api.openai.com/v1/embeddings \"HTTP/1.1 200 OK\"\n",
      "INFO (RAG): INFO (RAG) ► Tipos de carrocería recomendados por RAG (final, top 4): ['DESCAPOTABLE', 'TODOTERRENO', 'SUV', 'AUTOCARAVANA']\n"
     ]
    },
    {
     "name": "stdout",
     "output_type": "stream",
     "text": [
      "DEBUG (Finalizar) ► RAG recomendó: ['DESCAPOTABLE', 'TODOTERRENO', 'SUV', 'AUTOCARAVANA']\n",
      "DEBUG (Finalizar) ► Rating Tecnología (9) >= 7. Activando flag de penalización por antigüedad.\n",
      "DEBUG (Finalizar) ► Calculando pesos...\n",
      "DEBUG (Weights) ► Pesos crudos iniciales (est/prem/sing): {'estetica': 1.0, 'premium': 1.0, 'singular': 2.0}\n",
      "DEBUG (Weights) ► Pesos crudos tras añadir aventura: {'estetica': 1.0, 'premium': 1.0, 'singular': 2.0, 'altura_libre_suelo': 6.0, 'traccion': 4.0, 'reductoras': 1.0}\n",
      "DEBUG (Weights) ► Usuario alto. Asignando pesos a batalla/índice.\n",
      "DEBUG (Weights) ► Pesos crudos tras añadir dims por altura: {'estetica': 1.0, 'premium': 1.0, 'singular': 2.0, 'altura_libre_suelo': 6.0, 'traccion': 4.0, 'reductoras': 1.0, 'batalla': 5.0, 'indice_altura_interior': 4.0}\n",
      "DEBUG (Weights) ► Priorizar Ancho=False/None. Asignando peso crudo bajo a ancho: 1.0\n",
      "DEBUG (Weights) ► Peso crudo para devaluacion (basado en prioriza_baja_depreciacion='no'): 1.0\n",
      "DEBUG (Weights) ► Costes de Uso alto (10). Activando pesos para bajo consumo, bajo coste uso y mantenimiento.\n",
      "DEBUG (Weights) ► Pesos crudos tras añadir ratings: {'estetica': 1.0, 'premium': 1.0, 'singular': 2.0, 'altura_libre_suelo': 6.0, 'traccion': 4.0, 'reductoras': 1.0, 'batalla': 5.0, 'indice_altura_interior': 4.0, 'ancho': 1.0, 'devaluacion': 1.0, 'rating_fiabilidad_durabilidad': 8.0, 'rating_seguridad': 7.0, 'rating_comodidad': 6.0, 'rating_impacto_ambiental': 6.0, 'rating_tecnologia_conectividad': 9.0, 'maletero_minimo_score': 1.0, 'maletero_maximo_score': 1.0, 'largo_vehiculo_score': 1.0, 'autonomia_vehiculo': 1.0, 'fav_bajo_peso': 0.0, 'fav_bajo_consumo': 5.0, 'rating_costes_uso': 10.0, 'fav_bajo_coste_uso_directo': 9.0, 'fav_bajo_coste_mantenimiento_directo': 7.0}\n",
      "DEBUG (Normalize Weights) ► Pesos Normalizados: {'estetica': 0.010309278350515464, 'premium': 0.010309278350515464, 'singular': 0.020618556701030927, 'altura_libre_suelo': 0.061855670103092786, 'traccion': 0.041237113402061855, 'reductoras': 0.010309278350515464, 'batalla': 0.05154639175257732, 'indice_altura_interior': 0.041237113402061855, 'ancho': 0.010309278350515464, 'devaluacion': 0.010309278350515464, 'rating_fiabilidad_durabilidad': 0.08247422680412371, 'rating_seguridad': 0.07216494845360824, 'rating_comodidad': 0.061855670103092786, 'rating_impacto_ambiental': 0.061855670103092786, 'rating_tecnologia_conectividad': 0.09278350515463918, 'maletero_minimo_score': 0.010309278350515464, 'maletero_maximo_score': 0.010309278350515464, 'largo_vehiculo_score': 0.010309278350515464, 'autonomia_vehiculo': 0.010309278350515464, 'fav_bajo_peso': 0.0, 'fav_bajo_consumo': 0.05154639175257732, 'rating_costes_uso': 0.10309278350515463, 'fav_bajo_coste_uso_directo': 0.09278350515463918, 'fav_bajo_coste_mantenimiento_directo': 0.07216494845360824}\n",
      "DEBUG (Finalizar) ► Pesos calculados: {'estetica': 0.010309278350515464, 'premium': 0.010309278350515464, 'singular': 0.020618556701030927, 'altura_libre_suelo': 0.061855670103092786, 'traccion': 0.041237113402061855, 'reductoras': 0.010309278350515464, 'batalla': 0.05154639175257732, 'indice_altura_interior': 0.041237113402061855, 'ancho': 0.010309278350515464, 'devaluacion': 0.010309278350515464, 'rating_fiabilidad_durabilidad': 0.08247422680412371, 'rating_seguridad': 0.07216494845360824, 'rating_comodidad': 0.061855670103092786, 'rating_impacto_ambiental': 0.061855670103092786, 'rating_tecnologia_conectividad': 0.09278350515463918, 'maletero_minimo_score': 0.010309278350515464, 'maletero_maximo_score': 0.010309278350515464, 'largo_vehiculo_score': 0.010309278350515464, 'autonomia_vehiculo': 0.010309278350515464, 'fav_bajo_peso': 0.0, 'fav_bajo_consumo': 0.05154639175257732, 'rating_costes_uso': 0.10309278350515463, 'fav_bajo_coste_uso_directo': 0.09278350515463918, 'fav_bajo_coste_mantenimiento_directo': 0.07216494845360824}\n",
      "DEBUG (Finalizar) ► Formateando tabla final...\n",
      "\n",
      "--- TABLA RESUMEN GENERADA (DEBUG) ---\n",
      "✅ He entendido lo siguiente sobre tus preferencias:\n",
      "\n",
      "| Preferencia              | Valor                      |\n",
      "|--------------------------|----------------------------|\n",
      "| Apasionado del motor    | No |\n",
      "| Estética                | No prioritaria |\n",
      "| Principal del Hogar     | Sí |\n",
      "| Uso                     | Particular |\n",
      "| Tipo de coche           | No necesariamente eléctrico |\n",
      "| Diseño exclusivo        | No (Discreto) |\n",
      "| Altura                  | Mayor a 1.90 m |\n",
      "| Peso                    | Menor a 100 kg   |\n",
      "| Transmisión preferida   | Automático      |\n",
      "| Aventura                | Ocasional    |\n",
      "| Prioriza Baja Depreciación| No |\n",
      "\n",
      "📊 Importancia de Características (0-10):\n",
      "\n",
      "| Característica                   | Rating (0-10) |\n",
      "|----------------------------------|---------------|\n",
      "| Fiabilidad y Durabilidad         | 8 |\n",
      "| Seguridad                        | 7 |\n",
      "| Comodidad                        | 6 |\n",
      "| Impacto Ambiental                | 6 |\n",
      "| Costes de Uso/Mantenimiento      | 10 |\n",
      "| Tecnología y Conectividad        | 9 |\n",
      "\n",
      "🎯 Filtros técnicos inferidos:\n",
      "\n",
      "| Filtro técnico        | Valor                            |\n",
      "|-----------------------|----------------------------------|\n",
      "| Tipo de mecánica     | GASOLINA, BEV, HEVD, HEVG, PHEVD, PHEVG |\n",
      "| Tipo de carrocería   | DESCAPOTABLE, TODOTERRENO, SUV, AUTOCARAVANA |\n",
      "| Estética mínima      | 1.0 |\n",
      "| Premium mínima       | 1.0 |\n",
      "| Singularidad mínima  | 2.0 |\n",
      "\n",
      "💰 Economía del usuario:\n",
      "\n",
      "| Concepto                | Valor               |\n",
      "|-------------------------|---------------------|\n",
      "| Modo                    | Presupuesto Definido |\n",
      "| Años Posesión Estimados | No especificado |\n",
      "| Tipo de Pago            | Pago Contado |\n",
      "| Presupuesto Contado     | 16.000 € |\n",
      "--------------------------------------\n",
      "\n",
      "--- Ejecutando Nodo: buscar_coches_finales_node ---\n",
      "DEBUG (Buscar BQ Init) ► Estado completo recibido: {'messages': [HumanMessage(content='quiero un coche, mido 1.95 y peso 70 kg', additional_kwargs={}, response_metadata={}, id='d98492d3-893c-47b4-b9a3-74ad4020ceb9'), AIMessage(content='¡Hola! Soy CarBlau, tu asistente para encontrar el coche ideal. Para comenzar, ¿eres un apasionado del mundo automotriz?', additional_kwargs={}, response_metadata={}, id='2f2b6fd1-9390-4f70-aa94-7ab155276918'), HumanMessage(content='no', additional_kwargs={}, response_metadata={}, id='ecc85fc6-a838-4444-a2b4-6ca2c4822b84'), AIMessage(content='¿Valoras especialmente la estética del coche?', additional_kwargs={}, response_metadata={}, id='7ca3265a-435e-426d-8c83-c558a28661f3'), HumanMessage(content='no', additional_kwargs={}, response_metadata={}, id='a7d804ae-554a-4ee3-b779-17c256de3c45'), AIMessage(content='¿El coche que estamos buscando será el vehículo principal de tu hogar?', additional_kwargs={}, response_metadata={}, id='33013958-1035-4a7c-99ef-d38c3b05d09e'), HumanMessage(content='si, lo sera ', additional_kwargs={}, response_metadata={}, id='d07b4112-5ac0-4683-81e4-d784619dcfcc'), AIMessage(content='¿Usarás el coche para trabajo?', additional_kwargs={}, response_metadata={}, id='348d78ee-469c-4219-9248-59915380ec23'), HumanMessage(content='no', additional_kwargs={}, response_metadata={}, id='a06434be-4280-497e-9dcb-7403b18bd814'), AIMessage(content='¿Transportas con frecuencia equipaje o carga voluminosa?', additional_kwargs={}, response_metadata={}, id='5b54b61c-fad7-4654-b91f-1d04bd6e44e1'), HumanMessage(content='no', additional_kwargs={}, response_metadata={}, id='724a90ed-1621-463c-b393-e3d50d629b90'), AIMessage(content=\"¿Prefieres un diseño de coche que sea exclusivo y te diferencie del resto? (Responde 'sí' o 'no')\", additional_kwargs={}, response_metadata={}, id='33ed0675-7f09-465d-80a6-80a9113b585a'), HumanMessage(content='NO', additional_kwargs={}, response_metadata={}, id='2729db6a-2cbe-45e7-98cc-8038d9af74a2'), AIMessage(content='¿Quieres solo coches eléctricos?', additional_kwargs={}, response_metadata={}, id='18d6face-777d-497d-9f52-6af48800889c'), HumanMessage(content='no a combustion tambien', additional_kwargs={}, response_metadata={}, id='e0a06153-93de-48e3-b720-f82be7130a0a'), AIMessage(content='¿Qué tipo de transmisión prefieres? 1) Automático 2) Manual 3) Ambos', additional_kwargs={}, response_metadata={}, id='3ebaeff8-4db5-46fb-aade-c721b61bca9e'), HumanMessage(content='la 1', additional_kwargs={}, response_metadata={}, id='4c480a0b-53ca-45c6-85bd-be8bfbe3e2c7'), AIMessage(content='Para conocer tu espíritu aventurero, dime que prefieres:\\n 🛣️ Solo asfalto (ninguna)\\n 🌲 Salidas off‑road de vez en cuando (ocasional)\\n 🏔️ Aventurero extremo en terrenos difíciles (extrema)', additional_kwargs={}, response_metadata={}, id='aa256112-ed3a-476d-8313-f14b19a8fbcd'), HumanMessage(content='ocasional', additional_kwargs={}, response_metadata={}, id='51766c4b-e7da-40c3-a0ee-6c77bf13d4f4'), AIMessage(content='Para garantizar tu máxima comodidad, ¿tienes un peso superior a 100 kg?', additional_kwargs={}, response_metadata={}, id='d96e911d-30ff-400f-9509-5adefca45de3'), HumanMessage(content='no', additional_kwargs={}, response_metadata={}, id='1769cf28-1622-4ce3-a1e5-f38c48b022c7'), AIMessage(content=\"¿Es importante para ti que la depreciación del coche sea lo más baja posible? (Responde 'sí' o 'no')\", additional_kwargs={}, response_metadata={}, id='5f1c17ca-4a69-4eda-8ae3-cb53ce9821e8'), HumanMessage(content='no', additional_kwargs={}, response_metadata={}, id='eb90ba1e-5341-4ecd-90fd-24a398e13274'), AIMessage(content='En una escala de 0 (nada importante) a 10 (extremadamente importante), ¿qué tan importante es para ti la Fiabilidad y Durabilidad del coche?', additional_kwargs={}, response_metadata={}, id='09831719-ebed-40e8-84a1-e589f6967f48'), HumanMessage(content='8', additional_kwargs={}, response_metadata={}, id='cafec934-9dd4-47c9-976d-5c6fad29d634'), AIMessage(content='Pensando en la Seguridad, ¿qué puntuación le darías en importancia (0-10)?', additional_kwargs={}, response_metadata={}, id='df781fa3-126e-494b-abe0-fad9d3931df8'), HumanMessage(content='7', additional_kwargs={}, response_metadata={}, id='7971cf68-4ecb-4c80-a410-da68259d34d0'), AIMessage(content='Y en cuanto a la Comodidad y confort del vehiculo que tan importante es que se maximice? (0-10)', additional_kwargs={}, response_metadata={}, id='37819873-37b8-4aed-b634-2e7ec72392ce'), HumanMessage(content='6', additional_kwargs={}, response_metadata={}, id='22fea59f-02f8-413f-9447-7eb37db65f8a'), AIMessage(content='Considerando el Bajo Impacto Medioambiental, ¿qué importancia tiene esto para tu elección (0-10)?', additional_kwargs={}, response_metadata={}, id='934a9204-1742-4c09-9d8e-21b6bcd8acfd'), HumanMessage(content='6', additional_kwargs={}, response_metadata={}, id='060610ff-5ec4-4589-97dd-45ca8f4fd863'), AIMessage(content='Finalmente, para la Tecnología y Conectividad del coche, ¿qué tan relevante es para ti (0-10)?', additional_kwargs={}, response_metadata={}, id='9dedcd6b-4901-41e1-8b07-8969ed35eded'), HumanMessage(content='9', additional_kwargs={}, response_metadata={}, id='f6e86ec9-4712-47a7-a170-a8a53eb441d1'), AIMessage(content='ahora, ¿qué tan importante es para ti que el vehículo sea económico en su uso diario y mantenimiento? (0-10)?', additional_kwargs={}, response_metadata={}, id='94690329-cab4-4d16-b686-c2f786c0087d'), HumanMessage(content='10', additional_kwargs={}, response_metadata={}, id='3ed19b14-21f1-4f95-aae2-a85c894ffb19'), AIMessage(content='Cuéntame, ¿sueles viajar con acompañantes en el coche habitualmente? ¿cuantos?', additional_kwargs={}, response_metadata={}, id='312cc98d-5d5b-49de-b090-6cec76c1a3a0'), HumanMessage(content='con una persona adulta,no ninos', additional_kwargs={}, response_metadata={}, id='319851ca-ebd0-4493-a8a1-fc56cd2fc16d'), AIMessage(content='Entendido, con 1. ¿Hay también niños que necesiten sillita de seguridad?', additional_kwargs={}, response_metadata={}, id='2a0ec92b-40d6-4f97-8d46-73b44ac0556a'), HumanMessage(content='no', additional_kwargs={}, response_metadata={}, id='b2650a06-8c30-4b30-aa4a-9c0773627b5a'), AIMessage(content='Con el fin de conocer tus preferencias financieras que opcion prefieres:\\n  1. Prefiero que me aconsejes con criterios de inteligencia financiera.\\n  2. Prefiero indicar yo mismo cuánto y cómo gastar.', additional_kwargs={}, response_metadata={}, id='fb187d38-86e2-46d7-9953-9319f295ad24'), HumanMessage(content='la 2', additional_kwargs={}, response_metadata={}, id='45f2fba5-1393-49db-b40a-daaceaeb6d80'), AIMessage(content='De acuerdo, tú defines el presupuesto. Que opción prefieres?\\n 1) Tienes pensado pagar el coche al contado\\n 2) prefieres financiarlo en cuotas mensuales', additional_kwargs={}, response_metadata={}, id='8b6942d5-9e0a-405d-b985-fe335253d8bb'), HumanMessage(content='contado con 16.000 maximo', additional_kwargs={}, response_metadata={}, id='e1f58916-4151-4ca0-b527-ffe6e352322a'), AIMessage(content='✅ He entendido lo siguiente sobre tus preferencias:\\n\\n| Preferencia              | Valor                      |\\n|--------------------------|----------------------------|\\n| Apasionado del motor    | No |\\n| Estética                | No prioritaria |\\n| Principal del Hogar     | Sí |\\n| Uso                     | Particular |\\n| Tipo de coche           | No necesariamente eléctrico |\\n| Diseño exclusivo        | No (Discreto) |\\n| Altura                  | Mayor a 1.90 m |\\n| Peso                    | Menor a 100 kg   |\\n| Transmisión preferida   | Automático      |\\n| Aventura                | Ocasional    |\\n| Prioriza Baja Depreciación| No |\\n\\n📊 Importancia de Características (0-10):\\n\\n| Característica                   | Rating (0-10) |\\n|----------------------------------|---------------|\\n| Fiabilidad y Durabilidad         | 8 |\\n| Seguridad                        | 7 |\\n| Comodidad                        | 6 |\\n| Impacto Ambiental                | 6 |\\n| Costes de Uso/Mantenimiento      | 10 |\\n| Tecnología y Conectividad        | 9 |\\n\\n🎯 Filtros técnicos inferidos:\\n\\n| Filtro técnico        | Valor                            |\\n|-----------------------|----------------------------------|\\n| Tipo de mecánica     | GASOLINA, BEV, HEVD, HEVG, PHEVD, PHEVG |\\n| Tipo de carrocería   | DESCAPOTABLE, TODOTERRENO, SUV, AUTOCARAVANA |\\n| Estética mínima      | 1.0 |\\n| Premium mínima       | 1.0 |\\n| Singularidad mínima  | 2.0 |\\n\\n💰 Economía del usuario:\\n\\n| Concepto                | Valor               |\\n|-------------------------|---------------------|\\n| Modo                    | Presupuesto Definido |\\n| Años Posesión Estimados | No especificado |\\n| Tipo de Pago            | Pago Contado |\\n| Presupuesto Contado     | 16.000 € |', additional_kwargs={}, response_metadata={}, id='9ede8b08-46c3-4732-9615-e82b5157123e')], 'preferencias_usuario': PerfilUsuario(apasionado_motor='no', valora_estetica='no', coche_principal_hogar='sí', uso_profesional='no', tipo_uso_profesional=None, prefiere_diseno_exclusivo='no', aventura=<NivelAventura.ocasional: 'ocasional'>, transporta_carga_voluminosa='no', necesita_espacio_objetos_especiales=None, altura_mayor_190='sí', peso_mayor_100='no', solo_electricos='no', transmision_preferida=<Transmision.AUTOMATICO: 'automático'>, rating_fiabilidad_durabilidad=8, rating_seguridad=7, rating_comodidad=6, rating_impacto_ambiental=6, rating_costes_uso=10, rating_tecnologia_conectividad=9, prioriza_baja_depreciacion='no'), 'filtros_inferidos': FiltrosInferidos(estetica_min=1.0, tipo_mecanica=[<TipoMecanica.GASOLINA: 'GASOLINA'>, <TipoMecanica.BEV: 'BEV'>, <TipoMecanica.HEVD: 'HEVD'>, <TipoMecanica.HEVG: 'HEVG'>, <TipoMecanica.PHEVD: 'PHEVD'>, <TipoMecanica.PHEVG: 'PHEVG'>], premium_min=1.0, singular_min=2.0, tipo_carroceria=['DESCAPOTABLE', 'TODOTERRENO', 'SUV', 'AUTOCARAVANA'], modo_adquisicion_recomendado=None, precio_max_contado_recomendado=None, cuota_max_calculada=None, plazas_min=2), 'economia': EconomiaUsuario(modo=2, submodo=1, ingresos=None, ahorro=None, pago_contado=16000.0, cuota_max=None, entrada=None, anos_posesion=None), 'pesos': {'estetica': 0.010309278350515464, 'premium': 0.010309278350515464, 'singular': 0.020618556701030927, 'altura_libre_suelo': 0.061855670103092786, 'traccion': 0.041237113402061855, 'reductoras': 0.010309278350515464, 'batalla': 0.05154639175257732, 'indice_altura_interior': 0.041237113402061855, 'ancho': 0.010309278350515464, 'devaluacion': 0.010309278350515464, 'rating_fiabilidad_durabilidad': 0.08247422680412371, 'rating_seguridad': 0.07216494845360824, 'rating_comodidad': 0.061855670103092786, 'rating_impacto_ambiental': 0.061855670103092786, 'rating_tecnologia_conectividad': 0.09278350515463918, 'maletero_minimo_score': 0.010309278350515464, 'maletero_maximo_score': 0.010309278350515464, 'largo_vehiculo_score': 0.010309278350515464, 'autonomia_vehiculo': 0.010309278350515464, 'fav_bajo_peso': 0.0, 'fav_bajo_consumo': 0.05154639175257732, 'rating_costes_uso': 0.10309278350515463, 'fav_bajo_coste_uso_directo': 0.09278350515463918, 'fav_bajo_coste_mantenimiento_directo': 0.07216494845360824}, 'pregunta_pendiente': None, 'coches_recomendados': None, 'info_pasajeros': InfoPasajeros(frecuencia='frecuente', num_ninos_silla=0, num_otros_pasajeros=1), 'penalizar_puertas_bajas': False, 'priorizar_ancho': False, 'flag_penalizar_low_cost_comodidad': False, 'flag_penalizar_deportividad_comodidad': False, 'flag_penalizar_antiguo_por_tecnologia': True, 'aplicar_logica_distintivo_ambiental': False, 'tabla_resumen_criterios': '✅ He entendido lo siguiente sobre tus preferencias:\\n\\n| Preferencia              | Valor                      |\\n|--------------------------|----------------------------|\\n| Apasionado del motor    | No |\\n| Estética                | No prioritaria |\\n| Principal del Hogar     | Sí |\\n| Uso                     | Particular |\\n| Tipo de coche           | No necesariamente eléctrico |\\n| Diseño exclusivo        | No (Discreto) |\\n| Altura                  | Mayor a 1.90 m |\\n| Peso                    | Menor a 100 kg   |\\n| Transmisión preferida   | Automático      |\\n| Aventura                | Ocasional    |\\n| Prioriza Baja Depreciación| No |\\n\\n📊 Importancia de Características (0-10):\\n\\n| Característica                   | Rating (0-10) |\\n|----------------------------------|---------------|\\n| Fiabilidad y Durabilidad         | 8 |\\n| Seguridad                        | 7 |\\n| Comodidad                        | 6 |\\n| Impacto Ambiental                | 6 |\\n| Costes de Uso/Mantenimiento      | 10 |\\n| Tecnología y Conectividad        | 9 |\\n\\n🎯 Filtros técnicos inferidos:\\n\\n| Filtro técnico        | Valor                            |\\n|-----------------------|----------------------------------|\\n| Tipo de mecánica     | GASOLINA, BEV, HEVD, HEVG, PHEVD, PHEVG |\\n| Tipo de carrocería   | DESCAPOTABLE, TODOTERRENO, SUV, AUTOCARAVANA |\\n| Estética mínima      | 1.0 |\\n| Premium mínima       | 1.0 |\\n| Singularidad mínima  | 2.0 |\\n\\n💰 Economía del usuario:\\n\\n| Concepto                | Valor               |\\n|-------------------------|---------------------|\\n| Modo                    | Presupuesto Definido |\\n| Años Posesión Estimados | No especificado |\\n| Tipo de Pago            | Pago Contado |\\n| Presupuesto Contado     | 16.000 € |'}\n",
      "DEBUG (Buscar BQ) ► Llamando a buscar_coches_bq con k=7\n",
      "DEBUG (Buscar BQ) ► Filtros para BQ: {'estetica_min': 1.0, 'tipo_mecanica': ['GASOLINA', 'BEV', 'HEVD', 'HEVG', 'PHEVD', 'PHEVG'], 'premium_min': 1.0, 'singular_min': 2.0, 'tipo_carroceria': ['DESCAPOTABLE', 'TODOTERRENO', 'SUV', 'AUTOCARAVANA'], 'plazas_min': 2, 'modo': 2, 'submodo': 1, 'pago_contado': 16000.0, 'penalizar_puertas_bajas': False, 'flag_penalizar_low_cost_comodidad': False, 'flag_penalizar_deportividad_comodidad': False, 'flag_penalizar_antiguo_por_tecnologia': True, 'aplicar_logica_distintivo_ambiental': False}\n",
      "DEBUG (Buscar BQ) ► Pesos para BQ: {'estetica': 0.010309278350515464, 'premium': 0.010309278350515464, 'singular': 0.020618556701030927, 'altura_libre_suelo': 0.061855670103092786, 'traccion': 0.041237113402061855, 'reductoras': 0.010309278350515464, 'batalla': 0.05154639175257732, 'indice_altura_interior': 0.041237113402061855, 'ancho': 0.010309278350515464, 'devaluacion': 0.010309278350515464, 'rating_fiabilidad_durabilidad': 0.08247422680412371, 'rating_seguridad': 0.07216494845360824, 'rating_comodidad': 0.061855670103092786, 'rating_impacto_ambiental': 0.061855670103092786, 'rating_tecnologia_conectividad': 0.09278350515463918, 'maletero_minimo_score': 0.010309278350515464, 'maletero_maximo_score': 0.010309278350515464, 'largo_vehiculo_score': 0.010309278350515464, 'autonomia_vehiculo': 0.010309278350515464, 'fav_bajo_peso': 0.0, 'fav_bajo_consumo': 0.05154639175257732, 'rating_costes_uso': 0.10309278350515463, 'fav_bajo_coste_uso_directo': 0.09278350515463918, 'fav_bajo_coste_mantenimiento_directo': 0.07216494845360824}\n",
      "--- 🧠 SQL Query (Paso a Paso) ---\n",
      " \n",
      "    WITH ScaledData AS (\n",
      "        SELECT\n",
      "            *,\n",
      "            COALESCE(SAFE_DIVIDE(COALESCE(estetica, 1.0) - 1.0, NULLIF(10.0 - 1.0, 0)), 0) AS estetica_scaled,\n",
      "            COALESCE(SAFE_DIVIDE(COALESCE(premium, 1.0) - 1.0, NULLIF(10.0 - 1.0, 0)), 0) AS premium_scaled,\n",
      "            COALESCE(SAFE_DIVIDE(COALESCE(singular, 1.0) - 1.0, NULLIF(10.0 - 1.0, 0)), 0) AS singular_scaled,\n",
      "            COALESCE(SAFE_DIVIDE(COALESCE(altura_libre_suelo, 79.0) - 79.0, NULLIF(314.0 - 79.0, 0)), 0) AS altura_scaled,\n",
      "            COALESCE(SAFE_DIVIDE(COALESCE(batalla, 1650.0) - 1650.0, NULLIF(4035.0 - 1650.0, 0)), 0) AS batalla_scaled,\n",
      "            COALESCE(SAFE_DIVIDE(COALESCE(indice_altura_interior, 0.9) - 0.9, NULLIF(2.7 - 0.9, 0)), 0) AS indice_altura_scaled,\n",
      "            COALESCE(SAFE_DIVIDE(COALESCE(ancho, 1410.0) - 1410.0, NULLIF(2164.0 - 1410.0, 0)), 0) AS ancho_scaled,\n",
      "            -- CAMPOS ESCALADOS PARA NUEVOS RATINGS --\n",
      "            COALESCE(SAFE_DIVIDE(COALESCE(fiabilidad, 1.0) - 1.0, NULLIF(10.0 - 1.0, 0)), 0) AS fiabilidad_scaled,\n",
      "            COALESCE(SAFE_DIVIDE(COALESCE(durabilidad, 1.0) - 1.0, NULLIF(10.0 - 1.0, 0)), 0) AS durabilidad_scaled,\n",
      "            COALESCE(SAFE_DIVIDE(COALESCE(seguridad, 1.0) - 1.0, NULLIF(10.0 - 1.0, 0)), 0) AS seguridad_scaled,\n",
      "            COALESCE(SAFE_DIVIDE(COALESCE(comodidad, 1.0) - 1.0, NULLIF(10.0 - 1.0, 0)), 0) AS comodidad_scaled,\n",
      "              -- --- NUEVOS CAMPOS ESCALADOS (INVERTIDOS PORQUE MENOR ES MEJOR) ---\n",
      "            COALESCE(SAFE_DIVIDE(31.0 - COALESCE(costes_de_uso, 31.0), NULLIF(31.0 - 3.0, 0)), 0) AS costes_de_uso_scaled,\n",
      "            COALESCE(SAFE_DIVIDE(10.0 - COALESCE(costes_mantenimiento, 10.0), NULLIF(10.0 - 1.0, 0)), 0) AS costes_mantenimiento_scaled,\n",
      "            -- --- FIN NUEVOS CAMPOS ESCALADOS ---\n",
      "            COALESCE(SAFE_DIVIDE(COALESCE(tecnologia, 1.0) - 1.0, NULLIF(10.0 - 1.0, 0)), 0) AS tecnologia_scaled, -- <-- Nuevo escalado\n",
      "            -- CAMPOS ESCALADOS PARA PENALIZACIONES --\n",
      "            COALESCE(SAFE_DIVIDE(COALESCE(acceso_low_cost, 1.0) - 1.0, NULLIF(10.0 - 1.0, 0)), 0) AS acceso_low_cost_scaled,\n",
      "            COALESCE(SAFE_DIVIDE(COALESCE(deportividad, 1.0) - 1.0, NULLIF(10.0 - 1.0, 0)), 0) AS deportividad_scaled,\n",
      "            COALESCE(SAFE_DIVIDE(COALESCE(devaluacion, 0.0) - 0.0, NULLIF(10.0 - 0.0, 0)), 0) AS devaluacion_scaled,\n",
      "            COALESCE(SAFE_DIVIDE(COALESCE(maletero_minimo, 11.0) - 11.0, NULLIF(15000.0 - 11.0, 0)), 0) AS maletero_minimo_scaled,\n",
      "            COALESCE(SAFE_DIVIDE(COALESCE(maletero_maximo, 11.0) - 11.0, NULLIF(15000.0 - 11.0, 0)), 0) AS maletero_maximo_scaled,\n",
      "            COALESCE(SAFE_DIVIDE(COALESCE(largo, 2450.0) - 2450.0, NULLIF(6400.0 - 2450.0, 0)), 0) AS largo_scaled,\n",
      "            COALESCE(SAFE_DIVIDE(COALESCE(autonomia_uso_maxima, 30.8) - 30.8, NULLIF(1582.4 - 30.8, 0)), 0) AS autonomia_uso_maxima_scaled,\n",
      "            -- Mapeos existentes --\n",
      "            CASE WHEN traccion = 'ALL' THEN 1.0 WHEN traccion = 'RWD' THEN 0.5 ELSE 0.0 END AS traccion_scaled,\n",
      "            -- --- NUEVOS CAMPOS ESCALADOS (INVERTIDOS) ---\n",
      "            COALESCE(SAFE_DIVIDE(3500.0 - COALESCE(peso, 3500.0), NULLIF(3500.0 - 470.0, 0)), 0) AS bajo_peso_scaled, -- Invertido\n",
      "            COALESCE(SAFE_DIVIDE(133.0 - COALESCE(indice_consumo_energia, 133.0), NULLIF(133.0 - 7.4, 0)), 0) AS bajo_consumo_scaled, -- Invertido\n",
      "            (CASE WHEN COALESCE(reductoras, FALSE) THEN 1.0 ELSE 0.0 END) AS reductoras_scaled,\n",
      "            (CASE WHEN @penalizar_puertas = TRUE AND puertas <= 3 THEN -0.15 ELSE 0.0 END) AS puertas_penalty\n",
      "        FROM\n",
      "            `thecarmentor-mvp2.web_cars.match_coches_pruebas`\n",
      "    )\n",
      "    SELECT\n",
      "      -- Añade las nuevas columnas BQ si quieres ver sus valores originales:\n",
      "      nombre, ID, modelo, cambio_automatico, tipo_mecanica, tipo_carroceria, \n",
      "      indice_altura_interior, estetica, premium, singular,  seguridad, comodidad, acceso_low_cost, deportividad, tecnologia, devaluacion, altura_libre_suelo, maletero_minimo, maletero_maximo,\n",
      "      traccion, reductoras, plazas, precio_compra_contado, largo, autonomia_uso_maxima, distintivo_ambiental, anos_vehiculo, ocasion,\n",
      "      peso AS peso_original_kg, indice_consumo_energia AS consumo_original, costes_de_uso, costes_mantenimiento, -- <-- Nuevas columnas originales\n",
      "      \n",
      "      ( \n",
      "        estetica_scaled * @peso_estetica \n",
      "        + premium_scaled * @peso_premium\n",
      "        + singular_scaled * @peso_singular\n",
      "        + altura_scaled * @peso_altura\n",
      "        + batalla_scaled * @peso_batalla \n",
      "        + indice_altura_scaled * @peso_indice_altura\n",
      "        + ancho_scaled * @peso_ancho \n",
      "        + traccion_scaled * @peso_traccion\n",
      "        + reductoras_scaled * @peso_reductoras\n",
      "        + puertas_penalty\n",
      "        -- NUEVOS TÉRMINOS DE SCORE PARA RATINGS --\n",
      "        + fiabilidad_scaled * @peso_rating_fiabilidad_durabilidad  \n",
      "        + durabilidad_scaled * @peso_rating_fiabilidad_durabilidad -- Usando el mismo peso para ambas\n",
      "        + seguridad_scaled * @peso_rating_seguridad               \n",
      "        + comodidad_scaled * @peso_rating_comodidad\n",
      "        + fiabilidad_scaled * @peso_rating_impacto_ambiental  -- P4 (Impacto Ambiental) usa fiabilidad_scaled\n",
      "        + durabilidad_scaled * @peso_rating_impacto_ambiental -- P4 (Impacto Ambiental) usa durabilidad_scaled (si así lo defines)\n",
      "        + tecnologia_scaled * @peso_rating_tecnologia_conectividad -- P6\n",
      "        + maletero_minimo_scaled * @peso_maletero_minimo_score\n",
      "        + maletero_maximo_scaled * @peso_maletero_maximo_score\n",
      "        + largo_scaled * @peso_largo_vehiculo_score\n",
      "        + devaluacion_scaled * @peso_devaluacion\n",
      "        + autonomia_uso_maxima_scaled * @peso_autonomia_vehiculo\n",
      "        -- Estos se activan si el peso correspondiente es > 0 (calculado en compute_raw_weights)\n",
      "        + bajo_peso_scaled * @peso_fav_bajo_peso\n",
      "        + bajo_consumo_scaled * @peso_fav_bajo_consumo\n",
      "        -- --- NUEVOS TÉRMINOS DE SCORE PARA COSTES DE USO Y MANTENIMIENTO ---\n",
      "        + costes_de_uso_scaled * @peso_fav_bajo_coste_uso_directo\n",
      "        + costes_mantenimiento_scaled * @peso_fav_bajo_coste_mantenimiento_directo\n",
      "        -- --- FIN NUEVOS TÉRMINOS ---\n",
      "        -- PENALIZACIONES POR COMODIDAD y  ANTIGÜEDAD--\n",
      "        + (CASE WHEN @flag_penalizar_low_cost_comodidad = TRUE AND acceso_low_cost_scaled >= 0.7 THEN -0.2 ELSE 0.0 END)\n",
      "        + (CASE WHEN @flag_penalizar_deportividad_comodidad = TRUE AND deportividad_scaled >= 0.7 THEN -0.2 ELSE 0.0 END)\n",
      "        + (CASE WHEN @flag_penalizar_antiguo_tec = TRUE THEN\n",
      "                 CASE\n",
      "                     WHEN anos_vehiculo > 10 THEN -0.45\n",
      "                     WHEN anos_vehiculo > 7  THEN -0.3\n",
      "                     WHEN anos_vehiculo > 5  THEN -0.15\n",
      "                     ELSE 0.0 \n",
      "                 END\n",
      "             ELSE 0.0 \n",
      "           END)\n",
      "        -- --- NUEVA LÓGICA PARA DISTINTIVO AMBIENTAL ---\n",
      "        + (CASE\n",
      "             WHEN @flag_aplicar_logica_distintivo = TRUE THEN\n",
      "                 CASE\n",
      "                     WHEN distintivo_ambiental IN ('0', 'ECO', 'C') THEN 0.2\n",
      "                     WHEN distintivo_ambiental IN ('B', 'NA') THEN -0.5\n",
      "                     ELSE 0.0 -- Para otros distintivos o si es NULL\n",
      "                 END\n",
      "             ELSE 0.0 -- Si el flag no está activo\n",
      "           END)\n",
      "        -- --- NUEVA LÓGICA PARA FAVORECER 'ocasion' ---\n",
      "        + (CASE\n",
      "             WHEN @flag_aplicar_logica_distintivo = TRUE AND COALESCE(ocasion, FALSE) = TRUE THEN 0.2\n",
      "             ELSE 0.0\n",
      "           END)\n",
      "        -- --- FIN NUEVA LÓGICA 'ocasion' ---\n",
      "      ) AS score_total\n",
      "    FROM ScaledData\n",
      "    WHERE 1=1 \n",
      "    \n",
      "      AND COALESCE(estetica, 0) >= @estetica_min\n",
      "      AND COALESCE(premium, 0) >= @premium_min\n",
      "      AND COALESCE(singular, 0) >= @singular_min\n",
      "      AND plazas >= @plazas_min\n",
      "      AND tipo_mecanica IN UNNEST(@tipos_mecanica)\n",
      "      AND tipo_carroceria IN UNNEST(@tipos_carroceria)\n",
      "      AND COALESCE(precio_compra_contado, 999999999) <= @precio_maximo\n",
      "    ORDER BY score_total DESC, precio_compra_contado ASC\n",
      "    LIMIT @k\n",
      "\n",
      "--- 📦 Parameters (Paso a Paso) ---\n",
      " [('peso_estetica', 0.010309278350515464), ('peso_premium', 0.010309278350515464), ('peso_singular', 0.020618556701030927), ('peso_altura', 0.061855670103092786), ('peso_batalla', 0.05154639175257732), ('peso_indice_altura', 0.041237113402061855), ('peso_ancho', 0.010309278350515464), ('peso_traccion', 0.041237113402061855), ('peso_reductoras', 0.010309278350515464), ('penalizar_puertas', False), ('peso_rating_fiabilidad_durabilidad', 0.08247422680412371), ('peso_rating_seguridad', 0.07216494845360824), ('peso_rating_comodidad', 0.061855670103092786), ('peso_rating_impacto_ambiental', 0.061855670103092786), ('peso_rating_tecnologia_conectividad', 0.09278350515463918), ('peso_rating_costes_uso', 0.10309278350515463), ('peso_fav_bajo_coste_uso_directo', 0.09278350515463918), ('peso_fav_bajo_coste_mantenimiento_directo', 0.07216494845360824), ('peso_devaluacion', 0.0), ('peso_maletero_minimo_score', 0.010309278350515464), ('peso_maletero_maximo_score', 0.010309278350515464), ('peso_largo_vehiculo_score', 0.010309278350515464), ('peso_autonomia_vehiculo', 0.010309278350515464), ('peso_fav_bajo_peso', 0.0), ('peso_fav_bajo_consumo', 0.05154639175257732), ('flag_penalizar_low_cost_comodidad', False), ('flag_penalizar_deportividad_comodidad', False), ('flag_penalizar_antiguo_tec', False), ('flag_aplicar_logica_distintivo', False), ('k', 7), ('estetica_min', 1.0), ('premium_min', 1.0), ('singular_min', 2.0), ('plazas_min', 2), ('tipos_mecanica', ['GASOLINA', 'BEV', 'HEVD', 'HEVG', 'PHEVD', 'PHEVG']), ('tipos_carroceria', ['DESCAPOTABLE', 'TODOTERRENO', 'SUV', 'AUTOCARAVANA']), ('precio_maximo', 16000.0)]\n"
     ]
    },
    {
     "name": "stderr",
     "output_type": "stream",
     "text": [
      "INFO (RAG): ✅ (Paso a Paso) BigQuery query ejecutada, 7 resultados obtenidos.\n",
      "INFO (RAG): Log de búsqueda para conversación 'unknown_thread' insertado en BigQuery.\n"
     ]
    },
    {
     "name": "stdout",
     "output_type": "stream",
     "text": [
      "INFO (BQ Logger) ► Log para 'unknown_thread' guardado en BQ.\n",
      "==================================\u001b[1m Ai Message \u001b[0m==================================\n",
      "\n",
      "¡Listo! Basado en todo lo que hablamos, aquí tienes 7 coche(s) que podrían interesarte:\n",
      "\n",
      "| nombre                                      | precio_compra_contado   |   score_total | tipo_carroceria   | tipo_mecanica   |   plazas | traccion   | reductoras   |   estetica |   premium |   singular |   altura_libre_suelo |   indice_altura_interior | cambio_automatico   |\n",
      "|:--------------------------------------------|:------------------------|--------------:|:------------------|:----------------|---------:|:-----------|:-------------|-----------:|----------:|-----------:|---------------------:|-------------------------:|:--------------------|\n",
      "| Honda HR-V 1.5 i-VTEC Elegance CVT          | 14.990€                 |         0.683 | SUV               | GASOLINA        |        5 | FWD        | False        |          5 |         5 |          3 |                  170 |                    1.435 | True                |\n",
      "| Honda HR-V 1.5 i-VTEC Elegance CVT          | 15.990€                 |         0.683 | SUV               | GASOLINA        |        5 | FWD        | False        |          5 |         5 |          3 |                  170 |                    1.435 | True                |\n",
      "| Nissan Qashqai 1.2 DIG-T N-CONNECTA XTronic | 15.590€                 |         0.66  | SUV               | GASOLINA        |        5 | FWD        | False        |          4 |         2 |          2 |                  180 |                    1.41  | True                |\n",
      "| Nissan Qashqai 1.2 DIG-T N-CONNECTA XTronic | 15.849€                 |         0.66  | SUV               | GASOLINA        |        5 | FWD        | False        |          4 |         2 |          2 |                  180 |                    1.41  | True                |\n",
      "| Nissan Qashqai 1.2 DIG-T Tekna XTronic      | 14.500€                 |         0.66  | SUV               | GASOLINA        |        5 | FWD        | False        |          4 |         2 |          2 |                  180 |                    1.41  | True                |\n",
      "| Nissan Qashqai 1.2 DIG-T N-CONNECTA         | 15.999€                 |         0.66  | SUV               | GASOLINA        |        5 | FWD        | False        |          4 |         2 |          2 |                  180 |                    1.41  | False               |\n",
      "| Nissan Qashqai 1.6 DIG-T N-CONNECTA         | 15.749€                 |         0.659 | SUV               | GASOLINA        |        5 | FWD        | False        |          4 |         2 |          2 |                  180 |                    1.41  | False               |\n",
      "\n",
      "¿Qué te parecen estas opciones? ¿Hay alguno que te interese para ver más detalles o hacemos otra búsqueda?\n"
     ]
    }
   ],
   "source": [
    "# Create a thread\n",
    "config = {\"configurable\": {\"thread_id\": \"1\"}}\n",
    "\n",
    "# Start conversation\n",
    "input_message = HumanMessage(content=\"contado con 16.000 maximo\")\n",
    "output = graph.invoke({\"messages\": [input_message]}, config) \n",
    "for m in output['messages'][-1:]:\n",
    "    m.pretty_print()"
   ]
  },
  {
   "cell_type": "code",
   "execution_count": null,
   "metadata": {},
   "outputs": [
    {
     "name": "stdout",
     "output_type": "stream",
     "text": [
      "\n",
      "--- Vista DataFrame (Pandas Display Options) ---\n"
     ]
    },
    {
     "data": {
      "text/html": [
       "<div>\n",
       "<style scoped>\n",
       "    .dataframe tbody tr th:only-of-type {\n",
       "        vertical-align: middle;\n",
       "    }\n",
       "\n",
       "    .dataframe tbody tr th {\n",
       "        vertical-align: top;\n",
       "    }\n",
       "\n",
       "    .dataframe thead th {\n",
       "        text-align: right;\n",
       "    }\n",
       "</style>\n",
       "<table border=\"1\" class=\"dataframe\">\n",
       "  <thead>\n",
       "    <tr style=\"text-align: right;\">\n",
       "      <th></th>\n",
       "      <th>nombre</th>\n",
       "      <th>ID</th>\n",
       "      <th>modelo</th>\n",
       "      <th>cambio_automatico</th>\n",
       "      <th>tipo_mecanica</th>\n",
       "      <th>tipo_carroceria</th>\n",
       "      <th>indice_altura_interior</th>\n",
       "      <th>estetica</th>\n",
       "      <th>premium</th>\n",
       "      <th>singular</th>\n",
       "      <th>...</th>\n",
       "      <th>largo</th>\n",
       "      <th>autonomia_uso_maxima</th>\n",
       "      <th>distintivo_ambiental</th>\n",
       "      <th>anos_vehiculo</th>\n",
       "      <th>ocasion</th>\n",
       "      <th>peso_original_kg</th>\n",
       "      <th>consumo_original</th>\n",
       "      <th>costes_de_uso</th>\n",
       "      <th>costes_mantenimiento</th>\n",
       "      <th>score_total</th>\n",
       "    </tr>\n",
       "  </thead>\n",
       "  <tbody>\n",
       "    <tr>\n",
       "      <th>0</th>\n",
       "      <td>Honda HR-V 1.5 i-VTEC Elegance CVT</td>\n",
       "      <td>250149</td>\n",
       "      <td>HR-V</td>\n",
       "      <td>True</td>\n",
       "      <td>GASOLINA</td>\n",
       "      <td>SUV</td>\n",
       "      <td>1.435</td>\n",
       "      <td>5.0</td>\n",
       "      <td>5.0</td>\n",
       "      <td>3.0</td>\n",
       "      <td>...</td>\n",
       "      <td>4294.0</td>\n",
       "      <td>752.5</td>\n",
       "      <td>C</td>\n",
       "      <td>8</td>\n",
       "      <td>True</td>\n",
       "      <td>1320.0</td>\n",
       "      <td>40.3</td>\n",
       "      <td>9.3</td>\n",
       "      <td>5.0</td>\n",
       "      <td>0.682952</td>\n",
       "    </tr>\n",
       "    <tr>\n",
       "      <th>1</th>\n",
       "      <td>Honda HR-V 1.5 i-VTEC Elegance CVT</td>\n",
       "      <td>250149</td>\n",
       "      <td>HR-V</td>\n",
       "      <td>True</td>\n",
       "      <td>GASOLINA</td>\n",
       "      <td>SUV</td>\n",
       "      <td>1.435</td>\n",
       "      <td>5.0</td>\n",
       "      <td>5.0</td>\n",
       "      <td>3.0</td>\n",
       "      <td>...</td>\n",
       "      <td>4294.0</td>\n",
       "      <td>752.5</td>\n",
       "      <td>C</td>\n",
       "      <td>8</td>\n",
       "      <td>True</td>\n",
       "      <td>1320.0</td>\n",
       "      <td>40.3</td>\n",
       "      <td>9.3</td>\n",
       "      <td>5.0</td>\n",
       "      <td>0.682952</td>\n",
       "    </tr>\n",
       "    <tr>\n",
       "      <th>2</th>\n",
       "      <td>Nissan Qashqai 1.2 DIG-T N-CONNECTA XTronic</td>\n",
       "      <td>281063</td>\n",
       "      <td>Qashqai</td>\n",
       "      <td>True</td>\n",
       "      <td>GASOLINA</td>\n",
       "      <td>SUV</td>\n",
       "      <td>1.410</td>\n",
       "      <td>4.0</td>\n",
       "      <td>2.0</td>\n",
       "      <td>2.0</td>\n",
       "      <td>...</td>\n",
       "      <td>4394.0</td>\n",
       "      <td>768.6</td>\n",
       "      <td>C</td>\n",
       "      <td>7</td>\n",
       "      <td>True</td>\n",
       "      <td>1360.0</td>\n",
       "      <td>42.1</td>\n",
       "      <td>10.0</td>\n",
       "      <td>4.0</td>\n",
       "      <td>0.659632</td>\n",
       "    </tr>\n",
       "    <tr>\n",
       "      <th>3</th>\n",
       "      <td>Nissan Qashqai 1.2 DIG-T N-CONNECTA XTronic</td>\n",
       "      <td>281063</td>\n",
       "      <td>Qashqai</td>\n",
       "      <td>True</td>\n",
       "      <td>GASOLINA</td>\n",
       "      <td>SUV</td>\n",
       "      <td>1.410</td>\n",
       "      <td>4.0</td>\n",
       "      <td>2.0</td>\n",
       "      <td>2.0</td>\n",
       "      <td>...</td>\n",
       "      <td>4394.0</td>\n",
       "      <td>768.6</td>\n",
       "      <td>C</td>\n",
       "      <td>8</td>\n",
       "      <td>True</td>\n",
       "      <td>1360.0</td>\n",
       "      <td>42.1</td>\n",
       "      <td>10.0</td>\n",
       "      <td>4.0</td>\n",
       "      <td>0.659632</td>\n",
       "    </tr>\n",
       "    <tr>\n",
       "      <th>4</th>\n",
       "      <td>Nissan Qashqai 1.2 DIG-T Tekna XTronic</td>\n",
       "      <td>243794</td>\n",
       "      <td>Qashqai</td>\n",
       "      <td>True</td>\n",
       "      <td>GASOLINA</td>\n",
       "      <td>SUV</td>\n",
       "      <td>1.410</td>\n",
       "      <td>4.0</td>\n",
       "      <td>2.0</td>\n",
       "      <td>2.0</td>\n",
       "      <td>...</td>\n",
       "      <td>4377.0</td>\n",
       "      <td>768.6</td>\n",
       "      <td>C</td>\n",
       "      <td>10</td>\n",
       "      <td>True</td>\n",
       "      <td>1360.0</td>\n",
       "      <td>42.1</td>\n",
       "      <td>10.0</td>\n",
       "      <td>4.0</td>\n",
       "      <td>0.659579</td>\n",
       "    </tr>\n",
       "    <tr>\n",
       "      <th>5</th>\n",
       "      <td>Nissan Qashqai 1.2 DIG-T N-CONNECTA</td>\n",
       "      <td>281062</td>\n",
       "      <td>Qashqai</td>\n",
       "      <td>False</td>\n",
       "      <td>GASOLINA</td>\n",
       "      <td>SUV</td>\n",
       "      <td>1.410</td>\n",
       "      <td>4.0</td>\n",
       "      <td>2.0</td>\n",
       "      <td>2.0</td>\n",
       "      <td>...</td>\n",
       "      <td>4394.0</td>\n",
       "      <td>768.6</td>\n",
       "      <td>C</td>\n",
       "      <td>7</td>\n",
       "      <td>True</td>\n",
       "      <td>1350.0</td>\n",
       "      <td>42.4</td>\n",
       "      <td>10.0</td>\n",
       "      <td>4.0</td>\n",
       "      <td>0.659509</td>\n",
       "    </tr>\n",
       "    <tr>\n",
       "      <th>6</th>\n",
       "      <td>Nissan Qashqai 1.6 DIG-T N-CONNECTA</td>\n",
       "      <td>281064</td>\n",
       "      <td>Qashqai</td>\n",
       "      <td>False</td>\n",
       "      <td>GASOLINA</td>\n",
       "      <td>SUV</td>\n",
       "      <td>1.410</td>\n",
       "      <td>4.0</td>\n",
       "      <td>2.0</td>\n",
       "      <td>2.0</td>\n",
       "      <td>...</td>\n",
       "      <td>4394.0</td>\n",
       "      <td>877.1</td>\n",
       "      <td>C</td>\n",
       "      <td>8</td>\n",
       "      <td>True</td>\n",
       "      <td>1390.0</td>\n",
       "      <td>42.7</td>\n",
       "      <td>10.3</td>\n",
       "      <td>4.0</td>\n",
       "      <td>0.659113</td>\n",
       "    </tr>\n",
       "  </tbody>\n",
       "</table>\n",
       "<p>7 rows × 33 columns</p>\n",
       "</div>"
      ],
      "text/plain": [
       "                                        nombre      ID   modelo  \\\n",
       "0           Honda HR-V 1.5 i-VTEC Elegance CVT  250149     HR-V   \n",
       "1           Honda HR-V 1.5 i-VTEC Elegance CVT  250149     HR-V   \n",
       "2  Nissan Qashqai 1.2 DIG-T N-CONNECTA XTronic  281063  Qashqai   \n",
       "3  Nissan Qashqai 1.2 DIG-T N-CONNECTA XTronic  281063  Qashqai   \n",
       "4       Nissan Qashqai 1.2 DIG-T Tekna XTronic  243794  Qashqai   \n",
       "5          Nissan Qashqai 1.2 DIG-T N-CONNECTA  281062  Qashqai   \n",
       "6          Nissan Qashqai 1.6 DIG-T N-CONNECTA  281064  Qashqai   \n",
       "\n",
       "   cambio_automatico tipo_mecanica tipo_carroceria  indice_altura_interior  \\\n",
       "0               True      GASOLINA             SUV                   1.435   \n",
       "1               True      GASOLINA             SUV                   1.435   \n",
       "2               True      GASOLINA             SUV                   1.410   \n",
       "3               True      GASOLINA             SUV                   1.410   \n",
       "4               True      GASOLINA             SUV                   1.410   \n",
       "5              False      GASOLINA             SUV                   1.410   \n",
       "6              False      GASOLINA             SUV                   1.410   \n",
       "\n",
       "   estetica  premium  singular  ...   largo  autonomia_uso_maxima  \\\n",
       "0       5.0      5.0       3.0  ...  4294.0                 752.5   \n",
       "1       5.0      5.0       3.0  ...  4294.0                 752.5   \n",
       "2       4.0      2.0       2.0  ...  4394.0                 768.6   \n",
       "3       4.0      2.0       2.0  ...  4394.0                 768.6   \n",
       "4       4.0      2.0       2.0  ...  4377.0                 768.6   \n",
       "5       4.0      2.0       2.0  ...  4394.0                 768.6   \n",
       "6       4.0      2.0       2.0  ...  4394.0                 877.1   \n",
       "\n",
       "   distintivo_ambiental  anos_vehiculo  ocasion  peso_original_kg  \\\n",
       "0                     C              8     True            1320.0   \n",
       "1                     C              8     True            1320.0   \n",
       "2                     C              7     True            1360.0   \n",
       "3                     C              8     True            1360.0   \n",
       "4                     C             10     True            1360.0   \n",
       "5                     C              7     True            1350.0   \n",
       "6                     C              8     True            1390.0   \n",
       "\n",
       "   consumo_original  costes_de_uso  costes_mantenimiento score_total  \n",
       "0              40.3            9.3                   5.0    0.682952  \n",
       "1              40.3            9.3                   5.0    0.682952  \n",
       "2              42.1           10.0                   4.0    0.659632  \n",
       "3              42.1           10.0                   4.0    0.659632  \n",
       "4              42.1           10.0                   4.0    0.659579  \n",
       "5              42.4           10.0                   4.0    0.659509  \n",
       "6              42.7           10.3                   4.0    0.659113  \n",
       "\n",
       "[7 rows x 33 columns]"
      ]
     },
     "metadata": {},
     "output_type": "display_data"
    },
    {
     "name": "stdout",
     "output_type": "stream",
     "text": [
      "\n",
      "--- Vista Markdown (para copiar/pegar o si display no es ideal) ---\n",
      "| nombre                                      |     ID | modelo   | cambio_automatico   | tipo_mecanica   | tipo_carroceria   |   indice_altura_interior |   estetica |   premium |   singular |   altura_libre_suelo | traccion   | reductoras   |   plazas |   precio_compra_contado |   seguridad |   comodidad |   acceso_low_cost |   deportividad |   tecnologia |   devaluacion |   maletero_minimo |   maletero_maximo |   largo |   autonomia_uso_maxima | distintivo_ambiental   |   anos_vehiculo | ocasion   |   peso_original_kg |   consumo_original |   score_total |\n",
      "|:--------------------------------------------|-------:|:---------|:--------------------|:----------------|:------------------|-------------------------:|-----------:|----------:|-----------:|---------------------:|:-----------|:-------------|---------:|------------------------:|------------:|------------:|------------------:|---------------:|-------------:|--------------:|------------------:|------------------:|--------:|-----------------------:|:-----------------------|----------------:|:----------|-------------------:|-------------------:|--------------:|\n",
      "| Honda HR-V 1.5 i-VTEC Elegance CVT          | 250149 | HR-V     | True                | GASOLINA        | SUV               |                    1.435 |          5 |         5 |          3 |                  170 | FWD        | False        |        5 |                   14990 |         8.1 |           9 |                 6 |              1 |            7 |             8 |               393 |              1456 |    4294 |                  752.5 | C                      |               8 | True      |               1320 |               40.3 |        0.683  |\n",
      "| Honda HR-V 1.5 i-VTEC Elegance CVT          | 250149 | HR-V     | True                | GASOLINA        | SUV               |                    1.435 |          5 |         5 |          3 |                  170 | FWD        | False        |        5 |                   15990 |         8.1 |           9 |                 6 |              1 |            7 |             8 |               393 |              1456 |    4294 |                  752.5 | C                      |               8 | True      |               1320 |               40.3 |        0.683  |\n",
      "| Nissan Qashqai 1.2 DIG-T N-CONNECTA XTronic | 281063 | Qashqai  | True                | GASOLINA        | SUV               |                    1.41  |          4 |         2 |          2 |                  180 | FWD        | False        |        5 |                   15590 |         8.1 |          10 |                 7 |              1 |            7 |             4 |               430 |              1598 |    4394 |                  768.6 | C                      |               7 | True      |               1360 |               42.1 |        0.6596 |\n",
      "| Nissan Qashqai 1.2 DIG-T N-CONNECTA XTronic | 281063 | Qashqai  | True                | GASOLINA        | SUV               |                    1.41  |          4 |         2 |          2 |                  180 | FWD        | False        |        5 |                   15849 |         8.1 |          10 |                 7 |              1 |            7 |             4 |               430 |              1598 |    4394 |                  768.6 | C                      |               8 | True      |               1360 |               42.1 |        0.6596 |\n",
      "| Nissan Qashqai 1.2 DIG-T Tekna XTronic      | 243794 | Qashqai  | True                | GASOLINA        | SUV               |                    1.41  |          4 |         2 |          2 |                  180 | FWD        | False        |        5 |                   14500 |         8.1 |          10 |                 7 |              1 |            7 |             4 |               430 |              1585 |    4377 |                  768.6 | C                      |              10 | True      |               1360 |               42.1 |        0.6596 |\n",
      "| Nissan Qashqai 1.2 DIG-T N-CONNECTA         | 281062 | Qashqai  | False               | GASOLINA        | SUV               |                    1.41  |          4 |         2 |          2 |                  180 | FWD        | False        |        5 |                   15999 |         8.1 |          10 |                 7 |              1 |            7 |             4 |               430 |              1598 |    4394 |                  768.6 | C                      |               7 | True      |               1350 |               42.4 |        0.6595 |\n",
      "| Nissan Qashqai 1.6 DIG-T N-CONNECTA         | 281064 | Qashqai  | False               | GASOLINA        | SUV               |                    1.41  |          4 |         2 |          2 |                  180 | FWD        | False        |        5 |                   15749 |         8.1 |          10 |                 7 |              1 |            7 |             4 |               430 |              1598 |    4394 |                  877.1 | C                      |               8 | True      |               1390 |               42.7 |        0.6591 |\n"
     ]
    }
   ],
   "source": [
    "import pandas as pd\n",
    "coches_recomendados = output[('coches_recomendados')]\n",
    "\n",
    "df_resultados = pd.DataFrame(coches_recomendados)\n",
    "        \n",
    "#  OPCIÓN 1: Imprimir el DataFrame directamente (Pandas usará las opciones de display)\n",
    "# print(\"\\n--- Vista DataFrame (Pandas Display Options) ---\")\n",
    "# display(df_resultados) # 'display()' suele dar mejor formato en notebooks que 'print(df)'\n",
    "\n",
    "#OPCIÓN 2: Convertir a Markdown (como en tu nodo, pero para consola)\n",
    "print(\"\\n--- Vista Markdown (para copiar/pegar o si display no es ideal) ---\")\n",
    "columnas_deseadas = [ # Lista completa de columnas que seleccionas en BQ\n",
    "            'nombre', 'ID', 'marca', 'modelo', 'cambio_automatico', 'tipo_mecanica', \n",
    "            'tipo_carroceria', 'indice_altura_interior', 'batalla', 'estetica', \n",
    "            'premium', 'singular', 'altura_libre_suelo', 'ancho', 'traccion', \n",
    "            'reductoras', 'puertas', 'plazas', 'precio_compra_contado',\n",
    "            'fiabilidad', 'durabilidad', 'seguridad', 'comodidad', 'acceso_low_cost', \n",
    "            'deportividad', 'tecnologia', 'devaluacion', 'maletero_minimo', \n",
    "            'maletero_maximo', 'largo', 'autonomia_uso_maxima', \n",
    "            'distintivo_ambiental', 'anos_vehiculo', 'ocasion',\n",
    "            'peso_original_kg', 'consumo_original','score_total'\n",
    "        ]\n",
    "columnas_existentes = [col for col in columnas_deseadas if col in df_resultados.columns]\n",
    "if columnas_existentes:\n",
    "            if 'score_total' in df_resultados.columns: # Formatear score para legibilidad\n",
    "                df_resultados['score_total'] = df_resultados['score_total'].apply(lambda x: f\"{x:.4f}\" if isinstance(x, float) else x)\n",
    "            print(df_resultados[columnas_existentes].to_markdown(index=False))\n",
    "else:\n",
    "            print(\"WARN: No se encontraron columnas esperadas para mostrar en formato tabla.\")\n",
    "            print(\"Resultados crudos (lista de dicts):\", coches_recomendados)"
   ]
  },
  {
   "cell_type": "code",
   "execution_count": null,
   "metadata": {},
   "outputs": [],
   "source": [
    "# Create a thread\n",
    "config = {\"configurable\": {\"thread_id\": \"1\"}}\n",
    "\n",
    "# Start conversation\n",
    "input_message = HumanMessage(content=\"no hay ninos\")\n",
    "output = graph.invoke({\"messages\": [input_message]}, config) \n",
    "for m in output['messages'][-1:]:\n",
    "    m.pretty_print()"
   ]
  },
  {
   "cell_type": "code",
   "execution_count": null,
   "metadata": {},
   "outputs": [],
   "source": [
    "# Create a thread\n",
    "config = {\"configurable\": {\"thread_id\": \"1\"}}\n",
    "\n",
    "# Start conversation\n",
    "input_message = HumanMessage(content=\"la 2\")\n",
    "output = graph.invoke({\"messages\": [input_message]}, config) \n",
    "for m in output['messages'][-1:]:\n",
    "    m.pretty_print()"
   ]
  },
  {
   "cell_type": "code",
   "execution_count": null,
   "metadata": {},
   "outputs": [],
   "source": [
    "print(output['preferencias_usuario'])\n",
    "print('-----------------------')\n",
    "#print(output['filtros_inferidos'])\n"
   ]
  },
  {
   "cell_type": "code",
   "execution_count": null,
   "metadata": {},
   "outputs": [],
   "source": [
    "# Create a thread\n",
    "config = {\"configurable\": {\"thread_id\": \"1\"}}\n",
    "\n",
    "# Start conversation\n",
    "input_message = HumanMessage(content=\"al contado con 25.000 euros\")\n",
    "output = graph.invoke({\"messages\": [input_message]}, config) \n",
    "for m in output['messages'][-1:]:\n",
    "    m.pretty_print()"
   ]
  },
  {
   "cell_type": "code",
   "execution_count": null,
   "metadata": {},
   "outputs": [],
   "source": [
    "config = {\"configurable\": {\"thread_id\": \"1\"}}\n",
    "\n",
    "# Start conversation\n",
    "input_message = HumanMessage(content=\"maximo 14000 euros de contado\")\n",
    "output = graph.invoke({\"messages\": [input_message]}, config) \n",
    "for m in output['messages'][-1:]:\n",
    "    m.pretty_print()"
   ]
  },
  {
   "cell_type": "code",
   "execution_count": null,
   "metadata": {},
   "outputs": [],
   "source": [
    "print(output['preferencias_usuario'])\n",
    "print(output['filtros_inferidos'])"
   ]
  },
  {
   "cell_type": "code",
   "execution_count": null,
   "metadata": {},
   "outputs": [],
   "source": [
    "config = {\"configurable\": {\"thread_id\": \"1\"}}\n",
    "\n",
    "# Start conversation\n",
    "input_message = HumanMessage(content=\"la 2\")\n",
    "output = graph.invoke({\"messages\": [input_message]}, config) \n",
    "for m in output['messages'][-1:]:\n",
    "    m.pretty_print()"
   ]
  },
  {
   "cell_type": "code",
   "execution_count": null,
   "metadata": {},
   "outputs": [],
   "source": [
    "config = {\"configurable\": {\"thread_id\": \"1\"}}\n",
    "\n",
    "# Start conversation\n",
    "input_message = HumanMessage(content=\"8\")\n",
    "output = graph.invoke({\"messages\": [input_message]}, config) \n",
    "for m in output['messages'][-1:]:\n",
    "    m.pretty_print()"
   ]
  },
  {
   "cell_type": "code",
   "execution_count": null,
   "metadata": {},
   "outputs": [],
   "source": [
    "config = {\"configurable\": {\"thread_id\": \"1\"}}\n",
    "\n",
    "# Start conversation\n",
    "input_message = HumanMessage(content=\"ocasional\")\n",
    "output = graph.invoke({\"messages\": [input_message]}, config) \n",
    "for m in output['messages'][-1:]:\n",
    "    m.pretty_print()"
   ]
  },
  {
   "cell_type": "code",
   "execution_count": null,
   "metadata": {},
   "outputs": [],
   "source": [
    "config = {\"configurable\": {\"thread_id\": \"1\"}}\n",
    "\n",
    "# Start conversation\n",
    "input_message = HumanMessage(content=\"no\")\n",
    "output = graph.invoke({\"messages\": [input_message]}, config) \n",
    "for m in output['messages'][-1:]:\n",
    "    m.pretty_print()"
   ]
  },
  {
   "cell_type": "code",
   "execution_count": null,
   "metadata": {},
   "outputs": [],
   "source": [
    "config = {\"configurable\": {\"thread_id\": \"1\"}}\n",
    "\n",
    "# Start conversation\n",
    "input_message = HumanMessage(content=\"10\")\n",
    "output = graph.invoke({\"messages\": [input_message]}, config) \n",
    "for m in output['messages'][-1:]:\n",
    "    m.pretty_print()"
   ]
  },
  {
   "cell_type": "code",
   "execution_count": null,
   "metadata": {},
   "outputs": [],
   "source": [
    "print(output['preferencias_usuario'])\n"
   ]
  },
  {
   "cell_type": "code",
   "execution_count": null,
   "metadata": {},
   "outputs": [],
   "source": [
    "# Create a thread\n",
    "config = {\"configurable\": {\"thread_id\": \"1\"}}\n",
    "\n",
    "# Start conversation\n",
    "input_message = HumanMessage(content=\"8\")\n",
    "output = graph.invoke({\"messages\": [input_message]}, config) \n",
    "for m in output['messages'][-1:]:\n",
    "    m.pretty_print()"
   ]
  },
  {
   "cell_type": "code",
   "execution_count": null,
   "metadata": {},
   "outputs": [],
   "source": [
    "config = {\"configurable\": {\"thread_id\": \"1\"}}\n",
    "\n",
    "# Start conversation\n",
    "input_message = HumanMessage(content=\"con una persona mas, no niños\")\n",
    "output = graph.invoke({\"messages\": [input_message]}, config) \n",
    "for m in output['messages'][-1:]:\n",
    "    m.pretty_print()"
   ]
  },
  {
   "cell_type": "code",
   "execution_count": null,
   "metadata": {},
   "outputs": [],
   "source": [
    "config = {\"configurable\": {\"thread_id\": \"1\"}}\n",
    "\n",
    "# Start conversation\n",
    "input_message = HumanMessage(content=\"no\")\n",
    "output = graph.invoke({\"messages\": [input_message]}, config) \n",
    "for m in output['messages'][-1:]:\n",
    "    m.pretty_print()"
   ]
  },
  {
   "cell_type": "code",
   "execution_count": null,
   "metadata": {},
   "outputs": [],
   "source": [
    "config = {\"configurable\": {\"thread_id\": \"1\"}}\n",
    "\n",
    "# Start conversation\n",
    "input_message = HumanMessage(content=\"la 2\")\n",
    "output = graph.invoke({\"messages\": [input_message]}, config) \n",
    "for m in output['messages'][-1:]:\n",
    "    m.pretty_print()"
   ]
  },
  {
   "cell_type": "code",
   "execution_count": null,
   "metadata": {},
   "outputs": [],
   "source": [
    "# Create a thread\n",
    "config = {\"configurable\": {\"thread_id\": \"1\"}}\n",
    "\n",
    "# Start conversation\n",
    "input_message = HumanMessage(content=\"contado hasta 15.000\")\n",
    "output = graph.invoke({\"messages\": [input_message]}, config) \n",
    "for m in output['messages'][-1:]:\n",
    "    m.pretty_print()\n",
    "    \n",
    "    \n"
   ]
  },
  {
   "cell_type": "code",
   "execution_count": null,
   "metadata": {},
   "outputs": [],
   "source": [
    "print(output['preferencias_usuario'])\n",
    "print('-----------------------')\n",
    "print(output['filtros_inferidos'])\n",
    "print('-----------------------')\n",
    "print(output['pesos'])\n",
    "print(output['flag_penalizar_deportividad_comodidad'])\n",
    "print(output['flag_penalizar_low_cost_comodidad'])\n",
    "print(output['flag_penalizar_antiguo_por_tecnologia'])\n",
    "print(output['aplicar_logica_distintivo_ambiental'])\n",
    "\n"
   ]
  },
  {
   "cell_type": "code",
   "execution_count": 24,
   "metadata": {},
   "outputs": [
    {
     "name": "stdout",
     "output_type": "stream",
     "text": [
      "dict_keys(['messages', 'preferencias_usuario', 'filtros_inferidos', 'economia', 'pesos', 'pregunta_pendiente', 'coches_recomendados', 'info_pasajeros', 'penalizar_puertas_bajas', 'priorizar_ancho', 'flag_penalizar_low_cost_comodidad', 'flag_penalizar_deportividad_comodidad', 'flag_penalizar_antiguo_por_tecnologia', 'aplicar_logica_distintivo_ambiental', 'tabla_resumen_criterios'])\n"
     ]
    }
   ],
   "source": [
    "print(output.keys())"
   ]
  },
  {
   "cell_type": "code",
   "execution_count": null,
   "metadata": {},
   "outputs": [],
   "source": [
    "# Create a thread\n",
    "config = {\"configurable\": {\"thread_id\": \"1\"}}\n",
    "\n",
    "# Start conversation\n",
    "input_message = HumanMessage(content=\"la 2\")\n",
    "output = graph.invoke({\"messages\": [input_message]}, config) \n",
    "for m in output['messages'][-1:]:\n",
    "    m.pretty_print()"
   ]
  },
  {
   "cell_type": "code",
   "execution_count": null,
   "metadata": {},
   "outputs": [],
   "source": [
    "# Create a thread\n",
    "config = {\"configurable\": {\"thread_id\": \"1\"}}\n",
    "\n",
    "# Start conversation\n",
    "input_message = HumanMessage(content=\"de contado tengo 13000 maximo\")\n",
    "output = graph.invoke({\"messages\": [input_message]}, config) \n",
    "for m in output['messages'][-1:]:\n",
    "    m.pretty_print()"
   ]
  },
  {
   "cell_type": "code",
   "execution_count": null,
   "metadata": {},
   "outputs": [],
   "source": [
    "print(output['preferencias_usuario'])\n",
    "print('-----------------------')\n",
    "print(output['filtros_inferidos'])\n",
    "print('-----------------------')\n",
    "print(output['info_pasajeros'])\n",
    "print('-----------------------')\n",
    "print(output['economia'])\n",
    "print('-----------------------')\n",
    "print(output['pesos'])\n",
    "print('-----------------------')\n",
    "print(output['priorizar_ancho'])\n",
    "print('-----------------------')\n",
    "print(output['info_pasajeros'])\n",
    "print('-----------------------')\n",
    "print(output['flag_penalizar_deportividad_comodidad'])\n",
    "print('-----------------------')\n",
    "print(output['flag_penalizar_low_cost_comodidad'])\n",
    "print('-----------------------')\n",
    "print(output['penalizar_puertas_bajas'])\n",
    "print('-----------------------')\n",
    "print(output['flag_penalizar_antiguo_por_tecnologia'])\n",
    "print('-----------------------')\n",
    "print(output['aplicar_logica_distintivo_ambiental'])\n",
    "print('-----------------------')\n",
    "print(output['penalizar_puertas_bajas'])\n",
    "print('-----------------------')\n",
    "print(output.keys())\n"
   ]
  },
  {
   "cell_type": "code",
   "execution_count": null,
   "metadata": {},
   "outputs": [],
   "source": [
    "# Create a thread\n",
    "config = {\"configurable\": {\"thread_id\": \"1\"}}\n",
    "\n",
    "# Start conversation\n",
    "input_message = HumanMessage(content=\"35.000\")\n",
    "output = graph.invoke({\"messages\": [input_message]}, config) \n",
    "for m in output['messages'][-1:]:\n",
    "    m.pretty_print()"
   ]
  },
  {
   "cell_type": "code",
   "execution_count": null,
   "metadata": {},
   "outputs": [],
   "source": [
    "\n",
    "print(output['preferencias_usuario'])\n",
    "print('-----------------------')\n",
    "print(output['filtros_inferidos'])\n",
    "print('-----------------------')\n",
    "print(output['pesos'])\n",
    "print(output.keys())"
   ]
  },
  {
   "cell_type": "code",
   "execution_count": null,
   "metadata": {},
   "outputs": [],
   "source": [
    "# Create a thread\n",
    "config = {\"configurable\": {\"thread_id\": \"1\"}}\n",
    "\n",
    "# Start conversation\n",
    "input_message = HumanMessage(content=\"10000 ahorrados?\")\n",
    "output = graph.invoke({\"messages\": [input_message]}, config) \n",
    "for m in output['messages'][-1:]:\n",
    "    m.pretty_print()"
   ]
  },
  {
   "cell_type": "code",
   "execution_count": null,
   "metadata": {},
   "outputs": [],
   "source": [
    "print(output['preferencias_usuario'])\n",
    "print('-----------------------')\n",
    "print(output['filtros_inferidos'])\n",
    "print('-----------------------')\n",
    "print(output.keys())"
   ]
  },
  {
   "cell_type": "code",
   "execution_count": null,
   "metadata": {},
   "outputs": [],
   "source": [
    "# Create a thread\n",
    "config = {\"configurable\": {\"thread_id\": \"1\"}}\n",
    "\n",
    "# Start conversation\n",
    "input_message = HumanMessage(content=\"5 años\")\n",
    "output = graph.invoke({\"messages\": [input_message]}, config) \n",
    "for m in output['messages'][-1:]:\n",
    "    m.pretty_print()"
   ]
  },
  {
   "cell_type": "code",
   "execution_count": null,
   "metadata": {},
   "outputs": [],
   "source": [
    "print(output['preferencias_usuario'])\n",
    "print('-----------------------')\n",
    "print(output['filtros_inferidos'])\n",
    "print('-----------------------')\n",
    "print(output['economia'])\n",
    "print('-----------------------')\n",
    "print(output['pesos'])\n",
    "print(output.keys())"
   ]
  },
  {
   "cell_type": "code",
   "execution_count": null,
   "metadata": {},
   "outputs": [],
   "source": [
    "# Create a thread\n",
    "config = {\"configurable\": {\"thread_id\": \"1\"}}\n",
    "\n",
    "# Start conversation\n",
    "input_message = HumanMessage(content=\"que informacin falta?\")\n",
    "output = graph.invoke({\"messages\": [input_message]}, config) \n",
    "for m in output['messages'][-1:]:\n",
    "    m.pretty_print()"
   ]
  },
  {
   "cell_type": "code",
   "execution_count": null,
   "metadata": {},
   "outputs": [],
   "source": []
  },
  {
   "cell_type": "code",
   "execution_count": null,
   "metadata": {},
   "outputs": [],
   "source": [
    "config = {\"configurable\": {\"thread_id\": \"1\"}}\n",
    "\n",
    "# Start conversation\n",
    "input_message = HumanMessage(content=\"8\")\n",
    "output = graph.invoke({\"messages\": [input_message]}, config) \n",
    "for m in output['messages'][-1:]:\n",
    "    m.pretty_print()"
   ]
  },
  {
   "cell_type": "code",
   "execution_count": null,
   "metadata": {},
   "outputs": [],
   "source": [
    "print(output['preferencias_usuario'])\n",
    "print('-----------------------')\n",
    "print(output['filtros_inferidos'])\n",
    "print('-----------------------')\n",
    "print(output['economia'])\n",
    "print('-----------------------')\n",
    "print(output['pesos'])"
   ]
  },
  {
   "cell_type": "code",
   "execution_count": null,
   "metadata": {},
   "outputs": [],
   "source": [
    "print(output['preferencias_usuario'])\n",
    "print('-----------------------')"
   ]
  },
  {
   "cell_type": "code",
   "execution_count": null,
   "metadata": {},
   "outputs": [],
   "source": [
    "print(output.keys())"
   ]
  },
  {
   "cell_type": "code",
   "execution_count": null,
   "metadata": {},
   "outputs": [],
   "source": [
    "state = graph.get_state(config).values\n",
    "print(state[\"mensaje_validacion\"])\n"
   ]
  },
  {
   "cell_type": "markdown",
   "metadata": {},
   "source": [
    "## Prueba 2"
   ]
  },
  {
   "cell_type": "code",
   "execution_count": null,
   "metadata": {},
   "outputs": [],
   "source": [
    "# Create a thread\n",
    "config = {\"configurable\": {\"thread_id\": \"2\"}}\n",
    "\n",
    "# Start conversation\n",
    "input_message = HumanMessage(content=\"Quiero un coche mido 1.93. Peso 80 kg\")\n",
    "output = graph.invoke({\"messages\": [input_message]}, config) \n",
    "for m in output['messages'][-1:]:\n",
    "    m.pretty_print()"
   ]
  },
  {
   "cell_type": "code",
   "execution_count": null,
   "metadata": {},
   "outputs": [],
   "source": [
    "# Create a thread\n",
    "config = {\"configurable\": {\"thread_id\": \"2\"}}\n",
    "\n",
    "# Start conversation\n",
    "input_message = HumanMessage(content=\"si, lo soy\")\n",
    "output = graph.invoke({\"messages\": [input_message]}, config) \n",
    "for m in output['messages'][-1:]:\n",
    "    m.pretty_print()"
   ]
  },
  {
   "cell_type": "code",
   "execution_count": null,
   "metadata": {},
   "outputs": [],
   "source": [
    "print(output['preferencias_usuario'])\n",
    "print('---------------------------------------------------------------------')\n",
    "print(output['filtros_inferidos'])\n"
   ]
  },
  {
   "cell_type": "code",
   "execution_count": null,
   "metadata": {},
   "outputs": [],
   "source": [
    "# Create a thread\n",
    "config = {\"configurable\": {\"thread_id\": \"2\"}}\n",
    "\n",
    "# Start conversation\n",
    "input_message = HumanMessage(content=\"no\")\n",
    "output = graph.invoke({\"messages\": [input_message]}, config) \n",
    "for m in output['messages'][-1:]:\n",
    "    m.pretty_print()"
   ]
  },
  {
   "cell_type": "code",
   "execution_count": null,
   "metadata": {},
   "outputs": [],
   "source": [
    "# Create a thread\n",
    "config = {\"configurable\": {\"thread_id\": \"2\"}}\n",
    "\n",
    "# Start conversation\n",
    "input_message = HumanMessage(content=\"no\")\n",
    "output = graph.invoke({\"messages\": [input_message]}, config) \n",
    "for m in output['messages'][-1:]:\n",
    "    m.pretty_print()"
   ]
  },
  {
   "cell_type": "code",
   "execution_count": null,
   "metadata": {},
   "outputs": [],
   "source": [
    "# Create a thread\n",
    "config = {\"configurable\": {\"thread_id\": \"2\"}}\n",
    "\n",
    "# Start conversation\n",
    "input_message = HumanMessage(content=\"no\")\n",
    "output = graph.invoke({\"messages\": [input_message]}, config) \n",
    "for m in output['messages'][-1:]:\n",
    "    m.pretty_print()"
   ]
  },
  {
   "cell_type": "code",
   "execution_count": null,
   "metadata": {},
   "outputs": [],
   "source": [
    "# Create a thread\n",
    "config = {\"configurable\": {\"thread_id\": \"2\"}}\n",
    "\n",
    "# Start conversation\n",
    "input_message = HumanMessage(content=\"no\")\n",
    "output = graph.invoke({\"messages\": [input_message]}, config) \n",
    "for m in output['messages'][-1:]:\n",
    "    m.pretty_print()"
   ]
  },
  {
   "cell_type": "code",
   "execution_count": null,
   "metadata": {},
   "outputs": [],
   "source": [
    "# Create a thread\n",
    "config = {\"configurable\": {\"thread_id\": \"2\"}}\n",
    "\n",
    "# Start conversation\n",
    "input_message = HumanMessage(content=\"no\")\n",
    "output = graph.invoke({\"messages\": [input_message]}, config) \n",
    "for m in output['messages'][-1:]:\n",
    "    m.pretty_print()"
   ]
  },
  {
   "cell_type": "code",
   "execution_count": null,
   "metadata": {},
   "outputs": [],
   "source": [
    "# Create a thread\n",
    "config = {\"configurable\": {\"thread_id\": \"2\"}}\n",
    "\n",
    "# Start conversation\n",
    "input_message = HumanMessage(content=\"no\")\n",
    "output = graph.invoke({\"messages\": [input_message]}, config) \n",
    "for m in output['messages'][-1:]:\n",
    "    m.pretty_print()"
   ]
  },
  {
   "cell_type": "code",
   "execution_count": null,
   "metadata": {},
   "outputs": [],
   "source": [
    "print(output['preferencias_usuario'])\n",
    "print('---------------------------------------------------------------------')\n",
    "print(output['filtros_inferidos']) #"
   ]
  },
  {
   "cell_type": "code",
   "execution_count": null,
   "metadata": {},
   "outputs": [],
   "source": [
    "# Create a thread\n",
    "config = {\"configurable\": {\"thread_id\": \"2\"}}\n",
    "\n",
    "# Start conversation\n",
    "input_message = HumanMessage(content=\"ambos\")\n",
    "output = graph.invoke({\"messages\": [input_message]}, config) \n",
    "for m in output['messages'][-1:]:\n",
    "    m.pretty_print()"
   ]
  },
  {
   "cell_type": "code",
   "execution_count": null,
   "metadata": {},
   "outputs": [],
   "source": [
    "# Create a thread\n",
    "config = {\"configurable\": {\"thread_id\": \"2\"}}\n",
    "\n",
    "# Start conversation\n",
    "input_message = HumanMessage(content=\"5\")\n",
    "output = graph.invoke({\"messages\": [input_message]}, config) \n",
    "for m in output['messages'][-1:]:\n",
    "    m.pretty_print()"
   ]
  },
  {
   "cell_type": "code",
   "execution_count": null,
   "metadata": {},
   "outputs": [],
   "source": [
    "print(output['preferencias_usuario'])\n",
    "print('---------------------------------------------------------------------')\n",
    "# print(output['filtros_inferidos']) \n",
    "# print('---------------------------------------------------------------------')\n",
    "# #print(output['pesos'])"
   ]
  },
  {
   "cell_type": "code",
   "execution_count": null,
   "metadata": {},
   "outputs": [],
   "source": [
    "# Create a thread\n",
    "config = {\"configurable\": {\"thread_id\": \"2\"}}\n",
    "\n",
    "# Start conversation\n",
    "input_message = HumanMessage(content=\"6\")\n",
    "output = graph.invoke({\"messages\": [input_message]}, config) \n",
    "for m in output['messages'][-1:]:\n",
    "    m.pretty_print()"
   ]
  },
  {
   "cell_type": "code",
   "execution_count": null,
   "metadata": {},
   "outputs": [],
   "source": [
    "# Create a thread\n",
    "config = {\"configurable\": {\"thread_id\": \"2\"}}\n",
    "\n",
    "# Start conversation\n",
    "input_message = HumanMessage(content=\"7\")\n",
    "output = graph.invoke({\"messages\": [input_message]}, config) \n",
    "for m in output['messages'][-1:]:\n",
    "    m.pretty_print()"
   ]
  },
  {
   "cell_type": "code",
   "execution_count": null,
   "metadata": {},
   "outputs": [],
   "source": [
    "# Create a thread\n",
    "config = {\"configurable\": {\"thread_id\": \"2\"}}\n",
    "\n",
    "# Start conversation\n",
    "input_message = HumanMessage(content=\"9\")\n",
    "output = graph.invoke({\"messages\": [input_message]}, config) \n",
    "for m in output['messages'][-1:]:\n",
    "    m.pretty_print()"
   ]
  },
  {
   "cell_type": "code",
   "execution_count": null,
   "metadata": {},
   "outputs": [],
   "source": [
    "# Create a thread\n",
    "config = {\"configurable\": {\"thread_id\": \"2\"}}\n",
    "\n",
    "# Start conversation\n",
    "input_message = HumanMessage(content=\"5\")\n",
    "output = graph.invoke({\"messages\": [input_message]}, config) \n",
    "for m in output['messages'][-1:]:\n",
    "    m.pretty_print()"
   ]
  },
  {
   "cell_type": "code",
   "execution_count": null,
   "metadata": {},
   "outputs": [],
   "source": [
    "# Create a thread\n",
    "config = {\"configurable\": {\"thread_id\": \"2\"}}\n",
    "\n",
    "# Start conversation\n",
    "input_message = HumanMessage(content=\"ninguna\")\n",
    "output = graph.invoke({\"messages\": [input_message]}, config) \n",
    "for m in output['messages'][-1:]:\n",
    "    m.pretty_print()"
   ]
  },
  {
   "cell_type": "code",
   "execution_count": null,
   "metadata": {},
   "outputs": [],
   "source": [
    "# Create a thread\n",
    "config = {\"configurable\": {\"thread_id\": \"2\"}}\n",
    "\n",
    "# Start conversation\n",
    "input_message = HumanMessage(content=\"no\")\n",
    "output = graph.invoke({\"messages\": [input_message]}, config) \n",
    "for m in output['messages'][-1:]:\n",
    "    m.pretty_print()"
   ]
  },
  {
   "cell_type": "code",
   "execution_count": null,
   "metadata": {},
   "outputs": [],
   "source": [
    "# Create a thread\n",
    "config = {\"configurable\": {\"thread_id\": \"2\"}}\n",
    "\n",
    "# Start conversation\n",
    "input_message = HumanMessage(content=\"no, viajo solo\")\n",
    "output = graph.invoke({\"messages\": [input_message]}, config) \n",
    "for m in output['messages'][-1:]:\n",
    "    m.pretty_print()"
   ]
  },
  {
   "cell_type": "code",
   "execution_count": null,
   "metadata": {},
   "outputs": [],
   "source": [
    "# Create a thread\n",
    "config = {\"configurable\": {\"thread_id\": \"2\"}}\n",
    "\n",
    "# Start conversation\n",
    "input_message = HumanMessage(content=\"no\")\n",
    "output = graph.invoke({\"messages\": [input_message]}, config) \n",
    "for m in output['messages'][-1:]:\n",
    "    m.pretty_print()"
   ]
  },
  {
   "cell_type": "code",
   "execution_count": null,
   "metadata": {},
   "outputs": [],
   "source": [
    "# Create a thread\n",
    "config = {\"configurable\": {\"thread_id\": \"2\"}}\n",
    "\n",
    "# Start conversation\n",
    "input_message = HumanMessage(content=\"7\")\n",
    "output = graph.invoke({\"messages\": [input_message]}, config) \n",
    "for m in output['messages'][-1:]:\n",
    "    m.pretty_print()"
   ]
  },
  {
   "cell_type": "code",
   "execution_count": null,
   "metadata": {},
   "outputs": [],
   "source": [
    "config = {\"configurable\": {\"thread_id\": \"2\"}}\n",
    "input_message = HumanMessage(content=\"6\")\n",
    "output = graph.invoke({\"messages\": [input_message]}, config) \n",
    "for m in output['messages'][-1:]:\n",
    "    m.pretty_print()"
   ]
  },
  {
   "cell_type": "code",
   "execution_count": null,
   "metadata": {},
   "outputs": [],
   "source": [
    "config = {\"configurable\": {\"thread_id\": \"2\"}}\n",
    "input_message = HumanMessage(content=\"8\")\n",
    "output = graph.invoke({\"messages\": [input_message]}, config) \n",
    "for m in output['messages'][-1:]:\n",
    "    m.pretty_print()"
   ]
  },
  {
   "cell_type": "code",
   "execution_count": null,
   "metadata": {},
   "outputs": [],
   "source": [
    "# Create a thread\n",
    "config = {\"configurable\": {\"thread_id\": \"2\"}}\n",
    "\n",
    "# Start conversation\n",
    "input_message = HumanMessage(content=\"ocasionalmente\")\n",
    "output = graph.invoke({\"messages\": [input_message]}, config) \n",
    "for m in output['messages'][-1:]:\n",
    "    m.pretty_print()"
   ]
  },
  {
   "cell_type": "code",
   "execution_count": null,
   "metadata": {},
   "outputs": [],
   "source": [
    "# Create a thread\n",
    "config = {\"configurable\": {\"thread_id\": \"2\"}}\n",
    "\n",
    "# Start conversation\n",
    "input_message = HumanMessage(content=\"7\")\n",
    "output = graph.invoke({\"messages\": [input_message]}, config) \n",
    "for m in output['messages'][-1:]:\n",
    "    m.pretty_print()"
   ]
  },
  {
   "cell_type": "code",
   "execution_count": null,
   "metadata": {},
   "outputs": [],
   "source": [
    "# Create a thread\n",
    "config = {\"configurable\": {\"thread_id\": \"2\"}}\n",
    "\n",
    "# Start conversation\n",
    "input_message = HumanMessage(content=\"10\")\n",
    "output = graph.invoke({\"messages\": [input_message]}, config) \n",
    "for m in output['messages'][-1:]:\n",
    "    m.pretty_print()"
   ]
  },
  {
   "cell_type": "code",
   "execution_count": null,
   "metadata": {},
   "outputs": [],
   "source": [
    "\n",
    "print(output['preferencias_usuario'])\n",
    "print('---------------------------------------------------------------------')\n",
    "# print(output['filtros_inferidos']) \n",
    "print('---------------------------------------------------------------------')\n",
    "# print(output['economia'])"
   ]
  },
  {
   "cell_type": "code",
   "execution_count": null,
   "metadata": {},
   "outputs": [],
   "source": [
    "# Create a thread\n",
    "config = {\"configurable\": {\"thread_id\": \"2\"}}\n",
    "\n",
    "# Start conversation\n",
    "input_message = HumanMessage(content=\"si, llevo 2 acompañantes\")\n",
    "output = graph.invoke({\"messages\": [input_message]}, config) \n",
    "for m in output['messages'][-1:]:\n",
    "    m.pretty_print()"
   ]
  },
  {
   "cell_type": "code",
   "execution_count": null,
   "metadata": {},
   "outputs": [],
   "source": [
    "print(output['preferencias_usuario'])\n",
    "print('---------------------------------------------------------------------')\n",
    "print(output['filtros_inferidos']) #"
   ]
  },
  {
   "cell_type": "code",
   "execution_count": null,
   "metadata": {},
   "outputs": [],
   "source": [
    "config = {\"configurable\": {\"thread_id\": \"2\"}}\n",
    "input_message = HumanMessage(content=\"ninos no\")\n",
    "output = graph.invoke({\"messages\": [input_message]}, config) \n",
    "for m in output['messages'][-1:]:\n",
    "    m.pretty_print()"
   ]
  },
  {
   "cell_type": "code",
   "execution_count": null,
   "metadata": {},
   "outputs": [],
   "source": [
    "config = {\"configurable\": {\"thread_id\": \"2\"}}\n",
    "input_message = HumanMessage(content=\"la 2\")\n",
    "output = graph.invoke({\"messages\": [input_message]}, config) \n",
    "for m in output['messages'][-1:]:\n",
    "    m.pretty_print()"
   ]
  },
  {
   "cell_type": "code",
   "execution_count": null,
   "metadata": {},
   "outputs": [],
   "source": [
    "config = {\"configurable\": {\"thread_id\": \"2\"}}\n",
    "input_message = HumanMessage(content=\"pago total al contado maximo de 22.000 euros\")\n",
    "output = graph.invoke({\"messages\": [input_message]}, config) \n",
    "for m in output['messages'][-1:]:\n",
    "    m.pretty_print()"
   ]
  },
  {
   "cell_type": "code",
   "execution_count": null,
   "metadata": {},
   "outputs": [],
   "source": [
    "config = {\"configurable\": {\"thread_id\": \"2\"}}\n",
    "input_message = HumanMessage(content=\"6.000 ahorrados\")\n",
    "output = graph.invoke({\"messages\": [input_message]}, config) \n",
    "for m in output['messages'][-1:]:\n",
    "    m.pretty_print()"
   ]
  },
  {
   "cell_type": "code",
   "execution_count": null,
   "metadata": {},
   "outputs": [],
   "source": [
    "config = {\"configurable\": {\"thread_id\": \"2\"}}\n",
    "input_message = HumanMessage(content=\"5 años\")\n",
    "output = graph.invoke({\"messages\": [input_message]}, config) \n",
    "for m in output['messages'][-1:]:\n",
    "    m.pretty_print()"
   ]
  },
  {
   "cell_type": "code",
   "execution_count": null,
   "metadata": {},
   "outputs": [],
   "source": [
    "print(output['preferencias_usuario'])\n",
    "print('---------------------------------------------------------------------')\n",
    "print(output['filtros_inferidos'])\n",
    "print('---------------------------------------------------------------------')\n",
    "print(output['economia'])\n",
    "print('---------------------------------------------------------------------')\n",
    "print(output['pesos'])"
   ]
  },
  {
   "cell_type": "code",
   "execution_count": null,
   "metadata": {},
   "outputs": [],
   "source": [
    "print(output.keys())"
   ]
  },
  {
   "cell_type": "code",
   "execution_count": null,
   "metadata": {},
   "outputs": [],
   "source": [
    "print(output['pesos'])"
   ]
  },
  {
   "cell_type": "code",
   "execution_count": null,
   "metadata": {},
   "outputs": [],
   "source": [
    "state = graph.get_state(config).values\n",
    "for m in state['messages']:\n",
    "    m.pretty_print()\n",
    "    \n",
    "    "
   ]
  },
  {
   "cell_type": "markdown",
   "metadata": {},
   "source": [
    "revisar las reglas de altura "
   ]
  },
  {
   "cell_type": "markdown",
   "metadata": {},
   "source": [
    "## Prueba 3"
   ]
  },
  {
   "cell_type": "code",
   "execution_count": null,
   "metadata": {},
   "outputs": [],
   "source": [
    "# Create a thread\n",
    "config = {\"configurable\": {\"thread_id\": \"3\"}}\n",
    "\n",
    "# Start conversation\n",
    "input_message = HumanMessage(content=\"hola, dime quien eres?\")\n",
    "output = graph.invoke({\"messages\": [input_message]}, config) \n",
    "for m in output['messages'][-1:]:\n",
    "    m.pretty_print()\n"
   ]
  },
  {
   "cell_type": "code",
   "execution_count": null,
   "metadata": {},
   "outputs": [],
   "source": [
    "print(output['preferencias_usuario'])\n",
    "print('---------------------------------------------------------------------')\n",
    "print(output['filtros_inferidos'])\n"
   ]
  },
  {
   "cell_type": "code",
   "execution_count": null,
   "metadata": {},
   "outputs": [],
   "source": [
    "# Create a thread\n",
    "config = {\"configurable\": {\"thread_id\": \"3\"}}\n",
    "\n",
    "# Start conversation\n",
    "input_message = HumanMessage(content=\"tienes motos?\")\n",
    "output = graph.invoke({\"messages\": [input_message]}, config) \n",
    "for m in output['messages'][-1:]:\n",
    "    m.pretty_print()\n"
   ]
  },
  {
   "cell_type": "code",
   "execution_count": null,
   "metadata": {},
   "outputs": [],
   "source": [
    "print(output['preferencias_usuario'])\n",
    "print('---------------------------------------------------------------------')\n",
    "print(output['filtros_inferidos'])"
   ]
  },
  {
   "cell_type": "code",
   "execution_count": null,
   "metadata": {},
   "outputs": [],
   "source": [
    "# Consultar todo el estado acumulado\n",
    "state = graph.get_state(config).values\n",
    "for m in state[\"messages\"]:\n",
    "    m.pretty_print()"
   ]
  },
  {
   "cell_type": "markdown",
   "metadata": {},
   "source": [
    "## Prueba 4"
   ]
  },
  {
   "cell_type": "code",
   "execution_count": null,
   "metadata": {},
   "outputs": [],
   "source": [
    "# Create a thread\n",
    "config = {\"configurable\": {\"thread_id\": \"4\"}}\n",
    "\n",
    "# Start conversation\n",
    "input_message = HumanMessage(content=\"Quiero un coche elegante que usaré para trabajar todos los días. Me gustan los diseños llamativos. Mido 1.94\")\n",
    "output = graph.invoke({\"messages\": [input_message]}, config) \n",
    "for m in output['messages'][-1:]:\n",
    "    m.pretty_print()"
   ]
  },
  {
   "cell_type": "code",
   "execution_count": null,
   "metadata": {},
   "outputs": [],
   "source": [
    "print(output['preferencias_usuario'])\n",
    "print('---------------------------------------------------------------------')\n",
    "print(output['filtros_inferidos'])\n"
   ]
  },
  {
   "cell_type": "code",
   "execution_count": null,
   "metadata": {},
   "outputs": [],
   "source": [
    "# Create a thread\n",
    "config = {\"configurable\": {\"thread_id\": \"4\"}}\n",
    "\n",
    "# Start conversation\n",
    "input_message = HumanMessage(content=\"si electrico estaria perfecto\")\n",
    "output = graph.invoke({\"messages\": [input_message]}, config) \n",
    "for m in output['messages'][-1:]:\n",
    "    m.pretty_print()"
   ]
  },
  {
   "cell_type": "code",
   "execution_count": null,
   "metadata": {},
   "outputs": [],
   "source": [
    "print(output['preferencias_usuario'])\n",
    "print('---------------------------------------------------------------------')\n",
    "print(output['filtros_inferidos'])"
   ]
  },
  {
   "cell_type": "code",
   "execution_count": null,
   "metadata": {},
   "outputs": [],
   "source": [
    "# Create a thread\n",
    "config = {\"configurable\": {\"thread_id\": \"4\"}}\n",
    "\n",
    "# Start conversation\n",
    "input_message = HumanMessage(content=\"automatico y peso menos de 100kg\")\n",
    "output = graph.invoke({\"messages\": [input_message]}, config) \n",
    "for m in output['messages'][-1:]:\n",
    "    m.pretty_print()"
   ]
  },
  {
   "cell_type": "code",
   "execution_count": null,
   "metadata": {},
   "outputs": [],
   "source": [
    "print(output['preferencias_usuario'])\n",
    "print('---------------------------------------------------------------------')\n",
    "print(output['filtros_inferidos'])"
   ]
  },
  {
   "cell_type": "code",
   "execution_count": null,
   "metadata": {},
   "outputs": [],
   "source": [
    "# Create a thread\n",
    "config = {\"configurable\": {\"thread_id\": \"4\"}}\n",
    "\n",
    "# Start conversation\n",
    "input_message = HumanMessage(content=\"si me apasionan los coches\")\n",
    "output = graph.invoke({\"messages\": [input_message]}, config) \n",
    "for m in output['messages'][-1:]:\n",
    "    m.pretty_print()"
   ]
  },
  {
   "cell_type": "code",
   "execution_count": null,
   "metadata": {},
   "outputs": [],
   "source": [
    "print(output['preferencias_usuario'])\n",
    "print('---------------------------------------------------------------------')\n",
    "print(output['filtros_inferidos'])"
   ]
  },
  {
   "cell_type": "code",
   "execution_count": null,
   "metadata": {},
   "outputs": [],
   "source": [
    "# Create a thread\n",
    "config = {\"configurable\": {\"thread_id\": \"4\"}}\n",
    "\n",
    "# Start conversation\n",
    "input_message = HumanMessage(content=\"si\")\n",
    "output = graph.invoke({\"messages\": [input_message]}, config) \n",
    "for m in output['messages'][-1:]:\n",
    "    m.pretty_print()"
   ]
  },
  {
   "cell_type": "markdown",
   "metadata": {},
   "source": [
    "# Prueba 5"
   ]
  },
  {
   "cell_type": "code",
   "execution_count": null,
   "metadata": {},
   "outputs": [],
   "source": [
    "# Create a thread\n",
    "config = {\"configurable\": {\"thread_id\": \"5\"}}\n",
    "\n",
    "# Start conversation\n",
    "input_message = HumanMessage(content=\"Dime quien eres\")\n",
    "output = graph.invoke({\"messages\": [input_message]}, config) \n",
    "for m in output['messages'][-1:]:\n",
    "    m.pretty_print()"
   ]
  },
  {
   "cell_type": "code",
   "execution_count": null,
   "metadata": {},
   "outputs": [],
   "source": [
    "# Create a thread\n",
    "config = {\"configurable\": {\"thread_id\": \"5\"}}\n",
    "\n",
    "# Start conversation\n",
    "input_message = HumanMessage(content=\"tienes motos para recomendarme?\")\n",
    "output = graph.invoke({\"messages\": [input_message]}, config) \n",
    "for m in output['messages'][-1:]:\n",
    "    m.pretty_print()"
   ]
  },
  {
   "cell_type": "code",
   "execution_count": null,
   "metadata": {},
   "outputs": [],
   "source": [
    "state = graph.get_state(config).values\n",
    "for m in state[\"messages\"]:\n",
    "    m.pretty_print()"
   ]
  },
  {
   "cell_type": "markdown",
   "metadata": {},
   "source": [
    "## Objetivo\n",
    "Crear un nuevo nodo en LangGraph llamado analizar_perfil_usuario que:\n",
    "\n",
    "Reciba el mensaje del usuario.\n",
    "\n",
    "Llame a un LLM con un SystemMessage especializado.\n",
    "\n",
    "Devuelva un dict con tres secciones:\n",
    "\n",
    "\"perfil_usuario\" → altura, peso, uso, gustos, etc.\n",
    "\n",
    "\"filtros_inferidos\" → potencia_min, plazas_min, etc.\n",
    "\n",
    "\"mensaje_validacion\"\n",
    "\n",
    "Este resultado lo guardaremos en el state para luego usarlo al llamar buscar_producto_bd()."
   ]
  },
  {
   "cell_type": "code",
   "execution_count": null,
   "metadata": {},
   "outputs": [],
   "source": []
  },
  {
   "cell_type": "code",
   "execution_count": null,
   "metadata": {},
   "outputs": [],
   "source": [
    "\n",
    "# Configurar el cliente de BigQuery\n",
    "client = bigquery.Client(project=\"thecarmentor-mvp2\")\n",
    "\n",
    "@tool\n",
    "def buscar_producto_bd(consulta: str, filtros: dict = None):\n",
    "    \"\"\"\n",
    "    Busca productos en la base de datos utilizando una consulta semántica en BigQuery.\n",
    "    Tu objetivo es proporcionar respuestas precisas para ayudar en la búsqueda en el inventario de coches disponibles.\n",
    "    \n",
    "    Args:\n",
    "        consulta (str): Consulta de texto para buscar productos similares.\n",
    "    \n",
    "    Returns:\n",
    "        list[dict]: Resultados formateados como una lista de diccionarios con detalles de los productos más relevantes.\n",
    "    \"\"\"\n",
    "    \n",
    "    if not consulta.strip():\n",
    "        raise ValueError(\"La consulta no puede estar vacía.\")\n",
    "\n",
    "    # Normalizar la consulta para que coincida con el formato de los embeddings.\n",
    "    consulta_normalizada = normalize_text_sql(consulta)\n",
    "    logging.debug(f\"Consulta normalizada: {consulta_normalizada}\")\n",
    "    \n",
    "    try:\n",
    "        base_query = \"\"\"\n",
    "        WITH resultados_vector AS (\n",
    "            SELECT \n",
    "                base.content AS nombre_coche,\n",
    "                base.mecanica,\n",
    "                base.price,\n",
    "                base.KM,\n",
    "                base.year,\n",
    "                base.image_url,\n",
    "                search_result.distance\n",
    "            FROM VECTOR_SEARCH(\n",
    "                TABLE `web_cars.coches_embeddingsV1`,\n",
    "                'ml_generate_embedding_result',\n",
    "                (SELECT * FROM ML.GENERATE_EMBEDDING(\n",
    "                    MODEL `thecarmentor-mvp2.mymodel.modelembedding`,\n",
    "                    (SELECT @consulta AS content),\n",
    "                    STRUCT(TRUE AS flatten_json_output, 'SEMANTIC_SIMILARITY' AS task_type, 768 AS output_dimensionality)\n",
    "                )),\n",
    "                'ml_generate_embedding_result',\n",
    "                top_k => 6\n",
    "            ) AS search_result\n",
    "        )\n",
    "        SELECT * FROM resultados_vector\n",
    "        WHERE 1=1\n",
    "        \"\"\"\n",
    "        \n",
    "        # Inicializar lista de condiciones y parámetros\n",
    "        query_conditions = []\n",
    "        # Usamos la consulta normalizada para la generación del embedding\n",
    "        query_parameters = [bigquery.ScalarQueryParameter(\"consulta\", \"STRING\", consulta_normalizada)]\n",
    "        \n",
    "        # Agregar condiciones dinámicamente según los filtros proporcionados\n",
    "        if filtros:\n",
    "            if 'precio_max' in filtros:\n",
    "                query_conditions.append(\"price <= @precio_max\")\n",
    "                query_parameters.append(bigquery.ScalarQueryParameter(\"precio_max\", \"INT64\", filtros[\"precio_max\"]))\n",
    "            if 'precio_min' in filtros:\n",
    "                query_conditions.append(\"price >= @precio_min\")\n",
    "                query_parameters.append(bigquery.ScalarQueryParameter(\"precio_min\", \"INT64\", filtros[\"precio_min\"]))\n",
    "            if 'year_min' in filtros:\n",
    "                query_conditions.append(\"year >= @year_min\")\n",
    "                query_parameters.append(bigquery.ScalarQueryParameter(\"year_min\", \"INT64\", filtros[\"year_min\"]))\n",
    "            if 'km_max' in filtros:\n",
    "                query_conditions.append(\"KM <= @km_max\")\n",
    "                query_parameters.append(bigquery.ScalarQueryParameter(\"km_max\", \"INT64\", filtros[\"km_max\"]))\n",
    "\n",
    "        # Si hay filtros, agregarlos a la consulta\n",
    "        # if query_conditions:\n",
    "        #     base_query += \" AND \" + \" AND \".join(query_conditions)\n",
    "        if query_conditions:\n",
    "            base_query += \" \" + \" AND \".join(query_conditions)\n",
    "\n",
    "\n",
    "        logging.debug(f\"Consulta SQL generada: {base_query}\")\n",
    "        logging.debug(f\"Parámetros de consulta: {query_parameters}\")\n",
    "\n",
    "        # Ejecutar la consulta\n",
    "        query_job = client.query(\n",
    "            base_query, \n",
    "            job_config=bigquery.QueryJobConfig(query_parameters=query_parameters)\n",
    "        )\n",
    "        results = query_job.result().to_dataframe()\n",
    "        # Ordenar los resultados por similitud\n",
    "        if not results.empty:\n",
    "            results = results.sort_values(by=\"distance\", ascending=True)\n",
    "\n",
    "        if results.empty:\n",
    "            return [{\"error\": \"No se encontraron resultados para la consulta y los filtros aplicados.\"}]\n",
    "            \n",
    "        formatted_results = [\n",
    "            {\n",
    "                \"nombre_coche\": row[\"nombre_coche\"],\n",
    "                \"mecanica\": row[\"mecanica\"],\n",
    "                \"precio\": row[\"price\"],\n",
    "                \"kilometros\": row[\"KM\"],\n",
    "                \"año\": row[\"year\"],\n",
    "                \"imagen\": row[\"image_url\"],\n",
    "                \"similitud\": round(row[\"distance\"], 2)\n",
    "            }\n",
    "            for _, row in results.iterrows()\n",
    "        ]\n",
    "        return formatted_results\n",
    "\n",
    "    except Exception as e:\n",
    "        logging.error(f\"Error al ejecutar la consulta: {e}\", exc_info=True)\n",
    "        return [{\"error\": \"No se pudieron encontrar resultados.\"}]\n",
    "\n",
    "# Definir herramientas\n",
    "# tools = [buscar_producto_bd]\n",
    "\n",
    "\n",
    "\n",
    "# Actualizar lista de herramientas\n",
    "tools = [buscar_producto_bd]\n",
    "llm_with_tools = llm.bind_tools(tools, parallel_tool_calls=True)\n"
   ]
  },
  {
   "cell_type": "code",
   "execution_count": null,
   "metadata": {},
   "outputs": [],
   "source": [
    "\n",
    "sys_msg = SystemMessage(content=\"\"\"Eres Mentor, un util y experto en la busqueda de coches.\n",
    "INSTRUCCIONES IMPORTANTES:\n",
    "**Antes de hacer una búsqueda en la base de datos, analiza la consulta y extrae solo la información clave.**  \n",
    "   - Si el usuario menciona un coche, filtra la consulta para obtener solo **la marca, modelo, versión, tipo de motorización y año**.\n",
    "   - **No incluyas frases completas del usuario como búsqueda.**  \n",
    "   - **No pases palabras como \"quiero\", \"busco\", \"auto\", \"coche\", \"modelo\", \"año\" si no son parte del nombre oficial del coche.**\n",
    "   - **Ejemplo:**  \n",
    "     - Entrada: `\"quiero coche bmw serie 1 120d hibrido año 2024\"`  \n",
    "     - **Consulta que debes generar:** `\"bmw serie 1 120d hibrido 2024\"`\n",
    "\n",
    "**Definiendo Preferencias**\n",
    "   - Para dar recomendaciones acertadas, puedes pedir al usuario que proporcione detalles sobre lo que busca:\n",
    "     • ¿Tienes una **marca** preferida?\n",
    "     • ¿Cuál es tu **presupuesto máximo**? (Opcional)\n",
    "     • ¿Te importa el **kilometraje máximo**? (Opcional)\n",
    "     • ¿Qué **años de antigüedad** son aceptables? (Opcional)\n",
    "\n",
    "**Presentación de Resultados**\n",
    "    - Aplica los filtros pero muestra también alguna alternativa fuera de los filtros si es muy relevante\n",
    "    Usa este formato para cada coche encontrado: \n",
    "    ### [Modelo]\n",
    "    ![Imagen del vehículo]([url_imagen])\n",
    "     - **Precio:** [precio]€\n",
    "     - **Kilómetros:** [km] km\n",
    "     - **Mecánica:** [tipo]\n",
    "     - **Año:** [year]\n",
    "     - **Similitud con tu búsqueda:** [score]\n",
    " \n",
    "** Ajustes**\n",
    "   - Si no encuentras lo que buscas, dime si quieres:\n",
    "   - Aumentar el **presupuesto** para ver modelos más recientes.\n",
    "   - Ampliar el **kilometraje permitido** para más opciones.\n",
    "   - Incluir **otros años** para expandir la búsqueda.\n",
    "   \n",
    "**Información Adicional**\n",
    "   -usa la herramienta `buscar_info_adicional` para obtener información actualizada sobre un modelo específico de coche.\n",
    "   - **Ejemplo:** `buscar_info_adicional(\"que caracteristicas tiene el BMW 320d 2019\")`\n",
    "\"\"\")\n",
    "# - También puedo **comparar dos coches** si tienes modelos específicos en mente.\n",
    "def assistant(state: MessagesState):\n",
    "    \"\"\"\n",
    "    Función principal del asistente invocando una búsqueda.\n",
    "    \"\"\"\n",
    "    return {\"messages\": [llm_with_tools.invoke([sys_msg] + state[\"messages\"])]}\n",
    "\n",
    "\n",
    "#    user_input = state[\"messages\"][-1].content  # Último mensaje del usuario\n",
    "# if detect_comparison_intent(user_input):\n",
    "#         car1, car2 = extract_car_models_llm(user_input)\n",
    "#         if car1 and car2:\n",
    "#             car1_data, car2_data = obtener_datos_comparacion(car1, car2)\n",
    "#             return {\"messages\": [comparar_coches_llm(car1_data, car2_data)]}\n",
    "#         else:\n",
    "#             return {\"messages\": [\"No pude identificar claramente los coches a comparar. ¿Podrías mencionarlos nuevamente?\"]}\n"
   ]
  },
  {
   "cell_type": "code",
   "execution_count": null,
   "metadata": {},
   "outputs": [],
   "source": [
    "memory = MemorySaver()\n",
    "\n",
    "# Graph\n",
    "graph = StateGraph(MessagesState)\n",
    "\n",
    "# Define nodes: these do the work\n",
    "graph.add_node(\"assistant\", assistant)\n",
    "graph.add_node(\"tools\", ToolNode(tools))\n",
    "\n",
    "# Define edges: these determine how the control flow moves\n",
    "graph.add_edge(START, \"assistant\")\n",
    "graph.add_conditional_edges(\n",
    "    \"assistant\",\n",
    "    lambda state: logging.debug(f\"tools_condition evalúa: {tools_condition(state)}\") or tools_condition(state)\n",
    ")\n",
    "    # If the latest message (result) from assistant is a tool call -> tools_condition routes to tools\n",
    "    # If the latest message (result) from assistant is a not a tool call -> tools_condition routes to END\n",
    "#     tools_condition,\n",
    "# )\n",
    "graph.add_edge(\"tools\", \"assistant\")\n",
    "graph = graph.compile(checkpointer=memory)\n",
    "# Show\n",
    "display(Image(graph.get_graph(xray=True).draw_mermaid_png()))"
   ]
  },
  {
   "cell_type": "code",
   "execution_count": null,
   "metadata": {},
   "outputs": [],
   "source": [
    "# Start conversation, again\n",
    "config = {\"configurable\": {\"thread_id\": \"1\"}}\n",
    "\n",
    "# Specify an input\n",
    "input_message = HumanMessage(content=\"quiero coche bmw serie 1 120d hibrido año 2024\")\n",
    "output = graph.invoke({\"messages\": input_message}, config)\n",
    "\n",
    "# Mostrar los mensajes resultantes del primer paso\n",
    "for m in output[\"messages\"]:\n",
    "    m.pretty_print()"
   ]
  },
  {
   "cell_type": "code",
   "execution_count": null,
   "metadata": {},
   "outputs": [],
   "source": [
    "# Start conversation, again\n",
    "config = {\"configurable\": {\"thread_id\": \"1\"}}\n",
    "\n",
    "# Specify an input\n",
    "input_message = HumanMessage(content=\"kilometraje 50.000 y presupuesto no importa, muestrame todas las opciones\")\n",
    "output = graph.invoke({\"messages\": input_message}, config)\n",
    "\n",
    "# Mostrar los mensajes resultantes del primer paso\n",
    "for m in output[\"messages\"]:\n",
    "    m.pretty_print()"
   ]
  },
  {
   "cell_type": "code",
   "execution_count": null,
   "metadata": {},
   "outputs": [],
   "source": [
    "# Start conversation, again\n",
    "config = {\"configurable\": {\"thread_id\": \"1\"}}\n",
    "\n",
    "# Specify an input\n",
    "input_message = HumanMessage(content=\"podrias darme las caracteristicas del bmw serie 1 118i 2024 diesel\")\n",
    "output = graph.invoke({\"messages\": input_message}, config)\n",
    "\n",
    "# Mostrar los mensajes resultantes del primer paso\n",
    "for m in output[\"messages\"]:\n",
    "    m.pretty_print()"
   ]
  },
  {
   "cell_type": "code",
   "execution_count": null,
   "metadata": {},
   "outputs": [],
   "source": [
    "# Start conversation, again\n",
    "config = {\"configurable\": {\"thread_id\": \"1\"}}\n",
    "\n",
    "# Specify an input\n",
    "input_message = HumanMessage(content=\"si, dame las caracteristicas del El 118i a gasolina\")\n",
    "output = graph.invoke({\"messages\": input_message}, config)\n",
    "\n",
    "# Mostrar los mensajes resultantes del primer paso\n",
    "for m in output[\"messages\"]:\n",
    "    m.pretty_print()"
   ]
  },
  {
   "cell_type": "code",
   "execution_count": null,
   "metadata": {},
   "outputs": [],
   "source": [
    "# Start conversation, again\n",
    "config = {\"configurable\": {\"thread_id\": \"2\"}}\n",
    "\n",
    "# Specify an input\n",
    "input_message = HumanMessage(content=\"quiero un coche kia sportage a gasolina, puede ser año 2011 a 2020 y no importa el kilometraje\")\n",
    "output = graph.invoke({\"messages\": input_message}, config)\n",
    "\n",
    "# Mostrar los mensajes resultantes del primer paso\n",
    "for m in output[\"messages\"]:\n",
    "    m.pretty_print()"
   ]
  },
  {
   "cell_type": "code",
   "execution_count": null,
   "metadata": {},
   "outputs": [],
   "source": [
    "# Start conversation\n",
    "config = {\"configurable\": {\"thread_id\": \"2\"}}\n",
    "\n",
    "# Specify an input\n",
    "input_message = HumanMessage(content=\"maximo 25.000 euros\")\n",
    "output = graph.invoke({\"messages\": input_message}, config)\n",
    "\n",
    "# Mostrar los mensajes resultantes del primer paso\n",
    "for m in output[\"messages\"]:\n",
    "    m.pretty_print()"
   ]
  },
  {
   "cell_type": "code",
   "execution_count": null,
   "metadata": {},
   "outputs": [],
   "source": [
    "config = {\"configurable\": {\"thread_id\": \"3\"}}\n",
    "\n",
    "# Specify an input\n",
    "input_message = HumanMessage(content=\"Mentor quiero un coche familiar, me podrias recomendar alguno?\")\n",
    "output = graph.invoke({\"messages\": input_message}, config)\n",
    "\n",
    "# Mostrar los mensajes resultantes del primer paso\n",
    "for m in output[\"messages\"]:\n",
    "    m.pretty_print()"
   ]
  },
  {
   "cell_type": "code",
   "execution_count": null,
   "metadata": {},
   "outputs": [],
   "source": [
    "# Start conversation, again\n",
    "config = {\"configurable\": {\"thread_id\": \"3\"}}\n",
    "\n",
    "# Specify an input\n",
    "input_message = HumanMessage(content=\"segun tu conocimiento que me recomiendas?\")\n",
    "output = graph.invoke({\"messages\": input_message}, config)\n",
    "\n",
    "# Mostrar los mensajes resultantes del primer paso\n",
    "for m in output[\"messages\"]:\n",
    "    m.pretty_print()"
   ]
  },
  {
   "cell_type": "code",
   "execution_count": null,
   "metadata": {},
   "outputs": [],
   "source": [
    "# Start conversation, again\n",
    "config = {\"configurable\": {\"thread_id\": \"3\"}}\n",
    "\n",
    "# Specify an input\n",
    "input_message = HumanMessage(content=\"pues SUV estaria bien y presupuesto hasta  12.000\")\n",
    "output = graph.invoke({\"messages\": input_message}, config)\n",
    "\n",
    "# Mostrar los mensajes resultantes del primer paso\n",
    "for m in output[\"messages\"]:\n",
    "    m.pretty_print()"
   ]
  },
  {
   "cell_type": "code",
   "execution_count": null,
   "metadata": {},
   "outputs": [],
   "source": [
    "# Start conversation, again\n",
    "config = {\"configurable\": {\"thread_id\": \"3\"}}\n",
    "\n",
    "# Specify an input\n",
    "input_message = HumanMessage(content=\"diesel o gasolina esta bien\")\n",
    "output = graph.invoke({\"messages\": input_message}, config)\n",
    "\n",
    "# Mostrar los mensajes resultantes del primer paso\n",
    "for m in output[\"messages\"]:\n",
    "    m.pretty_print()"
   ]
  },
  {
   "cell_type": "code",
   "execution_count": null,
   "metadata": {},
   "outputs": [],
   "source": [
    "# Start conversation, again\n",
    "config = {\"configurable\": {\"thread_id\": \"3\"}}\n",
    "\n",
    "# Specify an input\n",
    "input_message = HumanMessage(content=\"vale maximo 10 años\")\n",
    "output = graph.invoke({\"messages\": input_message}, config)\n",
    "\n",
    "# Mostrar los mensajes resultantes del primer paso\n",
    "for m in output[\"messages\"]:\n",
    "    m.pretty_print()"
   ]
  }
 ],
 "metadata": {
  "kernelspec": {
   "display_name": "car_env",
   "language": "python",
   "name": "python3"
  },
  "language_info": {
   "codemirror_mode": {
    "name": "ipython",
    "version": 3
   },
   "file_extension": ".py",
   "mimetype": "text/x-python",
   "name": "python",
   "nbconvert_exporter": "python",
   "pygments_lexer": "ipython3",
   "version": "3.11.5"
  }
 },
 "nbformat": 4,
 "nbformat_minor": 2
}
