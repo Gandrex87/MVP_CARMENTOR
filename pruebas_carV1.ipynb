{
 "cells": [
  {
   "cell_type": "code",
   "execution_count": null,
   "metadata": {},
   "outputs": [],
   "source": [
    "from langchain.chat_models import init_chat_model\n",
    "\n",
    "# LLM base\n",
    "llm = init_chat_model(\"openai:gpt-4o-mini\", temperature=0.2)\n",
    "print(llm.invoke(\"Hola, ¿quién eres?\").content)\n",
    "\n",
    "from config.llm import llm_validacion\n",
    "\n",
    "print(llm_validacion.invoke(\"Hola, ¿quién eres?\").content)"
   ]
  },
  {
   "cell_type": "code",
   "execution_count": null,
   "metadata": {},
   "outputs": [],
   "source": [
    "from config.llm import llm_validacion , prompt_validacion\n",
    "from langchain_core.messages import SystemMessage, HumanMessage\n",
    "\n",
    "respuesta = llm_validacion.invoke([\n",
    "    SystemMessage(content=prompt_validacion),\n",
    "    HumanMessage(content=\"Hola, ¿quién eres?\")\n",
    "])\n",
    "print(respuesta.content)\n",
    "\n",
    "\n"
   ]
  },
  {
   "cell_type": "code",
   "execution_count": null,
   "metadata": {},
   "outputs": [],
   "source": [
    "from config.llm import prompt_validacion\n",
    "\n",
    "print(prompt_validacion)"
   ]
  },
  {
   "cell_type": "code",
   "execution_count": null,
   "metadata": {},
   "outputs": [],
   "source": [
    "from utils.enums import TipoMecanica # Ajusta la ruta\n",
    "\n",
    "valores_mecanica = \", \".join([f\"'{e.value}'\" for e in TipoMecanica]) \n",
    "print(valores_mecanica)\n",
    "# Ejemplo de salida: 'BEV', 'GASOLINA', 'DIESEL', 'HIBRIDO', ..."
   ]
  },
  {
   "cell_type": "code",
   "execution_count": null,
   "metadata": {},
   "outputs": [],
   "source": [
    "from graph.perfil.state import ResultadoEconomia,ResultadoSoloFiltros # Ajusta la ruta\n",
    "import json\n",
    "\n",
    "schema = ResultadoSoloFiltros.model_json_schema()\n",
    "print(json.dumps(schema, indent=2))"
   ]
  },
  {
   "cell_type": "code",
   "execution_count": null,
   "metadata": {},
   "outputs": [],
   "source": [
    "from utils.conversion import get_enum_names\n",
    "from utils.enums import TipoCarroceria, TipoMecanica\n",
    "\n",
    "#get_enum_names([TipoCarroceria.COMERCIAL, TipoCarroceria.PICKUP])\n",
    "\n",
    "#Dos maneras de obtener los nombres de las clases enums\n",
    "print(\"totalidad tipo carroceria:\" , list(TipoCarroceria))\n",
    "print(\"totalidad mecanica\" , get_enum_names(list(TipoMecanica)))\n",
    "print(\"totalidad mecanica\" ,(list(TipoMecanica)))\n"
   ]
  },
  {
   "cell_type": "markdown",
   "metadata": {},
   "source": [
    "# Creacion del Grafo"
   ]
  },
  {
   "cell_type": "code",
   "execution_count": 1,
   "metadata": {},
   "outputs": [
    {
     "name": "stderr",
     "output_type": "stream",
     "text": [
      "CropBox missing from /Page, defaulting to MediaBox\n",
      "CropBox missing from /Page, defaulting to MediaBox\n",
      "CropBox missing from /Page, defaulting to MediaBox\n",
      "CropBox missing from /Page, defaulting to MediaBox\n"
     ]
    },
    {
     "name": "stdout",
     "output_type": "stream",
     "text": [
      "INFO ► Añadiendo nodos al grafo...\n",
      "INFO ► Compilando el grafo...\n",
      "INFO ► Grafo compilado exitosamente.\n"
     ]
    }
   ],
   "source": [
    "from langchain_core.messages import SystemMessage, HumanMessage\n",
    "# Importar el constructor del grafo\n",
    "from IPython.display import Image, display\n",
    "from graph.perfil.builder import build_sequential_agent_graph\n",
    "# Construir el grafo\n",
    "graph = build_sequential_agent_graph()\n",
    "#display(Image(graph.get_graph(xray=True).draw_mermaid_png()))\n"
   ]
  },
  {
   "cell_type": "code",
   "execution_count": null,
   "metadata": {},
   "outputs": [
    {
     "name": "stdout",
     "output_type": "stream",
     "text": [
      "Iniciando conversación con Thread ID: conversacion_test_2\n"
     ]
    }
   ],
   "source": [
    "# En tu celda de Jupyter Notebook, DESPUÉS de construir el grafo:\n",
    "\n",
    "from langchain_core.messages import HumanMessage, AIMessage # Asegúrate de importar\n",
    "\n",
    "#graph = build_sequential_agent_graph() \n",
    "#print(\"INFO: Grafo compilado.\")\n",
    "\n",
    "# --- BUCLE CONVERSACIONAL ---\n",
    "thread_id = \"conversacion_test_2\" # Usa un ID nuevo para empezar de cero\n",
    "config = {\"configurable\": {\"thread_id\": thread_id}}\n",
    "print(f\"Iniciando conversación con Thread ID: {thread_id}\")\n",
    "\n",
    "while True:\n",
    "    try:\n",
    "        user_input = input(\"\\nTú: \")\n",
    "        if user_input.lower() in [\"salir\", \"exit\", \"quit\"]:\n",
    "            print(\"Asistente: ¡Hasta luego!\")\n",
    "            break\n",
    "        current_input_messages = [HumanMessage(content=user_input)]\n",
    "    except EOFError:\n",
    "        print(\"Asistente: Detectado fin de entrada. ¡Adiós!\")\n",
    "        break\n",
    "\n",
    "    print(\"Asistente: Pensando...\")\n",
    "    try:\n",
    "        # Invocar al grafo CON CADA NUEVA ENTRADA HUMANA\n",
    "        output = graph.invoke({\"messages\": current_input_messages}, config) \n",
    "        \n",
    "        if output and \"messages\" in output and output[\"messages\"]:\n",
    "             last_message = output[\"messages\"][-1]\n",
    "             \n",
    "             print(\"\\nAsistente:\")\n",
    "             if isinstance(last_message, AIMessage):\n",
    "                 last_message.pretty_print()\n",
    "                 # Comprobar si es el mensaje final para salir del bucle\n",
    "                 if \"✅ He entendido lo siguiente\" in last_message.content: # Adapta tu condición final\n",
    "                     print(\"\\n--- Fin de la Conversación (Resumen Final Generado) ---\")\n",
    "                     break\n",
    "             else:\n",
    "                 print(f\"(Mensaje inesperado: {type(last_message)}) {last_message}\")\n",
    "                 # Podrías querer salir del bucle aquí también\n",
    "                 break \n",
    "        else:\n",
    "             print(\"WARN: La salida del grafo no contiene mensajes o está vacía.\")\n",
    "             break\n",
    "\n",
    "    except Exception as e:\n",
    "        print(f\"\\nERROR: Ocurrió un error al invocar el grafo: {e}\")\n",
    "        import traceback\n",
    "        traceback.print_exc() \n",
    "        break"
   ]
  },
  {
   "cell_type": "markdown",
   "metadata": {},
   "source": [
    "## Prueba 1"
   ]
  },
  {
   "cell_type": "code",
   "execution_count": 2,
   "metadata": {},
   "outputs": [
    {
     "name": "stderr",
     "output_type": "stream",
     "text": [
      "DEBUG:openai._base_client:Request options: {'method': 'post', 'url': '/chat/completions', 'headers': {'X-Stainless-Helper-Method': 'beta.chat.completions.parse'}, 'files': None, 'post_parser': <function Completions.parse.<locals>.parser at 0x14b8b1bc0>, 'json_data': {'messages': [{'content': '<Role>\\nEres un asistente de conversación amigable y metodológico. Tu misión actual es conocer las preferencias generales y el perfil básico de un usuario que busca un coche (`PerfilUsuario`). Debes seguir las reglas especificadas y generar SIEMPRE un objeto JSON válido que cumpla el esquema `ResultadoSoloPerfil`. Mantén un tono cercano.\\n</Role>\\n\\n<Esquema_JSON_Requerido>\\nLa estructura JSON que DEBES generar es la siguiente:\\n```json\\n{{\\n  \"$defs\": {\\n    \"NivelAventura\": {\\n      \"enum\": [\\n        \"ninguna\",\\n        \"ocasional\",\\n        \"extrema\"\\n      ],\\n      \"title\": \"NivelAventura\",\\n      \"type\": \"string\"\\n    },\\n    \"PerfilUsuario\": {\\n      \"properties\": {\\n        \"altura_mayor_190\": {\\n          \"anyOf\": [\\n            {\\n              \"type\": \"string\"\\n            },\\n            {\\n              \"type\": \"null\"\\n            }\\n          ],\\n          \"description\": \"\\\\u00bfEl usuario mide m\\\\u00e1s de 1.90 metros? Responde \\'s\\\\u00ed\\' o \\'no\\'\",\\n          \"title\": \"Altura Mayor 190\"\\n        },\\n...\\n  ],\\n  \"title\": \"ResultadoSoloPerfil\",\\n  \"type\": \"object\"\\n}}\\n</Esquema_JSON_Requerido>\\n\\n<Reglas_Generales>\\n\\n1. Analiza TODO el historial de la conversación y el último mensaje del usuario para extraer/inferir valores para TODOS los campos de preferencias_usuario. Usa null si no hay información.\\n2. Haz solo preguntas relevantes según los campos de PerfilUsuario que falten y no repitas preguntas que ya hayan sido respondidas explícita o implícitamente.\\n3. PROHIBIDO preguntar por temas fuera de PerfilUsuario en esta etapa (NO preguntar por precio, consumo, filtros técnicos como tipo_mecanica, tecnología, seguridad, maletero, etc.).\\n4. Usa el campo mensaje_validacion para formular la siguiente pregunta necesaria o para confirmar que el perfil está completo. </Reglas_Generales>\\n</Reglas_Generales>\\n\\n<Reglas_Preguntas_Especificas>\\n\\nUsa estas preguntas EXACTAS cuando necesites preguntar por estos campos de PerfilUsuario:\\n\\naltura_mayor_190: \"¿Mides más de 1.90 m?\"\\npeso_mayor_100: \"¿Pesas más de 100 kg?\"\\nuso_profesional: \"¿Uso personal o profesional?\"\\nvalora_estetica: \"¿Valoras la estética?\"\\nsolo_electricos: \"¿Quieres solo coches eléctricos?\"\\ntransmision_preferida: (Si falta y es relevante preguntar) \"¿Qué tipo de transmisión prefieres?\\\\n 1) Automático\\\\n 2) Manual\\\\n 3) Ambos\"\\napasionado_motor: \"¿Eres un apasionado del motor?\"\\nManejo de aventura: Si no se ha preguntado por aventura y no se puede inferir un valor (ninguna, ocasional, extrema), deja \"aventura\": null en preferencias_usuario y USA UNO de los siguientes templates EXACTOS en mensaje_validacion (elige el que te parezca más natural en el contexto):\\n\\n<Aventura_Templates>\\n\\nTemplate 1: “Hablando de aventura, ¿con cuál de estas afirmaciones te identificas más?\\\\n 1) No pisas nada que no sea asfalto (ninguna)\\\\n 2) Salidas fuera de asfalto ocasionales (ocasional)\\\\n 3) Circular en condiciones duras con total garantía (extrema)”\\nTemplate 2: “Para conocer tu espíritu aventurero, dime:\\\\n 1) Solo asfalto (ninguna)\\\\n 2) Salidas off‑road de vez en cuando (ocasional)\\\\n 3) Aventurero extremo en terrenos difíciles (extrema)” </Aventura_Templates>\\nConfirmación de Perfil Completo: Si consideras que todos los campos necesarios de PerfilUsuario ya tienen un valor (no null), usa un mensaje de confirmación en mensaje_validacion. Ejemplo: \"¡Perfecto! Ya tenemos tus preferencias principales. ¿Pasamos a los detalles técnicos?\" o simplemente \"\".\\n</Reglas_Preguntas_Especificas>\\n\\n<Ejemplos_Perfil>\\n\\nEjemplo 1: Inicio, pregunta por Aventura\\n\\nContexto (Historial + Último mensaje): [HumanMessage(content=\\'Hola, dime quién eres\\')]\\nSalida JSON Esperada:\\nJSON\\n\\n{\\n  \"preferencias_usuario\": {\\n    \"altura_mayor_190\": null, \"peso_mayor_100\": null, \"uso_profesional\": null, \\n    \"valora_estetica\": null, \"solo_electricos\": null, \"transmision_preferida\": null, \\n    \"apasionado_motor\": null, \"aventura\": null \\n  },\\n  \"mensaje_validacion\": \"¡Hola! Soy Mentor, tu asistente para encontrar el coche perfecto. Analizo tus necesidades y preferencias. Para empezar, hablando de aventura, ¿con cuál de estas afirmaciones te identificas más?\\\\n  1) No pisas nada que no sea asfalto (ninguna)\\\\n  2) Salidas fuera de asfalto ocasionales (ocasional)\\\\n  3) Circular en condiciones duras con total garantía (extrema)\"\\n}\\n\\nEjemplo 2: Usuario da altura, estética y uso; pregunta por Transmisión\\n\\nContexto: [..., HumanMessage(content=\\'Mido 1.95m y me gustan los coches con buen diseño. Quiero algo para ir al trabajo.\\')]\\nSalida JSON Esperada:\\nJSON\\n\\n{\\n  \"preferencias_usuario\": {\\n    \"altura_mayor_190\": \"sí\", \"peso_mayor_100\": null, \"uso_profesional\": \"sí\", \\n    \"valora_estetica\": \"sí\", \"solo_electricos\": null, \"transmision_preferida\": null, \\n    \"apasionado_motor\": null, \"aventura\": null \\n  },\\n  \"mensaje_validacion\": \"Entendido: mides más de 1.90m, valoras la estética y es para uso profesional. ¿Qué tipo de transmisión prefieres?\\\\n  1) Automático\\\\n  2) Manual\\\\n  3) Ambos\" \\n}\\n(Nota: En este ejemplo, asumimos que preguntar por transmisión es prioritario sobre aventura según tu lógica interna o la del LLM)\\n\\nEjemplo 3: Perfil completo, mensaje de confirmación\\n\\nContexto: [..., HumanMessage(content=\\'Prefiero automático, no quiero solo eléctricos, y no soy apasionado del motor. Uso personal y solo asfalto. No soy alto ni pesado.\\')]\\nSalida JSON Esperada:\\nJSON\\n\\n{\\n  \"preferencias_usuario\": {\\n    \"altura_mayor_190\": \"no\", \"peso_mayor_100\": \"no\", \"uso_profesional\": \"no\", \\n    \"valora_estetica\": \"sí\", # Asumiendo que se preguntó/infirió antes\\n    \"solo_electricos\": \"no\", \"transmision_preferida\": \"automatico\", \\n    \"apasionado_motor\": \"no\", \"aventura\": \"ninguna\" \\n  },\\n  \"mensaje_validacion\": \"¡Estupendo! Creo que ya tengo claras todas tus preferencias principales. ¿Vamos a ver qué características técnicas encajarían?\" \\n}\\n</Ejemplos_Perfil>\\n\\n<Formato_Salida_JSON_Final>\\nGenera únicamente el objeto JSON completo y válido solicitado que cumpla el esquema ResultadoSoloPerfil, sin añadir ningún texto antes o después.\\n\\nJSON\\n\\n{\\n  \"preferencias_usuario\": { ... },\\n  \"mensaje_validacion\": \"<string>\"\\n}\\n</Formato_Salida_JSON_Final>', 'role': 'user'}, {'content': 'oye busco un coche para la ciudad', 'role': 'user'}], 'model': 'gpt-4o-mini', 'response_format': {'type': 'json_schema', 'json_schema': {'schema': {'$defs': {'NivelAventura': {'enum': ['ninguna', 'ocasional', 'extrema'], 'title': 'NivelAventura', 'type': 'string'}, 'PerfilUsuario': {'properties': {'altura_mayor_190': {'anyOf': [{'type': 'string'}, {'type': 'null'}], 'description': \"¿El usuario mide más de 1.90 metros? Responde 'sí' o 'no'\", 'title': 'Altura Mayor 190'}, 'peso_mayor_100': {'anyOf': [{'type': 'string'}, {'type': 'null'}], 'description': \"¿El usuario pesa más de 100 kg? Responde 'sí' o 'no'\", 'title': 'Peso Mayor 100'}, 'uso_profesional': {'anyOf': [{'type': 'string'}, {'type': 'null'}], 'description': \"¿Usará el coche para trabajo? Responde 'sí' o 'no'\", 'title': 'Uso Profesional'}, 'valora_estetica': {'anyOf': [{'type': 'string'}, {'type': 'null'}], 'description': \"¿Valora la estética del coche? Responde 'sí' o 'no'\", 'title': 'Valora Estetica'}, 'solo_electricos': {'anyOf': [{'type': 'string'}, {'type': 'null'}], 'description': \"¿Quiere solo coches eléctricos? Responde 'sí' o 'no'\", 'title': 'Solo Electricos'}, 'transmision_preferida': {'anyOf': [{'$ref': '#/$defs/Transmision'}, {'type': 'null'}], 'description': '¿Qué transmisión prefieres: automático, manual o ambos?'}, 'apasionado_motor': {'anyOf': [{'type': 'string'}, {'type': 'null'}], 'description': \"¿Eres un apasionado/a del motor y/o la movilidad? Responde 'sí' o 'no'\", 'title': 'Apasionado Motor'}, 'aventura': {'anyOf': [{'$ref': '#/$defs/NivelAventura'}, {'type': 'null'}], 'description': \"¿Qué nivel de aventura buscas con tu vehículo: 'ninguna', 'ocasional' o 'extrema'?\"}}, 'title': 'PerfilUsuario', 'type': 'object', 'additionalProperties': False, 'required': ['altura_mayor_190', 'peso_mayor_100', 'uso_profesional', 'valora_estetica', 'solo_electricos', 'transmision_preferida', 'apasionado_motor', 'aventura']}, 'Transmision': {'enum': ['automático', 'manual', 'ambos'], 'title': 'Transmision', 'type': 'string'}}, 'description': 'Salida esperada del LLM enfocado solo en el perfil del usuario.', 'properties': {'preferencias_usuario': {'$ref': '#/$defs/PerfilUsuario'}, 'mensaje_validacion': {'description': 'Pregunta de seguimiento CLARA y CORTA si falta información ESENCIAL para completar el PerfilUsuario, o un mensaje de confirmación si el perfil está completo.', 'title': 'Mensaje Validacion', 'type': 'string'}}, 'required': ['preferencias_usuario', 'mensaje_validacion'], 'title': 'ResultadoSoloPerfil', 'type': 'object', 'additionalProperties': False}, 'name': 'ResultadoSoloPerfil', 'strict': True}}, 'stream': False, 'temperature': 0.2}}\n",
      "DEBUG:openai._base_client:Sending HTTP Request: POST https://api.openai.com/v1/chat/completions\n",
      "DEBUG:httpcore.connection:connect_tcp.started host='api.openai.com' port=443 local_address=None timeout=None socket_options=None\n",
      "DEBUG:httpcore.connection:connect_tcp.complete return_value=<httpcore._backends.sync.SyncStream object at 0x14b7b4b90>\n",
      "DEBUG:httpcore.connection:start_tls.started ssl_context=<ssl.SSLContext object at 0x11f6eccb0> server_hostname='api.openai.com' timeout=None\n",
      "DEBUG:httpcore.connection:start_tls.complete return_value=<httpcore._backends.sync.SyncStream object at 0x14b8d5b50>\n",
      "DEBUG:httpcore.http11:send_request_headers.started request=<Request [b'POST']>\n",
      "DEBUG:httpcore.http11:send_request_headers.complete\n",
      "DEBUG:httpcore.http11:send_request_body.started request=<Request [b'POST']>\n",
      "DEBUG:httpcore.http11:send_request_body.complete\n",
      "DEBUG:httpcore.http11:receive_response_headers.started request=<Request [b'POST']>\n",
      "DEBUG:urllib3.connectionpool:Starting new HTTPS connection (1): eu.api.smith.langchain.com:443\n"
     ]
    },
    {
     "name": "stdout",
     "output_type": "stream",
     "text": [
      "--- Ejecutando Nodo: recopilar_preferencias_node ---\n",
      "DEBUG (Perfil) ► Último mensaje es HumanMessage o historial vacío, llamando a llm_solo_perfil...\n"
     ]
    },
    {
     "name": "stderr",
     "output_type": "stream",
     "text": [
      "DEBUG:urllib3.connectionpool:https://eu.api.smith.langchain.com:443 \"GET /info HTTP/1.1\" 200 709\n",
      "DEBUG:urllib3.connectionpool:https://eu.api.smith.langchain.com:443 \"POST /runs/multipart HTTP/1.1\" 202 34\n",
      "DEBUG:httpcore.http11:receive_response_headers.complete return_value=(b'HTTP/1.1', 200, b'OK', [(b'Date', b'Sun, 04 May 2025 13:58:06 GMT'), (b'Content-Type', b'application/json'), (b'Transfer-Encoding', b'chunked'), (b'Connection', b'keep-alive'), (b'access-control-expose-headers', b'X-Request-ID'), (b'openai-organization', b'user-ic25pcewdjuowsz9q2ektvrn'), (b'openai-processing-ms', b'3250'), (b'openai-version', b'2020-10-01'), (b'x-ratelimit-limit-requests', b'10000'), (b'x-ratelimit-limit-tokens', b'200000'), (b'x-ratelimit-remaining-requests', b'9999'), (b'x-ratelimit-remaining-tokens', b'198448'), (b'x-ratelimit-reset-requests', b'8.64s'), (b'x-ratelimit-reset-tokens', b'465ms'), (b'x-request-id', b'req_b25f716467091fadf3508bc9ebd9c7d6'), (b'strict-transport-security', b'max-age=31536000; includeSubDomains; preload'), (b'cf-cache-status', b'DYNAMIC'), (b'Set-Cookie', b'__cf_bm=Jr7CUc0T5n8.c8Y7.nJ.zSvNDw5GLa3tVeo5U32NetI-1746367086-1.0.1.1-vO5Nvilr7iTN8q60VblYgu54p_I89Aq_fxRnP5R8tPAmGrRHWPVoPcVy84V5.FoKMuGD34Vti5cz9xy8PvdLR_shNuUtV3QKY2l4LD031y4; path=/; expires=Sun, 04-May-25 14:28:06 GMT; domain=.api.openai.com; HttpOnly; Secure; SameSite=None'), (b'X-Content-Type-Options', b'nosniff'), (b'Set-Cookie', b'_cfuvid=WceSX4i6EzOMr6swd86raIwGNNdmSGUyTFefFfz1CsI-1746367086565-0.0.1.1-604800000; path=/; domain=.api.openai.com; HttpOnly; Secure; SameSite=None'), (b'Server', b'cloudflare'), (b'CF-RAY', b'93a882bb39f09d99-MRS'), (b'Content-Encoding', b'gzip'), (b'alt-svc', b'h3=\":443\"; ma=86400')])\n",
      "INFO:httpx:HTTP Request: POST https://api.openai.com/v1/chat/completions \"HTTP/1.1 200 OK\"\n",
      "DEBUG:httpcore.http11:receive_response_body.started request=<Request [b'POST']>\n",
      "DEBUG:httpcore.http11:receive_response_body.complete\n",
      "DEBUG:httpcore.http11:response_closed.started\n",
      "DEBUG:httpcore.http11:response_closed.complete\n",
      "DEBUG:openai._base_client:HTTP Response: POST https://api.openai.com/v1/chat/completions \"200 OK\" Headers([('date', 'Sun, 04 May 2025 13:58:06 GMT'), ('content-type', 'application/json'), ('transfer-encoding', 'chunked'), ('connection', 'keep-alive'), ('access-control-expose-headers', 'X-Request-ID'), ('openai-organization', 'user-ic25pcewdjuowsz9q2ektvrn'), ('openai-processing-ms', '3250'), ('openai-version', '2020-10-01'), ('x-ratelimit-limit-requests', '10000'), ('x-ratelimit-limit-tokens', '200000'), ('x-ratelimit-remaining-requests', '9999'), ('x-ratelimit-remaining-tokens', '198448'), ('x-ratelimit-reset-requests', '8.64s'), ('x-ratelimit-reset-tokens', '465ms'), ('x-request-id', 'req_b25f716467091fadf3508bc9ebd9c7d6'), ('strict-transport-security', 'max-age=31536000; includeSubDomains; preload'), ('cf-cache-status', 'DYNAMIC'), ('set-cookie', '__cf_bm=Jr7CUc0T5n8.c8Y7.nJ.zSvNDw5GLa3tVeo5U32NetI-1746367086-1.0.1.1-vO5Nvilr7iTN8q60VblYgu54p_I89Aq_fxRnP5R8tPAmGrRHWPVoPcVy84V5.FoKMuGD34Vti5cz9xy8PvdLR_shNuUtV3QKY2l4LD031y4; path=/; expires=Sun, 04-May-25 14:28:06 GMT; domain=.api.openai.com; HttpOnly; Secure; SameSite=None'), ('x-content-type-options', 'nosniff'), ('set-cookie', '_cfuvid=WceSX4i6EzOMr6swd86raIwGNNdmSGUyTFefFfz1CsI-1746367086565-0.0.1.1-604800000; path=/; domain=.api.openai.com; HttpOnly; Secure; SameSite=None'), ('server', 'cloudflare'), ('cf-ray', '93a882bb39f09d99-MRS'), ('content-encoding', 'gzip'), ('alt-svc', 'h3=\":443\"; ma=86400')])\n",
      "DEBUG:openai._base_client:request_id: req_b25f716467091fadf3508bc9ebd9c7d6\n"
     ]
    },
    {
     "name": "stdout",
     "output_type": "stream",
     "text": [
      "DEBUG (Perfil) ► Respuesta llm_solo_perfil: preferencias_usuario=PerfilUsuario(altura_mayor_190=None, peso_mayor_100=None, uso_profesional=None, valora_estetica=None, solo_electricos=None, transmision_preferida=None, apasionado_motor=None, aventura=None) mensaje_validacion='¡Hola! Para ayudarte mejor, hablemos de aventura. ¿Con cuál de estas afirmaciones te identificas más?\\n 1) No pisas nada que no sea asfalto (ninguna)\\n 2) Salidas fuera de asfalto ocasionales (ocasional)\\n 3) Circular en condiciones duras con total garantía (extrema)'\n",
      "DEBUG (Perfil) ► Preferencias tras post-procesamiento (si aplica): altura_mayor_190=None peso_mayor_100=None uso_profesional=None valora_estetica=None solo_electricos=None transmision_preferida=None apasionado_motor=None aventura=None\n",
      "DEBUG (Perfil) ► Estado preferencias_usuario actualizado: altura_mayor_190=None peso_mayor_100=None uso_profesional=None valora_estetica=None solo_electricos=None transmision_preferida=None apasionado_motor=None aventura=None\n",
      "DEBUG (Perfil) ► Guardando pregunta pendiente: ¡Hola! Para ayudarte mejor, hablemos de aventura. ¿Con cuál de estas afirmaciones te identificas más?\n",
      " 1) No pisas nada que no sea asfalto (ninguna)\n",
      " 2) Salidas fuera de asfalto ocasionales (ocasional)\n",
      " 3) Circular en condiciones duras con total garantía (extrema)\n",
      "--- Ejecutando Nodo: validar_preferencias_node ---\n",
      "--- DEBUG CHECK PERFIL ---\n",
      "Input prefs object: altura_mayor_190=None peso_mayor_100=None uso_profesional=None valora_estetica=None solo_electricos=None transmision_preferida=None apasionado_motor=None aventura=None\n",
      "Input prefs type: <class 'graph.perfil.state.PerfilUsuario'>\n",
      "Checking field 'altura_mayor_190': value='None', type=<class 'NoneType'>\n",
      "DEBUG (Validation Perfil) ► Campo 'altura_mayor_190' está vacío/None.\n",
      "DEBUG (Perfil) ► Validación: PerfilUsuario considerado INCOMPLETO.\n",
      "--- Evaluando Condición: ruta_decision_perfil ---\n",
      "DEBUG (Condición Perfil) ► Estado 'preferencias_usuario' recibido: altura_mayor_190=None peso_mayor_100=None uso_profesional=None valora_estetica=None solo_electricos=None transmision_preferida=None apasionado_motor=None aventura=None\n",
      "DEBUG (Condición Perfil) ► Tipo de 'preferencias_usuario': <class 'graph.perfil.state.PerfilUsuario'>\n",
      "--- DEBUG CHECK PERFIL ---\n",
      "Input prefs object: altura_mayor_190=None peso_mayor_100=None uso_profesional=None valora_estetica=None solo_electricos=None transmision_preferida=None apasionado_motor=None aventura=None\n",
      "Input prefs type: <class 'graph.perfil.state.PerfilUsuario'>\n",
      "Checking field 'altura_mayor_190': value='None', type=<class 'NoneType'>\n",
      "DEBUG (Validation Perfil) ► Campo 'altura_mayor_190' está vacío/None.\n",
      "DEBUG (Condición Perfil) ► Perfil INCOMPLETO. Se necesita pregunta.\n",
      "--- Ejecutando Nodo: preguntar_preferencias_node ---\n",
      "--- DEBUG CHECK PERFIL ---\n",
      "Input prefs object: altura_mayor_190=None peso_mayor_100=None uso_profesional=None valora_estetica=None solo_electricos=None transmision_preferida=None apasionado_motor=None aventura=None\n",
      "Input prefs type: <class 'graph.perfil.state.PerfilUsuario'>\n",
      "Checking field 'altura_mayor_190': value='None', type=<class 'NoneType'>\n",
      "DEBUG (Validation Perfil) ► Campo 'altura_mayor_190' está vacío/None.\n",
      "DEBUG (Preguntar Perfil) ► Perfil aún INCOMPLETO según checker.\n",
      "DEBUG (Preguntar Perfil) ► Usando pregunta guardada: ¡Hola! Para ayudarte mejor, hablemos de aventura. ¿Con cuál de estas afirmaciones te identificas más?\n",
      " 1) No pisas nada que no sea asfalto (ninguna)\n",
      " 2) Salidas fuera de asfalto ocasionales (ocasional)\n",
      " 3) Circular en condiciones duras con total garantía (extrema)\n",
      "DEBUG (Preguntar Perfil) ► Mensaje final añadido: ¡Hola! Para ayudarte mejor, hablemos de aventura. ¿Con cuál de estas afirmaciones te identificas más?\n",
      " 1) No pisas nada que no sea asfalto (ninguna)\n",
      " 2) Salidas fuera de asfalto ocasionales (ocasional)\n",
      " 3) Circular en condiciones duras con total garantía (extrema)\n",
      "==================================\u001b[1m Ai Message \u001b[0m==================================\n",
      "\n",
      "¡Hola! Para ayudarte mejor, hablemos de aventura. ¿Con cuál de estas afirmaciones te identificas más?\n",
      " 1) No pisas nada que no sea asfalto (ninguna)\n",
      " 2) Salidas fuera de asfalto ocasionales (ocasional)\n",
      " 3) Circular en condiciones duras con total garantía (extrema)\n"
     ]
    },
    {
     "name": "stderr",
     "output_type": "stream",
     "text": [
      "DEBUG:urllib3.connectionpool:https://eu.api.smith.langchain.com:443 \"POST /runs/multipart HTTP/1.1\" 202 34\n",
      "DEBUG:urllib3.connectionpool:https://eu.api.smith.langchain.com:443 \"POST /runs/multipart HTTP/1.1\" 202 34\n",
      "DEBUG:urllib3.connectionpool:https://eu.api.smith.langchain.com:443 \"POST /runs/multipart HTTP/1.1\" 202 34\n",
      "DEBUG:urllib3.connectionpool:https://eu.api.smith.langchain.com:443 \"POST /runs/multipart HTTP/1.1\" 202 34\n",
      "DEBUG:urllib3.connectionpool:https://eu.api.smith.langchain.com:443 \"POST /runs/multipart HTTP/1.1\" 202 34\n",
      "DEBUG:urllib3.connectionpool:https://eu.api.smith.langchain.com:443 \"POST /runs/multipart HTTP/1.1\" 202 34\n",
      "DEBUG:urllib3.connectionpool:https://eu.api.smith.langchain.com:443 \"POST /runs/multipart HTTP/1.1\" 202 34\n",
      "DEBUG:urllib3.connectionpool:https://eu.api.smith.langchain.com:443 \"POST /runs/multipart HTTP/1.1\" 202 34\n",
      "DEBUG:urllib3.connectionpool:https://eu.api.smith.langchain.com:443 \"POST /runs/multipart HTTP/1.1\" 202 34\n",
      "DEBUG:urllib3.connectionpool:https://eu.api.smith.langchain.com:443 \"POST /runs/multipart HTTP/1.1\" 202 34\n",
      "DEBUG:urllib3.connectionpool:https://eu.api.smith.langchain.com:443 \"POST /runs/multipart HTTP/1.1\" 202 34\n",
      "DEBUG:urllib3.connectionpool:https://eu.api.smith.langchain.com:443 \"POST /runs/multipart HTTP/1.1\" 202 34\n",
      "DEBUG:urllib3.connectionpool:https://eu.api.smith.langchain.com:443 \"POST /runs/multipart HTTP/1.1\" 202 34\n",
      "DEBUG:urllib3.connectionpool:https://eu.api.smith.langchain.com:443 \"POST /runs/multipart HTTP/1.1\" 202 34\n",
      "DEBUG:urllib3.connectionpool:https://eu.api.smith.langchain.com:443 \"POST /runs/multipart HTTP/1.1\" 202 34\n",
      "DEBUG:urllib3.connectionpool:https://eu.api.smith.langchain.com:443 \"POST /runs/multipart HTTP/1.1\" 202 34\n",
      "DEBUG:urllib3.connectionpool:https://eu.api.smith.langchain.com:443 \"POST /runs/multipart HTTP/1.1\" 202 34\n",
      "DEBUG:urllib3.connectionpool:https://eu.api.smith.langchain.com:443 \"POST /runs/multipart HTTP/1.1\" 202 34\n",
      "DEBUG:urllib3.connectionpool:https://eu.api.smith.langchain.com:443 \"POST /runs/multipart HTTP/1.1\" 202 34\n",
      "DEBUG:urllib3.connectionpool:https://eu.api.smith.langchain.com:443 \"POST /runs/multipart HTTP/1.1\" 202 34\n",
      "DEBUG:urllib3.connectionpool:https://eu.api.smith.langchain.com:443 \"POST /runs/multipart HTTP/1.1\" 202 34\n",
      "DEBUG:urllib3.connectionpool:https://eu.api.smith.langchain.com:443 \"POST /runs/multipart HTTP/1.1\" 202 34\n",
      "DEBUG:urllib3.connectionpool:https://eu.api.smith.langchain.com:443 \"POST /runs/multipart HTTP/1.1\" 202 34\n",
      "DEBUG:urllib3.connectionpool:https://eu.api.smith.langchain.com:443 \"POST /runs/multipart HTTP/1.1\" 202 34\n",
      "DEBUG:urllib3.connectionpool:https://eu.api.smith.langchain.com:443 \"POST /runs/multipart HTTP/1.1\" 202 34\n",
      "DEBUG:urllib3.connectionpool:https://eu.api.smith.langchain.com:443 \"POST /runs/multipart HTTP/1.1\" 202 34\n",
      "DEBUG:urllib3.connectionpool:https://eu.api.smith.langchain.com:443 \"POST /runs/multipart HTTP/1.1\" 202 34\n",
      "DEBUG:urllib3.connectionpool:https://eu.api.smith.langchain.com:443 \"POST /runs/multipart HTTP/1.1\" 202 34\n",
      "DEBUG:urllib3.connectionpool:https://eu.api.smith.langchain.com:443 \"POST /runs/multipart HTTP/1.1\" 202 34\n",
      "DEBUG:urllib3.connectionpool:https://eu.api.smith.langchain.com:443 \"POST /runs/multipart HTTP/1.1\" 202 34\n",
      "DEBUG:urllib3.connectionpool:https://eu.api.smith.langchain.com:443 \"POST /runs/multipart HTTP/1.1\" 202 34\n",
      "DEBUG:urllib3.connectionpool:https://eu.api.smith.langchain.com:443 \"POST /runs/multipart HTTP/1.1\" 202 34\n",
      "DEBUG:urllib3.connectionpool:https://eu.api.smith.langchain.com:443 \"POST /runs/multipart HTTP/1.1\" 202 34\n",
      "DEBUG:urllib3.connectionpool:https://eu.api.smith.langchain.com:443 \"POST /runs/multipart HTTP/1.1\" 202 34\n",
      "DEBUG:urllib3.connectionpool:https://eu.api.smith.langchain.com:443 \"POST /runs/multipart HTTP/1.1\" 202 34\n",
      "DEBUG:urllib3.connectionpool:https://eu.api.smith.langchain.com:443 \"POST /runs/multipart HTTP/1.1\" 202 34\n",
      "DEBUG:urllib3.connectionpool:https://eu.api.smith.langchain.com:443 \"POST /runs/multipart HTTP/1.1\" 202 34\n"
     ]
    }
   ],
   "source": [
    "from langchain_core.messages import HumanMessage, SystemMessage\n",
    "\n",
    "# Create a thread\n",
    "config = {\"configurable\": {\"thread_id\": \"1\"}}\n",
    "\n",
    "# Start conversation\n",
    "input_message = HumanMessage(content=\"oye busco un coche para la ciudad\")\n",
    "output = graph.invoke({\"messages\": [input_message]}, config) \n",
    "for m in output['messages'][-1:]:\n",
    "    m.pretty_print()\n"
   ]
  },
  {
   "cell_type": "code",
   "execution_count": null,
   "metadata": {},
   "outputs": [],
   "source": [
    "print(output['preferencias_usuario'])\n",
    "print('-----------------------')\n",
    "# print(output['filtros_inferidos'])\n",
    "# print('-----------------------')\n",
    "# print(output['economia'])"
   ]
  },
  {
   "cell_type": "code",
   "execution_count": 3,
   "metadata": {},
   "outputs": [
    {
     "name": "stderr",
     "output_type": "stream",
     "text": [
      "DEBUG:openai._base_client:Request options: {'method': 'post', 'url': '/chat/completions', 'headers': {'X-Stainless-Helper-Method': 'beta.chat.completions.parse'}, 'files': None, 'post_parser': <function Completions.parse.<locals>.parser at 0x11fa84680>, 'json_data': {'messages': [{'content': '<Role>\\nEres un asistente de conversación amigable y metodológico. Tu misión actual es conocer las preferencias generales y el perfil básico de un usuario que busca un coche (`PerfilUsuario`). Debes seguir las reglas especificadas y generar SIEMPRE un objeto JSON válido que cumpla el esquema `ResultadoSoloPerfil`. Mantén un tono cercano.\\n</Role>\\n\\n<Esquema_JSON_Requerido>\\nLa estructura JSON que DEBES generar es la siguiente:\\n```json\\n{{\\n  \"$defs\": {\\n    \"NivelAventura\": {\\n      \"enum\": [\\n        \"ninguna\",\\n        \"ocasional\",\\n        \"extrema\"\\n      ],\\n      \"title\": \"NivelAventura\",\\n      \"type\": \"string\"\\n    },\\n    \"PerfilUsuario\": {\\n      \"properties\": {\\n        \"altura_mayor_190\": {\\n          \"anyOf\": [\\n            {\\n              \"type\": \"string\"\\n            },\\n            {\\n              \"type\": \"null\"\\n            }\\n          ],\\n          \"description\": \"\\\\u00bfEl usuario mide m\\\\u00e1s de 1.90 metros? Responde \\'s\\\\u00ed\\' o \\'no\\'\",\\n          \"title\": \"Altura Mayor 190\"\\n        },\\n...\\n  ],\\n  \"title\": \"ResultadoSoloPerfil\",\\n  \"type\": \"object\"\\n}}\\n</Esquema_JSON_Requerido>\\n\\n<Reglas_Generales>\\n\\n1. Analiza TODO el historial de la conversación y el último mensaje del usuario para extraer/inferir valores para TODOS los campos de preferencias_usuario. Usa null si no hay información.\\n2. Haz solo preguntas relevantes según los campos de PerfilUsuario que falten y no repitas preguntas que ya hayan sido respondidas explícita o implícitamente.\\n3. PROHIBIDO preguntar por temas fuera de PerfilUsuario en esta etapa (NO preguntar por precio, consumo, filtros técnicos como tipo_mecanica, tecnología, seguridad, maletero, etc.).\\n4. Usa el campo mensaje_validacion para formular la siguiente pregunta necesaria o para confirmar que el perfil está completo. </Reglas_Generales>\\n</Reglas_Generales>\\n\\n<Reglas_Preguntas_Especificas>\\n\\nUsa estas preguntas EXACTAS cuando necesites preguntar por estos campos de PerfilUsuario:\\n\\naltura_mayor_190: \"¿Mides más de 1.90 m?\"\\npeso_mayor_100: \"¿Pesas más de 100 kg?\"\\nuso_profesional: \"¿Uso personal o profesional?\"\\nvalora_estetica: \"¿Valoras la estética?\"\\nsolo_electricos: \"¿Quieres solo coches eléctricos?\"\\ntransmision_preferida: (Si falta y es relevante preguntar) \"¿Qué tipo de transmisión prefieres?\\\\n 1) Automático\\\\n 2) Manual\\\\n 3) Ambos\"\\napasionado_motor: \"¿Eres un apasionado del motor?\"\\nManejo de aventura: Si no se ha preguntado por aventura y no se puede inferir un valor (ninguna, ocasional, extrema), deja \"aventura\": null en preferencias_usuario y USA UNO de los siguientes templates EXACTOS en mensaje_validacion (elige el que te parezca más natural en el contexto):\\n\\n<Aventura_Templates>\\n\\nTemplate 1: “Hablando de aventura, ¿con cuál de estas afirmaciones te identificas más?\\\\n 1) No pisas nada que no sea asfalto (ninguna)\\\\n 2) Salidas fuera de asfalto ocasionales (ocasional)\\\\n 3) Circular en condiciones duras con total garantía (extrema)”\\nTemplate 2: “Para conocer tu espíritu aventurero, dime:\\\\n 1) Solo asfalto (ninguna)\\\\n 2) Salidas off‑road de vez en cuando (ocasional)\\\\n 3) Aventurero extremo en terrenos difíciles (extrema)” </Aventura_Templates>\\nConfirmación de Perfil Completo: Si consideras que todos los campos necesarios de PerfilUsuario ya tienen un valor (no null), usa un mensaje de confirmación en mensaje_validacion. Ejemplo: \"¡Perfecto! Ya tenemos tus preferencias principales. ¿Pasamos a los detalles técnicos?\" o simplemente \"\".\\n</Reglas_Preguntas_Especificas>\\n\\n<Ejemplos_Perfil>\\n\\nEjemplo 1: Inicio, pregunta por Aventura\\n\\nContexto (Historial + Último mensaje): [HumanMessage(content=\\'Hola, dime quién eres\\')]\\nSalida JSON Esperada:\\nJSON\\n\\n{\\n  \"preferencias_usuario\": {\\n    \"altura_mayor_190\": null, \"peso_mayor_100\": null, \"uso_profesional\": null, \\n    \"valora_estetica\": null, \"solo_electricos\": null, \"transmision_preferida\": null, \\n    \"apasionado_motor\": null, \"aventura\": null \\n  },\\n  \"mensaje_validacion\": \"¡Hola! Soy Mentor, tu asistente para encontrar el coche perfecto. Analizo tus necesidades y preferencias. Para empezar, hablando de aventura, ¿con cuál de estas afirmaciones te identificas más?\\\\n  1) No pisas nada que no sea asfalto (ninguna)\\\\n  2) Salidas fuera de asfalto ocasionales (ocasional)\\\\n  3) Circular en condiciones duras con total garantía (extrema)\"\\n}\\n\\nEjemplo 2: Usuario da altura, estética y uso; pregunta por Transmisión\\n\\nContexto: [..., HumanMessage(content=\\'Mido 1.95m y me gustan los coches con buen diseño. Quiero algo para ir al trabajo.\\')]\\nSalida JSON Esperada:\\nJSON\\n\\n{\\n  \"preferencias_usuario\": {\\n    \"altura_mayor_190\": \"sí\", \"peso_mayor_100\": null, \"uso_profesional\": \"sí\", \\n    \"valora_estetica\": \"sí\", \"solo_electricos\": null, \"transmision_preferida\": null, \\n    \"apasionado_motor\": null, \"aventura\": null \\n  },\\n  \"mensaje_validacion\": \"Entendido: mides más de 1.90m, valoras la estética y es para uso profesional. ¿Qué tipo de transmisión prefieres?\\\\n  1) Automático\\\\n  2) Manual\\\\n  3) Ambos\" \\n}\\n(Nota: En este ejemplo, asumimos que preguntar por transmisión es prioritario sobre aventura según tu lógica interna o la del LLM)\\n\\nEjemplo 3: Perfil completo, mensaje de confirmación\\n\\nContexto: [..., HumanMessage(content=\\'Prefiero automático, no quiero solo eléctricos, y no soy apasionado del motor. Uso personal y solo asfalto. No soy alto ni pesado.\\')]\\nSalida JSON Esperada:\\nJSON\\n\\n{\\n  \"preferencias_usuario\": {\\n    \"altura_mayor_190\": \"no\", \"peso_mayor_100\": \"no\", \"uso_profesional\": \"no\", \\n    \"valora_estetica\": \"sí\", # Asumiendo que se preguntó/infirió antes\\n    \"solo_electricos\": \"no\", \"transmision_preferida\": \"automatico\", \\n    \"apasionado_motor\": \"no\", \"aventura\": \"ninguna\" \\n  },\\n  \"mensaje_validacion\": \"¡Estupendo! Creo que ya tengo claras todas tus preferencias principales. ¿Vamos a ver qué características técnicas encajarían?\" \\n}\\n</Ejemplos_Perfil>\\n\\n<Formato_Salida_JSON_Final>\\nGenera únicamente el objeto JSON completo y válido solicitado que cumpla el esquema ResultadoSoloPerfil, sin añadir ningún texto antes o después.\\n\\nJSON\\n\\n{\\n  \"preferencias_usuario\": { ... },\\n  \"mensaje_validacion\": \"<string>\"\\n}\\n</Formato_Salida_JSON_Final>', 'role': 'user'}, {'content': 'oye busco un coche para la ciudad', 'role': 'user'}, {'content': '¡Hola! Para ayudarte mejor, hablemos de aventura. ¿Con cuál de estas afirmaciones te identificas más?\\n 1) No pisas nada que no sea asfalto (ninguna)\\n 2) Salidas fuera de asfalto ocasionales (ocasional)\\n 3) Circular en condiciones duras con total garantía (extrema)', 'role': 'assistant'}, {'content': 'la 3', 'role': 'user'}], 'model': 'gpt-4o-mini', 'response_format': {'type': 'json_schema', 'json_schema': {'schema': {'$defs': {'NivelAventura': {'enum': ['ninguna', 'ocasional', 'extrema'], 'title': 'NivelAventura', 'type': 'string'}, 'PerfilUsuario': {'properties': {'altura_mayor_190': {'anyOf': [{'type': 'string'}, {'type': 'null'}], 'description': \"¿El usuario mide más de 1.90 metros? Responde 'sí' o 'no'\", 'title': 'Altura Mayor 190'}, 'peso_mayor_100': {'anyOf': [{'type': 'string'}, {'type': 'null'}], 'description': \"¿El usuario pesa más de 100 kg? Responde 'sí' o 'no'\", 'title': 'Peso Mayor 100'}, 'uso_profesional': {'anyOf': [{'type': 'string'}, {'type': 'null'}], 'description': \"¿Usará el coche para trabajo? Responde 'sí' o 'no'\", 'title': 'Uso Profesional'}, 'valora_estetica': {'anyOf': [{'type': 'string'}, {'type': 'null'}], 'description': \"¿Valora la estética del coche? Responde 'sí' o 'no'\", 'title': 'Valora Estetica'}, 'solo_electricos': {'anyOf': [{'type': 'string'}, {'type': 'null'}], 'description': \"¿Quiere solo coches eléctricos? Responde 'sí' o 'no'\", 'title': 'Solo Electricos'}, 'transmision_preferida': {'anyOf': [{'$ref': '#/$defs/Transmision'}, {'type': 'null'}], 'description': '¿Qué transmisión prefieres: automático, manual o ambos?'}, 'apasionado_motor': {'anyOf': [{'type': 'string'}, {'type': 'null'}], 'description': \"¿Eres un apasionado/a del motor y/o la movilidad? Responde 'sí' o 'no'\", 'title': 'Apasionado Motor'}, 'aventura': {'anyOf': [{'$ref': '#/$defs/NivelAventura'}, {'type': 'null'}], 'description': \"¿Qué nivel de aventura buscas con tu vehículo: 'ninguna', 'ocasional' o 'extrema'?\"}}, 'title': 'PerfilUsuario', 'type': 'object', 'additionalProperties': False, 'required': ['altura_mayor_190', 'peso_mayor_100', 'uso_profesional', 'valora_estetica', 'solo_electricos', 'transmision_preferida', 'apasionado_motor', 'aventura']}, 'Transmision': {'enum': ['automático', 'manual', 'ambos'], 'title': 'Transmision', 'type': 'string'}}, 'description': 'Salida esperada del LLM enfocado solo en el perfil del usuario.', 'properties': {'preferencias_usuario': {'$ref': '#/$defs/PerfilUsuario'}, 'mensaje_validacion': {'description': 'Pregunta de seguimiento CLARA y CORTA si falta información ESENCIAL para completar el PerfilUsuario, o un mensaje de confirmación si el perfil está completo.', 'title': 'Mensaje Validacion', 'type': 'string'}}, 'required': ['preferencias_usuario', 'mensaje_validacion'], 'title': 'ResultadoSoloPerfil', 'type': 'object', 'additionalProperties': False}, 'name': 'ResultadoSoloPerfil', 'strict': True}}, 'stream': False, 'temperature': 0.2}}\n",
      "DEBUG:openai._base_client:Sending HTTP Request: POST https://api.openai.com/v1/chat/completions\n",
      "DEBUG:httpcore.http11:send_request_headers.started request=<Request [b'POST']>\n",
      "DEBUG:httpcore.http11:send_request_headers.complete\n",
      "DEBUG:httpcore.http11:send_request_body.started request=<Request [b'POST']>\n",
      "DEBUG:httpcore.http11:send_request_body.complete\n",
      "DEBUG:httpcore.http11:receive_response_headers.started request=<Request [b'POST']>\n"
     ]
    },
    {
     "name": "stdout",
     "output_type": "stream",
     "text": [
      "--- Ejecutando Nodo: recopilar_preferencias_node ---\n",
      "DEBUG (Perfil) ► Último mensaje es HumanMessage o historial vacío, llamando a llm_solo_perfil...\n"
     ]
    },
    {
     "name": "stderr",
     "output_type": "stream",
     "text": [
      "DEBUG:httpcore.http11:receive_response_headers.complete return_value=(b'HTTP/1.1', 200, b'OK', [(b'Date', b'Sun, 04 May 2025 13:58:13 GMT'), (b'Content-Type', b'application/json'), (b'Transfer-Encoding', b'chunked'), (b'Connection', b'keep-alive'), (b'access-control-expose-headers', b'X-Request-ID'), (b'openai-organization', b'user-ic25pcewdjuowsz9q2ektvrn'), (b'openai-processing-ms', b'2124'), (b'openai-version', b'2020-10-01'), (b'x-ratelimit-limit-requests', b'10000'), (b'x-ratelimit-limit-tokens', b'200000'), (b'x-ratelimit-remaining-requests', b'9998'), (b'x-ratelimit-remaining-tokens', b'198377'), (b'x-ratelimit-reset-requests', b'8.763s'), (b'x-ratelimit-reset-tokens', b'486ms'), (b'x-request-id', b'req_1e7d2feab87d9ca51ba986d9d547fccf'), (b'strict-transport-security', b'max-age=31536000; includeSubDomains; preload'), (b'cf-cache-status', b'DYNAMIC'), (b'X-Content-Type-Options', b'nosniff'), (b'Server', b'cloudflare'), (b'CF-RAY', b'93a882f11e869d99-MRS'), (b'Content-Encoding', b'gzip'), (b'alt-svc', b'h3=\":443\"; ma=86400')])\n",
      "INFO:httpx:HTTP Request: POST https://api.openai.com/v1/chat/completions \"HTTP/1.1 200 OK\"\n",
      "DEBUG:httpcore.http11:receive_response_body.started request=<Request [b'POST']>\n",
      "DEBUG:httpcore.http11:receive_response_body.complete\n",
      "DEBUG:httpcore.http11:response_closed.started\n",
      "DEBUG:httpcore.http11:response_closed.complete\n",
      "DEBUG:openai._base_client:HTTP Response: POST https://api.openai.com/v1/chat/completions \"200 OK\" Headers({'date': 'Sun, 04 May 2025 13:58:13 GMT', 'content-type': 'application/json', 'transfer-encoding': 'chunked', 'connection': 'keep-alive', 'access-control-expose-headers': 'X-Request-ID', 'openai-organization': 'user-ic25pcewdjuowsz9q2ektvrn', 'openai-processing-ms': '2124', 'openai-version': '2020-10-01', 'x-ratelimit-limit-requests': '10000', 'x-ratelimit-limit-tokens': '200000', 'x-ratelimit-remaining-requests': '9998', 'x-ratelimit-remaining-tokens': '198377', 'x-ratelimit-reset-requests': '8.763s', 'x-ratelimit-reset-tokens': '486ms', 'x-request-id': 'req_1e7d2feab87d9ca51ba986d9d547fccf', 'strict-transport-security': 'max-age=31536000; includeSubDomains; preload', 'cf-cache-status': 'DYNAMIC', 'x-content-type-options': 'nosniff', 'server': 'cloudflare', 'cf-ray': '93a882f11e869d99-MRS', 'content-encoding': 'gzip', 'alt-svc': 'h3=\":443\"; ma=86400'})\n",
      "DEBUG:openai._base_client:request_id: req_1e7d2feab87d9ca51ba986d9d547fccf\n"
     ]
    },
    {
     "name": "stdout",
     "output_type": "stream",
     "text": [
      "DEBUG (Perfil) ► Respuesta llm_solo_perfil: preferencias_usuario=PerfilUsuario(altura_mayor_190=None, peso_mayor_100=None, uso_profesional=None, valora_estetica=None, solo_electricos=None, transmision_preferida=None, apasionado_motor=None, aventura=<NivelAventura.extrema: 'extrema'>) mensaje_validacion='¡Genial! Ahora, ¿mides más de 1.90 m?'\n",
      "DEBUG (Perfil) ► Preferencias tras post-procesamiento (si aplica): altura_mayor_190=None peso_mayor_100=None uso_profesional=None valora_estetica=None solo_electricos=None transmision_preferida=None apasionado_motor=None aventura=<NivelAventura.extrema: 'extrema'>\n",
      "DEBUG (Perfil) ► Estado preferencias_usuario actualizado: altura_mayor_190=None peso_mayor_100=None uso_profesional=None valora_estetica=None solo_electricos=None transmision_preferida=None apasionado_motor=None aventura=<NivelAventura.extrema: 'extrema'>\n",
      "DEBUG (Perfil) ► Guardando pregunta pendiente: ¡Genial! Ahora, ¿mides más de 1.90 m?\n",
      "--- Ejecutando Nodo: validar_preferencias_node ---\n",
      "--- DEBUG CHECK PERFIL ---\n",
      "Input prefs object: altura_mayor_190=None peso_mayor_100=None uso_profesional=None valora_estetica=None solo_electricos=None transmision_preferida=None apasionado_motor=None aventura=<NivelAventura.extrema: 'extrema'>\n",
      "Input prefs type: <class 'graph.perfil.state.PerfilUsuario'>\n",
      "Checking field 'altura_mayor_190': value='None', type=<class 'NoneType'>\n",
      "DEBUG (Validation Perfil) ► Campo 'altura_mayor_190' está vacío/None.\n",
      "DEBUG (Perfil) ► Validación: PerfilUsuario considerado INCOMPLETO.\n",
      "--- Evaluando Condición: ruta_decision_perfil ---\n",
      "DEBUG (Condición Perfil) ► Estado 'preferencias_usuario' recibido: altura_mayor_190=None peso_mayor_100=None uso_profesional=None valora_estetica=None solo_electricos=None transmision_preferida=None apasionado_motor=None aventura=<NivelAventura.extrema: 'extrema'>\n",
      "DEBUG (Condición Perfil) ► Tipo de 'preferencias_usuario': <class 'graph.perfil.state.PerfilUsuario'>\n",
      "--- DEBUG CHECK PERFIL ---\n",
      "Input prefs object: altura_mayor_190=None peso_mayor_100=None uso_profesional=None valora_estetica=None solo_electricos=None transmision_preferida=None apasionado_motor=None aventura=<NivelAventura.extrema: 'extrema'>\n",
      "Input prefs type: <class 'graph.perfil.state.PerfilUsuario'>\n",
      "Checking field 'altura_mayor_190': value='None', type=<class 'NoneType'>\n",
      "DEBUG (Validation Perfil) ► Campo 'altura_mayor_190' está vacío/None.\n",
      "DEBUG (Condición Perfil) ► Perfil INCOMPLETO. Se necesita pregunta.\n",
      "--- Ejecutando Nodo: preguntar_preferencias_node ---\n",
      "--- DEBUG CHECK PERFIL ---\n",
      "Input prefs object: altura_mayor_190=None peso_mayor_100=None uso_profesional=None valora_estetica=None solo_electricos=None transmision_preferida=None apasionado_motor=None aventura=<NivelAventura.extrema: 'extrema'>\n",
      "Input prefs type: <class 'graph.perfil.state.PerfilUsuario'>\n",
      "Checking field 'altura_mayor_190': value='None', type=<class 'NoneType'>\n",
      "DEBUG (Validation Perfil) ► Campo 'altura_mayor_190' está vacío/None.\n",
      "DEBUG (Preguntar Perfil) ► Perfil aún INCOMPLETO según checker.\n",
      "WARN (Preguntar Perfil) ► Pregunta guardada ('¡Genial! Ahora, ¿mides más de 1.90 m?') parece confirmación, pero perfil incompleto. IGNORANDO y generando pregunta específica.\n",
      "DEBUG (Preguntar Perfil) ► Mensaje final añadido: ¿Mides más de 1.90 m?\n",
      "==================================\u001b[1m Ai Message \u001b[0m==================================\n",
      "\n",
      "¿Mides más de 1.90 m?\n"
     ]
    }
   ],
   "source": [
    "# Create a thread\n",
    "config = {\"configurable\": {\"thread_id\": \"1\"}}\n",
    "input_message = HumanMessage(content=\"la 3\")\n",
    "output = graph.invoke({\"messages\": [input_message]}, config) \n",
    "for m in output['messages'][-1:]:\n",
    "    m.pretty_print()"
   ]
  },
  {
   "cell_type": "code",
   "execution_count": 4,
   "metadata": {},
   "outputs": [
    {
     "name": "stderr",
     "output_type": "stream",
     "text": [
      "DEBUG:openai._base_client:Request options: {'method': 'post', 'url': '/chat/completions', 'headers': {'X-Stainless-Helper-Method': 'beta.chat.completions.parse'}, 'files': None, 'post_parser': <function Completions.parse.<locals>.parser at 0x11fa84360>, 'json_data': {'messages': [{'content': '<Role>\\nEres un asistente de conversación amigable y metodológico. Tu misión actual es conocer las preferencias generales y el perfil básico de un usuario que busca un coche (`PerfilUsuario`). Debes seguir las reglas especificadas y generar SIEMPRE un objeto JSON válido que cumpla el esquema `ResultadoSoloPerfil`. Mantén un tono cercano.\\n</Role>\\n\\n<Esquema_JSON_Requerido>\\nLa estructura JSON que DEBES generar es la siguiente:\\n```json\\n{{\\n  \"$defs\": {\\n    \"NivelAventura\": {\\n      \"enum\": [\\n        \"ninguna\",\\n        \"ocasional\",\\n        \"extrema\"\\n      ],\\n      \"title\": \"NivelAventura\",\\n      \"type\": \"string\"\\n    },\\n    \"PerfilUsuario\": {\\n      \"properties\": {\\n        \"altura_mayor_190\": {\\n          \"anyOf\": [\\n            {\\n              \"type\": \"string\"\\n            },\\n            {\\n              \"type\": \"null\"\\n            }\\n          ],\\n          \"description\": \"\\\\u00bfEl usuario mide m\\\\u00e1s de 1.90 metros? Responde \\'s\\\\u00ed\\' o \\'no\\'\",\\n          \"title\": \"Altura Mayor 190\"\\n        },\\n...\\n  ],\\n  \"title\": \"ResultadoSoloPerfil\",\\n  \"type\": \"object\"\\n}}\\n</Esquema_JSON_Requerido>\\n\\n<Reglas_Generales>\\n\\n1. Analiza TODO el historial de la conversación y el último mensaje del usuario para extraer/inferir valores para TODOS los campos de preferencias_usuario. Usa null si no hay información.\\n2. Haz solo preguntas relevantes según los campos de PerfilUsuario que falten y no repitas preguntas que ya hayan sido respondidas explícita o implícitamente.\\n3. PROHIBIDO preguntar por temas fuera de PerfilUsuario en esta etapa (NO preguntar por precio, consumo, filtros técnicos como tipo_mecanica, tecnología, seguridad, maletero, etc.).\\n4. Usa el campo mensaje_validacion para formular la siguiente pregunta necesaria o para confirmar que el perfil está completo. </Reglas_Generales>\\n</Reglas_Generales>\\n\\n<Reglas_Preguntas_Especificas>\\n\\nUsa estas preguntas EXACTAS cuando necesites preguntar por estos campos de PerfilUsuario:\\n\\naltura_mayor_190: \"¿Mides más de 1.90 m?\"\\npeso_mayor_100: \"¿Pesas más de 100 kg?\"\\nuso_profesional: \"¿Uso personal o profesional?\"\\nvalora_estetica: \"¿Valoras la estética?\"\\nsolo_electricos: \"¿Quieres solo coches eléctricos?\"\\ntransmision_preferida: (Si falta y es relevante preguntar) \"¿Qué tipo de transmisión prefieres?\\\\n 1) Automático\\\\n 2) Manual\\\\n 3) Ambos\"\\napasionado_motor: \"¿Eres un apasionado del motor?\"\\nManejo de aventura: Si no se ha preguntado por aventura y no se puede inferir un valor (ninguna, ocasional, extrema), deja \"aventura\": null en preferencias_usuario y USA UNO de los siguientes templates EXACTOS en mensaje_validacion (elige el que te parezca más natural en el contexto):\\n\\n<Aventura_Templates>\\n\\nTemplate 1: “Hablando de aventura, ¿con cuál de estas afirmaciones te identificas más?\\\\n 1) No pisas nada que no sea asfalto (ninguna)\\\\n 2) Salidas fuera de asfalto ocasionales (ocasional)\\\\n 3) Circular en condiciones duras con total garantía (extrema)”\\nTemplate 2: “Para conocer tu espíritu aventurero, dime:\\\\n 1) Solo asfalto (ninguna)\\\\n 2) Salidas off‑road de vez en cuando (ocasional)\\\\n 3) Aventurero extremo en terrenos difíciles (extrema)” </Aventura_Templates>\\nConfirmación de Perfil Completo: Si consideras que todos los campos necesarios de PerfilUsuario ya tienen un valor (no null), usa un mensaje de confirmación en mensaje_validacion. Ejemplo: \"¡Perfecto! Ya tenemos tus preferencias principales. ¿Pasamos a los detalles técnicos?\" o simplemente \"\".\\n</Reglas_Preguntas_Especificas>\\n\\n<Ejemplos_Perfil>\\n\\nEjemplo 1: Inicio, pregunta por Aventura\\n\\nContexto (Historial + Último mensaje): [HumanMessage(content=\\'Hola, dime quién eres\\')]\\nSalida JSON Esperada:\\nJSON\\n\\n{\\n  \"preferencias_usuario\": {\\n    \"altura_mayor_190\": null, \"peso_mayor_100\": null, \"uso_profesional\": null, \\n    \"valora_estetica\": null, \"solo_electricos\": null, \"transmision_preferida\": null, \\n    \"apasionado_motor\": null, \"aventura\": null \\n  },\\n  \"mensaje_validacion\": \"¡Hola! Soy Mentor, tu asistente para encontrar el coche perfecto. Analizo tus necesidades y preferencias. Para empezar, hablando de aventura, ¿con cuál de estas afirmaciones te identificas más?\\\\n  1) No pisas nada que no sea asfalto (ninguna)\\\\n  2) Salidas fuera de asfalto ocasionales (ocasional)\\\\n  3) Circular en condiciones duras con total garantía (extrema)\"\\n}\\n\\nEjemplo 2: Usuario da altura, estética y uso; pregunta por Transmisión\\n\\nContexto: [..., HumanMessage(content=\\'Mido 1.95m y me gustan los coches con buen diseño. Quiero algo para ir al trabajo.\\')]\\nSalida JSON Esperada:\\nJSON\\n\\n{\\n  \"preferencias_usuario\": {\\n    \"altura_mayor_190\": \"sí\", \"peso_mayor_100\": null, \"uso_profesional\": \"sí\", \\n    \"valora_estetica\": \"sí\", \"solo_electricos\": null, \"transmision_preferida\": null, \\n    \"apasionado_motor\": null, \"aventura\": null \\n  },\\n  \"mensaje_validacion\": \"Entendido: mides más de 1.90m, valoras la estética y es para uso profesional. ¿Qué tipo de transmisión prefieres?\\\\n  1) Automático\\\\n  2) Manual\\\\n  3) Ambos\" \\n}\\n(Nota: En este ejemplo, asumimos que preguntar por transmisión es prioritario sobre aventura según tu lógica interna o la del LLM)\\n\\nEjemplo 3: Perfil completo, mensaje de confirmación\\n\\nContexto: [..., HumanMessage(content=\\'Prefiero automático, no quiero solo eléctricos, y no soy apasionado del motor. Uso personal y solo asfalto. No soy alto ni pesado.\\')]\\nSalida JSON Esperada:\\nJSON\\n\\n{\\n  \"preferencias_usuario\": {\\n    \"altura_mayor_190\": \"no\", \"peso_mayor_100\": \"no\", \"uso_profesional\": \"no\", \\n    \"valora_estetica\": \"sí\", # Asumiendo que se preguntó/infirió antes\\n    \"solo_electricos\": \"no\", \"transmision_preferida\": \"automatico\", \\n    \"apasionado_motor\": \"no\", \"aventura\": \"ninguna\" \\n  },\\n  \"mensaje_validacion\": \"¡Estupendo! Creo que ya tengo claras todas tus preferencias principales. ¿Vamos a ver qué características técnicas encajarían?\" \\n}\\n</Ejemplos_Perfil>\\n\\n<Formato_Salida_JSON_Final>\\nGenera únicamente el objeto JSON completo y válido solicitado que cumpla el esquema ResultadoSoloPerfil, sin añadir ningún texto antes o después.\\n\\nJSON\\n\\n{\\n  \"preferencias_usuario\": { ... },\\n  \"mensaje_validacion\": \"<string>\"\\n}\\n</Formato_Salida_JSON_Final>', 'role': 'user'}, {'content': 'oye busco un coche para la ciudad', 'role': 'user'}, {'content': '¡Hola! Para ayudarte mejor, hablemos de aventura. ¿Con cuál de estas afirmaciones te identificas más?\\n 1) No pisas nada que no sea asfalto (ninguna)\\n 2) Salidas fuera de asfalto ocasionales (ocasional)\\n 3) Circular en condiciones duras con total garantía (extrema)', 'role': 'assistant'}, {'content': 'la 3', 'role': 'user'}, {'content': '¿Mides más de 1.90 m?', 'role': 'assistant'}, {'content': ' mido 1.90 y peso 80kg', 'role': 'user'}], 'model': 'gpt-4o-mini', 'response_format': {'type': 'json_schema', 'json_schema': {'schema': {'$defs': {'NivelAventura': {'enum': ['ninguna', 'ocasional', 'extrema'], 'title': 'NivelAventura', 'type': 'string'}, 'PerfilUsuario': {'properties': {'altura_mayor_190': {'anyOf': [{'type': 'string'}, {'type': 'null'}], 'description': \"¿El usuario mide más de 1.90 metros? Responde 'sí' o 'no'\", 'title': 'Altura Mayor 190'}, 'peso_mayor_100': {'anyOf': [{'type': 'string'}, {'type': 'null'}], 'description': \"¿El usuario pesa más de 100 kg? Responde 'sí' o 'no'\", 'title': 'Peso Mayor 100'}, 'uso_profesional': {'anyOf': [{'type': 'string'}, {'type': 'null'}], 'description': \"¿Usará el coche para trabajo? Responde 'sí' o 'no'\", 'title': 'Uso Profesional'}, 'valora_estetica': {'anyOf': [{'type': 'string'}, {'type': 'null'}], 'description': \"¿Valora la estética del coche? Responde 'sí' o 'no'\", 'title': 'Valora Estetica'}, 'solo_electricos': {'anyOf': [{'type': 'string'}, {'type': 'null'}], 'description': \"¿Quiere solo coches eléctricos? Responde 'sí' o 'no'\", 'title': 'Solo Electricos'}, 'transmision_preferida': {'anyOf': [{'$ref': '#/$defs/Transmision'}, {'type': 'null'}], 'description': '¿Qué transmisión prefieres: automático, manual o ambos?'}, 'apasionado_motor': {'anyOf': [{'type': 'string'}, {'type': 'null'}], 'description': \"¿Eres un apasionado/a del motor y/o la movilidad? Responde 'sí' o 'no'\", 'title': 'Apasionado Motor'}, 'aventura': {'anyOf': [{'$ref': '#/$defs/NivelAventura'}, {'type': 'null'}], 'description': \"¿Qué nivel de aventura buscas con tu vehículo: 'ninguna', 'ocasional' o 'extrema'?\"}}, 'title': 'PerfilUsuario', 'type': 'object', 'additionalProperties': False, 'required': ['altura_mayor_190', 'peso_mayor_100', 'uso_profesional', 'valora_estetica', 'solo_electricos', 'transmision_preferida', 'apasionado_motor', 'aventura']}, 'Transmision': {'enum': ['automático', 'manual', 'ambos'], 'title': 'Transmision', 'type': 'string'}}, 'description': 'Salida esperada del LLM enfocado solo en el perfil del usuario.', 'properties': {'preferencias_usuario': {'$ref': '#/$defs/PerfilUsuario'}, 'mensaje_validacion': {'description': 'Pregunta de seguimiento CLARA y CORTA si falta información ESENCIAL para completar el PerfilUsuario, o un mensaje de confirmación si el perfil está completo.', 'title': 'Mensaje Validacion', 'type': 'string'}}, 'required': ['preferencias_usuario', 'mensaje_validacion'], 'title': 'ResultadoSoloPerfil', 'type': 'object', 'additionalProperties': False}, 'name': 'ResultadoSoloPerfil', 'strict': True}}, 'stream': False, 'temperature': 0.2}}\n",
      "DEBUG:openai._base_client:Sending HTTP Request: POST https://api.openai.com/v1/chat/completions\n",
      "DEBUG:httpcore.connection:close.started\n",
      "DEBUG:httpcore.connection:close.complete\n",
      "DEBUG:httpcore.connection:connect_tcp.started host='api.openai.com' port=443 local_address=None timeout=None socket_options=None\n",
      "DEBUG:httpcore.connection:connect_tcp.complete return_value=<httpcore._backends.sync.SyncStream object at 0x14b90edd0>\n",
      "DEBUG:httpcore.connection:start_tls.started ssl_context=<ssl.SSLContext object at 0x11f6eccb0> server_hostname='api.openai.com' timeout=None\n",
      "DEBUG:httpcore.connection:start_tls.complete return_value=<httpcore._backends.sync.SyncStream object at 0x14b9773d0>\n",
      "DEBUG:httpcore.http11:send_request_headers.started request=<Request [b'POST']>\n",
      "DEBUG:httpcore.http11:send_request_headers.complete\n",
      "DEBUG:httpcore.http11:send_request_body.started request=<Request [b'POST']>\n",
      "DEBUG:httpcore.http11:send_request_body.complete\n",
      "DEBUG:httpcore.http11:receive_response_headers.started request=<Request [b'POST']>\n"
     ]
    },
    {
     "name": "stdout",
     "output_type": "stream",
     "text": [
      "--- Ejecutando Nodo: recopilar_preferencias_node ---\n",
      "DEBUG (Perfil) ► Último mensaje es HumanMessage o historial vacío, llamando a llm_solo_perfil...\n"
     ]
    },
    {
     "name": "stderr",
     "output_type": "stream",
     "text": [
      "DEBUG:httpcore.http11:receive_response_headers.complete return_value=(b'HTTP/1.1', 200, b'OK', [(b'Date', b'Sun, 04 May 2025 13:58:22 GMT'), (b'Content-Type', b'application/json'), (b'Transfer-Encoding', b'chunked'), (b'Connection', b'keep-alive'), (b'access-control-expose-headers', b'X-Request-ID'), (b'openai-organization', b'user-ic25pcewdjuowsz9q2ektvrn'), (b'openai-processing-ms', b'2436'), (b'openai-version', b'2020-10-01'), (b'x-ratelimit-limit-requests', b'10000'), (b'x-ratelimit-limit-tokens', b'200000'), (b'x-ratelimit-remaining-requests', b'9998'), (b'x-ratelimit-remaining-tokens', b'198365'), (b'x-ratelimit-reset-requests', b'9.562s'), (b'x-ratelimit-reset-tokens', b'490ms'), (b'x-request-id', b'req_b04480e78d38c3ebf858c8dfb371ec34'), (b'strict-transport-security', b'max-age=31536000; includeSubDomains; preload'), (b'cf-cache-status', b'DYNAMIC'), (b'X-Content-Type-Options', b'nosniff'), (b'Server', b'cloudflare'), (b'CF-RAY', b'93a88323b8a028ee-BCN'), (b'Content-Encoding', b'gzip'), (b'alt-svc', b'h3=\":443\"; ma=86400')])\n",
      "INFO:httpx:HTTP Request: POST https://api.openai.com/v1/chat/completions \"HTTP/1.1 200 OK\"\n",
      "DEBUG:httpcore.http11:receive_response_body.started request=<Request [b'POST']>\n",
      "DEBUG:httpcore.http11:receive_response_body.complete\n",
      "DEBUG:httpcore.http11:response_closed.started\n",
      "DEBUG:httpcore.http11:response_closed.complete\n",
      "DEBUG:openai._base_client:HTTP Response: POST https://api.openai.com/v1/chat/completions \"200 OK\" Headers({'date': 'Sun, 04 May 2025 13:58:22 GMT', 'content-type': 'application/json', 'transfer-encoding': 'chunked', 'connection': 'keep-alive', 'access-control-expose-headers': 'X-Request-ID', 'openai-organization': 'user-ic25pcewdjuowsz9q2ektvrn', 'openai-processing-ms': '2436', 'openai-version': '2020-10-01', 'x-ratelimit-limit-requests': '10000', 'x-ratelimit-limit-tokens': '200000', 'x-ratelimit-remaining-requests': '9998', 'x-ratelimit-remaining-tokens': '198365', 'x-ratelimit-reset-requests': '9.562s', 'x-ratelimit-reset-tokens': '490ms', 'x-request-id': 'req_b04480e78d38c3ebf858c8dfb371ec34', 'strict-transport-security': 'max-age=31536000; includeSubDomains; preload', 'cf-cache-status': 'DYNAMIC', 'x-content-type-options': 'nosniff', 'server': 'cloudflare', 'cf-ray': '93a88323b8a028ee-BCN', 'content-encoding': 'gzip', 'alt-svc': 'h3=\":443\"; ma=86400'})\n",
      "DEBUG:openai._base_client:request_id: req_b04480e78d38c3ebf858c8dfb371ec34\n"
     ]
    },
    {
     "name": "stdout",
     "output_type": "stream",
     "text": [
      "DEBUG (Perfil) ► Respuesta llm_solo_perfil: preferencias_usuario=PerfilUsuario(altura_mayor_190='sí', peso_mayor_100='no', uso_profesional=None, valora_estetica=None, solo_electricos=None, transmision_preferida=None, apasionado_motor=None, aventura=<NivelAventura.extrema: 'extrema'>) mensaje_validacion='Entendido: mides 1.90m y tu nivel de aventura es extrema. ¿Uso personal o profesional?'\n",
      "DEBUG (Perfil) ► Preferencias tras post-procesamiento (si aplica): altura_mayor_190='sí' peso_mayor_100='no' uso_profesional=None valora_estetica=None solo_electricos=None transmision_preferida=None apasionado_motor=None aventura=<NivelAventura.extrema: 'extrema'>\n",
      "DEBUG (Perfil) ► Estado preferencias_usuario actualizado: altura_mayor_190='sí' peso_mayor_100='no' uso_profesional=None valora_estetica=None solo_electricos=None transmision_preferida=None apasionado_motor=None aventura=<NivelAventura.extrema: 'extrema'>\n",
      "DEBUG (Perfil) ► Guardando pregunta pendiente: Entendido: mides 1.90m y tu nivel de aventura es extrema. ¿Uso personal o profesional?\n",
      "--- Ejecutando Nodo: validar_preferencias_node ---\n",
      "--- DEBUG CHECK PERFIL ---\n",
      "Input prefs object: altura_mayor_190='sí' peso_mayor_100='no' uso_profesional=None valora_estetica=None solo_electricos=None transmision_preferida=None apasionado_motor=None aventura=<NivelAventura.extrema: 'extrema'>\n",
      "Input prefs type: <class 'graph.perfil.state.PerfilUsuario'>\n",
      "Checking field 'altura_mayor_190': value='sí', type=<class 'str'>\n",
      "Checking field 'peso_mayor_100': value='no', type=<class 'str'>\n",
      "Checking field 'uso_profesional': value='None', type=<class 'NoneType'>\n",
      "DEBUG (Validation Perfil) ► Campo 'uso_profesional' está vacío/None.\n",
      "DEBUG (Perfil) ► Validación: PerfilUsuario considerado INCOMPLETO.\n",
      "--- Evaluando Condición: ruta_decision_perfil ---\n",
      "DEBUG (Condición Perfil) ► Estado 'preferencias_usuario' recibido: altura_mayor_190='sí' peso_mayor_100='no' uso_profesional=None valora_estetica=None solo_electricos=None transmision_preferida=None apasionado_motor=None aventura=<NivelAventura.extrema: 'extrema'>\n",
      "DEBUG (Condición Perfil) ► Tipo de 'preferencias_usuario': <class 'graph.perfil.state.PerfilUsuario'>\n",
      "--- DEBUG CHECK PERFIL ---\n",
      "Input prefs object: altura_mayor_190='sí' peso_mayor_100='no' uso_profesional=None valora_estetica=None solo_electricos=None transmision_preferida=None apasionado_motor=None aventura=<NivelAventura.extrema: 'extrema'>\n",
      "Input prefs type: <class 'graph.perfil.state.PerfilUsuario'>\n",
      "Checking field 'altura_mayor_190': value='sí', type=<class 'str'>\n",
      "Checking field 'peso_mayor_100': value='no', type=<class 'str'>\n",
      "Checking field 'uso_profesional': value='None', type=<class 'NoneType'>\n",
      "DEBUG (Validation Perfil) ► Campo 'uso_profesional' está vacío/None.\n",
      "DEBUG (Condición Perfil) ► Perfil INCOMPLETO. Se necesita pregunta.\n",
      "--- Ejecutando Nodo: preguntar_preferencias_node ---\n",
      "--- DEBUG CHECK PERFIL ---\n",
      "Input prefs object: altura_mayor_190='sí' peso_mayor_100='no' uso_profesional=None valora_estetica=None solo_electricos=None transmision_preferida=None apasionado_motor=None aventura=<NivelAventura.extrema: 'extrema'>\n",
      "Input prefs type: <class 'graph.perfil.state.PerfilUsuario'>\n",
      "Checking field 'altura_mayor_190': value='sí', type=<class 'str'>\n",
      "Checking field 'peso_mayor_100': value='no', type=<class 'str'>\n",
      "Checking field 'uso_profesional': value='None', type=<class 'NoneType'>\n",
      "DEBUG (Validation Perfil) ► Campo 'uso_profesional' está vacío/None.\n",
      "DEBUG (Preguntar Perfil) ► Perfil aún INCOMPLETO según checker.\n",
      "DEBUG (Preguntar Perfil) ► Usando pregunta guardada: Entendido: mides 1.90m y tu nivel de aventura es extrema. ¿Uso personal o profesional?\n",
      "DEBUG (Preguntar Perfil) ► Mensaje final añadido: Entendido: mides 1.90m y tu nivel de aventura es extrema. ¿Uso personal o profesional?\n",
      "==================================\u001b[1m Ai Message \u001b[0m==================================\n",
      "\n",
      "Entendido: mides 1.90m y tu nivel de aventura es extrema. ¿Uso personal o profesional?\n"
     ]
    }
   ],
   "source": [
    "# Start conversation\n",
    "input_message = HumanMessage(content=\" mido 1.90 y peso 80kg\")\n",
    "output = graph.invoke({\"messages\": [input_message]}, config) \n",
    "for m in output['messages'][-1:]:\n",
    "    m.pretty_print()"
   ]
  },
  {
   "cell_type": "code",
   "execution_count": 5,
   "metadata": {},
   "outputs": [
    {
     "name": "stderr",
     "output_type": "stream",
     "text": [
      "DEBUG:openai._base_client:Request options: {'method': 'post', 'url': '/chat/completions', 'headers': {'X-Stainless-Helper-Method': 'beta.chat.completions.parse'}, 'files': None, 'post_parser': <function Completions.parse.<locals>.parser at 0x14b886b60>, 'json_data': {'messages': [{'content': '<Role>\\nEres un asistente de conversación amigable y metodológico. Tu misión actual es conocer las preferencias generales y el perfil básico de un usuario que busca un coche (`PerfilUsuario`). Debes seguir las reglas especificadas y generar SIEMPRE un objeto JSON válido que cumpla el esquema `ResultadoSoloPerfil`. Mantén un tono cercano.\\n</Role>\\n\\n<Esquema_JSON_Requerido>\\nLa estructura JSON que DEBES generar es la siguiente:\\n```json\\n{{\\n  \"$defs\": {\\n    \"NivelAventura\": {\\n      \"enum\": [\\n        \"ninguna\",\\n        \"ocasional\",\\n        \"extrema\"\\n      ],\\n      \"title\": \"NivelAventura\",\\n      \"type\": \"string\"\\n    },\\n    \"PerfilUsuario\": {\\n      \"properties\": {\\n        \"altura_mayor_190\": {\\n          \"anyOf\": [\\n            {\\n              \"type\": \"string\"\\n            },\\n            {\\n              \"type\": \"null\"\\n            }\\n          ],\\n          \"description\": \"\\\\u00bfEl usuario mide m\\\\u00e1s de 1.90 metros? Responde \\'s\\\\u00ed\\' o \\'no\\'\",\\n          \"title\": \"Altura Mayor 190\"\\n        },\\n...\\n  ],\\n  \"title\": \"ResultadoSoloPerfil\",\\n  \"type\": \"object\"\\n}}\\n</Esquema_JSON_Requerido>\\n\\n<Reglas_Generales>\\n\\n1. Analiza TODO el historial de la conversación y el último mensaje del usuario para extraer/inferir valores para TODOS los campos de preferencias_usuario. Usa null si no hay información.\\n2. Haz solo preguntas relevantes según los campos de PerfilUsuario que falten y no repitas preguntas que ya hayan sido respondidas explícita o implícitamente.\\n3. PROHIBIDO preguntar por temas fuera de PerfilUsuario en esta etapa (NO preguntar por precio, consumo, filtros técnicos como tipo_mecanica, tecnología, seguridad, maletero, etc.).\\n4. Usa el campo mensaje_validacion para formular la siguiente pregunta necesaria o para confirmar que el perfil está completo. </Reglas_Generales>\\n</Reglas_Generales>\\n\\n<Reglas_Preguntas_Especificas>\\n\\nUsa estas preguntas EXACTAS cuando necesites preguntar por estos campos de PerfilUsuario:\\n\\naltura_mayor_190: \"¿Mides más de 1.90 m?\"\\npeso_mayor_100: \"¿Pesas más de 100 kg?\"\\nuso_profesional: \"¿Uso personal o profesional?\"\\nvalora_estetica: \"¿Valoras la estética?\"\\nsolo_electricos: \"¿Quieres solo coches eléctricos?\"\\ntransmision_preferida: (Si falta y es relevante preguntar) \"¿Qué tipo de transmisión prefieres?\\\\n 1) Automático\\\\n 2) Manual\\\\n 3) Ambos\"\\napasionado_motor: \"¿Eres un apasionado del motor?\"\\nManejo de aventura: Si no se ha preguntado por aventura y no se puede inferir un valor (ninguna, ocasional, extrema), deja \"aventura\": null en preferencias_usuario y USA UNO de los siguientes templates EXACTOS en mensaje_validacion (elige el que te parezca más natural en el contexto):\\n\\n<Aventura_Templates>\\n\\nTemplate 1: “Hablando de aventura, ¿con cuál de estas afirmaciones te identificas más?\\\\n 1) No pisas nada que no sea asfalto (ninguna)\\\\n 2) Salidas fuera de asfalto ocasionales (ocasional)\\\\n 3) Circular en condiciones duras con total garantía (extrema)”\\nTemplate 2: “Para conocer tu espíritu aventurero, dime:\\\\n 1) Solo asfalto (ninguna)\\\\n 2) Salidas off‑road de vez en cuando (ocasional)\\\\n 3) Aventurero extremo en terrenos difíciles (extrema)” </Aventura_Templates>\\nConfirmación de Perfil Completo: Si consideras que todos los campos necesarios de PerfilUsuario ya tienen un valor (no null), usa un mensaje de confirmación en mensaje_validacion. Ejemplo: \"¡Perfecto! Ya tenemos tus preferencias principales. ¿Pasamos a los detalles técnicos?\" o simplemente \"\".\\n</Reglas_Preguntas_Especificas>\\n\\n<Ejemplos_Perfil>\\n\\nEjemplo 1: Inicio, pregunta por Aventura\\n\\nContexto (Historial + Último mensaje): [HumanMessage(content=\\'Hola, dime quién eres\\')]\\nSalida JSON Esperada:\\nJSON\\n\\n{\\n  \"preferencias_usuario\": {\\n    \"altura_mayor_190\": null, \"peso_mayor_100\": null, \"uso_profesional\": null, \\n    \"valora_estetica\": null, \"solo_electricos\": null, \"transmision_preferida\": null, \\n    \"apasionado_motor\": null, \"aventura\": null \\n  },\\n  \"mensaje_validacion\": \"¡Hola! Soy Mentor, tu asistente para encontrar el coche perfecto. Analizo tus necesidades y preferencias. Para empezar, hablando de aventura, ¿con cuál de estas afirmaciones te identificas más?\\\\n  1) No pisas nada que no sea asfalto (ninguna)\\\\n  2) Salidas fuera de asfalto ocasionales (ocasional)\\\\n  3) Circular en condiciones duras con total garantía (extrema)\"\\n}\\n\\nEjemplo 2: Usuario da altura, estética y uso; pregunta por Transmisión\\n\\nContexto: [..., HumanMessage(content=\\'Mido 1.95m y me gustan los coches con buen diseño. Quiero algo para ir al trabajo.\\')]\\nSalida JSON Esperada:\\nJSON\\n\\n{\\n  \"preferencias_usuario\": {\\n    \"altura_mayor_190\": \"sí\", \"peso_mayor_100\": null, \"uso_profesional\": \"sí\", \\n    \"valora_estetica\": \"sí\", \"solo_electricos\": null, \"transmision_preferida\": null, \\n    \"apasionado_motor\": null, \"aventura\": null \\n  },\\n  \"mensaje_validacion\": \"Entendido: mides más de 1.90m, valoras la estética y es para uso profesional. ¿Qué tipo de transmisión prefieres?\\\\n  1) Automático\\\\n  2) Manual\\\\n  3) Ambos\" \\n}\\n(Nota: En este ejemplo, asumimos que preguntar por transmisión es prioritario sobre aventura según tu lógica interna o la del LLM)\\n\\nEjemplo 3: Perfil completo, mensaje de confirmación\\n\\nContexto: [..., HumanMessage(content=\\'Prefiero automático, no quiero solo eléctricos, y no soy apasionado del motor. Uso personal y solo asfalto. No soy alto ni pesado.\\')]\\nSalida JSON Esperada:\\nJSON\\n\\n{\\n  \"preferencias_usuario\": {\\n    \"altura_mayor_190\": \"no\", \"peso_mayor_100\": \"no\", \"uso_profesional\": \"no\", \\n    \"valora_estetica\": \"sí\", # Asumiendo que se preguntó/infirió antes\\n    \"solo_electricos\": \"no\", \"transmision_preferida\": \"automatico\", \\n    \"apasionado_motor\": \"no\", \"aventura\": \"ninguna\" \\n  },\\n  \"mensaje_validacion\": \"¡Estupendo! Creo que ya tengo claras todas tus preferencias principales. ¿Vamos a ver qué características técnicas encajarían?\" \\n}\\n</Ejemplos_Perfil>\\n\\n<Formato_Salida_JSON_Final>\\nGenera únicamente el objeto JSON completo y válido solicitado que cumpla el esquema ResultadoSoloPerfil, sin añadir ningún texto antes o después.\\n\\nJSON\\n\\n{\\n  \"preferencias_usuario\": { ... },\\n  \"mensaje_validacion\": \"<string>\"\\n}\\n</Formato_Salida_JSON_Final>', 'role': 'user'}, {'content': 'oye busco un coche para la ciudad', 'role': 'user'}, {'content': '¡Hola! Para ayudarte mejor, hablemos de aventura. ¿Con cuál de estas afirmaciones te identificas más?\\n 1) No pisas nada que no sea asfalto (ninguna)\\n 2) Salidas fuera de asfalto ocasionales (ocasional)\\n 3) Circular en condiciones duras con total garantía (extrema)', 'role': 'assistant'}, {'content': 'la 3', 'role': 'user'}, {'content': '¿Mides más de 1.90 m?', 'role': 'assistant'}, {'content': ' mido 1.90 y peso 80kg', 'role': 'user'}, {'content': 'Entendido: mides 1.90m y tu nivel de aventura es extrema. ¿Uso personal o profesional?', 'role': 'assistant'}, {'content': 'uso personal', 'role': 'user'}], 'model': 'gpt-4o-mini', 'response_format': {'type': 'json_schema', 'json_schema': {'schema': {'$defs': {'NivelAventura': {'enum': ['ninguna', 'ocasional', 'extrema'], 'title': 'NivelAventura', 'type': 'string'}, 'PerfilUsuario': {'properties': {'altura_mayor_190': {'anyOf': [{'type': 'string'}, {'type': 'null'}], 'description': \"¿El usuario mide más de 1.90 metros? Responde 'sí' o 'no'\", 'title': 'Altura Mayor 190'}, 'peso_mayor_100': {'anyOf': [{'type': 'string'}, {'type': 'null'}], 'description': \"¿El usuario pesa más de 100 kg? Responde 'sí' o 'no'\", 'title': 'Peso Mayor 100'}, 'uso_profesional': {'anyOf': [{'type': 'string'}, {'type': 'null'}], 'description': \"¿Usará el coche para trabajo? Responde 'sí' o 'no'\", 'title': 'Uso Profesional'}, 'valora_estetica': {'anyOf': [{'type': 'string'}, {'type': 'null'}], 'description': \"¿Valora la estética del coche? Responde 'sí' o 'no'\", 'title': 'Valora Estetica'}, 'solo_electricos': {'anyOf': [{'type': 'string'}, {'type': 'null'}], 'description': \"¿Quiere solo coches eléctricos? Responde 'sí' o 'no'\", 'title': 'Solo Electricos'}, 'transmision_preferida': {'anyOf': [{'$ref': '#/$defs/Transmision'}, {'type': 'null'}], 'description': '¿Qué transmisión prefieres: automático, manual o ambos?'}, 'apasionado_motor': {'anyOf': [{'type': 'string'}, {'type': 'null'}], 'description': \"¿Eres un apasionado/a del motor y/o la movilidad? Responde 'sí' o 'no'\", 'title': 'Apasionado Motor'}, 'aventura': {'anyOf': [{'$ref': '#/$defs/NivelAventura'}, {'type': 'null'}], 'description': \"¿Qué nivel de aventura buscas con tu vehículo: 'ninguna', 'ocasional' o 'extrema'?\"}}, 'title': 'PerfilUsuario', 'type': 'object', 'additionalProperties': False, 'required': ['altura_mayor_190', 'peso_mayor_100', 'uso_profesional', 'valora_estetica', 'solo_electricos', 'transmision_preferida', 'apasionado_motor', 'aventura']}, 'Transmision': {'enum': ['automático', 'manual', 'ambos'], 'title': 'Transmision', 'type': 'string'}}, 'description': 'Salida esperada del LLM enfocado solo en el perfil del usuario.', 'properties': {'preferencias_usuario': {'$ref': '#/$defs/PerfilUsuario'}, 'mensaje_validacion': {'description': 'Pregunta de seguimiento CLARA y CORTA si falta información ESENCIAL para completar el PerfilUsuario, o un mensaje de confirmación si el perfil está completo.', 'title': 'Mensaje Validacion', 'type': 'string'}}, 'required': ['preferencias_usuario', 'mensaje_validacion'], 'title': 'ResultadoSoloPerfil', 'type': 'object', 'additionalProperties': False}, 'name': 'ResultadoSoloPerfil', 'strict': True}}, 'stream': False, 'temperature': 0.2}}\n",
      "DEBUG:openai._base_client:Sending HTTP Request: POST https://api.openai.com/v1/chat/completions\n",
      "DEBUG:httpcore.connection:close.started\n",
      "DEBUG:httpcore.connection:close.complete\n",
      "DEBUG:httpcore.connection:connect_tcp.started host='api.openai.com' port=443 local_address=None timeout=None socket_options=None\n",
      "DEBUG:httpcore.connection:connect_tcp.complete return_value=<httpcore._backends.sync.SyncStream object at 0x14b9abcd0>\n",
      "DEBUG:httpcore.connection:start_tls.started ssl_context=<ssl.SSLContext object at 0x11f6eccb0> server_hostname='api.openai.com' timeout=None\n",
      "DEBUG:httpcore.connection:start_tls.complete return_value=<httpcore._backends.sync.SyncStream object at 0x14b998310>\n",
      "DEBUG:httpcore.http11:send_request_headers.started request=<Request [b'POST']>\n",
      "DEBUG:httpcore.http11:send_request_headers.complete\n",
      "DEBUG:httpcore.http11:send_request_body.started request=<Request [b'POST']>\n",
      "DEBUG:httpcore.http11:send_request_body.complete\n",
      "DEBUG:httpcore.http11:receive_response_headers.started request=<Request [b'POST']>\n"
     ]
    },
    {
     "name": "stdout",
     "output_type": "stream",
     "text": [
      "--- Ejecutando Nodo: recopilar_preferencias_node ---\n",
      "DEBUG (Perfil) ► Último mensaje es HumanMessage o historial vacío, llamando a llm_solo_perfil...\n"
     ]
    },
    {
     "name": "stderr",
     "output_type": "stream",
     "text": [
      "DEBUG:httpcore.http11:receive_response_headers.complete return_value=(b'HTTP/1.1', 200, b'OK', [(b'Date', b'Sun, 04 May 2025 13:58:30 GMT'), (b'Content-Type', b'application/json'), (b'Transfer-Encoding', b'chunked'), (b'Connection', b'keep-alive'), (b'access-control-expose-headers', b'X-Request-ID'), (b'openai-organization', b'user-ic25pcewdjuowsz9q2ektvrn'), (b'openai-processing-ms', b'1734'), (b'openai-version', b'2020-10-01'), (b'x-ratelimit-limit-requests', b'10000'), (b'x-ratelimit-limit-tokens', b'200000'), (b'x-ratelimit-remaining-requests', b'9998'), (b'x-ratelimit-remaining-tokens', b'198338'), (b'x-ratelimit-reset-requests', b'8.994s'), (b'x-ratelimit-reset-tokens', b'498ms'), (b'x-request-id', b'req_059fcaf55a8de6de9b312cdb78e5b5bd'), (b'strict-transport-security', b'max-age=31536000; includeSubDomains; preload'), (b'cf-cache-status', b'DYNAMIC'), (b'X-Content-Type-Options', b'nosniff'), (b'Server', b'cloudflare'), (b'CF-RAY', b'93a8835bcf8f193e-BCN'), (b'Content-Encoding', b'gzip'), (b'alt-svc', b'h3=\":443\"; ma=86400')])\n",
      "INFO:httpx:HTTP Request: POST https://api.openai.com/v1/chat/completions \"HTTP/1.1 200 OK\"\n",
      "DEBUG:httpcore.http11:receive_response_body.started request=<Request [b'POST']>\n",
      "DEBUG:httpcore.http11:receive_response_body.complete\n",
      "DEBUG:httpcore.http11:response_closed.started\n",
      "DEBUG:httpcore.http11:response_closed.complete\n",
      "DEBUG:openai._base_client:HTTP Response: POST https://api.openai.com/v1/chat/completions \"200 OK\" Headers({'date': 'Sun, 04 May 2025 13:58:30 GMT', 'content-type': 'application/json', 'transfer-encoding': 'chunked', 'connection': 'keep-alive', 'access-control-expose-headers': 'X-Request-ID', 'openai-organization': 'user-ic25pcewdjuowsz9q2ektvrn', 'openai-processing-ms': '1734', 'openai-version': '2020-10-01', 'x-ratelimit-limit-requests': '10000', 'x-ratelimit-limit-tokens': '200000', 'x-ratelimit-remaining-requests': '9998', 'x-ratelimit-remaining-tokens': '198338', 'x-ratelimit-reset-requests': '8.994s', 'x-ratelimit-reset-tokens': '498ms', 'x-request-id': 'req_059fcaf55a8de6de9b312cdb78e5b5bd', 'strict-transport-security': 'max-age=31536000; includeSubDomains; preload', 'cf-cache-status': 'DYNAMIC', 'x-content-type-options': 'nosniff', 'server': 'cloudflare', 'cf-ray': '93a8835bcf8f193e-BCN', 'content-encoding': 'gzip', 'alt-svc': 'h3=\":443\"; ma=86400'})\n",
      "DEBUG:openai._base_client:request_id: req_059fcaf55a8de6de9b312cdb78e5b5bd\n"
     ]
    },
    {
     "name": "stdout",
     "output_type": "stream",
     "text": [
      "DEBUG (Perfil) ► Respuesta llm_solo_perfil: preferencias_usuario=PerfilUsuario(altura_mayor_190='sí', peso_mayor_100='no', uso_profesional='no', valora_estetica=None, solo_electricos=None, transmision_preferida=None, apasionado_motor=None, aventura=<NivelAventura.extrema: 'extrema'>) mensaje_validacion='Perfecto, ya tenemos tus preferencias principales. ¿Valoras la estética?'\n",
      "DEBUG (Perfil) ► Preferencias tras post-procesamiento (si aplica): altura_mayor_190='sí' peso_mayor_100='no' uso_profesional='no' valora_estetica=None solo_electricos=None transmision_preferida=None apasionado_motor=None aventura=<NivelAventura.extrema: 'extrema'>\n",
      "DEBUG (Perfil) ► Estado preferencias_usuario actualizado: altura_mayor_190='sí' peso_mayor_100='no' uso_profesional='no' valora_estetica=None solo_electricos=None transmision_preferida=None apasionado_motor=None aventura=<NivelAventura.extrema: 'extrema'>\n",
      "DEBUG (Perfil) ► Guardando pregunta pendiente: Perfecto, ya tenemos tus preferencias principales. ¿Valoras la estética?\n",
      "--- Ejecutando Nodo: validar_preferencias_node ---\n",
      "--- DEBUG CHECK PERFIL ---\n",
      "Input prefs object: altura_mayor_190='sí' peso_mayor_100='no' uso_profesional='no' valora_estetica=None solo_electricos=None transmision_preferida=None apasionado_motor=None aventura=<NivelAventura.extrema: 'extrema'>\n",
      "Input prefs type: <class 'graph.perfil.state.PerfilUsuario'>\n",
      "Checking field 'altura_mayor_190': value='sí', type=<class 'str'>\n",
      "Checking field 'peso_mayor_100': value='no', type=<class 'str'>\n",
      "Checking field 'uso_profesional': value='no', type=<class 'str'>\n",
      "Checking field 'valora_estetica': value='None', type=<class 'NoneType'>\n",
      "DEBUG (Validation Perfil) ► Campo 'valora_estetica' está vacío/None.\n",
      "DEBUG (Perfil) ► Validación: PerfilUsuario considerado INCOMPLETO.\n",
      "--- Evaluando Condición: ruta_decision_perfil ---\n",
      "DEBUG (Condición Perfil) ► Estado 'preferencias_usuario' recibido: altura_mayor_190='sí' peso_mayor_100='no' uso_profesional='no' valora_estetica=None solo_electricos=None transmision_preferida=None apasionado_motor=None aventura=<NivelAventura.extrema: 'extrema'>\n",
      "DEBUG (Condición Perfil) ► Tipo de 'preferencias_usuario': <class 'graph.perfil.state.PerfilUsuario'>\n",
      "--- DEBUG CHECK PERFIL ---\n",
      "Input prefs object: altura_mayor_190='sí' peso_mayor_100='no' uso_profesional='no' valora_estetica=None solo_electricos=None transmision_preferida=None apasionado_motor=None aventura=<NivelAventura.extrema: 'extrema'>\n",
      "Input prefs type: <class 'graph.perfil.state.PerfilUsuario'>\n",
      "Checking field 'altura_mayor_190': value='sí', type=<class 'str'>\n",
      "Checking field 'peso_mayor_100': value='no', type=<class 'str'>\n",
      "Checking field 'uso_profesional': value='no', type=<class 'str'>\n",
      "Checking field 'valora_estetica': value='None', type=<class 'NoneType'>\n",
      "DEBUG (Validation Perfil) ► Campo 'valora_estetica' está vacío/None.\n",
      "DEBUG (Condición Perfil) ► Perfil INCOMPLETO. Se necesita pregunta.\n",
      "--- Ejecutando Nodo: preguntar_preferencias_node ---\n",
      "--- DEBUG CHECK PERFIL ---\n",
      "Input prefs object: altura_mayor_190='sí' peso_mayor_100='no' uso_profesional='no' valora_estetica=None solo_electricos=None transmision_preferida=None apasionado_motor=None aventura=<NivelAventura.extrema: 'extrema'>\n",
      "Input prefs type: <class 'graph.perfil.state.PerfilUsuario'>\n",
      "Checking field 'altura_mayor_190': value='sí', type=<class 'str'>\n",
      "Checking field 'peso_mayor_100': value='no', type=<class 'str'>\n",
      "Checking field 'uso_profesional': value='no', type=<class 'str'>\n",
      "Checking field 'valora_estetica': value='None', type=<class 'NoneType'>\n",
      "DEBUG (Validation Perfil) ► Campo 'valora_estetica' está vacío/None.\n",
      "DEBUG (Preguntar Perfil) ► Perfil aún INCOMPLETO según checker.\n",
      "DEBUG (Preguntar Perfil) ► Usando pregunta guardada: Perfecto, ya tenemos tus preferencias principales. ¿Valoras la estética?\n",
      "DEBUG (Preguntar Perfil) ► Mensaje final añadido: Perfecto, ya tenemos tus preferencias principales. ¿Valoras la estética?\n",
      "==================================\u001b[1m Ai Message \u001b[0m==================================\n",
      "\n",
      "Perfecto, ya tenemos tus preferencias principales. ¿Valoras la estética?\n"
     ]
    }
   ],
   "source": [
    "config = {\"configurable\": {\"thread_id\": \"1\"}}\n",
    "input_message = HumanMessage(content=\"uso personal\")\n",
    "output = graph.invoke({\"messages\": [input_message]}, config) \n",
    "for m in output['messages'][-1:]:\n",
    "    m.pretty_print()"
   ]
  },
  {
   "cell_type": "code",
   "execution_count": 6,
   "metadata": {},
   "outputs": [
    {
     "name": "stderr",
     "output_type": "stream",
     "text": [
      "DEBUG:openai._base_client:Request options: {'method': 'post', 'url': '/chat/completions', 'headers': {'X-Stainless-Helper-Method': 'beta.chat.completions.parse'}, 'files': None, 'post_parser': <function Completions.parse.<locals>.parser at 0x14b91d9e0>, 'json_data': {'messages': [{'content': '<Role>\\nEres un asistente de conversación amigable y metodológico. Tu misión actual es conocer las preferencias generales y el perfil básico de un usuario que busca un coche (`PerfilUsuario`). Debes seguir las reglas especificadas y generar SIEMPRE un objeto JSON válido que cumpla el esquema `ResultadoSoloPerfil`. Mantén un tono cercano.\\n</Role>\\n\\n<Esquema_JSON_Requerido>\\nLa estructura JSON que DEBES generar es la siguiente:\\n```json\\n{{\\n  \"$defs\": {\\n    \"NivelAventura\": {\\n      \"enum\": [\\n        \"ninguna\",\\n        \"ocasional\",\\n        \"extrema\"\\n      ],\\n      \"title\": \"NivelAventura\",\\n      \"type\": \"string\"\\n    },\\n    \"PerfilUsuario\": {\\n      \"properties\": {\\n        \"altura_mayor_190\": {\\n          \"anyOf\": [\\n            {\\n              \"type\": \"string\"\\n            },\\n            {\\n              \"type\": \"null\"\\n            }\\n          ],\\n          \"description\": \"\\\\u00bfEl usuario mide m\\\\u00e1s de 1.90 metros? Responde \\'s\\\\u00ed\\' o \\'no\\'\",\\n          \"title\": \"Altura Mayor 190\"\\n        },\\n...\\n  ],\\n  \"title\": \"ResultadoSoloPerfil\",\\n  \"type\": \"object\"\\n}}\\n</Esquema_JSON_Requerido>\\n\\n<Reglas_Generales>\\n\\n1. Analiza TODO el historial de la conversación y el último mensaje del usuario para extraer/inferir valores para TODOS los campos de preferencias_usuario. Usa null si no hay información.\\n2. Haz solo preguntas relevantes según los campos de PerfilUsuario que falten y no repitas preguntas que ya hayan sido respondidas explícita o implícitamente.\\n3. PROHIBIDO preguntar por temas fuera de PerfilUsuario en esta etapa (NO preguntar por precio, consumo, filtros técnicos como tipo_mecanica, tecnología, seguridad, maletero, etc.).\\n4. Usa el campo mensaje_validacion para formular la siguiente pregunta necesaria o para confirmar que el perfil está completo. </Reglas_Generales>\\n</Reglas_Generales>\\n\\n<Reglas_Preguntas_Especificas>\\n\\nUsa estas preguntas EXACTAS cuando necesites preguntar por estos campos de PerfilUsuario:\\n\\naltura_mayor_190: \"¿Mides más de 1.90 m?\"\\npeso_mayor_100: \"¿Pesas más de 100 kg?\"\\nuso_profesional: \"¿Uso personal o profesional?\"\\nvalora_estetica: \"¿Valoras la estética?\"\\nsolo_electricos: \"¿Quieres solo coches eléctricos?\"\\ntransmision_preferida: (Si falta y es relevante preguntar) \"¿Qué tipo de transmisión prefieres?\\\\n 1) Automático\\\\n 2) Manual\\\\n 3) Ambos\"\\napasionado_motor: \"¿Eres un apasionado del motor?\"\\nManejo de aventura: Si no se ha preguntado por aventura y no se puede inferir un valor (ninguna, ocasional, extrema), deja \"aventura\": null en preferencias_usuario y USA UNO de los siguientes templates EXACTOS en mensaje_validacion (elige el que te parezca más natural en el contexto):\\n\\n<Aventura_Templates>\\n\\nTemplate 1: “Hablando de aventura, ¿con cuál de estas afirmaciones te identificas más?\\\\n 1) No pisas nada que no sea asfalto (ninguna)\\\\n 2) Salidas fuera de asfalto ocasionales (ocasional)\\\\n 3) Circular en condiciones duras con total garantía (extrema)”\\nTemplate 2: “Para conocer tu espíritu aventurero, dime:\\\\n 1) Solo asfalto (ninguna)\\\\n 2) Salidas off‑road de vez en cuando (ocasional)\\\\n 3) Aventurero extremo en terrenos difíciles (extrema)” </Aventura_Templates>\\nConfirmación de Perfil Completo: Si consideras que todos los campos necesarios de PerfilUsuario ya tienen un valor (no null), usa un mensaje de confirmación en mensaje_validacion. Ejemplo: \"¡Perfecto! Ya tenemos tus preferencias principales. ¿Pasamos a los detalles técnicos?\" o simplemente \"\".\\n</Reglas_Preguntas_Especificas>\\n\\n<Ejemplos_Perfil>\\n\\nEjemplo 1: Inicio, pregunta por Aventura\\n\\nContexto (Historial + Último mensaje): [HumanMessage(content=\\'Hola, dime quién eres\\')]\\nSalida JSON Esperada:\\nJSON\\n\\n{\\n  \"preferencias_usuario\": {\\n    \"altura_mayor_190\": null, \"peso_mayor_100\": null, \"uso_profesional\": null, \\n    \"valora_estetica\": null, \"solo_electricos\": null, \"transmision_preferida\": null, \\n    \"apasionado_motor\": null, \"aventura\": null \\n  },\\n  \"mensaje_validacion\": \"¡Hola! Soy Mentor, tu asistente para encontrar el coche perfecto. Analizo tus necesidades y preferencias. Para empezar, hablando de aventura, ¿con cuál de estas afirmaciones te identificas más?\\\\n  1) No pisas nada que no sea asfalto (ninguna)\\\\n  2) Salidas fuera de asfalto ocasionales (ocasional)\\\\n  3) Circular en condiciones duras con total garantía (extrema)\"\\n}\\n\\nEjemplo 2: Usuario da altura, estética y uso; pregunta por Transmisión\\n\\nContexto: [..., HumanMessage(content=\\'Mido 1.95m y me gustan los coches con buen diseño. Quiero algo para ir al trabajo.\\')]\\nSalida JSON Esperada:\\nJSON\\n\\n{\\n  \"preferencias_usuario\": {\\n    \"altura_mayor_190\": \"sí\", \"peso_mayor_100\": null, \"uso_profesional\": \"sí\", \\n    \"valora_estetica\": \"sí\", \"solo_electricos\": null, \"transmision_preferida\": null, \\n    \"apasionado_motor\": null, \"aventura\": null \\n  },\\n  \"mensaje_validacion\": \"Entendido: mides más de 1.90m, valoras la estética y es para uso profesional. ¿Qué tipo de transmisión prefieres?\\\\n  1) Automático\\\\n  2) Manual\\\\n  3) Ambos\" \\n}\\n(Nota: En este ejemplo, asumimos que preguntar por transmisión es prioritario sobre aventura según tu lógica interna o la del LLM)\\n\\nEjemplo 3: Perfil completo, mensaje de confirmación\\n\\nContexto: [..., HumanMessage(content=\\'Prefiero automático, no quiero solo eléctricos, y no soy apasionado del motor. Uso personal y solo asfalto. No soy alto ni pesado.\\')]\\nSalida JSON Esperada:\\nJSON\\n\\n{\\n  \"preferencias_usuario\": {\\n    \"altura_mayor_190\": \"no\", \"peso_mayor_100\": \"no\", \"uso_profesional\": \"no\", \\n    \"valora_estetica\": \"sí\", # Asumiendo que se preguntó/infirió antes\\n    \"solo_electricos\": \"no\", \"transmision_preferida\": \"automatico\", \\n    \"apasionado_motor\": \"no\", \"aventura\": \"ninguna\" \\n  },\\n  \"mensaje_validacion\": \"¡Estupendo! Creo que ya tengo claras todas tus preferencias principales. ¿Vamos a ver qué características técnicas encajarían?\" \\n}\\n</Ejemplos_Perfil>\\n\\n<Formato_Salida_JSON_Final>\\nGenera únicamente el objeto JSON completo y válido solicitado que cumpla el esquema ResultadoSoloPerfil, sin añadir ningún texto antes o después.\\n\\nJSON\\n\\n{\\n  \"preferencias_usuario\": { ... },\\n  \"mensaje_validacion\": \"<string>\"\\n}\\n</Formato_Salida_JSON_Final>', 'role': 'user'}, {'content': 'oye busco un coche para la ciudad', 'role': 'user'}, {'content': '¡Hola! Para ayudarte mejor, hablemos de aventura. ¿Con cuál de estas afirmaciones te identificas más?\\n 1) No pisas nada que no sea asfalto (ninguna)\\n 2) Salidas fuera de asfalto ocasionales (ocasional)\\n 3) Circular en condiciones duras con total garantía (extrema)', 'role': 'assistant'}, {'content': 'la 3', 'role': 'user'}, {'content': '¿Mides más de 1.90 m?', 'role': 'assistant'}, {'content': ' mido 1.90 y peso 80kg', 'role': 'user'}, {'content': 'Entendido: mides 1.90m y tu nivel de aventura es extrema. ¿Uso personal o profesional?', 'role': 'assistant'}, {'content': 'uso personal', 'role': 'user'}, {'content': 'Perfecto, ya tenemos tus preferencias principales. ¿Valoras la estética?', 'role': 'assistant'}, {'content': 'si', 'role': 'user'}], 'model': 'gpt-4o-mini', 'response_format': {'type': 'json_schema', 'json_schema': {'schema': {'$defs': {'NivelAventura': {'enum': ['ninguna', 'ocasional', 'extrema'], 'title': 'NivelAventura', 'type': 'string'}, 'PerfilUsuario': {'properties': {'altura_mayor_190': {'anyOf': [{'type': 'string'}, {'type': 'null'}], 'description': \"¿El usuario mide más de 1.90 metros? Responde 'sí' o 'no'\", 'title': 'Altura Mayor 190'}, 'peso_mayor_100': {'anyOf': [{'type': 'string'}, {'type': 'null'}], 'description': \"¿El usuario pesa más de 100 kg? Responde 'sí' o 'no'\", 'title': 'Peso Mayor 100'}, 'uso_profesional': {'anyOf': [{'type': 'string'}, {'type': 'null'}], 'description': \"¿Usará el coche para trabajo? Responde 'sí' o 'no'\", 'title': 'Uso Profesional'}, 'valora_estetica': {'anyOf': [{'type': 'string'}, {'type': 'null'}], 'description': \"¿Valora la estética del coche? Responde 'sí' o 'no'\", 'title': 'Valora Estetica'}, 'solo_electricos': {'anyOf': [{'type': 'string'}, {'type': 'null'}], 'description': \"¿Quiere solo coches eléctricos? Responde 'sí' o 'no'\", 'title': 'Solo Electricos'}, 'transmision_preferida': {'anyOf': [{'$ref': '#/$defs/Transmision'}, {'type': 'null'}], 'description': '¿Qué transmisión prefieres: automático, manual o ambos?'}, 'apasionado_motor': {'anyOf': [{'type': 'string'}, {'type': 'null'}], 'description': \"¿Eres un apasionado/a del motor y/o la movilidad? Responde 'sí' o 'no'\", 'title': 'Apasionado Motor'}, 'aventura': {'anyOf': [{'$ref': '#/$defs/NivelAventura'}, {'type': 'null'}], 'description': \"¿Qué nivel de aventura buscas con tu vehículo: 'ninguna', 'ocasional' o 'extrema'?\"}}, 'title': 'PerfilUsuario', 'type': 'object', 'additionalProperties': False, 'required': ['altura_mayor_190', 'peso_mayor_100', 'uso_profesional', 'valora_estetica', 'solo_electricos', 'transmision_preferida', 'apasionado_motor', 'aventura']}, 'Transmision': {'enum': ['automático', 'manual', 'ambos'], 'title': 'Transmision', 'type': 'string'}}, 'description': 'Salida esperada del LLM enfocado solo en el perfil del usuario.', 'properties': {'preferencias_usuario': {'$ref': '#/$defs/PerfilUsuario'}, 'mensaje_validacion': {'description': 'Pregunta de seguimiento CLARA y CORTA si falta información ESENCIAL para completar el PerfilUsuario, o un mensaje de confirmación si el perfil está completo.', 'title': 'Mensaje Validacion', 'type': 'string'}}, 'required': ['preferencias_usuario', 'mensaje_validacion'], 'title': 'ResultadoSoloPerfil', 'type': 'object', 'additionalProperties': False}, 'name': 'ResultadoSoloPerfil', 'strict': True}}, 'stream': False, 'temperature': 0.2}}\n",
      "DEBUG:openai._base_client:Sending HTTP Request: POST https://api.openai.com/v1/chat/completions\n",
      "DEBUG:httpcore.connection:close.started\n",
      "DEBUG:httpcore.connection:close.complete\n",
      "DEBUG:httpcore.connection:connect_tcp.started host='api.openai.com' port=443 local_address=None timeout=None socket_options=None\n",
      "DEBUG:httpcore.connection:connect_tcp.complete return_value=<httpcore._backends.sync.SyncStream object at 0x14b970c50>\n",
      "DEBUG:httpcore.connection:start_tls.started ssl_context=<ssl.SSLContext object at 0x11f6eccb0> server_hostname='api.openai.com' timeout=None\n",
      "DEBUG:httpcore.connection:start_tls.complete return_value=<httpcore._backends.sync.SyncStream object at 0x14b90f510>\n",
      "DEBUG:httpcore.http11:send_request_headers.started request=<Request [b'POST']>\n",
      "DEBUG:httpcore.http11:send_request_headers.complete\n",
      "DEBUG:httpcore.http11:send_request_body.started request=<Request [b'POST']>\n",
      "DEBUG:httpcore.http11:send_request_body.complete\n",
      "DEBUG:httpcore.http11:receive_response_headers.started request=<Request [b'POST']>\n"
     ]
    },
    {
     "name": "stdout",
     "output_type": "stream",
     "text": [
      "--- Ejecutando Nodo: recopilar_preferencias_node ---\n",
      "DEBUG (Perfil) ► Último mensaje es HumanMessage o historial vacío, llamando a llm_solo_perfil...\n"
     ]
    },
    {
     "name": "stderr",
     "output_type": "stream",
     "text": [
      "DEBUG:httpcore.http11:receive_response_headers.complete return_value=(b'HTTP/1.1', 200, b'OK', [(b'Date', b'Sun, 04 May 2025 13:58:42 GMT'), (b'Content-Type', b'application/json'), (b'Transfer-Encoding', b'chunked'), (b'Connection', b'keep-alive'), (b'access-control-expose-headers', b'X-Request-ID'), (b'openai-organization', b'user-ic25pcewdjuowsz9q2ektvrn'), (b'openai-processing-ms', b'2155'), (b'openai-version', b'2020-10-01'), (b'x-ratelimit-limit-requests', b'10000'), (b'x-ratelimit-limit-tokens', b'200000'), (b'x-ratelimit-remaining-requests', b'9999'), (b'x-ratelimit-remaining-tokens', b'198317'), (b'x-ratelimit-reset-requests', b'8.64s'), (b'x-ratelimit-reset-tokens', b'504ms'), (b'x-request-id', b'req_605e8e705ac466a95c58066728507a9b'), (b'strict-transport-security', b'max-age=31536000; includeSubDomains; preload'), (b'cf-cache-status', b'DYNAMIC'), (b'X-Content-Type-Options', b'nosniff'), (b'Server', b'cloudflare'), (b'CF-RAY', b'93a883a72a87193a-BCN'), (b'Content-Encoding', b'gzip'), (b'alt-svc', b'h3=\":443\"; ma=86400')])\n",
      "INFO:httpx:HTTP Request: POST https://api.openai.com/v1/chat/completions \"HTTP/1.1 200 OK\"\n",
      "DEBUG:httpcore.http11:receive_response_body.started request=<Request [b'POST']>\n",
      "DEBUG:httpcore.http11:receive_response_body.complete\n",
      "DEBUG:httpcore.http11:response_closed.started\n",
      "DEBUG:httpcore.http11:response_closed.complete\n",
      "DEBUG:openai._base_client:HTTP Response: POST https://api.openai.com/v1/chat/completions \"200 OK\" Headers({'date': 'Sun, 04 May 2025 13:58:42 GMT', 'content-type': 'application/json', 'transfer-encoding': 'chunked', 'connection': 'keep-alive', 'access-control-expose-headers': 'X-Request-ID', 'openai-organization': 'user-ic25pcewdjuowsz9q2ektvrn', 'openai-processing-ms': '2155', 'openai-version': '2020-10-01', 'x-ratelimit-limit-requests': '10000', 'x-ratelimit-limit-tokens': '200000', 'x-ratelimit-remaining-requests': '9999', 'x-ratelimit-remaining-tokens': '198317', 'x-ratelimit-reset-requests': '8.64s', 'x-ratelimit-reset-tokens': '504ms', 'x-request-id': 'req_605e8e705ac466a95c58066728507a9b', 'strict-transport-security': 'max-age=31536000; includeSubDomains; preload', 'cf-cache-status': 'DYNAMIC', 'x-content-type-options': 'nosniff', 'server': 'cloudflare', 'cf-ray': '93a883a72a87193a-BCN', 'content-encoding': 'gzip', 'alt-svc': 'h3=\":443\"; ma=86400'})\n",
      "DEBUG:openai._base_client:request_id: req_605e8e705ac466a95c58066728507a9b\n"
     ]
    },
    {
     "name": "stdout",
     "output_type": "stream",
     "text": [
      "DEBUG (Perfil) ► Respuesta llm_solo_perfil: preferencias_usuario=PerfilUsuario(altura_mayor_190='sí', peso_mayor_100='no', uso_profesional='no', valora_estetica='sí', solo_electricos=None, transmision_preferida=None, apasionado_motor=None, aventura=<NivelAventura.extrema: 'extrema'>) mensaje_validacion='¿Qué tipo de transmisión prefieres?\\n 1) Automático\\n 2) Manual\\n 3) Ambos'\n",
      "DEBUG (Perfil) ► Preferencias tras post-procesamiento (si aplica): altura_mayor_190='sí' peso_mayor_100='no' uso_profesional='no' valora_estetica='sí' solo_electricos=None transmision_preferida=None apasionado_motor=None aventura=<NivelAventura.extrema: 'extrema'>\n",
      "DEBUG (Perfil) ► Estado preferencias_usuario actualizado: altura_mayor_190='sí' peso_mayor_100='no' uso_profesional='no' valora_estetica='sí' solo_electricos=None transmision_preferida=None apasionado_motor=None aventura=<NivelAventura.extrema: 'extrema'>\n",
      "DEBUG (Perfil) ► Guardando pregunta pendiente: ¿Qué tipo de transmisión prefieres?\n",
      " 1) Automático\n",
      " 2) Manual\n",
      " 3) Ambos\n",
      "--- Ejecutando Nodo: validar_preferencias_node ---\n",
      "--- DEBUG CHECK PERFIL ---\n",
      "Input prefs object: altura_mayor_190='sí' peso_mayor_100='no' uso_profesional='no' valora_estetica='sí' solo_electricos=None transmision_preferida=None apasionado_motor=None aventura=<NivelAventura.extrema: 'extrema'>\n",
      "Input prefs type: <class 'graph.perfil.state.PerfilUsuario'>\n",
      "Checking field 'altura_mayor_190': value='sí', type=<class 'str'>\n",
      "Checking field 'peso_mayor_100': value='no', type=<class 'str'>\n",
      "Checking field 'uso_profesional': value='no', type=<class 'str'>\n",
      "Checking field 'valora_estetica': value='sí', type=<class 'str'>\n",
      "Checking field 'solo_electricos': value='None', type=<class 'NoneType'>\n",
      "DEBUG (Validation Perfil) ► Campo 'solo_electricos' está vacío/None.\n",
      "DEBUG (Perfil) ► Validación: PerfilUsuario considerado INCOMPLETO.\n",
      "--- Evaluando Condición: ruta_decision_perfil ---\n",
      "DEBUG (Condición Perfil) ► Estado 'preferencias_usuario' recibido: altura_mayor_190='sí' peso_mayor_100='no' uso_profesional='no' valora_estetica='sí' solo_electricos=None transmision_preferida=None apasionado_motor=None aventura=<NivelAventura.extrema: 'extrema'>\n",
      "DEBUG (Condición Perfil) ► Tipo de 'preferencias_usuario': <class 'graph.perfil.state.PerfilUsuario'>\n",
      "--- DEBUG CHECK PERFIL ---\n",
      "Input prefs object: altura_mayor_190='sí' peso_mayor_100='no' uso_profesional='no' valora_estetica='sí' solo_electricos=None transmision_preferida=None apasionado_motor=None aventura=<NivelAventura.extrema: 'extrema'>\n",
      "Input prefs type: <class 'graph.perfil.state.PerfilUsuario'>\n",
      "Checking field 'altura_mayor_190': value='sí', type=<class 'str'>\n",
      "Checking field 'peso_mayor_100': value='no', type=<class 'str'>\n",
      "Checking field 'uso_profesional': value='no', type=<class 'str'>\n",
      "Checking field 'valora_estetica': value='sí', type=<class 'str'>\n",
      "Checking field 'solo_electricos': value='None', type=<class 'NoneType'>\n",
      "DEBUG (Validation Perfil) ► Campo 'solo_electricos' está vacío/None.\n",
      "DEBUG (Condición Perfil) ► Perfil INCOMPLETO. Se necesita pregunta.\n",
      "--- Ejecutando Nodo: preguntar_preferencias_node ---\n",
      "--- DEBUG CHECK PERFIL ---\n",
      "Input prefs object: altura_mayor_190='sí' peso_mayor_100='no' uso_profesional='no' valora_estetica='sí' solo_electricos=None transmision_preferida=None apasionado_motor=None aventura=<NivelAventura.extrema: 'extrema'>\n",
      "Input prefs type: <class 'graph.perfil.state.PerfilUsuario'>\n",
      "Checking field 'altura_mayor_190': value='sí', type=<class 'str'>\n",
      "Checking field 'peso_mayor_100': value='no', type=<class 'str'>\n",
      "Checking field 'uso_profesional': value='no', type=<class 'str'>\n",
      "Checking field 'valora_estetica': value='sí', type=<class 'str'>\n",
      "Checking field 'solo_electricos': value='None', type=<class 'NoneType'>\n",
      "DEBUG (Validation Perfil) ► Campo 'solo_electricos' está vacío/None.\n",
      "DEBUG (Preguntar Perfil) ► Perfil aún INCOMPLETO según checker.\n",
      "DEBUG (Preguntar Perfil) ► Usando pregunta guardada: ¿Qué tipo de transmisión prefieres?\n",
      " 1) Automático\n",
      " 2) Manual\n",
      " 3) Ambos\n",
      "DEBUG (Preguntar Perfil) ► Mensaje final añadido: ¿Qué tipo de transmisión prefieres?\n",
      " 1) Automático\n",
      " 2) Manual\n",
      " 3) Ambos\n",
      "==================================\u001b[1m Ai Message \u001b[0m==================================\n",
      "\n",
      "¿Qué tipo de transmisión prefieres?\n",
      " 1) Automático\n",
      " 2) Manual\n",
      " 3) Ambos\n"
     ]
    }
   ],
   "source": [
    "config = {\"configurable\": {\"thread_id\": \"1\"}}\n",
    "input_message = HumanMessage(content=\"si\")\n",
    "output = graph.invoke({\"messages\": [input_message]}, config) \n",
    "for m in output['messages'][-1:]:\n",
    "    m.pretty_print()"
   ]
  },
  {
   "cell_type": "code",
   "execution_count": null,
   "metadata": {},
   "outputs": [],
   "source": [
    "print(output['preferencias_usuario'])\n"
   ]
  },
  {
   "cell_type": "code",
   "execution_count": null,
   "metadata": {},
   "outputs": [],
   "source": [
    "config = {\"configurable\": {\"thread_id\": \"1\"}}\n",
    "input_message = HumanMessage(content=\"no, no solo electricos\")\n",
    "output = graph.invoke({\"messages\": [input_message]}, config) \n",
    "for m in output['messages'][-1:]:\n",
    "    m.pretty_print()"
   ]
  },
  {
   "cell_type": "code",
   "execution_count": 7,
   "metadata": {},
   "outputs": [
    {
     "name": "stderr",
     "output_type": "stream",
     "text": [
      "DEBUG:openai._base_client:Request options: {'method': 'post', 'url': '/chat/completions', 'headers': {'X-Stainless-Helper-Method': 'beta.chat.completions.parse'}, 'files': None, 'post_parser': <function Completions.parse.<locals>.parser at 0x11fa84540>, 'json_data': {'messages': [{'content': '<Role>\\nEres un asistente de conversación amigable y metodológico. Tu misión actual es conocer las preferencias generales y el perfil básico de un usuario que busca un coche (`PerfilUsuario`). Debes seguir las reglas especificadas y generar SIEMPRE un objeto JSON válido que cumpla el esquema `ResultadoSoloPerfil`. Mantén un tono cercano.\\n</Role>\\n\\n<Esquema_JSON_Requerido>\\nLa estructura JSON que DEBES generar es la siguiente:\\n```json\\n{{\\n  \"$defs\": {\\n    \"NivelAventura\": {\\n      \"enum\": [\\n        \"ninguna\",\\n        \"ocasional\",\\n        \"extrema\"\\n      ],\\n      \"title\": \"NivelAventura\",\\n      \"type\": \"string\"\\n    },\\n    \"PerfilUsuario\": {\\n      \"properties\": {\\n        \"altura_mayor_190\": {\\n          \"anyOf\": [\\n            {\\n              \"type\": \"string\"\\n            },\\n            {\\n              \"type\": \"null\"\\n            }\\n          ],\\n          \"description\": \"\\\\u00bfEl usuario mide m\\\\u00e1s de 1.90 metros? Responde \\'s\\\\u00ed\\' o \\'no\\'\",\\n          \"title\": \"Altura Mayor 190\"\\n        },\\n...\\n  ],\\n  \"title\": \"ResultadoSoloPerfil\",\\n  \"type\": \"object\"\\n}}\\n</Esquema_JSON_Requerido>\\n\\n<Reglas_Generales>\\n\\n1. Analiza TODO el historial de la conversación y el último mensaje del usuario para extraer/inferir valores para TODOS los campos de preferencias_usuario. Usa null si no hay información.\\n2. Haz solo preguntas relevantes según los campos de PerfilUsuario que falten y no repitas preguntas que ya hayan sido respondidas explícita o implícitamente.\\n3. PROHIBIDO preguntar por temas fuera de PerfilUsuario en esta etapa (NO preguntar por precio, consumo, filtros técnicos como tipo_mecanica, tecnología, seguridad, maletero, etc.).\\n4. Usa el campo mensaje_validacion para formular la siguiente pregunta necesaria o para confirmar que el perfil está completo. </Reglas_Generales>\\n</Reglas_Generales>\\n\\n<Reglas_Preguntas_Especificas>\\n\\nUsa estas preguntas EXACTAS cuando necesites preguntar por estos campos de PerfilUsuario:\\n\\naltura_mayor_190: \"¿Mides más de 1.90 m?\"\\npeso_mayor_100: \"¿Pesas más de 100 kg?\"\\nuso_profesional: \"¿Uso personal o profesional?\"\\nvalora_estetica: \"¿Valoras la estética?\"\\nsolo_electricos: \"¿Quieres solo coches eléctricos?\"\\ntransmision_preferida: (Si falta y es relevante preguntar) \"¿Qué tipo de transmisión prefieres?\\\\n 1) Automático\\\\n 2) Manual\\\\n 3) Ambos\"\\napasionado_motor: \"¿Eres un apasionado del motor?\"\\nManejo de aventura: Si no se ha preguntado por aventura y no se puede inferir un valor (ninguna, ocasional, extrema), deja \"aventura\": null en preferencias_usuario y USA UNO de los siguientes templates EXACTOS en mensaje_validacion (elige el que te parezca más natural en el contexto):\\n\\n<Aventura_Templates>\\n\\nTemplate 1: “Hablando de aventura, ¿con cuál de estas afirmaciones te identificas más?\\\\n 1) No pisas nada que no sea asfalto (ninguna)\\\\n 2) Salidas fuera de asfalto ocasionales (ocasional)\\\\n 3) Circular en condiciones duras con total garantía (extrema)”\\nTemplate 2: “Para conocer tu espíritu aventurero, dime:\\\\n 1) Solo asfalto (ninguna)\\\\n 2) Salidas off‑road de vez en cuando (ocasional)\\\\n 3) Aventurero extremo en terrenos difíciles (extrema)” </Aventura_Templates>\\nConfirmación de Perfil Completo: Si consideras que todos los campos necesarios de PerfilUsuario ya tienen un valor (no null), usa un mensaje de confirmación en mensaje_validacion. Ejemplo: \"¡Perfecto! Ya tenemos tus preferencias principales. ¿Pasamos a los detalles técnicos?\" o simplemente \"\".\\n</Reglas_Preguntas_Especificas>\\n\\n<Ejemplos_Perfil>\\n\\nEjemplo 1: Inicio, pregunta por Aventura\\n\\nContexto (Historial + Último mensaje): [HumanMessage(content=\\'Hola, dime quién eres\\')]\\nSalida JSON Esperada:\\nJSON\\n\\n{\\n  \"preferencias_usuario\": {\\n    \"altura_mayor_190\": null, \"peso_mayor_100\": null, \"uso_profesional\": null, \\n    \"valora_estetica\": null, \"solo_electricos\": null, \"transmision_preferida\": null, \\n    \"apasionado_motor\": null, \"aventura\": null \\n  },\\n  \"mensaje_validacion\": \"¡Hola! Soy Mentor, tu asistente para encontrar el coche perfecto. Analizo tus necesidades y preferencias. Para empezar, hablando de aventura, ¿con cuál de estas afirmaciones te identificas más?\\\\n  1) No pisas nada que no sea asfalto (ninguna)\\\\n  2) Salidas fuera de asfalto ocasionales (ocasional)\\\\n  3) Circular en condiciones duras con total garantía (extrema)\"\\n}\\n\\nEjemplo 2: Usuario da altura, estética y uso; pregunta por Transmisión\\n\\nContexto: [..., HumanMessage(content=\\'Mido 1.95m y me gustan los coches con buen diseño. Quiero algo para ir al trabajo.\\')]\\nSalida JSON Esperada:\\nJSON\\n\\n{\\n  \"preferencias_usuario\": {\\n    \"altura_mayor_190\": \"sí\", \"peso_mayor_100\": null, \"uso_profesional\": \"sí\", \\n    \"valora_estetica\": \"sí\", \"solo_electricos\": null, \"transmision_preferida\": null, \\n    \"apasionado_motor\": null, \"aventura\": null \\n  },\\n  \"mensaje_validacion\": \"Entendido: mides más de 1.90m, valoras la estética y es para uso profesional. ¿Qué tipo de transmisión prefieres?\\\\n  1) Automático\\\\n  2) Manual\\\\n  3) Ambos\" \\n}\\n(Nota: En este ejemplo, asumimos que preguntar por transmisión es prioritario sobre aventura según tu lógica interna o la del LLM)\\n\\nEjemplo 3: Perfil completo, mensaje de confirmación\\n\\nContexto: [..., HumanMessage(content=\\'Prefiero automático, no quiero solo eléctricos, y no soy apasionado del motor. Uso personal y solo asfalto. No soy alto ni pesado.\\')]\\nSalida JSON Esperada:\\nJSON\\n\\n{\\n  \"preferencias_usuario\": {\\n    \"altura_mayor_190\": \"no\", \"peso_mayor_100\": \"no\", \"uso_profesional\": \"no\", \\n    \"valora_estetica\": \"sí\", # Asumiendo que se preguntó/infirió antes\\n    \"solo_electricos\": \"no\", \"transmision_preferida\": \"automatico\", \\n    \"apasionado_motor\": \"no\", \"aventura\": \"ninguna\" \\n  },\\n  \"mensaje_validacion\": \"¡Estupendo! Creo que ya tengo claras todas tus preferencias principales. ¿Vamos a ver qué características técnicas encajarían?\" \\n}\\n</Ejemplos_Perfil>\\n\\n<Formato_Salida_JSON_Final>\\nGenera únicamente el objeto JSON completo y válido solicitado que cumpla el esquema ResultadoSoloPerfil, sin añadir ningún texto antes o después.\\n\\nJSON\\n\\n{\\n  \"preferencias_usuario\": { ... },\\n  \"mensaje_validacion\": \"<string>\"\\n}\\n</Formato_Salida_JSON_Final>', 'role': 'user'}, {'content': 'oye busco un coche para la ciudad', 'role': 'user'}, {'content': '¡Hola! Para ayudarte mejor, hablemos de aventura. ¿Con cuál de estas afirmaciones te identificas más?\\n 1) No pisas nada que no sea asfalto (ninguna)\\n 2) Salidas fuera de asfalto ocasionales (ocasional)\\n 3) Circular en condiciones duras con total garantía (extrema)', 'role': 'assistant'}, {'content': 'la 3', 'role': 'user'}, {'content': '¿Mides más de 1.90 m?', 'role': 'assistant'}, {'content': ' mido 1.90 y peso 80kg', 'role': 'user'}, {'content': 'Entendido: mides 1.90m y tu nivel de aventura es extrema. ¿Uso personal o profesional?', 'role': 'assistant'}, {'content': 'uso personal', 'role': 'user'}, {'content': 'Perfecto, ya tenemos tus preferencias principales. ¿Valoras la estética?', 'role': 'assistant'}, {'content': 'si', 'role': 'user'}, {'content': '¿Qué tipo de transmisión prefieres?\\n 1) Automático\\n 2) Manual\\n 3) Ambos', 'role': 'assistant'}, {'content': 'Manual', 'role': 'user'}], 'model': 'gpt-4o-mini', 'response_format': {'type': 'json_schema', 'json_schema': {'schema': {'$defs': {'NivelAventura': {'enum': ['ninguna', 'ocasional', 'extrema'], 'title': 'NivelAventura', 'type': 'string'}, 'PerfilUsuario': {'properties': {'altura_mayor_190': {'anyOf': [{'type': 'string'}, {'type': 'null'}], 'description': \"¿El usuario mide más de 1.90 metros? Responde 'sí' o 'no'\", 'title': 'Altura Mayor 190'}, 'peso_mayor_100': {'anyOf': [{'type': 'string'}, {'type': 'null'}], 'description': \"¿El usuario pesa más de 100 kg? Responde 'sí' o 'no'\", 'title': 'Peso Mayor 100'}, 'uso_profesional': {'anyOf': [{'type': 'string'}, {'type': 'null'}], 'description': \"¿Usará el coche para trabajo? Responde 'sí' o 'no'\", 'title': 'Uso Profesional'}, 'valora_estetica': {'anyOf': [{'type': 'string'}, {'type': 'null'}], 'description': \"¿Valora la estética del coche? Responde 'sí' o 'no'\", 'title': 'Valora Estetica'}, 'solo_electricos': {'anyOf': [{'type': 'string'}, {'type': 'null'}], 'description': \"¿Quiere solo coches eléctricos? Responde 'sí' o 'no'\", 'title': 'Solo Electricos'}, 'transmision_preferida': {'anyOf': [{'$ref': '#/$defs/Transmision'}, {'type': 'null'}], 'description': '¿Qué transmisión prefieres: automático, manual o ambos?'}, 'apasionado_motor': {'anyOf': [{'type': 'string'}, {'type': 'null'}], 'description': \"¿Eres un apasionado/a del motor y/o la movilidad? Responde 'sí' o 'no'\", 'title': 'Apasionado Motor'}, 'aventura': {'anyOf': [{'$ref': '#/$defs/NivelAventura'}, {'type': 'null'}], 'description': \"¿Qué nivel de aventura buscas con tu vehículo: 'ninguna', 'ocasional' o 'extrema'?\"}}, 'title': 'PerfilUsuario', 'type': 'object', 'additionalProperties': False, 'required': ['altura_mayor_190', 'peso_mayor_100', 'uso_profesional', 'valora_estetica', 'solo_electricos', 'transmision_preferida', 'apasionado_motor', 'aventura']}, 'Transmision': {'enum': ['automático', 'manual', 'ambos'], 'title': 'Transmision', 'type': 'string'}}, 'description': 'Salida esperada del LLM enfocado solo en el perfil del usuario.', 'properties': {'preferencias_usuario': {'$ref': '#/$defs/PerfilUsuario'}, 'mensaje_validacion': {'description': 'Pregunta de seguimiento CLARA y CORTA si falta información ESENCIAL para completar el PerfilUsuario, o un mensaje de confirmación si el perfil está completo.', 'title': 'Mensaje Validacion', 'type': 'string'}}, 'required': ['preferencias_usuario', 'mensaje_validacion'], 'title': 'ResultadoSoloPerfil', 'type': 'object', 'additionalProperties': False}, 'name': 'ResultadoSoloPerfil', 'strict': True}}, 'stream': False, 'temperature': 0.2}}\n",
      "DEBUG:openai._base_client:Sending HTTP Request: POST https://api.openai.com/v1/chat/completions\n",
      "DEBUG:httpcore.http11:send_request_headers.started request=<Request [b'POST']>\n",
      "DEBUG:httpcore.http11:send_request_headers.complete\n",
      "DEBUG:httpcore.http11:send_request_body.started request=<Request [b'POST']>\n",
      "DEBUG:httpcore.http11:send_request_body.complete\n",
      "DEBUG:httpcore.http11:receive_response_headers.started request=<Request [b'POST']>\n"
     ]
    },
    {
     "name": "stdout",
     "output_type": "stream",
     "text": [
      "--- Ejecutando Nodo: recopilar_preferencias_node ---\n",
      "DEBUG (Perfil) ► Último mensaje es HumanMessage o historial vacío, llamando a llm_solo_perfil...\n"
     ]
    },
    {
     "name": "stderr",
     "output_type": "stream",
     "text": [
      "DEBUG:httpcore.http11:receive_response_headers.complete return_value=(b'HTTP/1.1', 200, b'OK', [(b'Date', b'Sun, 04 May 2025 13:58:48 GMT'), (b'Content-Type', b'application/json'), (b'Transfer-Encoding', b'chunked'), (b'Connection', b'keep-alive'), (b'access-control-expose-headers', b'X-Request-ID'), (b'openai-organization', b'user-ic25pcewdjuowsz9q2ektvrn'), (b'openai-processing-ms', b'2035'), (b'openai-version', b'2020-10-01'), (b'x-ratelimit-limit-requests', b'10000'), (b'x-ratelimit-limit-tokens', b'200000'), (b'x-ratelimit-remaining-requests', b'9998'), (b'x-ratelimit-remaining-tokens', b'198295'), (b'x-ratelimit-reset-requests', b'11.017s'), (b'x-ratelimit-reset-tokens', b'511ms'), (b'x-request-id', b'req_63ee106ef0806bbfb6a3ab268b9e290a'), (b'strict-transport-security', b'max-age=31536000; includeSubDomains; preload'), (b'cf-cache-status', b'DYNAMIC'), (b'X-Content-Type-Options', b'nosniff'), (b'Server', b'cloudflare'), (b'CF-RAY', b'93a883ce4e4a193a-BCN'), (b'Content-Encoding', b'gzip'), (b'alt-svc', b'h3=\":443\"; ma=86400')])\n",
      "INFO:httpx:HTTP Request: POST https://api.openai.com/v1/chat/completions \"HTTP/1.1 200 OK\"\n",
      "DEBUG:httpcore.http11:receive_response_body.started request=<Request [b'POST']>\n",
      "DEBUG:httpcore.http11:receive_response_body.complete\n",
      "DEBUG:httpcore.http11:response_closed.started\n",
      "DEBUG:httpcore.http11:response_closed.complete\n",
      "DEBUG:openai._base_client:HTTP Response: POST https://api.openai.com/v1/chat/completions \"200 OK\" Headers({'date': 'Sun, 04 May 2025 13:58:48 GMT', 'content-type': 'application/json', 'transfer-encoding': 'chunked', 'connection': 'keep-alive', 'access-control-expose-headers': 'X-Request-ID', 'openai-organization': 'user-ic25pcewdjuowsz9q2ektvrn', 'openai-processing-ms': '2035', 'openai-version': '2020-10-01', 'x-ratelimit-limit-requests': '10000', 'x-ratelimit-limit-tokens': '200000', 'x-ratelimit-remaining-requests': '9998', 'x-ratelimit-remaining-tokens': '198295', 'x-ratelimit-reset-requests': '11.017s', 'x-ratelimit-reset-tokens': '511ms', 'x-request-id': 'req_63ee106ef0806bbfb6a3ab268b9e290a', 'strict-transport-security': 'max-age=31536000; includeSubDomains; preload', 'cf-cache-status': 'DYNAMIC', 'x-content-type-options': 'nosniff', 'server': 'cloudflare', 'cf-ray': '93a883ce4e4a193a-BCN', 'content-encoding': 'gzip', 'alt-svc': 'h3=\":443\"; ma=86400'})\n",
      "DEBUG:openai._base_client:request_id: req_63ee106ef0806bbfb6a3ab268b9e290a\n"
     ]
    },
    {
     "name": "stdout",
     "output_type": "stream",
     "text": [
      "DEBUG (Perfil) ► Respuesta llm_solo_perfil: preferencias_usuario=PerfilUsuario(altura_mayor_190='sí', peso_mayor_100='no', uso_profesional='no', valora_estetica='sí', solo_electricos=None, transmision_preferida=<Transmision.MANUAL: 'manual'>, apasionado_motor=None, aventura=<NivelAventura.extrema: 'extrema'>) mensaje_validacion='¡Estupendo! Creo que ya tengo claras todas tus preferencias principales. ¿Vamos a ver qué características técnicas encajarían?'\n",
      "DEBUG (Perfil) ► Preferencias tras post-procesamiento (si aplica): altura_mayor_190='sí' peso_mayor_100='no' uso_profesional='no' valora_estetica='sí' solo_electricos=None transmision_preferida=<Transmision.MANUAL: 'manual'> apasionado_motor=None aventura=<NivelAventura.extrema: 'extrema'>\n",
      "DEBUG (Perfil) ► Estado preferencias_usuario actualizado: altura_mayor_190='sí' peso_mayor_100='no' uso_profesional='no' valora_estetica='sí' solo_electricos=None transmision_preferida=<Transmision.MANUAL: 'manual'> apasionado_motor=None aventura=<NivelAventura.extrema: 'extrema'>\n",
      "DEBUG (Perfil) ► Guardando pregunta pendiente: ¡Estupendo! Creo que ya tengo claras todas tus preferencias principales. ¿Vamos a ver qué características técnicas encajarían?\n",
      "--- Ejecutando Nodo: validar_preferencias_node ---\n",
      "--- DEBUG CHECK PERFIL ---\n",
      "Input prefs object: altura_mayor_190='sí' peso_mayor_100='no' uso_profesional='no' valora_estetica='sí' solo_electricos=None transmision_preferida=<Transmision.MANUAL: 'manual'> apasionado_motor=None aventura=<NivelAventura.extrema: 'extrema'>\n",
      "Input prefs type: <class 'graph.perfil.state.PerfilUsuario'>\n",
      "Checking field 'altura_mayor_190': value='sí', type=<class 'str'>\n",
      "Checking field 'peso_mayor_100': value='no', type=<class 'str'>\n",
      "Checking field 'uso_profesional': value='no', type=<class 'str'>\n",
      "Checking field 'valora_estetica': value='sí', type=<class 'str'>\n",
      "Checking field 'solo_electricos': value='None', type=<class 'NoneType'>\n",
      "DEBUG (Validation Perfil) ► Campo 'solo_electricos' está vacío/None.\n",
      "DEBUG (Perfil) ► Validación: PerfilUsuario considerado INCOMPLETO.\n",
      "--- Evaluando Condición: ruta_decision_perfil ---\n",
      "DEBUG (Condición Perfil) ► Estado 'preferencias_usuario' recibido: altura_mayor_190='sí' peso_mayor_100='no' uso_profesional='no' valora_estetica='sí' solo_electricos=None transmision_preferida=<Transmision.MANUAL: 'manual'> apasionado_motor=None aventura=<NivelAventura.extrema: 'extrema'>\n",
      "DEBUG (Condición Perfil) ► Tipo de 'preferencias_usuario': <class 'graph.perfil.state.PerfilUsuario'>\n",
      "--- DEBUG CHECK PERFIL ---\n",
      "Input prefs object: altura_mayor_190='sí' peso_mayor_100='no' uso_profesional='no' valora_estetica='sí' solo_electricos=None transmision_preferida=<Transmision.MANUAL: 'manual'> apasionado_motor=None aventura=<NivelAventura.extrema: 'extrema'>\n",
      "Input prefs type: <class 'graph.perfil.state.PerfilUsuario'>\n",
      "Checking field 'altura_mayor_190': value='sí', type=<class 'str'>\n",
      "Checking field 'peso_mayor_100': value='no', type=<class 'str'>\n",
      "Checking field 'uso_profesional': value='no', type=<class 'str'>\n",
      "Checking field 'valora_estetica': value='sí', type=<class 'str'>\n",
      "Checking field 'solo_electricos': value='None', type=<class 'NoneType'>\n",
      "DEBUG (Validation Perfil) ► Campo 'solo_electricos' está vacío/None.\n",
      "DEBUG (Condición Perfil) ► Perfil INCOMPLETO. Se necesita pregunta.\n",
      "--- Ejecutando Nodo: preguntar_preferencias_node ---\n",
      "--- DEBUG CHECK PERFIL ---\n",
      "Input prefs object: altura_mayor_190='sí' peso_mayor_100='no' uso_profesional='no' valora_estetica='sí' solo_electricos=None transmision_preferida=<Transmision.MANUAL: 'manual'> apasionado_motor=None aventura=<NivelAventura.extrema: 'extrema'>\n",
      "Input prefs type: <class 'graph.perfil.state.PerfilUsuario'>\n",
      "Checking field 'altura_mayor_190': value='sí', type=<class 'str'>\n",
      "Checking field 'peso_mayor_100': value='no', type=<class 'str'>\n",
      "Checking field 'uso_profesional': value='no', type=<class 'str'>\n",
      "Checking field 'valora_estetica': value='sí', type=<class 'str'>\n",
      "Checking field 'solo_electricos': value='None', type=<class 'NoneType'>\n",
      "DEBUG (Validation Perfil) ► Campo 'solo_electricos' está vacío/None.\n",
      "DEBUG (Preguntar Perfil) ► Perfil aún INCOMPLETO según checker.\n",
      "DEBUG (Preguntar Perfil) ► Usando pregunta guardada: ¡Estupendo! Creo que ya tengo claras todas tus preferencias principales. ¿Vamos a ver qué características técnicas encajarían?\n",
      "DEBUG (Preguntar Perfil) ► Mensaje final añadido: ¡Estupendo! Creo que ya tengo claras todas tus preferencias principales. ¿Vamos a ver qué características técnicas encajarían?\n",
      "==================================\u001b[1m Ai Message \u001b[0m==================================\n",
      "\n",
      "¡Estupendo! Creo que ya tengo claras todas tus preferencias principales. ¿Vamos a ver qué características técnicas encajarían?\n"
     ]
    }
   ],
   "source": [
    "config = {\"configurable\": {\"thread_id\": \"1\"}}\n",
    "input_message = HumanMessage(content=\"Manual\")\n",
    "output = graph.invoke({\"messages\": [input_message]}, config) \n",
    "for m in output['messages'][-1:]:\n",
    "    m.pretty_print()"
   ]
  },
  {
   "cell_type": "code",
   "execution_count": null,
   "metadata": {},
   "outputs": [],
   "source": [
    "print(output['preferencias_usuario'])\n",
    "print('-----------------------')\n",
    "#print(output['filtros_inferidos'])\n"
   ]
  },
  {
   "cell_type": "code",
   "execution_count": 8,
   "metadata": {},
   "outputs": [
    {
     "name": "stderr",
     "output_type": "stream",
     "text": [
      "DEBUG:openai._base_client:Request options: {'method': 'post', 'url': '/chat/completions', 'headers': {'X-Stainless-Helper-Method': 'beta.chat.completions.parse'}, 'files': None, 'post_parser': <function Completions.parse.<locals>.parser at 0x14b8b1260>, 'json_data': {'messages': [{'content': '<Role>\\nEres un asistente de conversación amigable y metodológico. Tu misión actual es conocer las preferencias generales y el perfil básico de un usuario que busca un coche (`PerfilUsuario`). Debes seguir las reglas especificadas y generar SIEMPRE un objeto JSON válido que cumpla el esquema `ResultadoSoloPerfil`. Mantén un tono cercano.\\n</Role>\\n\\n<Esquema_JSON_Requerido>\\nLa estructura JSON que DEBES generar es la siguiente:\\n```json\\n{{\\n  \"$defs\": {\\n    \"NivelAventura\": {\\n      \"enum\": [\\n        \"ninguna\",\\n        \"ocasional\",\\n        \"extrema\"\\n      ],\\n      \"title\": \"NivelAventura\",\\n      \"type\": \"string\"\\n    },\\n    \"PerfilUsuario\": {\\n      \"properties\": {\\n        \"altura_mayor_190\": {\\n          \"anyOf\": [\\n            {\\n              \"type\": \"string\"\\n            },\\n            {\\n              \"type\": \"null\"\\n            }\\n          ],\\n          \"description\": \"\\\\u00bfEl usuario mide m\\\\u00e1s de 1.90 metros? Responde \\'s\\\\u00ed\\' o \\'no\\'\",\\n          \"title\": \"Altura Mayor 190\"\\n        },\\n...\\n  ],\\n  \"title\": \"ResultadoSoloPerfil\",\\n  \"type\": \"object\"\\n}}\\n</Esquema_JSON_Requerido>\\n\\n<Reglas_Generales>\\n\\n1. Analiza TODO el historial de la conversación y el último mensaje del usuario para extraer/inferir valores para TODOS los campos de preferencias_usuario. Usa null si no hay información.\\n2. Haz solo preguntas relevantes según los campos de PerfilUsuario que falten y no repitas preguntas que ya hayan sido respondidas explícita o implícitamente.\\n3. PROHIBIDO preguntar por temas fuera de PerfilUsuario en esta etapa (NO preguntar por precio, consumo, filtros técnicos como tipo_mecanica, tecnología, seguridad, maletero, etc.).\\n4. Usa el campo mensaje_validacion para formular la siguiente pregunta necesaria o para confirmar que el perfil está completo. </Reglas_Generales>\\n</Reglas_Generales>\\n\\n<Reglas_Preguntas_Especificas>\\n\\nUsa estas preguntas EXACTAS cuando necesites preguntar por estos campos de PerfilUsuario:\\n\\naltura_mayor_190: \"¿Mides más de 1.90 m?\"\\npeso_mayor_100: \"¿Pesas más de 100 kg?\"\\nuso_profesional: \"¿Uso personal o profesional?\"\\nvalora_estetica: \"¿Valoras la estética?\"\\nsolo_electricos: \"¿Quieres solo coches eléctricos?\"\\ntransmision_preferida: (Si falta y es relevante preguntar) \"¿Qué tipo de transmisión prefieres?\\\\n 1) Automático\\\\n 2) Manual\\\\n 3) Ambos\"\\napasionado_motor: \"¿Eres un apasionado del motor?\"\\nManejo de aventura: Si no se ha preguntado por aventura y no se puede inferir un valor (ninguna, ocasional, extrema), deja \"aventura\": null en preferencias_usuario y USA UNO de los siguientes templates EXACTOS en mensaje_validacion (elige el que te parezca más natural en el contexto):\\n\\n<Aventura_Templates>\\n\\nTemplate 1: “Hablando de aventura, ¿con cuál de estas afirmaciones te identificas más?\\\\n 1) No pisas nada que no sea asfalto (ninguna)\\\\n 2) Salidas fuera de asfalto ocasionales (ocasional)\\\\n 3) Circular en condiciones duras con total garantía (extrema)”\\nTemplate 2: “Para conocer tu espíritu aventurero, dime:\\\\n 1) Solo asfalto (ninguna)\\\\n 2) Salidas off‑road de vez en cuando (ocasional)\\\\n 3) Aventurero extremo en terrenos difíciles (extrema)” </Aventura_Templates>\\nConfirmación de Perfil Completo: Si consideras que todos los campos necesarios de PerfilUsuario ya tienen un valor (no null), usa un mensaje de confirmación en mensaje_validacion. Ejemplo: \"¡Perfecto! Ya tenemos tus preferencias principales. ¿Pasamos a los detalles técnicos?\" o simplemente \"\".\\n</Reglas_Preguntas_Especificas>\\n\\n<Ejemplos_Perfil>\\n\\nEjemplo 1: Inicio, pregunta por Aventura\\n\\nContexto (Historial + Último mensaje): [HumanMessage(content=\\'Hola, dime quién eres\\')]\\nSalida JSON Esperada:\\nJSON\\n\\n{\\n  \"preferencias_usuario\": {\\n    \"altura_mayor_190\": null, \"peso_mayor_100\": null, \"uso_profesional\": null, \\n    \"valora_estetica\": null, \"solo_electricos\": null, \"transmision_preferida\": null, \\n    \"apasionado_motor\": null, \"aventura\": null \\n  },\\n  \"mensaje_validacion\": \"¡Hola! Soy Mentor, tu asistente para encontrar el coche perfecto. Analizo tus necesidades y preferencias. Para empezar, hablando de aventura, ¿con cuál de estas afirmaciones te identificas más?\\\\n  1) No pisas nada que no sea asfalto (ninguna)\\\\n  2) Salidas fuera de asfalto ocasionales (ocasional)\\\\n  3) Circular en condiciones duras con total garantía (extrema)\"\\n}\\n\\nEjemplo 2: Usuario da altura, estética y uso; pregunta por Transmisión\\n\\nContexto: [..., HumanMessage(content=\\'Mido 1.95m y me gustan los coches con buen diseño. Quiero algo para ir al trabajo.\\')]\\nSalida JSON Esperada:\\nJSON\\n\\n{\\n  \"preferencias_usuario\": {\\n    \"altura_mayor_190\": \"sí\", \"peso_mayor_100\": null, \"uso_profesional\": \"sí\", \\n    \"valora_estetica\": \"sí\", \"solo_electricos\": null, \"transmision_preferida\": null, \\n    \"apasionado_motor\": null, \"aventura\": null \\n  },\\n  \"mensaje_validacion\": \"Entendido: mides más de 1.90m, valoras la estética y es para uso profesional. ¿Qué tipo de transmisión prefieres?\\\\n  1) Automático\\\\n  2) Manual\\\\n  3) Ambos\" \\n}\\n(Nota: En este ejemplo, asumimos que preguntar por transmisión es prioritario sobre aventura según tu lógica interna o la del LLM)\\n\\nEjemplo 3: Perfil completo, mensaje de confirmación\\n\\nContexto: [..., HumanMessage(content=\\'Prefiero automático, no quiero solo eléctricos, y no soy apasionado del motor. Uso personal y solo asfalto. No soy alto ni pesado.\\')]\\nSalida JSON Esperada:\\nJSON\\n\\n{\\n  \"preferencias_usuario\": {\\n    \"altura_mayor_190\": \"no\", \"peso_mayor_100\": \"no\", \"uso_profesional\": \"no\", \\n    \"valora_estetica\": \"sí\", # Asumiendo que se preguntó/infirió antes\\n    \"solo_electricos\": \"no\", \"transmision_preferida\": \"automatico\", \\n    \"apasionado_motor\": \"no\", \"aventura\": \"ninguna\" \\n  },\\n  \"mensaje_validacion\": \"¡Estupendo! Creo que ya tengo claras todas tus preferencias principales. ¿Vamos a ver qué características técnicas encajarían?\" \\n}\\n</Ejemplos_Perfil>\\n\\n<Formato_Salida_JSON_Final>\\nGenera únicamente el objeto JSON completo y válido solicitado que cumpla el esquema ResultadoSoloPerfil, sin añadir ningún texto antes o después.\\n\\nJSON\\n\\n{\\n  \"preferencias_usuario\": { ... },\\n  \"mensaje_validacion\": \"<string>\"\\n}\\n</Formato_Salida_JSON_Final>', 'role': 'user'}, {'content': 'oye busco un coche para la ciudad', 'role': 'user'}, {'content': '¡Hola! Para ayudarte mejor, hablemos de aventura. ¿Con cuál de estas afirmaciones te identificas más?\\n 1) No pisas nada que no sea asfalto (ninguna)\\n 2) Salidas fuera de asfalto ocasionales (ocasional)\\n 3) Circular en condiciones duras con total garantía (extrema)', 'role': 'assistant'}, {'content': 'la 3', 'role': 'user'}, {'content': '¿Mides más de 1.90 m?', 'role': 'assistant'}, {'content': ' mido 1.90 y peso 80kg', 'role': 'user'}, {'content': 'Entendido: mides 1.90m y tu nivel de aventura es extrema. ¿Uso personal o profesional?', 'role': 'assistant'}, {'content': 'uso personal', 'role': 'user'}, {'content': 'Perfecto, ya tenemos tus preferencias principales. ¿Valoras la estética?', 'role': 'assistant'}, {'content': 'si', 'role': 'user'}, {'content': '¿Qué tipo de transmisión prefieres?\\n 1) Automático\\n 2) Manual\\n 3) Ambos', 'role': 'assistant'}, {'content': 'Manual', 'role': 'user'}, {'content': '¡Estupendo! Creo que ya tengo claras todas tus preferencias principales. ¿Vamos a ver qué características técnicas encajarían?', 'role': 'assistant'}, {'content': 'vale, continua...', 'role': 'user'}], 'model': 'gpt-4o-mini', 'response_format': {'type': 'json_schema', 'json_schema': {'schema': {'$defs': {'NivelAventura': {'enum': ['ninguna', 'ocasional', 'extrema'], 'title': 'NivelAventura', 'type': 'string'}, 'PerfilUsuario': {'properties': {'altura_mayor_190': {'anyOf': [{'type': 'string'}, {'type': 'null'}], 'description': \"¿El usuario mide más de 1.90 metros? Responde 'sí' o 'no'\", 'title': 'Altura Mayor 190'}, 'peso_mayor_100': {'anyOf': [{'type': 'string'}, {'type': 'null'}], 'description': \"¿El usuario pesa más de 100 kg? Responde 'sí' o 'no'\", 'title': 'Peso Mayor 100'}, 'uso_profesional': {'anyOf': [{'type': 'string'}, {'type': 'null'}], 'description': \"¿Usará el coche para trabajo? Responde 'sí' o 'no'\", 'title': 'Uso Profesional'}, 'valora_estetica': {'anyOf': [{'type': 'string'}, {'type': 'null'}], 'description': \"¿Valora la estética del coche? Responde 'sí' o 'no'\", 'title': 'Valora Estetica'}, 'solo_electricos': {'anyOf': [{'type': 'string'}, {'type': 'null'}], 'description': \"¿Quiere solo coches eléctricos? Responde 'sí' o 'no'\", 'title': 'Solo Electricos'}, 'transmision_preferida': {'anyOf': [{'$ref': '#/$defs/Transmision'}, {'type': 'null'}], 'description': '¿Qué transmisión prefieres: automático, manual o ambos?'}, 'apasionado_motor': {'anyOf': [{'type': 'string'}, {'type': 'null'}], 'description': \"¿Eres un apasionado/a del motor y/o la movilidad? Responde 'sí' o 'no'\", 'title': 'Apasionado Motor'}, 'aventura': {'anyOf': [{'$ref': '#/$defs/NivelAventura'}, {'type': 'null'}], 'description': \"¿Qué nivel de aventura buscas con tu vehículo: 'ninguna', 'ocasional' o 'extrema'?\"}}, 'title': 'PerfilUsuario', 'type': 'object', 'additionalProperties': False, 'required': ['altura_mayor_190', 'peso_mayor_100', 'uso_profesional', 'valora_estetica', 'solo_electricos', 'transmision_preferida', 'apasionado_motor', 'aventura']}, 'Transmision': {'enum': ['automático', 'manual', 'ambos'], 'title': 'Transmision', 'type': 'string'}}, 'description': 'Salida esperada del LLM enfocado solo en el perfil del usuario.', 'properties': {'preferencias_usuario': {'$ref': '#/$defs/PerfilUsuario'}, 'mensaje_validacion': {'description': 'Pregunta de seguimiento CLARA y CORTA si falta información ESENCIAL para completar el PerfilUsuario, o un mensaje de confirmación si el perfil está completo.', 'title': 'Mensaje Validacion', 'type': 'string'}}, 'required': ['preferencias_usuario', 'mensaje_validacion'], 'title': 'ResultadoSoloPerfil', 'type': 'object', 'additionalProperties': False}, 'name': 'ResultadoSoloPerfil', 'strict': True}}, 'stream': False, 'temperature': 0.2}}\n",
      "DEBUG:openai._base_client:Sending HTTP Request: POST https://api.openai.com/v1/chat/completions\n",
      "DEBUG:httpcore.connection:close.started\n",
      "DEBUG:httpcore.connection:close.complete\n",
      "DEBUG:httpcore.connection:connect_tcp.started host='api.openai.com' port=443 local_address=None timeout=None socket_options=None\n",
      "DEBUG:httpcore.connection:connect_tcp.complete return_value=<httpcore._backends.sync.SyncStream object at 0x1185b6790>\n",
      "DEBUG:httpcore.connection:start_tls.started ssl_context=<ssl.SSLContext object at 0x11f6eccb0> server_hostname='api.openai.com' timeout=None\n",
      "DEBUG:httpcore.connection:start_tls.complete return_value=<httpcore._backends.sync.SyncStream object at 0x14b8b8310>\n",
      "DEBUG:httpcore.http11:send_request_headers.started request=<Request [b'POST']>\n",
      "DEBUG:httpcore.http11:send_request_headers.complete\n",
      "DEBUG:httpcore.http11:send_request_body.started request=<Request [b'POST']>\n",
      "DEBUG:httpcore.http11:send_request_body.complete\n",
      "DEBUG:httpcore.http11:receive_response_headers.started request=<Request [b'POST']>\n"
     ]
    },
    {
     "name": "stdout",
     "output_type": "stream",
     "text": [
      "--- Ejecutando Nodo: recopilar_preferencias_node ---\n",
      "DEBUG (Perfil) ► Último mensaje es HumanMessage o historial vacío, llamando a llm_solo_perfil...\n"
     ]
    },
    {
     "name": "stderr",
     "output_type": "stream",
     "text": [
      "DEBUG:httpcore.http11:receive_response_headers.complete return_value=(b'HTTP/1.1', 200, b'OK', [(b'Date', b'Sun, 04 May 2025 14:02:18 GMT'), (b'Content-Type', b'application/json'), (b'Transfer-Encoding', b'chunked'), (b'Connection', b'keep-alive'), (b'access-control-expose-headers', b'X-Request-ID'), (b'openai-organization', b'user-ic25pcewdjuowsz9q2ektvrn'), (b'openai-processing-ms', b'2097'), (b'openai-version', b'2020-10-01'), (b'x-ratelimit-limit-requests', b'10000'), (b'x-ratelimit-limit-tokens', b'200000'), (b'x-ratelimit-remaining-requests', b'9999'), (b'x-ratelimit-remaining-tokens', b'198256'), (b'x-ratelimit-reset-requests', b'8.64s'), (b'x-ratelimit-reset-tokens', b'523ms'), (b'x-request-id', b'req_39073242799ea5f1226f0a581be20217'), (b'strict-transport-security', b'max-age=31536000; includeSubDomains; preload'), (b'cf-cache-status', b'DYNAMIC'), (b'X-Content-Type-Options', b'nosniff'), (b'Server', b'cloudflare'), (b'CF-RAY', b'93a888edc918e1f1-MRS'), (b'Content-Encoding', b'gzip'), (b'alt-svc', b'h3=\":443\"; ma=86400')])\n",
      "INFO:httpx:HTTP Request: POST https://api.openai.com/v1/chat/completions \"HTTP/1.1 200 OK\"\n",
      "DEBUG:httpcore.http11:receive_response_body.started request=<Request [b'POST']>\n",
      "DEBUG:httpcore.http11:receive_response_body.complete\n",
      "DEBUG:httpcore.http11:response_closed.started\n",
      "DEBUG:httpcore.http11:response_closed.complete\n",
      "DEBUG:openai._base_client:HTTP Response: POST https://api.openai.com/v1/chat/completions \"200 OK\" Headers({'date': 'Sun, 04 May 2025 14:02:18 GMT', 'content-type': 'application/json', 'transfer-encoding': 'chunked', 'connection': 'keep-alive', 'access-control-expose-headers': 'X-Request-ID', 'openai-organization': 'user-ic25pcewdjuowsz9q2ektvrn', 'openai-processing-ms': '2097', 'openai-version': '2020-10-01', 'x-ratelimit-limit-requests': '10000', 'x-ratelimit-limit-tokens': '200000', 'x-ratelimit-remaining-requests': '9999', 'x-ratelimit-remaining-tokens': '198256', 'x-ratelimit-reset-requests': '8.64s', 'x-ratelimit-reset-tokens': '523ms', 'x-request-id': 'req_39073242799ea5f1226f0a581be20217', 'strict-transport-security': 'max-age=31536000; includeSubDomains; preload', 'cf-cache-status': 'DYNAMIC', 'x-content-type-options': 'nosniff', 'server': 'cloudflare', 'cf-ray': '93a888edc918e1f1-MRS', 'content-encoding': 'gzip', 'alt-svc': 'h3=\":443\"; ma=86400'})\n",
      "DEBUG:openai._base_client:request_id: req_39073242799ea5f1226f0a581be20217\n"
     ]
    },
    {
     "name": "stdout",
     "output_type": "stream",
     "text": [
      "DEBUG (Perfil) ► Respuesta llm_solo_perfil: preferencias_usuario=PerfilUsuario(altura_mayor_190='sí', peso_mayor_100='no', uso_profesional='no', valora_estetica='sí', solo_electricos=None, transmision_preferida=<Transmision.MANUAL: 'manual'>, apasionado_motor=None, aventura=<NivelAventura.extrema: 'extrema'>) mensaje_validacion=''\n",
      "DEBUG (Perfil) ► Preferencias tras post-procesamiento (si aplica): altura_mayor_190='sí' peso_mayor_100='no' uso_profesional='no' valora_estetica='sí' solo_electricos=None transmision_preferida=<Transmision.MANUAL: 'manual'> apasionado_motor=None aventura=<NivelAventura.extrema: 'extrema'>\n",
      "DEBUG (Perfil) ► Estado preferencias_usuario actualizado: altura_mayor_190='sí' peso_mayor_100='no' uso_profesional='no' valora_estetica='sí' solo_electricos=None transmision_preferida=<Transmision.MANUAL: 'manual'> apasionado_motor=None aventura=<NivelAventura.extrema: 'extrema'>\n",
      "DEBUG (Perfil) ► No hay pregunta de validación pendiente.\n",
      "--- Ejecutando Nodo: validar_preferencias_node ---\n",
      "--- DEBUG CHECK PERFIL ---\n",
      "Input prefs object: altura_mayor_190='sí' peso_mayor_100='no' uso_profesional='no' valora_estetica='sí' solo_electricos=None transmision_preferida=<Transmision.MANUAL: 'manual'> apasionado_motor=None aventura=<NivelAventura.extrema: 'extrema'>\n",
      "Input prefs type: <class 'graph.perfil.state.PerfilUsuario'>\n",
      "Checking field 'altura_mayor_190': value='sí', type=<class 'str'>\n",
      "Checking field 'peso_mayor_100': value='no', type=<class 'str'>\n",
      "Checking field 'uso_profesional': value='no', type=<class 'str'>\n",
      "Checking field 'valora_estetica': value='sí', type=<class 'str'>\n",
      "Checking field 'solo_electricos': value='None', type=<class 'NoneType'>\n",
      "DEBUG (Validation Perfil) ► Campo 'solo_electricos' está vacío/None.\n",
      "DEBUG (Perfil) ► Validación: PerfilUsuario considerado INCOMPLETO.\n",
      "--- Evaluando Condición: ruta_decision_perfil ---\n",
      "DEBUG (Condición Perfil) ► Estado 'preferencias_usuario' recibido: altura_mayor_190='sí' peso_mayor_100='no' uso_profesional='no' valora_estetica='sí' solo_electricos=None transmision_preferida=<Transmision.MANUAL: 'manual'> apasionado_motor=None aventura=<NivelAventura.extrema: 'extrema'>\n",
      "DEBUG (Condición Perfil) ► Tipo de 'preferencias_usuario': <class 'graph.perfil.state.PerfilUsuario'>\n",
      "--- DEBUG CHECK PERFIL ---\n",
      "Input prefs object: altura_mayor_190='sí' peso_mayor_100='no' uso_profesional='no' valora_estetica='sí' solo_electricos=None transmision_preferida=<Transmision.MANUAL: 'manual'> apasionado_motor=None aventura=<NivelAventura.extrema: 'extrema'>\n",
      "Input prefs type: <class 'graph.perfil.state.PerfilUsuario'>\n",
      "Checking field 'altura_mayor_190': value='sí', type=<class 'str'>\n",
      "Checking field 'peso_mayor_100': value='no', type=<class 'str'>\n",
      "Checking field 'uso_profesional': value='no', type=<class 'str'>\n",
      "Checking field 'valora_estetica': value='sí', type=<class 'str'>\n",
      "Checking field 'solo_electricos': value='None', type=<class 'NoneType'>\n",
      "DEBUG (Validation Perfil) ► Campo 'solo_electricos' está vacío/None.\n",
      "DEBUG (Condición Perfil) ► Perfil INCOMPLETO. Se necesita pregunta.\n",
      "--- Ejecutando Nodo: preguntar_preferencias_node ---\n",
      "--- DEBUG CHECK PERFIL ---\n",
      "Input prefs object: altura_mayor_190='sí' peso_mayor_100='no' uso_profesional='no' valora_estetica='sí' solo_electricos=None transmision_preferida=<Transmision.MANUAL: 'manual'> apasionado_motor=None aventura=<NivelAventura.extrema: 'extrema'>\n",
      "Input prefs type: <class 'graph.perfil.state.PerfilUsuario'>\n",
      "Checking field 'altura_mayor_190': value='sí', type=<class 'str'>\n",
      "Checking field 'peso_mayor_100': value='no', type=<class 'str'>\n",
      "Checking field 'uso_profesional': value='no', type=<class 'str'>\n",
      "Checking field 'valora_estetica': value='sí', type=<class 'str'>\n",
      "Checking field 'solo_electricos': value='None', type=<class 'NoneType'>\n",
      "DEBUG (Validation Perfil) ► Campo 'solo_electricos' está vacío/None.\n",
      "DEBUG (Preguntar Perfil) ► Perfil aún INCOMPLETO según checker.\n",
      "DEBUG (Preguntar Perfil) ► No había pregunta guardada, generando pregunta específica.\n",
      "DEBUG (Preguntar Perfil) ► Mensaje final añadido: ¿Quieres solo coches eléctricos?\n",
      "==================================\u001b[1m Ai Message \u001b[0m==================================\n",
      "\n",
      "¿Quieres solo coches eléctricos?\n"
     ]
    }
   ],
   "source": [
    "# Create a thread\n",
    "config = {\"configurable\": {\"thread_id\": \"1\"}}\n",
    "\n",
    "# Start conversation\n",
    "input_message = HumanMessage(content=\"vale, continua...\")\n",
    "output = graph.invoke({\"messages\": [input_message]}, config) \n",
    "for m in output['messages'][-1:]:\n",
    "    m.pretty_print()"
   ]
  },
  {
   "cell_type": "code",
   "execution_count": null,
   "metadata": {},
   "outputs": [],
   "source": [
    "print(output['preferencias_usuario'])\n"
   ]
  },
  {
   "cell_type": "code",
   "execution_count": 9,
   "metadata": {},
   "outputs": [
    {
     "name": "stderr",
     "output_type": "stream",
     "text": [
      "DEBUG:openai._base_client:Request options: {'method': 'post', 'url': '/chat/completions', 'headers': {'X-Stainless-Helper-Method': 'beta.chat.completions.parse'}, 'files': None, 'post_parser': <function Completions.parse.<locals>.parser at 0x14b8b1580>, 'json_data': {'messages': [{'content': '<Role>\\nEres un asistente de conversación amigable y metodológico. Tu misión actual es conocer las preferencias generales y el perfil básico de un usuario que busca un coche (`PerfilUsuario`). Debes seguir las reglas especificadas y generar SIEMPRE un objeto JSON válido que cumpla el esquema `ResultadoSoloPerfil`. Mantén un tono cercano.\\n</Role>\\n\\n<Esquema_JSON_Requerido>\\nLa estructura JSON que DEBES generar es la siguiente:\\n```json\\n{{\\n  \"$defs\": {\\n    \"NivelAventura\": {\\n      \"enum\": [\\n        \"ninguna\",\\n        \"ocasional\",\\n        \"extrema\"\\n      ],\\n      \"title\": \"NivelAventura\",\\n      \"type\": \"string\"\\n    },\\n    \"PerfilUsuario\": {\\n      \"properties\": {\\n        \"altura_mayor_190\": {\\n          \"anyOf\": [\\n            {\\n              \"type\": \"string\"\\n            },\\n            {\\n              \"type\": \"null\"\\n            }\\n          ],\\n          \"description\": \"\\\\u00bfEl usuario mide m\\\\u00e1s de 1.90 metros? Responde \\'s\\\\u00ed\\' o \\'no\\'\",\\n          \"title\": \"Altura Mayor 190\"\\n        },\\n...\\n  ],\\n  \"title\": \"ResultadoSoloPerfil\",\\n  \"type\": \"object\"\\n}}\\n</Esquema_JSON_Requerido>\\n\\n<Reglas_Generales>\\n\\n1. Analiza TODO el historial de la conversación y el último mensaje del usuario para extraer/inferir valores para TODOS los campos de preferencias_usuario. Usa null si no hay información.\\n2. Haz solo preguntas relevantes según los campos de PerfilUsuario que falten y no repitas preguntas que ya hayan sido respondidas explícita o implícitamente.\\n3. PROHIBIDO preguntar por temas fuera de PerfilUsuario en esta etapa (NO preguntar por precio, consumo, filtros técnicos como tipo_mecanica, tecnología, seguridad, maletero, etc.).\\n4. Usa el campo mensaje_validacion para formular la siguiente pregunta necesaria o para confirmar que el perfil está completo. </Reglas_Generales>\\n</Reglas_Generales>\\n\\n<Reglas_Preguntas_Especificas>\\n\\nUsa estas preguntas EXACTAS cuando necesites preguntar por estos campos de PerfilUsuario:\\n\\naltura_mayor_190: \"¿Mides más de 1.90 m?\"\\npeso_mayor_100: \"¿Pesas más de 100 kg?\"\\nuso_profesional: \"¿Uso personal o profesional?\"\\nvalora_estetica: \"¿Valoras la estética?\"\\nsolo_electricos: \"¿Quieres solo coches eléctricos?\"\\ntransmision_preferida: (Si falta y es relevante preguntar) \"¿Qué tipo de transmisión prefieres?\\\\n 1) Automático\\\\n 2) Manual\\\\n 3) Ambos\"\\napasionado_motor: \"¿Eres un apasionado del motor?\"\\nManejo de aventura: Si no se ha preguntado por aventura y no se puede inferir un valor (ninguna, ocasional, extrema), deja \"aventura\": null en preferencias_usuario y USA UNO de los siguientes templates EXACTOS en mensaje_validacion (elige el que te parezca más natural en el contexto):\\n\\n<Aventura_Templates>\\n\\nTemplate 1: “Hablando de aventura, ¿con cuál de estas afirmaciones te identificas más?\\\\n 1) No pisas nada que no sea asfalto (ninguna)\\\\n 2) Salidas fuera de asfalto ocasionales (ocasional)\\\\n 3) Circular en condiciones duras con total garantía (extrema)”\\nTemplate 2: “Para conocer tu espíritu aventurero, dime:\\\\n 1) Solo asfalto (ninguna)\\\\n 2) Salidas off‑road de vez en cuando (ocasional)\\\\n 3) Aventurero extremo en terrenos difíciles (extrema)” </Aventura_Templates>\\nConfirmación de Perfil Completo: Si consideras que todos los campos necesarios de PerfilUsuario ya tienen un valor (no null), usa un mensaje de confirmación en mensaje_validacion. Ejemplo: \"¡Perfecto! Ya tenemos tus preferencias principales. ¿Pasamos a los detalles técnicos?\" o simplemente \"\".\\n</Reglas_Preguntas_Especificas>\\n\\n<Ejemplos_Perfil>\\n\\nEjemplo 1: Inicio, pregunta por Aventura\\n\\nContexto (Historial + Último mensaje): [HumanMessage(content=\\'Hola, dime quién eres\\')]\\nSalida JSON Esperada:\\nJSON\\n\\n{\\n  \"preferencias_usuario\": {\\n    \"altura_mayor_190\": null, \"peso_mayor_100\": null, \"uso_profesional\": null, \\n    \"valora_estetica\": null, \"solo_electricos\": null, \"transmision_preferida\": null, \\n    \"apasionado_motor\": null, \"aventura\": null \\n  },\\n  \"mensaje_validacion\": \"¡Hola! Soy Mentor, tu asistente para encontrar el coche perfecto. Analizo tus necesidades y preferencias. Para empezar, hablando de aventura, ¿con cuál de estas afirmaciones te identificas más?\\\\n  1) No pisas nada que no sea asfalto (ninguna)\\\\n  2) Salidas fuera de asfalto ocasionales (ocasional)\\\\n  3) Circular en condiciones duras con total garantía (extrema)\"\\n}\\n\\nEjemplo 2: Usuario da altura, estética y uso; pregunta por Transmisión\\n\\nContexto: [..., HumanMessage(content=\\'Mido 1.95m y me gustan los coches con buen diseño. Quiero algo para ir al trabajo.\\')]\\nSalida JSON Esperada:\\nJSON\\n\\n{\\n  \"preferencias_usuario\": {\\n    \"altura_mayor_190\": \"sí\", \"peso_mayor_100\": null, \"uso_profesional\": \"sí\", \\n    \"valora_estetica\": \"sí\", \"solo_electricos\": null, \"transmision_preferida\": null, \\n    \"apasionado_motor\": null, \"aventura\": null \\n  },\\n  \"mensaje_validacion\": \"Entendido: mides más de 1.90m, valoras la estética y es para uso profesional. ¿Qué tipo de transmisión prefieres?\\\\n  1) Automático\\\\n  2) Manual\\\\n  3) Ambos\" \\n}\\n(Nota: En este ejemplo, asumimos que preguntar por transmisión es prioritario sobre aventura según tu lógica interna o la del LLM)\\n\\nEjemplo 3: Perfil completo, mensaje de confirmación\\n\\nContexto: [..., HumanMessage(content=\\'Prefiero automático, no quiero solo eléctricos, y no soy apasionado del motor. Uso personal y solo asfalto. No soy alto ni pesado.\\')]\\nSalida JSON Esperada:\\nJSON\\n\\n{\\n  \"preferencias_usuario\": {\\n    \"altura_mayor_190\": \"no\", \"peso_mayor_100\": \"no\", \"uso_profesional\": \"no\", \\n    \"valora_estetica\": \"sí\", # Asumiendo que se preguntó/infirió antes\\n    \"solo_electricos\": \"no\", \"transmision_preferida\": \"automatico\", \\n    \"apasionado_motor\": \"no\", \"aventura\": \"ninguna\" \\n  },\\n  \"mensaje_validacion\": \"¡Estupendo! Creo que ya tengo claras todas tus preferencias principales. ¿Vamos a ver qué características técnicas encajarían?\" \\n}\\n</Ejemplos_Perfil>\\n\\n<Formato_Salida_JSON_Final>\\nGenera únicamente el objeto JSON completo y válido solicitado que cumpla el esquema ResultadoSoloPerfil, sin añadir ningún texto antes o después.\\n\\nJSON\\n\\n{\\n  \"preferencias_usuario\": { ... },\\n  \"mensaje_validacion\": \"<string>\"\\n}\\n</Formato_Salida_JSON_Final>', 'role': 'user'}, {'content': 'oye busco un coche para la ciudad', 'role': 'user'}, {'content': '¡Hola! Para ayudarte mejor, hablemos de aventura. ¿Con cuál de estas afirmaciones te identificas más?\\n 1) No pisas nada que no sea asfalto (ninguna)\\n 2) Salidas fuera de asfalto ocasionales (ocasional)\\n 3) Circular en condiciones duras con total garantía (extrema)', 'role': 'assistant'}, {'content': 'la 3', 'role': 'user'}, {'content': '¿Mides más de 1.90 m?', 'role': 'assistant'}, {'content': ' mido 1.90 y peso 80kg', 'role': 'user'}, {'content': 'Entendido: mides 1.90m y tu nivel de aventura es extrema. ¿Uso personal o profesional?', 'role': 'assistant'}, {'content': 'uso personal', 'role': 'user'}, {'content': 'Perfecto, ya tenemos tus preferencias principales. ¿Valoras la estética?', 'role': 'assistant'}, {'content': 'si', 'role': 'user'}, {'content': '¿Qué tipo de transmisión prefieres?\\n 1) Automático\\n 2) Manual\\n 3) Ambos', 'role': 'assistant'}, {'content': 'Manual', 'role': 'user'}, {'content': '¡Estupendo! Creo que ya tengo claras todas tus preferencias principales. ¿Vamos a ver qué características técnicas encajarían?', 'role': 'assistant'}, {'content': 'vale, continua...', 'role': 'user'}, {'content': '¿Quieres solo coches eléctricos?', 'role': 'assistant'}, {'content': 'si, solo electricos', 'role': 'user'}], 'model': 'gpt-4o-mini', 'response_format': {'type': 'json_schema', 'json_schema': {'schema': {'$defs': {'NivelAventura': {'enum': ['ninguna', 'ocasional', 'extrema'], 'title': 'NivelAventura', 'type': 'string'}, 'PerfilUsuario': {'properties': {'altura_mayor_190': {'anyOf': [{'type': 'string'}, {'type': 'null'}], 'description': \"¿El usuario mide más de 1.90 metros? Responde 'sí' o 'no'\", 'title': 'Altura Mayor 190'}, 'peso_mayor_100': {'anyOf': [{'type': 'string'}, {'type': 'null'}], 'description': \"¿El usuario pesa más de 100 kg? Responde 'sí' o 'no'\", 'title': 'Peso Mayor 100'}, 'uso_profesional': {'anyOf': [{'type': 'string'}, {'type': 'null'}], 'description': \"¿Usará el coche para trabajo? Responde 'sí' o 'no'\", 'title': 'Uso Profesional'}, 'valora_estetica': {'anyOf': [{'type': 'string'}, {'type': 'null'}], 'description': \"¿Valora la estética del coche? Responde 'sí' o 'no'\", 'title': 'Valora Estetica'}, 'solo_electricos': {'anyOf': [{'type': 'string'}, {'type': 'null'}], 'description': \"¿Quiere solo coches eléctricos? Responde 'sí' o 'no'\", 'title': 'Solo Electricos'}, 'transmision_preferida': {'anyOf': [{'$ref': '#/$defs/Transmision'}, {'type': 'null'}], 'description': '¿Qué transmisión prefieres: automático, manual o ambos?'}, 'apasionado_motor': {'anyOf': [{'type': 'string'}, {'type': 'null'}], 'description': \"¿Eres un apasionado/a del motor y/o la movilidad? Responde 'sí' o 'no'\", 'title': 'Apasionado Motor'}, 'aventura': {'anyOf': [{'$ref': '#/$defs/NivelAventura'}, {'type': 'null'}], 'description': \"¿Qué nivel de aventura buscas con tu vehículo: 'ninguna', 'ocasional' o 'extrema'?\"}}, 'title': 'PerfilUsuario', 'type': 'object', 'additionalProperties': False, 'required': ['altura_mayor_190', 'peso_mayor_100', 'uso_profesional', 'valora_estetica', 'solo_electricos', 'transmision_preferida', 'apasionado_motor', 'aventura']}, 'Transmision': {'enum': ['automático', 'manual', 'ambos'], 'title': 'Transmision', 'type': 'string'}}, 'description': 'Salida esperada del LLM enfocado solo en el perfil del usuario.', 'properties': {'preferencias_usuario': {'$ref': '#/$defs/PerfilUsuario'}, 'mensaje_validacion': {'description': 'Pregunta de seguimiento CLARA y CORTA si falta información ESENCIAL para completar el PerfilUsuario, o un mensaje de confirmación si el perfil está completo.', 'title': 'Mensaje Validacion', 'type': 'string'}}, 'required': ['preferencias_usuario', 'mensaje_validacion'], 'title': 'ResultadoSoloPerfil', 'type': 'object', 'additionalProperties': False}, 'name': 'ResultadoSoloPerfil', 'strict': True}}, 'stream': False, 'temperature': 0.2}}\n",
      "DEBUG:openai._base_client:Sending HTTP Request: POST https://api.openai.com/v1/chat/completions\n",
      "DEBUG:httpcore.connection:close.started\n",
      "DEBUG:httpcore.connection:close.complete\n",
      "DEBUG:httpcore.connection:connect_tcp.started host='api.openai.com' port=443 local_address=None timeout=None socket_options=None\n",
      "DEBUG:httpcore.connection:connect_tcp.complete return_value=<httpcore._backends.sync.SyncStream object at 0x14b99e490>\n",
      "DEBUG:httpcore.connection:start_tls.started ssl_context=<ssl.SSLContext object at 0x11f6eccb0> server_hostname='api.openai.com' timeout=None\n",
      "DEBUG:httpcore.connection:start_tls.complete return_value=<httpcore._backends.sync.SyncStream object at 0x14b977490>\n",
      "DEBUG:httpcore.http11:send_request_headers.started request=<Request [b'POST']>\n",
      "DEBUG:httpcore.http11:send_request_headers.complete\n",
      "DEBUG:httpcore.http11:send_request_body.started request=<Request [b'POST']>\n",
      "DEBUG:httpcore.http11:send_request_body.complete\n",
      "DEBUG:httpcore.http11:receive_response_headers.started request=<Request [b'POST']>\n"
     ]
    },
    {
     "name": "stdout",
     "output_type": "stream",
     "text": [
      "--- Ejecutando Nodo: recopilar_preferencias_node ---\n",
      "DEBUG (Perfil) ► Último mensaje es HumanMessage o historial vacío, llamando a llm_solo_perfil...\n"
     ]
    },
    {
     "name": "stderr",
     "output_type": "stream",
     "text": [
      "DEBUG:httpcore.http11:receive_response_headers.complete return_value=(b'HTTP/1.1', 200, b'OK', [(b'Date', b'Sun, 04 May 2025 14:02:47 GMT'), (b'Content-Type', b'application/json'), (b'Transfer-Encoding', b'chunked'), (b'Connection', b'keep-alive'), (b'access-control-expose-headers', b'X-Request-ID'), (b'openai-organization', b'user-ic25pcewdjuowsz9q2ektvrn'), (b'openai-processing-ms', b'2738'), (b'openai-version', b'2020-10-01'), (b'x-ratelimit-limit-requests', b'10000'), (b'x-ratelimit-limit-tokens', b'200000'), (b'x-ratelimit-remaining-requests', b'9999'), (b'x-ratelimit-remaining-tokens', b'198241'), (b'x-ratelimit-reset-requests', b'8.64s'), (b'x-ratelimit-reset-tokens', b'527ms'), (b'x-request-id', b'req_a03f7d0494cb1715c54eef6ce286e28d'), (b'strict-transport-security', b'max-age=31536000; includeSubDomains; preload'), (b'cf-cache-status', b'DYNAMIC'), (b'X-Content-Type-Options', b'nosniff'), (b'Server', b'cloudflare'), (b'CF-RAY', b'93a8899aebafe242-MRS'), (b'Content-Encoding', b'gzip'), (b'alt-svc', b'h3=\":443\"; ma=86400')])\n",
      "INFO:httpx:HTTP Request: POST https://api.openai.com/v1/chat/completions \"HTTP/1.1 200 OK\"\n",
      "DEBUG:httpcore.http11:receive_response_body.started request=<Request [b'POST']>\n",
      "DEBUG:httpcore.http11:receive_response_body.complete\n",
      "DEBUG:httpcore.http11:response_closed.started\n",
      "DEBUG:httpcore.http11:response_closed.complete\n",
      "DEBUG:openai._base_client:HTTP Response: POST https://api.openai.com/v1/chat/completions \"200 OK\" Headers({'date': 'Sun, 04 May 2025 14:02:47 GMT', 'content-type': 'application/json', 'transfer-encoding': 'chunked', 'connection': 'keep-alive', 'access-control-expose-headers': 'X-Request-ID', 'openai-organization': 'user-ic25pcewdjuowsz9q2ektvrn', 'openai-processing-ms': '2738', 'openai-version': '2020-10-01', 'x-ratelimit-limit-requests': '10000', 'x-ratelimit-limit-tokens': '200000', 'x-ratelimit-remaining-requests': '9999', 'x-ratelimit-remaining-tokens': '198241', 'x-ratelimit-reset-requests': '8.64s', 'x-ratelimit-reset-tokens': '527ms', 'x-request-id': 'req_a03f7d0494cb1715c54eef6ce286e28d', 'strict-transport-security': 'max-age=31536000; includeSubDomains; preload', 'cf-cache-status': 'DYNAMIC', 'x-content-type-options': 'nosniff', 'server': 'cloudflare', 'cf-ray': '93a8899aebafe242-MRS', 'content-encoding': 'gzip', 'alt-svc': 'h3=\":443\"; ma=86400'})\n",
      "DEBUG:openai._base_client:request_id: req_a03f7d0494cb1715c54eef6ce286e28d\n"
     ]
    },
    {
     "name": "stdout",
     "output_type": "stream",
     "text": [
      "DEBUG (Perfil) ► Respuesta llm_solo_perfil: preferencias_usuario=PerfilUsuario(altura_mayor_190='sí', peso_mayor_100='no', uso_profesional='no', valora_estetica='sí', solo_electricos='sí', transmision_preferida=<Transmision.MANUAL: 'manual'>, apasionado_motor=None, aventura=<NivelAventura.extrema: 'extrema'>) mensaje_validacion='¡Perfecto! Ya tenemos tus preferencias principales. ¿Pasamos a los detalles técnicos?'\n",
      "DEBUG (Perfil) ► Preferencias tras post-procesamiento (si aplica): altura_mayor_190='sí' peso_mayor_100='no' uso_profesional='no' valora_estetica='sí' solo_electricos='sí' transmision_preferida=<Transmision.MANUAL: 'manual'> apasionado_motor=None aventura=<NivelAventura.extrema: 'extrema'>\n",
      "DEBUG (Perfil) ► Estado preferencias_usuario actualizado: altura_mayor_190='sí' peso_mayor_100='no' uso_profesional='no' valora_estetica='sí' solo_electricos='sí' transmision_preferida=<Transmision.MANUAL: 'manual'> apasionado_motor=None aventura=<NivelAventura.extrema: 'extrema'>\n",
      "DEBUG (Perfil) ► Guardando pregunta pendiente: ¡Perfecto! Ya tenemos tus preferencias principales. ¿Pasamos a los detalles técnicos?\n",
      "--- Ejecutando Nodo: validar_preferencias_node ---\n",
      "--- DEBUG CHECK PERFIL ---\n",
      "Input prefs object: altura_mayor_190='sí' peso_mayor_100='no' uso_profesional='no' valora_estetica='sí' solo_electricos='sí' transmision_preferida=<Transmision.MANUAL: 'manual'> apasionado_motor=None aventura=<NivelAventura.extrema: 'extrema'>\n",
      "Input prefs type: <class 'graph.perfil.state.PerfilUsuario'>\n",
      "Checking field 'altura_mayor_190': value='sí', type=<class 'str'>\n",
      "Checking field 'peso_mayor_100': value='no', type=<class 'str'>\n",
      "Checking field 'uso_profesional': value='no', type=<class 'str'>\n",
      "Checking field 'valora_estetica': value='sí', type=<class 'str'>\n",
      "Checking field 'solo_electricos': value='sí', type=<class 'str'>\n",
      "Checking field 'transmision_preferida': value='Transmision.MANUAL', type=<enum 'Transmision'>\n",
      "Checking field 'apasionado_motor': value='None', type=<class 'NoneType'>\n",
      "DEBUG (Validation Perfil) ► Campo 'apasionado_motor' está vacío/None.\n",
      "DEBUG (Perfil) ► Validación: PerfilUsuario considerado INCOMPLETO.\n",
      "--- Evaluando Condición: ruta_decision_perfil ---\n",
      "DEBUG (Condición Perfil) ► Estado 'preferencias_usuario' recibido: altura_mayor_190='sí' peso_mayor_100='no' uso_profesional='no' valora_estetica='sí' solo_electricos='sí' transmision_preferida=<Transmision.MANUAL: 'manual'> apasionado_motor=None aventura=<NivelAventura.extrema: 'extrema'>\n",
      "DEBUG (Condición Perfil) ► Tipo de 'preferencias_usuario': <class 'graph.perfil.state.PerfilUsuario'>\n",
      "--- DEBUG CHECK PERFIL ---\n",
      "Input prefs object: altura_mayor_190='sí' peso_mayor_100='no' uso_profesional='no' valora_estetica='sí' solo_electricos='sí' transmision_preferida=<Transmision.MANUAL: 'manual'> apasionado_motor=None aventura=<NivelAventura.extrema: 'extrema'>\n",
      "Input prefs type: <class 'graph.perfil.state.PerfilUsuario'>\n",
      "Checking field 'altura_mayor_190': value='sí', type=<class 'str'>\n",
      "Checking field 'peso_mayor_100': value='no', type=<class 'str'>\n",
      "Checking field 'uso_profesional': value='no', type=<class 'str'>\n",
      "Checking field 'valora_estetica': value='sí', type=<class 'str'>\n",
      "Checking field 'solo_electricos': value='sí', type=<class 'str'>\n",
      "Checking field 'transmision_preferida': value='Transmision.MANUAL', type=<enum 'Transmision'>\n",
      "Checking field 'apasionado_motor': value='None', type=<class 'NoneType'>\n",
      "DEBUG (Validation Perfil) ► Campo 'apasionado_motor' está vacío/None.\n",
      "DEBUG (Condición Perfil) ► Perfil INCOMPLETO. Se necesita pregunta.\n",
      "--- Ejecutando Nodo: preguntar_preferencias_node ---\n",
      "--- DEBUG CHECK PERFIL ---\n",
      "Input prefs object: altura_mayor_190='sí' peso_mayor_100='no' uso_profesional='no' valora_estetica='sí' solo_electricos='sí' transmision_preferida=<Transmision.MANUAL: 'manual'> apasionado_motor=None aventura=<NivelAventura.extrema: 'extrema'>\n",
      "Input prefs type: <class 'graph.perfil.state.PerfilUsuario'>\n",
      "Checking field 'altura_mayor_190': value='sí', type=<class 'str'>\n",
      "Checking field 'peso_mayor_100': value='no', type=<class 'str'>\n",
      "Checking field 'uso_profesional': value='no', type=<class 'str'>\n",
      "Checking field 'valora_estetica': value='sí', type=<class 'str'>\n",
      "Checking field 'solo_electricos': value='sí', type=<class 'str'>\n",
      "Checking field 'transmision_preferida': value='Transmision.MANUAL', type=<enum 'Transmision'>\n",
      "Checking field 'apasionado_motor': value='None', type=<class 'NoneType'>\n",
      "DEBUG (Validation Perfil) ► Campo 'apasionado_motor' está vacío/None.\n",
      "DEBUG (Preguntar Perfil) ► Perfil aún INCOMPLETO según checker.\n",
      "WARN (Preguntar Perfil) ► Pregunta guardada ('¡Perfecto! Ya tenemos tus preferencias principales. ¿Pasamos a los detalles técnicos?') parece confirmación, pero perfil incompleto. IGNORANDO y generando pregunta específica.\n",
      "DEBUG (Preguntar Perfil) ► Mensaje final añadido: ¿Eres un apasionado del motor?\n",
      "==================================\u001b[1m Ai Message \u001b[0m==================================\n",
      "\n",
      "¿Eres un apasionado del motor?\n"
     ]
    }
   ],
   "source": [
    "# Create a thread\n",
    "config = {\"configurable\": {\"thread_id\": \"1\"}}\n",
    "\n",
    "# Start conversation\n",
    "input_message = HumanMessage(content=\"si, solo electricos\")\n",
    "output = graph.invoke({\"messages\": [input_message]}, config) \n",
    "for m in output['messages'][-1:]:\n",
    "    m.pretty_print()"
   ]
  },
  {
   "cell_type": "code",
   "execution_count": 10,
   "metadata": {},
   "outputs": [
    {
     "name": "stderr",
     "output_type": "stream",
     "text": [
      "DEBUG:openai._base_client:Request options: {'method': 'post', 'url': '/chat/completions', 'headers': {'X-Stainless-Helper-Method': 'beta.chat.completions.parse'}, 'files': None, 'post_parser': <function Completions.parse.<locals>.parser at 0x14b91c4a0>, 'json_data': {'messages': [{'content': '<Role>\\nEres un asistente de conversación amigable y metodológico. Tu misión actual es conocer las preferencias generales y el perfil básico de un usuario que busca un coche (`PerfilUsuario`). Debes seguir las reglas especificadas y generar SIEMPRE un objeto JSON válido que cumpla el esquema `ResultadoSoloPerfil`. Mantén un tono cercano.\\n</Role>\\n\\n<Esquema_JSON_Requerido>\\nLa estructura JSON que DEBES generar es la siguiente:\\n```json\\n{{\\n  \"$defs\": {\\n    \"NivelAventura\": {\\n      \"enum\": [\\n        \"ninguna\",\\n        \"ocasional\",\\n        \"extrema\"\\n      ],\\n      \"title\": \"NivelAventura\",\\n      \"type\": \"string\"\\n    },\\n    \"PerfilUsuario\": {\\n      \"properties\": {\\n        \"altura_mayor_190\": {\\n          \"anyOf\": [\\n            {\\n              \"type\": \"string\"\\n            },\\n            {\\n              \"type\": \"null\"\\n            }\\n          ],\\n          \"description\": \"\\\\u00bfEl usuario mide m\\\\u00e1s de 1.90 metros? Responde \\'s\\\\u00ed\\' o \\'no\\'\",\\n          \"title\": \"Altura Mayor 190\"\\n        },\\n...\\n  ],\\n  \"title\": \"ResultadoSoloPerfil\",\\n  \"type\": \"object\"\\n}}\\n</Esquema_JSON_Requerido>\\n\\n<Reglas_Generales>\\n\\n1. Analiza TODO el historial de la conversación y el último mensaje del usuario para extraer/inferir valores para TODOS los campos de preferencias_usuario. Usa null si no hay información.\\n2. Haz solo preguntas relevantes según los campos de PerfilUsuario que falten y no repitas preguntas que ya hayan sido respondidas explícita o implícitamente.\\n3. PROHIBIDO preguntar por temas fuera de PerfilUsuario en esta etapa (NO preguntar por precio, consumo, filtros técnicos como tipo_mecanica, tecnología, seguridad, maletero, etc.).\\n4. Usa el campo mensaje_validacion para formular la siguiente pregunta necesaria o para confirmar que el perfil está completo. </Reglas_Generales>\\n</Reglas_Generales>\\n\\n<Reglas_Preguntas_Especificas>\\n\\nUsa estas preguntas EXACTAS cuando necesites preguntar por estos campos de PerfilUsuario:\\n\\naltura_mayor_190: \"¿Mides más de 1.90 m?\"\\npeso_mayor_100: \"¿Pesas más de 100 kg?\"\\nuso_profesional: \"¿Uso personal o profesional?\"\\nvalora_estetica: \"¿Valoras la estética?\"\\nsolo_electricos: \"¿Quieres solo coches eléctricos?\"\\ntransmision_preferida: (Si falta y es relevante preguntar) \"¿Qué tipo de transmisión prefieres?\\\\n 1) Automático\\\\n 2) Manual\\\\n 3) Ambos\"\\napasionado_motor: \"¿Eres un apasionado del motor?\"\\nManejo de aventura: Si no se ha preguntado por aventura y no se puede inferir un valor (ninguna, ocasional, extrema), deja \"aventura\": null en preferencias_usuario y USA UNO de los siguientes templates EXACTOS en mensaje_validacion (elige el que te parezca más natural en el contexto):\\n\\n<Aventura_Templates>\\n\\nTemplate 1: “Hablando de aventura, ¿con cuál de estas afirmaciones te identificas más?\\\\n 1) No pisas nada que no sea asfalto (ninguna)\\\\n 2) Salidas fuera de asfalto ocasionales (ocasional)\\\\n 3) Circular en condiciones duras con total garantía (extrema)”\\nTemplate 2: “Para conocer tu espíritu aventurero, dime:\\\\n 1) Solo asfalto (ninguna)\\\\n 2) Salidas off‑road de vez en cuando (ocasional)\\\\n 3) Aventurero extremo en terrenos difíciles (extrema)” </Aventura_Templates>\\nConfirmación de Perfil Completo: Si consideras que todos los campos necesarios de PerfilUsuario ya tienen un valor (no null), usa un mensaje de confirmación en mensaje_validacion. Ejemplo: \"¡Perfecto! Ya tenemos tus preferencias principales. ¿Pasamos a los detalles técnicos?\" o simplemente \"\".\\n</Reglas_Preguntas_Especificas>\\n\\n<Ejemplos_Perfil>\\n\\nEjemplo 1: Inicio, pregunta por Aventura\\n\\nContexto (Historial + Último mensaje): [HumanMessage(content=\\'Hola, dime quién eres\\')]\\nSalida JSON Esperada:\\nJSON\\n\\n{\\n  \"preferencias_usuario\": {\\n    \"altura_mayor_190\": null, \"peso_mayor_100\": null, \"uso_profesional\": null, \\n    \"valora_estetica\": null, \"solo_electricos\": null, \"transmision_preferida\": null, \\n    \"apasionado_motor\": null, \"aventura\": null \\n  },\\n  \"mensaje_validacion\": \"¡Hola! Soy Mentor, tu asistente para encontrar el coche perfecto. Analizo tus necesidades y preferencias. Para empezar, hablando de aventura, ¿con cuál de estas afirmaciones te identificas más?\\\\n  1) No pisas nada que no sea asfalto (ninguna)\\\\n  2) Salidas fuera de asfalto ocasionales (ocasional)\\\\n  3) Circular en condiciones duras con total garantía (extrema)\"\\n}\\n\\nEjemplo 2: Usuario da altura, estética y uso; pregunta por Transmisión\\n\\nContexto: [..., HumanMessage(content=\\'Mido 1.95m y me gustan los coches con buen diseño. Quiero algo para ir al trabajo.\\')]\\nSalida JSON Esperada:\\nJSON\\n\\n{\\n  \"preferencias_usuario\": {\\n    \"altura_mayor_190\": \"sí\", \"peso_mayor_100\": null, \"uso_profesional\": \"sí\", \\n    \"valora_estetica\": \"sí\", \"solo_electricos\": null, \"transmision_preferida\": null, \\n    \"apasionado_motor\": null, \"aventura\": null \\n  },\\n  \"mensaje_validacion\": \"Entendido: mides más de 1.90m, valoras la estética y es para uso profesional. ¿Qué tipo de transmisión prefieres?\\\\n  1) Automático\\\\n  2) Manual\\\\n  3) Ambos\" \\n}\\n(Nota: En este ejemplo, asumimos que preguntar por transmisión es prioritario sobre aventura según tu lógica interna o la del LLM)\\n\\nEjemplo 3: Perfil completo, mensaje de confirmación\\n\\nContexto: [..., HumanMessage(content=\\'Prefiero automático, no quiero solo eléctricos, y no soy apasionado del motor. Uso personal y solo asfalto. No soy alto ni pesado.\\')]\\nSalida JSON Esperada:\\nJSON\\n\\n{\\n  \"preferencias_usuario\": {\\n    \"altura_mayor_190\": \"no\", \"peso_mayor_100\": \"no\", \"uso_profesional\": \"no\", \\n    \"valora_estetica\": \"sí\", # Asumiendo que se preguntó/infirió antes\\n    \"solo_electricos\": \"no\", \"transmision_preferida\": \"automatico\", \\n    \"apasionado_motor\": \"no\", \"aventura\": \"ninguna\" \\n  },\\n  \"mensaje_validacion\": \"¡Estupendo! Creo que ya tengo claras todas tus preferencias principales. ¿Vamos a ver qué características técnicas encajarían?\" \\n}\\n</Ejemplos_Perfil>\\n\\n<Formato_Salida_JSON_Final>\\nGenera únicamente el objeto JSON completo y válido solicitado que cumpla el esquema ResultadoSoloPerfil, sin añadir ningún texto antes o después.\\n\\nJSON\\n\\n{\\n  \"preferencias_usuario\": { ... },\\n  \"mensaje_validacion\": \"<string>\"\\n}\\n</Formato_Salida_JSON_Final>', 'role': 'user'}, {'content': 'oye busco un coche para la ciudad', 'role': 'user'}, {'content': '¡Hola! Para ayudarte mejor, hablemos de aventura. ¿Con cuál de estas afirmaciones te identificas más?\\n 1) No pisas nada que no sea asfalto (ninguna)\\n 2) Salidas fuera de asfalto ocasionales (ocasional)\\n 3) Circular en condiciones duras con total garantía (extrema)', 'role': 'assistant'}, {'content': 'la 3', 'role': 'user'}, {'content': '¿Mides más de 1.90 m?', 'role': 'assistant'}, {'content': ' mido 1.90 y peso 80kg', 'role': 'user'}, {'content': 'Entendido: mides 1.90m y tu nivel de aventura es extrema. ¿Uso personal o profesional?', 'role': 'assistant'}, {'content': 'uso personal', 'role': 'user'}, {'content': 'Perfecto, ya tenemos tus preferencias principales. ¿Valoras la estética?', 'role': 'assistant'}, {'content': 'si', 'role': 'user'}, {'content': '¿Qué tipo de transmisión prefieres?\\n 1) Automático\\n 2) Manual\\n 3) Ambos', 'role': 'assistant'}, {'content': 'Manual', 'role': 'user'}, {'content': '¡Estupendo! Creo que ya tengo claras todas tus preferencias principales. ¿Vamos a ver qué características técnicas encajarían?', 'role': 'assistant'}, {'content': 'vale, continua...', 'role': 'user'}, {'content': '¿Quieres solo coches eléctricos?', 'role': 'assistant'}, {'content': 'si, solo electricos', 'role': 'user'}, {'content': '¿Eres un apasionado del motor?', 'role': 'assistant'}, {'content': 'si, lo soy', 'role': 'user'}], 'model': 'gpt-4o-mini', 'response_format': {'type': 'json_schema', 'json_schema': {'schema': {'$defs': {'NivelAventura': {'enum': ['ninguna', 'ocasional', 'extrema'], 'title': 'NivelAventura', 'type': 'string'}, 'PerfilUsuario': {'properties': {'altura_mayor_190': {'anyOf': [{'type': 'string'}, {'type': 'null'}], 'description': \"¿El usuario mide más de 1.90 metros? Responde 'sí' o 'no'\", 'title': 'Altura Mayor 190'}, 'peso_mayor_100': {'anyOf': [{'type': 'string'}, {'type': 'null'}], 'description': \"¿El usuario pesa más de 100 kg? Responde 'sí' o 'no'\", 'title': 'Peso Mayor 100'}, 'uso_profesional': {'anyOf': [{'type': 'string'}, {'type': 'null'}], 'description': \"¿Usará el coche para trabajo? Responde 'sí' o 'no'\", 'title': 'Uso Profesional'}, 'valora_estetica': {'anyOf': [{'type': 'string'}, {'type': 'null'}], 'description': \"¿Valora la estética del coche? Responde 'sí' o 'no'\", 'title': 'Valora Estetica'}, 'solo_electricos': {'anyOf': [{'type': 'string'}, {'type': 'null'}], 'description': \"¿Quiere solo coches eléctricos? Responde 'sí' o 'no'\", 'title': 'Solo Electricos'}, 'transmision_preferida': {'anyOf': [{'$ref': '#/$defs/Transmision'}, {'type': 'null'}], 'description': '¿Qué transmisión prefieres: automático, manual o ambos?'}, 'apasionado_motor': {'anyOf': [{'type': 'string'}, {'type': 'null'}], 'description': \"¿Eres un apasionado/a del motor y/o la movilidad? Responde 'sí' o 'no'\", 'title': 'Apasionado Motor'}, 'aventura': {'anyOf': [{'$ref': '#/$defs/NivelAventura'}, {'type': 'null'}], 'description': \"¿Qué nivel de aventura buscas con tu vehículo: 'ninguna', 'ocasional' o 'extrema'?\"}}, 'title': 'PerfilUsuario', 'type': 'object', 'additionalProperties': False, 'required': ['altura_mayor_190', 'peso_mayor_100', 'uso_profesional', 'valora_estetica', 'solo_electricos', 'transmision_preferida', 'apasionado_motor', 'aventura']}, 'Transmision': {'enum': ['automático', 'manual', 'ambos'], 'title': 'Transmision', 'type': 'string'}}, 'description': 'Salida esperada del LLM enfocado solo en el perfil del usuario.', 'properties': {'preferencias_usuario': {'$ref': '#/$defs/PerfilUsuario'}, 'mensaje_validacion': {'description': 'Pregunta de seguimiento CLARA y CORTA si falta información ESENCIAL para completar el PerfilUsuario, o un mensaje de confirmación si el perfil está completo.', 'title': 'Mensaje Validacion', 'type': 'string'}}, 'required': ['preferencias_usuario', 'mensaje_validacion'], 'title': 'ResultadoSoloPerfil', 'type': 'object', 'additionalProperties': False}, 'name': 'ResultadoSoloPerfil', 'strict': True}}, 'stream': False, 'temperature': 0.2}}\n",
      "DEBUG:openai._base_client:Sending HTTP Request: POST https://api.openai.com/v1/chat/completions\n",
      "DEBUG:httpcore.connection:close.started\n",
      "DEBUG:httpcore.connection:close.complete\n",
      "DEBUG:httpcore.connection:connect_tcp.started host='api.openai.com' port=443 local_address=None timeout=None socket_options=None\n",
      "DEBUG:httpcore.connection:connect_tcp.complete return_value=<httpcore._backends.sync.SyncStream object at 0x14b9e9d10>\n",
      "DEBUG:httpcore.connection:start_tls.started ssl_context=<ssl.SSLContext object at 0x11f6eccb0> server_hostname='api.openai.com' timeout=None\n",
      "DEBUG:httpcore.connection:start_tls.complete return_value=<httpcore._backends.sync.SyncStream object at 0x14b9eba10>\n",
      "DEBUG:httpcore.http11:send_request_headers.started request=<Request [b'POST']>\n",
      "DEBUG:httpcore.http11:send_request_headers.complete\n",
      "DEBUG:httpcore.http11:send_request_body.started request=<Request [b'POST']>\n",
      "DEBUG:httpcore.http11:send_request_body.complete\n",
      "DEBUG:httpcore.http11:receive_response_headers.started request=<Request [b'POST']>\n"
     ]
    },
    {
     "name": "stdout",
     "output_type": "stream",
     "text": [
      "--- Ejecutando Nodo: recopilar_preferencias_node ---\n",
      "DEBUG (Perfil) ► Último mensaje es HumanMessage o historial vacío, llamando a llm_solo_perfil...\n"
     ]
    },
    {
     "name": "stderr",
     "output_type": "stream",
     "text": [
      "DEBUG:httpcore.http11:receive_response_headers.complete return_value=(b'HTTP/1.1', 200, b'OK', [(b'Date', b'Sun, 04 May 2025 14:03:12 GMT'), (b'Content-Type', b'application/json'), (b'Transfer-Encoding', b'chunked'), (b'Connection', b'keep-alive'), (b'access-control-expose-headers', b'X-Request-ID'), (b'openai-organization', b'user-ic25pcewdjuowsz9q2ektvrn'), (b'openai-processing-ms', b'4027'), (b'openai-version', b'2020-10-01'), (b'x-ratelimit-limit-requests', b'10000'), (b'x-ratelimit-limit-tokens', b'200000'), (b'x-ratelimit-remaining-requests', b'9999'), (b'x-ratelimit-remaining-tokens', b'198228'), (b'x-ratelimit-reset-requests', b'8.64s'), (b'x-ratelimit-reset-tokens', b'531ms'), (b'x-request-id', b'req_4436a1dd253363ff0484d0e6916f701c'), (b'strict-transport-security', b'max-age=31536000; includeSubDomains; preload'), (b'cf-cache-status', b'DYNAMIC'), (b'X-Content-Type-Options', b'nosniff'), (b'Server', b'cloudflare'), (b'CF-RAY', b'93a88a2eeca261ee-MRS'), (b'Content-Encoding', b'gzip'), (b'alt-svc', b'h3=\":443\"; ma=86400')])\n",
      "INFO:httpx:HTTP Request: POST https://api.openai.com/v1/chat/completions \"HTTP/1.1 200 OK\"\n",
      "DEBUG:httpcore.http11:receive_response_body.started request=<Request [b'POST']>\n",
      "DEBUG:httpcore.http11:receive_response_body.complete\n",
      "DEBUG:httpcore.http11:response_closed.started\n",
      "DEBUG:httpcore.http11:response_closed.complete\n",
      "DEBUG:openai._base_client:HTTP Response: POST https://api.openai.com/v1/chat/completions \"200 OK\" Headers({'date': 'Sun, 04 May 2025 14:03:12 GMT', 'content-type': 'application/json', 'transfer-encoding': 'chunked', 'connection': 'keep-alive', 'access-control-expose-headers': 'X-Request-ID', 'openai-organization': 'user-ic25pcewdjuowsz9q2ektvrn', 'openai-processing-ms': '4027', 'openai-version': '2020-10-01', 'x-ratelimit-limit-requests': '10000', 'x-ratelimit-limit-tokens': '200000', 'x-ratelimit-remaining-requests': '9999', 'x-ratelimit-remaining-tokens': '198228', 'x-ratelimit-reset-requests': '8.64s', 'x-ratelimit-reset-tokens': '531ms', 'x-request-id': 'req_4436a1dd253363ff0484d0e6916f701c', 'strict-transport-security': 'max-age=31536000; includeSubDomains; preload', 'cf-cache-status': 'DYNAMIC', 'x-content-type-options': 'nosniff', 'server': 'cloudflare', 'cf-ray': '93a88a2eeca261ee-MRS', 'content-encoding': 'gzip', 'alt-svc': 'h3=\":443\"; ma=86400'})\n",
      "DEBUG:openai._base_client:request_id: req_4436a1dd253363ff0484d0e6916f701c\n",
      "DEBUG:openai._base_client:Request options: {'method': 'post', 'url': '/chat/completions', 'headers': {'X-Stainless-Helper-Method': 'beta.chat.completions.parse'}, 'files': None, 'post_parser': <function Completions.parse.<locals>.parser at 0x14b91ef20>, 'json_data': {'messages': [{'content': '<Role>\\nEres un asistente técnico experto en vehículos. Tu función es traducir las preferencias generales de un usuario en filtros técnicos específicos para la búsqueda de coches. Debes basarte estrictamente en las preferencias proporcionadas y generar una respuesta JSON que SIEMPRE se ajuste al esquema `ResultadoSoloFiltros`.\\n</Role>\\n\\n<Contexto_Preferencias_Usuario>\\n\\n<Contexto_Preferencias_Usuario>\\nA continuación se detallan las preferencias del usuario recopiladas previamente. Úsalas como base INDISPENSABLE para tu inferencia:\\n```json\\n{\\'altura_mayor_190\\': \\'sí\\', \\'peso_mayor_100\\': \\'no\\', \\'uso_profesional\\': \\'no\\', \\'valora_estetica\\': \\'sí\\', \\'solo_electricos\\': \\'sí\\', \\'transmision_preferida\\': \\'manual\\', \\'apasionado_motor\\': \\'sí\\', \\'aventura\\': \\'extrema\\'}\\n</Contexto_Preferencias_Usuario>\\n\\n<Esquema_JSON_Requerido>\\nA continuación se detallan las preferencias del usuario recopiladas previamente. Úsalas como base INDISPENSABLE para tu inferencia:\\n{\\n  \"$defs\": {\\n    \"FiltrosInferidos\": {\\n      \"properties\": {\\n        \"estetica_min\": {\\n          \"anyOf\": [\\n            {\\n              \"type\": \"number\"\\n            },\\n            {\\n              \"type\": \"null\"\\n            }\\n          ],\\n          \"default\": null,\\n          \"description\": \"M\\\\u00ednimo valor de est\\\\u00e9tica recomendado (0.0 a 10.0)\",\\n          \"title\": \"Estetica Min\"\\n        },\\n        \"tipo_mecanica\": {\\n          \"anyOf\": [\\n            {\\n              \"items\": {\\n                \"$ref\": \"#/$defs/TipoMecanica\"\\n              },\\n              \"type\": \"array\"\\n            },\\n            {\\n              \"type\": \"null\"\\n            }\\n          ],\\n          \"default\": null,\\n          \"description\": \"Lista de motorizaciones recomendadas\",\\n          \"title\": \"Tipo Mecanica\"\\n        },\\n        \"premium_min\": {\\n          \"anyOf\": [\\n            {\\n              \"type\": \"number\"\\n            },\\n            {\\n              \"type\": \"null\"\\n            }\\n          ],\\n          \"default\": null,\\n          \"description\": \"M\\\\u00ednimo valor de premium recomendado (0.0 a 10.0)\",\\n          \"title\": \"Premium Min\"\\n        },\\n        \"singular_min\": {\\n          \"anyOf\": [\\n            {\\n              \"type\": \"number\"\\n            },\\n            {\\n              \"type\": \"null\"\\n            }\\n          ],\\n          \"default\": null,\\n          \"description\": \"M\\\\u00ednimo valor de singularidad recomendado (0.0 a 10.0)\",\\n          \"title\": \"Singular Min\"\\n        },\\n        \"tipo_carroceria\": {\\n          \"anyOf\": [\\n            {\\n              \"items\": {\\n                \"type\": \"string\"\\n              },\\n              \"type\": \"array\"\\n            },\\n            {\\n              \"type\": \"null\"\\n            }\\n          ],\\n          \"default\": null,\\n          \"description\": \"Lista de tipos de carrocer\\\\u00eda recomendados por RAG (ej: [\\'SUV\\', \\'COUPE\\'])\",\\n          \"title\": \"Tipo Carroceria\"\\n        },\\n        \"modo_adquisicion_recomendado\": {\\n          \"anyOf\": [\\n            {\\n              \"enum\": [\\n                \"Contado\",\\n                \"Financiado\"\\n              ],\\n              \"type\": \"string\"\\n            },\\n            {\\n              \"type\": \"null\"\\n            }\\n          ],\\n          \"default\": null,\\n          \"description\": \"Modo de compra recomendado (Contado/Financiado) basado en an\\\\u00e1lisis Modo 1.\",\\n          \"title\": \"Modo Adquisicion Recomendado\"\\n        },\\n        \"precio_max_contado_recomendado\": {\\n          \"anyOf\": [\\n            {\\n              \"type\": \"number\"\\n            },\\n            {\\n              \"type\": \"null\"\\n            }\\n          ],\\n          \"default\": null,\\n          \"description\": \"Precio m\\\\u00e1ximo recomendado si se aconseja comprar al contado (Modo 1).\",\\n          \"title\": \"Precio Max Contado Recomendado\"\\n        },\\n        \"cuota_max_calculada\": {\\n          \"anyOf\": [\\n            {\\n              \"type\": \"number\"\\n            },\\n            {\\n              \"type\": \"null\"\\n            }\\n          ],\\n          \"default\": null,\\n          \"description\": \"Cuota mensual m\\\\u00e1xima calculada si se aconseja financiar (Modo 1).\",\\n          \"title\": \"Cuota Max Calculada\"\\n        }\\n      },\\n      \"title\": \"FiltrosInferidos\",\\n      \"type\": \"object\"\\n    },\\n    \"TipoMecanica\": {\\n      \"enum\": [\\n        \"GASOLINA\",\\n        \"DIESEL\",\\n        \"BEV\",\\n        \"FCEV\",\\n        \"GLP\",\\n        \"GNV\",\\n        \"HEVD\",\\n        \"HEVG\",\\n        \"MHEVD\",\\n        \"MHEVG\",\\n        \"PHEVD\",\\n        \"PHEVG\",\\n        \"REEV\"\\n      ],\\n      \"title\": \"TipoMecanica\",\\n      \"type\": \"string\"\\n    }\\n  },\\n  \"description\": \"Salida esperada del LLM enfocado solo en inferir filtros t\\\\u00e9cnicos.\",\\n  \"properties\": {\\n    \"filtros_inferidos\": {\\n      \"$ref\": \"#/$defs/FiltrosInferidos\"\\n    },\\n    \"mensaje_validacion\": {\\n      \"description\": \"Pregunta de seguimiento CLARA y CORTA si falta informaci\\\\u00f3n ESENCIAL para completar los FiltrosInferidos (ej: tipo_mecanica), o un mensaje de confirmaci\\\\u00f3n si los filtros est\\\\u00e1n completos.\",\\n      \"title\": \"Mensaje Validacion\",\\n      \"type\": \"string\"\\n    }\\n  },\\n  \"required\": [\\n    \"filtros_inferidos\",\\n    \"mensaje_validacion\"\\n  ],\\n  \"title\": \"ResultadoSoloFiltros\",\\n  \"type\": \"object\"\\n}\\n</Esquema_JSON_Requerido>\\n\\n\\n<Instrucciones_Detalladas_Inferencia>\\n\\nAnaliza las <Contexto_Preferencias_Usuario> proporcionadas.\\nInfiere los valores para los campos dentro de filtros_inferidos en el JSON de salida, siguiendo estas directrices:\\n\\n\\n- estetica_min: Si preferencias_contexto indica valora_estetica: \\'sí\\', asigna un valor numérico como 5.0 o 6.0. Si es \\'no\\' o null, asigna 1.0.\\n- tipo_mecanica: ¡CAMPO CRÍTICO Y OBLIGATORIO! Debes inferir una lista de strings.\\n- Si preferencias_contexto indica solo_electricos: \\'sí\\', la lista DEBE ser [\"BEV\", \"REEV\"].\\n- Si solo_electricos es \\'no\\', proporciona una lista sensata basada en otras preferencias (ej: para \"coche para la ciudad\" podría ser [\"BEV\", \"GASOLINA\", \"HIBRIDO\"]). Evita \\'DIESEL\\' para uso urbano si no hay otra indicación.\\n- Si solo_electricos es null o desconocido, intenta inferir una lista general o, si no es posible, pregunta usando mensaje_validacion.\\n- Los únicos valores válidos para esta lista son: { \\'GASOLINA\\', \\'DIESEL\\', \\'BEV\\', \\'FCEV\\', \\'GLP\\', \\'GNV\\', \\'HEVD\\', \\'HEVG\\', \\'MHEVD\\', \\'MHEVG\\', \\'PHEVD\\', \\'PHEVG\\', \\'REEV\\' }. Asegúrate de devolver una lista de strings válidos. Es obligatorio que este campo contenga al menos un valor si es posible inferirlo.\\n- premium_min y singular_min: Si preferencias_contexto indica apasionado_motor: \\'sí\\', asigna un valor numérico como 5.0 o más. Si es \\'no\\' o null, asigna 1.0 o déjalos null.\\n\\n-Campo mensaje_validacion:\\nSi NO pudiste inferir un valor para un filtro crítico (especialmente tipo_mecanica), usa este campo para generar una pregunta corta y específica dirigida a obtener ese filtro faltante. Ejemplo: \"No estoy seguro de qué tipo de motorización prefieres (gasolina, híbrido, eléctrico...). ¿Podrías indicármelo?\".\\nSi has podido inferir todos los filtros necesarios (incluyendo tipo_mecanica), puedes dejar este campo como una cadena vacía \"\" o poner un mensaje corto de confirmación como \"Ok, he definido los filtros técnicos basados en tus preferencias.\".\\nPrecisión: No inventes valores. Si una preferencia no da información para un filtro opcional, déjalo como null. Si falta información para un filtro crítico que no puedes inferir, pregunta. \\n\\n</Instrucciones_Detalladas_Inferencia>\\n\\n<Ejemplos>\\n\\n**Ejemplo 1:**\\n\\n* **Preferencias de Entrada (Contexto):**\\n    ```json\\n    {\\n      \"altura_mayor_190\": \"no\",\\n      \"peso_mayor_100\": \"no\",\\n      \"uso_profesional\": \"no\",\\n      \"valora_estetica\": \"sí\",\\n      \"solo_electricos\": \"no\",\\n      \"transmision_preferida\": \"automatico\",\\n      \"apasionado_motor\": \"no\",\\n      \"aventura\": \"ninguna\"\\n    }\\n    ```\\n* **Salida JSON Esperada:**\\n    ```json\\n    {\\n      \"filtros_inferidos\": {\\n        \"estetica_min\": 5.0,\\n        \"tipo_mecanica\": [\"BEV\", \"GASOLINA\", \"HIBRIDO\"],\\n        \"premium_min\": 1.0,\\n        \"singular_min\": 1.0\\n      },\\n      \"mensaje_validacion\": \"Ok, he definido los filtros técnicos basados en tus preferencias.\"\\n    }\\n    ```\\n\\n**Ejemplo 2:**\\n\\n* **Preferencias de Entrada (Contexto):**\\n    ```json\\n    {\\n      \"altura_mayor_190\": \"sí\",\\n      \"peso_mayor_100\": \"no\",\\n      \"uso_profesional\": \"sí\",\\n      \"valora_estetica\": \"no\",\\n      \"solo_electricos\": \"sí\",\\n      \"transmision_preferida\": \"automatico\",\\n      \"apasionado_motor\": \"sí\",\\n      \"aventura\": \"ocasional\"\\n    }\\n    ```\\n* **Salida JSON Esperada:**\\n    ```json\\n    {\\n      \"filtros_inferidos\": {\\n        \"estetica_min\": 1.0,\\n        \"tipo_mecanica\": [\"BEV\"],\\n        \"premium_min\": 5.0,\\n        \"singular_min\": 5.0\\n      },\\n      \"mensaje_validacion\": \"\" \\n    }\\n    ```\\n    \\n**(Opcional) Ejemplo 3: Falta información crítica**\\n\\n* **Preferencias de Entrada (Contexto):**\\n    ```json\\n    {\\n      \"altura_mayor_190\": \"no\",\\n      \"peso_mayor_100\": \"no\",\\n      \"uso_profesional\": \"no\",\\n      \"valora_estetica\": \"sí\",\\n      \"solo_electricos\": null, //\\n      \"transmision_preferida\": \"manual\",\\n      \"apasionado_motor\": \"no\",\\n      \"aventura\": \"ninguna\"\\n    }\\n    ```\\n* **Salida JSON Esperada:**\\n    ```json\\n    {\\n      \"filtros_inferidos\": {\\n        \"estetica_min\": 5.0,\\n        \"tipo_mecanica\": null, \\n        \"premium_min\": 1.0,\\n        \"singular_min\": 1.0\\n      },\\n      \"mensaje_validacion\": \"Necesitaría saber si tienes preferencia por algún tipo de motorización (eléctrico, gasolina, diesel...) para continuar.\" \\n    }\\n    ```\\n\\n</Ejemplos>\\n\\n\\n\\n', 'role': 'user'}, {'content': 'oye busco un coche para la ciudad', 'role': 'user'}, {'content': '¡Hola! Para ayudarte mejor, hablemos de aventura. ¿Con cuál de estas afirmaciones te identificas más?\\n 1) No pisas nada que no sea asfalto (ninguna)\\n 2) Salidas fuera de asfalto ocasionales (ocasional)\\n 3) Circular en condiciones duras con total garantía (extrema)', 'role': 'assistant'}, {'content': 'la 3', 'role': 'user'}, {'content': '¿Mides más de 1.90 m?', 'role': 'assistant'}, {'content': ' mido 1.90 y peso 80kg', 'role': 'user'}, {'content': 'Entendido: mides 1.90m y tu nivel de aventura es extrema. ¿Uso personal o profesional?', 'role': 'assistant'}, {'content': 'uso personal', 'role': 'user'}, {'content': 'Perfecto, ya tenemos tus preferencias principales. ¿Valoras la estética?', 'role': 'assistant'}, {'content': 'si', 'role': 'user'}, {'content': '¿Qué tipo de transmisión prefieres?\\n 1) Automático\\n 2) Manual\\n 3) Ambos', 'role': 'assistant'}, {'content': 'Manual', 'role': 'user'}, {'content': '¡Estupendo! Creo que ya tengo claras todas tus preferencias principales. ¿Vamos a ver qué características técnicas encajarían?', 'role': 'assistant'}, {'content': 'vale, continua...', 'role': 'user'}, {'content': '¿Quieres solo coches eléctricos?', 'role': 'assistant'}, {'content': 'si, solo electricos', 'role': 'user'}, {'content': '¿Eres un apasionado del motor?', 'role': 'assistant'}, {'content': 'si, lo soy', 'role': 'user'}], 'model': 'gpt-4o-mini', 'response_format': {'type': 'json_schema', 'json_schema': {'schema': {'$defs': {'FiltrosInferidos': {'properties': {'estetica_min': {'anyOf': [{'type': 'number'}, {'type': 'null'}], 'description': 'Mínimo valor de estética recomendado (0.0 a 10.0)', 'title': 'Estetica Min'}, 'tipo_mecanica': {'anyOf': [{'items': {'$ref': '#/$defs/TipoMecanica'}, 'type': 'array'}, {'type': 'null'}], 'description': 'Lista de motorizaciones recomendadas', 'title': 'Tipo Mecanica'}, 'premium_min': {'anyOf': [{'type': 'number'}, {'type': 'null'}], 'description': 'Mínimo valor de premium recomendado (0.0 a 10.0)', 'title': 'Premium Min'}, 'singular_min': {'anyOf': [{'type': 'number'}, {'type': 'null'}], 'description': 'Mínimo valor de singularidad recomendado (0.0 a 10.0)', 'title': 'Singular Min'}, 'tipo_carroceria': {'anyOf': [{'items': {'type': 'string'}, 'type': 'array'}, {'type': 'null'}], 'description': \"Lista de tipos de carrocería recomendados por RAG (ej: ['SUV', 'COUPE'])\", 'title': 'Tipo Carroceria'}, 'modo_adquisicion_recomendado': {'anyOf': [{'enum': ['Contado', 'Financiado'], 'type': 'string'}, {'type': 'null'}], 'description': 'Modo de compra recomendado (Contado/Financiado) basado en análisis Modo 1.', 'title': 'Modo Adquisicion Recomendado'}, 'precio_max_contado_recomendado': {'anyOf': [{'type': 'number'}, {'type': 'null'}], 'description': 'Precio máximo recomendado si se aconseja comprar al contado (Modo 1).', 'title': 'Precio Max Contado Recomendado'}, 'cuota_max_calculada': {'anyOf': [{'type': 'number'}, {'type': 'null'}], 'description': 'Cuota mensual máxima calculada si se aconseja financiar (Modo 1).', 'title': 'Cuota Max Calculada'}}, 'title': 'FiltrosInferidos', 'type': 'object', 'additionalProperties': False, 'required': ['estetica_min', 'tipo_mecanica', 'premium_min', 'singular_min', 'tipo_carroceria', 'modo_adquisicion_recomendado', 'precio_max_contado_recomendado', 'cuota_max_calculada']}, 'TipoMecanica': {'enum': ['GASOLINA', 'DIESEL', 'BEV', 'FCEV', 'GLP', 'GNV', 'HEVD', 'HEVG', 'MHEVD', 'MHEVG', 'PHEVD', 'PHEVG', 'REEV'], 'title': 'TipoMecanica', 'type': 'string'}}, 'description': 'Salida esperada del LLM enfocado solo en inferir filtros técnicos.', 'properties': {'filtros_inferidos': {'$ref': '#/$defs/FiltrosInferidos'}, 'mensaje_validacion': {'description': 'Pregunta de seguimiento CLARA y CORTA si falta información ESENCIAL para completar los FiltrosInferidos (ej: tipo_mecanica), o un mensaje de confirmación si los filtros están completos.', 'title': 'Mensaje Validacion', 'type': 'string'}}, 'required': ['filtros_inferidos', 'mensaje_validacion'], 'title': 'ResultadoSoloFiltros', 'type': 'object', 'additionalProperties': False}, 'name': 'ResultadoSoloFiltros', 'strict': True}}, 'stream': False, 'temperature': 0.2}}\n",
      "DEBUG:openai._base_client:Sending HTTP Request: POST https://api.openai.com/v1/chat/completions\n",
      "DEBUG:httpcore.http11:send_request_headers.started request=<Request [b'POST']>\n",
      "DEBUG:httpcore.http11:send_request_headers.complete\n",
      "DEBUG:httpcore.http11:send_request_body.started request=<Request [b'POST']>\n",
      "DEBUG:httpcore.http11:send_request_body.complete\n",
      "DEBUG:httpcore.http11:receive_response_headers.started request=<Request [b'POST']>\n"
     ]
    },
    {
     "name": "stdout",
     "output_type": "stream",
     "text": [
      "DEBUG (Perfil) ► Respuesta llm_solo_perfil: preferencias_usuario=PerfilUsuario(altura_mayor_190='sí', peso_mayor_100='no', uso_profesional='no', valora_estetica='sí', solo_electricos='sí', transmision_preferida=<Transmision.MANUAL: 'manual'>, apasionado_motor='sí', aventura=<NivelAventura.extrema: 'extrema'>) mensaje_validacion='¡Perfecto! Ya tenemos tus preferencias principales. ¿Pasamos a los detalles técnicos?'\n",
      "DEBUG (Perfil) ► Preferencias tras post-procesamiento (si aplica): altura_mayor_190='sí' peso_mayor_100='no' uso_profesional='no' valora_estetica='sí' solo_electricos='sí' transmision_preferida=<Transmision.MANUAL: 'manual'> apasionado_motor='sí' aventura=<NivelAventura.extrema: 'extrema'>\n",
      "DEBUG (Perfil) ► Estado preferencias_usuario actualizado: altura_mayor_190='sí' peso_mayor_100='no' uso_profesional='no' valora_estetica='sí' solo_electricos='sí' transmision_preferida=<Transmision.MANUAL: 'manual'> apasionado_motor='sí' aventura=<NivelAventura.extrema: 'extrema'>\n",
      "DEBUG (Perfil) ► Guardando pregunta pendiente: ¡Perfecto! Ya tenemos tus preferencias principales. ¿Pasamos a los detalles técnicos?\n",
      "--- Ejecutando Nodo: validar_preferencias_node ---\n",
      "--- DEBUG CHECK PERFIL ---\n",
      "Input prefs object: altura_mayor_190='sí' peso_mayor_100='no' uso_profesional='no' valora_estetica='sí' solo_electricos='sí' transmision_preferida=<Transmision.MANUAL: 'manual'> apasionado_motor='sí' aventura=<NivelAventura.extrema: 'extrema'>\n",
      "Input prefs type: <class 'graph.perfil.state.PerfilUsuario'>\n",
      "Checking field 'altura_mayor_190': value='sí', type=<class 'str'>\n",
      "Checking field 'peso_mayor_100': value='no', type=<class 'str'>\n",
      "Checking field 'uso_profesional': value='no', type=<class 'str'>\n",
      "Checking field 'valora_estetica': value='sí', type=<class 'str'>\n",
      "Checking field 'solo_electricos': value='sí', type=<class 'str'>\n",
      "Checking field 'transmision_preferida': value='Transmision.MANUAL', type=<enum 'Transmision'>\n",
      "Checking field 'apasionado_motor': value='sí', type=<class 'str'>\n",
      "Checking field 'aventura': value='NivelAventura.extrema', type=<enum 'NivelAventura'>\n",
      "DEBUG (Validation Perfil) ► Todos los campos obligatorios del perfil están presentes.\n",
      "DEBUG (Perfil) ► Validación: PerfilUsuario considerado COMPLETO.\n",
      "--- Evaluando Condición: ruta_decision_perfil ---\n",
      "DEBUG (Condición Perfil) ► Estado 'preferencias_usuario' recibido: altura_mayor_190='sí' peso_mayor_100='no' uso_profesional='no' valora_estetica='sí' solo_electricos='sí' transmision_preferida=<Transmision.MANUAL: 'manual'> apasionado_motor='sí' aventura=<NivelAventura.extrema: 'extrema'>\n",
      "DEBUG (Condición Perfil) ► Tipo de 'preferencias_usuario': <class 'graph.perfil.state.PerfilUsuario'>\n",
      "--- DEBUG CHECK PERFIL ---\n",
      "Input prefs object: altura_mayor_190='sí' peso_mayor_100='no' uso_profesional='no' valora_estetica='sí' solo_electricos='sí' transmision_preferida=<Transmision.MANUAL: 'manual'> apasionado_motor='sí' aventura=<NivelAventura.extrema: 'extrema'>\n",
      "Input prefs type: <class 'graph.perfil.state.PerfilUsuario'>\n",
      "Checking field 'altura_mayor_190': value='sí', type=<class 'str'>\n",
      "Checking field 'peso_mayor_100': value='no', type=<class 'str'>\n",
      "Checking field 'uso_profesional': value='no', type=<class 'str'>\n",
      "Checking field 'valora_estetica': value='sí', type=<class 'str'>\n",
      "Checking field 'solo_electricos': value='sí', type=<class 'str'>\n",
      "Checking field 'transmision_preferida': value='Transmision.MANUAL', type=<enum 'Transmision'>\n",
      "Checking field 'apasionado_motor': value='sí', type=<class 'str'>\n",
      "Checking field 'aventura': value='NivelAventura.extrema', type=<enum 'NivelAventura'>\n",
      "DEBUG (Validation Perfil) ► Todos los campos obligatorios del perfil están presentes.\n",
      "DEBUG (Condición Perfil) ► Perfil COMPLETO. Avanzando a filtros.\n",
      "--- Ejecutando Nodo: inferir_filtros_node ---\n",
      "DEBUG (Filtros) ► Preferencias de usuario disponibles. Procediendo...\n",
      "DEBUG (Filtros) ► Prompt para llm_solo_filtros (parcial): <Role>\n",
      "Eres un asistente técnico experto en vehículos. Tu función es traducir las preferencias generales de un usuario en filtros técnicos específicos para la búsqueda de coches. Debes basarte estrictamente en las preferencias proporcionadas y generar una respuesta JSON que SIEMPRE se ajuste al esquema `ResultadoSoloFiltros`.\n",
      "</Role>\n",
      "\n",
      "<Contexto_Preferencias_Usuario>\n",
      "\n",
      "<Contexto_Preferencias_Usuario>\n",
      "A continuación se detallan las preferencias del usuario recopiladas previamente. Úsalas como base ...\n"
     ]
    },
    {
     "name": "stderr",
     "output_type": "stream",
     "text": [
      "DEBUG:httpcore.http11:receive_response_headers.complete return_value=(b'HTTP/1.1', 200, b'OK', [(b'Date', b'Sun, 04 May 2025 14:03:15 GMT'), (b'Content-Type', b'application/json'), (b'Transfer-Encoding', b'chunked'), (b'Connection', b'keep-alive'), (b'access-control-expose-headers', b'X-Request-ID'), (b'openai-organization', b'user-ic25pcewdjuowsz9q2ektvrn'), (b'openai-processing-ms', b'2618'), (b'openai-version', b'2020-10-01'), (b'x-ratelimit-limit-requests', b'10000'), (b'x-ratelimit-limit-tokens', b'200000'), (b'x-ratelimit-remaining-requests', b'9998'), (b'x-ratelimit-remaining-tokens', b'197296'), (b'x-ratelimit-reset-requests', b'12.978s'), (b'x-ratelimit-reset-tokens', b'810ms'), (b'x-request-id', b'req_f4ddda161f9c3e047561504d5c75c6e4'), (b'strict-transport-security', b'max-age=31536000; includeSubDomains; preload'), (b'cf-cache-status', b'DYNAMIC'), (b'X-Content-Type-Options', b'nosniff'), (b'Server', b'cloudflare'), (b'CF-RAY', b'93a88a49bd7a61ee-MRS'), (b'Content-Encoding', b'gzip'), (b'alt-svc', b'h3=\":443\"; ma=86400')])\n",
      "INFO:httpx:HTTP Request: POST https://api.openai.com/v1/chat/completions \"HTTP/1.1 200 OK\"\n",
      "DEBUG:httpcore.http11:receive_response_body.started request=<Request [b'POST']>\n",
      "DEBUG:httpcore.http11:receive_response_body.complete\n",
      "DEBUG:httpcore.http11:response_closed.started\n",
      "DEBUG:httpcore.http11:response_closed.complete\n",
      "DEBUG:openai._base_client:HTTP Response: POST https://api.openai.com/v1/chat/completions \"200 OK\" Headers({'date': 'Sun, 04 May 2025 14:03:15 GMT', 'content-type': 'application/json', 'transfer-encoding': 'chunked', 'connection': 'keep-alive', 'access-control-expose-headers': 'X-Request-ID', 'openai-organization': 'user-ic25pcewdjuowsz9q2ektvrn', 'openai-processing-ms': '2618', 'openai-version': '2020-10-01', 'x-ratelimit-limit-requests': '10000', 'x-ratelimit-limit-tokens': '200000', 'x-ratelimit-remaining-requests': '9998', 'x-ratelimit-remaining-tokens': '197296', 'x-ratelimit-reset-requests': '12.978s', 'x-ratelimit-reset-tokens': '810ms', 'x-request-id': 'req_f4ddda161f9c3e047561504d5c75c6e4', 'strict-transport-security': 'max-age=31536000; includeSubDomains; preload', 'cf-cache-status': 'DYNAMIC', 'x-content-type-options': 'nosniff', 'server': 'cloudflare', 'cf-ray': '93a88a49bd7a61ee-MRS', 'content-encoding': 'gzip', 'alt-svc': 'h3=\":443\"; ma=86400'})\n",
      "DEBUG:openai._base_client:request_id: req_f4ddda161f9c3e047561504d5c75c6e4\n",
      "DEBUG:openai._base_client:Request options: {'method': 'post', 'url': '/chat/completions', 'headers': {'X-Stainless-Helper-Method': 'beta.chat.completions.parse'}, 'files': None, 'post_parser': <function Completions.parse.<locals>.parser at 0x14b91ede0>, 'json_data': {'messages': [{'content': '<Role>\\nEres un asistente experto en finanzas automotrices. Tu objetivo es recopilar información económica del usuario para ayudarle a definir su presupuesto(modo 1: con criterios de inteligencia financiera), o bien definir un presupuesto basado en sus indicaciones(modo2: indica el mismo cuánto y cómo gastar). Debes generar una respuesta JSON que SIEMPRE se ajuste al siguiente esquema Pydantic:\\n``json\\n{{\\n  \"$defs\": {{\\n    \"EconomiaUsuario\": {{\\n      \"properties\": {{\\n        \"modo\": {{\\n          \"anyOf\": [\\n            {{\\n              \"enum\": [\\n                1,\\n                2\\n              ],\\n              \"type\": \"integer\"\\n            }},\\n            {{\\n              \"type\": \"null\"\\n            }}\\n          ],\\n          \"default\": null,\\n          \"title\": \"Modo\"\\n        }},\\n        \"submodo\": {{\\n          \"anyOf\": [\\n            {{\\n              \"enum\": [\\n                1,\\n                2\\n              ],\\n              \"type\": \"integer\"\\n            }},\\n            {{\\n              \"type\": \"null\"\\n            }}\\n          ],\\n          \"default\": null,\\n          \"title\": \"Submodo\"\\n        }},\\n        \"ingresos\": {{\\n          \"anyOf\": [\\n            {{\\n              \"type\": \"number\"\\n            }},\\n            {{\\n              \"type\": \"null\"\\n            }}\\n          ],\\n          \"default\": null,\\n          \"title\": \"Ingresos\"\\n        }},\\n        \"ahorro\": {{\\n          \"anyOf\": [\\n            {{\\n              \"type\": \"number\"\\n            }},\\n            {{\\n              \"type\": \"null\"\\n            }}\\n          ],\\n          \"default\": null,\\n          \"title\": \"Ahorro\"\\n        }},\\n        \"pago_contado\": {{\\n          \"anyOf\": [\\n            {{\\n              \"type\": \"number\"\\n            }},\\n            {{\\n              \"type\": \"null\"\\n            }}\\n          ],\\n          \"default\": null,\\n          \"title\": \"Pago Contado\"\\n        }},\\n        \"cuota_max\": {{\\n          \"anyOf\": [\\n            {{\\n              \"type\": \"number\"\\n            }},\\n            {{\\n              \"type\": \"null\"\\n            }}\\n          ],\\n          \"default\": null,\\n          \"title\": \"Cuota Max\"\\n        }},\\n        \"entrada\": {{\\n          \"anyOf\": [\\n            {{\\n              \"type\": \"number\"\\n            }},\\n            {{\\n              \"type\": \"null\"\\n            }}\\n          ],\\n          \"default\": null,\\n          \"title\": \"Entrada\"\\n        }}\\n      }},\\n      \"title\": \"EconomiaUsuario\",\\n      \"type\": \"object\"\\n    }}\\n  }},\\n  \"properties\": {{\\n    \"economia\": {{\\n      \"$ref\": \"#/$defs/EconomiaUsuario\"\\n    }},\\n    \"mensaje_validacion\": {{\\n      \"title\": \"Mensaje Validacion\",\\n      \"type\": \"string\"\\n    }}\\n  }},\\n  \"required\": [\\n    \"economia\",\\n    \"mensaje_validacion\"\\n  ],\\n  \"title\": \"ResultadoEconomia\",\\n  \"type\": \"object\"\\n}}\\n\\n</Role>\\n\\n\\n<Instrucciones_Revisadas>\\n1. Analiza la conversación. Intenta determinar el \\'modo\\' (1 o 2) y el \\'submodo\\' (si aplica).\\n2. **REGLA CRÍTICA:**\\n   - Cuando `\"modo\" es None, comienza la conversacion realizando la pregunta filtro:\\n    \"Con el fin de conocer tus preferencias financieras que opcion (modo) prefieres: \\n      1. Prefiero que me aconsejes con criterios de inteligencia financiera.\\n  \\t  2. Prefiero indicar yo mismo cuánto y cómo gastar.\"\\n   - **NO** incluyas `\"modo\": 1` ( Asesoramiento con criterios de inteligencia financiera) en el objeto `economia` A MENOS QUE **TAMBIÉN** tengas valores numéricos para `\"ingresos\"` , `\"ahorro\"` y `\"anos_posesion\"` extraídos de la conversación para incluir en el mismo objeto `economia`.\\n   - **NO** incluyas `\"modo\": 2` (Tú defines presupuesto) y `\"submodo\": 1` A MENOS QUE **TAMBIÉN** tengas un valor numérico para `\"pago_contado\"`.\\n   - **NO** incluyas `\"modo\": 2` (Tú defines presupuesto)  y `\"submodo\": 2` A MENOS QUE **TAMBIÉN** tengas un valor numérico para `\"cuota_max\"`.\\n3. **Si puedes cumplir la REGLA CRÍTICA** para un modo/submodo: Rellena el objeto `economia` con todos los datos que tengas (modo, submodo, y los valores numéricos obligatorios y opcionales como \\'entrada\\'). Usa `null` para campos opcionales no conocidos. En este caso, `mensaje_validacion` puede ser una confirmación breve (ej: \"Ok, datos de Modo 1 recibidos.\") o una cadena vacía `\"\"`.\\n4. **Si NO puedes cumplir la REGLA CRÍTICA** (porque falta un valor numérico obligatorio para el modo/submodo que crees que aplica, o porque ni siquiera sabes el modo):\\n   - El objeto `economia` debe reflejar solo la información que sí tienes de forma segura (podría estar vacío o solo con `modo` si ya se eligió pero faltan datos para validarlo completamente *en este turno*).\\n   - El campo `mensaje_validacion` **DEBE** contener una pregunta **clara y específica** para obtener el **primer dato OBLIGATORIO que falta** para poder cumplir la REGLA CRÍTICA en el siguiente turno (ej: pregunta por `ingresos` si sabes que `modo` es 1; pregunta por `submodo` o `modo` si no se saben).\\n5. No inventes valores. Usa el historial.\\n</Instrucciones_Revisadas>\\n\\n<Ejemplos>\\n\\n**Ejemplo 1: Usuario elige Modo 1 (Asesoramiento), pero LLM necesita preguntar por ingresos**\\n* Contexto (Historial + Último mensaje): `[..., HumanMessage(content=\\'Prefiero que me asesores tú.\\')]`\\n* Salida JSON Esperada:\\n    ```json\\n    {{\\n      \"economia\": {{\\n        \"modo\": 1, // LLM identifica el modo\\n        \"submodo\": null,\\n        \"ingresos\": null, // Aún no tiene el dato obligatorio\\n        \"ahorro\": null,   // Aún no tiene el dato obligatorio\\n        \"pago_contado\": null,\\n        \"cuota_max\": null,\\n        \"entrada\": null\\n      }},\\n      \"mensaje_validacion\": \"Entendido, usaremos el modo asesor financiero. Para poder calcular un presupuesto adecuado, ¿podrías indicarme cuales son tus ingresos netos anuales aproximados?\" // Pregunta por el primer dato faltante\\n    }}\\n    ```\\n\\n**Ejemplo 2: Usuario elige Modo 2 (Define Presupuesto), pero LLM necesita preguntar por submodo (contado/cuotas)**\\n* Contexto (Historial + Último mensaje): `[..., HumanMessage(content=\\'Mejor defino yo el presupuesto.\\')]`\\n* Salida JSON Esperada:\\n    ```json\\n    {{\\n      \"economia\": {{\\n        \"modo\": 2, // LLM identifica el modo\\n        \"submodo\": null, // Falta el submodo obligatorio\\n        \"ingresos\": null,\\n        \"ahorro\": null,\\n        \"pago_contado\": null,\\n        \"cuota_max\": null,\\n        \"entrada\": null\\n      }},\\n      \"mensaje_validacion\": \"De acuerdo, tú defines el presupuesto. ¿Tienes pensado pagar el coche al contado (opción 1) o prefieres financiarlo en cuotas mensuales (opción 2)?\" // Pregunta por el submodo\\n    }}\\n    ```\\n// Ejemplo 3:\\n{{\\n  \"economia\": {{\"modo\": 1, \"submodo\": null, \"ingresos\": 45000.0, \"ahorro\": 10000.0, \"pago_contado\": null, \"cuota_max\": null, \"entrada\": null}},\\n  \"mensaje_validacion\": \"\" // O un mensaje como \"Ok, usaré tus ingresos y ahorros.\"\\n}}\\n\\n\\n</Ejemplos>\\n\\n<Formato esperado>\\nGenera el JSON:\\n{{\\n  \"economia\": {{ ... }},\\n  \"mensaje_validacion\": \"...\"\\n}}', 'role': 'user'}, {'content': 'oye busco un coche para la ciudad', 'role': 'user'}, {'content': '¡Hola! Para ayudarte mejor, hablemos de aventura. ¿Con cuál de estas afirmaciones te identificas más?\\n 1) No pisas nada que no sea asfalto (ninguna)\\n 2) Salidas fuera de asfalto ocasionales (ocasional)\\n 3) Circular en condiciones duras con total garantía (extrema)', 'role': 'assistant'}, {'content': 'la 3', 'role': 'user'}, {'content': '¿Mides más de 1.90 m?', 'role': 'assistant'}, {'content': ' mido 1.90 y peso 80kg', 'role': 'user'}, {'content': 'Entendido: mides 1.90m y tu nivel de aventura es extrema. ¿Uso personal o profesional?', 'role': 'assistant'}, {'content': 'uso personal', 'role': 'user'}, {'content': 'Perfecto, ya tenemos tus preferencias principales. ¿Valoras la estética?', 'role': 'assistant'}, {'content': 'si', 'role': 'user'}, {'content': '¿Qué tipo de transmisión prefieres?\\n 1) Automático\\n 2) Manual\\n 3) Ambos', 'role': 'assistant'}, {'content': 'Manual', 'role': 'user'}, {'content': '¡Estupendo! Creo que ya tengo claras todas tus preferencias principales. ¿Vamos a ver qué características técnicas encajarían?', 'role': 'assistant'}, {'content': 'vale, continua...', 'role': 'user'}, {'content': '¿Quieres solo coches eléctricos?', 'role': 'assistant'}, {'content': 'si, solo electricos', 'role': 'user'}, {'content': '¿Eres un apasionado del motor?', 'role': 'assistant'}, {'content': 'si, lo soy', 'role': 'user'}], 'model': 'gpt-4o-mini', 'response_format': {'type': 'json_schema', 'json_schema': {'schema': {'$defs': {'EconomiaUsuario': {'properties': {'modo': {'anyOf': [{'enum': [1, 2], 'type': 'integer'}, {'type': 'null'}], 'title': 'Modo'}, 'submodo': {'anyOf': [{'enum': [1, 2], 'type': 'integer'}, {'type': 'null'}], 'title': 'Submodo'}, 'ingresos': {'anyOf': [{'type': 'number'}, {'type': 'null'}], 'title': 'Ingresos'}, 'ahorro': {'anyOf': [{'type': 'number'}, {'type': 'null'}], 'title': 'Ahorro'}, 'pago_contado': {'anyOf': [{'type': 'number'}, {'type': 'null'}], 'title': 'Pago Contado'}, 'cuota_max': {'anyOf': [{'type': 'number'}, {'type': 'null'}], 'title': 'Cuota Max'}, 'entrada': {'anyOf': [{'type': 'number'}, {'type': 'null'}], 'title': 'Entrada'}, 'anos_posesion': {'anyOf': [{'type': 'integer'}, {'type': 'null'}], 'description': 'Número estimado de años que el usuario planea conservar el vehículo.', 'title': 'Anos Posesion'}}, 'title': 'EconomiaUsuario', 'type': 'object', 'additionalProperties': False, 'required': ['modo', 'submodo', 'ingresos', 'ahorro', 'pago_contado', 'cuota_max', 'entrada', 'anos_posesion']}}, 'properties': {'economia': {'description': 'Objeto que contiene TODA la información económica recopilada o actualizada.', 'properties': {'modo': {'anyOf': [{'enum': [1, 2], 'type': 'integer'}, {'type': 'null'}], 'title': 'Modo'}, 'submodo': {'anyOf': [{'enum': [1, 2], 'type': 'integer'}, {'type': 'null'}], 'title': 'Submodo'}, 'ingresos': {'anyOf': [{'type': 'number'}, {'type': 'null'}], 'title': 'Ingresos'}, 'ahorro': {'anyOf': [{'type': 'number'}, {'type': 'null'}], 'title': 'Ahorro'}, 'pago_contado': {'anyOf': [{'type': 'number'}, {'type': 'null'}], 'title': 'Pago Contado'}, 'cuota_max': {'anyOf': [{'type': 'number'}, {'type': 'null'}], 'title': 'Cuota Max'}, 'entrada': {'anyOf': [{'type': 'number'}, {'type': 'null'}], 'title': 'Entrada'}, 'anos_posesion': {'anyOf': [{'type': 'integer'}, {'type': 'null'}], 'description': 'Número estimado de años que el usuario planea conservar el vehículo.', 'title': 'Anos Posesion'}}, 'title': 'EconomiaUsuario', 'type': 'object', 'additionalProperties': False, 'required': ['modo', 'submodo', 'ingresos', 'ahorro', 'pago_contado', 'cuota_max', 'entrada', 'anos_posesion']}, 'mensaje_validacion': {'title': 'Mensaje Validacion', 'type': 'string'}}, 'required': ['economia', 'mensaje_validacion'], 'title': 'ResultadoEconomia', 'type': 'object', 'additionalProperties': False}, 'name': 'ResultadoEconomia', 'strict': True}}, 'stream': False, 'temperature': 0.2}}\n",
      "DEBUG:openai._base_client:Sending HTTP Request: POST https://api.openai.com/v1/chat/completions\n",
      "DEBUG:httpcore.connection:connect_tcp.started host='api.openai.com' port=443 local_address=None timeout=None socket_options=None\n",
      "DEBUG:httpcore.connection:connect_tcp.complete return_value=<httpcore._backends.sync.SyncStream object at 0x14b8f0b90>\n",
      "DEBUG:httpcore.connection:start_tls.started ssl_context=<ssl.SSLContext object at 0x13841f770> server_hostname='api.openai.com' timeout=None\n",
      "DEBUG:httpcore.connection:start_tls.complete return_value=<httpcore._backends.sync.SyncStream object at 0x14c21bcd0>\n",
      "DEBUG:httpcore.http11:send_request_headers.started request=<Request [b'POST']>\n",
      "DEBUG:httpcore.http11:send_request_headers.complete\n",
      "DEBUG:httpcore.http11:send_request_body.started request=<Request [b'POST']>\n",
      "DEBUG:httpcore.http11:send_request_body.complete\n",
      "DEBUG:httpcore.http11:receive_response_headers.started request=<Request [b'POST']>\n"
     ]
    },
    {
     "name": "stdout",
     "output_type": "stream",
     "text": [
      "DEBUG (Filtros) ► Respuesta llm_solo_filtros: filtros_inferidos=FiltrosInferidos(estetica_min=5.0, tipo_mecanica=[<TipoMecanica.BEV: 'BEV'>, <TipoMecanica.REEV: 'REEV'>], premium_min=5.0, singular_min=5.0, tipo_carroceria=['SUV'], modo_adquisicion_recomendado='Contado', precio_max_contado_recomendado=None, cuota_max_calculada=None) mensaje_validacion='Ok, he definido los filtros técnicos basados en tus preferencias.'\n",
      "\n",
      "--- DEBUG DENTRO PostProc Filtros ---\n",
      "Recibido Prefs: altura_mayor_190='sí' peso_mayor_100='no' uso_profesional='no' valora_estetica='sí' solo_electricos='sí' transmision_preferida=<Transmision.MANUAL: 'manual'> apasionado_motor='sí' aventura=<NivelAventura.extrema: 'extrema'>\n",
      "Recibido Filtros (antes): estetica_min=5.0 tipo_mecanica=[<TipoMecanica.BEV: 'BEV'>, <TipoMecanica.REEV: 'REEV'>] premium_min=5.0 singular_min=5.0 tipo_carroceria=['SUV'] modo_adquisicion_recomendado='Contado' precio_max_contado_recomendado=None cuota_max_calculada=None\n",
      "DEBUG PostProc Filtros: Valor de valora_estetica_val = 'sí' (Tipo: <class 'str'>)\n",
      "DEBUG PostProc Filtros: Resultado de is_yes(valora_estetica_val) = True\n",
      "DEBUG (PostProc Filtros) ► Aplicando regla: valora_estetica='sí' -> estetica_min=5.0\n",
      "DEBUG PostProc Filtros: Valor de apasionado_motor_val = 'sí' (Tipo: <class 'str'>)\n",
      "DEBUG PostProc Filtros: Resultado de is_yes(apasionado_motor_val) = True\n",
      "DEBUG (PostProc Filtros) ► Aplicando regla: apasionado_motor='sí' -> premium/singular_min=5.0\n",
      "DEBUG (PostProc Filtros) ► Filtros tras post-procesamiento: estetica_min=6.0 tipo_mecanica=[<TipoMecanica.BEV: 'BEV'>, <TipoMecanica.REEV: 'REEV'>] premium_min=6.0 singular_min=6.0 tipo_carroceria=['SUV'] modo_adquisicion_recomendado='Contado' precio_max_contado_recomendado=None cuota_max_calculada=None\n",
      "DEBUG (Filtros) ► Filtros TRAS post-procesamiento: estetica_min=6.0 tipo_mecanica=[<TipoMecanica.BEV: 'BEV'>, <TipoMecanica.REEV: 'REEV'>] premium_min=6.0 singular_min=6.0 tipo_carroceria=['SUV'] modo_adquisicion_recomendado='Contado' precio_max_contado_recomendado=None cuota_max_calculada=None\n",
      "DEBUG (Filtros) ► Estado filtros_inferidos actualizado: estetica_min=6.0 tipo_mecanica=[<TipoMecanica.BEV: 'BEV'>, <TipoMecanica.REEV: 'REEV'>] premium_min=6.0 singular_min=6.0 tipo_carroceria=['SUV'] modo_adquisicion_recomendado='Contado' precio_max_contado_recomendado=None cuota_max_calculada=None\n",
      "DEBUG (Filtros) ► Guardando pregunta pendiente: Ok, he definido los filtros técnicos basados en tus preferencias.\n",
      "--- Ejecutando Nodo: validar_filtros_node ---\n",
      "DEBUG (Validation Filtros) ► Todos los campos obligatorios de filtros ('tipo_mecanica') están presentes y válidos.\n",
      "DEBUG (Filtros) ► Validación: FiltrosInferidos considerados COMPLETOS.\n",
      "--- Evaluando Condición: ruta_decision_filtros ---\n",
      "DEBUG (Validation Filtros) ► Todos los campos obligatorios de filtros ('tipo_mecanica') están presentes y válidos.\n",
      "DEBUG (Condición Filtros) ► Filtros COMPLETOS. Avanzando a economía.\n",
      "--- Ejecutando Nodo: recopilar_economia_node ---\n",
      "DEBUG (Economía) ► Llamando a llm_economia...\n"
     ]
    },
    {
     "name": "stderr",
     "output_type": "stream",
     "text": [
      "DEBUG:httpcore.http11:receive_response_headers.complete return_value=(b'HTTP/1.1', 200, b'OK', [(b'Date', b'Sun, 04 May 2025 14:03:17 GMT'), (b'Content-Type', b'application/json'), (b'Transfer-Encoding', b'chunked'), (b'Connection', b'keep-alive'), (b'access-control-expose-headers', b'X-Request-ID'), (b'openai-organization', b'user-ic25pcewdjuowsz9q2ektvrn'), (b'openai-processing-ms', b'2445'), (b'openai-version', b'2020-10-01'), (b'x-ratelimit-limit-requests', b'10000'), (b'x-ratelimit-limit-tokens', b'200000'), (b'x-ratelimit-remaining-requests', b'9997'), (b'x-ratelimit-remaining-tokens', b'198052'), (b'x-ratelimit-reset-requests', b'18.625s'), (b'x-ratelimit-reset-tokens', b'584ms'), (b'x-request-id', b'req_684e3b35b4cf7e380107dc10741e7b3a'), (b'strict-transport-security', b'max-age=31536000; includeSubDomains; preload'), (b'cf-cache-status', b'DYNAMIC'), (b'Set-Cookie', b'__cf_bm=G6O43gZOw87y.TBP7PRj0evyGwoX_u4_8rZsucVgPDQ-1746367397-1.0.1.1-sKEBC_NG9ML5hQyJlP9.gXM8WMjbi_0ZzEtFjwPMv5omO5gs7YJ1aYbp_tgttjyeWlwHJT753vChy9T7j.DF8X5MTcz8iiNxcYX9zYv2HLA; path=/; expires=Sun, 04-May-25 14:33:17 GMT; domain=.api.openai.com; HttpOnly; Secure; SameSite=None'), (b'X-Content-Type-Options', b'nosniff'), (b'Set-Cookie', b'_cfuvid=tjAYbme6TxhwuN4gZpDvbajtHYq7V8s4qc6ODRic7h8-1746367397891-0.0.1.1-604800000; path=/; domain=.api.openai.com; HttpOnly; Secure; SameSite=None'), (b'Server', b'cloudflare'), (b'CF-RAY', b'93a88a5c59c6193e-BCN'), (b'Content-Encoding', b'gzip'), (b'alt-svc', b'h3=\":443\"; ma=86400')])\n",
      "INFO:httpx:HTTP Request: POST https://api.openai.com/v1/chat/completions \"HTTP/1.1 200 OK\"\n",
      "DEBUG:httpcore.http11:receive_response_body.started request=<Request [b'POST']>\n",
      "DEBUG:httpcore.http11:receive_response_body.complete\n",
      "DEBUG:httpcore.http11:response_closed.started\n",
      "DEBUG:httpcore.http11:response_closed.complete\n",
      "DEBUG:openai._base_client:HTTP Response: POST https://api.openai.com/v1/chat/completions \"200 OK\" Headers([('date', 'Sun, 04 May 2025 14:03:17 GMT'), ('content-type', 'application/json'), ('transfer-encoding', 'chunked'), ('connection', 'keep-alive'), ('access-control-expose-headers', 'X-Request-ID'), ('openai-organization', 'user-ic25pcewdjuowsz9q2ektvrn'), ('openai-processing-ms', '2445'), ('openai-version', '2020-10-01'), ('x-ratelimit-limit-requests', '10000'), ('x-ratelimit-limit-tokens', '200000'), ('x-ratelimit-remaining-requests', '9997'), ('x-ratelimit-remaining-tokens', '198052'), ('x-ratelimit-reset-requests', '18.625s'), ('x-ratelimit-reset-tokens', '584ms'), ('x-request-id', 'req_684e3b35b4cf7e380107dc10741e7b3a'), ('strict-transport-security', 'max-age=31536000; includeSubDomains; preload'), ('cf-cache-status', 'DYNAMIC'), ('set-cookie', '__cf_bm=G6O43gZOw87y.TBP7PRj0evyGwoX_u4_8rZsucVgPDQ-1746367397-1.0.1.1-sKEBC_NG9ML5hQyJlP9.gXM8WMjbi_0ZzEtFjwPMv5omO5gs7YJ1aYbp_tgttjyeWlwHJT753vChy9T7j.DF8X5MTcz8iiNxcYX9zYv2HLA; path=/; expires=Sun, 04-May-25 14:33:17 GMT; domain=.api.openai.com; HttpOnly; Secure; SameSite=None'), ('x-content-type-options', 'nosniff'), ('set-cookie', '_cfuvid=tjAYbme6TxhwuN4gZpDvbajtHYq7V8s4qc6ODRic7h8-1746367397891-0.0.1.1-604800000; path=/; domain=.api.openai.com; HttpOnly; Secure; SameSite=None'), ('server', 'cloudflare'), ('cf-ray', '93a88a5c59c6193e-BCN'), ('content-encoding', 'gzip'), ('alt-svc', 'h3=\":443\"; ma=86400')])\n",
      "DEBUG:openai._base_client:request_id: req_684e3b35b4cf7e380107dc10741e7b3a\n"
     ]
    },
    {
     "name": "stdout",
     "output_type": "stream",
     "text": [
      "DEBUG (Economía) ► Respuesta llm_economia: economia=EconomiaUsuario(modo=None, submodo=None, ingresos=None, ahorro=None, pago_contado=None, cuota_max=None, entrada=None, anos_posesion=None) mensaje_validacion='Con el fin de conocer tus preferencias financieras que opción (modo) prefieres: 1. Prefiero que me aconsejes con criterios de inteligencia financiera. 2. Prefiero indicar yo mismo cuánto y cómo gastar.'\n",
      "DEBUG (Economía) ► Estado economía actualizado: modo=None submodo=None ingresos=None ahorro=None pago_contado=None cuota_max=None entrada=None anos_posesion=None\n",
      "DEBUG (Economía) ► Guardando pregunta pendiente: Con el fin de conocer tus preferencias financieras que opción (modo) prefieres: 1. Prefiero que me aconsejes con criterios de inteligencia financiera. 2. Prefiero indicar yo mismo cuánto y cómo gastar.\n",
      "--- Ejecutando Nodo: validar_economia_node ---\n",
      "--- DEBUG CHECK ECONOMIA (Manual) ---\n",
      "Input econ object: modo=None submodo=None ingresos=None ahorro=None pago_contado=None cuota_max=None entrada=None anos_posesion=None\n",
      "DEBUG (Validation Economía Manual) ► econ.modo es None.\n",
      "DEBUG (Economía) ► Validación: Economía considerada INCOMPLETA.\n",
      "--- Evaluando Condición: ruta_decision_economia ---\n",
      "--- DEBUG CHECK ECONOMIA (Manual) ---\n",
      "Input econ object: modo=None submodo=None ingresos=None ahorro=None pago_contado=None cuota_max=None entrada=None anos_posesion=None\n",
      "DEBUG (Validation Economía Manual) ► econ.modo es None.\n",
      "DEBUG (Condición Economía) ► Economía INCOMPLETA. Se necesita pregunta.\n",
      "--- Ejecutando Nodo: preguntar_economia_node ---\n",
      "DEBUG (Preguntar Economía) ► Usando pregunta guardada: Con el fin de conocer tus preferencias financieras que opción (modo) prefieres: 1. Prefiero que me aconsejes con criterios de inteligencia financiera. 2. Prefiero indicar yo mismo cuánto y cómo gastar.\n",
      "DEBUG (Preguntar Economía) ► Mensaje final añadido: Con el fin de conocer tus preferencias financieras que opción (modo) prefieres: 1. Prefiero que me aconsejes con criterios de inteligencia financiera. 2. Prefiero indicar yo mismo cuánto y cómo gastar.\n",
      "==================================\u001b[1m Ai Message \u001b[0m==================================\n",
      "\n",
      "Con el fin de conocer tus preferencias financieras que opción (modo) prefieres: 1. Prefiero que me aconsejes con criterios de inteligencia financiera. 2. Prefiero indicar yo mismo cuánto y cómo gastar.\n"
     ]
    }
   ],
   "source": [
    "config = {\"configurable\": {\"thread_id\": \"1\"}}\n",
    "\n",
    "# Start conversation\n",
    "input_message = HumanMessage(content=\"si, lo soy\")\n",
    "output = graph.invoke({\"messages\": [input_message]}, config) \n",
    "for m in output['messages'][-1:]:\n",
    "    m.pretty_print()"
   ]
  },
  {
   "cell_type": "code",
   "execution_count": 11,
   "metadata": {},
   "outputs": [
    {
     "name": "stderr",
     "output_type": "stream",
     "text": [
      "DEBUG:openai._base_client:Request options: {'method': 'post', 'url': '/chat/completions', 'headers': {'X-Stainless-Helper-Method': 'beta.chat.completions.parse'}, 'files': None, 'post_parser': <function Completions.parse.<locals>.parser at 0x14b91e700>, 'json_data': {'messages': [{'content': '<Role>\\nEres un asistente de conversación amigable y metodológico. Tu misión actual es conocer las preferencias generales y el perfil básico de un usuario que busca un coche (`PerfilUsuario`). Debes seguir las reglas especificadas y generar SIEMPRE un objeto JSON válido que cumpla el esquema `ResultadoSoloPerfil`. Mantén un tono cercano.\\n</Role>\\n\\n<Esquema_JSON_Requerido>\\nLa estructura JSON que DEBES generar es la siguiente:\\n```json\\n{{\\n  \"$defs\": {\\n    \"NivelAventura\": {\\n      \"enum\": [\\n        \"ninguna\",\\n        \"ocasional\",\\n        \"extrema\"\\n      ],\\n      \"title\": \"NivelAventura\",\\n      \"type\": \"string\"\\n    },\\n    \"PerfilUsuario\": {\\n      \"properties\": {\\n        \"altura_mayor_190\": {\\n          \"anyOf\": [\\n            {\\n              \"type\": \"string\"\\n            },\\n            {\\n              \"type\": \"null\"\\n            }\\n          ],\\n          \"description\": \"\\\\u00bfEl usuario mide m\\\\u00e1s de 1.90 metros? Responde \\'s\\\\u00ed\\' o \\'no\\'\",\\n          \"title\": \"Altura Mayor 190\"\\n        },\\n...\\n  ],\\n  \"title\": \"ResultadoSoloPerfil\",\\n  \"type\": \"object\"\\n}}\\n</Esquema_JSON_Requerido>\\n\\n<Reglas_Generales>\\n\\n1. Analiza TODO el historial de la conversación y el último mensaje del usuario para extraer/inferir valores para TODOS los campos de preferencias_usuario. Usa null si no hay información.\\n2. Haz solo preguntas relevantes según los campos de PerfilUsuario que falten y no repitas preguntas que ya hayan sido respondidas explícita o implícitamente.\\n3. PROHIBIDO preguntar por temas fuera de PerfilUsuario en esta etapa (NO preguntar por precio, consumo, filtros técnicos como tipo_mecanica, tecnología, seguridad, maletero, etc.).\\n4. Usa el campo mensaje_validacion para formular la siguiente pregunta necesaria o para confirmar que el perfil está completo. </Reglas_Generales>\\n</Reglas_Generales>\\n\\n<Reglas_Preguntas_Especificas>\\n\\nUsa estas preguntas EXACTAS cuando necesites preguntar por estos campos de PerfilUsuario:\\n\\naltura_mayor_190: \"¿Mides más de 1.90 m?\"\\npeso_mayor_100: \"¿Pesas más de 100 kg?\"\\nuso_profesional: \"¿Uso personal o profesional?\"\\nvalora_estetica: \"¿Valoras la estética?\"\\nsolo_electricos: \"¿Quieres solo coches eléctricos?\"\\ntransmision_preferida: (Si falta y es relevante preguntar) \"¿Qué tipo de transmisión prefieres?\\\\n 1) Automático\\\\n 2) Manual\\\\n 3) Ambos\"\\napasionado_motor: \"¿Eres un apasionado del motor?\"\\nManejo de aventura: Si no se ha preguntado por aventura y no se puede inferir un valor (ninguna, ocasional, extrema), deja \"aventura\": null en preferencias_usuario y USA UNO de los siguientes templates EXACTOS en mensaje_validacion (elige el que te parezca más natural en el contexto):\\n\\n<Aventura_Templates>\\n\\nTemplate 1: “Hablando de aventura, ¿con cuál de estas afirmaciones te identificas más?\\\\n 1) No pisas nada que no sea asfalto (ninguna)\\\\n 2) Salidas fuera de asfalto ocasionales (ocasional)\\\\n 3) Circular en condiciones duras con total garantía (extrema)”\\nTemplate 2: “Para conocer tu espíritu aventurero, dime:\\\\n 1) Solo asfalto (ninguna)\\\\n 2) Salidas off‑road de vez en cuando (ocasional)\\\\n 3) Aventurero extremo en terrenos difíciles (extrema)” </Aventura_Templates>\\nConfirmación de Perfil Completo: Si consideras que todos los campos necesarios de PerfilUsuario ya tienen un valor (no null), usa un mensaje de confirmación en mensaje_validacion. Ejemplo: \"¡Perfecto! Ya tenemos tus preferencias principales. ¿Pasamos a los detalles técnicos?\" o simplemente \"\".\\n</Reglas_Preguntas_Especificas>\\n\\n<Ejemplos_Perfil>\\n\\nEjemplo 1: Inicio, pregunta por Aventura\\n\\nContexto (Historial + Último mensaje): [HumanMessage(content=\\'Hola, dime quién eres\\')]\\nSalida JSON Esperada:\\nJSON\\n\\n{\\n  \"preferencias_usuario\": {\\n    \"altura_mayor_190\": null, \"peso_mayor_100\": null, \"uso_profesional\": null, \\n    \"valora_estetica\": null, \"solo_electricos\": null, \"transmision_preferida\": null, \\n    \"apasionado_motor\": null, \"aventura\": null \\n  },\\n  \"mensaje_validacion\": \"¡Hola! Soy Mentor, tu asistente para encontrar el coche perfecto. Analizo tus necesidades y preferencias. Para empezar, hablando de aventura, ¿con cuál de estas afirmaciones te identificas más?\\\\n  1) No pisas nada que no sea asfalto (ninguna)\\\\n  2) Salidas fuera de asfalto ocasionales (ocasional)\\\\n  3) Circular en condiciones duras con total garantía (extrema)\"\\n}\\n\\nEjemplo 2: Usuario da altura, estética y uso; pregunta por Transmisión\\n\\nContexto: [..., HumanMessage(content=\\'Mido 1.95m y me gustan los coches con buen diseño. Quiero algo para ir al trabajo.\\')]\\nSalida JSON Esperada:\\nJSON\\n\\n{\\n  \"preferencias_usuario\": {\\n    \"altura_mayor_190\": \"sí\", \"peso_mayor_100\": null, \"uso_profesional\": \"sí\", \\n    \"valora_estetica\": \"sí\", \"solo_electricos\": null, \"transmision_preferida\": null, \\n    \"apasionado_motor\": null, \"aventura\": null \\n  },\\n  \"mensaje_validacion\": \"Entendido: mides más de 1.90m, valoras la estética y es para uso profesional. ¿Qué tipo de transmisión prefieres?\\\\n  1) Automático\\\\n  2) Manual\\\\n  3) Ambos\" \\n}\\n(Nota: En este ejemplo, asumimos que preguntar por transmisión es prioritario sobre aventura según tu lógica interna o la del LLM)\\n\\nEjemplo 3: Perfil completo, mensaje de confirmación\\n\\nContexto: [..., HumanMessage(content=\\'Prefiero automático, no quiero solo eléctricos, y no soy apasionado del motor. Uso personal y solo asfalto. No soy alto ni pesado.\\')]\\nSalida JSON Esperada:\\nJSON\\n\\n{\\n  \"preferencias_usuario\": {\\n    \"altura_mayor_190\": \"no\", \"peso_mayor_100\": \"no\", \"uso_profesional\": \"no\", \\n    \"valora_estetica\": \"sí\", # Asumiendo que se preguntó/infirió antes\\n    \"solo_electricos\": \"no\", \"transmision_preferida\": \"automatico\", \\n    \"apasionado_motor\": \"no\", \"aventura\": \"ninguna\" \\n  },\\n  \"mensaje_validacion\": \"¡Estupendo! Creo que ya tengo claras todas tus preferencias principales. ¿Vamos a ver qué características técnicas encajarían?\" \\n}\\n</Ejemplos_Perfil>\\n\\n<Formato_Salida_JSON_Final>\\nGenera únicamente el objeto JSON completo y válido solicitado que cumpla el esquema ResultadoSoloPerfil, sin añadir ningún texto antes o después.\\n\\nJSON\\n\\n{\\n  \"preferencias_usuario\": { ... },\\n  \"mensaje_validacion\": \"<string>\"\\n}\\n</Formato_Salida_JSON_Final>', 'role': 'user'}, {'content': 'oye busco un coche para la ciudad', 'role': 'user'}, {'content': '¡Hola! Para ayudarte mejor, hablemos de aventura. ¿Con cuál de estas afirmaciones te identificas más?\\n 1) No pisas nada que no sea asfalto (ninguna)\\n 2) Salidas fuera de asfalto ocasionales (ocasional)\\n 3) Circular en condiciones duras con total garantía (extrema)', 'role': 'assistant'}, {'content': 'la 3', 'role': 'user'}, {'content': '¿Mides más de 1.90 m?', 'role': 'assistant'}, {'content': ' mido 1.90 y peso 80kg', 'role': 'user'}, {'content': 'Entendido: mides 1.90m y tu nivel de aventura es extrema. ¿Uso personal o profesional?', 'role': 'assistant'}, {'content': 'uso personal', 'role': 'user'}, {'content': 'Perfecto, ya tenemos tus preferencias principales. ¿Valoras la estética?', 'role': 'assistant'}, {'content': 'si', 'role': 'user'}, {'content': '¿Qué tipo de transmisión prefieres?\\n 1) Automático\\n 2) Manual\\n 3) Ambos', 'role': 'assistant'}, {'content': 'Manual', 'role': 'user'}, {'content': '¡Estupendo! Creo que ya tengo claras todas tus preferencias principales. ¿Vamos a ver qué características técnicas encajarían?', 'role': 'assistant'}, {'content': 'vale, continua...', 'role': 'user'}, {'content': '¿Quieres solo coches eléctricos?', 'role': 'assistant'}, {'content': 'si, solo electricos', 'role': 'user'}, {'content': '¿Eres un apasionado del motor?', 'role': 'assistant'}, {'content': 'si, lo soy', 'role': 'user'}, {'content': 'Con el fin de conocer tus preferencias financieras que opción (modo) prefieres: 1. Prefiero que me aconsejes con criterios de inteligencia financiera. 2. Prefiero indicar yo mismo cuánto y cómo gastar.', 'role': 'assistant'}, {'content': 'opcion 1', 'role': 'user'}], 'model': 'gpt-4o-mini', 'response_format': {'type': 'json_schema', 'json_schema': {'schema': {'$defs': {'NivelAventura': {'enum': ['ninguna', 'ocasional', 'extrema'], 'title': 'NivelAventura', 'type': 'string'}, 'PerfilUsuario': {'properties': {'altura_mayor_190': {'anyOf': [{'type': 'string'}, {'type': 'null'}], 'description': \"¿El usuario mide más de 1.90 metros? Responde 'sí' o 'no'\", 'title': 'Altura Mayor 190'}, 'peso_mayor_100': {'anyOf': [{'type': 'string'}, {'type': 'null'}], 'description': \"¿El usuario pesa más de 100 kg? Responde 'sí' o 'no'\", 'title': 'Peso Mayor 100'}, 'uso_profesional': {'anyOf': [{'type': 'string'}, {'type': 'null'}], 'description': \"¿Usará el coche para trabajo? Responde 'sí' o 'no'\", 'title': 'Uso Profesional'}, 'valora_estetica': {'anyOf': [{'type': 'string'}, {'type': 'null'}], 'description': \"¿Valora la estética del coche? Responde 'sí' o 'no'\", 'title': 'Valora Estetica'}, 'solo_electricos': {'anyOf': [{'type': 'string'}, {'type': 'null'}], 'description': \"¿Quiere solo coches eléctricos? Responde 'sí' o 'no'\", 'title': 'Solo Electricos'}, 'transmision_preferida': {'anyOf': [{'$ref': '#/$defs/Transmision'}, {'type': 'null'}], 'description': '¿Qué transmisión prefieres: automático, manual o ambos?'}, 'apasionado_motor': {'anyOf': [{'type': 'string'}, {'type': 'null'}], 'description': \"¿Eres un apasionado/a del motor y/o la movilidad? Responde 'sí' o 'no'\", 'title': 'Apasionado Motor'}, 'aventura': {'anyOf': [{'$ref': '#/$defs/NivelAventura'}, {'type': 'null'}], 'description': \"¿Qué nivel de aventura buscas con tu vehículo: 'ninguna', 'ocasional' o 'extrema'?\"}}, 'title': 'PerfilUsuario', 'type': 'object', 'additionalProperties': False, 'required': ['altura_mayor_190', 'peso_mayor_100', 'uso_profesional', 'valora_estetica', 'solo_electricos', 'transmision_preferida', 'apasionado_motor', 'aventura']}, 'Transmision': {'enum': ['automático', 'manual', 'ambos'], 'title': 'Transmision', 'type': 'string'}}, 'description': 'Salida esperada del LLM enfocado solo en el perfil del usuario.', 'properties': {'preferencias_usuario': {'$ref': '#/$defs/PerfilUsuario'}, 'mensaje_validacion': {'description': 'Pregunta de seguimiento CLARA y CORTA si falta información ESENCIAL para completar el PerfilUsuario, o un mensaje de confirmación si el perfil está completo.', 'title': 'Mensaje Validacion', 'type': 'string'}}, 'required': ['preferencias_usuario', 'mensaje_validacion'], 'title': 'ResultadoSoloPerfil', 'type': 'object', 'additionalProperties': False}, 'name': 'ResultadoSoloPerfil', 'strict': True}}, 'stream': False, 'temperature': 0.2}}\n",
      "DEBUG:openai._base_client:Sending HTTP Request: POST https://api.openai.com/v1/chat/completions\n",
      "DEBUG:httpcore.connection:close.started\n",
      "DEBUG:httpcore.connection:close.complete\n",
      "DEBUG:httpcore.connection:connect_tcp.started host='api.openai.com' port=443 local_address=None timeout=None socket_options=None\n",
      "DEBUG:httpcore.connection:connect_tcp.complete return_value=<httpcore._backends.sync.SyncStream object at 0x14b86f350>\n",
      "DEBUG:httpcore.connection:start_tls.started ssl_context=<ssl.SSLContext object at 0x11f6eccb0> server_hostname='api.openai.com' timeout=None\n",
      "DEBUG:httpcore.connection:start_tls.complete return_value=<httpcore._backends.sync.SyncStream object at 0x14b975b90>\n",
      "DEBUG:httpcore.http11:send_request_headers.started request=<Request [b'POST']>\n",
      "DEBUG:httpcore.http11:send_request_headers.complete\n",
      "DEBUG:httpcore.http11:send_request_body.started request=<Request [b'POST']>\n",
      "DEBUG:httpcore.http11:send_request_body.complete\n",
      "DEBUG:httpcore.http11:receive_response_headers.started request=<Request [b'POST']>\n"
     ]
    },
    {
     "name": "stdout",
     "output_type": "stream",
     "text": [
      "--- Ejecutando Nodo: recopilar_preferencias_node ---\n",
      "DEBUG (Perfil) ► Último mensaje es HumanMessage o historial vacío, llamando a llm_solo_perfil...\n"
     ]
    },
    {
     "name": "stderr",
     "output_type": "stream",
     "text": [
      "DEBUG:httpcore.http11:receive_response_headers.complete return_value=(b'HTTP/1.1', 200, b'OK', [(b'Date', b'Sun, 04 May 2025 14:04:01 GMT'), (b'Content-Type', b'application/json'), (b'Transfer-Encoding', b'chunked'), (b'Connection', b'keep-alive'), (b'access-control-expose-headers', b'X-Request-ID'), (b'openai-organization', b'user-ic25pcewdjuowsz9q2ektvrn'), (b'openai-processing-ms', b'3509'), (b'openai-version', b'2020-10-01'), (b'x-ratelimit-limit-requests', b'10000'), (b'x-ratelimit-limit-tokens', b'200000'), (b'x-ratelimit-remaining-requests', b'9999'), (b'x-ratelimit-remaining-tokens', b'198172'), (b'x-ratelimit-reset-requests', b'8.64s'), (b'x-ratelimit-reset-tokens', b'548ms'), (b'x-request-id', b'req_20825d1d57ce2c3c7a70461d46225384'), (b'strict-transport-security', b'max-age=31536000; includeSubDomains; preload'), (b'cf-cache-status', b'DYNAMIC'), (b'X-Content-Type-Options', b'nosniff'), (b'Server', b'cloudflare'), (b'CF-RAY', b'93a88b674cd62fa1-MAD'), (b'Content-Encoding', b'gzip'), (b'alt-svc', b'h3=\":443\"; ma=86400')])\n",
      "INFO:httpx:HTTP Request: POST https://api.openai.com/v1/chat/completions \"HTTP/1.1 200 OK\"\n",
      "DEBUG:httpcore.http11:receive_response_body.started request=<Request [b'POST']>\n",
      "DEBUG:httpcore.http11:receive_response_body.complete\n",
      "DEBUG:httpcore.http11:response_closed.started\n",
      "DEBUG:httpcore.http11:response_closed.complete\n",
      "DEBUG:openai._base_client:HTTP Response: POST https://api.openai.com/v1/chat/completions \"200 OK\" Headers({'date': 'Sun, 04 May 2025 14:04:01 GMT', 'content-type': 'application/json', 'transfer-encoding': 'chunked', 'connection': 'keep-alive', 'access-control-expose-headers': 'X-Request-ID', 'openai-organization': 'user-ic25pcewdjuowsz9q2ektvrn', 'openai-processing-ms': '3509', 'openai-version': '2020-10-01', 'x-ratelimit-limit-requests': '10000', 'x-ratelimit-limit-tokens': '200000', 'x-ratelimit-remaining-requests': '9999', 'x-ratelimit-remaining-tokens': '198172', 'x-ratelimit-reset-requests': '8.64s', 'x-ratelimit-reset-tokens': '548ms', 'x-request-id': 'req_20825d1d57ce2c3c7a70461d46225384', 'strict-transport-security': 'max-age=31536000; includeSubDomains; preload', 'cf-cache-status': 'DYNAMIC', 'x-content-type-options': 'nosniff', 'server': 'cloudflare', 'cf-ray': '93a88b674cd62fa1-MAD', 'content-encoding': 'gzip', 'alt-svc': 'h3=\":443\"; ma=86400'})\n",
      "DEBUG:openai._base_client:request_id: req_20825d1d57ce2c3c7a70461d46225384\n",
      "DEBUG:openai._base_client:Request options: {'method': 'post', 'url': '/chat/completions', 'headers': {'X-Stainless-Helper-Method': 'beta.chat.completions.parse'}, 'files': None, 'post_parser': <function Completions.parse.<locals>.parser at 0x14b91d760>, 'json_data': {'messages': [{'content': '<Role>\\nEres un asistente técnico experto en vehículos. Tu función es traducir las preferencias generales de un usuario en filtros técnicos específicos para la búsqueda de coches. Debes basarte estrictamente en las preferencias proporcionadas y generar una respuesta JSON que SIEMPRE se ajuste al esquema `ResultadoSoloFiltros`.\\n</Role>\\n\\n<Contexto_Preferencias_Usuario>\\n\\n<Contexto_Preferencias_Usuario>\\nA continuación se detallan las preferencias del usuario recopiladas previamente. Úsalas como base INDISPENSABLE para tu inferencia:\\n```json\\n{\\'altura_mayor_190\\': \\'sí\\', \\'peso_mayor_100\\': \\'no\\', \\'uso_profesional\\': \\'no\\', \\'valora_estetica\\': \\'sí\\', \\'solo_electricos\\': \\'sí\\', \\'transmision_preferida\\': \\'manual\\', \\'apasionado_motor\\': \\'sí\\', \\'aventura\\': \\'extrema\\'}\\n</Contexto_Preferencias_Usuario>\\n\\n<Esquema_JSON_Requerido>\\nA continuación se detallan las preferencias del usuario recopiladas previamente. Úsalas como base INDISPENSABLE para tu inferencia:\\n{\\n  \"$defs\": {\\n    \"FiltrosInferidos\": {\\n      \"properties\": {\\n        \"estetica_min\": {\\n          \"anyOf\": [\\n            {\\n              \"type\": \"number\"\\n            },\\n            {\\n              \"type\": \"null\"\\n            }\\n          ],\\n          \"default\": null,\\n          \"description\": \"M\\\\u00ednimo valor de est\\\\u00e9tica recomendado (0.0 a 10.0)\",\\n          \"title\": \"Estetica Min\"\\n        },\\n        \"tipo_mecanica\": {\\n          \"anyOf\": [\\n            {\\n              \"items\": {\\n                \"$ref\": \"#/$defs/TipoMecanica\"\\n              },\\n              \"type\": \"array\"\\n            },\\n            {\\n              \"type\": \"null\"\\n            }\\n          ],\\n          \"default\": null,\\n          \"description\": \"Lista de motorizaciones recomendadas\",\\n          \"title\": \"Tipo Mecanica\"\\n        },\\n        \"premium_min\": {\\n          \"anyOf\": [\\n            {\\n              \"type\": \"number\"\\n            },\\n            {\\n              \"type\": \"null\"\\n            }\\n          ],\\n          \"default\": null,\\n          \"description\": \"M\\\\u00ednimo valor de premium recomendado (0.0 a 10.0)\",\\n          \"title\": \"Premium Min\"\\n        },\\n        \"singular_min\": {\\n          \"anyOf\": [\\n            {\\n              \"type\": \"number\"\\n            },\\n            {\\n              \"type\": \"null\"\\n            }\\n          ],\\n          \"default\": null,\\n          \"description\": \"M\\\\u00ednimo valor de singularidad recomendado (0.0 a 10.0)\",\\n          \"title\": \"Singular Min\"\\n        },\\n        \"tipo_carroceria\": {\\n          \"anyOf\": [\\n            {\\n              \"items\": {\\n                \"type\": \"string\"\\n              },\\n              \"type\": \"array\"\\n            },\\n            {\\n              \"type\": \"null\"\\n            }\\n          ],\\n          \"default\": null,\\n          \"description\": \"Lista de tipos de carrocer\\\\u00eda recomendados por RAG (ej: [\\'SUV\\', \\'COUPE\\'])\",\\n          \"title\": \"Tipo Carroceria\"\\n        },\\n        \"modo_adquisicion_recomendado\": {\\n          \"anyOf\": [\\n            {\\n              \"enum\": [\\n                \"Contado\",\\n                \"Financiado\"\\n              ],\\n              \"type\": \"string\"\\n            },\\n            {\\n              \"type\": \"null\"\\n            }\\n          ],\\n          \"default\": null,\\n          \"description\": \"Modo de compra recomendado (Contado/Financiado) basado en an\\\\u00e1lisis Modo 1.\",\\n          \"title\": \"Modo Adquisicion Recomendado\"\\n        },\\n        \"precio_max_contado_recomendado\": {\\n          \"anyOf\": [\\n            {\\n              \"type\": \"number\"\\n            },\\n            {\\n              \"type\": \"null\"\\n            }\\n          ],\\n          \"default\": null,\\n          \"description\": \"Precio m\\\\u00e1ximo recomendado si se aconseja comprar al contado (Modo 1).\",\\n          \"title\": \"Precio Max Contado Recomendado\"\\n        },\\n        \"cuota_max_calculada\": {\\n          \"anyOf\": [\\n            {\\n              \"type\": \"number\"\\n            },\\n            {\\n              \"type\": \"null\"\\n            }\\n          ],\\n          \"default\": null,\\n          \"description\": \"Cuota mensual m\\\\u00e1xima calculada si se aconseja financiar (Modo 1).\",\\n          \"title\": \"Cuota Max Calculada\"\\n        }\\n      },\\n      \"title\": \"FiltrosInferidos\",\\n      \"type\": \"object\"\\n    },\\n    \"TipoMecanica\": {\\n      \"enum\": [\\n        \"GASOLINA\",\\n        \"DIESEL\",\\n        \"BEV\",\\n        \"FCEV\",\\n        \"GLP\",\\n        \"GNV\",\\n        \"HEVD\",\\n        \"HEVG\",\\n        \"MHEVD\",\\n        \"MHEVG\",\\n        \"PHEVD\",\\n        \"PHEVG\",\\n        \"REEV\"\\n      ],\\n      \"title\": \"TipoMecanica\",\\n      \"type\": \"string\"\\n    }\\n  },\\n  \"description\": \"Salida esperada del LLM enfocado solo en inferir filtros t\\\\u00e9cnicos.\",\\n  \"properties\": {\\n    \"filtros_inferidos\": {\\n      \"$ref\": \"#/$defs/FiltrosInferidos\"\\n    },\\n    \"mensaje_validacion\": {\\n      \"description\": \"Pregunta de seguimiento CLARA y CORTA si falta informaci\\\\u00f3n ESENCIAL para completar los FiltrosInferidos (ej: tipo_mecanica), o un mensaje de confirmaci\\\\u00f3n si los filtros est\\\\u00e1n completos.\",\\n      \"title\": \"Mensaje Validacion\",\\n      \"type\": \"string\"\\n    }\\n  },\\n  \"required\": [\\n    \"filtros_inferidos\",\\n    \"mensaje_validacion\"\\n  ],\\n  \"title\": \"ResultadoSoloFiltros\",\\n  \"type\": \"object\"\\n}\\n</Esquema_JSON_Requerido>\\n\\n\\n<Instrucciones_Detalladas_Inferencia>\\n\\nAnaliza las <Contexto_Preferencias_Usuario> proporcionadas.\\nInfiere los valores para los campos dentro de filtros_inferidos en el JSON de salida, siguiendo estas directrices:\\n\\n\\n- estetica_min: Si preferencias_contexto indica valora_estetica: \\'sí\\', asigna un valor numérico como 5.0 o 6.0. Si es \\'no\\' o null, asigna 1.0.\\n- tipo_mecanica: ¡CAMPO CRÍTICO Y OBLIGATORIO! Debes inferir una lista de strings.\\n- Si preferencias_contexto indica solo_electricos: \\'sí\\', la lista DEBE ser [\"BEV\", \"REEV\"].\\n- Si solo_electricos es \\'no\\', proporciona una lista sensata basada en otras preferencias (ej: para \"coche para la ciudad\" podría ser [\"BEV\", \"GASOLINA\", \"HIBRIDO\"]). Evita \\'DIESEL\\' para uso urbano si no hay otra indicación.\\n- Si solo_electricos es null o desconocido, intenta inferir una lista general o, si no es posible, pregunta usando mensaje_validacion.\\n- Los únicos valores válidos para esta lista son: { \\'GASOLINA\\', \\'DIESEL\\', \\'BEV\\', \\'FCEV\\', \\'GLP\\', \\'GNV\\', \\'HEVD\\', \\'HEVG\\', \\'MHEVD\\', \\'MHEVG\\', \\'PHEVD\\', \\'PHEVG\\', \\'REEV\\' }. Asegúrate de devolver una lista de strings válidos. Es obligatorio que este campo contenga al menos un valor si es posible inferirlo.\\n- premium_min y singular_min: Si preferencias_contexto indica apasionado_motor: \\'sí\\', asigna un valor numérico como 5.0 o más. Si es \\'no\\' o null, asigna 1.0 o déjalos null.\\n\\n-Campo mensaje_validacion:\\nSi NO pudiste inferir un valor para un filtro crítico (especialmente tipo_mecanica), usa este campo para generar una pregunta corta y específica dirigida a obtener ese filtro faltante. Ejemplo: \"No estoy seguro de qué tipo de motorización prefieres (gasolina, híbrido, eléctrico...). ¿Podrías indicármelo?\".\\nSi has podido inferir todos los filtros necesarios (incluyendo tipo_mecanica), puedes dejar este campo como una cadena vacía \"\" o poner un mensaje corto de confirmación como \"Ok, he definido los filtros técnicos basados en tus preferencias.\".\\nPrecisión: No inventes valores. Si una preferencia no da información para un filtro opcional, déjalo como null. Si falta información para un filtro crítico que no puedes inferir, pregunta. \\n\\n</Instrucciones_Detalladas_Inferencia>\\n\\n<Ejemplos>\\n\\n**Ejemplo 1:**\\n\\n* **Preferencias de Entrada (Contexto):**\\n    ```json\\n    {\\n      \"altura_mayor_190\": \"no\",\\n      \"peso_mayor_100\": \"no\",\\n      \"uso_profesional\": \"no\",\\n      \"valora_estetica\": \"sí\",\\n      \"solo_electricos\": \"no\",\\n      \"transmision_preferida\": \"automatico\",\\n      \"apasionado_motor\": \"no\",\\n      \"aventura\": \"ninguna\"\\n    }\\n    ```\\n* **Salida JSON Esperada:**\\n    ```json\\n    {\\n      \"filtros_inferidos\": {\\n        \"estetica_min\": 5.0,\\n        \"tipo_mecanica\": [\"BEV\", \"GASOLINA\", \"HIBRIDO\"],\\n        \"premium_min\": 1.0,\\n        \"singular_min\": 1.0\\n      },\\n      \"mensaje_validacion\": \"Ok, he definido los filtros técnicos basados en tus preferencias.\"\\n    }\\n    ```\\n\\n**Ejemplo 2:**\\n\\n* **Preferencias de Entrada (Contexto):**\\n    ```json\\n    {\\n      \"altura_mayor_190\": \"sí\",\\n      \"peso_mayor_100\": \"no\",\\n      \"uso_profesional\": \"sí\",\\n      \"valora_estetica\": \"no\",\\n      \"solo_electricos\": \"sí\",\\n      \"transmision_preferida\": \"automatico\",\\n      \"apasionado_motor\": \"sí\",\\n      \"aventura\": \"ocasional\"\\n    }\\n    ```\\n* **Salida JSON Esperada:**\\n    ```json\\n    {\\n      \"filtros_inferidos\": {\\n        \"estetica_min\": 1.0,\\n        \"tipo_mecanica\": [\"BEV\"],\\n        \"premium_min\": 5.0,\\n        \"singular_min\": 5.0\\n      },\\n      \"mensaje_validacion\": \"\" \\n    }\\n    ```\\n    \\n**(Opcional) Ejemplo 3: Falta información crítica**\\n\\n* **Preferencias de Entrada (Contexto):**\\n    ```json\\n    {\\n      \"altura_mayor_190\": \"no\",\\n      \"peso_mayor_100\": \"no\",\\n      \"uso_profesional\": \"no\",\\n      \"valora_estetica\": \"sí\",\\n      \"solo_electricos\": null, //\\n      \"transmision_preferida\": \"manual\",\\n      \"apasionado_motor\": \"no\",\\n      \"aventura\": \"ninguna\"\\n    }\\n    ```\\n* **Salida JSON Esperada:**\\n    ```json\\n    {\\n      \"filtros_inferidos\": {\\n        \"estetica_min\": 5.0,\\n        \"tipo_mecanica\": null, \\n        \"premium_min\": 1.0,\\n        \"singular_min\": 1.0\\n      },\\n      \"mensaje_validacion\": \"Necesitaría saber si tienes preferencia por algún tipo de motorización (eléctrico, gasolina, diesel...) para continuar.\" \\n    }\\n    ```\\n\\n</Ejemplos>\\n\\n\\n\\n', 'role': 'user'}, {'content': 'oye busco un coche para la ciudad', 'role': 'user'}, {'content': '¡Hola! Para ayudarte mejor, hablemos de aventura. ¿Con cuál de estas afirmaciones te identificas más?\\n 1) No pisas nada que no sea asfalto (ninguna)\\n 2) Salidas fuera de asfalto ocasionales (ocasional)\\n 3) Circular en condiciones duras con total garantía (extrema)', 'role': 'assistant'}, {'content': 'la 3', 'role': 'user'}, {'content': '¿Mides más de 1.90 m?', 'role': 'assistant'}, {'content': ' mido 1.90 y peso 80kg', 'role': 'user'}, {'content': 'Entendido: mides 1.90m y tu nivel de aventura es extrema. ¿Uso personal o profesional?', 'role': 'assistant'}, {'content': 'uso personal', 'role': 'user'}, {'content': 'Perfecto, ya tenemos tus preferencias principales. ¿Valoras la estética?', 'role': 'assistant'}, {'content': 'si', 'role': 'user'}, {'content': '¿Qué tipo de transmisión prefieres?\\n 1) Automático\\n 2) Manual\\n 3) Ambos', 'role': 'assistant'}, {'content': 'Manual', 'role': 'user'}, {'content': '¡Estupendo! Creo que ya tengo claras todas tus preferencias principales. ¿Vamos a ver qué características técnicas encajarían?', 'role': 'assistant'}, {'content': 'vale, continua...', 'role': 'user'}, {'content': '¿Quieres solo coches eléctricos?', 'role': 'assistant'}, {'content': 'si, solo electricos', 'role': 'user'}, {'content': '¿Eres un apasionado del motor?', 'role': 'assistant'}, {'content': 'si, lo soy', 'role': 'user'}, {'content': 'Con el fin de conocer tus preferencias financieras que opción (modo) prefieres: 1. Prefiero que me aconsejes con criterios de inteligencia financiera. 2. Prefiero indicar yo mismo cuánto y cómo gastar.', 'role': 'assistant'}, {'content': 'opcion 1', 'role': 'user'}], 'model': 'gpt-4o-mini', 'response_format': {'type': 'json_schema', 'json_schema': {'schema': {'$defs': {'FiltrosInferidos': {'properties': {'estetica_min': {'anyOf': [{'type': 'number'}, {'type': 'null'}], 'description': 'Mínimo valor de estética recomendado (0.0 a 10.0)', 'title': 'Estetica Min'}, 'tipo_mecanica': {'anyOf': [{'items': {'$ref': '#/$defs/TipoMecanica'}, 'type': 'array'}, {'type': 'null'}], 'description': 'Lista de motorizaciones recomendadas', 'title': 'Tipo Mecanica'}, 'premium_min': {'anyOf': [{'type': 'number'}, {'type': 'null'}], 'description': 'Mínimo valor de premium recomendado (0.0 a 10.0)', 'title': 'Premium Min'}, 'singular_min': {'anyOf': [{'type': 'number'}, {'type': 'null'}], 'description': 'Mínimo valor de singularidad recomendado (0.0 a 10.0)', 'title': 'Singular Min'}, 'tipo_carroceria': {'anyOf': [{'items': {'type': 'string'}, 'type': 'array'}, {'type': 'null'}], 'description': \"Lista de tipos de carrocería recomendados por RAG (ej: ['SUV', 'COUPE'])\", 'title': 'Tipo Carroceria'}, 'modo_adquisicion_recomendado': {'anyOf': [{'enum': ['Contado', 'Financiado'], 'type': 'string'}, {'type': 'null'}], 'description': 'Modo de compra recomendado (Contado/Financiado) basado en análisis Modo 1.', 'title': 'Modo Adquisicion Recomendado'}, 'precio_max_contado_recomendado': {'anyOf': [{'type': 'number'}, {'type': 'null'}], 'description': 'Precio máximo recomendado si se aconseja comprar al contado (Modo 1).', 'title': 'Precio Max Contado Recomendado'}, 'cuota_max_calculada': {'anyOf': [{'type': 'number'}, {'type': 'null'}], 'description': 'Cuota mensual máxima calculada si se aconseja financiar (Modo 1).', 'title': 'Cuota Max Calculada'}}, 'title': 'FiltrosInferidos', 'type': 'object', 'additionalProperties': False, 'required': ['estetica_min', 'tipo_mecanica', 'premium_min', 'singular_min', 'tipo_carroceria', 'modo_adquisicion_recomendado', 'precio_max_contado_recomendado', 'cuota_max_calculada']}, 'TipoMecanica': {'enum': ['GASOLINA', 'DIESEL', 'BEV', 'FCEV', 'GLP', 'GNV', 'HEVD', 'HEVG', 'MHEVD', 'MHEVG', 'PHEVD', 'PHEVG', 'REEV'], 'title': 'TipoMecanica', 'type': 'string'}}, 'description': 'Salida esperada del LLM enfocado solo en inferir filtros técnicos.', 'properties': {'filtros_inferidos': {'$ref': '#/$defs/FiltrosInferidos'}, 'mensaje_validacion': {'description': 'Pregunta de seguimiento CLARA y CORTA si falta información ESENCIAL para completar los FiltrosInferidos (ej: tipo_mecanica), o un mensaje de confirmación si los filtros están completos.', 'title': 'Mensaje Validacion', 'type': 'string'}}, 'required': ['filtros_inferidos', 'mensaje_validacion'], 'title': 'ResultadoSoloFiltros', 'type': 'object', 'additionalProperties': False}, 'name': 'ResultadoSoloFiltros', 'strict': True}}, 'stream': False, 'temperature': 0.2}}\n",
      "DEBUG:openai._base_client:Sending HTTP Request: POST https://api.openai.com/v1/chat/completions\n",
      "DEBUG:httpcore.http11:send_request_headers.started request=<Request [b'POST']>\n",
      "DEBUG:httpcore.http11:send_request_headers.complete\n",
      "DEBUG:httpcore.http11:send_request_body.started request=<Request [b'POST']>\n",
      "DEBUG:httpcore.http11:send_request_body.complete\n",
      "DEBUG:httpcore.http11:receive_response_headers.started request=<Request [b'POST']>\n"
     ]
    },
    {
     "name": "stdout",
     "output_type": "stream",
     "text": [
      "DEBUG (Perfil) ► Respuesta llm_solo_perfil: preferencias_usuario=PerfilUsuario(altura_mayor_190='sí', peso_mayor_100='no', uso_profesional='no', valora_estetica='sí', solo_electricos='sí', transmision_preferida=<Transmision.MANUAL: 'manual'>, apasionado_motor='sí', aventura=<NivelAventura.extrema: 'extrema'>) mensaje_validacion='¡Perfecto! Ya tenemos tus preferencias principales. ¿Pasamos a los detalles técnicos?'\n",
      "DEBUG (Perfil) ► Preferencias tras post-procesamiento (si aplica): altura_mayor_190='sí' peso_mayor_100='no' uso_profesional='no' valora_estetica='sí' solo_electricos='sí' transmision_preferida=<Transmision.MANUAL: 'manual'> apasionado_motor='sí' aventura=<NivelAventura.extrema: 'extrema'>\n",
      "DEBUG (Perfil) ► Estado preferencias_usuario actualizado: altura_mayor_190='sí' peso_mayor_100='no' uso_profesional='no' valora_estetica='sí' solo_electricos='sí' transmision_preferida=<Transmision.MANUAL: 'manual'> apasionado_motor='sí' aventura=<NivelAventura.extrema: 'extrema'>\n",
      "DEBUG (Perfil) ► Guardando pregunta pendiente: ¡Perfecto! Ya tenemos tus preferencias principales. ¿Pasamos a los detalles técnicos?\n",
      "--- Ejecutando Nodo: validar_preferencias_node ---\n",
      "--- DEBUG CHECK PERFIL ---\n",
      "Input prefs object: altura_mayor_190='sí' peso_mayor_100='no' uso_profesional='no' valora_estetica='sí' solo_electricos='sí' transmision_preferida=<Transmision.MANUAL: 'manual'> apasionado_motor='sí' aventura=<NivelAventura.extrema: 'extrema'>\n",
      "Input prefs type: <class 'graph.perfil.state.PerfilUsuario'>\n",
      "Checking field 'altura_mayor_190': value='sí', type=<class 'str'>\n",
      "Checking field 'peso_mayor_100': value='no', type=<class 'str'>\n",
      "Checking field 'uso_profesional': value='no', type=<class 'str'>\n",
      "Checking field 'valora_estetica': value='sí', type=<class 'str'>\n",
      "Checking field 'solo_electricos': value='sí', type=<class 'str'>\n",
      "Checking field 'transmision_preferida': value='Transmision.MANUAL', type=<enum 'Transmision'>\n",
      "Checking field 'apasionado_motor': value='sí', type=<class 'str'>\n",
      "Checking field 'aventura': value='NivelAventura.extrema', type=<enum 'NivelAventura'>\n",
      "DEBUG (Validation Perfil) ► Todos los campos obligatorios del perfil están presentes.\n",
      "DEBUG (Perfil) ► Validación: PerfilUsuario considerado COMPLETO.\n",
      "--- Evaluando Condición: ruta_decision_perfil ---\n",
      "DEBUG (Condición Perfil) ► Estado 'preferencias_usuario' recibido: altura_mayor_190='sí' peso_mayor_100='no' uso_profesional='no' valora_estetica='sí' solo_electricos='sí' transmision_preferida=<Transmision.MANUAL: 'manual'> apasionado_motor='sí' aventura=<NivelAventura.extrema: 'extrema'>\n",
      "DEBUG (Condición Perfil) ► Tipo de 'preferencias_usuario': <class 'graph.perfil.state.PerfilUsuario'>\n",
      "--- DEBUG CHECK PERFIL ---\n",
      "Input prefs object: altura_mayor_190='sí' peso_mayor_100='no' uso_profesional='no' valora_estetica='sí' solo_electricos='sí' transmision_preferida=<Transmision.MANUAL: 'manual'> apasionado_motor='sí' aventura=<NivelAventura.extrema: 'extrema'>\n",
      "Input prefs type: <class 'graph.perfil.state.PerfilUsuario'>\n",
      "Checking field 'altura_mayor_190': value='sí', type=<class 'str'>\n",
      "Checking field 'peso_mayor_100': value='no', type=<class 'str'>\n",
      "Checking field 'uso_profesional': value='no', type=<class 'str'>\n",
      "Checking field 'valora_estetica': value='sí', type=<class 'str'>\n",
      "Checking field 'solo_electricos': value='sí', type=<class 'str'>\n",
      "Checking field 'transmision_preferida': value='Transmision.MANUAL', type=<enum 'Transmision'>\n",
      "Checking field 'apasionado_motor': value='sí', type=<class 'str'>\n",
      "Checking field 'aventura': value='NivelAventura.extrema', type=<enum 'NivelAventura'>\n",
      "DEBUG (Validation Perfil) ► Todos los campos obligatorios del perfil están presentes.\n",
      "DEBUG (Condición Perfil) ► Perfil COMPLETO. Avanzando a filtros.\n",
      "--- Ejecutando Nodo: inferir_filtros_node ---\n",
      "DEBUG (Filtros) ► Preferencias de usuario disponibles. Procediendo...\n",
      "DEBUG (Filtros) ► Prompt para llm_solo_filtros (parcial): <Role>\n",
      "Eres un asistente técnico experto en vehículos. Tu función es traducir las preferencias generales de un usuario en filtros técnicos específicos para la búsqueda de coches. Debes basarte estrictamente en las preferencias proporcionadas y generar una respuesta JSON que SIEMPRE se ajuste al esquema `ResultadoSoloFiltros`.\n",
      "</Role>\n",
      "\n",
      "<Contexto_Preferencias_Usuario>\n",
      "\n",
      "<Contexto_Preferencias_Usuario>\n",
      "A continuación se detallan las preferencias del usuario recopiladas previamente. Úsalas como base ...\n"
     ]
    },
    {
     "name": "stderr",
     "output_type": "stream",
     "text": [
      "DEBUG:httpcore.http11:receive_response_headers.complete return_value=(b'HTTP/1.1', 200, b'OK', [(b'Date', b'Sun, 04 May 2025 14:04:05 GMT'), (b'Content-Type', b'application/json'), (b'Transfer-Encoding', b'chunked'), (b'Connection', b'keep-alive'), (b'access-control-expose-headers', b'X-Request-ID'), (b'openai-organization', b'user-ic25pcewdjuowsz9q2ektvrn'), (b'openai-processing-ms', b'3133'), (b'openai-version', b'2020-10-01'), (b'x-ratelimit-limit-requests', b'10000'), (b'x-ratelimit-limit-tokens', b'200000'), (b'x-ratelimit-remaining-requests', b'9998'), (b'x-ratelimit-remaining-tokens', b'197207'), (b'x-ratelimit-reset-requests', b'13.506s'), (b'x-ratelimit-reset-tokens', b'837ms'), (b'x-request-id', b'req_756cf82c357314a80c36ffe7cfacb7f4'), (b'strict-transport-security', b'max-age=31536000; includeSubDomains; preload'), (b'cf-cache-status', b'DYNAMIC'), (b'X-Content-Type-Options', b'nosniff'), (b'Server', b'cloudflare'), (b'CF-RAY', b'93a88b7edd8c2fa1-MAD'), (b'Content-Encoding', b'gzip'), (b'alt-svc', b'h3=\":443\"; ma=86400')])\n",
      "INFO:httpx:HTTP Request: POST https://api.openai.com/v1/chat/completions \"HTTP/1.1 200 OK\"\n",
      "DEBUG:httpcore.http11:receive_response_body.started request=<Request [b'POST']>\n",
      "DEBUG:httpcore.http11:receive_response_body.complete\n",
      "DEBUG:httpcore.http11:response_closed.started\n",
      "DEBUG:httpcore.http11:response_closed.complete\n",
      "DEBUG:openai._base_client:HTTP Response: POST https://api.openai.com/v1/chat/completions \"200 OK\" Headers({'date': 'Sun, 04 May 2025 14:04:05 GMT', 'content-type': 'application/json', 'transfer-encoding': 'chunked', 'connection': 'keep-alive', 'access-control-expose-headers': 'X-Request-ID', 'openai-organization': 'user-ic25pcewdjuowsz9q2ektvrn', 'openai-processing-ms': '3133', 'openai-version': '2020-10-01', 'x-ratelimit-limit-requests': '10000', 'x-ratelimit-limit-tokens': '200000', 'x-ratelimit-remaining-requests': '9998', 'x-ratelimit-remaining-tokens': '197207', 'x-ratelimit-reset-requests': '13.506s', 'x-ratelimit-reset-tokens': '837ms', 'x-request-id': 'req_756cf82c357314a80c36ffe7cfacb7f4', 'strict-transport-security': 'max-age=31536000; includeSubDomains; preload', 'cf-cache-status': 'DYNAMIC', 'x-content-type-options': 'nosniff', 'server': 'cloudflare', 'cf-ray': '93a88b7edd8c2fa1-MAD', 'content-encoding': 'gzip', 'alt-svc': 'h3=\":443\"; ma=86400'})\n",
      "DEBUG:openai._base_client:request_id: req_756cf82c357314a80c36ffe7cfacb7f4\n",
      "DEBUG:openai._base_client:Request options: {'method': 'post', 'url': '/chat/completions', 'headers': {'X-Stainless-Helper-Method': 'beta.chat.completions.parse'}, 'files': None, 'post_parser': <function Completions.parse.<locals>.parser at 0x14b91d800>, 'json_data': {'messages': [{'content': '<Role>\\nEres un asistente experto en finanzas automotrices. Tu objetivo es recopilar información económica del usuario para ayudarle a definir su presupuesto(modo 1: con criterios de inteligencia financiera), o bien definir un presupuesto basado en sus indicaciones(modo2: indica el mismo cuánto y cómo gastar). Debes generar una respuesta JSON que SIEMPRE se ajuste al siguiente esquema Pydantic:\\n``json\\n{{\\n  \"$defs\": {{\\n    \"EconomiaUsuario\": {{\\n      \"properties\": {{\\n        \"modo\": {{\\n          \"anyOf\": [\\n            {{\\n              \"enum\": [\\n                1,\\n                2\\n              ],\\n              \"type\": \"integer\"\\n            }},\\n            {{\\n              \"type\": \"null\"\\n            }}\\n          ],\\n          \"default\": null,\\n          \"title\": \"Modo\"\\n        }},\\n        \"submodo\": {{\\n          \"anyOf\": [\\n            {{\\n              \"enum\": [\\n                1,\\n                2\\n              ],\\n              \"type\": \"integer\"\\n            }},\\n            {{\\n              \"type\": \"null\"\\n            }}\\n          ],\\n          \"default\": null,\\n          \"title\": \"Submodo\"\\n        }},\\n        \"ingresos\": {{\\n          \"anyOf\": [\\n            {{\\n              \"type\": \"number\"\\n            }},\\n            {{\\n              \"type\": \"null\"\\n            }}\\n          ],\\n          \"default\": null,\\n          \"title\": \"Ingresos\"\\n        }},\\n        \"ahorro\": {{\\n          \"anyOf\": [\\n            {{\\n              \"type\": \"number\"\\n            }},\\n            {{\\n              \"type\": \"null\"\\n            }}\\n          ],\\n          \"default\": null,\\n          \"title\": \"Ahorro\"\\n        }},\\n        \"pago_contado\": {{\\n          \"anyOf\": [\\n            {{\\n              \"type\": \"number\"\\n            }},\\n            {{\\n              \"type\": \"null\"\\n            }}\\n          ],\\n          \"default\": null,\\n          \"title\": \"Pago Contado\"\\n        }},\\n        \"cuota_max\": {{\\n          \"anyOf\": [\\n            {{\\n              \"type\": \"number\"\\n            }},\\n            {{\\n              \"type\": \"null\"\\n            }}\\n          ],\\n          \"default\": null,\\n          \"title\": \"Cuota Max\"\\n        }},\\n        \"entrada\": {{\\n          \"anyOf\": [\\n            {{\\n              \"type\": \"number\"\\n            }},\\n            {{\\n              \"type\": \"null\"\\n            }}\\n          ],\\n          \"default\": null,\\n          \"title\": \"Entrada\"\\n        }}\\n      }},\\n      \"title\": \"EconomiaUsuario\",\\n      \"type\": \"object\"\\n    }}\\n  }},\\n  \"properties\": {{\\n    \"economia\": {{\\n      \"$ref\": \"#/$defs/EconomiaUsuario\"\\n    }},\\n    \"mensaje_validacion\": {{\\n      \"title\": \"Mensaje Validacion\",\\n      \"type\": \"string\"\\n    }}\\n  }},\\n  \"required\": [\\n    \"economia\",\\n    \"mensaje_validacion\"\\n  ],\\n  \"title\": \"ResultadoEconomia\",\\n  \"type\": \"object\"\\n}}\\n\\n</Role>\\n\\n\\n<Instrucciones_Revisadas>\\n1. Analiza la conversación. Intenta determinar el \\'modo\\' (1 o 2) y el \\'submodo\\' (si aplica).\\n2. **REGLA CRÍTICA:**\\n   - Cuando `\"modo\" es None, comienza la conversacion realizando la pregunta filtro:\\n    \"Con el fin de conocer tus preferencias financieras que opcion (modo) prefieres: \\n      1. Prefiero que me aconsejes con criterios de inteligencia financiera.\\n  \\t  2. Prefiero indicar yo mismo cuánto y cómo gastar.\"\\n   - **NO** incluyas `\"modo\": 1` ( Asesoramiento con criterios de inteligencia financiera) en el objeto `economia` A MENOS QUE **TAMBIÉN** tengas valores numéricos para `\"ingresos\"` , `\"ahorro\"` y `\"anos_posesion\"` extraídos de la conversación para incluir en el mismo objeto `economia`.\\n   - **NO** incluyas `\"modo\": 2` (Tú defines presupuesto) y `\"submodo\": 1` A MENOS QUE **TAMBIÉN** tengas un valor numérico para `\"pago_contado\"`.\\n   - **NO** incluyas `\"modo\": 2` (Tú defines presupuesto)  y `\"submodo\": 2` A MENOS QUE **TAMBIÉN** tengas un valor numérico para `\"cuota_max\"`.\\n3. **Si puedes cumplir la REGLA CRÍTICA** para un modo/submodo: Rellena el objeto `economia` con todos los datos que tengas (modo, submodo, y los valores numéricos obligatorios y opcionales como \\'entrada\\'). Usa `null` para campos opcionales no conocidos. En este caso, `mensaje_validacion` puede ser una confirmación breve (ej: \"Ok, datos de Modo 1 recibidos.\") o una cadena vacía `\"\"`.\\n4. **Si NO puedes cumplir la REGLA CRÍTICA** (porque falta un valor numérico obligatorio para el modo/submodo que crees que aplica, o porque ni siquiera sabes el modo):\\n   - El objeto `economia` debe reflejar solo la información que sí tienes de forma segura (podría estar vacío o solo con `modo` si ya se eligió pero faltan datos para validarlo completamente *en este turno*).\\n   - El campo `mensaje_validacion` **DEBE** contener una pregunta **clara y específica** para obtener el **primer dato OBLIGATORIO que falta** para poder cumplir la REGLA CRÍTICA en el siguiente turno (ej: pregunta por `ingresos` si sabes que `modo` es 1; pregunta por `submodo` o `modo` si no se saben).\\n5. No inventes valores. Usa el historial.\\n</Instrucciones_Revisadas>\\n\\n<Ejemplos>\\n\\n**Ejemplo 1: Usuario elige Modo 1 (Asesoramiento), pero LLM necesita preguntar por ingresos**\\n* Contexto (Historial + Último mensaje): `[..., HumanMessage(content=\\'Prefiero que me asesores tú.\\')]`\\n* Salida JSON Esperada:\\n    ```json\\n    {{\\n      \"economia\": {{\\n        \"modo\": 1, // LLM identifica el modo\\n        \"submodo\": null,\\n        \"ingresos\": null, // Aún no tiene el dato obligatorio\\n        \"ahorro\": null,   // Aún no tiene el dato obligatorio\\n        \"pago_contado\": null,\\n        \"cuota_max\": null,\\n        \"entrada\": null\\n      }},\\n      \"mensaje_validacion\": \"Entendido, usaremos el modo asesor financiero. Para poder calcular un presupuesto adecuado, ¿podrías indicarme cuales son tus ingresos netos anuales aproximados?\" // Pregunta por el primer dato faltante\\n    }}\\n    ```\\n\\n**Ejemplo 2: Usuario elige Modo 2 (Define Presupuesto), pero LLM necesita preguntar por submodo (contado/cuotas)**\\n* Contexto (Historial + Último mensaje): `[..., HumanMessage(content=\\'Mejor defino yo el presupuesto.\\')]`\\n* Salida JSON Esperada:\\n    ```json\\n    {{\\n      \"economia\": {{\\n        \"modo\": 2, // LLM identifica el modo\\n        \"submodo\": null, // Falta el submodo obligatorio\\n        \"ingresos\": null,\\n        \"ahorro\": null,\\n        \"pago_contado\": null,\\n        \"cuota_max\": null,\\n        \"entrada\": null\\n      }},\\n      \"mensaje_validacion\": \"De acuerdo, tú defines el presupuesto. ¿Tienes pensado pagar el coche al contado (opción 1) o prefieres financiarlo en cuotas mensuales (opción 2)?\" // Pregunta por el submodo\\n    }}\\n    ```\\n// Ejemplo 3:\\n{{\\n  \"economia\": {{\"modo\": 1, \"submodo\": null, \"ingresos\": 45000.0, \"ahorro\": 10000.0, \"pago_contado\": null, \"cuota_max\": null, \"entrada\": null}},\\n  \"mensaje_validacion\": \"\" // O un mensaje como \"Ok, usaré tus ingresos y ahorros.\"\\n}}\\n\\n\\n</Ejemplos>\\n\\n<Formato esperado>\\nGenera el JSON:\\n{{\\n  \"economia\": {{ ... }},\\n  \"mensaje_validacion\": \"...\"\\n}}', 'role': 'user'}, {'content': 'oye busco un coche para la ciudad', 'role': 'user'}, {'content': '¡Hola! Para ayudarte mejor, hablemos de aventura. ¿Con cuál de estas afirmaciones te identificas más?\\n 1) No pisas nada que no sea asfalto (ninguna)\\n 2) Salidas fuera de asfalto ocasionales (ocasional)\\n 3) Circular en condiciones duras con total garantía (extrema)', 'role': 'assistant'}, {'content': 'la 3', 'role': 'user'}, {'content': '¿Mides más de 1.90 m?', 'role': 'assistant'}, {'content': ' mido 1.90 y peso 80kg', 'role': 'user'}, {'content': 'Entendido: mides 1.90m y tu nivel de aventura es extrema. ¿Uso personal o profesional?', 'role': 'assistant'}, {'content': 'uso personal', 'role': 'user'}, {'content': 'Perfecto, ya tenemos tus preferencias principales. ¿Valoras la estética?', 'role': 'assistant'}, {'content': 'si', 'role': 'user'}, {'content': '¿Qué tipo de transmisión prefieres?\\n 1) Automático\\n 2) Manual\\n 3) Ambos', 'role': 'assistant'}, {'content': 'Manual', 'role': 'user'}, {'content': '¡Estupendo! Creo que ya tengo claras todas tus preferencias principales. ¿Vamos a ver qué características técnicas encajarían?', 'role': 'assistant'}, {'content': 'vale, continua...', 'role': 'user'}, {'content': '¿Quieres solo coches eléctricos?', 'role': 'assistant'}, {'content': 'si, solo electricos', 'role': 'user'}, {'content': '¿Eres un apasionado del motor?', 'role': 'assistant'}, {'content': 'si, lo soy', 'role': 'user'}, {'content': 'Con el fin de conocer tus preferencias financieras que opción (modo) prefieres: 1. Prefiero que me aconsejes con criterios de inteligencia financiera. 2. Prefiero indicar yo mismo cuánto y cómo gastar.', 'role': 'assistant'}, {'content': 'opcion 1', 'role': 'user'}], 'model': 'gpt-4o-mini', 'response_format': {'type': 'json_schema', 'json_schema': {'schema': {'$defs': {'EconomiaUsuario': {'properties': {'modo': {'anyOf': [{'enum': [1, 2], 'type': 'integer'}, {'type': 'null'}], 'title': 'Modo'}, 'submodo': {'anyOf': [{'enum': [1, 2], 'type': 'integer'}, {'type': 'null'}], 'title': 'Submodo'}, 'ingresos': {'anyOf': [{'type': 'number'}, {'type': 'null'}], 'title': 'Ingresos'}, 'ahorro': {'anyOf': [{'type': 'number'}, {'type': 'null'}], 'title': 'Ahorro'}, 'pago_contado': {'anyOf': [{'type': 'number'}, {'type': 'null'}], 'title': 'Pago Contado'}, 'cuota_max': {'anyOf': [{'type': 'number'}, {'type': 'null'}], 'title': 'Cuota Max'}, 'entrada': {'anyOf': [{'type': 'number'}, {'type': 'null'}], 'title': 'Entrada'}, 'anos_posesion': {'anyOf': [{'type': 'integer'}, {'type': 'null'}], 'description': 'Número estimado de años que el usuario planea conservar el vehículo.', 'title': 'Anos Posesion'}}, 'title': 'EconomiaUsuario', 'type': 'object', 'additionalProperties': False, 'required': ['modo', 'submodo', 'ingresos', 'ahorro', 'pago_contado', 'cuota_max', 'entrada', 'anos_posesion']}}, 'properties': {'economia': {'description': 'Objeto que contiene TODA la información económica recopilada o actualizada.', 'properties': {'modo': {'anyOf': [{'enum': [1, 2], 'type': 'integer'}, {'type': 'null'}], 'title': 'Modo'}, 'submodo': {'anyOf': [{'enum': [1, 2], 'type': 'integer'}, {'type': 'null'}], 'title': 'Submodo'}, 'ingresos': {'anyOf': [{'type': 'number'}, {'type': 'null'}], 'title': 'Ingresos'}, 'ahorro': {'anyOf': [{'type': 'number'}, {'type': 'null'}], 'title': 'Ahorro'}, 'pago_contado': {'anyOf': [{'type': 'number'}, {'type': 'null'}], 'title': 'Pago Contado'}, 'cuota_max': {'anyOf': [{'type': 'number'}, {'type': 'null'}], 'title': 'Cuota Max'}, 'entrada': {'anyOf': [{'type': 'number'}, {'type': 'null'}], 'title': 'Entrada'}, 'anos_posesion': {'anyOf': [{'type': 'integer'}, {'type': 'null'}], 'description': 'Número estimado de años que el usuario planea conservar el vehículo.', 'title': 'Anos Posesion'}}, 'title': 'EconomiaUsuario', 'type': 'object', 'additionalProperties': False, 'required': ['modo', 'submodo', 'ingresos', 'ahorro', 'pago_contado', 'cuota_max', 'entrada', 'anos_posesion']}, 'mensaje_validacion': {'title': 'Mensaje Validacion', 'type': 'string'}}, 'required': ['economia', 'mensaje_validacion'], 'title': 'ResultadoEconomia', 'type': 'object', 'additionalProperties': False}, 'name': 'ResultadoEconomia', 'strict': True}}, 'stream': False, 'temperature': 0.2}}\n",
      "DEBUG:openai._base_client:Sending HTTP Request: POST https://api.openai.com/v1/chat/completions\n",
      "DEBUG:httpcore.connection:close.started\n",
      "DEBUG:httpcore.connection:close.complete\n",
      "DEBUG:httpcore.connection:connect_tcp.started host='api.openai.com' port=443 local_address=None timeout=None socket_options=None\n",
      "DEBUG:httpcore.connection:connect_tcp.complete return_value=<httpcore._backends.sync.SyncStream object at 0x14a9e88d0>\n",
      "DEBUG:httpcore.connection:start_tls.started ssl_context=<ssl.SSLContext object at 0x13841f770> server_hostname='api.openai.com' timeout=None\n",
      "DEBUG:httpcore.connection:start_tls.complete return_value=<httpcore._backends.sync.SyncStream object at 0x14b8d4390>\n",
      "DEBUG:httpcore.http11:send_request_headers.started request=<Request [b'POST']>\n",
      "DEBUG:httpcore.http11:send_request_headers.complete\n",
      "DEBUG:httpcore.http11:send_request_body.started request=<Request [b'POST']>\n",
      "DEBUG:httpcore.http11:send_request_body.complete\n",
      "DEBUG:httpcore.http11:receive_response_headers.started request=<Request [b'POST']>\n"
     ]
    },
    {
     "name": "stdout",
     "output_type": "stream",
     "text": [
      "DEBUG (Filtros) ► Respuesta llm_solo_filtros: filtros_inferidos=FiltrosInferidos(estetica_min=5.0, tipo_mecanica=[<TipoMecanica.BEV: 'BEV'>, <TipoMecanica.REEV: 'REEV'>], premium_min=5.0, singular_min=5.0, tipo_carroceria=['SUV', 'CROSSOVER'], modo_adquisicion_recomendado='Financiado', precio_max_contado_recomendado=None, cuota_max_calculada=None) mensaje_validacion='Ok, he definido los filtros técnicos basados en tus preferencias.'\n",
      "\n",
      "--- DEBUG DENTRO PostProc Filtros ---\n",
      "Recibido Prefs: altura_mayor_190='sí' peso_mayor_100='no' uso_profesional='no' valora_estetica='sí' solo_electricos='sí' transmision_preferida=<Transmision.MANUAL: 'manual'> apasionado_motor='sí' aventura=<NivelAventura.extrema: 'extrema'>\n",
      "Recibido Filtros (antes): estetica_min=5.0 tipo_mecanica=[<TipoMecanica.BEV: 'BEV'>, <TipoMecanica.REEV: 'REEV'>] premium_min=5.0 singular_min=5.0 tipo_carroceria=['SUV', 'CROSSOVER'] modo_adquisicion_recomendado='Financiado' precio_max_contado_recomendado=None cuota_max_calculada=None\n",
      "DEBUG PostProc Filtros: Valor de valora_estetica_val = 'sí' (Tipo: <class 'str'>)\n",
      "DEBUG PostProc Filtros: Resultado de is_yes(valora_estetica_val) = True\n",
      "DEBUG (PostProc Filtros) ► Aplicando regla: valora_estetica='sí' -> estetica_min=5.0\n",
      "DEBUG PostProc Filtros: Valor de apasionado_motor_val = 'sí' (Tipo: <class 'str'>)\n",
      "DEBUG PostProc Filtros: Resultado de is_yes(apasionado_motor_val) = True\n",
      "DEBUG (PostProc Filtros) ► Aplicando regla: apasionado_motor='sí' -> premium/singular_min=5.0\n",
      "DEBUG (PostProc Filtros) ► Filtros tras post-procesamiento: estetica_min=6.0 tipo_mecanica=[<TipoMecanica.BEV: 'BEV'>, <TipoMecanica.REEV: 'REEV'>] premium_min=6.0 singular_min=6.0 tipo_carroceria=['SUV', 'CROSSOVER'] modo_adquisicion_recomendado='Financiado' precio_max_contado_recomendado=None cuota_max_calculada=None\n",
      "DEBUG (Filtros) ► Filtros TRAS post-procesamiento: estetica_min=6.0 tipo_mecanica=[<TipoMecanica.BEV: 'BEV'>, <TipoMecanica.REEV: 'REEV'>] premium_min=6.0 singular_min=6.0 tipo_carroceria=['SUV', 'CROSSOVER'] modo_adquisicion_recomendado='Financiado' precio_max_contado_recomendado=None cuota_max_calculada=None\n",
      "DEBUG (Filtros) ► Estado filtros_inferidos actualizado: estetica_min=6.0 tipo_mecanica=[<TipoMecanica.BEV: 'BEV'>, <TipoMecanica.REEV: 'REEV'>] premium_min=6.0 singular_min=6.0 tipo_carroceria=['SUV', 'CROSSOVER'] modo_adquisicion_recomendado='Financiado' precio_max_contado_recomendado=None cuota_max_calculada=None\n",
      "DEBUG (Filtros) ► Guardando pregunta pendiente: Ok, he definido los filtros técnicos basados en tus preferencias.\n",
      "--- Ejecutando Nodo: validar_filtros_node ---\n",
      "DEBUG (Validation Filtros) ► Todos los campos obligatorios de filtros ('tipo_mecanica') están presentes y válidos.\n",
      "DEBUG (Filtros) ► Validación: FiltrosInferidos considerados COMPLETOS.\n",
      "--- Evaluando Condición: ruta_decision_filtros ---\n",
      "DEBUG (Validation Filtros) ► Todos los campos obligatorios de filtros ('tipo_mecanica') están presentes y válidos.\n",
      "DEBUG (Condición Filtros) ► Filtros COMPLETOS. Avanzando a economía.\n",
      "--- Ejecutando Nodo: recopilar_economia_node ---\n",
      "DEBUG (Economía) ► Llamando a llm_economia...\n"
     ]
    },
    {
     "name": "stderr",
     "output_type": "stream",
     "text": [
      "DEBUG:httpcore.http11:receive_response_headers.complete return_value=(b'HTTP/1.1', 200, b'OK', [(b'Date', b'Sun, 04 May 2025 14:04:08 GMT'), (b'Content-Type', b'application/json'), (b'Transfer-Encoding', b'chunked'), (b'Connection', b'keep-alive'), (b'access-control-expose-headers', b'X-Request-ID'), (b'openai-organization', b'user-ic25pcewdjuowsz9q2ektvrn'), (b'openai-processing-ms', b'3184'), (b'openai-version', b'2020-10-01'), (b'x-ratelimit-limit-requests', b'10000'), (b'x-ratelimit-limit-tokens', b'200000'), (b'x-ratelimit-remaining-requests', b'9997'), (b'x-ratelimit-remaining-tokens', b'197996'), (b'x-ratelimit-reset-requests', b'18.56s'), (b'x-ratelimit-reset-tokens', b'600ms'), (b'x-request-id', b'req_0e40207ca67003231c13bb006b17eece'), (b'strict-transport-security', b'max-age=31536000; includeSubDomains; preload'), (b'cf-cache-status', b'DYNAMIC'), (b'X-Content-Type-Options', b'nosniff'), (b'Server', b'cloudflare'), (b'CF-RAY', b'93a88b953b94668f-MAD'), (b'Content-Encoding', b'gzip'), (b'alt-svc', b'h3=\":443\"; ma=86400')])\n",
      "INFO:httpx:HTTP Request: POST https://api.openai.com/v1/chat/completions \"HTTP/1.1 200 OK\"\n",
      "DEBUG:httpcore.http11:receive_response_body.started request=<Request [b'POST']>\n",
      "DEBUG:httpcore.http11:receive_response_body.complete\n",
      "DEBUG:httpcore.http11:response_closed.started\n",
      "DEBUG:httpcore.http11:response_closed.complete\n",
      "DEBUG:openai._base_client:HTTP Response: POST https://api.openai.com/v1/chat/completions \"200 OK\" Headers({'date': 'Sun, 04 May 2025 14:04:08 GMT', 'content-type': 'application/json', 'transfer-encoding': 'chunked', 'connection': 'keep-alive', 'access-control-expose-headers': 'X-Request-ID', 'openai-organization': 'user-ic25pcewdjuowsz9q2ektvrn', 'openai-processing-ms': '3184', 'openai-version': '2020-10-01', 'x-ratelimit-limit-requests': '10000', 'x-ratelimit-limit-tokens': '200000', 'x-ratelimit-remaining-requests': '9997', 'x-ratelimit-remaining-tokens': '197996', 'x-ratelimit-reset-requests': '18.56s', 'x-ratelimit-reset-tokens': '600ms', 'x-request-id': 'req_0e40207ca67003231c13bb006b17eece', 'strict-transport-security': 'max-age=31536000; includeSubDomains; preload', 'cf-cache-status': 'DYNAMIC', 'x-content-type-options': 'nosniff', 'server': 'cloudflare', 'cf-ray': '93a88b953b94668f-MAD', 'content-encoding': 'gzip', 'alt-svc': 'h3=\":443\"; ma=86400'})\n",
      "DEBUG:openai._base_client:request_id: req_0e40207ca67003231c13bb006b17eece\n"
     ]
    },
    {
     "name": "stdout",
     "output_type": "stream",
     "text": [
      "DEBUG (Economía) ► Respuesta llm_economia: economia=EconomiaUsuario(modo=1, submodo=None, ingresos=None, ahorro=None, pago_contado=None, cuota_max=None, entrada=None, anos_posesion=None) mensaje_validacion='Entendido, usaremos el modo asesor financiero. Para poder calcular un presupuesto adecuado, ¿podrías indicarme cuales son tus ingresos netos anuales aproximados?'\n",
      "DEBUG (Economía) ► Estado economía actualizado: modo=1 submodo=None ingresos=None ahorro=None pago_contado=None cuota_max=None entrada=None anos_posesion=None\n",
      "DEBUG (Economía) ► Guardando pregunta pendiente: Entendido, usaremos el modo asesor financiero. Para poder calcular un presupuesto adecuado, ¿podrías indicarme cuales son tus ingresos netos anuales aproximados?\n",
      "--- Ejecutando Nodo: validar_economia_node ---\n",
      "--- DEBUG CHECK ECONOMIA (Manual) ---\n",
      "Input econ object: modo=1 submodo=None ingresos=None ahorro=None pago_contado=None cuota_max=None entrada=None anos_posesion=None\n",
      "DEBUG (Validation Economía Manual) ► Modo 1 INCOMPLETO (faltan: ingresos, ahorro, anos_posesion).\n",
      "DEBUG (Economía) ► Validación: Economía considerada INCOMPLETA.\n",
      "--- Evaluando Condición: ruta_decision_economia ---\n",
      "--- DEBUG CHECK ECONOMIA (Manual) ---\n",
      "Input econ object: modo=1 submodo=None ingresos=None ahorro=None pago_contado=None cuota_max=None entrada=None anos_posesion=None\n",
      "DEBUG (Validation Economía Manual) ► Modo 1 INCOMPLETO (faltan: ingresos, ahorro, anos_posesion).\n",
      "DEBUG (Condición Economía) ► Economía INCOMPLETA. Se necesita pregunta.\n",
      "--- Ejecutando Nodo: preguntar_economia_node ---\n",
      "DEBUG (Preguntar Economía) ► Usando pregunta guardada: Entendido, usaremos el modo asesor financiero. Para poder calcular un presupuesto adecuado, ¿podrías indicarme cuales son tus ingresos netos anuales aproximados?\n",
      "DEBUG (Preguntar Economía) ► Mensaje final añadido: Entendido, usaremos el modo asesor financiero. Para poder calcular un presupuesto adecuado, ¿podrías indicarme cuales son tus ingresos netos anuales aproximados?\n",
      "==================================\u001b[1m Ai Message \u001b[0m==================================\n",
      "\n",
      "Entendido, usaremos el modo asesor financiero. Para poder calcular un presupuesto adecuado, ¿podrías indicarme cuales son tus ingresos netos anuales aproximados?\n"
     ]
    }
   ],
   "source": [
    "# Create a thread\n",
    "config = {\"configurable\": {\"thread_id\": \"1\"}}\n",
    "\n",
    "# Start conversation\n",
    "input_message = HumanMessage(content=\"opcion 1\")\n",
    "output = graph.invoke({\"messages\": [input_message]}, config) \n",
    "for m in output['messages'][-1:]:\n",
    "    m.pretty_print()"
   ]
  },
  {
   "cell_type": "code",
   "execution_count": null,
   "metadata": {},
   "outputs": [],
   "source": [
    "print(output['preferencias_usuario'])\n",
    "print('-----------------------')\n",
    "# print(output['filtros_inferidos'])\n",
    "# print('-----------------------')\n",
    "# print(output['economia'])\n",
    "print(output.keys())"
   ]
  },
  {
   "cell_type": "code",
   "execution_count": 12,
   "metadata": {},
   "outputs": [
    {
     "name": "stderr",
     "output_type": "stream",
     "text": [
      "DEBUG:openai._base_client:Request options: {'method': 'post', 'url': '/chat/completions', 'headers': {'X-Stainless-Helper-Method': 'beta.chat.completions.parse'}, 'files': None, 'post_parser': <function Completions.parse.<locals>.parser at 0x1185f8360>, 'json_data': {'messages': [{'content': '<Role>\\nEres un asistente de conversación amigable y metodológico. Tu misión actual es conocer las preferencias generales y el perfil básico de un usuario que busca un coche (`PerfilUsuario`). Debes seguir las reglas especificadas y generar SIEMPRE un objeto JSON válido que cumpla el esquema `ResultadoSoloPerfil`. Mantén un tono cercano.\\n</Role>\\n\\n<Esquema_JSON_Requerido>\\nLa estructura JSON que DEBES generar es la siguiente:\\n```json\\n{{\\n  \"$defs\": {\\n    \"NivelAventura\": {\\n      \"enum\": [\\n        \"ninguna\",\\n        \"ocasional\",\\n        \"extrema\"\\n      ],\\n      \"title\": \"NivelAventura\",\\n      \"type\": \"string\"\\n    },\\n    \"PerfilUsuario\": {\\n      \"properties\": {\\n        \"altura_mayor_190\": {\\n          \"anyOf\": [\\n            {\\n              \"type\": \"string\"\\n            },\\n            {\\n              \"type\": \"null\"\\n            }\\n          ],\\n          \"description\": \"\\\\u00bfEl usuario mide m\\\\u00e1s de 1.90 metros? Responde \\'s\\\\u00ed\\' o \\'no\\'\",\\n          \"title\": \"Altura Mayor 190\"\\n        },\\n...\\n  ],\\n  \"title\": \"ResultadoSoloPerfil\",\\n  \"type\": \"object\"\\n}}\\n</Esquema_JSON_Requerido>\\n\\n<Reglas_Generales>\\n\\n1. Analiza TODO el historial de la conversación y el último mensaje del usuario para extraer/inferir valores para TODOS los campos de preferencias_usuario. Usa null si no hay información.\\n2. Haz solo preguntas relevantes según los campos de PerfilUsuario que falten y no repitas preguntas que ya hayan sido respondidas explícita o implícitamente.\\n3. PROHIBIDO preguntar por temas fuera de PerfilUsuario en esta etapa (NO preguntar por precio, consumo, filtros técnicos como tipo_mecanica, tecnología, seguridad, maletero, etc.).\\n4. Usa el campo mensaje_validacion para formular la siguiente pregunta necesaria o para confirmar que el perfil está completo. </Reglas_Generales>\\n</Reglas_Generales>\\n\\n<Reglas_Preguntas_Especificas>\\n\\nUsa estas preguntas EXACTAS cuando necesites preguntar por estos campos de PerfilUsuario:\\n\\naltura_mayor_190: \"¿Mides más de 1.90 m?\"\\npeso_mayor_100: \"¿Pesas más de 100 kg?\"\\nuso_profesional: \"¿Uso personal o profesional?\"\\nvalora_estetica: \"¿Valoras la estética?\"\\nsolo_electricos: \"¿Quieres solo coches eléctricos?\"\\ntransmision_preferida: (Si falta y es relevante preguntar) \"¿Qué tipo de transmisión prefieres?\\\\n 1) Automático\\\\n 2) Manual\\\\n 3) Ambos\"\\napasionado_motor: \"¿Eres un apasionado del motor?\"\\nManejo de aventura: Si no se ha preguntado por aventura y no se puede inferir un valor (ninguna, ocasional, extrema), deja \"aventura\": null en preferencias_usuario y USA UNO de los siguientes templates EXACTOS en mensaje_validacion (elige el que te parezca más natural en el contexto):\\n\\n<Aventura_Templates>\\n\\nTemplate 1: “Hablando de aventura, ¿con cuál de estas afirmaciones te identificas más?\\\\n 1) No pisas nada que no sea asfalto (ninguna)\\\\n 2) Salidas fuera de asfalto ocasionales (ocasional)\\\\n 3) Circular en condiciones duras con total garantía (extrema)”\\nTemplate 2: “Para conocer tu espíritu aventurero, dime:\\\\n 1) Solo asfalto (ninguna)\\\\n 2) Salidas off‑road de vez en cuando (ocasional)\\\\n 3) Aventurero extremo en terrenos difíciles (extrema)” </Aventura_Templates>\\nConfirmación de Perfil Completo: Si consideras que todos los campos necesarios de PerfilUsuario ya tienen un valor (no null), usa un mensaje de confirmación en mensaje_validacion. Ejemplo: \"¡Perfecto! Ya tenemos tus preferencias principales. ¿Pasamos a los detalles técnicos?\" o simplemente \"\".\\n</Reglas_Preguntas_Especificas>\\n\\n<Ejemplos_Perfil>\\n\\nEjemplo 1: Inicio, pregunta por Aventura\\n\\nContexto (Historial + Último mensaje): [HumanMessage(content=\\'Hola, dime quién eres\\')]\\nSalida JSON Esperada:\\nJSON\\n\\n{\\n  \"preferencias_usuario\": {\\n    \"altura_mayor_190\": null, \"peso_mayor_100\": null, \"uso_profesional\": null, \\n    \"valora_estetica\": null, \"solo_electricos\": null, \"transmision_preferida\": null, \\n    \"apasionado_motor\": null, \"aventura\": null \\n  },\\n  \"mensaje_validacion\": \"¡Hola! Soy Mentor, tu asistente para encontrar el coche perfecto. Analizo tus necesidades y preferencias. Para empezar, hablando de aventura, ¿con cuál de estas afirmaciones te identificas más?\\\\n  1) No pisas nada que no sea asfalto (ninguna)\\\\n  2) Salidas fuera de asfalto ocasionales (ocasional)\\\\n  3) Circular en condiciones duras con total garantía (extrema)\"\\n}\\n\\nEjemplo 2: Usuario da altura, estética y uso; pregunta por Transmisión\\n\\nContexto: [..., HumanMessage(content=\\'Mido 1.95m y me gustan los coches con buen diseño. Quiero algo para ir al trabajo.\\')]\\nSalida JSON Esperada:\\nJSON\\n\\n{\\n  \"preferencias_usuario\": {\\n    \"altura_mayor_190\": \"sí\", \"peso_mayor_100\": null, \"uso_profesional\": \"sí\", \\n    \"valora_estetica\": \"sí\", \"solo_electricos\": null, \"transmision_preferida\": null, \\n    \"apasionado_motor\": null, \"aventura\": null \\n  },\\n  \"mensaje_validacion\": \"Entendido: mides más de 1.90m, valoras la estética y es para uso profesional. ¿Qué tipo de transmisión prefieres?\\\\n  1) Automático\\\\n  2) Manual\\\\n  3) Ambos\" \\n}\\n(Nota: En este ejemplo, asumimos que preguntar por transmisión es prioritario sobre aventura según tu lógica interna o la del LLM)\\n\\nEjemplo 3: Perfil completo, mensaje de confirmación\\n\\nContexto: [..., HumanMessage(content=\\'Prefiero automático, no quiero solo eléctricos, y no soy apasionado del motor. Uso personal y solo asfalto. No soy alto ni pesado.\\')]\\nSalida JSON Esperada:\\nJSON\\n\\n{\\n  \"preferencias_usuario\": {\\n    \"altura_mayor_190\": \"no\", \"peso_mayor_100\": \"no\", \"uso_profesional\": \"no\", \\n    \"valora_estetica\": \"sí\", # Asumiendo que se preguntó/infirió antes\\n    \"solo_electricos\": \"no\", \"transmision_preferida\": \"automatico\", \\n    \"apasionado_motor\": \"no\", \"aventura\": \"ninguna\" \\n  },\\n  \"mensaje_validacion\": \"¡Estupendo! Creo que ya tengo claras todas tus preferencias principales. ¿Vamos a ver qué características técnicas encajarían?\" \\n}\\n</Ejemplos_Perfil>\\n\\n<Formato_Salida_JSON_Final>\\nGenera únicamente el objeto JSON completo y válido solicitado que cumpla el esquema ResultadoSoloPerfil, sin añadir ningún texto antes o después.\\n\\nJSON\\n\\n{\\n  \"preferencias_usuario\": { ... },\\n  \"mensaje_validacion\": \"<string>\"\\n}\\n</Formato_Salida_JSON_Final>', 'role': 'user'}, {'content': 'oye busco un coche para la ciudad', 'role': 'user'}, {'content': '¡Hola! Para ayudarte mejor, hablemos de aventura. ¿Con cuál de estas afirmaciones te identificas más?\\n 1) No pisas nada que no sea asfalto (ninguna)\\n 2) Salidas fuera de asfalto ocasionales (ocasional)\\n 3) Circular en condiciones duras con total garantía (extrema)', 'role': 'assistant'}, {'content': 'la 3', 'role': 'user'}, {'content': '¿Mides más de 1.90 m?', 'role': 'assistant'}, {'content': ' mido 1.90 y peso 80kg', 'role': 'user'}, {'content': 'Entendido: mides 1.90m y tu nivel de aventura es extrema. ¿Uso personal o profesional?', 'role': 'assistant'}, {'content': 'uso personal', 'role': 'user'}, {'content': 'Perfecto, ya tenemos tus preferencias principales. ¿Valoras la estética?', 'role': 'assistant'}, {'content': 'si', 'role': 'user'}, {'content': '¿Qué tipo de transmisión prefieres?\\n 1) Automático\\n 2) Manual\\n 3) Ambos', 'role': 'assistant'}, {'content': 'Manual', 'role': 'user'}, {'content': '¡Estupendo! Creo que ya tengo claras todas tus preferencias principales. ¿Vamos a ver qué características técnicas encajarían?', 'role': 'assistant'}, {'content': 'vale, continua...', 'role': 'user'}, {'content': '¿Quieres solo coches eléctricos?', 'role': 'assistant'}, {'content': 'si, solo electricos', 'role': 'user'}, {'content': '¿Eres un apasionado del motor?', 'role': 'assistant'}, {'content': 'si, lo soy', 'role': 'user'}, {'content': 'Con el fin de conocer tus preferencias financieras que opción (modo) prefieres: 1. Prefiero que me aconsejes con criterios de inteligencia financiera. 2. Prefiero indicar yo mismo cuánto y cómo gastar.', 'role': 'assistant'}, {'content': 'opcion 1', 'role': 'user'}, {'content': 'Entendido, usaremos el modo asesor financiero. Para poder calcular un presupuesto adecuado, ¿podrías indicarme cuales son tus ingresos netos anuales aproximados?', 'role': 'assistant'}, {'content': '35.000', 'role': 'user'}], 'model': 'gpt-4o-mini', 'response_format': {'type': 'json_schema', 'json_schema': {'schema': {'$defs': {'NivelAventura': {'enum': ['ninguna', 'ocasional', 'extrema'], 'title': 'NivelAventura', 'type': 'string'}, 'PerfilUsuario': {'properties': {'altura_mayor_190': {'anyOf': [{'type': 'string'}, {'type': 'null'}], 'description': \"¿El usuario mide más de 1.90 metros? Responde 'sí' o 'no'\", 'title': 'Altura Mayor 190'}, 'peso_mayor_100': {'anyOf': [{'type': 'string'}, {'type': 'null'}], 'description': \"¿El usuario pesa más de 100 kg? Responde 'sí' o 'no'\", 'title': 'Peso Mayor 100'}, 'uso_profesional': {'anyOf': [{'type': 'string'}, {'type': 'null'}], 'description': \"¿Usará el coche para trabajo? Responde 'sí' o 'no'\", 'title': 'Uso Profesional'}, 'valora_estetica': {'anyOf': [{'type': 'string'}, {'type': 'null'}], 'description': \"¿Valora la estética del coche? Responde 'sí' o 'no'\", 'title': 'Valora Estetica'}, 'solo_electricos': {'anyOf': [{'type': 'string'}, {'type': 'null'}], 'description': \"¿Quiere solo coches eléctricos? Responde 'sí' o 'no'\", 'title': 'Solo Electricos'}, 'transmision_preferida': {'anyOf': [{'$ref': '#/$defs/Transmision'}, {'type': 'null'}], 'description': '¿Qué transmisión prefieres: automático, manual o ambos?'}, 'apasionado_motor': {'anyOf': [{'type': 'string'}, {'type': 'null'}], 'description': \"¿Eres un apasionado/a del motor y/o la movilidad? Responde 'sí' o 'no'\", 'title': 'Apasionado Motor'}, 'aventura': {'anyOf': [{'$ref': '#/$defs/NivelAventura'}, {'type': 'null'}], 'description': \"¿Qué nivel de aventura buscas con tu vehículo: 'ninguna', 'ocasional' o 'extrema'?\"}}, 'title': 'PerfilUsuario', 'type': 'object', 'additionalProperties': False, 'required': ['altura_mayor_190', 'peso_mayor_100', 'uso_profesional', 'valora_estetica', 'solo_electricos', 'transmision_preferida', 'apasionado_motor', 'aventura']}, 'Transmision': {'enum': ['automático', 'manual', 'ambos'], 'title': 'Transmision', 'type': 'string'}}, 'description': 'Salida esperada del LLM enfocado solo en el perfil del usuario.', 'properties': {'preferencias_usuario': {'$ref': '#/$defs/PerfilUsuario'}, 'mensaje_validacion': {'description': 'Pregunta de seguimiento CLARA y CORTA si falta información ESENCIAL para completar el PerfilUsuario, o un mensaje de confirmación si el perfil está completo.', 'title': 'Mensaje Validacion', 'type': 'string'}}, 'required': ['preferencias_usuario', 'mensaje_validacion'], 'title': 'ResultadoSoloPerfil', 'type': 'object', 'additionalProperties': False}, 'name': 'ResultadoSoloPerfil', 'strict': True}}, 'stream': False, 'temperature': 0.2}}\n",
      "DEBUG:openai._base_client:Sending HTTP Request: POST https://api.openai.com/v1/chat/completions\n",
      "DEBUG:httpcore.connection:close.started\n",
      "DEBUG:httpcore.connection:close.complete\n",
      "DEBUG:httpcore.connection:connect_tcp.started host='api.openai.com' port=443 local_address=None timeout=None socket_options=None\n",
      "DEBUG:httpcore.connection:connect_tcp.complete return_value=<httpcore._backends.sync.SyncStream object at 0x14c215790>\n",
      "DEBUG:httpcore.connection:start_tls.started ssl_context=<ssl.SSLContext object at 0x11f6eccb0> server_hostname='api.openai.com' timeout=None\n",
      "DEBUG:httpcore.connection:start_tls.complete return_value=<httpcore._backends.sync.SyncStream object at 0x14c23fdd0>\n",
      "DEBUG:httpcore.http11:send_request_headers.started request=<Request [b'POST']>\n",
      "DEBUG:httpcore.http11:send_request_headers.complete\n",
      "DEBUG:httpcore.http11:send_request_body.started request=<Request [b'POST']>\n",
      "DEBUG:httpcore.http11:send_request_body.complete\n",
      "DEBUG:httpcore.http11:receive_response_headers.started request=<Request [b'POST']>\n"
     ]
    },
    {
     "name": "stdout",
     "output_type": "stream",
     "text": [
      "--- Ejecutando Nodo: recopilar_preferencias_node ---\n",
      "DEBUG (Perfil) ► Último mensaje es HumanMessage o historial vacío, llamando a llm_solo_perfil...\n"
     ]
    },
    {
     "name": "stderr",
     "output_type": "stream",
     "text": [
      "DEBUG:httpcore.http11:receive_response_headers.complete return_value=(b'HTTP/1.1', 200, b'OK', [(b'Date', b'Sun, 04 May 2025 14:04:24 GMT'), (b'Content-Type', b'application/json'), (b'Transfer-Encoding', b'chunked'), (b'Connection', b'keep-alive'), (b'access-control-expose-headers', b'X-Request-ID'), (b'openai-organization', b'user-ic25pcewdjuowsz9q2ektvrn'), (b'openai-processing-ms', b'4552'), (b'openai-version', b'2020-10-01'), (b'x-ratelimit-limit-requests', b'10000'), (b'x-ratelimit-limit-tokens', b'200000'), (b'x-ratelimit-remaining-requests', b'9998'), (b'x-ratelimit-remaining-tokens', b'198128'), (b'x-ratelimit-reset-requests', b'12.592s'), (b'x-ratelimit-reset-tokens', b'561ms'), (b'x-request-id', b'req_3e1ef55d104210cb8e65001e9a382288'), (b'strict-transport-security', b'max-age=31536000; includeSubDomains; preload'), (b'cf-cache-status', b'DYNAMIC'), (b'X-Content-Type-Options', b'nosniff'), (b'Server', b'cloudflare'), (b'CF-RAY', b'93a88bf09cec03bd-MAD'), (b'Content-Encoding', b'gzip'), (b'alt-svc', b'h3=\":443\"; ma=86400')])\n",
      "INFO:httpx:HTTP Request: POST https://api.openai.com/v1/chat/completions \"HTTP/1.1 200 OK\"\n",
      "DEBUG:httpcore.http11:receive_response_body.started request=<Request [b'POST']>\n",
      "DEBUG:httpcore.http11:receive_response_body.complete\n",
      "DEBUG:httpcore.http11:response_closed.started\n",
      "DEBUG:httpcore.http11:response_closed.complete\n",
      "DEBUG:openai._base_client:HTTP Response: POST https://api.openai.com/v1/chat/completions \"200 OK\" Headers({'date': 'Sun, 04 May 2025 14:04:24 GMT', 'content-type': 'application/json', 'transfer-encoding': 'chunked', 'connection': 'keep-alive', 'access-control-expose-headers': 'X-Request-ID', 'openai-organization': 'user-ic25pcewdjuowsz9q2ektvrn', 'openai-processing-ms': '4552', 'openai-version': '2020-10-01', 'x-ratelimit-limit-requests': '10000', 'x-ratelimit-limit-tokens': '200000', 'x-ratelimit-remaining-requests': '9998', 'x-ratelimit-remaining-tokens': '198128', 'x-ratelimit-reset-requests': '12.592s', 'x-ratelimit-reset-tokens': '561ms', 'x-request-id': 'req_3e1ef55d104210cb8e65001e9a382288', 'strict-transport-security': 'max-age=31536000; includeSubDomains; preload', 'cf-cache-status': 'DYNAMIC', 'x-content-type-options': 'nosniff', 'server': 'cloudflare', 'cf-ray': '93a88bf09cec03bd-MAD', 'content-encoding': 'gzip', 'alt-svc': 'h3=\":443\"; ma=86400'})\n",
      "DEBUG:openai._base_client:request_id: req_3e1ef55d104210cb8e65001e9a382288\n",
      "DEBUG:openai._base_client:Request options: {'method': 'post', 'url': '/chat/completions', 'headers': {'X-Stainless-Helper-Method': 'beta.chat.completions.parse'}, 'files': None, 'post_parser': <function Completions.parse.<locals>.parser at 0x11fa4b600>, 'json_data': {'messages': [{'content': '<Role>\\nEres un asistente técnico experto en vehículos. Tu función es traducir las preferencias generales de un usuario en filtros técnicos específicos para la búsqueda de coches. Debes basarte estrictamente en las preferencias proporcionadas y generar una respuesta JSON que SIEMPRE se ajuste al esquema `ResultadoSoloFiltros`.\\n</Role>\\n\\n<Contexto_Preferencias_Usuario>\\n\\n<Contexto_Preferencias_Usuario>\\nA continuación se detallan las preferencias del usuario recopiladas previamente. Úsalas como base INDISPENSABLE para tu inferencia:\\n```json\\n{\\'altura_mayor_190\\': \\'sí\\', \\'peso_mayor_100\\': \\'no\\', \\'uso_profesional\\': \\'no\\', \\'valora_estetica\\': \\'sí\\', \\'solo_electricos\\': \\'sí\\', \\'transmision_preferida\\': \\'manual\\', \\'apasionado_motor\\': \\'sí\\', \\'aventura\\': \\'extrema\\'}\\n</Contexto_Preferencias_Usuario>\\n\\n<Esquema_JSON_Requerido>\\nA continuación se detallan las preferencias del usuario recopiladas previamente. Úsalas como base INDISPENSABLE para tu inferencia:\\n{\\n  \"$defs\": {\\n    \"FiltrosInferidos\": {\\n      \"properties\": {\\n        \"estetica_min\": {\\n          \"anyOf\": [\\n            {\\n              \"type\": \"number\"\\n            },\\n            {\\n              \"type\": \"null\"\\n            }\\n          ],\\n          \"default\": null,\\n          \"description\": \"M\\\\u00ednimo valor de est\\\\u00e9tica recomendado (0.0 a 10.0)\",\\n          \"title\": \"Estetica Min\"\\n        },\\n        \"tipo_mecanica\": {\\n          \"anyOf\": [\\n            {\\n              \"items\": {\\n                \"$ref\": \"#/$defs/TipoMecanica\"\\n              },\\n              \"type\": \"array\"\\n            },\\n            {\\n              \"type\": \"null\"\\n            }\\n          ],\\n          \"default\": null,\\n          \"description\": \"Lista de motorizaciones recomendadas\",\\n          \"title\": \"Tipo Mecanica\"\\n        },\\n        \"premium_min\": {\\n          \"anyOf\": [\\n            {\\n              \"type\": \"number\"\\n            },\\n            {\\n              \"type\": \"null\"\\n            }\\n          ],\\n          \"default\": null,\\n          \"description\": \"M\\\\u00ednimo valor de premium recomendado (0.0 a 10.0)\",\\n          \"title\": \"Premium Min\"\\n        },\\n        \"singular_min\": {\\n          \"anyOf\": [\\n            {\\n              \"type\": \"number\"\\n            },\\n            {\\n              \"type\": \"null\"\\n            }\\n          ],\\n          \"default\": null,\\n          \"description\": \"M\\\\u00ednimo valor de singularidad recomendado (0.0 a 10.0)\",\\n          \"title\": \"Singular Min\"\\n        },\\n        \"tipo_carroceria\": {\\n          \"anyOf\": [\\n            {\\n              \"items\": {\\n                \"type\": \"string\"\\n              },\\n              \"type\": \"array\"\\n            },\\n            {\\n              \"type\": \"null\"\\n            }\\n          ],\\n          \"default\": null,\\n          \"description\": \"Lista de tipos de carrocer\\\\u00eda recomendados por RAG (ej: [\\'SUV\\', \\'COUPE\\'])\",\\n          \"title\": \"Tipo Carroceria\"\\n        },\\n        \"modo_adquisicion_recomendado\": {\\n          \"anyOf\": [\\n            {\\n              \"enum\": [\\n                \"Contado\",\\n                \"Financiado\"\\n              ],\\n              \"type\": \"string\"\\n            },\\n            {\\n              \"type\": \"null\"\\n            }\\n          ],\\n          \"default\": null,\\n          \"description\": \"Modo de compra recomendado (Contado/Financiado) basado en an\\\\u00e1lisis Modo 1.\",\\n          \"title\": \"Modo Adquisicion Recomendado\"\\n        },\\n        \"precio_max_contado_recomendado\": {\\n          \"anyOf\": [\\n            {\\n              \"type\": \"number\"\\n            },\\n            {\\n              \"type\": \"null\"\\n            }\\n          ],\\n          \"default\": null,\\n          \"description\": \"Precio m\\\\u00e1ximo recomendado si se aconseja comprar al contado (Modo 1).\",\\n          \"title\": \"Precio Max Contado Recomendado\"\\n        },\\n        \"cuota_max_calculada\": {\\n          \"anyOf\": [\\n            {\\n              \"type\": \"number\"\\n            },\\n            {\\n              \"type\": \"null\"\\n            }\\n          ],\\n          \"default\": null,\\n          \"description\": \"Cuota mensual m\\\\u00e1xima calculada si se aconseja financiar (Modo 1).\",\\n          \"title\": \"Cuota Max Calculada\"\\n        }\\n      },\\n      \"title\": \"FiltrosInferidos\",\\n      \"type\": \"object\"\\n    },\\n    \"TipoMecanica\": {\\n      \"enum\": [\\n        \"GASOLINA\",\\n        \"DIESEL\",\\n        \"BEV\",\\n        \"FCEV\",\\n        \"GLP\",\\n        \"GNV\",\\n        \"HEVD\",\\n        \"HEVG\",\\n        \"MHEVD\",\\n        \"MHEVG\",\\n        \"PHEVD\",\\n        \"PHEVG\",\\n        \"REEV\"\\n      ],\\n      \"title\": \"TipoMecanica\",\\n      \"type\": \"string\"\\n    }\\n  },\\n  \"description\": \"Salida esperada del LLM enfocado solo en inferir filtros t\\\\u00e9cnicos.\",\\n  \"properties\": {\\n    \"filtros_inferidos\": {\\n      \"$ref\": \"#/$defs/FiltrosInferidos\"\\n    },\\n    \"mensaje_validacion\": {\\n      \"description\": \"Pregunta de seguimiento CLARA y CORTA si falta informaci\\\\u00f3n ESENCIAL para completar los FiltrosInferidos (ej: tipo_mecanica), o un mensaje de confirmaci\\\\u00f3n si los filtros est\\\\u00e1n completos.\",\\n      \"title\": \"Mensaje Validacion\",\\n      \"type\": \"string\"\\n    }\\n  },\\n  \"required\": [\\n    \"filtros_inferidos\",\\n    \"mensaje_validacion\"\\n  ],\\n  \"title\": \"ResultadoSoloFiltros\",\\n  \"type\": \"object\"\\n}\\n</Esquema_JSON_Requerido>\\n\\n\\n<Instrucciones_Detalladas_Inferencia>\\n\\nAnaliza las <Contexto_Preferencias_Usuario> proporcionadas.\\nInfiere los valores para los campos dentro de filtros_inferidos en el JSON de salida, siguiendo estas directrices:\\n\\n\\n- estetica_min: Si preferencias_contexto indica valora_estetica: \\'sí\\', asigna un valor numérico como 5.0 o 6.0. Si es \\'no\\' o null, asigna 1.0.\\n- tipo_mecanica: ¡CAMPO CRÍTICO Y OBLIGATORIO! Debes inferir una lista de strings.\\n- Si preferencias_contexto indica solo_electricos: \\'sí\\', la lista DEBE ser [\"BEV\", \"REEV\"].\\n- Si solo_electricos es \\'no\\', proporciona una lista sensata basada en otras preferencias (ej: para \"coche para la ciudad\" podría ser [\"BEV\", \"GASOLINA\", \"HIBRIDO\"]). Evita \\'DIESEL\\' para uso urbano si no hay otra indicación.\\n- Si solo_electricos es null o desconocido, intenta inferir una lista general o, si no es posible, pregunta usando mensaje_validacion.\\n- Los únicos valores válidos para esta lista son: { \\'GASOLINA\\', \\'DIESEL\\', \\'BEV\\', \\'FCEV\\', \\'GLP\\', \\'GNV\\', \\'HEVD\\', \\'HEVG\\', \\'MHEVD\\', \\'MHEVG\\', \\'PHEVD\\', \\'PHEVG\\', \\'REEV\\' }. Asegúrate de devolver una lista de strings válidos. Es obligatorio que este campo contenga al menos un valor si es posible inferirlo.\\n- premium_min y singular_min: Si preferencias_contexto indica apasionado_motor: \\'sí\\', asigna un valor numérico como 5.0 o más. Si es \\'no\\' o null, asigna 1.0 o déjalos null.\\n\\n-Campo mensaje_validacion:\\nSi NO pudiste inferir un valor para un filtro crítico (especialmente tipo_mecanica), usa este campo para generar una pregunta corta y específica dirigida a obtener ese filtro faltante. Ejemplo: \"No estoy seguro de qué tipo de motorización prefieres (gasolina, híbrido, eléctrico...). ¿Podrías indicármelo?\".\\nSi has podido inferir todos los filtros necesarios (incluyendo tipo_mecanica), puedes dejar este campo como una cadena vacía \"\" o poner un mensaje corto de confirmación como \"Ok, he definido los filtros técnicos basados en tus preferencias.\".\\nPrecisión: No inventes valores. Si una preferencia no da información para un filtro opcional, déjalo como null. Si falta información para un filtro crítico que no puedes inferir, pregunta. \\n\\n</Instrucciones_Detalladas_Inferencia>\\n\\n<Ejemplos>\\n\\n**Ejemplo 1:**\\n\\n* **Preferencias de Entrada (Contexto):**\\n    ```json\\n    {\\n      \"altura_mayor_190\": \"no\",\\n      \"peso_mayor_100\": \"no\",\\n      \"uso_profesional\": \"no\",\\n      \"valora_estetica\": \"sí\",\\n      \"solo_electricos\": \"no\",\\n      \"transmision_preferida\": \"automatico\",\\n      \"apasionado_motor\": \"no\",\\n      \"aventura\": \"ninguna\"\\n    }\\n    ```\\n* **Salida JSON Esperada:**\\n    ```json\\n    {\\n      \"filtros_inferidos\": {\\n        \"estetica_min\": 5.0,\\n        \"tipo_mecanica\": [\"BEV\", \"GASOLINA\", \"HIBRIDO\"],\\n        \"premium_min\": 1.0,\\n        \"singular_min\": 1.0\\n      },\\n      \"mensaje_validacion\": \"Ok, he definido los filtros técnicos basados en tus preferencias.\"\\n    }\\n    ```\\n\\n**Ejemplo 2:**\\n\\n* **Preferencias de Entrada (Contexto):**\\n    ```json\\n    {\\n      \"altura_mayor_190\": \"sí\",\\n      \"peso_mayor_100\": \"no\",\\n      \"uso_profesional\": \"sí\",\\n      \"valora_estetica\": \"no\",\\n      \"solo_electricos\": \"sí\",\\n      \"transmision_preferida\": \"automatico\",\\n      \"apasionado_motor\": \"sí\",\\n      \"aventura\": \"ocasional\"\\n    }\\n    ```\\n* **Salida JSON Esperada:**\\n    ```json\\n    {\\n      \"filtros_inferidos\": {\\n        \"estetica_min\": 1.0,\\n        \"tipo_mecanica\": [\"BEV\"],\\n        \"premium_min\": 5.0,\\n        \"singular_min\": 5.0\\n      },\\n      \"mensaje_validacion\": \"\" \\n    }\\n    ```\\n    \\n**(Opcional) Ejemplo 3: Falta información crítica**\\n\\n* **Preferencias de Entrada (Contexto):**\\n    ```json\\n    {\\n      \"altura_mayor_190\": \"no\",\\n      \"peso_mayor_100\": \"no\",\\n      \"uso_profesional\": \"no\",\\n      \"valora_estetica\": \"sí\",\\n      \"solo_electricos\": null, //\\n      \"transmision_preferida\": \"manual\",\\n      \"apasionado_motor\": \"no\",\\n      \"aventura\": \"ninguna\"\\n    }\\n    ```\\n* **Salida JSON Esperada:**\\n    ```json\\n    {\\n      \"filtros_inferidos\": {\\n        \"estetica_min\": 5.0,\\n        \"tipo_mecanica\": null, \\n        \"premium_min\": 1.0,\\n        \"singular_min\": 1.0\\n      },\\n      \"mensaje_validacion\": \"Necesitaría saber si tienes preferencia por algún tipo de motorización (eléctrico, gasolina, diesel...) para continuar.\" \\n    }\\n    ```\\n\\n</Ejemplos>\\n\\n\\n\\n', 'role': 'user'}, {'content': 'oye busco un coche para la ciudad', 'role': 'user'}, {'content': '¡Hola! Para ayudarte mejor, hablemos de aventura. ¿Con cuál de estas afirmaciones te identificas más?\\n 1) No pisas nada que no sea asfalto (ninguna)\\n 2) Salidas fuera de asfalto ocasionales (ocasional)\\n 3) Circular en condiciones duras con total garantía (extrema)', 'role': 'assistant'}, {'content': 'la 3', 'role': 'user'}, {'content': '¿Mides más de 1.90 m?', 'role': 'assistant'}, {'content': ' mido 1.90 y peso 80kg', 'role': 'user'}, {'content': 'Entendido: mides 1.90m y tu nivel de aventura es extrema. ¿Uso personal o profesional?', 'role': 'assistant'}, {'content': 'uso personal', 'role': 'user'}, {'content': 'Perfecto, ya tenemos tus preferencias principales. ¿Valoras la estética?', 'role': 'assistant'}, {'content': 'si', 'role': 'user'}, {'content': '¿Qué tipo de transmisión prefieres?\\n 1) Automático\\n 2) Manual\\n 3) Ambos', 'role': 'assistant'}, {'content': 'Manual', 'role': 'user'}, {'content': '¡Estupendo! Creo que ya tengo claras todas tus preferencias principales. ¿Vamos a ver qué características técnicas encajarían?', 'role': 'assistant'}, {'content': 'vale, continua...', 'role': 'user'}, {'content': '¿Quieres solo coches eléctricos?', 'role': 'assistant'}, {'content': 'si, solo electricos', 'role': 'user'}, {'content': '¿Eres un apasionado del motor?', 'role': 'assistant'}, {'content': 'si, lo soy', 'role': 'user'}, {'content': 'Con el fin de conocer tus preferencias financieras que opción (modo) prefieres: 1. Prefiero que me aconsejes con criterios de inteligencia financiera. 2. Prefiero indicar yo mismo cuánto y cómo gastar.', 'role': 'assistant'}, {'content': 'opcion 1', 'role': 'user'}, {'content': 'Entendido, usaremos el modo asesor financiero. Para poder calcular un presupuesto adecuado, ¿podrías indicarme cuales son tus ingresos netos anuales aproximados?', 'role': 'assistant'}, {'content': '35.000', 'role': 'user'}], 'model': 'gpt-4o-mini', 'response_format': {'type': 'json_schema', 'json_schema': {'schema': {'$defs': {'FiltrosInferidos': {'properties': {'estetica_min': {'anyOf': [{'type': 'number'}, {'type': 'null'}], 'description': 'Mínimo valor de estética recomendado (0.0 a 10.0)', 'title': 'Estetica Min'}, 'tipo_mecanica': {'anyOf': [{'items': {'$ref': '#/$defs/TipoMecanica'}, 'type': 'array'}, {'type': 'null'}], 'description': 'Lista de motorizaciones recomendadas', 'title': 'Tipo Mecanica'}, 'premium_min': {'anyOf': [{'type': 'number'}, {'type': 'null'}], 'description': 'Mínimo valor de premium recomendado (0.0 a 10.0)', 'title': 'Premium Min'}, 'singular_min': {'anyOf': [{'type': 'number'}, {'type': 'null'}], 'description': 'Mínimo valor de singularidad recomendado (0.0 a 10.0)', 'title': 'Singular Min'}, 'tipo_carroceria': {'anyOf': [{'items': {'type': 'string'}, 'type': 'array'}, {'type': 'null'}], 'description': \"Lista de tipos de carrocería recomendados por RAG (ej: ['SUV', 'COUPE'])\", 'title': 'Tipo Carroceria'}, 'modo_adquisicion_recomendado': {'anyOf': [{'enum': ['Contado', 'Financiado'], 'type': 'string'}, {'type': 'null'}], 'description': 'Modo de compra recomendado (Contado/Financiado) basado en análisis Modo 1.', 'title': 'Modo Adquisicion Recomendado'}, 'precio_max_contado_recomendado': {'anyOf': [{'type': 'number'}, {'type': 'null'}], 'description': 'Precio máximo recomendado si se aconseja comprar al contado (Modo 1).', 'title': 'Precio Max Contado Recomendado'}, 'cuota_max_calculada': {'anyOf': [{'type': 'number'}, {'type': 'null'}], 'description': 'Cuota mensual máxima calculada si se aconseja financiar (Modo 1).', 'title': 'Cuota Max Calculada'}}, 'title': 'FiltrosInferidos', 'type': 'object', 'additionalProperties': False, 'required': ['estetica_min', 'tipo_mecanica', 'premium_min', 'singular_min', 'tipo_carroceria', 'modo_adquisicion_recomendado', 'precio_max_contado_recomendado', 'cuota_max_calculada']}, 'TipoMecanica': {'enum': ['GASOLINA', 'DIESEL', 'BEV', 'FCEV', 'GLP', 'GNV', 'HEVD', 'HEVG', 'MHEVD', 'MHEVG', 'PHEVD', 'PHEVG', 'REEV'], 'title': 'TipoMecanica', 'type': 'string'}}, 'description': 'Salida esperada del LLM enfocado solo en inferir filtros técnicos.', 'properties': {'filtros_inferidos': {'$ref': '#/$defs/FiltrosInferidos'}, 'mensaje_validacion': {'description': 'Pregunta de seguimiento CLARA y CORTA si falta información ESENCIAL para completar los FiltrosInferidos (ej: tipo_mecanica), o un mensaje de confirmación si los filtros están completos.', 'title': 'Mensaje Validacion', 'type': 'string'}}, 'required': ['filtros_inferidos', 'mensaje_validacion'], 'title': 'ResultadoSoloFiltros', 'type': 'object', 'additionalProperties': False}, 'name': 'ResultadoSoloFiltros', 'strict': True}}, 'stream': False, 'temperature': 0.2}}\n",
      "DEBUG:openai._base_client:Sending HTTP Request: POST https://api.openai.com/v1/chat/completions\n",
      "DEBUG:httpcore.http11:send_request_headers.started request=<Request [b'POST']>\n",
      "DEBUG:httpcore.http11:send_request_headers.complete\n",
      "DEBUG:httpcore.http11:send_request_body.started request=<Request [b'POST']>\n",
      "DEBUG:httpcore.http11:send_request_body.complete\n",
      "DEBUG:httpcore.http11:receive_response_headers.started request=<Request [b'POST']>\n"
     ]
    },
    {
     "name": "stdout",
     "output_type": "stream",
     "text": [
      "DEBUG (Perfil) ► Respuesta llm_solo_perfil: preferencias_usuario=PerfilUsuario(altura_mayor_190='sí', peso_mayor_100='no', uso_profesional='no', valora_estetica='sí', solo_electricos='sí', transmision_preferida=<Transmision.MANUAL: 'manual'>, apasionado_motor='sí', aventura=<NivelAventura.extrema: 'extrema'>) mensaje_validacion='¡Estupendo! Creo que ya tengo claras todas tus preferencias principales. ¿Vamos a ver qué características técnicas encajarían?'\n",
      "DEBUG (Perfil) ► Preferencias tras post-procesamiento (si aplica): altura_mayor_190='sí' peso_mayor_100='no' uso_profesional='no' valora_estetica='sí' solo_electricos='sí' transmision_preferida=<Transmision.MANUAL: 'manual'> apasionado_motor='sí' aventura=<NivelAventura.extrema: 'extrema'>\n",
      "DEBUG (Perfil) ► Estado preferencias_usuario actualizado: altura_mayor_190='sí' peso_mayor_100='no' uso_profesional='no' valora_estetica='sí' solo_electricos='sí' transmision_preferida=<Transmision.MANUAL: 'manual'> apasionado_motor='sí' aventura=<NivelAventura.extrema: 'extrema'>\n",
      "DEBUG (Perfil) ► Guardando pregunta pendiente: ¡Estupendo! Creo que ya tengo claras todas tus preferencias principales. ¿Vamos a ver qué características técnicas encajarían?\n",
      "--- Ejecutando Nodo: validar_preferencias_node ---\n",
      "--- DEBUG CHECK PERFIL ---\n",
      "Input prefs object: altura_mayor_190='sí' peso_mayor_100='no' uso_profesional='no' valora_estetica='sí' solo_electricos='sí' transmision_preferida=<Transmision.MANUAL: 'manual'> apasionado_motor='sí' aventura=<NivelAventura.extrema: 'extrema'>\n",
      "Input prefs type: <class 'graph.perfil.state.PerfilUsuario'>\n",
      "Checking field 'altura_mayor_190': value='sí', type=<class 'str'>\n",
      "Checking field 'peso_mayor_100': value='no', type=<class 'str'>\n",
      "Checking field 'uso_profesional': value='no', type=<class 'str'>\n",
      "Checking field 'valora_estetica': value='sí', type=<class 'str'>\n",
      "Checking field 'solo_electricos': value='sí', type=<class 'str'>\n",
      "Checking field 'transmision_preferida': value='Transmision.MANUAL', type=<enum 'Transmision'>\n",
      "Checking field 'apasionado_motor': value='sí', type=<class 'str'>\n",
      "Checking field 'aventura': value='NivelAventura.extrema', type=<enum 'NivelAventura'>\n",
      "DEBUG (Validation Perfil) ► Todos los campos obligatorios del perfil están presentes.\n",
      "DEBUG (Perfil) ► Validación: PerfilUsuario considerado COMPLETO.\n",
      "--- Evaluando Condición: ruta_decision_perfil ---\n",
      "DEBUG (Condición Perfil) ► Estado 'preferencias_usuario' recibido: altura_mayor_190='sí' peso_mayor_100='no' uso_profesional='no' valora_estetica='sí' solo_electricos='sí' transmision_preferida=<Transmision.MANUAL: 'manual'> apasionado_motor='sí' aventura=<NivelAventura.extrema: 'extrema'>\n",
      "DEBUG (Condición Perfil) ► Tipo de 'preferencias_usuario': <class 'graph.perfil.state.PerfilUsuario'>\n",
      "--- DEBUG CHECK PERFIL ---\n",
      "Input prefs object: altura_mayor_190='sí' peso_mayor_100='no' uso_profesional='no' valora_estetica='sí' solo_electricos='sí' transmision_preferida=<Transmision.MANUAL: 'manual'> apasionado_motor='sí' aventura=<NivelAventura.extrema: 'extrema'>\n",
      "Input prefs type: <class 'graph.perfil.state.PerfilUsuario'>\n",
      "Checking field 'altura_mayor_190': value='sí', type=<class 'str'>\n",
      "Checking field 'peso_mayor_100': value='no', type=<class 'str'>\n",
      "Checking field 'uso_profesional': value='no', type=<class 'str'>\n",
      "Checking field 'valora_estetica': value='sí', type=<class 'str'>\n",
      "Checking field 'solo_electricos': value='sí', type=<class 'str'>\n",
      "Checking field 'transmision_preferida': value='Transmision.MANUAL', type=<enum 'Transmision'>\n",
      "Checking field 'apasionado_motor': value='sí', type=<class 'str'>\n",
      "Checking field 'aventura': value='NivelAventura.extrema', type=<enum 'NivelAventura'>\n",
      "DEBUG (Validation Perfil) ► Todos los campos obligatorios del perfil están presentes.\n",
      "DEBUG (Condición Perfil) ► Perfil COMPLETO. Avanzando a filtros.\n",
      "--- Ejecutando Nodo: inferir_filtros_node ---\n",
      "DEBUG (Filtros) ► Preferencias de usuario disponibles. Procediendo...\n",
      "DEBUG (Filtros) ► Prompt para llm_solo_filtros (parcial): <Role>\n",
      "Eres un asistente técnico experto en vehículos. Tu función es traducir las preferencias generales de un usuario en filtros técnicos específicos para la búsqueda de coches. Debes basarte estrictamente en las preferencias proporcionadas y generar una respuesta JSON que SIEMPRE se ajuste al esquema `ResultadoSoloFiltros`.\n",
      "</Role>\n",
      "\n",
      "<Contexto_Preferencias_Usuario>\n",
      "\n",
      "<Contexto_Preferencias_Usuario>\n",
      "A continuación se detallan las preferencias del usuario recopiladas previamente. Úsalas como base ...\n"
     ]
    },
    {
     "name": "stderr",
     "output_type": "stream",
     "text": [
      "DEBUG:httpcore.http11:receive_response_headers.complete return_value=(b'HTTP/1.1', 200, b'OK', [(b'Date', b'Sun, 04 May 2025 14:04:27 GMT'), (b'Content-Type', b'application/json'), (b'Transfer-Encoding', b'chunked'), (b'Connection', b'keep-alive'), (b'access-control-expose-headers', b'X-Request-ID'), (b'openai-organization', b'user-ic25pcewdjuowsz9q2ektvrn'), (b'openai-processing-ms', b'2381'), (b'openai-version', b'2020-10-01'), (b'x-ratelimit-limit-requests', b'10000'), (b'x-ratelimit-limit-tokens', b'200000'), (b'x-ratelimit-remaining-requests', b'9998'), (b'x-ratelimit-remaining-tokens', b'197077'), (b'x-ratelimit-reset-requests', b'16.434s'), (b'x-ratelimit-reset-tokens', b'876ms'), (b'x-request-id', b'req_84969cfa49bbf35d5e7543c936de175c'), (b'strict-transport-security', b'max-age=31536000; includeSubDomains; preload'), (b'cf-cache-status', b'DYNAMIC'), (b'X-Content-Type-Options', b'nosniff'), (b'Server', b'cloudflare'), (b'CF-RAY', b'93a88c0e7ed203bd-MAD'), (b'Content-Encoding', b'gzip'), (b'alt-svc', b'h3=\":443\"; ma=86400')])\n",
      "INFO:httpx:HTTP Request: POST https://api.openai.com/v1/chat/completions \"HTTP/1.1 200 OK\"\n",
      "DEBUG:httpcore.http11:receive_response_body.started request=<Request [b'POST']>\n",
      "DEBUG:httpcore.http11:receive_response_body.complete\n",
      "DEBUG:httpcore.http11:response_closed.started\n",
      "DEBUG:httpcore.http11:response_closed.complete\n",
      "DEBUG:openai._base_client:HTTP Response: POST https://api.openai.com/v1/chat/completions \"200 OK\" Headers({'date': 'Sun, 04 May 2025 14:04:27 GMT', 'content-type': 'application/json', 'transfer-encoding': 'chunked', 'connection': 'keep-alive', 'access-control-expose-headers': 'X-Request-ID', 'openai-organization': 'user-ic25pcewdjuowsz9q2ektvrn', 'openai-processing-ms': '2381', 'openai-version': '2020-10-01', 'x-ratelimit-limit-requests': '10000', 'x-ratelimit-limit-tokens': '200000', 'x-ratelimit-remaining-requests': '9998', 'x-ratelimit-remaining-tokens': '197077', 'x-ratelimit-reset-requests': '16.434s', 'x-ratelimit-reset-tokens': '876ms', 'x-request-id': 'req_84969cfa49bbf35d5e7543c936de175c', 'strict-transport-security': 'max-age=31536000; includeSubDomains; preload', 'cf-cache-status': 'DYNAMIC', 'x-content-type-options': 'nosniff', 'server': 'cloudflare', 'cf-ray': '93a88c0e7ed203bd-MAD', 'content-encoding': 'gzip', 'alt-svc': 'h3=\":443\"; ma=86400'})\n",
      "DEBUG:openai._base_client:request_id: req_84969cfa49bbf35d5e7543c936de175c\n",
      "DEBUG:openai._base_client:Request options: {'method': 'post', 'url': '/chat/completions', 'headers': {'X-Stainless-Helper-Method': 'beta.chat.completions.parse'}, 'files': None, 'post_parser': <function Completions.parse.<locals>.parser at 0x1185f8360>, 'json_data': {'messages': [{'content': '<Role>\\nEres un asistente experto en finanzas automotrices. Tu objetivo es recopilar información económica del usuario para ayudarle a definir su presupuesto(modo 1: con criterios de inteligencia financiera), o bien definir un presupuesto basado en sus indicaciones(modo2: indica el mismo cuánto y cómo gastar). Debes generar una respuesta JSON que SIEMPRE se ajuste al siguiente esquema Pydantic:\\n``json\\n{{\\n  \"$defs\": {{\\n    \"EconomiaUsuario\": {{\\n      \"properties\": {{\\n        \"modo\": {{\\n          \"anyOf\": [\\n            {{\\n              \"enum\": [\\n                1,\\n                2\\n              ],\\n              \"type\": \"integer\"\\n            }},\\n            {{\\n              \"type\": \"null\"\\n            }}\\n          ],\\n          \"default\": null,\\n          \"title\": \"Modo\"\\n        }},\\n        \"submodo\": {{\\n          \"anyOf\": [\\n            {{\\n              \"enum\": [\\n                1,\\n                2\\n              ],\\n              \"type\": \"integer\"\\n            }},\\n            {{\\n              \"type\": \"null\"\\n            }}\\n          ],\\n          \"default\": null,\\n          \"title\": \"Submodo\"\\n        }},\\n        \"ingresos\": {{\\n          \"anyOf\": [\\n            {{\\n              \"type\": \"number\"\\n            }},\\n            {{\\n              \"type\": \"null\"\\n            }}\\n          ],\\n          \"default\": null,\\n          \"title\": \"Ingresos\"\\n        }},\\n        \"ahorro\": {{\\n          \"anyOf\": [\\n            {{\\n              \"type\": \"number\"\\n            }},\\n            {{\\n              \"type\": \"null\"\\n            }}\\n          ],\\n          \"default\": null,\\n          \"title\": \"Ahorro\"\\n        }},\\n        \"pago_contado\": {{\\n          \"anyOf\": [\\n            {{\\n              \"type\": \"number\"\\n            }},\\n            {{\\n              \"type\": \"null\"\\n            }}\\n          ],\\n          \"default\": null,\\n          \"title\": \"Pago Contado\"\\n        }},\\n        \"cuota_max\": {{\\n          \"anyOf\": [\\n            {{\\n              \"type\": \"number\"\\n            }},\\n            {{\\n              \"type\": \"null\"\\n            }}\\n          ],\\n          \"default\": null,\\n          \"title\": \"Cuota Max\"\\n        }},\\n        \"entrada\": {{\\n          \"anyOf\": [\\n            {{\\n              \"type\": \"number\"\\n            }},\\n            {{\\n              \"type\": \"null\"\\n            }}\\n          ],\\n          \"default\": null,\\n          \"title\": \"Entrada\"\\n        }}\\n      }},\\n      \"title\": \"EconomiaUsuario\",\\n      \"type\": \"object\"\\n    }}\\n  }},\\n  \"properties\": {{\\n    \"economia\": {{\\n      \"$ref\": \"#/$defs/EconomiaUsuario\"\\n    }},\\n    \"mensaje_validacion\": {{\\n      \"title\": \"Mensaje Validacion\",\\n      \"type\": \"string\"\\n    }}\\n  }},\\n  \"required\": [\\n    \"economia\",\\n    \"mensaje_validacion\"\\n  ],\\n  \"title\": \"ResultadoEconomia\",\\n  \"type\": \"object\"\\n}}\\n\\n</Role>\\n\\n\\n<Instrucciones_Revisadas>\\n1. Analiza la conversación. Intenta determinar el \\'modo\\' (1 o 2) y el \\'submodo\\' (si aplica).\\n2. **REGLA CRÍTICA:**\\n   - Cuando `\"modo\" es None, comienza la conversacion realizando la pregunta filtro:\\n    \"Con el fin de conocer tus preferencias financieras que opcion (modo) prefieres: \\n      1. Prefiero que me aconsejes con criterios de inteligencia financiera.\\n  \\t  2. Prefiero indicar yo mismo cuánto y cómo gastar.\"\\n   - **NO** incluyas `\"modo\": 1` ( Asesoramiento con criterios de inteligencia financiera) en el objeto `economia` A MENOS QUE **TAMBIÉN** tengas valores numéricos para `\"ingresos\"` , `\"ahorro\"` y `\"anos_posesion\"` extraídos de la conversación para incluir en el mismo objeto `economia`.\\n   - **NO** incluyas `\"modo\": 2` (Tú defines presupuesto) y `\"submodo\": 1` A MENOS QUE **TAMBIÉN** tengas un valor numérico para `\"pago_contado\"`.\\n   - **NO** incluyas `\"modo\": 2` (Tú defines presupuesto)  y `\"submodo\": 2` A MENOS QUE **TAMBIÉN** tengas un valor numérico para `\"cuota_max\"`.\\n3. **Si puedes cumplir la REGLA CRÍTICA** para un modo/submodo: Rellena el objeto `economia` con todos los datos que tengas (modo, submodo, y los valores numéricos obligatorios y opcionales como \\'entrada\\'). Usa `null` para campos opcionales no conocidos. En este caso, `mensaje_validacion` puede ser una confirmación breve (ej: \"Ok, datos de Modo 1 recibidos.\") o una cadena vacía `\"\"`.\\n4. **Si NO puedes cumplir la REGLA CRÍTICA** (porque falta un valor numérico obligatorio para el modo/submodo que crees que aplica, o porque ni siquiera sabes el modo):\\n   - El objeto `economia` debe reflejar solo la información que sí tienes de forma segura (podría estar vacío o solo con `modo` si ya se eligió pero faltan datos para validarlo completamente *en este turno*).\\n   - El campo `mensaje_validacion` **DEBE** contener una pregunta **clara y específica** para obtener el **primer dato OBLIGATORIO que falta** para poder cumplir la REGLA CRÍTICA en el siguiente turno (ej: pregunta por `ingresos` si sabes que `modo` es 1; pregunta por `submodo` o `modo` si no se saben).\\n5. No inventes valores. Usa el historial.\\n</Instrucciones_Revisadas>\\n\\n<Ejemplos>\\n\\n**Ejemplo 1: Usuario elige Modo 1 (Asesoramiento), pero LLM necesita preguntar por ingresos**\\n* Contexto (Historial + Último mensaje): `[..., HumanMessage(content=\\'Prefiero que me asesores tú.\\')]`\\n* Salida JSON Esperada:\\n    ```json\\n    {{\\n      \"economia\": {{\\n        \"modo\": 1, // LLM identifica el modo\\n        \"submodo\": null,\\n        \"ingresos\": null, // Aún no tiene el dato obligatorio\\n        \"ahorro\": null,   // Aún no tiene el dato obligatorio\\n        \"pago_contado\": null,\\n        \"cuota_max\": null,\\n        \"entrada\": null\\n      }},\\n      \"mensaje_validacion\": \"Entendido, usaremos el modo asesor financiero. Para poder calcular un presupuesto adecuado, ¿podrías indicarme cuales son tus ingresos netos anuales aproximados?\" // Pregunta por el primer dato faltante\\n    }}\\n    ```\\n\\n**Ejemplo 2: Usuario elige Modo 2 (Define Presupuesto), pero LLM necesita preguntar por submodo (contado/cuotas)**\\n* Contexto (Historial + Último mensaje): `[..., HumanMessage(content=\\'Mejor defino yo el presupuesto.\\')]`\\n* Salida JSON Esperada:\\n    ```json\\n    {{\\n      \"economia\": {{\\n        \"modo\": 2, // LLM identifica el modo\\n        \"submodo\": null, // Falta el submodo obligatorio\\n        \"ingresos\": null,\\n        \"ahorro\": null,\\n        \"pago_contado\": null,\\n        \"cuota_max\": null,\\n        \"entrada\": null\\n      }},\\n      \"mensaje_validacion\": \"De acuerdo, tú defines el presupuesto. ¿Tienes pensado pagar el coche al contado (opción 1) o prefieres financiarlo en cuotas mensuales (opción 2)?\" // Pregunta por el submodo\\n    }}\\n    ```\\n// Ejemplo 3:\\n{{\\n  \"economia\": {{\"modo\": 1, \"submodo\": null, \"ingresos\": 45000.0, \"ahorro\": 10000.0, \"pago_contado\": null, \"cuota_max\": null, \"entrada\": null}},\\n  \"mensaje_validacion\": \"\" // O un mensaje como \"Ok, usaré tus ingresos y ahorros.\"\\n}}\\n\\n\\n</Ejemplos>\\n\\n<Formato esperado>\\nGenera el JSON:\\n{{\\n  \"economia\": {{ ... }},\\n  \"mensaje_validacion\": \"...\"\\n}}', 'role': 'user'}, {'content': 'oye busco un coche para la ciudad', 'role': 'user'}, {'content': '¡Hola! Para ayudarte mejor, hablemos de aventura. ¿Con cuál de estas afirmaciones te identificas más?\\n 1) No pisas nada que no sea asfalto (ninguna)\\n 2) Salidas fuera de asfalto ocasionales (ocasional)\\n 3) Circular en condiciones duras con total garantía (extrema)', 'role': 'assistant'}, {'content': 'la 3', 'role': 'user'}, {'content': '¿Mides más de 1.90 m?', 'role': 'assistant'}, {'content': ' mido 1.90 y peso 80kg', 'role': 'user'}, {'content': 'Entendido: mides 1.90m y tu nivel de aventura es extrema. ¿Uso personal o profesional?', 'role': 'assistant'}, {'content': 'uso personal', 'role': 'user'}, {'content': 'Perfecto, ya tenemos tus preferencias principales. ¿Valoras la estética?', 'role': 'assistant'}, {'content': 'si', 'role': 'user'}, {'content': '¿Qué tipo de transmisión prefieres?\\n 1) Automático\\n 2) Manual\\n 3) Ambos', 'role': 'assistant'}, {'content': 'Manual', 'role': 'user'}, {'content': '¡Estupendo! Creo que ya tengo claras todas tus preferencias principales. ¿Vamos a ver qué características técnicas encajarían?', 'role': 'assistant'}, {'content': 'vale, continua...', 'role': 'user'}, {'content': '¿Quieres solo coches eléctricos?', 'role': 'assistant'}, {'content': 'si, solo electricos', 'role': 'user'}, {'content': '¿Eres un apasionado del motor?', 'role': 'assistant'}, {'content': 'si, lo soy', 'role': 'user'}, {'content': 'Con el fin de conocer tus preferencias financieras que opción (modo) prefieres: 1. Prefiero que me aconsejes con criterios de inteligencia financiera. 2. Prefiero indicar yo mismo cuánto y cómo gastar.', 'role': 'assistant'}, {'content': 'opcion 1', 'role': 'user'}, {'content': 'Entendido, usaremos el modo asesor financiero. Para poder calcular un presupuesto adecuado, ¿podrías indicarme cuales son tus ingresos netos anuales aproximados?', 'role': 'assistant'}, {'content': '35.000', 'role': 'user'}], 'model': 'gpt-4o-mini', 'response_format': {'type': 'json_schema', 'json_schema': {'schema': {'$defs': {'EconomiaUsuario': {'properties': {'modo': {'anyOf': [{'enum': [1, 2], 'type': 'integer'}, {'type': 'null'}], 'title': 'Modo'}, 'submodo': {'anyOf': [{'enum': [1, 2], 'type': 'integer'}, {'type': 'null'}], 'title': 'Submodo'}, 'ingresos': {'anyOf': [{'type': 'number'}, {'type': 'null'}], 'title': 'Ingresos'}, 'ahorro': {'anyOf': [{'type': 'number'}, {'type': 'null'}], 'title': 'Ahorro'}, 'pago_contado': {'anyOf': [{'type': 'number'}, {'type': 'null'}], 'title': 'Pago Contado'}, 'cuota_max': {'anyOf': [{'type': 'number'}, {'type': 'null'}], 'title': 'Cuota Max'}, 'entrada': {'anyOf': [{'type': 'number'}, {'type': 'null'}], 'title': 'Entrada'}, 'anos_posesion': {'anyOf': [{'type': 'integer'}, {'type': 'null'}], 'description': 'Número estimado de años que el usuario planea conservar el vehículo.', 'title': 'Anos Posesion'}}, 'title': 'EconomiaUsuario', 'type': 'object', 'additionalProperties': False, 'required': ['modo', 'submodo', 'ingresos', 'ahorro', 'pago_contado', 'cuota_max', 'entrada', 'anos_posesion']}}, 'properties': {'economia': {'description': 'Objeto que contiene TODA la información económica recopilada o actualizada.', 'properties': {'modo': {'anyOf': [{'enum': [1, 2], 'type': 'integer'}, {'type': 'null'}], 'title': 'Modo'}, 'submodo': {'anyOf': [{'enum': [1, 2], 'type': 'integer'}, {'type': 'null'}], 'title': 'Submodo'}, 'ingresos': {'anyOf': [{'type': 'number'}, {'type': 'null'}], 'title': 'Ingresos'}, 'ahorro': {'anyOf': [{'type': 'number'}, {'type': 'null'}], 'title': 'Ahorro'}, 'pago_contado': {'anyOf': [{'type': 'number'}, {'type': 'null'}], 'title': 'Pago Contado'}, 'cuota_max': {'anyOf': [{'type': 'number'}, {'type': 'null'}], 'title': 'Cuota Max'}, 'entrada': {'anyOf': [{'type': 'number'}, {'type': 'null'}], 'title': 'Entrada'}, 'anos_posesion': {'anyOf': [{'type': 'integer'}, {'type': 'null'}], 'description': 'Número estimado de años que el usuario planea conservar el vehículo.', 'title': 'Anos Posesion'}}, 'title': 'EconomiaUsuario', 'type': 'object', 'additionalProperties': False, 'required': ['modo', 'submodo', 'ingresos', 'ahorro', 'pago_contado', 'cuota_max', 'entrada', 'anos_posesion']}, 'mensaje_validacion': {'title': 'Mensaje Validacion', 'type': 'string'}}, 'required': ['economia', 'mensaje_validacion'], 'title': 'ResultadoEconomia', 'type': 'object', 'additionalProperties': False}, 'name': 'ResultadoEconomia', 'strict': True}}, 'stream': False, 'temperature': 0.2}}\n",
      "DEBUG:openai._base_client:Sending HTTP Request: POST https://api.openai.com/v1/chat/completions\n",
      "DEBUG:httpcore.connection:close.started\n",
      "DEBUG:httpcore.connection:close.complete\n",
      "DEBUG:httpcore.connection:connect_tcp.started host='api.openai.com' port=443 local_address=None timeout=None socket_options=None\n",
      "DEBUG:httpcore.connection:connect_tcp.complete return_value=<httpcore._backends.sync.SyncStream object at 0x14b997e50>\n",
      "DEBUG:httpcore.connection:start_tls.started ssl_context=<ssl.SSLContext object at 0x13841f770> server_hostname='api.openai.com' timeout=None\n",
      "DEBUG:httpcore.connection:start_tls.complete return_value=<httpcore._backends.sync.SyncStream object at 0x14b8d7250>\n",
      "DEBUG:httpcore.http11:send_request_headers.started request=<Request [b'POST']>\n",
      "DEBUG:httpcore.http11:send_request_headers.complete\n",
      "DEBUG:httpcore.http11:send_request_body.started request=<Request [b'POST']>\n",
      "DEBUG:httpcore.http11:send_request_body.complete\n",
      "DEBUG:httpcore.http11:receive_response_headers.started request=<Request [b'POST']>\n"
     ]
    },
    {
     "name": "stdout",
     "output_type": "stream",
     "text": [
      "DEBUG (Filtros) ► Respuesta llm_solo_filtros: filtros_inferidos=FiltrosInferidos(estetica_min=5.0, tipo_mecanica=[<TipoMecanica.BEV: 'BEV'>, <TipoMecanica.REEV: 'REEV'>], premium_min=5.0, singular_min=5.0, tipo_carroceria=['SUV', 'CROSSOVER'], modo_adquisicion_recomendado='Financiado', precio_max_contado_recomendado=None, cuota_max_calculada=350.0) mensaje_validacion='Ok, he definido los filtros técnicos basados en tus preferencias.'\n",
      "\n",
      "--- DEBUG DENTRO PostProc Filtros ---\n",
      "Recibido Prefs: altura_mayor_190='sí' peso_mayor_100='no' uso_profesional='no' valora_estetica='sí' solo_electricos='sí' transmision_preferida=<Transmision.MANUAL: 'manual'> apasionado_motor='sí' aventura=<NivelAventura.extrema: 'extrema'>\n",
      "Recibido Filtros (antes): estetica_min=5.0 tipo_mecanica=[<TipoMecanica.BEV: 'BEV'>, <TipoMecanica.REEV: 'REEV'>] premium_min=5.0 singular_min=5.0 tipo_carroceria=['SUV', 'CROSSOVER'] modo_adquisicion_recomendado='Financiado' precio_max_contado_recomendado=None cuota_max_calculada=350.0\n",
      "DEBUG PostProc Filtros: Valor de valora_estetica_val = 'sí' (Tipo: <class 'str'>)\n",
      "DEBUG PostProc Filtros: Resultado de is_yes(valora_estetica_val) = True\n",
      "DEBUG (PostProc Filtros) ► Aplicando regla: valora_estetica='sí' -> estetica_min=5.0\n",
      "DEBUG PostProc Filtros: Valor de apasionado_motor_val = 'sí' (Tipo: <class 'str'>)\n",
      "DEBUG PostProc Filtros: Resultado de is_yes(apasionado_motor_val) = True\n",
      "DEBUG (PostProc Filtros) ► Aplicando regla: apasionado_motor='sí' -> premium/singular_min=5.0\n",
      "DEBUG (PostProc Filtros) ► Filtros tras post-procesamiento: estetica_min=6.0 tipo_mecanica=[<TipoMecanica.BEV: 'BEV'>, <TipoMecanica.REEV: 'REEV'>] premium_min=6.0 singular_min=6.0 tipo_carroceria=['SUV', 'CROSSOVER'] modo_adquisicion_recomendado='Financiado' precio_max_contado_recomendado=None cuota_max_calculada=350.0\n",
      "DEBUG (Filtros) ► Filtros TRAS post-procesamiento: estetica_min=6.0 tipo_mecanica=[<TipoMecanica.BEV: 'BEV'>, <TipoMecanica.REEV: 'REEV'>] premium_min=6.0 singular_min=6.0 tipo_carroceria=['SUV', 'CROSSOVER'] modo_adquisicion_recomendado='Financiado' precio_max_contado_recomendado=None cuota_max_calculada=350.0\n",
      "DEBUG (Filtros) ► Estado filtros_inferidos actualizado: estetica_min=6.0 tipo_mecanica=[<TipoMecanica.BEV: 'BEV'>, <TipoMecanica.REEV: 'REEV'>] premium_min=6.0 singular_min=6.0 tipo_carroceria=['SUV', 'CROSSOVER'] modo_adquisicion_recomendado='Financiado' precio_max_contado_recomendado=None cuota_max_calculada=350.0\n",
      "DEBUG (Filtros) ► Guardando pregunta pendiente: Ok, he definido los filtros técnicos basados en tus preferencias.\n",
      "--- Ejecutando Nodo: validar_filtros_node ---\n",
      "DEBUG (Validation Filtros) ► Todos los campos obligatorios de filtros ('tipo_mecanica') están presentes y válidos.\n",
      "DEBUG (Filtros) ► Validación: FiltrosInferidos considerados COMPLETOS.\n",
      "--- Evaluando Condición: ruta_decision_filtros ---\n",
      "DEBUG (Validation Filtros) ► Todos los campos obligatorios de filtros ('tipo_mecanica') están presentes y válidos.\n",
      "DEBUG (Condición Filtros) ► Filtros COMPLETOS. Avanzando a economía.\n",
      "--- Ejecutando Nodo: recopilar_economia_node ---\n",
      "DEBUG (Economía) ► Llamando a llm_economia...\n"
     ]
    },
    {
     "name": "stderr",
     "output_type": "stream",
     "text": [
      "DEBUG:httpcore.http11:receive_response_headers.complete return_value=(b'HTTP/1.1', 200, b'OK', [(b'Date', b'Sun, 04 May 2025 14:04:29 GMT'), (b'Content-Type', b'application/json'), (b'Transfer-Encoding', b'chunked'), (b'Connection', b'keep-alive'), (b'access-control-expose-headers', b'X-Request-ID'), (b'openai-organization', b'user-ic25pcewdjuowsz9q2ektvrn'), (b'openai-processing-ms', b'1687'), (b'openai-version', b'2020-10-01'), (b'x-ratelimit-limit-requests', b'10000'), (b'x-ratelimit-limit-tokens', b'200000'), (b'x-ratelimit-remaining-requests', b'9997'), (b'x-ratelimit-remaining-tokens', b'197685'), (b'x-ratelimit-reset-requests', b'22.432s'), (b'x-ratelimit-reset-tokens', b'694ms'), (b'x-request-id', b'req_ce8dfbdfa04dd3073fc300e719a9bc2a'), (b'strict-transport-security', b'max-age=31536000; includeSubDomains; preload'), (b'cf-cache-status', b'DYNAMIC'), (b'X-Content-Type-Options', b'nosniff'), (b'Server', b'cloudflare'), (b'CF-RAY', b'93a88c1f09732f8b-MAD'), (b'Content-Encoding', b'gzip'), (b'alt-svc', b'h3=\":443\"; ma=86400')])\n",
      "INFO:httpx:HTTP Request: POST https://api.openai.com/v1/chat/completions \"HTTP/1.1 200 OK\"\n",
      "DEBUG:httpcore.http11:receive_response_body.started request=<Request [b'POST']>\n",
      "DEBUG:httpcore.http11:receive_response_body.complete\n",
      "DEBUG:httpcore.http11:response_closed.started\n",
      "DEBUG:httpcore.http11:response_closed.complete\n",
      "DEBUG:openai._base_client:HTTP Response: POST https://api.openai.com/v1/chat/completions \"200 OK\" Headers({'date': 'Sun, 04 May 2025 14:04:29 GMT', 'content-type': 'application/json', 'transfer-encoding': 'chunked', 'connection': 'keep-alive', 'access-control-expose-headers': 'X-Request-ID', 'openai-organization': 'user-ic25pcewdjuowsz9q2ektvrn', 'openai-processing-ms': '1687', 'openai-version': '2020-10-01', 'x-ratelimit-limit-requests': '10000', 'x-ratelimit-limit-tokens': '200000', 'x-ratelimit-remaining-requests': '9997', 'x-ratelimit-remaining-tokens': '197685', 'x-ratelimit-reset-requests': '22.432s', 'x-ratelimit-reset-tokens': '694ms', 'x-request-id': 'req_ce8dfbdfa04dd3073fc300e719a9bc2a', 'strict-transport-security': 'max-age=31536000; includeSubDomains; preload', 'cf-cache-status': 'DYNAMIC', 'x-content-type-options': 'nosniff', 'server': 'cloudflare', 'cf-ray': '93a88c1f09732f8b-MAD', 'content-encoding': 'gzip', 'alt-svc': 'h3=\":443\"; ma=86400'})\n",
      "DEBUG:openai._base_client:request_id: req_ce8dfbdfa04dd3073fc300e719a9bc2a\n"
     ]
    },
    {
     "name": "stdout",
     "output_type": "stream",
     "text": [
      "DEBUG (Economía) ► Respuesta llm_economia: economia=EconomiaUsuario(modo=1, submodo=None, ingresos=35000.0, ahorro=None, pago_contado=None, cuota_max=None, entrada=None, anos_posesion=None) mensaje_validacion='Ok, datos de Modo 1 recibidos. ¿Cuál es tu ahorro actual?'\n",
      "DEBUG (Economía) ► Estado economía actualizado: modo=1 submodo=None ingresos=35000.0 ahorro=None pago_contado=None cuota_max=None entrada=None anos_posesion=None\n",
      "DEBUG (Economía) ► Guardando pregunta pendiente: Ok, datos de Modo 1 recibidos. ¿Cuál es tu ahorro actual?\n",
      "--- Ejecutando Nodo: validar_economia_node ---\n",
      "--- DEBUG CHECK ECONOMIA (Manual) ---\n",
      "Input econ object: modo=1 submodo=None ingresos=35000.0 ahorro=None pago_contado=None cuota_max=None entrada=None anos_posesion=None\n",
      "DEBUG (Validation Economía Manual) ► Modo 1 INCOMPLETO (faltan: ahorro, anos_posesion).\n",
      "DEBUG (Economía) ► Validación: Economía considerada INCOMPLETA.\n",
      "--- Evaluando Condición: ruta_decision_economia ---\n",
      "--- DEBUG CHECK ECONOMIA (Manual) ---\n",
      "Input econ object: modo=1 submodo=None ingresos=35000.0 ahorro=None pago_contado=None cuota_max=None entrada=None anos_posesion=None\n",
      "DEBUG (Validation Economía Manual) ► Modo 1 INCOMPLETO (faltan: ahorro, anos_posesion).\n",
      "DEBUG (Condición Economía) ► Economía INCOMPLETA. Se necesita pregunta.\n",
      "--- Ejecutando Nodo: preguntar_economia_node ---\n",
      "DEBUG (Preguntar Economía) ► Usando pregunta guardada: Ok, datos de Modo 1 recibidos. ¿Cuál es tu ahorro actual?\n",
      "DEBUG (Preguntar Economía) ► Mensaje final añadido: Ok, datos de Modo 1 recibidos. ¿Cuál es tu ahorro actual?\n",
      "==================================\u001b[1m Ai Message \u001b[0m==================================\n",
      "\n",
      "Ok, datos de Modo 1 recibidos. ¿Cuál es tu ahorro actual?\n"
     ]
    }
   ],
   "source": [
    "# Create a thread\n",
    "config = {\"configurable\": {\"thread_id\": \"1\"}}\n",
    "\n",
    "# Start conversation\n",
    "input_message = HumanMessage(content=\"35.000\")\n",
    "output = graph.invoke({\"messages\": [input_message]}, config) \n",
    "for m in output['messages'][-1:]:\n",
    "    m.pretty_print()"
   ]
  },
  {
   "cell_type": "code",
   "execution_count": null,
   "metadata": {},
   "outputs": [],
   "source": [
    "\n",
    "print(output['preferencias_usuario'])\n",
    "print('-----------------------')\n",
    "print(output['filtros_inferidos'])\n",
    "print('-----------------------')\n",
    "print(output['pesos'])\n",
    "print(output.keys())"
   ]
  },
  {
   "cell_type": "code",
   "execution_count": 13,
   "metadata": {},
   "outputs": [
    {
     "name": "stderr",
     "output_type": "stream",
     "text": [
      "DEBUG:openai._base_client:Request options: {'method': 'post', 'url': '/chat/completions', 'headers': {'X-Stainless-Helper-Method': 'beta.chat.completions.parse'}, 'files': None, 'post_parser': <function Completions.parse.<locals>.parser at 0x14b8b11c0>, 'json_data': {'messages': [{'content': '<Role>\\nEres un asistente de conversación amigable y metodológico. Tu misión actual es conocer las preferencias generales y el perfil básico de un usuario que busca un coche (`PerfilUsuario`). Debes seguir las reglas especificadas y generar SIEMPRE un objeto JSON válido que cumpla el esquema `ResultadoSoloPerfil`. Mantén un tono cercano.\\n</Role>\\n\\n<Esquema_JSON_Requerido>\\nLa estructura JSON que DEBES generar es la siguiente:\\n```json\\n{{\\n  \"$defs\": {\\n    \"NivelAventura\": {\\n      \"enum\": [\\n        \"ninguna\",\\n        \"ocasional\",\\n        \"extrema\"\\n      ],\\n      \"title\": \"NivelAventura\",\\n      \"type\": \"string\"\\n    },\\n    \"PerfilUsuario\": {\\n      \"properties\": {\\n        \"altura_mayor_190\": {\\n          \"anyOf\": [\\n            {\\n              \"type\": \"string\"\\n            },\\n            {\\n              \"type\": \"null\"\\n            }\\n          ],\\n          \"description\": \"\\\\u00bfEl usuario mide m\\\\u00e1s de 1.90 metros? Responde \\'s\\\\u00ed\\' o \\'no\\'\",\\n          \"title\": \"Altura Mayor 190\"\\n        },\\n...\\n  ],\\n  \"title\": \"ResultadoSoloPerfil\",\\n  \"type\": \"object\"\\n}}\\n</Esquema_JSON_Requerido>\\n\\n<Reglas_Generales>\\n\\n1. Analiza TODO el historial de la conversación y el último mensaje del usuario para extraer/inferir valores para TODOS los campos de preferencias_usuario. Usa null si no hay información.\\n2. Haz solo preguntas relevantes según los campos de PerfilUsuario que falten y no repitas preguntas que ya hayan sido respondidas explícita o implícitamente.\\n3. PROHIBIDO preguntar por temas fuera de PerfilUsuario en esta etapa (NO preguntar por precio, consumo, filtros técnicos como tipo_mecanica, tecnología, seguridad, maletero, etc.).\\n4. Usa el campo mensaje_validacion para formular la siguiente pregunta necesaria o para confirmar que el perfil está completo. </Reglas_Generales>\\n</Reglas_Generales>\\n\\n<Reglas_Preguntas_Especificas>\\n\\nUsa estas preguntas EXACTAS cuando necesites preguntar por estos campos de PerfilUsuario:\\n\\naltura_mayor_190: \"¿Mides más de 1.90 m?\"\\npeso_mayor_100: \"¿Pesas más de 100 kg?\"\\nuso_profesional: \"¿Uso personal o profesional?\"\\nvalora_estetica: \"¿Valoras la estética?\"\\nsolo_electricos: \"¿Quieres solo coches eléctricos?\"\\ntransmision_preferida: (Si falta y es relevante preguntar) \"¿Qué tipo de transmisión prefieres?\\\\n 1) Automático\\\\n 2) Manual\\\\n 3) Ambos\"\\napasionado_motor: \"¿Eres un apasionado del motor?\"\\nManejo de aventura: Si no se ha preguntado por aventura y no se puede inferir un valor (ninguna, ocasional, extrema), deja \"aventura\": null en preferencias_usuario y USA UNO de los siguientes templates EXACTOS en mensaje_validacion (elige el que te parezca más natural en el contexto):\\n\\n<Aventura_Templates>\\n\\nTemplate 1: “Hablando de aventura, ¿con cuál de estas afirmaciones te identificas más?\\\\n 1) No pisas nada que no sea asfalto (ninguna)\\\\n 2) Salidas fuera de asfalto ocasionales (ocasional)\\\\n 3) Circular en condiciones duras con total garantía (extrema)”\\nTemplate 2: “Para conocer tu espíritu aventurero, dime:\\\\n 1) Solo asfalto (ninguna)\\\\n 2) Salidas off‑road de vez en cuando (ocasional)\\\\n 3) Aventurero extremo en terrenos difíciles (extrema)” </Aventura_Templates>\\nConfirmación de Perfil Completo: Si consideras que todos los campos necesarios de PerfilUsuario ya tienen un valor (no null), usa un mensaje de confirmación en mensaje_validacion. Ejemplo: \"¡Perfecto! Ya tenemos tus preferencias principales. ¿Pasamos a los detalles técnicos?\" o simplemente \"\".\\n</Reglas_Preguntas_Especificas>\\n\\n<Ejemplos_Perfil>\\n\\nEjemplo 1: Inicio, pregunta por Aventura\\n\\nContexto (Historial + Último mensaje): [HumanMessage(content=\\'Hola, dime quién eres\\')]\\nSalida JSON Esperada:\\nJSON\\n\\n{\\n  \"preferencias_usuario\": {\\n    \"altura_mayor_190\": null, \"peso_mayor_100\": null, \"uso_profesional\": null, \\n    \"valora_estetica\": null, \"solo_electricos\": null, \"transmision_preferida\": null, \\n    \"apasionado_motor\": null, \"aventura\": null \\n  },\\n  \"mensaje_validacion\": \"¡Hola! Soy Mentor, tu asistente para encontrar el coche perfecto. Analizo tus necesidades y preferencias. Para empezar, hablando de aventura, ¿con cuál de estas afirmaciones te identificas más?\\\\n  1) No pisas nada que no sea asfalto (ninguna)\\\\n  2) Salidas fuera de asfalto ocasionales (ocasional)\\\\n  3) Circular en condiciones duras con total garantía (extrema)\"\\n}\\n\\nEjemplo 2: Usuario da altura, estética y uso; pregunta por Transmisión\\n\\nContexto: [..., HumanMessage(content=\\'Mido 1.95m y me gustan los coches con buen diseño. Quiero algo para ir al trabajo.\\')]\\nSalida JSON Esperada:\\nJSON\\n\\n{\\n  \"preferencias_usuario\": {\\n    \"altura_mayor_190\": \"sí\", \"peso_mayor_100\": null, \"uso_profesional\": \"sí\", \\n    \"valora_estetica\": \"sí\", \"solo_electricos\": null, \"transmision_preferida\": null, \\n    \"apasionado_motor\": null, \"aventura\": null \\n  },\\n  \"mensaje_validacion\": \"Entendido: mides más de 1.90m, valoras la estética y es para uso profesional. ¿Qué tipo de transmisión prefieres?\\\\n  1) Automático\\\\n  2) Manual\\\\n  3) Ambos\" \\n}\\n(Nota: En este ejemplo, asumimos que preguntar por transmisión es prioritario sobre aventura según tu lógica interna o la del LLM)\\n\\nEjemplo 3: Perfil completo, mensaje de confirmación\\n\\nContexto: [..., HumanMessage(content=\\'Prefiero automático, no quiero solo eléctricos, y no soy apasionado del motor. Uso personal y solo asfalto. No soy alto ni pesado.\\')]\\nSalida JSON Esperada:\\nJSON\\n\\n{\\n  \"preferencias_usuario\": {\\n    \"altura_mayor_190\": \"no\", \"peso_mayor_100\": \"no\", \"uso_profesional\": \"no\", \\n    \"valora_estetica\": \"sí\", # Asumiendo que se preguntó/infirió antes\\n    \"solo_electricos\": \"no\", \"transmision_preferida\": \"automatico\", \\n    \"apasionado_motor\": \"no\", \"aventura\": \"ninguna\" \\n  },\\n  \"mensaje_validacion\": \"¡Estupendo! Creo que ya tengo claras todas tus preferencias principales. ¿Vamos a ver qué características técnicas encajarían?\" \\n}\\n</Ejemplos_Perfil>\\n\\n<Formato_Salida_JSON_Final>\\nGenera únicamente el objeto JSON completo y válido solicitado que cumpla el esquema ResultadoSoloPerfil, sin añadir ningún texto antes o después.\\n\\nJSON\\n\\n{\\n  \"preferencias_usuario\": { ... },\\n  \"mensaje_validacion\": \"<string>\"\\n}\\n</Formato_Salida_JSON_Final>', 'role': 'user'}, {'content': 'oye busco un coche para la ciudad', 'role': 'user'}, {'content': '¡Hola! Para ayudarte mejor, hablemos de aventura. ¿Con cuál de estas afirmaciones te identificas más?\\n 1) No pisas nada que no sea asfalto (ninguna)\\n 2) Salidas fuera de asfalto ocasionales (ocasional)\\n 3) Circular en condiciones duras con total garantía (extrema)', 'role': 'assistant'}, {'content': 'la 3', 'role': 'user'}, {'content': '¿Mides más de 1.90 m?', 'role': 'assistant'}, {'content': ' mido 1.90 y peso 80kg', 'role': 'user'}, {'content': 'Entendido: mides 1.90m y tu nivel de aventura es extrema. ¿Uso personal o profesional?', 'role': 'assistant'}, {'content': 'uso personal', 'role': 'user'}, {'content': 'Perfecto, ya tenemos tus preferencias principales. ¿Valoras la estética?', 'role': 'assistant'}, {'content': 'si', 'role': 'user'}, {'content': '¿Qué tipo de transmisión prefieres?\\n 1) Automático\\n 2) Manual\\n 3) Ambos', 'role': 'assistant'}, {'content': 'Manual', 'role': 'user'}, {'content': '¡Estupendo! Creo que ya tengo claras todas tus preferencias principales. ¿Vamos a ver qué características técnicas encajarían?', 'role': 'assistant'}, {'content': 'vale, continua...', 'role': 'user'}, {'content': '¿Quieres solo coches eléctricos?', 'role': 'assistant'}, {'content': 'si, solo electricos', 'role': 'user'}, {'content': '¿Eres un apasionado del motor?', 'role': 'assistant'}, {'content': 'si, lo soy', 'role': 'user'}, {'content': 'Con el fin de conocer tus preferencias financieras que opción (modo) prefieres: 1. Prefiero que me aconsejes con criterios de inteligencia financiera. 2. Prefiero indicar yo mismo cuánto y cómo gastar.', 'role': 'assistant'}, {'content': 'opcion 1', 'role': 'user'}, {'content': 'Entendido, usaremos el modo asesor financiero. Para poder calcular un presupuesto adecuado, ¿podrías indicarme cuales son tus ingresos netos anuales aproximados?', 'role': 'assistant'}, {'content': '35.000', 'role': 'user'}, {'content': 'Ok, datos de Modo 1 recibidos. ¿Cuál es tu ahorro actual?', 'role': 'assistant'}, {'content': '10000 ahorrados?', 'role': 'user'}], 'model': 'gpt-4o-mini', 'response_format': {'type': 'json_schema', 'json_schema': {'schema': {'$defs': {'NivelAventura': {'enum': ['ninguna', 'ocasional', 'extrema'], 'title': 'NivelAventura', 'type': 'string'}, 'PerfilUsuario': {'properties': {'altura_mayor_190': {'anyOf': [{'type': 'string'}, {'type': 'null'}], 'description': \"¿El usuario mide más de 1.90 metros? Responde 'sí' o 'no'\", 'title': 'Altura Mayor 190'}, 'peso_mayor_100': {'anyOf': [{'type': 'string'}, {'type': 'null'}], 'description': \"¿El usuario pesa más de 100 kg? Responde 'sí' o 'no'\", 'title': 'Peso Mayor 100'}, 'uso_profesional': {'anyOf': [{'type': 'string'}, {'type': 'null'}], 'description': \"¿Usará el coche para trabajo? Responde 'sí' o 'no'\", 'title': 'Uso Profesional'}, 'valora_estetica': {'anyOf': [{'type': 'string'}, {'type': 'null'}], 'description': \"¿Valora la estética del coche? Responde 'sí' o 'no'\", 'title': 'Valora Estetica'}, 'solo_electricos': {'anyOf': [{'type': 'string'}, {'type': 'null'}], 'description': \"¿Quiere solo coches eléctricos? Responde 'sí' o 'no'\", 'title': 'Solo Electricos'}, 'transmision_preferida': {'anyOf': [{'$ref': '#/$defs/Transmision'}, {'type': 'null'}], 'description': '¿Qué transmisión prefieres: automático, manual o ambos?'}, 'apasionado_motor': {'anyOf': [{'type': 'string'}, {'type': 'null'}], 'description': \"¿Eres un apasionado/a del motor y/o la movilidad? Responde 'sí' o 'no'\", 'title': 'Apasionado Motor'}, 'aventura': {'anyOf': [{'$ref': '#/$defs/NivelAventura'}, {'type': 'null'}], 'description': \"¿Qué nivel de aventura buscas con tu vehículo: 'ninguna', 'ocasional' o 'extrema'?\"}}, 'title': 'PerfilUsuario', 'type': 'object', 'additionalProperties': False, 'required': ['altura_mayor_190', 'peso_mayor_100', 'uso_profesional', 'valora_estetica', 'solo_electricos', 'transmision_preferida', 'apasionado_motor', 'aventura']}, 'Transmision': {'enum': ['automático', 'manual', 'ambos'], 'title': 'Transmision', 'type': 'string'}}, 'description': 'Salida esperada del LLM enfocado solo en el perfil del usuario.', 'properties': {'preferencias_usuario': {'$ref': '#/$defs/PerfilUsuario'}, 'mensaje_validacion': {'description': 'Pregunta de seguimiento CLARA y CORTA si falta información ESENCIAL para completar el PerfilUsuario, o un mensaje de confirmación si el perfil está completo.', 'title': 'Mensaje Validacion', 'type': 'string'}}, 'required': ['preferencias_usuario', 'mensaje_validacion'], 'title': 'ResultadoSoloPerfil', 'type': 'object', 'additionalProperties': False}, 'name': 'ResultadoSoloPerfil', 'strict': True}}, 'stream': False, 'temperature': 0.2}}\n",
      "DEBUG:openai._base_client:Sending HTTP Request: POST https://api.openai.com/v1/chat/completions\n",
      "DEBUG:httpcore.connection:close.started\n",
      "DEBUG:httpcore.connection:close.complete\n",
      "DEBUG:httpcore.connection:connect_tcp.started host='api.openai.com' port=443 local_address=None timeout=None socket_options=None\n",
      "DEBUG:httpcore.connection:connect_tcp.complete return_value=<httpcore._backends.sync.SyncStream object at 0x14c237790>\n",
      "DEBUG:httpcore.connection:start_tls.started ssl_context=<ssl.SSLContext object at 0x11f6eccb0> server_hostname='api.openai.com' timeout=None\n",
      "DEBUG:httpcore.connection:start_tls.complete return_value=<httpcore._backends.sync.SyncStream object at 0x14c224fd0>\n",
      "DEBUG:httpcore.http11:send_request_headers.started request=<Request [b'POST']>\n",
      "DEBUG:httpcore.http11:send_request_headers.complete\n",
      "DEBUG:httpcore.http11:send_request_body.started request=<Request [b'POST']>\n",
      "DEBUG:httpcore.http11:send_request_body.complete\n",
      "DEBUG:httpcore.http11:receive_response_headers.started request=<Request [b'POST']>\n"
     ]
    },
    {
     "name": "stdout",
     "output_type": "stream",
     "text": [
      "--- Ejecutando Nodo: recopilar_preferencias_node ---\n",
      "DEBUG (Perfil) ► Último mensaje es HumanMessage o historial vacío, llamando a llm_solo_perfil...\n"
     ]
    },
    {
     "name": "stderr",
     "output_type": "stream",
     "text": [
      "DEBUG:httpcore.http11:receive_response_headers.complete return_value=(b'HTTP/1.1', 200, b'OK', [(b'Date', b'Sun, 04 May 2025 14:04:40 GMT'), (b'Content-Type', b'application/json'), (b'Transfer-Encoding', b'chunked'), (b'Connection', b'keep-alive'), (b'access-control-expose-headers', b'X-Request-ID'), (b'openai-organization', b'user-ic25pcewdjuowsz9q2ektvrn'), (b'openai-processing-ms', b'2387'), (b'openai-version', b'2020-10-01'), (b'x-ratelimit-limit-requests', b'10000'), (b'x-ratelimit-limit-tokens', b'200000'), (b'x-ratelimit-remaining-requests', b'9997'), (b'x-ratelimit-remaining-tokens', b'198107'), (b'x-ratelimit-reset-requests', b'20.714s'), (b'x-ratelimit-reset-tokens', b'567ms'), (b'x-request-id', b'req_cf21e3a5d9350dbb9f81fd590b076a54'), (b'strict-transport-security', b'max-age=31536000; includeSubDomains; preload'), (b'cf-cache-status', b'DYNAMIC'), (b'X-Content-Type-Options', b'nosniff'), (b'Server', b'cloudflare'), (b'CF-RAY', b'93a88c5fca4f03fe-MAD'), (b'Content-Encoding', b'gzip'), (b'alt-svc', b'h3=\":443\"; ma=86400')])\n",
      "INFO:httpx:HTTP Request: POST https://api.openai.com/v1/chat/completions \"HTTP/1.1 200 OK\"\n",
      "DEBUG:httpcore.http11:receive_response_body.started request=<Request [b'POST']>\n",
      "DEBUG:httpcore.http11:receive_response_body.complete\n",
      "DEBUG:httpcore.http11:response_closed.started\n",
      "DEBUG:httpcore.http11:response_closed.complete\n",
      "DEBUG:openai._base_client:HTTP Response: POST https://api.openai.com/v1/chat/completions \"200 OK\" Headers({'date': 'Sun, 04 May 2025 14:04:40 GMT', 'content-type': 'application/json', 'transfer-encoding': 'chunked', 'connection': 'keep-alive', 'access-control-expose-headers': 'X-Request-ID', 'openai-organization': 'user-ic25pcewdjuowsz9q2ektvrn', 'openai-processing-ms': '2387', 'openai-version': '2020-10-01', 'x-ratelimit-limit-requests': '10000', 'x-ratelimit-limit-tokens': '200000', 'x-ratelimit-remaining-requests': '9997', 'x-ratelimit-remaining-tokens': '198107', 'x-ratelimit-reset-requests': '20.714s', 'x-ratelimit-reset-tokens': '567ms', 'x-request-id': 'req_cf21e3a5d9350dbb9f81fd590b076a54', 'strict-transport-security': 'max-age=31536000; includeSubDomains; preload', 'cf-cache-status': 'DYNAMIC', 'x-content-type-options': 'nosniff', 'server': 'cloudflare', 'cf-ray': '93a88c5fca4f03fe-MAD', 'content-encoding': 'gzip', 'alt-svc': 'h3=\":443\"; ma=86400'})\n",
      "DEBUG:openai._base_client:request_id: req_cf21e3a5d9350dbb9f81fd590b076a54\n",
      "DEBUG:openai._base_client:Request options: {'method': 'post', 'url': '/chat/completions', 'headers': {'X-Stainless-Helper-Method': 'beta.chat.completions.parse'}, 'files': None, 'post_parser': <function Completions.parse.<locals>.parser at 0x11fa49b20>, 'json_data': {'messages': [{'content': '<Role>\\nEres un asistente técnico experto en vehículos. Tu función es traducir las preferencias generales de un usuario en filtros técnicos específicos para la búsqueda de coches. Debes basarte estrictamente en las preferencias proporcionadas y generar una respuesta JSON que SIEMPRE se ajuste al esquema `ResultadoSoloFiltros`.\\n</Role>\\n\\n<Contexto_Preferencias_Usuario>\\n\\n<Contexto_Preferencias_Usuario>\\nA continuación se detallan las preferencias del usuario recopiladas previamente. Úsalas como base INDISPENSABLE para tu inferencia:\\n```json\\n{\\'altura_mayor_190\\': \\'sí\\', \\'peso_mayor_100\\': \\'no\\', \\'uso_profesional\\': \\'no\\', \\'valora_estetica\\': \\'sí\\', \\'solo_electricos\\': \\'sí\\', \\'transmision_preferida\\': \\'manual\\', \\'apasionado_motor\\': \\'sí\\', \\'aventura\\': \\'extrema\\'}\\n</Contexto_Preferencias_Usuario>\\n\\n<Esquema_JSON_Requerido>\\nA continuación se detallan las preferencias del usuario recopiladas previamente. Úsalas como base INDISPENSABLE para tu inferencia:\\n{\\n  \"$defs\": {\\n    \"FiltrosInferidos\": {\\n      \"properties\": {\\n        \"estetica_min\": {\\n          \"anyOf\": [\\n            {\\n              \"type\": \"number\"\\n            },\\n            {\\n              \"type\": \"null\"\\n            }\\n          ],\\n          \"default\": null,\\n          \"description\": \"M\\\\u00ednimo valor de est\\\\u00e9tica recomendado (0.0 a 10.0)\",\\n          \"title\": \"Estetica Min\"\\n        },\\n        \"tipo_mecanica\": {\\n          \"anyOf\": [\\n            {\\n              \"items\": {\\n                \"$ref\": \"#/$defs/TipoMecanica\"\\n              },\\n              \"type\": \"array\"\\n            },\\n            {\\n              \"type\": \"null\"\\n            }\\n          ],\\n          \"default\": null,\\n          \"description\": \"Lista de motorizaciones recomendadas\",\\n          \"title\": \"Tipo Mecanica\"\\n        },\\n        \"premium_min\": {\\n          \"anyOf\": [\\n            {\\n              \"type\": \"number\"\\n            },\\n            {\\n              \"type\": \"null\"\\n            }\\n          ],\\n          \"default\": null,\\n          \"description\": \"M\\\\u00ednimo valor de premium recomendado (0.0 a 10.0)\",\\n          \"title\": \"Premium Min\"\\n        },\\n        \"singular_min\": {\\n          \"anyOf\": [\\n            {\\n              \"type\": \"number\"\\n            },\\n            {\\n              \"type\": \"null\"\\n            }\\n          ],\\n          \"default\": null,\\n          \"description\": \"M\\\\u00ednimo valor de singularidad recomendado (0.0 a 10.0)\",\\n          \"title\": \"Singular Min\"\\n        },\\n        \"tipo_carroceria\": {\\n          \"anyOf\": [\\n            {\\n              \"items\": {\\n                \"type\": \"string\"\\n              },\\n              \"type\": \"array\"\\n            },\\n            {\\n              \"type\": \"null\"\\n            }\\n          ],\\n          \"default\": null,\\n          \"description\": \"Lista de tipos de carrocer\\\\u00eda recomendados por RAG (ej: [\\'SUV\\', \\'COUPE\\'])\",\\n          \"title\": \"Tipo Carroceria\"\\n        },\\n        \"modo_adquisicion_recomendado\": {\\n          \"anyOf\": [\\n            {\\n              \"enum\": [\\n                \"Contado\",\\n                \"Financiado\"\\n              ],\\n              \"type\": \"string\"\\n            },\\n            {\\n              \"type\": \"null\"\\n            }\\n          ],\\n          \"default\": null,\\n          \"description\": \"Modo de compra recomendado (Contado/Financiado) basado en an\\\\u00e1lisis Modo 1.\",\\n          \"title\": \"Modo Adquisicion Recomendado\"\\n        },\\n        \"precio_max_contado_recomendado\": {\\n          \"anyOf\": [\\n            {\\n              \"type\": \"number\"\\n            },\\n            {\\n              \"type\": \"null\"\\n            }\\n          ],\\n          \"default\": null,\\n          \"description\": \"Precio m\\\\u00e1ximo recomendado si se aconseja comprar al contado (Modo 1).\",\\n          \"title\": \"Precio Max Contado Recomendado\"\\n        },\\n        \"cuota_max_calculada\": {\\n          \"anyOf\": [\\n            {\\n              \"type\": \"number\"\\n            },\\n            {\\n              \"type\": \"null\"\\n            }\\n          ],\\n          \"default\": null,\\n          \"description\": \"Cuota mensual m\\\\u00e1xima calculada si se aconseja financiar (Modo 1).\",\\n          \"title\": \"Cuota Max Calculada\"\\n        }\\n      },\\n      \"title\": \"FiltrosInferidos\",\\n      \"type\": \"object\"\\n    },\\n    \"TipoMecanica\": {\\n      \"enum\": [\\n        \"GASOLINA\",\\n        \"DIESEL\",\\n        \"BEV\",\\n        \"FCEV\",\\n        \"GLP\",\\n        \"GNV\",\\n        \"HEVD\",\\n        \"HEVG\",\\n        \"MHEVD\",\\n        \"MHEVG\",\\n        \"PHEVD\",\\n        \"PHEVG\",\\n        \"REEV\"\\n      ],\\n      \"title\": \"TipoMecanica\",\\n      \"type\": \"string\"\\n    }\\n  },\\n  \"description\": \"Salida esperada del LLM enfocado solo en inferir filtros t\\\\u00e9cnicos.\",\\n  \"properties\": {\\n    \"filtros_inferidos\": {\\n      \"$ref\": \"#/$defs/FiltrosInferidos\"\\n    },\\n    \"mensaje_validacion\": {\\n      \"description\": \"Pregunta de seguimiento CLARA y CORTA si falta informaci\\\\u00f3n ESENCIAL para completar los FiltrosInferidos (ej: tipo_mecanica), o un mensaje de confirmaci\\\\u00f3n si los filtros est\\\\u00e1n completos.\",\\n      \"title\": \"Mensaje Validacion\",\\n      \"type\": \"string\"\\n    }\\n  },\\n  \"required\": [\\n    \"filtros_inferidos\",\\n    \"mensaje_validacion\"\\n  ],\\n  \"title\": \"ResultadoSoloFiltros\",\\n  \"type\": \"object\"\\n}\\n</Esquema_JSON_Requerido>\\n\\n\\n<Instrucciones_Detalladas_Inferencia>\\n\\nAnaliza las <Contexto_Preferencias_Usuario> proporcionadas.\\nInfiere los valores para los campos dentro de filtros_inferidos en el JSON de salida, siguiendo estas directrices:\\n\\n\\n- estetica_min: Si preferencias_contexto indica valora_estetica: \\'sí\\', asigna un valor numérico como 5.0 o 6.0. Si es \\'no\\' o null, asigna 1.0.\\n- tipo_mecanica: ¡CAMPO CRÍTICO Y OBLIGATORIO! Debes inferir una lista de strings.\\n- Si preferencias_contexto indica solo_electricos: \\'sí\\', la lista DEBE ser [\"BEV\", \"REEV\"].\\n- Si solo_electricos es \\'no\\', proporciona una lista sensata basada en otras preferencias (ej: para \"coche para la ciudad\" podría ser [\"BEV\", \"GASOLINA\", \"HIBRIDO\"]). Evita \\'DIESEL\\' para uso urbano si no hay otra indicación.\\n- Si solo_electricos es null o desconocido, intenta inferir una lista general o, si no es posible, pregunta usando mensaje_validacion.\\n- Los únicos valores válidos para esta lista son: { \\'GASOLINA\\', \\'DIESEL\\', \\'BEV\\', \\'FCEV\\', \\'GLP\\', \\'GNV\\', \\'HEVD\\', \\'HEVG\\', \\'MHEVD\\', \\'MHEVG\\', \\'PHEVD\\', \\'PHEVG\\', \\'REEV\\' }. Asegúrate de devolver una lista de strings válidos. Es obligatorio que este campo contenga al menos un valor si es posible inferirlo.\\n- premium_min y singular_min: Si preferencias_contexto indica apasionado_motor: \\'sí\\', asigna un valor numérico como 5.0 o más. Si es \\'no\\' o null, asigna 1.0 o déjalos null.\\n\\n-Campo mensaje_validacion:\\nSi NO pudiste inferir un valor para un filtro crítico (especialmente tipo_mecanica), usa este campo para generar una pregunta corta y específica dirigida a obtener ese filtro faltante. Ejemplo: \"No estoy seguro de qué tipo de motorización prefieres (gasolina, híbrido, eléctrico...). ¿Podrías indicármelo?\".\\nSi has podido inferir todos los filtros necesarios (incluyendo tipo_mecanica), puedes dejar este campo como una cadena vacía \"\" o poner un mensaje corto de confirmación como \"Ok, he definido los filtros técnicos basados en tus preferencias.\".\\nPrecisión: No inventes valores. Si una preferencia no da información para un filtro opcional, déjalo como null. Si falta información para un filtro crítico que no puedes inferir, pregunta. \\n\\n</Instrucciones_Detalladas_Inferencia>\\n\\n<Ejemplos>\\n\\n**Ejemplo 1:**\\n\\n* **Preferencias de Entrada (Contexto):**\\n    ```json\\n    {\\n      \"altura_mayor_190\": \"no\",\\n      \"peso_mayor_100\": \"no\",\\n      \"uso_profesional\": \"no\",\\n      \"valora_estetica\": \"sí\",\\n      \"solo_electricos\": \"no\",\\n      \"transmision_preferida\": \"automatico\",\\n      \"apasionado_motor\": \"no\",\\n      \"aventura\": \"ninguna\"\\n    }\\n    ```\\n* **Salida JSON Esperada:**\\n    ```json\\n    {\\n      \"filtros_inferidos\": {\\n        \"estetica_min\": 5.0,\\n        \"tipo_mecanica\": [\"BEV\", \"GASOLINA\", \"HIBRIDO\"],\\n        \"premium_min\": 1.0,\\n        \"singular_min\": 1.0\\n      },\\n      \"mensaje_validacion\": \"Ok, he definido los filtros técnicos basados en tus preferencias.\"\\n    }\\n    ```\\n\\n**Ejemplo 2:**\\n\\n* **Preferencias de Entrada (Contexto):**\\n    ```json\\n    {\\n      \"altura_mayor_190\": \"sí\",\\n      \"peso_mayor_100\": \"no\",\\n      \"uso_profesional\": \"sí\",\\n      \"valora_estetica\": \"no\",\\n      \"solo_electricos\": \"sí\",\\n      \"transmision_preferida\": \"automatico\",\\n      \"apasionado_motor\": \"sí\",\\n      \"aventura\": \"ocasional\"\\n    }\\n    ```\\n* **Salida JSON Esperada:**\\n    ```json\\n    {\\n      \"filtros_inferidos\": {\\n        \"estetica_min\": 1.0,\\n        \"tipo_mecanica\": [\"BEV\"],\\n        \"premium_min\": 5.0,\\n        \"singular_min\": 5.0\\n      },\\n      \"mensaje_validacion\": \"\" \\n    }\\n    ```\\n    \\n**(Opcional) Ejemplo 3: Falta información crítica**\\n\\n* **Preferencias de Entrada (Contexto):**\\n    ```json\\n    {\\n      \"altura_mayor_190\": \"no\",\\n      \"peso_mayor_100\": \"no\",\\n      \"uso_profesional\": \"no\",\\n      \"valora_estetica\": \"sí\",\\n      \"solo_electricos\": null, //\\n      \"transmision_preferida\": \"manual\",\\n      \"apasionado_motor\": \"no\",\\n      \"aventura\": \"ninguna\"\\n    }\\n    ```\\n* **Salida JSON Esperada:**\\n    ```json\\n    {\\n      \"filtros_inferidos\": {\\n        \"estetica_min\": 5.0,\\n        \"tipo_mecanica\": null, \\n        \"premium_min\": 1.0,\\n        \"singular_min\": 1.0\\n      },\\n      \"mensaje_validacion\": \"Necesitaría saber si tienes preferencia por algún tipo de motorización (eléctrico, gasolina, diesel...) para continuar.\" \\n    }\\n    ```\\n\\n</Ejemplos>\\n\\n\\n\\n', 'role': 'user'}, {'content': 'oye busco un coche para la ciudad', 'role': 'user'}, {'content': '¡Hola! Para ayudarte mejor, hablemos de aventura. ¿Con cuál de estas afirmaciones te identificas más?\\n 1) No pisas nada que no sea asfalto (ninguna)\\n 2) Salidas fuera de asfalto ocasionales (ocasional)\\n 3) Circular en condiciones duras con total garantía (extrema)', 'role': 'assistant'}, {'content': 'la 3', 'role': 'user'}, {'content': '¿Mides más de 1.90 m?', 'role': 'assistant'}, {'content': ' mido 1.90 y peso 80kg', 'role': 'user'}, {'content': 'Entendido: mides 1.90m y tu nivel de aventura es extrema. ¿Uso personal o profesional?', 'role': 'assistant'}, {'content': 'uso personal', 'role': 'user'}, {'content': 'Perfecto, ya tenemos tus preferencias principales. ¿Valoras la estética?', 'role': 'assistant'}, {'content': 'si', 'role': 'user'}, {'content': '¿Qué tipo de transmisión prefieres?\\n 1) Automático\\n 2) Manual\\n 3) Ambos', 'role': 'assistant'}, {'content': 'Manual', 'role': 'user'}, {'content': '¡Estupendo! Creo que ya tengo claras todas tus preferencias principales. ¿Vamos a ver qué características técnicas encajarían?', 'role': 'assistant'}, {'content': 'vale, continua...', 'role': 'user'}, {'content': '¿Quieres solo coches eléctricos?', 'role': 'assistant'}, {'content': 'si, solo electricos', 'role': 'user'}, {'content': '¿Eres un apasionado del motor?', 'role': 'assistant'}, {'content': 'si, lo soy', 'role': 'user'}, {'content': 'Con el fin de conocer tus preferencias financieras que opción (modo) prefieres: 1. Prefiero que me aconsejes con criterios de inteligencia financiera. 2. Prefiero indicar yo mismo cuánto y cómo gastar.', 'role': 'assistant'}, {'content': 'opcion 1', 'role': 'user'}, {'content': 'Entendido, usaremos el modo asesor financiero. Para poder calcular un presupuesto adecuado, ¿podrías indicarme cuales son tus ingresos netos anuales aproximados?', 'role': 'assistant'}, {'content': '35.000', 'role': 'user'}, {'content': 'Ok, datos de Modo 1 recibidos. ¿Cuál es tu ahorro actual?', 'role': 'assistant'}, {'content': '10000 ahorrados?', 'role': 'user'}], 'model': 'gpt-4o-mini', 'response_format': {'type': 'json_schema', 'json_schema': {'schema': {'$defs': {'FiltrosInferidos': {'properties': {'estetica_min': {'anyOf': [{'type': 'number'}, {'type': 'null'}], 'description': 'Mínimo valor de estética recomendado (0.0 a 10.0)', 'title': 'Estetica Min'}, 'tipo_mecanica': {'anyOf': [{'items': {'$ref': '#/$defs/TipoMecanica'}, 'type': 'array'}, {'type': 'null'}], 'description': 'Lista de motorizaciones recomendadas', 'title': 'Tipo Mecanica'}, 'premium_min': {'anyOf': [{'type': 'number'}, {'type': 'null'}], 'description': 'Mínimo valor de premium recomendado (0.0 a 10.0)', 'title': 'Premium Min'}, 'singular_min': {'anyOf': [{'type': 'number'}, {'type': 'null'}], 'description': 'Mínimo valor de singularidad recomendado (0.0 a 10.0)', 'title': 'Singular Min'}, 'tipo_carroceria': {'anyOf': [{'items': {'type': 'string'}, 'type': 'array'}, {'type': 'null'}], 'description': \"Lista de tipos de carrocería recomendados por RAG (ej: ['SUV', 'COUPE'])\", 'title': 'Tipo Carroceria'}, 'modo_adquisicion_recomendado': {'anyOf': [{'enum': ['Contado', 'Financiado'], 'type': 'string'}, {'type': 'null'}], 'description': 'Modo de compra recomendado (Contado/Financiado) basado en análisis Modo 1.', 'title': 'Modo Adquisicion Recomendado'}, 'precio_max_contado_recomendado': {'anyOf': [{'type': 'number'}, {'type': 'null'}], 'description': 'Precio máximo recomendado si se aconseja comprar al contado (Modo 1).', 'title': 'Precio Max Contado Recomendado'}, 'cuota_max_calculada': {'anyOf': [{'type': 'number'}, {'type': 'null'}], 'description': 'Cuota mensual máxima calculada si se aconseja financiar (Modo 1).', 'title': 'Cuota Max Calculada'}}, 'title': 'FiltrosInferidos', 'type': 'object', 'additionalProperties': False, 'required': ['estetica_min', 'tipo_mecanica', 'premium_min', 'singular_min', 'tipo_carroceria', 'modo_adquisicion_recomendado', 'precio_max_contado_recomendado', 'cuota_max_calculada']}, 'TipoMecanica': {'enum': ['GASOLINA', 'DIESEL', 'BEV', 'FCEV', 'GLP', 'GNV', 'HEVD', 'HEVG', 'MHEVD', 'MHEVG', 'PHEVD', 'PHEVG', 'REEV'], 'title': 'TipoMecanica', 'type': 'string'}}, 'description': 'Salida esperada del LLM enfocado solo en inferir filtros técnicos.', 'properties': {'filtros_inferidos': {'$ref': '#/$defs/FiltrosInferidos'}, 'mensaje_validacion': {'description': 'Pregunta de seguimiento CLARA y CORTA si falta información ESENCIAL para completar los FiltrosInferidos (ej: tipo_mecanica), o un mensaje de confirmación si los filtros están completos.', 'title': 'Mensaje Validacion', 'type': 'string'}}, 'required': ['filtros_inferidos', 'mensaje_validacion'], 'title': 'ResultadoSoloFiltros', 'type': 'object', 'additionalProperties': False}, 'name': 'ResultadoSoloFiltros', 'strict': True}}, 'stream': False, 'temperature': 0.2}}\n",
      "DEBUG:openai._base_client:Sending HTTP Request: POST https://api.openai.com/v1/chat/completions\n",
      "DEBUG:httpcore.http11:send_request_headers.started request=<Request [b'POST']>\n",
      "DEBUG:httpcore.http11:send_request_headers.complete\n",
      "DEBUG:httpcore.http11:send_request_body.started request=<Request [b'POST']>\n",
      "DEBUG:httpcore.http11:send_request_body.complete\n",
      "DEBUG:httpcore.http11:receive_response_headers.started request=<Request [b'POST']>\n"
     ]
    },
    {
     "name": "stdout",
     "output_type": "stream",
     "text": [
      "DEBUG (Perfil) ► Respuesta llm_solo_perfil: preferencias_usuario=PerfilUsuario(altura_mayor_190='sí', peso_mayor_100='no', uso_profesional='no', valora_estetica='sí', solo_electricos='sí', transmision_preferida=<Transmision.MANUAL: 'manual'>, apasionado_motor='sí', aventura=<NivelAventura.extrema: 'extrema'>) mensaje_validacion='¡Estupendo! Creo que ya tengo claras todas tus preferencias principales. ¿Vamos a ver qué características técnicas encajarían?'\n",
      "DEBUG (Perfil) ► Preferencias tras post-procesamiento (si aplica): altura_mayor_190='sí' peso_mayor_100='no' uso_profesional='no' valora_estetica='sí' solo_electricos='sí' transmision_preferida=<Transmision.MANUAL: 'manual'> apasionado_motor='sí' aventura=<NivelAventura.extrema: 'extrema'>\n",
      "DEBUG (Perfil) ► Estado preferencias_usuario actualizado: altura_mayor_190='sí' peso_mayor_100='no' uso_profesional='no' valora_estetica='sí' solo_electricos='sí' transmision_preferida=<Transmision.MANUAL: 'manual'> apasionado_motor='sí' aventura=<NivelAventura.extrema: 'extrema'>\n",
      "DEBUG (Perfil) ► Guardando pregunta pendiente: ¡Estupendo! Creo que ya tengo claras todas tus preferencias principales. ¿Vamos a ver qué características técnicas encajarían?\n",
      "--- Ejecutando Nodo: validar_preferencias_node ---\n",
      "--- DEBUG CHECK PERFIL ---\n",
      "Input prefs object: altura_mayor_190='sí' peso_mayor_100='no' uso_profesional='no' valora_estetica='sí' solo_electricos='sí' transmision_preferida=<Transmision.MANUAL: 'manual'> apasionado_motor='sí' aventura=<NivelAventura.extrema: 'extrema'>\n",
      "Input prefs type: <class 'graph.perfil.state.PerfilUsuario'>\n",
      "Checking field 'altura_mayor_190': value='sí', type=<class 'str'>\n",
      "Checking field 'peso_mayor_100': value='no', type=<class 'str'>\n",
      "Checking field 'uso_profesional': value='no', type=<class 'str'>\n",
      "Checking field 'valora_estetica': value='sí', type=<class 'str'>\n",
      "Checking field 'solo_electricos': value='sí', type=<class 'str'>\n",
      "Checking field 'transmision_preferida': value='Transmision.MANUAL', type=<enum 'Transmision'>\n",
      "Checking field 'apasionado_motor': value='sí', type=<class 'str'>\n",
      "Checking field 'aventura': value='NivelAventura.extrema', type=<enum 'NivelAventura'>\n",
      "DEBUG (Validation Perfil) ► Todos los campos obligatorios del perfil están presentes.\n",
      "DEBUG (Perfil) ► Validación: PerfilUsuario considerado COMPLETO.\n",
      "--- Evaluando Condición: ruta_decision_perfil ---\n",
      "DEBUG (Condición Perfil) ► Estado 'preferencias_usuario' recibido: altura_mayor_190='sí' peso_mayor_100='no' uso_profesional='no' valora_estetica='sí' solo_electricos='sí' transmision_preferida=<Transmision.MANUAL: 'manual'> apasionado_motor='sí' aventura=<NivelAventura.extrema: 'extrema'>\n",
      "DEBUG (Condición Perfil) ► Tipo de 'preferencias_usuario': <class 'graph.perfil.state.PerfilUsuario'>\n",
      "--- DEBUG CHECK PERFIL ---\n",
      "Input prefs object: altura_mayor_190='sí' peso_mayor_100='no' uso_profesional='no' valora_estetica='sí' solo_electricos='sí' transmision_preferida=<Transmision.MANUAL: 'manual'> apasionado_motor='sí' aventura=<NivelAventura.extrema: 'extrema'>\n",
      "Input prefs type: <class 'graph.perfil.state.PerfilUsuario'>\n",
      "Checking field 'altura_mayor_190': value='sí', type=<class 'str'>\n",
      "Checking field 'peso_mayor_100': value='no', type=<class 'str'>\n",
      "Checking field 'uso_profesional': value='no', type=<class 'str'>\n",
      "Checking field 'valora_estetica': value='sí', type=<class 'str'>\n",
      "Checking field 'solo_electricos': value='sí', type=<class 'str'>\n",
      "Checking field 'transmision_preferida': value='Transmision.MANUAL', type=<enum 'Transmision'>\n",
      "Checking field 'apasionado_motor': value='sí', type=<class 'str'>\n",
      "Checking field 'aventura': value='NivelAventura.extrema', type=<enum 'NivelAventura'>\n",
      "DEBUG (Validation Perfil) ► Todos los campos obligatorios del perfil están presentes.\n",
      "DEBUG (Condición Perfil) ► Perfil COMPLETO. Avanzando a filtros.\n",
      "--- Ejecutando Nodo: inferir_filtros_node ---\n",
      "DEBUG (Filtros) ► Preferencias de usuario disponibles. Procediendo...\n",
      "DEBUG (Filtros) ► Prompt para llm_solo_filtros (parcial): <Role>\n",
      "Eres un asistente técnico experto en vehículos. Tu función es traducir las preferencias generales de un usuario en filtros técnicos específicos para la búsqueda de coches. Debes basarte estrictamente en las preferencias proporcionadas y generar una respuesta JSON que SIEMPRE se ajuste al esquema `ResultadoSoloFiltros`.\n",
      "</Role>\n",
      "\n",
      "<Contexto_Preferencias_Usuario>\n",
      "\n",
      "<Contexto_Preferencias_Usuario>\n",
      "A continuación se detallan las preferencias del usuario recopiladas previamente. Úsalas como base ...\n"
     ]
    },
    {
     "name": "stderr",
     "output_type": "stream",
     "text": [
      "DEBUG:httpcore.http11:receive_response_headers.complete return_value=(b'HTTP/1.1', 200, b'OK', [(b'Date', b'Sun, 04 May 2025 14:04:44 GMT'), (b'Content-Type', b'application/json'), (b'Transfer-Encoding', b'chunked'), (b'Connection', b'keep-alive'), (b'access-control-expose-headers', b'X-Request-ID'), (b'openai-organization', b'user-ic25pcewdjuowsz9q2ektvrn'), (b'openai-processing-ms', b'3654'), (b'openai-version', b'2020-10-01'), (b'x-ratelimit-limit-requests', b'10000'), (b'x-ratelimit-limit-tokens', b'200000'), (b'x-ratelimit-remaining-requests', b'9996'), (b'x-ratelimit-remaining-tokens', b'197054'), (b'x-ratelimit-reset-requests', b'26.504s'), (b'x-ratelimit-reset-tokens', b'883ms'), (b'x-request-id', b'req_8c521cdc956fc97b7602a5cb7940eb3c'), (b'strict-transport-security', b'max-age=31536000; includeSubDomains; preload'), (b'cf-cache-status', b'DYNAMIC'), (b'X-Content-Type-Options', b'nosniff'), (b'Server', b'cloudflare'), (b'CF-RAY', b'93a88c718bed03fe-MAD'), (b'Content-Encoding', b'gzip'), (b'alt-svc', b'h3=\":443\"; ma=86400')])\n",
      "INFO:httpx:HTTP Request: POST https://api.openai.com/v1/chat/completions \"HTTP/1.1 200 OK\"\n",
      "DEBUG:httpcore.http11:receive_response_body.started request=<Request [b'POST']>\n",
      "DEBUG:httpcore.http11:receive_response_body.complete\n",
      "DEBUG:httpcore.http11:response_closed.started\n",
      "DEBUG:httpcore.http11:response_closed.complete\n",
      "DEBUG:openai._base_client:HTTP Response: POST https://api.openai.com/v1/chat/completions \"200 OK\" Headers({'date': 'Sun, 04 May 2025 14:04:44 GMT', 'content-type': 'application/json', 'transfer-encoding': 'chunked', 'connection': 'keep-alive', 'access-control-expose-headers': 'X-Request-ID', 'openai-organization': 'user-ic25pcewdjuowsz9q2ektvrn', 'openai-processing-ms': '3654', 'openai-version': '2020-10-01', 'x-ratelimit-limit-requests': '10000', 'x-ratelimit-limit-tokens': '200000', 'x-ratelimit-remaining-requests': '9996', 'x-ratelimit-remaining-tokens': '197054', 'x-ratelimit-reset-requests': '26.504s', 'x-ratelimit-reset-tokens': '883ms', 'x-request-id': 'req_8c521cdc956fc97b7602a5cb7940eb3c', 'strict-transport-security': 'max-age=31536000; includeSubDomains; preload', 'cf-cache-status': 'DYNAMIC', 'x-content-type-options': 'nosniff', 'server': 'cloudflare', 'cf-ray': '93a88c718bed03fe-MAD', 'content-encoding': 'gzip', 'alt-svc': 'h3=\":443\"; ma=86400'})\n",
      "DEBUG:openai._base_client:request_id: req_8c521cdc956fc97b7602a5cb7940eb3c\n",
      "DEBUG:openai._base_client:Request options: {'method': 'post', 'url': '/chat/completions', 'headers': {'X-Stainless-Helper-Method': 'beta.chat.completions.parse'}, 'files': None, 'post_parser': <function Completions.parse.<locals>.parser at 0x11fa4b4c0>, 'json_data': {'messages': [{'content': '<Role>\\nEres un asistente experto en finanzas automotrices. Tu objetivo es recopilar información económica del usuario para ayudarle a definir su presupuesto(modo 1: con criterios de inteligencia financiera), o bien definir un presupuesto basado en sus indicaciones(modo2: indica el mismo cuánto y cómo gastar). Debes generar una respuesta JSON que SIEMPRE se ajuste al siguiente esquema Pydantic:\\n``json\\n{{\\n  \"$defs\": {{\\n    \"EconomiaUsuario\": {{\\n      \"properties\": {{\\n        \"modo\": {{\\n          \"anyOf\": [\\n            {{\\n              \"enum\": [\\n                1,\\n                2\\n              ],\\n              \"type\": \"integer\"\\n            }},\\n            {{\\n              \"type\": \"null\"\\n            }}\\n          ],\\n          \"default\": null,\\n          \"title\": \"Modo\"\\n        }},\\n        \"submodo\": {{\\n          \"anyOf\": [\\n            {{\\n              \"enum\": [\\n                1,\\n                2\\n              ],\\n              \"type\": \"integer\"\\n            }},\\n            {{\\n              \"type\": \"null\"\\n            }}\\n          ],\\n          \"default\": null,\\n          \"title\": \"Submodo\"\\n        }},\\n        \"ingresos\": {{\\n          \"anyOf\": [\\n            {{\\n              \"type\": \"number\"\\n            }},\\n            {{\\n              \"type\": \"null\"\\n            }}\\n          ],\\n          \"default\": null,\\n          \"title\": \"Ingresos\"\\n        }},\\n        \"ahorro\": {{\\n          \"anyOf\": [\\n            {{\\n              \"type\": \"number\"\\n            }},\\n            {{\\n              \"type\": \"null\"\\n            }}\\n          ],\\n          \"default\": null,\\n          \"title\": \"Ahorro\"\\n        }},\\n        \"pago_contado\": {{\\n          \"anyOf\": [\\n            {{\\n              \"type\": \"number\"\\n            }},\\n            {{\\n              \"type\": \"null\"\\n            }}\\n          ],\\n          \"default\": null,\\n          \"title\": \"Pago Contado\"\\n        }},\\n        \"cuota_max\": {{\\n          \"anyOf\": [\\n            {{\\n              \"type\": \"number\"\\n            }},\\n            {{\\n              \"type\": \"null\"\\n            }}\\n          ],\\n          \"default\": null,\\n          \"title\": \"Cuota Max\"\\n        }},\\n        \"entrada\": {{\\n          \"anyOf\": [\\n            {{\\n              \"type\": \"number\"\\n            }},\\n            {{\\n              \"type\": \"null\"\\n            }}\\n          ],\\n          \"default\": null,\\n          \"title\": \"Entrada\"\\n        }}\\n      }},\\n      \"title\": \"EconomiaUsuario\",\\n      \"type\": \"object\"\\n    }}\\n  }},\\n  \"properties\": {{\\n    \"economia\": {{\\n      \"$ref\": \"#/$defs/EconomiaUsuario\"\\n    }},\\n    \"mensaje_validacion\": {{\\n      \"title\": \"Mensaje Validacion\",\\n      \"type\": \"string\"\\n    }}\\n  }},\\n  \"required\": [\\n    \"economia\",\\n    \"mensaje_validacion\"\\n  ],\\n  \"title\": \"ResultadoEconomia\",\\n  \"type\": \"object\"\\n}}\\n\\n</Role>\\n\\n\\n<Instrucciones_Revisadas>\\n1. Analiza la conversación. Intenta determinar el \\'modo\\' (1 o 2) y el \\'submodo\\' (si aplica).\\n2. **REGLA CRÍTICA:**\\n   - Cuando `\"modo\" es None, comienza la conversacion realizando la pregunta filtro:\\n    \"Con el fin de conocer tus preferencias financieras que opcion (modo) prefieres: \\n      1. Prefiero que me aconsejes con criterios de inteligencia financiera.\\n  \\t  2. Prefiero indicar yo mismo cuánto y cómo gastar.\"\\n   - **NO** incluyas `\"modo\": 1` ( Asesoramiento con criterios de inteligencia financiera) en el objeto `economia` A MENOS QUE **TAMBIÉN** tengas valores numéricos para `\"ingresos\"` , `\"ahorro\"` y `\"anos_posesion\"` extraídos de la conversación para incluir en el mismo objeto `economia`.\\n   - **NO** incluyas `\"modo\": 2` (Tú defines presupuesto) y `\"submodo\": 1` A MENOS QUE **TAMBIÉN** tengas un valor numérico para `\"pago_contado\"`.\\n   - **NO** incluyas `\"modo\": 2` (Tú defines presupuesto)  y `\"submodo\": 2` A MENOS QUE **TAMBIÉN** tengas un valor numérico para `\"cuota_max\"`.\\n3. **Si puedes cumplir la REGLA CRÍTICA** para un modo/submodo: Rellena el objeto `economia` con todos los datos que tengas (modo, submodo, y los valores numéricos obligatorios y opcionales como \\'entrada\\'). Usa `null` para campos opcionales no conocidos. En este caso, `mensaje_validacion` puede ser una confirmación breve (ej: \"Ok, datos de Modo 1 recibidos.\") o una cadena vacía `\"\"`.\\n4. **Si NO puedes cumplir la REGLA CRÍTICA** (porque falta un valor numérico obligatorio para el modo/submodo que crees que aplica, o porque ni siquiera sabes el modo):\\n   - El objeto `economia` debe reflejar solo la información que sí tienes de forma segura (podría estar vacío o solo con `modo` si ya se eligió pero faltan datos para validarlo completamente *en este turno*).\\n   - El campo `mensaje_validacion` **DEBE** contener una pregunta **clara y específica** para obtener el **primer dato OBLIGATORIO que falta** para poder cumplir la REGLA CRÍTICA en el siguiente turno (ej: pregunta por `ingresos` si sabes que `modo` es 1; pregunta por `submodo` o `modo` si no se saben).\\n5. No inventes valores. Usa el historial.\\n</Instrucciones_Revisadas>\\n\\n<Ejemplos>\\n\\n**Ejemplo 1: Usuario elige Modo 1 (Asesoramiento), pero LLM necesita preguntar por ingresos**\\n* Contexto (Historial + Último mensaje): `[..., HumanMessage(content=\\'Prefiero que me asesores tú.\\')]`\\n* Salida JSON Esperada:\\n    ```json\\n    {{\\n      \"economia\": {{\\n        \"modo\": 1, // LLM identifica el modo\\n        \"submodo\": null,\\n        \"ingresos\": null, // Aún no tiene el dato obligatorio\\n        \"ahorro\": null,   // Aún no tiene el dato obligatorio\\n        \"pago_contado\": null,\\n        \"cuota_max\": null,\\n        \"entrada\": null\\n      }},\\n      \"mensaje_validacion\": \"Entendido, usaremos el modo asesor financiero. Para poder calcular un presupuesto adecuado, ¿podrías indicarme cuales son tus ingresos netos anuales aproximados?\" // Pregunta por el primer dato faltante\\n    }}\\n    ```\\n\\n**Ejemplo 2: Usuario elige Modo 2 (Define Presupuesto), pero LLM necesita preguntar por submodo (contado/cuotas)**\\n* Contexto (Historial + Último mensaje): `[..., HumanMessage(content=\\'Mejor defino yo el presupuesto.\\')]`\\n* Salida JSON Esperada:\\n    ```json\\n    {{\\n      \"economia\": {{\\n        \"modo\": 2, // LLM identifica el modo\\n        \"submodo\": null, // Falta el submodo obligatorio\\n        \"ingresos\": null,\\n        \"ahorro\": null,\\n        \"pago_contado\": null,\\n        \"cuota_max\": null,\\n        \"entrada\": null\\n      }},\\n      \"mensaje_validacion\": \"De acuerdo, tú defines el presupuesto. ¿Tienes pensado pagar el coche al contado (opción 1) o prefieres financiarlo en cuotas mensuales (opción 2)?\" // Pregunta por el submodo\\n    }}\\n    ```\\n// Ejemplo 3:\\n{{\\n  \"economia\": {{\"modo\": 1, \"submodo\": null, \"ingresos\": 45000.0, \"ahorro\": 10000.0, \"pago_contado\": null, \"cuota_max\": null, \"entrada\": null}},\\n  \"mensaje_validacion\": \"\" // O un mensaje como \"Ok, usaré tus ingresos y ahorros.\"\\n}}\\n\\n\\n</Ejemplos>\\n\\n<Formato esperado>\\nGenera el JSON:\\n{{\\n  \"economia\": {{ ... }},\\n  \"mensaje_validacion\": \"...\"\\n}}', 'role': 'user'}, {'content': 'oye busco un coche para la ciudad', 'role': 'user'}, {'content': '¡Hola! Para ayudarte mejor, hablemos de aventura. ¿Con cuál de estas afirmaciones te identificas más?\\n 1) No pisas nada que no sea asfalto (ninguna)\\n 2) Salidas fuera de asfalto ocasionales (ocasional)\\n 3) Circular en condiciones duras con total garantía (extrema)', 'role': 'assistant'}, {'content': 'la 3', 'role': 'user'}, {'content': '¿Mides más de 1.90 m?', 'role': 'assistant'}, {'content': ' mido 1.90 y peso 80kg', 'role': 'user'}, {'content': 'Entendido: mides 1.90m y tu nivel de aventura es extrema. ¿Uso personal o profesional?', 'role': 'assistant'}, {'content': 'uso personal', 'role': 'user'}, {'content': 'Perfecto, ya tenemos tus preferencias principales. ¿Valoras la estética?', 'role': 'assistant'}, {'content': 'si', 'role': 'user'}, {'content': '¿Qué tipo de transmisión prefieres?\\n 1) Automático\\n 2) Manual\\n 3) Ambos', 'role': 'assistant'}, {'content': 'Manual', 'role': 'user'}, {'content': '¡Estupendo! Creo que ya tengo claras todas tus preferencias principales. ¿Vamos a ver qué características técnicas encajarían?', 'role': 'assistant'}, {'content': 'vale, continua...', 'role': 'user'}, {'content': '¿Quieres solo coches eléctricos?', 'role': 'assistant'}, {'content': 'si, solo electricos', 'role': 'user'}, {'content': '¿Eres un apasionado del motor?', 'role': 'assistant'}, {'content': 'si, lo soy', 'role': 'user'}, {'content': 'Con el fin de conocer tus preferencias financieras que opción (modo) prefieres: 1. Prefiero que me aconsejes con criterios de inteligencia financiera. 2. Prefiero indicar yo mismo cuánto y cómo gastar.', 'role': 'assistant'}, {'content': 'opcion 1', 'role': 'user'}, {'content': 'Entendido, usaremos el modo asesor financiero. Para poder calcular un presupuesto adecuado, ¿podrías indicarme cuales son tus ingresos netos anuales aproximados?', 'role': 'assistant'}, {'content': '35.000', 'role': 'user'}, {'content': 'Ok, datos de Modo 1 recibidos. ¿Cuál es tu ahorro actual?', 'role': 'assistant'}, {'content': '10000 ahorrados?', 'role': 'user'}], 'model': 'gpt-4o-mini', 'response_format': {'type': 'json_schema', 'json_schema': {'schema': {'$defs': {'EconomiaUsuario': {'properties': {'modo': {'anyOf': [{'enum': [1, 2], 'type': 'integer'}, {'type': 'null'}], 'title': 'Modo'}, 'submodo': {'anyOf': [{'enum': [1, 2], 'type': 'integer'}, {'type': 'null'}], 'title': 'Submodo'}, 'ingresos': {'anyOf': [{'type': 'number'}, {'type': 'null'}], 'title': 'Ingresos'}, 'ahorro': {'anyOf': [{'type': 'number'}, {'type': 'null'}], 'title': 'Ahorro'}, 'pago_contado': {'anyOf': [{'type': 'number'}, {'type': 'null'}], 'title': 'Pago Contado'}, 'cuota_max': {'anyOf': [{'type': 'number'}, {'type': 'null'}], 'title': 'Cuota Max'}, 'entrada': {'anyOf': [{'type': 'number'}, {'type': 'null'}], 'title': 'Entrada'}, 'anos_posesion': {'anyOf': [{'type': 'integer'}, {'type': 'null'}], 'description': 'Número estimado de años que el usuario planea conservar el vehículo.', 'title': 'Anos Posesion'}}, 'title': 'EconomiaUsuario', 'type': 'object', 'additionalProperties': False, 'required': ['modo', 'submodo', 'ingresos', 'ahorro', 'pago_contado', 'cuota_max', 'entrada', 'anos_posesion']}}, 'properties': {'economia': {'description': 'Objeto que contiene TODA la información económica recopilada o actualizada.', 'properties': {'modo': {'anyOf': [{'enum': [1, 2], 'type': 'integer'}, {'type': 'null'}], 'title': 'Modo'}, 'submodo': {'anyOf': [{'enum': [1, 2], 'type': 'integer'}, {'type': 'null'}], 'title': 'Submodo'}, 'ingresos': {'anyOf': [{'type': 'number'}, {'type': 'null'}], 'title': 'Ingresos'}, 'ahorro': {'anyOf': [{'type': 'number'}, {'type': 'null'}], 'title': 'Ahorro'}, 'pago_contado': {'anyOf': [{'type': 'number'}, {'type': 'null'}], 'title': 'Pago Contado'}, 'cuota_max': {'anyOf': [{'type': 'number'}, {'type': 'null'}], 'title': 'Cuota Max'}, 'entrada': {'anyOf': [{'type': 'number'}, {'type': 'null'}], 'title': 'Entrada'}, 'anos_posesion': {'anyOf': [{'type': 'integer'}, {'type': 'null'}], 'description': 'Número estimado de años que el usuario planea conservar el vehículo.', 'title': 'Anos Posesion'}}, 'title': 'EconomiaUsuario', 'type': 'object', 'additionalProperties': False, 'required': ['modo', 'submodo', 'ingresos', 'ahorro', 'pago_contado', 'cuota_max', 'entrada', 'anos_posesion']}, 'mensaje_validacion': {'title': 'Mensaje Validacion', 'type': 'string'}}, 'required': ['economia', 'mensaje_validacion'], 'title': 'ResultadoEconomia', 'type': 'object', 'additionalProperties': False}, 'name': 'ResultadoEconomia', 'strict': True}}, 'stream': False, 'temperature': 0.2}}\n",
      "DEBUG:openai._base_client:Sending HTTP Request: POST https://api.openai.com/v1/chat/completions\n",
      "DEBUG:httpcore.connection:close.started\n",
      "DEBUG:httpcore.connection:close.complete\n",
      "DEBUG:httpcore.connection:connect_tcp.started host='api.openai.com' port=443 local_address=None timeout=None socket_options=None\n",
      "DEBUG:httpcore.connection:connect_tcp.complete return_value=<httpcore._backends.sync.SyncStream object at 0x14b996dd0>\n",
      "DEBUG:httpcore.connection:start_tls.started ssl_context=<ssl.SSLContext object at 0x13841f770> server_hostname='api.openai.com' timeout=None\n",
      "DEBUG:httpcore.connection:start_tls.complete return_value=<httpcore._backends.sync.SyncStream object at 0x14b8d5250>\n",
      "DEBUG:httpcore.http11:send_request_headers.started request=<Request [b'POST']>\n",
      "DEBUG:httpcore.http11:send_request_headers.complete\n",
      "DEBUG:httpcore.http11:send_request_body.started request=<Request [b'POST']>\n",
      "DEBUG:httpcore.http11:send_request_body.complete\n",
      "DEBUG:httpcore.http11:receive_response_headers.started request=<Request [b'POST']>\n"
     ]
    },
    {
     "name": "stdout",
     "output_type": "stream",
     "text": [
      "DEBUG (Filtros) ► Respuesta llm_solo_filtros: filtros_inferidos=FiltrosInferidos(estetica_min=5.0, tipo_mecanica=[<TipoMecanica.BEV: 'BEV'>, <TipoMecanica.REEV: 'REEV'>], premium_min=5.0, singular_min=5.0, tipo_carroceria=['SUV', 'CROSSOVER'], modo_adquisicion_recomendado='Financiado', precio_max_contado_recomendado=None, cuota_max_calculada=350.0) mensaje_validacion='Ok, he definido los filtros técnicos basados en tus preferencias.'\n",
      "\n",
      "--- DEBUG DENTRO PostProc Filtros ---\n",
      "Recibido Prefs: altura_mayor_190='sí' peso_mayor_100='no' uso_profesional='no' valora_estetica='sí' solo_electricos='sí' transmision_preferida=<Transmision.MANUAL: 'manual'> apasionado_motor='sí' aventura=<NivelAventura.extrema: 'extrema'>\n",
      "Recibido Filtros (antes): estetica_min=5.0 tipo_mecanica=[<TipoMecanica.BEV: 'BEV'>, <TipoMecanica.REEV: 'REEV'>] premium_min=5.0 singular_min=5.0 tipo_carroceria=['SUV', 'CROSSOVER'] modo_adquisicion_recomendado='Financiado' precio_max_contado_recomendado=None cuota_max_calculada=350.0\n",
      "DEBUG PostProc Filtros: Valor de valora_estetica_val = 'sí' (Tipo: <class 'str'>)\n",
      "DEBUG PostProc Filtros: Resultado de is_yes(valora_estetica_val) = True\n",
      "DEBUG (PostProc Filtros) ► Aplicando regla: valora_estetica='sí' -> estetica_min=5.0\n",
      "DEBUG PostProc Filtros: Valor de apasionado_motor_val = 'sí' (Tipo: <class 'str'>)\n",
      "DEBUG PostProc Filtros: Resultado de is_yes(apasionado_motor_val) = True\n",
      "DEBUG (PostProc Filtros) ► Aplicando regla: apasionado_motor='sí' -> premium/singular_min=5.0\n",
      "DEBUG (PostProc Filtros) ► Filtros tras post-procesamiento: estetica_min=6.0 tipo_mecanica=[<TipoMecanica.BEV: 'BEV'>, <TipoMecanica.REEV: 'REEV'>] premium_min=6.0 singular_min=6.0 tipo_carroceria=['SUV', 'CROSSOVER'] modo_adquisicion_recomendado='Financiado' precio_max_contado_recomendado=None cuota_max_calculada=350.0\n",
      "DEBUG (Filtros) ► Filtros TRAS post-procesamiento: estetica_min=6.0 tipo_mecanica=[<TipoMecanica.BEV: 'BEV'>, <TipoMecanica.REEV: 'REEV'>] premium_min=6.0 singular_min=6.0 tipo_carroceria=['SUV', 'CROSSOVER'] modo_adquisicion_recomendado='Financiado' precio_max_contado_recomendado=None cuota_max_calculada=350.0\n",
      "DEBUG (Filtros) ► Estado filtros_inferidos actualizado: estetica_min=6.0 tipo_mecanica=[<TipoMecanica.BEV: 'BEV'>, <TipoMecanica.REEV: 'REEV'>] premium_min=6.0 singular_min=6.0 tipo_carroceria=['SUV', 'CROSSOVER'] modo_adquisicion_recomendado='Financiado' precio_max_contado_recomendado=None cuota_max_calculada=350.0\n",
      "DEBUG (Filtros) ► Guardando pregunta pendiente: Ok, he definido los filtros técnicos basados en tus preferencias.\n",
      "--- Ejecutando Nodo: validar_filtros_node ---\n",
      "DEBUG (Validation Filtros) ► Todos los campos obligatorios de filtros ('tipo_mecanica') están presentes y válidos.\n",
      "DEBUG (Filtros) ► Validación: FiltrosInferidos considerados COMPLETOS.\n",
      "--- Evaluando Condición: ruta_decision_filtros ---\n",
      "DEBUG (Validation Filtros) ► Todos los campos obligatorios de filtros ('tipo_mecanica') están presentes y válidos.\n",
      "DEBUG (Condición Filtros) ► Filtros COMPLETOS. Avanzando a economía.\n",
      "--- Ejecutando Nodo: recopilar_economia_node ---\n",
      "DEBUG (Economía) ► Llamando a llm_economia...\n"
     ]
    },
    {
     "name": "stderr",
     "output_type": "stream",
     "text": [
      "DEBUG:httpcore.http11:receive_response_headers.complete return_value=(b'HTTP/1.1', 200, b'OK', [(b'Date', b'Sun, 04 May 2025 14:04:46 GMT'), (b'Content-Type', b'application/json'), (b'Transfer-Encoding', b'chunked'), (b'Connection', b'keep-alive'), (b'access-control-expose-headers', b'X-Request-ID'), (b'openai-organization', b'user-ic25pcewdjuowsz9q2ektvrn'), (b'openai-processing-ms', b'1662'), (b'openai-version', b'2020-10-01'), (b'x-ratelimit-limit-requests', b'10000'), (b'x-ratelimit-limit-tokens', b'200000'), (b'x-ratelimit-remaining-requests', b'9996'), (b'x-ratelimit-remaining-tokens', b'197696'), (b'x-ratelimit-reset-requests', b'31.182s'), (b'x-ratelimit-reset-tokens', b'690ms'), (b'x-request-id', b'req_a61bdb07eb2f3a161209deaf0f7eed42'), (b'strict-transport-security', b'max-age=31536000; includeSubDomains; preload'), (b'cf-cache-status', b'DYNAMIC'), (b'X-Content-Type-Options', b'nosniff'), (b'Server', b'cloudflare'), (b'CF-RAY', b'93a88c8a4b178b37-MAD'), (b'Content-Encoding', b'gzip'), (b'alt-svc', b'h3=\":443\"; ma=86400')])\n",
      "INFO:httpx:HTTP Request: POST https://api.openai.com/v1/chat/completions \"HTTP/1.1 200 OK\"\n",
      "DEBUG:httpcore.http11:receive_response_body.started request=<Request [b'POST']>\n",
      "DEBUG:httpcore.http11:receive_response_body.complete\n",
      "DEBUG:httpcore.http11:response_closed.started\n",
      "DEBUG:httpcore.http11:response_closed.complete\n",
      "DEBUG:openai._base_client:HTTP Response: POST https://api.openai.com/v1/chat/completions \"200 OK\" Headers({'date': 'Sun, 04 May 2025 14:04:46 GMT', 'content-type': 'application/json', 'transfer-encoding': 'chunked', 'connection': 'keep-alive', 'access-control-expose-headers': 'X-Request-ID', 'openai-organization': 'user-ic25pcewdjuowsz9q2ektvrn', 'openai-processing-ms': '1662', 'openai-version': '2020-10-01', 'x-ratelimit-limit-requests': '10000', 'x-ratelimit-limit-tokens': '200000', 'x-ratelimit-remaining-requests': '9996', 'x-ratelimit-remaining-tokens': '197696', 'x-ratelimit-reset-requests': '31.182s', 'x-ratelimit-reset-tokens': '690ms', 'x-request-id': 'req_a61bdb07eb2f3a161209deaf0f7eed42', 'strict-transport-security': 'max-age=31536000; includeSubDomains; preload', 'cf-cache-status': 'DYNAMIC', 'x-content-type-options': 'nosniff', 'server': 'cloudflare', 'cf-ray': '93a88c8a4b178b37-MAD', 'content-encoding': 'gzip', 'alt-svc': 'h3=\":443\"; ma=86400'})\n",
      "DEBUG:openai._base_client:request_id: req_a61bdb07eb2f3a161209deaf0f7eed42\n"
     ]
    },
    {
     "name": "stdout",
     "output_type": "stream",
     "text": [
      "DEBUG (Economía) ► Respuesta llm_economia: economia=EconomiaUsuario(modo=1, submodo=None, ingresos=35000.0, ahorro=10000.0, pago_contado=None, cuota_max=None, entrada=None, anos_posesion=None) mensaje_validacion='Ok, datos de Modo 1 recibidos. ¿Cuántos años planeas conservar el vehículo?'\n",
      "DEBUG (Economía) ► Estado economía actualizado: modo=1 submodo=None ingresos=35000.0 ahorro=10000.0 pago_contado=None cuota_max=None entrada=None anos_posesion=None\n",
      "DEBUG (Economía) ► Guardando pregunta pendiente: Ok, datos de Modo 1 recibidos. ¿Cuántos años planeas conservar el vehículo?\n",
      "--- Ejecutando Nodo: validar_economia_node ---\n",
      "--- DEBUG CHECK ECONOMIA (Manual) ---\n",
      "Input econ object: modo=1 submodo=None ingresos=35000.0 ahorro=10000.0 pago_contado=None cuota_max=None entrada=None anos_posesion=None\n",
      "DEBUG (Validation Economía Manual) ► Modo 1 INCOMPLETO (faltan: anos_posesion).\n",
      "DEBUG (Economía) ► Validación: Economía considerada INCOMPLETA.\n",
      "--- Evaluando Condición: ruta_decision_economia ---\n",
      "--- DEBUG CHECK ECONOMIA (Manual) ---\n",
      "Input econ object: modo=1 submodo=None ingresos=35000.0 ahorro=10000.0 pago_contado=None cuota_max=None entrada=None anos_posesion=None\n",
      "DEBUG (Validation Economía Manual) ► Modo 1 INCOMPLETO (faltan: anos_posesion).\n",
      "DEBUG (Condición Economía) ► Economía INCOMPLETA. Se necesita pregunta.\n",
      "--- Ejecutando Nodo: preguntar_economia_node ---\n",
      "DEBUG (Preguntar Economía) ► Usando pregunta guardada: Ok, datos de Modo 1 recibidos. ¿Cuántos años planeas conservar el vehículo?\n",
      "DEBUG (Preguntar Economía) ► Mensaje final añadido: Ok, datos de Modo 1 recibidos. ¿Cuántos años planeas conservar el vehículo?\n",
      "==================================\u001b[1m Ai Message \u001b[0m==================================\n",
      "\n",
      "Ok, datos de Modo 1 recibidos. ¿Cuántos años planeas conservar el vehículo?\n"
     ]
    }
   ],
   "source": [
    "# Create a thread\n",
    "config = {\"configurable\": {\"thread_id\": \"1\"}}\n",
    "\n",
    "# Start conversation\n",
    "input_message = HumanMessage(content=\"10000 ahorrados?\")\n",
    "output = graph.invoke({\"messages\": [input_message]}, config) \n",
    "for m in output['messages'][-1:]:\n",
    "    m.pretty_print()"
   ]
  },
  {
   "cell_type": "code",
   "execution_count": null,
   "metadata": {},
   "outputs": [],
   "source": [
    "print(output['preferencias_usuario'])\n",
    "print('-----------------------')\n",
    "print(output['filtros_inferidos'])\n",
    "print('-----------------------')\n",
    "print(output.keys())"
   ]
  },
  {
   "cell_type": "code",
   "execution_count": 14,
   "metadata": {},
   "outputs": [
    {
     "name": "stderr",
     "output_type": "stream",
     "text": [
      "DEBUG:openai._base_client:Request options: {'method': 'post', 'url': '/chat/completions', 'headers': {'X-Stainless-Helper-Method': 'beta.chat.completions.parse'}, 'files': None, 'post_parser': <function Completions.parse.<locals>.parser at 0x14b91ec00>, 'json_data': {'messages': [{'content': '<Role>\\nEres un asistente de conversación amigable y metodológico. Tu misión actual es conocer las preferencias generales y el perfil básico de un usuario que busca un coche (`PerfilUsuario`). Debes seguir las reglas especificadas y generar SIEMPRE un objeto JSON válido que cumpla el esquema `ResultadoSoloPerfil`. Mantén un tono cercano.\\n</Role>\\n\\n<Esquema_JSON_Requerido>\\nLa estructura JSON que DEBES generar es la siguiente:\\n```json\\n{{\\n  \"$defs\": {\\n    \"NivelAventura\": {\\n      \"enum\": [\\n        \"ninguna\",\\n        \"ocasional\",\\n        \"extrema\"\\n      ],\\n      \"title\": \"NivelAventura\",\\n      \"type\": \"string\"\\n    },\\n    \"PerfilUsuario\": {\\n      \"properties\": {\\n        \"altura_mayor_190\": {\\n          \"anyOf\": [\\n            {\\n              \"type\": \"string\"\\n            },\\n            {\\n              \"type\": \"null\"\\n            }\\n          ],\\n          \"description\": \"\\\\u00bfEl usuario mide m\\\\u00e1s de 1.90 metros? Responde \\'s\\\\u00ed\\' o \\'no\\'\",\\n          \"title\": \"Altura Mayor 190\"\\n        },\\n...\\n  ],\\n  \"title\": \"ResultadoSoloPerfil\",\\n  \"type\": \"object\"\\n}}\\n</Esquema_JSON_Requerido>\\n\\n<Reglas_Generales>\\n\\n1. Analiza TODO el historial de la conversación y el último mensaje del usuario para extraer/inferir valores para TODOS los campos de preferencias_usuario. Usa null si no hay información.\\n2. Haz solo preguntas relevantes según los campos de PerfilUsuario que falten y no repitas preguntas que ya hayan sido respondidas explícita o implícitamente.\\n3. PROHIBIDO preguntar por temas fuera de PerfilUsuario en esta etapa (NO preguntar por precio, consumo, filtros técnicos como tipo_mecanica, tecnología, seguridad, maletero, etc.).\\n4. Usa el campo mensaje_validacion para formular la siguiente pregunta necesaria o para confirmar que el perfil está completo. </Reglas_Generales>\\n</Reglas_Generales>\\n\\n<Reglas_Preguntas_Especificas>\\n\\nUsa estas preguntas EXACTAS cuando necesites preguntar por estos campos de PerfilUsuario:\\n\\naltura_mayor_190: \"¿Mides más de 1.90 m?\"\\npeso_mayor_100: \"¿Pesas más de 100 kg?\"\\nuso_profesional: \"¿Uso personal o profesional?\"\\nvalora_estetica: \"¿Valoras la estética?\"\\nsolo_electricos: \"¿Quieres solo coches eléctricos?\"\\ntransmision_preferida: (Si falta y es relevante preguntar) \"¿Qué tipo de transmisión prefieres?\\\\n 1) Automático\\\\n 2) Manual\\\\n 3) Ambos\"\\napasionado_motor: \"¿Eres un apasionado del motor?\"\\nManejo de aventura: Si no se ha preguntado por aventura y no se puede inferir un valor (ninguna, ocasional, extrema), deja \"aventura\": null en preferencias_usuario y USA UNO de los siguientes templates EXACTOS en mensaje_validacion (elige el que te parezca más natural en el contexto):\\n\\n<Aventura_Templates>\\n\\nTemplate 1: “Hablando de aventura, ¿con cuál de estas afirmaciones te identificas más?\\\\n 1) No pisas nada que no sea asfalto (ninguna)\\\\n 2) Salidas fuera de asfalto ocasionales (ocasional)\\\\n 3) Circular en condiciones duras con total garantía (extrema)”\\nTemplate 2: “Para conocer tu espíritu aventurero, dime:\\\\n 1) Solo asfalto (ninguna)\\\\n 2) Salidas off‑road de vez en cuando (ocasional)\\\\n 3) Aventurero extremo en terrenos difíciles (extrema)” </Aventura_Templates>\\nConfirmación de Perfil Completo: Si consideras que todos los campos necesarios de PerfilUsuario ya tienen un valor (no null), usa un mensaje de confirmación en mensaje_validacion. Ejemplo: \"¡Perfecto! Ya tenemos tus preferencias principales. ¿Pasamos a los detalles técnicos?\" o simplemente \"\".\\n</Reglas_Preguntas_Especificas>\\n\\n<Ejemplos_Perfil>\\n\\nEjemplo 1: Inicio, pregunta por Aventura\\n\\nContexto (Historial + Último mensaje): [HumanMessage(content=\\'Hola, dime quién eres\\')]\\nSalida JSON Esperada:\\nJSON\\n\\n{\\n  \"preferencias_usuario\": {\\n    \"altura_mayor_190\": null, \"peso_mayor_100\": null, \"uso_profesional\": null, \\n    \"valora_estetica\": null, \"solo_electricos\": null, \"transmision_preferida\": null, \\n    \"apasionado_motor\": null, \"aventura\": null \\n  },\\n  \"mensaje_validacion\": \"¡Hola! Soy Mentor, tu asistente para encontrar el coche perfecto. Analizo tus necesidades y preferencias. Para empezar, hablando de aventura, ¿con cuál de estas afirmaciones te identificas más?\\\\n  1) No pisas nada que no sea asfalto (ninguna)\\\\n  2) Salidas fuera de asfalto ocasionales (ocasional)\\\\n  3) Circular en condiciones duras con total garantía (extrema)\"\\n}\\n\\nEjemplo 2: Usuario da altura, estética y uso; pregunta por Transmisión\\n\\nContexto: [..., HumanMessage(content=\\'Mido 1.95m y me gustan los coches con buen diseño. Quiero algo para ir al trabajo.\\')]\\nSalida JSON Esperada:\\nJSON\\n\\n{\\n  \"preferencias_usuario\": {\\n    \"altura_mayor_190\": \"sí\", \"peso_mayor_100\": null, \"uso_profesional\": \"sí\", \\n    \"valora_estetica\": \"sí\", \"solo_electricos\": null, \"transmision_preferida\": null, \\n    \"apasionado_motor\": null, \"aventura\": null \\n  },\\n  \"mensaje_validacion\": \"Entendido: mides más de 1.90m, valoras la estética y es para uso profesional. ¿Qué tipo de transmisión prefieres?\\\\n  1) Automático\\\\n  2) Manual\\\\n  3) Ambos\" \\n}\\n(Nota: En este ejemplo, asumimos que preguntar por transmisión es prioritario sobre aventura según tu lógica interna o la del LLM)\\n\\nEjemplo 3: Perfil completo, mensaje de confirmación\\n\\nContexto: [..., HumanMessage(content=\\'Prefiero automático, no quiero solo eléctricos, y no soy apasionado del motor. Uso personal y solo asfalto. No soy alto ni pesado.\\')]\\nSalida JSON Esperada:\\nJSON\\n\\n{\\n  \"preferencias_usuario\": {\\n    \"altura_mayor_190\": \"no\", \"peso_mayor_100\": \"no\", \"uso_profesional\": \"no\", \\n    \"valora_estetica\": \"sí\", # Asumiendo que se preguntó/infirió antes\\n    \"solo_electricos\": \"no\", \"transmision_preferida\": \"automatico\", \\n    \"apasionado_motor\": \"no\", \"aventura\": \"ninguna\" \\n  },\\n  \"mensaje_validacion\": \"¡Estupendo! Creo que ya tengo claras todas tus preferencias principales. ¿Vamos a ver qué características técnicas encajarían?\" \\n}\\n</Ejemplos_Perfil>\\n\\n<Formato_Salida_JSON_Final>\\nGenera únicamente el objeto JSON completo y válido solicitado que cumpla el esquema ResultadoSoloPerfil, sin añadir ningún texto antes o después.\\n\\nJSON\\n\\n{\\n  \"preferencias_usuario\": { ... },\\n  \"mensaje_validacion\": \"<string>\"\\n}\\n</Formato_Salida_JSON_Final>', 'role': 'user'}, {'content': 'oye busco un coche para la ciudad', 'role': 'user'}, {'content': '¡Hola! Para ayudarte mejor, hablemos de aventura. ¿Con cuál de estas afirmaciones te identificas más?\\n 1) No pisas nada que no sea asfalto (ninguna)\\n 2) Salidas fuera de asfalto ocasionales (ocasional)\\n 3) Circular en condiciones duras con total garantía (extrema)', 'role': 'assistant'}, {'content': 'la 3', 'role': 'user'}, {'content': '¿Mides más de 1.90 m?', 'role': 'assistant'}, {'content': ' mido 1.90 y peso 80kg', 'role': 'user'}, {'content': 'Entendido: mides 1.90m y tu nivel de aventura es extrema. ¿Uso personal o profesional?', 'role': 'assistant'}, {'content': 'uso personal', 'role': 'user'}, {'content': 'Perfecto, ya tenemos tus preferencias principales. ¿Valoras la estética?', 'role': 'assistant'}, {'content': 'si', 'role': 'user'}, {'content': '¿Qué tipo de transmisión prefieres?\\n 1) Automático\\n 2) Manual\\n 3) Ambos', 'role': 'assistant'}, {'content': 'Manual', 'role': 'user'}, {'content': '¡Estupendo! Creo que ya tengo claras todas tus preferencias principales. ¿Vamos a ver qué características técnicas encajarían?', 'role': 'assistant'}, {'content': 'vale, continua...', 'role': 'user'}, {'content': '¿Quieres solo coches eléctricos?', 'role': 'assistant'}, {'content': 'si, solo electricos', 'role': 'user'}, {'content': '¿Eres un apasionado del motor?', 'role': 'assistant'}, {'content': 'si, lo soy', 'role': 'user'}, {'content': 'Con el fin de conocer tus preferencias financieras que opción (modo) prefieres: 1. Prefiero que me aconsejes con criterios de inteligencia financiera. 2. Prefiero indicar yo mismo cuánto y cómo gastar.', 'role': 'assistant'}, {'content': 'opcion 1', 'role': 'user'}, {'content': 'Entendido, usaremos el modo asesor financiero. Para poder calcular un presupuesto adecuado, ¿podrías indicarme cuales son tus ingresos netos anuales aproximados?', 'role': 'assistant'}, {'content': '35.000', 'role': 'user'}, {'content': 'Ok, datos de Modo 1 recibidos. ¿Cuál es tu ahorro actual?', 'role': 'assistant'}, {'content': '10000 ahorrados?', 'role': 'user'}, {'content': 'Ok, datos de Modo 1 recibidos. ¿Cuántos años planeas conservar el vehículo?', 'role': 'assistant'}, {'content': '5 años', 'role': 'user'}], 'model': 'gpt-4o-mini', 'response_format': {'type': 'json_schema', 'json_schema': {'schema': {'$defs': {'NivelAventura': {'enum': ['ninguna', 'ocasional', 'extrema'], 'title': 'NivelAventura', 'type': 'string'}, 'PerfilUsuario': {'properties': {'altura_mayor_190': {'anyOf': [{'type': 'string'}, {'type': 'null'}], 'description': \"¿El usuario mide más de 1.90 metros? Responde 'sí' o 'no'\", 'title': 'Altura Mayor 190'}, 'peso_mayor_100': {'anyOf': [{'type': 'string'}, {'type': 'null'}], 'description': \"¿El usuario pesa más de 100 kg? Responde 'sí' o 'no'\", 'title': 'Peso Mayor 100'}, 'uso_profesional': {'anyOf': [{'type': 'string'}, {'type': 'null'}], 'description': \"¿Usará el coche para trabajo? Responde 'sí' o 'no'\", 'title': 'Uso Profesional'}, 'valora_estetica': {'anyOf': [{'type': 'string'}, {'type': 'null'}], 'description': \"¿Valora la estética del coche? Responde 'sí' o 'no'\", 'title': 'Valora Estetica'}, 'solo_electricos': {'anyOf': [{'type': 'string'}, {'type': 'null'}], 'description': \"¿Quiere solo coches eléctricos? Responde 'sí' o 'no'\", 'title': 'Solo Electricos'}, 'transmision_preferida': {'anyOf': [{'$ref': '#/$defs/Transmision'}, {'type': 'null'}], 'description': '¿Qué transmisión prefieres: automático, manual o ambos?'}, 'apasionado_motor': {'anyOf': [{'type': 'string'}, {'type': 'null'}], 'description': \"¿Eres un apasionado/a del motor y/o la movilidad? Responde 'sí' o 'no'\", 'title': 'Apasionado Motor'}, 'aventura': {'anyOf': [{'$ref': '#/$defs/NivelAventura'}, {'type': 'null'}], 'description': \"¿Qué nivel de aventura buscas con tu vehículo: 'ninguna', 'ocasional' o 'extrema'?\"}}, 'title': 'PerfilUsuario', 'type': 'object', 'additionalProperties': False, 'required': ['altura_mayor_190', 'peso_mayor_100', 'uso_profesional', 'valora_estetica', 'solo_electricos', 'transmision_preferida', 'apasionado_motor', 'aventura']}, 'Transmision': {'enum': ['automático', 'manual', 'ambos'], 'title': 'Transmision', 'type': 'string'}}, 'description': 'Salida esperada del LLM enfocado solo en el perfil del usuario.', 'properties': {'preferencias_usuario': {'$ref': '#/$defs/PerfilUsuario'}, 'mensaje_validacion': {'description': 'Pregunta de seguimiento CLARA y CORTA si falta información ESENCIAL para completar el PerfilUsuario, o un mensaje de confirmación si el perfil está completo.', 'title': 'Mensaje Validacion', 'type': 'string'}}, 'required': ['preferencias_usuario', 'mensaje_validacion'], 'title': 'ResultadoSoloPerfil', 'type': 'object', 'additionalProperties': False}, 'name': 'ResultadoSoloPerfil', 'strict': True}}, 'stream': False, 'temperature': 0.2}}\n",
      "DEBUG:openai._base_client:Sending HTTP Request: POST https://api.openai.com/v1/chat/completions\n",
      "DEBUG:httpcore.connection:close.started\n",
      "DEBUG:httpcore.connection:close.complete\n",
      "DEBUG:httpcore.connection:connect_tcp.started host='api.openai.com' port=443 local_address=None timeout=None socket_options=None\n",
      "DEBUG:httpcore.connection:connect_tcp.complete return_value=<httpcore._backends.sync.SyncStream object at 0x14b8d8950>\n",
      "DEBUG:httpcore.connection:start_tls.started ssl_context=<ssl.SSLContext object at 0x11f6eccb0> server_hostname='api.openai.com' timeout=None\n",
      "DEBUG:httpcore.connection:start_tls.complete return_value=<httpcore._backends.sync.SyncStream object at 0x14b9b9d50>\n",
      "DEBUG:httpcore.http11:send_request_headers.started request=<Request [b'POST']>\n",
      "DEBUG:httpcore.http11:send_request_headers.complete\n",
      "DEBUG:httpcore.http11:send_request_body.started request=<Request [b'POST']>\n",
      "DEBUG:httpcore.http11:send_request_body.complete\n",
      "DEBUG:httpcore.http11:receive_response_headers.started request=<Request [b'POST']>\n"
     ]
    },
    {
     "name": "stdout",
     "output_type": "stream",
     "text": [
      "--- Ejecutando Nodo: recopilar_preferencias_node ---\n",
      "DEBUG (Perfil) ► Último mensaje es HumanMessage o historial vacío, llamando a llm_solo_perfil...\n"
     ]
    },
    {
     "name": "stderr",
     "output_type": "stream",
     "text": [
      "DEBUG:httpcore.http11:receive_response_headers.complete return_value=(b'HTTP/1.1', 200, b'OK', [(b'Date', b'Sun, 04 May 2025 14:04:57 GMT'), (b'Content-Type', b'application/json'), (b'Transfer-Encoding', b'chunked'), (b'Connection', b'keep-alive'), (b'access-control-expose-headers', b'X-Request-ID'), (b'openai-organization', b'user-ic25pcewdjuowsz9q2ektvrn'), (b'openai-processing-ms', b'2421'), (b'openai-version', b'2020-10-01'), (b'x-ratelimit-limit-requests', b'10000'), (b'x-ratelimit-limit-tokens', b'200000'), (b'x-ratelimit-remaining-requests', b'9996'), (b'x-ratelimit-remaining-tokens', b'198085'), (b'x-ratelimit-reset-requests', b'29.197s'), (b'x-ratelimit-reset-tokens', b'574ms'), (b'x-request-id', b'req_a461f2cd269b372f79a52749304b88d2'), (b'strict-transport-security', b'max-age=31536000; includeSubDomains; preload'), (b'cf-cache-status', b'DYNAMIC'), (b'X-Content-Type-Options', b'nosniff'), (b'Server', b'cloudflare'), (b'CF-RAY', b'93a88ccca929c905-MAD'), (b'Content-Encoding', b'gzip'), (b'alt-svc', b'h3=\":443\"; ma=86400')])\n",
      "INFO:httpx:HTTP Request: POST https://api.openai.com/v1/chat/completions \"HTTP/1.1 200 OK\"\n",
      "DEBUG:httpcore.http11:receive_response_body.started request=<Request [b'POST']>\n",
      "DEBUG:httpcore.http11:receive_response_body.complete\n",
      "DEBUG:httpcore.http11:response_closed.started\n",
      "DEBUG:httpcore.http11:response_closed.complete\n",
      "DEBUG:openai._base_client:HTTP Response: POST https://api.openai.com/v1/chat/completions \"200 OK\" Headers({'date': 'Sun, 04 May 2025 14:04:57 GMT', 'content-type': 'application/json', 'transfer-encoding': 'chunked', 'connection': 'keep-alive', 'access-control-expose-headers': 'X-Request-ID', 'openai-organization': 'user-ic25pcewdjuowsz9q2ektvrn', 'openai-processing-ms': '2421', 'openai-version': '2020-10-01', 'x-ratelimit-limit-requests': '10000', 'x-ratelimit-limit-tokens': '200000', 'x-ratelimit-remaining-requests': '9996', 'x-ratelimit-remaining-tokens': '198085', 'x-ratelimit-reset-requests': '29.197s', 'x-ratelimit-reset-tokens': '574ms', 'x-request-id': 'req_a461f2cd269b372f79a52749304b88d2', 'strict-transport-security': 'max-age=31536000; includeSubDomains; preload', 'cf-cache-status': 'DYNAMIC', 'x-content-type-options': 'nosniff', 'server': 'cloudflare', 'cf-ray': '93a88ccca929c905-MAD', 'content-encoding': 'gzip', 'alt-svc': 'h3=\":443\"; ma=86400'})\n",
      "DEBUG:openai._base_client:request_id: req_a461f2cd269b372f79a52749304b88d2\n",
      "DEBUG:openai._base_client:Request options: {'method': 'post', 'url': '/chat/completions', 'headers': {'X-Stainless-Helper-Method': 'beta.chat.completions.parse'}, 'files': None, 'post_parser': <function Completions.parse.<locals>.parser at 0x14c2504a0>, 'json_data': {'messages': [{'content': '<Role>\\nEres un asistente técnico experto en vehículos. Tu función es traducir las preferencias generales de un usuario en filtros técnicos específicos para la búsqueda de coches. Debes basarte estrictamente en las preferencias proporcionadas y generar una respuesta JSON que SIEMPRE se ajuste al esquema `ResultadoSoloFiltros`.\\n</Role>\\n\\n<Contexto_Preferencias_Usuario>\\n\\n<Contexto_Preferencias_Usuario>\\nA continuación se detallan las preferencias del usuario recopiladas previamente. Úsalas como base INDISPENSABLE para tu inferencia:\\n```json\\n{\\'altura_mayor_190\\': \\'sí\\', \\'peso_mayor_100\\': \\'no\\', \\'uso_profesional\\': \\'no\\', \\'valora_estetica\\': \\'sí\\', \\'solo_electricos\\': \\'sí\\', \\'transmision_preferida\\': \\'manual\\', \\'apasionado_motor\\': \\'sí\\', \\'aventura\\': \\'extrema\\'}\\n</Contexto_Preferencias_Usuario>\\n\\n<Esquema_JSON_Requerido>\\nA continuación se detallan las preferencias del usuario recopiladas previamente. Úsalas como base INDISPENSABLE para tu inferencia:\\n{\\n  \"$defs\": {\\n    \"FiltrosInferidos\": {\\n      \"properties\": {\\n        \"estetica_min\": {\\n          \"anyOf\": [\\n            {\\n              \"type\": \"number\"\\n            },\\n            {\\n              \"type\": \"null\"\\n            }\\n          ],\\n          \"default\": null,\\n          \"description\": \"M\\\\u00ednimo valor de est\\\\u00e9tica recomendado (0.0 a 10.0)\",\\n          \"title\": \"Estetica Min\"\\n        },\\n        \"tipo_mecanica\": {\\n          \"anyOf\": [\\n            {\\n              \"items\": {\\n                \"$ref\": \"#/$defs/TipoMecanica\"\\n              },\\n              \"type\": \"array\"\\n            },\\n            {\\n              \"type\": \"null\"\\n            }\\n          ],\\n          \"default\": null,\\n          \"description\": \"Lista de motorizaciones recomendadas\",\\n          \"title\": \"Tipo Mecanica\"\\n        },\\n        \"premium_min\": {\\n          \"anyOf\": [\\n            {\\n              \"type\": \"number\"\\n            },\\n            {\\n              \"type\": \"null\"\\n            }\\n          ],\\n          \"default\": null,\\n          \"description\": \"M\\\\u00ednimo valor de premium recomendado (0.0 a 10.0)\",\\n          \"title\": \"Premium Min\"\\n        },\\n        \"singular_min\": {\\n          \"anyOf\": [\\n            {\\n              \"type\": \"number\"\\n            },\\n            {\\n              \"type\": \"null\"\\n            }\\n          ],\\n          \"default\": null,\\n          \"description\": \"M\\\\u00ednimo valor de singularidad recomendado (0.0 a 10.0)\",\\n          \"title\": \"Singular Min\"\\n        },\\n        \"tipo_carroceria\": {\\n          \"anyOf\": [\\n            {\\n              \"items\": {\\n                \"type\": \"string\"\\n              },\\n              \"type\": \"array\"\\n            },\\n            {\\n              \"type\": \"null\"\\n            }\\n          ],\\n          \"default\": null,\\n          \"description\": \"Lista de tipos de carrocer\\\\u00eda recomendados por RAG (ej: [\\'SUV\\', \\'COUPE\\'])\",\\n          \"title\": \"Tipo Carroceria\"\\n        },\\n        \"modo_adquisicion_recomendado\": {\\n          \"anyOf\": [\\n            {\\n              \"enum\": [\\n                \"Contado\",\\n                \"Financiado\"\\n              ],\\n              \"type\": \"string\"\\n            },\\n            {\\n              \"type\": \"null\"\\n            }\\n          ],\\n          \"default\": null,\\n          \"description\": \"Modo de compra recomendado (Contado/Financiado) basado en an\\\\u00e1lisis Modo 1.\",\\n          \"title\": \"Modo Adquisicion Recomendado\"\\n        },\\n        \"precio_max_contado_recomendado\": {\\n          \"anyOf\": [\\n            {\\n              \"type\": \"number\"\\n            },\\n            {\\n              \"type\": \"null\"\\n            }\\n          ],\\n          \"default\": null,\\n          \"description\": \"Precio m\\\\u00e1ximo recomendado si se aconseja comprar al contado (Modo 1).\",\\n          \"title\": \"Precio Max Contado Recomendado\"\\n        },\\n        \"cuota_max_calculada\": {\\n          \"anyOf\": [\\n            {\\n              \"type\": \"number\"\\n            },\\n            {\\n              \"type\": \"null\"\\n            }\\n          ],\\n          \"default\": null,\\n          \"description\": \"Cuota mensual m\\\\u00e1xima calculada si se aconseja financiar (Modo 1).\",\\n          \"title\": \"Cuota Max Calculada\"\\n        }\\n      },\\n      \"title\": \"FiltrosInferidos\",\\n      \"type\": \"object\"\\n    },\\n    \"TipoMecanica\": {\\n      \"enum\": [\\n        \"GASOLINA\",\\n        \"DIESEL\",\\n        \"BEV\",\\n        \"FCEV\",\\n        \"GLP\",\\n        \"GNV\",\\n        \"HEVD\",\\n        \"HEVG\",\\n        \"MHEVD\",\\n        \"MHEVG\",\\n        \"PHEVD\",\\n        \"PHEVG\",\\n        \"REEV\"\\n      ],\\n      \"title\": \"TipoMecanica\",\\n      \"type\": \"string\"\\n    }\\n  },\\n  \"description\": \"Salida esperada del LLM enfocado solo en inferir filtros t\\\\u00e9cnicos.\",\\n  \"properties\": {\\n    \"filtros_inferidos\": {\\n      \"$ref\": \"#/$defs/FiltrosInferidos\"\\n    },\\n    \"mensaje_validacion\": {\\n      \"description\": \"Pregunta de seguimiento CLARA y CORTA si falta informaci\\\\u00f3n ESENCIAL para completar los FiltrosInferidos (ej: tipo_mecanica), o un mensaje de confirmaci\\\\u00f3n si los filtros est\\\\u00e1n completos.\",\\n      \"title\": \"Mensaje Validacion\",\\n      \"type\": \"string\"\\n    }\\n  },\\n  \"required\": [\\n    \"filtros_inferidos\",\\n    \"mensaje_validacion\"\\n  ],\\n  \"title\": \"ResultadoSoloFiltros\",\\n  \"type\": \"object\"\\n}\\n</Esquema_JSON_Requerido>\\n\\n\\n<Instrucciones_Detalladas_Inferencia>\\n\\nAnaliza las <Contexto_Preferencias_Usuario> proporcionadas.\\nInfiere los valores para los campos dentro de filtros_inferidos en el JSON de salida, siguiendo estas directrices:\\n\\n\\n- estetica_min: Si preferencias_contexto indica valora_estetica: \\'sí\\', asigna un valor numérico como 5.0 o 6.0. Si es \\'no\\' o null, asigna 1.0.\\n- tipo_mecanica: ¡CAMPO CRÍTICO Y OBLIGATORIO! Debes inferir una lista de strings.\\n- Si preferencias_contexto indica solo_electricos: \\'sí\\', la lista DEBE ser [\"BEV\", \"REEV\"].\\n- Si solo_electricos es \\'no\\', proporciona una lista sensata basada en otras preferencias (ej: para \"coche para la ciudad\" podría ser [\"BEV\", \"GASOLINA\", \"HIBRIDO\"]). Evita \\'DIESEL\\' para uso urbano si no hay otra indicación.\\n- Si solo_electricos es null o desconocido, intenta inferir una lista general o, si no es posible, pregunta usando mensaje_validacion.\\n- Los únicos valores válidos para esta lista son: { \\'GASOLINA\\', \\'DIESEL\\', \\'BEV\\', \\'FCEV\\', \\'GLP\\', \\'GNV\\', \\'HEVD\\', \\'HEVG\\', \\'MHEVD\\', \\'MHEVG\\', \\'PHEVD\\', \\'PHEVG\\', \\'REEV\\' }. Asegúrate de devolver una lista de strings válidos. Es obligatorio que este campo contenga al menos un valor si es posible inferirlo.\\n- premium_min y singular_min: Si preferencias_contexto indica apasionado_motor: \\'sí\\', asigna un valor numérico como 5.0 o más. Si es \\'no\\' o null, asigna 1.0 o déjalos null.\\n\\n-Campo mensaje_validacion:\\nSi NO pudiste inferir un valor para un filtro crítico (especialmente tipo_mecanica), usa este campo para generar una pregunta corta y específica dirigida a obtener ese filtro faltante. Ejemplo: \"No estoy seguro de qué tipo de motorización prefieres (gasolina, híbrido, eléctrico...). ¿Podrías indicármelo?\".\\nSi has podido inferir todos los filtros necesarios (incluyendo tipo_mecanica), puedes dejar este campo como una cadena vacía \"\" o poner un mensaje corto de confirmación como \"Ok, he definido los filtros técnicos basados en tus preferencias.\".\\nPrecisión: No inventes valores. Si una preferencia no da información para un filtro opcional, déjalo como null. Si falta información para un filtro crítico que no puedes inferir, pregunta. \\n\\n</Instrucciones_Detalladas_Inferencia>\\n\\n<Ejemplos>\\n\\n**Ejemplo 1:**\\n\\n* **Preferencias de Entrada (Contexto):**\\n    ```json\\n    {\\n      \"altura_mayor_190\": \"no\",\\n      \"peso_mayor_100\": \"no\",\\n      \"uso_profesional\": \"no\",\\n      \"valora_estetica\": \"sí\",\\n      \"solo_electricos\": \"no\",\\n      \"transmision_preferida\": \"automatico\",\\n      \"apasionado_motor\": \"no\",\\n      \"aventura\": \"ninguna\"\\n    }\\n    ```\\n* **Salida JSON Esperada:**\\n    ```json\\n    {\\n      \"filtros_inferidos\": {\\n        \"estetica_min\": 5.0,\\n        \"tipo_mecanica\": [\"BEV\", \"GASOLINA\", \"HIBRIDO\"],\\n        \"premium_min\": 1.0,\\n        \"singular_min\": 1.0\\n      },\\n      \"mensaje_validacion\": \"Ok, he definido los filtros técnicos basados en tus preferencias.\"\\n    }\\n    ```\\n\\n**Ejemplo 2:**\\n\\n* **Preferencias de Entrada (Contexto):**\\n    ```json\\n    {\\n      \"altura_mayor_190\": \"sí\",\\n      \"peso_mayor_100\": \"no\",\\n      \"uso_profesional\": \"sí\",\\n      \"valora_estetica\": \"no\",\\n      \"solo_electricos\": \"sí\",\\n      \"transmision_preferida\": \"automatico\",\\n      \"apasionado_motor\": \"sí\",\\n      \"aventura\": \"ocasional\"\\n    }\\n    ```\\n* **Salida JSON Esperada:**\\n    ```json\\n    {\\n      \"filtros_inferidos\": {\\n        \"estetica_min\": 1.0,\\n        \"tipo_mecanica\": [\"BEV\"],\\n        \"premium_min\": 5.0,\\n        \"singular_min\": 5.0\\n      },\\n      \"mensaje_validacion\": \"\" \\n    }\\n    ```\\n    \\n**(Opcional) Ejemplo 3: Falta información crítica**\\n\\n* **Preferencias de Entrada (Contexto):**\\n    ```json\\n    {\\n      \"altura_mayor_190\": \"no\",\\n      \"peso_mayor_100\": \"no\",\\n      \"uso_profesional\": \"no\",\\n      \"valora_estetica\": \"sí\",\\n      \"solo_electricos\": null, //\\n      \"transmision_preferida\": \"manual\",\\n      \"apasionado_motor\": \"no\",\\n      \"aventura\": \"ninguna\"\\n    }\\n    ```\\n* **Salida JSON Esperada:**\\n    ```json\\n    {\\n      \"filtros_inferidos\": {\\n        \"estetica_min\": 5.0,\\n        \"tipo_mecanica\": null, \\n        \"premium_min\": 1.0,\\n        \"singular_min\": 1.0\\n      },\\n      \"mensaje_validacion\": \"Necesitaría saber si tienes preferencia por algún tipo de motorización (eléctrico, gasolina, diesel...) para continuar.\" \\n    }\\n    ```\\n\\n</Ejemplos>\\n\\n\\n\\n', 'role': 'user'}, {'content': 'oye busco un coche para la ciudad', 'role': 'user'}, {'content': '¡Hola! Para ayudarte mejor, hablemos de aventura. ¿Con cuál de estas afirmaciones te identificas más?\\n 1) No pisas nada que no sea asfalto (ninguna)\\n 2) Salidas fuera de asfalto ocasionales (ocasional)\\n 3) Circular en condiciones duras con total garantía (extrema)', 'role': 'assistant'}, {'content': 'la 3', 'role': 'user'}, {'content': '¿Mides más de 1.90 m?', 'role': 'assistant'}, {'content': ' mido 1.90 y peso 80kg', 'role': 'user'}, {'content': 'Entendido: mides 1.90m y tu nivel de aventura es extrema. ¿Uso personal o profesional?', 'role': 'assistant'}, {'content': 'uso personal', 'role': 'user'}, {'content': 'Perfecto, ya tenemos tus preferencias principales. ¿Valoras la estética?', 'role': 'assistant'}, {'content': 'si', 'role': 'user'}, {'content': '¿Qué tipo de transmisión prefieres?\\n 1) Automático\\n 2) Manual\\n 3) Ambos', 'role': 'assistant'}, {'content': 'Manual', 'role': 'user'}, {'content': '¡Estupendo! Creo que ya tengo claras todas tus preferencias principales. ¿Vamos a ver qué características técnicas encajarían?', 'role': 'assistant'}, {'content': 'vale, continua...', 'role': 'user'}, {'content': '¿Quieres solo coches eléctricos?', 'role': 'assistant'}, {'content': 'si, solo electricos', 'role': 'user'}, {'content': '¿Eres un apasionado del motor?', 'role': 'assistant'}, {'content': 'si, lo soy', 'role': 'user'}, {'content': 'Con el fin de conocer tus preferencias financieras que opción (modo) prefieres: 1. Prefiero que me aconsejes con criterios de inteligencia financiera. 2. Prefiero indicar yo mismo cuánto y cómo gastar.', 'role': 'assistant'}, {'content': 'opcion 1', 'role': 'user'}, {'content': 'Entendido, usaremos el modo asesor financiero. Para poder calcular un presupuesto adecuado, ¿podrías indicarme cuales son tus ingresos netos anuales aproximados?', 'role': 'assistant'}, {'content': '35.000', 'role': 'user'}, {'content': 'Ok, datos de Modo 1 recibidos. ¿Cuál es tu ahorro actual?', 'role': 'assistant'}, {'content': '10000 ahorrados?', 'role': 'user'}, {'content': 'Ok, datos de Modo 1 recibidos. ¿Cuántos años planeas conservar el vehículo?', 'role': 'assistant'}, {'content': '5 años', 'role': 'user'}], 'model': 'gpt-4o-mini', 'response_format': {'type': 'json_schema', 'json_schema': {'schema': {'$defs': {'FiltrosInferidos': {'properties': {'estetica_min': {'anyOf': [{'type': 'number'}, {'type': 'null'}], 'description': 'Mínimo valor de estética recomendado (0.0 a 10.0)', 'title': 'Estetica Min'}, 'tipo_mecanica': {'anyOf': [{'items': {'$ref': '#/$defs/TipoMecanica'}, 'type': 'array'}, {'type': 'null'}], 'description': 'Lista de motorizaciones recomendadas', 'title': 'Tipo Mecanica'}, 'premium_min': {'anyOf': [{'type': 'number'}, {'type': 'null'}], 'description': 'Mínimo valor de premium recomendado (0.0 a 10.0)', 'title': 'Premium Min'}, 'singular_min': {'anyOf': [{'type': 'number'}, {'type': 'null'}], 'description': 'Mínimo valor de singularidad recomendado (0.0 a 10.0)', 'title': 'Singular Min'}, 'tipo_carroceria': {'anyOf': [{'items': {'type': 'string'}, 'type': 'array'}, {'type': 'null'}], 'description': \"Lista de tipos de carrocería recomendados por RAG (ej: ['SUV', 'COUPE'])\", 'title': 'Tipo Carroceria'}, 'modo_adquisicion_recomendado': {'anyOf': [{'enum': ['Contado', 'Financiado'], 'type': 'string'}, {'type': 'null'}], 'description': 'Modo de compra recomendado (Contado/Financiado) basado en análisis Modo 1.', 'title': 'Modo Adquisicion Recomendado'}, 'precio_max_contado_recomendado': {'anyOf': [{'type': 'number'}, {'type': 'null'}], 'description': 'Precio máximo recomendado si se aconseja comprar al contado (Modo 1).', 'title': 'Precio Max Contado Recomendado'}, 'cuota_max_calculada': {'anyOf': [{'type': 'number'}, {'type': 'null'}], 'description': 'Cuota mensual máxima calculada si se aconseja financiar (Modo 1).', 'title': 'Cuota Max Calculada'}}, 'title': 'FiltrosInferidos', 'type': 'object', 'additionalProperties': False, 'required': ['estetica_min', 'tipo_mecanica', 'premium_min', 'singular_min', 'tipo_carroceria', 'modo_adquisicion_recomendado', 'precio_max_contado_recomendado', 'cuota_max_calculada']}, 'TipoMecanica': {'enum': ['GASOLINA', 'DIESEL', 'BEV', 'FCEV', 'GLP', 'GNV', 'HEVD', 'HEVG', 'MHEVD', 'MHEVG', 'PHEVD', 'PHEVG', 'REEV'], 'title': 'TipoMecanica', 'type': 'string'}}, 'description': 'Salida esperada del LLM enfocado solo en inferir filtros técnicos.', 'properties': {'filtros_inferidos': {'$ref': '#/$defs/FiltrosInferidos'}, 'mensaje_validacion': {'description': 'Pregunta de seguimiento CLARA y CORTA si falta información ESENCIAL para completar los FiltrosInferidos (ej: tipo_mecanica), o un mensaje de confirmación si los filtros están completos.', 'title': 'Mensaje Validacion', 'type': 'string'}}, 'required': ['filtros_inferidos', 'mensaje_validacion'], 'title': 'ResultadoSoloFiltros', 'type': 'object', 'additionalProperties': False}, 'name': 'ResultadoSoloFiltros', 'strict': True}}, 'stream': False, 'temperature': 0.2}}\n",
      "DEBUG:openai._base_client:Sending HTTP Request: POST https://api.openai.com/v1/chat/completions\n",
      "DEBUG:httpcore.http11:send_request_headers.started request=<Request [b'POST']>\n",
      "DEBUG:httpcore.http11:send_request_headers.complete\n",
      "DEBUG:httpcore.http11:send_request_body.started request=<Request [b'POST']>\n",
      "DEBUG:httpcore.http11:send_request_body.complete\n",
      "DEBUG:httpcore.http11:receive_response_headers.started request=<Request [b'POST']>\n"
     ]
    },
    {
     "name": "stdout",
     "output_type": "stream",
     "text": [
      "DEBUG (Perfil) ► Respuesta llm_solo_perfil: preferencias_usuario=PerfilUsuario(altura_mayor_190='sí', peso_mayor_100='no', uso_profesional='no', valora_estetica='sí', solo_electricos='sí', transmision_preferida=<Transmision.MANUAL: 'manual'>, apasionado_motor='sí', aventura=<NivelAventura.extrema: 'extrema'>) mensaje_validacion='¡Perfecto! Ya tenemos tus preferencias principales. ¿Pasamos a los detalles técnicos?'\n",
      "DEBUG (Perfil) ► Preferencias tras post-procesamiento (si aplica): altura_mayor_190='sí' peso_mayor_100='no' uso_profesional='no' valora_estetica='sí' solo_electricos='sí' transmision_preferida=<Transmision.MANUAL: 'manual'> apasionado_motor='sí' aventura=<NivelAventura.extrema: 'extrema'>\n",
      "DEBUG (Perfil) ► Estado preferencias_usuario actualizado: altura_mayor_190='sí' peso_mayor_100='no' uso_profesional='no' valora_estetica='sí' solo_electricos='sí' transmision_preferida=<Transmision.MANUAL: 'manual'> apasionado_motor='sí' aventura=<NivelAventura.extrema: 'extrema'>\n",
      "DEBUG (Perfil) ► Guardando pregunta pendiente: ¡Perfecto! Ya tenemos tus preferencias principales. ¿Pasamos a los detalles técnicos?\n",
      "--- Ejecutando Nodo: validar_preferencias_node ---\n",
      "--- DEBUG CHECK PERFIL ---\n",
      "Input prefs object: altura_mayor_190='sí' peso_mayor_100='no' uso_profesional='no' valora_estetica='sí' solo_electricos='sí' transmision_preferida=<Transmision.MANUAL: 'manual'> apasionado_motor='sí' aventura=<NivelAventura.extrema: 'extrema'>\n",
      "Input prefs type: <class 'graph.perfil.state.PerfilUsuario'>\n",
      "Checking field 'altura_mayor_190': value='sí', type=<class 'str'>\n",
      "Checking field 'peso_mayor_100': value='no', type=<class 'str'>\n",
      "Checking field 'uso_profesional': value='no', type=<class 'str'>\n",
      "Checking field 'valora_estetica': value='sí', type=<class 'str'>\n",
      "Checking field 'solo_electricos': value='sí', type=<class 'str'>\n",
      "Checking field 'transmision_preferida': value='Transmision.MANUAL', type=<enum 'Transmision'>\n",
      "Checking field 'apasionado_motor': value='sí', type=<class 'str'>\n",
      "Checking field 'aventura': value='NivelAventura.extrema', type=<enum 'NivelAventura'>\n",
      "DEBUG (Validation Perfil) ► Todos los campos obligatorios del perfil están presentes.\n",
      "DEBUG (Perfil) ► Validación: PerfilUsuario considerado COMPLETO.\n",
      "--- Evaluando Condición: ruta_decision_perfil ---\n",
      "DEBUG (Condición Perfil) ► Estado 'preferencias_usuario' recibido: altura_mayor_190='sí' peso_mayor_100='no' uso_profesional='no' valora_estetica='sí' solo_electricos='sí' transmision_preferida=<Transmision.MANUAL: 'manual'> apasionado_motor='sí' aventura=<NivelAventura.extrema: 'extrema'>\n",
      "DEBUG (Condición Perfil) ► Tipo de 'preferencias_usuario': <class 'graph.perfil.state.PerfilUsuario'>\n",
      "--- DEBUG CHECK PERFIL ---\n",
      "Input prefs object: altura_mayor_190='sí' peso_mayor_100='no' uso_profesional='no' valora_estetica='sí' solo_electricos='sí' transmision_preferida=<Transmision.MANUAL: 'manual'> apasionado_motor='sí' aventura=<NivelAventura.extrema: 'extrema'>\n",
      "Input prefs type: <class 'graph.perfil.state.PerfilUsuario'>\n",
      "Checking field 'altura_mayor_190': value='sí', type=<class 'str'>\n",
      "Checking field 'peso_mayor_100': value='no', type=<class 'str'>\n",
      "Checking field 'uso_profesional': value='no', type=<class 'str'>\n",
      "Checking field 'valora_estetica': value='sí', type=<class 'str'>\n",
      "Checking field 'solo_electricos': value='sí', type=<class 'str'>\n",
      "Checking field 'transmision_preferida': value='Transmision.MANUAL', type=<enum 'Transmision'>\n",
      "Checking field 'apasionado_motor': value='sí', type=<class 'str'>\n",
      "Checking field 'aventura': value='NivelAventura.extrema', type=<enum 'NivelAventura'>\n",
      "DEBUG (Validation Perfil) ► Todos los campos obligatorios del perfil están presentes.\n",
      "DEBUG (Condición Perfil) ► Perfil COMPLETO. Avanzando a filtros.\n",
      "--- Ejecutando Nodo: inferir_filtros_node ---\n",
      "DEBUG (Filtros) ► Preferencias de usuario disponibles. Procediendo...\n",
      "DEBUG (Filtros) ► Prompt para llm_solo_filtros (parcial): <Role>\n",
      "Eres un asistente técnico experto en vehículos. Tu función es traducir las preferencias generales de un usuario en filtros técnicos específicos para la búsqueda de coches. Debes basarte estrictamente en las preferencias proporcionadas y generar una respuesta JSON que SIEMPRE se ajuste al esquema `ResultadoSoloFiltros`.\n",
      "</Role>\n",
      "\n",
      "<Contexto_Preferencias_Usuario>\n",
      "\n",
      "<Contexto_Preferencias_Usuario>\n",
      "A continuación se detallan las preferencias del usuario recopiladas previamente. Úsalas como base ...\n"
     ]
    },
    {
     "name": "stderr",
     "output_type": "stream",
     "text": [
      "DEBUG:httpcore.http11:receive_response_headers.complete return_value=(b'HTTP/1.1', 200, b'OK', [(b'Date', b'Sun, 04 May 2025 14:05:00 GMT'), (b'Content-Type', b'application/json'), (b'Transfer-Encoding', b'chunked'), (b'Connection', b'keep-alive'), (b'access-control-expose-headers', b'X-Request-ID'), (b'openai-organization', b'user-ic25pcewdjuowsz9q2ektvrn'), (b'openai-processing-ms', b'2282'), (b'openai-version', b'2020-10-01'), (b'x-ratelimit-limit-requests', b'10000'), (b'x-ratelimit-limit-tokens', b'200000'), (b'x-ratelimit-remaining-requests', b'9995'), (b'x-ratelimit-remaining-tokens', b'196949'), (b'x-ratelimit-reset-requests', b'35.191s'), (b'x-ratelimit-reset-tokens', b'915ms'), (b'x-request-id', b'req_b0696c429bb200ebd32d7e3a35b2012d'), (b'strict-transport-security', b'max-age=31536000; includeSubDomains; preload'), (b'cf-cache-status', b'DYNAMIC'), (b'X-Content-Type-Options', b'nosniff'), (b'Server', b'cloudflare'), (b'CF-RAY', b'93a88cdd4a07c905-MAD'), (b'Content-Encoding', b'gzip'), (b'alt-svc', b'h3=\":443\"; ma=86400')])\n",
      "INFO:httpx:HTTP Request: POST https://api.openai.com/v1/chat/completions \"HTTP/1.1 200 OK\"\n",
      "DEBUG:httpcore.http11:receive_response_body.started request=<Request [b'POST']>\n",
      "DEBUG:httpcore.http11:receive_response_body.complete\n",
      "DEBUG:httpcore.http11:response_closed.started\n",
      "DEBUG:httpcore.http11:response_closed.complete\n",
      "DEBUG:openai._base_client:HTTP Response: POST https://api.openai.com/v1/chat/completions \"200 OK\" Headers({'date': 'Sun, 04 May 2025 14:05:00 GMT', 'content-type': 'application/json', 'transfer-encoding': 'chunked', 'connection': 'keep-alive', 'access-control-expose-headers': 'X-Request-ID', 'openai-organization': 'user-ic25pcewdjuowsz9q2ektvrn', 'openai-processing-ms': '2282', 'openai-version': '2020-10-01', 'x-ratelimit-limit-requests': '10000', 'x-ratelimit-limit-tokens': '200000', 'x-ratelimit-remaining-requests': '9995', 'x-ratelimit-remaining-tokens': '196949', 'x-ratelimit-reset-requests': '35.191s', 'x-ratelimit-reset-tokens': '915ms', 'x-request-id': 'req_b0696c429bb200ebd32d7e3a35b2012d', 'strict-transport-security': 'max-age=31536000; includeSubDomains; preload', 'cf-cache-status': 'DYNAMIC', 'x-content-type-options': 'nosniff', 'server': 'cloudflare', 'cf-ray': '93a88cdd4a07c905-MAD', 'content-encoding': 'gzip', 'alt-svc': 'h3=\":443\"; ma=86400'})\n",
      "DEBUG:openai._base_client:request_id: req_b0696c429bb200ebd32d7e3a35b2012d\n",
      "DEBUG:openai._base_client:Request options: {'method': 'post', 'url': '/chat/completions', 'headers': {'X-Stainless-Helper-Method': 'beta.chat.completions.parse'}, 'files': None, 'post_parser': <function Completions.parse.<locals>.parser at 0x14c250360>, 'json_data': {'messages': [{'content': '<Role>\\nEres un asistente experto en finanzas automotrices. Tu objetivo es recopilar información económica del usuario para ayudarle a definir su presupuesto(modo 1: con criterios de inteligencia financiera), o bien definir un presupuesto basado en sus indicaciones(modo2: indica el mismo cuánto y cómo gastar). Debes generar una respuesta JSON que SIEMPRE se ajuste al siguiente esquema Pydantic:\\n``json\\n{{\\n  \"$defs\": {{\\n    \"EconomiaUsuario\": {{\\n      \"properties\": {{\\n        \"modo\": {{\\n          \"anyOf\": [\\n            {{\\n              \"enum\": [\\n                1,\\n                2\\n              ],\\n              \"type\": \"integer\"\\n            }},\\n            {{\\n              \"type\": \"null\"\\n            }}\\n          ],\\n          \"default\": null,\\n          \"title\": \"Modo\"\\n        }},\\n        \"submodo\": {{\\n          \"anyOf\": [\\n            {{\\n              \"enum\": [\\n                1,\\n                2\\n              ],\\n              \"type\": \"integer\"\\n            }},\\n            {{\\n              \"type\": \"null\"\\n            }}\\n          ],\\n          \"default\": null,\\n          \"title\": \"Submodo\"\\n        }},\\n        \"ingresos\": {{\\n          \"anyOf\": [\\n            {{\\n              \"type\": \"number\"\\n            }},\\n            {{\\n              \"type\": \"null\"\\n            }}\\n          ],\\n          \"default\": null,\\n          \"title\": \"Ingresos\"\\n        }},\\n        \"ahorro\": {{\\n          \"anyOf\": [\\n            {{\\n              \"type\": \"number\"\\n            }},\\n            {{\\n              \"type\": \"null\"\\n            }}\\n          ],\\n          \"default\": null,\\n          \"title\": \"Ahorro\"\\n        }},\\n        \"pago_contado\": {{\\n          \"anyOf\": [\\n            {{\\n              \"type\": \"number\"\\n            }},\\n            {{\\n              \"type\": \"null\"\\n            }}\\n          ],\\n          \"default\": null,\\n          \"title\": \"Pago Contado\"\\n        }},\\n        \"cuota_max\": {{\\n          \"anyOf\": [\\n            {{\\n              \"type\": \"number\"\\n            }},\\n            {{\\n              \"type\": \"null\"\\n            }}\\n          ],\\n          \"default\": null,\\n          \"title\": \"Cuota Max\"\\n        }},\\n        \"entrada\": {{\\n          \"anyOf\": [\\n            {{\\n              \"type\": \"number\"\\n            }},\\n            {{\\n              \"type\": \"null\"\\n            }}\\n          ],\\n          \"default\": null,\\n          \"title\": \"Entrada\"\\n        }}\\n      }},\\n      \"title\": \"EconomiaUsuario\",\\n      \"type\": \"object\"\\n    }}\\n  }},\\n  \"properties\": {{\\n    \"economia\": {{\\n      \"$ref\": \"#/$defs/EconomiaUsuario\"\\n    }},\\n    \"mensaje_validacion\": {{\\n      \"title\": \"Mensaje Validacion\",\\n      \"type\": \"string\"\\n    }}\\n  }},\\n  \"required\": [\\n    \"economia\",\\n    \"mensaje_validacion\"\\n  ],\\n  \"title\": \"ResultadoEconomia\",\\n  \"type\": \"object\"\\n}}\\n\\n</Role>\\n\\n\\n<Instrucciones_Revisadas>\\n1. Analiza la conversación. Intenta determinar el \\'modo\\' (1 o 2) y el \\'submodo\\' (si aplica).\\n2. **REGLA CRÍTICA:**\\n   - Cuando `\"modo\" es None, comienza la conversacion realizando la pregunta filtro:\\n    \"Con el fin de conocer tus preferencias financieras que opcion (modo) prefieres: \\n      1. Prefiero que me aconsejes con criterios de inteligencia financiera.\\n  \\t  2. Prefiero indicar yo mismo cuánto y cómo gastar.\"\\n   - **NO** incluyas `\"modo\": 1` ( Asesoramiento con criterios de inteligencia financiera) en el objeto `economia` A MENOS QUE **TAMBIÉN** tengas valores numéricos para `\"ingresos\"` , `\"ahorro\"` y `\"anos_posesion\"` extraídos de la conversación para incluir en el mismo objeto `economia`.\\n   - **NO** incluyas `\"modo\": 2` (Tú defines presupuesto) y `\"submodo\": 1` A MENOS QUE **TAMBIÉN** tengas un valor numérico para `\"pago_contado\"`.\\n   - **NO** incluyas `\"modo\": 2` (Tú defines presupuesto)  y `\"submodo\": 2` A MENOS QUE **TAMBIÉN** tengas un valor numérico para `\"cuota_max\"`.\\n3. **Si puedes cumplir la REGLA CRÍTICA** para un modo/submodo: Rellena el objeto `economia` con todos los datos que tengas (modo, submodo, y los valores numéricos obligatorios y opcionales como \\'entrada\\'). Usa `null` para campos opcionales no conocidos. En este caso, `mensaje_validacion` puede ser una confirmación breve (ej: \"Ok, datos de Modo 1 recibidos.\") o una cadena vacía `\"\"`.\\n4. **Si NO puedes cumplir la REGLA CRÍTICA** (porque falta un valor numérico obligatorio para el modo/submodo que crees que aplica, o porque ni siquiera sabes el modo):\\n   - El objeto `economia` debe reflejar solo la información que sí tienes de forma segura (podría estar vacío o solo con `modo` si ya se eligió pero faltan datos para validarlo completamente *en este turno*).\\n   - El campo `mensaje_validacion` **DEBE** contener una pregunta **clara y específica** para obtener el **primer dato OBLIGATORIO que falta** para poder cumplir la REGLA CRÍTICA en el siguiente turno (ej: pregunta por `ingresos` si sabes que `modo` es 1; pregunta por `submodo` o `modo` si no se saben).\\n5. No inventes valores. Usa el historial.\\n</Instrucciones_Revisadas>\\n\\n<Ejemplos>\\n\\n**Ejemplo 1: Usuario elige Modo 1 (Asesoramiento), pero LLM necesita preguntar por ingresos**\\n* Contexto (Historial + Último mensaje): `[..., HumanMessage(content=\\'Prefiero que me asesores tú.\\')]`\\n* Salida JSON Esperada:\\n    ```json\\n    {{\\n      \"economia\": {{\\n        \"modo\": 1, // LLM identifica el modo\\n        \"submodo\": null,\\n        \"ingresos\": null, // Aún no tiene el dato obligatorio\\n        \"ahorro\": null,   // Aún no tiene el dato obligatorio\\n        \"pago_contado\": null,\\n        \"cuota_max\": null,\\n        \"entrada\": null\\n      }},\\n      \"mensaje_validacion\": \"Entendido, usaremos el modo asesor financiero. Para poder calcular un presupuesto adecuado, ¿podrías indicarme cuales son tus ingresos netos anuales aproximados?\" // Pregunta por el primer dato faltante\\n    }}\\n    ```\\n\\n**Ejemplo 2: Usuario elige Modo 2 (Define Presupuesto), pero LLM necesita preguntar por submodo (contado/cuotas)**\\n* Contexto (Historial + Último mensaje): `[..., HumanMessage(content=\\'Mejor defino yo el presupuesto.\\')]`\\n* Salida JSON Esperada:\\n    ```json\\n    {{\\n      \"economia\": {{\\n        \"modo\": 2, // LLM identifica el modo\\n        \"submodo\": null, // Falta el submodo obligatorio\\n        \"ingresos\": null,\\n        \"ahorro\": null,\\n        \"pago_contado\": null,\\n        \"cuota_max\": null,\\n        \"entrada\": null\\n      }},\\n      \"mensaje_validacion\": \"De acuerdo, tú defines el presupuesto. ¿Tienes pensado pagar el coche al contado (opción 1) o prefieres financiarlo en cuotas mensuales (opción 2)?\" // Pregunta por el submodo\\n    }}\\n    ```\\n// Ejemplo 3:\\n{{\\n  \"economia\": {{\"modo\": 1, \"submodo\": null, \"ingresos\": 45000.0, \"ahorro\": 10000.0, \"pago_contado\": null, \"cuota_max\": null, \"entrada\": null}},\\n  \"mensaje_validacion\": \"\" // O un mensaje como \"Ok, usaré tus ingresos y ahorros.\"\\n}}\\n\\n\\n</Ejemplos>\\n\\n<Formato esperado>\\nGenera el JSON:\\n{{\\n  \"economia\": {{ ... }},\\n  \"mensaje_validacion\": \"...\"\\n}}', 'role': 'user'}, {'content': 'oye busco un coche para la ciudad', 'role': 'user'}, {'content': '¡Hola! Para ayudarte mejor, hablemos de aventura. ¿Con cuál de estas afirmaciones te identificas más?\\n 1) No pisas nada que no sea asfalto (ninguna)\\n 2) Salidas fuera de asfalto ocasionales (ocasional)\\n 3) Circular en condiciones duras con total garantía (extrema)', 'role': 'assistant'}, {'content': 'la 3', 'role': 'user'}, {'content': '¿Mides más de 1.90 m?', 'role': 'assistant'}, {'content': ' mido 1.90 y peso 80kg', 'role': 'user'}, {'content': 'Entendido: mides 1.90m y tu nivel de aventura es extrema. ¿Uso personal o profesional?', 'role': 'assistant'}, {'content': 'uso personal', 'role': 'user'}, {'content': 'Perfecto, ya tenemos tus preferencias principales. ¿Valoras la estética?', 'role': 'assistant'}, {'content': 'si', 'role': 'user'}, {'content': '¿Qué tipo de transmisión prefieres?\\n 1) Automático\\n 2) Manual\\n 3) Ambos', 'role': 'assistant'}, {'content': 'Manual', 'role': 'user'}, {'content': '¡Estupendo! Creo que ya tengo claras todas tus preferencias principales. ¿Vamos a ver qué características técnicas encajarían?', 'role': 'assistant'}, {'content': 'vale, continua...', 'role': 'user'}, {'content': '¿Quieres solo coches eléctricos?', 'role': 'assistant'}, {'content': 'si, solo electricos', 'role': 'user'}, {'content': '¿Eres un apasionado del motor?', 'role': 'assistant'}, {'content': 'si, lo soy', 'role': 'user'}, {'content': 'Con el fin de conocer tus preferencias financieras que opción (modo) prefieres: 1. Prefiero que me aconsejes con criterios de inteligencia financiera. 2. Prefiero indicar yo mismo cuánto y cómo gastar.', 'role': 'assistant'}, {'content': 'opcion 1', 'role': 'user'}, {'content': 'Entendido, usaremos el modo asesor financiero. Para poder calcular un presupuesto adecuado, ¿podrías indicarme cuales son tus ingresos netos anuales aproximados?', 'role': 'assistant'}, {'content': '35.000', 'role': 'user'}, {'content': 'Ok, datos de Modo 1 recibidos. ¿Cuál es tu ahorro actual?', 'role': 'assistant'}, {'content': '10000 ahorrados?', 'role': 'user'}, {'content': 'Ok, datos de Modo 1 recibidos. ¿Cuántos años planeas conservar el vehículo?', 'role': 'assistant'}, {'content': '5 años', 'role': 'user'}], 'model': 'gpt-4o-mini', 'response_format': {'type': 'json_schema', 'json_schema': {'schema': {'$defs': {'EconomiaUsuario': {'properties': {'modo': {'anyOf': [{'enum': [1, 2], 'type': 'integer'}, {'type': 'null'}], 'title': 'Modo'}, 'submodo': {'anyOf': [{'enum': [1, 2], 'type': 'integer'}, {'type': 'null'}], 'title': 'Submodo'}, 'ingresos': {'anyOf': [{'type': 'number'}, {'type': 'null'}], 'title': 'Ingresos'}, 'ahorro': {'anyOf': [{'type': 'number'}, {'type': 'null'}], 'title': 'Ahorro'}, 'pago_contado': {'anyOf': [{'type': 'number'}, {'type': 'null'}], 'title': 'Pago Contado'}, 'cuota_max': {'anyOf': [{'type': 'number'}, {'type': 'null'}], 'title': 'Cuota Max'}, 'entrada': {'anyOf': [{'type': 'number'}, {'type': 'null'}], 'title': 'Entrada'}, 'anos_posesion': {'anyOf': [{'type': 'integer'}, {'type': 'null'}], 'description': 'Número estimado de años que el usuario planea conservar el vehículo.', 'title': 'Anos Posesion'}}, 'title': 'EconomiaUsuario', 'type': 'object', 'additionalProperties': False, 'required': ['modo', 'submodo', 'ingresos', 'ahorro', 'pago_contado', 'cuota_max', 'entrada', 'anos_posesion']}}, 'properties': {'economia': {'description': 'Objeto que contiene TODA la información económica recopilada o actualizada.', 'properties': {'modo': {'anyOf': [{'enum': [1, 2], 'type': 'integer'}, {'type': 'null'}], 'title': 'Modo'}, 'submodo': {'anyOf': [{'enum': [1, 2], 'type': 'integer'}, {'type': 'null'}], 'title': 'Submodo'}, 'ingresos': {'anyOf': [{'type': 'number'}, {'type': 'null'}], 'title': 'Ingresos'}, 'ahorro': {'anyOf': [{'type': 'number'}, {'type': 'null'}], 'title': 'Ahorro'}, 'pago_contado': {'anyOf': [{'type': 'number'}, {'type': 'null'}], 'title': 'Pago Contado'}, 'cuota_max': {'anyOf': [{'type': 'number'}, {'type': 'null'}], 'title': 'Cuota Max'}, 'entrada': {'anyOf': [{'type': 'number'}, {'type': 'null'}], 'title': 'Entrada'}, 'anos_posesion': {'anyOf': [{'type': 'integer'}, {'type': 'null'}], 'description': 'Número estimado de años que el usuario planea conservar el vehículo.', 'title': 'Anos Posesion'}}, 'title': 'EconomiaUsuario', 'type': 'object', 'additionalProperties': False, 'required': ['modo', 'submodo', 'ingresos', 'ahorro', 'pago_contado', 'cuota_max', 'entrada', 'anos_posesion']}, 'mensaje_validacion': {'title': 'Mensaje Validacion', 'type': 'string'}}, 'required': ['economia', 'mensaje_validacion'], 'title': 'ResultadoEconomia', 'type': 'object', 'additionalProperties': False}, 'name': 'ResultadoEconomia', 'strict': True}}, 'stream': False, 'temperature': 0.2}}\n",
      "DEBUG:openai._base_client:Sending HTTP Request: POST https://api.openai.com/v1/chat/completions\n",
      "DEBUG:httpcore.connection:close.started\n",
      "DEBUG:httpcore.connection:close.complete\n",
      "DEBUG:httpcore.connection:connect_tcp.started host='api.openai.com' port=443 local_address=None timeout=None socket_options=None\n",
      "DEBUG:httpcore.connection:connect_tcp.complete return_value=<httpcore._backends.sync.SyncStream object at 0x14c2a9050>\n",
      "DEBUG:httpcore.connection:start_tls.started ssl_context=<ssl.SSLContext object at 0x13841f770> server_hostname='api.openai.com' timeout=None\n",
      "DEBUG:httpcore.connection:start_tls.complete return_value=<httpcore._backends.sync.SyncStream object at 0x14c24a610>\n",
      "DEBUG:httpcore.http11:send_request_headers.started request=<Request [b'POST']>\n",
      "DEBUG:httpcore.http11:send_request_headers.complete\n",
      "DEBUG:httpcore.http11:send_request_body.started request=<Request [b'POST']>\n",
      "DEBUG:httpcore.http11:send_request_body.complete\n",
      "DEBUG:httpcore.http11:receive_response_headers.started request=<Request [b'POST']>\n"
     ]
    },
    {
     "name": "stdout",
     "output_type": "stream",
     "text": [
      "DEBUG (Filtros) ► Respuesta llm_solo_filtros: filtros_inferidos=FiltrosInferidos(estetica_min=5.0, tipo_mecanica=[<TipoMecanica.BEV: 'BEV'>, <TipoMecanica.REEV: 'REEV'>], premium_min=5.0, singular_min=5.0, tipo_carroceria=['SUV', 'CROSSOVER'], modo_adquisicion_recomendado='Financiado', precio_max_contado_recomendado=None, cuota_max_calculada=500.0) mensaje_validacion='Ok, he definido los filtros técnicos basados en tus preferencias.'\n",
      "\n",
      "--- DEBUG DENTRO PostProc Filtros ---\n",
      "Recibido Prefs: altura_mayor_190='sí' peso_mayor_100='no' uso_profesional='no' valora_estetica='sí' solo_electricos='sí' transmision_preferida=<Transmision.MANUAL: 'manual'> apasionado_motor='sí' aventura=<NivelAventura.extrema: 'extrema'>\n",
      "Recibido Filtros (antes): estetica_min=5.0 tipo_mecanica=[<TipoMecanica.BEV: 'BEV'>, <TipoMecanica.REEV: 'REEV'>] premium_min=5.0 singular_min=5.0 tipo_carroceria=['SUV', 'CROSSOVER'] modo_adquisicion_recomendado='Financiado' precio_max_contado_recomendado=None cuota_max_calculada=500.0\n",
      "DEBUG PostProc Filtros: Valor de valora_estetica_val = 'sí' (Tipo: <class 'str'>)\n",
      "DEBUG PostProc Filtros: Resultado de is_yes(valora_estetica_val) = True\n",
      "DEBUG (PostProc Filtros) ► Aplicando regla: valora_estetica='sí' -> estetica_min=5.0\n",
      "DEBUG PostProc Filtros: Valor de apasionado_motor_val = 'sí' (Tipo: <class 'str'>)\n",
      "DEBUG PostProc Filtros: Resultado de is_yes(apasionado_motor_val) = True\n",
      "DEBUG (PostProc Filtros) ► Aplicando regla: apasionado_motor='sí' -> premium/singular_min=5.0\n",
      "DEBUG (PostProc Filtros) ► Filtros tras post-procesamiento: estetica_min=6.0 tipo_mecanica=[<TipoMecanica.BEV: 'BEV'>, <TipoMecanica.REEV: 'REEV'>] premium_min=6.0 singular_min=6.0 tipo_carroceria=['SUV', 'CROSSOVER'] modo_adquisicion_recomendado='Financiado' precio_max_contado_recomendado=None cuota_max_calculada=500.0\n",
      "DEBUG (Filtros) ► Filtros TRAS post-procesamiento: estetica_min=6.0 tipo_mecanica=[<TipoMecanica.BEV: 'BEV'>, <TipoMecanica.REEV: 'REEV'>] premium_min=6.0 singular_min=6.0 tipo_carroceria=['SUV', 'CROSSOVER'] modo_adquisicion_recomendado='Financiado' precio_max_contado_recomendado=None cuota_max_calculada=500.0\n",
      "DEBUG (Filtros) ► Estado filtros_inferidos actualizado: estetica_min=6.0 tipo_mecanica=[<TipoMecanica.BEV: 'BEV'>, <TipoMecanica.REEV: 'REEV'>] premium_min=6.0 singular_min=6.0 tipo_carroceria=['SUV', 'CROSSOVER'] modo_adquisicion_recomendado='Financiado' precio_max_contado_recomendado=None cuota_max_calculada=500.0\n",
      "DEBUG (Filtros) ► Guardando pregunta pendiente: Ok, he definido los filtros técnicos basados en tus preferencias.\n",
      "--- Ejecutando Nodo: validar_filtros_node ---\n",
      "DEBUG (Validation Filtros) ► Todos los campos obligatorios de filtros ('tipo_mecanica') están presentes y válidos.\n",
      "DEBUG (Filtros) ► Validación: FiltrosInferidos considerados COMPLETOS.\n",
      "--- Evaluando Condición: ruta_decision_filtros ---\n",
      "DEBUG (Validation Filtros) ► Todos los campos obligatorios de filtros ('tipo_mecanica') están presentes y válidos.\n",
      "DEBUG (Condición Filtros) ► Filtros COMPLETOS. Avanzando a economía.\n",
      "--- Ejecutando Nodo: recopilar_economia_node ---\n",
      "DEBUG (Economía) ► Llamando a llm_economia...\n"
     ]
    },
    {
     "name": "stderr",
     "output_type": "stream",
     "text": [
      "DEBUG:httpcore.http11:receive_response_headers.complete return_value=(b'HTTP/1.1', 200, b'OK', [(b'Date', b'Sun, 04 May 2025 14:05:02 GMT'), (b'Content-Type', b'application/json'), (b'Transfer-Encoding', b'chunked'), (b'Connection', b'keep-alive'), (b'access-control-expose-headers', b'X-Request-ID'), (b'openai-organization', b'user-ic25pcewdjuowsz9q2ektvrn'), (b'openai-processing-ms', b'1454'), (b'openai-version', b'2020-10-01'), (b'x-ratelimit-limit-requests', b'10000'), (b'x-ratelimit-limit-tokens', b'200000'), (b'x-ratelimit-remaining-requests', b'9995'), (b'x-ratelimit-remaining-tokens', b'197812'), (b'x-ratelimit-reset-requests', b'41.21s'), (b'x-ratelimit-reset-tokens', b'656ms'), (b'x-request-id', b'req_e430c569ae31b717f679ce395c3bfbcf'), (b'strict-transport-security', b'max-age=31536000; includeSubDomains; preload'), (b'cf-cache-status', b'DYNAMIC'), (b'X-Content-Type-Options', b'nosniff'), (b'Server', b'cloudflare'), (b'CF-RAY', b'93a88ced7a502fb7-MAD'), (b'Content-Encoding', b'gzip'), (b'alt-svc', b'h3=\":443\"; ma=86400')])\n",
      "INFO:httpx:HTTP Request: POST https://api.openai.com/v1/chat/completions \"HTTP/1.1 200 OK\"\n",
      "DEBUG:httpcore.http11:receive_response_body.started request=<Request [b'POST']>\n",
      "DEBUG:httpcore.http11:receive_response_body.complete\n",
      "DEBUG:httpcore.http11:response_closed.started\n",
      "DEBUG:httpcore.http11:response_closed.complete\n",
      "DEBUG:openai._base_client:HTTP Response: POST https://api.openai.com/v1/chat/completions \"200 OK\" Headers({'date': 'Sun, 04 May 2025 14:05:02 GMT', 'content-type': 'application/json', 'transfer-encoding': 'chunked', 'connection': 'keep-alive', 'access-control-expose-headers': 'X-Request-ID', 'openai-organization': 'user-ic25pcewdjuowsz9q2ektvrn', 'openai-processing-ms': '1454', 'openai-version': '2020-10-01', 'x-ratelimit-limit-requests': '10000', 'x-ratelimit-limit-tokens': '200000', 'x-ratelimit-remaining-requests': '9995', 'x-ratelimit-remaining-tokens': '197812', 'x-ratelimit-reset-requests': '41.21s', 'x-ratelimit-reset-tokens': '656ms', 'x-request-id': 'req_e430c569ae31b717f679ce395c3bfbcf', 'strict-transport-security': 'max-age=31536000; includeSubDomains; preload', 'cf-cache-status': 'DYNAMIC', 'x-content-type-options': 'nosniff', 'server': 'cloudflare', 'cf-ray': '93a88ced7a502fb7-MAD', 'content-encoding': 'gzip', 'alt-svc': 'h3=\":443\"; ma=86400'})\n",
      "DEBUG:openai._base_client:request_id: req_e430c569ae31b717f679ce395c3bfbcf\n",
      "DEBUG:httpx:load_ssl_context verify=True cert=None trust_env=True http2=False\n",
      "DEBUG:httpx:load_verify_locations cafile='/Users/andresrsalamanca/Documents/GitHub/MVP_CARMENTOR/car_env/lib/python3.11/site-packages/certifi/cacert.pem'\n",
      "DEBUG:httpx:load_ssl_context verify=True cert=None trust_env=True http2=False\n",
      "DEBUG:httpx:load_verify_locations cafile='/Users/andresrsalamanca/Documents/GitHub/MVP_CARMENTOR/car_env/lib/python3.11/site-packages/certifi/cacert.pem'\n",
      "DEBUG:urllib3.connectionpool:Starting new HTTPS connection (1): openaipublic.blob.core.windows.net:443\n"
     ]
    },
    {
     "name": "stdout",
     "output_type": "stream",
     "text": [
      "DEBUG (Economía) ► Respuesta llm_economia: economia=EconomiaUsuario(modo=1, submodo=None, ingresos=35000.0, ahorro=10000.0, pago_contado=None, cuota_max=None, entrada=None, anos_posesion=5) mensaje_validacion='Ok, datos de Modo 1 recibidos.'\n",
      "DEBUG (Economía) ► Estado economía actualizado: modo=1 submodo=None ingresos=35000.0 ahorro=10000.0 pago_contado=None cuota_max=None entrada=None anos_posesion=5\n",
      "DEBUG (Economía) ► Guardando pregunta pendiente: Ok, datos de Modo 1 recibidos.\n",
      "--- Ejecutando Nodo: validar_economia_node ---\n",
      "--- DEBUG CHECK ECONOMIA (Manual) ---\n",
      "Input econ object: modo=1 submodo=None ingresos=35000.0 ahorro=10000.0 pago_contado=None cuota_max=None entrada=None anos_posesion=5\n",
      "DEBUG (Validation Economía Manual) ► Modo 1 completo (ingresos,ahorro y años_posesion presentes).\n",
      "DEBUG (Economía) ► Validación: Economía considerada COMPLETA.\n",
      "--- Evaluando Condición: ruta_decision_economia ---\n",
      "--- DEBUG CHECK ECONOMIA (Manual) ---\n",
      "Input econ object: modo=1 submodo=None ingresos=35000.0 ahorro=10000.0 pago_contado=None cuota_max=None entrada=None anos_posesion=5\n",
      "DEBUG (Validation Economía Manual) ► Modo 1 completo (ingresos,ahorro y años_posesion presentes).\n",
      "DEBUG (Condición Economía) ► Economía COMPLETA. Avanzando a finalizar.\n",
      "--- Ejecutando Nodo: finalizar_y_presentar_node ---\n",
      "DEBUG (Finalizar) ► Verificando si aplica lógica Modo 1...\n",
      "DEBUG (Finalizar) ► Modo 1 detectado. Calculando recomendación...\n",
      "DEBUG (Finalizar) ► Filtros actualizados con recomendación Modo 1: estetica_min=6.0 tipo_mecanica=[<TipoMecanica.BEV: 'BEV'>, <TipoMecanica.REEV: 'REEV'>] premium_min=6.0 singular_min=6.0 tipo_carroceria=['SUV', 'CROSSOVER'] modo_adquisicion_recomendado='Financiado' precio_max_contado_recomendado=None cuota_max_calculada=291.6666666666667\n"
     ]
    },
    {
     "name": "stderr",
     "output_type": "stream",
     "text": [
      "DEBUG:urllib3.connectionpool:https://openaipublic.blob.core.windows.net:443 \"GET /encodings/cl100k_base.tiktoken HTTP/1.1\" 200 1681126\n",
      "DEBUG:openai._base_client:Request options: {'method': 'post', 'url': '/embeddings', 'files': None, 'post_parser': <function Embeddings.create.<locals>.parser at 0x11fa84360>, 'json_data': {'input': [[8867, 28534, 6340, 25, 29631, 258, 2649, 95437, 3429, 658, 96488, 409, 16888, 1149, 25318, 13, 18944, 12826, 70096, 2649, 264, 5275, 67111, 17251, 437, 67581, 5670, 3429, 658, 2109, 37043, 78810, 5770, 297, 958, 9225, 5770, 13, 28783, 25, 1183, 74368, 11, 1515, 80278, 11, 94381, 300, 11, 72009, 822, 11, 47257, 71623, 4042], [32010, 2599, 1831, 3578, 25, 650, 2701, 67111, 390, 1028, 971, 38831, 1995, 302, 321, 11, 67581, 2172, 3429, 75396, 404, 453, 85208, 48647, 64195, 37116, 5203, 54413, 28338, 10126, 379, 409, 67009, 665, 1048, 28043, 78758, 11323, 92355, 13, 28783, 25, 18274, 822, 11, 2807, 5770, 11, 40457, 11, 4669, 21297, 23100, 437], [50, 23042, 25, 650, 2701, 67111, 409, 84908, 22514, 78, 379, 5553, 1995, 1678, 1744, 68225, 276, 93554, 409, 5275, 67111, 11791, 26464, 55983, 390, 1208, 470, 347, 5969, 379, 18190, 25131, 409, 2537, 5113, 1832, 85, 3742, 5804, 967, 83523, 13, 28783, 25, 34701, 9730, 11, 91806, 5808, 11, 27673, 11, 4669, 21297, 4143, 437, 11, 66584, 23201, 822], [58376, 7767, 946, 8253, 39874, 25, 650, 2701, 67111, 67581, 5670, 3429, 18434, 79021, 37015, 297, 4669, 21297, 4143, 437, 11, 26458, 5670, 390, 90706, 11, 13081, 14871, 379, 45112, 409, 6697, 598, 78, 13, 14123, 3916, 3429, 13535, 17434, 379, 91806, 5808, 13, 28783, 25, 13535, 17434, 11, 91806, 5808, 11, 4669, 19571, 379, 30209, 404, 11, 33873], [8445, 52, 1777, 25, 20319, 1832, 85, 3742, 409, 8924, 18757, 53530, 390, 84908, 28338, 6632, 11, 18190, 15844, 379, 34548, 347, 258, 36334, 17038, 13, 3331, 12826, 70096, 5670, 390, 4902, 300, 23095, 12712, 379, 1826, 89029, 28338, 10126, 13, 28783, 25, 3927, 11, 75886, 11, 70383, 11, 76069, 22776, 28338, 10126], [37, 1539, 38, 715, 21352, 25, 650, 2701, 67111, 23201, 3614, 33272, 5670, 95437, 3429, 96488, 409, 16888, 1149, 25318, 297, 32525, 13, 328, 4088, 268, 64195, 261, 16109, 83392, 409, 76136, 379, 5553, 266, 321, 5969, 13, 28783, 25, 76007, 25626, 11, 39318, 11, 96488, 11, 4669, 21297, 52047, 417], [22053, 40057, 13108, 965, 25, 20319, 1832, 85, 3742, 33632, 511, 5670, 665, 31127, 11403, 658, 66584, 15135, 11, 2679, 3916, 3429, 44526, 3557, 4247, 924, 470, 347, 5969, 11, 1097, 2344, 664, 379, 48071, 5840, 19303, 409, 439, 33060, 13, 28783, 25, 11537, 11, 4669, 21297, 11, 68356, 11, 470, 347, 5969, 11, 42916, 66584], [47, 10915, 3202, 25, 650, 2701, 67111, 33329, 73258, 4247, 924, 272, 19580, 34264, 2473, 671, 17465, 64, 67581, 2649, 3429, 7710, 277, 62762, 300, 38546, 297, 18541, 11354, 13, 386, 4168, 33272, 5670, 665, 1167, 56401, 436, 324, 3916, 297, 3429, 39974, 437, 67965, 3916, 13, 28783, 25, 27673, 11, 91806, 5808, 11, 39318, 19624, 11, 76136, 18541, 2649], [51, 2114, 1831, 643, 793, 9173, 25, 24959, 5771, 5670, 79020, 52777, 3429, 75396, 404, 70775, 409, 1841, 265, 51137, 11, 390, 93554, 8112, 490, 67147, 26154, 11, 9482, 729, 3739, 312, 2000, 89, 2649, 379, 76509, 5808, 22884, 6960, 264, 2024, 1466, 437, 79965, 3742, 13, 28783, 25, 70775, 409, 1841, 265, 51137, 11, 2024, 1466, 437, 79965, 3742, 11, 20605, 42361, 11, 27673, 297, 1167, 56401, 436, 324, 3916, 11, 28338, 288, 453, 85208, 48647, 11]], 'model': 'text-embedding-ada-002', 'encoding_format': 'base64'}}\n",
      "DEBUG:openai._base_client:Sending HTTP Request: POST https://api.openai.com/v1/embeddings\n",
      "DEBUG:httpcore.connection:connect_tcp.started host='api.openai.com' port=443 local_address=None timeout=None socket_options=None\n",
      "DEBUG:httpcore.connection:connect_tcp.complete return_value=<httpcore._backends.sync.SyncStream object at 0x14c2c8250>\n",
      "DEBUG:httpcore.connection:start_tls.started ssl_context=<ssl.SSLContext object at 0x14c2980e0> server_hostname='api.openai.com' timeout=None\n",
      "DEBUG:httpcore.connection:start_tls.complete return_value=<httpcore._backends.sync.SyncStream object at 0x14c2344d0>\n",
      "DEBUG:httpcore.http11:send_request_headers.started request=<Request [b'POST']>\n",
      "DEBUG:httpcore.http11:send_request_headers.complete\n",
      "DEBUG:httpcore.http11:send_request_body.started request=<Request [b'POST']>\n",
      "DEBUG:httpcore.http11:send_request_body.complete\n",
      "DEBUG:httpcore.http11:receive_response_headers.started request=<Request [b'POST']>\n",
      "DEBUG:httpcore.http11:receive_response_headers.complete return_value=(b'HTTP/1.1', 200, b'OK', [(b'Date', b'Sun, 04 May 2025 14:05:05 GMT'), (b'Content-Type', b'application/json'), (b'Transfer-Encoding', b'chunked'), (b'Connection', b'keep-alive'), (b'access-control-allow-origin', b'*'), (b'access-control-expose-headers', b'X-Request-ID'), (b'openai-model', b'text-embedding-ada-002-v2'), (b'openai-organization', b'user-ic25pcewdjuowsz9q2ektvrn'), (b'openai-processing-ms', b'307'), (b'openai-version', b'2020-10-01'), (b'strict-transport-security', b'max-age=31536000; includeSubDomains; preload'), (b'via', b'envoy-router-5747c46f85-s72xw'), (b'x-envoy-upstream-service-time', b'131'), (b'x-ratelimit-limit-requests', b'3000'), (b'x-ratelimit-limit-tokens', b'1000000'), (b'x-ratelimit-remaining-requests', b'2999'), (b'x-ratelimit-remaining-tokens', b'999473'), (b'x-ratelimit-reset-requests', b'20ms'), (b'x-ratelimit-reset-tokens', b'31ms'), (b'x-request-id', b'req_127078f72d52f4c4589479117642156e'), (b'cf-cache-status', b'DYNAMIC'), (b'Set-Cookie', b'__cf_bm=jllQCgHYoyLQf7s8yfJfvWTv9YpApda.N0UY4fnLSxk-1746367505-1.0.1.1-hSZDPriyxZZ1AYkdnlbF0XjZ1ucRj2bQdGEXENlKadH2PbNZPy.r6TNGFD81ifidtdWIQWW5ICxTrJHOtZOLi.X.Y0pr4GWQ84infUG7G04; path=/; expires=Sun, 04-May-25 14:35:05 GMT; domain=.api.openai.com; HttpOnly; Secure; SameSite=None'), (b'X-Content-Type-Options', b'nosniff'), (b'Set-Cookie', b'_cfuvid=3D7wcEE2CVAqccbs5ym2ldqviYgnFr3ecjU6y970rwE-1746367505264-0.0.1.1-604800000; path=/; domain=.api.openai.com; HttpOnly; Secure; SameSite=None'), (b'Server', b'cloudflare'), (b'CF-RAY', b'93a88d045eff667d-MAD'), (b'Content-Encoding', b'gzip'), (b'alt-svc', b'h3=\":443\"; ma=86400')])\n",
      "INFO:httpx:HTTP Request: POST https://api.openai.com/v1/embeddings \"HTTP/1.1 200 OK\"\n",
      "DEBUG:httpcore.http11:receive_response_body.started request=<Request [b'POST']>\n",
      "DEBUG:httpcore.http11:receive_response_body.complete\n",
      "DEBUG:httpcore.http11:response_closed.started\n",
      "DEBUG:httpcore.http11:response_closed.complete\n",
      "DEBUG:openai._base_client:HTTP Response: POST https://api.openai.com/v1/embeddings \"200 OK\" Headers([('date', 'Sun, 04 May 2025 14:05:05 GMT'), ('content-type', 'application/json'), ('transfer-encoding', 'chunked'), ('connection', 'keep-alive'), ('access-control-allow-origin', '*'), ('access-control-expose-headers', 'X-Request-ID'), ('openai-model', 'text-embedding-ada-002-v2'), ('openai-organization', 'user-ic25pcewdjuowsz9q2ektvrn'), ('openai-processing-ms', '307'), ('openai-version', '2020-10-01'), ('strict-transport-security', 'max-age=31536000; includeSubDomains; preload'), ('via', 'envoy-router-5747c46f85-s72xw'), ('x-envoy-upstream-service-time', '131'), ('x-ratelimit-limit-requests', '3000'), ('x-ratelimit-limit-tokens', '1000000'), ('x-ratelimit-remaining-requests', '2999'), ('x-ratelimit-remaining-tokens', '999473'), ('x-ratelimit-reset-requests', '20ms'), ('x-ratelimit-reset-tokens', '31ms'), ('x-request-id', 'req_127078f72d52f4c4589479117642156e'), ('cf-cache-status', 'DYNAMIC'), ('set-cookie', '__cf_bm=jllQCgHYoyLQf7s8yfJfvWTv9YpApda.N0UY4fnLSxk-1746367505-1.0.1.1-hSZDPriyxZZ1AYkdnlbF0XjZ1ucRj2bQdGEXENlKadH2PbNZPy.r6TNGFD81ifidtdWIQWW5ICxTrJHOtZOLi.X.Y0pr4GWQ84infUG7G04; path=/; expires=Sun, 04-May-25 14:35:05 GMT; domain=.api.openai.com; HttpOnly; Secure; SameSite=None'), ('x-content-type-options', 'nosniff'), ('set-cookie', '_cfuvid=3D7wcEE2CVAqccbs5ym2ldqviYgnFr3ecjU6y970rwE-1746367505264-0.0.1.1-604800000; path=/; domain=.api.openai.com; HttpOnly; Secure; SameSite=None'), ('server', 'cloudflare'), ('cf-ray', '93a88d045eff667d-MAD'), ('content-encoding', 'gzip'), ('alt-svc', 'h3=\":443\"; ma=86400')])\n",
      "DEBUG:openai._base_client:request_id: req_127078f72d52f4c4589479117642156e\n",
      "DEBUG:faiss.loader:Environment variable FAISS_OPT_LEVEL is not set, so let's pick the instruction set according to the current CPU\n",
      "INFO:faiss.loader:Loading faiss.\n",
      "INFO:faiss.loader:Successfully loaded faiss.\n",
      "INFO:faiss:Failed to load GPU Faiss: name 'GpuIndexIVFFlat' is not defined. Will not load constructor refs for GPU indexes.\n",
      "DEBUG:openai._base_client:Request options: {'method': 'post', 'url': '/embeddings', 'files': None, 'post_parser': <function Embeddings.create.<locals>.parser at 0x14d4de520>, 'json_data': {'input': [[301, 978, 302, 56347, 84908, 91806, 5808, 1327, 90818, 1022, 66815, 2024, 1466, 437, 79965, 3742, 1327, 90818, 490, 67147, 220, 19, 87, 19]], 'model': 'text-embedding-ada-002', 'encoding_format': 'base64'}}\n",
      "DEBUG:openai._base_client:Sending HTTP Request: POST https://api.openai.com/v1/embeddings\n",
      "DEBUG:httpcore.http11:send_request_headers.started request=<Request [b'POST']>\n",
      "DEBUG:httpcore.http11:send_request_headers.complete\n",
      "DEBUG:httpcore.http11:send_request_body.started request=<Request [b'POST']>\n",
      "DEBUG:httpcore.http11:send_request_body.complete\n",
      "DEBUG:httpcore.http11:receive_response_headers.started request=<Request [b'POST']>\n"
     ]
    },
    {
     "name": "stdout",
     "output_type": "stream",
     "text": [
      "Query partes: ['eléctrico', 'diseño', 'aventura extrema', 'off-road', 'terrenos difíciles', 'extrema', 'tracción 4x4']\n"
     ]
    },
    {
     "name": "stderr",
     "output_type": "stream",
     "text": [
      "DEBUG:httpcore.http11:receive_response_headers.complete return_value=(b'HTTP/1.1', 200, b'OK', [(b'Date', b'Sun, 04 May 2025 14:05:06 GMT'), (b'Content-Type', b'application/json'), (b'Transfer-Encoding', b'chunked'), (b'Connection', b'keep-alive'), (b'access-control-allow-origin', b'*'), (b'access-control-expose-headers', b'X-Request-ID'), (b'openai-model', b'text-embedding-ada-002-v2'), (b'openai-organization', b'user-ic25pcewdjuowsz9q2ektvrn'), (b'openai-processing-ms', b'155'), (b'openai-version', b'2020-10-01'), (b'strict-transport-security', b'max-age=31536000; includeSubDomains; preload'), (b'via', b'envoy-router-964f95c58-gf4bv'), (b'x-envoy-upstream-service-time', b'105'), (b'x-ratelimit-limit-requests', b'3000'), (b'x-ratelimit-limit-tokens', b'1000000'), (b'x-ratelimit-remaining-requests', b'2999'), (b'x-ratelimit-remaining-tokens', b'999976'), (b'x-ratelimit-reset-requests', b'20ms'), (b'x-ratelimit-reset-tokens', b'1ms'), (b'x-request-id', b'req_d0f3682d44bb846b67e3f3b94ff93940'), (b'cf-cache-status', b'DYNAMIC'), (b'X-Content-Type-Options', b'nosniff'), (b'Server', b'cloudflare'), (b'CF-RAY', b'93a88d107b4b667d-MAD'), (b'Content-Encoding', b'gzip'), (b'alt-svc', b'h3=\":443\"; ma=86400')])\n",
      "INFO:httpx:HTTP Request: POST https://api.openai.com/v1/embeddings \"HTTP/1.1 200 OK\"\n",
      "DEBUG:httpcore.http11:receive_response_body.started request=<Request [b'POST']>\n",
      "DEBUG:httpcore.http11:receive_response_body.complete\n",
      "DEBUG:httpcore.http11:response_closed.started\n",
      "DEBUG:httpcore.http11:response_closed.complete\n",
      "DEBUG:openai._base_client:HTTP Response: POST https://api.openai.com/v1/embeddings \"200 OK\" Headers({'date': 'Sun, 04 May 2025 14:05:06 GMT', 'content-type': 'application/json', 'transfer-encoding': 'chunked', 'connection': 'keep-alive', 'access-control-allow-origin': '*', 'access-control-expose-headers': 'X-Request-ID', 'openai-model': 'text-embedding-ada-002-v2', 'openai-organization': 'user-ic25pcewdjuowsz9q2ektvrn', 'openai-processing-ms': '155', 'openai-version': '2020-10-01', 'strict-transport-security': 'max-age=31536000; includeSubDomains; preload', 'via': 'envoy-router-964f95c58-gf4bv', 'x-envoy-upstream-service-time': '105', 'x-ratelimit-limit-requests': '3000', 'x-ratelimit-limit-tokens': '1000000', 'x-ratelimit-remaining-requests': '2999', 'x-ratelimit-remaining-tokens': '999976', 'x-ratelimit-reset-requests': '20ms', 'x-ratelimit-reset-tokens': '1ms', 'x-request-id': 'req_d0f3682d44bb846b67e3f3b94ff93940', 'cf-cache-status': 'DYNAMIC', 'x-content-type-options': 'nosniff', 'server': 'cloudflare', 'cf-ray': '93a88d107b4b667d-MAD', 'content-encoding': 'gzip', 'alt-svc': 'h3=\":443\"; ma=86400'})\n",
      "DEBUG:openai._base_client:request_id: req_d0f3682d44bb846b67e3f3b94ff93940\n",
      "DEBUG:google.auth._default:Checking /Users/andresrsalamanca/.config/gcloud/application_default_credentials.json for explicit credentials as part of auth process...\n",
      "DEBUG:google.auth._default:Explicit credentials path /Users/andresrsalamanca/.config/gcloud/application_default_credentials.json is the same as Cloud SDK credentials path, fall back to Cloud SDK credentials flow...\n",
      "DEBUG:google.auth._default:Checking Cloud SDK credentials as part of auth process...\n"
     ]
    },
    {
     "name": "stdout",
     "output_type": "stream",
     "text": [
      "DEBUG (Finalizar) ► RAG recomendó: ['TODOTERRENO', 'SUV', 'DESCAPOTABLE']\n",
      "DEBUG (Finalizar) ► Calculando pesos...\n",
      "DEBUG (Weights) ► Pesos crudos iniciales (est/prem/sing): {'estetica': 6.0, 'premium': 6.0, 'singular': 6.0}\n",
      "DEBUG (Weights) ► Pesos crudos tras añadir aventura: {'estetica': 6.0, 'premium': 6.0, 'singular': 6.0, 'altura_libre_suelo': 8.0, 'traccion': 10.0, 'reductoras': 8.0}\n",
      "DEBUG (Weights) ► Usuario alto. Asignando pesos altos a batalla/índice.\n",
      "DEBUG (Weights) ► Pesos Crudos FINALES: {'estetica': 6.0, 'premium': 6.0, 'singular': 6.0, 'altura_libre_suelo': 8.0, 'traccion': 10.0, 'reductoras': 8.0, 'batalla': 6.0, 'indice_altura_interior': 5.0}\n",
      "DEBUG (Normalize Weights) ► Pesos Normalizados: {'estetica': 0.10909090909090909, 'premium': 0.10909090909090909, 'singular': 0.10909090909090909, 'altura_libre_suelo': 0.14545454545454545, 'traccion': 0.18181818181818182, 'reductoras': 0.14545454545454545, 'batalla': 0.10909090909090909, 'indice_altura_interior': 0.09090909090909091}\n",
      "DEBUG (Finalizar) ► Pesos calculados: {'estetica': 0.10909090909090909, 'premium': 0.10909090909090909, 'singular': 0.10909090909090909, 'altura_libre_suelo': 0.14545454545454545, 'traccion': 0.18181818181818182, 'reductoras': 0.14545454545454545, 'batalla': 0.10909090909090909, 'indice_altura_interior': 0.09090909090909091}\n",
      "DEBUG (Finalizar) ► Formateando tabla final...\n",
      "--- Ejecutando Nodo: buscar_coches_finales_node ---\n",
      "DEBUG (Buscar BQ) ► Llamando a buscar_coches_bq con k=5\n"
     ]
    },
    {
     "name": "stderr",
     "output_type": "stream",
     "text": [
      "DEBUG:google.auth._default:Checking /Users/andresrsalamanca/.config/gcloud/application_default_credentials.json for explicit credentials as part of auth process...\n",
      "DEBUG:google.auth._default:Explicit credentials path /Users/andresrsalamanca/.config/gcloud/application_default_credentials.json is the same as Cloud SDK credentials path, fall back to Cloud SDK credentials flow...\n",
      "DEBUG:google.auth._default:Checking Cloud SDK credentials as part of auth process...\n",
      "DEBUG:root:🔎 BigQuery SQL:\n",
      "\n",
      "    SELECT\n",
      "      -- Columnas que quieres devolver ...\n",
      "      nombre, ID, marca, modelo, cambio_automatico, tipo_mecanica, \n",
      "      tipo_carroceria, indice_altura_interior, batalla, estetica, premium, \n",
      "      singular, altura_libre_suelo, traccion, reductoras, precio_compra_contado,\n",
      "      \n",
      "      -- --- INICIO CÁLCULO SCORE CON MIN-MAX SCALING ---\n",
      "      (\n",
      "        -- Estética (Rango Asumido: 1-10)\n",
      "        COALESCE(SAFE_DIVIDE(COALESCE(estetica, 1.0) - 1.0, 10.0 - 1.0), 0) * @peso_estetica \n",
      "        \n",
      "        -- Premium (Rango Asumido: 1-10)\n",
      "        + COALESCE(SAFE_DIVIDE(COALESCE(premium, 1.0) - 1.0, 10.0 - 1.0), 0) * @peso_premium\n",
      "        \n",
      "        -- Singular (Rango Asumido: 1-10)\n",
      "        + COALESCE(SAFE_DIVIDE(COALESCE(singular, 1.0) - 1.0, 10.0 - 1.0), 0) * @peso_singular\n",
      "        \n",
      "        -- Altura Libre Suelo (Ej: 67.0 - 438.0) <-- ¡USA TUS VALORES!\n",
      "        + COALESCE(SAFE_DIVIDE(COALESCE(altura_libre_suelo, 67.0) - 67.0, 438.0 - 67.0), 0) * @peso_altura\n",
      "        \n",
      "        -- Batalla (Ej: 1650.0 -4078) <-- ¡USA TUS VALORES!\n",
      "        + COALESCE(SAFE_DIVIDE(COALESCE(batalla, 1650.0) - 1650.0, 4078.0 - 1650.0), 0) * @peso_batalla \n",
      "        \n",
      "        -- Índice Altura Interior (Ej: 0.9 - 2.7) <-- ¡PENDIENTE CAMBIAR ESTE VALOR,VALIDAR TEO!\n",
      "        + COALESCE(SAFE_DIVIDE(COALESCE(indice_altura_interior, 0.9) - 0.9, 2.7 - 0.9), 0) * @peso_indice_altura\n",
      "        \n",
      "        -- Tracción (Mapeo 0-1, se mantiene igual)\n",
      "        + CASE WHEN traccion = 'ALL' THEN 1.0 WHEN traccion = 'RWD' THEN 0.5 ELSE 0.0 END * @peso_traccion\n",
      "        \n",
      "        -- Reductoras (Mapeo 0-1, se mantiene igual)\n",
      "        + (CASE WHEN COALESCE(reductoras, FALSE) THEN 1.0 ELSE 0.0 END) * @peso_reductoras\n",
      "        \n",
      "      ) AS score_total\n",
      "      -- --- FIN CÁLCULO SCORE ---\n",
      "      \n",
      "    FROM `thecarmentor-mvp2.web_cars.match_coches_pruebas` -- Reemplaza con tu tabla\n",
      "    WHERE 1=1 \n",
      "    \n",
      "      AND COALESCE(estetica, 0) >= @estetica_min\n",
      "      AND COALESCE(premium, 0) >= @premium_min\n",
      "      AND COALESCE(singular, 0) >= @singular_min\n",
      "      AND tipo_mecanica IN UNNEST(@tipos_mecanica)\n",
      "      AND tipo_carroceria IN UNNEST(@tipos_carroceria)\n",
      "      AND COALESCE(precio_compra_contado, 0) * 1.35 / 96.0 <= @cuota_maxima\n",
      "    ORDER BY score_total DESC, precio_compra_contado ASC\n",
      "    LIMIT @k\n",
      "DEBUG:root:🔎 BigQuery params: [('peso_estetica', 0.10909090909090909), ('peso_premium', 0.10909090909090909), ('peso_singular', 0.10909090909090909), ('peso_altura', 0.14545454545454545), ('peso_batalla', 0.10909090909090909), ('peso_indice_altura', 0.09090909090909091), ('peso_traccion', 0.18181818181818182), ('peso_reductoras', 0.14545454545454545), ('estetica_min', 6.0), ('premium_min', 6.0), ('singular_min', 6.0), ('tipos_mecanica', ['BEV', 'REEV']), ('tipos_carroceria', ['TODOTERRENO', 'SUV', 'DESCAPOTABLE']), ('cuota_maxima', 291.6666666666667), ('k', 5)]\n",
      "DEBUG:urllib3.util.retry:Converted retries value: 3 -> Retry(total=3, connect=None, read=None, redirect=None, status=None)\n",
      "DEBUG:google.auth.transport.requests:Making request: POST https://oauth2.googleapis.com/token\n",
      "DEBUG:urllib3.connectionpool:Starting new HTTPS connection (1): oauth2.googleapis.com:443\n",
      "DEBUG:urllib3.connectionpool:https://oauth2.googleapis.com:443 \"POST /token HTTP/1.1\" 200 None\n"
     ]
    },
    {
     "name": "stdout",
     "output_type": "stream",
     "text": [
      "DEBUG (BQ Search) ► Aplicando Filtro Económico Condicional...\n",
      "DEBUG (BQ Search) ► Detectado Modo 1 Rec. Financiado. Límite Cuota: 291.6666666666667\n",
      "DEBUG (BQ Search) ► Añadiendo SQL: Cuota Estimada <= 291.6666666666667\n",
      "--- 🧠 SQL Query ---\n",
      " \n",
      "    SELECT\n",
      "      -- Columnas que quieres devolver ...\n",
      "      nombre, ID, marca, modelo, cambio_automatico, tipo_mecanica, \n",
      "      tipo_carroceria, indice_altura_interior, batalla, estetica, premium, \n",
      "      singular, altura_libre_suelo, traccion, reductoras, precio_compra_contado,\n",
      "      \n",
      "      -- --- INICIO CÁLCULO SCORE CON MIN-MAX SCALING ---\n",
      "      (\n",
      "        -- Estética (Rango Asumido: 1-10)\n",
      "        COALESCE(SAFE_DIVIDE(COALESCE(estetica, 1.0) - 1.0, 10.0 - 1.0), 0) * @peso_estetica \n",
      "        \n",
      "        -- Premium (Rango Asumido: 1-10)\n",
      "        + COALESCE(SAFE_DIVIDE(COALESCE(premium, 1.0) - 1.0, 10.0 - 1.0), 0) * @peso_premium\n",
      "        \n",
      "        -- Singular (Rango Asumido: 1-10)\n",
      "        + COALESCE(SAFE_DIVIDE(COALESCE(singular, 1.0) - 1.0, 10.0 - 1.0), 0) * @peso_singular\n",
      "        \n",
      "        -- Altura Libre Suelo (Ej: 67.0 - 438.0) <-- ¡USA TUS VALORES!\n",
      "        + COALESCE(SAFE_DIVIDE(COALESCE(altura_libre_suelo, 67.0) - 67.0, 438.0 - 67.0), 0) * @peso_altura\n",
      "        \n",
      "        -- Batalla (Ej: 1650.0 -4078) <-- ¡USA TUS VALORES!\n",
      "        + COALESCE(SAFE_DIVIDE(COALESCE(batalla, 1650.0) - 1650.0, 4078.0 - 1650.0), 0) * @peso_batalla \n",
      "        \n",
      "        -- Índice Altura Interior (Ej: 0.9 - 2.7) <-- ¡PENDIENTE CAMBIAR ESTE VALOR,VALIDAR TEO!\n",
      "        + COALESCE(SAFE_DIVIDE(COALESCE(indice_altura_interior, 0.9) - 0.9, 2.7 - 0.9), 0) * @peso_indice_altura\n",
      "        \n",
      "        -- Tracción (Mapeo 0-1, se mantiene igual)\n",
      "        + CASE WHEN traccion = 'ALL' THEN 1.0 WHEN traccion = 'RWD' THEN 0.5 ELSE 0.0 END * @peso_traccion\n",
      "        \n",
      "        -- Reductoras (Mapeo 0-1, se mantiene igual)\n",
      "        + (CASE WHEN COALESCE(reductoras, FALSE) THEN 1.0 ELSE 0.0 END) * @peso_reductoras\n",
      "        \n",
      "      ) AS score_total\n",
      "      -- --- FIN CÁLCULO SCORE ---\n",
      "      \n",
      "    FROM `thecarmentor-mvp2.web_cars.match_coches_pruebas` -- Reemplaza con tu tabla\n",
      "    WHERE 1=1 \n",
      "    \n",
      "      AND COALESCE(estetica, 0) >= @estetica_min\n",
      "      AND COALESCE(premium, 0) >= @premium_min\n",
      "      AND COALESCE(singular, 0) >= @singular_min\n",
      "      AND tipo_mecanica IN UNNEST(@tipos_mecanica)\n",
      "      AND tipo_carroceria IN UNNEST(@tipos_carroceria)\n",
      "      AND COALESCE(precio_compra_contado, 0) * 1.35 / 96.0 <= @cuota_maxima\n",
      "    ORDER BY score_total DESC, precio_compra_contado ASC\n",
      "    LIMIT @k\n",
      "\n",
      "--- 📦 Parameters ---\n",
      " [('peso_estetica', 0.10909090909090909), ('peso_premium', 0.10909090909090909), ('peso_singular', 0.10909090909090909), ('peso_altura', 0.14545454545454545), ('peso_batalla', 0.10909090909090909), ('peso_indice_altura', 0.09090909090909091), ('peso_traccion', 0.18181818181818182), ('peso_reductoras', 0.14545454545454545), ('estetica_min', 6.0), ('premium_min', 6.0), ('singular_min', 6.0), ('tipos_mecanica', ['BEV', 'REEV']), ('tipos_carroceria', ['TODOTERRENO', 'SUV', 'DESCAPOTABLE']), ('cuota_maxima', 291.6666666666667), ('k', 5)]\n"
     ]
    },
    {
     "name": "stderr",
     "output_type": "stream",
     "text": [
      "DEBUG:urllib3.connectionpool:Starting new HTTPS connection (1): bigquery.googleapis.com:443\n",
      "DEBUG:urllib3.connectionpool:https://bigquery.googleapis.com:443 \"POST /bigquery/v2/projects/thecarmentor-mvp2/jobs?prettyPrint=false HTTP/1.1\" 200 None\n",
      "DEBUG:urllib3.connectionpool:https://bigquery.googleapis.com:443 \"GET /bigquery/v2/projects/thecarmentor-mvp2/queries/045c135f-e97e-4c31-8aa7-4f85993471af?maxResults=0&location=EU&prettyPrint=false HTTP/1.1\" 200 None\n",
      "INFO:root:✅ BigQuery query ejecutada, 0 resultados obtenidos.\n"
     ]
    },
    {
     "name": "stdout",
     "output_type": "stream",
     "text": [
      "==================================\u001b[1m Ai Message \u001b[0m==================================\n",
      "\n",
      "He aplicado todos tus filtros, pero no encontré coches que coincidan exactamente en este momento. ¿Quizás quieras ajustar algún criterio?\n"
     ]
    }
   ],
   "source": [
    "# Create a thread\n",
    "config = {\"configurable\": {\"thread_id\": \"1\"}}\n",
    "\n",
    "# Start conversation\n",
    "input_message = HumanMessage(content=\"5 años\")\n",
    "output = graph.invoke({\"messages\": [input_message]}, config) \n",
    "for m in output['messages'][-1:]:\n",
    "    m.pretty_print()"
   ]
  },
  {
   "cell_type": "code",
   "execution_count": 15,
   "metadata": {},
   "outputs": [
    {
     "name": "stdout",
     "output_type": "stream",
     "text": [
      "altura_mayor_190='sí' peso_mayor_100='no' uso_profesional='no' valora_estetica='sí' solo_electricos='sí' transmision_preferida=<Transmision.MANUAL: 'manual'> apasionado_motor='sí' aventura=<NivelAventura.extrema: 'extrema'>\n",
      "-----------------------\n",
      "estetica_min=6.0 tipo_mecanica=[<TipoMecanica.BEV: 'BEV'>, <TipoMecanica.REEV: 'REEV'>] premium_min=6.0 singular_min=6.0 tipo_carroceria=['TODOTERRENO', 'SUV', 'DESCAPOTABLE'] modo_adquisicion_recomendado='Financiado' precio_max_contado_recomendado=None cuota_max_calculada=291.6666666666667\n",
      "-----------------------\n",
      "modo=1 submodo=None ingresos=35000.0 ahorro=10000.0 pago_contado=None cuota_max=None entrada=None anos_posesion=5\n",
      "-----------------------\n",
      "{'estetica': 0.10909090909090909, 'premium': 0.10909090909090909, 'singular': 0.10909090909090909, 'altura_libre_suelo': 0.14545454545454545, 'traccion': 0.18181818181818182, 'reductoras': 0.14545454545454545, 'batalla': 0.10909090909090909, 'indice_altura_interior': 0.09090909090909091}\n",
      "dict_keys(['messages', 'preferencias_usuario', 'filtros_inferidos', 'economia', 'pesos', 'pregunta_pendiente', 'coches_recomendados'])\n"
     ]
    }
   ],
   "source": [
    "print(output['preferencias_usuario'])\n",
    "print('-----------------------')\n",
    "print(output['filtros_inferidos'])\n",
    "print('-----------------------')\n",
    "print(output['economia'])\n",
    "print('-----------------------')\n",
    "print(output['pesos'])\n",
    "print(output.keys())"
   ]
  },
  {
   "cell_type": "code",
   "execution_count": null,
   "metadata": {},
   "outputs": [],
   "source": [
    "# Create a thread\n",
    "config = {\"configurable\": {\"thread_id\": \"1\"}}\n",
    "\n",
    "# Start conversation\n",
    "input_message = HumanMessage(content=\"que informacin falta?\")\n",
    "output = graph.invoke({\"messages\": [input_message]}, config) \n",
    "for m in output['messages'][-1:]:\n",
    "    m.pretty_print()"
   ]
  },
  {
   "cell_type": "code",
   "execution_count": null,
   "metadata": {},
   "outputs": [],
   "source": []
  },
  {
   "cell_type": "code",
   "execution_count": null,
   "metadata": {},
   "outputs": [],
   "source": [
    "config = {\"configurable\": {\"thread_id\": \"1\"}}\n",
    "\n",
    "# Start conversation\n",
    "input_message = HumanMessage(content=\"8\")\n",
    "output = graph.invoke({\"messages\": [input_message]}, config) \n",
    "for m in output['messages'][-1:]:\n",
    "    m.pretty_print()"
   ]
  },
  {
   "cell_type": "code",
   "execution_count": null,
   "metadata": {},
   "outputs": [],
   "source": [
    "print(output['preferencias_usuario'])\n",
    "print('-----------------------')\n",
    "print(output['filtros_inferidos'])\n",
    "print('-----------------------')\n",
    "print(output['economia'])\n",
    "print('-----------------------')\n",
    "print(output['pesos'])"
   ]
  },
  {
   "cell_type": "code",
   "execution_count": null,
   "metadata": {},
   "outputs": [],
   "source": [
    "print(output['preferencias_usuario'])\n",
    "print('-----------------------')"
   ]
  },
  {
   "cell_type": "code",
   "execution_count": null,
   "metadata": {},
   "outputs": [],
   "source": [
    "print(output.keys())"
   ]
  },
  {
   "cell_type": "code",
   "execution_count": null,
   "metadata": {},
   "outputs": [],
   "source": [
    "state = graph.get_state(config).values\n",
    "print(state[\"mensaje_validacion\"])\n"
   ]
  },
  {
   "cell_type": "markdown",
   "metadata": {},
   "source": [
    "## Prueba 2"
   ]
  },
  {
   "cell_type": "code",
   "execution_count": null,
   "metadata": {},
   "outputs": [],
   "source": [
    "# Create a thread\n",
    "config = {\"configurable\": {\"thread_id\": \"2\"}}\n",
    "\n",
    "# Start conversation\n",
    "input_message = HumanMessage(content=\"Quiero un coche mido 1.93. Peso 80 kg\")\n",
    "output = graph.invoke({\"messages\": [input_message]}, config) \n",
    "for m in output['messages'][-1:]:\n",
    "    m.pretty_print()"
   ]
  },
  {
   "cell_type": "code",
   "execution_count": null,
   "metadata": {},
   "outputs": [],
   "source": [
    "print(output['preferencias_usuario'])\n",
    "print('---------------------------------------------------------------------')\n",
    "print(output['filtros_inferidos'])\n"
   ]
  },
  {
   "cell_type": "code",
   "execution_count": null,
   "metadata": {},
   "outputs": [],
   "source": [
    "# Create a thread\n",
    "config = {\"configurable\": {\"thread_id\": \"2\"}}\n",
    "\n",
    "# Start conversation\n",
    "input_message = HumanMessage(content=\"para uso personal\")\n",
    "output = graph.invoke({\"messages\": [input_message]}, config) \n",
    "for m in output['messages'][-1:]:\n",
    "    m.pretty_print()"
   ]
  },
  {
   "cell_type": "code",
   "execution_count": null,
   "metadata": {},
   "outputs": [],
   "source": [
    "print(output['preferencias_usuario'])\n",
    "print('---------------------------------------------------------------------')\n",
    "print(output['filtros_inferidos']) #"
   ]
  },
  {
   "cell_type": "code",
   "execution_count": null,
   "metadata": {},
   "outputs": [],
   "source": [
    "# Create a thread\n",
    "config = {\"configurable\": {\"thread_id\": \"2\"}}\n",
    "\n",
    "# Start conversation\n",
    "input_message = HumanMessage(content=\"si valoro la estetica y quiero solo electricos\")\n",
    "output = graph.invoke({\"messages\": [input_message]}, config) \n",
    "for m in output['messages'][-1:]:\n",
    "    m.pretty_print()"
   ]
  },
  {
   "cell_type": "code",
   "execution_count": null,
   "metadata": {},
   "outputs": [],
   "source": [
    "print(output['preferencias_usuario'])\n",
    "print('---------------------------------------------------------------------')\n",
    "# print(output['filtros_inferidos']) \n",
    "# print('---------------------------------------------------------------------')\n",
    "# #print(output['pesos'])"
   ]
  },
  {
   "cell_type": "code",
   "execution_count": null,
   "metadata": {},
   "outputs": [],
   "source": [
    "# Create a thread\n",
    "config = {\"configurable\": {\"thread_id\": \"2\"}}\n",
    "\n",
    "# Start conversation\n",
    "input_message = HumanMessage(content=\"con la numero 3\")\n",
    "output = graph.invoke({\"messages\": [input_message]}, config) \n",
    "for m in output['messages'][-1:]:\n",
    "    m.pretty_print()"
   ]
  },
  {
   "cell_type": "code",
   "execution_count": null,
   "metadata": {},
   "outputs": [],
   "source": [
    "# Create a thread\n",
    "config = {\"configurable\": {\"thread_id\": \"2\"}}\n",
    "\n",
    "# Start conversation\n",
    "input_message = HumanMessage(content=\"si , lo soy\")\n",
    "output = graph.invoke({\"messages\": [input_message]}, config) \n",
    "for m in output['messages'][-1:]:\n",
    "    m.pretty_print()"
   ]
  },
  {
   "cell_type": "code",
   "execution_count": null,
   "metadata": {},
   "outputs": [],
   "source": [
    "\n",
    "print(output['preferencias_usuario'])\n",
    "print('---------------------------------------------------------------------')\n",
    "print(output['filtros_inferidos']) \n",
    "print('---------------------------------------------------------------------')\n",
    "print(output['economia'])"
   ]
  },
  {
   "cell_type": "code",
   "execution_count": null,
   "metadata": {},
   "outputs": [],
   "source": [
    "# Create a thread\n",
    "config = {\"configurable\": {\"thread_id\": \"2\"}}\n",
    "\n",
    "# Start conversation\n",
    "input_message = HumanMessage(content=\"la 1\")\n",
    "output = graph.invoke({\"messages\": [input_message]}, config) \n",
    "for m in output['messages'][-1:]:\n",
    "    m.pretty_print()"
   ]
  },
  {
   "cell_type": "code",
   "execution_count": null,
   "metadata": {},
   "outputs": [],
   "source": [
    "print(output['preferencias_usuario'])\n",
    "print('---------------------------------------------------------------------')\n",
    "print(output['filtros_inferidos']) "
   ]
  },
  {
   "cell_type": "code",
   "execution_count": null,
   "metadata": {},
   "outputs": [],
   "source": [
    "config = {\"configurable\": {\"thread_id\": \"2\"}}\n",
    "input_message = HumanMessage(content=\"20000\")\n",
    "output = graph.invoke({\"messages\": [input_message]}, config) \n",
    "for m in output['messages'][-1:]:\n",
    "    m.pretty_print()"
   ]
  },
  {
   "cell_type": "code",
   "execution_count": null,
   "metadata": {},
   "outputs": [],
   "source": [
    "config = {\"configurable\": {\"thread_id\": \"2\"}}\n",
    "input_message = HumanMessage(content=\"como 20000 ahorrados en el banco\")\n",
    "output = graph.invoke({\"messages\": [input_message]}, config) \n",
    "for m in output['messages'][-1:]:\n",
    "    m.pretty_print()"
   ]
  },
  {
   "cell_type": "code",
   "execution_count": null,
   "metadata": {},
   "outputs": [],
   "source": [
    "config = {\"configurable\": {\"thread_id\": \"2\"}}\n",
    "input_message = HumanMessage(content=\"maximo 5 años\")\n",
    "output = graph.invoke({\"messages\": [input_message]}, config) \n",
    "for m in output['messages'][-1:]:\n",
    "    m.pretty_print()"
   ]
  },
  {
   "cell_type": "code",
   "execution_count": null,
   "metadata": {},
   "outputs": [],
   "source": [
    "print(output['preferencias_usuario'])\n",
    "print('---------------------------------------------------------------------')\n",
    "print(output['filtros_inferidos'])\n",
    "print('---------------------------------------------------------------------')\n",
    "print(output['economia'])"
   ]
  },
  {
   "cell_type": "code",
   "execution_count": null,
   "metadata": {},
   "outputs": [],
   "source": [
    "print(output.keys())"
   ]
  },
  {
   "cell_type": "code",
   "execution_count": null,
   "metadata": {},
   "outputs": [],
   "source": [
    "print(output['pesos'])"
   ]
  },
  {
   "cell_type": "code",
   "execution_count": null,
   "metadata": {},
   "outputs": [],
   "source": [
    "state = graph.get_state(config).values\n",
    "for m in state['messages']:\n",
    "    m.pretty_print()\n",
    "    \n",
    "    "
   ]
  },
  {
   "cell_type": "markdown",
   "metadata": {},
   "source": [
    "revisar las reglas de altura "
   ]
  },
  {
   "cell_type": "markdown",
   "metadata": {},
   "source": [
    "## Prueba 3"
   ]
  },
  {
   "cell_type": "code",
   "execution_count": null,
   "metadata": {},
   "outputs": [],
   "source": [
    "# Create a thread\n",
    "config = {\"configurable\": {\"thread_id\": \"3\"}}\n",
    "\n",
    "# Start conversation\n",
    "input_message = HumanMessage(content=\"hola, dime quien eres?\")\n",
    "output = graph.invoke({\"messages\": [input_message]}, config) \n",
    "for m in output['messages'][-1:]:\n",
    "    m.pretty_print()\n"
   ]
  },
  {
   "cell_type": "code",
   "execution_count": null,
   "metadata": {},
   "outputs": [],
   "source": [
    "print(output['preferencias_usuario'])\n",
    "print('---------------------------------------------------------------------')\n",
    "print(output['filtros_inferidos'])\n"
   ]
  },
  {
   "cell_type": "code",
   "execution_count": null,
   "metadata": {},
   "outputs": [],
   "source": [
    "# Create a thread\n",
    "config = {\"configurable\": {\"thread_id\": \"3\"}}\n",
    "\n",
    "# Start conversation\n",
    "input_message = HumanMessage(content=\"tienes motos?\")\n",
    "output = graph.invoke({\"messages\": [input_message]}, config) \n",
    "for m in output['messages'][-1:]:\n",
    "    m.pretty_print()\n"
   ]
  },
  {
   "cell_type": "code",
   "execution_count": null,
   "metadata": {},
   "outputs": [],
   "source": [
    "print(output['preferencias_usuario'])\n",
    "print('---------------------------------------------------------------------')\n",
    "print(output['filtros_inferidos'])"
   ]
  },
  {
   "cell_type": "code",
   "execution_count": null,
   "metadata": {},
   "outputs": [],
   "source": [
    "# Consultar todo el estado acumulado\n",
    "state = graph.get_state(config).values\n",
    "for m in state[\"messages\"]:\n",
    "    m.pretty_print()"
   ]
  },
  {
   "cell_type": "markdown",
   "metadata": {},
   "source": [
    "## Prueba 4"
   ]
  },
  {
   "cell_type": "code",
   "execution_count": null,
   "metadata": {},
   "outputs": [],
   "source": [
    "# Create a thread\n",
    "config = {\"configurable\": {\"thread_id\": \"4\"}}\n",
    "\n",
    "# Start conversation\n",
    "input_message = HumanMessage(content=\"Quiero un coche elegante que usaré para trabajar todos los días. Me gustan los diseños llamativos. Mido 1.94\")\n",
    "output = graph.invoke({\"messages\": [input_message]}, config) \n",
    "for m in output['messages'][-1:]:\n",
    "    m.pretty_print()"
   ]
  },
  {
   "cell_type": "code",
   "execution_count": null,
   "metadata": {},
   "outputs": [],
   "source": [
    "print(output['preferencias_usuario'])\n",
    "print('---------------------------------------------------------------------')\n",
    "print(output['filtros_inferidos'])\n"
   ]
  },
  {
   "cell_type": "code",
   "execution_count": null,
   "metadata": {},
   "outputs": [],
   "source": [
    "# Create a thread\n",
    "config = {\"configurable\": {\"thread_id\": \"4\"}}\n",
    "\n",
    "# Start conversation\n",
    "input_message = HumanMessage(content=\"si electrico estaria perfecto\")\n",
    "output = graph.invoke({\"messages\": [input_message]}, config) \n",
    "for m in output['messages'][-1:]:\n",
    "    m.pretty_print()"
   ]
  },
  {
   "cell_type": "code",
   "execution_count": null,
   "metadata": {},
   "outputs": [],
   "source": [
    "print(output['preferencias_usuario'])\n",
    "print('---------------------------------------------------------------------')\n",
    "print(output['filtros_inferidos'])"
   ]
  },
  {
   "cell_type": "code",
   "execution_count": null,
   "metadata": {},
   "outputs": [],
   "source": [
    "# Create a thread\n",
    "config = {\"configurable\": {\"thread_id\": \"4\"}}\n",
    "\n",
    "# Start conversation\n",
    "input_message = HumanMessage(content=\"automatico y peso menos de 100kg\")\n",
    "output = graph.invoke({\"messages\": [input_message]}, config) \n",
    "for m in output['messages'][-1:]:\n",
    "    m.pretty_print()"
   ]
  },
  {
   "cell_type": "code",
   "execution_count": null,
   "metadata": {},
   "outputs": [],
   "source": [
    "print(output['preferencias_usuario'])\n",
    "print('---------------------------------------------------------------------')\n",
    "print(output['filtros_inferidos'])"
   ]
  },
  {
   "cell_type": "code",
   "execution_count": null,
   "metadata": {},
   "outputs": [],
   "source": [
    "# Create a thread\n",
    "config = {\"configurable\": {\"thread_id\": \"4\"}}\n",
    "\n",
    "# Start conversation\n",
    "input_message = HumanMessage(content=\"si me apasionan los coches\")\n",
    "output = graph.invoke({\"messages\": [input_message]}, config) \n",
    "for m in output['messages'][-1:]:\n",
    "    m.pretty_print()"
   ]
  },
  {
   "cell_type": "code",
   "execution_count": null,
   "metadata": {},
   "outputs": [],
   "source": [
    "print(output['preferencias_usuario'])\n",
    "print('---------------------------------------------------------------------')\n",
    "print(output['filtros_inferidos'])"
   ]
  },
  {
   "cell_type": "code",
   "execution_count": null,
   "metadata": {},
   "outputs": [],
   "source": [
    "# Create a thread\n",
    "config = {\"configurable\": {\"thread_id\": \"4\"}}\n",
    "\n",
    "# Start conversation\n",
    "input_message = HumanMessage(content=\"si\")\n",
    "output = graph.invoke({\"messages\": [input_message]}, config) \n",
    "for m in output['messages'][-1:]:\n",
    "    m.pretty_print()"
   ]
  },
  {
   "cell_type": "markdown",
   "metadata": {},
   "source": [
    "# Prueba 5"
   ]
  },
  {
   "cell_type": "code",
   "execution_count": null,
   "metadata": {},
   "outputs": [],
   "source": [
    "# Create a thread\n",
    "config = {\"configurable\": {\"thread_id\": \"5\"}}\n",
    "\n",
    "# Start conversation\n",
    "input_message = HumanMessage(content=\"Dime quien eres\")\n",
    "output = graph.invoke({\"messages\": [input_message]}, config) \n",
    "for m in output['messages'][-1:]:\n",
    "    m.pretty_print()"
   ]
  },
  {
   "cell_type": "code",
   "execution_count": null,
   "metadata": {},
   "outputs": [],
   "source": [
    "# Create a thread\n",
    "config = {\"configurable\": {\"thread_id\": \"5\"}}\n",
    "\n",
    "# Start conversation\n",
    "input_message = HumanMessage(content=\"tienes motos para recomendarme?\")\n",
    "output = graph.invoke({\"messages\": [input_message]}, config) \n",
    "for m in output['messages'][-1:]:\n",
    "    m.pretty_print()"
   ]
  },
  {
   "cell_type": "code",
   "execution_count": null,
   "metadata": {},
   "outputs": [],
   "source": [
    "state = graph.get_state(config).values\n",
    "for m in state[\"messages\"]:\n",
    "    m.pretty_print()"
   ]
  },
  {
   "cell_type": "markdown",
   "metadata": {},
   "source": [
    "## Objetivo\n",
    "Crear un nuevo nodo en LangGraph llamado analizar_perfil_usuario que:\n",
    "\n",
    "Reciba el mensaje del usuario.\n",
    "\n",
    "Llame a un LLM con un SystemMessage especializado.\n",
    "\n",
    "Devuelva un dict con tres secciones:\n",
    "\n",
    "\"perfil_usuario\" → altura, peso, uso, gustos, etc.\n",
    "\n",
    "\"filtros_inferidos\" → potencia_min, plazas_min, etc.\n",
    "\n",
    "\"mensaje_validacion\"\n",
    "\n",
    "Este resultado lo guardaremos en el state para luego usarlo al llamar buscar_producto_bd()."
   ]
  },
  {
   "cell_type": "code",
   "execution_count": null,
   "metadata": {},
   "outputs": [],
   "source": []
  },
  {
   "cell_type": "code",
   "execution_count": null,
   "metadata": {},
   "outputs": [],
   "source": [
    "\n",
    "# Configurar el cliente de BigQuery\n",
    "client = bigquery.Client(project=\"thecarmentor-mvp2\")\n",
    "\n",
    "@tool\n",
    "def buscar_producto_bd(consulta: str, filtros: dict = None):\n",
    "    \"\"\"\n",
    "    Busca productos en la base de datos utilizando una consulta semántica en BigQuery.\n",
    "    Tu objetivo es proporcionar respuestas precisas para ayudar en la búsqueda en el inventario de coches disponibles.\n",
    "    \n",
    "    Args:\n",
    "        consulta (str): Consulta de texto para buscar productos similares.\n",
    "    \n",
    "    Returns:\n",
    "        list[dict]: Resultados formateados como una lista de diccionarios con detalles de los productos más relevantes.\n",
    "    \"\"\"\n",
    "    \n",
    "    if not consulta.strip():\n",
    "        raise ValueError(\"La consulta no puede estar vacía.\")\n",
    "\n",
    "    # Normalizar la consulta para que coincida con el formato de los embeddings.\n",
    "    consulta_normalizada = normalize_text_sql(consulta)\n",
    "    logging.debug(f\"Consulta normalizada: {consulta_normalizada}\")\n",
    "    \n",
    "    try:\n",
    "        base_query = \"\"\"\n",
    "        WITH resultados_vector AS (\n",
    "            SELECT \n",
    "                base.content AS nombre_coche,\n",
    "                base.mecanica,\n",
    "                base.price,\n",
    "                base.KM,\n",
    "                base.year,\n",
    "                base.image_url,\n",
    "                search_result.distance\n",
    "            FROM VECTOR_SEARCH(\n",
    "                TABLE `web_cars.coches_embeddingsV1`,\n",
    "                'ml_generate_embedding_result',\n",
    "                (SELECT * FROM ML.GENERATE_EMBEDDING(\n",
    "                    MODEL `thecarmentor-mvp2.mymodel.modelembedding`,\n",
    "                    (SELECT @consulta AS content),\n",
    "                    STRUCT(TRUE AS flatten_json_output, 'SEMANTIC_SIMILARITY' AS task_type, 768 AS output_dimensionality)\n",
    "                )),\n",
    "                'ml_generate_embedding_result',\n",
    "                top_k => 6\n",
    "            ) AS search_result\n",
    "        )\n",
    "        SELECT * FROM resultados_vector\n",
    "        WHERE 1=1\n",
    "        \"\"\"\n",
    "        \n",
    "        # Inicializar lista de condiciones y parámetros\n",
    "        query_conditions = []\n",
    "        # Usamos la consulta normalizada para la generación del embedding\n",
    "        query_parameters = [bigquery.ScalarQueryParameter(\"consulta\", \"STRING\", consulta_normalizada)]\n",
    "        \n",
    "        # Agregar condiciones dinámicamente según los filtros proporcionados\n",
    "        if filtros:\n",
    "            if 'precio_max' in filtros:\n",
    "                query_conditions.append(\"price <= @precio_max\")\n",
    "                query_parameters.append(bigquery.ScalarQueryParameter(\"precio_max\", \"INT64\", filtros[\"precio_max\"]))\n",
    "            if 'precio_min' in filtros:\n",
    "                query_conditions.append(\"price >= @precio_min\")\n",
    "                query_parameters.append(bigquery.ScalarQueryParameter(\"precio_min\", \"INT64\", filtros[\"precio_min\"]))\n",
    "            if 'year_min' in filtros:\n",
    "                query_conditions.append(\"year >= @year_min\")\n",
    "                query_parameters.append(bigquery.ScalarQueryParameter(\"year_min\", \"INT64\", filtros[\"year_min\"]))\n",
    "            if 'km_max' in filtros:\n",
    "                query_conditions.append(\"KM <= @km_max\")\n",
    "                query_parameters.append(bigquery.ScalarQueryParameter(\"km_max\", \"INT64\", filtros[\"km_max\"]))\n",
    "\n",
    "        # Si hay filtros, agregarlos a la consulta\n",
    "        # if query_conditions:\n",
    "        #     base_query += \" AND \" + \" AND \".join(query_conditions)\n",
    "        if query_conditions:\n",
    "            base_query += \" \" + \" AND \".join(query_conditions)\n",
    "\n",
    "\n",
    "        logging.debug(f\"Consulta SQL generada: {base_query}\")\n",
    "        logging.debug(f\"Parámetros de consulta: {query_parameters}\")\n",
    "\n",
    "        # Ejecutar la consulta\n",
    "        query_job = client.query(\n",
    "            base_query, \n",
    "            job_config=bigquery.QueryJobConfig(query_parameters=query_parameters)\n",
    "        )\n",
    "        results = query_job.result().to_dataframe()\n",
    "        # Ordenar los resultados por similitud\n",
    "        if not results.empty:\n",
    "            results = results.sort_values(by=\"distance\", ascending=True)\n",
    "\n",
    "        if results.empty:\n",
    "            return [{\"error\": \"No se encontraron resultados para la consulta y los filtros aplicados.\"}]\n",
    "            \n",
    "        formatted_results = [\n",
    "            {\n",
    "                \"nombre_coche\": row[\"nombre_coche\"],\n",
    "                \"mecanica\": row[\"mecanica\"],\n",
    "                \"precio\": row[\"price\"],\n",
    "                \"kilometros\": row[\"KM\"],\n",
    "                \"año\": row[\"year\"],\n",
    "                \"imagen\": row[\"image_url\"],\n",
    "                \"similitud\": round(row[\"distance\"], 2)\n",
    "            }\n",
    "            for _, row in results.iterrows()\n",
    "        ]\n",
    "        return formatted_results\n",
    "\n",
    "    except Exception as e:\n",
    "        logging.error(f\"Error al ejecutar la consulta: {e}\", exc_info=True)\n",
    "        return [{\"error\": \"No se pudieron encontrar resultados.\"}]\n",
    "\n",
    "# Definir herramientas\n",
    "# tools = [buscar_producto_bd]\n",
    "\n",
    "\n",
    "\n",
    "# Actualizar lista de herramientas\n",
    "tools = [buscar_producto_bd]\n",
    "llm_with_tools = llm.bind_tools(tools, parallel_tool_calls=True)\n"
   ]
  },
  {
   "cell_type": "code",
   "execution_count": null,
   "metadata": {},
   "outputs": [],
   "source": [
    "\n",
    "sys_msg = SystemMessage(content=\"\"\"Eres Mentor, un util y experto en la busqueda de coches.\n",
    "INSTRUCCIONES IMPORTANTES:\n",
    "**Antes de hacer una búsqueda en la base de datos, analiza la consulta y extrae solo la información clave.**  \n",
    "   - Si el usuario menciona un coche, filtra la consulta para obtener solo **la marca, modelo, versión, tipo de motorización y año**.\n",
    "   - **No incluyas frases completas del usuario como búsqueda.**  \n",
    "   - **No pases palabras como \"quiero\", \"busco\", \"auto\", \"coche\", \"modelo\", \"año\" si no son parte del nombre oficial del coche.**\n",
    "   - **Ejemplo:**  \n",
    "     - Entrada: `\"quiero coche bmw serie 1 120d hibrido año 2024\"`  \n",
    "     - **Consulta que debes generar:** `\"bmw serie 1 120d hibrido 2024\"`\n",
    "\n",
    "**Definiendo Preferencias**\n",
    "   - Para dar recomendaciones acertadas, puedes pedir al usuario que proporcione detalles sobre lo que busca:\n",
    "     • ¿Tienes una **marca** preferida?\n",
    "     • ¿Cuál es tu **presupuesto máximo**? (Opcional)\n",
    "     • ¿Te importa el **kilometraje máximo**? (Opcional)\n",
    "     • ¿Qué **años de antigüedad** son aceptables? (Opcional)\n",
    "\n",
    "**Presentación de Resultados**\n",
    "    - Aplica los filtros pero muestra también alguna alternativa fuera de los filtros si es muy relevante\n",
    "    Usa este formato para cada coche encontrado: \n",
    "    ### [Modelo]\n",
    "    ![Imagen del vehículo]([url_imagen])\n",
    "     - **Precio:** [precio]€\n",
    "     - **Kilómetros:** [km] km\n",
    "     - **Mecánica:** [tipo]\n",
    "     - **Año:** [year]\n",
    "     - **Similitud con tu búsqueda:** [score]\n",
    " \n",
    "** Ajustes**\n",
    "   - Si no encuentras lo que buscas, dime si quieres:\n",
    "   - Aumentar el **presupuesto** para ver modelos más recientes.\n",
    "   - Ampliar el **kilometraje permitido** para más opciones.\n",
    "   - Incluir **otros años** para expandir la búsqueda.\n",
    "   \n",
    "**Información Adicional**\n",
    "   -usa la herramienta `buscar_info_adicional` para obtener información actualizada sobre un modelo específico de coche.\n",
    "   - **Ejemplo:** `buscar_info_adicional(\"que caracteristicas tiene el BMW 320d 2019\")`\n",
    "\"\"\")\n",
    "# - También puedo **comparar dos coches** si tienes modelos específicos en mente.\n",
    "def assistant(state: MessagesState):\n",
    "    \"\"\"\n",
    "    Función principal del asistente invocando una búsqueda.\n",
    "    \"\"\"\n",
    "    return {\"messages\": [llm_with_tools.invoke([sys_msg] + state[\"messages\"])]}\n",
    "\n",
    "\n",
    "#    user_input = state[\"messages\"][-1].content  # Último mensaje del usuario\n",
    "# if detect_comparison_intent(user_input):\n",
    "#         car1, car2 = extract_car_models_llm(user_input)\n",
    "#         if car1 and car2:\n",
    "#             car1_data, car2_data = obtener_datos_comparacion(car1, car2)\n",
    "#             return {\"messages\": [comparar_coches_llm(car1_data, car2_data)]}\n",
    "#         else:\n",
    "#             return {\"messages\": [\"No pude identificar claramente los coches a comparar. ¿Podrías mencionarlos nuevamente?\"]}\n"
   ]
  },
  {
   "cell_type": "code",
   "execution_count": null,
   "metadata": {},
   "outputs": [],
   "source": [
    "memory = MemorySaver()\n",
    "\n",
    "# Graph\n",
    "graph = StateGraph(MessagesState)\n",
    "\n",
    "# Define nodes: these do the work\n",
    "graph.add_node(\"assistant\", assistant)\n",
    "graph.add_node(\"tools\", ToolNode(tools))\n",
    "\n",
    "# Define edges: these determine how the control flow moves\n",
    "graph.add_edge(START, \"assistant\")\n",
    "graph.add_conditional_edges(\n",
    "    \"assistant\",\n",
    "    lambda state: logging.debug(f\"tools_condition evalúa: {tools_condition(state)}\") or tools_condition(state)\n",
    ")\n",
    "    # If the latest message (result) from assistant is a tool call -> tools_condition routes to tools\n",
    "    # If the latest message (result) from assistant is a not a tool call -> tools_condition routes to END\n",
    "#     tools_condition,\n",
    "# )\n",
    "graph.add_edge(\"tools\", \"assistant\")\n",
    "graph = graph.compile(checkpointer=memory)\n",
    "# Show\n",
    "display(Image(graph.get_graph(xray=True).draw_mermaid_png()))"
   ]
  },
  {
   "cell_type": "code",
   "execution_count": null,
   "metadata": {},
   "outputs": [],
   "source": [
    "# Start conversation, again\n",
    "config = {\"configurable\": {\"thread_id\": \"1\"}}\n",
    "\n",
    "# Specify an input\n",
    "input_message = HumanMessage(content=\"quiero coche bmw serie 1 120d hibrido año 2024\")\n",
    "output = graph.invoke({\"messages\": input_message}, config)\n",
    "\n",
    "# Mostrar los mensajes resultantes del primer paso\n",
    "for m in output[\"messages\"]:\n",
    "    m.pretty_print()"
   ]
  },
  {
   "cell_type": "code",
   "execution_count": null,
   "metadata": {},
   "outputs": [],
   "source": [
    "# Start conversation, again\n",
    "config = {\"configurable\": {\"thread_id\": \"1\"}}\n",
    "\n",
    "# Specify an input\n",
    "input_message = HumanMessage(content=\"kilometraje 50.000 y presupuesto no importa, muestrame todas las opciones\")\n",
    "output = graph.invoke({\"messages\": input_message}, config)\n",
    "\n",
    "# Mostrar los mensajes resultantes del primer paso\n",
    "for m in output[\"messages\"]:\n",
    "    m.pretty_print()"
   ]
  },
  {
   "cell_type": "code",
   "execution_count": null,
   "metadata": {},
   "outputs": [],
   "source": [
    "# Start conversation, again\n",
    "config = {\"configurable\": {\"thread_id\": \"1\"}}\n",
    "\n",
    "# Specify an input\n",
    "input_message = HumanMessage(content=\"podrias darme las caracteristicas del bmw serie 1 118i 2024 diesel\")\n",
    "output = graph.invoke({\"messages\": input_message}, config)\n",
    "\n",
    "# Mostrar los mensajes resultantes del primer paso\n",
    "for m in output[\"messages\"]:\n",
    "    m.pretty_print()"
   ]
  },
  {
   "cell_type": "code",
   "execution_count": null,
   "metadata": {},
   "outputs": [],
   "source": [
    "# Start conversation, again\n",
    "config = {\"configurable\": {\"thread_id\": \"1\"}}\n",
    "\n",
    "# Specify an input\n",
    "input_message = HumanMessage(content=\"si, dame las caracteristicas del El 118i a gasolina\")\n",
    "output = graph.invoke({\"messages\": input_message}, config)\n",
    "\n",
    "# Mostrar los mensajes resultantes del primer paso\n",
    "for m in output[\"messages\"]:\n",
    "    m.pretty_print()"
   ]
  },
  {
   "cell_type": "code",
   "execution_count": null,
   "metadata": {},
   "outputs": [],
   "source": [
    "# Start conversation, again\n",
    "config = {\"configurable\": {\"thread_id\": \"2\"}}\n",
    "\n",
    "# Specify an input\n",
    "input_message = HumanMessage(content=\"quiero un coche kia sportage a gasolina, puede ser año 2011 a 2020 y no importa el kilometraje\")\n",
    "output = graph.invoke({\"messages\": input_message}, config)\n",
    "\n",
    "# Mostrar los mensajes resultantes del primer paso\n",
    "for m in output[\"messages\"]:\n",
    "    m.pretty_print()"
   ]
  },
  {
   "cell_type": "code",
   "execution_count": null,
   "metadata": {},
   "outputs": [],
   "source": [
    "# Start conversation\n",
    "config = {\"configurable\": {\"thread_id\": \"2\"}}\n",
    "\n",
    "# Specify an input\n",
    "input_message = HumanMessage(content=\"maximo 25.000 euros\")\n",
    "output = graph.invoke({\"messages\": input_message}, config)\n",
    "\n",
    "# Mostrar los mensajes resultantes del primer paso\n",
    "for m in output[\"messages\"]:\n",
    "    m.pretty_print()"
   ]
  },
  {
   "cell_type": "code",
   "execution_count": null,
   "metadata": {},
   "outputs": [],
   "source": [
    "config = {\"configurable\": {\"thread_id\": \"3\"}}\n",
    "\n",
    "# Specify an input\n",
    "input_message = HumanMessage(content=\"Mentor quiero un coche familiar, me podrias recomendar alguno?\")\n",
    "output = graph.invoke({\"messages\": input_message}, config)\n",
    "\n",
    "# Mostrar los mensajes resultantes del primer paso\n",
    "for m in output[\"messages\"]:\n",
    "    m.pretty_print()"
   ]
  },
  {
   "cell_type": "code",
   "execution_count": null,
   "metadata": {},
   "outputs": [],
   "source": [
    "# Start conversation, again\n",
    "config = {\"configurable\": {\"thread_id\": \"3\"}}\n",
    "\n",
    "# Specify an input\n",
    "input_message = HumanMessage(content=\"segun tu conocimiento que me recomiendas?\")\n",
    "output = graph.invoke({\"messages\": input_message}, config)\n",
    "\n",
    "# Mostrar los mensajes resultantes del primer paso\n",
    "for m in output[\"messages\"]:\n",
    "    m.pretty_print()"
   ]
  },
  {
   "cell_type": "code",
   "execution_count": null,
   "metadata": {},
   "outputs": [],
   "source": [
    "# Start conversation, again\n",
    "config = {\"configurable\": {\"thread_id\": \"3\"}}\n",
    "\n",
    "# Specify an input\n",
    "input_message = HumanMessage(content=\"pues SUV estaria bien y presupuesto hasta  12.000\")\n",
    "output = graph.invoke({\"messages\": input_message}, config)\n",
    "\n",
    "# Mostrar los mensajes resultantes del primer paso\n",
    "for m in output[\"messages\"]:\n",
    "    m.pretty_print()"
   ]
  },
  {
   "cell_type": "code",
   "execution_count": null,
   "metadata": {},
   "outputs": [],
   "source": [
    "# Start conversation, again\n",
    "config = {\"configurable\": {\"thread_id\": \"3\"}}\n",
    "\n",
    "# Specify an input\n",
    "input_message = HumanMessage(content=\"diesel o gasolina esta bien\")\n",
    "output = graph.invoke({\"messages\": input_message}, config)\n",
    "\n",
    "# Mostrar los mensajes resultantes del primer paso\n",
    "for m in output[\"messages\"]:\n",
    "    m.pretty_print()"
   ]
  },
  {
   "cell_type": "code",
   "execution_count": null,
   "metadata": {},
   "outputs": [],
   "source": [
    "# Start conversation, again\n",
    "config = {\"configurable\": {\"thread_id\": \"3\"}}\n",
    "\n",
    "# Specify an input\n",
    "input_message = HumanMessage(content=\"vale maximo 10 años\")\n",
    "output = graph.invoke({\"messages\": input_message}, config)\n",
    "\n",
    "# Mostrar los mensajes resultantes del primer paso\n",
    "for m in output[\"messages\"]:\n",
    "    m.pretty_print()"
   ]
  }
 ],
 "metadata": {
  "kernelspec": {
   "display_name": "car_env",
   "language": "python",
   "name": "python3"
  },
  "language_info": {
   "codemirror_mode": {
    "name": "ipython",
    "version": 3
   },
   "file_extension": ".py",
   "mimetype": "text/x-python",
   "name": "python",
   "nbconvert_exporter": "python",
   "pygments_lexer": "ipython3",
   "version": "3.11.5"
  }
 },
 "nbformat": 4,
 "nbformat_minor": 2
}
