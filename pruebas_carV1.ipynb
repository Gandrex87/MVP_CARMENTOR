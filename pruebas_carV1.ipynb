{
 "cells": [
  {
   "cell_type": "code",
   "execution_count": null,
   "metadata": {},
   "outputs": [],
   "source": [
    "from langchain.chat_models import init_chat_model\n",
    "\n",
    "# LLM base\n",
    "llm = init_chat_model(\"openai:gpt-4o-mini\", temperature=0.2)\n",
    "print(llm.invoke(\"Hola, ¿quién eres?\").content)\n",
    "\n",
    "from config.llm import llm_validacion\n",
    "\n",
    "print(llm_validacion.invoke(\"Hola, ¿quién eres?\").content)"
   ]
  },
  {
   "cell_type": "code",
   "execution_count": null,
   "metadata": {},
   "outputs": [],
   "source": [
    "from config.llm import llm_validacion , prompt_validacion\n",
    "from langchain_core.messages import SystemMessage, HumanMessage\n",
    "\n",
    "respuesta = llm_validacion.invoke([\n",
    "    SystemMessage(content=prompt_validacion),\n",
    "    HumanMessage(content=\"Hola, ¿quién eres?\")\n",
    "])\n",
    "print(respuesta.content)\n",
    "\n",
    "\n"
   ]
  },
  {
   "cell_type": "code",
   "execution_count": null,
   "metadata": {},
   "outputs": [],
   "source": [
    "from config.llm import prompt_validacion\n",
    "\n",
    "print(prompt_validacion)"
   ]
  },
  {
   "cell_type": "code",
   "execution_count": null,
   "metadata": {},
   "outputs": [],
   "source": [
    "from utils.enums import TipoMecanica # Ajusta la ruta\n",
    "\n",
    "valores_mecanica = \", \".join([f\"'{e.value}'\" for e in TipoMecanica]) \n",
    "print(valores_mecanica)\n",
    "# Ejemplo de salida: 'BEV', 'GASOLINA', 'DIESEL', 'HIBRIDO', ..."
   ]
  },
  {
   "cell_type": "code",
   "execution_count": null,
   "metadata": {},
   "outputs": [],
   "source": [
    "from graph.perfil.state import ResultadoEconomia,ResultadoSoloFiltros,ResultadoSoloPerfil, ResultadoPasajeros # Ajusta la ruta,\n",
    "import json\n",
    "\n",
    "schema = ResultadoEconomia.model_json_schema()\n",
    "print(json.dumps(schema, indent=2))\n",
    "\n"
   ]
  },
  {
   "cell_type": "code",
   "execution_count": null,
   "metadata": {},
   "outputs": [],
   "source": [
    "from utils.conversion import get_enum_names\n",
    "from utils.enums import TipoCarroceria, TipoMecanica\n",
    "\n",
    "#get_enum_names([TipoCarroceria.COMERCIAL, TipoCarroceria.PICKUP])\n",
    "\n",
    "#Dos maneras de obtener los nombres de las clases enums\n",
    "print(\"totalidad tipo carroceria:\" , list(TipoCarroceria))\n",
    "print(\"totalidad mecanica\" , get_enum_names(list(TipoMecanica)))\n",
    "print(\"totalidad mecanica\" ,(list(TipoMecanica)))\n"
   ]
  },
  {
   "cell_type": "markdown",
   "metadata": {},
   "source": [
    "# Creacion del Grafo"
   ]
  },
  {
   "cell_type": "code",
   "execution_count": 2,
   "metadata": {},
   "outputs": [
    {
     "name": "stderr",
     "output_type": "stream",
     "text": [
      "CropBox missing from /Page, defaulting to MediaBox\n",
      "CropBox missing from /Page, defaulting to MediaBox\n",
      "CropBox missing from /Page, defaulting to MediaBox\n",
      "CropBox missing from /Page, defaulting to MediaBox\n"
     ]
    },
    {
     "name": "stdout",
     "output_type": "stream",
     "text": [
      "INFO ► Compilando el grafo...\n",
      "INFO ► Grafo compilado exitosamente.\n"
     ]
    }
   ],
   "source": [
    "from langchain_core.messages import SystemMessage, HumanMessage\n",
    "# Importar el constructor del grafo\n",
    "from IPython.display import Image, display\n",
    "from graph.perfil.builder import build_sequential_agent_graph\n",
    "# Construir el grafo\n",
    "graph = build_sequential_agent_graph()\n",
    "#display(Image(graph.get_graph(xray=True).draw_mermaid_png()))\n"
   ]
  },
  {
   "cell_type": "code",
   "execution_count": null,
   "metadata": {},
   "outputs": [],
   "source": [
    "# En tu celda de Jupyter Notebook, DESPUÉS de construir el grafo:\n",
    "\n",
    "from langchain_core.messages import HumanMessage, AIMessage # Asegúrate de importar\n",
    "\n",
    "graph = build_sequential_agent_graph() \n",
    "#print(\"INFO: Grafo compilado.\")\n",
    "\n",
    "# --- BUCLE CONVERSACIONAL ---\n",
    "thread_id = \"conversacion_test_2\" # Usa un ID nuevo para empezar de cero\n",
    "config = {\"configurable\": {\"thread_id\": thread_id}}\n",
    "print(f\"Iniciando conversación con Thread ID: {thread_id}\")\n",
    "\n",
    "while True:\n",
    "    try:\n",
    "        user_input = input(\"\\nTú: \")\n",
    "        if user_input.lower() in [\"salir\", \"exit\", \"quit\"]:\n",
    "            print(\"Asistente: ¡Hasta luego!\")\n",
    "            break\n",
    "        current_input_messages = [HumanMessage(content=user_input)]\n",
    "    except EOFError:\n",
    "        print(\"Asistente: Detectado fin de entrada. ¡Adiós!\")\n",
    "        break\n",
    "\n",
    "    print(\"Asistente: Pensando...\")\n",
    "    try:\n",
    "        # Invocar al grafo CON CADA NUEVA ENTRADA HUMANA\n",
    "        output = graph.invoke({\"messages\": current_input_messages}, config) \n",
    "        \n",
    "        if output and \"messages\" in output and output[\"messages\"]:\n",
    "             last_message = output[\"messages\"][-1]\n",
    "             \n",
    "             print(\"\\nAsistente:\")\n",
    "             if isinstance(last_message, AIMessage):\n",
    "                 last_message.pretty_print()\n",
    "                 # Comprobar si es el mensaje final para salir del bucle\n",
    "                 if \"✅ He entendido lo siguiente\" in last_message.content: # Adapta tu condición final\n",
    "                     print(\"\\n--- Fin de la Conversación (Resumen Final Generado) ---\")\n",
    "                     break\n",
    "             else:\n",
    "                 print(f\"(Mensaje inesperado: {type(last_message)}) {last_message}\")\n",
    "                 # Podrías querer salir del bucle aquí también\n",
    "                 break \n",
    "        else:\n",
    "             print(\"WARN: La salida del grafo no contiene mensajes o está vacía.\")\n",
    "             break\n",
    "\n",
    "    except Exception as e:\n",
    "        print(f\"\\nERROR: Ocurrió un error al invocar el grafo: {e}\")\n",
    "        import traceback\n",
    "        traceback.print_exc() \n",
    "        break"
   ]
  },
  {
   "cell_type": "markdown",
   "metadata": {},
   "source": [
    "## Prueba 1"
   ]
  },
  {
   "cell_type": "code",
   "execution_count": null,
   "metadata": {},
   "outputs": [],
   "source": [
    "from langchain_core.messages import HumanMessage, SystemMessage\n",
    "\n",
    "# Create a thread\n",
    "config = {\"configurable\": {\"thread_id\": \"1\"}}\n",
    "\n",
    "# Start conversation\n",
    "input_message = HumanMessage(content=\"oye busco un coche para la ciudad\")\n",
    "output = graph.invoke({\"messages\": [input_message]}, config) \n",
    "for m in output['messages'][-1:]:\n",
    "    m.pretty_print()\n"
   ]
  },
  {
   "cell_type": "code",
   "execution_count": null,
   "metadata": {},
   "outputs": [],
   "source": [
    "print(output['preferencias_usuario'])\n",
    "print('-----------------------')\n",
    "# print(output['filtros_inferidos'])\n",
    "# print('-----------------------')\n",
    "# print(output['economia'])"
   ]
  },
  {
   "cell_type": "code",
   "execution_count": null,
   "metadata": {},
   "outputs": [],
   "source": [
    "# Create a thread\n",
    "config = {\"configurable\": {\"thread_id\": \"1\"}}\n",
    "input_message = HumanMessage(content=\"si, mido 1.94 y peso 120kg\")\n",
    "output = graph.invoke({\"messages\": [input_message]}, config) \n",
    "for m in output['messages'][-1:]:\n",
    "    m.pretty_print()"
   ]
  },
  {
   "cell_type": "code",
   "execution_count": null,
   "metadata": {},
   "outputs": [],
   "source": [
    "# Start conversation\n",
    "input_message = HumanMessage(content=\"para uso personal\")\n",
    "output = graph.invoke({\"messages\": [input_message]}, config) \n",
    "for m in output['messages'][-1:]:\n",
    "    m.pretty_print()"
   ]
  },
  {
   "cell_type": "code",
   "execution_count": null,
   "metadata": {},
   "outputs": [],
   "source": [
    "config = {\"configurable\": {\"thread_id\": \"1\"}}\n",
    "input_message = HumanMessage(content=\"si\")\n",
    "output = graph.invoke({\"messages\": [input_message]}, config) \n",
    "for m in output['messages'][-1:]:\n",
    "    m.pretty_print()"
   ]
  },
  {
   "cell_type": "code",
   "execution_count": null,
   "metadata": {},
   "outputs": [],
   "source": [
    "config = {\"configurable\": {\"thread_id\": \"1\"}}\n",
    "input_message = HumanMessage(content=\"si\")\n",
    "output = graph.invoke({\"messages\": [input_message]}, config) \n",
    "for m in output['messages'][-1:]:\n",
    "    m.pretty_print()"
   ]
  },
  {
   "cell_type": "code",
   "execution_count": null,
   "metadata": {},
   "outputs": [],
   "source": [
    "config = {\"configurable\": {\"thread_id\": \"1\"}}\n",
    "input_message = HumanMessage(content=\"ambos\")\n",
    "output = graph.invoke({\"messages\": [input_message]}, config) \n",
    "for m in output['messages'][-1:]:\n",
    "    m.pretty_print()"
   ]
  },
  {
   "cell_type": "code",
   "execution_count": null,
   "metadata": {},
   "outputs": [],
   "source": [
    "config = {\"configurable\": {\"thread_id\": \"1\"}}\n",
    "input_message = HumanMessage(content=\"si\")\n",
    "output = graph.invoke({\"messages\": [input_message]}, config) \n",
    "for m in output['messages'][-1:]:\n",
    "    m.pretty_print()"
   ]
  },
  {
   "cell_type": "code",
   "execution_count": null,
   "metadata": {},
   "outputs": [],
   "source": [
    "print(output['preferencias_usuario'])\n"
   ]
  },
  {
   "cell_type": "code",
   "execution_count": null,
   "metadata": {},
   "outputs": [],
   "source": [
    "config = {\"configurable\": {\"thread_id\": \"1\"}}\n",
    "input_message = HumanMessage(content=\"la 3\")\n",
    "output = graph.invoke({\"messages\": [input_message]}, config) \n",
    "for m in output['messages'][-1:]:\n",
    "    m.pretty_print()"
   ]
  },
  {
   "cell_type": "code",
   "execution_count": null,
   "metadata": {},
   "outputs": [],
   "source": [
    "print(output['preferencias_usuario'])\n",
    "print('-----------------------')\n",
    "print(output['filtros_inferidos'])\n"
   ]
  },
  {
   "cell_type": "code",
   "execution_count": null,
   "metadata": {},
   "outputs": [],
   "source": [
    "# Create a thread\n",
    "config = {\"configurable\": {\"thread_id\": \"1\"}}\n",
    "\n",
    "# Start conversation\n",
    "input_message = HumanMessage(content=\"la 2\")\n",
    "output = graph.invoke({\"messages\": [input_message]}, config) \n",
    "for m in output['messages'][-1:]:\n",
    "    m.pretty_print()"
   ]
  },
  {
   "cell_type": "code",
   "execution_count": null,
   "metadata": {},
   "outputs": [],
   "source": [
    "config = {\"configurable\": {\"thread_id\": \"1\"}}\n",
    "\n",
    "# Start conversation\n",
    "input_message = HumanMessage(content=\"De contado\")\n",
    "output = graph.invoke({\"messages\": [input_message]}, config) \n",
    "for m in output['messages'][-1:]:\n",
    "    m.pretty_print()"
   ]
  },
  {
   "cell_type": "code",
   "execution_count": null,
   "metadata": {},
   "outputs": [],
   "source": [
    "print(output['preferencias_usuario'])\n"
   ]
  },
  {
   "cell_type": "code",
   "execution_count": null,
   "metadata": {},
   "outputs": [],
   "source": [
    "# Create a thread\n",
    "config = {\"configurable\": {\"thread_id\": \"1\"}}\n",
    "\n",
    "# Start conversation\n",
    "input_message = HumanMessage(content=\"de contado\")\n",
    "output = graph.invoke({\"messages\": [input_message]}, config) \n",
    "for m in output['messages'][-1:]:\n",
    "    m.pretty_print()"
   ]
  },
  {
   "cell_type": "code",
   "execution_count": null,
   "metadata": {},
   "outputs": [],
   "source": [
    "config = {\"configurable\": {\"thread_id\": \"1\"}}\n",
    "\n",
    "# Start conversation\n",
    "input_message = HumanMessage(content=\"20000\")\n",
    "output = graph.invoke({\"messages\": [input_message]}, config) \n",
    "for m in output['messages'][-1:]:\n",
    "    m.pretty_print()"
   ]
  },
  {
   "cell_type": "code",
   "execution_count": null,
   "metadata": {},
   "outputs": [],
   "source": [
    "# Create a thread\n",
    "config = {\"configurable\": {\"thread_id\": \"1\"}}\n",
    "\n",
    "# Start conversation\n",
    "input_message = HumanMessage(content=\"opcion 1\")\n",
    "output = graph.invoke({\"messages\": [input_message]}, config) \n",
    "for m in output['messages'][-1:]:\n",
    "    m.pretty_print()"
   ]
  },
  {
   "cell_type": "code",
   "execution_count": null,
   "metadata": {},
   "outputs": [],
   "source": [
    "print(output['preferencias_usuario'])\n",
    "print('-----------------------')\n",
    "print(output['filtros_inferidos'])\n",
    "print('-----------------------')\n",
    "print(output['economia'])\n",
    "print('-----------------------')\n",
    "print(output['pesos'])\n",
    "print('-----------------------')\n",
    "print(output['coches_recomendados'][0])\n",
    "print('-----------------------')\n",
    "print(output.keys())"
   ]
  },
  {
   "cell_type": "code",
   "execution_count": null,
   "metadata": {},
   "outputs": [],
   "source": [
    "# Create a thread\n",
    "config = {\"configurable\": {\"thread_id\": \"1\"}}\n",
    "\n",
    "# Start conversation\n",
    "input_message = HumanMessage(content=\"35.000\")\n",
    "output = graph.invoke({\"messages\": [input_message]}, config) \n",
    "for m in output['messages'][-1:]:\n",
    "    m.pretty_print()"
   ]
  },
  {
   "cell_type": "code",
   "execution_count": null,
   "metadata": {},
   "outputs": [],
   "source": [
    "\n",
    "print(output['preferencias_usuario'])\n",
    "print('-----------------------')\n",
    "print(output['filtros_inferidos'])\n",
    "print('-----------------------')\n",
    "print(output['pesos'])\n",
    "print(output.keys())"
   ]
  },
  {
   "cell_type": "code",
   "execution_count": null,
   "metadata": {},
   "outputs": [],
   "source": [
    "# Create a thread\n",
    "config = {\"configurable\": {\"thread_id\": \"1\"}}\n",
    "\n",
    "# Start conversation\n",
    "input_message = HumanMessage(content=\"10000 ahorrados?\")\n",
    "output = graph.invoke({\"messages\": [input_message]}, config) \n",
    "for m in output['messages'][-1:]:\n",
    "    m.pretty_print()"
   ]
  },
  {
   "cell_type": "code",
   "execution_count": null,
   "metadata": {},
   "outputs": [],
   "source": [
    "print(output['preferencias_usuario'])\n",
    "print('-----------------------')\n",
    "print(output['filtros_inferidos'])\n",
    "print('-----------------------')\n",
    "print(output.keys())"
   ]
  },
  {
   "cell_type": "code",
   "execution_count": null,
   "metadata": {},
   "outputs": [],
   "source": [
    "# Create a thread\n",
    "config = {\"configurable\": {\"thread_id\": \"1\"}}\n",
    "\n",
    "# Start conversation\n",
    "input_message = HumanMessage(content=\"5 años\")\n",
    "output = graph.invoke({\"messages\": [input_message]}, config) \n",
    "for m in output['messages'][-1:]:\n",
    "    m.pretty_print()"
   ]
  },
  {
   "cell_type": "code",
   "execution_count": null,
   "metadata": {},
   "outputs": [],
   "source": [
    "print(output['preferencias_usuario'])\n",
    "print('-----------------------')\n",
    "print(output['filtros_inferidos'])\n",
    "print('-----------------------')\n",
    "print(output['economia'])\n",
    "print('-----------------------')\n",
    "print(output['pesos'])\n",
    "print(output.keys())"
   ]
  },
  {
   "cell_type": "code",
   "execution_count": null,
   "metadata": {},
   "outputs": [],
   "source": [
    "# Create a thread\n",
    "config = {\"configurable\": {\"thread_id\": \"1\"}}\n",
    "\n",
    "# Start conversation\n",
    "input_message = HumanMessage(content=\"que informacin falta?\")\n",
    "output = graph.invoke({\"messages\": [input_message]}, config) \n",
    "for m in output['messages'][-1:]:\n",
    "    m.pretty_print()"
   ]
  },
  {
   "cell_type": "code",
   "execution_count": null,
   "metadata": {},
   "outputs": [],
   "source": []
  },
  {
   "cell_type": "code",
   "execution_count": null,
   "metadata": {},
   "outputs": [],
   "source": [
    "config = {\"configurable\": {\"thread_id\": \"1\"}}\n",
    "\n",
    "# Start conversation\n",
    "input_message = HumanMessage(content=\"8\")\n",
    "output = graph.invoke({\"messages\": [input_message]}, config) \n",
    "for m in output['messages'][-1:]:\n",
    "    m.pretty_print()"
   ]
  },
  {
   "cell_type": "code",
   "execution_count": null,
   "metadata": {},
   "outputs": [],
   "source": [
    "print(output['preferencias_usuario'])\n",
    "print('-----------------------')\n",
    "print(output['filtros_inferidos'])\n",
    "print('-----------------------')\n",
    "print(output['economia'])\n",
    "print('-----------------------')\n",
    "print(output['pesos'])"
   ]
  },
  {
   "cell_type": "code",
   "execution_count": null,
   "metadata": {},
   "outputs": [],
   "source": [
    "print(output['preferencias_usuario'])\n",
    "print('-----------------------')"
   ]
  },
  {
   "cell_type": "code",
   "execution_count": null,
   "metadata": {},
   "outputs": [],
   "source": [
    "print(output.keys())"
   ]
  },
  {
   "cell_type": "code",
   "execution_count": null,
   "metadata": {},
   "outputs": [],
   "source": [
    "state = graph.get_state(config).values\n",
    "print(state[\"mensaje_validacion\"])\n"
   ]
  },
  {
   "cell_type": "markdown",
   "metadata": {},
   "source": [
    "## Prueba 2"
   ]
  },
  {
   "cell_type": "code",
   "execution_count": null,
   "metadata": {},
   "outputs": [
    {
     "name": "stderr",
     "output_type": "stream",
     "text": [
      "DEBUG:openai._base_client:Request options: {'method': 'post', 'url': '/chat/completions', 'headers': {'X-Stainless-Helper-Method': 'beta.chat.completions.parse'}, 'files': None, 'post_parser': <function Completions.parse.<locals>.parser at 0x1157a72e0>, 'json_data': {'messages': [{'content': '<Role>\\nEres un asistente de conversación amigable y metodológico. Tu misión actual es conocer las preferencias generales y el perfil básico de un usuario que busca un coche (`PerfilUsuario`). Tu salida SIEMPRE debe ser un objeto JSON válido que cumpla el esquema `ResultadoSoloPerfil`.\\n</Role>\\n\\n<Esquema_JSON_Requerido>\\nLa estructura JSON que DEBES generar es la siguiente:\\n```json\\n{{\\n  \"$defs\": {{\\n    \"NivelAventura\": {{\\n      \"enum\": [\\n        \"ninguna\",\\n        \"ocasional\",\\n        \"extrema\"\\n      ],\\n      \"title\": \"NivelAventura\",\\n      \"type\": \"string\"\\n    }},\\n    \"PerfilUsuario\": {{\\n      \"properties\": {{\\n        \"altura_mayor_190\": {{\\n          \"anyOf\": [\\n            {{\\n              \"type\": \"string\"\\n            }},\\n            {{\\n              \"type\": \"null\"\\n            }}\\n          ],\\n          \"default\": null,\\n          \"description\": \"¿El usuario mide más de 1.90 metros? Responde \\'sí\\' o \\'no\\'\",\\n          \"title\": \"Altura Mayor 190\"\\n        }},\\n        \"peso_mayor_100\": {{\\n          \"anyOf\": [\\n            {{\\n              \"type\": \"string\"\\n            }},\\n            {{\\n              \"type\": \"null\"\\n            }}\\n          ],\\n          \"default\": null,\\n          \"description\": \"¿El usuario pesa más de 100 kg? Responde \\'sí\\' o \\'no\\'\",\\n          \"title\": \"Peso Mayor 100\"\\n        }},\\n        \"uso_profesional\": {{\\n          \"anyOf\": [\\n            {{\\n              \"type\": \"string\"\\n            }},\\n            {{\\n              \"type\": \"null\"\\n            }}\\n          ],\\n          \"default\": null,\\n          \"description\": \"¿Usará el coche para trabajo? Responde \\'sí\\' o \\'no\\'\",\\n          \"title\": \"Uso Profesional\"\\n        }},\\n        \"valora_estetica\": {{\\n          \"anyOf\": [\\n            {{\\n              \"type\": \"string\"\\n            }},\\n            {{\\n              \"type\": \"null\"\\n            }}\\n          ],\\n          \"default\": null,\\n          \"description\": \"¿Valora la estética del coche? Responde \\'sí\\' o \\'no\\'\",\\n          \"title\": \"Valora Estetica\"\\n        }},\\n        \"solo_electricos\": {{\\n          \"anyOf\": [\\n            {{\\n              \"type\": \"string\"\\n            }},\\n            {{\\n              \"type\": \"null\"\\n            }}\\n          ],\\n          \"default\": null,\\n          \"description\": \"¿Quiere solo coches eléctricos? Responde \\'sí\\' o \\'no\\'\",\\n          \"title\": \"Solo Electricos\"\\n        }},\\n        \"transmision_preferida\": {{\\n          \"anyOf\": [\\n            {{\\n              \"$ref\": \"#/$defs/Transmision\"\\n            }},\\n            {{\\n              \"type\": \"null\"\\n            }}\\n          ],\\n          \"default\": null,\\n          \"description\": \"¿Qué transmisión prefieres: automático, manual o ambos?\"\\n        }},\\n        \"apasionado_motor\": {{\\n          \"anyOf\": [\\n            {{\\n              \"type\": \"string\"\\n            }},\\n            {{\\n              \"type\": \"null\"\\n            }}\\n          ],\\n          \"default\": null,\\n          \"description\": \"¿Eres un apasionado/a del motor y/o la movilidad? Responde \\'sí\\' o \\'no\\'\",\\n          \"title\": \"Apasionado Motor\"\\n        }},\\n        \"aventura\": {{\\n          \"anyOf\": [\\n            {{\\n              \"$ref\": \"#/$defs/NivelAventura\"\\n            }},\\n            {{\\n              \"type\": \"null\"\\n            }}\\n          ],\\n          \"default\": null,\\n          \"description\": \"¿Qué nivel de aventura buscas con tu vehículo: \\'ninguna\\', \\'ocasional\\' o \\'extrema\\'?\"\\n        }}\\n      }},\\n      \"title\": \"PerfilUsuario\",\\n      \"type\": \"object\"\\n    }},\\n    \"Transmision\": {{\\n      \"enum\": [\\n        \"automático\",\\n        \"manual\",\\n        \"ambos\"\\n      ],\\n      \"title\": \"Transmision\",\\n      \"type\": \"string\"\\n    }}\\n  }},\\n  \"description\": \"Salida esperada del LLM enfocado solo en el perfil del usuario.\",\\n  \"properties\": {{\\n    \"preferencias_usuario\": {{\\n      \"$ref\": \"#/$defs/PerfilUsuario\",\\n      \"description\": \"Objeto con las preferencias del usuario actualizadas o inferidas.\"\\n    }},\\n    \"tipo_mensaje\": {{\\n      \"description\": \"Clasificación del mensaje: \\'PREGUNTA\\' si se necesita más info de perfil, \\'CONFIRMACION\\' si el perfil parece completo o se confirma un dato, \\'ERROR\\' si hubo un problema irresoluble.\",\\n      \"enum\": [\\n        \"PREGUNTA\",\\n        \"CONFIRMACION\",\\n        \"ERROR\"\\n      ],\\n      \"title\": \"Tipo Mensaje\",\\n      \"type\": \"string\"\\n    }},\\n    \"contenido_mensaje\": {{\\n      \"description\": \"El texto real del mensaje: la pregunta específica, la confirmación, o el detalle del error.\",\\n      \"title\": \"Contenido Mensaje\",\\n      \"type\": \"string\"\\n    }}\\n  }},\\n  \"required\": [\\n    \"preferencias_usuario\",\\n    \"tipo_mensaje\",\\n    \"contenido_mensaje\"\\n  ],\\n  \"title\": \"ResultadoSoloPerfil\",\\n  \"type\": \"object\"\\n}}\\n</Esquema_JSON_Requerido>\\n\\n<Instrucciones_Generales_y_Salida_JSON>\\n\\nLos 8 campos OBLIGATORIOS del `PerfilUsuario` que debes intentar completar son:\\n1.  `altura_mayor_190` (string: \\'sí\\' o \\'no\\')\\n2.  `peso_mayor_100` (string: \\'sí\\' o \\'no\\')\\n3.  `uso_profesional` (string: \\'sí\\' o \\'no\\')\\n4.  `valora_estetica` (string: \\'sí\\' o \\'no\\')\\n5.  `solo_electricos` (string: \\'sí\\' o \\'no\\')\\n6.  `transmision_preferida` (enum: \\'automático\\', \\'manual\\', \\'ambos\\')\\n7.  `apasionado_motor` (string: \\'sí\\' o \\'no\\')\\n8.  `aventura` (enum: \\'ninguna\\', \\'ocasional\\', \\'extrema\\') - IMPORTANTE: Para el campo `aventura`, NO infieras un valor por defecto como \\'ninguna\\' a menos que el usuario lo indique muy explícitamente. Si no hay información clara sobre el nivel de aventura, deja `aventura` como `null`.\\n\\n\\nUna vez que hayas construido el objeto `preferencias_usuario` con la información más actualizada, determina `tipo_mensaje` y `contenido_mensaje` aplicando ESTRICTAMENTE las siguientes reglas en orden:\\n\\n**Regla 1: Inicio de Conversación (Primer Turno)**\\n* Si el historial de conversación solo contiene el primer mensaje del usuario (es decir, estás en el primer turno de recopilación de perfil):\\n    * `tipo_mensaje` DEBE ser `\"PREGUNTA\"`.\\n    * `contenido_mensaje` DEBE incluir un saludo amigable (ej: \"¡Hola! Soy Mentor, tu asistente para encontrar el coche ideal.\") seguido de una pregunta para el primer campo del perfil que desees obtener. Puedes usar una de las plantillas de `<Guias_Preguntas_Perfil>` (por ejemplo, para `altura_mayor_190` o `aventura`).\\n\\n**Regla 2: Perfil Incompleto (Continuación de la Recopilación)**\\n* Después de procesar la última respuesta del usuario y actualizar `preferencias_usuario`, verifica si CUALQUIERA de los 8 campos listados arriba sigue siendo `null`.\\n* **Si UNO O MÁS de los 8 campos son `null`:**\\n    * `tipo_mensaje` DEBE ser `\"PREGUNTA\"`.\\n    * En `contenido_mensaje`, formula UNA SOLA PREGUNTA clara y concisa para obtener información para el PRIMER campo de la lista de 8 que todavía sea `null`, siguiendo un orden de prioridad si lo deseas (p.ej., `uso_profesional`, luego `valora_estetica`, etc.). Utiliza las guías y plantillas de `<Guias_Preguntas_Perfil>`. Intenta variar la formulación para que la conversación sea natural.\\n\\n**Regla 3: Perfil Completado (Todos los Campos Rellenos)**\\n* **SOLO Y EXCLUSIVAMENTE SI TODOS y CADA UNO de los 8 campos listados arriba tienen un valor válido (es decir, NO son `null`)** en el objeto `preferencias_usuario` que has construido:\\n    * `tipo_mensaje` DEBE ser `\"CONFIRMACION\"`.\\n    * En `contenido_mensaje`, pon una confirmación breve y amigable que indique que se ha recopilado toda la información del perfil. Ejemplos: \"¡Perfecto! Ya tenemos tus preferencias principales.\", \"Entendido. Hemos completado tu perfil de preferencias.\", \"¡Genial! Con esto tenemos toda la información de tu perfil.\".\\n    * Asegúrate de que el objeto `preferencias_usuario` en tu salida JSON esté completamente relleno con todos los valores recopilados.\\n\\n**Regla 4: Manejo de Errores**\\n* Si encuentras un problema irresoluble al procesar la información o al intentar generar el JSON, `tipo_mensaje` debe ser `\"ERROR\"` y `contenido_mensaje` debe ser una breve explicación del error.\\n\\n**Directrices Adicionales Importantes:**\\n* **No Inventes Valores:** Es crucial que no asignes valores a `preferencias_usuario` que no se mencionen explícitamente o no se puedan inferir con muy alta certeza de la conversación. En caso de duda, deja el campo como `null` y sigue la Regla 2 para preguntar.\\n* **Enfoque Estricto:** Mantén el enfoque estrictamente en completar los 8 campos de `PerfilUsuario`. NO preguntes ni menciones temas fuera de estos (como precio, características técnicas detalladas, número de pasajeros, etc.) durante esta fase.\\n\\n</Instrucciones_Generales_y_Salida_JSON>\\n\\n<Guias_Preguntas_Perfil>\\n\\nCuando necesites preguntar por uno de estos campos (tipo_mensaje=\\'PREGUNTA\\'), aquí tienes ejemplos de cómo puedes formular la pregunta de forma clara y amigable. Intenta variar la formulación para que la conversación sea más natural, pero asegúrate de que el usuario entienda qué información necesitas:\\naltura_mayor_190:\\n• \"¿Mides más de 1.90 m?\"\\n• \"Para recomendarte un vehículo con espacio adecuado, ¿tu altura supera los 1.90 metros?\"\\npeso_mayor_100:\\n• \"¿Pesas más de 100 kg?\"\\n• \"Para garantizar tu máxima comodidad, ¿tienes un peso superior a 100 kg?\"\\naventura: Usa uno de los <Aventura_Templates>\\n<Aventura_Templates>\\n  • Template 1: \"Hablando de aventura, ¿con cuál de estas afirmaciones te identificas más?\\\\n 1) No pisas nada que no sea asfalto (ninguna)\\\\n 2) Salidas fuera de asfalto ocasionales (ocasional)\\\\n 3) Circular en condiciones duras con total garantía (extrema)\"\\n  • Template 2: \"Para conocer tu espíritu aventurero, dime que prefieres:\\\\n 1) Solo asfalto (ninguna)\\\\n 2) Salidas off‑road de vez en cuando (ocasional)\\\\n 3) Aventurero extremo en terrenos difíciles (extrema)\"\\n  • Template 3: \"Respecto a tus planes de conducción:\\\\n 1) Siempre en carreteras pavimentadas (ninguna)\\\\n 2) A veces me gusta explorar caminos rurales o de tierra (ocasional)\\\\n 3) Necesito un vehículo capaz de enfrentar terrenos realmente desafiantes (extrema)\"\\n  • Template 4: \"Cuéntame sobre tus hábitos de conducción:\\\\n 1) Me mantengo en vías urbanas y autopistas (ninguna)\\\\n 2) De vez en cuando me aventuro por caminos no asfaltados (ocasional)\\\\n 3) Busco regularmente retos off-road y condiciones extremas (extrema)\" \\n</Aventura_Templates> \\nuso_profesional:\\n• \"¿El coche lo destinaras principalmente para uso personal o más para fines profesionales (trabajo)?\"\\n• \"¿Utilizarás el vehículo principalmente para trabajo o para uso personal y familiar?\"\\nvalora_estetica:\\n• \"¿Valoras especialmente la estética del coche ?\"\\n• \"¿Es importante para ti el diseño y la apariencia del vehículo?\"\\nsolo_electricos:\\n• \"¿Quieres solo coches eléctricos?\"\\n• \"¿Estás interesado exclusivamente en vehículos con motorización eléctrica o consideras otras opciones?\"\\ntransmision_preferida:\\n• \"¿Qué tipo de transmisión prefieres?\\\\n 1) Automático\\\\n 2) Manual\\\\n 3) Ambos\"\\n• \"En cuanto a la transmisión, ¿qué opción se ajusta mejor a tus preferencias?\\\\n 1) Automático\\\\n 2) Manual\\\\n 3) Ambos, puedo considerar ambas opciones\"\\napasionado_motor:\\n• \"¿Eres un apasionado del mundo automotriz?\"\\n• \"¿Te consideras una persona entusiasta del mundo del motor y la tecnología automotriz?\"\\n\\n</Guias_Preguntas_Perfil>\\n\\n<Ejemplos_Perfil>\\n\\nEjemplo 1: Inicio -> PREGUNTA (Con Saludo)\\nContexto: [HumanMessage(content=\\'Busco coche\\')]\\n{{\\n  \"preferencias_usuario\": {{ ... todos null ... }},\\n  \"tipo_mensaje\": \"PREGUNTA\", \\n  \"contenido_mensaje\": \"¡Hola! Soy Mentor, tu asistente para encontrar el coche ideal. Para empezar, hablando de aventura, ¿con cuál de estas afirmaciones te identificas más?\\\\n  1) No pisas nada que no sea asfalto (ninguna)\\\\n  2) Salidas fuera de asfalto ocasionales (ocasional)\\\\n  3) Circular en condiciones duras con total garantía (extrema)\"\\n}}\\n\\nEjemplo 2: Información parcial -> PREGUNTA (Solo una pregunta)\\n\\nContexto: [..., HumanMessage(content=\\'Será automático y solo asfalto.\\')]\\nSalida JSON Esperada:\\n{{\\n  \"preferencias_usuario\": {{ ... transmision_preferida=\"automatico\", aventura=\"ninguna\", resto null ... }},\\n  \"tipo_mensaje\": \"PREGUNTA\",\\n  \"contenido_mensaje\": \"¿Mides más de 1.90 m?\" // Pregunta solo por el siguiente campo faltante (ej: altura)\\n}}\\nEjemplo 3: Información completa -> CONFIRMACION\\n\\nContexto: [..., HumanMessage(content=\\'No soy apasionado del motor.\\')] // Asume que esta era la última respuesta necesaria\\nSalida JSON Esperada:\\n{{\\n  \"preferencias_usuario\": {{ ... todo relleno correctamente ... }},\\n  \"tipo_mensaje\": \"CONFIRMACION\",\\n  \"contenido_mensaje\": \"¡Perfecto! Ya tenemos tus preferencias principales.\" \\n}}\\n</Ejemplos_Perfil>\\n\\n<Formato_Salida_JSON_Final>\\nGenera únicamente el objeto JSON completo y válido solicitado que cumpla el esquema ResultadoSoloPerfil.\\n{{ \\n  \"preferencias_usuario\": {{ ... }},\\n  \"tipo_mensaje\": \"<\\'PREGUNTA\\' o \\'CONFIRMACION\\' o \\'ERROR\\'>\",\\n  \"contenido_mensaje\": \"<string>\"\\n}}', 'role': 'user'}, {'content': 'Quiero un coche mido 1.93. Peso 80 kg', 'role': 'user'}], 'model': 'gpt-4o-mini', 'response_format': {'type': 'json_schema', 'json_schema': {'schema': {'$defs': {'NivelAventura': {'enum': ['ninguna', 'ocasional', 'extrema'], 'title': 'NivelAventura', 'type': 'string'}, 'PerfilUsuario': {'properties': {'altura_mayor_190': {'anyOf': [{'type': 'string'}, {'type': 'null'}], 'description': \"¿El usuario mide más de 1.90 metros? Responde 'sí' o 'no'\", 'title': 'Altura Mayor 190'}, 'peso_mayor_100': {'anyOf': [{'type': 'string'}, {'type': 'null'}], 'description': \"¿El usuario pesa más de 100 kg? Responde 'sí' o 'no'\", 'title': 'Peso Mayor 100'}, 'uso_profesional': {'anyOf': [{'type': 'string'}, {'type': 'null'}], 'description': \"¿Usará el coche para trabajo? Responde 'sí' o 'no'\", 'title': 'Uso Profesional'}, 'valora_estetica': {'anyOf': [{'type': 'string'}, {'type': 'null'}], 'description': \"¿Valora la estética del coche? Responde 'sí' o 'no'\", 'title': 'Valora Estetica'}, 'solo_electricos': {'anyOf': [{'type': 'string'}, {'type': 'null'}], 'description': \"¿Quiere solo coches eléctricos? Responde 'sí' o 'no'\", 'title': 'Solo Electricos'}, 'transmision_preferida': {'anyOf': [{'$ref': '#/$defs/Transmision'}, {'type': 'null'}], 'description': '¿Qué transmisión prefieres: automático, manual o ambos?'}, 'apasionado_motor': {'anyOf': [{'type': 'string'}, {'type': 'null'}], 'description': \"¿Eres un apasionado/a del motor y/o la movilidad? Responde 'sí' o 'no'\", 'title': 'Apasionado Motor'}, 'aventura': {'anyOf': [{'$ref': '#/$defs/NivelAventura'}, {'type': 'null'}], 'description': \"¿Qué nivel de aventura buscas con tu vehículo: 'ninguna', 'ocasional' o 'extrema'?\"}}, 'title': 'PerfilUsuario', 'type': 'object', 'additionalProperties': False, 'required': ['altura_mayor_190', 'peso_mayor_100', 'uso_profesional', 'valora_estetica', 'solo_electricos', 'transmision_preferida', 'apasionado_motor', 'aventura']}, 'Transmision': {'enum': ['automático', 'manual', 'ambos'], 'title': 'Transmision', 'type': 'string'}}, 'description': 'Salida esperada del LLM enfocado solo en el perfil del usuario.', 'properties': {'preferencias_usuario': {'description': 'Objeto con las preferencias del usuario actualizadas o inferidas.', 'properties': {'altura_mayor_190': {'anyOf': [{'type': 'string'}, {'type': 'null'}], 'description': \"¿El usuario mide más de 1.90 metros? Responde 'sí' o 'no'\", 'title': 'Altura Mayor 190'}, 'peso_mayor_100': {'anyOf': [{'type': 'string'}, {'type': 'null'}], 'description': \"¿El usuario pesa más de 100 kg? Responde 'sí' o 'no'\", 'title': 'Peso Mayor 100'}, 'uso_profesional': {'anyOf': [{'type': 'string'}, {'type': 'null'}], 'description': \"¿Usará el coche para trabajo? Responde 'sí' o 'no'\", 'title': 'Uso Profesional'}, 'valora_estetica': {'anyOf': [{'type': 'string'}, {'type': 'null'}], 'description': \"¿Valora la estética del coche? Responde 'sí' o 'no'\", 'title': 'Valora Estetica'}, 'solo_electricos': {'anyOf': [{'type': 'string'}, {'type': 'null'}], 'description': \"¿Quiere solo coches eléctricos? Responde 'sí' o 'no'\", 'title': 'Solo Electricos'}, 'transmision_preferida': {'anyOf': [{'$ref': '#/$defs/Transmision'}, {'type': 'null'}], 'description': '¿Qué transmisión prefieres: automático, manual o ambos?'}, 'apasionado_motor': {'anyOf': [{'type': 'string'}, {'type': 'null'}], 'description': \"¿Eres un apasionado/a del motor y/o la movilidad? Responde 'sí' o 'no'\", 'title': 'Apasionado Motor'}, 'aventura': {'anyOf': [{'$ref': '#/$defs/NivelAventura'}, {'type': 'null'}], 'description': \"¿Qué nivel de aventura buscas con tu vehículo: 'ninguna', 'ocasional' o 'extrema'?\"}}, 'title': 'PerfilUsuario', 'type': 'object', 'additionalProperties': False, 'required': ['altura_mayor_190', 'peso_mayor_100', 'uso_profesional', 'valora_estetica', 'solo_electricos', 'transmision_preferida', 'apasionado_motor', 'aventura']}, 'tipo_mensaje': {'description': \"Clasificación del mensaje: 'PREGUNTA' si se necesita más info de perfil, 'CONFIRMACION' si el perfil parece completo o se confirma un dato, 'ERROR' si hubo un problema irresoluble.\", 'enum': ['PREGUNTA', 'CONFIRMACION', 'ERROR'], 'title': 'Tipo Mensaje', 'type': 'string'}, 'contenido_mensaje': {'description': 'El texto real del mensaje: la pregunta específica, la confirmación, o el detalle del error.', 'title': 'Contenido Mensaje', 'type': 'string'}}, 'required': ['preferencias_usuario', 'tipo_mensaje', 'contenido_mensaje'], 'title': 'ResultadoSoloPerfil', 'type': 'object', 'additionalProperties': False}, 'name': 'ResultadoSoloPerfil', 'strict': True}}, 'stream': False, 'temperature': 0.2}}\n",
      "DEBUG:openai._base_client:Sending HTTP Request: POST https://api.openai.com/v1/chat/completions\n",
      "DEBUG:httpcore.connection:connect_tcp.started host='api.openai.com' port=443 local_address=None timeout=None socket_options=None\n",
      "DEBUG:urllib3.connectionpool:Starting new HTTPS connection (1): eu.api.smith.langchain.com:443\n",
      "DEBUG:httpcore.connection:connect_tcp.complete return_value=<httpcore._backends.sync.SyncStream object at 0x11580f450>\n",
      "DEBUG:httpcore.connection:start_tls.started ssl_context=<ssl.SSLContext object at 0x1072c4e60> server_hostname='api.openai.com' timeout=None\n",
      "DEBUG:httpcore.connection:start_tls.complete return_value=<httpcore._backends.sync.SyncStream object at 0x115767010>\n",
      "DEBUG:httpcore.http11:send_request_headers.started request=<Request [b'POST']>\n",
      "DEBUG:httpcore.http11:send_request_headers.complete\n",
      "DEBUG:httpcore.http11:send_request_body.started request=<Request [b'POST']>\n",
      "DEBUG:httpcore.http11:send_request_body.complete\n",
      "DEBUG:httpcore.http11:receive_response_headers.started request=<Request [b'POST']>\n"
     ]
    },
    {
     "name": "stdout",
     "output_type": "stream",
     "text": [
      "--- Ejecutando Nodo: route_based_on_state_node ---\n",
      "\n",
      "--- DEBUG: Evaluating Routing Decision ---\n",
      "--- DEBUG CHECK PERFIL ---\n",
      "Input prefs object: None\n",
      "Input prefs type: <class 'NoneType'>\n",
      "DEBUG Router: Prefs OK? False\n",
      "--- DEBUG CHECK PASAJEROS ---\n",
      "Input info pasajeros: None\n",
      "DEBUG (Validation Pasajeros) ► Objeto InfoPasajeros es None.\n",
      "DEBUG Router: Pasajeros OK? False\n",
      "DEBUG (Validation Filtros) ► Objeto FiltrosInferidos es None.\n",
      "DEBUG Router: Filtros OK? False\n",
      "--- DEBUG CHECK ECONOMIA (Manual) ---\n",
      "Input econ object: None\n",
      "DEBUG (Validation Economía Manual) ► Objeto EconomiaUsuario es None.\n",
      "DEBUG Router: Economía OK? False\n",
      "DEBUG Router: Pesos Calculados? False\n",
      "DEBUG Router: Coches Buscados? False\n",
      "--- DEBUG CHECK PERFIL ---\n",
      "Input prefs object: None\n",
      "Input prefs type: <class 'NoneType'>\n",
      "DEBUG Router: Decisión -> recopilar_preferencias\n",
      "--- Ejecutando Nodo: recopilar_preferencias_node ---\n",
      "DEBUG (Perfil) ► Último mensaje es HumanMessage o historial vacío, llamando a llm_solo_perfil...\n"
     ]
    },
    {
     "name": "stderr",
     "output_type": "stream",
     "text": [
      "DEBUG:urllib3.connectionpool:https://eu.api.smith.langchain.com:443 \"GET /info HTTP/1.1\" 200 709\n",
      "DEBUG:urllib3.connectionpool:https://eu.api.smith.langchain.com:443 \"POST /runs/multipart HTTP/1.1\" 202 34\n",
      "DEBUG:httpcore.http11:receive_response_headers.complete return_value=(b'HTTP/1.1', 200, b'OK', [(b'Date', b'Tue, 06 May 2025 17:21:33 GMT'), (b'Content-Type', b'application/json'), (b'Transfer-Encoding', b'chunked'), (b'Connection', b'keep-alive'), (b'access-control-expose-headers', b'X-Request-ID'), (b'openai-organization', b'user-ic25pcewdjuowsz9q2ektvrn'), (b'openai-processing-ms', b'5900'), (b'openai-version', b'2020-10-01'), (b'x-ratelimit-limit-requests', b'10000'), (b'x-ratelimit-limit-tokens', b'200000'), (b'x-ratelimit-remaining-requests', b'9999'), (b'x-ratelimit-remaining-tokens', b'196778'), (b'x-ratelimit-reset-requests', b'8.64s'), (b'x-ratelimit-reset-tokens', b'966ms'), (b'x-request-id', b'req_22555e5b5a18534aa27b6d6e8f39f17c'), (b'strict-transport-security', b'max-age=31536000; includeSubDomains; preload'), (b'cf-cache-status', b'DYNAMIC'), (b'Set-Cookie', b'__cf_bm=L4kxk9BNZSqMKXNEf6SfD2ZGmnDiiJHJJ_zCYBtAFgg-1746552093-1.0.1.1-C2wDd2TyfuWBPK7QfZ3KqakzVfW6WjUprWihAqSKtA4nOE82LVPqSZsQgcNXb17nN.1XOwoVAHokoZpTZV8BnKnTjiEXRYZ21pYe.UO4x4Q; path=/; expires=Tue, 06-May-25 17:51:33 GMT; domain=.api.openai.com; HttpOnly; Secure; SameSite=None'), (b'X-Content-Type-Options', b'nosniff'), (b'Set-Cookie', b'_cfuvid=_ga.xQO8g3Xm5KNKfFlVjkJJv1XCgow.zovEM7J8g9w-1746552093088-0.0.1.1-604800000; path=/; domain=.api.openai.com; HttpOnly; Secure; SameSite=None'), (b'Server', b'cloudflare'), (b'CF-RAY', b'93ba276c6e3af774-MAD'), (b'Content-Encoding', b'gzip'), (b'alt-svc', b'h3=\":443\"; ma=86400')])\n",
      "INFO:httpx:HTTP Request: POST https://api.openai.com/v1/chat/completions \"HTTP/1.1 200 OK\"\n",
      "DEBUG:httpcore.http11:receive_response_body.started request=<Request [b'POST']>\n",
      "DEBUG:httpcore.http11:receive_response_body.complete\n",
      "DEBUG:httpcore.http11:response_closed.started\n",
      "DEBUG:httpcore.http11:response_closed.complete\n",
      "DEBUG:openai._base_client:HTTP Response: POST https://api.openai.com/v1/chat/completions \"200 OK\" Headers([('date', 'Tue, 06 May 2025 17:21:33 GMT'), ('content-type', 'application/json'), ('transfer-encoding', 'chunked'), ('connection', 'keep-alive'), ('access-control-expose-headers', 'X-Request-ID'), ('openai-organization', 'user-ic25pcewdjuowsz9q2ektvrn'), ('openai-processing-ms', '5900'), ('openai-version', '2020-10-01'), ('x-ratelimit-limit-requests', '10000'), ('x-ratelimit-limit-tokens', '200000'), ('x-ratelimit-remaining-requests', '9999'), ('x-ratelimit-remaining-tokens', '196778'), ('x-ratelimit-reset-requests', '8.64s'), ('x-ratelimit-reset-tokens', '966ms'), ('x-request-id', 'req_22555e5b5a18534aa27b6d6e8f39f17c'), ('strict-transport-security', 'max-age=31536000; includeSubDomains; preload'), ('cf-cache-status', 'DYNAMIC'), ('set-cookie', '__cf_bm=L4kxk9BNZSqMKXNEf6SfD2ZGmnDiiJHJJ_zCYBtAFgg-1746552093-1.0.1.1-C2wDd2TyfuWBPK7QfZ3KqakzVfW6WjUprWihAqSKtA4nOE82LVPqSZsQgcNXb17nN.1XOwoVAHokoZpTZV8BnKnTjiEXRYZ21pYe.UO4x4Q; path=/; expires=Tue, 06-May-25 17:51:33 GMT; domain=.api.openai.com; HttpOnly; Secure; SameSite=None'), ('x-content-type-options', 'nosniff'), ('set-cookie', '_cfuvid=_ga.xQO8g3Xm5KNKfFlVjkJJv1XCgow.zovEM7J8g9w-1746552093088-0.0.1.1-604800000; path=/; domain=.api.openai.com; HttpOnly; Secure; SameSite=None'), ('server', 'cloudflare'), ('cf-ray', '93ba276c6e3af774-MAD'), ('content-encoding', 'gzip'), ('alt-svc', 'h3=\":443\"; ma=86400')])\n",
      "DEBUG:openai._base_client:request_id: req_22555e5b5a18534aa27b6d6e8f39f17c\n"
     ]
    },
    {
     "name": "stdout",
     "output_type": "stream",
     "text": [
      "DEBUG (Perfil) ► Respuesta llm_solo_perfil: preferencias_usuario=PerfilUsuario(altura_mayor_190='sí', peso_mayor_100='no', uso_profesional=None, valora_estetica=None, solo_electricos=None, transmision_preferida=None, apasionado_motor=None, aventura=None) tipo_mensaje='PREGUNTA' contenido_mensaje='¿Usarás el coche para trabajo o para uso personal y familiar?'\n",
      "DEBUG (Perfil) ► Preferencias TRAS post-procesamiento: altura_mayor_190='sí' peso_mayor_100='no' uso_profesional=None valora_estetica=None solo_electricos=None transmision_preferida=None apasionado_motor=None aventura=None\n",
      "DEBUG (Perfil) ► Estado preferencias_usuario actualizado: altura_mayor_190='sí' peso_mayor_100='no' uso_profesional=None valora_estetica=None solo_electricos=None transmision_preferida=None apasionado_motor=None aventura=None\n",
      "DEBUG (Perfil) ► Guardando mensaje pendiente: ¿Usarás el coche para trabajo o para uso personal y familiar?\n",
      "--- Ejecutando Nodo: validar_preferencias_node ---\n",
      "--- DEBUG CHECK PERFIL ---\n",
      "Input prefs object: altura_mayor_190='sí' peso_mayor_100='no' uso_profesional=None valora_estetica=None solo_electricos=None transmision_preferida=None apasionado_motor=None aventura=None\n",
      "Input prefs type: <class 'graph.perfil.state.PerfilUsuario'>\n",
      "Checking field 'altura_mayor_190': value='sí', type=<class 'str'>\n",
      "Checking field 'peso_mayor_100': value='no', type=<class 'str'>\n",
      "Checking field 'uso_profesional': value='None', type=<class 'NoneType'>\n",
      "DEBUG (Validation Perfil) ► Campo 'uso_profesional' está vacío/None.\n",
      "DEBUG (Perfil) ► Validación: PerfilUsuario considerado INCOMPLETO.\n",
      "--- Evaluando Condición: ruta_decision_perfil ---\n",
      "DEBUG (Condición Perfil) ► Estado 'preferencias_usuario' recibido: altura_mayor_190='sí' peso_mayor_100='no' uso_profesional=None valora_estetica=None solo_electricos=None transmision_preferida=None apasionado_motor=None aventura=None\n",
      "DEBUG (Condición Perfil) ► Tipo de 'preferencias_usuario': <class 'graph.perfil.state.PerfilUsuario'>\n",
      "--- DEBUG CHECK PERFIL ---\n",
      "Input prefs object: altura_mayor_190='sí' peso_mayor_100='no' uso_profesional=None valora_estetica=None solo_electricos=None transmision_preferida=None apasionado_motor=None aventura=None\n",
      "Input prefs type: <class 'graph.perfil.state.PerfilUsuario'>\n",
      "Checking field 'altura_mayor_190': value='sí', type=<class 'str'>\n",
      "Checking field 'peso_mayor_100': value='no', type=<class 'str'>\n",
      "Checking field 'uso_profesional': value='None', type=<class 'NoneType'>\n",
      "DEBUG (Validation Perfil) ► Campo 'uso_profesional' está vacío/None.\n",
      "DEBUG (Condición Perfil) ► Perfil INCOMPLETO. Se necesita pregunta.\n",
      "--- Ejecutando Nodo: preguntar_preferencias_node ---\n",
      "DEBUG (Preguntar Perfil) ► Usando mensaje pendiente: ¿Usarás el coche para trabajo o para uso personal y familiar?\n",
      "DEBUG (Preguntar Perfil) ► Mensaje final añadido: ¿Usarás el coche para trabajo o para uso personal y familiar?\n",
      "==================================\u001b[1m Ai Message \u001b[0m==================================\n",
      "\n",
      "¿Usarás el coche para trabajo o para uso personal y familiar?\n"
     ]
    },
    {
     "name": "stderr",
     "output_type": "stream",
     "text": [
      "DEBUG:urllib3.connectionpool:https://eu.api.smith.langchain.com:443 \"POST /runs/multipart HTTP/1.1\" 202 34\n",
      "DEBUG:urllib3.connectionpool:https://eu.api.smith.langchain.com:443 \"POST /runs/multipart HTTP/1.1\" 202 34\n",
      "DEBUG:urllib3.connectionpool:https://eu.api.smith.langchain.com:443 \"POST /runs/multipart HTTP/1.1\" 202 34\n",
      "DEBUG:urllib3.connectionpool:https://eu.api.smith.langchain.com:443 \"POST /runs/multipart HTTP/1.1\" 202 34\n",
      "DEBUG:urllib3.connectionpool:https://eu.api.smith.langchain.com:443 \"POST /runs/multipart HTTP/1.1\" 202 34\n",
      "DEBUG:urllib3.connectionpool:https://eu.api.smith.langchain.com:443 \"POST /runs/multipart HTTP/1.1\" 202 34\n",
      "DEBUG:urllib3.connectionpool:https://eu.api.smith.langchain.com:443 \"POST /runs/multipart HTTP/1.1\" 202 34\n",
      "DEBUG:urllib3.connectionpool:https://eu.api.smith.langchain.com:443 \"POST /runs/multipart HTTP/1.1\" 202 34\n",
      "DEBUG:urllib3.connectionpool:https://eu.api.smith.langchain.com:443 \"POST /runs/multipart HTTP/1.1\" 202 34\n",
      "DEBUG:urllib3.connectionpool:https://eu.api.smith.langchain.com:443 \"POST /runs/multipart HTTP/1.1\" 202 34\n",
      "DEBUG:urllib3.connectionpool:https://eu.api.smith.langchain.com:443 \"POST /runs/multipart HTTP/1.1\" 202 34\n",
      "DEBUG:urllib3.connectionpool:https://eu.api.smith.langchain.com:443 \"POST /runs/multipart HTTP/1.1\" 202 34\n",
      "DEBUG:urllib3.connectionpool:https://eu.api.smith.langchain.com:443 \"POST /runs/multipart HTTP/1.1\" 202 34\n",
      "DEBUG:urllib3.connectionpool:https://eu.api.smith.langchain.com:443 \"POST /runs/multipart HTTP/1.1\" 202 34\n",
      "DEBUG:urllib3.connectionpool:https://eu.api.smith.langchain.com:443 \"POST /runs/multipart HTTP/1.1\" 202 34\n",
      "DEBUG:urllib3.connectionpool:https://eu.api.smith.langchain.com:443 \"POST /runs/multipart HTTP/1.1\" 202 34\n",
      "DEBUG:urllib3.connectionpool:https://eu.api.smith.langchain.com:443 \"POST /runs/multipart HTTP/1.1\" 202 34\n",
      "DEBUG:urllib3.connectionpool:https://eu.api.smith.langchain.com:443 \"POST /runs/multipart HTTP/1.1\" 202 34\n",
      "DEBUG:urllib3.connectionpool:https://eu.api.smith.langchain.com:443 \"POST /runs/multipart HTTP/1.1\" 202 34\n",
      "DEBUG:urllib3.connectionpool:https://eu.api.smith.langchain.com:443 \"POST /runs/multipart HTTP/1.1\" 202 34\n",
      "DEBUG:urllib3.connectionpool:https://eu.api.smith.langchain.com:443 \"POST /runs/multipart HTTP/1.1\" 202 34\n",
      "DEBUG:urllib3.connectionpool:https://eu.api.smith.langchain.com:443 \"POST /runs/multipart HTTP/1.1\" 202 34\n",
      "DEBUG:urllib3.connectionpool:https://eu.api.smith.langchain.com:443 \"POST /runs/multipart HTTP/1.1\" 202 34\n",
      "DEBUG:urllib3.connectionpool:https://eu.api.smith.langchain.com:443 \"POST /runs/multipart HTTP/1.1\" 202 34\n",
      "DEBUG:urllib3.connectionpool:https://eu.api.smith.langchain.com:443 \"POST /runs/multipart HTTP/1.1\" 202 34\n",
      "DEBUG:urllib3.connectionpool:https://eu.api.smith.langchain.com:443 \"POST /runs/multipart HTTP/1.1\" 202 34\n",
      "DEBUG:urllib3.connectionpool:https://eu.api.smith.langchain.com:443 \"POST /runs/multipart HTTP/1.1\" 202 34\n",
      "DEBUG:urllib3.connectionpool:https://eu.api.smith.langchain.com:443 \"POST /runs/multipart HTTP/1.1\" 202 34\n",
      "DEBUG:urllib3.connectionpool:https://eu.api.smith.langchain.com:443 \"POST /runs/multipart HTTP/1.1\" 202 34\n",
      "DEBUG:urllib3.connectionpool:https://eu.api.smith.langchain.com:443 \"POST /runs/multipart HTTP/1.1\" 202 34\n"
     ]
    }
   ],
   "source": [
    "# Create a thread\n",
    "config = {\"configurable\": {\"thread_id\": \"2\"}}\n",
    "\n",
    "# Start conversation\n",
    "input_message = HumanMessage(content=\"Quiero un coche mido 1.93. Peso 80 kg\")\n",
    "output = graph.invoke({\"messages\": [input_message]}, config) \n",
    "for m in output['messages'][-1:]:\n",
    "    m.pretty_print()"
   ]
  },
  {
   "cell_type": "code",
   "execution_count": null,
   "metadata": {},
   "outputs": [],
   "source": [
    "print(output['preferencias_usuario'])\n",
    "print('---------------------------------------------------------------------')\n",
    "print(output['filtros_inferidos'])\n"
   ]
  },
  {
   "cell_type": "code",
   "execution_count": 4,
   "metadata": {},
   "outputs": [
    {
     "name": "stderr",
     "output_type": "stream",
     "text": [
      "DEBUG:openai._base_client:Request options: {'method': 'post', 'url': '/chat/completions', 'headers': {'X-Stainless-Helper-Method': 'beta.chat.completions.parse'}, 'files': None, 'post_parser': <function Completions.parse.<locals>.parser at 0x107450f40>, 'json_data': {'messages': [{'content': '<Role>\\nEres un asistente de conversación amigable y metodológico. Tu misión actual es conocer las preferencias generales y el perfil básico de un usuario que busca un coche (`PerfilUsuario`). Tu salida SIEMPRE debe ser un objeto JSON válido que cumpla el esquema `ResultadoSoloPerfil`.\\n</Role>\\n\\n<Esquema_JSON_Requerido>\\nLa estructura JSON que DEBES generar es la siguiente:\\n```json\\n{{\\n  \"$defs\": {{\\n    \"NivelAventura\": {{\\n      \"enum\": [\\n        \"ninguna\",\\n        \"ocasional\",\\n        \"extrema\"\\n      ],\\n      \"title\": \"NivelAventura\",\\n      \"type\": \"string\"\\n    }},\\n    \"PerfilUsuario\": {{\\n      \"properties\": {{\\n        \"altura_mayor_190\": {{\\n          \"anyOf\": [\\n            {{\\n              \"type\": \"string\"\\n            }},\\n            {{\\n              \"type\": \"null\"\\n            }}\\n          ],\\n          \"default\": null,\\n          \"description\": \"¿El usuario mide más de 1.90 metros? Responde \\'sí\\' o \\'no\\'\",\\n          \"title\": \"Altura Mayor 190\"\\n        }},\\n        \"peso_mayor_100\": {{\\n          \"anyOf\": [\\n            {{\\n              \"type\": \"string\"\\n            }},\\n            {{\\n              \"type\": \"null\"\\n            }}\\n          ],\\n          \"default\": null,\\n          \"description\": \"¿El usuario pesa más de 100 kg? Responde \\'sí\\' o \\'no\\'\",\\n          \"title\": \"Peso Mayor 100\"\\n        }},\\n        \"uso_profesional\": {{\\n          \"anyOf\": [\\n            {{\\n              \"type\": \"string\"\\n            }},\\n            {{\\n              \"type\": \"null\"\\n            }}\\n          ],\\n          \"default\": null,\\n          \"description\": \"¿Usará el coche para trabajo? Responde \\'sí\\' o \\'no\\'\",\\n          \"title\": \"Uso Profesional\"\\n        }},\\n        \"valora_estetica\": {{\\n          \"anyOf\": [\\n            {{\\n              \"type\": \"string\"\\n            }},\\n            {{\\n              \"type\": \"null\"\\n            }}\\n          ],\\n          \"default\": null,\\n          \"description\": \"¿Valora la estética del coche? Responde \\'sí\\' o \\'no\\'\",\\n          \"title\": \"Valora Estetica\"\\n        }},\\n        \"solo_electricos\": {{\\n          \"anyOf\": [\\n            {{\\n              \"type\": \"string\"\\n            }},\\n            {{\\n              \"type\": \"null\"\\n            }}\\n          ],\\n          \"default\": null,\\n          \"description\": \"¿Quiere solo coches eléctricos? Responde \\'sí\\' o \\'no\\'\",\\n          \"title\": \"Solo Electricos\"\\n        }},\\n        \"transmision_preferida\": {{\\n          \"anyOf\": [\\n            {{\\n              \"$ref\": \"#/$defs/Transmision\"\\n            }},\\n            {{\\n              \"type\": \"null\"\\n            }}\\n          ],\\n          \"default\": null,\\n          \"description\": \"¿Qué transmisión prefieres: automático, manual o ambos?\"\\n        }},\\n        \"apasionado_motor\": {{\\n          \"anyOf\": [\\n            {{\\n              \"type\": \"string\"\\n            }},\\n            {{\\n              \"type\": \"null\"\\n            }}\\n          ],\\n          \"default\": null,\\n          \"description\": \"¿Eres un apasionado/a del motor y/o la movilidad? Responde \\'sí\\' o \\'no\\'\",\\n          \"title\": \"Apasionado Motor\"\\n        }},\\n        \"aventura\": {{\\n          \"anyOf\": [\\n            {{\\n              \"$ref\": \"#/$defs/NivelAventura\"\\n            }},\\n            {{\\n              \"type\": \"null\"\\n            }}\\n          ],\\n          \"default\": null,\\n          \"description\": \"¿Qué nivel de aventura buscas con tu vehículo: \\'ninguna\\', \\'ocasional\\' o \\'extrema\\'?\"\\n        }}\\n      }},\\n      \"title\": \"PerfilUsuario\",\\n      \"type\": \"object\"\\n    }},\\n    \"Transmision\": {{\\n      \"enum\": [\\n        \"automático\",\\n        \"manual\",\\n        \"ambos\"\\n      ],\\n      \"title\": \"Transmision\",\\n      \"type\": \"string\"\\n    }}\\n  }},\\n  \"description\": \"Salida esperada del LLM enfocado solo en el perfil del usuario.\",\\n  \"properties\": {{\\n    \"preferencias_usuario\": {{\\n      \"$ref\": \"#/$defs/PerfilUsuario\",\\n      \"description\": \"Objeto con las preferencias del usuario actualizadas o inferidas.\"\\n    }},\\n    \"tipo_mensaje\": {{\\n      \"description\": \"Clasificación del mensaje: \\'PREGUNTA\\' si se necesita más info de perfil, \\'CONFIRMACION\\' si el perfil parece completo o se confirma un dato, \\'ERROR\\' si hubo un problema irresoluble.\",\\n      \"enum\": [\\n        \"PREGUNTA\",\\n        \"CONFIRMACION\",\\n        \"ERROR\"\\n      ],\\n      \"title\": \"Tipo Mensaje\",\\n      \"type\": \"string\"\\n    }},\\n    \"contenido_mensaje\": {{\\n      \"description\": \"El texto real del mensaje: la pregunta específica, la confirmación, o el detalle del error.\",\\n      \"title\": \"Contenido Mensaje\",\\n      \"type\": \"string\"\\n    }}\\n  }},\\n  \"required\": [\\n    \"preferencias_usuario\",\\n    \"tipo_mensaje\",\\n    \"contenido_mensaje\"\\n  ],\\n  \"title\": \"ResultadoSoloPerfil\",\\n  \"type\": \"object\"\\n}}\\n</Esquema_JSON_Requerido>\\n\\n<Instrucciones_Generales_y_Salida_JSON>\\n\\nLos 8 campos OBLIGATORIOS del `PerfilUsuario` que debes intentar completar son:\\n1.  `altura_mayor_190` (string: \\'sí\\' o \\'no\\')\\n2.  `peso_mayor_100` (string: \\'sí\\' o \\'no\\')\\n3.  `uso_profesional` (string: \\'sí\\' o \\'no\\')\\n4.  `valora_estetica` (string: \\'sí\\' o \\'no\\')\\n5.  `solo_electricos` (string: \\'sí\\' o \\'no\\')\\n6.  `transmision_preferida` (enum: \\'automático\\', \\'manual\\', \\'ambos\\')\\n7.  `apasionado_motor` (string: \\'sí\\' o \\'no\\')\\n8.  `aventura` (enum: \\'ninguna\\', \\'ocasional\\', \\'extrema\\') - IMPORTANTE: Para el campo `aventura`, NO infieras un valor por defecto como \\'ninguna\\' a menos que el usuario lo indique muy explícitamente. Si no hay información clara sobre el nivel de aventura, deja `aventura` como `null`.\\n\\n\\nUna vez que hayas construido el objeto `preferencias_usuario` con la información más actualizada, determina `tipo_mensaje` y `contenido_mensaje` aplicando ESTRICTAMENTE las siguientes reglas en orden:\\n\\n**Regla 1: Inicio de Conversación (Primer Turno)**\\n* Si el historial de conversación solo contiene el primer mensaje del usuario (es decir, estás en el primer turno de recopilación de perfil):\\n    * `tipo_mensaje` DEBE ser `\"PREGUNTA\"`.\\n    * `contenido_mensaje` DEBE incluir un saludo amigable (ej: \"¡Hola! Soy Mentor, tu asistente para encontrar el coche ideal.\") seguido de una pregunta para el primer campo del perfil que desees obtener. Puedes usar una de las plantillas de `<Guias_Preguntas_Perfil>` (por ejemplo, para `altura_mayor_190` o `aventura`).\\n\\n**Regla 2: Perfil Incompleto (Continuación de la Recopilación)**\\n* Después de procesar la última respuesta del usuario y actualizar `preferencias_usuario`, verifica si CUALQUIERA de los 8 campos listados arriba sigue siendo `null`.\\n* **Si UNO O MÁS de los 8 campos son `null`:**\\n    * `tipo_mensaje` DEBE ser `\"PREGUNTA\"`.\\n    * En `contenido_mensaje`, formula UNA SOLA PREGUNTA clara y concisa para obtener información para el PRIMER campo de la lista de 8 que todavía sea `null`, siguiendo un orden de prioridad si lo deseas (p.ej., `uso_profesional`, luego `valora_estetica`, etc.). Utiliza las guías y plantillas de `<Guias_Preguntas_Perfil>`. Intenta variar la formulación para que la conversación sea natural.\\n\\n**Regla 3: Perfil Completado (Todos los Campos Rellenos)**\\n* **SOLO Y EXCLUSIVAMENTE SI TODOS y CADA UNO de los 8 campos listados arriba tienen un valor válido (es decir, NO son `null`)** en el objeto `preferencias_usuario` que has construido:\\n    * `tipo_mensaje` DEBE ser `\"CONFIRMACION\"`.\\n    * En `contenido_mensaje`, pon una confirmación breve y amigable que indique que se ha recopilado toda la información del perfil. Ejemplos: \"¡Perfecto! Ya tenemos tus preferencias principales.\", \"Entendido. Hemos completado tu perfil de preferencias.\", \"¡Genial! Con esto tenemos toda la información de tu perfil.\".\\n    * Asegúrate de que el objeto `preferencias_usuario` en tu salida JSON esté completamente relleno con todos los valores recopilados.\\n\\n**Regla 4: Manejo de Errores**\\n* Si encuentras un problema irresoluble al procesar la información o al intentar generar el JSON, `tipo_mensaje` debe ser `\"ERROR\"` y `contenido_mensaje` debe ser una breve explicación del error.\\n\\n**Directrices Adicionales Importantes:**\\n* **No Inventes Valores:** Es crucial que no asignes valores a `preferencias_usuario` que no se mencionen explícitamente o no se puedan inferir con muy alta certeza de la conversación. En caso de duda, deja el campo como `null` y sigue la Regla 2 para preguntar.\\n* **Enfoque Estricto:** Mantén el enfoque estrictamente en completar los 8 campos de `PerfilUsuario`. NO preguntes ni menciones temas fuera de estos (como precio, características técnicas detalladas, número de pasajeros, etc.) durante esta fase.\\n\\n</Instrucciones_Generales_y_Salida_JSON>\\n\\n<Guias_Preguntas_Perfil>\\n\\nCuando necesites preguntar por uno de estos campos (tipo_mensaje=\\'PREGUNTA\\'), aquí tienes ejemplos de cómo puedes formular la pregunta de forma clara y amigable. Intenta variar la formulación para que la conversación sea más natural, pero asegúrate de que el usuario entienda qué información necesitas:\\naltura_mayor_190:\\n• \"¿Mides más de 1.90 m?\"\\n• \"Para recomendarte un vehículo con espacio adecuado, ¿tu altura supera los 1.90 metros?\"\\npeso_mayor_100:\\n• \"¿Pesas más de 100 kg?\"\\n• \"Para garantizar tu máxima comodidad, ¿tienes un peso superior a 100 kg?\"\\naventura: Usa uno de los <Aventura_Templates>\\n<Aventura_Templates>\\n  • Template 1: \"Hablando de aventura, ¿con cuál de estas afirmaciones te identificas más?\\\\n 1) No pisas nada que no sea asfalto (ninguna)\\\\n 2) Salidas fuera de asfalto ocasionales (ocasional)\\\\n 3) Circular en condiciones duras con total garantía (extrema)\"\\n  • Template 2: \"Para conocer tu espíritu aventurero, dime que prefieres:\\\\n 1) Solo asfalto (ninguna)\\\\n 2) Salidas off‑road de vez en cuando (ocasional)\\\\n 3) Aventurero extremo en terrenos difíciles (extrema)\"\\n  • Template 3: \"Respecto a tus planes de conducción:\\\\n 1) Siempre en carreteras pavimentadas (ninguna)\\\\n 2) A veces me gusta explorar caminos rurales o de tierra (ocasional)\\\\n 3) Necesito un vehículo capaz de enfrentar terrenos realmente desafiantes (extrema)\"\\n  • Template 4: \"Cuéntame sobre tus hábitos de conducción:\\\\n 1) Me mantengo en vías urbanas y autopistas (ninguna)\\\\n 2) De vez en cuando me aventuro por caminos no asfaltados (ocasional)\\\\n 3) Busco regularmente retos off-road y condiciones extremas (extrema)\" \\n</Aventura_Templates> \\nuso_profesional:\\n• \"¿El coche lo destinaras principalmente para uso personal o más para fines profesionales (trabajo)?\"\\n• \"¿Utilizarás el vehículo principalmente para trabajo o para uso personal y familiar?\"\\nvalora_estetica:\\n• \"¿Valoras especialmente la estética del coche ?\"\\n• \"¿Es importante para ti el diseño y la apariencia del vehículo?\"\\nsolo_electricos:\\n• \"¿Quieres solo coches eléctricos?\"\\n• \"¿Estás interesado exclusivamente en vehículos con motorización eléctrica o consideras otras opciones?\"\\ntransmision_preferida:\\n• \"¿Qué tipo de transmisión prefieres?\\\\n 1) Automático\\\\n 2) Manual\\\\n 3) Ambos\"\\n• \"En cuanto a la transmisión, ¿qué opción se ajusta mejor a tus preferencias?\\\\n 1) Automático\\\\n 2) Manual\\\\n 3) Ambos, puedo considerar ambas opciones\"\\napasionado_motor:\\n• \"¿Eres un apasionado del mundo automotriz?\"\\n• \"¿Te consideras una persona entusiasta del mundo del motor y la tecnología automotriz?\"\\n\\n</Guias_Preguntas_Perfil>\\n\\n<Ejemplos_Perfil>\\n\\nEjemplo 1: Inicio -> PREGUNTA (Con Saludo)\\nContexto: [HumanMessage(content=\\'Busco coche\\')]\\n{{\\n  \"preferencias_usuario\": {{ ... todos null ... }},\\n  \"tipo_mensaje\": \"PREGUNTA\", \\n  \"contenido_mensaje\": \"¡Hola! Soy Mentor, tu asistente para encontrar el coche ideal. Para empezar, hablando de aventura, ¿con cuál de estas afirmaciones te identificas más?\\\\n  1) No pisas nada que no sea asfalto (ninguna)\\\\n  2) Salidas fuera de asfalto ocasionales (ocasional)\\\\n  3) Circular en condiciones duras con total garantía (extrema)\"\\n}}\\n\\nEjemplo 2: Información parcial -> PREGUNTA (Solo una pregunta)\\n\\nContexto: [..., HumanMessage(content=\\'Será automático y solo asfalto.\\')]\\nSalida JSON Esperada:\\n{{\\n  \"preferencias_usuario\": {{ ... transmision_preferida=\"automatico\", aventura=\"ninguna\", resto null ... }},\\n  \"tipo_mensaje\": \"PREGUNTA\",\\n  \"contenido_mensaje\": \"¿Mides más de 1.90 m?\" // Pregunta solo por el siguiente campo faltante (ej: altura)\\n}}\\nEjemplo 3: Información completa -> CONFIRMACION\\n\\nContexto: [..., HumanMessage(content=\\'No soy apasionado del motor.\\')] // Asume que esta era la última respuesta necesaria\\nSalida JSON Esperada:\\n{{\\n  \"preferencias_usuario\": {{ ... todo relleno correctamente ... }},\\n  \"tipo_mensaje\": \"CONFIRMACION\",\\n  \"contenido_mensaje\": \"¡Perfecto! Ya tenemos tus preferencias principales.\" \\n}}\\n</Ejemplos_Perfil>\\n\\n<Formato_Salida_JSON_Final>\\nGenera únicamente el objeto JSON completo y válido solicitado que cumpla el esquema ResultadoSoloPerfil.\\n{{ \\n  \"preferencias_usuario\": {{ ... }},\\n  \"tipo_mensaje\": \"<\\'PREGUNTA\\' o \\'CONFIRMACION\\' o \\'ERROR\\'>\",\\n  \"contenido_mensaje\": \"<string>\"\\n}}', 'role': 'user'}, {'content': 'Quiero un coche mido 1.93. Peso 80 kg', 'role': 'user'}, {'content': '¿Usarás el coche para trabajo o para uso personal y familiar?', 'role': 'assistant'}, {'content': 'para uso personal', 'role': 'user'}], 'model': 'gpt-4o-mini', 'response_format': {'type': 'json_schema', 'json_schema': {'schema': {'$defs': {'NivelAventura': {'enum': ['ninguna', 'ocasional', 'extrema'], 'title': 'NivelAventura', 'type': 'string'}, 'PerfilUsuario': {'properties': {'altura_mayor_190': {'anyOf': [{'type': 'string'}, {'type': 'null'}], 'description': \"¿El usuario mide más de 1.90 metros? Responde 'sí' o 'no'\", 'title': 'Altura Mayor 190'}, 'peso_mayor_100': {'anyOf': [{'type': 'string'}, {'type': 'null'}], 'description': \"¿El usuario pesa más de 100 kg? Responde 'sí' o 'no'\", 'title': 'Peso Mayor 100'}, 'uso_profesional': {'anyOf': [{'type': 'string'}, {'type': 'null'}], 'description': \"¿Usará el coche para trabajo? Responde 'sí' o 'no'\", 'title': 'Uso Profesional'}, 'valora_estetica': {'anyOf': [{'type': 'string'}, {'type': 'null'}], 'description': \"¿Valora la estética del coche? Responde 'sí' o 'no'\", 'title': 'Valora Estetica'}, 'solo_electricos': {'anyOf': [{'type': 'string'}, {'type': 'null'}], 'description': \"¿Quiere solo coches eléctricos? Responde 'sí' o 'no'\", 'title': 'Solo Electricos'}, 'transmision_preferida': {'anyOf': [{'$ref': '#/$defs/Transmision'}, {'type': 'null'}], 'description': '¿Qué transmisión prefieres: automático, manual o ambos?'}, 'apasionado_motor': {'anyOf': [{'type': 'string'}, {'type': 'null'}], 'description': \"¿Eres un apasionado/a del motor y/o la movilidad? Responde 'sí' o 'no'\", 'title': 'Apasionado Motor'}, 'aventura': {'anyOf': [{'$ref': '#/$defs/NivelAventura'}, {'type': 'null'}], 'description': \"¿Qué nivel de aventura buscas con tu vehículo: 'ninguna', 'ocasional' o 'extrema'?\"}}, 'title': 'PerfilUsuario', 'type': 'object', 'additionalProperties': False, 'required': ['altura_mayor_190', 'peso_mayor_100', 'uso_profesional', 'valora_estetica', 'solo_electricos', 'transmision_preferida', 'apasionado_motor', 'aventura']}, 'Transmision': {'enum': ['automático', 'manual', 'ambos'], 'title': 'Transmision', 'type': 'string'}}, 'description': 'Salida esperada del LLM enfocado solo en el perfil del usuario.', 'properties': {'preferencias_usuario': {'description': 'Objeto con las preferencias del usuario actualizadas o inferidas.', 'properties': {'altura_mayor_190': {'anyOf': [{'type': 'string'}, {'type': 'null'}], 'description': \"¿El usuario mide más de 1.90 metros? Responde 'sí' o 'no'\", 'title': 'Altura Mayor 190'}, 'peso_mayor_100': {'anyOf': [{'type': 'string'}, {'type': 'null'}], 'description': \"¿El usuario pesa más de 100 kg? Responde 'sí' o 'no'\", 'title': 'Peso Mayor 100'}, 'uso_profesional': {'anyOf': [{'type': 'string'}, {'type': 'null'}], 'description': \"¿Usará el coche para trabajo? Responde 'sí' o 'no'\", 'title': 'Uso Profesional'}, 'valora_estetica': {'anyOf': [{'type': 'string'}, {'type': 'null'}], 'description': \"¿Valora la estética del coche? Responde 'sí' o 'no'\", 'title': 'Valora Estetica'}, 'solo_electricos': {'anyOf': [{'type': 'string'}, {'type': 'null'}], 'description': \"¿Quiere solo coches eléctricos? Responde 'sí' o 'no'\", 'title': 'Solo Electricos'}, 'transmision_preferida': {'anyOf': [{'$ref': '#/$defs/Transmision'}, {'type': 'null'}], 'description': '¿Qué transmisión prefieres: automático, manual o ambos?'}, 'apasionado_motor': {'anyOf': [{'type': 'string'}, {'type': 'null'}], 'description': \"¿Eres un apasionado/a del motor y/o la movilidad? Responde 'sí' o 'no'\", 'title': 'Apasionado Motor'}, 'aventura': {'anyOf': [{'$ref': '#/$defs/NivelAventura'}, {'type': 'null'}], 'description': \"¿Qué nivel de aventura buscas con tu vehículo: 'ninguna', 'ocasional' o 'extrema'?\"}}, 'title': 'PerfilUsuario', 'type': 'object', 'additionalProperties': False, 'required': ['altura_mayor_190', 'peso_mayor_100', 'uso_profesional', 'valora_estetica', 'solo_electricos', 'transmision_preferida', 'apasionado_motor', 'aventura']}, 'tipo_mensaje': {'description': \"Clasificación del mensaje: 'PREGUNTA' si se necesita más info de perfil, 'CONFIRMACION' si el perfil parece completo o se confirma un dato, 'ERROR' si hubo un problema irresoluble.\", 'enum': ['PREGUNTA', 'CONFIRMACION', 'ERROR'], 'title': 'Tipo Mensaje', 'type': 'string'}, 'contenido_mensaje': {'description': 'El texto real del mensaje: la pregunta específica, la confirmación, o el detalle del error.', 'title': 'Contenido Mensaje', 'type': 'string'}}, 'required': ['preferencias_usuario', 'tipo_mensaje', 'contenido_mensaje'], 'title': 'ResultadoSoloPerfil', 'type': 'object', 'additionalProperties': False}, 'name': 'ResultadoSoloPerfil', 'strict': True}}, 'stream': False, 'temperature': 0.2}}\n",
      "DEBUG:openai._base_client:Sending HTTP Request: POST https://api.openai.com/v1/chat/completions\n",
      "DEBUG:httpcore.connection:close.started\n",
      "DEBUG:httpcore.connection:close.complete\n",
      "DEBUG:httpcore.connection:connect_tcp.started host='api.openai.com' port=443 local_address=None timeout=None socket_options=None\n",
      "DEBUG:httpcore.connection:connect_tcp.complete return_value=<httpcore._backends.sync.SyncStream object at 0x122931210>\n",
      "DEBUG:httpcore.connection:start_tls.started ssl_context=<ssl.SSLContext object at 0x1072c4e60> server_hostname='api.openai.com' timeout=None\n",
      "DEBUG:httpcore.connection:start_tls.complete return_value=<httpcore._backends.sync.SyncStream object at 0x115908a10>\n",
      "DEBUG:httpcore.http11:send_request_headers.started request=<Request [b'POST']>\n",
      "DEBUG:httpcore.http11:send_request_headers.complete\n",
      "DEBUG:httpcore.http11:send_request_body.started request=<Request [b'POST']>\n",
      "DEBUG:httpcore.http11:send_request_body.complete\n",
      "DEBUG:httpcore.http11:receive_response_headers.started request=<Request [b'POST']>\n"
     ]
    },
    {
     "name": "stdout",
     "output_type": "stream",
     "text": [
      "--- Ejecutando Nodo: route_based_on_state_node ---\n",
      "\n",
      "--- DEBUG: Evaluating Routing Decision ---\n",
      "--- DEBUG CHECK PERFIL ---\n",
      "Input prefs object: altura_mayor_190='sí' peso_mayor_100='no' uso_profesional=None valora_estetica=None solo_electricos=None transmision_preferida=None apasionado_motor=None aventura=None\n",
      "Input prefs type: <class 'graph.perfil.state.PerfilUsuario'>\n",
      "Checking field 'altura_mayor_190': value='sí', type=<class 'str'>\n",
      "Checking field 'peso_mayor_100': value='no', type=<class 'str'>\n",
      "Checking field 'uso_profesional': value='None', type=<class 'NoneType'>\n",
      "DEBUG (Validation Perfil) ► Campo 'uso_profesional' está vacío/None.\n",
      "DEBUG Router: Prefs OK? False\n",
      "--- DEBUG CHECK PASAJEROS ---\n",
      "Input info pasajeros: None\n",
      "DEBUG (Validation Pasajeros) ► Objeto InfoPasajeros es None.\n",
      "DEBUG Router: Pasajeros OK? False\n",
      "DEBUG (Validation Filtros) ► Objeto FiltrosInferidos es None.\n",
      "DEBUG Router: Filtros OK? False\n",
      "--- DEBUG CHECK ECONOMIA (Manual) ---\n",
      "Input econ object: None\n",
      "DEBUG (Validation Economía Manual) ► Objeto EconomiaUsuario es None.\n",
      "DEBUG Router: Economía OK? False\n",
      "DEBUG Router: Pesos Calculados? False\n",
      "DEBUG Router: Coches Buscados? False\n",
      "--- DEBUG CHECK PERFIL ---\n",
      "Input prefs object: altura_mayor_190='sí' peso_mayor_100='no' uso_profesional=None valora_estetica=None solo_electricos=None transmision_preferida=None apasionado_motor=None aventura=None\n",
      "Input prefs type: <class 'graph.perfil.state.PerfilUsuario'>\n",
      "Checking field 'altura_mayor_190': value='sí', type=<class 'str'>\n",
      "Checking field 'peso_mayor_100': value='no', type=<class 'str'>\n",
      "Checking field 'uso_profesional': value='None', type=<class 'NoneType'>\n",
      "DEBUG (Validation Perfil) ► Campo 'uso_profesional' está vacío/None.\n",
      "DEBUG Router: Decisión -> recopilar_preferencias\n",
      "--- Ejecutando Nodo: recopilar_preferencias_node ---\n",
      "DEBUG (Perfil) ► Último mensaje es HumanMessage o historial vacío, llamando a llm_solo_perfil...\n"
     ]
    },
    {
     "name": "stderr",
     "output_type": "stream",
     "text": [
      "DEBUG:httpcore.http11:receive_response_headers.complete return_value=(b'HTTP/1.1', 200, b'OK', [(b'Date', b'Tue, 06 May 2025 17:24:31 GMT'), (b'Content-Type', b'application/json'), (b'Transfer-Encoding', b'chunked'), (b'Connection', b'keep-alive'), (b'access-control-expose-headers', b'X-Request-ID'), (b'openai-organization', b'user-ic25pcewdjuowsz9q2ektvrn'), (b'openai-processing-ms', b'1915'), (b'openai-version', b'2020-10-01'), (b'x-ratelimit-limit-requests', b'10000'), (b'x-ratelimit-limit-tokens', b'200000'), (b'x-ratelimit-remaining-requests', b'9999'), (b'x-ratelimit-remaining-tokens', b'196756'), (b'x-ratelimit-reset-requests', b'8.64s'), (b'x-ratelimit-reset-tokens', b'973ms'), (b'x-request-id', b'req_c5031b7eccb5c03e1cb675d9fa71d75f'), (b'strict-transport-security', b'max-age=31536000; includeSubDomains; preload'), (b'cf-cache-status', b'DYNAMIC'), (b'X-Content-Type-Options', b'nosniff'), (b'Server', b'cloudflare'), (b'CF-RAY', b'93ba2be23b43f773-MAD'), (b'Content-Encoding', b'gzip'), (b'alt-svc', b'h3=\":443\"; ma=86400')])\n",
      "INFO:httpx:HTTP Request: POST https://api.openai.com/v1/chat/completions \"HTTP/1.1 200 OK\"\n",
      "DEBUG:httpcore.http11:receive_response_body.started request=<Request [b'POST']>\n",
      "DEBUG:httpcore.http11:receive_response_body.complete\n",
      "DEBUG:httpcore.http11:response_closed.started\n",
      "DEBUG:httpcore.http11:response_closed.complete\n",
      "DEBUG:openai._base_client:HTTP Response: POST https://api.openai.com/v1/chat/completions \"200 OK\" Headers({'date': 'Tue, 06 May 2025 17:24:31 GMT', 'content-type': 'application/json', 'transfer-encoding': 'chunked', 'connection': 'keep-alive', 'access-control-expose-headers': 'X-Request-ID', 'openai-organization': 'user-ic25pcewdjuowsz9q2ektvrn', 'openai-processing-ms': '1915', 'openai-version': '2020-10-01', 'x-ratelimit-limit-requests': '10000', 'x-ratelimit-limit-tokens': '200000', 'x-ratelimit-remaining-requests': '9999', 'x-ratelimit-remaining-tokens': '196756', 'x-ratelimit-reset-requests': '8.64s', 'x-ratelimit-reset-tokens': '973ms', 'x-request-id': 'req_c5031b7eccb5c03e1cb675d9fa71d75f', 'strict-transport-security': 'max-age=31536000; includeSubDomains; preload', 'cf-cache-status': 'DYNAMIC', 'x-content-type-options': 'nosniff', 'server': 'cloudflare', 'cf-ray': '93ba2be23b43f773-MAD', 'content-encoding': 'gzip', 'alt-svc': 'h3=\":443\"; ma=86400'})\n",
      "DEBUG:openai._base_client:request_id: req_c5031b7eccb5c03e1cb675d9fa71d75f\n"
     ]
    },
    {
     "name": "stdout",
     "output_type": "stream",
     "text": [
      "DEBUG (Perfil) ► Respuesta llm_solo_perfil: preferencias_usuario=PerfilUsuario(altura_mayor_190='sí', peso_mayor_100='no', uso_profesional='no', valora_estetica=None, solo_electricos=None, transmision_preferida=None, apasionado_motor=None, aventura=None) tipo_mensaje='PREGUNTA' contenido_mensaje='¿Valoras especialmente la estética del coche?'\n",
      "DEBUG (Perfil) ► Preferencias TRAS post-procesamiento: altura_mayor_190='sí' peso_mayor_100='no' uso_profesional='no' valora_estetica=None solo_electricos=None transmision_preferida=None apasionado_motor=None aventura=None\n",
      "DEBUG (Perfil) ► Estado preferencias_usuario actualizado: altura_mayor_190='sí' peso_mayor_100='no' uso_profesional='no' valora_estetica=None solo_electricos=None transmision_preferida=None apasionado_motor=None aventura=None\n",
      "DEBUG (Perfil) ► Guardando mensaje pendiente: ¿Valoras especialmente la estética del coche?\n",
      "--- Ejecutando Nodo: validar_preferencias_node ---\n",
      "--- DEBUG CHECK PERFIL ---\n",
      "Input prefs object: altura_mayor_190='sí' peso_mayor_100='no' uso_profesional='no' valora_estetica=None solo_electricos=None transmision_preferida=None apasionado_motor=None aventura=None\n",
      "Input prefs type: <class 'graph.perfil.state.PerfilUsuario'>\n",
      "Checking field 'altura_mayor_190': value='sí', type=<class 'str'>\n",
      "Checking field 'peso_mayor_100': value='no', type=<class 'str'>\n",
      "Checking field 'uso_profesional': value='no', type=<class 'str'>\n",
      "Checking field 'valora_estetica': value='None', type=<class 'NoneType'>\n",
      "DEBUG (Validation Perfil) ► Campo 'valora_estetica' está vacío/None.\n",
      "DEBUG (Perfil) ► Validación: PerfilUsuario considerado INCOMPLETO.\n",
      "--- Evaluando Condición: ruta_decision_perfil ---\n",
      "DEBUG (Condición Perfil) ► Estado 'preferencias_usuario' recibido: altura_mayor_190='sí' peso_mayor_100='no' uso_profesional='no' valora_estetica=None solo_electricos=None transmision_preferida=None apasionado_motor=None aventura=None\n",
      "DEBUG (Condición Perfil) ► Tipo de 'preferencias_usuario': <class 'graph.perfil.state.PerfilUsuario'>\n",
      "--- DEBUG CHECK PERFIL ---\n",
      "Input prefs object: altura_mayor_190='sí' peso_mayor_100='no' uso_profesional='no' valora_estetica=None solo_electricos=None transmision_preferida=None apasionado_motor=None aventura=None\n",
      "Input prefs type: <class 'graph.perfil.state.PerfilUsuario'>\n",
      "Checking field 'altura_mayor_190': value='sí', type=<class 'str'>\n",
      "Checking field 'peso_mayor_100': value='no', type=<class 'str'>\n",
      "Checking field 'uso_profesional': value='no', type=<class 'str'>\n",
      "Checking field 'valora_estetica': value='None', type=<class 'NoneType'>\n",
      "DEBUG (Validation Perfil) ► Campo 'valora_estetica' está vacío/None.\n",
      "DEBUG (Condición Perfil) ► Perfil INCOMPLETO. Se necesita pregunta.\n",
      "--- Ejecutando Nodo: preguntar_preferencias_node ---\n",
      "DEBUG (Preguntar Perfil) ► Usando mensaje pendiente: ¿Valoras especialmente la estética del coche?\n",
      "DEBUG (Preguntar Perfil) ► Mensaje final añadido: ¿Valoras especialmente la estética del coche?\n",
      "==================================\u001b[1m Ai Message \u001b[0m==================================\n",
      "\n",
      "¿Valoras especialmente la estética del coche?\n"
     ]
    }
   ],
   "source": [
    "# Create a thread\n",
    "config = {\"configurable\": {\"thread_id\": \"2\"}}\n",
    "\n",
    "# Start conversation\n",
    "input_message = HumanMessage(content=\"para uso personal\")\n",
    "output = graph.invoke({\"messages\": [input_message]}, config) \n",
    "for m in output['messages'][-1:]:\n",
    "    m.pretty_print()"
   ]
  },
  {
   "cell_type": "code",
   "execution_count": null,
   "metadata": {},
   "outputs": [],
   "source": [
    "print(output['preferencias_usuario'])\n",
    "print('---------------------------------------------------------------------')\n",
    "print(output['filtros_inferidos']) #"
   ]
  },
  {
   "cell_type": "code",
   "execution_count": 5,
   "metadata": {},
   "outputs": [
    {
     "name": "stderr",
     "output_type": "stream",
     "text": [
      "DEBUG:openai._base_client:Request options: {'method': 'post', 'url': '/chat/completions', 'headers': {'X-Stainless-Helper-Method': 'beta.chat.completions.parse'}, 'files': None, 'post_parser': <function Completions.parse.<locals>.parser at 0x1157a71a0>, 'json_data': {'messages': [{'content': '<Role>\\nEres un asistente de conversación amigable y metodológico. Tu misión actual es conocer las preferencias generales y el perfil básico de un usuario que busca un coche (`PerfilUsuario`). Tu salida SIEMPRE debe ser un objeto JSON válido que cumpla el esquema `ResultadoSoloPerfil`.\\n</Role>\\n\\n<Esquema_JSON_Requerido>\\nLa estructura JSON que DEBES generar es la siguiente:\\n```json\\n{{\\n  \"$defs\": {{\\n    \"NivelAventura\": {{\\n      \"enum\": [\\n        \"ninguna\",\\n        \"ocasional\",\\n        \"extrema\"\\n      ],\\n      \"title\": \"NivelAventura\",\\n      \"type\": \"string\"\\n    }},\\n    \"PerfilUsuario\": {{\\n      \"properties\": {{\\n        \"altura_mayor_190\": {{\\n          \"anyOf\": [\\n            {{\\n              \"type\": \"string\"\\n            }},\\n            {{\\n              \"type\": \"null\"\\n            }}\\n          ],\\n          \"default\": null,\\n          \"description\": \"¿El usuario mide más de 1.90 metros? Responde \\'sí\\' o \\'no\\'\",\\n          \"title\": \"Altura Mayor 190\"\\n        }},\\n        \"peso_mayor_100\": {{\\n          \"anyOf\": [\\n            {{\\n              \"type\": \"string\"\\n            }},\\n            {{\\n              \"type\": \"null\"\\n            }}\\n          ],\\n          \"default\": null,\\n          \"description\": \"¿El usuario pesa más de 100 kg? Responde \\'sí\\' o \\'no\\'\",\\n          \"title\": \"Peso Mayor 100\"\\n        }},\\n        \"uso_profesional\": {{\\n          \"anyOf\": [\\n            {{\\n              \"type\": \"string\"\\n            }},\\n            {{\\n              \"type\": \"null\"\\n            }}\\n          ],\\n          \"default\": null,\\n          \"description\": \"¿Usará el coche para trabajo? Responde \\'sí\\' o \\'no\\'\",\\n          \"title\": \"Uso Profesional\"\\n        }},\\n        \"valora_estetica\": {{\\n          \"anyOf\": [\\n            {{\\n              \"type\": \"string\"\\n            }},\\n            {{\\n              \"type\": \"null\"\\n            }}\\n          ],\\n          \"default\": null,\\n          \"description\": \"¿Valora la estética del coche? Responde \\'sí\\' o \\'no\\'\",\\n          \"title\": \"Valora Estetica\"\\n        }},\\n        \"solo_electricos\": {{\\n          \"anyOf\": [\\n            {{\\n              \"type\": \"string\"\\n            }},\\n            {{\\n              \"type\": \"null\"\\n            }}\\n          ],\\n          \"default\": null,\\n          \"description\": \"¿Quiere solo coches eléctricos? Responde \\'sí\\' o \\'no\\'\",\\n          \"title\": \"Solo Electricos\"\\n        }},\\n        \"transmision_preferida\": {{\\n          \"anyOf\": [\\n            {{\\n              \"$ref\": \"#/$defs/Transmision\"\\n            }},\\n            {{\\n              \"type\": \"null\"\\n            }}\\n          ],\\n          \"default\": null,\\n          \"description\": \"¿Qué transmisión prefieres: automático, manual o ambos?\"\\n        }},\\n        \"apasionado_motor\": {{\\n          \"anyOf\": [\\n            {{\\n              \"type\": \"string\"\\n            }},\\n            {{\\n              \"type\": \"null\"\\n            }}\\n          ],\\n          \"default\": null,\\n          \"description\": \"¿Eres un apasionado/a del motor y/o la movilidad? Responde \\'sí\\' o \\'no\\'\",\\n          \"title\": \"Apasionado Motor\"\\n        }},\\n        \"aventura\": {{\\n          \"anyOf\": [\\n            {{\\n              \"$ref\": \"#/$defs/NivelAventura\"\\n            }},\\n            {{\\n              \"type\": \"null\"\\n            }}\\n          ],\\n          \"default\": null,\\n          \"description\": \"¿Qué nivel de aventura buscas con tu vehículo: \\'ninguna\\', \\'ocasional\\' o \\'extrema\\'?\"\\n        }}\\n      }},\\n      \"title\": \"PerfilUsuario\",\\n      \"type\": \"object\"\\n    }},\\n    \"Transmision\": {{\\n      \"enum\": [\\n        \"automático\",\\n        \"manual\",\\n        \"ambos\"\\n      ],\\n      \"title\": \"Transmision\",\\n      \"type\": \"string\"\\n    }}\\n  }},\\n  \"description\": \"Salida esperada del LLM enfocado solo en el perfil del usuario.\",\\n  \"properties\": {{\\n    \"preferencias_usuario\": {{\\n      \"$ref\": \"#/$defs/PerfilUsuario\",\\n      \"description\": \"Objeto con las preferencias del usuario actualizadas o inferidas.\"\\n    }},\\n    \"tipo_mensaje\": {{\\n      \"description\": \"Clasificación del mensaje: \\'PREGUNTA\\' si se necesita más info de perfil, \\'CONFIRMACION\\' si el perfil parece completo o se confirma un dato, \\'ERROR\\' si hubo un problema irresoluble.\",\\n      \"enum\": [\\n        \"PREGUNTA\",\\n        \"CONFIRMACION\",\\n        \"ERROR\"\\n      ],\\n      \"title\": \"Tipo Mensaje\",\\n      \"type\": \"string\"\\n    }},\\n    \"contenido_mensaje\": {{\\n      \"description\": \"El texto real del mensaje: la pregunta específica, la confirmación, o el detalle del error.\",\\n      \"title\": \"Contenido Mensaje\",\\n      \"type\": \"string\"\\n    }}\\n  }},\\n  \"required\": [\\n    \"preferencias_usuario\",\\n    \"tipo_mensaje\",\\n    \"contenido_mensaje\"\\n  ],\\n  \"title\": \"ResultadoSoloPerfil\",\\n  \"type\": \"object\"\\n}}\\n</Esquema_JSON_Requerido>\\n\\n<Instrucciones_Generales_y_Salida_JSON>\\n\\nLos 8 campos OBLIGATORIOS del `PerfilUsuario` que debes intentar completar son:\\n1.  `altura_mayor_190` (string: \\'sí\\' o \\'no\\')\\n2.  `peso_mayor_100` (string: \\'sí\\' o \\'no\\')\\n3.  `uso_profesional` (string: \\'sí\\' o \\'no\\')\\n4.  `valora_estetica` (string: \\'sí\\' o \\'no\\')\\n5.  `solo_electricos` (string: \\'sí\\' o \\'no\\')\\n6.  `transmision_preferida` (enum: \\'automático\\', \\'manual\\', \\'ambos\\')\\n7.  `apasionado_motor` (string: \\'sí\\' o \\'no\\')\\n8.  `aventura` (enum: \\'ninguna\\', \\'ocasional\\', \\'extrema\\') - IMPORTANTE: Para el campo `aventura`, NO infieras un valor por defecto como \\'ninguna\\' a menos que el usuario lo indique muy explícitamente. Si no hay información clara sobre el nivel de aventura, deja `aventura` como `null`.\\n\\n\\nUna vez que hayas construido el objeto `preferencias_usuario` con la información más actualizada, determina `tipo_mensaje` y `contenido_mensaje` aplicando ESTRICTAMENTE las siguientes reglas en orden:\\n\\n**Regla 1: Inicio de Conversación (Primer Turno)**\\n* Si el historial de conversación solo contiene el primer mensaje del usuario (es decir, estás en el primer turno de recopilación de perfil):\\n    * `tipo_mensaje` DEBE ser `\"PREGUNTA\"`.\\n    * `contenido_mensaje` DEBE incluir un saludo amigable (ej: \"¡Hola! Soy Mentor, tu asistente para encontrar el coche ideal.\") seguido de una pregunta para el primer campo del perfil que desees obtener. Puedes usar una de las plantillas de `<Guias_Preguntas_Perfil>` (por ejemplo, para `altura_mayor_190` o `aventura`).\\n\\n**Regla 2: Perfil Incompleto (Continuación de la Recopilación)**\\n* Después de procesar la última respuesta del usuario y actualizar `preferencias_usuario`, verifica si CUALQUIERA de los 8 campos listados arriba sigue siendo `null`.\\n* **Si UNO O MÁS de los 8 campos son `null`:**\\n    * `tipo_mensaje` DEBE ser `\"PREGUNTA\"`.\\n    * En `contenido_mensaje`, formula UNA SOLA PREGUNTA clara y concisa para obtener información para el PRIMER campo de la lista de 8 que todavía sea `null`, siguiendo un orden de prioridad si lo deseas (p.ej., `uso_profesional`, luego `valora_estetica`, etc.). Utiliza las guías y plantillas de `<Guias_Preguntas_Perfil>`. Intenta variar la formulación para que la conversación sea natural.\\n\\n**Regla 3: Perfil Completado (Todos los Campos Rellenos)**\\n* **SOLO Y EXCLUSIVAMENTE SI TODOS y CADA UNO de los 8 campos listados arriba tienen un valor válido (es decir, NO son `null`)** en el objeto `preferencias_usuario` que has construido:\\n    * `tipo_mensaje` DEBE ser `\"CONFIRMACION\"`.\\n    * En `contenido_mensaje`, pon una confirmación breve y amigable que indique que se ha recopilado toda la información del perfil. Ejemplos: \"¡Perfecto! Ya tenemos tus preferencias principales.\", \"Entendido. Hemos completado tu perfil de preferencias.\", \"¡Genial! Con esto tenemos toda la información de tu perfil.\".\\n    * Asegúrate de que el objeto `preferencias_usuario` en tu salida JSON esté completamente relleno con todos los valores recopilados.\\n\\n**Regla 4: Manejo de Errores**\\n* Si encuentras un problema irresoluble al procesar la información o al intentar generar el JSON, `tipo_mensaje` debe ser `\"ERROR\"` y `contenido_mensaje` debe ser una breve explicación del error.\\n\\n**Directrices Adicionales Importantes:**\\n* **No Inventes Valores:** Es crucial que no asignes valores a `preferencias_usuario` que no se mencionen explícitamente o no se puedan inferir con muy alta certeza de la conversación. En caso de duda, deja el campo como `null` y sigue la Regla 2 para preguntar.\\n* **Enfoque Estricto:** Mantén el enfoque estrictamente en completar los 8 campos de `PerfilUsuario`. NO preguntes ni menciones temas fuera de estos (como precio, características técnicas detalladas, número de pasajeros, etc.) durante esta fase.\\n\\n</Instrucciones_Generales_y_Salida_JSON>\\n\\n<Guias_Preguntas_Perfil>\\n\\nCuando necesites preguntar por uno de estos campos (tipo_mensaje=\\'PREGUNTA\\'), aquí tienes ejemplos de cómo puedes formular la pregunta de forma clara y amigable. Intenta variar la formulación para que la conversación sea más natural, pero asegúrate de que el usuario entienda qué información necesitas:\\naltura_mayor_190:\\n• \"¿Mides más de 1.90 m?\"\\n• \"Para recomendarte un vehículo con espacio adecuado, ¿tu altura supera los 1.90 metros?\"\\npeso_mayor_100:\\n• \"¿Pesas más de 100 kg?\"\\n• \"Para garantizar tu máxima comodidad, ¿tienes un peso superior a 100 kg?\"\\naventura: Usa uno de los <Aventura_Templates>\\n<Aventura_Templates>\\n  • Template 1: \"Hablando de aventura, ¿con cuál de estas afirmaciones te identificas más?\\\\n 1) No pisas nada que no sea asfalto (ninguna)\\\\n 2) Salidas fuera de asfalto ocasionales (ocasional)\\\\n 3) Circular en condiciones duras con total garantía (extrema)\"\\n  • Template 2: \"Para conocer tu espíritu aventurero, dime que prefieres:\\\\n 1) Solo asfalto (ninguna)\\\\n 2) Salidas off‑road de vez en cuando (ocasional)\\\\n 3) Aventurero extremo en terrenos difíciles (extrema)\"\\n  • Template 3: \"Respecto a tus planes de conducción:\\\\n 1) Siempre en carreteras pavimentadas (ninguna)\\\\n 2) A veces me gusta explorar caminos rurales o de tierra (ocasional)\\\\n 3) Necesito un vehículo capaz de enfrentar terrenos realmente desafiantes (extrema)\"\\n  • Template 4: \"Cuéntame sobre tus hábitos de conducción:\\\\n 1) Me mantengo en vías urbanas y autopistas (ninguna)\\\\n 2) De vez en cuando me aventuro por caminos no asfaltados (ocasional)\\\\n 3) Busco regularmente retos off-road y condiciones extremas (extrema)\" \\n</Aventura_Templates> \\nuso_profesional:\\n• \"¿El coche lo destinaras principalmente para uso personal o más para fines profesionales (trabajo)?\"\\n• \"¿Utilizarás el vehículo principalmente para trabajo o para uso personal y familiar?\"\\nvalora_estetica:\\n• \"¿Valoras especialmente la estética del coche ?\"\\n• \"¿Es importante para ti el diseño y la apariencia del vehículo?\"\\nsolo_electricos:\\n• \"¿Quieres solo coches eléctricos?\"\\n• \"¿Estás interesado exclusivamente en vehículos con motorización eléctrica o consideras otras opciones?\"\\ntransmision_preferida:\\n• \"¿Qué tipo de transmisión prefieres?\\\\n 1) Automático\\\\n 2) Manual\\\\n 3) Ambos\"\\n• \"En cuanto a la transmisión, ¿qué opción se ajusta mejor a tus preferencias?\\\\n 1) Automático\\\\n 2) Manual\\\\n 3) Ambos, puedo considerar ambas opciones\"\\napasionado_motor:\\n• \"¿Eres un apasionado del mundo automotriz?\"\\n• \"¿Te consideras una persona entusiasta del mundo del motor y la tecnología automotriz?\"\\n\\n</Guias_Preguntas_Perfil>\\n\\n<Ejemplos_Perfil>\\n\\nEjemplo 1: Inicio -> PREGUNTA (Con Saludo)\\nContexto: [HumanMessage(content=\\'Busco coche\\')]\\n{{\\n  \"preferencias_usuario\": {{ ... todos null ... }},\\n  \"tipo_mensaje\": \"PREGUNTA\", \\n  \"contenido_mensaje\": \"¡Hola! Soy Mentor, tu asistente para encontrar el coche ideal. Para empezar, hablando de aventura, ¿con cuál de estas afirmaciones te identificas más?\\\\n  1) No pisas nada que no sea asfalto (ninguna)\\\\n  2) Salidas fuera de asfalto ocasionales (ocasional)\\\\n  3) Circular en condiciones duras con total garantía (extrema)\"\\n}}\\n\\nEjemplo 2: Información parcial -> PREGUNTA (Solo una pregunta)\\n\\nContexto: [..., HumanMessage(content=\\'Será automático y solo asfalto.\\')]\\nSalida JSON Esperada:\\n{{\\n  \"preferencias_usuario\": {{ ... transmision_preferida=\"automatico\", aventura=\"ninguna\", resto null ... }},\\n  \"tipo_mensaje\": \"PREGUNTA\",\\n  \"contenido_mensaje\": \"¿Mides más de 1.90 m?\" // Pregunta solo por el siguiente campo faltante (ej: altura)\\n}}\\nEjemplo 3: Información completa -> CONFIRMACION\\n\\nContexto: [..., HumanMessage(content=\\'No soy apasionado del motor.\\')] // Asume que esta era la última respuesta necesaria\\nSalida JSON Esperada:\\n{{\\n  \"preferencias_usuario\": {{ ... todo relleno correctamente ... }},\\n  \"tipo_mensaje\": \"CONFIRMACION\",\\n  \"contenido_mensaje\": \"¡Perfecto! Ya tenemos tus preferencias principales.\" \\n}}\\n</Ejemplos_Perfil>\\n\\n<Formato_Salida_JSON_Final>\\nGenera únicamente el objeto JSON completo y válido solicitado que cumpla el esquema ResultadoSoloPerfil.\\n{{ \\n  \"preferencias_usuario\": {{ ... }},\\n  \"tipo_mensaje\": \"<\\'PREGUNTA\\' o \\'CONFIRMACION\\' o \\'ERROR\\'>\",\\n  \"contenido_mensaje\": \"<string>\"\\n}}', 'role': 'user'}, {'content': 'Quiero un coche mido 1.93. Peso 80 kg', 'role': 'user'}, {'content': '¿Usarás el coche para trabajo o para uso personal y familiar?', 'role': 'assistant'}, {'content': 'para uso personal', 'role': 'user'}, {'content': '¿Valoras especialmente la estética del coche?', 'role': 'assistant'}, {'content': 'si valoro la estetica', 'role': 'user'}], 'model': 'gpt-4o-mini', 'response_format': {'type': 'json_schema', 'json_schema': {'schema': {'$defs': {'NivelAventura': {'enum': ['ninguna', 'ocasional', 'extrema'], 'title': 'NivelAventura', 'type': 'string'}, 'PerfilUsuario': {'properties': {'altura_mayor_190': {'anyOf': [{'type': 'string'}, {'type': 'null'}], 'description': \"¿El usuario mide más de 1.90 metros? Responde 'sí' o 'no'\", 'title': 'Altura Mayor 190'}, 'peso_mayor_100': {'anyOf': [{'type': 'string'}, {'type': 'null'}], 'description': \"¿El usuario pesa más de 100 kg? Responde 'sí' o 'no'\", 'title': 'Peso Mayor 100'}, 'uso_profesional': {'anyOf': [{'type': 'string'}, {'type': 'null'}], 'description': \"¿Usará el coche para trabajo? Responde 'sí' o 'no'\", 'title': 'Uso Profesional'}, 'valora_estetica': {'anyOf': [{'type': 'string'}, {'type': 'null'}], 'description': \"¿Valora la estética del coche? Responde 'sí' o 'no'\", 'title': 'Valora Estetica'}, 'solo_electricos': {'anyOf': [{'type': 'string'}, {'type': 'null'}], 'description': \"¿Quiere solo coches eléctricos? Responde 'sí' o 'no'\", 'title': 'Solo Electricos'}, 'transmision_preferida': {'anyOf': [{'$ref': '#/$defs/Transmision'}, {'type': 'null'}], 'description': '¿Qué transmisión prefieres: automático, manual o ambos?'}, 'apasionado_motor': {'anyOf': [{'type': 'string'}, {'type': 'null'}], 'description': \"¿Eres un apasionado/a del motor y/o la movilidad? Responde 'sí' o 'no'\", 'title': 'Apasionado Motor'}, 'aventura': {'anyOf': [{'$ref': '#/$defs/NivelAventura'}, {'type': 'null'}], 'description': \"¿Qué nivel de aventura buscas con tu vehículo: 'ninguna', 'ocasional' o 'extrema'?\"}}, 'title': 'PerfilUsuario', 'type': 'object', 'additionalProperties': False, 'required': ['altura_mayor_190', 'peso_mayor_100', 'uso_profesional', 'valora_estetica', 'solo_electricos', 'transmision_preferida', 'apasionado_motor', 'aventura']}, 'Transmision': {'enum': ['automático', 'manual', 'ambos'], 'title': 'Transmision', 'type': 'string'}}, 'description': 'Salida esperada del LLM enfocado solo en el perfil del usuario.', 'properties': {'preferencias_usuario': {'description': 'Objeto con las preferencias del usuario actualizadas o inferidas.', 'properties': {'altura_mayor_190': {'anyOf': [{'type': 'string'}, {'type': 'null'}], 'description': \"¿El usuario mide más de 1.90 metros? Responde 'sí' o 'no'\", 'title': 'Altura Mayor 190'}, 'peso_mayor_100': {'anyOf': [{'type': 'string'}, {'type': 'null'}], 'description': \"¿El usuario pesa más de 100 kg? Responde 'sí' o 'no'\", 'title': 'Peso Mayor 100'}, 'uso_profesional': {'anyOf': [{'type': 'string'}, {'type': 'null'}], 'description': \"¿Usará el coche para trabajo? Responde 'sí' o 'no'\", 'title': 'Uso Profesional'}, 'valora_estetica': {'anyOf': [{'type': 'string'}, {'type': 'null'}], 'description': \"¿Valora la estética del coche? Responde 'sí' o 'no'\", 'title': 'Valora Estetica'}, 'solo_electricos': {'anyOf': [{'type': 'string'}, {'type': 'null'}], 'description': \"¿Quiere solo coches eléctricos? Responde 'sí' o 'no'\", 'title': 'Solo Electricos'}, 'transmision_preferida': {'anyOf': [{'$ref': '#/$defs/Transmision'}, {'type': 'null'}], 'description': '¿Qué transmisión prefieres: automático, manual o ambos?'}, 'apasionado_motor': {'anyOf': [{'type': 'string'}, {'type': 'null'}], 'description': \"¿Eres un apasionado/a del motor y/o la movilidad? Responde 'sí' o 'no'\", 'title': 'Apasionado Motor'}, 'aventura': {'anyOf': [{'$ref': '#/$defs/NivelAventura'}, {'type': 'null'}], 'description': \"¿Qué nivel de aventura buscas con tu vehículo: 'ninguna', 'ocasional' o 'extrema'?\"}}, 'title': 'PerfilUsuario', 'type': 'object', 'additionalProperties': False, 'required': ['altura_mayor_190', 'peso_mayor_100', 'uso_profesional', 'valora_estetica', 'solo_electricos', 'transmision_preferida', 'apasionado_motor', 'aventura']}, 'tipo_mensaje': {'description': \"Clasificación del mensaje: 'PREGUNTA' si se necesita más info de perfil, 'CONFIRMACION' si el perfil parece completo o se confirma un dato, 'ERROR' si hubo un problema irresoluble.\", 'enum': ['PREGUNTA', 'CONFIRMACION', 'ERROR'], 'title': 'Tipo Mensaje', 'type': 'string'}, 'contenido_mensaje': {'description': 'El texto real del mensaje: la pregunta específica, la confirmación, o el detalle del error.', 'title': 'Contenido Mensaje', 'type': 'string'}}, 'required': ['preferencias_usuario', 'tipo_mensaje', 'contenido_mensaje'], 'title': 'ResultadoSoloPerfil', 'type': 'object', 'additionalProperties': False}, 'name': 'ResultadoSoloPerfil', 'strict': True}}, 'stream': False, 'temperature': 0.2}}\n",
      "DEBUG:openai._base_client:Sending HTTP Request: POST https://api.openai.com/v1/chat/completions\n",
      "DEBUG:httpcore.http11:send_request_headers.started request=<Request [b'POST']>\n",
      "DEBUG:httpcore.http11:send_request_headers.complete\n",
      "DEBUG:httpcore.http11:send_request_body.started request=<Request [b'POST']>\n",
      "DEBUG:httpcore.http11:send_request_body.complete\n",
      "DEBUG:httpcore.http11:receive_response_headers.started request=<Request [b'POST']>\n"
     ]
    },
    {
     "name": "stdout",
     "output_type": "stream",
     "text": [
      "--- Ejecutando Nodo: route_based_on_state_node ---\n",
      "\n",
      "--- DEBUG: Evaluating Routing Decision ---\n",
      "--- DEBUG CHECK PERFIL ---\n",
      "Input prefs object: altura_mayor_190='sí' peso_mayor_100='no' uso_profesional='no' valora_estetica=None solo_electricos=None transmision_preferida=None apasionado_motor=None aventura=None\n",
      "Input prefs type: <class 'graph.perfil.state.PerfilUsuario'>\n",
      "Checking field 'altura_mayor_190': value='sí', type=<class 'str'>\n",
      "Checking field 'peso_mayor_100': value='no', type=<class 'str'>\n",
      "Checking field 'uso_profesional': value='no', type=<class 'str'>\n",
      "Checking field 'valora_estetica': value='None', type=<class 'NoneType'>\n",
      "DEBUG (Validation Perfil) ► Campo 'valora_estetica' está vacío/None.\n",
      "DEBUG Router: Prefs OK? False\n",
      "--- DEBUG CHECK PASAJEROS ---\n",
      "Input info pasajeros: None\n",
      "DEBUG (Validation Pasajeros) ► Objeto InfoPasajeros es None.\n",
      "DEBUG Router: Pasajeros OK? False\n",
      "DEBUG (Validation Filtros) ► Objeto FiltrosInferidos es None.\n",
      "DEBUG Router: Filtros OK? False\n",
      "--- DEBUG CHECK ECONOMIA (Manual) ---\n",
      "Input econ object: None\n",
      "DEBUG (Validation Economía Manual) ► Objeto EconomiaUsuario es None.\n",
      "DEBUG Router: Economía OK? False\n",
      "DEBUG Router: Pesos Calculados? False\n",
      "DEBUG Router: Coches Buscados? False\n",
      "--- DEBUG CHECK PERFIL ---\n",
      "Input prefs object: altura_mayor_190='sí' peso_mayor_100='no' uso_profesional='no' valora_estetica=None solo_electricos=None transmision_preferida=None apasionado_motor=None aventura=None\n",
      "Input prefs type: <class 'graph.perfil.state.PerfilUsuario'>\n",
      "Checking field 'altura_mayor_190': value='sí', type=<class 'str'>\n",
      "Checking field 'peso_mayor_100': value='no', type=<class 'str'>\n",
      "Checking field 'uso_profesional': value='no', type=<class 'str'>\n",
      "Checking field 'valora_estetica': value='None', type=<class 'NoneType'>\n",
      "DEBUG (Validation Perfil) ► Campo 'valora_estetica' está vacío/None.\n",
      "DEBUG Router: Decisión -> recopilar_preferencias\n",
      "--- Ejecutando Nodo: recopilar_preferencias_node ---\n",
      "DEBUG (Perfil) ► Último mensaje es HumanMessage o historial vacío, llamando a llm_solo_perfil...\n"
     ]
    },
    {
     "name": "stderr",
     "output_type": "stream",
     "text": [
      "DEBUG:httpcore.http11:receive_response_headers.complete return_value=(b'HTTP/1.1', 200, b'OK', [(b'Date', b'Tue, 06 May 2025 17:24:36 GMT'), (b'Content-Type', b'application/json'), (b'Transfer-Encoding', b'chunked'), (b'Connection', b'keep-alive'), (b'access-control-expose-headers', b'X-Request-ID'), (b'openai-organization', b'user-ic25pcewdjuowsz9q2ektvrn'), (b'openai-processing-ms', b'1386'), (b'openai-version', b'2020-10-01'), (b'x-ratelimit-limit-requests', b'10000'), (b'x-ratelimit-limit-tokens', b'200000'), (b'x-ratelimit-remaining-requests', b'9998'), (b'x-ratelimit-remaining-tokens', b'196737'), (b'x-ratelimit-reset-requests', b'11.019s'), (b'x-ratelimit-reset-tokens', b'978ms'), (b'x-request-id', b'req_cb6e0982262c2674595b58fcf831f6e8'), (b'strict-transport-security', b'max-age=31536000; includeSubDomains; preload'), (b'cf-cache-status', b'DYNAMIC'), (b'X-Content-Type-Options', b'nosniff'), (b'Server', b'cloudflare'), (b'CF-RAY', b'93ba2c0969fdf773-MAD'), (b'Content-Encoding', b'gzip'), (b'alt-svc', b'h3=\":443\"; ma=86400')])\n",
      "INFO:httpx:HTTP Request: POST https://api.openai.com/v1/chat/completions \"HTTP/1.1 200 OK\"\n",
      "DEBUG:httpcore.http11:receive_response_body.started request=<Request [b'POST']>\n",
      "DEBUG:httpcore.http11:receive_response_body.complete\n",
      "DEBUG:httpcore.http11:response_closed.started\n",
      "DEBUG:httpcore.http11:response_closed.complete\n",
      "DEBUG:openai._base_client:HTTP Response: POST https://api.openai.com/v1/chat/completions \"200 OK\" Headers({'date': 'Tue, 06 May 2025 17:24:36 GMT', 'content-type': 'application/json', 'transfer-encoding': 'chunked', 'connection': 'keep-alive', 'access-control-expose-headers': 'X-Request-ID', 'openai-organization': 'user-ic25pcewdjuowsz9q2ektvrn', 'openai-processing-ms': '1386', 'openai-version': '2020-10-01', 'x-ratelimit-limit-requests': '10000', 'x-ratelimit-limit-tokens': '200000', 'x-ratelimit-remaining-requests': '9998', 'x-ratelimit-remaining-tokens': '196737', 'x-ratelimit-reset-requests': '11.019s', 'x-ratelimit-reset-tokens': '978ms', 'x-request-id': 'req_cb6e0982262c2674595b58fcf831f6e8', 'strict-transport-security': 'max-age=31536000; includeSubDomains; preload', 'cf-cache-status': 'DYNAMIC', 'x-content-type-options': 'nosniff', 'server': 'cloudflare', 'cf-ray': '93ba2c0969fdf773-MAD', 'content-encoding': 'gzip', 'alt-svc': 'h3=\":443\"; ma=86400'})\n",
      "DEBUG:openai._base_client:request_id: req_cb6e0982262c2674595b58fcf831f6e8\n"
     ]
    },
    {
     "name": "stdout",
     "output_type": "stream",
     "text": [
      "DEBUG (Perfil) ► Respuesta llm_solo_perfil: preferencias_usuario=PerfilUsuario(altura_mayor_190='sí', peso_mayor_100='no', uso_profesional='no', valora_estetica='sí', solo_electricos=None, transmision_preferida=None, apasionado_motor=None, aventura=None) tipo_mensaje='PREGUNTA' contenido_mensaje='¿Quieres solo coches eléctricos?'\n",
      "DEBUG (Perfil) ► Preferencias TRAS post-procesamiento: altura_mayor_190='sí' peso_mayor_100='no' uso_profesional='no' valora_estetica='sí' solo_electricos=None transmision_preferida=None apasionado_motor=None aventura=None\n",
      "DEBUG (Perfil) ► Estado preferencias_usuario actualizado: altura_mayor_190='sí' peso_mayor_100='no' uso_profesional='no' valora_estetica='sí' solo_electricos=None transmision_preferida=None apasionado_motor=None aventura=None\n",
      "DEBUG (Perfil) ► Guardando mensaje pendiente: ¿Quieres solo coches eléctricos?\n",
      "--- Ejecutando Nodo: validar_preferencias_node ---\n",
      "--- DEBUG CHECK PERFIL ---\n",
      "Input prefs object: altura_mayor_190='sí' peso_mayor_100='no' uso_profesional='no' valora_estetica='sí' solo_electricos=None transmision_preferida=None apasionado_motor=None aventura=None\n",
      "Input prefs type: <class 'graph.perfil.state.PerfilUsuario'>\n",
      "Checking field 'altura_mayor_190': value='sí', type=<class 'str'>\n",
      "Checking field 'peso_mayor_100': value='no', type=<class 'str'>\n",
      "Checking field 'uso_profesional': value='no', type=<class 'str'>\n",
      "Checking field 'valora_estetica': value='sí', type=<class 'str'>\n",
      "Checking field 'solo_electricos': value='None', type=<class 'NoneType'>\n",
      "DEBUG (Validation Perfil) ► Campo 'solo_electricos' está vacío/None.\n",
      "DEBUG (Perfil) ► Validación: PerfilUsuario considerado INCOMPLETO.\n",
      "--- Evaluando Condición: ruta_decision_perfil ---\n",
      "DEBUG (Condición Perfil) ► Estado 'preferencias_usuario' recibido: altura_mayor_190='sí' peso_mayor_100='no' uso_profesional='no' valora_estetica='sí' solo_electricos=None transmision_preferida=None apasionado_motor=None aventura=None\n",
      "DEBUG (Condición Perfil) ► Tipo de 'preferencias_usuario': <class 'graph.perfil.state.PerfilUsuario'>\n",
      "--- DEBUG CHECK PERFIL ---\n",
      "Input prefs object: altura_mayor_190='sí' peso_mayor_100='no' uso_profesional='no' valora_estetica='sí' solo_electricos=None transmision_preferida=None apasionado_motor=None aventura=None\n",
      "Input prefs type: <class 'graph.perfil.state.PerfilUsuario'>\n",
      "Checking field 'altura_mayor_190': value='sí', type=<class 'str'>\n",
      "Checking field 'peso_mayor_100': value='no', type=<class 'str'>\n",
      "Checking field 'uso_profesional': value='no', type=<class 'str'>\n",
      "Checking field 'valora_estetica': value='sí', type=<class 'str'>\n",
      "Checking field 'solo_electricos': value='None', type=<class 'NoneType'>\n",
      "DEBUG (Validation Perfil) ► Campo 'solo_electricos' está vacío/None.\n",
      "DEBUG (Condición Perfil) ► Perfil INCOMPLETO. Se necesita pregunta.\n",
      "--- Ejecutando Nodo: preguntar_preferencias_node ---\n",
      "DEBUG (Preguntar Perfil) ► Usando mensaje pendiente: ¿Quieres solo coches eléctricos?\n",
      "DEBUG (Preguntar Perfil) ► Mensaje final añadido: ¿Quieres solo coches eléctricos?\n",
      "==================================\u001b[1m Ai Message \u001b[0m==================================\n",
      "\n",
      "¿Quieres solo coches eléctricos?\n"
     ]
    }
   ],
   "source": [
    "# Create a thread\n",
    "config = {\"configurable\": {\"thread_id\": \"2\"}}\n",
    "\n",
    "# Start conversation\n",
    "input_message = HumanMessage(content=\"si valoro la estetica\")\n",
    "output = graph.invoke({\"messages\": [input_message]}, config) \n",
    "for m in output['messages'][-1:]:\n",
    "    m.pretty_print()"
   ]
  },
  {
   "cell_type": "code",
   "execution_count": null,
   "metadata": {},
   "outputs": [],
   "source": [
    "print(output['preferencias_usuario'])\n",
    "print('---------------------------------------------------------------------')\n",
    "# print(output['filtros_inferidos']) \n",
    "# print('---------------------------------------------------------------------')\n",
    "# #print(output['pesos'])"
   ]
  },
  {
   "cell_type": "code",
   "execution_count": 6,
   "metadata": {},
   "outputs": [
    {
     "name": "stderr",
     "output_type": "stream",
     "text": [
      "DEBUG:openai._base_client:Request options: {'method': 'post', 'url': '/chat/completions', 'headers': {'X-Stainless-Helper-Method': 'beta.chat.completions.parse'}, 'files': None, 'post_parser': <function Completions.parse.<locals>.parser at 0x11579af20>, 'json_data': {'messages': [{'content': '<Role>\\nEres un asistente de conversación amigable y metodológico. Tu misión actual es conocer las preferencias generales y el perfil básico de un usuario que busca un coche (`PerfilUsuario`). Tu salida SIEMPRE debe ser un objeto JSON válido que cumpla el esquema `ResultadoSoloPerfil`.\\n</Role>\\n\\n<Esquema_JSON_Requerido>\\nLa estructura JSON que DEBES generar es la siguiente:\\n```json\\n{{\\n  \"$defs\": {{\\n    \"NivelAventura\": {{\\n      \"enum\": [\\n        \"ninguna\",\\n        \"ocasional\",\\n        \"extrema\"\\n      ],\\n      \"title\": \"NivelAventura\",\\n      \"type\": \"string\"\\n    }},\\n    \"PerfilUsuario\": {{\\n      \"properties\": {{\\n        \"altura_mayor_190\": {{\\n          \"anyOf\": [\\n            {{\\n              \"type\": \"string\"\\n            }},\\n            {{\\n              \"type\": \"null\"\\n            }}\\n          ],\\n          \"default\": null,\\n          \"description\": \"¿El usuario mide más de 1.90 metros? Responde \\'sí\\' o \\'no\\'\",\\n          \"title\": \"Altura Mayor 190\"\\n        }},\\n        \"peso_mayor_100\": {{\\n          \"anyOf\": [\\n            {{\\n              \"type\": \"string\"\\n            }},\\n            {{\\n              \"type\": \"null\"\\n            }}\\n          ],\\n          \"default\": null,\\n          \"description\": \"¿El usuario pesa más de 100 kg? Responde \\'sí\\' o \\'no\\'\",\\n          \"title\": \"Peso Mayor 100\"\\n        }},\\n        \"uso_profesional\": {{\\n          \"anyOf\": [\\n            {{\\n              \"type\": \"string\"\\n            }},\\n            {{\\n              \"type\": \"null\"\\n            }}\\n          ],\\n          \"default\": null,\\n          \"description\": \"¿Usará el coche para trabajo? Responde \\'sí\\' o \\'no\\'\",\\n          \"title\": \"Uso Profesional\"\\n        }},\\n        \"valora_estetica\": {{\\n          \"anyOf\": [\\n            {{\\n              \"type\": \"string\"\\n            }},\\n            {{\\n              \"type\": \"null\"\\n            }}\\n          ],\\n          \"default\": null,\\n          \"description\": \"¿Valora la estética del coche? Responde \\'sí\\' o \\'no\\'\",\\n          \"title\": \"Valora Estetica\"\\n        }},\\n        \"solo_electricos\": {{\\n          \"anyOf\": [\\n            {{\\n              \"type\": \"string\"\\n            }},\\n            {{\\n              \"type\": \"null\"\\n            }}\\n          ],\\n          \"default\": null,\\n          \"description\": \"¿Quiere solo coches eléctricos? Responde \\'sí\\' o \\'no\\'\",\\n          \"title\": \"Solo Electricos\"\\n        }},\\n        \"transmision_preferida\": {{\\n          \"anyOf\": [\\n            {{\\n              \"$ref\": \"#/$defs/Transmision\"\\n            }},\\n            {{\\n              \"type\": \"null\"\\n            }}\\n          ],\\n          \"default\": null,\\n          \"description\": \"¿Qué transmisión prefieres: automático, manual o ambos?\"\\n        }},\\n        \"apasionado_motor\": {{\\n          \"anyOf\": [\\n            {{\\n              \"type\": \"string\"\\n            }},\\n            {{\\n              \"type\": \"null\"\\n            }}\\n          ],\\n          \"default\": null,\\n          \"description\": \"¿Eres un apasionado/a del motor y/o la movilidad? Responde \\'sí\\' o \\'no\\'\",\\n          \"title\": \"Apasionado Motor\"\\n        }},\\n        \"aventura\": {{\\n          \"anyOf\": [\\n            {{\\n              \"$ref\": \"#/$defs/NivelAventura\"\\n            }},\\n            {{\\n              \"type\": \"null\"\\n            }}\\n          ],\\n          \"default\": null,\\n          \"description\": \"¿Qué nivel de aventura buscas con tu vehículo: \\'ninguna\\', \\'ocasional\\' o \\'extrema\\'?\"\\n        }}\\n      }},\\n      \"title\": \"PerfilUsuario\",\\n      \"type\": \"object\"\\n    }},\\n    \"Transmision\": {{\\n      \"enum\": [\\n        \"automático\",\\n        \"manual\",\\n        \"ambos\"\\n      ],\\n      \"title\": \"Transmision\",\\n      \"type\": \"string\"\\n    }}\\n  }},\\n  \"description\": \"Salida esperada del LLM enfocado solo en el perfil del usuario.\",\\n  \"properties\": {{\\n    \"preferencias_usuario\": {{\\n      \"$ref\": \"#/$defs/PerfilUsuario\",\\n      \"description\": \"Objeto con las preferencias del usuario actualizadas o inferidas.\"\\n    }},\\n    \"tipo_mensaje\": {{\\n      \"description\": \"Clasificación del mensaje: \\'PREGUNTA\\' si se necesita más info de perfil, \\'CONFIRMACION\\' si el perfil parece completo o se confirma un dato, \\'ERROR\\' si hubo un problema irresoluble.\",\\n      \"enum\": [\\n        \"PREGUNTA\",\\n        \"CONFIRMACION\",\\n        \"ERROR\"\\n      ],\\n      \"title\": \"Tipo Mensaje\",\\n      \"type\": \"string\"\\n    }},\\n    \"contenido_mensaje\": {{\\n      \"description\": \"El texto real del mensaje: la pregunta específica, la confirmación, o el detalle del error.\",\\n      \"title\": \"Contenido Mensaje\",\\n      \"type\": \"string\"\\n    }}\\n  }},\\n  \"required\": [\\n    \"preferencias_usuario\",\\n    \"tipo_mensaje\",\\n    \"contenido_mensaje\"\\n  ],\\n  \"title\": \"ResultadoSoloPerfil\",\\n  \"type\": \"object\"\\n}}\\n</Esquema_JSON_Requerido>\\n\\n<Instrucciones_Generales_y_Salida_JSON>\\n\\nLos 8 campos OBLIGATORIOS del `PerfilUsuario` que debes intentar completar son:\\n1.  `altura_mayor_190` (string: \\'sí\\' o \\'no\\')\\n2.  `peso_mayor_100` (string: \\'sí\\' o \\'no\\')\\n3.  `uso_profesional` (string: \\'sí\\' o \\'no\\')\\n4.  `valora_estetica` (string: \\'sí\\' o \\'no\\')\\n5.  `solo_electricos` (string: \\'sí\\' o \\'no\\')\\n6.  `transmision_preferida` (enum: \\'automático\\', \\'manual\\', \\'ambos\\')\\n7.  `apasionado_motor` (string: \\'sí\\' o \\'no\\')\\n8.  `aventura` (enum: \\'ninguna\\', \\'ocasional\\', \\'extrema\\') - IMPORTANTE: Para el campo `aventura`, NO infieras un valor por defecto como \\'ninguna\\' a menos que el usuario lo indique muy explícitamente. Si no hay información clara sobre el nivel de aventura, deja `aventura` como `null`.\\n\\n\\nUna vez que hayas construido el objeto `preferencias_usuario` con la información más actualizada, determina `tipo_mensaje` y `contenido_mensaje` aplicando ESTRICTAMENTE las siguientes reglas en orden:\\n\\n**Regla 1: Inicio de Conversación (Primer Turno)**\\n* Si el historial de conversación solo contiene el primer mensaje del usuario (es decir, estás en el primer turno de recopilación de perfil):\\n    * `tipo_mensaje` DEBE ser `\"PREGUNTA\"`.\\n    * `contenido_mensaje` DEBE incluir un saludo amigable (ej: \"¡Hola! Soy Mentor, tu asistente para encontrar el coche ideal.\") seguido de una pregunta para el primer campo del perfil que desees obtener. Puedes usar una de las plantillas de `<Guias_Preguntas_Perfil>` (por ejemplo, para `altura_mayor_190` o `aventura`).\\n\\n**Regla 2: Perfil Incompleto (Continuación de la Recopilación)**\\n* Después de procesar la última respuesta del usuario y actualizar `preferencias_usuario`, verifica si CUALQUIERA de los 8 campos listados arriba sigue siendo `null`.\\n* **Si UNO O MÁS de los 8 campos son `null`:**\\n    * `tipo_mensaje` DEBE ser `\"PREGUNTA\"`.\\n    * En `contenido_mensaje`, formula UNA SOLA PREGUNTA clara y concisa para obtener información para el PRIMER campo de la lista de 8 que todavía sea `null`, siguiendo un orden de prioridad si lo deseas (p.ej., `uso_profesional`, luego `valora_estetica`, etc.). Utiliza las guías y plantillas de `<Guias_Preguntas_Perfil>`. Intenta variar la formulación para que la conversación sea natural.\\n\\n**Regla 3: Perfil Completado (Todos los Campos Rellenos)**\\n* **SOLO Y EXCLUSIVAMENTE SI TODOS y CADA UNO de los 8 campos listados arriba tienen un valor válido (es decir, NO son `null`)** en el objeto `preferencias_usuario` que has construido:\\n    * `tipo_mensaje` DEBE ser `\"CONFIRMACION\"`.\\n    * En `contenido_mensaje`, pon una confirmación breve y amigable que indique que se ha recopilado toda la información del perfil. Ejemplos: \"¡Perfecto! Ya tenemos tus preferencias principales.\", \"Entendido. Hemos completado tu perfil de preferencias.\", \"¡Genial! Con esto tenemos toda la información de tu perfil.\".\\n    * Asegúrate de que el objeto `preferencias_usuario` en tu salida JSON esté completamente relleno con todos los valores recopilados.\\n\\n**Regla 4: Manejo de Errores**\\n* Si encuentras un problema irresoluble al procesar la información o al intentar generar el JSON, `tipo_mensaje` debe ser `\"ERROR\"` y `contenido_mensaje` debe ser una breve explicación del error.\\n\\n**Directrices Adicionales Importantes:**\\n* **No Inventes Valores:** Es crucial que no asignes valores a `preferencias_usuario` que no se mencionen explícitamente o no se puedan inferir con muy alta certeza de la conversación. En caso de duda, deja el campo como `null` y sigue la Regla 2 para preguntar.\\n* **Enfoque Estricto:** Mantén el enfoque estrictamente en completar los 8 campos de `PerfilUsuario`. NO preguntes ni menciones temas fuera de estos (como precio, características técnicas detalladas, número de pasajeros, etc.) durante esta fase.\\n\\n</Instrucciones_Generales_y_Salida_JSON>\\n\\n<Guias_Preguntas_Perfil>\\n\\nCuando necesites preguntar por uno de estos campos (tipo_mensaje=\\'PREGUNTA\\'), aquí tienes ejemplos de cómo puedes formular la pregunta de forma clara y amigable. Intenta variar la formulación para que la conversación sea más natural, pero asegúrate de que el usuario entienda qué información necesitas:\\naltura_mayor_190:\\n• \"¿Mides más de 1.90 m?\"\\n• \"Para recomendarte un vehículo con espacio adecuado, ¿tu altura supera los 1.90 metros?\"\\npeso_mayor_100:\\n• \"¿Pesas más de 100 kg?\"\\n• \"Para garantizar tu máxima comodidad, ¿tienes un peso superior a 100 kg?\"\\naventura: Usa uno de los <Aventura_Templates>\\n<Aventura_Templates>\\n  • Template 1: \"Hablando de aventura, ¿con cuál de estas afirmaciones te identificas más?\\\\n 1) No pisas nada que no sea asfalto (ninguna)\\\\n 2) Salidas fuera de asfalto ocasionales (ocasional)\\\\n 3) Circular en condiciones duras con total garantía (extrema)\"\\n  • Template 2: \"Para conocer tu espíritu aventurero, dime que prefieres:\\\\n 1) Solo asfalto (ninguna)\\\\n 2) Salidas off‑road de vez en cuando (ocasional)\\\\n 3) Aventurero extremo en terrenos difíciles (extrema)\"\\n  • Template 3: \"Respecto a tus planes de conducción:\\\\n 1) Siempre en carreteras pavimentadas (ninguna)\\\\n 2) A veces me gusta explorar caminos rurales o de tierra (ocasional)\\\\n 3) Necesito un vehículo capaz de enfrentar terrenos realmente desafiantes (extrema)\"\\n  • Template 4: \"Cuéntame sobre tus hábitos de conducción:\\\\n 1) Me mantengo en vías urbanas y autopistas (ninguna)\\\\n 2) De vez en cuando me aventuro por caminos no asfaltados (ocasional)\\\\n 3) Busco regularmente retos off-road y condiciones extremas (extrema)\" \\n</Aventura_Templates> \\nuso_profesional:\\n• \"¿El coche lo destinaras principalmente para uso personal o más para fines profesionales (trabajo)?\"\\n• \"¿Utilizarás el vehículo principalmente para trabajo o para uso personal y familiar?\"\\nvalora_estetica:\\n• \"¿Valoras especialmente la estética del coche ?\"\\n• \"¿Es importante para ti el diseño y la apariencia del vehículo?\"\\nsolo_electricos:\\n• \"¿Quieres solo coches eléctricos?\"\\n• \"¿Estás interesado exclusivamente en vehículos con motorización eléctrica o consideras otras opciones?\"\\ntransmision_preferida:\\n• \"¿Qué tipo de transmisión prefieres?\\\\n 1) Automático\\\\n 2) Manual\\\\n 3) Ambos\"\\n• \"En cuanto a la transmisión, ¿qué opción se ajusta mejor a tus preferencias?\\\\n 1) Automático\\\\n 2) Manual\\\\n 3) Ambos, puedo considerar ambas opciones\"\\napasionado_motor:\\n• \"¿Eres un apasionado del mundo automotriz?\"\\n• \"¿Te consideras una persona entusiasta del mundo del motor y la tecnología automotriz?\"\\n\\n</Guias_Preguntas_Perfil>\\n\\n<Ejemplos_Perfil>\\n\\nEjemplo 1: Inicio -> PREGUNTA (Con Saludo)\\nContexto: [HumanMessage(content=\\'Busco coche\\')]\\n{{\\n  \"preferencias_usuario\": {{ ... todos null ... }},\\n  \"tipo_mensaje\": \"PREGUNTA\", \\n  \"contenido_mensaje\": \"¡Hola! Soy Mentor, tu asistente para encontrar el coche ideal. Para empezar, hablando de aventura, ¿con cuál de estas afirmaciones te identificas más?\\\\n  1) No pisas nada que no sea asfalto (ninguna)\\\\n  2) Salidas fuera de asfalto ocasionales (ocasional)\\\\n  3) Circular en condiciones duras con total garantía (extrema)\"\\n}}\\n\\nEjemplo 2: Información parcial -> PREGUNTA (Solo una pregunta)\\n\\nContexto: [..., HumanMessage(content=\\'Será automático y solo asfalto.\\')]\\nSalida JSON Esperada:\\n{{\\n  \"preferencias_usuario\": {{ ... transmision_preferida=\"automatico\", aventura=\"ninguna\", resto null ... }},\\n  \"tipo_mensaje\": \"PREGUNTA\",\\n  \"contenido_mensaje\": \"¿Mides más de 1.90 m?\" // Pregunta solo por el siguiente campo faltante (ej: altura)\\n}}\\nEjemplo 3: Información completa -> CONFIRMACION\\n\\nContexto: [..., HumanMessage(content=\\'No soy apasionado del motor.\\')] // Asume que esta era la última respuesta necesaria\\nSalida JSON Esperada:\\n{{\\n  \"preferencias_usuario\": {{ ... todo relleno correctamente ... }},\\n  \"tipo_mensaje\": \"CONFIRMACION\",\\n  \"contenido_mensaje\": \"¡Perfecto! Ya tenemos tus preferencias principales.\" \\n}}\\n</Ejemplos_Perfil>\\n\\n<Formato_Salida_JSON_Final>\\nGenera únicamente el objeto JSON completo y válido solicitado que cumpla el esquema ResultadoSoloPerfil.\\n{{ \\n  \"preferencias_usuario\": {{ ... }},\\n  \"tipo_mensaje\": \"<\\'PREGUNTA\\' o \\'CONFIRMACION\\' o \\'ERROR\\'>\",\\n  \"contenido_mensaje\": \"<string>\"\\n}}', 'role': 'user'}, {'content': 'Quiero un coche mido 1.93. Peso 80 kg', 'role': 'user'}, {'content': '¿Usarás el coche para trabajo o para uso personal y familiar?', 'role': 'assistant'}, {'content': 'para uso personal', 'role': 'user'}, {'content': '¿Valoras especialmente la estética del coche?', 'role': 'assistant'}, {'content': 'si valoro la estetica', 'role': 'user'}, {'content': '¿Quieres solo coches eléctricos?', 'role': 'assistant'}, {'content': 'no a combustion tambien', 'role': 'user'}], 'model': 'gpt-4o-mini', 'response_format': {'type': 'json_schema', 'json_schema': {'schema': {'$defs': {'NivelAventura': {'enum': ['ninguna', 'ocasional', 'extrema'], 'title': 'NivelAventura', 'type': 'string'}, 'PerfilUsuario': {'properties': {'altura_mayor_190': {'anyOf': [{'type': 'string'}, {'type': 'null'}], 'description': \"¿El usuario mide más de 1.90 metros? Responde 'sí' o 'no'\", 'title': 'Altura Mayor 190'}, 'peso_mayor_100': {'anyOf': [{'type': 'string'}, {'type': 'null'}], 'description': \"¿El usuario pesa más de 100 kg? Responde 'sí' o 'no'\", 'title': 'Peso Mayor 100'}, 'uso_profesional': {'anyOf': [{'type': 'string'}, {'type': 'null'}], 'description': \"¿Usará el coche para trabajo? Responde 'sí' o 'no'\", 'title': 'Uso Profesional'}, 'valora_estetica': {'anyOf': [{'type': 'string'}, {'type': 'null'}], 'description': \"¿Valora la estética del coche? Responde 'sí' o 'no'\", 'title': 'Valora Estetica'}, 'solo_electricos': {'anyOf': [{'type': 'string'}, {'type': 'null'}], 'description': \"¿Quiere solo coches eléctricos? Responde 'sí' o 'no'\", 'title': 'Solo Electricos'}, 'transmision_preferida': {'anyOf': [{'$ref': '#/$defs/Transmision'}, {'type': 'null'}], 'description': '¿Qué transmisión prefieres: automático, manual o ambos?'}, 'apasionado_motor': {'anyOf': [{'type': 'string'}, {'type': 'null'}], 'description': \"¿Eres un apasionado/a del motor y/o la movilidad? Responde 'sí' o 'no'\", 'title': 'Apasionado Motor'}, 'aventura': {'anyOf': [{'$ref': '#/$defs/NivelAventura'}, {'type': 'null'}], 'description': \"¿Qué nivel de aventura buscas con tu vehículo: 'ninguna', 'ocasional' o 'extrema'?\"}}, 'title': 'PerfilUsuario', 'type': 'object', 'additionalProperties': False, 'required': ['altura_mayor_190', 'peso_mayor_100', 'uso_profesional', 'valora_estetica', 'solo_electricos', 'transmision_preferida', 'apasionado_motor', 'aventura']}, 'Transmision': {'enum': ['automático', 'manual', 'ambos'], 'title': 'Transmision', 'type': 'string'}}, 'description': 'Salida esperada del LLM enfocado solo en el perfil del usuario.', 'properties': {'preferencias_usuario': {'description': 'Objeto con las preferencias del usuario actualizadas o inferidas.', 'properties': {'altura_mayor_190': {'anyOf': [{'type': 'string'}, {'type': 'null'}], 'description': \"¿El usuario mide más de 1.90 metros? Responde 'sí' o 'no'\", 'title': 'Altura Mayor 190'}, 'peso_mayor_100': {'anyOf': [{'type': 'string'}, {'type': 'null'}], 'description': \"¿El usuario pesa más de 100 kg? Responde 'sí' o 'no'\", 'title': 'Peso Mayor 100'}, 'uso_profesional': {'anyOf': [{'type': 'string'}, {'type': 'null'}], 'description': \"¿Usará el coche para trabajo? Responde 'sí' o 'no'\", 'title': 'Uso Profesional'}, 'valora_estetica': {'anyOf': [{'type': 'string'}, {'type': 'null'}], 'description': \"¿Valora la estética del coche? Responde 'sí' o 'no'\", 'title': 'Valora Estetica'}, 'solo_electricos': {'anyOf': [{'type': 'string'}, {'type': 'null'}], 'description': \"¿Quiere solo coches eléctricos? Responde 'sí' o 'no'\", 'title': 'Solo Electricos'}, 'transmision_preferida': {'anyOf': [{'$ref': '#/$defs/Transmision'}, {'type': 'null'}], 'description': '¿Qué transmisión prefieres: automático, manual o ambos?'}, 'apasionado_motor': {'anyOf': [{'type': 'string'}, {'type': 'null'}], 'description': \"¿Eres un apasionado/a del motor y/o la movilidad? Responde 'sí' o 'no'\", 'title': 'Apasionado Motor'}, 'aventura': {'anyOf': [{'$ref': '#/$defs/NivelAventura'}, {'type': 'null'}], 'description': \"¿Qué nivel de aventura buscas con tu vehículo: 'ninguna', 'ocasional' o 'extrema'?\"}}, 'title': 'PerfilUsuario', 'type': 'object', 'additionalProperties': False, 'required': ['altura_mayor_190', 'peso_mayor_100', 'uso_profesional', 'valora_estetica', 'solo_electricos', 'transmision_preferida', 'apasionado_motor', 'aventura']}, 'tipo_mensaje': {'description': \"Clasificación del mensaje: 'PREGUNTA' si se necesita más info de perfil, 'CONFIRMACION' si el perfil parece completo o se confirma un dato, 'ERROR' si hubo un problema irresoluble.\", 'enum': ['PREGUNTA', 'CONFIRMACION', 'ERROR'], 'title': 'Tipo Mensaje', 'type': 'string'}, 'contenido_mensaje': {'description': 'El texto real del mensaje: la pregunta específica, la confirmación, o el detalle del error.', 'title': 'Contenido Mensaje', 'type': 'string'}}, 'required': ['preferencias_usuario', 'tipo_mensaje', 'contenido_mensaje'], 'title': 'ResultadoSoloPerfil', 'type': 'object', 'additionalProperties': False}, 'name': 'ResultadoSoloPerfil', 'strict': True}}, 'stream': False, 'temperature': 0.2}}\n",
      "DEBUG:openai._base_client:Sending HTTP Request: POST https://api.openai.com/v1/chat/completions\n",
      "DEBUG:httpcore.http11:send_request_headers.started request=<Request [b'POST']>\n",
      "DEBUG:httpcore.http11:send_request_headers.complete\n",
      "DEBUG:httpcore.http11:send_request_body.started request=<Request [b'POST']>\n",
      "DEBUG:httpcore.http11:send_request_body.complete\n",
      "DEBUG:httpcore.http11:receive_response_headers.started request=<Request [b'POST']>\n"
     ]
    },
    {
     "name": "stdout",
     "output_type": "stream",
     "text": [
      "--- Ejecutando Nodo: route_based_on_state_node ---\n",
      "\n",
      "--- DEBUG: Evaluating Routing Decision ---\n",
      "--- DEBUG CHECK PERFIL ---\n",
      "Input prefs object: altura_mayor_190='sí' peso_mayor_100='no' uso_profesional='no' valora_estetica='sí' solo_electricos=None transmision_preferida=None apasionado_motor=None aventura=None\n",
      "Input prefs type: <class 'graph.perfil.state.PerfilUsuario'>\n",
      "Checking field 'altura_mayor_190': value='sí', type=<class 'str'>\n",
      "Checking field 'peso_mayor_100': value='no', type=<class 'str'>\n",
      "Checking field 'uso_profesional': value='no', type=<class 'str'>\n",
      "Checking field 'valora_estetica': value='sí', type=<class 'str'>\n",
      "Checking field 'solo_electricos': value='None', type=<class 'NoneType'>\n",
      "DEBUG (Validation Perfil) ► Campo 'solo_electricos' está vacío/None.\n",
      "DEBUG Router: Prefs OK? False\n",
      "--- DEBUG CHECK PASAJEROS ---\n",
      "Input info pasajeros: None\n",
      "DEBUG (Validation Pasajeros) ► Objeto InfoPasajeros es None.\n",
      "DEBUG Router: Pasajeros OK? False\n",
      "DEBUG (Validation Filtros) ► Objeto FiltrosInferidos es None.\n",
      "DEBUG Router: Filtros OK? False\n",
      "--- DEBUG CHECK ECONOMIA (Manual) ---\n",
      "Input econ object: None\n",
      "DEBUG (Validation Economía Manual) ► Objeto EconomiaUsuario es None.\n",
      "DEBUG Router: Economía OK? False\n",
      "DEBUG Router: Pesos Calculados? False\n",
      "DEBUG Router: Coches Buscados? False\n",
      "--- DEBUG CHECK PERFIL ---\n",
      "Input prefs object: altura_mayor_190='sí' peso_mayor_100='no' uso_profesional='no' valora_estetica='sí' solo_electricos=None transmision_preferida=None apasionado_motor=None aventura=None\n",
      "Input prefs type: <class 'graph.perfil.state.PerfilUsuario'>\n",
      "Checking field 'altura_mayor_190': value='sí', type=<class 'str'>\n",
      "Checking field 'peso_mayor_100': value='no', type=<class 'str'>\n",
      "Checking field 'uso_profesional': value='no', type=<class 'str'>\n",
      "Checking field 'valora_estetica': value='sí', type=<class 'str'>\n",
      "Checking field 'solo_electricos': value='None', type=<class 'NoneType'>\n",
      "DEBUG (Validation Perfil) ► Campo 'solo_electricos' está vacío/None.\n",
      "DEBUG Router: Decisión -> recopilar_preferencias\n",
      "--- Ejecutando Nodo: recopilar_preferencias_node ---\n",
      "DEBUG (Perfil) ► Último mensaje es HumanMessage o historial vacío, llamando a llm_solo_perfil...\n"
     ]
    },
    {
     "name": "stderr",
     "output_type": "stream",
     "text": [
      "DEBUG:httpcore.http11:receive_response_headers.complete return_value=(b'HTTP/1.1', 200, b'OK', [(b'Date', b'Tue, 06 May 2025 17:24:43 GMT'), (b'Content-Type', b'application/json'), (b'Transfer-Encoding', b'chunked'), (b'Connection', b'keep-alive'), (b'access-control-expose-headers', b'X-Request-ID'), (b'openai-organization', b'user-ic25pcewdjuowsz9q2ektvrn'), (b'openai-processing-ms', b'2292'), (b'openai-version', b'2020-10-01'), (b'x-ratelimit-limit-requests', b'10000'), (b'x-ratelimit-limit-tokens', b'200000'), (b'x-ratelimit-remaining-requests', b'9998'), (b'x-ratelimit-remaining-tokens', b'196720'), (b'x-ratelimit-reset-requests', b'13.944s'), (b'x-ratelimit-reset-tokens', b'984ms'), (b'x-request-id', b'req_a03dc9186ffdb4974c573a9ee07d8c6a'), (b'strict-transport-security', b'max-age=31536000; includeSubDomains; preload'), (b'cf-cache-status', b'DYNAMIC'), (b'X-Content-Type-Options', b'nosniff'), (b'Server', b'cloudflare'), (b'CF-RAY', b'93ba2c2d2c55f773-MAD'), (b'Content-Encoding', b'gzip'), (b'alt-svc', b'h3=\":443\"; ma=86400')])\n",
      "INFO:httpx:HTTP Request: POST https://api.openai.com/v1/chat/completions \"HTTP/1.1 200 OK\"\n",
      "DEBUG:httpcore.http11:receive_response_body.started request=<Request [b'POST']>\n",
      "DEBUG:httpcore.http11:receive_response_body.complete\n",
      "DEBUG:httpcore.http11:response_closed.started\n",
      "DEBUG:httpcore.http11:response_closed.complete\n",
      "DEBUG:openai._base_client:HTTP Response: POST https://api.openai.com/v1/chat/completions \"200 OK\" Headers({'date': 'Tue, 06 May 2025 17:24:43 GMT', 'content-type': 'application/json', 'transfer-encoding': 'chunked', 'connection': 'keep-alive', 'access-control-expose-headers': 'X-Request-ID', 'openai-organization': 'user-ic25pcewdjuowsz9q2ektvrn', 'openai-processing-ms': '2292', 'openai-version': '2020-10-01', 'x-ratelimit-limit-requests': '10000', 'x-ratelimit-limit-tokens': '200000', 'x-ratelimit-remaining-requests': '9998', 'x-ratelimit-remaining-tokens': '196720', 'x-ratelimit-reset-requests': '13.944s', 'x-ratelimit-reset-tokens': '984ms', 'x-request-id': 'req_a03dc9186ffdb4974c573a9ee07d8c6a', 'strict-transport-security': 'max-age=31536000; includeSubDomains; preload', 'cf-cache-status': 'DYNAMIC', 'x-content-type-options': 'nosniff', 'server': 'cloudflare', 'cf-ray': '93ba2c2d2c55f773-MAD', 'content-encoding': 'gzip', 'alt-svc': 'h3=\":443\"; ma=86400'})\n",
      "DEBUG:openai._base_client:request_id: req_a03dc9186ffdb4974c573a9ee07d8c6a\n"
     ]
    },
    {
     "name": "stdout",
     "output_type": "stream",
     "text": [
      "DEBUG (Perfil) ► Respuesta llm_solo_perfil: preferencias_usuario=PerfilUsuario(altura_mayor_190='sí', peso_mayor_100='no', uso_profesional='no', valora_estetica='sí', solo_electricos='no', transmision_preferida=None, apasionado_motor=None, aventura=None) tipo_mensaje='PREGUNTA' contenido_mensaje='¿Qué tipo de transmisión prefieres?\\n 1) Automático\\n 2) Manual\\n 3) Ambos'\n",
      "DEBUG (Perfil) ► Preferencias TRAS post-procesamiento: altura_mayor_190='sí' peso_mayor_100='no' uso_profesional='no' valora_estetica='sí' solo_electricos='no' transmision_preferida=None apasionado_motor=None aventura=None\n",
      "DEBUG (Perfil) ► Estado preferencias_usuario actualizado: altura_mayor_190='sí' peso_mayor_100='no' uso_profesional='no' valora_estetica='sí' solo_electricos='no' transmision_preferida=None apasionado_motor=None aventura=None\n",
      "DEBUG (Perfil) ► Guardando mensaje pendiente: ¿Qué tipo de transmisión prefieres?\n",
      " 1) Automático\n",
      " 2) Manual\n",
      " 3) Ambos\n",
      "--- Ejecutando Nodo: validar_preferencias_node ---\n",
      "--- DEBUG CHECK PERFIL ---\n",
      "Input prefs object: altura_mayor_190='sí' peso_mayor_100='no' uso_profesional='no' valora_estetica='sí' solo_electricos='no' transmision_preferida=None apasionado_motor=None aventura=None\n",
      "Input prefs type: <class 'graph.perfil.state.PerfilUsuario'>\n",
      "Checking field 'altura_mayor_190': value='sí', type=<class 'str'>\n",
      "Checking field 'peso_mayor_100': value='no', type=<class 'str'>\n",
      "Checking field 'uso_profesional': value='no', type=<class 'str'>\n",
      "Checking field 'valora_estetica': value='sí', type=<class 'str'>\n",
      "Checking field 'solo_electricos': value='no', type=<class 'str'>\n",
      "Checking field 'transmision_preferida': value='None', type=<class 'NoneType'>\n",
      "DEBUG (Validation Perfil) ► Campo 'transmision_preferida' está vacío/None.\n",
      "DEBUG (Perfil) ► Validación: PerfilUsuario considerado INCOMPLETO.\n",
      "--- Evaluando Condición: ruta_decision_perfil ---\n",
      "DEBUG (Condición Perfil) ► Estado 'preferencias_usuario' recibido: altura_mayor_190='sí' peso_mayor_100='no' uso_profesional='no' valora_estetica='sí' solo_electricos='no' transmision_preferida=None apasionado_motor=None aventura=None\n",
      "DEBUG (Condición Perfil) ► Tipo de 'preferencias_usuario': <class 'graph.perfil.state.PerfilUsuario'>\n",
      "--- DEBUG CHECK PERFIL ---\n",
      "Input prefs object: altura_mayor_190='sí' peso_mayor_100='no' uso_profesional='no' valora_estetica='sí' solo_electricos='no' transmision_preferida=None apasionado_motor=None aventura=None\n",
      "Input prefs type: <class 'graph.perfil.state.PerfilUsuario'>\n",
      "Checking field 'altura_mayor_190': value='sí', type=<class 'str'>\n",
      "Checking field 'peso_mayor_100': value='no', type=<class 'str'>\n",
      "Checking field 'uso_profesional': value='no', type=<class 'str'>\n",
      "Checking field 'valora_estetica': value='sí', type=<class 'str'>\n",
      "Checking field 'solo_electricos': value='no', type=<class 'str'>\n",
      "Checking field 'transmision_preferida': value='None', type=<class 'NoneType'>\n",
      "DEBUG (Validation Perfil) ► Campo 'transmision_preferida' está vacío/None.\n",
      "DEBUG (Condición Perfil) ► Perfil INCOMPLETO. Se necesita pregunta.\n",
      "--- Ejecutando Nodo: preguntar_preferencias_node ---\n",
      "DEBUG (Preguntar Perfil) ► Usando mensaje pendiente: ¿Qué tipo de transmisión prefieres?\n",
      " 1) Automático\n",
      " 2) Manual\n",
      " 3) Ambos\n",
      "DEBUG (Preguntar Perfil) ► Mensaje final añadido: ¿Qué tipo de transmisión prefieres?\n",
      " 1) Automático\n",
      " 2) Manual\n",
      " 3) Ambos\n",
      "==================================\u001b[1m Ai Message \u001b[0m==================================\n",
      "\n",
      "¿Qué tipo de transmisión prefieres?\n",
      " 1) Automático\n",
      " 2) Manual\n",
      " 3) Ambos\n"
     ]
    }
   ],
   "source": [
    "# Create a thread\n",
    "config = {\"configurable\": {\"thread_id\": \"2\"}}\n",
    "\n",
    "# Start conversation\n",
    "input_message = HumanMessage(content=\"no a combustion tambien\")\n",
    "output = graph.invoke({\"messages\": [input_message]}, config) \n",
    "for m in output['messages'][-1:]:\n",
    "    m.pretty_print()"
   ]
  },
  {
   "cell_type": "code",
   "execution_count": 7,
   "metadata": {},
   "outputs": [
    {
     "name": "stderr",
     "output_type": "stream",
     "text": [
      "DEBUG:openai._base_client:Request options: {'method': 'post', 'url': '/chat/completions', 'headers': {'X-Stainless-Helper-Method': 'beta.chat.completions.parse'}, 'files': None, 'post_parser': <function Completions.parse.<locals>.parser at 0x11579b920>, 'json_data': {'messages': [{'content': '<Role>\\nEres un asistente de conversación amigable y metodológico. Tu misión actual es conocer las preferencias generales y el perfil básico de un usuario que busca un coche (`PerfilUsuario`). Tu salida SIEMPRE debe ser un objeto JSON válido que cumpla el esquema `ResultadoSoloPerfil`.\\n</Role>\\n\\n<Esquema_JSON_Requerido>\\nLa estructura JSON que DEBES generar es la siguiente:\\n```json\\n{{\\n  \"$defs\": {{\\n    \"NivelAventura\": {{\\n      \"enum\": [\\n        \"ninguna\",\\n        \"ocasional\",\\n        \"extrema\"\\n      ],\\n      \"title\": \"NivelAventura\",\\n      \"type\": \"string\"\\n    }},\\n    \"PerfilUsuario\": {{\\n      \"properties\": {{\\n        \"altura_mayor_190\": {{\\n          \"anyOf\": [\\n            {{\\n              \"type\": \"string\"\\n            }},\\n            {{\\n              \"type\": \"null\"\\n            }}\\n          ],\\n          \"default\": null,\\n          \"description\": \"¿El usuario mide más de 1.90 metros? Responde \\'sí\\' o \\'no\\'\",\\n          \"title\": \"Altura Mayor 190\"\\n        }},\\n        \"peso_mayor_100\": {{\\n          \"anyOf\": [\\n            {{\\n              \"type\": \"string\"\\n            }},\\n            {{\\n              \"type\": \"null\"\\n            }}\\n          ],\\n          \"default\": null,\\n          \"description\": \"¿El usuario pesa más de 100 kg? Responde \\'sí\\' o \\'no\\'\",\\n          \"title\": \"Peso Mayor 100\"\\n        }},\\n        \"uso_profesional\": {{\\n          \"anyOf\": [\\n            {{\\n              \"type\": \"string\"\\n            }},\\n            {{\\n              \"type\": \"null\"\\n            }}\\n          ],\\n          \"default\": null,\\n          \"description\": \"¿Usará el coche para trabajo? Responde \\'sí\\' o \\'no\\'\",\\n          \"title\": \"Uso Profesional\"\\n        }},\\n        \"valora_estetica\": {{\\n          \"anyOf\": [\\n            {{\\n              \"type\": \"string\"\\n            }},\\n            {{\\n              \"type\": \"null\"\\n            }}\\n          ],\\n          \"default\": null,\\n          \"description\": \"¿Valora la estética del coche? Responde \\'sí\\' o \\'no\\'\",\\n          \"title\": \"Valora Estetica\"\\n        }},\\n        \"solo_electricos\": {{\\n          \"anyOf\": [\\n            {{\\n              \"type\": \"string\"\\n            }},\\n            {{\\n              \"type\": \"null\"\\n            }}\\n          ],\\n          \"default\": null,\\n          \"description\": \"¿Quiere solo coches eléctricos? Responde \\'sí\\' o \\'no\\'\",\\n          \"title\": \"Solo Electricos\"\\n        }},\\n        \"transmision_preferida\": {{\\n          \"anyOf\": [\\n            {{\\n              \"$ref\": \"#/$defs/Transmision\"\\n            }},\\n            {{\\n              \"type\": \"null\"\\n            }}\\n          ],\\n          \"default\": null,\\n          \"description\": \"¿Qué transmisión prefieres: automático, manual o ambos?\"\\n        }},\\n        \"apasionado_motor\": {{\\n          \"anyOf\": [\\n            {{\\n              \"type\": \"string\"\\n            }},\\n            {{\\n              \"type\": \"null\"\\n            }}\\n          ],\\n          \"default\": null,\\n          \"description\": \"¿Eres un apasionado/a del motor y/o la movilidad? Responde \\'sí\\' o \\'no\\'\",\\n          \"title\": \"Apasionado Motor\"\\n        }},\\n        \"aventura\": {{\\n          \"anyOf\": [\\n            {{\\n              \"$ref\": \"#/$defs/NivelAventura\"\\n            }},\\n            {{\\n              \"type\": \"null\"\\n            }}\\n          ],\\n          \"default\": null,\\n          \"description\": \"¿Qué nivel de aventura buscas con tu vehículo: \\'ninguna\\', \\'ocasional\\' o \\'extrema\\'?\"\\n        }}\\n      }},\\n      \"title\": \"PerfilUsuario\",\\n      \"type\": \"object\"\\n    }},\\n    \"Transmision\": {{\\n      \"enum\": [\\n        \"automático\",\\n        \"manual\",\\n        \"ambos\"\\n      ],\\n      \"title\": \"Transmision\",\\n      \"type\": \"string\"\\n    }}\\n  }},\\n  \"description\": \"Salida esperada del LLM enfocado solo en el perfil del usuario.\",\\n  \"properties\": {{\\n    \"preferencias_usuario\": {{\\n      \"$ref\": \"#/$defs/PerfilUsuario\",\\n      \"description\": \"Objeto con las preferencias del usuario actualizadas o inferidas.\"\\n    }},\\n    \"tipo_mensaje\": {{\\n      \"description\": \"Clasificación del mensaje: \\'PREGUNTA\\' si se necesita más info de perfil, \\'CONFIRMACION\\' si el perfil parece completo o se confirma un dato, \\'ERROR\\' si hubo un problema irresoluble.\",\\n      \"enum\": [\\n        \"PREGUNTA\",\\n        \"CONFIRMACION\",\\n        \"ERROR\"\\n      ],\\n      \"title\": \"Tipo Mensaje\",\\n      \"type\": \"string\"\\n    }},\\n    \"contenido_mensaje\": {{\\n      \"description\": \"El texto real del mensaje: la pregunta específica, la confirmación, o el detalle del error.\",\\n      \"title\": \"Contenido Mensaje\",\\n      \"type\": \"string\"\\n    }}\\n  }},\\n  \"required\": [\\n    \"preferencias_usuario\",\\n    \"tipo_mensaje\",\\n    \"contenido_mensaje\"\\n  ],\\n  \"title\": \"ResultadoSoloPerfil\",\\n  \"type\": \"object\"\\n}}\\n</Esquema_JSON_Requerido>\\n\\n<Instrucciones_Generales_y_Salida_JSON>\\n\\nLos 8 campos OBLIGATORIOS del `PerfilUsuario` que debes intentar completar son:\\n1.  `altura_mayor_190` (string: \\'sí\\' o \\'no\\')\\n2.  `peso_mayor_100` (string: \\'sí\\' o \\'no\\')\\n3.  `uso_profesional` (string: \\'sí\\' o \\'no\\')\\n4.  `valora_estetica` (string: \\'sí\\' o \\'no\\')\\n5.  `solo_electricos` (string: \\'sí\\' o \\'no\\')\\n6.  `transmision_preferida` (enum: \\'automático\\', \\'manual\\', \\'ambos\\')\\n7.  `apasionado_motor` (string: \\'sí\\' o \\'no\\')\\n8.  `aventura` (enum: \\'ninguna\\', \\'ocasional\\', \\'extrema\\') - IMPORTANTE: Para el campo `aventura`, NO infieras un valor por defecto como \\'ninguna\\' a menos que el usuario lo indique muy explícitamente. Si no hay información clara sobre el nivel de aventura, deja `aventura` como `null`.\\n\\n\\nUna vez que hayas construido el objeto `preferencias_usuario` con la información más actualizada, determina `tipo_mensaje` y `contenido_mensaje` aplicando ESTRICTAMENTE las siguientes reglas en orden:\\n\\n**Regla 1: Inicio de Conversación (Primer Turno)**\\n* Si el historial de conversación solo contiene el primer mensaje del usuario (es decir, estás en el primer turno de recopilación de perfil):\\n    * `tipo_mensaje` DEBE ser `\"PREGUNTA\"`.\\n    * `contenido_mensaje` DEBE incluir un saludo amigable (ej: \"¡Hola! Soy Mentor, tu asistente para encontrar el coche ideal.\") seguido de una pregunta para el primer campo del perfil que desees obtener. Puedes usar una de las plantillas de `<Guias_Preguntas_Perfil>` (por ejemplo, para `altura_mayor_190` o `aventura`).\\n\\n**Regla 2: Perfil Incompleto (Continuación de la Recopilación)**\\n* Después de procesar la última respuesta del usuario y actualizar `preferencias_usuario`, verifica si CUALQUIERA de los 8 campos listados arriba sigue siendo `null`.\\n* **Si UNO O MÁS de los 8 campos son `null`:**\\n    * `tipo_mensaje` DEBE ser `\"PREGUNTA\"`.\\n    * En `contenido_mensaje`, formula UNA SOLA PREGUNTA clara y concisa para obtener información para el PRIMER campo de la lista de 8 que todavía sea `null`, siguiendo un orden de prioridad si lo deseas (p.ej., `uso_profesional`, luego `valora_estetica`, etc.). Utiliza las guías y plantillas de `<Guias_Preguntas_Perfil>`. Intenta variar la formulación para que la conversación sea natural.\\n\\n**Regla 3: Perfil Completado (Todos los Campos Rellenos)**\\n* **SOLO Y EXCLUSIVAMENTE SI TODOS y CADA UNO de los 8 campos listados arriba tienen un valor válido (es decir, NO son `null`)** en el objeto `preferencias_usuario` que has construido:\\n    * `tipo_mensaje` DEBE ser `\"CONFIRMACION\"`.\\n    * En `contenido_mensaje`, pon una confirmación breve y amigable que indique que se ha recopilado toda la información del perfil. Ejemplos: \"¡Perfecto! Ya tenemos tus preferencias principales.\", \"Entendido. Hemos completado tu perfil de preferencias.\", \"¡Genial! Con esto tenemos toda la información de tu perfil.\".\\n    * Asegúrate de que el objeto `preferencias_usuario` en tu salida JSON esté completamente relleno con todos los valores recopilados.\\n\\n**Regla 4: Manejo de Errores**\\n* Si encuentras un problema irresoluble al procesar la información o al intentar generar el JSON, `tipo_mensaje` debe ser `\"ERROR\"` y `contenido_mensaje` debe ser una breve explicación del error.\\n\\n**Directrices Adicionales Importantes:**\\n* **No Inventes Valores:** Es crucial que no asignes valores a `preferencias_usuario` que no se mencionen explícitamente o no se puedan inferir con muy alta certeza de la conversación. En caso de duda, deja el campo como `null` y sigue la Regla 2 para preguntar.\\n* **Enfoque Estricto:** Mantén el enfoque estrictamente en completar los 8 campos de `PerfilUsuario`. NO preguntes ni menciones temas fuera de estos (como precio, características técnicas detalladas, número de pasajeros, etc.) durante esta fase.\\n\\n</Instrucciones_Generales_y_Salida_JSON>\\n\\n<Guias_Preguntas_Perfil>\\n\\nCuando necesites preguntar por uno de estos campos (tipo_mensaje=\\'PREGUNTA\\'), aquí tienes ejemplos de cómo puedes formular la pregunta de forma clara y amigable. Intenta variar la formulación para que la conversación sea más natural, pero asegúrate de que el usuario entienda qué información necesitas:\\naltura_mayor_190:\\n• \"¿Mides más de 1.90 m?\"\\n• \"Para recomendarte un vehículo con espacio adecuado, ¿tu altura supera los 1.90 metros?\"\\npeso_mayor_100:\\n• \"¿Pesas más de 100 kg?\"\\n• \"Para garantizar tu máxima comodidad, ¿tienes un peso superior a 100 kg?\"\\naventura: Usa uno de los <Aventura_Templates>\\n<Aventura_Templates>\\n  • Template 1: \"Hablando de aventura, ¿con cuál de estas afirmaciones te identificas más?\\\\n 1) No pisas nada que no sea asfalto (ninguna)\\\\n 2) Salidas fuera de asfalto ocasionales (ocasional)\\\\n 3) Circular en condiciones duras con total garantía (extrema)\"\\n  • Template 2: \"Para conocer tu espíritu aventurero, dime que prefieres:\\\\n 1) Solo asfalto (ninguna)\\\\n 2) Salidas off‑road de vez en cuando (ocasional)\\\\n 3) Aventurero extremo en terrenos difíciles (extrema)\"\\n  • Template 3: \"Respecto a tus planes de conducción:\\\\n 1) Siempre en carreteras pavimentadas (ninguna)\\\\n 2) A veces me gusta explorar caminos rurales o de tierra (ocasional)\\\\n 3) Necesito un vehículo capaz de enfrentar terrenos realmente desafiantes (extrema)\"\\n  • Template 4: \"Cuéntame sobre tus hábitos de conducción:\\\\n 1) Me mantengo en vías urbanas y autopistas (ninguna)\\\\n 2) De vez en cuando me aventuro por caminos no asfaltados (ocasional)\\\\n 3) Busco regularmente retos off-road y condiciones extremas (extrema)\" \\n</Aventura_Templates> \\nuso_profesional:\\n• \"¿El coche lo destinaras principalmente para uso personal o más para fines profesionales (trabajo)?\"\\n• \"¿Utilizarás el vehículo principalmente para trabajo o para uso personal y familiar?\"\\nvalora_estetica:\\n• \"¿Valoras especialmente la estética del coche ?\"\\n• \"¿Es importante para ti el diseño y la apariencia del vehículo?\"\\nsolo_electricos:\\n• \"¿Quieres solo coches eléctricos?\"\\n• \"¿Estás interesado exclusivamente en vehículos con motorización eléctrica o consideras otras opciones?\"\\ntransmision_preferida:\\n• \"¿Qué tipo de transmisión prefieres?\\\\n 1) Automático\\\\n 2) Manual\\\\n 3) Ambos\"\\n• \"En cuanto a la transmisión, ¿qué opción se ajusta mejor a tus preferencias?\\\\n 1) Automático\\\\n 2) Manual\\\\n 3) Ambos, puedo considerar ambas opciones\"\\napasionado_motor:\\n• \"¿Eres un apasionado del mundo automotriz?\"\\n• \"¿Te consideras una persona entusiasta del mundo del motor y la tecnología automotriz?\"\\n\\n</Guias_Preguntas_Perfil>\\n\\n<Ejemplos_Perfil>\\n\\nEjemplo 1: Inicio -> PREGUNTA (Con Saludo)\\nContexto: [HumanMessage(content=\\'Busco coche\\')]\\n{{\\n  \"preferencias_usuario\": {{ ... todos null ... }},\\n  \"tipo_mensaje\": \"PREGUNTA\", \\n  \"contenido_mensaje\": \"¡Hola! Soy Mentor, tu asistente para encontrar el coche ideal. Para empezar, hablando de aventura, ¿con cuál de estas afirmaciones te identificas más?\\\\n  1) No pisas nada que no sea asfalto (ninguna)\\\\n  2) Salidas fuera de asfalto ocasionales (ocasional)\\\\n  3) Circular en condiciones duras con total garantía (extrema)\"\\n}}\\n\\nEjemplo 2: Información parcial -> PREGUNTA (Solo una pregunta)\\n\\nContexto: [..., HumanMessage(content=\\'Será automático y solo asfalto.\\')]\\nSalida JSON Esperada:\\n{{\\n  \"preferencias_usuario\": {{ ... transmision_preferida=\"automatico\", aventura=\"ninguna\", resto null ... }},\\n  \"tipo_mensaje\": \"PREGUNTA\",\\n  \"contenido_mensaje\": \"¿Mides más de 1.90 m?\" // Pregunta solo por el siguiente campo faltante (ej: altura)\\n}}\\nEjemplo 3: Información completa -> CONFIRMACION\\n\\nContexto: [..., HumanMessage(content=\\'No soy apasionado del motor.\\')] // Asume que esta era la última respuesta necesaria\\nSalida JSON Esperada:\\n{{\\n  \"preferencias_usuario\": {{ ... todo relleno correctamente ... }},\\n  \"tipo_mensaje\": \"CONFIRMACION\",\\n  \"contenido_mensaje\": \"¡Perfecto! Ya tenemos tus preferencias principales.\" \\n}}\\n</Ejemplos_Perfil>\\n\\n<Formato_Salida_JSON_Final>\\nGenera únicamente el objeto JSON completo y válido solicitado que cumpla el esquema ResultadoSoloPerfil.\\n{{ \\n  \"preferencias_usuario\": {{ ... }},\\n  \"tipo_mensaje\": \"<\\'PREGUNTA\\' o \\'CONFIRMACION\\' o \\'ERROR\\'>\",\\n  \"contenido_mensaje\": \"<string>\"\\n}}', 'role': 'user'}, {'content': 'Quiero un coche mido 1.93. Peso 80 kg', 'role': 'user'}, {'content': '¿Usarás el coche para trabajo o para uso personal y familiar?', 'role': 'assistant'}, {'content': 'para uso personal', 'role': 'user'}, {'content': '¿Valoras especialmente la estética del coche?', 'role': 'assistant'}, {'content': 'si valoro la estetica', 'role': 'user'}, {'content': '¿Quieres solo coches eléctricos?', 'role': 'assistant'}, {'content': 'no a combustion tambien', 'role': 'user'}, {'content': '¿Qué tipo de transmisión prefieres?\\n 1) Automático\\n 2) Manual\\n 3) Ambos', 'role': 'assistant'}, {'content': 'la numero 3', 'role': 'user'}], 'model': 'gpt-4o-mini', 'response_format': {'type': 'json_schema', 'json_schema': {'schema': {'$defs': {'NivelAventura': {'enum': ['ninguna', 'ocasional', 'extrema'], 'title': 'NivelAventura', 'type': 'string'}, 'PerfilUsuario': {'properties': {'altura_mayor_190': {'anyOf': [{'type': 'string'}, {'type': 'null'}], 'description': \"¿El usuario mide más de 1.90 metros? Responde 'sí' o 'no'\", 'title': 'Altura Mayor 190'}, 'peso_mayor_100': {'anyOf': [{'type': 'string'}, {'type': 'null'}], 'description': \"¿El usuario pesa más de 100 kg? Responde 'sí' o 'no'\", 'title': 'Peso Mayor 100'}, 'uso_profesional': {'anyOf': [{'type': 'string'}, {'type': 'null'}], 'description': \"¿Usará el coche para trabajo? Responde 'sí' o 'no'\", 'title': 'Uso Profesional'}, 'valora_estetica': {'anyOf': [{'type': 'string'}, {'type': 'null'}], 'description': \"¿Valora la estética del coche? Responde 'sí' o 'no'\", 'title': 'Valora Estetica'}, 'solo_electricos': {'anyOf': [{'type': 'string'}, {'type': 'null'}], 'description': \"¿Quiere solo coches eléctricos? Responde 'sí' o 'no'\", 'title': 'Solo Electricos'}, 'transmision_preferida': {'anyOf': [{'$ref': '#/$defs/Transmision'}, {'type': 'null'}], 'description': '¿Qué transmisión prefieres: automático, manual o ambos?'}, 'apasionado_motor': {'anyOf': [{'type': 'string'}, {'type': 'null'}], 'description': \"¿Eres un apasionado/a del motor y/o la movilidad? Responde 'sí' o 'no'\", 'title': 'Apasionado Motor'}, 'aventura': {'anyOf': [{'$ref': '#/$defs/NivelAventura'}, {'type': 'null'}], 'description': \"¿Qué nivel de aventura buscas con tu vehículo: 'ninguna', 'ocasional' o 'extrema'?\"}}, 'title': 'PerfilUsuario', 'type': 'object', 'additionalProperties': False, 'required': ['altura_mayor_190', 'peso_mayor_100', 'uso_profesional', 'valora_estetica', 'solo_electricos', 'transmision_preferida', 'apasionado_motor', 'aventura']}, 'Transmision': {'enum': ['automático', 'manual', 'ambos'], 'title': 'Transmision', 'type': 'string'}}, 'description': 'Salida esperada del LLM enfocado solo en el perfil del usuario.', 'properties': {'preferencias_usuario': {'description': 'Objeto con las preferencias del usuario actualizadas o inferidas.', 'properties': {'altura_mayor_190': {'anyOf': [{'type': 'string'}, {'type': 'null'}], 'description': \"¿El usuario mide más de 1.90 metros? Responde 'sí' o 'no'\", 'title': 'Altura Mayor 190'}, 'peso_mayor_100': {'anyOf': [{'type': 'string'}, {'type': 'null'}], 'description': \"¿El usuario pesa más de 100 kg? Responde 'sí' o 'no'\", 'title': 'Peso Mayor 100'}, 'uso_profesional': {'anyOf': [{'type': 'string'}, {'type': 'null'}], 'description': \"¿Usará el coche para trabajo? Responde 'sí' o 'no'\", 'title': 'Uso Profesional'}, 'valora_estetica': {'anyOf': [{'type': 'string'}, {'type': 'null'}], 'description': \"¿Valora la estética del coche? Responde 'sí' o 'no'\", 'title': 'Valora Estetica'}, 'solo_electricos': {'anyOf': [{'type': 'string'}, {'type': 'null'}], 'description': \"¿Quiere solo coches eléctricos? Responde 'sí' o 'no'\", 'title': 'Solo Electricos'}, 'transmision_preferida': {'anyOf': [{'$ref': '#/$defs/Transmision'}, {'type': 'null'}], 'description': '¿Qué transmisión prefieres: automático, manual o ambos?'}, 'apasionado_motor': {'anyOf': [{'type': 'string'}, {'type': 'null'}], 'description': \"¿Eres un apasionado/a del motor y/o la movilidad? Responde 'sí' o 'no'\", 'title': 'Apasionado Motor'}, 'aventura': {'anyOf': [{'$ref': '#/$defs/NivelAventura'}, {'type': 'null'}], 'description': \"¿Qué nivel de aventura buscas con tu vehículo: 'ninguna', 'ocasional' o 'extrema'?\"}}, 'title': 'PerfilUsuario', 'type': 'object', 'additionalProperties': False, 'required': ['altura_mayor_190', 'peso_mayor_100', 'uso_profesional', 'valora_estetica', 'solo_electricos', 'transmision_preferida', 'apasionado_motor', 'aventura']}, 'tipo_mensaje': {'description': \"Clasificación del mensaje: 'PREGUNTA' si se necesita más info de perfil, 'CONFIRMACION' si el perfil parece completo o se confirma un dato, 'ERROR' si hubo un problema irresoluble.\", 'enum': ['PREGUNTA', 'CONFIRMACION', 'ERROR'], 'title': 'Tipo Mensaje', 'type': 'string'}, 'contenido_mensaje': {'description': 'El texto real del mensaje: la pregunta específica, la confirmación, o el detalle del error.', 'title': 'Contenido Mensaje', 'type': 'string'}}, 'required': ['preferencias_usuario', 'tipo_mensaje', 'contenido_mensaje'], 'title': 'ResultadoSoloPerfil', 'type': 'object', 'additionalProperties': False}, 'name': 'ResultadoSoloPerfil', 'strict': True}}, 'stream': False, 'temperature': 0.2}}\n",
      "DEBUG:openai._base_client:Sending HTTP Request: POST https://api.openai.com/v1/chat/completions\n",
      "DEBUG:httpcore.http11:send_request_headers.started request=<Request [b'POST']>\n",
      "DEBUG:httpcore.http11:send_request_headers.complete\n",
      "DEBUG:httpcore.http11:send_request_body.started request=<Request [b'POST']>\n",
      "DEBUG:httpcore.http11:send_request_body.complete\n",
      "DEBUG:httpcore.http11:receive_response_headers.started request=<Request [b'POST']>\n"
     ]
    },
    {
     "name": "stdout",
     "output_type": "stream",
     "text": [
      "--- Ejecutando Nodo: route_based_on_state_node ---\n",
      "\n",
      "--- DEBUG: Evaluating Routing Decision ---\n",
      "--- DEBUG CHECK PERFIL ---\n",
      "Input prefs object: altura_mayor_190='sí' peso_mayor_100='no' uso_profesional='no' valora_estetica='sí' solo_electricos='no' transmision_preferida=None apasionado_motor=None aventura=None\n",
      "Input prefs type: <class 'graph.perfil.state.PerfilUsuario'>\n",
      "Checking field 'altura_mayor_190': value='sí', type=<class 'str'>\n",
      "Checking field 'peso_mayor_100': value='no', type=<class 'str'>\n",
      "Checking field 'uso_profesional': value='no', type=<class 'str'>\n",
      "Checking field 'valora_estetica': value='sí', type=<class 'str'>\n",
      "Checking field 'solo_electricos': value='no', type=<class 'str'>\n",
      "Checking field 'transmision_preferida': value='None', type=<class 'NoneType'>\n",
      "DEBUG (Validation Perfil) ► Campo 'transmision_preferida' está vacío/None.\n",
      "DEBUG Router: Prefs OK? False\n",
      "--- DEBUG CHECK PASAJEROS ---\n",
      "Input info pasajeros: None\n",
      "DEBUG (Validation Pasajeros) ► Objeto InfoPasajeros es None.\n",
      "DEBUG Router: Pasajeros OK? False\n",
      "DEBUG (Validation Filtros) ► Objeto FiltrosInferidos es None.\n",
      "DEBUG Router: Filtros OK? False\n",
      "--- DEBUG CHECK ECONOMIA (Manual) ---\n",
      "Input econ object: None\n",
      "DEBUG (Validation Economía Manual) ► Objeto EconomiaUsuario es None.\n",
      "DEBUG Router: Economía OK? False\n",
      "DEBUG Router: Pesos Calculados? False\n",
      "DEBUG Router: Coches Buscados? False\n",
      "--- DEBUG CHECK PERFIL ---\n",
      "Input prefs object: altura_mayor_190='sí' peso_mayor_100='no' uso_profesional='no' valora_estetica='sí' solo_electricos='no' transmision_preferida=None apasionado_motor=None aventura=None\n",
      "Input prefs type: <class 'graph.perfil.state.PerfilUsuario'>\n",
      "Checking field 'altura_mayor_190': value='sí', type=<class 'str'>\n",
      "Checking field 'peso_mayor_100': value='no', type=<class 'str'>\n",
      "Checking field 'uso_profesional': value='no', type=<class 'str'>\n",
      "Checking field 'valora_estetica': value='sí', type=<class 'str'>\n",
      "Checking field 'solo_electricos': value='no', type=<class 'str'>\n",
      "Checking field 'transmision_preferida': value='None', type=<class 'NoneType'>\n",
      "DEBUG (Validation Perfil) ► Campo 'transmision_preferida' está vacío/None.\n",
      "DEBUG Router: Decisión -> recopilar_preferencias\n",
      "--- Ejecutando Nodo: recopilar_preferencias_node ---\n",
      "DEBUG (Perfil) ► Último mensaje es HumanMessage o historial vacío, llamando a llm_solo_perfil...\n"
     ]
    },
    {
     "name": "stderr",
     "output_type": "stream",
     "text": [
      "DEBUG:httpcore.http11:receive_response_headers.complete return_value=(b'HTTP/1.1', 200, b'OK', [(b'Date', b'Tue, 06 May 2025 17:24:49 GMT'), (b'Content-Type', b'application/json'), (b'Transfer-Encoding', b'chunked'), (b'Connection', b'keep-alive'), (b'access-control-expose-headers', b'X-Request-ID'), (b'openai-organization', b'user-ic25pcewdjuowsz9q2ektvrn'), (b'openai-processing-ms', b'2563'), (b'openai-version', b'2020-10-01'), (b'x-ratelimit-limit-requests', b'10000'), (b'x-ratelimit-limit-tokens', b'200000'), (b'x-ratelimit-remaining-requests', b'9998'), (b'x-ratelimit-remaining-tokens', b'196697'), (b'x-ratelimit-reset-requests', b'16.948s'), (b'x-ratelimit-reset-tokens', b'990ms'), (b'x-request-id', b'req_84452b2accb21df386fac6d7d2892e46'), (b'strict-transport-security', b'max-age=31536000; includeSubDomains; preload'), (b'cf-cache-status', b'DYNAMIC'), (b'X-Content-Type-Options', b'nosniff'), (b'Server', b'cloudflare'), (b'CF-RAY', b'93ba2c508e65f773-MAD'), (b'Content-Encoding', b'gzip'), (b'alt-svc', b'h3=\":443\"; ma=86400')])\n",
      "INFO:httpx:HTTP Request: POST https://api.openai.com/v1/chat/completions \"HTTP/1.1 200 OK\"\n",
      "DEBUG:httpcore.http11:receive_response_body.started request=<Request [b'POST']>\n",
      "DEBUG:httpcore.http11:receive_response_body.complete\n",
      "DEBUG:httpcore.http11:response_closed.started\n",
      "DEBUG:httpcore.http11:response_closed.complete\n",
      "DEBUG:openai._base_client:HTTP Response: POST https://api.openai.com/v1/chat/completions \"200 OK\" Headers({'date': 'Tue, 06 May 2025 17:24:49 GMT', 'content-type': 'application/json', 'transfer-encoding': 'chunked', 'connection': 'keep-alive', 'access-control-expose-headers': 'X-Request-ID', 'openai-organization': 'user-ic25pcewdjuowsz9q2ektvrn', 'openai-processing-ms': '2563', 'openai-version': '2020-10-01', 'x-ratelimit-limit-requests': '10000', 'x-ratelimit-limit-tokens': '200000', 'x-ratelimit-remaining-requests': '9998', 'x-ratelimit-remaining-tokens': '196697', 'x-ratelimit-reset-requests': '16.948s', 'x-ratelimit-reset-tokens': '990ms', 'x-request-id': 'req_84452b2accb21df386fac6d7d2892e46', 'strict-transport-security': 'max-age=31536000; includeSubDomains; preload', 'cf-cache-status': 'DYNAMIC', 'x-content-type-options': 'nosniff', 'server': 'cloudflare', 'cf-ray': '93ba2c508e65f773-MAD', 'content-encoding': 'gzip', 'alt-svc': 'h3=\":443\"; ma=86400'})\n",
      "DEBUG:openai._base_client:request_id: req_84452b2accb21df386fac6d7d2892e46\n"
     ]
    },
    {
     "name": "stdout",
     "output_type": "stream",
     "text": [
      "DEBUG (Perfil) ► Respuesta llm_solo_perfil: preferencias_usuario=PerfilUsuario(altura_mayor_190='sí', peso_mayor_100='no', uso_profesional='no', valora_estetica='sí', solo_electricos='no', transmision_preferida=<Transmision.AMBOS: 'ambos'>, apasionado_motor=None, aventura=None) tipo_mensaje='PREGUNTA' contenido_mensaje='Hablando de aventura, ¿con cuál de estas afirmaciones te identificas más?\\n 1) No pisas nada que no sea asfalto (ninguna)\\n 2) Salidas fuera de asfalto ocasionales (ocasional)\\n 3) Circular en condiciones duras con total garantía (extrema)'\n",
      "DEBUG (Perfil) ► Preferencias TRAS post-procesamiento: altura_mayor_190='sí' peso_mayor_100='no' uso_profesional='no' valora_estetica='sí' solo_electricos='no' transmision_preferida=<Transmision.AMBOS: 'ambos'> apasionado_motor=None aventura=None\n",
      "DEBUG (Perfil) ► Estado preferencias_usuario actualizado: altura_mayor_190='sí' peso_mayor_100='no' uso_profesional='no' valora_estetica='sí' solo_electricos='no' transmision_preferida=<Transmision.AMBOS: 'ambos'> apasionado_motor=None aventura=None\n",
      "DEBUG (Perfil) ► Guardando mensaje pendiente: Hablando de aventura, ¿con cuál de estas afirmaciones te identificas más?\n",
      " 1) No pisas nada que no sea asfalto (ninguna)\n",
      " 2) Salidas fuera de asfalto ocasionales (ocasional)\n",
      " 3) Circular en condiciones duras con total garantía (extrema)\n",
      "--- Ejecutando Nodo: validar_preferencias_node ---\n",
      "--- DEBUG CHECK PERFIL ---\n",
      "Input prefs object: altura_mayor_190='sí' peso_mayor_100='no' uso_profesional='no' valora_estetica='sí' solo_electricos='no' transmision_preferida=<Transmision.AMBOS: 'ambos'> apasionado_motor=None aventura=None\n",
      "Input prefs type: <class 'graph.perfil.state.PerfilUsuario'>\n",
      "Checking field 'altura_mayor_190': value='sí', type=<class 'str'>\n",
      "Checking field 'peso_mayor_100': value='no', type=<class 'str'>\n",
      "Checking field 'uso_profesional': value='no', type=<class 'str'>\n",
      "Checking field 'valora_estetica': value='sí', type=<class 'str'>\n",
      "Checking field 'solo_electricos': value='no', type=<class 'str'>\n",
      "Checking field 'transmision_preferida': value='Transmision.AMBOS', type=<enum 'Transmision'>\n",
      "Checking field 'apasionado_motor': value='None', type=<class 'NoneType'>\n",
      "DEBUG (Validation Perfil) ► Campo 'apasionado_motor' está vacío/None.\n",
      "DEBUG (Perfil) ► Validación: PerfilUsuario considerado INCOMPLETO.\n",
      "--- Evaluando Condición: ruta_decision_perfil ---\n",
      "DEBUG (Condición Perfil) ► Estado 'preferencias_usuario' recibido: altura_mayor_190='sí' peso_mayor_100='no' uso_profesional='no' valora_estetica='sí' solo_electricos='no' transmision_preferida=<Transmision.AMBOS: 'ambos'> apasionado_motor=None aventura=None\n",
      "DEBUG (Condición Perfil) ► Tipo de 'preferencias_usuario': <class 'graph.perfil.state.PerfilUsuario'>\n",
      "--- DEBUG CHECK PERFIL ---\n",
      "Input prefs object: altura_mayor_190='sí' peso_mayor_100='no' uso_profesional='no' valora_estetica='sí' solo_electricos='no' transmision_preferida=<Transmision.AMBOS: 'ambos'> apasionado_motor=None aventura=None\n",
      "Input prefs type: <class 'graph.perfil.state.PerfilUsuario'>\n",
      "Checking field 'altura_mayor_190': value='sí', type=<class 'str'>\n",
      "Checking field 'peso_mayor_100': value='no', type=<class 'str'>\n",
      "Checking field 'uso_profesional': value='no', type=<class 'str'>\n",
      "Checking field 'valora_estetica': value='sí', type=<class 'str'>\n",
      "Checking field 'solo_electricos': value='no', type=<class 'str'>\n",
      "Checking field 'transmision_preferida': value='Transmision.AMBOS', type=<enum 'Transmision'>\n",
      "Checking field 'apasionado_motor': value='None', type=<class 'NoneType'>\n",
      "DEBUG (Validation Perfil) ► Campo 'apasionado_motor' está vacío/None.\n",
      "DEBUG (Condición Perfil) ► Perfil INCOMPLETO. Se necesita pregunta.\n",
      "--- Ejecutando Nodo: preguntar_preferencias_node ---\n",
      "DEBUG (Preguntar Perfil) ► Usando mensaje pendiente: Hablando de aventura, ¿con cuál de estas afirmaciones te identificas más?\n",
      " 1) No pisas nada que no sea asfalto (ninguna)\n",
      " 2) Salidas fuera de asfalto ocasionales (ocasional)\n",
      " 3) Circular en condiciones duras con total garantía (extrema)\n",
      "DEBUG (Preguntar Perfil) ► Mensaje final añadido: Hablando de aventura, ¿con cuál de estas afirmaciones te identificas más?\n",
      " 1) No pisas nada que no sea asfalto (ninguna)\n",
      " 2) Salidas fuera de asfalto ocasionales (ocasional)\n",
      " 3) Circular en condiciones duras con total garantía (extrema)\n",
      "==================================\u001b[1m Ai Message \u001b[0m==================================\n",
      "\n",
      "Hablando de aventura, ¿con cuál de estas afirmaciones te identificas más?\n",
      " 1) No pisas nada que no sea asfalto (ninguna)\n",
      " 2) Salidas fuera de asfalto ocasionales (ocasional)\n",
      " 3) Circular en condiciones duras con total garantía (extrema)\n"
     ]
    }
   ],
   "source": [
    "# Create a thread\n",
    "config = {\"configurable\": {\"thread_id\": \"2\"}}\n",
    "\n",
    "# Start conversation\n",
    "input_message = HumanMessage(content=\"la numero 3\")\n",
    "output = graph.invoke({\"messages\": [input_message]}, config) \n",
    "for m in output['messages'][-1:]:\n",
    "    m.pretty_print()"
   ]
  },
  {
   "cell_type": "code",
   "execution_count": 8,
   "metadata": {},
   "outputs": [
    {
     "name": "stderr",
     "output_type": "stream",
     "text": [
      "DEBUG:openai._base_client:Request options: {'method': 'post', 'url': '/chat/completions', 'headers': {'X-Stainless-Helper-Method': 'beta.chat.completions.parse'}, 'files': None, 'post_parser': <function Completions.parse.<locals>.parser at 0x11579bd80>, 'json_data': {'messages': [{'content': '<Role>\\nEres un asistente de conversación amigable y metodológico. Tu misión actual es conocer las preferencias generales y el perfil básico de un usuario que busca un coche (`PerfilUsuario`). Tu salida SIEMPRE debe ser un objeto JSON válido que cumpla el esquema `ResultadoSoloPerfil`.\\n</Role>\\n\\n<Esquema_JSON_Requerido>\\nLa estructura JSON que DEBES generar es la siguiente:\\n```json\\n{{\\n  \"$defs\": {{\\n    \"NivelAventura\": {{\\n      \"enum\": [\\n        \"ninguna\",\\n        \"ocasional\",\\n        \"extrema\"\\n      ],\\n      \"title\": \"NivelAventura\",\\n      \"type\": \"string\"\\n    }},\\n    \"PerfilUsuario\": {{\\n      \"properties\": {{\\n        \"altura_mayor_190\": {{\\n          \"anyOf\": [\\n            {{\\n              \"type\": \"string\"\\n            }},\\n            {{\\n              \"type\": \"null\"\\n            }}\\n          ],\\n          \"default\": null,\\n          \"description\": \"¿El usuario mide más de 1.90 metros? Responde \\'sí\\' o \\'no\\'\",\\n          \"title\": \"Altura Mayor 190\"\\n        }},\\n        \"peso_mayor_100\": {{\\n          \"anyOf\": [\\n            {{\\n              \"type\": \"string\"\\n            }},\\n            {{\\n              \"type\": \"null\"\\n            }}\\n          ],\\n          \"default\": null,\\n          \"description\": \"¿El usuario pesa más de 100 kg? Responde \\'sí\\' o \\'no\\'\",\\n          \"title\": \"Peso Mayor 100\"\\n        }},\\n        \"uso_profesional\": {{\\n          \"anyOf\": [\\n            {{\\n              \"type\": \"string\"\\n            }},\\n            {{\\n              \"type\": \"null\"\\n            }}\\n          ],\\n          \"default\": null,\\n          \"description\": \"¿Usará el coche para trabajo? Responde \\'sí\\' o \\'no\\'\",\\n          \"title\": \"Uso Profesional\"\\n        }},\\n        \"valora_estetica\": {{\\n          \"anyOf\": [\\n            {{\\n              \"type\": \"string\"\\n            }},\\n            {{\\n              \"type\": \"null\"\\n            }}\\n          ],\\n          \"default\": null,\\n          \"description\": \"¿Valora la estética del coche? Responde \\'sí\\' o \\'no\\'\",\\n          \"title\": \"Valora Estetica\"\\n        }},\\n        \"solo_electricos\": {{\\n          \"anyOf\": [\\n            {{\\n              \"type\": \"string\"\\n            }},\\n            {{\\n              \"type\": \"null\"\\n            }}\\n          ],\\n          \"default\": null,\\n          \"description\": \"¿Quiere solo coches eléctricos? Responde \\'sí\\' o \\'no\\'\",\\n          \"title\": \"Solo Electricos\"\\n        }},\\n        \"transmision_preferida\": {{\\n          \"anyOf\": [\\n            {{\\n              \"$ref\": \"#/$defs/Transmision\"\\n            }},\\n            {{\\n              \"type\": \"null\"\\n            }}\\n          ],\\n          \"default\": null,\\n          \"description\": \"¿Qué transmisión prefieres: automático, manual o ambos?\"\\n        }},\\n        \"apasionado_motor\": {{\\n          \"anyOf\": [\\n            {{\\n              \"type\": \"string\"\\n            }},\\n            {{\\n              \"type\": \"null\"\\n            }}\\n          ],\\n          \"default\": null,\\n          \"description\": \"¿Eres un apasionado/a del motor y/o la movilidad? Responde \\'sí\\' o \\'no\\'\",\\n          \"title\": \"Apasionado Motor\"\\n        }},\\n        \"aventura\": {{\\n          \"anyOf\": [\\n            {{\\n              \"$ref\": \"#/$defs/NivelAventura\"\\n            }},\\n            {{\\n              \"type\": \"null\"\\n            }}\\n          ],\\n          \"default\": null,\\n          \"description\": \"¿Qué nivel de aventura buscas con tu vehículo: \\'ninguna\\', \\'ocasional\\' o \\'extrema\\'?\"\\n        }}\\n      }},\\n      \"title\": \"PerfilUsuario\",\\n      \"type\": \"object\"\\n    }},\\n    \"Transmision\": {{\\n      \"enum\": [\\n        \"automático\",\\n        \"manual\",\\n        \"ambos\"\\n      ],\\n      \"title\": \"Transmision\",\\n      \"type\": \"string\"\\n    }}\\n  }},\\n  \"description\": \"Salida esperada del LLM enfocado solo en el perfil del usuario.\",\\n  \"properties\": {{\\n    \"preferencias_usuario\": {{\\n      \"$ref\": \"#/$defs/PerfilUsuario\",\\n      \"description\": \"Objeto con las preferencias del usuario actualizadas o inferidas.\"\\n    }},\\n    \"tipo_mensaje\": {{\\n      \"description\": \"Clasificación del mensaje: \\'PREGUNTA\\' si se necesita más info de perfil, \\'CONFIRMACION\\' si el perfil parece completo o se confirma un dato, \\'ERROR\\' si hubo un problema irresoluble.\",\\n      \"enum\": [\\n        \"PREGUNTA\",\\n        \"CONFIRMACION\",\\n        \"ERROR\"\\n      ],\\n      \"title\": \"Tipo Mensaje\",\\n      \"type\": \"string\"\\n    }},\\n    \"contenido_mensaje\": {{\\n      \"description\": \"El texto real del mensaje: la pregunta específica, la confirmación, o el detalle del error.\",\\n      \"title\": \"Contenido Mensaje\",\\n      \"type\": \"string\"\\n    }}\\n  }},\\n  \"required\": [\\n    \"preferencias_usuario\",\\n    \"tipo_mensaje\",\\n    \"contenido_mensaje\"\\n  ],\\n  \"title\": \"ResultadoSoloPerfil\",\\n  \"type\": \"object\"\\n}}\\n</Esquema_JSON_Requerido>\\n\\n<Instrucciones_Generales_y_Salida_JSON>\\n\\nLos 8 campos OBLIGATORIOS del `PerfilUsuario` que debes intentar completar son:\\n1.  `altura_mayor_190` (string: \\'sí\\' o \\'no\\')\\n2.  `peso_mayor_100` (string: \\'sí\\' o \\'no\\')\\n3.  `uso_profesional` (string: \\'sí\\' o \\'no\\')\\n4.  `valora_estetica` (string: \\'sí\\' o \\'no\\')\\n5.  `solo_electricos` (string: \\'sí\\' o \\'no\\')\\n6.  `transmision_preferida` (enum: \\'automático\\', \\'manual\\', \\'ambos\\')\\n7.  `apasionado_motor` (string: \\'sí\\' o \\'no\\')\\n8.  `aventura` (enum: \\'ninguna\\', \\'ocasional\\', \\'extrema\\') - IMPORTANTE: Para el campo `aventura`, NO infieras un valor por defecto como \\'ninguna\\' a menos que el usuario lo indique muy explícitamente. Si no hay información clara sobre el nivel de aventura, deja `aventura` como `null`.\\n\\n\\nUna vez que hayas construido el objeto `preferencias_usuario` con la información más actualizada, determina `tipo_mensaje` y `contenido_mensaje` aplicando ESTRICTAMENTE las siguientes reglas en orden:\\n\\n**Regla 1: Inicio de Conversación (Primer Turno)**\\n* Si el historial de conversación solo contiene el primer mensaje del usuario (es decir, estás en el primer turno de recopilación de perfil):\\n    * `tipo_mensaje` DEBE ser `\"PREGUNTA\"`.\\n    * `contenido_mensaje` DEBE incluir un saludo amigable (ej: \"¡Hola! Soy Mentor, tu asistente para encontrar el coche ideal.\") seguido de una pregunta para el primer campo del perfil que desees obtener. Puedes usar una de las plantillas de `<Guias_Preguntas_Perfil>` (por ejemplo, para `altura_mayor_190` o `aventura`).\\n\\n**Regla 2: Perfil Incompleto (Continuación de la Recopilación)**\\n* Después de procesar la última respuesta del usuario y actualizar `preferencias_usuario`, verifica si CUALQUIERA de los 8 campos listados arriba sigue siendo `null`.\\n* **Si UNO O MÁS de los 8 campos son `null`:**\\n    * `tipo_mensaje` DEBE ser `\"PREGUNTA\"`.\\n    * En `contenido_mensaje`, formula UNA SOLA PREGUNTA clara y concisa para obtener información para el PRIMER campo de la lista de 8 que todavía sea `null`, siguiendo un orden de prioridad si lo deseas (p.ej., `uso_profesional`, luego `valora_estetica`, etc.). Utiliza las guías y plantillas de `<Guias_Preguntas_Perfil>`. Intenta variar la formulación para que la conversación sea natural.\\n\\n**Regla 3: Perfil Completado (Todos los Campos Rellenos)**\\n* **SOLO Y EXCLUSIVAMENTE SI TODOS y CADA UNO de los 8 campos listados arriba tienen un valor válido (es decir, NO son `null`)** en el objeto `preferencias_usuario` que has construido:\\n    * `tipo_mensaje` DEBE ser `\"CONFIRMACION\"`.\\n    * En `contenido_mensaje`, pon una confirmación breve y amigable que indique que se ha recopilado toda la información del perfil. Ejemplos: \"¡Perfecto! Ya tenemos tus preferencias principales.\", \"Entendido. Hemos completado tu perfil de preferencias.\", \"¡Genial! Con esto tenemos toda la información de tu perfil.\".\\n    * Asegúrate de que el objeto `preferencias_usuario` en tu salida JSON esté completamente relleno con todos los valores recopilados.\\n\\n**Regla 4: Manejo de Errores**\\n* Si encuentras un problema irresoluble al procesar la información o al intentar generar el JSON, `tipo_mensaje` debe ser `\"ERROR\"` y `contenido_mensaje` debe ser una breve explicación del error.\\n\\n**Directrices Adicionales Importantes:**\\n* **No Inventes Valores:** Es crucial que no asignes valores a `preferencias_usuario` que no se mencionen explícitamente o no se puedan inferir con muy alta certeza de la conversación. En caso de duda, deja el campo como `null` y sigue la Regla 2 para preguntar.\\n* **Enfoque Estricto:** Mantén el enfoque estrictamente en completar los 8 campos de `PerfilUsuario`. NO preguntes ni menciones temas fuera de estos (como precio, características técnicas detalladas, número de pasajeros, etc.) durante esta fase.\\n\\n</Instrucciones_Generales_y_Salida_JSON>\\n\\n<Guias_Preguntas_Perfil>\\n\\nCuando necesites preguntar por uno de estos campos (tipo_mensaje=\\'PREGUNTA\\'), aquí tienes ejemplos de cómo puedes formular la pregunta de forma clara y amigable. Intenta variar la formulación para que la conversación sea más natural, pero asegúrate de que el usuario entienda qué información necesitas:\\naltura_mayor_190:\\n• \"¿Mides más de 1.90 m?\"\\n• \"Para recomendarte un vehículo con espacio adecuado, ¿tu altura supera los 1.90 metros?\"\\npeso_mayor_100:\\n• \"¿Pesas más de 100 kg?\"\\n• \"Para garantizar tu máxima comodidad, ¿tienes un peso superior a 100 kg?\"\\naventura: Usa uno de los <Aventura_Templates>\\n<Aventura_Templates>\\n  • Template 1: \"Hablando de aventura, ¿con cuál de estas afirmaciones te identificas más?\\\\n 1) No pisas nada que no sea asfalto (ninguna)\\\\n 2) Salidas fuera de asfalto ocasionales (ocasional)\\\\n 3) Circular en condiciones duras con total garantía (extrema)\"\\n  • Template 2: \"Para conocer tu espíritu aventurero, dime que prefieres:\\\\n 1) Solo asfalto (ninguna)\\\\n 2) Salidas off‑road de vez en cuando (ocasional)\\\\n 3) Aventurero extremo en terrenos difíciles (extrema)\"\\n  • Template 3: \"Respecto a tus planes de conducción:\\\\n 1) Siempre en carreteras pavimentadas (ninguna)\\\\n 2) A veces me gusta explorar caminos rurales o de tierra (ocasional)\\\\n 3) Necesito un vehículo capaz de enfrentar terrenos realmente desafiantes (extrema)\"\\n  • Template 4: \"Cuéntame sobre tus hábitos de conducción:\\\\n 1) Me mantengo en vías urbanas y autopistas (ninguna)\\\\n 2) De vez en cuando me aventuro por caminos no asfaltados (ocasional)\\\\n 3) Busco regularmente retos off-road y condiciones extremas (extrema)\" \\n</Aventura_Templates> \\nuso_profesional:\\n• \"¿El coche lo destinaras principalmente para uso personal o más para fines profesionales (trabajo)?\"\\n• \"¿Utilizarás el vehículo principalmente para trabajo o para uso personal y familiar?\"\\nvalora_estetica:\\n• \"¿Valoras especialmente la estética del coche ?\"\\n• \"¿Es importante para ti el diseño y la apariencia del vehículo?\"\\nsolo_electricos:\\n• \"¿Quieres solo coches eléctricos?\"\\n• \"¿Estás interesado exclusivamente en vehículos con motorización eléctrica o consideras otras opciones?\"\\ntransmision_preferida:\\n• \"¿Qué tipo de transmisión prefieres?\\\\n 1) Automático\\\\n 2) Manual\\\\n 3) Ambos\"\\n• \"En cuanto a la transmisión, ¿qué opción se ajusta mejor a tus preferencias?\\\\n 1) Automático\\\\n 2) Manual\\\\n 3) Ambos, puedo considerar ambas opciones\"\\napasionado_motor:\\n• \"¿Eres un apasionado del mundo automotriz?\"\\n• \"¿Te consideras una persona entusiasta del mundo del motor y la tecnología automotriz?\"\\n\\n</Guias_Preguntas_Perfil>\\n\\n<Ejemplos_Perfil>\\n\\nEjemplo 1: Inicio -> PREGUNTA (Con Saludo)\\nContexto: [HumanMessage(content=\\'Busco coche\\')]\\n{{\\n  \"preferencias_usuario\": {{ ... todos null ... }},\\n  \"tipo_mensaje\": \"PREGUNTA\", \\n  \"contenido_mensaje\": \"¡Hola! Soy Mentor, tu asistente para encontrar el coche ideal. Para empezar, hablando de aventura, ¿con cuál de estas afirmaciones te identificas más?\\\\n  1) No pisas nada que no sea asfalto (ninguna)\\\\n  2) Salidas fuera de asfalto ocasionales (ocasional)\\\\n  3) Circular en condiciones duras con total garantía (extrema)\"\\n}}\\n\\nEjemplo 2: Información parcial -> PREGUNTA (Solo una pregunta)\\n\\nContexto: [..., HumanMessage(content=\\'Será automático y solo asfalto.\\')]\\nSalida JSON Esperada:\\n{{\\n  \"preferencias_usuario\": {{ ... transmision_preferida=\"automatico\", aventura=\"ninguna\", resto null ... }},\\n  \"tipo_mensaje\": \"PREGUNTA\",\\n  \"contenido_mensaje\": \"¿Mides más de 1.90 m?\" // Pregunta solo por el siguiente campo faltante (ej: altura)\\n}}\\nEjemplo 3: Información completa -> CONFIRMACION\\n\\nContexto: [..., HumanMessage(content=\\'No soy apasionado del motor.\\')] // Asume que esta era la última respuesta necesaria\\nSalida JSON Esperada:\\n{{\\n  \"preferencias_usuario\": {{ ... todo relleno correctamente ... }},\\n  \"tipo_mensaje\": \"CONFIRMACION\",\\n  \"contenido_mensaje\": \"¡Perfecto! Ya tenemos tus preferencias principales.\" \\n}}\\n</Ejemplos_Perfil>\\n\\n<Formato_Salida_JSON_Final>\\nGenera únicamente el objeto JSON completo y válido solicitado que cumpla el esquema ResultadoSoloPerfil.\\n{{ \\n  \"preferencias_usuario\": {{ ... }},\\n  \"tipo_mensaje\": \"<\\'PREGUNTA\\' o \\'CONFIRMACION\\' o \\'ERROR\\'>\",\\n  \"contenido_mensaje\": \"<string>\"\\n}}', 'role': 'user'}, {'content': 'Quiero un coche mido 1.93. Peso 80 kg', 'role': 'user'}, {'content': '¿Usarás el coche para trabajo o para uso personal y familiar?', 'role': 'assistant'}, {'content': 'para uso personal', 'role': 'user'}, {'content': '¿Valoras especialmente la estética del coche?', 'role': 'assistant'}, {'content': 'si valoro la estetica', 'role': 'user'}, {'content': '¿Quieres solo coches eléctricos?', 'role': 'assistant'}, {'content': 'no a combustion tambien', 'role': 'user'}, {'content': '¿Qué tipo de transmisión prefieres?\\n 1) Automático\\n 2) Manual\\n 3) Ambos', 'role': 'assistant'}, {'content': 'la numero 3', 'role': 'user'}, {'content': 'Hablando de aventura, ¿con cuál de estas afirmaciones te identificas más?\\n 1) No pisas nada que no sea asfalto (ninguna)\\n 2) Salidas fuera de asfalto ocasionales (ocasional)\\n 3) Circular en condiciones duras con total garantía (extrema)', 'role': 'assistant'}, {'content': 'la 2', 'role': 'user'}], 'model': 'gpt-4o-mini', 'response_format': {'type': 'json_schema', 'json_schema': {'schema': {'$defs': {'NivelAventura': {'enum': ['ninguna', 'ocasional', 'extrema'], 'title': 'NivelAventura', 'type': 'string'}, 'PerfilUsuario': {'properties': {'altura_mayor_190': {'anyOf': [{'type': 'string'}, {'type': 'null'}], 'description': \"¿El usuario mide más de 1.90 metros? Responde 'sí' o 'no'\", 'title': 'Altura Mayor 190'}, 'peso_mayor_100': {'anyOf': [{'type': 'string'}, {'type': 'null'}], 'description': \"¿El usuario pesa más de 100 kg? Responde 'sí' o 'no'\", 'title': 'Peso Mayor 100'}, 'uso_profesional': {'anyOf': [{'type': 'string'}, {'type': 'null'}], 'description': \"¿Usará el coche para trabajo? Responde 'sí' o 'no'\", 'title': 'Uso Profesional'}, 'valora_estetica': {'anyOf': [{'type': 'string'}, {'type': 'null'}], 'description': \"¿Valora la estética del coche? Responde 'sí' o 'no'\", 'title': 'Valora Estetica'}, 'solo_electricos': {'anyOf': [{'type': 'string'}, {'type': 'null'}], 'description': \"¿Quiere solo coches eléctricos? Responde 'sí' o 'no'\", 'title': 'Solo Electricos'}, 'transmision_preferida': {'anyOf': [{'$ref': '#/$defs/Transmision'}, {'type': 'null'}], 'description': '¿Qué transmisión prefieres: automático, manual o ambos?'}, 'apasionado_motor': {'anyOf': [{'type': 'string'}, {'type': 'null'}], 'description': \"¿Eres un apasionado/a del motor y/o la movilidad? Responde 'sí' o 'no'\", 'title': 'Apasionado Motor'}, 'aventura': {'anyOf': [{'$ref': '#/$defs/NivelAventura'}, {'type': 'null'}], 'description': \"¿Qué nivel de aventura buscas con tu vehículo: 'ninguna', 'ocasional' o 'extrema'?\"}}, 'title': 'PerfilUsuario', 'type': 'object', 'additionalProperties': False, 'required': ['altura_mayor_190', 'peso_mayor_100', 'uso_profesional', 'valora_estetica', 'solo_electricos', 'transmision_preferida', 'apasionado_motor', 'aventura']}, 'Transmision': {'enum': ['automático', 'manual', 'ambos'], 'title': 'Transmision', 'type': 'string'}}, 'description': 'Salida esperada del LLM enfocado solo en el perfil del usuario.', 'properties': {'preferencias_usuario': {'description': 'Objeto con las preferencias del usuario actualizadas o inferidas.', 'properties': {'altura_mayor_190': {'anyOf': [{'type': 'string'}, {'type': 'null'}], 'description': \"¿El usuario mide más de 1.90 metros? Responde 'sí' o 'no'\", 'title': 'Altura Mayor 190'}, 'peso_mayor_100': {'anyOf': [{'type': 'string'}, {'type': 'null'}], 'description': \"¿El usuario pesa más de 100 kg? Responde 'sí' o 'no'\", 'title': 'Peso Mayor 100'}, 'uso_profesional': {'anyOf': [{'type': 'string'}, {'type': 'null'}], 'description': \"¿Usará el coche para trabajo? Responde 'sí' o 'no'\", 'title': 'Uso Profesional'}, 'valora_estetica': {'anyOf': [{'type': 'string'}, {'type': 'null'}], 'description': \"¿Valora la estética del coche? Responde 'sí' o 'no'\", 'title': 'Valora Estetica'}, 'solo_electricos': {'anyOf': [{'type': 'string'}, {'type': 'null'}], 'description': \"¿Quiere solo coches eléctricos? Responde 'sí' o 'no'\", 'title': 'Solo Electricos'}, 'transmision_preferida': {'anyOf': [{'$ref': '#/$defs/Transmision'}, {'type': 'null'}], 'description': '¿Qué transmisión prefieres: automático, manual o ambos?'}, 'apasionado_motor': {'anyOf': [{'type': 'string'}, {'type': 'null'}], 'description': \"¿Eres un apasionado/a del motor y/o la movilidad? Responde 'sí' o 'no'\", 'title': 'Apasionado Motor'}, 'aventura': {'anyOf': [{'$ref': '#/$defs/NivelAventura'}, {'type': 'null'}], 'description': \"¿Qué nivel de aventura buscas con tu vehículo: 'ninguna', 'ocasional' o 'extrema'?\"}}, 'title': 'PerfilUsuario', 'type': 'object', 'additionalProperties': False, 'required': ['altura_mayor_190', 'peso_mayor_100', 'uso_profesional', 'valora_estetica', 'solo_electricos', 'transmision_preferida', 'apasionado_motor', 'aventura']}, 'tipo_mensaje': {'description': \"Clasificación del mensaje: 'PREGUNTA' si se necesita más info de perfil, 'CONFIRMACION' si el perfil parece completo o se confirma un dato, 'ERROR' si hubo un problema irresoluble.\", 'enum': ['PREGUNTA', 'CONFIRMACION', 'ERROR'], 'title': 'Tipo Mensaje', 'type': 'string'}, 'contenido_mensaje': {'description': 'El texto real del mensaje: la pregunta específica, la confirmación, o el detalle del error.', 'title': 'Contenido Mensaje', 'type': 'string'}}, 'required': ['preferencias_usuario', 'tipo_mensaje', 'contenido_mensaje'], 'title': 'ResultadoSoloPerfil', 'type': 'object', 'additionalProperties': False}, 'name': 'ResultadoSoloPerfil', 'strict': True}}, 'stream': False, 'temperature': 0.2}}\n",
      "DEBUG:openai._base_client:Sending HTTP Request: POST https://api.openai.com/v1/chat/completions\n",
      "DEBUG:httpcore.connection:close.started\n",
      "DEBUG:httpcore.connection:close.complete\n",
      "DEBUG:httpcore.connection:connect_tcp.started host='api.openai.com' port=443 local_address=None timeout=None socket_options=None\n",
      "DEBUG:httpcore.connection:connect_tcp.complete return_value=<httpcore._backends.sync.SyncStream object at 0x11596e990>\n",
      "DEBUG:httpcore.connection:start_tls.started ssl_context=<ssl.SSLContext object at 0x1072c4e60> server_hostname='api.openai.com' timeout=None\n",
      "DEBUG:httpcore.connection:start_tls.complete return_value=<httpcore._backends.sync.SyncStream object at 0x12170e290>\n",
      "DEBUG:httpcore.http11:send_request_headers.started request=<Request [b'POST']>\n",
      "DEBUG:httpcore.http11:send_request_headers.complete\n",
      "DEBUG:httpcore.http11:send_request_body.started request=<Request [b'POST']>\n",
      "DEBUG:httpcore.http11:send_request_body.complete\n",
      "DEBUG:httpcore.http11:receive_response_headers.started request=<Request [b'POST']>\n"
     ]
    },
    {
     "name": "stdout",
     "output_type": "stream",
     "text": [
      "--- Ejecutando Nodo: route_based_on_state_node ---\n",
      "\n",
      "--- DEBUG: Evaluating Routing Decision ---\n",
      "--- DEBUG CHECK PERFIL ---\n",
      "Input prefs object: altura_mayor_190='sí' peso_mayor_100='no' uso_profesional='no' valora_estetica='sí' solo_electricos='no' transmision_preferida=<Transmision.AMBOS: 'ambos'> apasionado_motor=None aventura=None\n",
      "Input prefs type: <class 'graph.perfil.state.PerfilUsuario'>\n",
      "Checking field 'altura_mayor_190': value='sí', type=<class 'str'>\n",
      "Checking field 'peso_mayor_100': value='no', type=<class 'str'>\n",
      "Checking field 'uso_profesional': value='no', type=<class 'str'>\n",
      "Checking field 'valora_estetica': value='sí', type=<class 'str'>\n",
      "Checking field 'solo_electricos': value='no', type=<class 'str'>\n",
      "Checking field 'transmision_preferida': value='Transmision.AMBOS', type=<enum 'Transmision'>\n",
      "Checking field 'apasionado_motor': value='None', type=<class 'NoneType'>\n",
      "DEBUG (Validation Perfil) ► Campo 'apasionado_motor' está vacío/None.\n",
      "DEBUG Router: Prefs OK? False\n",
      "--- DEBUG CHECK PASAJEROS ---\n",
      "Input info pasajeros: None\n",
      "DEBUG (Validation Pasajeros) ► Objeto InfoPasajeros es None.\n",
      "DEBUG Router: Pasajeros OK? False\n",
      "DEBUG (Validation Filtros) ► Objeto FiltrosInferidos es None.\n",
      "DEBUG Router: Filtros OK? False\n",
      "--- DEBUG CHECK ECONOMIA (Manual) ---\n",
      "Input econ object: None\n",
      "DEBUG (Validation Economía Manual) ► Objeto EconomiaUsuario es None.\n",
      "DEBUG Router: Economía OK? False\n",
      "DEBUG Router: Pesos Calculados? False\n",
      "DEBUG Router: Coches Buscados? False\n",
      "--- DEBUG CHECK PERFIL ---\n",
      "Input prefs object: altura_mayor_190='sí' peso_mayor_100='no' uso_profesional='no' valora_estetica='sí' solo_electricos='no' transmision_preferida=<Transmision.AMBOS: 'ambos'> apasionado_motor=None aventura=None\n",
      "Input prefs type: <class 'graph.perfil.state.PerfilUsuario'>\n",
      "Checking field 'altura_mayor_190': value='sí', type=<class 'str'>\n",
      "Checking field 'peso_mayor_100': value='no', type=<class 'str'>\n",
      "Checking field 'uso_profesional': value='no', type=<class 'str'>\n",
      "Checking field 'valora_estetica': value='sí', type=<class 'str'>\n",
      "Checking field 'solo_electricos': value='no', type=<class 'str'>\n",
      "Checking field 'transmision_preferida': value='Transmision.AMBOS', type=<enum 'Transmision'>\n",
      "Checking field 'apasionado_motor': value='None', type=<class 'NoneType'>\n",
      "DEBUG (Validation Perfil) ► Campo 'apasionado_motor' está vacío/None.\n",
      "DEBUG Router: Decisión -> recopilar_preferencias\n",
      "--- Ejecutando Nodo: recopilar_preferencias_node ---\n",
      "DEBUG (Perfil) ► Último mensaje es HumanMessage o historial vacío, llamando a llm_solo_perfil...\n"
     ]
    },
    {
     "name": "stderr",
     "output_type": "stream",
     "text": [
      "DEBUG:httpcore.http11:receive_response_headers.complete return_value=(b'HTTP/1.1', 200, b'OK', [(b'Date', b'Tue, 06 May 2025 17:25:06 GMT'), (b'Content-Type', b'application/json'), (b'Transfer-Encoding', b'chunked'), (b'Connection', b'keep-alive'), (b'access-control-expose-headers', b'X-Request-ID'), (b'openai-organization', b'user-ic25pcewdjuowsz9q2ektvrn'), (b'openai-processing-ms', b'2136'), (b'openai-version', b'2020-10-01'), (b'x-ratelimit-limit-requests', b'10000'), (b'x-ratelimit-limit-tokens', b'200000'), (b'x-ratelimit-remaining-requests', b'9999'), (b'x-ratelimit-remaining-tokens', b'196633'), (b'x-ratelimit-reset-requests', b'8.64s'), (b'x-ratelimit-reset-tokens', b'1.009s'), (b'x-request-id', b'req_15290fca0c27c7c506b18596cb47cbad'), (b'strict-transport-security', b'max-age=31536000; includeSubDomains; preload'), (b'cf-cache-status', b'DYNAMIC'), (b'X-Content-Type-Options', b'nosniff'), (b'Server', b'cloudflare'), (b'CF-RAY', b'93ba2cbb3a40e286-MRS'), (b'Content-Encoding', b'gzip'), (b'alt-svc', b'h3=\":443\"; ma=86400')])\n",
      "INFO:httpx:HTTP Request: POST https://api.openai.com/v1/chat/completions \"HTTP/1.1 200 OK\"\n",
      "DEBUG:httpcore.http11:receive_response_body.started request=<Request [b'POST']>\n",
      "DEBUG:httpcore.http11:receive_response_body.complete\n",
      "DEBUG:httpcore.http11:response_closed.started\n",
      "DEBUG:httpcore.http11:response_closed.complete\n",
      "DEBUG:openai._base_client:HTTP Response: POST https://api.openai.com/v1/chat/completions \"200 OK\" Headers({'date': 'Tue, 06 May 2025 17:25:06 GMT', 'content-type': 'application/json', 'transfer-encoding': 'chunked', 'connection': 'keep-alive', 'access-control-expose-headers': 'X-Request-ID', 'openai-organization': 'user-ic25pcewdjuowsz9q2ektvrn', 'openai-processing-ms': '2136', 'openai-version': '2020-10-01', 'x-ratelimit-limit-requests': '10000', 'x-ratelimit-limit-tokens': '200000', 'x-ratelimit-remaining-requests': '9999', 'x-ratelimit-remaining-tokens': '196633', 'x-ratelimit-reset-requests': '8.64s', 'x-ratelimit-reset-tokens': '1.009s', 'x-request-id': 'req_15290fca0c27c7c506b18596cb47cbad', 'strict-transport-security': 'max-age=31536000; includeSubDomains; preload', 'cf-cache-status': 'DYNAMIC', 'x-content-type-options': 'nosniff', 'server': 'cloudflare', 'cf-ray': '93ba2cbb3a40e286-MRS', 'content-encoding': 'gzip', 'alt-svc': 'h3=\":443\"; ma=86400'})\n",
      "DEBUG:openai._base_client:request_id: req_15290fca0c27c7c506b18596cb47cbad\n"
     ]
    },
    {
     "name": "stdout",
     "output_type": "stream",
     "text": [
      "DEBUG (Perfil) ► Respuesta llm_solo_perfil: preferencias_usuario=PerfilUsuario(altura_mayor_190='sí', peso_mayor_100='no', uso_profesional='no', valora_estetica='sí', solo_electricos='no', transmision_preferida=<Transmision.AMBOS: 'ambos'>, apasionado_motor=None, aventura=<NivelAventura.ocasional: 'ocasional'>) tipo_mensaje='PREGUNTA' contenido_mensaje='¿Eres un apasionado del mundo automotriz?'\n",
      "DEBUG (Perfil) ► Preferencias TRAS post-procesamiento: altura_mayor_190='sí' peso_mayor_100='no' uso_profesional='no' valora_estetica='sí' solo_electricos='no' transmision_preferida=<Transmision.AMBOS: 'ambos'> apasionado_motor=None aventura=<NivelAventura.ocasional: 'ocasional'>\n",
      "DEBUG (Perfil) ► Estado preferencias_usuario actualizado: altura_mayor_190='sí' peso_mayor_100='no' uso_profesional='no' valora_estetica='sí' solo_electricos='no' transmision_preferida=<Transmision.AMBOS: 'ambos'> apasionado_motor=None aventura=<NivelAventura.ocasional: 'ocasional'>\n",
      "DEBUG (Perfil) ► Guardando mensaje pendiente: ¿Eres un apasionado del mundo automotriz?\n",
      "--- Ejecutando Nodo: validar_preferencias_node ---\n",
      "--- DEBUG CHECK PERFIL ---\n",
      "Input prefs object: altura_mayor_190='sí' peso_mayor_100='no' uso_profesional='no' valora_estetica='sí' solo_electricos='no' transmision_preferida=<Transmision.AMBOS: 'ambos'> apasionado_motor=None aventura=<NivelAventura.ocasional: 'ocasional'>\n",
      "Input prefs type: <class 'graph.perfil.state.PerfilUsuario'>\n",
      "Checking field 'altura_mayor_190': value='sí', type=<class 'str'>\n",
      "Checking field 'peso_mayor_100': value='no', type=<class 'str'>\n",
      "Checking field 'uso_profesional': value='no', type=<class 'str'>\n",
      "Checking field 'valora_estetica': value='sí', type=<class 'str'>\n",
      "Checking field 'solo_electricos': value='no', type=<class 'str'>\n",
      "Checking field 'transmision_preferida': value='Transmision.AMBOS', type=<enum 'Transmision'>\n",
      "Checking field 'apasionado_motor': value='None', type=<class 'NoneType'>\n",
      "DEBUG (Validation Perfil) ► Campo 'apasionado_motor' está vacío/None.\n",
      "DEBUG (Perfil) ► Validación: PerfilUsuario considerado INCOMPLETO.\n",
      "--- Evaluando Condición: ruta_decision_perfil ---\n",
      "DEBUG (Condición Perfil) ► Estado 'preferencias_usuario' recibido: altura_mayor_190='sí' peso_mayor_100='no' uso_profesional='no' valora_estetica='sí' solo_electricos='no' transmision_preferida=<Transmision.AMBOS: 'ambos'> apasionado_motor=None aventura=<NivelAventura.ocasional: 'ocasional'>\n",
      "DEBUG (Condición Perfil) ► Tipo de 'preferencias_usuario': <class 'graph.perfil.state.PerfilUsuario'>\n",
      "--- DEBUG CHECK PERFIL ---\n",
      "Input prefs object: altura_mayor_190='sí' peso_mayor_100='no' uso_profesional='no' valora_estetica='sí' solo_electricos='no' transmision_preferida=<Transmision.AMBOS: 'ambos'> apasionado_motor=None aventura=<NivelAventura.ocasional: 'ocasional'>\n",
      "Input prefs type: <class 'graph.perfil.state.PerfilUsuario'>\n",
      "Checking field 'altura_mayor_190': value='sí', type=<class 'str'>\n",
      "Checking field 'peso_mayor_100': value='no', type=<class 'str'>\n",
      "Checking field 'uso_profesional': value='no', type=<class 'str'>\n",
      "Checking field 'valora_estetica': value='sí', type=<class 'str'>\n",
      "Checking field 'solo_electricos': value='no', type=<class 'str'>\n",
      "Checking field 'transmision_preferida': value='Transmision.AMBOS', type=<enum 'Transmision'>\n",
      "Checking field 'apasionado_motor': value='None', type=<class 'NoneType'>\n",
      "DEBUG (Validation Perfil) ► Campo 'apasionado_motor' está vacío/None.\n",
      "DEBUG (Condición Perfil) ► Perfil INCOMPLETO. Se necesita pregunta.\n",
      "--- Ejecutando Nodo: preguntar_preferencias_node ---\n",
      "DEBUG (Preguntar Perfil) ► Usando mensaje pendiente: ¿Eres un apasionado del mundo automotriz?\n",
      "DEBUG (Preguntar Perfil) ► Mensaje final añadido: ¿Eres un apasionado del mundo automotriz?\n",
      "==================================\u001b[1m Ai Message \u001b[0m==================================\n",
      "\n",
      "¿Eres un apasionado del mundo automotriz?\n"
     ]
    }
   ],
   "source": [
    "# Create a thread\n",
    "config = {\"configurable\": {\"thread_id\": \"2\"}}\n",
    "\n",
    "# Start conversation\n",
    "input_message = HumanMessage(content=\"la 2\")\n",
    "output = graph.invoke({\"messages\": [input_message]}, config) \n",
    "for m in output['messages'][-1:]:\n",
    "    m.pretty_print()"
   ]
  },
  {
   "cell_type": "code",
   "execution_count": 9,
   "metadata": {},
   "outputs": [
    {
     "name": "stderr",
     "output_type": "stream",
     "text": [
      "DEBUG:openai._base_client:Request options: {'method': 'post', 'url': '/chat/completions', 'headers': {'X-Stainless-Helper-Method': 'beta.chat.completions.parse'}, 'files': None, 'post_parser': <function Completions.parse.<locals>.parser at 0x11579a8e0>, 'json_data': {'messages': [{'content': '<Role>\\nEres un asistente de conversación amigable y metodológico. Tu misión actual es conocer las preferencias generales y el perfil básico de un usuario que busca un coche (`PerfilUsuario`). Tu salida SIEMPRE debe ser un objeto JSON válido que cumpla el esquema `ResultadoSoloPerfil`.\\n</Role>\\n\\n<Esquema_JSON_Requerido>\\nLa estructura JSON que DEBES generar es la siguiente:\\n```json\\n{{\\n  \"$defs\": {{\\n    \"NivelAventura\": {{\\n      \"enum\": [\\n        \"ninguna\",\\n        \"ocasional\",\\n        \"extrema\"\\n      ],\\n      \"title\": \"NivelAventura\",\\n      \"type\": \"string\"\\n    }},\\n    \"PerfilUsuario\": {{\\n      \"properties\": {{\\n        \"altura_mayor_190\": {{\\n          \"anyOf\": [\\n            {{\\n              \"type\": \"string\"\\n            }},\\n            {{\\n              \"type\": \"null\"\\n            }}\\n          ],\\n          \"default\": null,\\n          \"description\": \"¿El usuario mide más de 1.90 metros? Responde \\'sí\\' o \\'no\\'\",\\n          \"title\": \"Altura Mayor 190\"\\n        }},\\n        \"peso_mayor_100\": {{\\n          \"anyOf\": [\\n            {{\\n              \"type\": \"string\"\\n            }},\\n            {{\\n              \"type\": \"null\"\\n            }}\\n          ],\\n          \"default\": null,\\n          \"description\": \"¿El usuario pesa más de 100 kg? Responde \\'sí\\' o \\'no\\'\",\\n          \"title\": \"Peso Mayor 100\"\\n        }},\\n        \"uso_profesional\": {{\\n          \"anyOf\": [\\n            {{\\n              \"type\": \"string\"\\n            }},\\n            {{\\n              \"type\": \"null\"\\n            }}\\n          ],\\n          \"default\": null,\\n          \"description\": \"¿Usará el coche para trabajo? Responde \\'sí\\' o \\'no\\'\",\\n          \"title\": \"Uso Profesional\"\\n        }},\\n        \"valora_estetica\": {{\\n          \"anyOf\": [\\n            {{\\n              \"type\": \"string\"\\n            }},\\n            {{\\n              \"type\": \"null\"\\n            }}\\n          ],\\n          \"default\": null,\\n          \"description\": \"¿Valora la estética del coche? Responde \\'sí\\' o \\'no\\'\",\\n          \"title\": \"Valora Estetica\"\\n        }},\\n        \"solo_electricos\": {{\\n          \"anyOf\": [\\n            {{\\n              \"type\": \"string\"\\n            }},\\n            {{\\n              \"type\": \"null\"\\n            }}\\n          ],\\n          \"default\": null,\\n          \"description\": \"¿Quiere solo coches eléctricos? Responde \\'sí\\' o \\'no\\'\",\\n          \"title\": \"Solo Electricos\"\\n        }},\\n        \"transmision_preferida\": {{\\n          \"anyOf\": [\\n            {{\\n              \"$ref\": \"#/$defs/Transmision\"\\n            }},\\n            {{\\n              \"type\": \"null\"\\n            }}\\n          ],\\n          \"default\": null,\\n          \"description\": \"¿Qué transmisión prefieres: automático, manual o ambos?\"\\n        }},\\n        \"apasionado_motor\": {{\\n          \"anyOf\": [\\n            {{\\n              \"type\": \"string\"\\n            }},\\n            {{\\n              \"type\": \"null\"\\n            }}\\n          ],\\n          \"default\": null,\\n          \"description\": \"¿Eres un apasionado/a del motor y/o la movilidad? Responde \\'sí\\' o \\'no\\'\",\\n          \"title\": \"Apasionado Motor\"\\n        }},\\n        \"aventura\": {{\\n          \"anyOf\": [\\n            {{\\n              \"$ref\": \"#/$defs/NivelAventura\"\\n            }},\\n            {{\\n              \"type\": \"null\"\\n            }}\\n          ],\\n          \"default\": null,\\n          \"description\": \"¿Qué nivel de aventura buscas con tu vehículo: \\'ninguna\\', \\'ocasional\\' o \\'extrema\\'?\"\\n        }}\\n      }},\\n      \"title\": \"PerfilUsuario\",\\n      \"type\": \"object\"\\n    }},\\n    \"Transmision\": {{\\n      \"enum\": [\\n        \"automático\",\\n        \"manual\",\\n        \"ambos\"\\n      ],\\n      \"title\": \"Transmision\",\\n      \"type\": \"string\"\\n    }}\\n  }},\\n  \"description\": \"Salida esperada del LLM enfocado solo en el perfil del usuario.\",\\n  \"properties\": {{\\n    \"preferencias_usuario\": {{\\n      \"$ref\": \"#/$defs/PerfilUsuario\",\\n      \"description\": \"Objeto con las preferencias del usuario actualizadas o inferidas.\"\\n    }},\\n    \"tipo_mensaje\": {{\\n      \"description\": \"Clasificación del mensaje: \\'PREGUNTA\\' si se necesita más info de perfil, \\'CONFIRMACION\\' si el perfil parece completo o se confirma un dato, \\'ERROR\\' si hubo un problema irresoluble.\",\\n      \"enum\": [\\n        \"PREGUNTA\",\\n        \"CONFIRMACION\",\\n        \"ERROR\"\\n      ],\\n      \"title\": \"Tipo Mensaje\",\\n      \"type\": \"string\"\\n    }},\\n    \"contenido_mensaje\": {{\\n      \"description\": \"El texto real del mensaje: la pregunta específica, la confirmación, o el detalle del error.\",\\n      \"title\": \"Contenido Mensaje\",\\n      \"type\": \"string\"\\n    }}\\n  }},\\n  \"required\": [\\n    \"preferencias_usuario\",\\n    \"tipo_mensaje\",\\n    \"contenido_mensaje\"\\n  ],\\n  \"title\": \"ResultadoSoloPerfil\",\\n  \"type\": \"object\"\\n}}\\n</Esquema_JSON_Requerido>\\n\\n<Instrucciones_Generales_y_Salida_JSON>\\n\\nLos 8 campos OBLIGATORIOS del `PerfilUsuario` que debes intentar completar son:\\n1.  `altura_mayor_190` (string: \\'sí\\' o \\'no\\')\\n2.  `peso_mayor_100` (string: \\'sí\\' o \\'no\\')\\n3.  `uso_profesional` (string: \\'sí\\' o \\'no\\')\\n4.  `valora_estetica` (string: \\'sí\\' o \\'no\\')\\n5.  `solo_electricos` (string: \\'sí\\' o \\'no\\')\\n6.  `transmision_preferida` (enum: \\'automático\\', \\'manual\\', \\'ambos\\')\\n7.  `apasionado_motor` (string: \\'sí\\' o \\'no\\')\\n8.  `aventura` (enum: \\'ninguna\\', \\'ocasional\\', \\'extrema\\') - IMPORTANTE: Para el campo `aventura`, NO infieras un valor por defecto como \\'ninguna\\' a menos que el usuario lo indique muy explícitamente. Si no hay información clara sobre el nivel de aventura, deja `aventura` como `null`.\\n\\n\\nUna vez que hayas construido el objeto `preferencias_usuario` con la información más actualizada, determina `tipo_mensaje` y `contenido_mensaje` aplicando ESTRICTAMENTE las siguientes reglas en orden:\\n\\n**Regla 1: Inicio de Conversación (Primer Turno)**\\n* Si el historial de conversación solo contiene el primer mensaje del usuario (es decir, estás en el primer turno de recopilación de perfil):\\n    * `tipo_mensaje` DEBE ser `\"PREGUNTA\"`.\\n    * `contenido_mensaje` DEBE incluir un saludo amigable (ej: \"¡Hola! Soy Mentor, tu asistente para encontrar el coche ideal.\") seguido de una pregunta para el primer campo del perfil que desees obtener. Puedes usar una de las plantillas de `<Guias_Preguntas_Perfil>` (por ejemplo, para `altura_mayor_190` o `aventura`).\\n\\n**Regla 2: Perfil Incompleto (Continuación de la Recopilación)**\\n* Después de procesar la última respuesta del usuario y actualizar `preferencias_usuario`, verifica si CUALQUIERA de los 8 campos listados arriba sigue siendo `null`.\\n* **Si UNO O MÁS de los 8 campos son `null`:**\\n    * `tipo_mensaje` DEBE ser `\"PREGUNTA\"`.\\n    * En `contenido_mensaje`, formula UNA SOLA PREGUNTA clara y concisa para obtener información para el PRIMER campo de la lista de 8 que todavía sea `null`, siguiendo un orden de prioridad si lo deseas (p.ej., `uso_profesional`, luego `valora_estetica`, etc.). Utiliza las guías y plantillas de `<Guias_Preguntas_Perfil>`. Intenta variar la formulación para que la conversación sea natural.\\n\\n**Regla 3: Perfil Completado (Todos los Campos Rellenos)**\\n* **SOLO Y EXCLUSIVAMENTE SI TODOS y CADA UNO de los 8 campos listados arriba tienen un valor válido (es decir, NO son `null`)** en el objeto `preferencias_usuario` que has construido:\\n    * `tipo_mensaje` DEBE ser `\"CONFIRMACION\"`.\\n    * En `contenido_mensaje`, pon una confirmación breve y amigable que indique que se ha recopilado toda la información del perfil. Ejemplos: \"¡Perfecto! Ya tenemos tus preferencias principales.\", \"Entendido. Hemos completado tu perfil de preferencias.\", \"¡Genial! Con esto tenemos toda la información de tu perfil.\".\\n    * Asegúrate de que el objeto `preferencias_usuario` en tu salida JSON esté completamente relleno con todos los valores recopilados.\\n\\n**Regla 4: Manejo de Errores**\\n* Si encuentras un problema irresoluble al procesar la información o al intentar generar el JSON, `tipo_mensaje` debe ser `\"ERROR\"` y `contenido_mensaje` debe ser una breve explicación del error.\\n\\n**Directrices Adicionales Importantes:**\\n* **No Inventes Valores:** Es crucial que no asignes valores a `preferencias_usuario` que no se mencionen explícitamente o no se puedan inferir con muy alta certeza de la conversación. En caso de duda, deja el campo como `null` y sigue la Regla 2 para preguntar.\\n* **Enfoque Estricto:** Mantén el enfoque estrictamente en completar los 8 campos de `PerfilUsuario`. NO preguntes ni menciones temas fuera de estos (como precio, características técnicas detalladas, número de pasajeros, etc.) durante esta fase.\\n\\n</Instrucciones_Generales_y_Salida_JSON>\\n\\n<Guias_Preguntas_Perfil>\\n\\nCuando necesites preguntar por uno de estos campos (tipo_mensaje=\\'PREGUNTA\\'), aquí tienes ejemplos de cómo puedes formular la pregunta de forma clara y amigable. Intenta variar la formulación para que la conversación sea más natural, pero asegúrate de que el usuario entienda qué información necesitas:\\naltura_mayor_190:\\n• \"¿Mides más de 1.90 m?\"\\n• \"Para recomendarte un vehículo con espacio adecuado, ¿tu altura supera los 1.90 metros?\"\\npeso_mayor_100:\\n• \"¿Pesas más de 100 kg?\"\\n• \"Para garantizar tu máxima comodidad, ¿tienes un peso superior a 100 kg?\"\\naventura: Usa uno de los <Aventura_Templates>\\n<Aventura_Templates>\\n  • Template 1: \"Hablando de aventura, ¿con cuál de estas afirmaciones te identificas más?\\\\n 1) No pisas nada que no sea asfalto (ninguna)\\\\n 2) Salidas fuera de asfalto ocasionales (ocasional)\\\\n 3) Circular en condiciones duras con total garantía (extrema)\"\\n  • Template 2: \"Para conocer tu espíritu aventurero, dime que prefieres:\\\\n 1) Solo asfalto (ninguna)\\\\n 2) Salidas off‑road de vez en cuando (ocasional)\\\\n 3) Aventurero extremo en terrenos difíciles (extrema)\"\\n  • Template 3: \"Respecto a tus planes de conducción:\\\\n 1) Siempre en carreteras pavimentadas (ninguna)\\\\n 2) A veces me gusta explorar caminos rurales o de tierra (ocasional)\\\\n 3) Necesito un vehículo capaz de enfrentar terrenos realmente desafiantes (extrema)\"\\n  • Template 4: \"Cuéntame sobre tus hábitos de conducción:\\\\n 1) Me mantengo en vías urbanas y autopistas (ninguna)\\\\n 2) De vez en cuando me aventuro por caminos no asfaltados (ocasional)\\\\n 3) Busco regularmente retos off-road y condiciones extremas (extrema)\" \\n</Aventura_Templates> \\nuso_profesional:\\n• \"¿El coche lo destinaras principalmente para uso personal o más para fines profesionales (trabajo)?\"\\n• \"¿Utilizarás el vehículo principalmente para trabajo o para uso personal y familiar?\"\\nvalora_estetica:\\n• \"¿Valoras especialmente la estética del coche ?\"\\n• \"¿Es importante para ti el diseño y la apariencia del vehículo?\"\\nsolo_electricos:\\n• \"¿Quieres solo coches eléctricos?\"\\n• \"¿Estás interesado exclusivamente en vehículos con motorización eléctrica o consideras otras opciones?\"\\ntransmision_preferida:\\n• \"¿Qué tipo de transmisión prefieres?\\\\n 1) Automático\\\\n 2) Manual\\\\n 3) Ambos\"\\n• \"En cuanto a la transmisión, ¿qué opción se ajusta mejor a tus preferencias?\\\\n 1) Automático\\\\n 2) Manual\\\\n 3) Ambos, puedo considerar ambas opciones\"\\napasionado_motor:\\n• \"¿Eres un apasionado del mundo automotriz?\"\\n• \"¿Te consideras una persona entusiasta del mundo del motor y la tecnología automotriz?\"\\n\\n</Guias_Preguntas_Perfil>\\n\\n<Ejemplos_Perfil>\\n\\nEjemplo 1: Inicio -> PREGUNTA (Con Saludo)\\nContexto: [HumanMessage(content=\\'Busco coche\\')]\\n{{\\n  \"preferencias_usuario\": {{ ... todos null ... }},\\n  \"tipo_mensaje\": \"PREGUNTA\", \\n  \"contenido_mensaje\": \"¡Hola! Soy Mentor, tu asistente para encontrar el coche ideal. Para empezar, hablando de aventura, ¿con cuál de estas afirmaciones te identificas más?\\\\n  1) No pisas nada que no sea asfalto (ninguna)\\\\n  2) Salidas fuera de asfalto ocasionales (ocasional)\\\\n  3) Circular en condiciones duras con total garantía (extrema)\"\\n}}\\n\\nEjemplo 2: Información parcial -> PREGUNTA (Solo una pregunta)\\n\\nContexto: [..., HumanMessage(content=\\'Será automático y solo asfalto.\\')]\\nSalida JSON Esperada:\\n{{\\n  \"preferencias_usuario\": {{ ... transmision_preferida=\"automatico\", aventura=\"ninguna\", resto null ... }},\\n  \"tipo_mensaje\": \"PREGUNTA\",\\n  \"contenido_mensaje\": \"¿Mides más de 1.90 m?\" // Pregunta solo por el siguiente campo faltante (ej: altura)\\n}}\\nEjemplo 3: Información completa -> CONFIRMACION\\n\\nContexto: [..., HumanMessage(content=\\'No soy apasionado del motor.\\')] // Asume que esta era la última respuesta necesaria\\nSalida JSON Esperada:\\n{{\\n  \"preferencias_usuario\": {{ ... todo relleno correctamente ... }},\\n  \"tipo_mensaje\": \"CONFIRMACION\",\\n  \"contenido_mensaje\": \"¡Perfecto! Ya tenemos tus preferencias principales.\" \\n}}\\n</Ejemplos_Perfil>\\n\\n<Formato_Salida_JSON_Final>\\nGenera únicamente el objeto JSON completo y válido solicitado que cumpla el esquema ResultadoSoloPerfil.\\n{{ \\n  \"preferencias_usuario\": {{ ... }},\\n  \"tipo_mensaje\": \"<\\'PREGUNTA\\' o \\'CONFIRMACION\\' o \\'ERROR\\'>\",\\n  \"contenido_mensaje\": \"<string>\"\\n}}', 'role': 'user'}, {'content': 'Quiero un coche mido 1.93. Peso 80 kg', 'role': 'user'}, {'content': '¿Usarás el coche para trabajo o para uso personal y familiar?', 'role': 'assistant'}, {'content': 'para uso personal', 'role': 'user'}, {'content': '¿Valoras especialmente la estética del coche?', 'role': 'assistant'}, {'content': 'si valoro la estetica', 'role': 'user'}, {'content': '¿Quieres solo coches eléctricos?', 'role': 'assistant'}, {'content': 'no a combustion tambien', 'role': 'user'}, {'content': '¿Qué tipo de transmisión prefieres?\\n 1) Automático\\n 2) Manual\\n 3) Ambos', 'role': 'assistant'}, {'content': 'la numero 3', 'role': 'user'}, {'content': 'Hablando de aventura, ¿con cuál de estas afirmaciones te identificas más?\\n 1) No pisas nada que no sea asfalto (ninguna)\\n 2) Salidas fuera de asfalto ocasionales (ocasional)\\n 3) Circular en condiciones duras con total garantía (extrema)', 'role': 'assistant'}, {'content': 'la 2', 'role': 'user'}, {'content': '¿Eres un apasionado del mundo automotriz?', 'role': 'assistant'}, {'content': 'si, lo soy', 'role': 'user'}], 'model': 'gpt-4o-mini', 'response_format': {'type': 'json_schema', 'json_schema': {'schema': {'$defs': {'NivelAventura': {'enum': ['ninguna', 'ocasional', 'extrema'], 'title': 'NivelAventura', 'type': 'string'}, 'PerfilUsuario': {'properties': {'altura_mayor_190': {'anyOf': [{'type': 'string'}, {'type': 'null'}], 'description': \"¿El usuario mide más de 1.90 metros? Responde 'sí' o 'no'\", 'title': 'Altura Mayor 190'}, 'peso_mayor_100': {'anyOf': [{'type': 'string'}, {'type': 'null'}], 'description': \"¿El usuario pesa más de 100 kg? Responde 'sí' o 'no'\", 'title': 'Peso Mayor 100'}, 'uso_profesional': {'anyOf': [{'type': 'string'}, {'type': 'null'}], 'description': \"¿Usará el coche para trabajo? Responde 'sí' o 'no'\", 'title': 'Uso Profesional'}, 'valora_estetica': {'anyOf': [{'type': 'string'}, {'type': 'null'}], 'description': \"¿Valora la estética del coche? Responde 'sí' o 'no'\", 'title': 'Valora Estetica'}, 'solo_electricos': {'anyOf': [{'type': 'string'}, {'type': 'null'}], 'description': \"¿Quiere solo coches eléctricos? Responde 'sí' o 'no'\", 'title': 'Solo Electricos'}, 'transmision_preferida': {'anyOf': [{'$ref': '#/$defs/Transmision'}, {'type': 'null'}], 'description': '¿Qué transmisión prefieres: automático, manual o ambos?'}, 'apasionado_motor': {'anyOf': [{'type': 'string'}, {'type': 'null'}], 'description': \"¿Eres un apasionado/a del motor y/o la movilidad? Responde 'sí' o 'no'\", 'title': 'Apasionado Motor'}, 'aventura': {'anyOf': [{'$ref': '#/$defs/NivelAventura'}, {'type': 'null'}], 'description': \"¿Qué nivel de aventura buscas con tu vehículo: 'ninguna', 'ocasional' o 'extrema'?\"}}, 'title': 'PerfilUsuario', 'type': 'object', 'additionalProperties': False, 'required': ['altura_mayor_190', 'peso_mayor_100', 'uso_profesional', 'valora_estetica', 'solo_electricos', 'transmision_preferida', 'apasionado_motor', 'aventura']}, 'Transmision': {'enum': ['automático', 'manual', 'ambos'], 'title': 'Transmision', 'type': 'string'}}, 'description': 'Salida esperada del LLM enfocado solo en el perfil del usuario.', 'properties': {'preferencias_usuario': {'description': 'Objeto con las preferencias del usuario actualizadas o inferidas.', 'properties': {'altura_mayor_190': {'anyOf': [{'type': 'string'}, {'type': 'null'}], 'description': \"¿El usuario mide más de 1.90 metros? Responde 'sí' o 'no'\", 'title': 'Altura Mayor 190'}, 'peso_mayor_100': {'anyOf': [{'type': 'string'}, {'type': 'null'}], 'description': \"¿El usuario pesa más de 100 kg? Responde 'sí' o 'no'\", 'title': 'Peso Mayor 100'}, 'uso_profesional': {'anyOf': [{'type': 'string'}, {'type': 'null'}], 'description': \"¿Usará el coche para trabajo? Responde 'sí' o 'no'\", 'title': 'Uso Profesional'}, 'valora_estetica': {'anyOf': [{'type': 'string'}, {'type': 'null'}], 'description': \"¿Valora la estética del coche? Responde 'sí' o 'no'\", 'title': 'Valora Estetica'}, 'solo_electricos': {'anyOf': [{'type': 'string'}, {'type': 'null'}], 'description': \"¿Quiere solo coches eléctricos? Responde 'sí' o 'no'\", 'title': 'Solo Electricos'}, 'transmision_preferida': {'anyOf': [{'$ref': '#/$defs/Transmision'}, {'type': 'null'}], 'description': '¿Qué transmisión prefieres: automático, manual o ambos?'}, 'apasionado_motor': {'anyOf': [{'type': 'string'}, {'type': 'null'}], 'description': \"¿Eres un apasionado/a del motor y/o la movilidad? Responde 'sí' o 'no'\", 'title': 'Apasionado Motor'}, 'aventura': {'anyOf': [{'$ref': '#/$defs/NivelAventura'}, {'type': 'null'}], 'description': \"¿Qué nivel de aventura buscas con tu vehículo: 'ninguna', 'ocasional' o 'extrema'?\"}}, 'title': 'PerfilUsuario', 'type': 'object', 'additionalProperties': False, 'required': ['altura_mayor_190', 'peso_mayor_100', 'uso_profesional', 'valora_estetica', 'solo_electricos', 'transmision_preferida', 'apasionado_motor', 'aventura']}, 'tipo_mensaje': {'description': \"Clasificación del mensaje: 'PREGUNTA' si se necesita más info de perfil, 'CONFIRMACION' si el perfil parece completo o se confirma un dato, 'ERROR' si hubo un problema irresoluble.\", 'enum': ['PREGUNTA', 'CONFIRMACION', 'ERROR'], 'title': 'Tipo Mensaje', 'type': 'string'}, 'contenido_mensaje': {'description': 'El texto real del mensaje: la pregunta específica, la confirmación, o el detalle del error.', 'title': 'Contenido Mensaje', 'type': 'string'}}, 'required': ['preferencias_usuario', 'tipo_mensaje', 'contenido_mensaje'], 'title': 'ResultadoSoloPerfil', 'type': 'object', 'additionalProperties': False}, 'name': 'ResultadoSoloPerfil', 'strict': True}}, 'stream': False, 'temperature': 0.2}}\n",
      "DEBUG:openai._base_client:Sending HTTP Request: POST https://api.openai.com/v1/chat/completions\n",
      "DEBUG:httpcore.connection:close.started\n",
      "DEBUG:httpcore.connection:close.complete\n",
      "DEBUG:httpcore.connection:connect_tcp.started host='api.openai.com' port=443 local_address=None timeout=None socket_options=None\n",
      "DEBUG:httpcore.connection:connect_tcp.complete return_value=<httpcore._backends.sync.SyncStream object at 0x1233a7110>\n",
      "DEBUG:httpcore.connection:start_tls.started ssl_context=<ssl.SSLContext object at 0x1072c4e60> server_hostname='api.openai.com' timeout=None\n",
      "DEBUG:httpcore.connection:start_tls.complete return_value=<httpcore._backends.sync.SyncStream object at 0x115936010>\n",
      "DEBUG:httpcore.http11:send_request_headers.started request=<Request [b'POST']>\n",
      "DEBUG:httpcore.http11:send_request_headers.complete\n",
      "DEBUG:httpcore.http11:send_request_body.started request=<Request [b'POST']>\n",
      "DEBUG:httpcore.http11:send_request_body.complete\n",
      "DEBUG:httpcore.http11:receive_response_headers.started request=<Request [b'POST']>\n"
     ]
    },
    {
     "name": "stdout",
     "output_type": "stream",
     "text": [
      "--- Ejecutando Nodo: route_based_on_state_node ---\n",
      "\n",
      "--- DEBUG: Evaluating Routing Decision ---\n",
      "--- DEBUG CHECK PERFIL ---\n",
      "Input prefs object: altura_mayor_190='sí' peso_mayor_100='no' uso_profesional='no' valora_estetica='sí' solo_electricos='no' transmision_preferida=<Transmision.AMBOS: 'ambos'> apasionado_motor=None aventura=<NivelAventura.ocasional: 'ocasional'>\n",
      "Input prefs type: <class 'graph.perfil.state.PerfilUsuario'>\n",
      "Checking field 'altura_mayor_190': value='sí', type=<class 'str'>\n",
      "Checking field 'peso_mayor_100': value='no', type=<class 'str'>\n",
      "Checking field 'uso_profesional': value='no', type=<class 'str'>\n",
      "Checking field 'valora_estetica': value='sí', type=<class 'str'>\n",
      "Checking field 'solo_electricos': value='no', type=<class 'str'>\n",
      "Checking field 'transmision_preferida': value='Transmision.AMBOS', type=<enum 'Transmision'>\n",
      "Checking field 'apasionado_motor': value='None', type=<class 'NoneType'>\n",
      "DEBUG (Validation Perfil) ► Campo 'apasionado_motor' está vacío/None.\n",
      "DEBUG Router: Prefs OK? False\n",
      "--- DEBUG CHECK PASAJEROS ---\n",
      "Input info pasajeros: None\n",
      "DEBUG (Validation Pasajeros) ► Objeto InfoPasajeros es None.\n",
      "DEBUG Router: Pasajeros OK? False\n",
      "DEBUG (Validation Filtros) ► Objeto FiltrosInferidos es None.\n",
      "DEBUG Router: Filtros OK? False\n",
      "--- DEBUG CHECK ECONOMIA (Manual) ---\n",
      "Input econ object: None\n",
      "DEBUG (Validation Economía Manual) ► Objeto EconomiaUsuario es None.\n",
      "DEBUG Router: Economía OK? False\n",
      "DEBUG Router: Pesos Calculados? False\n",
      "DEBUG Router: Coches Buscados? False\n",
      "--- DEBUG CHECK PERFIL ---\n",
      "Input prefs object: altura_mayor_190='sí' peso_mayor_100='no' uso_profesional='no' valora_estetica='sí' solo_electricos='no' transmision_preferida=<Transmision.AMBOS: 'ambos'> apasionado_motor=None aventura=<NivelAventura.ocasional: 'ocasional'>\n",
      "Input prefs type: <class 'graph.perfil.state.PerfilUsuario'>\n",
      "Checking field 'altura_mayor_190': value='sí', type=<class 'str'>\n",
      "Checking field 'peso_mayor_100': value='no', type=<class 'str'>\n",
      "Checking field 'uso_profesional': value='no', type=<class 'str'>\n",
      "Checking field 'valora_estetica': value='sí', type=<class 'str'>\n",
      "Checking field 'solo_electricos': value='no', type=<class 'str'>\n",
      "Checking field 'transmision_preferida': value='Transmision.AMBOS', type=<enum 'Transmision'>\n",
      "Checking field 'apasionado_motor': value='None', type=<class 'NoneType'>\n",
      "DEBUG (Validation Perfil) ► Campo 'apasionado_motor' está vacío/None.\n",
      "DEBUG Router: Decisión -> recopilar_preferencias\n",
      "--- Ejecutando Nodo: recopilar_preferencias_node ---\n",
      "DEBUG (Perfil) ► Último mensaje es HumanMessage o historial vacío, llamando a llm_solo_perfil...\n"
     ]
    },
    {
     "name": "stderr",
     "output_type": "stream",
     "text": [
      "DEBUG:httpcore.http11:receive_response_headers.complete return_value=(b'HTTP/1.1', 200, b'OK', [(b'Date', b'Tue, 06 May 2025 17:25:16 GMT'), (b'Content-Type', b'application/json'), (b'Transfer-Encoding', b'chunked'), (b'Connection', b'keep-alive'), (b'access-control-expose-headers', b'X-Request-ID'), (b'openai-organization', b'user-ic25pcewdjuowsz9q2ektvrn'), (b'openai-processing-ms', b'2543'), (b'openai-version', b'2020-10-01'), (b'x-ratelimit-limit-requests', b'10000'), (b'x-ratelimit-limit-tokens', b'200000'), (b'x-ratelimit-remaining-requests', b'9999'), (b'x-ratelimit-remaining-tokens', b'196618'), (b'x-ratelimit-reset-requests', b'8.64s'), (b'x-ratelimit-reset-tokens', b'1.014s'), (b'x-request-id', b'req_249da1e869b5e8a4805dfdad15f4d78a'), (b'strict-transport-security', b'max-age=31536000; includeSubDomains; preload'), (b'cf-cache-status', b'DYNAMIC'), (b'X-Content-Type-Options', b'nosniff'), (b'Server', b'cloudflare'), (b'CF-RAY', b'93ba2cfaae02193a-BCN'), (b'Content-Encoding', b'gzip'), (b'alt-svc', b'h3=\":443\"; ma=86400')])\n",
      "INFO:httpx:HTTP Request: POST https://api.openai.com/v1/chat/completions \"HTTP/1.1 200 OK\"\n",
      "DEBUG:httpcore.http11:receive_response_body.started request=<Request [b'POST']>\n",
      "DEBUG:httpcore.http11:receive_response_body.complete\n",
      "DEBUG:httpcore.http11:response_closed.started\n",
      "DEBUG:httpcore.http11:response_closed.complete\n",
      "DEBUG:openai._base_client:HTTP Response: POST https://api.openai.com/v1/chat/completions \"200 OK\" Headers({'date': 'Tue, 06 May 2025 17:25:16 GMT', 'content-type': 'application/json', 'transfer-encoding': 'chunked', 'connection': 'keep-alive', 'access-control-expose-headers': 'X-Request-ID', 'openai-organization': 'user-ic25pcewdjuowsz9q2ektvrn', 'openai-processing-ms': '2543', 'openai-version': '2020-10-01', 'x-ratelimit-limit-requests': '10000', 'x-ratelimit-limit-tokens': '200000', 'x-ratelimit-remaining-requests': '9999', 'x-ratelimit-remaining-tokens': '196618', 'x-ratelimit-reset-requests': '8.64s', 'x-ratelimit-reset-tokens': '1.014s', 'x-request-id': 'req_249da1e869b5e8a4805dfdad15f4d78a', 'strict-transport-security': 'max-age=31536000; includeSubDomains; preload', 'cf-cache-status': 'DYNAMIC', 'x-content-type-options': 'nosniff', 'server': 'cloudflare', 'cf-ray': '93ba2cfaae02193a-BCN', 'content-encoding': 'gzip', 'alt-svc': 'h3=\":443\"; ma=86400'})\n",
      "DEBUG:openai._base_client:request_id: req_249da1e869b5e8a4805dfdad15f4d78a\n",
      "DEBUG:openai._base_client:Request options: {'method': 'post', 'url': '/chat/completions', 'headers': {'X-Stainless-Helper-Method': 'beta.chat.completions.parse'}, 'files': None, 'post_parser': <function Completions.parse.<locals>.parser at 0x115799e40>, 'json_data': {'messages': [{'content': '<Role>\\nEres un asistente amigable y empático. Tu objetivo ahora es entender con quién suele viajar el usuario en el coche para determinar las necesidades de espacio y configuración. NO preguntes por el perfil del conductor (altura, gustos) ni por economía en esta fase. Tu salida SIEMPRE debe ser un objeto JSON válido que cumpla el esquema `ResultadoPasajeros`.\\n</Role>\\n\\n<Esquema_JSON_Requerido>\\nLa estructura JSON que DEBES generar es la siguiente (`ResultadoPasajeros`):\\n```json\\n{{\\n  \"$defs\": {{\\n    \"InfoPasajeros\": {{\\n      \"properties\": {{\\n        \"frecuencia\": {{\\n          \"anyOf\": [\\n            {{\\n              \"enum\": [\\n                \"nunca\",\\n                \"ocasional\",\\n                \"frecuente\"\\n              ],\\n              \"type\": \"string\"\\n            }},\\n            {{\\n              \"type\": \"null\"\\n            }}\\n          ],\\n          \"default\": null,\\n          \"description\": \"Frecuencia con la que viajan otros pasajeros.\",\\n          \"title\": \"Frecuencia\"\\n        }},\\n        \"num_ninos_silla\": {{\\n          \"anyOf\": [\\n            {{\\n              \"type\": \"integer\"\\n            }},\\n            {{\\n              \"type\": \"null\"\\n            }}\\n          ],\\n          \"default\": null,\\n          \"description\": \"Número de niños que necesitan silla de seguridad (X).\",\\n          \"title\": \"Num Ninos Silla\"\\n        }},\\n        \"num_otros_pasajeros\": {{\\n          \"anyOf\": [\\n            {{\\n              \"type\": \"integer\"\\n            }},\\n            {{\\n              \"type\": \"null\"\\n            }}\\n          ],\\n          \"default\": null,\\n          \"description\": \"Número de adultos u otros pasajeros sin silla (Z).\",\\n          \"title\": \"Num Otros Pasajeros\"\\n        }}\\n      }},\\n      \"title\": \"InfoPasajeros\",\\n      \"type\": \"object\"\\n    }}\\n  }},\\n  \"description\": \"Salida esperada del LLM enfocado en recopilar info de pasajeros.\",\\n  \"properties\": {{\\n    \"info_pasajeros\": {{\\n      \"$ref\": \"#/$defs/InfoPasajeros\",\\n      \"description\": \"Objeto con la información de pasajeros actualizada o inferida.\"\\n    }},\\n    \"tipo_mensaje\": {{\\n      \"enum\": [\\n        \"PREGUNTA\",\\n        \"CONFIRMACION\",\\n        \"ERROR\"\\n      ],\\n      \"title\": \"Tipo Mensaje\",\\n      \"type\": \"string\"\\n    }},\\n    \"contenido_mensaje\": {{\\n      \"title\": \"Contenido Mensaje\",\\n      \"type\": \"string\"\\n    }}\\n  }},\\n  \"required\": [\\n    \"info_pasajeros\",\\n    \"tipo_mensaje\",\\n    \"contenido_mensaje\"\\n  ],\\n  \"title\": \"ResultadoPasajeros\",\\n  \"type\": \"object\"\\n}}\\n</Esquema_JSON_Requerido>\\n\\n<Instrucciones_Detalladas>\\n\\nInicia la Conversación: Comienza con una pregunta abierta y natural sobre los acompañantes habituales. Usa uno de los ejemplos de abajo. Pon tipo_mensaje=\"PREGUNTA\". El objeto info_pasajeros inicial estará vacío o con null.\\nAnaliza la Respuesta: Extrae de la respuesta del usuario:\\n  - frecuencia: Si viaja solo (\"nunca\"), a veces (\"ocasional\") o habitualmente (\"frecuente\").\\n  - num_ninos_silla (X): Cuántos niños necesitan silla de seguridad. **Extrae este valor SOLO si el usuario lo menciona explícitamente.** Si no lo menciona, deja este campo como `null` inicialmente. Asegúrate de que sea un número entero >= 0 si lo extraes.\\n  - num_otros_pasajeros (Z): Cuántos adultos u otros niños/pasajeros (sin silla) suelen ir. Intenta inferir este valor del número total de acompañantes menos los niños con silla (si se conocen). Asegúrate de que sea un número entero >= 0. Si no puedes determinar Z, déjalo `null`.\\n\\nDetermina `tipo_mensaje` y `contenido_mensaje`:\\n- **Si `frecuencia` es `\"nunca\"`:**\\n    - Considera la información completa.\\n    - coloca `tipo_mensaje=\"CONFIRMACION\"`, `num_ninos_silla=0`, `num_otros_pasajeros=0`.\\n    - `contenido_mensaje` vacío `\"\"` o una confirmación breve como \"Entendido, normalmente viajas solo.\"\\n\\n- **Si `frecuencia` es `\"ocasional\"` o `\"frecuente\"`:**\\n    - **Paso 1: Revisa `num_ninos_silla`.** ¿Has podido extraer un valor explícito (incluyendo 0) para `num_ninos_silla` de la respuesta del usuario?\\n        - **Si NO (es decir, `num_ninos_silla` es `null` porque no se mencionó):**\\n            - `tipo_mensaje` DEBE ser `\"PREGUNTA\"`.\\n            - En `contenido_mensaje`, formula UNA PREGUNTA clara y específica sobre si hay niños y si necesitan sillita. Puedes incluir el número de acompañantes si ya lo sabes (Z). Ejemplo: \"Entendido, [Z] acompañantes. Para asegurarme, ¿alguno de ellos es un niño que necesite sillita de seguridad?\" o \"De acuerdo. ¿Alguno de esos acompañantes es un niño que necesite silla?\".\\n            - En el objeto `info_pasajeros` de salida, incluye la `frecuencia` y `num_otros_pasajeros` (si lo sabes), pero mantén `num_ninos_silla` como `null`.\\n        - **Si SÍ (es decir, `num_ninos_silla` tiene un valor explícito X, que puede ser 0):**\\n            - **Paso 2: Revisa `num_otros_pasajeros`.** ¿Has podido extraer o calcular un valor Z para `num_otros_pasajeros`?\\n                - **Si NO (Z es `null`):**\\n                    - `tipo_mensaje` DEBE ser `\"PREGUNTA\"`.\\n                    - En `contenido_mensaje`, formula UNA PREGUNTA clara para obtener Z. Ejemplo: \"Entendido, [X] niño(s) con sillita. ¿Cuántos otros pasajeros (adultos u otros niños sin silla) suelen ir además?\"\\n                    - En el objeto `info_pasajeros` de salida, incluye `frecuencia` y `num_ninos_silla=X`, pero mantén `num_otros_pasajeros` como `null`.\\n                - **Si SÍ (ambos X y Z tienen valores numéricos):**\\n                    - Considera la información completa.\\n                    - `tipo_mensaje` DEBE ser `\"CONFIRMACION\"`.\\n                    - `contenido_mensaje` vacío `\"\"` o una confirmación breve como \"¡Perfecto! Ya sé quiénes suelen viajar contigo.\"\\n                    - En el objeto `info_pasajeros` de salida, incluye `frecuencia`, `num_ninos_silla=X`, y `num_otros_pasajeros=Z`.\\n\\n\\n- **Si Error:** coloca `tipo_mensaje=\"ERROR\"` y una explicación.\\n**Tono:** Amigable, conversacional.\\n</Instrucciones_Detalladas>\\n\\n<Ejemplos_Preguntas>\\n\\nPreguntas Iniciales (elige una):\\n\"Cuéntame, ¿sueles viajar con acompañantes en el coche habitualmente? ¿cuantos?\"\\n\"Para entender mejor el espacio que necesitas, ¿normalmente viajas solo/a o sueles llevar acompañantes? ¿Quizás niños?\"\\nPreguntas de Seguimiento (si la respuesta inicial fue incompleta):\\n\"Mencionas que llevas a tus hijos. ¿Cuántos son y qué edades tienen aproximadamente? ¿Alguno necesita sillita de seguridad?\"\\n\"Entendido, sueles llevar X pasajeros. ¿Son adultos, niños, o una mezcla? ¿Necesitas espacio para sillitas infantiles?\" </Ejemplos_Preguntas>\\n<Ejemplos_Output_JSON>\\nEjemplo 1: Pregunta Inicial\\n\\nContexto: Inicio de esta etapa.\\nSalida JSON Esperada:\\n{{\\n  \"info_pasajeros\": {{\"frecuencia\": null, \"num_ninos_silla\": null, \"num_otros_pasajeros\": null}},\\n  \"tipo_mensaje\": \"PREGUNTA\",\\n  \"contenido_mensaje\": \"Cuéntame, ¿sueles viajar con acompañantes en el coche habitualmente? ¿cuantos?\"\\n}}\\nEjemplo 2: Usuario responde, falta info de sillitas -> PREGUNTA\\n\\nContexto: [..., HumanMessage(content=\\'Suelo llevar a mis 2 hijos y a veces a mi pareja\\')]\\nSalida JSON Esperada:\\n{{\\n  \"info_pasajeros\": {{ \"frecuencia\": \"frecuente\", \"num_ninos_silla\": null, \"num_otros_pasajeros\": 3 }}, // 2 hijos + 1 pareja = 3 otros (asumimos no sillita aún)\\n  \"tipo_mensaje\": \"PREGUNTA\",\\n  \"contenido_mensaje\": \"Entendido, 3 pasajeros habitualmente. ¿Alguno de tus hijos necesita sillita de seguridad?\"\\n}}\\nEjemplo 3: Usuario aclara sillitas, info completa -> CONFIRMACION\\n\\nContexto: [..., HumanMessage(content=\\'Sí, el pequeño de 3 años va en silla\\')]\\nSalida JSON Esperada:\\n{{\\n  \"info_pasajeros\": {{ \"frecuencia\": \"frecuente\", \"num_ninos_silla\": 1, \"num_otros_pasajeros\": 2 }}, // 1 con silla + 1 sin silla + 1 pareja = 1(X) + 2(Z)\\n  \"tipo_mensaje\": \"CONFIRMACION\",\\n  \"contenido_mensaje\": \"¡Perfecto! Ya sé quiénes suelen viajar contigo.\"\\n}}\\nEjemplo 4: Usuario viaja solo -> CONFIRMACION\\n\\nContexto: [..., HumanMessage(content=\\'Normalmente voy solo\\')]\\nSalida JSON Esperada:\\n{{\\n  \"info_pasajeros\": {{ \"frecuencia\": \"nunca\", \"num_ninos_silla\": 0, \"num_otros_pasajeros\": 0 }},\\n  \"tipo_mensaje\": \"CONFIRMACION\",\\n  \"contenido_mensaje\": \"Entendido, normalmente viajas solo.\"\\n}}\\n</Ejemplos_Output_JSON>\\n\\n<Formato_Salida_JSON_Final>\\nGenera únicamente el objeto JSON completo y válido que cumpla el esquema ResultadoPasajeros. NO incluyas nada más antes ni después del JSON.\\n{{\\n  \"info_pasajeros\": {{ ... }},\\n  \"tipo_mensaje\": \"<\\'PREGUNTA\\' o \\'CONFIRMACION\\' o \\'ERROR\\'>\",\\n  \"contenido_mensaje\": \"<string>\"\\n}}', 'role': 'user'}, {'content': 'Quiero un coche mido 1.93. Peso 80 kg', 'role': 'user'}, {'content': '¿Usarás el coche para trabajo o para uso personal y familiar?', 'role': 'assistant'}, {'content': 'para uso personal', 'role': 'user'}, {'content': '¿Valoras especialmente la estética del coche?', 'role': 'assistant'}, {'content': 'si valoro la estetica', 'role': 'user'}, {'content': '¿Quieres solo coches eléctricos?', 'role': 'assistant'}, {'content': 'no a combustion tambien', 'role': 'user'}, {'content': '¿Qué tipo de transmisión prefieres?\\n 1) Automático\\n 2) Manual\\n 3) Ambos', 'role': 'assistant'}, {'content': 'la numero 3', 'role': 'user'}, {'content': 'Hablando de aventura, ¿con cuál de estas afirmaciones te identificas más?\\n 1) No pisas nada que no sea asfalto (ninguna)\\n 2) Salidas fuera de asfalto ocasionales (ocasional)\\n 3) Circular en condiciones duras con total garantía (extrema)', 'role': 'assistant'}, {'content': 'la 2', 'role': 'user'}, {'content': '¿Eres un apasionado del mundo automotriz?', 'role': 'assistant'}, {'content': 'si, lo soy', 'role': 'user'}], 'model': 'gpt-4o-mini', 'response_format': {'type': 'json_schema', 'json_schema': {'schema': {'$defs': {'InfoPasajeros': {'properties': {'frecuencia': {'anyOf': [{'enum': ['nunca', 'ocasional', 'frecuente'], 'type': 'string'}, {'type': 'null'}], 'description': 'Frecuencia con la que viajan otros pasajeros.', 'title': 'Frecuencia'}, 'num_ninos_silla': {'anyOf': [{'type': 'integer'}, {'type': 'null'}], 'description': 'Número de niños que necesitan silla de seguridad (X).', 'title': 'Num Ninos Silla'}, 'num_otros_pasajeros': {'anyOf': [{'type': 'integer'}, {'type': 'null'}], 'description': 'Número de adultos u otros pasajeros sin silla (Z).', 'title': 'Num Otros Pasajeros'}}, 'title': 'InfoPasajeros', 'type': 'object', 'additionalProperties': False, 'required': ['frecuencia', 'num_ninos_silla', 'num_otros_pasajeros']}}, 'description': 'Salida esperada del LLM enfocado en recopilar info de pasajeros.', 'properties': {'info_pasajeros': {'description': 'Objeto con la información de pasajeros actualizada o inferida.', 'properties': {'frecuencia': {'anyOf': [{'enum': ['nunca', 'ocasional', 'frecuente'], 'type': 'string'}, {'type': 'null'}], 'description': 'Frecuencia con la que viajan otros pasajeros.', 'title': 'Frecuencia'}, 'num_ninos_silla': {'anyOf': [{'type': 'integer'}, {'type': 'null'}], 'description': 'Número de niños que necesitan silla de seguridad (X).', 'title': 'Num Ninos Silla'}, 'num_otros_pasajeros': {'anyOf': [{'type': 'integer'}, {'type': 'null'}], 'description': 'Número de adultos u otros pasajeros sin silla (Z).', 'title': 'Num Otros Pasajeros'}}, 'title': 'InfoPasajeros', 'type': 'object', 'additionalProperties': False, 'required': ['frecuencia', 'num_ninos_silla', 'num_otros_pasajeros']}, 'tipo_mensaje': {'enum': ['PREGUNTA', 'CONFIRMACION', 'ERROR'], 'title': 'Tipo Mensaje', 'type': 'string'}, 'contenido_mensaje': {'title': 'Contenido Mensaje', 'type': 'string'}}, 'required': ['info_pasajeros', 'tipo_mensaje', 'contenido_mensaje'], 'title': 'ResultadoPasajeros', 'type': 'object', 'additionalProperties': False}, 'name': 'ResultadoPasajeros', 'strict': True}}, 'stream': False, 'temperature': 0.2}}\n",
      "DEBUG:openai._base_client:Sending HTTP Request: POST https://api.openai.com/v1/chat/completions\n",
      "DEBUG:httpcore.http11:send_request_headers.started request=<Request [b'POST']>\n",
      "DEBUG:httpcore.http11:send_request_headers.complete\n",
      "DEBUG:httpcore.http11:send_request_body.started request=<Request [b'POST']>\n",
      "DEBUG:httpcore.http11:send_request_body.complete\n",
      "DEBUG:httpcore.http11:receive_response_headers.started request=<Request [b'POST']>\n"
     ]
    },
    {
     "name": "stdout",
     "output_type": "stream",
     "text": [
      "DEBUG (Perfil) ► Respuesta llm_solo_perfil: preferencias_usuario=PerfilUsuario(altura_mayor_190='sí', peso_mayor_100='no', uso_profesional='no', valora_estetica='sí', solo_electricos='no', transmision_preferida=<Transmision.AMBOS: 'ambos'>, apasionado_motor='sí', aventura=<NivelAventura.ocasional: 'ocasional'>) tipo_mensaje='CONFIRMACION' contenido_mensaje='¡Perfecto! Ya tenemos tus preferencias principales.'\n",
      "DEBUG (Perfil) ► Preferencias TRAS post-procesamiento: altura_mayor_190='sí' peso_mayor_100='no' uso_profesional='no' valora_estetica='sí' solo_electricos='no' transmision_preferida=<Transmision.AMBOS: 'ambos'> apasionado_motor='sí' aventura=<NivelAventura.ocasional: 'ocasional'>\n",
      "DEBUG (Perfil) ► Estado preferencias_usuario actualizado: altura_mayor_190='sí' peso_mayor_100='no' uso_profesional='no' valora_estetica='sí' solo_electricos='no' transmision_preferida=<Transmision.AMBOS: 'ambos'> apasionado_motor='sí' aventura=<NivelAventura.ocasional: 'ocasional'>\n",
      "DEBUG (Perfil) ► Guardando mensaje pendiente: ¡Perfecto! Ya tenemos tus preferencias principales.\n",
      "--- Ejecutando Nodo: validar_preferencias_node ---\n",
      "--- DEBUG CHECK PERFIL ---\n",
      "Input prefs object: altura_mayor_190='sí' peso_mayor_100='no' uso_profesional='no' valora_estetica='sí' solo_electricos='no' transmision_preferida=<Transmision.AMBOS: 'ambos'> apasionado_motor='sí' aventura=<NivelAventura.ocasional: 'ocasional'>\n",
      "Input prefs type: <class 'graph.perfil.state.PerfilUsuario'>\n",
      "Checking field 'altura_mayor_190': value='sí', type=<class 'str'>\n",
      "Checking field 'peso_mayor_100': value='no', type=<class 'str'>\n",
      "Checking field 'uso_profesional': value='no', type=<class 'str'>\n",
      "Checking field 'valora_estetica': value='sí', type=<class 'str'>\n",
      "Checking field 'solo_electricos': value='no', type=<class 'str'>\n",
      "Checking field 'transmision_preferida': value='Transmision.AMBOS', type=<enum 'Transmision'>\n",
      "Checking field 'apasionado_motor': value='sí', type=<class 'str'>\n",
      "Checking field 'aventura': value='NivelAventura.ocasional', type=<enum 'NivelAventura'>\n",
      "DEBUG (Validation Perfil) ► Todos los campos obligatorios del perfil están presentes.\n",
      "DEBUG (Perfil) ► Validación: PerfilUsuario considerado COMPLETO.\n",
      "--- Evaluando Condición: ruta_decision_perfil ---\n",
      "DEBUG (Condición Perfil) ► Estado 'preferencias_usuario' recibido: altura_mayor_190='sí' peso_mayor_100='no' uso_profesional='no' valora_estetica='sí' solo_electricos='no' transmision_preferida=<Transmision.AMBOS: 'ambos'> apasionado_motor='sí' aventura=<NivelAventura.ocasional: 'ocasional'>\n",
      "DEBUG (Condición Perfil) ► Tipo de 'preferencias_usuario': <class 'graph.perfil.state.PerfilUsuario'>\n",
      "--- DEBUG CHECK PERFIL ---\n",
      "Input prefs object: altura_mayor_190='sí' peso_mayor_100='no' uso_profesional='no' valora_estetica='sí' solo_electricos='no' transmision_preferida=<Transmision.AMBOS: 'ambos'> apasionado_motor='sí' aventura=<NivelAventura.ocasional: 'ocasional'>\n",
      "Input prefs type: <class 'graph.perfil.state.PerfilUsuario'>\n",
      "Checking field 'altura_mayor_190': value='sí', type=<class 'str'>\n",
      "Checking field 'peso_mayor_100': value='no', type=<class 'str'>\n",
      "Checking field 'uso_profesional': value='no', type=<class 'str'>\n",
      "Checking field 'valora_estetica': value='sí', type=<class 'str'>\n",
      "Checking field 'solo_electricos': value='no', type=<class 'str'>\n",
      "Checking field 'transmision_preferida': value='Transmision.AMBOS', type=<enum 'Transmision'>\n",
      "Checking field 'apasionado_motor': value='sí', type=<class 'str'>\n",
      "Checking field 'aventura': value='NivelAventura.ocasional', type=<enum 'NivelAventura'>\n",
      "DEBUG (Validation Perfil) ► Todos los campos obligatorios del perfil están presentes.\n",
      "DEBUG (Condición Perfil) ► Perfil COMPLETO. Avanzando a filtros.\n",
      "--- Ejecutando Nodo: recopilar_info_pasajeros_node ---\n",
      "DEBUG (Pasajeros) ► Último mensaje es HumanMessage o inicio de etapa, llamando a llm_pasajeros...\n"
     ]
    },
    {
     "name": "stderr",
     "output_type": "stream",
     "text": [
      "DEBUG:httpcore.http11:receive_response_headers.complete return_value=(b'HTTP/1.1', 200, b'OK', [(b'Date', b'Tue, 06 May 2025 17:25:18 GMT'), (b'Content-Type', b'application/json'), (b'Transfer-Encoding', b'chunked'), (b'Connection', b'keep-alive'), (b'access-control-expose-headers', b'X-Request-ID'), (b'openai-organization', b'user-ic25pcewdjuowsz9q2ektvrn'), (b'openai-processing-ms', b'1303'), (b'openai-version', b'2020-10-01'), (b'x-ratelimit-limit-requests', b'10000'), (b'x-ratelimit-limit-tokens', b'200000'), (b'x-ratelimit-remaining-requests', b'9998'), (b'x-ratelimit-remaining-tokens', b'196922'), (b'x-ratelimit-reset-requests', b'14.515s'), (b'x-ratelimit-reset-tokens', b'923ms'), (b'x-request-id', b'req_01988ee0fac04c8aae11851ab8efa9b3'), (b'strict-transport-security', b'max-age=31536000; includeSubDomains; preload'), (b'cf-cache-status', b'DYNAMIC'), (b'X-Content-Type-Options', b'nosniff'), (b'Server', b'cloudflare'), (b'CF-RAY', b'93ba2d0c1f46193a-BCN'), (b'Content-Encoding', b'gzip'), (b'alt-svc', b'h3=\":443\"; ma=86400')])\n",
      "INFO:httpx:HTTP Request: POST https://api.openai.com/v1/chat/completions \"HTTP/1.1 200 OK\"\n",
      "DEBUG:httpcore.http11:receive_response_body.started request=<Request [b'POST']>\n",
      "DEBUG:httpcore.http11:receive_response_body.complete\n",
      "DEBUG:httpcore.http11:response_closed.started\n",
      "DEBUG:httpcore.http11:response_closed.complete\n",
      "DEBUG:openai._base_client:HTTP Response: POST https://api.openai.com/v1/chat/completions \"200 OK\" Headers({'date': 'Tue, 06 May 2025 17:25:18 GMT', 'content-type': 'application/json', 'transfer-encoding': 'chunked', 'connection': 'keep-alive', 'access-control-expose-headers': 'X-Request-ID', 'openai-organization': 'user-ic25pcewdjuowsz9q2ektvrn', 'openai-processing-ms': '1303', 'openai-version': '2020-10-01', 'x-ratelimit-limit-requests': '10000', 'x-ratelimit-limit-tokens': '200000', 'x-ratelimit-remaining-requests': '9998', 'x-ratelimit-remaining-tokens': '196922', 'x-ratelimit-reset-requests': '14.515s', 'x-ratelimit-reset-tokens': '923ms', 'x-request-id': 'req_01988ee0fac04c8aae11851ab8efa9b3', 'strict-transport-security': 'max-age=31536000; includeSubDomains; preload', 'cf-cache-status': 'DYNAMIC', 'x-content-type-options': 'nosniff', 'server': 'cloudflare', 'cf-ray': '93ba2d0c1f46193a-BCN', 'content-encoding': 'gzip', 'alt-svc': 'h3=\":443\"; ma=86400'})\n",
      "DEBUG:openai._base_client:request_id: req_01988ee0fac04c8aae11851ab8efa9b3\n"
     ]
    },
    {
     "name": "stdout",
     "output_type": "stream",
     "text": [
      "DEBUG (Pasajeros) ► Respuesta llm_pasajeros: info_pasajeros=InfoPasajeros(frecuencia=None, num_ninos_silla=None, num_otros_pasajeros=None) tipo_mensaje='PREGUNTA' contenido_mensaje='Cuéntame, ¿sueles viajar con acompañantes en el coche habitualmente? ¿cuántos?'\n",
      "DEBUG (Pasajeros) ► Tipo='PREGUNTA', Contenido='Cuéntame, ¿sueles viajar con acompañantes en el coche habitualmente? ¿cuántos?'\n",
      "DEBUG (Pasajeros) ► Info Pasajeros LLM: frecuencia=None num_ninos_silla=None num_otros_pasajeros=None\n",
      "DEBUG (Pasajeros) ► Estado info_pasajeros actualizado: frecuencia=None num_ninos_silla=None num_otros_pasajeros=None\n",
      "DEBUG (Pasajeros) ► Guardando mensaje pendiente: Cuéntame, ¿sueles viajar con acompañantes en el coche habitualmente? ¿cuántos?\n",
      "--- Ejecutando Nodo: validar_info_pasajeros_node ---\n",
      "--- DEBUG CHECK PASAJEROS ---\n",
      "Input info pasajeros: frecuencia=None num_ninos_silla=None num_otros_pasajeros=None\n",
      "DEBUG (Validation Pasajeros) ► info.frecuencia es None.\n",
      "DEBUG (Pasajeros) ► Validación: Info Pasajeros considerada INCOMPLETA.\n",
      "--- Evaluando Condición: ruta_decision_pasajeros ---\n",
      "--- DEBUG CHECK PASAJEROS ---\n",
      "Input info pasajeros: frecuencia=None num_ninos_silla=None num_otros_pasajeros=None\n",
      "DEBUG (Validation Pasajeros) ► info.frecuencia es None.\n",
      "DEBUG (Condición Pasajeros) ► INCOMPLETO. Se necesita pregunta.\n",
      "--- Ejecutando Nodo: preguntar_info_pasajeros_node ---\n",
      "DEBUG (Preguntar Pasajeros) ► Usando mensaje pendiente: Cuéntame, ¿sueles viajar con acompañantes en el coche habitualmente? ¿cuántos?\n",
      "DEBUG (Preguntar Pasajeros) ► Mensaje final añadido: Cuéntame, ¿sueles viajar con acompañantes en el coche habitualmente? ¿cuántos?\n",
      "==================================\u001b[1m Ai Message \u001b[0m==================================\n",
      "\n",
      "Cuéntame, ¿sueles viajar con acompañantes en el coche habitualmente? ¿cuántos?\n"
     ]
    }
   ],
   "source": [
    "# Create a thread\n",
    "config = {\"configurable\": {\"thread_id\": \"2\"}}\n",
    "\n",
    "# Start conversation\n",
    "input_message = HumanMessage(content=\"si, lo soy\")\n",
    "output = graph.invoke({\"messages\": [input_message]}, config) \n",
    "for m in output['messages'][-1:]:\n",
    "    m.pretty_print()"
   ]
  },
  {
   "cell_type": "code",
   "execution_count": null,
   "metadata": {},
   "outputs": [],
   "source": [
    "\n",
    "print(output['preferencias_usuario'])\n",
    "print('---------------------------------------------------------------------')\n",
    "# print(output['filtros_inferidos']) \n",
    "print('---------------------------------------------------------------------')\n",
    "# print(output['economia'])"
   ]
  },
  {
   "cell_type": "code",
   "execution_count": 10,
   "metadata": {},
   "outputs": [
    {
     "name": "stderr",
     "output_type": "stream",
     "text": [
      "DEBUG:openai._base_client:Request options: {'method': 'post', 'url': '/chat/completions', 'headers': {'X-Stainless-Helper-Method': 'beta.chat.completions.parse'}, 'files': None, 'post_parser': <function Completions.parse.<locals>.parser at 0x115898c20>, 'json_data': {'messages': [{'content': '<Role>\\nEres un asistente amigable y empático. Tu objetivo ahora es entender con quién suele viajar el usuario en el coche para determinar las necesidades de espacio y configuración. NO preguntes por el perfil del conductor (altura, gustos) ni por economía en esta fase. Tu salida SIEMPRE debe ser un objeto JSON válido que cumpla el esquema `ResultadoPasajeros`.\\n</Role>\\n\\n<Esquema_JSON_Requerido>\\nLa estructura JSON que DEBES generar es la siguiente (`ResultadoPasajeros`):\\n```json\\n{{\\n  \"$defs\": {{\\n    \"InfoPasajeros\": {{\\n      \"properties\": {{\\n        \"frecuencia\": {{\\n          \"anyOf\": [\\n            {{\\n              \"enum\": [\\n                \"nunca\",\\n                \"ocasional\",\\n                \"frecuente\"\\n              ],\\n              \"type\": \"string\"\\n            }},\\n            {{\\n              \"type\": \"null\"\\n            }}\\n          ],\\n          \"default\": null,\\n          \"description\": \"Frecuencia con la que viajan otros pasajeros.\",\\n          \"title\": \"Frecuencia\"\\n        }},\\n        \"num_ninos_silla\": {{\\n          \"anyOf\": [\\n            {{\\n              \"type\": \"integer\"\\n            }},\\n            {{\\n              \"type\": \"null\"\\n            }}\\n          ],\\n          \"default\": null,\\n          \"description\": \"Número de niños que necesitan silla de seguridad (X).\",\\n          \"title\": \"Num Ninos Silla\"\\n        }},\\n        \"num_otros_pasajeros\": {{\\n          \"anyOf\": [\\n            {{\\n              \"type\": \"integer\"\\n            }},\\n            {{\\n              \"type\": \"null\"\\n            }}\\n          ],\\n          \"default\": null,\\n          \"description\": \"Número de adultos u otros pasajeros sin silla (Z).\",\\n          \"title\": \"Num Otros Pasajeros\"\\n        }}\\n      }},\\n      \"title\": \"InfoPasajeros\",\\n      \"type\": \"object\"\\n    }}\\n  }},\\n  \"description\": \"Salida esperada del LLM enfocado en recopilar info de pasajeros.\",\\n  \"properties\": {{\\n    \"info_pasajeros\": {{\\n      \"$ref\": \"#/$defs/InfoPasajeros\",\\n      \"description\": \"Objeto con la información de pasajeros actualizada o inferida.\"\\n    }},\\n    \"tipo_mensaje\": {{\\n      \"enum\": [\\n        \"PREGUNTA\",\\n        \"CONFIRMACION\",\\n        \"ERROR\"\\n      ],\\n      \"title\": \"Tipo Mensaje\",\\n      \"type\": \"string\"\\n    }},\\n    \"contenido_mensaje\": {{\\n      \"title\": \"Contenido Mensaje\",\\n      \"type\": \"string\"\\n    }}\\n  }},\\n  \"required\": [\\n    \"info_pasajeros\",\\n    \"tipo_mensaje\",\\n    \"contenido_mensaje\"\\n  ],\\n  \"title\": \"ResultadoPasajeros\",\\n  \"type\": \"object\"\\n}}\\n</Esquema_JSON_Requerido>\\n\\n<Instrucciones_Detalladas>\\n\\nInicia la Conversación: Comienza con una pregunta abierta y natural sobre los acompañantes habituales. Usa uno de los ejemplos de abajo. Pon tipo_mensaje=\"PREGUNTA\". El objeto info_pasajeros inicial estará vacío o con null.\\nAnaliza la Respuesta: Extrae de la respuesta del usuario:\\n  - frecuencia: Si viaja solo (\"nunca\"), a veces (\"ocasional\") o habitualmente (\"frecuente\").\\n  - num_ninos_silla (X): Cuántos niños necesitan silla de seguridad. **Extrae este valor SOLO si el usuario lo menciona explícitamente.** Si no lo menciona, deja este campo como `null` inicialmente. Asegúrate de que sea un número entero >= 0 si lo extraes.\\n  - num_otros_pasajeros (Z): Cuántos adultos u otros niños/pasajeros (sin silla) suelen ir. Intenta inferir este valor del número total de acompañantes menos los niños con silla (si se conocen). Asegúrate de que sea un número entero >= 0. Si no puedes determinar Z, déjalo `null`.\\n\\nDetermina `tipo_mensaje` y `contenido_mensaje`:\\n- **Si `frecuencia` es `\"nunca\"`:**\\n    - Considera la información completa.\\n    - coloca `tipo_mensaje=\"CONFIRMACION\"`, `num_ninos_silla=0`, `num_otros_pasajeros=0`.\\n    - `contenido_mensaje` vacío `\"\"` o una confirmación breve como \"Entendido, normalmente viajas solo.\"\\n\\n- **Si `frecuencia` es `\"ocasional\"` o `\"frecuente\"`:**\\n    - **Paso 1: Revisa `num_ninos_silla`.** ¿Has podido extraer un valor explícito (incluyendo 0) para `num_ninos_silla` de la respuesta del usuario?\\n        - **Si NO (es decir, `num_ninos_silla` es `null` porque no se mencionó):**\\n            - `tipo_mensaje` DEBE ser `\"PREGUNTA\"`.\\n            - En `contenido_mensaje`, formula UNA PREGUNTA clara y específica sobre si hay niños y si necesitan sillita. Puedes incluir el número de acompañantes si ya lo sabes (Z). Ejemplo: \"Entendido, [Z] acompañantes. Para asegurarme, ¿alguno de ellos es un niño que necesite sillita de seguridad?\" o \"De acuerdo. ¿Alguno de esos acompañantes es un niño que necesite silla?\".\\n            - En el objeto `info_pasajeros` de salida, incluye la `frecuencia` y `num_otros_pasajeros` (si lo sabes), pero mantén `num_ninos_silla` como `null`.\\n        - **Si SÍ (es decir, `num_ninos_silla` tiene un valor explícito X, que puede ser 0):**\\n            - **Paso 2: Revisa `num_otros_pasajeros`.** ¿Has podido extraer o calcular un valor Z para `num_otros_pasajeros`?\\n                - **Si NO (Z es `null`):**\\n                    - `tipo_mensaje` DEBE ser `\"PREGUNTA\"`.\\n                    - En `contenido_mensaje`, formula UNA PREGUNTA clara para obtener Z. Ejemplo: \"Entendido, [X] niño(s) con sillita. ¿Cuántos otros pasajeros (adultos u otros niños sin silla) suelen ir además?\"\\n                    - En el objeto `info_pasajeros` de salida, incluye `frecuencia` y `num_ninos_silla=X`, pero mantén `num_otros_pasajeros` como `null`.\\n                - **Si SÍ (ambos X y Z tienen valores numéricos):**\\n                    - Considera la información completa.\\n                    - `tipo_mensaje` DEBE ser `\"CONFIRMACION\"`.\\n                    - `contenido_mensaje` vacío `\"\"` o una confirmación breve como \"¡Perfecto! Ya sé quiénes suelen viajar contigo.\"\\n                    - En el objeto `info_pasajeros` de salida, incluye `frecuencia`, `num_ninos_silla=X`, y `num_otros_pasajeros=Z`.\\n\\n\\n- **Si Error:** coloca `tipo_mensaje=\"ERROR\"` y una explicación.\\n**Tono:** Amigable, conversacional.\\n</Instrucciones_Detalladas>\\n\\n<Ejemplos_Preguntas>\\n\\nPreguntas Iniciales (elige una):\\n\"Cuéntame, ¿sueles viajar con acompañantes en el coche habitualmente? ¿cuantos?\"\\n\"Para entender mejor el espacio que necesitas, ¿normalmente viajas solo/a o sueles llevar acompañantes? ¿Quizás niños?\"\\nPreguntas de Seguimiento (si la respuesta inicial fue incompleta):\\n\"Mencionas que llevas a tus hijos. ¿Cuántos son y qué edades tienen aproximadamente? ¿Alguno necesita sillita de seguridad?\"\\n\"Entendido, sueles llevar X pasajeros. ¿Son adultos, niños, o una mezcla? ¿Necesitas espacio para sillitas infantiles?\" </Ejemplos_Preguntas>\\n<Ejemplos_Output_JSON>\\nEjemplo 1: Pregunta Inicial\\n\\nContexto: Inicio de esta etapa.\\nSalida JSON Esperada:\\n{{\\n  \"info_pasajeros\": {{\"frecuencia\": null, \"num_ninos_silla\": null, \"num_otros_pasajeros\": null}},\\n  \"tipo_mensaje\": \"PREGUNTA\",\\n  \"contenido_mensaje\": \"Cuéntame, ¿sueles viajar con acompañantes en el coche habitualmente? ¿cuantos?\"\\n}}\\nEjemplo 2: Usuario responde, falta info de sillitas -> PREGUNTA\\n\\nContexto: [..., HumanMessage(content=\\'Suelo llevar a mis 2 hijos y a veces a mi pareja\\')]\\nSalida JSON Esperada:\\n{{\\n  \"info_pasajeros\": {{ \"frecuencia\": \"frecuente\", \"num_ninos_silla\": null, \"num_otros_pasajeros\": 3 }}, // 2 hijos + 1 pareja = 3 otros (asumimos no sillita aún)\\n  \"tipo_mensaje\": \"PREGUNTA\",\\n  \"contenido_mensaje\": \"Entendido, 3 pasajeros habitualmente. ¿Alguno de tus hijos necesita sillita de seguridad?\"\\n}}\\nEjemplo 3: Usuario aclara sillitas, info completa -> CONFIRMACION\\n\\nContexto: [..., HumanMessage(content=\\'Sí, el pequeño de 3 años va en silla\\')]\\nSalida JSON Esperada:\\n{{\\n  \"info_pasajeros\": {{ \"frecuencia\": \"frecuente\", \"num_ninos_silla\": 1, \"num_otros_pasajeros\": 2 }}, // 1 con silla + 1 sin silla + 1 pareja = 1(X) + 2(Z)\\n  \"tipo_mensaje\": \"CONFIRMACION\",\\n  \"contenido_mensaje\": \"¡Perfecto! Ya sé quiénes suelen viajar contigo.\"\\n}}\\nEjemplo 4: Usuario viaja solo -> CONFIRMACION\\n\\nContexto: [..., HumanMessage(content=\\'Normalmente voy solo\\')]\\nSalida JSON Esperada:\\n{{\\n  \"info_pasajeros\": {{ \"frecuencia\": \"nunca\", \"num_ninos_silla\": 0, \"num_otros_pasajeros\": 0 }},\\n  \"tipo_mensaje\": \"CONFIRMACION\",\\n  \"contenido_mensaje\": \"Entendido, normalmente viajas solo.\"\\n}}\\n</Ejemplos_Output_JSON>\\n\\n<Formato_Salida_JSON_Final>\\nGenera únicamente el objeto JSON completo y válido que cumpla el esquema ResultadoPasajeros. NO incluyas nada más antes ni después del JSON.\\n{{\\n  \"info_pasajeros\": {{ ... }},\\n  \"tipo_mensaje\": \"<\\'PREGUNTA\\' o \\'CONFIRMACION\\' o \\'ERROR\\'>\",\\n  \"contenido_mensaje\": \"<string>\"\\n}}', 'role': 'user'}, {'content': 'Quiero un coche mido 1.93. Peso 80 kg', 'role': 'user'}, {'content': '¿Usarás el coche para trabajo o para uso personal y familiar?', 'role': 'assistant'}, {'content': 'para uso personal', 'role': 'user'}, {'content': '¿Valoras especialmente la estética del coche?', 'role': 'assistant'}, {'content': 'si valoro la estetica', 'role': 'user'}, {'content': '¿Quieres solo coches eléctricos?', 'role': 'assistant'}, {'content': 'no a combustion tambien', 'role': 'user'}, {'content': '¿Qué tipo de transmisión prefieres?\\n 1) Automático\\n 2) Manual\\n 3) Ambos', 'role': 'assistant'}, {'content': 'la numero 3', 'role': 'user'}, {'content': 'Hablando de aventura, ¿con cuál de estas afirmaciones te identificas más?\\n 1) No pisas nada que no sea asfalto (ninguna)\\n 2) Salidas fuera de asfalto ocasionales (ocasional)\\n 3) Circular en condiciones duras con total garantía (extrema)', 'role': 'assistant'}, {'content': 'la 2', 'role': 'user'}, {'content': '¿Eres un apasionado del mundo automotriz?', 'role': 'assistant'}, {'content': 'si, lo soy', 'role': 'user'}, {'content': 'Cuéntame, ¿sueles viajar con acompañantes en el coche habitualmente? ¿cuántos?', 'role': 'assistant'}, {'content': 'si, llevo 2 acompañantes', 'role': 'user'}], 'model': 'gpt-4o-mini', 'response_format': {'type': 'json_schema', 'json_schema': {'schema': {'$defs': {'InfoPasajeros': {'properties': {'frecuencia': {'anyOf': [{'enum': ['nunca', 'ocasional', 'frecuente'], 'type': 'string'}, {'type': 'null'}], 'description': 'Frecuencia con la que viajan otros pasajeros.', 'title': 'Frecuencia'}, 'num_ninos_silla': {'anyOf': [{'type': 'integer'}, {'type': 'null'}], 'description': 'Número de niños que necesitan silla de seguridad (X).', 'title': 'Num Ninos Silla'}, 'num_otros_pasajeros': {'anyOf': [{'type': 'integer'}, {'type': 'null'}], 'description': 'Número de adultos u otros pasajeros sin silla (Z).', 'title': 'Num Otros Pasajeros'}}, 'title': 'InfoPasajeros', 'type': 'object', 'additionalProperties': False, 'required': ['frecuencia', 'num_ninos_silla', 'num_otros_pasajeros']}}, 'description': 'Salida esperada del LLM enfocado en recopilar info de pasajeros.', 'properties': {'info_pasajeros': {'description': 'Objeto con la información de pasajeros actualizada o inferida.', 'properties': {'frecuencia': {'anyOf': [{'enum': ['nunca', 'ocasional', 'frecuente'], 'type': 'string'}, {'type': 'null'}], 'description': 'Frecuencia con la que viajan otros pasajeros.', 'title': 'Frecuencia'}, 'num_ninos_silla': {'anyOf': [{'type': 'integer'}, {'type': 'null'}], 'description': 'Número de niños que necesitan silla de seguridad (X).', 'title': 'Num Ninos Silla'}, 'num_otros_pasajeros': {'anyOf': [{'type': 'integer'}, {'type': 'null'}], 'description': 'Número de adultos u otros pasajeros sin silla (Z).', 'title': 'Num Otros Pasajeros'}}, 'title': 'InfoPasajeros', 'type': 'object', 'additionalProperties': False, 'required': ['frecuencia', 'num_ninos_silla', 'num_otros_pasajeros']}, 'tipo_mensaje': {'enum': ['PREGUNTA', 'CONFIRMACION', 'ERROR'], 'title': 'Tipo Mensaje', 'type': 'string'}, 'contenido_mensaje': {'title': 'Contenido Mensaje', 'type': 'string'}}, 'required': ['info_pasajeros', 'tipo_mensaje', 'contenido_mensaje'], 'title': 'ResultadoPasajeros', 'type': 'object', 'additionalProperties': False}, 'name': 'ResultadoPasajeros', 'strict': True}}, 'stream': False, 'temperature': 0.2}}\n",
      "DEBUG:openai._base_client:Sending HTTP Request: POST https://api.openai.com/v1/chat/completions\n",
      "DEBUG:httpcore.connection:close.started\n",
      "DEBUG:httpcore.connection:close.complete\n",
      "DEBUG:httpcore.connection:connect_tcp.started host='api.openai.com' port=443 local_address=None timeout=None socket_options=None\n",
      "DEBUG:httpcore.connection:connect_tcp.complete return_value=<httpcore._backends.sync.SyncStream object at 0x115bfaf50>\n",
      "DEBUG:httpcore.connection:start_tls.started ssl_context=<ssl.SSLContext object at 0x1072c4e60> server_hostname='api.openai.com' timeout=None\n",
      "DEBUG:httpcore.connection:start_tls.complete return_value=<httpcore._backends.sync.SyncStream object at 0x11580d350>\n",
      "DEBUG:httpcore.http11:send_request_headers.started request=<Request [b'POST']>\n",
      "DEBUG:httpcore.http11:send_request_headers.complete\n",
      "DEBUG:httpcore.http11:send_request_body.started request=<Request [b'POST']>\n",
      "DEBUG:httpcore.http11:send_request_body.complete\n",
      "DEBUG:httpcore.http11:receive_response_headers.started request=<Request [b'POST']>\n"
     ]
    },
    {
     "name": "stdout",
     "output_type": "stream",
     "text": [
      "--- Ejecutando Nodo: route_based_on_state_node ---\n",
      "\n",
      "--- DEBUG: Evaluating Routing Decision ---\n",
      "--- DEBUG CHECK PERFIL ---\n",
      "Input prefs object: altura_mayor_190='sí' peso_mayor_100='no' uso_profesional='no' valora_estetica='sí' solo_electricos='no' transmision_preferida=<Transmision.AMBOS: 'ambos'> apasionado_motor='sí' aventura=<NivelAventura.ocasional: 'ocasional'>\n",
      "Input prefs type: <class 'graph.perfil.state.PerfilUsuario'>\n",
      "Checking field 'altura_mayor_190': value='sí', type=<class 'str'>\n",
      "Checking field 'peso_mayor_100': value='no', type=<class 'str'>\n",
      "Checking field 'uso_profesional': value='no', type=<class 'str'>\n",
      "Checking field 'valora_estetica': value='sí', type=<class 'str'>\n",
      "Checking field 'solo_electricos': value='no', type=<class 'str'>\n",
      "Checking field 'transmision_preferida': value='Transmision.AMBOS', type=<enum 'Transmision'>\n",
      "Checking field 'apasionado_motor': value='sí', type=<class 'str'>\n",
      "Checking field 'aventura': value='NivelAventura.ocasional', type=<enum 'NivelAventura'>\n",
      "DEBUG (Validation Perfil) ► Todos los campos obligatorios del perfil están presentes.\n",
      "DEBUG Router: Prefs OK? True\n",
      "--- DEBUG CHECK PASAJEROS ---\n",
      "Input info pasajeros: frecuencia=None num_ninos_silla=None num_otros_pasajeros=None\n",
      "DEBUG (Validation Pasajeros) ► info.frecuencia es None.\n",
      "DEBUG Router: Pasajeros OK? False\n",
      "DEBUG (Validation Filtros) ► Objeto FiltrosInferidos es None.\n",
      "DEBUG Router: Filtros OK? False\n",
      "--- DEBUG CHECK ECONOMIA (Manual) ---\n",
      "Input econ object: None\n",
      "DEBUG (Validation Economía Manual) ► Objeto EconomiaUsuario es None.\n",
      "DEBUG Router: Economía OK? False\n",
      "DEBUG Router: Pesos Calculados? False\n",
      "DEBUG Router: Coches Buscados? False\n",
      "--- DEBUG CHECK PERFIL ---\n",
      "Input prefs object: altura_mayor_190='sí' peso_mayor_100='no' uso_profesional='no' valora_estetica='sí' solo_electricos='no' transmision_preferida=<Transmision.AMBOS: 'ambos'> apasionado_motor='sí' aventura=<NivelAventura.ocasional: 'ocasional'>\n",
      "Input prefs type: <class 'graph.perfil.state.PerfilUsuario'>\n",
      "Checking field 'altura_mayor_190': value='sí', type=<class 'str'>\n",
      "Checking field 'peso_mayor_100': value='no', type=<class 'str'>\n",
      "Checking field 'uso_profesional': value='no', type=<class 'str'>\n",
      "Checking field 'valora_estetica': value='sí', type=<class 'str'>\n",
      "Checking field 'solo_electricos': value='no', type=<class 'str'>\n",
      "Checking field 'transmision_preferida': value='Transmision.AMBOS', type=<enum 'Transmision'>\n",
      "Checking field 'apasionado_motor': value='sí', type=<class 'str'>\n",
      "Checking field 'aventura': value='NivelAventura.ocasional', type=<enum 'NivelAventura'>\n",
      "DEBUG (Validation Perfil) ► Todos los campos obligatorios del perfil están presentes.\n",
      "--- DEBUG CHECK PASAJEROS ---\n",
      "Input info pasajeros: frecuencia=None num_ninos_silla=None num_otros_pasajeros=None\n",
      "DEBUG (Validation Pasajeros) ► info.frecuencia es None.\n",
      "DEBUG Router: Decisión -> recopilar_info_pasajeros\n",
      "--- Ejecutando Nodo: recopilar_info_pasajeros_node ---\n",
      "DEBUG (Pasajeros) ► Último mensaje es HumanMessage o inicio de etapa, llamando a llm_pasajeros...\n"
     ]
    },
    {
     "name": "stderr",
     "output_type": "stream",
     "text": [
      "DEBUG:httpcore.http11:receive_response_headers.complete return_value=(b'HTTP/1.1', 200, b'OK', [(b'Date', b'Tue, 06 May 2025 17:25:28 GMT'), (b'Content-Type', b'application/json'), (b'Transfer-Encoding', b'chunked'), (b'Connection', b'keep-alive'), (b'access-control-expose-headers', b'X-Request-ID'), (b'openai-organization', b'user-ic25pcewdjuowsz9q2ektvrn'), (b'openai-processing-ms', b'2137'), (b'openai-version', b'2020-10-01'), (b'x-ratelimit-limit-requests', b'10000'), (b'x-ratelimit-limit-tokens', b'200000'), (b'x-ratelimit-remaining-requests', b'9998'), (b'x-ratelimit-remaining-tokens', b'197676'), (b'x-ratelimit-reset-requests', b'13.726s'), (b'x-ratelimit-reset-tokens', b'697ms'), (b'x-request-id', b'req_a9b789e974701627d9cae4dd980d70c6'), (b'strict-transport-security', b'max-age=31536000; includeSubDomains; preload'), (b'cf-cache-status', b'DYNAMIC'), (b'X-Content-Type-Options', b'nosniff'), (b'Server', b'cloudflare'), (b'CF-RAY', b'93ba2d46ef3ad746-MRS'), (b'Content-Encoding', b'gzip'), (b'alt-svc', b'h3=\":443\"; ma=86400')])\n",
      "INFO:httpx:HTTP Request: POST https://api.openai.com/v1/chat/completions \"HTTP/1.1 200 OK\"\n",
      "DEBUG:httpcore.http11:receive_response_body.started request=<Request [b'POST']>\n",
      "DEBUG:httpcore.http11:receive_response_body.complete\n",
      "DEBUG:httpcore.http11:response_closed.started\n",
      "DEBUG:httpcore.http11:response_closed.complete\n",
      "DEBUG:openai._base_client:HTTP Response: POST https://api.openai.com/v1/chat/completions \"200 OK\" Headers({'date': 'Tue, 06 May 2025 17:25:28 GMT', 'content-type': 'application/json', 'transfer-encoding': 'chunked', 'connection': 'keep-alive', 'access-control-expose-headers': 'X-Request-ID', 'openai-organization': 'user-ic25pcewdjuowsz9q2ektvrn', 'openai-processing-ms': '2137', 'openai-version': '2020-10-01', 'x-ratelimit-limit-requests': '10000', 'x-ratelimit-limit-tokens': '200000', 'x-ratelimit-remaining-requests': '9998', 'x-ratelimit-remaining-tokens': '197676', 'x-ratelimit-reset-requests': '13.726s', 'x-ratelimit-reset-tokens': '697ms', 'x-request-id': 'req_a9b789e974701627d9cae4dd980d70c6', 'strict-transport-security': 'max-age=31536000; includeSubDomains; preload', 'cf-cache-status': 'DYNAMIC', 'x-content-type-options': 'nosniff', 'server': 'cloudflare', 'cf-ray': '93ba2d46ef3ad746-MRS', 'content-encoding': 'gzip', 'alt-svc': 'h3=\":443\"; ma=86400'})\n",
      "DEBUG:openai._base_client:request_id: req_a9b789e974701627d9cae4dd980d70c6\n"
     ]
    },
    {
     "name": "stdout",
     "output_type": "stream",
     "text": [
      "DEBUG (Pasajeros) ► Respuesta llm_pasajeros: info_pasajeros=InfoPasajeros(frecuencia='frecuente', num_ninos_silla=None, num_otros_pasajeros=2) tipo_mensaje='PREGUNTA' contenido_mensaje='Entendido, 2 acompañantes habitualmente. ¿Alguno de ellos es un niño que necesite sillita de seguridad?'\n",
      "DEBUG (Pasajeros) ► Tipo='PREGUNTA', Contenido='Entendido, 2 acompañantes habitualmente. ¿Alguno de ellos es un niño que necesite sillita de seguridad?'\n",
      "DEBUG (Pasajeros) ► Info Pasajeros LLM: frecuencia='frecuente' num_ninos_silla=None num_otros_pasajeros=2\n",
      "DEBUG (Pasajeros) ► Estado info_pasajeros actualizado: frecuencia='frecuente' num_ninos_silla=None num_otros_pasajeros=2\n",
      "DEBUG (Pasajeros) ► Guardando mensaje pendiente: Entendido, 2 acompañantes habitualmente. ¿Alguno de ellos es un niño que necesite sillita de seguridad?\n",
      "--- Ejecutando Nodo: validar_info_pasajeros_node ---\n",
      "--- DEBUG CHECK PASAJEROS ---\n",
      "Input info pasajeros: frecuencia='frecuente' num_ninos_silla=None num_otros_pasajeros=2\n",
      "DEBUG (Validation Pasajeros) ► Frecuencia='frecuente'. Faltan datos: num_ninos_silla. Considerado INCOMPLETO.\n",
      "DEBUG (Pasajeros) ► Validación: Info Pasajeros considerada INCOMPLETA.\n",
      "--- Evaluando Condición: ruta_decision_pasajeros ---\n",
      "--- DEBUG CHECK PASAJEROS ---\n",
      "Input info pasajeros: frecuencia='frecuente' num_ninos_silla=None num_otros_pasajeros=2\n",
      "DEBUG (Validation Pasajeros) ► Frecuencia='frecuente'. Faltan datos: num_ninos_silla. Considerado INCOMPLETO.\n",
      "DEBUG (Condición Pasajeros) ► INCOMPLETO. Se necesita pregunta.\n",
      "--- Ejecutando Nodo: preguntar_info_pasajeros_node ---\n",
      "DEBUG (Preguntar Pasajeros) ► Usando mensaje pendiente: Entendido, 2 acompañantes habitualmente. ¿Alguno de ellos es un niño que necesite sillita de seguridad?\n",
      "DEBUG (Preguntar Pasajeros) ► Mensaje final añadido: Entendido, 2 acompañantes habitualmente. ¿Alguno de ellos es un niño que necesite sillita de seguridad?\n",
      "==================================\u001b[1m Ai Message \u001b[0m==================================\n",
      "\n",
      "Entendido, 2 acompañantes habitualmente. ¿Alguno de ellos es un niño que necesite sillita de seguridad?\n"
     ]
    }
   ],
   "source": [
    "# Create a thread\n",
    "config = {\"configurable\": {\"thread_id\": \"2\"}}\n",
    "\n",
    "# Start conversation\n",
    "input_message = HumanMessage(content=\"si, llevo 2 acompañantes\")\n",
    "output = graph.invoke({\"messages\": [input_message]}, config) \n",
    "for m in output['messages'][-1:]:\n",
    "    m.pretty_print()"
   ]
  },
  {
   "cell_type": "code",
   "execution_count": null,
   "metadata": {},
   "outputs": [],
   "source": [
    "print(output['preferencias_usuario'])\n",
    "print('---------------------------------------------------------------------')\n",
    "print(output['filtros_inferidos']) #"
   ]
  },
  {
   "cell_type": "code",
   "execution_count": 11,
   "metadata": {},
   "outputs": [
    {
     "name": "stderr",
     "output_type": "stream",
     "text": [
      "DEBUG:openai._base_client:Request options: {'method': 'post', 'url': '/chat/completions', 'headers': {'X-Stainless-Helper-Method': 'beta.chat.completions.parse'}, 'files': None, 'post_parser': <function Completions.parse.<locals>.parser at 0x1158996c0>, 'json_data': {'messages': [{'content': '<Role>\\nEres un asistente amigable y empático. Tu objetivo ahora es entender con quién suele viajar el usuario en el coche para determinar las necesidades de espacio y configuración. NO preguntes por el perfil del conductor (altura, gustos) ni por economía en esta fase. Tu salida SIEMPRE debe ser un objeto JSON válido que cumpla el esquema `ResultadoPasajeros`.\\n</Role>\\n\\n<Esquema_JSON_Requerido>\\nLa estructura JSON que DEBES generar es la siguiente (`ResultadoPasajeros`):\\n```json\\n{{\\n  \"$defs\": {{\\n    \"InfoPasajeros\": {{\\n      \"properties\": {{\\n        \"frecuencia\": {{\\n          \"anyOf\": [\\n            {{\\n              \"enum\": [\\n                \"nunca\",\\n                \"ocasional\",\\n                \"frecuente\"\\n              ],\\n              \"type\": \"string\"\\n            }},\\n            {{\\n              \"type\": \"null\"\\n            }}\\n          ],\\n          \"default\": null,\\n          \"description\": \"Frecuencia con la que viajan otros pasajeros.\",\\n          \"title\": \"Frecuencia\"\\n        }},\\n        \"num_ninos_silla\": {{\\n          \"anyOf\": [\\n            {{\\n              \"type\": \"integer\"\\n            }},\\n            {{\\n              \"type\": \"null\"\\n            }}\\n          ],\\n          \"default\": null,\\n          \"description\": \"Número de niños que necesitan silla de seguridad (X).\",\\n          \"title\": \"Num Ninos Silla\"\\n        }},\\n        \"num_otros_pasajeros\": {{\\n          \"anyOf\": [\\n            {{\\n              \"type\": \"integer\"\\n            }},\\n            {{\\n              \"type\": \"null\"\\n            }}\\n          ],\\n          \"default\": null,\\n          \"description\": \"Número de adultos u otros pasajeros sin silla (Z).\",\\n          \"title\": \"Num Otros Pasajeros\"\\n        }}\\n      }},\\n      \"title\": \"InfoPasajeros\",\\n      \"type\": \"object\"\\n    }}\\n  }},\\n  \"description\": \"Salida esperada del LLM enfocado en recopilar info de pasajeros.\",\\n  \"properties\": {{\\n    \"info_pasajeros\": {{\\n      \"$ref\": \"#/$defs/InfoPasajeros\",\\n      \"description\": \"Objeto con la información de pasajeros actualizada o inferida.\"\\n    }},\\n    \"tipo_mensaje\": {{\\n      \"enum\": [\\n        \"PREGUNTA\",\\n        \"CONFIRMACION\",\\n        \"ERROR\"\\n      ],\\n      \"title\": \"Tipo Mensaje\",\\n      \"type\": \"string\"\\n    }},\\n    \"contenido_mensaje\": {{\\n      \"title\": \"Contenido Mensaje\",\\n      \"type\": \"string\"\\n    }}\\n  }},\\n  \"required\": [\\n    \"info_pasajeros\",\\n    \"tipo_mensaje\",\\n    \"contenido_mensaje\"\\n  ],\\n  \"title\": \"ResultadoPasajeros\",\\n  \"type\": \"object\"\\n}}\\n</Esquema_JSON_Requerido>\\n\\n<Instrucciones_Detalladas>\\n\\nInicia la Conversación: Comienza con una pregunta abierta y natural sobre los acompañantes habituales. Usa uno de los ejemplos de abajo. Pon tipo_mensaje=\"PREGUNTA\". El objeto info_pasajeros inicial estará vacío o con null.\\nAnaliza la Respuesta: Extrae de la respuesta del usuario:\\n  - frecuencia: Si viaja solo (\"nunca\"), a veces (\"ocasional\") o habitualmente (\"frecuente\").\\n  - num_ninos_silla (X): Cuántos niños necesitan silla de seguridad. **Extrae este valor SOLO si el usuario lo menciona explícitamente.** Si no lo menciona, deja este campo como `null` inicialmente. Asegúrate de que sea un número entero >= 0 si lo extraes.\\n  - num_otros_pasajeros (Z): Cuántos adultos u otros niños/pasajeros (sin silla) suelen ir. Intenta inferir este valor del número total de acompañantes menos los niños con silla (si se conocen). Asegúrate de que sea un número entero >= 0. Si no puedes determinar Z, déjalo `null`.\\n\\nDetermina `tipo_mensaje` y `contenido_mensaje`:\\n- **Si `frecuencia` es `\"nunca\"`:**\\n    - Considera la información completa.\\n    - coloca `tipo_mensaje=\"CONFIRMACION\"`, `num_ninos_silla=0`, `num_otros_pasajeros=0`.\\n    - `contenido_mensaje` vacío `\"\"` o una confirmación breve como \"Entendido, normalmente viajas solo.\"\\n\\n- **Si `frecuencia` es `\"ocasional\"` o `\"frecuente\"`:**\\n    - **Paso 1: Revisa `num_ninos_silla`.** ¿Has podido extraer un valor explícito (incluyendo 0) para `num_ninos_silla` de la respuesta del usuario?\\n        - **Si NO (es decir, `num_ninos_silla` es `null` porque no se mencionó):**\\n            - `tipo_mensaje` DEBE ser `\"PREGUNTA\"`.\\n            - En `contenido_mensaje`, formula UNA PREGUNTA clara y específica sobre si hay niños y si necesitan sillita. Puedes incluir el número de acompañantes si ya lo sabes (Z). Ejemplo: \"Entendido, [Z] acompañantes. Para asegurarme, ¿alguno de ellos es un niño que necesite sillita de seguridad?\" o \"De acuerdo. ¿Alguno de esos acompañantes es un niño que necesite silla?\".\\n            - En el objeto `info_pasajeros` de salida, incluye la `frecuencia` y `num_otros_pasajeros` (si lo sabes), pero mantén `num_ninos_silla` como `null`.\\n        - **Si SÍ (es decir, `num_ninos_silla` tiene un valor explícito X, que puede ser 0):**\\n            - **Paso 2: Revisa `num_otros_pasajeros`.** ¿Has podido extraer o calcular un valor Z para `num_otros_pasajeros`?\\n                - **Si NO (Z es `null`):**\\n                    - `tipo_mensaje` DEBE ser `\"PREGUNTA\"`.\\n                    - En `contenido_mensaje`, formula UNA PREGUNTA clara para obtener Z. Ejemplo: \"Entendido, [X] niño(s) con sillita. ¿Cuántos otros pasajeros (adultos u otros niños sin silla) suelen ir además?\"\\n                    - En el objeto `info_pasajeros` de salida, incluye `frecuencia` y `num_ninos_silla=X`, pero mantén `num_otros_pasajeros` como `null`.\\n                - **Si SÍ (ambos X y Z tienen valores numéricos):**\\n                    - Considera la información completa.\\n                    - `tipo_mensaje` DEBE ser `\"CONFIRMACION\"`.\\n                    - `contenido_mensaje` vacío `\"\"` o una confirmación breve como \"¡Perfecto! Ya sé quiénes suelen viajar contigo.\"\\n                    - En el objeto `info_pasajeros` de salida, incluye `frecuencia`, `num_ninos_silla=X`, y `num_otros_pasajeros=Z`.\\n\\n\\n- **Si Error:** coloca `tipo_mensaje=\"ERROR\"` y una explicación.\\n**Tono:** Amigable, conversacional.\\n</Instrucciones_Detalladas>\\n\\n<Ejemplos_Preguntas>\\n\\nPreguntas Iniciales (elige una):\\n\"Cuéntame, ¿sueles viajar con acompañantes en el coche habitualmente? ¿cuantos?\"\\n\"Para entender mejor el espacio que necesitas, ¿normalmente viajas solo/a o sueles llevar acompañantes? ¿Quizás niños?\"\\nPreguntas de Seguimiento (si la respuesta inicial fue incompleta):\\n\"Mencionas que llevas a tus hijos. ¿Cuántos son y qué edades tienen aproximadamente? ¿Alguno necesita sillita de seguridad?\"\\n\"Entendido, sueles llevar X pasajeros. ¿Son adultos, niños, o una mezcla? ¿Necesitas espacio para sillitas infantiles?\" </Ejemplos_Preguntas>\\n<Ejemplos_Output_JSON>\\nEjemplo 1: Pregunta Inicial\\n\\nContexto: Inicio de esta etapa.\\nSalida JSON Esperada:\\n{{\\n  \"info_pasajeros\": {{\"frecuencia\": null, \"num_ninos_silla\": null, \"num_otros_pasajeros\": null}},\\n  \"tipo_mensaje\": \"PREGUNTA\",\\n  \"contenido_mensaje\": \"Cuéntame, ¿sueles viajar con acompañantes en el coche habitualmente? ¿cuantos?\"\\n}}\\nEjemplo 2: Usuario responde, falta info de sillitas -> PREGUNTA\\n\\nContexto: [..., HumanMessage(content=\\'Suelo llevar a mis 2 hijos y a veces a mi pareja\\')]\\nSalida JSON Esperada:\\n{{\\n  \"info_pasajeros\": {{ \"frecuencia\": \"frecuente\", \"num_ninos_silla\": null, \"num_otros_pasajeros\": 3 }}, // 2 hijos + 1 pareja = 3 otros (asumimos no sillita aún)\\n  \"tipo_mensaje\": \"PREGUNTA\",\\n  \"contenido_mensaje\": \"Entendido, 3 pasajeros habitualmente. ¿Alguno de tus hijos necesita sillita de seguridad?\"\\n}}\\nEjemplo 3: Usuario aclara sillitas, info completa -> CONFIRMACION\\n\\nContexto: [..., HumanMessage(content=\\'Sí, el pequeño de 3 años va en silla\\')]\\nSalida JSON Esperada:\\n{{\\n  \"info_pasajeros\": {{ \"frecuencia\": \"frecuente\", \"num_ninos_silla\": 1, \"num_otros_pasajeros\": 2 }}, // 1 con silla + 1 sin silla + 1 pareja = 1(X) + 2(Z)\\n  \"tipo_mensaje\": \"CONFIRMACION\",\\n  \"contenido_mensaje\": \"¡Perfecto! Ya sé quiénes suelen viajar contigo.\"\\n}}\\nEjemplo 4: Usuario viaja solo -> CONFIRMACION\\n\\nContexto: [..., HumanMessage(content=\\'Normalmente voy solo\\')]\\nSalida JSON Esperada:\\n{{\\n  \"info_pasajeros\": {{ \"frecuencia\": \"nunca\", \"num_ninos_silla\": 0, \"num_otros_pasajeros\": 0 }},\\n  \"tipo_mensaje\": \"CONFIRMACION\",\\n  \"contenido_mensaje\": \"Entendido, normalmente viajas solo.\"\\n}}\\n</Ejemplos_Output_JSON>\\n\\n<Formato_Salida_JSON_Final>\\nGenera únicamente el objeto JSON completo y válido que cumpla el esquema ResultadoPasajeros. NO incluyas nada más antes ni después del JSON.\\n{{\\n  \"info_pasajeros\": {{ ... }},\\n  \"tipo_mensaje\": \"<\\'PREGUNTA\\' o \\'CONFIRMACION\\' o \\'ERROR\\'>\",\\n  \"contenido_mensaje\": \"<string>\"\\n}}', 'role': 'user'}, {'content': 'Quiero un coche mido 1.93. Peso 80 kg', 'role': 'user'}, {'content': '¿Usarás el coche para trabajo o para uso personal y familiar?', 'role': 'assistant'}, {'content': 'para uso personal', 'role': 'user'}, {'content': '¿Valoras especialmente la estética del coche?', 'role': 'assistant'}, {'content': 'si valoro la estetica', 'role': 'user'}, {'content': '¿Quieres solo coches eléctricos?', 'role': 'assistant'}, {'content': 'no a combustion tambien', 'role': 'user'}, {'content': '¿Qué tipo de transmisión prefieres?\\n 1) Automático\\n 2) Manual\\n 3) Ambos', 'role': 'assistant'}, {'content': 'la numero 3', 'role': 'user'}, {'content': 'Hablando de aventura, ¿con cuál de estas afirmaciones te identificas más?\\n 1) No pisas nada que no sea asfalto (ninguna)\\n 2) Salidas fuera de asfalto ocasionales (ocasional)\\n 3) Circular en condiciones duras con total garantía (extrema)', 'role': 'assistant'}, {'content': 'la 2', 'role': 'user'}, {'content': '¿Eres un apasionado del mundo automotriz?', 'role': 'assistant'}, {'content': 'si, lo soy', 'role': 'user'}, {'content': 'Cuéntame, ¿sueles viajar con acompañantes en el coche habitualmente? ¿cuántos?', 'role': 'assistant'}, {'content': 'si, llevo 2 acompañantes', 'role': 'user'}, {'content': 'Entendido, 2 acompañantes habitualmente. ¿Alguno de ellos es un niño que necesite sillita de seguridad?', 'role': 'assistant'}, {'content': 'si uno de ellos es mi hijo', 'role': 'user'}], 'model': 'gpt-4o-mini', 'response_format': {'type': 'json_schema', 'json_schema': {'schema': {'$defs': {'InfoPasajeros': {'properties': {'frecuencia': {'anyOf': [{'enum': ['nunca', 'ocasional', 'frecuente'], 'type': 'string'}, {'type': 'null'}], 'description': 'Frecuencia con la que viajan otros pasajeros.', 'title': 'Frecuencia'}, 'num_ninos_silla': {'anyOf': [{'type': 'integer'}, {'type': 'null'}], 'description': 'Número de niños que necesitan silla de seguridad (X).', 'title': 'Num Ninos Silla'}, 'num_otros_pasajeros': {'anyOf': [{'type': 'integer'}, {'type': 'null'}], 'description': 'Número de adultos u otros pasajeros sin silla (Z).', 'title': 'Num Otros Pasajeros'}}, 'title': 'InfoPasajeros', 'type': 'object', 'additionalProperties': False, 'required': ['frecuencia', 'num_ninos_silla', 'num_otros_pasajeros']}}, 'description': 'Salida esperada del LLM enfocado en recopilar info de pasajeros.', 'properties': {'info_pasajeros': {'description': 'Objeto con la información de pasajeros actualizada o inferida.', 'properties': {'frecuencia': {'anyOf': [{'enum': ['nunca', 'ocasional', 'frecuente'], 'type': 'string'}, {'type': 'null'}], 'description': 'Frecuencia con la que viajan otros pasajeros.', 'title': 'Frecuencia'}, 'num_ninos_silla': {'anyOf': [{'type': 'integer'}, {'type': 'null'}], 'description': 'Número de niños que necesitan silla de seguridad (X).', 'title': 'Num Ninos Silla'}, 'num_otros_pasajeros': {'anyOf': [{'type': 'integer'}, {'type': 'null'}], 'description': 'Número de adultos u otros pasajeros sin silla (Z).', 'title': 'Num Otros Pasajeros'}}, 'title': 'InfoPasajeros', 'type': 'object', 'additionalProperties': False, 'required': ['frecuencia', 'num_ninos_silla', 'num_otros_pasajeros']}, 'tipo_mensaje': {'enum': ['PREGUNTA', 'CONFIRMACION', 'ERROR'], 'title': 'Tipo Mensaje', 'type': 'string'}, 'contenido_mensaje': {'title': 'Contenido Mensaje', 'type': 'string'}}, 'required': ['info_pasajeros', 'tipo_mensaje', 'contenido_mensaje'], 'title': 'ResultadoPasajeros', 'type': 'object', 'additionalProperties': False}, 'name': 'ResultadoPasajeros', 'strict': True}}, 'stream': False, 'temperature': 0.2}}\n",
      "DEBUG:openai._base_client:Sending HTTP Request: POST https://api.openai.com/v1/chat/completions\n",
      "DEBUG:httpcore.connection:close.started\n",
      "DEBUG:httpcore.connection:close.complete\n",
      "DEBUG:httpcore.connection:connect_tcp.started host='api.openai.com' port=443 local_address=None timeout=None socket_options=None\n",
      "DEBUG:httpcore.connection:connect_tcp.complete return_value=<httpcore._backends.sync.SyncStream object at 0x115b8a750>\n",
      "DEBUG:httpcore.connection:start_tls.started ssl_context=<ssl.SSLContext object at 0x1072c4e60> server_hostname='api.openai.com' timeout=None\n",
      "DEBUG:httpcore.connection:start_tls.complete return_value=<httpcore._backends.sync.SyncStream object at 0x11595c790>\n",
      "DEBUG:httpcore.http11:send_request_headers.started request=<Request [b'POST']>\n",
      "DEBUG:httpcore.http11:send_request_headers.complete\n",
      "DEBUG:httpcore.http11:send_request_body.started request=<Request [b'POST']>\n",
      "DEBUG:httpcore.http11:send_request_body.complete\n",
      "DEBUG:httpcore.http11:receive_response_headers.started request=<Request [b'POST']>\n"
     ]
    },
    {
     "name": "stdout",
     "output_type": "stream",
     "text": [
      "--- Ejecutando Nodo: route_based_on_state_node ---\n",
      "\n",
      "--- DEBUG: Evaluating Routing Decision ---\n",
      "--- DEBUG CHECK PERFIL ---\n",
      "Input prefs object: altura_mayor_190='sí' peso_mayor_100='no' uso_profesional='no' valora_estetica='sí' solo_electricos='no' transmision_preferida=<Transmision.AMBOS: 'ambos'> apasionado_motor='sí' aventura=<NivelAventura.ocasional: 'ocasional'>\n",
      "Input prefs type: <class 'graph.perfil.state.PerfilUsuario'>\n",
      "Checking field 'altura_mayor_190': value='sí', type=<class 'str'>\n",
      "Checking field 'peso_mayor_100': value='no', type=<class 'str'>\n",
      "Checking field 'uso_profesional': value='no', type=<class 'str'>\n",
      "Checking field 'valora_estetica': value='sí', type=<class 'str'>\n",
      "Checking field 'solo_electricos': value='no', type=<class 'str'>\n",
      "Checking field 'transmision_preferida': value='Transmision.AMBOS', type=<enum 'Transmision'>\n",
      "Checking field 'apasionado_motor': value='sí', type=<class 'str'>\n",
      "Checking field 'aventura': value='NivelAventura.ocasional', type=<enum 'NivelAventura'>\n",
      "DEBUG (Validation Perfil) ► Todos los campos obligatorios del perfil están presentes.\n",
      "DEBUG Router: Prefs OK? True\n",
      "--- DEBUG CHECK PASAJEROS ---\n",
      "Input info pasajeros: frecuencia='frecuente' num_ninos_silla=None num_otros_pasajeros=2\n",
      "DEBUG (Validation Pasajeros) ► Frecuencia='frecuente'. Faltan datos: num_ninos_silla. Considerado INCOMPLETO.\n",
      "DEBUG Router: Pasajeros OK? False\n",
      "DEBUG (Validation Filtros) ► Objeto FiltrosInferidos es None.\n",
      "DEBUG Router: Filtros OK? False\n",
      "--- DEBUG CHECK ECONOMIA (Manual) ---\n",
      "Input econ object: None\n",
      "DEBUG (Validation Economía Manual) ► Objeto EconomiaUsuario es None.\n",
      "DEBUG Router: Economía OK? False\n",
      "DEBUG Router: Pesos Calculados? False\n",
      "DEBUG Router: Coches Buscados? False\n",
      "--- DEBUG CHECK PERFIL ---\n",
      "Input prefs object: altura_mayor_190='sí' peso_mayor_100='no' uso_profesional='no' valora_estetica='sí' solo_electricos='no' transmision_preferida=<Transmision.AMBOS: 'ambos'> apasionado_motor='sí' aventura=<NivelAventura.ocasional: 'ocasional'>\n",
      "Input prefs type: <class 'graph.perfil.state.PerfilUsuario'>\n",
      "Checking field 'altura_mayor_190': value='sí', type=<class 'str'>\n",
      "Checking field 'peso_mayor_100': value='no', type=<class 'str'>\n",
      "Checking field 'uso_profesional': value='no', type=<class 'str'>\n",
      "Checking field 'valora_estetica': value='sí', type=<class 'str'>\n",
      "Checking field 'solo_electricos': value='no', type=<class 'str'>\n",
      "Checking field 'transmision_preferida': value='Transmision.AMBOS', type=<enum 'Transmision'>\n",
      "Checking field 'apasionado_motor': value='sí', type=<class 'str'>\n",
      "Checking field 'aventura': value='NivelAventura.ocasional', type=<enum 'NivelAventura'>\n",
      "DEBUG (Validation Perfil) ► Todos los campos obligatorios del perfil están presentes.\n",
      "--- DEBUG CHECK PASAJEROS ---\n",
      "Input info pasajeros: frecuencia='frecuente' num_ninos_silla=None num_otros_pasajeros=2\n",
      "DEBUG (Validation Pasajeros) ► Frecuencia='frecuente'. Faltan datos: num_ninos_silla. Considerado INCOMPLETO.\n",
      "DEBUG Router: Decisión -> recopilar_info_pasajeros\n",
      "--- Ejecutando Nodo: recopilar_info_pasajeros_node ---\n",
      "DEBUG (Pasajeros) ► Último mensaje es HumanMessage o inicio de etapa, llamando a llm_pasajeros...\n"
     ]
    },
    {
     "name": "stderr",
     "output_type": "stream",
     "text": [
      "DEBUG:httpcore.http11:receive_response_headers.complete return_value=(b'HTTP/1.1', 200, b'OK', [(b'Date', b'Tue, 06 May 2025 17:25:47 GMT'), (b'Content-Type', b'application/json'), (b'Transfer-Encoding', b'chunked'), (b'Connection', b'keep-alive'), (b'access-control-expose-headers', b'X-Request-ID'), (b'openai-organization', b'user-ic25pcewdjuowsz9q2ektvrn'), (b'openai-processing-ms', b'1480'), (b'openai-version', b'2020-10-01'), (b'x-ratelimit-limit-requests', b'10000'), (b'x-ratelimit-limit-tokens', b'200000'), (b'x-ratelimit-remaining-requests', b'9999'), (b'x-ratelimit-remaining-tokens', b'197641'), (b'x-ratelimit-reset-requests', b'8.64s'), (b'x-ratelimit-reset-tokens', b'707ms'), (b'x-request-id', b'req_b732fef8af264c6a67038ba403811504'), (b'strict-transport-security', b'max-age=31536000; includeSubDomains; preload'), (b'cf-cache-status', b'DYNAMIC'), (b'X-Content-Type-Options', b'nosniff'), (b'Server', b'cloudflare'), (b'CF-RAY', b'93ba2dc45ac0e22e-MRS'), (b'Content-Encoding', b'gzip'), (b'alt-svc', b'h3=\":443\"; ma=86400')])\n",
      "INFO:httpx:HTTP Request: POST https://api.openai.com/v1/chat/completions \"HTTP/1.1 200 OK\"\n",
      "DEBUG:httpcore.http11:receive_response_body.started request=<Request [b'POST']>\n",
      "DEBUG:httpcore.http11:receive_response_body.complete\n",
      "DEBUG:httpcore.http11:response_closed.started\n",
      "DEBUG:httpcore.http11:response_closed.complete\n",
      "DEBUG:openai._base_client:HTTP Response: POST https://api.openai.com/v1/chat/completions \"200 OK\" Headers({'date': 'Tue, 06 May 2025 17:25:47 GMT', 'content-type': 'application/json', 'transfer-encoding': 'chunked', 'connection': 'keep-alive', 'access-control-expose-headers': 'X-Request-ID', 'openai-organization': 'user-ic25pcewdjuowsz9q2ektvrn', 'openai-processing-ms': '1480', 'openai-version': '2020-10-01', 'x-ratelimit-limit-requests': '10000', 'x-ratelimit-limit-tokens': '200000', 'x-ratelimit-remaining-requests': '9999', 'x-ratelimit-remaining-tokens': '197641', 'x-ratelimit-reset-requests': '8.64s', 'x-ratelimit-reset-tokens': '707ms', 'x-request-id': 'req_b732fef8af264c6a67038ba403811504', 'strict-transport-security': 'max-age=31536000; includeSubDomains; preload', 'cf-cache-status': 'DYNAMIC', 'x-content-type-options': 'nosniff', 'server': 'cloudflare', 'cf-ray': '93ba2dc45ac0e22e-MRS', 'content-encoding': 'gzip', 'alt-svc': 'h3=\":443\"; ma=86400'})\n",
      "DEBUG:openai._base_client:request_id: req_b732fef8af264c6a67038ba403811504\n",
      "DEBUG:openai._base_client:Request options: {'method': 'post', 'url': '/chat/completions', 'headers': {'X-Stainless-Helper-Method': 'beta.chat.completions.parse'}, 'files': None, 'post_parser': <function Completions.parse.<locals>.parser at 0x115899a80>, 'json_data': {'messages': [{'content': '<Role>\\nEres un asistente técnico experto en vehículos. Tu función es traducir las preferencias generales de un usuario en filtros técnicos específicos para la búsqueda de coches. Debes basarte estrictamente en las preferencias proporcionadas y generar una respuesta JSON que SIEMPRE se ajuste al esquema `ResultadoSoloFiltros`.\\n</Role>\\n\\n<Contexto_Preferencias_Usuario>\\n\\n<Esquema_JSON_Requerido>\\nA continuación se detallan las preferencias del usuario recopiladas previamente. Úsalas como base INDISPENSABLE para tu inferencia:\\n{\\n  \"$defs\": {\\n    \"FiltrosInferidos\": {\\n      \"properties\": {\\n        \"estetica_min\": {\\n          \"anyOf\": [\\n            {\\n              \"type\": \"number\"\\n            },\\n            {\\n              \"type\": \"null\"\\n            }\\n          ],\\n          \"default\": null,\\n          \"description\": \"Mínimo valor de estética recomendado (0.0 a 10.0)\",\\n          \"title\": \"Estetica Min\"\\n        },\\n        \"tipo_mecanica\": {\\n          \"anyOf\": [\\n            {\\n              \"items\": {\\n                \"$ref\": \"#/$defs/TipoMecanica\"\\n              },\\n              \"type\": \"array\"\\n            },\\n            {\\n              \"type\": \"null\"\\n            }\\n          ],\\n          \"default\": null,\\n          \"description\": \"Lista de motorizaciones recomendadas\",\\n          \"title\": \"Tipo Mecanica\"\\n        },\\n        \"premium_min\": {\\n          \"anyOf\": [\\n            {\\n              \"type\": \"number\"\\n            },\\n            {\\n              \"type\": \"null\"\\n            }\\n          ],\\n          \"default\": null,\\n          \"description\": \"Mínimo valor de premium recomendado (0.0 a 10.0)\",\\n          \"title\": \"Premium Min\"\\n        },\\n        \"singular_min\": {\\n          \"anyOf\": [\\n            {\\n              \"type\": \"number\"\\n            },\\n            {\\n              \"type\": \"null\"\\n            }\\n          ],\\n          \"default\": null,\\n          \"description\": \"Mínimo valor de singularidad recomendado (0.0 a 10.0)\",\\n          \"title\": \"Singular Min\"\\n        },\\n        \"tipo_carroceria\": {\\n          \"anyOf\": [\\n            {\\n              \"items\": {\\n                \"type\": \"string\"\\n              },\\n              \"type\": \"array\"\\n            },\\n            {\\n              \"type\": \"null\"\\n            }\\n          ],\\n          \"default\": null,\\n          \"description\": \"Deja el campo tipo_carroceria como null. Este campo se determinará en un paso posterior del proceso.\",\\n          \"title\": \"Tipo Carroceria\"\\n        },\\n        \"modo_adquisicion_recomendado\": {\\n          \"anyOf\": [\\n            {\\n              \"enum\": [\\n                \"Contado\",\\n                \"Financiado\"\\n              ],\\n              \"type\": \"string\"\\n            },\\n            {\\n              \"type\": \"null\"\\n            }\\n          ],\\n          \"default\": null,\\n          \"description\": \"Modo de compra recomendado (Contado/Financiado) basado en análisis Modo 1.\",\\n          \"title\": \"Modo Adquisicion Recomendado\"\\n        },\\n        \"precio_max_contado_recomendado\": {\\n          \"anyOf\": [\\n            {\\n              \"type\": \"number\"\\n            },\\n            {\\n              \"type\": \"null\"\\n            }\\n          ],\\n          \"default\": null,\\n          \"description\": \"Precio máximo recomendado si se aconseja comprar al contado (Modo 1).\",\\n          \"title\": \"Precio Max Contado Recomendado\"\\n        },\\n        \"cuota_max_calculada\": {\\n          \"anyOf\": [\\n            {\\n              \"type\": \"number\"\\n            },\\n            {\\n              \"type\": \"null\"\\n            }\\n          ],\\n          \"default\": null,\\n          \"description\": \"Cuota mensual máxima calculada si se aconseja financiar (Modo 1).\",\\n          \"title\": \"Cuota Max Calculada\"\\n        },\\n        \"plazas_min\": {\\n          \"anyOf\": [\\n            {\\n              \"type\": \"integer\"\\n            },\\n            {\\n              \"type\": \"null\"\\n            }\\n          ],\\n          \"default\": null,\\n          \"description\": \"Número mínimo de plazas recomendadas (conductor + pasajeros).\",\\n          \"title\": \"Plazas Min\"\\n        }\\n      },\\n      \"title\": \"FiltrosInferidos\",\\n      \"type\": \"object\"\\n    },\\n    \"TipoMecanica\": {\\n      \"enum\": [\\n        \"GASOLINA\",\\n        \"DIESEL\",\\n        \"BEV\",\\n        \"FCEV\",\\n        \"GLP\",\\n        \"GNV\",\\n        \"HEVD\",\\n        \"HEVG\",\\n        \"MHEVD\",\\n        \"MHEVG\",\\n        \"PHEVD\",\\n        \"PHEVG\",\\n        \"REEV\"\\n      ],\\n      \"title\": \"TipoMecanica\",\\n      \"type\": \"string\"\\n    }\\n  },\\n  \"description\": \"Salida esperada del LLM enfocado solo en inferir filtros técnicos.\",\\n  \"properties\": {\\n    \"filtros_inferidos\": {\\n      \"$ref\": \"#/$defs/FiltrosInferidos\"\\n    },\\n    \"mensaje_validacion\": {\\n      \"description\": \"Pregunta de seguimiento CLARA y CORTA si falta información ESENCIAL para completar los FiltrosInferidos (ej: tipo_mecanica), o un mensaje de confirmación si los filtros están completos.\",\\n      \"title\": \"Mensaje Validacion\",\\n      \"type\": \"string\"\\n    }\\n  },\\n  \"required\": [\\n    \"filtros_inferidos\",\\n    \"mensaje_validacion\"\\n  ],\\n  \"title\": \"ResultadoSoloFiltros\",\\n  \"type\": \"object\"\\n}\\n</Esquema_JSON_Requerido>\\n\\n</Contexto_Preferencias_Usuario>\\n\\n<Instrucciones_Detalladas_Inferencia>\\n\\nAnaliza las <Contexto_Preferencias_Usuario> proporcionadas.\\nInfiere los valores para los campos dentro de filtros_inferidos en el JSON de salida, siguiendo estas directrices:\\n\\n\\n- estetica_min: - Si `preferencias_contexto` indica `valora_estetica: \\'sí\\'`, asigna `6.0`.\\n                - Si es `\\'no\\'` o `null`, asigna `1.0`.\\n**`tipo_mecanica`**: ¡CAMPO CRÍTICO! Este campo DEBE contener una lista de strings con al menos un valor si es posible inferirlo de las preferencias.\\n  - Si `preferencias_contexto` indica `solo_electricos: \\'sí\\'`, la lista DEBE ser `[\"BEV\", \"REEV\"]`.\\n  - Si `solo_electricos: \\'no\\'`, proporciona una lista sensata basada en otras preferencias. Por ejemplo, para un uso principalmente urbano, podrías incluir `[\"BEV\", \"GASOLINA\", \"HEVG\", \"PHEVG\"]`. Evita `DIESEL` para uso predominantemente urbano a menos que otra preferencia lo sugiera fuertemente.\\n  - Si `solo_electricos` es `null` o no se proporciona información clara para determinar el tipo de mecánica, DEBES dejar `tipo_mecanica` como `null` y usar `mensaje_validacion` para preguntar al respecto.\\n  - Los únicos valores válidos para esta lista son los definidos en el enum `TipoMecanica` del esquema JSON.\\n\\n- **`premium_min` y `singular_min`**:\\n  - Si `preferencias_contexto` indica `apasionado_motor: \\'sí\\'`, asigna `6.0` a `premium_min` y `6.0` a `singular_min`.\\n  - Si es `\\'no\\'` o `null`, asigna `1.0` a `premium_min` y `1.0` a `singular_min`.\\n\\n- **Campos que NO debes inferir (DEJAR COMO `null` o no modificar si ya existen):**\\n  - **`tipo_carroceria`**: Deja este campo como `null`. Se determinará en un paso posterior.\\n  - **`modo_adquisicion_recomendado`**: Deja este campo como `null`.\\n  - **`precio_max_contado_recomendado`**: Deja este campo como `null`.\\n  - **`cuota_max_calculada`**: Deja este campo como `null`.\\n  - **`plazas_min`**: No modifiques ni infieras este campo. Se establece en una etapa previa.\\n\\n- **Campo `mensaje_validacion`**:\\n  - **SIEMPRE** que dejes `tipo_mecanica` como `null` porque no pudiste inferirlo con la información disponible, DEBES generar una pregunta clara y corta en `mensaje_validacion` para obtener esta preferencia. Ejemplo: \"No estoy seguro de qué tipo de motorización prefieres (gasolina, híbrido, eléctrico...). ¿Podrías indicármelo?\".\\n  - Si has podido inferir una lista válida para `tipo_mecanica` (y los demás campos que son tu responsabilidad han sido inferidos o dejados `null` según estas instrucciones), puedes dejar `mensaje_validacion` como una cadena vacía `\"\"` o un mensaje corto de confirmación como \"Ok, he definido los filtros técnicos basados en tus preferencias.\".\\n\\n**Precisión**: No inventes valores. Si una preferencia no da información suficiente para un filtro que es tu responsabilidad, y no se te indica preguntar por él (excepto `tipo_mecanica`), déjalo como `null`.\\n</Instrucciones_Detalladas_Inferencia>\\n\\n<Ejemplos>\\n\\n**Ejemplo 1:**\\n\\n* **Preferencias de Entrada (Contexto):**\\n    ```json\\n    {\\n      \"altura_mayor_190\": \"no\",\\n      \"peso_mayor_100\": \"no\",\\n      \"uso_profesional\": \"no\",\\n      \"valora_estetica\": \"sí\",\\n      \"solo_electricos\": \"no\",\\n      \"transmision_preferida\": \"automatico\",\\n      \"apasionado_motor\": \"no\",\\n      \"aventura\": \"ninguna\"\\n    }\\n    ```\\n* **Salida JSON Esperada:**\\n    ```json\\n    {\\n      \"filtros_inferidos\": {\\n        \"estetica_min\": 6.0,\\n        \"tipo_mecanica\": [\"BEV\", \"GASOLINA\", \"PHEVD\", \"PHEVG\"],\\n        \"premium_min\": 1.0,\\n        \"singular_min\": 1.0,\\n        \"tipo_carroceria\": null,\\n        \"modo_adquisicion_recomendado\": null,\\n        \"precio_max_contado_recomendado\": null,\\n        \"cuota_max_calculada\": null,\\n        \"plazas_min\": null \\n      },\\n      \"mensaje_validacion\": \"Ok, he definido los filtros técnicos basados en tus preferencias.\"\\n    }\\n    ```\\n\\n**Ejemplo 2:**\\n\\n* **Preferencias de Entrada (Contexto):**\\n    ```json\\n    {\\n      \"altura_mayor_190\": \"sí\",\\n      \"peso_mayor_100\": \"no\",\\n      \"uso_profesional\": \"sí\",\\n      \"valora_estetica\": \"no\",\\n      \"solo_electricos\": \"sí\",\\n      \"transmision_preferida\": \"automatico\",\\n      \"apasionado_motor\": \"sí\",\\n      \"aventura\": \"ocasional\"\\n    }\\n    ```\\n* **Salida JSON Esperada:**\\n    ```json\\n    {\\n      \"filtros_inferidos\": {\\n        \"estetica_min\": 1.0,\\n        \"tipo_mecanica\": [\"BEV\", \"REEV\"],\\n        \"premium_min\": 6.0,\\n        \"singular_min\": 6.0,\\n        \"modo_adquisicion_recomendado\": null,\\n        \"precio_max_contado_recomendado\": null,\\n        \"cuota_max_calculada\": null,\\n        \"plazas_min\": null \\n      },\\n      \"mensaje_validacion\": \"\" \\n    }\\n    ```\\n    \\n**(Opcional) Ejemplo 3: Falta información crítica**\\n\\n* **Preferencias de Entrada (Contexto):**\\n    ```json\\n    {\\n      \"altura_mayor_190\": \"no\",\\n      \"peso_mayor_100\": \"no\",\\n      \"uso_profesional\": \"no\",\\n      \"valora_estetica\": \"sí\",\\n      \"solo_electricos\": null, //\\n      \"transmision_preferida\": \"manual\",\\n      \"apasionado_motor\": \"no\",\\n      \"aventura\": \"ninguna\"\\n    }\\n    ```\\n* **Salida JSON Esperada:**\\n    ```json\\n    {\\n      \"filtros_inferidos\": {\\n        \"estetica_min\": 6.0,\\n        \"tipo_mecanica\": null, \\n        \"premium_min\": 1.0,\\n        \"singular_min\": 1.0,\\n        \"modo_adquisicion_recomendado\": null,\\n        \"precio_max_contado_recomendado\": null,\\n        \"cuota_max_calculada\": null,\\n        \"plazas_min\": null \\n      },\\n      \"mensaje_validacion\": \"Necesitaría saber si tienes preferencia por algún tipo de motorización (eléctrico, gasolina, diesel...) para continuar.\" \\n    }\\n    ```\\n\\n</Ejemplos>\\n\\n\\n\\n', 'role': 'user'}, {'content': 'Quiero un coche mido 1.93. Peso 80 kg', 'role': 'user'}, {'content': '¿Usarás el coche para trabajo o para uso personal y familiar?', 'role': 'assistant'}, {'content': 'para uso personal', 'role': 'user'}, {'content': '¿Valoras especialmente la estética del coche?', 'role': 'assistant'}, {'content': 'si valoro la estetica', 'role': 'user'}, {'content': '¿Quieres solo coches eléctricos?', 'role': 'assistant'}, {'content': 'no a combustion tambien', 'role': 'user'}, {'content': '¿Qué tipo de transmisión prefieres?\\n 1) Automático\\n 2) Manual\\n 3) Ambos', 'role': 'assistant'}, {'content': 'la numero 3', 'role': 'user'}, {'content': 'Hablando de aventura, ¿con cuál de estas afirmaciones te identificas más?\\n 1) No pisas nada que no sea asfalto (ninguna)\\n 2) Salidas fuera de asfalto ocasionales (ocasional)\\n 3) Circular en condiciones duras con total garantía (extrema)', 'role': 'assistant'}, {'content': 'la 2', 'role': 'user'}, {'content': '¿Eres un apasionado del mundo automotriz?', 'role': 'assistant'}, {'content': 'si, lo soy', 'role': 'user'}, {'content': 'Cuéntame, ¿sueles viajar con acompañantes en el coche habitualmente? ¿cuántos?', 'role': 'assistant'}, {'content': 'si, llevo 2 acompañantes', 'role': 'user'}, {'content': 'Entendido, 2 acompañantes habitualmente. ¿Alguno de ellos es un niño que necesite sillita de seguridad?', 'role': 'assistant'}, {'content': 'si uno de ellos es mi hijo', 'role': 'user'}], 'model': 'gpt-4o-mini', 'response_format': {'type': 'json_schema', 'json_schema': {'schema': {'$defs': {'FiltrosInferidos': {'properties': {'estetica_min': {'anyOf': [{'type': 'number'}, {'type': 'null'}], 'description': 'Mínimo valor de estética recomendado (0.0 a 10.0)', 'title': 'Estetica Min'}, 'tipo_mecanica': {'anyOf': [{'items': {'$ref': '#/$defs/TipoMecanica'}, 'type': 'array'}, {'type': 'null'}], 'description': 'Lista de motorizaciones recomendadas', 'title': 'Tipo Mecanica'}, 'premium_min': {'anyOf': [{'type': 'number'}, {'type': 'null'}], 'description': 'Mínimo valor de premium recomendado (0.0 a 10.0)', 'title': 'Premium Min'}, 'singular_min': {'anyOf': [{'type': 'number'}, {'type': 'null'}], 'description': 'Mínimo valor de singularidad recomendado (0.0 a 10.0)', 'title': 'Singular Min'}, 'tipo_carroceria': {'anyOf': [{'items': {'type': 'string'}, 'type': 'array'}, {'type': 'null'}], 'description': \"Lista de tipos de carrocería recomendados por RAG (ej: ['SUV', 'COUPE'])\", 'title': 'Tipo Carroceria'}, 'modo_adquisicion_recomendado': {'anyOf': [{'enum': ['Contado', 'Financiado'], 'type': 'string'}, {'type': 'null'}], 'description': 'Modo de compra recomendado (Contado/Financiado) basado en análisis Modo 1.', 'title': 'Modo Adquisicion Recomendado'}, 'precio_max_contado_recomendado': {'anyOf': [{'type': 'number'}, {'type': 'null'}], 'description': 'Precio máximo recomendado si se aconseja comprar al contado (Modo 1).', 'title': 'Precio Max Contado Recomendado'}, 'cuota_max_calculada': {'anyOf': [{'type': 'number'}, {'type': 'null'}], 'description': 'Cuota mensual máxima calculada si se aconseja financiar (Modo 1).', 'title': 'Cuota Max Calculada'}, 'plazas_min': {'anyOf': [{'type': 'integer'}, {'type': 'null'}], 'description': 'Número mínimo de plazas recomendadas (conductor + pasajeros).', 'title': 'Plazas Min'}}, 'title': 'FiltrosInferidos', 'type': 'object', 'additionalProperties': False, 'required': ['estetica_min', 'tipo_mecanica', 'premium_min', 'singular_min', 'tipo_carroceria', 'modo_adquisicion_recomendado', 'precio_max_contado_recomendado', 'cuota_max_calculada', 'plazas_min']}, 'TipoMecanica': {'enum': ['GASOLINA', 'DIESEL', 'BEV', 'FCEV', 'GLP', 'GNV', 'HEVD', 'HEVG', 'MHEVD', 'MHEVG', 'PHEVD', 'PHEVG', 'REEV'], 'title': 'TipoMecanica', 'type': 'string'}}, 'description': 'Salida esperada del LLM enfocado solo en inferir filtros técnicos.', 'properties': {'filtros_inferidos': {'$ref': '#/$defs/FiltrosInferidos'}, 'mensaje_validacion': {'description': 'Pregunta de seguimiento CLARA y CORTA si falta información ESENCIAL para completar los FiltrosInferidos (ej: tipo_mecanica), o un mensaje de confirmación si los filtros están completos.', 'title': 'Mensaje Validacion', 'type': 'string'}}, 'required': ['filtros_inferidos', 'mensaje_validacion'], 'title': 'ResultadoSoloFiltros', 'type': 'object', 'additionalProperties': False}, 'name': 'ResultadoSoloFiltros', 'strict': True}}, 'stream': False, 'temperature': 0.2}}\n",
      "DEBUG:openai._base_client:Sending HTTP Request: POST https://api.openai.com/v1/chat/completions\n",
      "DEBUG:httpcore.http11:send_request_headers.started request=<Request [b'POST']>\n",
      "DEBUG:httpcore.http11:send_request_headers.complete\n",
      "DEBUG:httpcore.http11:send_request_body.started request=<Request [b'POST']>\n",
      "DEBUG:httpcore.http11:send_request_body.complete\n",
      "DEBUG:httpcore.http11:receive_response_headers.started request=<Request [b'POST']>\n"
     ]
    },
    {
     "name": "stdout",
     "output_type": "stream",
     "text": [
      "DEBUG (Pasajeros) ► Respuesta llm_pasajeros: info_pasajeros=InfoPasajeros(frecuencia='frecuente', num_ninos_silla=1, num_otros_pasajeros=1) tipo_mensaje='CONFIRMACION' contenido_mensaje='¡Perfecto! Ya sé quiénes suelen viajar contigo.'\n",
      "DEBUG (Pasajeros) ► Tipo='CONFIRMACION', Contenido='¡Perfecto! Ya sé quiénes suelen viajar contigo.'\n",
      "DEBUG (Pasajeros) ► Info Pasajeros LLM: frecuencia='frecuente' num_ninos_silla=1 num_otros_pasajeros=1\n",
      "DEBUG (Pasajeros) ► Estado info_pasajeros actualizado: frecuencia='frecuente' num_ninos_silla=1 num_otros_pasajeros=1\n",
      "DEBUG (Pasajeros) ► Guardando mensaje pendiente: ¡Perfecto! Ya sé quiénes suelen viajar contigo.\n",
      "--- Ejecutando Nodo: validar_info_pasajeros_node ---\n",
      "--- DEBUG CHECK PASAJEROS ---\n",
      "Input info pasajeros: frecuencia='frecuente' num_ninos_silla=1 num_otros_pasajeros=1\n",
      "DEBUG (Validation Pasajeros) ► Frecuencia='frecuente'. Niños silla y otros pasajeros tienen valor. Considerado COMPLETO.\n",
      "DEBUG (Pasajeros) ► Validación: Info Pasajeros considerada COMPLETA.\n",
      "--- Evaluando Condición: ruta_decision_pasajeros ---\n",
      "--- DEBUG CHECK PASAJEROS ---\n",
      "Input info pasajeros: frecuencia='frecuente' num_ninos_silla=1 num_otros_pasajeros=1\n",
      "DEBUG (Validation Pasajeros) ► Frecuencia='frecuente'. Niños silla y otros pasajeros tienen valor. Considerado COMPLETO.\n",
      "DEBUG (Condición Pasajeros) ► COMPLETO. Aplicando filtros derivados.\n",
      "--- Ejecutando Nodo: aplicar_filtros_pasajeros_node ---\n",
      "DEBUG (Aplicar Filtros Pasajeros) ► Info recibida: freq='frecuente', X=1, Z=1\n",
      "DEBUG (Aplicar Filtros Pasajeros) ► Calculado plazas_min = 3\n",
      "DEBUG (Aplicar Filtros Pasajeros) ► Indicador penalizar_puertas_bajas = True\n",
      "DEBUG (Aplicar Filtros Pasajeros) ► Filtros actualizados: estetica_min=None tipo_mecanica=None premium_min=None singular_min=None tipo_carroceria=None modo_adquisicion_recomendado=None precio_max_contado_recomendado=None cuota_max_calculada=None plazas_min=3\n",
      "--- Ejecutando Nodo: inferir_filtros_node ---\n",
      "DEBUG (Filtros) ► Preferencias de usuario disponibles. Procediendo...\n",
      "DEBUG (Filtros) ► Prompt para llm_solo_filtros (parcial): <Role>\n",
      "Eres un asistente técnico experto en vehículos. Tu función es traducir las preferencias generales de un usuario en filtros técnicos específicos para la búsqueda de coches. Debes basarte estrictamente en las preferencias proporcionadas y generar una respuesta JSON que SIEMPRE se ajuste al esquema `ResultadoSoloFiltros`.\n",
      "</Role>\n",
      "\n",
      "<Contexto_Preferencias_Usuario>\n",
      "\n",
      "<Esquema_JSON_Requerido>\n",
      "A continuación se detallan las preferencias del usuario recopiladas previamente. Úsalas como base INDISPE...\n"
     ]
    },
    {
     "name": "stderr",
     "output_type": "stream",
     "text": [
      "DEBUG:httpcore.http11:receive_response_headers.complete return_value=(b'HTTP/1.1', 200, b'OK', [(b'Date', b'Tue, 06 May 2025 17:25:50 GMT'), (b'Content-Type', b'application/json'), (b'Transfer-Encoding', b'chunked'), (b'Connection', b'keep-alive'), (b'access-control-expose-headers', b'X-Request-ID'), (b'openai-organization', b'user-ic25pcewdjuowsz9q2ektvrn'), (b'openai-processing-ms', b'2294'), (b'openai-version', b'2020-10-01'), (b'x-ratelimit-limit-requests', b'10000'), (b'x-ratelimit-limit-tokens', b'200000'), (b'x-ratelimit-remaining-requests', b'9998'), (b'x-ratelimit-remaining-tokens', b'197107'), (b'x-ratelimit-reset-requests', b'15.517s'), (b'x-ratelimit-reset-tokens', b'867ms'), (b'x-request-id', b'req_5b9f5a02c1f97b1ac64107ab09f1b387'), (b'strict-transport-security', b'max-age=31536000; includeSubDomains; preload'), (b'cf-cache-status', b'DYNAMIC'), (b'X-Content-Type-Options', b'nosniff'), (b'Server', b'cloudflare'), (b'CF-RAY', b'93ba2dcf5bffe22e-MRS'), (b'Content-Encoding', b'gzip'), (b'alt-svc', b'h3=\":443\"; ma=86400')])\n",
      "INFO:httpx:HTTP Request: POST https://api.openai.com/v1/chat/completions \"HTTP/1.1 200 OK\"\n",
      "DEBUG:httpcore.http11:receive_response_body.started request=<Request [b'POST']>\n",
      "DEBUG:httpcore.http11:receive_response_body.complete\n",
      "DEBUG:httpcore.http11:response_closed.started\n",
      "DEBUG:httpcore.http11:response_closed.complete\n",
      "DEBUG:openai._base_client:HTTP Response: POST https://api.openai.com/v1/chat/completions \"200 OK\" Headers({'date': 'Tue, 06 May 2025 17:25:50 GMT', 'content-type': 'application/json', 'transfer-encoding': 'chunked', 'connection': 'keep-alive', 'access-control-expose-headers': 'X-Request-ID', 'openai-organization': 'user-ic25pcewdjuowsz9q2ektvrn', 'openai-processing-ms': '2294', 'openai-version': '2020-10-01', 'x-ratelimit-limit-requests': '10000', 'x-ratelimit-limit-tokens': '200000', 'x-ratelimit-remaining-requests': '9998', 'x-ratelimit-remaining-tokens': '197107', 'x-ratelimit-reset-requests': '15.517s', 'x-ratelimit-reset-tokens': '867ms', 'x-request-id': 'req_5b9f5a02c1f97b1ac64107ab09f1b387', 'strict-transport-security': 'max-age=31536000; includeSubDomains; preload', 'cf-cache-status': 'DYNAMIC', 'x-content-type-options': 'nosniff', 'server': 'cloudflare', 'cf-ray': '93ba2dcf5bffe22e-MRS', 'content-encoding': 'gzip', 'alt-svc': 'h3=\":443\"; ma=86400'})\n",
      "DEBUG:openai._base_client:request_id: req_5b9f5a02c1f97b1ac64107ab09f1b387\n",
      "DEBUG:openai._base_client:Request options: {'method': 'post', 'url': '/chat/completions', 'headers': {'X-Stainless-Helper-Method': 'beta.chat.completions.parse'}, 'files': None, 'post_parser': <function Completions.parse.<locals>.parser at 0x11589a200>, 'json_data': {'messages': [{'content': '<Role>\\nEres un asistente experto en finanzas automotrices. Tu objetivo es recopilar información económica del usuario para ayudarle a definir su presupuesto(modo 1: con criterios de inteligencia financiera), o bien definir un presupuesto basado en sus indicaciones(modo2: indica el mismo cuánto y cómo gastar). Debes generar una respuesta JSON que SIEMPRE se ajuste al siguiente esquema Pydantic:\\n``json\\n{{\\n  \"$defs\": {{\\n    \"EconomiaUsuario\": {{\\n      \"properties\": {{\\n        \"modo\": {{\\n          \"anyOf\": [\\n            {{\\n              \"enum\": [\\n                1,\\n                2\\n              ],\\n              \"type\": \"integer\"\\n            }},\\n            {{\\n              \"type\": \"null\"\\n            }}\\n          ],\\n          \"default\": null,\\n          \"title\": \"Modo\"\\n        }},\\n        \"submodo\": {{\\n          \"anyOf\": [\\n            {{\\n              \"enum\": [\\n                1,\\n                2\\n              ],\\n              \"type\": \"integer\"\\n            }},\\n            {{\\n              \"type\": \"null\"\\n            }}\\n          ],\\n          \"default\": null,\\n          \"title\": \"Submodo\"\\n        }},\\n        \"ingresos\": {{\\n          \"anyOf\": [\\n            {{\\n              \"type\": \"number\"\\n            }},\\n            {{\\n              \"type\": \"null\"\\n            }}\\n          ],\\n          \"default\": null,\\n          \"title\": \"Ingresos\"\\n        }},\\n        \"ahorro\": {{\\n          \"anyOf\": [\\n            {{\\n              \"type\": \"number\"\\n            }},\\n            {{\\n              \"type\": \"null\"\\n            }}\\n          ],\\n          \"default\": null,\\n          \"title\": \"Ahorro\"\\n        }},\\n        \"pago_contado\": {{\\n          \"anyOf\": [\\n            {{\\n              \"type\": \"number\"\\n            }},\\n            {{\\n              \"type\": \"null\"\\n            }}\\n          ],\\n          \"default\": null,\\n          \"title\": \"Pago Contado\"\\n        }},\\n        \"cuota_max\": {{\\n          \"anyOf\": [\\n            {{\\n              \"type\": \"number\"\\n            }},\\n            {{\\n              \"type\": \"null\"\\n            }}\\n          ],\\n          \"default\": null,\\n          \"title\": \"Cuota Max\"\\n        }},\\n        \"entrada\": {{\\n          \"anyOf\": [\\n            {{\\n              \"type\": \"number\"\\n            }},\\n            {{\\n              \"type\": \"null\"\\n            }}\\n          ],\\n          \"default\": null,\\n          \"title\": \"Entrada\"\\n        }},\\n        \"anos_posesion\": {{\\n          \"anyOf\": [\\n            {{\\n              \"type\": \"integer\"\\n            }},\\n            {{\\n              \"type\": \"null\"\\n            }}\\n          ],\\n          \"default\": null,\\n          \"description\": \"Número estimado de años que el usuario planea conservar el vehículo. Aplica para modo 1\",\\n          \"title\": \"Anos Posesion\"\\n        }}\\n      }},\\n      \"title\": \"EconomiaUsuario\",\\n      \"type\": \"object\"\\n    }}\\n  }},\\n  \"properties\": {{\\n    \"economia\": {{\\n      \"$ref\": \"#/$defs/EconomiaUsuario\",\\n      \"description\": \"Objeto que contiene TODA la información económica recopilada o actualizada.\"\\n    }},\\n    \"mensaje_validacion\": {{\\n      \"title\": \"Mensaje Validacion\",\\n      \"type\": \"string\"\\n    }}\\n  }},\\n  \"required\": [\\n    \"economia\",\\n    \"mensaje_validacion\"\\n  ],\\n  \"title\": \"ResultadoEconomia\",\\n  \"type\": \"object\"\\n}}\\n\\n</Role>\\n\\n\\n<Instrucciones_Revisadas>\\n1.  Analiza la conversación para determinar el `modo` (1 o 2) y `submodo` (si `modo` es 2).\\n\\n2.  **Lógica de Preguntas y Confirmación:**\\n    a.  **Si `modo` aún es `null`:**\\n        -   `economia` debe tener todos los campos en `null`.\\n        -   `mensaje_validacion` DEBE ser: \"Con el fin de conocer tus preferencias financieras que opcion (modo) prefieres: \\\\n 1. Prefiero que me aconsejes con criterios de inteligencia financiera.\\\\n 2. Prefiero indicar yo mismo cuánto y cómo gastar.\"\\n        -   **FIN para este turno.**\\n\\n    b.  **Si `modo` es `1` (Asesoramiento):**\\n        -   Verifica si tienes valores válidos (no `null`) para `ingresos`, `ahorro` Y `anos_posesion`.\\n        -   **Si los tres (`ingresos`, `ahorro`, `anos_posesion`) tienen valor:** `mensaje_validacion` puede ser una confirmación (ej: \"Ok, datos para Modo 1 recibidos.\") o `\"\"`. Rellena `economia` con estos datos.\\n        -   **Si falta alguno de los tres:** `mensaje_validacion` DEBE ser una pregunta para el PRIMER campo faltante en el orden: `ingresos`, luego `ahorro`, luego `anos_posesion`. Rellena `economia` con los datos que ya tengas.\\n        -   **FIN para este turno.**\\n\\n    c.  **Si `modo` es `2` (Usuario define presupuesto):**\\n        -   Verifica si `submodo` tiene valor (1 o 2).\\n        -   **Si `submodo` es `null`:** `mensaje_validacion` DEBE preguntar por el submodo (ej: \"¿Prefieres indicar un pago total al contado o una cuota mensual máxima?\"). Rellena `economia` con `modo: 2` y el resto `null`.\\n        -   **Si `submodo` es `1` (Contado):** Verifica si `pago_contado` tiene valor.\\n            -   Si `pago_contado` tiene valor: `mensaje_validacion` puede ser confirmación o `\"\"`.\\n            -   Si `pago_contado` es `null`: `mensaje_validacion` DEBE preguntar por `pago_contado`.\\n        -   **Si `submodo` es `2` (Cuotas):** Verifica si `cuota_max` tiene valor.\\n            -   Si `cuota_max` tiene valor: `mensaje_validacion` puede ser confirmación o `\"\"`. (El campo `entrada` es opcional).\\n            -   Si `cuota_max` es `null`: `mensaje_validacion` DEBE preguntar por `cuota_max`.\\n        -   Rellena `economia` con los datos que tengas.\\n        -   **FIN para este turno.**\\n\\n3.  **Principios Generales:**\\n    -   En cada turno, el objeto `economia` en tu salida JSON debe reflejar el estado actual de la información recopilada.\\n    -   No inventes valores. Si un dato no se ha proporcionado o inferido claramente, su valor debe ser `null`.\\n    -   Usa el historial de conversación para mantener el contexto.\\n</Instrucciones_Revisadas>\\n\\n<Ejemplos>\\n\\n**Ejemplo 1: Inicio Economía: LLM debe preguntar por Modo 1 vs Modo 2**\\n* Contexto (Historial + Último mensaje): `[..., AIMessage(content=\\'Ok, filtros técnicos definidos.\\')]` \\n  *(Nota: El historial previo no importa tanto como el hecho de que \\'modo\\' es null)*\\n* Salida JSON Esperada:\\n    ```json\\n    {{\\n      \"economia\": {{ // Objeto economía vacío o con todos los campos en null\\n        \"modo\": null,\\n        \"submodo\": null,\\n        \"ingresos\": null, \\n        \"ahorro\": null,   \\n        \"pago_contado\": null,\\n        \"cuota_max\": null,\\n        \"entrada\": null,\\n        \"anos_posesion\": null // Incluir el campo nuevo\\n      }},\\n      \"mensaje_validacion\": \"Con el fin de conocer tus preferencias financieras que opcion prefieres:\\\\n  1.Prefiero que me aconsejes con criterios de inteligencia financiera.\\\\n  2. Prefiero indicar yo mismo cuánto y cómo gastar.\" // <-- Pregunta exacta requerida por la regla\\n    }}\\n    ```\\n**Ejemplo 2: Usuario elige Modo 1 (Asesoramiento), pero LLM necesita preguntar por ingresos**\\n* Contexto (Historial + Último mensaje): `[..., HumanMessage(content=\\'Prefiero que me asesores tú.\\')]`\\n* Salida JSON Esperada:\\n    ```json\\n    {{\\n      \"economia\": {{\\n        \"modo\": 1, // LLM identifica el modo\\n        \"submodo\": null,\\n        \"ingresos\": null, // Aún no tiene el dato obligatorio\\n        \"ahorro\": null,   // Aún no tiene el dato obligatorio\\n        \"pago_contado\": null,\\n        \"cuota_max\": null,\\n        \"entrada\": null,\\n        \"anos_posesion\": null\\n      }},\\n      \"mensaje_validacion\": \"Entendido, usaremos el modo asesor financiero. Para poder calcular un presupuesto adecuado, ¿podrías indicarme cuales son tus ingresos netos anuales aproximados?\" // Pregunta por el primer dato faltante\\n    }}\\n    ```\\n\\n**Ejemplo 3: Usuario elige Modo 2 (Define Presupuesto), pero LLM necesita preguntar por submodo (contado/cuotas)**\\n* Contexto (Historial + Último mensaje): `[..., HumanMessage(content=\\'Mejor defino yo el presupuesto.\\')]`\\n* Salida JSON Esperada:\\n    ```json\\n    {{\\n      \"economia\": {{\\n        \"modo\": 2, // LLM identifica el modo\\n        \"submodo\": null, // Falta el submodo obligatorio\\n        \"ingresos\": null,\\n        \"ahorro\": null,\\n        \"pago_contado\": null,\\n        \"cuota_max\": null,\\n        \"entrada\": null,\\n        \"anos_posesion\": null\\n      }},\\n      \"mensaje_validacion\": \"De acuerdo, tú defines el presupuesto. Que opción prefieres?\\\\n 1)Tienes pensado pagar el coche al contado\\\\n  2) prefieres financiarlo en cuotas mensuales\" // Pregunta por el submodo\\n    }}\\n    ```\\nEjemplo 4:\\n{{\\n  \"economia\": {{\"modo\": 1, \"submodo\": null, \"ingresos\": 45000.0, \"ahorro\": 10000.0, \"pago_contado\": null, \"cuota_max\": null, \"entrada\": null,\"anos_posesion\": null}},\\n  \"mensaje_validacion\": \"¿Durante cuántos años aproximadamente planeas conservar el vehículo?\" \\n\\n}}\\nEjemplo 5: Modo 1 completo\\n{{ \\n  \"economia\": {{ \\n    \"modo\": 1, \\n    \"submodo\": null, \\n    \"ingresos\": 45000.0, \\n    \"ahorro\": 10000.0, \\n    \"pago_contado\": null, \\n    \"cuota_max\": null, \\n    \"entrada\": null,\\n    \"anos_posesion\": 5 \\n  }},\\n  \"mensaje_validacion\": \"¡Entendido! Ya tengo los datos necesarios para el Modo 1.\"\\n}}\\n\\n\\n</Ejemplos>\\n\\n<Formato esperado>\\nGenera el JSON:\\n{{\\n  \"economia\": {{ ... }},\\n  \"mensaje_validacion\": \"...\"\\n}}', 'role': 'user'}, {'content': 'Quiero un coche mido 1.93. Peso 80 kg', 'role': 'user'}, {'content': '¿Usarás el coche para trabajo o para uso personal y familiar?', 'role': 'assistant'}, {'content': 'para uso personal', 'role': 'user'}, {'content': '¿Valoras especialmente la estética del coche?', 'role': 'assistant'}, {'content': 'si valoro la estetica', 'role': 'user'}, {'content': '¿Quieres solo coches eléctricos?', 'role': 'assistant'}, {'content': 'no a combustion tambien', 'role': 'user'}, {'content': '¿Qué tipo de transmisión prefieres?\\n 1) Automático\\n 2) Manual\\n 3) Ambos', 'role': 'assistant'}, {'content': 'la numero 3', 'role': 'user'}, {'content': 'Hablando de aventura, ¿con cuál de estas afirmaciones te identificas más?\\n 1) No pisas nada que no sea asfalto (ninguna)\\n 2) Salidas fuera de asfalto ocasionales (ocasional)\\n 3) Circular en condiciones duras con total garantía (extrema)', 'role': 'assistant'}, {'content': 'la 2', 'role': 'user'}, {'content': '¿Eres un apasionado del mundo automotriz?', 'role': 'assistant'}, {'content': 'si, lo soy', 'role': 'user'}, {'content': 'Cuéntame, ¿sueles viajar con acompañantes en el coche habitualmente? ¿cuántos?', 'role': 'assistant'}, {'content': 'si, llevo 2 acompañantes', 'role': 'user'}, {'content': 'Entendido, 2 acompañantes habitualmente. ¿Alguno de ellos es un niño que necesite sillita de seguridad?', 'role': 'assistant'}, {'content': 'si uno de ellos es mi hijo', 'role': 'user'}], 'model': 'gpt-4o-mini', 'response_format': {'type': 'json_schema', 'json_schema': {'schema': {'$defs': {'EconomiaUsuario': {'properties': {'modo': {'anyOf': [{'enum': [1, 2], 'type': 'integer'}, {'type': 'null'}], 'title': 'Modo'}, 'submodo': {'anyOf': [{'enum': [1, 2], 'type': 'integer'}, {'type': 'null'}], 'title': 'Submodo'}, 'ingresos': {'anyOf': [{'type': 'number'}, {'type': 'null'}], 'title': 'Ingresos'}, 'ahorro': {'anyOf': [{'type': 'number'}, {'type': 'null'}], 'title': 'Ahorro'}, 'pago_contado': {'anyOf': [{'type': 'number'}, {'type': 'null'}], 'title': 'Pago Contado'}, 'cuota_max': {'anyOf': [{'type': 'number'}, {'type': 'null'}], 'title': 'Cuota Max'}, 'entrada': {'anyOf': [{'type': 'number'}, {'type': 'null'}], 'title': 'Entrada'}, 'anos_posesion': {'anyOf': [{'type': 'integer'}, {'type': 'null'}], 'description': 'Número estimado de años que el usuario planea conservar el vehículo.', 'title': 'Anos Posesion'}}, 'title': 'EconomiaUsuario', 'type': 'object', 'additionalProperties': False, 'required': ['modo', 'submodo', 'ingresos', 'ahorro', 'pago_contado', 'cuota_max', 'entrada', 'anos_posesion']}}, 'properties': {'economia': {'description': 'Objeto que contiene TODA la información económica recopilada o actualizada.', 'properties': {'modo': {'anyOf': [{'enum': [1, 2], 'type': 'integer'}, {'type': 'null'}], 'title': 'Modo'}, 'submodo': {'anyOf': [{'enum': [1, 2], 'type': 'integer'}, {'type': 'null'}], 'title': 'Submodo'}, 'ingresos': {'anyOf': [{'type': 'number'}, {'type': 'null'}], 'title': 'Ingresos'}, 'ahorro': {'anyOf': [{'type': 'number'}, {'type': 'null'}], 'title': 'Ahorro'}, 'pago_contado': {'anyOf': [{'type': 'number'}, {'type': 'null'}], 'title': 'Pago Contado'}, 'cuota_max': {'anyOf': [{'type': 'number'}, {'type': 'null'}], 'title': 'Cuota Max'}, 'entrada': {'anyOf': [{'type': 'number'}, {'type': 'null'}], 'title': 'Entrada'}, 'anos_posesion': {'anyOf': [{'type': 'integer'}, {'type': 'null'}], 'description': 'Número estimado de años que el usuario planea conservar el vehículo.', 'title': 'Anos Posesion'}}, 'title': 'EconomiaUsuario', 'type': 'object', 'additionalProperties': False, 'required': ['modo', 'submodo', 'ingresos', 'ahorro', 'pago_contado', 'cuota_max', 'entrada', 'anos_posesion']}, 'mensaje_validacion': {'title': 'Mensaje Validacion', 'type': 'string'}}, 'required': ['economia', 'mensaje_validacion'], 'title': 'ResultadoEconomia', 'type': 'object', 'additionalProperties': False}, 'name': 'ResultadoEconomia', 'strict': True}}, 'stream': False, 'temperature': 0.1}}\n",
      "DEBUG:openai._base_client:Sending HTTP Request: POST https://api.openai.com/v1/chat/completions\n",
      "DEBUG:httpcore.connection:connect_tcp.started host='api.openai.com' port=443 local_address=None timeout=None socket_options=None\n",
      "DEBUG:httpcore.connection:connect_tcp.complete return_value=<httpcore._backends.sync.SyncStream object at 0x115bfa590>\n",
      "DEBUG:httpcore.connection:start_tls.started ssl_context=<ssl.SSLContext object at 0x107e57920> server_hostname='api.openai.com' timeout=None\n",
      "DEBUG:httpcore.connection:start_tls.complete return_value=<httpcore._backends.sync.SyncStream object at 0x115bad290>\n",
      "DEBUG:httpcore.http11:send_request_headers.started request=<Request [b'POST']>\n",
      "DEBUG:httpcore.http11:send_request_headers.complete\n",
      "DEBUG:httpcore.http11:send_request_body.started request=<Request [b'POST']>\n",
      "DEBUG:httpcore.http11:send_request_body.complete\n",
      "DEBUG:httpcore.http11:receive_response_headers.started request=<Request [b'POST']>\n"
     ]
    },
    {
     "name": "stdout",
     "output_type": "stream",
     "text": [
      "DEBUG (Filtros) ► Respuesta llm_solo_filtros: filtros_inferidos=FiltrosInferidos(estetica_min=6.0, tipo_mecanica=[<TipoMecanica.BEV: 'BEV'>, <TipoMecanica.GASOLINA: 'GASOLINA'>, <TipoMecanica.HEVD: 'HEVD'>, <TipoMecanica.HEVG: 'HEVG'>, <TipoMecanica.PHEVD: 'PHEVD'>, <TipoMecanica.PHEVG: 'PHEVG'>], premium_min=6.0, singular_min=6.0, tipo_carroceria=None, modo_adquisicion_recomendado=None, precio_max_contado_recomendado=None, cuota_max_calculada=None, plazas_min=3) mensaje_validacion='Ok, he definido los filtros técnicos basados en tus preferencias.'\n",
      "\n",
      "--- DEBUG DENTRO PostProc Filtros ---\n",
      "Recibido Prefs: altura_mayor_190='sí' peso_mayor_100='no' uso_profesional='no' valora_estetica='sí' solo_electricos='no' transmision_preferida=<Transmision.AMBOS: 'ambos'> apasionado_motor='sí' aventura=<NivelAventura.ocasional: 'ocasional'>\n",
      "Recibido Filtros (antes): estetica_min=6.0 tipo_mecanica=[<TipoMecanica.BEV: 'BEV'>, <TipoMecanica.GASOLINA: 'GASOLINA'>, <TipoMecanica.HEVD: 'HEVD'>, <TipoMecanica.HEVG: 'HEVG'>, <TipoMecanica.PHEVD: 'PHEVD'>, <TipoMecanica.PHEVG: 'PHEVG'>] premium_min=6.0 singular_min=6.0 tipo_carroceria=None modo_adquisicion_recomendado=None precio_max_contado_recomendado=None cuota_max_calculada=None plazas_min=3\n",
      "DEBUG PostProc Filtros: Valor de valora_estetica_val = 'sí' (Tipo: <class 'str'>)\n",
      "DEBUG PostProc Filtros: Resultado de is_yes(valora_estetica_val) = True\n",
      "DEBUG PostProc Filtros: Valor de apasionado_motor_val = 'sí' (Tipo: <class 'str'>)\n",
      "DEBUG PostProc Filtros: Resultado de is_yes(apasionado_motor_val) = True\n",
      "DEBUG (PostProc Filtros) ► Aplicando regla: apasionado_motor='sí' -> premium/singular_min=5.0\n",
      "DEBUG (PostProc Filtros) ► Filtros tras post-procesamiento: estetica_min=6.0 tipo_mecanica=[<TipoMecanica.BEV: 'BEV'>, <TipoMecanica.GASOLINA: 'GASOLINA'>, <TipoMecanica.HEVD: 'HEVD'>, <TipoMecanica.HEVG: 'HEVG'>, <TipoMecanica.PHEVD: 'PHEVD'>, <TipoMecanica.PHEVG: 'PHEVG'>] premium_min=6.0 singular_min=6.0 tipo_carroceria=None modo_adquisicion_recomendado=None precio_max_contado_recomendado=None cuota_max_calculada=None plazas_min=3\n",
      "DEBUG (Filtros) ► Filtros TRAS post-procesamiento: estetica_min=6.0 tipo_mecanica=[<TipoMecanica.BEV: 'BEV'>, <TipoMecanica.GASOLINA: 'GASOLINA'>, <TipoMecanica.HEVD: 'HEVD'>, <TipoMecanica.HEVG: 'HEVG'>, <TipoMecanica.PHEVD: 'PHEVD'>, <TipoMecanica.PHEVG: 'PHEVG'>] premium_min=6.0 singular_min=6.0 tipo_carroceria=None modo_adquisicion_recomendado=None precio_max_contado_recomendado=None cuota_max_calculada=None plazas_min=3\n",
      "DEBUG (Filtros) ► Estado filtros_inferidos actualizado: estetica_min=6.0 tipo_mecanica=[<TipoMecanica.BEV: 'BEV'>, <TipoMecanica.GASOLINA: 'GASOLINA'>, <TipoMecanica.HEVD: 'HEVD'>, <TipoMecanica.HEVG: 'HEVG'>, <TipoMecanica.PHEVD: 'PHEVD'>, <TipoMecanica.PHEVG: 'PHEVG'>] premium_min=6.0 singular_min=6.0 tipo_carroceria=None modo_adquisicion_recomendado=None precio_max_contado_recomendado=None cuota_max_calculada=None plazas_min=3\n",
      "--- Ejecutando Nodo: validar_filtros_node ---\n",
      "DEBUG (Validation Filtros) ► Todos los campos obligatorios de filtros ('tipo_mecanica') están presentes y válidos.\n",
      "DEBUG (Filtros) ► Validación: FiltrosInferidos considerados COMPLETOS.\n",
      "--- Evaluando Condición: ruta_decision_filtros ---\n",
      "DEBUG (Validation Filtros) ► Todos los campos obligatorios de filtros ('tipo_mecanica') están presentes y válidos.\n",
      "DEBUG (Condición Filtros) ► Filtros COMPLETOS. Avanzando a economía.\n",
      "--- Ejecutando Nodo: recopilar_economia_node ---\n",
      "DEBUG (Economía) ► Llamando a llm_economia...\n"
     ]
    },
    {
     "name": "stderr",
     "output_type": "stream",
     "text": [
      "DEBUG:httpcore.http11:receive_response_headers.complete return_value=(b'HTTP/1.1', 200, b'OK', [(b'Date', b'Tue, 06 May 2025 17:25:52 GMT'), (b'Content-Type', b'application/json'), (b'Transfer-Encoding', b'chunked'), (b'Connection', b'keep-alive'), (b'access-control-expose-headers', b'X-Request-ID'), (b'openai-organization', b'user-ic25pcewdjuowsz9q2ektvrn'), (b'openai-processing-ms', b'1692'), (b'openai-version', b'2020-10-01'), (b'x-ratelimit-limit-requests', b'10000'), (b'x-ratelimit-limit-tokens', b'200000'), (b'x-ratelimit-remaining-requests', b'9997'), (b'x-ratelimit-remaining-tokens', b'197491'), (b'x-ratelimit-reset-requests', b'21.306s'), (b'x-ratelimit-reset-tokens', b'752ms'), (b'x-request-id', b'req_83751abe713720a486b8b300e26e44c4'), (b'strict-transport-security', b'max-age=31536000; includeSubDomains; preload'), (b'cf-cache-status', b'DYNAMIC'), (b'Set-Cookie', b'__cf_bm=cYfFAxVrtS6Ys9BLByyzMPbwS57LiloY.mLWxxqPpDw-1746552352-1.0.1.1-5e.3CTQeLYGHJE8kWg0rVEo8ANmqi.AjbRThx6HHHOf2Q8Cz2lTK9hoZJkoAx6uL3iGb2rlaGBw11hd6GnyAyxa85.ngYp3U4vHJ97U914I; path=/; expires=Tue, 06-May-25 17:55:52 GMT; domain=.api.openai.com; HttpOnly; Secure; SameSite=None'), (b'X-Content-Type-Options', b'nosniff'), (b'Set-Cookie', b'_cfuvid=YnBipAPlXXY.j_xUho2hw4PfZL1dtYlImBgO519rRSo-1746552352770-0.0.1.1-604800000; path=/; domain=.api.openai.com; HttpOnly; Secure; SameSite=None'), (b'Server', b'cloudflare'), (b'CF-RAY', b'93ba2ddf783428de-BCN'), (b'Content-Encoding', b'gzip'), (b'alt-svc', b'h3=\":443\"; ma=86400')])\n",
      "INFO:httpx:HTTP Request: POST https://api.openai.com/v1/chat/completions \"HTTP/1.1 200 OK\"\n",
      "DEBUG:httpcore.http11:receive_response_body.started request=<Request [b'POST']>\n",
      "DEBUG:httpcore.http11:receive_response_body.complete\n",
      "DEBUG:httpcore.http11:response_closed.started\n",
      "DEBUG:httpcore.http11:response_closed.complete\n",
      "DEBUG:openai._base_client:HTTP Response: POST https://api.openai.com/v1/chat/completions \"200 OK\" Headers([('date', 'Tue, 06 May 2025 17:25:52 GMT'), ('content-type', 'application/json'), ('transfer-encoding', 'chunked'), ('connection', 'keep-alive'), ('access-control-expose-headers', 'X-Request-ID'), ('openai-organization', 'user-ic25pcewdjuowsz9q2ektvrn'), ('openai-processing-ms', '1692'), ('openai-version', '2020-10-01'), ('x-ratelimit-limit-requests', '10000'), ('x-ratelimit-limit-tokens', '200000'), ('x-ratelimit-remaining-requests', '9997'), ('x-ratelimit-remaining-tokens', '197491'), ('x-ratelimit-reset-requests', '21.306s'), ('x-ratelimit-reset-tokens', '752ms'), ('x-request-id', 'req_83751abe713720a486b8b300e26e44c4'), ('strict-transport-security', 'max-age=31536000; includeSubDomains; preload'), ('cf-cache-status', 'DYNAMIC'), ('set-cookie', '__cf_bm=cYfFAxVrtS6Ys9BLByyzMPbwS57LiloY.mLWxxqPpDw-1746552352-1.0.1.1-5e.3CTQeLYGHJE8kWg0rVEo8ANmqi.AjbRThx6HHHOf2Q8Cz2lTK9hoZJkoAx6uL3iGb2rlaGBw11hd6GnyAyxa85.ngYp3U4vHJ97U914I; path=/; expires=Tue, 06-May-25 17:55:52 GMT; domain=.api.openai.com; HttpOnly; Secure; SameSite=None'), ('x-content-type-options', 'nosniff'), ('set-cookie', '_cfuvid=YnBipAPlXXY.j_xUho2hw4PfZL1dtYlImBgO519rRSo-1746552352770-0.0.1.1-604800000; path=/; domain=.api.openai.com; HttpOnly; Secure; SameSite=None'), ('server', 'cloudflare'), ('cf-ray', '93ba2ddf783428de-BCN'), ('content-encoding', 'gzip'), ('alt-svc', 'h3=\":443\"; ma=86400')])\n",
      "DEBUG:openai._base_client:request_id: req_83751abe713720a486b8b300e26e44c4\n"
     ]
    },
    {
     "name": "stdout",
     "output_type": "stream",
     "text": [
      "DEBUG (Economía) ► Respuesta llm_economia: economia=EconomiaUsuario(modo=None, submodo=None, ingresos=None, ahorro=None, pago_contado=None, cuota_max=None, entrada=None, anos_posesion=None) mensaje_validacion='Con el fin de conocer tus preferencias financieras que opcion prefieres:\\n  1. Prefiero que me aconsejes con criterios de inteligencia financiera.\\n  2. Prefiero indicar yo mismo cuánto y cómo gastar.'\n",
      "DEBUG (Economía) ► Estado economía actualizado: modo=None submodo=None ingresos=None ahorro=None pago_contado=None cuota_max=None entrada=None anos_posesion=None\n",
      "DEBUG (Economía) ► Guardando pregunta pendiente: Con el fin de conocer tus preferencias financieras que opcion prefieres:\n",
      "  1. Prefiero que me aconsejes con criterios de inteligencia financiera.\n",
      "  2. Prefiero indicar yo mismo cuánto y cómo gastar.\n",
      "--- Ejecutando Nodo: validar_economia_node ---\n",
      "--- DEBUG CHECK ECONOMIA (Manual) ---\n",
      "Input econ object: modo=None submodo=None ingresos=None ahorro=None pago_contado=None cuota_max=None entrada=None anos_posesion=None\n",
      "DEBUG (Validation Economía Manual) ► econ.modo es None.\n",
      "DEBUG (Economía) ► Validación: Economía considerada INCOMPLETA.\n",
      "--- Evaluando Condición: ruta_decision_economia ---\n",
      "--- DEBUG CHECK ECONOMIA (Manual) ---\n",
      "Input econ object: modo=None submodo=None ingresos=None ahorro=None pago_contado=None cuota_max=None entrada=None anos_posesion=None\n",
      "DEBUG (Validation Economía Manual) ► econ.modo es None.\n",
      "DEBUG (Condición Economía) ► Economía INCOMPLETA. Se necesita pregunta.\n",
      "--- Ejecutando Nodo: preguntar_economia_node ---\n",
      "DEBUG (Preguntar Economía) ► Usando pregunta guardada: Con el fin de conocer tus preferencias financieras que opcion prefieres:\n",
      "  1. Prefiero que me aconsejes con criterios de inteligencia financiera.\n",
      "  2. Prefiero indicar yo mismo cuánto y cómo gastar.\n",
      "DEBUG (Preguntar Economía) ► Mensaje final añadido: Con el fin de conocer tus preferencias financieras que opcion prefieres:\n",
      "  1. Prefiero que me aconsejes con criterios de inteligencia financiera.\n",
      "  2. Prefiero indicar yo mismo cuánto y cómo gastar.\n",
      "==================================\u001b[1m Ai Message \u001b[0m==================================\n",
      "\n",
      "Con el fin de conocer tus preferencias financieras que opcion prefieres:\n",
      "  1. Prefiero que me aconsejes con criterios de inteligencia financiera.\n",
      "  2. Prefiero indicar yo mismo cuánto y cómo gastar.\n"
     ]
    }
   ],
   "source": [
    "config = {\"configurable\": {\"thread_id\": \"2\"}}\n",
    "input_message = HumanMessage(content=\"si uno de ellos es mi hijo\")\n",
    "output = graph.invoke({\"messages\": [input_message]}, config) \n",
    "for m in output['messages'][-1:]:\n",
    "    m.pretty_print()"
   ]
  },
  {
   "cell_type": "code",
   "execution_count": 13,
   "metadata": {},
   "outputs": [
    {
     "name": "stderr",
     "output_type": "stream",
     "text": [
      "DEBUG:openai._base_client:Request options: {'method': 'post', 'url': '/chat/completions', 'headers': {'X-Stainless-Helper-Method': 'beta.chat.completions.parse'}, 'files': None, 'post_parser': <function Completions.parse.<locals>.parser at 0x115b2fba0>, 'json_data': {'messages': [{'content': '<Role>\\nEres un asistente experto en finanzas automotrices. Tu objetivo es recopilar información económica del usuario para ayudarle a definir su presupuesto(modo 1: con criterios de inteligencia financiera), o bien definir un presupuesto basado en sus indicaciones(modo2: indica el mismo cuánto y cómo gastar). Debes generar una respuesta JSON que SIEMPRE se ajuste al siguiente esquema Pydantic:\\n``json\\n{{\\n  \"$defs\": {{\\n    \"EconomiaUsuario\": {{\\n      \"properties\": {{\\n        \"modo\": {{\\n          \"anyOf\": [\\n            {{\\n              \"enum\": [\\n                1,\\n                2\\n              ],\\n              \"type\": \"integer\"\\n            }},\\n            {{\\n              \"type\": \"null\"\\n            }}\\n          ],\\n          \"default\": null,\\n          \"title\": \"Modo\"\\n        }},\\n        \"submodo\": {{\\n          \"anyOf\": [\\n            {{\\n              \"enum\": [\\n                1,\\n                2\\n              ],\\n              \"type\": \"integer\"\\n            }},\\n            {{\\n              \"type\": \"null\"\\n            }}\\n          ],\\n          \"default\": null,\\n          \"title\": \"Submodo\"\\n        }},\\n        \"ingresos\": {{\\n          \"anyOf\": [\\n            {{\\n              \"type\": \"number\"\\n            }},\\n            {{\\n              \"type\": \"null\"\\n            }}\\n          ],\\n          \"default\": null,\\n          \"title\": \"Ingresos\"\\n        }},\\n        \"ahorro\": {{\\n          \"anyOf\": [\\n            {{\\n              \"type\": \"number\"\\n            }},\\n            {{\\n              \"type\": \"null\"\\n            }}\\n          ],\\n          \"default\": null,\\n          \"title\": \"Ahorro\"\\n        }},\\n        \"pago_contado\": {{\\n          \"anyOf\": [\\n            {{\\n              \"type\": \"number\"\\n            }},\\n            {{\\n              \"type\": \"null\"\\n            }}\\n          ],\\n          \"default\": null,\\n          \"title\": \"Pago Contado\"\\n        }},\\n        \"cuota_max\": {{\\n          \"anyOf\": [\\n            {{\\n              \"type\": \"number\"\\n            }},\\n            {{\\n              \"type\": \"null\"\\n            }}\\n          ],\\n          \"default\": null,\\n          \"title\": \"Cuota Max\"\\n        }},\\n        \"entrada\": {{\\n          \"anyOf\": [\\n            {{\\n              \"type\": \"number\"\\n            }},\\n            {{\\n              \"type\": \"null\"\\n            }}\\n          ],\\n          \"default\": null,\\n          \"title\": \"Entrada\"\\n        }},\\n        \"anos_posesion\": {{\\n          \"anyOf\": [\\n            {{\\n              \"type\": \"integer\"\\n            }},\\n            {{\\n              \"type\": \"null\"\\n            }}\\n          ],\\n          \"default\": null,\\n          \"description\": \"Número estimado de años que el usuario planea conservar el vehículo. Aplica para modo 1\",\\n          \"title\": \"Anos Posesion\"\\n        }}\\n      }},\\n      \"title\": \"EconomiaUsuario\",\\n      \"type\": \"object\"\\n    }}\\n  }},\\n  \"properties\": {{\\n    \"economia\": {{\\n      \"$ref\": \"#/$defs/EconomiaUsuario\",\\n      \"description\": \"Objeto que contiene TODA la información económica recopilada o actualizada.\"\\n    }},\\n    \"mensaje_validacion\": {{\\n      \"title\": \"Mensaje Validacion\",\\n      \"type\": \"string\"\\n    }}\\n  }},\\n  \"required\": [\\n    \"economia\",\\n    \"mensaje_validacion\"\\n  ],\\n  \"title\": \"ResultadoEconomia\",\\n  \"type\": \"object\"\\n}}\\n\\n</Role>\\n\\n\\n<Instrucciones_Revisadas>\\n1.  Analiza la conversación para determinar el `modo` (1 o 2) y `submodo` (si `modo` es 2).\\n\\n2.  **Lógica de Preguntas y Confirmación:**\\n    a.  **Si `modo` aún es `null`:**\\n        -   `economia` debe tener todos los campos en `null`.\\n        -   `mensaje_validacion` DEBE ser: \"Con el fin de conocer tus preferencias financieras que opcion (modo) prefieres: \\\\n 1. Prefiero que me aconsejes con criterios de inteligencia financiera.\\\\n 2. Prefiero indicar yo mismo cuánto y cómo gastar.\"\\n        -   **FIN para este turno.**\\n\\n    b.  **Si `modo` es `1` (Asesoramiento):**\\n        -   Verifica si tienes valores válidos (no `null`) para `ingresos`, `ahorro` Y `anos_posesion`.\\n        -   **Si los tres (`ingresos`, `ahorro`, `anos_posesion`) tienen valor:** `mensaje_validacion` puede ser una confirmación (ej: \"Ok, datos para Modo 1 recibidos.\") o `\"\"`. Rellena `economia` con estos datos.\\n        -   **Si falta alguno de los tres:** `mensaje_validacion` DEBE ser una pregunta para el PRIMER campo faltante en el orden: `ingresos`, luego `ahorro`, luego `anos_posesion`. Rellena `economia` con los datos que ya tengas.\\n        -   **FIN para este turno.**\\n\\n    c.  **Si `modo` es `2` (Usuario define presupuesto):**\\n        -   Verifica si `submodo` tiene valor (1 o 2).\\n        -   **Si `submodo` es `null`:** `mensaje_validacion` DEBE preguntar por el submodo (ej: \"¿Prefieres indicar un pago total al contado o una cuota mensual máxima?\"). Rellena `economia` con `modo: 2` y el resto `null`.\\n        -   **Si `submodo` es `1` (Contado):** Verifica si `pago_contado` tiene valor.\\n            -   Si `pago_contado` tiene valor: `mensaje_validacion` puede ser confirmación o `\"\"`.\\n            -   Si `pago_contado` es `null`: `mensaje_validacion` DEBE preguntar por `pago_contado`.\\n        -   **Si `submodo` es `2` (Cuotas):** Verifica si `cuota_max` tiene valor.\\n            -   Si `cuota_max` tiene valor: `mensaje_validacion` puede ser confirmación o `\"\"`. (El campo `entrada` es opcional).\\n            -   Si `cuota_max` es `null`: `mensaje_validacion` DEBE preguntar por `cuota_max`.\\n        -   Rellena `economia` con los datos que tengas.\\n        -   **FIN para este turno.**\\n\\n3.  **Principios Generales:**\\n    -   En cada turno, el objeto `economia` en tu salida JSON debe reflejar el estado actual de la información recopilada.\\n    -   No inventes valores. Si un dato no se ha proporcionado o inferido claramente, su valor debe ser `null`.\\n    -   Usa el historial de conversación para mantener el contexto.\\n</Instrucciones_Revisadas>\\n\\n<Ejemplos>\\n\\n**Ejemplo 1: Inicio Economía: LLM debe preguntar por Modo 1 vs Modo 2**\\n* Contexto (Historial + Último mensaje): `[..., AIMessage(content=\\'Ok, filtros técnicos definidos.\\')]` \\n  *(Nota: El historial previo no importa tanto como el hecho de que \\'modo\\' es null)*\\n* Salida JSON Esperada:\\n    ```json\\n    {{\\n      \"economia\": {{ // Objeto economía vacío o con todos los campos en null\\n        \"modo\": null,\\n        \"submodo\": null,\\n        \"ingresos\": null, \\n        \"ahorro\": null,   \\n        \"pago_contado\": null,\\n        \"cuota_max\": null,\\n        \"entrada\": null,\\n        \"anos_posesion\": null // Incluir el campo nuevo\\n      }},\\n      \"mensaje_validacion\": \"Con el fin de conocer tus preferencias financieras que opcion prefieres:\\\\n  1.Prefiero que me aconsejes con criterios de inteligencia financiera.\\\\n  2. Prefiero indicar yo mismo cuánto y cómo gastar.\" // <-- Pregunta exacta requerida por la regla\\n    }}\\n    ```\\n**Ejemplo 2: Usuario elige Modo 1 (Asesoramiento), pero LLM necesita preguntar por ingresos**\\n* Contexto (Historial + Último mensaje): `[..., HumanMessage(content=\\'Prefiero que me asesores tú.\\')]`\\n* Salida JSON Esperada:\\n    ```json\\n    {{\\n      \"economia\": {{\\n        \"modo\": 1, // LLM identifica el modo\\n        \"submodo\": null,\\n        \"ingresos\": null, // Aún no tiene el dato obligatorio\\n        \"ahorro\": null,   // Aún no tiene el dato obligatorio\\n        \"pago_contado\": null,\\n        \"cuota_max\": null,\\n        \"entrada\": null,\\n        \"anos_posesion\": null\\n      }},\\n      \"mensaje_validacion\": \"Entendido, usaremos el modo asesor financiero. Para poder calcular un presupuesto adecuado, ¿podrías indicarme cuales son tus ingresos netos anuales aproximados?\" // Pregunta por el primer dato faltante\\n    }}\\n    ```\\n\\n**Ejemplo 3: Usuario elige Modo 2 (Define Presupuesto), pero LLM necesita preguntar por submodo (contado/cuotas)**\\n* Contexto (Historial + Último mensaje): `[..., HumanMessage(content=\\'Mejor defino yo el presupuesto.\\')]`\\n* Salida JSON Esperada:\\n    ```json\\n    {{\\n      \"economia\": {{\\n        \"modo\": 2, // LLM identifica el modo\\n        \"submodo\": null, // Falta el submodo obligatorio\\n        \"ingresos\": null,\\n        \"ahorro\": null,\\n        \"pago_contado\": null,\\n        \"cuota_max\": null,\\n        \"entrada\": null,\\n        \"anos_posesion\": null\\n      }},\\n      \"mensaje_validacion\": \"De acuerdo, tú defines el presupuesto. Que opción prefieres?\\\\n 1)Tienes pensado pagar el coche al contado\\\\n  2) prefieres financiarlo en cuotas mensuales\" // Pregunta por el submodo\\n    }}\\n    ```\\nEjemplo 4:\\n{{\\n  \"economia\": {{\"modo\": 1, \"submodo\": null, \"ingresos\": 45000.0, \"ahorro\": 10000.0, \"pago_contado\": null, \"cuota_max\": null, \"entrada\": null,\"anos_posesion\": null}},\\n  \"mensaje_validacion\": \"¿Durante cuántos años aproximadamente planeas conservar el vehículo?\" \\n\\n}}\\nEjemplo 5: Modo 1 completo\\n{{ \\n  \"economia\": {{ \\n    \"modo\": 1, \\n    \"submodo\": null, \\n    \"ingresos\": 45000.0, \\n    \"ahorro\": 10000.0, \\n    \"pago_contado\": null, \\n    \"cuota_max\": null, \\n    \"entrada\": null,\\n    \"anos_posesion\": 5 \\n  }},\\n  \"mensaje_validacion\": \"¡Entendido! Ya tengo los datos necesarios para el Modo 1.\"\\n}}\\n\\n\\n</Ejemplos>\\n\\n<Formato esperado>\\nGenera el JSON:\\n{{\\n  \"economia\": {{ ... }},\\n  \"mensaje_validacion\": \"...\"\\n}}', 'role': 'user'}, {'content': 'Quiero un coche mido 1.93. Peso 80 kg', 'role': 'user'}, {'content': '¿Usarás el coche para trabajo o para uso personal y familiar?', 'role': 'assistant'}, {'content': 'para uso personal', 'role': 'user'}, {'content': '¿Valoras especialmente la estética del coche?', 'role': 'assistant'}, {'content': 'si valoro la estetica', 'role': 'user'}, {'content': '¿Quieres solo coches eléctricos?', 'role': 'assistant'}, {'content': 'no a combustion tambien', 'role': 'user'}, {'content': '¿Qué tipo de transmisión prefieres?\\n 1) Automático\\n 2) Manual\\n 3) Ambos', 'role': 'assistant'}, {'content': 'la numero 3', 'role': 'user'}, {'content': 'Hablando de aventura, ¿con cuál de estas afirmaciones te identificas más?\\n 1) No pisas nada que no sea asfalto (ninguna)\\n 2) Salidas fuera de asfalto ocasionales (ocasional)\\n 3) Circular en condiciones duras con total garantía (extrema)', 'role': 'assistant'}, {'content': 'la 2', 'role': 'user'}, {'content': '¿Eres un apasionado del mundo automotriz?', 'role': 'assistant'}, {'content': 'si, lo soy', 'role': 'user'}, {'content': 'Cuéntame, ¿sueles viajar con acompañantes en el coche habitualmente? ¿cuántos?', 'role': 'assistant'}, {'content': 'si, llevo 2 acompañantes', 'role': 'user'}, {'content': 'Entendido, 2 acompañantes habitualmente. ¿Alguno de ellos es un niño que necesite sillita de seguridad?', 'role': 'assistant'}, {'content': 'si uno de ellos es mi hijo', 'role': 'user'}, {'content': 'Con el fin de conocer tus preferencias financieras que opcion prefieres:\\n  1. Prefiero que me aconsejes con criterios de inteligencia financiera.\\n  2. Prefiero indicar yo mismo cuánto y cómo gastar.', 'role': 'assistant'}, {'content': 'asesorame por favor', 'role': 'user'}], 'model': 'gpt-4o-mini', 'response_format': {'type': 'json_schema', 'json_schema': {'schema': {'$defs': {'EconomiaUsuario': {'properties': {'modo': {'anyOf': [{'enum': [1, 2], 'type': 'integer'}, {'type': 'null'}], 'title': 'Modo'}, 'submodo': {'anyOf': [{'enum': [1, 2], 'type': 'integer'}, {'type': 'null'}], 'title': 'Submodo'}, 'ingresos': {'anyOf': [{'type': 'number'}, {'type': 'null'}], 'title': 'Ingresos'}, 'ahorro': {'anyOf': [{'type': 'number'}, {'type': 'null'}], 'title': 'Ahorro'}, 'pago_contado': {'anyOf': [{'type': 'number'}, {'type': 'null'}], 'title': 'Pago Contado'}, 'cuota_max': {'anyOf': [{'type': 'number'}, {'type': 'null'}], 'title': 'Cuota Max'}, 'entrada': {'anyOf': [{'type': 'number'}, {'type': 'null'}], 'title': 'Entrada'}, 'anos_posesion': {'anyOf': [{'type': 'integer'}, {'type': 'null'}], 'description': 'Número estimado de años que el usuario planea conservar el vehículo.', 'title': 'Anos Posesion'}}, 'title': 'EconomiaUsuario', 'type': 'object', 'additionalProperties': False, 'required': ['modo', 'submodo', 'ingresos', 'ahorro', 'pago_contado', 'cuota_max', 'entrada', 'anos_posesion']}}, 'properties': {'economia': {'description': 'Objeto que contiene TODA la información económica recopilada o actualizada.', 'properties': {'modo': {'anyOf': [{'enum': [1, 2], 'type': 'integer'}, {'type': 'null'}], 'title': 'Modo'}, 'submodo': {'anyOf': [{'enum': [1, 2], 'type': 'integer'}, {'type': 'null'}], 'title': 'Submodo'}, 'ingresos': {'anyOf': [{'type': 'number'}, {'type': 'null'}], 'title': 'Ingresos'}, 'ahorro': {'anyOf': [{'type': 'number'}, {'type': 'null'}], 'title': 'Ahorro'}, 'pago_contado': {'anyOf': [{'type': 'number'}, {'type': 'null'}], 'title': 'Pago Contado'}, 'cuota_max': {'anyOf': [{'type': 'number'}, {'type': 'null'}], 'title': 'Cuota Max'}, 'entrada': {'anyOf': [{'type': 'number'}, {'type': 'null'}], 'title': 'Entrada'}, 'anos_posesion': {'anyOf': [{'type': 'integer'}, {'type': 'null'}], 'description': 'Número estimado de años que el usuario planea conservar el vehículo.', 'title': 'Anos Posesion'}}, 'title': 'EconomiaUsuario', 'type': 'object', 'additionalProperties': False, 'required': ['modo', 'submodo', 'ingresos', 'ahorro', 'pago_contado', 'cuota_max', 'entrada', 'anos_posesion']}, 'mensaje_validacion': {'title': 'Mensaje Validacion', 'type': 'string'}}, 'required': ['economia', 'mensaje_validacion'], 'title': 'ResultadoEconomia', 'type': 'object', 'additionalProperties': False}, 'name': 'ResultadoEconomia', 'strict': True}}, 'stream': False, 'temperature': 0.1}}\n",
      "DEBUG:openai._base_client:Sending HTTP Request: POST https://api.openai.com/v1/chat/completions\n",
      "DEBUG:httpcore.connection:close.started\n",
      "DEBUG:httpcore.connection:close.complete\n",
      "DEBUG:httpcore.connection:connect_tcp.started host='api.openai.com' port=443 local_address=None timeout=None socket_options=None\n",
      "DEBUG:httpcore.connection:connect_tcp.complete return_value=<httpcore._backends.sync.SyncStream object at 0x115bc7a90>\n",
      "DEBUG:httpcore.connection:start_tls.started ssl_context=<ssl.SSLContext object at 0x107e57920> server_hostname='api.openai.com' timeout=None\n",
      "DEBUG:httpcore.connection:start_tls.complete return_value=<httpcore._backends.sync.SyncStream object at 0x115b23e10>\n",
      "DEBUG:httpcore.http11:send_request_headers.started request=<Request [b'POST']>\n",
      "DEBUG:httpcore.http11:send_request_headers.complete\n",
      "DEBUG:httpcore.http11:send_request_body.started request=<Request [b'POST']>\n",
      "DEBUG:httpcore.http11:send_request_body.complete\n",
      "DEBUG:httpcore.http11:receive_response_headers.started request=<Request [b'POST']>\n"
     ]
    },
    {
     "name": "stdout",
     "output_type": "stream",
     "text": [
      "--- Ejecutando Nodo: route_based_on_state_node ---\n",
      "\n",
      "--- DEBUG: Evaluating Routing Decision ---\n",
      "--- DEBUG CHECK PERFIL ---\n",
      "Input prefs object: altura_mayor_190='sí' peso_mayor_100='no' uso_profesional='no' valora_estetica='sí' solo_electricos='no' transmision_preferida=<Transmision.AMBOS: 'ambos'> apasionado_motor='sí' aventura=<NivelAventura.ocasional: 'ocasional'>\n",
      "Input prefs type: <class 'graph.perfil.state.PerfilUsuario'>\n",
      "Checking field 'altura_mayor_190': value='sí', type=<class 'str'>\n",
      "Checking field 'peso_mayor_100': value='no', type=<class 'str'>\n",
      "Checking field 'uso_profesional': value='no', type=<class 'str'>\n",
      "Checking field 'valora_estetica': value='sí', type=<class 'str'>\n",
      "Checking field 'solo_electricos': value='no', type=<class 'str'>\n",
      "Checking field 'transmision_preferida': value='Transmision.AMBOS', type=<enum 'Transmision'>\n",
      "Checking field 'apasionado_motor': value='sí', type=<class 'str'>\n",
      "Checking field 'aventura': value='NivelAventura.ocasional', type=<enum 'NivelAventura'>\n",
      "DEBUG (Validation Perfil) ► Todos los campos obligatorios del perfil están presentes.\n",
      "DEBUG Router: Prefs OK? True\n",
      "--- DEBUG CHECK PASAJEROS ---\n",
      "Input info pasajeros: frecuencia='frecuente' num_ninos_silla=1 num_otros_pasajeros=1\n",
      "DEBUG (Validation Pasajeros) ► Frecuencia='frecuente'. Niños silla y otros pasajeros tienen valor. Considerado COMPLETO.\n",
      "DEBUG Router: Pasajeros OK? True\n",
      "DEBUG (Validation Filtros) ► Todos los campos obligatorios de filtros ('tipo_mecanica') están presentes y válidos.\n",
      "DEBUG Router: Filtros OK? True\n",
      "--- DEBUG CHECK ECONOMIA (Manual) ---\n",
      "Input econ object: modo=None submodo=None ingresos=None ahorro=None pago_contado=None cuota_max=None entrada=None anos_posesion=None\n",
      "DEBUG (Validation Economía Manual) ► econ.modo es None.\n",
      "DEBUG Router: Economía OK? False\n",
      "DEBUG Router: Pesos Calculados? False\n",
      "DEBUG Router: Coches Buscados? False\n",
      "--- DEBUG CHECK PERFIL ---\n",
      "Input prefs object: altura_mayor_190='sí' peso_mayor_100='no' uso_profesional='no' valora_estetica='sí' solo_electricos='no' transmision_preferida=<Transmision.AMBOS: 'ambos'> apasionado_motor='sí' aventura=<NivelAventura.ocasional: 'ocasional'>\n",
      "Input prefs type: <class 'graph.perfil.state.PerfilUsuario'>\n",
      "Checking field 'altura_mayor_190': value='sí', type=<class 'str'>\n",
      "Checking field 'peso_mayor_100': value='no', type=<class 'str'>\n",
      "Checking field 'uso_profesional': value='no', type=<class 'str'>\n",
      "Checking field 'valora_estetica': value='sí', type=<class 'str'>\n",
      "Checking field 'solo_electricos': value='no', type=<class 'str'>\n",
      "Checking field 'transmision_preferida': value='Transmision.AMBOS', type=<enum 'Transmision'>\n",
      "Checking field 'apasionado_motor': value='sí', type=<class 'str'>\n",
      "Checking field 'aventura': value='NivelAventura.ocasional', type=<enum 'NivelAventura'>\n",
      "DEBUG (Validation Perfil) ► Todos los campos obligatorios del perfil están presentes.\n",
      "--- DEBUG CHECK PASAJEROS ---\n",
      "Input info pasajeros: frecuencia='frecuente' num_ninos_silla=1 num_otros_pasajeros=1\n",
      "DEBUG (Validation Pasajeros) ► Frecuencia='frecuente'. Niños silla y otros pasajeros tienen valor. Considerado COMPLETO.\n",
      "DEBUG (Validation Filtros) ► Todos los campos obligatorios de filtros ('tipo_mecanica') están presentes y válidos.\n",
      "--- DEBUG CHECK ECONOMIA (Manual) ---\n",
      "Input econ object: modo=None submodo=None ingresos=None ahorro=None pago_contado=None cuota_max=None entrada=None anos_posesion=None\n",
      "DEBUG (Validation Economía Manual) ► econ.modo es None.\n",
      "DEBUG Router: Decisión -> recopilar_economia\n",
      "--- Ejecutando Nodo: recopilar_economia_node ---\n",
      "DEBUG (Economía) ► Llamando a llm_economia...\n"
     ]
    },
    {
     "name": "stderr",
     "output_type": "stream",
     "text": [
      "DEBUG:httpcore.http11:receive_response_headers.complete return_value=(b'HTTP/1.1', 200, b'OK', [(b'Date', b'Tue, 06 May 2025 17:26:45 GMT'), (b'Content-Type', b'application/json'), (b'Transfer-Encoding', b'chunked'), (b'Connection', b'keep-alive'), (b'access-control-expose-headers', b'X-Request-ID'), (b'openai-organization', b'user-ic25pcewdjuowsz9q2ektvrn'), (b'openai-processing-ms', b'2353'), (b'openai-version', b'2020-10-01'), (b'x-ratelimit-limit-requests', b'10000'), (b'x-ratelimit-limit-tokens', b'200000'), (b'x-ratelimit-remaining-requests', b'9999'), (b'x-ratelimit-remaining-tokens', b'197433'), (b'x-ratelimit-reset-requests', b'8.64s'), (b'x-ratelimit-reset-tokens', b'769ms'), (b'x-request-id', b'req_05809d4b3b29eaaee714986e7a6ee0ae'), (b'strict-transport-security', b'max-age=31536000; includeSubDomains; preload'), (b'cf-cache-status', b'DYNAMIC'), (b'X-Content-Type-Options', b'nosniff'), (b'Server', b'cloudflare'), (b'CF-RAY', b'93ba2f269c693108-MRS'), (b'Content-Encoding', b'gzip'), (b'alt-svc', b'h3=\":443\"; ma=86400')])\n",
      "INFO:httpx:HTTP Request: POST https://api.openai.com/v1/chat/completions \"HTTP/1.1 200 OK\"\n",
      "DEBUG:httpcore.http11:receive_response_body.started request=<Request [b'POST']>\n",
      "DEBUG:httpcore.http11:receive_response_body.complete\n",
      "DEBUG:httpcore.http11:response_closed.started\n",
      "DEBUG:httpcore.http11:response_closed.complete\n",
      "DEBUG:openai._base_client:HTTP Response: POST https://api.openai.com/v1/chat/completions \"200 OK\" Headers({'date': 'Tue, 06 May 2025 17:26:45 GMT', 'content-type': 'application/json', 'transfer-encoding': 'chunked', 'connection': 'keep-alive', 'access-control-expose-headers': 'X-Request-ID', 'openai-organization': 'user-ic25pcewdjuowsz9q2ektvrn', 'openai-processing-ms': '2353', 'openai-version': '2020-10-01', 'x-ratelimit-limit-requests': '10000', 'x-ratelimit-limit-tokens': '200000', 'x-ratelimit-remaining-requests': '9999', 'x-ratelimit-remaining-tokens': '197433', 'x-ratelimit-reset-requests': '8.64s', 'x-ratelimit-reset-tokens': '769ms', 'x-request-id': 'req_05809d4b3b29eaaee714986e7a6ee0ae', 'strict-transport-security': 'max-age=31536000; includeSubDomains; preload', 'cf-cache-status': 'DYNAMIC', 'x-content-type-options': 'nosniff', 'server': 'cloudflare', 'cf-ray': '93ba2f269c693108-MRS', 'content-encoding': 'gzip', 'alt-svc': 'h3=\":443\"; ma=86400'})\n",
      "DEBUG:openai._base_client:request_id: req_05809d4b3b29eaaee714986e7a6ee0ae\n"
     ]
    },
    {
     "name": "stdout",
     "output_type": "stream",
     "text": [
      "DEBUG (Economía) ► Respuesta llm_economia: economia=EconomiaUsuario(modo=1, submodo=None, ingresos=None, ahorro=None, pago_contado=None, cuota_max=None, entrada=None, anos_posesion=None) mensaje_validacion='Entendido, usaremos el modo asesor financiero. Para poder calcular un presupuesto adecuado, ¿podrías indicarme cuales son tus ingresos netos anuales aproximados?'\n",
      "DEBUG (Economía) ► Estado economía actualizado: modo=1 submodo=None ingresos=None ahorro=None pago_contado=None cuota_max=None entrada=None anos_posesion=None\n",
      "DEBUG (Economía) ► Guardando pregunta pendiente: Entendido, usaremos el modo asesor financiero. Para poder calcular un presupuesto adecuado, ¿podrías indicarme cuales son tus ingresos netos anuales aproximados?\n",
      "--- Ejecutando Nodo: validar_economia_node ---\n",
      "--- DEBUG CHECK ECONOMIA (Manual) ---\n",
      "Input econ object: modo=1 submodo=None ingresos=None ahorro=None pago_contado=None cuota_max=None entrada=None anos_posesion=None\n",
      "DEBUG (Validation Economía Manual) ► Modo 1 INCOMPLETO (faltan: ingresos, ahorro, anos_posesion).\n",
      "DEBUG (Economía) ► Validación: Economía considerada INCOMPLETA.\n",
      "--- Evaluando Condición: ruta_decision_economia ---\n",
      "--- DEBUG CHECK ECONOMIA (Manual) ---\n",
      "Input econ object: modo=1 submodo=None ingresos=None ahorro=None pago_contado=None cuota_max=None entrada=None anos_posesion=None\n",
      "DEBUG (Validation Economía Manual) ► Modo 1 INCOMPLETO (faltan: ingresos, ahorro, anos_posesion).\n",
      "DEBUG (Condición Economía) ► Economía INCOMPLETA. Se necesita pregunta.\n",
      "--- Ejecutando Nodo: preguntar_economia_node ---\n",
      "DEBUG (Preguntar Economía) ► Usando pregunta guardada: Entendido, usaremos el modo asesor financiero. Para poder calcular un presupuesto adecuado, ¿podrías indicarme cuales son tus ingresos netos anuales aproximados?\n",
      "DEBUG (Preguntar Economía) ► Mensaje final añadido: Entendido, usaremos el modo asesor financiero. Para poder calcular un presupuesto adecuado, ¿podrías indicarme cuales son tus ingresos netos anuales aproximados?\n",
      "==================================\u001b[1m Ai Message \u001b[0m==================================\n",
      "\n",
      "Entendido, usaremos el modo asesor financiero. Para poder calcular un presupuesto adecuado, ¿podrías indicarme cuales son tus ingresos netos anuales aproximados?\n"
     ]
    }
   ],
   "source": [
    "config = {\"configurable\": {\"thread_id\": \"2\"}}\n",
    "input_message = HumanMessage(content=\"asesorame por favor\")\n",
    "output = graph.invoke({\"messages\": [input_message]}, config) \n",
    "for m in output['messages'][-1:]:\n",
    "    m.pretty_print()"
   ]
  },
  {
   "cell_type": "code",
   "execution_count": 14,
   "metadata": {},
   "outputs": [
    {
     "name": "stderr",
     "output_type": "stream",
     "text": [
      "DEBUG:openai._base_client:Request options: {'method': 'post', 'url': '/chat/completions', 'headers': {'X-Stainless-Helper-Method': 'beta.chat.completions.parse'}, 'files': None, 'post_parser': <function Completions.parse.<locals>.parser at 0x123508cc0>, 'json_data': {'messages': [{'content': '<Role>\\nEres un asistente experto en finanzas automotrices. Tu objetivo es recopilar información económica del usuario para ayudarle a definir su presupuesto(modo 1: con criterios de inteligencia financiera), o bien definir un presupuesto basado en sus indicaciones(modo2: indica el mismo cuánto y cómo gastar). Debes generar una respuesta JSON que SIEMPRE se ajuste al siguiente esquema Pydantic:\\n``json\\n{{\\n  \"$defs\": {{\\n    \"EconomiaUsuario\": {{\\n      \"properties\": {{\\n        \"modo\": {{\\n          \"anyOf\": [\\n            {{\\n              \"enum\": [\\n                1,\\n                2\\n              ],\\n              \"type\": \"integer\"\\n            }},\\n            {{\\n              \"type\": \"null\"\\n            }}\\n          ],\\n          \"default\": null,\\n          \"title\": \"Modo\"\\n        }},\\n        \"submodo\": {{\\n          \"anyOf\": [\\n            {{\\n              \"enum\": [\\n                1,\\n                2\\n              ],\\n              \"type\": \"integer\"\\n            }},\\n            {{\\n              \"type\": \"null\"\\n            }}\\n          ],\\n          \"default\": null,\\n          \"title\": \"Submodo\"\\n        }},\\n        \"ingresos\": {{\\n          \"anyOf\": [\\n            {{\\n              \"type\": \"number\"\\n            }},\\n            {{\\n              \"type\": \"null\"\\n            }}\\n          ],\\n          \"default\": null,\\n          \"title\": \"Ingresos\"\\n        }},\\n        \"ahorro\": {{\\n          \"anyOf\": [\\n            {{\\n              \"type\": \"number\"\\n            }},\\n            {{\\n              \"type\": \"null\"\\n            }}\\n          ],\\n          \"default\": null,\\n          \"title\": \"Ahorro\"\\n        }},\\n        \"pago_contado\": {{\\n          \"anyOf\": [\\n            {{\\n              \"type\": \"number\"\\n            }},\\n            {{\\n              \"type\": \"null\"\\n            }}\\n          ],\\n          \"default\": null,\\n          \"title\": \"Pago Contado\"\\n        }},\\n        \"cuota_max\": {{\\n          \"anyOf\": [\\n            {{\\n              \"type\": \"number\"\\n            }},\\n            {{\\n              \"type\": \"null\"\\n            }}\\n          ],\\n          \"default\": null,\\n          \"title\": \"Cuota Max\"\\n        }},\\n        \"entrada\": {{\\n          \"anyOf\": [\\n            {{\\n              \"type\": \"number\"\\n            }},\\n            {{\\n              \"type\": \"null\"\\n            }}\\n          ],\\n          \"default\": null,\\n          \"title\": \"Entrada\"\\n        }},\\n        \"anos_posesion\": {{\\n          \"anyOf\": [\\n            {{\\n              \"type\": \"integer\"\\n            }},\\n            {{\\n              \"type\": \"null\"\\n            }}\\n          ],\\n          \"default\": null,\\n          \"description\": \"Número estimado de años que el usuario planea conservar el vehículo. Aplica para modo 1\",\\n          \"title\": \"Anos Posesion\"\\n        }}\\n      }},\\n      \"title\": \"EconomiaUsuario\",\\n      \"type\": \"object\"\\n    }}\\n  }},\\n  \"properties\": {{\\n    \"economia\": {{\\n      \"$ref\": \"#/$defs/EconomiaUsuario\",\\n      \"description\": \"Objeto que contiene TODA la información económica recopilada o actualizada.\"\\n    }},\\n    \"mensaje_validacion\": {{\\n      \"title\": \"Mensaje Validacion\",\\n      \"type\": \"string\"\\n    }}\\n  }},\\n  \"required\": [\\n    \"economia\",\\n    \"mensaje_validacion\"\\n  ],\\n  \"title\": \"ResultadoEconomia\",\\n  \"type\": \"object\"\\n}}\\n\\n</Role>\\n\\n\\n<Instrucciones_Revisadas>\\n1.  Analiza la conversación para determinar el `modo` (1 o 2) y `submodo` (si `modo` es 2).\\n\\n2.  **Lógica de Preguntas y Confirmación:**\\n    a.  **Si `modo` aún es `null`:**\\n        -   `economia` debe tener todos los campos en `null`.\\n        -   `mensaje_validacion` DEBE ser: \"Con el fin de conocer tus preferencias financieras que opcion (modo) prefieres: \\\\n 1. Prefiero que me aconsejes con criterios de inteligencia financiera.\\\\n 2. Prefiero indicar yo mismo cuánto y cómo gastar.\"\\n        -   **FIN para este turno.**\\n\\n    b.  **Si `modo` es `1` (Asesoramiento):**\\n        -   Verifica si tienes valores válidos (no `null`) para `ingresos`, `ahorro` Y `anos_posesion`.\\n        -   **Si los tres (`ingresos`, `ahorro`, `anos_posesion`) tienen valor:** `mensaje_validacion` puede ser una confirmación (ej: \"Ok, datos para Modo 1 recibidos.\") o `\"\"`. Rellena `economia` con estos datos.\\n        -   **Si falta alguno de los tres:** `mensaje_validacion` DEBE ser una pregunta para el PRIMER campo faltante en el orden: `ingresos`, luego `ahorro`, luego `anos_posesion`. Rellena `economia` con los datos que ya tengas.\\n        -   **FIN para este turno.**\\n\\n    c.  **Si `modo` es `2` (Usuario define presupuesto):**\\n        -   Verifica si `submodo` tiene valor (1 o 2).\\n        -   **Si `submodo` es `null`:** `mensaje_validacion` DEBE preguntar por el submodo (ej: \"¿Prefieres indicar un pago total al contado o una cuota mensual máxima?\"). Rellena `economia` con `modo: 2` y el resto `null`.\\n        -   **Si `submodo` es `1` (Contado):** Verifica si `pago_contado` tiene valor.\\n            -   Si `pago_contado` tiene valor: `mensaje_validacion` puede ser confirmación o `\"\"`.\\n            -   Si `pago_contado` es `null`: `mensaje_validacion` DEBE preguntar por `pago_contado`.\\n        -   **Si `submodo` es `2` (Cuotas):** Verifica si `cuota_max` tiene valor.\\n            -   Si `cuota_max` tiene valor: `mensaje_validacion` puede ser confirmación o `\"\"`. (El campo `entrada` es opcional).\\n            -   Si `cuota_max` es `null`: `mensaje_validacion` DEBE preguntar por `cuota_max`.\\n        -   Rellena `economia` con los datos que tengas.\\n        -   **FIN para este turno.**\\n\\n3.  **Principios Generales:**\\n    -   En cada turno, el objeto `economia` en tu salida JSON debe reflejar el estado actual de la información recopilada.\\n    -   No inventes valores. Si un dato no se ha proporcionado o inferido claramente, su valor debe ser `null`.\\n    -   Usa el historial de conversación para mantener el contexto.\\n</Instrucciones_Revisadas>\\n\\n<Ejemplos>\\n\\n**Ejemplo 1: Inicio Economía: LLM debe preguntar por Modo 1 vs Modo 2**\\n* Contexto (Historial + Último mensaje): `[..., AIMessage(content=\\'Ok, filtros técnicos definidos.\\')]` \\n  *(Nota: El historial previo no importa tanto como el hecho de que \\'modo\\' es null)*\\n* Salida JSON Esperada:\\n    ```json\\n    {{\\n      \"economia\": {{ // Objeto economía vacío o con todos los campos en null\\n        \"modo\": null,\\n        \"submodo\": null,\\n        \"ingresos\": null, \\n        \"ahorro\": null,   \\n        \"pago_contado\": null,\\n        \"cuota_max\": null,\\n        \"entrada\": null,\\n        \"anos_posesion\": null // Incluir el campo nuevo\\n      }},\\n      \"mensaje_validacion\": \"Con el fin de conocer tus preferencias financieras que opcion prefieres:\\\\n  1.Prefiero que me aconsejes con criterios de inteligencia financiera.\\\\n  2. Prefiero indicar yo mismo cuánto y cómo gastar.\" // <-- Pregunta exacta requerida por la regla\\n    }}\\n    ```\\n**Ejemplo 2: Usuario elige Modo 1 (Asesoramiento), pero LLM necesita preguntar por ingresos**\\n* Contexto (Historial + Último mensaje): `[..., HumanMessage(content=\\'Prefiero que me asesores tú.\\')]`\\n* Salida JSON Esperada:\\n    ```json\\n    {{\\n      \"economia\": {{\\n        \"modo\": 1, // LLM identifica el modo\\n        \"submodo\": null,\\n        \"ingresos\": null, // Aún no tiene el dato obligatorio\\n        \"ahorro\": null,   // Aún no tiene el dato obligatorio\\n        \"pago_contado\": null,\\n        \"cuota_max\": null,\\n        \"entrada\": null,\\n        \"anos_posesion\": null\\n      }},\\n      \"mensaje_validacion\": \"Entendido, usaremos el modo asesor financiero. Para poder calcular un presupuesto adecuado, ¿podrías indicarme cuales son tus ingresos netos anuales aproximados?\" // Pregunta por el primer dato faltante\\n    }}\\n    ```\\n\\n**Ejemplo 3: Usuario elige Modo 2 (Define Presupuesto), pero LLM necesita preguntar por submodo (contado/cuotas)**\\n* Contexto (Historial + Último mensaje): `[..., HumanMessage(content=\\'Mejor defino yo el presupuesto.\\')]`\\n* Salida JSON Esperada:\\n    ```json\\n    {{\\n      \"economia\": {{\\n        \"modo\": 2, // LLM identifica el modo\\n        \"submodo\": null, // Falta el submodo obligatorio\\n        \"ingresos\": null,\\n        \"ahorro\": null,\\n        \"pago_contado\": null,\\n        \"cuota_max\": null,\\n        \"entrada\": null,\\n        \"anos_posesion\": null\\n      }},\\n      \"mensaje_validacion\": \"De acuerdo, tú defines el presupuesto. Que opción prefieres?\\\\n 1)Tienes pensado pagar el coche al contado\\\\n  2) prefieres financiarlo en cuotas mensuales\" // Pregunta por el submodo\\n    }}\\n    ```\\nEjemplo 4:\\n{{\\n  \"economia\": {{\"modo\": 1, \"submodo\": null, \"ingresos\": 45000.0, \"ahorro\": 10000.0, \"pago_contado\": null, \"cuota_max\": null, \"entrada\": null,\"anos_posesion\": null}},\\n  \"mensaje_validacion\": \"¿Durante cuántos años aproximadamente planeas conservar el vehículo?\" \\n\\n}}\\nEjemplo 5: Modo 1 completo\\n{{ \\n  \"economia\": {{ \\n    \"modo\": 1, \\n    \"submodo\": null, \\n    \"ingresos\": 45000.0, \\n    \"ahorro\": 10000.0, \\n    \"pago_contado\": null, \\n    \"cuota_max\": null, \\n    \"entrada\": null,\\n    \"anos_posesion\": 5 \\n  }},\\n  \"mensaje_validacion\": \"¡Entendido! Ya tengo los datos necesarios para el Modo 1.\"\\n}}\\n\\n\\n</Ejemplos>\\n\\n<Formato esperado>\\nGenera el JSON:\\n{{\\n  \"economia\": {{ ... }},\\n  \"mensaje_validacion\": \"...\"\\n}}', 'role': 'user'}, {'content': 'Quiero un coche mido 1.93. Peso 80 kg', 'role': 'user'}, {'content': '¿Usarás el coche para trabajo o para uso personal y familiar?', 'role': 'assistant'}, {'content': 'para uso personal', 'role': 'user'}, {'content': '¿Valoras especialmente la estética del coche?', 'role': 'assistant'}, {'content': 'si valoro la estetica', 'role': 'user'}, {'content': '¿Quieres solo coches eléctricos?', 'role': 'assistant'}, {'content': 'no a combustion tambien', 'role': 'user'}, {'content': '¿Qué tipo de transmisión prefieres?\\n 1) Automático\\n 2) Manual\\n 3) Ambos', 'role': 'assistant'}, {'content': 'la numero 3', 'role': 'user'}, {'content': 'Hablando de aventura, ¿con cuál de estas afirmaciones te identificas más?\\n 1) No pisas nada que no sea asfalto (ninguna)\\n 2) Salidas fuera de asfalto ocasionales (ocasional)\\n 3) Circular en condiciones duras con total garantía (extrema)', 'role': 'assistant'}, {'content': 'la 2', 'role': 'user'}, {'content': '¿Eres un apasionado del mundo automotriz?', 'role': 'assistant'}, {'content': 'si, lo soy', 'role': 'user'}, {'content': 'Cuéntame, ¿sueles viajar con acompañantes en el coche habitualmente? ¿cuántos?', 'role': 'assistant'}, {'content': 'si, llevo 2 acompañantes', 'role': 'user'}, {'content': 'Entendido, 2 acompañantes habitualmente. ¿Alguno de ellos es un niño que necesite sillita de seguridad?', 'role': 'assistant'}, {'content': 'si uno de ellos es mi hijo', 'role': 'user'}, {'content': 'Con el fin de conocer tus preferencias financieras que opcion prefieres:\\n  1. Prefiero que me aconsejes con criterios de inteligencia financiera.\\n  2. Prefiero indicar yo mismo cuánto y cómo gastar.', 'role': 'assistant'}, {'content': 'asesorame por favor', 'role': 'user'}, {'content': 'Entendido, usaremos el modo asesor financiero. Para poder calcular un presupuesto adecuado, ¿podrías indicarme cuales son tus ingresos netos anuales aproximados?', 'role': 'assistant'}, {'content': '35000 anuales', 'role': 'user'}], 'model': 'gpt-4o-mini', 'response_format': {'type': 'json_schema', 'json_schema': {'schema': {'$defs': {'EconomiaUsuario': {'properties': {'modo': {'anyOf': [{'enum': [1, 2], 'type': 'integer'}, {'type': 'null'}], 'title': 'Modo'}, 'submodo': {'anyOf': [{'enum': [1, 2], 'type': 'integer'}, {'type': 'null'}], 'title': 'Submodo'}, 'ingresos': {'anyOf': [{'type': 'number'}, {'type': 'null'}], 'title': 'Ingresos'}, 'ahorro': {'anyOf': [{'type': 'number'}, {'type': 'null'}], 'title': 'Ahorro'}, 'pago_contado': {'anyOf': [{'type': 'number'}, {'type': 'null'}], 'title': 'Pago Contado'}, 'cuota_max': {'anyOf': [{'type': 'number'}, {'type': 'null'}], 'title': 'Cuota Max'}, 'entrada': {'anyOf': [{'type': 'number'}, {'type': 'null'}], 'title': 'Entrada'}, 'anos_posesion': {'anyOf': [{'type': 'integer'}, {'type': 'null'}], 'description': 'Número estimado de años que el usuario planea conservar el vehículo.', 'title': 'Anos Posesion'}}, 'title': 'EconomiaUsuario', 'type': 'object', 'additionalProperties': False, 'required': ['modo', 'submodo', 'ingresos', 'ahorro', 'pago_contado', 'cuota_max', 'entrada', 'anos_posesion']}}, 'properties': {'economia': {'description': 'Objeto que contiene TODA la información económica recopilada o actualizada.', 'properties': {'modo': {'anyOf': [{'enum': [1, 2], 'type': 'integer'}, {'type': 'null'}], 'title': 'Modo'}, 'submodo': {'anyOf': [{'enum': [1, 2], 'type': 'integer'}, {'type': 'null'}], 'title': 'Submodo'}, 'ingresos': {'anyOf': [{'type': 'number'}, {'type': 'null'}], 'title': 'Ingresos'}, 'ahorro': {'anyOf': [{'type': 'number'}, {'type': 'null'}], 'title': 'Ahorro'}, 'pago_contado': {'anyOf': [{'type': 'number'}, {'type': 'null'}], 'title': 'Pago Contado'}, 'cuota_max': {'anyOf': [{'type': 'number'}, {'type': 'null'}], 'title': 'Cuota Max'}, 'entrada': {'anyOf': [{'type': 'number'}, {'type': 'null'}], 'title': 'Entrada'}, 'anos_posesion': {'anyOf': [{'type': 'integer'}, {'type': 'null'}], 'description': 'Número estimado de años que el usuario planea conservar el vehículo.', 'title': 'Anos Posesion'}}, 'title': 'EconomiaUsuario', 'type': 'object', 'additionalProperties': False, 'required': ['modo', 'submodo', 'ingresos', 'ahorro', 'pago_contado', 'cuota_max', 'entrada', 'anos_posesion']}, 'mensaje_validacion': {'title': 'Mensaje Validacion', 'type': 'string'}}, 'required': ['economia', 'mensaje_validacion'], 'title': 'ResultadoEconomia', 'type': 'object', 'additionalProperties': False}, 'name': 'ResultadoEconomia', 'strict': True}}, 'stream': False, 'temperature': 0.1}}\n",
      "DEBUG:openai._base_client:Sending HTTP Request: POST https://api.openai.com/v1/chat/completions\n",
      "DEBUG:httpcore.connection:close.started\n",
      "DEBUG:httpcore.connection:close.complete\n",
      "DEBUG:httpcore.connection:connect_tcp.started host='api.openai.com' port=443 local_address=None timeout=None socket_options=None\n",
      "DEBUG:httpcore.connection:connect_tcp.complete return_value=<httpcore._backends.sync.SyncStream object at 0x115b14d50>\n",
      "DEBUG:httpcore.connection:start_tls.started ssl_context=<ssl.SSLContext object at 0x107e57920> server_hostname='api.openai.com' timeout=None\n",
      "DEBUG:httpcore.connection:start_tls.complete return_value=<httpcore._backends.sync.SyncStream object at 0x1158a4f50>\n",
      "DEBUG:httpcore.http11:send_request_headers.started request=<Request [b'POST']>\n",
      "DEBUG:httpcore.http11:send_request_headers.complete\n",
      "DEBUG:httpcore.http11:send_request_body.started request=<Request [b'POST']>\n",
      "DEBUG:httpcore.http11:send_request_body.complete\n",
      "DEBUG:httpcore.http11:receive_response_headers.started request=<Request [b'POST']>\n"
     ]
    },
    {
     "name": "stdout",
     "output_type": "stream",
     "text": [
      "--- Ejecutando Nodo: route_based_on_state_node ---\n",
      "\n",
      "--- DEBUG: Evaluating Routing Decision ---\n",
      "--- DEBUG CHECK PERFIL ---\n",
      "Input prefs object: altura_mayor_190='sí' peso_mayor_100='no' uso_profesional='no' valora_estetica='sí' solo_electricos='no' transmision_preferida=<Transmision.AMBOS: 'ambos'> apasionado_motor='sí' aventura=<NivelAventura.ocasional: 'ocasional'>\n",
      "Input prefs type: <class 'graph.perfil.state.PerfilUsuario'>\n",
      "Checking field 'altura_mayor_190': value='sí', type=<class 'str'>\n",
      "Checking field 'peso_mayor_100': value='no', type=<class 'str'>\n",
      "Checking field 'uso_profesional': value='no', type=<class 'str'>\n",
      "Checking field 'valora_estetica': value='sí', type=<class 'str'>\n",
      "Checking field 'solo_electricos': value='no', type=<class 'str'>\n",
      "Checking field 'transmision_preferida': value='Transmision.AMBOS', type=<enum 'Transmision'>\n",
      "Checking field 'apasionado_motor': value='sí', type=<class 'str'>\n",
      "Checking field 'aventura': value='NivelAventura.ocasional', type=<enum 'NivelAventura'>\n",
      "DEBUG (Validation Perfil) ► Todos los campos obligatorios del perfil están presentes.\n",
      "DEBUG Router: Prefs OK? True\n",
      "--- DEBUG CHECK PASAJEROS ---\n",
      "Input info pasajeros: frecuencia='frecuente' num_ninos_silla=1 num_otros_pasajeros=1\n",
      "DEBUG (Validation Pasajeros) ► Frecuencia='frecuente'. Niños silla y otros pasajeros tienen valor. Considerado COMPLETO.\n",
      "DEBUG Router: Pasajeros OK? True\n",
      "DEBUG (Validation Filtros) ► Todos los campos obligatorios de filtros ('tipo_mecanica') están presentes y válidos.\n",
      "DEBUG Router: Filtros OK? True\n",
      "--- DEBUG CHECK ECONOMIA (Manual) ---\n",
      "Input econ object: modo=1 submodo=None ingresos=None ahorro=None pago_contado=None cuota_max=None entrada=None anos_posesion=None\n",
      "DEBUG (Validation Economía Manual) ► Modo 1 INCOMPLETO (faltan: ingresos, ahorro, anos_posesion).\n",
      "DEBUG Router: Economía OK? False\n",
      "DEBUG Router: Pesos Calculados? False\n",
      "DEBUG Router: Coches Buscados? False\n",
      "--- DEBUG CHECK PERFIL ---\n",
      "Input prefs object: altura_mayor_190='sí' peso_mayor_100='no' uso_profesional='no' valora_estetica='sí' solo_electricos='no' transmision_preferida=<Transmision.AMBOS: 'ambos'> apasionado_motor='sí' aventura=<NivelAventura.ocasional: 'ocasional'>\n",
      "Input prefs type: <class 'graph.perfil.state.PerfilUsuario'>\n",
      "Checking field 'altura_mayor_190': value='sí', type=<class 'str'>\n",
      "Checking field 'peso_mayor_100': value='no', type=<class 'str'>\n",
      "Checking field 'uso_profesional': value='no', type=<class 'str'>\n",
      "Checking field 'valora_estetica': value='sí', type=<class 'str'>\n",
      "Checking field 'solo_electricos': value='no', type=<class 'str'>\n",
      "Checking field 'transmision_preferida': value='Transmision.AMBOS', type=<enum 'Transmision'>\n",
      "Checking field 'apasionado_motor': value='sí', type=<class 'str'>\n",
      "Checking field 'aventura': value='NivelAventura.ocasional', type=<enum 'NivelAventura'>\n",
      "DEBUG (Validation Perfil) ► Todos los campos obligatorios del perfil están presentes.\n",
      "--- DEBUG CHECK PASAJEROS ---\n",
      "Input info pasajeros: frecuencia='frecuente' num_ninos_silla=1 num_otros_pasajeros=1\n",
      "DEBUG (Validation Pasajeros) ► Frecuencia='frecuente'. Niños silla y otros pasajeros tienen valor. Considerado COMPLETO.\n",
      "DEBUG (Validation Filtros) ► Todos los campos obligatorios de filtros ('tipo_mecanica') están presentes y válidos.\n",
      "--- DEBUG CHECK ECONOMIA (Manual) ---\n",
      "Input econ object: modo=1 submodo=None ingresos=None ahorro=None pago_contado=None cuota_max=None entrada=None anos_posesion=None\n",
      "DEBUG (Validation Economía Manual) ► Modo 1 INCOMPLETO (faltan: ingresos, ahorro, anos_posesion).\n",
      "DEBUG Router: Decisión -> recopilar_economia\n",
      "--- Ejecutando Nodo: recopilar_economia_node ---\n",
      "DEBUG (Economía) ► Llamando a llm_economia...\n"
     ]
    },
    {
     "name": "stderr",
     "output_type": "stream",
     "text": [
      "DEBUG:httpcore.http11:receive_response_headers.complete return_value=(b'HTTP/1.1', 200, b'OK', [(b'Date', b'Tue, 06 May 2025 17:27:05 GMT'), (b'Content-Type', b'application/json'), (b'Transfer-Encoding', b'chunked'), (b'Connection', b'keep-alive'), (b'access-control-expose-headers', b'X-Request-ID'), (b'openai-organization', b'user-ic25pcewdjuowsz9q2ektvrn'), (b'openai-processing-ms', b'1975'), (b'openai-version', b'2020-10-01'), (b'x-ratelimit-limit-requests', b'10000'), (b'x-ratelimit-limit-tokens', b'200000'), (b'x-ratelimit-remaining-requests', b'9999'), (b'x-ratelimit-remaining-tokens', b'197387'), (b'x-ratelimit-reset-requests', b'8.64s'), (b'x-ratelimit-reset-tokens', b'783ms'), (b'x-request-id', b'req_c342ca194429148aef582a94ab676807'), (b'strict-transport-security', b'max-age=31536000; includeSubDomains; preload'), (b'cf-cache-status', b'DYNAMIC'), (b'X-Content-Type-Options', b'nosniff'), (b'Server', b'cloudflare'), (b'CF-RAY', b'93ba2fa5db79e183-MRS'), (b'Content-Encoding', b'gzip'), (b'alt-svc', b'h3=\":443\"; ma=86400')])\n",
      "INFO:httpx:HTTP Request: POST https://api.openai.com/v1/chat/completions \"HTTP/1.1 200 OK\"\n",
      "DEBUG:httpcore.http11:receive_response_body.started request=<Request [b'POST']>\n",
      "DEBUG:httpcore.http11:receive_response_body.complete\n",
      "DEBUG:httpcore.http11:response_closed.started\n",
      "DEBUG:httpcore.http11:response_closed.complete\n",
      "DEBUG:openai._base_client:HTTP Response: POST https://api.openai.com/v1/chat/completions \"200 OK\" Headers({'date': 'Tue, 06 May 2025 17:27:05 GMT', 'content-type': 'application/json', 'transfer-encoding': 'chunked', 'connection': 'keep-alive', 'access-control-expose-headers': 'X-Request-ID', 'openai-organization': 'user-ic25pcewdjuowsz9q2ektvrn', 'openai-processing-ms': '1975', 'openai-version': '2020-10-01', 'x-ratelimit-limit-requests': '10000', 'x-ratelimit-limit-tokens': '200000', 'x-ratelimit-remaining-requests': '9999', 'x-ratelimit-remaining-tokens': '197387', 'x-ratelimit-reset-requests': '8.64s', 'x-ratelimit-reset-tokens': '783ms', 'x-request-id': 'req_c342ca194429148aef582a94ab676807', 'strict-transport-security': 'max-age=31536000; includeSubDomains; preload', 'cf-cache-status': 'DYNAMIC', 'x-content-type-options': 'nosniff', 'server': 'cloudflare', 'cf-ray': '93ba2fa5db79e183-MRS', 'content-encoding': 'gzip', 'alt-svc': 'h3=\":443\"; ma=86400'})\n",
      "DEBUG:openai._base_client:request_id: req_c342ca194429148aef582a94ab676807\n"
     ]
    },
    {
     "name": "stdout",
     "output_type": "stream",
     "text": [
      "DEBUG (Economía) ► Respuesta llm_economia: economia=EconomiaUsuario(modo=1, submodo=None, ingresos=35000.0, ahorro=None, pago_contado=None, cuota_max=None, entrada=None, anos_posesion=None) mensaje_validacion='¿Cuánto tienes ahorrado para la compra del coche?'\n",
      "DEBUG (Economía) ► Estado economía actualizado: modo=1 submodo=None ingresos=35000.0 ahorro=None pago_contado=None cuota_max=None entrada=None anos_posesion=None\n",
      "DEBUG (Economía) ► Guardando pregunta pendiente: ¿Cuánto tienes ahorrado para la compra del coche?\n",
      "--- Ejecutando Nodo: validar_economia_node ---\n",
      "--- DEBUG CHECK ECONOMIA (Manual) ---\n",
      "Input econ object: modo=1 submodo=None ingresos=35000.0 ahorro=None pago_contado=None cuota_max=None entrada=None anos_posesion=None\n",
      "DEBUG (Validation Economía Manual) ► Modo 1 INCOMPLETO (faltan: ahorro, anos_posesion).\n",
      "DEBUG (Economía) ► Validación: Economía considerada INCOMPLETA.\n",
      "--- Evaluando Condición: ruta_decision_economia ---\n",
      "--- DEBUG CHECK ECONOMIA (Manual) ---\n",
      "Input econ object: modo=1 submodo=None ingresos=35000.0 ahorro=None pago_contado=None cuota_max=None entrada=None anos_posesion=None\n",
      "DEBUG (Validation Economía Manual) ► Modo 1 INCOMPLETO (faltan: ahorro, anos_posesion).\n",
      "DEBUG (Condición Economía) ► Economía INCOMPLETA. Se necesita pregunta.\n",
      "--- Ejecutando Nodo: preguntar_economia_node ---\n",
      "DEBUG (Preguntar Economía) ► Usando pregunta guardada: ¿Cuánto tienes ahorrado para la compra del coche?\n",
      "DEBUG (Preguntar Economía) ► Mensaje final añadido: ¿Cuánto tienes ahorrado para la compra del coche?\n",
      "==================================\u001b[1m Ai Message \u001b[0m==================================\n",
      "\n",
      "¿Cuánto tienes ahorrado para la compra del coche?\n"
     ]
    }
   ],
   "source": [
    "config = {\"configurable\": {\"thread_id\": \"2\"}}\n",
    "input_message = HumanMessage(content=\"35000 anuales\")\n",
    "output = graph.invoke({\"messages\": [input_message]}, config) \n",
    "for m in output['messages'][-1:]:\n",
    "    m.pretty_print()"
   ]
  },
  {
   "cell_type": "code",
   "execution_count": 15,
   "metadata": {},
   "outputs": [
    {
     "name": "stderr",
     "output_type": "stream",
     "text": [
      "DEBUG:openai._base_client:Request options: {'method': 'post', 'url': '/chat/completions', 'headers': {'X-Stainless-Helper-Method': 'beta.chat.completions.parse'}, 'files': None, 'post_parser': <function Completions.parse.<locals>.parser at 0x123508f40>, 'json_data': {'messages': [{'content': '<Role>\\nEres un asistente experto en finanzas automotrices. Tu objetivo es recopilar información económica del usuario para ayudarle a definir su presupuesto(modo 1: con criterios de inteligencia financiera), o bien definir un presupuesto basado en sus indicaciones(modo2: indica el mismo cuánto y cómo gastar). Debes generar una respuesta JSON que SIEMPRE se ajuste al siguiente esquema Pydantic:\\n``json\\n{{\\n  \"$defs\": {{\\n    \"EconomiaUsuario\": {{\\n      \"properties\": {{\\n        \"modo\": {{\\n          \"anyOf\": [\\n            {{\\n              \"enum\": [\\n                1,\\n                2\\n              ],\\n              \"type\": \"integer\"\\n            }},\\n            {{\\n              \"type\": \"null\"\\n            }}\\n          ],\\n          \"default\": null,\\n          \"title\": \"Modo\"\\n        }},\\n        \"submodo\": {{\\n          \"anyOf\": [\\n            {{\\n              \"enum\": [\\n                1,\\n                2\\n              ],\\n              \"type\": \"integer\"\\n            }},\\n            {{\\n              \"type\": \"null\"\\n            }}\\n          ],\\n          \"default\": null,\\n          \"title\": \"Submodo\"\\n        }},\\n        \"ingresos\": {{\\n          \"anyOf\": [\\n            {{\\n              \"type\": \"number\"\\n            }},\\n            {{\\n              \"type\": \"null\"\\n            }}\\n          ],\\n          \"default\": null,\\n          \"title\": \"Ingresos\"\\n        }},\\n        \"ahorro\": {{\\n          \"anyOf\": [\\n            {{\\n              \"type\": \"number\"\\n            }},\\n            {{\\n              \"type\": \"null\"\\n            }}\\n          ],\\n          \"default\": null,\\n          \"title\": \"Ahorro\"\\n        }},\\n        \"pago_contado\": {{\\n          \"anyOf\": [\\n            {{\\n              \"type\": \"number\"\\n            }},\\n            {{\\n              \"type\": \"null\"\\n            }}\\n          ],\\n          \"default\": null,\\n          \"title\": \"Pago Contado\"\\n        }},\\n        \"cuota_max\": {{\\n          \"anyOf\": [\\n            {{\\n              \"type\": \"number\"\\n            }},\\n            {{\\n              \"type\": \"null\"\\n            }}\\n          ],\\n          \"default\": null,\\n          \"title\": \"Cuota Max\"\\n        }},\\n        \"entrada\": {{\\n          \"anyOf\": [\\n            {{\\n              \"type\": \"number\"\\n            }},\\n            {{\\n              \"type\": \"null\"\\n            }}\\n          ],\\n          \"default\": null,\\n          \"title\": \"Entrada\"\\n        }},\\n        \"anos_posesion\": {{\\n          \"anyOf\": [\\n            {{\\n              \"type\": \"integer\"\\n            }},\\n            {{\\n              \"type\": \"null\"\\n            }}\\n          ],\\n          \"default\": null,\\n          \"description\": \"Número estimado de años que el usuario planea conservar el vehículo. Aplica para modo 1\",\\n          \"title\": \"Anos Posesion\"\\n        }}\\n      }},\\n      \"title\": \"EconomiaUsuario\",\\n      \"type\": \"object\"\\n    }}\\n  }},\\n  \"properties\": {{\\n    \"economia\": {{\\n      \"$ref\": \"#/$defs/EconomiaUsuario\",\\n      \"description\": \"Objeto que contiene TODA la información económica recopilada o actualizada.\"\\n    }},\\n    \"mensaje_validacion\": {{\\n      \"title\": \"Mensaje Validacion\",\\n      \"type\": \"string\"\\n    }}\\n  }},\\n  \"required\": [\\n    \"economia\",\\n    \"mensaje_validacion\"\\n  ],\\n  \"title\": \"ResultadoEconomia\",\\n  \"type\": \"object\"\\n}}\\n\\n</Role>\\n\\n\\n<Instrucciones_Revisadas>\\n1.  Analiza la conversación para determinar el `modo` (1 o 2) y `submodo` (si `modo` es 2).\\n\\n2.  **Lógica de Preguntas y Confirmación:**\\n    a.  **Si `modo` aún es `null`:**\\n        -   `economia` debe tener todos los campos en `null`.\\n        -   `mensaje_validacion` DEBE ser: \"Con el fin de conocer tus preferencias financieras que opcion (modo) prefieres: \\\\n 1. Prefiero que me aconsejes con criterios de inteligencia financiera.\\\\n 2. Prefiero indicar yo mismo cuánto y cómo gastar.\"\\n        -   **FIN para este turno.**\\n\\n    b.  **Si `modo` es `1` (Asesoramiento):**\\n        -   Verifica si tienes valores válidos (no `null`) para `ingresos`, `ahorro` Y `anos_posesion`.\\n        -   **Si los tres (`ingresos`, `ahorro`, `anos_posesion`) tienen valor:** `mensaje_validacion` puede ser una confirmación (ej: \"Ok, datos para Modo 1 recibidos.\") o `\"\"`. Rellena `economia` con estos datos.\\n        -   **Si falta alguno de los tres:** `mensaje_validacion` DEBE ser una pregunta para el PRIMER campo faltante en el orden: `ingresos`, luego `ahorro`, luego `anos_posesion`. Rellena `economia` con los datos que ya tengas.\\n        -   **FIN para este turno.**\\n\\n    c.  **Si `modo` es `2` (Usuario define presupuesto):**\\n        -   Verifica si `submodo` tiene valor (1 o 2).\\n        -   **Si `submodo` es `null`:** `mensaje_validacion` DEBE preguntar por el submodo (ej: \"¿Prefieres indicar un pago total al contado o una cuota mensual máxima?\"). Rellena `economia` con `modo: 2` y el resto `null`.\\n        -   **Si `submodo` es `1` (Contado):** Verifica si `pago_contado` tiene valor.\\n            -   Si `pago_contado` tiene valor: `mensaje_validacion` puede ser confirmación o `\"\"`.\\n            -   Si `pago_contado` es `null`: `mensaje_validacion` DEBE preguntar por `pago_contado`.\\n        -   **Si `submodo` es `2` (Cuotas):** Verifica si `cuota_max` tiene valor.\\n            -   Si `cuota_max` tiene valor: `mensaje_validacion` puede ser confirmación o `\"\"`. (El campo `entrada` es opcional).\\n            -   Si `cuota_max` es `null`: `mensaje_validacion` DEBE preguntar por `cuota_max`.\\n        -   Rellena `economia` con los datos que tengas.\\n        -   **FIN para este turno.**\\n\\n3.  **Principios Generales:**\\n    -   En cada turno, el objeto `economia` en tu salida JSON debe reflejar el estado actual de la información recopilada.\\n    -   No inventes valores. Si un dato no se ha proporcionado o inferido claramente, su valor debe ser `null`.\\n    -   Usa el historial de conversación para mantener el contexto.\\n</Instrucciones_Revisadas>\\n\\n<Ejemplos>\\n\\n**Ejemplo 1: Inicio Economía: LLM debe preguntar por Modo 1 vs Modo 2**\\n* Contexto (Historial + Último mensaje): `[..., AIMessage(content=\\'Ok, filtros técnicos definidos.\\')]` \\n  *(Nota: El historial previo no importa tanto como el hecho de que \\'modo\\' es null)*\\n* Salida JSON Esperada:\\n    ```json\\n    {{\\n      \"economia\": {{ // Objeto economía vacío o con todos los campos en null\\n        \"modo\": null,\\n        \"submodo\": null,\\n        \"ingresos\": null, \\n        \"ahorro\": null,   \\n        \"pago_contado\": null,\\n        \"cuota_max\": null,\\n        \"entrada\": null,\\n        \"anos_posesion\": null // Incluir el campo nuevo\\n      }},\\n      \"mensaje_validacion\": \"Con el fin de conocer tus preferencias financieras que opcion prefieres:\\\\n  1.Prefiero que me aconsejes con criterios de inteligencia financiera.\\\\n  2. Prefiero indicar yo mismo cuánto y cómo gastar.\" // <-- Pregunta exacta requerida por la regla\\n    }}\\n    ```\\n**Ejemplo 2: Usuario elige Modo 1 (Asesoramiento), pero LLM necesita preguntar por ingresos**\\n* Contexto (Historial + Último mensaje): `[..., HumanMessage(content=\\'Prefiero que me asesores tú.\\')]`\\n* Salida JSON Esperada:\\n    ```json\\n    {{\\n      \"economia\": {{\\n        \"modo\": 1, // LLM identifica el modo\\n        \"submodo\": null,\\n        \"ingresos\": null, // Aún no tiene el dato obligatorio\\n        \"ahorro\": null,   // Aún no tiene el dato obligatorio\\n        \"pago_contado\": null,\\n        \"cuota_max\": null,\\n        \"entrada\": null,\\n        \"anos_posesion\": null\\n      }},\\n      \"mensaje_validacion\": \"Entendido, usaremos el modo asesor financiero. Para poder calcular un presupuesto adecuado, ¿podrías indicarme cuales son tus ingresos netos anuales aproximados?\" // Pregunta por el primer dato faltante\\n    }}\\n    ```\\n\\n**Ejemplo 3: Usuario elige Modo 2 (Define Presupuesto), pero LLM necesita preguntar por submodo (contado/cuotas)**\\n* Contexto (Historial + Último mensaje): `[..., HumanMessage(content=\\'Mejor defino yo el presupuesto.\\')]`\\n* Salida JSON Esperada:\\n    ```json\\n    {{\\n      \"economia\": {{\\n        \"modo\": 2, // LLM identifica el modo\\n        \"submodo\": null, // Falta el submodo obligatorio\\n        \"ingresos\": null,\\n        \"ahorro\": null,\\n        \"pago_contado\": null,\\n        \"cuota_max\": null,\\n        \"entrada\": null,\\n        \"anos_posesion\": null\\n      }},\\n      \"mensaje_validacion\": \"De acuerdo, tú defines el presupuesto. Que opción prefieres?\\\\n 1)Tienes pensado pagar el coche al contado\\\\n  2) prefieres financiarlo en cuotas mensuales\" // Pregunta por el submodo\\n    }}\\n    ```\\nEjemplo 4:\\n{{\\n  \"economia\": {{\"modo\": 1, \"submodo\": null, \"ingresos\": 45000.0, \"ahorro\": 10000.0, \"pago_contado\": null, \"cuota_max\": null, \"entrada\": null,\"anos_posesion\": null}},\\n  \"mensaje_validacion\": \"¿Durante cuántos años aproximadamente planeas conservar el vehículo?\" \\n\\n}}\\nEjemplo 5: Modo 1 completo\\n{{ \\n  \"economia\": {{ \\n    \"modo\": 1, \\n    \"submodo\": null, \\n    \"ingresos\": 45000.0, \\n    \"ahorro\": 10000.0, \\n    \"pago_contado\": null, \\n    \"cuota_max\": null, \\n    \"entrada\": null,\\n    \"anos_posesion\": 5 \\n  }},\\n  \"mensaje_validacion\": \"¡Entendido! Ya tengo los datos necesarios para el Modo 1.\"\\n}}\\n\\n\\n</Ejemplos>\\n\\n<Formato esperado>\\nGenera el JSON:\\n{{\\n  \"economia\": {{ ... }},\\n  \"mensaje_validacion\": \"...\"\\n}}', 'role': 'user'}, {'content': 'Quiero un coche mido 1.93. Peso 80 kg', 'role': 'user'}, {'content': '¿Usarás el coche para trabajo o para uso personal y familiar?', 'role': 'assistant'}, {'content': 'para uso personal', 'role': 'user'}, {'content': '¿Valoras especialmente la estética del coche?', 'role': 'assistant'}, {'content': 'si valoro la estetica', 'role': 'user'}, {'content': '¿Quieres solo coches eléctricos?', 'role': 'assistant'}, {'content': 'no a combustion tambien', 'role': 'user'}, {'content': '¿Qué tipo de transmisión prefieres?\\n 1) Automático\\n 2) Manual\\n 3) Ambos', 'role': 'assistant'}, {'content': 'la numero 3', 'role': 'user'}, {'content': 'Hablando de aventura, ¿con cuál de estas afirmaciones te identificas más?\\n 1) No pisas nada que no sea asfalto (ninguna)\\n 2) Salidas fuera de asfalto ocasionales (ocasional)\\n 3) Circular en condiciones duras con total garantía (extrema)', 'role': 'assistant'}, {'content': 'la 2', 'role': 'user'}, {'content': '¿Eres un apasionado del mundo automotriz?', 'role': 'assistant'}, {'content': 'si, lo soy', 'role': 'user'}, {'content': 'Cuéntame, ¿sueles viajar con acompañantes en el coche habitualmente? ¿cuántos?', 'role': 'assistant'}, {'content': 'si, llevo 2 acompañantes', 'role': 'user'}, {'content': 'Entendido, 2 acompañantes habitualmente. ¿Alguno de ellos es un niño que necesite sillita de seguridad?', 'role': 'assistant'}, {'content': 'si uno de ellos es mi hijo', 'role': 'user'}, {'content': 'Con el fin de conocer tus preferencias financieras que opcion prefieres:\\n  1. Prefiero que me aconsejes con criterios de inteligencia financiera.\\n  2. Prefiero indicar yo mismo cuánto y cómo gastar.', 'role': 'assistant'}, {'content': 'asesorame por favor', 'role': 'user'}, {'content': 'Entendido, usaremos el modo asesor financiero. Para poder calcular un presupuesto adecuado, ¿podrías indicarme cuales son tus ingresos netos anuales aproximados?', 'role': 'assistant'}, {'content': '35000 anuales', 'role': 'user'}, {'content': '¿Cuánto tienes ahorrado para la compra del coche?', 'role': 'assistant'}, {'content': '6.000 ahorrados', 'role': 'user'}], 'model': 'gpt-4o-mini', 'response_format': {'type': 'json_schema', 'json_schema': {'schema': {'$defs': {'EconomiaUsuario': {'properties': {'modo': {'anyOf': [{'enum': [1, 2], 'type': 'integer'}, {'type': 'null'}], 'title': 'Modo'}, 'submodo': {'anyOf': [{'enum': [1, 2], 'type': 'integer'}, {'type': 'null'}], 'title': 'Submodo'}, 'ingresos': {'anyOf': [{'type': 'number'}, {'type': 'null'}], 'title': 'Ingresos'}, 'ahorro': {'anyOf': [{'type': 'number'}, {'type': 'null'}], 'title': 'Ahorro'}, 'pago_contado': {'anyOf': [{'type': 'number'}, {'type': 'null'}], 'title': 'Pago Contado'}, 'cuota_max': {'anyOf': [{'type': 'number'}, {'type': 'null'}], 'title': 'Cuota Max'}, 'entrada': {'anyOf': [{'type': 'number'}, {'type': 'null'}], 'title': 'Entrada'}, 'anos_posesion': {'anyOf': [{'type': 'integer'}, {'type': 'null'}], 'description': 'Número estimado de años que el usuario planea conservar el vehículo.', 'title': 'Anos Posesion'}}, 'title': 'EconomiaUsuario', 'type': 'object', 'additionalProperties': False, 'required': ['modo', 'submodo', 'ingresos', 'ahorro', 'pago_contado', 'cuota_max', 'entrada', 'anos_posesion']}}, 'properties': {'economia': {'description': 'Objeto que contiene TODA la información económica recopilada o actualizada.', 'properties': {'modo': {'anyOf': [{'enum': [1, 2], 'type': 'integer'}, {'type': 'null'}], 'title': 'Modo'}, 'submodo': {'anyOf': [{'enum': [1, 2], 'type': 'integer'}, {'type': 'null'}], 'title': 'Submodo'}, 'ingresos': {'anyOf': [{'type': 'number'}, {'type': 'null'}], 'title': 'Ingresos'}, 'ahorro': {'anyOf': [{'type': 'number'}, {'type': 'null'}], 'title': 'Ahorro'}, 'pago_contado': {'anyOf': [{'type': 'number'}, {'type': 'null'}], 'title': 'Pago Contado'}, 'cuota_max': {'anyOf': [{'type': 'number'}, {'type': 'null'}], 'title': 'Cuota Max'}, 'entrada': {'anyOf': [{'type': 'number'}, {'type': 'null'}], 'title': 'Entrada'}, 'anos_posesion': {'anyOf': [{'type': 'integer'}, {'type': 'null'}], 'description': 'Número estimado de años que el usuario planea conservar el vehículo.', 'title': 'Anos Posesion'}}, 'title': 'EconomiaUsuario', 'type': 'object', 'additionalProperties': False, 'required': ['modo', 'submodo', 'ingresos', 'ahorro', 'pago_contado', 'cuota_max', 'entrada', 'anos_posesion']}, 'mensaje_validacion': {'title': 'Mensaje Validacion', 'type': 'string'}}, 'required': ['economia', 'mensaje_validacion'], 'title': 'ResultadoEconomia', 'type': 'object', 'additionalProperties': False}, 'name': 'ResultadoEconomia', 'strict': True}}, 'stream': False, 'temperature': 0.1}}\n",
      "DEBUG:openai._base_client:Sending HTTP Request: POST https://api.openai.com/v1/chat/completions\n",
      "DEBUG:httpcore.connection:close.started\n",
      "DEBUG:httpcore.connection:close.complete\n",
      "DEBUG:httpcore.connection:connect_tcp.started host='api.openai.com' port=443 local_address=None timeout=None socket_options=None\n",
      "DEBUG:httpcore.connection:connect_tcp.complete return_value=<httpcore._backends.sync.SyncStream object at 0x1157d8250>\n",
      "DEBUG:httpcore.connection:start_tls.started ssl_context=<ssl.SSLContext object at 0x107e57920> server_hostname='api.openai.com' timeout=None\n",
      "DEBUG:httpcore.connection:start_tls.complete return_value=<httpcore._backends.sync.SyncStream object at 0x115be8c50>\n",
      "DEBUG:httpcore.http11:send_request_headers.started request=<Request [b'POST']>\n",
      "DEBUG:httpcore.http11:send_request_headers.complete\n",
      "DEBUG:httpcore.http11:send_request_body.started request=<Request [b'POST']>\n",
      "DEBUG:httpcore.http11:send_request_body.complete\n",
      "DEBUG:httpcore.http11:receive_response_headers.started request=<Request [b'POST']>\n"
     ]
    },
    {
     "name": "stdout",
     "output_type": "stream",
     "text": [
      "--- Ejecutando Nodo: route_based_on_state_node ---\n",
      "\n",
      "--- DEBUG: Evaluating Routing Decision ---\n",
      "--- DEBUG CHECK PERFIL ---\n",
      "Input prefs object: altura_mayor_190='sí' peso_mayor_100='no' uso_profesional='no' valora_estetica='sí' solo_electricos='no' transmision_preferida=<Transmision.AMBOS: 'ambos'> apasionado_motor='sí' aventura=<NivelAventura.ocasional: 'ocasional'>\n",
      "Input prefs type: <class 'graph.perfil.state.PerfilUsuario'>\n",
      "Checking field 'altura_mayor_190': value='sí', type=<class 'str'>\n",
      "Checking field 'peso_mayor_100': value='no', type=<class 'str'>\n",
      "Checking field 'uso_profesional': value='no', type=<class 'str'>\n",
      "Checking field 'valora_estetica': value='sí', type=<class 'str'>\n",
      "Checking field 'solo_electricos': value='no', type=<class 'str'>\n",
      "Checking field 'transmision_preferida': value='Transmision.AMBOS', type=<enum 'Transmision'>\n",
      "Checking field 'apasionado_motor': value='sí', type=<class 'str'>\n",
      "Checking field 'aventura': value='NivelAventura.ocasional', type=<enum 'NivelAventura'>\n",
      "DEBUG (Validation Perfil) ► Todos los campos obligatorios del perfil están presentes.\n",
      "DEBUG Router: Prefs OK? True\n",
      "--- DEBUG CHECK PASAJEROS ---\n",
      "Input info pasajeros: frecuencia='frecuente' num_ninos_silla=1 num_otros_pasajeros=1\n",
      "DEBUG (Validation Pasajeros) ► Frecuencia='frecuente'. Niños silla y otros pasajeros tienen valor. Considerado COMPLETO.\n",
      "DEBUG Router: Pasajeros OK? True\n",
      "DEBUG (Validation Filtros) ► Todos los campos obligatorios de filtros ('tipo_mecanica') están presentes y válidos.\n",
      "DEBUG Router: Filtros OK? True\n",
      "--- DEBUG CHECK ECONOMIA (Manual) ---\n",
      "Input econ object: modo=1 submodo=None ingresos=35000.0 ahorro=None pago_contado=None cuota_max=None entrada=None anos_posesion=None\n",
      "DEBUG (Validation Economía Manual) ► Modo 1 INCOMPLETO (faltan: ahorro, anos_posesion).\n",
      "DEBUG Router: Economía OK? False\n",
      "DEBUG Router: Pesos Calculados? False\n",
      "DEBUG Router: Coches Buscados? False\n",
      "--- DEBUG CHECK PERFIL ---\n",
      "Input prefs object: altura_mayor_190='sí' peso_mayor_100='no' uso_profesional='no' valora_estetica='sí' solo_electricos='no' transmision_preferida=<Transmision.AMBOS: 'ambos'> apasionado_motor='sí' aventura=<NivelAventura.ocasional: 'ocasional'>\n",
      "Input prefs type: <class 'graph.perfil.state.PerfilUsuario'>\n",
      "Checking field 'altura_mayor_190': value='sí', type=<class 'str'>\n",
      "Checking field 'peso_mayor_100': value='no', type=<class 'str'>\n",
      "Checking field 'uso_profesional': value='no', type=<class 'str'>\n",
      "Checking field 'valora_estetica': value='sí', type=<class 'str'>\n",
      "Checking field 'solo_electricos': value='no', type=<class 'str'>\n",
      "Checking field 'transmision_preferida': value='Transmision.AMBOS', type=<enum 'Transmision'>\n",
      "Checking field 'apasionado_motor': value='sí', type=<class 'str'>\n",
      "Checking field 'aventura': value='NivelAventura.ocasional', type=<enum 'NivelAventura'>\n",
      "DEBUG (Validation Perfil) ► Todos los campos obligatorios del perfil están presentes.\n",
      "--- DEBUG CHECK PASAJEROS ---\n",
      "Input info pasajeros: frecuencia='frecuente' num_ninos_silla=1 num_otros_pasajeros=1\n",
      "DEBUG (Validation Pasajeros) ► Frecuencia='frecuente'. Niños silla y otros pasajeros tienen valor. Considerado COMPLETO.\n",
      "DEBUG (Validation Filtros) ► Todos los campos obligatorios de filtros ('tipo_mecanica') están presentes y válidos.\n",
      "--- DEBUG CHECK ECONOMIA (Manual) ---\n",
      "Input econ object: modo=1 submodo=None ingresos=35000.0 ahorro=None pago_contado=None cuota_max=None entrada=None anos_posesion=None\n",
      "DEBUG (Validation Economía Manual) ► Modo 1 INCOMPLETO (faltan: ahorro, anos_posesion).\n",
      "DEBUG Router: Decisión -> recopilar_economia\n",
      "--- Ejecutando Nodo: recopilar_economia_node ---\n",
      "DEBUG (Economía) ► Llamando a llm_economia...\n"
     ]
    },
    {
     "name": "stderr",
     "output_type": "stream",
     "text": [
      "DEBUG:httpcore.http11:receive_response_headers.complete return_value=(b'HTTP/1.1', 200, b'OK', [(b'Date', b'Tue, 06 May 2025 17:27:23 GMT'), (b'Content-Type', b'application/json'), (b'Transfer-Encoding', b'chunked'), (b'Connection', b'keep-alive'), (b'access-control-expose-headers', b'X-Request-ID'), (b'openai-organization', b'user-ic25pcewdjuowsz9q2ektvrn'), (b'openai-processing-ms', b'1492'), (b'openai-version', b'2020-10-01'), (b'x-ratelimit-limit-requests', b'10000'), (b'x-ratelimit-limit-tokens', b'200000'), (b'x-ratelimit-remaining-requests', b'9999'), (b'x-ratelimit-remaining-tokens', b'197368'), (b'x-ratelimit-reset-requests', b'8.64s'), (b'x-ratelimit-reset-tokens', b'789ms'), (b'x-request-id', b'req_4da9c52f1be77c2c49b94ffaa575e368'), (b'strict-transport-security', b'max-age=31536000; includeSubDomains; preload'), (b'cf-cache-status', b'DYNAMIC'), (b'X-Content-Type-Options', b'nosniff'), (b'Server', b'cloudflare'), (b'CF-RAY', b'93ba301569ffe286-MRS'), (b'Content-Encoding', b'gzip'), (b'alt-svc', b'h3=\":443\"; ma=86400')])\n",
      "INFO:httpx:HTTP Request: POST https://api.openai.com/v1/chat/completions \"HTTP/1.1 200 OK\"\n",
      "DEBUG:httpcore.http11:receive_response_body.started request=<Request [b'POST']>\n",
      "DEBUG:httpcore.http11:receive_response_body.complete\n",
      "DEBUG:httpcore.http11:response_closed.started\n",
      "DEBUG:httpcore.http11:response_closed.complete\n",
      "DEBUG:openai._base_client:HTTP Response: POST https://api.openai.com/v1/chat/completions \"200 OK\" Headers({'date': 'Tue, 06 May 2025 17:27:23 GMT', 'content-type': 'application/json', 'transfer-encoding': 'chunked', 'connection': 'keep-alive', 'access-control-expose-headers': 'X-Request-ID', 'openai-organization': 'user-ic25pcewdjuowsz9q2ektvrn', 'openai-processing-ms': '1492', 'openai-version': '2020-10-01', 'x-ratelimit-limit-requests': '10000', 'x-ratelimit-limit-tokens': '200000', 'x-ratelimit-remaining-requests': '9999', 'x-ratelimit-remaining-tokens': '197368', 'x-ratelimit-reset-requests': '8.64s', 'x-ratelimit-reset-tokens': '789ms', 'x-request-id': 'req_4da9c52f1be77c2c49b94ffaa575e368', 'strict-transport-security': 'max-age=31536000; includeSubDomains; preload', 'cf-cache-status': 'DYNAMIC', 'x-content-type-options': 'nosniff', 'server': 'cloudflare', 'cf-ray': '93ba301569ffe286-MRS', 'content-encoding': 'gzip', 'alt-svc': 'h3=\":443\"; ma=86400'})\n",
      "DEBUG:openai._base_client:request_id: req_4da9c52f1be77c2c49b94ffaa575e368\n"
     ]
    },
    {
     "name": "stdout",
     "output_type": "stream",
     "text": [
      "DEBUG (Economía) ► Respuesta llm_economia: economia=EconomiaUsuario(modo=1, submodo=None, ingresos=35000.0, ahorro=6000.0, pago_contado=None, cuota_max=None, entrada=None, anos_posesion=None) mensaje_validacion='¿Durante cuántos años aproximadamente planeas conservar el vehículo?'\n",
      "DEBUG (Economía) ► Estado economía actualizado: modo=1 submodo=None ingresos=35000.0 ahorro=6000.0 pago_contado=None cuota_max=None entrada=None anos_posesion=None\n",
      "DEBUG (Economía) ► Guardando pregunta pendiente: ¿Durante cuántos años aproximadamente planeas conservar el vehículo?\n",
      "--- Ejecutando Nodo: validar_economia_node ---\n",
      "--- DEBUG CHECK ECONOMIA (Manual) ---\n",
      "Input econ object: modo=1 submodo=None ingresos=35000.0 ahorro=6000.0 pago_contado=None cuota_max=None entrada=None anos_posesion=None\n",
      "DEBUG (Validation Economía Manual) ► Modo 1 INCOMPLETO (faltan: anos_posesion).\n",
      "DEBUG (Economía) ► Validación: Economía considerada INCOMPLETA.\n",
      "--- Evaluando Condición: ruta_decision_economia ---\n",
      "--- DEBUG CHECK ECONOMIA (Manual) ---\n",
      "Input econ object: modo=1 submodo=None ingresos=35000.0 ahorro=6000.0 pago_contado=None cuota_max=None entrada=None anos_posesion=None\n",
      "DEBUG (Validation Economía Manual) ► Modo 1 INCOMPLETO (faltan: anos_posesion).\n",
      "DEBUG (Condición Economía) ► Economía INCOMPLETA. Se necesita pregunta.\n",
      "--- Ejecutando Nodo: preguntar_economia_node ---\n",
      "DEBUG (Preguntar Economía) ► Usando pregunta guardada: ¿Durante cuántos años aproximadamente planeas conservar el vehículo?\n",
      "DEBUG (Preguntar Economía) ► Mensaje final añadido: ¿Durante cuántos años aproximadamente planeas conservar el vehículo?\n",
      "==================================\u001b[1m Ai Message \u001b[0m==================================\n",
      "\n",
      "¿Durante cuántos años aproximadamente planeas conservar el vehículo?\n"
     ]
    }
   ],
   "source": [
    "config = {\"configurable\": {\"thread_id\": \"2\"}}\n",
    "input_message = HumanMessage(content=\"6.000 ahorrados\")\n",
    "output = graph.invoke({\"messages\": [input_message]}, config) \n",
    "for m in output['messages'][-1:]:\n",
    "    m.pretty_print()"
   ]
  },
  {
   "cell_type": "code",
   "execution_count": 16,
   "metadata": {},
   "outputs": [
    {
     "name": "stderr",
     "output_type": "stream",
     "text": [
      "DEBUG:openai._base_client:Request options: {'method': 'post', 'url': '/chat/completions', 'headers': {'X-Stainless-Helper-Method': 'beta.chat.completions.parse'}, 'files': None, 'post_parser': <function Completions.parse.<locals>.parser at 0x123509f80>, 'json_data': {'messages': [{'content': '<Role>\\nEres un asistente experto en finanzas automotrices. Tu objetivo es recopilar información económica del usuario para ayudarle a definir su presupuesto(modo 1: con criterios de inteligencia financiera), o bien definir un presupuesto basado en sus indicaciones(modo2: indica el mismo cuánto y cómo gastar). Debes generar una respuesta JSON que SIEMPRE se ajuste al siguiente esquema Pydantic:\\n``json\\n{{\\n  \"$defs\": {{\\n    \"EconomiaUsuario\": {{\\n      \"properties\": {{\\n        \"modo\": {{\\n          \"anyOf\": [\\n            {{\\n              \"enum\": [\\n                1,\\n                2\\n              ],\\n              \"type\": \"integer\"\\n            }},\\n            {{\\n              \"type\": \"null\"\\n            }}\\n          ],\\n          \"default\": null,\\n          \"title\": \"Modo\"\\n        }},\\n        \"submodo\": {{\\n          \"anyOf\": [\\n            {{\\n              \"enum\": [\\n                1,\\n                2\\n              ],\\n              \"type\": \"integer\"\\n            }},\\n            {{\\n              \"type\": \"null\"\\n            }}\\n          ],\\n          \"default\": null,\\n          \"title\": \"Submodo\"\\n        }},\\n        \"ingresos\": {{\\n          \"anyOf\": [\\n            {{\\n              \"type\": \"number\"\\n            }},\\n            {{\\n              \"type\": \"null\"\\n            }}\\n          ],\\n          \"default\": null,\\n          \"title\": \"Ingresos\"\\n        }},\\n        \"ahorro\": {{\\n          \"anyOf\": [\\n            {{\\n              \"type\": \"number\"\\n            }},\\n            {{\\n              \"type\": \"null\"\\n            }}\\n          ],\\n          \"default\": null,\\n          \"title\": \"Ahorro\"\\n        }},\\n        \"pago_contado\": {{\\n          \"anyOf\": [\\n            {{\\n              \"type\": \"number\"\\n            }},\\n            {{\\n              \"type\": \"null\"\\n            }}\\n          ],\\n          \"default\": null,\\n          \"title\": \"Pago Contado\"\\n        }},\\n        \"cuota_max\": {{\\n          \"anyOf\": [\\n            {{\\n              \"type\": \"number\"\\n            }},\\n            {{\\n              \"type\": \"null\"\\n            }}\\n          ],\\n          \"default\": null,\\n          \"title\": \"Cuota Max\"\\n        }},\\n        \"entrada\": {{\\n          \"anyOf\": [\\n            {{\\n              \"type\": \"number\"\\n            }},\\n            {{\\n              \"type\": \"null\"\\n            }}\\n          ],\\n          \"default\": null,\\n          \"title\": \"Entrada\"\\n        }},\\n        \"anos_posesion\": {{\\n          \"anyOf\": [\\n            {{\\n              \"type\": \"integer\"\\n            }},\\n            {{\\n              \"type\": \"null\"\\n            }}\\n          ],\\n          \"default\": null,\\n          \"description\": \"Número estimado de años que el usuario planea conservar el vehículo. Aplica para modo 1\",\\n          \"title\": \"Anos Posesion\"\\n        }}\\n      }},\\n      \"title\": \"EconomiaUsuario\",\\n      \"type\": \"object\"\\n    }}\\n  }},\\n  \"properties\": {{\\n    \"economia\": {{\\n      \"$ref\": \"#/$defs/EconomiaUsuario\",\\n      \"description\": \"Objeto que contiene TODA la información económica recopilada o actualizada.\"\\n    }},\\n    \"mensaje_validacion\": {{\\n      \"title\": \"Mensaje Validacion\",\\n      \"type\": \"string\"\\n    }}\\n  }},\\n  \"required\": [\\n    \"economia\",\\n    \"mensaje_validacion\"\\n  ],\\n  \"title\": \"ResultadoEconomia\",\\n  \"type\": \"object\"\\n}}\\n\\n</Role>\\n\\n\\n<Instrucciones_Revisadas>\\n1.  Analiza la conversación para determinar el `modo` (1 o 2) y `submodo` (si `modo` es 2).\\n\\n2.  **Lógica de Preguntas y Confirmación:**\\n    a.  **Si `modo` aún es `null`:**\\n        -   `economia` debe tener todos los campos en `null`.\\n        -   `mensaje_validacion` DEBE ser: \"Con el fin de conocer tus preferencias financieras que opcion (modo) prefieres: \\\\n 1. Prefiero que me aconsejes con criterios de inteligencia financiera.\\\\n 2. Prefiero indicar yo mismo cuánto y cómo gastar.\"\\n        -   **FIN para este turno.**\\n\\n    b.  **Si `modo` es `1` (Asesoramiento):**\\n        -   Verifica si tienes valores válidos (no `null`) para `ingresos`, `ahorro` Y `anos_posesion`.\\n        -   **Si los tres (`ingresos`, `ahorro`, `anos_posesion`) tienen valor:** `mensaje_validacion` puede ser una confirmación (ej: \"Ok, datos para Modo 1 recibidos.\") o `\"\"`. Rellena `economia` con estos datos.\\n        -   **Si falta alguno de los tres:** `mensaje_validacion` DEBE ser una pregunta para el PRIMER campo faltante en el orden: `ingresos`, luego `ahorro`, luego `anos_posesion`. Rellena `economia` con los datos que ya tengas.\\n        -   **FIN para este turno.**\\n\\n    c.  **Si `modo` es `2` (Usuario define presupuesto):**\\n        -   Verifica si `submodo` tiene valor (1 o 2).\\n        -   **Si `submodo` es `null`:** `mensaje_validacion` DEBE preguntar por el submodo (ej: \"¿Prefieres indicar un pago total al contado o una cuota mensual máxima?\"). Rellena `economia` con `modo: 2` y el resto `null`.\\n        -   **Si `submodo` es `1` (Contado):** Verifica si `pago_contado` tiene valor.\\n            -   Si `pago_contado` tiene valor: `mensaje_validacion` puede ser confirmación o `\"\"`.\\n            -   Si `pago_contado` es `null`: `mensaje_validacion` DEBE preguntar por `pago_contado`.\\n        -   **Si `submodo` es `2` (Cuotas):** Verifica si `cuota_max` tiene valor.\\n            -   Si `cuota_max` tiene valor: `mensaje_validacion` puede ser confirmación o `\"\"`. (El campo `entrada` es opcional).\\n            -   Si `cuota_max` es `null`: `mensaje_validacion` DEBE preguntar por `cuota_max`.\\n        -   Rellena `economia` con los datos que tengas.\\n        -   **FIN para este turno.**\\n\\n3.  **Principios Generales:**\\n    -   En cada turno, el objeto `economia` en tu salida JSON debe reflejar el estado actual de la información recopilada.\\n    -   No inventes valores. Si un dato no se ha proporcionado o inferido claramente, su valor debe ser `null`.\\n    -   Usa el historial de conversación para mantener el contexto.\\n</Instrucciones_Revisadas>\\n\\n<Ejemplos>\\n\\n**Ejemplo 1: Inicio Economía: LLM debe preguntar por Modo 1 vs Modo 2**\\n* Contexto (Historial + Último mensaje): `[..., AIMessage(content=\\'Ok, filtros técnicos definidos.\\')]` \\n  *(Nota: El historial previo no importa tanto como el hecho de que \\'modo\\' es null)*\\n* Salida JSON Esperada:\\n    ```json\\n    {{\\n      \"economia\": {{ // Objeto economía vacío o con todos los campos en null\\n        \"modo\": null,\\n        \"submodo\": null,\\n        \"ingresos\": null, \\n        \"ahorro\": null,   \\n        \"pago_contado\": null,\\n        \"cuota_max\": null,\\n        \"entrada\": null,\\n        \"anos_posesion\": null // Incluir el campo nuevo\\n      }},\\n      \"mensaje_validacion\": \"Con el fin de conocer tus preferencias financieras que opcion prefieres:\\\\n  1.Prefiero que me aconsejes con criterios de inteligencia financiera.\\\\n  2. Prefiero indicar yo mismo cuánto y cómo gastar.\" // <-- Pregunta exacta requerida por la regla\\n    }}\\n    ```\\n**Ejemplo 2: Usuario elige Modo 1 (Asesoramiento), pero LLM necesita preguntar por ingresos**\\n* Contexto (Historial + Último mensaje): `[..., HumanMessage(content=\\'Prefiero que me asesores tú.\\')]`\\n* Salida JSON Esperada:\\n    ```json\\n    {{\\n      \"economia\": {{\\n        \"modo\": 1, // LLM identifica el modo\\n        \"submodo\": null,\\n        \"ingresos\": null, // Aún no tiene el dato obligatorio\\n        \"ahorro\": null,   // Aún no tiene el dato obligatorio\\n        \"pago_contado\": null,\\n        \"cuota_max\": null,\\n        \"entrada\": null,\\n        \"anos_posesion\": null\\n      }},\\n      \"mensaje_validacion\": \"Entendido, usaremos el modo asesor financiero. Para poder calcular un presupuesto adecuado, ¿podrías indicarme cuales son tus ingresos netos anuales aproximados?\" // Pregunta por el primer dato faltante\\n    }}\\n    ```\\n\\n**Ejemplo 3: Usuario elige Modo 2 (Define Presupuesto), pero LLM necesita preguntar por submodo (contado/cuotas)**\\n* Contexto (Historial + Último mensaje): `[..., HumanMessage(content=\\'Mejor defino yo el presupuesto.\\')]`\\n* Salida JSON Esperada:\\n    ```json\\n    {{\\n      \"economia\": {{\\n        \"modo\": 2, // LLM identifica el modo\\n        \"submodo\": null, // Falta el submodo obligatorio\\n        \"ingresos\": null,\\n        \"ahorro\": null,\\n        \"pago_contado\": null,\\n        \"cuota_max\": null,\\n        \"entrada\": null,\\n        \"anos_posesion\": null\\n      }},\\n      \"mensaje_validacion\": \"De acuerdo, tú defines el presupuesto. Que opción prefieres?\\\\n 1)Tienes pensado pagar el coche al contado\\\\n  2) prefieres financiarlo en cuotas mensuales\" // Pregunta por el submodo\\n    }}\\n    ```\\nEjemplo 4:\\n{{\\n  \"economia\": {{\"modo\": 1, \"submodo\": null, \"ingresos\": 45000.0, \"ahorro\": 10000.0, \"pago_contado\": null, \"cuota_max\": null, \"entrada\": null,\"anos_posesion\": null}},\\n  \"mensaje_validacion\": \"¿Durante cuántos años aproximadamente planeas conservar el vehículo?\" \\n\\n}}\\nEjemplo 5: Modo 1 completo\\n{{ \\n  \"economia\": {{ \\n    \"modo\": 1, \\n    \"submodo\": null, \\n    \"ingresos\": 45000.0, \\n    \"ahorro\": 10000.0, \\n    \"pago_contado\": null, \\n    \"cuota_max\": null, \\n    \"entrada\": null,\\n    \"anos_posesion\": 5 \\n  }},\\n  \"mensaje_validacion\": \"¡Entendido! Ya tengo los datos necesarios para el Modo 1.\"\\n}}\\n\\n\\n</Ejemplos>\\n\\n<Formato esperado>\\nGenera el JSON:\\n{{\\n  \"economia\": {{ ... }},\\n  \"mensaje_validacion\": \"...\"\\n}}', 'role': 'user'}, {'content': 'Quiero un coche mido 1.93. Peso 80 kg', 'role': 'user'}, {'content': '¿Usarás el coche para trabajo o para uso personal y familiar?', 'role': 'assistant'}, {'content': 'para uso personal', 'role': 'user'}, {'content': '¿Valoras especialmente la estética del coche?', 'role': 'assistant'}, {'content': 'si valoro la estetica', 'role': 'user'}, {'content': '¿Quieres solo coches eléctricos?', 'role': 'assistant'}, {'content': 'no a combustion tambien', 'role': 'user'}, {'content': '¿Qué tipo de transmisión prefieres?\\n 1) Automático\\n 2) Manual\\n 3) Ambos', 'role': 'assistant'}, {'content': 'la numero 3', 'role': 'user'}, {'content': 'Hablando de aventura, ¿con cuál de estas afirmaciones te identificas más?\\n 1) No pisas nada que no sea asfalto (ninguna)\\n 2) Salidas fuera de asfalto ocasionales (ocasional)\\n 3) Circular en condiciones duras con total garantía (extrema)', 'role': 'assistant'}, {'content': 'la 2', 'role': 'user'}, {'content': '¿Eres un apasionado del mundo automotriz?', 'role': 'assistant'}, {'content': 'si, lo soy', 'role': 'user'}, {'content': 'Cuéntame, ¿sueles viajar con acompañantes en el coche habitualmente? ¿cuántos?', 'role': 'assistant'}, {'content': 'si, llevo 2 acompañantes', 'role': 'user'}, {'content': 'Entendido, 2 acompañantes habitualmente. ¿Alguno de ellos es un niño que necesite sillita de seguridad?', 'role': 'assistant'}, {'content': 'si uno de ellos es mi hijo', 'role': 'user'}, {'content': 'Con el fin de conocer tus preferencias financieras que opcion prefieres:\\n  1. Prefiero que me aconsejes con criterios de inteligencia financiera.\\n  2. Prefiero indicar yo mismo cuánto y cómo gastar.', 'role': 'assistant'}, {'content': 'asesorame por favor', 'role': 'user'}, {'content': 'Entendido, usaremos el modo asesor financiero. Para poder calcular un presupuesto adecuado, ¿podrías indicarme cuales son tus ingresos netos anuales aproximados?', 'role': 'assistant'}, {'content': '35000 anuales', 'role': 'user'}, {'content': '¿Cuánto tienes ahorrado para la compra del coche?', 'role': 'assistant'}, {'content': '6.000 ahorrados', 'role': 'user'}, {'content': '¿Durante cuántos años aproximadamente planeas conservar el vehículo?', 'role': 'assistant'}, {'content': '5 años', 'role': 'user'}], 'model': 'gpt-4o-mini', 'response_format': {'type': 'json_schema', 'json_schema': {'schema': {'$defs': {'EconomiaUsuario': {'properties': {'modo': {'anyOf': [{'enum': [1, 2], 'type': 'integer'}, {'type': 'null'}], 'title': 'Modo'}, 'submodo': {'anyOf': [{'enum': [1, 2], 'type': 'integer'}, {'type': 'null'}], 'title': 'Submodo'}, 'ingresos': {'anyOf': [{'type': 'number'}, {'type': 'null'}], 'title': 'Ingresos'}, 'ahorro': {'anyOf': [{'type': 'number'}, {'type': 'null'}], 'title': 'Ahorro'}, 'pago_contado': {'anyOf': [{'type': 'number'}, {'type': 'null'}], 'title': 'Pago Contado'}, 'cuota_max': {'anyOf': [{'type': 'number'}, {'type': 'null'}], 'title': 'Cuota Max'}, 'entrada': {'anyOf': [{'type': 'number'}, {'type': 'null'}], 'title': 'Entrada'}, 'anos_posesion': {'anyOf': [{'type': 'integer'}, {'type': 'null'}], 'description': 'Número estimado de años que el usuario planea conservar el vehículo.', 'title': 'Anos Posesion'}}, 'title': 'EconomiaUsuario', 'type': 'object', 'additionalProperties': False, 'required': ['modo', 'submodo', 'ingresos', 'ahorro', 'pago_contado', 'cuota_max', 'entrada', 'anos_posesion']}}, 'properties': {'economia': {'description': 'Objeto que contiene TODA la información económica recopilada o actualizada.', 'properties': {'modo': {'anyOf': [{'enum': [1, 2], 'type': 'integer'}, {'type': 'null'}], 'title': 'Modo'}, 'submodo': {'anyOf': [{'enum': [1, 2], 'type': 'integer'}, {'type': 'null'}], 'title': 'Submodo'}, 'ingresos': {'anyOf': [{'type': 'number'}, {'type': 'null'}], 'title': 'Ingresos'}, 'ahorro': {'anyOf': [{'type': 'number'}, {'type': 'null'}], 'title': 'Ahorro'}, 'pago_contado': {'anyOf': [{'type': 'number'}, {'type': 'null'}], 'title': 'Pago Contado'}, 'cuota_max': {'anyOf': [{'type': 'number'}, {'type': 'null'}], 'title': 'Cuota Max'}, 'entrada': {'anyOf': [{'type': 'number'}, {'type': 'null'}], 'title': 'Entrada'}, 'anos_posesion': {'anyOf': [{'type': 'integer'}, {'type': 'null'}], 'description': 'Número estimado de años que el usuario planea conservar el vehículo.', 'title': 'Anos Posesion'}}, 'title': 'EconomiaUsuario', 'type': 'object', 'additionalProperties': False, 'required': ['modo', 'submodo', 'ingresos', 'ahorro', 'pago_contado', 'cuota_max', 'entrada', 'anos_posesion']}, 'mensaje_validacion': {'title': 'Mensaje Validacion', 'type': 'string'}}, 'required': ['economia', 'mensaje_validacion'], 'title': 'ResultadoEconomia', 'type': 'object', 'additionalProperties': False}, 'name': 'ResultadoEconomia', 'strict': True}}, 'stream': False, 'temperature': 0.1}}\n",
      "DEBUG:openai._base_client:Sending HTTP Request: POST https://api.openai.com/v1/chat/completions\n",
      "DEBUG:httpcore.connection:close.started\n",
      "DEBUG:httpcore.connection:close.complete\n",
      "DEBUG:httpcore.connection:connect_tcp.started host='api.openai.com' port=443 local_address=None timeout=None socket_options=None\n",
      "DEBUG:httpcore.connection:connect_tcp.complete return_value=<httpcore._backends.sync.SyncStream object at 0x115be8650>\n",
      "DEBUG:httpcore.connection:start_tls.started ssl_context=<ssl.SSLContext object at 0x107e57920> server_hostname='api.openai.com' timeout=None\n",
      "DEBUG:httpcore.connection:start_tls.complete return_value=<httpcore._backends.sync.SyncStream object at 0x1235318d0>\n",
      "DEBUG:httpcore.http11:send_request_headers.started request=<Request [b'POST']>\n",
      "DEBUG:httpcore.http11:send_request_headers.complete\n",
      "DEBUG:httpcore.http11:send_request_body.started request=<Request [b'POST']>\n",
      "DEBUG:httpcore.http11:send_request_body.complete\n",
      "DEBUG:httpcore.http11:receive_response_headers.started request=<Request [b'POST']>\n"
     ]
    },
    {
     "name": "stdout",
     "output_type": "stream",
     "text": [
      "--- Ejecutando Nodo: route_based_on_state_node ---\n",
      "\n",
      "--- DEBUG: Evaluating Routing Decision ---\n",
      "--- DEBUG CHECK PERFIL ---\n",
      "Input prefs object: altura_mayor_190='sí' peso_mayor_100='no' uso_profesional='no' valora_estetica='sí' solo_electricos='no' transmision_preferida=<Transmision.AMBOS: 'ambos'> apasionado_motor='sí' aventura=<NivelAventura.ocasional: 'ocasional'>\n",
      "Input prefs type: <class 'graph.perfil.state.PerfilUsuario'>\n",
      "Checking field 'altura_mayor_190': value='sí', type=<class 'str'>\n",
      "Checking field 'peso_mayor_100': value='no', type=<class 'str'>\n",
      "Checking field 'uso_profesional': value='no', type=<class 'str'>\n",
      "Checking field 'valora_estetica': value='sí', type=<class 'str'>\n",
      "Checking field 'solo_electricos': value='no', type=<class 'str'>\n",
      "Checking field 'transmision_preferida': value='Transmision.AMBOS', type=<enum 'Transmision'>\n",
      "Checking field 'apasionado_motor': value='sí', type=<class 'str'>\n",
      "Checking field 'aventura': value='NivelAventura.ocasional', type=<enum 'NivelAventura'>\n",
      "DEBUG (Validation Perfil) ► Todos los campos obligatorios del perfil están presentes.\n",
      "DEBUG Router: Prefs OK? True\n",
      "--- DEBUG CHECK PASAJEROS ---\n",
      "Input info pasajeros: frecuencia='frecuente' num_ninos_silla=1 num_otros_pasajeros=1\n",
      "DEBUG (Validation Pasajeros) ► Frecuencia='frecuente'. Niños silla y otros pasajeros tienen valor. Considerado COMPLETO.\n",
      "DEBUG Router: Pasajeros OK? True\n",
      "DEBUG (Validation Filtros) ► Todos los campos obligatorios de filtros ('tipo_mecanica') están presentes y válidos.\n",
      "DEBUG Router: Filtros OK? True\n",
      "--- DEBUG CHECK ECONOMIA (Manual) ---\n",
      "Input econ object: modo=1 submodo=None ingresos=35000.0 ahorro=6000.0 pago_contado=None cuota_max=None entrada=None anos_posesion=None\n",
      "DEBUG (Validation Economía Manual) ► Modo 1 INCOMPLETO (faltan: anos_posesion).\n",
      "DEBUG Router: Economía OK? False\n",
      "DEBUG Router: Pesos Calculados? False\n",
      "DEBUG Router: Coches Buscados? False\n",
      "--- DEBUG CHECK PERFIL ---\n",
      "Input prefs object: altura_mayor_190='sí' peso_mayor_100='no' uso_profesional='no' valora_estetica='sí' solo_electricos='no' transmision_preferida=<Transmision.AMBOS: 'ambos'> apasionado_motor='sí' aventura=<NivelAventura.ocasional: 'ocasional'>\n",
      "Input prefs type: <class 'graph.perfil.state.PerfilUsuario'>\n",
      "Checking field 'altura_mayor_190': value='sí', type=<class 'str'>\n",
      "Checking field 'peso_mayor_100': value='no', type=<class 'str'>\n",
      "Checking field 'uso_profesional': value='no', type=<class 'str'>\n",
      "Checking field 'valora_estetica': value='sí', type=<class 'str'>\n",
      "Checking field 'solo_electricos': value='no', type=<class 'str'>\n",
      "Checking field 'transmision_preferida': value='Transmision.AMBOS', type=<enum 'Transmision'>\n",
      "Checking field 'apasionado_motor': value='sí', type=<class 'str'>\n",
      "Checking field 'aventura': value='NivelAventura.ocasional', type=<enum 'NivelAventura'>\n",
      "DEBUG (Validation Perfil) ► Todos los campos obligatorios del perfil están presentes.\n",
      "--- DEBUG CHECK PASAJEROS ---\n",
      "Input info pasajeros: frecuencia='frecuente' num_ninos_silla=1 num_otros_pasajeros=1\n",
      "DEBUG (Validation Pasajeros) ► Frecuencia='frecuente'. Niños silla y otros pasajeros tienen valor. Considerado COMPLETO.\n",
      "DEBUG (Validation Filtros) ► Todos los campos obligatorios de filtros ('tipo_mecanica') están presentes y válidos.\n",
      "--- DEBUG CHECK ECONOMIA (Manual) ---\n",
      "Input econ object: modo=1 submodo=None ingresos=35000.0 ahorro=6000.0 pago_contado=None cuota_max=None entrada=None anos_posesion=None\n",
      "DEBUG (Validation Economía Manual) ► Modo 1 INCOMPLETO (faltan: anos_posesion).\n",
      "DEBUG Router: Decisión -> recopilar_economia\n",
      "--- Ejecutando Nodo: recopilar_economia_node ---\n",
      "DEBUG (Economía) ► Llamando a llm_economia...\n"
     ]
    },
    {
     "name": "stderr",
     "output_type": "stream",
     "text": [
      "DEBUG:httpcore.http11:receive_response_headers.complete return_value=(b'HTTP/1.1', 200, b'OK', [(b'Date', b'Tue, 06 May 2025 17:27:30 GMT'), (b'Content-Type', b'application/json'), (b'Transfer-Encoding', b'chunked'), (b'Connection', b'keep-alive'), (b'access-control-expose-headers', b'X-Request-ID'), (b'openai-organization', b'user-ic25pcewdjuowsz9q2ektvrn'), (b'openai-processing-ms', b'1884'), (b'openai-version', b'2020-10-01'), (b'x-ratelimit-limit-requests', b'10000'), (b'x-ratelimit-limit-tokens', b'200000'), (b'x-ratelimit-remaining-requests', b'9998'), (b'x-ratelimit-remaining-tokens', b'197347'), (b'x-ratelimit-reset-requests', b'10.187s'), (b'x-ratelimit-reset-tokens', b'795ms'), (b'x-request-id', b'req_b1c5019e5ee4396bcedb08999973af7b'), (b'strict-transport-security', b'max-age=31536000; includeSubDomains; preload'), (b'cf-cache-status', b'DYNAMIC'), (b'X-Content-Type-Options', b'nosniff'), (b'Server', b'cloudflare'), (b'CF-RAY', b'93ba3041cc93e22e-MRS'), (b'Content-Encoding', b'gzip'), (b'alt-svc', b'h3=\":443\"; ma=86400')])\n",
      "INFO:httpx:HTTP Request: POST https://api.openai.com/v1/chat/completions \"HTTP/1.1 200 OK\"\n",
      "DEBUG:httpcore.http11:receive_response_body.started request=<Request [b'POST']>\n",
      "DEBUG:httpcore.http11:receive_response_body.complete\n",
      "DEBUG:httpcore.http11:response_closed.started\n",
      "DEBUG:httpcore.http11:response_closed.complete\n",
      "DEBUG:openai._base_client:HTTP Response: POST https://api.openai.com/v1/chat/completions \"200 OK\" Headers({'date': 'Tue, 06 May 2025 17:27:30 GMT', 'content-type': 'application/json', 'transfer-encoding': 'chunked', 'connection': 'keep-alive', 'access-control-expose-headers': 'X-Request-ID', 'openai-organization': 'user-ic25pcewdjuowsz9q2ektvrn', 'openai-processing-ms': '1884', 'openai-version': '2020-10-01', 'x-ratelimit-limit-requests': '10000', 'x-ratelimit-limit-tokens': '200000', 'x-ratelimit-remaining-requests': '9998', 'x-ratelimit-remaining-tokens': '197347', 'x-ratelimit-reset-requests': '10.187s', 'x-ratelimit-reset-tokens': '795ms', 'x-request-id': 'req_b1c5019e5ee4396bcedb08999973af7b', 'strict-transport-security': 'max-age=31536000; includeSubDomains; preload', 'cf-cache-status': 'DYNAMIC', 'x-content-type-options': 'nosniff', 'server': 'cloudflare', 'cf-ray': '93ba3041cc93e22e-MRS', 'content-encoding': 'gzip', 'alt-svc': 'h3=\":443\"; ma=86400'})\n",
      "DEBUG:openai._base_client:request_id: req_b1c5019e5ee4396bcedb08999973af7b\n",
      "DEBUG:httpx:load_ssl_context verify=True cert=None trust_env=True http2=False\n",
      "DEBUG:httpx:load_verify_locations cafile='/Users/andresrsalamanca/Documents/GitHub/MVP_CARMENTOR/car_env/lib/python3.11/site-packages/certifi/cacert.pem'\n",
      "DEBUG:httpx:load_ssl_context verify=True cert=None trust_env=True http2=False\n",
      "DEBUG:httpx:load_verify_locations cafile='/Users/andresrsalamanca/Documents/GitHub/MVP_CARMENTOR/car_env/lib/python3.11/site-packages/certifi/cacert.pem'\n"
     ]
    },
    {
     "name": "stdout",
     "output_type": "stream",
     "text": [
      "DEBUG (Economía) ► Respuesta llm_economia: economia=EconomiaUsuario(modo=1, submodo=None, ingresos=35000.0, ahorro=6000.0, pago_contado=None, cuota_max=None, entrada=None, anos_posesion=5) mensaje_validacion='¡Entendido! Ya tengo los datos necesarios para el Modo 1.'\n",
      "DEBUG (Economía) ► Estado economía actualizado: modo=1 submodo=None ingresos=35000.0 ahorro=6000.0 pago_contado=None cuota_max=None entrada=None anos_posesion=5\n",
      "DEBUG (Economía) ► Guardando pregunta pendiente: ¡Entendido! Ya tengo los datos necesarios para el Modo 1.\n",
      "--- Ejecutando Nodo: validar_economia_node ---\n",
      "--- DEBUG CHECK ECONOMIA (Manual) ---\n",
      "Input econ object: modo=1 submodo=None ingresos=35000.0 ahorro=6000.0 pago_contado=None cuota_max=None entrada=None anos_posesion=5\n",
      "DEBUG (Validation Economía Manual) ► Modo 1 completo (ingresos,ahorro y años_posesion presentes).\n",
      "DEBUG (Economía) ► Validación: Economía considerada COMPLETA.\n",
      "--- Evaluando Condición: ruta_decision_economia ---\n",
      "--- DEBUG CHECK ECONOMIA (Manual) ---\n",
      "Input econ object: modo=1 submodo=None ingresos=35000.0 ahorro=6000.0 pago_contado=None cuota_max=None entrada=None anos_posesion=5\n",
      "DEBUG (Validation Economía Manual) ► Modo 1 completo (ingresos,ahorro y años_posesion presentes).\n",
      "DEBUG (Condición Economía) ► Economía COMPLETA. Avanzando a finalizar.\n",
      "--- Ejecutando Nodo: finalizar_y_presentar_node ---\n",
      "DEBUG (Finalizar) ► Verificando si aplica lógica Modo 1...\n",
      "DEBUG (Finalizar) ► Modo 1 detectado. Calculando recomendación...\n",
      "DEBUG (Finalizar) ► Filtros actualizados con recomendación Modo 1: estetica_min=6.0 tipo_mecanica=[<TipoMecanica.BEV: 'BEV'>, <TipoMecanica.GASOLINA: 'GASOLINA'>, <TipoMecanica.HEVD: 'HEVD'>, <TipoMecanica.HEVG: 'HEVG'>, <TipoMecanica.PHEVD: 'PHEVD'>, <TipoMecanica.PHEVG: 'PHEVG'>] premium_min=6.0 singular_min=6.0 tipo_carroceria=None modo_adquisicion_recomendado='Financiado' precio_max_contado_recomendado=None cuota_max_calculada=291.6666666666667 plazas_min=3\n"
     ]
    },
    {
     "name": "stderr",
     "output_type": "stream",
     "text": [
      "DEBUG:openai._base_client:Request options: {'method': 'post', 'url': '/embeddings', 'files': None, 'post_parser': <function Embeddings.create.<locals>.parser at 0x11589a340>, 'json_data': {'input': [[8867, 28534, 6340, 25, 29631, 258, 2649, 95437, 3429, 658, 96488, 409, 16888, 1149, 25318, 13, 18944, 12826, 70096, 2649, 264, 5275, 67111, 17251, 437, 67581, 5670, 3429, 658, 2109, 37043, 78810, 5770, 297, 958, 9225, 5770, 13, 28783, 25, 1183, 74368, 11, 1515, 80278, 11, 94381, 300, 11, 72009, 822, 11, 47257, 71623, 4042], [32010, 2599, 1831, 3578, 25, 650, 2701, 67111, 390, 1028, 971, 38831, 1995, 302, 321, 11, 67581, 2172, 3429, 75396, 404, 453, 85208, 48647, 64195, 37116, 5203, 54413, 28338, 10126, 379, 409, 67009, 665, 1048, 28043, 78758, 11323, 92355, 13, 28783, 25, 18274, 822, 11, 2807, 5770, 11, 40457, 11, 4669, 21297, 23100, 437], [50, 23042, 25, 650, 2701, 67111, 409, 84908, 22514, 78, 379, 5553, 1995, 1678, 1744, 68225, 276, 93554, 409, 5275, 67111, 11791, 26464, 55983, 390, 1208, 470, 347, 5969, 379, 18190, 25131, 409, 2537, 5113, 1832, 85, 3742, 5804, 967, 83523, 13, 28783, 25, 34701, 9730, 11, 91806, 5808, 11, 27673, 11, 4669, 21297, 4143, 437, 11, 66584, 23201, 822], [58376, 7767, 946, 8253, 39874, 25, 650, 2701, 67111, 67581, 5670, 3429, 18434, 79021, 37015, 297, 4669, 21297, 4143, 437, 11, 26458, 5670, 390, 90706, 11, 13081, 14871, 379, 45112, 409, 6697, 598, 78, 13, 14123, 3916, 3429, 13535, 17434, 379, 91806, 5808, 13, 28783, 25, 13535, 17434, 11, 91806, 5808, 11, 4669, 19571, 379, 30209, 404, 11, 33873], [8445, 52, 1777, 25, 20319, 1832, 85, 3742, 409, 8924, 18757, 53530, 390, 84908, 28338, 6632, 11, 18190, 15844, 379, 34548, 347, 258, 36334, 17038, 13, 3331, 12826, 70096, 5670, 390, 4902, 300, 23095, 12712, 379, 1826, 89029, 28338, 10126, 13, 28783, 25, 3927, 11, 75886, 11, 70383, 11, 76069, 22776, 28338, 10126], [37, 1539, 38, 715, 21352, 25, 650, 2701, 67111, 23201, 3614, 33272, 5670, 95437, 3429, 96488, 409, 16888, 1149, 25318, 297, 32525, 13, 328, 4088, 268, 64195, 261, 16109, 83392, 409, 76136, 379, 5553, 266, 321, 5969, 13, 28783, 25, 76007, 25626, 11, 39318, 11, 96488, 11, 4669, 21297, 52047, 417], [22053, 40057, 13108, 965, 25, 20319, 1832, 85, 3742, 33632, 511, 5670, 665, 31127, 11403, 658, 66584, 15135, 11, 2679, 3916, 3429, 44526, 3557, 4247, 924, 470, 347, 5969, 11, 1097, 2344, 664, 379, 48071, 5840, 19303, 409, 439, 33060, 13, 28783, 25, 11537, 11, 4669, 21297, 11, 68356, 11, 470, 347, 5969, 11, 42916, 66584], [47, 10915, 3202, 25, 650, 2701, 67111, 33329, 73258, 4247, 924, 272, 19580, 34264, 2473, 671, 17465, 64, 67581, 2649, 3429, 7710, 277, 62762, 300, 38546, 297, 18541, 11354, 13, 386, 4168, 33272, 5670, 665, 1167, 56401, 436, 324, 3916, 297, 3429, 39974, 437, 67965, 3916, 13, 28783, 25, 27673, 11, 91806, 5808, 11, 39318, 19624, 11, 76136, 18541, 2649], [51, 2114, 1831, 643, 793, 9173, 25, 24959, 5771, 5670, 79020, 52777, 3429, 75396, 404, 70775, 409, 1841, 265, 51137, 11, 390, 93554, 8112, 490, 67147, 26154, 11, 9482, 729, 3739, 312, 2000, 89, 2649, 379, 76509, 5808, 22884, 6960, 264, 2024, 1466, 437, 79965, 3742, 13, 28783, 25, 70775, 409, 1841, 265, 51137, 11, 2024, 1466, 437, 79965, 3742, 11, 20605, 42361, 11, 27673, 297, 1167, 56401, 436, 324, 3916, 11, 28338, 288, 453, 85208, 48647, 11]], 'model': 'text-embedding-ada-002', 'encoding_format': 'base64'}}\n",
      "DEBUG:openai._base_client:Sending HTTP Request: POST https://api.openai.com/v1/embeddings\n",
      "DEBUG:httpcore.connection:connect_tcp.started host='api.openai.com' port=443 local_address=None timeout=None socket_options=None\n",
      "DEBUG:httpcore.connection:connect_tcp.complete return_value=<httpcore._backends.sync.SyncStream object at 0x11573b950>\n",
      "DEBUG:httpcore.connection:start_tls.started ssl_context=<ssl.SSLContext object at 0x115b94f80> server_hostname='api.openai.com' timeout=None\n",
      "DEBUG:httpcore.connection:start_tls.complete return_value=<httpcore._backends.sync.SyncStream object at 0x1235400d0>\n",
      "DEBUG:httpcore.http11:send_request_headers.started request=<Request [b'POST']>\n",
      "DEBUG:httpcore.http11:send_request_headers.complete\n",
      "DEBUG:httpcore.http11:send_request_body.started request=<Request [b'POST']>\n",
      "DEBUG:httpcore.http11:send_request_body.complete\n",
      "DEBUG:httpcore.http11:receive_response_headers.started request=<Request [b'POST']>\n",
      "DEBUG:httpcore.http11:receive_response_headers.complete return_value=(b'HTTP/1.1', 200, b'OK', [(b'Date', b'Tue, 06 May 2025 17:27:31 GMT'), (b'Content-Type', b'application/json'), (b'Transfer-Encoding', b'chunked'), (b'Connection', b'keep-alive'), (b'access-control-allow-origin', b'*'), (b'access-control-expose-headers', b'X-Request-ID'), (b'openai-model', b'text-embedding-ada-002-v2'), (b'openai-organization', b'user-ic25pcewdjuowsz9q2ektvrn'), (b'openai-processing-ms', b'209'), (b'openai-version', b'2020-10-01'), (b'strict-transport-security', b'max-age=31536000; includeSubDomains; preload'), (b'via', b'envoy-router-d4f4bcc87-l4m94'), (b'x-envoy-upstream-service-time', b'137'), (b'x-ratelimit-limit-requests', b'3000'), (b'x-ratelimit-limit-tokens', b'1000000'), (b'x-ratelimit-remaining-requests', b'2999'), (b'x-ratelimit-remaining-tokens', b'999473'), (b'x-ratelimit-reset-requests', b'20ms'), (b'x-ratelimit-reset-tokens', b'31ms'), (b'x-request-id', b'req_f31a59886bb98910ce04ea35a06462a2'), (b'cf-cache-status', b'DYNAMIC'), (b'Set-Cookie', b'__cf_bm=e6UDOQK4qLoiD3I2akloBZFRtqW_SoTvEOMQZR07Lpk-1746552451-1.0.1.1-2ZAQ73qypNra4cI.sPlsC732sB4oSERGmr5UPoagbtK5Eo4eZEGRJptbJ_Q1zHzXEZJBIegaGSIUUDdN0zGkfJqP_CB1Y0A0phK4deqrh_s; path=/; expires=Tue, 06-May-25 17:57:31 GMT; domain=.api.openai.com; HttpOnly; Secure; SameSite=None'), (b'X-Content-Type-Options', b'nosniff'), (b'Set-Cookie', b'_cfuvid=b0tccLweX7RztoJprsFt1h142MMaMfJlymuzQ52VK1g-1746552451307-0.0.1.1-604800000; path=/; domain=.api.openai.com; HttpOnly; Secure; SameSite=None'), (b'Server', b'cloudflare'), (b'CF-RAY', b'93ba30507a666d90-BCN'), (b'Content-Encoding', b'gzip'), (b'alt-svc', b'h3=\":443\"; ma=86400')])\n",
      "INFO:httpx:HTTP Request: POST https://api.openai.com/v1/embeddings \"HTTP/1.1 200 OK\"\n",
      "DEBUG:httpcore.http11:receive_response_body.started request=<Request [b'POST']>\n",
      "DEBUG:httpcore.http11:receive_response_body.complete\n",
      "DEBUG:httpcore.http11:response_closed.started\n",
      "DEBUG:httpcore.http11:response_closed.complete\n",
      "DEBUG:openai._base_client:HTTP Response: POST https://api.openai.com/v1/embeddings \"200 OK\" Headers([('date', 'Tue, 06 May 2025 17:27:31 GMT'), ('content-type', 'application/json'), ('transfer-encoding', 'chunked'), ('connection', 'keep-alive'), ('access-control-allow-origin', '*'), ('access-control-expose-headers', 'X-Request-ID'), ('openai-model', 'text-embedding-ada-002-v2'), ('openai-organization', 'user-ic25pcewdjuowsz9q2ektvrn'), ('openai-processing-ms', '209'), ('openai-version', '2020-10-01'), ('strict-transport-security', 'max-age=31536000; includeSubDomains; preload'), ('via', 'envoy-router-d4f4bcc87-l4m94'), ('x-envoy-upstream-service-time', '137'), ('x-ratelimit-limit-requests', '3000'), ('x-ratelimit-limit-tokens', '1000000'), ('x-ratelimit-remaining-requests', '2999'), ('x-ratelimit-remaining-tokens', '999473'), ('x-ratelimit-reset-requests', '20ms'), ('x-ratelimit-reset-tokens', '31ms'), ('x-request-id', 'req_f31a59886bb98910ce04ea35a06462a2'), ('cf-cache-status', 'DYNAMIC'), ('set-cookie', '__cf_bm=e6UDOQK4qLoiD3I2akloBZFRtqW_SoTvEOMQZR07Lpk-1746552451-1.0.1.1-2ZAQ73qypNra4cI.sPlsC732sB4oSERGmr5UPoagbtK5Eo4eZEGRJptbJ_Q1zHzXEZJBIegaGSIUUDdN0zGkfJqP_CB1Y0A0phK4deqrh_s; path=/; expires=Tue, 06-May-25 17:57:31 GMT; domain=.api.openai.com; HttpOnly; Secure; SameSite=None'), ('x-content-type-options', 'nosniff'), ('set-cookie', '_cfuvid=b0tccLweX7RztoJprsFt1h142MMaMfJlymuzQ52VK1g-1746552451307-0.0.1.1-604800000; path=/; domain=.api.openai.com; HttpOnly; Secure; SameSite=None'), ('server', 'cloudflare'), ('cf-ray', '93ba30507a666d90-BCN'), ('content-encoding', 'gzip'), ('alt-svc', 'h3=\":443\"; ma=86400')])\n",
      "DEBUG:openai._base_client:request_id: req_f31a59886bb98910ce04ea35a06462a2\n",
      "DEBUG:faiss.loader:Environment variable FAISS_OPT_LEVEL is not set, so let's pick the instruction set according to the current CPU\n",
      "INFO:faiss.loader:Loading faiss.\n",
      "INFO:faiss.loader:Successfully loaded faiss.\n",
      "INFO:faiss:Failed to load GPU Faiss: name 'GpuIndexIVFFlat' is not defined. Will not load constructor refs for GPU indexes.\n",
      "DEBUG:openai._base_client:Request options: {'method': 'post', 'url': '/embeddings', 'files': None, 'post_parser': <function Embeddings.create.<locals>.parser at 0x1277a79c0>, 'json_data': {'input': [[67, 1082, 14871, 27673, 29413, 2382, 70775, 409, 439, 69, 76777, 3521, 1759, 11685, 52047, 35010, 34709, 288, 4001]], 'model': 'text-embedding-ada-002', 'encoding_format': 'base64'}}\n",
      "DEBUG:openai._base_client:Sending HTTP Request: POST https://api.openai.com/v1/embeddings\n",
      "DEBUG:httpcore.http11:send_request_headers.started request=<Request [b'POST']>\n",
      "DEBUG:httpcore.http11:send_request_headers.complete\n",
      "DEBUG:httpcore.http11:send_request_body.started request=<Request [b'POST']>\n",
      "DEBUG:httpcore.http11:send_request_body.complete\n",
      "DEBUG:httpcore.http11:receive_response_headers.started request=<Request [b'POST']>\n"
     ]
    },
    {
     "name": "stdout",
     "output_type": "stream",
     "text": [
      "Query partes: ['diseño', 'campo', 'ligero fuera de asfalto', 'excursiones', 'familia', 'uso_profesional']\n"
     ]
    },
    {
     "name": "stderr",
     "output_type": "stream",
     "text": [
      "DEBUG:httpcore.http11:receive_response_headers.complete return_value=(b'HTTP/1.1', 200, b'OK', [(b'Date', b'Tue, 06 May 2025 17:27:32 GMT'), (b'Content-Type', b'application/json'), (b'Transfer-Encoding', b'chunked'), (b'Connection', b'keep-alive'), (b'access-control-allow-origin', b'*'), (b'access-control-expose-headers', b'X-Request-ID'), (b'openai-model', b'text-embedding-ada-002-v2'), (b'openai-organization', b'user-ic25pcewdjuowsz9q2ektvrn'), (b'openai-processing-ms', b'109'), (b'openai-version', b'2020-10-01'), (b'strict-transport-security', b'max-age=31536000; includeSubDomains; preload'), (b'via', b'envoy-router-5747c46f85-fhx8c'), (b'x-envoy-upstream-service-time', b'92'), (b'x-ratelimit-limit-requests', b'3000'), (b'x-ratelimit-limit-tokens', b'1000000'), (b'x-ratelimit-remaining-requests', b'2999'), (b'x-ratelimit-remaining-tokens', b'999980'), (b'x-ratelimit-reset-requests', b'20ms'), (b'x-ratelimit-reset-tokens', b'1ms'), (b'x-request-id', b'req_0fe53a189b09b317ff356366d8c84bbf'), (b'cf-cache-status', b'DYNAMIC'), (b'X-Content-Type-Options', b'nosniff'), (b'Server', b'cloudflare'), (b'CF-RAY', b'93ba30568f8d6d90-BCN'), (b'Content-Encoding', b'gzip'), (b'alt-svc', b'h3=\":443\"; ma=86400')])\n",
      "INFO:httpx:HTTP Request: POST https://api.openai.com/v1/embeddings \"HTTP/1.1 200 OK\"\n",
      "DEBUG:httpcore.http11:receive_response_body.started request=<Request [b'POST']>\n",
      "DEBUG:httpcore.http11:receive_response_body.complete\n",
      "DEBUG:httpcore.http11:response_closed.started\n",
      "DEBUG:httpcore.http11:response_closed.complete\n",
      "DEBUG:openai._base_client:HTTP Response: POST https://api.openai.com/v1/embeddings \"200 OK\" Headers({'date': 'Tue, 06 May 2025 17:27:32 GMT', 'content-type': 'application/json', 'transfer-encoding': 'chunked', 'connection': 'keep-alive', 'access-control-allow-origin': '*', 'access-control-expose-headers': 'X-Request-ID', 'openai-model': 'text-embedding-ada-002-v2', 'openai-organization': 'user-ic25pcewdjuowsz9q2ektvrn', 'openai-processing-ms': '109', 'openai-version': '2020-10-01', 'strict-transport-security': 'max-age=31536000; includeSubDomains; preload', 'via': 'envoy-router-5747c46f85-fhx8c', 'x-envoy-upstream-service-time': '92', 'x-ratelimit-limit-requests': '3000', 'x-ratelimit-limit-tokens': '1000000', 'x-ratelimit-remaining-requests': '2999', 'x-ratelimit-remaining-tokens': '999980', 'x-ratelimit-reset-requests': '20ms', 'x-ratelimit-reset-tokens': '1ms', 'x-request-id': 'req_0fe53a189b09b317ff356366d8c84bbf', 'cf-cache-status': 'DYNAMIC', 'x-content-type-options': 'nosniff', 'server': 'cloudflare', 'cf-ray': '93ba30568f8d6d90-BCN', 'content-encoding': 'gzip', 'alt-svc': 'h3=\":443\"; ma=86400'})\n",
      "DEBUG:openai._base_client:request_id: req_0fe53a189b09b317ff356366d8c84bbf\n",
      "DEBUG:google.auth._default:Checking /Users/andresrsalamanca/.config/gcloud/application_default_credentials.json for explicit credentials as part of auth process...\n",
      "DEBUG:google.auth._default:Explicit credentials path /Users/andresrsalamanca/.config/gcloud/application_default_credentials.json is the same as Cloud SDK credentials path, fall back to Cloud SDK credentials flow...\n",
      "DEBUG:google.auth._default:Checking Cloud SDK credentials as part of auth process...\n"
     ]
    },
    {
     "name": "stdout",
     "output_type": "stream",
     "text": [
      "DEBUG (Finalizar) ► RAG recomendó: ['TODOTERRENO', 'DESCAPOTABLE', 'SUV']\n",
      "DEBUG (Finalizar) ► Calculando pesos...\n",
      "DEBUG (Weights) ► Pesos crudos iniciales (est/prem/sing): {'estetica': 6.0, 'premium': 6.0, 'singular': 6.0}\n",
      "DEBUG (Weights) ► Pesos crudos tras añadir aventura: {'estetica': 6.0, 'premium': 6.0, 'singular': 6.0, 'altura_libre_suelo': 6.0, 'traccion': 4.0, 'reductoras': 1.0}\n",
      "DEBUG (Weights) ► Usuario alto. Asignando pesos altos a batalla/índice.\n",
      "DEBUG (Weights) ► Priorizar Ancho=False/None. Asignando peso crudo bajo a ancho: 0.5\n",
      "DEBUG (Weights) ► Pesos Crudos FINALES: {'estetica': 6.0, 'premium': 6.0, 'singular': 6.0, 'altura_libre_suelo': 6.0, 'traccion': 4.0, 'reductoras': 1.0, 'batalla': 6.0, 'indice_altura_interior': 5.0, 'ancho': 0.5}\n",
      "DEBUG (Normalize Weights) ► Pesos Normalizados: {'estetica': 0.14814814814814814, 'premium': 0.14814814814814814, 'singular': 0.14814814814814814, 'altura_libre_suelo': 0.14814814814814814, 'traccion': 0.09876543209876543, 'reductoras': 0.024691358024691357, 'batalla': 0.14814814814814814, 'indice_altura_interior': 0.12345679012345678, 'ancho': 0.012345679012345678}\n",
      "DEBUG (Finalizar) ► Pesos calculados: {'estetica': 0.14814814814814814, 'premium': 0.14814814814814814, 'singular': 0.14814814814814814, 'altura_libre_suelo': 0.14814814814814814, 'traccion': 0.09876543209876543, 'reductoras': 0.024691358024691357, 'batalla': 0.14814814814814814, 'indice_altura_interior': 0.12345679012345678, 'ancho': 0.012345679012345678}\n",
      "DEBUG (Finalizar) ► Formateando tabla final...\n",
      "\n",
      "--- TABLA RESUMEN GENERADA (DEBUG) ---\n",
      "✅ He entendido lo siguiente sobre tus preferencias:\n",
      "\n",
      "| Preferencia             | Valor                      |\n",
      "|-------------------------|----------------------------|\n",
      "| Tipo de coche           | No necesariamente eléctrico |\n",
      "| Uso                     | Particular |\n",
      "| Altura                  | Mayor a 1.90 m |\n",
      "| Peso                    | Menor a 100 kg |\n",
      "| Estética                | Importante |\n",
      "| Transmisión preferida   | Ambos |\n",
      "| Apasionado del motor    | Sí |\n",
      "| Aventura                | Ocasional |\n",
      "\n",
      "🎯 Filtros técnicos inferidos:\n",
      "\n",
      "| Filtro técnico        | Valor                            |\n",
      "|-----------------------|----------------------------------|\n",
      "| Tipo de mecánica     | BEV, GASOLINA, HEVD, HEVG, PHEVD, PHEVG |\n",
      "| Tipo de carrocería   | TODOTERRENO, DESCAPOTABLE, SUV |\n",
      "| Estética mínima      | 6.0 |\n",
      "| Premium mínima       | 6.0 |\n",
      "| Singularidad mínima  | 6.0 |\n",
      "| Modo Adquisición Rec. | Financiado |\n",
      "| Cuota Máx. Calculada    | 292 €/mes |\n",
      "\n",
      "💰 Economía del usuario:\n",
      "\n",
      "| Concepto                | Valor               |\n",
      "|-------------------------|---------------------|\n",
      "| Modo                    | Asesor Financiero |\n",
      "| Años Posesión Estimados | 5 años |\n",
      "| Ingresos (Aprox Anual)| 35.000 € |\n",
      "| Ahorro disponible       | 6.000 € |\n",
      "\n",
      "\n",
      "Espero que este resumen te sea útil.\n",
      "--------------------------------------\n",
      "\n",
      "--- Ejecutando Nodo: buscar_coches_finales_node ---\n",
      "DEBUG (Buscar BQ) ► Llamando a buscar_coches_bq con k=5\n",
      "DEBUG (Buscar BQ) ► Filtros para BQ: {'estetica_min': 6.0, 'tipo_mecanica': ['BEV', 'GASOLINA', 'HEVD', 'HEVG', 'PHEVD', 'PHEVG'], 'premium_min': 6.0, 'singular_min': 6.0, 'tipo_carroceria': ['TODOTERRENO', 'DESCAPOTABLE', 'SUV'], 'modo_adquisicion_recomendado': 'Financiado', 'cuota_max_calculada': 291.6666666666667, 'plazas_min': 3, 'penalizar_puertas_bajas': True}\n",
      "DEBUG (Buscar BQ) ► Pesos para BQ: {'estetica': 0.14814814814814814, 'premium': 0.14814814814814814, 'singular': 0.14814814814814814, 'altura_libre_suelo': 0.14814814814814814, 'traccion': 0.09876543209876543, 'reductoras': 0.024691358024691357, 'batalla': 0.14814814814814814, 'indice_altura_interior': 0.12345679012345678, 'ancho': 0.012345679012345678}\n"
     ]
    },
    {
     "name": "stderr",
     "output_type": "stream",
     "text": [
      "DEBUG:google.auth._default:Checking /Users/andresrsalamanca/.config/gcloud/application_default_credentials.json for explicit credentials as part of auth process...\n",
      "DEBUG:google.auth._default:Explicit credentials path /Users/andresrsalamanca/.config/gcloud/application_default_credentials.json is the same as Cloud SDK credentials path, fall back to Cloud SDK credentials flow...\n",
      "DEBUG:google.auth._default:Checking Cloud SDK credentials as part of auth process...\n",
      "DEBUG:urllib3.util.retry:Converted retries value: 3 -> Retry(total=3, connect=None, read=None, redirect=None, status=None)\n",
      "DEBUG:google.auth.transport.requests:Making request: POST https://oauth2.googleapis.com/token\n",
      "DEBUG:urllib3.connectionpool:Starting new HTTPS connection (1): oauth2.googleapis.com:443\n",
      "DEBUG:urllib3.connectionpool:https://oauth2.googleapis.com:443 \"POST /token HTTP/1.1\" 200 None\n",
      "DEBUG:urllib3.connectionpool:Starting new HTTPS connection (1): bigquery.googleapis.com:443\n"
     ]
    },
    {
     "name": "stdout",
     "output_type": "stream",
     "text": [
      "DEBUG (BQ Search) ► Aplicando filtro: Plazas >= 3\n",
      "DEBUG (BQ Search) ► Aplicando Filtro Económico Condicional...\n",
      "DEBUG (BQ Search) ► Detectado Modo 1 Rec. Financiado. Límite Cuota: 291.6666666666667\n",
      "DEBUG (BQ Search) ► Añadiendo SQL: Cuota Estimada <= 291.6666666666667\n",
      "--- 🧠 SQL Query ---\n",
      " \n",
      "    WITH ScaledData AS (\n",
      "        -- Pre-calcular valores escalados 0-1 para legibilidad\n",
      "        SELECT\n",
      "            *,\n",
      "            -- Usar COALESCE antes de escalar, asignando el valor mínimo si es NULL\n",
      "            COALESCE(SAFE_DIVIDE(COALESCE(estetica, 0.1) - 0.1, 10.0 - 0.1), 0) AS estetica_scaled,\n",
      "            COALESCE(SAFE_DIVIDE(COALESCE(premium, 0.1) - 0.1, 10.0 - 0.1), 0) AS premium_scaled,\n",
      "            COALESCE(SAFE_DIVIDE(COALESCE(singular, 0.1) - 0.1, 10.0 - 0.1), 0) AS singular_scaled,\n",
      "            COALESCE(SAFE_DIVIDE(COALESCE(altura_libre_suelo, 79.0) - 79.0, 314.0 - 79.0), 0) AS altura_scaled,\n",
      "            COALESCE(SAFE_DIVIDE(COALESCE(batalla, 1650.0) - 1650.0, 4035.0 - 1650.0), 0) AS batalla_scaled,\n",
      "            COALESCE(SAFE_DIVIDE(COALESCE(indice_altura_interior, 0.9) - 0.9, 2.7 - 0.9), 0) AS indice_altura_scaled,\n",
      "            COALESCE(SAFE_DIVIDE(COALESCE(ancho, 1410.0) - 1410.0, 2164.0 - 1410.0), 0) AS ancho_scaled,\n",
      "            -- Mapeo Tracción\n",
      "            CASE WHEN traccion = 'ALL' THEN 1.0 WHEN traccion = 'RWD' THEN 0.5 ELSE 0.0 END AS traccion_scaled,\n",
      "            -- Mapeo Reductoras\n",
      "            (CASE WHEN COALESCE(reductoras, FALSE) THEN 1.0 ELSE 0.0 END) AS reductoras_scaled,\n",
      "            -- Indicador Penalización Puertas Bajas\n",
      "            (CASE WHEN @penalizar_puertas = TRUE AND puertas <= 3 THEN -0.15 ELSE 0.0 END) AS puertas_penalty\n",
      "        FROM\n",
      "            `thecarmentor-mvp2.web_cars.match_coches_pruebas` -- Reemplaza con tu tabla\n",
      "    )\n",
      "    SELECT\n",
      "      -- Columnas originales que quieres devolver ...\n",
      "      nombre, ID, marca, modelo, cambio_automatico, tipo_mecanica, \n",
      "      tipo_carroceria, indice_altura_interior, batalla, estetica, premium, \n",
      "      singular, altura_libre_suelo, ancho, traccion, reductoras, precio_compra_contado, puertas, plazas\n",
      "      \n",
      "      -- --- CÁLCULO SCORE FINAL USANDO VALORES ESCALADOS ---\n",
      "      (\n",
      "          \n",
      "        estetica_scaled * @peso_estetica \n",
      "        + premium_scaled * @peso_premium\n",
      "        + singular_scaled * @peso_singular\n",
      "        + altura_scaled * @peso_altura\n",
      "        + batalla_scaled * @peso_batalla \n",
      "        + indice_altura_scaled * @peso_indice_altura\n",
      "        + ancho_scaled * @peso_ancho -- <-- Nuevo término ponderado por ancho\n",
      "        + traccion_scaled * @peso_traccion\n",
      "        + reductoras_scaled * @peso_reductoras\n",
      "        + puertas_penalty -- <-- Aplicar penalización por puertas\n",
      "      ) AS score_total\n",
      "      -- --- FIN CÁLCULO SCORE ---\n",
      "      \n",
      "    FROM ScaledData\n",
      "    WHERE 1=1 \n",
      "    \n",
      "      AND COALESCE(estetica, 0) >= @estetica_min\n",
      "      AND COALESCE(premium, 0) >= @premium_min\n",
      "      AND COALESCE(singular, 0) >= @singular_min\n",
      "      AND plazas >= @plazas_min\n",
      "      AND tipo_mecanica IN UNNEST(@tipos_mecanica)\n",
      "      AND tipo_carroceria IN UNNEST(@tipos_carroceria)\n",
      "      AND COALESCE(precio_compra_contado, 0) * 1.35 / 96.0 <= @cuota_maxima\n",
      "    ORDER BY score_total DESC, precio_compra_contado ASC\n",
      "    LIMIT @k\n",
      "\n",
      "--- 📦 Parameters ---\n",
      " [('peso_estetica', 0.14814814814814814), ('peso_premium', 0.14814814814814814), ('peso_singular', 0.14814814814814814), ('peso_altura', 0.14814814814814814), ('peso_batalla', 0.14814814814814814), ('peso_indice_altura', 0.12345679012345678), ('peso_ancho', 0.012345679012345678), ('peso_traccion', 0.09876543209876543), ('peso_reductoras', 0.024691358024691357), ('penalizar_puertas', True), ('estetica_min', 6.0), ('premium_min', 6.0), ('singular_min', 6.0), ('plazas_min', 3), ('tipos_mecanica', ['BEV', 'GASOLINA', 'HEVD', 'HEVG', 'PHEVD', 'PHEVG']), ('tipos_carroceria', ['TODOTERRENO', 'DESCAPOTABLE', 'SUV']), ('cuota_maxima', 291.6666666666667), ('k', 5)]\n"
     ]
    },
    {
     "name": "stderr",
     "output_type": "stream",
     "text": [
      "DEBUG:urllib3.connectionpool:https://bigquery.googleapis.com:443 \"POST /bigquery/v2/projects/thecarmentor-mvp2/jobs?prettyPrint=false HTTP/1.1\" 200 None\n"
     ]
    },
    {
     "name": "stdout",
     "output_type": "stream",
     "text": [
      "==================================\u001b[1m Ai Message \u001b[0m==================================\n",
      "\n",
      "He aplicado todos tus filtros, pero no encontré coches que coincidan exactamente en este momento. ¿Quizás quieras ajustar algún criterio?\n"
     ]
    }
   ],
   "source": [
    "config = {\"configurable\": {\"thread_id\": \"2\"}}\n",
    "input_message = HumanMessage(content=\"5 años\")\n",
    "output = graph.invoke({\"messages\": [input_message]}, config) \n",
    "for m in output['messages'][-1:]:\n",
    "    m.pretty_print()"
   ]
  },
  {
   "cell_type": "code",
   "execution_count": 18,
   "metadata": {},
   "outputs": [
    {
     "name": "stdout",
     "output_type": "stream",
     "text": [
      "altura_mayor_190='sí' peso_mayor_100='no' uso_profesional='no' valora_estetica='sí' solo_electricos='no' transmision_preferida=<Transmision.AMBOS: 'ambos'> apasionado_motor='sí' aventura=<NivelAventura.ocasional: 'ocasional'>\n",
      "---------------------------------------------------------------------\n",
      "estetica_min=6.0 tipo_mecanica=[<TipoMecanica.BEV: 'BEV'>, <TipoMecanica.GASOLINA: 'GASOLINA'>, <TipoMecanica.HEVD: 'HEVD'>, <TipoMecanica.HEVG: 'HEVG'>, <TipoMecanica.PHEVD: 'PHEVD'>, <TipoMecanica.PHEVG: 'PHEVG'>] premium_min=6.0 singular_min=6.0 tipo_carroceria=['TODOTERRENO', 'DESCAPOTABLE', 'SUV'] modo_adquisicion_recomendado='Financiado' precio_max_contado_recomendado=None cuota_max_calculada=291.6666666666667 plazas_min=3\n",
      "---------------------------------------------------------------------\n",
      "modo=1 submodo=None ingresos=35000.0 ahorro=6000.0 pago_contado=None cuota_max=None entrada=None anos_posesion=5\n",
      "---------------------------------------------------------------------\n",
      "{'estetica': 0.14814814814814814, 'premium': 0.14814814814814814, 'singular': 0.14814814814814814, 'altura_libre_suelo': 0.14814814814814814, 'traccion': 0.09876543209876543, 'reductoras': 0.024691358024691357, 'batalla': 0.14814814814814814, 'indice_altura_interior': 0.12345679012345678, 'ancho': 0.012345679012345678}\n"
     ]
    }
   ],
   "source": [
    "print(output['preferencias_usuario'])\n",
    "print('---------------------------------------------------------------------')\n",
    "print(output['filtros_inferidos'])\n",
    "print('---------------------------------------------------------------------')\n",
    "print(output['economia'])\n",
    "print('---------------------------------------------------------------------')\n",
    "print(output['pesos'])"
   ]
  },
  {
   "cell_type": "code",
   "execution_count": 22,
   "metadata": {},
   "outputs": [
    {
     "name": "stdout",
     "output_type": "stream",
     "text": [
      "dict_keys(['messages', 'preferencias_usuario', 'filtros_inferidos', 'economia', 'pesos', 'pregunta_pendiente', 'coches_recomendados', 'info_pasajeros', 'penalizar_puertas_bajas', 'priorizar_ancho'])\n"
     ]
    }
   ],
   "source": [
    "print(output.keys())"
   ]
  },
  {
   "cell_type": "code",
   "execution_count": 19,
   "metadata": {},
   "outputs": [
    {
     "name": "stdout",
     "output_type": "stream",
     "text": [
      "{'estetica': 0.14814814814814814, 'premium': 0.14814814814814814, 'singular': 0.14814814814814814, 'altura_libre_suelo': 0.14814814814814814, 'traccion': 0.09876543209876543, 'reductoras': 0.024691358024691357, 'batalla': 0.14814814814814814, 'indice_altura_interior': 0.12345679012345678, 'ancho': 0.012345679012345678}\n"
     ]
    }
   ],
   "source": [
    "print(output['pesos'])"
   ]
  },
  {
   "cell_type": "code",
   "execution_count": null,
   "metadata": {},
   "outputs": [],
   "source": [
    "state = graph.get_state(config).values\n",
    "for m in state['messages']:\n",
    "    m.pretty_print()\n",
    "    \n",
    "    "
   ]
  },
  {
   "cell_type": "markdown",
   "metadata": {},
   "source": [
    "revisar las reglas de altura "
   ]
  },
  {
   "cell_type": "markdown",
   "metadata": {},
   "source": [
    "## Prueba 3"
   ]
  },
  {
   "cell_type": "code",
   "execution_count": null,
   "metadata": {},
   "outputs": [],
   "source": [
    "# Create a thread\n",
    "config = {\"configurable\": {\"thread_id\": \"3\"}}\n",
    "\n",
    "# Start conversation\n",
    "input_message = HumanMessage(content=\"hola, dime quien eres?\")\n",
    "output = graph.invoke({\"messages\": [input_message]}, config) \n",
    "for m in output['messages'][-1:]:\n",
    "    m.pretty_print()\n"
   ]
  },
  {
   "cell_type": "code",
   "execution_count": null,
   "metadata": {},
   "outputs": [],
   "source": [
    "print(output['preferencias_usuario'])\n",
    "print('---------------------------------------------------------------------')\n",
    "print(output['filtros_inferidos'])\n"
   ]
  },
  {
   "cell_type": "code",
   "execution_count": null,
   "metadata": {},
   "outputs": [],
   "source": [
    "# Create a thread\n",
    "config = {\"configurable\": {\"thread_id\": \"3\"}}\n",
    "\n",
    "# Start conversation\n",
    "input_message = HumanMessage(content=\"tienes motos?\")\n",
    "output = graph.invoke({\"messages\": [input_message]}, config) \n",
    "for m in output['messages'][-1:]:\n",
    "    m.pretty_print()\n"
   ]
  },
  {
   "cell_type": "code",
   "execution_count": null,
   "metadata": {},
   "outputs": [],
   "source": [
    "print(output['preferencias_usuario'])\n",
    "print('---------------------------------------------------------------------')\n",
    "print(output['filtros_inferidos'])"
   ]
  },
  {
   "cell_type": "code",
   "execution_count": null,
   "metadata": {},
   "outputs": [],
   "source": [
    "# Consultar todo el estado acumulado\n",
    "state = graph.get_state(config).values\n",
    "for m in state[\"messages\"]:\n",
    "    m.pretty_print()"
   ]
  },
  {
   "cell_type": "markdown",
   "metadata": {},
   "source": [
    "## Prueba 4"
   ]
  },
  {
   "cell_type": "code",
   "execution_count": null,
   "metadata": {},
   "outputs": [],
   "source": [
    "# Create a thread\n",
    "config = {\"configurable\": {\"thread_id\": \"4\"}}\n",
    "\n",
    "# Start conversation\n",
    "input_message = HumanMessage(content=\"Quiero un coche elegante que usaré para trabajar todos los días. Me gustan los diseños llamativos. Mido 1.94\")\n",
    "output = graph.invoke({\"messages\": [input_message]}, config) \n",
    "for m in output['messages'][-1:]:\n",
    "    m.pretty_print()"
   ]
  },
  {
   "cell_type": "code",
   "execution_count": null,
   "metadata": {},
   "outputs": [],
   "source": [
    "print(output['preferencias_usuario'])\n",
    "print('---------------------------------------------------------------------')\n",
    "print(output['filtros_inferidos'])\n"
   ]
  },
  {
   "cell_type": "code",
   "execution_count": null,
   "metadata": {},
   "outputs": [],
   "source": [
    "# Create a thread\n",
    "config = {\"configurable\": {\"thread_id\": \"4\"}}\n",
    "\n",
    "# Start conversation\n",
    "input_message = HumanMessage(content=\"si electrico estaria perfecto\")\n",
    "output = graph.invoke({\"messages\": [input_message]}, config) \n",
    "for m in output['messages'][-1:]:\n",
    "    m.pretty_print()"
   ]
  },
  {
   "cell_type": "code",
   "execution_count": null,
   "metadata": {},
   "outputs": [],
   "source": [
    "print(output['preferencias_usuario'])\n",
    "print('---------------------------------------------------------------------')\n",
    "print(output['filtros_inferidos'])"
   ]
  },
  {
   "cell_type": "code",
   "execution_count": null,
   "metadata": {},
   "outputs": [],
   "source": [
    "# Create a thread\n",
    "config = {\"configurable\": {\"thread_id\": \"4\"}}\n",
    "\n",
    "# Start conversation\n",
    "input_message = HumanMessage(content=\"automatico y peso menos de 100kg\")\n",
    "output = graph.invoke({\"messages\": [input_message]}, config) \n",
    "for m in output['messages'][-1:]:\n",
    "    m.pretty_print()"
   ]
  },
  {
   "cell_type": "code",
   "execution_count": null,
   "metadata": {},
   "outputs": [],
   "source": [
    "print(output['preferencias_usuario'])\n",
    "print('---------------------------------------------------------------------')\n",
    "print(output['filtros_inferidos'])"
   ]
  },
  {
   "cell_type": "code",
   "execution_count": null,
   "metadata": {},
   "outputs": [],
   "source": [
    "# Create a thread\n",
    "config = {\"configurable\": {\"thread_id\": \"4\"}}\n",
    "\n",
    "# Start conversation\n",
    "input_message = HumanMessage(content=\"si me apasionan los coches\")\n",
    "output = graph.invoke({\"messages\": [input_message]}, config) \n",
    "for m in output['messages'][-1:]:\n",
    "    m.pretty_print()"
   ]
  },
  {
   "cell_type": "code",
   "execution_count": null,
   "metadata": {},
   "outputs": [],
   "source": [
    "print(output['preferencias_usuario'])\n",
    "print('---------------------------------------------------------------------')\n",
    "print(output['filtros_inferidos'])"
   ]
  },
  {
   "cell_type": "code",
   "execution_count": null,
   "metadata": {},
   "outputs": [],
   "source": [
    "# Create a thread\n",
    "config = {\"configurable\": {\"thread_id\": \"4\"}}\n",
    "\n",
    "# Start conversation\n",
    "input_message = HumanMessage(content=\"si\")\n",
    "output = graph.invoke({\"messages\": [input_message]}, config) \n",
    "for m in output['messages'][-1:]:\n",
    "    m.pretty_print()"
   ]
  },
  {
   "cell_type": "markdown",
   "metadata": {},
   "source": [
    "# Prueba 5"
   ]
  },
  {
   "cell_type": "code",
   "execution_count": null,
   "metadata": {},
   "outputs": [],
   "source": [
    "# Create a thread\n",
    "config = {\"configurable\": {\"thread_id\": \"5\"}}\n",
    "\n",
    "# Start conversation\n",
    "input_message = HumanMessage(content=\"Dime quien eres\")\n",
    "output = graph.invoke({\"messages\": [input_message]}, config) \n",
    "for m in output['messages'][-1:]:\n",
    "    m.pretty_print()"
   ]
  },
  {
   "cell_type": "code",
   "execution_count": null,
   "metadata": {},
   "outputs": [],
   "source": [
    "# Create a thread\n",
    "config = {\"configurable\": {\"thread_id\": \"5\"}}\n",
    "\n",
    "# Start conversation\n",
    "input_message = HumanMessage(content=\"tienes motos para recomendarme?\")\n",
    "output = graph.invoke({\"messages\": [input_message]}, config) \n",
    "for m in output['messages'][-1:]:\n",
    "    m.pretty_print()"
   ]
  },
  {
   "cell_type": "code",
   "execution_count": null,
   "metadata": {},
   "outputs": [],
   "source": [
    "state = graph.get_state(config).values\n",
    "for m in state[\"messages\"]:\n",
    "    m.pretty_print()"
   ]
  },
  {
   "cell_type": "markdown",
   "metadata": {},
   "source": [
    "## Objetivo\n",
    "Crear un nuevo nodo en LangGraph llamado analizar_perfil_usuario que:\n",
    "\n",
    "Reciba el mensaje del usuario.\n",
    "\n",
    "Llame a un LLM con un SystemMessage especializado.\n",
    "\n",
    "Devuelva un dict con tres secciones:\n",
    "\n",
    "\"perfil_usuario\" → altura, peso, uso, gustos, etc.\n",
    "\n",
    "\"filtros_inferidos\" → potencia_min, plazas_min, etc.\n",
    "\n",
    "\"mensaje_validacion\"\n",
    "\n",
    "Este resultado lo guardaremos en el state para luego usarlo al llamar buscar_producto_bd()."
   ]
  },
  {
   "cell_type": "code",
   "execution_count": null,
   "metadata": {},
   "outputs": [],
   "source": []
  },
  {
   "cell_type": "code",
   "execution_count": null,
   "metadata": {},
   "outputs": [],
   "source": [
    "\n",
    "# Configurar el cliente de BigQuery\n",
    "client = bigquery.Client(project=\"thecarmentor-mvp2\")\n",
    "\n",
    "@tool\n",
    "def buscar_producto_bd(consulta: str, filtros: dict = None):\n",
    "    \"\"\"\n",
    "    Busca productos en la base de datos utilizando una consulta semántica en BigQuery.\n",
    "    Tu objetivo es proporcionar respuestas precisas para ayudar en la búsqueda en el inventario de coches disponibles.\n",
    "    \n",
    "    Args:\n",
    "        consulta (str): Consulta de texto para buscar productos similares.\n",
    "    \n",
    "    Returns:\n",
    "        list[dict]: Resultados formateados como una lista de diccionarios con detalles de los productos más relevantes.\n",
    "    \"\"\"\n",
    "    \n",
    "    if not consulta.strip():\n",
    "        raise ValueError(\"La consulta no puede estar vacía.\")\n",
    "\n",
    "    # Normalizar la consulta para que coincida con el formato de los embeddings.\n",
    "    consulta_normalizada = normalize_text_sql(consulta)\n",
    "    logging.debug(f\"Consulta normalizada: {consulta_normalizada}\")\n",
    "    \n",
    "    try:\n",
    "        base_query = \"\"\"\n",
    "        WITH resultados_vector AS (\n",
    "            SELECT \n",
    "                base.content AS nombre_coche,\n",
    "                base.mecanica,\n",
    "                base.price,\n",
    "                base.KM,\n",
    "                base.year,\n",
    "                base.image_url,\n",
    "                search_result.distance\n",
    "            FROM VECTOR_SEARCH(\n",
    "                TABLE `web_cars.coches_embeddingsV1`,\n",
    "                'ml_generate_embedding_result',\n",
    "                (SELECT * FROM ML.GENERATE_EMBEDDING(\n",
    "                    MODEL `thecarmentor-mvp2.mymodel.modelembedding`,\n",
    "                    (SELECT @consulta AS content),\n",
    "                    STRUCT(TRUE AS flatten_json_output, 'SEMANTIC_SIMILARITY' AS task_type, 768 AS output_dimensionality)\n",
    "                )),\n",
    "                'ml_generate_embedding_result',\n",
    "                top_k => 6\n",
    "            ) AS search_result\n",
    "        )\n",
    "        SELECT * FROM resultados_vector\n",
    "        WHERE 1=1\n",
    "        \"\"\"\n",
    "        \n",
    "        # Inicializar lista de condiciones y parámetros\n",
    "        query_conditions = []\n",
    "        # Usamos la consulta normalizada para la generación del embedding\n",
    "        query_parameters = [bigquery.ScalarQueryParameter(\"consulta\", \"STRING\", consulta_normalizada)]\n",
    "        \n",
    "        # Agregar condiciones dinámicamente según los filtros proporcionados\n",
    "        if filtros:\n",
    "            if 'precio_max' in filtros:\n",
    "                query_conditions.append(\"price <= @precio_max\")\n",
    "                query_parameters.append(bigquery.ScalarQueryParameter(\"precio_max\", \"INT64\", filtros[\"precio_max\"]))\n",
    "            if 'precio_min' in filtros:\n",
    "                query_conditions.append(\"price >= @precio_min\")\n",
    "                query_parameters.append(bigquery.ScalarQueryParameter(\"precio_min\", \"INT64\", filtros[\"precio_min\"]))\n",
    "            if 'year_min' in filtros:\n",
    "                query_conditions.append(\"year >= @year_min\")\n",
    "                query_parameters.append(bigquery.ScalarQueryParameter(\"year_min\", \"INT64\", filtros[\"year_min\"]))\n",
    "            if 'km_max' in filtros:\n",
    "                query_conditions.append(\"KM <= @km_max\")\n",
    "                query_parameters.append(bigquery.ScalarQueryParameter(\"km_max\", \"INT64\", filtros[\"km_max\"]))\n",
    "\n",
    "        # Si hay filtros, agregarlos a la consulta\n",
    "        # if query_conditions:\n",
    "        #     base_query += \" AND \" + \" AND \".join(query_conditions)\n",
    "        if query_conditions:\n",
    "            base_query += \" \" + \" AND \".join(query_conditions)\n",
    "\n",
    "\n",
    "        logging.debug(f\"Consulta SQL generada: {base_query}\")\n",
    "        logging.debug(f\"Parámetros de consulta: {query_parameters}\")\n",
    "\n",
    "        # Ejecutar la consulta\n",
    "        query_job = client.query(\n",
    "            base_query, \n",
    "            job_config=bigquery.QueryJobConfig(query_parameters=query_parameters)\n",
    "        )\n",
    "        results = query_job.result().to_dataframe()\n",
    "        # Ordenar los resultados por similitud\n",
    "        if not results.empty:\n",
    "            results = results.sort_values(by=\"distance\", ascending=True)\n",
    "\n",
    "        if results.empty:\n",
    "            return [{\"error\": \"No se encontraron resultados para la consulta y los filtros aplicados.\"}]\n",
    "            \n",
    "        formatted_results = [\n",
    "            {\n",
    "                \"nombre_coche\": row[\"nombre_coche\"],\n",
    "                \"mecanica\": row[\"mecanica\"],\n",
    "                \"precio\": row[\"price\"],\n",
    "                \"kilometros\": row[\"KM\"],\n",
    "                \"año\": row[\"year\"],\n",
    "                \"imagen\": row[\"image_url\"],\n",
    "                \"similitud\": round(row[\"distance\"], 2)\n",
    "            }\n",
    "            for _, row in results.iterrows()\n",
    "        ]\n",
    "        return formatted_results\n",
    "\n",
    "    except Exception as e:\n",
    "        logging.error(f\"Error al ejecutar la consulta: {e}\", exc_info=True)\n",
    "        return [{\"error\": \"No se pudieron encontrar resultados.\"}]\n",
    "\n",
    "# Definir herramientas\n",
    "# tools = [buscar_producto_bd]\n",
    "\n",
    "\n",
    "\n",
    "# Actualizar lista de herramientas\n",
    "tools = [buscar_producto_bd]\n",
    "llm_with_tools = llm.bind_tools(tools, parallel_tool_calls=True)\n"
   ]
  },
  {
   "cell_type": "code",
   "execution_count": null,
   "metadata": {},
   "outputs": [],
   "source": [
    "\n",
    "sys_msg = SystemMessage(content=\"\"\"Eres Mentor, un util y experto en la busqueda de coches.\n",
    "INSTRUCCIONES IMPORTANTES:\n",
    "**Antes de hacer una búsqueda en la base de datos, analiza la consulta y extrae solo la información clave.**  \n",
    "   - Si el usuario menciona un coche, filtra la consulta para obtener solo **la marca, modelo, versión, tipo de motorización y año**.\n",
    "   - **No incluyas frases completas del usuario como búsqueda.**  \n",
    "   - **No pases palabras como \"quiero\", \"busco\", \"auto\", \"coche\", \"modelo\", \"año\" si no son parte del nombre oficial del coche.**\n",
    "   - **Ejemplo:**  \n",
    "     - Entrada: `\"quiero coche bmw serie 1 120d hibrido año 2024\"`  \n",
    "     - **Consulta que debes generar:** `\"bmw serie 1 120d hibrido 2024\"`\n",
    "\n",
    "**Definiendo Preferencias**\n",
    "   - Para dar recomendaciones acertadas, puedes pedir al usuario que proporcione detalles sobre lo que busca:\n",
    "     • ¿Tienes una **marca** preferida?\n",
    "     • ¿Cuál es tu **presupuesto máximo**? (Opcional)\n",
    "     • ¿Te importa el **kilometraje máximo**? (Opcional)\n",
    "     • ¿Qué **años de antigüedad** son aceptables? (Opcional)\n",
    "\n",
    "**Presentación de Resultados**\n",
    "    - Aplica los filtros pero muestra también alguna alternativa fuera de los filtros si es muy relevante\n",
    "    Usa este formato para cada coche encontrado: \n",
    "    ### [Modelo]\n",
    "    ![Imagen del vehículo]([url_imagen])\n",
    "     - **Precio:** [precio]€\n",
    "     - **Kilómetros:** [km] km\n",
    "     - **Mecánica:** [tipo]\n",
    "     - **Año:** [year]\n",
    "     - **Similitud con tu búsqueda:** [score]\n",
    " \n",
    "** Ajustes**\n",
    "   - Si no encuentras lo que buscas, dime si quieres:\n",
    "   - Aumentar el **presupuesto** para ver modelos más recientes.\n",
    "   - Ampliar el **kilometraje permitido** para más opciones.\n",
    "   - Incluir **otros años** para expandir la búsqueda.\n",
    "   \n",
    "**Información Adicional**\n",
    "   -usa la herramienta `buscar_info_adicional` para obtener información actualizada sobre un modelo específico de coche.\n",
    "   - **Ejemplo:** `buscar_info_adicional(\"que caracteristicas tiene el BMW 320d 2019\")`\n",
    "\"\"\")\n",
    "# - También puedo **comparar dos coches** si tienes modelos específicos en mente.\n",
    "def assistant(state: MessagesState):\n",
    "    \"\"\"\n",
    "    Función principal del asistente invocando una búsqueda.\n",
    "    \"\"\"\n",
    "    return {\"messages\": [llm_with_tools.invoke([sys_msg] + state[\"messages\"])]}\n",
    "\n",
    "\n",
    "#    user_input = state[\"messages\"][-1].content  # Último mensaje del usuario\n",
    "# if detect_comparison_intent(user_input):\n",
    "#         car1, car2 = extract_car_models_llm(user_input)\n",
    "#         if car1 and car2:\n",
    "#             car1_data, car2_data = obtener_datos_comparacion(car1, car2)\n",
    "#             return {\"messages\": [comparar_coches_llm(car1_data, car2_data)]}\n",
    "#         else:\n",
    "#             return {\"messages\": [\"No pude identificar claramente los coches a comparar. ¿Podrías mencionarlos nuevamente?\"]}\n"
   ]
  },
  {
   "cell_type": "code",
   "execution_count": null,
   "metadata": {},
   "outputs": [],
   "source": [
    "memory = MemorySaver()\n",
    "\n",
    "# Graph\n",
    "graph = StateGraph(MessagesState)\n",
    "\n",
    "# Define nodes: these do the work\n",
    "graph.add_node(\"assistant\", assistant)\n",
    "graph.add_node(\"tools\", ToolNode(tools))\n",
    "\n",
    "# Define edges: these determine how the control flow moves\n",
    "graph.add_edge(START, \"assistant\")\n",
    "graph.add_conditional_edges(\n",
    "    \"assistant\",\n",
    "    lambda state: logging.debug(f\"tools_condition evalúa: {tools_condition(state)}\") or tools_condition(state)\n",
    ")\n",
    "    # If the latest message (result) from assistant is a tool call -> tools_condition routes to tools\n",
    "    # If the latest message (result) from assistant is a not a tool call -> tools_condition routes to END\n",
    "#     tools_condition,\n",
    "# )\n",
    "graph.add_edge(\"tools\", \"assistant\")\n",
    "graph = graph.compile(checkpointer=memory)\n",
    "# Show\n",
    "display(Image(graph.get_graph(xray=True).draw_mermaid_png()))"
   ]
  },
  {
   "cell_type": "code",
   "execution_count": null,
   "metadata": {},
   "outputs": [],
   "source": [
    "# Start conversation, again\n",
    "config = {\"configurable\": {\"thread_id\": \"1\"}}\n",
    "\n",
    "# Specify an input\n",
    "input_message = HumanMessage(content=\"quiero coche bmw serie 1 120d hibrido año 2024\")\n",
    "output = graph.invoke({\"messages\": input_message}, config)\n",
    "\n",
    "# Mostrar los mensajes resultantes del primer paso\n",
    "for m in output[\"messages\"]:\n",
    "    m.pretty_print()"
   ]
  },
  {
   "cell_type": "code",
   "execution_count": null,
   "metadata": {},
   "outputs": [],
   "source": [
    "# Start conversation, again\n",
    "config = {\"configurable\": {\"thread_id\": \"1\"}}\n",
    "\n",
    "# Specify an input\n",
    "input_message = HumanMessage(content=\"kilometraje 50.000 y presupuesto no importa, muestrame todas las opciones\")\n",
    "output = graph.invoke({\"messages\": input_message}, config)\n",
    "\n",
    "# Mostrar los mensajes resultantes del primer paso\n",
    "for m in output[\"messages\"]:\n",
    "    m.pretty_print()"
   ]
  },
  {
   "cell_type": "code",
   "execution_count": null,
   "metadata": {},
   "outputs": [],
   "source": [
    "# Start conversation, again\n",
    "config = {\"configurable\": {\"thread_id\": \"1\"}}\n",
    "\n",
    "# Specify an input\n",
    "input_message = HumanMessage(content=\"podrias darme las caracteristicas del bmw serie 1 118i 2024 diesel\")\n",
    "output = graph.invoke({\"messages\": input_message}, config)\n",
    "\n",
    "# Mostrar los mensajes resultantes del primer paso\n",
    "for m in output[\"messages\"]:\n",
    "    m.pretty_print()"
   ]
  },
  {
   "cell_type": "code",
   "execution_count": null,
   "metadata": {},
   "outputs": [],
   "source": [
    "# Start conversation, again\n",
    "config = {\"configurable\": {\"thread_id\": \"1\"}}\n",
    "\n",
    "# Specify an input\n",
    "input_message = HumanMessage(content=\"si, dame las caracteristicas del El 118i a gasolina\")\n",
    "output = graph.invoke({\"messages\": input_message}, config)\n",
    "\n",
    "# Mostrar los mensajes resultantes del primer paso\n",
    "for m in output[\"messages\"]:\n",
    "    m.pretty_print()"
   ]
  },
  {
   "cell_type": "code",
   "execution_count": null,
   "metadata": {},
   "outputs": [],
   "source": [
    "# Start conversation, again\n",
    "config = {\"configurable\": {\"thread_id\": \"2\"}}\n",
    "\n",
    "# Specify an input\n",
    "input_message = HumanMessage(content=\"quiero un coche kia sportage a gasolina, puede ser año 2011 a 2020 y no importa el kilometraje\")\n",
    "output = graph.invoke({\"messages\": input_message}, config)\n",
    "\n",
    "# Mostrar los mensajes resultantes del primer paso\n",
    "for m in output[\"messages\"]:\n",
    "    m.pretty_print()"
   ]
  },
  {
   "cell_type": "code",
   "execution_count": null,
   "metadata": {},
   "outputs": [],
   "source": [
    "# Start conversation\n",
    "config = {\"configurable\": {\"thread_id\": \"2\"}}\n",
    "\n",
    "# Specify an input\n",
    "input_message = HumanMessage(content=\"maximo 25.000 euros\")\n",
    "output = graph.invoke({\"messages\": input_message}, config)\n",
    "\n",
    "# Mostrar los mensajes resultantes del primer paso\n",
    "for m in output[\"messages\"]:\n",
    "    m.pretty_print()"
   ]
  },
  {
   "cell_type": "code",
   "execution_count": null,
   "metadata": {},
   "outputs": [],
   "source": [
    "config = {\"configurable\": {\"thread_id\": \"3\"}}\n",
    "\n",
    "# Specify an input\n",
    "input_message = HumanMessage(content=\"Mentor quiero un coche familiar, me podrias recomendar alguno?\")\n",
    "output = graph.invoke({\"messages\": input_message}, config)\n",
    "\n",
    "# Mostrar los mensajes resultantes del primer paso\n",
    "for m in output[\"messages\"]:\n",
    "    m.pretty_print()"
   ]
  },
  {
   "cell_type": "code",
   "execution_count": null,
   "metadata": {},
   "outputs": [],
   "source": [
    "# Start conversation, again\n",
    "config = {\"configurable\": {\"thread_id\": \"3\"}}\n",
    "\n",
    "# Specify an input\n",
    "input_message = HumanMessage(content=\"segun tu conocimiento que me recomiendas?\")\n",
    "output = graph.invoke({\"messages\": input_message}, config)\n",
    "\n",
    "# Mostrar los mensajes resultantes del primer paso\n",
    "for m in output[\"messages\"]:\n",
    "    m.pretty_print()"
   ]
  },
  {
   "cell_type": "code",
   "execution_count": null,
   "metadata": {},
   "outputs": [],
   "source": [
    "# Start conversation, again\n",
    "config = {\"configurable\": {\"thread_id\": \"3\"}}\n",
    "\n",
    "# Specify an input\n",
    "input_message = HumanMessage(content=\"pues SUV estaria bien y presupuesto hasta  12.000\")\n",
    "output = graph.invoke({\"messages\": input_message}, config)\n",
    "\n",
    "# Mostrar los mensajes resultantes del primer paso\n",
    "for m in output[\"messages\"]:\n",
    "    m.pretty_print()"
   ]
  },
  {
   "cell_type": "code",
   "execution_count": null,
   "metadata": {},
   "outputs": [],
   "source": [
    "# Start conversation, again\n",
    "config = {\"configurable\": {\"thread_id\": \"3\"}}\n",
    "\n",
    "# Specify an input\n",
    "input_message = HumanMessage(content=\"diesel o gasolina esta bien\")\n",
    "output = graph.invoke({\"messages\": input_message}, config)\n",
    "\n",
    "# Mostrar los mensajes resultantes del primer paso\n",
    "for m in output[\"messages\"]:\n",
    "    m.pretty_print()"
   ]
  },
  {
   "cell_type": "code",
   "execution_count": null,
   "metadata": {},
   "outputs": [],
   "source": [
    "# Start conversation, again\n",
    "config = {\"configurable\": {\"thread_id\": \"3\"}}\n",
    "\n",
    "# Specify an input\n",
    "input_message = HumanMessage(content=\"vale maximo 10 años\")\n",
    "output = graph.invoke({\"messages\": input_message}, config)\n",
    "\n",
    "# Mostrar los mensajes resultantes del primer paso\n",
    "for m in output[\"messages\"]:\n",
    "    m.pretty_print()"
   ]
  }
 ],
 "metadata": {
  "kernelspec": {
   "display_name": "car_env",
   "language": "python",
   "name": "python3"
  },
  "language_info": {
   "codemirror_mode": {
    "name": "ipython",
    "version": 3
   },
   "file_extension": ".py",
   "mimetype": "text/x-python",
   "name": "python",
   "nbconvert_exporter": "python",
   "pygments_lexer": "ipython3",
   "version": "3.11.5"
  }
 },
 "nbformat": 4,
 "nbformat_minor": 2
}
