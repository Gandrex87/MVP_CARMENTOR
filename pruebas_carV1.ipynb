{
 "cells": [
  {
   "cell_type": "code",
   "execution_count": null,
   "metadata": {},
   "outputs": [],
   "source": [
    "from langchain.chat_models import init_chat_model\n",
    "\n",
    "# LLM base\n",
    "llm = init_chat_model(\"openai:gpt-4o-mini\", temperature=0.2)\n",
    "print(llm.invoke(\"Hola, ¿quién eres?\").content)\n",
    "\n",
    "from config.llm import llm_validacion\n",
    "\n",
    "print(llm_validacion.invoke(\"Hola, ¿quién eres?\").content)"
   ]
  },
  {
   "cell_type": "code",
   "execution_count": null,
   "metadata": {},
   "outputs": [],
   "source": [
    "from config.llm import llm_validacion , prompt_validacion\n",
    "from langchain_core.messages import SystemMessage, HumanMessage\n",
    "\n",
    "respuesta = llm_validacion.invoke([\n",
    "    SystemMessage(content=prompt_validacion),\n",
    "    HumanMessage(content=\"Hola, ¿quién eres?\")\n",
    "])\n",
    "print(respuesta.content)\n",
    "\n",
    "\n"
   ]
  },
  {
   "cell_type": "code",
   "execution_count": null,
   "metadata": {},
   "outputs": [],
   "source": [
    "from config.llm import prompt_validacion\n",
    "\n",
    "print(prompt_validacion)"
   ]
  },
  {
   "cell_type": "code",
   "execution_count": null,
   "metadata": {},
   "outputs": [],
   "source": [
    "from langchain.chat_models import init_chat_model\n",
    "\n",
    "#LLM base\n",
    "llm = init_chat_model(\"openai:gpt-4o-mini\", temperature=0.2)\n",
    "print(llm.invoke(\"Hola, ¿quién eres?\").content)\n"
   ]
  },
  {
   "cell_type": "code",
   "execution_count": null,
   "metadata": {},
   "outputs": [],
   "source": [
    "from utils.enums import TipoMecanica # Ajusta la ruta\n",
    "\n",
    "valores_mecanica = \", \".join([f\"'{e.value}'\" for e in TipoMecanica]) \n",
    "print(valores_mecanica)\n",
    "# Ejemplo de salida: 'BEV', 'GASOLINA', 'DIESEL', 'HIBRIDO', ..."
   ]
  },
  {
   "cell_type": "code",
   "execution_count": null,
   "metadata": {},
   "outputs": [],
   "source": [
    "from graph.perfil.state import ResultadoEconomia,ResultadoSoloFiltros,ResultadoSoloPerfil, ResultadoPasajeros, ResultadoCP , EconomiaUsuario# Ajusta la ruta,\n",
    "import json\n",
    "\n",
    "schema = ResultadoSoloPerfil.model_json_schema()\n",
    "print(json.dumps(schema, indent=2))"
   ]
  },
  {
   "cell_type": "code",
   "execution_count": null,
   "metadata": {},
   "outputs": [],
   "source": [
    "from utils.conversion import get_enum_names\n",
    "from utils.enums import TipoCarroceria, TipoMecanica\n",
    "\n",
    "#get_enum_names([TipoCarroceria.COMERCIAL, TipoCarroceria.PICKUP])\n",
    "\n",
    "#Dos maneras de obtener los nombres de las clases enums\n",
    "print(\"totalidad tipo carroceria:\" , list(TipoCarroceria))\n",
    "print(\"totalidad mecanica\" , get_enum_names(list(TipoMecanica)))\n",
    "print(\"totalidad mecanica\" ,(list(TipoMecanica)))\n"
   ]
  },
  {
   "cell_type": "markdown",
   "metadata": {},
   "source": [
    "# Creacion del Grafo"
   ]
  },
  {
   "cell_type": "code",
   "execution_count": 1,
   "metadata": {},
   "outputs": [
    {
     "name": "stderr",
     "output_type": "stream",
     "text": [
      "INFO:numexpr.utils:NumExpr defaulting to 8 threads.\n"
     ]
    },
    {
     "name": "stdout",
     "output_type": "stream",
     "text": [
      "INFO ► Compilando el grafo...\n",
      "INFO ► Grafo compilado exitosamente.\n"
     ]
    }
   ],
   "source": [
    "from langchain_core.messages import SystemMessage, HumanMessage\n",
    "# Importar el constructor del grafo\n",
    "from IPython.display import Image, display\n",
    "from graph.perfil.builder import build_sequential_agent_graph\n",
    "# Construir el grafo\n",
    "graph = build_sequential_agent_graph()\n",
    "#display(Image(graph.get_graph(xray=True).draw_mermaid_png()))\n"
   ]
  },
  {
   "cell_type": "markdown",
   "metadata": {},
   "source": [
    "## Prueba 1"
   ]
  },
  {
   "cell_type": "code",
   "execution_count": null,
   "metadata": {},
   "outputs": [],
   "source": [
    "from langchain_core.messages import HumanMessage, SystemMessage\n",
    "\n",
    "# Create a thread\n",
    "config = {\"configurable\": {\"thread_id\": \"1\"}}\n",
    "\n",
    "# Start conversation\n",
    "input_message = HumanMessage(content=\"Hola quien eres?\")\n",
    "output = graph.invoke({\"messages\": [input_message]}, config) \n",
    "for m in output['messages'][-1:]:\n",
    "    m.pretty_print()\n"
   ]
  },
  {
   "cell_type": "code",
   "execution_count": 2,
   "metadata": {},
   "outputs": [
    {
     "name": "stdout",
     "output_type": "stream",
     "text": [
      "--- Ejecutando Nodo: route_based_on_state_node ---\n",
      "\n",
      "--- DEBUG: Evaluating Routing Decision ---\n",
      "DEBUG Router: CP OK? False\n",
      "--- DEBUG CHECK PERFIL ---\n",
      "Input prefs object: None\n",
      "Input prefs type: <class 'NoneType'>\n",
      "DEBUG Router: Prefs OK? False\n",
      "--- DEBUG CHECK PASAJEROS ---\n",
      "Input info pasajeros: None\n",
      "DEBUG (Validation Pasajeros) ► Objeto InfoPasajeros es None.\n",
      "DEBUG Router: Pasajeros OK? False\n",
      "DEBUG (Validation Filtros) ► Objeto FiltrosInferidos es None.\n",
      "DEBUG Router: Filtros OK? False\n",
      "--- DEBUG CHECK ECONOMIA (Manual) ---\n",
      "Input econ object: None\n",
      "DEBUG (Validation Economía Manual) ► Objeto EconomiaUsuario es None.\n",
      "DEBUG Router: Economía OK? False\n",
      "DEBUG Router: Pesos Calculados? False\n",
      "DEBUG Router: Coches Buscados? False\n",
      "DEBUG Router: Decisión -> recopilar_cp (Etapa CP no completada)\n",
      "--- Ejecutando Nodo: recopilar_cp_node ---\n"
     ]
    },
    {
     "name": "stderr",
     "output_type": "stream",
     "text": [
      "INFO:httpx:HTTP Request: POST https://api.openai.com/v1/chat/completions \"HTTP/1.1 200 OK\"\n",
      "INFO:root:Buscando información climática para el CP: 17537 en thecarmentor-mvp2.web_cars.zonas_climas\n"
     ]
    },
    {
     "name": "stdout",
     "output_type": "stream",
     "text": [
      "DEBUG (CP) ► Respuesta llm_cp_extractor: codigo_postal_extraido='17537' tipo_mensaje='CP_OBTENIDO' contenido_mensaje=''\n",
      "DEBUG (CP) ► CP extraído por LLM: '17537', Tipo Mensaje: 'CP_OBTENIDO'\n",
      "--- Ejecutando Nodo: validar_cp_node ---\n",
      "DEBUG (CP Validation) ► CP '17537' parece válido. Procediendo a buscar clima.\n",
      "--- Evaluando Condición: ruta_decision_cp ---\n",
      "DEBUG (Condición CP) ► CP válido/omitido. Procediendo a buscar clima.\n",
      "--- Ejecutando Nodo: buscar_info_clima_node ---\n",
      "DEBUG (Clima) ► Buscando datos climáticos para CP: 17537\n",
      "DEBUG (BQ Clima) ► Query: \n",
      "        SELECT\n",
      "            EXISTS(SELECT 1 FROM `thecarmentor-mvp2.web_cars.zonas_climas` WHERE MUNICIPIO_ZBE = @cp_param) AS MUNICIPIO_ZBE,\n",
      "       EXISTS(SELECT 1 FROM `thecarmentor-mvp2.web_cars.zonas_climas` WHERE ZONA_LLUVIAS = @cp_param) AS ZONA_LLUVIAS,\n",
      "       EXISTS(SELECT 1 FROM `thecarmentor-mvp2.web_cars.zonas_climas` WHERE ZONA_NIEBLAS = @cp_param) AS ZONA_NIEBLAS,\n",
      "       EXISTS(SELECT 1 FROM `thecarmentor-mvp2.web_cars.zonas_climas` WHERE ZONA_NIEVE = @cp_param) AS ZONA_NIEVE,\n",
      "       EXISTS(SELECT 1 FROM `thecarmentor-mvp2.web_cars.zonas_climas` WHERE ZONA_CLIMA_MONTA = @cp_param) AS ZONA_CLIMA_MONTA,\n",
      "       EXISTS(SELECT 1 FROM `thecarmentor-mvp2.web_cars.zonas_climas` WHERE ZONA_GLP = @cp_param) AS ZONA_GLP,\n",
      "       EXISTS(SELECT 1 FROM `thecarmentor-mvp2.web_cars.zonas_climas` WHERE ZONA_GNV = @cp_param) AS ZONA_GNV\n",
      "        \n",
      "DEBUG (BQ Clima) ► Params: 17537\n"
     ]
    },
    {
     "name": "stderr",
     "output_type": "stream",
     "text": [
      "INFO:root:Datos climáticos encontrados para CP 17537: {'MUNICIPIO_ZBE': False, 'ZONA_LLUVIAS': False, 'ZONA_NIEBLAS': False, 'ZONA_NIEVE': True, 'ZONA_CLIMA_MONTA': True, 'ZONA_GLP': False, 'ZONA_GNV': False}\n"
     ]
    },
    {
     "name": "stdout",
     "output_type": "stream",
     "text": [
      "DEBUG (Clima) ► Datos climáticos encontrados: {'MUNICIPIO_ZBE': False, 'ZONA_LLUVIAS': False, 'ZONA_NIEBLAS': False, 'ZONA_NIEVE': True, 'ZONA_CLIMA_MONTA': True, 'ZONA_GLP': False, 'ZONA_GNV': False, 'cp_valido_encontrado': True, 'codigo_postal_consultado': '17537'}\n",
      "--- Ejecutando Nodo: recopilar_preferencias_node ---\n",
      "DEBUG (Perfil) ► Último mensaje es HumanMessage o historial vacío, llamando a llm_solo_perfil...\n"
     ]
    },
    {
     "name": "stderr",
     "output_type": "stream",
     "text": [
      "INFO:httpx:HTTP Request: POST https://api.openai.com/v1/chat/completions \"HTTP/1.1 200 OK\"\n"
     ]
    },
    {
     "name": "stdout",
     "output_type": "stream",
     "text": [
      "DEBUG (Perfil) ► Respuesta llm_solo_perfil: preferencias_usuario=PerfilUsuario(apasionado_motor=None, valora_estetica=None, coche_principal_hogar=None, uso_profesional=None, tipo_uso_profesional=None, prefiere_diseno_exclusivo=None, altura_mayor_190=None, peso_mayor_100=None, transporta_carga_voluminosa=None, necesita_espacio_objetos_especiales=None, arrastra_remolque=None, tiene_garage=None, problemas_aparcar_calle=None, espacio_sobra_garage=None, problema_dimension_garage=None, tiene_punto_carga_propio=None, aventura=None, estilo_conduccion=None, solo_electricos=None, prioriza_baja_depreciacion=None, transmision_preferida=None, rating_fiabilidad_durabilidad=None, rating_seguridad=None, rating_comodidad=None, rating_impacto_ambiental=None, rating_tecnologia_conectividad=None, rating_costes_uso=None) tipo_mensaje='PREGUNTA' contenido_mensaje='¡Hola! Vamos a encontrar el coche que mejor se adapte a tus necesidades. Para empezar, ¿te consideras una persona apasionada del mundo del motor y la tecnología automotriz?'\n",
      "DEBUG (Perfil) ► Preferencias TRAS post-procesamiento: apasionado_motor=None valora_estetica=None coche_principal_hogar=None uso_profesional=None tipo_uso_profesional=None prefiere_diseno_exclusivo=None altura_mayor_190=None peso_mayor_100=None transporta_carga_voluminosa=None necesita_espacio_objetos_especiales=None arrastra_remolque=None tiene_garage=None problemas_aparcar_calle=None espacio_sobra_garage=None problema_dimension_garage=None tiene_punto_carga_propio=None aventura=None estilo_conduccion=None solo_electricos=None prioriza_baja_depreciacion=None transmision_preferida=None rating_fiabilidad_durabilidad=None rating_seguridad=None rating_comodidad=None rating_impacto_ambiental=None rating_tecnologia_conectividad=None rating_costes_uso=None\n",
      "DEBUG (Perfil) ► Estado preferencias_usuario actualizado: apasionado_motor=None valora_estetica=None coche_principal_hogar=None uso_profesional=None tipo_uso_profesional=None prefiere_diseno_exclusivo=None altura_mayor_190=None peso_mayor_100=None transporta_carga_voluminosa=None necesita_espacio_objetos_especiales=None arrastra_remolque=None tiene_garage=None problemas_aparcar_calle=None espacio_sobra_garage=None problema_dimension_garage=None tiene_punto_carga_propio=None aventura=None estilo_conduccion=None solo_electricos=None prioriza_baja_depreciacion=None transmision_preferida=None rating_fiabilidad_durabilidad=None rating_seguridad=None rating_comodidad=None rating_impacto_ambiental=None rating_tecnologia_conectividad=None rating_costes_uso=None\n",
      "DEBUG (Perfil) ► Guardando mensaje pendiente: ¡Hola! Vamos a encontrar el coche que mejor se adapte a tus necesidades. Para empezar, ¿te consideras una persona apasionada del mundo del motor y la tecnología automotriz?\n",
      "--- Ejecutando Nodo: validar_preferencias_node ---\n",
      "--- DEBUG CHECK PERFIL ---\n",
      "Input prefs object: apasionado_motor=None valora_estetica=None coche_principal_hogar=None uso_profesional=None tipo_uso_profesional=None prefiere_diseno_exclusivo=None altura_mayor_190=None peso_mayor_100=None transporta_carga_voluminosa=None necesita_espacio_objetos_especiales=None arrastra_remolque=None tiene_garage=None problemas_aparcar_calle=None espacio_sobra_garage=None problema_dimension_garage=None tiene_punto_carga_propio=None aventura=None estilo_conduccion=None solo_electricos=None prioriza_baja_depreciacion=None transmision_preferida=None rating_fiabilidad_durabilidad=None rating_seguridad=None rating_comodidad=None rating_impacto_ambiental=None rating_tecnologia_conectividad=None rating_costes_uso=None\n",
      "Input prefs type: <class 'graph.perfil.state.PerfilUsuario'>\n",
      "DEBUG (Validation Perfil) ► Campo 'apasionado_motor' está vacío/None.\n",
      "DEBUG (Perfil) ► Validación: PerfilUsuario considerado INCOMPLETO.\n",
      "--- Evaluando Condición: ruta_decision_perfil ---\n",
      "DEBUG (Condición Perfil) ► Estado 'preferencias_usuario' recibido: apasionado_motor=None valora_estetica=None coche_principal_hogar=None uso_profesional=None tipo_uso_profesional=None prefiere_diseno_exclusivo=None altura_mayor_190=None peso_mayor_100=None transporta_carga_voluminosa=None necesita_espacio_objetos_especiales=None arrastra_remolque=None tiene_garage=None problemas_aparcar_calle=None espacio_sobra_garage=None problema_dimension_garage=None tiene_punto_carga_propio=None aventura=None estilo_conduccion=None solo_electricos=None prioriza_baja_depreciacion=None transmision_preferida=None rating_fiabilidad_durabilidad=None rating_seguridad=None rating_comodidad=None rating_impacto_ambiental=None rating_tecnologia_conectividad=None rating_costes_uso=None\n",
      "DEBUG (Condición Perfil) ► Tipo de 'preferencias_usuario': <class 'graph.perfil.state.PerfilUsuario'>\n",
      "--- DEBUG CHECK PERFIL ---\n",
      "Input prefs object: apasionado_motor=None valora_estetica=None coche_principal_hogar=None uso_profesional=None tipo_uso_profesional=None prefiere_diseno_exclusivo=None altura_mayor_190=None peso_mayor_100=None transporta_carga_voluminosa=None necesita_espacio_objetos_especiales=None arrastra_remolque=None tiene_garage=None problemas_aparcar_calle=None espacio_sobra_garage=None problema_dimension_garage=None tiene_punto_carga_propio=None aventura=None estilo_conduccion=None solo_electricos=None prioriza_baja_depreciacion=None transmision_preferida=None rating_fiabilidad_durabilidad=None rating_seguridad=None rating_comodidad=None rating_impacto_ambiental=None rating_tecnologia_conectividad=None rating_costes_uso=None\n",
      "Input prefs type: <class 'graph.perfil.state.PerfilUsuario'>\n",
      "DEBUG (Validation Perfil) ► Campo 'apasionado_motor' está vacío/None.\n",
      "DEBUG (Condición Perfil) ► Perfil INCOMPLETO. Se necesita pregunta.\n",
      "--- Ejecutando Nodo: preguntar_preferencias_node ---\n",
      "--- DEBUG CHECK PERFIL ---\n",
      "Input prefs object: apasionado_motor=None valora_estetica=None coche_principal_hogar=None uso_profesional=None tipo_uso_profesional=None prefiere_diseno_exclusivo=None altura_mayor_190=None peso_mayor_100=None transporta_carga_voluminosa=None necesita_espacio_objetos_especiales=None arrastra_remolque=None tiene_garage=None problemas_aparcar_calle=None espacio_sobra_garage=None problema_dimension_garage=None tiene_punto_carga_propio=None aventura=None estilo_conduccion=None solo_electricos=None prioriza_baja_depreciacion=None transmision_preferida=None rating_fiabilidad_durabilidad=None rating_seguridad=None rating_comodidad=None rating_impacto_ambiental=None rating_tecnologia_conectividad=None rating_costes_uso=None\n",
      "Input prefs type: <class 'graph.perfil.state.PerfilUsuario'>\n",
      "DEBUG (Validation Perfil) ► Campo 'apasionado_motor' está vacío/None.\n",
      "DEBUG (Preguntar Perfil) ► Perfil aún INCOMPLETO según checker.\n",
      "DEBUG (Preguntar Perfil) ► Pregunta fallback generada: ¿Te consideras una persona entusiasta del mundo del motor y la tecnología automotriz?\n",
      "DEBUG (Preguntar Perfil) ► Usando mensaje pendiente (pregunta LLM): ¡Hola! Vamos a encontrar el coche que mejor se adapte a tus necesidades. Para empezar, ¿te consideras una persona apasionada del mundo del motor y la tecnología automotriz?\n",
      "DEBUG (Preguntar Perfil) ► Mensaje final añadido: ¡Hola! Vamos a encontrar el coche que mejor se adapte a tus necesidades. Para empezar, ¿te consideras una persona apasionada del mundo del motor y la tecnología automotriz?\n",
      "==================================\u001b[1m Ai Message \u001b[0m==================================\n",
      "\n",
      "¡Hola! Vamos a encontrar el coche que mejor se adapte a tus necesidades. Para empezar, ¿te consideras una persona apasionada del mundo del motor y la tecnología automotriz?\n"
     ]
    }
   ],
   "source": [
    "config = {\"configurable\": {\"thread_id\": \"1\"}}\n",
    "input_message = HumanMessage(content=\"HOLA MI mi CP es 17537\")\n",
    "output = graph.invoke({\"messages\": [input_message]}, config) \n",
    "for m in output['messages'][-1:]:\n",
    "    m.pretty_print()"
   ]
  },
  {
   "cell_type": "code",
   "execution_count": null,
   "metadata": {},
   "outputs": [],
   "source": [
    "print(output.keys())"
   ]
  },
  {
   "cell_type": "code",
   "execution_count": 3,
   "metadata": {},
   "outputs": [
    {
     "name": "stdout",
     "output_type": "stream",
     "text": [
      "--- Ejecutando Nodo: route_based_on_state_node ---\n",
      "\n",
      "--- DEBUG: Evaluating Routing Decision ---\n",
      "DEBUG Router: CP OK? True\n",
      "--- DEBUG CHECK PERFIL ---\n",
      "Input prefs object: apasionado_motor=None valora_estetica=None coche_principal_hogar=None uso_profesional=None tipo_uso_profesional=None prefiere_diseno_exclusivo=None altura_mayor_190=None peso_mayor_100=None transporta_carga_voluminosa=None necesita_espacio_objetos_especiales=None arrastra_remolque=None tiene_garage=None problemas_aparcar_calle=None espacio_sobra_garage=None problema_dimension_garage=None tiene_punto_carga_propio=None aventura=None estilo_conduccion=None solo_electricos=None prioriza_baja_depreciacion=None transmision_preferida=None rating_fiabilidad_durabilidad=None rating_seguridad=None rating_comodidad=None rating_impacto_ambiental=None rating_tecnologia_conectividad=None rating_costes_uso=None\n",
      "Input prefs type: <class 'graph.perfil.state.PerfilUsuario'>\n",
      "DEBUG (Validation Perfil) ► Campo 'apasionado_motor' está vacío/None.\n",
      "DEBUG Router: Prefs OK? False\n",
      "--- DEBUG CHECK PASAJEROS ---\n",
      "Input info pasajeros: None\n",
      "DEBUG (Validation Pasajeros) ► Objeto InfoPasajeros es None.\n",
      "DEBUG Router: Pasajeros OK? False\n",
      "DEBUG (Validation Filtros) ► Objeto FiltrosInferidos es None.\n",
      "DEBUG Router: Filtros OK? False\n",
      "--- DEBUG CHECK ECONOMIA (Manual) ---\n",
      "Input econ object: None\n",
      "DEBUG (Validation Economía Manual) ► Objeto EconomiaUsuario es None.\n",
      "DEBUG Router: Economía OK? False\n",
      "DEBUG Router: Pesos Calculados? False\n",
      "DEBUG Router: Coches Buscados? False\n",
      "--- DEBUG CHECK PERFIL ---\n",
      "Input prefs object: apasionado_motor=None valora_estetica=None coche_principal_hogar=None uso_profesional=None tipo_uso_profesional=None prefiere_diseno_exclusivo=None altura_mayor_190=None peso_mayor_100=None transporta_carga_voluminosa=None necesita_espacio_objetos_especiales=None arrastra_remolque=None tiene_garage=None problemas_aparcar_calle=None espacio_sobra_garage=None problema_dimension_garage=None tiene_punto_carga_propio=None aventura=None estilo_conduccion=None solo_electricos=None prioriza_baja_depreciacion=None transmision_preferida=None rating_fiabilidad_durabilidad=None rating_seguridad=None rating_comodidad=None rating_impacto_ambiental=None rating_tecnologia_conectividad=None rating_costes_uso=None\n",
      "Input prefs type: <class 'graph.perfil.state.PerfilUsuario'>\n",
      "DEBUG (Validation Perfil) ► Campo 'apasionado_motor' está vacío/None.\n",
      "DEBUG Router: Decisión -> recopilar_preferencias\n",
      "--- Ejecutando Nodo: recopilar_preferencias_node ---\n",
      "DEBUG (Perfil) ► Último mensaje es HumanMessage o historial vacío, llamando a llm_solo_perfil...\n"
     ]
    },
    {
     "name": "stderr",
     "output_type": "stream",
     "text": [
      "INFO:httpx:HTTP Request: POST https://api.openai.com/v1/chat/completions \"HTTP/1.1 200 OK\"\n"
     ]
    },
    {
     "name": "stdout",
     "output_type": "stream",
     "text": [
      "DEBUG (Perfil) ► Respuesta llm_solo_perfil: preferencias_usuario=PerfilUsuario(apasionado_motor='no', valora_estetica=None, coche_principal_hogar=None, uso_profesional=None, tipo_uso_profesional=None, prefiere_diseno_exclusivo=None, altura_mayor_190=None, peso_mayor_100=None, transporta_carga_voluminosa=None, necesita_espacio_objetos_especiales=None, arrastra_remolque=None, tiene_garage=None, problemas_aparcar_calle=None, espacio_sobra_garage=None, problema_dimension_garage=None, tiene_punto_carga_propio=None, aventura=None, estilo_conduccion=None, solo_electricos=None, prioriza_baja_depreciacion=None, transmision_preferida=None, rating_fiabilidad_durabilidad=None, rating_seguridad=None, rating_comodidad=None, rating_impacto_ambiental=None, rating_tecnologia_conectividad=None, rating_costes_uso=None) tipo_mensaje='PREGUNTA' contenido_mensaje='¿Es importante para ti el diseño y la estética del coche, o hay otros factores que priorizas más?'\n",
      "DEBUG (Perfil) ► Preferencias TRAS post-procesamiento: apasionado_motor='no' valora_estetica=None coche_principal_hogar=None uso_profesional=None tipo_uso_profesional=None prefiere_diseno_exclusivo=None altura_mayor_190=None peso_mayor_100=None transporta_carga_voluminosa=None necesita_espacio_objetos_especiales=None arrastra_remolque=None tiene_garage=None problemas_aparcar_calle=None espacio_sobra_garage=None problema_dimension_garage=None tiene_punto_carga_propio=None aventura=None estilo_conduccion=None solo_electricos=None prioriza_baja_depreciacion=None transmision_preferida=None rating_fiabilidad_durabilidad=None rating_seguridad=None rating_comodidad=None rating_impacto_ambiental=None rating_tecnologia_conectividad=None rating_costes_uso=None\n",
      "DEBUG (Perfil) ► Estado preferencias_usuario actualizado: apasionado_motor='no' valora_estetica=None coche_principal_hogar=None uso_profesional=None tipo_uso_profesional=None prefiere_diseno_exclusivo=None altura_mayor_190=None peso_mayor_100=None transporta_carga_voluminosa=None necesita_espacio_objetos_especiales=None arrastra_remolque=None tiene_garage=None problemas_aparcar_calle=None espacio_sobra_garage=None problema_dimension_garage=None tiene_punto_carga_propio=None aventura=None estilo_conduccion=None solo_electricos=None prioriza_baja_depreciacion=None transmision_preferida=None rating_fiabilidad_durabilidad=None rating_seguridad=None rating_comodidad=None rating_impacto_ambiental=None rating_tecnologia_conectividad=None rating_costes_uso=None\n",
      "DEBUG (Perfil) ► Guardando mensaje pendiente: ¿Es importante para ti el diseño y la estética del coche, o hay otros factores que priorizas más?\n",
      "--- Ejecutando Nodo: validar_preferencias_node ---\n",
      "--- DEBUG CHECK PERFIL ---\n",
      "Input prefs object: apasionado_motor='no' valora_estetica=None coche_principal_hogar=None uso_profesional=None tipo_uso_profesional=None prefiere_diseno_exclusivo=None altura_mayor_190=None peso_mayor_100=None transporta_carga_voluminosa=None necesita_espacio_objetos_especiales=None arrastra_remolque=None tiene_garage=None problemas_aparcar_calle=None espacio_sobra_garage=None problema_dimension_garage=None tiene_punto_carga_propio=None aventura=None estilo_conduccion=None solo_electricos=None prioriza_baja_depreciacion=None transmision_preferida=None rating_fiabilidad_durabilidad=None rating_seguridad=None rating_comodidad=None rating_impacto_ambiental=None rating_tecnologia_conectividad=None rating_costes_uso=None\n",
      "Input prefs type: <class 'graph.perfil.state.PerfilUsuario'>\n",
      "DEBUG (Validation Perfil) ► Campo 'valora_estetica' está vacío/None.\n",
      "DEBUG (Perfil) ► Validación: PerfilUsuario considerado INCOMPLETO.\n",
      "--- Evaluando Condición: ruta_decision_perfil ---\n",
      "DEBUG (Condición Perfil) ► Estado 'preferencias_usuario' recibido: apasionado_motor='no' valora_estetica=None coche_principal_hogar=None uso_profesional=None tipo_uso_profesional=None prefiere_diseno_exclusivo=None altura_mayor_190=None peso_mayor_100=None transporta_carga_voluminosa=None necesita_espacio_objetos_especiales=None arrastra_remolque=None tiene_garage=None problemas_aparcar_calle=None espacio_sobra_garage=None problema_dimension_garage=None tiene_punto_carga_propio=None aventura=None estilo_conduccion=None solo_electricos=None prioriza_baja_depreciacion=None transmision_preferida=None rating_fiabilidad_durabilidad=None rating_seguridad=None rating_comodidad=None rating_impacto_ambiental=None rating_tecnologia_conectividad=None rating_costes_uso=None\n",
      "DEBUG (Condición Perfil) ► Tipo de 'preferencias_usuario': <class 'graph.perfil.state.PerfilUsuario'>\n",
      "--- DEBUG CHECK PERFIL ---\n",
      "Input prefs object: apasionado_motor='no' valora_estetica=None coche_principal_hogar=None uso_profesional=None tipo_uso_profesional=None prefiere_diseno_exclusivo=None altura_mayor_190=None peso_mayor_100=None transporta_carga_voluminosa=None necesita_espacio_objetos_especiales=None arrastra_remolque=None tiene_garage=None problemas_aparcar_calle=None espacio_sobra_garage=None problema_dimension_garage=None tiene_punto_carga_propio=None aventura=None estilo_conduccion=None solo_electricos=None prioriza_baja_depreciacion=None transmision_preferida=None rating_fiabilidad_durabilidad=None rating_seguridad=None rating_comodidad=None rating_impacto_ambiental=None rating_tecnologia_conectividad=None rating_costes_uso=None\n",
      "Input prefs type: <class 'graph.perfil.state.PerfilUsuario'>\n",
      "DEBUG (Validation Perfil) ► Campo 'valora_estetica' está vacío/None.\n",
      "DEBUG (Condición Perfil) ► Perfil INCOMPLETO. Se necesita pregunta.\n",
      "--- Ejecutando Nodo: preguntar_preferencias_node ---\n",
      "--- DEBUG CHECK PERFIL ---\n",
      "Input prefs object: apasionado_motor='no' valora_estetica=None coche_principal_hogar=None uso_profesional=None tipo_uso_profesional=None prefiere_diseno_exclusivo=None altura_mayor_190=None peso_mayor_100=None transporta_carga_voluminosa=None necesita_espacio_objetos_especiales=None arrastra_remolque=None tiene_garage=None problemas_aparcar_calle=None espacio_sobra_garage=None problema_dimension_garage=None tiene_punto_carga_propio=None aventura=None estilo_conduccion=None solo_electricos=None prioriza_baja_depreciacion=None transmision_preferida=None rating_fiabilidad_durabilidad=None rating_seguridad=None rating_comodidad=None rating_impacto_ambiental=None rating_tecnologia_conectividad=None rating_costes_uso=None\n",
      "Input prefs type: <class 'graph.perfil.state.PerfilUsuario'>\n",
      "DEBUG (Validation Perfil) ► Campo 'valora_estetica' está vacío/None.\n",
      "DEBUG (Preguntar Perfil) ► Perfil aún INCOMPLETO según checker.\n",
      "DEBUG (Preguntar Perfil) ► Pregunta fallback generada: ¿La Estética es importante para ti o crees que hay factores más importantes?\n",
      "DEBUG (Preguntar Perfil) ► Usando mensaje pendiente (pregunta LLM): ¿Es importante para ti el diseño y la estética del coche, o hay otros factores que priorizas más?\n",
      "DEBUG (Preguntar Perfil) ► Mensaje final añadido: ¿Es importante para ti el diseño y la estética del coche, o hay otros factores que priorizas más?\n",
      "==================================\u001b[1m Ai Message \u001b[0m==================================\n",
      "\n",
      "¿Es importante para ti el diseño y la estética del coche, o hay otros factores que priorizas más?\n"
     ]
    }
   ],
   "source": [
    "config = {\"configurable\": {\"thread_id\": \"1\"}}\n",
    "input_message = HumanMessage(content=\"no \")\n",
    "output = graph.invoke({\"messages\": [input_message]}, config) \n",
    "for m in output['messages'][-1:]:\n",
    "    m.pretty_print()"
   ]
  },
  {
   "cell_type": "code",
   "execution_count": 4,
   "metadata": {},
   "outputs": [
    {
     "name": "stdout",
     "output_type": "stream",
     "text": [
      "--- Ejecutando Nodo: route_based_on_state_node ---\n",
      "\n",
      "--- DEBUG: Evaluating Routing Decision ---\n",
      "DEBUG Router: CP OK? True\n",
      "--- DEBUG CHECK PERFIL ---\n",
      "Input prefs object: apasionado_motor='no' valora_estetica=None coche_principal_hogar=None uso_profesional=None tipo_uso_profesional=None prefiere_diseno_exclusivo=None altura_mayor_190=None peso_mayor_100=None transporta_carga_voluminosa=None necesita_espacio_objetos_especiales=None arrastra_remolque=None tiene_garage=None problemas_aparcar_calle=None espacio_sobra_garage=None problema_dimension_garage=None tiene_punto_carga_propio=None aventura=None estilo_conduccion=None solo_electricos=None prioriza_baja_depreciacion=None transmision_preferida=None rating_fiabilidad_durabilidad=None rating_seguridad=None rating_comodidad=None rating_impacto_ambiental=None rating_tecnologia_conectividad=None rating_costes_uso=None\n",
      "Input prefs type: <class 'graph.perfil.state.PerfilUsuario'>\n",
      "DEBUG (Validation Perfil) ► Campo 'valora_estetica' está vacío/None.\n",
      "DEBUG Router: Prefs OK? False\n",
      "--- DEBUG CHECK PASAJEROS ---\n",
      "Input info pasajeros: None\n",
      "DEBUG (Validation Pasajeros) ► Objeto InfoPasajeros es None.\n",
      "DEBUG Router: Pasajeros OK? False\n",
      "DEBUG (Validation Filtros) ► Objeto FiltrosInferidos es None.\n",
      "DEBUG Router: Filtros OK? False\n",
      "--- DEBUG CHECK ECONOMIA (Manual) ---\n",
      "Input econ object: None\n",
      "DEBUG (Validation Economía Manual) ► Objeto EconomiaUsuario es None.\n",
      "DEBUG Router: Economía OK? False\n",
      "DEBUG Router: Pesos Calculados? False\n",
      "DEBUG Router: Coches Buscados? False\n",
      "--- DEBUG CHECK PERFIL ---\n",
      "Input prefs object: apasionado_motor='no' valora_estetica=None coche_principal_hogar=None uso_profesional=None tipo_uso_profesional=None prefiere_diseno_exclusivo=None altura_mayor_190=None peso_mayor_100=None transporta_carga_voluminosa=None necesita_espacio_objetos_especiales=None arrastra_remolque=None tiene_garage=None problemas_aparcar_calle=None espacio_sobra_garage=None problema_dimension_garage=None tiene_punto_carga_propio=None aventura=None estilo_conduccion=None solo_electricos=None prioriza_baja_depreciacion=None transmision_preferida=None rating_fiabilidad_durabilidad=None rating_seguridad=None rating_comodidad=None rating_impacto_ambiental=None rating_tecnologia_conectividad=None rating_costes_uso=None\n",
      "Input prefs type: <class 'graph.perfil.state.PerfilUsuario'>\n",
      "DEBUG (Validation Perfil) ► Campo 'valora_estetica' está vacío/None.\n",
      "DEBUG Router: Decisión -> recopilar_preferencias\n",
      "--- Ejecutando Nodo: recopilar_preferencias_node ---\n",
      "DEBUG (Perfil) ► Último mensaje es HumanMessage o historial vacío, llamando a llm_solo_perfil...\n"
     ]
    },
    {
     "name": "stderr",
     "output_type": "stream",
     "text": [
      "INFO:httpx:HTTP Request: POST https://api.openai.com/v1/chat/completions \"HTTP/1.1 200 OK\"\n"
     ]
    },
    {
     "name": "stdout",
     "output_type": "stream",
     "text": [
      "DEBUG (Perfil) ► Respuesta llm_solo_perfil: preferencias_usuario=PerfilUsuario(apasionado_motor='no', valora_estetica='no', coche_principal_hogar=None, uso_profesional=None, tipo_uso_profesional=None, prefiere_diseno_exclusivo=None, altura_mayor_190=None, peso_mayor_100=None, transporta_carga_voluminosa=None, necesita_espacio_objetos_especiales=None, arrastra_remolque=None, tiene_garage=None, problemas_aparcar_calle=None, espacio_sobra_garage=None, problema_dimension_garage=None, tiene_punto_carga_propio=None, aventura=None, estilo_conduccion=None, solo_electricos=None, prioriza_baja_depreciacion=None, transmision_preferida=None, rating_fiabilidad_durabilidad=None, rating_seguridad=None, rating_comodidad=None, rating_impacto_ambiental=None, rating_tecnologia_conectividad=None, rating_costes_uso=None) tipo_mensaje='PREGUNTA' contenido_mensaje='¿Este nuevo coche se convertirá en el vehículo principal de tu hogar?'\n",
      "DEBUG (Perfil) ► Preferencias TRAS post-procesamiento: apasionado_motor='no' valora_estetica='no' coche_principal_hogar=None uso_profesional=None tipo_uso_profesional=None prefiere_diseno_exclusivo=None altura_mayor_190=None peso_mayor_100=None transporta_carga_voluminosa=None necesita_espacio_objetos_especiales=None arrastra_remolque=None tiene_garage=None problemas_aparcar_calle=None espacio_sobra_garage=None problema_dimension_garage=None tiene_punto_carga_propio=None aventura=None estilo_conduccion=None solo_electricos=None prioriza_baja_depreciacion=None transmision_preferida=None rating_fiabilidad_durabilidad=None rating_seguridad=None rating_comodidad=None rating_impacto_ambiental=None rating_tecnologia_conectividad=None rating_costes_uso=None\n",
      "DEBUG (Perfil) ► Estado preferencias_usuario actualizado: apasionado_motor='no' valora_estetica='no' coche_principal_hogar=None uso_profesional=None tipo_uso_profesional=None prefiere_diseno_exclusivo=None altura_mayor_190=None peso_mayor_100=None transporta_carga_voluminosa=None necesita_espacio_objetos_especiales=None arrastra_remolque=None tiene_garage=None problemas_aparcar_calle=None espacio_sobra_garage=None problema_dimension_garage=None tiene_punto_carga_propio=None aventura=None estilo_conduccion=None solo_electricos=None prioriza_baja_depreciacion=None transmision_preferida=None rating_fiabilidad_durabilidad=None rating_seguridad=None rating_comodidad=None rating_impacto_ambiental=None rating_tecnologia_conectividad=None rating_costes_uso=None\n",
      "DEBUG (Perfil) ► Guardando mensaje pendiente: ¿Este nuevo coche se convertirá en el vehículo principal de tu hogar?\n",
      "--- Ejecutando Nodo: validar_preferencias_node ---\n",
      "--- DEBUG CHECK PERFIL ---\n",
      "Input prefs object: apasionado_motor='no' valora_estetica='no' coche_principal_hogar=None uso_profesional=None tipo_uso_profesional=None prefiere_diseno_exclusivo=None altura_mayor_190=None peso_mayor_100=None transporta_carga_voluminosa=None necesita_espacio_objetos_especiales=None arrastra_remolque=None tiene_garage=None problemas_aparcar_calle=None espacio_sobra_garage=None problema_dimension_garage=None tiene_punto_carga_propio=None aventura=None estilo_conduccion=None solo_electricos=None prioriza_baja_depreciacion=None transmision_preferida=None rating_fiabilidad_durabilidad=None rating_seguridad=None rating_comodidad=None rating_impacto_ambiental=None rating_tecnologia_conectividad=None rating_costes_uso=None\n",
      "Input prefs type: <class 'graph.perfil.state.PerfilUsuario'>\n",
      "DEBUG (Validation Perfil) ► Campo 'coche_principal_hogar' está vacío/None.\n",
      "DEBUG (Perfil) ► Validación: PerfilUsuario considerado INCOMPLETO.\n",
      "--- Evaluando Condición: ruta_decision_perfil ---\n",
      "DEBUG (Condición Perfil) ► Estado 'preferencias_usuario' recibido: apasionado_motor='no' valora_estetica='no' coche_principal_hogar=None uso_profesional=None tipo_uso_profesional=None prefiere_diseno_exclusivo=None altura_mayor_190=None peso_mayor_100=None transporta_carga_voluminosa=None necesita_espacio_objetos_especiales=None arrastra_remolque=None tiene_garage=None problemas_aparcar_calle=None espacio_sobra_garage=None problema_dimension_garage=None tiene_punto_carga_propio=None aventura=None estilo_conduccion=None solo_electricos=None prioriza_baja_depreciacion=None transmision_preferida=None rating_fiabilidad_durabilidad=None rating_seguridad=None rating_comodidad=None rating_impacto_ambiental=None rating_tecnologia_conectividad=None rating_costes_uso=None\n",
      "DEBUG (Condición Perfil) ► Tipo de 'preferencias_usuario': <class 'graph.perfil.state.PerfilUsuario'>\n",
      "--- DEBUG CHECK PERFIL ---\n",
      "Input prefs object: apasionado_motor='no' valora_estetica='no' coche_principal_hogar=None uso_profesional=None tipo_uso_profesional=None prefiere_diseno_exclusivo=None altura_mayor_190=None peso_mayor_100=None transporta_carga_voluminosa=None necesita_espacio_objetos_especiales=None arrastra_remolque=None tiene_garage=None problemas_aparcar_calle=None espacio_sobra_garage=None problema_dimension_garage=None tiene_punto_carga_propio=None aventura=None estilo_conduccion=None solo_electricos=None prioriza_baja_depreciacion=None transmision_preferida=None rating_fiabilidad_durabilidad=None rating_seguridad=None rating_comodidad=None rating_impacto_ambiental=None rating_tecnologia_conectividad=None rating_costes_uso=None\n",
      "Input prefs type: <class 'graph.perfil.state.PerfilUsuario'>\n",
      "DEBUG (Validation Perfil) ► Campo 'coche_principal_hogar' está vacío/None.\n",
      "DEBUG (Condición Perfil) ► Perfil INCOMPLETO. Se necesita pregunta.\n",
      "--- Ejecutando Nodo: preguntar_preferencias_node ---\n",
      "--- DEBUG CHECK PERFIL ---\n",
      "Input prefs object: apasionado_motor='no' valora_estetica='no' coche_principal_hogar=None uso_profesional=None tipo_uso_profesional=None prefiere_diseno_exclusivo=None altura_mayor_190=None peso_mayor_100=None transporta_carga_voluminosa=None necesita_espacio_objetos_especiales=None arrastra_remolque=None tiene_garage=None problemas_aparcar_calle=None espacio_sobra_garage=None problema_dimension_garage=None tiene_punto_carga_propio=None aventura=None estilo_conduccion=None solo_electricos=None prioriza_baja_depreciacion=None transmision_preferida=None rating_fiabilidad_durabilidad=None rating_seguridad=None rating_comodidad=None rating_impacto_ambiental=None rating_tecnologia_conectividad=None rating_costes_uso=None\n",
      "Input prefs type: <class 'graph.perfil.state.PerfilUsuario'>\n",
      "DEBUG (Validation Perfil) ► Campo 'coche_principal_hogar' está vacío/None.\n",
      "DEBUG (Preguntar Perfil) ► Perfil aún INCOMPLETO según checker.\n",
      "DEBUG (Preguntar Perfil) ► Pregunta fallback generada: ¿El coche que estamos buscando será el vehículo principal de tu hogar?.\n",
      "DEBUG (Preguntar Perfil) ► Usando mensaje pendiente (pregunta LLM): ¿Este nuevo coche se convertirá en el vehículo principal de tu hogar?\n",
      "DEBUG (Preguntar Perfil) ► Mensaje final añadido: ¿Este nuevo coche se convertirá en el vehículo principal de tu hogar?\n",
      "==================================\u001b[1m Ai Message \u001b[0m==================================\n",
      "\n",
      "¿Este nuevo coche se convertirá en el vehículo principal de tu hogar?\n"
     ]
    }
   ],
   "source": [
    "config = {\"configurable\": {\"thread_id\": \"1\"}}\n",
    "input_message = HumanMessage(content=\"no\")\n",
    "output = graph.invoke({\"messages\": [input_message]}, config) \n",
    "for m in output['messages'][-1:]:\n",
    "    m.pretty_print()"
   ]
  },
  {
   "cell_type": "code",
   "execution_count": 5,
   "metadata": {},
   "outputs": [
    {
     "name": "stdout",
     "output_type": "stream",
     "text": [
      "--- Ejecutando Nodo: route_based_on_state_node ---\n",
      "\n",
      "--- DEBUG: Evaluating Routing Decision ---\n",
      "DEBUG Router: CP OK? True\n",
      "--- DEBUG CHECK PERFIL ---\n",
      "Input prefs object: apasionado_motor='no' valora_estetica='no' coche_principal_hogar=None uso_profesional=None tipo_uso_profesional=None prefiere_diseno_exclusivo=None altura_mayor_190=None peso_mayor_100=None transporta_carga_voluminosa=None necesita_espacio_objetos_especiales=None arrastra_remolque=None tiene_garage=None problemas_aparcar_calle=None espacio_sobra_garage=None problema_dimension_garage=None tiene_punto_carga_propio=None aventura=None estilo_conduccion=None solo_electricos=None prioriza_baja_depreciacion=None transmision_preferida=None rating_fiabilidad_durabilidad=None rating_seguridad=None rating_comodidad=None rating_impacto_ambiental=None rating_tecnologia_conectividad=None rating_costes_uso=None\n",
      "Input prefs type: <class 'graph.perfil.state.PerfilUsuario'>\n",
      "DEBUG (Validation Perfil) ► Campo 'coche_principal_hogar' está vacío/None.\n",
      "DEBUG Router: Prefs OK? False\n",
      "--- DEBUG CHECK PASAJEROS ---\n",
      "Input info pasajeros: None\n",
      "DEBUG (Validation Pasajeros) ► Objeto InfoPasajeros es None.\n",
      "DEBUG Router: Pasajeros OK? False\n",
      "DEBUG (Validation Filtros) ► Objeto FiltrosInferidos es None.\n",
      "DEBUG Router: Filtros OK? False\n",
      "--- DEBUG CHECK ECONOMIA (Manual) ---\n",
      "Input econ object: None\n",
      "DEBUG (Validation Economía Manual) ► Objeto EconomiaUsuario es None.\n",
      "DEBUG Router: Economía OK? False\n",
      "DEBUG Router: Pesos Calculados? False\n",
      "DEBUG Router: Coches Buscados? False\n",
      "--- DEBUG CHECK PERFIL ---\n",
      "Input prefs object: apasionado_motor='no' valora_estetica='no' coche_principal_hogar=None uso_profesional=None tipo_uso_profesional=None prefiere_diseno_exclusivo=None altura_mayor_190=None peso_mayor_100=None transporta_carga_voluminosa=None necesita_espacio_objetos_especiales=None arrastra_remolque=None tiene_garage=None problemas_aparcar_calle=None espacio_sobra_garage=None problema_dimension_garage=None tiene_punto_carga_propio=None aventura=None estilo_conduccion=None solo_electricos=None prioriza_baja_depreciacion=None transmision_preferida=None rating_fiabilidad_durabilidad=None rating_seguridad=None rating_comodidad=None rating_impacto_ambiental=None rating_tecnologia_conectividad=None rating_costes_uso=None\n",
      "Input prefs type: <class 'graph.perfil.state.PerfilUsuario'>\n",
      "DEBUG (Validation Perfil) ► Campo 'coche_principal_hogar' está vacío/None.\n",
      "DEBUG Router: Decisión -> recopilar_preferencias\n",
      "--- Ejecutando Nodo: recopilar_preferencias_node ---\n",
      "DEBUG (Perfil) ► Último mensaje es HumanMessage o historial vacío, llamando a llm_solo_perfil...\n"
     ]
    },
    {
     "name": "stderr",
     "output_type": "stream",
     "text": [
      "INFO:httpx:HTTP Request: POST https://api.openai.com/v1/chat/completions \"HTTP/1.1 200 OK\"\n"
     ]
    },
    {
     "name": "stdout",
     "output_type": "stream",
     "text": [
      "DEBUG (Perfil) ► Respuesta llm_solo_perfil: preferencias_usuario=PerfilUsuario(apasionado_motor='no', valora_estetica='no', coche_principal_hogar='no', uso_profesional=None, tipo_uso_profesional=None, prefiere_diseno_exclusivo=None, altura_mayor_190=None, peso_mayor_100=None, transporta_carga_voluminosa=None, necesita_espacio_objetos_especiales=None, arrastra_remolque=None, tiene_garage=None, problemas_aparcar_calle=None, espacio_sobra_garage=None, problema_dimension_garage=None, tiene_punto_carga_propio=None, aventura=None, estilo_conduccion=None, solo_electricos=None, prioriza_baja_depreciacion=None, transmision_preferida=None, rating_fiabilidad_durabilidad=None, rating_seguridad=None, rating_comodidad=None, rating_impacto_ambiental=None, rating_tecnologia_conectividad=None, rating_costes_uso=None) tipo_mensaje='PREGUNTA' contenido_mensaje='¿El coche será principalmente para uso personal o también tendrá un uso profesional?'\n",
      "DEBUG (Perfil) ► Preferencias TRAS post-procesamiento: apasionado_motor='no' valora_estetica='no' coche_principal_hogar='no' uso_profesional=None tipo_uso_profesional=None prefiere_diseno_exclusivo=None altura_mayor_190=None peso_mayor_100=None transporta_carga_voluminosa=None necesita_espacio_objetos_especiales=None arrastra_remolque=None tiene_garage=None problemas_aparcar_calle=None espacio_sobra_garage=None problema_dimension_garage=None tiene_punto_carga_propio=None aventura=None estilo_conduccion=None solo_electricos=None prioriza_baja_depreciacion=None transmision_preferida=None rating_fiabilidad_durabilidad=None rating_seguridad=None rating_comodidad=None rating_impacto_ambiental=None rating_tecnologia_conectividad=None rating_costes_uso=None\n",
      "DEBUG (Perfil) ► Estado preferencias_usuario actualizado: apasionado_motor='no' valora_estetica='no' coche_principal_hogar='no' uso_profesional=None tipo_uso_profesional=None prefiere_diseno_exclusivo=None altura_mayor_190=None peso_mayor_100=None transporta_carga_voluminosa=None necesita_espacio_objetos_especiales=None arrastra_remolque=None tiene_garage=None problemas_aparcar_calle=None espacio_sobra_garage=None problema_dimension_garage=None tiene_punto_carga_propio=None aventura=None estilo_conduccion=None solo_electricos=None prioriza_baja_depreciacion=None transmision_preferida=None rating_fiabilidad_durabilidad=None rating_seguridad=None rating_comodidad=None rating_impacto_ambiental=None rating_tecnologia_conectividad=None rating_costes_uso=None\n",
      "DEBUG (Perfil) ► Guardando mensaje pendiente: ¿El coche será principalmente para uso personal o también tendrá un uso profesional?\n",
      "--- Ejecutando Nodo: validar_preferencias_node ---\n",
      "--- DEBUG CHECK PERFIL ---\n",
      "Input prefs object: apasionado_motor='no' valora_estetica='no' coche_principal_hogar='no' uso_profesional=None tipo_uso_profesional=None prefiere_diseno_exclusivo=None altura_mayor_190=None peso_mayor_100=None transporta_carga_voluminosa=None necesita_espacio_objetos_especiales=None arrastra_remolque=None tiene_garage=None problemas_aparcar_calle=None espacio_sobra_garage=None problema_dimension_garage=None tiene_punto_carga_propio=None aventura=None estilo_conduccion=None solo_electricos=None prioriza_baja_depreciacion=None transmision_preferida=None rating_fiabilidad_durabilidad=None rating_seguridad=None rating_comodidad=None rating_impacto_ambiental=None rating_tecnologia_conectividad=None rating_costes_uso=None\n",
      "Input prefs type: <class 'graph.perfil.state.PerfilUsuario'>\n",
      "DEBUG (Validation Perfil) ► Campo 'uso_profesional' está vacío/None.\n",
      "DEBUG (Perfil) ► Validación: PerfilUsuario considerado INCOMPLETO.\n",
      "--- Evaluando Condición: ruta_decision_perfil ---\n",
      "DEBUG (Condición Perfil) ► Estado 'preferencias_usuario' recibido: apasionado_motor='no' valora_estetica='no' coche_principal_hogar='no' uso_profesional=None tipo_uso_profesional=None prefiere_diseno_exclusivo=None altura_mayor_190=None peso_mayor_100=None transporta_carga_voluminosa=None necesita_espacio_objetos_especiales=None arrastra_remolque=None tiene_garage=None problemas_aparcar_calle=None espacio_sobra_garage=None problema_dimension_garage=None tiene_punto_carga_propio=None aventura=None estilo_conduccion=None solo_electricos=None prioriza_baja_depreciacion=None transmision_preferida=None rating_fiabilidad_durabilidad=None rating_seguridad=None rating_comodidad=None rating_impacto_ambiental=None rating_tecnologia_conectividad=None rating_costes_uso=None\n",
      "DEBUG (Condición Perfil) ► Tipo de 'preferencias_usuario': <class 'graph.perfil.state.PerfilUsuario'>\n",
      "--- DEBUG CHECK PERFIL ---\n",
      "Input prefs object: apasionado_motor='no' valora_estetica='no' coche_principal_hogar='no' uso_profesional=None tipo_uso_profesional=None prefiere_diseno_exclusivo=None altura_mayor_190=None peso_mayor_100=None transporta_carga_voluminosa=None necesita_espacio_objetos_especiales=None arrastra_remolque=None tiene_garage=None problemas_aparcar_calle=None espacio_sobra_garage=None problema_dimension_garage=None tiene_punto_carga_propio=None aventura=None estilo_conduccion=None solo_electricos=None prioriza_baja_depreciacion=None transmision_preferida=None rating_fiabilidad_durabilidad=None rating_seguridad=None rating_comodidad=None rating_impacto_ambiental=None rating_tecnologia_conectividad=None rating_costes_uso=None\n",
      "Input prefs type: <class 'graph.perfil.state.PerfilUsuario'>\n",
      "DEBUG (Validation Perfil) ► Campo 'uso_profesional' está vacío/None.\n",
      "DEBUG (Condición Perfil) ► Perfil INCOMPLETO. Se necesita pregunta.\n",
      "--- Ejecutando Nodo: preguntar_preferencias_node ---\n",
      "--- DEBUG CHECK PERFIL ---\n",
      "Input prefs object: apasionado_motor='no' valora_estetica='no' coche_principal_hogar='no' uso_profesional=None tipo_uso_profesional=None prefiere_diseno_exclusivo=None altura_mayor_190=None peso_mayor_100=None transporta_carga_voluminosa=None necesita_espacio_objetos_especiales=None arrastra_remolque=None tiene_garage=None problemas_aparcar_calle=None espacio_sobra_garage=None problema_dimension_garage=None tiene_punto_carga_propio=None aventura=None estilo_conduccion=None solo_electricos=None prioriza_baja_depreciacion=None transmision_preferida=None rating_fiabilidad_durabilidad=None rating_seguridad=None rating_comodidad=None rating_impacto_ambiental=None rating_tecnologia_conectividad=None rating_costes_uso=None\n",
      "Input prefs type: <class 'graph.perfil.state.PerfilUsuario'>\n",
      "DEBUG (Validation Perfil) ► Campo 'uso_profesional' está vacío/None.\n",
      "DEBUG (Preguntar Perfil) ► Perfil aún INCOMPLETO según checker.\n",
      "DEBUG (Preguntar Perfil) ► Pregunta fallback generada: ¿El coche lo destinaras principalmente para uso personal o más para fines profesionales (trabajo)?\n",
      "DEBUG (Preguntar Perfil) ► Usando mensaje pendiente (pregunta LLM): ¿El coche será principalmente para uso personal o también tendrá un uso profesional?\n",
      "DEBUG (Preguntar Perfil) ► Mensaje final añadido: ¿El coche será principalmente para uso personal o también tendrá un uso profesional?\n",
      "==================================\u001b[1m Ai Message \u001b[0m==================================\n",
      "\n",
      "¿El coche será principalmente para uso personal o también tendrá un uso profesional?\n"
     ]
    }
   ],
   "source": [
    "config = {\"configurable\": {\"thread_id\": \"1\"}}\n",
    "input_message = HumanMessage(content=\"no\")\n",
    "output = graph.invoke({\"messages\": [input_message]}, config) \n",
    "for m in output['messages'][-1:]:\n",
    "    m.pretty_print()"
   ]
  },
  {
   "cell_type": "code",
   "execution_count": 6,
   "metadata": {},
   "outputs": [
    {
     "name": "stdout",
     "output_type": "stream",
     "text": [
      "--- Ejecutando Nodo: route_based_on_state_node ---\n",
      "\n",
      "--- DEBUG: Evaluating Routing Decision ---\n",
      "DEBUG Router: CP OK? True\n",
      "--- DEBUG CHECK PERFIL ---\n",
      "Input prefs object: apasionado_motor='no' valora_estetica='no' coche_principal_hogar='no' uso_profesional=None tipo_uso_profesional=None prefiere_diseno_exclusivo=None altura_mayor_190=None peso_mayor_100=None transporta_carga_voluminosa=None necesita_espacio_objetos_especiales=None arrastra_remolque=None tiene_garage=None problemas_aparcar_calle=None espacio_sobra_garage=None problema_dimension_garage=None tiene_punto_carga_propio=None aventura=None estilo_conduccion=None solo_electricos=None prioriza_baja_depreciacion=None transmision_preferida=None rating_fiabilidad_durabilidad=None rating_seguridad=None rating_comodidad=None rating_impacto_ambiental=None rating_tecnologia_conectividad=None rating_costes_uso=None\n",
      "Input prefs type: <class 'graph.perfil.state.PerfilUsuario'>\n",
      "DEBUG (Validation Perfil) ► Campo 'uso_profesional' está vacío/None.\n",
      "DEBUG Router: Prefs OK? False\n",
      "--- DEBUG CHECK PASAJEROS ---\n",
      "Input info pasajeros: None\n",
      "DEBUG (Validation Pasajeros) ► Objeto InfoPasajeros es None.\n",
      "DEBUG Router: Pasajeros OK? False\n",
      "DEBUG (Validation Filtros) ► Objeto FiltrosInferidos es None.\n",
      "DEBUG Router: Filtros OK? False\n",
      "--- DEBUG CHECK ECONOMIA (Manual) ---\n",
      "Input econ object: None\n",
      "DEBUG (Validation Economía Manual) ► Objeto EconomiaUsuario es None.\n",
      "DEBUG Router: Economía OK? False\n",
      "DEBUG Router: Pesos Calculados? False\n",
      "DEBUG Router: Coches Buscados? False\n",
      "--- DEBUG CHECK PERFIL ---\n",
      "Input prefs object: apasionado_motor='no' valora_estetica='no' coche_principal_hogar='no' uso_profesional=None tipo_uso_profesional=None prefiere_diseno_exclusivo=None altura_mayor_190=None peso_mayor_100=None transporta_carga_voluminosa=None necesita_espacio_objetos_especiales=None arrastra_remolque=None tiene_garage=None problemas_aparcar_calle=None espacio_sobra_garage=None problema_dimension_garage=None tiene_punto_carga_propio=None aventura=None estilo_conduccion=None solo_electricos=None prioriza_baja_depreciacion=None transmision_preferida=None rating_fiabilidad_durabilidad=None rating_seguridad=None rating_comodidad=None rating_impacto_ambiental=None rating_tecnologia_conectividad=None rating_costes_uso=None\n",
      "Input prefs type: <class 'graph.perfil.state.PerfilUsuario'>\n",
      "DEBUG (Validation Perfil) ► Campo 'uso_profesional' está vacío/None.\n",
      "DEBUG Router: Decisión -> recopilar_preferencias\n",
      "--- Ejecutando Nodo: recopilar_preferencias_node ---\n",
      "DEBUG (Perfil) ► Último mensaje es HumanMessage o historial vacío, llamando a llm_solo_perfil...\n"
     ]
    },
    {
     "name": "stderr",
     "output_type": "stream",
     "text": [
      "INFO:httpx:HTTP Request: POST https://api.openai.com/v1/chat/completions \"HTTP/1.1 200 OK\"\n"
     ]
    },
    {
     "name": "stdout",
     "output_type": "stream",
     "text": [
      "DEBUG (Perfil) ► Respuesta llm_solo_perfil: preferencias_usuario=PerfilUsuario(apasionado_motor='no', valora_estetica='no', coche_principal_hogar='no', uso_profesional='no', tipo_uso_profesional=None, prefiere_diseno_exclusivo=None, altura_mayor_190=None, peso_mayor_100=None, transporta_carga_voluminosa=None, necesita_espacio_objetos_especiales=None, arrastra_remolque=None, tiene_garage=None, problemas_aparcar_calle=None, espacio_sobra_garage=None, problema_dimension_garage=None, tiene_punto_carga_propio=None, aventura=None, estilo_conduccion=None, solo_electricos=None, prioriza_baja_depreciacion=None, transmision_preferida=None, rating_fiabilidad_durabilidad=None, rating_seguridad=None, rating_comodidad=None, rating_impacto_ambiental=None, rating_tecnologia_conectividad=None, rating_costes_uso=None) tipo_mensaje='PREGUNTA' contenido_mensaje=\"En cuanto al estilo, ¿te inclinas más por un diseño exclusivo y que destaque, o prefieres algo más discreto y convencional? (Responde 'sí' para exclusivo, 'no' para discreto)\"\n",
      "DEBUG (Perfil) ► Preferencias TRAS post-procesamiento: apasionado_motor='no' valora_estetica='no' coche_principal_hogar='no' uso_profesional='no' tipo_uso_profesional=None prefiere_diseno_exclusivo=None altura_mayor_190=None peso_mayor_100=None transporta_carga_voluminosa=None necesita_espacio_objetos_especiales=None arrastra_remolque=None tiene_garage=None problemas_aparcar_calle=None espacio_sobra_garage=None problema_dimension_garage=None tiene_punto_carga_propio=None aventura=None estilo_conduccion=None solo_electricos=None prioriza_baja_depreciacion=None transmision_preferida=None rating_fiabilidad_durabilidad=None rating_seguridad=None rating_comodidad=None rating_impacto_ambiental=None rating_tecnologia_conectividad=None rating_costes_uso=None\n",
      "DEBUG (Perfil) ► Estado preferencias_usuario actualizado: apasionado_motor='no' valora_estetica='no' coche_principal_hogar='no' uso_profesional='no' tipo_uso_profesional=None prefiere_diseno_exclusivo=None altura_mayor_190=None peso_mayor_100=None transporta_carga_voluminosa=None necesita_espacio_objetos_especiales=None arrastra_remolque=None tiene_garage=None problemas_aparcar_calle=None espacio_sobra_garage=None problema_dimension_garage=None tiene_punto_carga_propio=None aventura=None estilo_conduccion=None solo_electricos=None prioriza_baja_depreciacion=None transmision_preferida=None rating_fiabilidad_durabilidad=None rating_seguridad=None rating_comodidad=None rating_impacto_ambiental=None rating_tecnologia_conectividad=None rating_costes_uso=None\n",
      "DEBUG (Perfil) ► Guardando mensaje pendiente: En cuanto al estilo, ¿te inclinas más por un diseño exclusivo y que destaque, o prefieres algo más discreto y convencional? (Responde 'sí' para exclusivo, 'no' para discreto)\n",
      "--- Ejecutando Nodo: validar_preferencias_node ---\n",
      "--- DEBUG CHECK PERFIL ---\n",
      "Input prefs object: apasionado_motor='no' valora_estetica='no' coche_principal_hogar='no' uso_profesional='no' tipo_uso_profesional=None prefiere_diseno_exclusivo=None altura_mayor_190=None peso_mayor_100=None transporta_carga_voluminosa=None necesita_espacio_objetos_especiales=None arrastra_remolque=None tiene_garage=None problemas_aparcar_calle=None espacio_sobra_garage=None problema_dimension_garage=None tiene_punto_carga_propio=None aventura=None estilo_conduccion=None solo_electricos=None prioriza_baja_depreciacion=None transmision_preferida=None rating_fiabilidad_durabilidad=None rating_seguridad=None rating_comodidad=None rating_impacto_ambiental=None rating_tecnologia_conectividad=None rating_costes_uso=None\n",
      "Input prefs type: <class 'graph.perfil.state.PerfilUsuario'>\n",
      "DEBUG (Validation Perfil) ► Campo 'prefiere_diseno_exclusivo' está vacío/None.\n",
      "DEBUG (Perfil) ► Validación: PerfilUsuario considerado INCOMPLETO.\n",
      "--- Evaluando Condición: ruta_decision_perfil ---\n",
      "DEBUG (Condición Perfil) ► Estado 'preferencias_usuario' recibido: apasionado_motor='no' valora_estetica='no' coche_principal_hogar='no' uso_profesional='no' tipo_uso_profesional=None prefiere_diseno_exclusivo=None altura_mayor_190=None peso_mayor_100=None transporta_carga_voluminosa=None necesita_espacio_objetos_especiales=None arrastra_remolque=None tiene_garage=None problemas_aparcar_calle=None espacio_sobra_garage=None problema_dimension_garage=None tiene_punto_carga_propio=None aventura=None estilo_conduccion=None solo_electricos=None prioriza_baja_depreciacion=None transmision_preferida=None rating_fiabilidad_durabilidad=None rating_seguridad=None rating_comodidad=None rating_impacto_ambiental=None rating_tecnologia_conectividad=None rating_costes_uso=None\n",
      "DEBUG (Condición Perfil) ► Tipo de 'preferencias_usuario': <class 'graph.perfil.state.PerfilUsuario'>\n",
      "--- DEBUG CHECK PERFIL ---\n",
      "Input prefs object: apasionado_motor='no' valora_estetica='no' coche_principal_hogar='no' uso_profesional='no' tipo_uso_profesional=None prefiere_diseno_exclusivo=None altura_mayor_190=None peso_mayor_100=None transporta_carga_voluminosa=None necesita_espacio_objetos_especiales=None arrastra_remolque=None tiene_garage=None problemas_aparcar_calle=None espacio_sobra_garage=None problema_dimension_garage=None tiene_punto_carga_propio=None aventura=None estilo_conduccion=None solo_electricos=None prioriza_baja_depreciacion=None transmision_preferida=None rating_fiabilidad_durabilidad=None rating_seguridad=None rating_comodidad=None rating_impacto_ambiental=None rating_tecnologia_conectividad=None rating_costes_uso=None\n",
      "Input prefs type: <class 'graph.perfil.state.PerfilUsuario'>\n",
      "DEBUG (Validation Perfil) ► Campo 'prefiere_diseno_exclusivo' está vacío/None.\n",
      "DEBUG (Condición Perfil) ► Perfil INCOMPLETO. Se necesita pregunta.\n",
      "--- Ejecutando Nodo: preguntar_preferencias_node ---\n",
      "--- DEBUG CHECK PERFIL ---\n",
      "Input prefs object: apasionado_motor='no' valora_estetica='no' coche_principal_hogar='no' uso_profesional='no' tipo_uso_profesional=None prefiere_diseno_exclusivo=None altura_mayor_190=None peso_mayor_100=None transporta_carga_voluminosa=None necesita_espacio_objetos_especiales=None arrastra_remolque=None tiene_garage=None problemas_aparcar_calle=None espacio_sobra_garage=None problema_dimension_garage=None tiene_punto_carga_propio=None aventura=None estilo_conduccion=None solo_electricos=None prioriza_baja_depreciacion=None transmision_preferida=None rating_fiabilidad_durabilidad=None rating_seguridad=None rating_comodidad=None rating_impacto_ambiental=None rating_tecnologia_conectividad=None rating_costes_uso=None\n",
      "Input prefs type: <class 'graph.perfil.state.PerfilUsuario'>\n",
      "DEBUG (Validation Perfil) ► Campo 'prefiere_diseno_exclusivo' está vacío/None.\n",
      "DEBUG (Preguntar Perfil) ► Perfil aún INCOMPLETO según checker.\n",
      "DEBUG (Preguntar Perfil) ► Pregunta fallback generada: En cuanto al estilo del coche, ¿te inclinas más por un diseño exclusivo y llamativo, o por algo más discreto y convencional?\n",
      "DEBUG (Preguntar Perfil) ► Usando mensaje pendiente (pregunta LLM): En cuanto al estilo, ¿te inclinas más por un diseño exclusivo y que destaque, o prefieres algo más discreto y convencional? (Responde 'sí' para exclusivo, 'no' para discreto)\n",
      "DEBUG (Preguntar Perfil) ► Mensaje final añadido: En cuanto al estilo, ¿te inclinas más por un diseño exclusivo y que destaque, o prefieres algo más discreto y convencional? (Responde 'sí' para exclusivo, 'no' para discreto)\n",
      "==================================\u001b[1m Ai Message \u001b[0m==================================\n",
      "\n",
      "En cuanto al estilo, ¿te inclinas más por un diseño exclusivo y que destaque, o prefieres algo más discreto y convencional? (Responde 'sí' para exclusivo, 'no' para discreto)\n"
     ]
    }
   ],
   "source": [
    "# Create a thread\n",
    "config = {\"configurable\": {\"thread_id\": \"1\"}}\n",
    "\n",
    "# Start conversation\n",
    "input_message = HumanMessage(content=\"personal\")\n",
    "output = graph.invoke({\"messages\": [input_message]}, config) \n",
    "for m in output['messages'][-1:]:\n",
    "    m.pretty_print()"
   ]
  },
  {
   "cell_type": "code",
   "execution_count": 7,
   "metadata": {},
   "outputs": [
    {
     "name": "stdout",
     "output_type": "stream",
     "text": [
      "--- Ejecutando Nodo: route_based_on_state_node ---\n",
      "\n",
      "--- DEBUG: Evaluating Routing Decision ---\n",
      "DEBUG Router: CP OK? True\n",
      "--- DEBUG CHECK PERFIL ---\n",
      "Input prefs object: apasionado_motor='no' valora_estetica='no' coche_principal_hogar='no' uso_profesional='no' tipo_uso_profesional=None prefiere_diseno_exclusivo=None altura_mayor_190=None peso_mayor_100=None transporta_carga_voluminosa=None necesita_espacio_objetos_especiales=None arrastra_remolque=None tiene_garage=None problemas_aparcar_calle=None espacio_sobra_garage=None problema_dimension_garage=None tiene_punto_carga_propio=None aventura=None estilo_conduccion=None solo_electricos=None prioriza_baja_depreciacion=None transmision_preferida=None rating_fiabilidad_durabilidad=None rating_seguridad=None rating_comodidad=None rating_impacto_ambiental=None rating_tecnologia_conectividad=None rating_costes_uso=None\n",
      "Input prefs type: <class 'graph.perfil.state.PerfilUsuario'>\n",
      "DEBUG (Validation Perfil) ► Campo 'prefiere_diseno_exclusivo' está vacío/None.\n",
      "DEBUG Router: Prefs OK? False\n",
      "--- DEBUG CHECK PASAJEROS ---\n",
      "Input info pasajeros: None\n",
      "DEBUG (Validation Pasajeros) ► Objeto InfoPasajeros es None.\n",
      "DEBUG Router: Pasajeros OK? False\n",
      "DEBUG (Validation Filtros) ► Objeto FiltrosInferidos es None.\n",
      "DEBUG Router: Filtros OK? False\n",
      "--- DEBUG CHECK ECONOMIA (Manual) ---\n",
      "Input econ object: None\n",
      "DEBUG (Validation Economía Manual) ► Objeto EconomiaUsuario es None.\n",
      "DEBUG Router: Economía OK? False\n",
      "DEBUG Router: Pesos Calculados? False\n",
      "DEBUG Router: Coches Buscados? False\n",
      "--- DEBUG CHECK PERFIL ---\n",
      "Input prefs object: apasionado_motor='no' valora_estetica='no' coche_principal_hogar='no' uso_profesional='no' tipo_uso_profesional=None prefiere_diseno_exclusivo=None altura_mayor_190=None peso_mayor_100=None transporta_carga_voluminosa=None necesita_espacio_objetos_especiales=None arrastra_remolque=None tiene_garage=None problemas_aparcar_calle=None espacio_sobra_garage=None problema_dimension_garage=None tiene_punto_carga_propio=None aventura=None estilo_conduccion=None solo_electricos=None prioriza_baja_depreciacion=None transmision_preferida=None rating_fiabilidad_durabilidad=None rating_seguridad=None rating_comodidad=None rating_impacto_ambiental=None rating_tecnologia_conectividad=None rating_costes_uso=None\n",
      "Input prefs type: <class 'graph.perfil.state.PerfilUsuario'>\n",
      "DEBUG (Validation Perfil) ► Campo 'prefiere_diseno_exclusivo' está vacío/None.\n",
      "DEBUG Router: Decisión -> recopilar_preferencias\n",
      "--- Ejecutando Nodo: recopilar_preferencias_node ---\n",
      "DEBUG (Perfil) ► Último mensaje es HumanMessage o historial vacío, llamando a llm_solo_perfil...\n"
     ]
    },
    {
     "name": "stderr",
     "output_type": "stream",
     "text": [
      "INFO:httpx:HTTP Request: POST https://api.openai.com/v1/chat/completions \"HTTP/1.1 200 OK\"\n"
     ]
    },
    {
     "name": "stdout",
     "output_type": "stream",
     "text": [
      "DEBUG (Perfil) ► Respuesta llm_solo_perfil: preferencias_usuario=PerfilUsuario(apasionado_motor='no', valora_estetica='no', coche_principal_hogar='no', uso_profesional='no', tipo_uso_profesional=None, prefiere_diseno_exclusivo='no', altura_mayor_190=None, peso_mayor_100=None, transporta_carga_voluminosa=None, necesita_espacio_objetos_especiales=None, arrastra_remolque=None, tiene_garage=None, problemas_aparcar_calle=None, espacio_sobra_garage=None, problema_dimension_garage=None, tiene_punto_carga_propio=None, aventura=None, estilo_conduccion=None, solo_electricos=None, prioriza_baja_depreciacion=None, transmision_preferida=None, rating_fiabilidad_durabilidad=None, rating_seguridad=None, rating_comodidad=None, rating_impacto_ambiental=None, rating_tecnologia_conectividad=None, rating_costes_uso=None) tipo_mensaje='PREGUNTA' contenido_mensaje='¿Para asegurar tu comodidad, mides más de 1.90 m?'\n",
      "DEBUG (Perfil) ► Preferencias TRAS post-procesamiento: apasionado_motor='no' valora_estetica='no' coche_principal_hogar='no' uso_profesional='no' tipo_uso_profesional=None prefiere_diseno_exclusivo='no' altura_mayor_190=None peso_mayor_100=None transporta_carga_voluminosa=None necesita_espacio_objetos_especiales=None arrastra_remolque=None tiene_garage=None problemas_aparcar_calle=None espacio_sobra_garage=None problema_dimension_garage=None tiene_punto_carga_propio=None aventura=None estilo_conduccion=None solo_electricos=None prioriza_baja_depreciacion=None transmision_preferida=None rating_fiabilidad_durabilidad=None rating_seguridad=None rating_comodidad=None rating_impacto_ambiental=None rating_tecnologia_conectividad=None rating_costes_uso=None\n",
      "DEBUG (Perfil) ► Estado preferencias_usuario actualizado: apasionado_motor='no' valora_estetica='no' coche_principal_hogar='no' uso_profesional='no' tipo_uso_profesional=None prefiere_diseno_exclusivo='no' altura_mayor_190=None peso_mayor_100=None transporta_carga_voluminosa=None necesita_espacio_objetos_especiales=None arrastra_remolque=None tiene_garage=None problemas_aparcar_calle=None espacio_sobra_garage=None problema_dimension_garage=None tiene_punto_carga_propio=None aventura=None estilo_conduccion=None solo_electricos=None prioriza_baja_depreciacion=None transmision_preferida=None rating_fiabilidad_durabilidad=None rating_seguridad=None rating_comodidad=None rating_impacto_ambiental=None rating_tecnologia_conectividad=None rating_costes_uso=None\n",
      "DEBUG (Perfil) ► Guardando mensaje pendiente: ¿Para asegurar tu comodidad, mides más de 1.90 m?\n",
      "--- Ejecutando Nodo: validar_preferencias_node ---\n",
      "--- DEBUG CHECK PERFIL ---\n",
      "Input prefs object: apasionado_motor='no' valora_estetica='no' coche_principal_hogar='no' uso_profesional='no' tipo_uso_profesional=None prefiere_diseno_exclusivo='no' altura_mayor_190=None peso_mayor_100=None transporta_carga_voluminosa=None necesita_espacio_objetos_especiales=None arrastra_remolque=None tiene_garage=None problemas_aparcar_calle=None espacio_sobra_garage=None problema_dimension_garage=None tiene_punto_carga_propio=None aventura=None estilo_conduccion=None solo_electricos=None prioriza_baja_depreciacion=None transmision_preferida=None rating_fiabilidad_durabilidad=None rating_seguridad=None rating_comodidad=None rating_impacto_ambiental=None rating_tecnologia_conectividad=None rating_costes_uso=None\n",
      "Input prefs type: <class 'graph.perfil.state.PerfilUsuario'>\n",
      "DEBUG (Validation Perfil) ► Campo 'altura_mayor_190' está vacío/None.\n",
      "DEBUG (Perfil) ► Validación: PerfilUsuario considerado INCOMPLETO.\n",
      "--- Evaluando Condición: ruta_decision_perfil ---\n",
      "DEBUG (Condición Perfil) ► Estado 'preferencias_usuario' recibido: apasionado_motor='no' valora_estetica='no' coche_principal_hogar='no' uso_profesional='no' tipo_uso_profesional=None prefiere_diseno_exclusivo='no' altura_mayor_190=None peso_mayor_100=None transporta_carga_voluminosa=None necesita_espacio_objetos_especiales=None arrastra_remolque=None tiene_garage=None problemas_aparcar_calle=None espacio_sobra_garage=None problema_dimension_garage=None tiene_punto_carga_propio=None aventura=None estilo_conduccion=None solo_electricos=None prioriza_baja_depreciacion=None transmision_preferida=None rating_fiabilidad_durabilidad=None rating_seguridad=None rating_comodidad=None rating_impacto_ambiental=None rating_tecnologia_conectividad=None rating_costes_uso=None\n",
      "DEBUG (Condición Perfil) ► Tipo de 'preferencias_usuario': <class 'graph.perfil.state.PerfilUsuario'>\n",
      "--- DEBUG CHECK PERFIL ---\n",
      "Input prefs object: apasionado_motor='no' valora_estetica='no' coche_principal_hogar='no' uso_profesional='no' tipo_uso_profesional=None prefiere_diseno_exclusivo='no' altura_mayor_190=None peso_mayor_100=None transporta_carga_voluminosa=None necesita_espacio_objetos_especiales=None arrastra_remolque=None tiene_garage=None problemas_aparcar_calle=None espacio_sobra_garage=None problema_dimension_garage=None tiene_punto_carga_propio=None aventura=None estilo_conduccion=None solo_electricos=None prioriza_baja_depreciacion=None transmision_preferida=None rating_fiabilidad_durabilidad=None rating_seguridad=None rating_comodidad=None rating_impacto_ambiental=None rating_tecnologia_conectividad=None rating_costes_uso=None\n",
      "Input prefs type: <class 'graph.perfil.state.PerfilUsuario'>\n",
      "DEBUG (Validation Perfil) ► Campo 'altura_mayor_190' está vacío/None.\n",
      "DEBUG (Condición Perfil) ► Perfil INCOMPLETO. Se necesita pregunta.\n",
      "--- Ejecutando Nodo: preguntar_preferencias_node ---\n",
      "--- DEBUG CHECK PERFIL ---\n",
      "Input prefs object: apasionado_motor='no' valora_estetica='no' coche_principal_hogar='no' uso_profesional='no' tipo_uso_profesional=None prefiere_diseno_exclusivo='no' altura_mayor_190=None peso_mayor_100=None transporta_carga_voluminosa=None necesita_espacio_objetos_especiales=None arrastra_remolque=None tiene_garage=None problemas_aparcar_calle=None espacio_sobra_garage=None problema_dimension_garage=None tiene_punto_carga_propio=None aventura=None estilo_conduccion=None solo_electricos=None prioriza_baja_depreciacion=None transmision_preferida=None rating_fiabilidad_durabilidad=None rating_seguridad=None rating_comodidad=None rating_impacto_ambiental=None rating_tecnologia_conectividad=None rating_costes_uso=None\n",
      "Input prefs type: <class 'graph.perfil.state.PerfilUsuario'>\n",
      "DEBUG (Validation Perfil) ► Campo 'altura_mayor_190' está vacío/None.\n",
      "DEBUG (Preguntar Perfil) ► Perfil aún INCOMPLETO según checker.\n",
      "DEBUG (Preguntar Perfil) ► Pregunta fallback generada: Para recomendarte un vehículo con espacio adecuado, ¿tu altura supera los 1.90 metros?\n",
      "DEBUG (Preguntar Perfil) ► Usando mensaje pendiente (pregunta LLM): ¿Para asegurar tu comodidad, mides más de 1.90 m?\n",
      "DEBUG (Preguntar Perfil) ► Mensaje final añadido: ¿Para asegurar tu comodidad, mides más de 1.90 m?\n",
      "==================================\u001b[1m Ai Message \u001b[0m==================================\n",
      "\n",
      "¿Para asegurar tu comodidad, mides más de 1.90 m?\n"
     ]
    }
   ],
   "source": [
    "# Create a thread\n",
    "config = {\"configurable\": {\"thread_id\": \"1\"}}\n",
    "\n",
    "# Start conversation\n",
    "input_message = HumanMessage(content=\"convencional\")\n",
    "output = graph.invoke({\"messages\": [input_message]}, config) \n",
    "for m in output['messages'][-1:]:\n",
    "    m.pretty_print()"
   ]
  },
  {
   "cell_type": "code",
   "execution_count": 8,
   "metadata": {},
   "outputs": [
    {
     "name": "stdout",
     "output_type": "stream",
     "text": [
      "--- Ejecutando Nodo: route_based_on_state_node ---\n",
      "\n",
      "--- DEBUG: Evaluating Routing Decision ---\n",
      "DEBUG Router: CP OK? True\n",
      "--- DEBUG CHECK PERFIL ---\n",
      "Input prefs object: apasionado_motor='no' valora_estetica='no' coche_principal_hogar='no' uso_profesional='no' tipo_uso_profesional=None prefiere_diseno_exclusivo='no' altura_mayor_190=None peso_mayor_100=None transporta_carga_voluminosa=None necesita_espacio_objetos_especiales=None arrastra_remolque=None tiene_garage=None problemas_aparcar_calle=None espacio_sobra_garage=None problema_dimension_garage=None tiene_punto_carga_propio=None aventura=None estilo_conduccion=None solo_electricos=None prioriza_baja_depreciacion=None transmision_preferida=None rating_fiabilidad_durabilidad=None rating_seguridad=None rating_comodidad=None rating_impacto_ambiental=None rating_tecnologia_conectividad=None rating_costes_uso=None\n",
      "Input prefs type: <class 'graph.perfil.state.PerfilUsuario'>\n",
      "DEBUG (Validation Perfil) ► Campo 'altura_mayor_190' está vacío/None.\n",
      "DEBUG Router: Prefs OK? False\n",
      "--- DEBUG CHECK PASAJEROS ---\n",
      "Input info pasajeros: None\n",
      "DEBUG (Validation Pasajeros) ► Objeto InfoPasajeros es None.\n",
      "DEBUG Router: Pasajeros OK? False\n",
      "DEBUG (Validation Filtros) ► Objeto FiltrosInferidos es None.\n",
      "DEBUG Router: Filtros OK? False\n",
      "--- DEBUG CHECK ECONOMIA (Manual) ---\n",
      "Input econ object: None\n",
      "DEBUG (Validation Economía Manual) ► Objeto EconomiaUsuario es None.\n",
      "DEBUG Router: Economía OK? False\n",
      "DEBUG Router: Pesos Calculados? False\n",
      "DEBUG Router: Coches Buscados? False\n",
      "--- DEBUG CHECK PERFIL ---\n",
      "Input prefs object: apasionado_motor='no' valora_estetica='no' coche_principal_hogar='no' uso_profesional='no' tipo_uso_profesional=None prefiere_diseno_exclusivo='no' altura_mayor_190=None peso_mayor_100=None transporta_carga_voluminosa=None necesita_espacio_objetos_especiales=None arrastra_remolque=None tiene_garage=None problemas_aparcar_calle=None espacio_sobra_garage=None problema_dimension_garage=None tiene_punto_carga_propio=None aventura=None estilo_conduccion=None solo_electricos=None prioriza_baja_depreciacion=None transmision_preferida=None rating_fiabilidad_durabilidad=None rating_seguridad=None rating_comodidad=None rating_impacto_ambiental=None rating_tecnologia_conectividad=None rating_costes_uso=None\n",
      "Input prefs type: <class 'graph.perfil.state.PerfilUsuario'>\n",
      "DEBUG (Validation Perfil) ► Campo 'altura_mayor_190' está vacío/None.\n",
      "DEBUG Router: Decisión -> recopilar_preferencias\n",
      "--- Ejecutando Nodo: recopilar_preferencias_node ---\n",
      "DEBUG (Perfil) ► Último mensaje es HumanMessage o historial vacío, llamando a llm_solo_perfil...\n"
     ]
    },
    {
     "name": "stderr",
     "output_type": "stream",
     "text": [
      "INFO:httpx:HTTP Request: POST https://api.openai.com/v1/chat/completions \"HTTP/1.1 200 OK\"\n"
     ]
    },
    {
     "name": "stdout",
     "output_type": "stream",
     "text": [
      "DEBUG (Perfil) ► Respuesta llm_solo_perfil: preferencias_usuario=PerfilUsuario(apasionado_motor='no', valora_estetica='no', coche_principal_hogar='no', uso_profesional='no', tipo_uso_profesional=None, prefiere_diseno_exclusivo='no', altura_mayor_190='no', peso_mayor_100='no', transporta_carga_voluminosa=None, necesita_espacio_objetos_especiales=None, arrastra_remolque=None, tiene_garage=None, problemas_aparcar_calle=None, espacio_sobra_garage=None, problema_dimension_garage=None, tiene_punto_carga_propio=None, aventura=None, estilo_conduccion=None, solo_electricos=None, prioriza_baja_depreciacion=None, transmision_preferida=None, rating_fiabilidad_durabilidad=None, rating_seguridad=None, rating_comodidad=None, rating_impacto_ambiental=None, rating_tecnologia_conectividad=None, rating_costes_uso=None) tipo_mensaje='PREGUNTA' contenido_mensaje='¿Sueles necesitar transportar equipaje voluminoso, material deportivo grande o similar con frecuencia?'\n",
      "DEBUG (Perfil) ► Preferencias TRAS post-procesamiento: apasionado_motor='no' valora_estetica='no' coche_principal_hogar='no' uso_profesional='no' tipo_uso_profesional=None prefiere_diseno_exclusivo='no' altura_mayor_190='no' peso_mayor_100='no' transporta_carga_voluminosa=None necesita_espacio_objetos_especiales=None arrastra_remolque=None tiene_garage=None problemas_aparcar_calle=None espacio_sobra_garage=None problema_dimension_garage=None tiene_punto_carga_propio=None aventura=None estilo_conduccion=None solo_electricos=None prioriza_baja_depreciacion=None transmision_preferida=None rating_fiabilidad_durabilidad=None rating_seguridad=None rating_comodidad=None rating_impacto_ambiental=None rating_tecnologia_conectividad=None rating_costes_uso=None\n",
      "DEBUG (Perfil) ► Estado preferencias_usuario actualizado: apasionado_motor='no' valora_estetica='no' coche_principal_hogar='no' uso_profesional='no' tipo_uso_profesional=None prefiere_diseno_exclusivo='no' altura_mayor_190='no' peso_mayor_100='no' transporta_carga_voluminosa=None necesita_espacio_objetos_especiales=None arrastra_remolque=None tiene_garage=None problemas_aparcar_calle=None espacio_sobra_garage=None problema_dimension_garage=None tiene_punto_carga_propio=None aventura=None estilo_conduccion=None solo_electricos=None prioriza_baja_depreciacion=None transmision_preferida=None rating_fiabilidad_durabilidad=None rating_seguridad=None rating_comodidad=None rating_impacto_ambiental=None rating_tecnologia_conectividad=None rating_costes_uso=None\n",
      "DEBUG (Perfil) ► Guardando mensaje pendiente: ¿Sueles necesitar transportar equipaje voluminoso, material deportivo grande o similar con frecuencia?\n",
      "--- Ejecutando Nodo: validar_preferencias_node ---\n",
      "--- DEBUG CHECK PERFIL ---\n",
      "Input prefs object: apasionado_motor='no' valora_estetica='no' coche_principal_hogar='no' uso_profesional='no' tipo_uso_profesional=None prefiere_diseno_exclusivo='no' altura_mayor_190='no' peso_mayor_100='no' transporta_carga_voluminosa=None necesita_espacio_objetos_especiales=None arrastra_remolque=None tiene_garage=None problemas_aparcar_calle=None espacio_sobra_garage=None problema_dimension_garage=None tiene_punto_carga_propio=None aventura=None estilo_conduccion=None solo_electricos=None prioriza_baja_depreciacion=None transmision_preferida=None rating_fiabilidad_durabilidad=None rating_seguridad=None rating_comodidad=None rating_impacto_ambiental=None rating_tecnologia_conectividad=None rating_costes_uso=None\n",
      "Input prefs type: <class 'graph.perfil.state.PerfilUsuario'>\n",
      "DEBUG (Validation Perfil) ► Campo 'transporta_carga_voluminosa' está vacío/None.\n",
      "DEBUG (Perfil) ► Validación: PerfilUsuario considerado INCOMPLETO.\n",
      "--- Evaluando Condición: ruta_decision_perfil ---\n",
      "DEBUG (Condición Perfil) ► Estado 'preferencias_usuario' recibido: apasionado_motor='no' valora_estetica='no' coche_principal_hogar='no' uso_profesional='no' tipo_uso_profesional=None prefiere_diseno_exclusivo='no' altura_mayor_190='no' peso_mayor_100='no' transporta_carga_voluminosa=None necesita_espacio_objetos_especiales=None arrastra_remolque=None tiene_garage=None problemas_aparcar_calle=None espacio_sobra_garage=None problema_dimension_garage=None tiene_punto_carga_propio=None aventura=None estilo_conduccion=None solo_electricos=None prioriza_baja_depreciacion=None transmision_preferida=None rating_fiabilidad_durabilidad=None rating_seguridad=None rating_comodidad=None rating_impacto_ambiental=None rating_tecnologia_conectividad=None rating_costes_uso=None\n",
      "DEBUG (Condición Perfil) ► Tipo de 'preferencias_usuario': <class 'graph.perfil.state.PerfilUsuario'>\n",
      "--- DEBUG CHECK PERFIL ---\n",
      "Input prefs object: apasionado_motor='no' valora_estetica='no' coche_principal_hogar='no' uso_profesional='no' tipo_uso_profesional=None prefiere_diseno_exclusivo='no' altura_mayor_190='no' peso_mayor_100='no' transporta_carga_voluminosa=None necesita_espacio_objetos_especiales=None arrastra_remolque=None tiene_garage=None problemas_aparcar_calle=None espacio_sobra_garage=None problema_dimension_garage=None tiene_punto_carga_propio=None aventura=None estilo_conduccion=None solo_electricos=None prioriza_baja_depreciacion=None transmision_preferida=None rating_fiabilidad_durabilidad=None rating_seguridad=None rating_comodidad=None rating_impacto_ambiental=None rating_tecnologia_conectividad=None rating_costes_uso=None\n",
      "Input prefs type: <class 'graph.perfil.state.PerfilUsuario'>\n",
      "DEBUG (Validation Perfil) ► Campo 'transporta_carga_voluminosa' está vacío/None.\n",
      "DEBUG (Condición Perfil) ► Perfil INCOMPLETO. Se necesita pregunta.\n",
      "--- Ejecutando Nodo: preguntar_preferencias_node ---\n",
      "--- DEBUG CHECK PERFIL ---\n",
      "Input prefs object: apasionado_motor='no' valora_estetica='no' coche_principal_hogar='no' uso_profesional='no' tipo_uso_profesional=None prefiere_diseno_exclusivo='no' altura_mayor_190='no' peso_mayor_100='no' transporta_carga_voluminosa=None necesita_espacio_objetos_especiales=None arrastra_remolque=None tiene_garage=None problemas_aparcar_calle=None espacio_sobra_garage=None problema_dimension_garage=None tiene_punto_carga_propio=None aventura=None estilo_conduccion=None solo_electricos=None prioriza_baja_depreciacion=None transmision_preferida=None rating_fiabilidad_durabilidad=None rating_seguridad=None rating_comodidad=None rating_impacto_ambiental=None rating_tecnologia_conectividad=None rating_costes_uso=None\n",
      "Input prefs type: <class 'graph.perfil.state.PerfilUsuario'>\n",
      "DEBUG (Validation Perfil) ► Campo 'transporta_carga_voluminosa' está vacío/None.\n",
      "DEBUG (Preguntar Perfil) ► Perfil aún INCOMPLETO según checker.\n",
      "DEBUG (Preguntar Perfil) ► Pregunta fallback generada: ¿Transportas con frecuencia equipaje o carga voluminosa? (Responde 'sí' o 'no')\n",
      "DEBUG (Preguntar Perfil) ► Usando mensaje pendiente (pregunta LLM): ¿Sueles necesitar transportar equipaje voluminoso, material deportivo grande o similar con frecuencia?\n",
      "DEBUG (Preguntar Perfil) ► Mensaje final añadido: ¿Sueles necesitar transportar equipaje voluminoso, material deportivo grande o similar con frecuencia?\n",
      "==================================\u001b[1m Ai Message \u001b[0m==================================\n",
      "\n",
      "¿Sueles necesitar transportar equipaje voluminoso, material deportivo grande o similar con frecuencia?\n"
     ]
    }
   ],
   "source": [
    "# Create a thread\n",
    "config = {\"configurable\": {\"thread_id\": \"1\"}}\n",
    "\n",
    "# Start conversation\n",
    "input_message = HumanMessage(content=\"mido 1.82 y peso 80 kilos\")\n",
    "output = graph.invoke({\"messages\": [input_message]}, config) \n",
    "for m in output['messages'][-1:]:\n",
    "    m.pretty_print()"
   ]
  },
  {
   "cell_type": "code",
   "execution_count": 9,
   "metadata": {},
   "outputs": [
    {
     "name": "stdout",
     "output_type": "stream",
     "text": [
      "--- Ejecutando Nodo: route_based_on_state_node ---\n",
      "\n",
      "--- DEBUG: Evaluating Routing Decision ---\n",
      "DEBUG Router: CP OK? True\n",
      "--- DEBUG CHECK PERFIL ---\n",
      "Input prefs object: apasionado_motor='no' valora_estetica='no' coche_principal_hogar='no' uso_profesional='no' tipo_uso_profesional=None prefiere_diseno_exclusivo='no' altura_mayor_190='no' peso_mayor_100='no' transporta_carga_voluminosa=None necesita_espacio_objetos_especiales=None arrastra_remolque=None tiene_garage=None problemas_aparcar_calle=None espacio_sobra_garage=None problema_dimension_garage=None tiene_punto_carga_propio=None aventura=None estilo_conduccion=None solo_electricos=None prioriza_baja_depreciacion=None transmision_preferida=None rating_fiabilidad_durabilidad=None rating_seguridad=None rating_comodidad=None rating_impacto_ambiental=None rating_tecnologia_conectividad=None rating_costes_uso=None\n",
      "Input prefs type: <class 'graph.perfil.state.PerfilUsuario'>\n",
      "DEBUG (Validation Perfil) ► Campo 'transporta_carga_voluminosa' está vacío/None.\n",
      "DEBUG Router: Prefs OK? False\n",
      "--- DEBUG CHECK PASAJEROS ---\n",
      "Input info pasajeros: None\n",
      "DEBUG (Validation Pasajeros) ► Objeto InfoPasajeros es None.\n",
      "DEBUG Router: Pasajeros OK? False\n",
      "DEBUG (Validation Filtros) ► Objeto FiltrosInferidos es None.\n",
      "DEBUG Router: Filtros OK? False\n",
      "--- DEBUG CHECK ECONOMIA (Manual) ---\n",
      "Input econ object: None\n",
      "DEBUG (Validation Economía Manual) ► Objeto EconomiaUsuario es None.\n",
      "DEBUG Router: Economía OK? False\n",
      "DEBUG Router: Pesos Calculados? False\n",
      "DEBUG Router: Coches Buscados? False\n",
      "--- DEBUG CHECK PERFIL ---\n",
      "Input prefs object: apasionado_motor='no' valora_estetica='no' coche_principal_hogar='no' uso_profesional='no' tipo_uso_profesional=None prefiere_diseno_exclusivo='no' altura_mayor_190='no' peso_mayor_100='no' transporta_carga_voluminosa=None necesita_espacio_objetos_especiales=None arrastra_remolque=None tiene_garage=None problemas_aparcar_calle=None espacio_sobra_garage=None problema_dimension_garage=None tiene_punto_carga_propio=None aventura=None estilo_conduccion=None solo_electricos=None prioriza_baja_depreciacion=None transmision_preferida=None rating_fiabilidad_durabilidad=None rating_seguridad=None rating_comodidad=None rating_impacto_ambiental=None rating_tecnologia_conectividad=None rating_costes_uso=None\n",
      "Input prefs type: <class 'graph.perfil.state.PerfilUsuario'>\n",
      "DEBUG (Validation Perfil) ► Campo 'transporta_carga_voluminosa' está vacío/None.\n",
      "DEBUG Router: Decisión -> recopilar_preferencias\n",
      "--- Ejecutando Nodo: recopilar_preferencias_node ---\n",
      "DEBUG (Perfil) ► Último mensaje es HumanMessage o historial vacío, llamando a llm_solo_perfil...\n"
     ]
    },
    {
     "name": "stderr",
     "output_type": "stream",
     "text": [
      "INFO:httpx:HTTP Request: POST https://api.openai.com/v1/chat/completions \"HTTP/1.1 200 OK\"\n"
     ]
    },
    {
     "name": "stdout",
     "output_type": "stream",
     "text": [
      "DEBUG (Perfil) ► Respuesta llm_solo_perfil: preferencias_usuario=PerfilUsuario(apasionado_motor='no', valora_estetica='no', coche_principal_hogar='no', uso_profesional='no', tipo_uso_profesional=None, prefiere_diseno_exclusivo='no', altura_mayor_190='no', peso_mayor_100='no', transporta_carga_voluminosa='no', necesita_espacio_objetos_especiales=None, arrastra_remolque=None, tiene_garage=None, problemas_aparcar_calle=None, espacio_sobra_garage=None, problema_dimension_garage=None, tiene_punto_carga_propio=None, aventura=None, estilo_conduccion=None, solo_electricos=None, prioriza_baja_depreciacion=None, transmision_preferida=None, rating_fiabilidad_durabilidad=None, rating_seguridad=None, rating_comodidad=None, rating_impacto_ambiental=None, rating_tecnologia_conectividad=None, rating_costes_uso=None) tipo_mensaje='CONFIRMACION' contenido_mensaje=''\n",
      "DEBUG (Perfil) ► Preferencias TRAS post-procesamiento: apasionado_motor='no' valora_estetica='no' coche_principal_hogar='no' uso_profesional='no' tipo_uso_profesional=None prefiere_diseno_exclusivo='no' altura_mayor_190='no' peso_mayor_100='no' transporta_carga_voluminosa='no' necesita_espacio_objetos_especiales=None arrastra_remolque=None tiene_garage=None problemas_aparcar_calle=None espacio_sobra_garage=None problema_dimension_garage=None tiene_punto_carga_propio=None aventura=None estilo_conduccion=None solo_electricos=None prioriza_baja_depreciacion=None transmision_preferida=None rating_fiabilidad_durabilidad=None rating_seguridad=None rating_comodidad=None rating_impacto_ambiental=None rating_tecnologia_conectividad=None rating_costes_uso=None\n",
      "DEBUG (Perfil) ► Estado preferencias_usuario actualizado: apasionado_motor='no' valora_estetica='no' coche_principal_hogar='no' uso_profesional='no' tipo_uso_profesional=None prefiere_diseno_exclusivo='no' altura_mayor_190='no' peso_mayor_100='no' transporta_carga_voluminosa='no' necesita_espacio_objetos_especiales=None arrastra_remolque=None tiene_garage=None problemas_aparcar_calle=None espacio_sobra_garage=None problema_dimension_garage=None tiene_punto_carga_propio=None aventura=None estilo_conduccion=None solo_electricos=None prioriza_baja_depreciacion=None transmision_preferida=None rating_fiabilidad_durabilidad=None rating_seguridad=None rating_comodidad=None rating_impacto_ambiental=None rating_tecnologia_conectividad=None rating_costes_uso=None\n",
      "DEBUG (Perfil) ► No hay mensaje pendiente.\n",
      "--- Ejecutando Nodo: validar_preferencias_node ---\n",
      "--- DEBUG CHECK PERFIL ---\n",
      "Input prefs object: apasionado_motor='no' valora_estetica='no' coche_principal_hogar='no' uso_profesional='no' tipo_uso_profesional=None prefiere_diseno_exclusivo='no' altura_mayor_190='no' peso_mayor_100='no' transporta_carga_voluminosa='no' necesita_espacio_objetos_especiales=None arrastra_remolque=None tiene_garage=None problemas_aparcar_calle=None espacio_sobra_garage=None problema_dimension_garage=None tiene_punto_carga_propio=None aventura=None estilo_conduccion=None solo_electricos=None prioriza_baja_depreciacion=None transmision_preferida=None rating_fiabilidad_durabilidad=None rating_seguridad=None rating_comodidad=None rating_impacto_ambiental=None rating_tecnologia_conectividad=None rating_costes_uso=None\n",
      "Input prefs type: <class 'graph.perfil.state.PerfilUsuario'>\n",
      "DEBUG (Validation Perfil) ► Campo 'arrastra_remolque' está vacío/None.\n",
      "DEBUG (Perfil) ► Validación: PerfilUsuario considerado INCOMPLETO.\n",
      "--- Evaluando Condición: ruta_decision_perfil ---\n",
      "DEBUG (Condición Perfil) ► Estado 'preferencias_usuario' recibido: apasionado_motor='no' valora_estetica='no' coche_principal_hogar='no' uso_profesional='no' tipo_uso_profesional=None prefiere_diseno_exclusivo='no' altura_mayor_190='no' peso_mayor_100='no' transporta_carga_voluminosa='no' necesita_espacio_objetos_especiales=None arrastra_remolque=None tiene_garage=None problemas_aparcar_calle=None espacio_sobra_garage=None problema_dimension_garage=None tiene_punto_carga_propio=None aventura=None estilo_conduccion=None solo_electricos=None prioriza_baja_depreciacion=None transmision_preferida=None rating_fiabilidad_durabilidad=None rating_seguridad=None rating_comodidad=None rating_impacto_ambiental=None rating_tecnologia_conectividad=None rating_costes_uso=None\n",
      "DEBUG (Condición Perfil) ► Tipo de 'preferencias_usuario': <class 'graph.perfil.state.PerfilUsuario'>\n",
      "--- DEBUG CHECK PERFIL ---\n",
      "Input prefs object: apasionado_motor='no' valora_estetica='no' coche_principal_hogar='no' uso_profesional='no' tipo_uso_profesional=None prefiere_diseno_exclusivo='no' altura_mayor_190='no' peso_mayor_100='no' transporta_carga_voluminosa='no' necesita_espacio_objetos_especiales=None arrastra_remolque=None tiene_garage=None problemas_aparcar_calle=None espacio_sobra_garage=None problema_dimension_garage=None tiene_punto_carga_propio=None aventura=None estilo_conduccion=None solo_electricos=None prioriza_baja_depreciacion=None transmision_preferida=None rating_fiabilidad_durabilidad=None rating_seguridad=None rating_comodidad=None rating_impacto_ambiental=None rating_tecnologia_conectividad=None rating_costes_uso=None\n",
      "Input prefs type: <class 'graph.perfil.state.PerfilUsuario'>\n",
      "DEBUG (Validation Perfil) ► Campo 'arrastra_remolque' está vacío/None.\n",
      "DEBUG (Condición Perfil) ► Perfil INCOMPLETO. Se necesita pregunta.\n",
      "--- Ejecutando Nodo: preguntar_preferencias_node ---\n",
      "--- DEBUG CHECK PERFIL ---\n",
      "Input prefs object: apasionado_motor='no' valora_estetica='no' coche_principal_hogar='no' uso_profesional='no' tipo_uso_profesional=None prefiere_diseno_exclusivo='no' altura_mayor_190='no' peso_mayor_100='no' transporta_carga_voluminosa='no' necesita_espacio_objetos_especiales=None arrastra_remolque=None tiene_garage=None problemas_aparcar_calle=None espacio_sobra_garage=None problema_dimension_garage=None tiene_punto_carga_propio=None aventura=None estilo_conduccion=None solo_electricos=None prioriza_baja_depreciacion=None transmision_preferida=None rating_fiabilidad_durabilidad=None rating_seguridad=None rating_comodidad=None rating_impacto_ambiental=None rating_tecnologia_conectividad=None rating_costes_uso=None\n",
      "Input prefs type: <class 'graph.perfil.state.PerfilUsuario'>\n",
      "DEBUG (Validation Perfil) ► Campo 'arrastra_remolque' está vacío/None.\n",
      "DEBUG (Preguntar Perfil) ► Perfil aún INCOMPLETO según checker.\n",
      "DEBUG (Preguntar Perfil) ► Pregunta fallback generada: ¿Vas a arrastrar remolque pesado o caravana?\n",
      "WARN (Preguntar Perfil) ► Nodo ejecutado para preguntar, pero no había mensaje pendiente válido. Generando pregunta fallback.\n",
      "DEBUG (Preguntar Perfil) ► Mensaje final añadido: ¿Vas a arrastrar remolque pesado o caravana?\n",
      "==================================\u001b[1m Ai Message \u001b[0m==================================\n",
      "\n",
      "¿Vas a arrastrar remolque pesado o caravana?\n"
     ]
    }
   ],
   "source": [
    "# Create a thread\n",
    "config = {\"configurable\": {\"thread_id\": \"1\"}}\n",
    "\n",
    "# Start conversation\n",
    "input_message = HumanMessage(content=\"no\")\n",
    "output = graph.invoke({\"messages\": [input_message]}, config) \n",
    "for m in output['messages'][-1:]:\n",
    "    m.pretty_print()"
   ]
  },
  {
   "cell_type": "code",
   "execution_count": 10,
   "metadata": {},
   "outputs": [
    {
     "name": "stdout",
     "output_type": "stream",
     "text": [
      "--- Ejecutando Nodo: route_based_on_state_node ---\n",
      "\n",
      "--- DEBUG: Evaluating Routing Decision ---\n",
      "DEBUG Router: CP OK? True\n",
      "--- DEBUG CHECK PERFIL ---\n",
      "Input prefs object: apasionado_motor='no' valora_estetica='no' coche_principal_hogar='no' uso_profesional='no' tipo_uso_profesional=None prefiere_diseno_exclusivo='no' altura_mayor_190='no' peso_mayor_100='no' transporta_carga_voluminosa='no' necesita_espacio_objetos_especiales=None arrastra_remolque=None tiene_garage=None problemas_aparcar_calle=None espacio_sobra_garage=None problema_dimension_garage=None tiene_punto_carga_propio=None aventura=None estilo_conduccion=None solo_electricos=None prioriza_baja_depreciacion=None transmision_preferida=None rating_fiabilidad_durabilidad=None rating_seguridad=None rating_comodidad=None rating_impacto_ambiental=None rating_tecnologia_conectividad=None rating_costes_uso=None\n",
      "Input prefs type: <class 'graph.perfil.state.PerfilUsuario'>\n",
      "DEBUG (Validation Perfil) ► Campo 'arrastra_remolque' está vacío/None.\n",
      "DEBUG Router: Prefs OK? False\n",
      "--- DEBUG CHECK PASAJEROS ---\n",
      "Input info pasajeros: None\n",
      "DEBUG (Validation Pasajeros) ► Objeto InfoPasajeros es None.\n",
      "DEBUG Router: Pasajeros OK? False\n",
      "DEBUG (Validation Filtros) ► Objeto FiltrosInferidos es None.\n",
      "DEBUG Router: Filtros OK? False\n",
      "--- DEBUG CHECK ECONOMIA (Manual) ---\n",
      "Input econ object: None\n",
      "DEBUG (Validation Economía Manual) ► Objeto EconomiaUsuario es None.\n",
      "DEBUG Router: Economía OK? False\n",
      "DEBUG Router: Pesos Calculados? False\n",
      "DEBUG Router: Coches Buscados? False\n",
      "--- DEBUG CHECK PERFIL ---\n",
      "Input prefs object: apasionado_motor='no' valora_estetica='no' coche_principal_hogar='no' uso_profesional='no' tipo_uso_profesional=None prefiere_diseno_exclusivo='no' altura_mayor_190='no' peso_mayor_100='no' transporta_carga_voluminosa='no' necesita_espacio_objetos_especiales=None arrastra_remolque=None tiene_garage=None problemas_aparcar_calle=None espacio_sobra_garage=None problema_dimension_garage=None tiene_punto_carga_propio=None aventura=None estilo_conduccion=None solo_electricos=None prioriza_baja_depreciacion=None transmision_preferida=None rating_fiabilidad_durabilidad=None rating_seguridad=None rating_comodidad=None rating_impacto_ambiental=None rating_tecnologia_conectividad=None rating_costes_uso=None\n",
      "Input prefs type: <class 'graph.perfil.state.PerfilUsuario'>\n",
      "DEBUG (Validation Perfil) ► Campo 'arrastra_remolque' está vacío/None.\n",
      "DEBUG Router: Decisión -> recopilar_preferencias\n",
      "--- Ejecutando Nodo: recopilar_preferencias_node ---\n",
      "DEBUG (Perfil) ► Último mensaje es HumanMessage o historial vacío, llamando a llm_solo_perfil...\n"
     ]
    },
    {
     "name": "stderr",
     "output_type": "stream",
     "text": [
      "INFO:httpx:HTTP Request: POST https://api.openai.com/v1/chat/completions \"HTTP/1.1 200 OK\"\n"
     ]
    },
    {
     "name": "stdout",
     "output_type": "stream",
     "text": [
      "DEBUG (Perfil) ► Respuesta llm_solo_perfil: preferencias_usuario=PerfilUsuario(apasionado_motor='no', valora_estetica='no', coche_principal_hogar='no', uso_profesional='no', tipo_uso_profesional=None, prefiere_diseno_exclusivo='no', altura_mayor_190='no', peso_mayor_100='no', transporta_carga_voluminosa='no', necesita_espacio_objetos_especiales=None, arrastra_remolque='no', tiene_garage=None, problemas_aparcar_calle=None, espacio_sobra_garage=None, problema_dimension_garage=None, tiene_punto_carga_propio=None, aventura=None, estilo_conduccion=None, solo_electricos=None, prioriza_baja_depreciacion=None, transmision_preferida=None, rating_fiabilidad_durabilidad=None, rating_seguridad=None, rating_comodidad=None, rating_impacto_ambiental=None, rating_tecnologia_conectividad=None, rating_costes_uso=None) tipo_mensaje='PREGUNTA' contenido_mensaje='Hablemos un poco de dónde aparcarás. ¿Tienes garaje o plaza de aparcamiento propia?'\n",
      "DEBUG (Perfil) ► Preferencias TRAS post-procesamiento: apasionado_motor='no' valora_estetica='no' coche_principal_hogar='no' uso_profesional='no' tipo_uso_profesional=None prefiere_diseno_exclusivo='no' altura_mayor_190='no' peso_mayor_100='no' transporta_carga_voluminosa='no' necesita_espacio_objetos_especiales=None arrastra_remolque='no' tiene_garage=None problemas_aparcar_calle=None espacio_sobra_garage=None problema_dimension_garage=None tiene_punto_carga_propio=None aventura=None estilo_conduccion=None solo_electricos=None prioriza_baja_depreciacion=None transmision_preferida=None rating_fiabilidad_durabilidad=None rating_seguridad=None rating_comodidad=None rating_impacto_ambiental=None rating_tecnologia_conectividad=None rating_costes_uso=None\n",
      "DEBUG (Perfil) ► Estado preferencias_usuario actualizado: apasionado_motor='no' valora_estetica='no' coche_principal_hogar='no' uso_profesional='no' tipo_uso_profesional=None prefiere_diseno_exclusivo='no' altura_mayor_190='no' peso_mayor_100='no' transporta_carga_voluminosa='no' necesita_espacio_objetos_especiales=None arrastra_remolque='no' tiene_garage=None problemas_aparcar_calle=None espacio_sobra_garage=None problema_dimension_garage=None tiene_punto_carga_propio=None aventura=None estilo_conduccion=None solo_electricos=None prioriza_baja_depreciacion=None transmision_preferida=None rating_fiabilidad_durabilidad=None rating_seguridad=None rating_comodidad=None rating_impacto_ambiental=None rating_tecnologia_conectividad=None rating_costes_uso=None\n",
      "DEBUG (Perfil) ► Guardando mensaje pendiente: Hablemos un poco de dónde aparcarás. ¿Tienes garaje o plaza de aparcamiento propia?\n",
      "--- Ejecutando Nodo: validar_preferencias_node ---\n",
      "--- DEBUG CHECK PERFIL ---\n",
      "Input prefs object: apasionado_motor='no' valora_estetica='no' coche_principal_hogar='no' uso_profesional='no' tipo_uso_profesional=None prefiere_diseno_exclusivo='no' altura_mayor_190='no' peso_mayor_100='no' transporta_carga_voluminosa='no' necesita_espacio_objetos_especiales=None arrastra_remolque='no' tiene_garage=None problemas_aparcar_calle=None espacio_sobra_garage=None problema_dimension_garage=None tiene_punto_carga_propio=None aventura=None estilo_conduccion=None solo_electricos=None prioriza_baja_depreciacion=None transmision_preferida=None rating_fiabilidad_durabilidad=None rating_seguridad=None rating_comodidad=None rating_impacto_ambiental=None rating_tecnologia_conectividad=None rating_costes_uso=None\n",
      "Input prefs type: <class 'graph.perfil.state.PerfilUsuario'>\n",
      "DEBUG (Validation Perfil) ► Campo 'aventura' está vacío/None.\n",
      "DEBUG (Perfil) ► Validación: PerfilUsuario considerado INCOMPLETO.\n",
      "--- Evaluando Condición: ruta_decision_perfil ---\n",
      "DEBUG (Condición Perfil) ► Estado 'preferencias_usuario' recibido: apasionado_motor='no' valora_estetica='no' coche_principal_hogar='no' uso_profesional='no' tipo_uso_profesional=None prefiere_diseno_exclusivo='no' altura_mayor_190='no' peso_mayor_100='no' transporta_carga_voluminosa='no' necesita_espacio_objetos_especiales=None arrastra_remolque='no' tiene_garage=None problemas_aparcar_calle=None espacio_sobra_garage=None problema_dimension_garage=None tiene_punto_carga_propio=None aventura=None estilo_conduccion=None solo_electricos=None prioriza_baja_depreciacion=None transmision_preferida=None rating_fiabilidad_durabilidad=None rating_seguridad=None rating_comodidad=None rating_impacto_ambiental=None rating_tecnologia_conectividad=None rating_costes_uso=None\n",
      "DEBUG (Condición Perfil) ► Tipo de 'preferencias_usuario': <class 'graph.perfil.state.PerfilUsuario'>\n",
      "--- DEBUG CHECK PERFIL ---\n",
      "Input prefs object: apasionado_motor='no' valora_estetica='no' coche_principal_hogar='no' uso_profesional='no' tipo_uso_profesional=None prefiere_diseno_exclusivo='no' altura_mayor_190='no' peso_mayor_100='no' transporta_carga_voluminosa='no' necesita_espacio_objetos_especiales=None arrastra_remolque='no' tiene_garage=None problemas_aparcar_calle=None espacio_sobra_garage=None problema_dimension_garage=None tiene_punto_carga_propio=None aventura=None estilo_conduccion=None solo_electricos=None prioriza_baja_depreciacion=None transmision_preferida=None rating_fiabilidad_durabilidad=None rating_seguridad=None rating_comodidad=None rating_impacto_ambiental=None rating_tecnologia_conectividad=None rating_costes_uso=None\n",
      "Input prefs type: <class 'graph.perfil.state.PerfilUsuario'>\n",
      "DEBUG (Validation Perfil) ► Campo 'aventura' está vacío/None.\n",
      "DEBUG (Condición Perfil) ► Perfil INCOMPLETO. Se necesita pregunta.\n",
      "--- Ejecutando Nodo: preguntar_preferencias_node ---\n",
      "--- DEBUG CHECK PERFIL ---\n",
      "Input prefs object: apasionado_motor='no' valora_estetica='no' coche_principal_hogar='no' uso_profesional='no' tipo_uso_profesional=None prefiere_diseno_exclusivo='no' altura_mayor_190='no' peso_mayor_100='no' transporta_carga_voluminosa='no' necesita_espacio_objetos_especiales=None arrastra_remolque='no' tiene_garage=None problemas_aparcar_calle=None espacio_sobra_garage=None problema_dimension_garage=None tiene_punto_carga_propio=None aventura=None estilo_conduccion=None solo_electricos=None prioriza_baja_depreciacion=None transmision_preferida=None rating_fiabilidad_durabilidad=None rating_seguridad=None rating_comodidad=None rating_impacto_ambiental=None rating_tecnologia_conectividad=None rating_costes_uso=None\n",
      "Input prefs type: <class 'graph.perfil.state.PerfilUsuario'>\n",
      "DEBUG (Validation Perfil) ► Campo 'aventura' está vacío/None.\n",
      "DEBUG (Preguntar Perfil) ► Perfil aún INCOMPLETO según checker.\n",
      "DEBUG (Preguntar Perfil) ► Pregunta fallback generada: Hablemos un poco de dónde aparcarás. ¿Tienes garaje o plaza de aparcamiento propia?\n",
      "DEBUG (Preguntar Perfil) ► Usando mensaje pendiente (pregunta LLM): Hablemos un poco de dónde aparcarás. ¿Tienes garaje o plaza de aparcamiento propia?\n",
      "DEBUG (Preguntar Perfil) ► Mensaje final añadido: Hablemos un poco de dónde aparcarás. ¿Tienes garaje o plaza de aparcamiento propia?\n",
      "==================================\u001b[1m Ai Message \u001b[0m==================================\n",
      "\n",
      "Hablemos un poco de dónde aparcarás. ¿Tienes garaje o plaza de aparcamiento propia?\n"
     ]
    }
   ],
   "source": [
    "# Create a thread\n",
    "config = {\"configurable\": {\"thread_id\": \"1\"}}\n",
    "\n",
    "# Start conversation\n",
    "input_message = HumanMessage(content=\"no \")\n",
    "output = graph.invoke({\"messages\": [input_message]}, config) \n",
    "for m in output['messages'][-1:]:\n",
    "    m.pretty_print()"
   ]
  },
  {
   "cell_type": "code",
   "execution_count": 11,
   "metadata": {},
   "outputs": [
    {
     "name": "stdout",
     "output_type": "stream",
     "text": [
      "--- Ejecutando Nodo: route_based_on_state_node ---\n",
      "\n",
      "--- DEBUG: Evaluating Routing Decision ---\n",
      "DEBUG Router: CP OK? True\n",
      "--- DEBUG CHECK PERFIL ---\n",
      "Input prefs object: apasionado_motor='no' valora_estetica='no' coche_principal_hogar='no' uso_profesional='no' tipo_uso_profesional=None prefiere_diseno_exclusivo='no' altura_mayor_190='no' peso_mayor_100='no' transporta_carga_voluminosa='no' necesita_espacio_objetos_especiales=None arrastra_remolque='no' tiene_garage=None problemas_aparcar_calle=None espacio_sobra_garage=None problema_dimension_garage=None tiene_punto_carga_propio=None aventura=None estilo_conduccion=None solo_electricos=None prioriza_baja_depreciacion=None transmision_preferida=None rating_fiabilidad_durabilidad=None rating_seguridad=None rating_comodidad=None rating_impacto_ambiental=None rating_tecnologia_conectividad=None rating_costes_uso=None\n",
      "Input prefs type: <class 'graph.perfil.state.PerfilUsuario'>\n",
      "DEBUG (Validation Perfil) ► Campo 'aventura' está vacío/None.\n",
      "DEBUG Router: Prefs OK? False\n",
      "--- DEBUG CHECK PASAJEROS ---\n",
      "Input info pasajeros: None\n",
      "DEBUG (Validation Pasajeros) ► Objeto InfoPasajeros es None.\n",
      "DEBUG Router: Pasajeros OK? False\n",
      "DEBUG (Validation Filtros) ► Objeto FiltrosInferidos es None.\n",
      "DEBUG Router: Filtros OK? False\n",
      "--- DEBUG CHECK ECONOMIA (Manual) ---\n",
      "Input econ object: None\n",
      "DEBUG (Validation Economía Manual) ► Objeto EconomiaUsuario es None.\n",
      "DEBUG Router: Economía OK? False\n",
      "DEBUG Router: Pesos Calculados? False\n",
      "DEBUG Router: Coches Buscados? False\n",
      "--- DEBUG CHECK PERFIL ---\n",
      "Input prefs object: apasionado_motor='no' valora_estetica='no' coche_principal_hogar='no' uso_profesional='no' tipo_uso_profesional=None prefiere_diseno_exclusivo='no' altura_mayor_190='no' peso_mayor_100='no' transporta_carga_voluminosa='no' necesita_espacio_objetos_especiales=None arrastra_remolque='no' tiene_garage=None problemas_aparcar_calle=None espacio_sobra_garage=None problema_dimension_garage=None tiene_punto_carga_propio=None aventura=None estilo_conduccion=None solo_electricos=None prioriza_baja_depreciacion=None transmision_preferida=None rating_fiabilidad_durabilidad=None rating_seguridad=None rating_comodidad=None rating_impacto_ambiental=None rating_tecnologia_conectividad=None rating_costes_uso=None\n",
      "Input prefs type: <class 'graph.perfil.state.PerfilUsuario'>\n",
      "DEBUG (Validation Perfil) ► Campo 'aventura' está vacío/None.\n",
      "DEBUG Router: Decisión -> recopilar_preferencias\n",
      "--- Ejecutando Nodo: recopilar_preferencias_node ---\n",
      "DEBUG (Perfil) ► Último mensaje es HumanMessage o historial vacío, llamando a llm_solo_perfil...\n"
     ]
    },
    {
     "name": "stderr",
     "output_type": "stream",
     "text": [
      "INFO:httpx:HTTP Request: POST https://api.openai.com/v1/chat/completions \"HTTP/1.1 200 OK\"\n"
     ]
    },
    {
     "name": "stdout",
     "output_type": "stream",
     "text": [
      "DEBUG (Perfil) ► Respuesta llm_solo_perfil: preferencias_usuario=PerfilUsuario(apasionado_motor='no', valora_estetica='no', coche_principal_hogar='no', uso_profesional='no', tipo_uso_profesional=None, prefiere_diseno_exclusivo='no', altura_mayor_190='no', peso_mayor_100='no', transporta_carga_voluminosa='no', necesita_espacio_objetos_especiales=None, arrastra_remolque='no', tiene_garage='si', problemas_aparcar_calle=None, espacio_sobra_garage=None, problema_dimension_garage=None, tiene_punto_carga_propio=None, aventura=None, estilo_conduccion=None, solo_electricos=None, prioriza_baja_depreciacion=None, transmision_preferida=None, rating_fiabilidad_durabilidad=None, rating_seguridad=None, rating_comodidad=None, rating_impacto_ambiental=None, rating_tecnologia_conectividad=None, rating_costes_uso=None) tipo_mensaje='PREGUNTA' contenido_mensaje='¡Genial lo del garaje/plaza! Y dime, ¿el espacio que tienes es amplio y te permite aparcar un coche de cualquier tamaño con comodidad?'\n",
      "DEBUG (Perfil) ► Preferencias TRAS post-procesamiento: apasionado_motor='no' valora_estetica='no' coche_principal_hogar='no' uso_profesional='no' tipo_uso_profesional=None prefiere_diseno_exclusivo='no' altura_mayor_190='no' peso_mayor_100='no' transporta_carga_voluminosa='no' necesita_espacio_objetos_especiales=None arrastra_remolque='no' tiene_garage='si' problemas_aparcar_calle=None espacio_sobra_garage=None problema_dimension_garage=None tiene_punto_carga_propio=None aventura=None estilo_conduccion=None solo_electricos=None prioriza_baja_depreciacion=None transmision_preferida=None rating_fiabilidad_durabilidad=None rating_seguridad=None rating_comodidad=None rating_impacto_ambiental=None rating_tecnologia_conectividad=None rating_costes_uso=None\n",
      "DEBUG (Perfil) ► Estado preferencias_usuario actualizado: apasionado_motor='no' valora_estetica='no' coche_principal_hogar='no' uso_profesional='no' tipo_uso_profesional=None prefiere_diseno_exclusivo='no' altura_mayor_190='no' peso_mayor_100='no' transporta_carga_voluminosa='no' necesita_espacio_objetos_especiales=None arrastra_remolque='no' tiene_garage='si' problemas_aparcar_calle=None espacio_sobra_garage=None problema_dimension_garage=None tiene_punto_carga_propio=None aventura=None estilo_conduccion=None solo_electricos=None prioriza_baja_depreciacion=None transmision_preferida=None rating_fiabilidad_durabilidad=None rating_seguridad=None rating_comodidad=None rating_impacto_ambiental=None rating_tecnologia_conectividad=None rating_costes_uso=None\n",
      "DEBUG (Perfil) ► Guardando mensaje pendiente: ¡Genial lo del garaje/plaza! Y dime, ¿el espacio que tienes es amplio y te permite aparcar un coche de cualquier tamaño con comodidad?\n",
      "--- Ejecutando Nodo: validar_preferencias_node ---\n",
      "--- DEBUG CHECK PERFIL ---\n",
      "Input prefs object: apasionado_motor='no' valora_estetica='no' coche_principal_hogar='no' uso_profesional='no' tipo_uso_profesional=None prefiere_diseno_exclusivo='no' altura_mayor_190='no' peso_mayor_100='no' transporta_carga_voluminosa='no' necesita_espacio_objetos_especiales=None arrastra_remolque='no' tiene_garage='si' problemas_aparcar_calle=None espacio_sobra_garage=None problema_dimension_garage=None tiene_punto_carga_propio=None aventura=None estilo_conduccion=None solo_electricos=None prioriza_baja_depreciacion=None transmision_preferida=None rating_fiabilidad_durabilidad=None rating_seguridad=None rating_comodidad=None rating_impacto_ambiental=None rating_tecnologia_conectividad=None rating_costes_uso=None\n",
      "Input prefs type: <class 'graph.perfil.state.PerfilUsuario'>\n",
      "DEBUG (Validation Perfil) ► Campo 'aventura' está vacío/None.\n",
      "DEBUG (Perfil) ► Validación: PerfilUsuario considerado INCOMPLETO.\n",
      "--- Evaluando Condición: ruta_decision_perfil ---\n",
      "DEBUG (Condición Perfil) ► Estado 'preferencias_usuario' recibido: apasionado_motor='no' valora_estetica='no' coche_principal_hogar='no' uso_profesional='no' tipo_uso_profesional=None prefiere_diseno_exclusivo='no' altura_mayor_190='no' peso_mayor_100='no' transporta_carga_voluminosa='no' necesita_espacio_objetos_especiales=None arrastra_remolque='no' tiene_garage='si' problemas_aparcar_calle=None espacio_sobra_garage=None problema_dimension_garage=None tiene_punto_carga_propio=None aventura=None estilo_conduccion=None solo_electricos=None prioriza_baja_depreciacion=None transmision_preferida=None rating_fiabilidad_durabilidad=None rating_seguridad=None rating_comodidad=None rating_impacto_ambiental=None rating_tecnologia_conectividad=None rating_costes_uso=None\n",
      "DEBUG (Condición Perfil) ► Tipo de 'preferencias_usuario': <class 'graph.perfil.state.PerfilUsuario'>\n",
      "--- DEBUG CHECK PERFIL ---\n",
      "Input prefs object: apasionado_motor='no' valora_estetica='no' coche_principal_hogar='no' uso_profesional='no' tipo_uso_profesional=None prefiere_diseno_exclusivo='no' altura_mayor_190='no' peso_mayor_100='no' transporta_carga_voluminosa='no' necesita_espacio_objetos_especiales=None arrastra_remolque='no' tiene_garage='si' problemas_aparcar_calle=None espacio_sobra_garage=None problema_dimension_garage=None tiene_punto_carga_propio=None aventura=None estilo_conduccion=None solo_electricos=None prioriza_baja_depreciacion=None transmision_preferida=None rating_fiabilidad_durabilidad=None rating_seguridad=None rating_comodidad=None rating_impacto_ambiental=None rating_tecnologia_conectividad=None rating_costes_uso=None\n",
      "Input prefs type: <class 'graph.perfil.state.PerfilUsuario'>\n",
      "DEBUG (Validation Perfil) ► Campo 'aventura' está vacío/None.\n",
      "DEBUG (Condición Perfil) ► Perfil INCOMPLETO. Se necesita pregunta.\n",
      "--- Ejecutando Nodo: preguntar_preferencias_node ---\n",
      "--- DEBUG CHECK PERFIL ---\n",
      "Input prefs object: apasionado_motor='no' valora_estetica='no' coche_principal_hogar='no' uso_profesional='no' tipo_uso_profesional=None prefiere_diseno_exclusivo='no' altura_mayor_190='no' peso_mayor_100='no' transporta_carga_voluminosa='no' necesita_espacio_objetos_especiales=None arrastra_remolque='no' tiene_garage='si' problemas_aparcar_calle=None espacio_sobra_garage=None problema_dimension_garage=None tiene_punto_carga_propio=None aventura=None estilo_conduccion=None solo_electricos=None prioriza_baja_depreciacion=None transmision_preferida=None rating_fiabilidad_durabilidad=None rating_seguridad=None rating_comodidad=None rating_impacto_ambiental=None rating_tecnologia_conectividad=None rating_costes_uso=None\n",
      "Input prefs type: <class 'graph.perfil.state.PerfilUsuario'>\n",
      "DEBUG (Validation Perfil) ► Campo 'aventura' está vacío/None.\n",
      "DEBUG (Preguntar Perfil) ► Perfil aún INCOMPLETO según checker.\n",
      "DEBUG (Preguntar Perfil) ► Pregunta fallback generada: ¡Genial lo del garaje/plaza! Y dime, ¿el espacio que tienes es amplio y te permite aparcar un coche de cualquier tamaño con comodidad?\n",
      "DEBUG (Preguntar Perfil) ► Usando mensaje pendiente (pregunta LLM): ¡Genial lo del garaje/plaza! Y dime, ¿el espacio que tienes es amplio y te permite aparcar un coche de cualquier tamaño con comodidad?\n",
      "DEBUG (Preguntar Perfil) ► Mensaje final añadido: ¡Genial lo del garaje/plaza! Y dime, ¿el espacio que tienes es amplio y te permite aparcar un coche de cualquier tamaño con comodidad?\n",
      "==================================\u001b[1m Ai Message \u001b[0m==================================\n",
      "\n",
      "¡Genial lo del garaje/plaza! Y dime, ¿el espacio que tienes es amplio y te permite aparcar un coche de cualquier tamaño con comodidad?\n"
     ]
    }
   ],
   "source": [
    "# Create a thread\n",
    "config = {\"configurable\": {\"thread_id\": \"1\"}}\n",
    "\n",
    "# Start conversation\n",
    "input_message = HumanMessage(content=\"si\")\n",
    "output = graph.invoke({\"messages\": [input_message]}, config) \n",
    "for m in output['messages'][-1:]:\n",
    "    m.pretty_print()"
   ]
  },
  {
   "cell_type": "code",
   "execution_count": 12,
   "metadata": {},
   "outputs": [
    {
     "name": "stdout",
     "output_type": "stream",
     "text": [
      "--- Ejecutando Nodo: route_based_on_state_node ---\n",
      "\n",
      "--- DEBUG: Evaluating Routing Decision ---\n",
      "DEBUG Router: CP OK? True\n",
      "--- DEBUG CHECK PERFIL ---\n",
      "Input prefs object: apasionado_motor='no' valora_estetica='no' coche_principal_hogar='no' uso_profesional='no' tipo_uso_profesional=None prefiere_diseno_exclusivo='no' altura_mayor_190='no' peso_mayor_100='no' transporta_carga_voluminosa='no' necesita_espacio_objetos_especiales=None arrastra_remolque='no' tiene_garage='si' problemas_aparcar_calle=None espacio_sobra_garage=None problema_dimension_garage=None tiene_punto_carga_propio=None aventura=None estilo_conduccion=None solo_electricos=None prioriza_baja_depreciacion=None transmision_preferida=None rating_fiabilidad_durabilidad=None rating_seguridad=None rating_comodidad=None rating_impacto_ambiental=None rating_tecnologia_conectividad=None rating_costes_uso=None\n",
      "Input prefs type: <class 'graph.perfil.state.PerfilUsuario'>\n",
      "DEBUG (Validation Perfil) ► Campo 'aventura' está vacío/None.\n",
      "DEBUG Router: Prefs OK? False\n",
      "--- DEBUG CHECK PASAJEROS ---\n",
      "Input info pasajeros: None\n",
      "DEBUG (Validation Pasajeros) ► Objeto InfoPasajeros es None.\n",
      "DEBUG Router: Pasajeros OK? False\n",
      "DEBUG (Validation Filtros) ► Objeto FiltrosInferidos es None.\n",
      "DEBUG Router: Filtros OK? False\n",
      "--- DEBUG CHECK ECONOMIA (Manual) ---\n",
      "Input econ object: None\n",
      "DEBUG (Validation Economía Manual) ► Objeto EconomiaUsuario es None.\n",
      "DEBUG Router: Economía OK? False\n",
      "DEBUG Router: Pesos Calculados? False\n",
      "DEBUG Router: Coches Buscados? False\n",
      "--- DEBUG CHECK PERFIL ---\n",
      "Input prefs object: apasionado_motor='no' valora_estetica='no' coche_principal_hogar='no' uso_profesional='no' tipo_uso_profesional=None prefiere_diseno_exclusivo='no' altura_mayor_190='no' peso_mayor_100='no' transporta_carga_voluminosa='no' necesita_espacio_objetos_especiales=None arrastra_remolque='no' tiene_garage='si' problemas_aparcar_calle=None espacio_sobra_garage=None problema_dimension_garage=None tiene_punto_carga_propio=None aventura=None estilo_conduccion=None solo_electricos=None prioriza_baja_depreciacion=None transmision_preferida=None rating_fiabilidad_durabilidad=None rating_seguridad=None rating_comodidad=None rating_impacto_ambiental=None rating_tecnologia_conectividad=None rating_costes_uso=None\n",
      "Input prefs type: <class 'graph.perfil.state.PerfilUsuario'>\n",
      "DEBUG (Validation Perfil) ► Campo 'aventura' está vacío/None.\n",
      "DEBUG Router: Decisión -> recopilar_preferencias\n",
      "--- Ejecutando Nodo: recopilar_preferencias_node ---\n",
      "DEBUG (Perfil) ► Último mensaje es HumanMessage o historial vacío, llamando a llm_solo_perfil...\n"
     ]
    },
    {
     "name": "stderr",
     "output_type": "stream",
     "text": [
      "INFO:httpx:HTTP Request: POST https://api.openai.com/v1/chat/completions \"HTTP/1.1 200 OK\"\n"
     ]
    },
    {
     "name": "stdout",
     "output_type": "stream",
     "text": [
      "DEBUG (Perfil) ► Respuesta llm_solo_perfil: preferencias_usuario=PerfilUsuario(apasionado_motor='no', valora_estetica='no', coche_principal_hogar='no', uso_profesional='no', tipo_uso_profesional=None, prefiere_diseno_exclusivo='no', altura_mayor_190='no', peso_mayor_100='no', transporta_carga_voluminosa='no', necesita_espacio_objetos_especiales=None, arrastra_remolque='no', tiene_garage='si', problemas_aparcar_calle=None, espacio_sobra_garage='si', problema_dimension_garage=None, tiene_punto_carga_propio=None, aventura=None, estilo_conduccion=None, solo_electricos=None, prioriza_baja_depreciacion=None, transmision_preferida=None, rating_fiabilidad_durabilidad=None, rating_seguridad=None, rating_comodidad=None, rating_impacto_ambiental=None, rating_tecnologia_conectividad=None, rating_costes_uso=None) tipo_mensaje='CONFIRMACION' contenido_mensaje=''\n",
      "DEBUG (Perfil) ► Preferencias TRAS post-procesamiento: apasionado_motor='no' valora_estetica='no' coche_principal_hogar='no' uso_profesional='no' tipo_uso_profesional=None prefiere_diseno_exclusivo='no' altura_mayor_190='no' peso_mayor_100='no' transporta_carga_voluminosa='no' necesita_espacio_objetos_especiales=None arrastra_remolque='no' tiene_garage='si' problemas_aparcar_calle=None espacio_sobra_garage='si' problema_dimension_garage=None tiene_punto_carga_propio=None aventura=None estilo_conduccion=None solo_electricos=None prioriza_baja_depreciacion=None transmision_preferida=None rating_fiabilidad_durabilidad=None rating_seguridad=None rating_comodidad=None rating_impacto_ambiental=None rating_tecnologia_conectividad=None rating_costes_uso=None\n",
      "DEBUG (Perfil) ► Estado preferencias_usuario actualizado: apasionado_motor='no' valora_estetica='no' coche_principal_hogar='no' uso_profesional='no' tipo_uso_profesional=None prefiere_diseno_exclusivo='no' altura_mayor_190='no' peso_mayor_100='no' transporta_carga_voluminosa='no' necesita_espacio_objetos_especiales=None arrastra_remolque='no' tiene_garage='si' problemas_aparcar_calle=None espacio_sobra_garage='si' problema_dimension_garage=None tiene_punto_carga_propio=None aventura=None estilo_conduccion=None solo_electricos=None prioriza_baja_depreciacion=None transmision_preferida=None rating_fiabilidad_durabilidad=None rating_seguridad=None rating_comodidad=None rating_impacto_ambiental=None rating_tecnologia_conectividad=None rating_costes_uso=None\n",
      "DEBUG (Perfil) ► No hay mensaje pendiente.\n",
      "--- Ejecutando Nodo: validar_preferencias_node ---\n",
      "--- DEBUG CHECK PERFIL ---\n",
      "Input prefs object: apasionado_motor='no' valora_estetica='no' coche_principal_hogar='no' uso_profesional='no' tipo_uso_profesional=None prefiere_diseno_exclusivo='no' altura_mayor_190='no' peso_mayor_100='no' transporta_carga_voluminosa='no' necesita_espacio_objetos_especiales=None arrastra_remolque='no' tiene_garage='si' problemas_aparcar_calle=None espacio_sobra_garage='si' problema_dimension_garage=None tiene_punto_carga_propio=None aventura=None estilo_conduccion=None solo_electricos=None prioriza_baja_depreciacion=None transmision_preferida=None rating_fiabilidad_durabilidad=None rating_seguridad=None rating_comodidad=None rating_impacto_ambiental=None rating_tecnologia_conectividad=None rating_costes_uso=None\n",
      "Input prefs type: <class 'graph.perfil.state.PerfilUsuario'>\n",
      "DEBUG (Validation Perfil) ► Campo 'aventura' está vacío/None.\n",
      "DEBUG (Perfil) ► Validación: PerfilUsuario considerado INCOMPLETO.\n",
      "--- Evaluando Condición: ruta_decision_perfil ---\n",
      "DEBUG (Condición Perfil) ► Estado 'preferencias_usuario' recibido: apasionado_motor='no' valora_estetica='no' coche_principal_hogar='no' uso_profesional='no' tipo_uso_profesional=None prefiere_diseno_exclusivo='no' altura_mayor_190='no' peso_mayor_100='no' transporta_carga_voluminosa='no' necesita_espacio_objetos_especiales=None arrastra_remolque='no' tiene_garage='si' problemas_aparcar_calle=None espacio_sobra_garage='si' problema_dimension_garage=None tiene_punto_carga_propio=None aventura=None estilo_conduccion=None solo_electricos=None prioriza_baja_depreciacion=None transmision_preferida=None rating_fiabilidad_durabilidad=None rating_seguridad=None rating_comodidad=None rating_impacto_ambiental=None rating_tecnologia_conectividad=None rating_costes_uso=None\n",
      "DEBUG (Condición Perfil) ► Tipo de 'preferencias_usuario': <class 'graph.perfil.state.PerfilUsuario'>\n",
      "--- DEBUG CHECK PERFIL ---\n",
      "Input prefs object: apasionado_motor='no' valora_estetica='no' coche_principal_hogar='no' uso_profesional='no' tipo_uso_profesional=None prefiere_diseno_exclusivo='no' altura_mayor_190='no' peso_mayor_100='no' transporta_carga_voluminosa='no' necesita_espacio_objetos_especiales=None arrastra_remolque='no' tiene_garage='si' problemas_aparcar_calle=None espacio_sobra_garage='si' problema_dimension_garage=None tiene_punto_carga_propio=None aventura=None estilo_conduccion=None solo_electricos=None prioriza_baja_depreciacion=None transmision_preferida=None rating_fiabilidad_durabilidad=None rating_seguridad=None rating_comodidad=None rating_impacto_ambiental=None rating_tecnologia_conectividad=None rating_costes_uso=None\n",
      "Input prefs type: <class 'graph.perfil.state.PerfilUsuario'>\n",
      "DEBUG (Validation Perfil) ► Campo 'aventura' está vacío/None.\n",
      "DEBUG (Condición Perfil) ► Perfil INCOMPLETO. Se necesita pregunta.\n",
      "--- Ejecutando Nodo: preguntar_preferencias_node ---\n",
      "--- DEBUG CHECK PERFIL ---\n",
      "Input prefs object: apasionado_motor='no' valora_estetica='no' coche_principal_hogar='no' uso_profesional='no' tipo_uso_profesional=None prefiere_diseno_exclusivo='no' altura_mayor_190='no' peso_mayor_100='no' transporta_carga_voluminosa='no' necesita_espacio_objetos_especiales=None arrastra_remolque='no' tiene_garage='si' problemas_aparcar_calle=None espacio_sobra_garage='si' problema_dimension_garage=None tiene_punto_carga_propio=None aventura=None estilo_conduccion=None solo_electricos=None prioriza_baja_depreciacion=None transmision_preferida=None rating_fiabilidad_durabilidad=None rating_seguridad=None rating_comodidad=None rating_impacto_ambiental=None rating_tecnologia_conectividad=None rating_costes_uso=None\n",
      "Input prefs type: <class 'graph.perfil.state.PerfilUsuario'>\n",
      "DEBUG (Validation Perfil) ► Campo 'aventura' está vacío/None.\n",
      "DEBUG (Preguntar Perfil) ► Perfil aún INCOMPLETO según checker.\n",
      "DEBUG (Preguntar Perfil) ► Pregunta fallback generada: ¿cuentas con un punto de carga para vehículo eléctrico en tu domicilio o lugar de trabajo habitual? (Responde 'sí' o 'no')\n",
      "WARN (Preguntar Perfil) ► Nodo ejecutado para preguntar, pero no había mensaje pendiente válido. Generando pregunta fallback.\n",
      "DEBUG (Preguntar Perfil) ► Mensaje final añadido: ¿cuentas con un punto de carga para vehículo eléctrico en tu domicilio o lugar de trabajo habitual? (Responde 'sí' o 'no')\n",
      "==================================\u001b[1m Ai Message \u001b[0m==================================\n",
      "\n",
      "¿cuentas con un punto de carga para vehículo eléctrico en tu domicilio o lugar de trabajo habitual? (Responde 'sí' o 'no')\n"
     ]
    }
   ],
   "source": [
    "# Create a thread\n",
    "config = {\"configurable\": {\"thread_id\": \"1\"}}\n",
    "\n",
    "# Start conversation\n",
    "input_message = HumanMessage(content=\"si\")\n",
    "output = graph.invoke({\"messages\": [input_message]}, config) \n",
    "for m in output['messages'][-1:]:\n",
    "    m.pretty_print()"
   ]
  },
  {
   "cell_type": "code",
   "execution_count": 13,
   "metadata": {},
   "outputs": [
    {
     "name": "stdout",
     "output_type": "stream",
     "text": [
      "--- Ejecutando Nodo: route_based_on_state_node ---\n",
      "\n",
      "--- DEBUG: Evaluating Routing Decision ---\n",
      "DEBUG Router: CP OK? True\n",
      "--- DEBUG CHECK PERFIL ---\n",
      "Input prefs object: apasionado_motor='no' valora_estetica='no' coche_principal_hogar='no' uso_profesional='no' tipo_uso_profesional=None prefiere_diseno_exclusivo='no' altura_mayor_190='no' peso_mayor_100='no' transporta_carga_voluminosa='no' necesita_espacio_objetos_especiales=None arrastra_remolque='no' tiene_garage='si' problemas_aparcar_calle=None espacio_sobra_garage='si' problema_dimension_garage=None tiene_punto_carga_propio=None aventura=None estilo_conduccion=None solo_electricos=None prioriza_baja_depreciacion=None transmision_preferida=None rating_fiabilidad_durabilidad=None rating_seguridad=None rating_comodidad=None rating_impacto_ambiental=None rating_tecnologia_conectividad=None rating_costes_uso=None\n",
      "Input prefs type: <class 'graph.perfil.state.PerfilUsuario'>\n",
      "DEBUG (Validation Perfil) ► Campo 'aventura' está vacío/None.\n",
      "DEBUG Router: Prefs OK? False\n",
      "--- DEBUG CHECK PASAJEROS ---\n",
      "Input info pasajeros: None\n",
      "DEBUG (Validation Pasajeros) ► Objeto InfoPasajeros es None.\n",
      "DEBUG Router: Pasajeros OK? False\n",
      "DEBUG (Validation Filtros) ► Objeto FiltrosInferidos es None.\n",
      "DEBUG Router: Filtros OK? False\n",
      "--- DEBUG CHECK ECONOMIA (Manual) ---\n",
      "Input econ object: None\n",
      "DEBUG (Validation Economía Manual) ► Objeto EconomiaUsuario es None.\n",
      "DEBUG Router: Economía OK? False\n",
      "DEBUG Router: Pesos Calculados? False\n",
      "DEBUG Router: Coches Buscados? False\n",
      "--- DEBUG CHECK PERFIL ---\n",
      "Input prefs object: apasionado_motor='no' valora_estetica='no' coche_principal_hogar='no' uso_profesional='no' tipo_uso_profesional=None prefiere_diseno_exclusivo='no' altura_mayor_190='no' peso_mayor_100='no' transporta_carga_voluminosa='no' necesita_espacio_objetos_especiales=None arrastra_remolque='no' tiene_garage='si' problemas_aparcar_calle=None espacio_sobra_garage='si' problema_dimension_garage=None tiene_punto_carga_propio=None aventura=None estilo_conduccion=None solo_electricos=None prioriza_baja_depreciacion=None transmision_preferida=None rating_fiabilidad_durabilidad=None rating_seguridad=None rating_comodidad=None rating_impacto_ambiental=None rating_tecnologia_conectividad=None rating_costes_uso=None\n",
      "Input prefs type: <class 'graph.perfil.state.PerfilUsuario'>\n",
      "DEBUG (Validation Perfil) ► Campo 'aventura' está vacío/None.\n",
      "DEBUG Router: Decisión -> recopilar_preferencias\n",
      "--- Ejecutando Nodo: recopilar_preferencias_node ---\n",
      "DEBUG (Perfil) ► Último mensaje es HumanMessage o historial vacío, llamando a llm_solo_perfil...\n"
     ]
    },
    {
     "name": "stderr",
     "output_type": "stream",
     "text": [
      "INFO:httpx:HTTP Request: POST https://api.openai.com/v1/chat/completions \"HTTP/1.1 200 OK\"\n"
     ]
    },
    {
     "name": "stdout",
     "output_type": "stream",
     "text": [
      "DEBUG (Perfil) ► Respuesta llm_solo_perfil: preferencias_usuario=PerfilUsuario(apasionado_motor='no', valora_estetica='no', coche_principal_hogar='no', uso_profesional='no', tipo_uso_profesional=None, prefiere_diseno_exclusivo='no', altura_mayor_190='no', peso_mayor_100='no', transporta_carga_voluminosa='no', necesita_espacio_objetos_especiales=None, arrastra_remolque='no', tiene_garage='sí', problemas_aparcar_calle=None, espacio_sobra_garage='sí', problema_dimension_garage=None, tiene_punto_carga_propio='no', aventura=None, estilo_conduccion=None, solo_electricos=None, prioriza_baja_depreciacion=None, transmision_preferida=None, rating_fiabilidad_durabilidad=None, rating_seguridad=None, rating_comodidad=None, rating_impacto_ambiental=None, rating_tecnologia_conectividad=None, rating_costes_uso=None) tipo_mensaje='CONFIRMACION' contenido_mensaje=''\n",
      "DEBUG (Perfil) ► Preferencias TRAS post-procesamiento: apasionado_motor='no' valora_estetica='no' coche_principal_hogar='no' uso_profesional='no' tipo_uso_profesional=None prefiere_diseno_exclusivo='no' altura_mayor_190='no' peso_mayor_100='no' transporta_carga_voluminosa='no' necesita_espacio_objetos_especiales=None arrastra_remolque='no' tiene_garage='sí' problemas_aparcar_calle=None espacio_sobra_garage='sí' problema_dimension_garage=None tiene_punto_carga_propio='no' aventura=None estilo_conduccion=None solo_electricos=None prioriza_baja_depreciacion=None transmision_preferida=None rating_fiabilidad_durabilidad=None rating_seguridad=None rating_comodidad=None rating_impacto_ambiental=None rating_tecnologia_conectividad=None rating_costes_uso=None\n",
      "DEBUG (Perfil) ► Estado preferencias_usuario actualizado: apasionado_motor='no' valora_estetica='no' coche_principal_hogar='no' uso_profesional='no' tipo_uso_profesional=None prefiere_diseno_exclusivo='no' altura_mayor_190='no' peso_mayor_100='no' transporta_carga_voluminosa='no' necesita_espacio_objetos_especiales=None arrastra_remolque='no' tiene_garage='sí' problemas_aparcar_calle=None espacio_sobra_garage='sí' problema_dimension_garage=None tiene_punto_carga_propio='no' aventura=None estilo_conduccion=None solo_electricos=None prioriza_baja_depreciacion=None transmision_preferida=None rating_fiabilidad_durabilidad=None rating_seguridad=None rating_comodidad=None rating_impacto_ambiental=None rating_tecnologia_conectividad=None rating_costes_uso=None\n",
      "DEBUG (Perfil) ► No hay mensaje pendiente.\n",
      "--- Ejecutando Nodo: validar_preferencias_node ---\n",
      "--- DEBUG CHECK PERFIL ---\n",
      "Input prefs object: apasionado_motor='no' valora_estetica='no' coche_principal_hogar='no' uso_profesional='no' tipo_uso_profesional=None prefiere_diseno_exclusivo='no' altura_mayor_190='no' peso_mayor_100='no' transporta_carga_voluminosa='no' necesita_espacio_objetos_especiales=None arrastra_remolque='no' tiene_garage='sí' problemas_aparcar_calle=None espacio_sobra_garage='sí' problema_dimension_garage=None tiene_punto_carga_propio='no' aventura=None estilo_conduccion=None solo_electricos=None prioriza_baja_depreciacion=None transmision_preferida=None rating_fiabilidad_durabilidad=None rating_seguridad=None rating_comodidad=None rating_impacto_ambiental=None rating_tecnologia_conectividad=None rating_costes_uso=None\n",
      "Input prefs type: <class 'graph.perfil.state.PerfilUsuario'>\n",
      "DEBUG (Validation Perfil) ► Campo 'aventura' está vacío/None.\n",
      "DEBUG (Perfil) ► Validación: PerfilUsuario considerado INCOMPLETO.\n",
      "--- Evaluando Condición: ruta_decision_perfil ---\n",
      "DEBUG (Condición Perfil) ► Estado 'preferencias_usuario' recibido: apasionado_motor='no' valora_estetica='no' coche_principal_hogar='no' uso_profesional='no' tipo_uso_profesional=None prefiere_diseno_exclusivo='no' altura_mayor_190='no' peso_mayor_100='no' transporta_carga_voluminosa='no' necesita_espacio_objetos_especiales=None arrastra_remolque='no' tiene_garage='sí' problemas_aparcar_calle=None espacio_sobra_garage='sí' problema_dimension_garage=None tiene_punto_carga_propio='no' aventura=None estilo_conduccion=None solo_electricos=None prioriza_baja_depreciacion=None transmision_preferida=None rating_fiabilidad_durabilidad=None rating_seguridad=None rating_comodidad=None rating_impacto_ambiental=None rating_tecnologia_conectividad=None rating_costes_uso=None\n",
      "DEBUG (Condición Perfil) ► Tipo de 'preferencias_usuario': <class 'graph.perfil.state.PerfilUsuario'>\n",
      "--- DEBUG CHECK PERFIL ---\n",
      "Input prefs object: apasionado_motor='no' valora_estetica='no' coche_principal_hogar='no' uso_profesional='no' tipo_uso_profesional=None prefiere_diseno_exclusivo='no' altura_mayor_190='no' peso_mayor_100='no' transporta_carga_voluminosa='no' necesita_espacio_objetos_especiales=None arrastra_remolque='no' tiene_garage='sí' problemas_aparcar_calle=None espacio_sobra_garage='sí' problema_dimension_garage=None tiene_punto_carga_propio='no' aventura=None estilo_conduccion=None solo_electricos=None prioriza_baja_depreciacion=None transmision_preferida=None rating_fiabilidad_durabilidad=None rating_seguridad=None rating_comodidad=None rating_impacto_ambiental=None rating_tecnologia_conectividad=None rating_costes_uso=None\n",
      "Input prefs type: <class 'graph.perfil.state.PerfilUsuario'>\n",
      "DEBUG (Validation Perfil) ► Campo 'aventura' está vacío/None.\n",
      "DEBUG (Condición Perfil) ► Perfil INCOMPLETO. Se necesita pregunta.\n",
      "--- Ejecutando Nodo: preguntar_preferencias_node ---\n",
      "--- DEBUG CHECK PERFIL ---\n",
      "Input prefs object: apasionado_motor='no' valora_estetica='no' coche_principal_hogar='no' uso_profesional='no' tipo_uso_profesional=None prefiere_diseno_exclusivo='no' altura_mayor_190='no' peso_mayor_100='no' transporta_carga_voluminosa='no' necesita_espacio_objetos_especiales=None arrastra_remolque='no' tiene_garage='sí' problemas_aparcar_calle=None espacio_sobra_garage='sí' problema_dimension_garage=None tiene_punto_carga_propio='no' aventura=None estilo_conduccion=None solo_electricos=None prioriza_baja_depreciacion=None transmision_preferida=None rating_fiabilidad_durabilidad=None rating_seguridad=None rating_comodidad=None rating_impacto_ambiental=None rating_tecnologia_conectividad=None rating_costes_uso=None\n",
      "Input prefs type: <class 'graph.perfil.state.PerfilUsuario'>\n",
      "DEBUG (Validation Perfil) ► Campo 'aventura' está vacío/None.\n",
      "DEBUG (Preguntar Perfil) ► Perfil aún INCOMPLETO según checker.\n",
      "DEBUG (Preguntar Perfil) ► Pregunta fallback generada: Para conocer tu espíritu aventurero, dime que prefieres:\n",
      " 🛣️ Solo asfalto (ninguna)\n",
      " 🌲 Salidas off‑road de vez en cuando (ocasional)\n",
      " 🏔️ Aventurero extremo en terrenos difíciles (extrema)\n",
      "WARN (Preguntar Perfil) ► Nodo ejecutado para preguntar, pero no había mensaje pendiente válido. Generando pregunta fallback.\n",
      "DEBUG (Preguntar Perfil) ► Mensaje final añadido: Para conocer tu espíritu aventurero, dime que prefieres:\n",
      " 🛣️ Solo asfalto (ninguna)\n",
      " 🌲 Salidas off‑road de vez en cuando (ocasional)\n",
      " 🏔️ Aventurero extremo en terrenos difíciles (extrema)\n",
      "==================================\u001b[1m Ai Message \u001b[0m==================================\n",
      "\n",
      "Para conocer tu espíritu aventurero, dime que prefieres:\n",
      " 🛣️ Solo asfalto (ninguna)\n",
      " 🌲 Salidas off‑road de vez en cuando (ocasional)\n",
      " 🏔️ Aventurero extremo en terrenos difíciles (extrema)\n"
     ]
    }
   ],
   "source": [
    "# Create a thread\n",
    "config = {\"configurable\": {\"thread_id\": \"1\"}}\n",
    "\n",
    "# Start conversation\n",
    "input_message = HumanMessage(content=\"no\")\n",
    "output = graph.invoke({\"messages\": [input_message]}, config) \n",
    "for m in output['messages'][-1:]:\n",
    "    m.pretty_print()"
   ]
  },
  {
   "cell_type": "code",
   "execution_count": 14,
   "metadata": {},
   "outputs": [
    {
     "name": "stdout",
     "output_type": "stream",
     "text": [
      "--- Ejecutando Nodo: route_based_on_state_node ---\n",
      "\n",
      "--- DEBUG: Evaluating Routing Decision ---\n",
      "DEBUG Router: CP OK? True\n",
      "--- DEBUG CHECK PERFIL ---\n",
      "Input prefs object: apasionado_motor='no' valora_estetica='no' coche_principal_hogar='no' uso_profesional='no' tipo_uso_profesional=None prefiere_diseno_exclusivo='no' altura_mayor_190='no' peso_mayor_100='no' transporta_carga_voluminosa='no' necesita_espacio_objetos_especiales=None arrastra_remolque='no' tiene_garage='sí' problemas_aparcar_calle=None espacio_sobra_garage='sí' problema_dimension_garage=None tiene_punto_carga_propio='no' aventura=None estilo_conduccion=None solo_electricos=None prioriza_baja_depreciacion=None transmision_preferida=None rating_fiabilidad_durabilidad=None rating_seguridad=None rating_comodidad=None rating_impacto_ambiental=None rating_tecnologia_conectividad=None rating_costes_uso=None\n",
      "Input prefs type: <class 'graph.perfil.state.PerfilUsuario'>\n",
      "DEBUG (Validation Perfil) ► Campo 'aventura' está vacío/None.\n",
      "DEBUG Router: Prefs OK? False\n",
      "--- DEBUG CHECK PASAJEROS ---\n",
      "Input info pasajeros: None\n",
      "DEBUG (Validation Pasajeros) ► Objeto InfoPasajeros es None.\n",
      "DEBUG Router: Pasajeros OK? False\n",
      "DEBUG (Validation Filtros) ► Objeto FiltrosInferidos es None.\n",
      "DEBUG Router: Filtros OK? False\n",
      "--- DEBUG CHECK ECONOMIA (Manual) ---\n",
      "Input econ object: None\n",
      "DEBUG (Validation Economía Manual) ► Objeto EconomiaUsuario es None.\n",
      "DEBUG Router: Economía OK? False\n",
      "DEBUG Router: Pesos Calculados? False\n",
      "DEBUG Router: Coches Buscados? False\n",
      "--- DEBUG CHECK PERFIL ---\n",
      "Input prefs object: apasionado_motor='no' valora_estetica='no' coche_principal_hogar='no' uso_profesional='no' tipo_uso_profesional=None prefiere_diseno_exclusivo='no' altura_mayor_190='no' peso_mayor_100='no' transporta_carga_voluminosa='no' necesita_espacio_objetos_especiales=None arrastra_remolque='no' tiene_garage='sí' problemas_aparcar_calle=None espacio_sobra_garage='sí' problema_dimension_garage=None tiene_punto_carga_propio='no' aventura=None estilo_conduccion=None solo_electricos=None prioriza_baja_depreciacion=None transmision_preferida=None rating_fiabilidad_durabilidad=None rating_seguridad=None rating_comodidad=None rating_impacto_ambiental=None rating_tecnologia_conectividad=None rating_costes_uso=None\n",
      "Input prefs type: <class 'graph.perfil.state.PerfilUsuario'>\n",
      "DEBUG (Validation Perfil) ► Campo 'aventura' está vacío/None.\n",
      "DEBUG Router: Decisión -> recopilar_preferencias\n",
      "--- Ejecutando Nodo: recopilar_preferencias_node ---\n",
      "DEBUG (Perfil) ► Último mensaje es HumanMessage o historial vacío, llamando a llm_solo_perfil...\n"
     ]
    },
    {
     "name": "stderr",
     "output_type": "stream",
     "text": [
      "INFO:httpx:HTTP Request: POST https://api.openai.com/v1/chat/completions \"HTTP/1.1 200 OK\"\n"
     ]
    },
    {
     "name": "stdout",
     "output_type": "stream",
     "text": [
      "DEBUG (Perfil) ► Respuesta llm_solo_perfil: preferencias_usuario=PerfilUsuario(apasionado_motor='no', valora_estetica='no', coche_principal_hogar='no', uso_profesional='no', tipo_uso_profesional=None, prefiere_diseno_exclusivo='no', altura_mayor_190='no', peso_mayor_100='no', transporta_carga_voluminosa='no', necesita_espacio_objetos_especiales=None, arrastra_remolque='no', tiene_garage='sí', problemas_aparcar_calle=None, espacio_sobra_garage='sí', problema_dimension_garage=None, tiene_punto_carga_propio='no', aventura=<NivelAventura.ocasional: 'ocasional'>, estilo_conduccion=None, solo_electricos=None, prioriza_baja_depreciacion=None, transmision_preferida=None, rating_fiabilidad_durabilidad=None, rating_seguridad=None, rating_comodidad=None, rating_impacto_ambiental=None, rating_tecnologia_conectividad=None, rating_costes_uso=None) tipo_mensaje='CONFIRMACION' contenido_mensaje=''\n",
      "DEBUG (Perfil) ► Preferencias TRAS post-procesamiento: apasionado_motor='no' valora_estetica='no' coche_principal_hogar='no' uso_profesional='no' tipo_uso_profesional=None prefiere_diseno_exclusivo='no' altura_mayor_190='no' peso_mayor_100='no' transporta_carga_voluminosa='no' necesita_espacio_objetos_especiales=None arrastra_remolque='no' tiene_garage='sí' problemas_aparcar_calle=None espacio_sobra_garage='sí' problema_dimension_garage=None tiene_punto_carga_propio='no' aventura=<NivelAventura.ocasional: 'ocasional'> estilo_conduccion=None solo_electricos=None prioriza_baja_depreciacion=None transmision_preferida=None rating_fiabilidad_durabilidad=None rating_seguridad=None rating_comodidad=None rating_impacto_ambiental=None rating_tecnologia_conectividad=None rating_costes_uso=None\n",
      "DEBUG (Perfil) ► Estado preferencias_usuario actualizado: apasionado_motor='no' valora_estetica='no' coche_principal_hogar='no' uso_profesional='no' tipo_uso_profesional=None prefiere_diseno_exclusivo='no' altura_mayor_190='no' peso_mayor_100='no' transporta_carga_voluminosa='no' necesita_espacio_objetos_especiales=None arrastra_remolque='no' tiene_garage='sí' problemas_aparcar_calle=None espacio_sobra_garage='sí' problema_dimension_garage=None tiene_punto_carga_propio='no' aventura=<NivelAventura.ocasional: 'ocasional'> estilo_conduccion=None solo_electricos=None prioriza_baja_depreciacion=None transmision_preferida=None rating_fiabilidad_durabilidad=None rating_seguridad=None rating_comodidad=None rating_impacto_ambiental=None rating_tecnologia_conectividad=None rating_costes_uso=None\n",
      "DEBUG (Perfil) ► No hay mensaje pendiente.\n",
      "--- Ejecutando Nodo: validar_preferencias_node ---\n",
      "--- DEBUG CHECK PERFIL ---\n",
      "Input prefs object: apasionado_motor='no' valora_estetica='no' coche_principal_hogar='no' uso_profesional='no' tipo_uso_profesional=None prefiere_diseno_exclusivo='no' altura_mayor_190='no' peso_mayor_100='no' transporta_carga_voluminosa='no' necesita_espacio_objetos_especiales=None arrastra_remolque='no' tiene_garage='sí' problemas_aparcar_calle=None espacio_sobra_garage='sí' problema_dimension_garage=None tiene_punto_carga_propio='no' aventura=<NivelAventura.ocasional: 'ocasional'> estilo_conduccion=None solo_electricos=None prioriza_baja_depreciacion=None transmision_preferida=None rating_fiabilidad_durabilidad=None rating_seguridad=None rating_comodidad=None rating_impacto_ambiental=None rating_tecnologia_conectividad=None rating_costes_uso=None\n",
      "Input prefs type: <class 'graph.perfil.state.PerfilUsuario'>\n",
      "DEBUG (Validation Perfil) ► Campo 'estilo_conduccion' está vacío/None.\n",
      "DEBUG (Perfil) ► Validación: PerfilUsuario considerado INCOMPLETO.\n",
      "--- Evaluando Condición: ruta_decision_perfil ---\n",
      "DEBUG (Condición Perfil) ► Estado 'preferencias_usuario' recibido: apasionado_motor='no' valora_estetica='no' coche_principal_hogar='no' uso_profesional='no' tipo_uso_profesional=None prefiere_diseno_exclusivo='no' altura_mayor_190='no' peso_mayor_100='no' transporta_carga_voluminosa='no' necesita_espacio_objetos_especiales=None arrastra_remolque='no' tiene_garage='sí' problemas_aparcar_calle=None espacio_sobra_garage='sí' problema_dimension_garage=None tiene_punto_carga_propio='no' aventura=<NivelAventura.ocasional: 'ocasional'> estilo_conduccion=None solo_electricos=None prioriza_baja_depreciacion=None transmision_preferida=None rating_fiabilidad_durabilidad=None rating_seguridad=None rating_comodidad=None rating_impacto_ambiental=None rating_tecnologia_conectividad=None rating_costes_uso=None\n",
      "DEBUG (Condición Perfil) ► Tipo de 'preferencias_usuario': <class 'graph.perfil.state.PerfilUsuario'>\n",
      "--- DEBUG CHECK PERFIL ---\n",
      "Input prefs object: apasionado_motor='no' valora_estetica='no' coche_principal_hogar='no' uso_profesional='no' tipo_uso_profesional=None prefiere_diseno_exclusivo='no' altura_mayor_190='no' peso_mayor_100='no' transporta_carga_voluminosa='no' necesita_espacio_objetos_especiales=None arrastra_remolque='no' tiene_garage='sí' problemas_aparcar_calle=None espacio_sobra_garage='sí' problema_dimension_garage=None tiene_punto_carga_propio='no' aventura=<NivelAventura.ocasional: 'ocasional'> estilo_conduccion=None solo_electricos=None prioriza_baja_depreciacion=None transmision_preferida=None rating_fiabilidad_durabilidad=None rating_seguridad=None rating_comodidad=None rating_impacto_ambiental=None rating_tecnologia_conectividad=None rating_costes_uso=None\n",
      "Input prefs type: <class 'graph.perfil.state.PerfilUsuario'>\n",
      "DEBUG (Validation Perfil) ► Campo 'estilo_conduccion' está vacío/None.\n",
      "DEBUG (Condición Perfil) ► Perfil INCOMPLETO. Se necesita pregunta.\n",
      "--- Ejecutando Nodo: preguntar_preferencias_node ---\n",
      "--- DEBUG CHECK PERFIL ---\n",
      "Input prefs object: apasionado_motor='no' valora_estetica='no' coche_principal_hogar='no' uso_profesional='no' tipo_uso_profesional=None prefiere_diseno_exclusivo='no' altura_mayor_190='no' peso_mayor_100='no' transporta_carga_voluminosa='no' necesita_espacio_objetos_especiales=None arrastra_remolque='no' tiene_garage='sí' problemas_aparcar_calle=None espacio_sobra_garage='sí' problema_dimension_garage=None tiene_punto_carga_propio='no' aventura=<NivelAventura.ocasional: 'ocasional'> estilo_conduccion=None solo_electricos=None prioriza_baja_depreciacion=None transmision_preferida=None rating_fiabilidad_durabilidad=None rating_seguridad=None rating_comodidad=None rating_impacto_ambiental=None rating_tecnologia_conectividad=None rating_costes_uso=None\n",
      "Input prefs type: <class 'graph.perfil.state.PerfilUsuario'>\n",
      "DEBUG (Validation Perfil) ► Campo 'estilo_conduccion' está vacío/None.\n",
      "DEBUG (Preguntar Perfil) ► Perfil aún INCOMPLETO según checker.\n",
      "DEBUG (Preguntar Perfil) ► Pregunta fallback generada: ¿Cómo describirías tu estilo de conducción habitual? Por ejemplo: tranquilo, deportivo, o una mezcla de ambos (mixto).\n",
      "WARN (Preguntar Perfil) ► Nodo ejecutado para preguntar, pero no había mensaje pendiente válido. Generando pregunta fallback.\n",
      "DEBUG (Preguntar Perfil) ► Mensaje final añadido: ¿Cómo describirías tu estilo de conducción habitual? Por ejemplo: tranquilo, deportivo, o una mezcla de ambos (mixto).\n",
      "==================================\u001b[1m Ai Message \u001b[0m==================================\n",
      "\n",
      "¿Cómo describirías tu estilo de conducción habitual? Por ejemplo: tranquilo, deportivo, o una mezcla de ambos (mixto).\n"
     ]
    }
   ],
   "source": [
    "# Create a thread\n",
    "config = {\"configurable\": {\"thread_id\": \"1\"}}\n",
    "\n",
    "# Start conversation\n",
    "input_message = HumanMessage(content=\"la 2\")\n",
    "output = graph.invoke({\"messages\": [input_message]}, config) \n",
    "for m in output['messages'][-1:]:\n",
    "    m.pretty_print()"
   ]
  },
  {
   "cell_type": "code",
   "execution_count": 15,
   "metadata": {},
   "outputs": [
    {
     "name": "stdout",
     "output_type": "stream",
     "text": [
      "--- Ejecutando Nodo: route_based_on_state_node ---\n",
      "\n",
      "--- DEBUG: Evaluating Routing Decision ---\n",
      "DEBUG Router: CP OK? True\n",
      "--- DEBUG CHECK PERFIL ---\n",
      "Input prefs object: apasionado_motor='no' valora_estetica='no' coche_principal_hogar='no' uso_profesional='no' tipo_uso_profesional=None prefiere_diseno_exclusivo='no' altura_mayor_190='no' peso_mayor_100='no' transporta_carga_voluminosa='no' necesita_espacio_objetos_especiales=None arrastra_remolque='no' tiene_garage='sí' problemas_aparcar_calle=None espacio_sobra_garage='sí' problema_dimension_garage=None tiene_punto_carga_propio='no' aventura=<NivelAventura.ocasional: 'ocasional'> estilo_conduccion=None solo_electricos=None prioriza_baja_depreciacion=None transmision_preferida=None rating_fiabilidad_durabilidad=None rating_seguridad=None rating_comodidad=None rating_impacto_ambiental=None rating_tecnologia_conectividad=None rating_costes_uso=None\n",
      "Input prefs type: <class 'graph.perfil.state.PerfilUsuario'>\n",
      "DEBUG (Validation Perfil) ► Campo 'estilo_conduccion' está vacío/None.\n",
      "DEBUG Router: Prefs OK? False\n",
      "--- DEBUG CHECK PASAJEROS ---\n",
      "Input info pasajeros: None\n",
      "DEBUG (Validation Pasajeros) ► Objeto InfoPasajeros es None.\n",
      "DEBUG Router: Pasajeros OK? False\n",
      "DEBUG (Validation Filtros) ► Objeto FiltrosInferidos es None.\n",
      "DEBUG Router: Filtros OK? False\n",
      "--- DEBUG CHECK ECONOMIA (Manual) ---\n",
      "Input econ object: None\n",
      "DEBUG (Validation Economía Manual) ► Objeto EconomiaUsuario es None.\n",
      "DEBUG Router: Economía OK? False\n",
      "DEBUG Router: Pesos Calculados? False\n",
      "DEBUG Router: Coches Buscados? False\n",
      "--- DEBUG CHECK PERFIL ---\n",
      "Input prefs object: apasionado_motor='no' valora_estetica='no' coche_principal_hogar='no' uso_profesional='no' tipo_uso_profesional=None prefiere_diseno_exclusivo='no' altura_mayor_190='no' peso_mayor_100='no' transporta_carga_voluminosa='no' necesita_espacio_objetos_especiales=None arrastra_remolque='no' tiene_garage='sí' problemas_aparcar_calle=None espacio_sobra_garage='sí' problema_dimension_garage=None tiene_punto_carga_propio='no' aventura=<NivelAventura.ocasional: 'ocasional'> estilo_conduccion=None solo_electricos=None prioriza_baja_depreciacion=None transmision_preferida=None rating_fiabilidad_durabilidad=None rating_seguridad=None rating_comodidad=None rating_impacto_ambiental=None rating_tecnologia_conectividad=None rating_costes_uso=None\n",
      "Input prefs type: <class 'graph.perfil.state.PerfilUsuario'>\n",
      "DEBUG (Validation Perfil) ► Campo 'estilo_conduccion' está vacío/None.\n",
      "DEBUG Router: Decisión -> recopilar_preferencias\n",
      "--- Ejecutando Nodo: recopilar_preferencias_node ---\n",
      "DEBUG (Perfil) ► Último mensaje es HumanMessage o historial vacío, llamando a llm_solo_perfil...\n"
     ]
    },
    {
     "name": "stderr",
     "output_type": "stream",
     "text": [
      "INFO:httpx:HTTP Request: POST https://api.openai.com/v1/chat/completions \"HTTP/1.1 200 OK\"\n"
     ]
    },
    {
     "name": "stdout",
     "output_type": "stream",
     "text": [
      "DEBUG (Perfil) ► Respuesta llm_solo_perfil: preferencias_usuario=PerfilUsuario(apasionado_motor='no', valora_estetica='no', coche_principal_hogar='no', uso_profesional='no', tipo_uso_profesional=None, prefiere_diseno_exclusivo='no', altura_mayor_190='no', peso_mayor_100='no', transporta_carga_voluminosa='no', necesita_espacio_objetos_especiales=None, arrastra_remolque='no', tiene_garage='sí', problemas_aparcar_calle=None, espacio_sobra_garage='sí', problema_dimension_garage=None, tiene_punto_carga_propio='no', aventura=<NivelAventura.ocasional: 'ocasional'>, estilo_conduccion=<EstiloConduccion.TRANQUILO: 'tranquilo'>, solo_electricos=None, prioriza_baja_depreciacion=None, transmision_preferida=None, rating_fiabilidad_durabilidad=None, rating_seguridad=None, rating_comodidad=None, rating_impacto_ambiental=None, rating_tecnologia_conectividad=None, rating_costes_uso=None) tipo_mensaje='CONFIRMACION' contenido_mensaje=''\n",
      "DEBUG (Perfil) ► Preferencias TRAS post-procesamiento: apasionado_motor='no' valora_estetica='no' coche_principal_hogar='no' uso_profesional='no' tipo_uso_profesional=None prefiere_diseno_exclusivo='no' altura_mayor_190='no' peso_mayor_100='no' transporta_carga_voluminosa='no' necesita_espacio_objetos_especiales=None arrastra_remolque='no' tiene_garage='sí' problemas_aparcar_calle=None espacio_sobra_garage='sí' problema_dimension_garage=None tiene_punto_carga_propio='no' aventura=<NivelAventura.ocasional: 'ocasional'> estilo_conduccion=<EstiloConduccion.TRANQUILO: 'tranquilo'> solo_electricos=None prioriza_baja_depreciacion=None transmision_preferida=None rating_fiabilidad_durabilidad=None rating_seguridad=None rating_comodidad=None rating_impacto_ambiental=None rating_tecnologia_conectividad=None rating_costes_uso=None\n",
      "DEBUG (Perfil) ► Estado preferencias_usuario actualizado: apasionado_motor='no' valora_estetica='no' coche_principal_hogar='no' uso_profesional='no' tipo_uso_profesional=None prefiere_diseno_exclusivo='no' altura_mayor_190='no' peso_mayor_100='no' transporta_carga_voluminosa='no' necesita_espacio_objetos_especiales=None arrastra_remolque='no' tiene_garage='sí' problemas_aparcar_calle=None espacio_sobra_garage='sí' problema_dimension_garage=None tiene_punto_carga_propio='no' aventura=<NivelAventura.ocasional: 'ocasional'> estilo_conduccion=<EstiloConduccion.TRANQUILO: 'tranquilo'> solo_electricos=None prioriza_baja_depreciacion=None transmision_preferida=None rating_fiabilidad_durabilidad=None rating_seguridad=None rating_comodidad=None rating_impacto_ambiental=None rating_tecnologia_conectividad=None rating_costes_uso=None\n",
      "DEBUG (Perfil) ► No hay mensaje pendiente.\n",
      "--- Ejecutando Nodo: validar_preferencias_node ---\n",
      "--- DEBUG CHECK PERFIL ---\n",
      "Input prefs object: apasionado_motor='no' valora_estetica='no' coche_principal_hogar='no' uso_profesional='no' tipo_uso_profesional=None prefiere_diseno_exclusivo='no' altura_mayor_190='no' peso_mayor_100='no' transporta_carga_voluminosa='no' necesita_espacio_objetos_especiales=None arrastra_remolque='no' tiene_garage='sí' problemas_aparcar_calle=None espacio_sobra_garage='sí' problema_dimension_garage=None tiene_punto_carga_propio='no' aventura=<NivelAventura.ocasional: 'ocasional'> estilo_conduccion=<EstiloConduccion.TRANQUILO: 'tranquilo'> solo_electricos=None prioriza_baja_depreciacion=None transmision_preferida=None rating_fiabilidad_durabilidad=None rating_seguridad=None rating_comodidad=None rating_impacto_ambiental=None rating_tecnologia_conectividad=None rating_costes_uso=None\n",
      "Input prefs type: <class 'graph.perfil.state.PerfilUsuario'>\n",
      "DEBUG (Validation Perfil) ► Campo 'solo_electricos' está vacío/None.\n",
      "DEBUG (Perfil) ► Validación: PerfilUsuario considerado INCOMPLETO.\n",
      "--- Evaluando Condición: ruta_decision_perfil ---\n",
      "DEBUG (Condición Perfil) ► Estado 'preferencias_usuario' recibido: apasionado_motor='no' valora_estetica='no' coche_principal_hogar='no' uso_profesional='no' tipo_uso_profesional=None prefiere_diseno_exclusivo='no' altura_mayor_190='no' peso_mayor_100='no' transporta_carga_voluminosa='no' necesita_espacio_objetos_especiales=None arrastra_remolque='no' tiene_garage='sí' problemas_aparcar_calle=None espacio_sobra_garage='sí' problema_dimension_garage=None tiene_punto_carga_propio='no' aventura=<NivelAventura.ocasional: 'ocasional'> estilo_conduccion=<EstiloConduccion.TRANQUILO: 'tranquilo'> solo_electricos=None prioriza_baja_depreciacion=None transmision_preferida=None rating_fiabilidad_durabilidad=None rating_seguridad=None rating_comodidad=None rating_impacto_ambiental=None rating_tecnologia_conectividad=None rating_costes_uso=None\n",
      "DEBUG (Condición Perfil) ► Tipo de 'preferencias_usuario': <class 'graph.perfil.state.PerfilUsuario'>\n",
      "--- DEBUG CHECK PERFIL ---\n",
      "Input prefs object: apasionado_motor='no' valora_estetica='no' coche_principal_hogar='no' uso_profesional='no' tipo_uso_profesional=None prefiere_diseno_exclusivo='no' altura_mayor_190='no' peso_mayor_100='no' transporta_carga_voluminosa='no' necesita_espacio_objetos_especiales=None arrastra_remolque='no' tiene_garage='sí' problemas_aparcar_calle=None espacio_sobra_garage='sí' problema_dimension_garage=None tiene_punto_carga_propio='no' aventura=<NivelAventura.ocasional: 'ocasional'> estilo_conduccion=<EstiloConduccion.TRANQUILO: 'tranquilo'> solo_electricos=None prioriza_baja_depreciacion=None transmision_preferida=None rating_fiabilidad_durabilidad=None rating_seguridad=None rating_comodidad=None rating_impacto_ambiental=None rating_tecnologia_conectividad=None rating_costes_uso=None\n",
      "Input prefs type: <class 'graph.perfil.state.PerfilUsuario'>\n",
      "DEBUG (Validation Perfil) ► Campo 'solo_electricos' está vacío/None.\n",
      "DEBUG (Condición Perfil) ► Perfil INCOMPLETO. Se necesita pregunta.\n",
      "--- Ejecutando Nodo: preguntar_preferencias_node ---\n",
      "--- DEBUG CHECK PERFIL ---\n",
      "Input prefs object: apasionado_motor='no' valora_estetica='no' coche_principal_hogar='no' uso_profesional='no' tipo_uso_profesional=None prefiere_diseno_exclusivo='no' altura_mayor_190='no' peso_mayor_100='no' transporta_carga_voluminosa='no' necesita_espacio_objetos_especiales=None arrastra_remolque='no' tiene_garage='sí' problemas_aparcar_calle=None espacio_sobra_garage='sí' problema_dimension_garage=None tiene_punto_carga_propio='no' aventura=<NivelAventura.ocasional: 'ocasional'> estilo_conduccion=<EstiloConduccion.TRANQUILO: 'tranquilo'> solo_electricos=None prioriza_baja_depreciacion=None transmision_preferida=None rating_fiabilidad_durabilidad=None rating_seguridad=None rating_comodidad=None rating_impacto_ambiental=None rating_tecnologia_conectividad=None rating_costes_uso=None\n",
      "Input prefs type: <class 'graph.perfil.state.PerfilUsuario'>\n",
      "DEBUG (Validation Perfil) ► Campo 'solo_electricos' está vacío/None.\n",
      "DEBUG (Preguntar Perfil) ► Perfil aún INCOMPLETO según checker.\n",
      "DEBUG (Preguntar Perfil) ► Pregunta fallback generada: ¿Estás interesado exclusivamente en vehículos con motorización eléctrica?\n",
      "WARN (Preguntar Perfil) ► Nodo ejecutado para preguntar, pero no había mensaje pendiente válido. Generando pregunta fallback.\n",
      "DEBUG (Preguntar Perfil) ► Mensaje final añadido: ¿Estás interesado exclusivamente en vehículos con motorización eléctrica?\n",
      "==================================\u001b[1m Ai Message \u001b[0m==================================\n",
      "\n",
      "¿Estás interesado exclusivamente en vehículos con motorización eléctrica?\n"
     ]
    }
   ],
   "source": [
    "# Create a thread\n",
    "config = {\"configurable\": {\"thread_id\": \"1\"}}\n",
    "\n",
    "# Start conversation\n",
    "input_message = HumanMessage(content=\"traquilo\")\n",
    "output = graph.invoke({\"messages\": [input_message]}, config) \n",
    "for m in output['messages'][-1:]:\n",
    "    m.pretty_print()"
   ]
  },
  {
   "cell_type": "code",
   "execution_count": 16,
   "metadata": {},
   "outputs": [
    {
     "name": "stdout",
     "output_type": "stream",
     "text": [
      "--- Ejecutando Nodo: route_based_on_state_node ---\n",
      "\n",
      "--- DEBUG: Evaluating Routing Decision ---\n",
      "DEBUG Router: CP OK? True\n",
      "--- DEBUG CHECK PERFIL ---\n",
      "Input prefs object: apasionado_motor='no' valora_estetica='no' coche_principal_hogar='no' uso_profesional='no' tipo_uso_profesional=None prefiere_diseno_exclusivo='no' altura_mayor_190='no' peso_mayor_100='no' transporta_carga_voluminosa='no' necesita_espacio_objetos_especiales=None arrastra_remolque='no' tiene_garage='sí' problemas_aparcar_calle=None espacio_sobra_garage='sí' problema_dimension_garage=None tiene_punto_carga_propio='no' aventura=<NivelAventura.ocasional: 'ocasional'> estilo_conduccion=<EstiloConduccion.TRANQUILO: 'tranquilo'> solo_electricos=None prioriza_baja_depreciacion=None transmision_preferida=None rating_fiabilidad_durabilidad=None rating_seguridad=None rating_comodidad=None rating_impacto_ambiental=None rating_tecnologia_conectividad=None rating_costes_uso=None\n",
      "Input prefs type: <class 'graph.perfil.state.PerfilUsuario'>\n",
      "DEBUG (Validation Perfil) ► Campo 'solo_electricos' está vacío/None.\n",
      "DEBUG Router: Prefs OK? False\n",
      "--- DEBUG CHECK PASAJEROS ---\n",
      "Input info pasajeros: None\n",
      "DEBUG (Validation Pasajeros) ► Objeto InfoPasajeros es None.\n",
      "DEBUG Router: Pasajeros OK? False\n",
      "DEBUG (Validation Filtros) ► Objeto FiltrosInferidos es None.\n",
      "DEBUG Router: Filtros OK? False\n",
      "--- DEBUG CHECK ECONOMIA (Manual) ---\n",
      "Input econ object: None\n",
      "DEBUG (Validation Economía Manual) ► Objeto EconomiaUsuario es None.\n",
      "DEBUG Router: Economía OK? False\n",
      "DEBUG Router: Pesos Calculados? False\n",
      "DEBUG Router: Coches Buscados? False\n",
      "--- DEBUG CHECK PERFIL ---\n",
      "Input prefs object: apasionado_motor='no' valora_estetica='no' coche_principal_hogar='no' uso_profesional='no' tipo_uso_profesional=None prefiere_diseno_exclusivo='no' altura_mayor_190='no' peso_mayor_100='no' transporta_carga_voluminosa='no' necesita_espacio_objetos_especiales=None arrastra_remolque='no' tiene_garage='sí' problemas_aparcar_calle=None espacio_sobra_garage='sí' problema_dimension_garage=None tiene_punto_carga_propio='no' aventura=<NivelAventura.ocasional: 'ocasional'> estilo_conduccion=<EstiloConduccion.TRANQUILO: 'tranquilo'> solo_electricos=None prioriza_baja_depreciacion=None transmision_preferida=None rating_fiabilidad_durabilidad=None rating_seguridad=None rating_comodidad=None rating_impacto_ambiental=None rating_tecnologia_conectividad=None rating_costes_uso=None\n",
      "Input prefs type: <class 'graph.perfil.state.PerfilUsuario'>\n",
      "DEBUG (Validation Perfil) ► Campo 'solo_electricos' está vacío/None.\n",
      "DEBUG Router: Decisión -> recopilar_preferencias\n",
      "--- Ejecutando Nodo: recopilar_preferencias_node ---\n",
      "DEBUG (Perfil) ► Último mensaje es HumanMessage o historial vacío, llamando a llm_solo_perfil...\n"
     ]
    },
    {
     "name": "stderr",
     "output_type": "stream",
     "text": [
      "INFO:httpx:HTTP Request: POST https://api.openai.com/v1/chat/completions \"HTTP/1.1 200 OK\"\n"
     ]
    },
    {
     "name": "stdout",
     "output_type": "stream",
     "text": [
      "DEBUG (Perfil) ► Respuesta llm_solo_perfil: preferencias_usuario=PerfilUsuario(apasionado_motor='no', valora_estetica='no', coche_principal_hogar='no', uso_profesional='no', tipo_uso_profesional=None, prefiere_diseno_exclusivo='no', altura_mayor_190='no', peso_mayor_100='no', transporta_carga_voluminosa='no', necesita_espacio_objetos_especiales=None, arrastra_remolque='no', tiene_garage='sí', problemas_aparcar_calle=None, espacio_sobra_garage='sí', problema_dimension_garage=None, tiene_punto_carga_propio='no', aventura=<NivelAventura.ocasional: 'ocasional'>, estilo_conduccion=<EstiloConduccion.TRANQUILO: 'tranquilo'>, solo_electricos='no', prioriza_baja_depreciacion=None, transmision_preferida=None, rating_fiabilidad_durabilidad=None, rating_seguridad=None, rating_comodidad=None, rating_impacto_ambiental=None, rating_tecnologia_conectividad=None, rating_costes_uso=None) tipo_mensaje='CONFIRMACION' contenido_mensaje=''\n",
      "DEBUG (Perfil) ► Preferencias TRAS post-procesamiento: apasionado_motor='no' valora_estetica='no' coche_principal_hogar='no' uso_profesional='no' tipo_uso_profesional=None prefiere_diseno_exclusivo='no' altura_mayor_190='no' peso_mayor_100='no' transporta_carga_voluminosa='no' necesita_espacio_objetos_especiales=None arrastra_remolque='no' tiene_garage='sí' problemas_aparcar_calle=None espacio_sobra_garage='sí' problema_dimension_garage=None tiene_punto_carga_propio='no' aventura=<NivelAventura.ocasional: 'ocasional'> estilo_conduccion=<EstiloConduccion.TRANQUILO: 'tranquilo'> solo_electricos='no' prioriza_baja_depreciacion=None transmision_preferida=None rating_fiabilidad_durabilidad=None rating_seguridad=None rating_comodidad=None rating_impacto_ambiental=None rating_tecnologia_conectividad=None rating_costes_uso=None\n",
      "DEBUG (Perfil) ► Estado preferencias_usuario actualizado: apasionado_motor='no' valora_estetica='no' coche_principal_hogar='no' uso_profesional='no' tipo_uso_profesional=None prefiere_diseno_exclusivo='no' altura_mayor_190='no' peso_mayor_100='no' transporta_carga_voluminosa='no' necesita_espacio_objetos_especiales=None arrastra_remolque='no' tiene_garage='sí' problemas_aparcar_calle=None espacio_sobra_garage='sí' problema_dimension_garage=None tiene_punto_carga_propio='no' aventura=<NivelAventura.ocasional: 'ocasional'> estilo_conduccion=<EstiloConduccion.TRANQUILO: 'tranquilo'> solo_electricos='no' prioriza_baja_depreciacion=None transmision_preferida=None rating_fiabilidad_durabilidad=None rating_seguridad=None rating_comodidad=None rating_impacto_ambiental=None rating_tecnologia_conectividad=None rating_costes_uso=None\n",
      "DEBUG (Perfil) ► No hay mensaje pendiente.\n",
      "--- Ejecutando Nodo: validar_preferencias_node ---\n",
      "--- DEBUG CHECK PERFIL ---\n",
      "Input prefs object: apasionado_motor='no' valora_estetica='no' coche_principal_hogar='no' uso_profesional='no' tipo_uso_profesional=None prefiere_diseno_exclusivo='no' altura_mayor_190='no' peso_mayor_100='no' transporta_carga_voluminosa='no' necesita_espacio_objetos_especiales=None arrastra_remolque='no' tiene_garage='sí' problemas_aparcar_calle=None espacio_sobra_garage='sí' problema_dimension_garage=None tiene_punto_carga_propio='no' aventura=<NivelAventura.ocasional: 'ocasional'> estilo_conduccion=<EstiloConduccion.TRANQUILO: 'tranquilo'> solo_electricos='no' prioriza_baja_depreciacion=None transmision_preferida=None rating_fiabilidad_durabilidad=None rating_seguridad=None rating_comodidad=None rating_impacto_ambiental=None rating_tecnologia_conectividad=None rating_costes_uso=None\n",
      "Input prefs type: <class 'graph.perfil.state.PerfilUsuario'>\n",
      "DEBUG (Validation Perfil) ► Campo 'prioriza_baja_depreciacion' está vacío/None.\n",
      "DEBUG (Perfil) ► Validación: PerfilUsuario considerado INCOMPLETO.\n",
      "--- Evaluando Condición: ruta_decision_perfil ---\n",
      "DEBUG (Condición Perfil) ► Estado 'preferencias_usuario' recibido: apasionado_motor='no' valora_estetica='no' coche_principal_hogar='no' uso_profesional='no' tipo_uso_profesional=None prefiere_diseno_exclusivo='no' altura_mayor_190='no' peso_mayor_100='no' transporta_carga_voluminosa='no' necesita_espacio_objetos_especiales=None arrastra_remolque='no' tiene_garage='sí' problemas_aparcar_calle=None espacio_sobra_garage='sí' problema_dimension_garage=None tiene_punto_carga_propio='no' aventura=<NivelAventura.ocasional: 'ocasional'> estilo_conduccion=<EstiloConduccion.TRANQUILO: 'tranquilo'> solo_electricos='no' prioriza_baja_depreciacion=None transmision_preferida=None rating_fiabilidad_durabilidad=None rating_seguridad=None rating_comodidad=None rating_impacto_ambiental=None rating_tecnologia_conectividad=None rating_costes_uso=None\n",
      "DEBUG (Condición Perfil) ► Tipo de 'preferencias_usuario': <class 'graph.perfil.state.PerfilUsuario'>\n",
      "--- DEBUG CHECK PERFIL ---\n",
      "Input prefs object: apasionado_motor='no' valora_estetica='no' coche_principal_hogar='no' uso_profesional='no' tipo_uso_profesional=None prefiere_diseno_exclusivo='no' altura_mayor_190='no' peso_mayor_100='no' transporta_carga_voluminosa='no' necesita_espacio_objetos_especiales=None arrastra_remolque='no' tiene_garage='sí' problemas_aparcar_calle=None espacio_sobra_garage='sí' problema_dimension_garage=None tiene_punto_carga_propio='no' aventura=<NivelAventura.ocasional: 'ocasional'> estilo_conduccion=<EstiloConduccion.TRANQUILO: 'tranquilo'> solo_electricos='no' prioriza_baja_depreciacion=None transmision_preferida=None rating_fiabilidad_durabilidad=None rating_seguridad=None rating_comodidad=None rating_impacto_ambiental=None rating_tecnologia_conectividad=None rating_costes_uso=None\n",
      "Input prefs type: <class 'graph.perfil.state.PerfilUsuario'>\n",
      "DEBUG (Validation Perfil) ► Campo 'prioriza_baja_depreciacion' está vacío/None.\n",
      "DEBUG (Condición Perfil) ► Perfil INCOMPLETO. Se necesita pregunta.\n",
      "--- Ejecutando Nodo: preguntar_preferencias_node ---\n",
      "--- DEBUG CHECK PERFIL ---\n",
      "Input prefs object: apasionado_motor='no' valora_estetica='no' coche_principal_hogar='no' uso_profesional='no' tipo_uso_profesional=None prefiere_diseno_exclusivo='no' altura_mayor_190='no' peso_mayor_100='no' transporta_carga_voluminosa='no' necesita_espacio_objetos_especiales=None arrastra_remolque='no' tiene_garage='sí' problemas_aparcar_calle=None espacio_sobra_garage='sí' problema_dimension_garage=None tiene_punto_carga_propio='no' aventura=<NivelAventura.ocasional: 'ocasional'> estilo_conduccion=<EstiloConduccion.TRANQUILO: 'tranquilo'> solo_electricos='no' prioriza_baja_depreciacion=None transmision_preferida=None rating_fiabilidad_durabilidad=None rating_seguridad=None rating_comodidad=None rating_impacto_ambiental=None rating_tecnologia_conectividad=None rating_costes_uso=None\n",
      "Input prefs type: <class 'graph.perfil.state.PerfilUsuario'>\n",
      "DEBUG (Validation Perfil) ► Campo 'prioriza_baja_depreciacion' está vacío/None.\n",
      "DEBUG (Preguntar Perfil) ► Perfil aún INCOMPLETO según checker.\n",
      "DEBUG (Preguntar Perfil) ► Pregunta fallback generada: En cuanto a la transmisión, ¿qué opción se ajusta mejor a tus preferencias?\n",
      " 1) Automático\n",
      " 2) Manual\n",
      " 3) Ambos, puedo considerar ambas opciones\n",
      "WARN (Preguntar Perfil) ► Nodo ejecutado para preguntar, pero no había mensaje pendiente válido. Generando pregunta fallback.\n",
      "DEBUG (Preguntar Perfil) ► Mensaje final añadido: En cuanto a la transmisión, ¿qué opción se ajusta mejor a tus preferencias?\n",
      " 1) Automático\n",
      " 2) Manual\n",
      " 3) Ambos, puedo considerar ambas opciones\n",
      "==================================\u001b[1m Ai Message \u001b[0m==================================\n",
      "\n",
      "En cuanto a la transmisión, ¿qué opción se ajusta mejor a tus preferencias?\n",
      " 1) Automático\n",
      " 2) Manual\n",
      " 3) Ambos, puedo considerar ambas opciones\n"
     ]
    }
   ],
   "source": [
    "# Create a thread\n",
    "config = {\"configurable\": {\"thread_id\": \"1\"}}\n",
    "\n",
    "# Start conversation\n",
    "input_message = HumanMessage(content=\"no\")\n",
    "output = graph.invoke({\"messages\": [input_message]}, config) \n",
    "for m in output['messages'][-1:]:\n",
    "    m.pretty_print()"
   ]
  },
  {
   "cell_type": "code",
   "execution_count": 17,
   "metadata": {},
   "outputs": [
    {
     "name": "stdout",
     "output_type": "stream",
     "text": [
      "--- Ejecutando Nodo: route_based_on_state_node ---\n",
      "\n",
      "--- DEBUG: Evaluating Routing Decision ---\n",
      "DEBUG Router: CP OK? True\n",
      "--- DEBUG CHECK PERFIL ---\n",
      "Input prefs object: apasionado_motor='no' valora_estetica='no' coche_principal_hogar='no' uso_profesional='no' tipo_uso_profesional=None prefiere_diseno_exclusivo='no' altura_mayor_190='no' peso_mayor_100='no' transporta_carga_voluminosa='no' necesita_espacio_objetos_especiales=None arrastra_remolque='no' tiene_garage='sí' problemas_aparcar_calle=None espacio_sobra_garage='sí' problema_dimension_garage=None tiene_punto_carga_propio='no' aventura=<NivelAventura.ocasional: 'ocasional'> estilo_conduccion=<EstiloConduccion.TRANQUILO: 'tranquilo'> solo_electricos='no' prioriza_baja_depreciacion=None transmision_preferida=None rating_fiabilidad_durabilidad=None rating_seguridad=None rating_comodidad=None rating_impacto_ambiental=None rating_tecnologia_conectividad=None rating_costes_uso=None\n",
      "Input prefs type: <class 'graph.perfil.state.PerfilUsuario'>\n",
      "DEBUG (Validation Perfil) ► Campo 'prioriza_baja_depreciacion' está vacío/None.\n",
      "DEBUG Router: Prefs OK? False\n",
      "--- DEBUG CHECK PASAJEROS ---\n",
      "Input info pasajeros: None\n",
      "DEBUG (Validation Pasajeros) ► Objeto InfoPasajeros es None.\n",
      "DEBUG Router: Pasajeros OK? False\n",
      "DEBUG (Validation Filtros) ► Objeto FiltrosInferidos es None.\n",
      "DEBUG Router: Filtros OK? False\n",
      "--- DEBUG CHECK ECONOMIA (Manual) ---\n",
      "Input econ object: None\n",
      "DEBUG (Validation Economía Manual) ► Objeto EconomiaUsuario es None.\n",
      "DEBUG Router: Economía OK? False\n",
      "DEBUG Router: Pesos Calculados? False\n",
      "DEBUG Router: Coches Buscados? False\n",
      "--- DEBUG CHECK PERFIL ---\n",
      "Input prefs object: apasionado_motor='no' valora_estetica='no' coche_principal_hogar='no' uso_profesional='no' tipo_uso_profesional=None prefiere_diseno_exclusivo='no' altura_mayor_190='no' peso_mayor_100='no' transporta_carga_voluminosa='no' necesita_espacio_objetos_especiales=None arrastra_remolque='no' tiene_garage='sí' problemas_aparcar_calle=None espacio_sobra_garage='sí' problema_dimension_garage=None tiene_punto_carga_propio='no' aventura=<NivelAventura.ocasional: 'ocasional'> estilo_conduccion=<EstiloConduccion.TRANQUILO: 'tranquilo'> solo_electricos='no' prioriza_baja_depreciacion=None transmision_preferida=None rating_fiabilidad_durabilidad=None rating_seguridad=None rating_comodidad=None rating_impacto_ambiental=None rating_tecnologia_conectividad=None rating_costes_uso=None\n",
      "Input prefs type: <class 'graph.perfil.state.PerfilUsuario'>\n",
      "DEBUG (Validation Perfil) ► Campo 'prioriza_baja_depreciacion' está vacío/None.\n",
      "DEBUG Router: Decisión -> recopilar_preferencias\n",
      "--- Ejecutando Nodo: recopilar_preferencias_node ---\n",
      "DEBUG (Perfil) ► Último mensaje es HumanMessage o historial vacío, llamando a llm_solo_perfil...\n"
     ]
    },
    {
     "name": "stderr",
     "output_type": "stream",
     "text": [
      "INFO:httpx:HTTP Request: POST https://api.openai.com/v1/chat/completions \"HTTP/1.1 200 OK\"\n"
     ]
    },
    {
     "name": "stdout",
     "output_type": "stream",
     "text": [
      "DEBUG (Perfil) ► Respuesta llm_solo_perfil: preferencias_usuario=PerfilUsuario(apasionado_motor='no', valora_estetica='no', coche_principal_hogar='no', uso_profesional='no', tipo_uso_profesional=None, prefiere_diseno_exclusivo='no', altura_mayor_190='no', peso_mayor_100='no', transporta_carga_voluminosa='no', necesita_espacio_objetos_especiales=None, arrastra_remolque='no', tiene_garage='sí', problemas_aparcar_calle=None, espacio_sobra_garage='sí', problema_dimension_garage=None, tiene_punto_carga_propio='no', aventura=<NivelAventura.ocasional: 'ocasional'>, estilo_conduccion=<EstiloConduccion.TRANQUILO: 'tranquilo'>, solo_electricos='no', prioriza_baja_depreciacion=None, transmision_preferida=<Transmision.AMBOS: 'ambos'>, rating_fiabilidad_durabilidad=None, rating_seguridad=None, rating_comodidad=None, rating_impacto_ambiental=None, rating_tecnologia_conectividad=None, rating_costes_uso=None) tipo_mensaje='CONFIRMACION' contenido_mensaje=''\n",
      "DEBUG (Perfil) ► Preferencias TRAS post-procesamiento: apasionado_motor='no' valora_estetica='no' coche_principal_hogar='no' uso_profesional='no' tipo_uso_profesional=None prefiere_diseno_exclusivo='no' altura_mayor_190='no' peso_mayor_100='no' transporta_carga_voluminosa='no' necesita_espacio_objetos_especiales=None arrastra_remolque='no' tiene_garage='sí' problemas_aparcar_calle=None espacio_sobra_garage='sí' problema_dimension_garage=None tiene_punto_carga_propio='no' aventura=<NivelAventura.ocasional: 'ocasional'> estilo_conduccion=<EstiloConduccion.TRANQUILO: 'tranquilo'> solo_electricos='no' prioriza_baja_depreciacion=None transmision_preferida=<Transmision.AMBOS: 'ambos'> rating_fiabilidad_durabilidad=None rating_seguridad=None rating_comodidad=None rating_impacto_ambiental=None rating_tecnologia_conectividad=None rating_costes_uso=None\n",
      "DEBUG (Perfil) ► Estado preferencias_usuario actualizado: apasionado_motor='no' valora_estetica='no' coche_principal_hogar='no' uso_profesional='no' tipo_uso_profesional=None prefiere_diseno_exclusivo='no' altura_mayor_190='no' peso_mayor_100='no' transporta_carga_voluminosa='no' necesita_espacio_objetos_especiales=None arrastra_remolque='no' tiene_garage='sí' problemas_aparcar_calle=None espacio_sobra_garage='sí' problema_dimension_garage=None tiene_punto_carga_propio='no' aventura=<NivelAventura.ocasional: 'ocasional'> estilo_conduccion=<EstiloConduccion.TRANQUILO: 'tranquilo'> solo_electricos='no' prioriza_baja_depreciacion=None transmision_preferida=<Transmision.AMBOS: 'ambos'> rating_fiabilidad_durabilidad=None rating_seguridad=None rating_comodidad=None rating_impacto_ambiental=None rating_tecnologia_conectividad=None rating_costes_uso=None\n",
      "DEBUG (Perfil) ► No hay mensaje pendiente.\n",
      "--- Ejecutando Nodo: validar_preferencias_node ---\n",
      "--- DEBUG CHECK PERFIL ---\n",
      "Input prefs object: apasionado_motor='no' valora_estetica='no' coche_principal_hogar='no' uso_profesional='no' tipo_uso_profesional=None prefiere_diseno_exclusivo='no' altura_mayor_190='no' peso_mayor_100='no' transporta_carga_voluminosa='no' necesita_espacio_objetos_especiales=None arrastra_remolque='no' tiene_garage='sí' problemas_aparcar_calle=None espacio_sobra_garage='sí' problema_dimension_garage=None tiene_punto_carga_propio='no' aventura=<NivelAventura.ocasional: 'ocasional'> estilo_conduccion=<EstiloConduccion.TRANQUILO: 'tranquilo'> solo_electricos='no' prioriza_baja_depreciacion=None transmision_preferida=<Transmision.AMBOS: 'ambos'> rating_fiabilidad_durabilidad=None rating_seguridad=None rating_comodidad=None rating_impacto_ambiental=None rating_tecnologia_conectividad=None rating_costes_uso=None\n",
      "Input prefs type: <class 'graph.perfil.state.PerfilUsuario'>\n",
      "DEBUG (Validation Perfil) ► Campo 'prioriza_baja_depreciacion' está vacío/None.\n",
      "DEBUG (Perfil) ► Validación: PerfilUsuario considerado INCOMPLETO.\n",
      "--- Evaluando Condición: ruta_decision_perfil ---\n",
      "DEBUG (Condición Perfil) ► Estado 'preferencias_usuario' recibido: apasionado_motor='no' valora_estetica='no' coche_principal_hogar='no' uso_profesional='no' tipo_uso_profesional=None prefiere_diseno_exclusivo='no' altura_mayor_190='no' peso_mayor_100='no' transporta_carga_voluminosa='no' necesita_espacio_objetos_especiales=None arrastra_remolque='no' tiene_garage='sí' problemas_aparcar_calle=None espacio_sobra_garage='sí' problema_dimension_garage=None tiene_punto_carga_propio='no' aventura=<NivelAventura.ocasional: 'ocasional'> estilo_conduccion=<EstiloConduccion.TRANQUILO: 'tranquilo'> solo_electricos='no' prioriza_baja_depreciacion=None transmision_preferida=<Transmision.AMBOS: 'ambos'> rating_fiabilidad_durabilidad=None rating_seguridad=None rating_comodidad=None rating_impacto_ambiental=None rating_tecnologia_conectividad=None rating_costes_uso=None\n",
      "DEBUG (Condición Perfil) ► Tipo de 'preferencias_usuario': <class 'graph.perfil.state.PerfilUsuario'>\n",
      "--- DEBUG CHECK PERFIL ---\n",
      "Input prefs object: apasionado_motor='no' valora_estetica='no' coche_principal_hogar='no' uso_profesional='no' tipo_uso_profesional=None prefiere_diseno_exclusivo='no' altura_mayor_190='no' peso_mayor_100='no' transporta_carga_voluminosa='no' necesita_espacio_objetos_especiales=None arrastra_remolque='no' tiene_garage='sí' problemas_aparcar_calle=None espacio_sobra_garage='sí' problema_dimension_garage=None tiene_punto_carga_propio='no' aventura=<NivelAventura.ocasional: 'ocasional'> estilo_conduccion=<EstiloConduccion.TRANQUILO: 'tranquilo'> solo_electricos='no' prioriza_baja_depreciacion=None transmision_preferida=<Transmision.AMBOS: 'ambos'> rating_fiabilidad_durabilidad=None rating_seguridad=None rating_comodidad=None rating_impacto_ambiental=None rating_tecnologia_conectividad=None rating_costes_uso=None\n",
      "Input prefs type: <class 'graph.perfil.state.PerfilUsuario'>\n",
      "DEBUG (Validation Perfil) ► Campo 'prioriza_baja_depreciacion' está vacío/None.\n",
      "DEBUG (Condición Perfil) ► Perfil INCOMPLETO. Se necesita pregunta.\n",
      "--- Ejecutando Nodo: preguntar_preferencias_node ---\n",
      "--- DEBUG CHECK PERFIL ---\n",
      "Input prefs object: apasionado_motor='no' valora_estetica='no' coche_principal_hogar='no' uso_profesional='no' tipo_uso_profesional=None prefiere_diseno_exclusivo='no' altura_mayor_190='no' peso_mayor_100='no' transporta_carga_voluminosa='no' necesita_espacio_objetos_especiales=None arrastra_remolque='no' tiene_garage='sí' problemas_aparcar_calle=None espacio_sobra_garage='sí' problema_dimension_garage=None tiene_punto_carga_propio='no' aventura=<NivelAventura.ocasional: 'ocasional'> estilo_conduccion=<EstiloConduccion.TRANQUILO: 'tranquilo'> solo_electricos='no' prioriza_baja_depreciacion=None transmision_preferida=<Transmision.AMBOS: 'ambos'> rating_fiabilidad_durabilidad=None rating_seguridad=None rating_comodidad=None rating_impacto_ambiental=None rating_tecnologia_conectividad=None rating_costes_uso=None\n",
      "Input prefs type: <class 'graph.perfil.state.PerfilUsuario'>\n",
      "DEBUG (Validation Perfil) ► Campo 'prioriza_baja_depreciacion' está vacío/None.\n",
      "DEBUG (Preguntar Perfil) ► Perfil aún INCOMPLETO según checker.\n",
      "DEBUG (Preguntar Perfil) ► Pregunta fallback generada: ¿Es importante para ti que la depreciación del coche sea lo más baja posible? 'sí' o 'no'\n",
      "WARN (Preguntar Perfil) ► Nodo ejecutado para preguntar, pero no había mensaje pendiente válido. Generando pregunta fallback.\n",
      "DEBUG (Preguntar Perfil) ► Mensaje final añadido: ¿Es importante para ti que la depreciación del coche sea lo más baja posible? 'sí' o 'no'\n",
      "==================================\u001b[1m Ai Message \u001b[0m==================================\n",
      "\n",
      "¿Es importante para ti que la depreciación del coche sea lo más baja posible? 'sí' o 'no'\n"
     ]
    }
   ],
   "source": [
    "# Create a thread\n",
    "config = {\"configurable\": {\"thread_id\": \"1\"}}\n",
    "\n",
    "# Start conversation\n",
    "input_message = HumanMessage(content=\"ambos\")\n",
    "output = graph.invoke({\"messages\": [input_message]}, config) \n",
    "for m in output['messages'][-1:]:\n",
    "    m.pretty_print()"
   ]
  },
  {
   "cell_type": "code",
   "execution_count": 18,
   "metadata": {},
   "outputs": [
    {
     "name": "stdout",
     "output_type": "stream",
     "text": [
      "--- Ejecutando Nodo: route_based_on_state_node ---\n",
      "\n",
      "--- DEBUG: Evaluating Routing Decision ---\n",
      "DEBUG Router: CP OK? True\n",
      "--- DEBUG CHECK PERFIL ---\n",
      "Input prefs object: apasionado_motor='no' valora_estetica='no' coche_principal_hogar='no' uso_profesional='no' tipo_uso_profesional=None prefiere_diseno_exclusivo='no' altura_mayor_190='no' peso_mayor_100='no' transporta_carga_voluminosa='no' necesita_espacio_objetos_especiales=None arrastra_remolque='no' tiene_garage='sí' problemas_aparcar_calle=None espacio_sobra_garage='sí' problema_dimension_garage=None tiene_punto_carga_propio='no' aventura=<NivelAventura.ocasional: 'ocasional'> estilo_conduccion=<EstiloConduccion.TRANQUILO: 'tranquilo'> solo_electricos='no' prioriza_baja_depreciacion=None transmision_preferida=<Transmision.AMBOS: 'ambos'> rating_fiabilidad_durabilidad=None rating_seguridad=None rating_comodidad=None rating_impacto_ambiental=None rating_tecnologia_conectividad=None rating_costes_uso=None\n",
      "Input prefs type: <class 'graph.perfil.state.PerfilUsuario'>\n",
      "DEBUG (Validation Perfil) ► Campo 'prioriza_baja_depreciacion' está vacío/None.\n",
      "DEBUG Router: Prefs OK? False\n",
      "--- DEBUG CHECK PASAJEROS ---\n",
      "Input info pasajeros: None\n",
      "DEBUG (Validation Pasajeros) ► Objeto InfoPasajeros es None.\n",
      "DEBUG Router: Pasajeros OK? False\n",
      "DEBUG (Validation Filtros) ► Objeto FiltrosInferidos es None.\n",
      "DEBUG Router: Filtros OK? False\n",
      "--- DEBUG CHECK ECONOMIA (Manual) ---\n",
      "Input econ object: None\n",
      "DEBUG (Validation Economía Manual) ► Objeto EconomiaUsuario es None.\n",
      "DEBUG Router: Economía OK? False\n",
      "DEBUG Router: Pesos Calculados? False\n",
      "DEBUG Router: Coches Buscados? False\n",
      "--- DEBUG CHECK PERFIL ---\n",
      "Input prefs object: apasionado_motor='no' valora_estetica='no' coche_principal_hogar='no' uso_profesional='no' tipo_uso_profesional=None prefiere_diseno_exclusivo='no' altura_mayor_190='no' peso_mayor_100='no' transporta_carga_voluminosa='no' necesita_espacio_objetos_especiales=None arrastra_remolque='no' tiene_garage='sí' problemas_aparcar_calle=None espacio_sobra_garage='sí' problema_dimension_garage=None tiene_punto_carga_propio='no' aventura=<NivelAventura.ocasional: 'ocasional'> estilo_conduccion=<EstiloConduccion.TRANQUILO: 'tranquilo'> solo_electricos='no' prioriza_baja_depreciacion=None transmision_preferida=<Transmision.AMBOS: 'ambos'> rating_fiabilidad_durabilidad=None rating_seguridad=None rating_comodidad=None rating_impacto_ambiental=None rating_tecnologia_conectividad=None rating_costes_uso=None\n",
      "Input prefs type: <class 'graph.perfil.state.PerfilUsuario'>\n",
      "DEBUG (Validation Perfil) ► Campo 'prioriza_baja_depreciacion' está vacío/None.\n",
      "DEBUG Router: Decisión -> recopilar_preferencias\n",
      "--- Ejecutando Nodo: recopilar_preferencias_node ---\n",
      "DEBUG (Perfil) ► Último mensaje es HumanMessage o historial vacío, llamando a llm_solo_perfil...\n"
     ]
    },
    {
     "name": "stderr",
     "output_type": "stream",
     "text": [
      "INFO:httpx:HTTP Request: POST https://api.openai.com/v1/chat/completions \"HTTP/1.1 200 OK\"\n"
     ]
    },
    {
     "name": "stdout",
     "output_type": "stream",
     "text": [
      "DEBUG (Perfil) ► Respuesta llm_solo_perfil: preferencias_usuario=PerfilUsuario(apasionado_motor='no', valora_estetica='no', coche_principal_hogar='no', uso_profesional='no', tipo_uso_profesional=None, prefiere_diseno_exclusivo='no', altura_mayor_190='no', peso_mayor_100='no', transporta_carga_voluminosa='no', necesita_espacio_objetos_especiales=None, arrastra_remolque='no', tiene_garage='sí', problemas_aparcar_calle=None, espacio_sobra_garage='sí', problema_dimension_garage=None, tiene_punto_carga_propio='no', aventura=<NivelAventura.ocasional: 'ocasional'>, estilo_conduccion=<EstiloConduccion.TRANQUILO: 'tranquilo'>, solo_electricos='no', prioriza_baja_depreciacion='no', transmision_preferida=<Transmision.AMBOS: 'ambos'>, rating_fiabilidad_durabilidad=None, rating_seguridad=None, rating_comodidad=None, rating_impacto_ambiental=None, rating_tecnologia_conectividad=None, rating_costes_uso=None) tipo_mensaje='CONFIRMACION' contenido_mensaje=''\n",
      "DEBUG (Perfil) ► Preferencias TRAS post-procesamiento: apasionado_motor='no' valora_estetica='no' coche_principal_hogar='no' uso_profesional='no' tipo_uso_profesional=None prefiere_diseno_exclusivo='no' altura_mayor_190='no' peso_mayor_100='no' transporta_carga_voluminosa='no' necesita_espacio_objetos_especiales=None arrastra_remolque='no' tiene_garage='sí' problemas_aparcar_calle=None espacio_sobra_garage='sí' problema_dimension_garage=None tiene_punto_carga_propio='no' aventura=<NivelAventura.ocasional: 'ocasional'> estilo_conduccion=<EstiloConduccion.TRANQUILO: 'tranquilo'> solo_electricos='no' prioriza_baja_depreciacion='no' transmision_preferida=<Transmision.AMBOS: 'ambos'> rating_fiabilidad_durabilidad=None rating_seguridad=None rating_comodidad=None rating_impacto_ambiental=None rating_tecnologia_conectividad=None rating_costes_uso=None\n",
      "DEBUG (Perfil) ► Estado preferencias_usuario actualizado: apasionado_motor='no' valora_estetica='no' coche_principal_hogar='no' uso_profesional='no' tipo_uso_profesional=None prefiere_diseno_exclusivo='no' altura_mayor_190='no' peso_mayor_100='no' transporta_carga_voluminosa='no' necesita_espacio_objetos_especiales=None arrastra_remolque='no' tiene_garage='sí' problemas_aparcar_calle=None espacio_sobra_garage='sí' problema_dimension_garage=None tiene_punto_carga_propio='no' aventura=<NivelAventura.ocasional: 'ocasional'> estilo_conduccion=<EstiloConduccion.TRANQUILO: 'tranquilo'> solo_electricos='no' prioriza_baja_depreciacion='no' transmision_preferida=<Transmision.AMBOS: 'ambos'> rating_fiabilidad_durabilidad=None rating_seguridad=None rating_comodidad=None rating_impacto_ambiental=None rating_tecnologia_conectividad=None rating_costes_uso=None\n",
      "DEBUG (Perfil) ► No hay mensaje pendiente.\n",
      "--- Ejecutando Nodo: validar_preferencias_node ---\n",
      "--- DEBUG CHECK PERFIL ---\n",
      "Input prefs object: apasionado_motor='no' valora_estetica='no' coche_principal_hogar='no' uso_profesional='no' tipo_uso_profesional=None prefiere_diseno_exclusivo='no' altura_mayor_190='no' peso_mayor_100='no' transporta_carga_voluminosa='no' necesita_espacio_objetos_especiales=None arrastra_remolque='no' tiene_garage='sí' problemas_aparcar_calle=None espacio_sobra_garage='sí' problema_dimension_garage=None tiene_punto_carga_propio='no' aventura=<NivelAventura.ocasional: 'ocasional'> estilo_conduccion=<EstiloConduccion.TRANQUILO: 'tranquilo'> solo_electricos='no' prioriza_baja_depreciacion='no' transmision_preferida=<Transmision.AMBOS: 'ambos'> rating_fiabilidad_durabilidad=None rating_seguridad=None rating_comodidad=None rating_impacto_ambiental=None rating_tecnologia_conectividad=None rating_costes_uso=None\n",
      "Input prefs type: <class 'graph.perfil.state.PerfilUsuario'>\n",
      "DEBUG (Validation Perfil) ► Campo 'rating_fiabilidad_durabilidad' está vacío/None.\n",
      "DEBUG (Perfil) ► Validación: PerfilUsuario considerado INCOMPLETO.\n",
      "--- Evaluando Condición: ruta_decision_perfil ---\n",
      "DEBUG (Condición Perfil) ► Estado 'preferencias_usuario' recibido: apasionado_motor='no' valora_estetica='no' coche_principal_hogar='no' uso_profesional='no' tipo_uso_profesional=None prefiere_diseno_exclusivo='no' altura_mayor_190='no' peso_mayor_100='no' transporta_carga_voluminosa='no' necesita_espacio_objetos_especiales=None arrastra_remolque='no' tiene_garage='sí' problemas_aparcar_calle=None espacio_sobra_garage='sí' problema_dimension_garage=None tiene_punto_carga_propio='no' aventura=<NivelAventura.ocasional: 'ocasional'> estilo_conduccion=<EstiloConduccion.TRANQUILO: 'tranquilo'> solo_electricos='no' prioriza_baja_depreciacion='no' transmision_preferida=<Transmision.AMBOS: 'ambos'> rating_fiabilidad_durabilidad=None rating_seguridad=None rating_comodidad=None rating_impacto_ambiental=None rating_tecnologia_conectividad=None rating_costes_uso=None\n",
      "DEBUG (Condición Perfil) ► Tipo de 'preferencias_usuario': <class 'graph.perfil.state.PerfilUsuario'>\n",
      "--- DEBUG CHECK PERFIL ---\n",
      "Input prefs object: apasionado_motor='no' valora_estetica='no' coche_principal_hogar='no' uso_profesional='no' tipo_uso_profesional=None prefiere_diseno_exclusivo='no' altura_mayor_190='no' peso_mayor_100='no' transporta_carga_voluminosa='no' necesita_espacio_objetos_especiales=None arrastra_remolque='no' tiene_garage='sí' problemas_aparcar_calle=None espacio_sobra_garage='sí' problema_dimension_garage=None tiene_punto_carga_propio='no' aventura=<NivelAventura.ocasional: 'ocasional'> estilo_conduccion=<EstiloConduccion.TRANQUILO: 'tranquilo'> solo_electricos='no' prioriza_baja_depreciacion='no' transmision_preferida=<Transmision.AMBOS: 'ambos'> rating_fiabilidad_durabilidad=None rating_seguridad=None rating_comodidad=None rating_impacto_ambiental=None rating_tecnologia_conectividad=None rating_costes_uso=None\n",
      "Input prefs type: <class 'graph.perfil.state.PerfilUsuario'>\n",
      "DEBUG (Validation Perfil) ► Campo 'rating_fiabilidad_durabilidad' está vacío/None.\n",
      "DEBUG (Condición Perfil) ► Perfil INCOMPLETO. Se necesita pregunta.\n",
      "--- Ejecutando Nodo: preguntar_preferencias_node ---\n",
      "--- DEBUG CHECK PERFIL ---\n",
      "Input prefs object: apasionado_motor='no' valora_estetica='no' coche_principal_hogar='no' uso_profesional='no' tipo_uso_profesional=None prefiere_diseno_exclusivo='no' altura_mayor_190='no' peso_mayor_100='no' transporta_carga_voluminosa='no' necesita_espacio_objetos_especiales=None arrastra_remolque='no' tiene_garage='sí' problemas_aparcar_calle=None espacio_sobra_garage='sí' problema_dimension_garage=None tiene_punto_carga_propio='no' aventura=<NivelAventura.ocasional: 'ocasional'> estilo_conduccion=<EstiloConduccion.TRANQUILO: 'tranquilo'> solo_electricos='no' prioriza_baja_depreciacion='no' transmision_preferida=<Transmision.AMBOS: 'ambos'> rating_fiabilidad_durabilidad=None rating_seguridad=None rating_comodidad=None rating_impacto_ambiental=None rating_tecnologia_conectividad=None rating_costes_uso=None\n",
      "Input prefs type: <class 'graph.perfil.state.PerfilUsuario'>\n",
      "DEBUG (Validation Perfil) ► Campo 'rating_fiabilidad_durabilidad' está vacío/None.\n",
      "DEBUG (Preguntar Perfil) ► Perfil aún INCOMPLETO según checker.\n",
      "DEBUG (Preguntar Perfil) ► Pregunta fallback generada: En una escala de 0 (nada importante) a 10 (extremadamente importante), ¿qué tan importante es para ti la Fiabilidad y Durabilidad del coche?\n",
      "WARN (Preguntar Perfil) ► Nodo ejecutado para preguntar, pero no había mensaje pendiente válido. Generando pregunta fallback.\n",
      "DEBUG (Preguntar Perfil) ► Mensaje final añadido: En una escala de 0 (nada importante) a 10 (extremadamente importante), ¿qué tan importante es para ti la Fiabilidad y Durabilidad del coche?\n",
      "==================================\u001b[1m Ai Message \u001b[0m==================================\n",
      "\n",
      "En una escala de 0 (nada importante) a 10 (extremadamente importante), ¿qué tan importante es para ti la Fiabilidad y Durabilidad del coche?\n"
     ]
    }
   ],
   "source": [
    "# Create a thread\n",
    "config = {\"configurable\": {\"thread_id\": \"1\"}}\n",
    "\n",
    "# Start conversation\n",
    "input_message = HumanMessage(content=\"no\")\n",
    "output = graph.invoke({\"messages\": [input_message]}, config) \n",
    "for m in output['messages'][-1:]:\n",
    "    m.pretty_print()"
   ]
  },
  {
   "cell_type": "code",
   "execution_count": 19,
   "metadata": {},
   "outputs": [
    {
     "name": "stdout",
     "output_type": "stream",
     "text": [
      "--- Ejecutando Nodo: route_based_on_state_node ---\n",
      "\n",
      "--- DEBUG: Evaluating Routing Decision ---\n",
      "DEBUG Router: CP OK? True\n",
      "--- DEBUG CHECK PERFIL ---\n",
      "Input prefs object: apasionado_motor='no' valora_estetica='no' coche_principal_hogar='no' uso_profesional='no' tipo_uso_profesional=None prefiere_diseno_exclusivo='no' altura_mayor_190='no' peso_mayor_100='no' transporta_carga_voluminosa='no' necesita_espacio_objetos_especiales=None arrastra_remolque='no' tiene_garage='sí' problemas_aparcar_calle=None espacio_sobra_garage='sí' problema_dimension_garage=None tiene_punto_carga_propio='no' aventura=<NivelAventura.ocasional: 'ocasional'> estilo_conduccion=<EstiloConduccion.TRANQUILO: 'tranquilo'> solo_electricos='no' prioriza_baja_depreciacion='no' transmision_preferida=<Transmision.AMBOS: 'ambos'> rating_fiabilidad_durabilidad=None rating_seguridad=None rating_comodidad=None rating_impacto_ambiental=None rating_tecnologia_conectividad=None rating_costes_uso=None\n",
      "Input prefs type: <class 'graph.perfil.state.PerfilUsuario'>\n",
      "DEBUG (Validation Perfil) ► Campo 'rating_fiabilidad_durabilidad' está vacío/None.\n",
      "DEBUG Router: Prefs OK? False\n",
      "--- DEBUG CHECK PASAJEROS ---\n",
      "Input info pasajeros: None\n",
      "DEBUG (Validation Pasajeros) ► Objeto InfoPasajeros es None.\n",
      "DEBUG Router: Pasajeros OK? False\n",
      "DEBUG (Validation Filtros) ► Objeto FiltrosInferidos es None.\n",
      "DEBUG Router: Filtros OK? False\n",
      "--- DEBUG CHECK ECONOMIA (Manual) ---\n",
      "Input econ object: None\n",
      "DEBUG (Validation Economía Manual) ► Objeto EconomiaUsuario es None.\n",
      "DEBUG Router: Economía OK? False\n",
      "DEBUG Router: Pesos Calculados? False\n",
      "DEBUG Router: Coches Buscados? False\n",
      "--- DEBUG CHECK PERFIL ---\n",
      "Input prefs object: apasionado_motor='no' valora_estetica='no' coche_principal_hogar='no' uso_profesional='no' tipo_uso_profesional=None prefiere_diseno_exclusivo='no' altura_mayor_190='no' peso_mayor_100='no' transporta_carga_voluminosa='no' necesita_espacio_objetos_especiales=None arrastra_remolque='no' tiene_garage='sí' problemas_aparcar_calle=None espacio_sobra_garage='sí' problema_dimension_garage=None tiene_punto_carga_propio='no' aventura=<NivelAventura.ocasional: 'ocasional'> estilo_conduccion=<EstiloConduccion.TRANQUILO: 'tranquilo'> solo_electricos='no' prioriza_baja_depreciacion='no' transmision_preferida=<Transmision.AMBOS: 'ambos'> rating_fiabilidad_durabilidad=None rating_seguridad=None rating_comodidad=None rating_impacto_ambiental=None rating_tecnologia_conectividad=None rating_costes_uso=None\n",
      "Input prefs type: <class 'graph.perfil.state.PerfilUsuario'>\n",
      "DEBUG (Validation Perfil) ► Campo 'rating_fiabilidad_durabilidad' está vacío/None.\n",
      "DEBUG Router: Decisión -> recopilar_preferencias\n",
      "--- Ejecutando Nodo: recopilar_preferencias_node ---\n",
      "DEBUG (Perfil) ► Último mensaje es HumanMessage o historial vacío, llamando a llm_solo_perfil...\n"
     ]
    },
    {
     "name": "stderr",
     "output_type": "stream",
     "text": [
      "INFO:httpx:HTTP Request: POST https://api.openai.com/v1/chat/completions \"HTTP/1.1 200 OK\"\n"
     ]
    },
    {
     "name": "stdout",
     "output_type": "stream",
     "text": [
      "DEBUG (Perfil) ► Respuesta llm_solo_perfil: preferencias_usuario=PerfilUsuario(apasionado_motor='no', valora_estetica='no', coche_principal_hogar='no', uso_profesional='no', tipo_uso_profesional=None, prefiere_diseno_exclusivo='no', altura_mayor_190='no', peso_mayor_100='no', transporta_carga_voluminosa='no', necesita_espacio_objetos_especiales=None, arrastra_remolque='no', tiene_garage='sí', problemas_aparcar_calle=None, espacio_sobra_garage='sí', problema_dimension_garage=None, tiene_punto_carga_propio='no', aventura=<NivelAventura.ocasional: 'ocasional'>, estilo_conduccion=<EstiloConduccion.TRANQUILO: 'tranquilo'>, solo_electricos='no', prioriza_baja_depreciacion='no', transmision_preferida=<Transmision.AMBOS: 'ambos'>, rating_fiabilidad_durabilidad=7, rating_seguridad=None, rating_comodidad=None, rating_impacto_ambiental=None, rating_tecnologia_conectividad=None, rating_costes_uso=None) tipo_mensaje='CONFIRMACION' contenido_mensaje=''\n",
      "DEBUG (Perfil) ► Preferencias TRAS post-procesamiento: apasionado_motor='no' valora_estetica='no' coche_principal_hogar='no' uso_profesional='no' tipo_uso_profesional=None prefiere_diseno_exclusivo='no' altura_mayor_190='no' peso_mayor_100='no' transporta_carga_voluminosa='no' necesita_espacio_objetos_especiales=None arrastra_remolque='no' tiene_garage='sí' problemas_aparcar_calle=None espacio_sobra_garage='sí' problema_dimension_garage=None tiene_punto_carga_propio='no' aventura=<NivelAventura.ocasional: 'ocasional'> estilo_conduccion=<EstiloConduccion.TRANQUILO: 'tranquilo'> solo_electricos='no' prioriza_baja_depreciacion='no' transmision_preferida=<Transmision.AMBOS: 'ambos'> rating_fiabilidad_durabilidad=7 rating_seguridad=None rating_comodidad=None rating_impacto_ambiental=None rating_tecnologia_conectividad=None rating_costes_uso=None\n",
      "DEBUG (Perfil) ► Estado preferencias_usuario actualizado: apasionado_motor='no' valora_estetica='no' coche_principal_hogar='no' uso_profesional='no' tipo_uso_profesional=None prefiere_diseno_exclusivo='no' altura_mayor_190='no' peso_mayor_100='no' transporta_carga_voluminosa='no' necesita_espacio_objetos_especiales=None arrastra_remolque='no' tiene_garage='sí' problemas_aparcar_calle=None espacio_sobra_garage='sí' problema_dimension_garage=None tiene_punto_carga_propio='no' aventura=<NivelAventura.ocasional: 'ocasional'> estilo_conduccion=<EstiloConduccion.TRANQUILO: 'tranquilo'> solo_electricos='no' prioriza_baja_depreciacion='no' transmision_preferida=<Transmision.AMBOS: 'ambos'> rating_fiabilidad_durabilidad=7 rating_seguridad=None rating_comodidad=None rating_impacto_ambiental=None rating_tecnologia_conectividad=None rating_costes_uso=None\n",
      "DEBUG (Perfil) ► No hay mensaje pendiente.\n",
      "--- Ejecutando Nodo: validar_preferencias_node ---\n",
      "--- DEBUG CHECK PERFIL ---\n",
      "Input prefs object: apasionado_motor='no' valora_estetica='no' coche_principal_hogar='no' uso_profesional='no' tipo_uso_profesional=None prefiere_diseno_exclusivo='no' altura_mayor_190='no' peso_mayor_100='no' transporta_carga_voluminosa='no' necesita_espacio_objetos_especiales=None arrastra_remolque='no' tiene_garage='sí' problemas_aparcar_calle=None espacio_sobra_garage='sí' problema_dimension_garage=None tiene_punto_carga_propio='no' aventura=<NivelAventura.ocasional: 'ocasional'> estilo_conduccion=<EstiloConduccion.TRANQUILO: 'tranquilo'> solo_electricos='no' prioriza_baja_depreciacion='no' transmision_preferida=<Transmision.AMBOS: 'ambos'> rating_fiabilidad_durabilidad=7 rating_seguridad=None rating_comodidad=None rating_impacto_ambiental=None rating_tecnologia_conectividad=None rating_costes_uso=None\n",
      "Input prefs type: <class 'graph.perfil.state.PerfilUsuario'>\n",
      "DEBUG (Validation Perfil) ► Campo 'rating_seguridad' está vacío/None.\n",
      "DEBUG (Perfil) ► Validación: PerfilUsuario considerado INCOMPLETO.\n",
      "--- Evaluando Condición: ruta_decision_perfil ---\n",
      "DEBUG (Condición Perfil) ► Estado 'preferencias_usuario' recibido: apasionado_motor='no' valora_estetica='no' coche_principal_hogar='no' uso_profesional='no' tipo_uso_profesional=None prefiere_diseno_exclusivo='no' altura_mayor_190='no' peso_mayor_100='no' transporta_carga_voluminosa='no' necesita_espacio_objetos_especiales=None arrastra_remolque='no' tiene_garage='sí' problemas_aparcar_calle=None espacio_sobra_garage='sí' problema_dimension_garage=None tiene_punto_carga_propio='no' aventura=<NivelAventura.ocasional: 'ocasional'> estilo_conduccion=<EstiloConduccion.TRANQUILO: 'tranquilo'> solo_electricos='no' prioriza_baja_depreciacion='no' transmision_preferida=<Transmision.AMBOS: 'ambos'> rating_fiabilidad_durabilidad=7 rating_seguridad=None rating_comodidad=None rating_impacto_ambiental=None rating_tecnologia_conectividad=None rating_costes_uso=None\n",
      "DEBUG (Condición Perfil) ► Tipo de 'preferencias_usuario': <class 'graph.perfil.state.PerfilUsuario'>\n",
      "--- DEBUG CHECK PERFIL ---\n",
      "Input prefs object: apasionado_motor='no' valora_estetica='no' coche_principal_hogar='no' uso_profesional='no' tipo_uso_profesional=None prefiere_diseno_exclusivo='no' altura_mayor_190='no' peso_mayor_100='no' transporta_carga_voluminosa='no' necesita_espacio_objetos_especiales=None arrastra_remolque='no' tiene_garage='sí' problemas_aparcar_calle=None espacio_sobra_garage='sí' problema_dimension_garage=None tiene_punto_carga_propio='no' aventura=<NivelAventura.ocasional: 'ocasional'> estilo_conduccion=<EstiloConduccion.TRANQUILO: 'tranquilo'> solo_electricos='no' prioriza_baja_depreciacion='no' transmision_preferida=<Transmision.AMBOS: 'ambos'> rating_fiabilidad_durabilidad=7 rating_seguridad=None rating_comodidad=None rating_impacto_ambiental=None rating_tecnologia_conectividad=None rating_costes_uso=None\n",
      "Input prefs type: <class 'graph.perfil.state.PerfilUsuario'>\n",
      "DEBUG (Validation Perfil) ► Campo 'rating_seguridad' está vacío/None.\n",
      "DEBUG (Condición Perfil) ► Perfil INCOMPLETO. Se necesita pregunta.\n",
      "--- Ejecutando Nodo: preguntar_preferencias_node ---\n",
      "--- DEBUG CHECK PERFIL ---\n",
      "Input prefs object: apasionado_motor='no' valora_estetica='no' coche_principal_hogar='no' uso_profesional='no' tipo_uso_profesional=None prefiere_diseno_exclusivo='no' altura_mayor_190='no' peso_mayor_100='no' transporta_carga_voluminosa='no' necesita_espacio_objetos_especiales=None arrastra_remolque='no' tiene_garage='sí' problemas_aparcar_calle=None espacio_sobra_garage='sí' problema_dimension_garage=None tiene_punto_carga_propio='no' aventura=<NivelAventura.ocasional: 'ocasional'> estilo_conduccion=<EstiloConduccion.TRANQUILO: 'tranquilo'> solo_electricos='no' prioriza_baja_depreciacion='no' transmision_preferida=<Transmision.AMBOS: 'ambos'> rating_fiabilidad_durabilidad=7 rating_seguridad=None rating_comodidad=None rating_impacto_ambiental=None rating_tecnologia_conectividad=None rating_costes_uso=None\n",
      "Input prefs type: <class 'graph.perfil.state.PerfilUsuario'>\n",
      "DEBUG (Validation Perfil) ► Campo 'rating_seguridad' está vacío/None.\n",
      "DEBUG (Preguntar Perfil) ► Perfil aún INCOMPLETO según checker.\n",
      "DEBUG (Preguntar Perfil) ► Pregunta fallback generada: Pensando en la Seguridad, ¿qué puntuación le darías en importancia (0-10)?\n",
      "WARN (Preguntar Perfil) ► Nodo ejecutado para preguntar, pero no había mensaje pendiente válido. Generando pregunta fallback.\n",
      "DEBUG (Preguntar Perfil) ► Mensaje final añadido: Pensando en la Seguridad, ¿qué puntuación le darías en importancia (0-10)?\n",
      "==================================\u001b[1m Ai Message \u001b[0m==================================\n",
      "\n",
      "Pensando en la Seguridad, ¿qué puntuación le darías en importancia (0-10)?\n"
     ]
    }
   ],
   "source": [
    "# Create a thread\n",
    "config = {\"configurable\": {\"thread_id\": \"1\"}}\n",
    "\n",
    "# Start conversation\n",
    "input_message = HumanMessage(content=\"7\")\n",
    "output = graph.invoke({\"messages\": [input_message]}, config) \n",
    "for m in output['messages'][-1:]:\n",
    "    m.pretty_print()"
   ]
  },
  {
   "cell_type": "code",
   "execution_count": 20,
   "metadata": {},
   "outputs": [
    {
     "name": "stdout",
     "output_type": "stream",
     "text": [
      "--- Ejecutando Nodo: route_based_on_state_node ---\n",
      "\n",
      "--- DEBUG: Evaluating Routing Decision ---\n",
      "DEBUG Router: CP OK? True\n",
      "--- DEBUG CHECK PERFIL ---\n",
      "Input prefs object: apasionado_motor='no' valora_estetica='no' coche_principal_hogar='no' uso_profesional='no' tipo_uso_profesional=None prefiere_diseno_exclusivo='no' altura_mayor_190='no' peso_mayor_100='no' transporta_carga_voluminosa='no' necesita_espacio_objetos_especiales=None arrastra_remolque='no' tiene_garage='sí' problemas_aparcar_calle=None espacio_sobra_garage='sí' problema_dimension_garage=None tiene_punto_carga_propio='no' aventura=<NivelAventura.ocasional: 'ocasional'> estilo_conduccion=<EstiloConduccion.TRANQUILO: 'tranquilo'> solo_electricos='no' prioriza_baja_depreciacion='no' transmision_preferida=<Transmision.AMBOS: 'ambos'> rating_fiabilidad_durabilidad=7 rating_seguridad=None rating_comodidad=None rating_impacto_ambiental=None rating_tecnologia_conectividad=None rating_costes_uso=None\n",
      "Input prefs type: <class 'graph.perfil.state.PerfilUsuario'>\n",
      "DEBUG (Validation Perfil) ► Campo 'rating_seguridad' está vacío/None.\n",
      "DEBUG Router: Prefs OK? False\n",
      "--- DEBUG CHECK PASAJEROS ---\n",
      "Input info pasajeros: None\n",
      "DEBUG (Validation Pasajeros) ► Objeto InfoPasajeros es None.\n",
      "DEBUG Router: Pasajeros OK? False\n",
      "DEBUG (Validation Filtros) ► Objeto FiltrosInferidos es None.\n",
      "DEBUG Router: Filtros OK? False\n",
      "--- DEBUG CHECK ECONOMIA (Manual) ---\n",
      "Input econ object: None\n",
      "DEBUG (Validation Economía Manual) ► Objeto EconomiaUsuario es None.\n",
      "DEBUG Router: Economía OK? False\n",
      "DEBUG Router: Pesos Calculados? False\n",
      "DEBUG Router: Coches Buscados? False\n",
      "--- DEBUG CHECK PERFIL ---\n",
      "Input prefs object: apasionado_motor='no' valora_estetica='no' coche_principal_hogar='no' uso_profesional='no' tipo_uso_profesional=None prefiere_diseno_exclusivo='no' altura_mayor_190='no' peso_mayor_100='no' transporta_carga_voluminosa='no' necesita_espacio_objetos_especiales=None arrastra_remolque='no' tiene_garage='sí' problemas_aparcar_calle=None espacio_sobra_garage='sí' problema_dimension_garage=None tiene_punto_carga_propio='no' aventura=<NivelAventura.ocasional: 'ocasional'> estilo_conduccion=<EstiloConduccion.TRANQUILO: 'tranquilo'> solo_electricos='no' prioriza_baja_depreciacion='no' transmision_preferida=<Transmision.AMBOS: 'ambos'> rating_fiabilidad_durabilidad=7 rating_seguridad=None rating_comodidad=None rating_impacto_ambiental=None rating_tecnologia_conectividad=None rating_costes_uso=None\n",
      "Input prefs type: <class 'graph.perfil.state.PerfilUsuario'>\n",
      "DEBUG (Validation Perfil) ► Campo 'rating_seguridad' está vacío/None.\n",
      "DEBUG Router: Decisión -> recopilar_preferencias\n",
      "--- Ejecutando Nodo: recopilar_preferencias_node ---\n",
      "DEBUG (Perfil) ► Último mensaje es HumanMessage o historial vacío, llamando a llm_solo_perfil...\n"
     ]
    },
    {
     "name": "stderr",
     "output_type": "stream",
     "text": [
      "INFO:httpx:HTTP Request: POST https://api.openai.com/v1/chat/completions \"HTTP/1.1 200 OK\"\n"
     ]
    },
    {
     "name": "stdout",
     "output_type": "stream",
     "text": [
      "DEBUG (Perfil) ► Respuesta llm_solo_perfil: preferencias_usuario=PerfilUsuario(apasionado_motor='no', valora_estetica='no', coche_principal_hogar='no', uso_profesional='no', tipo_uso_profesional=None, prefiere_diseno_exclusivo='no', altura_mayor_190='no', peso_mayor_100='no', transporta_carga_voluminosa='no', necesita_espacio_objetos_especiales=None, arrastra_remolque='no', tiene_garage='sí', problemas_aparcar_calle=None, espacio_sobra_garage='sí', problema_dimension_garage=None, tiene_punto_carga_propio='no', aventura=<NivelAventura.ocasional: 'ocasional'>, estilo_conduccion=<EstiloConduccion.TRANQUILO: 'tranquilo'>, solo_electricos='no', prioriza_baja_depreciacion='no', transmision_preferida=<Transmision.AMBOS: 'ambos'>, rating_fiabilidad_durabilidad=7, rating_seguridad=7, rating_comodidad=None, rating_impacto_ambiental=None, rating_tecnologia_conectividad=None, rating_costes_uso=None) tipo_mensaje='CONFIRMACION' contenido_mensaje=''\n",
      "DEBUG (Perfil) ► Preferencias TRAS post-procesamiento: apasionado_motor='no' valora_estetica='no' coche_principal_hogar='no' uso_profesional='no' tipo_uso_profesional=None prefiere_diseno_exclusivo='no' altura_mayor_190='no' peso_mayor_100='no' transporta_carga_voluminosa='no' necesita_espacio_objetos_especiales=None arrastra_remolque='no' tiene_garage='sí' problemas_aparcar_calle=None espacio_sobra_garage='sí' problema_dimension_garage=None tiene_punto_carga_propio='no' aventura=<NivelAventura.ocasional: 'ocasional'> estilo_conduccion=<EstiloConduccion.TRANQUILO: 'tranquilo'> solo_electricos='no' prioriza_baja_depreciacion='no' transmision_preferida=<Transmision.AMBOS: 'ambos'> rating_fiabilidad_durabilidad=7 rating_seguridad=7 rating_comodidad=None rating_impacto_ambiental=None rating_tecnologia_conectividad=None rating_costes_uso=None\n",
      "DEBUG (Perfil) ► Estado preferencias_usuario actualizado: apasionado_motor='no' valora_estetica='no' coche_principal_hogar='no' uso_profesional='no' tipo_uso_profesional=None prefiere_diseno_exclusivo='no' altura_mayor_190='no' peso_mayor_100='no' transporta_carga_voluminosa='no' necesita_espacio_objetos_especiales=None arrastra_remolque='no' tiene_garage='sí' problemas_aparcar_calle=None espacio_sobra_garage='sí' problema_dimension_garage=None tiene_punto_carga_propio='no' aventura=<NivelAventura.ocasional: 'ocasional'> estilo_conduccion=<EstiloConduccion.TRANQUILO: 'tranquilo'> solo_electricos='no' prioriza_baja_depreciacion='no' transmision_preferida=<Transmision.AMBOS: 'ambos'> rating_fiabilidad_durabilidad=7 rating_seguridad=7 rating_comodidad=None rating_impacto_ambiental=None rating_tecnologia_conectividad=None rating_costes_uso=None\n",
      "DEBUG (Perfil) ► No hay mensaje pendiente.\n",
      "--- Ejecutando Nodo: validar_preferencias_node ---\n",
      "--- DEBUG CHECK PERFIL ---\n",
      "Input prefs object: apasionado_motor='no' valora_estetica='no' coche_principal_hogar='no' uso_profesional='no' tipo_uso_profesional=None prefiere_diseno_exclusivo='no' altura_mayor_190='no' peso_mayor_100='no' transporta_carga_voluminosa='no' necesita_espacio_objetos_especiales=None arrastra_remolque='no' tiene_garage='sí' problemas_aparcar_calle=None espacio_sobra_garage='sí' problema_dimension_garage=None tiene_punto_carga_propio='no' aventura=<NivelAventura.ocasional: 'ocasional'> estilo_conduccion=<EstiloConduccion.TRANQUILO: 'tranquilo'> solo_electricos='no' prioriza_baja_depreciacion='no' transmision_preferida=<Transmision.AMBOS: 'ambos'> rating_fiabilidad_durabilidad=7 rating_seguridad=7 rating_comodidad=None rating_impacto_ambiental=None rating_tecnologia_conectividad=None rating_costes_uso=None\n",
      "Input prefs type: <class 'graph.perfil.state.PerfilUsuario'>\n",
      "DEBUG (Validation Perfil) ► Campo 'rating_comodidad' está vacío/None.\n",
      "DEBUG (Perfil) ► Validación: PerfilUsuario considerado INCOMPLETO.\n",
      "--- Evaluando Condición: ruta_decision_perfil ---\n",
      "DEBUG (Condición Perfil) ► Estado 'preferencias_usuario' recibido: apasionado_motor='no' valora_estetica='no' coche_principal_hogar='no' uso_profesional='no' tipo_uso_profesional=None prefiere_diseno_exclusivo='no' altura_mayor_190='no' peso_mayor_100='no' transporta_carga_voluminosa='no' necesita_espacio_objetos_especiales=None arrastra_remolque='no' tiene_garage='sí' problemas_aparcar_calle=None espacio_sobra_garage='sí' problema_dimension_garage=None tiene_punto_carga_propio='no' aventura=<NivelAventura.ocasional: 'ocasional'> estilo_conduccion=<EstiloConduccion.TRANQUILO: 'tranquilo'> solo_electricos='no' prioriza_baja_depreciacion='no' transmision_preferida=<Transmision.AMBOS: 'ambos'> rating_fiabilidad_durabilidad=7 rating_seguridad=7 rating_comodidad=None rating_impacto_ambiental=None rating_tecnologia_conectividad=None rating_costes_uso=None\n",
      "DEBUG (Condición Perfil) ► Tipo de 'preferencias_usuario': <class 'graph.perfil.state.PerfilUsuario'>\n",
      "--- DEBUG CHECK PERFIL ---\n",
      "Input prefs object: apasionado_motor='no' valora_estetica='no' coche_principal_hogar='no' uso_profesional='no' tipo_uso_profesional=None prefiere_diseno_exclusivo='no' altura_mayor_190='no' peso_mayor_100='no' transporta_carga_voluminosa='no' necesita_espacio_objetos_especiales=None arrastra_remolque='no' tiene_garage='sí' problemas_aparcar_calle=None espacio_sobra_garage='sí' problema_dimension_garage=None tiene_punto_carga_propio='no' aventura=<NivelAventura.ocasional: 'ocasional'> estilo_conduccion=<EstiloConduccion.TRANQUILO: 'tranquilo'> solo_electricos='no' prioriza_baja_depreciacion='no' transmision_preferida=<Transmision.AMBOS: 'ambos'> rating_fiabilidad_durabilidad=7 rating_seguridad=7 rating_comodidad=None rating_impacto_ambiental=None rating_tecnologia_conectividad=None rating_costes_uso=None\n",
      "Input prefs type: <class 'graph.perfil.state.PerfilUsuario'>\n",
      "DEBUG (Validation Perfil) ► Campo 'rating_comodidad' está vacío/None.\n",
      "DEBUG (Condición Perfil) ► Perfil INCOMPLETO. Se necesita pregunta.\n",
      "--- Ejecutando Nodo: preguntar_preferencias_node ---\n",
      "--- DEBUG CHECK PERFIL ---\n",
      "Input prefs object: apasionado_motor='no' valora_estetica='no' coche_principal_hogar='no' uso_profesional='no' tipo_uso_profesional=None prefiere_diseno_exclusivo='no' altura_mayor_190='no' peso_mayor_100='no' transporta_carga_voluminosa='no' necesita_espacio_objetos_especiales=None arrastra_remolque='no' tiene_garage='sí' problemas_aparcar_calle=None espacio_sobra_garage='sí' problema_dimension_garage=None tiene_punto_carga_propio='no' aventura=<NivelAventura.ocasional: 'ocasional'> estilo_conduccion=<EstiloConduccion.TRANQUILO: 'tranquilo'> solo_electricos='no' prioriza_baja_depreciacion='no' transmision_preferida=<Transmision.AMBOS: 'ambos'> rating_fiabilidad_durabilidad=7 rating_seguridad=7 rating_comodidad=None rating_impacto_ambiental=None rating_tecnologia_conectividad=None rating_costes_uso=None\n",
      "Input prefs type: <class 'graph.perfil.state.PerfilUsuario'>\n",
      "DEBUG (Validation Perfil) ► Campo 'rating_comodidad' está vacío/None.\n",
      "DEBUG (Preguntar Perfil) ► Perfil aún INCOMPLETO según checker.\n",
      "DEBUG (Preguntar Perfil) ► Pregunta fallback generada: Y en cuanto a la comodidad y confort del vehiculo que tan importante es que se maximice? (0-10)\n",
      "WARN (Preguntar Perfil) ► Nodo ejecutado para preguntar, pero no había mensaje pendiente válido. Generando pregunta fallback.\n",
      "DEBUG (Preguntar Perfil) ► Mensaje final añadido: Y en cuanto a la comodidad y confort del vehiculo que tan importante es que se maximice? (0-10)\n",
      "==================================\u001b[1m Ai Message \u001b[0m==================================\n",
      "\n",
      "Y en cuanto a la comodidad y confort del vehiculo que tan importante es que se maximice? (0-10)\n"
     ]
    }
   ],
   "source": [
    "# Create a thread\n",
    "config = {\"configurable\": {\"thread_id\": \"1\"}}\n",
    "\n",
    "# Start conversation\n",
    "input_message = HumanMessage(content=\"7\")\n",
    "output = graph.invoke({\"messages\": [input_message]}, config) \n",
    "for m in output['messages'][-1:]:\n",
    "    m.pretty_print()"
   ]
  },
  {
   "cell_type": "code",
   "execution_count": 21,
   "metadata": {},
   "outputs": [
    {
     "name": "stdout",
     "output_type": "stream",
     "text": [
      "--- Ejecutando Nodo: route_based_on_state_node ---\n",
      "\n",
      "--- DEBUG: Evaluating Routing Decision ---\n",
      "DEBUG Router: CP OK? True\n",
      "--- DEBUG CHECK PERFIL ---\n",
      "Input prefs object: apasionado_motor='no' valora_estetica='no' coche_principal_hogar='no' uso_profesional='no' tipo_uso_profesional=None prefiere_diseno_exclusivo='no' altura_mayor_190='no' peso_mayor_100='no' transporta_carga_voluminosa='no' necesita_espacio_objetos_especiales=None arrastra_remolque='no' tiene_garage='sí' problemas_aparcar_calle=None espacio_sobra_garage='sí' problema_dimension_garage=None tiene_punto_carga_propio='no' aventura=<NivelAventura.ocasional: 'ocasional'> estilo_conduccion=<EstiloConduccion.TRANQUILO: 'tranquilo'> solo_electricos='no' prioriza_baja_depreciacion='no' transmision_preferida=<Transmision.AMBOS: 'ambos'> rating_fiabilidad_durabilidad=7 rating_seguridad=7 rating_comodidad=None rating_impacto_ambiental=None rating_tecnologia_conectividad=None rating_costes_uso=None\n",
      "Input prefs type: <class 'graph.perfil.state.PerfilUsuario'>\n",
      "DEBUG (Validation Perfil) ► Campo 'rating_comodidad' está vacío/None.\n",
      "DEBUG Router: Prefs OK? False\n",
      "--- DEBUG CHECK PASAJEROS ---\n",
      "Input info pasajeros: None\n",
      "DEBUG (Validation Pasajeros) ► Objeto InfoPasajeros es None.\n",
      "DEBUG Router: Pasajeros OK? False\n",
      "DEBUG (Validation Filtros) ► Objeto FiltrosInferidos es None.\n",
      "DEBUG Router: Filtros OK? False\n",
      "--- DEBUG CHECK ECONOMIA (Manual) ---\n",
      "Input econ object: None\n",
      "DEBUG (Validation Economía Manual) ► Objeto EconomiaUsuario es None.\n",
      "DEBUG Router: Economía OK? False\n",
      "DEBUG Router: Pesos Calculados? False\n",
      "DEBUG Router: Coches Buscados? False\n",
      "--- DEBUG CHECK PERFIL ---\n",
      "Input prefs object: apasionado_motor='no' valora_estetica='no' coche_principal_hogar='no' uso_profesional='no' tipo_uso_profesional=None prefiere_diseno_exclusivo='no' altura_mayor_190='no' peso_mayor_100='no' transporta_carga_voluminosa='no' necesita_espacio_objetos_especiales=None arrastra_remolque='no' tiene_garage='sí' problemas_aparcar_calle=None espacio_sobra_garage='sí' problema_dimension_garage=None tiene_punto_carga_propio='no' aventura=<NivelAventura.ocasional: 'ocasional'> estilo_conduccion=<EstiloConduccion.TRANQUILO: 'tranquilo'> solo_electricos='no' prioriza_baja_depreciacion='no' transmision_preferida=<Transmision.AMBOS: 'ambos'> rating_fiabilidad_durabilidad=7 rating_seguridad=7 rating_comodidad=None rating_impacto_ambiental=None rating_tecnologia_conectividad=None rating_costes_uso=None\n",
      "Input prefs type: <class 'graph.perfil.state.PerfilUsuario'>\n",
      "DEBUG (Validation Perfil) ► Campo 'rating_comodidad' está vacío/None.\n",
      "DEBUG Router: Decisión -> recopilar_preferencias\n",
      "--- Ejecutando Nodo: recopilar_preferencias_node ---\n",
      "DEBUG (Perfil) ► Último mensaje es HumanMessage o historial vacío, llamando a llm_solo_perfil...\n"
     ]
    },
    {
     "name": "stderr",
     "output_type": "stream",
     "text": [
      "INFO:httpx:HTTP Request: POST https://api.openai.com/v1/chat/completions \"HTTP/1.1 200 OK\"\n"
     ]
    },
    {
     "name": "stdout",
     "output_type": "stream",
     "text": [
      "DEBUG (Perfil) ► Respuesta llm_solo_perfil: preferencias_usuario=PerfilUsuario(apasionado_motor='no', valora_estetica='no', coche_principal_hogar='no', uso_profesional='no', tipo_uso_profesional=None, prefiere_diseno_exclusivo='no', altura_mayor_190='no', peso_mayor_100='no', transporta_carga_voluminosa='no', necesita_espacio_objetos_especiales=None, arrastra_remolque='no', tiene_garage='sí', problemas_aparcar_calle=None, espacio_sobra_garage='sí', problema_dimension_garage=None, tiene_punto_carga_propio='no', aventura=<NivelAventura.ocasional: 'ocasional'>, estilo_conduccion=<EstiloConduccion.TRANQUILO: 'tranquilo'>, solo_electricos='no', prioriza_baja_depreciacion='no', transmision_preferida=<Transmision.AMBOS: 'ambos'>, rating_fiabilidad_durabilidad=7, rating_seguridad=7, rating_comodidad=7, rating_impacto_ambiental=None, rating_tecnologia_conectividad=None, rating_costes_uso=None) tipo_mensaje='CONFIRMACION' contenido_mensaje=''\n",
      "DEBUG (Perfil) ► Preferencias TRAS post-procesamiento: apasionado_motor='no' valora_estetica='no' coche_principal_hogar='no' uso_profesional='no' tipo_uso_profesional=None prefiere_diseno_exclusivo='no' altura_mayor_190='no' peso_mayor_100='no' transporta_carga_voluminosa='no' necesita_espacio_objetos_especiales=None arrastra_remolque='no' tiene_garage='sí' problemas_aparcar_calle=None espacio_sobra_garage='sí' problema_dimension_garage=None tiene_punto_carga_propio='no' aventura=<NivelAventura.ocasional: 'ocasional'> estilo_conduccion=<EstiloConduccion.TRANQUILO: 'tranquilo'> solo_electricos='no' prioriza_baja_depreciacion='no' transmision_preferida=<Transmision.AMBOS: 'ambos'> rating_fiabilidad_durabilidad=7 rating_seguridad=7 rating_comodidad=7 rating_impacto_ambiental=None rating_tecnologia_conectividad=None rating_costes_uso=None\n",
      "DEBUG (Perfil) ► Estado preferencias_usuario actualizado: apasionado_motor='no' valora_estetica='no' coche_principal_hogar='no' uso_profesional='no' tipo_uso_profesional=None prefiere_diseno_exclusivo='no' altura_mayor_190='no' peso_mayor_100='no' transporta_carga_voluminosa='no' necesita_espacio_objetos_especiales=None arrastra_remolque='no' tiene_garage='sí' problemas_aparcar_calle=None espacio_sobra_garage='sí' problema_dimension_garage=None tiene_punto_carga_propio='no' aventura=<NivelAventura.ocasional: 'ocasional'> estilo_conduccion=<EstiloConduccion.TRANQUILO: 'tranquilo'> solo_electricos='no' prioriza_baja_depreciacion='no' transmision_preferida=<Transmision.AMBOS: 'ambos'> rating_fiabilidad_durabilidad=7 rating_seguridad=7 rating_comodidad=7 rating_impacto_ambiental=None rating_tecnologia_conectividad=None rating_costes_uso=None\n",
      "DEBUG (Perfil) ► No hay mensaje pendiente.\n",
      "--- Ejecutando Nodo: validar_preferencias_node ---\n",
      "--- DEBUG CHECK PERFIL ---\n",
      "Input prefs object: apasionado_motor='no' valora_estetica='no' coche_principal_hogar='no' uso_profesional='no' tipo_uso_profesional=None prefiere_diseno_exclusivo='no' altura_mayor_190='no' peso_mayor_100='no' transporta_carga_voluminosa='no' necesita_espacio_objetos_especiales=None arrastra_remolque='no' tiene_garage='sí' problemas_aparcar_calle=None espacio_sobra_garage='sí' problema_dimension_garage=None tiene_punto_carga_propio='no' aventura=<NivelAventura.ocasional: 'ocasional'> estilo_conduccion=<EstiloConduccion.TRANQUILO: 'tranquilo'> solo_electricos='no' prioriza_baja_depreciacion='no' transmision_preferida=<Transmision.AMBOS: 'ambos'> rating_fiabilidad_durabilidad=7 rating_seguridad=7 rating_comodidad=7 rating_impacto_ambiental=None rating_tecnologia_conectividad=None rating_costes_uso=None\n",
      "Input prefs type: <class 'graph.perfil.state.PerfilUsuario'>\n",
      "DEBUG (Validation Perfil) ► Campo 'rating_impacto_ambiental' está vacío/None.\n",
      "DEBUG (Perfil) ► Validación: PerfilUsuario considerado INCOMPLETO.\n",
      "--- Evaluando Condición: ruta_decision_perfil ---\n",
      "DEBUG (Condición Perfil) ► Estado 'preferencias_usuario' recibido: apasionado_motor='no' valora_estetica='no' coche_principal_hogar='no' uso_profesional='no' tipo_uso_profesional=None prefiere_diseno_exclusivo='no' altura_mayor_190='no' peso_mayor_100='no' transporta_carga_voluminosa='no' necesita_espacio_objetos_especiales=None arrastra_remolque='no' tiene_garage='sí' problemas_aparcar_calle=None espacio_sobra_garage='sí' problema_dimension_garage=None tiene_punto_carga_propio='no' aventura=<NivelAventura.ocasional: 'ocasional'> estilo_conduccion=<EstiloConduccion.TRANQUILO: 'tranquilo'> solo_electricos='no' prioriza_baja_depreciacion='no' transmision_preferida=<Transmision.AMBOS: 'ambos'> rating_fiabilidad_durabilidad=7 rating_seguridad=7 rating_comodidad=7 rating_impacto_ambiental=None rating_tecnologia_conectividad=None rating_costes_uso=None\n",
      "DEBUG (Condición Perfil) ► Tipo de 'preferencias_usuario': <class 'graph.perfil.state.PerfilUsuario'>\n",
      "--- DEBUG CHECK PERFIL ---\n",
      "Input prefs object: apasionado_motor='no' valora_estetica='no' coche_principal_hogar='no' uso_profesional='no' tipo_uso_profesional=None prefiere_diseno_exclusivo='no' altura_mayor_190='no' peso_mayor_100='no' transporta_carga_voluminosa='no' necesita_espacio_objetos_especiales=None arrastra_remolque='no' tiene_garage='sí' problemas_aparcar_calle=None espacio_sobra_garage='sí' problema_dimension_garage=None tiene_punto_carga_propio='no' aventura=<NivelAventura.ocasional: 'ocasional'> estilo_conduccion=<EstiloConduccion.TRANQUILO: 'tranquilo'> solo_electricos='no' prioriza_baja_depreciacion='no' transmision_preferida=<Transmision.AMBOS: 'ambos'> rating_fiabilidad_durabilidad=7 rating_seguridad=7 rating_comodidad=7 rating_impacto_ambiental=None rating_tecnologia_conectividad=None rating_costes_uso=None\n",
      "Input prefs type: <class 'graph.perfil.state.PerfilUsuario'>\n",
      "DEBUG (Validation Perfil) ► Campo 'rating_impacto_ambiental' está vacío/None.\n",
      "DEBUG (Condición Perfil) ► Perfil INCOMPLETO. Se necesita pregunta.\n",
      "--- Ejecutando Nodo: preguntar_preferencias_node ---\n",
      "--- DEBUG CHECK PERFIL ---\n",
      "Input prefs object: apasionado_motor='no' valora_estetica='no' coche_principal_hogar='no' uso_profesional='no' tipo_uso_profesional=None prefiere_diseno_exclusivo='no' altura_mayor_190='no' peso_mayor_100='no' transporta_carga_voluminosa='no' necesita_espacio_objetos_especiales=None arrastra_remolque='no' tiene_garage='sí' problemas_aparcar_calle=None espacio_sobra_garage='sí' problema_dimension_garage=None tiene_punto_carga_propio='no' aventura=<NivelAventura.ocasional: 'ocasional'> estilo_conduccion=<EstiloConduccion.TRANQUILO: 'tranquilo'> solo_electricos='no' prioriza_baja_depreciacion='no' transmision_preferida=<Transmision.AMBOS: 'ambos'> rating_fiabilidad_durabilidad=7 rating_seguridad=7 rating_comodidad=7 rating_impacto_ambiental=None rating_tecnologia_conectividad=None rating_costes_uso=None\n",
      "Input prefs type: <class 'graph.perfil.state.PerfilUsuario'>\n",
      "DEBUG (Validation Perfil) ► Campo 'rating_impacto_ambiental' está vacío/None.\n",
      "DEBUG (Preguntar Perfil) ► Perfil aún INCOMPLETO según checker.\n",
      "DEBUG (Preguntar Perfil) ► Pregunta fallback generada: Considerando el Bajo Impacto Medioambiental, ¿qué importancia tiene esto para tu elección (0-10)?\n",
      "WARN (Preguntar Perfil) ► Nodo ejecutado para preguntar, pero no había mensaje pendiente válido. Generando pregunta fallback.\n",
      "DEBUG (Preguntar Perfil) ► Mensaje final añadido: Considerando el Bajo Impacto Medioambiental, ¿qué importancia tiene esto para tu elección (0-10)?\n",
      "==================================\u001b[1m Ai Message \u001b[0m==================================\n",
      "\n",
      "Considerando el Bajo Impacto Medioambiental, ¿qué importancia tiene esto para tu elección (0-10)?\n"
     ]
    }
   ],
   "source": [
    "# Create a thread\n",
    "config = {\"configurable\": {\"thread_id\": \"1\"}}\n",
    "\n",
    "# Start conversation\n",
    "input_message = HumanMessage(content=\"7\")\n",
    "output = graph.invoke({\"messages\": [input_message]}, config) \n",
    "for m in output['messages'][-1:]:\n",
    "    m.pretty_print()"
   ]
  },
  {
   "cell_type": "code",
   "execution_count": 22,
   "metadata": {},
   "outputs": [
    {
     "name": "stdout",
     "output_type": "stream",
     "text": [
      "--- Ejecutando Nodo: route_based_on_state_node ---\n",
      "\n",
      "--- DEBUG: Evaluating Routing Decision ---\n",
      "DEBUG Router: CP OK? True\n",
      "--- DEBUG CHECK PERFIL ---\n",
      "Input prefs object: apasionado_motor='no' valora_estetica='no' coche_principal_hogar='no' uso_profesional='no' tipo_uso_profesional=None prefiere_diseno_exclusivo='no' altura_mayor_190='no' peso_mayor_100='no' transporta_carga_voluminosa='no' necesita_espacio_objetos_especiales=None arrastra_remolque='no' tiene_garage='sí' problemas_aparcar_calle=None espacio_sobra_garage='sí' problema_dimension_garage=None tiene_punto_carga_propio='no' aventura=<NivelAventura.ocasional: 'ocasional'> estilo_conduccion=<EstiloConduccion.TRANQUILO: 'tranquilo'> solo_electricos='no' prioriza_baja_depreciacion='no' transmision_preferida=<Transmision.AMBOS: 'ambos'> rating_fiabilidad_durabilidad=7 rating_seguridad=7 rating_comodidad=7 rating_impacto_ambiental=None rating_tecnologia_conectividad=None rating_costes_uso=None\n",
      "Input prefs type: <class 'graph.perfil.state.PerfilUsuario'>\n",
      "DEBUG (Validation Perfil) ► Campo 'rating_impacto_ambiental' está vacío/None.\n",
      "DEBUG Router: Prefs OK? False\n",
      "--- DEBUG CHECK PASAJEROS ---\n",
      "Input info pasajeros: None\n",
      "DEBUG (Validation Pasajeros) ► Objeto InfoPasajeros es None.\n",
      "DEBUG Router: Pasajeros OK? False\n",
      "DEBUG (Validation Filtros) ► Objeto FiltrosInferidos es None.\n",
      "DEBUG Router: Filtros OK? False\n",
      "--- DEBUG CHECK ECONOMIA (Manual) ---\n",
      "Input econ object: None\n",
      "DEBUG (Validation Economía Manual) ► Objeto EconomiaUsuario es None.\n",
      "DEBUG Router: Economía OK? False\n",
      "DEBUG Router: Pesos Calculados? False\n",
      "DEBUG Router: Coches Buscados? False\n",
      "--- DEBUG CHECK PERFIL ---\n",
      "Input prefs object: apasionado_motor='no' valora_estetica='no' coche_principal_hogar='no' uso_profesional='no' tipo_uso_profesional=None prefiere_diseno_exclusivo='no' altura_mayor_190='no' peso_mayor_100='no' transporta_carga_voluminosa='no' necesita_espacio_objetos_especiales=None arrastra_remolque='no' tiene_garage='sí' problemas_aparcar_calle=None espacio_sobra_garage='sí' problema_dimension_garage=None tiene_punto_carga_propio='no' aventura=<NivelAventura.ocasional: 'ocasional'> estilo_conduccion=<EstiloConduccion.TRANQUILO: 'tranquilo'> solo_electricos='no' prioriza_baja_depreciacion='no' transmision_preferida=<Transmision.AMBOS: 'ambos'> rating_fiabilidad_durabilidad=7 rating_seguridad=7 rating_comodidad=7 rating_impacto_ambiental=None rating_tecnologia_conectividad=None rating_costes_uso=None\n",
      "Input prefs type: <class 'graph.perfil.state.PerfilUsuario'>\n",
      "DEBUG (Validation Perfil) ► Campo 'rating_impacto_ambiental' está vacío/None.\n",
      "DEBUG Router: Decisión -> recopilar_preferencias\n",
      "--- Ejecutando Nodo: recopilar_preferencias_node ---\n",
      "DEBUG (Perfil) ► Último mensaje es HumanMessage o historial vacío, llamando a llm_solo_perfil...\n"
     ]
    },
    {
     "name": "stderr",
     "output_type": "stream",
     "text": [
      "INFO:httpx:HTTP Request: POST https://api.openai.com/v1/chat/completions \"HTTP/1.1 200 OK\"\n"
     ]
    },
    {
     "name": "stdout",
     "output_type": "stream",
     "text": [
      "DEBUG (Perfil) ► Respuesta llm_solo_perfil: preferencias_usuario=PerfilUsuario(apasionado_motor='no', valora_estetica='no', coche_principal_hogar='no', uso_profesional='no', tipo_uso_profesional=None, prefiere_diseno_exclusivo='no', altura_mayor_190='no', peso_mayor_100='no', transporta_carga_voluminosa='no', necesita_espacio_objetos_especiales=None, arrastra_remolque='no', tiene_garage='sí', problemas_aparcar_calle=None, espacio_sobra_garage='sí', problema_dimension_garage=None, tiene_punto_carga_propio='no', aventura=<NivelAventura.ocasional: 'ocasional'>, estilo_conduccion=<EstiloConduccion.TRANQUILO: 'tranquilo'>, solo_electricos='no', prioriza_baja_depreciacion='no', transmision_preferida=<Transmision.AMBOS: 'ambos'>, rating_fiabilidad_durabilidad=7, rating_seguridad=7, rating_comodidad=7, rating_impacto_ambiental=5, rating_tecnologia_conectividad=None, rating_costes_uso=None) tipo_mensaje='CONFIRMACION' contenido_mensaje=''\n",
      "DEBUG (Perfil) ► Preferencias TRAS post-procesamiento: apasionado_motor='no' valora_estetica='no' coche_principal_hogar='no' uso_profesional='no' tipo_uso_profesional=None prefiere_diseno_exclusivo='no' altura_mayor_190='no' peso_mayor_100='no' transporta_carga_voluminosa='no' necesita_espacio_objetos_especiales=None arrastra_remolque='no' tiene_garage='sí' problemas_aparcar_calle=None espacio_sobra_garage='sí' problema_dimension_garage=None tiene_punto_carga_propio='no' aventura=<NivelAventura.ocasional: 'ocasional'> estilo_conduccion=<EstiloConduccion.TRANQUILO: 'tranquilo'> solo_electricos='no' prioriza_baja_depreciacion='no' transmision_preferida=<Transmision.AMBOS: 'ambos'> rating_fiabilidad_durabilidad=7 rating_seguridad=7 rating_comodidad=7 rating_impacto_ambiental=5 rating_tecnologia_conectividad=None rating_costes_uso=None\n",
      "DEBUG (Perfil) ► Estado preferencias_usuario actualizado: apasionado_motor='no' valora_estetica='no' coche_principal_hogar='no' uso_profesional='no' tipo_uso_profesional=None prefiere_diseno_exclusivo='no' altura_mayor_190='no' peso_mayor_100='no' transporta_carga_voluminosa='no' necesita_espacio_objetos_especiales=None arrastra_remolque='no' tiene_garage='sí' problemas_aparcar_calle=None espacio_sobra_garage='sí' problema_dimension_garage=None tiene_punto_carga_propio='no' aventura=<NivelAventura.ocasional: 'ocasional'> estilo_conduccion=<EstiloConduccion.TRANQUILO: 'tranquilo'> solo_electricos='no' prioriza_baja_depreciacion='no' transmision_preferida=<Transmision.AMBOS: 'ambos'> rating_fiabilidad_durabilidad=7 rating_seguridad=7 rating_comodidad=7 rating_impacto_ambiental=5 rating_tecnologia_conectividad=None rating_costes_uso=None\n",
      "DEBUG (Perfil) ► No hay mensaje pendiente.\n",
      "--- Ejecutando Nodo: validar_preferencias_node ---\n",
      "--- DEBUG CHECK PERFIL ---\n",
      "Input prefs object: apasionado_motor='no' valora_estetica='no' coche_principal_hogar='no' uso_profesional='no' tipo_uso_profesional=None prefiere_diseno_exclusivo='no' altura_mayor_190='no' peso_mayor_100='no' transporta_carga_voluminosa='no' necesita_espacio_objetos_especiales=None arrastra_remolque='no' tiene_garage='sí' problemas_aparcar_calle=None espacio_sobra_garage='sí' problema_dimension_garage=None tiene_punto_carga_propio='no' aventura=<NivelAventura.ocasional: 'ocasional'> estilo_conduccion=<EstiloConduccion.TRANQUILO: 'tranquilo'> solo_electricos='no' prioriza_baja_depreciacion='no' transmision_preferida=<Transmision.AMBOS: 'ambos'> rating_fiabilidad_durabilidad=7 rating_seguridad=7 rating_comodidad=7 rating_impacto_ambiental=5 rating_tecnologia_conectividad=None rating_costes_uso=None\n",
      "Input prefs type: <class 'graph.perfil.state.PerfilUsuario'>\n",
      "DEBUG (Validation Perfil) ► Campo 'rating_tecnologia_conectividad' está vacío/None.\n",
      "DEBUG (Perfil) ► Validación: PerfilUsuario considerado INCOMPLETO.\n",
      "--- Evaluando Condición: ruta_decision_perfil ---\n",
      "DEBUG (Condición Perfil) ► Estado 'preferencias_usuario' recibido: apasionado_motor='no' valora_estetica='no' coche_principal_hogar='no' uso_profesional='no' tipo_uso_profesional=None prefiere_diseno_exclusivo='no' altura_mayor_190='no' peso_mayor_100='no' transporta_carga_voluminosa='no' necesita_espacio_objetos_especiales=None arrastra_remolque='no' tiene_garage='sí' problemas_aparcar_calle=None espacio_sobra_garage='sí' problema_dimension_garage=None tiene_punto_carga_propio='no' aventura=<NivelAventura.ocasional: 'ocasional'> estilo_conduccion=<EstiloConduccion.TRANQUILO: 'tranquilo'> solo_electricos='no' prioriza_baja_depreciacion='no' transmision_preferida=<Transmision.AMBOS: 'ambos'> rating_fiabilidad_durabilidad=7 rating_seguridad=7 rating_comodidad=7 rating_impacto_ambiental=5 rating_tecnologia_conectividad=None rating_costes_uso=None\n",
      "DEBUG (Condición Perfil) ► Tipo de 'preferencias_usuario': <class 'graph.perfil.state.PerfilUsuario'>\n",
      "--- DEBUG CHECK PERFIL ---\n",
      "Input prefs object: apasionado_motor='no' valora_estetica='no' coche_principal_hogar='no' uso_profesional='no' tipo_uso_profesional=None prefiere_diseno_exclusivo='no' altura_mayor_190='no' peso_mayor_100='no' transporta_carga_voluminosa='no' necesita_espacio_objetos_especiales=None arrastra_remolque='no' tiene_garage='sí' problemas_aparcar_calle=None espacio_sobra_garage='sí' problema_dimension_garage=None tiene_punto_carga_propio='no' aventura=<NivelAventura.ocasional: 'ocasional'> estilo_conduccion=<EstiloConduccion.TRANQUILO: 'tranquilo'> solo_electricos='no' prioriza_baja_depreciacion='no' transmision_preferida=<Transmision.AMBOS: 'ambos'> rating_fiabilidad_durabilidad=7 rating_seguridad=7 rating_comodidad=7 rating_impacto_ambiental=5 rating_tecnologia_conectividad=None rating_costes_uso=None\n",
      "Input prefs type: <class 'graph.perfil.state.PerfilUsuario'>\n",
      "DEBUG (Validation Perfil) ► Campo 'rating_tecnologia_conectividad' está vacío/None.\n",
      "DEBUG (Condición Perfil) ► Perfil INCOMPLETO. Se necesita pregunta.\n",
      "--- Ejecutando Nodo: preguntar_preferencias_node ---\n",
      "--- DEBUG CHECK PERFIL ---\n",
      "Input prefs object: apasionado_motor='no' valora_estetica='no' coche_principal_hogar='no' uso_profesional='no' tipo_uso_profesional=None prefiere_diseno_exclusivo='no' altura_mayor_190='no' peso_mayor_100='no' transporta_carga_voluminosa='no' necesita_espacio_objetos_especiales=None arrastra_remolque='no' tiene_garage='sí' problemas_aparcar_calle=None espacio_sobra_garage='sí' problema_dimension_garage=None tiene_punto_carga_propio='no' aventura=<NivelAventura.ocasional: 'ocasional'> estilo_conduccion=<EstiloConduccion.TRANQUILO: 'tranquilo'> solo_electricos='no' prioriza_baja_depreciacion='no' transmision_preferida=<Transmision.AMBOS: 'ambos'> rating_fiabilidad_durabilidad=7 rating_seguridad=7 rating_comodidad=7 rating_impacto_ambiental=5 rating_tecnologia_conectividad=None rating_costes_uso=None\n",
      "Input prefs type: <class 'graph.perfil.state.PerfilUsuario'>\n",
      "DEBUG (Validation Perfil) ► Campo 'rating_tecnologia_conectividad' está vacío/None.\n",
      "DEBUG (Preguntar Perfil) ► Perfil aún INCOMPLETO según checker.\n",
      "DEBUG (Preguntar Perfil) ► Pregunta fallback generada: En cuanto a la Tecnología y Conectividad del coche, ¿qué tan relevante es para ti (0-10)?\n",
      "WARN (Preguntar Perfil) ► Nodo ejecutado para preguntar, pero no había mensaje pendiente válido. Generando pregunta fallback.\n",
      "DEBUG (Preguntar Perfil) ► Mensaje final añadido: En cuanto a la Tecnología y Conectividad del coche, ¿qué tan relevante es para ti (0-10)?\n",
      "==================================\u001b[1m Ai Message \u001b[0m==================================\n",
      "\n",
      "En cuanto a la Tecnología y Conectividad del coche, ¿qué tan relevante es para ti (0-10)?\n"
     ]
    }
   ],
   "source": [
    "# Create a thread\n",
    "config = {\"configurable\": {\"thread_id\": \"1\"}}\n",
    "\n",
    "# Start conversation\n",
    "input_message = HumanMessage(content=\"5\")\n",
    "output = graph.invoke({\"messages\": [input_message]}, config) \n",
    "for m in output['messages'][-1:]:\n",
    "    m.pretty_print()"
   ]
  },
  {
   "cell_type": "code",
   "execution_count": 23,
   "metadata": {},
   "outputs": [
    {
     "name": "stdout",
     "output_type": "stream",
     "text": [
      "--- Ejecutando Nodo: route_based_on_state_node ---\n",
      "\n",
      "--- DEBUG: Evaluating Routing Decision ---\n",
      "DEBUG Router: CP OK? True\n",
      "--- DEBUG CHECK PERFIL ---\n",
      "Input prefs object: apasionado_motor='no' valora_estetica='no' coche_principal_hogar='no' uso_profesional='no' tipo_uso_profesional=None prefiere_diseno_exclusivo='no' altura_mayor_190='no' peso_mayor_100='no' transporta_carga_voluminosa='no' necesita_espacio_objetos_especiales=None arrastra_remolque='no' tiene_garage='sí' problemas_aparcar_calle=None espacio_sobra_garage='sí' problema_dimension_garage=None tiene_punto_carga_propio='no' aventura=<NivelAventura.ocasional: 'ocasional'> estilo_conduccion=<EstiloConduccion.TRANQUILO: 'tranquilo'> solo_electricos='no' prioriza_baja_depreciacion='no' transmision_preferida=<Transmision.AMBOS: 'ambos'> rating_fiabilidad_durabilidad=7 rating_seguridad=7 rating_comodidad=7 rating_impacto_ambiental=5 rating_tecnologia_conectividad=None rating_costes_uso=None\n",
      "Input prefs type: <class 'graph.perfil.state.PerfilUsuario'>\n",
      "DEBUG (Validation Perfil) ► Campo 'rating_tecnologia_conectividad' está vacío/None.\n",
      "DEBUG Router: Prefs OK? False\n",
      "--- DEBUG CHECK PASAJEROS ---\n",
      "Input info pasajeros: None\n",
      "DEBUG (Validation Pasajeros) ► Objeto InfoPasajeros es None.\n",
      "DEBUG Router: Pasajeros OK? False\n",
      "DEBUG (Validation Filtros) ► Objeto FiltrosInferidos es None.\n",
      "DEBUG Router: Filtros OK? False\n",
      "--- DEBUG CHECK ECONOMIA (Manual) ---\n",
      "Input econ object: None\n",
      "DEBUG (Validation Economía Manual) ► Objeto EconomiaUsuario es None.\n",
      "DEBUG Router: Economía OK? False\n",
      "DEBUG Router: Pesos Calculados? False\n",
      "DEBUG Router: Coches Buscados? False\n",
      "--- DEBUG CHECK PERFIL ---\n",
      "Input prefs object: apasionado_motor='no' valora_estetica='no' coche_principal_hogar='no' uso_profesional='no' tipo_uso_profesional=None prefiere_diseno_exclusivo='no' altura_mayor_190='no' peso_mayor_100='no' transporta_carga_voluminosa='no' necesita_espacio_objetos_especiales=None arrastra_remolque='no' tiene_garage='sí' problemas_aparcar_calle=None espacio_sobra_garage='sí' problema_dimension_garage=None tiene_punto_carga_propio='no' aventura=<NivelAventura.ocasional: 'ocasional'> estilo_conduccion=<EstiloConduccion.TRANQUILO: 'tranquilo'> solo_electricos='no' prioriza_baja_depreciacion='no' transmision_preferida=<Transmision.AMBOS: 'ambos'> rating_fiabilidad_durabilidad=7 rating_seguridad=7 rating_comodidad=7 rating_impacto_ambiental=5 rating_tecnologia_conectividad=None rating_costes_uso=None\n",
      "Input prefs type: <class 'graph.perfil.state.PerfilUsuario'>\n",
      "DEBUG (Validation Perfil) ► Campo 'rating_tecnologia_conectividad' está vacío/None.\n",
      "DEBUG Router: Decisión -> recopilar_preferencias\n",
      "--- Ejecutando Nodo: recopilar_preferencias_node ---\n",
      "DEBUG (Perfil) ► Último mensaje es HumanMessage o historial vacío, llamando a llm_solo_perfil...\n"
     ]
    },
    {
     "name": "stderr",
     "output_type": "stream",
     "text": [
      "INFO:httpx:HTTP Request: POST https://api.openai.com/v1/chat/completions \"HTTP/1.1 200 OK\"\n"
     ]
    },
    {
     "name": "stdout",
     "output_type": "stream",
     "text": [
      "DEBUG (Perfil) ► Respuesta llm_solo_perfil: preferencias_usuario=PerfilUsuario(apasionado_motor='no', valora_estetica='no', coche_principal_hogar='no', uso_profesional='no', tipo_uso_profesional=None, prefiere_diseno_exclusivo='no', altura_mayor_190='no', peso_mayor_100='no', transporta_carga_voluminosa='no', necesita_espacio_objetos_especiales=None, arrastra_remolque='no', tiene_garage='sí', problemas_aparcar_calle=None, espacio_sobra_garage='sí', problema_dimension_garage=None, tiene_punto_carga_propio='no', aventura=<NivelAventura.ocasional: 'ocasional'>, estilo_conduccion=<EstiloConduccion.TRANQUILO: 'tranquilo'>, solo_electricos='no', prioriza_baja_depreciacion='no', transmision_preferida=<Transmision.AMBOS: 'ambos'>, rating_fiabilidad_durabilidad=7, rating_seguridad=7, rating_comodidad=7, rating_impacto_ambiental=5, rating_tecnologia_conectividad=6, rating_costes_uso=None) tipo_mensaje='CONFIRMACION' contenido_mensaje=''\n",
      "DEBUG (Perfil) ► Preferencias TRAS post-procesamiento: apasionado_motor='no' valora_estetica='no' coche_principal_hogar='no' uso_profesional='no' tipo_uso_profesional=None prefiere_diseno_exclusivo='no' altura_mayor_190='no' peso_mayor_100='no' transporta_carga_voluminosa='no' necesita_espacio_objetos_especiales=None arrastra_remolque='no' tiene_garage='sí' problemas_aparcar_calle=None espacio_sobra_garage='sí' problema_dimension_garage=None tiene_punto_carga_propio='no' aventura=<NivelAventura.ocasional: 'ocasional'> estilo_conduccion=<EstiloConduccion.TRANQUILO: 'tranquilo'> solo_electricos='no' prioriza_baja_depreciacion='no' transmision_preferida=<Transmision.AMBOS: 'ambos'> rating_fiabilidad_durabilidad=7 rating_seguridad=7 rating_comodidad=7 rating_impacto_ambiental=5 rating_tecnologia_conectividad=6 rating_costes_uso=None\n",
      "DEBUG (Perfil) ► Estado preferencias_usuario actualizado: apasionado_motor='no' valora_estetica='no' coche_principal_hogar='no' uso_profesional='no' tipo_uso_profesional=None prefiere_diseno_exclusivo='no' altura_mayor_190='no' peso_mayor_100='no' transporta_carga_voluminosa='no' necesita_espacio_objetos_especiales=None arrastra_remolque='no' tiene_garage='sí' problemas_aparcar_calle=None espacio_sobra_garage='sí' problema_dimension_garage=None tiene_punto_carga_propio='no' aventura=<NivelAventura.ocasional: 'ocasional'> estilo_conduccion=<EstiloConduccion.TRANQUILO: 'tranquilo'> solo_electricos='no' prioriza_baja_depreciacion='no' transmision_preferida=<Transmision.AMBOS: 'ambos'> rating_fiabilidad_durabilidad=7 rating_seguridad=7 rating_comodidad=7 rating_impacto_ambiental=5 rating_tecnologia_conectividad=6 rating_costes_uso=None\n",
      "DEBUG (Perfil) ► No hay mensaje pendiente.\n",
      "--- Ejecutando Nodo: validar_preferencias_node ---\n",
      "--- DEBUG CHECK PERFIL ---\n",
      "Input prefs object: apasionado_motor='no' valora_estetica='no' coche_principal_hogar='no' uso_profesional='no' tipo_uso_profesional=None prefiere_diseno_exclusivo='no' altura_mayor_190='no' peso_mayor_100='no' transporta_carga_voluminosa='no' necesita_espacio_objetos_especiales=None arrastra_remolque='no' tiene_garage='sí' problemas_aparcar_calle=None espacio_sobra_garage='sí' problema_dimension_garage=None tiene_punto_carga_propio='no' aventura=<NivelAventura.ocasional: 'ocasional'> estilo_conduccion=<EstiloConduccion.TRANQUILO: 'tranquilo'> solo_electricos='no' prioriza_baja_depreciacion='no' transmision_preferida=<Transmision.AMBOS: 'ambos'> rating_fiabilidad_durabilidad=7 rating_seguridad=7 rating_comodidad=7 rating_impacto_ambiental=5 rating_tecnologia_conectividad=6 rating_costes_uso=None\n",
      "Input prefs type: <class 'graph.perfil.state.PerfilUsuario'>\n",
      "DEBUG (Validation Perfil) ► Campo 'rating_costes_uso' está vacío/None.\n",
      "DEBUG (Perfil) ► Validación: PerfilUsuario considerado INCOMPLETO.\n",
      "--- Evaluando Condición: ruta_decision_perfil ---\n",
      "DEBUG (Condición Perfil) ► Estado 'preferencias_usuario' recibido: apasionado_motor='no' valora_estetica='no' coche_principal_hogar='no' uso_profesional='no' tipo_uso_profesional=None prefiere_diseno_exclusivo='no' altura_mayor_190='no' peso_mayor_100='no' transporta_carga_voluminosa='no' necesita_espacio_objetos_especiales=None arrastra_remolque='no' tiene_garage='sí' problemas_aparcar_calle=None espacio_sobra_garage='sí' problema_dimension_garage=None tiene_punto_carga_propio='no' aventura=<NivelAventura.ocasional: 'ocasional'> estilo_conduccion=<EstiloConduccion.TRANQUILO: 'tranquilo'> solo_electricos='no' prioriza_baja_depreciacion='no' transmision_preferida=<Transmision.AMBOS: 'ambos'> rating_fiabilidad_durabilidad=7 rating_seguridad=7 rating_comodidad=7 rating_impacto_ambiental=5 rating_tecnologia_conectividad=6 rating_costes_uso=None\n",
      "DEBUG (Condición Perfil) ► Tipo de 'preferencias_usuario': <class 'graph.perfil.state.PerfilUsuario'>\n",
      "--- DEBUG CHECK PERFIL ---\n",
      "Input prefs object: apasionado_motor='no' valora_estetica='no' coche_principal_hogar='no' uso_profesional='no' tipo_uso_profesional=None prefiere_diseno_exclusivo='no' altura_mayor_190='no' peso_mayor_100='no' transporta_carga_voluminosa='no' necesita_espacio_objetos_especiales=None arrastra_remolque='no' tiene_garage='sí' problemas_aparcar_calle=None espacio_sobra_garage='sí' problema_dimension_garage=None tiene_punto_carga_propio='no' aventura=<NivelAventura.ocasional: 'ocasional'> estilo_conduccion=<EstiloConduccion.TRANQUILO: 'tranquilo'> solo_electricos='no' prioriza_baja_depreciacion='no' transmision_preferida=<Transmision.AMBOS: 'ambos'> rating_fiabilidad_durabilidad=7 rating_seguridad=7 rating_comodidad=7 rating_impacto_ambiental=5 rating_tecnologia_conectividad=6 rating_costes_uso=None\n",
      "Input prefs type: <class 'graph.perfil.state.PerfilUsuario'>\n",
      "DEBUG (Validation Perfil) ► Campo 'rating_costes_uso' está vacío/None.\n",
      "DEBUG (Condición Perfil) ► Perfil INCOMPLETO. Se necesita pregunta.\n",
      "--- Ejecutando Nodo: preguntar_preferencias_node ---\n",
      "--- DEBUG CHECK PERFIL ---\n",
      "Input prefs object: apasionado_motor='no' valora_estetica='no' coche_principal_hogar='no' uso_profesional='no' tipo_uso_profesional=None prefiere_diseno_exclusivo='no' altura_mayor_190='no' peso_mayor_100='no' transporta_carga_voluminosa='no' necesita_espacio_objetos_especiales=None arrastra_remolque='no' tiene_garage='sí' problemas_aparcar_calle=None espacio_sobra_garage='sí' problema_dimension_garage=None tiene_punto_carga_propio='no' aventura=<NivelAventura.ocasional: 'ocasional'> estilo_conduccion=<EstiloConduccion.TRANQUILO: 'tranquilo'> solo_electricos='no' prioriza_baja_depreciacion='no' transmision_preferida=<Transmision.AMBOS: 'ambos'> rating_fiabilidad_durabilidad=7 rating_seguridad=7 rating_comodidad=7 rating_impacto_ambiental=5 rating_tecnologia_conectividad=6 rating_costes_uso=None\n",
      "Input prefs type: <class 'graph.perfil.state.PerfilUsuario'>\n",
      "DEBUG (Validation Perfil) ► Campo 'rating_costes_uso' está vacío/None.\n",
      "DEBUG (Preguntar Perfil) ► Perfil aún INCOMPLETO según checker.\n",
      "DEBUG (Preguntar Perfil) ► Pregunta fallback generada: finalmente, ¿qué tan importante es para ti que el vehículo sea económico en su uso diario y mantenimiento? (0-10)?\n",
      "WARN (Preguntar Perfil) ► Nodo ejecutado para preguntar, pero no había mensaje pendiente válido. Generando pregunta fallback.\n",
      "DEBUG (Preguntar Perfil) ► Mensaje final añadido: finalmente, ¿qué tan importante es para ti que el vehículo sea económico en su uso diario y mantenimiento? (0-10)?\n",
      "==================================\u001b[1m Ai Message \u001b[0m==================================\n",
      "\n",
      "finalmente, ¿qué tan importante es para ti que el vehículo sea económico en su uso diario y mantenimiento? (0-10)?\n"
     ]
    }
   ],
   "source": [
    "# Create a thread\n",
    "config = {\"configurable\": {\"thread_id\": \"1\"}}\n",
    "\n",
    "# Start conversation\n",
    "input_message = HumanMessage(content=\"6\")\n",
    "output = graph.invoke({\"messages\": [input_message]}, config) \n",
    "for m in output['messages'][-1:]:\n",
    "    m.pretty_print()"
   ]
  },
  {
   "cell_type": "code",
   "execution_count": 24,
   "metadata": {},
   "outputs": [
    {
     "name": "stdout",
     "output_type": "stream",
     "text": [
      "--- Ejecutando Nodo: route_based_on_state_node ---\n",
      "\n",
      "--- DEBUG: Evaluating Routing Decision ---\n",
      "DEBUG Router: CP OK? True\n",
      "--- DEBUG CHECK PERFIL ---\n",
      "Input prefs object: apasionado_motor='no' valora_estetica='no' coche_principal_hogar='no' uso_profesional='no' tipo_uso_profesional=None prefiere_diseno_exclusivo='no' altura_mayor_190='no' peso_mayor_100='no' transporta_carga_voluminosa='no' necesita_espacio_objetos_especiales=None arrastra_remolque='no' tiene_garage='sí' problemas_aparcar_calle=None espacio_sobra_garage='sí' problema_dimension_garage=None tiene_punto_carga_propio='no' aventura=<NivelAventura.ocasional: 'ocasional'> estilo_conduccion=<EstiloConduccion.TRANQUILO: 'tranquilo'> solo_electricos='no' prioriza_baja_depreciacion='no' transmision_preferida=<Transmision.AMBOS: 'ambos'> rating_fiabilidad_durabilidad=7 rating_seguridad=7 rating_comodidad=7 rating_impacto_ambiental=5 rating_tecnologia_conectividad=6 rating_costes_uso=None\n",
      "Input prefs type: <class 'graph.perfil.state.PerfilUsuario'>\n",
      "DEBUG (Validation Perfil) ► Campo 'rating_costes_uso' está vacío/None.\n",
      "DEBUG Router: Prefs OK? False\n",
      "--- DEBUG CHECK PASAJEROS ---\n",
      "Input info pasajeros: None\n",
      "DEBUG (Validation Pasajeros) ► Objeto InfoPasajeros es None.\n",
      "DEBUG Router: Pasajeros OK? False\n",
      "DEBUG (Validation Filtros) ► Objeto FiltrosInferidos es None.\n",
      "DEBUG Router: Filtros OK? False\n",
      "--- DEBUG CHECK ECONOMIA (Manual) ---\n",
      "Input econ object: None\n",
      "DEBUG (Validation Economía Manual) ► Objeto EconomiaUsuario es None.\n",
      "DEBUG Router: Economía OK? False\n",
      "DEBUG Router: Pesos Calculados? False\n",
      "DEBUG Router: Coches Buscados? False\n",
      "--- DEBUG CHECK PERFIL ---\n",
      "Input prefs object: apasionado_motor='no' valora_estetica='no' coche_principal_hogar='no' uso_profesional='no' tipo_uso_profesional=None prefiere_diseno_exclusivo='no' altura_mayor_190='no' peso_mayor_100='no' transporta_carga_voluminosa='no' necesita_espacio_objetos_especiales=None arrastra_remolque='no' tiene_garage='sí' problemas_aparcar_calle=None espacio_sobra_garage='sí' problema_dimension_garage=None tiene_punto_carga_propio='no' aventura=<NivelAventura.ocasional: 'ocasional'> estilo_conduccion=<EstiloConduccion.TRANQUILO: 'tranquilo'> solo_electricos='no' prioriza_baja_depreciacion='no' transmision_preferida=<Transmision.AMBOS: 'ambos'> rating_fiabilidad_durabilidad=7 rating_seguridad=7 rating_comodidad=7 rating_impacto_ambiental=5 rating_tecnologia_conectividad=6 rating_costes_uso=None\n",
      "Input prefs type: <class 'graph.perfil.state.PerfilUsuario'>\n",
      "DEBUG (Validation Perfil) ► Campo 'rating_costes_uso' está vacío/None.\n",
      "DEBUG Router: Decisión -> recopilar_preferencias\n",
      "--- Ejecutando Nodo: recopilar_preferencias_node ---\n",
      "DEBUG (Perfil) ► Último mensaje es HumanMessage o historial vacío, llamando a llm_solo_perfil...\n"
     ]
    },
    {
     "name": "stderr",
     "output_type": "stream",
     "text": [
      "INFO:httpx:HTTP Request: POST https://api.openai.com/v1/chat/completions \"HTTP/1.1 200 OK\"\n"
     ]
    },
    {
     "name": "stdout",
     "output_type": "stream",
     "text": [
      "DEBUG (Perfil) ► Respuesta llm_solo_perfil: preferencias_usuario=PerfilUsuario(apasionado_motor='no', valora_estetica='no', coche_principal_hogar='no', uso_profesional='no', tipo_uso_profesional=None, prefiere_diseno_exclusivo='no', altura_mayor_190='no', peso_mayor_100='no', transporta_carga_voluminosa='no', necesita_espacio_objetos_especiales=None, arrastra_remolque='no', tiene_garage='sí', problemas_aparcar_calle=None, espacio_sobra_garage='sí', problema_dimension_garage=None, tiene_punto_carga_propio='no', aventura=<NivelAventura.ocasional: 'ocasional'>, estilo_conduccion=<EstiloConduccion.TRANQUILO: 'tranquilo'>, solo_electricos='no', prioriza_baja_depreciacion='no', transmision_preferida=<Transmision.AMBOS: 'ambos'>, rating_fiabilidad_durabilidad=7, rating_seguridad=7, rating_comodidad=7, rating_impacto_ambiental=5, rating_tecnologia_conectividad=6, rating_costes_uso=4) tipo_mensaje='CONFIRMACION' contenido_mensaje=''\n",
      "DEBUG (Perfil) ► Preferencias TRAS post-procesamiento: apasionado_motor='no' valora_estetica='no' coche_principal_hogar='no' uso_profesional='no' tipo_uso_profesional=None prefiere_diseno_exclusivo='no' altura_mayor_190='no' peso_mayor_100='no' transporta_carga_voluminosa='no' necesita_espacio_objetos_especiales=None arrastra_remolque='no' tiene_garage='sí' problemas_aparcar_calle=None espacio_sobra_garage='sí' problema_dimension_garage=None tiene_punto_carga_propio='no' aventura=<NivelAventura.ocasional: 'ocasional'> estilo_conduccion=<EstiloConduccion.TRANQUILO: 'tranquilo'> solo_electricos='no' prioriza_baja_depreciacion='no' transmision_preferida=<Transmision.AMBOS: 'ambos'> rating_fiabilidad_durabilidad=7 rating_seguridad=7 rating_comodidad=7 rating_impacto_ambiental=5 rating_tecnologia_conectividad=6 rating_costes_uso=4\n",
      "DEBUG (Perfil) ► Estado preferencias_usuario actualizado: apasionado_motor='no' valora_estetica='no' coche_principal_hogar='no' uso_profesional='no' tipo_uso_profesional=None prefiere_diseno_exclusivo='no' altura_mayor_190='no' peso_mayor_100='no' transporta_carga_voluminosa='no' necesita_espacio_objetos_especiales=None arrastra_remolque='no' tiene_garage='sí' problemas_aparcar_calle=None espacio_sobra_garage='sí' problema_dimension_garage=None tiene_punto_carga_propio='no' aventura=<NivelAventura.ocasional: 'ocasional'> estilo_conduccion=<EstiloConduccion.TRANQUILO: 'tranquilo'> solo_electricos='no' prioriza_baja_depreciacion='no' transmision_preferida=<Transmision.AMBOS: 'ambos'> rating_fiabilidad_durabilidad=7 rating_seguridad=7 rating_comodidad=7 rating_impacto_ambiental=5 rating_tecnologia_conectividad=6 rating_costes_uso=4\n",
      "DEBUG (Perfil) ► No hay mensaje pendiente.\n",
      "--- Ejecutando Nodo: validar_preferencias_node ---\n",
      "--- DEBUG CHECK PERFIL ---\n",
      "Input prefs object: apasionado_motor='no' valora_estetica='no' coche_principal_hogar='no' uso_profesional='no' tipo_uso_profesional=None prefiere_diseno_exclusivo='no' altura_mayor_190='no' peso_mayor_100='no' transporta_carga_voluminosa='no' necesita_espacio_objetos_especiales=None arrastra_remolque='no' tiene_garage='sí' problemas_aparcar_calle=None espacio_sobra_garage='sí' problema_dimension_garage=None tiene_punto_carga_propio='no' aventura=<NivelAventura.ocasional: 'ocasional'> estilo_conduccion=<EstiloConduccion.TRANQUILO: 'tranquilo'> solo_electricos='no' prioriza_baja_depreciacion='no' transmision_preferida=<Transmision.AMBOS: 'ambos'> rating_fiabilidad_durabilidad=7 rating_seguridad=7 rating_comodidad=7 rating_impacto_ambiental=5 rating_tecnologia_conectividad=6 rating_costes_uso=4\n",
      "Input prefs type: <class 'graph.perfil.state.PerfilUsuario'>\n",
      "DEBUG (Validation Perfil) ► Todos los campos obligatorios del perfil están presentes.\n",
      "DEBUG (Perfil) ► Validación: PerfilUsuario considerado COMPLETO.\n",
      "--- Evaluando Condición: ruta_decision_perfil ---\n",
      "DEBUG (Condición Perfil) ► Estado 'preferencias_usuario' recibido: apasionado_motor='no' valora_estetica='no' coche_principal_hogar='no' uso_profesional='no' tipo_uso_profesional=None prefiere_diseno_exclusivo='no' altura_mayor_190='no' peso_mayor_100='no' transporta_carga_voluminosa='no' necesita_espacio_objetos_especiales=None arrastra_remolque='no' tiene_garage='sí' problemas_aparcar_calle=None espacio_sobra_garage='sí' problema_dimension_garage=None tiene_punto_carga_propio='no' aventura=<NivelAventura.ocasional: 'ocasional'> estilo_conduccion=<EstiloConduccion.TRANQUILO: 'tranquilo'> solo_electricos='no' prioriza_baja_depreciacion='no' transmision_preferida=<Transmision.AMBOS: 'ambos'> rating_fiabilidad_durabilidad=7 rating_seguridad=7 rating_comodidad=7 rating_impacto_ambiental=5 rating_tecnologia_conectividad=6 rating_costes_uso=4\n",
      "DEBUG (Condición Perfil) ► Tipo de 'preferencias_usuario': <class 'graph.perfil.state.PerfilUsuario'>\n",
      "--- DEBUG CHECK PERFIL ---\n",
      "Input prefs object: apasionado_motor='no' valora_estetica='no' coche_principal_hogar='no' uso_profesional='no' tipo_uso_profesional=None prefiere_diseno_exclusivo='no' altura_mayor_190='no' peso_mayor_100='no' transporta_carga_voluminosa='no' necesita_espacio_objetos_especiales=None arrastra_remolque='no' tiene_garage='sí' problemas_aparcar_calle=None espacio_sobra_garage='sí' problema_dimension_garage=None tiene_punto_carga_propio='no' aventura=<NivelAventura.ocasional: 'ocasional'> estilo_conduccion=<EstiloConduccion.TRANQUILO: 'tranquilo'> solo_electricos='no' prioriza_baja_depreciacion='no' transmision_preferida=<Transmision.AMBOS: 'ambos'> rating_fiabilidad_durabilidad=7 rating_seguridad=7 rating_comodidad=7 rating_impacto_ambiental=5 rating_tecnologia_conectividad=6 rating_costes_uso=4\n",
      "Input prefs type: <class 'graph.perfil.state.PerfilUsuario'>\n",
      "DEBUG (Validation Perfil) ► Todos los campos obligatorios del perfil están presentes.\n",
      "DEBUG (Condición Perfil) ► Perfil COMPLETO. Avanzando a filtros.\n",
      "--- Ejecutando Nodo: recopilar_info_pasajeros_node ---\n",
      "DEBUG (Pasajeros) ► Último mensaje es HumanMessage o inicio de etapa, llamando a llm_pasajeros...\n"
     ]
    },
    {
     "name": "stderr",
     "output_type": "stream",
     "text": [
      "INFO:httpx:HTTP Request: POST https://api.openai.com/v1/chat/completions \"HTTP/1.1 200 OK\"\n"
     ]
    },
    {
     "name": "stdout",
     "output_type": "stream",
     "text": [
      "DEBUG (Pasajeros) ► Respuesta llm_pasajeros: info_pasajeros=InfoPasajeros(frecuencia=None, num_ninos_silla=None, num_otros_pasajeros=None) tipo_mensaje='PREGUNTA' contenido_mensaje='Cuéntame, ¿sueles viajar con acompañantes en el coche habitualmente? (nunca/ocasional/frecuente)'\n",
      "DEBUG (Pasajeros) ► Tipo='PREGUNTA', Contenido='Cuéntame, ¿sueles viajar con acompañantes en el coche habitualmente? (nunca/ocasional/frecuente)'\n",
      "DEBUG (Pasajeros) ► Info Pasajeros LLM: frecuencia=None num_ninos_silla=None num_otros_pasajeros=None\n",
      "DEBUG (Pasajeros) ► Estado info_pasajeros actualizado: frecuencia=None num_ninos_silla=None num_otros_pasajeros=None\n",
      "DEBUG (Pasajeros) ► Guardando mensaje pendiente: Cuéntame, ¿sueles viajar con acompañantes en el coche habitualmente? (nunca/ocasional/frecuente)\n",
      "--- Ejecutando Nodo: validar_info_pasajeros_node ---\n",
      "--- DEBUG CHECK PASAJEROS ---\n",
      "Input info pasajeros: frecuencia=None num_ninos_silla=None num_otros_pasajeros=None\n",
      "DEBUG (Validation Pasajeros) ► info.frecuencia es None.\n",
      "DEBUG (Pasajeros) ► Validación: Info Pasajeros considerada INCOMPLETA.\n",
      "--- Evaluando Condición: ruta_decision_pasajeros ---\n",
      "--- DEBUG CHECK PASAJEROS ---\n",
      "Input info pasajeros: frecuencia=None num_ninos_silla=None num_otros_pasajeros=None\n",
      "DEBUG (Validation Pasajeros) ► info.frecuencia es None.\n",
      "DEBUG (Condición Pasajeros) ► INCOMPLETO. Se necesita pregunta.\n",
      "--- Ejecutando Nodo: preguntar_info_pasajeros_node ---\n",
      "--- DEBUG CHECK PASAJEROS ---\n",
      "Input info pasajeros: frecuencia=None num_ninos_silla=None num_otros_pasajeros=None\n",
      "DEBUG (Validation Pasajeros) ► info.frecuencia es None.\n",
      "DEBUG (Preguntar Pasajeros) ► Info Pasajeros aún INCOMPLETA según checker.\n",
      "DEBUG (Preguntar Pasajeros) ► Pregunta fallback generada: Cuéntame, ¿sueles viajar con acompañantes en el coche habitualmente? (nunca/ocasional/frecuente)\n",
      "DEBUG (Preguntar Pasajeros) ► Usando mensaje pendiente (pregunta LLM): Cuéntame, ¿sueles viajar con acompañantes en el coche habitualmente? (nunca/ocasional/frecuente)\n",
      "DEBUG (Preguntar Pasajeros) ► Mensaje final añadido: Cuéntame, ¿sueles viajar con acompañantes en el coche habitualmente? (nunca/ocasional/frecuente)\n",
      "==================================\u001b[1m Ai Message \u001b[0m==================================\n",
      "\n",
      "Cuéntame, ¿sueles viajar con acompañantes en el coche habitualmente? (nunca/ocasional/frecuente)\n"
     ]
    }
   ],
   "source": [
    "# Create a thread\n",
    "config = {\"configurable\": {\"thread_id\": \"1\"}}\n",
    "\n",
    "# Start conversation\n",
    "input_message = HumanMessage(content=\"4\")\n",
    "output = graph.invoke({\"messages\": [input_message]}, config) \n",
    "for m in output['messages'][-1:]:\n",
    "    m.pretty_print()"
   ]
  },
  {
   "cell_type": "code",
   "execution_count": null,
   "metadata": {},
   "outputs": [],
   "source": [
    "# Create a thread\n",
    "config = {\"configurable\": {\"thread_id\": \"1\"}}\n",
    "\n",
    "# Start conversation\n",
    "input_message = HumanMessage(content=\"7\")\n",
    "output = graph.invoke({\"messages\": [input_message]}, config) \n",
    "for m in output['messages'][-1:]:\n",
    "    m.pretty_print()"
   ]
  },
  {
   "cell_type": "code",
   "execution_count": 25,
   "metadata": {},
   "outputs": [
    {
     "name": "stdout",
     "output_type": "stream",
     "text": [
      "--- Ejecutando Nodo: route_based_on_state_node ---\n",
      "\n",
      "--- DEBUG: Evaluating Routing Decision ---\n",
      "DEBUG Router: CP OK? True\n",
      "--- DEBUG CHECK PERFIL ---\n",
      "Input prefs object: apasionado_motor='no' valora_estetica='no' coche_principal_hogar='no' uso_profesional='no' tipo_uso_profesional=None prefiere_diseno_exclusivo='no' altura_mayor_190='no' peso_mayor_100='no' transporta_carga_voluminosa='no' necesita_espacio_objetos_especiales=None arrastra_remolque='no' tiene_garage='sí' problemas_aparcar_calle=None espacio_sobra_garage='sí' problema_dimension_garage=None tiene_punto_carga_propio='no' aventura=<NivelAventura.ocasional: 'ocasional'> estilo_conduccion=<EstiloConduccion.TRANQUILO: 'tranquilo'> solo_electricos='no' prioriza_baja_depreciacion='no' transmision_preferida=<Transmision.AMBOS: 'ambos'> rating_fiabilidad_durabilidad=7 rating_seguridad=7 rating_comodidad=7 rating_impacto_ambiental=5 rating_tecnologia_conectividad=6 rating_costes_uso=4\n",
      "Input prefs type: <class 'graph.perfil.state.PerfilUsuario'>\n",
      "DEBUG (Validation Perfil) ► Todos los campos obligatorios del perfil están presentes.\n",
      "DEBUG Router: Prefs OK? True\n",
      "--- DEBUG CHECK PASAJEROS ---\n",
      "Input info pasajeros: frecuencia=None num_ninos_silla=None num_otros_pasajeros=None\n",
      "DEBUG (Validation Pasajeros) ► info.frecuencia es None.\n",
      "DEBUG Router: Pasajeros OK? False\n",
      "DEBUG (Validation Filtros) ► Objeto FiltrosInferidos es None.\n",
      "DEBUG Router: Filtros OK? False\n",
      "--- DEBUG CHECK ECONOMIA (Manual) ---\n",
      "Input econ object: None\n",
      "DEBUG (Validation Economía Manual) ► Objeto EconomiaUsuario es None.\n",
      "DEBUG Router: Economía OK? False\n",
      "DEBUG Router: Pesos Calculados? False\n",
      "DEBUG Router: Coches Buscados? False\n",
      "--- DEBUG CHECK PERFIL ---\n",
      "Input prefs object: apasionado_motor='no' valora_estetica='no' coche_principal_hogar='no' uso_profesional='no' tipo_uso_profesional=None prefiere_diseno_exclusivo='no' altura_mayor_190='no' peso_mayor_100='no' transporta_carga_voluminosa='no' necesita_espacio_objetos_especiales=None arrastra_remolque='no' tiene_garage='sí' problemas_aparcar_calle=None espacio_sobra_garage='sí' problema_dimension_garage=None tiene_punto_carga_propio='no' aventura=<NivelAventura.ocasional: 'ocasional'> estilo_conduccion=<EstiloConduccion.TRANQUILO: 'tranquilo'> solo_electricos='no' prioriza_baja_depreciacion='no' transmision_preferida=<Transmision.AMBOS: 'ambos'> rating_fiabilidad_durabilidad=7 rating_seguridad=7 rating_comodidad=7 rating_impacto_ambiental=5 rating_tecnologia_conectividad=6 rating_costes_uso=4\n",
      "Input prefs type: <class 'graph.perfil.state.PerfilUsuario'>\n",
      "DEBUG (Validation Perfil) ► Todos los campos obligatorios del perfil están presentes.\n",
      "--- DEBUG CHECK PASAJEROS ---\n",
      "Input info pasajeros: frecuencia=None num_ninos_silla=None num_otros_pasajeros=None\n",
      "DEBUG (Validation Pasajeros) ► info.frecuencia es None.\n",
      "DEBUG Router: Decisión -> recopilar_info_pasajeros\n",
      "--- Ejecutando Nodo: recopilar_info_pasajeros_node ---\n",
      "DEBUG (Pasajeros) ► Último mensaje es HumanMessage o inicio de etapa, llamando a llm_pasajeros...\n"
     ]
    },
    {
     "name": "stderr",
     "output_type": "stream",
     "text": [
      "INFO:httpx:HTTP Request: POST https://api.openai.com/v1/chat/completions \"HTTP/1.1 200 OK\"\n"
     ]
    },
    {
     "name": "stdout",
     "output_type": "stream",
     "text": [
      "DEBUG (Pasajeros) ► Respuesta llm_pasajeros: info_pasajeros=InfoPasajeros(frecuencia='nunca', num_ninos_silla=0, num_otros_pasajeros=0) tipo_mensaje='CONFIRMACION' contenido_mensaje='Entendido, normalmente viajas solo.'\n",
      "DEBUG (Pasajeros) ► Tipo='CONFIRMACION', Contenido='Entendido, normalmente viajas solo.'\n",
      "DEBUG (Pasajeros) ► Info Pasajeros LLM: frecuencia='nunca' num_ninos_silla=0 num_otros_pasajeros=0\n",
      "DEBUG (Pasajeros) ► Estado info_pasajeros actualizado: frecuencia='nunca' num_ninos_silla=0 num_otros_pasajeros=0\n",
      "DEBUG (Pasajeros) ► Guardando mensaje pendiente: Entendido, normalmente viajas solo.\n",
      "--- Ejecutando Nodo: validar_info_pasajeros_node ---\n",
      "--- DEBUG CHECK PASAJEROS ---\n",
      "Input info pasajeros: frecuencia='nunca' num_ninos_silla=0 num_otros_pasajeros=0\n",
      "DEBUG (Validation Pasajeros) ► Frecuencia es 'nunca'. Considerado COMPLETO.\n",
      "DEBUG (Pasajeros) ► Validación: Info Pasajeros considerada COMPLETA.\n",
      "--- Evaluando Condición: ruta_decision_pasajeros ---\n",
      "--- DEBUG CHECK PASAJEROS ---\n",
      "Input info pasajeros: frecuencia='nunca' num_ninos_silla=0 num_otros_pasajeros=0\n",
      "DEBUG (Validation Pasajeros) ► Frecuencia es 'nunca'. Considerado COMPLETO.\n",
      "DEBUG (Condición Pasajeros) ► COMPLETO. Aplicando filtros derivados.\n",
      "--- Ejecutando Nodo: aplicar_filtros_pasajeros_node ---\n",
      "DEBUG (Aplicar Filtros Pasajeros) ► Info recibida: freq='nunca', X=0, Z=0\n",
      "DEBUG (Aplicar Filtros Pasajeros) ► Calculado plazas_min = 1\n",
      "DEBUG (Aplicar Filtros Pasajeros) ► Frecuencia es 'nunca' o None. Flags de priorizar_ancho y penalizar_puertas se mantienen en su default (False).\n",
      "DEBUG (Aplicar Filtros Pasajeros) ► Filtros actualizados (con plazas_min): estetica_min=None tipo_mecanica=None premium_min=None singular_min=None tipo_carroceria=None modo_adquisicion_recomendado=None precio_max_contado_recomendado=None cuota_max_calculada=None plazas_min=1\n",
      "--- Ejecutando Nodo: inferir_filtros_node ---\n",
      "DEBUG (Filtros) ► Preferencias de usuario e info_clima disponibles. Procediendo...\n"
     ]
    },
    {
     "name": "stderr",
     "output_type": "stream",
     "text": [
      "INFO:httpx:HTTP Request: POST https://api.openai.com/v1/chat/completions \"HTTP/1.1 200 OK\"\n"
     ]
    },
    {
     "name": "stdout",
     "output_type": "stream",
     "text": [
      "DEBUG (Filtros) ► Respuesta llm_solo_filtros: filtros_inferidos=FiltrosInferidos(estetica_min=1.0, tipo_mecanica=[<TipoMecanica.GASOLINA: 'GASOLINA'>, <TipoMecanica.DIESEL: 'DIESEL'>], premium_min=1.0, singular_min=1.0, tipo_carroceria=None, modo_adquisicion_recomendado=None, precio_max_contado_recomendado=None, cuota_max_calculada=None, plazas_min=None) mensaje_validacion=''\n",
      "DEBUG (Filtros) ► Filtros ANTES de post-procesamiento: estetica_min=1.0 tipo_mecanica=[<TipoMecanica.GASOLINA: 'GASOLINA'>, <TipoMecanica.DIESEL: 'DIESEL'>] premium_min=1.0 singular_min=1.0 tipo_carroceria=None modo_adquisicion_recomendado=None precio_max_contado_recomendado=None cuota_max_calculada=None plazas_min=None\n",
      "DEBUG (Filtros) ► Filtros TRAS post-procesamiento: estetica_min=1.0 tipo_mecanica=[<TipoMecanica.DIESEL: 'DIESEL'>, <TipoMecanica.GASOLINA: 'GASOLINA'>] premium_min=1.0 singular_min=2.0 tipo_carroceria=None modo_adquisicion_recomendado=None precio_max_contado_recomendado=None cuota_max_calculada=None plazas_min=None\n",
      "DEBUG (Filtros) ► Estado filtros_inferidos a guardar: estetica_min=1.0 tipo_mecanica=[<TipoMecanica.DIESEL: 'DIESEL'>, <TipoMecanica.GASOLINA: 'GASOLINA'>] premium_min=1.0 singular_min=2.0 tipo_carroceria=None modo_adquisicion_recomendado=None precio_max_contado_recomendado=None cuota_max_calculada=None plazas_min=None\n",
      "DEBUG (Filtros) ► No hay mensaje de validación/pregunta pendiente del LLM de filtros.\n",
      "--- Ejecutando Nodo: validar_filtros_node ---\n",
      "DEBUG (Validation Filtros) ► Todos los campos obligatorios de filtros ('tipo_mecanica') están presentes y válidos.\n",
      "DEBUG (Filtros) ► Validación: FiltrosInferidos considerados COMPLETOS.\n",
      "--- Evaluando Condición: ruta_decision_filtros ---\n",
      "DEBUG (Validation Filtros) ► Todos los campos obligatorios de filtros ('tipo_mecanica') están presentes y válidos.\n",
      "DEBUG (Condición Filtros) ► Filtros COMPLETOS. Avanzando a economía.\n",
      "--- Ejecutando Nodo: recopilar_economia_node ---\n",
      "DEBUG (Economía) ► Llamando a llm_economia...\n"
     ]
    },
    {
     "name": "stderr",
     "output_type": "stream",
     "text": [
      "INFO:httpx:HTTP Request: POST https://api.openai.com/v1/chat/completions \"HTTP/1.1 200 OK\"\n"
     ]
    },
    {
     "name": "stdout",
     "output_type": "stream",
     "text": [
      "DEBUG (Economía) ► Respuesta llm_economia: economia=EconomiaUsuario(modo=None, submodo=None, ingresos=None, ahorro=None, pago_contado=None, cuota_max=None, entrada=None, anos_posesion=None) mensaje_validacion='Con el fin de conocer tus preferencias financieras que opcion prefieres:\\n  1.Prefiero que me aconsejes con criterios de inteligencia financiera.\\n  2. Prefiero indicar yo mismo cuánto y cómo gastar.'\n",
      "DEBUG (Economía) ► Estado economía actualizado: modo=None submodo=None ingresos=None ahorro=None pago_contado=None cuota_max=None entrada=None anos_posesion=None\n",
      "DEBUG (Economía) ► Guardando pregunta pendiente: Con el fin de conocer tus preferencias financieras que opcion prefieres:\n",
      "  1.Prefiero que me aconsejes con criterios de inteligencia financiera.\n",
      "  2. Prefiero indicar yo mismo cuánto y cómo gastar.\n",
      "--- Ejecutando Nodo: validar_economia_node ---\n",
      "--- DEBUG CHECK ECONOMIA (Manual) ---\n",
      "Input econ object: modo=None submodo=None ingresos=None ahorro=None pago_contado=None cuota_max=None entrada=None anos_posesion=None\n",
      "DEBUG (Validation Economía Manual) ► econ.modo es None.\n",
      "DEBUG (Economía) ► Validación: Economía considerada INCOMPLETA.\n",
      "--- Evaluando Condición: ruta_decision_economia ---\n",
      "--- DEBUG CHECK ECONOMIA (Manual) ---\n",
      "Input econ object: modo=None submodo=None ingresos=None ahorro=None pago_contado=None cuota_max=None entrada=None anos_posesion=None\n",
      "DEBUG (Validation Economía Manual) ► econ.modo es None.\n",
      "DEBUG (Condición Economía) ► Economía INCOMPLETA. Se necesita pregunta.\n",
      "--- Ejecutando Nodo: preguntar_economia_node ---\n",
      "DEBUG (Preguntar Economía) ► Usando pregunta guardada: Con el fin de conocer tus preferencias financieras que opcion prefieres:\n",
      "  1.Prefiero que me aconsejes con criterios de inteligencia financiera.\n",
      "  2. Prefiero indicar yo mismo cuánto y cómo gastar.\n",
      "DEBUG (Preguntar Economía) ► Mensaje final añadido: Con el fin de conocer tus preferencias financieras que opcion prefieres:\n",
      "  1.Prefiero que me aconsejes con criterios de inteligencia financiera.\n",
      "  2. Prefiero indicar yo mismo cuánto y cómo gastar.\n",
      "==================================\u001b[1m Ai Message \u001b[0m==================================\n",
      "\n",
      "Con el fin de conocer tus preferencias financieras que opcion prefieres:\n",
      "  1.Prefiero que me aconsejes con criterios de inteligencia financiera.\n",
      "  2. Prefiero indicar yo mismo cuánto y cómo gastar.\n"
     ]
    }
   ],
   "source": [
    "# Create a thread\n",
    "config = {\"configurable\": {\"thread_id\": \"1\"}}\n",
    "\n",
    "# Start conversation\n",
    "input_message = HumanMessage(content=\"nunca\")\n",
    "output = graph.invoke({\"messages\": [input_message]}, config) \n",
    "for m in output['messages'][-1:]:\n",
    "    m.pretty_print()"
   ]
  },
  {
   "cell_type": "code",
   "execution_count": 26,
   "metadata": {},
   "outputs": [
    {
     "name": "stdout",
     "output_type": "stream",
     "text": [
      "--- Ejecutando Nodo: route_based_on_state_node ---\n",
      "\n",
      "--- DEBUG: Evaluating Routing Decision ---\n",
      "DEBUG Router: CP OK? True\n",
      "--- DEBUG CHECK PERFIL ---\n",
      "Input prefs object: apasionado_motor='no' valora_estetica='no' coche_principal_hogar='no' uso_profesional='no' tipo_uso_profesional=None prefiere_diseno_exclusivo='no' altura_mayor_190='no' peso_mayor_100='no' transporta_carga_voluminosa='no' necesita_espacio_objetos_especiales=None arrastra_remolque='no' tiene_garage='sí' problemas_aparcar_calle=None espacio_sobra_garage='sí' problema_dimension_garage=None tiene_punto_carga_propio='no' aventura=<NivelAventura.ocasional: 'ocasional'> estilo_conduccion=<EstiloConduccion.TRANQUILO: 'tranquilo'> solo_electricos='no' prioriza_baja_depreciacion='no' transmision_preferida=<Transmision.AMBOS: 'ambos'> rating_fiabilidad_durabilidad=7 rating_seguridad=7 rating_comodidad=7 rating_impacto_ambiental=5 rating_tecnologia_conectividad=6 rating_costes_uso=4\n",
      "Input prefs type: <class 'graph.perfil.state.PerfilUsuario'>\n",
      "DEBUG (Validation Perfil) ► Todos los campos obligatorios del perfil están presentes.\n",
      "DEBUG Router: Prefs OK? True\n",
      "--- DEBUG CHECK PASAJEROS ---\n",
      "Input info pasajeros: frecuencia='nunca' num_ninos_silla=0 num_otros_pasajeros=0\n",
      "DEBUG (Validation Pasajeros) ► Frecuencia es 'nunca'. Considerado COMPLETO.\n",
      "DEBUG Router: Pasajeros OK? True\n",
      "DEBUG (Validation Filtros) ► Todos los campos obligatorios de filtros ('tipo_mecanica') están presentes y válidos.\n",
      "DEBUG Router: Filtros OK? True\n",
      "--- DEBUG CHECK ECONOMIA (Manual) ---\n",
      "Input econ object: modo=None submodo=None ingresos=None ahorro=None pago_contado=None cuota_max=None entrada=None anos_posesion=None\n",
      "DEBUG (Validation Economía Manual) ► econ.modo es None.\n",
      "DEBUG Router: Economía OK? False\n",
      "DEBUG Router: Pesos Calculados? False\n",
      "DEBUG Router: Coches Buscados? False\n",
      "--- DEBUG CHECK PERFIL ---\n",
      "Input prefs object: apasionado_motor='no' valora_estetica='no' coche_principal_hogar='no' uso_profesional='no' tipo_uso_profesional=None prefiere_diseno_exclusivo='no' altura_mayor_190='no' peso_mayor_100='no' transporta_carga_voluminosa='no' necesita_espacio_objetos_especiales=None arrastra_remolque='no' tiene_garage='sí' problemas_aparcar_calle=None espacio_sobra_garage='sí' problema_dimension_garage=None tiene_punto_carga_propio='no' aventura=<NivelAventura.ocasional: 'ocasional'> estilo_conduccion=<EstiloConduccion.TRANQUILO: 'tranquilo'> solo_electricos='no' prioriza_baja_depreciacion='no' transmision_preferida=<Transmision.AMBOS: 'ambos'> rating_fiabilidad_durabilidad=7 rating_seguridad=7 rating_comodidad=7 rating_impacto_ambiental=5 rating_tecnologia_conectividad=6 rating_costes_uso=4\n",
      "Input prefs type: <class 'graph.perfil.state.PerfilUsuario'>\n",
      "DEBUG (Validation Perfil) ► Todos los campos obligatorios del perfil están presentes.\n",
      "--- DEBUG CHECK PASAJEROS ---\n",
      "Input info pasajeros: frecuencia='nunca' num_ninos_silla=0 num_otros_pasajeros=0\n",
      "DEBUG (Validation Pasajeros) ► Frecuencia es 'nunca'. Considerado COMPLETO.\n",
      "DEBUG (Validation Filtros) ► Todos los campos obligatorios de filtros ('tipo_mecanica') están presentes y válidos.\n",
      "--- DEBUG CHECK ECONOMIA (Manual) ---\n",
      "Input econ object: modo=None submodo=None ingresos=None ahorro=None pago_contado=None cuota_max=None entrada=None anos_posesion=None\n",
      "DEBUG (Validation Economía Manual) ► econ.modo es None.\n",
      "DEBUG Router: Decisión -> recopilar_economia\n",
      "--- Ejecutando Nodo: recopilar_economia_node ---\n",
      "DEBUG (Economía) ► Llamando a llm_economia...\n"
     ]
    },
    {
     "name": "stderr",
     "output_type": "stream",
     "text": [
      "INFO:httpx:HTTP Request: POST https://api.openai.com/v1/chat/completions \"HTTP/1.1 200 OK\"\n"
     ]
    },
    {
     "name": "stdout",
     "output_type": "stream",
     "text": [
      "DEBUG (Economía) ► Respuesta llm_economia: economia=EconomiaUsuario(modo=2, submodo=None, ingresos=None, ahorro=None, pago_contado=None, cuota_max=None, entrada=None, anos_posesion=None) mensaje_validacion='De acuerdo, tú defines el presupuesto. Que opción prefieres?\\n 1) Tienes pensado pagar el coche al contado\\n 2) prefieres financiarlo en cuotas mensuales'\n",
      "DEBUG (Economía) ► Estado economía actualizado: modo=2 submodo=None ingresos=None ahorro=None pago_contado=None cuota_max=None entrada=None anos_posesion=None\n",
      "DEBUG (Economía) ► Guardando pregunta pendiente: De acuerdo, tú defines el presupuesto. Que opción prefieres?\n",
      " 1) Tienes pensado pagar el coche al contado\n",
      " 2) prefieres financiarlo en cuotas mensuales\n",
      "--- Ejecutando Nodo: validar_economia_node ---\n",
      "--- DEBUG CHECK ECONOMIA (Manual) ---\n",
      "Input econ object: modo=2 submodo=None ingresos=None ahorro=None pago_contado=None cuota_max=None entrada=None anos_posesion=None\n",
      "DEBUG (Validation Economía Manual) ► Modo 2 INCOMPLETO (submodo inválido o None: None).\n",
      "DEBUG (Economía) ► Validación: Economía considerada INCOMPLETA.\n",
      "--- Evaluando Condición: ruta_decision_economia ---\n",
      "--- DEBUG CHECK ECONOMIA (Manual) ---\n",
      "Input econ object: modo=2 submodo=None ingresos=None ahorro=None pago_contado=None cuota_max=None entrada=None anos_posesion=None\n",
      "DEBUG (Validation Economía Manual) ► Modo 2 INCOMPLETO (submodo inválido o None: None).\n",
      "DEBUG (Condición Economía) ► Economía INCOMPLETA. Se necesita pregunta.\n",
      "--- Ejecutando Nodo: preguntar_economia_node ---\n",
      "DEBUG (Preguntar Economía) ► Usando pregunta guardada: De acuerdo, tú defines el presupuesto. Que opción prefieres?\n",
      " 1) Tienes pensado pagar el coche al contado\n",
      " 2) prefieres financiarlo en cuotas mensuales\n",
      "DEBUG (Preguntar Economía) ► Mensaje final añadido: De acuerdo, tú defines el presupuesto. Que opción prefieres?\n",
      " 1) Tienes pensado pagar el coche al contado\n",
      " 2) prefieres financiarlo en cuotas mensuales\n",
      "==================================\u001b[1m Ai Message \u001b[0m==================================\n",
      "\n",
      "De acuerdo, tú defines el presupuesto. Que opción prefieres?\n",
      " 1) Tienes pensado pagar el coche al contado\n",
      " 2) prefieres financiarlo en cuotas mensuales\n"
     ]
    }
   ],
   "source": [
    "# Create a thread\n",
    "config = {\"configurable\": {\"thread_id\": \"1\"}}\n",
    "\n",
    "# Start conversation\n",
    "input_message = HumanMessage(content=\"la 2\")\n",
    "output = graph.invoke({\"messages\": [input_message]}, config) \n",
    "for m in output['messages'][-1:]:\n",
    "    m.pretty_print()"
   ]
  },
  {
   "cell_type": "markdown",
   "metadata": {},
   "source": [
    "Complejidad de la Explicación: La plantilla actual es simple (\"Destaca porque [X] ya que [Y], y también por [Z] ya que [W]\"). Puedes hacerla más sofisticada.\n"
   ]
  },
  {
   "cell_type": "code",
   "execution_count": 27,
   "metadata": {},
   "outputs": [
    {
     "name": "stdout",
     "output_type": "stream",
     "text": [
      "--- Ejecutando Nodo: route_based_on_state_node ---\n",
      "\n",
      "--- DEBUG: Evaluating Routing Decision ---\n",
      "DEBUG Router: CP OK? True\n",
      "--- DEBUG CHECK PERFIL ---\n",
      "Input prefs object: apasionado_motor='no' valora_estetica='no' coche_principal_hogar='no' uso_profesional='no' tipo_uso_profesional=None prefiere_diseno_exclusivo='no' altura_mayor_190='no' peso_mayor_100='no' transporta_carga_voluminosa='no' necesita_espacio_objetos_especiales=None arrastra_remolque='no' tiene_garage='sí' problemas_aparcar_calle=None espacio_sobra_garage='sí' problema_dimension_garage=None tiene_punto_carga_propio='no' aventura=<NivelAventura.ocasional: 'ocasional'> estilo_conduccion=<EstiloConduccion.TRANQUILO: 'tranquilo'> solo_electricos='no' prioriza_baja_depreciacion='no' transmision_preferida=<Transmision.AMBOS: 'ambos'> rating_fiabilidad_durabilidad=7 rating_seguridad=7 rating_comodidad=7 rating_impacto_ambiental=5 rating_tecnologia_conectividad=6 rating_costes_uso=4\n",
      "Input prefs type: <class 'graph.perfil.state.PerfilUsuario'>\n",
      "DEBUG (Validation Perfil) ► Todos los campos obligatorios del perfil están presentes.\n",
      "DEBUG Router: Prefs OK? True\n",
      "--- DEBUG CHECK PASAJEROS ---\n",
      "Input info pasajeros: frecuencia='nunca' num_ninos_silla=0 num_otros_pasajeros=0\n",
      "DEBUG (Validation Pasajeros) ► Frecuencia es 'nunca'. Considerado COMPLETO.\n",
      "DEBUG Router: Pasajeros OK? True\n",
      "DEBUG (Validation Filtros) ► Todos los campos obligatorios de filtros ('tipo_mecanica') están presentes y válidos.\n",
      "DEBUG Router: Filtros OK? True\n",
      "--- DEBUG CHECK ECONOMIA (Manual) ---\n",
      "Input econ object: modo=2 submodo=None ingresos=None ahorro=None pago_contado=None cuota_max=None entrada=None anos_posesion=None\n",
      "DEBUG (Validation Economía Manual) ► Modo 2 INCOMPLETO (submodo inválido o None: None).\n",
      "DEBUG Router: Economía OK? False\n",
      "DEBUG Router: Pesos Calculados? False\n",
      "DEBUG Router: Coches Buscados? False\n",
      "--- DEBUG CHECK PERFIL ---\n",
      "Input prefs object: apasionado_motor='no' valora_estetica='no' coche_principal_hogar='no' uso_profesional='no' tipo_uso_profesional=None prefiere_diseno_exclusivo='no' altura_mayor_190='no' peso_mayor_100='no' transporta_carga_voluminosa='no' necesita_espacio_objetos_especiales=None arrastra_remolque='no' tiene_garage='sí' problemas_aparcar_calle=None espacio_sobra_garage='sí' problema_dimension_garage=None tiene_punto_carga_propio='no' aventura=<NivelAventura.ocasional: 'ocasional'> estilo_conduccion=<EstiloConduccion.TRANQUILO: 'tranquilo'> solo_electricos='no' prioriza_baja_depreciacion='no' transmision_preferida=<Transmision.AMBOS: 'ambos'> rating_fiabilidad_durabilidad=7 rating_seguridad=7 rating_comodidad=7 rating_impacto_ambiental=5 rating_tecnologia_conectividad=6 rating_costes_uso=4\n",
      "Input prefs type: <class 'graph.perfil.state.PerfilUsuario'>\n",
      "DEBUG (Validation Perfil) ► Todos los campos obligatorios del perfil están presentes.\n",
      "--- DEBUG CHECK PASAJEROS ---\n",
      "Input info pasajeros: frecuencia='nunca' num_ninos_silla=0 num_otros_pasajeros=0\n",
      "DEBUG (Validation Pasajeros) ► Frecuencia es 'nunca'. Considerado COMPLETO.\n",
      "DEBUG (Validation Filtros) ► Todos los campos obligatorios de filtros ('tipo_mecanica') están presentes y válidos.\n",
      "--- DEBUG CHECK ECONOMIA (Manual) ---\n",
      "Input econ object: modo=2 submodo=None ingresos=None ahorro=None pago_contado=None cuota_max=None entrada=None anos_posesion=None\n",
      "DEBUG (Validation Economía Manual) ► Modo 2 INCOMPLETO (submodo inválido o None: None).\n",
      "DEBUG Router: Decisión -> recopilar_economia\n",
      "--- Ejecutando Nodo: recopilar_economia_node ---\n",
      "DEBUG (Economía) ► Llamando a llm_economia...\n"
     ]
    },
    {
     "name": "stderr",
     "output_type": "stream",
     "text": [
      "INFO:httpx:HTTP Request: POST https://api.openai.com/v1/chat/completions \"HTTP/1.1 200 OK\"\n",
      "INFO:root:Cargando índice FAISS desde ./faiss_carroceria_index...\n",
      "INFO:faiss.loader:Loading faiss.\n"
     ]
    },
    {
     "name": "stdout",
     "output_type": "stream",
     "text": [
      "DEBUG (Economía) ► Respuesta llm_economia: economia=EconomiaUsuario(modo=2, submodo=1, ingresos=None, ahorro=None, pago_contado=22000.0, cuota_max=None, entrada=None, anos_posesion=None) mensaje_validacion='¡Entendido! He registrado tu presupuesto de 22,000 para el pago al contado.'\n",
      "DEBUG (Economía) ► Estado economía actualizado: modo=2 submodo=1 ingresos=None ahorro=None pago_contado=22000.0 cuota_max=None entrada=None anos_posesion=None\n",
      "DEBUG (Economía) ► Guardando pregunta pendiente: ¡Entendido! He registrado tu presupuesto de 22,000 para el pago al contado.\n",
      "--- Ejecutando Nodo: validar_economia_node ---\n",
      "--- DEBUG CHECK ECONOMIA (Manual) ---\n",
      "Input econ object: modo=2 submodo=1 ingresos=None ahorro=None pago_contado=22000.0 cuota_max=None entrada=None anos_posesion=None\n",
      "DEBUG (Validation Economía Manual) ► Modo 2/Submodo 1 completo (pago_contado presente).\n",
      "DEBUG (Economía) ► Validación: Economía considerada COMPLETA.\n",
      "--- Evaluando Condición: ruta_decision_economia ---\n",
      "--- DEBUG CHECK ECONOMIA (Manual) ---\n",
      "Input econ object: modo=2 submodo=1 ingresos=None ahorro=None pago_contado=22000.0 cuota_max=None entrada=None anos_posesion=None\n",
      "DEBUG (Validation Economía Manual) ► Modo 2/Submodo 1 completo (pago_contado presente).\n",
      "DEBUG (Condición Economía) ► Economía COMPLETA. Avanzando a finalizar.\n",
      "--- Ejecutando Nodo: calcular_recomendacion_economia_modo1_node ---\n",
      "--- Ejecutando Nodo: obtener_tipos_carroceria_rag_node ---\n"
     ]
    },
    {
     "name": "stderr",
     "output_type": "stream",
     "text": [
      "INFO:faiss.loader:Successfully loaded faiss.\n",
      "INFO:faiss:Failed to load GPU Faiss: name 'GpuIndexIVFFlat' is not defined. Will not load constructor refs for GPU indexes.\n",
      "INFO:root:Índice FAISS cargado exitosamente desde disco.\n",
      "INFO:root:INFO (RAG) ► Zona de Clima de Montaña detectada. Enriqueciendo query RAG.\n",
      "INFO:root:INFO (RAG) ► Query RAG construida: 'campo ligero fuera de asfalto excursiones versátil todoterreno SUV robusto' con k=4\n"
     ]
    },
    {
     "name": "stdout",
     "output_type": "stream",
     "text": [
      "DEBUG (RAG Query Construida) ► Partes: ['campo', 'ligero fuera de asfalto', 'excursiones', 'versátil', 'todoterreno', 'SUV robusto'] -> Query: 'campo ligero fuera de asfalto excursiones versátil todoterreno SUV robusto'\n"
     ]
    },
    {
     "name": "stderr",
     "output_type": "stream",
     "text": [
      "INFO:httpx:HTTP Request: POST https://api.openai.com/v1/embeddings \"HTTP/1.1 200 OK\"\n",
      "INFO:root:INFO (RAG) ► Tipos de carrocería recomendados por RAG (final, top 4): ['SUV', 'TODOTERRENO', 'DESCAPOTABLE', 'PICKUP']\n"
     ]
    },
    {
     "name": "stdout",
     "output_type": "stream",
     "text": [
      "--- Ejecutando Nodo: calcular_flags_dinamicos_node ---\n",
      "--- Ejecutando Nodo: calcular_pesos_finales_node ---\n",
      "DEBUG (Weights) ► Pesos crudos iniciales (est/prem/sing): {'estetica': 1.0, 'premium': 1.0, 'singular': 2.0}\n",
      "DEBUG (Weights) ► Pesos crudos tras añadir aventura: {'estetica': 1.0, 'premium': 1.0, 'singular': 2.0, 'altura_libre_suelo': 6.0, 'traccion': 3.0, 'reductoras': 1.0}\n",
      "DEBUG (Weights) ► Usuario NO alto. Asignando pesos bajos a batalla/índice.\n",
      "DEBUG (Weights) ► Pesos crudos tras añadir dims por altura: {'estetica': 1.0, 'premium': 1.0, 'singular': 2.0, 'altura_libre_suelo': 6.0, 'traccion': 3.0, 'reductoras': 1.0, 'batalla': 1.0, 'indice_altura_interior': 1.0}\n",
      "DEBUG (Weights) ► Priorizar Ancho=False/None. Asignando peso crudo bajo a ancho_general_score: 1.0\n",
      "DEBUG (Weights) ► Peso crudo para devaluacion (basado en prioriza_baja_depreciacion='no'): 1.0\n",
      "DEBUG (Weights) ► Zona Nieblas (False): Peso crudo final rating_seguridad = 7.0\n",
      "DEBUG (Weights) ► Zona Nieve (True), Zona Montaña (True): Peso crudo final traccion = 10.0\n",
      "DEBUG (Weights) ► Estilo Conducción 'tranquilo' o no definido. Aplicando pesos bajos de deportividad.\n",
      "DEBUG (Weights) ► Pesos crudos tras añadir ratings: {'estetica': 1.0, 'premium': 1.0, 'singular': 2.0, 'altura_libre_suelo': 6.0, 'traccion': 10.0, 'reductoras': 1.0, 'batalla': 1.0, 'indice_altura_interior': 1.0, 'ancho_general_score': 1.0, 'devaluacion': 1.0, 'rating_fiabilidad_durabilidad': 7.0, 'rating_seguridad': 7.0, 'rating_comodidad': 7.0, 'rating_impacto_ambiental': 5.0, 'rating_costes_uso': 4.0, 'rating_tecnologia_conectividad': 6.0, 'maletero_minimo_score': 1.0, 'maletero_maximo_score': 1.0, 'largo_vehiculo_score': 1.0, 'autonomia_vehiculo': 0.5, 'fav_bajo_peso': 0.0, 'fav_bajo_consumo': 0.0, 'fav_bajo_coste_uso_directo': 0.5, 'fav_bajo_coste_mantenimiento_directo': 0.5, 'par_motor_remolque_score': 0.5, 'cap_remolque_cf_score': 0.5, 'cap_remolque_sf_score': 0.5, 'fav_menor_superficie_planta': 0.5, 'fav_menor_diametro_giro': 0.5, 'fav_menor_largo_garage': 0.5, 'fav_menor_ancho_garage': 0.5, 'fav_menor_alto_garage': 0.5, 'deportividad_style_score': 1.0, 'fav_menor_rel_peso_potencia_score': 0.5, 'potencia_maxima_style_score': 0.5, 'par_motor_style_score': 0.5, 'fav_menor_aceleracion_score': 1.0}\n",
      "DEBUG (Normalize Weights) ► Pesos Normalizados: {'estetica': 0.0136986301369863, 'premium': 0.0136986301369863, 'singular': 0.0273972602739726, 'altura_libre_suelo': 0.0821917808219178, 'traccion': 0.136986301369863, 'reductoras': 0.0136986301369863, 'batalla': 0.0136986301369863, 'indice_altura_interior': 0.0136986301369863, 'ancho_general_score': 0.0136986301369863, 'devaluacion': 0.0136986301369863, 'rating_fiabilidad_durabilidad': 0.0958904109589041, 'rating_seguridad': 0.0958904109589041, 'rating_comodidad': 0.0958904109589041, 'rating_impacto_ambiental': 0.0684931506849315, 'rating_costes_uso': 0.0547945205479452, 'rating_tecnologia_conectividad': 0.0821917808219178, 'maletero_minimo_score': 0.0136986301369863, 'maletero_maximo_score': 0.0136986301369863, 'largo_vehiculo_score': 0.0136986301369863, 'autonomia_vehiculo': 0.00684931506849315, 'fav_bajo_peso': 0.0, 'fav_bajo_consumo': 0.0, 'fav_bajo_coste_uso_directo': 0.00684931506849315, 'fav_bajo_coste_mantenimiento_directo': 0.00684931506849315, 'par_motor_remolque_score': 0.00684931506849315, 'cap_remolque_cf_score': 0.00684931506849315, 'cap_remolque_sf_score': 0.00684931506849315, 'fav_menor_superficie_planta': 0.00684931506849315, 'fav_menor_diametro_giro': 0.00684931506849315, 'fav_menor_largo_garage': 0.00684931506849315, 'fav_menor_ancho_garage': 0.00684931506849315, 'fav_menor_alto_garage': 0.00684931506849315, 'deportividad_style_score': 0.0136986301369863, 'fav_menor_rel_peso_potencia_score': 0.00684931506849315, 'potencia_maxima_style_score': 0.00684931506849315, 'par_motor_style_score': 0.00684931506849315, 'fav_menor_aceleracion_score': 0.0136986301369863}\n",
      "--- Ejecutando Nodo: formatear_tabla_resumen_node ---\n",
      "--- Ejecutando Nodo: buscar_coches_finales_node ---\n",
      "--- 🧠 SQL Query (buscar_coches_bq) ---\n",
      "\n",
      "    WITH ScaledData AS (\n",
      "        SELECT\n",
      "            *,\n",
      "            COALESCE(SAFE_DIVIDE(COALESCE(estetica, 1.0) - 1.0, NULLIF(10.0 - 1.0, 0)), 0) AS estetica_scaled,\n",
      "            COALESCE(SAFE_DIVIDE(COALESCE(premium, 1.0) - 1.0, NULLIF(10.0 - 1.0, 0)), 0) AS premium_scaled,\n",
      "            COALESCE(SAFE_DIVIDE(COALESCE(singular, 1.0) - 1.0, NULLIF(10.0 - 1.0, 0)), 0) AS singular_scaled,\n",
      "            COALESCE(SAFE_DIVIDE(COALESCE(altura_libre_suelo, 79.0) - 79.0, NULLIF(314.0 - 79.0, 0)), 0) AS altura_scaled,\n",
      "            COALESCE(SAFE_DIVIDE(COALESCE(batalla, 1650.0) - 1650.0, NULLIF(4035.0 - 1650.0, 0)), 0) AS batalla_scaled,\n",
      "            COALESCE(SAFE_DIVIDE(COALESCE(indice_altura_interior, 0.9) - 0.9, NULLIF(2.7 - 0.9, 0)), 0) AS indice_altura_scaled,\n",
      "            COALESCE(SAFE_DIVIDE(COALESCE(ancho, 1410.0) - 1410.0, NULLIF(2164.0 - 1410.0, 0)), 0) AS ancho_scaled,\n",
      "            COALESCE(SAFE_DIVIDE(COALESCE(fiabilidad, 1.0) - 1.0, NULLIF(10.0 - 1.0, 0)), 0) AS fiabilidad_scaled,\n",
      "            COALESCE(SAFE_DIVIDE(COALESCE(durabilidad, 1.0) - 1.0, NULLIF(10.0 - 1.0, 0)), 0) AS durabilidad_scaled,\n",
      "            COALESCE(SAFE_DIVIDE(COALESCE(seguridad, 1.0) - 1.0, NULLIF(10.0 - 1.0, 0)), 0) AS seguridad_scaled,\n",
      "            COALESCE(SAFE_DIVIDE(COALESCE(comodidad, 1.0) - 1.0, NULLIF(10.0 - 1.0, 0)), 0) AS comodidad_scaled,\n",
      "            COALESCE(SAFE_DIVIDE(31.0 - COALESCE(costes_de_uso, 31.0), NULLIF(31.0 - 3.0, 0)), 0) AS costes_de_uso_bajo_scaled,\n",
      "            COALESCE(SAFE_DIVIDE(10.0 - COALESCE(costes_mantenimiento, 10.0), NULLIF(10.0 - 1.0, 0)), 0) AS costes_mantenimiento_bajo_scaled,\n",
      "            COALESCE(SAFE_DIVIDE(COALESCE(tecnologia, 1.0) - 1.0, NULLIF(10.0 - 1.0, 0)), 0) AS tecnologia_scaled,\n",
      "            COALESCE(SAFE_DIVIDE(COALESCE(acceso_low_cost, 1.0) - 1.0, NULLIF(10.0 - 1.0, 0)), 0) AS acceso_low_cost_scaled,\n",
      "            COALESCE(SAFE_DIVIDE(COALESCE(deportividad, 1.0) - 1.0, NULLIF(10.0 - 1.0, 0)), 0) AS deportividad_bq_scaled, -- Para penalización\n",
      "            COALESCE(SAFE_DIVIDE(COALESCE(devaluacion, 0.0) - 0.0, NULLIF(10.0 - 0.0, 0)), 0) AS devaluacion_scaled,\n",
      "            COALESCE(SAFE_DIVIDE(COALESCE(maletero_minimo, 11.0) - 11.0, NULLIF(15000.0 - 11.0, 0)), 0) AS maletero_minimo_scaled,\n",
      "            COALESCE(SAFE_DIVIDE(COALESCE(maletero_maximo, 11.0) - 11.0, NULLIF(15000.0 - 11.0, 0)), 0) AS maletero_maximo_scaled,\n",
      "            COALESCE(SAFE_DIVIDE(COALESCE(largo, 2450.0) - 2450.0, NULLIF(6400.0 - 2450.0, 0)), 0) AS largo_scaled,\n",
      "            COALESCE(SAFE_DIVIDE(COALESCE(autonomia_uso_maxima, 30.8) - 30.8, NULLIF(1582.4 - 30.8, 0)), 0) AS autonomia_uso_maxima_scaled,\n",
      "            -- --- NUEVOS CAMPOS ESCALADOS (INVERTIDOS) ---\n",
      "            COALESCE(SAFE_DIVIDE(3500.0 - COALESCE(peso, 3500.0), NULLIF(3500.0 - 470.0, 0)), 0) AS bajo_peso_scaled,\n",
      "            COALESCE(SAFE_DIVIDE(133.0 - COALESCE(indice_consumo_energia, 133.0), NULLIF(133.0 - 7.4, 0)), 0) AS bajo_consumo_scaled,\n",
      "            COALESCE(SAFE_DIVIDE(COALESCE(par, 41.0) - 41.0, NULLIF(967.0 - 41.0, 0)), 0) AS par_scaled,\n",
      "            COALESCE(SAFE_DIVIDE(COALESCE(capacidad_remolque_con_freno, 100.0) - 100.0, NULLIF(3600.0 - 100.0, 0)), 0) AS cap_remolque_cf_scaled,\n",
      "            COALESCE(SAFE_DIVIDE(COALESCE(capacidad_remolque_sin_freno, 35.0) - 35.0, NULLIF(1250.0 - 35.0, 0)), 0) AS cap_remolque_sf_scaled,\n",
      "            COALESCE(SAFE_DIVIDE(14.0 - COALESCE(superficie_planta, 14.0), NULLIF(14.0 - 2.9, 0)), 0) AS menor_superficie_planta_scaled,\n",
      "            COALESCE(SAFE_DIVIDE(15.6 - COALESCE(diametro_giro, 15.6), NULLIF(15.6 - 7.0, 0)), 0) AS menor_diametro_giro_scaled,\n",
      "            COALESCE(SAFE_DIVIDE(6400.0 - COALESCE(largo, 6400.0), NULLIF(6400.0 - 2450.0, 0)), 0) AS menor_largo_garage_scaled,\n",
      "            COALESCE(SAFE_DIVIDE(2164.0 - COALESCE(ancho, 2164.0), NULLIF(2164.0 - 1410.0, 0)), 0) AS menor_ancho_garage_scaled,\n",
      "            COALESCE(SAFE_DIVIDE(2940.0 - COALESCE(alto, 2940.0), NULLIF(2940.0 - 1052.0, 0)), 0) AS menor_alto_garage_scaled,\n",
      "            COALESCE(SAFE_DIVIDE(COALESCE(deportividad, 1.0) - 1.0, NULLIF(10.0 - 1.0, 0)), 0) AS deportividad_style_scaled, -- Reusa la columna 'deportividad' de BQ\n",
      "            COALESCE(SAFE_DIVIDE(28.3 - COALESCE(relacion_peso_potencia, 28.3), NULLIF(28.3 - 1.8, 0)), 0) AS menor_rel_peso_potencia_scaled,\n",
      "            COALESCE(SAFE_DIVIDE(COALESCE(potencia_maxima, 41.0) - 41.0, NULLIF(789.0 - 41.0, 0)), 0) AS potencia_maxima_style_scaled,\n",
      "            COALESCE(SAFE_DIVIDE(34.0 - COALESCE(aceleracion_0_100, 34.0), NULLIF(34.0 - 2.5, 0)), 0) AS menor_aceleracion_scaled,\n",
      "            CASE WHEN traccion = 'ALL' THEN 1.0 WHEN traccion = 'RWD' THEN 0.5 ELSE 0.0 END AS traccion_scaled,\n",
      "            (CASE WHEN COALESCE(reductoras, FALSE) THEN 1.0 ELSE 0.0 END) AS reductoras_scaled,\n",
      "            (CASE WHEN @penalizar_puertas = TRUE AND puertas <= 3 THEN -0.1 ELSE 0.0 END) AS puertas_penalty\n",
      "        FROM\n",
      "            `thecarmentor-mvp2.web_cars.match_coches_pruebas`\n",
      "    )\n",
      "    SELECT\n",
      "      sd.nombre, sd.ID , sd.modelo, sd.cambio_automatico, sd.tipo_mecanica, sd.tipo_carroceria, \n",
      "      sd.indice_altura_interior, sd.estetica, sd.premium, sd.singular,  sd.seguridad, sd.comodidad,  sd.acceso_low_cost, sd.deportividad AS deportividad_original_bq, sd.tecnologia, sd.devaluacion, \n",
      "      sd.altura_libre_suelo, sd.maletero_minimo, sd.maletero_maximo, sd.traccion, sd.reductoras, \n",
      "      sd.plazas, sd.precio_compra_contado, sd.largo, sd.autonomia_uso_maxima, sd.distintivo_ambiental, \n",
      "      sd.anos_vehiculo, sd.ocasion, sd.peso AS peso_original_kg, \n",
      "      sd.indice_consumo_energia AS consumo_original, sd.costes_de_uso, sd.costes_mantenimiento,\n",
      "      sd.par, sd.capacidad_remolque_con_freno, sd.capacidad_remolque_sin_freno, \n",
      "      sd.superficie_planta, sd.diametro_giro, sd.alto,\n",
      "      sd.relacion_peso_potencia, sd.potencia_maxima, sd.aceleracion_0_100,\n",
      "      -- Seleccionar todas las columnas _scaled para depuración\n",
      "      sd.estetica_scaled, sd.premium_scaled, sd.singular_scaled, sd.altura_scaled, sd.batalla_scaled, sd.indice_altura_scaled,\n",
      "      sd.ancho_scaled, sd.fiabilidad_scaled, sd.durabilidad_scaled, sd.seguridad_scaled, sd.comodidad_scaled,\n",
      "      sd.costes_de_uso_bajo_scaled, sd.costes_mantenimiento_bajo_scaled, sd.tecnologia_scaled, sd.acceso_low_cost_scaled,\n",
      "      sd.deportividad_bq_scaled, sd.devaluacion_scaled, sd.maletero_minimo_scaled, sd.maletero_maximo_scaled,\n",
      "      sd.largo_scaled, sd.autonomia_uso_maxima_scaled, sd.traccion_scaled, sd.bajo_peso_scaled, sd.bajo_consumo_scaled,\n",
      "      sd.par_scaled, sd.cap_remolque_cf_scaled, sd.cap_remolque_sf_scaled, sd.reductoras_scaled, sd.puertas_penalty,\n",
      "      sd.menor_superficie_planta_scaled, sd.menor_diametro_giro_scaled, sd.menor_largo_garage_scaled,\n",
      "      sd.menor_ancho_garage_scaled, sd.menor_alto_garage_scaled, sd.deportividad_style_scaled,\n",
      "      sd.menor_rel_peso_potencia_scaled, sd.potencia_maxima_style_scaled, sd.menor_aceleracion_scaled,\n",
      "      \n",
      "      ( \n",
      "        sd.estetica_scaled * @peso_estetica \n",
      "        + sd.premium_scaled * @peso_premium\n",
      "        + sd.singular_scaled * @peso_singular\n",
      "        + sd.altura_scaled * @peso_altura\n",
      "        + sd.batalla_scaled * @peso_batalla \n",
      "        + sd.indice_altura_scaled * @peso_indice_altura\n",
      "        + sd.ancho_scaled * @peso_ancho_general_score \n",
      "        + sd.traccion_scaled * @peso_traccion\n",
      "        + sd.reductoras_scaled * @peso_reductoras\n",
      "        + sd.puertas_penalty\n",
      "        + sd.fiabilidad_scaled * @peso_rating_fiabilidad_durabilidad  \n",
      "        + sd.durabilidad_scaled * @peso_rating_fiabilidad_durabilidad \n",
      "        + sd.seguridad_scaled * @peso_rating_seguridad               \n",
      "        + sd.comodidad_scaled * @peso_rating_comodidad\n",
      "        + sd.fiabilidad_scaled * @peso_rating_impacto_ambiental  \n",
      "        + sd.durabilidad_scaled * @peso_rating_impacto_ambiental \n",
      "        + sd.tecnologia_scaled * @peso_rating_tecnologia_conectividad \n",
      "        + sd.devaluacion_scaled * @peso_devaluacion\n",
      "        + sd.maletero_minimo_scaled * @peso_maletero_minimo_score\n",
      "        + sd.maletero_maximo_scaled * @peso_maletero_maximo_score\n",
      "        + sd.largo_scaled * @peso_largo_vehiculo_score\n",
      "        + sd.autonomia_uso_maxima_scaled * @peso_autonomia_vehiculo\n",
      "        + sd.bajo_peso_scaled * @peso_fav_bajo_peso\n",
      "        + sd.bajo_consumo_scaled * @peso_fav_bajo_consumo\n",
      "        + sd.costes_de_uso_bajo_scaled * @peso_fav_bajo_coste_uso_directo # Renombrado _scaled\n",
      "        + sd.costes_mantenimiento_bajo_scaled * @peso_fav_bajo_coste_mantenimiento_directo # Renombrado _scaled\n",
      "        + sd.par_scaled * @peso_par_motor_remolque_score\n",
      "        + sd.cap_remolque_cf_scaled * @peso_cap_remolque_cf_score\n",
      "        + sd.cap_remolque_sf_scaled * @peso_cap_remolque_sf_score\n",
      "        + sd.menor_superficie_planta_scaled * @peso_fav_menor_superficie_planta\n",
      "        + sd.menor_diametro_giro_scaled * @peso_fav_menor_diametro_giro\n",
      "        + sd.menor_largo_garage_scaled * @peso_fav_menor_largo_garage\n",
      "        + sd.menor_ancho_garage_scaled * @peso_fav_menor_ancho_garage\n",
      "        + sd.menor_alto_garage_scaled * @peso_fav_menor_alto_garage\n",
      "        + sd.deportividad_style_scaled * @peso_deportividad_style_score\n",
      "        + sd.menor_rel_peso_potencia_scaled * @peso_fav_menor_rel_peso_potencia_score\n",
      "        + sd.potencia_maxima_style_scaled * @peso_potencia_maxima_style_score\n",
      "        + sd.par_scaled * @peso_par_motor_style_score \n",
      "        + sd.menor_aceleracion_scaled * @peso_fav_menor_aceleracion_score\n",
      "        + (CASE WHEN @flag_penalizar_low_cost_comodidad = TRUE AND sd.acceso_low_cost_scaled >= 0.5 THEN -0.1 ELSE 0.0 END)\n",
      "        + (CASE WHEN @flag_penalizar_deportividad_comodidad = TRUE AND sd.deportividad_bq_scaled >= 0.5 THEN -0.1 ELSE 0.0 END) # Usa deportividad_bq_scaled para penalización\n",
      "        + (CASE \n",
      "             WHEN @flag_penalizar_antiguo_tec = TRUE THEN\n",
      "                 CASE\n",
      "                     WHEN sd.anos_vehiculo > 10 THEN -0.15\n",
      "                     WHEN sd.anos_vehiculo > 7  THEN -0.1\n",
      "                     WHEN sd.anos_vehiculo > 5  THEN -0.05\n",
      "                     ELSE 0.0 \n",
      "                 END\n",
      "             ELSE 0.0 \n",
      "           END)\n",
      "        + (CASE\n",
      "             WHEN @flag_aplicar_logica_distintivo = TRUE THEN\n",
      "                 CASE\n",
      "                     WHEN UPPER(sd.distintivo_ambiental) IN ('CERO', '0', 'ECO', 'C') THEN 0.1\n",
      "                     WHEN UPPER(sd.distintivo_ambiental) IN ('B', 'NA') THEN -0.15\n",
      "                     ELSE 0.0 \n",
      "                 END\n",
      "             ELSE 0.0 \n",
      "           END)\n",
      "        + (CASE\n",
      "             WHEN @flag_aplicar_logica_distintivo = TRUE AND COALESCE(sd.ocasion, FALSE) = TRUE THEN 0.1\n",
      "             ELSE 0.0\n",
      "           END)\n",
      "        + (CASE\n",
      "             WHEN @flag_es_municipio_zbe = TRUE THEN\n",
      "                 CASE\n",
      "                     WHEN UPPER(sd.distintivo_ambiental) IN ('CERO', '0', 'ECO', 'C') THEN 0.1\n",
      "                     WHEN UPPER(sd.distintivo_ambiental) IN ('B', 'NA') THEN -0.1\n",
      "                     ELSE 0.0 \n",
      "                 END\n",
      "             ELSE 0.0 \n",
      "           END)\n",
      "      ) AS score_total\n",
      "    FROM ScaledData sd -- Alias aquí para usarlo en SELECT y SCORE\n",
      "    WHERE 1=1 \n",
      "    \n",
      "      AND COALESCE(sd.estetica, 0) >= @estetica_min\n",
      "      AND COALESCE(sd.premium, 0) >= @premium_min\n",
      "      AND COALESCE(sd.singular, 0) >= @singular_min\n",
      "      AND sd.tipo_mecanica IN UNNEST(@tipos_mecanica)\n",
      "      AND sd.tipo_carroceria IN UNNEST(@tipos_carroceria)\n",
      "      AND COALESCE(sd.precio_compra_contado, 999999999) <= @precio_maximo\n",
      "    ORDER BY score_total DESC, sd.precio_compra_contado ASC\n",
      "    LIMIT @k\n",
      "\n",
      "--- 📦 Parameters (buscar_coches_bq) ---\n",
      "[{'name': 'peso_estetica', 'value': 0.0136986301369863, 'type': 'FLOAT64'}, {'name': 'peso_premium', 'value': 0.0136986301369863, 'type': 'FLOAT64'}, {'name': 'peso_singular', 'value': 0.0273972602739726, 'type': 'FLOAT64'}, {'name': 'peso_altura', 'value': 0.0821917808219178, 'type': 'FLOAT64'}, {'name': 'peso_batalla', 'value': 0.0136986301369863, 'type': 'FLOAT64'}, {'name': 'peso_indice_altura', 'value': 0.0136986301369863, 'type': 'FLOAT64'}, {'name': 'peso_ancho_general_score', 'value': 0.0136986301369863, 'type': 'FLOAT64'}, {'name': 'peso_traccion', 'value': 0.136986301369863, 'type': 'FLOAT64'}, {'name': 'peso_reductoras', 'value': 0.0136986301369863, 'type': 'FLOAT64'}, {'name': 'penalizar_puertas', 'value': False, 'type': 'BOOL'}, {'name': 'peso_rating_fiabilidad_durabilidad', 'value': 0.0958904109589041, 'type': 'FLOAT64'}, {'name': 'peso_rating_seguridad', 'value': 0.0958904109589041, 'type': 'FLOAT64'}, {'name': 'peso_rating_comodidad', 'value': 0.0958904109589041, 'type': 'FLOAT64'}, {'name': 'peso_rating_impacto_ambiental', 'value': 0.0684931506849315, 'type': 'FLOAT64'}, {'name': 'peso_rating_costes_uso', 'value': 0.0547945205479452, 'type': 'FLOAT64'}, {'name': 'peso_fav_bajo_coste_uso_directo', 'value': 0.00684931506849315, 'type': 'FLOAT64'}, {'name': 'peso_fav_bajo_coste_mantenimiento_directo', 'value': 0.00684931506849315, 'type': 'FLOAT64'}, {'name': 'peso_rating_tecnologia_conectividad', 'value': 0.0821917808219178, 'type': 'FLOAT64'}, {'name': 'peso_devaluacion', 'value': 0.0136986301369863, 'type': 'FLOAT64'}, {'name': 'peso_maletero_minimo_score', 'value': 0.0136986301369863, 'type': 'FLOAT64'}, {'name': 'peso_maletero_maximo_score', 'value': 0.0136986301369863, 'type': 'FLOAT64'}, {'name': 'peso_largo_vehiculo_score', 'value': 0.0136986301369863, 'type': 'FLOAT64'}, {'name': 'peso_autonomia_vehiculo', 'value': 0.00684931506849315, 'type': 'FLOAT64'}, {'name': 'peso_fav_bajo_peso', 'value': 0.0, 'type': 'FLOAT64'}, {'name': 'peso_fav_bajo_consumo', 'value': 0.0, 'type': 'FLOAT64'}, {'name': 'peso_par_motor_remolque_score', 'value': 0.00684931506849315, 'type': 'FLOAT64'}, {'name': 'peso_cap_remolque_cf_score', 'value': 0.00684931506849315, 'type': 'FLOAT64'}, {'name': 'peso_cap_remolque_sf_score', 'value': 0.00684931506849315, 'type': 'FLOAT64'}, {'name': 'peso_fav_menor_superficie_planta', 'value': 0.00684931506849315, 'type': 'FLOAT64'}, {'name': 'peso_fav_menor_diametro_giro', 'value': 0.00684931506849315, 'type': 'FLOAT64'}, {'name': 'peso_fav_menor_largo_garage', 'value': 0.00684931506849315, 'type': 'FLOAT64'}, {'name': 'peso_fav_menor_ancho_garage', 'value': 0.00684931506849315, 'type': 'FLOAT64'}, {'name': 'peso_fav_menor_alto_garage', 'value': 0.00684931506849315, 'type': 'FLOAT64'}, {'name': 'peso_deportividad_style_score', 'value': 0.0136986301369863, 'type': 'FLOAT64'}, {'name': 'peso_fav_menor_rel_peso_potencia_score', 'value': 0.00684931506849315, 'type': 'FLOAT64'}, {'name': 'peso_potencia_maxima_style_score', 'value': 0.00684931506849315, 'type': 'FLOAT64'}, {'name': 'peso_par_motor_style_score', 'value': 0.00684931506849315, 'type': 'FLOAT64'}, {'name': 'peso_fav_menor_aceleracion_score', 'value': 0.0136986301369863, 'type': 'FLOAT64'}, {'name': 'flag_penalizar_low_cost_comodidad', 'value': True, 'type': 'BOOL'}, {'name': 'flag_penalizar_deportividad_comodidad', 'value': True, 'type': 'BOOL'}, {'name': 'flag_penalizar_antiguo_tec', 'value': False, 'type': 'BOOL'}, {'name': 'flag_aplicar_logica_distintivo', 'value': False, 'type': 'BOOL'}, {'name': 'flag_es_municipio_zbe', 'value': False, 'type': 'BOOL'}, {'name': 'k', 'value': 7, 'type': 'INT64'}, {'name': 'estetica_min', 'value': 1.0, 'type': 'FLOAT64'}, {'name': 'premium_min', 'value': 1.0, 'type': 'FLOAT64'}, {'name': 'singular_min', 'value': 2.0, 'type': 'FLOAT64'}, {'name': 'tipos_mecanica', 'value': ['DIESEL', 'GASOLINA'], 'type': 'ARRAY<STRING>'}, {'name': 'tipos_carroceria', 'value': ['SUV', 'TODOTERRENO', 'DESCAPOTABLE', 'PICKUP'], 'type': 'ARRAY<STRING>'}, {'name': 'precio_maximo', 'value': 22000.0, 'type': 'FLOAT64'}]\n"
     ]
    },
    {
     "name": "stderr",
     "output_type": "stream",
     "text": [
      "INFO:root:✅ BigQuery query ejecutada, 7 resultados obtenidos.\n",
      "INFO:root:Log de búsqueda para conversación 'unknown_thread' insertado en BigQuery.\n"
     ]
    },
    {
     "name": "stdout",
     "output_type": "stream",
     "text": [
      "INFO (BQ Logger) ► Log para 'unknown_thread' guardado en BQ.\n",
      "==================================\u001b[1m Ai Message \u001b[0m==================================\n",
      "\n",
      "✅ He entendido lo siguiente sobre tus preferencias:\n",
      "\n",
      "| Preferencia              | Valor                      |\n",
      "|--------------------------|----------------------------|\n",
      "| Código Postal            | 17537 |\n",
      "|Condiciones Zona  | Zona Nieve Frecuente, Zona Clima de Montaña \n",
      "| Apasionado del motor    | No \n",
      "| Estética                | No prioritaria \n",
      "| Principal del Hogar     | No \n",
      "| Uso                     | Particular \n",
      "| Tipo de coche           | No necesariamente eléctrico \n",
      "| Diseño exclusivo        | No (Discreto) |\n",
      "| Altura                  | Menor a 1.90 m \n",
      "| Peso                    | Menor a 100 kg  \n",
      "| Transmisión preferida   | Ambos      \n",
      "| Aventura                | Ocasional    \n",
      "| Prioriza Baja Depreciación| No \n",
      "\n",
      "📊 Importancia de Características (0-10):\n",
      "\n",
      "| Característica                   | Rating (0-10) |\n",
      "|----------------------------------|---------------|\n",
      "| Fiabilidad y Durabilidad         | 7 |\n",
      "| Seguridad                        | 7 |\n",
      "| Comodidad                        | 7 |\n",
      "| Impacto Ambiental                | 5 |\n",
      "| Costes de Uso/Mantenimiento      | 4 |\n",
      "| Tecnología y Conectividad        | 6 |\n",
      "\n",
      "🎯 Filtros técnicos inferidos:\n",
      "\n",
      "| Filtro técnico        | Valor                            |\n",
      "|-----------------------|----------------------------------|\n",
      "| Tipo de mecánica     | DIESEL, GASOLINA |\n",
      "| Tipo de carrocería   | SUV, TODOTERRENO, DESCAPOTABLE, PICKUP |\n",
      "| Estética mínima      | 1.0 |\n",
      "| Premium mínima       | 1.0  |\n",
      "| Singularidad mínima  | 2.0 |\n",
      "\n",
      "💰 Economía del usuario:\n",
      "\n",
      "| Concepto                | Valor               |\n",
      "|-------------------------|---------------------|\n",
      "| Modo                    | Presupuesto Definido |\n",
      "| Años Posesión Estimados | No especificado |\n",
      "| Tipo de Pago            | Pago Contado |\n",
      "| Presupuesto Contado     | 22.000 € |\n",
      "\n",
      "---\n",
      "\n",
      "¡Listo! Basado en todo lo que hablamos, aquí tienes 7 coche(s) que podrían interesarte:\n",
      "\n",
      "\n",
      "**1. Volvo XC60 D4 Momentum AWD** - 20.990€ (Score: 0.805)\n",
      "   *Por qué podría interesarte:* Destaca porque ofrece un gran confort (importante porque el confort es una prioridad) y también porque ofrece un alto nivel de seguridad (importante porque la seguridad es clave para ti).\n",
      "\n",
      "**2. Subaru XV 1.6i Exclusive Lineartronic** - 17.490€ (Score: 0.800)\n",
      "   *Por qué podría interesarte:* Destaca porque ofrece un alto nivel de seguridad (importante porque la seguridad es clave para ti) y también porque ofrece un gran confort (importante porque el confort es una prioridad).\n",
      "\n",
      "**3. Subaru XV 1.6i Exclusive Lineartronic** - 17.749€ (Score: 0.800)\n",
      "   *Por qué podría interesarte:* Destaca porque ofrece un alto nivel de seguridad (importante porque la seguridad es clave para ti) y también porque ofrece un gran confort (importante porque el confort es una prioridad).\n",
      "\n",
      "**4. Volvo XC60 2.4D Momentum AWD** - 13.995€ (Score: 0.775)\n",
      "   *Por qué podría interesarte:* Destaca porque ofrece un alto nivel de seguridad (importante porque la seguridad es clave para ti) y también porque ofrece un gran confort (importante porque el confort es una prioridad).\n",
      "\n",
      "**5. Volvo XC60 2.4D Kinetic AWD** - 13.950€ (Score: 0.762)\n",
      "   *Por qué podría interesarte:* Destaca principalmente porque ofrece un alto nivel de seguridad (importante porque la seguridad es clave para ti).\n",
      "\n",
      "**6. Subaru Forester 2.0D Active Lineartronic** - 18.900€ (Score: 0.744)\n",
      "   *Por qué podría interesarte:* Destaca principalmente porque ofrece un alto nivel de seguridad (importante porque la seguridad es clave para ti).\n",
      "\n",
      "**7. Porsche Cayenne Diesel Tiptronic** - 19.900€ (Score: 0.742)\n",
      "   *Por qué podría interesarte:* Destaca porque ofrece un alto nivel de seguridad (importante porque la seguridad es clave para ti) y también porque ofrece un gran confort (importante porque el confort es una prioridad).\n",
      "\n",
      "¿Qué te parecen estas opciones? ¿Hay alguno que te interese para ver más detalles?\n"
     ]
    }
   ],
   "source": [
    "# Create a thread\n",
    "config = {\"configurable\": {\"thread_id\": \"1\"}}\n",
    "\n",
    "# Start conversation\n",
    "input_message = HumanMessage(content=\"contado 22.000\")\n",
    "output = graph.invoke({\"messages\": [input_message]}, config) \n",
    "for m in output['messages'][-1:]:\n",
    "    m.pretty_print()"
   ]
  },
  {
   "cell_type": "code",
   "execution_count": null,
   "metadata": {},
   "outputs": [],
   "source": [
    "import pandas as pd\n",
    "coches_recomendados = output[('coches_recomendados')]\n",
    "\n",
    "df_resultados = pd.DataFrame(coches_recomendados)\n",
    "        \n",
    "#  OPCIÓN 1: Imprimir el DataFrame directamente (Pandas usará las opciones de display)\n",
    "# print(\"\\n--- Vista DataFrame (Pandas Display Options) ---\")\n",
    "# display(df_resultados) # 'display()' suele dar mejor formato en notebooks que 'print(df)'\n",
    "\n",
    "#OPCIÓN 2: Convertir a Markdown (como en tu nodo, pero para consola)\n",
    "print(\"\\n--- Vista Markdown ---\")\n",
    "columnas_deseadas = [ # Lista completa de columnas que seleccionas en BQ\n",
    "            'nombre', 'ID', 'marca', 'modelo', 'cambio_automatico', 'tipo_mecanica', \n",
    "            'tipo_carroceria', 'indice_altura_interior', 'batalla', 'estetica', \n",
    "            'premium', 'singular', 'altura_libre_suelo', 'ancho', 'traccion', \n",
    "            'reductoras', 'puertas', 'plazas', 'precio_compra_contado',\n",
    "            'fiabilidad', 'durabilidad', 'seguridad', 'comodidad', 'acceso_low_cost', \n",
    "            'deportividad', 'tecnologia', 'devaluacion', 'maletero_minimo', \n",
    "            'maletero_maximo', 'largo', 'autonomia_uso_maxima', \n",
    "            'distintivo_ambiental', 'anos_vehiculo', 'ocasion',\n",
    "            'peso_original_kg', 'consumo_original','score_total'\n",
    "        ]\n",
    "columnas_existentes = [col for col in columnas_deseadas if col in df_resultados.columns]\n",
    "if columnas_existentes:\n",
    "            if 'score_total' in df_resultados.columns: # Formatear score para legibilidad\n",
    "                df_resultados['score_total'] = df_resultados['score_total'].apply(lambda x: f\"{x:.4f}\" if isinstance(x, float) else x)\n",
    "            print(df_resultados[columnas_existentes].to_markdown(index=False))\n",
    "else:\n",
    "            print(\"WARN: No se encontraron columnas esperadas para mostrar en formato tabla.\")\n",
    "            print(\"Resultados crudos (lista de dicts):\", coches_recomendados)"
   ]
  },
  {
   "cell_type": "code",
   "execution_count": null,
   "metadata": {},
   "outputs": [],
   "source": [
    "print(\"\\n--- Vista JSON ---\")\n",
    "tabla_resumen = output[('tabla_resumen_criterios')]\n",
    "print(tabla_resumen)"
   ]
  },
  {
   "cell_type": "code",
   "execution_count": null,
   "metadata": {},
   "outputs": [],
   "source": [
    "# Create a thread\n",
    "config = {\"configurable\": {\"thread_id\": \"1\"}}\n",
    "\n",
    "# Start conversation\n",
    "input_message = HumanMessage(content=\"muestrame mas opciones\")\n",
    "output = graph.invoke({\"messages\": [input_message]}, config) \n",
    "for m in output['messages'][-1:]:\n",
    "    m.pretty_print()"
   ]
  },
  {
   "cell_type": "code",
   "execution_count": null,
   "metadata": {},
   "outputs": [],
   "source": [
    "config = {\"configurable\": {\"thread_id\": \"1\"}}\n",
    "\n",
    "# Start conversation\n",
    "input_message = HumanMessage(content=\"no\")\n",
    "output = graph.invoke({\"messages\": [input_message]}, config) \n",
    "for m in output['messages'][-1:]:\n",
    "    m.pretty_print()"
   ]
  },
  {
   "cell_type": "code",
   "execution_count": null,
   "metadata": {},
   "outputs": [],
   "source": [
    "config = {\"configurable\": {\"thread_id\": \"1\"}}\n",
    "\n",
    "# Start conversation\n",
    "input_message = HumanMessage(content=\"la 2\")\n",
    "output = graph.invoke({\"messages\": [input_message]}, config) \n",
    "for m in output['messages'][-1:]:\n",
    "    m.pretty_print()"
   ]
  },
  {
   "cell_type": "code",
   "execution_count": null,
   "metadata": {},
   "outputs": [],
   "source": [
    "# Create a thread\n",
    "config = {\"configurable\": {\"thread_id\": \"1\"}}\n",
    "\n",
    "# Start conversation\n",
    "input_message = HumanMessage(content=\"contado hasta 15.000\")\n",
    "output = graph.invoke({\"messages\": [input_message]}, config) \n",
    "for m in output['messages'][-1:]:\n",
    "    m.pretty_print()\n",
    "    \n",
    "    \n"
   ]
  },
  {
   "cell_type": "code",
   "execution_count": null,
   "metadata": {},
   "outputs": [],
   "source": [
    "print(output.keys())"
   ]
  },
  {
   "cell_type": "code",
   "execution_count": null,
   "metadata": {},
   "outputs": [],
   "source": [
    "# Create a thread\n",
    "config = {\"configurable\": {\"thread_id\": \"1\"}}\n",
    "\n",
    "# Start conversation\n",
    "input_message = HumanMessage(content=\"la 2\")\n",
    "output = graph.invoke({\"messages\": [input_message]}, config) \n",
    "for m in output['messages'][-1:]:\n",
    "    m.pretty_print()"
   ]
  },
  {
   "cell_type": "code",
   "execution_count": null,
   "metadata": {},
   "outputs": [],
   "source": [
    "# Create a thread\n",
    "config = {\"configurable\": {\"thread_id\": \"1\"}}\n",
    "\n",
    "# Start conversation\n",
    "input_message = HumanMessage(content=\"de contado tengo 13000 maximo\")\n",
    "output = graph.invoke({\"messages\": [input_message]}, config) \n",
    "for m in output['messages'][-1:]:\n",
    "    m.pretty_print()"
   ]
  },
  {
   "cell_type": "code",
   "execution_count": null,
   "metadata": {},
   "outputs": [],
   "source": [
    "print(output['codigo_postal_usuario'])\n",
    "print('-----------------------')\n",
    "print(output['info_clima_usuario'])\n",
    "print('-----------------------')\n",
    "print(output['preferencias_usuario'])\n",
    "print('-----------------------')\n",
    "print(output['filtros_inferidos'])\n",
    "print('-----------------------')\n",
    "print(output['info_pasajeros'])\n",
    "print('-----------------------')\n",
    "print(output['economia'])\n",
    "print('-----------------------')\n",
    "print(output['pesos'])\n",
    "print('-----------------------')\n",
    "print(\"priorizar_ancho:\",output['priorizar_ancho'])\n",
    "print('-----------------------')\n",
    "print(\"info_pasajeros:\",output['info_pasajeros'])\n",
    "print('-----------------------')\n",
    "print(\"flag_penalizar_deportividad_comodidad:\",output['flag_penalizar_deportividad_comodidad'])\n",
    "print('-----------------------')\n",
    "print(\"flag_penalizar_low_cost_comodidad:\", output['flag_penalizar_low_cost_comodidad'])\n",
    "print('-----------------------')\n",
    "print(\"penalizar_puertas_bajas:\" , output['penalizar_puertas_bajas'])\n",
    "print('-----------------------')\n",
    "print(\"flag_penalizar_antiguo_por_tecnologia:\" ,output['flag_penalizar_antiguo_por_tecnologia'])\n",
    "print('-----------------------')\n",
    "print(\"aplicar_logica_distintivo_ambiental:\" ,output['aplicar_logica_distintivo_ambiental'])\n",
    "print('-----------------------')\n",
    "print(\"penalizar_puerta bajas:\" , output['penalizar_puertas_bajas'])\n",
    "print('-----------------------')\n",
    "print(\"es municipio_zbe: \" , output['es_municipio_zbe'])\n",
    "\n",
    "\n",
    "\n",
    "\n"
   ]
  },
  {
   "cell_type": "markdown",
   "metadata": {},
   "source": [
    "## Prueba 2"
   ]
  },
  {
   "cell_type": "code",
   "execution_count": null,
   "metadata": {},
   "outputs": [],
   "source": [
    "# Create a thread\n",
    "config = {\"configurable\": {\"thread_id\": \"2\"}}\n",
    "\n",
    "# Start conversation\n",
    "input_message = HumanMessage(content=\"Quiero un coche mido 1.93. Peso 80 kg\")\n",
    "output = graph.invoke({\"messages\": [input_message]}, config) \n",
    "for m in output['messages'][-1:]:\n",
    "    m.pretty_print()"
   ]
  },
  {
   "cell_type": "code",
   "execution_count": null,
   "metadata": {},
   "outputs": [],
   "source": [
    "# Create a thread\n",
    "config = {\"configurable\": {\"thread_id\": \"2\"}}\n",
    "\n",
    "# Start conversation\n",
    "input_message = HumanMessage(content=\"si, lo soy\")\n",
    "output = graph.invoke({\"messages\": [input_message]}, config) \n",
    "for m in output['messages'][-1:]:\n",
    "    m.pretty_print()"
   ]
  },
  {
   "cell_type": "code",
   "execution_count": null,
   "metadata": {},
   "outputs": [],
   "source": [
    "# Create a thread\n",
    "config = {\"configurable\": {\"thread_id\": \"2\"}}\n",
    "\n",
    "# Start conversation\n",
    "input_message = HumanMessage(content=\"no\")\n",
    "output = graph.invoke({\"messages\": [input_message]}, config) \n",
    "for m in output['messages'][-1:]:\n",
    "    m.pretty_print()"
   ]
  },
  {
   "cell_type": "code",
   "execution_count": null,
   "metadata": {},
   "outputs": [],
   "source": [
    "# Create a thread\n",
    "config = {\"configurable\": {\"thread_id\": \"2\"}}\n",
    "\n",
    "# Start conversation\n",
    "input_message = HumanMessage(content=\"no\")\n",
    "output = graph.invoke({\"messages\": [input_message]}, config) \n",
    "for m in output['messages'][-1:]:\n",
    "    m.pretty_print()"
   ]
  },
  {
   "cell_type": "code",
   "execution_count": null,
   "metadata": {},
   "outputs": [],
   "source": [
    "# Create a thread\n",
    "config = {\"configurable\": {\"thread_id\": \"2\"}}\n",
    "\n",
    "# Start conversation\n",
    "input_message = HumanMessage(content=\"no\")\n",
    "output = graph.invoke({\"messages\": [input_message]}, config) \n",
    "for m in output['messages'][-1:]:\n",
    "    m.pretty_print()"
   ]
  },
  {
   "cell_type": "code",
   "execution_count": null,
   "metadata": {},
   "outputs": [],
   "source": [
    "# Create a thread\n",
    "config = {\"configurable\": {\"thread_id\": \"2\"}}\n",
    "\n",
    "# Start conversation\n",
    "input_message = HumanMessage(content=\"no\")\n",
    "output = graph.invoke({\"messages\": [input_message]}, config) \n",
    "for m in output['messages'][-1:]:\n",
    "    m.pretty_print()"
   ]
  },
  {
   "cell_type": "code",
   "execution_count": null,
   "metadata": {},
   "outputs": [],
   "source": [
    "# Create a thread\n",
    "config = {\"configurable\": {\"thread_id\": \"2\"}}\n",
    "\n",
    "# Start conversation\n",
    "input_message = HumanMessage(content=\"no\")\n",
    "output = graph.invoke({\"messages\": [input_message]}, config) \n",
    "for m in output['messages'][-1:]:\n",
    "    m.pretty_print()"
   ]
  },
  {
   "cell_type": "code",
   "execution_count": null,
   "metadata": {},
   "outputs": [],
   "source": [
    "# Create a thread\n",
    "config = {\"configurable\": {\"thread_id\": \"2\"}}\n",
    "\n",
    "# Start conversation\n",
    "input_message = HumanMessage(content=\"si\")\n",
    "output = graph.invoke({\"messages\": [input_message]}, config) \n",
    "for m in output['messages'][-1:]:\n",
    "    m.pretty_print()"
   ]
  },
  {
   "cell_type": "code",
   "execution_count": null,
   "metadata": {},
   "outputs": [],
   "source": [
    "# Create a thread\n",
    "config = {\"configurable\": {\"thread_id\": \"2\"}}\n",
    "\n",
    "# Start conversation\n",
    "input_message = HumanMessage(content=\"ambos\")\n",
    "output = graph.invoke({\"messages\": [input_message]}, config) \n",
    "for m in output['messages'][-1:]:\n",
    "    m.pretty_print()"
   ]
  },
  {
   "cell_type": "code",
   "execution_count": null,
   "metadata": {},
   "outputs": [],
   "source": [
    "# Create a thread\n",
    "config = {\"configurable\": {\"thread_id\": \"2\"}}\n",
    "\n",
    "# Start conversation\n",
    "input_message = HumanMessage(content=\"no\")\n",
    "output = graph.invoke({\"messages\": [input_message]}, config) \n",
    "for m in output['messages'][-1:]:\n",
    "    m.pretty_print()"
   ]
  },
  {
   "cell_type": "code",
   "execution_count": null,
   "metadata": {},
   "outputs": [],
   "source": [
    "# Create a thread\n",
    "config = {\"configurable\": {\"thread_id\": \"2\"}}\n",
    "\n",
    "# Start conversation\n",
    "input_message = HumanMessage(content=\"ocasional\")\n",
    "output = graph.invoke({\"messages\": [input_message]}, config) \n",
    "for m in output['messages'][-1:]:\n",
    "    m.pretty_print()"
   ]
  },
  {
   "cell_type": "code",
   "execution_count": null,
   "metadata": {},
   "outputs": [],
   "source": [
    "print(output['preferencias_usuario'])\n",
    "print('---------------------------------------------------------------------')\n",
    "# print(output['filtros_inferidos']) \n",
    "# print('---------------------------------------------------------------------')\n",
    "# #print(output['pesos'])"
   ]
  },
  {
   "cell_type": "code",
   "execution_count": null,
   "metadata": {},
   "outputs": [],
   "source": [
    "# Create a thread\n",
    "config = {\"configurable\": {\"thread_id\": \"2\"}}\n",
    "\n",
    "# Start conversation\n",
    "input_message = HumanMessage(content=\"no\")\n",
    "output = graph.invoke({\"messages\": [input_message]}, config) \n",
    "for m in output['messages'][-1:]:\n",
    "    m.pretty_print()"
   ]
  },
  {
   "cell_type": "code",
   "execution_count": null,
   "metadata": {},
   "outputs": [],
   "source": [
    "# Create a thread\n",
    "config = {\"configurable\": {\"thread_id\": \"2\"}}\n",
    "\n",
    "# Start conversation\n",
    "input_message = HumanMessage(content=\"7\")\n",
    "output = graph.invoke({\"messages\": [input_message]}, config) \n",
    "for m in output['messages'][-1:]:\n",
    "    m.pretty_print()"
   ]
  },
  {
   "cell_type": "code",
   "execution_count": null,
   "metadata": {},
   "outputs": [],
   "source": [
    "# Create a thread\n",
    "config = {\"configurable\": {\"thread_id\": \"2\"}}\n",
    "\n",
    "# Start conversation\n",
    "input_message = HumanMessage(content=\"9\")\n",
    "output = graph.invoke({\"messages\": [input_message]}, config) \n",
    "for m in output['messages'][-1:]:\n",
    "    m.pretty_print()"
   ]
  },
  {
   "cell_type": "code",
   "execution_count": null,
   "metadata": {},
   "outputs": [],
   "source": [
    "# Create a thread\n",
    "config = {\"configurable\": {\"thread_id\": \"2\"}}\n",
    "\n",
    "# Start conversation\n",
    "input_message = HumanMessage(content=\"5\")\n",
    "output = graph.invoke({\"messages\": [input_message]}, config) \n",
    "for m in output['messages'][-1:]:\n",
    "    m.pretty_print()"
   ]
  },
  {
   "cell_type": "code",
   "execution_count": null,
   "metadata": {},
   "outputs": [],
   "source": [
    "# Create a thread\n",
    "config = {\"configurable\": {\"thread_id\": \"2\"}}\n",
    "\n",
    "# Start conversation\n",
    "input_message = HumanMessage(content=\"siete\")\n",
    "output = graph.invoke({\"messages\": [input_message]}, config) \n",
    "for m in output['messages'][-1:]:\n",
    "    m.pretty_print()"
   ]
  },
  {
   "cell_type": "code",
   "execution_count": null,
   "metadata": {},
   "outputs": [],
   "source": [
    "# Create a thread\n",
    "config = {\"configurable\": {\"thread_id\": \"2\"}}\n",
    "\n",
    "# Start conversation\n",
    "input_message = HumanMessage(content=\"9\")\n",
    "output = graph.invoke({\"messages\": [input_message]}, config) \n",
    "for m in output['messages'][-1:]:\n",
    "    m.pretty_print()"
   ]
  },
  {
   "cell_type": "code",
   "execution_count": null,
   "metadata": {},
   "outputs": [],
   "source": [
    "# Create a thread\n",
    "config = {\"configurable\": {\"thread_id\": \"2\"}}\n",
    "\n",
    "# Start conversation\n",
    "input_message = HumanMessage(content=\"8\")\n",
    "output = graph.invoke({\"messages\": [input_message]}, config) \n",
    "for m in output['messages'][-1:]:\n",
    "    m.pretty_print()"
   ]
  },
  {
   "cell_type": "code",
   "execution_count": null,
   "metadata": {},
   "outputs": [],
   "source": [
    "# Create a thread\n",
    "config = {\"configurable\": {\"thread_id\": \"2\"}}\n",
    "\n",
    "# Start conversation\n",
    "input_message = HumanMessage(content=\"no\")\n",
    "output = graph.invoke({\"messages\": [input_message]}, config) \n",
    "for m in output['messages'][-1:]:\n",
    "    m.pretty_print()"
   ]
  },
  {
   "cell_type": "code",
   "execution_count": null,
   "metadata": {},
   "outputs": [],
   "source": [
    "# Create a thread\n",
    "config = {\"configurable\": {\"thread_id\": \"2\"}}\n",
    "\n",
    "# Start conversation\n",
    "input_message = HumanMessage(content=\"7\")\n",
    "output = graph.invoke({\"messages\": [input_message]}, config) \n",
    "for m in output['messages'][-1:]:\n",
    "    m.pretty_print()"
   ]
  },
  {
   "cell_type": "code",
   "execution_count": null,
   "metadata": {},
   "outputs": [],
   "source": [
    "config = {\"configurable\": {\"thread_id\": \"2\"}}\n",
    "input_message = HumanMessage(content=\"6\")\n",
    "output = graph.invoke({\"messages\": [input_message]}, config) \n",
    "for m in output['messages'][-1:]:\n",
    "    m.pretty_print()"
   ]
  },
  {
   "cell_type": "code",
   "execution_count": null,
   "metadata": {},
   "outputs": [],
   "source": [
    "config = {\"configurable\": {\"thread_id\": \"2\"}}\n",
    "input_message = HumanMessage(content=\"8\")\n",
    "output = graph.invoke({\"messages\": [input_message]}, config) \n",
    "for m in output['messages'][-1:]:\n",
    "    m.pretty_print()"
   ]
  },
  {
   "cell_type": "code",
   "execution_count": null,
   "metadata": {},
   "outputs": [],
   "source": [
    "# Create a thread\n",
    "config = {\"configurable\": {\"thread_id\": \"2\"}}\n",
    "\n",
    "# Start conversation\n",
    "input_message = HumanMessage(content=\"ocasionalmente\")\n",
    "output = graph.invoke({\"messages\": [input_message]}, config) \n",
    "for m in output['messages'][-1:]:\n",
    "    m.pretty_print()"
   ]
  },
  {
   "cell_type": "code",
   "execution_count": null,
   "metadata": {},
   "outputs": [],
   "source": [
    "# Create a thread\n",
    "config = {\"configurable\": {\"thread_id\": \"2\"}}\n",
    "\n",
    "# Start conversation\n",
    "input_message = HumanMessage(content=\"7\")\n",
    "output = graph.invoke({\"messages\": [input_message]}, config) \n",
    "for m in output['messages'][-1:]:\n",
    "    m.pretty_print()"
   ]
  },
  {
   "cell_type": "code",
   "execution_count": null,
   "metadata": {},
   "outputs": [],
   "source": [
    "# Create a thread\n",
    "config = {\"configurable\": {\"thread_id\": \"2\"}}\n",
    "\n",
    "# Start conversation\n",
    "input_message = HumanMessage(content=\"10\")\n",
    "output = graph.invoke({\"messages\": [input_message]}, config) \n",
    "for m in output['messages'][-1:]:\n",
    "    m.pretty_print()"
   ]
  },
  {
   "cell_type": "code",
   "execution_count": null,
   "metadata": {},
   "outputs": [],
   "source": [
    "\n",
    "print(output['preferencias_usuario'])\n",
    "print('---------------------------------------------------------------------')\n",
    "# print(output['filtros_inferidos']) \n",
    "print('---------------------------------------------------------------------')\n",
    "# print(output['economia'])"
   ]
  },
  {
   "cell_type": "code",
   "execution_count": null,
   "metadata": {},
   "outputs": [],
   "source": [
    "# Create a thread\n",
    "config = {\"configurable\": {\"thread_id\": \"2\"}}\n",
    "\n",
    "# Start conversation\n",
    "input_message = HumanMessage(content=\"si, llevo 2 acompañantes\")\n",
    "output = graph.invoke({\"messages\": [input_message]}, config) \n",
    "for m in output['messages'][-1:]:\n",
    "    m.pretty_print()"
   ]
  },
  {
   "cell_type": "code",
   "execution_count": null,
   "metadata": {},
   "outputs": [],
   "source": [
    "print(output['preferencias_usuario'])\n",
    "print('---------------------------------------------------------------------')\n",
    "print(output['filtros_inferidos']) #"
   ]
  },
  {
   "cell_type": "code",
   "execution_count": null,
   "metadata": {},
   "outputs": [],
   "source": [
    "config = {\"configurable\": {\"thread_id\": \"2\"}}\n",
    "input_message = HumanMessage(content=\"ninos no\")\n",
    "output = graph.invoke({\"messages\": [input_message]}, config) \n",
    "for m in output['messages'][-1:]:\n",
    "    m.pretty_print()"
   ]
  },
  {
   "cell_type": "code",
   "execution_count": null,
   "metadata": {},
   "outputs": [],
   "source": [
    "config = {\"configurable\": {\"thread_id\": \"2\"}}\n",
    "input_message = HumanMessage(content=\"la 2\")\n",
    "output = graph.invoke({\"messages\": [input_message]}, config) \n",
    "for m in output['messages'][-1:]:\n",
    "    m.pretty_print()"
   ]
  },
  {
   "cell_type": "code",
   "execution_count": null,
   "metadata": {},
   "outputs": [],
   "source": [
    "config = {\"configurable\": {\"thread_id\": \"2\"}}\n",
    "input_message = HumanMessage(content=\"pago total al contado maximo de 22.000 euros\")\n",
    "output = graph.invoke({\"messages\": [input_message]}, config) \n",
    "for m in output['messages'][-1:]:\n",
    "    m.pretty_print()"
   ]
  },
  {
   "cell_type": "code",
   "execution_count": null,
   "metadata": {},
   "outputs": [],
   "source": [
    "config = {\"configurable\": {\"thread_id\": \"2\"}}\n",
    "input_message = HumanMessage(content=\"6.000 ahorrados\")\n",
    "output = graph.invoke({\"messages\": [input_message]}, config) \n",
    "for m in output['messages'][-1:]:\n",
    "    m.pretty_print()"
   ]
  },
  {
   "cell_type": "code",
   "execution_count": null,
   "metadata": {},
   "outputs": [],
   "source": [
    "config = {\"configurable\": {\"thread_id\": \"2\"}}\n",
    "input_message = HumanMessage(content=\"5 años\")\n",
    "output = graph.invoke({\"messages\": [input_message]}, config) \n",
    "for m in output['messages'][-1:]:\n",
    "    m.pretty_print()"
   ]
  },
  {
   "cell_type": "code",
   "execution_count": null,
   "metadata": {},
   "outputs": [],
   "source": [
    "print(output['preferencias_usuario'])\n",
    "print('---------------------------------------------------------------------')\n",
    "print(output['filtros_inferidos'])\n",
    "print('---------------------------------------------------------------------')\n",
    "print(output['economia'])\n",
    "print('---------------------------------------------------------------------')\n",
    "print(output['pesos'])"
   ]
  },
  {
   "cell_type": "code",
   "execution_count": null,
   "metadata": {},
   "outputs": [],
   "source": [
    "print(output.keys())"
   ]
  },
  {
   "cell_type": "code",
   "execution_count": null,
   "metadata": {},
   "outputs": [],
   "source": [
    "print(output['pesos'])"
   ]
  },
  {
   "cell_type": "code",
   "execution_count": null,
   "metadata": {},
   "outputs": [],
   "source": [
    "state = graph.get_state(config).values\n",
    "for m in state['messages']:\n",
    "    m.pretty_print()\n",
    "    \n",
    "    "
   ]
  },
  {
   "cell_type": "markdown",
   "metadata": {},
   "source": [
    "revisar las reglas de altura "
   ]
  },
  {
   "cell_type": "markdown",
   "metadata": {},
   "source": [
    "## Prueba 3"
   ]
  },
  {
   "cell_type": "code",
   "execution_count": null,
   "metadata": {},
   "outputs": [],
   "source": [
    "# Create a thread\n",
    "config = {\"configurable\": {\"thread_id\": \"3\"}}\n",
    "\n",
    "# Start conversation\n",
    "input_message = HumanMessage(content=\"hola, dime quien eres?\")\n",
    "output = graph.invoke({\"messages\": [input_message]}, config) \n",
    "for m in output['messages'][-1:]:\n",
    "    m.pretty_print()\n"
   ]
  },
  {
   "cell_type": "code",
   "execution_count": null,
   "metadata": {},
   "outputs": [],
   "source": [
    "print(output['preferencias_usuario'])\n",
    "print('---------------------------------------------------------------------')\n",
    "print(output['filtros_inferidos'])\n"
   ]
  },
  {
   "cell_type": "code",
   "execution_count": null,
   "metadata": {},
   "outputs": [],
   "source": [
    "# Create a thread\n",
    "config = {\"configurable\": {\"thread_id\": \"3\"}}\n",
    "\n",
    "# Start conversation\n",
    "input_message = HumanMessage(content=\"tienes motos?\")\n",
    "output = graph.invoke({\"messages\": [input_message]}, config) \n",
    "for m in output['messages'][-1:]:\n",
    "    m.pretty_print()\n"
   ]
  },
  {
   "cell_type": "code",
   "execution_count": null,
   "metadata": {},
   "outputs": [],
   "source": [
    "print(output['preferencias_usuario'])\n",
    "print('---------------------------------------------------------------------')\n",
    "print(output['filtros_inferidos'])"
   ]
  },
  {
   "cell_type": "code",
   "execution_count": null,
   "metadata": {},
   "outputs": [],
   "source": [
    "# Consultar todo el estado acumulado\n",
    "state = graph.get_state(config).values\n",
    "for m in state[\"messages\"]:\n",
    "    m.pretty_print()"
   ]
  },
  {
   "cell_type": "markdown",
   "metadata": {},
   "source": [
    "## Prueba 4"
   ]
  },
  {
   "cell_type": "code",
   "execution_count": null,
   "metadata": {},
   "outputs": [],
   "source": [
    "# Create a thread\n",
    "config = {\"configurable\": {\"thread_id\": \"4\"}}\n",
    "\n",
    "# Start conversation\n",
    "input_message = HumanMessage(content=\"Quiero un coche elegante que usaré para trabajar todos los días. Me gustan los diseños llamativos. Mido 1.94\")\n",
    "output = graph.invoke({\"messages\": [input_message]}, config) \n",
    "for m in output['messages'][-1:]:\n",
    "    m.pretty_print()"
   ]
  },
  {
   "cell_type": "code",
   "execution_count": null,
   "metadata": {},
   "outputs": [],
   "source": [
    "print(output['preferencias_usuario'])\n",
    "print('---------------------------------------------------------------------')\n",
    "print(output['filtros_inferidos'])\n"
   ]
  },
  {
   "cell_type": "code",
   "execution_count": null,
   "metadata": {},
   "outputs": [],
   "source": [
    "# Create a thread\n",
    "config = {\"configurable\": {\"thread_id\": \"4\"}}\n",
    "\n",
    "# Start conversation\n",
    "input_message = HumanMessage(content=\"si electrico estaria perfecto\")\n",
    "output = graph.invoke({\"messages\": [input_message]}, config) \n",
    "for m in output['messages'][-1:]:\n",
    "    m.pretty_print()"
   ]
  },
  {
   "cell_type": "code",
   "execution_count": null,
   "metadata": {},
   "outputs": [],
   "source": [
    "print(output['preferencias_usuario'])\n",
    "print('---------------------------------------------------------------------')\n",
    "print(output['filtros_inferidos'])"
   ]
  },
  {
   "cell_type": "code",
   "execution_count": null,
   "metadata": {},
   "outputs": [],
   "source": [
    "# Create a thread\n",
    "config = {\"configurable\": {\"thread_id\": \"4\"}}\n",
    "\n",
    "# Start conversation\n",
    "input_message = HumanMessage(content=\"automatico y peso menos de 100kg\")\n",
    "output = graph.invoke({\"messages\": [input_message]}, config) \n",
    "for m in output['messages'][-1:]:\n",
    "    m.pretty_print()"
   ]
  },
  {
   "cell_type": "code",
   "execution_count": null,
   "metadata": {},
   "outputs": [],
   "source": [
    "print(output['preferencias_usuario'])\n",
    "print('---------------------------------------------------------------------')\n",
    "print(output['filtros_inferidos'])"
   ]
  },
  {
   "cell_type": "code",
   "execution_count": null,
   "metadata": {},
   "outputs": [],
   "source": [
    "# Create a thread\n",
    "config = {\"configurable\": {\"thread_id\": \"4\"}}\n",
    "\n",
    "# Start conversation\n",
    "input_message = HumanMessage(content=\"si me apasionan los coches\")\n",
    "output = graph.invoke({\"messages\": [input_message]}, config) \n",
    "for m in output['messages'][-1:]:\n",
    "    m.pretty_print()"
   ]
  },
  {
   "cell_type": "code",
   "execution_count": null,
   "metadata": {},
   "outputs": [],
   "source": [
    "print(output['preferencias_usuario'])\n",
    "print('---------------------------------------------------------------------')\n",
    "print(output['filtros_inferidos'])"
   ]
  },
  {
   "cell_type": "code",
   "execution_count": null,
   "metadata": {},
   "outputs": [],
   "source": [
    "# Create a thread\n",
    "config = {\"configurable\": {\"thread_id\": \"4\"}}\n",
    "\n",
    "# Start conversation\n",
    "input_message = HumanMessage(content=\"si\")\n",
    "output = graph.invoke({\"messages\": [input_message]}, config) \n",
    "for m in output['messages'][-1:]:\n",
    "    m.pretty_print()"
   ]
  },
  {
   "cell_type": "markdown",
   "metadata": {},
   "source": [
    "# Prueba 5"
   ]
  },
  {
   "cell_type": "code",
   "execution_count": null,
   "metadata": {},
   "outputs": [],
   "source": [
    "# Create a thread\n",
    "config = {\"configurable\": {\"thread_id\": \"5\"}}\n",
    "\n",
    "# Start conversation\n",
    "input_message = HumanMessage(content=\"Dime quien eres\")\n",
    "output = graph.invoke({\"messages\": [input_message]}, config) \n",
    "for m in output['messages'][-1:]:\n",
    "    m.pretty_print()"
   ]
  },
  {
   "cell_type": "code",
   "execution_count": null,
   "metadata": {},
   "outputs": [],
   "source": [
    "# Create a thread\n",
    "config = {\"configurable\": {\"thread_id\": \"5\"}}\n",
    "\n",
    "# Start conversation\n",
    "input_message = HumanMessage(content=\"tienes motos para recomendarme?\")\n",
    "output = graph.invoke({\"messages\": [input_message]}, config) \n",
    "for m in output['messages'][-1:]:\n",
    "    m.pretty_print()"
   ]
  },
  {
   "cell_type": "code",
   "execution_count": null,
   "metadata": {},
   "outputs": [],
   "source": [
    "state = graph.get_state(config).values\n",
    "for m in state[\"messages\"]:\n",
    "    m.pretty_print()"
   ]
  },
  {
   "cell_type": "markdown",
   "metadata": {},
   "source": [
    "## Objetivo\n",
    "Crear un nuevo nodo en LangGraph llamado analizar_perfil_usuario que:\n",
    "\n",
    "Reciba el mensaje del usuario.\n",
    "\n",
    "Llame a un LLM con un SystemMessage especializado.\n",
    "\n",
    "Devuelva un dict con tres secciones:\n",
    "\n",
    "\"perfil_usuario\" → altura, peso, uso, gustos, etc.\n",
    "\n",
    "\"filtros_inferidos\" → potencia_min, plazas_min, etc.\n",
    "\n",
    "\"mensaje_validacion\"\n",
    "\n",
    "Este resultado lo guardaremos en el state para luego usarlo al llamar buscar_producto_bd()."
   ]
  },
  {
   "cell_type": "code",
   "execution_count": null,
   "metadata": {},
   "outputs": [],
   "source": []
  },
  {
   "cell_type": "code",
   "execution_count": null,
   "metadata": {},
   "outputs": [],
   "source": [
    "\n",
    "# Configurar el cliente de BigQuery\n",
    "client = bigquery.Client(project=\"thecarmentor-mvp2\")\n",
    "\n",
    "@tool\n",
    "def buscar_producto_bd(consulta: str, filtros: dict = None):\n",
    "    \"\"\"\n",
    "    Busca productos en la base de datos utilizando una consulta semántica en BigQuery.\n",
    "    Tu objetivo es proporcionar respuestas precisas para ayudar en la búsqueda en el inventario de coches disponibles.\n",
    "    \n",
    "    Args:\n",
    "        consulta (str): Consulta de texto para buscar productos similares.\n",
    "    \n",
    "    Returns:\n",
    "        list[dict]: Resultados formateados como una lista de diccionarios con detalles de los productos más relevantes.\n",
    "    \"\"\"\n",
    "    \n",
    "    if not consulta.strip():\n",
    "        raise ValueError(\"La consulta no puede estar vacía.\")\n",
    "\n",
    "    # Normalizar la consulta para que coincida con el formato de los embeddings.\n",
    "    consulta_normalizada = normalize_text_sql(consulta)\n",
    "    logging.debug(f\"Consulta normalizada: {consulta_normalizada}\")\n",
    "    \n",
    "    try:\n",
    "        base_query = \"\"\"\n",
    "        WITH resultados_vector AS (\n",
    "            SELECT \n",
    "                base.content AS nombre_coche,\n",
    "                base.mecanica,\n",
    "                base.price,\n",
    "                base.KM,\n",
    "                base.year,\n",
    "                base.image_url,\n",
    "                search_result.distance\n",
    "            FROM VECTOR_SEARCH(\n",
    "                TABLE `web_cars.coches_embeddingsV1`,\n",
    "                'ml_generate_embedding_result',\n",
    "                (SELECT * FROM ML.GENERATE_EMBEDDING(\n",
    "                    MODEL `thecarmentor-mvp2.mymodel.modelembedding`,\n",
    "                    (SELECT @consulta AS content),\n",
    "                    STRUCT(TRUE AS flatten_json_output, 'SEMANTIC_SIMILARITY' AS task_type, 768 AS output_dimensionality)\n",
    "                )),\n",
    "                'ml_generate_embedding_result',\n",
    "                top_k => 6\n",
    "            ) AS search_result\n",
    "        )\n",
    "        SELECT * FROM resultados_vector\n",
    "        WHERE 1=1\n",
    "        \"\"\"\n",
    "        \n",
    "        # Inicializar lista de condiciones y parámetros\n",
    "        query_conditions = []\n",
    "        # Usamos la consulta normalizada para la generación del embedding\n",
    "        query_parameters = [bigquery.ScalarQueryParameter(\"consulta\", \"STRING\", consulta_normalizada)]\n",
    "        \n",
    "        # Agregar condiciones dinámicamente según los filtros proporcionados\n",
    "        if filtros:\n",
    "            if 'precio_max' in filtros:\n",
    "                query_conditions.append(\"price <= @precio_max\")\n",
    "                query_parameters.append(bigquery.ScalarQueryParameter(\"precio_max\", \"INT64\", filtros[\"precio_max\"]))\n",
    "            if 'precio_min' in filtros:\n",
    "                query_conditions.append(\"price >= @precio_min\")\n",
    "                query_parameters.append(bigquery.ScalarQueryParameter(\"precio_min\", \"INT64\", filtros[\"precio_min\"]))\n",
    "            if 'year_min' in filtros:\n",
    "                query_conditions.append(\"year >= @year_min\")\n",
    "                query_parameters.append(bigquery.ScalarQueryParameter(\"year_min\", \"INT64\", filtros[\"year_min\"]))\n",
    "            if 'km_max' in filtros:\n",
    "                query_conditions.append(\"KM <= @km_max\")\n",
    "                query_parameters.append(bigquery.ScalarQueryParameter(\"km_max\", \"INT64\", filtros[\"km_max\"]))\n",
    "\n",
    "        # Si hay filtros, agregarlos a la consulta\n",
    "        # if query_conditions:\n",
    "        #     base_query += \" AND \" + \" AND \".join(query_conditions)\n",
    "        if query_conditions:\n",
    "            base_query += \" \" + \" AND \".join(query_conditions)\n",
    "\n",
    "\n",
    "        logging.debug(f\"Consulta SQL generada: {base_query}\")\n",
    "        logging.debug(f\"Parámetros de consulta: {query_parameters}\")\n",
    "\n",
    "        # Ejecutar la consulta\n",
    "        query_job = client.query(\n",
    "            base_query, \n",
    "            job_config=bigquery.QueryJobConfig(query_parameters=query_parameters)\n",
    "        )\n",
    "        results = query_job.result().to_dataframe()\n",
    "        # Ordenar los resultados por similitud\n",
    "        if not results.empty:\n",
    "            results = results.sort_values(by=\"distance\", ascending=True)\n",
    "\n",
    "        if results.empty:\n",
    "            return [{\"error\": \"No se encontraron resultados para la consulta y los filtros aplicados.\"}]\n",
    "            \n",
    "        formatted_results = [\n",
    "            {\n",
    "                \"nombre_coche\": row[\"nombre_coche\"],\n",
    "                \"mecanica\": row[\"mecanica\"],\n",
    "                \"precio\": row[\"price\"],\n",
    "                \"kilometros\": row[\"KM\"],\n",
    "                \"año\": row[\"year\"],\n",
    "                \"imagen\": row[\"image_url\"],\n",
    "                \"similitud\": round(row[\"distance\"], 2)\n",
    "            }\n",
    "            for _, row in results.iterrows()\n",
    "        ]\n",
    "        return formatted_results\n",
    "\n",
    "    except Exception as e:\n",
    "        logging.error(f\"Error al ejecutar la consulta: {e}\", exc_info=True)\n",
    "        return [{\"error\": \"No se pudieron encontrar resultados.\"}]\n",
    "\n",
    "# Definir herramientas\n",
    "# tools = [buscar_producto_bd]\n",
    "\n",
    "\n",
    "\n",
    "# Actualizar lista de herramientas\n",
    "tools = [buscar_producto_bd]\n",
    "llm_with_tools = llm.bind_tools(tools, parallel_tool_calls=True)\n"
   ]
  },
  {
   "cell_type": "code",
   "execution_count": null,
   "metadata": {},
   "outputs": [],
   "source": [
    "\n",
    "sys_msg = SystemMessage(content=\"\"\"Eres Mentor, un util y experto en la busqueda de coches.\n",
    "INSTRUCCIONES IMPORTANTES:\n",
    "**Antes de hacer una búsqueda en la base de datos, analiza la consulta y extrae solo la información clave.**  \n",
    "   - Si el usuario menciona un coche, filtra la consulta para obtener solo **la marca, modelo, versión, tipo de motorización y año**.\n",
    "   - **No incluyas frases completas del usuario como búsqueda.**  \n",
    "   - **No pases palabras como \"quiero\", \"busco\", \"auto\", \"coche\", \"modelo\", \"año\" si no son parte del nombre oficial del coche.**\n",
    "   - **Ejemplo:**  \n",
    "     - Entrada: `\"quiero coche bmw serie 1 120d hibrido año 2024\"`  \n",
    "     - **Consulta que debes generar:** `\"bmw serie 1 120d hibrido 2024\"`\n",
    "\n",
    "**Definiendo Preferencias**\n",
    "   - Para dar recomendaciones acertadas, puedes pedir al usuario que proporcione detalles sobre lo que busca:\n",
    "     • ¿Tienes una **marca** preferida?\n",
    "     • ¿Cuál es tu **presupuesto máximo**? (Opcional)\n",
    "     • ¿Te importa el **kilometraje máximo**? (Opcional)\n",
    "     • ¿Qué **años de antigüedad** son aceptables? (Opcional)\n",
    "\n",
    "**Presentación de Resultados**\n",
    "    - Aplica los filtros pero muestra también alguna alternativa fuera de los filtros si es muy relevante\n",
    "    Usa este formato para cada coche encontrado: \n",
    "    ### [Modelo]\n",
    "    ![Imagen del vehículo]([url_imagen])\n",
    "     - **Precio:** [precio]€\n",
    "     - **Kilómetros:** [km] km\n",
    "     - **Mecánica:** [tipo]\n",
    "     - **Año:** [year]\n",
    "     - **Similitud con tu búsqueda:** [score]\n",
    " \n",
    "** Ajustes**\n",
    "   - Si no encuentras lo que buscas, dime si quieres:\n",
    "   - Aumentar el **presupuesto** para ver modelos más recientes.\n",
    "   - Ampliar el **kilometraje permitido** para más opciones.\n",
    "   - Incluir **otros años** para expandir la búsqueda.\n",
    "   \n",
    "**Información Adicional**\n",
    "   -usa la herramienta `buscar_info_adicional` para obtener información actualizada sobre un modelo específico de coche.\n",
    "   - **Ejemplo:** `buscar_info_adicional(\"que caracteristicas tiene el BMW 320d 2019\")`\n",
    "\"\"\")\n",
    "# - También puedo **comparar dos coches** si tienes modelos específicos en mente.\n",
    "def assistant(state: MessagesState):\n",
    "    \"\"\"\n",
    "    Función principal del asistente invocando una búsqueda.\n",
    "    \"\"\"\n",
    "    return {\"messages\": [llm_with_tools.invoke([sys_msg] + state[\"messages\"])]}\n",
    "\n",
    "\n",
    "#    user_input = state[\"messages\"][-1].content  # Último mensaje del usuario\n",
    "# if detect_comparison_intent(user_input):\n",
    "#         car1, car2 = extract_car_models_llm(user_input)\n",
    "#         if car1 and car2:\n",
    "#             car1_data, car2_data = obtener_datos_comparacion(car1, car2)\n",
    "#             return {\"messages\": [comparar_coches_llm(car1_data, car2_data)]}\n",
    "#         else:\n",
    "#             return {\"messages\": [\"No pude identificar claramente los coches a comparar. ¿Podrías mencionarlos nuevamente?\"]}\n"
   ]
  },
  {
   "cell_type": "code",
   "execution_count": null,
   "metadata": {},
   "outputs": [],
   "source": [
    "memory = MemorySaver()\n",
    "\n",
    "# Graph\n",
    "graph = StateGraph(MessagesState)\n",
    "\n",
    "# Define nodes: these do the work\n",
    "graph.add_node(\"assistant\", assistant)\n",
    "graph.add_node(\"tools\", ToolNode(tools))\n",
    "\n",
    "# Define edges: these determine how the control flow moves\n",
    "graph.add_edge(START, \"assistant\")\n",
    "graph.add_conditional_edges(\n",
    "    \"assistant\",\n",
    "    lambda state: logging.debug(f\"tools_condition evalúa: {tools_condition(state)}\") or tools_condition(state)\n",
    ")\n",
    "    # If the latest message (result) from assistant is a tool call -> tools_condition routes to tools\n",
    "    # If the latest message (result) from assistant is a not a tool call -> tools_condition routes to END\n",
    "#     tools_condition,\n",
    "# )\n",
    "graph.add_edge(\"tools\", \"assistant\")\n",
    "graph = graph.compile(checkpointer=memory)\n",
    "# Show\n",
    "display(Image(graph.get_graph(xray=True).draw_mermaid_png()))"
   ]
  },
  {
   "cell_type": "code",
   "execution_count": null,
   "metadata": {},
   "outputs": [],
   "source": [
    "# Start conversation, again\n",
    "config = {\"configurable\": {\"thread_id\": \"1\"}}\n",
    "\n",
    "# Specify an input\n",
    "input_message = HumanMessage(content=\"quiero coche bmw serie 1 120d hibrido año 2024\")\n",
    "output = graph.invoke({\"messages\": input_message}, config)\n",
    "\n",
    "# Mostrar los mensajes resultantes del primer paso\n",
    "for m in output[\"messages\"]:\n",
    "    m.pretty_print()"
   ]
  },
  {
   "cell_type": "code",
   "execution_count": null,
   "metadata": {},
   "outputs": [],
   "source": [
    "# Start conversation, again\n",
    "config = {\"configurable\": {\"thread_id\": \"1\"}}\n",
    "\n",
    "# Specify an input\n",
    "input_message = HumanMessage(content=\"kilometraje 50.000 y presupuesto no importa, muestrame todas las opciones\")\n",
    "output = graph.invoke({\"messages\": input_message}, config)\n",
    "\n",
    "# Mostrar los mensajes resultantes del primer paso\n",
    "for m in output[\"messages\"]:\n",
    "    m.pretty_print()"
   ]
  },
  {
   "cell_type": "code",
   "execution_count": null,
   "metadata": {},
   "outputs": [],
   "source": [
    "# Start conversation, again\n",
    "config = {\"configurable\": {\"thread_id\": \"1\"}}\n",
    "\n",
    "# Specify an input\n",
    "input_message = HumanMessage(content=\"podrias darme las caracteristicas del bmw serie 1 118i 2024 diesel\")\n",
    "output = graph.invoke({\"messages\": input_message}, config)\n",
    "\n",
    "# Mostrar los mensajes resultantes del primer paso\n",
    "for m in output[\"messages\"]:\n",
    "    m.pretty_print()"
   ]
  },
  {
   "cell_type": "code",
   "execution_count": null,
   "metadata": {},
   "outputs": [],
   "source": [
    "# Start conversation, again\n",
    "config = {\"configurable\": {\"thread_id\": \"1\"}}\n",
    "\n",
    "# Specify an input\n",
    "input_message = HumanMessage(content=\"si, dame las caracteristicas del El 118i a gasolina\")\n",
    "output = graph.invoke({\"messages\": input_message}, config)\n",
    "\n",
    "# Mostrar los mensajes resultantes del primer paso\n",
    "for m in output[\"messages\"]:\n",
    "    m.pretty_print()"
   ]
  },
  {
   "cell_type": "code",
   "execution_count": null,
   "metadata": {},
   "outputs": [],
   "source": [
    "# Start conversation, again\n",
    "config = {\"configurable\": {\"thread_id\": \"2\"}}\n",
    "\n",
    "# Specify an input\n",
    "input_message = HumanMessage(content=\"quiero un coche kia sportage a gasolina, puede ser año 2011 a 2020 y no importa el kilometraje\")\n",
    "output = graph.invoke({\"messages\": input_message}, config)\n",
    "\n",
    "# Mostrar los mensajes resultantes del primer paso\n",
    "for m in output[\"messages\"]:\n",
    "    m.pretty_print()"
   ]
  },
  {
   "cell_type": "code",
   "execution_count": null,
   "metadata": {},
   "outputs": [],
   "source": [
    "# Start conversation\n",
    "config = {\"configurable\": {\"thread_id\": \"2\"}}\n",
    "\n",
    "# Specify an input\n",
    "input_message = HumanMessage(content=\"maximo 25.000 euros\")\n",
    "output = graph.invoke({\"messages\": input_message}, config)\n",
    "\n",
    "# Mostrar los mensajes resultantes del primer paso\n",
    "for m in output[\"messages\"]:\n",
    "    m.pretty_print()"
   ]
  },
  {
   "cell_type": "code",
   "execution_count": null,
   "metadata": {},
   "outputs": [],
   "source": [
    "config = {\"configurable\": {\"thread_id\": \"3\"}}\n",
    "\n",
    "# Specify an input\n",
    "input_message = HumanMessage(content=\"Mentor quiero un coche familiar, me podrias recomendar alguno?\")\n",
    "output = graph.invoke({\"messages\": input_message}, config)\n",
    "\n",
    "# Mostrar los mensajes resultantes del primer paso\n",
    "for m in output[\"messages\"]:\n",
    "    m.pretty_print()"
   ]
  },
  {
   "cell_type": "code",
   "execution_count": null,
   "metadata": {},
   "outputs": [],
   "source": [
    "# Start conversation, again\n",
    "config = {\"configurable\": {\"thread_id\": \"3\"}}\n",
    "\n",
    "# Specify an input\n",
    "input_message = HumanMessage(content=\"segun tu conocimiento que me recomiendas?\")\n",
    "output = graph.invoke({\"messages\": input_message}, config)\n",
    "\n",
    "# Mostrar los mensajes resultantes del primer paso\n",
    "for m in output[\"messages\"]:\n",
    "    m.pretty_print()"
   ]
  },
  {
   "cell_type": "code",
   "execution_count": null,
   "metadata": {},
   "outputs": [],
   "source": [
    "# Start conversation, again\n",
    "config = {\"configurable\": {\"thread_id\": \"3\"}}\n",
    "\n",
    "# Specify an input\n",
    "input_message = HumanMessage(content=\"pues SUV estaria bien y presupuesto hasta  12.000\")\n",
    "output = graph.invoke({\"messages\": input_message}, config)\n",
    "\n",
    "# Mostrar los mensajes resultantes del primer paso\n",
    "for m in output[\"messages\"]:\n",
    "    m.pretty_print()"
   ]
  },
  {
   "cell_type": "code",
   "execution_count": null,
   "metadata": {},
   "outputs": [],
   "source": [
    "# Start conversation, again\n",
    "config = {\"configurable\": {\"thread_id\": \"3\"}}\n",
    "\n",
    "# Specify an input\n",
    "input_message = HumanMessage(content=\"diesel o gasolina esta bien\")\n",
    "output = graph.invoke({\"messages\": input_message}, config)\n",
    "\n",
    "# Mostrar los mensajes resultantes del primer paso\n",
    "for m in output[\"messages\"]:\n",
    "    m.pretty_print()"
   ]
  },
  {
   "cell_type": "code",
   "execution_count": null,
   "metadata": {},
   "outputs": [],
   "source": [
    "# Start conversation, again\n",
    "config = {\"configurable\": {\"thread_id\": \"3\"}}\n",
    "\n",
    "# Specify an input\n",
    "input_message = HumanMessage(content=\"vale maximo 10 años\")\n",
    "output = graph.invoke({\"messages\": input_message}, config)\n",
    "\n",
    "# Mostrar los mensajes resultantes del primer paso\n",
    "for m in output[\"messages\"]:\n",
    "    m.pretty_print()"
   ]
  }
 ],
 "metadata": {
  "kernelspec": {
   "display_name": "car_env",
   "language": "python",
   "name": "python3"
  },
  "language_info": {
   "codemirror_mode": {
    "name": "ipython",
    "version": 3
   },
   "file_extension": ".py",
   "mimetype": "text/x-python",
   "name": "python",
   "nbconvert_exporter": "python",
   "pygments_lexer": "ipython3",
   "version": "3.11.5"
  }
 },
 "nbformat": 4,
 "nbformat_minor": 2
}
