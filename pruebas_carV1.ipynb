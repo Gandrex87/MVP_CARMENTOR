{
 "cells": [
  {
   "cell_type": "code",
   "execution_count": null,
   "metadata": {},
   "outputs": [],
   "source": [
    "from langchain.chat_models import init_chat_model\n",
    "\n",
    "# LLM base\n",
    "llm = init_chat_model(\"openai:gpt-4o-mini\", temperature=0.2)\n",
    "print(llm.invoke(\"Hola, ¿quién eres?\").content)\n",
    "\n",
    "from config.llm import llm_validacion\n",
    "\n",
    "print(llm_validacion.invoke(\"Hola, ¿quién eres?\").content)"
   ]
  },
  {
   "cell_type": "code",
   "execution_count": null,
   "metadata": {},
   "outputs": [],
   "source": [
    "from config.llm import llm_validacion , prompt_validacion\n",
    "from langchain_core.messages import SystemMessage, HumanMessage\n",
    "\n",
    "respuesta = llm_validacion.invoke([\n",
    "    SystemMessage(content=prompt_validacion),\n",
    "    HumanMessage(content=\"Hola, ¿quién eres?\")\n",
    "])\n",
    "print(respuesta.content)\n",
    "\n",
    "\n"
   ]
  },
  {
   "cell_type": "code",
   "execution_count": null,
   "metadata": {},
   "outputs": [],
   "source": [
    "from config.llm import prompt_validacion\n",
    "\n",
    "print(prompt_validacion)"
   ]
  },
  {
   "cell_type": "code",
   "execution_count": null,
   "metadata": {},
   "outputs": [],
   "source": [
    "from utils.enums import TipoMecanica # Ajusta la ruta\n",
    "\n",
    "valores_mecanica = \", \".join([f\"'{e.value}'\" for e in TipoMecanica]) \n",
    "print(valores_mecanica)\n",
    "# Ejemplo de salida: 'BEV', 'GASOLINA', 'DIESEL', 'HIBRIDO', ..."
   ]
  },
  {
   "cell_type": "code",
   "execution_count": null,
   "metadata": {},
   "outputs": [],
   "source": [
    "from graph.perfil.state import ResultadoEconomia,ResultadoSoloFiltros,ResultadoSoloPerfil, ResultadoPasajeros # Ajusta la ruta,\n",
    "import json\n",
    "\n",
    "schema = ResultadoSoloPerfil.model_json_schema()\n",
    "print(json.dumps(schema, indent=2))\n",
    "\n"
   ]
  },
  {
   "cell_type": "code",
   "execution_count": null,
   "metadata": {},
   "outputs": [],
   "source": [
    "from utils.conversion import get_enum_names\n",
    "from utils.enums import TipoCarroceria, TipoMecanica\n",
    "\n",
    "#get_enum_names([TipoCarroceria.COMERCIAL, TipoCarroceria.PICKUP])\n",
    "\n",
    "#Dos maneras de obtener los nombres de las clases enums\n",
    "print(\"totalidad tipo carroceria:\" , list(TipoCarroceria))\n",
    "print(\"totalidad mecanica\" , get_enum_names(list(TipoMecanica)))\n",
    "print(\"totalidad mecanica\" ,(list(TipoMecanica)))\n"
   ]
  },
  {
   "cell_type": "markdown",
   "metadata": {},
   "source": [
    "# Creacion del Grafo"
   ]
  },
  {
   "cell_type": "code",
   "execution_count": 1,
   "metadata": {},
   "outputs": [
    {
     "name": "stdout",
     "output_type": "stream",
     "text": [
      "INFO ► Compilando el grafo...\n",
      "INFO ► Grafo compilado exitosamente.\n"
     ]
    },
    {
     "name": "stderr",
     "output_type": "stream",
     "text": [
      "/Users/andresrsalamanca/Documents/GitHub/MVP_CARMENTOR/car_env/lib/python3.11/site-packages/pydantic/_internal/_generate_schema.py:617: UserWarning: <built-in function any> is not a Python type (it may be an instance of an object), Pydantic will allow any object with no validation since we cannot even enforce that the input is an instance of the given type. To get rid of this error wrap the type with `pydantic.SkipValidation`.\n",
      "  warn(\n"
     ]
    },
    {
     "ename": "ReadTimeout",
     "evalue": "HTTPSConnectionPool(host='mermaid.ink', port=443): Read timed out. (read timeout=10)",
     "output_type": "error",
     "traceback": [
      "\u001b[31m---------------------------------------------------------------------------\u001b[39m",
      "\u001b[31mTimeoutError\u001b[39m                              Traceback (most recent call last)",
      "\u001b[36mFile \u001b[39m\u001b[32m~/Documents/GitHub/MVP_CARMENTOR/car_env/lib/python3.11/site-packages/urllib3/connectionpool.py:534\u001b[39m, in \u001b[36mHTTPConnectionPool._make_request\u001b[39m\u001b[34m(self, conn, method, url, body, headers, retries, timeout, chunked, response_conn, preload_content, decode_content, enforce_content_length)\u001b[39m\n\u001b[32m    533\u001b[39m \u001b[38;5;28;01mtry\u001b[39;00m:\n\u001b[32m--> \u001b[39m\u001b[32m534\u001b[39m     response = \u001b[43mconn\u001b[49m\u001b[43m.\u001b[49m\u001b[43mgetresponse\u001b[49m\u001b[43m(\u001b[49m\u001b[43m)\u001b[49m\n\u001b[32m    535\u001b[39m \u001b[38;5;28;01mexcept\u001b[39;00m (BaseSSLError, \u001b[38;5;167;01mOSError\u001b[39;00m) \u001b[38;5;28;01mas\u001b[39;00m e:\n",
      "\u001b[36mFile \u001b[39m\u001b[32m~/Documents/GitHub/MVP_CARMENTOR/car_env/lib/python3.11/site-packages/urllib3/connection.py:516\u001b[39m, in \u001b[36mHTTPConnection.getresponse\u001b[39m\u001b[34m(self)\u001b[39m\n\u001b[32m    515\u001b[39m \u001b[38;5;66;03m# Get the response from http.client.HTTPConnection\u001b[39;00m\n\u001b[32m--> \u001b[39m\u001b[32m516\u001b[39m httplib_response = \u001b[38;5;28;43msuper\u001b[39;49m\u001b[43m(\u001b[49m\u001b[43m)\u001b[49m\u001b[43m.\u001b[49m\u001b[43mgetresponse\u001b[49m\u001b[43m(\u001b[49m\u001b[43m)\u001b[49m\n\u001b[32m    518\u001b[39m \u001b[38;5;28;01mtry\u001b[39;00m:\n",
      "\u001b[36mFile \u001b[39m\u001b[32m~/anaconda3/lib/python3.11/http/client.py:1378\u001b[39m, in \u001b[36mHTTPConnection.getresponse\u001b[39m\u001b[34m(self)\u001b[39m\n\u001b[32m   1377\u001b[39m \u001b[38;5;28;01mtry\u001b[39;00m:\n\u001b[32m-> \u001b[39m\u001b[32m1378\u001b[39m     \u001b[43mresponse\u001b[49m\u001b[43m.\u001b[49m\u001b[43mbegin\u001b[49m\u001b[43m(\u001b[49m\u001b[43m)\u001b[49m\n\u001b[32m   1379\u001b[39m \u001b[38;5;28;01mexcept\u001b[39;00m \u001b[38;5;167;01mConnectionError\u001b[39;00m:\n",
      "\u001b[36mFile \u001b[39m\u001b[32m~/anaconda3/lib/python3.11/http/client.py:318\u001b[39m, in \u001b[36mHTTPResponse.begin\u001b[39m\u001b[34m(self)\u001b[39m\n\u001b[32m    317\u001b[39m \u001b[38;5;28;01mwhile\u001b[39;00m \u001b[38;5;28;01mTrue\u001b[39;00m:\n\u001b[32m--> \u001b[39m\u001b[32m318\u001b[39m     version, status, reason = \u001b[38;5;28;43mself\u001b[39;49m\u001b[43m.\u001b[49m\u001b[43m_read_status\u001b[49m\u001b[43m(\u001b[49m\u001b[43m)\u001b[49m\n\u001b[32m    319\u001b[39m     \u001b[38;5;28;01mif\u001b[39;00m status != CONTINUE:\n",
      "\u001b[36mFile \u001b[39m\u001b[32m~/anaconda3/lib/python3.11/http/client.py:279\u001b[39m, in \u001b[36mHTTPResponse._read_status\u001b[39m\u001b[34m(self)\u001b[39m\n\u001b[32m    278\u001b[39m \u001b[38;5;28;01mdef\u001b[39;00m\u001b[38;5;250m \u001b[39m\u001b[34m_read_status\u001b[39m(\u001b[38;5;28mself\u001b[39m):\n\u001b[32m--> \u001b[39m\u001b[32m279\u001b[39m     line = \u001b[38;5;28mstr\u001b[39m(\u001b[38;5;28;43mself\u001b[39;49m\u001b[43m.\u001b[49m\u001b[43mfp\u001b[49m\u001b[43m.\u001b[49m\u001b[43mreadline\u001b[49m\u001b[43m(\u001b[49m\u001b[43m_MAXLINE\u001b[49m\u001b[43m \u001b[49m\u001b[43m+\u001b[49m\u001b[43m \u001b[49m\u001b[32;43m1\u001b[39;49m\u001b[43m)\u001b[49m, \u001b[33m\"\u001b[39m\u001b[33miso-8859-1\u001b[39m\u001b[33m\"\u001b[39m)\n\u001b[32m    280\u001b[39m     \u001b[38;5;28;01mif\u001b[39;00m \u001b[38;5;28mlen\u001b[39m(line) > _MAXLINE:\n",
      "\u001b[36mFile \u001b[39m\u001b[32m~/anaconda3/lib/python3.11/socket.py:706\u001b[39m, in \u001b[36mSocketIO.readinto\u001b[39m\u001b[34m(self, b)\u001b[39m\n\u001b[32m    705\u001b[39m \u001b[38;5;28;01mtry\u001b[39;00m:\n\u001b[32m--> \u001b[39m\u001b[32m706\u001b[39m     \u001b[38;5;28;01mreturn\u001b[39;00m \u001b[38;5;28;43mself\u001b[39;49m\u001b[43m.\u001b[49m\u001b[43m_sock\u001b[49m\u001b[43m.\u001b[49m\u001b[43mrecv_into\u001b[49m\u001b[43m(\u001b[49m\u001b[43mb\u001b[49m\u001b[43m)\u001b[49m\n\u001b[32m    707\u001b[39m \u001b[38;5;28;01mexcept\u001b[39;00m timeout:\n",
      "\u001b[36mFile \u001b[39m\u001b[32m~/anaconda3/lib/python3.11/ssl.py:1311\u001b[39m, in \u001b[36mSSLSocket.recv_into\u001b[39m\u001b[34m(self, buffer, nbytes, flags)\u001b[39m\n\u001b[32m   1308\u001b[39m         \u001b[38;5;28;01mraise\u001b[39;00m \u001b[38;5;167;01mValueError\u001b[39;00m(\n\u001b[32m   1309\u001b[39m           \u001b[33m\"\u001b[39m\u001b[33mnon-zero flags not allowed in calls to recv_into() on \u001b[39m\u001b[38;5;132;01m%s\u001b[39;00m\u001b[33m\"\u001b[39m %\n\u001b[32m   1310\u001b[39m           \u001b[38;5;28mself\u001b[39m.\u001b[34m__class__\u001b[39m)\n\u001b[32m-> \u001b[39m\u001b[32m1311\u001b[39m     \u001b[38;5;28;01mreturn\u001b[39;00m \u001b[38;5;28;43mself\u001b[39;49m\u001b[43m.\u001b[49m\u001b[43mread\u001b[49m\u001b[43m(\u001b[49m\u001b[43mnbytes\u001b[49m\u001b[43m,\u001b[49m\u001b[43m \u001b[49m\u001b[43mbuffer\u001b[49m\u001b[43m)\u001b[49m\n\u001b[32m   1312\u001b[39m \u001b[38;5;28;01melse\u001b[39;00m:\n",
      "\u001b[36mFile \u001b[39m\u001b[32m~/anaconda3/lib/python3.11/ssl.py:1167\u001b[39m, in \u001b[36mSSLSocket.read\u001b[39m\u001b[34m(self, len, buffer)\u001b[39m\n\u001b[32m   1166\u001b[39m \u001b[38;5;28;01mif\u001b[39;00m buffer \u001b[38;5;129;01mis\u001b[39;00m \u001b[38;5;129;01mnot\u001b[39;00m \u001b[38;5;28;01mNone\u001b[39;00m:\n\u001b[32m-> \u001b[39m\u001b[32m1167\u001b[39m     \u001b[38;5;28;01mreturn\u001b[39;00m \u001b[38;5;28;43mself\u001b[39;49m\u001b[43m.\u001b[49m\u001b[43m_sslobj\u001b[49m\u001b[43m.\u001b[49m\u001b[43mread\u001b[49m\u001b[43m(\u001b[49m\u001b[38;5;28;43mlen\u001b[39;49m\u001b[43m,\u001b[49m\u001b[43m \u001b[49m\u001b[43mbuffer\u001b[49m\u001b[43m)\u001b[49m\n\u001b[32m   1168\u001b[39m \u001b[38;5;28;01melse\u001b[39;00m:\n",
      "\u001b[31mTimeoutError\u001b[39m: The read operation timed out",
      "\nThe above exception was the direct cause of the following exception:\n",
      "\u001b[31mReadTimeoutError\u001b[39m                          Traceback (most recent call last)",
      "\u001b[36mFile \u001b[39m\u001b[32m~/Documents/GitHub/MVP_CARMENTOR/car_env/lib/python3.11/site-packages/requests/adapters.py:667\u001b[39m, in \u001b[36mHTTPAdapter.send\u001b[39m\u001b[34m(self, request, stream, timeout, verify, cert, proxies)\u001b[39m\n\u001b[32m    666\u001b[39m \u001b[38;5;28;01mtry\u001b[39;00m:\n\u001b[32m--> \u001b[39m\u001b[32m667\u001b[39m     resp = \u001b[43mconn\u001b[49m\u001b[43m.\u001b[49m\u001b[43murlopen\u001b[49m\u001b[43m(\u001b[49m\n\u001b[32m    668\u001b[39m \u001b[43m        \u001b[49m\u001b[43mmethod\u001b[49m\u001b[43m=\u001b[49m\u001b[43mrequest\u001b[49m\u001b[43m.\u001b[49m\u001b[43mmethod\u001b[49m\u001b[43m,\u001b[49m\n\u001b[32m    669\u001b[39m \u001b[43m        \u001b[49m\u001b[43murl\u001b[49m\u001b[43m=\u001b[49m\u001b[43murl\u001b[49m\u001b[43m,\u001b[49m\n\u001b[32m    670\u001b[39m \u001b[43m        \u001b[49m\u001b[43mbody\u001b[49m\u001b[43m=\u001b[49m\u001b[43mrequest\u001b[49m\u001b[43m.\u001b[49m\u001b[43mbody\u001b[49m\u001b[43m,\u001b[49m\n\u001b[32m    671\u001b[39m \u001b[43m        \u001b[49m\u001b[43mheaders\u001b[49m\u001b[43m=\u001b[49m\u001b[43mrequest\u001b[49m\u001b[43m.\u001b[49m\u001b[43mheaders\u001b[49m\u001b[43m,\u001b[49m\n\u001b[32m    672\u001b[39m \u001b[43m        \u001b[49m\u001b[43mredirect\u001b[49m\u001b[43m=\u001b[49m\u001b[38;5;28;43;01mFalse\u001b[39;49;00m\u001b[43m,\u001b[49m\n\u001b[32m    673\u001b[39m \u001b[43m        \u001b[49m\u001b[43massert_same_host\u001b[49m\u001b[43m=\u001b[49m\u001b[38;5;28;43;01mFalse\u001b[39;49;00m\u001b[43m,\u001b[49m\n\u001b[32m    674\u001b[39m \u001b[43m        \u001b[49m\u001b[43mpreload_content\u001b[49m\u001b[43m=\u001b[49m\u001b[38;5;28;43;01mFalse\u001b[39;49;00m\u001b[43m,\u001b[49m\n\u001b[32m    675\u001b[39m \u001b[43m        \u001b[49m\u001b[43mdecode_content\u001b[49m\u001b[43m=\u001b[49m\u001b[38;5;28;43;01mFalse\u001b[39;49;00m\u001b[43m,\u001b[49m\n\u001b[32m    676\u001b[39m \u001b[43m        \u001b[49m\u001b[43mretries\u001b[49m\u001b[43m=\u001b[49m\u001b[38;5;28;43mself\u001b[39;49m\u001b[43m.\u001b[49m\u001b[43mmax_retries\u001b[49m\u001b[43m,\u001b[49m\n\u001b[32m    677\u001b[39m \u001b[43m        \u001b[49m\u001b[43mtimeout\u001b[49m\u001b[43m=\u001b[49m\u001b[43mtimeout\u001b[49m\u001b[43m,\u001b[49m\n\u001b[32m    678\u001b[39m \u001b[43m        \u001b[49m\u001b[43mchunked\u001b[49m\u001b[43m=\u001b[49m\u001b[43mchunked\u001b[49m\u001b[43m,\u001b[49m\n\u001b[32m    679\u001b[39m \u001b[43m    \u001b[49m\u001b[43m)\u001b[49m\n\u001b[32m    681\u001b[39m \u001b[38;5;28;01mexcept\u001b[39;00m (ProtocolError, \u001b[38;5;167;01mOSError\u001b[39;00m) \u001b[38;5;28;01mas\u001b[39;00m err:\n",
      "\u001b[36mFile \u001b[39m\u001b[32m~/Documents/GitHub/MVP_CARMENTOR/car_env/lib/python3.11/site-packages/urllib3/connectionpool.py:841\u001b[39m, in \u001b[36mHTTPConnectionPool.urlopen\u001b[39m\u001b[34m(self, method, url, body, headers, retries, redirect, assert_same_host, timeout, pool_timeout, release_conn, chunked, body_pos, preload_content, decode_content, **response_kw)\u001b[39m\n\u001b[32m    839\u001b[39m     new_e = ProtocolError(\u001b[33m\"\u001b[39m\u001b[33mConnection aborted.\u001b[39m\u001b[33m\"\u001b[39m, new_e)\n\u001b[32m--> \u001b[39m\u001b[32m841\u001b[39m retries = \u001b[43mretries\u001b[49m\u001b[43m.\u001b[49m\u001b[43mincrement\u001b[49m\u001b[43m(\u001b[49m\n\u001b[32m    842\u001b[39m \u001b[43m    \u001b[49m\u001b[43mmethod\u001b[49m\u001b[43m,\u001b[49m\u001b[43m \u001b[49m\u001b[43murl\u001b[49m\u001b[43m,\u001b[49m\u001b[43m \u001b[49m\u001b[43merror\u001b[49m\u001b[43m=\u001b[49m\u001b[43mnew_e\u001b[49m\u001b[43m,\u001b[49m\u001b[43m \u001b[49m\u001b[43m_pool\u001b[49m\u001b[43m=\u001b[49m\u001b[38;5;28;43mself\u001b[39;49m\u001b[43m,\u001b[49m\u001b[43m \u001b[49m\u001b[43m_stacktrace\u001b[49m\u001b[43m=\u001b[49m\u001b[43msys\u001b[49m\u001b[43m.\u001b[49m\u001b[43mexc_info\u001b[49m\u001b[43m(\u001b[49m\u001b[43m)\u001b[49m\u001b[43m[\u001b[49m\u001b[32;43m2\u001b[39;49m\u001b[43m]\u001b[49m\n\u001b[32m    843\u001b[39m \u001b[43m\u001b[49m\u001b[43m)\u001b[49m\n\u001b[32m    844\u001b[39m retries.sleep()\n",
      "\u001b[36mFile \u001b[39m\u001b[32m~/Documents/GitHub/MVP_CARMENTOR/car_env/lib/python3.11/site-packages/urllib3/util/retry.py:474\u001b[39m, in \u001b[36mRetry.increment\u001b[39m\u001b[34m(self, method, url, response, error, _pool, _stacktrace)\u001b[39m\n\u001b[32m    473\u001b[39m \u001b[38;5;28;01mif\u001b[39;00m read \u001b[38;5;129;01mis\u001b[39;00m \u001b[38;5;28;01mFalse\u001b[39;00m \u001b[38;5;129;01mor\u001b[39;00m method \u001b[38;5;129;01mis\u001b[39;00m \u001b[38;5;28;01mNone\u001b[39;00m \u001b[38;5;129;01mor\u001b[39;00m \u001b[38;5;129;01mnot\u001b[39;00m \u001b[38;5;28mself\u001b[39m._is_method_retryable(method):\n\u001b[32m--> \u001b[39m\u001b[32m474\u001b[39m     \u001b[38;5;28;01mraise\u001b[39;00m \u001b[43mreraise\u001b[49m\u001b[43m(\u001b[49m\u001b[38;5;28;43mtype\u001b[39;49m\u001b[43m(\u001b[49m\u001b[43merror\u001b[49m\u001b[43m)\u001b[49m\u001b[43m,\u001b[49m\u001b[43m \u001b[49m\u001b[43merror\u001b[49m\u001b[43m,\u001b[49m\u001b[43m \u001b[49m\u001b[43m_stacktrace\u001b[49m\u001b[43m)\u001b[49m\n\u001b[32m    475\u001b[39m \u001b[38;5;28;01melif\u001b[39;00m read \u001b[38;5;129;01mis\u001b[39;00m \u001b[38;5;129;01mnot\u001b[39;00m \u001b[38;5;28;01mNone\u001b[39;00m:\n",
      "\u001b[36mFile \u001b[39m\u001b[32m~/Documents/GitHub/MVP_CARMENTOR/car_env/lib/python3.11/site-packages/urllib3/util/util.py:39\u001b[39m, in \u001b[36mreraise\u001b[39m\u001b[34m(tp, value, tb)\u001b[39m\n\u001b[32m     38\u001b[39m         \u001b[38;5;28;01mraise\u001b[39;00m value.with_traceback(tb)\n\u001b[32m---> \u001b[39m\u001b[32m39\u001b[39m     \u001b[38;5;28;01mraise\u001b[39;00m value\n\u001b[32m     40\u001b[39m \u001b[38;5;28;01mfinally\u001b[39;00m:\n",
      "\u001b[36mFile \u001b[39m\u001b[32m~/Documents/GitHub/MVP_CARMENTOR/car_env/lib/python3.11/site-packages/urllib3/connectionpool.py:787\u001b[39m, in \u001b[36mHTTPConnectionPool.urlopen\u001b[39m\u001b[34m(self, method, url, body, headers, retries, redirect, assert_same_host, timeout, pool_timeout, release_conn, chunked, body_pos, preload_content, decode_content, **response_kw)\u001b[39m\n\u001b[32m    786\u001b[39m \u001b[38;5;66;03m# Make the request on the HTTPConnection object\u001b[39;00m\n\u001b[32m--> \u001b[39m\u001b[32m787\u001b[39m response = \u001b[38;5;28;43mself\u001b[39;49m\u001b[43m.\u001b[49m\u001b[43m_make_request\u001b[49m\u001b[43m(\u001b[49m\n\u001b[32m    788\u001b[39m \u001b[43m    \u001b[49m\u001b[43mconn\u001b[49m\u001b[43m,\u001b[49m\n\u001b[32m    789\u001b[39m \u001b[43m    \u001b[49m\u001b[43mmethod\u001b[49m\u001b[43m,\u001b[49m\n\u001b[32m    790\u001b[39m \u001b[43m    \u001b[49m\u001b[43murl\u001b[49m\u001b[43m,\u001b[49m\n\u001b[32m    791\u001b[39m \u001b[43m    \u001b[49m\u001b[43mtimeout\u001b[49m\u001b[43m=\u001b[49m\u001b[43mtimeout_obj\u001b[49m\u001b[43m,\u001b[49m\n\u001b[32m    792\u001b[39m \u001b[43m    \u001b[49m\u001b[43mbody\u001b[49m\u001b[43m=\u001b[49m\u001b[43mbody\u001b[49m\u001b[43m,\u001b[49m\n\u001b[32m    793\u001b[39m \u001b[43m    \u001b[49m\u001b[43mheaders\u001b[49m\u001b[43m=\u001b[49m\u001b[43mheaders\u001b[49m\u001b[43m,\u001b[49m\n\u001b[32m    794\u001b[39m \u001b[43m    \u001b[49m\u001b[43mchunked\u001b[49m\u001b[43m=\u001b[49m\u001b[43mchunked\u001b[49m\u001b[43m,\u001b[49m\n\u001b[32m    795\u001b[39m \u001b[43m    \u001b[49m\u001b[43mretries\u001b[49m\u001b[43m=\u001b[49m\u001b[43mretries\u001b[49m\u001b[43m,\u001b[49m\n\u001b[32m    796\u001b[39m \u001b[43m    \u001b[49m\u001b[43mresponse_conn\u001b[49m\u001b[43m=\u001b[49m\u001b[43mresponse_conn\u001b[49m\u001b[43m,\u001b[49m\n\u001b[32m    797\u001b[39m \u001b[43m    \u001b[49m\u001b[43mpreload_content\u001b[49m\u001b[43m=\u001b[49m\u001b[43mpreload_content\u001b[49m\u001b[43m,\u001b[49m\n\u001b[32m    798\u001b[39m \u001b[43m    \u001b[49m\u001b[43mdecode_content\u001b[49m\u001b[43m=\u001b[49m\u001b[43mdecode_content\u001b[49m\u001b[43m,\u001b[49m\n\u001b[32m    799\u001b[39m \u001b[43m    \u001b[49m\u001b[43m*\u001b[49m\u001b[43m*\u001b[49m\u001b[43mresponse_kw\u001b[49m\u001b[43m,\u001b[49m\n\u001b[32m    800\u001b[39m \u001b[43m\u001b[49m\u001b[43m)\u001b[49m\n\u001b[32m    802\u001b[39m \u001b[38;5;66;03m# Everything went great!\u001b[39;00m\n",
      "\u001b[36mFile \u001b[39m\u001b[32m~/Documents/GitHub/MVP_CARMENTOR/car_env/lib/python3.11/site-packages/urllib3/connectionpool.py:536\u001b[39m, in \u001b[36mHTTPConnectionPool._make_request\u001b[39m\u001b[34m(self, conn, method, url, body, headers, retries, timeout, chunked, response_conn, preload_content, decode_content, enforce_content_length)\u001b[39m\n\u001b[32m    535\u001b[39m \u001b[38;5;28;01mexcept\u001b[39;00m (BaseSSLError, \u001b[38;5;167;01mOSError\u001b[39;00m) \u001b[38;5;28;01mas\u001b[39;00m e:\n\u001b[32m--> \u001b[39m\u001b[32m536\u001b[39m     \u001b[38;5;28;43mself\u001b[39;49m\u001b[43m.\u001b[49m\u001b[43m_raise_timeout\u001b[49m\u001b[43m(\u001b[49m\u001b[43merr\u001b[49m\u001b[43m=\u001b[49m\u001b[43me\u001b[49m\u001b[43m,\u001b[49m\u001b[43m \u001b[49m\u001b[43murl\u001b[49m\u001b[43m=\u001b[49m\u001b[43murl\u001b[49m\u001b[43m,\u001b[49m\u001b[43m \u001b[49m\u001b[43mtimeout_value\u001b[49m\u001b[43m=\u001b[49m\u001b[43mread_timeout\u001b[49m\u001b[43m)\u001b[49m\n\u001b[32m    537\u001b[39m     \u001b[38;5;28;01mraise\u001b[39;00m\n",
      "\u001b[36mFile \u001b[39m\u001b[32m~/Documents/GitHub/MVP_CARMENTOR/car_env/lib/python3.11/site-packages/urllib3/connectionpool.py:367\u001b[39m, in \u001b[36mHTTPConnectionPool._raise_timeout\u001b[39m\u001b[34m(self, err, url, timeout_value)\u001b[39m\n\u001b[32m    366\u001b[39m \u001b[38;5;28;01mif\u001b[39;00m \u001b[38;5;28misinstance\u001b[39m(err, SocketTimeout):\n\u001b[32m--> \u001b[39m\u001b[32m367\u001b[39m     \u001b[38;5;28;01mraise\u001b[39;00m ReadTimeoutError(\n\u001b[32m    368\u001b[39m         \u001b[38;5;28mself\u001b[39m, url, \u001b[33mf\u001b[39m\u001b[33m\"\u001b[39m\u001b[33mRead timed out. (read timeout=\u001b[39m\u001b[38;5;132;01m{\u001b[39;00mtimeout_value\u001b[38;5;132;01m}\u001b[39;00m\u001b[33m)\u001b[39m\u001b[33m\"\u001b[39m\n\u001b[32m    369\u001b[39m     ) \u001b[38;5;28;01mfrom\u001b[39;00m\u001b[38;5;250m \u001b[39m\u001b[34;01merr\u001b[39;00m\n\u001b[32m    371\u001b[39m \u001b[38;5;66;03m# See the above comment about EAGAIN in Python 3.\u001b[39;00m\n",
      "\u001b[31mReadTimeoutError\u001b[39m: HTTPSConnectionPool(host='mermaid.ink', port=443): Read timed out. (read timeout=10)",
      "\nDuring handling of the above exception, another exception occurred:\n",
      "\u001b[31mReadTimeout\u001b[39m                               Traceback (most recent call last)",
      "\u001b[36mCell\u001b[39m\u001b[36m \u001b[39m\u001b[32mIn[1]\u001b[39m\u001b[32m, line 7\u001b[39m\n\u001b[32m      5\u001b[39m \u001b[38;5;66;03m# Construir el grafo\u001b[39;00m\n\u001b[32m      6\u001b[39m graph = build_sequential_agent_graph()\n\u001b[32m----> \u001b[39m\u001b[32m7\u001b[39m display(Image(\u001b[43mgraph\u001b[49m\u001b[43m.\u001b[49m\u001b[43mget_graph\u001b[49m\u001b[43m(\u001b[49m\u001b[43mxray\u001b[49m\u001b[43m=\u001b[49m\u001b[38;5;28;43;01mTrue\u001b[39;49;00m\u001b[43m)\u001b[49m\u001b[43m.\u001b[49m\u001b[43mdraw_mermaid_png\u001b[49m\u001b[43m(\u001b[49m\u001b[43m)\u001b[49m))\n",
      "\u001b[36mFile \u001b[39m\u001b[32m~/Documents/GitHub/MVP_CARMENTOR/car_env/lib/python3.11/site-packages/langchain_core/runnables/graph.py:667\u001b[39m, in \u001b[36mGraph.draw_mermaid_png\u001b[39m\u001b[34m(self, curve_style, node_colors, wrap_label_n_words, output_file_path, draw_method, background_color, padding, frontmatter_config)\u001b[39m\n\u001b[32m    659\u001b[39m \u001b[38;5;28;01mfrom\u001b[39;00m\u001b[38;5;250m \u001b[39m\u001b[34;01mlangchain_core\u001b[39;00m\u001b[34;01m.\u001b[39;00m\u001b[34;01mrunnables\u001b[39;00m\u001b[34;01m.\u001b[39;00m\u001b[34;01mgraph_mermaid\u001b[39;00m\u001b[38;5;250m \u001b[39m\u001b[38;5;28;01mimport\u001b[39;00m draw_mermaid_png\n\u001b[32m    661\u001b[39m mermaid_syntax = \u001b[38;5;28mself\u001b[39m.draw_mermaid(\n\u001b[32m    662\u001b[39m     curve_style=curve_style,\n\u001b[32m    663\u001b[39m     node_colors=node_colors,\n\u001b[32m    664\u001b[39m     wrap_label_n_words=wrap_label_n_words,\n\u001b[32m    665\u001b[39m     frontmatter_config=frontmatter_config,\n\u001b[32m    666\u001b[39m )\n\u001b[32m--> \u001b[39m\u001b[32m667\u001b[39m \u001b[38;5;28;01mreturn\u001b[39;00m \u001b[43mdraw_mermaid_png\u001b[49m\u001b[43m(\u001b[49m\n\u001b[32m    668\u001b[39m \u001b[43m    \u001b[49m\u001b[43mmermaid_syntax\u001b[49m\u001b[43m=\u001b[49m\u001b[43mmermaid_syntax\u001b[49m\u001b[43m,\u001b[49m\n\u001b[32m    669\u001b[39m \u001b[43m    \u001b[49m\u001b[43moutput_file_path\u001b[49m\u001b[43m=\u001b[49m\u001b[43moutput_file_path\u001b[49m\u001b[43m,\u001b[49m\n\u001b[32m    670\u001b[39m \u001b[43m    \u001b[49m\u001b[43mdraw_method\u001b[49m\u001b[43m=\u001b[49m\u001b[43mdraw_method\u001b[49m\u001b[43m,\u001b[49m\n\u001b[32m    671\u001b[39m \u001b[43m    \u001b[49m\u001b[43mbackground_color\u001b[49m\u001b[43m=\u001b[49m\u001b[43mbackground_color\u001b[49m\u001b[43m,\u001b[49m\n\u001b[32m    672\u001b[39m \u001b[43m    \u001b[49m\u001b[43mpadding\u001b[49m\u001b[43m=\u001b[49m\u001b[43mpadding\u001b[49m\u001b[43m,\u001b[49m\n\u001b[32m    673\u001b[39m \u001b[43m\u001b[49m\u001b[43m)\u001b[49m\n",
      "\u001b[36mFile \u001b[39m\u001b[32m~/Documents/GitHub/MVP_CARMENTOR/car_env/lib/python3.11/site-packages/langchain_core/runnables/graph_mermaid.py:282\u001b[39m, in \u001b[36mdraw_mermaid_png\u001b[39m\u001b[34m(mermaid_syntax, output_file_path, draw_method, background_color, padding)\u001b[39m\n\u001b[32m    276\u001b[39m     img_bytes = asyncio.run(\n\u001b[32m    277\u001b[39m         _render_mermaid_using_pyppeteer(\n\u001b[32m    278\u001b[39m             mermaid_syntax, output_file_path, background_color, padding\n\u001b[32m    279\u001b[39m         )\n\u001b[32m    280\u001b[39m     )\n\u001b[32m    281\u001b[39m \u001b[38;5;28;01melif\u001b[39;00m draw_method == MermaidDrawMethod.API:\n\u001b[32m--> \u001b[39m\u001b[32m282\u001b[39m     img_bytes = \u001b[43m_render_mermaid_using_api\u001b[49m\u001b[43m(\u001b[49m\n\u001b[32m    283\u001b[39m \u001b[43m        \u001b[49m\u001b[43mmermaid_syntax\u001b[49m\u001b[43m,\u001b[49m\u001b[43m \u001b[49m\u001b[43moutput_file_path\u001b[49m\u001b[43m,\u001b[49m\u001b[43m \u001b[49m\u001b[43mbackground_color\u001b[49m\n\u001b[32m    284\u001b[39m \u001b[43m    \u001b[49m\u001b[43m)\u001b[49m\n\u001b[32m    285\u001b[39m \u001b[38;5;28;01melse\u001b[39;00m:\n\u001b[32m    286\u001b[39m     supported_methods = \u001b[33m\"\u001b[39m\u001b[33m, \u001b[39m\u001b[33m\"\u001b[39m.join([m.value \u001b[38;5;28;01mfor\u001b[39;00m m \u001b[38;5;129;01min\u001b[39;00m MermaidDrawMethod])\n",
      "\u001b[36mFile \u001b[39m\u001b[32m~/Documents/GitHub/MVP_CARMENTOR/car_env/lib/python3.11/site-packages/langchain_core/runnables/graph_mermaid.py:400\u001b[39m, in \u001b[36m_render_mermaid_using_api\u001b[39m\u001b[34m(mermaid_syntax, output_file_path, background_color, file_type)\u001b[39m\n\u001b[32m    394\u001b[39m         background_color = \u001b[33mf\u001b[39m\u001b[33m\"\u001b[39m\u001b[33m!\u001b[39m\u001b[38;5;132;01m{\u001b[39;00mbackground_color\u001b[38;5;132;01m}\u001b[39;00m\u001b[33m\"\u001b[39m\n\u001b[32m    396\u001b[39m image_url = (\n\u001b[32m    397\u001b[39m     \u001b[33mf\u001b[39m\u001b[33m\"\u001b[39m\u001b[33mhttps://mermaid.ink/img/\u001b[39m\u001b[38;5;132;01m{\u001b[39;00mmermaid_syntax_encoded\u001b[38;5;132;01m}\u001b[39;00m\u001b[33m\"\u001b[39m\n\u001b[32m    398\u001b[39m     \u001b[33mf\u001b[39m\u001b[33m\"\u001b[39m\u001b[33m?type=\u001b[39m\u001b[38;5;132;01m{\u001b[39;00mfile_type\u001b[38;5;132;01m}\u001b[39;00m\u001b[33m&bgColor=\u001b[39m\u001b[38;5;132;01m{\u001b[39;00mbackground_color\u001b[38;5;132;01m}\u001b[39;00m\u001b[33m\"\u001b[39m\n\u001b[32m    399\u001b[39m )\n\u001b[32m--> \u001b[39m\u001b[32m400\u001b[39m response = \u001b[43mrequests\u001b[49m\u001b[43m.\u001b[49m\u001b[43mget\u001b[49m\u001b[43m(\u001b[49m\u001b[43mimage_url\u001b[49m\u001b[43m,\u001b[49m\u001b[43m \u001b[49m\u001b[43mtimeout\u001b[49m\u001b[43m=\u001b[49m\u001b[32;43m10\u001b[39;49m\u001b[43m)\u001b[49m\n\u001b[32m    401\u001b[39m \u001b[38;5;28;01mif\u001b[39;00m response.status_code == \u001b[32m200\u001b[39m:\n\u001b[32m    402\u001b[39m     img_bytes = response.content\n",
      "\u001b[36mFile \u001b[39m\u001b[32m~/Documents/GitHub/MVP_CARMENTOR/car_env/lib/python3.11/site-packages/requests/api.py:73\u001b[39m, in \u001b[36mget\u001b[39m\u001b[34m(url, params, **kwargs)\u001b[39m\n\u001b[32m     62\u001b[39m \u001b[38;5;28;01mdef\u001b[39;00m\u001b[38;5;250m \u001b[39m\u001b[34mget\u001b[39m(url, params=\u001b[38;5;28;01mNone\u001b[39;00m, **kwargs):\n\u001b[32m     63\u001b[39m \u001b[38;5;250m    \u001b[39m\u001b[33mr\u001b[39m\u001b[33;03m\"\"\"Sends a GET request.\u001b[39;00m\n\u001b[32m     64\u001b[39m \n\u001b[32m     65\u001b[39m \u001b[33;03m    :param url: URL for the new :class:`Request` object.\u001b[39;00m\n\u001b[32m   (...)\u001b[39m\u001b[32m     70\u001b[39m \u001b[33;03m    :rtype: requests.Response\u001b[39;00m\n\u001b[32m     71\u001b[39m \u001b[33;03m    \"\"\"\u001b[39;00m\n\u001b[32m---> \u001b[39m\u001b[32m73\u001b[39m     \u001b[38;5;28;01mreturn\u001b[39;00m \u001b[43mrequest\u001b[49m\u001b[43m(\u001b[49m\u001b[33;43m\"\u001b[39;49m\u001b[33;43mget\u001b[39;49m\u001b[33;43m\"\u001b[39;49m\u001b[43m,\u001b[49m\u001b[43m \u001b[49m\u001b[43murl\u001b[49m\u001b[43m,\u001b[49m\u001b[43m \u001b[49m\u001b[43mparams\u001b[49m\u001b[43m=\u001b[49m\u001b[43mparams\u001b[49m\u001b[43m,\u001b[49m\u001b[43m \u001b[49m\u001b[43m*\u001b[49m\u001b[43m*\u001b[49m\u001b[43mkwargs\u001b[49m\u001b[43m)\u001b[49m\n",
      "\u001b[36mFile \u001b[39m\u001b[32m~/Documents/GitHub/MVP_CARMENTOR/car_env/lib/python3.11/site-packages/requests/api.py:59\u001b[39m, in \u001b[36mrequest\u001b[39m\u001b[34m(method, url, **kwargs)\u001b[39m\n\u001b[32m     55\u001b[39m \u001b[38;5;66;03m# By using the 'with' statement we are sure the session is closed, thus we\u001b[39;00m\n\u001b[32m     56\u001b[39m \u001b[38;5;66;03m# avoid leaving sockets open which can trigger a ResourceWarning in some\u001b[39;00m\n\u001b[32m     57\u001b[39m \u001b[38;5;66;03m# cases, and look like a memory leak in others.\u001b[39;00m\n\u001b[32m     58\u001b[39m \u001b[38;5;28;01mwith\u001b[39;00m sessions.Session() \u001b[38;5;28;01mas\u001b[39;00m session:\n\u001b[32m---> \u001b[39m\u001b[32m59\u001b[39m     \u001b[38;5;28;01mreturn\u001b[39;00m \u001b[43msession\u001b[49m\u001b[43m.\u001b[49m\u001b[43mrequest\u001b[49m\u001b[43m(\u001b[49m\u001b[43mmethod\u001b[49m\u001b[43m=\u001b[49m\u001b[43mmethod\u001b[49m\u001b[43m,\u001b[49m\u001b[43m \u001b[49m\u001b[43murl\u001b[49m\u001b[43m=\u001b[49m\u001b[43murl\u001b[49m\u001b[43m,\u001b[49m\u001b[43m \u001b[49m\u001b[43m*\u001b[49m\u001b[43m*\u001b[49m\u001b[43mkwargs\u001b[49m\u001b[43m)\u001b[49m\n",
      "\u001b[36mFile \u001b[39m\u001b[32m~/Documents/GitHub/MVP_CARMENTOR/car_env/lib/python3.11/site-packages/requests/sessions.py:589\u001b[39m, in \u001b[36mSession.request\u001b[39m\u001b[34m(self, method, url, params, data, headers, cookies, files, auth, timeout, allow_redirects, proxies, hooks, stream, verify, cert, json)\u001b[39m\n\u001b[32m    584\u001b[39m send_kwargs = {\n\u001b[32m    585\u001b[39m     \u001b[33m\"\u001b[39m\u001b[33mtimeout\u001b[39m\u001b[33m\"\u001b[39m: timeout,\n\u001b[32m    586\u001b[39m     \u001b[33m\"\u001b[39m\u001b[33mallow_redirects\u001b[39m\u001b[33m\"\u001b[39m: allow_redirects,\n\u001b[32m    587\u001b[39m }\n\u001b[32m    588\u001b[39m send_kwargs.update(settings)\n\u001b[32m--> \u001b[39m\u001b[32m589\u001b[39m resp = \u001b[38;5;28;43mself\u001b[39;49m\u001b[43m.\u001b[49m\u001b[43msend\u001b[49m\u001b[43m(\u001b[49m\u001b[43mprep\u001b[49m\u001b[43m,\u001b[49m\u001b[43m \u001b[49m\u001b[43m*\u001b[49m\u001b[43m*\u001b[49m\u001b[43msend_kwargs\u001b[49m\u001b[43m)\u001b[49m\n\u001b[32m    591\u001b[39m \u001b[38;5;28;01mreturn\u001b[39;00m resp\n",
      "\u001b[36mFile \u001b[39m\u001b[32m~/Documents/GitHub/MVP_CARMENTOR/car_env/lib/python3.11/site-packages/requests/sessions.py:703\u001b[39m, in \u001b[36mSession.send\u001b[39m\u001b[34m(self, request, **kwargs)\u001b[39m\n\u001b[32m    700\u001b[39m start = preferred_clock()\n\u001b[32m    702\u001b[39m \u001b[38;5;66;03m# Send the request\u001b[39;00m\n\u001b[32m--> \u001b[39m\u001b[32m703\u001b[39m r = \u001b[43madapter\u001b[49m\u001b[43m.\u001b[49m\u001b[43msend\u001b[49m\u001b[43m(\u001b[49m\u001b[43mrequest\u001b[49m\u001b[43m,\u001b[49m\u001b[43m \u001b[49m\u001b[43m*\u001b[49m\u001b[43m*\u001b[49m\u001b[43mkwargs\u001b[49m\u001b[43m)\u001b[49m\n\u001b[32m    705\u001b[39m \u001b[38;5;66;03m# Total elapsed time of the request (approximately)\u001b[39;00m\n\u001b[32m    706\u001b[39m elapsed = preferred_clock() - start\n",
      "\u001b[36mFile \u001b[39m\u001b[32m~/Documents/GitHub/MVP_CARMENTOR/car_env/lib/python3.11/site-packages/requests/adapters.py:713\u001b[39m, in \u001b[36mHTTPAdapter.send\u001b[39m\u001b[34m(self, request, stream, timeout, verify, cert, proxies)\u001b[39m\n\u001b[32m    711\u001b[39m     \u001b[38;5;28;01mraise\u001b[39;00m SSLError(e, request=request)\n\u001b[32m    712\u001b[39m \u001b[38;5;28;01melif\u001b[39;00m \u001b[38;5;28misinstance\u001b[39m(e, ReadTimeoutError):\n\u001b[32m--> \u001b[39m\u001b[32m713\u001b[39m     \u001b[38;5;28;01mraise\u001b[39;00m ReadTimeout(e, request=request)\n\u001b[32m    714\u001b[39m \u001b[38;5;28;01melif\u001b[39;00m \u001b[38;5;28misinstance\u001b[39m(e, _InvalidHeader):\n\u001b[32m    715\u001b[39m     \u001b[38;5;28;01mraise\u001b[39;00m InvalidHeader(e, request=request)\n",
      "\u001b[31mReadTimeout\u001b[39m: HTTPSConnectionPool(host='mermaid.ink', port=443): Read timed out. (read timeout=10)"
     ]
    }
   ],
   "source": [
    "from langchain_core.messages import SystemMessage, HumanMessage\n",
    "# Importar el constructor del grafo\n",
    "from IPython.display import Image, display\n",
    "from graph.perfil.builder import build_sequential_agent_graph\n",
    "# Construir el grafo\n",
    "graph = build_sequential_agent_graph()\n",
    "display(Image(graph.get_graph(xray=True).draw_mermaid_png()))\n"
   ]
  },
  {
   "cell_type": "markdown",
   "metadata": {},
   "source": [
    "## Prueba 1"
   ]
  },
  {
   "cell_type": "code",
   "execution_count": 2,
   "metadata": {},
   "outputs": [
    {
     "name": "stdout",
     "output_type": "stream",
     "text": [
      "--- Ejecutando Nodo: route_based_on_state_node ---\n",
      "\n",
      "--- DEBUG: Evaluating Routing Decision ---\n",
      "--- DEBUG CHECK PERFIL ---\n",
      "Input prefs object: None\n",
      "Input prefs type: <class 'NoneType'>\n",
      "DEBUG Router: Prefs OK? False\n",
      "--- DEBUG CHECK PASAJEROS ---\n",
      "Input info pasajeros: None\n",
      "DEBUG (Validation Pasajeros) ► Objeto InfoPasajeros es None.\n",
      "DEBUG Router: Pasajeros OK? False\n",
      "DEBUG (Validation Filtros) ► Objeto FiltrosInferidos es None.\n",
      "DEBUG Router: Filtros OK? False\n",
      "--- DEBUG CHECK ECONOMIA (Manual) ---\n",
      "Input econ object: None\n",
      "DEBUG (Validation Economía Manual) ► Objeto EconomiaUsuario es None.\n",
      "DEBUG Router: Economía OK? False\n",
      "DEBUG Router: Pesos Calculados? False\n",
      "DEBUG Router: Coches Buscados? False\n",
      "--- DEBUG CHECK PERFIL ---\n",
      "Input prefs object: None\n",
      "Input prefs type: <class 'NoneType'>\n",
      "DEBUG Router: Decisión -> recopilar_preferencias\n",
      "--- Ejecutando Nodo: recopilar_preferencias_node ---\n",
      "DEBUG (Perfil) ► Último mensaje es HumanMessage o historial vacío, llamando a llm_solo_perfil...\n"
     ]
    },
    {
     "name": "stderr",
     "output_type": "stream",
     "text": [
      "INFO (RAG): HTTP Request: POST https://api.openai.com/v1/chat/completions \"HTTP/1.1 200 OK\"\n"
     ]
    },
    {
     "name": "stdout",
     "output_type": "stream",
     "text": [
      "DEBUG (Perfil) ► Respuesta llm_solo_perfil: preferencias_usuario=PerfilUsuario(apasionado_motor=None, valora_estetica=None, coche_principal_hogar=None, uso_profesional=None, tipo_uso_profesional=None, prefiere_diseno_exclusivo=None, altura_mayor_190='no', peso_mayor_100='no', transporta_carga_voluminosa=None, necesita_espacio_objetos_especiales=None, arrastra_remolque=None, aventura=None, solo_electricos=None, prioriza_baja_depreciacion=None, transmision_preferida=None, rating_fiabilidad_durabilidad=None, rating_seguridad=None, rating_comodidad=None, rating_impacto_ambiental=None, rating_tecnologia_conectividad=None, rating_costes_uso=None) tipo_mensaje='PREGUNTA' contenido_mensaje='¡Hola! Soy CarBlau, tu asistente para encontrar el coche ideal. Para comenzar, ¿eres un apasionado del mundo automotriz?'\n",
      "DEBUG (Perfil) ► Preferencias TRAS post-procesamiento: apasionado_motor=None valora_estetica=None coche_principal_hogar=None uso_profesional=None tipo_uso_profesional=None prefiere_diseno_exclusivo=None altura_mayor_190='no' peso_mayor_100='no' transporta_carga_voluminosa=None necesita_espacio_objetos_especiales=None arrastra_remolque=None aventura=None solo_electricos=None prioriza_baja_depreciacion=None transmision_preferida=None rating_fiabilidad_durabilidad=None rating_seguridad=None rating_comodidad=None rating_impacto_ambiental=None rating_tecnologia_conectividad=None rating_costes_uso=None\n",
      "DEBUG (Perfil) ► Estado preferencias_usuario actualizado: apasionado_motor=None valora_estetica=None coche_principal_hogar=None uso_profesional=None tipo_uso_profesional=None prefiere_diseno_exclusivo=None altura_mayor_190='no' peso_mayor_100='no' transporta_carga_voluminosa=None necesita_espacio_objetos_especiales=None arrastra_remolque=None aventura=None solo_electricos=None prioriza_baja_depreciacion=None transmision_preferida=None rating_fiabilidad_durabilidad=None rating_seguridad=None rating_comodidad=None rating_impacto_ambiental=None rating_tecnologia_conectividad=None rating_costes_uso=None\n",
      "DEBUG (Perfil) ► Guardando mensaje pendiente: ¡Hola! Soy CarBlau, tu asistente para encontrar el coche ideal. Para comenzar, ¿eres un apasionado del mundo automotriz?\n",
      "--- Ejecutando Nodo: validar_preferencias_node ---\n",
      "--- DEBUG CHECK PERFIL ---\n",
      "Input prefs object: apasionado_motor=None valora_estetica=None coche_principal_hogar=None uso_profesional=None tipo_uso_profesional=None prefiere_diseno_exclusivo=None altura_mayor_190='no' peso_mayor_100='no' transporta_carga_voluminosa=None necesita_espacio_objetos_especiales=None arrastra_remolque=None aventura=None solo_electricos=None prioriza_baja_depreciacion=None transmision_preferida=None rating_fiabilidad_durabilidad=None rating_seguridad=None rating_comodidad=None rating_impacto_ambiental=None rating_tecnologia_conectividad=None rating_costes_uso=None\n",
      "Input prefs type: <class 'graph.perfil.state.PerfilUsuario'>\n",
      "DEBUG (Validation Perfil) ► Campo 'apasionado_motor' está vacío/None.\n",
      "DEBUG (Perfil) ► Validación: PerfilUsuario considerado INCOMPLETO.\n",
      "--- Evaluando Condición: ruta_decision_perfil ---\n",
      "DEBUG (Condición Perfil) ► Estado 'preferencias_usuario' recibido: apasionado_motor=None valora_estetica=None coche_principal_hogar=None uso_profesional=None tipo_uso_profesional=None prefiere_diseno_exclusivo=None altura_mayor_190='no' peso_mayor_100='no' transporta_carga_voluminosa=None necesita_espacio_objetos_especiales=None arrastra_remolque=None aventura=None solo_electricos=None prioriza_baja_depreciacion=None transmision_preferida=None rating_fiabilidad_durabilidad=None rating_seguridad=None rating_comodidad=None rating_impacto_ambiental=None rating_tecnologia_conectividad=None rating_costes_uso=None\n",
      "DEBUG (Condición Perfil) ► Tipo de 'preferencias_usuario': <class 'graph.perfil.state.PerfilUsuario'>\n",
      "--- DEBUG CHECK PERFIL ---\n",
      "Input prefs object: apasionado_motor=None valora_estetica=None coche_principal_hogar=None uso_profesional=None tipo_uso_profesional=None prefiere_diseno_exclusivo=None altura_mayor_190='no' peso_mayor_100='no' transporta_carga_voluminosa=None necesita_espacio_objetos_especiales=None arrastra_remolque=None aventura=None solo_electricos=None prioriza_baja_depreciacion=None transmision_preferida=None rating_fiabilidad_durabilidad=None rating_seguridad=None rating_comodidad=None rating_impacto_ambiental=None rating_tecnologia_conectividad=None rating_costes_uso=None\n",
      "Input prefs type: <class 'graph.perfil.state.PerfilUsuario'>\n",
      "DEBUG (Validation Perfil) ► Campo 'apasionado_motor' está vacío/None.\n",
      "DEBUG (Condición Perfil) ► Perfil INCOMPLETO. Se necesita pregunta.\n",
      "--- Ejecutando Nodo: preguntar_preferencias_node ---\n",
      "--- DEBUG CHECK PERFIL ---\n",
      "Input prefs object: apasionado_motor=None valora_estetica=None coche_principal_hogar=None uso_profesional=None tipo_uso_profesional=None prefiere_diseno_exclusivo=None altura_mayor_190='no' peso_mayor_100='no' transporta_carga_voluminosa=None necesita_espacio_objetos_especiales=None arrastra_remolque=None aventura=None solo_electricos=None prioriza_baja_depreciacion=None transmision_preferida=None rating_fiabilidad_durabilidad=None rating_seguridad=None rating_comodidad=None rating_impacto_ambiental=None rating_tecnologia_conectividad=None rating_costes_uso=None\n",
      "Input prefs type: <class 'graph.perfil.state.PerfilUsuario'>\n",
      "DEBUG (Validation Perfil) ► Campo 'apasionado_motor' está vacío/None.\n",
      "DEBUG (Preguntar Perfil) ► Perfil aún INCOMPLETO según checker.\n",
      "DEBUG (Preguntar Perfil) ► Pregunta fallback generada: ¿Te consideras una persona entusiasta del mundo del motor y la tecnología automotriz?\n",
      "DEBUG (Preguntar Perfil) ► Usando mensaje pendiente (pregunta LLM): ¡Hola! Soy CarBlau, tu asistente para encontrar el coche ideal. Para comenzar, ¿eres un apasionado del mundo automotriz?\n",
      "DEBUG (Preguntar Perfil) ► Mensaje final añadido: ¡Hola! Soy CarBlau, tu asistente para encontrar el coche ideal. Para comenzar, ¿eres un apasionado del mundo automotriz?\n",
      "==================================\u001b[1m Ai Message \u001b[0m==================================\n",
      "\n",
      "¡Hola! Soy CarBlau, tu asistente para encontrar el coche ideal. Para comenzar, ¿eres un apasionado del mundo automotriz?\n"
     ]
    }
   ],
   "source": [
    "from langchain_core.messages import HumanMessage, SystemMessage\n",
    "\n",
    "# Create a thread\n",
    "config = {\"configurable\": {\"thread_id\": \"1\"}}\n",
    "\n",
    "# Start conversation\n",
    "input_message = HumanMessage(content=\"quiero un coche, mido 1.50 y peso 70kg\")\n",
    "output = graph.invoke({\"messages\": [input_message]}, config) \n",
    "for m in output['messages'][-1:]:\n",
    "    m.pretty_print()\n"
   ]
  },
  {
   "cell_type": "code",
   "execution_count": 3,
   "metadata": {},
   "outputs": [
    {
     "name": "stdout",
     "output_type": "stream",
     "text": [
      "--- Ejecutando Nodo: route_based_on_state_node ---\n",
      "\n",
      "--- DEBUG: Evaluating Routing Decision ---\n",
      "--- DEBUG CHECK PERFIL ---\n",
      "Input prefs object: apasionado_motor=None valora_estetica=None coche_principal_hogar=None uso_profesional=None tipo_uso_profesional=None prefiere_diseno_exclusivo=None altura_mayor_190='no' peso_mayor_100='no' transporta_carga_voluminosa=None necesita_espacio_objetos_especiales=None arrastra_remolque=None aventura=None solo_electricos=None prioriza_baja_depreciacion=None transmision_preferida=None rating_fiabilidad_durabilidad=None rating_seguridad=None rating_comodidad=None rating_impacto_ambiental=None rating_tecnologia_conectividad=None rating_costes_uso=None\n",
      "Input prefs type: <class 'graph.perfil.state.PerfilUsuario'>\n",
      "DEBUG (Validation Perfil) ► Campo 'apasionado_motor' está vacío/None.\n",
      "DEBUG Router: Prefs OK? False\n",
      "--- DEBUG CHECK PASAJEROS ---\n",
      "Input info pasajeros: None\n",
      "DEBUG (Validation Pasajeros) ► Objeto InfoPasajeros es None.\n",
      "DEBUG Router: Pasajeros OK? False\n",
      "DEBUG (Validation Filtros) ► Objeto FiltrosInferidos es None.\n",
      "DEBUG Router: Filtros OK? False\n",
      "--- DEBUG CHECK ECONOMIA (Manual) ---\n",
      "Input econ object: None\n",
      "DEBUG (Validation Economía Manual) ► Objeto EconomiaUsuario es None.\n",
      "DEBUG Router: Economía OK? False\n",
      "DEBUG Router: Pesos Calculados? False\n",
      "DEBUG Router: Coches Buscados? False\n",
      "--- DEBUG CHECK PERFIL ---\n",
      "Input prefs object: apasionado_motor=None valora_estetica=None coche_principal_hogar=None uso_profesional=None tipo_uso_profesional=None prefiere_diseno_exclusivo=None altura_mayor_190='no' peso_mayor_100='no' transporta_carga_voluminosa=None necesita_espacio_objetos_especiales=None arrastra_remolque=None aventura=None solo_electricos=None prioriza_baja_depreciacion=None transmision_preferida=None rating_fiabilidad_durabilidad=None rating_seguridad=None rating_comodidad=None rating_impacto_ambiental=None rating_tecnologia_conectividad=None rating_costes_uso=None\n",
      "Input prefs type: <class 'graph.perfil.state.PerfilUsuario'>\n",
      "DEBUG (Validation Perfil) ► Campo 'apasionado_motor' está vacío/None.\n",
      "DEBUG Router: Decisión -> recopilar_preferencias\n",
      "--- Ejecutando Nodo: recopilar_preferencias_node ---\n",
      "DEBUG (Perfil) ► Último mensaje es HumanMessage o historial vacío, llamando a llm_solo_perfil...\n"
     ]
    },
    {
     "name": "stderr",
     "output_type": "stream",
     "text": [
      "INFO (RAG): HTTP Request: POST https://api.openai.com/v1/chat/completions \"HTTP/1.1 200 OK\"\n"
     ]
    },
    {
     "name": "stdout",
     "output_type": "stream",
     "text": [
      "DEBUG (Perfil) ► Respuesta llm_solo_perfil: preferencias_usuario=PerfilUsuario(apasionado_motor='no', valora_estetica=None, coche_principal_hogar=None, uso_profesional=None, tipo_uso_profesional=None, prefiere_diseno_exclusivo=None, altura_mayor_190=None, peso_mayor_100='no', transporta_carga_voluminosa=None, necesita_espacio_objetos_especiales=None, arrastra_remolque=None, aventura=None, solo_electricos=None, prioriza_baja_depreciacion=None, transmision_preferida=None, rating_fiabilidad_durabilidad=None, rating_seguridad=None, rating_comodidad=None, rating_impacto_ambiental=None, rating_tecnologia_conectividad=None, rating_costes_uso=None) tipo_mensaje='PREGUNTA' contenido_mensaje='¿Valora especialmente la estética del coche?'\n",
      "DEBUG (Perfil) ► Preferencias TRAS post-procesamiento: apasionado_motor='no' valora_estetica=None coche_principal_hogar=None uso_profesional=None tipo_uso_profesional=None prefiere_diseno_exclusivo=None altura_mayor_190=None peso_mayor_100='no' transporta_carga_voluminosa=None necesita_espacio_objetos_especiales=None arrastra_remolque=None aventura=None solo_electricos=None prioriza_baja_depreciacion=None transmision_preferida=None rating_fiabilidad_durabilidad=None rating_seguridad=None rating_comodidad=None rating_impacto_ambiental=None rating_tecnologia_conectividad=None rating_costes_uso=None\n",
      "DEBUG (Perfil) ► Estado preferencias_usuario actualizado: apasionado_motor='no' valora_estetica=None coche_principal_hogar=None uso_profesional=None tipo_uso_profesional=None prefiere_diseno_exclusivo=None altura_mayor_190='no' peso_mayor_100='no' transporta_carga_voluminosa=None necesita_espacio_objetos_especiales=None arrastra_remolque=None aventura=None solo_electricos=None prioriza_baja_depreciacion=None transmision_preferida=None rating_fiabilidad_durabilidad=None rating_seguridad=None rating_comodidad=None rating_impacto_ambiental=None rating_tecnologia_conectividad=None rating_costes_uso=None\n",
      "DEBUG (Perfil) ► Guardando mensaje pendiente: ¿Valora especialmente la estética del coche?\n",
      "--- Ejecutando Nodo: validar_preferencias_node ---\n",
      "--- DEBUG CHECK PERFIL ---\n",
      "Input prefs object: apasionado_motor='no' valora_estetica=None coche_principal_hogar=None uso_profesional=None tipo_uso_profesional=None prefiere_diseno_exclusivo=None altura_mayor_190='no' peso_mayor_100='no' transporta_carga_voluminosa=None necesita_espacio_objetos_especiales=None arrastra_remolque=None aventura=None solo_electricos=None prioriza_baja_depreciacion=None transmision_preferida=None rating_fiabilidad_durabilidad=None rating_seguridad=None rating_comodidad=None rating_impacto_ambiental=None rating_tecnologia_conectividad=None rating_costes_uso=None\n",
      "Input prefs type: <class 'graph.perfil.state.PerfilUsuario'>\n",
      "DEBUG (Validation Perfil) ► Campo 'valora_estetica' está vacío/None.\n",
      "DEBUG (Perfil) ► Validación: PerfilUsuario considerado INCOMPLETO.\n",
      "--- Evaluando Condición: ruta_decision_perfil ---\n",
      "DEBUG (Condición Perfil) ► Estado 'preferencias_usuario' recibido: apasionado_motor='no' valora_estetica=None coche_principal_hogar=None uso_profesional=None tipo_uso_profesional=None prefiere_diseno_exclusivo=None altura_mayor_190='no' peso_mayor_100='no' transporta_carga_voluminosa=None necesita_espacio_objetos_especiales=None arrastra_remolque=None aventura=None solo_electricos=None prioriza_baja_depreciacion=None transmision_preferida=None rating_fiabilidad_durabilidad=None rating_seguridad=None rating_comodidad=None rating_impacto_ambiental=None rating_tecnologia_conectividad=None rating_costes_uso=None\n",
      "DEBUG (Condición Perfil) ► Tipo de 'preferencias_usuario': <class 'graph.perfil.state.PerfilUsuario'>\n",
      "--- DEBUG CHECK PERFIL ---\n",
      "Input prefs object: apasionado_motor='no' valora_estetica=None coche_principal_hogar=None uso_profesional=None tipo_uso_profesional=None prefiere_diseno_exclusivo=None altura_mayor_190='no' peso_mayor_100='no' transporta_carga_voluminosa=None necesita_espacio_objetos_especiales=None arrastra_remolque=None aventura=None solo_electricos=None prioriza_baja_depreciacion=None transmision_preferida=None rating_fiabilidad_durabilidad=None rating_seguridad=None rating_comodidad=None rating_impacto_ambiental=None rating_tecnologia_conectividad=None rating_costes_uso=None\n",
      "Input prefs type: <class 'graph.perfil.state.PerfilUsuario'>\n",
      "DEBUG (Validation Perfil) ► Campo 'valora_estetica' está vacío/None.\n",
      "DEBUG (Condición Perfil) ► Perfil INCOMPLETO. Se necesita pregunta.\n",
      "--- Ejecutando Nodo: preguntar_preferencias_node ---\n",
      "--- DEBUG CHECK PERFIL ---\n",
      "Input prefs object: apasionado_motor='no' valora_estetica=None coche_principal_hogar=None uso_profesional=None tipo_uso_profesional=None prefiere_diseno_exclusivo=None altura_mayor_190='no' peso_mayor_100='no' transporta_carga_voluminosa=None necesita_espacio_objetos_especiales=None arrastra_remolque=None aventura=None solo_electricos=None prioriza_baja_depreciacion=None transmision_preferida=None rating_fiabilidad_durabilidad=None rating_seguridad=None rating_comodidad=None rating_impacto_ambiental=None rating_tecnologia_conectividad=None rating_costes_uso=None\n",
      "Input prefs type: <class 'graph.perfil.state.PerfilUsuario'>\n",
      "DEBUG (Validation Perfil) ► Campo 'valora_estetica' está vacío/None.\n",
      "DEBUG (Preguntar Perfil) ► Perfil aún INCOMPLETO según checker.\n",
      "DEBUG (Preguntar Perfil) ► Pregunta fallback generada: ¿La Estética es importante para ti o crees que hay factores más importantes?\n",
      "DEBUG (Preguntar Perfil) ► Usando mensaje pendiente (pregunta LLM): ¿Valora especialmente la estética del coche?\n",
      "DEBUG (Preguntar Perfil) ► Mensaje final añadido: ¿Valora especialmente la estética del coche?\n",
      "==================================\u001b[1m Ai Message \u001b[0m==================================\n",
      "\n",
      "¿Valora especialmente la estética del coche?\n"
     ]
    }
   ],
   "source": [
    "# Start conversation\n",
    "input_message = HumanMessage(content=\"no\")\n",
    "output = graph.invoke({\"messages\": [input_message]}, config) \n",
    "for m in output['messages'][-1:]:\n",
    "    m.pretty_print()"
   ]
  },
  {
   "cell_type": "code",
   "execution_count": 4,
   "metadata": {},
   "outputs": [
    {
     "name": "stdout",
     "output_type": "stream",
     "text": [
      "--- Ejecutando Nodo: route_based_on_state_node ---\n",
      "\n",
      "--- DEBUG: Evaluating Routing Decision ---\n",
      "--- DEBUG CHECK PERFIL ---\n",
      "Input prefs object: apasionado_motor='no' valora_estetica=None coche_principal_hogar=None uso_profesional=None tipo_uso_profesional=None prefiere_diseno_exclusivo=None altura_mayor_190='no' peso_mayor_100='no' transporta_carga_voluminosa=None necesita_espacio_objetos_especiales=None arrastra_remolque=None aventura=None solo_electricos=None prioriza_baja_depreciacion=None transmision_preferida=None rating_fiabilidad_durabilidad=None rating_seguridad=None rating_comodidad=None rating_impacto_ambiental=None rating_tecnologia_conectividad=None rating_costes_uso=None\n",
      "Input prefs type: <class 'graph.perfil.state.PerfilUsuario'>\n",
      "DEBUG (Validation Perfil) ► Campo 'valora_estetica' está vacío/None.\n",
      "DEBUG Router: Prefs OK? False\n",
      "--- DEBUG CHECK PASAJEROS ---\n",
      "Input info pasajeros: None\n",
      "DEBUG (Validation Pasajeros) ► Objeto InfoPasajeros es None.\n",
      "DEBUG Router: Pasajeros OK? False\n",
      "DEBUG (Validation Filtros) ► Objeto FiltrosInferidos es None.\n",
      "DEBUG Router: Filtros OK? False\n",
      "--- DEBUG CHECK ECONOMIA (Manual) ---\n",
      "Input econ object: None\n",
      "DEBUG (Validation Economía Manual) ► Objeto EconomiaUsuario es None.\n",
      "DEBUG Router: Economía OK? False\n",
      "DEBUG Router: Pesos Calculados? False\n",
      "DEBUG Router: Coches Buscados? False\n",
      "--- DEBUG CHECK PERFIL ---\n",
      "Input prefs object: apasionado_motor='no' valora_estetica=None coche_principal_hogar=None uso_profesional=None tipo_uso_profesional=None prefiere_diseno_exclusivo=None altura_mayor_190='no' peso_mayor_100='no' transporta_carga_voluminosa=None necesita_espacio_objetos_especiales=None arrastra_remolque=None aventura=None solo_electricos=None prioriza_baja_depreciacion=None transmision_preferida=None rating_fiabilidad_durabilidad=None rating_seguridad=None rating_comodidad=None rating_impacto_ambiental=None rating_tecnologia_conectividad=None rating_costes_uso=None\n",
      "Input prefs type: <class 'graph.perfil.state.PerfilUsuario'>\n",
      "DEBUG (Validation Perfil) ► Campo 'valora_estetica' está vacío/None.\n",
      "DEBUG Router: Decisión -> recopilar_preferencias\n",
      "--- Ejecutando Nodo: recopilar_preferencias_node ---\n",
      "DEBUG (Perfil) ► Último mensaje es HumanMessage o historial vacío, llamando a llm_solo_perfil...\n"
     ]
    },
    {
     "name": "stderr",
     "output_type": "stream",
     "text": [
      "INFO (RAG): HTTP Request: POST https://api.openai.com/v1/chat/completions \"HTTP/1.1 200 OK\"\n"
     ]
    },
    {
     "name": "stdout",
     "output_type": "stream",
     "text": [
      "DEBUG (Perfil) ► Respuesta llm_solo_perfil: preferencias_usuario=PerfilUsuario(apasionado_motor='no', valora_estetica='no', coche_principal_hogar=None, uso_profesional=None, tipo_uso_profesional=None, prefiere_diseno_exclusivo=None, altura_mayor_190='no', peso_mayor_100='no', transporta_carga_voluminosa=None, necesita_espacio_objetos_especiales=None, arrastra_remolque=None, aventura=None, solo_electricos=None, prioriza_baja_depreciacion=None, transmision_preferida=None, rating_fiabilidad_durabilidad=None, rating_seguridad=None, rating_comodidad=None, rating_impacto_ambiental=None, rating_tecnologia_conectividad=None, rating_costes_uso=None) tipo_mensaje='PREGUNTA' contenido_mensaje='¿El coche que estamos buscando será el vehículo principal de tu hogar?'\n",
      "DEBUG (Perfil) ► Preferencias TRAS post-procesamiento: apasionado_motor='no' valora_estetica='no' coche_principal_hogar=None uso_profesional=None tipo_uso_profesional=None prefiere_diseno_exclusivo=None altura_mayor_190='no' peso_mayor_100='no' transporta_carga_voluminosa=None necesita_espacio_objetos_especiales=None arrastra_remolque=None aventura=None solo_electricos=None prioriza_baja_depreciacion=None transmision_preferida=None rating_fiabilidad_durabilidad=None rating_seguridad=None rating_comodidad=None rating_impacto_ambiental=None rating_tecnologia_conectividad=None rating_costes_uso=None\n",
      "DEBUG (Perfil) ► Estado preferencias_usuario actualizado: apasionado_motor='no' valora_estetica='no' coche_principal_hogar=None uso_profesional=None tipo_uso_profesional=None prefiere_diseno_exclusivo=None altura_mayor_190='no' peso_mayor_100='no' transporta_carga_voluminosa=None necesita_espacio_objetos_especiales=None arrastra_remolque=None aventura=None solo_electricos=None prioriza_baja_depreciacion=None transmision_preferida=None rating_fiabilidad_durabilidad=None rating_seguridad=None rating_comodidad=None rating_impacto_ambiental=None rating_tecnologia_conectividad=None rating_costes_uso=None\n",
      "DEBUG (Perfil) ► Guardando mensaje pendiente: ¿El coche que estamos buscando será el vehículo principal de tu hogar?\n",
      "--- Ejecutando Nodo: validar_preferencias_node ---\n",
      "--- DEBUG CHECK PERFIL ---\n",
      "Input prefs object: apasionado_motor='no' valora_estetica='no' coche_principal_hogar=None uso_profesional=None tipo_uso_profesional=None prefiere_diseno_exclusivo=None altura_mayor_190='no' peso_mayor_100='no' transporta_carga_voluminosa=None necesita_espacio_objetos_especiales=None arrastra_remolque=None aventura=None solo_electricos=None prioriza_baja_depreciacion=None transmision_preferida=None rating_fiabilidad_durabilidad=None rating_seguridad=None rating_comodidad=None rating_impacto_ambiental=None rating_tecnologia_conectividad=None rating_costes_uso=None\n",
      "Input prefs type: <class 'graph.perfil.state.PerfilUsuario'>\n",
      "DEBUG (Validation Perfil) ► Campo 'coche_principal_hogar' está vacío/None.\n",
      "DEBUG (Perfil) ► Validación: PerfilUsuario considerado INCOMPLETO.\n",
      "--- Evaluando Condición: ruta_decision_perfil ---\n",
      "DEBUG (Condición Perfil) ► Estado 'preferencias_usuario' recibido: apasionado_motor='no' valora_estetica='no' coche_principal_hogar=None uso_profesional=None tipo_uso_profesional=None prefiere_diseno_exclusivo=None altura_mayor_190='no' peso_mayor_100='no' transporta_carga_voluminosa=None necesita_espacio_objetos_especiales=None arrastra_remolque=None aventura=None solo_electricos=None prioriza_baja_depreciacion=None transmision_preferida=None rating_fiabilidad_durabilidad=None rating_seguridad=None rating_comodidad=None rating_impacto_ambiental=None rating_tecnologia_conectividad=None rating_costes_uso=None\n",
      "DEBUG (Condición Perfil) ► Tipo de 'preferencias_usuario': <class 'graph.perfil.state.PerfilUsuario'>\n",
      "--- DEBUG CHECK PERFIL ---\n",
      "Input prefs object: apasionado_motor='no' valora_estetica='no' coche_principal_hogar=None uso_profesional=None tipo_uso_profesional=None prefiere_diseno_exclusivo=None altura_mayor_190='no' peso_mayor_100='no' transporta_carga_voluminosa=None necesita_espacio_objetos_especiales=None arrastra_remolque=None aventura=None solo_electricos=None prioriza_baja_depreciacion=None transmision_preferida=None rating_fiabilidad_durabilidad=None rating_seguridad=None rating_comodidad=None rating_impacto_ambiental=None rating_tecnologia_conectividad=None rating_costes_uso=None\n",
      "Input prefs type: <class 'graph.perfil.state.PerfilUsuario'>\n",
      "DEBUG (Validation Perfil) ► Campo 'coche_principal_hogar' está vacío/None.\n",
      "DEBUG (Condición Perfil) ► Perfil INCOMPLETO. Se necesita pregunta.\n",
      "--- Ejecutando Nodo: preguntar_preferencias_node ---\n",
      "--- DEBUG CHECK PERFIL ---\n",
      "Input prefs object: apasionado_motor='no' valora_estetica='no' coche_principal_hogar=None uso_profesional=None tipo_uso_profesional=None prefiere_diseno_exclusivo=None altura_mayor_190='no' peso_mayor_100='no' transporta_carga_voluminosa=None necesita_espacio_objetos_especiales=None arrastra_remolque=None aventura=None solo_electricos=None prioriza_baja_depreciacion=None transmision_preferida=None rating_fiabilidad_durabilidad=None rating_seguridad=None rating_comodidad=None rating_impacto_ambiental=None rating_tecnologia_conectividad=None rating_costes_uso=None\n",
      "Input prefs type: <class 'graph.perfil.state.PerfilUsuario'>\n",
      "DEBUG (Validation Perfil) ► Campo 'coche_principal_hogar' está vacío/None.\n",
      "DEBUG (Preguntar Perfil) ► Perfil aún INCOMPLETO según checker.\n",
      "DEBUG (Preguntar Perfil) ► Pregunta fallback generada: ¿El coche que estamos buscando será el vehículo principal de tu hogar?.\n",
      "DEBUG (Preguntar Perfil) ► Usando mensaje pendiente (pregunta LLM): ¿El coche que estamos buscando será el vehículo principal de tu hogar?\n",
      "DEBUG (Preguntar Perfil) ► Mensaje final añadido: ¿El coche que estamos buscando será el vehículo principal de tu hogar?\n",
      "==================================\u001b[1m Ai Message \u001b[0m==================================\n",
      "\n",
      "¿El coche que estamos buscando será el vehículo principal de tu hogar?\n"
     ]
    }
   ],
   "source": [
    "config = {\"configurable\": {\"thread_id\": \"1\"}}\n",
    "input_message = HumanMessage(content=\"no\")\n",
    "output = graph.invoke({\"messages\": [input_message]}, config) \n",
    "for m in output['messages'][-1:]:\n",
    "    m.pretty_print()"
   ]
  },
  {
   "cell_type": "code",
   "execution_count": 5,
   "metadata": {},
   "outputs": [
    {
     "name": "stdout",
     "output_type": "stream",
     "text": [
      "--- Ejecutando Nodo: route_based_on_state_node ---\n",
      "\n",
      "--- DEBUG: Evaluating Routing Decision ---\n",
      "--- DEBUG CHECK PERFIL ---\n",
      "Input prefs object: apasionado_motor='no' valora_estetica='no' coche_principal_hogar=None uso_profesional=None tipo_uso_profesional=None prefiere_diseno_exclusivo=None altura_mayor_190='no' peso_mayor_100='no' transporta_carga_voluminosa=None necesita_espacio_objetos_especiales=None arrastra_remolque=None aventura=None solo_electricos=None prioriza_baja_depreciacion=None transmision_preferida=None rating_fiabilidad_durabilidad=None rating_seguridad=None rating_comodidad=None rating_impacto_ambiental=None rating_tecnologia_conectividad=None rating_costes_uso=None\n",
      "Input prefs type: <class 'graph.perfil.state.PerfilUsuario'>\n",
      "DEBUG (Validation Perfil) ► Campo 'coche_principal_hogar' está vacío/None.\n",
      "DEBUG Router: Prefs OK? False\n",
      "--- DEBUG CHECK PASAJEROS ---\n",
      "Input info pasajeros: None\n",
      "DEBUG (Validation Pasajeros) ► Objeto InfoPasajeros es None.\n",
      "DEBUG Router: Pasajeros OK? False\n",
      "DEBUG (Validation Filtros) ► Objeto FiltrosInferidos es None.\n",
      "DEBUG Router: Filtros OK? False\n",
      "--- DEBUG CHECK ECONOMIA (Manual) ---\n",
      "Input econ object: None\n",
      "DEBUG (Validation Economía Manual) ► Objeto EconomiaUsuario es None.\n",
      "DEBUG Router: Economía OK? False\n",
      "DEBUG Router: Pesos Calculados? False\n",
      "DEBUG Router: Coches Buscados? False\n",
      "--- DEBUG CHECK PERFIL ---\n",
      "Input prefs object: apasionado_motor='no' valora_estetica='no' coche_principal_hogar=None uso_profesional=None tipo_uso_profesional=None prefiere_diseno_exclusivo=None altura_mayor_190='no' peso_mayor_100='no' transporta_carga_voluminosa=None necesita_espacio_objetos_especiales=None arrastra_remolque=None aventura=None solo_electricos=None prioriza_baja_depreciacion=None transmision_preferida=None rating_fiabilidad_durabilidad=None rating_seguridad=None rating_comodidad=None rating_impacto_ambiental=None rating_tecnologia_conectividad=None rating_costes_uso=None\n",
      "Input prefs type: <class 'graph.perfil.state.PerfilUsuario'>\n",
      "DEBUG (Validation Perfil) ► Campo 'coche_principal_hogar' está vacío/None.\n",
      "DEBUG Router: Decisión -> recopilar_preferencias\n",
      "--- Ejecutando Nodo: recopilar_preferencias_node ---\n",
      "DEBUG (Perfil) ► Último mensaje es HumanMessage o historial vacío, llamando a llm_solo_perfil...\n"
     ]
    },
    {
     "name": "stderr",
     "output_type": "stream",
     "text": [
      "INFO (RAG): HTTP Request: POST https://api.openai.com/v1/chat/completions \"HTTP/1.1 200 OK\"\n"
     ]
    },
    {
     "name": "stdout",
     "output_type": "stream",
     "text": [
      "DEBUG (Perfil) ► Respuesta llm_solo_perfil: preferencias_usuario=PerfilUsuario(apasionado_motor='no', valora_estetica='no', coche_principal_hogar='sí', uso_profesional=None, tipo_uso_profesional=None, prefiere_diseno_exclusivo=None, altura_mayor_190=None, peso_mayor_100=None, transporta_carga_voluminosa=None, necesita_espacio_objetos_especiales=None, arrastra_remolque=None, aventura=None, solo_electricos=None, prioriza_baja_depreciacion=None, transmision_preferida=None, rating_fiabilidad_durabilidad=None, rating_seguridad=None, rating_comodidad=None, rating_impacto_ambiental=None, rating_tecnologia_conectividad=None, rating_costes_uso=None) tipo_mensaje='PREGUNTA' contenido_mensaje='¿Usarás el coche para trabajo?'\n",
      "DEBUG (Perfil) ► Preferencias TRAS post-procesamiento: apasionado_motor='no' valora_estetica='no' coche_principal_hogar='sí' uso_profesional=None tipo_uso_profesional=None prefiere_diseno_exclusivo=None altura_mayor_190=None peso_mayor_100=None transporta_carga_voluminosa=None necesita_espacio_objetos_especiales=None arrastra_remolque=None aventura=None solo_electricos=None prioriza_baja_depreciacion=None transmision_preferida=None rating_fiabilidad_durabilidad=None rating_seguridad=None rating_comodidad=None rating_impacto_ambiental=None rating_tecnologia_conectividad=None rating_costes_uso=None\n",
      "DEBUG (Perfil) ► Estado preferencias_usuario actualizado: apasionado_motor='no' valora_estetica='no' coche_principal_hogar='sí' uso_profesional=None tipo_uso_profesional=None prefiere_diseno_exclusivo=None altura_mayor_190='no' peso_mayor_100='no' transporta_carga_voluminosa=None necesita_espacio_objetos_especiales=None arrastra_remolque=None aventura=None solo_electricos=None prioriza_baja_depreciacion=None transmision_preferida=None rating_fiabilidad_durabilidad=None rating_seguridad=None rating_comodidad=None rating_impacto_ambiental=None rating_tecnologia_conectividad=None rating_costes_uso=None\n",
      "DEBUG (Perfil) ► Guardando mensaje pendiente: ¿Usarás el coche para trabajo?\n",
      "--- Ejecutando Nodo: validar_preferencias_node ---\n",
      "--- DEBUG CHECK PERFIL ---\n",
      "Input prefs object: apasionado_motor='no' valora_estetica='no' coche_principal_hogar='sí' uso_profesional=None tipo_uso_profesional=None prefiere_diseno_exclusivo=None altura_mayor_190='no' peso_mayor_100='no' transporta_carga_voluminosa=None necesita_espacio_objetos_especiales=None arrastra_remolque=None aventura=None solo_electricos=None prioriza_baja_depreciacion=None transmision_preferida=None rating_fiabilidad_durabilidad=None rating_seguridad=None rating_comodidad=None rating_impacto_ambiental=None rating_tecnologia_conectividad=None rating_costes_uso=None\n",
      "Input prefs type: <class 'graph.perfil.state.PerfilUsuario'>\n",
      "DEBUG (Validation Perfil) ► Campo 'uso_profesional' está vacío/None.\n",
      "DEBUG (Perfil) ► Validación: PerfilUsuario considerado INCOMPLETO.\n",
      "--- Evaluando Condición: ruta_decision_perfil ---\n",
      "DEBUG (Condición Perfil) ► Estado 'preferencias_usuario' recibido: apasionado_motor='no' valora_estetica='no' coche_principal_hogar='sí' uso_profesional=None tipo_uso_profesional=None prefiere_diseno_exclusivo=None altura_mayor_190='no' peso_mayor_100='no' transporta_carga_voluminosa=None necesita_espacio_objetos_especiales=None arrastra_remolque=None aventura=None solo_electricos=None prioriza_baja_depreciacion=None transmision_preferida=None rating_fiabilidad_durabilidad=None rating_seguridad=None rating_comodidad=None rating_impacto_ambiental=None rating_tecnologia_conectividad=None rating_costes_uso=None\n",
      "DEBUG (Condición Perfil) ► Tipo de 'preferencias_usuario': <class 'graph.perfil.state.PerfilUsuario'>\n",
      "--- DEBUG CHECK PERFIL ---\n",
      "Input prefs object: apasionado_motor='no' valora_estetica='no' coche_principal_hogar='sí' uso_profesional=None tipo_uso_profesional=None prefiere_diseno_exclusivo=None altura_mayor_190='no' peso_mayor_100='no' transporta_carga_voluminosa=None necesita_espacio_objetos_especiales=None arrastra_remolque=None aventura=None solo_electricos=None prioriza_baja_depreciacion=None transmision_preferida=None rating_fiabilidad_durabilidad=None rating_seguridad=None rating_comodidad=None rating_impacto_ambiental=None rating_tecnologia_conectividad=None rating_costes_uso=None\n",
      "Input prefs type: <class 'graph.perfil.state.PerfilUsuario'>\n",
      "DEBUG (Validation Perfil) ► Campo 'uso_profesional' está vacío/None.\n",
      "DEBUG (Condición Perfil) ► Perfil INCOMPLETO. Se necesita pregunta.\n",
      "--- Ejecutando Nodo: preguntar_preferencias_node ---\n",
      "--- DEBUG CHECK PERFIL ---\n",
      "Input prefs object: apasionado_motor='no' valora_estetica='no' coche_principal_hogar='sí' uso_profesional=None tipo_uso_profesional=None prefiere_diseno_exclusivo=None altura_mayor_190='no' peso_mayor_100='no' transporta_carga_voluminosa=None necesita_espacio_objetos_especiales=None arrastra_remolque=None aventura=None solo_electricos=None prioriza_baja_depreciacion=None transmision_preferida=None rating_fiabilidad_durabilidad=None rating_seguridad=None rating_comodidad=None rating_impacto_ambiental=None rating_tecnologia_conectividad=None rating_costes_uso=None\n",
      "Input prefs type: <class 'graph.perfil.state.PerfilUsuario'>\n",
      "DEBUG (Validation Perfil) ► Campo 'uso_profesional' está vacío/None.\n",
      "DEBUG (Preguntar Perfil) ► Perfil aún INCOMPLETO según checker.\n",
      "DEBUG (Preguntar Perfil) ► Pregunta fallback generada: ¿El coche lo destinaras principalmente para uso personal o más para fines profesionales (trabajo)?\n",
      "DEBUG (Preguntar Perfil) ► Usando mensaje pendiente (pregunta LLM): ¿Usarás el coche para trabajo?\n",
      "DEBUG (Preguntar Perfil) ► Mensaje final añadido: ¿Usarás el coche para trabajo?\n",
      "==================================\u001b[1m Ai Message \u001b[0m==================================\n",
      "\n",
      "¿Usarás el coche para trabajo?\n"
     ]
    }
   ],
   "source": [
    "config = {\"configurable\": {\"thread_id\": \"1\"}}\n",
    "input_message = HumanMessage(content=\"si, lo sera \")\n",
    "output = graph.invoke({\"messages\": [input_message]}, config) \n",
    "for m in output['messages'][-1:]:\n",
    "    m.pretty_print()"
   ]
  },
  {
   "cell_type": "code",
   "execution_count": 6,
   "metadata": {},
   "outputs": [
    {
     "name": "stdout",
     "output_type": "stream",
     "text": [
      "--- Ejecutando Nodo: route_based_on_state_node ---\n",
      "\n",
      "--- DEBUG: Evaluating Routing Decision ---\n",
      "--- DEBUG CHECK PERFIL ---\n",
      "Input prefs object: apasionado_motor='no' valora_estetica='no' coche_principal_hogar='sí' uso_profesional=None tipo_uso_profesional=None prefiere_diseno_exclusivo=None altura_mayor_190='no' peso_mayor_100='no' transporta_carga_voluminosa=None necesita_espacio_objetos_especiales=None arrastra_remolque=None aventura=None solo_electricos=None prioriza_baja_depreciacion=None transmision_preferida=None rating_fiabilidad_durabilidad=None rating_seguridad=None rating_comodidad=None rating_impacto_ambiental=None rating_tecnologia_conectividad=None rating_costes_uso=None\n",
      "Input prefs type: <class 'graph.perfil.state.PerfilUsuario'>\n",
      "DEBUG (Validation Perfil) ► Campo 'uso_profesional' está vacío/None.\n",
      "DEBUG Router: Prefs OK? False\n",
      "--- DEBUG CHECK PASAJEROS ---\n",
      "Input info pasajeros: None\n",
      "DEBUG (Validation Pasajeros) ► Objeto InfoPasajeros es None.\n",
      "DEBUG Router: Pasajeros OK? False\n",
      "DEBUG (Validation Filtros) ► Objeto FiltrosInferidos es None.\n",
      "DEBUG Router: Filtros OK? False\n",
      "--- DEBUG CHECK ECONOMIA (Manual) ---\n",
      "Input econ object: None\n",
      "DEBUG (Validation Economía Manual) ► Objeto EconomiaUsuario es None.\n",
      "DEBUG Router: Economía OK? False\n",
      "DEBUG Router: Pesos Calculados? False\n",
      "DEBUG Router: Coches Buscados? False\n",
      "--- DEBUG CHECK PERFIL ---\n",
      "Input prefs object: apasionado_motor='no' valora_estetica='no' coche_principal_hogar='sí' uso_profesional=None tipo_uso_profesional=None prefiere_diseno_exclusivo=None altura_mayor_190='no' peso_mayor_100='no' transporta_carga_voluminosa=None necesita_espacio_objetos_especiales=None arrastra_remolque=None aventura=None solo_electricos=None prioriza_baja_depreciacion=None transmision_preferida=None rating_fiabilidad_durabilidad=None rating_seguridad=None rating_comodidad=None rating_impacto_ambiental=None rating_tecnologia_conectividad=None rating_costes_uso=None\n",
      "Input prefs type: <class 'graph.perfil.state.PerfilUsuario'>\n",
      "DEBUG (Validation Perfil) ► Campo 'uso_profesional' está vacío/None.\n",
      "DEBUG Router: Decisión -> recopilar_preferencias\n",
      "--- Ejecutando Nodo: recopilar_preferencias_node ---\n",
      "DEBUG (Perfil) ► Último mensaje es HumanMessage o historial vacío, llamando a llm_solo_perfil...\n"
     ]
    },
    {
     "name": "stderr",
     "output_type": "stream",
     "text": [
      "INFO (RAG): HTTP Request: POST https://api.openai.com/v1/chat/completions \"HTTP/1.1 200 OK\"\n"
     ]
    },
    {
     "name": "stdout",
     "output_type": "stream",
     "text": [
      "DEBUG (Perfil) ► Respuesta llm_solo_perfil: preferencias_usuario=PerfilUsuario(apasionado_motor='no', valora_estetica='no', coche_principal_hogar='sí', uso_profesional='no', tipo_uso_profesional=None, prefiere_diseno_exclusivo=None, altura_mayor_190=None, peso_mayor_100=None, transporta_carga_voluminosa=None, necesita_espacio_objetos_especiales=None, arrastra_remolque=None, aventura=None, solo_electricos=None, prioriza_baja_depreciacion=None, transmision_preferida=None, rating_fiabilidad_durabilidad=None, rating_seguridad=None, rating_comodidad=None, rating_impacto_ambiental=None, rating_tecnologia_conectividad=None, rating_costes_uso=None) tipo_mensaje='PREGUNTA' contenido_mensaje=\"¿Prefieres un diseño de coche que sea exclusivo y te diferencie del resto? (Responde 'sí' o 'no')\"\n",
      "DEBUG (Perfil) ► Preferencias TRAS post-procesamiento: apasionado_motor='no' valora_estetica='no' coche_principal_hogar='sí' uso_profesional='no' tipo_uso_profesional=None prefiere_diseno_exclusivo=None altura_mayor_190=None peso_mayor_100=None transporta_carga_voluminosa=None necesita_espacio_objetos_especiales=None arrastra_remolque=None aventura=None solo_electricos=None prioriza_baja_depreciacion=None transmision_preferida=None rating_fiabilidad_durabilidad=None rating_seguridad=None rating_comodidad=None rating_impacto_ambiental=None rating_tecnologia_conectividad=None rating_costes_uso=None\n",
      "DEBUG (Perfil) ► Estado preferencias_usuario actualizado: apasionado_motor='no' valora_estetica='no' coche_principal_hogar='sí' uso_profesional='no' tipo_uso_profesional=None prefiere_diseno_exclusivo=None altura_mayor_190='no' peso_mayor_100='no' transporta_carga_voluminosa=None necesita_espacio_objetos_especiales=None arrastra_remolque=None aventura=None solo_electricos=None prioriza_baja_depreciacion=None transmision_preferida=None rating_fiabilidad_durabilidad=None rating_seguridad=None rating_comodidad=None rating_impacto_ambiental=None rating_tecnologia_conectividad=None rating_costes_uso=None\n",
      "DEBUG (Perfil) ► Guardando mensaje pendiente: ¿Prefieres un diseño de coche que sea exclusivo y te diferencie del resto? (Responde 'sí' o 'no')\n",
      "--- Ejecutando Nodo: validar_preferencias_node ---\n",
      "--- DEBUG CHECK PERFIL ---\n",
      "Input prefs object: apasionado_motor='no' valora_estetica='no' coche_principal_hogar='sí' uso_profesional='no' tipo_uso_profesional=None prefiere_diseno_exclusivo=None altura_mayor_190='no' peso_mayor_100='no' transporta_carga_voluminosa=None necesita_espacio_objetos_especiales=None arrastra_remolque=None aventura=None solo_electricos=None prioriza_baja_depreciacion=None transmision_preferida=None rating_fiabilidad_durabilidad=None rating_seguridad=None rating_comodidad=None rating_impacto_ambiental=None rating_tecnologia_conectividad=None rating_costes_uso=None\n",
      "Input prefs type: <class 'graph.perfil.state.PerfilUsuario'>\n",
      "DEBUG (Validation Perfil) ► Campo 'prefiere_diseno_exclusivo' está vacío/None.\n",
      "DEBUG (Perfil) ► Validación: PerfilUsuario considerado INCOMPLETO.\n",
      "--- Evaluando Condición: ruta_decision_perfil ---\n",
      "DEBUG (Condición Perfil) ► Estado 'preferencias_usuario' recibido: apasionado_motor='no' valora_estetica='no' coche_principal_hogar='sí' uso_profesional='no' tipo_uso_profesional=None prefiere_diseno_exclusivo=None altura_mayor_190='no' peso_mayor_100='no' transporta_carga_voluminosa=None necesita_espacio_objetos_especiales=None arrastra_remolque=None aventura=None solo_electricos=None prioriza_baja_depreciacion=None transmision_preferida=None rating_fiabilidad_durabilidad=None rating_seguridad=None rating_comodidad=None rating_impacto_ambiental=None rating_tecnologia_conectividad=None rating_costes_uso=None\n",
      "DEBUG (Condición Perfil) ► Tipo de 'preferencias_usuario': <class 'graph.perfil.state.PerfilUsuario'>\n",
      "--- DEBUG CHECK PERFIL ---\n",
      "Input prefs object: apasionado_motor='no' valora_estetica='no' coche_principal_hogar='sí' uso_profesional='no' tipo_uso_profesional=None prefiere_diseno_exclusivo=None altura_mayor_190='no' peso_mayor_100='no' transporta_carga_voluminosa=None necesita_espacio_objetos_especiales=None arrastra_remolque=None aventura=None solo_electricos=None prioriza_baja_depreciacion=None transmision_preferida=None rating_fiabilidad_durabilidad=None rating_seguridad=None rating_comodidad=None rating_impacto_ambiental=None rating_tecnologia_conectividad=None rating_costes_uso=None\n",
      "Input prefs type: <class 'graph.perfil.state.PerfilUsuario'>\n",
      "DEBUG (Validation Perfil) ► Campo 'prefiere_diseno_exclusivo' está vacío/None.\n",
      "DEBUG (Condición Perfil) ► Perfil INCOMPLETO. Se necesita pregunta.\n",
      "--- Ejecutando Nodo: preguntar_preferencias_node ---\n",
      "--- DEBUG CHECK PERFIL ---\n",
      "Input prefs object: apasionado_motor='no' valora_estetica='no' coche_principal_hogar='sí' uso_profesional='no' tipo_uso_profesional=None prefiere_diseno_exclusivo=None altura_mayor_190='no' peso_mayor_100='no' transporta_carga_voluminosa=None necesita_espacio_objetos_especiales=None arrastra_remolque=None aventura=None solo_electricos=None prioriza_baja_depreciacion=None transmision_preferida=None rating_fiabilidad_durabilidad=None rating_seguridad=None rating_comodidad=None rating_impacto_ambiental=None rating_tecnologia_conectividad=None rating_costes_uso=None\n",
      "Input prefs type: <class 'graph.perfil.state.PerfilUsuario'>\n",
      "DEBUG (Validation Perfil) ► Campo 'prefiere_diseno_exclusivo' está vacío/None.\n",
      "DEBUG (Preguntar Perfil) ► Perfil aún INCOMPLETO según checker.\n",
      "DEBUG (Preguntar Perfil) ► Pregunta fallback generada: En cuanto al estilo del coche, ¿te inclinas más por un diseño exclusivo y llamativo, o por algo más discreto y convencional?\n",
      "DEBUG (Preguntar Perfil) ► Usando mensaje pendiente (pregunta LLM): ¿Prefieres un diseño de coche que sea exclusivo y te diferencie del resto? (Responde 'sí' o 'no')\n",
      "DEBUG (Preguntar Perfil) ► Mensaje final añadido: ¿Prefieres un diseño de coche que sea exclusivo y te diferencie del resto? (Responde 'sí' o 'no')\n",
      "==================================\u001b[1m Ai Message \u001b[0m==================================\n",
      "\n",
      "¿Prefieres un diseño de coche que sea exclusivo y te diferencie del resto? (Responde 'sí' o 'no')\n"
     ]
    }
   ],
   "source": [
    "config = {\"configurable\": {\"thread_id\": \"1\"}}\n",
    "input_message = HumanMessage(content=\"no\")\n",
    "output = graph.invoke({\"messages\": [input_message]}, config) \n",
    "for m in output['messages'][-1:]:\n",
    "    m.pretty_print()"
   ]
  },
  {
   "cell_type": "code",
   "execution_count": 7,
   "metadata": {},
   "outputs": [
    {
     "name": "stdout",
     "output_type": "stream",
     "text": [
      "--- Ejecutando Nodo: route_based_on_state_node ---\n",
      "\n",
      "--- DEBUG: Evaluating Routing Decision ---\n",
      "--- DEBUG CHECK PERFIL ---\n",
      "Input prefs object: apasionado_motor='no' valora_estetica='no' coche_principal_hogar='sí' uso_profesional='no' tipo_uso_profesional=None prefiere_diseno_exclusivo=None altura_mayor_190='no' peso_mayor_100='no' transporta_carga_voluminosa=None necesita_espacio_objetos_especiales=None arrastra_remolque=None aventura=None solo_electricos=None prioriza_baja_depreciacion=None transmision_preferida=None rating_fiabilidad_durabilidad=None rating_seguridad=None rating_comodidad=None rating_impacto_ambiental=None rating_tecnologia_conectividad=None rating_costes_uso=None\n",
      "Input prefs type: <class 'graph.perfil.state.PerfilUsuario'>\n",
      "DEBUG (Validation Perfil) ► Campo 'prefiere_diseno_exclusivo' está vacío/None.\n",
      "DEBUG Router: Prefs OK? False\n",
      "--- DEBUG CHECK PASAJEROS ---\n",
      "Input info pasajeros: None\n",
      "DEBUG (Validation Pasajeros) ► Objeto InfoPasajeros es None.\n",
      "DEBUG Router: Pasajeros OK? False\n",
      "DEBUG (Validation Filtros) ► Objeto FiltrosInferidos es None.\n",
      "DEBUG Router: Filtros OK? False\n",
      "--- DEBUG CHECK ECONOMIA (Manual) ---\n",
      "Input econ object: None\n",
      "DEBUG (Validation Economía Manual) ► Objeto EconomiaUsuario es None.\n",
      "DEBUG Router: Economía OK? False\n",
      "DEBUG Router: Pesos Calculados? False\n",
      "DEBUG Router: Coches Buscados? False\n",
      "--- DEBUG CHECK PERFIL ---\n",
      "Input prefs object: apasionado_motor='no' valora_estetica='no' coche_principal_hogar='sí' uso_profesional='no' tipo_uso_profesional=None prefiere_diseno_exclusivo=None altura_mayor_190='no' peso_mayor_100='no' transporta_carga_voluminosa=None necesita_espacio_objetos_especiales=None arrastra_remolque=None aventura=None solo_electricos=None prioriza_baja_depreciacion=None transmision_preferida=None rating_fiabilidad_durabilidad=None rating_seguridad=None rating_comodidad=None rating_impacto_ambiental=None rating_tecnologia_conectividad=None rating_costes_uso=None\n",
      "Input prefs type: <class 'graph.perfil.state.PerfilUsuario'>\n",
      "DEBUG (Validation Perfil) ► Campo 'prefiere_diseno_exclusivo' está vacío/None.\n",
      "DEBUG Router: Decisión -> recopilar_preferencias\n",
      "--- Ejecutando Nodo: recopilar_preferencias_node ---\n",
      "DEBUG (Perfil) ► Último mensaje es HumanMessage o historial vacío, llamando a llm_solo_perfil...\n"
     ]
    },
    {
     "name": "stderr",
     "output_type": "stream",
     "text": [
      "INFO (RAG): HTTP Request: POST https://api.openai.com/v1/chat/completions \"HTTP/1.1 200 OK\"\n"
     ]
    },
    {
     "name": "stdout",
     "output_type": "stream",
     "text": [
      "DEBUG (Perfil) ► Respuesta llm_solo_perfil: preferencias_usuario=PerfilUsuario(apasionado_motor='no', valora_estetica='no', coche_principal_hogar='sí', uso_profesional='no', tipo_uso_profesional=None, prefiere_diseno_exclusivo='sí', altura_mayor_190='no', peso_mayor_100='no', transporta_carga_voluminosa=None, necesita_espacio_objetos_especiales=None, arrastra_remolque=None, aventura=None, solo_electricos=None, prioriza_baja_depreciacion=None, transmision_preferida=None, rating_fiabilidad_durabilidad=None, rating_seguridad=None, rating_comodidad=None, rating_impacto_ambiental=None, rating_tecnologia_conectividad=None, rating_costes_uso=None) tipo_mensaje='PREGUNTA' contenido_mensaje='Para garantizar tu máxima comodidad, ¿tienes un peso superior a 100 kg?'\n",
      "DEBUG (Perfil) ► Preferencias TRAS post-procesamiento: apasionado_motor='no' valora_estetica='no' coche_principal_hogar='sí' uso_profesional='no' tipo_uso_profesional=None prefiere_diseno_exclusivo='sí' altura_mayor_190='no' peso_mayor_100='no' transporta_carga_voluminosa=None necesita_espacio_objetos_especiales=None arrastra_remolque=None aventura=None solo_electricos=None prioriza_baja_depreciacion=None transmision_preferida=None rating_fiabilidad_durabilidad=None rating_seguridad=None rating_comodidad=None rating_impacto_ambiental=None rating_tecnologia_conectividad=None rating_costes_uso=None\n",
      "DEBUG (Perfil) ► Estado preferencias_usuario actualizado: apasionado_motor='no' valora_estetica='no' coche_principal_hogar='sí' uso_profesional='no' tipo_uso_profesional=None prefiere_diseno_exclusivo='sí' altura_mayor_190='no' peso_mayor_100='no' transporta_carga_voluminosa=None necesita_espacio_objetos_especiales=None arrastra_remolque=None aventura=None solo_electricos=None prioriza_baja_depreciacion=None transmision_preferida=None rating_fiabilidad_durabilidad=None rating_seguridad=None rating_comodidad=None rating_impacto_ambiental=None rating_tecnologia_conectividad=None rating_costes_uso=None\n",
      "DEBUG (Perfil) ► Guardando mensaje pendiente: Para garantizar tu máxima comodidad, ¿tienes un peso superior a 100 kg?\n",
      "--- Ejecutando Nodo: validar_preferencias_node ---\n",
      "--- DEBUG CHECK PERFIL ---\n",
      "Input prefs object: apasionado_motor='no' valora_estetica='no' coche_principal_hogar='sí' uso_profesional='no' tipo_uso_profesional=None prefiere_diseno_exclusivo='sí' altura_mayor_190='no' peso_mayor_100='no' transporta_carga_voluminosa=None necesita_espacio_objetos_especiales=None arrastra_remolque=None aventura=None solo_electricos=None prioriza_baja_depreciacion=None transmision_preferida=None rating_fiabilidad_durabilidad=None rating_seguridad=None rating_comodidad=None rating_impacto_ambiental=None rating_tecnologia_conectividad=None rating_costes_uso=None\n",
      "Input prefs type: <class 'graph.perfil.state.PerfilUsuario'>\n",
      "DEBUG (Validation Perfil) ► Campo 'transporta_carga_voluminosa' está vacío/None.\n",
      "DEBUG (Perfil) ► Validación: PerfilUsuario considerado INCOMPLETO.\n",
      "--- Evaluando Condición: ruta_decision_perfil ---\n",
      "DEBUG (Condición Perfil) ► Estado 'preferencias_usuario' recibido: apasionado_motor='no' valora_estetica='no' coche_principal_hogar='sí' uso_profesional='no' tipo_uso_profesional=None prefiere_diseno_exclusivo='sí' altura_mayor_190='no' peso_mayor_100='no' transporta_carga_voluminosa=None necesita_espacio_objetos_especiales=None arrastra_remolque=None aventura=None solo_electricos=None prioriza_baja_depreciacion=None transmision_preferida=None rating_fiabilidad_durabilidad=None rating_seguridad=None rating_comodidad=None rating_impacto_ambiental=None rating_tecnologia_conectividad=None rating_costes_uso=None\n",
      "DEBUG (Condición Perfil) ► Tipo de 'preferencias_usuario': <class 'graph.perfil.state.PerfilUsuario'>\n",
      "--- DEBUG CHECK PERFIL ---\n",
      "Input prefs object: apasionado_motor='no' valora_estetica='no' coche_principal_hogar='sí' uso_profesional='no' tipo_uso_profesional=None prefiere_diseno_exclusivo='sí' altura_mayor_190='no' peso_mayor_100='no' transporta_carga_voluminosa=None necesita_espacio_objetos_especiales=None arrastra_remolque=None aventura=None solo_electricos=None prioriza_baja_depreciacion=None transmision_preferida=None rating_fiabilidad_durabilidad=None rating_seguridad=None rating_comodidad=None rating_impacto_ambiental=None rating_tecnologia_conectividad=None rating_costes_uso=None\n",
      "Input prefs type: <class 'graph.perfil.state.PerfilUsuario'>\n",
      "DEBUG (Validation Perfil) ► Campo 'transporta_carga_voluminosa' está vacío/None.\n",
      "DEBUG (Condición Perfil) ► Perfil INCOMPLETO. Se necesita pregunta.\n",
      "--- Ejecutando Nodo: preguntar_preferencias_node ---\n",
      "--- DEBUG CHECK PERFIL ---\n",
      "Input prefs object: apasionado_motor='no' valora_estetica='no' coche_principal_hogar='sí' uso_profesional='no' tipo_uso_profesional=None prefiere_diseno_exclusivo='sí' altura_mayor_190='no' peso_mayor_100='no' transporta_carga_voluminosa=None necesita_espacio_objetos_especiales=None arrastra_remolque=None aventura=None solo_electricos=None prioriza_baja_depreciacion=None transmision_preferida=None rating_fiabilidad_durabilidad=None rating_seguridad=None rating_comodidad=None rating_impacto_ambiental=None rating_tecnologia_conectividad=None rating_costes_uso=None\n",
      "Input prefs type: <class 'graph.perfil.state.PerfilUsuario'>\n",
      "DEBUG (Validation Perfil) ► Campo 'transporta_carga_voluminosa' está vacío/None.\n",
      "DEBUG (Preguntar Perfil) ► Perfil aún INCOMPLETO según checker.\n",
      "DEBUG (Preguntar Perfil) ► Pregunta fallback generada: ¿Transportas con frecuencia equipaje o carga voluminosa? (Responde 'sí' o 'no')\n",
      "DEBUG (Preguntar Perfil) ► Usando mensaje pendiente (pregunta LLM): Para garantizar tu máxima comodidad, ¿tienes un peso superior a 100 kg?\n",
      "DEBUG (Preguntar Perfil) ► Mensaje final añadido: Para garantizar tu máxima comodidad, ¿tienes un peso superior a 100 kg?\n",
      "==================================\u001b[1m Ai Message \u001b[0m==================================\n",
      "\n",
      "Para garantizar tu máxima comodidad, ¿tienes un peso superior a 100 kg?\n"
     ]
    }
   ],
   "source": [
    "config = {\"configurable\": {\"thread_id\": \"1\"}}\n",
    "input_message = HumanMessage(content=\"SI\")\n",
    "output = graph.invoke({\"messages\": [input_message]}, config) \n",
    "for m in output['messages'][-1:]:\n",
    "    m.pretty_print()"
   ]
  },
  {
   "cell_type": "code",
   "execution_count": 8,
   "metadata": {},
   "outputs": [
    {
     "name": "stdout",
     "output_type": "stream",
     "text": [
      "--- Ejecutando Nodo: route_based_on_state_node ---\n",
      "\n",
      "--- DEBUG: Evaluating Routing Decision ---\n",
      "--- DEBUG CHECK PERFIL ---\n",
      "Input prefs object: apasionado_motor='no' valora_estetica='no' coche_principal_hogar='sí' uso_profesional='no' tipo_uso_profesional=None prefiere_diseno_exclusivo='sí' altura_mayor_190='no' peso_mayor_100='no' transporta_carga_voluminosa=None necesita_espacio_objetos_especiales=None arrastra_remolque=None aventura=None solo_electricos=None prioriza_baja_depreciacion=None transmision_preferida=None rating_fiabilidad_durabilidad=None rating_seguridad=None rating_comodidad=None rating_impacto_ambiental=None rating_tecnologia_conectividad=None rating_costes_uso=None\n",
      "Input prefs type: <class 'graph.perfil.state.PerfilUsuario'>\n",
      "DEBUG (Validation Perfil) ► Campo 'transporta_carga_voluminosa' está vacío/None.\n",
      "DEBUG Router: Prefs OK? False\n",
      "--- DEBUG CHECK PASAJEROS ---\n",
      "Input info pasajeros: None\n",
      "DEBUG (Validation Pasajeros) ► Objeto InfoPasajeros es None.\n",
      "DEBUG Router: Pasajeros OK? False\n",
      "DEBUG (Validation Filtros) ► Objeto FiltrosInferidos es None.\n",
      "DEBUG Router: Filtros OK? False\n",
      "--- DEBUG CHECK ECONOMIA (Manual) ---\n",
      "Input econ object: None\n",
      "DEBUG (Validation Economía Manual) ► Objeto EconomiaUsuario es None.\n",
      "DEBUG Router: Economía OK? False\n",
      "DEBUG Router: Pesos Calculados? False\n",
      "DEBUG Router: Coches Buscados? False\n",
      "--- DEBUG CHECK PERFIL ---\n",
      "Input prefs object: apasionado_motor='no' valora_estetica='no' coche_principal_hogar='sí' uso_profesional='no' tipo_uso_profesional=None prefiere_diseno_exclusivo='sí' altura_mayor_190='no' peso_mayor_100='no' transporta_carga_voluminosa=None necesita_espacio_objetos_especiales=None arrastra_remolque=None aventura=None solo_electricos=None prioriza_baja_depreciacion=None transmision_preferida=None rating_fiabilidad_durabilidad=None rating_seguridad=None rating_comodidad=None rating_impacto_ambiental=None rating_tecnologia_conectividad=None rating_costes_uso=None\n",
      "Input prefs type: <class 'graph.perfil.state.PerfilUsuario'>\n",
      "DEBUG (Validation Perfil) ► Campo 'transporta_carga_voluminosa' está vacío/None.\n",
      "DEBUG Router: Decisión -> recopilar_preferencias\n",
      "--- Ejecutando Nodo: recopilar_preferencias_node ---\n",
      "DEBUG (Perfil) ► Último mensaje es HumanMessage o historial vacío, llamando a llm_solo_perfil...\n"
     ]
    },
    {
     "name": "stderr",
     "output_type": "stream",
     "text": [
      "INFO (RAG): HTTP Request: POST https://api.openai.com/v1/chat/completions \"HTTP/1.1 200 OK\"\n"
     ]
    },
    {
     "name": "stdout",
     "output_type": "stream",
     "text": [
      "DEBUG (Perfil) ► Respuesta llm_solo_perfil: preferencias_usuario=PerfilUsuario(apasionado_motor='no', valora_estetica='no', coche_principal_hogar='sí', uso_profesional='no', tipo_uso_profesional=None, prefiere_diseno_exclusivo='sí', altura_mayor_190='no', peso_mayor_100='no', transporta_carga_voluminosa=None, necesita_espacio_objetos_especiales=None, arrastra_remolque=None, aventura=None, solo_electricos=None, prioriza_baja_depreciacion=None, transmision_preferida=None, rating_fiabilidad_durabilidad=None, rating_seguridad=None, rating_comodidad=None, rating_impacto_ambiental=None, rating_tecnologia_conectividad=None, rating_costes_uso=None) tipo_mensaje='PREGUNTA' contenido_mensaje='¿Transportas con frecuencia equipaje o carga voluminosa?'\n",
      "DEBUG (Perfil) ► Preferencias TRAS post-procesamiento: apasionado_motor='no' valora_estetica='no' coche_principal_hogar='sí' uso_profesional='no' tipo_uso_profesional=None prefiere_diseno_exclusivo='sí' altura_mayor_190='no' peso_mayor_100='no' transporta_carga_voluminosa=None necesita_espacio_objetos_especiales=None arrastra_remolque=None aventura=None solo_electricos=None prioriza_baja_depreciacion=None transmision_preferida=None rating_fiabilidad_durabilidad=None rating_seguridad=None rating_comodidad=None rating_impacto_ambiental=None rating_tecnologia_conectividad=None rating_costes_uso=None\n",
      "DEBUG (Perfil) ► Estado preferencias_usuario actualizado: apasionado_motor='no' valora_estetica='no' coche_principal_hogar='sí' uso_profesional='no' tipo_uso_profesional=None prefiere_diseno_exclusivo='sí' altura_mayor_190='no' peso_mayor_100='no' transporta_carga_voluminosa=None necesita_espacio_objetos_especiales=None arrastra_remolque=None aventura=None solo_electricos=None prioriza_baja_depreciacion=None transmision_preferida=None rating_fiabilidad_durabilidad=None rating_seguridad=None rating_comodidad=None rating_impacto_ambiental=None rating_tecnologia_conectividad=None rating_costes_uso=None\n",
      "DEBUG (Perfil) ► Guardando mensaje pendiente: ¿Transportas con frecuencia equipaje o carga voluminosa?\n",
      "--- Ejecutando Nodo: validar_preferencias_node ---\n",
      "--- DEBUG CHECK PERFIL ---\n",
      "Input prefs object: apasionado_motor='no' valora_estetica='no' coche_principal_hogar='sí' uso_profesional='no' tipo_uso_profesional=None prefiere_diseno_exclusivo='sí' altura_mayor_190='no' peso_mayor_100='no' transporta_carga_voluminosa=None necesita_espacio_objetos_especiales=None arrastra_remolque=None aventura=None solo_electricos=None prioriza_baja_depreciacion=None transmision_preferida=None rating_fiabilidad_durabilidad=None rating_seguridad=None rating_comodidad=None rating_impacto_ambiental=None rating_tecnologia_conectividad=None rating_costes_uso=None\n",
      "Input prefs type: <class 'graph.perfil.state.PerfilUsuario'>\n",
      "DEBUG (Validation Perfil) ► Campo 'transporta_carga_voluminosa' está vacío/None.\n",
      "DEBUG (Perfil) ► Validación: PerfilUsuario considerado INCOMPLETO.\n",
      "--- Evaluando Condición: ruta_decision_perfil ---\n",
      "DEBUG (Condición Perfil) ► Estado 'preferencias_usuario' recibido: apasionado_motor='no' valora_estetica='no' coche_principal_hogar='sí' uso_profesional='no' tipo_uso_profesional=None prefiere_diseno_exclusivo='sí' altura_mayor_190='no' peso_mayor_100='no' transporta_carga_voluminosa=None necesita_espacio_objetos_especiales=None arrastra_remolque=None aventura=None solo_electricos=None prioriza_baja_depreciacion=None transmision_preferida=None rating_fiabilidad_durabilidad=None rating_seguridad=None rating_comodidad=None rating_impacto_ambiental=None rating_tecnologia_conectividad=None rating_costes_uso=None\n",
      "DEBUG (Condición Perfil) ► Tipo de 'preferencias_usuario': <class 'graph.perfil.state.PerfilUsuario'>\n",
      "--- DEBUG CHECK PERFIL ---\n",
      "Input prefs object: apasionado_motor='no' valora_estetica='no' coche_principal_hogar='sí' uso_profesional='no' tipo_uso_profesional=None prefiere_diseno_exclusivo='sí' altura_mayor_190='no' peso_mayor_100='no' transporta_carga_voluminosa=None necesita_espacio_objetos_especiales=None arrastra_remolque=None aventura=None solo_electricos=None prioriza_baja_depreciacion=None transmision_preferida=None rating_fiabilidad_durabilidad=None rating_seguridad=None rating_comodidad=None rating_impacto_ambiental=None rating_tecnologia_conectividad=None rating_costes_uso=None\n",
      "Input prefs type: <class 'graph.perfil.state.PerfilUsuario'>\n",
      "DEBUG (Validation Perfil) ► Campo 'transporta_carga_voluminosa' está vacío/None.\n",
      "DEBUG (Condición Perfil) ► Perfil INCOMPLETO. Se necesita pregunta.\n",
      "--- Ejecutando Nodo: preguntar_preferencias_node ---\n",
      "--- DEBUG CHECK PERFIL ---\n",
      "Input prefs object: apasionado_motor='no' valora_estetica='no' coche_principal_hogar='sí' uso_profesional='no' tipo_uso_profesional=None prefiere_diseno_exclusivo='sí' altura_mayor_190='no' peso_mayor_100='no' transporta_carga_voluminosa=None necesita_espacio_objetos_especiales=None arrastra_remolque=None aventura=None solo_electricos=None prioriza_baja_depreciacion=None transmision_preferida=None rating_fiabilidad_durabilidad=None rating_seguridad=None rating_comodidad=None rating_impacto_ambiental=None rating_tecnologia_conectividad=None rating_costes_uso=None\n",
      "Input prefs type: <class 'graph.perfil.state.PerfilUsuario'>\n",
      "DEBUG (Validation Perfil) ► Campo 'transporta_carga_voluminosa' está vacío/None.\n",
      "DEBUG (Preguntar Perfil) ► Perfil aún INCOMPLETO según checker.\n",
      "DEBUG (Preguntar Perfil) ► Pregunta fallback generada: ¿Transportas con frecuencia equipaje o carga voluminosa? (Responde 'sí' o 'no')\n",
      "DEBUG (Preguntar Perfil) ► Usando mensaje pendiente (pregunta LLM): ¿Transportas con frecuencia equipaje o carga voluminosa?\n",
      "DEBUG (Preguntar Perfil) ► Mensaje final añadido: ¿Transportas con frecuencia equipaje o carga voluminosa?\n",
      "==================================\u001b[1m Ai Message \u001b[0m==================================\n",
      "\n",
      "¿Transportas con frecuencia equipaje o carga voluminosa?\n"
     ]
    }
   ],
   "source": [
    "# Create a thread\n",
    "config = {\"configurable\": {\"thread_id\": \"1\"}}\n",
    "\n",
    "# Start conversation\n",
    "input_message = HumanMessage(content=\"no\")\n",
    "output = graph.invoke({\"messages\": [input_message]}, config) \n",
    "for m in output['messages'][-1:]:\n",
    "    m.pretty_print()"
   ]
  },
  {
   "cell_type": "code",
   "execution_count": 9,
   "metadata": {},
   "outputs": [
    {
     "name": "stdout",
     "output_type": "stream",
     "text": [
      "--- Ejecutando Nodo: route_based_on_state_node ---\n",
      "\n",
      "--- DEBUG: Evaluating Routing Decision ---\n",
      "--- DEBUG CHECK PERFIL ---\n",
      "Input prefs object: apasionado_motor='no' valora_estetica='no' coche_principal_hogar='sí' uso_profesional='no' tipo_uso_profesional=None prefiere_diseno_exclusivo='sí' altura_mayor_190='no' peso_mayor_100='no' transporta_carga_voluminosa=None necesita_espacio_objetos_especiales=None arrastra_remolque=None aventura=None solo_electricos=None prioriza_baja_depreciacion=None transmision_preferida=None rating_fiabilidad_durabilidad=None rating_seguridad=None rating_comodidad=None rating_impacto_ambiental=None rating_tecnologia_conectividad=None rating_costes_uso=None\n",
      "Input prefs type: <class 'graph.perfil.state.PerfilUsuario'>\n",
      "DEBUG (Validation Perfil) ► Campo 'transporta_carga_voluminosa' está vacío/None.\n",
      "DEBUG Router: Prefs OK? False\n",
      "--- DEBUG CHECK PASAJEROS ---\n",
      "Input info pasajeros: None\n",
      "DEBUG (Validation Pasajeros) ► Objeto InfoPasajeros es None.\n",
      "DEBUG Router: Pasajeros OK? False\n",
      "DEBUG (Validation Filtros) ► Objeto FiltrosInferidos es None.\n",
      "DEBUG Router: Filtros OK? False\n",
      "--- DEBUG CHECK ECONOMIA (Manual) ---\n",
      "Input econ object: None\n",
      "DEBUG (Validation Economía Manual) ► Objeto EconomiaUsuario es None.\n",
      "DEBUG Router: Economía OK? False\n",
      "DEBUG Router: Pesos Calculados? False\n",
      "DEBUG Router: Coches Buscados? False\n",
      "--- DEBUG CHECK PERFIL ---\n",
      "Input prefs object: apasionado_motor='no' valora_estetica='no' coche_principal_hogar='sí' uso_profesional='no' tipo_uso_profesional=None prefiere_diseno_exclusivo='sí' altura_mayor_190='no' peso_mayor_100='no' transporta_carga_voluminosa=None necesita_espacio_objetos_especiales=None arrastra_remolque=None aventura=None solo_electricos=None prioriza_baja_depreciacion=None transmision_preferida=None rating_fiabilidad_durabilidad=None rating_seguridad=None rating_comodidad=None rating_impacto_ambiental=None rating_tecnologia_conectividad=None rating_costes_uso=None\n",
      "Input prefs type: <class 'graph.perfil.state.PerfilUsuario'>\n",
      "DEBUG (Validation Perfil) ► Campo 'transporta_carga_voluminosa' está vacío/None.\n",
      "DEBUG Router: Decisión -> recopilar_preferencias\n",
      "--- Ejecutando Nodo: recopilar_preferencias_node ---\n",
      "DEBUG (Perfil) ► Último mensaje es HumanMessage o historial vacío, llamando a llm_solo_perfil...\n"
     ]
    },
    {
     "name": "stderr",
     "output_type": "stream",
     "text": [
      "INFO (RAG): HTTP Request: POST https://api.openai.com/v1/chat/completions \"HTTP/1.1 200 OK\"\n"
     ]
    },
    {
     "name": "stdout",
     "output_type": "stream",
     "text": [
      "DEBUG (Perfil) ► Respuesta llm_solo_perfil: preferencias_usuario=PerfilUsuario(apasionado_motor='no', valora_estetica='no', coche_principal_hogar='sí', uso_profesional='no', tipo_uso_profesional=None, prefiere_diseno_exclusivo='sí', altura_mayor_190='no', peso_mayor_100='no', transporta_carga_voluminosa='no', necesita_espacio_objetos_especiales=None, arrastra_remolque=None, aventura=None, solo_electricos=None, prioriza_baja_depreciacion=None, transmision_preferida=None, rating_fiabilidad_durabilidad=None, rating_seguridad=None, rating_comodidad=None, rating_impacto_ambiental=None, rating_tecnologia_conectividad=None, rating_costes_uso=None) tipo_mensaje='PREGUNTA' contenido_mensaje='¿Vas a arrastrar remolque pesado o caravana?'\n",
      "DEBUG (Perfil) ► Preferencias TRAS post-procesamiento: apasionado_motor='no' valora_estetica='no' coche_principal_hogar='sí' uso_profesional='no' tipo_uso_profesional=None prefiere_diseno_exclusivo='sí' altura_mayor_190='no' peso_mayor_100='no' transporta_carga_voluminosa='no' necesita_espacio_objetos_especiales=None arrastra_remolque=None aventura=None solo_electricos=None prioriza_baja_depreciacion=None transmision_preferida=None rating_fiabilidad_durabilidad=None rating_seguridad=None rating_comodidad=None rating_impacto_ambiental=None rating_tecnologia_conectividad=None rating_costes_uso=None\n",
      "DEBUG (Perfil) ► Estado preferencias_usuario actualizado: apasionado_motor='no' valora_estetica='no' coche_principal_hogar='sí' uso_profesional='no' tipo_uso_profesional=None prefiere_diseno_exclusivo='sí' altura_mayor_190='no' peso_mayor_100='no' transporta_carga_voluminosa='no' necesita_espacio_objetos_especiales=None arrastra_remolque=None aventura=None solo_electricos=None prioriza_baja_depreciacion=None transmision_preferida=None rating_fiabilidad_durabilidad=None rating_seguridad=None rating_comodidad=None rating_impacto_ambiental=None rating_tecnologia_conectividad=None rating_costes_uso=None\n",
      "DEBUG (Perfil) ► Guardando mensaje pendiente: ¿Vas a arrastrar remolque pesado o caravana?\n",
      "--- Ejecutando Nodo: validar_preferencias_node ---\n",
      "--- DEBUG CHECK PERFIL ---\n",
      "Input prefs object: apasionado_motor='no' valora_estetica='no' coche_principal_hogar='sí' uso_profesional='no' tipo_uso_profesional=None prefiere_diseno_exclusivo='sí' altura_mayor_190='no' peso_mayor_100='no' transporta_carga_voluminosa='no' necesita_espacio_objetos_especiales=None arrastra_remolque=None aventura=None solo_electricos=None prioriza_baja_depreciacion=None transmision_preferida=None rating_fiabilidad_durabilidad=None rating_seguridad=None rating_comodidad=None rating_impacto_ambiental=None rating_tecnologia_conectividad=None rating_costes_uso=None\n",
      "Input prefs type: <class 'graph.perfil.state.PerfilUsuario'>\n",
      "DEBUG (Validation Perfil) ► Campo 'arrastra_remolque' está vacío/None.\n",
      "DEBUG (Perfil) ► Validación: PerfilUsuario considerado INCOMPLETO.\n",
      "--- Evaluando Condición: ruta_decision_perfil ---\n",
      "DEBUG (Condición Perfil) ► Estado 'preferencias_usuario' recibido: apasionado_motor='no' valora_estetica='no' coche_principal_hogar='sí' uso_profesional='no' tipo_uso_profesional=None prefiere_diseno_exclusivo='sí' altura_mayor_190='no' peso_mayor_100='no' transporta_carga_voluminosa='no' necesita_espacio_objetos_especiales=None arrastra_remolque=None aventura=None solo_electricos=None prioriza_baja_depreciacion=None transmision_preferida=None rating_fiabilidad_durabilidad=None rating_seguridad=None rating_comodidad=None rating_impacto_ambiental=None rating_tecnologia_conectividad=None rating_costes_uso=None\n",
      "DEBUG (Condición Perfil) ► Tipo de 'preferencias_usuario': <class 'graph.perfil.state.PerfilUsuario'>\n",
      "--- DEBUG CHECK PERFIL ---\n",
      "Input prefs object: apasionado_motor='no' valora_estetica='no' coche_principal_hogar='sí' uso_profesional='no' tipo_uso_profesional=None prefiere_diseno_exclusivo='sí' altura_mayor_190='no' peso_mayor_100='no' transporta_carga_voluminosa='no' necesita_espacio_objetos_especiales=None arrastra_remolque=None aventura=None solo_electricos=None prioriza_baja_depreciacion=None transmision_preferida=None rating_fiabilidad_durabilidad=None rating_seguridad=None rating_comodidad=None rating_impacto_ambiental=None rating_tecnologia_conectividad=None rating_costes_uso=None\n",
      "Input prefs type: <class 'graph.perfil.state.PerfilUsuario'>\n",
      "DEBUG (Validation Perfil) ► Campo 'arrastra_remolque' está vacío/None.\n",
      "DEBUG (Condición Perfil) ► Perfil INCOMPLETO. Se necesita pregunta.\n",
      "--- Ejecutando Nodo: preguntar_preferencias_node ---\n",
      "--- DEBUG CHECK PERFIL ---\n",
      "Input prefs object: apasionado_motor='no' valora_estetica='no' coche_principal_hogar='sí' uso_profesional='no' tipo_uso_profesional=None prefiere_diseno_exclusivo='sí' altura_mayor_190='no' peso_mayor_100='no' transporta_carga_voluminosa='no' necesita_espacio_objetos_especiales=None arrastra_remolque=None aventura=None solo_electricos=None prioriza_baja_depreciacion=None transmision_preferida=None rating_fiabilidad_durabilidad=None rating_seguridad=None rating_comodidad=None rating_impacto_ambiental=None rating_tecnologia_conectividad=None rating_costes_uso=None\n",
      "Input prefs type: <class 'graph.perfil.state.PerfilUsuario'>\n",
      "DEBUG (Validation Perfil) ► Campo 'arrastra_remolque' está vacío/None.\n",
      "DEBUG (Preguntar Perfil) ► Perfil aún INCOMPLETO según checker.\n",
      "DEBUG (Preguntar Perfil) ► Pregunta fallback generada: ¿Vas a arrastrar remolque pesado o caravana?\n",
      "DEBUG (Preguntar Perfil) ► Usando mensaje pendiente (pregunta LLM): ¿Vas a arrastrar remolque pesado o caravana?\n",
      "DEBUG (Preguntar Perfil) ► Mensaje final añadido: ¿Vas a arrastrar remolque pesado o caravana?\n",
      "==================================\u001b[1m Ai Message \u001b[0m==================================\n",
      "\n",
      "¿Vas a arrastrar remolque pesado o caravana?\n"
     ]
    }
   ],
   "source": [
    "# Create a thread\n",
    "config = {\"configurable\": {\"thread_id\": \"1\"}}\n",
    "\n",
    "# Start conversation\n",
    "input_message = HumanMessage(content=\"no, nunca\")\n",
    "output = graph.invoke({\"messages\": [input_message]}, config) \n",
    "for m in output['messages'][-1:]:\n",
    "    m.pretty_print()"
   ]
  },
  {
   "cell_type": "code",
   "execution_count": 10,
   "metadata": {},
   "outputs": [
    {
     "name": "stdout",
     "output_type": "stream",
     "text": [
      "--- Ejecutando Nodo: route_based_on_state_node ---\n",
      "\n",
      "--- DEBUG: Evaluating Routing Decision ---\n",
      "--- DEBUG CHECK PERFIL ---\n",
      "Input prefs object: apasionado_motor='no' valora_estetica='no' coche_principal_hogar='sí' uso_profesional='no' tipo_uso_profesional=None prefiere_diseno_exclusivo='sí' altura_mayor_190='no' peso_mayor_100='no' transporta_carga_voluminosa='no' necesita_espacio_objetos_especiales=None arrastra_remolque=None aventura=None solo_electricos=None prioriza_baja_depreciacion=None transmision_preferida=None rating_fiabilidad_durabilidad=None rating_seguridad=None rating_comodidad=None rating_impacto_ambiental=None rating_tecnologia_conectividad=None rating_costes_uso=None\n",
      "Input prefs type: <class 'graph.perfil.state.PerfilUsuario'>\n",
      "DEBUG (Validation Perfil) ► Campo 'arrastra_remolque' está vacío/None.\n",
      "DEBUG Router: Prefs OK? False\n",
      "--- DEBUG CHECK PASAJEROS ---\n",
      "Input info pasajeros: None\n",
      "DEBUG (Validation Pasajeros) ► Objeto InfoPasajeros es None.\n",
      "DEBUG Router: Pasajeros OK? False\n",
      "DEBUG (Validation Filtros) ► Objeto FiltrosInferidos es None.\n",
      "DEBUG Router: Filtros OK? False\n",
      "--- DEBUG CHECK ECONOMIA (Manual) ---\n",
      "Input econ object: None\n",
      "DEBUG (Validation Economía Manual) ► Objeto EconomiaUsuario es None.\n",
      "DEBUG Router: Economía OK? False\n",
      "DEBUG Router: Pesos Calculados? False\n",
      "DEBUG Router: Coches Buscados? False\n",
      "--- DEBUG CHECK PERFIL ---\n",
      "Input prefs object: apasionado_motor='no' valora_estetica='no' coche_principal_hogar='sí' uso_profesional='no' tipo_uso_profesional=None prefiere_diseno_exclusivo='sí' altura_mayor_190='no' peso_mayor_100='no' transporta_carga_voluminosa='no' necesita_espacio_objetos_especiales=None arrastra_remolque=None aventura=None solo_electricos=None prioriza_baja_depreciacion=None transmision_preferida=None rating_fiabilidad_durabilidad=None rating_seguridad=None rating_comodidad=None rating_impacto_ambiental=None rating_tecnologia_conectividad=None rating_costes_uso=None\n",
      "Input prefs type: <class 'graph.perfil.state.PerfilUsuario'>\n",
      "DEBUG (Validation Perfil) ► Campo 'arrastra_remolque' está vacío/None.\n",
      "DEBUG Router: Decisión -> recopilar_preferencias\n",
      "--- Ejecutando Nodo: recopilar_preferencias_node ---\n",
      "DEBUG (Perfil) ► Último mensaje es HumanMessage o historial vacío, llamando a llm_solo_perfil...\n"
     ]
    },
    {
     "name": "stderr",
     "output_type": "stream",
     "text": [
      "INFO (RAG): HTTP Request: POST https://api.openai.com/v1/chat/completions \"HTTP/1.1 200 OK\"\n"
     ]
    },
    {
     "name": "stdout",
     "output_type": "stream",
     "text": [
      "DEBUG (Perfil) ► Respuesta llm_solo_perfil: preferencias_usuario=PerfilUsuario(apasionado_motor='no', valora_estetica='no', coche_principal_hogar='sí', uso_profesional='no', tipo_uso_profesional=None, prefiere_diseno_exclusivo='sí', altura_mayor_190='no', peso_mayor_100='no', transporta_carga_voluminosa='no', necesita_espacio_objetos_especiales=None, arrastra_remolque='sí', aventura=None, solo_electricos=None, prioriza_baja_depreciacion=None, transmision_preferida=None, rating_fiabilidad_durabilidad=None, rating_seguridad=None, rating_comodidad=None, rating_impacto_ambiental=None, rating_tecnologia_conectividad=None, rating_costes_uso=None) tipo_mensaje='PREGUNTA' contenido_mensaje='¿Qué tipo de transmisión prefieres?\\n 1) Automático\\n 2) Manual\\n 3) Ambos'\n",
      "DEBUG (Perfil) ► Preferencias TRAS post-procesamiento: apasionado_motor='no' valora_estetica='no' coche_principal_hogar='sí' uso_profesional='no' tipo_uso_profesional=None prefiere_diseno_exclusivo='sí' altura_mayor_190='no' peso_mayor_100='no' transporta_carga_voluminosa='no' necesita_espacio_objetos_especiales=None arrastra_remolque='sí' aventura=None solo_electricos=None prioriza_baja_depreciacion=None transmision_preferida=None rating_fiabilidad_durabilidad=None rating_seguridad=None rating_comodidad=None rating_impacto_ambiental=None rating_tecnologia_conectividad=None rating_costes_uso=None\n",
      "DEBUG (Perfil) ► Estado preferencias_usuario actualizado: apasionado_motor='no' valora_estetica='no' coche_principal_hogar='sí' uso_profesional='no' tipo_uso_profesional=None prefiere_diseno_exclusivo='sí' altura_mayor_190='no' peso_mayor_100='no' transporta_carga_voluminosa='no' necesita_espacio_objetos_especiales=None arrastra_remolque='sí' aventura=None solo_electricos=None prioriza_baja_depreciacion=None transmision_preferida=None rating_fiabilidad_durabilidad=None rating_seguridad=None rating_comodidad=None rating_impacto_ambiental=None rating_tecnologia_conectividad=None rating_costes_uso=None\n",
      "DEBUG (Perfil) ► Guardando mensaje pendiente: ¿Qué tipo de transmisión prefieres?\n",
      " 1) Automático\n",
      " 2) Manual\n",
      " 3) Ambos\n",
      "--- Ejecutando Nodo: validar_preferencias_node ---\n",
      "--- DEBUG CHECK PERFIL ---\n",
      "Input prefs object: apasionado_motor='no' valora_estetica='no' coche_principal_hogar='sí' uso_profesional='no' tipo_uso_profesional=None prefiere_diseno_exclusivo='sí' altura_mayor_190='no' peso_mayor_100='no' transporta_carga_voluminosa='no' necesita_espacio_objetos_especiales=None arrastra_remolque='sí' aventura=None solo_electricos=None prioriza_baja_depreciacion=None transmision_preferida=None rating_fiabilidad_durabilidad=None rating_seguridad=None rating_comodidad=None rating_impacto_ambiental=None rating_tecnologia_conectividad=None rating_costes_uso=None\n",
      "Input prefs type: <class 'graph.perfil.state.PerfilUsuario'>\n",
      "DEBUG (Validation Perfil) ► Campo 'aventura' está vacío/None.\n",
      "DEBUG (Perfil) ► Validación: PerfilUsuario considerado INCOMPLETO.\n",
      "--- Evaluando Condición: ruta_decision_perfil ---\n",
      "DEBUG (Condición Perfil) ► Estado 'preferencias_usuario' recibido: apasionado_motor='no' valora_estetica='no' coche_principal_hogar='sí' uso_profesional='no' tipo_uso_profesional=None prefiere_diseno_exclusivo='sí' altura_mayor_190='no' peso_mayor_100='no' transporta_carga_voluminosa='no' necesita_espacio_objetos_especiales=None arrastra_remolque='sí' aventura=None solo_electricos=None prioriza_baja_depreciacion=None transmision_preferida=None rating_fiabilidad_durabilidad=None rating_seguridad=None rating_comodidad=None rating_impacto_ambiental=None rating_tecnologia_conectividad=None rating_costes_uso=None\n",
      "DEBUG (Condición Perfil) ► Tipo de 'preferencias_usuario': <class 'graph.perfil.state.PerfilUsuario'>\n",
      "--- DEBUG CHECK PERFIL ---\n",
      "Input prefs object: apasionado_motor='no' valora_estetica='no' coche_principal_hogar='sí' uso_profesional='no' tipo_uso_profesional=None prefiere_diseno_exclusivo='sí' altura_mayor_190='no' peso_mayor_100='no' transporta_carga_voluminosa='no' necesita_espacio_objetos_especiales=None arrastra_remolque='sí' aventura=None solo_electricos=None prioriza_baja_depreciacion=None transmision_preferida=None rating_fiabilidad_durabilidad=None rating_seguridad=None rating_comodidad=None rating_impacto_ambiental=None rating_tecnologia_conectividad=None rating_costes_uso=None\n",
      "Input prefs type: <class 'graph.perfil.state.PerfilUsuario'>\n",
      "DEBUG (Validation Perfil) ► Campo 'aventura' está vacío/None.\n",
      "DEBUG (Condición Perfil) ► Perfil INCOMPLETO. Se necesita pregunta.\n",
      "--- Ejecutando Nodo: preguntar_preferencias_node ---\n",
      "--- DEBUG CHECK PERFIL ---\n",
      "Input prefs object: apasionado_motor='no' valora_estetica='no' coche_principal_hogar='sí' uso_profesional='no' tipo_uso_profesional=None prefiere_diseno_exclusivo='sí' altura_mayor_190='no' peso_mayor_100='no' transporta_carga_voluminosa='no' necesita_espacio_objetos_especiales=None arrastra_remolque='sí' aventura=None solo_electricos=None prioriza_baja_depreciacion=None transmision_preferida=None rating_fiabilidad_durabilidad=None rating_seguridad=None rating_comodidad=None rating_impacto_ambiental=None rating_tecnologia_conectividad=None rating_costes_uso=None\n",
      "Input prefs type: <class 'graph.perfil.state.PerfilUsuario'>\n",
      "DEBUG (Validation Perfil) ► Campo 'aventura' está vacío/None.\n",
      "DEBUG (Preguntar Perfil) ► Perfil aún INCOMPLETO según checker.\n",
      "DEBUG (Preguntar Perfil) ► Pregunta fallback generada: Para conocer tu espíritu aventurero, dime que prefieres:\n",
      " 🛣️ Solo asfalto (ninguna)\n",
      " 🌲 Salidas off‑road de vez en cuando (ocasional)\n",
      " 🏔️ Aventurero extremo en terrenos difíciles (extrema)\n",
      "DEBUG (Preguntar Perfil) ► Usando mensaje pendiente (pregunta LLM): ¿Qué tipo de transmisión prefieres?\n",
      " 1) Automático\n",
      " 2) Manual\n",
      " 3) Ambos\n",
      "DEBUG (Preguntar Perfil) ► Mensaje final añadido: ¿Qué tipo de transmisión prefieres?\n",
      " 1) Automático\n",
      " 2) Manual\n",
      " 3) Ambos\n",
      "==================================\u001b[1m Ai Message \u001b[0m==================================\n",
      "\n",
      "¿Qué tipo de transmisión prefieres?\n",
      " 1) Automático\n",
      " 2) Manual\n",
      " 3) Ambos\n"
     ]
    }
   ],
   "source": [
    "# Create a thread\n",
    "config = {\"configurable\": {\"thread_id\": \"1\"}}\n",
    "\n",
    "# Start conversation\n",
    "input_message = HumanMessage(content=\"si\")\n",
    "output = graph.invoke({\"messages\": [input_message]}, config) \n",
    "for m in output['messages'][-1:]:\n",
    "    m.pretty_print()"
   ]
  },
  {
   "cell_type": "code",
   "execution_count": 11,
   "metadata": {},
   "outputs": [
    {
     "name": "stdout",
     "output_type": "stream",
     "text": [
      "--- Ejecutando Nodo: route_based_on_state_node ---\n",
      "\n",
      "--- DEBUG: Evaluating Routing Decision ---\n",
      "--- DEBUG CHECK PERFIL ---\n",
      "Input prefs object: apasionado_motor='no' valora_estetica='no' coche_principal_hogar='sí' uso_profesional='no' tipo_uso_profesional=None prefiere_diseno_exclusivo='sí' altura_mayor_190='no' peso_mayor_100='no' transporta_carga_voluminosa='no' necesita_espacio_objetos_especiales=None arrastra_remolque='sí' aventura=None solo_electricos=None prioriza_baja_depreciacion=None transmision_preferida=None rating_fiabilidad_durabilidad=None rating_seguridad=None rating_comodidad=None rating_impacto_ambiental=None rating_tecnologia_conectividad=None rating_costes_uso=None\n",
      "Input prefs type: <class 'graph.perfil.state.PerfilUsuario'>\n",
      "DEBUG (Validation Perfil) ► Campo 'aventura' está vacío/None.\n",
      "DEBUG Router: Prefs OK? False\n",
      "--- DEBUG CHECK PASAJEROS ---\n",
      "Input info pasajeros: None\n",
      "DEBUG (Validation Pasajeros) ► Objeto InfoPasajeros es None.\n",
      "DEBUG Router: Pasajeros OK? False\n",
      "DEBUG (Validation Filtros) ► Objeto FiltrosInferidos es None.\n",
      "DEBUG Router: Filtros OK? False\n",
      "--- DEBUG CHECK ECONOMIA (Manual) ---\n",
      "Input econ object: None\n",
      "DEBUG (Validation Economía Manual) ► Objeto EconomiaUsuario es None.\n",
      "DEBUG Router: Economía OK? False\n",
      "DEBUG Router: Pesos Calculados? False\n",
      "DEBUG Router: Coches Buscados? False\n",
      "--- DEBUG CHECK PERFIL ---\n",
      "Input prefs object: apasionado_motor='no' valora_estetica='no' coche_principal_hogar='sí' uso_profesional='no' tipo_uso_profesional=None prefiere_diseno_exclusivo='sí' altura_mayor_190='no' peso_mayor_100='no' transporta_carga_voluminosa='no' necesita_espacio_objetos_especiales=None arrastra_remolque='sí' aventura=None solo_electricos=None prioriza_baja_depreciacion=None transmision_preferida=None rating_fiabilidad_durabilidad=None rating_seguridad=None rating_comodidad=None rating_impacto_ambiental=None rating_tecnologia_conectividad=None rating_costes_uso=None\n",
      "Input prefs type: <class 'graph.perfil.state.PerfilUsuario'>\n",
      "DEBUG (Validation Perfil) ► Campo 'aventura' está vacío/None.\n",
      "DEBUG Router: Decisión -> recopilar_preferencias\n",
      "--- Ejecutando Nodo: recopilar_preferencias_node ---\n",
      "DEBUG (Perfil) ► Último mensaje es HumanMessage o historial vacío, llamando a llm_solo_perfil...\n"
     ]
    },
    {
     "name": "stderr",
     "output_type": "stream",
     "text": [
      "INFO (RAG): HTTP Request: POST https://api.openai.com/v1/chat/completions \"HTTP/1.1 200 OK\"\n"
     ]
    },
    {
     "name": "stdout",
     "output_type": "stream",
     "text": [
      "DEBUG (Perfil) ► Respuesta llm_solo_perfil: preferencias_usuario=PerfilUsuario(apasionado_motor='no', valora_estetica='no', coche_principal_hogar='sí', uso_profesional='no', tipo_uso_profesional=None, prefiere_diseno_exclusivo='sí', altura_mayor_190='no', peso_mayor_100='no', transporta_carga_voluminosa='no', necesita_espacio_objetos_especiales=None, arrastra_remolque='sí', aventura=None, solo_electricos=None, prioriza_baja_depreciacion=None, transmision_preferida=<Transmision.AUTOMATICO: 'automático'>, rating_fiabilidad_durabilidad=None, rating_seguridad=None, rating_comodidad=None, rating_impacto_ambiental=None, rating_tecnologia_conectividad=None, rating_costes_uso=None) tipo_mensaje='PREGUNTA' contenido_mensaje=\"¿Qué nivel de aventura buscas con tu vehículo: 'ninguna', 'ocasional' o 'extrema'?\"\n",
      "DEBUG (Perfil) ► Preferencias TRAS post-procesamiento: apasionado_motor='no' valora_estetica='no' coche_principal_hogar='sí' uso_profesional='no' tipo_uso_profesional=None prefiere_diseno_exclusivo='sí' altura_mayor_190='no' peso_mayor_100='no' transporta_carga_voluminosa='no' necesita_espacio_objetos_especiales=None arrastra_remolque='sí' aventura=None solo_electricos=None prioriza_baja_depreciacion=None transmision_preferida=<Transmision.AUTOMATICO: 'automático'> rating_fiabilidad_durabilidad=None rating_seguridad=None rating_comodidad=None rating_impacto_ambiental=None rating_tecnologia_conectividad=None rating_costes_uso=None\n",
      "DEBUG (Perfil) ► Estado preferencias_usuario actualizado: apasionado_motor='no' valora_estetica='no' coche_principal_hogar='sí' uso_profesional='no' tipo_uso_profesional=None prefiere_diseno_exclusivo='sí' altura_mayor_190='no' peso_mayor_100='no' transporta_carga_voluminosa='no' necesita_espacio_objetos_especiales=None arrastra_remolque='sí' aventura=None solo_electricos=None prioriza_baja_depreciacion=None transmision_preferida=<Transmision.AUTOMATICO: 'automático'> rating_fiabilidad_durabilidad=None rating_seguridad=None rating_comodidad=None rating_impacto_ambiental=None rating_tecnologia_conectividad=None rating_costes_uso=None\n",
      "DEBUG (Perfil) ► Guardando mensaje pendiente: ¿Qué nivel de aventura buscas con tu vehículo: 'ninguna', 'ocasional' o 'extrema'?\n",
      "--- Ejecutando Nodo: validar_preferencias_node ---\n",
      "--- DEBUG CHECK PERFIL ---\n",
      "Input prefs object: apasionado_motor='no' valora_estetica='no' coche_principal_hogar='sí' uso_profesional='no' tipo_uso_profesional=None prefiere_diseno_exclusivo='sí' altura_mayor_190='no' peso_mayor_100='no' transporta_carga_voluminosa='no' necesita_espacio_objetos_especiales=None arrastra_remolque='sí' aventura=None solo_electricos=None prioriza_baja_depreciacion=None transmision_preferida=<Transmision.AUTOMATICO: 'automático'> rating_fiabilidad_durabilidad=None rating_seguridad=None rating_comodidad=None rating_impacto_ambiental=None rating_tecnologia_conectividad=None rating_costes_uso=None\n",
      "Input prefs type: <class 'graph.perfil.state.PerfilUsuario'>\n",
      "DEBUG (Validation Perfil) ► Campo 'aventura' está vacío/None.\n",
      "DEBUG (Perfil) ► Validación: PerfilUsuario considerado INCOMPLETO.\n",
      "--- Evaluando Condición: ruta_decision_perfil ---\n",
      "DEBUG (Condición Perfil) ► Estado 'preferencias_usuario' recibido: apasionado_motor='no' valora_estetica='no' coche_principal_hogar='sí' uso_profesional='no' tipo_uso_profesional=None prefiere_diseno_exclusivo='sí' altura_mayor_190='no' peso_mayor_100='no' transporta_carga_voluminosa='no' necesita_espacio_objetos_especiales=None arrastra_remolque='sí' aventura=None solo_electricos=None prioriza_baja_depreciacion=None transmision_preferida=<Transmision.AUTOMATICO: 'automático'> rating_fiabilidad_durabilidad=None rating_seguridad=None rating_comodidad=None rating_impacto_ambiental=None rating_tecnologia_conectividad=None rating_costes_uso=None\n",
      "DEBUG (Condición Perfil) ► Tipo de 'preferencias_usuario': <class 'graph.perfil.state.PerfilUsuario'>\n",
      "--- DEBUG CHECK PERFIL ---\n",
      "Input prefs object: apasionado_motor='no' valora_estetica='no' coche_principal_hogar='sí' uso_profesional='no' tipo_uso_profesional=None prefiere_diseno_exclusivo='sí' altura_mayor_190='no' peso_mayor_100='no' transporta_carga_voluminosa='no' necesita_espacio_objetos_especiales=None arrastra_remolque='sí' aventura=None solo_electricos=None prioriza_baja_depreciacion=None transmision_preferida=<Transmision.AUTOMATICO: 'automático'> rating_fiabilidad_durabilidad=None rating_seguridad=None rating_comodidad=None rating_impacto_ambiental=None rating_tecnologia_conectividad=None rating_costes_uso=None\n",
      "Input prefs type: <class 'graph.perfil.state.PerfilUsuario'>\n",
      "DEBUG (Validation Perfil) ► Campo 'aventura' está vacío/None.\n",
      "DEBUG (Condición Perfil) ► Perfil INCOMPLETO. Se necesita pregunta.\n",
      "--- Ejecutando Nodo: preguntar_preferencias_node ---\n",
      "--- DEBUG CHECK PERFIL ---\n",
      "Input prefs object: apasionado_motor='no' valora_estetica='no' coche_principal_hogar='sí' uso_profesional='no' tipo_uso_profesional=None prefiere_diseno_exclusivo='sí' altura_mayor_190='no' peso_mayor_100='no' transporta_carga_voluminosa='no' necesita_espacio_objetos_especiales=None arrastra_remolque='sí' aventura=None solo_electricos=None prioriza_baja_depreciacion=None transmision_preferida=<Transmision.AUTOMATICO: 'automático'> rating_fiabilidad_durabilidad=None rating_seguridad=None rating_comodidad=None rating_impacto_ambiental=None rating_tecnologia_conectividad=None rating_costes_uso=None\n",
      "Input prefs type: <class 'graph.perfil.state.PerfilUsuario'>\n",
      "DEBUG (Validation Perfil) ► Campo 'aventura' está vacío/None.\n",
      "DEBUG (Preguntar Perfil) ► Perfil aún INCOMPLETO según checker.\n",
      "DEBUG (Preguntar Perfil) ► Pregunta fallback generada: Para conocer tu espíritu aventurero, dime que prefieres:\n",
      " 🛣️ Solo asfalto (ninguna)\n",
      " 🌲 Salidas off‑road de vez en cuando (ocasional)\n",
      " 🏔️ Aventurero extremo en terrenos difíciles (extrema)\n",
      "DEBUG (Preguntar Perfil) ► Usando mensaje pendiente (pregunta LLM): ¿Qué nivel de aventura buscas con tu vehículo: 'ninguna', 'ocasional' o 'extrema'?\n",
      "DEBUG (Preguntar Perfil) ► Mensaje final añadido: ¿Qué nivel de aventura buscas con tu vehículo: 'ninguna', 'ocasional' o 'extrema'?\n",
      "==================================\u001b[1m Ai Message \u001b[0m==================================\n",
      "\n",
      "¿Qué nivel de aventura buscas con tu vehículo: 'ninguna', 'ocasional' o 'extrema'?\n"
     ]
    }
   ],
   "source": [
    "# Create a thread\n",
    "config = {\"configurable\": {\"thread_id\": \"1\"}}\n",
    "\n",
    "# Start conversation\n",
    "input_message = HumanMessage(content=\"automatico\")\n",
    "output = graph.invoke({\"messages\": [input_message]}, config) \n",
    "for m in output['messages'][-1:]:\n",
    "    m.pretty_print()"
   ]
  },
  {
   "cell_type": "code",
   "execution_count": null,
   "metadata": {},
   "outputs": [],
   "source": [
    "# Create a thread\n",
    "config = {\"configurable\": {\"thread_id\": \"1\"}}\n",
    "\n",
    "# Start conversation\n",
    "input_message = HumanMessage(content=\"si\")\n",
    "output = graph.invoke({\"messages\": [input_message]}, config) \n",
    "for m in output['messages'][-1:]:\n",
    "    m.pretty_print()"
   ]
  },
  {
   "cell_type": "code",
   "execution_count": 12,
   "metadata": {},
   "outputs": [
    {
     "name": "stdout",
     "output_type": "stream",
     "text": [
      "--- Ejecutando Nodo: route_based_on_state_node ---\n",
      "\n",
      "--- DEBUG: Evaluating Routing Decision ---\n",
      "--- DEBUG CHECK PERFIL ---\n",
      "Input prefs object: apasionado_motor='no' valora_estetica='no' coche_principal_hogar='sí' uso_profesional='no' tipo_uso_profesional=None prefiere_diseno_exclusivo='sí' altura_mayor_190='no' peso_mayor_100='no' transporta_carga_voluminosa='no' necesita_espacio_objetos_especiales=None arrastra_remolque='sí' aventura=None solo_electricos=None prioriza_baja_depreciacion=None transmision_preferida=<Transmision.AUTOMATICO: 'automático'> rating_fiabilidad_durabilidad=None rating_seguridad=None rating_comodidad=None rating_impacto_ambiental=None rating_tecnologia_conectividad=None rating_costes_uso=None\n",
      "Input prefs type: <class 'graph.perfil.state.PerfilUsuario'>\n",
      "DEBUG (Validation Perfil) ► Campo 'aventura' está vacío/None.\n",
      "DEBUG Router: Prefs OK? False\n",
      "--- DEBUG CHECK PASAJEROS ---\n",
      "Input info pasajeros: None\n",
      "DEBUG (Validation Pasajeros) ► Objeto InfoPasajeros es None.\n",
      "DEBUG Router: Pasajeros OK? False\n",
      "DEBUG (Validation Filtros) ► Objeto FiltrosInferidos es None.\n",
      "DEBUG Router: Filtros OK? False\n",
      "--- DEBUG CHECK ECONOMIA (Manual) ---\n",
      "Input econ object: None\n",
      "DEBUG (Validation Economía Manual) ► Objeto EconomiaUsuario es None.\n",
      "DEBUG Router: Economía OK? False\n",
      "DEBUG Router: Pesos Calculados? False\n",
      "DEBUG Router: Coches Buscados? False\n",
      "--- DEBUG CHECK PERFIL ---\n",
      "Input prefs object: apasionado_motor='no' valora_estetica='no' coche_principal_hogar='sí' uso_profesional='no' tipo_uso_profesional=None prefiere_diseno_exclusivo='sí' altura_mayor_190='no' peso_mayor_100='no' transporta_carga_voluminosa='no' necesita_espacio_objetos_especiales=None arrastra_remolque='sí' aventura=None solo_electricos=None prioriza_baja_depreciacion=None transmision_preferida=<Transmision.AUTOMATICO: 'automático'> rating_fiabilidad_durabilidad=None rating_seguridad=None rating_comodidad=None rating_impacto_ambiental=None rating_tecnologia_conectividad=None rating_costes_uso=None\n",
      "Input prefs type: <class 'graph.perfil.state.PerfilUsuario'>\n",
      "DEBUG (Validation Perfil) ► Campo 'aventura' está vacío/None.\n",
      "DEBUG Router: Decisión -> recopilar_preferencias\n",
      "--- Ejecutando Nodo: recopilar_preferencias_node ---\n",
      "DEBUG (Perfil) ► Último mensaje es HumanMessage o historial vacío, llamando a llm_solo_perfil...\n"
     ]
    },
    {
     "name": "stderr",
     "output_type": "stream",
     "text": [
      "INFO (RAG): HTTP Request: POST https://api.openai.com/v1/chat/completions \"HTTP/1.1 200 OK\"\n"
     ]
    },
    {
     "name": "stdout",
     "output_type": "stream",
     "text": [
      "DEBUG (Perfil) ► Respuesta llm_solo_perfil: preferencias_usuario=PerfilUsuario(apasionado_motor='no', valora_estetica='no', coche_principal_hogar='sí', uso_profesional='no', tipo_uso_profesional=None, prefiere_diseno_exclusivo='sí', altura_mayor_190='no', peso_mayor_100='no', transporta_carga_voluminosa='no', necesita_espacio_objetos_especiales=None, arrastra_remolque='sí', aventura=None, solo_electricos=None, prioriza_baja_depreciacion=None, transmision_preferida=<Transmision.AUTOMATICO: 'automático'>, rating_fiabilidad_durabilidad=None, rating_seguridad=None, rating_comodidad=None, rating_impacto_ambiental=None, rating_tecnologia_conectividad=None, rating_costes_uso=None) tipo_mensaje='PREGUNTA' contenido_mensaje=\"¿Es importante para ti que la depreciación del coche sea lo más baja posible? (Responde 'sí' o 'no')\"\n",
      "DEBUG (Perfil) ► Preferencias TRAS post-procesamiento: apasionado_motor='no' valora_estetica='no' coche_principal_hogar='sí' uso_profesional='no' tipo_uso_profesional=None prefiere_diseno_exclusivo='sí' altura_mayor_190='no' peso_mayor_100='no' transporta_carga_voluminosa='no' necesita_espacio_objetos_especiales=None arrastra_remolque='sí' aventura=None solo_electricos=None prioriza_baja_depreciacion=None transmision_preferida=<Transmision.AUTOMATICO: 'automático'> rating_fiabilidad_durabilidad=None rating_seguridad=None rating_comodidad=None rating_impacto_ambiental=None rating_tecnologia_conectividad=None rating_costes_uso=None\n",
      "DEBUG (Perfil) ► Estado preferencias_usuario actualizado: apasionado_motor='no' valora_estetica='no' coche_principal_hogar='sí' uso_profesional='no' tipo_uso_profesional=None prefiere_diseno_exclusivo='sí' altura_mayor_190='no' peso_mayor_100='no' transporta_carga_voluminosa='no' necesita_espacio_objetos_especiales=None arrastra_remolque='sí' aventura=None solo_electricos=None prioriza_baja_depreciacion=None transmision_preferida=<Transmision.AUTOMATICO: 'automático'> rating_fiabilidad_durabilidad=None rating_seguridad=None rating_comodidad=None rating_impacto_ambiental=None rating_tecnologia_conectividad=None rating_costes_uso=None\n",
      "DEBUG (Perfil) ► Guardando mensaje pendiente: ¿Es importante para ti que la depreciación del coche sea lo más baja posible? (Responde 'sí' o 'no')\n",
      "--- Ejecutando Nodo: validar_preferencias_node ---\n",
      "--- DEBUG CHECK PERFIL ---\n",
      "Input prefs object: apasionado_motor='no' valora_estetica='no' coche_principal_hogar='sí' uso_profesional='no' tipo_uso_profesional=None prefiere_diseno_exclusivo='sí' altura_mayor_190='no' peso_mayor_100='no' transporta_carga_voluminosa='no' necesita_espacio_objetos_especiales=None arrastra_remolque='sí' aventura=None solo_electricos=None prioriza_baja_depreciacion=None transmision_preferida=<Transmision.AUTOMATICO: 'automático'> rating_fiabilidad_durabilidad=None rating_seguridad=None rating_comodidad=None rating_impacto_ambiental=None rating_tecnologia_conectividad=None rating_costes_uso=None\n",
      "Input prefs type: <class 'graph.perfil.state.PerfilUsuario'>\n",
      "DEBUG (Validation Perfil) ► Campo 'aventura' está vacío/None.\n",
      "DEBUG (Perfil) ► Validación: PerfilUsuario considerado INCOMPLETO.\n",
      "--- Evaluando Condición: ruta_decision_perfil ---\n",
      "DEBUG (Condición Perfil) ► Estado 'preferencias_usuario' recibido: apasionado_motor='no' valora_estetica='no' coche_principal_hogar='sí' uso_profesional='no' tipo_uso_profesional=None prefiere_diseno_exclusivo='sí' altura_mayor_190='no' peso_mayor_100='no' transporta_carga_voluminosa='no' necesita_espacio_objetos_especiales=None arrastra_remolque='sí' aventura=None solo_electricos=None prioriza_baja_depreciacion=None transmision_preferida=<Transmision.AUTOMATICO: 'automático'> rating_fiabilidad_durabilidad=None rating_seguridad=None rating_comodidad=None rating_impacto_ambiental=None rating_tecnologia_conectividad=None rating_costes_uso=None\n",
      "DEBUG (Condición Perfil) ► Tipo de 'preferencias_usuario': <class 'graph.perfil.state.PerfilUsuario'>\n",
      "--- DEBUG CHECK PERFIL ---\n",
      "Input prefs object: apasionado_motor='no' valora_estetica='no' coche_principal_hogar='sí' uso_profesional='no' tipo_uso_profesional=None prefiere_diseno_exclusivo='sí' altura_mayor_190='no' peso_mayor_100='no' transporta_carga_voluminosa='no' necesita_espacio_objetos_especiales=None arrastra_remolque='sí' aventura=None solo_electricos=None prioriza_baja_depreciacion=None transmision_preferida=<Transmision.AUTOMATICO: 'automático'> rating_fiabilidad_durabilidad=None rating_seguridad=None rating_comodidad=None rating_impacto_ambiental=None rating_tecnologia_conectividad=None rating_costes_uso=None\n",
      "Input prefs type: <class 'graph.perfil.state.PerfilUsuario'>\n",
      "DEBUG (Validation Perfil) ► Campo 'aventura' está vacío/None.\n",
      "DEBUG (Condición Perfil) ► Perfil INCOMPLETO. Se necesita pregunta.\n",
      "--- Ejecutando Nodo: preguntar_preferencias_node ---\n",
      "--- DEBUG CHECK PERFIL ---\n",
      "Input prefs object: apasionado_motor='no' valora_estetica='no' coche_principal_hogar='sí' uso_profesional='no' tipo_uso_profesional=None prefiere_diseno_exclusivo='sí' altura_mayor_190='no' peso_mayor_100='no' transporta_carga_voluminosa='no' necesita_espacio_objetos_especiales=None arrastra_remolque='sí' aventura=None solo_electricos=None prioriza_baja_depreciacion=None transmision_preferida=<Transmision.AUTOMATICO: 'automático'> rating_fiabilidad_durabilidad=None rating_seguridad=None rating_comodidad=None rating_impacto_ambiental=None rating_tecnologia_conectividad=None rating_costes_uso=None\n",
      "Input prefs type: <class 'graph.perfil.state.PerfilUsuario'>\n",
      "DEBUG (Validation Perfil) ► Campo 'aventura' está vacío/None.\n",
      "DEBUG (Preguntar Perfil) ► Perfil aún INCOMPLETO según checker.\n",
      "DEBUG (Preguntar Perfil) ► Pregunta fallback generada: Para conocer tu espíritu aventurero, dime que prefieres:\n",
      " 🛣️ Solo asfalto (ninguna)\n",
      " 🌲 Salidas off‑road de vez en cuando (ocasional)\n",
      " 🏔️ Aventurero extremo en terrenos difíciles (extrema)\n",
      "DEBUG (Preguntar Perfil) ► Usando mensaje pendiente (pregunta LLM): ¿Es importante para ti que la depreciación del coche sea lo más baja posible? (Responde 'sí' o 'no')\n",
      "DEBUG (Preguntar Perfil) ► Mensaje final añadido: ¿Es importante para ti que la depreciación del coche sea lo más baja posible? (Responde 'sí' o 'no')\n",
      "==================================\u001b[1m Ai Message \u001b[0m==================================\n",
      "\n",
      "¿Es importante para ti que la depreciación del coche sea lo más baja posible? (Responde 'sí' o 'no')\n"
     ]
    }
   ],
   "source": [
    "# Create a thread\n",
    "config = {\"configurable\": {\"thread_id\": \"1\"}}\n",
    "\n",
    "# Start conversation\n",
    "input_message = HumanMessage(content=\"ninguna\")\n",
    "output = graph.invoke({\"messages\": [input_message]}, config) \n",
    "for m in output['messages'][-1:]:\n",
    "    m.pretty_print()"
   ]
  },
  {
   "cell_type": "code",
   "execution_count": 13,
   "metadata": {},
   "outputs": [
    {
     "name": "stdout",
     "output_type": "stream",
     "text": [
      "--- Ejecutando Nodo: route_based_on_state_node ---\n",
      "\n",
      "--- DEBUG: Evaluating Routing Decision ---\n",
      "--- DEBUG CHECK PERFIL ---\n",
      "Input prefs object: apasionado_motor='no' valora_estetica='no' coche_principal_hogar='sí' uso_profesional='no' tipo_uso_profesional=None prefiere_diseno_exclusivo='sí' altura_mayor_190='no' peso_mayor_100='no' transporta_carga_voluminosa='no' necesita_espacio_objetos_especiales=None arrastra_remolque='sí' aventura=None solo_electricos=None prioriza_baja_depreciacion=None transmision_preferida=<Transmision.AUTOMATICO: 'automático'> rating_fiabilidad_durabilidad=None rating_seguridad=None rating_comodidad=None rating_impacto_ambiental=None rating_tecnologia_conectividad=None rating_costes_uso=None\n",
      "Input prefs type: <class 'graph.perfil.state.PerfilUsuario'>\n",
      "DEBUG (Validation Perfil) ► Campo 'aventura' está vacío/None.\n",
      "DEBUG Router: Prefs OK? False\n",
      "--- DEBUG CHECK PASAJEROS ---\n",
      "Input info pasajeros: None\n",
      "DEBUG (Validation Pasajeros) ► Objeto InfoPasajeros es None.\n",
      "DEBUG Router: Pasajeros OK? False\n",
      "DEBUG (Validation Filtros) ► Objeto FiltrosInferidos es None.\n",
      "DEBUG Router: Filtros OK? False\n",
      "--- DEBUG CHECK ECONOMIA (Manual) ---\n",
      "Input econ object: None\n",
      "DEBUG (Validation Economía Manual) ► Objeto EconomiaUsuario es None.\n",
      "DEBUG Router: Economía OK? False\n",
      "DEBUG Router: Pesos Calculados? False\n",
      "DEBUG Router: Coches Buscados? False\n",
      "--- DEBUG CHECK PERFIL ---\n",
      "Input prefs object: apasionado_motor='no' valora_estetica='no' coche_principal_hogar='sí' uso_profesional='no' tipo_uso_profesional=None prefiere_diseno_exclusivo='sí' altura_mayor_190='no' peso_mayor_100='no' transporta_carga_voluminosa='no' necesita_espacio_objetos_especiales=None arrastra_remolque='sí' aventura=None solo_electricos=None prioriza_baja_depreciacion=None transmision_preferida=<Transmision.AUTOMATICO: 'automático'> rating_fiabilidad_durabilidad=None rating_seguridad=None rating_comodidad=None rating_impacto_ambiental=None rating_tecnologia_conectividad=None rating_costes_uso=None\n",
      "Input prefs type: <class 'graph.perfil.state.PerfilUsuario'>\n",
      "DEBUG (Validation Perfil) ► Campo 'aventura' está vacío/None.\n",
      "DEBUG Router: Decisión -> recopilar_preferencias\n",
      "--- Ejecutando Nodo: recopilar_preferencias_node ---\n",
      "DEBUG (Perfil) ► Último mensaje es HumanMessage o historial vacío, llamando a llm_solo_perfil...\n"
     ]
    },
    {
     "name": "stderr",
     "output_type": "stream",
     "text": [
      "INFO (RAG): HTTP Request: POST https://api.openai.com/v1/chat/completions \"HTTP/1.1 200 OK\"\n"
     ]
    },
    {
     "name": "stdout",
     "output_type": "stream",
     "text": [
      "DEBUG (Perfil) ► Respuesta llm_solo_perfil: preferencias_usuario=PerfilUsuario(apasionado_motor='no', valora_estetica='no', coche_principal_hogar='sí', uso_profesional='no', tipo_uso_profesional=None, prefiere_diseno_exclusivo='sí', altura_mayor_190='no', peso_mayor_100='no', transporta_carga_voluminosa='no', necesita_espacio_objetos_especiales=None, arrastra_remolque='sí', aventura=<NivelAventura.ninguna: 'ninguna'>, solo_electricos=None, prioriza_baja_depreciacion='no', transmision_preferida=<Transmision.AUTOMATICO: 'automático'>, rating_fiabilidad_durabilidad=None, rating_seguridad=None, rating_comodidad=None, rating_impacto_ambiental=None, rating_tecnologia_conectividad=None, rating_costes_uso=None) tipo_mensaje='PREGUNTA' contenido_mensaje='¿Estás interesado exclusivamente en vehículos con motorización eléctrica?'\n",
      "DEBUG (Perfil) ► Preferencias TRAS post-procesamiento: apasionado_motor='no' valora_estetica='no' coche_principal_hogar='sí' uso_profesional='no' tipo_uso_profesional=None prefiere_diseno_exclusivo='sí' altura_mayor_190='no' peso_mayor_100='no' transporta_carga_voluminosa='no' necesita_espacio_objetos_especiales=None arrastra_remolque='sí' aventura=<NivelAventura.ninguna: 'ninguna'> solo_electricos=None prioriza_baja_depreciacion='no' transmision_preferida=<Transmision.AUTOMATICO: 'automático'> rating_fiabilidad_durabilidad=None rating_seguridad=None rating_comodidad=None rating_impacto_ambiental=None rating_tecnologia_conectividad=None rating_costes_uso=None\n",
      "DEBUG (Perfil) ► Estado preferencias_usuario actualizado: apasionado_motor='no' valora_estetica='no' coche_principal_hogar='sí' uso_profesional='no' tipo_uso_profesional=None prefiere_diseno_exclusivo='sí' altura_mayor_190='no' peso_mayor_100='no' transporta_carga_voluminosa='no' necesita_espacio_objetos_especiales=None arrastra_remolque='sí' aventura=<NivelAventura.ninguna: 'ninguna'> solo_electricos=None prioriza_baja_depreciacion='no' transmision_preferida=<Transmision.AUTOMATICO: 'automático'> rating_fiabilidad_durabilidad=None rating_seguridad=None rating_comodidad=None rating_impacto_ambiental=None rating_tecnologia_conectividad=None rating_costes_uso=None\n",
      "DEBUG (Perfil) ► Guardando mensaje pendiente: ¿Estás interesado exclusivamente en vehículos con motorización eléctrica?\n",
      "--- Ejecutando Nodo: validar_preferencias_node ---\n",
      "--- DEBUG CHECK PERFIL ---\n",
      "Input prefs object: apasionado_motor='no' valora_estetica='no' coche_principal_hogar='sí' uso_profesional='no' tipo_uso_profesional=None prefiere_diseno_exclusivo='sí' altura_mayor_190='no' peso_mayor_100='no' transporta_carga_voluminosa='no' necesita_espacio_objetos_especiales=None arrastra_remolque='sí' aventura=<NivelAventura.ninguna: 'ninguna'> solo_electricos=None prioriza_baja_depreciacion='no' transmision_preferida=<Transmision.AUTOMATICO: 'automático'> rating_fiabilidad_durabilidad=None rating_seguridad=None rating_comodidad=None rating_impacto_ambiental=None rating_tecnologia_conectividad=None rating_costes_uso=None\n",
      "Input prefs type: <class 'graph.perfil.state.PerfilUsuario'>\n",
      "DEBUG (Validation Perfil) ► Campo 'solo_electricos' está vacío/None.\n",
      "DEBUG (Perfil) ► Validación: PerfilUsuario considerado INCOMPLETO.\n",
      "--- Evaluando Condición: ruta_decision_perfil ---\n",
      "DEBUG (Condición Perfil) ► Estado 'preferencias_usuario' recibido: apasionado_motor='no' valora_estetica='no' coche_principal_hogar='sí' uso_profesional='no' tipo_uso_profesional=None prefiere_diseno_exclusivo='sí' altura_mayor_190='no' peso_mayor_100='no' transporta_carga_voluminosa='no' necesita_espacio_objetos_especiales=None arrastra_remolque='sí' aventura=<NivelAventura.ninguna: 'ninguna'> solo_electricos=None prioriza_baja_depreciacion='no' transmision_preferida=<Transmision.AUTOMATICO: 'automático'> rating_fiabilidad_durabilidad=None rating_seguridad=None rating_comodidad=None rating_impacto_ambiental=None rating_tecnologia_conectividad=None rating_costes_uso=None\n",
      "DEBUG (Condición Perfil) ► Tipo de 'preferencias_usuario': <class 'graph.perfil.state.PerfilUsuario'>\n",
      "--- DEBUG CHECK PERFIL ---\n",
      "Input prefs object: apasionado_motor='no' valora_estetica='no' coche_principal_hogar='sí' uso_profesional='no' tipo_uso_profesional=None prefiere_diseno_exclusivo='sí' altura_mayor_190='no' peso_mayor_100='no' transporta_carga_voluminosa='no' necesita_espacio_objetos_especiales=None arrastra_remolque='sí' aventura=<NivelAventura.ninguna: 'ninguna'> solo_electricos=None prioriza_baja_depreciacion='no' transmision_preferida=<Transmision.AUTOMATICO: 'automático'> rating_fiabilidad_durabilidad=None rating_seguridad=None rating_comodidad=None rating_impacto_ambiental=None rating_tecnologia_conectividad=None rating_costes_uso=None\n",
      "Input prefs type: <class 'graph.perfil.state.PerfilUsuario'>\n",
      "DEBUG (Validation Perfil) ► Campo 'solo_electricos' está vacío/None.\n",
      "DEBUG (Condición Perfil) ► Perfil INCOMPLETO. Se necesita pregunta.\n",
      "--- Ejecutando Nodo: preguntar_preferencias_node ---\n",
      "--- DEBUG CHECK PERFIL ---\n",
      "Input prefs object: apasionado_motor='no' valora_estetica='no' coche_principal_hogar='sí' uso_profesional='no' tipo_uso_profesional=None prefiere_diseno_exclusivo='sí' altura_mayor_190='no' peso_mayor_100='no' transporta_carga_voluminosa='no' necesita_espacio_objetos_especiales=None arrastra_remolque='sí' aventura=<NivelAventura.ninguna: 'ninguna'> solo_electricos=None prioriza_baja_depreciacion='no' transmision_preferida=<Transmision.AUTOMATICO: 'automático'> rating_fiabilidad_durabilidad=None rating_seguridad=None rating_comodidad=None rating_impacto_ambiental=None rating_tecnologia_conectividad=None rating_costes_uso=None\n",
      "Input prefs type: <class 'graph.perfil.state.PerfilUsuario'>\n",
      "DEBUG (Validation Perfil) ► Campo 'solo_electricos' está vacío/None.\n",
      "DEBUG (Preguntar Perfil) ► Perfil aún INCOMPLETO según checker.\n",
      "DEBUG (Preguntar Perfil) ► Pregunta fallback generada: ¿Estás interesado exclusivamente en vehículos con motorización eléctrica?\n",
      "DEBUG (Preguntar Perfil) ► Usando mensaje pendiente (pregunta LLM): ¿Estás interesado exclusivamente en vehículos con motorización eléctrica?\n",
      "DEBUG (Preguntar Perfil) ► Mensaje final añadido: ¿Estás interesado exclusivamente en vehículos con motorización eléctrica?\n",
      "==================================\u001b[1m Ai Message \u001b[0m==================================\n",
      "\n",
      "¿Estás interesado exclusivamente en vehículos con motorización eléctrica?\n"
     ]
    }
   ],
   "source": [
    "# Create a thread\n",
    "config = {\"configurable\": {\"thread_id\": \"1\"}}\n",
    "\n",
    "# Start conversation\n",
    "input_message = HumanMessage(content=\"no\")\n",
    "output = graph.invoke({\"messages\": [input_message]}, config) \n",
    "for m in output['messages'][-1:]:\n",
    "    m.pretty_print()"
   ]
  },
  {
   "cell_type": "code",
   "execution_count": 14,
   "metadata": {},
   "outputs": [
    {
     "name": "stdout",
     "output_type": "stream",
     "text": [
      "--- Ejecutando Nodo: route_based_on_state_node ---\n",
      "\n",
      "--- DEBUG: Evaluating Routing Decision ---\n",
      "--- DEBUG CHECK PERFIL ---\n",
      "Input prefs object: apasionado_motor='no' valora_estetica='no' coche_principal_hogar='sí' uso_profesional='no' tipo_uso_profesional=None prefiere_diseno_exclusivo='sí' altura_mayor_190='no' peso_mayor_100='no' transporta_carga_voluminosa='no' necesita_espacio_objetos_especiales=None arrastra_remolque='sí' aventura=<NivelAventura.ninguna: 'ninguna'> solo_electricos=None prioriza_baja_depreciacion='no' transmision_preferida=<Transmision.AUTOMATICO: 'automático'> rating_fiabilidad_durabilidad=None rating_seguridad=None rating_comodidad=None rating_impacto_ambiental=None rating_tecnologia_conectividad=None rating_costes_uso=None\n",
      "Input prefs type: <class 'graph.perfil.state.PerfilUsuario'>\n",
      "DEBUG (Validation Perfil) ► Campo 'solo_electricos' está vacío/None.\n",
      "DEBUG Router: Prefs OK? False\n",
      "--- DEBUG CHECK PASAJEROS ---\n",
      "Input info pasajeros: None\n",
      "DEBUG (Validation Pasajeros) ► Objeto InfoPasajeros es None.\n",
      "DEBUG Router: Pasajeros OK? False\n",
      "DEBUG (Validation Filtros) ► Objeto FiltrosInferidos es None.\n",
      "DEBUG Router: Filtros OK? False\n",
      "--- DEBUG CHECK ECONOMIA (Manual) ---\n",
      "Input econ object: None\n",
      "DEBUG (Validation Economía Manual) ► Objeto EconomiaUsuario es None.\n",
      "DEBUG Router: Economía OK? False\n",
      "DEBUG Router: Pesos Calculados? False\n",
      "DEBUG Router: Coches Buscados? False\n",
      "--- DEBUG CHECK PERFIL ---\n",
      "Input prefs object: apasionado_motor='no' valora_estetica='no' coche_principal_hogar='sí' uso_profesional='no' tipo_uso_profesional=None prefiere_diseno_exclusivo='sí' altura_mayor_190='no' peso_mayor_100='no' transporta_carga_voluminosa='no' necesita_espacio_objetos_especiales=None arrastra_remolque='sí' aventura=<NivelAventura.ninguna: 'ninguna'> solo_electricos=None prioriza_baja_depreciacion='no' transmision_preferida=<Transmision.AUTOMATICO: 'automático'> rating_fiabilidad_durabilidad=None rating_seguridad=None rating_comodidad=None rating_impacto_ambiental=None rating_tecnologia_conectividad=None rating_costes_uso=None\n",
      "Input prefs type: <class 'graph.perfil.state.PerfilUsuario'>\n",
      "DEBUG (Validation Perfil) ► Campo 'solo_electricos' está vacío/None.\n",
      "DEBUG Router: Decisión -> recopilar_preferencias\n",
      "--- Ejecutando Nodo: recopilar_preferencias_node ---\n",
      "DEBUG (Perfil) ► Último mensaje es HumanMessage o historial vacío, llamando a llm_solo_perfil...\n"
     ]
    },
    {
     "name": "stderr",
     "output_type": "stream",
     "text": [
      "INFO (RAG): HTTP Request: POST https://api.openai.com/v1/chat/completions \"HTTP/1.1 200 OK\"\n"
     ]
    },
    {
     "name": "stdout",
     "output_type": "stream",
     "text": [
      "DEBUG (Perfil) ► Respuesta llm_solo_perfil: preferencias_usuario=PerfilUsuario(apasionado_motor='no', valora_estetica='no', coche_principal_hogar='sí', uso_profesional='no', tipo_uso_profesional=None, prefiere_diseno_exclusivo='sí', altura_mayor_190='no', peso_mayor_100='no', transporta_carga_voluminosa='no', necesita_espacio_objetos_especiales=None, arrastra_remolque='sí', aventura=<NivelAventura.ninguna: 'ninguna'>, solo_electricos='no', prioriza_baja_depreciacion='no', transmision_preferida=<Transmision.AUTOMATICO: 'automático'>, rating_fiabilidad_durabilidad=None, rating_seguridad=None, rating_comodidad=None, rating_impacto_ambiental=None, rating_tecnologia_conectividad=None, rating_costes_uso=None) tipo_mensaje='PREGUNTA' contenido_mensaje=\"¿Qué tan importante es para ti que el vehículo sea económico en su uso diario y mantenimiento? (donde 0 significa 'No es importante en absoluto' y 10 significa 'Es extremadamente importante')\"\n",
      "DEBUG (Perfil) ► Preferencias TRAS post-procesamiento: apasionado_motor='no' valora_estetica='no' coche_principal_hogar='sí' uso_profesional='no' tipo_uso_profesional=None prefiere_diseno_exclusivo='sí' altura_mayor_190='no' peso_mayor_100='no' transporta_carga_voluminosa='no' necesita_espacio_objetos_especiales=None arrastra_remolque='sí' aventura=<NivelAventura.ninguna: 'ninguna'> solo_electricos='no' prioriza_baja_depreciacion='no' transmision_preferida=<Transmision.AUTOMATICO: 'automático'> rating_fiabilidad_durabilidad=None rating_seguridad=None rating_comodidad=None rating_impacto_ambiental=None rating_tecnologia_conectividad=None rating_costes_uso=None\n",
      "DEBUG (Perfil) ► Estado preferencias_usuario actualizado: apasionado_motor='no' valora_estetica='no' coche_principal_hogar='sí' uso_profesional='no' tipo_uso_profesional=None prefiere_diseno_exclusivo='sí' altura_mayor_190='no' peso_mayor_100='no' transporta_carga_voluminosa='no' necesita_espacio_objetos_especiales=None arrastra_remolque='sí' aventura=<NivelAventura.ninguna: 'ninguna'> solo_electricos='no' prioriza_baja_depreciacion='no' transmision_preferida=<Transmision.AUTOMATICO: 'automático'> rating_fiabilidad_durabilidad=None rating_seguridad=None rating_comodidad=None rating_impacto_ambiental=None rating_tecnologia_conectividad=None rating_costes_uso=None\n",
      "DEBUG (Perfil) ► Guardando mensaje pendiente: ¿Qué tan importante es para ti que el vehículo sea económico en su uso diario y mantenimiento? (donde 0 significa 'No es importante en absoluto' y 10 significa 'Es extremadamente importante')\n",
      "--- Ejecutando Nodo: validar_preferencias_node ---\n",
      "--- DEBUG CHECK PERFIL ---\n",
      "Input prefs object: apasionado_motor='no' valora_estetica='no' coche_principal_hogar='sí' uso_profesional='no' tipo_uso_profesional=None prefiere_diseno_exclusivo='sí' altura_mayor_190='no' peso_mayor_100='no' transporta_carga_voluminosa='no' necesita_espacio_objetos_especiales=None arrastra_remolque='sí' aventura=<NivelAventura.ninguna: 'ninguna'> solo_electricos='no' prioriza_baja_depreciacion='no' transmision_preferida=<Transmision.AUTOMATICO: 'automático'> rating_fiabilidad_durabilidad=None rating_seguridad=None rating_comodidad=None rating_impacto_ambiental=None rating_tecnologia_conectividad=None rating_costes_uso=None\n",
      "Input prefs type: <class 'graph.perfil.state.PerfilUsuario'>\n",
      "DEBUG (Validation Perfil) ► Campo 'rating_fiabilidad_durabilidad' está vacío/None.\n",
      "DEBUG (Perfil) ► Validación: PerfilUsuario considerado INCOMPLETO.\n",
      "--- Evaluando Condición: ruta_decision_perfil ---\n",
      "DEBUG (Condición Perfil) ► Estado 'preferencias_usuario' recibido: apasionado_motor='no' valora_estetica='no' coche_principal_hogar='sí' uso_profesional='no' tipo_uso_profesional=None prefiere_diseno_exclusivo='sí' altura_mayor_190='no' peso_mayor_100='no' transporta_carga_voluminosa='no' necesita_espacio_objetos_especiales=None arrastra_remolque='sí' aventura=<NivelAventura.ninguna: 'ninguna'> solo_electricos='no' prioriza_baja_depreciacion='no' transmision_preferida=<Transmision.AUTOMATICO: 'automático'> rating_fiabilidad_durabilidad=None rating_seguridad=None rating_comodidad=None rating_impacto_ambiental=None rating_tecnologia_conectividad=None rating_costes_uso=None\n",
      "DEBUG (Condición Perfil) ► Tipo de 'preferencias_usuario': <class 'graph.perfil.state.PerfilUsuario'>\n",
      "--- DEBUG CHECK PERFIL ---\n",
      "Input prefs object: apasionado_motor='no' valora_estetica='no' coche_principal_hogar='sí' uso_profesional='no' tipo_uso_profesional=None prefiere_diseno_exclusivo='sí' altura_mayor_190='no' peso_mayor_100='no' transporta_carga_voluminosa='no' necesita_espacio_objetos_especiales=None arrastra_remolque='sí' aventura=<NivelAventura.ninguna: 'ninguna'> solo_electricos='no' prioriza_baja_depreciacion='no' transmision_preferida=<Transmision.AUTOMATICO: 'automático'> rating_fiabilidad_durabilidad=None rating_seguridad=None rating_comodidad=None rating_impacto_ambiental=None rating_tecnologia_conectividad=None rating_costes_uso=None\n",
      "Input prefs type: <class 'graph.perfil.state.PerfilUsuario'>\n",
      "DEBUG (Validation Perfil) ► Campo 'rating_fiabilidad_durabilidad' está vacío/None.\n",
      "DEBUG (Condición Perfil) ► Perfil INCOMPLETO. Se necesita pregunta.\n",
      "--- Ejecutando Nodo: preguntar_preferencias_node ---\n",
      "--- DEBUG CHECK PERFIL ---\n",
      "Input prefs object: apasionado_motor='no' valora_estetica='no' coche_principal_hogar='sí' uso_profesional='no' tipo_uso_profesional=None prefiere_diseno_exclusivo='sí' altura_mayor_190='no' peso_mayor_100='no' transporta_carga_voluminosa='no' necesita_espacio_objetos_especiales=None arrastra_remolque='sí' aventura=<NivelAventura.ninguna: 'ninguna'> solo_electricos='no' prioriza_baja_depreciacion='no' transmision_preferida=<Transmision.AUTOMATICO: 'automático'> rating_fiabilidad_durabilidad=None rating_seguridad=None rating_comodidad=None rating_impacto_ambiental=None rating_tecnologia_conectividad=None rating_costes_uso=None\n",
      "Input prefs type: <class 'graph.perfil.state.PerfilUsuario'>\n",
      "DEBUG (Validation Perfil) ► Campo 'rating_fiabilidad_durabilidad' está vacío/None.\n",
      "DEBUG (Preguntar Perfil) ► Perfil aún INCOMPLETO según checker.\n",
      "DEBUG (Preguntar Perfil) ► Pregunta fallback generada: En una escala de 0 (nada importante) a 10 (extremadamente importante), ¿qué tan importante es para ti la Fiabilidad y Durabilidad del coche?\n",
      "DEBUG (Preguntar Perfil) ► Usando mensaje pendiente (pregunta LLM): ¿Qué tan importante es para ti que el vehículo sea económico en su uso diario y mantenimiento? (donde 0 significa 'No es importante en absoluto' y 10 significa 'Es extremadamente importante')\n",
      "DEBUG (Preguntar Perfil) ► Mensaje final añadido: ¿Qué tan importante es para ti que el vehículo sea económico en su uso diario y mantenimiento? (donde 0 significa 'No es importante en absoluto' y 10 significa 'Es extremadamente importante')\n",
      "==================================\u001b[1m Ai Message \u001b[0m==================================\n",
      "\n",
      "¿Qué tan importante es para ti que el vehículo sea económico en su uso diario y mantenimiento? (donde 0 significa 'No es importante en absoluto' y 10 significa 'Es extremadamente importante')\n"
     ]
    }
   ],
   "source": [
    "# Create a thread\n",
    "config = {\"configurable\": {\"thread_id\": \"1\"}}\n",
    "\n",
    "# Start conversation\n",
    "input_message = HumanMessage(content=\"no\")\n",
    "output = graph.invoke({\"messages\": [input_message]}, config) \n",
    "for m in output['messages'][-1:]:\n",
    "    m.pretty_print()"
   ]
  },
  {
   "cell_type": "code",
   "execution_count": 15,
   "metadata": {},
   "outputs": [
    {
     "name": "stdout",
     "output_type": "stream",
     "text": [
      "--- Ejecutando Nodo: route_based_on_state_node ---\n",
      "\n",
      "--- DEBUG: Evaluating Routing Decision ---\n",
      "--- DEBUG CHECK PERFIL ---\n",
      "Input prefs object: apasionado_motor='no' valora_estetica='no' coche_principal_hogar='sí' uso_profesional='no' tipo_uso_profesional=None prefiere_diseno_exclusivo='sí' altura_mayor_190='no' peso_mayor_100='no' transporta_carga_voluminosa='no' necesita_espacio_objetos_especiales=None arrastra_remolque='sí' aventura=<NivelAventura.ninguna: 'ninguna'> solo_electricos='no' prioriza_baja_depreciacion='no' transmision_preferida=<Transmision.AUTOMATICO: 'automático'> rating_fiabilidad_durabilidad=None rating_seguridad=None rating_comodidad=None rating_impacto_ambiental=None rating_tecnologia_conectividad=None rating_costes_uso=None\n",
      "Input prefs type: <class 'graph.perfil.state.PerfilUsuario'>\n",
      "DEBUG (Validation Perfil) ► Campo 'rating_fiabilidad_durabilidad' está vacío/None.\n",
      "DEBUG Router: Prefs OK? False\n",
      "--- DEBUG CHECK PASAJEROS ---\n",
      "Input info pasajeros: None\n",
      "DEBUG (Validation Pasajeros) ► Objeto InfoPasajeros es None.\n",
      "DEBUG Router: Pasajeros OK? False\n",
      "DEBUG (Validation Filtros) ► Objeto FiltrosInferidos es None.\n",
      "DEBUG Router: Filtros OK? False\n",
      "--- DEBUG CHECK ECONOMIA (Manual) ---\n",
      "Input econ object: None\n",
      "DEBUG (Validation Economía Manual) ► Objeto EconomiaUsuario es None.\n",
      "DEBUG Router: Economía OK? False\n",
      "DEBUG Router: Pesos Calculados? False\n",
      "DEBUG Router: Coches Buscados? False\n",
      "--- DEBUG CHECK PERFIL ---\n",
      "Input prefs object: apasionado_motor='no' valora_estetica='no' coche_principal_hogar='sí' uso_profesional='no' tipo_uso_profesional=None prefiere_diseno_exclusivo='sí' altura_mayor_190='no' peso_mayor_100='no' transporta_carga_voluminosa='no' necesita_espacio_objetos_especiales=None arrastra_remolque='sí' aventura=<NivelAventura.ninguna: 'ninguna'> solo_electricos='no' prioriza_baja_depreciacion='no' transmision_preferida=<Transmision.AUTOMATICO: 'automático'> rating_fiabilidad_durabilidad=None rating_seguridad=None rating_comodidad=None rating_impacto_ambiental=None rating_tecnologia_conectividad=None rating_costes_uso=None\n",
      "Input prefs type: <class 'graph.perfil.state.PerfilUsuario'>\n",
      "DEBUG (Validation Perfil) ► Campo 'rating_fiabilidad_durabilidad' está vacío/None.\n",
      "DEBUG Router: Decisión -> recopilar_preferencias\n",
      "--- Ejecutando Nodo: recopilar_preferencias_node ---\n",
      "DEBUG (Perfil) ► Último mensaje es HumanMessage o historial vacío, llamando a llm_solo_perfil...\n"
     ]
    },
    {
     "name": "stderr",
     "output_type": "stream",
     "text": [
      "INFO (RAG): HTTP Request: POST https://api.openai.com/v1/chat/completions \"HTTP/1.1 200 OK\"\n"
     ]
    },
    {
     "name": "stdout",
     "output_type": "stream",
     "text": [
      "DEBUG (Perfil) ► Respuesta llm_solo_perfil: preferencias_usuario=PerfilUsuario(apasionado_motor='no', valora_estetica='no', coche_principal_hogar='sí', uso_profesional='no', tipo_uso_profesional=None, prefiere_diseno_exclusivo='sí', altura_mayor_190='no', peso_mayor_100='no', transporta_carga_voluminosa='no', necesita_espacio_objetos_especiales=None, arrastra_remolque='sí', aventura=<NivelAventura.ninguna: 'ninguna'>, solo_electricos='no', prioriza_baja_depreciacion='no', transmision_preferida=<Transmision.AUTOMATICO: 'automático'>, rating_fiabilidad_durabilidad=None, rating_seguridad=None, rating_comodidad=None, rating_impacto_ambiental=None, rating_tecnologia_conectividad=None, rating_costes_uso=9) tipo_mensaje='CONFIRMACION' contenido_mensaje=''\n",
      "DEBUG (Perfil) ► Preferencias TRAS post-procesamiento: apasionado_motor='no' valora_estetica='no' coche_principal_hogar='sí' uso_profesional='no' tipo_uso_profesional=None prefiere_diseno_exclusivo='sí' altura_mayor_190='no' peso_mayor_100='no' transporta_carga_voluminosa='no' necesita_espacio_objetos_especiales=None arrastra_remolque='sí' aventura=<NivelAventura.ninguna: 'ninguna'> solo_electricos='no' prioriza_baja_depreciacion='no' transmision_preferida=<Transmision.AUTOMATICO: 'automático'> rating_fiabilidad_durabilidad=None rating_seguridad=None rating_comodidad=None rating_impacto_ambiental=None rating_tecnologia_conectividad=None rating_costes_uso=9\n",
      "DEBUG (Perfil) ► Estado preferencias_usuario actualizado: apasionado_motor='no' valora_estetica='no' coche_principal_hogar='sí' uso_profesional='no' tipo_uso_profesional=None prefiere_diseno_exclusivo='sí' altura_mayor_190='no' peso_mayor_100='no' transporta_carga_voluminosa='no' necesita_espacio_objetos_especiales=None arrastra_remolque='sí' aventura=<NivelAventura.ninguna: 'ninguna'> solo_electricos='no' prioriza_baja_depreciacion='no' transmision_preferida=<Transmision.AUTOMATICO: 'automático'> rating_fiabilidad_durabilidad=None rating_seguridad=None rating_comodidad=None rating_impacto_ambiental=None rating_tecnologia_conectividad=None rating_costes_uso=9\n",
      "DEBUG (Perfil) ► No hay mensaje pendiente.\n",
      "--- Ejecutando Nodo: validar_preferencias_node ---\n",
      "--- DEBUG CHECK PERFIL ---\n",
      "Input prefs object: apasionado_motor='no' valora_estetica='no' coche_principal_hogar='sí' uso_profesional='no' tipo_uso_profesional=None prefiere_diseno_exclusivo='sí' altura_mayor_190='no' peso_mayor_100='no' transporta_carga_voluminosa='no' necesita_espacio_objetos_especiales=None arrastra_remolque='sí' aventura=<NivelAventura.ninguna: 'ninguna'> solo_electricos='no' prioriza_baja_depreciacion='no' transmision_preferida=<Transmision.AUTOMATICO: 'automático'> rating_fiabilidad_durabilidad=None rating_seguridad=None rating_comodidad=None rating_impacto_ambiental=None rating_tecnologia_conectividad=None rating_costes_uso=9\n",
      "Input prefs type: <class 'graph.perfil.state.PerfilUsuario'>\n",
      "DEBUG (Validation Perfil) ► Campo 'rating_fiabilidad_durabilidad' está vacío/None.\n",
      "DEBUG (Perfil) ► Validación: PerfilUsuario considerado INCOMPLETO.\n",
      "--- Evaluando Condición: ruta_decision_perfil ---\n",
      "DEBUG (Condición Perfil) ► Estado 'preferencias_usuario' recibido: apasionado_motor='no' valora_estetica='no' coche_principal_hogar='sí' uso_profesional='no' tipo_uso_profesional=None prefiere_diseno_exclusivo='sí' altura_mayor_190='no' peso_mayor_100='no' transporta_carga_voluminosa='no' necesita_espacio_objetos_especiales=None arrastra_remolque='sí' aventura=<NivelAventura.ninguna: 'ninguna'> solo_electricos='no' prioriza_baja_depreciacion='no' transmision_preferida=<Transmision.AUTOMATICO: 'automático'> rating_fiabilidad_durabilidad=None rating_seguridad=None rating_comodidad=None rating_impacto_ambiental=None rating_tecnologia_conectividad=None rating_costes_uso=9\n",
      "DEBUG (Condición Perfil) ► Tipo de 'preferencias_usuario': <class 'graph.perfil.state.PerfilUsuario'>\n",
      "--- DEBUG CHECK PERFIL ---\n",
      "Input prefs object: apasionado_motor='no' valora_estetica='no' coche_principal_hogar='sí' uso_profesional='no' tipo_uso_profesional=None prefiere_diseno_exclusivo='sí' altura_mayor_190='no' peso_mayor_100='no' transporta_carga_voluminosa='no' necesita_espacio_objetos_especiales=None arrastra_remolque='sí' aventura=<NivelAventura.ninguna: 'ninguna'> solo_electricos='no' prioriza_baja_depreciacion='no' transmision_preferida=<Transmision.AUTOMATICO: 'automático'> rating_fiabilidad_durabilidad=None rating_seguridad=None rating_comodidad=None rating_impacto_ambiental=None rating_tecnologia_conectividad=None rating_costes_uso=9\n",
      "Input prefs type: <class 'graph.perfil.state.PerfilUsuario'>\n",
      "DEBUG (Validation Perfil) ► Campo 'rating_fiabilidad_durabilidad' está vacío/None.\n",
      "DEBUG (Condición Perfil) ► Perfil INCOMPLETO. Se necesita pregunta.\n",
      "--- Ejecutando Nodo: preguntar_preferencias_node ---\n",
      "--- DEBUG CHECK PERFIL ---\n",
      "Input prefs object: apasionado_motor='no' valora_estetica='no' coche_principal_hogar='sí' uso_profesional='no' tipo_uso_profesional=None prefiere_diseno_exclusivo='sí' altura_mayor_190='no' peso_mayor_100='no' transporta_carga_voluminosa='no' necesita_espacio_objetos_especiales=None arrastra_remolque='sí' aventura=<NivelAventura.ninguna: 'ninguna'> solo_electricos='no' prioriza_baja_depreciacion='no' transmision_preferida=<Transmision.AUTOMATICO: 'automático'> rating_fiabilidad_durabilidad=None rating_seguridad=None rating_comodidad=None rating_impacto_ambiental=None rating_tecnologia_conectividad=None rating_costes_uso=9\n",
      "Input prefs type: <class 'graph.perfil.state.PerfilUsuario'>\n",
      "DEBUG (Validation Perfil) ► Campo 'rating_fiabilidad_durabilidad' está vacío/None.\n",
      "DEBUG (Preguntar Perfil) ► Perfil aún INCOMPLETO según checker.\n",
      "DEBUG (Preguntar Perfil) ► Pregunta fallback generada: En una escala de 0 (nada importante) a 10 (extremadamente importante), ¿qué tan importante es para ti la Fiabilidad y Durabilidad del coche?\n",
      "WARN (Preguntar Perfil) ► Nodo ejecutado para preguntar, pero no había mensaje pendiente válido. Generando pregunta fallback.\n",
      "DEBUG (Preguntar Perfil) ► Mensaje final añadido: En una escala de 0 (nada importante) a 10 (extremadamente importante), ¿qué tan importante es para ti la Fiabilidad y Durabilidad del coche?\n",
      "==================================\u001b[1m Ai Message \u001b[0m==================================\n",
      "\n",
      "En una escala de 0 (nada importante) a 10 (extremadamente importante), ¿qué tan importante es para ti la Fiabilidad y Durabilidad del coche?\n"
     ]
    }
   ],
   "source": [
    "# Create a thread\n",
    "config = {\"configurable\": {\"thread_id\": \"1\"}}\n",
    "\n",
    "# Start conversation\n",
    "input_message = HumanMessage(content=\"9\")\n",
    "output = graph.invoke({\"messages\": [input_message]}, config) \n",
    "for m in output['messages'][-1:]:\n",
    "    m.pretty_print()"
   ]
  },
  {
   "cell_type": "code",
   "execution_count": 16,
   "metadata": {},
   "outputs": [
    {
     "name": "stdout",
     "output_type": "stream",
     "text": [
      "--- Ejecutando Nodo: route_based_on_state_node ---\n",
      "\n",
      "--- DEBUG: Evaluating Routing Decision ---\n",
      "--- DEBUG CHECK PERFIL ---\n",
      "Input prefs object: apasionado_motor='no' valora_estetica='no' coche_principal_hogar='sí' uso_profesional='no' tipo_uso_profesional=None prefiere_diseno_exclusivo='sí' altura_mayor_190='no' peso_mayor_100='no' transporta_carga_voluminosa='no' necesita_espacio_objetos_especiales=None arrastra_remolque='sí' aventura=<NivelAventura.ninguna: 'ninguna'> solo_electricos='no' prioriza_baja_depreciacion='no' transmision_preferida=<Transmision.AUTOMATICO: 'automático'> rating_fiabilidad_durabilidad=None rating_seguridad=None rating_comodidad=None rating_impacto_ambiental=None rating_tecnologia_conectividad=None rating_costes_uso=9\n",
      "Input prefs type: <class 'graph.perfil.state.PerfilUsuario'>\n",
      "DEBUG (Validation Perfil) ► Campo 'rating_fiabilidad_durabilidad' está vacío/None.\n",
      "DEBUG Router: Prefs OK? False\n",
      "--- DEBUG CHECK PASAJEROS ---\n",
      "Input info pasajeros: None\n",
      "DEBUG (Validation Pasajeros) ► Objeto InfoPasajeros es None.\n",
      "DEBUG Router: Pasajeros OK? False\n",
      "DEBUG (Validation Filtros) ► Objeto FiltrosInferidos es None.\n",
      "DEBUG Router: Filtros OK? False\n",
      "--- DEBUG CHECK ECONOMIA (Manual) ---\n",
      "Input econ object: None\n",
      "DEBUG (Validation Economía Manual) ► Objeto EconomiaUsuario es None.\n",
      "DEBUG Router: Economía OK? False\n",
      "DEBUG Router: Pesos Calculados? False\n",
      "DEBUG Router: Coches Buscados? False\n",
      "--- DEBUG CHECK PERFIL ---\n",
      "Input prefs object: apasionado_motor='no' valora_estetica='no' coche_principal_hogar='sí' uso_profesional='no' tipo_uso_profesional=None prefiere_diseno_exclusivo='sí' altura_mayor_190='no' peso_mayor_100='no' transporta_carga_voluminosa='no' necesita_espacio_objetos_especiales=None arrastra_remolque='sí' aventura=<NivelAventura.ninguna: 'ninguna'> solo_electricos='no' prioriza_baja_depreciacion='no' transmision_preferida=<Transmision.AUTOMATICO: 'automático'> rating_fiabilidad_durabilidad=None rating_seguridad=None rating_comodidad=None rating_impacto_ambiental=None rating_tecnologia_conectividad=None rating_costes_uso=9\n",
      "Input prefs type: <class 'graph.perfil.state.PerfilUsuario'>\n",
      "DEBUG (Validation Perfil) ► Campo 'rating_fiabilidad_durabilidad' está vacío/None.\n",
      "DEBUG Router: Decisión -> recopilar_preferencias\n",
      "--- Ejecutando Nodo: recopilar_preferencias_node ---\n",
      "DEBUG (Perfil) ► Último mensaje es HumanMessage o historial vacío, llamando a llm_solo_perfil...\n"
     ]
    },
    {
     "name": "stderr",
     "output_type": "stream",
     "text": [
      "INFO (RAG): HTTP Request: POST https://api.openai.com/v1/chat/completions \"HTTP/1.1 200 OK\"\n"
     ]
    },
    {
     "name": "stdout",
     "output_type": "stream",
     "text": [
      "DEBUG (Perfil) ► Respuesta llm_solo_perfil: preferencias_usuario=PerfilUsuario(apasionado_motor='no', valora_estetica='no', coche_principal_hogar='sí', uso_profesional='no', tipo_uso_profesional=None, prefiere_diseno_exclusivo='sí', altura_mayor_190='no', peso_mayor_100='no', transporta_carga_voluminosa='no', necesita_espacio_objetos_especiales=None, arrastra_remolque='sí', aventura=<NivelAventura.ninguna: 'ninguna'>, solo_electricos='no', prioriza_baja_depreciacion='no', transmision_preferida=<Transmision.AUTOMATICO: 'automático'>, rating_fiabilidad_durabilidad=8, rating_seguridad=None, rating_comodidad=None, rating_impacto_ambiental=None, rating_tecnologia_conectividad=None, rating_costes_uso=9) tipo_mensaje='PREGUNTA' contenido_mensaje='Pensando en la Seguridad, ¿qué puntuación le darías en importancia (0-10)?'\n",
      "DEBUG (Perfil) ► Preferencias TRAS post-procesamiento: apasionado_motor='no' valora_estetica='no' coche_principal_hogar='sí' uso_profesional='no' tipo_uso_profesional=None prefiere_diseno_exclusivo='sí' altura_mayor_190='no' peso_mayor_100='no' transporta_carga_voluminosa='no' necesita_espacio_objetos_especiales=None arrastra_remolque='sí' aventura=<NivelAventura.ninguna: 'ninguna'> solo_electricos='no' prioriza_baja_depreciacion='no' transmision_preferida=<Transmision.AUTOMATICO: 'automático'> rating_fiabilidad_durabilidad=8 rating_seguridad=None rating_comodidad=None rating_impacto_ambiental=None rating_tecnologia_conectividad=None rating_costes_uso=9\n",
      "DEBUG (Perfil) ► Estado preferencias_usuario actualizado: apasionado_motor='no' valora_estetica='no' coche_principal_hogar='sí' uso_profesional='no' tipo_uso_profesional=None prefiere_diseno_exclusivo='sí' altura_mayor_190='no' peso_mayor_100='no' transporta_carga_voluminosa='no' necesita_espacio_objetos_especiales=None arrastra_remolque='sí' aventura=<NivelAventura.ninguna: 'ninguna'> solo_electricos='no' prioriza_baja_depreciacion='no' transmision_preferida=<Transmision.AUTOMATICO: 'automático'> rating_fiabilidad_durabilidad=8 rating_seguridad=None rating_comodidad=None rating_impacto_ambiental=None rating_tecnologia_conectividad=None rating_costes_uso=9\n",
      "DEBUG (Perfil) ► Guardando mensaje pendiente: Pensando en la Seguridad, ¿qué puntuación le darías en importancia (0-10)?\n",
      "--- Ejecutando Nodo: validar_preferencias_node ---\n",
      "--- DEBUG CHECK PERFIL ---\n",
      "Input prefs object: apasionado_motor='no' valora_estetica='no' coche_principal_hogar='sí' uso_profesional='no' tipo_uso_profesional=None prefiere_diseno_exclusivo='sí' altura_mayor_190='no' peso_mayor_100='no' transporta_carga_voluminosa='no' necesita_espacio_objetos_especiales=None arrastra_remolque='sí' aventura=<NivelAventura.ninguna: 'ninguna'> solo_electricos='no' prioriza_baja_depreciacion='no' transmision_preferida=<Transmision.AUTOMATICO: 'automático'> rating_fiabilidad_durabilidad=8 rating_seguridad=None rating_comodidad=None rating_impacto_ambiental=None rating_tecnologia_conectividad=None rating_costes_uso=9\n",
      "Input prefs type: <class 'graph.perfil.state.PerfilUsuario'>\n",
      "DEBUG (Validation Perfil) ► Campo 'rating_seguridad' está vacío/None.\n",
      "DEBUG (Perfil) ► Validación: PerfilUsuario considerado INCOMPLETO.\n",
      "--- Evaluando Condición: ruta_decision_perfil ---\n",
      "DEBUG (Condición Perfil) ► Estado 'preferencias_usuario' recibido: apasionado_motor='no' valora_estetica='no' coche_principal_hogar='sí' uso_profesional='no' tipo_uso_profesional=None prefiere_diseno_exclusivo='sí' altura_mayor_190='no' peso_mayor_100='no' transporta_carga_voluminosa='no' necesita_espacio_objetos_especiales=None arrastra_remolque='sí' aventura=<NivelAventura.ninguna: 'ninguna'> solo_electricos='no' prioriza_baja_depreciacion='no' transmision_preferida=<Transmision.AUTOMATICO: 'automático'> rating_fiabilidad_durabilidad=8 rating_seguridad=None rating_comodidad=None rating_impacto_ambiental=None rating_tecnologia_conectividad=None rating_costes_uso=9\n",
      "DEBUG (Condición Perfil) ► Tipo de 'preferencias_usuario': <class 'graph.perfil.state.PerfilUsuario'>\n",
      "--- DEBUG CHECK PERFIL ---\n",
      "Input prefs object: apasionado_motor='no' valora_estetica='no' coche_principal_hogar='sí' uso_profesional='no' tipo_uso_profesional=None prefiere_diseno_exclusivo='sí' altura_mayor_190='no' peso_mayor_100='no' transporta_carga_voluminosa='no' necesita_espacio_objetos_especiales=None arrastra_remolque='sí' aventura=<NivelAventura.ninguna: 'ninguna'> solo_electricos='no' prioriza_baja_depreciacion='no' transmision_preferida=<Transmision.AUTOMATICO: 'automático'> rating_fiabilidad_durabilidad=8 rating_seguridad=None rating_comodidad=None rating_impacto_ambiental=None rating_tecnologia_conectividad=None rating_costes_uso=9\n",
      "Input prefs type: <class 'graph.perfil.state.PerfilUsuario'>\n",
      "DEBUG (Validation Perfil) ► Campo 'rating_seguridad' está vacío/None.\n",
      "DEBUG (Condición Perfil) ► Perfil INCOMPLETO. Se necesita pregunta.\n",
      "--- Ejecutando Nodo: preguntar_preferencias_node ---\n",
      "--- DEBUG CHECK PERFIL ---\n",
      "Input prefs object: apasionado_motor='no' valora_estetica='no' coche_principal_hogar='sí' uso_profesional='no' tipo_uso_profesional=None prefiere_diseno_exclusivo='sí' altura_mayor_190='no' peso_mayor_100='no' transporta_carga_voluminosa='no' necesita_espacio_objetos_especiales=None arrastra_remolque='sí' aventura=<NivelAventura.ninguna: 'ninguna'> solo_electricos='no' prioriza_baja_depreciacion='no' transmision_preferida=<Transmision.AUTOMATICO: 'automático'> rating_fiabilidad_durabilidad=8 rating_seguridad=None rating_comodidad=None rating_impacto_ambiental=None rating_tecnologia_conectividad=None rating_costes_uso=9\n",
      "Input prefs type: <class 'graph.perfil.state.PerfilUsuario'>\n",
      "DEBUG (Validation Perfil) ► Campo 'rating_seguridad' está vacío/None.\n",
      "DEBUG (Preguntar Perfil) ► Perfil aún INCOMPLETO según checker.\n",
      "DEBUG (Preguntar Perfil) ► Pregunta fallback generada: Pensando en la Seguridad, ¿qué puntuación le darías en importancia (0-10)?\n",
      "DEBUG (Preguntar Perfil) ► Usando mensaje pendiente (pregunta LLM): Pensando en la Seguridad, ¿qué puntuación le darías en importancia (0-10)?\n",
      "DEBUG (Preguntar Perfil) ► Mensaje final añadido: Pensando en la Seguridad, ¿qué puntuación le darías en importancia (0-10)?\n",
      "==================================\u001b[1m Ai Message \u001b[0m==================================\n",
      "\n",
      "Pensando en la Seguridad, ¿qué puntuación le darías en importancia (0-10)?\n"
     ]
    }
   ],
   "source": [
    "# Create a thread\n",
    "config = {\"configurable\": {\"thread_id\": \"1\"}}\n",
    "\n",
    "# Start conversation\n",
    "input_message = HumanMessage(content=\"8\")\n",
    "output = graph.invoke({\"messages\": [input_message]}, config) \n",
    "for m in output['messages'][-1:]:\n",
    "    m.pretty_print()"
   ]
  },
  {
   "cell_type": "code",
   "execution_count": 17,
   "metadata": {},
   "outputs": [
    {
     "name": "stdout",
     "output_type": "stream",
     "text": [
      "--- Ejecutando Nodo: route_based_on_state_node ---\n",
      "\n",
      "--- DEBUG: Evaluating Routing Decision ---\n",
      "--- DEBUG CHECK PERFIL ---\n",
      "Input prefs object: apasionado_motor='no' valora_estetica='no' coche_principal_hogar='sí' uso_profesional='no' tipo_uso_profesional=None prefiere_diseno_exclusivo='sí' altura_mayor_190='no' peso_mayor_100='no' transporta_carga_voluminosa='no' necesita_espacio_objetos_especiales=None arrastra_remolque='sí' aventura=<NivelAventura.ninguna: 'ninguna'> solo_electricos='no' prioriza_baja_depreciacion='no' transmision_preferida=<Transmision.AUTOMATICO: 'automático'> rating_fiabilidad_durabilidad=8 rating_seguridad=None rating_comodidad=None rating_impacto_ambiental=None rating_tecnologia_conectividad=None rating_costes_uso=9\n",
      "Input prefs type: <class 'graph.perfil.state.PerfilUsuario'>\n",
      "DEBUG (Validation Perfil) ► Campo 'rating_seguridad' está vacío/None.\n",
      "DEBUG Router: Prefs OK? False\n",
      "--- DEBUG CHECK PASAJEROS ---\n",
      "Input info pasajeros: None\n",
      "DEBUG (Validation Pasajeros) ► Objeto InfoPasajeros es None.\n",
      "DEBUG Router: Pasajeros OK? False\n",
      "DEBUG (Validation Filtros) ► Objeto FiltrosInferidos es None.\n",
      "DEBUG Router: Filtros OK? False\n",
      "--- DEBUG CHECK ECONOMIA (Manual) ---\n",
      "Input econ object: None\n",
      "DEBUG (Validation Economía Manual) ► Objeto EconomiaUsuario es None.\n",
      "DEBUG Router: Economía OK? False\n",
      "DEBUG Router: Pesos Calculados? False\n",
      "DEBUG Router: Coches Buscados? False\n",
      "--- DEBUG CHECK PERFIL ---\n",
      "Input prefs object: apasionado_motor='no' valora_estetica='no' coche_principal_hogar='sí' uso_profesional='no' tipo_uso_profesional=None prefiere_diseno_exclusivo='sí' altura_mayor_190='no' peso_mayor_100='no' transporta_carga_voluminosa='no' necesita_espacio_objetos_especiales=None arrastra_remolque='sí' aventura=<NivelAventura.ninguna: 'ninguna'> solo_electricos='no' prioriza_baja_depreciacion='no' transmision_preferida=<Transmision.AUTOMATICO: 'automático'> rating_fiabilidad_durabilidad=8 rating_seguridad=None rating_comodidad=None rating_impacto_ambiental=None rating_tecnologia_conectividad=None rating_costes_uso=9\n",
      "Input prefs type: <class 'graph.perfil.state.PerfilUsuario'>\n",
      "DEBUG (Validation Perfil) ► Campo 'rating_seguridad' está vacío/None.\n",
      "DEBUG Router: Decisión -> recopilar_preferencias\n",
      "--- Ejecutando Nodo: recopilar_preferencias_node ---\n",
      "DEBUG (Perfil) ► Último mensaje es HumanMessage o historial vacío, llamando a llm_solo_perfil...\n"
     ]
    },
    {
     "name": "stderr",
     "output_type": "stream",
     "text": [
      "INFO (RAG): HTTP Request: POST https://api.openai.com/v1/chat/completions \"HTTP/1.1 200 OK\"\n"
     ]
    },
    {
     "name": "stdout",
     "output_type": "stream",
     "text": [
      "DEBUG (Perfil) ► Respuesta llm_solo_perfil: preferencias_usuario=PerfilUsuario(apasionado_motor='no', valora_estetica='no', coche_principal_hogar='sí', uso_profesional='no', tipo_uso_profesional=None, prefiere_diseno_exclusivo='sí', altura_mayor_190='no', peso_mayor_100='no', transporta_carga_voluminosa='no', necesita_espacio_objetos_especiales=None, arrastra_remolque='sí', aventura=<NivelAventura.ninguna: 'ninguna'>, solo_electricos='no', prioriza_baja_depreciacion='no', transmision_preferida=<Transmision.AUTOMATICO: 'automático'>, rating_fiabilidad_durabilidad=8, rating_seguridad=7, rating_comodidad=None, rating_impacto_ambiental=None, rating_tecnologia_conectividad=None, rating_costes_uso=9) tipo_mensaje='PREGUNTA' contenido_mensaje='Y en cuanto a la Comodidad y confort del vehiculo que tan importante es que se maximice? (0-10)'\n",
      "DEBUG (Perfil) ► Preferencias TRAS post-procesamiento: apasionado_motor='no' valora_estetica='no' coche_principal_hogar='sí' uso_profesional='no' tipo_uso_profesional=None prefiere_diseno_exclusivo='sí' altura_mayor_190='no' peso_mayor_100='no' transporta_carga_voluminosa='no' necesita_espacio_objetos_especiales=None arrastra_remolque='sí' aventura=<NivelAventura.ninguna: 'ninguna'> solo_electricos='no' prioriza_baja_depreciacion='no' transmision_preferida=<Transmision.AUTOMATICO: 'automático'> rating_fiabilidad_durabilidad=8 rating_seguridad=7 rating_comodidad=None rating_impacto_ambiental=None rating_tecnologia_conectividad=None rating_costes_uso=9\n",
      "DEBUG (Perfil) ► Estado preferencias_usuario actualizado: apasionado_motor='no' valora_estetica='no' coche_principal_hogar='sí' uso_profesional='no' tipo_uso_profesional=None prefiere_diseno_exclusivo='sí' altura_mayor_190='no' peso_mayor_100='no' transporta_carga_voluminosa='no' necesita_espacio_objetos_especiales=None arrastra_remolque='sí' aventura=<NivelAventura.ninguna: 'ninguna'> solo_electricos='no' prioriza_baja_depreciacion='no' transmision_preferida=<Transmision.AUTOMATICO: 'automático'> rating_fiabilidad_durabilidad=8 rating_seguridad=7 rating_comodidad=None rating_impacto_ambiental=None rating_tecnologia_conectividad=None rating_costes_uso=9\n",
      "DEBUG (Perfil) ► Guardando mensaje pendiente: Y en cuanto a la Comodidad y confort del vehiculo que tan importante es que se maximice? (0-10)\n",
      "--- Ejecutando Nodo: validar_preferencias_node ---\n",
      "--- DEBUG CHECK PERFIL ---\n",
      "Input prefs object: apasionado_motor='no' valora_estetica='no' coche_principal_hogar='sí' uso_profesional='no' tipo_uso_profesional=None prefiere_diseno_exclusivo='sí' altura_mayor_190='no' peso_mayor_100='no' transporta_carga_voluminosa='no' necesita_espacio_objetos_especiales=None arrastra_remolque='sí' aventura=<NivelAventura.ninguna: 'ninguna'> solo_electricos='no' prioriza_baja_depreciacion='no' transmision_preferida=<Transmision.AUTOMATICO: 'automático'> rating_fiabilidad_durabilidad=8 rating_seguridad=7 rating_comodidad=None rating_impacto_ambiental=None rating_tecnologia_conectividad=None rating_costes_uso=9\n",
      "Input prefs type: <class 'graph.perfil.state.PerfilUsuario'>\n",
      "DEBUG (Validation Perfil) ► Campo 'rating_comodidad' está vacío/None.\n",
      "DEBUG (Perfil) ► Validación: PerfilUsuario considerado INCOMPLETO.\n",
      "--- Evaluando Condición: ruta_decision_perfil ---\n",
      "DEBUG (Condición Perfil) ► Estado 'preferencias_usuario' recibido: apasionado_motor='no' valora_estetica='no' coche_principal_hogar='sí' uso_profesional='no' tipo_uso_profesional=None prefiere_diseno_exclusivo='sí' altura_mayor_190='no' peso_mayor_100='no' transporta_carga_voluminosa='no' necesita_espacio_objetos_especiales=None arrastra_remolque='sí' aventura=<NivelAventura.ninguna: 'ninguna'> solo_electricos='no' prioriza_baja_depreciacion='no' transmision_preferida=<Transmision.AUTOMATICO: 'automático'> rating_fiabilidad_durabilidad=8 rating_seguridad=7 rating_comodidad=None rating_impacto_ambiental=None rating_tecnologia_conectividad=None rating_costes_uso=9\n",
      "DEBUG (Condición Perfil) ► Tipo de 'preferencias_usuario': <class 'graph.perfil.state.PerfilUsuario'>\n",
      "--- DEBUG CHECK PERFIL ---\n",
      "Input prefs object: apasionado_motor='no' valora_estetica='no' coche_principal_hogar='sí' uso_profesional='no' tipo_uso_profesional=None prefiere_diseno_exclusivo='sí' altura_mayor_190='no' peso_mayor_100='no' transporta_carga_voluminosa='no' necesita_espacio_objetos_especiales=None arrastra_remolque='sí' aventura=<NivelAventura.ninguna: 'ninguna'> solo_electricos='no' prioriza_baja_depreciacion='no' transmision_preferida=<Transmision.AUTOMATICO: 'automático'> rating_fiabilidad_durabilidad=8 rating_seguridad=7 rating_comodidad=None rating_impacto_ambiental=None rating_tecnologia_conectividad=None rating_costes_uso=9\n",
      "Input prefs type: <class 'graph.perfil.state.PerfilUsuario'>\n",
      "DEBUG (Validation Perfil) ► Campo 'rating_comodidad' está vacío/None.\n",
      "DEBUG (Condición Perfil) ► Perfil INCOMPLETO. Se necesita pregunta.\n",
      "--- Ejecutando Nodo: preguntar_preferencias_node ---\n",
      "--- DEBUG CHECK PERFIL ---\n",
      "Input prefs object: apasionado_motor='no' valora_estetica='no' coche_principal_hogar='sí' uso_profesional='no' tipo_uso_profesional=None prefiere_diseno_exclusivo='sí' altura_mayor_190='no' peso_mayor_100='no' transporta_carga_voluminosa='no' necesita_espacio_objetos_especiales=None arrastra_remolque='sí' aventura=<NivelAventura.ninguna: 'ninguna'> solo_electricos='no' prioriza_baja_depreciacion='no' transmision_preferida=<Transmision.AUTOMATICO: 'automático'> rating_fiabilidad_durabilidad=8 rating_seguridad=7 rating_comodidad=None rating_impacto_ambiental=None rating_tecnologia_conectividad=None rating_costes_uso=9\n",
      "Input prefs type: <class 'graph.perfil.state.PerfilUsuario'>\n",
      "DEBUG (Validation Perfil) ► Campo 'rating_comodidad' está vacío/None.\n",
      "DEBUG (Preguntar Perfil) ► Perfil aún INCOMPLETO según checker.\n",
      "DEBUG (Preguntar Perfil) ► Pregunta fallback generada: Y en cuanto a la comodidad y confort del vehiculo que tan importante es que se maximice? (0-10)\n",
      "DEBUG (Preguntar Perfil) ► Usando mensaje pendiente (pregunta LLM): Y en cuanto a la Comodidad y confort del vehiculo que tan importante es que se maximice? (0-10)\n",
      "DEBUG (Preguntar Perfil) ► Mensaje final añadido: Y en cuanto a la Comodidad y confort del vehiculo que tan importante es que se maximice? (0-10)\n",
      "==================================\u001b[1m Ai Message \u001b[0m==================================\n",
      "\n",
      "Y en cuanto a la Comodidad y confort del vehiculo que tan importante es que se maximice? (0-10)\n"
     ]
    }
   ],
   "source": [
    "# Create a thread\n",
    "config = {\"configurable\": {\"thread_id\": \"1\"}}\n",
    "\n",
    "# Start conversation\n",
    "input_message = HumanMessage(content=\"7\")\n",
    "output = graph.invoke({\"messages\": [input_message]}, config) \n",
    "for m in output['messages'][-1:]:\n",
    "    m.pretty_print()"
   ]
  },
  {
   "cell_type": "code",
   "execution_count": 18,
   "metadata": {},
   "outputs": [
    {
     "name": "stdout",
     "output_type": "stream",
     "text": [
      "--- Ejecutando Nodo: route_based_on_state_node ---\n",
      "\n",
      "--- DEBUG: Evaluating Routing Decision ---\n",
      "--- DEBUG CHECK PERFIL ---\n",
      "Input prefs object: apasionado_motor='no' valora_estetica='no' coche_principal_hogar='sí' uso_profesional='no' tipo_uso_profesional=None prefiere_diseno_exclusivo='sí' altura_mayor_190='no' peso_mayor_100='no' transporta_carga_voluminosa='no' necesita_espacio_objetos_especiales=None arrastra_remolque='sí' aventura=<NivelAventura.ninguna: 'ninguna'> solo_electricos='no' prioriza_baja_depreciacion='no' transmision_preferida=<Transmision.AUTOMATICO: 'automático'> rating_fiabilidad_durabilidad=8 rating_seguridad=7 rating_comodidad=None rating_impacto_ambiental=None rating_tecnologia_conectividad=None rating_costes_uso=9\n",
      "Input prefs type: <class 'graph.perfil.state.PerfilUsuario'>\n",
      "DEBUG (Validation Perfil) ► Campo 'rating_comodidad' está vacío/None.\n",
      "DEBUG Router: Prefs OK? False\n",
      "--- DEBUG CHECK PASAJEROS ---\n",
      "Input info pasajeros: None\n",
      "DEBUG (Validation Pasajeros) ► Objeto InfoPasajeros es None.\n",
      "DEBUG Router: Pasajeros OK? False\n",
      "DEBUG (Validation Filtros) ► Objeto FiltrosInferidos es None.\n",
      "DEBUG Router: Filtros OK? False\n",
      "--- DEBUG CHECK ECONOMIA (Manual) ---\n",
      "Input econ object: None\n",
      "DEBUG (Validation Economía Manual) ► Objeto EconomiaUsuario es None.\n",
      "DEBUG Router: Economía OK? False\n",
      "DEBUG Router: Pesos Calculados? False\n",
      "DEBUG Router: Coches Buscados? False\n",
      "--- DEBUG CHECK PERFIL ---\n",
      "Input prefs object: apasionado_motor='no' valora_estetica='no' coche_principal_hogar='sí' uso_profesional='no' tipo_uso_profesional=None prefiere_diseno_exclusivo='sí' altura_mayor_190='no' peso_mayor_100='no' transporta_carga_voluminosa='no' necesita_espacio_objetos_especiales=None arrastra_remolque='sí' aventura=<NivelAventura.ninguna: 'ninguna'> solo_electricos='no' prioriza_baja_depreciacion='no' transmision_preferida=<Transmision.AUTOMATICO: 'automático'> rating_fiabilidad_durabilidad=8 rating_seguridad=7 rating_comodidad=None rating_impacto_ambiental=None rating_tecnologia_conectividad=None rating_costes_uso=9\n",
      "Input prefs type: <class 'graph.perfil.state.PerfilUsuario'>\n",
      "DEBUG (Validation Perfil) ► Campo 'rating_comodidad' está vacío/None.\n",
      "DEBUG Router: Decisión -> recopilar_preferencias\n",
      "--- Ejecutando Nodo: recopilar_preferencias_node ---\n",
      "DEBUG (Perfil) ► Último mensaje es HumanMessage o historial vacío, llamando a llm_solo_perfil...\n"
     ]
    },
    {
     "name": "stderr",
     "output_type": "stream",
     "text": [
      "INFO (RAG): HTTP Request: POST https://api.openai.com/v1/chat/completions \"HTTP/1.1 200 OK\"\n"
     ]
    },
    {
     "name": "stdout",
     "output_type": "stream",
     "text": [
      "DEBUG (Perfil) ► Respuesta llm_solo_perfil: preferencias_usuario=PerfilUsuario(apasionado_motor='no', valora_estetica='no', coche_principal_hogar='sí', uso_profesional='no', tipo_uso_profesional=None, prefiere_diseno_exclusivo='sí', altura_mayor_190='no', peso_mayor_100='no', transporta_carga_voluminosa='no', necesita_espacio_objetos_especiales=None, arrastra_remolque='sí', aventura=<NivelAventura.ninguna: 'ninguna'>, solo_electricos='no', prioriza_baja_depreciacion='no', transmision_preferida=<Transmision.AUTOMATICO: 'automático'>, rating_fiabilidad_durabilidad=8, rating_seguridad=7, rating_comodidad=8, rating_impacto_ambiental=None, rating_tecnologia_conectividad=None, rating_costes_uso=9) tipo_mensaje='CONFIRMACION' contenido_mensaje=''\n",
      "DEBUG (Perfil) ► Preferencias TRAS post-procesamiento: apasionado_motor='no' valora_estetica='no' coche_principal_hogar='sí' uso_profesional='no' tipo_uso_profesional=None prefiere_diseno_exclusivo='sí' altura_mayor_190='no' peso_mayor_100='no' transporta_carga_voluminosa='no' necesita_espacio_objetos_especiales=None arrastra_remolque='sí' aventura=<NivelAventura.ninguna: 'ninguna'> solo_electricos='no' prioriza_baja_depreciacion='no' transmision_preferida=<Transmision.AUTOMATICO: 'automático'> rating_fiabilidad_durabilidad=8 rating_seguridad=7 rating_comodidad=8 rating_impacto_ambiental=None rating_tecnologia_conectividad=None rating_costes_uso=9\n",
      "DEBUG (Perfil) ► Estado preferencias_usuario actualizado: apasionado_motor='no' valora_estetica='no' coche_principal_hogar='sí' uso_profesional='no' tipo_uso_profesional=None prefiere_diseno_exclusivo='sí' altura_mayor_190='no' peso_mayor_100='no' transporta_carga_voluminosa='no' necesita_espacio_objetos_especiales=None arrastra_remolque='sí' aventura=<NivelAventura.ninguna: 'ninguna'> solo_electricos='no' prioriza_baja_depreciacion='no' transmision_preferida=<Transmision.AUTOMATICO: 'automático'> rating_fiabilidad_durabilidad=8 rating_seguridad=7 rating_comodidad=8 rating_impacto_ambiental=None rating_tecnologia_conectividad=None rating_costes_uso=9\n",
      "DEBUG (Perfil) ► No hay mensaje pendiente.\n",
      "--- Ejecutando Nodo: validar_preferencias_node ---\n",
      "--- DEBUG CHECK PERFIL ---\n",
      "Input prefs object: apasionado_motor='no' valora_estetica='no' coche_principal_hogar='sí' uso_profesional='no' tipo_uso_profesional=None prefiere_diseno_exclusivo='sí' altura_mayor_190='no' peso_mayor_100='no' transporta_carga_voluminosa='no' necesita_espacio_objetos_especiales=None arrastra_remolque='sí' aventura=<NivelAventura.ninguna: 'ninguna'> solo_electricos='no' prioriza_baja_depreciacion='no' transmision_preferida=<Transmision.AUTOMATICO: 'automático'> rating_fiabilidad_durabilidad=8 rating_seguridad=7 rating_comodidad=8 rating_impacto_ambiental=None rating_tecnologia_conectividad=None rating_costes_uso=9\n",
      "Input prefs type: <class 'graph.perfil.state.PerfilUsuario'>\n",
      "DEBUG (Validation Perfil) ► Campo 'rating_impacto_ambiental' está vacío/None.\n",
      "DEBUG (Perfil) ► Validación: PerfilUsuario considerado INCOMPLETO.\n",
      "--- Evaluando Condición: ruta_decision_perfil ---\n",
      "DEBUG (Condición Perfil) ► Estado 'preferencias_usuario' recibido: apasionado_motor='no' valora_estetica='no' coche_principal_hogar='sí' uso_profesional='no' tipo_uso_profesional=None prefiere_diseno_exclusivo='sí' altura_mayor_190='no' peso_mayor_100='no' transporta_carga_voluminosa='no' necesita_espacio_objetos_especiales=None arrastra_remolque='sí' aventura=<NivelAventura.ninguna: 'ninguna'> solo_electricos='no' prioriza_baja_depreciacion='no' transmision_preferida=<Transmision.AUTOMATICO: 'automático'> rating_fiabilidad_durabilidad=8 rating_seguridad=7 rating_comodidad=8 rating_impacto_ambiental=None rating_tecnologia_conectividad=None rating_costes_uso=9\n",
      "DEBUG (Condición Perfil) ► Tipo de 'preferencias_usuario': <class 'graph.perfil.state.PerfilUsuario'>\n",
      "--- DEBUG CHECK PERFIL ---\n",
      "Input prefs object: apasionado_motor='no' valora_estetica='no' coche_principal_hogar='sí' uso_profesional='no' tipo_uso_profesional=None prefiere_diseno_exclusivo='sí' altura_mayor_190='no' peso_mayor_100='no' transporta_carga_voluminosa='no' necesita_espacio_objetos_especiales=None arrastra_remolque='sí' aventura=<NivelAventura.ninguna: 'ninguna'> solo_electricos='no' prioriza_baja_depreciacion='no' transmision_preferida=<Transmision.AUTOMATICO: 'automático'> rating_fiabilidad_durabilidad=8 rating_seguridad=7 rating_comodidad=8 rating_impacto_ambiental=None rating_tecnologia_conectividad=None rating_costes_uso=9\n",
      "Input prefs type: <class 'graph.perfil.state.PerfilUsuario'>\n",
      "DEBUG (Validation Perfil) ► Campo 'rating_impacto_ambiental' está vacío/None.\n",
      "DEBUG (Condición Perfil) ► Perfil INCOMPLETO. Se necesita pregunta.\n",
      "--- Ejecutando Nodo: preguntar_preferencias_node ---\n",
      "--- DEBUG CHECK PERFIL ---\n",
      "Input prefs object: apasionado_motor='no' valora_estetica='no' coche_principal_hogar='sí' uso_profesional='no' tipo_uso_profesional=None prefiere_diseno_exclusivo='sí' altura_mayor_190='no' peso_mayor_100='no' transporta_carga_voluminosa='no' necesita_espacio_objetos_especiales=None arrastra_remolque='sí' aventura=<NivelAventura.ninguna: 'ninguna'> solo_electricos='no' prioriza_baja_depreciacion='no' transmision_preferida=<Transmision.AUTOMATICO: 'automático'> rating_fiabilidad_durabilidad=8 rating_seguridad=7 rating_comodidad=8 rating_impacto_ambiental=None rating_tecnologia_conectividad=None rating_costes_uso=9\n",
      "Input prefs type: <class 'graph.perfil.state.PerfilUsuario'>\n",
      "DEBUG (Validation Perfil) ► Campo 'rating_impacto_ambiental' está vacío/None.\n",
      "DEBUG (Preguntar Perfil) ► Perfil aún INCOMPLETO según checker.\n",
      "DEBUG (Preguntar Perfil) ► Pregunta fallback generada: Considerando el Bajo Impacto Medioambiental, ¿qué importancia tiene esto para tu elección (0-10)?\n",
      "WARN (Preguntar Perfil) ► Nodo ejecutado para preguntar, pero no había mensaje pendiente válido. Generando pregunta fallback.\n",
      "DEBUG (Preguntar Perfil) ► Mensaje final añadido: Considerando el Bajo Impacto Medioambiental, ¿qué importancia tiene esto para tu elección (0-10)?\n",
      "==================================\u001b[1m Ai Message \u001b[0m==================================\n",
      "\n",
      "Considerando el Bajo Impacto Medioambiental, ¿qué importancia tiene esto para tu elección (0-10)?\n"
     ]
    }
   ],
   "source": [
    "# Create a thread\n",
    "config = {\"configurable\": {\"thread_id\": \"1\"}}\n",
    "\n",
    "# Start conversation\n",
    "input_message = HumanMessage(content=\"8\")\n",
    "output = graph.invoke({\"messages\": [input_message]}, config) \n",
    "for m in output['messages'][-1:]:\n",
    "    m.pretty_print()"
   ]
  },
  {
   "cell_type": "code",
   "execution_count": 19,
   "metadata": {},
   "outputs": [
    {
     "name": "stdout",
     "output_type": "stream",
     "text": [
      "--- Ejecutando Nodo: route_based_on_state_node ---\n",
      "\n",
      "--- DEBUG: Evaluating Routing Decision ---\n",
      "--- DEBUG CHECK PERFIL ---\n",
      "Input prefs object: apasionado_motor='no' valora_estetica='no' coche_principal_hogar='sí' uso_profesional='no' tipo_uso_profesional=None prefiere_diseno_exclusivo='sí' altura_mayor_190='no' peso_mayor_100='no' transporta_carga_voluminosa='no' necesita_espacio_objetos_especiales=None arrastra_remolque='sí' aventura=<NivelAventura.ninguna: 'ninguna'> solo_electricos='no' prioriza_baja_depreciacion='no' transmision_preferida=<Transmision.AUTOMATICO: 'automático'> rating_fiabilidad_durabilidad=8 rating_seguridad=7 rating_comodidad=8 rating_impacto_ambiental=None rating_tecnologia_conectividad=None rating_costes_uso=9\n",
      "Input prefs type: <class 'graph.perfil.state.PerfilUsuario'>\n",
      "DEBUG (Validation Perfil) ► Campo 'rating_impacto_ambiental' está vacío/None.\n",
      "DEBUG Router: Prefs OK? False\n",
      "--- DEBUG CHECK PASAJEROS ---\n",
      "Input info pasajeros: None\n",
      "DEBUG (Validation Pasajeros) ► Objeto InfoPasajeros es None.\n",
      "DEBUG Router: Pasajeros OK? False\n",
      "DEBUG (Validation Filtros) ► Objeto FiltrosInferidos es None.\n",
      "DEBUG Router: Filtros OK? False\n",
      "--- DEBUG CHECK ECONOMIA (Manual) ---\n",
      "Input econ object: None\n",
      "DEBUG (Validation Economía Manual) ► Objeto EconomiaUsuario es None.\n",
      "DEBUG Router: Economía OK? False\n",
      "DEBUG Router: Pesos Calculados? False\n",
      "DEBUG Router: Coches Buscados? False\n",
      "--- DEBUG CHECK PERFIL ---\n",
      "Input prefs object: apasionado_motor='no' valora_estetica='no' coche_principal_hogar='sí' uso_profesional='no' tipo_uso_profesional=None prefiere_diseno_exclusivo='sí' altura_mayor_190='no' peso_mayor_100='no' transporta_carga_voluminosa='no' necesita_espacio_objetos_especiales=None arrastra_remolque='sí' aventura=<NivelAventura.ninguna: 'ninguna'> solo_electricos='no' prioriza_baja_depreciacion='no' transmision_preferida=<Transmision.AUTOMATICO: 'automático'> rating_fiabilidad_durabilidad=8 rating_seguridad=7 rating_comodidad=8 rating_impacto_ambiental=None rating_tecnologia_conectividad=None rating_costes_uso=9\n",
      "Input prefs type: <class 'graph.perfil.state.PerfilUsuario'>\n",
      "DEBUG (Validation Perfil) ► Campo 'rating_impacto_ambiental' está vacío/None.\n",
      "DEBUG Router: Decisión -> recopilar_preferencias\n",
      "--- Ejecutando Nodo: recopilar_preferencias_node ---\n",
      "DEBUG (Perfil) ► Último mensaje es HumanMessage o historial vacío, llamando a llm_solo_perfil...\n"
     ]
    },
    {
     "name": "stderr",
     "output_type": "stream",
     "text": [
      "INFO (RAG): HTTP Request: POST https://api.openai.com/v1/chat/completions \"HTTP/1.1 200 OK\"\n"
     ]
    },
    {
     "name": "stdout",
     "output_type": "stream",
     "text": [
      "DEBUG (Perfil) ► Respuesta llm_solo_perfil: preferencias_usuario=PerfilUsuario(apasionado_motor='no', valora_estetica='no', coche_principal_hogar='sí', uso_profesional='no', tipo_uso_profesional=None, prefiere_diseno_exclusivo='sí', altura_mayor_190='no', peso_mayor_100='no', transporta_carga_voluminosa='no', necesita_espacio_objetos_especiales=None, arrastra_remolque='sí', aventura=<NivelAventura.ninguna: 'ninguna'>, solo_electricos='no', prioriza_baja_depreciacion='no', transmision_preferida=<Transmision.AUTOMATICO: 'automático'>, rating_fiabilidad_durabilidad=8, rating_seguridad=7, rating_comodidad=8, rating_impacto_ambiental=6, rating_tecnologia_conectividad=None, rating_costes_uso=9) tipo_mensaje='CONFIRMACION' contenido_mensaje=''\n",
      "DEBUG (Perfil) ► Preferencias TRAS post-procesamiento: apasionado_motor='no' valora_estetica='no' coche_principal_hogar='sí' uso_profesional='no' tipo_uso_profesional=None prefiere_diseno_exclusivo='sí' altura_mayor_190='no' peso_mayor_100='no' transporta_carga_voluminosa='no' necesita_espacio_objetos_especiales=None arrastra_remolque='sí' aventura=<NivelAventura.ninguna: 'ninguna'> solo_electricos='no' prioriza_baja_depreciacion='no' transmision_preferida=<Transmision.AUTOMATICO: 'automático'> rating_fiabilidad_durabilidad=8 rating_seguridad=7 rating_comodidad=8 rating_impacto_ambiental=6 rating_tecnologia_conectividad=None rating_costes_uso=9\n",
      "DEBUG (Perfil) ► Estado preferencias_usuario actualizado: apasionado_motor='no' valora_estetica='no' coche_principal_hogar='sí' uso_profesional='no' tipo_uso_profesional=None prefiere_diseno_exclusivo='sí' altura_mayor_190='no' peso_mayor_100='no' transporta_carga_voluminosa='no' necesita_espacio_objetos_especiales=None arrastra_remolque='sí' aventura=<NivelAventura.ninguna: 'ninguna'> solo_electricos='no' prioriza_baja_depreciacion='no' transmision_preferida=<Transmision.AUTOMATICO: 'automático'> rating_fiabilidad_durabilidad=8 rating_seguridad=7 rating_comodidad=8 rating_impacto_ambiental=6 rating_tecnologia_conectividad=None rating_costes_uso=9\n",
      "DEBUG (Perfil) ► No hay mensaje pendiente.\n",
      "--- Ejecutando Nodo: validar_preferencias_node ---\n",
      "--- DEBUG CHECK PERFIL ---\n",
      "Input prefs object: apasionado_motor='no' valora_estetica='no' coche_principal_hogar='sí' uso_profesional='no' tipo_uso_profesional=None prefiere_diseno_exclusivo='sí' altura_mayor_190='no' peso_mayor_100='no' transporta_carga_voluminosa='no' necesita_espacio_objetos_especiales=None arrastra_remolque='sí' aventura=<NivelAventura.ninguna: 'ninguna'> solo_electricos='no' prioriza_baja_depreciacion='no' transmision_preferida=<Transmision.AUTOMATICO: 'automático'> rating_fiabilidad_durabilidad=8 rating_seguridad=7 rating_comodidad=8 rating_impacto_ambiental=6 rating_tecnologia_conectividad=None rating_costes_uso=9\n",
      "Input prefs type: <class 'graph.perfil.state.PerfilUsuario'>\n",
      "DEBUG (Validation Perfil) ► Campo 'rating_tecnologia_conectividad' está vacío/None.\n",
      "DEBUG (Perfil) ► Validación: PerfilUsuario considerado INCOMPLETO.\n",
      "--- Evaluando Condición: ruta_decision_perfil ---\n",
      "DEBUG (Condición Perfil) ► Estado 'preferencias_usuario' recibido: apasionado_motor='no' valora_estetica='no' coche_principal_hogar='sí' uso_profesional='no' tipo_uso_profesional=None prefiere_diseno_exclusivo='sí' altura_mayor_190='no' peso_mayor_100='no' transporta_carga_voluminosa='no' necesita_espacio_objetos_especiales=None arrastra_remolque='sí' aventura=<NivelAventura.ninguna: 'ninguna'> solo_electricos='no' prioriza_baja_depreciacion='no' transmision_preferida=<Transmision.AUTOMATICO: 'automático'> rating_fiabilidad_durabilidad=8 rating_seguridad=7 rating_comodidad=8 rating_impacto_ambiental=6 rating_tecnologia_conectividad=None rating_costes_uso=9\n",
      "DEBUG (Condición Perfil) ► Tipo de 'preferencias_usuario': <class 'graph.perfil.state.PerfilUsuario'>\n",
      "--- DEBUG CHECK PERFIL ---\n",
      "Input prefs object: apasionado_motor='no' valora_estetica='no' coche_principal_hogar='sí' uso_profesional='no' tipo_uso_profesional=None prefiere_diseno_exclusivo='sí' altura_mayor_190='no' peso_mayor_100='no' transporta_carga_voluminosa='no' necesita_espacio_objetos_especiales=None arrastra_remolque='sí' aventura=<NivelAventura.ninguna: 'ninguna'> solo_electricos='no' prioriza_baja_depreciacion='no' transmision_preferida=<Transmision.AUTOMATICO: 'automático'> rating_fiabilidad_durabilidad=8 rating_seguridad=7 rating_comodidad=8 rating_impacto_ambiental=6 rating_tecnologia_conectividad=None rating_costes_uso=9\n",
      "Input prefs type: <class 'graph.perfil.state.PerfilUsuario'>\n",
      "DEBUG (Validation Perfil) ► Campo 'rating_tecnologia_conectividad' está vacío/None.\n",
      "DEBUG (Condición Perfil) ► Perfil INCOMPLETO. Se necesita pregunta.\n",
      "--- Ejecutando Nodo: preguntar_preferencias_node ---\n",
      "--- DEBUG CHECK PERFIL ---\n",
      "Input prefs object: apasionado_motor='no' valora_estetica='no' coche_principal_hogar='sí' uso_profesional='no' tipo_uso_profesional=None prefiere_diseno_exclusivo='sí' altura_mayor_190='no' peso_mayor_100='no' transporta_carga_voluminosa='no' necesita_espacio_objetos_especiales=None arrastra_remolque='sí' aventura=<NivelAventura.ninguna: 'ninguna'> solo_electricos='no' prioriza_baja_depreciacion='no' transmision_preferida=<Transmision.AUTOMATICO: 'automático'> rating_fiabilidad_durabilidad=8 rating_seguridad=7 rating_comodidad=8 rating_impacto_ambiental=6 rating_tecnologia_conectividad=None rating_costes_uso=9\n",
      "Input prefs type: <class 'graph.perfil.state.PerfilUsuario'>\n",
      "DEBUG (Validation Perfil) ► Campo 'rating_tecnologia_conectividad' está vacío/None.\n",
      "DEBUG (Preguntar Perfil) ► Perfil aún INCOMPLETO según checker.\n",
      "DEBUG (Preguntar Perfil) ► Pregunta fallback generada: En cuanto a la Tecnología y Conectividad del coche, ¿qué tan relevante es para ti (0-10)?\n",
      "WARN (Preguntar Perfil) ► Nodo ejecutado para preguntar, pero no había mensaje pendiente válido. Generando pregunta fallback.\n",
      "DEBUG (Preguntar Perfil) ► Mensaje final añadido: En cuanto a la Tecnología y Conectividad del coche, ¿qué tan relevante es para ti (0-10)?\n",
      "==================================\u001b[1m Ai Message \u001b[0m==================================\n",
      "\n",
      "En cuanto a la Tecnología y Conectividad del coche, ¿qué tan relevante es para ti (0-10)?\n"
     ]
    }
   ],
   "source": [
    "# Create a thread\n",
    "config = {\"configurable\": {\"thread_id\": \"1\"}}\n",
    "\n",
    "# Start conversation\n",
    "input_message = HumanMessage(content=\"6\")\n",
    "output = graph.invoke({\"messages\": [input_message]}, config) \n",
    "for m in output['messages'][-1:]:\n",
    "    m.pretty_print()"
   ]
  },
  {
   "cell_type": "code",
   "execution_count": 20,
   "metadata": {},
   "outputs": [
    {
     "name": "stdout",
     "output_type": "stream",
     "text": [
      "--- Ejecutando Nodo: route_based_on_state_node ---\n",
      "\n",
      "--- DEBUG: Evaluating Routing Decision ---\n",
      "--- DEBUG CHECK PERFIL ---\n",
      "Input prefs object: apasionado_motor='no' valora_estetica='no' coche_principal_hogar='sí' uso_profesional='no' tipo_uso_profesional=None prefiere_diseno_exclusivo='sí' altura_mayor_190='no' peso_mayor_100='no' transporta_carga_voluminosa='no' necesita_espacio_objetos_especiales=None arrastra_remolque='sí' aventura=<NivelAventura.ninguna: 'ninguna'> solo_electricos='no' prioriza_baja_depreciacion='no' transmision_preferida=<Transmision.AUTOMATICO: 'automático'> rating_fiabilidad_durabilidad=8 rating_seguridad=7 rating_comodidad=8 rating_impacto_ambiental=6 rating_tecnologia_conectividad=None rating_costes_uso=9\n",
      "Input prefs type: <class 'graph.perfil.state.PerfilUsuario'>\n",
      "DEBUG (Validation Perfil) ► Campo 'rating_tecnologia_conectividad' está vacío/None.\n",
      "DEBUG Router: Prefs OK? False\n",
      "--- DEBUG CHECK PASAJEROS ---\n",
      "Input info pasajeros: None\n",
      "DEBUG (Validation Pasajeros) ► Objeto InfoPasajeros es None.\n",
      "DEBUG Router: Pasajeros OK? False\n",
      "DEBUG (Validation Filtros) ► Objeto FiltrosInferidos es None.\n",
      "DEBUG Router: Filtros OK? False\n",
      "--- DEBUG CHECK ECONOMIA (Manual) ---\n",
      "Input econ object: None\n",
      "DEBUG (Validation Economía Manual) ► Objeto EconomiaUsuario es None.\n",
      "DEBUG Router: Economía OK? False\n",
      "DEBUG Router: Pesos Calculados? False\n",
      "DEBUG Router: Coches Buscados? False\n",
      "--- DEBUG CHECK PERFIL ---\n",
      "Input prefs object: apasionado_motor='no' valora_estetica='no' coche_principal_hogar='sí' uso_profesional='no' tipo_uso_profesional=None prefiere_diseno_exclusivo='sí' altura_mayor_190='no' peso_mayor_100='no' transporta_carga_voluminosa='no' necesita_espacio_objetos_especiales=None arrastra_remolque='sí' aventura=<NivelAventura.ninguna: 'ninguna'> solo_electricos='no' prioriza_baja_depreciacion='no' transmision_preferida=<Transmision.AUTOMATICO: 'automático'> rating_fiabilidad_durabilidad=8 rating_seguridad=7 rating_comodidad=8 rating_impacto_ambiental=6 rating_tecnologia_conectividad=None rating_costes_uso=9\n",
      "Input prefs type: <class 'graph.perfil.state.PerfilUsuario'>\n",
      "DEBUG (Validation Perfil) ► Campo 'rating_tecnologia_conectividad' está vacío/None.\n",
      "DEBUG Router: Decisión -> recopilar_preferencias\n",
      "--- Ejecutando Nodo: recopilar_preferencias_node ---\n",
      "DEBUG (Perfil) ► Último mensaje es HumanMessage o historial vacío, llamando a llm_solo_perfil...\n"
     ]
    },
    {
     "name": "stderr",
     "output_type": "stream",
     "text": [
      "INFO (RAG): HTTP Request: POST https://api.openai.com/v1/chat/completions \"HTTP/1.1 200 OK\"\n"
     ]
    },
    {
     "name": "stdout",
     "output_type": "stream",
     "text": [
      "DEBUG (Perfil) ► Respuesta llm_solo_perfil: preferencias_usuario=PerfilUsuario(apasionado_motor='no', valora_estetica='no', coche_principal_hogar='sí', uso_profesional='no', tipo_uso_profesional=None, prefiere_diseno_exclusivo='sí', altura_mayor_190='no', peso_mayor_100='no', transporta_carga_voluminosa='no', necesita_espacio_objetos_especiales=None, arrastra_remolque='sí', aventura=<NivelAventura.ninguna: 'ninguna'>, solo_electricos='no', prioriza_baja_depreciacion='no', transmision_preferida=<Transmision.AUTOMATICO: 'automático'>, rating_fiabilidad_durabilidad=8, rating_seguridad=7, rating_comodidad=8, rating_impacto_ambiental=6, rating_tecnologia_conectividad=9, rating_costes_uso=9) tipo_mensaje='CONFIRMACION' contenido_mensaje=''\n",
      "DEBUG (Perfil) ► Preferencias TRAS post-procesamiento: apasionado_motor='no' valora_estetica='no' coche_principal_hogar='sí' uso_profesional='no' tipo_uso_profesional=None prefiere_diseno_exclusivo='sí' altura_mayor_190='no' peso_mayor_100='no' transporta_carga_voluminosa='no' necesita_espacio_objetos_especiales=None arrastra_remolque='sí' aventura=<NivelAventura.ninguna: 'ninguna'> solo_electricos='no' prioriza_baja_depreciacion='no' transmision_preferida=<Transmision.AUTOMATICO: 'automático'> rating_fiabilidad_durabilidad=8 rating_seguridad=7 rating_comodidad=8 rating_impacto_ambiental=6 rating_tecnologia_conectividad=9 rating_costes_uso=9\n",
      "DEBUG (Perfil) ► Estado preferencias_usuario actualizado: apasionado_motor='no' valora_estetica='no' coche_principal_hogar='sí' uso_profesional='no' tipo_uso_profesional=None prefiere_diseno_exclusivo='sí' altura_mayor_190='no' peso_mayor_100='no' transporta_carga_voluminosa='no' necesita_espacio_objetos_especiales=None arrastra_remolque='sí' aventura=<NivelAventura.ninguna: 'ninguna'> solo_electricos='no' prioriza_baja_depreciacion='no' transmision_preferida=<Transmision.AUTOMATICO: 'automático'> rating_fiabilidad_durabilidad=8 rating_seguridad=7 rating_comodidad=8 rating_impacto_ambiental=6 rating_tecnologia_conectividad=9 rating_costes_uso=9\n",
      "DEBUG (Perfil) ► No hay mensaje pendiente.\n",
      "--- Ejecutando Nodo: validar_preferencias_node ---\n",
      "--- DEBUG CHECK PERFIL ---\n",
      "Input prefs object: apasionado_motor='no' valora_estetica='no' coche_principal_hogar='sí' uso_profesional='no' tipo_uso_profesional=None prefiere_diseno_exclusivo='sí' altura_mayor_190='no' peso_mayor_100='no' transporta_carga_voluminosa='no' necesita_espacio_objetos_especiales=None arrastra_remolque='sí' aventura=<NivelAventura.ninguna: 'ninguna'> solo_electricos='no' prioriza_baja_depreciacion='no' transmision_preferida=<Transmision.AUTOMATICO: 'automático'> rating_fiabilidad_durabilidad=8 rating_seguridad=7 rating_comodidad=8 rating_impacto_ambiental=6 rating_tecnologia_conectividad=9 rating_costes_uso=9\n",
      "Input prefs type: <class 'graph.perfil.state.PerfilUsuario'>\n",
      "DEBUG (Validation Perfil) ► Todos los campos obligatorios del perfil están presentes.\n",
      "DEBUG (Perfil) ► Validación: PerfilUsuario considerado COMPLETO.\n",
      "--- Evaluando Condición: ruta_decision_perfil ---\n",
      "DEBUG (Condición Perfil) ► Estado 'preferencias_usuario' recibido: apasionado_motor='no' valora_estetica='no' coche_principal_hogar='sí' uso_profesional='no' tipo_uso_profesional=None prefiere_diseno_exclusivo='sí' altura_mayor_190='no' peso_mayor_100='no' transporta_carga_voluminosa='no' necesita_espacio_objetos_especiales=None arrastra_remolque='sí' aventura=<NivelAventura.ninguna: 'ninguna'> solo_electricos='no' prioriza_baja_depreciacion='no' transmision_preferida=<Transmision.AUTOMATICO: 'automático'> rating_fiabilidad_durabilidad=8 rating_seguridad=7 rating_comodidad=8 rating_impacto_ambiental=6 rating_tecnologia_conectividad=9 rating_costes_uso=9\n",
      "DEBUG (Condición Perfil) ► Tipo de 'preferencias_usuario': <class 'graph.perfil.state.PerfilUsuario'>\n",
      "--- DEBUG CHECK PERFIL ---\n",
      "Input prefs object: apasionado_motor='no' valora_estetica='no' coche_principal_hogar='sí' uso_profesional='no' tipo_uso_profesional=None prefiere_diseno_exclusivo='sí' altura_mayor_190='no' peso_mayor_100='no' transporta_carga_voluminosa='no' necesita_espacio_objetos_especiales=None arrastra_remolque='sí' aventura=<NivelAventura.ninguna: 'ninguna'> solo_electricos='no' prioriza_baja_depreciacion='no' transmision_preferida=<Transmision.AUTOMATICO: 'automático'> rating_fiabilidad_durabilidad=8 rating_seguridad=7 rating_comodidad=8 rating_impacto_ambiental=6 rating_tecnologia_conectividad=9 rating_costes_uso=9\n",
      "Input prefs type: <class 'graph.perfil.state.PerfilUsuario'>\n",
      "DEBUG (Validation Perfil) ► Todos los campos obligatorios del perfil están presentes.\n",
      "DEBUG (Condición Perfil) ► Perfil COMPLETO. Avanzando a filtros.\n",
      "--- Ejecutando Nodo: recopilar_info_pasajeros_node ---\n",
      "DEBUG (Pasajeros) ► Último mensaje es HumanMessage o inicio de etapa, llamando a llm_pasajeros...\n"
     ]
    },
    {
     "name": "stderr",
     "output_type": "stream",
     "text": [
      "INFO (RAG): HTTP Request: POST https://api.openai.com/v1/chat/completions \"HTTP/1.1 200 OK\"\n"
     ]
    },
    {
     "name": "stdout",
     "output_type": "stream",
     "text": [
      "DEBUG (Pasajeros) ► Respuesta llm_pasajeros: info_pasajeros=InfoPasajeros(frecuencia=None, num_ninos_silla=None, num_otros_pasajeros=None) tipo_mensaje='PREGUNTA' contenido_mensaje='Para entender mejor el espacio que necesitas, ¿normalmente viajas solo/a o sueles llevar acompañantes?'\n",
      "DEBUG (Pasajeros) ► Tipo='PREGUNTA', Contenido='Para entender mejor el espacio que necesitas, ¿normalmente viajas solo/a o sueles llevar acompañantes?'\n",
      "DEBUG (Pasajeros) ► Info Pasajeros LLM: frecuencia=None num_ninos_silla=None num_otros_pasajeros=None\n",
      "DEBUG (Pasajeros) ► Estado info_pasajeros actualizado: frecuencia=None num_ninos_silla=None num_otros_pasajeros=None\n",
      "DEBUG (Pasajeros) ► Guardando mensaje pendiente: Para entender mejor el espacio que necesitas, ¿normalmente viajas solo/a o sueles llevar acompañantes?\n",
      "--- Ejecutando Nodo: validar_info_pasajeros_node ---\n",
      "--- DEBUG CHECK PASAJEROS ---\n",
      "Input info pasajeros: frecuencia=None num_ninos_silla=None num_otros_pasajeros=None\n",
      "DEBUG (Validation Pasajeros) ► info.frecuencia es None.\n",
      "DEBUG (Pasajeros) ► Validación: Info Pasajeros considerada INCOMPLETA.\n",
      "--- Evaluando Condición: ruta_decision_pasajeros ---\n",
      "--- DEBUG CHECK PASAJEROS ---\n",
      "Input info pasajeros: frecuencia=None num_ninos_silla=None num_otros_pasajeros=None\n",
      "DEBUG (Validation Pasajeros) ► info.frecuencia es None.\n",
      "DEBUG (Condición Pasajeros) ► INCOMPLETO. Se necesita pregunta.\n",
      "--- Ejecutando Nodo: preguntar_info_pasajeros_node ---\n",
      "--- DEBUG CHECK PASAJEROS ---\n",
      "Input info pasajeros: frecuencia=None num_ninos_silla=None num_otros_pasajeros=None\n",
      "DEBUG (Validation Pasajeros) ► info.frecuencia es None.\n",
      "DEBUG (Preguntar Pasajeros) ► Info Pasajeros aún INCOMPLETA según checker.\n",
      "DEBUG (Preguntar Pasajeros) ► Pregunta fallback generada: Cuéntame, ¿sueles viajar con acompañantes en el coche habitualmente? (nunca/ocasional/frecuente)\n",
      "DEBUG (Preguntar Pasajeros) ► Usando mensaje pendiente (pregunta LLM): Para entender mejor el espacio que necesitas, ¿normalmente viajas solo/a o sueles llevar acompañantes?\n",
      "DEBUG (Preguntar Pasajeros) ► Mensaje final añadido: Para entender mejor el espacio que necesitas, ¿normalmente viajas solo/a o sueles llevar acompañantes?\n",
      "==================================\u001b[1m Ai Message \u001b[0m==================================\n",
      "\n",
      "Para entender mejor el espacio que necesitas, ¿normalmente viajas solo/a o sueles llevar acompañantes?\n"
     ]
    }
   ],
   "source": [
    "# Create a thread\n",
    "config = {\"configurable\": {\"thread_id\": \"1\"}}\n",
    "\n",
    "# Start conversation\n",
    "input_message = HumanMessage(content=\"9\")\n",
    "output = graph.invoke({\"messages\": [input_message]}, config) \n",
    "for m in output['messages'][-1:]:\n",
    "    m.pretty_print()"
   ]
  },
  {
   "cell_type": "code",
   "execution_count": 21,
   "metadata": {},
   "outputs": [
    {
     "name": "stdout",
     "output_type": "stream",
     "text": [
      "--- Ejecutando Nodo: route_based_on_state_node ---\n",
      "\n",
      "--- DEBUG: Evaluating Routing Decision ---\n",
      "--- DEBUG CHECK PERFIL ---\n",
      "Input prefs object: apasionado_motor='no' valora_estetica='no' coche_principal_hogar='sí' uso_profesional='no' tipo_uso_profesional=None prefiere_diseno_exclusivo='sí' altura_mayor_190='no' peso_mayor_100='no' transporta_carga_voluminosa='no' necesita_espacio_objetos_especiales=None arrastra_remolque='sí' aventura=<NivelAventura.ninguna: 'ninguna'> solo_electricos='no' prioriza_baja_depreciacion='no' transmision_preferida=<Transmision.AUTOMATICO: 'automático'> rating_fiabilidad_durabilidad=8 rating_seguridad=7 rating_comodidad=8 rating_impacto_ambiental=6 rating_tecnologia_conectividad=9 rating_costes_uso=9\n",
      "Input prefs type: <class 'graph.perfil.state.PerfilUsuario'>\n",
      "DEBUG (Validation Perfil) ► Todos los campos obligatorios del perfil están presentes.\n",
      "DEBUG Router: Prefs OK? True\n",
      "--- DEBUG CHECK PASAJEROS ---\n",
      "Input info pasajeros: frecuencia=None num_ninos_silla=None num_otros_pasajeros=None\n",
      "DEBUG (Validation Pasajeros) ► info.frecuencia es None.\n",
      "DEBUG Router: Pasajeros OK? False\n",
      "DEBUG (Validation Filtros) ► Objeto FiltrosInferidos es None.\n",
      "DEBUG Router: Filtros OK? False\n",
      "--- DEBUG CHECK ECONOMIA (Manual) ---\n",
      "Input econ object: None\n",
      "DEBUG (Validation Economía Manual) ► Objeto EconomiaUsuario es None.\n",
      "DEBUG Router: Economía OK? False\n",
      "DEBUG Router: Pesos Calculados? False\n",
      "DEBUG Router: Coches Buscados? False\n",
      "--- DEBUG CHECK PERFIL ---\n",
      "Input prefs object: apasionado_motor='no' valora_estetica='no' coche_principal_hogar='sí' uso_profesional='no' tipo_uso_profesional=None prefiere_diseno_exclusivo='sí' altura_mayor_190='no' peso_mayor_100='no' transporta_carga_voluminosa='no' necesita_espacio_objetos_especiales=None arrastra_remolque='sí' aventura=<NivelAventura.ninguna: 'ninguna'> solo_electricos='no' prioriza_baja_depreciacion='no' transmision_preferida=<Transmision.AUTOMATICO: 'automático'> rating_fiabilidad_durabilidad=8 rating_seguridad=7 rating_comodidad=8 rating_impacto_ambiental=6 rating_tecnologia_conectividad=9 rating_costes_uso=9\n",
      "Input prefs type: <class 'graph.perfil.state.PerfilUsuario'>\n",
      "DEBUG (Validation Perfil) ► Todos los campos obligatorios del perfil están presentes.\n",
      "--- DEBUG CHECK PASAJEROS ---\n",
      "Input info pasajeros: frecuencia=None num_ninos_silla=None num_otros_pasajeros=None\n",
      "DEBUG (Validation Pasajeros) ► info.frecuencia es None.\n",
      "DEBUG Router: Decisión -> recopilar_info_pasajeros\n",
      "--- Ejecutando Nodo: recopilar_info_pasajeros_node ---\n",
      "DEBUG (Pasajeros) ► Último mensaje es HumanMessage o inicio de etapa, llamando a llm_pasajeros...\n"
     ]
    },
    {
     "name": "stderr",
     "output_type": "stream",
     "text": [
      "INFO (RAG): HTTP Request: POST https://api.openai.com/v1/chat/completions \"HTTP/1.1 200 OK\"\n"
     ]
    },
    {
     "name": "stdout",
     "output_type": "stream",
     "text": [
      "DEBUG (Pasajeros) ► Respuesta llm_pasajeros: info_pasajeros=InfoPasajeros(frecuencia='nunca', num_ninos_silla=0, num_otros_pasajeros=0) tipo_mensaje='CONFIRMACION' contenido_mensaje='Entendido, normalmente viajas solo.'\n",
      "DEBUG (Pasajeros) ► Tipo='CONFIRMACION', Contenido='Entendido, normalmente viajas solo.'\n",
      "DEBUG (Pasajeros) ► Info Pasajeros LLM: frecuencia='nunca' num_ninos_silla=0 num_otros_pasajeros=0\n",
      "DEBUG (Pasajeros) ► Estado info_pasajeros actualizado: frecuencia='nunca' num_ninos_silla=0 num_otros_pasajeros=0\n",
      "DEBUG (Pasajeros) ► Guardando mensaje pendiente: Entendido, normalmente viajas solo.\n",
      "--- Ejecutando Nodo: validar_info_pasajeros_node ---\n",
      "--- DEBUG CHECK PASAJEROS ---\n",
      "Input info pasajeros: frecuencia='nunca' num_ninos_silla=0 num_otros_pasajeros=0\n",
      "DEBUG (Validation Pasajeros) ► Frecuencia es 'nunca'. Considerado COMPLETO.\n",
      "DEBUG (Pasajeros) ► Validación: Info Pasajeros considerada COMPLETA.\n",
      "--- Evaluando Condición: ruta_decision_pasajeros ---\n",
      "--- DEBUG CHECK PASAJEROS ---\n",
      "Input info pasajeros: frecuencia='nunca' num_ninos_silla=0 num_otros_pasajeros=0\n",
      "DEBUG (Validation Pasajeros) ► Frecuencia es 'nunca'. Considerado COMPLETO.\n",
      "DEBUG (Condición Pasajeros) ► COMPLETO. Aplicando filtros derivados.\n",
      "--- Ejecutando Nodo: aplicar_filtros_pasajeros_node ---\n",
      "DEBUG (Aplicar Filtros Pasajeros) ► Info recibida: freq='nunca', X=0, Z=0\n",
      "DEBUG (Aplicar Filtros Pasajeros) ► Calculado plazas_min = 1\n",
      "DEBUG (Aplicar Filtros Pasajeros) ► Frecuencia es 'nunca' o None. Flags de priorizar_ancho y penalizar_puertas se mantienen en su default (False).\n",
      "DEBUG (Aplicar Filtros Pasajeros) ► Filtros actualizados (con plazas_min): estetica_min=None tipo_mecanica=None premium_min=None singular_min=None tipo_carroceria=None modo_adquisicion_recomendado=None precio_max_contado_recomendado=None cuota_max_calculada=None plazas_min=1\n",
      "--- Ejecutando Nodo: inferir_filtros_node ---\n",
      "DEBUG (Filtros) ► Preferencias de usuario disponibles. Procediendo...\n",
      "DEBUG (Filtros) ► Prompt para llm_solo_filtros (parcial): <Role>\n",
      "Eres un asistente técnico experto en vehículos. Tu función es traducir las preferencias generales de un usuario en filtros técnicos específicos para la búsqueda de coches. Debes basarte estrictamente en las preferencias proporcionadas y generar una respuesta JSON que SIEMPRE se ajuste al esquema `ResultadoSoloFiltros`.\n",
      "</Role>\n",
      "\n",
      "<Contexto_Preferencias_Usuario>\n",
      "\n",
      "<Esquema_JSON_Requerido>\n",
      "A continuación se detallan las preferencias del usuario recopiladas previamente. Úsalas como base INDISPE...\n"
     ]
    },
    {
     "name": "stderr",
     "output_type": "stream",
     "text": [
      "INFO (RAG): HTTP Request: POST https://api.openai.com/v1/chat/completions \"HTTP/1.1 200 OK\"\n"
     ]
    },
    {
     "name": "stdout",
     "output_type": "stream",
     "text": [
      "DEBUG (Filtros) ► Respuesta llm_solo_filtros: filtros_inferidos=FiltrosInferidos(estetica_min=1.0, tipo_mecanica=[<TipoMecanica.GASOLINA: 'GASOLINA'>, <TipoMecanica.BEV: 'BEV'>, <TipoMecanica.HEVG: 'HEVG'>], premium_min=1.0, singular_min=5.0, tipo_carroceria=None, modo_adquisicion_recomendado=None, precio_max_contado_recomendado=None, cuota_max_calculada=None, plazas_min=None) mensaje_validacion='Ok, he definido los filtros técnicos basados en tus preferencias.'\n",
      "\n",
      "--- DEBUG DENTRO PostProc Filtros ---\n",
      "Recibido Prefs: apasionado_motor='no' valora_estetica='no' coche_principal_hogar='sí' uso_profesional='no' tipo_uso_profesional=None prefiere_diseno_exclusivo='sí' altura_mayor_190='no' peso_mayor_100='no' transporta_carga_voluminosa='no' necesita_espacio_objetos_especiales=None arrastra_remolque='sí' aventura=<NivelAventura.ninguna: 'ninguna'> solo_electricos='no' prioriza_baja_depreciacion='no' transmision_preferida=<Transmision.AUTOMATICO: 'automático'> rating_fiabilidad_durabilidad=8 rating_seguridad=7 rating_comodidad=8 rating_impacto_ambiental=6 rating_tecnologia_conectividad=9 rating_costes_uso=9\n",
      "Recibido Filtros (antes): estetica_min=1.0 tipo_mecanica=[<TipoMecanica.GASOLINA: 'GASOLINA'>, <TipoMecanica.BEV: 'BEV'>, <TipoMecanica.HEVG: 'HEVG'>] premium_min=1.0 singular_min=5.0 tipo_carroceria=None modo_adquisicion_recomendado=None precio_max_contado_recomendado=None cuota_max_calculada=None plazas_min=None\n",
      "DEBUG PostProc Filtros: Evaluando premium_min. apasionado_motor='no'\n",
      "DEBUG PostProc Filtros: Evaluando singular_min. apasionado_motor='no', prefiere_exclusivo='sí'\n",
      "DEBUG PostProc Filtros: apasionado_motor!='sí', suma +1.0 a singular_min. Subtotal: 1.0\n",
      "DEBUG PostProc Filtros: prefiere_diseno_exclusivo='sí', suma +3.0 a singular_min. Total: 4.0\n",
      "DEBUG (PostProc Filtros) ► Aplicando regla singular (aditiva): de 5.0 a 4.0\n",
      "--- FIN DEBUG DENTRO PostProc Filtros --- Filtros actualizados finales: estetica_min=1.0 tipo_mecanica=[<TipoMecanica.GASOLINA: 'GASOLINA'>, <TipoMecanica.BEV: 'BEV'>, <TipoMecanica.HEVG: 'HEVG'>] premium_min=1.0 singular_min=4.0 tipo_carroceria=None modo_adquisicion_recomendado=None precio_max_contado_recomendado=None cuota_max_calculada=None plazas_min=None\n",
      "DEBUG (Filtros) ► Filtros TRAS post-procesamiento: estetica_min=1.0 tipo_mecanica=[<TipoMecanica.GASOLINA: 'GASOLINA'>, <TipoMecanica.BEV: 'BEV'>, <TipoMecanica.HEVG: 'HEVG'>] premium_min=1.0 singular_min=4.0 tipo_carroceria=None modo_adquisicion_recomendado=None precio_max_contado_recomendado=None cuota_max_calculada=None plazas_min=None\n",
      "DEBUG (Filtros) ► Estado filtros_inferidos actualizado: estetica_min=1.0 tipo_mecanica=[<TipoMecanica.GASOLINA: 'GASOLINA'>, <TipoMecanica.BEV: 'BEV'>, <TipoMecanica.HEVG: 'HEVG'>] premium_min=1.0 singular_min=4.0 tipo_carroceria=None modo_adquisicion_recomendado=None precio_max_contado_recomendado=None cuota_max_calculada=None plazas_min=None\n",
      "--- Ejecutando Nodo: validar_filtros_node ---\n",
      "DEBUG (Validation Filtros) ► Todos los campos obligatorios de filtros ('tipo_mecanica') están presentes y válidos.\n",
      "DEBUG (Filtros) ► Validación: FiltrosInferidos considerados COMPLETOS.\n",
      "--- Evaluando Condición: ruta_decision_filtros ---\n",
      "DEBUG (Validation Filtros) ► Todos los campos obligatorios de filtros ('tipo_mecanica') están presentes y válidos.\n",
      "DEBUG (Condición Filtros) ► Filtros COMPLETOS. Avanzando a economía.\n",
      "--- Ejecutando Nodo: recopilar_economia_node ---\n",
      "DEBUG (Economía) ► Llamando a llm_economia...\n"
     ]
    },
    {
     "name": "stderr",
     "output_type": "stream",
     "text": [
      "INFO (RAG): HTTP Request: POST https://api.openai.com/v1/chat/completions \"HTTP/1.1 200 OK\"\n"
     ]
    },
    {
     "name": "stdout",
     "output_type": "stream",
     "text": [
      "DEBUG (Economía) ► Respuesta llm_economia: economia=EconomiaUsuario(modo=None, submodo=None, ingresos=None, ahorro=None, pago_contado=None, cuota_max=None, entrada=None, anos_posesion=None) mensaje_validacion='Con el fin de conocer tus preferencias financieras que opcion prefieres:\\n  1. Prefiero que me aconsejes con criterios de inteligencia financiera.\\n  2. Prefiero indicar yo mismo cuánto y cómo gastar.'\n",
      "DEBUG (Economía) ► Estado economía actualizado: modo=None submodo=None ingresos=None ahorro=None pago_contado=None cuota_max=None entrada=None anos_posesion=None\n",
      "DEBUG (Economía) ► Guardando pregunta pendiente: Con el fin de conocer tus preferencias financieras que opcion prefieres:\n",
      "  1. Prefiero que me aconsejes con criterios de inteligencia financiera.\n",
      "  2. Prefiero indicar yo mismo cuánto y cómo gastar.\n",
      "--- Ejecutando Nodo: validar_economia_node ---\n",
      "--- DEBUG CHECK ECONOMIA (Manual) ---\n",
      "Input econ object: modo=None submodo=None ingresos=None ahorro=None pago_contado=None cuota_max=None entrada=None anos_posesion=None\n",
      "DEBUG (Validation Economía Manual) ► econ.modo es None.\n",
      "DEBUG (Economía) ► Validación: Economía considerada INCOMPLETA.\n",
      "--- Evaluando Condición: ruta_decision_economia ---\n",
      "--- DEBUG CHECK ECONOMIA (Manual) ---\n",
      "Input econ object: modo=None submodo=None ingresos=None ahorro=None pago_contado=None cuota_max=None entrada=None anos_posesion=None\n",
      "DEBUG (Validation Economía Manual) ► econ.modo es None.\n",
      "DEBUG (Condición Economía) ► Economía INCOMPLETA. Se necesita pregunta.\n",
      "--- Ejecutando Nodo: preguntar_economia_node ---\n",
      "DEBUG (Preguntar Economía) ► Usando pregunta guardada: Con el fin de conocer tus preferencias financieras que opcion prefieres:\n",
      "  1. Prefiero que me aconsejes con criterios de inteligencia financiera.\n",
      "  2. Prefiero indicar yo mismo cuánto y cómo gastar.\n",
      "DEBUG (Preguntar Economía) ► Mensaje final añadido: Con el fin de conocer tus preferencias financieras que opcion prefieres:\n",
      "  1. Prefiero que me aconsejes con criterios de inteligencia financiera.\n",
      "  2. Prefiero indicar yo mismo cuánto y cómo gastar.\n",
      "==================================\u001b[1m Ai Message \u001b[0m==================================\n",
      "\n",
      "Con el fin de conocer tus preferencias financieras que opcion prefieres:\n",
      "  1. Prefiero que me aconsejes con criterios de inteligencia financiera.\n",
      "  2. Prefiero indicar yo mismo cuánto y cómo gastar.\n"
     ]
    }
   ],
   "source": [
    "# Create a thread\n",
    "config = {\"configurable\": {\"thread_id\": \"1\"}}\n",
    "\n",
    "# Start conversation\n",
    "input_message = HumanMessage(content=\"viajo solo\")\n",
    "output = graph.invoke({\"messages\": [input_message]}, config) \n",
    "for m in output['messages'][-1:]:\n",
    "    m.pretty_print()"
   ]
  },
  {
   "cell_type": "code",
   "execution_count": 22,
   "metadata": {},
   "outputs": [
    {
     "name": "stdout",
     "output_type": "stream",
     "text": [
      "--- Ejecutando Nodo: route_based_on_state_node ---\n",
      "\n",
      "--- DEBUG: Evaluating Routing Decision ---\n",
      "--- DEBUG CHECK PERFIL ---\n",
      "Input prefs object: apasionado_motor='no' valora_estetica='no' coche_principal_hogar='sí' uso_profesional='no' tipo_uso_profesional=None prefiere_diseno_exclusivo='sí' altura_mayor_190='no' peso_mayor_100='no' transporta_carga_voluminosa='no' necesita_espacio_objetos_especiales=None arrastra_remolque='sí' aventura=<NivelAventura.ninguna: 'ninguna'> solo_electricos='no' prioriza_baja_depreciacion='no' transmision_preferida=<Transmision.AUTOMATICO: 'automático'> rating_fiabilidad_durabilidad=8 rating_seguridad=7 rating_comodidad=8 rating_impacto_ambiental=6 rating_tecnologia_conectividad=9 rating_costes_uso=9\n",
      "Input prefs type: <class 'graph.perfil.state.PerfilUsuario'>\n",
      "DEBUG (Validation Perfil) ► Todos los campos obligatorios del perfil están presentes.\n",
      "DEBUG Router: Prefs OK? True\n",
      "--- DEBUG CHECK PASAJEROS ---\n",
      "Input info pasajeros: frecuencia='nunca' num_ninos_silla=0 num_otros_pasajeros=0\n",
      "DEBUG (Validation Pasajeros) ► Frecuencia es 'nunca'. Considerado COMPLETO.\n",
      "DEBUG Router: Pasajeros OK? True\n",
      "DEBUG (Validation Filtros) ► Todos los campos obligatorios de filtros ('tipo_mecanica') están presentes y válidos.\n",
      "DEBUG Router: Filtros OK? True\n",
      "--- DEBUG CHECK ECONOMIA (Manual) ---\n",
      "Input econ object: modo=None submodo=None ingresos=None ahorro=None pago_contado=None cuota_max=None entrada=None anos_posesion=None\n",
      "DEBUG (Validation Economía Manual) ► econ.modo es None.\n",
      "DEBUG Router: Economía OK? False\n",
      "DEBUG Router: Pesos Calculados? False\n",
      "DEBUG Router: Coches Buscados? False\n",
      "--- DEBUG CHECK PERFIL ---\n",
      "Input prefs object: apasionado_motor='no' valora_estetica='no' coche_principal_hogar='sí' uso_profesional='no' tipo_uso_profesional=None prefiere_diseno_exclusivo='sí' altura_mayor_190='no' peso_mayor_100='no' transporta_carga_voluminosa='no' necesita_espacio_objetos_especiales=None arrastra_remolque='sí' aventura=<NivelAventura.ninguna: 'ninguna'> solo_electricos='no' prioriza_baja_depreciacion='no' transmision_preferida=<Transmision.AUTOMATICO: 'automático'> rating_fiabilidad_durabilidad=8 rating_seguridad=7 rating_comodidad=8 rating_impacto_ambiental=6 rating_tecnologia_conectividad=9 rating_costes_uso=9\n",
      "Input prefs type: <class 'graph.perfil.state.PerfilUsuario'>\n",
      "DEBUG (Validation Perfil) ► Todos los campos obligatorios del perfil están presentes.\n",
      "--- DEBUG CHECK PASAJEROS ---\n",
      "Input info pasajeros: frecuencia='nunca' num_ninos_silla=0 num_otros_pasajeros=0\n",
      "DEBUG (Validation Pasajeros) ► Frecuencia es 'nunca'. Considerado COMPLETO.\n",
      "DEBUG (Validation Filtros) ► Todos los campos obligatorios de filtros ('tipo_mecanica') están presentes y válidos.\n",
      "--- DEBUG CHECK ECONOMIA (Manual) ---\n",
      "Input econ object: modo=None submodo=None ingresos=None ahorro=None pago_contado=None cuota_max=None entrada=None anos_posesion=None\n",
      "DEBUG (Validation Economía Manual) ► econ.modo es None.\n",
      "DEBUG Router: Decisión -> recopilar_economia\n",
      "--- Ejecutando Nodo: recopilar_economia_node ---\n",
      "DEBUG (Economía) ► Llamando a llm_economia...\n"
     ]
    },
    {
     "name": "stderr",
     "output_type": "stream",
     "text": [
      "INFO (RAG): HTTP Request: POST https://api.openai.com/v1/chat/completions \"HTTP/1.1 200 OK\"\n"
     ]
    },
    {
     "name": "stdout",
     "output_type": "stream",
     "text": [
      "DEBUG (Economía) ► Respuesta llm_economia: economia=EconomiaUsuario(modo=2, submodo=None, ingresos=None, ahorro=None, pago_contado=None, cuota_max=None, entrada=None, anos_posesion=None) mensaje_validacion='¿Prefieres indicar un pago total al contado o una cuota mensual máxima?'\n",
      "DEBUG (Economía) ► Estado economía actualizado: modo=2 submodo=None ingresos=None ahorro=None pago_contado=None cuota_max=None entrada=None anos_posesion=None\n",
      "DEBUG (Economía) ► Guardando pregunta pendiente: ¿Prefieres indicar un pago total al contado o una cuota mensual máxima?\n",
      "--- Ejecutando Nodo: validar_economia_node ---\n",
      "--- DEBUG CHECK ECONOMIA (Manual) ---\n",
      "Input econ object: modo=2 submodo=None ingresos=None ahorro=None pago_contado=None cuota_max=None entrada=None anos_posesion=None\n",
      "DEBUG (Validation Economía Manual) ► Modo 2 INCOMPLETO (submodo inválido o None: None).\n",
      "DEBUG (Economía) ► Validación: Economía considerada INCOMPLETA.\n",
      "--- Evaluando Condición: ruta_decision_economia ---\n",
      "--- DEBUG CHECK ECONOMIA (Manual) ---\n",
      "Input econ object: modo=2 submodo=None ingresos=None ahorro=None pago_contado=None cuota_max=None entrada=None anos_posesion=None\n",
      "DEBUG (Validation Economía Manual) ► Modo 2 INCOMPLETO (submodo inválido o None: None).\n",
      "DEBUG (Condición Economía) ► Economía INCOMPLETA. Se necesita pregunta.\n",
      "--- Ejecutando Nodo: preguntar_economia_node ---\n",
      "DEBUG (Preguntar Economía) ► Usando pregunta guardada: ¿Prefieres indicar un pago total al contado o una cuota mensual máxima?\n",
      "DEBUG (Preguntar Economía) ► Mensaje final añadido: ¿Prefieres indicar un pago total al contado o una cuota mensual máxima?\n",
      "==================================\u001b[1m Ai Message \u001b[0m==================================\n",
      "\n",
      "¿Prefieres indicar un pago total al contado o una cuota mensual máxima?\n"
     ]
    }
   ],
   "source": [
    "# Create a thread\n",
    "config = {\"configurable\": {\"thread_id\": \"1\"}}\n",
    "\n",
    "# Start conversation\n",
    "input_message = HumanMessage(content=\"la 2\")\n",
    "output = graph.invoke({\"messages\": [input_message]}, config) \n",
    "for m in output['messages'][-1:]:\n",
    "    m.pretty_print()"
   ]
  },
  {
   "cell_type": "code",
   "execution_count": 23,
   "metadata": {},
   "outputs": [
    {
     "name": "stdout",
     "output_type": "stream",
     "text": [
      "--- Ejecutando Nodo: route_based_on_state_node ---\n",
      "\n",
      "--- DEBUG: Evaluating Routing Decision ---\n",
      "--- DEBUG CHECK PERFIL ---\n",
      "Input prefs object: apasionado_motor='no' valora_estetica='no' coche_principal_hogar='sí' uso_profesional='no' tipo_uso_profesional=None prefiere_diseno_exclusivo='sí' altura_mayor_190='no' peso_mayor_100='no' transporta_carga_voluminosa='no' necesita_espacio_objetos_especiales=None arrastra_remolque='sí' aventura=<NivelAventura.ninguna: 'ninguna'> solo_electricos='no' prioriza_baja_depreciacion='no' transmision_preferida=<Transmision.AUTOMATICO: 'automático'> rating_fiabilidad_durabilidad=8 rating_seguridad=7 rating_comodidad=8 rating_impacto_ambiental=6 rating_tecnologia_conectividad=9 rating_costes_uso=9\n",
      "Input prefs type: <class 'graph.perfil.state.PerfilUsuario'>\n",
      "DEBUG (Validation Perfil) ► Todos los campos obligatorios del perfil están presentes.\n",
      "DEBUG Router: Prefs OK? True\n",
      "--- DEBUG CHECK PASAJEROS ---\n",
      "Input info pasajeros: frecuencia='nunca' num_ninos_silla=0 num_otros_pasajeros=0\n",
      "DEBUG (Validation Pasajeros) ► Frecuencia es 'nunca'. Considerado COMPLETO.\n",
      "DEBUG Router: Pasajeros OK? True\n",
      "DEBUG (Validation Filtros) ► Todos los campos obligatorios de filtros ('tipo_mecanica') están presentes y válidos.\n",
      "DEBUG Router: Filtros OK? True\n",
      "--- DEBUG CHECK ECONOMIA (Manual) ---\n",
      "Input econ object: modo=2 submodo=None ingresos=None ahorro=None pago_contado=None cuota_max=None entrada=None anos_posesion=None\n",
      "DEBUG (Validation Economía Manual) ► Modo 2 INCOMPLETO (submodo inválido o None: None).\n",
      "DEBUG Router: Economía OK? False\n",
      "DEBUG Router: Pesos Calculados? False\n",
      "DEBUG Router: Coches Buscados? False\n",
      "--- DEBUG CHECK PERFIL ---\n",
      "Input prefs object: apasionado_motor='no' valora_estetica='no' coche_principal_hogar='sí' uso_profesional='no' tipo_uso_profesional=None prefiere_diseno_exclusivo='sí' altura_mayor_190='no' peso_mayor_100='no' transporta_carga_voluminosa='no' necesita_espacio_objetos_especiales=None arrastra_remolque='sí' aventura=<NivelAventura.ninguna: 'ninguna'> solo_electricos='no' prioriza_baja_depreciacion='no' transmision_preferida=<Transmision.AUTOMATICO: 'automático'> rating_fiabilidad_durabilidad=8 rating_seguridad=7 rating_comodidad=8 rating_impacto_ambiental=6 rating_tecnologia_conectividad=9 rating_costes_uso=9\n",
      "Input prefs type: <class 'graph.perfil.state.PerfilUsuario'>\n",
      "DEBUG (Validation Perfil) ► Todos los campos obligatorios del perfil están presentes.\n",
      "--- DEBUG CHECK PASAJEROS ---\n",
      "Input info pasajeros: frecuencia='nunca' num_ninos_silla=0 num_otros_pasajeros=0\n",
      "DEBUG (Validation Pasajeros) ► Frecuencia es 'nunca'. Considerado COMPLETO.\n",
      "DEBUG (Validation Filtros) ► Todos los campos obligatorios de filtros ('tipo_mecanica') están presentes y válidos.\n",
      "--- DEBUG CHECK ECONOMIA (Manual) ---\n",
      "Input econ object: modo=2 submodo=None ingresos=None ahorro=None pago_contado=None cuota_max=None entrada=None anos_posesion=None\n",
      "DEBUG (Validation Economía Manual) ► Modo 2 INCOMPLETO (submodo inválido o None: None).\n",
      "DEBUG Router: Decisión -> recopilar_economia\n",
      "--- Ejecutando Nodo: recopilar_economia_node ---\n",
      "DEBUG (Economía) ► Llamando a llm_economia...\n"
     ]
    },
    {
     "name": "stderr",
     "output_type": "stream",
     "text": [
      "INFO (RAG): HTTP Request: POST https://api.openai.com/v1/chat/completions \"HTTP/1.1 200 OK\"\n",
      "INFO (RAG): Cargando índice FAISS desde ./faiss_carroceria_index...\n",
      "INFO (RAG): Loading faiss.\n"
     ]
    },
    {
     "name": "stdout",
     "output_type": "stream",
     "text": [
      "DEBUG (Economía) ► Respuesta llm_economia: economia=EconomiaUsuario(modo=2, submodo=1, ingresos=None, ahorro=None, pago_contado=12000.0, cuota_max=None, entrada=None, anos_posesion=None) mensaje_validacion='¡Entendido! Ya tengo los datos necesarios para el Modo 2.'\n",
      "DEBUG (Economía) ► Estado economía actualizado: modo=2 submodo=1 ingresos=None ahorro=None pago_contado=12000.0 cuota_max=None entrada=None anos_posesion=None\n",
      "DEBUG (Economía) ► Guardando pregunta pendiente: ¡Entendido! Ya tengo los datos necesarios para el Modo 2.\n",
      "--- Ejecutando Nodo: validar_economia_node ---\n",
      "--- DEBUG CHECK ECONOMIA (Manual) ---\n",
      "Input econ object: modo=2 submodo=1 ingresos=None ahorro=None pago_contado=12000.0 cuota_max=None entrada=None anos_posesion=None\n",
      "DEBUG (Validation Economía Manual) ► Modo 2/Submodo 1 completo (pago_contado presente).\n",
      "DEBUG (Economía) ► Validación: Economía considerada COMPLETA.\n",
      "--- Evaluando Condición: ruta_decision_economia ---\n",
      "--- DEBUG CHECK ECONOMIA (Manual) ---\n",
      "Input econ object: modo=2 submodo=1 ingresos=None ahorro=None pago_contado=12000.0 cuota_max=None entrada=None anos_posesion=None\n",
      "DEBUG (Validation Economía Manual) ► Modo 2/Submodo 1 completo (pago_contado presente).\n",
      "DEBUG (Condición Economía) ► Economía COMPLETA. Avanzando a finalizar.\n",
      "--- Ejecutando Nodo: finalizar_y_presentar_node ---\n",
      "DEBUG (Finalizar) ► Verificando si aplica lógica Modo 1...\n",
      "DEBUG (Finalizar) ► Modo no es 1, omitiendo cálculo de recomendación.\n",
      "DEBUG (Finalizar) ► Llamando a RAG...\n"
     ]
    },
    {
     "name": "stderr",
     "output_type": "stream",
     "text": [
      "INFO (RAG): Successfully loaded faiss.\n",
      "INFO (RAG): Failed to load GPU Faiss: name 'GpuIndexIVFFlat' is not defined. Will not load constructor refs for GPU indexes.\n",
      "INFO (RAG): Índice FAISS cargado exitosamente desde disco.\n",
      "INFO (RAG): INFO (RAG) ► Usuario arrastra remolque. Enriqueciendo query RAG para capacidad de arrastre.\n",
      "INFO (RAG): INFO (RAG) ► Rating Comodidad alto. Enriqueciendo query para confort.\n",
      "INFO (RAG): INFO (RAG) ► Query RAG construida: 'capacidad de carga  transportar cargas grandes robusto estructura resistente remolcar caravana ciudad asfalto uso diario practicidad maniobrable comodidad y confort mascotas derivado de un 2VOL o 3VOL SUV familiar cómodo monovolumen espacioso' con k=3\n"
     ]
    },
    {
     "name": "stdout",
     "output_type": "stream",
     "text": [
      "DEBUG (RAG Query Construida) ► Partes: ['capacidad de carga', ' transportar cargas grandes', 'robusto', 'estructura resistente', 'remolcar caravana', 'ciudad', 'asfalto', 'uso diario', 'practicidad', 'maniobrable', 'comodidad y confort', 'mascotas', 'derivado de un 2VOL o 3VOL', 'SUV familiar cómodo', 'monovolumen espacioso'] -> Query: 'capacidad de carga  transportar cargas grandes robusto estructura resistente remolcar caravana ciudad asfalto uso diario practicidad maniobrable comodidad y confort mascotas derivado de un 2VOL o 3VOL SUV familiar cómodo monovolumen espacioso'\n"
     ]
    },
    {
     "name": "stderr",
     "output_type": "stream",
     "text": [
      "INFO (RAG): HTTP Request: POST https://api.openai.com/v1/embeddings \"HTTP/1.1 200 OK\"\n",
      "INFO (RAG): INFO (RAG) ► Perfil urbano/particular/sin carga. Aplicando post-filtro, excluyendo: {'AUTOCARAVANA', 'PICKUP', 'COMERCIAL', 'TODOTERRENO'}\n",
      "INFO (RAG): INFO (RAG) ► Tipos de carrocería recomendados por RAG (final, top 3): ['FAMILIAR', 'SUV', 'MONOVOLUMEN']\n"
     ]
    },
    {
     "name": "stdout",
     "output_type": "stream",
     "text": [
      "DEBUG (Finalizar) ► RAG recomendó: ['FAMILIAR', 'SUV', 'MONOVOLUMEN']\n",
      "DEBUG (Finalizar) ► Rating Comodidad (8) >= 7. Activando flags de penalización.\n",
      "DEBUG (Finalizar) ► Rating Tecnología (9) >= 7. Activando flag de penalización por antigüedad.\n",
      "DEBUG (Finalizar) ► Calculando pesos...\n",
      "DEBUG (Weights) ► Pesos crudos iniciales (est/prem/sing): {'estetica': 1.0, 'premium': 1.0, 'singular': 4.0}\n",
      "DEBUG (Weights) ► Pesos crudos tras añadir aventura: {'estetica': 1.0, 'premium': 1.0, 'singular': 4.0, 'altura_libre_suelo': 0.0, 'traccion': 0.0, 'reductoras': 0.0}\n",
      "DEBUG (Weights) ► Usuario NO alto. Asignando pesos bajos a batalla/índice.\n",
      "DEBUG (Weights) ► Pesos crudos tras añadir dims por altura: {'estetica': 1.0, 'premium': 1.0, 'singular': 4.0, 'altura_libre_suelo': 0.0, 'traccion': 0.0, 'reductoras': 0.0, 'batalla': 1.0, 'indice_altura_interior': 1.0}\n",
      "DEBUG (Weights) ► Priorizar Ancho=False/None. Asignando peso crudo bajo a ancho: 1.0\n",
      "DEBUG (Weights) ► Peso crudo para devaluacion (basado en prioriza_baja_depreciacion='no'): 1.0\n",
      "DEBUG (Weights) ► Comodidad alta (8). Aumentando pesos para índice_altura y autonomía.\n",
      "DEBUG (Weights) ► Costes de Uso alto (9). Activando pesos para bajo consumo, bajo coste uso y mantenimiento.\n",
      "DEBUG (Weights) ► Usuario arrastra remolque. Aplicando pesos específicos.\n",
      "DEBUG (Weights) ► Pesos crudos tras añadir ratings: {'estetica': 1.0, 'premium': 1.0, 'singular': 4.0, 'altura_libre_suelo': 0.0, 'traccion': 0.0, 'reductoras': 0.0, 'batalla': 1.0, 'indice_altura_interior': 5.0, 'ancho': 1.0, 'devaluacion': 1.0, 'rating_fiabilidad_durabilidad': 8.0, 'rating_seguridad': 7.0, 'rating_comodidad': 8.0, 'rating_impacto_ambiental': 6.0, 'rating_tecnologia_conectividad': 9.0, 'maletero_minimo_score': 1.0, 'maletero_maximo_score': 1.0, 'largo_vehiculo_score': 1.0, 'autonomia_vehiculo': 5.0, 'fav_bajo_peso': 0.0, 'fav_bajo_consumo': 5.0, 'rating_costes_uso': 9.0, 'fav_bajo_coste_uso_directo': 9.0, 'fav_bajo_coste_mantenimiento_directo': 7.0, 'par_motor_remolque_score': 6.0, 'cap_remolque_cf_score': 7.0, 'cap_remolque_sf_score': 3.0}\n",
      "DEBUG (Normalize Weights) ► Pesos Normalizados: {'estetica': 0.009433962264150943, 'premium': 0.009433962264150943, 'singular': 0.03773584905660377, 'altura_libre_suelo': 0.0, 'traccion': 0.0, 'reductoras': 0.0, 'batalla': 0.009433962264150943, 'indice_altura_interior': 0.04716981132075472, 'ancho': 0.009433962264150943, 'devaluacion': 0.009433962264150943, 'rating_fiabilidad_durabilidad': 0.07547169811320754, 'rating_seguridad': 0.0660377358490566, 'rating_comodidad': 0.07547169811320754, 'rating_impacto_ambiental': 0.05660377358490566, 'rating_tecnologia_conectividad': 0.08490566037735849, 'maletero_minimo_score': 0.009433962264150943, 'maletero_maximo_score': 0.009433962264150943, 'largo_vehiculo_score': 0.009433962264150943, 'autonomia_vehiculo': 0.04716981132075472, 'fav_bajo_peso': 0.0, 'fav_bajo_consumo': 0.04716981132075472, 'rating_costes_uso': 0.08490566037735849, 'fav_bajo_coste_uso_directo': 0.08490566037735849, 'fav_bajo_coste_mantenimiento_directo': 0.0660377358490566, 'par_motor_remolque_score': 0.05660377358490566, 'cap_remolque_cf_score': 0.0660377358490566, 'cap_remolque_sf_score': 0.02830188679245283}\n",
      "DEBUG (Finalizar) ► Pesos calculados: {'estetica': 0.009433962264150943, 'premium': 0.009433962264150943, 'singular': 0.03773584905660377, 'altura_libre_suelo': 0.0, 'traccion': 0.0, 'reductoras': 0.0, 'batalla': 0.009433962264150943, 'indice_altura_interior': 0.04716981132075472, 'ancho': 0.009433962264150943, 'devaluacion': 0.009433962264150943, 'rating_fiabilidad_durabilidad': 0.07547169811320754, 'rating_seguridad': 0.0660377358490566, 'rating_comodidad': 0.07547169811320754, 'rating_impacto_ambiental': 0.05660377358490566, 'rating_tecnologia_conectividad': 0.08490566037735849, 'maletero_minimo_score': 0.009433962264150943, 'maletero_maximo_score': 0.009433962264150943, 'largo_vehiculo_score': 0.009433962264150943, 'autonomia_vehiculo': 0.04716981132075472, 'fav_bajo_peso': 0.0, 'fav_bajo_consumo': 0.04716981132075472, 'rating_costes_uso': 0.08490566037735849, 'fav_bajo_coste_uso_directo': 0.08490566037735849, 'fav_bajo_coste_mantenimiento_directo': 0.0660377358490566, 'par_motor_remolque_score': 0.05660377358490566, 'cap_remolque_cf_score': 0.0660377358490566, 'cap_remolque_sf_score': 0.02830188679245283}\n",
      "DEBUG (Finalizar) ► Formateando tabla final...\n",
      "\n",
      "--- TABLA RESUMEN GENERADA (DEBUG) ---\n",
      "✅ He entendido lo siguiente sobre tus preferencias:\n",
      "\n",
      "| Preferencia              | Valor                      |\n",
      "|--------------------------|----------------------------|\n",
      "| Apasionado del motor    | No |\n",
      "| Estética                | No prioritaria |\n",
      "| Principal del Hogar     | Sí |\n",
      "| Uso                     | Particular |\n",
      "| Tipo de coche           | No necesariamente eléctrico |\n",
      "| Diseño exclusivo        | Sí (Exclusivo) |\n",
      "| Altura                  | Menor a 1.90 m |\n",
      "| Peso                    | Menor a 100 kg   |\n",
      "| Transmisión preferida   | Automático      |\n",
      "| Aventura                | Ninguna    |\n",
      "| Prioriza Baja Depreciación| No |\n",
      "\n",
      "📊 Importancia de Características (0-10):\n",
      "\n",
      "| Característica                   | Rating (0-10) |\n",
      "|----------------------------------|---------------|\n",
      "| Fiabilidad y Durabilidad         | 8 |\n",
      "| Seguridad                        | 7 |\n",
      "| Comodidad                        | 8 |\n",
      "| Impacto Ambiental                | 6 |\n",
      "| Costes de Uso/Mantenimiento      | 9 |\n",
      "| Tecnología y Conectividad        | 9 |\n",
      "\n",
      "🎯 Filtros técnicos inferidos:\n",
      "\n",
      "| Filtro técnico        | Valor                            |\n",
      "|-----------------------|----------------------------------|\n",
      "| Tipo de mecánica     | GASOLINA, BEV, HEVG |\n",
      "| Tipo de carrocería   | FAMILIAR, SUV, MONOVOLUMEN |\n",
      "| Estética mínima      | 1.0 |\n",
      "| Premium mínima       | 1.0 |\n",
      "| Singularidad mínima  | 4.0 |\n",
      "\n",
      "💰 Economía del usuario:\n",
      "\n",
      "| Concepto                | Valor               |\n",
      "|-------------------------|---------------------|\n",
      "| Modo                    | Presupuesto Definido |\n",
      "| Años Posesión Estimados | No especificado |\n",
      "| Tipo de Pago            | Pago Contado |\n",
      "| Presupuesto Contado     | 12.000 € |\n",
      "--------------------------------------\n",
      "\n",
      "--- Ejecutando Nodo: buscar_coches_finales_node ---\n",
      "DEBUG (Buscar BQ Init) ► Estado completo recibido: {'messages': [HumanMessage(content='quiero un coche, mido 1.50 y peso 70kg', additional_kwargs={}, response_metadata={}, id='8180e860-43a1-4c4a-8bad-cfe6b9879d9d'), AIMessage(content='¡Hola! Soy CarBlau, tu asistente para encontrar el coche ideal. Para comenzar, ¿eres un apasionado del mundo automotriz?', additional_kwargs={}, response_metadata={}, id='8e58ec92-aa6d-4be6-bd93-3a02de6bd99c'), HumanMessage(content='no', additional_kwargs={}, response_metadata={}, id='2f830b7b-d652-46ab-908e-d406b8956e2e'), AIMessage(content='¿Valora especialmente la estética del coche?', additional_kwargs={}, response_metadata={}, id='eb1f85fb-5e9e-40f3-8a22-6a0a858f546a'), HumanMessage(content='no', additional_kwargs={}, response_metadata={}, id='93642f2b-59fe-4beb-bb79-c1399b153f96'), AIMessage(content='¿El coche que estamos buscando será el vehículo principal de tu hogar?', additional_kwargs={}, response_metadata={}, id='cb46550c-540e-4b9a-8786-66f1df500db1'), HumanMessage(content='si, lo sera ', additional_kwargs={}, response_metadata={}, id='449b34ed-ab68-443c-81e2-16f482d54a20'), AIMessage(content='¿Usarás el coche para trabajo?', additional_kwargs={}, response_metadata={}, id='0016cec4-9a2f-4a6d-a07a-0fb808c74446'), HumanMessage(content='no', additional_kwargs={}, response_metadata={}, id='ac0619c8-15e4-43fe-85bc-da5120051fd3'), AIMessage(content=\"¿Prefieres un diseño de coche que sea exclusivo y te diferencie del resto? (Responde 'sí' o 'no')\", additional_kwargs={}, response_metadata={}, id='9f40a4bf-7186-4198-9a03-1145da4f95dc'), HumanMessage(content='SI', additional_kwargs={}, response_metadata={}, id='0671240b-43b9-41b0-b4cf-fee46b2c90ef'), AIMessage(content='Para garantizar tu máxima comodidad, ¿tienes un peso superior a 100 kg?', additional_kwargs={}, response_metadata={}, id='776c245c-4040-4a02-a59e-5588ce435e4d'), HumanMessage(content='no', additional_kwargs={}, response_metadata={}, id='3fed0b26-3497-4f75-9eb0-73a7db660794'), AIMessage(content='¿Transportas con frecuencia equipaje o carga voluminosa?', additional_kwargs={}, response_metadata={}, id='d0839fda-7c3b-4e58-9019-d80a4900ca95'), HumanMessage(content='no, nunca', additional_kwargs={}, response_metadata={}, id='f2f11922-0ad9-4180-98ad-63c60114090c'), AIMessage(content='¿Vas a arrastrar remolque pesado o caravana?', additional_kwargs={}, response_metadata={}, id='6cbf4a52-7a8d-45c5-afe0-bbb7bbf35f64'), HumanMessage(content='si', additional_kwargs={}, response_metadata={}, id='1602413f-3990-4e18-8179-f671f42f3652'), AIMessage(content='¿Qué tipo de transmisión prefieres?\\n 1) Automático\\n 2) Manual\\n 3) Ambos', additional_kwargs={}, response_metadata={}, id='01f31df4-77a4-4a17-acca-7a476d2de67a'), HumanMessage(content='automatico', additional_kwargs={}, response_metadata={}, id='eb7e9409-c43a-4264-acab-7a44999f782a'), AIMessage(content=\"¿Qué nivel de aventura buscas con tu vehículo: 'ninguna', 'ocasional' o 'extrema'?\", additional_kwargs={}, response_metadata={}, id='cb85c3ae-ab5e-4dcd-8b45-a85610e88761'), HumanMessage(content='ninguna', additional_kwargs={}, response_metadata={}, id='d5159736-3ac5-45a9-8b1f-744bcaeb7c37'), AIMessage(content=\"¿Es importante para ti que la depreciación del coche sea lo más baja posible? (Responde 'sí' o 'no')\", additional_kwargs={}, response_metadata={}, id='404737ed-feb4-4b95-9e5e-d06fb9a9122e'), HumanMessage(content='no', additional_kwargs={}, response_metadata={}, id='10bd014f-d3f7-4336-84ab-6be76ee9ee19'), AIMessage(content='¿Estás interesado exclusivamente en vehículos con motorización eléctrica?', additional_kwargs={}, response_metadata={}, id='8370298f-afe0-4ea8-b585-f1920506b27c'), HumanMessage(content='no', additional_kwargs={}, response_metadata={}, id='dcf608ed-de12-45ab-a7cf-ae70bbc4846d'), AIMessage(content=\"¿Qué tan importante es para ti que el vehículo sea económico en su uso diario y mantenimiento? (donde 0 significa 'No es importante en absoluto' y 10 significa 'Es extremadamente importante')\", additional_kwargs={}, response_metadata={}, id='5ab0a24a-c569-44a4-9898-9755fdbcb6dd'), HumanMessage(content='9', additional_kwargs={}, response_metadata={}, id='b7ee8fc9-99be-4786-8920-e1aea56d04c8'), AIMessage(content='En una escala de 0 (nada importante) a 10 (extremadamente importante), ¿qué tan importante es para ti la Fiabilidad y Durabilidad del coche?', additional_kwargs={}, response_metadata={}, id='ccac428c-a767-483b-94af-5ce4b5b7663f'), HumanMessage(content='8', additional_kwargs={}, response_metadata={}, id='33a10540-25c6-43d5-855f-aae7226d2237'), AIMessage(content='Pensando en la Seguridad, ¿qué puntuación le darías en importancia (0-10)?', additional_kwargs={}, response_metadata={}, id='5d9a987a-8b07-4a2c-9e9b-def7a279ed96'), HumanMessage(content='7', additional_kwargs={}, response_metadata={}, id='7d9ee530-172b-41d5-bc5f-4e6629dc1fc2'), AIMessage(content='Y en cuanto a la Comodidad y confort del vehiculo que tan importante es que se maximice? (0-10)', additional_kwargs={}, response_metadata={}, id='e5e8e98b-e5e3-4db9-ab4a-3ca391905470'), HumanMessage(content='8', additional_kwargs={}, response_metadata={}, id='b714c38f-4084-4f4e-baeb-3e7200929938'), AIMessage(content='Considerando el Bajo Impacto Medioambiental, ¿qué importancia tiene esto para tu elección (0-10)?', additional_kwargs={}, response_metadata={}, id='0b771db0-aa32-4e9e-b9e8-5869a5b08260'), HumanMessage(content='6', additional_kwargs={}, response_metadata={}, id='daf3171f-010a-44e0-b681-2ed625d31341'), AIMessage(content='En cuanto a la Tecnología y Conectividad del coche, ¿qué tan relevante es para ti (0-10)?', additional_kwargs={}, response_metadata={}, id='0edaccbf-f2f5-464b-80c7-ad72f9d78a25'), HumanMessage(content='9', additional_kwargs={}, response_metadata={}, id='0b749d17-af5f-4823-b5c9-5a5bf482bd58'), AIMessage(content='Para entender mejor el espacio que necesitas, ¿normalmente viajas solo/a o sueles llevar acompañantes?', additional_kwargs={}, response_metadata={}, id='ecf7225a-4be7-412c-8922-a4bee1be9a4c'), HumanMessage(content='viajo solo', additional_kwargs={}, response_metadata={}, id='59d7e3fe-7939-4812-b2de-07a3d58268cf'), AIMessage(content='Con el fin de conocer tus preferencias financieras que opcion prefieres:\\n  1. Prefiero que me aconsejes con criterios de inteligencia financiera.\\n  2. Prefiero indicar yo mismo cuánto y cómo gastar.', additional_kwargs={}, response_metadata={}, id='619266c1-8ce4-4a13-9034-e83bb86e879e'), HumanMessage(content='la 2', additional_kwargs={}, response_metadata={}, id='2764d410-67d2-4b23-8f85-b09451212896'), AIMessage(content='¿Prefieres indicar un pago total al contado o una cuota mensual máxima?', additional_kwargs={}, response_metadata={}, id='0a207a61-a501-4cd6-a009-3a77c019f33b'), HumanMessage(content='contado con 12.000 maximo', additional_kwargs={}, response_metadata={}, id='15d03c53-d35f-4710-89fe-78398b532833'), AIMessage(content='✅ He entendido lo siguiente sobre tus preferencias:\\n\\n| Preferencia              | Valor                      |\\n|--------------------------|----------------------------|\\n| Apasionado del motor    | No |\\n| Estética                | No prioritaria |\\n| Principal del Hogar     | Sí |\\n| Uso                     | Particular |\\n| Tipo de coche           | No necesariamente eléctrico |\\n| Diseño exclusivo        | Sí (Exclusivo) |\\n| Altura                  | Menor a 1.90 m |\\n| Peso                    | Menor a 100 kg   |\\n| Transmisión preferida   | Automático      |\\n| Aventura                | Ninguna    |\\n| Prioriza Baja Depreciación| No |\\n\\n📊 Importancia de Características (0-10):\\n\\n| Característica                   | Rating (0-10) |\\n|----------------------------------|---------------|\\n| Fiabilidad y Durabilidad         | 8 |\\n| Seguridad                        | 7 |\\n| Comodidad                        | 8 |\\n| Impacto Ambiental                | 6 |\\n| Costes de Uso/Mantenimiento      | 9 |\\n| Tecnología y Conectividad        | 9 |\\n\\n🎯 Filtros técnicos inferidos:\\n\\n| Filtro técnico        | Valor                            |\\n|-----------------------|----------------------------------|\\n| Tipo de mecánica     | GASOLINA, BEV, HEVG |\\n| Tipo de carrocería   | FAMILIAR, SUV, MONOVOLUMEN |\\n| Estética mínima      | 1.0 |\\n| Premium mínima       | 1.0 |\\n| Singularidad mínima  | 4.0 |\\n\\n💰 Economía del usuario:\\n\\n| Concepto                | Valor               |\\n|-------------------------|---------------------|\\n| Modo                    | Presupuesto Definido |\\n| Años Posesión Estimados | No especificado |\\n| Tipo de Pago            | Pago Contado |\\n| Presupuesto Contado     | 12.000 € |', additional_kwargs={}, response_metadata={}, id='750d4353-2b13-4996-9db7-ac9bfaca3702')], 'preferencias_usuario': PerfilUsuario(apasionado_motor='no', valora_estetica='no', coche_principal_hogar='sí', uso_profesional='no', tipo_uso_profesional=None, prefiere_diseno_exclusivo='sí', altura_mayor_190='no', peso_mayor_100='no', transporta_carga_voluminosa='no', necesita_espacio_objetos_especiales=None, arrastra_remolque='sí', aventura=<NivelAventura.ninguna: 'ninguna'>, solo_electricos='no', prioriza_baja_depreciacion='no', transmision_preferida=<Transmision.AUTOMATICO: 'automático'>, rating_fiabilidad_durabilidad=8, rating_seguridad=7, rating_comodidad=8, rating_impacto_ambiental=6, rating_tecnologia_conectividad=9, rating_costes_uso=9), 'filtros_inferidos': FiltrosInferidos(estetica_min=1.0, tipo_mecanica=[<TipoMecanica.GASOLINA: 'GASOLINA'>, <TipoMecanica.BEV: 'BEV'>, <TipoMecanica.HEVG: 'HEVG'>], premium_min=1.0, singular_min=4.0, tipo_carroceria=['FAMILIAR', 'SUV', 'MONOVOLUMEN'], modo_adquisicion_recomendado=None, precio_max_contado_recomendado=None, cuota_max_calculada=None, plazas_min=None), 'economia': EconomiaUsuario(modo=2, submodo=1, ingresos=None, ahorro=None, pago_contado=12000.0, cuota_max=None, entrada=None, anos_posesion=None), 'pesos': {'estetica': 0.009433962264150943, 'premium': 0.009433962264150943, 'singular': 0.03773584905660377, 'altura_libre_suelo': 0.0, 'traccion': 0.0, 'reductoras': 0.0, 'batalla': 0.009433962264150943, 'indice_altura_interior': 0.04716981132075472, 'ancho': 0.009433962264150943, 'devaluacion': 0.009433962264150943, 'rating_fiabilidad_durabilidad': 0.07547169811320754, 'rating_seguridad': 0.0660377358490566, 'rating_comodidad': 0.07547169811320754, 'rating_impacto_ambiental': 0.05660377358490566, 'rating_tecnologia_conectividad': 0.08490566037735849, 'maletero_minimo_score': 0.009433962264150943, 'maletero_maximo_score': 0.009433962264150943, 'largo_vehiculo_score': 0.009433962264150943, 'autonomia_vehiculo': 0.04716981132075472, 'fav_bajo_peso': 0.0, 'fav_bajo_consumo': 0.04716981132075472, 'rating_costes_uso': 0.08490566037735849, 'fav_bajo_coste_uso_directo': 0.08490566037735849, 'fav_bajo_coste_mantenimiento_directo': 0.0660377358490566, 'par_motor_remolque_score': 0.05660377358490566, 'cap_remolque_cf_score': 0.0660377358490566, 'cap_remolque_sf_score': 0.02830188679245283}, 'pregunta_pendiente': None, 'coches_recomendados': None, 'info_pasajeros': InfoPasajeros(frecuencia='nunca', num_ninos_silla=0, num_otros_pasajeros=0), 'penalizar_puertas_bajas': False, 'priorizar_ancho': False, 'flag_penalizar_low_cost_comodidad': True, 'flag_penalizar_deportividad_comodidad': True, 'flag_penalizar_antiguo_por_tecnologia': True, 'aplicar_logica_distintivo_ambiental': False, 'tabla_resumen_criterios': '✅ He entendido lo siguiente sobre tus preferencias:\\n\\n| Preferencia              | Valor                      |\\n|--------------------------|----------------------------|\\n| Apasionado del motor    | No |\\n| Estética                | No prioritaria |\\n| Principal del Hogar     | Sí |\\n| Uso                     | Particular |\\n| Tipo de coche           | No necesariamente eléctrico |\\n| Diseño exclusivo        | Sí (Exclusivo) |\\n| Altura                  | Menor a 1.90 m |\\n| Peso                    | Menor a 100 kg   |\\n| Transmisión preferida   | Automático      |\\n| Aventura                | Ninguna    |\\n| Prioriza Baja Depreciación| No |\\n\\n📊 Importancia de Características (0-10):\\n\\n| Característica                   | Rating (0-10) |\\n|----------------------------------|---------------|\\n| Fiabilidad y Durabilidad         | 8 |\\n| Seguridad                        | 7 |\\n| Comodidad                        | 8 |\\n| Impacto Ambiental                | 6 |\\n| Costes de Uso/Mantenimiento      | 9 |\\n| Tecnología y Conectividad        | 9 |\\n\\n🎯 Filtros técnicos inferidos:\\n\\n| Filtro técnico        | Valor                            |\\n|-----------------------|----------------------------------|\\n| Tipo de mecánica     | GASOLINA, BEV, HEVG |\\n| Tipo de carrocería   | FAMILIAR, SUV, MONOVOLUMEN |\\n| Estética mínima      | 1.0 |\\n| Premium mínima       | 1.0 |\\n| Singularidad mínima  | 4.0 |\\n\\n💰 Economía del usuario:\\n\\n| Concepto                | Valor               |\\n|-------------------------|---------------------|\\n| Modo                    | Presupuesto Definido |\\n| Años Posesión Estimados | No especificado |\\n| Tipo de Pago            | Pago Contado |\\n| Presupuesto Contado     | 12.000 € |'}\n",
      "DEBUG (Buscar BQ) ► Llamando a buscar_coches_bq con k=7\n",
      "DEBUG (Buscar BQ) ► Filtros para BQ: {'estetica_min': 1.0, 'tipo_mecanica': ['GASOLINA', 'BEV', 'HEVG'], 'premium_min': 1.0, 'singular_min': 4.0, 'tipo_carroceria': ['FAMILIAR', 'SUV', 'MONOVOLUMEN'], 'modo': 2, 'submodo': 1, 'pago_contado': 12000.0, 'penalizar_puertas_bajas': False, 'flag_penalizar_low_cost_comodidad': True, 'flag_penalizar_deportividad_comodidad': True, 'flag_penalizar_antiguo_por_tecnologia': True, 'aplicar_logica_distintivo_ambiental': False}\n",
      "DEBUG (Buscar BQ) ► Pesos para BQ: {'estetica': 0.009433962264150943, 'premium': 0.009433962264150943, 'singular': 0.03773584905660377, 'altura_libre_suelo': 0.0, 'traccion': 0.0, 'reductoras': 0.0, 'batalla': 0.009433962264150943, 'indice_altura_interior': 0.04716981132075472, 'ancho': 0.009433962264150943, 'devaluacion': 0.009433962264150943, 'rating_fiabilidad_durabilidad': 0.07547169811320754, 'rating_seguridad': 0.0660377358490566, 'rating_comodidad': 0.07547169811320754, 'rating_impacto_ambiental': 0.05660377358490566, 'rating_tecnologia_conectividad': 0.08490566037735849, 'maletero_minimo_score': 0.009433962264150943, 'maletero_maximo_score': 0.009433962264150943, 'largo_vehiculo_score': 0.009433962264150943, 'autonomia_vehiculo': 0.04716981132075472, 'fav_bajo_peso': 0.0, 'fav_bajo_consumo': 0.04716981132075472, 'rating_costes_uso': 0.08490566037735849, 'fav_bajo_coste_uso_directo': 0.08490566037735849, 'fav_bajo_coste_mantenimiento_directo': 0.0660377358490566, 'par_motor_remolque_score': 0.05660377358490566, 'cap_remolque_cf_score': 0.0660377358490566, 'cap_remolque_sf_score': 0.02830188679245283}\n",
      "--- 🧠 SQL Query (Paso a Paso) ---\n",
      " \n",
      "    WITH ScaledData AS (\n",
      "        SELECT\n",
      "            *,\n",
      "            COALESCE(SAFE_DIVIDE(COALESCE(estetica, 1.0) - 1.0, NULLIF(10.0 - 1.0, 0)), 0) AS estetica_scaled,\n",
      "            COALESCE(SAFE_DIVIDE(COALESCE(premium, 1.0) - 1.0, NULLIF(10.0 - 1.0, 0)), 0) AS premium_scaled,\n",
      "            COALESCE(SAFE_DIVIDE(COALESCE(singular, 1.0) - 1.0, NULLIF(10.0 - 1.0, 0)), 0) AS singular_scaled,\n",
      "            COALESCE(SAFE_DIVIDE(COALESCE(altura_libre_suelo, 79.0) - 79.0, NULLIF(314.0 - 79.0, 0)), 0) AS altura_scaled,\n",
      "            COALESCE(SAFE_DIVIDE(COALESCE(batalla, 1650.0) - 1650.0, NULLIF(4035.0 - 1650.0, 0)), 0) AS batalla_scaled,\n",
      "            COALESCE(SAFE_DIVIDE(COALESCE(indice_altura_interior, 0.9) - 0.9, NULLIF(2.7 - 0.9, 0)), 0) AS indice_altura_scaled,\n",
      "            COALESCE(SAFE_DIVIDE(COALESCE(ancho, 1410.0) - 1410.0, NULLIF(2164.0 - 1410.0, 0)), 0) AS ancho_scaled,\n",
      "            -- CAMPOS ESCALADOS PARA NUEVOS RATINGS --\n",
      "            COALESCE(SAFE_DIVIDE(COALESCE(fiabilidad, 1.0) - 1.0, NULLIF(10.0 - 1.0, 0)), 0) AS fiabilidad_scaled,\n",
      "            COALESCE(SAFE_DIVIDE(COALESCE(durabilidad, 1.0) - 1.0, NULLIF(10.0 - 1.0, 0)), 0) AS durabilidad_scaled,\n",
      "            COALESCE(SAFE_DIVIDE(COALESCE(seguridad, 1.0) - 1.0, NULLIF(10.0 - 1.0, 0)), 0) AS seguridad_scaled,\n",
      "            COALESCE(SAFE_DIVIDE(COALESCE(comodidad, 1.0) - 1.0, NULLIF(10.0 - 1.0, 0)), 0) AS comodidad_scaled,\n",
      "              -- --- NUEVOS CAMPOS ESCALADOS (INVERTIDOS PORQUE MENOR ES MEJOR) ---\n",
      "            COALESCE(SAFE_DIVIDE(31.0 - COALESCE(costes_de_uso, 31.0), NULLIF(31.0 - 3.0, 0)), 0) AS costes_de_uso_scaled,\n",
      "            COALESCE(SAFE_DIVIDE(10.0 - COALESCE(costes_mantenimiento, 10.0), NULLIF(10.0 - 1.0, 0)), 0) AS costes_mantenimiento_scaled,\n",
      "            -- --- FIN NUEVOS CAMPOS ESCALADOS ---\n",
      "            COALESCE(SAFE_DIVIDE(COALESCE(tecnologia, 1.0) - 1.0, NULLIF(10.0 - 1.0, 0)), 0) AS tecnologia_scaled, -- <-- Nuevo escalado\n",
      "            -- CAMPOS ESCALADOS PARA PENALIZACIONES --\n",
      "            COALESCE(SAFE_DIVIDE(COALESCE(acceso_low_cost, 1.0) - 1.0, NULLIF(10.0 - 1.0, 0)), 0) AS acceso_low_cost_scaled,\n",
      "            COALESCE(SAFE_DIVIDE(COALESCE(deportividad, 1.0) - 1.0, NULLIF(10.0 - 1.0, 0)), 0) AS deportividad_scaled,\n",
      "            COALESCE(SAFE_DIVIDE(COALESCE(devaluacion, 0.0) - 0.0, NULLIF(10.0 - 0.0, 0)), 0) AS devaluacion_scaled,\n",
      "            COALESCE(SAFE_DIVIDE(COALESCE(maletero_minimo, 11.0) - 11.0, NULLIF(15000.0 - 11.0, 0)), 0) AS maletero_minimo_scaled,\n",
      "            COALESCE(SAFE_DIVIDE(COALESCE(maletero_maximo, 11.0) - 11.0, NULLIF(15000.0 - 11.0, 0)), 0) AS maletero_maximo_scaled,\n",
      "            COALESCE(SAFE_DIVIDE(COALESCE(largo, 2450.0) - 2450.0, NULLIF(6400.0 - 2450.0, 0)), 0) AS largo_scaled,\n",
      "            COALESCE(SAFE_DIVIDE(COALESCE(autonomia_uso_maxima, 30.8) - 30.8, NULLIF(1582.4 - 30.8, 0)), 0) AS autonomia_uso_maxima_scaled,\n",
      "            -- Mapeos existentes --\n",
      "            CASE WHEN traccion = 'ALL' THEN 1.0 WHEN traccion = 'RWD' THEN 0.5 ELSE 0.0 END AS traccion_scaled,\n",
      "            -- --- NUEVOS CAMPOS ESCALADOS (INVERTIDOS) ---\n",
      "            COALESCE(SAFE_DIVIDE(3500.0 - COALESCE(peso, 3500.0), NULLIF(3500.0 - 470.0, 0)), 0) AS bajo_peso_scaled, -- Invertido\n",
      "            COALESCE(SAFE_DIVIDE(133.0 - COALESCE(indice_consumo_energia, 133.0), NULLIF(133.0 - 7.4, 0)), 0) AS bajo_consumo_scaled, -- Invertido\n",
      "            COALESCE(SAFE_DIVIDE(COALESCE(par, 41.0) - 41.0, NULLIF(967.0 - 41.0, 0)), 0) AS par_scaled,\n",
      "            COALESCE(SAFE_DIVIDE(COALESCE(capacidad_remolque_con_freno, 100.0) - 100.0, NULLIF(3600.0 - 100.0, 0)), 0) AS cap_remolque_cf_scaled,\n",
      "            COALESCE(SAFE_DIVIDE(COALESCE(capacidad_remolque_sin_freno, 35.0) - 35.0, NULLIF(1250.0 - 35.0, 0)), 0) AS cap_remolque_sf_scaled, \n",
      "            (CASE WHEN COALESCE(reductoras, FALSE) THEN 1.0 ELSE 0.0 END) AS reductoras_scaled,\n",
      "            (CASE WHEN @penalizar_puertas = TRUE AND puertas <= 3 THEN -0.15 ELSE 0.0 END) AS puertas_penalty\n",
      "        FROM\n",
      "            `thecarmentor-mvp2.web_cars.match_coches_pruebas`\n",
      "    )\n",
      "    SELECT\n",
      "      -- Añade las nuevas columnas BQ si quieres ver sus valores originales:\n",
      "      nombre, ID , modelo, cambio_automatico, tipo_mecanica, tipo_carroceria, \n",
      "      indice_altura_interior, estetica, premium, singular,  seguridad, comodidad, acceso_low_cost, deportividad, tecnologia, devaluacion, altura_libre_suelo, maletero_minimo, maletero_maximo,\n",
      "      traccion, reductoras, plazas, precio_compra_contado, largo, autonomia_uso_maxima, distintivo_ambiental, anos_vehiculo, ocasion,\n",
      "      peso AS peso_original_kg, indice_consumo_energia AS consumo_original, costes_de_uso, costes_mantenimiento,par, capacidad_remolque_con_freno,capacidad_remolque_sin_freno,\n",
      "      \n",
      "      ( \n",
      "        estetica_scaled * @peso_estetica \n",
      "        + premium_scaled * @peso_premium\n",
      "        + singular_scaled * @peso_singular\n",
      "        + altura_scaled * @peso_altura\n",
      "        + batalla_scaled * @peso_batalla \n",
      "        + indice_altura_scaled * @peso_indice_altura\n",
      "        + ancho_scaled * @peso_ancho \n",
      "        + traccion_scaled * @peso_traccion\n",
      "        + reductoras_scaled * @peso_reductoras\n",
      "        + puertas_penalty\n",
      "        -- NUEVOS TÉRMINOS DE SCORE PARA RATINGS --\n",
      "        + fiabilidad_scaled * @peso_rating_fiabilidad_durabilidad  \n",
      "        + durabilidad_scaled * @peso_rating_fiabilidad_durabilidad -- Usando el mismo peso para ambas\n",
      "        + seguridad_scaled * @peso_rating_seguridad               \n",
      "        + comodidad_scaled * @peso_rating_comodidad\n",
      "        + fiabilidad_scaled * @peso_rating_impacto_ambiental  -- P4 (Impacto Ambiental) usa fiabilidad_scaled\n",
      "        + durabilidad_scaled * @peso_rating_impacto_ambiental -- P4 (Impacto Ambiental) usa durabilidad_scaled (si así lo defines)\n",
      "        + tecnologia_scaled * @peso_rating_tecnologia_conectividad -- P6\n",
      "        + maletero_minimo_scaled * @peso_maletero_minimo_score\n",
      "        + maletero_maximo_scaled * @peso_maletero_maximo_score\n",
      "        + largo_scaled * @peso_largo_vehiculo_score\n",
      "        + devaluacion_scaled * @peso_devaluacion\n",
      "        + autonomia_uso_maxima_scaled * @peso_autonomia_vehiculo\n",
      "        -- Estos se activan si el peso correspondiente es > 0 (calculado en compute_raw_weights)\n",
      "        + bajo_peso_scaled * @peso_fav_bajo_peso\n",
      "        + bajo_consumo_scaled * @peso_fav_bajo_consumo\n",
      "        -- --- NUEVOS TÉRMINOS DE SCORE PARA COSTES DE USO Y MANTENIMIENTO ---\n",
      "        + costes_de_uso_scaled * @peso_fav_bajo_coste_uso_directo\n",
      "        + costes_mantenimiento_scaled * @peso_fav_bajo_coste_mantenimiento_directo\n",
      "        + par_scaled * @peso_par_motor_remolque_score\n",
      "        + cap_remolque_cf_scaled * @peso_cap_remolque_cf_score\n",
      "        + cap_remolque_sf_scaled * @peso_cap_remolque_sf_score\n",
      "        -- PENALIZACIONES POR COMODIDAD y  ANTIGÜEDAD--\n",
      "        + (CASE WHEN @flag_penalizar_low_cost_comodidad = TRUE AND acceso_low_cost_scaled >= 0.7 THEN -0.2 ELSE 0.0 END)\n",
      "        + (CASE WHEN @flag_penalizar_deportividad_comodidad = TRUE AND deportividad_scaled >= 0.7 THEN -0.2 ELSE 0.0 END)\n",
      "        + (CASE WHEN @flag_penalizar_antiguo_tec = TRUE THEN\n",
      "                 CASE\n",
      "                     WHEN anos_vehiculo > 10 THEN -0.45\n",
      "                     WHEN anos_vehiculo > 7  THEN -0.3\n",
      "                     WHEN anos_vehiculo > 5  THEN -0.15\n",
      "                     ELSE 0.0 \n",
      "                 END\n",
      "             ELSE 0.0 \n",
      "           END)\n",
      "        -- --- NUEVA LÓGICA PARA DISTINTIVO AMBIENTAL ---\n",
      "        + (CASE\n",
      "             WHEN @flag_aplicar_logica_distintivo = TRUE THEN\n",
      "                 CASE\n",
      "                     WHEN distintivo_ambiental IN ('0', 'ECO', 'C') THEN 0.2\n",
      "                     WHEN distintivo_ambiental IN ('B', 'NA') THEN -0.5\n",
      "                     ELSE 0.0 -- Para otros distintivos o si es NULL\n",
      "                 END\n",
      "             ELSE 0.0 -- Si el flag no está activo\n",
      "           END)\n",
      "        -- --- NUEVA LÓGICA PARA FAVORECER 'ocasion' ---\n",
      "        + (CASE\n",
      "             WHEN @flag_aplicar_logica_distintivo = TRUE AND COALESCE(ocasion, FALSE) = TRUE THEN 0.2\n",
      "             ELSE 0.0\n",
      "           END)\n",
      "        -- --- FIN NUEVA LÓGICA 'ocasion' ---\n",
      "      ) AS score_total\n",
      "    FROM ScaledData\n",
      "    WHERE 1=1 \n",
      "    \n",
      "      AND COALESCE(estetica, 0) >= @estetica_min\n",
      "      AND COALESCE(premium, 0) >= @premium_min\n",
      "      AND COALESCE(singular, 0) >= @singular_min\n",
      "      AND tipo_mecanica IN UNNEST(@tipos_mecanica)\n",
      "      AND tipo_carroceria IN UNNEST(@tipos_carroceria)\n",
      "      AND COALESCE(precio_compra_contado, 999999999) <= @precio_maximo\n",
      "    ORDER BY score_total DESC, precio_compra_contado ASC\n",
      "    LIMIT @k\n",
      "\n",
      "--- 📦 Parameters (Paso a Paso) ---\n",
      " [('peso_estetica', 0.009433962264150943), ('peso_premium', 0.009433962264150943), ('peso_singular', 0.03773584905660377), ('peso_altura', 0.0), ('peso_batalla', 0.009433962264150943), ('peso_indice_altura', 0.04716981132075472), ('peso_ancho', 0.009433962264150943), ('peso_traccion', 0.0), ('peso_reductoras', 0.0), ('penalizar_puertas', False), ('peso_rating_fiabilidad_durabilidad', 0.07547169811320754), ('peso_rating_seguridad', 0.0660377358490566), ('peso_rating_comodidad', 0.07547169811320754), ('peso_rating_impacto_ambiental', 0.05660377358490566), ('peso_rating_tecnologia_conectividad', 0.08490566037735849), ('peso_rating_costes_uso', 0.08490566037735849), ('peso_fav_bajo_coste_uso_directo', 0.08490566037735849), ('peso_fav_bajo_coste_mantenimiento_directo', 0.0660377358490566), ('peso_devaluacion', 0.009433962264150943), ('peso_maletero_minimo_score', 0.009433962264150943), ('peso_maletero_maximo_score', 0.009433962264150943), ('peso_largo_vehiculo_score', 0.009433962264150943), ('peso_autonomia_vehiculo', 0.04716981132075472), ('peso_fav_bajo_peso', 0.0), ('peso_fav_bajo_consumo', 0.04716981132075472), ('peso_par_motor_remolque_score', 0.05660377358490566), ('peso_cap_remolque_cf_score', 0.0660377358490566), ('peso_cap_remolque_sf_score', 0.02830188679245283), ('flag_penalizar_low_cost_comodidad', True), ('flag_penalizar_deportividad_comodidad', True), ('flag_penalizar_antiguo_tec', True), ('flag_aplicar_logica_distintivo', False), ('k', 7), ('estetica_min', 1.0), ('premium_min', 1.0), ('singular_min', 4.0), ('tipos_mecanica', ['GASOLINA', 'BEV', 'HEVG']), ('tipos_carroceria', ['FAMILIAR', 'SUV', 'MONOVOLUMEN']), ('precio_maximo', 12000.0)]\n"
     ]
    },
    {
     "name": "stderr",
     "output_type": "stream",
     "text": [
      "INFO (RAG): ✅ (Paso a Paso) BigQuery query ejecutada, 2 resultados obtenidos.\n",
      "INFO (RAG): Log de búsqueda para conversación 'unknown_thread' insertado en BigQuery.\n"
     ]
    },
    {
     "name": "stdout",
     "output_type": "stream",
     "text": [
      "INFO (BQ Logger) ► Log para 'unknown_thread' guardado en BQ.\n",
      "==================================\u001b[1m Ai Message \u001b[0m==================================\n",
      "\n",
      "¡Listo! Basado en todo lo que hablamos, aquí tienes 2 coche(s) que podrían interesarte:\n",
      "\n",
      "| nombre              | precio_compra_contado   |   score_total | tipo_carroceria   | tipo_mecanica   |   plazas | traccion   | reductoras   |   estetica |   premium |   singular |   altura_libre_suelo |   indice_altura_interior | cambio_automatico   |\n",
      "|:--------------------|:------------------------|--------------:|:------------------|:----------------|---------:|:-----------|:-------------|-----------:|----------:|-----------:|---------------------:|-------------------------:|:--------------------|\n",
      "| Porsche Cayenne S   | 11.599€                 |        -0.017 | SUV               | GASOLINA        |        5 | ALL        | False        |          8 |         9 |          6 |                  200 |                    1.499 | False               |\n",
      "| Daihatsu Terios 1.3 | 4.299€                  |        -0.204 | SUV               | GASOLINA        |        5 | RWD        | False        |          2 |         2 |          8 |                  175 |                    1.5   | False               |\n",
      "\n",
      "¿Qué te parecen estas opciones? ¿Hay alguno que te interese para ver más detalles o hacemos otra búsqueda?\n"
     ]
    }
   ],
   "source": [
    "# Create a thread\n",
    "config = {\"configurable\": {\"thread_id\": \"1\"}}\n",
    "\n",
    "# Start conversation\n",
    "input_message = HumanMessage(content=\"contado con 12.000 maximo\")\n",
    "output = graph.invoke({\"messages\": [input_message]}, config) \n",
    "for m in output['messages'][-1:]:\n",
    "    m.pretty_print()"
   ]
  },
  {
   "cell_type": "code",
   "execution_count": 25,
   "metadata": {},
   "outputs": [
    {
     "name": "stdout",
     "output_type": "stream",
     "text": [
      "\n",
      "--- Vista Markdown ---\n",
      "| nombre              |     ID | modelo   | cambio_automatico   | tipo_mecanica   | tipo_carroceria   |   indice_altura_interior |   estetica |   premium |   singular |   altura_libre_suelo | traccion   | reductoras   |   plazas |   precio_compra_contado |   seguridad |   comodidad |   acceso_low_cost |   deportividad |   tecnologia |   devaluacion |   maletero_minimo |   maletero_maximo |   largo |   autonomia_uso_maxima | distintivo_ambiental   |   anos_vehiculo | ocasion   |   peso_original_kg |   consumo_original |   score_total |\n",
      "|:--------------------|-------:|:---------|:--------------------|:----------------|:------------------|-------------------------:|-----------:|----------:|-----------:|---------------------:|:-----------|:-------------|---------:|------------------------:|------------:|------------:|------------------:|---------------:|-------------:|--------------:|------------------:|------------------:|--------:|-----------------------:|:-----------------------|----------------:|:----------|-------------------:|-------------------:|--------------:|\n",
      "| Porsche Cayenne S   | 112321 | Cayenne  | False               | GASOLINA        | SUV               |                    1.499 |          8 |         9 |          6 |                  200 | ALL        | False        |        5 |                   11599 |         6.2 |           5 |                 1 |             10 |            9 |             9 |               540 |              1770 |    4782 |                  494.9 | C                      |              20 | True      |               2300 |               70.3 |       -0.0168 |\n",
      "| Daihatsu Terios 1.3 | 109806 | Terios   | False               | GASOLINA        | SUV               |                    1.5   |          2 |         2 |          8 |                  175 | RWD        | False        |        5 |                    4299 |         3.4 |           2 |                 9 |              2 |            1 |             8 |               205 |               538 |    3845 |                  500   | B                      |              23 | True      |               1030 |               71.5 |       -0.2037 |\n"
     ]
    }
   ],
   "source": [
    "import pandas as pd\n",
    "coches_recomendados = output[('coches_recomendados')]\n",
    "\n",
    "df_resultados = pd.DataFrame(coches_recomendados)\n",
    "        \n",
    "#  OPCIÓN 1: Imprimir el DataFrame directamente (Pandas usará las opciones de display)\n",
    "# print(\"\\n--- Vista DataFrame (Pandas Display Options) ---\")\n",
    "# display(df_resultados) # 'display()' suele dar mejor formato en notebooks que 'print(df)'\n",
    "\n",
    "#OPCIÓN 2: Convertir a Markdown (como en tu nodo, pero para consola)\n",
    "print(\"\\n--- Vista Markdown ---\")\n",
    "columnas_deseadas = [ # Lista completa de columnas que seleccionas en BQ\n",
    "            'nombre', 'ID', 'marca', 'modelo', 'cambio_automatico', 'tipo_mecanica', \n",
    "            'tipo_carroceria', 'indice_altura_interior', 'batalla', 'estetica', \n",
    "            'premium', 'singular', 'altura_libre_suelo', 'ancho', 'traccion', \n",
    "            'reductoras', 'puertas', 'plazas', 'precio_compra_contado',\n",
    "            'fiabilidad', 'durabilidad', 'seguridad', 'comodidad', 'acceso_low_cost', \n",
    "            'deportividad', 'tecnologia', 'devaluacion', 'maletero_minimo', \n",
    "            'maletero_maximo', 'largo', 'autonomia_uso_maxima', \n",
    "            'distintivo_ambiental', 'anos_vehiculo', 'ocasion',\n",
    "            'peso_original_kg', 'consumo_original','score_total'\n",
    "        ]\n",
    "columnas_existentes = [col for col in columnas_deseadas if col in df_resultados.columns]\n",
    "if columnas_existentes:\n",
    "            if 'score_total' in df_resultados.columns: # Formatear score para legibilidad\n",
    "                df_resultados['score_total'] = df_resultados['score_total'].apply(lambda x: f\"{x:.4f}\" if isinstance(x, float) else x)\n",
    "            print(df_resultados[columnas_existentes].to_markdown(index=False))\n",
    "else:\n",
    "            print(\"WARN: No se encontraron columnas esperadas para mostrar en formato tabla.\")\n",
    "            print(\"Resultados crudos (lista de dicts):\", coches_recomendados)"
   ]
  },
  {
   "cell_type": "code",
   "execution_count": null,
   "metadata": {},
   "outputs": [],
   "source": [
    "# Create a thread\n",
    "config = {\"configurable\": {\"thread_id\": \"1\"}}\n",
    "\n",
    "# Start conversation\n",
    "input_message = HumanMessage(content=\"no hay ninos\")\n",
    "output = graph.invoke({\"messages\": [input_message]}, config) \n",
    "for m in output['messages'][-1:]:\n",
    "    m.pretty_print()"
   ]
  },
  {
   "cell_type": "code",
   "execution_count": null,
   "metadata": {},
   "outputs": [],
   "source": [
    "# Create a thread\n",
    "config = {\"configurable\": {\"thread_id\": \"1\"}}\n",
    "\n",
    "# Start conversation\n",
    "input_message = HumanMessage(content=\"la 2\")\n",
    "output = graph.invoke({\"messages\": [input_message]}, config) \n",
    "for m in output['messages'][-1:]:\n",
    "    m.pretty_print()"
   ]
  },
  {
   "cell_type": "code",
   "execution_count": null,
   "metadata": {},
   "outputs": [],
   "source": [
    "# Create a thread\n",
    "config = {\"configurable\": {\"thread_id\": \"1\"}}\n",
    "\n",
    "# Start conversation\n",
    "input_message = HumanMessage(content=\"al contado con 25.000 euros\")\n",
    "output = graph.invoke({\"messages\": [input_message]}, config) \n",
    "for m in output['messages'][-1:]:\n",
    "    m.pretty_print()"
   ]
  },
  {
   "cell_type": "code",
   "execution_count": null,
   "metadata": {},
   "outputs": [],
   "source": [
    "config = {\"configurable\": {\"thread_id\": \"1\"}}\n",
    "\n",
    "# Start conversation\n",
    "input_message = HumanMessage(content=\"maximo 14000 euros de contado\")\n",
    "output = graph.invoke({\"messages\": [input_message]}, config) \n",
    "for m in output['messages'][-1:]:\n",
    "    m.pretty_print()"
   ]
  },
  {
   "cell_type": "code",
   "execution_count": null,
   "metadata": {},
   "outputs": [],
   "source": [
    "print(output['preferencias_usuario'])\n",
    "print(output['filtros_inferidos'])"
   ]
  },
  {
   "cell_type": "code",
   "execution_count": null,
   "metadata": {},
   "outputs": [],
   "source": [
    "config = {\"configurable\": {\"thread_id\": \"1\"}}\n",
    "\n",
    "# Start conversation\n",
    "input_message = HumanMessage(content=\"la 2\")\n",
    "output = graph.invoke({\"messages\": [input_message]}, config) \n",
    "for m in output['messages'][-1:]:\n",
    "    m.pretty_print()"
   ]
  },
  {
   "cell_type": "code",
   "execution_count": null,
   "metadata": {},
   "outputs": [],
   "source": [
    "config = {\"configurable\": {\"thread_id\": \"1\"}}\n",
    "\n",
    "# Start conversation\n",
    "input_message = HumanMessage(content=\"8\")\n",
    "output = graph.invoke({\"messages\": [input_message]}, config) \n",
    "for m in output['messages'][-1:]:\n",
    "    m.pretty_print()"
   ]
  },
  {
   "cell_type": "code",
   "execution_count": null,
   "metadata": {},
   "outputs": [],
   "source": [
    "config = {\"configurable\": {\"thread_id\": \"1\"}}\n",
    "\n",
    "# Start conversation\n",
    "input_message = HumanMessage(content=\"ocasional\")\n",
    "output = graph.invoke({\"messages\": [input_message]}, config) \n",
    "for m in output['messages'][-1:]:\n",
    "    m.pretty_print()"
   ]
  },
  {
   "cell_type": "code",
   "execution_count": null,
   "metadata": {},
   "outputs": [],
   "source": [
    "config = {\"configurable\": {\"thread_id\": \"1\"}}\n",
    "\n",
    "# Start conversation\n",
    "input_message = HumanMessage(content=\"no\")\n",
    "output = graph.invoke({\"messages\": [input_message]}, config) \n",
    "for m in output['messages'][-1:]:\n",
    "    m.pretty_print()"
   ]
  },
  {
   "cell_type": "code",
   "execution_count": null,
   "metadata": {},
   "outputs": [],
   "source": [
    "config = {\"configurable\": {\"thread_id\": \"1\"}}\n",
    "\n",
    "# Start conversation\n",
    "input_message = HumanMessage(content=\"10\")\n",
    "output = graph.invoke({\"messages\": [input_message]}, config) \n",
    "for m in output['messages'][-1:]:\n",
    "    m.pretty_print()"
   ]
  },
  {
   "cell_type": "code",
   "execution_count": null,
   "metadata": {},
   "outputs": [],
   "source": [
    "print(output[keys()])\n"
   ]
  },
  {
   "cell_type": "code",
   "execution_count": null,
   "metadata": {},
   "outputs": [],
   "source": [
    "# Create a thread\n",
    "config = {\"configurable\": {\"thread_id\": \"1\"}}\n",
    "\n",
    "# Start conversation\n",
    "input_message = HumanMessage(content=\"8\")\n",
    "output = graph.invoke({\"messages\": [input_message]}, config) \n",
    "for m in output['messages'][-1:]:\n",
    "    m.pretty_print()"
   ]
  },
  {
   "cell_type": "code",
   "execution_count": null,
   "metadata": {},
   "outputs": [],
   "source": [
    "config = {\"configurable\": {\"thread_id\": \"1\"}}\n",
    "\n",
    "# Start conversation\n",
    "input_message = HumanMessage(content=\"con una persona mas, no niños\")\n",
    "output = graph.invoke({\"messages\": [input_message]}, config) \n",
    "for m in output['messages'][-1:]:\n",
    "    m.pretty_print()"
   ]
  },
  {
   "cell_type": "code",
   "execution_count": null,
   "metadata": {},
   "outputs": [],
   "source": [
    "config = {\"configurable\": {\"thread_id\": \"1\"}}\n",
    "\n",
    "# Start conversation\n",
    "input_message = HumanMessage(content=\"no\")\n",
    "output = graph.invoke({\"messages\": [input_message]}, config) \n",
    "for m in output['messages'][-1:]:\n",
    "    m.pretty_print()"
   ]
  },
  {
   "cell_type": "code",
   "execution_count": null,
   "metadata": {},
   "outputs": [],
   "source": [
    "config = {\"configurable\": {\"thread_id\": \"1\"}}\n",
    "\n",
    "# Start conversation\n",
    "input_message = HumanMessage(content=\"la 2\")\n",
    "output = graph.invoke({\"messages\": [input_message]}, config) \n",
    "for m in output['messages'][-1:]:\n",
    "    m.pretty_print()"
   ]
  },
  {
   "cell_type": "code",
   "execution_count": null,
   "metadata": {},
   "outputs": [],
   "source": [
    "# Create a thread\n",
    "config = {\"configurable\": {\"thread_id\": \"1\"}}\n",
    "\n",
    "# Start conversation\n",
    "input_message = HumanMessage(content=\"contado hasta 15.000\")\n",
    "output = graph.invoke({\"messages\": [input_message]}, config) \n",
    "for m in output['messages'][-1:]:\n",
    "    m.pretty_print()\n",
    "    \n",
    "    \n"
   ]
  },
  {
   "cell_type": "code",
   "execution_count": null,
   "metadata": {},
   "outputs": [],
   "source": [
    "print(output.keys())"
   ]
  },
  {
   "cell_type": "code",
   "execution_count": null,
   "metadata": {},
   "outputs": [],
   "source": [
    "# Create a thread\n",
    "config = {\"configurable\": {\"thread_id\": \"1\"}}\n",
    "\n",
    "# Start conversation\n",
    "input_message = HumanMessage(content=\"la 2\")\n",
    "output = graph.invoke({\"messages\": [input_message]}, config) \n",
    "for m in output['messages'][-1:]:\n",
    "    m.pretty_print()"
   ]
  },
  {
   "cell_type": "code",
   "execution_count": null,
   "metadata": {},
   "outputs": [],
   "source": [
    "# Create a thread\n",
    "config = {\"configurable\": {\"thread_id\": \"1\"}}\n",
    "\n",
    "# Start conversation\n",
    "input_message = HumanMessage(content=\"de contado tengo 13000 maximo\")\n",
    "output = graph.invoke({\"messages\": [input_message]}, config) \n",
    "for m in output['messages'][-1:]:\n",
    "    m.pretty_print()"
   ]
  },
  {
   "cell_type": "code",
   "execution_count": 26,
   "metadata": {},
   "outputs": [
    {
     "name": "stdout",
     "output_type": "stream",
     "text": [
      "apasionado_motor='no' valora_estetica='no' coche_principal_hogar='sí' uso_profesional='no' tipo_uso_profesional=None prefiere_diseno_exclusivo='sí' altura_mayor_190='no' peso_mayor_100='no' transporta_carga_voluminosa='no' necesita_espacio_objetos_especiales=None arrastra_remolque='sí' aventura=<NivelAventura.ninguna: 'ninguna'> solo_electricos='no' prioriza_baja_depreciacion='no' transmision_preferida=<Transmision.AUTOMATICO: 'automático'> rating_fiabilidad_durabilidad=8 rating_seguridad=7 rating_comodidad=8 rating_impacto_ambiental=6 rating_tecnologia_conectividad=9 rating_costes_uso=9\n",
      "-----------------------\n",
      "estetica_min=1.0 tipo_mecanica=[<TipoMecanica.GASOLINA: 'GASOLINA'>, <TipoMecanica.BEV: 'BEV'>, <TipoMecanica.HEVG: 'HEVG'>] premium_min=1.0 singular_min=4.0 tipo_carroceria=['FAMILIAR', 'SUV', 'MONOVOLUMEN'] modo_adquisicion_recomendado=None precio_max_contado_recomendado=None cuota_max_calculada=None plazas_min=None\n",
      "-----------------------\n",
      "frecuencia='nunca' num_ninos_silla=0 num_otros_pasajeros=0\n",
      "-----------------------\n",
      "modo=2 submodo=1 ingresos=None ahorro=None pago_contado=12000.0 cuota_max=None entrada=None anos_posesion=None\n",
      "-----------------------\n",
      "{'estetica': 0.009433962264150943, 'premium': 0.009433962264150943, 'singular': 0.03773584905660377, 'altura_libre_suelo': 0.0, 'traccion': 0.0, 'reductoras': 0.0, 'batalla': 0.009433962264150943, 'indice_altura_interior': 0.04716981132075472, 'ancho': 0.009433962264150943, 'devaluacion': 0.009433962264150943, 'rating_fiabilidad_durabilidad': 0.07547169811320754, 'rating_seguridad': 0.0660377358490566, 'rating_comodidad': 0.07547169811320754, 'rating_impacto_ambiental': 0.05660377358490566, 'rating_tecnologia_conectividad': 0.08490566037735849, 'maletero_minimo_score': 0.009433962264150943, 'maletero_maximo_score': 0.009433962264150943, 'largo_vehiculo_score': 0.009433962264150943, 'autonomia_vehiculo': 0.04716981132075472, 'fav_bajo_peso': 0.0, 'fav_bajo_consumo': 0.04716981132075472, 'rating_costes_uso': 0.08490566037735849, 'fav_bajo_coste_uso_directo': 0.08490566037735849, 'fav_bajo_coste_mantenimiento_directo': 0.0660377358490566, 'par_motor_remolque_score': 0.05660377358490566, 'cap_remolque_cf_score': 0.0660377358490566, 'cap_remolque_sf_score': 0.02830188679245283}\n",
      "-----------------------\n",
      "False\n",
      "-----------------------\n",
      "frecuencia='nunca' num_ninos_silla=0 num_otros_pasajeros=0\n",
      "-----------------------\n",
      "True\n",
      "-----------------------\n",
      "True\n",
      "-----------------------\n",
      "False\n",
      "-----------------------\n",
      "True\n",
      "-----------------------\n",
      "False\n",
      "-----------------------\n",
      "False\n",
      "-----------------------\n",
      "dict_keys(['messages', 'preferencias_usuario', 'filtros_inferidos', 'economia', 'pesos', 'pregunta_pendiente', 'coches_recomendados', 'info_pasajeros', 'penalizar_puertas_bajas', 'priorizar_ancho', 'flag_penalizar_low_cost_comodidad', 'flag_penalizar_deportividad_comodidad', 'flag_penalizar_antiguo_por_tecnologia', 'aplicar_logica_distintivo_ambiental', 'tabla_resumen_criterios'])\n"
     ]
    }
   ],
   "source": [
    "print(output['preferencias_usuario'])\n",
    "print('-----------------------')\n",
    "print(output['filtros_inferidos'])\n",
    "print('-----------------------')\n",
    "print(output['info_pasajeros'])\n",
    "print('-----------------------')\n",
    "print(output['economia'])\n",
    "print('-----------------------')\n",
    "print(output['pesos'])\n",
    "print('-----------------------')\n",
    "print(output['priorizar_ancho'])\n",
    "print('-----------------------')\n",
    "print(output['info_pasajeros'])\n",
    "print('-----------------------')\n",
    "print(output['flag_penalizar_deportividad_comodidad'])\n",
    "print('-----------------------')\n",
    "print(output['flag_penalizar_low_cost_comodidad'])\n",
    "print('-----------------------')\n",
    "print(output['penalizar_puertas_bajas'])\n",
    "print('-----------------------')\n",
    "print(output['flag_penalizar_antiguo_por_tecnologia'])\n",
    "print('-----------------------')\n",
    "print(output['aplicar_logica_distintivo_ambiental'])\n",
    "print('-----------------------')\n",
    "print(output['penalizar_puertas_bajas'])\n",
    "print('-----------------------')\n",
    "print(output.keys())\n"
   ]
  },
  {
   "cell_type": "code",
   "execution_count": null,
   "metadata": {},
   "outputs": [],
   "source": [
    "# Create a thread\n",
    "config = {\"configurable\": {\"thread_id\": \"1\"}}\n",
    "\n",
    "# Start conversation\n",
    "input_message = HumanMessage(content=\"35.000\")\n",
    "output = graph.invoke({\"messages\": [input_message]}, config) \n",
    "for m in output['messages'][-1:]:\n",
    "    m.pretty_print()"
   ]
  },
  {
   "cell_type": "code",
   "execution_count": null,
   "metadata": {},
   "outputs": [],
   "source": [
    "\n",
    "print(output['preferencias_usuario'])\n",
    "print('-----------------------')\n",
    "print(output['filtros_inferidos'])\n",
    "print('-----------------------')\n",
    "print(output['pesos'])\n",
    "print(output.keys())"
   ]
  },
  {
   "cell_type": "code",
   "execution_count": null,
   "metadata": {},
   "outputs": [],
   "source": [
    "# Create a thread\n",
    "config = {\"configurable\": {\"thread_id\": \"1\"}}\n",
    "\n",
    "# Start conversation\n",
    "input_message = HumanMessage(content=\"10000 ahorrados?\")\n",
    "output = graph.invoke({\"messages\": [input_message]}, config) \n",
    "for m in output['messages'][-1:]:\n",
    "    m.pretty_print()"
   ]
  },
  {
   "cell_type": "code",
   "execution_count": null,
   "metadata": {},
   "outputs": [],
   "source": [
    "print(output['preferencias_usuario'])\n",
    "print('-----------------------')\n",
    "print(output['filtros_inferidos'])\n",
    "print('-----------------------')\n",
    "print(output.keys())"
   ]
  },
  {
   "cell_type": "code",
   "execution_count": null,
   "metadata": {},
   "outputs": [],
   "source": [
    "# Create a thread\n",
    "config = {\"configurable\": {\"thread_id\": \"1\"}}\n",
    "\n",
    "# Start conversation\n",
    "input_message = HumanMessage(content=\"5 años\")\n",
    "output = graph.invoke({\"messages\": [input_message]}, config) \n",
    "for m in output['messages'][-1:]:\n",
    "    m.pretty_print()"
   ]
  },
  {
   "cell_type": "code",
   "execution_count": null,
   "metadata": {},
   "outputs": [],
   "source": [
    "print(output['preferencias_usuario'])\n",
    "print('-----------------------')\n",
    "print(output['filtros_inferidos'])\n",
    "print('-----------------------')\n",
    "print(output['economia'])\n",
    "print('-----------------------')\n",
    "print(output['pesos'])\n",
    "print(output.keys())"
   ]
  },
  {
   "cell_type": "code",
   "execution_count": null,
   "metadata": {},
   "outputs": [],
   "source": [
    "# Create a thread\n",
    "config = {\"configurable\": {\"thread_id\": \"1\"}}\n",
    "\n",
    "# Start conversation\n",
    "input_message = HumanMessage(content=\"que informacin falta?\")\n",
    "output = graph.invoke({\"messages\": [input_message]}, config) \n",
    "for m in output['messages'][-1:]:\n",
    "    m.pretty_print()"
   ]
  },
  {
   "cell_type": "code",
   "execution_count": null,
   "metadata": {},
   "outputs": [],
   "source": []
  },
  {
   "cell_type": "code",
   "execution_count": null,
   "metadata": {},
   "outputs": [],
   "source": [
    "config = {\"configurable\": {\"thread_id\": \"1\"}}\n",
    "\n",
    "# Start conversation\n",
    "input_message = HumanMessage(content=\"8\")\n",
    "output = graph.invoke({\"messages\": [input_message]}, config) \n",
    "for m in output['messages'][-1:]:\n",
    "    m.pretty_print()"
   ]
  },
  {
   "cell_type": "code",
   "execution_count": null,
   "metadata": {},
   "outputs": [],
   "source": [
    "print(output['preferencias_usuario'])\n",
    "print('-----------------------')\n",
    "print(output['filtros_inferidos'])\n",
    "print('-----------------------')\n",
    "print(output['economia'])\n",
    "print('-----------------------')\n",
    "print(output['pesos'])"
   ]
  },
  {
   "cell_type": "code",
   "execution_count": null,
   "metadata": {},
   "outputs": [],
   "source": [
    "print(output['preferencias_usuario'])\n",
    "print('-----------------------')"
   ]
  },
  {
   "cell_type": "code",
   "execution_count": null,
   "metadata": {},
   "outputs": [],
   "source": [
    "print(output.keys())"
   ]
  },
  {
   "cell_type": "code",
   "execution_count": null,
   "metadata": {},
   "outputs": [],
   "source": [
    "state = graph.get_state(config).values\n",
    "print(state[\"mensaje_validacion\"])\n"
   ]
  },
  {
   "cell_type": "markdown",
   "metadata": {},
   "source": [
    "## Prueba 2"
   ]
  },
  {
   "cell_type": "code",
   "execution_count": null,
   "metadata": {},
   "outputs": [],
   "source": [
    "# Create a thread\n",
    "config = {\"configurable\": {\"thread_id\": \"2\"}}\n",
    "\n",
    "# Start conversation\n",
    "input_message = HumanMessage(content=\"Quiero un coche mido 1.93. Peso 80 kg\")\n",
    "output = graph.invoke({\"messages\": [input_message]}, config) \n",
    "for m in output['messages'][-1:]:\n",
    "    m.pretty_print()"
   ]
  },
  {
   "cell_type": "code",
   "execution_count": null,
   "metadata": {},
   "outputs": [],
   "source": [
    "# Create a thread\n",
    "config = {\"configurable\": {\"thread_id\": \"2\"}}\n",
    "\n",
    "# Start conversation\n",
    "input_message = HumanMessage(content=\"si, lo soy\")\n",
    "output = graph.invoke({\"messages\": [input_message]}, config) \n",
    "for m in output['messages'][-1:]:\n",
    "    m.pretty_print()"
   ]
  },
  {
   "cell_type": "code",
   "execution_count": null,
   "metadata": {},
   "outputs": [],
   "source": [
    "print(output['preferencias_usuario'])\n",
    "print('---------------------------------------------------------------------')\n",
    "print(output['filtros_inferidos'])\n"
   ]
  },
  {
   "cell_type": "code",
   "execution_count": null,
   "metadata": {},
   "outputs": [],
   "source": [
    "# Create a thread\n",
    "config = {\"configurable\": {\"thread_id\": \"2\"}}\n",
    "\n",
    "# Start conversation\n",
    "input_message = HumanMessage(content=\"no\")\n",
    "output = graph.invoke({\"messages\": [input_message]}, config) \n",
    "for m in output['messages'][-1:]:\n",
    "    m.pretty_print()"
   ]
  },
  {
   "cell_type": "code",
   "execution_count": null,
   "metadata": {},
   "outputs": [],
   "source": [
    "# Create a thread\n",
    "config = {\"configurable\": {\"thread_id\": \"2\"}}\n",
    "\n",
    "# Start conversation\n",
    "input_message = HumanMessage(content=\"no\")\n",
    "output = graph.invoke({\"messages\": [input_message]}, config) \n",
    "for m in output['messages'][-1:]:\n",
    "    m.pretty_print()"
   ]
  },
  {
   "cell_type": "code",
   "execution_count": null,
   "metadata": {},
   "outputs": [],
   "source": [
    "# Create a thread\n",
    "config = {\"configurable\": {\"thread_id\": \"2\"}}\n",
    "\n",
    "# Start conversation\n",
    "input_message = HumanMessage(content=\"no\")\n",
    "output = graph.invoke({\"messages\": [input_message]}, config) \n",
    "for m in output['messages'][-1:]:\n",
    "    m.pretty_print()"
   ]
  },
  {
   "cell_type": "code",
   "execution_count": null,
   "metadata": {},
   "outputs": [],
   "source": [
    "# Create a thread\n",
    "config = {\"configurable\": {\"thread_id\": \"2\"}}\n",
    "\n",
    "# Start conversation\n",
    "input_message = HumanMessage(content=\"no\")\n",
    "output = graph.invoke({\"messages\": [input_message]}, config) \n",
    "for m in output['messages'][-1:]:\n",
    "    m.pretty_print()"
   ]
  },
  {
   "cell_type": "code",
   "execution_count": null,
   "metadata": {},
   "outputs": [],
   "source": [
    "# Create a thread\n",
    "config = {\"configurable\": {\"thread_id\": \"2\"}}\n",
    "\n",
    "# Start conversation\n",
    "input_message = HumanMessage(content=\"no\")\n",
    "output = graph.invoke({\"messages\": [input_message]}, config) \n",
    "for m in output['messages'][-1:]:\n",
    "    m.pretty_print()"
   ]
  },
  {
   "cell_type": "code",
   "execution_count": null,
   "metadata": {},
   "outputs": [],
   "source": [
    "# Create a thread\n",
    "config = {\"configurable\": {\"thread_id\": \"2\"}}\n",
    "\n",
    "# Start conversation\n",
    "input_message = HumanMessage(content=\"no\")\n",
    "output = graph.invoke({\"messages\": [input_message]}, config) \n",
    "for m in output['messages'][-1:]:\n",
    "    m.pretty_print()"
   ]
  },
  {
   "cell_type": "code",
   "execution_count": null,
   "metadata": {},
   "outputs": [],
   "source": [
    "print(output['preferencias_usuario'])\n",
    "print('---------------------------------------------------------------------')\n",
    "print(output['filtros_inferidos']) #"
   ]
  },
  {
   "cell_type": "code",
   "execution_count": null,
   "metadata": {},
   "outputs": [],
   "source": [
    "# Create a thread\n",
    "config = {\"configurable\": {\"thread_id\": \"2\"}}\n",
    "\n",
    "# Start conversation\n",
    "input_message = HumanMessage(content=\"ambos\")\n",
    "output = graph.invoke({\"messages\": [input_message]}, config) \n",
    "for m in output['messages'][-1:]:\n",
    "    m.pretty_print()"
   ]
  },
  {
   "cell_type": "code",
   "execution_count": null,
   "metadata": {},
   "outputs": [],
   "source": [
    "# Create a thread\n",
    "config = {\"configurable\": {\"thread_id\": \"2\"}}\n",
    "\n",
    "# Start conversation\n",
    "input_message = HumanMessage(content=\"5\")\n",
    "output = graph.invoke({\"messages\": [input_message]}, config) \n",
    "for m in output['messages'][-1:]:\n",
    "    m.pretty_print()"
   ]
  },
  {
   "cell_type": "code",
   "execution_count": null,
   "metadata": {},
   "outputs": [],
   "source": [
    "print(output['preferencias_usuario'])\n",
    "print('---------------------------------------------------------------------')\n",
    "# print(output['filtros_inferidos']) \n",
    "# print('---------------------------------------------------------------------')\n",
    "# #print(output['pesos'])"
   ]
  },
  {
   "cell_type": "code",
   "execution_count": null,
   "metadata": {},
   "outputs": [],
   "source": [
    "# Create a thread\n",
    "config = {\"configurable\": {\"thread_id\": \"2\"}}\n",
    "\n",
    "# Start conversation\n",
    "input_message = HumanMessage(content=\"6\")\n",
    "output = graph.invoke({\"messages\": [input_message]}, config) \n",
    "for m in output['messages'][-1:]:\n",
    "    m.pretty_print()"
   ]
  },
  {
   "cell_type": "code",
   "execution_count": null,
   "metadata": {},
   "outputs": [],
   "source": [
    "# Create a thread\n",
    "config = {\"configurable\": {\"thread_id\": \"2\"}}\n",
    "\n",
    "# Start conversation\n",
    "input_message = HumanMessage(content=\"7\")\n",
    "output = graph.invoke({\"messages\": [input_message]}, config) \n",
    "for m in output['messages'][-1:]:\n",
    "    m.pretty_print()"
   ]
  },
  {
   "cell_type": "code",
   "execution_count": null,
   "metadata": {},
   "outputs": [],
   "source": [
    "# Create a thread\n",
    "config = {\"configurable\": {\"thread_id\": \"2\"}}\n",
    "\n",
    "# Start conversation\n",
    "input_message = HumanMessage(content=\"9\")\n",
    "output = graph.invoke({\"messages\": [input_message]}, config) \n",
    "for m in output['messages'][-1:]:\n",
    "    m.pretty_print()"
   ]
  },
  {
   "cell_type": "code",
   "execution_count": null,
   "metadata": {},
   "outputs": [],
   "source": [
    "# Create a thread\n",
    "config = {\"configurable\": {\"thread_id\": \"2\"}}\n",
    "\n",
    "# Start conversation\n",
    "input_message = HumanMessage(content=\"5\")\n",
    "output = graph.invoke({\"messages\": [input_message]}, config) \n",
    "for m in output['messages'][-1:]:\n",
    "    m.pretty_print()"
   ]
  },
  {
   "cell_type": "code",
   "execution_count": null,
   "metadata": {},
   "outputs": [],
   "source": [
    "# Create a thread\n",
    "config = {\"configurable\": {\"thread_id\": \"2\"}}\n",
    "\n",
    "# Start conversation\n",
    "input_message = HumanMessage(content=\"ninguna\")\n",
    "output = graph.invoke({\"messages\": [input_message]}, config) \n",
    "for m in output['messages'][-1:]:\n",
    "    m.pretty_print()"
   ]
  },
  {
   "cell_type": "code",
   "execution_count": null,
   "metadata": {},
   "outputs": [],
   "source": [
    "# Create a thread\n",
    "config = {\"configurable\": {\"thread_id\": \"2\"}}\n",
    "\n",
    "# Start conversation\n",
    "input_message = HumanMessage(content=\"no\")\n",
    "output = graph.invoke({\"messages\": [input_message]}, config) \n",
    "for m in output['messages'][-1:]:\n",
    "    m.pretty_print()"
   ]
  },
  {
   "cell_type": "code",
   "execution_count": null,
   "metadata": {},
   "outputs": [],
   "source": [
    "# Create a thread\n",
    "config = {\"configurable\": {\"thread_id\": \"2\"}}\n",
    "\n",
    "# Start conversation\n",
    "input_message = HumanMessage(content=\"no, viajo solo\")\n",
    "output = graph.invoke({\"messages\": [input_message]}, config) \n",
    "for m in output['messages'][-1:]:\n",
    "    m.pretty_print()"
   ]
  },
  {
   "cell_type": "code",
   "execution_count": null,
   "metadata": {},
   "outputs": [],
   "source": [
    "# Create a thread\n",
    "config = {\"configurable\": {\"thread_id\": \"2\"}}\n",
    "\n",
    "# Start conversation\n",
    "input_message = HumanMessage(content=\"no\")\n",
    "output = graph.invoke({\"messages\": [input_message]}, config) \n",
    "for m in output['messages'][-1:]:\n",
    "    m.pretty_print()"
   ]
  },
  {
   "cell_type": "code",
   "execution_count": null,
   "metadata": {},
   "outputs": [],
   "source": [
    "# Create a thread\n",
    "config = {\"configurable\": {\"thread_id\": \"2\"}}\n",
    "\n",
    "# Start conversation\n",
    "input_message = HumanMessage(content=\"7\")\n",
    "output = graph.invoke({\"messages\": [input_message]}, config) \n",
    "for m in output['messages'][-1:]:\n",
    "    m.pretty_print()"
   ]
  },
  {
   "cell_type": "code",
   "execution_count": null,
   "metadata": {},
   "outputs": [],
   "source": [
    "config = {\"configurable\": {\"thread_id\": \"2\"}}\n",
    "input_message = HumanMessage(content=\"6\")\n",
    "output = graph.invoke({\"messages\": [input_message]}, config) \n",
    "for m in output['messages'][-1:]:\n",
    "    m.pretty_print()"
   ]
  },
  {
   "cell_type": "code",
   "execution_count": null,
   "metadata": {},
   "outputs": [],
   "source": [
    "config = {\"configurable\": {\"thread_id\": \"2\"}}\n",
    "input_message = HumanMessage(content=\"8\")\n",
    "output = graph.invoke({\"messages\": [input_message]}, config) \n",
    "for m in output['messages'][-1:]:\n",
    "    m.pretty_print()"
   ]
  },
  {
   "cell_type": "code",
   "execution_count": null,
   "metadata": {},
   "outputs": [],
   "source": [
    "# Create a thread\n",
    "config = {\"configurable\": {\"thread_id\": \"2\"}}\n",
    "\n",
    "# Start conversation\n",
    "input_message = HumanMessage(content=\"ocasionalmente\")\n",
    "output = graph.invoke({\"messages\": [input_message]}, config) \n",
    "for m in output['messages'][-1:]:\n",
    "    m.pretty_print()"
   ]
  },
  {
   "cell_type": "code",
   "execution_count": null,
   "metadata": {},
   "outputs": [],
   "source": [
    "# Create a thread\n",
    "config = {\"configurable\": {\"thread_id\": \"2\"}}\n",
    "\n",
    "# Start conversation\n",
    "input_message = HumanMessage(content=\"7\")\n",
    "output = graph.invoke({\"messages\": [input_message]}, config) \n",
    "for m in output['messages'][-1:]:\n",
    "    m.pretty_print()"
   ]
  },
  {
   "cell_type": "code",
   "execution_count": null,
   "metadata": {},
   "outputs": [],
   "source": [
    "# Create a thread\n",
    "config = {\"configurable\": {\"thread_id\": \"2\"}}\n",
    "\n",
    "# Start conversation\n",
    "input_message = HumanMessage(content=\"10\")\n",
    "output = graph.invoke({\"messages\": [input_message]}, config) \n",
    "for m in output['messages'][-1:]:\n",
    "    m.pretty_print()"
   ]
  },
  {
   "cell_type": "code",
   "execution_count": null,
   "metadata": {},
   "outputs": [],
   "source": [
    "\n",
    "print(output['preferencias_usuario'])\n",
    "print('---------------------------------------------------------------------')\n",
    "# print(output['filtros_inferidos']) \n",
    "print('---------------------------------------------------------------------')\n",
    "# print(output['economia'])"
   ]
  },
  {
   "cell_type": "code",
   "execution_count": null,
   "metadata": {},
   "outputs": [],
   "source": [
    "# Create a thread\n",
    "config = {\"configurable\": {\"thread_id\": \"2\"}}\n",
    "\n",
    "# Start conversation\n",
    "input_message = HumanMessage(content=\"si, llevo 2 acompañantes\")\n",
    "output = graph.invoke({\"messages\": [input_message]}, config) \n",
    "for m in output['messages'][-1:]:\n",
    "    m.pretty_print()"
   ]
  },
  {
   "cell_type": "code",
   "execution_count": null,
   "metadata": {},
   "outputs": [],
   "source": [
    "print(output['preferencias_usuario'])\n",
    "print('---------------------------------------------------------------------')\n",
    "print(output['filtros_inferidos']) #"
   ]
  },
  {
   "cell_type": "code",
   "execution_count": null,
   "metadata": {},
   "outputs": [],
   "source": [
    "config = {\"configurable\": {\"thread_id\": \"2\"}}\n",
    "input_message = HumanMessage(content=\"ninos no\")\n",
    "output = graph.invoke({\"messages\": [input_message]}, config) \n",
    "for m in output['messages'][-1:]:\n",
    "    m.pretty_print()"
   ]
  },
  {
   "cell_type": "code",
   "execution_count": null,
   "metadata": {},
   "outputs": [],
   "source": [
    "config = {\"configurable\": {\"thread_id\": \"2\"}}\n",
    "input_message = HumanMessage(content=\"la 2\")\n",
    "output = graph.invoke({\"messages\": [input_message]}, config) \n",
    "for m in output['messages'][-1:]:\n",
    "    m.pretty_print()"
   ]
  },
  {
   "cell_type": "code",
   "execution_count": null,
   "metadata": {},
   "outputs": [],
   "source": [
    "config = {\"configurable\": {\"thread_id\": \"2\"}}\n",
    "input_message = HumanMessage(content=\"pago total al contado maximo de 22.000 euros\")\n",
    "output = graph.invoke({\"messages\": [input_message]}, config) \n",
    "for m in output['messages'][-1:]:\n",
    "    m.pretty_print()"
   ]
  },
  {
   "cell_type": "code",
   "execution_count": null,
   "metadata": {},
   "outputs": [],
   "source": [
    "config = {\"configurable\": {\"thread_id\": \"2\"}}\n",
    "input_message = HumanMessage(content=\"6.000 ahorrados\")\n",
    "output = graph.invoke({\"messages\": [input_message]}, config) \n",
    "for m in output['messages'][-1:]:\n",
    "    m.pretty_print()"
   ]
  },
  {
   "cell_type": "code",
   "execution_count": null,
   "metadata": {},
   "outputs": [],
   "source": [
    "config = {\"configurable\": {\"thread_id\": \"2\"}}\n",
    "input_message = HumanMessage(content=\"5 años\")\n",
    "output = graph.invoke({\"messages\": [input_message]}, config) \n",
    "for m in output['messages'][-1:]:\n",
    "    m.pretty_print()"
   ]
  },
  {
   "cell_type": "code",
   "execution_count": null,
   "metadata": {},
   "outputs": [],
   "source": [
    "print(output['preferencias_usuario'])\n",
    "print('---------------------------------------------------------------------')\n",
    "print(output['filtros_inferidos'])\n",
    "print('---------------------------------------------------------------------')\n",
    "print(output['economia'])\n",
    "print('---------------------------------------------------------------------')\n",
    "print(output['pesos'])"
   ]
  },
  {
   "cell_type": "code",
   "execution_count": null,
   "metadata": {},
   "outputs": [],
   "source": [
    "print(output.keys())"
   ]
  },
  {
   "cell_type": "code",
   "execution_count": null,
   "metadata": {},
   "outputs": [],
   "source": [
    "print(output['pesos'])"
   ]
  },
  {
   "cell_type": "code",
   "execution_count": null,
   "metadata": {},
   "outputs": [],
   "source": [
    "state = graph.get_state(config).values\n",
    "for m in state['messages']:\n",
    "    m.pretty_print()\n",
    "    \n",
    "    "
   ]
  },
  {
   "cell_type": "markdown",
   "metadata": {},
   "source": [
    "revisar las reglas de altura "
   ]
  },
  {
   "cell_type": "markdown",
   "metadata": {},
   "source": [
    "## Prueba 3"
   ]
  },
  {
   "cell_type": "code",
   "execution_count": null,
   "metadata": {},
   "outputs": [],
   "source": [
    "# Create a thread\n",
    "config = {\"configurable\": {\"thread_id\": \"3\"}}\n",
    "\n",
    "# Start conversation\n",
    "input_message = HumanMessage(content=\"hola, dime quien eres?\")\n",
    "output = graph.invoke({\"messages\": [input_message]}, config) \n",
    "for m in output['messages'][-1:]:\n",
    "    m.pretty_print()\n"
   ]
  },
  {
   "cell_type": "code",
   "execution_count": null,
   "metadata": {},
   "outputs": [],
   "source": [
    "print(output['preferencias_usuario'])\n",
    "print('---------------------------------------------------------------------')\n",
    "print(output['filtros_inferidos'])\n"
   ]
  },
  {
   "cell_type": "code",
   "execution_count": null,
   "metadata": {},
   "outputs": [],
   "source": [
    "# Create a thread\n",
    "config = {\"configurable\": {\"thread_id\": \"3\"}}\n",
    "\n",
    "# Start conversation\n",
    "input_message = HumanMessage(content=\"tienes motos?\")\n",
    "output = graph.invoke({\"messages\": [input_message]}, config) \n",
    "for m in output['messages'][-1:]:\n",
    "    m.pretty_print()\n"
   ]
  },
  {
   "cell_type": "code",
   "execution_count": null,
   "metadata": {},
   "outputs": [],
   "source": [
    "print(output['preferencias_usuario'])\n",
    "print('---------------------------------------------------------------------')\n",
    "print(output['filtros_inferidos'])"
   ]
  },
  {
   "cell_type": "code",
   "execution_count": null,
   "metadata": {},
   "outputs": [],
   "source": [
    "# Consultar todo el estado acumulado\n",
    "state = graph.get_state(config).values\n",
    "for m in state[\"messages\"]:\n",
    "    m.pretty_print()"
   ]
  },
  {
   "cell_type": "markdown",
   "metadata": {},
   "source": [
    "## Prueba 4"
   ]
  },
  {
   "cell_type": "code",
   "execution_count": null,
   "metadata": {},
   "outputs": [],
   "source": [
    "# Create a thread\n",
    "config = {\"configurable\": {\"thread_id\": \"4\"}}\n",
    "\n",
    "# Start conversation\n",
    "input_message = HumanMessage(content=\"Quiero un coche elegante que usaré para trabajar todos los días. Me gustan los diseños llamativos. Mido 1.94\")\n",
    "output = graph.invoke({\"messages\": [input_message]}, config) \n",
    "for m in output['messages'][-1:]:\n",
    "    m.pretty_print()"
   ]
  },
  {
   "cell_type": "code",
   "execution_count": null,
   "metadata": {},
   "outputs": [],
   "source": [
    "print(output['preferencias_usuario'])\n",
    "print('---------------------------------------------------------------------')\n",
    "print(output['filtros_inferidos'])\n"
   ]
  },
  {
   "cell_type": "code",
   "execution_count": null,
   "metadata": {},
   "outputs": [],
   "source": [
    "# Create a thread\n",
    "config = {\"configurable\": {\"thread_id\": \"4\"}}\n",
    "\n",
    "# Start conversation\n",
    "input_message = HumanMessage(content=\"si electrico estaria perfecto\")\n",
    "output = graph.invoke({\"messages\": [input_message]}, config) \n",
    "for m in output['messages'][-1:]:\n",
    "    m.pretty_print()"
   ]
  },
  {
   "cell_type": "code",
   "execution_count": null,
   "metadata": {},
   "outputs": [],
   "source": [
    "print(output['preferencias_usuario'])\n",
    "print('---------------------------------------------------------------------')\n",
    "print(output['filtros_inferidos'])"
   ]
  },
  {
   "cell_type": "code",
   "execution_count": null,
   "metadata": {},
   "outputs": [],
   "source": [
    "# Create a thread\n",
    "config = {\"configurable\": {\"thread_id\": \"4\"}}\n",
    "\n",
    "# Start conversation\n",
    "input_message = HumanMessage(content=\"automatico y peso menos de 100kg\")\n",
    "output = graph.invoke({\"messages\": [input_message]}, config) \n",
    "for m in output['messages'][-1:]:\n",
    "    m.pretty_print()"
   ]
  },
  {
   "cell_type": "code",
   "execution_count": null,
   "metadata": {},
   "outputs": [],
   "source": [
    "print(output['preferencias_usuario'])\n",
    "print('---------------------------------------------------------------------')\n",
    "print(output['filtros_inferidos'])"
   ]
  },
  {
   "cell_type": "code",
   "execution_count": null,
   "metadata": {},
   "outputs": [],
   "source": [
    "# Create a thread\n",
    "config = {\"configurable\": {\"thread_id\": \"4\"}}\n",
    "\n",
    "# Start conversation\n",
    "input_message = HumanMessage(content=\"si me apasionan los coches\")\n",
    "output = graph.invoke({\"messages\": [input_message]}, config) \n",
    "for m in output['messages'][-1:]:\n",
    "    m.pretty_print()"
   ]
  },
  {
   "cell_type": "code",
   "execution_count": null,
   "metadata": {},
   "outputs": [],
   "source": [
    "print(output['preferencias_usuario'])\n",
    "print('---------------------------------------------------------------------')\n",
    "print(output['filtros_inferidos'])"
   ]
  },
  {
   "cell_type": "code",
   "execution_count": null,
   "metadata": {},
   "outputs": [],
   "source": [
    "# Create a thread\n",
    "config = {\"configurable\": {\"thread_id\": \"4\"}}\n",
    "\n",
    "# Start conversation\n",
    "input_message = HumanMessage(content=\"si\")\n",
    "output = graph.invoke({\"messages\": [input_message]}, config) \n",
    "for m in output['messages'][-1:]:\n",
    "    m.pretty_print()"
   ]
  },
  {
   "cell_type": "markdown",
   "metadata": {},
   "source": [
    "# Prueba 5"
   ]
  },
  {
   "cell_type": "code",
   "execution_count": null,
   "metadata": {},
   "outputs": [],
   "source": [
    "# Create a thread\n",
    "config = {\"configurable\": {\"thread_id\": \"5\"}}\n",
    "\n",
    "# Start conversation\n",
    "input_message = HumanMessage(content=\"Dime quien eres\")\n",
    "output = graph.invoke({\"messages\": [input_message]}, config) \n",
    "for m in output['messages'][-1:]:\n",
    "    m.pretty_print()"
   ]
  },
  {
   "cell_type": "code",
   "execution_count": null,
   "metadata": {},
   "outputs": [],
   "source": [
    "# Create a thread\n",
    "config = {\"configurable\": {\"thread_id\": \"5\"}}\n",
    "\n",
    "# Start conversation\n",
    "input_message = HumanMessage(content=\"tienes motos para recomendarme?\")\n",
    "output = graph.invoke({\"messages\": [input_message]}, config) \n",
    "for m in output['messages'][-1:]:\n",
    "    m.pretty_print()"
   ]
  },
  {
   "cell_type": "code",
   "execution_count": null,
   "metadata": {},
   "outputs": [],
   "source": [
    "state = graph.get_state(config).values\n",
    "for m in state[\"messages\"]:\n",
    "    m.pretty_print()"
   ]
  },
  {
   "cell_type": "markdown",
   "metadata": {},
   "source": [
    "## Objetivo\n",
    "Crear un nuevo nodo en LangGraph llamado analizar_perfil_usuario que:\n",
    "\n",
    "Reciba el mensaje del usuario.\n",
    "\n",
    "Llame a un LLM con un SystemMessage especializado.\n",
    "\n",
    "Devuelva un dict con tres secciones:\n",
    "\n",
    "\"perfil_usuario\" → altura, peso, uso, gustos, etc.\n",
    "\n",
    "\"filtros_inferidos\" → potencia_min, plazas_min, etc.\n",
    "\n",
    "\"mensaje_validacion\"\n",
    "\n",
    "Este resultado lo guardaremos en el state para luego usarlo al llamar buscar_producto_bd()."
   ]
  },
  {
   "cell_type": "code",
   "execution_count": null,
   "metadata": {},
   "outputs": [],
   "source": []
  },
  {
   "cell_type": "code",
   "execution_count": null,
   "metadata": {},
   "outputs": [],
   "source": [
    "\n",
    "# Configurar el cliente de BigQuery\n",
    "client = bigquery.Client(project=\"thecarmentor-mvp2\")\n",
    "\n",
    "@tool\n",
    "def buscar_producto_bd(consulta: str, filtros: dict = None):\n",
    "    \"\"\"\n",
    "    Busca productos en la base de datos utilizando una consulta semántica en BigQuery.\n",
    "    Tu objetivo es proporcionar respuestas precisas para ayudar en la búsqueda en el inventario de coches disponibles.\n",
    "    \n",
    "    Args:\n",
    "        consulta (str): Consulta de texto para buscar productos similares.\n",
    "    \n",
    "    Returns:\n",
    "        list[dict]: Resultados formateados como una lista de diccionarios con detalles de los productos más relevantes.\n",
    "    \"\"\"\n",
    "    \n",
    "    if not consulta.strip():\n",
    "        raise ValueError(\"La consulta no puede estar vacía.\")\n",
    "\n",
    "    # Normalizar la consulta para que coincida con el formato de los embeddings.\n",
    "    consulta_normalizada = normalize_text_sql(consulta)\n",
    "    logging.debug(f\"Consulta normalizada: {consulta_normalizada}\")\n",
    "    \n",
    "    try:\n",
    "        base_query = \"\"\"\n",
    "        WITH resultados_vector AS (\n",
    "            SELECT \n",
    "                base.content AS nombre_coche,\n",
    "                base.mecanica,\n",
    "                base.price,\n",
    "                base.KM,\n",
    "                base.year,\n",
    "                base.image_url,\n",
    "                search_result.distance\n",
    "            FROM VECTOR_SEARCH(\n",
    "                TABLE `web_cars.coches_embeddingsV1`,\n",
    "                'ml_generate_embedding_result',\n",
    "                (SELECT * FROM ML.GENERATE_EMBEDDING(\n",
    "                    MODEL `thecarmentor-mvp2.mymodel.modelembedding`,\n",
    "                    (SELECT @consulta AS content),\n",
    "                    STRUCT(TRUE AS flatten_json_output, 'SEMANTIC_SIMILARITY' AS task_type, 768 AS output_dimensionality)\n",
    "                )),\n",
    "                'ml_generate_embedding_result',\n",
    "                top_k => 6\n",
    "            ) AS search_result\n",
    "        )\n",
    "        SELECT * FROM resultados_vector\n",
    "        WHERE 1=1\n",
    "        \"\"\"\n",
    "        \n",
    "        # Inicializar lista de condiciones y parámetros\n",
    "        query_conditions = []\n",
    "        # Usamos la consulta normalizada para la generación del embedding\n",
    "        query_parameters = [bigquery.ScalarQueryParameter(\"consulta\", \"STRING\", consulta_normalizada)]\n",
    "        \n",
    "        # Agregar condiciones dinámicamente según los filtros proporcionados\n",
    "        if filtros:\n",
    "            if 'precio_max' in filtros:\n",
    "                query_conditions.append(\"price <= @precio_max\")\n",
    "                query_parameters.append(bigquery.ScalarQueryParameter(\"precio_max\", \"INT64\", filtros[\"precio_max\"]))\n",
    "            if 'precio_min' in filtros:\n",
    "                query_conditions.append(\"price >= @precio_min\")\n",
    "                query_parameters.append(bigquery.ScalarQueryParameter(\"precio_min\", \"INT64\", filtros[\"precio_min\"]))\n",
    "            if 'year_min' in filtros:\n",
    "                query_conditions.append(\"year >= @year_min\")\n",
    "                query_parameters.append(bigquery.ScalarQueryParameter(\"year_min\", \"INT64\", filtros[\"year_min\"]))\n",
    "            if 'km_max' in filtros:\n",
    "                query_conditions.append(\"KM <= @km_max\")\n",
    "                query_parameters.append(bigquery.ScalarQueryParameter(\"km_max\", \"INT64\", filtros[\"km_max\"]))\n",
    "\n",
    "        # Si hay filtros, agregarlos a la consulta\n",
    "        # if query_conditions:\n",
    "        #     base_query += \" AND \" + \" AND \".join(query_conditions)\n",
    "        if query_conditions:\n",
    "            base_query += \" \" + \" AND \".join(query_conditions)\n",
    "\n",
    "\n",
    "        logging.debug(f\"Consulta SQL generada: {base_query}\")\n",
    "        logging.debug(f\"Parámetros de consulta: {query_parameters}\")\n",
    "\n",
    "        # Ejecutar la consulta\n",
    "        query_job = client.query(\n",
    "            base_query, \n",
    "            job_config=bigquery.QueryJobConfig(query_parameters=query_parameters)\n",
    "        )\n",
    "        results = query_job.result().to_dataframe()\n",
    "        # Ordenar los resultados por similitud\n",
    "        if not results.empty:\n",
    "            results = results.sort_values(by=\"distance\", ascending=True)\n",
    "\n",
    "        if results.empty:\n",
    "            return [{\"error\": \"No se encontraron resultados para la consulta y los filtros aplicados.\"}]\n",
    "            \n",
    "        formatted_results = [\n",
    "            {\n",
    "                \"nombre_coche\": row[\"nombre_coche\"],\n",
    "                \"mecanica\": row[\"mecanica\"],\n",
    "                \"precio\": row[\"price\"],\n",
    "                \"kilometros\": row[\"KM\"],\n",
    "                \"año\": row[\"year\"],\n",
    "                \"imagen\": row[\"image_url\"],\n",
    "                \"similitud\": round(row[\"distance\"], 2)\n",
    "            }\n",
    "            for _, row in results.iterrows()\n",
    "        ]\n",
    "        return formatted_results\n",
    "\n",
    "    except Exception as e:\n",
    "        logging.error(f\"Error al ejecutar la consulta: {e}\", exc_info=True)\n",
    "        return [{\"error\": \"No se pudieron encontrar resultados.\"}]\n",
    "\n",
    "# Definir herramientas\n",
    "# tools = [buscar_producto_bd]\n",
    "\n",
    "\n",
    "\n",
    "# Actualizar lista de herramientas\n",
    "tools = [buscar_producto_bd]\n",
    "llm_with_tools = llm.bind_tools(tools, parallel_tool_calls=True)\n"
   ]
  },
  {
   "cell_type": "code",
   "execution_count": null,
   "metadata": {},
   "outputs": [],
   "source": [
    "\n",
    "sys_msg = SystemMessage(content=\"\"\"Eres Mentor, un util y experto en la busqueda de coches.\n",
    "INSTRUCCIONES IMPORTANTES:\n",
    "**Antes de hacer una búsqueda en la base de datos, analiza la consulta y extrae solo la información clave.**  \n",
    "   - Si el usuario menciona un coche, filtra la consulta para obtener solo **la marca, modelo, versión, tipo de motorización y año**.\n",
    "   - **No incluyas frases completas del usuario como búsqueda.**  \n",
    "   - **No pases palabras como \"quiero\", \"busco\", \"auto\", \"coche\", \"modelo\", \"año\" si no son parte del nombre oficial del coche.**\n",
    "   - **Ejemplo:**  \n",
    "     - Entrada: `\"quiero coche bmw serie 1 120d hibrido año 2024\"`  \n",
    "     - **Consulta que debes generar:** `\"bmw serie 1 120d hibrido 2024\"`\n",
    "\n",
    "**Definiendo Preferencias**\n",
    "   - Para dar recomendaciones acertadas, puedes pedir al usuario que proporcione detalles sobre lo que busca:\n",
    "     • ¿Tienes una **marca** preferida?\n",
    "     • ¿Cuál es tu **presupuesto máximo**? (Opcional)\n",
    "     • ¿Te importa el **kilometraje máximo**? (Opcional)\n",
    "     • ¿Qué **años de antigüedad** son aceptables? (Opcional)\n",
    "\n",
    "**Presentación de Resultados**\n",
    "    - Aplica los filtros pero muestra también alguna alternativa fuera de los filtros si es muy relevante\n",
    "    Usa este formato para cada coche encontrado: \n",
    "    ### [Modelo]\n",
    "    ![Imagen del vehículo]([url_imagen])\n",
    "     - **Precio:** [precio]€\n",
    "     - **Kilómetros:** [km] km\n",
    "     - **Mecánica:** [tipo]\n",
    "     - **Año:** [year]\n",
    "     - **Similitud con tu búsqueda:** [score]\n",
    " \n",
    "** Ajustes**\n",
    "   - Si no encuentras lo que buscas, dime si quieres:\n",
    "   - Aumentar el **presupuesto** para ver modelos más recientes.\n",
    "   - Ampliar el **kilometraje permitido** para más opciones.\n",
    "   - Incluir **otros años** para expandir la búsqueda.\n",
    "   \n",
    "**Información Adicional**\n",
    "   -usa la herramienta `buscar_info_adicional` para obtener información actualizada sobre un modelo específico de coche.\n",
    "   - **Ejemplo:** `buscar_info_adicional(\"que caracteristicas tiene el BMW 320d 2019\")`\n",
    "\"\"\")\n",
    "# - También puedo **comparar dos coches** si tienes modelos específicos en mente.\n",
    "def assistant(state: MessagesState):\n",
    "    \"\"\"\n",
    "    Función principal del asistente invocando una búsqueda.\n",
    "    \"\"\"\n",
    "    return {\"messages\": [llm_with_tools.invoke([sys_msg] + state[\"messages\"])]}\n",
    "\n",
    "\n",
    "#    user_input = state[\"messages\"][-1].content  # Último mensaje del usuario\n",
    "# if detect_comparison_intent(user_input):\n",
    "#         car1, car2 = extract_car_models_llm(user_input)\n",
    "#         if car1 and car2:\n",
    "#             car1_data, car2_data = obtener_datos_comparacion(car1, car2)\n",
    "#             return {\"messages\": [comparar_coches_llm(car1_data, car2_data)]}\n",
    "#         else:\n",
    "#             return {\"messages\": [\"No pude identificar claramente los coches a comparar. ¿Podrías mencionarlos nuevamente?\"]}\n"
   ]
  },
  {
   "cell_type": "code",
   "execution_count": null,
   "metadata": {},
   "outputs": [],
   "source": [
    "memory = MemorySaver()\n",
    "\n",
    "# Graph\n",
    "graph = StateGraph(MessagesState)\n",
    "\n",
    "# Define nodes: these do the work\n",
    "graph.add_node(\"assistant\", assistant)\n",
    "graph.add_node(\"tools\", ToolNode(tools))\n",
    "\n",
    "# Define edges: these determine how the control flow moves\n",
    "graph.add_edge(START, \"assistant\")\n",
    "graph.add_conditional_edges(\n",
    "    \"assistant\",\n",
    "    lambda state: logging.debug(f\"tools_condition evalúa: {tools_condition(state)}\") or tools_condition(state)\n",
    ")\n",
    "    # If the latest message (result) from assistant is a tool call -> tools_condition routes to tools\n",
    "    # If the latest message (result) from assistant is a not a tool call -> tools_condition routes to END\n",
    "#     tools_condition,\n",
    "# )\n",
    "graph.add_edge(\"tools\", \"assistant\")\n",
    "graph = graph.compile(checkpointer=memory)\n",
    "# Show\n",
    "display(Image(graph.get_graph(xray=True).draw_mermaid_png()))"
   ]
  },
  {
   "cell_type": "code",
   "execution_count": null,
   "metadata": {},
   "outputs": [],
   "source": [
    "# Start conversation, again\n",
    "config = {\"configurable\": {\"thread_id\": \"1\"}}\n",
    "\n",
    "# Specify an input\n",
    "input_message = HumanMessage(content=\"quiero coche bmw serie 1 120d hibrido año 2024\")\n",
    "output = graph.invoke({\"messages\": input_message}, config)\n",
    "\n",
    "# Mostrar los mensajes resultantes del primer paso\n",
    "for m in output[\"messages\"]:\n",
    "    m.pretty_print()"
   ]
  },
  {
   "cell_type": "code",
   "execution_count": null,
   "metadata": {},
   "outputs": [],
   "source": [
    "# Start conversation, again\n",
    "config = {\"configurable\": {\"thread_id\": \"1\"}}\n",
    "\n",
    "# Specify an input\n",
    "input_message = HumanMessage(content=\"kilometraje 50.000 y presupuesto no importa, muestrame todas las opciones\")\n",
    "output = graph.invoke({\"messages\": input_message}, config)\n",
    "\n",
    "# Mostrar los mensajes resultantes del primer paso\n",
    "for m in output[\"messages\"]:\n",
    "    m.pretty_print()"
   ]
  },
  {
   "cell_type": "code",
   "execution_count": null,
   "metadata": {},
   "outputs": [],
   "source": [
    "# Start conversation, again\n",
    "config = {\"configurable\": {\"thread_id\": \"1\"}}\n",
    "\n",
    "# Specify an input\n",
    "input_message = HumanMessage(content=\"podrias darme las caracteristicas del bmw serie 1 118i 2024 diesel\")\n",
    "output = graph.invoke({\"messages\": input_message}, config)\n",
    "\n",
    "# Mostrar los mensajes resultantes del primer paso\n",
    "for m in output[\"messages\"]:\n",
    "    m.pretty_print()"
   ]
  },
  {
   "cell_type": "code",
   "execution_count": null,
   "metadata": {},
   "outputs": [],
   "source": [
    "# Start conversation, again\n",
    "config = {\"configurable\": {\"thread_id\": \"1\"}}\n",
    "\n",
    "# Specify an input\n",
    "input_message = HumanMessage(content=\"si, dame las caracteristicas del El 118i a gasolina\")\n",
    "output = graph.invoke({\"messages\": input_message}, config)\n",
    "\n",
    "# Mostrar los mensajes resultantes del primer paso\n",
    "for m in output[\"messages\"]:\n",
    "    m.pretty_print()"
   ]
  },
  {
   "cell_type": "code",
   "execution_count": null,
   "metadata": {},
   "outputs": [],
   "source": [
    "# Start conversation, again\n",
    "config = {\"configurable\": {\"thread_id\": \"2\"}}\n",
    "\n",
    "# Specify an input\n",
    "input_message = HumanMessage(content=\"quiero un coche kia sportage a gasolina, puede ser año 2011 a 2020 y no importa el kilometraje\")\n",
    "output = graph.invoke({\"messages\": input_message}, config)\n",
    "\n",
    "# Mostrar los mensajes resultantes del primer paso\n",
    "for m in output[\"messages\"]:\n",
    "    m.pretty_print()"
   ]
  },
  {
   "cell_type": "code",
   "execution_count": null,
   "metadata": {},
   "outputs": [],
   "source": [
    "# Start conversation\n",
    "config = {\"configurable\": {\"thread_id\": \"2\"}}\n",
    "\n",
    "# Specify an input\n",
    "input_message = HumanMessage(content=\"maximo 25.000 euros\")\n",
    "output = graph.invoke({\"messages\": input_message}, config)\n",
    "\n",
    "# Mostrar los mensajes resultantes del primer paso\n",
    "for m in output[\"messages\"]:\n",
    "    m.pretty_print()"
   ]
  },
  {
   "cell_type": "code",
   "execution_count": null,
   "metadata": {},
   "outputs": [],
   "source": [
    "config = {\"configurable\": {\"thread_id\": \"3\"}}\n",
    "\n",
    "# Specify an input\n",
    "input_message = HumanMessage(content=\"Mentor quiero un coche familiar, me podrias recomendar alguno?\")\n",
    "output = graph.invoke({\"messages\": input_message}, config)\n",
    "\n",
    "# Mostrar los mensajes resultantes del primer paso\n",
    "for m in output[\"messages\"]:\n",
    "    m.pretty_print()"
   ]
  },
  {
   "cell_type": "code",
   "execution_count": null,
   "metadata": {},
   "outputs": [],
   "source": [
    "# Start conversation, again\n",
    "config = {\"configurable\": {\"thread_id\": \"3\"}}\n",
    "\n",
    "# Specify an input\n",
    "input_message = HumanMessage(content=\"segun tu conocimiento que me recomiendas?\")\n",
    "output = graph.invoke({\"messages\": input_message}, config)\n",
    "\n",
    "# Mostrar los mensajes resultantes del primer paso\n",
    "for m in output[\"messages\"]:\n",
    "    m.pretty_print()"
   ]
  },
  {
   "cell_type": "code",
   "execution_count": null,
   "metadata": {},
   "outputs": [],
   "source": [
    "# Start conversation, again\n",
    "config = {\"configurable\": {\"thread_id\": \"3\"}}\n",
    "\n",
    "# Specify an input\n",
    "input_message = HumanMessage(content=\"pues SUV estaria bien y presupuesto hasta  12.000\")\n",
    "output = graph.invoke({\"messages\": input_message}, config)\n",
    "\n",
    "# Mostrar los mensajes resultantes del primer paso\n",
    "for m in output[\"messages\"]:\n",
    "    m.pretty_print()"
   ]
  },
  {
   "cell_type": "code",
   "execution_count": null,
   "metadata": {},
   "outputs": [],
   "source": [
    "# Start conversation, again\n",
    "config = {\"configurable\": {\"thread_id\": \"3\"}}\n",
    "\n",
    "# Specify an input\n",
    "input_message = HumanMessage(content=\"diesel o gasolina esta bien\")\n",
    "output = graph.invoke({\"messages\": input_message}, config)\n",
    "\n",
    "# Mostrar los mensajes resultantes del primer paso\n",
    "for m in output[\"messages\"]:\n",
    "    m.pretty_print()"
   ]
  },
  {
   "cell_type": "code",
   "execution_count": null,
   "metadata": {},
   "outputs": [],
   "source": [
    "# Start conversation, again\n",
    "config = {\"configurable\": {\"thread_id\": \"3\"}}\n",
    "\n",
    "# Specify an input\n",
    "input_message = HumanMessage(content=\"vale maximo 10 años\")\n",
    "output = graph.invoke({\"messages\": input_message}, config)\n",
    "\n",
    "# Mostrar los mensajes resultantes del primer paso\n",
    "for m in output[\"messages\"]:\n",
    "    m.pretty_print()"
   ]
  }
 ],
 "metadata": {
  "kernelspec": {
   "display_name": "car_env",
   "language": "python",
   "name": "python3"
  },
  "language_info": {
   "codemirror_mode": {
    "name": "ipython",
    "version": 3
   },
   "file_extension": ".py",
   "mimetype": "text/x-python",
   "name": "python",
   "nbconvert_exporter": "python",
   "pygments_lexer": "ipython3",
   "version": "3.11.5"
  }
 },
 "nbformat": 4,
 "nbformat_minor": 2
}
