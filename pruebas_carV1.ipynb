{
 "cells": [
  {
   "cell_type": "code",
   "execution_count": null,
   "metadata": {},
   "outputs": [],
   "source": [
    "from langchain.chat_models import init_chat_model\n",
    "\n",
    "# LLM base\n",
    "llm = init_chat_model(\"openai:gpt-4o-mini\", temperature=0.2)\n",
    "print(llm.invoke(\"Hola, ¿quién eres?\").content)\n",
    "\n",
    "from config.llm import llm_validacion\n",
    "\n",
    "print(llm_validacion.invoke(\"Hola, ¿quién eres?\").content)"
   ]
  },
  {
   "cell_type": "code",
   "execution_count": null,
   "metadata": {},
   "outputs": [],
   "source": [
    "from config.llm import llm_validacion , prompt_validacion\n",
    "from langchain_core.messages import SystemMessage, HumanMessage\n",
    "\n",
    "respuesta = llm_validacion.invoke([\n",
    "    SystemMessage(content=prompt_validacion),\n",
    "    HumanMessage(content=\"Hola, ¿quién eres?\")\n",
    "])\n",
    "print(respuesta.content)\n",
    "\n",
    "\n"
   ]
  },
  {
   "cell_type": "code",
   "execution_count": null,
   "metadata": {},
   "outputs": [],
   "source": [
    "from config.llm import prompt_validacion\n",
    "\n",
    "print(prompt_validacion)"
   ]
  },
  {
   "cell_type": "code",
   "execution_count": null,
   "metadata": {},
   "outputs": [],
   "source": [
    "from utils.enums import TipoMecanica # Ajusta la ruta\n",
    "\n",
    "valores_mecanica = \", \".join([f\"'{e.value}'\" for e in TipoMecanica]) \n",
    "print(valores_mecanica)\n",
    "# Ejemplo de salida: 'BEV', 'GASOLINA', 'DIESEL', 'HIBRIDO', ..."
   ]
  },
  {
   "cell_type": "code",
   "execution_count": null,
   "metadata": {},
   "outputs": [],
   "source": [
    "from graph.perfil.state import ResultadoEconomia,ResultadoSoloFiltros,ResultadoSoloPerfil, ResultadoPasajeros # Ajusta la ruta,\n",
    "import json\n",
    "\n",
    "schema = ResultadoSoloPerfil.model_json_schema()\n",
    "print(json.dumps(schema, indent=2))\n",
    "\n"
   ]
  },
  {
   "cell_type": "code",
   "execution_count": null,
   "metadata": {},
   "outputs": [],
   "source": [
    "from utils.conversion import get_enum_names\n",
    "from utils.enums import TipoCarroceria, TipoMecanica\n",
    "\n",
    "#get_enum_names([TipoCarroceria.COMERCIAL, TipoCarroceria.PICKUP])\n",
    "\n",
    "#Dos maneras de obtener los nombres de las clases enums\n",
    "print(\"totalidad tipo carroceria:\" , list(TipoCarroceria))\n",
    "print(\"totalidad mecanica\" , get_enum_names(list(TipoMecanica)))\n",
    "print(\"totalidad mecanica\" ,(list(TipoMecanica)))\n"
   ]
  },
  {
   "cell_type": "markdown",
   "metadata": {},
   "source": [
    "# Creacion del Grafo"
   ]
  },
  {
   "cell_type": "code",
   "execution_count": 1,
   "metadata": {},
   "outputs": [
    {
     "name": "stdout",
     "output_type": "stream",
     "text": [
      "INFO ► Compilando el grafo...\n",
      "INFO ► Grafo compilado exitosamente.\n"
     ]
    }
   ],
   "source": [
    "from langchain_core.messages import SystemMessage, HumanMessage\n",
    "# Importar el constructor del grafo\n",
    "from IPython.display import Image, display\n",
    "from graph.perfil.builder import build_sequential_agent_graph\n",
    "# Construir el grafo\n",
    "graph = build_sequential_agent_graph()\n",
    "#display(Image(graph.get_graph(xray=True).draw_mermaid_png()))\n"
   ]
  },
  {
   "cell_type": "markdown",
   "metadata": {},
   "source": [
    "## Prueba 1"
   ]
  },
  {
   "cell_type": "code",
   "execution_count": 2,
   "metadata": {},
   "outputs": [
    {
     "name": "stdout",
     "output_type": "stream",
     "text": [
      "--- Ejecutando Nodo: route_based_on_state_node ---\n",
      "\n",
      "--- DEBUG: Evaluating Routing Decision ---\n",
      "--- DEBUG CHECK PERFIL ---\n",
      "Input prefs object: None\n",
      "Input prefs type: <class 'NoneType'>\n",
      "DEBUG Router: Prefs OK? False\n",
      "--- DEBUG CHECK PASAJEROS ---\n",
      "Input info pasajeros: None\n",
      "DEBUG (Validation Pasajeros) ► Objeto InfoPasajeros es None.\n",
      "DEBUG Router: Pasajeros OK? False\n",
      "DEBUG (Validation Filtros) ► Objeto FiltrosInferidos es None.\n",
      "DEBUG Router: Filtros OK? False\n",
      "--- DEBUG CHECK ECONOMIA (Manual) ---\n",
      "Input econ object: None\n",
      "DEBUG (Validation Economía Manual) ► Objeto EconomiaUsuario es None.\n",
      "DEBUG Router: Economía OK? False\n",
      "DEBUG Router: Pesos Calculados? False\n",
      "DEBUG Router: Coches Buscados? False\n",
      "--- DEBUG CHECK PERFIL ---\n",
      "Input prefs object: None\n",
      "Input prefs type: <class 'NoneType'>\n",
      "DEBUG Router: Decisión -> recopilar_preferencias\n",
      "--- Ejecutando Nodo: recopilar_preferencias_node ---\n",
      "DEBUG (Perfil) ► Último mensaje es HumanMessage o historial vacío, llamando a llm_solo_perfil...\n"
     ]
    },
    {
     "name": "stderr",
     "output_type": "stream",
     "text": [
      "INFO (RAG): HTTP Request: POST https://api.openai.com/v1/chat/completions \"HTTP/1.1 200 OK\"\n"
     ]
    },
    {
     "name": "stdout",
     "output_type": "stream",
     "text": [
      "DEBUG (Perfil) ► Respuesta llm_solo_perfil: preferencias_usuario=PerfilUsuario(apasionado_motor=None, valora_estetica=None, coche_principal_hogar=None, uso_profesional=None, tipo_uso_profesional=None, prefiere_diseno_exclusivo=None, aventura=None, altura_mayor_190='sí', peso_mayor_100='no', solo_electricos=None, transmision_preferida=None, rating_fiabilidad_durabilidad=None, rating_seguridad=None, rating_comodidad=None, rating_impacto_ambiental=None, rating_costes_uso=None, rating_tecnologia_conectividad=None) tipo_mensaje='PREGUNTA' contenido_mensaje='¡Hola! Soy CarBlau, tu asistente para encontrar el coche ideal. Para empezar, ¿eres un apasionado del mundo automotriz?'\n",
      "DEBUG (Perfil) ► Preferencias TRAS post-procesamiento: apasionado_motor=None valora_estetica=None coche_principal_hogar=None uso_profesional=None tipo_uso_profesional=None prefiere_diseno_exclusivo=None aventura=None altura_mayor_190='sí' peso_mayor_100='no' solo_electricos=None transmision_preferida=None rating_fiabilidad_durabilidad=None rating_seguridad=None rating_comodidad=None rating_impacto_ambiental=None rating_costes_uso=None rating_tecnologia_conectividad=None\n",
      "DEBUG (Perfil) ► Estado preferencias_usuario actualizado: apasionado_motor=None valora_estetica=None coche_principal_hogar=None uso_profesional=None tipo_uso_profesional=None prefiere_diseno_exclusivo=None aventura=None altura_mayor_190='sí' peso_mayor_100='no' solo_electricos=None transmision_preferida=None rating_fiabilidad_durabilidad=None rating_seguridad=None rating_comodidad=None rating_impacto_ambiental=None rating_costes_uso=None rating_tecnologia_conectividad=None\n",
      "DEBUG (Perfil) ► Guardando mensaje pendiente: ¡Hola! Soy CarBlau, tu asistente para encontrar el coche ideal. Para empezar, ¿eres un apasionado del mundo automotriz?\n",
      "--- Ejecutando Nodo: validar_preferencias_node ---\n",
      "--- DEBUG CHECK PERFIL ---\n",
      "Input prefs object: apasionado_motor=None valora_estetica=None coche_principal_hogar=None uso_profesional=None tipo_uso_profesional=None prefiere_diseno_exclusivo=None aventura=None altura_mayor_190='sí' peso_mayor_100='no' solo_electricos=None transmision_preferida=None rating_fiabilidad_durabilidad=None rating_seguridad=None rating_comodidad=None rating_impacto_ambiental=None rating_costes_uso=None rating_tecnologia_conectividad=None\n",
      "Input prefs type: <class 'graph.perfil.state.PerfilUsuario'>\n",
      "DEBUG (Validation Perfil) ► Campo 'apasionado_motor' está vacío/None.\n",
      "DEBUG (Perfil) ► Validación: PerfilUsuario considerado INCOMPLETO.\n",
      "--- Evaluando Condición: ruta_decision_perfil ---\n",
      "DEBUG (Condición Perfil) ► Estado 'preferencias_usuario' recibido: apasionado_motor=None valora_estetica=None coche_principal_hogar=None uso_profesional=None tipo_uso_profesional=None prefiere_diseno_exclusivo=None aventura=None altura_mayor_190='sí' peso_mayor_100='no' solo_electricos=None transmision_preferida=None rating_fiabilidad_durabilidad=None rating_seguridad=None rating_comodidad=None rating_impacto_ambiental=None rating_costes_uso=None rating_tecnologia_conectividad=None\n",
      "DEBUG (Condición Perfil) ► Tipo de 'preferencias_usuario': <class 'graph.perfil.state.PerfilUsuario'>\n",
      "--- DEBUG CHECK PERFIL ---\n",
      "Input prefs object: apasionado_motor=None valora_estetica=None coche_principal_hogar=None uso_profesional=None tipo_uso_profesional=None prefiere_diseno_exclusivo=None aventura=None altura_mayor_190='sí' peso_mayor_100='no' solo_electricos=None transmision_preferida=None rating_fiabilidad_durabilidad=None rating_seguridad=None rating_comodidad=None rating_impacto_ambiental=None rating_costes_uso=None rating_tecnologia_conectividad=None\n",
      "Input prefs type: <class 'graph.perfil.state.PerfilUsuario'>\n",
      "DEBUG (Validation Perfil) ► Campo 'apasionado_motor' está vacío/None.\n",
      "DEBUG (Condición Perfil) ► Perfil INCOMPLETO. Se necesita pregunta.\n",
      "--- Ejecutando Nodo: preguntar_preferencias_node ---\n",
      "--- DEBUG CHECK PERFIL ---\n",
      "Input prefs object: apasionado_motor=None valora_estetica=None coche_principal_hogar=None uso_profesional=None tipo_uso_profesional=None prefiere_diseno_exclusivo=None aventura=None altura_mayor_190='sí' peso_mayor_100='no' solo_electricos=None transmision_preferida=None rating_fiabilidad_durabilidad=None rating_seguridad=None rating_comodidad=None rating_impacto_ambiental=None rating_costes_uso=None rating_tecnologia_conectividad=None\n",
      "Input prefs type: <class 'graph.perfil.state.PerfilUsuario'>\n",
      "DEBUG (Validation Perfil) ► Campo 'apasionado_motor' está vacío/None.\n",
      "DEBUG (Preguntar Perfil) ► Perfil aún INCOMPLETO según checker.\n",
      "DEBUG (Preguntar Perfil) ► Pregunta fallback generada: ¿Te consideras una persona entusiasta del mundo del motor y la tecnología automotriz?\n",
      "DEBUG (Preguntar Perfil) ► Usando mensaje pendiente (pregunta LLM): ¡Hola! Soy CarBlau, tu asistente para encontrar el coche ideal. Para empezar, ¿eres un apasionado del mundo automotriz?\n",
      "DEBUG (Preguntar Perfil) ► Mensaje final añadido: ¡Hola! Soy CarBlau, tu asistente para encontrar el coche ideal. Para empezar, ¿eres un apasionado del mundo automotriz?\n",
      "==================================\u001b[1m Ai Message \u001b[0m==================================\n",
      "\n",
      "¡Hola! Soy CarBlau, tu asistente para encontrar el coche ideal. Para empezar, ¿eres un apasionado del mundo automotriz?\n"
     ]
    }
   ],
   "source": [
    "from langchain_core.messages import HumanMessage, SystemMessage\n",
    "\n",
    "# Create a thread\n",
    "config = {\"configurable\": {\"thread_id\": \"1\"}}\n",
    "\n",
    "# Start conversation\n",
    "input_message = HumanMessage(content=\"quiero un coche, mido 1.95 y peso 70 kg\")\n",
    "output = graph.invoke({\"messages\": [input_message]}, config) \n",
    "for m in output['messages'][-1:]:\n",
    "    m.pretty_print()\n"
   ]
  },
  {
   "cell_type": "code",
   "execution_count": null,
   "metadata": {},
   "outputs": [],
   "source": [
    "print(output['preferencias_usuario'])\n",
    "print('-----------------------')\n",
    "# print(output['filtros_inferidos'])\n",
    "# print('-----------------------')\n",
    "# print(output['economia'])"
   ]
  },
  {
   "cell_type": "code",
   "execution_count": 3,
   "metadata": {},
   "outputs": [
    {
     "name": "stdout",
     "output_type": "stream",
     "text": [
      "--- Ejecutando Nodo: route_based_on_state_node ---\n",
      "\n",
      "--- DEBUG: Evaluating Routing Decision ---\n",
      "--- DEBUG CHECK PERFIL ---\n",
      "Input prefs object: apasionado_motor=None valora_estetica=None coche_principal_hogar=None uso_profesional=None tipo_uso_profesional=None prefiere_diseno_exclusivo=None aventura=None altura_mayor_190='sí' peso_mayor_100='no' solo_electricos=None transmision_preferida=None rating_fiabilidad_durabilidad=None rating_seguridad=None rating_comodidad=None rating_impacto_ambiental=None rating_costes_uso=None rating_tecnologia_conectividad=None\n",
      "Input prefs type: <class 'graph.perfil.state.PerfilUsuario'>\n",
      "DEBUG (Validation Perfil) ► Campo 'apasionado_motor' está vacío/None.\n",
      "DEBUG Router: Prefs OK? False\n",
      "--- DEBUG CHECK PASAJEROS ---\n",
      "Input info pasajeros: None\n",
      "DEBUG (Validation Pasajeros) ► Objeto InfoPasajeros es None.\n",
      "DEBUG Router: Pasajeros OK? False\n",
      "DEBUG (Validation Filtros) ► Objeto FiltrosInferidos es None.\n",
      "DEBUG Router: Filtros OK? False\n",
      "--- DEBUG CHECK ECONOMIA (Manual) ---\n",
      "Input econ object: None\n",
      "DEBUG (Validation Economía Manual) ► Objeto EconomiaUsuario es None.\n",
      "DEBUG Router: Economía OK? False\n",
      "DEBUG Router: Pesos Calculados? False\n",
      "DEBUG Router: Coches Buscados? False\n",
      "--- DEBUG CHECK PERFIL ---\n",
      "Input prefs object: apasionado_motor=None valora_estetica=None coche_principal_hogar=None uso_profesional=None tipo_uso_profesional=None prefiere_diseno_exclusivo=None aventura=None altura_mayor_190='sí' peso_mayor_100='no' solo_electricos=None transmision_preferida=None rating_fiabilidad_durabilidad=None rating_seguridad=None rating_comodidad=None rating_impacto_ambiental=None rating_costes_uso=None rating_tecnologia_conectividad=None\n",
      "Input prefs type: <class 'graph.perfil.state.PerfilUsuario'>\n",
      "DEBUG (Validation Perfil) ► Campo 'apasionado_motor' está vacío/None.\n",
      "DEBUG Router: Decisión -> recopilar_preferencias\n",
      "--- Ejecutando Nodo: recopilar_preferencias_node ---\n",
      "DEBUG (Perfil) ► Último mensaje es HumanMessage o historial vacío, llamando a llm_solo_perfil...\n"
     ]
    },
    {
     "name": "stderr",
     "output_type": "stream",
     "text": [
      "INFO (RAG): HTTP Request: POST https://api.openai.com/v1/chat/completions \"HTTP/1.1 200 OK\"\n"
     ]
    },
    {
     "name": "stdout",
     "output_type": "stream",
     "text": [
      "DEBUG (Perfil) ► Respuesta llm_solo_perfil: preferencias_usuario=PerfilUsuario(apasionado_motor='sí', valora_estetica=None, coche_principal_hogar=None, uso_profesional=None, tipo_uso_profesional=None, prefiere_diseno_exclusivo=None, aventura=None, altura_mayor_190='sí', peso_mayor_100='no', solo_electricos=None, transmision_preferida=None, rating_fiabilidad_durabilidad=None, rating_seguridad=None, rating_comodidad=None, rating_impacto_ambiental=None, rating_costes_uso=None, rating_tecnologia_conectividad=None) tipo_mensaje='PREGUNTA' contenido_mensaje='¿Valora la estética del coche?'\n",
      "DEBUG (Perfil) ► Preferencias TRAS post-procesamiento: apasionado_motor='sí' valora_estetica=None coche_principal_hogar=None uso_profesional=None tipo_uso_profesional=None prefiere_diseno_exclusivo=None aventura=None altura_mayor_190='sí' peso_mayor_100='no' solo_electricos=None transmision_preferida=None rating_fiabilidad_durabilidad=None rating_seguridad=None rating_comodidad=None rating_impacto_ambiental=None rating_costes_uso=None rating_tecnologia_conectividad=None\n",
      "DEBUG (Perfil) ► Estado preferencias_usuario actualizado: apasionado_motor='sí' valora_estetica=None coche_principal_hogar=None uso_profesional=None tipo_uso_profesional=None prefiere_diseno_exclusivo=None aventura=None altura_mayor_190='sí' peso_mayor_100='no' solo_electricos=None transmision_preferida=None rating_fiabilidad_durabilidad=None rating_seguridad=None rating_comodidad=None rating_impacto_ambiental=None rating_costes_uso=None rating_tecnologia_conectividad=None\n",
      "DEBUG (Perfil) ► Guardando mensaje pendiente: ¿Valora la estética del coche?\n",
      "--- Ejecutando Nodo: validar_preferencias_node ---\n",
      "--- DEBUG CHECK PERFIL ---\n",
      "Input prefs object: apasionado_motor='sí' valora_estetica=None coche_principal_hogar=None uso_profesional=None tipo_uso_profesional=None prefiere_diseno_exclusivo=None aventura=None altura_mayor_190='sí' peso_mayor_100='no' solo_electricos=None transmision_preferida=None rating_fiabilidad_durabilidad=None rating_seguridad=None rating_comodidad=None rating_impacto_ambiental=None rating_costes_uso=None rating_tecnologia_conectividad=None\n",
      "Input prefs type: <class 'graph.perfil.state.PerfilUsuario'>\n",
      "DEBUG (Validation Perfil) ► Campo 'valora_estetica' está vacío/None.\n",
      "DEBUG (Perfil) ► Validación: PerfilUsuario considerado INCOMPLETO.\n",
      "--- Evaluando Condición: ruta_decision_perfil ---\n",
      "DEBUG (Condición Perfil) ► Estado 'preferencias_usuario' recibido: apasionado_motor='sí' valora_estetica=None coche_principal_hogar=None uso_profesional=None tipo_uso_profesional=None prefiere_diseno_exclusivo=None aventura=None altura_mayor_190='sí' peso_mayor_100='no' solo_electricos=None transmision_preferida=None rating_fiabilidad_durabilidad=None rating_seguridad=None rating_comodidad=None rating_impacto_ambiental=None rating_costes_uso=None rating_tecnologia_conectividad=None\n",
      "DEBUG (Condición Perfil) ► Tipo de 'preferencias_usuario': <class 'graph.perfil.state.PerfilUsuario'>\n",
      "--- DEBUG CHECK PERFIL ---\n",
      "Input prefs object: apasionado_motor='sí' valora_estetica=None coche_principal_hogar=None uso_profesional=None tipo_uso_profesional=None prefiere_diseno_exclusivo=None aventura=None altura_mayor_190='sí' peso_mayor_100='no' solo_electricos=None transmision_preferida=None rating_fiabilidad_durabilidad=None rating_seguridad=None rating_comodidad=None rating_impacto_ambiental=None rating_costes_uso=None rating_tecnologia_conectividad=None\n",
      "Input prefs type: <class 'graph.perfil.state.PerfilUsuario'>\n",
      "DEBUG (Validation Perfil) ► Campo 'valora_estetica' está vacío/None.\n",
      "DEBUG (Condición Perfil) ► Perfil INCOMPLETO. Se necesita pregunta.\n",
      "--- Ejecutando Nodo: preguntar_preferencias_node ---\n",
      "--- DEBUG CHECK PERFIL ---\n",
      "Input prefs object: apasionado_motor='sí' valora_estetica=None coche_principal_hogar=None uso_profesional=None tipo_uso_profesional=None prefiere_diseno_exclusivo=None aventura=None altura_mayor_190='sí' peso_mayor_100='no' solo_electricos=None transmision_preferida=None rating_fiabilidad_durabilidad=None rating_seguridad=None rating_comodidad=None rating_impacto_ambiental=None rating_costes_uso=None rating_tecnologia_conectividad=None\n",
      "Input prefs type: <class 'graph.perfil.state.PerfilUsuario'>\n",
      "DEBUG (Validation Perfil) ► Campo 'valora_estetica' está vacío/None.\n",
      "DEBUG (Preguntar Perfil) ► Perfil aún INCOMPLETO según checker.\n",
      "DEBUG (Preguntar Perfil) ► Pregunta fallback generada: ¿La Estética es importante para ti o crees que hay factores más importantes?\n",
      "DEBUG (Preguntar Perfil) ► Usando mensaje pendiente (pregunta LLM): ¿Valora la estética del coche?\n",
      "DEBUG (Preguntar Perfil) ► Mensaje final añadido: ¿Valora la estética del coche?\n",
      "==================================\u001b[1m Ai Message \u001b[0m==================================\n",
      "\n",
      "¿Valora la estética del coche?\n"
     ]
    }
   ],
   "source": [
    "# Start conversation\n",
    "input_message = HumanMessage(content=\"si, lo soy\")\n",
    "output = graph.invoke({\"messages\": [input_message]}, config) \n",
    "for m in output['messages'][-1:]:\n",
    "    m.pretty_print()"
   ]
  },
  {
   "cell_type": "code",
   "execution_count": 4,
   "metadata": {},
   "outputs": [
    {
     "name": "stdout",
     "output_type": "stream",
     "text": [
      "--- Ejecutando Nodo: route_based_on_state_node ---\n",
      "\n",
      "--- DEBUG: Evaluating Routing Decision ---\n",
      "--- DEBUG CHECK PERFIL ---\n",
      "Input prefs object: apasionado_motor='sí' valora_estetica=None coche_principal_hogar=None uso_profesional=None tipo_uso_profesional=None prefiere_diseno_exclusivo=None aventura=None altura_mayor_190='sí' peso_mayor_100='no' solo_electricos=None transmision_preferida=None rating_fiabilidad_durabilidad=None rating_seguridad=None rating_comodidad=None rating_impacto_ambiental=None rating_costes_uso=None rating_tecnologia_conectividad=None\n",
      "Input prefs type: <class 'graph.perfil.state.PerfilUsuario'>\n",
      "DEBUG (Validation Perfil) ► Campo 'valora_estetica' está vacío/None.\n",
      "DEBUG Router: Prefs OK? False\n",
      "--- DEBUG CHECK PASAJEROS ---\n",
      "Input info pasajeros: None\n",
      "DEBUG (Validation Pasajeros) ► Objeto InfoPasajeros es None.\n",
      "DEBUG Router: Pasajeros OK? False\n",
      "DEBUG (Validation Filtros) ► Objeto FiltrosInferidos es None.\n",
      "DEBUG Router: Filtros OK? False\n",
      "--- DEBUG CHECK ECONOMIA (Manual) ---\n",
      "Input econ object: None\n",
      "DEBUG (Validation Economía Manual) ► Objeto EconomiaUsuario es None.\n",
      "DEBUG Router: Economía OK? False\n",
      "DEBUG Router: Pesos Calculados? False\n",
      "DEBUG Router: Coches Buscados? False\n",
      "--- DEBUG CHECK PERFIL ---\n",
      "Input prefs object: apasionado_motor='sí' valora_estetica=None coche_principal_hogar=None uso_profesional=None tipo_uso_profesional=None prefiere_diseno_exclusivo=None aventura=None altura_mayor_190='sí' peso_mayor_100='no' solo_electricos=None transmision_preferida=None rating_fiabilidad_durabilidad=None rating_seguridad=None rating_comodidad=None rating_impacto_ambiental=None rating_costes_uso=None rating_tecnologia_conectividad=None\n",
      "Input prefs type: <class 'graph.perfil.state.PerfilUsuario'>\n",
      "DEBUG (Validation Perfil) ► Campo 'valora_estetica' está vacío/None.\n",
      "DEBUG Router: Decisión -> recopilar_preferencias\n",
      "--- Ejecutando Nodo: recopilar_preferencias_node ---\n",
      "DEBUG (Perfil) ► Último mensaje es HumanMessage o historial vacío, llamando a llm_solo_perfil...\n"
     ]
    },
    {
     "name": "stderr",
     "output_type": "stream",
     "text": [
      "INFO (RAG): HTTP Request: POST https://api.openai.com/v1/chat/completions \"HTTP/1.1 200 OK\"\n"
     ]
    },
    {
     "name": "stdout",
     "output_type": "stream",
     "text": [
      "DEBUG (Perfil) ► Respuesta llm_solo_perfil: preferencias_usuario=PerfilUsuario(apasionado_motor='sí', valora_estetica='no', coche_principal_hogar=None, uso_profesional=None, tipo_uso_profesional=None, prefiere_diseno_exclusivo=None, aventura=None, altura_mayor_190='sí', peso_mayor_100='no', solo_electricos=None, transmision_preferida=None, rating_fiabilidad_durabilidad=None, rating_seguridad=None, rating_comodidad=None, rating_impacto_ambiental=None, rating_costes_uso=None, rating_tecnologia_conectividad=None) tipo_mensaje='PREGUNTA' contenido_mensaje='¿El coche que estamos buscando será el vehículo principal de tu hogar?'\n",
      "DEBUG (Perfil) ► Preferencias TRAS post-procesamiento: apasionado_motor='sí' valora_estetica='no' coche_principal_hogar=None uso_profesional=None tipo_uso_profesional=None prefiere_diseno_exclusivo=None aventura=None altura_mayor_190='sí' peso_mayor_100='no' solo_electricos=None transmision_preferida=None rating_fiabilidad_durabilidad=None rating_seguridad=None rating_comodidad=None rating_impacto_ambiental=None rating_costes_uso=None rating_tecnologia_conectividad=None\n",
      "DEBUG (Perfil) ► Estado preferencias_usuario actualizado: apasionado_motor='sí' valora_estetica='no' coche_principal_hogar=None uso_profesional=None tipo_uso_profesional=None prefiere_diseno_exclusivo=None aventura=None altura_mayor_190='sí' peso_mayor_100='no' solo_electricos=None transmision_preferida=None rating_fiabilidad_durabilidad=None rating_seguridad=None rating_comodidad=None rating_impacto_ambiental=None rating_costes_uso=None rating_tecnologia_conectividad=None\n",
      "DEBUG (Perfil) ► Guardando mensaje pendiente: ¿El coche que estamos buscando será el vehículo principal de tu hogar?\n",
      "--- Ejecutando Nodo: validar_preferencias_node ---\n",
      "--- DEBUG CHECK PERFIL ---\n",
      "Input prefs object: apasionado_motor='sí' valora_estetica='no' coche_principal_hogar=None uso_profesional=None tipo_uso_profesional=None prefiere_diseno_exclusivo=None aventura=None altura_mayor_190='sí' peso_mayor_100='no' solo_electricos=None transmision_preferida=None rating_fiabilidad_durabilidad=None rating_seguridad=None rating_comodidad=None rating_impacto_ambiental=None rating_costes_uso=None rating_tecnologia_conectividad=None\n",
      "Input prefs type: <class 'graph.perfil.state.PerfilUsuario'>\n",
      "DEBUG (Validation Perfil) ► Campo 'coche_principal_hogar' está vacío/None.\n",
      "DEBUG (Perfil) ► Validación: PerfilUsuario considerado INCOMPLETO.\n",
      "--- Evaluando Condición: ruta_decision_perfil ---\n",
      "DEBUG (Condición Perfil) ► Estado 'preferencias_usuario' recibido: apasionado_motor='sí' valora_estetica='no' coche_principal_hogar=None uso_profesional=None tipo_uso_profesional=None prefiere_diseno_exclusivo=None aventura=None altura_mayor_190='sí' peso_mayor_100='no' solo_electricos=None transmision_preferida=None rating_fiabilidad_durabilidad=None rating_seguridad=None rating_comodidad=None rating_impacto_ambiental=None rating_costes_uso=None rating_tecnologia_conectividad=None\n",
      "DEBUG (Condición Perfil) ► Tipo de 'preferencias_usuario': <class 'graph.perfil.state.PerfilUsuario'>\n",
      "--- DEBUG CHECK PERFIL ---\n",
      "Input prefs object: apasionado_motor='sí' valora_estetica='no' coche_principal_hogar=None uso_profesional=None tipo_uso_profesional=None prefiere_diseno_exclusivo=None aventura=None altura_mayor_190='sí' peso_mayor_100='no' solo_electricos=None transmision_preferida=None rating_fiabilidad_durabilidad=None rating_seguridad=None rating_comodidad=None rating_impacto_ambiental=None rating_costes_uso=None rating_tecnologia_conectividad=None\n",
      "Input prefs type: <class 'graph.perfil.state.PerfilUsuario'>\n",
      "DEBUG (Validation Perfil) ► Campo 'coche_principal_hogar' está vacío/None.\n",
      "DEBUG (Condición Perfil) ► Perfil INCOMPLETO. Se necesita pregunta.\n",
      "--- Ejecutando Nodo: preguntar_preferencias_node ---\n",
      "--- DEBUG CHECK PERFIL ---\n",
      "Input prefs object: apasionado_motor='sí' valora_estetica='no' coche_principal_hogar=None uso_profesional=None tipo_uso_profesional=None prefiere_diseno_exclusivo=None aventura=None altura_mayor_190='sí' peso_mayor_100='no' solo_electricos=None transmision_preferida=None rating_fiabilidad_durabilidad=None rating_seguridad=None rating_comodidad=None rating_impacto_ambiental=None rating_costes_uso=None rating_tecnologia_conectividad=None\n",
      "Input prefs type: <class 'graph.perfil.state.PerfilUsuario'>\n",
      "DEBUG (Validation Perfil) ► Campo 'coche_principal_hogar' está vacío/None.\n",
      "DEBUG (Preguntar Perfil) ► Perfil aún INCOMPLETO según checker.\n",
      "DEBUG (Preguntar Perfil) ► Pregunta fallback generada: ¿El coche que estamos buscando será el vehículo principal de tu hogar?.\n",
      "DEBUG (Preguntar Perfil) ► Usando mensaje pendiente (pregunta LLM): ¿El coche que estamos buscando será el vehículo principal de tu hogar?\n",
      "DEBUG (Preguntar Perfil) ► Mensaje final añadido: ¿El coche que estamos buscando será el vehículo principal de tu hogar?\n",
      "==================================\u001b[1m Ai Message \u001b[0m==================================\n",
      "\n",
      "¿El coche que estamos buscando será el vehículo principal de tu hogar?\n"
     ]
    }
   ],
   "source": [
    "config = {\"configurable\": {\"thread_id\": \"1\"}}\n",
    "input_message = HumanMessage(content=\"no\")\n",
    "output = graph.invoke({\"messages\": [input_message]}, config) \n",
    "for m in output['messages'][-1:]:\n",
    "    m.pretty_print()"
   ]
  },
  {
   "cell_type": "code",
   "execution_count": 5,
   "metadata": {},
   "outputs": [
    {
     "name": "stdout",
     "output_type": "stream",
     "text": [
      "--- Ejecutando Nodo: route_based_on_state_node ---\n",
      "\n",
      "--- DEBUG: Evaluating Routing Decision ---\n",
      "--- DEBUG CHECK PERFIL ---\n",
      "Input prefs object: apasionado_motor='sí' valora_estetica='no' coche_principal_hogar=None uso_profesional=None tipo_uso_profesional=None prefiere_diseno_exclusivo=None aventura=None altura_mayor_190='sí' peso_mayor_100='no' solo_electricos=None transmision_preferida=None rating_fiabilidad_durabilidad=None rating_seguridad=None rating_comodidad=None rating_impacto_ambiental=None rating_costes_uso=None rating_tecnologia_conectividad=None\n",
      "Input prefs type: <class 'graph.perfil.state.PerfilUsuario'>\n",
      "DEBUG (Validation Perfil) ► Campo 'coche_principal_hogar' está vacío/None.\n",
      "DEBUG Router: Prefs OK? False\n",
      "--- DEBUG CHECK PASAJEROS ---\n",
      "Input info pasajeros: None\n",
      "DEBUG (Validation Pasajeros) ► Objeto InfoPasajeros es None.\n",
      "DEBUG Router: Pasajeros OK? False\n",
      "DEBUG (Validation Filtros) ► Objeto FiltrosInferidos es None.\n",
      "DEBUG Router: Filtros OK? False\n",
      "--- DEBUG CHECK ECONOMIA (Manual) ---\n",
      "Input econ object: None\n",
      "DEBUG (Validation Economía Manual) ► Objeto EconomiaUsuario es None.\n",
      "DEBUG Router: Economía OK? False\n",
      "DEBUG Router: Pesos Calculados? False\n",
      "DEBUG Router: Coches Buscados? False\n",
      "--- DEBUG CHECK PERFIL ---\n",
      "Input prefs object: apasionado_motor='sí' valora_estetica='no' coche_principal_hogar=None uso_profesional=None tipo_uso_profesional=None prefiere_diseno_exclusivo=None aventura=None altura_mayor_190='sí' peso_mayor_100='no' solo_electricos=None transmision_preferida=None rating_fiabilidad_durabilidad=None rating_seguridad=None rating_comodidad=None rating_impacto_ambiental=None rating_costes_uso=None rating_tecnologia_conectividad=None\n",
      "Input prefs type: <class 'graph.perfil.state.PerfilUsuario'>\n",
      "DEBUG (Validation Perfil) ► Campo 'coche_principal_hogar' está vacío/None.\n",
      "DEBUG Router: Decisión -> recopilar_preferencias\n",
      "--- Ejecutando Nodo: recopilar_preferencias_node ---\n",
      "DEBUG (Perfil) ► Último mensaje es HumanMessage o historial vacío, llamando a llm_solo_perfil...\n"
     ]
    },
    {
     "name": "stderr",
     "output_type": "stream",
     "text": [
      "INFO (RAG): HTTP Request: POST https://api.openai.com/v1/chat/completions \"HTTP/1.1 200 OK\"\n"
     ]
    },
    {
     "name": "stdout",
     "output_type": "stream",
     "text": [
      "DEBUG (Perfil) ► Respuesta llm_solo_perfil: preferencias_usuario=PerfilUsuario(apasionado_motor='sí', valora_estetica='no', coche_principal_hogar='sí', uso_profesional=None, tipo_uso_profesional=None, prefiere_diseno_exclusivo=None, aventura=None, altura_mayor_190='sí', peso_mayor_100='no', solo_electricos=None, transmision_preferida=None, rating_fiabilidad_durabilidad=None, rating_seguridad=None, rating_comodidad=None, rating_impacto_ambiental=None, rating_costes_uso=None, rating_tecnologia_conectividad=None) tipo_mensaje='PREGUNTA' contenido_mensaje='¿Usarás el coche para trabajo?'\n",
      "DEBUG (Perfil) ► Preferencias TRAS post-procesamiento: apasionado_motor='sí' valora_estetica='no' coche_principal_hogar='sí' uso_profesional=None tipo_uso_profesional=None prefiere_diseno_exclusivo=None aventura=None altura_mayor_190='sí' peso_mayor_100='no' solo_electricos=None transmision_preferida=None rating_fiabilidad_durabilidad=None rating_seguridad=None rating_comodidad=None rating_impacto_ambiental=None rating_costes_uso=None rating_tecnologia_conectividad=None\n",
      "DEBUG (Perfil) ► Estado preferencias_usuario actualizado: apasionado_motor='sí' valora_estetica='no' coche_principal_hogar='sí' uso_profesional=None tipo_uso_profesional=None prefiere_diseno_exclusivo=None aventura=None altura_mayor_190='sí' peso_mayor_100='no' solo_electricos=None transmision_preferida=None rating_fiabilidad_durabilidad=None rating_seguridad=None rating_comodidad=None rating_impacto_ambiental=None rating_costes_uso=None rating_tecnologia_conectividad=None\n",
      "DEBUG (Perfil) ► Guardando mensaje pendiente: ¿Usarás el coche para trabajo?\n",
      "--- Ejecutando Nodo: validar_preferencias_node ---\n",
      "--- DEBUG CHECK PERFIL ---\n",
      "Input prefs object: apasionado_motor='sí' valora_estetica='no' coche_principal_hogar='sí' uso_profesional=None tipo_uso_profesional=None prefiere_diseno_exclusivo=None aventura=None altura_mayor_190='sí' peso_mayor_100='no' solo_electricos=None transmision_preferida=None rating_fiabilidad_durabilidad=None rating_seguridad=None rating_comodidad=None rating_impacto_ambiental=None rating_costes_uso=None rating_tecnologia_conectividad=None\n",
      "Input prefs type: <class 'graph.perfil.state.PerfilUsuario'>\n",
      "DEBUG (Validation Perfil) ► Campo 'uso_profesional' está vacío/None.\n",
      "DEBUG (Perfil) ► Validación: PerfilUsuario considerado INCOMPLETO.\n",
      "--- Evaluando Condición: ruta_decision_perfil ---\n",
      "DEBUG (Condición Perfil) ► Estado 'preferencias_usuario' recibido: apasionado_motor='sí' valora_estetica='no' coche_principal_hogar='sí' uso_profesional=None tipo_uso_profesional=None prefiere_diseno_exclusivo=None aventura=None altura_mayor_190='sí' peso_mayor_100='no' solo_electricos=None transmision_preferida=None rating_fiabilidad_durabilidad=None rating_seguridad=None rating_comodidad=None rating_impacto_ambiental=None rating_costes_uso=None rating_tecnologia_conectividad=None\n",
      "DEBUG (Condición Perfil) ► Tipo de 'preferencias_usuario': <class 'graph.perfil.state.PerfilUsuario'>\n",
      "--- DEBUG CHECK PERFIL ---\n",
      "Input prefs object: apasionado_motor='sí' valora_estetica='no' coche_principal_hogar='sí' uso_profesional=None tipo_uso_profesional=None prefiere_diseno_exclusivo=None aventura=None altura_mayor_190='sí' peso_mayor_100='no' solo_electricos=None transmision_preferida=None rating_fiabilidad_durabilidad=None rating_seguridad=None rating_comodidad=None rating_impacto_ambiental=None rating_costes_uso=None rating_tecnologia_conectividad=None\n",
      "Input prefs type: <class 'graph.perfil.state.PerfilUsuario'>\n",
      "DEBUG (Validation Perfil) ► Campo 'uso_profesional' está vacío/None.\n",
      "DEBUG (Condición Perfil) ► Perfil INCOMPLETO. Se necesita pregunta.\n",
      "--- Ejecutando Nodo: preguntar_preferencias_node ---\n",
      "--- DEBUG CHECK PERFIL ---\n",
      "Input prefs object: apasionado_motor='sí' valora_estetica='no' coche_principal_hogar='sí' uso_profesional=None tipo_uso_profesional=None prefiere_diseno_exclusivo=None aventura=None altura_mayor_190='sí' peso_mayor_100='no' solo_electricos=None transmision_preferida=None rating_fiabilidad_durabilidad=None rating_seguridad=None rating_comodidad=None rating_impacto_ambiental=None rating_costes_uso=None rating_tecnologia_conectividad=None\n",
      "Input prefs type: <class 'graph.perfil.state.PerfilUsuario'>\n",
      "DEBUG (Validation Perfil) ► Campo 'uso_profesional' está vacío/None.\n",
      "DEBUG (Preguntar Perfil) ► Perfil aún INCOMPLETO según checker.\n",
      "DEBUG (Preguntar Perfil) ► Pregunta fallback generada: ¿El coche lo destinaras principalmente para uso personal o más para fines profesionales (trabajo)?\n",
      "DEBUG (Preguntar Perfil) ► Usando mensaje pendiente (pregunta LLM): ¿Usarás el coche para trabajo?\n",
      "DEBUG (Preguntar Perfil) ► Mensaje final añadido: ¿Usarás el coche para trabajo?\n",
      "==================================\u001b[1m Ai Message \u001b[0m==================================\n",
      "\n",
      "¿Usarás el coche para trabajo?\n"
     ]
    }
   ],
   "source": [
    "config = {\"configurable\": {\"thread_id\": \"1\"}}\n",
    "input_message = HumanMessage(content=\"si, lo sera \")\n",
    "output = graph.invoke({\"messages\": [input_message]}, config) \n",
    "for m in output['messages'][-1:]:\n",
    "    m.pretty_print()"
   ]
  },
  {
   "cell_type": "code",
   "execution_count": null,
   "metadata": {},
   "outputs": [],
   "source": [
    "print(output['preferencias_usuario'])"
   ]
  },
  {
   "cell_type": "code",
   "execution_count": 6,
   "metadata": {},
   "outputs": [
    {
     "name": "stdout",
     "output_type": "stream",
     "text": [
      "--- Ejecutando Nodo: route_based_on_state_node ---\n",
      "\n",
      "--- DEBUG: Evaluating Routing Decision ---\n",
      "--- DEBUG CHECK PERFIL ---\n",
      "Input prefs object: apasionado_motor='sí' valora_estetica='no' coche_principal_hogar='sí' uso_profesional=None tipo_uso_profesional=None prefiere_diseno_exclusivo=None aventura=None altura_mayor_190='sí' peso_mayor_100='no' solo_electricos=None transmision_preferida=None rating_fiabilidad_durabilidad=None rating_seguridad=None rating_comodidad=None rating_impacto_ambiental=None rating_costes_uso=None rating_tecnologia_conectividad=None\n",
      "Input prefs type: <class 'graph.perfil.state.PerfilUsuario'>\n",
      "DEBUG (Validation Perfil) ► Campo 'uso_profesional' está vacío/None.\n",
      "DEBUG Router: Prefs OK? False\n",
      "--- DEBUG CHECK PASAJEROS ---\n",
      "Input info pasajeros: None\n",
      "DEBUG (Validation Pasajeros) ► Objeto InfoPasajeros es None.\n",
      "DEBUG Router: Pasajeros OK? False\n",
      "DEBUG (Validation Filtros) ► Objeto FiltrosInferidos es None.\n",
      "DEBUG Router: Filtros OK? False\n",
      "--- DEBUG CHECK ECONOMIA (Manual) ---\n",
      "Input econ object: None\n",
      "DEBUG (Validation Economía Manual) ► Objeto EconomiaUsuario es None.\n",
      "DEBUG Router: Economía OK? False\n",
      "DEBUG Router: Pesos Calculados? False\n",
      "DEBUG Router: Coches Buscados? False\n",
      "--- DEBUG CHECK PERFIL ---\n",
      "Input prefs object: apasionado_motor='sí' valora_estetica='no' coche_principal_hogar='sí' uso_profesional=None tipo_uso_profesional=None prefiere_diseno_exclusivo=None aventura=None altura_mayor_190='sí' peso_mayor_100='no' solo_electricos=None transmision_preferida=None rating_fiabilidad_durabilidad=None rating_seguridad=None rating_comodidad=None rating_impacto_ambiental=None rating_costes_uso=None rating_tecnologia_conectividad=None\n",
      "Input prefs type: <class 'graph.perfil.state.PerfilUsuario'>\n",
      "DEBUG (Validation Perfil) ► Campo 'uso_profesional' está vacío/None.\n",
      "DEBUG Router: Decisión -> recopilar_preferencias\n",
      "--- Ejecutando Nodo: recopilar_preferencias_node ---\n",
      "DEBUG (Perfil) ► Último mensaje es HumanMessage o historial vacío, llamando a llm_solo_perfil...\n"
     ]
    },
    {
     "name": "stderr",
     "output_type": "stream",
     "text": [
      "INFO (RAG): HTTP Request: POST https://api.openai.com/v1/chat/completions \"HTTP/1.1 200 OK\"\n"
     ]
    },
    {
     "name": "stdout",
     "output_type": "stream",
     "text": [
      "DEBUG (Perfil) ► Respuesta llm_solo_perfil: preferencias_usuario=PerfilUsuario(apasionado_motor='sí', valora_estetica='no', coche_principal_hogar='sí', uso_profesional='no', tipo_uso_profesional=None, prefiere_diseno_exclusivo=None, aventura=None, altura_mayor_190='sí', peso_mayor_100='no', solo_electricos=None, transmision_preferida=None, rating_fiabilidad_durabilidad=None, rating_seguridad=None, rating_comodidad=None, rating_impacto_ambiental=None, rating_costes_uso=None, rating_tecnologia_conectividad=None) tipo_mensaje='PREGUNTA' contenido_mensaje=\"¿Prefieres un diseño de coche que sea exclusivo y te diferencie del resto? (Responde 'sí' o 'no')\"\n",
      "DEBUG (Perfil) ► Preferencias TRAS post-procesamiento: apasionado_motor='sí' valora_estetica='no' coche_principal_hogar='sí' uso_profesional='no' tipo_uso_profesional=None prefiere_diseno_exclusivo=None aventura=None altura_mayor_190='sí' peso_mayor_100='no' solo_electricos=None transmision_preferida=None rating_fiabilidad_durabilidad=None rating_seguridad=None rating_comodidad=None rating_impacto_ambiental=None rating_costes_uso=None rating_tecnologia_conectividad=None\n",
      "DEBUG (Perfil) ► Estado preferencias_usuario actualizado: apasionado_motor='sí' valora_estetica='no' coche_principal_hogar='sí' uso_profesional='no' tipo_uso_profesional=None prefiere_diseno_exclusivo=None aventura=None altura_mayor_190='sí' peso_mayor_100='no' solo_electricos=None transmision_preferida=None rating_fiabilidad_durabilidad=None rating_seguridad=None rating_comodidad=None rating_impacto_ambiental=None rating_costes_uso=None rating_tecnologia_conectividad=None\n",
      "DEBUG (Perfil) ► Guardando mensaje pendiente: ¿Prefieres un diseño de coche que sea exclusivo y te diferencie del resto? (Responde 'sí' o 'no')\n",
      "--- Ejecutando Nodo: validar_preferencias_node ---\n",
      "--- DEBUG CHECK PERFIL ---\n",
      "Input prefs object: apasionado_motor='sí' valora_estetica='no' coche_principal_hogar='sí' uso_profesional='no' tipo_uso_profesional=None prefiere_diseno_exclusivo=None aventura=None altura_mayor_190='sí' peso_mayor_100='no' solo_electricos=None transmision_preferida=None rating_fiabilidad_durabilidad=None rating_seguridad=None rating_comodidad=None rating_impacto_ambiental=None rating_costes_uso=None rating_tecnologia_conectividad=None\n",
      "Input prefs type: <class 'graph.perfil.state.PerfilUsuario'>\n",
      "DEBUG (Validation Perfil) ► Campo 'prefiere_diseno_exclusivo' está vacío/None.\n",
      "DEBUG (Perfil) ► Validación: PerfilUsuario considerado INCOMPLETO.\n",
      "--- Evaluando Condición: ruta_decision_perfil ---\n",
      "DEBUG (Condición Perfil) ► Estado 'preferencias_usuario' recibido: apasionado_motor='sí' valora_estetica='no' coche_principal_hogar='sí' uso_profesional='no' tipo_uso_profesional=None prefiere_diseno_exclusivo=None aventura=None altura_mayor_190='sí' peso_mayor_100='no' solo_electricos=None transmision_preferida=None rating_fiabilidad_durabilidad=None rating_seguridad=None rating_comodidad=None rating_impacto_ambiental=None rating_costes_uso=None rating_tecnologia_conectividad=None\n",
      "DEBUG (Condición Perfil) ► Tipo de 'preferencias_usuario': <class 'graph.perfil.state.PerfilUsuario'>\n",
      "--- DEBUG CHECK PERFIL ---\n",
      "Input prefs object: apasionado_motor='sí' valora_estetica='no' coche_principal_hogar='sí' uso_profesional='no' tipo_uso_profesional=None prefiere_diseno_exclusivo=None aventura=None altura_mayor_190='sí' peso_mayor_100='no' solo_electricos=None transmision_preferida=None rating_fiabilidad_durabilidad=None rating_seguridad=None rating_comodidad=None rating_impacto_ambiental=None rating_costes_uso=None rating_tecnologia_conectividad=None\n",
      "Input prefs type: <class 'graph.perfil.state.PerfilUsuario'>\n",
      "DEBUG (Validation Perfil) ► Campo 'prefiere_diseno_exclusivo' está vacío/None.\n",
      "DEBUG (Condición Perfil) ► Perfil INCOMPLETO. Se necesita pregunta.\n",
      "--- Ejecutando Nodo: preguntar_preferencias_node ---\n",
      "--- DEBUG CHECK PERFIL ---\n",
      "Input prefs object: apasionado_motor='sí' valora_estetica='no' coche_principal_hogar='sí' uso_profesional='no' tipo_uso_profesional=None prefiere_diseno_exclusivo=None aventura=None altura_mayor_190='sí' peso_mayor_100='no' solo_electricos=None transmision_preferida=None rating_fiabilidad_durabilidad=None rating_seguridad=None rating_comodidad=None rating_impacto_ambiental=None rating_costes_uso=None rating_tecnologia_conectividad=None\n",
      "Input prefs type: <class 'graph.perfil.state.PerfilUsuario'>\n",
      "DEBUG (Validation Perfil) ► Campo 'prefiere_diseno_exclusivo' está vacío/None.\n",
      "DEBUG (Preguntar Perfil) ► Perfil aún INCOMPLETO según checker.\n",
      "DEBUG (Preguntar Perfil) ► Pregunta fallback generada: En cuanto al estilo del coche, ¿te inclinas más por un diseño exclusivo y llamativo, o por algo más discreto y convencional?\n",
      "DEBUG (Preguntar Perfil) ► Usando mensaje pendiente (pregunta LLM): ¿Prefieres un diseño de coche que sea exclusivo y te diferencie del resto? (Responde 'sí' o 'no')\n",
      "DEBUG (Preguntar Perfil) ► Mensaje final añadido: ¿Prefieres un diseño de coche que sea exclusivo y te diferencie del resto? (Responde 'sí' o 'no')\n",
      "==================================\u001b[1m Ai Message \u001b[0m==================================\n",
      "\n",
      "¿Prefieres un diseño de coche que sea exclusivo y te diferencie del resto? (Responde 'sí' o 'no')\n"
     ]
    }
   ],
   "source": [
    "config = {\"configurable\": {\"thread_id\": \"1\"}}\n",
    "input_message = HumanMessage(content=\"no\")\n",
    "output = graph.invoke({\"messages\": [input_message]}, config) \n",
    "for m in output['messages'][-1:]:\n",
    "    m.pretty_print()"
   ]
  },
  {
   "cell_type": "code",
   "execution_count": null,
   "metadata": {},
   "outputs": [],
   "source": [
    "config = {\"configurable\": {\"thread_id\": \"1\"}}\n",
    "input_message = HumanMessage(content=\"para transportar carga\")\n",
    "output = graph.invoke({\"messages\": [input_message]}, config) \n",
    "for m in output['messages'][-1:]:\n",
    "    m.pretty_print()"
   ]
  },
  {
   "cell_type": "code",
   "execution_count": null,
   "metadata": {},
   "outputs": [],
   "source": [
    "print(output['preferencias_usuario'])\n"
   ]
  },
  {
   "cell_type": "code",
   "execution_count": 7,
   "metadata": {},
   "outputs": [
    {
     "name": "stdout",
     "output_type": "stream",
     "text": [
      "--- Ejecutando Nodo: route_based_on_state_node ---\n",
      "\n",
      "--- DEBUG: Evaluating Routing Decision ---\n",
      "--- DEBUG CHECK PERFIL ---\n",
      "Input prefs object: apasionado_motor='sí' valora_estetica='no' coche_principal_hogar='sí' uso_profesional='no' tipo_uso_profesional=None prefiere_diseno_exclusivo=None aventura=None altura_mayor_190='sí' peso_mayor_100='no' solo_electricos=None transmision_preferida=None rating_fiabilidad_durabilidad=None rating_seguridad=None rating_comodidad=None rating_impacto_ambiental=None rating_costes_uso=None rating_tecnologia_conectividad=None\n",
      "Input prefs type: <class 'graph.perfil.state.PerfilUsuario'>\n",
      "DEBUG (Validation Perfil) ► Campo 'prefiere_diseno_exclusivo' está vacío/None.\n",
      "DEBUG Router: Prefs OK? False\n",
      "--- DEBUG CHECK PASAJEROS ---\n",
      "Input info pasajeros: None\n",
      "DEBUG (Validation Pasajeros) ► Objeto InfoPasajeros es None.\n",
      "DEBUG Router: Pasajeros OK? False\n",
      "DEBUG (Validation Filtros) ► Objeto FiltrosInferidos es None.\n",
      "DEBUG Router: Filtros OK? False\n",
      "--- DEBUG CHECK ECONOMIA (Manual) ---\n",
      "Input econ object: None\n",
      "DEBUG (Validation Economía Manual) ► Objeto EconomiaUsuario es None.\n",
      "DEBUG Router: Economía OK? False\n",
      "DEBUG Router: Pesos Calculados? False\n",
      "DEBUG Router: Coches Buscados? False\n",
      "--- DEBUG CHECK PERFIL ---\n",
      "Input prefs object: apasionado_motor='sí' valora_estetica='no' coche_principal_hogar='sí' uso_profesional='no' tipo_uso_profesional=None prefiere_diseno_exclusivo=None aventura=None altura_mayor_190='sí' peso_mayor_100='no' solo_electricos=None transmision_preferida=None rating_fiabilidad_durabilidad=None rating_seguridad=None rating_comodidad=None rating_impacto_ambiental=None rating_costes_uso=None rating_tecnologia_conectividad=None\n",
      "Input prefs type: <class 'graph.perfil.state.PerfilUsuario'>\n",
      "DEBUG (Validation Perfil) ► Campo 'prefiere_diseno_exclusivo' está vacío/None.\n",
      "DEBUG Router: Decisión -> recopilar_preferencias\n",
      "--- Ejecutando Nodo: recopilar_preferencias_node ---\n",
      "DEBUG (Perfil) ► Último mensaje es HumanMessage o historial vacío, llamando a llm_solo_perfil...\n"
     ]
    },
    {
     "name": "stderr",
     "output_type": "stream",
     "text": [
      "INFO (RAG): HTTP Request: POST https://api.openai.com/v1/chat/completions \"HTTP/1.1 200 OK\"\n"
     ]
    },
    {
     "name": "stdout",
     "output_type": "stream",
     "text": [
      "DEBUG (Perfil) ► Respuesta llm_solo_perfil: preferencias_usuario=PerfilUsuario(apasionado_motor='sí', valora_estetica='no', coche_principal_hogar='sí', uso_profesional='no', tipo_uso_profesional=None, prefiere_diseno_exclusivo='sí', aventura=None, altura_mayor_190='sí', peso_mayor_100='no', solo_electricos=None, transmision_preferida=None, rating_fiabilidad_durabilidad=None, rating_seguridad=None, rating_comodidad=None, rating_impacto_ambiental=None, rating_costes_uso=None, rating_tecnologia_conectividad=None) tipo_mensaje='PREGUNTA' contenido_mensaje=\"¿Qué nivel de aventura buscas con tu vehículo: 'ninguna', 'ocasional' o 'extrema'?\"\n",
      "DEBUG (Perfil) ► Preferencias TRAS post-procesamiento: apasionado_motor='sí' valora_estetica='no' coche_principal_hogar='sí' uso_profesional='no' tipo_uso_profesional=None prefiere_diseno_exclusivo='sí' aventura=None altura_mayor_190='sí' peso_mayor_100='no' solo_electricos=None transmision_preferida=None rating_fiabilidad_durabilidad=None rating_seguridad=None rating_comodidad=None rating_impacto_ambiental=None rating_costes_uso=None rating_tecnologia_conectividad=None\n",
      "DEBUG (Perfil) ► Estado preferencias_usuario actualizado: apasionado_motor='sí' valora_estetica='no' coche_principal_hogar='sí' uso_profesional='no' tipo_uso_profesional=None prefiere_diseno_exclusivo='sí' aventura=None altura_mayor_190='sí' peso_mayor_100='no' solo_electricos=None transmision_preferida=None rating_fiabilidad_durabilidad=None rating_seguridad=None rating_comodidad=None rating_impacto_ambiental=None rating_costes_uso=None rating_tecnologia_conectividad=None\n",
      "DEBUG (Perfil) ► Guardando mensaje pendiente: ¿Qué nivel de aventura buscas con tu vehículo: 'ninguna', 'ocasional' o 'extrema'?\n",
      "--- Ejecutando Nodo: validar_preferencias_node ---\n",
      "--- DEBUG CHECK PERFIL ---\n",
      "Input prefs object: apasionado_motor='sí' valora_estetica='no' coche_principal_hogar='sí' uso_profesional='no' tipo_uso_profesional=None prefiere_diseno_exclusivo='sí' aventura=None altura_mayor_190='sí' peso_mayor_100='no' solo_electricos=None transmision_preferida=None rating_fiabilidad_durabilidad=None rating_seguridad=None rating_comodidad=None rating_impacto_ambiental=None rating_costes_uso=None rating_tecnologia_conectividad=None\n",
      "Input prefs type: <class 'graph.perfil.state.PerfilUsuario'>\n",
      "DEBUG (Validation Perfil) ► Campo 'aventura' está vacío/None.\n",
      "DEBUG (Perfil) ► Validación: PerfilUsuario considerado INCOMPLETO.\n",
      "--- Evaluando Condición: ruta_decision_perfil ---\n",
      "DEBUG (Condición Perfil) ► Estado 'preferencias_usuario' recibido: apasionado_motor='sí' valora_estetica='no' coche_principal_hogar='sí' uso_profesional='no' tipo_uso_profesional=None prefiere_diseno_exclusivo='sí' aventura=None altura_mayor_190='sí' peso_mayor_100='no' solo_electricos=None transmision_preferida=None rating_fiabilidad_durabilidad=None rating_seguridad=None rating_comodidad=None rating_impacto_ambiental=None rating_costes_uso=None rating_tecnologia_conectividad=None\n",
      "DEBUG (Condición Perfil) ► Tipo de 'preferencias_usuario': <class 'graph.perfil.state.PerfilUsuario'>\n",
      "--- DEBUG CHECK PERFIL ---\n",
      "Input prefs object: apasionado_motor='sí' valora_estetica='no' coche_principal_hogar='sí' uso_profesional='no' tipo_uso_profesional=None prefiere_diseno_exclusivo='sí' aventura=None altura_mayor_190='sí' peso_mayor_100='no' solo_electricos=None transmision_preferida=None rating_fiabilidad_durabilidad=None rating_seguridad=None rating_comodidad=None rating_impacto_ambiental=None rating_costes_uso=None rating_tecnologia_conectividad=None\n",
      "Input prefs type: <class 'graph.perfil.state.PerfilUsuario'>\n",
      "DEBUG (Validation Perfil) ► Campo 'aventura' está vacío/None.\n",
      "DEBUG (Condición Perfil) ► Perfil INCOMPLETO. Se necesita pregunta.\n",
      "--- Ejecutando Nodo: preguntar_preferencias_node ---\n",
      "--- DEBUG CHECK PERFIL ---\n",
      "Input prefs object: apasionado_motor='sí' valora_estetica='no' coche_principal_hogar='sí' uso_profesional='no' tipo_uso_profesional=None prefiere_diseno_exclusivo='sí' aventura=None altura_mayor_190='sí' peso_mayor_100='no' solo_electricos=None transmision_preferida=None rating_fiabilidad_durabilidad=None rating_seguridad=None rating_comodidad=None rating_impacto_ambiental=None rating_costes_uso=None rating_tecnologia_conectividad=None\n",
      "Input prefs type: <class 'graph.perfil.state.PerfilUsuario'>\n",
      "DEBUG (Validation Perfil) ► Campo 'aventura' está vacío/None.\n",
      "DEBUG (Preguntar Perfil) ► Perfil aún INCOMPLETO según checker.\n",
      "DEBUG (Preguntar Perfil) ► Pregunta fallback generada: Para conocer tu espíritu aventurero, dime que prefieres:\n",
      " 🛣️ Solo asfalto (ninguna)\n",
      " 🌲 Salidas off‑road de vez en cuando (ocasional)\n",
      " 🏔️ Aventurero extremo en terrenos difíciles (extrema)\n",
      "DEBUG (Preguntar Perfil) ► Usando mensaje pendiente (pregunta LLM): ¿Qué nivel de aventura buscas con tu vehículo: 'ninguna', 'ocasional' o 'extrema'?\n",
      "DEBUG (Preguntar Perfil) ► Mensaje final añadido: ¿Qué nivel de aventura buscas con tu vehículo: 'ninguna', 'ocasional' o 'extrema'?\n",
      "==================================\u001b[1m Ai Message \u001b[0m==================================\n",
      "\n",
      "¿Qué nivel de aventura buscas con tu vehículo: 'ninguna', 'ocasional' o 'extrema'?\n"
     ]
    }
   ],
   "source": [
    "config = {\"configurable\": {\"thread_id\": \"1\"}}\n",
    "input_message = HumanMessage(content=\"si\")\n",
    "output = graph.invoke({\"messages\": [input_message]}, config) \n",
    "for m in output['messages'][-1:]:\n",
    "    m.pretty_print()"
   ]
  },
  {
   "cell_type": "code",
   "execution_count": null,
   "metadata": {},
   "outputs": [],
   "source": [
    "print(output['preferencias_usuario'])"
   ]
  },
  {
   "cell_type": "code",
   "execution_count": 8,
   "metadata": {},
   "outputs": [
    {
     "name": "stdout",
     "output_type": "stream",
     "text": [
      "--- Ejecutando Nodo: route_based_on_state_node ---\n",
      "\n",
      "--- DEBUG: Evaluating Routing Decision ---\n",
      "--- DEBUG CHECK PERFIL ---\n",
      "Input prefs object: apasionado_motor='sí' valora_estetica='no' coche_principal_hogar='sí' uso_profesional='no' tipo_uso_profesional=None prefiere_diseno_exclusivo='sí' aventura=None altura_mayor_190='sí' peso_mayor_100='no' solo_electricos=None transmision_preferida=None rating_fiabilidad_durabilidad=None rating_seguridad=None rating_comodidad=None rating_impacto_ambiental=None rating_costes_uso=None rating_tecnologia_conectividad=None\n",
      "Input prefs type: <class 'graph.perfil.state.PerfilUsuario'>\n",
      "DEBUG (Validation Perfil) ► Campo 'aventura' está vacío/None.\n",
      "DEBUG Router: Prefs OK? False\n",
      "--- DEBUG CHECK PASAJEROS ---\n",
      "Input info pasajeros: None\n",
      "DEBUG (Validation Pasajeros) ► Objeto InfoPasajeros es None.\n",
      "DEBUG Router: Pasajeros OK? False\n",
      "DEBUG (Validation Filtros) ► Objeto FiltrosInferidos es None.\n",
      "DEBUG Router: Filtros OK? False\n",
      "--- DEBUG CHECK ECONOMIA (Manual) ---\n",
      "Input econ object: None\n",
      "DEBUG (Validation Economía Manual) ► Objeto EconomiaUsuario es None.\n",
      "DEBUG Router: Economía OK? False\n",
      "DEBUG Router: Pesos Calculados? False\n",
      "DEBUG Router: Coches Buscados? False\n",
      "--- DEBUG CHECK PERFIL ---\n",
      "Input prefs object: apasionado_motor='sí' valora_estetica='no' coche_principal_hogar='sí' uso_profesional='no' tipo_uso_profesional=None prefiere_diseno_exclusivo='sí' aventura=None altura_mayor_190='sí' peso_mayor_100='no' solo_electricos=None transmision_preferida=None rating_fiabilidad_durabilidad=None rating_seguridad=None rating_comodidad=None rating_impacto_ambiental=None rating_costes_uso=None rating_tecnologia_conectividad=None\n",
      "Input prefs type: <class 'graph.perfil.state.PerfilUsuario'>\n",
      "DEBUG (Validation Perfil) ► Campo 'aventura' está vacío/None.\n",
      "DEBUG Router: Decisión -> recopilar_preferencias\n",
      "--- Ejecutando Nodo: recopilar_preferencias_node ---\n",
      "DEBUG (Perfil) ► Último mensaje es HumanMessage o historial vacío, llamando a llm_solo_perfil...\n"
     ]
    },
    {
     "name": "stderr",
     "output_type": "stream",
     "text": [
      "INFO (RAG): HTTP Request: POST https://api.openai.com/v1/chat/completions \"HTTP/1.1 200 OK\"\n"
     ]
    },
    {
     "name": "stdout",
     "output_type": "stream",
     "text": [
      "DEBUG (Perfil) ► Respuesta llm_solo_perfil: preferencias_usuario=PerfilUsuario(apasionado_motor='sí', valora_estetica='no', coche_principal_hogar='sí', uso_profesional='no', tipo_uso_profesional=None, prefiere_diseno_exclusivo='sí', aventura=<NivelAventura.ninguna: 'ninguna'>, altura_mayor_190='sí', peso_mayor_100='no', solo_electricos=None, transmision_preferida=None, rating_fiabilidad_durabilidad=None, rating_seguridad=None, rating_comodidad=None, rating_impacto_ambiental=None, rating_costes_uso=None, rating_tecnologia_conectividad=None) tipo_mensaje='PREGUNTA' contenido_mensaje='¿Quieres solo coches eléctricos?'\n",
      "DEBUG (Perfil) ► Preferencias TRAS post-procesamiento: apasionado_motor='sí' valora_estetica='no' coche_principal_hogar='sí' uso_profesional='no' tipo_uso_profesional=None prefiere_diseno_exclusivo='sí' aventura=<NivelAventura.ninguna: 'ninguna'> altura_mayor_190='sí' peso_mayor_100='no' solo_electricos=None transmision_preferida=None rating_fiabilidad_durabilidad=None rating_seguridad=None rating_comodidad=None rating_impacto_ambiental=None rating_costes_uso=None rating_tecnologia_conectividad=None\n",
      "DEBUG (Perfil) ► Estado preferencias_usuario actualizado: apasionado_motor='sí' valora_estetica='no' coche_principal_hogar='sí' uso_profesional='no' tipo_uso_profesional=None prefiere_diseno_exclusivo='sí' aventura=<NivelAventura.ninguna: 'ninguna'> altura_mayor_190='sí' peso_mayor_100='no' solo_electricos=None transmision_preferida=None rating_fiabilidad_durabilidad=None rating_seguridad=None rating_comodidad=None rating_impacto_ambiental=None rating_costes_uso=None rating_tecnologia_conectividad=None\n",
      "DEBUG (Perfil) ► Guardando mensaje pendiente: ¿Quieres solo coches eléctricos?\n",
      "--- Ejecutando Nodo: validar_preferencias_node ---\n",
      "--- DEBUG CHECK PERFIL ---\n",
      "Input prefs object: apasionado_motor='sí' valora_estetica='no' coche_principal_hogar='sí' uso_profesional='no' tipo_uso_profesional=None prefiere_diseno_exclusivo='sí' aventura=<NivelAventura.ninguna: 'ninguna'> altura_mayor_190='sí' peso_mayor_100='no' solo_electricos=None transmision_preferida=None rating_fiabilidad_durabilidad=None rating_seguridad=None rating_comodidad=None rating_impacto_ambiental=None rating_costes_uso=None rating_tecnologia_conectividad=None\n",
      "Input prefs type: <class 'graph.perfil.state.PerfilUsuario'>\n",
      "DEBUG (Validation Perfil) ► Campo 'solo_electricos' está vacío/None.\n",
      "DEBUG (Perfil) ► Validación: PerfilUsuario considerado INCOMPLETO.\n",
      "--- Evaluando Condición: ruta_decision_perfil ---\n",
      "DEBUG (Condición Perfil) ► Estado 'preferencias_usuario' recibido: apasionado_motor='sí' valora_estetica='no' coche_principal_hogar='sí' uso_profesional='no' tipo_uso_profesional=None prefiere_diseno_exclusivo='sí' aventura=<NivelAventura.ninguna: 'ninguna'> altura_mayor_190='sí' peso_mayor_100='no' solo_electricos=None transmision_preferida=None rating_fiabilidad_durabilidad=None rating_seguridad=None rating_comodidad=None rating_impacto_ambiental=None rating_costes_uso=None rating_tecnologia_conectividad=None\n",
      "DEBUG (Condición Perfil) ► Tipo de 'preferencias_usuario': <class 'graph.perfil.state.PerfilUsuario'>\n",
      "--- DEBUG CHECK PERFIL ---\n",
      "Input prefs object: apasionado_motor='sí' valora_estetica='no' coche_principal_hogar='sí' uso_profesional='no' tipo_uso_profesional=None prefiere_diseno_exclusivo='sí' aventura=<NivelAventura.ninguna: 'ninguna'> altura_mayor_190='sí' peso_mayor_100='no' solo_electricos=None transmision_preferida=None rating_fiabilidad_durabilidad=None rating_seguridad=None rating_comodidad=None rating_impacto_ambiental=None rating_costes_uso=None rating_tecnologia_conectividad=None\n",
      "Input prefs type: <class 'graph.perfil.state.PerfilUsuario'>\n",
      "DEBUG (Validation Perfil) ► Campo 'solo_electricos' está vacío/None.\n",
      "DEBUG (Condición Perfil) ► Perfil INCOMPLETO. Se necesita pregunta.\n",
      "--- Ejecutando Nodo: preguntar_preferencias_node ---\n",
      "--- DEBUG CHECK PERFIL ---\n",
      "Input prefs object: apasionado_motor='sí' valora_estetica='no' coche_principal_hogar='sí' uso_profesional='no' tipo_uso_profesional=None prefiere_diseno_exclusivo='sí' aventura=<NivelAventura.ninguna: 'ninguna'> altura_mayor_190='sí' peso_mayor_100='no' solo_electricos=None transmision_preferida=None rating_fiabilidad_durabilidad=None rating_seguridad=None rating_comodidad=None rating_impacto_ambiental=None rating_costes_uso=None rating_tecnologia_conectividad=None\n",
      "Input prefs type: <class 'graph.perfil.state.PerfilUsuario'>\n",
      "DEBUG (Validation Perfil) ► Campo 'solo_electricos' está vacío/None.\n",
      "DEBUG (Preguntar Perfil) ► Perfil aún INCOMPLETO según checker.\n",
      "DEBUG (Preguntar Perfil) ► Pregunta fallback generada: ¿Estás interesado exclusivamente en vehículos con motorización eléctrica?\n",
      "DEBUG (Preguntar Perfil) ► Usando mensaje pendiente (pregunta LLM): ¿Quieres solo coches eléctricos?\n",
      "DEBUG (Preguntar Perfil) ► Mensaje final añadido: ¿Quieres solo coches eléctricos?\n",
      "==================================\u001b[1m Ai Message \u001b[0m==================================\n",
      "\n",
      "¿Quieres solo coches eléctricos?\n"
     ]
    }
   ],
   "source": [
    "# Create a thread\n",
    "config = {\"configurable\": {\"thread_id\": \"1\"}}\n",
    "\n",
    "# Start conversation\n",
    "input_message = HumanMessage(content=\"ninguna\")\n",
    "output = graph.invoke({\"messages\": [input_message]}, config) \n",
    "for m in output['messages'][-1:]:\n",
    "    m.pretty_print()"
   ]
  },
  {
   "cell_type": "code",
   "execution_count": 9,
   "metadata": {},
   "outputs": [
    {
     "name": "stdout",
     "output_type": "stream",
     "text": [
      "--- Ejecutando Nodo: route_based_on_state_node ---\n",
      "\n",
      "--- DEBUG: Evaluating Routing Decision ---\n",
      "--- DEBUG CHECK PERFIL ---\n",
      "Input prefs object: apasionado_motor='sí' valora_estetica='no' coche_principal_hogar='sí' uso_profesional='no' tipo_uso_profesional=None prefiere_diseno_exclusivo='sí' aventura=<NivelAventura.ninguna: 'ninguna'> altura_mayor_190='sí' peso_mayor_100='no' solo_electricos=None transmision_preferida=None rating_fiabilidad_durabilidad=None rating_seguridad=None rating_comodidad=None rating_impacto_ambiental=None rating_costes_uso=None rating_tecnologia_conectividad=None\n",
      "Input prefs type: <class 'graph.perfil.state.PerfilUsuario'>\n",
      "DEBUG (Validation Perfil) ► Campo 'solo_electricos' está vacío/None.\n",
      "DEBUG Router: Prefs OK? False\n",
      "--- DEBUG CHECK PASAJEROS ---\n",
      "Input info pasajeros: None\n",
      "DEBUG (Validation Pasajeros) ► Objeto InfoPasajeros es None.\n",
      "DEBUG Router: Pasajeros OK? False\n",
      "DEBUG (Validation Filtros) ► Objeto FiltrosInferidos es None.\n",
      "DEBUG Router: Filtros OK? False\n",
      "--- DEBUG CHECK ECONOMIA (Manual) ---\n",
      "Input econ object: None\n",
      "DEBUG (Validation Economía Manual) ► Objeto EconomiaUsuario es None.\n",
      "DEBUG Router: Economía OK? False\n",
      "DEBUG Router: Pesos Calculados? False\n",
      "DEBUG Router: Coches Buscados? False\n",
      "--- DEBUG CHECK PERFIL ---\n",
      "Input prefs object: apasionado_motor='sí' valora_estetica='no' coche_principal_hogar='sí' uso_profesional='no' tipo_uso_profesional=None prefiere_diseno_exclusivo='sí' aventura=<NivelAventura.ninguna: 'ninguna'> altura_mayor_190='sí' peso_mayor_100='no' solo_electricos=None transmision_preferida=None rating_fiabilidad_durabilidad=None rating_seguridad=None rating_comodidad=None rating_impacto_ambiental=None rating_costes_uso=None rating_tecnologia_conectividad=None\n",
      "Input prefs type: <class 'graph.perfil.state.PerfilUsuario'>\n",
      "DEBUG (Validation Perfil) ► Campo 'solo_electricos' está vacío/None.\n",
      "DEBUG Router: Decisión -> recopilar_preferencias\n",
      "--- Ejecutando Nodo: recopilar_preferencias_node ---\n",
      "DEBUG (Perfil) ► Último mensaje es HumanMessage o historial vacío, llamando a llm_solo_perfil...\n"
     ]
    },
    {
     "name": "stderr",
     "output_type": "stream",
     "text": [
      "INFO (RAG): HTTP Request: POST https://api.openai.com/v1/chat/completions \"HTTP/1.1 200 OK\"\n"
     ]
    },
    {
     "name": "stdout",
     "output_type": "stream",
     "text": [
      "DEBUG (Perfil) ► Respuesta llm_solo_perfil: preferencias_usuario=PerfilUsuario(apasionado_motor='sí', valora_estetica='no', coche_principal_hogar='sí', uso_profesional='no', tipo_uso_profesional=None, prefiere_diseno_exclusivo='sí', aventura=<NivelAventura.ninguna: 'ninguna'>, altura_mayor_190='sí', peso_mayor_100='no', solo_electricos='no', transmision_preferida=None, rating_fiabilidad_durabilidad=None, rating_seguridad=None, rating_comodidad=None, rating_impacto_ambiental=None, rating_costes_uso=None, rating_tecnologia_conectividad=None) tipo_mensaje='PREGUNTA' contenido_mensaje='¿Qué tipo de transmisión prefieres?\\n 1) Automático\\n 2) Manual\\n 3) Ambos'\n",
      "DEBUG (Perfil) ► Preferencias TRAS post-procesamiento: apasionado_motor='sí' valora_estetica='no' coche_principal_hogar='sí' uso_profesional='no' tipo_uso_profesional=None prefiere_diseno_exclusivo='sí' aventura=<NivelAventura.ninguna: 'ninguna'> altura_mayor_190='sí' peso_mayor_100='no' solo_electricos='no' transmision_preferida=None rating_fiabilidad_durabilidad=None rating_seguridad=None rating_comodidad=None rating_impacto_ambiental=None rating_costes_uso=None rating_tecnologia_conectividad=None\n",
      "DEBUG (Perfil) ► Estado preferencias_usuario actualizado: apasionado_motor='sí' valora_estetica='no' coche_principal_hogar='sí' uso_profesional='no' tipo_uso_profesional=None prefiere_diseno_exclusivo='sí' aventura=<NivelAventura.ninguna: 'ninguna'> altura_mayor_190='sí' peso_mayor_100='no' solo_electricos='no' transmision_preferida=None rating_fiabilidad_durabilidad=None rating_seguridad=None rating_comodidad=None rating_impacto_ambiental=None rating_costes_uso=None rating_tecnologia_conectividad=None\n",
      "DEBUG (Perfil) ► Guardando mensaje pendiente: ¿Qué tipo de transmisión prefieres?\n",
      " 1) Automático\n",
      " 2) Manual\n",
      " 3) Ambos\n",
      "--- Ejecutando Nodo: validar_preferencias_node ---\n",
      "--- DEBUG CHECK PERFIL ---\n",
      "Input prefs object: apasionado_motor='sí' valora_estetica='no' coche_principal_hogar='sí' uso_profesional='no' tipo_uso_profesional=None prefiere_diseno_exclusivo='sí' aventura=<NivelAventura.ninguna: 'ninguna'> altura_mayor_190='sí' peso_mayor_100='no' solo_electricos='no' transmision_preferida=None rating_fiabilidad_durabilidad=None rating_seguridad=None rating_comodidad=None rating_impacto_ambiental=None rating_costes_uso=None rating_tecnologia_conectividad=None\n",
      "Input prefs type: <class 'graph.perfil.state.PerfilUsuario'>\n",
      "DEBUG (Validation Perfil) ► Campo 'transmision_preferida' está vacío/None.\n",
      "DEBUG (Perfil) ► Validación: PerfilUsuario considerado INCOMPLETO.\n",
      "--- Evaluando Condición: ruta_decision_perfil ---\n",
      "DEBUG (Condición Perfil) ► Estado 'preferencias_usuario' recibido: apasionado_motor='sí' valora_estetica='no' coche_principal_hogar='sí' uso_profesional='no' tipo_uso_profesional=None prefiere_diseno_exclusivo='sí' aventura=<NivelAventura.ninguna: 'ninguna'> altura_mayor_190='sí' peso_mayor_100='no' solo_electricos='no' transmision_preferida=None rating_fiabilidad_durabilidad=None rating_seguridad=None rating_comodidad=None rating_impacto_ambiental=None rating_costes_uso=None rating_tecnologia_conectividad=None\n",
      "DEBUG (Condición Perfil) ► Tipo de 'preferencias_usuario': <class 'graph.perfil.state.PerfilUsuario'>\n",
      "--- DEBUG CHECK PERFIL ---\n",
      "Input prefs object: apasionado_motor='sí' valora_estetica='no' coche_principal_hogar='sí' uso_profesional='no' tipo_uso_profesional=None prefiere_diseno_exclusivo='sí' aventura=<NivelAventura.ninguna: 'ninguna'> altura_mayor_190='sí' peso_mayor_100='no' solo_electricos='no' transmision_preferida=None rating_fiabilidad_durabilidad=None rating_seguridad=None rating_comodidad=None rating_impacto_ambiental=None rating_costes_uso=None rating_tecnologia_conectividad=None\n",
      "Input prefs type: <class 'graph.perfil.state.PerfilUsuario'>\n",
      "DEBUG (Validation Perfil) ► Campo 'transmision_preferida' está vacío/None.\n",
      "DEBUG (Condición Perfil) ► Perfil INCOMPLETO. Se necesita pregunta.\n",
      "--- Ejecutando Nodo: preguntar_preferencias_node ---\n",
      "--- DEBUG CHECK PERFIL ---\n",
      "Input prefs object: apasionado_motor='sí' valora_estetica='no' coche_principal_hogar='sí' uso_profesional='no' tipo_uso_profesional=None prefiere_diseno_exclusivo='sí' aventura=<NivelAventura.ninguna: 'ninguna'> altura_mayor_190='sí' peso_mayor_100='no' solo_electricos='no' transmision_preferida=None rating_fiabilidad_durabilidad=None rating_seguridad=None rating_comodidad=None rating_impacto_ambiental=None rating_costes_uso=None rating_tecnologia_conectividad=None\n",
      "Input prefs type: <class 'graph.perfil.state.PerfilUsuario'>\n",
      "DEBUG (Validation Perfil) ► Campo 'transmision_preferida' está vacío/None.\n",
      "DEBUG (Preguntar Perfil) ► Perfil aún INCOMPLETO según checker.\n",
      "DEBUG (Preguntar Perfil) ► Pregunta fallback generada: En cuanto a la transmisión, ¿qué opción se ajusta mejor a tus preferencias?\n",
      " 1) Automático\n",
      " 2) Manual\n",
      " 3) Ambos, puedo considerar ambas opciones\n",
      "DEBUG (Preguntar Perfil) ► Usando mensaje pendiente (pregunta LLM): ¿Qué tipo de transmisión prefieres?\n",
      " 1) Automático\n",
      " 2) Manual\n",
      " 3) Ambos\n",
      "DEBUG (Preguntar Perfil) ► Mensaje final añadido: ¿Qué tipo de transmisión prefieres?\n",
      " 1) Automático\n",
      " 2) Manual\n",
      " 3) Ambos\n",
      "==================================\u001b[1m Ai Message \u001b[0m==================================\n",
      "\n",
      "¿Qué tipo de transmisión prefieres?\n",
      " 1) Automático\n",
      " 2) Manual\n",
      " 3) Ambos\n"
     ]
    }
   ],
   "source": [
    "# Create a thread\n",
    "config = {\"configurable\": {\"thread_id\": \"1\"}}\n",
    "\n",
    "# Start conversation\n",
    "input_message = HumanMessage(content=\"no\")\n",
    "output = graph.invoke({\"messages\": [input_message]}, config) \n",
    "for m in output['messages'][-1:]:\n",
    "    m.pretty_print()"
   ]
  },
  {
   "cell_type": "code",
   "execution_count": 10,
   "metadata": {},
   "outputs": [
    {
     "name": "stdout",
     "output_type": "stream",
     "text": [
      "--- Ejecutando Nodo: route_based_on_state_node ---\n",
      "\n",
      "--- DEBUG: Evaluating Routing Decision ---\n",
      "--- DEBUG CHECK PERFIL ---\n",
      "Input prefs object: apasionado_motor='sí' valora_estetica='no' coche_principal_hogar='sí' uso_profesional='no' tipo_uso_profesional=None prefiere_diseno_exclusivo='sí' aventura=<NivelAventura.ninguna: 'ninguna'> altura_mayor_190='sí' peso_mayor_100='no' solo_electricos='no' transmision_preferida=None rating_fiabilidad_durabilidad=None rating_seguridad=None rating_comodidad=None rating_impacto_ambiental=None rating_costes_uso=None rating_tecnologia_conectividad=None\n",
      "Input prefs type: <class 'graph.perfil.state.PerfilUsuario'>\n",
      "DEBUG (Validation Perfil) ► Campo 'transmision_preferida' está vacío/None.\n",
      "DEBUG Router: Prefs OK? False\n",
      "--- DEBUG CHECK PASAJEROS ---\n",
      "Input info pasajeros: None\n",
      "DEBUG (Validation Pasajeros) ► Objeto InfoPasajeros es None.\n",
      "DEBUG Router: Pasajeros OK? False\n",
      "DEBUG (Validation Filtros) ► Objeto FiltrosInferidos es None.\n",
      "DEBUG Router: Filtros OK? False\n",
      "--- DEBUG CHECK ECONOMIA (Manual) ---\n",
      "Input econ object: None\n",
      "DEBUG (Validation Economía Manual) ► Objeto EconomiaUsuario es None.\n",
      "DEBUG Router: Economía OK? False\n",
      "DEBUG Router: Pesos Calculados? False\n",
      "DEBUG Router: Coches Buscados? False\n",
      "--- DEBUG CHECK PERFIL ---\n",
      "Input prefs object: apasionado_motor='sí' valora_estetica='no' coche_principal_hogar='sí' uso_profesional='no' tipo_uso_profesional=None prefiere_diseno_exclusivo='sí' aventura=<NivelAventura.ninguna: 'ninguna'> altura_mayor_190='sí' peso_mayor_100='no' solo_electricos='no' transmision_preferida=None rating_fiabilidad_durabilidad=None rating_seguridad=None rating_comodidad=None rating_impacto_ambiental=None rating_costes_uso=None rating_tecnologia_conectividad=None\n",
      "Input prefs type: <class 'graph.perfil.state.PerfilUsuario'>\n",
      "DEBUG (Validation Perfil) ► Campo 'transmision_preferida' está vacío/None.\n",
      "DEBUG Router: Decisión -> recopilar_preferencias\n",
      "--- Ejecutando Nodo: recopilar_preferencias_node ---\n",
      "DEBUG (Perfil) ► Último mensaje es HumanMessage o historial vacío, llamando a llm_solo_perfil...\n"
     ]
    },
    {
     "name": "stderr",
     "output_type": "stream",
     "text": [
      "INFO (RAG): HTTP Request: POST https://api.openai.com/v1/chat/completions \"HTTP/1.1 200 OK\"\n"
     ]
    },
    {
     "name": "stdout",
     "output_type": "stream",
     "text": [
      "DEBUG (Perfil) ► Respuesta llm_solo_perfil: preferencias_usuario=PerfilUsuario(apasionado_motor='sí', valora_estetica='no', coche_principal_hogar='sí', uso_profesional='no', tipo_uso_profesional=None, prefiere_diseno_exclusivo='sí', aventura=<NivelAventura.ninguna: 'ninguna'>, altura_mayor_190='sí', peso_mayor_100='no', solo_electricos='no', transmision_preferida=<Transmision.AMBOS: 'ambos'>, rating_fiabilidad_durabilidad=None, rating_seguridad=None, rating_comodidad=None, rating_impacto_ambiental=None, rating_costes_uso=None, rating_tecnologia_conectividad=None) tipo_mensaje='CONFIRMACION' contenido_mensaje=''\n",
      "DEBUG (Perfil) ► Preferencias TRAS post-procesamiento: apasionado_motor='sí' valora_estetica='no' coche_principal_hogar='sí' uso_profesional='no' tipo_uso_profesional=None prefiere_diseno_exclusivo='sí' aventura=<NivelAventura.ninguna: 'ninguna'> altura_mayor_190='sí' peso_mayor_100='no' solo_electricos='no' transmision_preferida=<Transmision.AMBOS: 'ambos'> rating_fiabilidad_durabilidad=None rating_seguridad=None rating_comodidad=None rating_impacto_ambiental=None rating_costes_uso=None rating_tecnologia_conectividad=None\n",
      "DEBUG (Perfil) ► Estado preferencias_usuario actualizado: apasionado_motor='sí' valora_estetica='no' coche_principal_hogar='sí' uso_profesional='no' tipo_uso_profesional=None prefiere_diseno_exclusivo='sí' aventura=<NivelAventura.ninguna: 'ninguna'> altura_mayor_190='sí' peso_mayor_100='no' solo_electricos='no' transmision_preferida=<Transmision.AMBOS: 'ambos'> rating_fiabilidad_durabilidad=None rating_seguridad=None rating_comodidad=None rating_impacto_ambiental=None rating_costes_uso=None rating_tecnologia_conectividad=None\n",
      "DEBUG (Perfil) ► No hay mensaje pendiente.\n",
      "--- Ejecutando Nodo: validar_preferencias_node ---\n",
      "--- DEBUG CHECK PERFIL ---\n",
      "Input prefs object: apasionado_motor='sí' valora_estetica='no' coche_principal_hogar='sí' uso_profesional='no' tipo_uso_profesional=None prefiere_diseno_exclusivo='sí' aventura=<NivelAventura.ninguna: 'ninguna'> altura_mayor_190='sí' peso_mayor_100='no' solo_electricos='no' transmision_preferida=<Transmision.AMBOS: 'ambos'> rating_fiabilidad_durabilidad=None rating_seguridad=None rating_comodidad=None rating_impacto_ambiental=None rating_costes_uso=None rating_tecnologia_conectividad=None\n",
      "Input prefs type: <class 'graph.perfil.state.PerfilUsuario'>\n",
      "DEBUG (Validation Perfil) ► Campo 'rating_fiabilidad_durabilidad' está vacío/None.\n",
      "DEBUG (Perfil) ► Validación: PerfilUsuario considerado INCOMPLETO.\n",
      "--- Evaluando Condición: ruta_decision_perfil ---\n",
      "DEBUG (Condición Perfil) ► Estado 'preferencias_usuario' recibido: apasionado_motor='sí' valora_estetica='no' coche_principal_hogar='sí' uso_profesional='no' tipo_uso_profesional=None prefiere_diseno_exclusivo='sí' aventura=<NivelAventura.ninguna: 'ninguna'> altura_mayor_190='sí' peso_mayor_100='no' solo_electricos='no' transmision_preferida=<Transmision.AMBOS: 'ambos'> rating_fiabilidad_durabilidad=None rating_seguridad=None rating_comodidad=None rating_impacto_ambiental=None rating_costes_uso=None rating_tecnologia_conectividad=None\n",
      "DEBUG (Condición Perfil) ► Tipo de 'preferencias_usuario': <class 'graph.perfil.state.PerfilUsuario'>\n",
      "--- DEBUG CHECK PERFIL ---\n",
      "Input prefs object: apasionado_motor='sí' valora_estetica='no' coche_principal_hogar='sí' uso_profesional='no' tipo_uso_profesional=None prefiere_diseno_exclusivo='sí' aventura=<NivelAventura.ninguna: 'ninguna'> altura_mayor_190='sí' peso_mayor_100='no' solo_electricos='no' transmision_preferida=<Transmision.AMBOS: 'ambos'> rating_fiabilidad_durabilidad=None rating_seguridad=None rating_comodidad=None rating_impacto_ambiental=None rating_costes_uso=None rating_tecnologia_conectividad=None\n",
      "Input prefs type: <class 'graph.perfil.state.PerfilUsuario'>\n",
      "DEBUG (Validation Perfil) ► Campo 'rating_fiabilidad_durabilidad' está vacío/None.\n",
      "DEBUG (Condición Perfil) ► Perfil INCOMPLETO. Se necesita pregunta.\n",
      "--- Ejecutando Nodo: preguntar_preferencias_node ---\n",
      "--- DEBUG CHECK PERFIL ---\n",
      "Input prefs object: apasionado_motor='sí' valora_estetica='no' coche_principal_hogar='sí' uso_profesional='no' tipo_uso_profesional=None prefiere_diseno_exclusivo='sí' aventura=<NivelAventura.ninguna: 'ninguna'> altura_mayor_190='sí' peso_mayor_100='no' solo_electricos='no' transmision_preferida=<Transmision.AMBOS: 'ambos'> rating_fiabilidad_durabilidad=None rating_seguridad=None rating_comodidad=None rating_impacto_ambiental=None rating_costes_uso=None rating_tecnologia_conectividad=None\n",
      "Input prefs type: <class 'graph.perfil.state.PerfilUsuario'>\n",
      "DEBUG (Validation Perfil) ► Campo 'rating_fiabilidad_durabilidad' está vacío/None.\n",
      "DEBUG (Preguntar Perfil) ► Perfil aún INCOMPLETO según checker.\n",
      "DEBUG (Preguntar Perfil) ► Pregunta fallback generada: En una escala de 0 (nada importante) a 10 (extremadamente importante), ¿qué tan importante es para ti la Fiabilidad y Durabilidad del coche?\n",
      "WARN (Preguntar Perfil) ► Nodo ejecutado para preguntar, pero no había mensaje pendiente válido. Generando pregunta fallback.\n",
      "DEBUG (Preguntar Perfil) ► Mensaje final añadido: En una escala de 0 (nada importante) a 10 (extremadamente importante), ¿qué tan importante es para ti la Fiabilidad y Durabilidad del coche?\n",
      "==================================\u001b[1m Ai Message \u001b[0m==================================\n",
      "\n",
      "En una escala de 0 (nada importante) a 10 (extremadamente importante), ¿qué tan importante es para ti la Fiabilidad y Durabilidad del coche?\n"
     ]
    }
   ],
   "source": [
    "# Create a thread\n",
    "config = {\"configurable\": {\"thread_id\": \"1\"}}\n",
    "\n",
    "# Start conversation\n",
    "input_message = HumanMessage(content=\"ambos\")\n",
    "output = graph.invoke({\"messages\": [input_message]}, config) \n",
    "for m in output['messages'][-1:]:\n",
    "    m.pretty_print()"
   ]
  },
  {
   "cell_type": "code",
   "execution_count": null,
   "metadata": {},
   "outputs": [],
   "source": [
    "print(output['preferencias_usuario'])\n",
    "print('-----------------------')\n",
    "#print(output['filtros_inferidos'])\n"
   ]
  },
  {
   "cell_type": "code",
   "execution_count": 11,
   "metadata": {},
   "outputs": [
    {
     "name": "stdout",
     "output_type": "stream",
     "text": [
      "--- Ejecutando Nodo: route_based_on_state_node ---\n",
      "\n",
      "--- DEBUG: Evaluating Routing Decision ---\n",
      "--- DEBUG CHECK PERFIL ---\n",
      "Input prefs object: apasionado_motor='sí' valora_estetica='no' coche_principal_hogar='sí' uso_profesional='no' tipo_uso_profesional=None prefiere_diseno_exclusivo='sí' aventura=<NivelAventura.ninguna: 'ninguna'> altura_mayor_190='sí' peso_mayor_100='no' solo_electricos='no' transmision_preferida=<Transmision.AMBOS: 'ambos'> rating_fiabilidad_durabilidad=None rating_seguridad=None rating_comodidad=None rating_impacto_ambiental=None rating_costes_uso=None rating_tecnologia_conectividad=None\n",
      "Input prefs type: <class 'graph.perfil.state.PerfilUsuario'>\n",
      "DEBUG (Validation Perfil) ► Campo 'rating_fiabilidad_durabilidad' está vacío/None.\n",
      "DEBUG Router: Prefs OK? False\n",
      "--- DEBUG CHECK PASAJEROS ---\n",
      "Input info pasajeros: None\n",
      "DEBUG (Validation Pasajeros) ► Objeto InfoPasajeros es None.\n",
      "DEBUG Router: Pasajeros OK? False\n",
      "DEBUG (Validation Filtros) ► Objeto FiltrosInferidos es None.\n",
      "DEBUG Router: Filtros OK? False\n",
      "--- DEBUG CHECK ECONOMIA (Manual) ---\n",
      "Input econ object: None\n",
      "DEBUG (Validation Economía Manual) ► Objeto EconomiaUsuario es None.\n",
      "DEBUG Router: Economía OK? False\n",
      "DEBUG Router: Pesos Calculados? False\n",
      "DEBUG Router: Coches Buscados? False\n",
      "--- DEBUG CHECK PERFIL ---\n",
      "Input prefs object: apasionado_motor='sí' valora_estetica='no' coche_principal_hogar='sí' uso_profesional='no' tipo_uso_profesional=None prefiere_diseno_exclusivo='sí' aventura=<NivelAventura.ninguna: 'ninguna'> altura_mayor_190='sí' peso_mayor_100='no' solo_electricos='no' transmision_preferida=<Transmision.AMBOS: 'ambos'> rating_fiabilidad_durabilidad=None rating_seguridad=None rating_comodidad=None rating_impacto_ambiental=None rating_costes_uso=None rating_tecnologia_conectividad=None\n",
      "Input prefs type: <class 'graph.perfil.state.PerfilUsuario'>\n",
      "DEBUG (Validation Perfil) ► Campo 'rating_fiabilidad_durabilidad' está vacío/None.\n",
      "DEBUG Router: Decisión -> recopilar_preferencias\n",
      "--- Ejecutando Nodo: recopilar_preferencias_node ---\n",
      "DEBUG (Perfil) ► Último mensaje es HumanMessage o historial vacío, llamando a llm_solo_perfil...\n"
     ]
    },
    {
     "name": "stderr",
     "output_type": "stream",
     "text": [
      "INFO (RAG): HTTP Request: POST https://api.openai.com/v1/chat/completions \"HTTP/1.1 200 OK\"\n"
     ]
    },
    {
     "name": "stdout",
     "output_type": "stream",
     "text": [
      "DEBUG (Perfil) ► Respuesta llm_solo_perfil: preferencias_usuario=PerfilUsuario(apasionado_motor='sí', valora_estetica='no', coche_principal_hogar='sí', uso_profesional='no', tipo_uso_profesional=None, prefiere_diseno_exclusivo='sí', aventura=<NivelAventura.ninguna: 'ninguna'>, altura_mayor_190='sí', peso_mayor_100='no', solo_electricos='no', transmision_preferida=<Transmision.AMBOS: 'ambos'>, rating_fiabilidad_durabilidad=7, rating_seguridad=None, rating_comodidad=None, rating_impacto_ambiental=None, rating_costes_uso=None, rating_tecnologia_conectividad=None) tipo_mensaje='PREGUNTA' contenido_mensaje='Pensando en la Seguridad, ¿qué puntuación le darías en importancia (0-10)?'\n",
      "DEBUG (Perfil) ► Preferencias TRAS post-procesamiento: apasionado_motor='sí' valora_estetica='no' coche_principal_hogar='sí' uso_profesional='no' tipo_uso_profesional=None prefiere_diseno_exclusivo='sí' aventura=<NivelAventura.ninguna: 'ninguna'> altura_mayor_190='sí' peso_mayor_100='no' solo_electricos='no' transmision_preferida=<Transmision.AMBOS: 'ambos'> rating_fiabilidad_durabilidad=7 rating_seguridad=None rating_comodidad=None rating_impacto_ambiental=None rating_costes_uso=None rating_tecnologia_conectividad=None\n",
      "DEBUG (Perfil) ► Estado preferencias_usuario actualizado: apasionado_motor='sí' valora_estetica='no' coche_principal_hogar='sí' uso_profesional='no' tipo_uso_profesional=None prefiere_diseno_exclusivo='sí' aventura=<NivelAventura.ninguna: 'ninguna'> altura_mayor_190='sí' peso_mayor_100='no' solo_electricos='no' transmision_preferida=<Transmision.AMBOS: 'ambos'> rating_fiabilidad_durabilidad=7 rating_seguridad=None rating_comodidad=None rating_impacto_ambiental=None rating_costes_uso=None rating_tecnologia_conectividad=None\n",
      "DEBUG (Perfil) ► Guardando mensaje pendiente: Pensando en la Seguridad, ¿qué puntuación le darías en importancia (0-10)?\n",
      "--- Ejecutando Nodo: validar_preferencias_node ---\n",
      "--- DEBUG CHECK PERFIL ---\n",
      "Input prefs object: apasionado_motor='sí' valora_estetica='no' coche_principal_hogar='sí' uso_profesional='no' tipo_uso_profesional=None prefiere_diseno_exclusivo='sí' aventura=<NivelAventura.ninguna: 'ninguna'> altura_mayor_190='sí' peso_mayor_100='no' solo_electricos='no' transmision_preferida=<Transmision.AMBOS: 'ambos'> rating_fiabilidad_durabilidad=7 rating_seguridad=None rating_comodidad=None rating_impacto_ambiental=None rating_costes_uso=None rating_tecnologia_conectividad=None\n",
      "Input prefs type: <class 'graph.perfil.state.PerfilUsuario'>\n",
      "DEBUG (Validation Perfil) ► Campo 'rating_seguridad' está vacío/None.\n",
      "DEBUG (Perfil) ► Validación: PerfilUsuario considerado INCOMPLETO.\n",
      "--- Evaluando Condición: ruta_decision_perfil ---\n",
      "DEBUG (Condición Perfil) ► Estado 'preferencias_usuario' recibido: apasionado_motor='sí' valora_estetica='no' coche_principal_hogar='sí' uso_profesional='no' tipo_uso_profesional=None prefiere_diseno_exclusivo='sí' aventura=<NivelAventura.ninguna: 'ninguna'> altura_mayor_190='sí' peso_mayor_100='no' solo_electricos='no' transmision_preferida=<Transmision.AMBOS: 'ambos'> rating_fiabilidad_durabilidad=7 rating_seguridad=None rating_comodidad=None rating_impacto_ambiental=None rating_costes_uso=None rating_tecnologia_conectividad=None\n",
      "DEBUG (Condición Perfil) ► Tipo de 'preferencias_usuario': <class 'graph.perfil.state.PerfilUsuario'>\n",
      "--- DEBUG CHECK PERFIL ---\n",
      "Input prefs object: apasionado_motor='sí' valora_estetica='no' coche_principal_hogar='sí' uso_profesional='no' tipo_uso_profesional=None prefiere_diseno_exclusivo='sí' aventura=<NivelAventura.ninguna: 'ninguna'> altura_mayor_190='sí' peso_mayor_100='no' solo_electricos='no' transmision_preferida=<Transmision.AMBOS: 'ambos'> rating_fiabilidad_durabilidad=7 rating_seguridad=None rating_comodidad=None rating_impacto_ambiental=None rating_costes_uso=None rating_tecnologia_conectividad=None\n",
      "Input prefs type: <class 'graph.perfil.state.PerfilUsuario'>\n",
      "DEBUG (Validation Perfil) ► Campo 'rating_seguridad' está vacío/None.\n",
      "DEBUG (Condición Perfil) ► Perfil INCOMPLETO. Se necesita pregunta.\n",
      "--- Ejecutando Nodo: preguntar_preferencias_node ---\n",
      "--- DEBUG CHECK PERFIL ---\n",
      "Input prefs object: apasionado_motor='sí' valora_estetica='no' coche_principal_hogar='sí' uso_profesional='no' tipo_uso_profesional=None prefiere_diseno_exclusivo='sí' aventura=<NivelAventura.ninguna: 'ninguna'> altura_mayor_190='sí' peso_mayor_100='no' solo_electricos='no' transmision_preferida=<Transmision.AMBOS: 'ambos'> rating_fiabilidad_durabilidad=7 rating_seguridad=None rating_comodidad=None rating_impacto_ambiental=None rating_costes_uso=None rating_tecnologia_conectividad=None\n",
      "Input prefs type: <class 'graph.perfil.state.PerfilUsuario'>\n",
      "DEBUG (Validation Perfil) ► Campo 'rating_seguridad' está vacío/None.\n",
      "DEBUG (Preguntar Perfil) ► Perfil aún INCOMPLETO según checker.\n",
      "DEBUG (Preguntar Perfil) ► Pregunta fallback generada: Pensando en la Seguridad, ¿qué puntuación le darías en importancia (0-10)?\n",
      "DEBUG (Preguntar Perfil) ► Usando mensaje pendiente (pregunta LLM): Pensando en la Seguridad, ¿qué puntuación le darías en importancia (0-10)?\n",
      "DEBUG (Preguntar Perfil) ► Mensaje final añadido: Pensando en la Seguridad, ¿qué puntuación le darías en importancia (0-10)?\n",
      "==================================\u001b[1m Ai Message \u001b[0m==================================\n",
      "\n",
      "Pensando en la Seguridad, ¿qué puntuación le darías en importancia (0-10)?\n"
     ]
    }
   ],
   "source": [
    "# Create a thread\n",
    "config = {\"configurable\": {\"thread_id\": \"1\"}}\n",
    "\n",
    "# Start conversation\n",
    "input_message = HumanMessage(content=\"7\")\n",
    "output = graph.invoke({\"messages\": [input_message]}, config) \n",
    "for m in output['messages'][-1:]:\n",
    "    m.pretty_print()"
   ]
  },
  {
   "cell_type": "code",
   "execution_count": 12,
   "metadata": {},
   "outputs": [
    {
     "name": "stdout",
     "output_type": "stream",
     "text": [
      "--- Ejecutando Nodo: route_based_on_state_node ---\n",
      "\n",
      "--- DEBUG: Evaluating Routing Decision ---\n",
      "--- DEBUG CHECK PERFIL ---\n",
      "Input prefs object: apasionado_motor='sí' valora_estetica='no' coche_principal_hogar='sí' uso_profesional='no' tipo_uso_profesional=None prefiere_diseno_exclusivo='sí' aventura=<NivelAventura.ninguna: 'ninguna'> altura_mayor_190='sí' peso_mayor_100='no' solo_electricos='no' transmision_preferida=<Transmision.AMBOS: 'ambos'> rating_fiabilidad_durabilidad=7 rating_seguridad=None rating_comodidad=None rating_impacto_ambiental=None rating_costes_uso=None rating_tecnologia_conectividad=None\n",
      "Input prefs type: <class 'graph.perfil.state.PerfilUsuario'>\n",
      "DEBUG (Validation Perfil) ► Campo 'rating_seguridad' está vacío/None.\n",
      "DEBUG Router: Prefs OK? False\n",
      "--- DEBUG CHECK PASAJEROS ---\n",
      "Input info pasajeros: None\n",
      "DEBUG (Validation Pasajeros) ► Objeto InfoPasajeros es None.\n",
      "DEBUG Router: Pasajeros OK? False\n",
      "DEBUG (Validation Filtros) ► Objeto FiltrosInferidos es None.\n",
      "DEBUG Router: Filtros OK? False\n",
      "--- DEBUG CHECK ECONOMIA (Manual) ---\n",
      "Input econ object: None\n",
      "DEBUG (Validation Economía Manual) ► Objeto EconomiaUsuario es None.\n",
      "DEBUG Router: Economía OK? False\n",
      "DEBUG Router: Pesos Calculados? False\n",
      "DEBUG Router: Coches Buscados? False\n",
      "--- DEBUG CHECK PERFIL ---\n",
      "Input prefs object: apasionado_motor='sí' valora_estetica='no' coche_principal_hogar='sí' uso_profesional='no' tipo_uso_profesional=None prefiere_diseno_exclusivo='sí' aventura=<NivelAventura.ninguna: 'ninguna'> altura_mayor_190='sí' peso_mayor_100='no' solo_electricos='no' transmision_preferida=<Transmision.AMBOS: 'ambos'> rating_fiabilidad_durabilidad=7 rating_seguridad=None rating_comodidad=None rating_impacto_ambiental=None rating_costes_uso=None rating_tecnologia_conectividad=None\n",
      "Input prefs type: <class 'graph.perfil.state.PerfilUsuario'>\n",
      "DEBUG (Validation Perfil) ► Campo 'rating_seguridad' está vacío/None.\n",
      "DEBUG Router: Decisión -> recopilar_preferencias\n",
      "--- Ejecutando Nodo: recopilar_preferencias_node ---\n",
      "DEBUG (Perfil) ► Último mensaje es HumanMessage o historial vacío, llamando a llm_solo_perfil...\n"
     ]
    },
    {
     "name": "stderr",
     "output_type": "stream",
     "text": [
      "INFO (RAG): HTTP Request: POST https://api.openai.com/v1/chat/completions \"HTTP/1.1 200 OK\"\n"
     ]
    },
    {
     "name": "stdout",
     "output_type": "stream",
     "text": [
      "DEBUG (Perfil) ► Respuesta llm_solo_perfil: preferencias_usuario=PerfilUsuario(apasionado_motor='sí', valora_estetica='no', coche_principal_hogar='sí', uso_profesional='no', tipo_uso_profesional=None, prefiere_diseno_exclusivo='sí', aventura=<NivelAventura.ninguna: 'ninguna'>, altura_mayor_190='sí', peso_mayor_100='no', solo_electricos='no', transmision_preferida=<Transmision.AMBOS: 'ambos'>, rating_fiabilidad_durabilidad=7, rating_seguridad=7, rating_comodidad=None, rating_impacto_ambiental=None, rating_costes_uso=None, rating_tecnologia_conectividad=None) tipo_mensaje='PREGUNTA' contenido_mensaje='Y en cuanto a la Comodidad general del vehículo, ¿cuán prioritaria es para ti (0-10)?'\n",
      "DEBUG (Perfil) ► Preferencias TRAS post-procesamiento: apasionado_motor='sí' valora_estetica='no' coche_principal_hogar='sí' uso_profesional='no' tipo_uso_profesional=None prefiere_diseno_exclusivo='sí' aventura=<NivelAventura.ninguna: 'ninguna'> altura_mayor_190='sí' peso_mayor_100='no' solo_electricos='no' transmision_preferida=<Transmision.AMBOS: 'ambos'> rating_fiabilidad_durabilidad=7 rating_seguridad=7 rating_comodidad=None rating_impacto_ambiental=None rating_costes_uso=None rating_tecnologia_conectividad=None\n",
      "DEBUG (Perfil) ► Estado preferencias_usuario actualizado: apasionado_motor='sí' valora_estetica='no' coche_principal_hogar='sí' uso_profesional='no' tipo_uso_profesional=None prefiere_diseno_exclusivo='sí' aventura=<NivelAventura.ninguna: 'ninguna'> altura_mayor_190='sí' peso_mayor_100='no' solo_electricos='no' transmision_preferida=<Transmision.AMBOS: 'ambos'> rating_fiabilidad_durabilidad=7 rating_seguridad=7 rating_comodidad=None rating_impacto_ambiental=None rating_costes_uso=None rating_tecnologia_conectividad=None\n",
      "DEBUG (Perfil) ► Guardando mensaje pendiente: Y en cuanto a la Comodidad general del vehículo, ¿cuán prioritaria es para ti (0-10)?\n",
      "--- Ejecutando Nodo: validar_preferencias_node ---\n",
      "--- DEBUG CHECK PERFIL ---\n",
      "Input prefs object: apasionado_motor='sí' valora_estetica='no' coche_principal_hogar='sí' uso_profesional='no' tipo_uso_profesional=None prefiere_diseno_exclusivo='sí' aventura=<NivelAventura.ninguna: 'ninguna'> altura_mayor_190='sí' peso_mayor_100='no' solo_electricos='no' transmision_preferida=<Transmision.AMBOS: 'ambos'> rating_fiabilidad_durabilidad=7 rating_seguridad=7 rating_comodidad=None rating_impacto_ambiental=None rating_costes_uso=None rating_tecnologia_conectividad=None\n",
      "Input prefs type: <class 'graph.perfil.state.PerfilUsuario'>\n",
      "DEBUG (Validation Perfil) ► Campo 'rating_comodidad' está vacío/None.\n",
      "DEBUG (Perfil) ► Validación: PerfilUsuario considerado INCOMPLETO.\n",
      "--- Evaluando Condición: ruta_decision_perfil ---\n",
      "DEBUG (Condición Perfil) ► Estado 'preferencias_usuario' recibido: apasionado_motor='sí' valora_estetica='no' coche_principal_hogar='sí' uso_profesional='no' tipo_uso_profesional=None prefiere_diseno_exclusivo='sí' aventura=<NivelAventura.ninguna: 'ninguna'> altura_mayor_190='sí' peso_mayor_100='no' solo_electricos='no' transmision_preferida=<Transmision.AMBOS: 'ambos'> rating_fiabilidad_durabilidad=7 rating_seguridad=7 rating_comodidad=None rating_impacto_ambiental=None rating_costes_uso=None rating_tecnologia_conectividad=None\n",
      "DEBUG (Condición Perfil) ► Tipo de 'preferencias_usuario': <class 'graph.perfil.state.PerfilUsuario'>\n",
      "--- DEBUG CHECK PERFIL ---\n",
      "Input prefs object: apasionado_motor='sí' valora_estetica='no' coche_principal_hogar='sí' uso_profesional='no' tipo_uso_profesional=None prefiere_diseno_exclusivo='sí' aventura=<NivelAventura.ninguna: 'ninguna'> altura_mayor_190='sí' peso_mayor_100='no' solo_electricos='no' transmision_preferida=<Transmision.AMBOS: 'ambos'> rating_fiabilidad_durabilidad=7 rating_seguridad=7 rating_comodidad=None rating_impacto_ambiental=None rating_costes_uso=None rating_tecnologia_conectividad=None\n",
      "Input prefs type: <class 'graph.perfil.state.PerfilUsuario'>\n",
      "DEBUG (Validation Perfil) ► Campo 'rating_comodidad' está vacío/None.\n",
      "DEBUG (Condición Perfil) ► Perfil INCOMPLETO. Se necesita pregunta.\n",
      "--- Ejecutando Nodo: preguntar_preferencias_node ---\n",
      "--- DEBUG CHECK PERFIL ---\n",
      "Input prefs object: apasionado_motor='sí' valora_estetica='no' coche_principal_hogar='sí' uso_profesional='no' tipo_uso_profesional=None prefiere_diseno_exclusivo='sí' aventura=<NivelAventura.ninguna: 'ninguna'> altura_mayor_190='sí' peso_mayor_100='no' solo_electricos='no' transmision_preferida=<Transmision.AMBOS: 'ambos'> rating_fiabilidad_durabilidad=7 rating_seguridad=7 rating_comodidad=None rating_impacto_ambiental=None rating_costes_uso=None rating_tecnologia_conectividad=None\n",
      "Input prefs type: <class 'graph.perfil.state.PerfilUsuario'>\n",
      "DEBUG (Validation Perfil) ► Campo 'rating_comodidad' está vacío/None.\n",
      "DEBUG (Preguntar Perfil) ► Perfil aún INCOMPLETO según checker.\n",
      "DEBUG (Preguntar Perfil) ► Pregunta fallback generada: Y en cuanto a la Comodidad general del vehículo, ¿cuán prioritaria es para ti (0-10)?\n",
      "DEBUG (Preguntar Perfil) ► Usando mensaje pendiente (pregunta LLM): Y en cuanto a la Comodidad general del vehículo, ¿cuán prioritaria es para ti (0-10)?\n",
      "DEBUG (Preguntar Perfil) ► Mensaje final añadido: Y en cuanto a la Comodidad general del vehículo, ¿cuán prioritaria es para ti (0-10)?\n",
      "==================================\u001b[1m Ai Message \u001b[0m==================================\n",
      "\n",
      "Y en cuanto a la Comodidad general del vehículo, ¿cuán prioritaria es para ti (0-10)?\n"
     ]
    }
   ],
   "source": [
    "config = {\"configurable\": {\"thread_id\": \"1\"}}\n",
    "\n",
    "# Start conversation\n",
    "input_message = HumanMessage(content=\"7\")\n",
    "output = graph.invoke({\"messages\": [input_message]}, config) \n",
    "for m in output['messages'][-1:]:\n",
    "    m.pretty_print()"
   ]
  },
  {
   "cell_type": "code",
   "execution_count": 13,
   "metadata": {},
   "outputs": [
    {
     "name": "stdout",
     "output_type": "stream",
     "text": [
      "--- Ejecutando Nodo: route_based_on_state_node ---\n",
      "\n",
      "--- DEBUG: Evaluating Routing Decision ---\n",
      "--- DEBUG CHECK PERFIL ---\n",
      "Input prefs object: apasionado_motor='sí' valora_estetica='no' coche_principal_hogar='sí' uso_profesional='no' tipo_uso_profesional=None prefiere_diseno_exclusivo='sí' aventura=<NivelAventura.ninguna: 'ninguna'> altura_mayor_190='sí' peso_mayor_100='no' solo_electricos='no' transmision_preferida=<Transmision.AMBOS: 'ambos'> rating_fiabilidad_durabilidad=7 rating_seguridad=7 rating_comodidad=None rating_impacto_ambiental=None rating_costes_uso=None rating_tecnologia_conectividad=None\n",
      "Input prefs type: <class 'graph.perfil.state.PerfilUsuario'>\n",
      "DEBUG (Validation Perfil) ► Campo 'rating_comodidad' está vacío/None.\n",
      "DEBUG Router: Prefs OK? False\n",
      "--- DEBUG CHECK PASAJEROS ---\n",
      "Input info pasajeros: None\n",
      "DEBUG (Validation Pasajeros) ► Objeto InfoPasajeros es None.\n",
      "DEBUG Router: Pasajeros OK? False\n",
      "DEBUG (Validation Filtros) ► Objeto FiltrosInferidos es None.\n",
      "DEBUG Router: Filtros OK? False\n",
      "--- DEBUG CHECK ECONOMIA (Manual) ---\n",
      "Input econ object: None\n",
      "DEBUG (Validation Economía Manual) ► Objeto EconomiaUsuario es None.\n",
      "DEBUG Router: Economía OK? False\n",
      "DEBUG Router: Pesos Calculados? False\n",
      "DEBUG Router: Coches Buscados? False\n",
      "--- DEBUG CHECK PERFIL ---\n",
      "Input prefs object: apasionado_motor='sí' valora_estetica='no' coche_principal_hogar='sí' uso_profesional='no' tipo_uso_profesional=None prefiere_diseno_exclusivo='sí' aventura=<NivelAventura.ninguna: 'ninguna'> altura_mayor_190='sí' peso_mayor_100='no' solo_electricos='no' transmision_preferida=<Transmision.AMBOS: 'ambos'> rating_fiabilidad_durabilidad=7 rating_seguridad=7 rating_comodidad=None rating_impacto_ambiental=None rating_costes_uso=None rating_tecnologia_conectividad=None\n",
      "Input prefs type: <class 'graph.perfil.state.PerfilUsuario'>\n",
      "DEBUG (Validation Perfil) ► Campo 'rating_comodidad' está vacío/None.\n",
      "DEBUG Router: Decisión -> recopilar_preferencias\n",
      "--- Ejecutando Nodo: recopilar_preferencias_node ---\n",
      "DEBUG (Perfil) ► Último mensaje es HumanMessage o historial vacío, llamando a llm_solo_perfil...\n"
     ]
    },
    {
     "name": "stderr",
     "output_type": "stream",
     "text": [
      "INFO (RAG): HTTP Request: POST https://api.openai.com/v1/chat/completions \"HTTP/1.1 200 OK\"\n"
     ]
    },
    {
     "name": "stdout",
     "output_type": "stream",
     "text": [
      "DEBUG (Perfil) ► Respuesta llm_solo_perfil: preferencias_usuario=PerfilUsuario(apasionado_motor='sí', valora_estetica='no', coche_principal_hogar='sí', uso_profesional='no', tipo_uso_profesional=None, prefiere_diseno_exclusivo='sí', aventura=<NivelAventura.ninguna: 'ninguna'>, altura_mayor_190='sí', peso_mayor_100='no', solo_electricos='no', transmision_preferida=<Transmision.AMBOS: 'ambos'>, rating_fiabilidad_durabilidad=7, rating_seguridad=7, rating_comodidad=10, rating_impacto_ambiental=None, rating_costes_uso=None, rating_tecnologia_conectividad=None) tipo_mensaje='PREGUNTA' contenido_mensaje='Considerando el Bajo Impacto Medioambiental, ¿qué importancia tiene esto para tu elección (0-10)?'\n",
      "DEBUG (Perfil) ► Preferencias TRAS post-procesamiento: apasionado_motor='sí' valora_estetica='no' coche_principal_hogar='sí' uso_profesional='no' tipo_uso_profesional=None prefiere_diseno_exclusivo='sí' aventura=<NivelAventura.ninguna: 'ninguna'> altura_mayor_190='sí' peso_mayor_100='no' solo_electricos='no' transmision_preferida=<Transmision.AMBOS: 'ambos'> rating_fiabilidad_durabilidad=7 rating_seguridad=7 rating_comodidad=10 rating_impacto_ambiental=None rating_costes_uso=None rating_tecnologia_conectividad=None\n",
      "DEBUG (Perfil) ► Estado preferencias_usuario actualizado: apasionado_motor='sí' valora_estetica='no' coche_principal_hogar='sí' uso_profesional='no' tipo_uso_profesional=None prefiere_diseno_exclusivo='sí' aventura=<NivelAventura.ninguna: 'ninguna'> altura_mayor_190='sí' peso_mayor_100='no' solo_electricos='no' transmision_preferida=<Transmision.AMBOS: 'ambos'> rating_fiabilidad_durabilidad=7 rating_seguridad=7 rating_comodidad=10 rating_impacto_ambiental=None rating_costes_uso=None rating_tecnologia_conectividad=None\n",
      "DEBUG (Perfil) ► Guardando mensaje pendiente: Considerando el Bajo Impacto Medioambiental, ¿qué importancia tiene esto para tu elección (0-10)?\n",
      "--- Ejecutando Nodo: validar_preferencias_node ---\n",
      "--- DEBUG CHECK PERFIL ---\n",
      "Input prefs object: apasionado_motor='sí' valora_estetica='no' coche_principal_hogar='sí' uso_profesional='no' tipo_uso_profesional=None prefiere_diseno_exclusivo='sí' aventura=<NivelAventura.ninguna: 'ninguna'> altura_mayor_190='sí' peso_mayor_100='no' solo_electricos='no' transmision_preferida=<Transmision.AMBOS: 'ambos'> rating_fiabilidad_durabilidad=7 rating_seguridad=7 rating_comodidad=10 rating_impacto_ambiental=None rating_costes_uso=None rating_tecnologia_conectividad=None\n",
      "Input prefs type: <class 'graph.perfil.state.PerfilUsuario'>\n",
      "DEBUG (Validation Perfil) ► Campo 'rating_impacto_ambiental' está vacío/None.\n",
      "DEBUG (Perfil) ► Validación: PerfilUsuario considerado INCOMPLETO.\n",
      "--- Evaluando Condición: ruta_decision_perfil ---\n",
      "DEBUG (Condición Perfil) ► Estado 'preferencias_usuario' recibido: apasionado_motor='sí' valora_estetica='no' coche_principal_hogar='sí' uso_profesional='no' tipo_uso_profesional=None prefiere_diseno_exclusivo='sí' aventura=<NivelAventura.ninguna: 'ninguna'> altura_mayor_190='sí' peso_mayor_100='no' solo_electricos='no' transmision_preferida=<Transmision.AMBOS: 'ambos'> rating_fiabilidad_durabilidad=7 rating_seguridad=7 rating_comodidad=10 rating_impacto_ambiental=None rating_costes_uso=None rating_tecnologia_conectividad=None\n",
      "DEBUG (Condición Perfil) ► Tipo de 'preferencias_usuario': <class 'graph.perfil.state.PerfilUsuario'>\n",
      "--- DEBUG CHECK PERFIL ---\n",
      "Input prefs object: apasionado_motor='sí' valora_estetica='no' coche_principal_hogar='sí' uso_profesional='no' tipo_uso_profesional=None prefiere_diseno_exclusivo='sí' aventura=<NivelAventura.ninguna: 'ninguna'> altura_mayor_190='sí' peso_mayor_100='no' solo_electricos='no' transmision_preferida=<Transmision.AMBOS: 'ambos'> rating_fiabilidad_durabilidad=7 rating_seguridad=7 rating_comodidad=10 rating_impacto_ambiental=None rating_costes_uso=None rating_tecnologia_conectividad=None\n",
      "Input prefs type: <class 'graph.perfil.state.PerfilUsuario'>\n",
      "DEBUG (Validation Perfil) ► Campo 'rating_impacto_ambiental' está vacío/None.\n",
      "DEBUG (Condición Perfil) ► Perfil INCOMPLETO. Se necesita pregunta.\n",
      "--- Ejecutando Nodo: preguntar_preferencias_node ---\n",
      "--- DEBUG CHECK PERFIL ---\n",
      "Input prefs object: apasionado_motor='sí' valora_estetica='no' coche_principal_hogar='sí' uso_profesional='no' tipo_uso_profesional=None prefiere_diseno_exclusivo='sí' aventura=<NivelAventura.ninguna: 'ninguna'> altura_mayor_190='sí' peso_mayor_100='no' solo_electricos='no' transmision_preferida=<Transmision.AMBOS: 'ambos'> rating_fiabilidad_durabilidad=7 rating_seguridad=7 rating_comodidad=10 rating_impacto_ambiental=None rating_costes_uso=None rating_tecnologia_conectividad=None\n",
      "Input prefs type: <class 'graph.perfil.state.PerfilUsuario'>\n",
      "DEBUG (Validation Perfil) ► Campo 'rating_impacto_ambiental' está vacío/None.\n",
      "DEBUG (Preguntar Perfil) ► Perfil aún INCOMPLETO según checker.\n",
      "DEBUG (Preguntar Perfil) ► Pregunta fallback generada: Considerando el Bajo Impacto Medioambiental, ¿qué importancia tiene esto para tu elección (0-10)?\n",
      "DEBUG (Preguntar Perfil) ► Usando mensaje pendiente (pregunta LLM): Considerando el Bajo Impacto Medioambiental, ¿qué importancia tiene esto para tu elección (0-10)?\n",
      "DEBUG (Preguntar Perfil) ► Mensaje final añadido: Considerando el Bajo Impacto Medioambiental, ¿qué importancia tiene esto para tu elección (0-10)?\n",
      "==================================\u001b[1m Ai Message \u001b[0m==================================\n",
      "\n",
      "Considerando el Bajo Impacto Medioambiental, ¿qué importancia tiene esto para tu elección (0-10)?\n"
     ]
    }
   ],
   "source": [
    "config = {\"configurable\": {\"thread_id\": \"1\"}}\n",
    "\n",
    "# Start conversation\n",
    "input_message = HumanMessage(content=\"10\")\n",
    "output = graph.invoke({\"messages\": [input_message]}, config) \n",
    "for m in output['messages'][-1:]:\n",
    "    m.pretty_print()"
   ]
  },
  {
   "cell_type": "code",
   "execution_count": 14,
   "metadata": {},
   "outputs": [
    {
     "name": "stdout",
     "output_type": "stream",
     "text": [
      "--- Ejecutando Nodo: route_based_on_state_node ---\n",
      "\n",
      "--- DEBUG: Evaluating Routing Decision ---\n",
      "--- DEBUG CHECK PERFIL ---\n",
      "Input prefs object: apasionado_motor='sí' valora_estetica='no' coche_principal_hogar='sí' uso_profesional='no' tipo_uso_profesional=None prefiere_diseno_exclusivo='sí' aventura=<NivelAventura.ninguna: 'ninguna'> altura_mayor_190='sí' peso_mayor_100='no' solo_electricos='no' transmision_preferida=<Transmision.AMBOS: 'ambos'> rating_fiabilidad_durabilidad=7 rating_seguridad=7 rating_comodidad=10 rating_impacto_ambiental=None rating_costes_uso=None rating_tecnologia_conectividad=None\n",
      "Input prefs type: <class 'graph.perfil.state.PerfilUsuario'>\n",
      "DEBUG (Validation Perfil) ► Campo 'rating_impacto_ambiental' está vacío/None.\n",
      "DEBUG Router: Prefs OK? False\n",
      "--- DEBUG CHECK PASAJEROS ---\n",
      "Input info pasajeros: None\n",
      "DEBUG (Validation Pasajeros) ► Objeto InfoPasajeros es None.\n",
      "DEBUG Router: Pasajeros OK? False\n",
      "DEBUG (Validation Filtros) ► Objeto FiltrosInferidos es None.\n",
      "DEBUG Router: Filtros OK? False\n",
      "--- DEBUG CHECK ECONOMIA (Manual) ---\n",
      "Input econ object: None\n",
      "DEBUG (Validation Economía Manual) ► Objeto EconomiaUsuario es None.\n",
      "DEBUG Router: Economía OK? False\n",
      "DEBUG Router: Pesos Calculados? False\n",
      "DEBUG Router: Coches Buscados? False\n",
      "--- DEBUG CHECK PERFIL ---\n",
      "Input prefs object: apasionado_motor='sí' valora_estetica='no' coche_principal_hogar='sí' uso_profesional='no' tipo_uso_profesional=None prefiere_diseno_exclusivo='sí' aventura=<NivelAventura.ninguna: 'ninguna'> altura_mayor_190='sí' peso_mayor_100='no' solo_electricos='no' transmision_preferida=<Transmision.AMBOS: 'ambos'> rating_fiabilidad_durabilidad=7 rating_seguridad=7 rating_comodidad=10 rating_impacto_ambiental=None rating_costes_uso=None rating_tecnologia_conectividad=None\n",
      "Input prefs type: <class 'graph.perfil.state.PerfilUsuario'>\n",
      "DEBUG (Validation Perfil) ► Campo 'rating_impacto_ambiental' está vacío/None.\n",
      "DEBUG Router: Decisión -> recopilar_preferencias\n",
      "--- Ejecutando Nodo: recopilar_preferencias_node ---\n",
      "DEBUG (Perfil) ► Último mensaje es HumanMessage o historial vacío, llamando a llm_solo_perfil...\n"
     ]
    },
    {
     "name": "stderr",
     "output_type": "stream",
     "text": [
      "INFO (RAG): HTTP Request: POST https://api.openai.com/v1/chat/completions \"HTTP/1.1 200 OK\"\n"
     ]
    },
    {
     "name": "stdout",
     "output_type": "stream",
     "text": [
      "DEBUG (Perfil) ► Respuesta llm_solo_perfil: preferencias_usuario=PerfilUsuario(apasionado_motor='sí', valora_estetica='no', coche_principal_hogar='sí', uso_profesional='no', tipo_uso_profesional=None, prefiere_diseno_exclusivo='sí', aventura=<NivelAventura.ninguna: 'ninguna'>, altura_mayor_190='sí', peso_mayor_100='no', solo_electricos='no', transmision_preferida=<Transmision.AMBOS: 'ambos'>, rating_fiabilidad_durabilidad=7, rating_seguridad=7, rating_comodidad=10, rating_impacto_ambiental=8, rating_costes_uso=None, rating_tecnologia_conectividad=None) tipo_mensaje='PREGUNTA' contenido_mensaje='Respecto a los Costes de Uso y Mantenimiento Reducidos, ¿cómo lo puntuarías en importancia (0-10)?'\n",
      "DEBUG (Perfil) ► Preferencias TRAS post-procesamiento: apasionado_motor='sí' valora_estetica='no' coche_principal_hogar='sí' uso_profesional='no' tipo_uso_profesional=None prefiere_diseno_exclusivo='sí' aventura=<NivelAventura.ninguna: 'ninguna'> altura_mayor_190='sí' peso_mayor_100='no' solo_electricos='no' transmision_preferida=<Transmision.AMBOS: 'ambos'> rating_fiabilidad_durabilidad=7 rating_seguridad=7 rating_comodidad=10 rating_impacto_ambiental=8 rating_costes_uso=None rating_tecnologia_conectividad=None\n",
      "DEBUG (Perfil) ► Estado preferencias_usuario actualizado: apasionado_motor='sí' valora_estetica='no' coche_principal_hogar='sí' uso_profesional='no' tipo_uso_profesional=None prefiere_diseno_exclusivo='sí' aventura=<NivelAventura.ninguna: 'ninguna'> altura_mayor_190='sí' peso_mayor_100='no' solo_electricos='no' transmision_preferida=<Transmision.AMBOS: 'ambos'> rating_fiabilidad_durabilidad=7 rating_seguridad=7 rating_comodidad=10 rating_impacto_ambiental=8 rating_costes_uso=None rating_tecnologia_conectividad=None\n",
      "DEBUG (Perfil) ► Guardando mensaje pendiente: Respecto a los Costes de Uso y Mantenimiento Reducidos, ¿cómo lo puntuarías en importancia (0-10)?\n",
      "--- Ejecutando Nodo: validar_preferencias_node ---\n",
      "--- DEBUG CHECK PERFIL ---\n",
      "Input prefs object: apasionado_motor='sí' valora_estetica='no' coche_principal_hogar='sí' uso_profesional='no' tipo_uso_profesional=None prefiere_diseno_exclusivo='sí' aventura=<NivelAventura.ninguna: 'ninguna'> altura_mayor_190='sí' peso_mayor_100='no' solo_electricos='no' transmision_preferida=<Transmision.AMBOS: 'ambos'> rating_fiabilidad_durabilidad=7 rating_seguridad=7 rating_comodidad=10 rating_impacto_ambiental=8 rating_costes_uso=None rating_tecnologia_conectividad=None\n",
      "Input prefs type: <class 'graph.perfil.state.PerfilUsuario'>\n",
      "DEBUG (Validation Perfil) ► Campo 'rating_costes_uso' está vacío/None.\n",
      "DEBUG (Perfil) ► Validación: PerfilUsuario considerado INCOMPLETO.\n",
      "--- Evaluando Condición: ruta_decision_perfil ---\n",
      "DEBUG (Condición Perfil) ► Estado 'preferencias_usuario' recibido: apasionado_motor='sí' valora_estetica='no' coche_principal_hogar='sí' uso_profesional='no' tipo_uso_profesional=None prefiere_diseno_exclusivo='sí' aventura=<NivelAventura.ninguna: 'ninguna'> altura_mayor_190='sí' peso_mayor_100='no' solo_electricos='no' transmision_preferida=<Transmision.AMBOS: 'ambos'> rating_fiabilidad_durabilidad=7 rating_seguridad=7 rating_comodidad=10 rating_impacto_ambiental=8 rating_costes_uso=None rating_tecnologia_conectividad=None\n",
      "DEBUG (Condición Perfil) ► Tipo de 'preferencias_usuario': <class 'graph.perfil.state.PerfilUsuario'>\n",
      "--- DEBUG CHECK PERFIL ---\n",
      "Input prefs object: apasionado_motor='sí' valora_estetica='no' coche_principal_hogar='sí' uso_profesional='no' tipo_uso_profesional=None prefiere_diseno_exclusivo='sí' aventura=<NivelAventura.ninguna: 'ninguna'> altura_mayor_190='sí' peso_mayor_100='no' solo_electricos='no' transmision_preferida=<Transmision.AMBOS: 'ambos'> rating_fiabilidad_durabilidad=7 rating_seguridad=7 rating_comodidad=10 rating_impacto_ambiental=8 rating_costes_uso=None rating_tecnologia_conectividad=None\n",
      "Input prefs type: <class 'graph.perfil.state.PerfilUsuario'>\n",
      "DEBUG (Validation Perfil) ► Campo 'rating_costes_uso' está vacío/None.\n",
      "DEBUG (Condición Perfil) ► Perfil INCOMPLETO. Se necesita pregunta.\n",
      "--- Ejecutando Nodo: preguntar_preferencias_node ---\n",
      "--- DEBUG CHECK PERFIL ---\n",
      "Input prefs object: apasionado_motor='sí' valora_estetica='no' coche_principal_hogar='sí' uso_profesional='no' tipo_uso_profesional=None prefiere_diseno_exclusivo='sí' aventura=<NivelAventura.ninguna: 'ninguna'> altura_mayor_190='sí' peso_mayor_100='no' solo_electricos='no' transmision_preferida=<Transmision.AMBOS: 'ambos'> rating_fiabilidad_durabilidad=7 rating_seguridad=7 rating_comodidad=10 rating_impacto_ambiental=8 rating_costes_uso=None rating_tecnologia_conectividad=None\n",
      "Input prefs type: <class 'graph.perfil.state.PerfilUsuario'>\n",
      "DEBUG (Validation Perfil) ► Campo 'rating_costes_uso' está vacío/None.\n",
      "DEBUG (Preguntar Perfil) ► Perfil aún INCOMPLETO según checker.\n",
      "DEBUG (Preguntar Perfil) ► Pregunta fallback generada: Respecto a los Costes de Uso y Mantenimiento Reducidos, ¿cómo lo puntuarías en importancia (0-10)?\n",
      "DEBUG (Preguntar Perfil) ► Usando mensaje pendiente (pregunta LLM): Respecto a los Costes de Uso y Mantenimiento Reducidos, ¿cómo lo puntuarías en importancia (0-10)?\n",
      "DEBUG (Preguntar Perfil) ► Mensaje final añadido: Respecto a los Costes de Uso y Mantenimiento Reducidos, ¿cómo lo puntuarías en importancia (0-10)?\n",
      "==================================\u001b[1m Ai Message \u001b[0m==================================\n",
      "\n",
      "Respecto a los Costes de Uso y Mantenimiento Reducidos, ¿cómo lo puntuarías en importancia (0-10)?\n"
     ]
    }
   ],
   "source": [
    "config = {\"configurable\": {\"thread_id\": \"1\"}}\n",
    "\n",
    "# Start conversation\n",
    "input_message = HumanMessage(content=\"8\")\n",
    "output = graph.invoke({\"messages\": [input_message]}, config) \n",
    "for m in output['messages'][-1:]:\n",
    "    m.pretty_print()"
   ]
  },
  {
   "cell_type": "code",
   "execution_count": 15,
   "metadata": {},
   "outputs": [
    {
     "name": "stdout",
     "output_type": "stream",
     "text": [
      "--- Ejecutando Nodo: route_based_on_state_node ---\n",
      "\n",
      "--- DEBUG: Evaluating Routing Decision ---\n",
      "--- DEBUG CHECK PERFIL ---\n",
      "Input prefs object: apasionado_motor='sí' valora_estetica='no' coche_principal_hogar='sí' uso_profesional='no' tipo_uso_profesional=None prefiere_diseno_exclusivo='sí' aventura=<NivelAventura.ninguna: 'ninguna'> altura_mayor_190='sí' peso_mayor_100='no' solo_electricos='no' transmision_preferida=<Transmision.AMBOS: 'ambos'> rating_fiabilidad_durabilidad=7 rating_seguridad=7 rating_comodidad=10 rating_impacto_ambiental=8 rating_costes_uso=None rating_tecnologia_conectividad=None\n",
      "Input prefs type: <class 'graph.perfil.state.PerfilUsuario'>\n",
      "DEBUG (Validation Perfil) ► Campo 'rating_costes_uso' está vacío/None.\n",
      "DEBUG Router: Prefs OK? False\n",
      "--- DEBUG CHECK PASAJEROS ---\n",
      "Input info pasajeros: None\n",
      "DEBUG (Validation Pasajeros) ► Objeto InfoPasajeros es None.\n",
      "DEBUG Router: Pasajeros OK? False\n",
      "DEBUG (Validation Filtros) ► Objeto FiltrosInferidos es None.\n",
      "DEBUG Router: Filtros OK? False\n",
      "--- DEBUG CHECK ECONOMIA (Manual) ---\n",
      "Input econ object: None\n",
      "DEBUG (Validation Economía Manual) ► Objeto EconomiaUsuario es None.\n",
      "DEBUG Router: Economía OK? False\n",
      "DEBUG Router: Pesos Calculados? False\n",
      "DEBUG Router: Coches Buscados? False\n",
      "--- DEBUG CHECK PERFIL ---\n",
      "Input prefs object: apasionado_motor='sí' valora_estetica='no' coche_principal_hogar='sí' uso_profesional='no' tipo_uso_profesional=None prefiere_diseno_exclusivo='sí' aventura=<NivelAventura.ninguna: 'ninguna'> altura_mayor_190='sí' peso_mayor_100='no' solo_electricos='no' transmision_preferida=<Transmision.AMBOS: 'ambos'> rating_fiabilidad_durabilidad=7 rating_seguridad=7 rating_comodidad=10 rating_impacto_ambiental=8 rating_costes_uso=None rating_tecnologia_conectividad=None\n",
      "Input prefs type: <class 'graph.perfil.state.PerfilUsuario'>\n",
      "DEBUG (Validation Perfil) ► Campo 'rating_costes_uso' está vacío/None.\n",
      "DEBUG Router: Decisión -> recopilar_preferencias\n",
      "--- Ejecutando Nodo: recopilar_preferencias_node ---\n",
      "DEBUG (Perfil) ► Último mensaje es HumanMessage o historial vacío, llamando a llm_solo_perfil...\n"
     ]
    },
    {
     "name": "stderr",
     "output_type": "stream",
     "text": [
      "INFO (RAG): HTTP Request: POST https://api.openai.com/v1/chat/completions \"HTTP/1.1 200 OK\"\n"
     ]
    },
    {
     "name": "stdout",
     "output_type": "stream",
     "text": [
      "DEBUG (Perfil) ► Respuesta llm_solo_perfil: preferencias_usuario=PerfilUsuario(apasionado_motor='sí', valora_estetica='no', coche_principal_hogar='sí', uso_profesional='no', tipo_uso_profesional=None, prefiere_diseno_exclusivo='sí', aventura=<NivelAventura.ninguna: 'ninguna'>, altura_mayor_190='sí', peso_mayor_100='no', solo_electricos='no', transmision_preferida=<Transmision.AMBOS: 'ambos'>, rating_fiabilidad_durabilidad=7, rating_seguridad=7, rating_comodidad=10, rating_impacto_ambiental=8, rating_costes_uso=6, rating_tecnologia_conectividad=None) tipo_mensaje='CONFIRMACION' contenido_mensaje=''\n",
      "DEBUG (Perfil) ► Preferencias TRAS post-procesamiento: apasionado_motor='sí' valora_estetica='no' coche_principal_hogar='sí' uso_profesional='no' tipo_uso_profesional=None prefiere_diseno_exclusivo='sí' aventura=<NivelAventura.ninguna: 'ninguna'> altura_mayor_190='sí' peso_mayor_100='no' solo_electricos='no' transmision_preferida=<Transmision.AMBOS: 'ambos'> rating_fiabilidad_durabilidad=7 rating_seguridad=7 rating_comodidad=10 rating_impacto_ambiental=8 rating_costes_uso=6 rating_tecnologia_conectividad=None\n",
      "DEBUG (Perfil) ► Estado preferencias_usuario actualizado: apasionado_motor='sí' valora_estetica='no' coche_principal_hogar='sí' uso_profesional='no' tipo_uso_profesional=None prefiere_diseno_exclusivo='sí' aventura=<NivelAventura.ninguna: 'ninguna'> altura_mayor_190='sí' peso_mayor_100='no' solo_electricos='no' transmision_preferida=<Transmision.AMBOS: 'ambos'> rating_fiabilidad_durabilidad=7 rating_seguridad=7 rating_comodidad=10 rating_impacto_ambiental=8 rating_costes_uso=6 rating_tecnologia_conectividad=None\n",
      "DEBUG (Perfil) ► No hay mensaje pendiente.\n",
      "--- Ejecutando Nodo: validar_preferencias_node ---\n",
      "--- DEBUG CHECK PERFIL ---\n",
      "Input prefs object: apasionado_motor='sí' valora_estetica='no' coche_principal_hogar='sí' uso_profesional='no' tipo_uso_profesional=None prefiere_diseno_exclusivo='sí' aventura=<NivelAventura.ninguna: 'ninguna'> altura_mayor_190='sí' peso_mayor_100='no' solo_electricos='no' transmision_preferida=<Transmision.AMBOS: 'ambos'> rating_fiabilidad_durabilidad=7 rating_seguridad=7 rating_comodidad=10 rating_impacto_ambiental=8 rating_costes_uso=6 rating_tecnologia_conectividad=None\n",
      "Input prefs type: <class 'graph.perfil.state.PerfilUsuario'>\n",
      "DEBUG (Validation Perfil) ► Campo 'rating_tecnologia_conectividad' está vacío/None.\n",
      "DEBUG (Perfil) ► Validación: PerfilUsuario considerado INCOMPLETO.\n",
      "--- Evaluando Condición: ruta_decision_perfil ---\n",
      "DEBUG (Condición Perfil) ► Estado 'preferencias_usuario' recibido: apasionado_motor='sí' valora_estetica='no' coche_principal_hogar='sí' uso_profesional='no' tipo_uso_profesional=None prefiere_diseno_exclusivo='sí' aventura=<NivelAventura.ninguna: 'ninguna'> altura_mayor_190='sí' peso_mayor_100='no' solo_electricos='no' transmision_preferida=<Transmision.AMBOS: 'ambos'> rating_fiabilidad_durabilidad=7 rating_seguridad=7 rating_comodidad=10 rating_impacto_ambiental=8 rating_costes_uso=6 rating_tecnologia_conectividad=None\n",
      "DEBUG (Condición Perfil) ► Tipo de 'preferencias_usuario': <class 'graph.perfil.state.PerfilUsuario'>\n",
      "--- DEBUG CHECK PERFIL ---\n",
      "Input prefs object: apasionado_motor='sí' valora_estetica='no' coche_principal_hogar='sí' uso_profesional='no' tipo_uso_profesional=None prefiere_diseno_exclusivo='sí' aventura=<NivelAventura.ninguna: 'ninguna'> altura_mayor_190='sí' peso_mayor_100='no' solo_electricos='no' transmision_preferida=<Transmision.AMBOS: 'ambos'> rating_fiabilidad_durabilidad=7 rating_seguridad=7 rating_comodidad=10 rating_impacto_ambiental=8 rating_costes_uso=6 rating_tecnologia_conectividad=None\n",
      "Input prefs type: <class 'graph.perfil.state.PerfilUsuario'>\n",
      "DEBUG (Validation Perfil) ► Campo 'rating_tecnologia_conectividad' está vacío/None.\n",
      "DEBUG (Condición Perfil) ► Perfil INCOMPLETO. Se necesita pregunta.\n",
      "--- Ejecutando Nodo: preguntar_preferencias_node ---\n",
      "--- DEBUG CHECK PERFIL ---\n",
      "Input prefs object: apasionado_motor='sí' valora_estetica='no' coche_principal_hogar='sí' uso_profesional='no' tipo_uso_profesional=None prefiere_diseno_exclusivo='sí' aventura=<NivelAventura.ninguna: 'ninguna'> altura_mayor_190='sí' peso_mayor_100='no' solo_electricos='no' transmision_preferida=<Transmision.AMBOS: 'ambos'> rating_fiabilidad_durabilidad=7 rating_seguridad=7 rating_comodidad=10 rating_impacto_ambiental=8 rating_costes_uso=6 rating_tecnologia_conectividad=None\n",
      "Input prefs type: <class 'graph.perfil.state.PerfilUsuario'>\n",
      "DEBUG (Validation Perfil) ► Campo 'rating_tecnologia_conectividad' está vacío/None.\n",
      "DEBUG (Preguntar Perfil) ► Perfil aún INCOMPLETO según checker.\n",
      "DEBUG (Preguntar Perfil) ► Pregunta fallback generada: Finalmente, para la Tecnología y Conectividad del coche, ¿qué tan relevante es para ti (0-10)?\n",
      "WARN (Preguntar Perfil) ► Nodo ejecutado para preguntar, pero no había mensaje pendiente válido. Generando pregunta fallback.\n",
      "DEBUG (Preguntar Perfil) ► Mensaje final añadido: Finalmente, para la Tecnología y Conectividad del coche, ¿qué tan relevante es para ti (0-10)?\n",
      "==================================\u001b[1m Ai Message \u001b[0m==================================\n",
      "\n",
      "Finalmente, para la Tecnología y Conectividad del coche, ¿qué tan relevante es para ti (0-10)?\n"
     ]
    }
   ],
   "source": [
    "config = {\"configurable\": {\"thread_id\": \"1\"}}\n",
    "\n",
    "# Start conversation\n",
    "input_message = HumanMessage(content=\"6\")\n",
    "output = graph.invoke({\"messages\": [input_message]}, config) \n",
    "for m in output['messages'][-1:]:\n",
    "    m.pretty_print()"
   ]
  },
  {
   "cell_type": "code",
   "execution_count": 16,
   "metadata": {},
   "outputs": [
    {
     "name": "stdout",
     "output_type": "stream",
     "text": [
      "--- Ejecutando Nodo: route_based_on_state_node ---\n",
      "\n",
      "--- DEBUG: Evaluating Routing Decision ---\n",
      "--- DEBUG CHECK PERFIL ---\n",
      "Input prefs object: apasionado_motor='sí' valora_estetica='no' coche_principal_hogar='sí' uso_profesional='no' tipo_uso_profesional=None prefiere_diseno_exclusivo='sí' aventura=<NivelAventura.ninguna: 'ninguna'> altura_mayor_190='sí' peso_mayor_100='no' solo_electricos='no' transmision_preferida=<Transmision.AMBOS: 'ambos'> rating_fiabilidad_durabilidad=7 rating_seguridad=7 rating_comodidad=10 rating_impacto_ambiental=8 rating_costes_uso=6 rating_tecnologia_conectividad=None\n",
      "Input prefs type: <class 'graph.perfil.state.PerfilUsuario'>\n",
      "DEBUG (Validation Perfil) ► Campo 'rating_tecnologia_conectividad' está vacío/None.\n",
      "DEBUG Router: Prefs OK? False\n",
      "--- DEBUG CHECK PASAJEROS ---\n",
      "Input info pasajeros: None\n",
      "DEBUG (Validation Pasajeros) ► Objeto InfoPasajeros es None.\n",
      "DEBUG Router: Pasajeros OK? False\n",
      "DEBUG (Validation Filtros) ► Objeto FiltrosInferidos es None.\n",
      "DEBUG Router: Filtros OK? False\n",
      "--- DEBUG CHECK ECONOMIA (Manual) ---\n",
      "Input econ object: None\n",
      "DEBUG (Validation Economía Manual) ► Objeto EconomiaUsuario es None.\n",
      "DEBUG Router: Economía OK? False\n",
      "DEBUG Router: Pesos Calculados? False\n",
      "DEBUG Router: Coches Buscados? False\n",
      "--- DEBUG CHECK PERFIL ---\n",
      "Input prefs object: apasionado_motor='sí' valora_estetica='no' coche_principal_hogar='sí' uso_profesional='no' tipo_uso_profesional=None prefiere_diseno_exclusivo='sí' aventura=<NivelAventura.ninguna: 'ninguna'> altura_mayor_190='sí' peso_mayor_100='no' solo_electricos='no' transmision_preferida=<Transmision.AMBOS: 'ambos'> rating_fiabilidad_durabilidad=7 rating_seguridad=7 rating_comodidad=10 rating_impacto_ambiental=8 rating_costes_uso=6 rating_tecnologia_conectividad=None\n",
      "Input prefs type: <class 'graph.perfil.state.PerfilUsuario'>\n",
      "DEBUG (Validation Perfil) ► Campo 'rating_tecnologia_conectividad' está vacío/None.\n",
      "DEBUG Router: Decisión -> recopilar_preferencias\n",
      "--- Ejecutando Nodo: recopilar_preferencias_node ---\n",
      "DEBUG (Perfil) ► Último mensaje es HumanMessage o historial vacío, llamando a llm_solo_perfil...\n"
     ]
    },
    {
     "name": "stderr",
     "output_type": "stream",
     "text": [
      "INFO (RAG): HTTP Request: POST https://api.openai.com/v1/chat/completions \"HTTP/1.1 200 OK\"\n"
     ]
    },
    {
     "name": "stdout",
     "output_type": "stream",
     "text": [
      "DEBUG (Perfil) ► Respuesta llm_solo_perfil: preferencias_usuario=PerfilUsuario(apasionado_motor='sí', valora_estetica='no', coche_principal_hogar='sí', uso_profesional='no', tipo_uso_profesional=None, prefiere_diseno_exclusivo='sí', aventura=<NivelAventura.ninguna: 'ninguna'>, altura_mayor_190='sí', peso_mayor_100='no', solo_electricos='no', transmision_preferida=<Transmision.AMBOS: 'ambos'>, rating_fiabilidad_durabilidad=7, rating_seguridad=7, rating_comodidad=10, rating_impacto_ambiental=8, rating_costes_uso=6, rating_tecnologia_conectividad=10) tipo_mensaje='CONFIRMACION' contenido_mensaje=''\n",
      "DEBUG (Perfil) ► Preferencias TRAS post-procesamiento: apasionado_motor='sí' valora_estetica='no' coche_principal_hogar='sí' uso_profesional='no' tipo_uso_profesional=None prefiere_diseno_exclusivo='sí' aventura=<NivelAventura.ninguna: 'ninguna'> altura_mayor_190='sí' peso_mayor_100='no' solo_electricos='no' transmision_preferida=<Transmision.AMBOS: 'ambos'> rating_fiabilidad_durabilidad=7 rating_seguridad=7 rating_comodidad=10 rating_impacto_ambiental=8 rating_costes_uso=6 rating_tecnologia_conectividad=10\n",
      "DEBUG (Perfil) ► Estado preferencias_usuario actualizado: apasionado_motor='sí' valora_estetica='no' coche_principal_hogar='sí' uso_profesional='no' tipo_uso_profesional=None prefiere_diseno_exclusivo='sí' aventura=<NivelAventura.ninguna: 'ninguna'> altura_mayor_190='sí' peso_mayor_100='no' solo_electricos='no' transmision_preferida=<Transmision.AMBOS: 'ambos'> rating_fiabilidad_durabilidad=7 rating_seguridad=7 rating_comodidad=10 rating_impacto_ambiental=8 rating_costes_uso=6 rating_tecnologia_conectividad=10\n",
      "DEBUG (Perfil) ► No hay mensaje pendiente.\n",
      "--- Ejecutando Nodo: validar_preferencias_node ---\n",
      "--- DEBUG CHECK PERFIL ---\n",
      "Input prefs object: apasionado_motor='sí' valora_estetica='no' coche_principal_hogar='sí' uso_profesional='no' tipo_uso_profesional=None prefiere_diseno_exclusivo='sí' aventura=<NivelAventura.ninguna: 'ninguna'> altura_mayor_190='sí' peso_mayor_100='no' solo_electricos='no' transmision_preferida=<Transmision.AMBOS: 'ambos'> rating_fiabilidad_durabilidad=7 rating_seguridad=7 rating_comodidad=10 rating_impacto_ambiental=8 rating_costes_uso=6 rating_tecnologia_conectividad=10\n",
      "Input prefs type: <class 'graph.perfil.state.PerfilUsuario'>\n",
      "DEBUG (Validation Perfil) ► Todos los campos obligatorios del perfil están presentes.\n",
      "DEBUG (Perfil) ► Validación: PerfilUsuario considerado COMPLETO.\n",
      "--- Evaluando Condición: ruta_decision_perfil ---\n",
      "DEBUG (Condición Perfil) ► Estado 'preferencias_usuario' recibido: apasionado_motor='sí' valora_estetica='no' coche_principal_hogar='sí' uso_profesional='no' tipo_uso_profesional=None prefiere_diseno_exclusivo='sí' aventura=<NivelAventura.ninguna: 'ninguna'> altura_mayor_190='sí' peso_mayor_100='no' solo_electricos='no' transmision_preferida=<Transmision.AMBOS: 'ambos'> rating_fiabilidad_durabilidad=7 rating_seguridad=7 rating_comodidad=10 rating_impacto_ambiental=8 rating_costes_uso=6 rating_tecnologia_conectividad=10\n",
      "DEBUG (Condición Perfil) ► Tipo de 'preferencias_usuario': <class 'graph.perfil.state.PerfilUsuario'>\n",
      "--- DEBUG CHECK PERFIL ---\n",
      "Input prefs object: apasionado_motor='sí' valora_estetica='no' coche_principal_hogar='sí' uso_profesional='no' tipo_uso_profesional=None prefiere_diseno_exclusivo='sí' aventura=<NivelAventura.ninguna: 'ninguna'> altura_mayor_190='sí' peso_mayor_100='no' solo_electricos='no' transmision_preferida=<Transmision.AMBOS: 'ambos'> rating_fiabilidad_durabilidad=7 rating_seguridad=7 rating_comodidad=10 rating_impacto_ambiental=8 rating_costes_uso=6 rating_tecnologia_conectividad=10\n",
      "Input prefs type: <class 'graph.perfil.state.PerfilUsuario'>\n",
      "DEBUG (Validation Perfil) ► Todos los campos obligatorios del perfil están presentes.\n",
      "DEBUG (Condición Perfil) ► Perfil COMPLETO. Avanzando a filtros.\n",
      "--- Ejecutando Nodo: recopilar_info_pasajeros_node ---\n",
      "DEBUG (Pasajeros) ► Último mensaje es HumanMessage o inicio de etapa, llamando a llm_pasajeros...\n"
     ]
    },
    {
     "name": "stderr",
     "output_type": "stream",
     "text": [
      "INFO (RAG): HTTP Request: POST https://api.openai.com/v1/chat/completions \"HTTP/1.1 200 OK\"\n"
     ]
    },
    {
     "name": "stdout",
     "output_type": "stream",
     "text": [
      "DEBUG (Pasajeros) ► Respuesta llm_pasajeros: info_pasajeros=InfoPasajeros(frecuencia=None, num_ninos_silla=None, num_otros_pasajeros=None) tipo_mensaje='PREGUNTA' contenido_mensaje='Cuéntame, ¿sueles viajar con acompañantes en el coche habitualmente? ¿cuantos?'\n",
      "DEBUG (Pasajeros) ► Tipo='PREGUNTA', Contenido='Cuéntame, ¿sueles viajar con acompañantes en el coche habitualmente? ¿cuantos?'\n",
      "DEBUG (Pasajeros) ► Info Pasajeros LLM: frecuencia=None num_ninos_silla=None num_otros_pasajeros=None\n",
      "DEBUG (Pasajeros) ► Estado info_pasajeros actualizado: frecuencia=None num_ninos_silla=None num_otros_pasajeros=None\n",
      "DEBUG (Pasajeros) ► Guardando mensaje pendiente: Cuéntame, ¿sueles viajar con acompañantes en el coche habitualmente? ¿cuantos?\n",
      "--- Ejecutando Nodo: validar_info_pasajeros_node ---\n",
      "--- DEBUG CHECK PASAJEROS ---\n",
      "Input info pasajeros: frecuencia=None num_ninos_silla=None num_otros_pasajeros=None\n",
      "DEBUG (Validation Pasajeros) ► info.frecuencia es None.\n",
      "DEBUG (Pasajeros) ► Validación: Info Pasajeros considerada INCOMPLETA.\n",
      "--- Evaluando Condición: ruta_decision_pasajeros ---\n",
      "--- DEBUG CHECK PASAJEROS ---\n",
      "Input info pasajeros: frecuencia=None num_ninos_silla=None num_otros_pasajeros=None\n",
      "DEBUG (Validation Pasajeros) ► info.frecuencia es None.\n",
      "DEBUG (Condición Pasajeros) ► INCOMPLETO. Se necesita pregunta.\n",
      "--- Ejecutando Nodo: preguntar_info_pasajeros_node ---\n",
      "--- DEBUG CHECK PASAJEROS ---\n",
      "Input info pasajeros: frecuencia=None num_ninos_silla=None num_otros_pasajeros=None\n",
      "DEBUG (Validation Pasajeros) ► info.frecuencia es None.\n",
      "DEBUG (Preguntar Pasajeros) ► Info Pasajeros aún INCOMPLETA según checker.\n",
      "DEBUG (Preguntar Pasajeros) ► Pregunta fallback generada: Cuéntame, ¿quiénes suelen viajar contigo en el coche habitualmente? ¿Llevas pasajeros a menudo?\n",
      "DEBUG (Preguntar Pasajeros) ► Usando mensaje pendiente (pregunta LLM): Cuéntame, ¿sueles viajar con acompañantes en el coche habitualmente? ¿cuantos?\n",
      "DEBUG (Preguntar Pasajeros) ► Mensaje final añadido: Cuéntame, ¿sueles viajar con acompañantes en el coche habitualmente? ¿cuantos?\n",
      "==================================\u001b[1m Ai Message \u001b[0m==================================\n",
      "\n",
      "Cuéntame, ¿sueles viajar con acompañantes en el coche habitualmente? ¿cuantos?\n"
     ]
    }
   ],
   "source": [
    "config = {\"configurable\": {\"thread_id\": \"1\"}}\n",
    "\n",
    "# Start conversation\n",
    "input_message = HumanMessage(content=\"10\")\n",
    "output = graph.invoke({\"messages\": [input_message]}, config) \n",
    "for m in output['messages'][-1:]:\n",
    "    m.pretty_print()"
   ]
  },
  {
   "cell_type": "code",
   "execution_count": null,
   "metadata": {},
   "outputs": [],
   "source": [
    "config = {\"configurable\": {\"thread_id\": \"1\"}}\n",
    "\n",
    "# Start conversation\n",
    "input_message = HumanMessage(content=\"10\")\n",
    "output = graph.invoke({\"messages\": [input_message]}, config) \n",
    "for m in output['messages'][-1:]:\n",
    "    m.pretty_print()"
   ]
  },
  {
   "cell_type": "code",
   "execution_count": null,
   "metadata": {},
   "outputs": [],
   "source": [
    "print(output['preferencias_usuario'])\n"
   ]
  },
  {
   "cell_type": "code",
   "execution_count": 17,
   "metadata": {},
   "outputs": [
    {
     "name": "stdout",
     "output_type": "stream",
     "text": [
      "--- Ejecutando Nodo: route_based_on_state_node ---\n",
      "\n",
      "--- DEBUG: Evaluating Routing Decision ---\n",
      "--- DEBUG CHECK PERFIL ---\n",
      "Input prefs object: apasionado_motor='sí' valora_estetica='no' coche_principal_hogar='sí' uso_profesional='no' tipo_uso_profesional=None prefiere_diseno_exclusivo='sí' aventura=<NivelAventura.ninguna: 'ninguna'> altura_mayor_190='sí' peso_mayor_100='no' solo_electricos='no' transmision_preferida=<Transmision.AMBOS: 'ambos'> rating_fiabilidad_durabilidad=7 rating_seguridad=7 rating_comodidad=10 rating_impacto_ambiental=8 rating_costes_uso=6 rating_tecnologia_conectividad=10\n",
      "Input prefs type: <class 'graph.perfil.state.PerfilUsuario'>\n",
      "DEBUG (Validation Perfil) ► Todos los campos obligatorios del perfil están presentes.\n",
      "DEBUG Router: Prefs OK? True\n",
      "--- DEBUG CHECK PASAJEROS ---\n",
      "Input info pasajeros: frecuencia=None num_ninos_silla=None num_otros_pasajeros=None\n",
      "DEBUG (Validation Pasajeros) ► info.frecuencia es None.\n",
      "DEBUG Router: Pasajeros OK? False\n",
      "DEBUG (Validation Filtros) ► Objeto FiltrosInferidos es None.\n",
      "DEBUG Router: Filtros OK? False\n",
      "--- DEBUG CHECK ECONOMIA (Manual) ---\n",
      "Input econ object: None\n",
      "DEBUG (Validation Economía Manual) ► Objeto EconomiaUsuario es None.\n",
      "DEBUG Router: Economía OK? False\n",
      "DEBUG Router: Pesos Calculados? False\n",
      "DEBUG Router: Coches Buscados? False\n",
      "--- DEBUG CHECK PERFIL ---\n",
      "Input prefs object: apasionado_motor='sí' valora_estetica='no' coche_principal_hogar='sí' uso_profesional='no' tipo_uso_profesional=None prefiere_diseno_exclusivo='sí' aventura=<NivelAventura.ninguna: 'ninguna'> altura_mayor_190='sí' peso_mayor_100='no' solo_electricos='no' transmision_preferida=<Transmision.AMBOS: 'ambos'> rating_fiabilidad_durabilidad=7 rating_seguridad=7 rating_comodidad=10 rating_impacto_ambiental=8 rating_costes_uso=6 rating_tecnologia_conectividad=10\n",
      "Input prefs type: <class 'graph.perfil.state.PerfilUsuario'>\n",
      "DEBUG (Validation Perfil) ► Todos los campos obligatorios del perfil están presentes.\n",
      "--- DEBUG CHECK PASAJEROS ---\n",
      "Input info pasajeros: frecuencia=None num_ninos_silla=None num_otros_pasajeros=None\n",
      "DEBUG (Validation Pasajeros) ► info.frecuencia es None.\n",
      "DEBUG Router: Decisión -> recopilar_info_pasajeros\n",
      "--- Ejecutando Nodo: recopilar_info_pasajeros_node ---\n",
      "DEBUG (Pasajeros) ► Último mensaje es HumanMessage o inicio de etapa, llamando a llm_pasajeros...\n"
     ]
    },
    {
     "name": "stderr",
     "output_type": "stream",
     "text": [
      "INFO (RAG): HTTP Request: POST https://api.openai.com/v1/chat/completions \"HTTP/1.1 200 OK\"\n"
     ]
    },
    {
     "name": "stdout",
     "output_type": "stream",
     "text": [
      "DEBUG (Pasajeros) ► Respuesta llm_pasajeros: info_pasajeros=InfoPasajeros(frecuencia='nunca', num_ninos_silla=0, num_otros_pasajeros=0) tipo_mensaje='CONFIRMACION' contenido_mensaje='Entendido, normalmente viajas solo.'\n",
      "DEBUG (Pasajeros) ► Tipo='CONFIRMACION', Contenido='Entendido, normalmente viajas solo.'\n",
      "DEBUG (Pasajeros) ► Info Pasajeros LLM: frecuencia='nunca' num_ninos_silla=0 num_otros_pasajeros=0\n",
      "DEBUG (Pasajeros) ► Estado info_pasajeros actualizado: frecuencia='nunca' num_ninos_silla=0 num_otros_pasajeros=0\n",
      "DEBUG (Pasajeros) ► Guardando mensaje pendiente: Entendido, normalmente viajas solo.\n",
      "--- Ejecutando Nodo: validar_info_pasajeros_node ---\n",
      "--- DEBUG CHECK PASAJEROS ---\n",
      "Input info pasajeros: frecuencia='nunca' num_ninos_silla=0 num_otros_pasajeros=0\n",
      "DEBUG (Validation Pasajeros) ► Frecuencia es 'nunca'. Considerado COMPLETO.\n",
      "DEBUG (Pasajeros) ► Validación: Info Pasajeros considerada COMPLETA.\n",
      "--- Evaluando Condición: ruta_decision_pasajeros ---\n",
      "--- DEBUG CHECK PASAJEROS ---\n",
      "Input info pasajeros: frecuencia='nunca' num_ninos_silla=0 num_otros_pasajeros=0\n",
      "DEBUG (Validation Pasajeros) ► Frecuencia es 'nunca'. Considerado COMPLETO.\n",
      "DEBUG (Condición Pasajeros) ► COMPLETO. Aplicando filtros derivados.\n",
      "--- Ejecutando Nodo: aplicar_filtros_pasajeros_node ---\n",
      "DEBUG (Aplicar Filtros Pasajeros) ► Info recibida: freq='nunca', X=0, Z=0\n",
      "DEBUG (Aplicar Filtros Pasajeros) ► Calculado plazas_min = 1\n",
      "DEBUG (Aplicar Filtros Pasajeros) ► Frecuencia es 'nunca' o None. Flags de priorizar_ancho y penalizar_puertas se mantienen en su default (False).\n",
      "DEBUG (Aplicar Filtros Pasajeros) ► Filtros actualizados (con plazas_min): estetica_min=None tipo_mecanica=None premium_min=None singular_min=None tipo_carroceria=None modo_adquisicion_recomendado=None precio_max_contado_recomendado=None cuota_max_calculada=None plazas_min=1\n",
      "--- Ejecutando Nodo: inferir_filtros_node ---\n",
      "DEBUG (Filtros) ► Preferencias de usuario disponibles. Procediendo...\n",
      "DEBUG (Filtros) ► Prompt para llm_solo_filtros (parcial): <Role>\n",
      "Eres un asistente técnico experto en vehículos. Tu función es traducir las preferencias generales de un usuario en filtros técnicos específicos para la búsqueda de coches. Debes basarte estrictamente en las preferencias proporcionadas y generar una respuesta JSON que SIEMPRE se ajuste al esquema `ResultadoSoloFiltros`.\n",
      "</Role>\n",
      "\n",
      "<Contexto_Preferencias_Usuario>\n",
      "\n",
      "<Esquema_JSON_Requerido>\n",
      "A continuación se detallan las preferencias del usuario recopiladas previamente. Úsalas como base INDISPE...\n"
     ]
    },
    {
     "name": "stderr",
     "output_type": "stream",
     "text": [
      "INFO (RAG): HTTP Request: POST https://api.openai.com/v1/chat/completions \"HTTP/1.1 200 OK\"\n"
     ]
    },
    {
     "name": "stdout",
     "output_type": "stream",
     "text": [
      "DEBUG (Filtros) ► Respuesta llm_solo_filtros: filtros_inferidos=FiltrosInferidos(estetica_min=1.0, tipo_mecanica=[<TipoMecanica.GASOLINA: 'GASOLINA'>, <TipoMecanica.BEV: 'BEV'>, <TipoMecanica.HEVD: 'HEVD'>, <TipoMecanica.PHEVD: 'PHEVD'>], premium_min=5.0, singular_min=5.0, tipo_carroceria=None, modo_adquisicion_recomendado=None, precio_max_contado_recomendado=None, cuota_max_calculada=None, plazas_min=1) mensaje_validacion='Ok, he definido los filtros técnicos basados en tus preferencias.'\n",
      "\n",
      "--- DEBUG DENTRO PostProc Filtros ---\n",
      "Recibido Prefs: apasionado_motor='sí' valora_estetica='no' coche_principal_hogar='sí' uso_profesional='no' tipo_uso_profesional=None prefiere_diseno_exclusivo='sí' aventura=<NivelAventura.ninguna: 'ninguna'> altura_mayor_190='sí' peso_mayor_100='no' solo_electricos='no' transmision_preferida=<Transmision.AMBOS: 'ambos'> rating_fiabilidad_durabilidad=7 rating_seguridad=7 rating_comodidad=10 rating_impacto_ambiental=8 rating_costes_uso=6 rating_tecnologia_conectividad=10\n",
      "Recibido Filtros (antes): estetica_min=1.0 tipo_mecanica=[<TipoMecanica.GASOLINA: 'GASOLINA'>, <TipoMecanica.BEV: 'BEV'>, <TipoMecanica.HEVD: 'HEVD'>, <TipoMecanica.PHEVD: 'PHEVD'>] premium_min=5.0 singular_min=5.0 tipo_carroceria=None modo_adquisicion_recomendado=None precio_max_contado_recomendado=None cuota_max_calculada=None plazas_min=1\n",
      "DEBUG PostProc Filtros: Evaluando premium_min. apasionado_motor='sí'\n",
      "DEBUG (PostProc Filtros) ► Aplicando regla premium: de 5.0 a 3.0\n",
      "DEBUG PostProc Filtros: Evaluando singular_min. apasionado_motor='sí', prefiere_exclusivo='sí'\n",
      "DEBUG PostProc Filtros: apasionado_motor='sí', suma +3.0 a singular_min. Subtotal: 3.0\n",
      "DEBUG PostProc Filtros: prefiere_diseno_exclusivo='sí', suma +3.0 a singular_min. Total: 6.0\n",
      "DEBUG (PostProc Filtros) ► Aplicando regla singular (aditiva): de 5.0 a 6.0\n",
      "--- FIN DEBUG DENTRO PostProc Filtros --- Filtros actualizados finales: estetica_min=1.0 tipo_mecanica=[<TipoMecanica.GASOLINA: 'GASOLINA'>, <TipoMecanica.BEV: 'BEV'>, <TipoMecanica.HEVD: 'HEVD'>, <TipoMecanica.PHEVD: 'PHEVD'>] premium_min=3.0 singular_min=6.0 tipo_carroceria=None modo_adquisicion_recomendado=None precio_max_contado_recomendado=None cuota_max_calculada=None plazas_min=1\n",
      "DEBUG (Filtros) ► Filtros TRAS post-procesamiento: estetica_min=1.0 tipo_mecanica=[<TipoMecanica.GASOLINA: 'GASOLINA'>, <TipoMecanica.BEV: 'BEV'>, <TipoMecanica.HEVD: 'HEVD'>, <TipoMecanica.PHEVD: 'PHEVD'>] premium_min=3.0 singular_min=6.0 tipo_carroceria=None modo_adquisicion_recomendado=None precio_max_contado_recomendado=None cuota_max_calculada=None plazas_min=1\n",
      "DEBUG (Filtros) ► Estado filtros_inferidos actualizado: estetica_min=1.0 tipo_mecanica=[<TipoMecanica.GASOLINA: 'GASOLINA'>, <TipoMecanica.BEV: 'BEV'>, <TipoMecanica.HEVD: 'HEVD'>, <TipoMecanica.PHEVD: 'PHEVD'>] premium_min=3.0 singular_min=6.0 tipo_carroceria=None modo_adquisicion_recomendado=None precio_max_contado_recomendado=None cuota_max_calculada=None plazas_min=1\n",
      "--- Ejecutando Nodo: validar_filtros_node ---\n",
      "DEBUG (Validation Filtros) ► Todos los campos obligatorios de filtros ('tipo_mecanica') están presentes y válidos.\n",
      "DEBUG (Filtros) ► Validación: FiltrosInferidos considerados COMPLETOS.\n",
      "--- Evaluando Condición: ruta_decision_filtros ---\n",
      "DEBUG (Validation Filtros) ► Todos los campos obligatorios de filtros ('tipo_mecanica') están presentes y válidos.\n",
      "DEBUG (Condición Filtros) ► Filtros COMPLETOS. Avanzando a economía.\n",
      "--- Ejecutando Nodo: recopilar_economia_node ---\n",
      "DEBUG (Economía) ► Llamando a llm_economia...\n"
     ]
    },
    {
     "name": "stderr",
     "output_type": "stream",
     "text": [
      "INFO (RAG): HTTP Request: POST https://api.openai.com/v1/chat/completions \"HTTP/1.1 200 OK\"\n"
     ]
    },
    {
     "name": "stdout",
     "output_type": "stream",
     "text": [
      "DEBUG (Economía) ► Respuesta llm_economia: economia=EconomiaUsuario(modo=None, submodo=None, ingresos=None, ahorro=None, pago_contado=None, cuota_max=None, entrada=None, anos_posesion=None) mensaje_validacion='Con el fin de conocer tus preferencias financieras que opcion prefieres:\\n  1. Prefiero que me aconsejes con criterios de inteligencia financiera.\\n  2. Prefiero indicar yo mismo cuánto y cómo gastar.'\n",
      "DEBUG (Economía) ► Estado economía actualizado: modo=None submodo=None ingresos=None ahorro=None pago_contado=None cuota_max=None entrada=None anos_posesion=None\n",
      "DEBUG (Economía) ► Guardando pregunta pendiente: Con el fin de conocer tus preferencias financieras que opcion prefieres:\n",
      "  1. Prefiero que me aconsejes con criterios de inteligencia financiera.\n",
      "  2. Prefiero indicar yo mismo cuánto y cómo gastar.\n",
      "--- Ejecutando Nodo: validar_economia_node ---\n",
      "--- DEBUG CHECK ECONOMIA (Manual) ---\n",
      "Input econ object: modo=None submodo=None ingresos=None ahorro=None pago_contado=None cuota_max=None entrada=None anos_posesion=None\n",
      "DEBUG (Validation Economía Manual) ► econ.modo es None.\n",
      "DEBUG (Economía) ► Validación: Economía considerada INCOMPLETA.\n",
      "--- Evaluando Condición: ruta_decision_economia ---\n",
      "--- DEBUG CHECK ECONOMIA (Manual) ---\n",
      "Input econ object: modo=None submodo=None ingresos=None ahorro=None pago_contado=None cuota_max=None entrada=None anos_posesion=None\n",
      "DEBUG (Validation Economía Manual) ► econ.modo es None.\n",
      "DEBUG (Condición Economía) ► Economía INCOMPLETA. Se necesita pregunta.\n",
      "--- Ejecutando Nodo: preguntar_economia_node ---\n",
      "DEBUG (Preguntar Economía) ► Usando pregunta guardada: Con el fin de conocer tus preferencias financieras que opcion prefieres:\n",
      "  1. Prefiero que me aconsejes con criterios de inteligencia financiera.\n",
      "  2. Prefiero indicar yo mismo cuánto y cómo gastar.\n",
      "DEBUG (Preguntar Economía) ► Mensaje final añadido: Con el fin de conocer tus preferencias financieras que opcion prefieres:\n",
      "  1. Prefiero que me aconsejes con criterios de inteligencia financiera.\n",
      "  2. Prefiero indicar yo mismo cuánto y cómo gastar.\n",
      "==================================\u001b[1m Ai Message \u001b[0m==================================\n",
      "\n",
      "Con el fin de conocer tus preferencias financieras que opcion prefieres:\n",
      "  1. Prefiero que me aconsejes con criterios de inteligencia financiera.\n",
      "  2. Prefiero indicar yo mismo cuánto y cómo gastar.\n"
     ]
    }
   ],
   "source": [
    "# Create a thread\n",
    "config = {\"configurable\": {\"thread_id\": \"1\"}}\n",
    "\n",
    "# Start conversation\n",
    "input_message = HumanMessage(content=\"viajo solo, sin acompañantes\")\n",
    "output = graph.invoke({\"messages\": [input_message]}, config) \n",
    "for m in output['messages'][-1:]:\n",
    "    m.pretty_print()"
   ]
  },
  {
   "cell_type": "code",
   "execution_count": 19,
   "metadata": {},
   "outputs": [
    {
     "name": "stdout",
     "output_type": "stream",
     "text": [
      "--- Ejecutando Nodo: route_based_on_state_node ---\n",
      "\n",
      "--- DEBUG: Evaluating Routing Decision ---\n",
      "--- DEBUG CHECK PERFIL ---\n",
      "Input prefs object: apasionado_motor='sí' valora_estetica='no' coche_principal_hogar='sí' uso_profesional='no' tipo_uso_profesional=None prefiere_diseno_exclusivo='sí' aventura=<NivelAventura.ninguna: 'ninguna'> altura_mayor_190='sí' peso_mayor_100='no' solo_electricos='no' transmision_preferida=<Transmision.AMBOS: 'ambos'> rating_fiabilidad_durabilidad=7 rating_seguridad=7 rating_comodidad=10 rating_impacto_ambiental=8 rating_costes_uso=6 rating_tecnologia_conectividad=10\n",
      "Input prefs type: <class 'graph.perfil.state.PerfilUsuario'>\n",
      "DEBUG (Validation Perfil) ► Todos los campos obligatorios del perfil están presentes.\n",
      "DEBUG Router: Prefs OK? True\n",
      "--- DEBUG CHECK PASAJEROS ---\n",
      "Input info pasajeros: frecuencia='nunca' num_ninos_silla=0 num_otros_pasajeros=0\n",
      "DEBUG (Validation Pasajeros) ► Frecuencia es 'nunca'. Considerado COMPLETO.\n",
      "DEBUG Router: Pasajeros OK? True\n",
      "DEBUG (Validation Filtros) ► Todos los campos obligatorios de filtros ('tipo_mecanica') están presentes y válidos.\n",
      "DEBUG Router: Filtros OK? True\n",
      "--- DEBUG CHECK ECONOMIA (Manual) ---\n",
      "Input econ object: modo=None submodo=None ingresos=None ahorro=None pago_contado=None cuota_max=None entrada=None anos_posesion=None\n",
      "DEBUG (Validation Economía Manual) ► econ.modo es None.\n",
      "DEBUG Router: Economía OK? False\n",
      "DEBUG Router: Pesos Calculados? False\n",
      "DEBUG Router: Coches Buscados? False\n",
      "--- DEBUG CHECK PERFIL ---\n",
      "Input prefs object: apasionado_motor='sí' valora_estetica='no' coche_principal_hogar='sí' uso_profesional='no' tipo_uso_profesional=None prefiere_diseno_exclusivo='sí' aventura=<NivelAventura.ninguna: 'ninguna'> altura_mayor_190='sí' peso_mayor_100='no' solo_electricos='no' transmision_preferida=<Transmision.AMBOS: 'ambos'> rating_fiabilidad_durabilidad=7 rating_seguridad=7 rating_comodidad=10 rating_impacto_ambiental=8 rating_costes_uso=6 rating_tecnologia_conectividad=10\n",
      "Input prefs type: <class 'graph.perfil.state.PerfilUsuario'>\n",
      "DEBUG (Validation Perfil) ► Todos los campos obligatorios del perfil están presentes.\n",
      "--- DEBUG CHECK PASAJEROS ---\n",
      "Input info pasajeros: frecuencia='nunca' num_ninos_silla=0 num_otros_pasajeros=0\n",
      "DEBUG (Validation Pasajeros) ► Frecuencia es 'nunca'. Considerado COMPLETO.\n",
      "DEBUG (Validation Filtros) ► Todos los campos obligatorios de filtros ('tipo_mecanica') están presentes y válidos.\n",
      "--- DEBUG CHECK ECONOMIA (Manual) ---\n",
      "Input econ object: modo=None submodo=None ingresos=None ahorro=None pago_contado=None cuota_max=None entrada=None anos_posesion=None\n",
      "DEBUG (Validation Economía Manual) ► econ.modo es None.\n",
      "DEBUG Router: Decisión -> recopilar_economia\n",
      "--- Ejecutando Nodo: recopilar_economia_node ---\n",
      "DEBUG (Economía) ► Llamando a llm_economia...\n"
     ]
    },
    {
     "name": "stderr",
     "output_type": "stream",
     "text": [
      "INFO (RAG): HTTP Request: POST https://api.openai.com/v1/chat/completions \"HTTP/1.1 200 OK\"\n"
     ]
    },
    {
     "name": "stdout",
     "output_type": "stream",
     "text": [
      "DEBUG (Economía) ► Respuesta llm_economia: economia=EconomiaUsuario(modo=2, submodo=None, ingresos=None, ahorro=None, pago_contado=None, cuota_max=None, entrada=None, anos_posesion=None) mensaje_validacion='¿Prefieres indicar un pago total al contado o una cuota mensual máxima?'\n",
      "DEBUG (Economía) ► Estado economía actualizado: modo=2 submodo=None ingresos=None ahorro=None pago_contado=None cuota_max=None entrada=None anos_posesion=None\n",
      "DEBUG (Economía) ► Guardando pregunta pendiente: ¿Prefieres indicar un pago total al contado o una cuota mensual máxima?\n",
      "--- Ejecutando Nodo: validar_economia_node ---\n",
      "--- DEBUG CHECK ECONOMIA (Manual) ---\n",
      "Input econ object: modo=2 submodo=None ingresos=None ahorro=None pago_contado=None cuota_max=None entrada=None anos_posesion=None\n",
      "DEBUG (Validation Economía Manual) ► Modo 2 INCOMPLETO (submodo inválido o None: None).\n",
      "DEBUG (Economía) ► Validación: Economía considerada INCOMPLETA.\n",
      "--- Evaluando Condición: ruta_decision_economia ---\n",
      "--- DEBUG CHECK ECONOMIA (Manual) ---\n",
      "Input econ object: modo=2 submodo=None ingresos=None ahorro=None pago_contado=None cuota_max=None entrada=None anos_posesion=None\n",
      "DEBUG (Validation Economía Manual) ► Modo 2 INCOMPLETO (submodo inválido o None: None).\n",
      "DEBUG (Condición Economía) ► Economía INCOMPLETA. Se necesita pregunta.\n",
      "--- Ejecutando Nodo: preguntar_economia_node ---\n",
      "DEBUG (Preguntar Economía) ► Usando pregunta guardada: ¿Prefieres indicar un pago total al contado o una cuota mensual máxima?\n",
      "DEBUG (Preguntar Economía) ► Mensaje final añadido: ¿Prefieres indicar un pago total al contado o una cuota mensual máxima?\n",
      "==================================\u001b[1m Ai Message \u001b[0m==================================\n",
      "\n",
      "¿Prefieres indicar un pago total al contado o una cuota mensual máxima?\n"
     ]
    }
   ],
   "source": [
    "config = {\"configurable\": {\"thread_id\": \"1\"}}\n",
    "\n",
    "# Start conversation\n",
    "input_message = HumanMessage(content=\"la 2\")\n",
    "output = graph.invoke({\"messages\": [input_message]}, config) \n",
    "for m in output['messages'][-1:]:\n",
    "    m.pretty_print()"
   ]
  },
  {
   "cell_type": "code",
   "execution_count": 20,
   "metadata": {},
   "outputs": [
    {
     "name": "stdout",
     "output_type": "stream",
     "text": [
      "--- Ejecutando Nodo: route_based_on_state_node ---\n",
      "\n",
      "--- DEBUG: Evaluating Routing Decision ---\n",
      "--- DEBUG CHECK PERFIL ---\n",
      "Input prefs object: apasionado_motor='sí' valora_estetica='no' coche_principal_hogar='sí' uso_profesional='no' tipo_uso_profesional=None prefiere_diseno_exclusivo='sí' aventura=<NivelAventura.ninguna: 'ninguna'> altura_mayor_190='sí' peso_mayor_100='no' solo_electricos='no' transmision_preferida=<Transmision.AMBOS: 'ambos'> rating_fiabilidad_durabilidad=7 rating_seguridad=7 rating_comodidad=10 rating_impacto_ambiental=8 rating_costes_uso=6 rating_tecnologia_conectividad=10\n",
      "Input prefs type: <class 'graph.perfil.state.PerfilUsuario'>\n",
      "DEBUG (Validation Perfil) ► Todos los campos obligatorios del perfil están presentes.\n",
      "DEBUG Router: Prefs OK? True\n",
      "--- DEBUG CHECK PASAJEROS ---\n",
      "Input info pasajeros: frecuencia='nunca' num_ninos_silla=0 num_otros_pasajeros=0\n",
      "DEBUG (Validation Pasajeros) ► Frecuencia es 'nunca'. Considerado COMPLETO.\n",
      "DEBUG Router: Pasajeros OK? True\n",
      "DEBUG (Validation Filtros) ► Todos los campos obligatorios de filtros ('tipo_mecanica') están presentes y válidos.\n",
      "DEBUG Router: Filtros OK? True\n",
      "--- DEBUG CHECK ECONOMIA (Manual) ---\n",
      "Input econ object: modo=2 submodo=None ingresos=None ahorro=None pago_contado=None cuota_max=None entrada=None anos_posesion=None\n",
      "DEBUG (Validation Economía Manual) ► Modo 2 INCOMPLETO (submodo inválido o None: None).\n",
      "DEBUG Router: Economía OK? False\n",
      "DEBUG Router: Pesos Calculados? False\n",
      "DEBUG Router: Coches Buscados? False\n",
      "--- DEBUG CHECK PERFIL ---\n",
      "Input prefs object: apasionado_motor='sí' valora_estetica='no' coche_principal_hogar='sí' uso_profesional='no' tipo_uso_profesional=None prefiere_diseno_exclusivo='sí' aventura=<NivelAventura.ninguna: 'ninguna'> altura_mayor_190='sí' peso_mayor_100='no' solo_electricos='no' transmision_preferida=<Transmision.AMBOS: 'ambos'> rating_fiabilidad_durabilidad=7 rating_seguridad=7 rating_comodidad=10 rating_impacto_ambiental=8 rating_costes_uso=6 rating_tecnologia_conectividad=10\n",
      "Input prefs type: <class 'graph.perfil.state.PerfilUsuario'>\n",
      "DEBUG (Validation Perfil) ► Todos los campos obligatorios del perfil están presentes.\n",
      "--- DEBUG CHECK PASAJEROS ---\n",
      "Input info pasajeros: frecuencia='nunca' num_ninos_silla=0 num_otros_pasajeros=0\n",
      "DEBUG (Validation Pasajeros) ► Frecuencia es 'nunca'. Considerado COMPLETO.\n",
      "DEBUG (Validation Filtros) ► Todos los campos obligatorios de filtros ('tipo_mecanica') están presentes y válidos.\n",
      "--- DEBUG CHECK ECONOMIA (Manual) ---\n",
      "Input econ object: modo=2 submodo=None ingresos=None ahorro=None pago_contado=None cuota_max=None entrada=None anos_posesion=None\n",
      "DEBUG (Validation Economía Manual) ► Modo 2 INCOMPLETO (submodo inválido o None: None).\n",
      "DEBUG Router: Decisión -> recopilar_economia\n",
      "--- Ejecutando Nodo: recopilar_economia_node ---\n",
      "DEBUG (Economía) ► Llamando a llm_economia...\n"
     ]
    },
    {
     "name": "stderr",
     "output_type": "stream",
     "text": [
      "INFO (RAG): HTTP Request: POST https://api.openai.com/v1/chat/completions \"HTTP/1.1 200 OK\"\n",
      "INFO (RAG): Cargando índice FAISS desde ./faiss_carroceria_index...\n",
      "INFO (RAG): Loading faiss.\n",
      "INFO (RAG): Successfully loaded faiss.\n",
      "INFO (RAG): Failed to load GPU Faiss: name 'GpuIndexIVFFlat' is not defined. Will not load constructor refs for GPU indexes.\n",
      "INFO (RAG): Índice FAISS cargado exitosamente desde disco.\n",
      "INFO (RAG): Partes de la query RAG (pre-join): ['conducción emocionante', 'singular', 'motor avanzado', 'ágil en curvas', 'ciudad', 'asfalto', 'uso diario', 'practicidad', 'maniobrable']\n",
      "INFO (RAG): Partes de la query RAG: ['conducción emocionante', 'singular', 'motor avanzado', 'ágil en curvas', 'ciudad', 'asfalto', 'uso diario', 'practicidad', 'maniobrable']\n",
      "INFO (RAG): Ejecutando búsqueda RAG con query: 'conducción emocionante singular motor avanzado ágil en curvas ciudad asfalto uso diario practicidad maniobrable' y k=4\n"
     ]
    },
    {
     "name": "stdout",
     "output_type": "stream",
     "text": [
      "DEBUG (Economía) ► Respuesta llm_economia: economia=EconomiaUsuario(modo=2, submodo=1, ingresos=None, ahorro=None, pago_contado=8000.0, cuota_max=None, entrada=None, anos_posesion=None) mensaje_validacion=''\n",
      "DEBUG (Economía) ► Estado economía actualizado: modo=2 submodo=1 ingresos=None ahorro=None pago_contado=8000.0 cuota_max=None entrada=None anos_posesion=None\n",
      "DEBUG (Economía) ► No hay pregunta de validación pendiente.\n",
      "--- Ejecutando Nodo: validar_economia_node ---\n",
      "--- DEBUG CHECK ECONOMIA (Manual) ---\n",
      "Input econ object: modo=2 submodo=1 ingresos=None ahorro=None pago_contado=8000.0 cuota_max=None entrada=None anos_posesion=None\n",
      "DEBUG (Validation Economía Manual) ► Modo 2/Submodo 1 completo (pago_contado presente).\n",
      "DEBUG (Economía) ► Validación: Economía considerada COMPLETA.\n",
      "--- Evaluando Condición: ruta_decision_economia ---\n",
      "--- DEBUG CHECK ECONOMIA (Manual) ---\n",
      "Input econ object: modo=2 submodo=1 ingresos=None ahorro=None pago_contado=8000.0 cuota_max=None entrada=None anos_posesion=None\n",
      "DEBUG (Validation Economía Manual) ► Modo 2/Submodo 1 completo (pago_contado presente).\n",
      "DEBUG (Condición Economía) ► Economía COMPLETA. Avanzando a finalizar.\n",
      "--- Ejecutando Nodo: finalizar_y_presentar_node ---\n",
      "DEBUG (Finalizar) ► Verificando si aplica lógica Modo 1...\n",
      "DEBUG (Finalizar) ► Modo no es 1, omitiendo cálculo de recomendación.\n",
      "DEBUG (Finalizar) ► Llamando a RAG...\n"
     ]
    },
    {
     "name": "stderr",
     "output_type": "stream",
     "text": [
      "INFO (RAG): HTTP Request: POST https://api.openai.com/v1/embeddings \"HTTP/1.1 200 OK\"\n",
      "INFO (RAG): Tipos de carrocería recomendados por RAG: ['SUV', 'COUPE', 'TODOTERRENO', 'FAMILIAR']\n"
     ]
    },
    {
     "name": "stdout",
     "output_type": "stream",
     "text": [
      "DEBUG (Finalizar) ► RAG recomendó: ['SUV', 'COUPE', 'TODOTERRENO', 'FAMILIAR']\n",
      "DEBUG (Finalizar) ► Rating Comodidad (10) >= 7. Activando flags de penalización.\n",
      "DEBUG (Finalizar) ► Calculando pesos...\n",
      "DEBUG (Weights) ► Pesos crudos iniciales (est/prem/sing): {'estetica': 1.0, 'premium': 3.0, 'singular': 6.0}\n",
      "DEBUG (Weights) ► Pesos crudos tras añadir aventura: {'estetica': 1.0, 'premium': 3.0, 'singular': 6.0, 'altura_libre_suelo': 0.0, 'traccion': 0.0, 'reductoras': 0.0}\n",
      "DEBUG (Weights) ► Usuario alto. Asignando pesos a batalla/índice.\n",
      "DEBUG (Weights) ► Pesos crudos tras añadir dims por altura: {'estetica': 1.0, 'premium': 3.0, 'singular': 6.0, 'altura_libre_suelo': 0.0, 'traccion': 0.0, 'reductoras': 0.0, 'batalla': 5.0, 'indice_altura_interior': 5.0}\n",
      "DEBUG (Weights) ► Priorizar Ancho=False/None. Asignando peso crudo bajo a ancho: 1.0\n",
      "DEBUG (Weights) ► Pesos crudos tras añadir ratings: {'estetica': 1.0, 'premium': 3.0, 'singular': 6.0, 'altura_libre_suelo': 0.0, 'traccion': 0.0, 'reductoras': 0.0, 'batalla': 5.0, 'indice_altura_interior': 5.0, 'ancho': 1.0, 'rating_fiabilidad_durabilidad': 7.0, 'rating_seguridad': 7.0, 'rating_comodidad': 10.0, 'rating_impacto_ambiental': 8.0, 'rating_tecnologia_conectividad': 10.0}\n",
      "DEBUG (Normalize Weights) ► Pesos Normalizados: {'estetica': 0.015873015873015872, 'premium': 0.047619047619047616, 'singular': 0.09523809523809523, 'altura_libre_suelo': 0.0, 'traccion': 0.0, 'reductoras': 0.0, 'batalla': 0.07936507936507936, 'indice_altura_interior': 0.07936507936507936, 'ancho': 0.015873015873015872, 'rating_fiabilidad_durabilidad': 0.1111111111111111, 'rating_seguridad': 0.1111111111111111, 'rating_comodidad': 0.15873015873015872, 'rating_impacto_ambiental': 0.12698412698412698, 'rating_tecnologia_conectividad': 0.15873015873015872}\n",
      "DEBUG (Finalizar) ► Pesos calculados: {'estetica': 0.015873015873015872, 'premium': 0.047619047619047616, 'singular': 0.09523809523809523, 'altura_libre_suelo': 0.0, 'traccion': 0.0, 'reductoras': 0.0, 'batalla': 0.07936507936507936, 'indice_altura_interior': 0.07936507936507936, 'ancho': 0.015873015873015872, 'rating_fiabilidad_durabilidad': 0.1111111111111111, 'rating_seguridad': 0.1111111111111111, 'rating_comodidad': 0.15873015873015872, 'rating_impacto_ambiental': 0.12698412698412698, 'rating_tecnologia_conectividad': 0.15873015873015872}\n",
      "DEBUG (Finalizar) ► Formateando tabla final...\n",
      "\n",
      "--- TABLA RESUMEN GENERADA (DEBUG) ---\n",
      "✅ He entendido lo siguiente sobre tus preferencias:\n",
      "\n",
      "| Preferencia              | Valor                      |\n",
      "|--------------------------|----------------------------|\n",
      "| Apasionado del motor    | Sí |\n",
      "| Estética                | No prioritaria |\n",
      "| Principal del Hogar     | Sí |\n",
      "| Uso                     | Particular |\n",
      "| Tipo de coche           | No necesariamente eléctrico |\n",
      "| Diseño exclusivo        | Sí (Exclusivo) |\n",
      "| Altura                  | Mayor a 1.90 m |\n",
      "| Peso                    | Menor a 100 kg |\n",
      "| Transmisión preferida   | Ambos |\n",
      "| Aventura                | Ninguna |\n",
      "\n",
      "📊 Importancia de Características (0-10):\n",
      "\n",
      "| Característica                   | Rating (0-10) |\n",
      "|----------------------------------|---------------|\n",
      "| Fiabilidad y Durabilidad         | 7 |\n",
      "| Seguridad                        | 7 |\n",
      "| Comodidad                        | 10 |\n",
      "| Impacto Ambiental                | 8 |\n",
      "| Costes de Uso/Mantenimiento      | 6 |\n",
      "| Tecnología y Conectividad        | 10 |\n",
      "\n",
      "🎯 Filtros técnicos inferidos:\n",
      "\n",
      "| Filtro técnico        | Valor                            |\n",
      "|-----------------------|----------------------------------|\n",
      "| Tipo de mecánica     | GASOLINA, BEV, HEVD, PHEVD |\n",
      "| Tipo de carrocería   | SUV, COUPE, TODOTERRENO, FAMILIAR |\n",
      "| Estética mínima      | 1.0 |\n",
      "| Premium mínima       | 3.0 |\n",
      "| Singularidad mínima  | 6.0 |\n",
      "\n",
      "💰 Economía del usuario:\n",
      "\n",
      "| Concepto                | Valor               |\n",
      "|-------------------------|---------------------|\n",
      "| Modo                    | Presupuesto Definido |\n",
      "| Años Posesión Estimados | No especificado |\n",
      "| Tipo de Pago            | Pago Contado |\n",
      "| Presupuesto Contado     | 8.000 € |\n",
      "--------------------------------------\n",
      "\n",
      "--- Ejecutando Nodo: buscar_coches_finales_node ---\n",
      "DEBUG (Buscar BQ Init) ► Estado completo recibido: {'messages': [HumanMessage(content='quiero un coche, mido 1.95 y peso 70 kg', additional_kwargs={}, response_metadata={}, id='86fc0265-9252-4bdc-b924-d451eec864d8'), AIMessage(content='¡Hola! Soy CarBlau, tu asistente para encontrar el coche ideal. Para empezar, ¿eres un apasionado del mundo automotriz?', additional_kwargs={}, response_metadata={}, id='533cfb65-50eb-47ea-8df6-f7925011e262'), HumanMessage(content='si, lo soy', additional_kwargs={}, response_metadata={}, id='73d64323-a747-440d-b25b-de8beea89578'), AIMessage(content='¿Valora la estética del coche?', additional_kwargs={}, response_metadata={}, id='d15f9358-59f6-4fc5-a39d-a54d21ee1900'), HumanMessage(content='no', additional_kwargs={}, response_metadata={}, id='a8766f6a-7716-436a-ac47-b335d12cda15'), AIMessage(content='¿El coche que estamos buscando será el vehículo principal de tu hogar?', additional_kwargs={}, response_metadata={}, id='2a86b042-553a-49a9-ac47-40bd6b842c3e'), HumanMessage(content='si, lo sera ', additional_kwargs={}, response_metadata={}, id='eaeb6697-162f-43b1-bf04-c5e8c012316b'), AIMessage(content='¿Usarás el coche para trabajo?', additional_kwargs={}, response_metadata={}, id='95c81502-ebc5-4c23-8440-b0ff21bc1def'), HumanMessage(content='no', additional_kwargs={}, response_metadata={}, id='69f09ea0-7260-4a60-8855-e5706b900742'), AIMessage(content=\"¿Prefieres un diseño de coche que sea exclusivo y te diferencie del resto? (Responde 'sí' o 'no')\", additional_kwargs={}, response_metadata={}, id='5e7afc34-396b-4832-91ad-1eca84cc7edc'), HumanMessage(content='si', additional_kwargs={}, response_metadata={}, id='6b00b541-bdc5-4023-81f9-82433ceff825'), AIMessage(content=\"¿Qué nivel de aventura buscas con tu vehículo: 'ninguna', 'ocasional' o 'extrema'?\", additional_kwargs={}, response_metadata={}, id='b65fb610-d114-41d3-9e34-0ea05996d701'), HumanMessage(content='ninguna', additional_kwargs={}, response_metadata={}, id='bc6abcf1-748f-4cf6-afb9-912f69a8e3c8'), AIMessage(content='¿Quieres solo coches eléctricos?', additional_kwargs={}, response_metadata={}, id='90b4e029-df5c-4e65-9e05-f4050d1060b9'), HumanMessage(content='no', additional_kwargs={}, response_metadata={}, id='c972cddb-4092-4d57-b07a-09de013a42b7'), AIMessage(content='¿Qué tipo de transmisión prefieres?\\n 1) Automático\\n 2) Manual\\n 3) Ambos', additional_kwargs={}, response_metadata={}, id='769e4c79-24ed-4204-9407-14b703a8bf1f'), HumanMessage(content='ambos', additional_kwargs={}, response_metadata={}, id='553fe01c-630f-487e-9f26-98fb7d09179a'), AIMessage(content='En una escala de 0 (nada importante) a 10 (extremadamente importante), ¿qué tan importante es para ti la Fiabilidad y Durabilidad del coche?', additional_kwargs={}, response_metadata={}, id='f95cb357-483b-4f33-b915-4c9470766197'), HumanMessage(content='7', additional_kwargs={}, response_metadata={}, id='f549eda6-bc8e-429d-8843-0ae1b63a1183'), AIMessage(content='Pensando en la Seguridad, ¿qué puntuación le darías en importancia (0-10)?', additional_kwargs={}, response_metadata={}, id='c21cb023-69d6-409f-8d47-74bc2ff594b6'), HumanMessage(content='7', additional_kwargs={}, response_metadata={}, id='2eb67825-4694-4ce3-b2e5-2e08c141fc58'), AIMessage(content='Y en cuanto a la Comodidad general del vehículo, ¿cuán prioritaria es para ti (0-10)?', additional_kwargs={}, response_metadata={}, id='d376decc-c058-40a5-bcbf-fdb1d453884a'), HumanMessage(content='10', additional_kwargs={}, response_metadata={}, id='f4466912-628b-4f32-83cd-47d98d3c8203'), AIMessage(content='Considerando el Bajo Impacto Medioambiental, ¿qué importancia tiene esto para tu elección (0-10)?', additional_kwargs={}, response_metadata={}, id='e06d639e-0882-469f-9576-5f5c1f206c0b'), HumanMessage(content='8', additional_kwargs={}, response_metadata={}, id='8d66a8f0-313c-471f-a7eb-6298ab7b3f8a'), AIMessage(content='Respecto a los Costes de Uso y Mantenimiento Reducidos, ¿cómo lo puntuarías en importancia (0-10)?', additional_kwargs={}, response_metadata={}, id='561e8996-9c1e-4660-9cc3-90f0b8327811'), HumanMessage(content='6', additional_kwargs={}, response_metadata={}, id='c6f66be2-85e0-4bea-82b9-8916c2d631cf'), AIMessage(content='Finalmente, para la Tecnología y Conectividad del coche, ¿qué tan relevante es para ti (0-10)?', additional_kwargs={}, response_metadata={}, id='1a3f82ee-1384-4623-b5c3-5c9e237aecf1'), HumanMessage(content='10', additional_kwargs={}, response_metadata={}, id='081b063c-113f-4a36-93fc-37b64525d2ff'), AIMessage(content='Cuéntame, ¿sueles viajar con acompañantes en el coche habitualmente? ¿cuantos?', additional_kwargs={}, response_metadata={}, id='f2a05307-471c-441a-b805-adf06e4203ca'), HumanMessage(content='viajo solo, sin acompañantes', additional_kwargs={}, response_metadata={}, id='067a64de-972a-4413-859e-10719dd0aff9'), AIMessage(content='Con el fin de conocer tus preferencias financieras que opcion prefieres:\\n  1. Prefiero que me aconsejes con criterios de inteligencia financiera.\\n  2. Prefiero indicar yo mismo cuánto y cómo gastar.', additional_kwargs={}, response_metadata={}, id='d50c6ad1-13d4-45fa-ae80-4b012dccf19e'), HumanMessage(content='la 2', additional_kwargs={}, response_metadata={}, id='eafcb669-b27f-4aeb-9193-c8b568a83297'), AIMessage(content='¿Prefieres indicar un pago total al contado o una cuota mensual máxima?', additional_kwargs={}, response_metadata={}, id='2b18cfc6-d943-4960-ac1f-14d1110a4232'), HumanMessage(content='contado hasta 8.000', additional_kwargs={}, response_metadata={}, id='95b35633-7510-46e1-8601-8df96dd38f4f'), AIMessage(content='✅ He entendido lo siguiente sobre tus preferencias:\\n\\n| Preferencia              | Valor                      |\\n|--------------------------|----------------------------|\\n| Apasionado del motor    | Sí |\\n| Estética                | No prioritaria |\\n| Principal del Hogar     | Sí |\\n| Uso                     | Particular |\\n| Tipo de coche           | No necesariamente eléctrico |\\n| Diseño exclusivo        | Sí (Exclusivo) |\\n| Altura                  | Mayor a 1.90 m |\\n| Peso                    | Menor a 100 kg |\\n| Transmisión preferida   | Ambos |\\n| Aventura                | Ninguna |\\n\\n📊 Importancia de Características (0-10):\\n\\n| Característica                   | Rating (0-10) |\\n|----------------------------------|---------------|\\n| Fiabilidad y Durabilidad         | 7 |\\n| Seguridad                        | 7 |\\n| Comodidad                        | 10 |\\n| Impacto Ambiental                | 8 |\\n| Costes de Uso/Mantenimiento      | 6 |\\n| Tecnología y Conectividad        | 10 |\\n\\n🎯 Filtros técnicos inferidos:\\n\\n| Filtro técnico        | Valor                            |\\n|-----------------------|----------------------------------|\\n| Tipo de mecánica     | GASOLINA, BEV, HEVD, PHEVD |\\n| Tipo de carrocería   | SUV, COUPE, TODOTERRENO, FAMILIAR |\\n| Estética mínima      | 1.0 |\\n| Premium mínima       | 3.0 |\\n| Singularidad mínima  | 6.0 |\\n\\n💰 Economía del usuario:\\n\\n| Concepto                | Valor               |\\n|-------------------------|---------------------|\\n| Modo                    | Presupuesto Definido |\\n| Años Posesión Estimados | No especificado |\\n| Tipo de Pago            | Pago Contado |\\n| Presupuesto Contado     | 8.000 € |', additional_kwargs={}, response_metadata={}, id='883ed58b-3180-411d-be2a-29b65876285a')], 'preferencias_usuario': PerfilUsuario(apasionado_motor='sí', valora_estetica='no', coche_principal_hogar='sí', uso_profesional='no', tipo_uso_profesional=None, prefiere_diseno_exclusivo='sí', aventura=<NivelAventura.ninguna: 'ninguna'>, altura_mayor_190='sí', peso_mayor_100='no', solo_electricos='no', transmision_preferida=<Transmision.AMBOS: 'ambos'>, rating_fiabilidad_durabilidad=7, rating_seguridad=7, rating_comodidad=10, rating_impacto_ambiental=8, rating_costes_uso=6, rating_tecnologia_conectividad=10), 'filtros_inferidos': FiltrosInferidos(estetica_min=1.0, tipo_mecanica=[<TipoMecanica.GASOLINA: 'GASOLINA'>, <TipoMecanica.BEV: 'BEV'>, <TipoMecanica.HEVD: 'HEVD'>, <TipoMecanica.PHEVD: 'PHEVD'>], premium_min=3.0, singular_min=6.0, tipo_carroceria=['SUV', 'COUPE', 'TODOTERRENO', 'FAMILIAR'], modo_adquisicion_recomendado=None, precio_max_contado_recomendado=None, cuota_max_calculada=None, plazas_min=1), 'economia': EconomiaUsuario(modo=2, submodo=1, ingresos=None, ahorro=None, pago_contado=8000.0, cuota_max=None, entrada=None, anos_posesion=None), 'pesos': {'estetica': 0.015873015873015872, 'premium': 0.047619047619047616, 'singular': 0.09523809523809523, 'altura_libre_suelo': 0.0, 'traccion': 0.0, 'reductoras': 0.0, 'batalla': 0.07936507936507936, 'indice_altura_interior': 0.07936507936507936, 'ancho': 0.015873015873015872, 'rating_fiabilidad_durabilidad': 0.1111111111111111, 'rating_seguridad': 0.1111111111111111, 'rating_comodidad': 0.15873015873015872, 'rating_impacto_ambiental': 0.12698412698412698, 'rating_tecnologia_conectividad': 0.15873015873015872}, 'pregunta_pendiente': None, 'coches_recomendados': None, 'info_pasajeros': InfoPasajeros(frecuencia='nunca', num_ninos_silla=0, num_otros_pasajeros=0), 'penalizar_puertas_bajas': False, 'priorizar_ancho': False, 'flag_penalizar_low_cost_comodidad': True, 'flag_penalizar_deportividad_comodidad': True, 'tabla_resumen_criterios': '✅ He entendido lo siguiente sobre tus preferencias:\\n\\n| Preferencia              | Valor                      |\\n|--------------------------|----------------------------|\\n| Apasionado del motor    | Sí |\\n| Estética                | No prioritaria |\\n| Principal del Hogar     | Sí |\\n| Uso                     | Particular |\\n| Tipo de coche           | No necesariamente eléctrico |\\n| Diseño exclusivo        | Sí (Exclusivo) |\\n| Altura                  | Mayor a 1.90 m |\\n| Peso                    | Menor a 100 kg |\\n| Transmisión preferida   | Ambos |\\n| Aventura                | Ninguna |\\n\\n📊 Importancia de Características (0-10):\\n\\n| Característica                   | Rating (0-10) |\\n|----------------------------------|---------------|\\n| Fiabilidad y Durabilidad         | 7 |\\n| Seguridad                        | 7 |\\n| Comodidad                        | 10 |\\n| Impacto Ambiental                | 8 |\\n| Costes de Uso/Mantenimiento      | 6 |\\n| Tecnología y Conectividad        | 10 |\\n\\n🎯 Filtros técnicos inferidos:\\n\\n| Filtro técnico        | Valor                            |\\n|-----------------------|----------------------------------|\\n| Tipo de mecánica     | GASOLINA, BEV, HEVD, PHEVD |\\n| Tipo de carrocería   | SUV, COUPE, TODOTERRENO, FAMILIAR |\\n| Estética mínima      | 1.0 |\\n| Premium mínima       | 3.0 |\\n| Singularidad mínima  | 6.0 |\\n\\n💰 Economía del usuario:\\n\\n| Concepto                | Valor               |\\n|-------------------------|---------------------|\\n| Modo                    | Presupuesto Definido |\\n| Años Posesión Estimados | No especificado |\\n| Tipo de Pago            | Pago Contado |\\n| Presupuesto Contado     | 8.000 € |'}\n",
      "DEBUG (Buscar BQ) ► Llamando a buscar_coches_bq con k=7\n",
      "DEBUG (Buscar BQ) ► Filtros para BQ: {'estetica_min': 1.0, 'tipo_mecanica': ['GASOLINA', 'BEV', 'HEVD', 'PHEVD'], 'premium_min': 3.0, 'singular_min': 6.0, 'tipo_carroceria': ['SUV', 'COUPE', 'TODOTERRENO', 'FAMILIAR'], 'plazas_min': 1, 'modo': 2, 'submodo': 1, 'pago_contado': 8000.0, 'penalizar_puertas_bajas': False, 'flag_penalizar_low_cost_comodidad': True, 'flag_penalizar_deportividad_comodidad': True}\n",
      "DEBUG (Buscar BQ) ► Pesos para BQ: {'estetica': 0.015873015873015872, 'premium': 0.047619047619047616, 'singular': 0.09523809523809523, 'altura_libre_suelo': 0.0, 'traccion': 0.0, 'reductoras': 0.0, 'batalla': 0.07936507936507936, 'indice_altura_interior': 0.07936507936507936, 'ancho': 0.015873015873015872, 'rating_fiabilidad_durabilidad': 0.1111111111111111, 'rating_seguridad': 0.1111111111111111, 'rating_comodidad': 0.15873015873015872, 'rating_impacto_ambiental': 0.12698412698412698, 'rating_tecnologia_conectividad': 0.15873015873015872}\n",
      "--- 🧠 SQL Query (Paso a Paso) ---\n",
      " \n",
      "    WITH ScaledData AS (\n",
      "        SELECT\n",
      "            *,\n",
      "            COALESCE(SAFE_DIVIDE(COALESCE(estetica, 1.0) - 1.0, NULLIF(10.0 - 1.0, 0)), 0) AS estetica_scaled,\n",
      "            COALESCE(SAFE_DIVIDE(COALESCE(premium, 1.0) - 1.0, NULLIF(10.0 - 1.0, 0)), 0) AS premium_scaled,\n",
      "            COALESCE(SAFE_DIVIDE(COALESCE(singular, 1.0) - 1.0, NULLIF(10.0 - 1.0, 0)), 0) AS singular_scaled,\n",
      "            COALESCE(SAFE_DIVIDE(COALESCE(altura_libre_suelo, 79.0) - 79.0, NULLIF(314.0 - 79.0, 0)), 0) AS altura_scaled,\n",
      "            COALESCE(SAFE_DIVIDE(COALESCE(batalla, 1650.0) - 1650.0, NULLIF(4035.0 - 1650.0, 0)), 0) AS batalla_scaled,\n",
      "            COALESCE(SAFE_DIVIDE(COALESCE(indice_altura_interior, 0.9) - 0.9, NULLIF(2.7 - 0.9, 0)), 0) AS indice_altura_scaled,\n",
      "            COALESCE(SAFE_DIVIDE(COALESCE(ancho, 1410.0) - 1410.0, NULLIF(2164.0 - 1410.0, 0)), 0) AS ancho_scaled,\n",
      "            -- CAMPOS ESCALADOS PARA NUEVOS RATINGS --\n",
      "            COALESCE(SAFE_DIVIDE(COALESCE(fiabilidad, 1.0) - 1.0, NULLIF(10.0 - 1.0, 0)), 0) AS fiabilidad_scaled,\n",
      "            COALESCE(SAFE_DIVIDE(COALESCE(durabilidad, 1.0) - 1.0, NULLIF(10.0 - 1.0, 0)), 0) AS durabilidad_scaled,\n",
      "            COALESCE(SAFE_DIVIDE(COALESCE(seguridad, 1.0) - 1.0, NULLIF(10.0 - 1.0, 0)), 0) AS seguridad_scaled,\n",
      "            COALESCE(SAFE_DIVIDE(COALESCE(comodidad, 1.0) - 1.0, NULLIF(10.0 - 1.0, 0)), 0) AS comodidad_scaled,\n",
      "            COALESCE(SAFE_DIVIDE(COALESCE(tecnologia, 1.0) - 1.0, NULLIF(10.0 - 1.0, 0)), 0) AS tecnologia_scaled, -- <-- Nuevo escalado\n",
      "            -- CAMPOS ESCALADOS PARA PENALIZACIONES --\n",
      "            COALESCE(SAFE_DIVIDE(COALESCE(acceso_low_cost, 1.0) - 1.0, NULLIF(10.0 - 1.0, 0)), 0) AS acceso_low_cost_scaled,\n",
      "            COALESCE(SAFE_DIVIDE(COALESCE(deportividad, 1.0) - 1.0, NULLIF(10.0 - 1.0, 0)), 0) AS deportividad_scaled,\n",
      "            -- Mapeos existentes --\n",
      "            CASE WHEN traccion = 'ALL' THEN 1.0 WHEN traccion = 'RWD' THEN 0.5 ELSE 0.0 END AS traccion_scaled,\n",
      "            (CASE WHEN COALESCE(reductoras, FALSE) THEN 1.0 ELSE 0.0 END) AS reductoras_scaled,\n",
      "            (CASE WHEN @penalizar_puertas = TRUE AND puertas <= 3 THEN -0.15 ELSE 0.0 END) AS puertas_penalty\n",
      "        FROM\n",
      "            `thecarmentor-mvp2.web_cars.match_coches_pruebas`\n",
      "    )\n",
      "    SELECT\n",
      "      -- Añade las nuevas columnas BQ si quieres ver sus valores originales fiabilidad, durabilidad, seguridad, comodidad, acceso_low_cost, deportividad, tecnologia (para después)\n",
      "      nombre, ID, marca, modelo, cambio_automatico, tipo_mecanica, tipo_carroceria, \n",
      "      indice_altura_interior, batalla, estetica, premium, singular, altura_libre_suelo, \n",
      "      ancho, traccion, reductoras, puertas, plazas, precio_compra_contado,\n",
      "      \n",
      "      ( \n",
      "        estetica_scaled * @peso_estetica \n",
      "        + premium_scaled * @peso_premium\n",
      "        + singular_scaled * @peso_singular\n",
      "        + altura_scaled * @peso_altura\n",
      "        + batalla_scaled * @peso_batalla \n",
      "        + indice_altura_scaled * @peso_indice_altura\n",
      "        + ancho_scaled * @peso_ancho \n",
      "        + traccion_scaled * @peso_traccion\n",
      "        + reductoras_scaled * @peso_reductoras\n",
      "        + puertas_penalty\n",
      "        -- NUEVOS TÉRMINOS DE SCORE PARA RATINGS --\n",
      "        + fiabilidad_scaled * @peso_rating_fiabilidad_durabilidad  \n",
      "        + durabilidad_scaled * @peso_rating_fiabilidad_durabilidad -- Usando el mismo peso para ambas\n",
      "        + seguridad_scaled * @peso_rating_seguridad               \n",
      "        + comodidad_scaled * @peso_rating_comodidad\n",
      "        + fiabilidad_scaled * @peso_rating_impacto_ambiental  -- P4 (Impacto Ambiental) usa fiabilidad_scaled\n",
      "        + durabilidad_scaled * @peso_rating_impacto_ambiental -- P4 (Impacto Ambiental) usa durabilidad_scaled (si así lo defines)\n",
      "        + tecnologia_scaled * @peso_rating_tecnologia_conectividad -- P6\n",
      "        -- PENALIZACIONES POR COMODIDAD --\n",
      "        + (CASE WHEN @flag_penalizar_low_cost_comodidad = TRUE AND acceso_low_cost_scaled >= 0.7 THEN -0.2 ELSE 0.0 END)\n",
      "        + (CASE WHEN @flag_penalizar_deportividad_comodidad = TRUE AND deportividad_scaled >= 0.7 THEN -0.15 ELSE 0.0 END)\n",
      "        -- FIN NUEVOS TÉRMINOS Y PENALIZACIONES --\n",
      "      ) AS score_total\n",
      "    FROM ScaledData\n",
      "    WHERE 1=1 \n",
      "    \n",
      "      AND COALESCE(estetica, 0) >= @estetica_min\n",
      "      AND COALESCE(premium, 0) >= @premium_min\n",
      "      AND COALESCE(singular, 0) >= @singular_min\n",
      "      AND plazas >= @plazas_min\n",
      "      AND tipo_mecanica IN UNNEST(@tipos_mecanica)\n",
      "      AND tipo_carroceria IN UNNEST(@tipos_carroceria)\n",
      "      AND COALESCE(precio_compra_contado, 999999999) <= @precio_maximo\n",
      "    ORDER BY score_total DESC, precio_compra_contado ASC\n",
      "    LIMIT @k\n",
      "\n",
      "--- 📦 Parameters (Paso a Paso) ---\n",
      " [('peso_estetica', 0.015873015873015872), ('peso_premium', 0.047619047619047616), ('peso_singular', 0.09523809523809523), ('peso_altura', 0.0), ('peso_batalla', 0.07936507936507936), ('peso_indice_altura', 0.07936507936507936), ('peso_ancho', 0.015873015873015872), ('peso_traccion', 0.0), ('peso_reductoras', 0.0), ('penalizar_puertas', False), ('peso_rating_fiabilidad_durabilidad', 0.1111111111111111), ('peso_rating_seguridad', 0.1111111111111111), ('peso_rating_comodidad', 0.15873015873015872), ('peso_rating_impacto_ambiental', 0.12698412698412698), ('peso_rating_tecnologia_conectividad', 0.15873015873015872), ('flag_penalizar_low_cost_comodidad', True), ('flag_penalizar_deportividad_comodidad', True), ('k', 7), ('estetica_min', 1.0), ('premium_min', 3.0), ('singular_min', 6.0), ('plazas_min', 1), ('tipos_mecanica', ['GASOLINA', 'BEV', 'HEVD', 'PHEVD']), ('tipos_carroceria', ['SUV', 'COUPE', 'TODOTERRENO', 'FAMILIAR']), ('precio_maximo', 8000.0)]\n"
     ]
    },
    {
     "name": "stderr",
     "output_type": "stream",
     "text": [
      "INFO (RAG): ✅ (Paso a Paso) BigQuery query ejecutada, 2 resultados obtenidos.\n",
      "INFO (RAG): Log de búsqueda para conversación 'unknown_thread' insertado en BigQuery.\n"
     ]
    },
    {
     "name": "stdout",
     "output_type": "stream",
     "text": [
      "INFO (BQ Logger) ► Log para 'unknown_thread' guardado en BQ.\n",
      "==================================\u001b[1m Ai Message \u001b[0m==================================\n",
      "\n",
      "¡Listo! Basado en todo lo que hablamos, aquí tienes 2 coche(s) que podrían interesarte:\n",
      "\n",
      "| nombre                                           | marca      | precio_compra_contado   |   score_total | tipo_carroceria   | tipo_mecanica   |   plazas |   puertas | traccion   | reductoras   |   estetica |   premium |   singular |   ancho |   altura_libre_suelo |   batalla |   indice_altura_interior | cambio_automatico   |\n",
      "|:-------------------------------------------------|:-----------|:------------------------|--------------:|:------------------|:----------------|---------:|----------:|:-----------|:-------------|-----------:|----------:|-----------:|--------:|---------------------:|----------:|-------------------------:|:--------------------|\n",
      "| Alfa Romeo GT 2.0 16V JTS 16V Sportiva Selespeed | Alfa Romeo | 4.900€                  |         0.451 | COUPE             | GASOLINA        |        5 |         3 | FWD        | False        |          8 |         7 |          6 |    1763 |                  125 |      2596 |                    1.23  | True                |\n",
      "| Alfa Romeo GTV 2.0 16V T.Spark                   | Alfa Romeo | 7.750€                  |         0.393 | COUPE             | GASOLINA        |        2 |         2 | FWD        | False        |          8 |         7 |          6 |    1780 |                  140 |      2540 |                    1.175 | False               |\n",
      "\n",
      "¿Qué te parecen estas opciones? ¿Hay alguno que te interese para ver más detalles o hacemos otra búsqueda?\n"
     ]
    }
   ],
   "source": [
    "# Create a thread\n",
    "config = {\"configurable\": {\"thread_id\": \"1\"}}\n",
    "\n",
    "# Start conversation\n",
    "input_message = HumanMessage(content=\"contado hasta 8.000\")\n",
    "output = graph.invoke({\"messages\": [input_message]}, config) \n",
    "for m in output['messages'][-1:]:\n",
    "    m.pretty_print()"
   ]
  },
  {
   "cell_type": "code",
   "execution_count": 18,
   "metadata": {},
   "outputs": [
    {
     "name": "stdout",
     "output_type": "stream",
     "text": [
      "apasionado_motor='sí' valora_estetica='no' coche_principal_hogar='sí' uso_profesional='no' tipo_uso_profesional=None prefiere_diseno_exclusivo='sí' aventura=<NivelAventura.ninguna: 'ninguna'> altura_mayor_190='sí' peso_mayor_100='no' solo_electricos='no' transmision_preferida=<Transmision.AMBOS: 'ambos'> rating_fiabilidad_durabilidad=7 rating_seguridad=7 rating_comodidad=10 rating_impacto_ambiental=8 rating_costes_uso=6 rating_tecnologia_conectividad=10\n",
      "-----------------------\n",
      "estetica_min=1.0 tipo_mecanica=[<TipoMecanica.GASOLINA: 'GASOLINA'>, <TipoMecanica.BEV: 'BEV'>, <TipoMecanica.HEVD: 'HEVD'>, <TipoMecanica.PHEVD: 'PHEVD'>] premium_min=3.0 singular_min=6.0 tipo_carroceria=None modo_adquisicion_recomendado=None precio_max_contado_recomendado=None cuota_max_calculada=None plazas_min=1\n",
      "-----------------------\n",
      "modo=None submodo=None ingresos=None ahorro=None pago_contado=None cuota_max=None entrada=None anos_posesion=None\n",
      "-----------------------\n",
      "None\n"
     ]
    }
   ],
   "source": [
    "print(output['preferencias_usuario'])\n",
    "print('-----------------------')\n",
    "print(output['filtros_inferidos'])\n",
    "print('-----------------------')\n",
    "print(output['economia'])\n",
    "print('-----------------------')\n",
    "print(output['pesos'])"
   ]
  },
  {
   "cell_type": "code",
   "execution_count": null,
   "metadata": {},
   "outputs": [],
   "source": [
    "# Create a thread\n",
    "config = {\"configurable\": {\"thread_id\": \"1\"}}\n",
    "\n",
    "# Start conversation\n",
    "input_message = HumanMessage(content=\"la 2\")\n",
    "output = graph.invoke({\"messages\": [input_message]}, config) \n",
    "for m in output['messages'][-1:]:\n",
    "    m.pretty_print()"
   ]
  },
  {
   "cell_type": "code",
   "execution_count": null,
   "metadata": {},
   "outputs": [],
   "source": [
    "# Create a thread\n",
    "config = {\"configurable\": {\"thread_id\": \"1\"}}\n",
    "\n",
    "# Start conversation\n",
    "input_message = HumanMessage(content=\"de contado tengo 13000 maximo\")\n",
    "output = graph.invoke({\"messages\": [input_message]}, config) \n",
    "for m in output['messages'][-1:]:\n",
    "    m.pretty_print()"
   ]
  },
  {
   "cell_type": "code",
   "execution_count": null,
   "metadata": {},
   "outputs": [],
   "source": [
    "print(output['preferencias_usuario'])\n",
    "print('-----------------------')\n",
    "print(output['filtros_inferidos'])\n",
    "# print('-----------------------')\n",
    "# print(output['pesos'])"
   ]
  },
  {
   "cell_type": "code",
   "execution_count": null,
   "metadata": {},
   "outputs": [],
   "source": [
    "print(output['preferencias_usuario'])\n",
    "print('-----------------------')\n",
    "print(output['filtros_inferidos'])\n",
    "print('-----------------------')\n",
    "print(output['info_pasajeros'])\n",
    "print('-----------------------')\n",
    "print(output['economia'])\n",
    "print('-----------------------')\n",
    "print(output['pesos'])\n",
    "print('-----------------------')\n",
    "print(output['coches_recomendados'])\n",
    "print('-----------------------')\n",
    "print(output['priorizar_ancho'])\n",
    "print('-----------------------')\n",
    "print(output['info_pasajeros'])\n",
    "print('-----------------------')\n",
    "print(output.keys())"
   ]
  },
  {
   "cell_type": "code",
   "execution_count": null,
   "metadata": {},
   "outputs": [],
   "source": [
    "# Create a thread\n",
    "config = {\"configurable\": {\"thread_id\": \"1\"}}\n",
    "\n",
    "# Start conversation\n",
    "input_message = HumanMessage(content=\"35.000\")\n",
    "output = graph.invoke({\"messages\": [input_message]}, config) \n",
    "for m in output['messages'][-1:]:\n",
    "    m.pretty_print()"
   ]
  },
  {
   "cell_type": "code",
   "execution_count": null,
   "metadata": {},
   "outputs": [],
   "source": [
    "\n",
    "print(output['preferencias_usuario'])\n",
    "print('-----------------------')\n",
    "print(output['filtros_inferidos'])\n",
    "print('-----------------------')\n",
    "print(output['pesos'])\n",
    "print(output.keys())"
   ]
  },
  {
   "cell_type": "code",
   "execution_count": null,
   "metadata": {},
   "outputs": [],
   "source": [
    "# Create a thread\n",
    "config = {\"configurable\": {\"thread_id\": \"1\"}}\n",
    "\n",
    "# Start conversation\n",
    "input_message = HumanMessage(content=\"10000 ahorrados?\")\n",
    "output = graph.invoke({\"messages\": [input_message]}, config) \n",
    "for m in output['messages'][-1:]:\n",
    "    m.pretty_print()"
   ]
  },
  {
   "cell_type": "code",
   "execution_count": null,
   "metadata": {},
   "outputs": [],
   "source": [
    "print(output['preferencias_usuario'])\n",
    "print('-----------------------')\n",
    "print(output['filtros_inferidos'])\n",
    "print('-----------------------')\n",
    "print(output.keys())"
   ]
  },
  {
   "cell_type": "code",
   "execution_count": null,
   "metadata": {},
   "outputs": [],
   "source": [
    "# Create a thread\n",
    "config = {\"configurable\": {\"thread_id\": \"1\"}}\n",
    "\n",
    "# Start conversation\n",
    "input_message = HumanMessage(content=\"5 años\")\n",
    "output = graph.invoke({\"messages\": [input_message]}, config) \n",
    "for m in output['messages'][-1:]:\n",
    "    m.pretty_print()"
   ]
  },
  {
   "cell_type": "code",
   "execution_count": null,
   "metadata": {},
   "outputs": [],
   "source": [
    "print(output['preferencias_usuario'])\n",
    "print('-----------------------')\n",
    "print(output['filtros_inferidos'])\n",
    "print('-----------------------')\n",
    "print(output['economia'])\n",
    "print('-----------------------')\n",
    "print(output['pesos'])\n",
    "print(output.keys())"
   ]
  },
  {
   "cell_type": "code",
   "execution_count": null,
   "metadata": {},
   "outputs": [],
   "source": [
    "# Create a thread\n",
    "config = {\"configurable\": {\"thread_id\": \"1\"}}\n",
    "\n",
    "# Start conversation\n",
    "input_message = HumanMessage(content=\"que informacin falta?\")\n",
    "output = graph.invoke({\"messages\": [input_message]}, config) \n",
    "for m in output['messages'][-1:]:\n",
    "    m.pretty_print()"
   ]
  },
  {
   "cell_type": "code",
   "execution_count": null,
   "metadata": {},
   "outputs": [],
   "source": []
  },
  {
   "cell_type": "code",
   "execution_count": null,
   "metadata": {},
   "outputs": [],
   "source": [
    "config = {\"configurable\": {\"thread_id\": \"1\"}}\n",
    "\n",
    "# Start conversation\n",
    "input_message = HumanMessage(content=\"8\")\n",
    "output = graph.invoke({\"messages\": [input_message]}, config) \n",
    "for m in output['messages'][-1:]:\n",
    "    m.pretty_print()"
   ]
  },
  {
   "cell_type": "code",
   "execution_count": null,
   "metadata": {},
   "outputs": [],
   "source": [
    "print(output['preferencias_usuario'])\n",
    "print('-----------------------')\n",
    "print(output['filtros_inferidos'])\n",
    "print('-----------------------')\n",
    "print(output['economia'])\n",
    "print('-----------------------')\n",
    "print(output['pesos'])"
   ]
  },
  {
   "cell_type": "code",
   "execution_count": null,
   "metadata": {},
   "outputs": [],
   "source": [
    "print(output['preferencias_usuario'])\n",
    "print('-----------------------')"
   ]
  },
  {
   "cell_type": "code",
   "execution_count": null,
   "metadata": {},
   "outputs": [],
   "source": [
    "print(output.keys())"
   ]
  },
  {
   "cell_type": "code",
   "execution_count": null,
   "metadata": {},
   "outputs": [],
   "source": [
    "state = graph.get_state(config).values\n",
    "print(state[\"mensaje_validacion\"])\n"
   ]
  },
  {
   "cell_type": "markdown",
   "metadata": {},
   "source": [
    "## Prueba 2"
   ]
  },
  {
   "cell_type": "code",
   "execution_count": null,
   "metadata": {},
   "outputs": [],
   "source": [
    "# Create a thread\n",
    "config = {\"configurable\": {\"thread_id\": \"2\"}}\n",
    "\n",
    "# Start conversation\n",
    "input_message = HumanMessage(content=\"Quiero un coche mido 1.93. Peso 80 kg\")\n",
    "output = graph.invoke({\"messages\": [input_message]}, config) \n",
    "for m in output['messages'][-1:]:\n",
    "    m.pretty_print()"
   ]
  },
  {
   "cell_type": "code",
   "execution_count": null,
   "metadata": {},
   "outputs": [],
   "source": [
    "print(output['preferencias_usuario'])\n",
    "print('---------------------------------------------------------------------')\n",
    "print(output['filtros_inferidos'])\n"
   ]
  },
  {
   "cell_type": "code",
   "execution_count": null,
   "metadata": {},
   "outputs": [],
   "source": [
    "# Create a thread\n",
    "config = {\"configurable\": {\"thread_id\": \"2\"}}\n",
    "\n",
    "# Start conversation\n",
    "input_message = HumanMessage(content=\"para uso personal\")\n",
    "output = graph.invoke({\"messages\": [input_message]}, config) \n",
    "for m in output['messages'][-1:]:\n",
    "    m.pretty_print()"
   ]
  },
  {
   "cell_type": "code",
   "execution_count": null,
   "metadata": {},
   "outputs": [],
   "source": [
    "print(output['preferencias_usuario'])\n",
    "print('---------------------------------------------------------------------')\n",
    "print(output['filtros_inferidos']) #"
   ]
  },
  {
   "cell_type": "code",
   "execution_count": null,
   "metadata": {},
   "outputs": [],
   "source": [
    "# Create a thread\n",
    "config = {\"configurable\": {\"thread_id\": \"2\"}}\n",
    "\n",
    "# Start conversation\n",
    "input_message = HumanMessage(content=\"si valoro la estetica\")\n",
    "output = graph.invoke({\"messages\": [input_message]}, config) \n",
    "for m in output['messages'][-1:]:\n",
    "    m.pretty_print()"
   ]
  },
  {
   "cell_type": "code",
   "execution_count": null,
   "metadata": {},
   "outputs": [],
   "source": [
    "print(output['preferencias_usuario'])\n",
    "print('---------------------------------------------------------------------')\n",
    "# print(output['filtros_inferidos']) \n",
    "# print('---------------------------------------------------------------------')\n",
    "# #print(output['pesos'])"
   ]
  },
  {
   "cell_type": "code",
   "execution_count": null,
   "metadata": {},
   "outputs": [],
   "source": [
    "# Create a thread\n",
    "config = {\"configurable\": {\"thread_id\": \"2\"}}\n",
    "\n",
    "# Start conversation\n",
    "input_message = HumanMessage(content=\"no a combustion tambien\")\n",
    "output = graph.invoke({\"messages\": [input_message]}, config) \n",
    "for m in output['messages'][-1:]:\n",
    "    m.pretty_print()"
   ]
  },
  {
   "cell_type": "code",
   "execution_count": null,
   "metadata": {},
   "outputs": [],
   "source": [
    "# Create a thread\n",
    "config = {\"configurable\": {\"thread_id\": \"2\"}}\n",
    "\n",
    "# Start conversation\n",
    "input_message = HumanMessage(content=\"la numero 3\")\n",
    "output = graph.invoke({\"messages\": [input_message]}, config) \n",
    "for m in output['messages'][-1:]:\n",
    "    m.pretty_print()"
   ]
  },
  {
   "cell_type": "code",
   "execution_count": null,
   "metadata": {},
   "outputs": [],
   "source": [
    "# Create a thread\n",
    "config = {\"configurable\": {\"thread_id\": \"2\"}}\n",
    "\n",
    "# Start conversation\n",
    "input_message = HumanMessage(content=\"la 2\")\n",
    "output = graph.invoke({\"messages\": [input_message]}, config) \n",
    "for m in output['messages'][-1:]:\n",
    "    m.pretty_print()"
   ]
  },
  {
   "cell_type": "code",
   "execution_count": null,
   "metadata": {},
   "outputs": [],
   "source": [
    "# Create a thread\n",
    "config = {\"configurable\": {\"thread_id\": \"2\"}}\n",
    "\n",
    "# Start conversation\n",
    "input_message = HumanMessage(content=\"si, lo soy\")\n",
    "output = graph.invoke({\"messages\": [input_message]}, config) \n",
    "for m in output['messages'][-1:]:\n",
    "    m.pretty_print()"
   ]
  },
  {
   "cell_type": "code",
   "execution_count": null,
   "metadata": {},
   "outputs": [],
   "source": [
    "\n",
    "print(output['preferencias_usuario'])\n",
    "print('---------------------------------------------------------------------')\n",
    "# print(output['filtros_inferidos']) \n",
    "print('---------------------------------------------------------------------')\n",
    "# print(output['economia'])"
   ]
  },
  {
   "cell_type": "code",
   "execution_count": null,
   "metadata": {},
   "outputs": [],
   "source": [
    "# Create a thread\n",
    "config = {\"configurable\": {\"thread_id\": \"2\"}}\n",
    "\n",
    "# Start conversation\n",
    "input_message = HumanMessage(content=\"si, llevo 2 acompañantes\")\n",
    "output = graph.invoke({\"messages\": [input_message]}, config) \n",
    "for m in output['messages'][-1:]:\n",
    "    m.pretty_print()"
   ]
  },
  {
   "cell_type": "code",
   "execution_count": null,
   "metadata": {},
   "outputs": [],
   "source": [
    "print(output['preferencias_usuario'])\n",
    "print('---------------------------------------------------------------------')\n",
    "print(output['filtros_inferidos']) #"
   ]
  },
  {
   "cell_type": "code",
   "execution_count": null,
   "metadata": {},
   "outputs": [],
   "source": [
    "config = {\"configurable\": {\"thread_id\": \"2\"}}\n",
    "input_message = HumanMessage(content=\"si uno de ellos es mi hijo\")\n",
    "output = graph.invoke({\"messages\": [input_message]}, config) \n",
    "for m in output['messages'][-1:]:\n",
    "    m.pretty_print()"
   ]
  },
  {
   "cell_type": "code",
   "execution_count": null,
   "metadata": {},
   "outputs": [],
   "source": [
    "config = {\"configurable\": {\"thread_id\": \"2\"}}\n",
    "input_message = HumanMessage(content=\"asesorame por favor\")\n",
    "output = graph.invoke({\"messages\": [input_message]}, config) \n",
    "for m in output['messages'][-1:]:\n",
    "    m.pretty_print()"
   ]
  },
  {
   "cell_type": "code",
   "execution_count": null,
   "metadata": {},
   "outputs": [],
   "source": [
    "config = {\"configurable\": {\"thread_id\": \"2\"}}\n",
    "input_message = HumanMessage(content=\"35000 anuales\")\n",
    "output = graph.invoke({\"messages\": [input_message]}, config) \n",
    "for m in output['messages'][-1:]:\n",
    "    m.pretty_print()"
   ]
  },
  {
   "cell_type": "code",
   "execution_count": null,
   "metadata": {},
   "outputs": [],
   "source": [
    "config = {\"configurable\": {\"thread_id\": \"2\"}}\n",
    "input_message = HumanMessage(content=\"6.000 ahorrados\")\n",
    "output = graph.invoke({\"messages\": [input_message]}, config) \n",
    "for m in output['messages'][-1:]:\n",
    "    m.pretty_print()"
   ]
  },
  {
   "cell_type": "code",
   "execution_count": null,
   "metadata": {},
   "outputs": [],
   "source": [
    "config = {\"configurable\": {\"thread_id\": \"2\"}}\n",
    "input_message = HumanMessage(content=\"5 años\")\n",
    "output = graph.invoke({\"messages\": [input_message]}, config) \n",
    "for m in output['messages'][-1:]:\n",
    "    m.pretty_print()"
   ]
  },
  {
   "cell_type": "code",
   "execution_count": null,
   "metadata": {},
   "outputs": [],
   "source": [
    "print(output['preferencias_usuario'])\n",
    "print('---------------------------------------------------------------------')\n",
    "print(output['filtros_inferidos'])\n",
    "print('---------------------------------------------------------------------')\n",
    "print(output['economia'])\n",
    "print('---------------------------------------------------------------------')\n",
    "print(output['pesos'])"
   ]
  },
  {
   "cell_type": "code",
   "execution_count": null,
   "metadata": {},
   "outputs": [],
   "source": [
    "print(output.keys())"
   ]
  },
  {
   "cell_type": "code",
   "execution_count": null,
   "metadata": {},
   "outputs": [],
   "source": [
    "print(output['pesos'])"
   ]
  },
  {
   "cell_type": "code",
   "execution_count": null,
   "metadata": {},
   "outputs": [],
   "source": [
    "state = graph.get_state(config).values\n",
    "for m in state['messages']:\n",
    "    m.pretty_print()\n",
    "    \n",
    "    "
   ]
  },
  {
   "cell_type": "markdown",
   "metadata": {},
   "source": [
    "revisar las reglas de altura "
   ]
  },
  {
   "cell_type": "markdown",
   "metadata": {},
   "source": [
    "## Prueba 3"
   ]
  },
  {
   "cell_type": "code",
   "execution_count": null,
   "metadata": {},
   "outputs": [],
   "source": [
    "# Create a thread\n",
    "config = {\"configurable\": {\"thread_id\": \"3\"}}\n",
    "\n",
    "# Start conversation\n",
    "input_message = HumanMessage(content=\"hola, dime quien eres?\")\n",
    "output = graph.invoke({\"messages\": [input_message]}, config) \n",
    "for m in output['messages'][-1:]:\n",
    "    m.pretty_print()\n"
   ]
  },
  {
   "cell_type": "code",
   "execution_count": null,
   "metadata": {},
   "outputs": [],
   "source": [
    "print(output['preferencias_usuario'])\n",
    "print('---------------------------------------------------------------------')\n",
    "print(output['filtros_inferidos'])\n"
   ]
  },
  {
   "cell_type": "code",
   "execution_count": null,
   "metadata": {},
   "outputs": [],
   "source": [
    "# Create a thread\n",
    "config = {\"configurable\": {\"thread_id\": \"3\"}}\n",
    "\n",
    "# Start conversation\n",
    "input_message = HumanMessage(content=\"tienes motos?\")\n",
    "output = graph.invoke({\"messages\": [input_message]}, config) \n",
    "for m in output['messages'][-1:]:\n",
    "    m.pretty_print()\n"
   ]
  },
  {
   "cell_type": "code",
   "execution_count": null,
   "metadata": {},
   "outputs": [],
   "source": [
    "print(output['preferencias_usuario'])\n",
    "print('---------------------------------------------------------------------')\n",
    "print(output['filtros_inferidos'])"
   ]
  },
  {
   "cell_type": "code",
   "execution_count": null,
   "metadata": {},
   "outputs": [],
   "source": [
    "# Consultar todo el estado acumulado\n",
    "state = graph.get_state(config).values\n",
    "for m in state[\"messages\"]:\n",
    "    m.pretty_print()"
   ]
  },
  {
   "cell_type": "markdown",
   "metadata": {},
   "source": [
    "## Prueba 4"
   ]
  },
  {
   "cell_type": "code",
   "execution_count": null,
   "metadata": {},
   "outputs": [],
   "source": [
    "# Create a thread\n",
    "config = {\"configurable\": {\"thread_id\": \"4\"}}\n",
    "\n",
    "# Start conversation\n",
    "input_message = HumanMessage(content=\"Quiero un coche elegante que usaré para trabajar todos los días. Me gustan los diseños llamativos. Mido 1.94\")\n",
    "output = graph.invoke({\"messages\": [input_message]}, config) \n",
    "for m in output['messages'][-1:]:\n",
    "    m.pretty_print()"
   ]
  },
  {
   "cell_type": "code",
   "execution_count": null,
   "metadata": {},
   "outputs": [],
   "source": [
    "print(output['preferencias_usuario'])\n",
    "print('---------------------------------------------------------------------')\n",
    "print(output['filtros_inferidos'])\n"
   ]
  },
  {
   "cell_type": "code",
   "execution_count": null,
   "metadata": {},
   "outputs": [],
   "source": [
    "# Create a thread\n",
    "config = {\"configurable\": {\"thread_id\": \"4\"}}\n",
    "\n",
    "# Start conversation\n",
    "input_message = HumanMessage(content=\"si electrico estaria perfecto\")\n",
    "output = graph.invoke({\"messages\": [input_message]}, config) \n",
    "for m in output['messages'][-1:]:\n",
    "    m.pretty_print()"
   ]
  },
  {
   "cell_type": "code",
   "execution_count": null,
   "metadata": {},
   "outputs": [],
   "source": [
    "print(output['preferencias_usuario'])\n",
    "print('---------------------------------------------------------------------')\n",
    "print(output['filtros_inferidos'])"
   ]
  },
  {
   "cell_type": "code",
   "execution_count": null,
   "metadata": {},
   "outputs": [],
   "source": [
    "# Create a thread\n",
    "config = {\"configurable\": {\"thread_id\": \"4\"}}\n",
    "\n",
    "# Start conversation\n",
    "input_message = HumanMessage(content=\"automatico y peso menos de 100kg\")\n",
    "output = graph.invoke({\"messages\": [input_message]}, config) \n",
    "for m in output['messages'][-1:]:\n",
    "    m.pretty_print()"
   ]
  },
  {
   "cell_type": "code",
   "execution_count": null,
   "metadata": {},
   "outputs": [],
   "source": [
    "print(output['preferencias_usuario'])\n",
    "print('---------------------------------------------------------------------')\n",
    "print(output['filtros_inferidos'])"
   ]
  },
  {
   "cell_type": "code",
   "execution_count": null,
   "metadata": {},
   "outputs": [],
   "source": [
    "# Create a thread\n",
    "config = {\"configurable\": {\"thread_id\": \"4\"}}\n",
    "\n",
    "# Start conversation\n",
    "input_message = HumanMessage(content=\"si me apasionan los coches\")\n",
    "output = graph.invoke({\"messages\": [input_message]}, config) \n",
    "for m in output['messages'][-1:]:\n",
    "    m.pretty_print()"
   ]
  },
  {
   "cell_type": "code",
   "execution_count": null,
   "metadata": {},
   "outputs": [],
   "source": [
    "print(output['preferencias_usuario'])\n",
    "print('---------------------------------------------------------------------')\n",
    "print(output['filtros_inferidos'])"
   ]
  },
  {
   "cell_type": "code",
   "execution_count": null,
   "metadata": {},
   "outputs": [],
   "source": [
    "# Create a thread\n",
    "config = {\"configurable\": {\"thread_id\": \"4\"}}\n",
    "\n",
    "# Start conversation\n",
    "input_message = HumanMessage(content=\"si\")\n",
    "output = graph.invoke({\"messages\": [input_message]}, config) \n",
    "for m in output['messages'][-1:]:\n",
    "    m.pretty_print()"
   ]
  },
  {
   "cell_type": "markdown",
   "metadata": {},
   "source": [
    "# Prueba 5"
   ]
  },
  {
   "cell_type": "code",
   "execution_count": null,
   "metadata": {},
   "outputs": [],
   "source": [
    "# Create a thread\n",
    "config = {\"configurable\": {\"thread_id\": \"5\"}}\n",
    "\n",
    "# Start conversation\n",
    "input_message = HumanMessage(content=\"Dime quien eres\")\n",
    "output = graph.invoke({\"messages\": [input_message]}, config) \n",
    "for m in output['messages'][-1:]:\n",
    "    m.pretty_print()"
   ]
  },
  {
   "cell_type": "code",
   "execution_count": null,
   "metadata": {},
   "outputs": [],
   "source": [
    "# Create a thread\n",
    "config = {\"configurable\": {\"thread_id\": \"5\"}}\n",
    "\n",
    "# Start conversation\n",
    "input_message = HumanMessage(content=\"tienes motos para recomendarme?\")\n",
    "output = graph.invoke({\"messages\": [input_message]}, config) \n",
    "for m in output['messages'][-1:]:\n",
    "    m.pretty_print()"
   ]
  },
  {
   "cell_type": "code",
   "execution_count": null,
   "metadata": {},
   "outputs": [],
   "source": [
    "state = graph.get_state(config).values\n",
    "for m in state[\"messages\"]:\n",
    "    m.pretty_print()"
   ]
  },
  {
   "cell_type": "markdown",
   "metadata": {},
   "source": [
    "## Objetivo\n",
    "Crear un nuevo nodo en LangGraph llamado analizar_perfil_usuario que:\n",
    "\n",
    "Reciba el mensaje del usuario.\n",
    "\n",
    "Llame a un LLM con un SystemMessage especializado.\n",
    "\n",
    "Devuelva un dict con tres secciones:\n",
    "\n",
    "\"perfil_usuario\" → altura, peso, uso, gustos, etc.\n",
    "\n",
    "\"filtros_inferidos\" → potencia_min, plazas_min, etc.\n",
    "\n",
    "\"mensaje_validacion\"\n",
    "\n",
    "Este resultado lo guardaremos en el state para luego usarlo al llamar buscar_producto_bd()."
   ]
  },
  {
   "cell_type": "code",
   "execution_count": null,
   "metadata": {},
   "outputs": [],
   "source": []
  },
  {
   "cell_type": "code",
   "execution_count": null,
   "metadata": {},
   "outputs": [],
   "source": [
    "\n",
    "# Configurar el cliente de BigQuery\n",
    "client = bigquery.Client(project=\"thecarmentor-mvp2\")\n",
    "\n",
    "@tool\n",
    "def buscar_producto_bd(consulta: str, filtros: dict = None):\n",
    "    \"\"\"\n",
    "    Busca productos en la base de datos utilizando una consulta semántica en BigQuery.\n",
    "    Tu objetivo es proporcionar respuestas precisas para ayudar en la búsqueda en el inventario de coches disponibles.\n",
    "    \n",
    "    Args:\n",
    "        consulta (str): Consulta de texto para buscar productos similares.\n",
    "    \n",
    "    Returns:\n",
    "        list[dict]: Resultados formateados como una lista de diccionarios con detalles de los productos más relevantes.\n",
    "    \"\"\"\n",
    "    \n",
    "    if not consulta.strip():\n",
    "        raise ValueError(\"La consulta no puede estar vacía.\")\n",
    "\n",
    "    # Normalizar la consulta para que coincida con el formato de los embeddings.\n",
    "    consulta_normalizada = normalize_text_sql(consulta)\n",
    "    logging.debug(f\"Consulta normalizada: {consulta_normalizada}\")\n",
    "    \n",
    "    try:\n",
    "        base_query = \"\"\"\n",
    "        WITH resultados_vector AS (\n",
    "            SELECT \n",
    "                base.content AS nombre_coche,\n",
    "                base.mecanica,\n",
    "                base.price,\n",
    "                base.KM,\n",
    "                base.year,\n",
    "                base.image_url,\n",
    "                search_result.distance\n",
    "            FROM VECTOR_SEARCH(\n",
    "                TABLE `web_cars.coches_embeddingsV1`,\n",
    "                'ml_generate_embedding_result',\n",
    "                (SELECT * FROM ML.GENERATE_EMBEDDING(\n",
    "                    MODEL `thecarmentor-mvp2.mymodel.modelembedding`,\n",
    "                    (SELECT @consulta AS content),\n",
    "                    STRUCT(TRUE AS flatten_json_output, 'SEMANTIC_SIMILARITY' AS task_type, 768 AS output_dimensionality)\n",
    "                )),\n",
    "                'ml_generate_embedding_result',\n",
    "                top_k => 6\n",
    "            ) AS search_result\n",
    "        )\n",
    "        SELECT * FROM resultados_vector\n",
    "        WHERE 1=1\n",
    "        \"\"\"\n",
    "        \n",
    "        # Inicializar lista de condiciones y parámetros\n",
    "        query_conditions = []\n",
    "        # Usamos la consulta normalizada para la generación del embedding\n",
    "        query_parameters = [bigquery.ScalarQueryParameter(\"consulta\", \"STRING\", consulta_normalizada)]\n",
    "        \n",
    "        # Agregar condiciones dinámicamente según los filtros proporcionados\n",
    "        if filtros:\n",
    "            if 'precio_max' in filtros:\n",
    "                query_conditions.append(\"price <= @precio_max\")\n",
    "                query_parameters.append(bigquery.ScalarQueryParameter(\"precio_max\", \"INT64\", filtros[\"precio_max\"]))\n",
    "            if 'precio_min' in filtros:\n",
    "                query_conditions.append(\"price >= @precio_min\")\n",
    "                query_parameters.append(bigquery.ScalarQueryParameter(\"precio_min\", \"INT64\", filtros[\"precio_min\"]))\n",
    "            if 'year_min' in filtros:\n",
    "                query_conditions.append(\"year >= @year_min\")\n",
    "                query_parameters.append(bigquery.ScalarQueryParameter(\"year_min\", \"INT64\", filtros[\"year_min\"]))\n",
    "            if 'km_max' in filtros:\n",
    "                query_conditions.append(\"KM <= @km_max\")\n",
    "                query_parameters.append(bigquery.ScalarQueryParameter(\"km_max\", \"INT64\", filtros[\"km_max\"]))\n",
    "\n",
    "        # Si hay filtros, agregarlos a la consulta\n",
    "        # if query_conditions:\n",
    "        #     base_query += \" AND \" + \" AND \".join(query_conditions)\n",
    "        if query_conditions:\n",
    "            base_query += \" \" + \" AND \".join(query_conditions)\n",
    "\n",
    "\n",
    "        logging.debug(f\"Consulta SQL generada: {base_query}\")\n",
    "        logging.debug(f\"Parámetros de consulta: {query_parameters}\")\n",
    "\n",
    "        # Ejecutar la consulta\n",
    "        query_job = client.query(\n",
    "            base_query, \n",
    "            job_config=bigquery.QueryJobConfig(query_parameters=query_parameters)\n",
    "        )\n",
    "        results = query_job.result().to_dataframe()\n",
    "        # Ordenar los resultados por similitud\n",
    "        if not results.empty:\n",
    "            results = results.sort_values(by=\"distance\", ascending=True)\n",
    "\n",
    "        if results.empty:\n",
    "            return [{\"error\": \"No se encontraron resultados para la consulta y los filtros aplicados.\"}]\n",
    "            \n",
    "        formatted_results = [\n",
    "            {\n",
    "                \"nombre_coche\": row[\"nombre_coche\"],\n",
    "                \"mecanica\": row[\"mecanica\"],\n",
    "                \"precio\": row[\"price\"],\n",
    "                \"kilometros\": row[\"KM\"],\n",
    "                \"año\": row[\"year\"],\n",
    "                \"imagen\": row[\"image_url\"],\n",
    "                \"similitud\": round(row[\"distance\"], 2)\n",
    "            }\n",
    "            for _, row in results.iterrows()\n",
    "        ]\n",
    "        return formatted_results\n",
    "\n",
    "    except Exception as e:\n",
    "        logging.error(f\"Error al ejecutar la consulta: {e}\", exc_info=True)\n",
    "        return [{\"error\": \"No se pudieron encontrar resultados.\"}]\n",
    "\n",
    "# Definir herramientas\n",
    "# tools = [buscar_producto_bd]\n",
    "\n",
    "\n",
    "\n",
    "# Actualizar lista de herramientas\n",
    "tools = [buscar_producto_bd]\n",
    "llm_with_tools = llm.bind_tools(tools, parallel_tool_calls=True)\n"
   ]
  },
  {
   "cell_type": "code",
   "execution_count": null,
   "metadata": {},
   "outputs": [],
   "source": [
    "\n",
    "sys_msg = SystemMessage(content=\"\"\"Eres Mentor, un util y experto en la busqueda de coches.\n",
    "INSTRUCCIONES IMPORTANTES:\n",
    "**Antes de hacer una búsqueda en la base de datos, analiza la consulta y extrae solo la información clave.**  \n",
    "   - Si el usuario menciona un coche, filtra la consulta para obtener solo **la marca, modelo, versión, tipo de motorización y año**.\n",
    "   - **No incluyas frases completas del usuario como búsqueda.**  \n",
    "   - **No pases palabras como \"quiero\", \"busco\", \"auto\", \"coche\", \"modelo\", \"año\" si no son parte del nombre oficial del coche.**\n",
    "   - **Ejemplo:**  \n",
    "     - Entrada: `\"quiero coche bmw serie 1 120d hibrido año 2024\"`  \n",
    "     - **Consulta que debes generar:** `\"bmw serie 1 120d hibrido 2024\"`\n",
    "\n",
    "**Definiendo Preferencias**\n",
    "   - Para dar recomendaciones acertadas, puedes pedir al usuario que proporcione detalles sobre lo que busca:\n",
    "     • ¿Tienes una **marca** preferida?\n",
    "     • ¿Cuál es tu **presupuesto máximo**? (Opcional)\n",
    "     • ¿Te importa el **kilometraje máximo**? (Opcional)\n",
    "     • ¿Qué **años de antigüedad** son aceptables? (Opcional)\n",
    "\n",
    "**Presentación de Resultados**\n",
    "    - Aplica los filtros pero muestra también alguna alternativa fuera de los filtros si es muy relevante\n",
    "    Usa este formato para cada coche encontrado: \n",
    "    ### [Modelo]\n",
    "    ![Imagen del vehículo]([url_imagen])\n",
    "     - **Precio:** [precio]€\n",
    "     - **Kilómetros:** [km] km\n",
    "     - **Mecánica:** [tipo]\n",
    "     - **Año:** [year]\n",
    "     - **Similitud con tu búsqueda:** [score]\n",
    " \n",
    "** Ajustes**\n",
    "   - Si no encuentras lo que buscas, dime si quieres:\n",
    "   - Aumentar el **presupuesto** para ver modelos más recientes.\n",
    "   - Ampliar el **kilometraje permitido** para más opciones.\n",
    "   - Incluir **otros años** para expandir la búsqueda.\n",
    "   \n",
    "**Información Adicional**\n",
    "   -usa la herramienta `buscar_info_adicional` para obtener información actualizada sobre un modelo específico de coche.\n",
    "   - **Ejemplo:** `buscar_info_adicional(\"que caracteristicas tiene el BMW 320d 2019\")`\n",
    "\"\"\")\n",
    "# - También puedo **comparar dos coches** si tienes modelos específicos en mente.\n",
    "def assistant(state: MessagesState):\n",
    "    \"\"\"\n",
    "    Función principal del asistente invocando una búsqueda.\n",
    "    \"\"\"\n",
    "    return {\"messages\": [llm_with_tools.invoke([sys_msg] + state[\"messages\"])]}\n",
    "\n",
    "\n",
    "#    user_input = state[\"messages\"][-1].content  # Último mensaje del usuario\n",
    "# if detect_comparison_intent(user_input):\n",
    "#         car1, car2 = extract_car_models_llm(user_input)\n",
    "#         if car1 and car2:\n",
    "#             car1_data, car2_data = obtener_datos_comparacion(car1, car2)\n",
    "#             return {\"messages\": [comparar_coches_llm(car1_data, car2_data)]}\n",
    "#         else:\n",
    "#             return {\"messages\": [\"No pude identificar claramente los coches a comparar. ¿Podrías mencionarlos nuevamente?\"]}\n"
   ]
  },
  {
   "cell_type": "code",
   "execution_count": null,
   "metadata": {},
   "outputs": [],
   "source": [
    "memory = MemorySaver()\n",
    "\n",
    "# Graph\n",
    "graph = StateGraph(MessagesState)\n",
    "\n",
    "# Define nodes: these do the work\n",
    "graph.add_node(\"assistant\", assistant)\n",
    "graph.add_node(\"tools\", ToolNode(tools))\n",
    "\n",
    "# Define edges: these determine how the control flow moves\n",
    "graph.add_edge(START, \"assistant\")\n",
    "graph.add_conditional_edges(\n",
    "    \"assistant\",\n",
    "    lambda state: logging.debug(f\"tools_condition evalúa: {tools_condition(state)}\") or tools_condition(state)\n",
    ")\n",
    "    # If the latest message (result) from assistant is a tool call -> tools_condition routes to tools\n",
    "    # If the latest message (result) from assistant is a not a tool call -> tools_condition routes to END\n",
    "#     tools_condition,\n",
    "# )\n",
    "graph.add_edge(\"tools\", \"assistant\")\n",
    "graph = graph.compile(checkpointer=memory)\n",
    "# Show\n",
    "display(Image(graph.get_graph(xray=True).draw_mermaid_png()))"
   ]
  },
  {
   "cell_type": "code",
   "execution_count": null,
   "metadata": {},
   "outputs": [],
   "source": [
    "# Start conversation, again\n",
    "config = {\"configurable\": {\"thread_id\": \"1\"}}\n",
    "\n",
    "# Specify an input\n",
    "input_message = HumanMessage(content=\"quiero coche bmw serie 1 120d hibrido año 2024\")\n",
    "output = graph.invoke({\"messages\": input_message}, config)\n",
    "\n",
    "# Mostrar los mensajes resultantes del primer paso\n",
    "for m in output[\"messages\"]:\n",
    "    m.pretty_print()"
   ]
  },
  {
   "cell_type": "code",
   "execution_count": null,
   "metadata": {},
   "outputs": [],
   "source": [
    "# Start conversation, again\n",
    "config = {\"configurable\": {\"thread_id\": \"1\"}}\n",
    "\n",
    "# Specify an input\n",
    "input_message = HumanMessage(content=\"kilometraje 50.000 y presupuesto no importa, muestrame todas las opciones\")\n",
    "output = graph.invoke({\"messages\": input_message}, config)\n",
    "\n",
    "# Mostrar los mensajes resultantes del primer paso\n",
    "for m in output[\"messages\"]:\n",
    "    m.pretty_print()"
   ]
  },
  {
   "cell_type": "code",
   "execution_count": null,
   "metadata": {},
   "outputs": [],
   "source": [
    "# Start conversation, again\n",
    "config = {\"configurable\": {\"thread_id\": \"1\"}}\n",
    "\n",
    "# Specify an input\n",
    "input_message = HumanMessage(content=\"podrias darme las caracteristicas del bmw serie 1 118i 2024 diesel\")\n",
    "output = graph.invoke({\"messages\": input_message}, config)\n",
    "\n",
    "# Mostrar los mensajes resultantes del primer paso\n",
    "for m in output[\"messages\"]:\n",
    "    m.pretty_print()"
   ]
  },
  {
   "cell_type": "code",
   "execution_count": null,
   "metadata": {},
   "outputs": [],
   "source": [
    "# Start conversation, again\n",
    "config = {\"configurable\": {\"thread_id\": \"1\"}}\n",
    "\n",
    "# Specify an input\n",
    "input_message = HumanMessage(content=\"si, dame las caracteristicas del El 118i a gasolina\")\n",
    "output = graph.invoke({\"messages\": input_message}, config)\n",
    "\n",
    "# Mostrar los mensajes resultantes del primer paso\n",
    "for m in output[\"messages\"]:\n",
    "    m.pretty_print()"
   ]
  },
  {
   "cell_type": "code",
   "execution_count": null,
   "metadata": {},
   "outputs": [],
   "source": [
    "# Start conversation, again\n",
    "config = {\"configurable\": {\"thread_id\": \"2\"}}\n",
    "\n",
    "# Specify an input\n",
    "input_message = HumanMessage(content=\"quiero un coche kia sportage a gasolina, puede ser año 2011 a 2020 y no importa el kilometraje\")\n",
    "output = graph.invoke({\"messages\": input_message}, config)\n",
    "\n",
    "# Mostrar los mensajes resultantes del primer paso\n",
    "for m in output[\"messages\"]:\n",
    "    m.pretty_print()"
   ]
  },
  {
   "cell_type": "code",
   "execution_count": null,
   "metadata": {},
   "outputs": [],
   "source": [
    "# Start conversation\n",
    "config = {\"configurable\": {\"thread_id\": \"2\"}}\n",
    "\n",
    "# Specify an input\n",
    "input_message = HumanMessage(content=\"maximo 25.000 euros\")\n",
    "output = graph.invoke({\"messages\": input_message}, config)\n",
    "\n",
    "# Mostrar los mensajes resultantes del primer paso\n",
    "for m in output[\"messages\"]:\n",
    "    m.pretty_print()"
   ]
  },
  {
   "cell_type": "code",
   "execution_count": null,
   "metadata": {},
   "outputs": [],
   "source": [
    "config = {\"configurable\": {\"thread_id\": \"3\"}}\n",
    "\n",
    "# Specify an input\n",
    "input_message = HumanMessage(content=\"Mentor quiero un coche familiar, me podrias recomendar alguno?\")\n",
    "output = graph.invoke({\"messages\": input_message}, config)\n",
    "\n",
    "# Mostrar los mensajes resultantes del primer paso\n",
    "for m in output[\"messages\"]:\n",
    "    m.pretty_print()"
   ]
  },
  {
   "cell_type": "code",
   "execution_count": null,
   "metadata": {},
   "outputs": [],
   "source": [
    "# Start conversation, again\n",
    "config = {\"configurable\": {\"thread_id\": \"3\"}}\n",
    "\n",
    "# Specify an input\n",
    "input_message = HumanMessage(content=\"segun tu conocimiento que me recomiendas?\")\n",
    "output = graph.invoke({\"messages\": input_message}, config)\n",
    "\n",
    "# Mostrar los mensajes resultantes del primer paso\n",
    "for m in output[\"messages\"]:\n",
    "    m.pretty_print()"
   ]
  },
  {
   "cell_type": "code",
   "execution_count": null,
   "metadata": {},
   "outputs": [],
   "source": [
    "# Start conversation, again\n",
    "config = {\"configurable\": {\"thread_id\": \"3\"}}\n",
    "\n",
    "# Specify an input\n",
    "input_message = HumanMessage(content=\"pues SUV estaria bien y presupuesto hasta  12.000\")\n",
    "output = graph.invoke({\"messages\": input_message}, config)\n",
    "\n",
    "# Mostrar los mensajes resultantes del primer paso\n",
    "for m in output[\"messages\"]:\n",
    "    m.pretty_print()"
   ]
  },
  {
   "cell_type": "code",
   "execution_count": null,
   "metadata": {},
   "outputs": [],
   "source": [
    "# Start conversation, again\n",
    "config = {\"configurable\": {\"thread_id\": \"3\"}}\n",
    "\n",
    "# Specify an input\n",
    "input_message = HumanMessage(content=\"diesel o gasolina esta bien\")\n",
    "output = graph.invoke({\"messages\": input_message}, config)\n",
    "\n",
    "# Mostrar los mensajes resultantes del primer paso\n",
    "for m in output[\"messages\"]:\n",
    "    m.pretty_print()"
   ]
  },
  {
   "cell_type": "code",
   "execution_count": null,
   "metadata": {},
   "outputs": [],
   "source": [
    "# Start conversation, again\n",
    "config = {\"configurable\": {\"thread_id\": \"3\"}}\n",
    "\n",
    "# Specify an input\n",
    "input_message = HumanMessage(content=\"vale maximo 10 años\")\n",
    "output = graph.invoke({\"messages\": input_message}, config)\n",
    "\n",
    "# Mostrar los mensajes resultantes del primer paso\n",
    "for m in output[\"messages\"]:\n",
    "    m.pretty_print()"
   ]
  }
 ],
 "metadata": {
  "kernelspec": {
   "display_name": "car_env",
   "language": "python",
   "name": "python3"
  },
  "language_info": {
   "codemirror_mode": {
    "name": "ipython",
    "version": 3
   },
   "file_extension": ".py",
   "mimetype": "text/x-python",
   "name": "python",
   "nbconvert_exporter": "python",
   "pygments_lexer": "ipython3",
   "version": "3.11.5"
  }
 },
 "nbformat": 4,
 "nbformat_minor": 2
}
