{
 "cells": [
  {
   "cell_type": "markdown",
   "metadata": {},
   "source": [
    "# Creacion del Grafo"
   ]
  },
  {
   "cell_type": "code",
   "execution_count": 1,
   "metadata": {},
   "outputs": [
    {
     "name": "stdout",
     "output_type": "stream",
     "text": [
      "INFO ► Compilando el grafo...\n",
      "INFO ► Grafo compilado exitosamente.\n"
     ]
    }
   ],
   "source": [
    "from langchain_core.messages import SystemMessage, HumanMessage\n",
    "from IPython.display import Image, display\n",
    "from graph.perfil.builder import build_sequential_agent_graph\n",
    "# Construir el grafo\n",
    "graph = build_sequential_agent_graph()\n",
    "#display(Image(graph.get_graph(xray=True).draw_mermaid_png()))\n",
    "\n",
    "\n"
   ]
  },
  {
   "cell_type": "markdown",
   "metadata": {},
   "source": [
    "## Prueba 1"
   ]
  },
  {
   "cell_type": "code",
   "execution_count": 2,
   "metadata": {},
   "outputs": [
    {
     "name": "stdout",
     "output_type": "stream",
     "text": [
      "--- Ejecutando Nodo: route_based_on_state_node ---\n",
      "\n",
      "--- DEBUG: Evaluating Routing Decision ---\n",
      "DEBUG Router: CP OK? False\n",
      "--- DEBUG CHECK PERFIL ---\n",
      "Input prefs object: None\n",
      "Input prefs type: <class 'NoneType'>\n",
      "DEBUG Router: Prefs OK? False\n",
      "DEBUG Router: Pasajeros OK? False\n",
      "DEBUG (Validation Filtros) ► Objeto FiltrosInferidos es None.\n",
      "DEBUG Router: Filtros OK? False\n",
      "--- DEBUG CHECK ECONOMIA (Manual) ---\n",
      "Input econ object: None\n",
      "DEBUG (Validation Economía Manual) ► Objeto EconomiaUsuario es None.\n",
      "DEBUG Router: Economía OK? False\n",
      "DEBUG Router: Pesos Calculados? False\n",
      "DEBUG Router: Coches Buscados? False\n",
      "DEBUG Router: Decisión -> recopilar_cp (Etapa CP no completada)\n",
      "--- Ejecutando Nodo: recopilar_cp_node ---\n",
      "DEBUG (CP) ► Respuesta llm_cp_extractor: codigo_postal_extraido='12320' tipo_mensaje='CP_OBTENIDO' contenido_mensaje=''\n",
      "DEBUG (CP) ► CP extraído por LLM: '12320', Tipo Mensaje: 'CP_OBTENIDO'\n",
      "--- Ejecutando Nodo: validar_cp_node ---\n",
      "DEBUG (CP Validation) ► CP '12320' parece válido. Procediendo a buscar clima.\n",
      "--- Evaluando Condición: ruta_decision_cp ---\n",
      "DEBUG (Condición CP) ► CP válido/omitido. Procediendo a buscar clima.\n",
      "--- Ejecutando Nodo: buscar_info_clima_node ---\n",
      "DEBUG (Clima) ► Buscando datos climáticos para CP: 12320\n",
      "DEBUG (BQ Clima) ► Query: \n",
      "        SELECT\n",
      "            EXISTS(SELECT 1 FROM `thecarmentor-mvp2.web_cars.zonas_climas` WHERE MUNICIPIO_ZBE = @cp_param) AS MUNICIPIO_ZBE,\n",
      "       EXISTS(SELECT 1 FROM `thecarmentor-mvp2.web_cars.zonas_climas` WHERE ZONA_LLUVIAS = @cp_param) AS ZONA_LLUVIAS,\n",
      "       EXISTS(SELECT 1 FROM `thecarmentor-mvp2.web_cars.zonas_climas` WHERE ZONA_NIEBLAS = @cp_param) AS ZONA_NIEBLAS,\n",
      "       EXISTS(SELECT 1 FROM `thecarmentor-mvp2.web_cars.zonas_climas` WHERE ZONA_NIEVE = @cp_param) AS ZONA_NIEVE,\n",
      "       EXISTS(SELECT 1 FROM `thecarmentor-mvp2.web_cars.zonas_climas` WHERE ZONA_CLIMA_MONTA = @cp_param) AS ZONA_CLIMA_MONTA,\n",
      "       EXISTS(SELECT 1 FROM `thecarmentor-mvp2.web_cars.zonas_climas` WHERE ZONA_GLP = @cp_param) AS ZONA_GLP,\n",
      "       EXISTS(SELECT 1 FROM `thecarmentor-mvp2.web_cars.zonas_climas` WHERE ZONA_GNV = @cp_param) AS ZONA_GNV\n",
      "        \n",
      "DEBUG (BQ Clima) ► Params: 12320\n",
      "DEBUG (Clima) ► Datos climáticos encontrados: {'MUNICIPIO_ZBE': False, 'ZONA_LLUVIAS': False, 'ZONA_NIEBLAS': False, 'ZONA_NIEVE': False, 'ZONA_CLIMA_MONTA': False, 'ZONA_GLP': False, 'ZONA_GNV': False, 'cp_valido_encontrado': True, 'codigo_postal_consultado': '12320'}\n",
      "--- Ejecutando Nodo: recopilar_preferencias_node ---\n",
      "--- Ejecutando Nodo: validar_preferencias_node ---\n",
      "--- DEBUG CHECK PERFIL ---\n",
      "Input prefs object: apasionado_motor=None valora_estetica=None coche_principal_hogar=None frecuencia_uso=None distancia_trayecto=None realiza_viajes_largos=None frecuencia_viajes_largos=None circula_principalmente_ciudad=None uso_profesional=None tipo_uso_profesional=None prefiere_diseno_exclusivo=None altura_mayor_190=None peso_mayor_100=None transporta_carga_voluminosa=None necesita_espacio_objetos_especiales=None arrastra_remolque=None tiene_garage=None problemas_aparcar_calle=None espacio_sobra_garage=None problema_dimension_garage=None tiene_punto_carga_propio=None aventura=None estilo_conduccion=None solo_electricos=None prioriza_baja_depreciacion=None transmision_preferida=None rating_fiabilidad_durabilidad=None rating_seguridad=None rating_comodidad=None rating_impacto_ambiental=None rating_tecnologia_conectividad=None rating_costes_uso=None\n",
      "Input prefs type: <class 'graph.perfil.state.PerfilUsuario'>\n",
      "DEBUG (Validation Perfil) ► Campo 'apasionado_motor' está vacío/None.\n",
      "DEBUG (Perfil) ► Validación: PerfilUsuario considerado INCOMPLETO.\n",
      "--- Evaluando Condición: ruta_decision_perfil ---\n",
      "DEBUG (Condición Perfil) ► Estado 'preferencias_usuario' recibido: apasionado_motor=None valora_estetica=None coche_principal_hogar=None frecuencia_uso=None distancia_trayecto=None realiza_viajes_largos=None frecuencia_viajes_largos=None circula_principalmente_ciudad=None uso_profesional=None tipo_uso_profesional=None prefiere_diseno_exclusivo=None altura_mayor_190=None peso_mayor_100=None transporta_carga_voluminosa=None necesita_espacio_objetos_especiales=None arrastra_remolque=None tiene_garage=None problemas_aparcar_calle=None espacio_sobra_garage=None problema_dimension_garage=None tiene_punto_carga_propio=None aventura=None estilo_conduccion=None solo_electricos=None prioriza_baja_depreciacion=None transmision_preferida=None rating_fiabilidad_durabilidad=None rating_seguridad=None rating_comodidad=None rating_impacto_ambiental=None rating_tecnologia_conectividad=None rating_costes_uso=None\n",
      "DEBUG (Condición Perfil) ► Tipo de 'preferencias_usuario': <class 'graph.perfil.state.PerfilUsuario'>\n",
      "--- DEBUG CHECK PERFIL ---\n",
      "Input prefs object: apasionado_motor=None valora_estetica=None coche_principal_hogar=None frecuencia_uso=None distancia_trayecto=None realiza_viajes_largos=None frecuencia_viajes_largos=None circula_principalmente_ciudad=None uso_profesional=None tipo_uso_profesional=None prefiere_diseno_exclusivo=None altura_mayor_190=None peso_mayor_100=None transporta_carga_voluminosa=None necesita_espacio_objetos_especiales=None arrastra_remolque=None tiene_garage=None problemas_aparcar_calle=None espacio_sobra_garage=None problema_dimension_garage=None tiene_punto_carga_propio=None aventura=None estilo_conduccion=None solo_electricos=None prioriza_baja_depreciacion=None transmision_preferida=None rating_fiabilidad_durabilidad=None rating_seguridad=None rating_comodidad=None rating_impacto_ambiental=None rating_tecnologia_conectividad=None rating_costes_uso=None\n",
      "Input prefs type: <class 'graph.perfil.state.PerfilUsuario'>\n",
      "DEBUG (Validation Perfil) ► Campo 'apasionado_motor' está vacío/None.\n",
      "DEBUG (Condición Perfil) ► Perfil INCOMPLETO. Se necesita pregunta.\n",
      "--- Ejecutando Nodo: preguntar_preferencias_node ---\n",
      "--- DEBUG CHECK PERFIL ---\n",
      "Input prefs object: apasionado_motor=None valora_estetica=None coche_principal_hogar=None frecuencia_uso=None distancia_trayecto=None realiza_viajes_largos=None frecuencia_viajes_largos=None circula_principalmente_ciudad=None uso_profesional=None tipo_uso_profesional=None prefiere_diseno_exclusivo=None altura_mayor_190=None peso_mayor_100=None transporta_carga_voluminosa=None necesita_espacio_objetos_especiales=None arrastra_remolque=None tiene_garage=None problemas_aparcar_calle=None espacio_sobra_garage=None problema_dimension_garage=None tiene_punto_carga_propio=None aventura=None estilo_conduccion=None solo_electricos=None prioriza_baja_depreciacion=None transmision_preferida=None rating_fiabilidad_durabilidad=None rating_seguridad=None rating_comodidad=None rating_impacto_ambiental=None rating_tecnologia_conectividad=None rating_costes_uso=None\n",
      "Input prefs type: <class 'graph.perfil.state.PerfilUsuario'>\n",
      "DEBUG (Validation Perfil) ► Campo 'apasionado_motor' está vacío/None.\n",
      "DEBUG (Preguntar Perfil) ► Perfil aún INCOMPLETO según checker.\n",
      "DEBUG (Preguntar Perfil) ► Pregunta fallback generada: ¿Te consideras una persona entusiasta del mundo del motor y la tecnología automotriz?\n",
      "DEBUG (Preguntar Perfil) ► Usando mensaje pendiente (pregunta LLM): vamos a encontrar el coche que mejor se adapte a tus necesidades, dime, ¿consideras que eres un apasionado del mundo automotriz?\n",
      "DEBUG (Preguntar Perfil) ► Mensaje final añadido: vamos a encontrar el coche que mejor se adapte a tus necesidades, dime, ¿consideras que eres un apasionado del mundo automotriz?\n",
      "==================================\u001b[1m Ai Message \u001b[0m==================================\n",
      "\n",
      "vamos a encontrar el coche que mejor se adapte a tus necesidades, dime, ¿consideras que eres un apasionado del mundo automotriz?\n"
     ]
    }
   ],
   "source": [
    "config = {\"configurable\": {\"thread_id\": \"1\"}}\n",
    "input_message = HumanMessage(content=\"Hola mi CP es 12320\")\n",
    "output = graph.invoke({\"messages\": [input_message]}, config) \n",
    "for m in output['messages'][-1:]:\n",
    "    m.pretty_print()"
   ]
  },
  {
   "cell_type": "code",
   "execution_count": 3,
   "metadata": {},
   "outputs": [
    {
     "name": "stdout",
     "output_type": "stream",
     "text": [
      "--- Ejecutando Nodo: route_based_on_state_node ---\n",
      "\n",
      "--- DEBUG: Evaluating Routing Decision ---\n",
      "DEBUG Router: CP OK? True\n",
      "--- DEBUG CHECK PERFIL ---\n",
      "Input prefs object: apasionado_motor=None valora_estetica=None coche_principal_hogar=None frecuencia_uso=None distancia_trayecto=None realiza_viajes_largos=None frecuencia_viajes_largos=None circula_principalmente_ciudad=None uso_profesional=None tipo_uso_profesional=None prefiere_diseno_exclusivo=None altura_mayor_190=None peso_mayor_100=None transporta_carga_voluminosa=None necesita_espacio_objetos_especiales=None arrastra_remolque=None tiene_garage=None problemas_aparcar_calle=None espacio_sobra_garage=None problema_dimension_garage=None tiene_punto_carga_propio=None aventura=None estilo_conduccion=None solo_electricos=None prioriza_baja_depreciacion=None transmision_preferida=None rating_fiabilidad_durabilidad=None rating_seguridad=None rating_comodidad=None rating_impacto_ambiental=None rating_tecnologia_conectividad=None rating_costes_uso=None\n",
      "Input prefs type: <class 'graph.perfil.state.PerfilUsuario'>\n",
      "DEBUG (Validation Perfil) ► Campo 'apasionado_motor' está vacío/None.\n",
      "DEBUG Router: Prefs OK? False\n",
      "DEBUG Router: Pasajeros OK? False\n",
      "DEBUG (Validation Filtros) ► Objeto FiltrosInferidos es None.\n",
      "DEBUG Router: Filtros OK? False\n",
      "--- DEBUG CHECK ECONOMIA (Manual) ---\n",
      "Input econ object: None\n",
      "DEBUG (Validation Economía Manual) ► Objeto EconomiaUsuario es None.\n",
      "DEBUG Router: Economía OK? False\n",
      "DEBUG Router: Pesos Calculados? False\n",
      "DEBUG Router: Coches Buscados? False\n",
      "--- DEBUG CHECK PERFIL ---\n",
      "Input prefs object: apasionado_motor=None valora_estetica=None coche_principal_hogar=None frecuencia_uso=None distancia_trayecto=None realiza_viajes_largos=None frecuencia_viajes_largos=None circula_principalmente_ciudad=None uso_profesional=None tipo_uso_profesional=None prefiere_diseno_exclusivo=None altura_mayor_190=None peso_mayor_100=None transporta_carga_voluminosa=None necesita_espacio_objetos_especiales=None arrastra_remolque=None tiene_garage=None problemas_aparcar_calle=None espacio_sobra_garage=None problema_dimension_garage=None tiene_punto_carga_propio=None aventura=None estilo_conduccion=None solo_electricos=None prioriza_baja_depreciacion=None transmision_preferida=None rating_fiabilidad_durabilidad=None rating_seguridad=None rating_comodidad=None rating_impacto_ambiental=None rating_tecnologia_conectividad=None rating_costes_uso=None\n",
      "Input prefs type: <class 'graph.perfil.state.PerfilUsuario'>\n",
      "DEBUG (Validation Perfil) ► Campo 'apasionado_motor' está vacío/None.\n",
      "DEBUG Router: Decisión -> recopilar_preferencias\n",
      "--- Ejecutando Nodo: recopilar_preferencias_node ---\n",
      "--- Ejecutando Nodo: validar_preferencias_node ---\n",
      "--- DEBUG CHECK PERFIL ---\n",
      "Input prefs object: apasionado_motor='no' valora_estetica=None coche_principal_hogar=None frecuencia_uso=None distancia_trayecto=None realiza_viajes_largos=None frecuencia_viajes_largos=None circula_principalmente_ciudad=None uso_profesional=None tipo_uso_profesional=None prefiere_diseno_exclusivo=None altura_mayor_190=None peso_mayor_100=None transporta_carga_voluminosa=None necesita_espacio_objetos_especiales=None arrastra_remolque=None tiene_garage=None problemas_aparcar_calle=None espacio_sobra_garage=None problema_dimension_garage=None tiene_punto_carga_propio=None aventura=None estilo_conduccion=None solo_electricos=None prioriza_baja_depreciacion=None transmision_preferida=None rating_fiabilidad_durabilidad=None rating_seguridad=None rating_comodidad=None rating_impacto_ambiental=None rating_tecnologia_conectividad=None rating_costes_uso=None\n",
      "Input prefs type: <class 'graph.perfil.state.PerfilUsuario'>\n",
      "DEBUG (Validation Perfil) ► Campo 'valora_estetica' está vacío/None.\n",
      "DEBUG (Perfil) ► Validación: PerfilUsuario considerado INCOMPLETO.\n",
      "--- Evaluando Condición: ruta_decision_perfil ---\n",
      "DEBUG (Condición Perfil) ► Estado 'preferencias_usuario' recibido: apasionado_motor='no' valora_estetica=None coche_principal_hogar=None frecuencia_uso=None distancia_trayecto=None realiza_viajes_largos=None frecuencia_viajes_largos=None circula_principalmente_ciudad=None uso_profesional=None tipo_uso_profesional=None prefiere_diseno_exclusivo=None altura_mayor_190=None peso_mayor_100=None transporta_carga_voluminosa=None necesita_espacio_objetos_especiales=None arrastra_remolque=None tiene_garage=None problemas_aparcar_calle=None espacio_sobra_garage=None problema_dimension_garage=None tiene_punto_carga_propio=None aventura=None estilo_conduccion=None solo_electricos=None prioriza_baja_depreciacion=None transmision_preferida=None rating_fiabilidad_durabilidad=None rating_seguridad=None rating_comodidad=None rating_impacto_ambiental=None rating_tecnologia_conectividad=None rating_costes_uso=None\n",
      "DEBUG (Condición Perfil) ► Tipo de 'preferencias_usuario': <class 'graph.perfil.state.PerfilUsuario'>\n",
      "--- DEBUG CHECK PERFIL ---\n",
      "Input prefs object: apasionado_motor='no' valora_estetica=None coche_principal_hogar=None frecuencia_uso=None distancia_trayecto=None realiza_viajes_largos=None frecuencia_viajes_largos=None circula_principalmente_ciudad=None uso_profesional=None tipo_uso_profesional=None prefiere_diseno_exclusivo=None altura_mayor_190=None peso_mayor_100=None transporta_carga_voluminosa=None necesita_espacio_objetos_especiales=None arrastra_remolque=None tiene_garage=None problemas_aparcar_calle=None espacio_sobra_garage=None problema_dimension_garage=None tiene_punto_carga_propio=None aventura=None estilo_conduccion=None solo_electricos=None prioriza_baja_depreciacion=None transmision_preferida=None rating_fiabilidad_durabilidad=None rating_seguridad=None rating_comodidad=None rating_impacto_ambiental=None rating_tecnologia_conectividad=None rating_costes_uso=None\n",
      "Input prefs type: <class 'graph.perfil.state.PerfilUsuario'>\n",
      "DEBUG (Validation Perfil) ► Campo 'valora_estetica' está vacío/None.\n",
      "DEBUG (Condición Perfil) ► Perfil INCOMPLETO. Se necesita pregunta.\n",
      "--- Ejecutando Nodo: preguntar_preferencias_node ---\n",
      "--- DEBUG CHECK PERFIL ---\n",
      "Input prefs object: apasionado_motor='no' valora_estetica=None coche_principal_hogar=None frecuencia_uso=None distancia_trayecto=None realiza_viajes_largos=None frecuencia_viajes_largos=None circula_principalmente_ciudad=None uso_profesional=None tipo_uso_profesional=None prefiere_diseno_exclusivo=None altura_mayor_190=None peso_mayor_100=None transporta_carga_voluminosa=None necesita_espacio_objetos_especiales=None arrastra_remolque=None tiene_garage=None problemas_aparcar_calle=None espacio_sobra_garage=None problema_dimension_garage=None tiene_punto_carga_propio=None aventura=None estilo_conduccion=None solo_electricos=None prioriza_baja_depreciacion=None transmision_preferida=None rating_fiabilidad_durabilidad=None rating_seguridad=None rating_comodidad=None rating_impacto_ambiental=None rating_tecnologia_conectividad=None rating_costes_uso=None\n",
      "Input prefs type: <class 'graph.perfil.state.PerfilUsuario'>\n",
      "DEBUG (Validation Perfil) ► Campo 'valora_estetica' está vacío/None.\n",
      "DEBUG (Preguntar Perfil) ► Perfil aún INCOMPLETO según checker.\n",
      "DEBUG (Preguntar Perfil) ► Pregunta fallback generada: ¿La Estética es importante para ti o crees que hay factores más importantes?\n",
      "DEBUG (Preguntar Perfil) ► Usando mensaje pendiente (pregunta LLM): ¿Es importante para ti el diseño y la estética del coche, o hay otros factores que priorizas más?\n",
      "DEBUG (Preguntar Perfil) ► Mensaje final añadido: ¿Es importante para ti el diseño y la estética del coche, o hay otros factores que priorizas más?\n",
      "==================================\u001b[1m Ai Message \u001b[0m==================================\n",
      "\n",
      "¿Es importante para ti el diseño y la estética del coche, o hay otros factores que priorizas más?\n"
     ]
    }
   ],
   "source": [
    "config = {\"configurable\": {\"thread_id\": \"1\"}}\n",
    "input_message = HumanMessage(content=\"no\")\n",
    "output = graph.invoke({\"messages\": [input_message]}, config) \n",
    "for m in output['messages'][-1:]:\n",
    "    m.pretty_print()"
   ]
  },
  {
   "cell_type": "code",
   "execution_count": 4,
   "metadata": {},
   "outputs": [
    {
     "name": "stdout",
     "output_type": "stream",
     "text": [
      "--- Ejecutando Nodo: route_based_on_state_node ---\n",
      "\n",
      "--- DEBUG: Evaluating Routing Decision ---\n",
      "DEBUG Router: CP OK? True\n",
      "--- DEBUG CHECK PERFIL ---\n",
      "Input prefs object: apasionado_motor='no' valora_estetica=None coche_principal_hogar=None frecuencia_uso=None distancia_trayecto=None realiza_viajes_largos=None frecuencia_viajes_largos=None circula_principalmente_ciudad=None uso_profesional=None tipo_uso_profesional=None prefiere_diseno_exclusivo=None altura_mayor_190=None peso_mayor_100=None transporta_carga_voluminosa=None necesita_espacio_objetos_especiales=None arrastra_remolque=None tiene_garage=None problemas_aparcar_calle=None espacio_sobra_garage=None problema_dimension_garage=None tiene_punto_carga_propio=None aventura=None estilo_conduccion=None solo_electricos=None prioriza_baja_depreciacion=None transmision_preferida=None rating_fiabilidad_durabilidad=None rating_seguridad=None rating_comodidad=None rating_impacto_ambiental=None rating_tecnologia_conectividad=None rating_costes_uso=None\n",
      "Input prefs type: <class 'graph.perfil.state.PerfilUsuario'>\n",
      "DEBUG (Validation Perfil) ► Campo 'valora_estetica' está vacío/None.\n",
      "DEBUG Router: Prefs OK? False\n",
      "DEBUG Router: Pasajeros OK? False\n",
      "DEBUG (Validation Filtros) ► Objeto FiltrosInferidos es None.\n",
      "DEBUG Router: Filtros OK? False\n",
      "--- DEBUG CHECK ECONOMIA (Manual) ---\n",
      "Input econ object: None\n",
      "DEBUG (Validation Economía Manual) ► Objeto EconomiaUsuario es None.\n",
      "DEBUG Router: Economía OK? False\n",
      "DEBUG Router: Pesos Calculados? False\n",
      "DEBUG Router: Coches Buscados? False\n",
      "--- DEBUG CHECK PERFIL ---\n",
      "Input prefs object: apasionado_motor='no' valora_estetica=None coche_principal_hogar=None frecuencia_uso=None distancia_trayecto=None realiza_viajes_largos=None frecuencia_viajes_largos=None circula_principalmente_ciudad=None uso_profesional=None tipo_uso_profesional=None prefiere_diseno_exclusivo=None altura_mayor_190=None peso_mayor_100=None transporta_carga_voluminosa=None necesita_espacio_objetos_especiales=None arrastra_remolque=None tiene_garage=None problemas_aparcar_calle=None espacio_sobra_garage=None problema_dimension_garage=None tiene_punto_carga_propio=None aventura=None estilo_conduccion=None solo_electricos=None prioriza_baja_depreciacion=None transmision_preferida=None rating_fiabilidad_durabilidad=None rating_seguridad=None rating_comodidad=None rating_impacto_ambiental=None rating_tecnologia_conectividad=None rating_costes_uso=None\n",
      "Input prefs type: <class 'graph.perfil.state.PerfilUsuario'>\n",
      "DEBUG (Validation Perfil) ► Campo 'valora_estetica' está vacío/None.\n",
      "DEBUG Router: Decisión -> recopilar_preferencias\n",
      "--- Ejecutando Nodo: recopilar_preferencias_node ---\n",
      "--- Ejecutando Nodo: validar_preferencias_node ---\n",
      "--- DEBUG CHECK PERFIL ---\n",
      "Input prefs object: apasionado_motor='no' valora_estetica='no' coche_principal_hogar=None frecuencia_uso=None distancia_trayecto=None realiza_viajes_largos=None frecuencia_viajes_largos=None circula_principalmente_ciudad=None uso_profesional=None tipo_uso_profesional=None prefiere_diseno_exclusivo=None altura_mayor_190=None peso_mayor_100=None transporta_carga_voluminosa=None necesita_espacio_objetos_especiales=None arrastra_remolque=None tiene_garage=None problemas_aparcar_calle=None espacio_sobra_garage=None problema_dimension_garage=None tiene_punto_carga_propio=None aventura=None estilo_conduccion=None solo_electricos=None prioriza_baja_depreciacion=None transmision_preferida=None rating_fiabilidad_durabilidad=None rating_seguridad=None rating_comodidad=None rating_impacto_ambiental=None rating_tecnologia_conectividad=None rating_costes_uso=None\n",
      "Input prefs type: <class 'graph.perfil.state.PerfilUsuario'>\n",
      "DEBUG (Validation Perfil) ► Campo 'coche_principal_hogar' está vacío/None.\n",
      "DEBUG (Perfil) ► Validación: PerfilUsuario considerado INCOMPLETO.\n",
      "--- Evaluando Condición: ruta_decision_perfil ---\n",
      "DEBUG (Condición Perfil) ► Estado 'preferencias_usuario' recibido: apasionado_motor='no' valora_estetica='no' coche_principal_hogar=None frecuencia_uso=None distancia_trayecto=None realiza_viajes_largos=None frecuencia_viajes_largos=None circula_principalmente_ciudad=None uso_profesional=None tipo_uso_profesional=None prefiere_diseno_exclusivo=None altura_mayor_190=None peso_mayor_100=None transporta_carga_voluminosa=None necesita_espacio_objetos_especiales=None arrastra_remolque=None tiene_garage=None problemas_aparcar_calle=None espacio_sobra_garage=None problema_dimension_garage=None tiene_punto_carga_propio=None aventura=None estilo_conduccion=None solo_electricos=None prioriza_baja_depreciacion=None transmision_preferida=None rating_fiabilidad_durabilidad=None rating_seguridad=None rating_comodidad=None rating_impacto_ambiental=None rating_tecnologia_conectividad=None rating_costes_uso=None\n",
      "DEBUG (Condición Perfil) ► Tipo de 'preferencias_usuario': <class 'graph.perfil.state.PerfilUsuario'>\n",
      "--- DEBUG CHECK PERFIL ---\n",
      "Input prefs object: apasionado_motor='no' valora_estetica='no' coche_principal_hogar=None frecuencia_uso=None distancia_trayecto=None realiza_viajes_largos=None frecuencia_viajes_largos=None circula_principalmente_ciudad=None uso_profesional=None tipo_uso_profesional=None prefiere_diseno_exclusivo=None altura_mayor_190=None peso_mayor_100=None transporta_carga_voluminosa=None necesita_espacio_objetos_especiales=None arrastra_remolque=None tiene_garage=None problemas_aparcar_calle=None espacio_sobra_garage=None problema_dimension_garage=None tiene_punto_carga_propio=None aventura=None estilo_conduccion=None solo_electricos=None prioriza_baja_depreciacion=None transmision_preferida=None rating_fiabilidad_durabilidad=None rating_seguridad=None rating_comodidad=None rating_impacto_ambiental=None rating_tecnologia_conectividad=None rating_costes_uso=None\n",
      "Input prefs type: <class 'graph.perfil.state.PerfilUsuario'>\n",
      "DEBUG (Validation Perfil) ► Campo 'coche_principal_hogar' está vacío/None.\n",
      "DEBUG (Condición Perfil) ► Perfil INCOMPLETO. Se necesita pregunta.\n",
      "--- Ejecutando Nodo: preguntar_preferencias_node ---\n",
      "--- DEBUG CHECK PERFIL ---\n",
      "Input prefs object: apasionado_motor='no' valora_estetica='no' coche_principal_hogar=None frecuencia_uso=None distancia_trayecto=None realiza_viajes_largos=None frecuencia_viajes_largos=None circula_principalmente_ciudad=None uso_profesional=None tipo_uso_profesional=None prefiere_diseno_exclusivo=None altura_mayor_190=None peso_mayor_100=None transporta_carga_voluminosa=None necesita_espacio_objetos_especiales=None arrastra_remolque=None tiene_garage=None problemas_aparcar_calle=None espacio_sobra_garage=None problema_dimension_garage=None tiene_punto_carga_propio=None aventura=None estilo_conduccion=None solo_electricos=None prioriza_baja_depreciacion=None transmision_preferida=None rating_fiabilidad_durabilidad=None rating_seguridad=None rating_comodidad=None rating_impacto_ambiental=None rating_tecnologia_conectividad=None rating_costes_uso=None\n",
      "Input prefs type: <class 'graph.perfil.state.PerfilUsuario'>\n",
      "DEBUG (Validation Perfil) ► Campo 'coche_principal_hogar' está vacío/None.\n",
      "DEBUG (Preguntar Perfil) ► Perfil aún INCOMPLETO según checker.\n",
      "DEBUG (Preguntar Perfil) ► Pregunta fallback generada: ¿El coche que estamos buscando será el vehículo principal de tu hogar?.\n",
      "DEBUG (Preguntar Perfil) ► Usando mensaje pendiente (pregunta LLM): ¿Este nuevo coche se convertirá en el vehículo principal de tu hogar?\n",
      "DEBUG (Preguntar Perfil) ► Mensaje final añadido: ¿Este nuevo coche se convertirá en el vehículo principal de tu hogar?\n",
      "==================================\u001b[1m Ai Message \u001b[0m==================================\n",
      "\n",
      "¿Este nuevo coche se convertirá en el vehículo principal de tu hogar?\n"
     ]
    }
   ],
   "source": [
    "# Create a thread\n",
    "config = {\"configurable\": {\"thread_id\": \"1\"}}\n",
    "\n",
    "# Start conversation\n",
    "input_message = HumanMessage(content=\"no\")\n",
    "output = graph.invoke({\"messages\": [input_message]}, config) \n",
    "for m in output['messages'][-1:]:\n",
    "    m.pretty_print()"
   ]
  },
  {
   "cell_type": "code",
   "execution_count": 5,
   "metadata": {},
   "outputs": [
    {
     "name": "stdout",
     "output_type": "stream",
     "text": [
      "--- Ejecutando Nodo: route_based_on_state_node ---\n",
      "\n",
      "--- DEBUG: Evaluating Routing Decision ---\n",
      "DEBUG Router: CP OK? True\n",
      "--- DEBUG CHECK PERFIL ---\n",
      "Input prefs object: apasionado_motor='no' valora_estetica='no' coche_principal_hogar=None frecuencia_uso=None distancia_trayecto=None realiza_viajes_largos=None frecuencia_viajes_largos=None circula_principalmente_ciudad=None uso_profesional=None tipo_uso_profesional=None prefiere_diseno_exclusivo=None altura_mayor_190=None peso_mayor_100=None transporta_carga_voluminosa=None necesita_espacio_objetos_especiales=None arrastra_remolque=None tiene_garage=None problemas_aparcar_calle=None espacio_sobra_garage=None problema_dimension_garage=None tiene_punto_carga_propio=None aventura=None estilo_conduccion=None solo_electricos=None prioriza_baja_depreciacion=None transmision_preferida=None rating_fiabilidad_durabilidad=None rating_seguridad=None rating_comodidad=None rating_impacto_ambiental=None rating_tecnologia_conectividad=None rating_costes_uso=None\n",
      "Input prefs type: <class 'graph.perfil.state.PerfilUsuario'>\n",
      "DEBUG (Validation Perfil) ► Campo 'coche_principal_hogar' está vacío/None.\n",
      "DEBUG Router: Prefs OK? False\n",
      "DEBUG Router: Pasajeros OK? False\n",
      "DEBUG (Validation Filtros) ► Objeto FiltrosInferidos es None.\n",
      "DEBUG Router: Filtros OK? False\n",
      "--- DEBUG CHECK ECONOMIA (Manual) ---\n",
      "Input econ object: None\n",
      "DEBUG (Validation Economía Manual) ► Objeto EconomiaUsuario es None.\n",
      "DEBUG Router: Economía OK? False\n",
      "DEBUG Router: Pesos Calculados? False\n",
      "DEBUG Router: Coches Buscados? False\n",
      "--- DEBUG CHECK PERFIL ---\n",
      "Input prefs object: apasionado_motor='no' valora_estetica='no' coche_principal_hogar=None frecuencia_uso=None distancia_trayecto=None realiza_viajes_largos=None frecuencia_viajes_largos=None circula_principalmente_ciudad=None uso_profesional=None tipo_uso_profesional=None prefiere_diseno_exclusivo=None altura_mayor_190=None peso_mayor_100=None transporta_carga_voluminosa=None necesita_espacio_objetos_especiales=None arrastra_remolque=None tiene_garage=None problemas_aparcar_calle=None espacio_sobra_garage=None problema_dimension_garage=None tiene_punto_carga_propio=None aventura=None estilo_conduccion=None solo_electricos=None prioriza_baja_depreciacion=None transmision_preferida=None rating_fiabilidad_durabilidad=None rating_seguridad=None rating_comodidad=None rating_impacto_ambiental=None rating_tecnologia_conectividad=None rating_costes_uso=None\n",
      "Input prefs type: <class 'graph.perfil.state.PerfilUsuario'>\n",
      "DEBUG (Validation Perfil) ► Campo 'coche_principal_hogar' está vacío/None.\n",
      "DEBUG Router: Decisión -> recopilar_preferencias\n",
      "--- Ejecutando Nodo: recopilar_preferencias_node ---\n",
      "--- Ejecutando Nodo: validar_preferencias_node ---\n",
      "--- DEBUG CHECK PERFIL ---\n",
      "Input prefs object: apasionado_motor='no' valora_estetica='no' coche_principal_hogar='si' frecuencia_uso=None distancia_trayecto=None realiza_viajes_largos=None frecuencia_viajes_largos=None circula_principalmente_ciudad=None uso_profesional=None tipo_uso_profesional=None prefiere_diseno_exclusivo=None altura_mayor_190=None peso_mayor_100=None transporta_carga_voluminosa=None necesita_espacio_objetos_especiales=None arrastra_remolque=None tiene_garage=None problemas_aparcar_calle=None espacio_sobra_garage=None problema_dimension_garage=None tiene_punto_carga_propio=None aventura=None estilo_conduccion=None solo_electricos=None prioriza_baja_depreciacion=None transmision_preferida=None rating_fiabilidad_durabilidad=None rating_seguridad=None rating_comodidad=None rating_impacto_ambiental=None rating_tecnologia_conectividad=None rating_costes_uso=None\n",
      "Input prefs type: <class 'graph.perfil.state.PerfilUsuario'>\n",
      "DEBUG (Validation Perfil) ► Campo 'frecuencia_uso' está vacío/None.\n",
      "DEBUG (Perfil) ► Validación: PerfilUsuario considerado INCOMPLETO.\n",
      "--- Evaluando Condición: ruta_decision_perfil ---\n",
      "DEBUG (Condición Perfil) ► Estado 'preferencias_usuario' recibido: apasionado_motor='no' valora_estetica='no' coche_principal_hogar='si' frecuencia_uso=None distancia_trayecto=None realiza_viajes_largos=None frecuencia_viajes_largos=None circula_principalmente_ciudad=None uso_profesional=None tipo_uso_profesional=None prefiere_diseno_exclusivo=None altura_mayor_190=None peso_mayor_100=None transporta_carga_voluminosa=None necesita_espacio_objetos_especiales=None arrastra_remolque=None tiene_garage=None problemas_aparcar_calle=None espacio_sobra_garage=None problema_dimension_garage=None tiene_punto_carga_propio=None aventura=None estilo_conduccion=None solo_electricos=None prioriza_baja_depreciacion=None transmision_preferida=None rating_fiabilidad_durabilidad=None rating_seguridad=None rating_comodidad=None rating_impacto_ambiental=None rating_tecnologia_conectividad=None rating_costes_uso=None\n",
      "DEBUG (Condición Perfil) ► Tipo de 'preferencias_usuario': <class 'graph.perfil.state.PerfilUsuario'>\n",
      "--- DEBUG CHECK PERFIL ---\n",
      "Input prefs object: apasionado_motor='no' valora_estetica='no' coche_principal_hogar='si' frecuencia_uso=None distancia_trayecto=None realiza_viajes_largos=None frecuencia_viajes_largos=None circula_principalmente_ciudad=None uso_profesional=None tipo_uso_profesional=None prefiere_diseno_exclusivo=None altura_mayor_190=None peso_mayor_100=None transporta_carga_voluminosa=None necesita_espacio_objetos_especiales=None arrastra_remolque=None tiene_garage=None problemas_aparcar_calle=None espacio_sobra_garage=None problema_dimension_garage=None tiene_punto_carga_propio=None aventura=None estilo_conduccion=None solo_electricos=None prioriza_baja_depreciacion=None transmision_preferida=None rating_fiabilidad_durabilidad=None rating_seguridad=None rating_comodidad=None rating_impacto_ambiental=None rating_tecnologia_conectividad=None rating_costes_uso=None\n",
      "Input prefs type: <class 'graph.perfil.state.PerfilUsuario'>\n",
      "DEBUG (Validation Perfil) ► Campo 'frecuencia_uso' está vacío/None.\n",
      "DEBUG (Condición Perfil) ► Perfil INCOMPLETO. Se necesita pregunta.\n",
      "--- Ejecutando Nodo: preguntar_preferencias_node ---\n",
      "--- DEBUG CHECK PERFIL ---\n",
      "Input prefs object: apasionado_motor='no' valora_estetica='no' coche_principal_hogar='si' frecuencia_uso=None distancia_trayecto=None realiza_viajes_largos=None frecuencia_viajes_largos=None circula_principalmente_ciudad=None uso_profesional=None tipo_uso_profesional=None prefiere_diseno_exclusivo=None altura_mayor_190=None peso_mayor_100=None transporta_carga_voluminosa=None necesita_espacio_objetos_especiales=None arrastra_remolque=None tiene_garage=None problemas_aparcar_calle=None espacio_sobra_garage=None problema_dimension_garage=None tiene_punto_carga_propio=None aventura=None estilo_conduccion=None solo_electricos=None prioriza_baja_depreciacion=None transmision_preferida=None rating_fiabilidad_durabilidad=None rating_seguridad=None rating_comodidad=None rating_impacto_ambiental=None rating_tecnologia_conectividad=None rating_costes_uso=None\n",
      "Input prefs type: <class 'graph.perfil.state.PerfilUsuario'>\n",
      "DEBUG (Validation Perfil) ► Campo 'frecuencia_uso' está vacío/None.\n",
      "DEBUG (Preguntar Perfil) ► Perfil aún INCOMPLETO según checker.\n",
      "DEBUG (Preguntar Perfil) ► Pregunta fallback generada: ¿Con qué frecuencia usarás el coche?\n",
      " 💨 A diario (incluso varias veces al día)\n",
      " 🔄 Frecuentemente (varias veces por semana)\n",
      "  🕐 Ocasionalmente (pocas veces al mes)\n",
      "DEBUG (Preguntar Perfil) ► Usando mensaje pendiente (pregunta LLM): ¿Con qué frecuencia usarás el coche?\n",
      "💨  A diario (incluso varias veces al día)\n",
      "🔄  Frecuentemente (varias veces por semana)\n",
      "🕐  Ocasionalmente (pocas veces al mes)\n",
      "DEBUG (Preguntar Perfil) ► Mensaje final añadido: ¿Con qué frecuencia usarás el coche?\n",
      "💨  A diario (incluso varias veces al día)\n",
      "🔄  Frecuentemente (varias veces por semana)\n",
      "🕐  Ocasionalmente (pocas veces al mes)\n",
      "==================================\u001b[1m Ai Message \u001b[0m==================================\n",
      "\n",
      "¿Con qué frecuencia usarás el coche?\n",
      "💨  A diario (incluso varias veces al día)\n",
      "🔄  Frecuentemente (varias veces por semana)\n",
      "🕐  Ocasionalmente (pocas veces al mes)\n"
     ]
    }
   ],
   "source": [
    "# Create a thread\n",
    "config = {\"configurable\": {\"thread_id\": \"1\"}}\n",
    "\n",
    "# Start conversation\n",
    "input_message = HumanMessage(content=\"si\")\n",
    "output = graph.invoke({\"messages\": [input_message]}, config) \n",
    "for m in output['messages'][-1:]:\n",
    "    m.pretty_print()"
   ]
  },
  {
   "cell_type": "code",
   "execution_count": 6,
   "metadata": {},
   "outputs": [
    {
     "name": "stdout",
     "output_type": "stream",
     "text": [
      "apasionado_motor='no' valora_estetica='no' coche_principal_hogar=None frecuencia_uso=None distancia_trayecto=None realiza_viajes_largos=None frecuencia_viajes_largos=None circula_principalmente_ciudad=None uso_profesional=None tipo_uso_profesional=None prefiere_diseno_exclusivo=None altura_mayor_190=None peso_mayor_100=None transporta_carga_voluminosa=None necesita_espacio_objetos_especiales=None arrastra_remolque=None tiene_garage=None problemas_aparcar_calle=None espacio_sobra_garage=None problema_dimension_garage=None tiene_punto_carga_propio=None aventura=None estilo_conduccion=None solo_electricos=None prioriza_baja_depreciacion=None transmision_preferida=None rating_fiabilidad_durabilidad=None rating_seguridad=None rating_comodidad=None rating_impacto_ambiental=None rating_tecnologia_conectividad=None rating_costes_uso=None\n"
     ]
    }
   ],
   "source": [
    "print(output['preferencias_usuario'])"
   ]
  },
  {
   "cell_type": "code",
   "execution_count": 6,
   "metadata": {},
   "outputs": [
    {
     "name": "stdout",
     "output_type": "stream",
     "text": [
      "--- Ejecutando Nodo: route_based_on_state_node ---\n",
      "\n",
      "--- DEBUG: Evaluating Routing Decision ---\n",
      "DEBUG Router: CP OK? True\n",
      "--- DEBUG CHECK PERFIL ---\n",
      "Input prefs object: apasionado_motor='no' valora_estetica='no' coche_principal_hogar='si' frecuencia_uso=None distancia_trayecto=None realiza_viajes_largos=None frecuencia_viajes_largos=None circula_principalmente_ciudad=None uso_profesional=None tipo_uso_profesional=None prefiere_diseno_exclusivo=None altura_mayor_190=None peso_mayor_100=None transporta_carga_voluminosa=None necesita_espacio_objetos_especiales=None arrastra_remolque=None tiene_garage=None problemas_aparcar_calle=None espacio_sobra_garage=None problema_dimension_garage=None tiene_punto_carga_propio=None aventura=None estilo_conduccion=None solo_electricos=None prioriza_baja_depreciacion=None transmision_preferida=None rating_fiabilidad_durabilidad=None rating_seguridad=None rating_comodidad=None rating_impacto_ambiental=None rating_tecnologia_conectividad=None rating_costes_uso=None\n",
      "Input prefs type: <class 'graph.perfil.state.PerfilUsuario'>\n",
      "DEBUG (Validation Perfil) ► Campo 'frecuencia_uso' está vacío/None.\n",
      "DEBUG Router: Prefs OK? False\n",
      "DEBUG Router: Pasajeros OK? False\n",
      "DEBUG (Validation Filtros) ► Objeto FiltrosInferidos es None.\n",
      "DEBUG Router: Filtros OK? False\n",
      "--- DEBUG CHECK ECONOMIA (Manual) ---\n",
      "Input econ object: None\n",
      "DEBUG (Validation Economía Manual) ► Objeto EconomiaUsuario es None.\n",
      "DEBUG Router: Economía OK? False\n",
      "DEBUG Router: Pesos Calculados? False\n",
      "DEBUG Router: Coches Buscados? False\n",
      "--- DEBUG CHECK PERFIL ---\n",
      "Input prefs object: apasionado_motor='no' valora_estetica='no' coche_principal_hogar='si' frecuencia_uso=None distancia_trayecto=None realiza_viajes_largos=None frecuencia_viajes_largos=None circula_principalmente_ciudad=None uso_profesional=None tipo_uso_profesional=None prefiere_diseno_exclusivo=None altura_mayor_190=None peso_mayor_100=None transporta_carga_voluminosa=None necesita_espacio_objetos_especiales=None arrastra_remolque=None tiene_garage=None problemas_aparcar_calle=None espacio_sobra_garage=None problema_dimension_garage=None tiene_punto_carga_propio=None aventura=None estilo_conduccion=None solo_electricos=None prioriza_baja_depreciacion=None transmision_preferida=None rating_fiabilidad_durabilidad=None rating_seguridad=None rating_comodidad=None rating_impacto_ambiental=None rating_tecnologia_conectividad=None rating_costes_uso=None\n",
      "Input prefs type: <class 'graph.perfil.state.PerfilUsuario'>\n",
      "DEBUG (Validation Perfil) ► Campo 'frecuencia_uso' está vacío/None.\n",
      "DEBUG Router: Decisión -> recopilar_preferencias\n",
      "--- Ejecutando Nodo: recopilar_preferencias_node ---\n",
      "--- Ejecutando Nodo: validar_preferencias_node ---\n",
      "--- DEBUG CHECK PERFIL ---\n",
      "Input prefs object: apasionado_motor='no' valora_estetica='no' coche_principal_hogar='si' frecuencia_uso=<FrecuenciaUso.DIARIO: 'diario'> distancia_trayecto=None realiza_viajes_largos=None frecuencia_viajes_largos=None circula_principalmente_ciudad=None uso_profesional=None tipo_uso_profesional=None prefiere_diseno_exclusivo=None altura_mayor_190=None peso_mayor_100=None transporta_carga_voluminosa=None necesita_espacio_objetos_especiales=None arrastra_remolque=None tiene_garage=None problemas_aparcar_calle=None espacio_sobra_garage=None problema_dimension_garage=None tiene_punto_carga_propio=None aventura=None estilo_conduccion=None solo_electricos=None prioriza_baja_depreciacion=None transmision_preferida=None rating_fiabilidad_durabilidad=None rating_seguridad=None rating_comodidad=None rating_impacto_ambiental=None rating_tecnologia_conectividad=None rating_costes_uso=None\n",
      "Input prefs type: <class 'graph.perfil.state.PerfilUsuario'>\n",
      "DEBUG (Validation Perfil) ► Campo 'distancia_trayecto' está vacío/None.\n",
      "DEBUG (Perfil) ► Validación: PerfilUsuario considerado INCOMPLETO.\n",
      "--- Evaluando Condición: ruta_decision_perfil ---\n",
      "DEBUG (Condición Perfil) ► Estado 'preferencias_usuario' recibido: apasionado_motor='no' valora_estetica='no' coche_principal_hogar='si' frecuencia_uso=<FrecuenciaUso.DIARIO: 'diario'> distancia_trayecto=None realiza_viajes_largos=None frecuencia_viajes_largos=None circula_principalmente_ciudad=None uso_profesional=None tipo_uso_profesional=None prefiere_diseno_exclusivo=None altura_mayor_190=None peso_mayor_100=None transporta_carga_voluminosa=None necesita_espacio_objetos_especiales=None arrastra_remolque=None tiene_garage=None problemas_aparcar_calle=None espacio_sobra_garage=None problema_dimension_garage=None tiene_punto_carga_propio=None aventura=None estilo_conduccion=None solo_electricos=None prioriza_baja_depreciacion=None transmision_preferida=None rating_fiabilidad_durabilidad=None rating_seguridad=None rating_comodidad=None rating_impacto_ambiental=None rating_tecnologia_conectividad=None rating_costes_uso=None\n",
      "DEBUG (Condición Perfil) ► Tipo de 'preferencias_usuario': <class 'graph.perfil.state.PerfilUsuario'>\n",
      "--- DEBUG CHECK PERFIL ---\n",
      "Input prefs object: apasionado_motor='no' valora_estetica='no' coche_principal_hogar='si' frecuencia_uso=<FrecuenciaUso.DIARIO: 'diario'> distancia_trayecto=None realiza_viajes_largos=None frecuencia_viajes_largos=None circula_principalmente_ciudad=None uso_profesional=None tipo_uso_profesional=None prefiere_diseno_exclusivo=None altura_mayor_190=None peso_mayor_100=None transporta_carga_voluminosa=None necesita_espacio_objetos_especiales=None arrastra_remolque=None tiene_garage=None problemas_aparcar_calle=None espacio_sobra_garage=None problema_dimension_garage=None tiene_punto_carga_propio=None aventura=None estilo_conduccion=None solo_electricos=None prioriza_baja_depreciacion=None transmision_preferida=None rating_fiabilidad_durabilidad=None rating_seguridad=None rating_comodidad=None rating_impacto_ambiental=None rating_tecnologia_conectividad=None rating_costes_uso=None\n",
      "Input prefs type: <class 'graph.perfil.state.PerfilUsuario'>\n",
      "DEBUG (Validation Perfil) ► Campo 'distancia_trayecto' está vacío/None.\n",
      "DEBUG (Condición Perfil) ► Perfil INCOMPLETO. Se necesita pregunta.\n",
      "--- Ejecutando Nodo: preguntar_preferencias_node ---\n",
      "--- DEBUG CHECK PERFIL ---\n",
      "Input prefs object: apasionado_motor='no' valora_estetica='no' coche_principal_hogar='si' frecuencia_uso=<FrecuenciaUso.DIARIO: 'diario'> distancia_trayecto=None realiza_viajes_largos=None frecuencia_viajes_largos=None circula_principalmente_ciudad=None uso_profesional=None tipo_uso_profesional=None prefiere_diseno_exclusivo=None altura_mayor_190=None peso_mayor_100=None transporta_carga_voluminosa=None necesita_espacio_objetos_especiales=None arrastra_remolque=None tiene_garage=None problemas_aparcar_calle=None espacio_sobra_garage=None problema_dimension_garage=None tiene_punto_carga_propio=None aventura=None estilo_conduccion=None solo_electricos=None prioriza_baja_depreciacion=None transmision_preferida=None rating_fiabilidad_durabilidad=None rating_seguridad=None rating_comodidad=None rating_impacto_ambiental=None rating_tecnologia_conectividad=None rating_costes_uso=None\n",
      "Input prefs type: <class 'graph.perfil.state.PerfilUsuario'>\n",
      "DEBUG (Validation Perfil) ► Campo 'distancia_trayecto' está vacío/None.\n",
      "DEBUG (Preguntar Perfil) ► Perfil aún INCOMPLETO según checker.\n",
      "DEBUG (Preguntar Perfil) ► Pregunta fallback generada: ¿Cuál es la distancia de tu trayecto más habitual?\n",
      " 🟢 Hasta 10 km\n",
      " 🟡 10-50 km\n",
      " 🟠 51-150 km\n",
      " 🔴 Más de 150 km\n",
      "DEBUG (Preguntar Perfil) ► Usando mensaje pendiente (pregunta LLM): ¿Cuál es la distancia de tu trayecto más habitual?\n",
      "🟢 Hasta 10 km\n",
      "🟡 10-50 km\n",
      "🟠 51-150 km\n",
      "🔴 Más de 150 km\n",
      "DEBUG (Preguntar Perfil) ► Mensaje final añadido: ¿Cuál es la distancia de tu trayecto más habitual?\n",
      "🟢 Hasta 10 km\n",
      "🟡 10-50 km\n",
      "🟠 51-150 km\n",
      "🔴 Más de 150 km\n",
      "==================================\u001b[1m Ai Message \u001b[0m==================================\n",
      "\n",
      "¿Cuál es la distancia de tu trayecto más habitual?\n",
      "🟢 Hasta 10 km\n",
      "🟡 10-50 km\n",
      "🟠 51-150 km\n",
      "🔴 Más de 150 km\n"
     ]
    }
   ],
   "source": [
    "# Create a thread\n",
    "config = {\"configurable\": {\"thread_id\": \"1\"}}\n",
    "\n",
    "# Start conversation\n",
    "input_message = HumanMessage(content=\"varias veces al dia\")\n",
    "output = graph.invoke({\"messages\": [input_message]}, config) \n",
    "for m in output['messages'][-1:]:\n",
    "    m.pretty_print()"
   ]
  },
  {
   "cell_type": "code",
   "execution_count": 7,
   "metadata": {},
   "outputs": [
    {
     "name": "stdout",
     "output_type": "stream",
     "text": [
      "--- Ejecutando Nodo: route_based_on_state_node ---\n",
      "\n",
      "--- DEBUG: Evaluating Routing Decision ---\n",
      "DEBUG Router: CP OK? True\n",
      "--- DEBUG CHECK PERFIL ---\n",
      "Input prefs object: apasionado_motor='no' valora_estetica='no' coche_principal_hogar='si' frecuencia_uso=<FrecuenciaUso.DIARIO: 'diario'> distancia_trayecto=None realiza_viajes_largos=None frecuencia_viajes_largos=None circula_principalmente_ciudad=None uso_profesional=None tipo_uso_profesional=None prefiere_diseno_exclusivo=None altura_mayor_190=None peso_mayor_100=None transporta_carga_voluminosa=None necesita_espacio_objetos_especiales=None arrastra_remolque=None tiene_garage=None problemas_aparcar_calle=None espacio_sobra_garage=None problema_dimension_garage=None tiene_punto_carga_propio=None aventura=None estilo_conduccion=None solo_electricos=None prioriza_baja_depreciacion=None transmision_preferida=None rating_fiabilidad_durabilidad=None rating_seguridad=None rating_comodidad=None rating_impacto_ambiental=None rating_tecnologia_conectividad=None rating_costes_uso=None\n",
      "Input prefs type: <class 'graph.perfil.state.PerfilUsuario'>\n",
      "DEBUG (Validation Perfil) ► Campo 'distancia_trayecto' está vacío/None.\n",
      "DEBUG Router: Prefs OK? False\n",
      "DEBUG Router: Pasajeros OK? False\n",
      "DEBUG (Validation Filtros) ► Objeto FiltrosInferidos es None.\n",
      "DEBUG Router: Filtros OK? False\n",
      "--- DEBUG CHECK ECONOMIA (Manual) ---\n",
      "Input econ object: None\n",
      "DEBUG (Validation Economía Manual) ► Objeto EconomiaUsuario es None.\n",
      "DEBUG Router: Economía OK? False\n",
      "DEBUG Router: Pesos Calculados? False\n",
      "DEBUG Router: Coches Buscados? False\n",
      "--- DEBUG CHECK PERFIL ---\n",
      "Input prefs object: apasionado_motor='no' valora_estetica='no' coche_principal_hogar='si' frecuencia_uso=<FrecuenciaUso.DIARIO: 'diario'> distancia_trayecto=None realiza_viajes_largos=None frecuencia_viajes_largos=None circula_principalmente_ciudad=None uso_profesional=None tipo_uso_profesional=None prefiere_diseno_exclusivo=None altura_mayor_190=None peso_mayor_100=None transporta_carga_voluminosa=None necesita_espacio_objetos_especiales=None arrastra_remolque=None tiene_garage=None problemas_aparcar_calle=None espacio_sobra_garage=None problema_dimension_garage=None tiene_punto_carga_propio=None aventura=None estilo_conduccion=None solo_electricos=None prioriza_baja_depreciacion=None transmision_preferida=None rating_fiabilidad_durabilidad=None rating_seguridad=None rating_comodidad=None rating_impacto_ambiental=None rating_tecnologia_conectividad=None rating_costes_uso=None\n",
      "Input prefs type: <class 'graph.perfil.state.PerfilUsuario'>\n",
      "DEBUG (Validation Perfil) ► Campo 'distancia_trayecto' está vacío/None.\n",
      "DEBUG Router: Decisión -> recopilar_preferencias\n",
      "--- Ejecutando Nodo: recopilar_preferencias_node ---\n",
      "--- Ejecutando Nodo: validar_preferencias_node ---\n",
      "--- DEBUG CHECK PERFIL ---\n",
      "Input prefs object: apasionado_motor='no' valora_estetica='no' coche_principal_hogar='si' frecuencia_uso=<FrecuenciaUso.DIARIO: 'diario'> distancia_trayecto=<DistanciaTrayecto.MENOS_10_KM: 'no supera los 10 km'> realiza_viajes_largos=None frecuencia_viajes_largos=None circula_principalmente_ciudad=None uso_profesional=None tipo_uso_profesional=None prefiere_diseno_exclusivo=None altura_mayor_190=None peso_mayor_100=None transporta_carga_voluminosa=None necesita_espacio_objetos_especiales=None arrastra_remolque=None tiene_garage=None problemas_aparcar_calle=None espacio_sobra_garage=None problema_dimension_garage=None tiene_punto_carga_propio=None aventura=None estilo_conduccion=None solo_electricos=None prioriza_baja_depreciacion=None transmision_preferida=None rating_fiabilidad_durabilidad=None rating_seguridad=None rating_comodidad=None rating_impacto_ambiental=None rating_tecnologia_conectividad=None rating_costes_uso=None\n",
      "Input prefs type: <class 'graph.perfil.state.PerfilUsuario'>\n",
      "DEBUG (Validation Perfil) ► Campo 'circula_principalmente_ciudad' está vacío/None.\n",
      "DEBUG (Perfil) ► Validación: PerfilUsuario considerado INCOMPLETO.\n",
      "--- Evaluando Condición: ruta_decision_perfil ---\n",
      "DEBUG (Condición Perfil) ► Estado 'preferencias_usuario' recibido: apasionado_motor='no' valora_estetica='no' coche_principal_hogar='si' frecuencia_uso=<FrecuenciaUso.DIARIO: 'diario'> distancia_trayecto=<DistanciaTrayecto.MENOS_10_KM: 'no supera los 10 km'> realiza_viajes_largos=None frecuencia_viajes_largos=None circula_principalmente_ciudad=None uso_profesional=None tipo_uso_profesional=None prefiere_diseno_exclusivo=None altura_mayor_190=None peso_mayor_100=None transporta_carga_voluminosa=None necesita_espacio_objetos_especiales=None arrastra_remolque=None tiene_garage=None problemas_aparcar_calle=None espacio_sobra_garage=None problema_dimension_garage=None tiene_punto_carga_propio=None aventura=None estilo_conduccion=None solo_electricos=None prioriza_baja_depreciacion=None transmision_preferida=None rating_fiabilidad_durabilidad=None rating_seguridad=None rating_comodidad=None rating_impacto_ambiental=None rating_tecnologia_conectividad=None rating_costes_uso=None\n",
      "DEBUG (Condición Perfil) ► Tipo de 'preferencias_usuario': <class 'graph.perfil.state.PerfilUsuario'>\n",
      "--- DEBUG CHECK PERFIL ---\n",
      "Input prefs object: apasionado_motor='no' valora_estetica='no' coche_principal_hogar='si' frecuencia_uso=<FrecuenciaUso.DIARIO: 'diario'> distancia_trayecto=<DistanciaTrayecto.MENOS_10_KM: 'no supera los 10 km'> realiza_viajes_largos=None frecuencia_viajes_largos=None circula_principalmente_ciudad=None uso_profesional=None tipo_uso_profesional=None prefiere_diseno_exclusivo=None altura_mayor_190=None peso_mayor_100=None transporta_carga_voluminosa=None necesita_espacio_objetos_especiales=None arrastra_remolque=None tiene_garage=None problemas_aparcar_calle=None espacio_sobra_garage=None problema_dimension_garage=None tiene_punto_carga_propio=None aventura=None estilo_conduccion=None solo_electricos=None prioriza_baja_depreciacion=None transmision_preferida=None rating_fiabilidad_durabilidad=None rating_seguridad=None rating_comodidad=None rating_impacto_ambiental=None rating_tecnologia_conectividad=None rating_costes_uso=None\n",
      "Input prefs type: <class 'graph.perfil.state.PerfilUsuario'>\n",
      "DEBUG (Validation Perfil) ► Campo 'circula_principalmente_ciudad' está vacío/None.\n",
      "DEBUG (Condición Perfil) ► Perfil INCOMPLETO. Se necesita pregunta.\n",
      "--- Ejecutando Nodo: preguntar_preferencias_node ---\n",
      "--- DEBUG CHECK PERFIL ---\n",
      "Input prefs object: apasionado_motor='no' valora_estetica='no' coche_principal_hogar='si' frecuencia_uso=<FrecuenciaUso.DIARIO: 'diario'> distancia_trayecto=<DistanciaTrayecto.MENOS_10_KM: 'no supera los 10 km'> realiza_viajes_largos=None frecuencia_viajes_largos=None circula_principalmente_ciudad=None uso_profesional=None tipo_uso_profesional=None prefiere_diseno_exclusivo=None altura_mayor_190=None peso_mayor_100=None transporta_carga_voluminosa=None necesita_espacio_objetos_especiales=None arrastra_remolque=None tiene_garage=None problemas_aparcar_calle=None espacio_sobra_garage=None problema_dimension_garage=None tiene_punto_carga_propio=None aventura=None estilo_conduccion=None solo_electricos=None prioriza_baja_depreciacion=None transmision_preferida=None rating_fiabilidad_durabilidad=None rating_seguridad=None rating_comodidad=None rating_impacto_ambiental=None rating_tecnologia_conectividad=None rating_costes_uso=None\n",
      "Input prefs type: <class 'graph.perfil.state.PerfilUsuario'>\n",
      "DEBUG (Validation Perfil) ► Campo 'circula_principalmente_ciudad' está vacío/None.\n",
      "DEBUG (Preguntar Perfil) ► Perfil aún INCOMPLETO según checker.\n",
      "DEBUG (Preguntar Perfil) ► Pregunta fallback generada: ¿Haces recorridos de más de 150 km además de tus trayectos habituales? (Sí/No)\n",
      "DEBUG (Preguntar Perfil) ► Usando mensaje pendiente (pregunta LLM): ¿Haces recorridos de más de 150 km?\n",
      " ✅ Sí\n",
      " ❌ No\n",
      "DEBUG (Preguntar Perfil) ► Mensaje final añadido: ¿Haces recorridos de más de 150 km?\n",
      " ✅ Sí\n",
      " ❌ No\n",
      "==================================\u001b[1m Ai Message \u001b[0m==================================\n",
      "\n",
      "¿Haces recorridos de más de 150 km?\n",
      " ✅ Sí\n",
      " ❌ No\n"
     ]
    }
   ],
   "source": [
    "# Create a thread\n",
    "config = {\"configurable\": {\"thread_id\": \"1\"}}\n",
    "\n",
    "# Start conversation\n",
    "input_message = HumanMessage(content=\"la primera\")\n",
    "output = graph.invoke({\"messages\": [input_message]}, config) \n",
    "for m in output['messages'][-1:]:\n",
    "    m.pretty_print()"
   ]
  },
  {
   "cell_type": "code",
   "execution_count": 8,
   "metadata": {},
   "outputs": [
    {
     "name": "stdout",
     "output_type": "stream",
     "text": [
      "--- Ejecutando Nodo: route_based_on_state_node ---\n",
      "\n",
      "--- DEBUG: Evaluating Routing Decision ---\n",
      "DEBUG Router: CP OK? True\n",
      "--- DEBUG CHECK PERFIL ---\n",
      "Input prefs object: apasionado_motor='no' valora_estetica='no' coche_principal_hogar='si' frecuencia_uso=<FrecuenciaUso.DIARIO: 'diario'> distancia_trayecto=<DistanciaTrayecto.MENOS_10_KM: 'no supera los 10 km'> realiza_viajes_largos=None frecuencia_viajes_largos=None circula_principalmente_ciudad=None uso_profesional=None tipo_uso_profesional=None prefiere_diseno_exclusivo=None altura_mayor_190=None peso_mayor_100=None transporta_carga_voluminosa=None necesita_espacio_objetos_especiales=None arrastra_remolque=None tiene_garage=None problemas_aparcar_calle=None espacio_sobra_garage=None problema_dimension_garage=None tiene_punto_carga_propio=None aventura=None estilo_conduccion=None solo_electricos=None prioriza_baja_depreciacion=None transmision_preferida=None rating_fiabilidad_durabilidad=None rating_seguridad=None rating_comodidad=None rating_impacto_ambiental=None rating_tecnologia_conectividad=None rating_costes_uso=None\n",
      "Input prefs type: <class 'graph.perfil.state.PerfilUsuario'>\n",
      "DEBUG (Validation Perfil) ► Campo 'circula_principalmente_ciudad' está vacío/None.\n",
      "DEBUG Router: Prefs OK? False\n",
      "DEBUG Router: Pasajeros OK? False\n",
      "DEBUG (Validation Filtros) ► Objeto FiltrosInferidos es None.\n",
      "DEBUG Router: Filtros OK? False\n",
      "--- DEBUG CHECK ECONOMIA (Manual) ---\n",
      "Input econ object: None\n",
      "DEBUG (Validation Economía Manual) ► Objeto EconomiaUsuario es None.\n",
      "DEBUG Router: Economía OK? False\n",
      "DEBUG Router: Pesos Calculados? False\n",
      "DEBUG Router: Coches Buscados? False\n",
      "--- DEBUG CHECK PERFIL ---\n",
      "Input prefs object: apasionado_motor='no' valora_estetica='no' coche_principal_hogar='si' frecuencia_uso=<FrecuenciaUso.DIARIO: 'diario'> distancia_trayecto=<DistanciaTrayecto.MENOS_10_KM: 'no supera los 10 km'> realiza_viajes_largos=None frecuencia_viajes_largos=None circula_principalmente_ciudad=None uso_profesional=None tipo_uso_profesional=None prefiere_diseno_exclusivo=None altura_mayor_190=None peso_mayor_100=None transporta_carga_voluminosa=None necesita_espacio_objetos_especiales=None arrastra_remolque=None tiene_garage=None problemas_aparcar_calle=None espacio_sobra_garage=None problema_dimension_garage=None tiene_punto_carga_propio=None aventura=None estilo_conduccion=None solo_electricos=None prioriza_baja_depreciacion=None transmision_preferida=None rating_fiabilidad_durabilidad=None rating_seguridad=None rating_comodidad=None rating_impacto_ambiental=None rating_tecnologia_conectividad=None rating_costes_uso=None\n",
      "Input prefs type: <class 'graph.perfil.state.PerfilUsuario'>\n",
      "DEBUG (Validation Perfil) ► Campo 'circula_principalmente_ciudad' está vacío/None.\n",
      "DEBUG Router: Decisión -> recopilar_preferencias\n",
      "--- Ejecutando Nodo: recopilar_preferencias_node ---\n",
      "--- Ejecutando Nodo: validar_preferencias_node ---\n",
      "--- DEBUG CHECK PERFIL ---\n",
      "Input prefs object: apasionado_motor='no' valora_estetica='no' coche_principal_hogar='si' frecuencia_uso=<FrecuenciaUso.DIARIO: 'diario'> distancia_trayecto=<DistanciaTrayecto.MENOS_10_KM: 'no supera los 10 km'> realiza_viajes_largos='no' frecuencia_viajes_largos=None circula_principalmente_ciudad=None uso_profesional=None tipo_uso_profesional=None prefiere_diseno_exclusivo=None altura_mayor_190=None peso_mayor_100=None transporta_carga_voluminosa=None necesita_espacio_objetos_especiales=None arrastra_remolque=None tiene_garage=None problemas_aparcar_calle=None espacio_sobra_garage=None problema_dimension_garage=None tiene_punto_carga_propio=None aventura=None estilo_conduccion=None solo_electricos=None prioriza_baja_depreciacion=None transmision_preferida=None rating_fiabilidad_durabilidad=None rating_seguridad=None rating_comodidad=None rating_impacto_ambiental=None rating_tecnologia_conectividad=None rating_costes_uso=None\n",
      "Input prefs type: <class 'graph.perfil.state.PerfilUsuario'>\n",
      "DEBUG (Validation Perfil) ► Campo 'circula_principalmente_ciudad' está vacío/None.\n",
      "DEBUG (Perfil) ► Validación: PerfilUsuario considerado INCOMPLETO.\n",
      "--- Evaluando Condición: ruta_decision_perfil ---\n",
      "DEBUG (Condición Perfil) ► Estado 'preferencias_usuario' recibido: apasionado_motor='no' valora_estetica='no' coche_principal_hogar='si' frecuencia_uso=<FrecuenciaUso.DIARIO: 'diario'> distancia_trayecto=<DistanciaTrayecto.MENOS_10_KM: 'no supera los 10 km'> realiza_viajes_largos='no' frecuencia_viajes_largos=None circula_principalmente_ciudad=None uso_profesional=None tipo_uso_profesional=None prefiere_diseno_exclusivo=None altura_mayor_190=None peso_mayor_100=None transporta_carga_voluminosa=None necesita_espacio_objetos_especiales=None arrastra_remolque=None tiene_garage=None problemas_aparcar_calle=None espacio_sobra_garage=None problema_dimension_garage=None tiene_punto_carga_propio=None aventura=None estilo_conduccion=None solo_electricos=None prioriza_baja_depreciacion=None transmision_preferida=None rating_fiabilidad_durabilidad=None rating_seguridad=None rating_comodidad=None rating_impacto_ambiental=None rating_tecnologia_conectividad=None rating_costes_uso=None\n",
      "DEBUG (Condición Perfil) ► Tipo de 'preferencias_usuario': <class 'graph.perfil.state.PerfilUsuario'>\n",
      "--- DEBUG CHECK PERFIL ---\n",
      "Input prefs object: apasionado_motor='no' valora_estetica='no' coche_principal_hogar='si' frecuencia_uso=<FrecuenciaUso.DIARIO: 'diario'> distancia_trayecto=<DistanciaTrayecto.MENOS_10_KM: 'no supera los 10 km'> realiza_viajes_largos='no' frecuencia_viajes_largos=None circula_principalmente_ciudad=None uso_profesional=None tipo_uso_profesional=None prefiere_diseno_exclusivo=None altura_mayor_190=None peso_mayor_100=None transporta_carga_voluminosa=None necesita_espacio_objetos_especiales=None arrastra_remolque=None tiene_garage=None problemas_aparcar_calle=None espacio_sobra_garage=None problema_dimension_garage=None tiene_punto_carga_propio=None aventura=None estilo_conduccion=None solo_electricos=None prioriza_baja_depreciacion=None transmision_preferida=None rating_fiabilidad_durabilidad=None rating_seguridad=None rating_comodidad=None rating_impacto_ambiental=None rating_tecnologia_conectividad=None rating_costes_uso=None\n",
      "Input prefs type: <class 'graph.perfil.state.PerfilUsuario'>\n",
      "DEBUG (Validation Perfil) ► Campo 'circula_principalmente_ciudad' está vacío/None.\n",
      "DEBUG (Condición Perfil) ► Perfil INCOMPLETO. Se necesita pregunta.\n",
      "--- Ejecutando Nodo: preguntar_preferencias_node ---\n",
      "--- DEBUG CHECK PERFIL ---\n",
      "Input prefs object: apasionado_motor='no' valora_estetica='no' coche_principal_hogar='si' frecuencia_uso=<FrecuenciaUso.DIARIO: 'diario'> distancia_trayecto=<DistanciaTrayecto.MENOS_10_KM: 'no supera los 10 km'> realiza_viajes_largos='no' frecuencia_viajes_largos=None circula_principalmente_ciudad=None uso_profesional=None tipo_uso_profesional=None prefiere_diseno_exclusivo=None altura_mayor_190=None peso_mayor_100=None transporta_carga_voluminosa=None necesita_espacio_objetos_especiales=None arrastra_remolque=None tiene_garage=None problemas_aparcar_calle=None espacio_sobra_garage=None problema_dimension_garage=None tiene_punto_carga_propio=None aventura=None estilo_conduccion=None solo_electricos=None prioriza_baja_depreciacion=None transmision_preferida=None rating_fiabilidad_durabilidad=None rating_seguridad=None rating_comodidad=None rating_impacto_ambiental=None rating_tecnologia_conectividad=None rating_costes_uso=None\n",
      "Input prefs type: <class 'graph.perfil.state.PerfilUsuario'>\n",
      "DEBUG (Validation Perfil) ► Campo 'circula_principalmente_ciudad' está vacío/None.\n",
      "DEBUG (Preguntar Perfil) ► Perfil aún INCOMPLETO según checker.\n",
      "DEBUG (Preguntar Perfil) ► Pregunta fallback generada: Cuentame, ¿circulas principalmente por ciudad? (Sí/No)\n",
      "WARN (Preguntar Perfil) ► Nodo ejecutado para preguntar, pero no había mensaje pendiente válido. Generando pregunta fallback.\n",
      "DEBUG (Preguntar Perfil) ► Mensaje final añadido: Cuentame, ¿circulas principalmente por ciudad? (Sí/No)\n",
      "==================================\u001b[1m Ai Message \u001b[0m==================================\n",
      "\n",
      "Cuentame, ¿circulas principalmente por ciudad? (Sí/No)\n"
     ]
    }
   ],
   "source": [
    "# Create a thread\n",
    "config = {\"configurable\": {\"thread_id\": \"1\"}}\n",
    "\n",
    "# Start conversation\n",
    "input_message = HumanMessage(content=\"no\")\n",
    "output = graph.invoke({\"messages\": [input_message]}, config) \n",
    "for m in output['messages'][-1:]:\n",
    "    m.pretty_print()"
   ]
  },
  {
   "cell_type": "code",
   "execution_count": 9,
   "metadata": {},
   "outputs": [
    {
     "name": "stdout",
     "output_type": "stream",
     "text": [
      "--- Ejecutando Nodo: route_based_on_state_node ---\n",
      "\n",
      "--- DEBUG: Evaluating Routing Decision ---\n",
      "DEBUG Router: CP OK? True\n",
      "--- DEBUG CHECK PERFIL ---\n",
      "Input prefs object: apasionado_motor='no' valora_estetica='no' coche_principal_hogar='si' frecuencia_uso=<FrecuenciaUso.DIARIO: 'diario'> distancia_trayecto=<DistanciaTrayecto.MENOS_10_KM: 'no supera los 10 km'> realiza_viajes_largos='no' frecuencia_viajes_largos=None circula_principalmente_ciudad=None uso_profesional=None tipo_uso_profesional=None prefiere_diseno_exclusivo=None altura_mayor_190=None peso_mayor_100=None transporta_carga_voluminosa=None necesita_espacio_objetos_especiales=None arrastra_remolque=None tiene_garage=None problemas_aparcar_calle=None espacio_sobra_garage=None problema_dimension_garage=None tiene_punto_carga_propio=None aventura=None estilo_conduccion=None solo_electricos=None prioriza_baja_depreciacion=None transmision_preferida=None rating_fiabilidad_durabilidad=None rating_seguridad=None rating_comodidad=None rating_impacto_ambiental=None rating_tecnologia_conectividad=None rating_costes_uso=None\n",
      "Input prefs type: <class 'graph.perfil.state.PerfilUsuario'>\n",
      "DEBUG (Validation Perfil) ► Campo 'circula_principalmente_ciudad' está vacío/None.\n",
      "DEBUG Router: Prefs OK? False\n",
      "DEBUG Router: Pasajeros OK? False\n",
      "DEBUG (Validation Filtros) ► Objeto FiltrosInferidos es None.\n",
      "DEBUG Router: Filtros OK? False\n",
      "--- DEBUG CHECK ECONOMIA (Manual) ---\n",
      "Input econ object: None\n",
      "DEBUG (Validation Economía Manual) ► Objeto EconomiaUsuario es None.\n",
      "DEBUG Router: Economía OK? False\n",
      "DEBUG Router: Pesos Calculados? False\n",
      "DEBUG Router: Coches Buscados? False\n",
      "--- DEBUG CHECK PERFIL ---\n",
      "Input prefs object: apasionado_motor='no' valora_estetica='no' coche_principal_hogar='si' frecuencia_uso=<FrecuenciaUso.DIARIO: 'diario'> distancia_trayecto=<DistanciaTrayecto.MENOS_10_KM: 'no supera los 10 km'> realiza_viajes_largos='no' frecuencia_viajes_largos=None circula_principalmente_ciudad=None uso_profesional=None tipo_uso_profesional=None prefiere_diseno_exclusivo=None altura_mayor_190=None peso_mayor_100=None transporta_carga_voluminosa=None necesita_espacio_objetos_especiales=None arrastra_remolque=None tiene_garage=None problemas_aparcar_calle=None espacio_sobra_garage=None problema_dimension_garage=None tiene_punto_carga_propio=None aventura=None estilo_conduccion=None solo_electricos=None prioriza_baja_depreciacion=None transmision_preferida=None rating_fiabilidad_durabilidad=None rating_seguridad=None rating_comodidad=None rating_impacto_ambiental=None rating_tecnologia_conectividad=None rating_costes_uso=None\n",
      "Input prefs type: <class 'graph.perfil.state.PerfilUsuario'>\n",
      "DEBUG (Validation Perfil) ► Campo 'circula_principalmente_ciudad' está vacío/None.\n",
      "DEBUG Router: Decisión -> recopilar_preferencias\n",
      "--- Ejecutando Nodo: recopilar_preferencias_node ---\n",
      "--- Ejecutando Nodo: validar_preferencias_node ---\n",
      "--- DEBUG CHECK PERFIL ---\n",
      "Input prefs object: apasionado_motor='no' valora_estetica='no' coche_principal_hogar='si' frecuencia_uso=<FrecuenciaUso.DIARIO: 'diario'> distancia_trayecto=<DistanciaTrayecto.MENOS_10_KM: 'no supera los 10 km'> realiza_viajes_largos='no' frecuencia_viajes_largos=None circula_principalmente_ciudad='si' uso_profesional=None tipo_uso_profesional=None prefiere_diseno_exclusivo=None altura_mayor_190=None peso_mayor_100=None transporta_carga_voluminosa=None necesita_espacio_objetos_especiales=None arrastra_remolque=None tiene_garage=None problemas_aparcar_calle=None espacio_sobra_garage=None problema_dimension_garage=None tiene_punto_carga_propio=None aventura=None estilo_conduccion=None solo_electricos=None prioriza_baja_depreciacion=None transmision_preferida=None rating_fiabilidad_durabilidad=None rating_seguridad=None rating_comodidad=None rating_impacto_ambiental=None rating_tecnologia_conectividad=None rating_costes_uso=None\n",
      "Input prefs type: <class 'graph.perfil.state.PerfilUsuario'>\n",
      "DEBUG (Validation Perfil) ► Campo 'uso_profesional' está vacío/None.\n",
      "DEBUG (Perfil) ► Validación: PerfilUsuario considerado INCOMPLETO.\n",
      "--- Evaluando Condición: ruta_decision_perfil ---\n",
      "DEBUG (Condición Perfil) ► Estado 'preferencias_usuario' recibido: apasionado_motor='no' valora_estetica='no' coche_principal_hogar='si' frecuencia_uso=<FrecuenciaUso.DIARIO: 'diario'> distancia_trayecto=<DistanciaTrayecto.MENOS_10_KM: 'no supera los 10 km'> realiza_viajes_largos='no' frecuencia_viajes_largos=None circula_principalmente_ciudad='si' uso_profesional=None tipo_uso_profesional=None prefiere_diseno_exclusivo=None altura_mayor_190=None peso_mayor_100=None transporta_carga_voluminosa=None necesita_espacio_objetos_especiales=None arrastra_remolque=None tiene_garage=None problemas_aparcar_calle=None espacio_sobra_garage=None problema_dimension_garage=None tiene_punto_carga_propio=None aventura=None estilo_conduccion=None solo_electricos=None prioriza_baja_depreciacion=None transmision_preferida=None rating_fiabilidad_durabilidad=None rating_seguridad=None rating_comodidad=None rating_impacto_ambiental=None rating_tecnologia_conectividad=None rating_costes_uso=None\n",
      "DEBUG (Condición Perfil) ► Tipo de 'preferencias_usuario': <class 'graph.perfil.state.PerfilUsuario'>\n",
      "--- DEBUG CHECK PERFIL ---\n",
      "Input prefs object: apasionado_motor='no' valora_estetica='no' coche_principal_hogar='si' frecuencia_uso=<FrecuenciaUso.DIARIO: 'diario'> distancia_trayecto=<DistanciaTrayecto.MENOS_10_KM: 'no supera los 10 km'> realiza_viajes_largos='no' frecuencia_viajes_largos=None circula_principalmente_ciudad='si' uso_profesional=None tipo_uso_profesional=None prefiere_diseno_exclusivo=None altura_mayor_190=None peso_mayor_100=None transporta_carga_voluminosa=None necesita_espacio_objetos_especiales=None arrastra_remolque=None tiene_garage=None problemas_aparcar_calle=None espacio_sobra_garage=None problema_dimension_garage=None tiene_punto_carga_propio=None aventura=None estilo_conduccion=None solo_electricos=None prioriza_baja_depreciacion=None transmision_preferida=None rating_fiabilidad_durabilidad=None rating_seguridad=None rating_comodidad=None rating_impacto_ambiental=None rating_tecnologia_conectividad=None rating_costes_uso=None\n",
      "Input prefs type: <class 'graph.perfil.state.PerfilUsuario'>\n",
      "DEBUG (Validation Perfil) ► Campo 'uso_profesional' está vacío/None.\n",
      "DEBUG (Condición Perfil) ► Perfil INCOMPLETO. Se necesita pregunta.\n",
      "--- Ejecutando Nodo: preguntar_preferencias_node ---\n",
      "--- DEBUG CHECK PERFIL ---\n",
      "Input prefs object: apasionado_motor='no' valora_estetica='no' coche_principal_hogar='si' frecuencia_uso=<FrecuenciaUso.DIARIO: 'diario'> distancia_trayecto=<DistanciaTrayecto.MENOS_10_KM: 'no supera los 10 km'> realiza_viajes_largos='no' frecuencia_viajes_largos=None circula_principalmente_ciudad='si' uso_profesional=None tipo_uso_profesional=None prefiere_diseno_exclusivo=None altura_mayor_190=None peso_mayor_100=None transporta_carga_voluminosa=None necesita_espacio_objetos_especiales=None arrastra_remolque=None tiene_garage=None problemas_aparcar_calle=None espacio_sobra_garage=None problema_dimension_garage=None tiene_punto_carga_propio=None aventura=None estilo_conduccion=None solo_electricos=None prioriza_baja_depreciacion=None transmision_preferida=None rating_fiabilidad_durabilidad=None rating_seguridad=None rating_comodidad=None rating_impacto_ambiental=None rating_tecnologia_conectividad=None rating_costes_uso=None\n",
      "Input prefs type: <class 'graph.perfil.state.PerfilUsuario'>\n",
      "DEBUG (Validation Perfil) ► Campo 'uso_profesional' está vacío/None.\n",
      "DEBUG (Preguntar Perfil) ► Perfil aún INCOMPLETO según checker.\n",
      "DEBUG (Preguntar Perfil) ► Pregunta fallback generada: ¿El coche lo destinaras principalmente para uso personal o más para fines profesionales (trabajo)?\n",
      "WARN (Preguntar Perfil) ► Nodo ejecutado para preguntar, pero no había mensaje pendiente válido. Generando pregunta fallback.\n",
      "DEBUG (Preguntar Perfil) ► Mensaje final añadido: ¿El coche lo destinaras principalmente para uso personal o más para fines profesionales (trabajo)?\n",
      "==================================\u001b[1m Ai Message \u001b[0m==================================\n",
      "\n",
      "¿El coche lo destinaras principalmente para uso personal o más para fines profesionales (trabajo)?\n"
     ]
    }
   ],
   "source": [
    "# Create a thread\n",
    "config = {\"configurable\": {\"thread_id\": \"1\"}}\n",
    "\n",
    "# Start conversation\n",
    "input_message = HumanMessage(content=\"si\")\n",
    "output = graph.invoke({\"messages\": [input_message]}, config) \n",
    "for m in output['messages'][-1:]:\n",
    "    m.pretty_print()"
   ]
  },
  {
   "cell_type": "code",
   "execution_count": 10,
   "metadata": {},
   "outputs": [
    {
     "name": "stdout",
     "output_type": "stream",
     "text": [
      "--- Ejecutando Nodo: route_based_on_state_node ---\n",
      "\n",
      "--- DEBUG: Evaluating Routing Decision ---\n",
      "DEBUG Router: CP OK? True\n",
      "--- DEBUG CHECK PERFIL ---\n",
      "Input prefs object: apasionado_motor='no' valora_estetica='no' coche_principal_hogar='si' frecuencia_uso=<FrecuenciaUso.DIARIO: 'diario'> distancia_trayecto=<DistanciaTrayecto.MENOS_10_KM: 'no supera los 10 km'> realiza_viajes_largos='no' frecuencia_viajes_largos=None circula_principalmente_ciudad='si' uso_profesional=None tipo_uso_profesional=None prefiere_diseno_exclusivo=None altura_mayor_190=None peso_mayor_100=None transporta_carga_voluminosa=None necesita_espacio_objetos_especiales=None arrastra_remolque=None tiene_garage=None problemas_aparcar_calle=None espacio_sobra_garage=None problema_dimension_garage=None tiene_punto_carga_propio=None aventura=None estilo_conduccion=None solo_electricos=None prioriza_baja_depreciacion=None transmision_preferida=None rating_fiabilidad_durabilidad=None rating_seguridad=None rating_comodidad=None rating_impacto_ambiental=None rating_tecnologia_conectividad=None rating_costes_uso=None\n",
      "Input prefs type: <class 'graph.perfil.state.PerfilUsuario'>\n",
      "DEBUG (Validation Perfil) ► Campo 'uso_profesional' está vacío/None.\n",
      "DEBUG Router: Prefs OK? False\n",
      "DEBUG Router: Pasajeros OK? False\n",
      "DEBUG (Validation Filtros) ► Objeto FiltrosInferidos es None.\n",
      "DEBUG Router: Filtros OK? False\n",
      "--- DEBUG CHECK ECONOMIA (Manual) ---\n",
      "Input econ object: None\n",
      "DEBUG (Validation Economía Manual) ► Objeto EconomiaUsuario es None.\n",
      "DEBUG Router: Economía OK? False\n",
      "DEBUG Router: Pesos Calculados? False\n",
      "DEBUG Router: Coches Buscados? False\n",
      "--- DEBUG CHECK PERFIL ---\n",
      "Input prefs object: apasionado_motor='no' valora_estetica='no' coche_principal_hogar='si' frecuencia_uso=<FrecuenciaUso.DIARIO: 'diario'> distancia_trayecto=<DistanciaTrayecto.MENOS_10_KM: 'no supera los 10 km'> realiza_viajes_largos='no' frecuencia_viajes_largos=None circula_principalmente_ciudad='si' uso_profesional=None tipo_uso_profesional=None prefiere_diseno_exclusivo=None altura_mayor_190=None peso_mayor_100=None transporta_carga_voluminosa=None necesita_espacio_objetos_especiales=None arrastra_remolque=None tiene_garage=None problemas_aparcar_calle=None espacio_sobra_garage=None problema_dimension_garage=None tiene_punto_carga_propio=None aventura=None estilo_conduccion=None solo_electricos=None prioriza_baja_depreciacion=None transmision_preferida=None rating_fiabilidad_durabilidad=None rating_seguridad=None rating_comodidad=None rating_impacto_ambiental=None rating_tecnologia_conectividad=None rating_costes_uso=None\n",
      "Input prefs type: <class 'graph.perfil.state.PerfilUsuario'>\n",
      "DEBUG (Validation Perfil) ► Campo 'uso_profesional' está vacío/None.\n",
      "DEBUG Router: Decisión -> recopilar_preferencias\n",
      "--- Ejecutando Nodo: recopilar_preferencias_node ---\n",
      "--- Ejecutando Nodo: validar_preferencias_node ---\n",
      "--- DEBUG CHECK PERFIL ---\n",
      "Input prefs object: apasionado_motor='no' valora_estetica='no' coche_principal_hogar='si' frecuencia_uso=<FrecuenciaUso.DIARIO: 'diario'> distancia_trayecto=<DistanciaTrayecto.MENOS_10_KM: 'no supera los 10 km'> realiza_viajes_largos='no' frecuencia_viajes_largos=None circula_principalmente_ciudad='si' uso_profesional='no' tipo_uso_profesional=None prefiere_diseno_exclusivo=None altura_mayor_190=None peso_mayor_100=None transporta_carga_voluminosa=None necesita_espacio_objetos_especiales=None arrastra_remolque=None tiene_garage=None problemas_aparcar_calle=None espacio_sobra_garage=None problema_dimension_garage=None tiene_punto_carga_propio=None aventura=None estilo_conduccion=None solo_electricos=None prioriza_baja_depreciacion=None transmision_preferida=None rating_fiabilidad_durabilidad=None rating_seguridad=None rating_comodidad=None rating_impacto_ambiental=None rating_tecnologia_conectividad=None rating_costes_uso=None\n",
      "Input prefs type: <class 'graph.perfil.state.PerfilUsuario'>\n",
      "DEBUG (Validation Perfil) ► Campo 'prefiere_diseno_exclusivo' está vacío/None.\n",
      "DEBUG (Perfil) ► Validación: PerfilUsuario considerado INCOMPLETO.\n",
      "--- Evaluando Condición: ruta_decision_perfil ---\n",
      "DEBUG (Condición Perfil) ► Estado 'preferencias_usuario' recibido: apasionado_motor='no' valora_estetica='no' coche_principal_hogar='si' frecuencia_uso=<FrecuenciaUso.DIARIO: 'diario'> distancia_trayecto=<DistanciaTrayecto.MENOS_10_KM: 'no supera los 10 km'> realiza_viajes_largos='no' frecuencia_viajes_largos=None circula_principalmente_ciudad='si' uso_profesional='no' tipo_uso_profesional=None prefiere_diseno_exclusivo=None altura_mayor_190=None peso_mayor_100=None transporta_carga_voluminosa=None necesita_espacio_objetos_especiales=None arrastra_remolque=None tiene_garage=None problemas_aparcar_calle=None espacio_sobra_garage=None problema_dimension_garage=None tiene_punto_carga_propio=None aventura=None estilo_conduccion=None solo_electricos=None prioriza_baja_depreciacion=None transmision_preferida=None rating_fiabilidad_durabilidad=None rating_seguridad=None rating_comodidad=None rating_impacto_ambiental=None rating_tecnologia_conectividad=None rating_costes_uso=None\n",
      "DEBUG (Condición Perfil) ► Tipo de 'preferencias_usuario': <class 'graph.perfil.state.PerfilUsuario'>\n",
      "--- DEBUG CHECK PERFIL ---\n",
      "Input prefs object: apasionado_motor='no' valora_estetica='no' coche_principal_hogar='si' frecuencia_uso=<FrecuenciaUso.DIARIO: 'diario'> distancia_trayecto=<DistanciaTrayecto.MENOS_10_KM: 'no supera los 10 km'> realiza_viajes_largos='no' frecuencia_viajes_largos=None circula_principalmente_ciudad='si' uso_profesional='no' tipo_uso_profesional=None prefiere_diseno_exclusivo=None altura_mayor_190=None peso_mayor_100=None transporta_carga_voluminosa=None necesita_espacio_objetos_especiales=None arrastra_remolque=None tiene_garage=None problemas_aparcar_calle=None espacio_sobra_garage=None problema_dimension_garage=None tiene_punto_carga_propio=None aventura=None estilo_conduccion=None solo_electricos=None prioriza_baja_depreciacion=None transmision_preferida=None rating_fiabilidad_durabilidad=None rating_seguridad=None rating_comodidad=None rating_impacto_ambiental=None rating_tecnologia_conectividad=None rating_costes_uso=None\n",
      "Input prefs type: <class 'graph.perfil.state.PerfilUsuario'>\n",
      "DEBUG (Validation Perfil) ► Campo 'prefiere_diseno_exclusivo' está vacío/None.\n",
      "DEBUG (Condición Perfil) ► Perfil INCOMPLETO. Se necesita pregunta.\n",
      "--- Ejecutando Nodo: preguntar_preferencias_node ---\n",
      "--- DEBUG CHECK PERFIL ---\n",
      "Input prefs object: apasionado_motor='no' valora_estetica='no' coche_principal_hogar='si' frecuencia_uso=<FrecuenciaUso.DIARIO: 'diario'> distancia_trayecto=<DistanciaTrayecto.MENOS_10_KM: 'no supera los 10 km'> realiza_viajes_largos='no' frecuencia_viajes_largos=None circula_principalmente_ciudad='si' uso_profesional='no' tipo_uso_profesional=None prefiere_diseno_exclusivo=None altura_mayor_190=None peso_mayor_100=None transporta_carga_voluminosa=None necesita_espacio_objetos_especiales=None arrastra_remolque=None tiene_garage=None problemas_aparcar_calle=None espacio_sobra_garage=None problema_dimension_garage=None tiene_punto_carga_propio=None aventura=None estilo_conduccion=None solo_electricos=None prioriza_baja_depreciacion=None transmision_preferida=None rating_fiabilidad_durabilidad=None rating_seguridad=None rating_comodidad=None rating_impacto_ambiental=None rating_tecnologia_conectividad=None rating_costes_uso=None\n",
      "Input prefs type: <class 'graph.perfil.state.PerfilUsuario'>\n",
      "DEBUG (Validation Perfil) ► Campo 'prefiere_diseno_exclusivo' está vacío/None.\n",
      "DEBUG (Preguntar Perfil) ► Perfil aún INCOMPLETO según checker.\n",
      "DEBUG (Preguntar Perfil) ► Pregunta fallback generada: En cuanto al estilo del coche, ¿te inclinas más por un diseño exclusivo y llamativo, o por algo más discreto y convencional?\n",
      "DEBUG (Preguntar Perfil) ► Usando mensaje pendiente (pregunta LLM): En cuanto al estilo, ¿te inclinas más por un diseño exclusivo y que destaque, o prefieres algo más discreto y convencional?\n",
      "DEBUG (Preguntar Perfil) ► Mensaje final añadido: En cuanto al estilo, ¿te inclinas más por un diseño exclusivo y que destaque, o prefieres algo más discreto y convencional?\n",
      "==================================\u001b[1m Ai Message \u001b[0m==================================\n",
      "\n",
      "En cuanto al estilo, ¿te inclinas más por un diseño exclusivo y que destaque, o prefieres algo más discreto y convencional?\n"
     ]
    }
   ],
   "source": [
    "# Create a thread\n",
    "config = {\"configurable\": {\"thread_id\": \"1\"}}\n",
    "\n",
    "# Start conversation\n",
    "input_message = HumanMessage(content=\"personal\")\n",
    "output = graph.invoke({\"messages\": [input_message]}, config) \n",
    "for m in output['messages'][-1:]:\n",
    "    m.pretty_print()"
   ]
  },
  {
   "cell_type": "code",
   "execution_count": 11,
   "metadata": {},
   "outputs": [
    {
     "name": "stdout",
     "output_type": "stream",
     "text": [
      "--- Ejecutando Nodo: route_based_on_state_node ---\n",
      "\n",
      "--- DEBUG: Evaluating Routing Decision ---\n",
      "DEBUG Router: CP OK? True\n",
      "--- DEBUG CHECK PERFIL ---\n",
      "Input prefs object: apasionado_motor='no' valora_estetica='no' coche_principal_hogar='si' frecuencia_uso=<FrecuenciaUso.DIARIO: 'diario'> distancia_trayecto=<DistanciaTrayecto.MENOS_10_KM: 'no supera los 10 km'> realiza_viajes_largos='no' frecuencia_viajes_largos=None circula_principalmente_ciudad='si' uso_profesional='no' tipo_uso_profesional=None prefiere_diseno_exclusivo=None altura_mayor_190=None peso_mayor_100=None transporta_carga_voluminosa=None necesita_espacio_objetos_especiales=None arrastra_remolque=None tiene_garage=None problemas_aparcar_calle=None espacio_sobra_garage=None problema_dimension_garage=None tiene_punto_carga_propio=None aventura=None estilo_conduccion=None solo_electricos=None prioriza_baja_depreciacion=None transmision_preferida=None rating_fiabilidad_durabilidad=None rating_seguridad=None rating_comodidad=None rating_impacto_ambiental=None rating_tecnologia_conectividad=None rating_costes_uso=None\n",
      "Input prefs type: <class 'graph.perfil.state.PerfilUsuario'>\n",
      "DEBUG (Validation Perfil) ► Campo 'prefiere_diseno_exclusivo' está vacío/None.\n",
      "DEBUG Router: Prefs OK? False\n",
      "DEBUG Router: Pasajeros OK? False\n",
      "DEBUG (Validation Filtros) ► Objeto FiltrosInferidos es None.\n",
      "DEBUG Router: Filtros OK? False\n",
      "--- DEBUG CHECK ECONOMIA (Manual) ---\n",
      "Input econ object: None\n",
      "DEBUG (Validation Economía Manual) ► Objeto EconomiaUsuario es None.\n",
      "DEBUG Router: Economía OK? False\n",
      "DEBUG Router: Pesos Calculados? False\n",
      "DEBUG Router: Coches Buscados? False\n",
      "--- DEBUG CHECK PERFIL ---\n",
      "Input prefs object: apasionado_motor='no' valora_estetica='no' coche_principal_hogar='si' frecuencia_uso=<FrecuenciaUso.DIARIO: 'diario'> distancia_trayecto=<DistanciaTrayecto.MENOS_10_KM: 'no supera los 10 km'> realiza_viajes_largos='no' frecuencia_viajes_largos=None circula_principalmente_ciudad='si' uso_profesional='no' tipo_uso_profesional=None prefiere_diseno_exclusivo=None altura_mayor_190=None peso_mayor_100=None transporta_carga_voluminosa=None necesita_espacio_objetos_especiales=None arrastra_remolque=None tiene_garage=None problemas_aparcar_calle=None espacio_sobra_garage=None problema_dimension_garage=None tiene_punto_carga_propio=None aventura=None estilo_conduccion=None solo_electricos=None prioriza_baja_depreciacion=None transmision_preferida=None rating_fiabilidad_durabilidad=None rating_seguridad=None rating_comodidad=None rating_impacto_ambiental=None rating_tecnologia_conectividad=None rating_costes_uso=None\n",
      "Input prefs type: <class 'graph.perfil.state.PerfilUsuario'>\n",
      "DEBUG (Validation Perfil) ► Campo 'prefiere_diseno_exclusivo' está vacío/None.\n",
      "DEBUG Router: Decisión -> recopilar_preferencias\n",
      "--- Ejecutando Nodo: recopilar_preferencias_node ---\n",
      "--- Ejecutando Nodo: validar_preferencias_node ---\n",
      "--- DEBUG CHECK PERFIL ---\n",
      "Input prefs object: apasionado_motor='no' valora_estetica='no' coche_principal_hogar='si' frecuencia_uso=<FrecuenciaUso.DIARIO: 'diario'> distancia_trayecto=<DistanciaTrayecto.MENOS_10_KM: 'no supera los 10 km'> realiza_viajes_largos='no' frecuencia_viajes_largos=None circula_principalmente_ciudad='si' uso_profesional='no' tipo_uso_profesional=None prefiere_diseno_exclusivo='no' altura_mayor_190=None peso_mayor_100=None transporta_carga_voluminosa=None necesita_espacio_objetos_especiales=None arrastra_remolque=None tiene_garage=None problemas_aparcar_calle=None espacio_sobra_garage=None problema_dimension_garage=None tiene_punto_carga_propio=None aventura=None estilo_conduccion=None solo_electricos=None prioriza_baja_depreciacion=None transmision_preferida=None rating_fiabilidad_durabilidad=None rating_seguridad=None rating_comodidad=None rating_impacto_ambiental=None rating_tecnologia_conectividad=None rating_costes_uso=None\n",
      "Input prefs type: <class 'graph.perfil.state.PerfilUsuario'>\n",
      "DEBUG (Validation Perfil) ► Campo 'altura_mayor_190' está vacío/None.\n",
      "DEBUG (Perfil) ► Validación: PerfilUsuario considerado INCOMPLETO.\n",
      "--- Evaluando Condición: ruta_decision_perfil ---\n",
      "DEBUG (Condición Perfil) ► Estado 'preferencias_usuario' recibido: apasionado_motor='no' valora_estetica='no' coche_principal_hogar='si' frecuencia_uso=<FrecuenciaUso.DIARIO: 'diario'> distancia_trayecto=<DistanciaTrayecto.MENOS_10_KM: 'no supera los 10 km'> realiza_viajes_largos='no' frecuencia_viajes_largos=None circula_principalmente_ciudad='si' uso_profesional='no' tipo_uso_profesional=None prefiere_diseno_exclusivo='no' altura_mayor_190=None peso_mayor_100=None transporta_carga_voluminosa=None necesita_espacio_objetos_especiales=None arrastra_remolque=None tiene_garage=None problemas_aparcar_calle=None espacio_sobra_garage=None problema_dimension_garage=None tiene_punto_carga_propio=None aventura=None estilo_conduccion=None solo_electricos=None prioriza_baja_depreciacion=None transmision_preferida=None rating_fiabilidad_durabilidad=None rating_seguridad=None rating_comodidad=None rating_impacto_ambiental=None rating_tecnologia_conectividad=None rating_costes_uso=None\n",
      "DEBUG (Condición Perfil) ► Tipo de 'preferencias_usuario': <class 'graph.perfil.state.PerfilUsuario'>\n",
      "--- DEBUG CHECK PERFIL ---\n",
      "Input prefs object: apasionado_motor='no' valora_estetica='no' coche_principal_hogar='si' frecuencia_uso=<FrecuenciaUso.DIARIO: 'diario'> distancia_trayecto=<DistanciaTrayecto.MENOS_10_KM: 'no supera los 10 km'> realiza_viajes_largos='no' frecuencia_viajes_largos=None circula_principalmente_ciudad='si' uso_profesional='no' tipo_uso_profesional=None prefiere_diseno_exclusivo='no' altura_mayor_190=None peso_mayor_100=None transporta_carga_voluminosa=None necesita_espacio_objetos_especiales=None arrastra_remolque=None tiene_garage=None problemas_aparcar_calle=None espacio_sobra_garage=None problema_dimension_garage=None tiene_punto_carga_propio=None aventura=None estilo_conduccion=None solo_electricos=None prioriza_baja_depreciacion=None transmision_preferida=None rating_fiabilidad_durabilidad=None rating_seguridad=None rating_comodidad=None rating_impacto_ambiental=None rating_tecnologia_conectividad=None rating_costes_uso=None\n",
      "Input prefs type: <class 'graph.perfil.state.PerfilUsuario'>\n",
      "DEBUG (Validation Perfil) ► Campo 'altura_mayor_190' está vacío/None.\n",
      "DEBUG (Condición Perfil) ► Perfil INCOMPLETO. Se necesita pregunta.\n",
      "--- Ejecutando Nodo: preguntar_preferencias_node ---\n",
      "--- DEBUG CHECK PERFIL ---\n",
      "Input prefs object: apasionado_motor='no' valora_estetica='no' coche_principal_hogar='si' frecuencia_uso=<FrecuenciaUso.DIARIO: 'diario'> distancia_trayecto=<DistanciaTrayecto.MENOS_10_KM: 'no supera los 10 km'> realiza_viajes_largos='no' frecuencia_viajes_largos=None circula_principalmente_ciudad='si' uso_profesional='no' tipo_uso_profesional=None prefiere_diseno_exclusivo='no' altura_mayor_190=None peso_mayor_100=None transporta_carga_voluminosa=None necesita_espacio_objetos_especiales=None arrastra_remolque=None tiene_garage=None problemas_aparcar_calle=None espacio_sobra_garage=None problema_dimension_garage=None tiene_punto_carga_propio=None aventura=None estilo_conduccion=None solo_electricos=None prioriza_baja_depreciacion=None transmision_preferida=None rating_fiabilidad_durabilidad=None rating_seguridad=None rating_comodidad=None rating_impacto_ambiental=None rating_tecnologia_conectividad=None rating_costes_uso=None\n",
      "Input prefs type: <class 'graph.perfil.state.PerfilUsuario'>\n",
      "DEBUG (Validation Perfil) ► Campo 'altura_mayor_190' está vacío/None.\n",
      "DEBUG (Preguntar Perfil) ► Perfil aún INCOMPLETO según checker.\n",
      "DEBUG (Preguntar Perfil) ► Pregunta fallback generada: Para recomendarte un vehículo con espacio adecuado, ¿tu altura supera los 1.90 metros?\n",
      "WARN (Preguntar Perfil) ► Nodo ejecutado para preguntar, pero no había mensaje pendiente válido. Generando pregunta fallback.\n",
      "DEBUG (Preguntar Perfil) ► Mensaje final añadido: Para recomendarte un vehículo con espacio adecuado, ¿tu altura supera los 1.90 metros?\n",
      "==================================\u001b[1m Ai Message \u001b[0m==================================\n",
      "\n",
      "Para recomendarte un vehículo con espacio adecuado, ¿tu altura supera los 1.90 metros?\n"
     ]
    }
   ],
   "source": [
    "# Create a thread\n",
    "config = {\"configurable\": {\"thread_id\": \"1\"}}\n",
    "\n",
    "# Start conversation\n",
    "input_message = HumanMessage(content=\"discreto\")\n",
    "output = graph.invoke({\"messages\": [input_message]}, config) \n",
    "for m in output['messages'][-1:]:\n",
    "    m.pretty_print()"
   ]
  },
  {
   "cell_type": "code",
   "execution_count": 12,
   "metadata": {},
   "outputs": [
    {
     "name": "stdout",
     "output_type": "stream",
     "text": [
      "--- Ejecutando Nodo: route_based_on_state_node ---\n",
      "\n",
      "--- DEBUG: Evaluating Routing Decision ---\n",
      "DEBUG Router: CP OK? True\n",
      "--- DEBUG CHECK PERFIL ---\n",
      "Input prefs object: apasionado_motor='no' valora_estetica='no' coche_principal_hogar='si' frecuencia_uso=<FrecuenciaUso.DIARIO: 'diario'> distancia_trayecto=<DistanciaTrayecto.MENOS_10_KM: 'no supera los 10 km'> realiza_viajes_largos='no' frecuencia_viajes_largos=None circula_principalmente_ciudad='si' uso_profesional='no' tipo_uso_profesional=None prefiere_diseno_exclusivo='no' altura_mayor_190=None peso_mayor_100=None transporta_carga_voluminosa=None necesita_espacio_objetos_especiales=None arrastra_remolque=None tiene_garage=None problemas_aparcar_calle=None espacio_sobra_garage=None problema_dimension_garage=None tiene_punto_carga_propio=None aventura=None estilo_conduccion=None solo_electricos=None prioriza_baja_depreciacion=None transmision_preferida=None rating_fiabilidad_durabilidad=None rating_seguridad=None rating_comodidad=None rating_impacto_ambiental=None rating_tecnologia_conectividad=None rating_costes_uso=None\n",
      "Input prefs type: <class 'graph.perfil.state.PerfilUsuario'>\n",
      "DEBUG (Validation Perfil) ► Campo 'altura_mayor_190' está vacío/None.\n",
      "DEBUG Router: Prefs OK? False\n",
      "DEBUG Router: Pasajeros OK? False\n",
      "DEBUG (Validation Filtros) ► Objeto FiltrosInferidos es None.\n",
      "DEBUG Router: Filtros OK? False\n",
      "--- DEBUG CHECK ECONOMIA (Manual) ---\n",
      "Input econ object: None\n",
      "DEBUG (Validation Economía Manual) ► Objeto EconomiaUsuario es None.\n",
      "DEBUG Router: Economía OK? False\n",
      "DEBUG Router: Pesos Calculados? False\n",
      "DEBUG Router: Coches Buscados? False\n",
      "--- DEBUG CHECK PERFIL ---\n",
      "Input prefs object: apasionado_motor='no' valora_estetica='no' coche_principal_hogar='si' frecuencia_uso=<FrecuenciaUso.DIARIO: 'diario'> distancia_trayecto=<DistanciaTrayecto.MENOS_10_KM: 'no supera los 10 km'> realiza_viajes_largos='no' frecuencia_viajes_largos=None circula_principalmente_ciudad='si' uso_profesional='no' tipo_uso_profesional=None prefiere_diseno_exclusivo='no' altura_mayor_190=None peso_mayor_100=None transporta_carga_voluminosa=None necesita_espacio_objetos_especiales=None arrastra_remolque=None tiene_garage=None problemas_aparcar_calle=None espacio_sobra_garage=None problema_dimension_garage=None tiene_punto_carga_propio=None aventura=None estilo_conduccion=None solo_electricos=None prioriza_baja_depreciacion=None transmision_preferida=None rating_fiabilidad_durabilidad=None rating_seguridad=None rating_comodidad=None rating_impacto_ambiental=None rating_tecnologia_conectividad=None rating_costes_uso=None\n",
      "Input prefs type: <class 'graph.perfil.state.PerfilUsuario'>\n",
      "DEBUG (Validation Perfil) ► Campo 'altura_mayor_190' está vacío/None.\n",
      "DEBUG Router: Decisión -> recopilar_preferencias\n",
      "--- Ejecutando Nodo: recopilar_preferencias_node ---\n",
      "--- Ejecutando Nodo: validar_preferencias_node ---\n",
      "--- DEBUG CHECK PERFIL ---\n",
      "Input prefs object: apasionado_motor='no' valora_estetica='no' coche_principal_hogar='si' frecuencia_uso=<FrecuenciaUso.DIARIO: 'diario'> distancia_trayecto=<DistanciaTrayecto.MENOS_10_KM: 'no supera los 10 km'> realiza_viajes_largos='no' frecuencia_viajes_largos=None circula_principalmente_ciudad='si' uso_profesional='no' tipo_uso_profesional=None prefiere_diseno_exclusivo='no' altura_mayor_190='no' peso_mayor_100=None transporta_carga_voluminosa=None necesita_espacio_objetos_especiales=None arrastra_remolque=None tiene_garage=None problemas_aparcar_calle=None espacio_sobra_garage=None problema_dimension_garage=None tiene_punto_carga_propio=None aventura=None estilo_conduccion=None solo_electricos=None prioriza_baja_depreciacion=None transmision_preferida=None rating_fiabilidad_durabilidad=None rating_seguridad=None rating_comodidad=None rating_impacto_ambiental=None rating_tecnologia_conectividad=None rating_costes_uso=None\n",
      "Input prefs type: <class 'graph.perfil.state.PerfilUsuario'>\n",
      "DEBUG (Validation Perfil) ► Campo 'peso_mayor_100' está vacío/None.\n",
      "DEBUG (Perfil) ► Validación: PerfilUsuario considerado INCOMPLETO.\n",
      "--- Evaluando Condición: ruta_decision_perfil ---\n",
      "DEBUG (Condición Perfil) ► Estado 'preferencias_usuario' recibido: apasionado_motor='no' valora_estetica='no' coche_principal_hogar='si' frecuencia_uso=<FrecuenciaUso.DIARIO: 'diario'> distancia_trayecto=<DistanciaTrayecto.MENOS_10_KM: 'no supera los 10 km'> realiza_viajes_largos='no' frecuencia_viajes_largos=None circula_principalmente_ciudad='si' uso_profesional='no' tipo_uso_profesional=None prefiere_diseno_exclusivo='no' altura_mayor_190='no' peso_mayor_100=None transporta_carga_voluminosa=None necesita_espacio_objetos_especiales=None arrastra_remolque=None tiene_garage=None problemas_aparcar_calle=None espacio_sobra_garage=None problema_dimension_garage=None tiene_punto_carga_propio=None aventura=None estilo_conduccion=None solo_electricos=None prioriza_baja_depreciacion=None transmision_preferida=None rating_fiabilidad_durabilidad=None rating_seguridad=None rating_comodidad=None rating_impacto_ambiental=None rating_tecnologia_conectividad=None rating_costes_uso=None\n",
      "DEBUG (Condición Perfil) ► Tipo de 'preferencias_usuario': <class 'graph.perfil.state.PerfilUsuario'>\n",
      "--- DEBUG CHECK PERFIL ---\n",
      "Input prefs object: apasionado_motor='no' valora_estetica='no' coche_principal_hogar='si' frecuencia_uso=<FrecuenciaUso.DIARIO: 'diario'> distancia_trayecto=<DistanciaTrayecto.MENOS_10_KM: 'no supera los 10 km'> realiza_viajes_largos='no' frecuencia_viajes_largos=None circula_principalmente_ciudad='si' uso_profesional='no' tipo_uso_profesional=None prefiere_diseno_exclusivo='no' altura_mayor_190='no' peso_mayor_100=None transporta_carga_voluminosa=None necesita_espacio_objetos_especiales=None arrastra_remolque=None tiene_garage=None problemas_aparcar_calle=None espacio_sobra_garage=None problema_dimension_garage=None tiene_punto_carga_propio=None aventura=None estilo_conduccion=None solo_electricos=None prioriza_baja_depreciacion=None transmision_preferida=None rating_fiabilidad_durabilidad=None rating_seguridad=None rating_comodidad=None rating_impacto_ambiental=None rating_tecnologia_conectividad=None rating_costes_uso=None\n",
      "Input prefs type: <class 'graph.perfil.state.PerfilUsuario'>\n",
      "DEBUG (Validation Perfil) ► Campo 'peso_mayor_100' está vacío/None.\n",
      "DEBUG (Condición Perfil) ► Perfil INCOMPLETO. Se necesita pregunta.\n",
      "--- Ejecutando Nodo: preguntar_preferencias_node ---\n",
      "--- DEBUG CHECK PERFIL ---\n",
      "Input prefs object: apasionado_motor='no' valora_estetica='no' coche_principal_hogar='si' frecuencia_uso=<FrecuenciaUso.DIARIO: 'diario'> distancia_trayecto=<DistanciaTrayecto.MENOS_10_KM: 'no supera los 10 km'> realiza_viajes_largos='no' frecuencia_viajes_largos=None circula_principalmente_ciudad='si' uso_profesional='no' tipo_uso_profesional=None prefiere_diseno_exclusivo='no' altura_mayor_190='no' peso_mayor_100=None transporta_carga_voluminosa=None necesita_espacio_objetos_especiales=None arrastra_remolque=None tiene_garage=None problemas_aparcar_calle=None espacio_sobra_garage=None problema_dimension_garage=None tiene_punto_carga_propio=None aventura=None estilo_conduccion=None solo_electricos=None prioriza_baja_depreciacion=None transmision_preferida=None rating_fiabilidad_durabilidad=None rating_seguridad=None rating_comodidad=None rating_impacto_ambiental=None rating_tecnologia_conectividad=None rating_costes_uso=None\n",
      "Input prefs type: <class 'graph.perfil.state.PerfilUsuario'>\n",
      "DEBUG (Validation Perfil) ► Campo 'peso_mayor_100' está vacío/None.\n",
      "DEBUG (Preguntar Perfil) ► Perfil aún INCOMPLETO según checker.\n",
      "DEBUG (Preguntar Perfil) ► Pregunta fallback generada: Para garantizar tu máxima comodidad, ¿tienes un peso superior a 100 kg?\n",
      "DEBUG (Preguntar Perfil) ► Usando mensaje pendiente (pregunta LLM): Y en cuanto al peso, ¿superas los 100 kg? Esto nos ayuda con la amplitud de los asientos.\n",
      "DEBUG (Preguntar Perfil) ► Mensaje final añadido: Y en cuanto al peso, ¿superas los 100 kg? Esto nos ayuda con la amplitud de los asientos.\n",
      "==================================\u001b[1m Ai Message \u001b[0m==================================\n",
      "\n",
      "Y en cuanto al peso, ¿superas los 100 kg? Esto nos ayuda con la amplitud de los asientos.\n"
     ]
    }
   ],
   "source": [
    "# Create a thread\n",
    "config = {\"configurable\": {\"thread_id\": \"1\"}}\n",
    "\n",
    "# Start conversation\n",
    "input_message = HumanMessage(content=\"mido 1.82 \")\n",
    "output = graph.invoke({\"messages\": [input_message]}, config) \n",
    "for m in output['messages'][-1:]:\n",
    "    m.pretty_print()"
   ]
  },
  {
   "cell_type": "code",
   "execution_count": 13,
   "metadata": {},
   "outputs": [
    {
     "name": "stdout",
     "output_type": "stream",
     "text": [
      "--- Ejecutando Nodo: route_based_on_state_node ---\n",
      "\n",
      "--- DEBUG: Evaluating Routing Decision ---\n",
      "DEBUG Router: CP OK? True\n",
      "--- DEBUG CHECK PERFIL ---\n",
      "Input prefs object: apasionado_motor='no' valora_estetica='no' coche_principal_hogar='si' frecuencia_uso=<FrecuenciaUso.DIARIO: 'diario'> distancia_trayecto=<DistanciaTrayecto.MENOS_10_KM: 'no supera los 10 km'> realiza_viajes_largos='no' frecuencia_viajes_largos=None circula_principalmente_ciudad='si' uso_profesional='no' tipo_uso_profesional=None prefiere_diseno_exclusivo='no' altura_mayor_190='no' peso_mayor_100=None transporta_carga_voluminosa=None necesita_espacio_objetos_especiales=None arrastra_remolque=None tiene_garage=None problemas_aparcar_calle=None espacio_sobra_garage=None problema_dimension_garage=None tiene_punto_carga_propio=None aventura=None estilo_conduccion=None solo_electricos=None prioriza_baja_depreciacion=None transmision_preferida=None rating_fiabilidad_durabilidad=None rating_seguridad=None rating_comodidad=None rating_impacto_ambiental=None rating_tecnologia_conectividad=None rating_costes_uso=None\n",
      "Input prefs type: <class 'graph.perfil.state.PerfilUsuario'>\n",
      "DEBUG (Validation Perfil) ► Campo 'peso_mayor_100' está vacío/None.\n",
      "DEBUG Router: Prefs OK? False\n",
      "DEBUG Router: Pasajeros OK? False\n",
      "DEBUG (Validation Filtros) ► Objeto FiltrosInferidos es None.\n",
      "DEBUG Router: Filtros OK? False\n",
      "--- DEBUG CHECK ECONOMIA (Manual) ---\n",
      "Input econ object: None\n",
      "DEBUG (Validation Economía Manual) ► Objeto EconomiaUsuario es None.\n",
      "DEBUG Router: Economía OK? False\n",
      "DEBUG Router: Pesos Calculados? False\n",
      "DEBUG Router: Coches Buscados? False\n",
      "--- DEBUG CHECK PERFIL ---\n",
      "Input prefs object: apasionado_motor='no' valora_estetica='no' coche_principal_hogar='si' frecuencia_uso=<FrecuenciaUso.DIARIO: 'diario'> distancia_trayecto=<DistanciaTrayecto.MENOS_10_KM: 'no supera los 10 km'> realiza_viajes_largos='no' frecuencia_viajes_largos=None circula_principalmente_ciudad='si' uso_profesional='no' tipo_uso_profesional=None prefiere_diseno_exclusivo='no' altura_mayor_190='no' peso_mayor_100=None transporta_carga_voluminosa=None necesita_espacio_objetos_especiales=None arrastra_remolque=None tiene_garage=None problemas_aparcar_calle=None espacio_sobra_garage=None problema_dimension_garage=None tiene_punto_carga_propio=None aventura=None estilo_conduccion=None solo_electricos=None prioriza_baja_depreciacion=None transmision_preferida=None rating_fiabilidad_durabilidad=None rating_seguridad=None rating_comodidad=None rating_impacto_ambiental=None rating_tecnologia_conectividad=None rating_costes_uso=None\n",
      "Input prefs type: <class 'graph.perfil.state.PerfilUsuario'>\n",
      "DEBUG (Validation Perfil) ► Campo 'peso_mayor_100' está vacío/None.\n",
      "DEBUG Router: Decisión -> recopilar_preferencias\n",
      "--- Ejecutando Nodo: recopilar_preferencias_node ---\n",
      "--- Ejecutando Nodo: validar_preferencias_node ---\n",
      "--- DEBUG CHECK PERFIL ---\n",
      "Input prefs object: apasionado_motor='no' valora_estetica='no' coche_principal_hogar='si' frecuencia_uso=<FrecuenciaUso.DIARIO: 'diario'> distancia_trayecto=<DistanciaTrayecto.MENOS_10_KM: 'no supera los 10 km'> realiza_viajes_largos='no' frecuencia_viajes_largos=None circula_principalmente_ciudad='si' uso_profesional='no' tipo_uso_profesional=None prefiere_diseno_exclusivo='no' altura_mayor_190='no' peso_mayor_100='no' transporta_carga_voluminosa=None necesita_espacio_objetos_especiales=None arrastra_remolque=None tiene_garage=None problemas_aparcar_calle=None espacio_sobra_garage=None problema_dimension_garage=None tiene_punto_carga_propio=None aventura=None estilo_conduccion=None solo_electricos=None prioriza_baja_depreciacion=None transmision_preferida=None rating_fiabilidad_durabilidad=None rating_seguridad=None rating_comodidad=None rating_impacto_ambiental=None rating_tecnologia_conectividad=None rating_costes_uso=None\n",
      "Input prefs type: <class 'graph.perfil.state.PerfilUsuario'>\n",
      "DEBUG (Validation Perfil) ► Campo 'transporta_carga_voluminosa' está vacío/None.\n",
      "DEBUG (Perfil) ► Validación: PerfilUsuario considerado INCOMPLETO.\n",
      "--- Evaluando Condición: ruta_decision_perfil ---\n",
      "DEBUG (Condición Perfil) ► Estado 'preferencias_usuario' recibido: apasionado_motor='no' valora_estetica='no' coche_principal_hogar='si' frecuencia_uso=<FrecuenciaUso.DIARIO: 'diario'> distancia_trayecto=<DistanciaTrayecto.MENOS_10_KM: 'no supera los 10 km'> realiza_viajes_largos='no' frecuencia_viajes_largos=None circula_principalmente_ciudad='si' uso_profesional='no' tipo_uso_profesional=None prefiere_diseno_exclusivo='no' altura_mayor_190='no' peso_mayor_100='no' transporta_carga_voluminosa=None necesita_espacio_objetos_especiales=None arrastra_remolque=None tiene_garage=None problemas_aparcar_calle=None espacio_sobra_garage=None problema_dimension_garage=None tiene_punto_carga_propio=None aventura=None estilo_conduccion=None solo_electricos=None prioriza_baja_depreciacion=None transmision_preferida=None rating_fiabilidad_durabilidad=None rating_seguridad=None rating_comodidad=None rating_impacto_ambiental=None rating_tecnologia_conectividad=None rating_costes_uso=None\n",
      "DEBUG (Condición Perfil) ► Tipo de 'preferencias_usuario': <class 'graph.perfil.state.PerfilUsuario'>\n",
      "--- DEBUG CHECK PERFIL ---\n",
      "Input prefs object: apasionado_motor='no' valora_estetica='no' coche_principal_hogar='si' frecuencia_uso=<FrecuenciaUso.DIARIO: 'diario'> distancia_trayecto=<DistanciaTrayecto.MENOS_10_KM: 'no supera los 10 km'> realiza_viajes_largos='no' frecuencia_viajes_largos=None circula_principalmente_ciudad='si' uso_profesional='no' tipo_uso_profesional=None prefiere_diseno_exclusivo='no' altura_mayor_190='no' peso_mayor_100='no' transporta_carga_voluminosa=None necesita_espacio_objetos_especiales=None arrastra_remolque=None tiene_garage=None problemas_aparcar_calle=None espacio_sobra_garage=None problema_dimension_garage=None tiene_punto_carga_propio=None aventura=None estilo_conduccion=None solo_electricos=None prioriza_baja_depreciacion=None transmision_preferida=None rating_fiabilidad_durabilidad=None rating_seguridad=None rating_comodidad=None rating_impacto_ambiental=None rating_tecnologia_conectividad=None rating_costes_uso=None\n",
      "Input prefs type: <class 'graph.perfil.state.PerfilUsuario'>\n",
      "DEBUG (Validation Perfil) ► Campo 'transporta_carga_voluminosa' está vacío/None.\n",
      "DEBUG (Condición Perfil) ► Perfil INCOMPLETO. Se necesita pregunta.\n",
      "--- Ejecutando Nodo: preguntar_preferencias_node ---\n",
      "--- DEBUG CHECK PERFIL ---\n",
      "Input prefs object: apasionado_motor='no' valora_estetica='no' coche_principal_hogar='si' frecuencia_uso=<FrecuenciaUso.DIARIO: 'diario'> distancia_trayecto=<DistanciaTrayecto.MENOS_10_KM: 'no supera los 10 km'> realiza_viajes_largos='no' frecuencia_viajes_largos=None circula_principalmente_ciudad='si' uso_profesional='no' tipo_uso_profesional=None prefiere_diseno_exclusivo='no' altura_mayor_190='no' peso_mayor_100='no' transporta_carga_voluminosa=None necesita_espacio_objetos_especiales=None arrastra_remolque=None tiene_garage=None problemas_aparcar_calle=None espacio_sobra_garage=None problema_dimension_garage=None tiene_punto_carga_propio=None aventura=None estilo_conduccion=None solo_electricos=None prioriza_baja_depreciacion=None transmision_preferida=None rating_fiabilidad_durabilidad=None rating_seguridad=None rating_comodidad=None rating_impacto_ambiental=None rating_tecnologia_conectividad=None rating_costes_uso=None\n",
      "Input prefs type: <class 'graph.perfil.state.PerfilUsuario'>\n",
      "DEBUG (Validation Perfil) ► Campo 'transporta_carga_voluminosa' está vacío/None.\n",
      "DEBUG (Preguntar Perfil) ► Perfil aún INCOMPLETO según checker.\n",
      "DEBUG (Preguntar Perfil) ► Pregunta fallback generada: ¿Acostumbras a viajar con el maletero muy cargado? (Responde 'sí' o 'no')\n",
      "WARN (Preguntar Perfil) ► Nodo ejecutado para preguntar, pero no había mensaje pendiente válido. Generando pregunta fallback.\n",
      "DEBUG (Preguntar Perfil) ► Mensaje final añadido: ¿Acostumbras a viajar con el maletero muy cargado? (Responde 'sí' o 'no')\n",
      "==================================\u001b[1m Ai Message \u001b[0m==================================\n",
      "\n",
      "¿Acostumbras a viajar con el maletero muy cargado? (Responde 'sí' o 'no')\n"
     ]
    }
   ],
   "source": [
    "# Create a thread\n",
    "config = {\"configurable\": {\"thread_id\": \"1\"}}\n",
    "\n",
    "# Start conversation\n",
    "input_message = HumanMessage(content=\"no\")\n",
    "output = graph.invoke({\"messages\": [input_message]}, config) \n",
    "for m in output['messages'][-1:]:\n",
    "    m.pretty_print()"
   ]
  },
  {
   "cell_type": "code",
   "execution_count": 14,
   "metadata": {},
   "outputs": [
    {
     "name": "stdout",
     "output_type": "stream",
     "text": [
      "--- Ejecutando Nodo: route_based_on_state_node ---\n",
      "\n",
      "--- DEBUG: Evaluating Routing Decision ---\n",
      "DEBUG Router: CP OK? True\n",
      "--- DEBUG CHECK PERFIL ---\n",
      "Input prefs object: apasionado_motor='no' valora_estetica='no' coche_principal_hogar='si' frecuencia_uso=<FrecuenciaUso.DIARIO: 'diario'> distancia_trayecto=<DistanciaTrayecto.MENOS_10_KM: 'no supera los 10 km'> realiza_viajes_largos='no' frecuencia_viajes_largos=None circula_principalmente_ciudad='si' uso_profesional='no' tipo_uso_profesional=None prefiere_diseno_exclusivo='no' altura_mayor_190='no' peso_mayor_100='no' transporta_carga_voluminosa=None necesita_espacio_objetos_especiales=None arrastra_remolque=None tiene_garage=None problemas_aparcar_calle=None espacio_sobra_garage=None problema_dimension_garage=None tiene_punto_carga_propio=None aventura=None estilo_conduccion=None solo_electricos=None prioriza_baja_depreciacion=None transmision_preferida=None rating_fiabilidad_durabilidad=None rating_seguridad=None rating_comodidad=None rating_impacto_ambiental=None rating_tecnologia_conectividad=None rating_costes_uso=None\n",
      "Input prefs type: <class 'graph.perfil.state.PerfilUsuario'>\n",
      "DEBUG (Validation Perfil) ► Campo 'transporta_carga_voluminosa' está vacío/None.\n",
      "DEBUG Router: Prefs OK? False\n",
      "DEBUG Router: Pasajeros OK? False\n",
      "DEBUG (Validation Filtros) ► Objeto FiltrosInferidos es None.\n",
      "DEBUG Router: Filtros OK? False\n",
      "--- DEBUG CHECK ECONOMIA (Manual) ---\n",
      "Input econ object: None\n",
      "DEBUG (Validation Economía Manual) ► Objeto EconomiaUsuario es None.\n",
      "DEBUG Router: Economía OK? False\n",
      "DEBUG Router: Pesos Calculados? False\n",
      "DEBUG Router: Coches Buscados? False\n",
      "--- DEBUG CHECK PERFIL ---\n",
      "Input prefs object: apasionado_motor='no' valora_estetica='no' coche_principal_hogar='si' frecuencia_uso=<FrecuenciaUso.DIARIO: 'diario'> distancia_trayecto=<DistanciaTrayecto.MENOS_10_KM: 'no supera los 10 km'> realiza_viajes_largos='no' frecuencia_viajes_largos=None circula_principalmente_ciudad='si' uso_profesional='no' tipo_uso_profesional=None prefiere_diseno_exclusivo='no' altura_mayor_190='no' peso_mayor_100='no' transporta_carga_voluminosa=None necesita_espacio_objetos_especiales=None arrastra_remolque=None tiene_garage=None problemas_aparcar_calle=None espacio_sobra_garage=None problema_dimension_garage=None tiene_punto_carga_propio=None aventura=None estilo_conduccion=None solo_electricos=None prioriza_baja_depreciacion=None transmision_preferida=None rating_fiabilidad_durabilidad=None rating_seguridad=None rating_comodidad=None rating_impacto_ambiental=None rating_tecnologia_conectividad=None rating_costes_uso=None\n",
      "Input prefs type: <class 'graph.perfil.state.PerfilUsuario'>\n",
      "DEBUG (Validation Perfil) ► Campo 'transporta_carga_voluminosa' está vacío/None.\n",
      "DEBUG Router: Decisión -> recopilar_preferencias\n",
      "--- Ejecutando Nodo: recopilar_preferencias_node ---\n",
      "--- Ejecutando Nodo: validar_preferencias_node ---\n",
      "--- DEBUG CHECK PERFIL ---\n",
      "Input prefs object: apasionado_motor='no' valora_estetica='no' coche_principal_hogar='si' frecuencia_uso=<FrecuenciaUso.DIARIO: 'diario'> distancia_trayecto=<DistanciaTrayecto.MENOS_10_KM: 'no supera los 10 km'> realiza_viajes_largos='no' frecuencia_viajes_largos=None circula_principalmente_ciudad='si' uso_profesional='no' tipo_uso_profesional=None prefiere_diseno_exclusivo='no' altura_mayor_190='no' peso_mayor_100='no' transporta_carga_voluminosa='no' necesita_espacio_objetos_especiales=None arrastra_remolque=None tiene_garage=None problemas_aparcar_calle=None espacio_sobra_garage=None problema_dimension_garage=None tiene_punto_carga_propio=None aventura=None estilo_conduccion=None solo_electricos=None prioriza_baja_depreciacion=None transmision_preferida=None rating_fiabilidad_durabilidad=None rating_seguridad=None rating_comodidad=None rating_impacto_ambiental=None rating_tecnologia_conectividad=None rating_costes_uso=None\n",
      "Input prefs type: <class 'graph.perfil.state.PerfilUsuario'>\n",
      "DEBUG (Validation Perfil) ► Campo 'arrastra_remolque' está vacío/None.\n",
      "DEBUG (Perfil) ► Validación: PerfilUsuario considerado INCOMPLETO.\n",
      "--- Evaluando Condición: ruta_decision_perfil ---\n",
      "DEBUG (Condición Perfil) ► Estado 'preferencias_usuario' recibido: apasionado_motor='no' valora_estetica='no' coche_principal_hogar='si' frecuencia_uso=<FrecuenciaUso.DIARIO: 'diario'> distancia_trayecto=<DistanciaTrayecto.MENOS_10_KM: 'no supera los 10 km'> realiza_viajes_largos='no' frecuencia_viajes_largos=None circula_principalmente_ciudad='si' uso_profesional='no' tipo_uso_profesional=None prefiere_diseno_exclusivo='no' altura_mayor_190='no' peso_mayor_100='no' transporta_carga_voluminosa='no' necesita_espacio_objetos_especiales=None arrastra_remolque=None tiene_garage=None problemas_aparcar_calle=None espacio_sobra_garage=None problema_dimension_garage=None tiene_punto_carga_propio=None aventura=None estilo_conduccion=None solo_electricos=None prioriza_baja_depreciacion=None transmision_preferida=None rating_fiabilidad_durabilidad=None rating_seguridad=None rating_comodidad=None rating_impacto_ambiental=None rating_tecnologia_conectividad=None rating_costes_uso=None\n",
      "DEBUG (Condición Perfil) ► Tipo de 'preferencias_usuario': <class 'graph.perfil.state.PerfilUsuario'>\n",
      "--- DEBUG CHECK PERFIL ---\n",
      "Input prefs object: apasionado_motor='no' valora_estetica='no' coche_principal_hogar='si' frecuencia_uso=<FrecuenciaUso.DIARIO: 'diario'> distancia_trayecto=<DistanciaTrayecto.MENOS_10_KM: 'no supera los 10 km'> realiza_viajes_largos='no' frecuencia_viajes_largos=None circula_principalmente_ciudad='si' uso_profesional='no' tipo_uso_profesional=None prefiere_diseno_exclusivo='no' altura_mayor_190='no' peso_mayor_100='no' transporta_carga_voluminosa='no' necesita_espacio_objetos_especiales=None arrastra_remolque=None tiene_garage=None problemas_aparcar_calle=None espacio_sobra_garage=None problema_dimension_garage=None tiene_punto_carga_propio=None aventura=None estilo_conduccion=None solo_electricos=None prioriza_baja_depreciacion=None transmision_preferida=None rating_fiabilidad_durabilidad=None rating_seguridad=None rating_comodidad=None rating_impacto_ambiental=None rating_tecnologia_conectividad=None rating_costes_uso=None\n",
      "Input prefs type: <class 'graph.perfil.state.PerfilUsuario'>\n",
      "DEBUG (Validation Perfil) ► Campo 'arrastra_remolque' está vacío/None.\n",
      "DEBUG (Condición Perfil) ► Perfil INCOMPLETO. Se necesita pregunta.\n",
      "--- Ejecutando Nodo: preguntar_preferencias_node ---\n",
      "--- DEBUG CHECK PERFIL ---\n",
      "Input prefs object: apasionado_motor='no' valora_estetica='no' coche_principal_hogar='si' frecuencia_uso=<FrecuenciaUso.DIARIO: 'diario'> distancia_trayecto=<DistanciaTrayecto.MENOS_10_KM: 'no supera los 10 km'> realiza_viajes_largos='no' frecuencia_viajes_largos=None circula_principalmente_ciudad='si' uso_profesional='no' tipo_uso_profesional=None prefiere_diseno_exclusivo='no' altura_mayor_190='no' peso_mayor_100='no' transporta_carga_voluminosa='no' necesita_espacio_objetos_especiales=None arrastra_remolque=None tiene_garage=None problemas_aparcar_calle=None espacio_sobra_garage=None problema_dimension_garage=None tiene_punto_carga_propio=None aventura=None estilo_conduccion=None solo_electricos=None prioriza_baja_depreciacion=None transmision_preferida=None rating_fiabilidad_durabilidad=None rating_seguridad=None rating_comodidad=None rating_impacto_ambiental=None rating_tecnologia_conectividad=None rating_costes_uso=None\n",
      "Input prefs type: <class 'graph.perfil.state.PerfilUsuario'>\n",
      "DEBUG (Validation Perfil) ► Campo 'arrastra_remolque' está vacío/None.\n",
      "DEBUG (Preguntar Perfil) ► Perfil aún INCOMPLETO según checker.\n",
      "DEBUG (Preguntar Perfil) ► Pregunta fallback generada: ¿Vas a arrastrar remolque pesado o caravana?\n",
      "WARN (Preguntar Perfil) ► Nodo ejecutado para preguntar, pero no había mensaje pendiente válido. Generando pregunta fallback.\n",
      "DEBUG (Preguntar Perfil) ► Mensaje final añadido: ¿Vas a arrastrar remolque pesado o caravana?\n",
      "==================================\u001b[1m Ai Message \u001b[0m==================================\n",
      "\n",
      "¿Vas a arrastrar remolque pesado o caravana?\n"
     ]
    }
   ],
   "source": [
    "# Create a thread\n",
    "config = {\"configurable\": {\"thread_id\": \"1\"}}\n",
    "\n",
    "# Start conversation\n",
    "input_message = HumanMessage(content=\"no\")\n",
    "output = graph.invoke({\"messages\": [input_message]}, config) \n",
    "for m in output['messages'][-1:]:\n",
    "    m.pretty_print()"
   ]
  },
  {
   "cell_type": "code",
   "execution_count": 15,
   "metadata": {},
   "outputs": [
    {
     "name": "stdout",
     "output_type": "stream",
     "text": [
      "--- Ejecutando Nodo: route_based_on_state_node ---\n",
      "\n",
      "--- DEBUG: Evaluating Routing Decision ---\n",
      "DEBUG Router: CP OK? True\n",
      "--- DEBUG CHECK PERFIL ---\n",
      "Input prefs object: apasionado_motor='no' valora_estetica='no' coche_principal_hogar='si' frecuencia_uso=<FrecuenciaUso.DIARIO: 'diario'> distancia_trayecto=<DistanciaTrayecto.MENOS_10_KM: 'no supera los 10 km'> realiza_viajes_largos='no' frecuencia_viajes_largos=None circula_principalmente_ciudad='si' uso_profesional='no' tipo_uso_profesional=None prefiere_diseno_exclusivo='no' altura_mayor_190='no' peso_mayor_100='no' transporta_carga_voluminosa='no' necesita_espacio_objetos_especiales=None arrastra_remolque=None tiene_garage=None problemas_aparcar_calle=None espacio_sobra_garage=None problema_dimension_garage=None tiene_punto_carga_propio=None aventura=None estilo_conduccion=None solo_electricos=None prioriza_baja_depreciacion=None transmision_preferida=None rating_fiabilidad_durabilidad=None rating_seguridad=None rating_comodidad=None rating_impacto_ambiental=None rating_tecnologia_conectividad=None rating_costes_uso=None\n",
      "Input prefs type: <class 'graph.perfil.state.PerfilUsuario'>\n",
      "DEBUG (Validation Perfil) ► Campo 'arrastra_remolque' está vacío/None.\n",
      "DEBUG Router: Prefs OK? False\n",
      "DEBUG Router: Pasajeros OK? False\n",
      "DEBUG (Validation Filtros) ► Objeto FiltrosInferidos es None.\n",
      "DEBUG Router: Filtros OK? False\n",
      "--- DEBUG CHECK ECONOMIA (Manual) ---\n",
      "Input econ object: None\n",
      "DEBUG (Validation Economía Manual) ► Objeto EconomiaUsuario es None.\n",
      "DEBUG Router: Economía OK? False\n",
      "DEBUG Router: Pesos Calculados? False\n",
      "DEBUG Router: Coches Buscados? False\n",
      "--- DEBUG CHECK PERFIL ---\n",
      "Input prefs object: apasionado_motor='no' valora_estetica='no' coche_principal_hogar='si' frecuencia_uso=<FrecuenciaUso.DIARIO: 'diario'> distancia_trayecto=<DistanciaTrayecto.MENOS_10_KM: 'no supera los 10 km'> realiza_viajes_largos='no' frecuencia_viajes_largos=None circula_principalmente_ciudad='si' uso_profesional='no' tipo_uso_profesional=None prefiere_diseno_exclusivo='no' altura_mayor_190='no' peso_mayor_100='no' transporta_carga_voluminosa='no' necesita_espacio_objetos_especiales=None arrastra_remolque=None tiene_garage=None problemas_aparcar_calle=None espacio_sobra_garage=None problema_dimension_garage=None tiene_punto_carga_propio=None aventura=None estilo_conduccion=None solo_electricos=None prioriza_baja_depreciacion=None transmision_preferida=None rating_fiabilidad_durabilidad=None rating_seguridad=None rating_comodidad=None rating_impacto_ambiental=None rating_tecnologia_conectividad=None rating_costes_uso=None\n",
      "Input prefs type: <class 'graph.perfil.state.PerfilUsuario'>\n",
      "DEBUG (Validation Perfil) ► Campo 'arrastra_remolque' está vacío/None.\n",
      "DEBUG Router: Decisión -> recopilar_preferencias\n",
      "--- Ejecutando Nodo: recopilar_preferencias_node ---\n",
      "--- Ejecutando Nodo: validar_preferencias_node ---\n",
      "--- DEBUG CHECK PERFIL ---\n",
      "Input prefs object: apasionado_motor='no' valora_estetica='no' coche_principal_hogar='si' frecuencia_uso=<FrecuenciaUso.DIARIO: 'diario'> distancia_trayecto=<DistanciaTrayecto.MENOS_10_KM: 'no supera los 10 km'> realiza_viajes_largos='no' frecuencia_viajes_largos=None circula_principalmente_ciudad='si' uso_profesional='no' tipo_uso_profesional=None prefiere_diseno_exclusivo='no' altura_mayor_190='no' peso_mayor_100='no' transporta_carga_voluminosa='no' necesita_espacio_objetos_especiales=None arrastra_remolque='no' tiene_garage=None problemas_aparcar_calle=None espacio_sobra_garage=None problema_dimension_garage=None tiene_punto_carga_propio=None aventura=None estilo_conduccion=None solo_electricos=None prioriza_baja_depreciacion=None transmision_preferida=None rating_fiabilidad_durabilidad=None rating_seguridad=None rating_comodidad=None rating_impacto_ambiental=None rating_tecnologia_conectividad=None rating_costes_uso=None\n",
      "Input prefs type: <class 'graph.perfil.state.PerfilUsuario'>\n",
      "DEBUG (Validation Perfil) ► Campo 'aventura' está vacío/None.\n",
      "DEBUG (Perfil) ► Validación: PerfilUsuario considerado INCOMPLETO.\n",
      "--- Evaluando Condición: ruta_decision_perfil ---\n",
      "DEBUG (Condición Perfil) ► Estado 'preferencias_usuario' recibido: apasionado_motor='no' valora_estetica='no' coche_principal_hogar='si' frecuencia_uso=<FrecuenciaUso.DIARIO: 'diario'> distancia_trayecto=<DistanciaTrayecto.MENOS_10_KM: 'no supera los 10 km'> realiza_viajes_largos='no' frecuencia_viajes_largos=None circula_principalmente_ciudad='si' uso_profesional='no' tipo_uso_profesional=None prefiere_diseno_exclusivo='no' altura_mayor_190='no' peso_mayor_100='no' transporta_carga_voluminosa='no' necesita_espacio_objetos_especiales=None arrastra_remolque='no' tiene_garage=None problemas_aparcar_calle=None espacio_sobra_garage=None problema_dimension_garage=None tiene_punto_carga_propio=None aventura=None estilo_conduccion=None solo_electricos=None prioriza_baja_depreciacion=None transmision_preferida=None rating_fiabilidad_durabilidad=None rating_seguridad=None rating_comodidad=None rating_impacto_ambiental=None rating_tecnologia_conectividad=None rating_costes_uso=None\n",
      "DEBUG (Condición Perfil) ► Tipo de 'preferencias_usuario': <class 'graph.perfil.state.PerfilUsuario'>\n",
      "--- DEBUG CHECK PERFIL ---\n",
      "Input prefs object: apasionado_motor='no' valora_estetica='no' coche_principal_hogar='si' frecuencia_uso=<FrecuenciaUso.DIARIO: 'diario'> distancia_trayecto=<DistanciaTrayecto.MENOS_10_KM: 'no supera los 10 km'> realiza_viajes_largos='no' frecuencia_viajes_largos=None circula_principalmente_ciudad='si' uso_profesional='no' tipo_uso_profesional=None prefiere_diseno_exclusivo='no' altura_mayor_190='no' peso_mayor_100='no' transporta_carga_voluminosa='no' necesita_espacio_objetos_especiales=None arrastra_remolque='no' tiene_garage=None problemas_aparcar_calle=None espacio_sobra_garage=None problema_dimension_garage=None tiene_punto_carga_propio=None aventura=None estilo_conduccion=None solo_electricos=None prioriza_baja_depreciacion=None transmision_preferida=None rating_fiabilidad_durabilidad=None rating_seguridad=None rating_comodidad=None rating_impacto_ambiental=None rating_tecnologia_conectividad=None rating_costes_uso=None\n",
      "Input prefs type: <class 'graph.perfil.state.PerfilUsuario'>\n",
      "DEBUG (Validation Perfil) ► Campo 'aventura' está vacío/None.\n",
      "DEBUG (Condición Perfil) ► Perfil INCOMPLETO. Se necesita pregunta.\n",
      "--- Ejecutando Nodo: preguntar_preferencias_node ---\n",
      "--- DEBUG CHECK PERFIL ---\n",
      "Input prefs object: apasionado_motor='no' valora_estetica='no' coche_principal_hogar='si' frecuencia_uso=<FrecuenciaUso.DIARIO: 'diario'> distancia_trayecto=<DistanciaTrayecto.MENOS_10_KM: 'no supera los 10 km'> realiza_viajes_largos='no' frecuencia_viajes_largos=None circula_principalmente_ciudad='si' uso_profesional='no' tipo_uso_profesional=None prefiere_diseno_exclusivo='no' altura_mayor_190='no' peso_mayor_100='no' transporta_carga_voluminosa='no' necesita_espacio_objetos_especiales=None arrastra_remolque='no' tiene_garage=None problemas_aparcar_calle=None espacio_sobra_garage=None problema_dimension_garage=None tiene_punto_carga_propio=None aventura=None estilo_conduccion=None solo_electricos=None prioriza_baja_depreciacion=None transmision_preferida=None rating_fiabilidad_durabilidad=None rating_seguridad=None rating_comodidad=None rating_impacto_ambiental=None rating_tecnologia_conectividad=None rating_costes_uso=None\n",
      "Input prefs type: <class 'graph.perfil.state.PerfilUsuario'>\n",
      "DEBUG (Validation Perfil) ► Campo 'aventura' está vacío/None.\n",
      "DEBUG (Preguntar Perfil) ► Perfil aún INCOMPLETO según checker.\n",
      "DEBUG (Preguntar Perfil) ► Pregunta fallback generada: Hablemos un poco de dónde aparcarás. ¿Tienes garaje o plaza de aparcamiento propia?\n",
      "WARN (Preguntar Perfil) ► Nodo ejecutado para preguntar, pero no había mensaje pendiente válido. Generando pregunta fallback.\n",
      "DEBUG (Preguntar Perfil) ► Mensaje final añadido: Hablemos un poco de dónde aparcarás. ¿Tienes garaje o plaza de aparcamiento propia?\n",
      "==================================\u001b[1m Ai Message \u001b[0m==================================\n",
      "\n",
      "Hablemos un poco de dónde aparcarás. ¿Tienes garaje o plaza de aparcamiento propia?\n"
     ]
    }
   ],
   "source": [
    "# Create a thread\n",
    "config = {\"configurable\": {\"thread_id\": \"1\"}}\n",
    "\n",
    "# Start conversation\n",
    "input_message = HumanMessage(content=\"no\")\n",
    "output = graph.invoke({\"messages\": [input_message]}, config) \n",
    "for m in output['messages'][-1:]:\n",
    "    m.pretty_print()"
   ]
  },
  {
   "cell_type": "code",
   "execution_count": null,
   "metadata": {},
   "outputs": [],
   "source": [
    "# Create a thread\n",
    "config = {\"configurable\": {\"thread_id\": \"1\"}}\n",
    "\n",
    "# Start conversation\n",
    "input_message = HumanMessage(content=\"si\")\n",
    "output = graph.invoke({\"messages\": [input_message]}, config) \n",
    "for m in output['messages'][-1:]:\n",
    "    m.pretty_print()"
   ]
  },
  {
   "cell_type": "code",
   "execution_count": null,
   "metadata": {},
   "outputs": [],
   "source": [
    "# Create a thread\n",
    "config = {\"configurable\": {\"thread_id\": \"1\"}}\n",
    "\n",
    "# Start conversation\n",
    "input_message = HumanMessage(content=\"si\")\n",
    "output = graph.invoke({\"messages\": [input_message]}, config) \n",
    "for m in output['messages'][-1:]:\n",
    "    m.pretty_print()"
   ]
  },
  {
   "cell_type": "code",
   "execution_count": null,
   "metadata": {},
   "outputs": [],
   "source": [
    "# Create a thread\n",
    "config = {\"configurable\": {\"thread_id\": \"1\"}}\n",
    "\n",
    "# Start conversation\n",
    "input_message = HumanMessage(content=\"no\")\n",
    "output = graph.invoke({\"messages\": [input_message]}, config) \n",
    "for m in output['messages'][-1:]:\n",
    "    m.pretty_print()"
   ]
  },
  {
   "cell_type": "code",
   "execution_count": null,
   "metadata": {},
   "outputs": [],
   "source": [
    "# Create a thread\n",
    "config = {\"configurable\": {\"thread_id\": \"1\"}}\n",
    "\n",
    "# Start conversation\n",
    "input_message = HumanMessage(content=\"solo asfalto\")\n",
    "output = graph.invoke({\"messages\": [input_message]}, config) \n",
    "for m in output['messages'][-1:]:\n",
    "    m.pretty_print()"
   ]
  },
  {
   "cell_type": "code",
   "execution_count": null,
   "metadata": {},
   "outputs": [],
   "source": [
    "# Create a thread\n",
    "config = {\"configurable\": {\"thread_id\": \"1\"}}\n",
    "\n",
    "# Start conversation\n",
    "input_message = HumanMessage(content=\"tranquilo\")\n",
    "output = graph.invoke({\"messages\": [input_message]}, config) \n",
    "for m in output['messages'][-1:]:\n",
    "    m.pretty_print()"
   ]
  },
  {
   "cell_type": "code",
   "execution_count": null,
   "metadata": {},
   "outputs": [],
   "source": [
    "# Create a thread\n",
    "config = {\"configurable\": {\"thread_id\": \"1\"}}\n",
    "\n",
    "# Start conversation\n",
    "input_message = HumanMessage(content=\"ambos\")\n",
    "output = graph.invoke({\"messages\": [input_message]}, config) \n",
    "for m in output['messages'][-1:]:\n",
    "    m.pretty_print()"
   ]
  },
  {
   "cell_type": "code",
   "execution_count": null,
   "metadata": {},
   "outputs": [],
   "source": [
    "# Create a thread\n",
    "config = {\"configurable\": {\"thread_id\": \"1\"}}\n",
    "\n",
    "# Start conversation\n",
    "input_message = HumanMessage(content=\"no\")\n",
    "output = graph.invoke({\"messages\": [input_message]}, config) \n",
    "for m in output['messages'][-1:]:\n",
    "    m.pretty_print()"
   ]
  },
  {
   "cell_type": "code",
   "execution_count": null,
   "metadata": {},
   "outputs": [],
   "source": [
    "# Create a thread\n",
    "config = {\"configurable\": {\"thread_id\": \"1\"}}\n",
    "\n",
    "# Start conversation\n",
    "input_message = HumanMessage(content=\"7\")\n",
    "output = graph.invoke({\"messages\": [input_message]}, config) \n",
    "for m in output['messages'][-1:]:\n",
    "    m.pretty_print()"
   ]
  },
  {
   "cell_type": "code",
   "execution_count": null,
   "metadata": {},
   "outputs": [],
   "source": [
    "# Create a thread\n",
    "config = {\"configurable\": {\"thread_id\": \"1\"}}\n",
    "\n",
    "# Start conversation\n",
    "input_message = HumanMessage(content=\"9\")\n",
    "output = graph.invoke({\"messages\": [input_message]}, config) \n",
    "for m in output['messages'][-1:]:\n",
    "    m.pretty_print()"
   ]
  },
  {
   "cell_type": "code",
   "execution_count": null,
   "metadata": {},
   "outputs": [],
   "source": [
    "# Create a thread\n",
    "config = {\"configurable\": {\"thread_id\": \"1\"}}\n",
    "\n",
    "# Start conversation\n",
    "input_message = HumanMessage(content=\"5\")\n",
    "output = graph.invoke({\"messages\": [input_message]}, config) \n",
    "for m in output['messages'][-1:]:\n",
    "    m.pretty_print()"
   ]
  },
  {
   "cell_type": "code",
   "execution_count": null,
   "metadata": {},
   "outputs": [],
   "source": [
    "# Create a thread\n",
    "config = {\"configurable\": {\"thread_id\": \"1\"}}\n",
    "\n",
    "# Start conversation\n",
    "input_message = HumanMessage(content=\"5\")\n",
    "output = graph.invoke({\"messages\": [input_message]}, config) \n",
    "for m in output['messages'][-1:]:\n",
    "    m.pretty_print()"
   ]
  },
  {
   "cell_type": "code",
   "execution_count": null,
   "metadata": {},
   "outputs": [],
   "source": [
    "# Create a thread\n",
    "config = {\"configurable\": {\"thread_id\": \"1\"}}\n",
    "\n",
    "# Start conversation\n",
    "input_message = HumanMessage(content=\"7\")\n",
    "output = graph.invoke({\"messages\": [input_message]}, config) \n",
    "for m in output['messages'][-1:]:\n",
    "    m.pretty_print()"
   ]
  },
  {
   "cell_type": "code",
   "execution_count": null,
   "metadata": {},
   "outputs": [],
   "source": [
    "# Create a thread\n",
    "config = {\"configurable\": {\"thread_id\": \"1\"}}\n",
    "\n",
    "# Start conversation\n",
    "input_message = HumanMessage(content=\"5\")\n",
    "output = graph.invoke({\"messages\": [input_message]}, config) \n",
    "for m in output['messages'][-1:]:\n",
    "    m.pretty_print()"
   ]
  },
  {
   "cell_type": "code",
   "execution_count": null,
   "metadata": {},
   "outputs": [],
   "source": [
    "print(output['preferencias_usuario'])"
   ]
  },
  {
   "cell_type": "code",
   "execution_count": null,
   "metadata": {},
   "outputs": [],
   "source": [
    "# Create a thread\n",
    "config = {\"configurable\": {\"thread_id\": \"1\"}}\n",
    "\n",
    "# Start conversation\n",
    "input_message = HumanMessage(content=\"no\")\n",
    "output = graph.invoke({\"messages\": [input_message]}, config) \n",
    "for m in output['messages'][-1:]:\n",
    "    m.pretty_print()"
   ]
  },
  {
   "cell_type": "code",
   "execution_count": null,
   "metadata": {},
   "outputs": [],
   "source": [
    "# Create a thread\n",
    "config = {\"configurable\": {\"thread_id\": \"1\"}}\n",
    "\n",
    "# Start conversation\n",
    "input_message = HumanMessage(content=\"dos adultos Y sin nińos\")\n",
    "output = graph.invoke({\"messages\": [input_message]}, config) \n",
    "for m in output['messages'][-1:]:\n",
    "    m.pretty_print()"
   ]
  },
  {
   "cell_type": "code",
   "execution_count": null,
   "metadata": {},
   "outputs": [],
   "source": [
    "# Create a thread\n",
    "config = {\"configurable\": {\"thread_id\": \"1\"}}\n",
    "\n",
    "# Start conversation\n",
    "input_message = HumanMessage(content=\"no\")\n",
    "output = graph.invoke({\"messages\": [input_message]}, config) \n",
    "for m in output['messages'][-1:]:\n",
    "    m.pretty_print()"
   ]
  },
  {
   "cell_type": "code",
   "execution_count": null,
   "metadata": {},
   "outputs": [],
   "source": [
    "# Create a thread\n",
    "config = {\"configurable\": {\"thread_id\": \"1\"}}\n",
    "\n",
    "# Start conversation\n",
    "input_message = HumanMessage(content=\"la 2\")\n",
    "output = graph.invoke({\"messages\": [input_message]}, config) \n",
    "for m in output['messages'][-1:]:\n",
    "    m.pretty_print()"
   ]
  },
  {
   "cell_type": "code",
   "execution_count": null,
   "metadata": {},
   "outputs": [],
   "source": [
    "# Create a thread\n",
    "config = {\"configurable\": {\"thread_id\": \"1\"}}\n",
    "\n",
    "# Start conversation\n",
    "input_message = HumanMessage(content=\"contado hasta 25.000\")\n",
    "output = graph.invoke({\"messages\": [input_message]}, config) \n",
    "for m in output['messages'][-1:]:\n",
    "    m.pretty_print()"
   ]
  },
  {
   "cell_type": "code",
   "execution_count": null,
   "metadata": {},
   "outputs": [],
   "source": [
    "print(output['preferencias_usuario'])"
   ]
  },
  {
   "cell_type": "code",
   "execution_count": null,
   "metadata": {},
   "outputs": [],
   "source": [
    "# Create a thread\n",
    "config = {\"configurable\": {\"thread_id\": \"1\"}}\n",
    "\n",
    "# Start conversation\n",
    "input_message = HumanMessage(content=\"muestrame mas opciones manteniendo las mismas condiciones\")\n",
    "output = graph.invoke({\"messages\": [input_message]}, config) \n",
    "for m in output['messages'][-1:]:\n",
    "    m.pretty_print()"
   ]
  },
  {
   "cell_type": "code",
   "execution_count": null,
   "metadata": {},
   "outputs": [],
   "source": [
    "# Create a thread\n",
    "config = {\"configurable\": {\"thread_id\": \"1\"}}\n",
    "\n",
    "# Start conversation\n",
    "input_message = HumanMessage(content=\"cambia el presupuesto a 18.000\")\n",
    "output = graph.invoke({\"messages\": [input_message]}, config) \n",
    "for m in output['messages'][-1:]:\n",
    "    m.pretty_print()"
   ]
  },
  {
   "cell_type": "code",
   "execution_count": null,
   "metadata": {},
   "outputs": [],
   "source": [
    "# Create a thread\n",
    "config = {\"configurable\": {\"thread_id\": \"1\"}}\n",
    "\n",
    "# Start conversation\n",
    "input_message = HumanMessage(content=\"mismas condiciones pero baja fiabilidad = 3\")\n",
    "output = graph.invoke({\"messages\": [input_message]}, config) \n",
    "for m in output['messages'][-1:]:\n",
    "    m.pretty_print()"
   ]
  },
  {
   "cell_type": "markdown",
   "metadata": {},
   "source": [
    "Complejidad de la Explicación: La plantilla actual es simple (\"Destaca porque [X] ya que [Y], y también por [Z] ya que [W]\"). Puedes hacerla más sofisticada.\n"
   ]
  },
  {
   "cell_type": "code",
   "execution_count": null,
   "metadata": {},
   "outputs": [],
   "source": [
    "import pandas as pd\n",
    "coches_recomendados = output[('coches_recomendados')]\n",
    "\n",
    "df_resultados = pd.DataFrame(coches_recomendados)\n",
    "        \n",
    "#  OPCIÓN 1: Imprimir el DataFrame directamente (Pandas usará las opciones de display)\n",
    "# print(\"\\n--- Vista DataFrame (Pandas Display Options) ---\")\n",
    "# display(df_resultados) # 'display()' suele dar mejor formato en notebooks que 'print(df)'\n",
    "\n",
    "#OPCIÓN 2: Convertir a Markdown (como en tu nodo, pero para consola)\n",
    "print(\"\\n--- Vista Markdown ---\")\n",
    "columnas_deseadas = [ # Lista completa de columnas que seleccionas en BQ\n",
    "            'nombre', 'ID', 'marca', 'modelo', 'cambio_automatico', 'tipo_mecanica', \n",
    "            'tipo_carroceria', 'indice_altura_interior', 'batalla', 'estetica', \n",
    "            'premium', 'singular', 'altura_libre_suelo', 'ancho', 'traccion', \n",
    "            'reductoras', 'puertas', 'plazas', 'precio_compra_contado',\n",
    "            'fiabilidad', 'durabilidad', 'seguridad', 'comodidad', 'acceso_low_cost', \n",
    "            'deportividad', 'tecnologia', 'devaluacion', 'maletero_minimo', \n",
    "            'maletero_maximo', 'largo', 'autonomia_uso_maxima', \n",
    "            'distintivo_ambiental', 'anos_vehiculo', 'ocasion',\n",
    "            'peso_original_kg', 'consumo_original','score_total'\n",
    "        ]\n",
    "columnas_existentes = [col for col in columnas_deseadas if col in df_resultados.columns]\n",
    "if columnas_existentes:\n",
    "            if 'score_total' in df_resultados.columns: # Formatear score para legibilidad\n",
    "                df_resultados['score_total'] = df_resultados['score_total'].apply(lambda x: f\"{x:.4f}\" if isinstance(x, float) else x)\n",
    "            print(df_resultados[columnas_existentes].to_markdown(index=False))\n",
    "else:\n",
    "            print(\"WARN: No se encontraron columnas esperadas para mostrar en formato tabla.\")\n",
    "            print(\"Resultados crudos (lista de dicts):\", coches_recomendados)"
   ]
  },
  {
   "cell_type": "code",
   "execution_count": null,
   "metadata": {},
   "outputs": [],
   "source": [
    "print(\"\\n--- Vista JSON ---\")\n",
    "tabla_resumen = output[('tabla_resumen_criterios')]\n",
    "print(tabla_resumen)"
   ]
  },
  {
   "cell_type": "code",
   "execution_count": null,
   "metadata": {},
   "outputs": [],
   "source": [
    "print(output.keys())"
   ]
  },
  {
   "cell_type": "code",
   "execution_count": null,
   "metadata": {},
   "outputs": [],
   "source": [
    "print(output['codigo_postal_usuario'])\n",
    "print('-----------------------')\n",
    "print(output['info_clima_usuario'])\n",
    "print('-----------------------')\n",
    "print(output['preferencias_usuario'])\n",
    "print('-----------------------')\n",
    "print(output['filtros_inferidos'])\n",
    "print('-----------------------')\n",
    "print(output['info_pasajeros'])\n",
    "print('-----------------------')\n",
    "print(output['economia'])\n",
    "print('-----------------------')\n",
    "print(output['pesos'])\n",
    "print('-----------------------')\n",
    "print(\"info_pasajeros:\",output['info_pasajeros'])\n",
    "print('-----------------------')\n"
   ]
  },
  {
   "cell_type": "code",
   "execution_count": null,
   "metadata": {},
   "outputs": [],
   "source": [
    "print(\"flag_penalizar_deportividad_comodidad:\",output['flag_penalizar_deportividad_comodidad'])\n",
    "print('-----------------------')\n",
    "print(\"flag_penalizar_low_cost_comodidad:\", output['flag_penalizar_low_cost_comodidad'])\n",
    "print('-----------------------')\n",
    "print(\"penalizar_puertas_bajas:\" , output['penalizar_puertas_bajas'])\n",
    "print('-----------------------')\n",
    "print(\"flag_penalizar_antiguo_por_tecnologia:\" ,output['flag_penalizar_antiguo_por_tecnologia'])\n",
    "print('-----------------------')\n",
    "print(\"aplicar_logica_distintivo_ambiental:\" ,output['aplicar_logica_distintivo_ambiental'])\n",
    "print('-----------------------')\n",
    "print(\"es municipio_zbe: \" , output['es_municipio_zbe'])\n",
    "print('-----------------------')\n",
    "print(\"penalizar_bev_reev_aventura_ocasional: \" , output['penalizar_bev_reev_aventura_ocasional'])\n",
    "print('-----------------------')\n",
    "print(\"penalizar_phev_aventura_ocasional: \" , output['penalizar_phev_aventura_ocasional'])\n",
    "print('-----------------------')\n",
    "print(\"penalizar_electrificados_aventura_extrema: \" , output['penalizar_electrificados_aventura_extrema'])\n",
    "print('-----------------------')\n",
    "print('favorecer_carroceria_montana', output['favorecer_carroceria_montana'])\n",
    "print('-----------------------')\n",
    "print('favorecer_carroceria_comercial', output['favorecer_carroceria_comercial'])\n",
    "print('-----------------------')\n",
    "print('favorecer_carroceria_pasajeros_pro:', output['favorecer_carroceria_pasajeros_pro'])\n",
    "print('-----------------------')\n",
    "print('desfavorecer_carroceria_no_aventura:', output['desfavorecer_carroceria_no_aventura']) #Aventura nula y no en montaña desfavorece PICKUP/TODOTERRENO\n",
    "print('-----------------------')\n",
    "print('favorecer_suv_aventura_ocasional:', output['favorecer_suv_aventura_ocasional']) #OK\n",
    "print('-----------------------')\n",
    "print('favorecer_pickup_todoterreno_aventura_extrema:', output['favorecer_pickup_todoterreno_aventura_extrema'])\n",
    "print('-----------------------')\n",
    "print('aplicar_logica_objetos_especiales:', output['aplicar_logica_objetos_especiales'])#OK \n",
    "print('-----------------------')\n",
    "print('favorecer_carroceria_confort:', output['favorecer_carroceria_confort']) #OK\n",
    "print('-----------------------')\n",
    "print('flag_logica_uso_ocasional:' , output['flag_logica_uso_ocasional'])\n",
    "print('-----------------------')\n",
    "print('flag_favorecer_bev_uso_definido:' , output['flag_favorecer_bev_uso_definido'])\n",
    "print('-----------------------')\n",
    "print('flag_penalizar_phev_uso_intensivo:' , output['flag_penalizar_phev_uso_intensivo'])\n",
    "print('-----------------------')\n",
    "print('flag_favorecer_electrificados_por_punto_carga:' , output['flag_favorecer_electrificados_por_punto_carga'])\n",
    "print('-----------------------')\n",
    "print('km_anuales_estimados:' , output['km_anuales_estimados'])\n"
   ]
  },
  {
   "cell_type": "markdown",
   "metadata": {},
   "source": [
    "## Prueba 2"
   ]
  },
  {
   "cell_type": "code",
   "execution_count": null,
   "metadata": {},
   "outputs": [],
   "source": [
    "# Create a thread\n",
    "config = {\"configurable\": {\"thread_id\": \"2\"}}\n",
    "\n",
    "# Start conversation\n",
    "input_message = HumanMessage(content=\"Quiero un coche mido 1.93. Peso 80 kg\")\n",
    "output = graph.invoke({\"messages\": [input_message]}, config) \n",
    "for m in output['messages'][-1:]:\n",
    "    m.pretty_print()"
   ]
  },
  {
   "cell_type": "code",
   "execution_count": null,
   "metadata": {},
   "outputs": [],
   "source": [
    "# Create a thread\n",
    "config = {\"configurable\": {\"thread_id\": \"2\"}}\n",
    "\n",
    "# Start conversation\n",
    "input_message = HumanMessage(content=\"si, lo soy\")\n",
    "output = graph.invoke({\"messages\": [input_message]}, config) \n",
    "for m in output['messages'][-1:]:\n",
    "    m.pretty_print()"
   ]
  },
  {
   "cell_type": "code",
   "execution_count": null,
   "metadata": {},
   "outputs": [],
   "source": [
    "# Create a thread\n",
    "config = {\"configurable\": {\"thread_id\": \"2\"}}\n",
    "\n",
    "# Start conversation\n",
    "input_message = HumanMessage(content=\"no\")\n",
    "output = graph.invoke({\"messages\": [input_message]}, config) \n",
    "for m in output['messages'][-1:]:\n",
    "    m.pretty_print()"
   ]
  },
  {
   "cell_type": "code",
   "execution_count": null,
   "metadata": {},
   "outputs": [],
   "source": [
    "# Create a thread\n",
    "config = {\"configurable\": {\"thread_id\": \"2\"}}\n",
    "\n",
    "# Start conversation\n",
    "input_message = HumanMessage(content=\"no\")\n",
    "output = graph.invoke({\"messages\": [input_message]}, config) \n",
    "for m in output['messages'][-1:]:\n",
    "    m.pretty_print()"
   ]
  },
  {
   "cell_type": "code",
   "execution_count": null,
   "metadata": {},
   "outputs": [],
   "source": [
    "# Create a thread\n",
    "config = {\"configurable\": {\"thread_id\": \"2\"}}\n",
    "\n",
    "# Start conversation\n",
    "input_message = HumanMessage(content=\"no\")\n",
    "output = graph.invoke({\"messages\": [input_message]}, config) \n",
    "for m in output['messages'][-1:]:\n",
    "    m.pretty_print()"
   ]
  },
  {
   "cell_type": "code",
   "execution_count": null,
   "metadata": {},
   "outputs": [],
   "source": [
    "# Create a thread\n",
    "config = {\"configurable\": {\"thread_id\": \"2\"}}\n",
    "\n",
    "# Start conversation\n",
    "input_message = HumanMessage(content=\"no\")\n",
    "output = graph.invoke({\"messages\": [input_message]}, config) \n",
    "for m in output['messages'][-1:]:\n",
    "    m.pretty_print()"
   ]
  },
  {
   "cell_type": "code",
   "execution_count": null,
   "metadata": {},
   "outputs": [],
   "source": [
    "# Create a thread\n",
    "config = {\"configurable\": {\"thread_id\": \"2\"}}\n",
    "\n",
    "# Start conversation\n",
    "input_message = HumanMessage(content=\"no\")\n",
    "output = graph.invoke({\"messages\": [input_message]}, config) \n",
    "for m in output['messages'][-1:]:\n",
    "    m.pretty_print()"
   ]
  },
  {
   "cell_type": "code",
   "execution_count": null,
   "metadata": {},
   "outputs": [],
   "source": [
    "# Create a thread\n",
    "config = {\"configurable\": {\"thread_id\": \"2\"}}\n",
    "\n",
    "# Start conversation\n",
    "input_message = HumanMessage(content=\"si\")\n",
    "output = graph.invoke({\"messages\": [input_message]}, config) \n",
    "for m in output['messages'][-1:]:\n",
    "    m.pretty_print()"
   ]
  },
  {
   "cell_type": "code",
   "execution_count": null,
   "metadata": {},
   "outputs": [],
   "source": [
    "# Create a thread\n",
    "config = {\"configurable\": {\"thread_id\": \"2\"}}\n",
    "\n",
    "# Start conversation\n",
    "input_message = HumanMessage(content=\"ambos\")\n",
    "output = graph.invoke({\"messages\": [input_message]}, config) \n",
    "for m in output['messages'][-1:]:\n",
    "    m.pretty_print()"
   ]
  },
  {
   "cell_type": "code",
   "execution_count": null,
   "metadata": {},
   "outputs": [],
   "source": [
    "# Create a thread\n",
    "config = {\"configurable\": {\"thread_id\": \"2\"}}\n",
    "\n",
    "# Start conversation\n",
    "input_message = HumanMessage(content=\"no\")\n",
    "output = graph.invoke({\"messages\": [input_message]}, config) \n",
    "for m in output['messages'][-1:]:\n",
    "    m.pretty_print()"
   ]
  },
  {
   "cell_type": "code",
   "execution_count": null,
   "metadata": {},
   "outputs": [],
   "source": [
    "# Create a thread\n",
    "config = {\"configurable\": {\"thread_id\": \"2\"}}\n",
    "\n",
    "# Start conversation\n",
    "input_message = HumanMessage(content=\"ocasional\")\n",
    "output = graph.invoke({\"messages\": [input_message]}, config) \n",
    "for m in output['messages'][-1:]:\n",
    "    m.pretty_print()"
   ]
  },
  {
   "cell_type": "code",
   "execution_count": null,
   "metadata": {},
   "outputs": [],
   "source": [
    "print(output['preferencias_usuario'])\n",
    "print('---------------------------------------------------------------------')\n",
    "# print(output['filtros_inferidos']) \n",
    "# print('---------------------------------------------------------------------')\n",
    "# #print(output['pesos'])"
   ]
  },
  {
   "cell_type": "code",
   "execution_count": null,
   "metadata": {},
   "outputs": [],
   "source": [
    "# Create a thread\n",
    "config = {\"configurable\": {\"thread_id\": \"2\"}}\n",
    "\n",
    "# Start conversation\n",
    "input_message = HumanMessage(content=\"no\")\n",
    "output = graph.invoke({\"messages\": [input_message]}, config) \n",
    "for m in output['messages'][-1:]:\n",
    "    m.pretty_print()"
   ]
  },
  {
   "cell_type": "code",
   "execution_count": null,
   "metadata": {},
   "outputs": [],
   "source": [
    "# Create a thread\n",
    "config = {\"configurable\": {\"thread_id\": \"2\"}}\n",
    "\n",
    "# Start conversation\n",
    "input_message = HumanMessage(content=\"7\")\n",
    "output = graph.invoke({\"messages\": [input_message]}, config) \n",
    "for m in output['messages'][-1:]:\n",
    "    m.pretty_print()"
   ]
  },
  {
   "cell_type": "code",
   "execution_count": null,
   "metadata": {},
   "outputs": [],
   "source": [
    "# Create a thread\n",
    "config = {\"configurable\": {\"thread_id\": \"2\"}}\n",
    "\n",
    "# Start conversation\n",
    "input_message = HumanMessage(content=\"9\")\n",
    "output = graph.invoke({\"messages\": [input_message]}, config) \n",
    "for m in output['messages'][-1:]:\n",
    "    m.pretty_print()"
   ]
  },
  {
   "cell_type": "code",
   "execution_count": null,
   "metadata": {},
   "outputs": [],
   "source": [
    "# Create a thread\n",
    "config = {\"configurable\": {\"thread_id\": \"2\"}}\n",
    "\n",
    "# Start conversation\n",
    "input_message = HumanMessage(content=\"5\")\n",
    "output = graph.invoke({\"messages\": [input_message]}, config) \n",
    "for m in output['messages'][-1:]:\n",
    "    m.pretty_print()"
   ]
  },
  {
   "cell_type": "code",
   "execution_count": null,
   "metadata": {},
   "outputs": [],
   "source": [
    "# Create a thread\n",
    "config = {\"configurable\": {\"thread_id\": \"2\"}}\n",
    "\n",
    "# Start conversation\n",
    "input_message = HumanMessage(content=\"siete\")\n",
    "output = graph.invoke({\"messages\": [input_message]}, config) \n",
    "for m in output['messages'][-1:]:\n",
    "    m.pretty_print()"
   ]
  },
  {
   "cell_type": "code",
   "execution_count": null,
   "metadata": {},
   "outputs": [],
   "source": [
    "# Create a thread\n",
    "config = {\"configurable\": {\"thread_id\": \"2\"}}\n",
    "\n",
    "# Start conversation\n",
    "input_message = HumanMessage(content=\"9\")\n",
    "output = graph.invoke({\"messages\": [input_message]}, config) \n",
    "for m in output['messages'][-1:]:\n",
    "    m.pretty_print()"
   ]
  },
  {
   "cell_type": "code",
   "execution_count": null,
   "metadata": {},
   "outputs": [],
   "source": [
    "# Create a thread\n",
    "config = {\"configurable\": {\"thread_id\": \"2\"}}\n",
    "\n",
    "# Start conversation\n",
    "input_message = HumanMessage(content=\"8\")\n",
    "output = graph.invoke({\"messages\": [input_message]}, config) \n",
    "for m in output['messages'][-1:]:\n",
    "    m.pretty_print()"
   ]
  },
  {
   "cell_type": "code",
   "execution_count": null,
   "metadata": {},
   "outputs": [],
   "source": [
    "# Create a thread\n",
    "config = {\"configurable\": {\"thread_id\": \"2\"}}\n",
    "\n",
    "# Start conversation\n",
    "input_message = HumanMessage(content=\"no\")\n",
    "output = graph.invoke({\"messages\": [input_message]}, config) \n",
    "for m in output['messages'][-1:]:\n",
    "    m.pretty_print()"
   ]
  },
  {
   "cell_type": "code",
   "execution_count": null,
   "metadata": {},
   "outputs": [],
   "source": [
    "# Create a thread\n",
    "config = {\"configurable\": {\"thread_id\": \"2\"}}\n",
    "\n",
    "# Start conversation\n",
    "input_message = HumanMessage(content=\"7\")\n",
    "output = graph.invoke({\"messages\": [input_message]}, config) \n",
    "for m in output['messages'][-1:]:\n",
    "    m.pretty_print()"
   ]
  },
  {
   "cell_type": "code",
   "execution_count": null,
   "metadata": {},
   "outputs": [],
   "source": [
    "config = {\"configurable\": {\"thread_id\": \"2\"}}\n",
    "input_message = HumanMessage(content=\"6\")\n",
    "output = graph.invoke({\"messages\": [input_message]}, config) \n",
    "for m in output['messages'][-1:]:\n",
    "    m.pretty_print()"
   ]
  },
  {
   "cell_type": "code",
   "execution_count": null,
   "metadata": {},
   "outputs": [],
   "source": [
    "config = {\"configurable\": {\"thread_id\": \"2\"}}\n",
    "input_message = HumanMessage(content=\"8\")\n",
    "output = graph.invoke({\"messages\": [input_message]}, config) \n",
    "for m in output['messages'][-1:]:\n",
    "    m.pretty_print()"
   ]
  },
  {
   "cell_type": "code",
   "execution_count": null,
   "metadata": {},
   "outputs": [],
   "source": [
    "# Create a thread\n",
    "config = {\"configurable\": {\"thread_id\": \"2\"}}\n",
    "\n",
    "# Start conversation\n",
    "input_message = HumanMessage(content=\"ocasionalmente\")\n",
    "output = graph.invoke({\"messages\": [input_message]}, config) \n",
    "for m in output['messages'][-1:]:\n",
    "    m.pretty_print()"
   ]
  },
  {
   "cell_type": "code",
   "execution_count": null,
   "metadata": {},
   "outputs": [],
   "source": [
    "# Create a thread\n",
    "config = {\"configurable\": {\"thread_id\": \"2\"}}\n",
    "\n",
    "# Start conversation\n",
    "input_message = HumanMessage(content=\"7\")\n",
    "output = graph.invoke({\"messages\": [input_message]}, config) \n",
    "for m in output['messages'][-1:]:\n",
    "    m.pretty_print()"
   ]
  },
  {
   "cell_type": "code",
   "execution_count": null,
   "metadata": {},
   "outputs": [],
   "source": [
    "# Create a thread\n",
    "config = {\"configurable\": {\"thread_id\": \"2\"}}\n",
    "\n",
    "# Start conversation\n",
    "input_message = HumanMessage(content=\"10\")\n",
    "output = graph.invoke({\"messages\": [input_message]}, config) \n",
    "for m in output['messages'][-1:]:\n",
    "    m.pretty_print()"
   ]
  },
  {
   "cell_type": "code",
   "execution_count": null,
   "metadata": {},
   "outputs": [],
   "source": [
    "\n",
    "print(output['preferencias_usuario'])\n",
    "print('---------------------------------------------------------------------')\n",
    "# print(output['filtros_inferidos']) \n",
    "print('---------------------------------------------------------------------')\n",
    "# print(output['economia'])"
   ]
  },
  {
   "cell_type": "code",
   "execution_count": null,
   "metadata": {},
   "outputs": [],
   "source": [
    "# Create a thread\n",
    "config = {\"configurable\": {\"thread_id\": \"2\"}}\n",
    "\n",
    "# Start conversation\n",
    "input_message = HumanMessage(content=\"si, llevo 2 acompañantes\")\n",
    "output = graph.invoke({\"messages\": [input_message]}, config) \n",
    "for m in output['messages'][-1:]:\n",
    "    m.pretty_print()"
   ]
  },
  {
   "cell_type": "code",
   "execution_count": null,
   "metadata": {},
   "outputs": [],
   "source": [
    "print(output['preferencias_usuario'])\n",
    "print('---------------------------------------------------------------------')\n",
    "print(output['filtros_inferidos']) #"
   ]
  },
  {
   "cell_type": "code",
   "execution_count": null,
   "metadata": {},
   "outputs": [],
   "source": [
    "config = {\"configurable\": {\"thread_id\": \"2\"}}\n",
    "input_message = HumanMessage(content=\"ninos no\")\n",
    "output = graph.invoke({\"messages\": [input_message]}, config) \n",
    "for m in output['messages'][-1:]:\n",
    "    m.pretty_print()"
   ]
  },
  {
   "cell_type": "code",
   "execution_count": null,
   "metadata": {},
   "outputs": [],
   "source": [
    "config = {\"configurable\": {\"thread_id\": \"2\"}}\n",
    "input_message = HumanMessage(content=\"la 2\")\n",
    "output = graph.invoke({\"messages\": [input_message]}, config) \n",
    "for m in output['messages'][-1:]:\n",
    "    m.pretty_print()"
   ]
  },
  {
   "cell_type": "code",
   "execution_count": null,
   "metadata": {},
   "outputs": [],
   "source": [
    "config = {\"configurable\": {\"thread_id\": \"2\"}}\n",
    "input_message = HumanMessage(content=\"pago total al contado maximo de 22.000 euros\")\n",
    "output = graph.invoke({\"messages\": [input_message]}, config) \n",
    "for m in output['messages'][-1:]:\n",
    "    m.pretty_print()"
   ]
  },
  {
   "cell_type": "code",
   "execution_count": null,
   "metadata": {},
   "outputs": [],
   "source": [
    "config = {\"configurable\": {\"thread_id\": \"2\"}}\n",
    "input_message = HumanMessage(content=\"6.000 ahorrados\")\n",
    "output = graph.invoke({\"messages\": [input_message]}, config) \n",
    "for m in output['messages'][-1:]:\n",
    "    m.pretty_print()"
   ]
  },
  {
   "cell_type": "code",
   "execution_count": null,
   "metadata": {},
   "outputs": [],
   "source": [
    "config = {\"configurable\": {\"thread_id\": \"2\"}}\n",
    "input_message = HumanMessage(content=\"5 años\")\n",
    "output = graph.invoke({\"messages\": [input_message]}, config) \n",
    "for m in output['messages'][-1:]:\n",
    "    m.pretty_print()"
   ]
  },
  {
   "cell_type": "code",
   "execution_count": null,
   "metadata": {},
   "outputs": [],
   "source": [
    "print(output['preferencias_usuario'])\n",
    "print('---------------------------------------------------------------------')\n",
    "print(output['filtros_inferidos'])\n",
    "print('---------------------------------------------------------------------')\n",
    "print(output['economia'])\n",
    "print('---------------------------------------------------------------------')\n",
    "print(output['pesos'])"
   ]
  },
  {
   "cell_type": "code",
   "execution_count": null,
   "metadata": {},
   "outputs": [],
   "source": [
    "print(output.keys())"
   ]
  },
  {
   "cell_type": "code",
   "execution_count": null,
   "metadata": {},
   "outputs": [],
   "source": [
    "print(output['pesos'])"
   ]
  },
  {
   "cell_type": "code",
   "execution_count": null,
   "metadata": {},
   "outputs": [],
   "source": [
    "state = graph.get_state(config).values\n",
    "for m in state['messages']:\n",
    "    m.pretty_print()\n",
    "    \n",
    "    "
   ]
  },
  {
   "cell_type": "markdown",
   "metadata": {},
   "source": [
    "revisar las reglas de altura "
   ]
  },
  {
   "cell_type": "markdown",
   "metadata": {},
   "source": [
    "## Prueba 3"
   ]
  },
  {
   "cell_type": "code",
   "execution_count": null,
   "metadata": {},
   "outputs": [],
   "source": [
    "# Create a thread\n",
    "config = {\"configurable\": {\"thread_id\": \"3\"}}\n",
    "\n",
    "# Start conversation\n",
    "input_message = HumanMessage(content=\"hola, dime quien eres?\")\n",
    "output = graph.invoke({\"messages\": [input_message]}, config) \n",
    "for m in output['messages'][-1:]:\n",
    "    m.pretty_print()\n"
   ]
  },
  {
   "cell_type": "code",
   "execution_count": null,
   "metadata": {},
   "outputs": [],
   "source": [
    "print(output['preferencias_usuario'])\n",
    "print('---------------------------------------------------------------------')\n",
    "print(output['filtros_inferidos'])\n"
   ]
  },
  {
   "cell_type": "code",
   "execution_count": null,
   "metadata": {},
   "outputs": [],
   "source": [
    "# Create a thread\n",
    "config = {\"configurable\": {\"thread_id\": \"3\"}}\n",
    "\n",
    "# Start conversation\n",
    "input_message = HumanMessage(content=\"tienes motos?\")\n",
    "output = graph.invoke({\"messages\": [input_message]}, config) \n",
    "for m in output['messages'][-1:]:\n",
    "    m.pretty_print()\n"
   ]
  },
  {
   "cell_type": "code",
   "execution_count": null,
   "metadata": {},
   "outputs": [],
   "source": [
    "print(output['preferencias_usuario'])\n",
    "print('---------------------------------------------------------------------')\n",
    "print(output['filtros_inferidos'])"
   ]
  },
  {
   "cell_type": "code",
   "execution_count": null,
   "metadata": {},
   "outputs": [],
   "source": [
    "# Consultar todo el estado acumulado\n",
    "state = graph.get_state(config).values\n",
    "for m in state[\"messages\"]:\n",
    "    m.pretty_print()"
   ]
  },
  {
   "cell_type": "markdown",
   "metadata": {},
   "source": [
    "## Prueba 4"
   ]
  },
  {
   "cell_type": "code",
   "execution_count": null,
   "metadata": {},
   "outputs": [],
   "source": [
    "# Create a thread\n",
    "config = {\"configurable\": {\"thread_id\": \"4\"}}\n",
    "\n",
    "# Start conversation\n",
    "input_message = HumanMessage(content=\"Quiero un coche elegante que usaré para trabajar todos los días. Me gustan los diseños llamativos. Mido 1.94\")\n",
    "output = graph.invoke({\"messages\": [input_message]}, config) \n",
    "for m in output['messages'][-1:]:\n",
    "    m.pretty_print()"
   ]
  },
  {
   "cell_type": "code",
   "execution_count": null,
   "metadata": {},
   "outputs": [],
   "source": [
    "print(output['preferencias_usuario'])\n",
    "print('---------------------------------------------------------------------')\n",
    "print(output['filtros_inferidos'])\n"
   ]
  },
  {
   "cell_type": "code",
   "execution_count": null,
   "metadata": {},
   "outputs": [],
   "source": [
    "# Create a thread\n",
    "config = {\"configurable\": {\"thread_id\": \"4\"}}\n",
    "\n",
    "# Start conversation\n",
    "input_message = HumanMessage(content=\"si electrico estaria perfecto\")\n",
    "output = graph.invoke({\"messages\": [input_message]}, config) \n",
    "for m in output['messages'][-1:]:\n",
    "    m.pretty_print()"
   ]
  },
  {
   "cell_type": "code",
   "execution_count": null,
   "metadata": {},
   "outputs": [],
   "source": [
    "print(output['preferencias_usuario'])\n",
    "print('---------------------------------------------------------------------')\n",
    "print(output['filtros_inferidos'])"
   ]
  },
  {
   "cell_type": "code",
   "execution_count": null,
   "metadata": {},
   "outputs": [],
   "source": [
    "# Create a thread\n",
    "config = {\"configurable\": {\"thread_id\": \"4\"}}\n",
    "\n",
    "# Start conversation\n",
    "input_message = HumanMessage(content=\"automatico y peso menos de 100kg\")\n",
    "output = graph.invoke({\"messages\": [input_message]}, config) \n",
    "for m in output['messages'][-1:]:\n",
    "    m.pretty_print()"
   ]
  },
  {
   "cell_type": "code",
   "execution_count": null,
   "metadata": {},
   "outputs": [],
   "source": [
    "print(output['preferencias_usuario'])\n",
    "print('---------------------------------------------------------------------')\n",
    "print(output['filtros_inferidos'])"
   ]
  },
  {
   "cell_type": "code",
   "execution_count": null,
   "metadata": {},
   "outputs": [],
   "source": [
    "# Create a thread\n",
    "config = {\"configurable\": {\"thread_id\": \"4\"}}\n",
    "\n",
    "# Start conversation\n",
    "input_message = HumanMessage(content=\"si me apasionan los coches\")\n",
    "output = graph.invoke({\"messages\": [input_message]}, config) \n",
    "for m in output['messages'][-1:]:\n",
    "    m.pretty_print()"
   ]
  },
  {
   "cell_type": "code",
   "execution_count": null,
   "metadata": {},
   "outputs": [],
   "source": [
    "print(output['preferencias_usuario'])\n",
    "print('---------------------------------------------------------------------')\n",
    "print(output['filtros_inferidos'])"
   ]
  },
  {
   "cell_type": "code",
   "execution_count": null,
   "metadata": {},
   "outputs": [],
   "source": [
    "# Create a thread\n",
    "config = {\"configurable\": {\"thread_id\": \"4\"}}\n",
    "\n",
    "# Start conversation\n",
    "input_message = HumanMessage(content=\"si\")\n",
    "output = graph.invoke({\"messages\": [input_message]}, config) \n",
    "for m in output['messages'][-1:]:\n",
    "    m.pretty_print()"
   ]
  },
  {
   "cell_type": "markdown",
   "metadata": {},
   "source": [
    "# Prueba 5"
   ]
  },
  {
   "cell_type": "code",
   "execution_count": null,
   "metadata": {},
   "outputs": [],
   "source": [
    "# Create a thread\n",
    "config = {\"configurable\": {\"thread_id\": \"5\"}}\n",
    "\n",
    "# Start conversation\n",
    "input_message = HumanMessage(content=\"Dime quien eres\")\n",
    "output = graph.invoke({\"messages\": [input_message]}, config) \n",
    "for m in output['messages'][-1:]:\n",
    "    m.pretty_print()"
   ]
  },
  {
   "cell_type": "code",
   "execution_count": null,
   "metadata": {},
   "outputs": [],
   "source": [
    "# Create a thread\n",
    "config = {\"configurable\": {\"thread_id\": \"5\"}}\n",
    "\n",
    "# Start conversation\n",
    "input_message = HumanMessage(content=\"tienes motos para recomendarme?\")\n",
    "output = graph.invoke({\"messages\": [input_message]}, config) \n",
    "for m in output['messages'][-1:]:\n",
    "    m.pretty_print()"
   ]
  },
  {
   "cell_type": "code",
   "execution_count": null,
   "metadata": {},
   "outputs": [],
   "source": [
    "state = graph.get_state(config).values\n",
    "for m in state[\"messages\"]:\n",
    "    m.pretty_print()"
   ]
  },
  {
   "cell_type": "markdown",
   "metadata": {},
   "source": [
    "## Objetivo\n",
    "Crear un nuevo nodo en LangGraph llamado analizar_perfil_usuario que:\n",
    "\n",
    "Reciba el mensaje del usuario.\n",
    "\n",
    "Llame a un LLM con un SystemMessage especializado.\n",
    "\n",
    "Devuelva un dict con tres secciones:\n",
    "\n",
    "\"perfil_usuario\" → altura, peso, uso, gustos, etc.\n",
    "\n",
    "\"filtros_inferidos\" → potencia_min, plazas_min, etc.\n",
    "\n",
    "\"mensaje_validacion\"\n",
    "\n",
    "Este resultado lo guardaremos en el state para luego usarlo al llamar buscar_producto_bd()."
   ]
  },
  {
   "cell_type": "code",
   "execution_count": null,
   "metadata": {},
   "outputs": [],
   "source": []
  },
  {
   "cell_type": "code",
   "execution_count": null,
   "metadata": {},
   "outputs": [],
   "source": [
    "\n",
    "# Configurar el cliente de BigQuery\n",
    "client = bigquery.Client(project=\"thecarmentor-mvp2\")\n",
    "\n",
    "@tool\n",
    "def buscar_producto_bd(consulta: str, filtros: dict = None):\n",
    "    \"\"\"\n",
    "    Busca productos en la base de datos utilizando una consulta semántica en BigQuery.\n",
    "    Tu objetivo es proporcionar respuestas precisas para ayudar en la búsqueda en el inventario de coches disponibles.\n",
    "    \n",
    "    Args:\n",
    "        consulta (str): Consulta de texto para buscar productos similares.\n",
    "    \n",
    "    Returns:\n",
    "        list[dict]: Resultados formateados como una lista de diccionarios con detalles de los productos más relevantes.\n",
    "    \"\"\"\n",
    "    \n",
    "    if not consulta.strip():\n",
    "        raise ValueError(\"La consulta no puede estar vacía.\")\n",
    "\n",
    "    # Normalizar la consulta para que coincida con el formato de los embeddings.\n",
    "    consulta_normalizada = normalize_text_sql(consulta)\n",
    "    logging.debug(f\"Consulta normalizada: {consulta_normalizada}\")\n",
    "    \n",
    "    try:\n",
    "        base_query = \"\"\"\n",
    "        WITH resultados_vector AS (\n",
    "            SELECT \n",
    "                base.content AS nombre_coche,\n",
    "                base.mecanica,\n",
    "                base.price,\n",
    "                base.KM,\n",
    "                base.year,\n",
    "                base.image_url,\n",
    "                search_result.distance\n",
    "            FROM VECTOR_SEARCH(\n",
    "                TABLE `web_cars.coches_embeddingsV1`,\n",
    "                'ml_generate_embedding_result',\n",
    "                (SELECT * FROM ML.GENERATE_EMBEDDING(\n",
    "                    MODEL `thecarmentor-mvp2.mymodel.modelembedding`,\n",
    "                    (SELECT @consulta AS content),\n",
    "                    STRUCT(TRUE AS flatten_json_output, 'SEMANTIC_SIMILARITY' AS task_type, 768 AS output_dimensionality)\n",
    "                )),\n",
    "                'ml_generate_embedding_result',\n",
    "                top_k => 6\n",
    "            ) AS search_result\n",
    "        )\n",
    "        SELECT * FROM resultados_vector\n",
    "        WHERE 1=1\n",
    "        \"\"\"\n",
    "        \n",
    "        # Inicializar lista de condiciones y parámetros\n",
    "        query_conditions = []\n",
    "        # Usamos la consulta normalizada para la generación del embedding\n",
    "        query_parameters = [bigquery.ScalarQueryParameter(\"consulta\", \"STRING\", consulta_normalizada)]\n",
    "        \n",
    "        # Agregar condiciones dinámicamente según los filtros proporcionados\n",
    "        if filtros:\n",
    "            if 'precio_max' in filtros:\n",
    "                query_conditions.append(\"price <= @precio_max\")\n",
    "                query_parameters.append(bigquery.ScalarQueryParameter(\"precio_max\", \"INT64\", filtros[\"precio_max\"]))\n",
    "            if 'precio_min' in filtros:\n",
    "                query_conditions.append(\"price >= @precio_min\")\n",
    "                query_parameters.append(bigquery.ScalarQueryParameter(\"precio_min\", \"INT64\", filtros[\"precio_min\"]))\n",
    "            if 'year_min' in filtros:\n",
    "                query_conditions.append(\"year >= @year_min\")\n",
    "                query_parameters.append(bigquery.ScalarQueryParameter(\"year_min\", \"INT64\", filtros[\"year_min\"]))\n",
    "            if 'km_max' in filtros:\n",
    "                query_conditions.append(\"KM <= @km_max\")\n",
    "                query_parameters.append(bigquery.ScalarQueryParameter(\"km_max\", \"INT64\", filtros[\"km_max\"]))\n",
    "\n",
    "        # Si hay filtros, agregarlos a la consulta\n",
    "        # if query_conditions:\n",
    "        #     base_query += \" AND \" + \" AND \".join(query_conditions)\n",
    "        if query_conditions:\n",
    "            base_query += \" \" + \" AND \".join(query_conditions)\n",
    "\n",
    "\n",
    "        logging.debug(f\"Consulta SQL generada: {base_query}\")\n",
    "        logging.debug(f\"Parámetros de consulta: {query_parameters}\")\n",
    "\n",
    "        # Ejecutar la consulta\n",
    "        query_job = client.query(\n",
    "            base_query, \n",
    "            job_config=bigquery.QueryJobConfig(query_parameters=query_parameters)\n",
    "        )\n",
    "        results = query_job.result().to_dataframe()\n",
    "        # Ordenar los resultados por similitud\n",
    "        if not results.empty:\n",
    "            results = results.sort_values(by=\"distance\", ascending=True)\n",
    "\n",
    "        if results.empty:\n",
    "            return [{\"error\": \"No se encontraron resultados para la consulta y los filtros aplicados.\"}]\n",
    "            \n",
    "        formatted_results = [\n",
    "            {\n",
    "                \"nombre_coche\": row[\"nombre_coche\"],\n",
    "                \"mecanica\": row[\"mecanica\"],\n",
    "                \"precio\": row[\"price\"],\n",
    "                \"kilometros\": row[\"KM\"],\n",
    "                \"año\": row[\"year\"],\n",
    "                \"imagen\": row[\"image_url\"],\n",
    "                \"similitud\": round(row[\"distance\"], 2)\n",
    "            }\n",
    "            for _, row in results.iterrows()\n",
    "        ]\n",
    "        return formatted_results\n",
    "\n",
    "    except Exception as e:\n",
    "        logging.error(f\"Error al ejecutar la consulta: {e}\", exc_info=True)\n",
    "        return [{\"error\": \"No se pudieron encontrar resultados.\"}]\n",
    "\n",
    "# Definir herramientas\n",
    "# tools = [buscar_producto_bd]\n",
    "\n",
    "\n",
    "\n",
    "# Actualizar lista de herramientas\n",
    "tools = [buscar_producto_bd]\n",
    "llm_with_tools = llm.bind_tools(tools, parallel_tool_calls=True)\n"
   ]
  },
  {
   "cell_type": "code",
   "execution_count": null,
   "metadata": {},
   "outputs": [],
   "source": [
    "\n",
    "sys_msg = SystemMessage(content=\"\"\"Eres Mentor, un util y experto en la busqueda de coches.\n",
    "INSTRUCCIONES IMPORTANTES:\n",
    "**Antes de hacer una búsqueda en la base de datos, analiza la consulta y extrae solo la información clave.**  \n",
    "   - Si el usuario menciona un coche, filtra la consulta para obtener solo **la marca, modelo, versión, tipo de motorización y año**.\n",
    "   - **No incluyas frases completas del usuario como búsqueda.**  \n",
    "   - **No pases palabras como \"quiero\", \"busco\", \"auto\", \"coche\", \"modelo\", \"año\" si no son parte del nombre oficial del coche.**\n",
    "   - **Ejemplo:**  \n",
    "     - Entrada: `\"quiero coche bmw serie 1 120d hibrido año 2024\"`  \n",
    "     - **Consulta que debes generar:** `\"bmw serie 1 120d hibrido 2024\"`\n",
    "\n",
    "**Definiendo Preferencias**\n",
    "   - Para dar recomendaciones acertadas, puedes pedir al usuario que proporcione detalles sobre lo que busca:\n",
    "     • ¿Tienes una **marca** preferida?\n",
    "     • ¿Cuál es tu **presupuesto máximo**? (Opcional)\n",
    "     • ¿Te importa el **kilometraje máximo**? (Opcional)\n",
    "     • ¿Qué **años de antigüedad** son aceptables? (Opcional)\n",
    "\n",
    "**Presentación de Resultados**\n",
    "    - Aplica los filtros pero muestra también alguna alternativa fuera de los filtros si es muy relevante\n",
    "    Usa este formato para cada coche encontrado: \n",
    "    ### [Modelo]\n",
    "    ![Imagen del vehículo]([url_imagen])\n",
    "     - **Precio:** [precio]€\n",
    "     - **Kilómetros:** [km] km\n",
    "     - **Mecánica:** [tipo]\n",
    "     - **Año:** [year]\n",
    "     - **Similitud con tu búsqueda:** [score]\n",
    " \n",
    "** Ajustes**\n",
    "   - Si no encuentras lo que buscas, dime si quieres:\n",
    "   - Aumentar el **presupuesto** para ver modelos más recientes.\n",
    "   - Ampliar el **kilometraje permitido** para más opciones.\n",
    "   - Incluir **otros años** para expandir la búsqueda.\n",
    "   \n",
    "**Información Adicional**\n",
    "   -usa la herramienta `buscar_info_adicional` para obtener información actualizada sobre un modelo específico de coche.\n",
    "   - **Ejemplo:** `buscar_info_adicional(\"que caracteristicas tiene el BMW 320d 2019\")`\n",
    "\"\"\")\n",
    "# - También puedo **comparar dos coches** si tienes modelos específicos en mente.\n",
    "def assistant(state: MessagesState):\n",
    "    \"\"\"\n",
    "    Función principal del asistente invocando una búsqueda.\n",
    "    \"\"\"\n",
    "    return {\"messages\": [llm_with_tools.invoke([sys_msg] + state[\"messages\"])]}\n",
    "\n",
    "\n",
    "#    user_input = state[\"messages\"][-1].content  # Último mensaje del usuario\n",
    "# if detect_comparison_intent(user_input):\n",
    "#         car1, car2 = extract_car_models_llm(user_input)\n",
    "#         if car1 and car2:\n",
    "#             car1_data, car2_data = obtener_datos_comparacion(car1, car2)\n",
    "#             return {\"messages\": [comparar_coches_llm(car1_data, car2_data)]}\n",
    "#         else:\n",
    "#             return {\"messages\": [\"No pude identificar claramente los coches a comparar. ¿Podrías mencionarlos nuevamente?\"]}\n"
   ]
  },
  {
   "cell_type": "code",
   "execution_count": null,
   "metadata": {},
   "outputs": [],
   "source": [
    "memory = MemorySaver()\n",
    "\n",
    "# Graph\n",
    "graph = StateGraph(MessagesState)\n",
    "\n",
    "# Define nodes: these do the work\n",
    "graph.add_node(\"assistant\", assistant)\n",
    "graph.add_node(\"tools\", ToolNode(tools))\n",
    "\n",
    "# Define edges: these determine how the control flow moves\n",
    "graph.add_edge(START, \"assistant\")\n",
    "graph.add_conditional_edges(\n",
    "    \"assistant\",\n",
    "    lambda state: logging.debug(f\"tools_condition evalúa: {tools_condition(state)}\") or tools_condition(state)\n",
    ")\n",
    "    # If the latest message (result) from assistant is a tool call -> tools_condition routes to tools\n",
    "    # If the latest message (result) from assistant is a not a tool call -> tools_condition routes to END\n",
    "#     tools_condition,\n",
    "# )\n",
    "graph.add_edge(\"tools\", \"assistant\")\n",
    "graph = graph.compile(checkpointer=memory)\n",
    "# Show\n",
    "display(Image(graph.get_graph(xray=True).draw_mermaid_png()))"
   ]
  },
  {
   "cell_type": "code",
   "execution_count": null,
   "metadata": {},
   "outputs": [],
   "source": [
    "# Start conversation, again\n",
    "config = {\"configurable\": {\"thread_id\": \"1\"}}\n",
    "\n",
    "# Specify an input\n",
    "input_message = HumanMessage(content=\"quiero coche bmw serie 1 120d hibrido año 2024\")\n",
    "output = graph.invoke({\"messages\": input_message}, config)\n",
    "\n",
    "# Mostrar los mensajes resultantes del primer paso\n",
    "for m in output[\"messages\"]:\n",
    "    m.pretty_print()"
   ]
  },
  {
   "cell_type": "code",
   "execution_count": null,
   "metadata": {},
   "outputs": [],
   "source": [
    "# Start conversation, again\n",
    "config = {\"configurable\": {\"thread_id\": \"1\"}}\n",
    "\n",
    "# Specify an input\n",
    "input_message = HumanMessage(content=\"kilometraje 50.000 y presupuesto no importa, muestrame todas las opciones\")\n",
    "output = graph.invoke({\"messages\": input_message}, config)\n",
    "\n",
    "# Mostrar los mensajes resultantes del primer paso\n",
    "for m in output[\"messages\"]:\n",
    "    m.pretty_print()"
   ]
  },
  {
   "cell_type": "code",
   "execution_count": null,
   "metadata": {},
   "outputs": [],
   "source": [
    "# Start conversation, again\n",
    "config = {\"configurable\": {\"thread_id\": \"1\"}}\n",
    "\n",
    "# Specify an input\n",
    "input_message = HumanMessage(content=\"podrias darme las caracteristicas del bmw serie 1 118i 2024 diesel\")\n",
    "output = graph.invoke({\"messages\": input_message}, config)\n",
    "\n",
    "# Mostrar los mensajes resultantes del primer paso\n",
    "for m in output[\"messages\"]:\n",
    "    m.pretty_print()"
   ]
  },
  {
   "cell_type": "code",
   "execution_count": null,
   "metadata": {},
   "outputs": [],
   "source": [
    "# Start conversation, again\n",
    "config = {\"configurable\": {\"thread_id\": \"1\"}}\n",
    "\n",
    "# Specify an input\n",
    "input_message = HumanMessage(content=\"si, dame las caracteristicas del El 118i a gasolina\")\n",
    "output = graph.invoke({\"messages\": input_message}, config)\n",
    "\n",
    "# Mostrar los mensajes resultantes del primer paso\n",
    "for m in output[\"messages\"]:\n",
    "    m.pretty_print()"
   ]
  },
  {
   "cell_type": "code",
   "execution_count": null,
   "metadata": {},
   "outputs": [],
   "source": [
    "# Start conversation, again\n",
    "config = {\"configurable\": {\"thread_id\": \"2\"}}\n",
    "\n",
    "# Specify an input\n",
    "input_message = HumanMessage(content=\"quiero un coche kia sportage a gasolina, puede ser año 2011 a 2020 y no importa el kilometraje\")\n",
    "output = graph.invoke({\"messages\": input_message}, config)\n",
    "\n",
    "# Mostrar los mensajes resultantes del primer paso\n",
    "for m in output[\"messages\"]:\n",
    "    m.pretty_print()"
   ]
  },
  {
   "cell_type": "code",
   "execution_count": null,
   "metadata": {},
   "outputs": [],
   "source": [
    "# Start conversation\n",
    "config = {\"configurable\": {\"thread_id\": \"2\"}}\n",
    "\n",
    "# Specify an input\n",
    "input_message = HumanMessage(content=\"maximo 25.000 euros\")\n",
    "output = graph.invoke({\"messages\": input_message}, config)\n",
    "\n",
    "# Mostrar los mensajes resultantes del primer paso\n",
    "for m in output[\"messages\"]:\n",
    "    m.pretty_print()"
   ]
  },
  {
   "cell_type": "code",
   "execution_count": null,
   "metadata": {},
   "outputs": [],
   "source": [
    "config = {\"configurable\": {\"thread_id\": \"3\"}}\n",
    "\n",
    "# Specify an input\n",
    "input_message = HumanMessage(content=\"Mentor quiero un coche familiar, me podrias recomendar alguno?\")\n",
    "output = graph.invoke({\"messages\": input_message}, config)\n",
    "\n",
    "# Mostrar los mensajes resultantes del primer paso\n",
    "for m in output[\"messages\"]:\n",
    "    m.pretty_print()"
   ]
  },
  {
   "cell_type": "code",
   "execution_count": null,
   "metadata": {},
   "outputs": [],
   "source": [
    "# Start conversation, again\n",
    "config = {\"configurable\": {\"thread_id\": \"3\"}}\n",
    "\n",
    "# Specify an input\n",
    "input_message = HumanMessage(content=\"segun tu conocimiento que me recomiendas?\")\n",
    "output = graph.invoke({\"messages\": input_message}, config)\n",
    "\n",
    "# Mostrar los mensajes resultantes del primer paso\n",
    "for m in output[\"messages\"]:\n",
    "    m.pretty_print()"
   ]
  },
  {
   "cell_type": "code",
   "execution_count": null,
   "metadata": {},
   "outputs": [],
   "source": [
    "# Start conversation, again\n",
    "config = {\"configurable\": {\"thread_id\": \"3\"}}\n",
    "\n",
    "# Specify an input\n",
    "input_message = HumanMessage(content=\"pues SUV estaria bien y presupuesto hasta  12.000\")\n",
    "output = graph.invoke({\"messages\": input_message}, config)\n",
    "\n",
    "# Mostrar los mensajes resultantes del primer paso\n",
    "for m in output[\"messages\"]:\n",
    "    m.pretty_print()"
   ]
  },
  {
   "cell_type": "code",
   "execution_count": null,
   "metadata": {},
   "outputs": [],
   "source": [
    "# Start conversation, again\n",
    "config = {\"configurable\": {\"thread_id\": \"3\"}}\n",
    "\n",
    "# Specify an input\n",
    "input_message = HumanMessage(content=\"diesel o gasolina esta bien\")\n",
    "output = graph.invoke({\"messages\": input_message}, config)\n",
    "\n",
    "# Mostrar los mensajes resultantes del primer paso\n",
    "for m in output[\"messages\"]:\n",
    "    m.pretty_print()"
   ]
  },
  {
   "cell_type": "code",
   "execution_count": null,
   "metadata": {},
   "outputs": [],
   "source": [
    "# Start conversation, again\n",
    "config = {\"configurable\": {\"thread_id\": \"3\"}}\n",
    "\n",
    "# Specify an input\n",
    "input_message = HumanMessage(content=\"vale maximo 10 años\")\n",
    "output = graph.invoke({\"messages\": input_message}, config)\n",
    "\n",
    "# Mostrar los mensajes resultantes del primer paso\n",
    "for m in output[\"messages\"]:\n",
    "    m.pretty_print()"
   ]
  }
 ],
 "metadata": {
  "kernelspec": {
   "display_name": "car_env",
   "language": "python",
   "name": "python3"
  },
  "language_info": {
   "codemirror_mode": {
    "name": "ipython",
    "version": 3
   },
   "file_extension": ".py",
   "mimetype": "text/x-python",
   "name": "python",
   "nbconvert_exporter": "python",
   "pygments_lexer": "ipython3",
   "version": "3.11.5"
  }
 },
 "nbformat": 4,
 "nbformat_minor": 2
}
