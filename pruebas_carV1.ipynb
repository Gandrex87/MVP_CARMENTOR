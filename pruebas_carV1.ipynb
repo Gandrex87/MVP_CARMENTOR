{
 "cells": [
  {
   "cell_type": "code",
   "execution_count": null,
   "metadata": {},
   "outputs": [],
   "source": [
    "from langchain.chat_models import init_chat_model\n",
    "\n",
    "# LLM base\n",
    "llm = init_chat_model(\"openai:gpt-4o-mini\", temperature=0.2)\n",
    "print(llm.invoke(\"Hola, ¿quién eres?\").content)\n",
    "\n",
    "from config.llm import llm_validacion\n",
    "\n",
    "print(llm_validacion.invoke(\"Hola, ¿quién eres?\").content)"
   ]
  },
  {
   "cell_type": "code",
   "execution_count": null,
   "metadata": {},
   "outputs": [],
   "source": [
    "from config.llm import llm_validacion , prompt_validacion\n",
    "from langchain_core.messages import SystemMessage, HumanMessage\n",
    "\n",
    "respuesta = llm_validacion.invoke([\n",
    "    SystemMessage(content=prompt_validacion),\n",
    "    HumanMessage(content=\"Hola, ¿quién eres?\")\n",
    "])\n",
    "print(respuesta.content)\n",
    "\n",
    "\n"
   ]
  },
  {
   "cell_type": "code",
   "execution_count": null,
   "metadata": {},
   "outputs": [],
   "source": [
    "from config.llm import prompt_validacion\n",
    "\n",
    "print(prompt_validacion)"
   ]
  },
  {
   "cell_type": "code",
   "execution_count": null,
   "metadata": {},
   "outputs": [],
   "source": [
    "from utils.enums import TipoMecanica # Ajusta la ruta\n",
    "\n",
    "valores_mecanica = \", \".join([f\"'{e.value}'\" for e in TipoMecanica]) \n",
    "print(valores_mecanica)\n",
    "# Ejemplo de salida: 'BEV', 'GASOLINA', 'DIESEL', 'HIBRIDO', ..."
   ]
  },
  {
   "cell_type": "code",
   "execution_count": null,
   "metadata": {},
   "outputs": [],
   "source": [
    "from graph.perfil.state import ResultadoEconomia,ResultadoSoloFiltros,ResultadoSoloPerfil, ResultadoPasajeros, ResultadoCP # Ajusta la ruta,\n",
    "import json\n",
    "\n",
    "schema = ResultadoCP.model_json_schema()\n",
    "print(json.dumps(schema, indent=2))"
   ]
  },
  {
   "cell_type": "code",
   "execution_count": null,
   "metadata": {},
   "outputs": [],
   "source": [
    "from utils.conversion import get_enum_names\n",
    "from utils.enums import TipoCarroceria, TipoMecanica\n",
    "\n",
    "#get_enum_names([TipoCarroceria.COMERCIAL, TipoCarroceria.PICKUP])\n",
    "\n",
    "#Dos maneras de obtener los nombres de las clases enums\n",
    "print(\"totalidad tipo carroceria:\" , list(TipoCarroceria))\n",
    "print(\"totalidad mecanica\" , get_enum_names(list(TipoMecanica)))\n",
    "print(\"totalidad mecanica\" ,(list(TipoMecanica)))\n"
   ]
  },
  {
   "cell_type": "markdown",
   "metadata": {},
   "source": [
    "# Creacion del Grafo"
   ]
  },
  {
   "cell_type": "code",
   "execution_count": 1,
   "metadata": {},
   "outputs": [
    {
     "name": "stdout",
     "output_type": "stream",
     "text": [
      "INFO ► Compilando el grafo...\n",
      "INFO ► Grafo compilado exitosamente.\n"
     ]
    }
   ],
   "source": [
    "from langchain_core.messages import SystemMessage, HumanMessage\n",
    "# Importar el constructor del grafo\n",
    "from IPython.display import Image, display\n",
    "from graph.perfil.builder import build_sequential_agent_graph\n",
    "# Construir el grafo\n",
    "graph = build_sequential_agent_graph()\n",
    "#display(Image(graph.get_graph(xray=True).draw_mermaid_png()))\n"
   ]
  },
  {
   "cell_type": "markdown",
   "metadata": {},
   "source": [
    "## Prueba 1"
   ]
  },
  {
   "cell_type": "code",
   "execution_count": 2,
   "metadata": {},
   "outputs": [
    {
     "name": "stdout",
     "output_type": "stream",
     "text": [
      "--- Ejecutando Nodo: route_based_on_state_node ---\n",
      "\n",
      "--- DEBUG: Evaluating Routing Decision ---\n",
      "DEBUG Router: CP OK? False\n",
      "--- DEBUG CHECK PERFIL ---\n",
      "Input prefs object: None\n",
      "Input prefs type: <class 'NoneType'>\n",
      "DEBUG Router: Prefs OK? False\n",
      "--- DEBUG CHECK PASAJEROS ---\n",
      "Input info pasajeros: None\n",
      "DEBUG (Validation Pasajeros) ► Objeto InfoPasajeros es None.\n",
      "DEBUG Router: Pasajeros OK? False\n",
      "DEBUG (Validation Filtros) ► Objeto FiltrosInferidos es None.\n",
      "DEBUG Router: Filtros OK? False\n",
      "--- DEBUG CHECK ECONOMIA (Manual) ---\n",
      "Input econ object: None\n",
      "DEBUG (Validation Economía Manual) ► Objeto EconomiaUsuario es None.\n",
      "DEBUG Router: Economía OK? False\n",
      "DEBUG Router: Pesos Calculados? False\n",
      "DEBUG Router: Coches Buscados? False\n",
      "DEBUG Router: Decisión -> recopilar_cp (Etapa CP no completada)\n",
      "--- Ejecutando Nodo: recopilar_cp_node ---\n"
     ]
    },
    {
     "name": "stderr",
     "output_type": "stream",
     "text": [
      "INFO (RAG): HTTP Request: POST https://api.openai.com/v1/chat/completions \"HTTP/1.1 200 OK\"\n"
     ]
    },
    {
     "name": "stdout",
     "output_type": "stream",
     "text": [
      "DEBUG (CP) ► Respuesta llm_cp_extractor: codigo_postal_extraido=None tipo_mensaje='PREGUNTA_ACLARACION' contenido_mensaje='¡Hola! Soy CarBlau, un asistente diseñado para ayudarte a encontrar el coche perfecto según tus necesidades. Para empezar y darte recomendaciones más ajustadas, ¿me dirías tu código postal?'\n",
      "DEBUG (CP) ► CP extraído por LLM: 'None', Tipo Mensaje: 'PREGUNTA_ACLARACION'\n",
      "--- Ejecutando Nodo: validar_cp_node ---\n",
      "DEBUG (CP Validation) ► LLM necesita aclarar CP. Repreguntando.\n",
      "--- Evaluando Condición: ruta_decision_cp ---\n",
      "DEBUG (Condición CP) ► CP inválido o aclaración necesaria. Repreguntando.\n",
      "--- Ejecutando Nodo: preguntar_cp_inicial_node ---\n",
      "DEBUG (Preguntar CP Inicial) ► Usando mensaje pendiente: ¡Hola! Soy CarBlau, un asistente diseñado para ayudarte a encontrar el coche perfecto según tus necesidades. Para empezar y darte recomendaciones más ajustadas, ¿me dirías tu código postal?\n",
      "DEBUG (Preguntar CP Inicial) ► Mensaje final añadido: ¡Hola! Soy CarBlau, un asistente diseñado para ayudarte a encontrar el coche perfecto según tus necesidades. Para empezar y darte recomendaciones más ajustadas, ¿me dirías tu código postal?\n",
      "==================================\u001b[1m Ai Message \u001b[0m==================================\n",
      "\n",
      "¡Hola! Soy CarBlau, un asistente diseñado para ayudarte a encontrar el coche perfecto según tus necesidades. Para empezar y darte recomendaciones más ajustadas, ¿me dirías tu código postal?\n"
     ]
    }
   ],
   "source": [
    "from langchain_core.messages import HumanMessage, SystemMessage\n",
    "\n",
    "# Create a thread\n",
    "config = {\"configurable\": {\"thread_id\": \"1\"}}\n",
    "\n",
    "# Start conversation\n",
    "input_message = HumanMessage(content=\"quiero un coche, mido 1.50\")\n",
    "output = graph.invoke({\"messages\": [input_message]}, config) \n",
    "for m in output['messages'][-1:]:\n",
    "    m.pretty_print()\n"
   ]
  },
  {
   "cell_type": "code",
   "execution_count": 3,
   "metadata": {},
   "outputs": [
    {
     "name": "stdout",
     "output_type": "stream",
     "text": [
      "--- Ejecutando Nodo: route_based_on_state_node ---\n",
      "\n",
      "--- DEBUG: Evaluating Routing Decision ---\n",
      "DEBUG Router: CP OK? False\n",
      "--- DEBUG CHECK PERFIL ---\n",
      "Input prefs object: None\n",
      "Input prefs type: <class 'NoneType'>\n",
      "DEBUG Router: Prefs OK? False\n",
      "--- DEBUG CHECK PASAJEROS ---\n",
      "Input info pasajeros: None\n",
      "DEBUG (Validation Pasajeros) ► Objeto InfoPasajeros es None.\n",
      "DEBUG Router: Pasajeros OK? False\n",
      "DEBUG (Validation Filtros) ► Objeto FiltrosInferidos es None.\n",
      "DEBUG Router: Filtros OK? False\n",
      "--- DEBUG CHECK ECONOMIA (Manual) ---\n",
      "Input econ object: None\n",
      "DEBUG (Validation Economía Manual) ► Objeto EconomiaUsuario es None.\n",
      "DEBUG Router: Economía OK? False\n",
      "DEBUG Router: Pesos Calculados? False\n",
      "DEBUG Router: Coches Buscados? False\n",
      "DEBUG Router: Decisión -> recopilar_cp (Etapa CP no completada)\n",
      "--- Ejecutando Nodo: recopilar_cp_node ---\n"
     ]
    },
    {
     "name": "stderr",
     "output_type": "stream",
     "text": [
      "INFO (RAG): HTTP Request: POST https://api.openai.com/v1/chat/completions \"HTTP/1.1 200 OK\"\n",
      "INFO (RAG): Buscando información climática para el CP: 17537 en thecarmentor-mvp2.web_cars.zonas_climas\n"
     ]
    },
    {
     "name": "stdout",
     "output_type": "stream",
     "text": [
      "DEBUG (CP) ► Respuesta llm_cp_extractor: codigo_postal_extraido='17537' tipo_mensaje='CP_OBTENIDO' contenido_mensaje=''\n",
      "DEBUG (CP) ► CP extraído por LLM: '17537', Tipo Mensaje: 'CP_OBTENIDO'\n",
      "--- Ejecutando Nodo: validar_cp_node ---\n",
      "DEBUG (CP Validation) ► CP '17537' parece válido. Procediendo a buscar clima.\n",
      "--- Evaluando Condición: ruta_decision_cp ---\n",
      "DEBUG (Condición CP) ► CP válido/omitido. Procediendo a buscar clima.\n",
      "--- Ejecutando Nodo: buscar_info_clima_node ---\n",
      "DEBUG (Clima) ► Buscando datos climáticos para CP: 17537\n",
      "DEBUG (BQ Clima) ► Query: \n",
      "        SELECT\n",
      "            EXISTS(SELECT 1 FROM `thecarmentor-mvp2.web_cars.zonas_climas` WHERE MUNICIPIO_ZBE = @cp_param) AS MUNICIPIO_ZBE,\n",
      "       EXISTS(SELECT 1 FROM `thecarmentor-mvp2.web_cars.zonas_climas` WHERE ZONA_LLUVIAS = @cp_param) AS ZONA_LLUVIAS,\n",
      "       EXISTS(SELECT 1 FROM `thecarmentor-mvp2.web_cars.zonas_climas` WHERE ZONA_NIEBLAS = @cp_param) AS ZONA_NIEBLAS,\n",
      "       EXISTS(SELECT 1 FROM `thecarmentor-mvp2.web_cars.zonas_climas` WHERE ZONA_NIEVE = @cp_param) AS ZONA_NIEVE,\n",
      "       EXISTS(SELECT 1 FROM `thecarmentor-mvp2.web_cars.zonas_climas` WHERE ZONA_CLIMA_MONTA = @cp_param) AS ZONA_CLIMA_MONTA,\n",
      "       EXISTS(SELECT 1 FROM `thecarmentor-mvp2.web_cars.zonas_climas` WHERE ZONA_GLP = @cp_param) AS ZONA_GLP,\n",
      "       EXISTS(SELECT 1 FROM `thecarmentor-mvp2.web_cars.zonas_climas` WHERE ZONA_GNV = @cp_param) AS ZONA_GNV\n",
      "        \n",
      "DEBUG (BQ Clima) ► Params: 17537\n"
     ]
    },
    {
     "name": "stderr",
     "output_type": "stream",
     "text": [
      "INFO (RAG): Datos climáticos encontrados para CP 17537: {'MUNICIPIO_ZBE': False, 'ZONA_LLUVIAS': False, 'ZONA_NIEBLAS': False, 'ZONA_NIEVE': True, 'ZONA_CLIMA_MONTA': True, 'ZONA_GLP': False, 'ZONA_GNV': False}\n"
     ]
    },
    {
     "name": "stdout",
     "output_type": "stream",
     "text": [
      "DEBUG (Clima) ► Datos climáticos encontrados: {'MUNICIPIO_ZBE': False, 'ZONA_LLUVIAS': False, 'ZONA_NIEBLAS': False, 'ZONA_NIEVE': True, 'ZONA_CLIMA_MONTA': True, 'ZONA_GLP': False, 'ZONA_GNV': False, 'cp_valido_encontrado': True, 'codigo_postal_consultado': '17537'}\n",
      "--- Ejecutando Nodo: recopilar_preferencias_node ---\n",
      "DEBUG (Perfil) ► Último mensaje es HumanMessage o historial vacío, llamando a llm_solo_perfil...\n"
     ]
    },
    {
     "name": "stderr",
     "output_type": "stream",
     "text": [
      "INFO (RAG): HTTP Request: POST https://api.openai.com/v1/chat/completions \"HTTP/1.1 200 OK\"\n"
     ]
    },
    {
     "name": "stdout",
     "output_type": "stream",
     "text": [
      "DEBUG (Perfil) ► Respuesta llm_solo_perfil: preferencias_usuario=PerfilUsuario(apasionado_motor=None, valora_estetica=None, coche_principal_hogar=None, uso_profesional=None, tipo_uso_profesional=None, prefiere_diseno_exclusivo=None, altura_mayor_190='no', peso_mayor_100=None, transporta_carga_voluminosa=None, necesita_espacio_objetos_especiales=None, arrastra_remolque=None, aventura=None, solo_electricos=None, prioriza_baja_depreciacion=None, transmision_preferida=None, rating_fiabilidad_durabilidad=None, rating_seguridad=None, rating_comodidad=None, rating_impacto_ambiental=None, rating_tecnologia_conectividad=None, rating_costes_uso=None) tipo_mensaje='PREGUNTA' contenido_mensaje='Para ayudarte a encontrar el coche que mejor se adapte a tus necesidades reales, dime, ¿Eres un apasionado del mundo automotriz?'\n",
      "DEBUG (Perfil) ► Preferencias TRAS post-procesamiento: apasionado_motor=None valora_estetica=None coche_principal_hogar=None uso_profesional=None tipo_uso_profesional=None prefiere_diseno_exclusivo=None altura_mayor_190='no' peso_mayor_100=None transporta_carga_voluminosa=None necesita_espacio_objetos_especiales=None arrastra_remolque=None aventura=None solo_electricos=None prioriza_baja_depreciacion=None transmision_preferida=None rating_fiabilidad_durabilidad=None rating_seguridad=None rating_comodidad=None rating_impacto_ambiental=None rating_tecnologia_conectividad=None rating_costes_uso=None\n",
      "DEBUG (Perfil) ► Estado preferencias_usuario actualizado: apasionado_motor=None valora_estetica=None coche_principal_hogar=None uso_profesional=None tipo_uso_profesional=None prefiere_diseno_exclusivo=None altura_mayor_190='no' peso_mayor_100=None transporta_carga_voluminosa=None necesita_espacio_objetos_especiales=None arrastra_remolque=None aventura=None solo_electricos=None prioriza_baja_depreciacion=None transmision_preferida=None rating_fiabilidad_durabilidad=None rating_seguridad=None rating_comodidad=None rating_impacto_ambiental=None rating_tecnologia_conectividad=None rating_costes_uso=None\n",
      "DEBUG (Perfil) ► Guardando mensaje pendiente: Para ayudarte a encontrar el coche que mejor se adapte a tus necesidades reales, dime, ¿Eres un apasionado del mundo automotriz?\n",
      "--- Ejecutando Nodo: validar_preferencias_node ---\n",
      "--- DEBUG CHECK PERFIL ---\n",
      "Input prefs object: apasionado_motor=None valora_estetica=None coche_principal_hogar=None uso_profesional=None tipo_uso_profesional=None prefiere_diseno_exclusivo=None altura_mayor_190='no' peso_mayor_100=None transporta_carga_voluminosa=None necesita_espacio_objetos_especiales=None arrastra_remolque=None aventura=None solo_electricos=None prioriza_baja_depreciacion=None transmision_preferida=None rating_fiabilidad_durabilidad=None rating_seguridad=None rating_comodidad=None rating_impacto_ambiental=None rating_tecnologia_conectividad=None rating_costes_uso=None\n",
      "Input prefs type: <class 'graph.perfil.state.PerfilUsuario'>\n",
      "DEBUG (Validation Perfil) ► Campo 'apasionado_motor' está vacío/None.\n",
      "DEBUG (Perfil) ► Validación: PerfilUsuario considerado INCOMPLETO.\n",
      "--- Evaluando Condición: ruta_decision_perfil ---\n",
      "DEBUG (Condición Perfil) ► Estado 'preferencias_usuario' recibido: apasionado_motor=None valora_estetica=None coche_principal_hogar=None uso_profesional=None tipo_uso_profesional=None prefiere_diseno_exclusivo=None altura_mayor_190='no' peso_mayor_100=None transporta_carga_voluminosa=None necesita_espacio_objetos_especiales=None arrastra_remolque=None aventura=None solo_electricos=None prioriza_baja_depreciacion=None transmision_preferida=None rating_fiabilidad_durabilidad=None rating_seguridad=None rating_comodidad=None rating_impacto_ambiental=None rating_tecnologia_conectividad=None rating_costes_uso=None\n",
      "DEBUG (Condición Perfil) ► Tipo de 'preferencias_usuario': <class 'graph.perfil.state.PerfilUsuario'>\n",
      "--- DEBUG CHECK PERFIL ---\n",
      "Input prefs object: apasionado_motor=None valora_estetica=None coche_principal_hogar=None uso_profesional=None tipo_uso_profesional=None prefiere_diseno_exclusivo=None altura_mayor_190='no' peso_mayor_100=None transporta_carga_voluminosa=None necesita_espacio_objetos_especiales=None arrastra_remolque=None aventura=None solo_electricos=None prioriza_baja_depreciacion=None transmision_preferida=None rating_fiabilidad_durabilidad=None rating_seguridad=None rating_comodidad=None rating_impacto_ambiental=None rating_tecnologia_conectividad=None rating_costes_uso=None\n",
      "Input prefs type: <class 'graph.perfil.state.PerfilUsuario'>\n",
      "DEBUG (Validation Perfil) ► Campo 'apasionado_motor' está vacío/None.\n",
      "DEBUG (Condición Perfil) ► Perfil INCOMPLETO. Se necesita pregunta.\n",
      "--- Ejecutando Nodo: preguntar_preferencias_node ---\n",
      "--- DEBUG CHECK PERFIL ---\n",
      "Input prefs object: apasionado_motor=None valora_estetica=None coche_principal_hogar=None uso_profesional=None tipo_uso_profesional=None prefiere_diseno_exclusivo=None altura_mayor_190='no' peso_mayor_100=None transporta_carga_voluminosa=None necesita_espacio_objetos_especiales=None arrastra_remolque=None aventura=None solo_electricos=None prioriza_baja_depreciacion=None transmision_preferida=None rating_fiabilidad_durabilidad=None rating_seguridad=None rating_comodidad=None rating_impacto_ambiental=None rating_tecnologia_conectividad=None rating_costes_uso=None\n",
      "Input prefs type: <class 'graph.perfil.state.PerfilUsuario'>\n",
      "DEBUG (Validation Perfil) ► Campo 'apasionado_motor' está vacío/None.\n",
      "DEBUG (Preguntar Perfil) ► Perfil aún INCOMPLETO según checker.\n",
      "DEBUG (Preguntar Perfil) ► Pregunta fallback generada: ¿Te consideras una persona entusiasta del mundo del motor y la tecnología automotriz?\n",
      "DEBUG (Preguntar Perfil) ► Usando mensaje pendiente (pregunta LLM): Para ayudarte a encontrar el coche que mejor se adapte a tus necesidades reales, dime, ¿Eres un apasionado del mundo automotriz?\n",
      "DEBUG (Preguntar Perfil) ► Mensaje final añadido: Para ayudarte a encontrar el coche que mejor se adapte a tus necesidades reales, dime, ¿Eres un apasionado del mundo automotriz?\n",
      "==================================\u001b[1m Ai Message \u001b[0m==================================\n",
      "\n",
      "Para ayudarte a encontrar el coche que mejor se adapte a tus necesidades reales, dime, ¿Eres un apasionado del mundo automotriz?\n"
     ]
    }
   ],
   "source": [
    "config = {\"configurable\": {\"thread_id\": \"1\"}}\n",
    "input_message = HumanMessage(content=\"17537\")\n",
    "output = graph.invoke({\"messages\": [input_message]}, config) \n",
    "for m in output['messages'][-1:]:\n",
    "    m.pretty_print()"
   ]
  },
  {
   "cell_type": "code",
   "execution_count": null,
   "metadata": {},
   "outputs": [],
   "source": [
    "print(output.keys())"
   ]
  },
  {
   "cell_type": "code",
   "execution_count": 4,
   "metadata": {},
   "outputs": [
    {
     "name": "stdout",
     "output_type": "stream",
     "text": [
      "--- Ejecutando Nodo: route_based_on_state_node ---\n",
      "\n",
      "--- DEBUG: Evaluating Routing Decision ---\n",
      "DEBUG Router: CP OK? True\n",
      "--- DEBUG CHECK PERFIL ---\n",
      "Input prefs object: apasionado_motor=None valora_estetica=None coche_principal_hogar=None uso_profesional=None tipo_uso_profesional=None prefiere_diseno_exclusivo=None altura_mayor_190='no' peso_mayor_100=None transporta_carga_voluminosa=None necesita_espacio_objetos_especiales=None arrastra_remolque=None aventura=None solo_electricos=None prioriza_baja_depreciacion=None transmision_preferida=None rating_fiabilidad_durabilidad=None rating_seguridad=None rating_comodidad=None rating_impacto_ambiental=None rating_tecnologia_conectividad=None rating_costes_uso=None\n",
      "Input prefs type: <class 'graph.perfil.state.PerfilUsuario'>\n",
      "DEBUG (Validation Perfil) ► Campo 'apasionado_motor' está vacío/None.\n",
      "DEBUG Router: Prefs OK? False\n",
      "--- DEBUG CHECK PASAJEROS ---\n",
      "Input info pasajeros: None\n",
      "DEBUG (Validation Pasajeros) ► Objeto InfoPasajeros es None.\n",
      "DEBUG Router: Pasajeros OK? False\n",
      "DEBUG (Validation Filtros) ► Objeto FiltrosInferidos es None.\n",
      "DEBUG Router: Filtros OK? False\n",
      "--- DEBUG CHECK ECONOMIA (Manual) ---\n",
      "Input econ object: None\n",
      "DEBUG (Validation Economía Manual) ► Objeto EconomiaUsuario es None.\n",
      "DEBUG Router: Economía OK? False\n",
      "DEBUG Router: Pesos Calculados? False\n",
      "DEBUG Router: Coches Buscados? False\n",
      "--- DEBUG CHECK PERFIL ---\n",
      "Input prefs object: apasionado_motor=None valora_estetica=None coche_principal_hogar=None uso_profesional=None tipo_uso_profesional=None prefiere_diseno_exclusivo=None altura_mayor_190='no' peso_mayor_100=None transporta_carga_voluminosa=None necesita_espacio_objetos_especiales=None arrastra_remolque=None aventura=None solo_electricos=None prioriza_baja_depreciacion=None transmision_preferida=None rating_fiabilidad_durabilidad=None rating_seguridad=None rating_comodidad=None rating_impacto_ambiental=None rating_tecnologia_conectividad=None rating_costes_uso=None\n",
      "Input prefs type: <class 'graph.perfil.state.PerfilUsuario'>\n",
      "DEBUG (Validation Perfil) ► Campo 'apasionado_motor' está vacío/None.\n",
      "DEBUG Router: Decisión -> recopilar_preferencias\n",
      "--- Ejecutando Nodo: recopilar_preferencias_node ---\n",
      "DEBUG (Perfil) ► Último mensaje es HumanMessage o historial vacío, llamando a llm_solo_perfil...\n"
     ]
    },
    {
     "name": "stderr",
     "output_type": "stream",
     "text": [
      "INFO (RAG): HTTP Request: POST https://api.openai.com/v1/chat/completions \"HTTP/1.1 200 OK\"\n"
     ]
    },
    {
     "name": "stdout",
     "output_type": "stream",
     "text": [
      "DEBUG (Perfil) ► Respuesta llm_solo_perfil: preferencias_usuario=PerfilUsuario(apasionado_motor='sí', valora_estetica=None, coche_principal_hogar=None, uso_profesional=None, tipo_uso_profesional=None, prefiere_diseno_exclusivo=None, altura_mayor_190=None, peso_mayor_100=None, transporta_carga_voluminosa=None, necesita_espacio_objetos_especiales=None, arrastra_remolque=None, aventura=None, solo_electricos=None, prioriza_baja_depreciacion=None, transmision_preferida=None, rating_fiabilidad_durabilidad=None, rating_seguridad=None, rating_comodidad=None, rating_impacto_ambiental=None, rating_tecnologia_conectividad=None, rating_costes_uso=None) tipo_mensaje='PREGUNTA' contenido_mensaje='¿Valoras especialmente la estética del coche?'\n",
      "DEBUG (Perfil) ► Preferencias TRAS post-procesamiento: apasionado_motor='sí' valora_estetica=None coche_principal_hogar=None uso_profesional=None tipo_uso_profesional=None prefiere_diseno_exclusivo=None altura_mayor_190=None peso_mayor_100=None transporta_carga_voluminosa=None necesita_espacio_objetos_especiales=None arrastra_remolque=None aventura=None solo_electricos=None prioriza_baja_depreciacion=None transmision_preferida=None rating_fiabilidad_durabilidad=None rating_seguridad=None rating_comodidad=None rating_impacto_ambiental=None rating_tecnologia_conectividad=None rating_costes_uso=None\n",
      "DEBUG (Perfil) ► Estado preferencias_usuario actualizado: apasionado_motor='sí' valora_estetica=None coche_principal_hogar=None uso_profesional=None tipo_uso_profesional=None prefiere_diseno_exclusivo=None altura_mayor_190='no' peso_mayor_100=None transporta_carga_voluminosa=None necesita_espacio_objetos_especiales=None arrastra_remolque=None aventura=None solo_electricos=None prioriza_baja_depreciacion=None transmision_preferida=None rating_fiabilidad_durabilidad=None rating_seguridad=None rating_comodidad=None rating_impacto_ambiental=None rating_tecnologia_conectividad=None rating_costes_uso=None\n",
      "DEBUG (Perfil) ► Guardando mensaje pendiente: ¿Valoras especialmente la estética del coche?\n",
      "--- Ejecutando Nodo: validar_preferencias_node ---\n",
      "--- DEBUG CHECK PERFIL ---\n",
      "Input prefs object: apasionado_motor='sí' valora_estetica=None coche_principal_hogar=None uso_profesional=None tipo_uso_profesional=None prefiere_diseno_exclusivo=None altura_mayor_190='no' peso_mayor_100=None transporta_carga_voluminosa=None necesita_espacio_objetos_especiales=None arrastra_remolque=None aventura=None solo_electricos=None prioriza_baja_depreciacion=None transmision_preferida=None rating_fiabilidad_durabilidad=None rating_seguridad=None rating_comodidad=None rating_impacto_ambiental=None rating_tecnologia_conectividad=None rating_costes_uso=None\n",
      "Input prefs type: <class 'graph.perfil.state.PerfilUsuario'>\n",
      "DEBUG (Validation Perfil) ► Campo 'valora_estetica' está vacío/None.\n",
      "DEBUG (Perfil) ► Validación: PerfilUsuario considerado INCOMPLETO.\n",
      "--- Evaluando Condición: ruta_decision_perfil ---\n",
      "DEBUG (Condición Perfil) ► Estado 'preferencias_usuario' recibido: apasionado_motor='sí' valora_estetica=None coche_principal_hogar=None uso_profesional=None tipo_uso_profesional=None prefiere_diseno_exclusivo=None altura_mayor_190='no' peso_mayor_100=None transporta_carga_voluminosa=None necesita_espacio_objetos_especiales=None arrastra_remolque=None aventura=None solo_electricos=None prioriza_baja_depreciacion=None transmision_preferida=None rating_fiabilidad_durabilidad=None rating_seguridad=None rating_comodidad=None rating_impacto_ambiental=None rating_tecnologia_conectividad=None rating_costes_uso=None\n",
      "DEBUG (Condición Perfil) ► Tipo de 'preferencias_usuario': <class 'graph.perfil.state.PerfilUsuario'>\n",
      "--- DEBUG CHECK PERFIL ---\n",
      "Input prefs object: apasionado_motor='sí' valora_estetica=None coche_principal_hogar=None uso_profesional=None tipo_uso_profesional=None prefiere_diseno_exclusivo=None altura_mayor_190='no' peso_mayor_100=None transporta_carga_voluminosa=None necesita_espacio_objetos_especiales=None arrastra_remolque=None aventura=None solo_electricos=None prioriza_baja_depreciacion=None transmision_preferida=None rating_fiabilidad_durabilidad=None rating_seguridad=None rating_comodidad=None rating_impacto_ambiental=None rating_tecnologia_conectividad=None rating_costes_uso=None\n",
      "Input prefs type: <class 'graph.perfil.state.PerfilUsuario'>\n",
      "DEBUG (Validation Perfil) ► Campo 'valora_estetica' está vacío/None.\n",
      "DEBUG (Condición Perfil) ► Perfil INCOMPLETO. Se necesita pregunta.\n",
      "--- Ejecutando Nodo: preguntar_preferencias_node ---\n",
      "--- DEBUG CHECK PERFIL ---\n",
      "Input prefs object: apasionado_motor='sí' valora_estetica=None coche_principal_hogar=None uso_profesional=None tipo_uso_profesional=None prefiere_diseno_exclusivo=None altura_mayor_190='no' peso_mayor_100=None transporta_carga_voluminosa=None necesita_espacio_objetos_especiales=None arrastra_remolque=None aventura=None solo_electricos=None prioriza_baja_depreciacion=None transmision_preferida=None rating_fiabilidad_durabilidad=None rating_seguridad=None rating_comodidad=None rating_impacto_ambiental=None rating_tecnologia_conectividad=None rating_costes_uso=None\n",
      "Input prefs type: <class 'graph.perfil.state.PerfilUsuario'>\n",
      "DEBUG (Validation Perfil) ► Campo 'valora_estetica' está vacío/None.\n",
      "DEBUG (Preguntar Perfil) ► Perfil aún INCOMPLETO según checker.\n",
      "DEBUG (Preguntar Perfil) ► Pregunta fallback generada: ¿La Estética es importante para ti o crees que hay factores más importantes?\n",
      "DEBUG (Preguntar Perfil) ► Usando mensaje pendiente (pregunta LLM): ¿Valoras especialmente la estética del coche?\n",
      "DEBUG (Preguntar Perfil) ► Mensaje final añadido: ¿Valoras especialmente la estética del coche?\n",
      "==================================\u001b[1m Ai Message \u001b[0m==================================\n",
      "\n",
      "¿Valoras especialmente la estética del coche?\n"
     ]
    }
   ],
   "source": [
    "config = {\"configurable\": {\"thread_id\": \"1\"}}\n",
    "input_message = HumanMessage(content=\"si \")\n",
    "output = graph.invoke({\"messages\": [input_message]}, config) \n",
    "for m in output['messages'][-1:]:\n",
    "    m.pretty_print()"
   ]
  },
  {
   "cell_type": "code",
   "execution_count": 5,
   "metadata": {},
   "outputs": [
    {
     "name": "stdout",
     "output_type": "stream",
     "text": [
      "--- Ejecutando Nodo: route_based_on_state_node ---\n",
      "\n",
      "--- DEBUG: Evaluating Routing Decision ---\n",
      "DEBUG Router: CP OK? True\n",
      "--- DEBUG CHECK PERFIL ---\n",
      "Input prefs object: apasionado_motor='sí' valora_estetica=None coche_principal_hogar=None uso_profesional=None tipo_uso_profesional=None prefiere_diseno_exclusivo=None altura_mayor_190='no' peso_mayor_100=None transporta_carga_voluminosa=None necesita_espacio_objetos_especiales=None arrastra_remolque=None aventura=None solo_electricos=None prioriza_baja_depreciacion=None transmision_preferida=None rating_fiabilidad_durabilidad=None rating_seguridad=None rating_comodidad=None rating_impacto_ambiental=None rating_tecnologia_conectividad=None rating_costes_uso=None\n",
      "Input prefs type: <class 'graph.perfil.state.PerfilUsuario'>\n",
      "DEBUG (Validation Perfil) ► Campo 'valora_estetica' está vacío/None.\n",
      "DEBUG Router: Prefs OK? False\n",
      "--- DEBUG CHECK PASAJEROS ---\n",
      "Input info pasajeros: None\n",
      "DEBUG (Validation Pasajeros) ► Objeto InfoPasajeros es None.\n",
      "DEBUG Router: Pasajeros OK? False\n",
      "DEBUG (Validation Filtros) ► Objeto FiltrosInferidos es None.\n",
      "DEBUG Router: Filtros OK? False\n",
      "--- DEBUG CHECK ECONOMIA (Manual) ---\n",
      "Input econ object: None\n",
      "DEBUG (Validation Economía Manual) ► Objeto EconomiaUsuario es None.\n",
      "DEBUG Router: Economía OK? False\n",
      "DEBUG Router: Pesos Calculados? False\n",
      "DEBUG Router: Coches Buscados? False\n",
      "--- DEBUG CHECK PERFIL ---\n",
      "Input prefs object: apasionado_motor='sí' valora_estetica=None coche_principal_hogar=None uso_profesional=None tipo_uso_profesional=None prefiere_diseno_exclusivo=None altura_mayor_190='no' peso_mayor_100=None transporta_carga_voluminosa=None necesita_espacio_objetos_especiales=None arrastra_remolque=None aventura=None solo_electricos=None prioriza_baja_depreciacion=None transmision_preferida=None rating_fiabilidad_durabilidad=None rating_seguridad=None rating_comodidad=None rating_impacto_ambiental=None rating_tecnologia_conectividad=None rating_costes_uso=None\n",
      "Input prefs type: <class 'graph.perfil.state.PerfilUsuario'>\n",
      "DEBUG (Validation Perfil) ► Campo 'valora_estetica' está vacío/None.\n",
      "DEBUG Router: Decisión -> recopilar_preferencias\n",
      "--- Ejecutando Nodo: recopilar_preferencias_node ---\n",
      "DEBUG (Perfil) ► Último mensaje es HumanMessage o historial vacío, llamando a llm_solo_perfil...\n"
     ]
    },
    {
     "name": "stderr",
     "output_type": "stream",
     "text": [
      "INFO (RAG): HTTP Request: POST https://api.openai.com/v1/chat/completions \"HTTP/1.1 200 OK\"\n"
     ]
    },
    {
     "name": "stdout",
     "output_type": "stream",
     "text": [
      "DEBUG (Perfil) ► Respuesta llm_solo_perfil: preferencias_usuario=PerfilUsuario(apasionado_motor='sí', valora_estetica='no', coche_principal_hogar=None, uso_profesional=None, tipo_uso_profesional=None, prefiere_diseno_exclusivo=None, altura_mayor_190=None, peso_mayor_100=None, transporta_carga_voluminosa=None, necesita_espacio_objetos_especiales=None, arrastra_remolque=None, aventura=None, solo_electricos=None, prioriza_baja_depreciacion=None, transmision_preferida=None, rating_fiabilidad_durabilidad=None, rating_seguridad=None, rating_comodidad=None, rating_impacto_ambiental=None, rating_tecnologia_conectividad=None, rating_costes_uso=None) tipo_mensaje='PREGUNTA' contenido_mensaje='¿El coche que estamos buscando será el vehículo principal de tu hogar?'\n",
      "DEBUG (Perfil) ► Preferencias TRAS post-procesamiento: apasionado_motor='sí' valora_estetica='no' coche_principal_hogar=None uso_profesional=None tipo_uso_profesional=None prefiere_diseno_exclusivo=None altura_mayor_190=None peso_mayor_100=None transporta_carga_voluminosa=None necesita_espacio_objetos_especiales=None arrastra_remolque=None aventura=None solo_electricos=None prioriza_baja_depreciacion=None transmision_preferida=None rating_fiabilidad_durabilidad=None rating_seguridad=None rating_comodidad=None rating_impacto_ambiental=None rating_tecnologia_conectividad=None rating_costes_uso=None\n",
      "DEBUG (Perfil) ► Estado preferencias_usuario actualizado: apasionado_motor='sí' valora_estetica='no' coche_principal_hogar=None uso_profesional=None tipo_uso_profesional=None prefiere_diseno_exclusivo=None altura_mayor_190='no' peso_mayor_100=None transporta_carga_voluminosa=None necesita_espacio_objetos_especiales=None arrastra_remolque=None aventura=None solo_electricos=None prioriza_baja_depreciacion=None transmision_preferida=None rating_fiabilidad_durabilidad=None rating_seguridad=None rating_comodidad=None rating_impacto_ambiental=None rating_tecnologia_conectividad=None rating_costes_uso=None\n",
      "DEBUG (Perfil) ► Guardando mensaje pendiente: ¿El coche que estamos buscando será el vehículo principal de tu hogar?\n",
      "--- Ejecutando Nodo: validar_preferencias_node ---\n",
      "--- DEBUG CHECK PERFIL ---\n",
      "Input prefs object: apasionado_motor='sí' valora_estetica='no' coche_principal_hogar=None uso_profesional=None tipo_uso_profesional=None prefiere_diseno_exclusivo=None altura_mayor_190='no' peso_mayor_100=None transporta_carga_voluminosa=None necesita_espacio_objetos_especiales=None arrastra_remolque=None aventura=None solo_electricos=None prioriza_baja_depreciacion=None transmision_preferida=None rating_fiabilidad_durabilidad=None rating_seguridad=None rating_comodidad=None rating_impacto_ambiental=None rating_tecnologia_conectividad=None rating_costes_uso=None\n",
      "Input prefs type: <class 'graph.perfil.state.PerfilUsuario'>\n",
      "DEBUG (Validation Perfil) ► Campo 'coche_principal_hogar' está vacío/None.\n",
      "DEBUG (Perfil) ► Validación: PerfilUsuario considerado INCOMPLETO.\n",
      "--- Evaluando Condición: ruta_decision_perfil ---\n",
      "DEBUG (Condición Perfil) ► Estado 'preferencias_usuario' recibido: apasionado_motor='sí' valora_estetica='no' coche_principal_hogar=None uso_profesional=None tipo_uso_profesional=None prefiere_diseno_exclusivo=None altura_mayor_190='no' peso_mayor_100=None transporta_carga_voluminosa=None necesita_espacio_objetos_especiales=None arrastra_remolque=None aventura=None solo_electricos=None prioriza_baja_depreciacion=None transmision_preferida=None rating_fiabilidad_durabilidad=None rating_seguridad=None rating_comodidad=None rating_impacto_ambiental=None rating_tecnologia_conectividad=None rating_costes_uso=None\n",
      "DEBUG (Condición Perfil) ► Tipo de 'preferencias_usuario': <class 'graph.perfil.state.PerfilUsuario'>\n",
      "--- DEBUG CHECK PERFIL ---\n",
      "Input prefs object: apasionado_motor='sí' valora_estetica='no' coche_principal_hogar=None uso_profesional=None tipo_uso_profesional=None prefiere_diseno_exclusivo=None altura_mayor_190='no' peso_mayor_100=None transporta_carga_voluminosa=None necesita_espacio_objetos_especiales=None arrastra_remolque=None aventura=None solo_electricos=None prioriza_baja_depreciacion=None transmision_preferida=None rating_fiabilidad_durabilidad=None rating_seguridad=None rating_comodidad=None rating_impacto_ambiental=None rating_tecnologia_conectividad=None rating_costes_uso=None\n",
      "Input prefs type: <class 'graph.perfil.state.PerfilUsuario'>\n",
      "DEBUG (Validation Perfil) ► Campo 'coche_principal_hogar' está vacío/None.\n",
      "DEBUG (Condición Perfil) ► Perfil INCOMPLETO. Se necesita pregunta.\n",
      "--- Ejecutando Nodo: preguntar_preferencias_node ---\n",
      "--- DEBUG CHECK PERFIL ---\n",
      "Input prefs object: apasionado_motor='sí' valora_estetica='no' coche_principal_hogar=None uso_profesional=None tipo_uso_profesional=None prefiere_diseno_exclusivo=None altura_mayor_190='no' peso_mayor_100=None transporta_carga_voluminosa=None necesita_espacio_objetos_especiales=None arrastra_remolque=None aventura=None solo_electricos=None prioriza_baja_depreciacion=None transmision_preferida=None rating_fiabilidad_durabilidad=None rating_seguridad=None rating_comodidad=None rating_impacto_ambiental=None rating_tecnologia_conectividad=None rating_costes_uso=None\n",
      "Input prefs type: <class 'graph.perfil.state.PerfilUsuario'>\n",
      "DEBUG (Validation Perfil) ► Campo 'coche_principal_hogar' está vacío/None.\n",
      "DEBUG (Preguntar Perfil) ► Perfil aún INCOMPLETO según checker.\n",
      "DEBUG (Preguntar Perfil) ► Pregunta fallback generada: ¿El coche que estamos buscando será el vehículo principal de tu hogar?.\n",
      "DEBUG (Preguntar Perfil) ► Usando mensaje pendiente (pregunta LLM): ¿El coche que estamos buscando será el vehículo principal de tu hogar?\n",
      "DEBUG (Preguntar Perfil) ► Mensaje final añadido: ¿El coche que estamos buscando será el vehículo principal de tu hogar?\n",
      "==================================\u001b[1m Ai Message \u001b[0m==================================\n",
      "\n",
      "¿El coche que estamos buscando será el vehículo principal de tu hogar?\n"
     ]
    }
   ],
   "source": [
    "config = {\"configurable\": {\"thread_id\": \"1\"}}\n",
    "input_message = HumanMessage(content=\"no\")\n",
    "output = graph.invoke({\"messages\": [input_message]}, config) \n",
    "for m in output['messages'][-1:]:\n",
    "    m.pretty_print()"
   ]
  },
  {
   "cell_type": "code",
   "execution_count": 6,
   "metadata": {},
   "outputs": [
    {
     "name": "stdout",
     "output_type": "stream",
     "text": [
      "--- Ejecutando Nodo: route_based_on_state_node ---\n",
      "\n",
      "--- DEBUG: Evaluating Routing Decision ---\n",
      "DEBUG Router: CP OK? True\n",
      "--- DEBUG CHECK PERFIL ---\n",
      "Input prefs object: apasionado_motor='sí' valora_estetica='no' coche_principal_hogar=None uso_profesional=None tipo_uso_profesional=None prefiere_diseno_exclusivo=None altura_mayor_190='no' peso_mayor_100=None transporta_carga_voluminosa=None necesita_espacio_objetos_especiales=None arrastra_remolque=None aventura=None solo_electricos=None prioriza_baja_depreciacion=None transmision_preferida=None rating_fiabilidad_durabilidad=None rating_seguridad=None rating_comodidad=None rating_impacto_ambiental=None rating_tecnologia_conectividad=None rating_costes_uso=None\n",
      "Input prefs type: <class 'graph.perfil.state.PerfilUsuario'>\n",
      "DEBUG (Validation Perfil) ► Campo 'coche_principal_hogar' está vacío/None.\n",
      "DEBUG Router: Prefs OK? False\n",
      "--- DEBUG CHECK PASAJEROS ---\n",
      "Input info pasajeros: None\n",
      "DEBUG (Validation Pasajeros) ► Objeto InfoPasajeros es None.\n",
      "DEBUG Router: Pasajeros OK? False\n",
      "DEBUG (Validation Filtros) ► Objeto FiltrosInferidos es None.\n",
      "DEBUG Router: Filtros OK? False\n",
      "--- DEBUG CHECK ECONOMIA (Manual) ---\n",
      "Input econ object: None\n",
      "DEBUG (Validation Economía Manual) ► Objeto EconomiaUsuario es None.\n",
      "DEBUG Router: Economía OK? False\n",
      "DEBUG Router: Pesos Calculados? False\n",
      "DEBUG Router: Coches Buscados? False\n",
      "--- DEBUG CHECK PERFIL ---\n",
      "Input prefs object: apasionado_motor='sí' valora_estetica='no' coche_principal_hogar=None uso_profesional=None tipo_uso_profesional=None prefiere_diseno_exclusivo=None altura_mayor_190='no' peso_mayor_100=None transporta_carga_voluminosa=None necesita_espacio_objetos_especiales=None arrastra_remolque=None aventura=None solo_electricos=None prioriza_baja_depreciacion=None transmision_preferida=None rating_fiabilidad_durabilidad=None rating_seguridad=None rating_comodidad=None rating_impacto_ambiental=None rating_tecnologia_conectividad=None rating_costes_uso=None\n",
      "Input prefs type: <class 'graph.perfil.state.PerfilUsuario'>\n",
      "DEBUG (Validation Perfil) ► Campo 'coche_principal_hogar' está vacío/None.\n",
      "DEBUG Router: Decisión -> recopilar_preferencias\n",
      "--- Ejecutando Nodo: recopilar_preferencias_node ---\n",
      "DEBUG (Perfil) ► Último mensaje es HumanMessage o historial vacío, llamando a llm_solo_perfil...\n"
     ]
    },
    {
     "name": "stderr",
     "output_type": "stream",
     "text": [
      "INFO (RAG): HTTP Request: POST https://api.openai.com/v1/chat/completions \"HTTP/1.1 200 OK\"\n"
     ]
    },
    {
     "name": "stdout",
     "output_type": "stream",
     "text": [
      "DEBUG (Perfil) ► Respuesta llm_solo_perfil: preferencias_usuario=PerfilUsuario(apasionado_motor='sí', valora_estetica='no', coche_principal_hogar='no', uso_profesional=None, tipo_uso_profesional=None, prefiere_diseno_exclusivo=None, altura_mayor_190=None, peso_mayor_100=None, transporta_carga_voluminosa=None, necesita_espacio_objetos_especiales=None, arrastra_remolque=None, aventura=None, solo_electricos=None, prioriza_baja_depreciacion=None, transmision_preferida=None, rating_fiabilidad_durabilidad=None, rating_seguridad=None, rating_comodidad=None, rating_impacto_ambiental=None, rating_tecnologia_conectividad=None, rating_costes_uso=None) tipo_mensaje='PREGUNTA' contenido_mensaje='¿Usarás el coche para trabajo?'\n",
      "DEBUG (Perfil) ► Preferencias TRAS post-procesamiento: apasionado_motor='sí' valora_estetica='no' coche_principal_hogar='no' uso_profesional=None tipo_uso_profesional=None prefiere_diseno_exclusivo=None altura_mayor_190=None peso_mayor_100=None transporta_carga_voluminosa=None necesita_espacio_objetos_especiales=None arrastra_remolque=None aventura=None solo_electricos=None prioriza_baja_depreciacion=None transmision_preferida=None rating_fiabilidad_durabilidad=None rating_seguridad=None rating_comodidad=None rating_impacto_ambiental=None rating_tecnologia_conectividad=None rating_costes_uso=None\n",
      "DEBUG (Perfil) ► Estado preferencias_usuario actualizado: apasionado_motor='sí' valora_estetica='no' coche_principal_hogar='no' uso_profesional=None tipo_uso_profesional=None prefiere_diseno_exclusivo=None altura_mayor_190='no' peso_mayor_100=None transporta_carga_voluminosa=None necesita_espacio_objetos_especiales=None arrastra_remolque=None aventura=None solo_electricos=None prioriza_baja_depreciacion=None transmision_preferida=None rating_fiabilidad_durabilidad=None rating_seguridad=None rating_comodidad=None rating_impacto_ambiental=None rating_tecnologia_conectividad=None rating_costes_uso=None\n",
      "DEBUG (Perfil) ► Guardando mensaje pendiente: ¿Usarás el coche para trabajo?\n",
      "--- Ejecutando Nodo: validar_preferencias_node ---\n",
      "--- DEBUG CHECK PERFIL ---\n",
      "Input prefs object: apasionado_motor='sí' valora_estetica='no' coche_principal_hogar='no' uso_profesional=None tipo_uso_profesional=None prefiere_diseno_exclusivo=None altura_mayor_190='no' peso_mayor_100=None transporta_carga_voluminosa=None necesita_espacio_objetos_especiales=None arrastra_remolque=None aventura=None solo_electricos=None prioriza_baja_depreciacion=None transmision_preferida=None rating_fiabilidad_durabilidad=None rating_seguridad=None rating_comodidad=None rating_impacto_ambiental=None rating_tecnologia_conectividad=None rating_costes_uso=None\n",
      "Input prefs type: <class 'graph.perfil.state.PerfilUsuario'>\n",
      "DEBUG (Validation Perfil) ► Campo 'uso_profesional' está vacío/None.\n",
      "DEBUG (Perfil) ► Validación: PerfilUsuario considerado INCOMPLETO.\n",
      "--- Evaluando Condición: ruta_decision_perfil ---\n",
      "DEBUG (Condición Perfil) ► Estado 'preferencias_usuario' recibido: apasionado_motor='sí' valora_estetica='no' coche_principal_hogar='no' uso_profesional=None tipo_uso_profesional=None prefiere_diseno_exclusivo=None altura_mayor_190='no' peso_mayor_100=None transporta_carga_voluminosa=None necesita_espacio_objetos_especiales=None arrastra_remolque=None aventura=None solo_electricos=None prioriza_baja_depreciacion=None transmision_preferida=None rating_fiabilidad_durabilidad=None rating_seguridad=None rating_comodidad=None rating_impacto_ambiental=None rating_tecnologia_conectividad=None rating_costes_uso=None\n",
      "DEBUG (Condición Perfil) ► Tipo de 'preferencias_usuario': <class 'graph.perfil.state.PerfilUsuario'>\n",
      "--- DEBUG CHECK PERFIL ---\n",
      "Input prefs object: apasionado_motor='sí' valora_estetica='no' coche_principal_hogar='no' uso_profesional=None tipo_uso_profesional=None prefiere_diseno_exclusivo=None altura_mayor_190='no' peso_mayor_100=None transporta_carga_voluminosa=None necesita_espacio_objetos_especiales=None arrastra_remolque=None aventura=None solo_electricos=None prioriza_baja_depreciacion=None transmision_preferida=None rating_fiabilidad_durabilidad=None rating_seguridad=None rating_comodidad=None rating_impacto_ambiental=None rating_tecnologia_conectividad=None rating_costes_uso=None\n",
      "Input prefs type: <class 'graph.perfil.state.PerfilUsuario'>\n",
      "DEBUG (Validation Perfil) ► Campo 'uso_profesional' está vacío/None.\n",
      "DEBUG (Condición Perfil) ► Perfil INCOMPLETO. Se necesita pregunta.\n",
      "--- Ejecutando Nodo: preguntar_preferencias_node ---\n",
      "--- DEBUG CHECK PERFIL ---\n",
      "Input prefs object: apasionado_motor='sí' valora_estetica='no' coche_principal_hogar='no' uso_profesional=None tipo_uso_profesional=None prefiere_diseno_exclusivo=None altura_mayor_190='no' peso_mayor_100=None transporta_carga_voluminosa=None necesita_espacio_objetos_especiales=None arrastra_remolque=None aventura=None solo_electricos=None prioriza_baja_depreciacion=None transmision_preferida=None rating_fiabilidad_durabilidad=None rating_seguridad=None rating_comodidad=None rating_impacto_ambiental=None rating_tecnologia_conectividad=None rating_costes_uso=None\n",
      "Input prefs type: <class 'graph.perfil.state.PerfilUsuario'>\n",
      "DEBUG (Validation Perfil) ► Campo 'uso_profesional' está vacío/None.\n",
      "DEBUG (Preguntar Perfil) ► Perfil aún INCOMPLETO según checker.\n",
      "DEBUG (Preguntar Perfil) ► Pregunta fallback generada: ¿El coche lo destinaras principalmente para uso personal o más para fines profesionales (trabajo)?\n",
      "DEBUG (Preguntar Perfil) ► Usando mensaje pendiente (pregunta LLM): ¿Usarás el coche para trabajo?\n",
      "DEBUG (Preguntar Perfil) ► Mensaje final añadido: ¿Usarás el coche para trabajo?\n",
      "==================================\u001b[1m Ai Message \u001b[0m==================================\n",
      "\n",
      "¿Usarás el coche para trabajo?\n"
     ]
    }
   ],
   "source": [
    "config = {\"configurable\": {\"thread_id\": \"1\"}}\n",
    "input_message = HumanMessage(content=\"no\")\n",
    "output = graph.invoke({\"messages\": [input_message]}, config) \n",
    "for m in output['messages'][-1:]:\n",
    "    m.pretty_print()"
   ]
  },
  {
   "cell_type": "code",
   "execution_count": 7,
   "metadata": {},
   "outputs": [
    {
     "name": "stdout",
     "output_type": "stream",
     "text": [
      "--- Ejecutando Nodo: route_based_on_state_node ---\n",
      "\n",
      "--- DEBUG: Evaluating Routing Decision ---\n",
      "DEBUG Router: CP OK? True\n",
      "--- DEBUG CHECK PERFIL ---\n",
      "Input prefs object: apasionado_motor='sí' valora_estetica='no' coche_principal_hogar='no' uso_profesional=None tipo_uso_profesional=None prefiere_diseno_exclusivo=None altura_mayor_190='no' peso_mayor_100=None transporta_carga_voluminosa=None necesita_espacio_objetos_especiales=None arrastra_remolque=None aventura=None solo_electricos=None prioriza_baja_depreciacion=None transmision_preferida=None rating_fiabilidad_durabilidad=None rating_seguridad=None rating_comodidad=None rating_impacto_ambiental=None rating_tecnologia_conectividad=None rating_costes_uso=None\n",
      "Input prefs type: <class 'graph.perfil.state.PerfilUsuario'>\n",
      "DEBUG (Validation Perfil) ► Campo 'uso_profesional' está vacío/None.\n",
      "DEBUG Router: Prefs OK? False\n",
      "--- DEBUG CHECK PASAJEROS ---\n",
      "Input info pasajeros: None\n",
      "DEBUG (Validation Pasajeros) ► Objeto InfoPasajeros es None.\n",
      "DEBUG Router: Pasajeros OK? False\n",
      "DEBUG (Validation Filtros) ► Objeto FiltrosInferidos es None.\n",
      "DEBUG Router: Filtros OK? False\n",
      "--- DEBUG CHECK ECONOMIA (Manual) ---\n",
      "Input econ object: None\n",
      "DEBUG (Validation Economía Manual) ► Objeto EconomiaUsuario es None.\n",
      "DEBUG Router: Economía OK? False\n",
      "DEBUG Router: Pesos Calculados? False\n",
      "DEBUG Router: Coches Buscados? False\n",
      "--- DEBUG CHECK PERFIL ---\n",
      "Input prefs object: apasionado_motor='sí' valora_estetica='no' coche_principal_hogar='no' uso_profesional=None tipo_uso_profesional=None prefiere_diseno_exclusivo=None altura_mayor_190='no' peso_mayor_100=None transporta_carga_voluminosa=None necesita_espacio_objetos_especiales=None arrastra_remolque=None aventura=None solo_electricos=None prioriza_baja_depreciacion=None transmision_preferida=None rating_fiabilidad_durabilidad=None rating_seguridad=None rating_comodidad=None rating_impacto_ambiental=None rating_tecnologia_conectividad=None rating_costes_uso=None\n",
      "Input prefs type: <class 'graph.perfil.state.PerfilUsuario'>\n",
      "DEBUG (Validation Perfil) ► Campo 'uso_profesional' está vacío/None.\n",
      "DEBUG Router: Decisión -> recopilar_preferencias\n",
      "--- Ejecutando Nodo: recopilar_preferencias_node ---\n",
      "DEBUG (Perfil) ► Último mensaje es HumanMessage o historial vacío, llamando a llm_solo_perfil...\n"
     ]
    },
    {
     "name": "stderr",
     "output_type": "stream",
     "text": [
      "INFO (RAG): HTTP Request: POST https://api.openai.com/v1/chat/completions \"HTTP/1.1 200 OK\"\n"
     ]
    },
    {
     "name": "stdout",
     "output_type": "stream",
     "text": [
      "DEBUG (Perfil) ► Respuesta llm_solo_perfil: preferencias_usuario=PerfilUsuario(apasionado_motor='sí', valora_estetica='no', coche_principal_hogar='no', uso_profesional='no', tipo_uso_profesional=None, prefiere_diseno_exclusivo=None, altura_mayor_190=None, peso_mayor_100=None, transporta_carga_voluminosa=None, necesita_espacio_objetos_especiales=None, arrastra_remolque=None, aventura=None, solo_electricos=None, prioriza_baja_depreciacion=None, transmision_preferida=None, rating_fiabilidad_durabilidad=None, rating_seguridad=None, rating_comodidad=None, rating_impacto_ambiental=None, rating_tecnologia_conectividad=None, rating_costes_uso=None) tipo_mensaje='PREGUNTA' contenido_mensaje=\"¿Prefieres un diseño de coche que sea exclusivo y te diferencie del resto? (Responde 'sí' o 'no')\"\n",
      "DEBUG (Perfil) ► Preferencias TRAS post-procesamiento: apasionado_motor='sí' valora_estetica='no' coche_principal_hogar='no' uso_profesional='no' tipo_uso_profesional=None prefiere_diseno_exclusivo=None altura_mayor_190=None peso_mayor_100=None transporta_carga_voluminosa=None necesita_espacio_objetos_especiales=None arrastra_remolque=None aventura=None solo_electricos=None prioriza_baja_depreciacion=None transmision_preferida=None rating_fiabilidad_durabilidad=None rating_seguridad=None rating_comodidad=None rating_impacto_ambiental=None rating_tecnologia_conectividad=None rating_costes_uso=None\n",
      "DEBUG (Perfil) ► Estado preferencias_usuario actualizado: apasionado_motor='sí' valora_estetica='no' coche_principal_hogar='no' uso_profesional='no' tipo_uso_profesional=None prefiere_diseno_exclusivo=None altura_mayor_190='no' peso_mayor_100=None transporta_carga_voluminosa=None necesita_espacio_objetos_especiales=None arrastra_remolque=None aventura=None solo_electricos=None prioriza_baja_depreciacion=None transmision_preferida=None rating_fiabilidad_durabilidad=None rating_seguridad=None rating_comodidad=None rating_impacto_ambiental=None rating_tecnologia_conectividad=None rating_costes_uso=None\n",
      "DEBUG (Perfil) ► Guardando mensaje pendiente: ¿Prefieres un diseño de coche que sea exclusivo y te diferencie del resto? (Responde 'sí' o 'no')\n",
      "--- Ejecutando Nodo: validar_preferencias_node ---\n",
      "--- DEBUG CHECK PERFIL ---\n",
      "Input prefs object: apasionado_motor='sí' valora_estetica='no' coche_principal_hogar='no' uso_profesional='no' tipo_uso_profesional=None prefiere_diseno_exclusivo=None altura_mayor_190='no' peso_mayor_100=None transporta_carga_voluminosa=None necesita_espacio_objetos_especiales=None arrastra_remolque=None aventura=None solo_electricos=None prioriza_baja_depreciacion=None transmision_preferida=None rating_fiabilidad_durabilidad=None rating_seguridad=None rating_comodidad=None rating_impacto_ambiental=None rating_tecnologia_conectividad=None rating_costes_uso=None\n",
      "Input prefs type: <class 'graph.perfil.state.PerfilUsuario'>\n",
      "DEBUG (Validation Perfil) ► Campo 'prefiere_diseno_exclusivo' está vacío/None.\n",
      "DEBUG (Perfil) ► Validación: PerfilUsuario considerado INCOMPLETO.\n",
      "--- Evaluando Condición: ruta_decision_perfil ---\n",
      "DEBUG (Condición Perfil) ► Estado 'preferencias_usuario' recibido: apasionado_motor='sí' valora_estetica='no' coche_principal_hogar='no' uso_profesional='no' tipo_uso_profesional=None prefiere_diseno_exclusivo=None altura_mayor_190='no' peso_mayor_100=None transporta_carga_voluminosa=None necesita_espacio_objetos_especiales=None arrastra_remolque=None aventura=None solo_electricos=None prioriza_baja_depreciacion=None transmision_preferida=None rating_fiabilidad_durabilidad=None rating_seguridad=None rating_comodidad=None rating_impacto_ambiental=None rating_tecnologia_conectividad=None rating_costes_uso=None\n",
      "DEBUG (Condición Perfil) ► Tipo de 'preferencias_usuario': <class 'graph.perfil.state.PerfilUsuario'>\n",
      "--- DEBUG CHECK PERFIL ---\n",
      "Input prefs object: apasionado_motor='sí' valora_estetica='no' coche_principal_hogar='no' uso_profesional='no' tipo_uso_profesional=None prefiere_diseno_exclusivo=None altura_mayor_190='no' peso_mayor_100=None transporta_carga_voluminosa=None necesita_espacio_objetos_especiales=None arrastra_remolque=None aventura=None solo_electricos=None prioriza_baja_depreciacion=None transmision_preferida=None rating_fiabilidad_durabilidad=None rating_seguridad=None rating_comodidad=None rating_impacto_ambiental=None rating_tecnologia_conectividad=None rating_costes_uso=None\n",
      "Input prefs type: <class 'graph.perfil.state.PerfilUsuario'>\n",
      "DEBUG (Validation Perfil) ► Campo 'prefiere_diseno_exclusivo' está vacío/None.\n",
      "DEBUG (Condición Perfil) ► Perfil INCOMPLETO. Se necesita pregunta.\n",
      "--- Ejecutando Nodo: preguntar_preferencias_node ---\n",
      "--- DEBUG CHECK PERFIL ---\n",
      "Input prefs object: apasionado_motor='sí' valora_estetica='no' coche_principal_hogar='no' uso_profesional='no' tipo_uso_profesional=None prefiere_diseno_exclusivo=None altura_mayor_190='no' peso_mayor_100=None transporta_carga_voluminosa=None necesita_espacio_objetos_especiales=None arrastra_remolque=None aventura=None solo_electricos=None prioriza_baja_depreciacion=None transmision_preferida=None rating_fiabilidad_durabilidad=None rating_seguridad=None rating_comodidad=None rating_impacto_ambiental=None rating_tecnologia_conectividad=None rating_costes_uso=None\n",
      "Input prefs type: <class 'graph.perfil.state.PerfilUsuario'>\n",
      "DEBUG (Validation Perfil) ► Campo 'prefiere_diseno_exclusivo' está vacío/None.\n",
      "DEBUG (Preguntar Perfil) ► Perfil aún INCOMPLETO según checker.\n",
      "DEBUG (Preguntar Perfil) ► Pregunta fallback generada: En cuanto al estilo del coche, ¿te inclinas más por un diseño exclusivo y llamativo, o por algo más discreto y convencional?\n",
      "DEBUG (Preguntar Perfil) ► Usando mensaje pendiente (pregunta LLM): ¿Prefieres un diseño de coche que sea exclusivo y te diferencie del resto? (Responde 'sí' o 'no')\n",
      "DEBUG (Preguntar Perfil) ► Mensaje final añadido: ¿Prefieres un diseño de coche que sea exclusivo y te diferencie del resto? (Responde 'sí' o 'no')\n",
      "==================================\u001b[1m Ai Message \u001b[0m==================================\n",
      "\n",
      "¿Prefieres un diseño de coche que sea exclusivo y te diferencie del resto? (Responde 'sí' o 'no')\n"
     ]
    }
   ],
   "source": [
    "# Create a thread\n",
    "config = {\"configurable\": {\"thread_id\": \"1\"}}\n",
    "\n",
    "# Start conversation\n",
    "input_message = HumanMessage(content=\"NO\")\n",
    "output = graph.invoke({\"messages\": [input_message]}, config) \n",
    "for m in output['messages'][-1:]:\n",
    "    m.pretty_print()"
   ]
  },
  {
   "cell_type": "code",
   "execution_count": 8,
   "metadata": {},
   "outputs": [
    {
     "name": "stdout",
     "output_type": "stream",
     "text": [
      "--- Ejecutando Nodo: route_based_on_state_node ---\n",
      "\n",
      "--- DEBUG: Evaluating Routing Decision ---\n",
      "DEBUG Router: CP OK? True\n",
      "--- DEBUG CHECK PERFIL ---\n",
      "Input prefs object: apasionado_motor='sí' valora_estetica='no' coche_principal_hogar='no' uso_profesional='no' tipo_uso_profesional=None prefiere_diseno_exclusivo=None altura_mayor_190='no' peso_mayor_100=None transporta_carga_voluminosa=None necesita_espacio_objetos_especiales=None arrastra_remolque=None aventura=None solo_electricos=None prioriza_baja_depreciacion=None transmision_preferida=None rating_fiabilidad_durabilidad=None rating_seguridad=None rating_comodidad=None rating_impacto_ambiental=None rating_tecnologia_conectividad=None rating_costes_uso=None\n",
      "Input prefs type: <class 'graph.perfil.state.PerfilUsuario'>\n",
      "DEBUG (Validation Perfil) ► Campo 'prefiere_diseno_exclusivo' está vacío/None.\n",
      "DEBUG Router: Prefs OK? False\n",
      "--- DEBUG CHECK PASAJEROS ---\n",
      "Input info pasajeros: None\n",
      "DEBUG (Validation Pasajeros) ► Objeto InfoPasajeros es None.\n",
      "DEBUG Router: Pasajeros OK? False\n",
      "DEBUG (Validation Filtros) ► Objeto FiltrosInferidos es None.\n",
      "DEBUG Router: Filtros OK? False\n",
      "--- DEBUG CHECK ECONOMIA (Manual) ---\n",
      "Input econ object: None\n",
      "DEBUG (Validation Economía Manual) ► Objeto EconomiaUsuario es None.\n",
      "DEBUG Router: Economía OK? False\n",
      "DEBUG Router: Pesos Calculados? False\n",
      "DEBUG Router: Coches Buscados? False\n",
      "--- DEBUG CHECK PERFIL ---\n",
      "Input prefs object: apasionado_motor='sí' valora_estetica='no' coche_principal_hogar='no' uso_profesional='no' tipo_uso_profesional=None prefiere_diseno_exclusivo=None altura_mayor_190='no' peso_mayor_100=None transporta_carga_voluminosa=None necesita_espacio_objetos_especiales=None arrastra_remolque=None aventura=None solo_electricos=None prioriza_baja_depreciacion=None transmision_preferida=None rating_fiabilidad_durabilidad=None rating_seguridad=None rating_comodidad=None rating_impacto_ambiental=None rating_tecnologia_conectividad=None rating_costes_uso=None\n",
      "Input prefs type: <class 'graph.perfil.state.PerfilUsuario'>\n",
      "DEBUG (Validation Perfil) ► Campo 'prefiere_diseno_exclusivo' está vacío/None.\n",
      "DEBUG Router: Decisión -> recopilar_preferencias\n",
      "--- Ejecutando Nodo: recopilar_preferencias_node ---\n",
      "DEBUG (Perfil) ► Último mensaje es HumanMessage o historial vacío, llamando a llm_solo_perfil...\n"
     ]
    },
    {
     "name": "stderr",
     "output_type": "stream",
     "text": [
      "INFO (RAG): HTTP Request: POST https://api.openai.com/v1/chat/completions \"HTTP/1.1 200 OK\"\n"
     ]
    },
    {
     "name": "stdout",
     "output_type": "stream",
     "text": [
      "DEBUG (Perfil) ► Respuesta llm_solo_perfil: preferencias_usuario=PerfilUsuario(apasionado_motor='sí', valora_estetica='no', coche_principal_hogar='no', uso_profesional='no', tipo_uso_profesional=None, prefiere_diseno_exclusivo='sí', altura_mayor_190=None, peso_mayor_100=None, transporta_carga_voluminosa=None, necesita_espacio_objetos_especiales=None, arrastra_remolque=None, aventura=None, solo_electricos=None, prioriza_baja_depreciacion=None, transmision_preferida=None, rating_fiabilidad_durabilidad=None, rating_seguridad=None, rating_comodidad=None, rating_impacto_ambiental=None, rating_tecnologia_conectividad=None, rating_costes_uso=None) tipo_mensaje='PREGUNTA' contenido_mensaje='Para garantizar tu máxima comodidad, ¿tienes un peso superior a 100 kg?'\n",
      "DEBUG (Perfil) ► Preferencias TRAS post-procesamiento: apasionado_motor='sí' valora_estetica='no' coche_principal_hogar='no' uso_profesional='no' tipo_uso_profesional=None prefiere_diseno_exclusivo='sí' altura_mayor_190=None peso_mayor_100=None transporta_carga_voluminosa=None necesita_espacio_objetos_especiales=None arrastra_remolque=None aventura=None solo_electricos=None prioriza_baja_depreciacion=None transmision_preferida=None rating_fiabilidad_durabilidad=None rating_seguridad=None rating_comodidad=None rating_impacto_ambiental=None rating_tecnologia_conectividad=None rating_costes_uso=None\n",
      "DEBUG (Perfil) ► Estado preferencias_usuario actualizado: apasionado_motor='sí' valora_estetica='no' coche_principal_hogar='no' uso_profesional='no' tipo_uso_profesional=None prefiere_diseno_exclusivo='sí' altura_mayor_190='no' peso_mayor_100=None transporta_carga_voluminosa=None necesita_espacio_objetos_especiales=None arrastra_remolque=None aventura=None solo_electricos=None prioriza_baja_depreciacion=None transmision_preferida=None rating_fiabilidad_durabilidad=None rating_seguridad=None rating_comodidad=None rating_impacto_ambiental=None rating_tecnologia_conectividad=None rating_costes_uso=None\n",
      "DEBUG (Perfil) ► Guardando mensaje pendiente: Para garantizar tu máxima comodidad, ¿tienes un peso superior a 100 kg?\n",
      "--- Ejecutando Nodo: validar_preferencias_node ---\n",
      "--- DEBUG CHECK PERFIL ---\n",
      "Input prefs object: apasionado_motor='sí' valora_estetica='no' coche_principal_hogar='no' uso_profesional='no' tipo_uso_profesional=None prefiere_diseno_exclusivo='sí' altura_mayor_190='no' peso_mayor_100=None transporta_carga_voluminosa=None necesita_espacio_objetos_especiales=None arrastra_remolque=None aventura=None solo_electricos=None prioriza_baja_depreciacion=None transmision_preferida=None rating_fiabilidad_durabilidad=None rating_seguridad=None rating_comodidad=None rating_impacto_ambiental=None rating_tecnologia_conectividad=None rating_costes_uso=None\n",
      "Input prefs type: <class 'graph.perfil.state.PerfilUsuario'>\n",
      "DEBUG (Validation Perfil) ► Campo 'peso_mayor_100' está vacío/None.\n",
      "DEBUG (Perfil) ► Validación: PerfilUsuario considerado INCOMPLETO.\n",
      "--- Evaluando Condición: ruta_decision_perfil ---\n",
      "DEBUG (Condición Perfil) ► Estado 'preferencias_usuario' recibido: apasionado_motor='sí' valora_estetica='no' coche_principal_hogar='no' uso_profesional='no' tipo_uso_profesional=None prefiere_diseno_exclusivo='sí' altura_mayor_190='no' peso_mayor_100=None transporta_carga_voluminosa=None necesita_espacio_objetos_especiales=None arrastra_remolque=None aventura=None solo_electricos=None prioriza_baja_depreciacion=None transmision_preferida=None rating_fiabilidad_durabilidad=None rating_seguridad=None rating_comodidad=None rating_impacto_ambiental=None rating_tecnologia_conectividad=None rating_costes_uso=None\n",
      "DEBUG (Condición Perfil) ► Tipo de 'preferencias_usuario': <class 'graph.perfil.state.PerfilUsuario'>\n",
      "--- DEBUG CHECK PERFIL ---\n",
      "Input prefs object: apasionado_motor='sí' valora_estetica='no' coche_principal_hogar='no' uso_profesional='no' tipo_uso_profesional=None prefiere_diseno_exclusivo='sí' altura_mayor_190='no' peso_mayor_100=None transporta_carga_voluminosa=None necesita_espacio_objetos_especiales=None arrastra_remolque=None aventura=None solo_electricos=None prioriza_baja_depreciacion=None transmision_preferida=None rating_fiabilidad_durabilidad=None rating_seguridad=None rating_comodidad=None rating_impacto_ambiental=None rating_tecnologia_conectividad=None rating_costes_uso=None\n",
      "Input prefs type: <class 'graph.perfil.state.PerfilUsuario'>\n",
      "DEBUG (Validation Perfil) ► Campo 'peso_mayor_100' está vacío/None.\n",
      "DEBUG (Condición Perfil) ► Perfil INCOMPLETO. Se necesita pregunta.\n",
      "--- Ejecutando Nodo: preguntar_preferencias_node ---\n",
      "--- DEBUG CHECK PERFIL ---\n",
      "Input prefs object: apasionado_motor='sí' valora_estetica='no' coche_principal_hogar='no' uso_profesional='no' tipo_uso_profesional=None prefiere_diseno_exclusivo='sí' altura_mayor_190='no' peso_mayor_100=None transporta_carga_voluminosa=None necesita_espacio_objetos_especiales=None arrastra_remolque=None aventura=None solo_electricos=None prioriza_baja_depreciacion=None transmision_preferida=None rating_fiabilidad_durabilidad=None rating_seguridad=None rating_comodidad=None rating_impacto_ambiental=None rating_tecnologia_conectividad=None rating_costes_uso=None\n",
      "Input prefs type: <class 'graph.perfil.state.PerfilUsuario'>\n",
      "DEBUG (Validation Perfil) ► Campo 'peso_mayor_100' está vacío/None.\n",
      "DEBUG (Preguntar Perfil) ► Perfil aún INCOMPLETO según checker.\n",
      "DEBUG (Preguntar Perfil) ► Pregunta fallback generada: Para garantizar tu máxima comodidad, ¿tienes un peso superior a 100 kg?\n",
      "DEBUG (Preguntar Perfil) ► Usando mensaje pendiente (pregunta LLM): Para garantizar tu máxima comodidad, ¿tienes un peso superior a 100 kg?\n",
      "DEBUG (Preguntar Perfil) ► Mensaje final añadido: Para garantizar tu máxima comodidad, ¿tienes un peso superior a 100 kg?\n",
      "==================================\u001b[1m Ai Message \u001b[0m==================================\n",
      "\n",
      "Para garantizar tu máxima comodidad, ¿tienes un peso superior a 100 kg?\n"
     ]
    }
   ],
   "source": [
    "# Create a thread\n",
    "config = {\"configurable\": {\"thread_id\": \"1\"}}\n",
    "\n",
    "# Start conversation\n",
    "input_message = HumanMessage(content=\"si\")\n",
    "output = graph.invoke({\"messages\": [input_message]}, config) \n",
    "for m in output['messages'][-1:]:\n",
    "    m.pretty_print()"
   ]
  },
  {
   "cell_type": "code",
   "execution_count": 9,
   "metadata": {},
   "outputs": [
    {
     "name": "stdout",
     "output_type": "stream",
     "text": [
      "--- Ejecutando Nodo: route_based_on_state_node ---\n",
      "\n",
      "--- DEBUG: Evaluating Routing Decision ---\n",
      "DEBUG Router: CP OK? True\n",
      "--- DEBUG CHECK PERFIL ---\n",
      "Input prefs object: apasionado_motor='sí' valora_estetica='no' coche_principal_hogar='no' uso_profesional='no' tipo_uso_profesional=None prefiere_diseno_exclusivo='sí' altura_mayor_190='no' peso_mayor_100=None transporta_carga_voluminosa=None necesita_espacio_objetos_especiales=None arrastra_remolque=None aventura=None solo_electricos=None prioriza_baja_depreciacion=None transmision_preferida=None rating_fiabilidad_durabilidad=None rating_seguridad=None rating_comodidad=None rating_impacto_ambiental=None rating_tecnologia_conectividad=None rating_costes_uso=None\n",
      "Input prefs type: <class 'graph.perfil.state.PerfilUsuario'>\n",
      "DEBUG (Validation Perfil) ► Campo 'peso_mayor_100' está vacío/None.\n",
      "DEBUG Router: Prefs OK? False\n",
      "--- DEBUG CHECK PASAJEROS ---\n",
      "Input info pasajeros: None\n",
      "DEBUG (Validation Pasajeros) ► Objeto InfoPasajeros es None.\n",
      "DEBUG Router: Pasajeros OK? False\n",
      "DEBUG (Validation Filtros) ► Objeto FiltrosInferidos es None.\n",
      "DEBUG Router: Filtros OK? False\n",
      "--- DEBUG CHECK ECONOMIA (Manual) ---\n",
      "Input econ object: None\n",
      "DEBUG (Validation Economía Manual) ► Objeto EconomiaUsuario es None.\n",
      "DEBUG Router: Economía OK? False\n",
      "DEBUG Router: Pesos Calculados? False\n",
      "DEBUG Router: Coches Buscados? False\n",
      "--- DEBUG CHECK PERFIL ---\n",
      "Input prefs object: apasionado_motor='sí' valora_estetica='no' coche_principal_hogar='no' uso_profesional='no' tipo_uso_profesional=None prefiere_diseno_exclusivo='sí' altura_mayor_190='no' peso_mayor_100=None transporta_carga_voluminosa=None necesita_espacio_objetos_especiales=None arrastra_remolque=None aventura=None solo_electricos=None prioriza_baja_depreciacion=None transmision_preferida=None rating_fiabilidad_durabilidad=None rating_seguridad=None rating_comodidad=None rating_impacto_ambiental=None rating_tecnologia_conectividad=None rating_costes_uso=None\n",
      "Input prefs type: <class 'graph.perfil.state.PerfilUsuario'>\n",
      "DEBUG (Validation Perfil) ► Campo 'peso_mayor_100' está vacío/None.\n",
      "DEBUG Router: Decisión -> recopilar_preferencias\n",
      "--- Ejecutando Nodo: recopilar_preferencias_node ---\n",
      "DEBUG (Perfil) ► Último mensaje es HumanMessage o historial vacío, llamando a llm_solo_perfil...\n"
     ]
    },
    {
     "name": "stderr",
     "output_type": "stream",
     "text": [
      "INFO (RAG): HTTP Request: POST https://api.openai.com/v1/chat/completions \"HTTP/1.1 200 OK\"\n"
     ]
    },
    {
     "name": "stdout",
     "output_type": "stream",
     "text": [
      "DEBUG (Perfil) ► Respuesta llm_solo_perfil: preferencias_usuario=PerfilUsuario(apasionado_motor='sí', valora_estetica='no', coche_principal_hogar='no', uso_profesional='no', tipo_uso_profesional=None, prefiere_diseno_exclusivo='sí', altura_mayor_190='no', peso_mayor_100='no', transporta_carga_voluminosa=None, necesita_espacio_objetos_especiales=None, arrastra_remolque=None, aventura=None, solo_electricos=None, prioriza_baja_depreciacion=None, transmision_preferida=None, rating_fiabilidad_durabilidad=None, rating_seguridad=None, rating_comodidad=None, rating_impacto_ambiental=None, rating_tecnologia_conectividad=None, rating_costes_uso=None) tipo_mensaje='PREGUNTA' contenido_mensaje=\"¿Transportas con frecuencia equipaje o carga voluminosa? (Responde 'sí' o 'no')\"\n",
      "DEBUG (Perfil) ► Preferencias TRAS post-procesamiento: apasionado_motor='sí' valora_estetica='no' coche_principal_hogar='no' uso_profesional='no' tipo_uso_profesional=None prefiere_diseno_exclusivo='sí' altura_mayor_190='no' peso_mayor_100='no' transporta_carga_voluminosa=None necesita_espacio_objetos_especiales=None arrastra_remolque=None aventura=None solo_electricos=None prioriza_baja_depreciacion=None transmision_preferida=None rating_fiabilidad_durabilidad=None rating_seguridad=None rating_comodidad=None rating_impacto_ambiental=None rating_tecnologia_conectividad=None rating_costes_uso=None\n",
      "DEBUG (Perfil) ► Estado preferencias_usuario actualizado: apasionado_motor='sí' valora_estetica='no' coche_principal_hogar='no' uso_profesional='no' tipo_uso_profesional=None prefiere_diseno_exclusivo='sí' altura_mayor_190='no' peso_mayor_100='no' transporta_carga_voluminosa=None necesita_espacio_objetos_especiales=None arrastra_remolque=None aventura=None solo_electricos=None prioriza_baja_depreciacion=None transmision_preferida=None rating_fiabilidad_durabilidad=None rating_seguridad=None rating_comodidad=None rating_impacto_ambiental=None rating_tecnologia_conectividad=None rating_costes_uso=None\n",
      "DEBUG (Perfil) ► Guardando mensaje pendiente: ¿Transportas con frecuencia equipaje o carga voluminosa? (Responde 'sí' o 'no')\n",
      "--- Ejecutando Nodo: validar_preferencias_node ---\n",
      "--- DEBUG CHECK PERFIL ---\n",
      "Input prefs object: apasionado_motor='sí' valora_estetica='no' coche_principal_hogar='no' uso_profesional='no' tipo_uso_profesional=None prefiere_diseno_exclusivo='sí' altura_mayor_190='no' peso_mayor_100='no' transporta_carga_voluminosa=None necesita_espacio_objetos_especiales=None arrastra_remolque=None aventura=None solo_electricos=None prioriza_baja_depreciacion=None transmision_preferida=None rating_fiabilidad_durabilidad=None rating_seguridad=None rating_comodidad=None rating_impacto_ambiental=None rating_tecnologia_conectividad=None rating_costes_uso=None\n",
      "Input prefs type: <class 'graph.perfil.state.PerfilUsuario'>\n",
      "DEBUG (Validation Perfil) ► Campo 'transporta_carga_voluminosa' está vacío/None.\n",
      "DEBUG (Perfil) ► Validación: PerfilUsuario considerado INCOMPLETO.\n",
      "--- Evaluando Condición: ruta_decision_perfil ---\n",
      "DEBUG (Condición Perfil) ► Estado 'preferencias_usuario' recibido: apasionado_motor='sí' valora_estetica='no' coche_principal_hogar='no' uso_profesional='no' tipo_uso_profesional=None prefiere_diseno_exclusivo='sí' altura_mayor_190='no' peso_mayor_100='no' transporta_carga_voluminosa=None necesita_espacio_objetos_especiales=None arrastra_remolque=None aventura=None solo_electricos=None prioriza_baja_depreciacion=None transmision_preferida=None rating_fiabilidad_durabilidad=None rating_seguridad=None rating_comodidad=None rating_impacto_ambiental=None rating_tecnologia_conectividad=None rating_costes_uso=None\n",
      "DEBUG (Condición Perfil) ► Tipo de 'preferencias_usuario': <class 'graph.perfil.state.PerfilUsuario'>\n",
      "--- DEBUG CHECK PERFIL ---\n",
      "Input prefs object: apasionado_motor='sí' valora_estetica='no' coche_principal_hogar='no' uso_profesional='no' tipo_uso_profesional=None prefiere_diseno_exclusivo='sí' altura_mayor_190='no' peso_mayor_100='no' transporta_carga_voluminosa=None necesita_espacio_objetos_especiales=None arrastra_remolque=None aventura=None solo_electricos=None prioriza_baja_depreciacion=None transmision_preferida=None rating_fiabilidad_durabilidad=None rating_seguridad=None rating_comodidad=None rating_impacto_ambiental=None rating_tecnologia_conectividad=None rating_costes_uso=None\n",
      "Input prefs type: <class 'graph.perfil.state.PerfilUsuario'>\n",
      "DEBUG (Validation Perfil) ► Campo 'transporta_carga_voluminosa' está vacío/None.\n",
      "DEBUG (Condición Perfil) ► Perfil INCOMPLETO. Se necesita pregunta.\n",
      "--- Ejecutando Nodo: preguntar_preferencias_node ---\n",
      "--- DEBUG CHECK PERFIL ---\n",
      "Input prefs object: apasionado_motor='sí' valora_estetica='no' coche_principal_hogar='no' uso_profesional='no' tipo_uso_profesional=None prefiere_diseno_exclusivo='sí' altura_mayor_190='no' peso_mayor_100='no' transporta_carga_voluminosa=None necesita_espacio_objetos_especiales=None arrastra_remolque=None aventura=None solo_electricos=None prioriza_baja_depreciacion=None transmision_preferida=None rating_fiabilidad_durabilidad=None rating_seguridad=None rating_comodidad=None rating_impacto_ambiental=None rating_tecnologia_conectividad=None rating_costes_uso=None\n",
      "Input prefs type: <class 'graph.perfil.state.PerfilUsuario'>\n",
      "DEBUG (Validation Perfil) ► Campo 'transporta_carga_voluminosa' está vacío/None.\n",
      "DEBUG (Preguntar Perfil) ► Perfil aún INCOMPLETO según checker.\n",
      "DEBUG (Preguntar Perfil) ► Pregunta fallback generada: ¿Transportas con frecuencia equipaje o carga voluminosa? (Responde 'sí' o 'no')\n",
      "DEBUG (Preguntar Perfil) ► Usando mensaje pendiente (pregunta LLM): ¿Transportas con frecuencia equipaje o carga voluminosa? (Responde 'sí' o 'no')\n",
      "DEBUG (Preguntar Perfil) ► Mensaje final añadido: ¿Transportas con frecuencia equipaje o carga voluminosa? (Responde 'sí' o 'no')\n",
      "==================================\u001b[1m Ai Message \u001b[0m==================================\n",
      "\n",
      "¿Transportas con frecuencia equipaje o carga voluminosa? (Responde 'sí' o 'no')\n"
     ]
    }
   ],
   "source": [
    "# Create a thread\n",
    "config = {\"configurable\": {\"thread_id\": \"1\"}}\n",
    "\n",
    "# Start conversation\n",
    "input_message = HumanMessage(content=\"no\")\n",
    "output = graph.invoke({\"messages\": [input_message]}, config) \n",
    "for m in output['messages'][-1:]:\n",
    "    m.pretty_print()"
   ]
  },
  {
   "cell_type": "code",
   "execution_count": 10,
   "metadata": {},
   "outputs": [
    {
     "name": "stdout",
     "output_type": "stream",
     "text": [
      "--- Ejecutando Nodo: route_based_on_state_node ---\n",
      "\n",
      "--- DEBUG: Evaluating Routing Decision ---\n",
      "DEBUG Router: CP OK? True\n",
      "--- DEBUG CHECK PERFIL ---\n",
      "Input prefs object: apasionado_motor='sí' valora_estetica='no' coche_principal_hogar='no' uso_profesional='no' tipo_uso_profesional=None prefiere_diseno_exclusivo='sí' altura_mayor_190='no' peso_mayor_100='no' transporta_carga_voluminosa=None necesita_espacio_objetos_especiales=None arrastra_remolque=None aventura=None solo_electricos=None prioriza_baja_depreciacion=None transmision_preferida=None rating_fiabilidad_durabilidad=None rating_seguridad=None rating_comodidad=None rating_impacto_ambiental=None rating_tecnologia_conectividad=None rating_costes_uso=None\n",
      "Input prefs type: <class 'graph.perfil.state.PerfilUsuario'>\n",
      "DEBUG (Validation Perfil) ► Campo 'transporta_carga_voluminosa' está vacío/None.\n",
      "DEBUG Router: Prefs OK? False\n",
      "--- DEBUG CHECK PASAJEROS ---\n",
      "Input info pasajeros: None\n",
      "DEBUG (Validation Pasajeros) ► Objeto InfoPasajeros es None.\n",
      "DEBUG Router: Pasajeros OK? False\n",
      "DEBUG (Validation Filtros) ► Objeto FiltrosInferidos es None.\n",
      "DEBUG Router: Filtros OK? False\n",
      "--- DEBUG CHECK ECONOMIA (Manual) ---\n",
      "Input econ object: None\n",
      "DEBUG (Validation Economía Manual) ► Objeto EconomiaUsuario es None.\n",
      "DEBUG Router: Economía OK? False\n",
      "DEBUG Router: Pesos Calculados? False\n",
      "DEBUG Router: Coches Buscados? False\n",
      "--- DEBUG CHECK PERFIL ---\n",
      "Input prefs object: apasionado_motor='sí' valora_estetica='no' coche_principal_hogar='no' uso_profesional='no' tipo_uso_profesional=None prefiere_diseno_exclusivo='sí' altura_mayor_190='no' peso_mayor_100='no' transporta_carga_voluminosa=None necesita_espacio_objetos_especiales=None arrastra_remolque=None aventura=None solo_electricos=None prioriza_baja_depreciacion=None transmision_preferida=None rating_fiabilidad_durabilidad=None rating_seguridad=None rating_comodidad=None rating_impacto_ambiental=None rating_tecnologia_conectividad=None rating_costes_uso=None\n",
      "Input prefs type: <class 'graph.perfil.state.PerfilUsuario'>\n",
      "DEBUG (Validation Perfil) ► Campo 'transporta_carga_voluminosa' está vacío/None.\n",
      "DEBUG Router: Decisión -> recopilar_preferencias\n",
      "--- Ejecutando Nodo: recopilar_preferencias_node ---\n",
      "DEBUG (Perfil) ► Último mensaje es HumanMessage o historial vacío, llamando a llm_solo_perfil...\n"
     ]
    },
    {
     "name": "stderr",
     "output_type": "stream",
     "text": [
      "INFO (RAG): HTTP Request: POST https://api.openai.com/v1/chat/completions \"HTTP/1.1 200 OK\"\n"
     ]
    },
    {
     "name": "stdout",
     "output_type": "stream",
     "text": [
      "DEBUG (Perfil) ► Respuesta llm_solo_perfil: preferencias_usuario=PerfilUsuario(apasionado_motor='sí', valora_estetica='no', coche_principal_hogar='no', uso_profesional='no', tipo_uso_profesional=None, prefiere_diseno_exclusivo='sí', altura_mayor_190='no', peso_mayor_100='no', transporta_carga_voluminosa='no', necesita_espacio_objetos_especiales=None, arrastra_remolque=None, aventura=None, solo_electricos=None, prioriza_baja_depreciacion=None, transmision_preferida=None, rating_fiabilidad_durabilidad=None, rating_seguridad=None, rating_comodidad=None, rating_impacto_ambiental=None, rating_tecnologia_conectividad=None, rating_costes_uso=None) tipo_mensaje='PREGUNTA' contenido_mensaje='¿Vas a arrastrar remolque pesado o caravana?'\n",
      "DEBUG (Perfil) ► Preferencias TRAS post-procesamiento: apasionado_motor='sí' valora_estetica='no' coche_principal_hogar='no' uso_profesional='no' tipo_uso_profesional=None prefiere_diseno_exclusivo='sí' altura_mayor_190='no' peso_mayor_100='no' transporta_carga_voluminosa='no' necesita_espacio_objetos_especiales=None arrastra_remolque=None aventura=None solo_electricos=None prioriza_baja_depreciacion=None transmision_preferida=None rating_fiabilidad_durabilidad=None rating_seguridad=None rating_comodidad=None rating_impacto_ambiental=None rating_tecnologia_conectividad=None rating_costes_uso=None\n",
      "DEBUG (Perfil) ► Estado preferencias_usuario actualizado: apasionado_motor='sí' valora_estetica='no' coche_principal_hogar='no' uso_profesional='no' tipo_uso_profesional=None prefiere_diseno_exclusivo='sí' altura_mayor_190='no' peso_mayor_100='no' transporta_carga_voluminosa='no' necesita_espacio_objetos_especiales=None arrastra_remolque=None aventura=None solo_electricos=None prioriza_baja_depreciacion=None transmision_preferida=None rating_fiabilidad_durabilidad=None rating_seguridad=None rating_comodidad=None rating_impacto_ambiental=None rating_tecnologia_conectividad=None rating_costes_uso=None\n",
      "DEBUG (Perfil) ► Guardando mensaje pendiente: ¿Vas a arrastrar remolque pesado o caravana?\n",
      "--- Ejecutando Nodo: validar_preferencias_node ---\n",
      "--- DEBUG CHECK PERFIL ---\n",
      "Input prefs object: apasionado_motor='sí' valora_estetica='no' coche_principal_hogar='no' uso_profesional='no' tipo_uso_profesional=None prefiere_diseno_exclusivo='sí' altura_mayor_190='no' peso_mayor_100='no' transporta_carga_voluminosa='no' necesita_espacio_objetos_especiales=None arrastra_remolque=None aventura=None solo_electricos=None prioriza_baja_depreciacion=None transmision_preferida=None rating_fiabilidad_durabilidad=None rating_seguridad=None rating_comodidad=None rating_impacto_ambiental=None rating_tecnologia_conectividad=None rating_costes_uso=None\n",
      "Input prefs type: <class 'graph.perfil.state.PerfilUsuario'>\n",
      "DEBUG (Validation Perfil) ► Campo 'arrastra_remolque' está vacío/None.\n",
      "DEBUG (Perfil) ► Validación: PerfilUsuario considerado INCOMPLETO.\n",
      "--- Evaluando Condición: ruta_decision_perfil ---\n",
      "DEBUG (Condición Perfil) ► Estado 'preferencias_usuario' recibido: apasionado_motor='sí' valora_estetica='no' coche_principal_hogar='no' uso_profesional='no' tipo_uso_profesional=None prefiere_diseno_exclusivo='sí' altura_mayor_190='no' peso_mayor_100='no' transporta_carga_voluminosa='no' necesita_espacio_objetos_especiales=None arrastra_remolque=None aventura=None solo_electricos=None prioriza_baja_depreciacion=None transmision_preferida=None rating_fiabilidad_durabilidad=None rating_seguridad=None rating_comodidad=None rating_impacto_ambiental=None rating_tecnologia_conectividad=None rating_costes_uso=None\n",
      "DEBUG (Condición Perfil) ► Tipo de 'preferencias_usuario': <class 'graph.perfil.state.PerfilUsuario'>\n",
      "--- DEBUG CHECK PERFIL ---\n",
      "Input prefs object: apasionado_motor='sí' valora_estetica='no' coche_principal_hogar='no' uso_profesional='no' tipo_uso_profesional=None prefiere_diseno_exclusivo='sí' altura_mayor_190='no' peso_mayor_100='no' transporta_carga_voluminosa='no' necesita_espacio_objetos_especiales=None arrastra_remolque=None aventura=None solo_electricos=None prioriza_baja_depreciacion=None transmision_preferida=None rating_fiabilidad_durabilidad=None rating_seguridad=None rating_comodidad=None rating_impacto_ambiental=None rating_tecnologia_conectividad=None rating_costes_uso=None\n",
      "Input prefs type: <class 'graph.perfil.state.PerfilUsuario'>\n",
      "DEBUG (Validation Perfil) ► Campo 'arrastra_remolque' está vacío/None.\n",
      "DEBUG (Condición Perfil) ► Perfil INCOMPLETO. Se necesita pregunta.\n",
      "--- Ejecutando Nodo: preguntar_preferencias_node ---\n",
      "--- DEBUG CHECK PERFIL ---\n",
      "Input prefs object: apasionado_motor='sí' valora_estetica='no' coche_principal_hogar='no' uso_profesional='no' tipo_uso_profesional=None prefiere_diseno_exclusivo='sí' altura_mayor_190='no' peso_mayor_100='no' transporta_carga_voluminosa='no' necesita_espacio_objetos_especiales=None arrastra_remolque=None aventura=None solo_electricos=None prioriza_baja_depreciacion=None transmision_preferida=None rating_fiabilidad_durabilidad=None rating_seguridad=None rating_comodidad=None rating_impacto_ambiental=None rating_tecnologia_conectividad=None rating_costes_uso=None\n",
      "Input prefs type: <class 'graph.perfil.state.PerfilUsuario'>\n",
      "DEBUG (Validation Perfil) ► Campo 'arrastra_remolque' está vacío/None.\n",
      "DEBUG (Preguntar Perfil) ► Perfil aún INCOMPLETO según checker.\n",
      "DEBUG (Preguntar Perfil) ► Pregunta fallback generada: ¿Vas a arrastrar remolque pesado o caravana?\n",
      "DEBUG (Preguntar Perfil) ► Usando mensaje pendiente (pregunta LLM): ¿Vas a arrastrar remolque pesado o caravana?\n",
      "DEBUG (Preguntar Perfil) ► Mensaje final añadido: ¿Vas a arrastrar remolque pesado o caravana?\n",
      "==================================\u001b[1m Ai Message \u001b[0m==================================\n",
      "\n",
      "¿Vas a arrastrar remolque pesado o caravana?\n"
     ]
    }
   ],
   "source": [
    "# Create a thread\n",
    "config = {\"configurable\": {\"thread_id\": \"1\"}}\n",
    "\n",
    "# Start conversation\n",
    "input_message = HumanMessage(content=\"no\")\n",
    "output = graph.invoke({\"messages\": [input_message]}, config) \n",
    "for m in output['messages'][-1:]:\n",
    "    m.pretty_print()"
   ]
  },
  {
   "cell_type": "code",
   "execution_count": 11,
   "metadata": {},
   "outputs": [
    {
     "name": "stdout",
     "output_type": "stream",
     "text": [
      "--- Ejecutando Nodo: route_based_on_state_node ---\n",
      "\n",
      "--- DEBUG: Evaluating Routing Decision ---\n",
      "DEBUG Router: CP OK? True\n",
      "--- DEBUG CHECK PERFIL ---\n",
      "Input prefs object: apasionado_motor='sí' valora_estetica='no' coche_principal_hogar='no' uso_profesional='no' tipo_uso_profesional=None prefiere_diseno_exclusivo='sí' altura_mayor_190='no' peso_mayor_100='no' transporta_carga_voluminosa='no' necesita_espacio_objetos_especiales=None arrastra_remolque=None aventura=None solo_electricos=None prioriza_baja_depreciacion=None transmision_preferida=None rating_fiabilidad_durabilidad=None rating_seguridad=None rating_comodidad=None rating_impacto_ambiental=None rating_tecnologia_conectividad=None rating_costes_uso=None\n",
      "Input prefs type: <class 'graph.perfil.state.PerfilUsuario'>\n",
      "DEBUG (Validation Perfil) ► Campo 'arrastra_remolque' está vacío/None.\n",
      "DEBUG Router: Prefs OK? False\n",
      "--- DEBUG CHECK PASAJEROS ---\n",
      "Input info pasajeros: None\n",
      "DEBUG (Validation Pasajeros) ► Objeto InfoPasajeros es None.\n",
      "DEBUG Router: Pasajeros OK? False\n",
      "DEBUG (Validation Filtros) ► Objeto FiltrosInferidos es None.\n",
      "DEBUG Router: Filtros OK? False\n",
      "--- DEBUG CHECK ECONOMIA (Manual) ---\n",
      "Input econ object: None\n",
      "DEBUG (Validation Economía Manual) ► Objeto EconomiaUsuario es None.\n",
      "DEBUG Router: Economía OK? False\n",
      "DEBUG Router: Pesos Calculados? False\n",
      "DEBUG Router: Coches Buscados? False\n",
      "--- DEBUG CHECK PERFIL ---\n",
      "Input prefs object: apasionado_motor='sí' valora_estetica='no' coche_principal_hogar='no' uso_profesional='no' tipo_uso_profesional=None prefiere_diseno_exclusivo='sí' altura_mayor_190='no' peso_mayor_100='no' transporta_carga_voluminosa='no' necesita_espacio_objetos_especiales=None arrastra_remolque=None aventura=None solo_electricos=None prioriza_baja_depreciacion=None transmision_preferida=None rating_fiabilidad_durabilidad=None rating_seguridad=None rating_comodidad=None rating_impacto_ambiental=None rating_tecnologia_conectividad=None rating_costes_uso=None\n",
      "Input prefs type: <class 'graph.perfil.state.PerfilUsuario'>\n",
      "DEBUG (Validation Perfil) ► Campo 'arrastra_remolque' está vacío/None.\n",
      "DEBUG Router: Decisión -> recopilar_preferencias\n",
      "--- Ejecutando Nodo: recopilar_preferencias_node ---\n",
      "DEBUG (Perfil) ► Último mensaje es HumanMessage o historial vacío, llamando a llm_solo_perfil...\n"
     ]
    },
    {
     "name": "stderr",
     "output_type": "stream",
     "text": [
      "INFO (RAG): HTTP Request: POST https://api.openai.com/v1/chat/completions \"HTTP/1.1 200 OK\"\n"
     ]
    },
    {
     "name": "stdout",
     "output_type": "stream",
     "text": [
      "DEBUG (Perfil) ► Respuesta llm_solo_perfil: preferencias_usuario=PerfilUsuario(apasionado_motor='sí', valora_estetica='no', coche_principal_hogar='no', uso_profesional='no', tipo_uso_profesional=None, prefiere_diseno_exclusivo='sí', altura_mayor_190='no', peso_mayor_100='no', transporta_carga_voluminosa='no', necesita_espacio_objetos_especiales=None, arrastra_remolque='no', aventura=None, solo_electricos=None, prioriza_baja_depreciacion=None, transmision_preferida=None, rating_fiabilidad_durabilidad=None, rating_seguridad=None, rating_comodidad=None, rating_impacto_ambiental=None, rating_tecnologia_conectividad=None, rating_costes_uso=None) tipo_mensaje='PREGUNTA' contenido_mensaje=\"¿Qué nivel de aventura buscas con tu vehículo: 'ninguna', 'ocasional' o 'extrema'? \"\n",
      "DEBUG (Perfil) ► Preferencias TRAS post-procesamiento: apasionado_motor='sí' valora_estetica='no' coche_principal_hogar='no' uso_profesional='no' tipo_uso_profesional=None prefiere_diseno_exclusivo='sí' altura_mayor_190='no' peso_mayor_100='no' transporta_carga_voluminosa='no' necesita_espacio_objetos_especiales=None arrastra_remolque='no' aventura=None solo_electricos=None prioriza_baja_depreciacion=None transmision_preferida=None rating_fiabilidad_durabilidad=None rating_seguridad=None rating_comodidad=None rating_impacto_ambiental=None rating_tecnologia_conectividad=None rating_costes_uso=None\n",
      "DEBUG (Perfil) ► Estado preferencias_usuario actualizado: apasionado_motor='sí' valora_estetica='no' coche_principal_hogar='no' uso_profesional='no' tipo_uso_profesional=None prefiere_diseno_exclusivo='sí' altura_mayor_190='no' peso_mayor_100='no' transporta_carga_voluminosa='no' necesita_espacio_objetos_especiales=None arrastra_remolque='no' aventura=None solo_electricos=None prioriza_baja_depreciacion=None transmision_preferida=None rating_fiabilidad_durabilidad=None rating_seguridad=None rating_comodidad=None rating_impacto_ambiental=None rating_tecnologia_conectividad=None rating_costes_uso=None\n",
      "DEBUG (Perfil) ► Guardando mensaje pendiente: ¿Qué nivel de aventura buscas con tu vehículo: 'ninguna', 'ocasional' o 'extrema'?\n",
      "--- Ejecutando Nodo: validar_preferencias_node ---\n",
      "--- DEBUG CHECK PERFIL ---\n",
      "Input prefs object: apasionado_motor='sí' valora_estetica='no' coche_principal_hogar='no' uso_profesional='no' tipo_uso_profesional=None prefiere_diseno_exclusivo='sí' altura_mayor_190='no' peso_mayor_100='no' transporta_carga_voluminosa='no' necesita_espacio_objetos_especiales=None arrastra_remolque='no' aventura=None solo_electricos=None prioriza_baja_depreciacion=None transmision_preferida=None rating_fiabilidad_durabilidad=None rating_seguridad=None rating_comodidad=None rating_impacto_ambiental=None rating_tecnologia_conectividad=None rating_costes_uso=None\n",
      "Input prefs type: <class 'graph.perfil.state.PerfilUsuario'>\n",
      "DEBUG (Validation Perfil) ► Campo 'aventura' está vacío/None.\n",
      "DEBUG (Perfil) ► Validación: PerfilUsuario considerado INCOMPLETO.\n",
      "--- Evaluando Condición: ruta_decision_perfil ---\n",
      "DEBUG (Condición Perfil) ► Estado 'preferencias_usuario' recibido: apasionado_motor='sí' valora_estetica='no' coche_principal_hogar='no' uso_profesional='no' tipo_uso_profesional=None prefiere_diseno_exclusivo='sí' altura_mayor_190='no' peso_mayor_100='no' transporta_carga_voluminosa='no' necesita_espacio_objetos_especiales=None arrastra_remolque='no' aventura=None solo_electricos=None prioriza_baja_depreciacion=None transmision_preferida=None rating_fiabilidad_durabilidad=None rating_seguridad=None rating_comodidad=None rating_impacto_ambiental=None rating_tecnologia_conectividad=None rating_costes_uso=None\n",
      "DEBUG (Condición Perfil) ► Tipo de 'preferencias_usuario': <class 'graph.perfil.state.PerfilUsuario'>\n",
      "--- DEBUG CHECK PERFIL ---\n",
      "Input prefs object: apasionado_motor='sí' valora_estetica='no' coche_principal_hogar='no' uso_profesional='no' tipo_uso_profesional=None prefiere_diseno_exclusivo='sí' altura_mayor_190='no' peso_mayor_100='no' transporta_carga_voluminosa='no' necesita_espacio_objetos_especiales=None arrastra_remolque='no' aventura=None solo_electricos=None prioriza_baja_depreciacion=None transmision_preferida=None rating_fiabilidad_durabilidad=None rating_seguridad=None rating_comodidad=None rating_impacto_ambiental=None rating_tecnologia_conectividad=None rating_costes_uso=None\n",
      "Input prefs type: <class 'graph.perfil.state.PerfilUsuario'>\n",
      "DEBUG (Validation Perfil) ► Campo 'aventura' está vacío/None.\n",
      "DEBUG (Condición Perfil) ► Perfil INCOMPLETO. Se necesita pregunta.\n",
      "--- Ejecutando Nodo: preguntar_preferencias_node ---\n",
      "--- DEBUG CHECK PERFIL ---\n",
      "Input prefs object: apasionado_motor='sí' valora_estetica='no' coche_principal_hogar='no' uso_profesional='no' tipo_uso_profesional=None prefiere_diseno_exclusivo='sí' altura_mayor_190='no' peso_mayor_100='no' transporta_carga_voluminosa='no' necesita_espacio_objetos_especiales=None arrastra_remolque='no' aventura=None solo_electricos=None prioriza_baja_depreciacion=None transmision_preferida=None rating_fiabilidad_durabilidad=None rating_seguridad=None rating_comodidad=None rating_impacto_ambiental=None rating_tecnologia_conectividad=None rating_costes_uso=None\n",
      "Input prefs type: <class 'graph.perfil.state.PerfilUsuario'>\n",
      "DEBUG (Validation Perfil) ► Campo 'aventura' está vacío/None.\n",
      "DEBUG (Preguntar Perfil) ► Perfil aún INCOMPLETO según checker.\n",
      "DEBUG (Preguntar Perfil) ► Pregunta fallback generada: Para conocer tu espíritu aventurero, dime que prefieres:\n",
      " 🛣️ Solo asfalto (ninguna)\n",
      " 🌲 Salidas off‑road de vez en cuando (ocasional)\n",
      " 🏔️ Aventurero extremo en terrenos difíciles (extrema)\n",
      "DEBUG (Preguntar Perfil) ► Usando mensaje pendiente (pregunta LLM): ¿Qué nivel de aventura buscas con tu vehículo: 'ninguna', 'ocasional' o 'extrema'?\n",
      "DEBUG (Preguntar Perfil) ► Mensaje final añadido: ¿Qué nivel de aventura buscas con tu vehículo: 'ninguna', 'ocasional' o 'extrema'?\n",
      "==================================\u001b[1m Ai Message \u001b[0m==================================\n",
      "\n",
      "¿Qué nivel de aventura buscas con tu vehículo: 'ninguna', 'ocasional' o 'extrema'?\n"
     ]
    }
   ],
   "source": [
    "# Create a thread\n",
    "config = {\"configurable\": {\"thread_id\": \"1\"}}\n",
    "\n",
    "# Start conversation\n",
    "input_message = HumanMessage(content=\"no\")\n",
    "output = graph.invoke({\"messages\": [input_message]}, config) \n",
    "for m in output['messages'][-1:]:\n",
    "    m.pretty_print()"
   ]
  },
  {
   "cell_type": "code",
   "execution_count": 12,
   "metadata": {},
   "outputs": [
    {
     "name": "stdout",
     "output_type": "stream",
     "text": [
      "--- Ejecutando Nodo: route_based_on_state_node ---\n",
      "\n",
      "--- DEBUG: Evaluating Routing Decision ---\n",
      "DEBUG Router: CP OK? True\n",
      "--- DEBUG CHECK PERFIL ---\n",
      "Input prefs object: apasionado_motor='sí' valora_estetica='no' coche_principal_hogar='no' uso_profesional='no' tipo_uso_profesional=None prefiere_diseno_exclusivo='sí' altura_mayor_190='no' peso_mayor_100='no' transporta_carga_voluminosa='no' necesita_espacio_objetos_especiales=None arrastra_remolque='no' aventura=None solo_electricos=None prioriza_baja_depreciacion=None transmision_preferida=None rating_fiabilidad_durabilidad=None rating_seguridad=None rating_comodidad=None rating_impacto_ambiental=None rating_tecnologia_conectividad=None rating_costes_uso=None\n",
      "Input prefs type: <class 'graph.perfil.state.PerfilUsuario'>\n",
      "DEBUG (Validation Perfil) ► Campo 'aventura' está vacío/None.\n",
      "DEBUG Router: Prefs OK? False\n",
      "--- DEBUG CHECK PASAJEROS ---\n",
      "Input info pasajeros: None\n",
      "DEBUG (Validation Pasajeros) ► Objeto InfoPasajeros es None.\n",
      "DEBUG Router: Pasajeros OK? False\n",
      "DEBUG (Validation Filtros) ► Objeto FiltrosInferidos es None.\n",
      "DEBUG Router: Filtros OK? False\n",
      "--- DEBUG CHECK ECONOMIA (Manual) ---\n",
      "Input econ object: None\n",
      "DEBUG (Validation Economía Manual) ► Objeto EconomiaUsuario es None.\n",
      "DEBUG Router: Economía OK? False\n",
      "DEBUG Router: Pesos Calculados? False\n",
      "DEBUG Router: Coches Buscados? False\n",
      "--- DEBUG CHECK PERFIL ---\n",
      "Input prefs object: apasionado_motor='sí' valora_estetica='no' coche_principal_hogar='no' uso_profesional='no' tipo_uso_profesional=None prefiere_diseno_exclusivo='sí' altura_mayor_190='no' peso_mayor_100='no' transporta_carga_voluminosa='no' necesita_espacio_objetos_especiales=None arrastra_remolque='no' aventura=None solo_electricos=None prioriza_baja_depreciacion=None transmision_preferida=None rating_fiabilidad_durabilidad=None rating_seguridad=None rating_comodidad=None rating_impacto_ambiental=None rating_tecnologia_conectividad=None rating_costes_uso=None\n",
      "Input prefs type: <class 'graph.perfil.state.PerfilUsuario'>\n",
      "DEBUG (Validation Perfil) ► Campo 'aventura' está vacío/None.\n",
      "DEBUG Router: Decisión -> recopilar_preferencias\n",
      "--- Ejecutando Nodo: recopilar_preferencias_node ---\n",
      "DEBUG (Perfil) ► Último mensaje es HumanMessage o historial vacío, llamando a llm_solo_perfil...\n"
     ]
    },
    {
     "name": "stderr",
     "output_type": "stream",
     "text": [
      "INFO (RAG): HTTP Request: POST https://api.openai.com/v1/chat/completions \"HTTP/1.1 200 OK\"\n"
     ]
    },
    {
     "name": "stdout",
     "output_type": "stream",
     "text": [
      "DEBUG (Perfil) ► Respuesta llm_solo_perfil: preferencias_usuario=PerfilUsuario(apasionado_motor='sí', valora_estetica='no', coche_principal_hogar='no', uso_profesional='no', tipo_uso_profesional=None, prefiere_diseno_exclusivo='sí', altura_mayor_190='no', peso_mayor_100='no', transporta_carga_voluminosa='no', necesita_espacio_objetos_especiales=None, arrastra_remolque='no', aventura=<NivelAventura.ocasional: 'ocasional'>, solo_electricos=None, prioriza_baja_depreciacion=None, transmision_preferida=None, rating_fiabilidad_durabilidad=None, rating_seguridad=None, rating_comodidad=None, rating_impacto_ambiental=None, rating_tecnologia_conectividad=None, rating_costes_uso=None) tipo_mensaje='PREGUNTA' contenido_mensaje='¿Quieres solo coches eléctricos?'\n",
      "DEBUG (Perfil) ► Preferencias TRAS post-procesamiento: apasionado_motor='sí' valora_estetica='no' coche_principal_hogar='no' uso_profesional='no' tipo_uso_profesional=None prefiere_diseno_exclusivo='sí' altura_mayor_190='no' peso_mayor_100='no' transporta_carga_voluminosa='no' necesita_espacio_objetos_especiales=None arrastra_remolque='no' aventura=<NivelAventura.ocasional: 'ocasional'> solo_electricos=None prioriza_baja_depreciacion=None transmision_preferida=None rating_fiabilidad_durabilidad=None rating_seguridad=None rating_comodidad=None rating_impacto_ambiental=None rating_tecnologia_conectividad=None rating_costes_uso=None\n",
      "DEBUG (Perfil) ► Estado preferencias_usuario actualizado: apasionado_motor='sí' valora_estetica='no' coche_principal_hogar='no' uso_profesional='no' tipo_uso_profesional=None prefiere_diseno_exclusivo='sí' altura_mayor_190='no' peso_mayor_100='no' transporta_carga_voluminosa='no' necesita_espacio_objetos_especiales=None arrastra_remolque='no' aventura=<NivelAventura.ocasional: 'ocasional'> solo_electricos=None prioriza_baja_depreciacion=None transmision_preferida=None rating_fiabilidad_durabilidad=None rating_seguridad=None rating_comodidad=None rating_impacto_ambiental=None rating_tecnologia_conectividad=None rating_costes_uso=None\n",
      "DEBUG (Perfil) ► Guardando mensaje pendiente: ¿Quieres solo coches eléctricos?\n",
      "--- Ejecutando Nodo: validar_preferencias_node ---\n",
      "--- DEBUG CHECK PERFIL ---\n",
      "Input prefs object: apasionado_motor='sí' valora_estetica='no' coche_principal_hogar='no' uso_profesional='no' tipo_uso_profesional=None prefiere_diseno_exclusivo='sí' altura_mayor_190='no' peso_mayor_100='no' transporta_carga_voluminosa='no' necesita_espacio_objetos_especiales=None arrastra_remolque='no' aventura=<NivelAventura.ocasional: 'ocasional'> solo_electricos=None prioriza_baja_depreciacion=None transmision_preferida=None rating_fiabilidad_durabilidad=None rating_seguridad=None rating_comodidad=None rating_impacto_ambiental=None rating_tecnologia_conectividad=None rating_costes_uso=None\n",
      "Input prefs type: <class 'graph.perfil.state.PerfilUsuario'>\n",
      "DEBUG (Validation Perfil) ► Campo 'solo_electricos' está vacío/None.\n",
      "DEBUG (Perfil) ► Validación: PerfilUsuario considerado INCOMPLETO.\n",
      "--- Evaluando Condición: ruta_decision_perfil ---\n",
      "DEBUG (Condición Perfil) ► Estado 'preferencias_usuario' recibido: apasionado_motor='sí' valora_estetica='no' coche_principal_hogar='no' uso_profesional='no' tipo_uso_profesional=None prefiere_diseno_exclusivo='sí' altura_mayor_190='no' peso_mayor_100='no' transporta_carga_voluminosa='no' necesita_espacio_objetos_especiales=None arrastra_remolque='no' aventura=<NivelAventura.ocasional: 'ocasional'> solo_electricos=None prioriza_baja_depreciacion=None transmision_preferida=None rating_fiabilidad_durabilidad=None rating_seguridad=None rating_comodidad=None rating_impacto_ambiental=None rating_tecnologia_conectividad=None rating_costes_uso=None\n",
      "DEBUG (Condición Perfil) ► Tipo de 'preferencias_usuario': <class 'graph.perfil.state.PerfilUsuario'>\n",
      "--- DEBUG CHECK PERFIL ---\n",
      "Input prefs object: apasionado_motor='sí' valora_estetica='no' coche_principal_hogar='no' uso_profesional='no' tipo_uso_profesional=None prefiere_diseno_exclusivo='sí' altura_mayor_190='no' peso_mayor_100='no' transporta_carga_voluminosa='no' necesita_espacio_objetos_especiales=None arrastra_remolque='no' aventura=<NivelAventura.ocasional: 'ocasional'> solo_electricos=None prioriza_baja_depreciacion=None transmision_preferida=None rating_fiabilidad_durabilidad=None rating_seguridad=None rating_comodidad=None rating_impacto_ambiental=None rating_tecnologia_conectividad=None rating_costes_uso=None\n",
      "Input prefs type: <class 'graph.perfil.state.PerfilUsuario'>\n",
      "DEBUG (Validation Perfil) ► Campo 'solo_electricos' está vacío/None.\n",
      "DEBUG (Condición Perfil) ► Perfil INCOMPLETO. Se necesita pregunta.\n",
      "--- Ejecutando Nodo: preguntar_preferencias_node ---\n",
      "--- DEBUG CHECK PERFIL ---\n",
      "Input prefs object: apasionado_motor='sí' valora_estetica='no' coche_principal_hogar='no' uso_profesional='no' tipo_uso_profesional=None prefiere_diseno_exclusivo='sí' altura_mayor_190='no' peso_mayor_100='no' transporta_carga_voluminosa='no' necesita_espacio_objetos_especiales=None arrastra_remolque='no' aventura=<NivelAventura.ocasional: 'ocasional'> solo_electricos=None prioriza_baja_depreciacion=None transmision_preferida=None rating_fiabilidad_durabilidad=None rating_seguridad=None rating_comodidad=None rating_impacto_ambiental=None rating_tecnologia_conectividad=None rating_costes_uso=None\n",
      "Input prefs type: <class 'graph.perfil.state.PerfilUsuario'>\n",
      "DEBUG (Validation Perfil) ► Campo 'solo_electricos' está vacío/None.\n",
      "DEBUG (Preguntar Perfil) ► Perfil aún INCOMPLETO según checker.\n",
      "DEBUG (Preguntar Perfil) ► Pregunta fallback generada: ¿Estás interesado exclusivamente en vehículos con motorización eléctrica?\n",
      "DEBUG (Preguntar Perfil) ► Usando mensaje pendiente (pregunta LLM): ¿Quieres solo coches eléctricos?\n",
      "DEBUG (Preguntar Perfil) ► Mensaje final añadido: ¿Quieres solo coches eléctricos?\n",
      "==================================\u001b[1m Ai Message \u001b[0m==================================\n",
      "\n",
      "¿Quieres solo coches eléctricos?\n"
     ]
    }
   ],
   "source": [
    "# Create a thread\n",
    "config = {\"configurable\": {\"thread_id\": \"1\"}}\n",
    "\n",
    "# Start conversation\n",
    "input_message = HumanMessage(content=\"ocasional\")\n",
    "output = graph.invoke({\"messages\": [input_message]}, config) \n",
    "for m in output['messages'][-1:]:\n",
    "    m.pretty_print()"
   ]
  },
  {
   "cell_type": "code",
   "execution_count": 13,
   "metadata": {},
   "outputs": [
    {
     "name": "stdout",
     "output_type": "stream",
     "text": [
      "--- Ejecutando Nodo: route_based_on_state_node ---\n",
      "\n",
      "--- DEBUG: Evaluating Routing Decision ---\n",
      "DEBUG Router: CP OK? True\n",
      "--- DEBUG CHECK PERFIL ---\n",
      "Input prefs object: apasionado_motor='sí' valora_estetica='no' coche_principal_hogar='no' uso_profesional='no' tipo_uso_profesional=None prefiere_diseno_exclusivo='sí' altura_mayor_190='no' peso_mayor_100='no' transporta_carga_voluminosa='no' necesita_espacio_objetos_especiales=None arrastra_remolque='no' aventura=<NivelAventura.ocasional: 'ocasional'> solo_electricos=None prioriza_baja_depreciacion=None transmision_preferida=None rating_fiabilidad_durabilidad=None rating_seguridad=None rating_comodidad=None rating_impacto_ambiental=None rating_tecnologia_conectividad=None rating_costes_uso=None\n",
      "Input prefs type: <class 'graph.perfil.state.PerfilUsuario'>\n",
      "DEBUG (Validation Perfil) ► Campo 'solo_electricos' está vacío/None.\n",
      "DEBUG Router: Prefs OK? False\n",
      "--- DEBUG CHECK PASAJEROS ---\n",
      "Input info pasajeros: None\n",
      "DEBUG (Validation Pasajeros) ► Objeto InfoPasajeros es None.\n",
      "DEBUG Router: Pasajeros OK? False\n",
      "DEBUG (Validation Filtros) ► Objeto FiltrosInferidos es None.\n",
      "DEBUG Router: Filtros OK? False\n",
      "--- DEBUG CHECK ECONOMIA (Manual) ---\n",
      "Input econ object: None\n",
      "DEBUG (Validation Economía Manual) ► Objeto EconomiaUsuario es None.\n",
      "DEBUG Router: Economía OK? False\n",
      "DEBUG Router: Pesos Calculados? False\n",
      "DEBUG Router: Coches Buscados? False\n",
      "--- DEBUG CHECK PERFIL ---\n",
      "Input prefs object: apasionado_motor='sí' valora_estetica='no' coche_principal_hogar='no' uso_profesional='no' tipo_uso_profesional=None prefiere_diseno_exclusivo='sí' altura_mayor_190='no' peso_mayor_100='no' transporta_carga_voluminosa='no' necesita_espacio_objetos_especiales=None arrastra_remolque='no' aventura=<NivelAventura.ocasional: 'ocasional'> solo_electricos=None prioriza_baja_depreciacion=None transmision_preferida=None rating_fiabilidad_durabilidad=None rating_seguridad=None rating_comodidad=None rating_impacto_ambiental=None rating_tecnologia_conectividad=None rating_costes_uso=None\n",
      "Input prefs type: <class 'graph.perfil.state.PerfilUsuario'>\n",
      "DEBUG (Validation Perfil) ► Campo 'solo_electricos' está vacío/None.\n",
      "DEBUG Router: Decisión -> recopilar_preferencias\n",
      "--- Ejecutando Nodo: recopilar_preferencias_node ---\n",
      "DEBUG (Perfil) ► Último mensaje es HumanMessage o historial vacío, llamando a llm_solo_perfil...\n"
     ]
    },
    {
     "name": "stderr",
     "output_type": "stream",
     "text": [
      "INFO (RAG): HTTP Request: POST https://api.openai.com/v1/chat/completions \"HTTP/1.1 200 OK\"\n"
     ]
    },
    {
     "name": "stdout",
     "output_type": "stream",
     "text": [
      "DEBUG (Perfil) ► Respuesta llm_solo_perfil: preferencias_usuario=PerfilUsuario(apasionado_motor='sí', valora_estetica='no', coche_principal_hogar='no', uso_profesional='no', tipo_uso_profesional=None, prefiere_diseno_exclusivo='sí', altura_mayor_190='no', peso_mayor_100='no', transporta_carga_voluminosa='no', necesita_espacio_objetos_especiales=None, arrastra_remolque='no', aventura=<NivelAventura.ocasional: 'ocasional'>, solo_electricos='no', prioriza_baja_depreciacion=None, transmision_preferida=None, rating_fiabilidad_durabilidad=None, rating_seguridad=None, rating_comodidad=None, rating_impacto_ambiental=None, rating_tecnologia_conectividad=None, rating_costes_uso=None) tipo_mensaje='PREGUNTA' contenido_mensaje='¿Qué tipo de transmisión prefieres?\\n 1) Automático\\n 2) Manual\\n 3) Ambos'\n",
      "DEBUG (Perfil) ► Preferencias TRAS post-procesamiento: apasionado_motor='sí' valora_estetica='no' coche_principal_hogar='no' uso_profesional='no' tipo_uso_profesional=None prefiere_diseno_exclusivo='sí' altura_mayor_190='no' peso_mayor_100='no' transporta_carga_voluminosa='no' necesita_espacio_objetos_especiales=None arrastra_remolque='no' aventura=<NivelAventura.ocasional: 'ocasional'> solo_electricos='no' prioriza_baja_depreciacion=None transmision_preferida=None rating_fiabilidad_durabilidad=None rating_seguridad=None rating_comodidad=None rating_impacto_ambiental=None rating_tecnologia_conectividad=None rating_costes_uso=None\n",
      "DEBUG (Perfil) ► Estado preferencias_usuario actualizado: apasionado_motor='sí' valora_estetica='no' coche_principal_hogar='no' uso_profesional='no' tipo_uso_profesional=None prefiere_diseno_exclusivo='sí' altura_mayor_190='no' peso_mayor_100='no' transporta_carga_voluminosa='no' necesita_espacio_objetos_especiales=None arrastra_remolque='no' aventura=<NivelAventura.ocasional: 'ocasional'> solo_electricos='no' prioriza_baja_depreciacion=None transmision_preferida=None rating_fiabilidad_durabilidad=None rating_seguridad=None rating_comodidad=None rating_impacto_ambiental=None rating_tecnologia_conectividad=None rating_costes_uso=None\n",
      "DEBUG (Perfil) ► Guardando mensaje pendiente: ¿Qué tipo de transmisión prefieres?\n",
      " 1) Automático\n",
      " 2) Manual\n",
      " 3) Ambos\n",
      "--- Ejecutando Nodo: validar_preferencias_node ---\n",
      "--- DEBUG CHECK PERFIL ---\n",
      "Input prefs object: apasionado_motor='sí' valora_estetica='no' coche_principal_hogar='no' uso_profesional='no' tipo_uso_profesional=None prefiere_diseno_exclusivo='sí' altura_mayor_190='no' peso_mayor_100='no' transporta_carga_voluminosa='no' necesita_espacio_objetos_especiales=None arrastra_remolque='no' aventura=<NivelAventura.ocasional: 'ocasional'> solo_electricos='no' prioriza_baja_depreciacion=None transmision_preferida=None rating_fiabilidad_durabilidad=None rating_seguridad=None rating_comodidad=None rating_impacto_ambiental=None rating_tecnologia_conectividad=None rating_costes_uso=None\n",
      "Input prefs type: <class 'graph.perfil.state.PerfilUsuario'>\n",
      "DEBUG (Validation Perfil) ► Campo 'prioriza_baja_depreciacion' está vacío/None.\n",
      "DEBUG (Perfil) ► Validación: PerfilUsuario considerado INCOMPLETO.\n",
      "--- Evaluando Condición: ruta_decision_perfil ---\n",
      "DEBUG (Condición Perfil) ► Estado 'preferencias_usuario' recibido: apasionado_motor='sí' valora_estetica='no' coche_principal_hogar='no' uso_profesional='no' tipo_uso_profesional=None prefiere_diseno_exclusivo='sí' altura_mayor_190='no' peso_mayor_100='no' transporta_carga_voluminosa='no' necesita_espacio_objetos_especiales=None arrastra_remolque='no' aventura=<NivelAventura.ocasional: 'ocasional'> solo_electricos='no' prioriza_baja_depreciacion=None transmision_preferida=None rating_fiabilidad_durabilidad=None rating_seguridad=None rating_comodidad=None rating_impacto_ambiental=None rating_tecnologia_conectividad=None rating_costes_uso=None\n",
      "DEBUG (Condición Perfil) ► Tipo de 'preferencias_usuario': <class 'graph.perfil.state.PerfilUsuario'>\n",
      "--- DEBUG CHECK PERFIL ---\n",
      "Input prefs object: apasionado_motor='sí' valora_estetica='no' coche_principal_hogar='no' uso_profesional='no' tipo_uso_profesional=None prefiere_diseno_exclusivo='sí' altura_mayor_190='no' peso_mayor_100='no' transporta_carga_voluminosa='no' necesita_espacio_objetos_especiales=None arrastra_remolque='no' aventura=<NivelAventura.ocasional: 'ocasional'> solo_electricos='no' prioriza_baja_depreciacion=None transmision_preferida=None rating_fiabilidad_durabilidad=None rating_seguridad=None rating_comodidad=None rating_impacto_ambiental=None rating_tecnologia_conectividad=None rating_costes_uso=None\n",
      "Input prefs type: <class 'graph.perfil.state.PerfilUsuario'>\n",
      "DEBUG (Validation Perfil) ► Campo 'prioriza_baja_depreciacion' está vacío/None.\n",
      "DEBUG (Condición Perfil) ► Perfil INCOMPLETO. Se necesita pregunta.\n",
      "--- Ejecutando Nodo: preguntar_preferencias_node ---\n",
      "--- DEBUG CHECK PERFIL ---\n",
      "Input prefs object: apasionado_motor='sí' valora_estetica='no' coche_principal_hogar='no' uso_profesional='no' tipo_uso_profesional=None prefiere_diseno_exclusivo='sí' altura_mayor_190='no' peso_mayor_100='no' transporta_carga_voluminosa='no' necesita_espacio_objetos_especiales=None arrastra_remolque='no' aventura=<NivelAventura.ocasional: 'ocasional'> solo_electricos='no' prioriza_baja_depreciacion=None transmision_preferida=None rating_fiabilidad_durabilidad=None rating_seguridad=None rating_comodidad=None rating_impacto_ambiental=None rating_tecnologia_conectividad=None rating_costes_uso=None\n",
      "Input prefs type: <class 'graph.perfil.state.PerfilUsuario'>\n",
      "DEBUG (Validation Perfil) ► Campo 'prioriza_baja_depreciacion' está vacío/None.\n",
      "DEBUG (Preguntar Perfil) ► Perfil aún INCOMPLETO según checker.\n",
      "DEBUG (Preguntar Perfil) ► Pregunta fallback generada: En cuanto a la transmisión, ¿qué opción se ajusta mejor a tus preferencias?\n",
      " 1) Automático\n",
      " 2) Manual\n",
      " 3) Ambos, puedo considerar ambas opciones\n",
      "DEBUG (Preguntar Perfil) ► Usando mensaje pendiente (pregunta LLM): ¿Qué tipo de transmisión prefieres?\n",
      " 1) Automático\n",
      " 2) Manual\n",
      " 3) Ambos\n",
      "DEBUG (Preguntar Perfil) ► Mensaje final añadido: ¿Qué tipo de transmisión prefieres?\n",
      " 1) Automático\n",
      " 2) Manual\n",
      " 3) Ambos\n",
      "==================================\u001b[1m Ai Message \u001b[0m==================================\n",
      "\n",
      "¿Qué tipo de transmisión prefieres?\n",
      " 1) Automático\n",
      " 2) Manual\n",
      " 3) Ambos\n"
     ]
    }
   ],
   "source": [
    "# Create a thread\n",
    "config = {\"configurable\": {\"thread_id\": \"1\"}}\n",
    "\n",
    "# Start conversation\n",
    "input_message = HumanMessage(content=\"no\")\n",
    "output = graph.invoke({\"messages\": [input_message]}, config) \n",
    "for m in output['messages'][-1:]:\n",
    "    m.pretty_print()"
   ]
  },
  {
   "cell_type": "code",
   "execution_count": 14,
   "metadata": {},
   "outputs": [
    {
     "name": "stdout",
     "output_type": "stream",
     "text": [
      "--- Ejecutando Nodo: route_based_on_state_node ---\n",
      "\n",
      "--- DEBUG: Evaluating Routing Decision ---\n",
      "DEBUG Router: CP OK? True\n",
      "--- DEBUG CHECK PERFIL ---\n",
      "Input prefs object: apasionado_motor='sí' valora_estetica='no' coche_principal_hogar='no' uso_profesional='no' tipo_uso_profesional=None prefiere_diseno_exclusivo='sí' altura_mayor_190='no' peso_mayor_100='no' transporta_carga_voluminosa='no' necesita_espacio_objetos_especiales=None arrastra_remolque='no' aventura=<NivelAventura.ocasional: 'ocasional'> solo_electricos='no' prioriza_baja_depreciacion=None transmision_preferida=None rating_fiabilidad_durabilidad=None rating_seguridad=None rating_comodidad=None rating_impacto_ambiental=None rating_tecnologia_conectividad=None rating_costes_uso=None\n",
      "Input prefs type: <class 'graph.perfil.state.PerfilUsuario'>\n",
      "DEBUG (Validation Perfil) ► Campo 'prioriza_baja_depreciacion' está vacío/None.\n",
      "DEBUG Router: Prefs OK? False\n",
      "--- DEBUG CHECK PASAJEROS ---\n",
      "Input info pasajeros: None\n",
      "DEBUG (Validation Pasajeros) ► Objeto InfoPasajeros es None.\n",
      "DEBUG Router: Pasajeros OK? False\n",
      "DEBUG (Validation Filtros) ► Objeto FiltrosInferidos es None.\n",
      "DEBUG Router: Filtros OK? False\n",
      "--- DEBUG CHECK ECONOMIA (Manual) ---\n",
      "Input econ object: None\n",
      "DEBUG (Validation Economía Manual) ► Objeto EconomiaUsuario es None.\n",
      "DEBUG Router: Economía OK? False\n",
      "DEBUG Router: Pesos Calculados? False\n",
      "DEBUG Router: Coches Buscados? False\n",
      "--- DEBUG CHECK PERFIL ---\n",
      "Input prefs object: apasionado_motor='sí' valora_estetica='no' coche_principal_hogar='no' uso_profesional='no' tipo_uso_profesional=None prefiere_diseno_exclusivo='sí' altura_mayor_190='no' peso_mayor_100='no' transporta_carga_voluminosa='no' necesita_espacio_objetos_especiales=None arrastra_remolque='no' aventura=<NivelAventura.ocasional: 'ocasional'> solo_electricos='no' prioriza_baja_depreciacion=None transmision_preferida=None rating_fiabilidad_durabilidad=None rating_seguridad=None rating_comodidad=None rating_impacto_ambiental=None rating_tecnologia_conectividad=None rating_costes_uso=None\n",
      "Input prefs type: <class 'graph.perfil.state.PerfilUsuario'>\n",
      "DEBUG (Validation Perfil) ► Campo 'prioriza_baja_depreciacion' está vacío/None.\n",
      "DEBUG Router: Decisión -> recopilar_preferencias\n",
      "--- Ejecutando Nodo: recopilar_preferencias_node ---\n",
      "DEBUG (Perfil) ► Último mensaje es HumanMessage o historial vacío, llamando a llm_solo_perfil...\n"
     ]
    },
    {
     "name": "stderr",
     "output_type": "stream",
     "text": [
      "INFO (RAG): HTTP Request: POST https://api.openai.com/v1/chat/completions \"HTTP/1.1 200 OK\"\n"
     ]
    },
    {
     "name": "stdout",
     "output_type": "stream",
     "text": [
      "DEBUG (Perfil) ► Respuesta llm_solo_perfil: preferencias_usuario=PerfilUsuario(apasionado_motor='sí', valora_estetica='no', coche_principal_hogar='no', uso_profesional='no', tipo_uso_profesional=None, prefiere_diseno_exclusivo='sí', altura_mayor_190='no', peso_mayor_100='no', transporta_carga_voluminosa='no', necesita_espacio_objetos_especiales=None, arrastra_remolque='no', aventura=<NivelAventura.ocasional: 'ocasional'>, solo_electricos='no', prioriza_baja_depreciacion=None, transmision_preferida=<Transmision.AMBOS: 'ambos'>, rating_fiabilidad_durabilidad=None, rating_seguridad=None, rating_comodidad=None, rating_impacto_ambiental=None, rating_tecnologia_conectividad=None, rating_costes_uso=None) tipo_mensaje='PREGUNTA' contenido_mensaje='En una escala de 0 (nada importante) a 10 (extremadamente importante), ¿qué tan importante es para ti la Fiabilidad y Durabilidad del coche?'\n",
      "DEBUG (Perfil) ► Preferencias TRAS post-procesamiento: apasionado_motor='sí' valora_estetica='no' coche_principal_hogar='no' uso_profesional='no' tipo_uso_profesional=None prefiere_diseno_exclusivo='sí' altura_mayor_190='no' peso_mayor_100='no' transporta_carga_voluminosa='no' necesita_espacio_objetos_especiales=None arrastra_remolque='no' aventura=<NivelAventura.ocasional: 'ocasional'> solo_electricos='no' prioriza_baja_depreciacion=None transmision_preferida=<Transmision.AMBOS: 'ambos'> rating_fiabilidad_durabilidad=None rating_seguridad=None rating_comodidad=None rating_impacto_ambiental=None rating_tecnologia_conectividad=None rating_costes_uso=None\n",
      "DEBUG (Perfil) ► Estado preferencias_usuario actualizado: apasionado_motor='sí' valora_estetica='no' coche_principal_hogar='no' uso_profesional='no' tipo_uso_profesional=None prefiere_diseno_exclusivo='sí' altura_mayor_190='no' peso_mayor_100='no' transporta_carga_voluminosa='no' necesita_espacio_objetos_especiales=None arrastra_remolque='no' aventura=<NivelAventura.ocasional: 'ocasional'> solo_electricos='no' prioriza_baja_depreciacion=None transmision_preferida=<Transmision.AMBOS: 'ambos'> rating_fiabilidad_durabilidad=None rating_seguridad=None rating_comodidad=None rating_impacto_ambiental=None rating_tecnologia_conectividad=None rating_costes_uso=None\n",
      "DEBUG (Perfil) ► Guardando mensaje pendiente: En una escala de 0 (nada importante) a 10 (extremadamente importante), ¿qué tan importante es para ti la Fiabilidad y Durabilidad del coche?\n",
      "--- Ejecutando Nodo: validar_preferencias_node ---\n",
      "--- DEBUG CHECK PERFIL ---\n",
      "Input prefs object: apasionado_motor='sí' valora_estetica='no' coche_principal_hogar='no' uso_profesional='no' tipo_uso_profesional=None prefiere_diseno_exclusivo='sí' altura_mayor_190='no' peso_mayor_100='no' transporta_carga_voluminosa='no' necesita_espacio_objetos_especiales=None arrastra_remolque='no' aventura=<NivelAventura.ocasional: 'ocasional'> solo_electricos='no' prioriza_baja_depreciacion=None transmision_preferida=<Transmision.AMBOS: 'ambos'> rating_fiabilidad_durabilidad=None rating_seguridad=None rating_comodidad=None rating_impacto_ambiental=None rating_tecnologia_conectividad=None rating_costes_uso=None\n",
      "Input prefs type: <class 'graph.perfil.state.PerfilUsuario'>\n",
      "DEBUG (Validation Perfil) ► Campo 'prioriza_baja_depreciacion' está vacío/None.\n",
      "DEBUG (Perfil) ► Validación: PerfilUsuario considerado INCOMPLETO.\n",
      "--- Evaluando Condición: ruta_decision_perfil ---\n",
      "DEBUG (Condición Perfil) ► Estado 'preferencias_usuario' recibido: apasionado_motor='sí' valora_estetica='no' coche_principal_hogar='no' uso_profesional='no' tipo_uso_profesional=None prefiere_diseno_exclusivo='sí' altura_mayor_190='no' peso_mayor_100='no' transporta_carga_voluminosa='no' necesita_espacio_objetos_especiales=None arrastra_remolque='no' aventura=<NivelAventura.ocasional: 'ocasional'> solo_electricos='no' prioriza_baja_depreciacion=None transmision_preferida=<Transmision.AMBOS: 'ambos'> rating_fiabilidad_durabilidad=None rating_seguridad=None rating_comodidad=None rating_impacto_ambiental=None rating_tecnologia_conectividad=None rating_costes_uso=None\n",
      "DEBUG (Condición Perfil) ► Tipo de 'preferencias_usuario': <class 'graph.perfil.state.PerfilUsuario'>\n",
      "--- DEBUG CHECK PERFIL ---\n",
      "Input prefs object: apasionado_motor='sí' valora_estetica='no' coche_principal_hogar='no' uso_profesional='no' tipo_uso_profesional=None prefiere_diseno_exclusivo='sí' altura_mayor_190='no' peso_mayor_100='no' transporta_carga_voluminosa='no' necesita_espacio_objetos_especiales=None arrastra_remolque='no' aventura=<NivelAventura.ocasional: 'ocasional'> solo_electricos='no' prioriza_baja_depreciacion=None transmision_preferida=<Transmision.AMBOS: 'ambos'> rating_fiabilidad_durabilidad=None rating_seguridad=None rating_comodidad=None rating_impacto_ambiental=None rating_tecnologia_conectividad=None rating_costes_uso=None\n",
      "Input prefs type: <class 'graph.perfil.state.PerfilUsuario'>\n",
      "DEBUG (Validation Perfil) ► Campo 'prioriza_baja_depreciacion' está vacío/None.\n",
      "DEBUG (Condición Perfil) ► Perfil INCOMPLETO. Se necesita pregunta.\n",
      "--- Ejecutando Nodo: preguntar_preferencias_node ---\n",
      "--- DEBUG CHECK PERFIL ---\n",
      "Input prefs object: apasionado_motor='sí' valora_estetica='no' coche_principal_hogar='no' uso_profesional='no' tipo_uso_profesional=None prefiere_diseno_exclusivo='sí' altura_mayor_190='no' peso_mayor_100='no' transporta_carga_voluminosa='no' necesita_espacio_objetos_especiales=None arrastra_remolque='no' aventura=<NivelAventura.ocasional: 'ocasional'> solo_electricos='no' prioriza_baja_depreciacion=None transmision_preferida=<Transmision.AMBOS: 'ambos'> rating_fiabilidad_durabilidad=None rating_seguridad=None rating_comodidad=None rating_impacto_ambiental=None rating_tecnologia_conectividad=None rating_costes_uso=None\n",
      "Input prefs type: <class 'graph.perfil.state.PerfilUsuario'>\n",
      "DEBUG (Validation Perfil) ► Campo 'prioriza_baja_depreciacion' está vacío/None.\n",
      "DEBUG (Preguntar Perfil) ► Perfil aún INCOMPLETO según checker.\n",
      "DEBUG (Preguntar Perfil) ► Pregunta fallback generada: ¿Es importante para ti que la depreciación del coche sea lo más baja posible? 'sí' o 'no'\n",
      "DEBUG (Preguntar Perfil) ► Usando mensaje pendiente (pregunta LLM): En una escala de 0 (nada importante) a 10 (extremadamente importante), ¿qué tan importante es para ti la Fiabilidad y Durabilidad del coche?\n",
      "DEBUG (Preguntar Perfil) ► Mensaje final añadido: En una escala de 0 (nada importante) a 10 (extremadamente importante), ¿qué tan importante es para ti la Fiabilidad y Durabilidad del coche?\n",
      "==================================\u001b[1m Ai Message \u001b[0m==================================\n",
      "\n",
      "En una escala de 0 (nada importante) a 10 (extremadamente importante), ¿qué tan importante es para ti la Fiabilidad y Durabilidad del coche?\n"
     ]
    }
   ],
   "source": [
    "# Create a thread\n",
    "config = {\"configurable\": {\"thread_id\": \"1\"}}\n",
    "\n",
    "# Start conversation\n",
    "input_message = HumanMessage(content=\"ambos\")\n",
    "output = graph.invoke({\"messages\": [input_message]}, config) \n",
    "for m in output['messages'][-1:]:\n",
    "    m.pretty_print()"
   ]
  },
  {
   "cell_type": "code",
   "execution_count": 15,
   "metadata": {},
   "outputs": [
    {
     "name": "stdout",
     "output_type": "stream",
     "text": [
      "--- Ejecutando Nodo: route_based_on_state_node ---\n",
      "\n",
      "--- DEBUG: Evaluating Routing Decision ---\n",
      "DEBUG Router: CP OK? True\n",
      "--- DEBUG CHECK PERFIL ---\n",
      "Input prefs object: apasionado_motor='sí' valora_estetica='no' coche_principal_hogar='no' uso_profesional='no' tipo_uso_profesional=None prefiere_diseno_exclusivo='sí' altura_mayor_190='no' peso_mayor_100='no' transporta_carga_voluminosa='no' necesita_espacio_objetos_especiales=None arrastra_remolque='no' aventura=<NivelAventura.ocasional: 'ocasional'> solo_electricos='no' prioriza_baja_depreciacion=None transmision_preferida=<Transmision.AMBOS: 'ambos'> rating_fiabilidad_durabilidad=None rating_seguridad=None rating_comodidad=None rating_impacto_ambiental=None rating_tecnologia_conectividad=None rating_costes_uso=None\n",
      "Input prefs type: <class 'graph.perfil.state.PerfilUsuario'>\n",
      "DEBUG (Validation Perfil) ► Campo 'prioriza_baja_depreciacion' está vacío/None.\n",
      "DEBUG Router: Prefs OK? False\n",
      "--- DEBUG CHECK PASAJEROS ---\n",
      "Input info pasajeros: None\n",
      "DEBUG (Validation Pasajeros) ► Objeto InfoPasajeros es None.\n",
      "DEBUG Router: Pasajeros OK? False\n",
      "DEBUG (Validation Filtros) ► Objeto FiltrosInferidos es None.\n",
      "DEBUG Router: Filtros OK? False\n",
      "--- DEBUG CHECK ECONOMIA (Manual) ---\n",
      "Input econ object: None\n",
      "DEBUG (Validation Economía Manual) ► Objeto EconomiaUsuario es None.\n",
      "DEBUG Router: Economía OK? False\n",
      "DEBUG Router: Pesos Calculados? False\n",
      "DEBUG Router: Coches Buscados? False\n",
      "--- DEBUG CHECK PERFIL ---\n",
      "Input prefs object: apasionado_motor='sí' valora_estetica='no' coche_principal_hogar='no' uso_profesional='no' tipo_uso_profesional=None prefiere_diseno_exclusivo='sí' altura_mayor_190='no' peso_mayor_100='no' transporta_carga_voluminosa='no' necesita_espacio_objetos_especiales=None arrastra_remolque='no' aventura=<NivelAventura.ocasional: 'ocasional'> solo_electricos='no' prioriza_baja_depreciacion=None transmision_preferida=<Transmision.AMBOS: 'ambos'> rating_fiabilidad_durabilidad=None rating_seguridad=None rating_comodidad=None rating_impacto_ambiental=None rating_tecnologia_conectividad=None rating_costes_uso=None\n",
      "Input prefs type: <class 'graph.perfil.state.PerfilUsuario'>\n",
      "DEBUG (Validation Perfil) ► Campo 'prioriza_baja_depreciacion' está vacío/None.\n",
      "DEBUG Router: Decisión -> recopilar_preferencias\n",
      "--- Ejecutando Nodo: recopilar_preferencias_node ---\n",
      "DEBUG (Perfil) ► Último mensaje es HumanMessage o historial vacío, llamando a llm_solo_perfil...\n"
     ]
    },
    {
     "name": "stderr",
     "output_type": "stream",
     "text": [
      "INFO (RAG): HTTP Request: POST https://api.openai.com/v1/chat/completions \"HTTP/1.1 200 OK\"\n"
     ]
    },
    {
     "name": "stdout",
     "output_type": "stream",
     "text": [
      "DEBUG (Perfil) ► Respuesta llm_solo_perfil: preferencias_usuario=PerfilUsuario(apasionado_motor='sí', valora_estetica='no', coche_principal_hogar='no', uso_profesional='no', tipo_uso_profesional=None, prefiere_diseno_exclusivo='sí', altura_mayor_190='no', peso_mayor_100='no', transporta_carga_voluminosa='no', necesita_espacio_objetos_especiales=None, arrastra_remolque='no', aventura=<NivelAventura.ocasional: 'ocasional'>, solo_electricos='no', prioriza_baja_depreciacion=None, transmision_preferida=<Transmision.AMBOS: 'ambos'>, rating_fiabilidad_durabilidad=7, rating_seguridad=None, rating_comodidad=None, rating_impacto_ambiental=None, rating_tecnologia_conectividad=None, rating_costes_uso=None) tipo_mensaje='PREGUNTA' contenido_mensaje='Pensando en la Seguridad, ¿qué puntuación le darías en importancia (0-10)?'\n",
      "DEBUG (Perfil) ► Preferencias TRAS post-procesamiento: apasionado_motor='sí' valora_estetica='no' coche_principal_hogar='no' uso_profesional='no' tipo_uso_profesional=None prefiere_diseno_exclusivo='sí' altura_mayor_190='no' peso_mayor_100='no' transporta_carga_voluminosa='no' necesita_espacio_objetos_especiales=None arrastra_remolque='no' aventura=<NivelAventura.ocasional: 'ocasional'> solo_electricos='no' prioriza_baja_depreciacion=None transmision_preferida=<Transmision.AMBOS: 'ambos'> rating_fiabilidad_durabilidad=7 rating_seguridad=None rating_comodidad=None rating_impacto_ambiental=None rating_tecnologia_conectividad=None rating_costes_uso=None\n",
      "DEBUG (Perfil) ► Estado preferencias_usuario actualizado: apasionado_motor='sí' valora_estetica='no' coche_principal_hogar='no' uso_profesional='no' tipo_uso_profesional=None prefiere_diseno_exclusivo='sí' altura_mayor_190='no' peso_mayor_100='no' transporta_carga_voluminosa='no' necesita_espacio_objetos_especiales=None arrastra_remolque='no' aventura=<NivelAventura.ocasional: 'ocasional'> solo_electricos='no' prioriza_baja_depreciacion=None transmision_preferida=<Transmision.AMBOS: 'ambos'> rating_fiabilidad_durabilidad=7 rating_seguridad=None rating_comodidad=None rating_impacto_ambiental=None rating_tecnologia_conectividad=None rating_costes_uso=None\n",
      "DEBUG (Perfil) ► Guardando mensaje pendiente: Pensando en la Seguridad, ¿qué puntuación le darías en importancia (0-10)?\n",
      "--- Ejecutando Nodo: validar_preferencias_node ---\n",
      "--- DEBUG CHECK PERFIL ---\n",
      "Input prefs object: apasionado_motor='sí' valora_estetica='no' coche_principal_hogar='no' uso_profesional='no' tipo_uso_profesional=None prefiere_diseno_exclusivo='sí' altura_mayor_190='no' peso_mayor_100='no' transporta_carga_voluminosa='no' necesita_espacio_objetos_especiales=None arrastra_remolque='no' aventura=<NivelAventura.ocasional: 'ocasional'> solo_electricos='no' prioriza_baja_depreciacion=None transmision_preferida=<Transmision.AMBOS: 'ambos'> rating_fiabilidad_durabilidad=7 rating_seguridad=None rating_comodidad=None rating_impacto_ambiental=None rating_tecnologia_conectividad=None rating_costes_uso=None\n",
      "Input prefs type: <class 'graph.perfil.state.PerfilUsuario'>\n",
      "DEBUG (Validation Perfil) ► Campo 'prioriza_baja_depreciacion' está vacío/None.\n",
      "DEBUG (Perfil) ► Validación: PerfilUsuario considerado INCOMPLETO.\n",
      "--- Evaluando Condición: ruta_decision_perfil ---\n",
      "DEBUG (Condición Perfil) ► Estado 'preferencias_usuario' recibido: apasionado_motor='sí' valora_estetica='no' coche_principal_hogar='no' uso_profesional='no' tipo_uso_profesional=None prefiere_diseno_exclusivo='sí' altura_mayor_190='no' peso_mayor_100='no' transporta_carga_voluminosa='no' necesita_espacio_objetos_especiales=None arrastra_remolque='no' aventura=<NivelAventura.ocasional: 'ocasional'> solo_electricos='no' prioriza_baja_depreciacion=None transmision_preferida=<Transmision.AMBOS: 'ambos'> rating_fiabilidad_durabilidad=7 rating_seguridad=None rating_comodidad=None rating_impacto_ambiental=None rating_tecnologia_conectividad=None rating_costes_uso=None\n",
      "DEBUG (Condición Perfil) ► Tipo de 'preferencias_usuario': <class 'graph.perfil.state.PerfilUsuario'>\n",
      "--- DEBUG CHECK PERFIL ---\n",
      "Input prefs object: apasionado_motor='sí' valora_estetica='no' coche_principal_hogar='no' uso_profesional='no' tipo_uso_profesional=None prefiere_diseno_exclusivo='sí' altura_mayor_190='no' peso_mayor_100='no' transporta_carga_voluminosa='no' necesita_espacio_objetos_especiales=None arrastra_remolque='no' aventura=<NivelAventura.ocasional: 'ocasional'> solo_electricos='no' prioriza_baja_depreciacion=None transmision_preferida=<Transmision.AMBOS: 'ambos'> rating_fiabilidad_durabilidad=7 rating_seguridad=None rating_comodidad=None rating_impacto_ambiental=None rating_tecnologia_conectividad=None rating_costes_uso=None\n",
      "Input prefs type: <class 'graph.perfil.state.PerfilUsuario'>\n",
      "DEBUG (Validation Perfil) ► Campo 'prioriza_baja_depreciacion' está vacío/None.\n",
      "DEBUG (Condición Perfil) ► Perfil INCOMPLETO. Se necesita pregunta.\n",
      "--- Ejecutando Nodo: preguntar_preferencias_node ---\n",
      "--- DEBUG CHECK PERFIL ---\n",
      "Input prefs object: apasionado_motor='sí' valora_estetica='no' coche_principal_hogar='no' uso_profesional='no' tipo_uso_profesional=None prefiere_diseno_exclusivo='sí' altura_mayor_190='no' peso_mayor_100='no' transporta_carga_voluminosa='no' necesita_espacio_objetos_especiales=None arrastra_remolque='no' aventura=<NivelAventura.ocasional: 'ocasional'> solo_electricos='no' prioriza_baja_depreciacion=None transmision_preferida=<Transmision.AMBOS: 'ambos'> rating_fiabilidad_durabilidad=7 rating_seguridad=None rating_comodidad=None rating_impacto_ambiental=None rating_tecnologia_conectividad=None rating_costes_uso=None\n",
      "Input prefs type: <class 'graph.perfil.state.PerfilUsuario'>\n",
      "DEBUG (Validation Perfil) ► Campo 'prioriza_baja_depreciacion' está vacío/None.\n",
      "DEBUG (Preguntar Perfil) ► Perfil aún INCOMPLETO según checker.\n",
      "DEBUG (Preguntar Perfil) ► Pregunta fallback generada: ¿Es importante para ti que la depreciación del coche sea lo más baja posible? 'sí' o 'no'\n",
      "DEBUG (Preguntar Perfil) ► Usando mensaje pendiente (pregunta LLM): Pensando en la Seguridad, ¿qué puntuación le darías en importancia (0-10)?\n",
      "DEBUG (Preguntar Perfil) ► Mensaje final añadido: Pensando en la Seguridad, ¿qué puntuación le darías en importancia (0-10)?\n",
      "==================================\u001b[1m Ai Message \u001b[0m==================================\n",
      "\n",
      "Pensando en la Seguridad, ¿qué puntuación le darías en importancia (0-10)?\n"
     ]
    }
   ],
   "source": [
    "# Create a thread\n",
    "config = {\"configurable\": {\"thread_id\": \"1\"}}\n",
    "\n",
    "# Start conversation\n",
    "input_message = HumanMessage(content=\"7\")\n",
    "output = graph.invoke({\"messages\": [input_message]}, config) \n",
    "for m in output['messages'][-1:]:\n",
    "    m.pretty_print()"
   ]
  },
  {
   "cell_type": "code",
   "execution_count": 16,
   "metadata": {},
   "outputs": [
    {
     "name": "stdout",
     "output_type": "stream",
     "text": [
      "--- Ejecutando Nodo: route_based_on_state_node ---\n",
      "\n",
      "--- DEBUG: Evaluating Routing Decision ---\n",
      "DEBUG Router: CP OK? True\n",
      "--- DEBUG CHECK PERFIL ---\n",
      "Input prefs object: apasionado_motor='sí' valora_estetica='no' coche_principal_hogar='no' uso_profesional='no' tipo_uso_profesional=None prefiere_diseno_exclusivo='sí' altura_mayor_190='no' peso_mayor_100='no' transporta_carga_voluminosa='no' necesita_espacio_objetos_especiales=None arrastra_remolque='no' aventura=<NivelAventura.ocasional: 'ocasional'> solo_electricos='no' prioriza_baja_depreciacion=None transmision_preferida=<Transmision.AMBOS: 'ambos'> rating_fiabilidad_durabilidad=7 rating_seguridad=None rating_comodidad=None rating_impacto_ambiental=None rating_tecnologia_conectividad=None rating_costes_uso=None\n",
      "Input prefs type: <class 'graph.perfil.state.PerfilUsuario'>\n",
      "DEBUG (Validation Perfil) ► Campo 'prioriza_baja_depreciacion' está vacío/None.\n",
      "DEBUG Router: Prefs OK? False\n",
      "--- DEBUG CHECK PASAJEROS ---\n",
      "Input info pasajeros: None\n",
      "DEBUG (Validation Pasajeros) ► Objeto InfoPasajeros es None.\n",
      "DEBUG Router: Pasajeros OK? False\n",
      "DEBUG (Validation Filtros) ► Objeto FiltrosInferidos es None.\n",
      "DEBUG Router: Filtros OK? False\n",
      "--- DEBUG CHECK ECONOMIA (Manual) ---\n",
      "Input econ object: None\n",
      "DEBUG (Validation Economía Manual) ► Objeto EconomiaUsuario es None.\n",
      "DEBUG Router: Economía OK? False\n",
      "DEBUG Router: Pesos Calculados? False\n",
      "DEBUG Router: Coches Buscados? False\n",
      "--- DEBUG CHECK PERFIL ---\n",
      "Input prefs object: apasionado_motor='sí' valora_estetica='no' coche_principal_hogar='no' uso_profesional='no' tipo_uso_profesional=None prefiere_diseno_exclusivo='sí' altura_mayor_190='no' peso_mayor_100='no' transporta_carga_voluminosa='no' necesita_espacio_objetos_especiales=None arrastra_remolque='no' aventura=<NivelAventura.ocasional: 'ocasional'> solo_electricos='no' prioriza_baja_depreciacion=None transmision_preferida=<Transmision.AMBOS: 'ambos'> rating_fiabilidad_durabilidad=7 rating_seguridad=None rating_comodidad=None rating_impacto_ambiental=None rating_tecnologia_conectividad=None rating_costes_uso=None\n",
      "Input prefs type: <class 'graph.perfil.state.PerfilUsuario'>\n",
      "DEBUG (Validation Perfil) ► Campo 'prioriza_baja_depreciacion' está vacío/None.\n",
      "DEBUG Router: Decisión -> recopilar_preferencias\n",
      "--- Ejecutando Nodo: recopilar_preferencias_node ---\n",
      "DEBUG (Perfil) ► Último mensaje es HumanMessage o historial vacío, llamando a llm_solo_perfil...\n"
     ]
    },
    {
     "name": "stderr",
     "output_type": "stream",
     "text": [
      "INFO (RAG): HTTP Request: POST https://api.openai.com/v1/chat/completions \"HTTP/1.1 200 OK\"\n"
     ]
    },
    {
     "name": "stdout",
     "output_type": "stream",
     "text": [
      "DEBUG (Perfil) ► Respuesta llm_solo_perfil: preferencias_usuario=PerfilUsuario(apasionado_motor='sí', valora_estetica='no', coche_principal_hogar='no', uso_profesional='no', tipo_uso_profesional=None, prefiere_diseno_exclusivo='sí', altura_mayor_190='no', peso_mayor_100='no', transporta_carga_voluminosa='no', necesita_espacio_objetos_especiales=None, arrastra_remolque='no', aventura=<NivelAventura.ocasional: 'ocasional'>, solo_electricos='no', prioriza_baja_depreciacion=None, transmision_preferida=<Transmision.AMBOS: 'ambos'>, rating_fiabilidad_durabilidad=7, rating_seguridad=7, rating_comodidad=None, rating_impacto_ambiental=None, rating_tecnologia_conectividad=None, rating_costes_uso=None) tipo_mensaje='PREGUNTA' contenido_mensaje='Y en cuanto a la Comodidad y confort del vehiculo que tan importante es que se maximice? (0-10)'\n",
      "DEBUG (Perfil) ► Preferencias TRAS post-procesamiento: apasionado_motor='sí' valora_estetica='no' coche_principal_hogar='no' uso_profesional='no' tipo_uso_profesional=None prefiere_diseno_exclusivo='sí' altura_mayor_190='no' peso_mayor_100='no' transporta_carga_voluminosa='no' necesita_espacio_objetos_especiales=None arrastra_remolque='no' aventura=<NivelAventura.ocasional: 'ocasional'> solo_electricos='no' prioriza_baja_depreciacion=None transmision_preferida=<Transmision.AMBOS: 'ambos'> rating_fiabilidad_durabilidad=7 rating_seguridad=7 rating_comodidad=None rating_impacto_ambiental=None rating_tecnologia_conectividad=None rating_costes_uso=None\n",
      "DEBUG (Perfil) ► Estado preferencias_usuario actualizado: apasionado_motor='sí' valora_estetica='no' coche_principal_hogar='no' uso_profesional='no' tipo_uso_profesional=None prefiere_diseno_exclusivo='sí' altura_mayor_190='no' peso_mayor_100='no' transporta_carga_voluminosa='no' necesita_espacio_objetos_especiales=None arrastra_remolque='no' aventura=<NivelAventura.ocasional: 'ocasional'> solo_electricos='no' prioriza_baja_depreciacion=None transmision_preferida=<Transmision.AMBOS: 'ambos'> rating_fiabilidad_durabilidad=7 rating_seguridad=7 rating_comodidad=None rating_impacto_ambiental=None rating_tecnologia_conectividad=None rating_costes_uso=None\n",
      "DEBUG (Perfil) ► Guardando mensaje pendiente: Y en cuanto a la Comodidad y confort del vehiculo que tan importante es que se maximice? (0-10)\n",
      "--- Ejecutando Nodo: validar_preferencias_node ---\n",
      "--- DEBUG CHECK PERFIL ---\n",
      "Input prefs object: apasionado_motor='sí' valora_estetica='no' coche_principal_hogar='no' uso_profesional='no' tipo_uso_profesional=None prefiere_diseno_exclusivo='sí' altura_mayor_190='no' peso_mayor_100='no' transporta_carga_voluminosa='no' necesita_espacio_objetos_especiales=None arrastra_remolque='no' aventura=<NivelAventura.ocasional: 'ocasional'> solo_electricos='no' prioriza_baja_depreciacion=None transmision_preferida=<Transmision.AMBOS: 'ambos'> rating_fiabilidad_durabilidad=7 rating_seguridad=7 rating_comodidad=None rating_impacto_ambiental=None rating_tecnologia_conectividad=None rating_costes_uso=None\n",
      "Input prefs type: <class 'graph.perfil.state.PerfilUsuario'>\n",
      "DEBUG (Validation Perfil) ► Campo 'prioriza_baja_depreciacion' está vacío/None.\n",
      "DEBUG (Perfil) ► Validación: PerfilUsuario considerado INCOMPLETO.\n",
      "--- Evaluando Condición: ruta_decision_perfil ---\n",
      "DEBUG (Condición Perfil) ► Estado 'preferencias_usuario' recibido: apasionado_motor='sí' valora_estetica='no' coche_principal_hogar='no' uso_profesional='no' tipo_uso_profesional=None prefiere_diseno_exclusivo='sí' altura_mayor_190='no' peso_mayor_100='no' transporta_carga_voluminosa='no' necesita_espacio_objetos_especiales=None arrastra_remolque='no' aventura=<NivelAventura.ocasional: 'ocasional'> solo_electricos='no' prioriza_baja_depreciacion=None transmision_preferida=<Transmision.AMBOS: 'ambos'> rating_fiabilidad_durabilidad=7 rating_seguridad=7 rating_comodidad=None rating_impacto_ambiental=None rating_tecnologia_conectividad=None rating_costes_uso=None\n",
      "DEBUG (Condición Perfil) ► Tipo de 'preferencias_usuario': <class 'graph.perfil.state.PerfilUsuario'>\n",
      "--- DEBUG CHECK PERFIL ---\n",
      "Input prefs object: apasionado_motor='sí' valora_estetica='no' coche_principal_hogar='no' uso_profesional='no' tipo_uso_profesional=None prefiere_diseno_exclusivo='sí' altura_mayor_190='no' peso_mayor_100='no' transporta_carga_voluminosa='no' necesita_espacio_objetos_especiales=None arrastra_remolque='no' aventura=<NivelAventura.ocasional: 'ocasional'> solo_electricos='no' prioriza_baja_depreciacion=None transmision_preferida=<Transmision.AMBOS: 'ambos'> rating_fiabilidad_durabilidad=7 rating_seguridad=7 rating_comodidad=None rating_impacto_ambiental=None rating_tecnologia_conectividad=None rating_costes_uso=None\n",
      "Input prefs type: <class 'graph.perfil.state.PerfilUsuario'>\n",
      "DEBUG (Validation Perfil) ► Campo 'prioriza_baja_depreciacion' está vacío/None.\n",
      "DEBUG (Condición Perfil) ► Perfil INCOMPLETO. Se necesita pregunta.\n",
      "--- Ejecutando Nodo: preguntar_preferencias_node ---\n",
      "--- DEBUG CHECK PERFIL ---\n",
      "Input prefs object: apasionado_motor='sí' valora_estetica='no' coche_principal_hogar='no' uso_profesional='no' tipo_uso_profesional=None prefiere_diseno_exclusivo='sí' altura_mayor_190='no' peso_mayor_100='no' transporta_carga_voluminosa='no' necesita_espacio_objetos_especiales=None arrastra_remolque='no' aventura=<NivelAventura.ocasional: 'ocasional'> solo_electricos='no' prioriza_baja_depreciacion=None transmision_preferida=<Transmision.AMBOS: 'ambos'> rating_fiabilidad_durabilidad=7 rating_seguridad=7 rating_comodidad=None rating_impacto_ambiental=None rating_tecnologia_conectividad=None rating_costes_uso=None\n",
      "Input prefs type: <class 'graph.perfil.state.PerfilUsuario'>\n",
      "DEBUG (Validation Perfil) ► Campo 'prioriza_baja_depreciacion' está vacío/None.\n",
      "DEBUG (Preguntar Perfil) ► Perfil aún INCOMPLETO según checker.\n",
      "DEBUG (Preguntar Perfil) ► Pregunta fallback generada: ¿Es importante para ti que la depreciación del coche sea lo más baja posible? 'sí' o 'no'\n",
      "DEBUG (Preguntar Perfil) ► Usando mensaje pendiente (pregunta LLM): Y en cuanto a la Comodidad y confort del vehiculo que tan importante es que se maximice? (0-10)\n",
      "DEBUG (Preguntar Perfil) ► Mensaje final añadido: Y en cuanto a la Comodidad y confort del vehiculo que tan importante es que se maximice? (0-10)\n",
      "==================================\u001b[1m Ai Message \u001b[0m==================================\n",
      "\n",
      "Y en cuanto a la Comodidad y confort del vehiculo que tan importante es que se maximice? (0-10)\n"
     ]
    }
   ],
   "source": [
    "# Create a thread\n",
    "config = {\"configurable\": {\"thread_id\": \"1\"}}\n",
    "\n",
    "# Start conversation\n",
    "input_message = HumanMessage(content=\"7\")\n",
    "output = graph.invoke({\"messages\": [input_message]}, config) \n",
    "for m in output['messages'][-1:]:\n",
    "    m.pretty_print()"
   ]
  },
  {
   "cell_type": "code",
   "execution_count": 17,
   "metadata": {},
   "outputs": [
    {
     "name": "stdout",
     "output_type": "stream",
     "text": [
      "--- Ejecutando Nodo: route_based_on_state_node ---\n",
      "\n",
      "--- DEBUG: Evaluating Routing Decision ---\n",
      "DEBUG Router: CP OK? True\n",
      "--- DEBUG CHECK PERFIL ---\n",
      "Input prefs object: apasionado_motor='sí' valora_estetica='no' coche_principal_hogar='no' uso_profesional='no' tipo_uso_profesional=None prefiere_diseno_exclusivo='sí' altura_mayor_190='no' peso_mayor_100='no' transporta_carga_voluminosa='no' necesita_espacio_objetos_especiales=None arrastra_remolque='no' aventura=<NivelAventura.ocasional: 'ocasional'> solo_electricos='no' prioriza_baja_depreciacion=None transmision_preferida=<Transmision.AMBOS: 'ambos'> rating_fiabilidad_durabilidad=7 rating_seguridad=7 rating_comodidad=None rating_impacto_ambiental=None rating_tecnologia_conectividad=None rating_costes_uso=None\n",
      "Input prefs type: <class 'graph.perfil.state.PerfilUsuario'>\n",
      "DEBUG (Validation Perfil) ► Campo 'prioriza_baja_depreciacion' está vacío/None.\n",
      "DEBUG Router: Prefs OK? False\n",
      "--- DEBUG CHECK PASAJEROS ---\n",
      "Input info pasajeros: None\n",
      "DEBUG (Validation Pasajeros) ► Objeto InfoPasajeros es None.\n",
      "DEBUG Router: Pasajeros OK? False\n",
      "DEBUG (Validation Filtros) ► Objeto FiltrosInferidos es None.\n",
      "DEBUG Router: Filtros OK? False\n",
      "--- DEBUG CHECK ECONOMIA (Manual) ---\n",
      "Input econ object: None\n",
      "DEBUG (Validation Economía Manual) ► Objeto EconomiaUsuario es None.\n",
      "DEBUG Router: Economía OK? False\n",
      "DEBUG Router: Pesos Calculados? False\n",
      "DEBUG Router: Coches Buscados? False\n",
      "--- DEBUG CHECK PERFIL ---\n",
      "Input prefs object: apasionado_motor='sí' valora_estetica='no' coche_principal_hogar='no' uso_profesional='no' tipo_uso_profesional=None prefiere_diseno_exclusivo='sí' altura_mayor_190='no' peso_mayor_100='no' transporta_carga_voluminosa='no' necesita_espacio_objetos_especiales=None arrastra_remolque='no' aventura=<NivelAventura.ocasional: 'ocasional'> solo_electricos='no' prioriza_baja_depreciacion=None transmision_preferida=<Transmision.AMBOS: 'ambos'> rating_fiabilidad_durabilidad=7 rating_seguridad=7 rating_comodidad=None rating_impacto_ambiental=None rating_tecnologia_conectividad=None rating_costes_uso=None\n",
      "Input prefs type: <class 'graph.perfil.state.PerfilUsuario'>\n",
      "DEBUG (Validation Perfil) ► Campo 'prioriza_baja_depreciacion' está vacío/None.\n",
      "DEBUG Router: Decisión -> recopilar_preferencias\n",
      "--- Ejecutando Nodo: recopilar_preferencias_node ---\n",
      "DEBUG (Perfil) ► Último mensaje es HumanMessage o historial vacío, llamando a llm_solo_perfil...\n"
     ]
    },
    {
     "name": "stderr",
     "output_type": "stream",
     "text": [
      "INFO (RAG): HTTP Request: POST https://api.openai.com/v1/chat/completions \"HTTP/1.1 200 OK\"\n"
     ]
    },
    {
     "name": "stdout",
     "output_type": "stream",
     "text": [
      "DEBUG (Perfil) ► Respuesta llm_solo_perfil: preferencias_usuario=PerfilUsuario(apasionado_motor='sí', valora_estetica='no', coche_principal_hogar='no', uso_profesional='no', tipo_uso_profesional=None, prefiere_diseno_exclusivo='sí', altura_mayor_190='no', peso_mayor_100='no', transporta_carga_voluminosa='no', necesita_espacio_objetos_especiales=None, arrastra_remolque='no', aventura=<NivelAventura.ocasional: 'ocasional'>, solo_electricos='no', prioriza_baja_depreciacion=None, transmision_preferida=<Transmision.AMBOS: 'ambos'>, rating_fiabilidad_durabilidad=7, rating_seguridad=7, rating_comodidad=9, rating_impacto_ambiental=None, rating_tecnologia_conectividad=None, rating_costes_uso=None) tipo_mensaje='PREGUNTA' contenido_mensaje='Considerando el Bajo Impacto Medioambiental, ¿qué importancia tiene esto para tu elección (0-10)?'\n",
      "DEBUG (Perfil) ► Preferencias TRAS post-procesamiento: apasionado_motor='sí' valora_estetica='no' coche_principal_hogar='no' uso_profesional='no' tipo_uso_profesional=None prefiere_diseno_exclusivo='sí' altura_mayor_190='no' peso_mayor_100='no' transporta_carga_voluminosa='no' necesita_espacio_objetos_especiales=None arrastra_remolque='no' aventura=<NivelAventura.ocasional: 'ocasional'> solo_electricos='no' prioriza_baja_depreciacion=None transmision_preferida=<Transmision.AMBOS: 'ambos'> rating_fiabilidad_durabilidad=7 rating_seguridad=7 rating_comodidad=9 rating_impacto_ambiental=None rating_tecnologia_conectividad=None rating_costes_uso=None\n",
      "DEBUG (Perfil) ► Estado preferencias_usuario actualizado: apasionado_motor='sí' valora_estetica='no' coche_principal_hogar='no' uso_profesional='no' tipo_uso_profesional=None prefiere_diseno_exclusivo='sí' altura_mayor_190='no' peso_mayor_100='no' transporta_carga_voluminosa='no' necesita_espacio_objetos_especiales=None arrastra_remolque='no' aventura=<NivelAventura.ocasional: 'ocasional'> solo_electricos='no' prioriza_baja_depreciacion=None transmision_preferida=<Transmision.AMBOS: 'ambos'> rating_fiabilidad_durabilidad=7 rating_seguridad=7 rating_comodidad=9 rating_impacto_ambiental=None rating_tecnologia_conectividad=None rating_costes_uso=None\n",
      "DEBUG (Perfil) ► Guardando mensaje pendiente: Considerando el Bajo Impacto Medioambiental, ¿qué importancia tiene esto para tu elección (0-10)?\n",
      "--- Ejecutando Nodo: validar_preferencias_node ---\n",
      "--- DEBUG CHECK PERFIL ---\n",
      "Input prefs object: apasionado_motor='sí' valora_estetica='no' coche_principal_hogar='no' uso_profesional='no' tipo_uso_profesional=None prefiere_diseno_exclusivo='sí' altura_mayor_190='no' peso_mayor_100='no' transporta_carga_voluminosa='no' necesita_espacio_objetos_especiales=None arrastra_remolque='no' aventura=<NivelAventura.ocasional: 'ocasional'> solo_electricos='no' prioriza_baja_depreciacion=None transmision_preferida=<Transmision.AMBOS: 'ambos'> rating_fiabilidad_durabilidad=7 rating_seguridad=7 rating_comodidad=9 rating_impacto_ambiental=None rating_tecnologia_conectividad=None rating_costes_uso=None\n",
      "Input prefs type: <class 'graph.perfil.state.PerfilUsuario'>\n",
      "DEBUG (Validation Perfil) ► Campo 'prioriza_baja_depreciacion' está vacío/None.\n",
      "DEBUG (Perfil) ► Validación: PerfilUsuario considerado INCOMPLETO.\n",
      "--- Evaluando Condición: ruta_decision_perfil ---\n",
      "DEBUG (Condición Perfil) ► Estado 'preferencias_usuario' recibido: apasionado_motor='sí' valora_estetica='no' coche_principal_hogar='no' uso_profesional='no' tipo_uso_profesional=None prefiere_diseno_exclusivo='sí' altura_mayor_190='no' peso_mayor_100='no' transporta_carga_voluminosa='no' necesita_espacio_objetos_especiales=None arrastra_remolque='no' aventura=<NivelAventura.ocasional: 'ocasional'> solo_electricos='no' prioriza_baja_depreciacion=None transmision_preferida=<Transmision.AMBOS: 'ambos'> rating_fiabilidad_durabilidad=7 rating_seguridad=7 rating_comodidad=9 rating_impacto_ambiental=None rating_tecnologia_conectividad=None rating_costes_uso=None\n",
      "DEBUG (Condición Perfil) ► Tipo de 'preferencias_usuario': <class 'graph.perfil.state.PerfilUsuario'>\n",
      "--- DEBUG CHECK PERFIL ---\n",
      "Input prefs object: apasionado_motor='sí' valora_estetica='no' coche_principal_hogar='no' uso_profesional='no' tipo_uso_profesional=None prefiere_diseno_exclusivo='sí' altura_mayor_190='no' peso_mayor_100='no' transporta_carga_voluminosa='no' necesita_espacio_objetos_especiales=None arrastra_remolque='no' aventura=<NivelAventura.ocasional: 'ocasional'> solo_electricos='no' prioriza_baja_depreciacion=None transmision_preferida=<Transmision.AMBOS: 'ambos'> rating_fiabilidad_durabilidad=7 rating_seguridad=7 rating_comodidad=9 rating_impacto_ambiental=None rating_tecnologia_conectividad=None rating_costes_uso=None\n",
      "Input prefs type: <class 'graph.perfil.state.PerfilUsuario'>\n",
      "DEBUG (Validation Perfil) ► Campo 'prioriza_baja_depreciacion' está vacío/None.\n",
      "DEBUG (Condición Perfil) ► Perfil INCOMPLETO. Se necesita pregunta.\n",
      "--- Ejecutando Nodo: preguntar_preferencias_node ---\n",
      "--- DEBUG CHECK PERFIL ---\n",
      "Input prefs object: apasionado_motor='sí' valora_estetica='no' coche_principal_hogar='no' uso_profesional='no' tipo_uso_profesional=None prefiere_diseno_exclusivo='sí' altura_mayor_190='no' peso_mayor_100='no' transporta_carga_voluminosa='no' necesita_espacio_objetos_especiales=None arrastra_remolque='no' aventura=<NivelAventura.ocasional: 'ocasional'> solo_electricos='no' prioriza_baja_depreciacion=None transmision_preferida=<Transmision.AMBOS: 'ambos'> rating_fiabilidad_durabilidad=7 rating_seguridad=7 rating_comodidad=9 rating_impacto_ambiental=None rating_tecnologia_conectividad=None rating_costes_uso=None\n",
      "Input prefs type: <class 'graph.perfil.state.PerfilUsuario'>\n",
      "DEBUG (Validation Perfil) ► Campo 'prioriza_baja_depreciacion' está vacío/None.\n",
      "DEBUG (Preguntar Perfil) ► Perfil aún INCOMPLETO según checker.\n",
      "DEBUG (Preguntar Perfil) ► Pregunta fallback generada: ¿Es importante para ti que la depreciación del coche sea lo más baja posible? 'sí' o 'no'\n",
      "DEBUG (Preguntar Perfil) ► Usando mensaje pendiente (pregunta LLM): Considerando el Bajo Impacto Medioambiental, ¿qué importancia tiene esto para tu elección (0-10)?\n",
      "DEBUG (Preguntar Perfil) ► Mensaje final añadido: Considerando el Bajo Impacto Medioambiental, ¿qué importancia tiene esto para tu elección (0-10)?\n",
      "==================================\u001b[1m Ai Message \u001b[0m==================================\n",
      "\n",
      "Considerando el Bajo Impacto Medioambiental, ¿qué importancia tiene esto para tu elección (0-10)?\n"
     ]
    }
   ],
   "source": [
    "# Create a thread\n",
    "config = {\"configurable\": {\"thread_id\": \"1\"}}\n",
    "\n",
    "# Start conversation\n",
    "input_message = HumanMessage(content=\"9\")\n",
    "output = graph.invoke({\"messages\": [input_message]}, config) \n",
    "for m in output['messages'][-1:]:\n",
    "    m.pretty_print()"
   ]
  },
  {
   "cell_type": "code",
   "execution_count": 18,
   "metadata": {},
   "outputs": [
    {
     "name": "stdout",
     "output_type": "stream",
     "text": [
      "--- Ejecutando Nodo: route_based_on_state_node ---\n",
      "\n",
      "--- DEBUG: Evaluating Routing Decision ---\n",
      "DEBUG Router: CP OK? True\n",
      "--- DEBUG CHECK PERFIL ---\n",
      "Input prefs object: apasionado_motor='sí' valora_estetica='no' coche_principal_hogar='no' uso_profesional='no' tipo_uso_profesional=None prefiere_diseno_exclusivo='sí' altura_mayor_190='no' peso_mayor_100='no' transporta_carga_voluminosa='no' necesita_espacio_objetos_especiales=None arrastra_remolque='no' aventura=<NivelAventura.ocasional: 'ocasional'> solo_electricos='no' prioriza_baja_depreciacion=None transmision_preferida=<Transmision.AMBOS: 'ambos'> rating_fiabilidad_durabilidad=7 rating_seguridad=7 rating_comodidad=9 rating_impacto_ambiental=None rating_tecnologia_conectividad=None rating_costes_uso=None\n",
      "Input prefs type: <class 'graph.perfil.state.PerfilUsuario'>\n",
      "DEBUG (Validation Perfil) ► Campo 'prioriza_baja_depreciacion' está vacío/None.\n",
      "DEBUG Router: Prefs OK? False\n",
      "--- DEBUG CHECK PASAJEROS ---\n",
      "Input info pasajeros: None\n",
      "DEBUG (Validation Pasajeros) ► Objeto InfoPasajeros es None.\n",
      "DEBUG Router: Pasajeros OK? False\n",
      "DEBUG (Validation Filtros) ► Objeto FiltrosInferidos es None.\n",
      "DEBUG Router: Filtros OK? False\n",
      "--- DEBUG CHECK ECONOMIA (Manual) ---\n",
      "Input econ object: None\n",
      "DEBUG (Validation Economía Manual) ► Objeto EconomiaUsuario es None.\n",
      "DEBUG Router: Economía OK? False\n",
      "DEBUG Router: Pesos Calculados? False\n",
      "DEBUG Router: Coches Buscados? False\n",
      "--- DEBUG CHECK PERFIL ---\n",
      "Input prefs object: apasionado_motor='sí' valora_estetica='no' coche_principal_hogar='no' uso_profesional='no' tipo_uso_profesional=None prefiere_diseno_exclusivo='sí' altura_mayor_190='no' peso_mayor_100='no' transporta_carga_voluminosa='no' necesita_espacio_objetos_especiales=None arrastra_remolque='no' aventura=<NivelAventura.ocasional: 'ocasional'> solo_electricos='no' prioriza_baja_depreciacion=None transmision_preferida=<Transmision.AMBOS: 'ambos'> rating_fiabilidad_durabilidad=7 rating_seguridad=7 rating_comodidad=9 rating_impacto_ambiental=None rating_tecnologia_conectividad=None rating_costes_uso=None\n",
      "Input prefs type: <class 'graph.perfil.state.PerfilUsuario'>\n",
      "DEBUG (Validation Perfil) ► Campo 'prioriza_baja_depreciacion' está vacío/None.\n",
      "DEBUG Router: Decisión -> recopilar_preferencias\n",
      "--- Ejecutando Nodo: recopilar_preferencias_node ---\n",
      "DEBUG (Perfil) ► Último mensaje es HumanMessage o historial vacío, llamando a llm_solo_perfil...\n"
     ]
    },
    {
     "name": "stderr",
     "output_type": "stream",
     "text": [
      "INFO (RAG): HTTP Request: POST https://api.openai.com/v1/chat/completions \"HTTP/1.1 200 OK\"\n"
     ]
    },
    {
     "name": "stdout",
     "output_type": "stream",
     "text": [
      "DEBUG (Perfil) ► Respuesta llm_solo_perfil: preferencias_usuario=PerfilUsuario(apasionado_motor='sí', valora_estetica='no', coche_principal_hogar='no', uso_profesional='no', tipo_uso_profesional=None, prefiere_diseno_exclusivo='sí', altura_mayor_190='no', peso_mayor_100='no', transporta_carga_voluminosa='no', necesita_espacio_objetos_especiales=None, arrastra_remolque='no', aventura=<NivelAventura.ocasional: 'ocasional'>, solo_electricos='no', prioriza_baja_depreciacion=None, transmision_preferida=<Transmision.AMBOS: 'ambos'>, rating_fiabilidad_durabilidad=7, rating_seguridad=7, rating_comodidad=9, rating_impacto_ambiental=5, rating_tecnologia_conectividad=None, rating_costes_uso=None) tipo_mensaje='PREGUNTA' contenido_mensaje='respecto a la Tecnología y Conectividad del coche, ¿qué tan relevante es para ti (0-10)?'\n",
      "DEBUG (Perfil) ► Preferencias TRAS post-procesamiento: apasionado_motor='sí' valora_estetica='no' coche_principal_hogar='no' uso_profesional='no' tipo_uso_profesional=None prefiere_diseno_exclusivo='sí' altura_mayor_190='no' peso_mayor_100='no' transporta_carga_voluminosa='no' necesita_espacio_objetos_especiales=None arrastra_remolque='no' aventura=<NivelAventura.ocasional: 'ocasional'> solo_electricos='no' prioriza_baja_depreciacion=None transmision_preferida=<Transmision.AMBOS: 'ambos'> rating_fiabilidad_durabilidad=7 rating_seguridad=7 rating_comodidad=9 rating_impacto_ambiental=5 rating_tecnologia_conectividad=None rating_costes_uso=None\n",
      "DEBUG (Perfil) ► Estado preferencias_usuario actualizado: apasionado_motor='sí' valora_estetica='no' coche_principal_hogar='no' uso_profesional='no' tipo_uso_profesional=None prefiere_diseno_exclusivo='sí' altura_mayor_190='no' peso_mayor_100='no' transporta_carga_voluminosa='no' necesita_espacio_objetos_especiales=None arrastra_remolque='no' aventura=<NivelAventura.ocasional: 'ocasional'> solo_electricos='no' prioriza_baja_depreciacion=None transmision_preferida=<Transmision.AMBOS: 'ambos'> rating_fiabilidad_durabilidad=7 rating_seguridad=7 rating_comodidad=9 rating_impacto_ambiental=5 rating_tecnologia_conectividad=None rating_costes_uso=None\n",
      "DEBUG (Perfil) ► Guardando mensaje pendiente: respecto a la Tecnología y Conectividad del coche, ¿qué tan relevante es para ti (0-10)?\n",
      "--- Ejecutando Nodo: validar_preferencias_node ---\n",
      "--- DEBUG CHECK PERFIL ---\n",
      "Input prefs object: apasionado_motor='sí' valora_estetica='no' coche_principal_hogar='no' uso_profesional='no' tipo_uso_profesional=None prefiere_diseno_exclusivo='sí' altura_mayor_190='no' peso_mayor_100='no' transporta_carga_voluminosa='no' necesita_espacio_objetos_especiales=None arrastra_remolque='no' aventura=<NivelAventura.ocasional: 'ocasional'> solo_electricos='no' prioriza_baja_depreciacion=None transmision_preferida=<Transmision.AMBOS: 'ambos'> rating_fiabilidad_durabilidad=7 rating_seguridad=7 rating_comodidad=9 rating_impacto_ambiental=5 rating_tecnologia_conectividad=None rating_costes_uso=None\n",
      "Input prefs type: <class 'graph.perfil.state.PerfilUsuario'>\n",
      "DEBUG (Validation Perfil) ► Campo 'prioriza_baja_depreciacion' está vacío/None.\n",
      "DEBUG (Perfil) ► Validación: PerfilUsuario considerado INCOMPLETO.\n",
      "--- Evaluando Condición: ruta_decision_perfil ---\n",
      "DEBUG (Condición Perfil) ► Estado 'preferencias_usuario' recibido: apasionado_motor='sí' valora_estetica='no' coche_principal_hogar='no' uso_profesional='no' tipo_uso_profesional=None prefiere_diseno_exclusivo='sí' altura_mayor_190='no' peso_mayor_100='no' transporta_carga_voluminosa='no' necesita_espacio_objetos_especiales=None arrastra_remolque='no' aventura=<NivelAventura.ocasional: 'ocasional'> solo_electricos='no' prioriza_baja_depreciacion=None transmision_preferida=<Transmision.AMBOS: 'ambos'> rating_fiabilidad_durabilidad=7 rating_seguridad=7 rating_comodidad=9 rating_impacto_ambiental=5 rating_tecnologia_conectividad=None rating_costes_uso=None\n",
      "DEBUG (Condición Perfil) ► Tipo de 'preferencias_usuario': <class 'graph.perfil.state.PerfilUsuario'>\n",
      "--- DEBUG CHECK PERFIL ---\n",
      "Input prefs object: apasionado_motor='sí' valora_estetica='no' coche_principal_hogar='no' uso_profesional='no' tipo_uso_profesional=None prefiere_diseno_exclusivo='sí' altura_mayor_190='no' peso_mayor_100='no' transporta_carga_voluminosa='no' necesita_espacio_objetos_especiales=None arrastra_remolque='no' aventura=<NivelAventura.ocasional: 'ocasional'> solo_electricos='no' prioriza_baja_depreciacion=None transmision_preferida=<Transmision.AMBOS: 'ambos'> rating_fiabilidad_durabilidad=7 rating_seguridad=7 rating_comodidad=9 rating_impacto_ambiental=5 rating_tecnologia_conectividad=None rating_costes_uso=None\n",
      "Input prefs type: <class 'graph.perfil.state.PerfilUsuario'>\n",
      "DEBUG (Validation Perfil) ► Campo 'prioriza_baja_depreciacion' está vacío/None.\n",
      "DEBUG (Condición Perfil) ► Perfil INCOMPLETO. Se necesita pregunta.\n",
      "--- Ejecutando Nodo: preguntar_preferencias_node ---\n",
      "--- DEBUG CHECK PERFIL ---\n",
      "Input prefs object: apasionado_motor='sí' valora_estetica='no' coche_principal_hogar='no' uso_profesional='no' tipo_uso_profesional=None prefiere_diseno_exclusivo='sí' altura_mayor_190='no' peso_mayor_100='no' transporta_carga_voluminosa='no' necesita_espacio_objetos_especiales=None arrastra_remolque='no' aventura=<NivelAventura.ocasional: 'ocasional'> solo_electricos='no' prioriza_baja_depreciacion=None transmision_preferida=<Transmision.AMBOS: 'ambos'> rating_fiabilidad_durabilidad=7 rating_seguridad=7 rating_comodidad=9 rating_impacto_ambiental=5 rating_tecnologia_conectividad=None rating_costes_uso=None\n",
      "Input prefs type: <class 'graph.perfil.state.PerfilUsuario'>\n",
      "DEBUG (Validation Perfil) ► Campo 'prioriza_baja_depreciacion' está vacío/None.\n",
      "DEBUG (Preguntar Perfil) ► Perfil aún INCOMPLETO según checker.\n",
      "DEBUG (Preguntar Perfil) ► Pregunta fallback generada: ¿Es importante para ti que la depreciación del coche sea lo más baja posible? 'sí' o 'no'\n",
      "DEBUG (Preguntar Perfil) ► Usando mensaje pendiente (pregunta LLM): respecto a la Tecnología y Conectividad del coche, ¿qué tan relevante es para ti (0-10)?\n",
      "DEBUG (Preguntar Perfil) ► Mensaje final añadido: respecto a la Tecnología y Conectividad del coche, ¿qué tan relevante es para ti (0-10)?\n",
      "==================================\u001b[1m Ai Message \u001b[0m==================================\n",
      "\n",
      "respecto a la Tecnología y Conectividad del coche, ¿qué tan relevante es para ti (0-10)?\n"
     ]
    }
   ],
   "source": [
    "# Create a thread\n",
    "config = {\"configurable\": {\"thread_id\": \"1\"}}\n",
    "\n",
    "# Start conversation\n",
    "input_message = HumanMessage(content=\"5\")\n",
    "output = graph.invoke({\"messages\": [input_message]}, config) \n",
    "for m in output['messages'][-1:]:\n",
    "    m.pretty_print()"
   ]
  },
  {
   "cell_type": "code",
   "execution_count": 19,
   "metadata": {},
   "outputs": [
    {
     "name": "stdout",
     "output_type": "stream",
     "text": [
      "--- Ejecutando Nodo: route_based_on_state_node ---\n",
      "\n",
      "--- DEBUG: Evaluating Routing Decision ---\n",
      "DEBUG Router: CP OK? True\n",
      "--- DEBUG CHECK PERFIL ---\n",
      "Input prefs object: apasionado_motor='sí' valora_estetica='no' coche_principal_hogar='no' uso_profesional='no' tipo_uso_profesional=None prefiere_diseno_exclusivo='sí' altura_mayor_190='no' peso_mayor_100='no' transporta_carga_voluminosa='no' necesita_espacio_objetos_especiales=None arrastra_remolque='no' aventura=<NivelAventura.ocasional: 'ocasional'> solo_electricos='no' prioriza_baja_depreciacion=None transmision_preferida=<Transmision.AMBOS: 'ambos'> rating_fiabilidad_durabilidad=7 rating_seguridad=7 rating_comodidad=9 rating_impacto_ambiental=5 rating_tecnologia_conectividad=None rating_costes_uso=None\n",
      "Input prefs type: <class 'graph.perfil.state.PerfilUsuario'>\n",
      "DEBUG (Validation Perfil) ► Campo 'prioriza_baja_depreciacion' está vacío/None.\n",
      "DEBUG Router: Prefs OK? False\n",
      "--- DEBUG CHECK PASAJEROS ---\n",
      "Input info pasajeros: None\n",
      "DEBUG (Validation Pasajeros) ► Objeto InfoPasajeros es None.\n",
      "DEBUG Router: Pasajeros OK? False\n",
      "DEBUG (Validation Filtros) ► Objeto FiltrosInferidos es None.\n",
      "DEBUG Router: Filtros OK? False\n",
      "--- DEBUG CHECK ECONOMIA (Manual) ---\n",
      "Input econ object: None\n",
      "DEBUG (Validation Economía Manual) ► Objeto EconomiaUsuario es None.\n",
      "DEBUG Router: Economía OK? False\n",
      "DEBUG Router: Pesos Calculados? False\n",
      "DEBUG Router: Coches Buscados? False\n",
      "--- DEBUG CHECK PERFIL ---\n",
      "Input prefs object: apasionado_motor='sí' valora_estetica='no' coche_principal_hogar='no' uso_profesional='no' tipo_uso_profesional=None prefiere_diseno_exclusivo='sí' altura_mayor_190='no' peso_mayor_100='no' transporta_carga_voluminosa='no' necesita_espacio_objetos_especiales=None arrastra_remolque='no' aventura=<NivelAventura.ocasional: 'ocasional'> solo_electricos='no' prioriza_baja_depreciacion=None transmision_preferida=<Transmision.AMBOS: 'ambos'> rating_fiabilidad_durabilidad=7 rating_seguridad=7 rating_comodidad=9 rating_impacto_ambiental=5 rating_tecnologia_conectividad=None rating_costes_uso=None\n",
      "Input prefs type: <class 'graph.perfil.state.PerfilUsuario'>\n",
      "DEBUG (Validation Perfil) ► Campo 'prioriza_baja_depreciacion' está vacío/None.\n",
      "DEBUG Router: Decisión -> recopilar_preferencias\n",
      "--- Ejecutando Nodo: recopilar_preferencias_node ---\n",
      "DEBUG (Perfil) ► Último mensaje es HumanMessage o historial vacío, llamando a llm_solo_perfil...\n"
     ]
    },
    {
     "name": "stderr",
     "output_type": "stream",
     "text": [
      "INFO (RAG): HTTP Request: POST https://api.openai.com/v1/chat/completions \"HTTP/1.1 200 OK\"\n"
     ]
    },
    {
     "name": "stdout",
     "output_type": "stream",
     "text": [
      "DEBUG (Perfil) ► Respuesta llm_solo_perfil: preferencias_usuario=PerfilUsuario(apasionado_motor='sí', valora_estetica='no', coche_principal_hogar='no', uso_profesional='no', tipo_uso_profesional=None, prefiere_diseno_exclusivo='sí', altura_mayor_190='no', peso_mayor_100='no', transporta_carga_voluminosa='no', necesita_espacio_objetos_especiales=None, arrastra_remolque='no', aventura=<NivelAventura.ocasional: 'ocasional'>, solo_electricos='no', prioriza_baja_depreciacion=None, transmision_preferida=<Transmision.AMBOS: 'ambos'>, rating_fiabilidad_durabilidad=7, rating_seguridad=7, rating_comodidad=9, rating_impacto_ambiental=5, rating_tecnologia_conectividad=5, rating_costes_uso=None) tipo_mensaje='CONFIRMACION' contenido_mensaje=''\n",
      "DEBUG (Perfil) ► Preferencias TRAS post-procesamiento: apasionado_motor='sí' valora_estetica='no' coche_principal_hogar='no' uso_profesional='no' tipo_uso_profesional=None prefiere_diseno_exclusivo='sí' altura_mayor_190='no' peso_mayor_100='no' transporta_carga_voluminosa='no' necesita_espacio_objetos_especiales=None arrastra_remolque='no' aventura=<NivelAventura.ocasional: 'ocasional'> solo_electricos='no' prioriza_baja_depreciacion=None transmision_preferida=<Transmision.AMBOS: 'ambos'> rating_fiabilidad_durabilidad=7 rating_seguridad=7 rating_comodidad=9 rating_impacto_ambiental=5 rating_tecnologia_conectividad=5 rating_costes_uso=None\n",
      "DEBUG (Perfil) ► Estado preferencias_usuario actualizado: apasionado_motor='sí' valora_estetica='no' coche_principal_hogar='no' uso_profesional='no' tipo_uso_profesional=None prefiere_diseno_exclusivo='sí' altura_mayor_190='no' peso_mayor_100='no' transporta_carga_voluminosa='no' necesita_espacio_objetos_especiales=None arrastra_remolque='no' aventura=<NivelAventura.ocasional: 'ocasional'> solo_electricos='no' prioriza_baja_depreciacion=None transmision_preferida=<Transmision.AMBOS: 'ambos'> rating_fiabilidad_durabilidad=7 rating_seguridad=7 rating_comodidad=9 rating_impacto_ambiental=5 rating_tecnologia_conectividad=5 rating_costes_uso=None\n",
      "DEBUG (Perfil) ► No hay mensaje pendiente.\n",
      "--- Ejecutando Nodo: validar_preferencias_node ---\n",
      "--- DEBUG CHECK PERFIL ---\n",
      "Input prefs object: apasionado_motor='sí' valora_estetica='no' coche_principal_hogar='no' uso_profesional='no' tipo_uso_profesional=None prefiere_diseno_exclusivo='sí' altura_mayor_190='no' peso_mayor_100='no' transporta_carga_voluminosa='no' necesita_espacio_objetos_especiales=None arrastra_remolque='no' aventura=<NivelAventura.ocasional: 'ocasional'> solo_electricos='no' prioriza_baja_depreciacion=None transmision_preferida=<Transmision.AMBOS: 'ambos'> rating_fiabilidad_durabilidad=7 rating_seguridad=7 rating_comodidad=9 rating_impacto_ambiental=5 rating_tecnologia_conectividad=5 rating_costes_uso=None\n",
      "Input prefs type: <class 'graph.perfil.state.PerfilUsuario'>\n",
      "DEBUG (Validation Perfil) ► Campo 'prioriza_baja_depreciacion' está vacío/None.\n",
      "DEBUG (Perfil) ► Validación: PerfilUsuario considerado INCOMPLETO.\n",
      "--- Evaluando Condición: ruta_decision_perfil ---\n",
      "DEBUG (Condición Perfil) ► Estado 'preferencias_usuario' recibido: apasionado_motor='sí' valora_estetica='no' coche_principal_hogar='no' uso_profesional='no' tipo_uso_profesional=None prefiere_diseno_exclusivo='sí' altura_mayor_190='no' peso_mayor_100='no' transporta_carga_voluminosa='no' necesita_espacio_objetos_especiales=None arrastra_remolque='no' aventura=<NivelAventura.ocasional: 'ocasional'> solo_electricos='no' prioriza_baja_depreciacion=None transmision_preferida=<Transmision.AMBOS: 'ambos'> rating_fiabilidad_durabilidad=7 rating_seguridad=7 rating_comodidad=9 rating_impacto_ambiental=5 rating_tecnologia_conectividad=5 rating_costes_uso=None\n",
      "DEBUG (Condición Perfil) ► Tipo de 'preferencias_usuario': <class 'graph.perfil.state.PerfilUsuario'>\n",
      "--- DEBUG CHECK PERFIL ---\n",
      "Input prefs object: apasionado_motor='sí' valora_estetica='no' coche_principal_hogar='no' uso_profesional='no' tipo_uso_profesional=None prefiere_diseno_exclusivo='sí' altura_mayor_190='no' peso_mayor_100='no' transporta_carga_voluminosa='no' necesita_espacio_objetos_especiales=None arrastra_remolque='no' aventura=<NivelAventura.ocasional: 'ocasional'> solo_electricos='no' prioriza_baja_depreciacion=None transmision_preferida=<Transmision.AMBOS: 'ambos'> rating_fiabilidad_durabilidad=7 rating_seguridad=7 rating_comodidad=9 rating_impacto_ambiental=5 rating_tecnologia_conectividad=5 rating_costes_uso=None\n",
      "Input prefs type: <class 'graph.perfil.state.PerfilUsuario'>\n",
      "DEBUG (Validation Perfil) ► Campo 'prioriza_baja_depreciacion' está vacío/None.\n",
      "DEBUG (Condición Perfil) ► Perfil INCOMPLETO. Se necesita pregunta.\n",
      "--- Ejecutando Nodo: preguntar_preferencias_node ---\n",
      "--- DEBUG CHECK PERFIL ---\n",
      "Input prefs object: apasionado_motor='sí' valora_estetica='no' coche_principal_hogar='no' uso_profesional='no' tipo_uso_profesional=None prefiere_diseno_exclusivo='sí' altura_mayor_190='no' peso_mayor_100='no' transporta_carga_voluminosa='no' necesita_espacio_objetos_especiales=None arrastra_remolque='no' aventura=<NivelAventura.ocasional: 'ocasional'> solo_electricos='no' prioriza_baja_depreciacion=None transmision_preferida=<Transmision.AMBOS: 'ambos'> rating_fiabilidad_durabilidad=7 rating_seguridad=7 rating_comodidad=9 rating_impacto_ambiental=5 rating_tecnologia_conectividad=5 rating_costes_uso=None\n",
      "Input prefs type: <class 'graph.perfil.state.PerfilUsuario'>\n",
      "DEBUG (Validation Perfil) ► Campo 'prioriza_baja_depreciacion' está vacío/None.\n",
      "DEBUG (Preguntar Perfil) ► Perfil aún INCOMPLETO según checker.\n",
      "DEBUG (Preguntar Perfil) ► Pregunta fallback generada: ¿Es importante para ti que la depreciación del coche sea lo más baja posible? 'sí' o 'no'\n",
      "WARN (Preguntar Perfil) ► Nodo ejecutado para preguntar, pero no había mensaje pendiente válido. Generando pregunta fallback.\n",
      "DEBUG (Preguntar Perfil) ► Mensaje final añadido: ¿Es importante para ti que la depreciación del coche sea lo más baja posible? 'sí' o 'no'\n",
      "==================================\u001b[1m Ai Message \u001b[0m==================================\n",
      "\n",
      "¿Es importante para ti que la depreciación del coche sea lo más baja posible? 'sí' o 'no'\n"
     ]
    }
   ],
   "source": [
    "# Create a thread\n",
    "config = {\"configurable\": {\"thread_id\": \"1\"}}\n",
    "\n",
    "# Start conversation\n",
    "input_message = HumanMessage(content=\"5\")\n",
    "output = graph.invoke({\"messages\": [input_message]}, config) \n",
    "for m in output['messages'][-1:]:\n",
    "    m.pretty_print()"
   ]
  },
  {
   "cell_type": "code",
   "execution_count": 20,
   "metadata": {},
   "outputs": [
    {
     "name": "stdout",
     "output_type": "stream",
     "text": [
      "--- Ejecutando Nodo: route_based_on_state_node ---\n",
      "\n",
      "--- DEBUG: Evaluating Routing Decision ---\n",
      "DEBUG Router: CP OK? True\n",
      "--- DEBUG CHECK PERFIL ---\n",
      "Input prefs object: apasionado_motor='sí' valora_estetica='no' coche_principal_hogar='no' uso_profesional='no' tipo_uso_profesional=None prefiere_diseno_exclusivo='sí' altura_mayor_190='no' peso_mayor_100='no' transporta_carga_voluminosa='no' necesita_espacio_objetos_especiales=None arrastra_remolque='no' aventura=<NivelAventura.ocasional: 'ocasional'> solo_electricos='no' prioriza_baja_depreciacion=None transmision_preferida=<Transmision.AMBOS: 'ambos'> rating_fiabilidad_durabilidad=7 rating_seguridad=7 rating_comodidad=9 rating_impacto_ambiental=5 rating_tecnologia_conectividad=5 rating_costes_uso=None\n",
      "Input prefs type: <class 'graph.perfil.state.PerfilUsuario'>\n",
      "DEBUG (Validation Perfil) ► Campo 'prioriza_baja_depreciacion' está vacío/None.\n",
      "DEBUG Router: Prefs OK? False\n",
      "--- DEBUG CHECK PASAJEROS ---\n",
      "Input info pasajeros: None\n",
      "DEBUG (Validation Pasajeros) ► Objeto InfoPasajeros es None.\n",
      "DEBUG Router: Pasajeros OK? False\n",
      "DEBUG (Validation Filtros) ► Objeto FiltrosInferidos es None.\n",
      "DEBUG Router: Filtros OK? False\n",
      "--- DEBUG CHECK ECONOMIA (Manual) ---\n",
      "Input econ object: None\n",
      "DEBUG (Validation Economía Manual) ► Objeto EconomiaUsuario es None.\n",
      "DEBUG Router: Economía OK? False\n",
      "DEBUG Router: Pesos Calculados? False\n",
      "DEBUG Router: Coches Buscados? False\n",
      "--- DEBUG CHECK PERFIL ---\n",
      "Input prefs object: apasionado_motor='sí' valora_estetica='no' coche_principal_hogar='no' uso_profesional='no' tipo_uso_profesional=None prefiere_diseno_exclusivo='sí' altura_mayor_190='no' peso_mayor_100='no' transporta_carga_voluminosa='no' necesita_espacio_objetos_especiales=None arrastra_remolque='no' aventura=<NivelAventura.ocasional: 'ocasional'> solo_electricos='no' prioriza_baja_depreciacion=None transmision_preferida=<Transmision.AMBOS: 'ambos'> rating_fiabilidad_durabilidad=7 rating_seguridad=7 rating_comodidad=9 rating_impacto_ambiental=5 rating_tecnologia_conectividad=5 rating_costes_uso=None\n",
      "Input prefs type: <class 'graph.perfil.state.PerfilUsuario'>\n",
      "DEBUG (Validation Perfil) ► Campo 'prioriza_baja_depreciacion' está vacío/None.\n",
      "DEBUG Router: Decisión -> recopilar_preferencias\n",
      "--- Ejecutando Nodo: recopilar_preferencias_node ---\n",
      "DEBUG (Perfil) ► Último mensaje es HumanMessage o historial vacío, llamando a llm_solo_perfil...\n"
     ]
    },
    {
     "name": "stderr",
     "output_type": "stream",
     "text": [
      "INFO (RAG): HTTP Request: POST https://api.openai.com/v1/chat/completions \"HTTP/1.1 200 OK\"\n"
     ]
    },
    {
     "name": "stdout",
     "output_type": "stream",
     "text": [
      "DEBUG (Perfil) ► Respuesta llm_solo_perfil: preferencias_usuario=PerfilUsuario(apasionado_motor='sí', valora_estetica='no', coche_principal_hogar='no', uso_profesional='no', tipo_uso_profesional=None, prefiere_diseno_exclusivo='sí', altura_mayor_190=None, peso_mayor_100='no', transporta_carga_voluminosa='no', necesita_espacio_objetos_especiales=None, arrastra_remolque='no', aventura=<NivelAventura.ocasional: 'ocasional'>, solo_electricos='no', prioriza_baja_depreciacion='no', transmision_preferida=<Transmision.AMBOS: 'ambos'>, rating_fiabilidad_durabilidad=7, rating_seguridad=7, rating_comodidad=9, rating_impacto_ambiental=5, rating_tecnologia_conectividad=5, rating_costes_uso=None) tipo_mensaje='PREGUNTA' contenido_mensaje=\"Para finalizar, ¿qué tan importante es para ti que el vehículo sea económico en su uso diario y mantenimiento? (donde 0 significa 'No es importante en absoluto' y 10 significa 'Es extremadamente importante')\"\n",
      "DEBUG (Perfil) ► Preferencias TRAS post-procesamiento: apasionado_motor='sí' valora_estetica='no' coche_principal_hogar='no' uso_profesional='no' tipo_uso_profesional=None prefiere_diseno_exclusivo='sí' altura_mayor_190=None peso_mayor_100='no' transporta_carga_voluminosa='no' necesita_espacio_objetos_especiales=None arrastra_remolque='no' aventura=<NivelAventura.ocasional: 'ocasional'> solo_electricos='no' prioriza_baja_depreciacion='no' transmision_preferida=<Transmision.AMBOS: 'ambos'> rating_fiabilidad_durabilidad=7 rating_seguridad=7 rating_comodidad=9 rating_impacto_ambiental=5 rating_tecnologia_conectividad=5 rating_costes_uso=None\n",
      "DEBUG (Perfil) ► Estado preferencias_usuario actualizado: apasionado_motor='sí' valora_estetica='no' coche_principal_hogar='no' uso_profesional='no' tipo_uso_profesional=None prefiere_diseno_exclusivo='sí' altura_mayor_190='no' peso_mayor_100='no' transporta_carga_voluminosa='no' necesita_espacio_objetos_especiales=None arrastra_remolque='no' aventura=<NivelAventura.ocasional: 'ocasional'> solo_electricos='no' prioriza_baja_depreciacion='no' transmision_preferida=<Transmision.AMBOS: 'ambos'> rating_fiabilidad_durabilidad=7 rating_seguridad=7 rating_comodidad=9 rating_impacto_ambiental=5 rating_tecnologia_conectividad=5 rating_costes_uso=None\n",
      "DEBUG (Perfil) ► Guardando mensaje pendiente: Para finalizar, ¿qué tan importante es para ti que el vehículo sea económico en su uso diario y mantenimiento? (donde 0 significa 'No es importante en absoluto' y 10 significa 'Es extremadamente importante')\n",
      "--- Ejecutando Nodo: validar_preferencias_node ---\n",
      "--- DEBUG CHECK PERFIL ---\n",
      "Input prefs object: apasionado_motor='sí' valora_estetica='no' coche_principal_hogar='no' uso_profesional='no' tipo_uso_profesional=None prefiere_diseno_exclusivo='sí' altura_mayor_190='no' peso_mayor_100='no' transporta_carga_voluminosa='no' necesita_espacio_objetos_especiales=None arrastra_remolque='no' aventura=<NivelAventura.ocasional: 'ocasional'> solo_electricos='no' prioriza_baja_depreciacion='no' transmision_preferida=<Transmision.AMBOS: 'ambos'> rating_fiabilidad_durabilidad=7 rating_seguridad=7 rating_comodidad=9 rating_impacto_ambiental=5 rating_tecnologia_conectividad=5 rating_costes_uso=None\n",
      "Input prefs type: <class 'graph.perfil.state.PerfilUsuario'>\n",
      "DEBUG (Validation Perfil) ► Campo 'rating_costes_uso' está vacío/None.\n",
      "DEBUG (Perfil) ► Validación: PerfilUsuario considerado INCOMPLETO.\n",
      "--- Evaluando Condición: ruta_decision_perfil ---\n",
      "DEBUG (Condición Perfil) ► Estado 'preferencias_usuario' recibido: apasionado_motor='sí' valora_estetica='no' coche_principal_hogar='no' uso_profesional='no' tipo_uso_profesional=None prefiere_diseno_exclusivo='sí' altura_mayor_190='no' peso_mayor_100='no' transporta_carga_voluminosa='no' necesita_espacio_objetos_especiales=None arrastra_remolque='no' aventura=<NivelAventura.ocasional: 'ocasional'> solo_electricos='no' prioriza_baja_depreciacion='no' transmision_preferida=<Transmision.AMBOS: 'ambos'> rating_fiabilidad_durabilidad=7 rating_seguridad=7 rating_comodidad=9 rating_impacto_ambiental=5 rating_tecnologia_conectividad=5 rating_costes_uso=None\n",
      "DEBUG (Condición Perfil) ► Tipo de 'preferencias_usuario': <class 'graph.perfil.state.PerfilUsuario'>\n",
      "--- DEBUG CHECK PERFIL ---\n",
      "Input prefs object: apasionado_motor='sí' valora_estetica='no' coche_principal_hogar='no' uso_profesional='no' tipo_uso_profesional=None prefiere_diseno_exclusivo='sí' altura_mayor_190='no' peso_mayor_100='no' transporta_carga_voluminosa='no' necesita_espacio_objetos_especiales=None arrastra_remolque='no' aventura=<NivelAventura.ocasional: 'ocasional'> solo_electricos='no' prioriza_baja_depreciacion='no' transmision_preferida=<Transmision.AMBOS: 'ambos'> rating_fiabilidad_durabilidad=7 rating_seguridad=7 rating_comodidad=9 rating_impacto_ambiental=5 rating_tecnologia_conectividad=5 rating_costes_uso=None\n",
      "Input prefs type: <class 'graph.perfil.state.PerfilUsuario'>\n",
      "DEBUG (Validation Perfil) ► Campo 'rating_costes_uso' está vacío/None.\n",
      "DEBUG (Condición Perfil) ► Perfil INCOMPLETO. Se necesita pregunta.\n",
      "--- Ejecutando Nodo: preguntar_preferencias_node ---\n",
      "--- DEBUG CHECK PERFIL ---\n",
      "Input prefs object: apasionado_motor='sí' valora_estetica='no' coche_principal_hogar='no' uso_profesional='no' tipo_uso_profesional=None prefiere_diseno_exclusivo='sí' altura_mayor_190='no' peso_mayor_100='no' transporta_carga_voluminosa='no' necesita_espacio_objetos_especiales=None arrastra_remolque='no' aventura=<NivelAventura.ocasional: 'ocasional'> solo_electricos='no' prioriza_baja_depreciacion='no' transmision_preferida=<Transmision.AMBOS: 'ambos'> rating_fiabilidad_durabilidad=7 rating_seguridad=7 rating_comodidad=9 rating_impacto_ambiental=5 rating_tecnologia_conectividad=5 rating_costes_uso=None\n",
      "Input prefs type: <class 'graph.perfil.state.PerfilUsuario'>\n",
      "DEBUG (Validation Perfil) ► Campo 'rating_costes_uso' está vacío/None.\n",
      "DEBUG (Preguntar Perfil) ► Perfil aún INCOMPLETO según checker.\n",
      "DEBUG (Preguntar Perfil) ► Pregunta fallback generada: finalmente, ¿qué tan importante es para ti que el vehículo sea económico en su uso diario y mantenimiento? (0-10)?\n",
      "DEBUG (Preguntar Perfil) ► Usando mensaje pendiente (pregunta LLM): Para finalizar, ¿qué tan importante es para ti que el vehículo sea económico en su uso diario y mantenimiento? (donde 0 significa 'No es importante en absoluto' y 10 significa 'Es extremadamente importante')\n",
      "DEBUG (Preguntar Perfil) ► Mensaje final añadido: Para finalizar, ¿qué tan importante es para ti que el vehículo sea económico en su uso diario y mantenimiento? (donde 0 significa 'No es importante en absoluto' y 10 significa 'Es extremadamente importante')\n",
      "==================================\u001b[1m Ai Message \u001b[0m==================================\n",
      "\n",
      "Para finalizar, ¿qué tan importante es para ti que el vehículo sea económico en su uso diario y mantenimiento? (donde 0 significa 'No es importante en absoluto' y 10 significa 'Es extremadamente importante')\n"
     ]
    }
   ],
   "source": [
    "# Create a thread\n",
    "config = {\"configurable\": {\"thread_id\": \"1\"}}\n",
    "\n",
    "# Start conversation\n",
    "input_message = HumanMessage(content=\"no\")\n",
    "output = graph.invoke({\"messages\": [input_message]}, config) \n",
    "for m in output['messages'][-1:]:\n",
    "    m.pretty_print()"
   ]
  },
  {
   "cell_type": "code",
   "execution_count": 21,
   "metadata": {},
   "outputs": [
    {
     "name": "stdout",
     "output_type": "stream",
     "text": [
      "--- Ejecutando Nodo: route_based_on_state_node ---\n",
      "\n",
      "--- DEBUG: Evaluating Routing Decision ---\n",
      "DEBUG Router: CP OK? True\n",
      "--- DEBUG CHECK PERFIL ---\n",
      "Input prefs object: apasionado_motor='sí' valora_estetica='no' coche_principal_hogar='no' uso_profesional='no' tipo_uso_profesional=None prefiere_diseno_exclusivo='sí' altura_mayor_190='no' peso_mayor_100='no' transporta_carga_voluminosa='no' necesita_espacio_objetos_especiales=None arrastra_remolque='no' aventura=<NivelAventura.ocasional: 'ocasional'> solo_electricos='no' prioriza_baja_depreciacion='no' transmision_preferida=<Transmision.AMBOS: 'ambos'> rating_fiabilidad_durabilidad=7 rating_seguridad=7 rating_comodidad=9 rating_impacto_ambiental=5 rating_tecnologia_conectividad=5 rating_costes_uso=None\n",
      "Input prefs type: <class 'graph.perfil.state.PerfilUsuario'>\n",
      "DEBUG (Validation Perfil) ► Campo 'rating_costes_uso' está vacío/None.\n",
      "DEBUG Router: Prefs OK? False\n",
      "--- DEBUG CHECK PASAJEROS ---\n",
      "Input info pasajeros: None\n",
      "DEBUG (Validation Pasajeros) ► Objeto InfoPasajeros es None.\n",
      "DEBUG Router: Pasajeros OK? False\n",
      "DEBUG (Validation Filtros) ► Objeto FiltrosInferidos es None.\n",
      "DEBUG Router: Filtros OK? False\n",
      "--- DEBUG CHECK ECONOMIA (Manual) ---\n",
      "Input econ object: None\n",
      "DEBUG (Validation Economía Manual) ► Objeto EconomiaUsuario es None.\n",
      "DEBUG Router: Economía OK? False\n",
      "DEBUG Router: Pesos Calculados? False\n",
      "DEBUG Router: Coches Buscados? False\n",
      "--- DEBUG CHECK PERFIL ---\n",
      "Input prefs object: apasionado_motor='sí' valora_estetica='no' coche_principal_hogar='no' uso_profesional='no' tipo_uso_profesional=None prefiere_diseno_exclusivo='sí' altura_mayor_190='no' peso_mayor_100='no' transporta_carga_voluminosa='no' necesita_espacio_objetos_especiales=None arrastra_remolque='no' aventura=<NivelAventura.ocasional: 'ocasional'> solo_electricos='no' prioriza_baja_depreciacion='no' transmision_preferida=<Transmision.AMBOS: 'ambos'> rating_fiabilidad_durabilidad=7 rating_seguridad=7 rating_comodidad=9 rating_impacto_ambiental=5 rating_tecnologia_conectividad=5 rating_costes_uso=None\n",
      "Input prefs type: <class 'graph.perfil.state.PerfilUsuario'>\n",
      "DEBUG (Validation Perfil) ► Campo 'rating_costes_uso' está vacío/None.\n",
      "DEBUG Router: Decisión -> recopilar_preferencias\n",
      "--- Ejecutando Nodo: recopilar_preferencias_node ---\n",
      "DEBUG (Perfil) ► Último mensaje es HumanMessage o historial vacío, llamando a llm_solo_perfil...\n"
     ]
    },
    {
     "name": "stderr",
     "output_type": "stream",
     "text": [
      "INFO (RAG): HTTP Request: POST https://api.openai.com/v1/chat/completions \"HTTP/1.1 200 OK\"\n"
     ]
    },
    {
     "name": "stdout",
     "output_type": "stream",
     "text": [
      "DEBUG (Perfil) ► Respuesta llm_solo_perfil: preferencias_usuario=PerfilUsuario(apasionado_motor='sí', valora_estetica='no', coche_principal_hogar='no', uso_profesional='no', tipo_uso_profesional=None, prefiere_diseno_exclusivo='sí', altura_mayor_190='no', peso_mayor_100='no', transporta_carga_voluminosa='no', necesita_espacio_objetos_especiales=None, arrastra_remolque='no', aventura=<NivelAventura.ocasional: 'ocasional'>, solo_electricos='no', prioriza_baja_depreciacion='no', transmision_preferida=<Transmision.AMBOS: 'ambos'>, rating_fiabilidad_durabilidad=7, rating_seguridad=7, rating_comodidad=9, rating_impacto_ambiental=5, rating_tecnologia_conectividad=5, rating_costes_uso=8) tipo_mensaje='CONFIRMACION' contenido_mensaje=''\n",
      "DEBUG (Perfil) ► Preferencias TRAS post-procesamiento: apasionado_motor='sí' valora_estetica='no' coche_principal_hogar='no' uso_profesional='no' tipo_uso_profesional=None prefiere_diseno_exclusivo='sí' altura_mayor_190='no' peso_mayor_100='no' transporta_carga_voluminosa='no' necesita_espacio_objetos_especiales=None arrastra_remolque='no' aventura=<NivelAventura.ocasional: 'ocasional'> solo_electricos='no' prioriza_baja_depreciacion='no' transmision_preferida=<Transmision.AMBOS: 'ambos'> rating_fiabilidad_durabilidad=7 rating_seguridad=7 rating_comodidad=9 rating_impacto_ambiental=5 rating_tecnologia_conectividad=5 rating_costes_uso=8\n",
      "DEBUG (Perfil) ► Estado preferencias_usuario actualizado: apasionado_motor='sí' valora_estetica='no' coche_principal_hogar='no' uso_profesional='no' tipo_uso_profesional=None prefiere_diseno_exclusivo='sí' altura_mayor_190='no' peso_mayor_100='no' transporta_carga_voluminosa='no' necesita_espacio_objetos_especiales=None arrastra_remolque='no' aventura=<NivelAventura.ocasional: 'ocasional'> solo_electricos='no' prioriza_baja_depreciacion='no' transmision_preferida=<Transmision.AMBOS: 'ambos'> rating_fiabilidad_durabilidad=7 rating_seguridad=7 rating_comodidad=9 rating_impacto_ambiental=5 rating_tecnologia_conectividad=5 rating_costes_uso=8\n",
      "DEBUG (Perfil) ► No hay mensaje pendiente.\n",
      "--- Ejecutando Nodo: validar_preferencias_node ---\n",
      "--- DEBUG CHECK PERFIL ---\n",
      "Input prefs object: apasionado_motor='sí' valora_estetica='no' coche_principal_hogar='no' uso_profesional='no' tipo_uso_profesional=None prefiere_diseno_exclusivo='sí' altura_mayor_190='no' peso_mayor_100='no' transporta_carga_voluminosa='no' necesita_espacio_objetos_especiales=None arrastra_remolque='no' aventura=<NivelAventura.ocasional: 'ocasional'> solo_electricos='no' prioriza_baja_depreciacion='no' transmision_preferida=<Transmision.AMBOS: 'ambos'> rating_fiabilidad_durabilidad=7 rating_seguridad=7 rating_comodidad=9 rating_impacto_ambiental=5 rating_tecnologia_conectividad=5 rating_costes_uso=8\n",
      "Input prefs type: <class 'graph.perfil.state.PerfilUsuario'>\n",
      "DEBUG (Validation Perfil) ► Todos los campos obligatorios del perfil están presentes.\n",
      "DEBUG (Perfil) ► Validación: PerfilUsuario considerado COMPLETO.\n",
      "--- Evaluando Condición: ruta_decision_perfil ---\n",
      "DEBUG (Condición Perfil) ► Estado 'preferencias_usuario' recibido: apasionado_motor='sí' valora_estetica='no' coche_principal_hogar='no' uso_profesional='no' tipo_uso_profesional=None prefiere_diseno_exclusivo='sí' altura_mayor_190='no' peso_mayor_100='no' transporta_carga_voluminosa='no' necesita_espacio_objetos_especiales=None arrastra_remolque='no' aventura=<NivelAventura.ocasional: 'ocasional'> solo_electricos='no' prioriza_baja_depreciacion='no' transmision_preferida=<Transmision.AMBOS: 'ambos'> rating_fiabilidad_durabilidad=7 rating_seguridad=7 rating_comodidad=9 rating_impacto_ambiental=5 rating_tecnologia_conectividad=5 rating_costes_uso=8\n",
      "DEBUG (Condición Perfil) ► Tipo de 'preferencias_usuario': <class 'graph.perfil.state.PerfilUsuario'>\n",
      "--- DEBUG CHECK PERFIL ---\n",
      "Input prefs object: apasionado_motor='sí' valora_estetica='no' coche_principal_hogar='no' uso_profesional='no' tipo_uso_profesional=None prefiere_diseno_exclusivo='sí' altura_mayor_190='no' peso_mayor_100='no' transporta_carga_voluminosa='no' necesita_espacio_objetos_especiales=None arrastra_remolque='no' aventura=<NivelAventura.ocasional: 'ocasional'> solo_electricos='no' prioriza_baja_depreciacion='no' transmision_preferida=<Transmision.AMBOS: 'ambos'> rating_fiabilidad_durabilidad=7 rating_seguridad=7 rating_comodidad=9 rating_impacto_ambiental=5 rating_tecnologia_conectividad=5 rating_costes_uso=8\n",
      "Input prefs type: <class 'graph.perfil.state.PerfilUsuario'>\n",
      "DEBUG (Validation Perfil) ► Todos los campos obligatorios del perfil están presentes.\n",
      "DEBUG (Condición Perfil) ► Perfil COMPLETO. Avanzando a filtros.\n",
      "--- Ejecutando Nodo: recopilar_info_pasajeros_node ---\n",
      "DEBUG (Pasajeros) ► Último mensaje es HumanMessage o inicio de etapa, llamando a llm_pasajeros...\n"
     ]
    },
    {
     "name": "stderr",
     "output_type": "stream",
     "text": [
      "INFO (RAG): HTTP Request: POST https://api.openai.com/v1/chat/completions \"HTTP/1.1 200 OK\"\n"
     ]
    },
    {
     "name": "stdout",
     "output_type": "stream",
     "text": [
      "DEBUG (Pasajeros) ► Respuesta llm_pasajeros: info_pasajeros=InfoPasajeros(frecuencia=None, num_ninos_silla=None, num_otros_pasajeros=None) tipo_mensaje='PREGUNTA' contenido_mensaje='Cuéntame, ¿sueles viajar con acompañantes en el coche habitualmente? (nunca/ocasional/frecuente)'\n",
      "DEBUG (Pasajeros) ► Tipo='PREGUNTA', Contenido='Cuéntame, ¿sueles viajar con acompañantes en el coche habitualmente? (nunca/ocasional/frecuente)'\n",
      "DEBUG (Pasajeros) ► Info Pasajeros LLM: frecuencia=None num_ninos_silla=None num_otros_pasajeros=None\n",
      "DEBUG (Pasajeros) ► Estado info_pasajeros actualizado: frecuencia=None num_ninos_silla=None num_otros_pasajeros=None\n",
      "DEBUG (Pasajeros) ► Guardando mensaje pendiente: Cuéntame, ¿sueles viajar con acompañantes en el coche habitualmente? (nunca/ocasional/frecuente)\n",
      "--- Ejecutando Nodo: validar_info_pasajeros_node ---\n",
      "--- DEBUG CHECK PASAJEROS ---\n",
      "Input info pasajeros: frecuencia=None num_ninos_silla=None num_otros_pasajeros=None\n",
      "DEBUG (Validation Pasajeros) ► info.frecuencia es None.\n",
      "DEBUG (Pasajeros) ► Validación: Info Pasajeros considerada INCOMPLETA.\n",
      "--- Evaluando Condición: ruta_decision_pasajeros ---\n",
      "--- DEBUG CHECK PASAJEROS ---\n",
      "Input info pasajeros: frecuencia=None num_ninos_silla=None num_otros_pasajeros=None\n",
      "DEBUG (Validation Pasajeros) ► info.frecuencia es None.\n",
      "DEBUG (Condición Pasajeros) ► INCOMPLETO. Se necesita pregunta.\n",
      "--- Ejecutando Nodo: preguntar_info_pasajeros_node ---\n",
      "--- DEBUG CHECK PASAJEROS ---\n",
      "Input info pasajeros: frecuencia=None num_ninos_silla=None num_otros_pasajeros=None\n",
      "DEBUG (Validation Pasajeros) ► info.frecuencia es None.\n",
      "DEBUG (Preguntar Pasajeros) ► Info Pasajeros aún INCOMPLETA según checker.\n",
      "DEBUG (Preguntar Pasajeros) ► Pregunta fallback generada: Cuéntame, ¿sueles viajar con acompañantes en el coche habitualmente? (nunca/ocasional/frecuente)\n",
      "DEBUG (Preguntar Pasajeros) ► Usando mensaje pendiente (pregunta LLM): Cuéntame, ¿sueles viajar con acompañantes en el coche habitualmente? (nunca/ocasional/frecuente)\n",
      "DEBUG (Preguntar Pasajeros) ► Mensaje final añadido: Cuéntame, ¿sueles viajar con acompañantes en el coche habitualmente? (nunca/ocasional/frecuente)\n",
      "==================================\u001b[1m Ai Message \u001b[0m==================================\n",
      "\n",
      "Cuéntame, ¿sueles viajar con acompañantes en el coche habitualmente? (nunca/ocasional/frecuente)\n"
     ]
    }
   ],
   "source": [
    "# Create a thread\n",
    "config = {\"configurable\": {\"thread_id\": \"1\"}}\n",
    "\n",
    "# Start conversation\n",
    "input_message = HumanMessage(content=\"8\")\n",
    "output = graph.invoke({\"messages\": [input_message]}, config) \n",
    "for m in output['messages'][-1:]:\n",
    "    m.pretty_print()"
   ]
  },
  {
   "cell_type": "code",
   "execution_count": 22,
   "metadata": {},
   "outputs": [
    {
     "name": "stdout",
     "output_type": "stream",
     "text": [
      "--- Ejecutando Nodo: route_based_on_state_node ---\n",
      "\n",
      "--- DEBUG: Evaluating Routing Decision ---\n",
      "DEBUG Router: CP OK? True\n",
      "--- DEBUG CHECK PERFIL ---\n",
      "Input prefs object: apasionado_motor='sí' valora_estetica='no' coche_principal_hogar='no' uso_profesional='no' tipo_uso_profesional=None prefiere_diseno_exclusivo='sí' altura_mayor_190='no' peso_mayor_100='no' transporta_carga_voluminosa='no' necesita_espacio_objetos_especiales=None arrastra_remolque='no' aventura=<NivelAventura.ocasional: 'ocasional'> solo_electricos='no' prioriza_baja_depreciacion='no' transmision_preferida=<Transmision.AMBOS: 'ambos'> rating_fiabilidad_durabilidad=7 rating_seguridad=7 rating_comodidad=9 rating_impacto_ambiental=5 rating_tecnologia_conectividad=5 rating_costes_uso=8\n",
      "Input prefs type: <class 'graph.perfil.state.PerfilUsuario'>\n",
      "DEBUG (Validation Perfil) ► Todos los campos obligatorios del perfil están presentes.\n",
      "DEBUG Router: Prefs OK? True\n",
      "--- DEBUG CHECK PASAJEROS ---\n",
      "Input info pasajeros: frecuencia=None num_ninos_silla=None num_otros_pasajeros=None\n",
      "DEBUG (Validation Pasajeros) ► info.frecuencia es None.\n",
      "DEBUG Router: Pasajeros OK? False\n",
      "DEBUG (Validation Filtros) ► Objeto FiltrosInferidos es None.\n",
      "DEBUG Router: Filtros OK? False\n",
      "--- DEBUG CHECK ECONOMIA (Manual) ---\n",
      "Input econ object: None\n",
      "DEBUG (Validation Economía Manual) ► Objeto EconomiaUsuario es None.\n",
      "DEBUG Router: Economía OK? False\n",
      "DEBUG Router: Pesos Calculados? False\n",
      "DEBUG Router: Coches Buscados? False\n",
      "--- DEBUG CHECK PERFIL ---\n",
      "Input prefs object: apasionado_motor='sí' valora_estetica='no' coche_principal_hogar='no' uso_profesional='no' tipo_uso_profesional=None prefiere_diseno_exclusivo='sí' altura_mayor_190='no' peso_mayor_100='no' transporta_carga_voluminosa='no' necesita_espacio_objetos_especiales=None arrastra_remolque='no' aventura=<NivelAventura.ocasional: 'ocasional'> solo_electricos='no' prioriza_baja_depreciacion='no' transmision_preferida=<Transmision.AMBOS: 'ambos'> rating_fiabilidad_durabilidad=7 rating_seguridad=7 rating_comodidad=9 rating_impacto_ambiental=5 rating_tecnologia_conectividad=5 rating_costes_uso=8\n",
      "Input prefs type: <class 'graph.perfil.state.PerfilUsuario'>\n",
      "DEBUG (Validation Perfil) ► Todos los campos obligatorios del perfil están presentes.\n",
      "--- DEBUG CHECK PASAJEROS ---\n",
      "Input info pasajeros: frecuencia=None num_ninos_silla=None num_otros_pasajeros=None\n",
      "DEBUG (Validation Pasajeros) ► info.frecuencia es None.\n",
      "DEBUG Router: Decisión -> recopilar_info_pasajeros\n",
      "--- Ejecutando Nodo: recopilar_info_pasajeros_node ---\n",
      "DEBUG (Pasajeros) ► Último mensaje es HumanMessage o inicio de etapa, llamando a llm_pasajeros...\n"
     ]
    },
    {
     "name": "stderr",
     "output_type": "stream",
     "text": [
      "INFO (RAG): HTTP Request: POST https://api.openai.com/v1/chat/completions \"HTTP/1.1 200 OK\"\n"
     ]
    },
    {
     "name": "stdout",
     "output_type": "stream",
     "text": [
      "DEBUG (Pasajeros) ► Respuesta llm_pasajeros: info_pasajeros=InfoPasajeros(frecuencia='nunca', num_ninos_silla=0, num_otros_pasajeros=0) tipo_mensaje='CONFIRMACION' contenido_mensaje='Entendido, normalmente viajas solo.'\n",
      "DEBUG (Pasajeros) ► Tipo='CONFIRMACION', Contenido='Entendido, normalmente viajas solo.'\n",
      "DEBUG (Pasajeros) ► Info Pasajeros LLM: frecuencia='nunca' num_ninos_silla=0 num_otros_pasajeros=0\n",
      "DEBUG (Pasajeros) ► Estado info_pasajeros actualizado: frecuencia='nunca' num_ninos_silla=0 num_otros_pasajeros=0\n",
      "DEBUG (Pasajeros) ► Guardando mensaje pendiente: Entendido, normalmente viajas solo.\n",
      "--- Ejecutando Nodo: validar_info_pasajeros_node ---\n",
      "--- DEBUG CHECK PASAJEROS ---\n",
      "Input info pasajeros: frecuencia='nunca' num_ninos_silla=0 num_otros_pasajeros=0\n",
      "DEBUG (Validation Pasajeros) ► Frecuencia es 'nunca'. Considerado COMPLETO.\n",
      "DEBUG (Pasajeros) ► Validación: Info Pasajeros considerada COMPLETA.\n",
      "--- Evaluando Condición: ruta_decision_pasajeros ---\n",
      "--- DEBUG CHECK PASAJEROS ---\n",
      "Input info pasajeros: frecuencia='nunca' num_ninos_silla=0 num_otros_pasajeros=0\n",
      "DEBUG (Validation Pasajeros) ► Frecuencia es 'nunca'. Considerado COMPLETO.\n",
      "DEBUG (Condición Pasajeros) ► COMPLETO. Aplicando filtros derivados.\n",
      "--- Ejecutando Nodo: aplicar_filtros_pasajeros_node ---\n",
      "DEBUG (Aplicar Filtros Pasajeros) ► Info recibida: freq='nunca', X=0, Z=0\n",
      "DEBUG (Aplicar Filtros Pasajeros) ► Calculado plazas_min = 1\n",
      "DEBUG (Aplicar Filtros Pasajeros) ► Frecuencia es 'nunca' o None. Flags de priorizar_ancho y penalizar_puertas se mantienen en su default (False).\n",
      "DEBUG (Aplicar Filtros Pasajeros) ► Filtros actualizados (con plazas_min): estetica_min=None tipo_mecanica=None premium_min=None singular_min=None tipo_carroceria=None modo_adquisicion_recomendado=None precio_max_contado_recomendado=None cuota_max_calculada=None plazas_min=1\n",
      "--- Ejecutando Nodo: inferir_filtros_node ---\n",
      "DEBUG (Filtros) ► Preferencias de usuario disponibles. Procediendo...\n",
      "DEBUG (Filtros) ► Prompt para llm_solo_filtros (parcial): <Role>\n",
      "Eres un asistente técnico experto en vehículos. Tu función es traducir las preferencias generales de un usuario en filtros técnicos específicos para la búsqueda de coches. Debes basarte estrictamente en las preferencias proporcionadas y generar una respuesta JSON que SIEMPRE se ajuste al esquema `ResultadoSoloFiltros`.\n",
      "</Role>\n",
      "\n",
      "<Contexto_Preferencias_Usuario>\n",
      "\n",
      "<Esquema_JSON_Requerido>\n",
      "A continuación se detallan las preferencias del usuario recopiladas previamente. Úsalas como base INDISPE...\n"
     ]
    },
    {
     "name": "stderr",
     "output_type": "stream",
     "text": [
      "INFO (RAG): HTTP Request: POST https://api.openai.com/v1/chat/completions \"HTTP/1.1 200 OK\"\n"
     ]
    },
    {
     "name": "stdout",
     "output_type": "stream",
     "text": [
      "DEBUG (Filtros) ► Respuesta llm_solo_filtros: filtros_inferidos=FiltrosInferidos(estetica_min=1.0, tipo_mecanica=[<TipoMecanica.GASOLINA: 'GASOLINA'>, <TipoMecanica.BEV: 'BEV'>, <TipoMecanica.HEVD: 'HEVD'>, <TipoMecanica.HEVG: 'HEVG'>], premium_min=5.0, singular_min=5.0, tipo_carroceria=None, modo_adquisicion_recomendado=None, precio_max_contado_recomendado=None, cuota_max_calculada=None, plazas_min=1) mensaje_validacion='Ok, he definido los filtros técnicos basados en tus preferencias.'\n",
      "\n",
      "--- DEBUG DENTRO PostProc Filtros ---\n",
      "Recibido Prefs: apasionado_motor='sí' valora_estetica='no' coche_principal_hogar='no' uso_profesional='no' tipo_uso_profesional=None prefiere_diseno_exclusivo='sí' altura_mayor_190='no' peso_mayor_100='no' transporta_carga_voluminosa='no' necesita_espacio_objetos_especiales=None arrastra_remolque='no' aventura=<NivelAventura.ocasional: 'ocasional'> solo_electricos='no' prioriza_baja_depreciacion='no' transmision_preferida=<Transmision.AMBOS: 'ambos'> rating_fiabilidad_durabilidad=7 rating_seguridad=7 rating_comodidad=9 rating_impacto_ambiental=5 rating_tecnologia_conectividad=5 rating_costes_uso=8\n",
      "Recibido Filtros (antes): estetica_min=1.0 tipo_mecanica=[<TipoMecanica.GASOLINA: 'GASOLINA'>, <TipoMecanica.BEV: 'BEV'>, <TipoMecanica.HEVD: 'HEVD'>, <TipoMecanica.HEVG: 'HEVG'>] premium_min=5.0 singular_min=5.0 tipo_carroceria=None modo_adquisicion_recomendado=None precio_max_contado_recomendado=None cuota_max_calculada=None plazas_min=1\n",
      "DEBUG PostProc Filtros: Evaluando premium_min. apasionado_motor='sí'\n",
      "DEBUG (PostProc Filtros) ► Aplicando regla premium: de 5.0 a 3.0\n",
      "DEBUG PostProc Filtros: Evaluando singular_min. apasionado_motor='sí', prefiere_exclusivo='sí'\n",
      "DEBUG PostProc Filtros: apasionado_motor='sí', suma +3.0 a singular_min. Subtotal: 3.0\n",
      "DEBUG PostProc Filtros: prefiere_diseno_exclusivo='sí', suma +3.0 a singular_min. Total: 6.0\n",
      "DEBUG (PostProc Filtros) ► Aplicando regla singular (aditiva): de 5.0 a 6.0\n",
      "--- FIN DEBUG DENTRO PostProc Filtros --- Filtros actualizados finales: estetica_min=1.0 tipo_mecanica=[<TipoMecanica.GASOLINA: 'GASOLINA'>, <TipoMecanica.BEV: 'BEV'>, <TipoMecanica.HEVD: 'HEVD'>, <TipoMecanica.HEVG: 'HEVG'>] premium_min=3.0 singular_min=6.0 tipo_carroceria=None modo_adquisicion_recomendado=None precio_max_contado_recomendado=None cuota_max_calculada=None plazas_min=1\n",
      "DEBUG (Filtros) ► Filtros TRAS post-procesamiento: estetica_min=1.0 tipo_mecanica=[<TipoMecanica.GASOLINA: 'GASOLINA'>, <TipoMecanica.BEV: 'BEV'>, <TipoMecanica.HEVD: 'HEVD'>, <TipoMecanica.HEVG: 'HEVG'>] premium_min=3.0 singular_min=6.0 tipo_carroceria=None modo_adquisicion_recomendado=None precio_max_contado_recomendado=None cuota_max_calculada=None plazas_min=1\n",
      "DEBUG (Filtros) ► Estado filtros_inferidos actualizado: estetica_min=1.0 tipo_mecanica=[<TipoMecanica.GASOLINA: 'GASOLINA'>, <TipoMecanica.BEV: 'BEV'>, <TipoMecanica.HEVD: 'HEVD'>, <TipoMecanica.HEVG: 'HEVG'>] premium_min=3.0 singular_min=6.0 tipo_carroceria=None modo_adquisicion_recomendado=None precio_max_contado_recomendado=None cuota_max_calculada=None plazas_min=1\n",
      "--- Ejecutando Nodo: validar_filtros_node ---\n",
      "DEBUG (Validation Filtros) ► Todos los campos obligatorios de filtros ('tipo_mecanica') están presentes y válidos.\n",
      "DEBUG (Filtros) ► Validación: FiltrosInferidos considerados COMPLETOS.\n",
      "--- Evaluando Condición: ruta_decision_filtros ---\n",
      "DEBUG (Validation Filtros) ► Todos los campos obligatorios de filtros ('tipo_mecanica') están presentes y válidos.\n",
      "DEBUG (Condición Filtros) ► Filtros COMPLETOS. Avanzando a economía.\n",
      "--- Ejecutando Nodo: recopilar_economia_node ---\n",
      "DEBUG (Economía) ► Llamando a llm_economia...\n"
     ]
    },
    {
     "name": "stderr",
     "output_type": "stream",
     "text": [
      "INFO (RAG): HTTP Request: POST https://api.openai.com/v1/chat/completions \"HTTP/1.1 200 OK\"\n"
     ]
    },
    {
     "name": "stdout",
     "output_type": "stream",
     "text": [
      "DEBUG (Economía) ► Respuesta llm_economia: economia=EconomiaUsuario(modo=None, submodo=None, ingresos=None, ahorro=None, pago_contado=None, cuota_max=None, entrada=None, anos_posesion=None) mensaje_validacion='Con el fin de conocer tus preferencias financieras que opcion prefieres:\\n  1.Prefiero que me aconsejes con criterios de inteligencia financiera.\\n  2. Prefiero indicar yo mismo cuánto y cómo gastar.'\n",
      "DEBUG (Economía) ► Estado economía actualizado: modo=None submodo=None ingresos=None ahorro=None pago_contado=None cuota_max=None entrada=None anos_posesion=None\n",
      "DEBUG (Economía) ► Guardando pregunta pendiente: Con el fin de conocer tus preferencias financieras que opcion prefieres:\n",
      "  1.Prefiero que me aconsejes con criterios de inteligencia financiera.\n",
      "  2. Prefiero indicar yo mismo cuánto y cómo gastar.\n",
      "--- Ejecutando Nodo: validar_economia_node ---\n",
      "--- DEBUG CHECK ECONOMIA (Manual) ---\n",
      "Input econ object: modo=None submodo=None ingresos=None ahorro=None pago_contado=None cuota_max=None entrada=None anos_posesion=None\n",
      "DEBUG (Validation Economía Manual) ► econ.modo es None.\n",
      "DEBUG (Economía) ► Validación: Economía considerada INCOMPLETA.\n",
      "--- Evaluando Condición: ruta_decision_economia ---\n",
      "--- DEBUG CHECK ECONOMIA (Manual) ---\n",
      "Input econ object: modo=None submodo=None ingresos=None ahorro=None pago_contado=None cuota_max=None entrada=None anos_posesion=None\n",
      "DEBUG (Validation Economía Manual) ► econ.modo es None.\n",
      "DEBUG (Condición Economía) ► Economía INCOMPLETA. Se necesita pregunta.\n",
      "--- Ejecutando Nodo: preguntar_economia_node ---\n",
      "DEBUG (Preguntar Economía) ► Usando pregunta guardada: Con el fin de conocer tus preferencias financieras que opcion prefieres:\n",
      "  1.Prefiero que me aconsejes con criterios de inteligencia financiera.\n",
      "  2. Prefiero indicar yo mismo cuánto y cómo gastar.\n",
      "DEBUG (Preguntar Economía) ► Mensaje final añadido: Con el fin de conocer tus preferencias financieras que opcion prefieres:\n",
      "  1.Prefiero que me aconsejes con criterios de inteligencia financiera.\n",
      "  2. Prefiero indicar yo mismo cuánto y cómo gastar.\n",
      "==================================\u001b[1m Ai Message \u001b[0m==================================\n",
      "\n",
      "Con el fin de conocer tus preferencias financieras que opcion prefieres:\n",
      "  1.Prefiero que me aconsejes con criterios de inteligencia financiera.\n",
      "  2. Prefiero indicar yo mismo cuánto y cómo gastar.\n"
     ]
    }
   ],
   "source": [
    "# Create a thread\n",
    "config = {\"configurable\": {\"thread_id\": \"1\"}}\n",
    "\n",
    "# Start conversation\n",
    "input_message = HumanMessage(content=\"nunca\")\n",
    "output = graph.invoke({\"messages\": [input_message]}, config) \n",
    "for m in output['messages'][-1:]:\n",
    "    m.pretty_print()"
   ]
  },
  {
   "cell_type": "code",
   "execution_count": 23,
   "metadata": {},
   "outputs": [
    {
     "name": "stdout",
     "output_type": "stream",
     "text": [
      "--- Ejecutando Nodo: route_based_on_state_node ---\n",
      "\n",
      "--- DEBUG: Evaluating Routing Decision ---\n",
      "DEBUG Router: CP OK? True\n",
      "--- DEBUG CHECK PERFIL ---\n",
      "Input prefs object: apasionado_motor='sí' valora_estetica='no' coche_principal_hogar='no' uso_profesional='no' tipo_uso_profesional=None prefiere_diseno_exclusivo='sí' altura_mayor_190='no' peso_mayor_100='no' transporta_carga_voluminosa='no' necesita_espacio_objetos_especiales=None arrastra_remolque='no' aventura=<NivelAventura.ocasional: 'ocasional'> solo_electricos='no' prioriza_baja_depreciacion='no' transmision_preferida=<Transmision.AMBOS: 'ambos'> rating_fiabilidad_durabilidad=7 rating_seguridad=7 rating_comodidad=9 rating_impacto_ambiental=5 rating_tecnologia_conectividad=5 rating_costes_uso=8\n",
      "Input prefs type: <class 'graph.perfil.state.PerfilUsuario'>\n",
      "DEBUG (Validation Perfil) ► Todos los campos obligatorios del perfil están presentes.\n",
      "DEBUG Router: Prefs OK? True\n",
      "--- DEBUG CHECK PASAJEROS ---\n",
      "Input info pasajeros: frecuencia='nunca' num_ninos_silla=0 num_otros_pasajeros=0\n",
      "DEBUG (Validation Pasajeros) ► Frecuencia es 'nunca'. Considerado COMPLETO.\n",
      "DEBUG Router: Pasajeros OK? True\n",
      "DEBUG (Validation Filtros) ► Todos los campos obligatorios de filtros ('tipo_mecanica') están presentes y válidos.\n",
      "DEBUG Router: Filtros OK? True\n",
      "--- DEBUG CHECK ECONOMIA (Manual) ---\n",
      "Input econ object: modo=None submodo=None ingresos=None ahorro=None pago_contado=None cuota_max=None entrada=None anos_posesion=None\n",
      "DEBUG (Validation Economía Manual) ► econ.modo es None.\n",
      "DEBUG Router: Economía OK? False\n",
      "DEBUG Router: Pesos Calculados? False\n",
      "DEBUG Router: Coches Buscados? False\n",
      "--- DEBUG CHECK PERFIL ---\n",
      "Input prefs object: apasionado_motor='sí' valora_estetica='no' coche_principal_hogar='no' uso_profesional='no' tipo_uso_profesional=None prefiere_diseno_exclusivo='sí' altura_mayor_190='no' peso_mayor_100='no' transporta_carga_voluminosa='no' necesita_espacio_objetos_especiales=None arrastra_remolque='no' aventura=<NivelAventura.ocasional: 'ocasional'> solo_electricos='no' prioriza_baja_depreciacion='no' transmision_preferida=<Transmision.AMBOS: 'ambos'> rating_fiabilidad_durabilidad=7 rating_seguridad=7 rating_comodidad=9 rating_impacto_ambiental=5 rating_tecnologia_conectividad=5 rating_costes_uso=8\n",
      "Input prefs type: <class 'graph.perfil.state.PerfilUsuario'>\n",
      "DEBUG (Validation Perfil) ► Todos los campos obligatorios del perfil están presentes.\n",
      "--- DEBUG CHECK PASAJEROS ---\n",
      "Input info pasajeros: frecuencia='nunca' num_ninos_silla=0 num_otros_pasajeros=0\n",
      "DEBUG (Validation Pasajeros) ► Frecuencia es 'nunca'. Considerado COMPLETO.\n",
      "DEBUG (Validation Filtros) ► Todos los campos obligatorios de filtros ('tipo_mecanica') están presentes y válidos.\n",
      "--- DEBUG CHECK ECONOMIA (Manual) ---\n",
      "Input econ object: modo=None submodo=None ingresos=None ahorro=None pago_contado=None cuota_max=None entrada=None anos_posesion=None\n",
      "DEBUG (Validation Economía Manual) ► econ.modo es None.\n",
      "DEBUG Router: Decisión -> recopilar_economia\n",
      "--- Ejecutando Nodo: recopilar_economia_node ---\n",
      "DEBUG (Economía) ► Llamando a llm_economia...\n"
     ]
    },
    {
     "name": "stderr",
     "output_type": "stream",
     "text": [
      "INFO (RAG): HTTP Request: POST https://api.openai.com/v1/chat/completions \"HTTP/1.1 200 OK\"\n"
     ]
    },
    {
     "name": "stdout",
     "output_type": "stream",
     "text": [
      "DEBUG (Economía) ► Respuesta llm_economia: economia=EconomiaUsuario(modo=2, submodo=None, ingresos=None, ahorro=None, pago_contado=None, cuota_max=None, entrada=None, anos_posesion=None) mensaje_validacion='De acuerdo, tú defines el presupuesto. Que opción prefieres?\\n 1) Tienes pensado pagar el coche al contado\\n 2) prefieres financiarlo en cuotas mensuales'\n",
      "DEBUG (Economía) ► Estado economía actualizado: modo=2 submodo=None ingresos=None ahorro=None pago_contado=None cuota_max=None entrada=None anos_posesion=None\n",
      "DEBUG (Economía) ► Guardando pregunta pendiente: De acuerdo, tú defines el presupuesto. Que opción prefieres?\n",
      " 1) Tienes pensado pagar el coche al contado\n",
      " 2) prefieres financiarlo en cuotas mensuales\n",
      "--- Ejecutando Nodo: validar_economia_node ---\n",
      "--- DEBUG CHECK ECONOMIA (Manual) ---\n",
      "Input econ object: modo=2 submodo=None ingresos=None ahorro=None pago_contado=None cuota_max=None entrada=None anos_posesion=None\n",
      "DEBUG (Validation Economía Manual) ► Modo 2 INCOMPLETO (submodo inválido o None: None).\n",
      "DEBUG (Economía) ► Validación: Economía considerada INCOMPLETA.\n",
      "--- Evaluando Condición: ruta_decision_economia ---\n",
      "--- DEBUG CHECK ECONOMIA (Manual) ---\n",
      "Input econ object: modo=2 submodo=None ingresos=None ahorro=None pago_contado=None cuota_max=None entrada=None anos_posesion=None\n",
      "DEBUG (Validation Economía Manual) ► Modo 2 INCOMPLETO (submodo inválido o None: None).\n",
      "DEBUG (Condición Economía) ► Economía INCOMPLETA. Se necesita pregunta.\n",
      "--- Ejecutando Nodo: preguntar_economia_node ---\n",
      "DEBUG (Preguntar Economía) ► Usando pregunta guardada: De acuerdo, tú defines el presupuesto. Que opción prefieres?\n",
      " 1) Tienes pensado pagar el coche al contado\n",
      " 2) prefieres financiarlo en cuotas mensuales\n",
      "DEBUG (Preguntar Economía) ► Mensaje final añadido: De acuerdo, tú defines el presupuesto. Que opción prefieres?\n",
      " 1) Tienes pensado pagar el coche al contado\n",
      " 2) prefieres financiarlo en cuotas mensuales\n",
      "==================================\u001b[1m Ai Message \u001b[0m==================================\n",
      "\n",
      "De acuerdo, tú defines el presupuesto. Que opción prefieres?\n",
      " 1) Tienes pensado pagar el coche al contado\n",
      " 2) prefieres financiarlo en cuotas mensuales\n"
     ]
    }
   ],
   "source": [
    "# Create a thread\n",
    "config = {\"configurable\": {\"thread_id\": \"1\"}}\n",
    "\n",
    "# Start conversation\n",
    "input_message = HumanMessage(content=\"la 2\")\n",
    "output = graph.invoke({\"messages\": [input_message]}, config) \n",
    "for m in output['messages'][-1:]:\n",
    "    m.pretty_print()"
   ]
  },
  {
   "cell_type": "code",
   "execution_count": 25,
   "metadata": {},
   "outputs": [
    {
     "name": "stdout",
     "output_type": "stream",
     "text": [
      "--- Ejecutando Nodo: route_based_on_state_node ---\n",
      "\n",
      "--- DEBUG: Evaluating Routing Decision ---\n",
      "DEBUG Router: CP OK? True\n",
      "--- DEBUG CHECK PERFIL ---\n",
      "Input prefs object: apasionado_motor='sí' valora_estetica='no' coche_principal_hogar='no' uso_profesional='no' tipo_uso_profesional=None prefiere_diseno_exclusivo='sí' altura_mayor_190='no' peso_mayor_100='no' transporta_carga_voluminosa='no' necesita_espacio_objetos_especiales=None arrastra_remolque='no' aventura=<NivelAventura.ocasional: 'ocasional'> solo_electricos='no' prioriza_baja_depreciacion='no' transmision_preferida=<Transmision.AMBOS: 'ambos'> rating_fiabilidad_durabilidad=7 rating_seguridad=7 rating_comodidad=9 rating_impacto_ambiental=5 rating_tecnologia_conectividad=5 rating_costes_uso=8\n",
      "Input prefs type: <class 'graph.perfil.state.PerfilUsuario'>\n",
      "DEBUG (Validation Perfil) ► Todos los campos obligatorios del perfil están presentes.\n",
      "DEBUG Router: Prefs OK? True\n",
      "--- DEBUG CHECK PASAJEROS ---\n",
      "Input info pasajeros: frecuencia='nunca' num_ninos_silla=0 num_otros_pasajeros=0\n",
      "DEBUG (Validation Pasajeros) ► Frecuencia es 'nunca'. Considerado COMPLETO.\n",
      "DEBUG Router: Pasajeros OK? True\n",
      "DEBUG (Validation Filtros) ► Todos los campos obligatorios de filtros ('tipo_mecanica') están presentes y válidos.\n",
      "DEBUG Router: Filtros OK? True\n",
      "--- DEBUG CHECK ECONOMIA (Manual) ---\n",
      "Input econ object: modo=2 submodo=None ingresos=None ahorro=None pago_contado=None cuota_max=None entrada=None anos_posesion=None\n",
      "DEBUG (Validation Economía Manual) ► Modo 2 INCOMPLETO (submodo inválido o None: None).\n",
      "DEBUG Router: Economía OK? False\n",
      "DEBUG Router: Pesos Calculados? False\n",
      "DEBUG Router: Coches Buscados? False\n",
      "--- DEBUG CHECK PERFIL ---\n",
      "Input prefs object: apasionado_motor='sí' valora_estetica='no' coche_principal_hogar='no' uso_profesional='no' tipo_uso_profesional=None prefiere_diseno_exclusivo='sí' altura_mayor_190='no' peso_mayor_100='no' transporta_carga_voluminosa='no' necesita_espacio_objetos_especiales=None arrastra_remolque='no' aventura=<NivelAventura.ocasional: 'ocasional'> solo_electricos='no' prioriza_baja_depreciacion='no' transmision_preferida=<Transmision.AMBOS: 'ambos'> rating_fiabilidad_durabilidad=7 rating_seguridad=7 rating_comodidad=9 rating_impacto_ambiental=5 rating_tecnologia_conectividad=5 rating_costes_uso=8\n",
      "Input prefs type: <class 'graph.perfil.state.PerfilUsuario'>\n",
      "DEBUG (Validation Perfil) ► Todos los campos obligatorios del perfil están presentes.\n",
      "--- DEBUG CHECK PASAJEROS ---\n",
      "Input info pasajeros: frecuencia='nunca' num_ninos_silla=0 num_otros_pasajeros=0\n",
      "DEBUG (Validation Pasajeros) ► Frecuencia es 'nunca'. Considerado COMPLETO.\n",
      "DEBUG (Validation Filtros) ► Todos los campos obligatorios de filtros ('tipo_mecanica') están presentes y válidos.\n",
      "--- DEBUG CHECK ECONOMIA (Manual) ---\n",
      "Input econ object: modo=2 submodo=None ingresos=None ahorro=None pago_contado=None cuota_max=None entrada=None anos_posesion=None\n",
      "DEBUG (Validation Economía Manual) ► Modo 2 INCOMPLETO (submodo inválido o None: None).\n",
      "DEBUG Router: Decisión -> recopilar_economia\n",
      "--- Ejecutando Nodo: recopilar_economia_node ---\n",
      "DEBUG (Economía) ► Llamando a llm_economia...\n"
     ]
    },
    {
     "name": "stderr",
     "output_type": "stream",
     "text": [
      "INFO (RAG): HTTP Request: POST https://api.openai.com/v1/chat/completions \"HTTP/1.1 200 OK\"\n",
      "INFO (RAG): Cargando índice FAISS desde ./faiss_carroceria_index...\n",
      "INFO (RAG): Loading faiss.\n",
      "INFO (RAG): Successfully loaded faiss.\n",
      "INFO (RAG): Failed to load GPU Faiss: name 'GpuIndexIVFFlat' is not defined. Will not load constructor refs for GPU indexes.\n",
      "INFO (RAG): Índice FAISS cargado exitosamente desde disco.\n",
      "INFO (RAG): INFO (RAG) ► Rating Comodidad alto. Enriqueciendo query para confort.\n",
      "INFO (RAG): INFO (RAG) ► Zona de Clima de Montaña detectada. Enriqueciendo query RAG.\n",
      "INFO (RAG): INFO (RAG) ► Query RAG construida: 'conducción emocionante singular motor avanzado ágil en curvas campo ligero fuera de asfalto excursiones profesional versátil comodidad y confort mascotas derivado de un 2VOL o 3VOL SUV familiar cómodo monovolumen espacioso montaña todoterreno SUV robusto' con k=3\n"
     ]
    },
    {
     "name": "stdout",
     "output_type": "stream",
     "text": [
      "DEBUG (Economía) ► Respuesta llm_economia: economia=EconomiaUsuario(modo=2, submodo=1, ingresos=None, ahorro=None, pago_contado=15000.0, cuota_max=None, entrada=None, anos_posesion=None) mensaje_validacion='¡Entendido! He registrado tu presupuesto de 15,000 para el pago al contado.'\n",
      "DEBUG (Economía) ► Estado economía actualizado: modo=2 submodo=1 ingresos=None ahorro=None pago_contado=15000.0 cuota_max=None entrada=None anos_posesion=None\n",
      "DEBUG (Economía) ► Guardando pregunta pendiente: ¡Entendido! He registrado tu presupuesto de 15,000 para el pago al contado.\n",
      "--- Ejecutando Nodo: validar_economia_node ---\n",
      "--- DEBUG CHECK ECONOMIA (Manual) ---\n",
      "Input econ object: modo=2 submodo=1 ingresos=None ahorro=None pago_contado=15000.0 cuota_max=None entrada=None anos_posesion=None\n",
      "DEBUG (Validation Economía Manual) ► Modo 2/Submodo 1 completo (pago_contado presente).\n",
      "DEBUG (Economía) ► Validación: Economía considerada COMPLETA.\n",
      "--- Evaluando Condición: ruta_decision_economia ---\n",
      "--- DEBUG CHECK ECONOMIA (Manual) ---\n",
      "Input econ object: modo=2 submodo=1 ingresos=None ahorro=None pago_contado=15000.0 cuota_max=None entrada=None anos_posesion=None\n",
      "DEBUG (Validation Economía Manual) ► Modo 2/Submodo 1 completo (pago_contado presente).\n",
      "DEBUG (Condición Economía) ► Economía COMPLETA. Avanzando a finalizar.\n",
      "--- Ejecutando Nodo: finalizar_y_presentar_node ---\n",
      "DEBUG (Finalizar) ► Verificando si aplica lógica Modo 1...\n",
      "DEBUG (Finalizar) ► Modo no es 1, omitiendo cálculo de recomendación.\n",
      "DEBUG (Finalizar) ► Llamando a RAG...\n",
      "DEBUG (RAG Query Construida) ► Partes: ['conducción emocionante', 'singular', 'motor avanzado', 'ágil en curvas', 'campo', 'ligero fuera de asfalto', 'excursiones', 'profesional', 'versátil', 'comodidad y confort', 'mascotas', 'derivado de un 2VOL o 3VOL', 'SUV familiar cómodo', 'monovolumen espacioso', 'montaña', 'todoterreno', 'SUV robusto'] -> Query: 'conducción emocionante singular motor avanzado ágil en curvas campo ligero fuera de asfalto excursiones profesional versátil comodidad y confort mascotas derivado de un 2VOL o 3VOL SUV familiar cómodo monovolumen espacioso montaña todoterreno SUV robusto'\n"
     ]
    },
    {
     "name": "stderr",
     "output_type": "stream",
     "text": [
      "INFO (RAG): HTTP Request: POST https://api.openai.com/v1/embeddings \"HTTP/1.1 200 OK\"\n",
      "INFO (RAG): INFO (RAG) ► Tipos de carrocería recomendados por RAG (final, top 3): ['SUV', 'FAMILIAR', 'TODOTERRENO']\n"
     ]
    },
    {
     "name": "stdout",
     "output_type": "stream",
     "text": [
      "DEBUG (Finalizar) ► RAG recomendó: ['SUV', 'FAMILIAR', 'TODOTERRENO']\n",
      "DEBUG (Finalizar) ► Rating Comodidad (9) >= 7. Activando flags de penalización.\n",
      "DEBUG (Finalizar) ► Calculando pesos...\n",
      "DEBUG (Weights) ► Pesos crudos iniciales (est/prem/sing): {'estetica': 1.0, 'premium': 3.0, 'singular': 6.0}\n",
      "DEBUG (Weights) ► Pesos crudos tras añadir aventura: {'estetica': 1.0, 'premium': 3.0, 'singular': 6.0, 'altura_libre_suelo': 6.0, 'traccion': 4.0, 'reductoras': 1.0}\n",
      "DEBUG (Weights) ► Usuario NO alto. Asignando pesos bajos a batalla/índice.\n",
      "DEBUG (Weights) ► Pesos crudos tras añadir dims por altura: {'estetica': 1.0, 'premium': 3.0, 'singular': 6.0, 'altura_libre_suelo': 6.0, 'traccion': 4.0, 'reductoras': 1.0, 'batalla': 1.0, 'indice_altura_interior': 1.0}\n",
      "DEBUG (Weights) ► Priorizar Ancho=False/None. Asignando peso crudo bajo a ancho: 1.0\n",
      "DEBUG (Weights) ► Peso crudo para devaluacion (basado en prioriza_baja_depreciacion='no'): 1.0\n",
      "DEBUG (Weights) ► Comodidad alta (9). Aumentando pesos para índice_altura y autonomía.\n",
      "DEBUG (Weights) ► Costes de Uso alto (8). Activando pesos para bajo consumo, bajo coste uso y mantenimiento.\n",
      "DEBUG (Weights) ► Zona Nieve: Ajustando peso traccion a 9.0\n",
      "DEBUG (Weights) ► Zona Clima Montaña: Ajustando peso traccion a 11.0\n",
      "DEBUG (Weights) ► Pesos crudos tras añadir ratings: {'estetica': 1.0, 'premium': 3.0, 'singular': 6.0, 'altura_libre_suelo': 6.0, 'traccion': 11.0, 'reductoras': 1.0, 'batalla': 1.0, 'indice_altura_interior': 5.0, 'ancho': 1.0, 'devaluacion': 1.0, 'rating_fiabilidad_durabilidad': 7.0, 'rating_seguridad': 7.0, 'rating_comodidad': 9.0, 'rating_impacto_ambiental': 5.0, 'rating_tecnologia_conectividad': 5.0, 'maletero_minimo_score': 1.0, 'maletero_maximo_score': 1.0, 'largo_vehiculo_score': 1.0, 'autonomia_vehiculo': 5.0, 'fav_bajo_peso': 0.0, 'fav_bajo_consumo': 5.0, 'rating_costes_uso': 8.0, 'fav_bajo_coste_uso_directo': 9.0, 'fav_bajo_coste_mantenimiento_directo': 7.0, 'par_motor_remolque_score': 1.0, 'cap_remolque_cf_score': 1.0, 'cap_remolque_sf_score': 1.0}\n",
      "DEBUG (Normalize Weights) ► Pesos Normalizados: {'estetica': 0.009174311926605505, 'premium': 0.027522935779816515, 'singular': 0.05504587155963303, 'altura_libre_suelo': 0.05504587155963303, 'traccion': 0.10091743119266056, 'reductoras': 0.009174311926605505, 'batalla': 0.009174311926605505, 'indice_altura_interior': 0.045871559633027525, 'ancho': 0.009174311926605505, 'devaluacion': 0.009174311926605505, 'rating_fiabilidad_durabilidad': 0.06422018348623854, 'rating_seguridad': 0.06422018348623854, 'rating_comodidad': 0.08256880733944955, 'rating_impacto_ambiental': 0.045871559633027525, 'rating_tecnologia_conectividad': 0.045871559633027525, 'maletero_minimo_score': 0.009174311926605505, 'maletero_maximo_score': 0.009174311926605505, 'largo_vehiculo_score': 0.009174311926605505, 'autonomia_vehiculo': 0.045871559633027525, 'fav_bajo_peso': 0.0, 'fav_bajo_consumo': 0.045871559633027525, 'rating_costes_uso': 0.07339449541284404, 'fav_bajo_coste_uso_directo': 0.08256880733944955, 'fav_bajo_coste_mantenimiento_directo': 0.06422018348623854, 'par_motor_remolque_score': 0.009174311926605505, 'cap_remolque_cf_score': 0.009174311926605505, 'cap_remolque_sf_score': 0.009174311926605505}\n",
      "DEBUG (Finalizar) ► Pesos calculados: {'estetica': 0.009174311926605505, 'premium': 0.027522935779816515, 'singular': 0.05504587155963303, 'altura_libre_suelo': 0.05504587155963303, 'traccion': 0.10091743119266056, 'reductoras': 0.009174311926605505, 'batalla': 0.009174311926605505, 'indice_altura_interior': 0.045871559633027525, 'ancho': 0.009174311926605505, 'devaluacion': 0.009174311926605505, 'rating_fiabilidad_durabilidad': 0.06422018348623854, 'rating_seguridad': 0.06422018348623854, 'rating_comodidad': 0.08256880733944955, 'rating_impacto_ambiental': 0.045871559633027525, 'rating_tecnologia_conectividad': 0.045871559633027525, 'maletero_minimo_score': 0.009174311926605505, 'maletero_maximo_score': 0.009174311926605505, 'largo_vehiculo_score': 0.009174311926605505, 'autonomia_vehiculo': 0.045871559633027525, 'fav_bajo_peso': 0.0, 'fav_bajo_consumo': 0.045871559633027525, 'rating_costes_uso': 0.07339449541284404, 'fav_bajo_coste_uso_directo': 0.08256880733944955, 'fav_bajo_coste_mantenimiento_directo': 0.06422018348623854, 'par_motor_remolque_score': 0.009174311926605505, 'cap_remolque_cf_score': 0.009174311926605505, 'cap_remolque_sf_score': 0.009174311926605505}\n",
      "DEBUG (Finalizar) ► Formateando tabla final...\n",
      "ERROR (Finalizar) ► Fallo formateando la tabla: formatear_preferencias_en_tabla() got an unexpected keyword argument 'info_pasajeros'\n",
      "--- Ejecutando Nodo: buscar_coches_finales_node ---\n",
      "DEBUG (Buscar BQ Init) ► Estado completo recibido: {'messages': [HumanMessage(content='quiero un coche, mido 1.50', additional_kwargs={}, response_metadata={}, id='d814a932-3edd-4b45-a4a2-37eaed4442c5'), AIMessage(content='¡Hola! Soy CarBlau, un asistente diseñado para ayudarte a encontrar el coche perfecto según tus necesidades. Para empezar y darte recomendaciones más ajustadas, ¿me dirías tu código postal?', additional_kwargs={}, response_metadata={}, id='f54c4b1a-a1f2-4ffc-a350-625de7d2dbbf'), HumanMessage(content='17537', additional_kwargs={}, response_metadata={}, id='ab4baa81-b778-4e01-bb2d-a6d77cf28d11'), AIMessage(content='Para ayudarte a encontrar el coche que mejor se adapte a tus necesidades reales, dime, ¿Eres un apasionado del mundo automotriz?', additional_kwargs={}, response_metadata={}, id='818b1cc0-680f-415f-ba53-fff968d8de29'), HumanMessage(content='si ', additional_kwargs={}, response_metadata={}, id='48e2d941-dd46-4dd5-b5a3-a292b4070ed4'), AIMessage(content='¿Valoras especialmente la estética del coche?', additional_kwargs={}, response_metadata={}, id='ea553327-1fbe-45f3-8219-8d2e4a4a516d'), HumanMessage(content='no', additional_kwargs={}, response_metadata={}, id='3c4a6ebc-b981-450f-8dc1-d1f332dc64e6'), AIMessage(content='¿El coche que estamos buscando será el vehículo principal de tu hogar?', additional_kwargs={}, response_metadata={}, id='c1738cb8-f244-4f38-8085-06afec8aa687'), HumanMessage(content='no', additional_kwargs={}, response_metadata={}, id='51361e7a-96f4-4647-9ba1-d974e5b441dc'), AIMessage(content='¿Usarás el coche para trabajo?', additional_kwargs={}, response_metadata={}, id='7389b599-f65a-4fa0-a277-7c613628d2dd'), HumanMessage(content='NO', additional_kwargs={}, response_metadata={}, id='312d357d-e94c-4bf6-b8fc-f846c5dcb166'), AIMessage(content=\"¿Prefieres un diseño de coche que sea exclusivo y te diferencie del resto? (Responde 'sí' o 'no')\", additional_kwargs={}, response_metadata={}, id='12e2232b-c0a9-49cd-872d-d9cd03de09aa'), HumanMessage(content='si', additional_kwargs={}, response_metadata={}, id='fd114501-dd30-4bb1-ae75-350fd0667c26'), AIMessage(content='Para garantizar tu máxima comodidad, ¿tienes un peso superior a 100 kg?', additional_kwargs={}, response_metadata={}, id='c7eadf69-3c00-43d1-b931-54e60a464af1'), HumanMessage(content='no', additional_kwargs={}, response_metadata={}, id='15c578c0-5fc9-4f6e-941e-acbf507e70c0'), AIMessage(content=\"¿Transportas con frecuencia equipaje o carga voluminosa? (Responde 'sí' o 'no')\", additional_kwargs={}, response_metadata={}, id='5e99b2c4-964a-4faf-913b-559cd8a45ce5'), HumanMessage(content='no', additional_kwargs={}, response_metadata={}, id='2f29d363-6ed1-477d-a203-40dc914e96fa'), AIMessage(content='¿Vas a arrastrar remolque pesado o caravana?', additional_kwargs={}, response_metadata={}, id='731a9bbd-763b-4e4a-a29a-88a4f4c054ed'), HumanMessage(content='no', additional_kwargs={}, response_metadata={}, id='7e779d2d-37a9-40e7-acfb-85703fe508f3'), AIMessage(content=\"¿Qué nivel de aventura buscas con tu vehículo: 'ninguna', 'ocasional' o 'extrema'?\", additional_kwargs={}, response_metadata={}, id='9aa1c1b6-0b68-4d9b-b689-309446916b3b'), HumanMessage(content='ocasional', additional_kwargs={}, response_metadata={}, id='26ddcea0-e86d-4555-8cd3-0f33e1df8791'), AIMessage(content='¿Quieres solo coches eléctricos?', additional_kwargs={}, response_metadata={}, id='8bbe5906-d4e1-4156-92ca-b6a9cb8fc52e'), HumanMessage(content='no', additional_kwargs={}, response_metadata={}, id='ddbe7d84-90eb-49bb-ace9-09f152e03823'), AIMessage(content='¿Qué tipo de transmisión prefieres?\\n 1) Automático\\n 2) Manual\\n 3) Ambos', additional_kwargs={}, response_metadata={}, id='8e6d2936-afea-414b-95bd-ab0c78c9baa6'), HumanMessage(content='ambos', additional_kwargs={}, response_metadata={}, id='f5b58b00-b6c6-44cc-bbf5-3bb2a1b2f2da'), AIMessage(content='En una escala de 0 (nada importante) a 10 (extremadamente importante), ¿qué tan importante es para ti la Fiabilidad y Durabilidad del coche?', additional_kwargs={}, response_metadata={}, id='5cc89818-ed0e-43cf-8590-b916449d6f8d'), HumanMessage(content='7', additional_kwargs={}, response_metadata={}, id='f655c6c0-92fb-4ac1-90cf-35da68ed5526'), AIMessage(content='Pensando en la Seguridad, ¿qué puntuación le darías en importancia (0-10)?', additional_kwargs={}, response_metadata={}, id='ae88430a-15c5-4944-a527-78a002a944fd'), HumanMessage(content='7', additional_kwargs={}, response_metadata={}, id='36cdc4f5-e4df-4e58-a5e6-2d9c99d99f7d'), AIMessage(content='Y en cuanto a la Comodidad y confort del vehiculo que tan importante es que se maximice? (0-10)', additional_kwargs={}, response_metadata={}, id='e181f763-0a9f-4e83-9217-5439c1ad5441'), HumanMessage(content='9', additional_kwargs={}, response_metadata={}, id='f162d8ca-7927-4d76-9df5-0124a1e52d90'), AIMessage(content='Considerando el Bajo Impacto Medioambiental, ¿qué importancia tiene esto para tu elección (0-10)?', additional_kwargs={}, response_metadata={}, id='ecfd7efc-6845-4604-a302-7dfb6bed1da4'), HumanMessage(content='5', additional_kwargs={}, response_metadata={}, id='6d3231d2-d34c-48b8-b92c-1376e733e34e'), AIMessage(content='respecto a la Tecnología y Conectividad del coche, ¿qué tan relevante es para ti (0-10)?', additional_kwargs={}, response_metadata={}, id='4171d19f-068d-4b07-9717-cbeff14b9186'), HumanMessage(content='5', additional_kwargs={}, response_metadata={}, id='a3444ba1-e8bf-4cf4-aa85-5a51221185c6'), AIMessage(content=\"¿Es importante para ti que la depreciación del coche sea lo más baja posible? 'sí' o 'no'\", additional_kwargs={}, response_metadata={}, id='7e2c6387-9e34-4db2-96c1-f489e5ffbd38'), HumanMessage(content='no', additional_kwargs={}, response_metadata={}, id='bd83ce6e-ad89-4e58-a6fe-a4eef6db4915'), AIMessage(content=\"Para finalizar, ¿qué tan importante es para ti que el vehículo sea económico en su uso diario y mantenimiento? (donde 0 significa 'No es importante en absoluto' y 10 significa 'Es extremadamente importante')\", additional_kwargs={}, response_metadata={}, id='7f44f033-50ec-43ca-821a-a7f067031e77'), HumanMessage(content='8', additional_kwargs={}, response_metadata={}, id='bb870545-9e53-4840-bbef-81338fea2606'), AIMessage(content='Cuéntame, ¿sueles viajar con acompañantes en el coche habitualmente? (nunca/ocasional/frecuente)', additional_kwargs={}, response_metadata={}, id='bae09bb4-8e8b-4c3d-8a79-fda42d9039d5'), HumanMessage(content='nunca', additional_kwargs={}, response_metadata={}, id='1a3373b4-6cba-4d34-8a25-69ceb312cd26'), AIMessage(content='Con el fin de conocer tus preferencias financieras que opcion prefieres:\\n  1.Prefiero que me aconsejes con criterios de inteligencia financiera.\\n  2. Prefiero indicar yo mismo cuánto y cómo gastar.', additional_kwargs={}, response_metadata={}, id='950ac66a-ea64-4598-904d-53a9332debd6'), HumanMessage(content='la 2', additional_kwargs={}, response_metadata={}, id='5fe4d337-24d6-4408-918c-c3eba2e49207'), AIMessage(content='De acuerdo, tú defines el presupuesto. Que opción prefieres?\\n 1) Tienes pensado pagar el coche al contado\\n 2) prefieres financiarlo en cuotas mensuales', additional_kwargs={}, response_metadata={}, id='6114ce6e-a399-43d1-bcdd-34c883b9b962'), HumanMessage(content='contado 15.000', additional_kwargs={}, response_metadata={}, id='0cf69b90-fe7d-4047-854a-cf609e3ea992'), HumanMessage(content='contado 15.000', additional_kwargs={}, response_metadata={}, id='1b4affe7-a8e6-4c7b-af48-a3a33a6bd376'), AIMessage(content='Error al generar el resumen de criterios.', additional_kwargs={}, response_metadata={}, id='7ac6b57c-8fef-4495-9898-130e5b1da38a')], 'codigo_postal_usuario': '17537', 'info_clima_usuario': InfoClimaUsuario(MUNICIPIO_ZBE=False, ZONA_LLUVIAS=False, ZONA_NIEBLAS=False, ZONA_NIEVE=True, ZONA_CLIMA_MONTA=True, ZONA_GLP=False, ZONA_GNV=False, cp_valido_encontrado=True, codigo_postal_consultado='17537'), '_decision_cp_validation': 'cp_valido_listo_para_clima', 'preferencias_usuario': PerfilUsuario(apasionado_motor='sí', valora_estetica='no', coche_principal_hogar='no', uso_profesional='no', tipo_uso_profesional=None, prefiere_diseno_exclusivo='sí', altura_mayor_190='no', peso_mayor_100='no', transporta_carga_voluminosa='no', necesita_espacio_objetos_especiales=None, arrastra_remolque='no', aventura=<NivelAventura.ocasional: 'ocasional'>, solo_electricos='no', prioriza_baja_depreciacion='no', transmision_preferida=<Transmision.AMBOS: 'ambos'>, rating_fiabilidad_durabilidad=7, rating_seguridad=7, rating_comodidad=9, rating_impacto_ambiental=5, rating_tecnologia_conectividad=5, rating_costes_uso=8), 'filtros_inferidos': FiltrosInferidos(estetica_min=1.0, tipo_mecanica=[<TipoMecanica.GASOLINA: 'GASOLINA'>, <TipoMecanica.BEV: 'BEV'>, <TipoMecanica.HEVD: 'HEVD'>, <TipoMecanica.HEVG: 'HEVG'>], premium_min=3.0, singular_min=6.0, tipo_carroceria=['SUV', 'FAMILIAR', 'TODOTERRENO'], modo_adquisicion_recomendado=None, precio_max_contado_recomendado=None, cuota_max_calculada=None, plazas_min=1), 'economia': EconomiaUsuario(modo=2, submodo=1, ingresos=None, ahorro=None, pago_contado=15000.0, cuota_max=None, entrada=None, anos_posesion=None), 'pesos': {'estetica': 0.009174311926605505, 'premium': 0.027522935779816515, 'singular': 0.05504587155963303, 'altura_libre_suelo': 0.05504587155963303, 'traccion': 0.10091743119266056, 'reductoras': 0.009174311926605505, 'batalla': 0.009174311926605505, 'indice_altura_interior': 0.045871559633027525, 'ancho': 0.009174311926605505, 'devaluacion': 0.009174311926605505, 'rating_fiabilidad_durabilidad': 0.06422018348623854, 'rating_seguridad': 0.06422018348623854, 'rating_comodidad': 0.08256880733944955, 'rating_impacto_ambiental': 0.045871559633027525, 'rating_tecnologia_conectividad': 0.045871559633027525, 'maletero_minimo_score': 0.009174311926605505, 'maletero_maximo_score': 0.009174311926605505, 'largo_vehiculo_score': 0.009174311926605505, 'autonomia_vehiculo': 0.045871559633027525, 'fav_bajo_peso': 0.0, 'fav_bajo_consumo': 0.045871559633027525, 'rating_costes_uso': 0.07339449541284404, 'fav_bajo_coste_uso_directo': 0.08256880733944955, 'fav_bajo_coste_mantenimiento_directo': 0.06422018348623854, 'par_motor_remolque_score': 0.009174311926605505, 'cap_remolque_cf_score': 0.009174311926605505, 'cap_remolque_sf_score': 0.009174311926605505}, 'pregunta_pendiente': None, 'coches_recomendados': None, 'info_pasajeros': InfoPasajeros(frecuencia='nunca', num_ninos_silla=0, num_otros_pasajeros=0), 'penalizar_puertas_bajas': False, 'priorizar_ancho': False, 'flag_penalizar_low_cost_comodidad': True, 'flag_penalizar_deportividad_comodidad': True, 'flag_penalizar_antiguo_por_tecnologia': False, 'aplicar_logica_distintivo_ambiental': False, 'tabla_resumen_criterios': 'Error al generar el resumen de criterios.'}\n",
      "DEBUG (Buscar BQ) ► Llamando a buscar_coches_bq con k=7\n",
      "DEBUG (Buscar BQ) ► Filtros para BQ: {'estetica_min': 1.0, 'tipo_mecanica': ['GASOLINA', 'BEV', 'HEVD', 'HEVG'], 'premium_min': 3.0, 'singular_min': 6.0, 'tipo_carroceria': ['SUV', 'FAMILIAR', 'TODOTERRENO'], 'plazas_min': 1, 'modo': 2, 'submodo': 1, 'pago_contado': 15000.0, 'penalizar_puertas_bajas': False, 'flag_penalizar_low_cost_comodidad': True, 'flag_penalizar_deportividad_comodidad': True, 'flag_penalizar_antiguo_por_tecnologia': False, 'aplicar_logica_distintivo_ambiental': False}\n",
      "DEBUG (Buscar BQ) ► Pesos para BQ: {'estetica': 0.009174311926605505, 'premium': 0.027522935779816515, 'singular': 0.05504587155963303, 'altura_libre_suelo': 0.05504587155963303, 'traccion': 0.10091743119266056, 'reductoras': 0.009174311926605505, 'batalla': 0.009174311926605505, 'indice_altura_interior': 0.045871559633027525, 'ancho': 0.009174311926605505, 'devaluacion': 0.009174311926605505, 'rating_fiabilidad_durabilidad': 0.06422018348623854, 'rating_seguridad': 0.06422018348623854, 'rating_comodidad': 0.08256880733944955, 'rating_impacto_ambiental': 0.045871559633027525, 'rating_tecnologia_conectividad': 0.045871559633027525, 'maletero_minimo_score': 0.009174311926605505, 'maletero_maximo_score': 0.009174311926605505, 'largo_vehiculo_score': 0.009174311926605505, 'autonomia_vehiculo': 0.045871559633027525, 'fav_bajo_peso': 0.0, 'fav_bajo_consumo': 0.045871559633027525, 'rating_costes_uso': 0.07339449541284404, 'fav_bajo_coste_uso_directo': 0.08256880733944955, 'fav_bajo_coste_mantenimiento_directo': 0.06422018348623854, 'par_motor_remolque_score': 0.009174311926605505, 'cap_remolque_cf_score': 0.009174311926605505, 'cap_remolque_sf_score': 0.009174311926605505}\n",
      "--- 🧠 SQL Query (Paso a Paso) ---\n",
      " \n",
      "    WITH ScaledData AS (\n",
      "        SELECT\n",
      "            *,\n",
      "            COALESCE(SAFE_DIVIDE(COALESCE(estetica, 1.0) - 1.0, NULLIF(10.0 - 1.0, 0)), 0) AS estetica_scaled,\n",
      "            COALESCE(SAFE_DIVIDE(COALESCE(premium, 1.0) - 1.0, NULLIF(10.0 - 1.0, 0)), 0) AS premium_scaled,\n",
      "            COALESCE(SAFE_DIVIDE(COALESCE(singular, 1.0) - 1.0, NULLIF(10.0 - 1.0, 0)), 0) AS singular_scaled,\n",
      "            COALESCE(SAFE_DIVIDE(COALESCE(altura_libre_suelo, 79.0) - 79.0, NULLIF(314.0 - 79.0, 0)), 0) AS altura_scaled,\n",
      "            COALESCE(SAFE_DIVIDE(COALESCE(batalla, 1650.0) - 1650.0, NULLIF(4035.0 - 1650.0, 0)), 0) AS batalla_scaled,\n",
      "            COALESCE(SAFE_DIVIDE(COALESCE(indice_altura_interior, 0.9) - 0.9, NULLIF(2.7 - 0.9, 0)), 0) AS indice_altura_scaled,\n",
      "            COALESCE(SAFE_DIVIDE(COALESCE(ancho, 1410.0) - 1410.0, NULLIF(2164.0 - 1410.0, 0)), 0) AS ancho_scaled,\n",
      "            -- CAMPOS ESCALADOS PARA NUEVOS RATINGS --\n",
      "            COALESCE(SAFE_DIVIDE(COALESCE(fiabilidad, 1.0) - 1.0, NULLIF(10.0 - 1.0, 0)), 0) AS fiabilidad_scaled,\n",
      "            COALESCE(SAFE_DIVIDE(COALESCE(durabilidad, 1.0) - 1.0, NULLIF(10.0 - 1.0, 0)), 0) AS durabilidad_scaled,\n",
      "            COALESCE(SAFE_DIVIDE(COALESCE(seguridad, 1.0) - 1.0, NULLIF(10.0 - 1.0, 0)), 0) AS seguridad_scaled,\n",
      "            COALESCE(SAFE_DIVIDE(COALESCE(comodidad, 1.0) - 1.0, NULLIF(10.0 - 1.0, 0)), 0) AS comodidad_scaled,\n",
      "              -- --- NUEVOS CAMPOS ESCALADOS (INVERTIDOS PORQUE MENOR ES MEJOR) ---\n",
      "            COALESCE(SAFE_DIVIDE(31.0 - COALESCE(costes_de_uso, 31.0), NULLIF(31.0 - 3.0, 0)), 0) AS costes_de_uso_scaled,\n",
      "            COALESCE(SAFE_DIVIDE(10.0 - COALESCE(costes_mantenimiento, 10.0), NULLIF(10.0 - 1.0, 0)), 0) AS costes_mantenimiento_scaled,\n",
      "            -- --- FIN NUEVOS CAMPOS ESCALADOS ---\n",
      "            COALESCE(SAFE_DIVIDE(COALESCE(tecnologia, 1.0) - 1.0, NULLIF(10.0 - 1.0, 0)), 0) AS tecnologia_scaled, -- <-- Nuevo escalado\n",
      "            -- CAMPOS ESCALADOS PARA PENALIZACIONES --\n",
      "            COALESCE(SAFE_DIVIDE(COALESCE(acceso_low_cost, 1.0) - 1.0, NULLIF(10.0 - 1.0, 0)), 0) AS acceso_low_cost_scaled,\n",
      "            COALESCE(SAFE_DIVIDE(COALESCE(deportividad, 1.0) - 1.0, NULLIF(10.0 - 1.0, 0)), 0) AS deportividad_scaled,\n",
      "            COALESCE(SAFE_DIVIDE(COALESCE(devaluacion, 0.0) - 0.0, NULLIF(10.0 - 0.0, 0)), 0) AS devaluacion_scaled,\n",
      "            COALESCE(SAFE_DIVIDE(COALESCE(maletero_minimo, 11.0) - 11.0, NULLIF(15000.0 - 11.0, 0)), 0) AS maletero_minimo_scaled,\n",
      "            COALESCE(SAFE_DIVIDE(COALESCE(maletero_maximo, 11.0) - 11.0, NULLIF(15000.0 - 11.0, 0)), 0) AS maletero_maximo_scaled,\n",
      "            COALESCE(SAFE_DIVIDE(COALESCE(largo, 2450.0) - 2450.0, NULLIF(6400.0 - 2450.0, 0)), 0) AS largo_scaled,\n",
      "            COALESCE(SAFE_DIVIDE(COALESCE(autonomia_uso_maxima, 30.8) - 30.8, NULLIF(1582.4 - 30.8, 0)), 0) AS autonomia_uso_maxima_scaled,\n",
      "            -- Mapeos existentes --\n",
      "            CASE WHEN traccion = 'ALL' THEN 1.0 WHEN traccion = 'RWD' THEN 0.5 ELSE 0.0 END AS traccion_scaled,\n",
      "            -- --- NUEVOS CAMPOS ESCALADOS (INVERTIDOS) ---\n",
      "            COALESCE(SAFE_DIVIDE(3500.0 - COALESCE(peso, 3500.0), NULLIF(3500.0 - 470.0, 0)), 0) AS bajo_peso_scaled, -- Invertido\n",
      "            COALESCE(SAFE_DIVIDE(133.0 - COALESCE(indice_consumo_energia, 133.0), NULLIF(133.0 - 7.4, 0)), 0) AS bajo_consumo_scaled, -- Invertido\n",
      "            COALESCE(SAFE_DIVIDE(COALESCE(par, 41.0) - 41.0, NULLIF(967.0 - 41.0, 0)), 0) AS par_scaled,\n",
      "            COALESCE(SAFE_DIVIDE(COALESCE(capacidad_remolque_con_freno, 100.0) - 100.0, NULLIF(3600.0 - 100.0, 0)), 0) AS cap_remolque_cf_scaled,\n",
      "            COALESCE(SAFE_DIVIDE(COALESCE(capacidad_remolque_sin_freno, 35.0) - 35.0, NULLIF(1250.0 - 35.0, 0)), 0) AS cap_remolque_sf_scaled, \n",
      "            (CASE WHEN COALESCE(reductoras, FALSE) THEN 1.0 ELSE 0.0 END) AS reductoras_scaled,\n",
      "            (CASE WHEN @penalizar_puertas = TRUE AND puertas <= 3 THEN -0.1 ELSE 0.0 END) AS puertas_penalty\n",
      "        FROM\n",
      "            `thecarmentor-mvp2.web_cars.match_coches_pruebas`\n",
      "    )\n",
      "    SELECT\n",
      "      -- Añade las nuevas columnas BQ si quieres ver sus valores originales:\n",
      "      nombre, ID , modelo, cambio_automatico, tipo_mecanica, tipo_carroceria, \n",
      "      indice_altura_interior, estetica, premium, singular,  seguridad, comodidad, acceso_low_cost, deportividad, tecnologia, devaluacion, altura_libre_suelo, maletero_minimo, maletero_maximo,\n",
      "      traccion, reductoras, plazas, precio_compra_contado, largo, autonomia_uso_maxima, distintivo_ambiental, anos_vehiculo, ocasion,\n",
      "      peso AS peso_original_kg, indice_consumo_energia AS consumo_original, costes_de_uso, costes_mantenimiento,par, capacidad_remolque_con_freno,capacidad_remolque_sin_freno,\n",
      "      \n",
      "      ( \n",
      "        estetica_scaled * @peso_estetica \n",
      "        + premium_scaled * @peso_premium\n",
      "        + singular_scaled * @peso_singular\n",
      "        + altura_scaled * @peso_altura\n",
      "        + batalla_scaled * @peso_batalla \n",
      "        + indice_altura_scaled * @peso_indice_altura\n",
      "        + ancho_scaled * @peso_ancho \n",
      "        + traccion_scaled * @peso_traccion\n",
      "        + reductoras_scaled * @peso_reductoras\n",
      "        + puertas_penalty\n",
      "        -- NUEVOS TÉRMINOS DE SCORE PARA RATINGS --\n",
      "        + fiabilidad_scaled * @peso_rating_fiabilidad_durabilidad  \n",
      "        + durabilidad_scaled * @peso_rating_fiabilidad_durabilidad -- Usando el mismo peso para ambas\n",
      "        + seguridad_scaled * @peso_rating_seguridad               \n",
      "        + comodidad_scaled * @peso_rating_comodidad\n",
      "        + fiabilidad_scaled * @peso_rating_impacto_ambiental  -- P4 (Impacto Ambiental) usa fiabilidad_scaled\n",
      "        + durabilidad_scaled * @peso_rating_impacto_ambiental -- P4 (Impacto Ambiental) usa durabilidad_scaled (si así lo defines)\n",
      "        + tecnologia_scaled * @peso_rating_tecnologia_conectividad -- P6\n",
      "        + maletero_minimo_scaled * @peso_maletero_minimo_score\n",
      "        + maletero_maximo_scaled * @peso_maletero_maximo_score\n",
      "        + largo_scaled * @peso_largo_vehiculo_score\n",
      "        + devaluacion_scaled * @peso_devaluacion\n",
      "        + autonomia_uso_maxima_scaled * @peso_autonomia_vehiculo\n",
      "        -- Estos se activan si el peso correspondiente es > 0 (calculado en compute_raw_weights)\n",
      "        + bajo_peso_scaled * @peso_fav_bajo_peso\n",
      "        + bajo_consumo_scaled * @peso_fav_bajo_consumo\n",
      "        -- --- NUEVOS TÉRMINOS DE SCORE PARA COSTES DE USO Y MANTENIMIENTO ---\n",
      "        + costes_de_uso_scaled * @peso_fav_bajo_coste_uso_directo\n",
      "        + costes_mantenimiento_scaled * @peso_fav_bajo_coste_mantenimiento_directo\n",
      "        + par_scaled * @peso_par_motor_remolque_score\n",
      "        + cap_remolque_cf_scaled * @peso_cap_remolque_cf_score\n",
      "        + cap_remolque_sf_scaled * @peso_cap_remolque_sf_score\n",
      "        -- PENALIZACIONES POR COMODIDAD y  ANTIGÜEDAD--\n",
      "        + (CASE WHEN @flag_penalizar_low_cost_comodidad = TRUE AND acceso_low_cost_scaled >= 0.7 THEN -0.15 ELSE 0.0 END)\n",
      "        + (CASE WHEN @flag_penalizar_deportividad_comodidad = TRUE AND deportividad_scaled >= 0.7 THEN -0.15 ELSE 0.0 END)\n",
      "        + (CASE WHEN @flag_penalizar_antiguo_tec = TRUE THEN\n",
      "                 CASE\n",
      "                     WHEN anos_vehiculo > 10 THEN -0.3\n",
      "                     WHEN anos_vehiculo > 7  THEN -0.2\n",
      "                     WHEN anos_vehiculo > 5  THEN -0.1\n",
      "                     ELSE 0.0 \n",
      "                 END\n",
      "             ELSE 0.0 \n",
      "           END)\n",
      "        -- --- NUEVA LÓGICA PARA DISTINTIVO AMBIENTAL ---\n",
      "        + (CASE\n",
      "             WHEN @flag_aplicar_logica_distintivo = TRUE THEN\n",
      "                 CASE\n",
      "                     WHEN distintivo_ambiental IN ('0', 'ECO', 'C') THEN 0.2\n",
      "                     WHEN distintivo_ambiental IN ('B', 'NA') THEN -0.5\n",
      "                     ELSE 0.0 -- Para otros distintivos o si es NULL\n",
      "                 END\n",
      "             ELSE 0.0 -- Si el flag no está activo\n",
      "           END)\n",
      "        -- --- NUEVA LÓGICA PARA FAVORECER 'ocasion' ---\n",
      "        + (CASE\n",
      "             WHEN @flag_aplicar_logica_distintivo = TRUE AND COALESCE(ocasion, FALSE) = TRUE THEN 0.2\n",
      "             ELSE 0.0\n",
      "           END)\n",
      "        -- --- FIN NUEVA LÓGICA 'ocasion' ---\n",
      "      ) AS score_total\n",
      "    FROM ScaledData\n",
      "    WHERE 1=1 \n",
      "    \n",
      "      AND COALESCE(estetica, 0) >= @estetica_min\n",
      "      AND COALESCE(premium, 0) >= @premium_min\n",
      "      AND COALESCE(singular, 0) >= @singular_min\n",
      "      AND plazas >= @plazas_min\n",
      "      AND tipo_mecanica IN UNNEST(@tipos_mecanica)\n",
      "      AND tipo_carroceria IN UNNEST(@tipos_carroceria)\n",
      "      AND COALESCE(precio_compra_contado, 999999999) <= @precio_maximo\n",
      "    ORDER BY score_total DESC, precio_compra_contado ASC\n",
      "    LIMIT @k\n",
      "\n",
      "--- 📦 Parameters (Paso a Paso) ---\n",
      " [('peso_estetica', 0.009174311926605505), ('peso_premium', 0.027522935779816515), ('peso_singular', 0.05504587155963303), ('peso_altura', 0.05504587155963303), ('peso_batalla', 0.009174311926605505), ('peso_indice_altura', 0.045871559633027525), ('peso_ancho', 0.009174311926605505), ('peso_traccion', 0.10091743119266056), ('peso_reductoras', 0.009174311926605505), ('penalizar_puertas', False), ('peso_rating_fiabilidad_durabilidad', 0.06422018348623854), ('peso_rating_seguridad', 0.06422018348623854), ('peso_rating_comodidad', 0.08256880733944955), ('peso_rating_impacto_ambiental', 0.045871559633027525), ('peso_rating_tecnologia_conectividad', 0.045871559633027525), ('peso_rating_costes_uso', 0.07339449541284404), ('peso_fav_bajo_coste_uso_directo', 0.08256880733944955), ('peso_fav_bajo_coste_mantenimiento_directo', 0.06422018348623854), ('peso_devaluacion', 0.009174311926605505), ('peso_maletero_minimo_score', 0.009174311926605505), ('peso_maletero_maximo_score', 0.009174311926605505), ('peso_largo_vehiculo_score', 0.009174311926605505), ('peso_autonomia_vehiculo', 0.045871559633027525), ('peso_fav_bajo_peso', 0.0), ('peso_fav_bajo_consumo', 0.045871559633027525), ('peso_par_motor_remolque_score', 0.009174311926605505), ('peso_cap_remolque_cf_score', 0.009174311926605505), ('peso_cap_remolque_sf_score', 0.009174311926605505), ('flag_penalizar_low_cost_comodidad', True), ('flag_penalizar_deportividad_comodidad', True), ('flag_penalizar_antiguo_tec', False), ('flag_aplicar_logica_distintivo', False), ('k', 7), ('estetica_min', 1.0), ('premium_min', 3.0), ('singular_min', 6.0), ('plazas_min', 1), ('tipos_mecanica', ['GASOLINA', 'BEV', 'HEVD', 'HEVG']), ('tipos_carroceria', ['SUV', 'FAMILIAR', 'TODOTERRENO']), ('precio_maximo', 15000.0)]\n"
     ]
    },
    {
     "name": "stderr",
     "output_type": "stream",
     "text": [
      "INFO (RAG): ✅ (Paso a Paso) BigQuery query ejecutada, 1 resultados obtenidos.\n",
      "INFO (RAG): Log de búsqueda para conversación 'unknown_thread' insertado en BigQuery.\n"
     ]
    },
    {
     "name": "stdout",
     "output_type": "stream",
     "text": [
      "INFO (BQ Logger) ► Log para 'unknown_thread' guardado en BQ.\n",
      "==================================\u001b[1m Ai Message \u001b[0m==================================\n",
      "\n",
      "¡Listo! Basado en todo lo que hablamos, aquí tienes 1 coche(s) que podrían interesarte:\n",
      "\n",
      "| nombre            | precio_compra_contado   |   score_total | tipo_carroceria   | tipo_mecanica   |   plazas | traccion   | reductoras   |   estetica |   premium |   singular |   altura_libre_suelo |   indice_altura_interior | cambio_automatico   |\n",
      "|:------------------|:------------------------|--------------:|:------------------|:----------------|---------:|:-----------|:-------------|-----------:|----------:|-----------:|---------------------:|-------------------------:|:--------------------|\n",
      "| Porsche Cayenne S | 11.599€                 |         0.475 | SUV               | GASOLINA        |        5 | ALL        | False        |          8 |         9 |          6 |                  200 |                    1.499 | False               |\n",
      "\n",
      "¿Qué te parecen estas opciones? ¿Hay alguno que te interese para ver más detalles o hacemos otra búsqueda?\n"
     ]
    }
   ],
   "source": [
    "# Create a thread\n",
    "config = {\"configurable\": {\"thread_id\": \"1\"}}\n",
    "\n",
    "# Start conversation\n",
    "input_message = HumanMessage(content=\"contado 15.000\")\n",
    "output = graph.invoke({\"messages\": [input_message]}, config) \n",
    "for m in output['messages'][-1:]:\n",
    "    m.pretty_print()"
   ]
  },
  {
   "cell_type": "code",
   "execution_count": 28,
   "metadata": {},
   "outputs": [
    {
     "name": "stdout",
     "output_type": "stream",
     "text": [
      "\n",
      "--- Vista Markdown ---\n",
      "| nombre            |     ID | modelo   | cambio_automatico   | tipo_mecanica   | tipo_carroceria   |   indice_altura_interior |   estetica |   premium |   singular |   altura_libre_suelo | traccion   | reductoras   |   plazas |   precio_compra_contado |   seguridad |   comodidad |   acceso_low_cost |   deportividad |   tecnologia |   devaluacion |   maletero_minimo |   maletero_maximo |   largo |   autonomia_uso_maxima | distintivo_ambiental   |   anos_vehiculo | ocasion   |   peso_original_kg |   consumo_original |   score_total |\n",
      "|:------------------|-------:|:---------|:--------------------|:----------------|:------------------|-------------------------:|-----------:|----------:|-----------:|---------------------:|:-----------|:-------------|---------:|------------------------:|------------:|------------:|------------------:|---------------:|-------------:|--------------:|------------------:|------------------:|--------:|-----------------------:|:-----------------------|----------------:|:----------|-------------------:|-------------------:|--------------:|\n",
      "| Porsche Cayenne S | 112321 | Cayenne  | False               | GASOLINA        | SUV               |                    1.499 |          8 |         9 |          6 |                  200 | ALL        | False        |        5 |                   11599 |         6.2 |           5 |                 1 |             10 |            9 |             9 |               540 |              1770 |    4782 |                  494.9 | C                      |              20 | True      |               2300 |               70.3 |        0.4753 |\n"
     ]
    }
   ],
   "source": [
    "import pandas as pd\n",
    "coches_recomendados = output[('coches_recomendados')]\n",
    "\n",
    "df_resultados = pd.DataFrame(coches_recomendados)\n",
    "        \n",
    "#  OPCIÓN 1: Imprimir el DataFrame directamente (Pandas usará las opciones de display)\n",
    "# print(\"\\n--- Vista DataFrame (Pandas Display Options) ---\")\n",
    "# display(df_resultados) # 'display()' suele dar mejor formato en notebooks que 'print(df)'\n",
    "\n",
    "#OPCIÓN 2: Convertir a Markdown (como en tu nodo, pero para consola)\n",
    "print(\"\\n--- Vista Markdown ---\")\n",
    "columnas_deseadas = [ # Lista completa de columnas que seleccionas en BQ\n",
    "            'nombre', 'ID', 'marca', 'modelo', 'cambio_automatico', 'tipo_mecanica', \n",
    "            'tipo_carroceria', 'indice_altura_interior', 'batalla', 'estetica', \n",
    "            'premium', 'singular', 'altura_libre_suelo', 'ancho', 'traccion', \n",
    "            'reductoras', 'puertas', 'plazas', 'precio_compra_contado',\n",
    "            'fiabilidad', 'durabilidad', 'seguridad', 'comodidad', 'acceso_low_cost', \n",
    "            'deportividad', 'tecnologia', 'devaluacion', 'maletero_minimo', \n",
    "            'maletero_maximo', 'largo', 'autonomia_uso_maxima', \n",
    "            'distintivo_ambiental', 'anos_vehiculo', 'ocasion',\n",
    "            'peso_original_kg', 'consumo_original','score_total'\n",
    "        ]\n",
    "columnas_existentes = [col for col in columnas_deseadas if col in df_resultados.columns]\n",
    "if columnas_existentes:\n",
    "            if 'score_total' in df_resultados.columns: # Formatear score para legibilidad\n",
    "                df_resultados['score_total'] = df_resultados['score_total'].apply(lambda x: f\"{x:.4f}\" if isinstance(x, float) else x)\n",
    "            print(df_resultados[columnas_existentes].to_markdown(index=False))\n",
    "else:\n",
    "            print(\"WARN: No se encontraron columnas esperadas para mostrar en formato tabla.\")\n",
    "            print(\"Resultados crudos (lista de dicts):\", coches_recomendados)"
   ]
  },
  {
   "cell_type": "code",
   "execution_count": null,
   "metadata": {},
   "outputs": [],
   "source": [
    "# Create a thread\n",
    "config = {\"configurable\": {\"thread_id\": \"1\"}}\n",
    "\n",
    "# Start conversation\n",
    "input_message = HumanMessage(content=\"podrias mostrame coches con presupuesto hasta 14.000, incrementalo\")\n",
    "output = graph.invoke({\"messages\": [input_message]}, config) \n",
    "for m in output['messages'][-1:]:\n",
    "    m.pretty_print()"
   ]
  },
  {
   "cell_type": "code",
   "execution_count": null,
   "metadata": {},
   "outputs": [],
   "source": [
    "config = {\"configurable\": {\"thread_id\": \"1\"}}\n",
    "\n",
    "# Start conversation\n",
    "input_message = HumanMessage(content=\"no\")\n",
    "output = graph.invoke({\"messages\": [input_message]}, config) \n",
    "for m in output['messages'][-1:]:\n",
    "    m.pretty_print()"
   ]
  },
  {
   "cell_type": "code",
   "execution_count": null,
   "metadata": {},
   "outputs": [],
   "source": [
    "config = {\"configurable\": {\"thread_id\": \"1\"}}\n",
    "\n",
    "# Start conversation\n",
    "input_message = HumanMessage(content=\"la 2\")\n",
    "output = graph.invoke({\"messages\": [input_message]}, config) \n",
    "for m in output['messages'][-1:]:\n",
    "    m.pretty_print()"
   ]
  },
  {
   "cell_type": "code",
   "execution_count": null,
   "metadata": {},
   "outputs": [],
   "source": [
    "# Create a thread\n",
    "config = {\"configurable\": {\"thread_id\": \"1\"}}\n",
    "\n",
    "# Start conversation\n",
    "input_message = HumanMessage(content=\"contado hasta 15.000\")\n",
    "output = graph.invoke({\"messages\": [input_message]}, config) \n",
    "for m in output['messages'][-1:]:\n",
    "    m.pretty_print()\n",
    "    \n",
    "    \n"
   ]
  },
  {
   "cell_type": "code",
   "execution_count": 26,
   "metadata": {},
   "outputs": [
    {
     "name": "stdout",
     "output_type": "stream",
     "text": [
      "dict_keys(['messages', 'codigo_postal_usuario', 'info_clima_usuario', '_decision_cp_validation', 'preferencias_usuario', 'filtros_inferidos', 'economia', 'pesos', 'pregunta_pendiente', 'coches_recomendados', 'info_pasajeros', 'penalizar_puertas_bajas', 'priorizar_ancho', 'flag_penalizar_low_cost_comodidad', 'flag_penalizar_deportividad_comodidad', 'flag_penalizar_antiguo_por_tecnologia', 'aplicar_logica_distintivo_ambiental', 'tabla_resumen_criterios'])\n"
     ]
    }
   ],
   "source": [
    "print(output.keys())"
   ]
  },
  {
   "cell_type": "code",
   "execution_count": null,
   "metadata": {},
   "outputs": [],
   "source": [
    "# Create a thread\n",
    "config = {\"configurable\": {\"thread_id\": \"1\"}}\n",
    "\n",
    "# Start conversation\n",
    "input_message = HumanMessage(content=\"la 2\")\n",
    "output = graph.invoke({\"messages\": [input_message]}, config) \n",
    "for m in output['messages'][-1:]:\n",
    "    m.pretty_print()"
   ]
  },
  {
   "cell_type": "code",
   "execution_count": null,
   "metadata": {},
   "outputs": [],
   "source": [
    "# Create a thread\n",
    "config = {\"configurable\": {\"thread_id\": \"1\"}}\n",
    "\n",
    "# Start conversation\n",
    "input_message = HumanMessage(content=\"de contado tengo 13000 maximo\")\n",
    "output = graph.invoke({\"messages\": [input_message]}, config) \n",
    "for m in output['messages'][-1:]:\n",
    "    m.pretty_print()"
   ]
  },
  {
   "cell_type": "code",
   "execution_count": 27,
   "metadata": {},
   "outputs": [
    {
     "name": "stdout",
     "output_type": "stream",
     "text": [
      "17537\n",
      "MUNICIPIO_ZBE=False ZONA_LLUVIAS=False ZONA_NIEBLAS=False ZONA_NIEVE=True ZONA_CLIMA_MONTA=True ZONA_GLP=False ZONA_GNV=False cp_valido_encontrado=True codigo_postal_consultado='17537'\n",
      "cp_valido_listo_para_clima\n",
      "-----------------------\n",
      "apasionado_motor='sí' valora_estetica='no' coche_principal_hogar='no' uso_profesional='no' tipo_uso_profesional=None prefiere_diseno_exclusivo='sí' altura_mayor_190='no' peso_mayor_100='no' transporta_carga_voluminosa='no' necesita_espacio_objetos_especiales=None arrastra_remolque='no' aventura=<NivelAventura.ocasional: 'ocasional'> solo_electricos='no' prioriza_baja_depreciacion='no' transmision_preferida=<Transmision.AMBOS: 'ambos'> rating_fiabilidad_durabilidad=7 rating_seguridad=7 rating_comodidad=9 rating_impacto_ambiental=5 rating_tecnologia_conectividad=5 rating_costes_uso=8\n",
      "-----------------------\n",
      "estetica_min=1.0 tipo_mecanica=[<TipoMecanica.GASOLINA: 'GASOLINA'>, <TipoMecanica.BEV: 'BEV'>, <TipoMecanica.HEVD: 'HEVD'>, <TipoMecanica.HEVG: 'HEVG'>] premium_min=3.0 singular_min=6.0 tipo_carroceria=['SUV', 'FAMILIAR', 'TODOTERRENO'] modo_adquisicion_recomendado=None precio_max_contado_recomendado=None cuota_max_calculada=None plazas_min=1\n",
      "-----------------------\n",
      "frecuencia='nunca' num_ninos_silla=0 num_otros_pasajeros=0\n",
      "-----------------------\n",
      "modo=2 submodo=1 ingresos=None ahorro=None pago_contado=15000.0 cuota_max=None entrada=None anos_posesion=None\n",
      "-----------------------\n",
      "{'estetica': 0.009174311926605505, 'premium': 0.027522935779816515, 'singular': 0.05504587155963303, 'altura_libre_suelo': 0.05504587155963303, 'traccion': 0.10091743119266056, 'reductoras': 0.009174311926605505, 'batalla': 0.009174311926605505, 'indice_altura_interior': 0.045871559633027525, 'ancho': 0.009174311926605505, 'devaluacion': 0.009174311926605505, 'rating_fiabilidad_durabilidad': 0.06422018348623854, 'rating_seguridad': 0.06422018348623854, 'rating_comodidad': 0.08256880733944955, 'rating_impacto_ambiental': 0.045871559633027525, 'rating_tecnologia_conectividad': 0.045871559633027525, 'maletero_minimo_score': 0.009174311926605505, 'maletero_maximo_score': 0.009174311926605505, 'largo_vehiculo_score': 0.009174311926605505, 'autonomia_vehiculo': 0.045871559633027525, 'fav_bajo_peso': 0.0, 'fav_bajo_consumo': 0.045871559633027525, 'rating_costes_uso': 0.07339449541284404, 'fav_bajo_coste_uso_directo': 0.08256880733944955, 'fav_bajo_coste_mantenimiento_directo': 0.06422018348623854, 'par_motor_remolque_score': 0.009174311926605505, 'cap_remolque_cf_score': 0.009174311926605505, 'cap_remolque_sf_score': 0.009174311926605505}\n",
      "-----------------------\n",
      "False\n",
      "-----------------------\n",
      "frecuencia='nunca' num_ninos_silla=0 num_otros_pasajeros=0\n",
      "-----------------------\n",
      "True\n",
      "-----------------------\n",
      "True\n",
      "-----------------------\n",
      "False\n",
      "-----------------------\n",
      "False\n",
      "-----------------------\n",
      "False\n",
      "-----------------------\n",
      "False\n",
      "-----------------------\n",
      "dict_keys(['messages', 'codigo_postal_usuario', 'info_clima_usuario', '_decision_cp_validation', 'preferencias_usuario', 'filtros_inferidos', 'economia', 'pesos', 'pregunta_pendiente', 'coches_recomendados', 'info_pasajeros', 'penalizar_puertas_bajas', 'priorizar_ancho', 'flag_penalizar_low_cost_comodidad', 'flag_penalizar_deportividad_comodidad', 'flag_penalizar_antiguo_por_tecnologia', 'aplicar_logica_distintivo_ambiental', 'tabla_resumen_criterios'])\n"
     ]
    }
   ],
   "source": [
    "print(output['codigo_postal_usuario'])\n",
    "print(output['info_clima_usuario'])\n",
    "print(output['_decision_cp_validation'])\n",
    "print('-----------------------')\n",
    "print(output['preferencias_usuario'])\n",
    "print('-----------------------')\n",
    "print(output['filtros_inferidos'])\n",
    "print('-----------------------')\n",
    "print(output['info_pasajeros'])\n",
    "print('-----------------------')\n",
    "print(output['economia'])\n",
    "print('-----------------------')\n",
    "print(output['pesos'])\n",
    "print('-----------------------')\n",
    "print(output['priorizar_ancho'])\n",
    "print('-----------------------')\n",
    "print(output['info_pasajeros'])\n",
    "print('-----------------------')\n",
    "print(output['flag_penalizar_deportividad_comodidad'])\n",
    "print('-----------------------')\n",
    "print(output['flag_penalizar_low_cost_comodidad'])\n",
    "print('-----------------------')\n",
    "print(output['penalizar_puertas_bajas'])\n",
    "print('-----------------------')\n",
    "print(output['flag_penalizar_antiguo_por_tecnologia'])\n",
    "print('-----------------------')\n",
    "print(output['aplicar_logica_distintivo_ambiental'])\n",
    "print('-----------------------')\n",
    "print(output['penalizar_puertas_bajas'])\n",
    "print('-----------------------')\n",
    "print(output.keys())\n"
   ]
  },
  {
   "cell_type": "markdown",
   "metadata": {},
   "source": [
    "## Prueba 2"
   ]
  },
  {
   "cell_type": "code",
   "execution_count": null,
   "metadata": {},
   "outputs": [],
   "source": [
    "# Create a thread\n",
    "config = {\"configurable\": {\"thread_id\": \"2\"}}\n",
    "\n",
    "# Start conversation\n",
    "input_message = HumanMessage(content=\"Quiero un coche mido 1.93. Peso 80 kg\")\n",
    "output = graph.invoke({\"messages\": [input_message]}, config) \n",
    "for m in output['messages'][-1:]:\n",
    "    m.pretty_print()"
   ]
  },
  {
   "cell_type": "code",
   "execution_count": null,
   "metadata": {},
   "outputs": [],
   "source": [
    "# Create a thread\n",
    "config = {\"configurable\": {\"thread_id\": \"2\"}}\n",
    "\n",
    "# Start conversation\n",
    "input_message = HumanMessage(content=\"si, lo soy\")\n",
    "output = graph.invoke({\"messages\": [input_message]}, config) \n",
    "for m in output['messages'][-1:]:\n",
    "    m.pretty_print()"
   ]
  },
  {
   "cell_type": "code",
   "execution_count": null,
   "metadata": {},
   "outputs": [],
   "source": [
    "# Create a thread\n",
    "config = {\"configurable\": {\"thread_id\": \"2\"}}\n",
    "\n",
    "# Start conversation\n",
    "input_message = HumanMessage(content=\"no\")\n",
    "output = graph.invoke({\"messages\": [input_message]}, config) \n",
    "for m in output['messages'][-1:]:\n",
    "    m.pretty_print()"
   ]
  },
  {
   "cell_type": "code",
   "execution_count": null,
   "metadata": {},
   "outputs": [],
   "source": [
    "# Create a thread\n",
    "config = {\"configurable\": {\"thread_id\": \"2\"}}\n",
    "\n",
    "# Start conversation\n",
    "input_message = HumanMessage(content=\"no\")\n",
    "output = graph.invoke({\"messages\": [input_message]}, config) \n",
    "for m in output['messages'][-1:]:\n",
    "    m.pretty_print()"
   ]
  },
  {
   "cell_type": "code",
   "execution_count": null,
   "metadata": {},
   "outputs": [],
   "source": [
    "# Create a thread\n",
    "config = {\"configurable\": {\"thread_id\": \"2\"}}\n",
    "\n",
    "# Start conversation\n",
    "input_message = HumanMessage(content=\"no\")\n",
    "output = graph.invoke({\"messages\": [input_message]}, config) \n",
    "for m in output['messages'][-1:]:\n",
    "    m.pretty_print()"
   ]
  },
  {
   "cell_type": "code",
   "execution_count": null,
   "metadata": {},
   "outputs": [],
   "source": [
    "# Create a thread\n",
    "config = {\"configurable\": {\"thread_id\": \"2\"}}\n",
    "\n",
    "# Start conversation\n",
    "input_message = HumanMessage(content=\"no\")\n",
    "output = graph.invoke({\"messages\": [input_message]}, config) \n",
    "for m in output['messages'][-1:]:\n",
    "    m.pretty_print()"
   ]
  },
  {
   "cell_type": "code",
   "execution_count": null,
   "metadata": {},
   "outputs": [],
   "source": [
    "# Create a thread\n",
    "config = {\"configurable\": {\"thread_id\": \"2\"}}\n",
    "\n",
    "# Start conversation\n",
    "input_message = HumanMessage(content=\"no\")\n",
    "output = graph.invoke({\"messages\": [input_message]}, config) \n",
    "for m in output['messages'][-1:]:\n",
    "    m.pretty_print()"
   ]
  },
  {
   "cell_type": "code",
   "execution_count": null,
   "metadata": {},
   "outputs": [],
   "source": [
    "# Create a thread\n",
    "config = {\"configurable\": {\"thread_id\": \"2\"}}\n",
    "\n",
    "# Start conversation\n",
    "input_message = HumanMessage(content=\"si\")\n",
    "output = graph.invoke({\"messages\": [input_message]}, config) \n",
    "for m in output['messages'][-1:]:\n",
    "    m.pretty_print()"
   ]
  },
  {
   "cell_type": "code",
   "execution_count": null,
   "metadata": {},
   "outputs": [],
   "source": [
    "# Create a thread\n",
    "config = {\"configurable\": {\"thread_id\": \"2\"}}\n",
    "\n",
    "# Start conversation\n",
    "input_message = HumanMessage(content=\"ambos\")\n",
    "output = graph.invoke({\"messages\": [input_message]}, config) \n",
    "for m in output['messages'][-1:]:\n",
    "    m.pretty_print()"
   ]
  },
  {
   "cell_type": "code",
   "execution_count": null,
   "metadata": {},
   "outputs": [],
   "source": [
    "# Create a thread\n",
    "config = {\"configurable\": {\"thread_id\": \"2\"}}\n",
    "\n",
    "# Start conversation\n",
    "input_message = HumanMessage(content=\"no\")\n",
    "output = graph.invoke({\"messages\": [input_message]}, config) \n",
    "for m in output['messages'][-1:]:\n",
    "    m.pretty_print()"
   ]
  },
  {
   "cell_type": "code",
   "execution_count": null,
   "metadata": {},
   "outputs": [],
   "source": [
    "# Create a thread\n",
    "config = {\"configurable\": {\"thread_id\": \"2\"}}\n",
    "\n",
    "# Start conversation\n",
    "input_message = HumanMessage(content=\"ocasional\")\n",
    "output = graph.invoke({\"messages\": [input_message]}, config) \n",
    "for m in output['messages'][-1:]:\n",
    "    m.pretty_print()"
   ]
  },
  {
   "cell_type": "code",
   "execution_count": null,
   "metadata": {},
   "outputs": [],
   "source": [
    "print(output['preferencias_usuario'])\n",
    "print('---------------------------------------------------------------------')\n",
    "# print(output['filtros_inferidos']) \n",
    "# print('---------------------------------------------------------------------')\n",
    "# #print(output['pesos'])"
   ]
  },
  {
   "cell_type": "code",
   "execution_count": null,
   "metadata": {},
   "outputs": [],
   "source": [
    "# Create a thread\n",
    "config = {\"configurable\": {\"thread_id\": \"2\"}}\n",
    "\n",
    "# Start conversation\n",
    "input_message = HumanMessage(content=\"no\")\n",
    "output = graph.invoke({\"messages\": [input_message]}, config) \n",
    "for m in output['messages'][-1:]:\n",
    "    m.pretty_print()"
   ]
  },
  {
   "cell_type": "code",
   "execution_count": null,
   "metadata": {},
   "outputs": [],
   "source": [
    "# Create a thread\n",
    "config = {\"configurable\": {\"thread_id\": \"2\"}}\n",
    "\n",
    "# Start conversation\n",
    "input_message = HumanMessage(content=\"7\")\n",
    "output = graph.invoke({\"messages\": [input_message]}, config) \n",
    "for m in output['messages'][-1:]:\n",
    "    m.pretty_print()"
   ]
  },
  {
   "cell_type": "code",
   "execution_count": null,
   "metadata": {},
   "outputs": [],
   "source": [
    "# Create a thread\n",
    "config = {\"configurable\": {\"thread_id\": \"2\"}}\n",
    "\n",
    "# Start conversation\n",
    "input_message = HumanMessage(content=\"9\")\n",
    "output = graph.invoke({\"messages\": [input_message]}, config) \n",
    "for m in output['messages'][-1:]:\n",
    "    m.pretty_print()"
   ]
  },
  {
   "cell_type": "code",
   "execution_count": null,
   "metadata": {},
   "outputs": [],
   "source": [
    "# Create a thread\n",
    "config = {\"configurable\": {\"thread_id\": \"2\"}}\n",
    "\n",
    "# Start conversation\n",
    "input_message = HumanMessage(content=\"5\")\n",
    "output = graph.invoke({\"messages\": [input_message]}, config) \n",
    "for m in output['messages'][-1:]:\n",
    "    m.pretty_print()"
   ]
  },
  {
   "cell_type": "code",
   "execution_count": null,
   "metadata": {},
   "outputs": [],
   "source": [
    "# Create a thread\n",
    "config = {\"configurable\": {\"thread_id\": \"2\"}}\n",
    "\n",
    "# Start conversation\n",
    "input_message = HumanMessage(content=\"siete\")\n",
    "output = graph.invoke({\"messages\": [input_message]}, config) \n",
    "for m in output['messages'][-1:]:\n",
    "    m.pretty_print()"
   ]
  },
  {
   "cell_type": "code",
   "execution_count": null,
   "metadata": {},
   "outputs": [],
   "source": [
    "# Create a thread\n",
    "config = {\"configurable\": {\"thread_id\": \"2\"}}\n",
    "\n",
    "# Start conversation\n",
    "input_message = HumanMessage(content=\"9\")\n",
    "output = graph.invoke({\"messages\": [input_message]}, config) \n",
    "for m in output['messages'][-1:]:\n",
    "    m.pretty_print()"
   ]
  },
  {
   "cell_type": "code",
   "execution_count": null,
   "metadata": {},
   "outputs": [],
   "source": [
    "# Create a thread\n",
    "config = {\"configurable\": {\"thread_id\": \"2\"}}\n",
    "\n",
    "# Start conversation\n",
    "input_message = HumanMessage(content=\"8\")\n",
    "output = graph.invoke({\"messages\": [input_message]}, config) \n",
    "for m in output['messages'][-1:]:\n",
    "    m.pretty_print()"
   ]
  },
  {
   "cell_type": "code",
   "execution_count": null,
   "metadata": {},
   "outputs": [],
   "source": [
    "# Create a thread\n",
    "config = {\"configurable\": {\"thread_id\": \"2\"}}\n",
    "\n",
    "# Start conversation\n",
    "input_message = HumanMessage(content=\"no\")\n",
    "output = graph.invoke({\"messages\": [input_message]}, config) \n",
    "for m in output['messages'][-1:]:\n",
    "    m.pretty_print()"
   ]
  },
  {
   "cell_type": "code",
   "execution_count": null,
   "metadata": {},
   "outputs": [],
   "source": [
    "# Create a thread\n",
    "config = {\"configurable\": {\"thread_id\": \"2\"}}\n",
    "\n",
    "# Start conversation\n",
    "input_message = HumanMessage(content=\"7\")\n",
    "output = graph.invoke({\"messages\": [input_message]}, config) \n",
    "for m in output['messages'][-1:]:\n",
    "    m.pretty_print()"
   ]
  },
  {
   "cell_type": "code",
   "execution_count": null,
   "metadata": {},
   "outputs": [],
   "source": [
    "config = {\"configurable\": {\"thread_id\": \"2\"}}\n",
    "input_message = HumanMessage(content=\"6\")\n",
    "output = graph.invoke({\"messages\": [input_message]}, config) \n",
    "for m in output['messages'][-1:]:\n",
    "    m.pretty_print()"
   ]
  },
  {
   "cell_type": "code",
   "execution_count": null,
   "metadata": {},
   "outputs": [],
   "source": [
    "config = {\"configurable\": {\"thread_id\": \"2\"}}\n",
    "input_message = HumanMessage(content=\"8\")\n",
    "output = graph.invoke({\"messages\": [input_message]}, config) \n",
    "for m in output['messages'][-1:]:\n",
    "    m.pretty_print()"
   ]
  },
  {
   "cell_type": "code",
   "execution_count": null,
   "metadata": {},
   "outputs": [],
   "source": [
    "# Create a thread\n",
    "config = {\"configurable\": {\"thread_id\": \"2\"}}\n",
    "\n",
    "# Start conversation\n",
    "input_message = HumanMessage(content=\"ocasionalmente\")\n",
    "output = graph.invoke({\"messages\": [input_message]}, config) \n",
    "for m in output['messages'][-1:]:\n",
    "    m.pretty_print()"
   ]
  },
  {
   "cell_type": "code",
   "execution_count": null,
   "metadata": {},
   "outputs": [],
   "source": [
    "# Create a thread\n",
    "config = {\"configurable\": {\"thread_id\": \"2\"}}\n",
    "\n",
    "# Start conversation\n",
    "input_message = HumanMessage(content=\"7\")\n",
    "output = graph.invoke({\"messages\": [input_message]}, config) \n",
    "for m in output['messages'][-1:]:\n",
    "    m.pretty_print()"
   ]
  },
  {
   "cell_type": "code",
   "execution_count": null,
   "metadata": {},
   "outputs": [],
   "source": [
    "# Create a thread\n",
    "config = {\"configurable\": {\"thread_id\": \"2\"}}\n",
    "\n",
    "# Start conversation\n",
    "input_message = HumanMessage(content=\"10\")\n",
    "output = graph.invoke({\"messages\": [input_message]}, config) \n",
    "for m in output['messages'][-1:]:\n",
    "    m.pretty_print()"
   ]
  },
  {
   "cell_type": "code",
   "execution_count": null,
   "metadata": {},
   "outputs": [],
   "source": [
    "\n",
    "print(output['preferencias_usuario'])\n",
    "print('---------------------------------------------------------------------')\n",
    "# print(output['filtros_inferidos']) \n",
    "print('---------------------------------------------------------------------')\n",
    "# print(output['economia'])"
   ]
  },
  {
   "cell_type": "code",
   "execution_count": null,
   "metadata": {},
   "outputs": [],
   "source": [
    "# Create a thread\n",
    "config = {\"configurable\": {\"thread_id\": \"2\"}}\n",
    "\n",
    "# Start conversation\n",
    "input_message = HumanMessage(content=\"si, llevo 2 acompañantes\")\n",
    "output = graph.invoke({\"messages\": [input_message]}, config) \n",
    "for m in output['messages'][-1:]:\n",
    "    m.pretty_print()"
   ]
  },
  {
   "cell_type": "code",
   "execution_count": null,
   "metadata": {},
   "outputs": [],
   "source": [
    "print(output['preferencias_usuario'])\n",
    "print('---------------------------------------------------------------------')\n",
    "print(output['filtros_inferidos']) #"
   ]
  },
  {
   "cell_type": "code",
   "execution_count": null,
   "metadata": {},
   "outputs": [],
   "source": [
    "config = {\"configurable\": {\"thread_id\": \"2\"}}\n",
    "input_message = HumanMessage(content=\"ninos no\")\n",
    "output = graph.invoke({\"messages\": [input_message]}, config) \n",
    "for m in output['messages'][-1:]:\n",
    "    m.pretty_print()"
   ]
  },
  {
   "cell_type": "code",
   "execution_count": null,
   "metadata": {},
   "outputs": [],
   "source": [
    "config = {\"configurable\": {\"thread_id\": \"2\"}}\n",
    "input_message = HumanMessage(content=\"la 2\")\n",
    "output = graph.invoke({\"messages\": [input_message]}, config) \n",
    "for m in output['messages'][-1:]:\n",
    "    m.pretty_print()"
   ]
  },
  {
   "cell_type": "code",
   "execution_count": null,
   "metadata": {},
   "outputs": [],
   "source": [
    "config = {\"configurable\": {\"thread_id\": \"2\"}}\n",
    "input_message = HumanMessage(content=\"pago total al contado maximo de 22.000 euros\")\n",
    "output = graph.invoke({\"messages\": [input_message]}, config) \n",
    "for m in output['messages'][-1:]:\n",
    "    m.pretty_print()"
   ]
  },
  {
   "cell_type": "code",
   "execution_count": null,
   "metadata": {},
   "outputs": [],
   "source": [
    "config = {\"configurable\": {\"thread_id\": \"2\"}}\n",
    "input_message = HumanMessage(content=\"6.000 ahorrados\")\n",
    "output = graph.invoke({\"messages\": [input_message]}, config) \n",
    "for m in output['messages'][-1:]:\n",
    "    m.pretty_print()"
   ]
  },
  {
   "cell_type": "code",
   "execution_count": null,
   "metadata": {},
   "outputs": [],
   "source": [
    "config = {\"configurable\": {\"thread_id\": \"2\"}}\n",
    "input_message = HumanMessage(content=\"5 años\")\n",
    "output = graph.invoke({\"messages\": [input_message]}, config) \n",
    "for m in output['messages'][-1:]:\n",
    "    m.pretty_print()"
   ]
  },
  {
   "cell_type": "code",
   "execution_count": null,
   "metadata": {},
   "outputs": [],
   "source": [
    "print(output['preferencias_usuario'])\n",
    "print('---------------------------------------------------------------------')\n",
    "print(output['filtros_inferidos'])\n",
    "print('---------------------------------------------------------------------')\n",
    "print(output['economia'])\n",
    "print('---------------------------------------------------------------------')\n",
    "print(output['pesos'])"
   ]
  },
  {
   "cell_type": "code",
   "execution_count": null,
   "metadata": {},
   "outputs": [],
   "source": [
    "print(output.keys())"
   ]
  },
  {
   "cell_type": "code",
   "execution_count": null,
   "metadata": {},
   "outputs": [],
   "source": [
    "print(output['pesos'])"
   ]
  },
  {
   "cell_type": "code",
   "execution_count": null,
   "metadata": {},
   "outputs": [],
   "source": [
    "state = graph.get_state(config).values\n",
    "for m in state['messages']:\n",
    "    m.pretty_print()\n",
    "    \n",
    "    "
   ]
  },
  {
   "cell_type": "markdown",
   "metadata": {},
   "source": [
    "revisar las reglas de altura "
   ]
  },
  {
   "cell_type": "markdown",
   "metadata": {},
   "source": [
    "## Prueba 3"
   ]
  },
  {
   "cell_type": "code",
   "execution_count": null,
   "metadata": {},
   "outputs": [],
   "source": [
    "# Create a thread\n",
    "config = {\"configurable\": {\"thread_id\": \"3\"}}\n",
    "\n",
    "# Start conversation\n",
    "input_message = HumanMessage(content=\"hola, dime quien eres?\")\n",
    "output = graph.invoke({\"messages\": [input_message]}, config) \n",
    "for m in output['messages'][-1:]:\n",
    "    m.pretty_print()\n"
   ]
  },
  {
   "cell_type": "code",
   "execution_count": null,
   "metadata": {},
   "outputs": [],
   "source": [
    "print(output['preferencias_usuario'])\n",
    "print('---------------------------------------------------------------------')\n",
    "print(output['filtros_inferidos'])\n"
   ]
  },
  {
   "cell_type": "code",
   "execution_count": null,
   "metadata": {},
   "outputs": [],
   "source": [
    "# Create a thread\n",
    "config = {\"configurable\": {\"thread_id\": \"3\"}}\n",
    "\n",
    "# Start conversation\n",
    "input_message = HumanMessage(content=\"tienes motos?\")\n",
    "output = graph.invoke({\"messages\": [input_message]}, config) \n",
    "for m in output['messages'][-1:]:\n",
    "    m.pretty_print()\n"
   ]
  },
  {
   "cell_type": "code",
   "execution_count": null,
   "metadata": {},
   "outputs": [],
   "source": [
    "print(output['preferencias_usuario'])\n",
    "print('---------------------------------------------------------------------')\n",
    "print(output['filtros_inferidos'])"
   ]
  },
  {
   "cell_type": "code",
   "execution_count": null,
   "metadata": {},
   "outputs": [],
   "source": [
    "# Consultar todo el estado acumulado\n",
    "state = graph.get_state(config).values\n",
    "for m in state[\"messages\"]:\n",
    "    m.pretty_print()"
   ]
  },
  {
   "cell_type": "markdown",
   "metadata": {},
   "source": [
    "## Prueba 4"
   ]
  },
  {
   "cell_type": "code",
   "execution_count": null,
   "metadata": {},
   "outputs": [],
   "source": [
    "# Create a thread\n",
    "config = {\"configurable\": {\"thread_id\": \"4\"}}\n",
    "\n",
    "# Start conversation\n",
    "input_message = HumanMessage(content=\"Quiero un coche elegante que usaré para trabajar todos los días. Me gustan los diseños llamativos. Mido 1.94\")\n",
    "output = graph.invoke({\"messages\": [input_message]}, config) \n",
    "for m in output['messages'][-1:]:\n",
    "    m.pretty_print()"
   ]
  },
  {
   "cell_type": "code",
   "execution_count": null,
   "metadata": {},
   "outputs": [],
   "source": [
    "print(output['preferencias_usuario'])\n",
    "print('---------------------------------------------------------------------')\n",
    "print(output['filtros_inferidos'])\n"
   ]
  },
  {
   "cell_type": "code",
   "execution_count": null,
   "metadata": {},
   "outputs": [],
   "source": [
    "# Create a thread\n",
    "config = {\"configurable\": {\"thread_id\": \"4\"}}\n",
    "\n",
    "# Start conversation\n",
    "input_message = HumanMessage(content=\"si electrico estaria perfecto\")\n",
    "output = graph.invoke({\"messages\": [input_message]}, config) \n",
    "for m in output['messages'][-1:]:\n",
    "    m.pretty_print()"
   ]
  },
  {
   "cell_type": "code",
   "execution_count": null,
   "metadata": {},
   "outputs": [],
   "source": [
    "print(output['preferencias_usuario'])\n",
    "print('---------------------------------------------------------------------')\n",
    "print(output['filtros_inferidos'])"
   ]
  },
  {
   "cell_type": "code",
   "execution_count": null,
   "metadata": {},
   "outputs": [],
   "source": [
    "# Create a thread\n",
    "config = {\"configurable\": {\"thread_id\": \"4\"}}\n",
    "\n",
    "# Start conversation\n",
    "input_message = HumanMessage(content=\"automatico y peso menos de 100kg\")\n",
    "output = graph.invoke({\"messages\": [input_message]}, config) \n",
    "for m in output['messages'][-1:]:\n",
    "    m.pretty_print()"
   ]
  },
  {
   "cell_type": "code",
   "execution_count": null,
   "metadata": {},
   "outputs": [],
   "source": [
    "print(output['preferencias_usuario'])\n",
    "print('---------------------------------------------------------------------')\n",
    "print(output['filtros_inferidos'])"
   ]
  },
  {
   "cell_type": "code",
   "execution_count": null,
   "metadata": {},
   "outputs": [],
   "source": [
    "# Create a thread\n",
    "config = {\"configurable\": {\"thread_id\": \"4\"}}\n",
    "\n",
    "# Start conversation\n",
    "input_message = HumanMessage(content=\"si me apasionan los coches\")\n",
    "output = graph.invoke({\"messages\": [input_message]}, config) \n",
    "for m in output['messages'][-1:]:\n",
    "    m.pretty_print()"
   ]
  },
  {
   "cell_type": "code",
   "execution_count": null,
   "metadata": {},
   "outputs": [],
   "source": [
    "print(output['preferencias_usuario'])\n",
    "print('---------------------------------------------------------------------')\n",
    "print(output['filtros_inferidos'])"
   ]
  },
  {
   "cell_type": "code",
   "execution_count": null,
   "metadata": {},
   "outputs": [],
   "source": [
    "# Create a thread\n",
    "config = {\"configurable\": {\"thread_id\": \"4\"}}\n",
    "\n",
    "# Start conversation\n",
    "input_message = HumanMessage(content=\"si\")\n",
    "output = graph.invoke({\"messages\": [input_message]}, config) \n",
    "for m in output['messages'][-1:]:\n",
    "    m.pretty_print()"
   ]
  },
  {
   "cell_type": "markdown",
   "metadata": {},
   "source": [
    "# Prueba 5"
   ]
  },
  {
   "cell_type": "code",
   "execution_count": null,
   "metadata": {},
   "outputs": [],
   "source": [
    "# Create a thread\n",
    "config = {\"configurable\": {\"thread_id\": \"5\"}}\n",
    "\n",
    "# Start conversation\n",
    "input_message = HumanMessage(content=\"Dime quien eres\")\n",
    "output = graph.invoke({\"messages\": [input_message]}, config) \n",
    "for m in output['messages'][-1:]:\n",
    "    m.pretty_print()"
   ]
  },
  {
   "cell_type": "code",
   "execution_count": null,
   "metadata": {},
   "outputs": [],
   "source": [
    "# Create a thread\n",
    "config = {\"configurable\": {\"thread_id\": \"5\"}}\n",
    "\n",
    "# Start conversation\n",
    "input_message = HumanMessage(content=\"tienes motos para recomendarme?\")\n",
    "output = graph.invoke({\"messages\": [input_message]}, config) \n",
    "for m in output['messages'][-1:]:\n",
    "    m.pretty_print()"
   ]
  },
  {
   "cell_type": "code",
   "execution_count": null,
   "metadata": {},
   "outputs": [],
   "source": [
    "state = graph.get_state(config).values\n",
    "for m in state[\"messages\"]:\n",
    "    m.pretty_print()"
   ]
  },
  {
   "cell_type": "markdown",
   "metadata": {},
   "source": [
    "## Objetivo\n",
    "Crear un nuevo nodo en LangGraph llamado analizar_perfil_usuario que:\n",
    "\n",
    "Reciba el mensaje del usuario.\n",
    "\n",
    "Llame a un LLM con un SystemMessage especializado.\n",
    "\n",
    "Devuelva un dict con tres secciones:\n",
    "\n",
    "\"perfil_usuario\" → altura, peso, uso, gustos, etc.\n",
    "\n",
    "\"filtros_inferidos\" → potencia_min, plazas_min, etc.\n",
    "\n",
    "\"mensaje_validacion\"\n",
    "\n",
    "Este resultado lo guardaremos en el state para luego usarlo al llamar buscar_producto_bd()."
   ]
  },
  {
   "cell_type": "code",
   "execution_count": null,
   "metadata": {},
   "outputs": [],
   "source": []
  },
  {
   "cell_type": "code",
   "execution_count": null,
   "metadata": {},
   "outputs": [],
   "source": [
    "\n",
    "# Configurar el cliente de BigQuery\n",
    "client = bigquery.Client(project=\"thecarmentor-mvp2\")\n",
    "\n",
    "@tool\n",
    "def buscar_producto_bd(consulta: str, filtros: dict = None):\n",
    "    \"\"\"\n",
    "    Busca productos en la base de datos utilizando una consulta semántica en BigQuery.\n",
    "    Tu objetivo es proporcionar respuestas precisas para ayudar en la búsqueda en el inventario de coches disponibles.\n",
    "    \n",
    "    Args:\n",
    "        consulta (str): Consulta de texto para buscar productos similares.\n",
    "    \n",
    "    Returns:\n",
    "        list[dict]: Resultados formateados como una lista de diccionarios con detalles de los productos más relevantes.\n",
    "    \"\"\"\n",
    "    \n",
    "    if not consulta.strip():\n",
    "        raise ValueError(\"La consulta no puede estar vacía.\")\n",
    "\n",
    "    # Normalizar la consulta para que coincida con el formato de los embeddings.\n",
    "    consulta_normalizada = normalize_text_sql(consulta)\n",
    "    logging.debug(f\"Consulta normalizada: {consulta_normalizada}\")\n",
    "    \n",
    "    try:\n",
    "        base_query = \"\"\"\n",
    "        WITH resultados_vector AS (\n",
    "            SELECT \n",
    "                base.content AS nombre_coche,\n",
    "                base.mecanica,\n",
    "                base.price,\n",
    "                base.KM,\n",
    "                base.year,\n",
    "                base.image_url,\n",
    "                search_result.distance\n",
    "            FROM VECTOR_SEARCH(\n",
    "                TABLE `web_cars.coches_embeddingsV1`,\n",
    "                'ml_generate_embedding_result',\n",
    "                (SELECT * FROM ML.GENERATE_EMBEDDING(\n",
    "                    MODEL `thecarmentor-mvp2.mymodel.modelembedding`,\n",
    "                    (SELECT @consulta AS content),\n",
    "                    STRUCT(TRUE AS flatten_json_output, 'SEMANTIC_SIMILARITY' AS task_type, 768 AS output_dimensionality)\n",
    "                )),\n",
    "                'ml_generate_embedding_result',\n",
    "                top_k => 6\n",
    "            ) AS search_result\n",
    "        )\n",
    "        SELECT * FROM resultados_vector\n",
    "        WHERE 1=1\n",
    "        \"\"\"\n",
    "        \n",
    "        # Inicializar lista de condiciones y parámetros\n",
    "        query_conditions = []\n",
    "        # Usamos la consulta normalizada para la generación del embedding\n",
    "        query_parameters = [bigquery.ScalarQueryParameter(\"consulta\", \"STRING\", consulta_normalizada)]\n",
    "        \n",
    "        # Agregar condiciones dinámicamente según los filtros proporcionados\n",
    "        if filtros:\n",
    "            if 'precio_max' in filtros:\n",
    "                query_conditions.append(\"price <= @precio_max\")\n",
    "                query_parameters.append(bigquery.ScalarQueryParameter(\"precio_max\", \"INT64\", filtros[\"precio_max\"]))\n",
    "            if 'precio_min' in filtros:\n",
    "                query_conditions.append(\"price >= @precio_min\")\n",
    "                query_parameters.append(bigquery.ScalarQueryParameter(\"precio_min\", \"INT64\", filtros[\"precio_min\"]))\n",
    "            if 'year_min' in filtros:\n",
    "                query_conditions.append(\"year >= @year_min\")\n",
    "                query_parameters.append(bigquery.ScalarQueryParameter(\"year_min\", \"INT64\", filtros[\"year_min\"]))\n",
    "            if 'km_max' in filtros:\n",
    "                query_conditions.append(\"KM <= @km_max\")\n",
    "                query_parameters.append(bigquery.ScalarQueryParameter(\"km_max\", \"INT64\", filtros[\"km_max\"]))\n",
    "\n",
    "        # Si hay filtros, agregarlos a la consulta\n",
    "        # if query_conditions:\n",
    "        #     base_query += \" AND \" + \" AND \".join(query_conditions)\n",
    "        if query_conditions:\n",
    "            base_query += \" \" + \" AND \".join(query_conditions)\n",
    "\n",
    "\n",
    "        logging.debug(f\"Consulta SQL generada: {base_query}\")\n",
    "        logging.debug(f\"Parámetros de consulta: {query_parameters}\")\n",
    "\n",
    "        # Ejecutar la consulta\n",
    "        query_job = client.query(\n",
    "            base_query, \n",
    "            job_config=bigquery.QueryJobConfig(query_parameters=query_parameters)\n",
    "        )\n",
    "        results = query_job.result().to_dataframe()\n",
    "        # Ordenar los resultados por similitud\n",
    "        if not results.empty:\n",
    "            results = results.sort_values(by=\"distance\", ascending=True)\n",
    "\n",
    "        if results.empty:\n",
    "            return [{\"error\": \"No se encontraron resultados para la consulta y los filtros aplicados.\"}]\n",
    "            \n",
    "        formatted_results = [\n",
    "            {\n",
    "                \"nombre_coche\": row[\"nombre_coche\"],\n",
    "                \"mecanica\": row[\"mecanica\"],\n",
    "                \"precio\": row[\"price\"],\n",
    "                \"kilometros\": row[\"KM\"],\n",
    "                \"año\": row[\"year\"],\n",
    "                \"imagen\": row[\"image_url\"],\n",
    "                \"similitud\": round(row[\"distance\"], 2)\n",
    "            }\n",
    "            for _, row in results.iterrows()\n",
    "        ]\n",
    "        return formatted_results\n",
    "\n",
    "    except Exception as e:\n",
    "        logging.error(f\"Error al ejecutar la consulta: {e}\", exc_info=True)\n",
    "        return [{\"error\": \"No se pudieron encontrar resultados.\"}]\n",
    "\n",
    "# Definir herramientas\n",
    "# tools = [buscar_producto_bd]\n",
    "\n",
    "\n",
    "\n",
    "# Actualizar lista de herramientas\n",
    "tools = [buscar_producto_bd]\n",
    "llm_with_tools = llm.bind_tools(tools, parallel_tool_calls=True)\n"
   ]
  },
  {
   "cell_type": "code",
   "execution_count": null,
   "metadata": {},
   "outputs": [],
   "source": [
    "\n",
    "sys_msg = SystemMessage(content=\"\"\"Eres Mentor, un util y experto en la busqueda de coches.\n",
    "INSTRUCCIONES IMPORTANTES:\n",
    "**Antes de hacer una búsqueda en la base de datos, analiza la consulta y extrae solo la información clave.**  \n",
    "   - Si el usuario menciona un coche, filtra la consulta para obtener solo **la marca, modelo, versión, tipo de motorización y año**.\n",
    "   - **No incluyas frases completas del usuario como búsqueda.**  \n",
    "   - **No pases palabras como \"quiero\", \"busco\", \"auto\", \"coche\", \"modelo\", \"año\" si no son parte del nombre oficial del coche.**\n",
    "   - **Ejemplo:**  \n",
    "     - Entrada: `\"quiero coche bmw serie 1 120d hibrido año 2024\"`  \n",
    "     - **Consulta que debes generar:** `\"bmw serie 1 120d hibrido 2024\"`\n",
    "\n",
    "**Definiendo Preferencias**\n",
    "   - Para dar recomendaciones acertadas, puedes pedir al usuario que proporcione detalles sobre lo que busca:\n",
    "     • ¿Tienes una **marca** preferida?\n",
    "     • ¿Cuál es tu **presupuesto máximo**? (Opcional)\n",
    "     • ¿Te importa el **kilometraje máximo**? (Opcional)\n",
    "     • ¿Qué **años de antigüedad** son aceptables? (Opcional)\n",
    "\n",
    "**Presentación de Resultados**\n",
    "    - Aplica los filtros pero muestra también alguna alternativa fuera de los filtros si es muy relevante\n",
    "    Usa este formato para cada coche encontrado: \n",
    "    ### [Modelo]\n",
    "    ![Imagen del vehículo]([url_imagen])\n",
    "     - **Precio:** [precio]€\n",
    "     - **Kilómetros:** [km] km\n",
    "     - **Mecánica:** [tipo]\n",
    "     - **Año:** [year]\n",
    "     - **Similitud con tu búsqueda:** [score]\n",
    " \n",
    "** Ajustes**\n",
    "   - Si no encuentras lo que buscas, dime si quieres:\n",
    "   - Aumentar el **presupuesto** para ver modelos más recientes.\n",
    "   - Ampliar el **kilometraje permitido** para más opciones.\n",
    "   - Incluir **otros años** para expandir la búsqueda.\n",
    "   \n",
    "**Información Adicional**\n",
    "   -usa la herramienta `buscar_info_adicional` para obtener información actualizada sobre un modelo específico de coche.\n",
    "   - **Ejemplo:** `buscar_info_adicional(\"que caracteristicas tiene el BMW 320d 2019\")`\n",
    "\"\"\")\n",
    "# - También puedo **comparar dos coches** si tienes modelos específicos en mente.\n",
    "def assistant(state: MessagesState):\n",
    "    \"\"\"\n",
    "    Función principal del asistente invocando una búsqueda.\n",
    "    \"\"\"\n",
    "    return {\"messages\": [llm_with_tools.invoke([sys_msg] + state[\"messages\"])]}\n",
    "\n",
    "\n",
    "#    user_input = state[\"messages\"][-1].content  # Último mensaje del usuario\n",
    "# if detect_comparison_intent(user_input):\n",
    "#         car1, car2 = extract_car_models_llm(user_input)\n",
    "#         if car1 and car2:\n",
    "#             car1_data, car2_data = obtener_datos_comparacion(car1, car2)\n",
    "#             return {\"messages\": [comparar_coches_llm(car1_data, car2_data)]}\n",
    "#         else:\n",
    "#             return {\"messages\": [\"No pude identificar claramente los coches a comparar. ¿Podrías mencionarlos nuevamente?\"]}\n"
   ]
  },
  {
   "cell_type": "code",
   "execution_count": null,
   "metadata": {},
   "outputs": [],
   "source": [
    "memory = MemorySaver()\n",
    "\n",
    "# Graph\n",
    "graph = StateGraph(MessagesState)\n",
    "\n",
    "# Define nodes: these do the work\n",
    "graph.add_node(\"assistant\", assistant)\n",
    "graph.add_node(\"tools\", ToolNode(tools))\n",
    "\n",
    "# Define edges: these determine how the control flow moves\n",
    "graph.add_edge(START, \"assistant\")\n",
    "graph.add_conditional_edges(\n",
    "    \"assistant\",\n",
    "    lambda state: logging.debug(f\"tools_condition evalúa: {tools_condition(state)}\") or tools_condition(state)\n",
    ")\n",
    "    # If the latest message (result) from assistant is a tool call -> tools_condition routes to tools\n",
    "    # If the latest message (result) from assistant is a not a tool call -> tools_condition routes to END\n",
    "#     tools_condition,\n",
    "# )\n",
    "graph.add_edge(\"tools\", \"assistant\")\n",
    "graph = graph.compile(checkpointer=memory)\n",
    "# Show\n",
    "display(Image(graph.get_graph(xray=True).draw_mermaid_png()))"
   ]
  },
  {
   "cell_type": "code",
   "execution_count": null,
   "metadata": {},
   "outputs": [],
   "source": [
    "# Start conversation, again\n",
    "config = {\"configurable\": {\"thread_id\": \"1\"}}\n",
    "\n",
    "# Specify an input\n",
    "input_message = HumanMessage(content=\"quiero coche bmw serie 1 120d hibrido año 2024\")\n",
    "output = graph.invoke({\"messages\": input_message}, config)\n",
    "\n",
    "# Mostrar los mensajes resultantes del primer paso\n",
    "for m in output[\"messages\"]:\n",
    "    m.pretty_print()"
   ]
  },
  {
   "cell_type": "code",
   "execution_count": null,
   "metadata": {},
   "outputs": [],
   "source": [
    "# Start conversation, again\n",
    "config = {\"configurable\": {\"thread_id\": \"1\"}}\n",
    "\n",
    "# Specify an input\n",
    "input_message = HumanMessage(content=\"kilometraje 50.000 y presupuesto no importa, muestrame todas las opciones\")\n",
    "output = graph.invoke({\"messages\": input_message}, config)\n",
    "\n",
    "# Mostrar los mensajes resultantes del primer paso\n",
    "for m in output[\"messages\"]:\n",
    "    m.pretty_print()"
   ]
  },
  {
   "cell_type": "code",
   "execution_count": null,
   "metadata": {},
   "outputs": [],
   "source": [
    "# Start conversation, again\n",
    "config = {\"configurable\": {\"thread_id\": \"1\"}}\n",
    "\n",
    "# Specify an input\n",
    "input_message = HumanMessage(content=\"podrias darme las caracteristicas del bmw serie 1 118i 2024 diesel\")\n",
    "output = graph.invoke({\"messages\": input_message}, config)\n",
    "\n",
    "# Mostrar los mensajes resultantes del primer paso\n",
    "for m in output[\"messages\"]:\n",
    "    m.pretty_print()"
   ]
  },
  {
   "cell_type": "code",
   "execution_count": null,
   "metadata": {},
   "outputs": [],
   "source": [
    "# Start conversation, again\n",
    "config = {\"configurable\": {\"thread_id\": \"1\"}}\n",
    "\n",
    "# Specify an input\n",
    "input_message = HumanMessage(content=\"si, dame las caracteristicas del El 118i a gasolina\")\n",
    "output = graph.invoke({\"messages\": input_message}, config)\n",
    "\n",
    "# Mostrar los mensajes resultantes del primer paso\n",
    "for m in output[\"messages\"]:\n",
    "    m.pretty_print()"
   ]
  },
  {
   "cell_type": "code",
   "execution_count": null,
   "metadata": {},
   "outputs": [],
   "source": [
    "# Start conversation, again\n",
    "config = {\"configurable\": {\"thread_id\": \"2\"}}\n",
    "\n",
    "# Specify an input\n",
    "input_message = HumanMessage(content=\"quiero un coche kia sportage a gasolina, puede ser año 2011 a 2020 y no importa el kilometraje\")\n",
    "output = graph.invoke({\"messages\": input_message}, config)\n",
    "\n",
    "# Mostrar los mensajes resultantes del primer paso\n",
    "for m in output[\"messages\"]:\n",
    "    m.pretty_print()"
   ]
  },
  {
   "cell_type": "code",
   "execution_count": null,
   "metadata": {},
   "outputs": [],
   "source": [
    "# Start conversation\n",
    "config = {\"configurable\": {\"thread_id\": \"2\"}}\n",
    "\n",
    "# Specify an input\n",
    "input_message = HumanMessage(content=\"maximo 25.000 euros\")\n",
    "output = graph.invoke({\"messages\": input_message}, config)\n",
    "\n",
    "# Mostrar los mensajes resultantes del primer paso\n",
    "for m in output[\"messages\"]:\n",
    "    m.pretty_print()"
   ]
  },
  {
   "cell_type": "code",
   "execution_count": null,
   "metadata": {},
   "outputs": [],
   "source": [
    "config = {\"configurable\": {\"thread_id\": \"3\"}}\n",
    "\n",
    "# Specify an input\n",
    "input_message = HumanMessage(content=\"Mentor quiero un coche familiar, me podrias recomendar alguno?\")\n",
    "output = graph.invoke({\"messages\": input_message}, config)\n",
    "\n",
    "# Mostrar los mensajes resultantes del primer paso\n",
    "for m in output[\"messages\"]:\n",
    "    m.pretty_print()"
   ]
  },
  {
   "cell_type": "code",
   "execution_count": null,
   "metadata": {},
   "outputs": [],
   "source": [
    "# Start conversation, again\n",
    "config = {\"configurable\": {\"thread_id\": \"3\"}}\n",
    "\n",
    "# Specify an input\n",
    "input_message = HumanMessage(content=\"segun tu conocimiento que me recomiendas?\")\n",
    "output = graph.invoke({\"messages\": input_message}, config)\n",
    "\n",
    "# Mostrar los mensajes resultantes del primer paso\n",
    "for m in output[\"messages\"]:\n",
    "    m.pretty_print()"
   ]
  },
  {
   "cell_type": "code",
   "execution_count": null,
   "metadata": {},
   "outputs": [],
   "source": [
    "# Start conversation, again\n",
    "config = {\"configurable\": {\"thread_id\": \"3\"}}\n",
    "\n",
    "# Specify an input\n",
    "input_message = HumanMessage(content=\"pues SUV estaria bien y presupuesto hasta  12.000\")\n",
    "output = graph.invoke({\"messages\": input_message}, config)\n",
    "\n",
    "# Mostrar los mensajes resultantes del primer paso\n",
    "for m in output[\"messages\"]:\n",
    "    m.pretty_print()"
   ]
  },
  {
   "cell_type": "code",
   "execution_count": null,
   "metadata": {},
   "outputs": [],
   "source": [
    "# Start conversation, again\n",
    "config = {\"configurable\": {\"thread_id\": \"3\"}}\n",
    "\n",
    "# Specify an input\n",
    "input_message = HumanMessage(content=\"diesel o gasolina esta bien\")\n",
    "output = graph.invoke({\"messages\": input_message}, config)\n",
    "\n",
    "# Mostrar los mensajes resultantes del primer paso\n",
    "for m in output[\"messages\"]:\n",
    "    m.pretty_print()"
   ]
  },
  {
   "cell_type": "code",
   "execution_count": null,
   "metadata": {},
   "outputs": [],
   "source": [
    "# Start conversation, again\n",
    "config = {\"configurable\": {\"thread_id\": \"3\"}}\n",
    "\n",
    "# Specify an input\n",
    "input_message = HumanMessage(content=\"vale maximo 10 años\")\n",
    "output = graph.invoke({\"messages\": input_message}, config)\n",
    "\n",
    "# Mostrar los mensajes resultantes del primer paso\n",
    "for m in output[\"messages\"]:\n",
    "    m.pretty_print()"
   ]
  }
 ],
 "metadata": {
  "kernelspec": {
   "display_name": "car_env",
   "language": "python",
   "name": "python3"
  },
  "language_info": {
   "codemirror_mode": {
    "name": "ipython",
    "version": 3
   },
   "file_extension": ".py",
   "mimetype": "text/x-python",
   "name": "python",
   "nbconvert_exporter": "python",
   "pygments_lexer": "ipython3",
   "version": "3.11.5"
  }
 },
 "nbformat": 4,
 "nbformat_minor": 2
}
