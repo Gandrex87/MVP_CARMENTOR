{
 "cells": [
  {
   "cell_type": "code",
   "execution_count": 1,
   "id": "e9f5b27e",
   "metadata": {},
   "outputs": [],
   "source": [
    "from utils.enums import Enum\n",
    "from utils.bigquery_tools import buscar_producto_bd_solo_filtros\n",
    "\n",
    "class TipoMecanica(Enum):\n",
    "    GASOLINA = \"GASOLINA\"\n",
    "    DIESEL = \"DIESEL\"\n",
    "\n",
    "# Dict de filtros (solo lo que tu lógica acepta)\n",
    "filtros_test = {\n",
    "    'solo_electricos': 'no',\n",
    "    'tipo_carroceria': ['SUV', 'PICKUP'],\n",
    "    'tipo_mecanica': [TipoMecanica.GASOLINA, TipoMecanica.DIESEL]\n",
    "}\n",
    "\n",
    "# Dict de pesos (soft weights)\n",
    "pesos_test = {\n",
    "    'estetica': 0.03,\n",
    "    'premium': 0.16,\n",
    "    'singular': 0.16,\n",
    "    'altura_libre_suelo': 0.06,\n",
    "    'traccion': 0.32,\n",
    "    'reductoras': 0.25\n",
    "}\n"
   ]
  },
  {
   "cell_type": "code",
   "execution_count": 2,
   "id": "0f2b1aa4",
   "metadata": {},
   "outputs": [
    {
     "name": "stdout",
     "output_type": "stream",
     "text": [
      "🧠 SQL que se ejecuta:\n",
      "\n",
      "    SELECT\n",
      "      nombre,\n",
      "      ID,\n",
      "      marca,\n",
      "      modelo,\n",
      "      cambio_automatico,\n",
      "      tipo_mecanica,\n",
      "      tipo_carroceria,\n",
      "      indice_altura_interior,\n",
      "      batalla,\n",
      "      estetica,\n",
      "      premium,\n",
      "      singular,\n",
      "      altura_libre_suelo,\n",
      "      traccion,\n",
      "      reductoras,\n",
      "      (\n",
      "        estetica * @peso_estetica\n",
      "        + premium * @peso_premium\n",
      "        + singular * @peso_singular\n",
      "        + indice_altura_interior/1000 * @peso_altura\n",
      "        + batalla/1000 * @peso_batalla\n",
      "        + CASE\n",
      "            WHEN traccion = 'ALL' THEN 1.0\n",
      "            WHEN traccion = 'RWD' THEN 0.5\n",
      "            ELSE 0.0\n",
      "          END * @peso_traccion\n",
      "        + (CASE WHEN reductoras THEN 1 ELSE 0 END) * @peso_reductoras\n",
      "      ) AS score_total\n",
      "    FROM `web_cars.match_coches_pruebas`\n",
      "    WHERE 1=1\n",
      "      AND cambio_automatico = TRUE\n",
      "    \n",
      "      AND tipo_carroceria IN UNNEST(@tipo_carroceria)\n",
      "    ORDER BY score_total DESC\n",
      "    LIMIT @k\n",
      "\n",
      "🚗 Bentley Bentayga GASOLINA SUV | Score: 6.625\n",
      "🚗 Bentley Bentayga GASOLINA SUV | Score: 6.625\n",
      "🚗 Aston Martin DBX GASOLINA SUV | Score: 6.56\n",
      "🚗 Aston Martin DBX GASOLINA SUV | Score: 6.56\n",
      "🚗 Maserati Levante GASOLINA SUV | Score: 6.504\n",
      "🚗 Maserati Levante MHEVG SUV | Score: 6.504\n",
      "🚗 Maserati Levante DIESEL SUV | Score: 6.504\n",
      "🚗 Maserati Levante GASOLINA SUV | Score: 6.504\n",
      "🚗 Maserati Levante GASOLINA SUV | Score: 6.504\n",
      "🚗 Maserati Levante GASOLINA SUV | Score: 6.504\n"
     ]
    }
   ],
   "source": [
    "resultados = buscar_producto_bd_solo_filtros(filtros_test, pesos_test, k=10)\n",
    "for coche in resultados:\n",
    "    print(\"🚗\", coche['marca'], coche['modelo'], coche['tipo_mecanica'], coche['tipo_carroceria'], \"| Score:\", round(coche['score_total'], 3))\n",
    "\n"
   ]
  }
 ],
 "metadata": {
  "kernelspec": {
   "display_name": "car_env",
   "language": "python",
   "name": "python3"
  },
  "language_info": {
   "codemirror_mode": {
    "name": "ipython",
    "version": 3
   },
   "file_extension": ".py",
   "mimetype": "text/x-python",
   "name": "python",
   "nbconvert_exporter": "python",
   "pygments_lexer": "ipython3",
   "version": "3.11.5"
  }
 },
 "nbformat": 4,
 "nbformat_minor": 5
}
